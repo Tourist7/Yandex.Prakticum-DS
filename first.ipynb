{
 "cells": [
  {
   "cell_type": "markdown",
   "metadata": {},
   "source": [
    "# Исследование надёжности заёмщиков\n",
    "\n",
    "Заказчик — кредитный отдел банка. Нужно разобраться, влияет ли семейное положение и количество детей клиента на факт погашения кредита в срок. Входные данные от банка — статистика о платёжеспособности клиентов.\n",
    "\n",
    "Результаты исследования будут учтены при построении модели **кредитного скоринга** — специальной системы, которая оценивает способность потенциального заёмщика вернуть кредит банку."
   ]
  },
  {
   "cell_type": "markdown",
   "metadata": {},
   "source": [
    "## Откройте файл с данными и изучите общую информацию"
   ]
  },
  {
   "cell_type": "code",
   "execution_count": 1,
   "metadata": {},
   "outputs": [],
   "source": [
    "import pandas as pd\n",
    "from pymystem3 import Mystem\n",
    "from collections import Counter\n",
    "m = Mystem()"
   ]
  },
  {
   "cell_type": "code",
   "execution_count": 2,
   "metadata": {
    "scrolled": false
   },
   "outputs": [
    {
     "data": {
      "text/html": [
       "<div>\n",
       "<style scoped>\n",
       "    .dataframe tbody tr th:only-of-type {\n",
       "        vertical-align: middle;\n",
       "    }\n",
       "\n",
       "    .dataframe tbody tr th {\n",
       "        vertical-align: top;\n",
       "    }\n",
       "\n",
       "    .dataframe thead th {\n",
       "        text-align: right;\n",
       "    }\n",
       "</style>\n",
       "<table border=\"1\" class=\"dataframe\">\n",
       "  <thead>\n",
       "    <tr style=\"text-align: right;\">\n",
       "      <th></th>\n",
       "      <th>children</th>\n",
       "      <th>days_employed</th>\n",
       "      <th>dob_years</th>\n",
       "      <th>education</th>\n",
       "      <th>education_id</th>\n",
       "      <th>family_status</th>\n",
       "      <th>family_status_id</th>\n",
       "      <th>gender</th>\n",
       "      <th>income_type</th>\n",
       "      <th>debt</th>\n",
       "      <th>total_income</th>\n",
       "      <th>purpose</th>\n",
       "    </tr>\n",
       "  </thead>\n",
       "  <tbody>\n",
       "    <tr>\n",
       "      <td>0</td>\n",
       "      <td>1</td>\n",
       "      <td>-8437.673028</td>\n",
       "      <td>42</td>\n",
       "      <td>высшее</td>\n",
       "      <td>0</td>\n",
       "      <td>женат / замужем</td>\n",
       "      <td>0</td>\n",
       "      <td>F</td>\n",
       "      <td>сотрудник</td>\n",
       "      <td>0</td>\n",
       "      <td>253875.639453</td>\n",
       "      <td>покупка жилья</td>\n",
       "    </tr>\n",
       "    <tr>\n",
       "      <td>1</td>\n",
       "      <td>1</td>\n",
       "      <td>-4024.803754</td>\n",
       "      <td>36</td>\n",
       "      <td>среднее</td>\n",
       "      <td>1</td>\n",
       "      <td>женат / замужем</td>\n",
       "      <td>0</td>\n",
       "      <td>F</td>\n",
       "      <td>сотрудник</td>\n",
       "      <td>0</td>\n",
       "      <td>112080.014102</td>\n",
       "      <td>приобретение автомобиля</td>\n",
       "    </tr>\n",
       "    <tr>\n",
       "      <td>2</td>\n",
       "      <td>0</td>\n",
       "      <td>-5623.422610</td>\n",
       "      <td>33</td>\n",
       "      <td>Среднее</td>\n",
       "      <td>1</td>\n",
       "      <td>женат / замужем</td>\n",
       "      <td>0</td>\n",
       "      <td>M</td>\n",
       "      <td>сотрудник</td>\n",
       "      <td>0</td>\n",
       "      <td>145885.952297</td>\n",
       "      <td>покупка жилья</td>\n",
       "    </tr>\n",
       "    <tr>\n",
       "      <td>3</td>\n",
       "      <td>3</td>\n",
       "      <td>-4124.747207</td>\n",
       "      <td>32</td>\n",
       "      <td>среднее</td>\n",
       "      <td>1</td>\n",
       "      <td>женат / замужем</td>\n",
       "      <td>0</td>\n",
       "      <td>M</td>\n",
       "      <td>сотрудник</td>\n",
       "      <td>0</td>\n",
       "      <td>267628.550329</td>\n",
       "      <td>дополнительное образование</td>\n",
       "    </tr>\n",
       "    <tr>\n",
       "      <td>4</td>\n",
       "      <td>0</td>\n",
       "      <td>340266.072047</td>\n",
       "      <td>53</td>\n",
       "      <td>среднее</td>\n",
       "      <td>1</td>\n",
       "      <td>гражданский брак</td>\n",
       "      <td>1</td>\n",
       "      <td>F</td>\n",
       "      <td>пенсионер</td>\n",
       "      <td>0</td>\n",
       "      <td>158616.077870</td>\n",
       "      <td>сыграть свадьбу</td>\n",
       "    </tr>\n",
       "  </tbody>\n",
       "</table>\n",
       "</div>"
      ],
      "text/plain": [
       "   children  days_employed  dob_years education  education_id  \\\n",
       "0         1   -8437.673028         42    высшее             0   \n",
       "1         1   -4024.803754         36   среднее             1   \n",
       "2         0   -5623.422610         33   Среднее             1   \n",
       "3         3   -4124.747207         32   среднее             1   \n",
       "4         0  340266.072047         53   среднее             1   \n",
       "\n",
       "      family_status  family_status_id gender income_type  debt   total_income  \\\n",
       "0   женат / замужем                 0      F   сотрудник     0  253875.639453   \n",
       "1   женат / замужем                 0      F   сотрудник     0  112080.014102   \n",
       "2   женат / замужем                 0      M   сотрудник     0  145885.952297   \n",
       "3   женат / замужем                 0      M   сотрудник     0  267628.550329   \n",
       "4  гражданский брак                 1      F   пенсионер     0  158616.077870   \n",
       "\n",
       "                      purpose  \n",
       "0               покупка жилья  \n",
       "1     приобретение автомобиля  \n",
       "2               покупка жилья  \n",
       "3  дополнительное образование  \n",
       "4             сыграть свадьбу  "
      ]
     },
     "metadata": {},
     "output_type": "display_data"
    },
    {
     "name": "stdout",
     "output_type": "stream",
     "text": [
      "\n",
      "<class 'pandas.core.frame.DataFrame'>\n",
      "RangeIndex: 21525 entries, 0 to 21524\n",
      "Data columns (total 12 columns):\n",
      "children            21525 non-null int64\n",
      "days_employed       19351 non-null float64\n",
      "dob_years           21525 non-null int64\n",
      "education           21525 non-null object\n",
      "education_id        21525 non-null int64\n",
      "family_status       21525 non-null object\n",
      "family_status_id    21525 non-null int64\n",
      "gender              21525 non-null object\n",
      "income_type         21525 non-null object\n",
      "debt                21525 non-null int64\n",
      "total_income        19351 non-null float64\n",
      "purpose             21525 non-null object\n",
      "dtypes: float64(2), int64(5), object(5)\n",
      "memory usage: 2.0+ MB\n"
     ]
    }
   ],
   "source": [
    "df = pd.read_csv('/datasets/data.csv') # читаем файл /datasets/data.csv и сохраняем его как df\n",
    "display(df.head(5))\n",
    "print() # разделим пустой строчкой\n",
    "df.info() # выводим на экран информацию о файле"
   ]
  },
  {
   "cell_type": "markdown",
   "metadata": {},
   "source": [
    "Посмотрим наименование столбцов, все ли в них правильно. "
   ]
  },
  {
   "cell_type": "code",
   "execution_count": 3,
   "metadata": {
    "scrolled": false
   },
   "outputs": [
    {
     "name": "stdout",
     "output_type": "stream",
     "text": [
      "Index(['children', 'days_employed', 'dob_years', 'education', 'education_id',\n",
      "       'family_status', 'family_status_id', 'gender', 'income_type', 'debt',\n",
      "       'total_income', 'purpose'],\n",
      "      dtype='object')\n"
     ]
    }
   ],
   "source": [
    "print(df.columns)"
   ]
  },
  {
   "cell_type": "markdown",
   "metadata": {},
   "source": [
    "Название столбцов правильное. Все корректно - ошибок нет"
   ]
  },
  {
   "cell_type": "markdown",
   "metadata": {},
   "source": [
    "Посмотрим сводные данные по файлу."
   ]
  },
  {
   "cell_type": "code",
   "execution_count": 4,
   "metadata": {},
   "outputs": [
    {
     "data": {
      "text/html": [
       "<div>\n",
       "<style scoped>\n",
       "    .dataframe tbody tr th:only-of-type {\n",
       "        vertical-align: middle;\n",
       "    }\n",
       "\n",
       "    .dataframe tbody tr th {\n",
       "        vertical-align: top;\n",
       "    }\n",
       "\n",
       "    .dataframe thead th {\n",
       "        text-align: right;\n",
       "    }\n",
       "</style>\n",
       "<table border=\"1\" class=\"dataframe\">\n",
       "  <thead>\n",
       "    <tr style=\"text-align: right;\">\n",
       "      <th></th>\n",
       "      <th>children</th>\n",
       "      <th>days_employed</th>\n",
       "      <th>dob_years</th>\n",
       "      <th>education_id</th>\n",
       "      <th>family_status_id</th>\n",
       "      <th>debt</th>\n",
       "      <th>total_income</th>\n",
       "    </tr>\n",
       "  </thead>\n",
       "  <tbody>\n",
       "    <tr>\n",
       "      <td>count</td>\n",
       "      <td>21525.000000</td>\n",
       "      <td>19351.000000</td>\n",
       "      <td>21525.000000</td>\n",
       "      <td>21525.000000</td>\n",
       "      <td>21525.000000</td>\n",
       "      <td>21525.000000</td>\n",
       "      <td>1.935100e+04</td>\n",
       "    </tr>\n",
       "    <tr>\n",
       "      <td>mean</td>\n",
       "      <td>0.538908</td>\n",
       "      <td>63046.497661</td>\n",
       "      <td>43.293380</td>\n",
       "      <td>0.817236</td>\n",
       "      <td>0.972544</td>\n",
       "      <td>0.080883</td>\n",
       "      <td>1.674223e+05</td>\n",
       "    </tr>\n",
       "    <tr>\n",
       "      <td>std</td>\n",
       "      <td>1.381587</td>\n",
       "      <td>140827.311974</td>\n",
       "      <td>12.574584</td>\n",
       "      <td>0.548138</td>\n",
       "      <td>1.420324</td>\n",
       "      <td>0.272661</td>\n",
       "      <td>1.029716e+05</td>\n",
       "    </tr>\n",
       "    <tr>\n",
       "      <td>min</td>\n",
       "      <td>-1.000000</td>\n",
       "      <td>-18388.949901</td>\n",
       "      <td>0.000000</td>\n",
       "      <td>0.000000</td>\n",
       "      <td>0.000000</td>\n",
       "      <td>0.000000</td>\n",
       "      <td>2.066726e+04</td>\n",
       "    </tr>\n",
       "    <tr>\n",
       "      <td>25%</td>\n",
       "      <td>0.000000</td>\n",
       "      <td>-2747.423625</td>\n",
       "      <td>33.000000</td>\n",
       "      <td>1.000000</td>\n",
       "      <td>0.000000</td>\n",
       "      <td>0.000000</td>\n",
       "      <td>1.030532e+05</td>\n",
       "    </tr>\n",
       "    <tr>\n",
       "      <td>50%</td>\n",
       "      <td>0.000000</td>\n",
       "      <td>-1203.369529</td>\n",
       "      <td>42.000000</td>\n",
       "      <td>1.000000</td>\n",
       "      <td>0.000000</td>\n",
       "      <td>0.000000</td>\n",
       "      <td>1.450179e+05</td>\n",
       "    </tr>\n",
       "    <tr>\n",
       "      <td>75%</td>\n",
       "      <td>1.000000</td>\n",
       "      <td>-291.095954</td>\n",
       "      <td>53.000000</td>\n",
       "      <td>1.000000</td>\n",
       "      <td>1.000000</td>\n",
       "      <td>0.000000</td>\n",
       "      <td>2.034351e+05</td>\n",
       "    </tr>\n",
       "    <tr>\n",
       "      <td>max</td>\n",
       "      <td>20.000000</td>\n",
       "      <td>401755.400475</td>\n",
       "      <td>75.000000</td>\n",
       "      <td>4.000000</td>\n",
       "      <td>4.000000</td>\n",
       "      <td>1.000000</td>\n",
       "      <td>2.265604e+06</td>\n",
       "    </tr>\n",
       "  </tbody>\n",
       "</table>\n",
       "</div>"
      ],
      "text/plain": [
       "           children  days_employed     dob_years  education_id  \\\n",
       "count  21525.000000   19351.000000  21525.000000  21525.000000   \n",
       "mean       0.538908   63046.497661     43.293380      0.817236   \n",
       "std        1.381587  140827.311974     12.574584      0.548138   \n",
       "min       -1.000000  -18388.949901      0.000000      0.000000   \n",
       "25%        0.000000   -2747.423625     33.000000      1.000000   \n",
       "50%        0.000000   -1203.369529     42.000000      1.000000   \n",
       "75%        1.000000    -291.095954     53.000000      1.000000   \n",
       "max       20.000000  401755.400475     75.000000      4.000000   \n",
       "\n",
       "       family_status_id          debt  total_income  \n",
       "count      21525.000000  21525.000000  1.935100e+04  \n",
       "mean           0.972544      0.080883  1.674223e+05  \n",
       "std            1.420324      0.272661  1.029716e+05  \n",
       "min            0.000000      0.000000  2.066726e+04  \n",
       "25%            0.000000      0.000000  1.030532e+05  \n",
       "50%            0.000000      0.000000  1.450179e+05  \n",
       "75%            1.000000      0.000000  2.034351e+05  \n",
       "max            4.000000      1.000000  2.265604e+06  "
      ]
     },
     "execution_count": 4,
     "metadata": {},
     "output_type": "execute_result"
    }
   ],
   "source": [
    "df.describe()"
   ]
  },
  {
   "cell_type": "markdown",
   "metadata": {},
   "source": [
    "**Вывод**\n",
    "\n",
    "Количество строк - 21525, 12 столбцов.\n",
    "- По столбцу children (количество детей в семье) видим отрицательное значение и количество детей 20.\n",
    "- По стообцу days_employed (общий трудовой стаж в днях) видим отрицательные значения, может быть значения не одного формата (есть 401755 (если в днях более 1100 дней), -291, -18388), и пустые значения (19351 строчка, вместо 21525)\n",
    "- По столбцу dob_years (возраст клиента в годах) все хорошо.\n",
    "- По столбцу education (уровень образования клиента)- видим использование разных регистров.\n",
    "- По столбцу education_id (идентификатор уровня образования) - все хорошо.\n",
    "- По столбцу family_status_id (family_status_id) - все хорошо.\n",
    "- По столбцу family_status (семейное положение) - не видно замечаний. \n",
    "- По столбцу gender (пол клиента) - не видим замечаний.\n",
    "- По столбцу income_type (income_type) - не видим замечаний.\n",
    "- По столбцу debt (имел ли задолженность по возврату кредитов) - не видим замечаний.\n",
    "- По столбцу total_income (ежемесячный доход) - видим формат с плавающей точкой, насколько он необходим.\n",
    "- По столбцу purpose (цель получения кредита) - типы кредитов не записаны корректно, есть одинаковые цели, но называются по разному\n",
    "\n",
    "Данные требуют корректировки."
   ]
  },
  {
   "cell_type": "markdown",
   "metadata": {},
   "source": [
    "### Обработка пропусков"
   ]
  },
  {
   "cell_type": "code",
   "execution_count": 5,
   "metadata": {
    "scrolled": false
   },
   "outputs": [
    {
     "data": {
      "text/plain": [
       "children               0\n",
       "days_employed       2174\n",
       "dob_years              0\n",
       "education              0\n",
       "education_id           0\n",
       "family_status          0\n",
       "family_status_id       0\n",
       "gender                 0\n",
       "income_type            0\n",
       "debt                   0\n",
       "total_income        2174\n",
       "purpose                0\n",
       "dtype: int64"
      ]
     },
     "execution_count": 5,
     "metadata": {},
     "output_type": "execute_result"
    }
   ],
   "source": [
    "df.isnull().sum() "
   ]
  },
  {
   "cell_type": "markdown",
   "metadata": {},
   "source": [
    "Посмотрели суммарное количество пропусков - видим в столбце days_employed (трудовой стаж) и total_income (ежемесячный доход) 2174 пустых значения. Это примерно 10% и надо выяснять причину отсутствия данных."
   ]
  },
  {
   "cell_type": "markdown",
   "metadata": {},
   "source": [
    "Пропущенные значения в столбце доход, будем смотреть по медианному значению от типа занятости. \n",
    "Посмотрим, где пропущены значения по зарплате"
   ]
  },
  {
   "cell_type": "code",
   "execution_count": 6,
   "metadata": {},
   "outputs": [
    {
     "data": {
      "text/plain": [
       "сотрудник          1105\n",
       "компаньон           508\n",
       "пенсионер           413\n",
       "госслужащий         147\n",
       "предприниматель       1\n",
       "Name: income_type, dtype: int64"
      ]
     },
     "execution_count": 6,
     "metadata": {},
     "output_type": "execute_result"
    }
   ],
   "source": [
    "df.loc[df['total_income'].isnull(), 'income_type'].value_counts()"
   ]
  },
  {
   "cell_type": "markdown",
   "metadata": {},
   "source": [
    "Найдем среднее по этим категориям"
   ]
  },
  {
   "cell_type": "code",
   "execution_count": 7,
   "metadata": {},
   "outputs": [
    {
     "data": {
      "text/plain": [
       "income_type\n",
       "безработный        131340.0\n",
       "в декрете           53829.0\n",
       "госслужащий        150448.0\n",
       "компаньон          172358.0\n",
       "пенсионер          118514.0\n",
       "предприниматель    499163.0\n",
       "сотрудник          142594.0\n",
       "студент             98202.0\n",
       "Name: total_income, dtype: float64"
      ]
     },
     "execution_count": 7,
     "metadata": {},
     "output_type": "execute_result"
    }
   ],
   "source": [
    "median_total_income = df.groupby('income_type')['total_income'].median()\n",
    "round(median_total_income) # округляем значения по математическим правилам"
   ]
  },
  {
   "cell_type": "markdown",
   "metadata": {},
   "source": [
    "Заменим значения в столбце "
   ]
  },
  {
   "cell_type": "code",
   "execution_count": 8,
   "metadata": {
    "scrolled": true
   },
   "outputs": [
    {
     "data": {
      "text/plain": [
       "children               0\n",
       "days_employed       2174\n",
       "dob_years              0\n",
       "education              0\n",
       "education_id           0\n",
       "family_status          0\n",
       "family_status_id       0\n",
       "gender                 0\n",
       "income_type            0\n",
       "debt                   0\n",
       "total_income           0\n",
       "purpose                0\n",
       "dtype: int64"
      ]
     },
     "execution_count": 8,
     "metadata": {},
     "output_type": "execute_result"
    }
   ],
   "source": [
    "df.loc[(df['total_income'].isnull()) & (df['income_type'] == 'сотрудник'), 'total_income'] = median_total_income[6]\n",
    "df.loc[(df['total_income'].isnull()) & (df['income_type'] == 'компаньон'), 'total_income'] = median_total_income[3]\n",
    "df.loc[(df['total_income'].isnull()) & (df['income_type'] == 'пенсионер'), 'total_income'] = median_total_income[4]\n",
    "df.loc[(df['total_income'].isnull()) & (df['income_type'] == 'госслужащий'), 'total_income'] = median_total_income[2]\n",
    "df.loc[(df['total_income'].isnull()) & (df['income_type'] == 'предприниматель'), 'total_income'] = median_total_income[5]\n",
    "df.isnull().sum() # проверяем выполнение замены"
   ]
  },
  {
   "cell_type": "markdown",
   "metadata": {},
   "source": [
    "Посмотрим какие есть значения в столбце возраст"
   ]
  },
  {
   "cell_type": "code",
   "execution_count": 9,
   "metadata": {
    "scrolled": true
   },
   "outputs": [
    {
     "data": {
      "text/plain": [
       "0     101\n",
       "19     14\n",
       "20     51\n",
       "21    111\n",
       "22    183\n",
       "23    254\n",
       "24    264\n",
       "25    357\n",
       "26    408\n",
       "27    493\n",
       "28    503\n",
       "29    545\n",
       "30    540\n",
       "31    560\n",
       "32    510\n",
       "33    581\n",
       "34    603\n",
       "35    617\n",
       "36    555\n",
       "37    537\n",
       "38    598\n",
       "39    573\n",
       "40    609\n",
       "41    607\n",
       "42    597\n",
       "43    513\n",
       "44    547\n",
       "45    497\n",
       "46    475\n",
       "47    480\n",
       "48    538\n",
       "49    508\n",
       "50    514\n",
       "51    448\n",
       "52    484\n",
       "53    459\n",
       "54    479\n",
       "55    443\n",
       "56    487\n",
       "57    460\n",
       "58    461\n",
       "59    444\n",
       "60    377\n",
       "61    355\n",
       "62    352\n",
       "63    269\n",
       "64    265\n",
       "65    194\n",
       "66    183\n",
       "67    167\n",
       "68     99\n",
       "69     85\n",
       "70     65\n",
       "71     58\n",
       "72     33\n",
       "73      8\n",
       "74      6\n",
       "75      1\n",
       "Name: dob_years, dtype: int64"
      ]
     },
     "execution_count": 9,
     "metadata": {},
     "output_type": "execute_result"
    }
   ],
   "source": [
    "df['dob_years'].value_counts().sort_index(ascending=True)"
   ]
  },
  {
   "cell_type": "markdown",
   "metadata": {},
   "source": [
    "Видим не правильное значение - 0 лет"
   ]
  },
  {
   "cell_type": "markdown",
   "metadata": {},
   "source": [
    "Будем считать возраст от медианного возраста по категории тип занятости, а также посмотрим категории, где есть пустые значения."
   ]
  },
  {
   "cell_type": "code",
   "execution_count": 10,
   "metadata": {},
   "outputs": [
    {
     "data": {
      "text/plain": [
       "сотрудник      55\n",
       "пенсионер      20\n",
       "компаньон      20\n",
       "госслужащий     6\n",
       "Name: income_type, dtype: int64"
      ]
     },
     "execution_count": 10,
     "metadata": {},
     "output_type": "execute_result"
    }
   ],
   "source": [
    "df.loc[df['dob_years'] == 0, 'income_type'].value_counts()"
   ]
  },
  {
   "cell_type": "markdown",
   "metadata": {},
   "source": [
    "Вычислим медианный возраст в категори тип занятости"
   ]
  },
  {
   "cell_type": "code",
   "execution_count": 11,
   "metadata": {},
   "outputs": [
    {
     "data": {
      "text/plain": [
       "income_type\n",
       "безработный        38.0\n",
       "в декрете          39.0\n",
       "госслужащий        40.0\n",
       "компаньон          39.0\n",
       "пенсионер          60.0\n",
       "предприниматель    42.5\n",
       "сотрудник          39.0\n",
       "студент            22.0\n",
       "Name: dob_years, dtype: float64"
      ]
     },
     "execution_count": 11,
     "metadata": {},
     "output_type": "execute_result"
    }
   ],
   "source": [
    "age_median = df.groupby('income_type')['dob_years'].median()\n",
    "age_median"
   ]
  },
  {
   "cell_type": "markdown",
   "metadata": {},
   "source": [
    "Заменим нулевые значения на медианы и проверим все ли нули исправили. "
   ]
  },
  {
   "cell_type": "code",
   "execution_count": 12,
   "metadata": {
    "scrolled": true
   },
   "outputs": [
    {
     "data": {
      "text/plain": [
       "19.0     14\n",
       "20.0     51\n",
       "21.0    111\n",
       "22.0    183\n",
       "23.0    254\n",
       "24.0    264\n",
       "25.0    357\n",
       "26.0    408\n",
       "27.0    493\n",
       "28.0    503\n",
       "29.0    545\n",
       "30.0    540\n",
       "31.0    560\n",
       "32.0    510\n",
       "33.0    581\n",
       "34.0    603\n",
       "35.0    617\n",
       "36.0    555\n",
       "37.0    537\n",
       "38.0    598\n",
       "39.0    648\n",
       "40.0    615\n",
       "41.0    607\n",
       "42.0    597\n",
       "43.0    513\n",
       "44.0    547\n",
       "45.0    497\n",
       "46.0    475\n",
       "47.0    480\n",
       "48.0    538\n",
       "49.0    508\n",
       "50.0    514\n",
       "51.0    448\n",
       "52.0    484\n",
       "53.0    459\n",
       "54.0    479\n",
       "55.0    443\n",
       "56.0    487\n",
       "57.0    460\n",
       "58.0    461\n",
       "59.0    444\n",
       "60.0    397\n",
       "61.0    355\n",
       "62.0    352\n",
       "63.0    269\n",
       "64.0    265\n",
       "65.0    194\n",
       "66.0    183\n",
       "67.0    167\n",
       "68.0     99\n",
       "69.0     85\n",
       "70.0     65\n",
       "71.0     58\n",
       "72.0     33\n",
       "73.0      8\n",
       "74.0      6\n",
       "75.0      1\n",
       "Name: dob_years, dtype: int64"
      ]
     },
     "execution_count": 12,
     "metadata": {},
     "output_type": "execute_result"
    }
   ],
   "source": [
    "df.loc[(df['dob_years'] == 0) & (df['income_type'] == 'сотрудник'), 'dob_years'] = age_median[6]\n",
    "df.loc[(df['dob_years'] == 0) & (df['income_type'] == 'пенсионер'), 'dob_years'] = age_median[4]\n",
    "df.loc[(df['dob_years'] == 0) & (df['income_type'] == 'компаньон'), 'dob_years'] = age_median[3]\n",
    "df.loc[(df['dob_years'] == 0) & (df['income_type'] == 'госслужащий'), 'dob_years'] = age_median[2]\n",
    "\n",
    "df['dob_years'].value_counts().sort_index(ascending=True)"
   ]
  },
  {
   "cell_type": "markdown",
   "metadata": {},
   "source": [
    "Посмотрим количество значений по столбцу дети. "
   ]
  },
  {
   "cell_type": "code",
   "execution_count": 13,
   "metadata": {},
   "outputs": [
    {
     "data": {
      "text/plain": [
       " 0     14149\n",
       " 1      4818\n",
       " 2      2055\n",
       " 3       330\n",
       " 20       76\n",
       "-1        47\n",
       " 4        41\n",
       " 5         9\n",
       "Name: children, dtype: int64"
      ]
     },
     "execution_count": 13,
     "metadata": {},
     "output_type": "execute_result"
    }
   ],
   "source": [
    "df['children'].value_counts()"
   ]
  },
  {
   "cell_type": "markdown",
   "metadata": {},
   "source": [
    "Видим, что у 76 клиентов 20 детей, считаем, что это ошибка и меняем это число на 2\n",
    "Значение -1 вероятно является ошибкой, заменим на 1.\n",
    "И опять предложим коллегам внести изменение в программу для внесения записей о клиентах, выбирать из словаря и проверка на дурака - то есть когда более 3 детей, чтобы программа уточняла - точно столько-то детей?"
   ]
  },
  {
   "cell_type": "code",
   "execution_count": 14,
   "metadata": {
    "scrolled": true
   },
   "outputs": [
    {
     "data": {
      "text/plain": [
       "0    14149\n",
       "1     4865\n",
       "2     2131\n",
       "3      330\n",
       "4       41\n",
       "5        9\n",
       "Name: children, dtype: int64"
      ]
     },
     "execution_count": 14,
     "metadata": {},
     "output_type": "execute_result"
    }
   ],
   "source": [
    "df.loc[df['children'] == 20, 'children'] = 2    # указыаем, что 20 в столбце children = 2\n",
    "df.loc[df['children'] == -1, 'children'] = 1    # указыаем, что -1 в столбце children = 1\n",
    "df['children'].value_counts() # проверяем результат"
   ]
  },
  {
   "cell_type": "markdown",
   "metadata": {},
   "source": [
    "Посмотрим значения в столбеце dob_years и сортируем по возростанию.\n",
    "Значения в столбце 'days_employed' требует уточнения у сотрудников, кто его дал. Значения достигают 1018 лет, если значения предоставлены в днях."
   ]
  },
  {
   "cell_type": "code",
   "execution_count": 15,
   "metadata": {},
   "outputs": [
    {
     "data": {
      "text/plain": [
       "Series([], Name: days_employed, dtype: int64)"
      ]
     },
     "execution_count": 15,
     "metadata": {},
     "output_type": "execute_result"
    }
   ],
   "source": [
    "df.loc[df['dob_years'] == 0, 'days_employed'].value_counts().sort_index(ascending=True) "
   ]
  },
  {
   "cell_type": "markdown",
   "metadata": {},
   "source": [
    "Найдем стаж \"days_employed\" по медианному значению возроста.\n",
    "Значения в годах у нас от 19 до 75 лет (75-19=56, разделим на 4 группы по 14 лет)\n",
    "1 группа 19 - 33\n",
    "2 группа 34 - 47\n",
    "3 группа 48 - 61\n",
    "4 группа 62 - 75"
   ]
  },
  {
   "cell_type": "code",
   "execution_count": 16,
   "metadata": {},
   "outputs": [
    {
     "data": {
      "text/html": [
       "<div>\n",
       "<style scoped>\n",
       "    .dataframe tbody tr th:only-of-type {\n",
       "        vertical-align: middle;\n",
       "    }\n",
       "\n",
       "    .dataframe tbody tr th {\n",
       "        vertical-align: top;\n",
       "    }\n",
       "\n",
       "    .dataframe thead th {\n",
       "        text-align: right;\n",
       "    }\n",
       "</style>\n",
       "<table border=\"1\" class=\"dataframe\">\n",
       "  <thead>\n",
       "    <tr style=\"text-align: right;\">\n",
       "      <th></th>\n",
       "      <th>children</th>\n",
       "      <th>days_employed</th>\n",
       "      <th>dob_years</th>\n",
       "      <th>education</th>\n",
       "      <th>education_id</th>\n",
       "      <th>family_status</th>\n",
       "      <th>family_status_id</th>\n",
       "      <th>gender</th>\n",
       "      <th>income_type</th>\n",
       "      <th>debt</th>\n",
       "      <th>total_income</th>\n",
       "      <th>purpose</th>\n",
       "      <th>age_group</th>\n",
       "    </tr>\n",
       "  </thead>\n",
       "  <tbody>\n",
       "    <tr>\n",
       "      <td>0</td>\n",
       "      <td>1</td>\n",
       "      <td>-8437.673028</td>\n",
       "      <td>42.0</td>\n",
       "      <td>высшее</td>\n",
       "      <td>0</td>\n",
       "      <td>женат / замужем</td>\n",
       "      <td>0</td>\n",
       "      <td>F</td>\n",
       "      <td>сотрудник</td>\n",
       "      <td>0</td>\n",
       "      <td>253875.639453</td>\n",
       "      <td>покупка жилья</td>\n",
       "      <td>2 группа</td>\n",
       "    </tr>\n",
       "    <tr>\n",
       "      <td>1</td>\n",
       "      <td>1</td>\n",
       "      <td>-4024.803754</td>\n",
       "      <td>36.0</td>\n",
       "      <td>среднее</td>\n",
       "      <td>1</td>\n",
       "      <td>женат / замужем</td>\n",
       "      <td>0</td>\n",
       "      <td>F</td>\n",
       "      <td>сотрудник</td>\n",
       "      <td>0</td>\n",
       "      <td>112080.014102</td>\n",
       "      <td>приобретение автомобиля</td>\n",
       "      <td>2 группа</td>\n",
       "    </tr>\n",
       "    <tr>\n",
       "      <td>2</td>\n",
       "      <td>0</td>\n",
       "      <td>-5623.422610</td>\n",
       "      <td>33.0</td>\n",
       "      <td>Среднее</td>\n",
       "      <td>1</td>\n",
       "      <td>женат / замужем</td>\n",
       "      <td>0</td>\n",
       "      <td>M</td>\n",
       "      <td>сотрудник</td>\n",
       "      <td>0</td>\n",
       "      <td>145885.952297</td>\n",
       "      <td>покупка жилья</td>\n",
       "      <td>1 группа</td>\n",
       "    </tr>\n",
       "    <tr>\n",
       "      <td>3</td>\n",
       "      <td>3</td>\n",
       "      <td>-4124.747207</td>\n",
       "      <td>32.0</td>\n",
       "      <td>среднее</td>\n",
       "      <td>1</td>\n",
       "      <td>женат / замужем</td>\n",
       "      <td>0</td>\n",
       "      <td>M</td>\n",
       "      <td>сотрудник</td>\n",
       "      <td>0</td>\n",
       "      <td>267628.550329</td>\n",
       "      <td>дополнительное образование</td>\n",
       "      <td>1 группа</td>\n",
       "    </tr>\n",
       "    <tr>\n",
       "      <td>4</td>\n",
       "      <td>0</td>\n",
       "      <td>340266.072047</td>\n",
       "      <td>53.0</td>\n",
       "      <td>среднее</td>\n",
       "      <td>1</td>\n",
       "      <td>гражданский брак</td>\n",
       "      <td>1</td>\n",
       "      <td>F</td>\n",
       "      <td>пенсионер</td>\n",
       "      <td>0</td>\n",
       "      <td>158616.077870</td>\n",
       "      <td>сыграть свадьбу</td>\n",
       "      <td>3 группа</td>\n",
       "    </tr>\n",
       "  </tbody>\n",
       "</table>\n",
       "</div>"
      ],
      "text/plain": [
       "   children  days_employed  dob_years education  education_id  \\\n",
       "0         1   -8437.673028       42.0    высшее             0   \n",
       "1         1   -4024.803754       36.0   среднее             1   \n",
       "2         0   -5623.422610       33.0   Среднее             1   \n",
       "3         3   -4124.747207       32.0   среднее             1   \n",
       "4         0  340266.072047       53.0   среднее             1   \n",
       "\n",
       "      family_status  family_status_id gender income_type  debt   total_income  \\\n",
       "0   женат / замужем                 0      F   сотрудник     0  253875.639453   \n",
       "1   женат / замужем                 0      F   сотрудник     0  112080.014102   \n",
       "2   женат / замужем                 0      M   сотрудник     0  145885.952297   \n",
       "3   женат / замужем                 0      M   сотрудник     0  267628.550329   \n",
       "4  гражданский брак                 1      F   пенсионер     0  158616.077870   \n",
       "\n",
       "                      purpose age_group  \n",
       "0               покупка жилья  2 группа  \n",
       "1     приобретение автомобиля  2 группа  \n",
       "2               покупка жилья  1 группа  \n",
       "3  дополнительное образование  1 группа  \n",
       "4             сыграть свадьбу  3 группа  "
      ]
     },
     "metadata": {},
     "output_type": "display_data"
    }
   ],
   "source": [
    "def days_employed(row):                           # поставим условия для обозначения групп\n",
    "    \n",
    "    age = row['dob_years']\n",
    "\n",
    "    if age <= 33:\n",
    "        return '1 группа'\n",
    "    \n",
    "    if age <= 47:\n",
    "        return '2 группа'\n",
    "    \n",
    "    if age <= 61:\n",
    "        return '3 группа'\n",
    "    \n",
    "    if age > 61:\n",
    "        return '4 группа'\n",
    "\n",
    "df['age_group'] = df.apply(days_employed, axis=1)\n",
    "                              \n",
    "display(df.head())  #  применяем и смотрим, что получилось"
   ]
  },
  {
   "cell_type": "markdown",
   "metadata": {},
   "source": [
    "Найдем медианное значение для каждой группы"
   ]
  },
  {
   "cell_type": "code",
   "execution_count": 17,
   "metadata": {},
   "outputs": [
    {
     "name": "stdout",
     "output_type": "stream",
     "text": [
      "age_group\n",
      "1 группа     -1130.581631\n",
      "2 группа     -1802.397660\n",
      "3 группа      -922.040893\n",
      "4 группа    358174.951271\n",
      "Name: days_employed, dtype: float64\n"
     ]
    }
   ],
   "source": [
    "median_days_employed = df.groupby('age_group')['days_employed'].median()\n",
    "print(median_days_employed)"
   ]
  },
  {
   "cell_type": "markdown",
   "metadata": {},
   "source": [
    "Заменяем значения"
   ]
  },
  {
   "cell_type": "code",
   "execution_count": 18,
   "metadata": {},
   "outputs": [
    {
     "data": {
      "text/html": [
       "<div>\n",
       "<style scoped>\n",
       "    .dataframe tbody tr th:only-of-type {\n",
       "        vertical-align: middle;\n",
       "    }\n",
       "\n",
       "    .dataframe tbody tr th {\n",
       "        vertical-align: top;\n",
       "    }\n",
       "\n",
       "    .dataframe thead th {\n",
       "        text-align: right;\n",
       "    }\n",
       "</style>\n",
       "<table border=\"1\" class=\"dataframe\">\n",
       "  <thead>\n",
       "    <tr style=\"text-align: right;\">\n",
       "      <th></th>\n",
       "      <th>children</th>\n",
       "      <th>days_employed</th>\n",
       "      <th>dob_years</th>\n",
       "      <th>education_id</th>\n",
       "      <th>family_status_id</th>\n",
       "      <th>debt</th>\n",
       "      <th>total_income</th>\n",
       "    </tr>\n",
       "  </thead>\n",
       "  <tbody>\n",
       "    <tr>\n",
       "      <td>count</td>\n",
       "      <td>21525.000000</td>\n",
       "      <td>21525.000000</td>\n",
       "      <td>21525.000000</td>\n",
       "      <td>21525.000000</td>\n",
       "      <td>21525.000000</td>\n",
       "      <td>21525.000000</td>\n",
       "      <td>2.152500e+04</td>\n",
       "    </tr>\n",
       "    <tr>\n",
       "      <td>mean</td>\n",
       "      <td>0.479721</td>\n",
       "      <td>59634.322926</td>\n",
       "      <td>43.496167</td>\n",
       "      <td>0.817236</td>\n",
       "      <td>0.972544</td>\n",
       "      <td>0.080883</td>\n",
       "      <td>1.652253e+05</td>\n",
       "    </tr>\n",
       "    <tr>\n",
       "      <td>std</td>\n",
       "      <td>0.755528</td>\n",
       "      <td>137656.024073</td>\n",
       "      <td>12.231538</td>\n",
       "      <td>0.548138</td>\n",
       "      <td>1.420324</td>\n",
       "      <td>0.272661</td>\n",
       "      <td>9.804367e+04</td>\n",
       "    </tr>\n",
       "    <tr>\n",
       "      <td>min</td>\n",
       "      <td>0.000000</td>\n",
       "      <td>-18388.949901</td>\n",
       "      <td>19.000000</td>\n",
       "      <td>0.000000</td>\n",
       "      <td>0.000000</td>\n",
       "      <td>0.000000</td>\n",
       "      <td>2.066726e+04</td>\n",
       "    </tr>\n",
       "    <tr>\n",
       "      <td>25%</td>\n",
       "      <td>0.000000</td>\n",
       "      <td>-2518.168900</td>\n",
       "      <td>34.000000</td>\n",
       "      <td>1.000000</td>\n",
       "      <td>0.000000</td>\n",
       "      <td>0.000000</td>\n",
       "      <td>1.077982e+05</td>\n",
       "    </tr>\n",
       "    <tr>\n",
       "      <td>50%</td>\n",
       "      <td>0.000000</td>\n",
       "      <td>-1143.420356</td>\n",
       "      <td>43.000000</td>\n",
       "      <td>1.000000</td>\n",
       "      <td>0.000000</td>\n",
       "      <td>0.000000</td>\n",
       "      <td>1.425944e+05</td>\n",
       "    </tr>\n",
       "    <tr>\n",
       "      <td>75%</td>\n",
       "      <td>1.000000</td>\n",
       "      <td>-351.114070</td>\n",
       "      <td>53.000000</td>\n",
       "      <td>1.000000</td>\n",
       "      <td>1.000000</td>\n",
       "      <td>0.000000</td>\n",
       "      <td>1.955499e+05</td>\n",
       "    </tr>\n",
       "    <tr>\n",
       "      <td>max</td>\n",
       "      <td>5.000000</td>\n",
       "      <td>401755.400475</td>\n",
       "      <td>75.000000</td>\n",
       "      <td>4.000000</td>\n",
       "      <td>4.000000</td>\n",
       "      <td>1.000000</td>\n",
       "      <td>2.265604e+06</td>\n",
       "    </tr>\n",
       "  </tbody>\n",
       "</table>\n",
       "</div>"
      ],
      "text/plain": [
       "           children  days_employed     dob_years  education_id  \\\n",
       "count  21525.000000   21525.000000  21525.000000  21525.000000   \n",
       "mean       0.479721   59634.322926     43.496167      0.817236   \n",
       "std        0.755528  137656.024073     12.231538      0.548138   \n",
       "min        0.000000  -18388.949901     19.000000      0.000000   \n",
       "25%        0.000000   -2518.168900     34.000000      1.000000   \n",
       "50%        0.000000   -1143.420356     43.000000      1.000000   \n",
       "75%        1.000000    -351.114070     53.000000      1.000000   \n",
       "max        5.000000  401755.400475     75.000000      4.000000   \n",
       "\n",
       "       family_status_id          debt  total_income  \n",
       "count      21525.000000  21525.000000  2.152500e+04  \n",
       "mean           0.972544      0.080883  1.652253e+05  \n",
       "std            1.420324      0.272661  9.804367e+04  \n",
       "min            0.000000      0.000000  2.066726e+04  \n",
       "25%            0.000000      0.000000  1.077982e+05  \n",
       "50%            0.000000      0.000000  1.425944e+05  \n",
       "75%            1.000000      0.000000  1.955499e+05  \n",
       "max            4.000000      1.000000  2.265604e+06  "
      ]
     },
     "execution_count": 18,
     "metadata": {},
     "output_type": "execute_result"
    }
   ],
   "source": [
    "df.loc[(df['days_employed'].isnull()) & (df['age_group'] == '1 группа'), 'days_employed'] = median_days_employed[0]\n",
    "df.loc[(df['days_employed'].isnull()) & (df['age_group'] == '2 группа'), 'days_employed'] = median_days_employed[1]\n",
    "df.loc[(df['days_employed'].isnull()) & (df['age_group'] == '3 группа'), 'days_employed'] = median_days_employed[2]\n",
    "df.loc[(df['days_employed'].isnull()) & (df['age_group'] == '4 группа'), 'days_employed'] = median_days_employed[3]\n",
    "df.describe()"
   ]
  },
  {
   "cell_type": "markdown",
   "metadata": {},
   "source": [
    "**Вывод**\n",
    "\n",
    "- Произвели поиск пропусков и обнаружили одиниковое количесвто пропусков, по 2174 в столбцах \"total_income\" и \"days_employed\".\n",
    "- Произвели обработку пропусков в \"total_income\" используя медиану по типу занятости.\n",
    "- В столбце возраст обнаружили 101 пустое значение, которые заполнили по медианному значению  от типа занятости.\n",
    "- В столбце дети заменили значения -1 и 20 на 1 и 2 применив замену.\n",
    "- Пропущенные значения \"days_employed\" заполнили по медианyому значению возраста.\n",
    "- В этих случаях заполняли по медианному значениях, так как применение \"среднего\" не было бы корректным из-за слишком большого разброса данных.\n",
    "- Пропуски получены или из-за незаполненности базы данных или это ошибка при выгрузке"
   ]
  },
  {
   "cell_type": "markdown",
   "metadata": {},
   "source": [
    "## Предобработка данных"
   ]
  },
  {
   "cell_type": "markdown",
   "metadata": {},
   "source": [
    "### Замена типа данных"
   ]
  },
  {
   "cell_type": "markdown",
   "metadata": {},
   "source": [
    "В столбце days_employed делаем значения числовыми и положительными "
   ]
  },
  {
   "cell_type": "code",
   "execution_count": 19,
   "metadata": {
    "scrolled": true
   },
   "outputs": [
    {
     "data": {
      "text/html": [
       "<div>\n",
       "<style scoped>\n",
       "    .dataframe tbody tr th:only-of-type {\n",
       "        vertical-align: middle;\n",
       "    }\n",
       "\n",
       "    .dataframe tbody tr th {\n",
       "        vertical-align: top;\n",
       "    }\n",
       "\n",
       "    .dataframe thead th {\n",
       "        text-align: right;\n",
       "    }\n",
       "</style>\n",
       "<table border=\"1\" class=\"dataframe\">\n",
       "  <thead>\n",
       "    <tr style=\"text-align: right;\">\n",
       "      <th></th>\n",
       "      <th>children</th>\n",
       "      <th>days_employed</th>\n",
       "      <th>dob_years</th>\n",
       "      <th>education</th>\n",
       "      <th>education_id</th>\n",
       "      <th>family_status</th>\n",
       "      <th>family_status_id</th>\n",
       "      <th>gender</th>\n",
       "      <th>income_type</th>\n",
       "      <th>debt</th>\n",
       "      <th>total_income</th>\n",
       "      <th>purpose</th>\n",
       "      <th>age_group</th>\n",
       "    </tr>\n",
       "  </thead>\n",
       "  <tbody>\n",
       "    <tr>\n",
       "      <td>0</td>\n",
       "      <td>1</td>\n",
       "      <td>8437</td>\n",
       "      <td>42.0</td>\n",
       "      <td>высшее</td>\n",
       "      <td>0</td>\n",
       "      <td>женат / замужем</td>\n",
       "      <td>0</td>\n",
       "      <td>F</td>\n",
       "      <td>сотрудник</td>\n",
       "      <td>0</td>\n",
       "      <td>253875.639453</td>\n",
       "      <td>покупка жилья</td>\n",
       "      <td>2 группа</td>\n",
       "    </tr>\n",
       "    <tr>\n",
       "      <td>1</td>\n",
       "      <td>1</td>\n",
       "      <td>4024</td>\n",
       "      <td>36.0</td>\n",
       "      <td>среднее</td>\n",
       "      <td>1</td>\n",
       "      <td>женат / замужем</td>\n",
       "      <td>0</td>\n",
       "      <td>F</td>\n",
       "      <td>сотрудник</td>\n",
       "      <td>0</td>\n",
       "      <td>112080.014102</td>\n",
       "      <td>приобретение автомобиля</td>\n",
       "      <td>2 группа</td>\n",
       "    </tr>\n",
       "    <tr>\n",
       "      <td>2</td>\n",
       "      <td>0</td>\n",
       "      <td>5623</td>\n",
       "      <td>33.0</td>\n",
       "      <td>Среднее</td>\n",
       "      <td>1</td>\n",
       "      <td>женат / замужем</td>\n",
       "      <td>0</td>\n",
       "      <td>M</td>\n",
       "      <td>сотрудник</td>\n",
       "      <td>0</td>\n",
       "      <td>145885.952297</td>\n",
       "      <td>покупка жилья</td>\n",
       "      <td>1 группа</td>\n",
       "    </tr>\n",
       "    <tr>\n",
       "      <td>3</td>\n",
       "      <td>3</td>\n",
       "      <td>4124</td>\n",
       "      <td>32.0</td>\n",
       "      <td>среднее</td>\n",
       "      <td>1</td>\n",
       "      <td>женат / замужем</td>\n",
       "      <td>0</td>\n",
       "      <td>M</td>\n",
       "      <td>сотрудник</td>\n",
       "      <td>0</td>\n",
       "      <td>267628.550329</td>\n",
       "      <td>дополнительное образование</td>\n",
       "      <td>1 группа</td>\n",
       "    </tr>\n",
       "    <tr>\n",
       "      <td>4</td>\n",
       "      <td>0</td>\n",
       "      <td>340266</td>\n",
       "      <td>53.0</td>\n",
       "      <td>среднее</td>\n",
       "      <td>1</td>\n",
       "      <td>гражданский брак</td>\n",
       "      <td>1</td>\n",
       "      <td>F</td>\n",
       "      <td>пенсионер</td>\n",
       "      <td>0</td>\n",
       "      <td>158616.077870</td>\n",
       "      <td>сыграть свадьбу</td>\n",
       "      <td>3 группа</td>\n",
       "    </tr>\n",
       "  </tbody>\n",
       "</table>\n",
       "</div>"
      ],
      "text/plain": [
       "   children  days_employed  dob_years education  education_id  \\\n",
       "0         1           8437       42.0    высшее             0   \n",
       "1         1           4024       36.0   среднее             1   \n",
       "2         0           5623       33.0   Среднее             1   \n",
       "3         3           4124       32.0   среднее             1   \n",
       "4         0         340266       53.0   среднее             1   \n",
       "\n",
       "      family_status  family_status_id gender income_type  debt   total_income  \\\n",
       "0   женат / замужем                 0      F   сотрудник     0  253875.639453   \n",
       "1   женат / замужем                 0      F   сотрудник     0  112080.014102   \n",
       "2   женат / замужем                 0      M   сотрудник     0  145885.952297   \n",
       "3   женат / замужем                 0      M   сотрудник     0  267628.550329   \n",
       "4  гражданский брак                 1      F   пенсионер     0  158616.077870   \n",
       "\n",
       "                      purpose age_group  \n",
       "0               покупка жилья  2 группа  \n",
       "1     приобретение автомобиля  2 группа  \n",
       "2               покупка жилья  1 группа  \n",
       "3  дополнительное образование  1 группа  \n",
       "4             сыграть свадьбу  3 группа  "
      ]
     },
     "metadata": {},
     "output_type": "display_data"
    }
   ],
   "source": [
    "df['days_employed'] = df['days_employed'].astype('int')  # меняем тип на целый числовой\n",
    "df['days_employed'] = abs(df['days_employed'])           # делаем их положительными\n",
    "\n",
    "display(df.head())                                       # проверяем, что получилось"
   ]
  },
  {
   "cell_type": "markdown",
   "metadata": {},
   "source": [
    "В значениях столбца total_income нет необходимости в таких точных числах, округлим их."
   ]
  },
  {
   "cell_type": "code",
   "execution_count": 20,
   "metadata": {},
   "outputs": [],
   "source": [
    "df[\"total_income\"] = df[\"total_income\"].astype(int)"
   ]
  },
  {
   "cell_type": "code",
   "execution_count": 21,
   "metadata": {},
   "outputs": [
    {
     "name": "stdout",
     "output_type": "stream",
     "text": [
      "<class 'pandas.core.frame.DataFrame'>\n",
      "RangeIndex: 21525 entries, 0 to 21524\n",
      "Data columns (total 13 columns):\n",
      "children            21525 non-null int64\n",
      "days_employed       21525 non-null int64\n",
      "dob_years           21525 non-null float64\n",
      "education           21525 non-null object\n",
      "education_id        21525 non-null int64\n",
      "family_status       21525 non-null object\n",
      "family_status_id    21525 non-null int64\n",
      "gender              21525 non-null object\n",
      "income_type         21525 non-null object\n",
      "debt                21525 non-null int64\n",
      "total_income        21525 non-null int64\n",
      "purpose             21525 non-null object\n",
      "age_group           21525 non-null object\n",
      "dtypes: float64(1), int64(6), object(6)\n",
      "memory usage: 2.1+ MB\n"
     ]
    }
   ],
   "source": [
    "df.info() # получаем сведения о таблице."
   ]
  },
  {
   "cell_type": "markdown",
   "metadata": {},
   "source": [
    "Видим, что два столбца с числовыми значениями имеют тип 'object' - days_employed и total_income"
   ]
  },
  {
   "cell_type": "markdown",
   "metadata": {},
   "source": [
    "**Вывод**\n",
    "\n",
    "Анализ таблицы показал, что изначально у 2 столбцов не правильный формат данных (строковый, а не числовой). Заменили тип на числовые целые, так как значения с десятичными значениями не требуется для решения задач. "
   ]
  },
  {
   "cell_type": "markdown",
   "metadata": {},
   "source": [
    "### Обработка дубликатов"
   ]
  },
  {
   "cell_type": "markdown",
   "metadata": {},
   "source": [
    "Посмотрим количесвто дубликатов"
   ]
  },
  {
   "cell_type": "code",
   "execution_count": 22,
   "metadata": {},
   "outputs": [
    {
     "data": {
      "text/plain": [
       "54"
      ]
     },
     "execution_count": 22,
     "metadata": {},
     "output_type": "execute_result"
    }
   ],
   "source": [
    "df.duplicated().sum()"
   ]
  },
  {
   "cell_type": "markdown",
   "metadata": {},
   "source": [
    "Удалим дубликаты используя метод drop_duplicates() с новой индексацией"
   ]
  },
  {
   "cell_type": "code",
   "execution_count": 23,
   "metadata": {},
   "outputs": [],
   "source": [
    "df = df.drop_duplicates().reset_index(drop=True)"
   ]
  },
  {
   "cell_type": "markdown",
   "metadata": {},
   "source": [
    "Начнем проверять столбы со строковым значением на наличие дубликатов с учетом регистра"
   ]
  },
  {
   "cell_type": "code",
   "execution_count": 24,
   "metadata": {},
   "outputs": [
    {
     "data": {
      "text/plain": [
       "среднее                13705\n",
       "высшее                  4710\n",
       "СРЕДНЕЕ                  772\n",
       "Среднее                  711\n",
       "неоконченное высшее      668\n",
       "ВЫСШЕЕ                   273\n",
       "Высшее                   268\n",
       "начальное                250\n",
       "Неоконченное высшее       47\n",
       "НЕОКОНЧЕННОЕ ВЫСШЕЕ       29\n",
       "НАЧАЛЬНОЕ                 17\n",
       "Начальное                 15\n",
       "ученая степень             4\n",
       "Ученая степень             1\n",
       "УЧЕНАЯ СТЕПЕНЬ             1\n",
       "Name: education, dtype: int64"
      ]
     },
     "execution_count": 24,
     "metadata": {},
     "output_type": "execute_result"
    }
   ],
   "source": [
    "df['education'].value_counts()"
   ]
  },
  {
   "cell_type": "markdown",
   "metadata": {},
   "source": [
    "Сделаем всё строчными буквы"
   ]
  },
  {
   "cell_type": "code",
   "execution_count": 25,
   "metadata": {
    "scrolled": true
   },
   "outputs": [
    {
     "data": {
      "text/plain": [
       "среднее                15188\n",
       "высшее                  5251\n",
       "неоконченное высшее      744\n",
       "начальное                282\n",
       "ученая степень             6\n",
       "Name: education, dtype: int64"
      ]
     },
     "execution_count": 25,
     "metadata": {},
     "output_type": "execute_result"
    }
   ],
   "source": [
    "df['education'] = df['education'].str.lower() \n",
    "df['education'].value_counts()"
   ]
  },
  {
   "cell_type": "code",
   "execution_count": 26,
   "metadata": {},
   "outputs": [
    {
     "data": {
      "text/plain": [
       "женат / замужем          12344\n",
       "гражданский брак          4163\n",
       "Не женат / не замужем     2810\n",
       "в разводе                 1195\n",
       "вдовец / вдова             959\n",
       "Name: family_status, dtype: int64"
      ]
     },
     "execution_count": 26,
     "metadata": {},
     "output_type": "execute_result"
    }
   ],
   "source": [
    "df['family_status'].value_counts()"
   ]
  },
  {
   "cell_type": "code",
   "execution_count": 27,
   "metadata": {},
   "outputs": [
    {
     "data": {
      "text/plain": [
       "женат / замужем          12344\n",
       "гражданский брак          4163\n",
       "не женат / не замужем     2810\n",
       "в разводе                 1195\n",
       "вдовец / вдова             959\n",
       "Name: family_status, dtype: int64"
      ]
     },
     "execution_count": 27,
     "metadata": {},
     "output_type": "execute_result"
    }
   ],
   "source": [
    "df['family_status'] = df['family_status'].str.lower()\n",
    "df['family_status'].value_counts()"
   ]
  },
  {
   "cell_type": "code",
   "execution_count": 28,
   "metadata": {},
   "outputs": [
    {
     "data": {
      "text/plain": [
       "сотрудник          11091\n",
       "компаньон           5080\n",
       "пенсионер           3837\n",
       "госслужащий         1457\n",
       "безработный            2\n",
       "предприниматель        2\n",
       "в декрете              1\n",
       "студент                1\n",
       "Name: income_type, dtype: int64"
      ]
     },
     "execution_count": 28,
     "metadata": {},
     "output_type": "execute_result"
    }
   ],
   "source": [
    "df['income_type'].value_counts() # проверили, все нормально. Категорий, которые можно было бы объединит с другими нет."
   ]
  },
  {
   "cell_type": "markdown",
   "metadata": {},
   "source": [
    "Посмотрели, все корректно. Категорий, которые можно было бы объединит с другими нет."
   ]
  },
  {
   "cell_type": "markdown",
   "metadata": {},
   "source": [
    "**Вывод**"
   ]
  },
  {
   "cell_type": "markdown",
   "metadata": {},
   "source": [
    "- Убрали дубликаты строк - 54 штуки. Возможно это вызвано ошибками при выгрузки файла или было задвоение человека в системе.\n",
    "- Проверили столбцы со строковыми значениями на наличие дубликатов. Так как было применины разные регистры, то применили метод \n",
    "str.lower() для приведения к нормальному виду. \n",
    "\n",
    "Появление ошибок произошло из-за человеского фактора и настройки программы - нужно подсказать коллегам из того отдела, чтобы нужно было выбирать значение, а не вводить его руками.\n",
    "Надо проверить всю базу по клиентам на наличие в ней дуликатов, но уже с большей информацией - паспортные данные."
   ]
  },
  {
   "cell_type": "markdown",
   "metadata": {},
   "source": [
    "### Лемматизация"
   ]
  },
  {
   "cell_type": "markdown",
   "metadata": {},
   "source": [
    "Для лемматизации (будем работать со столбцом цели кредита) будем использовать библиотеку pymystem3 и контейнер Counter"
   ]
  },
  {
   "cell_type": "markdown",
   "metadata": {},
   "source": [
    "Посчитаем все варианты целей кредита."
   ]
  },
  {
   "cell_type": "code",
   "execution_count": 29,
   "metadata": {},
   "outputs": [
    {
     "data": {
      "text/plain": [
       "свадьба                                   793\n",
       "на проведение свадьбы                     773\n",
       "сыграть свадьбу                           769\n",
       "операции с недвижимостью                  675\n",
       "покупка коммерческой недвижимости         662\n",
       "операции с жильем                         652\n",
       "покупка жилья для сдачи                   652\n",
       "операции с коммерческой недвижимостью     650\n",
       "жилье                                     646\n",
       "покупка жилья                             646\n",
       "покупка жилья для семьи                   638\n",
       "строительство собственной недвижимости    635\n",
       "недвижимость                              633\n",
       "операции со своей недвижимостью           627\n",
       "строительство жилой недвижимости          625\n",
       "покупка недвижимости                      621\n",
       "покупка своего жилья                      620\n",
       "строительство недвижимости                619\n",
       "ремонт жилью                              607\n",
       "покупка жилой недвижимости                606\n",
       "на покупку своего автомобиля              505\n",
       "заняться высшим образованием              496\n",
       "автомобиль                                494\n",
       "сделка с подержанным автомобилем          486\n",
       "свой автомобиль                           479\n",
       "автомобили                                478\n",
       "на покупку подержанного автомобиля        478\n",
       "на покупку автомобиля                     472\n",
       "приобретение автомобиля                   461\n",
       "дополнительное образование                460\n",
       "сделка с автомобилем                      455\n",
       "высшее образование                        452\n",
       "получение дополнительного образования     447\n",
       "образование                               447\n",
       "получение образования                     442\n",
       "профильное образование                    436\n",
       "получение высшего образования             426\n",
       "заняться образованием                     408\n",
       "Name: purpose, dtype: int64"
      ]
     },
     "execution_count": 29,
     "metadata": {},
     "output_type": "execute_result"
    }
   ],
   "source": [
    "df['purpose'].value_counts()"
   ]
  },
  {
   "cell_type": "markdown",
   "metadata": {},
   "source": [
    "Указываем слова, по которым будем искать"
   ]
  },
  {
   "cell_type": "code",
   "execution_count": 30,
   "metadata": {},
   "outputs": [],
   "source": [
    "words = [\"сдача\", \"коммерческий\", \"жилье\", \"образование\", \"свадьба\", \"недвижимость\", \"автомобиль\"]"
   ]
  },
  {
   "cell_type": "markdown",
   "metadata": {},
   "source": [
    "Применяем леммитизацию и заменяем значения в строках на основное слово "
   ]
  },
  {
   "cell_type": "code",
   "execution_count": 31,
   "metadata": {},
   "outputs": [
    {
     "data": {
      "text/plain": [
       "недвижимость    5041\n",
       "автомобиль      4308\n",
       "образование     4014\n",
       "жилье           3809\n",
       "свадьба         2335\n",
       "коммерческий    1312\n",
       "сдача            652\n",
       "Name: purpose_group, dtype: int64"
      ]
     },
     "execution_count": 31,
     "metadata": {},
     "output_type": "execute_result"
    }
   ],
   "source": [
    "def lemmatize(text):\n",
    "    lemma = m.lemmatize(text)\n",
    "    for word in words:\n",
    "        if word in lemma:\n",
    "            lemma = word\n",
    "    return lemma\n",
    "\n",
    "df['purpose_group'] = df['purpose'].apply(lemmatize)        \n",
    "df['purpose_group'].value_counts()"
   ]
  },
  {
   "cell_type": "markdown",
   "metadata": {},
   "source": [
    "Объединяем похожие значения строк: жилье/недвижимость, коммерческий/недвижимость, сдача/недвижимость"
   ]
  },
  {
   "cell_type": "code",
   "execution_count": 32,
   "metadata": {
    "scrolled": true
   },
   "outputs": [
    {
     "data": {
      "text/plain": [
       "недвижимость    10814\n",
       "автомобиль       4308\n",
       "образование      4014\n",
       "свадьба          2335\n",
       "Name: purpose_group, dtype: int64"
      ]
     },
     "execution_count": 32,
     "metadata": {},
     "output_type": "execute_result"
    }
   ],
   "source": [
    "df.loc[df['purpose_group'] == 'жилье', 'purpose_group'] = 'недвижимость'\n",
    "df.loc[df['purpose_group'] == 'коммерческий', 'purpose_group'] = 'недвижимость'\n",
    "df.loc[df['purpose_group'] == 'сдача', 'purpose_group'] = 'недвижимость'\n",
    "df['purpose_group'].value_counts()"
   ]
  },
  {
   "cell_type": "code",
   "execution_count": 33,
   "metadata": {},
   "outputs": [
    {
     "data": {
      "text/html": [
       "<div>\n",
       "<style scoped>\n",
       "    .dataframe tbody tr th:only-of-type {\n",
       "        vertical-align: middle;\n",
       "    }\n",
       "\n",
       "    .dataframe tbody tr th {\n",
       "        vertical-align: top;\n",
       "    }\n",
       "\n",
       "    .dataframe thead th {\n",
       "        text-align: right;\n",
       "    }\n",
       "</style>\n",
       "<table border=\"1\" class=\"dataframe\">\n",
       "  <thead>\n",
       "    <tr style=\"text-align: right;\">\n",
       "      <th></th>\n",
       "      <th>children</th>\n",
       "      <th>days_employed</th>\n",
       "      <th>dob_years</th>\n",
       "      <th>education</th>\n",
       "      <th>education_id</th>\n",
       "      <th>family_status</th>\n",
       "      <th>family_status_id</th>\n",
       "      <th>gender</th>\n",
       "      <th>income_type</th>\n",
       "      <th>debt</th>\n",
       "      <th>total_income</th>\n",
       "      <th>purpose</th>\n",
       "      <th>age_group</th>\n",
       "      <th>purpose_group</th>\n",
       "    </tr>\n",
       "  </thead>\n",
       "  <tbody>\n",
       "    <tr>\n",
       "      <td>0</td>\n",
       "      <td>1</td>\n",
       "      <td>8437</td>\n",
       "      <td>42.0</td>\n",
       "      <td>высшее</td>\n",
       "      <td>0</td>\n",
       "      <td>женат / замужем</td>\n",
       "      <td>0</td>\n",
       "      <td>F</td>\n",
       "      <td>сотрудник</td>\n",
       "      <td>0</td>\n",
       "      <td>253875</td>\n",
       "      <td>покупка жилья</td>\n",
       "      <td>2 группа</td>\n",
       "      <td>недвижимость</td>\n",
       "    </tr>\n",
       "    <tr>\n",
       "      <td>1</td>\n",
       "      <td>1</td>\n",
       "      <td>4024</td>\n",
       "      <td>36.0</td>\n",
       "      <td>среднее</td>\n",
       "      <td>1</td>\n",
       "      <td>женат / замужем</td>\n",
       "      <td>0</td>\n",
       "      <td>F</td>\n",
       "      <td>сотрудник</td>\n",
       "      <td>0</td>\n",
       "      <td>112080</td>\n",
       "      <td>приобретение автомобиля</td>\n",
       "      <td>2 группа</td>\n",
       "      <td>автомобиль</td>\n",
       "    </tr>\n",
       "    <tr>\n",
       "      <td>2</td>\n",
       "      <td>0</td>\n",
       "      <td>5623</td>\n",
       "      <td>33.0</td>\n",
       "      <td>среднее</td>\n",
       "      <td>1</td>\n",
       "      <td>женат / замужем</td>\n",
       "      <td>0</td>\n",
       "      <td>M</td>\n",
       "      <td>сотрудник</td>\n",
       "      <td>0</td>\n",
       "      <td>145885</td>\n",
       "      <td>покупка жилья</td>\n",
       "      <td>1 группа</td>\n",
       "      <td>недвижимость</td>\n",
       "    </tr>\n",
       "    <tr>\n",
       "      <td>3</td>\n",
       "      <td>3</td>\n",
       "      <td>4124</td>\n",
       "      <td>32.0</td>\n",
       "      <td>среднее</td>\n",
       "      <td>1</td>\n",
       "      <td>женат / замужем</td>\n",
       "      <td>0</td>\n",
       "      <td>M</td>\n",
       "      <td>сотрудник</td>\n",
       "      <td>0</td>\n",
       "      <td>267628</td>\n",
       "      <td>дополнительное образование</td>\n",
       "      <td>1 группа</td>\n",
       "      <td>образование</td>\n",
       "    </tr>\n",
       "    <tr>\n",
       "      <td>4</td>\n",
       "      <td>0</td>\n",
       "      <td>340266</td>\n",
       "      <td>53.0</td>\n",
       "      <td>среднее</td>\n",
       "      <td>1</td>\n",
       "      <td>гражданский брак</td>\n",
       "      <td>1</td>\n",
       "      <td>F</td>\n",
       "      <td>пенсионер</td>\n",
       "      <td>0</td>\n",
       "      <td>158616</td>\n",
       "      <td>сыграть свадьбу</td>\n",
       "      <td>3 группа</td>\n",
       "      <td>свадьба</td>\n",
       "    </tr>\n",
       "  </tbody>\n",
       "</table>\n",
       "</div>"
      ],
      "text/plain": [
       "   children  days_employed  dob_years education  education_id  \\\n",
       "0         1           8437       42.0    высшее             0   \n",
       "1         1           4024       36.0   среднее             1   \n",
       "2         0           5623       33.0   среднее             1   \n",
       "3         3           4124       32.0   среднее             1   \n",
       "4         0         340266       53.0   среднее             1   \n",
       "\n",
       "      family_status  family_status_id gender income_type  debt  total_income  \\\n",
       "0   женат / замужем                 0      F   сотрудник     0        253875   \n",
       "1   женат / замужем                 0      F   сотрудник     0        112080   \n",
       "2   женат / замужем                 0      M   сотрудник     0        145885   \n",
       "3   женат / замужем                 0      M   сотрудник     0        267628   \n",
       "4  гражданский брак                 1      F   пенсионер     0        158616   \n",
       "\n",
       "                      purpose age_group purpose_group  \n",
       "0               покупка жилья  2 группа  недвижимость  \n",
       "1     приобретение автомобиля  2 группа    автомобиль  \n",
       "2               покупка жилья  1 группа  недвижимость  \n",
       "3  дополнительное образование  1 группа   образование  \n",
       "4             сыграть свадьбу  3 группа       свадьба  "
      ]
     },
     "metadata": {},
     "output_type": "display_data"
    }
   ],
   "source": [
    "display(df.head())"
   ]
  },
  {
   "cell_type": "markdown",
   "metadata": {},
   "source": [
    "**Вывод**"
   ]
  },
  {
   "cell_type": "markdown",
   "metadata": {},
   "source": [
    "Провели леммитизацию используя библиотеку pymystem3 и контейнер Counter. \n",
    "Получили 4 цели получения кредита: \n",
    "- недвижимость, \n",
    "- автомобиль, \n",
    "- образование,\n",
    "- свадьба."
   ]
  },
  {
   "cell_type": "markdown",
   "metadata": {},
   "source": [
    "### Категоризация данных"
   ]
  },
  {
   "cell_type": "markdown",
   "metadata": {
    "scrolled": true
   },
   "source": [
    "Необходимо категоризировать столбец уровень дохода, для решения поставленной задачи. Посмотрим первые и посление значения"
   ]
  },
  {
   "cell_type": "code",
   "execution_count": 34,
   "metadata": {},
   "outputs": [
    {
     "data": {
      "text/plain": [
       "20667      1\n",
       "21205      1\n",
       "21367      1\n",
       "21695      1\n",
       "21895      1\n",
       "          ..\n",
       "1711309    1\n",
       "1715018    1\n",
       "1726276    1\n",
       "2200852    1\n",
       "2265604    1\n",
       "Name: total_income, Length: 18608, dtype: int64"
      ]
     },
     "execution_count": 34,
     "metadata": {},
     "output_type": "execute_result"
    }
   ],
   "source": [
    "df['total_income'].value_counts().sort_index(ascending=True)"
   ]
  },
  {
   "cell_type": "markdown",
   "metadata": {},
   "source": [
    "Разброс очень большой. Посмотрим медиану"
   ]
  },
  {
   "cell_type": "code",
   "execution_count": 35,
   "metadata": {},
   "outputs": [
    {
     "name": "stdout",
     "output_type": "stream",
     "text": [
      "142594.0\n"
     ]
    }
   ],
   "source": [
    "age_median = df['total_income'].median()\n",
    "print(age_median)"
   ]
  },
  {
   "cell_type": "markdown",
   "metadata": {},
   "source": [
    "Для правильно разбиения на группы применим метод qcut, который поможет определить количество квантилей и позволить pandas разделить данные. В качестве аргумента укажем 4, как количество групп, которые необходимо поделить. Эти сведения также можно взять из df.describe() - там это 25%, 50%, 75%"
   ]
  },
  {
   "cell_type": "code",
   "execution_count": 36,
   "metadata": {},
   "outputs": [
    {
     "data": {
      "text/plain": [
       "0        (195767.5, 2265604.0]\n",
       "1         (107654.5, 142594.0]\n",
       "2         (142594.0, 195767.5]\n",
       "3        (195767.5, 2265604.0]\n",
       "4         (142594.0, 195767.5]\n",
       "                 ...          \n",
       "21466    (195767.5, 2265604.0]\n",
       "21467     (142594.0, 195767.5]\n",
       "21468    (20666.999, 107654.5]\n",
       "21469    (195767.5, 2265604.0]\n",
       "21470    (20666.999, 107654.5]\n",
       "Name: total_income, Length: 21471, dtype: category\n",
       "Categories (4, interval[float64]): [(20666.999, 107654.5] < (107654.5, 142594.0] < (142594.0, 195767.5] < (195767.5, 2265604.0]]"
      ]
     },
     "execution_count": 36,
     "metadata": {},
     "output_type": "execute_result"
    }
   ],
   "source": [
    "pd.qcut(df['total_income'], q=4)"
   ]
  },
  {
   "cell_type": "markdown",
   "metadata": {},
   "source": [
    "Сделаем 4 группы доходов: \n",
    "- 0 - 108\n",
    "- 108 - 142\n",
    "- 142 - 195\n",
    "- 195 >"
   ]
  },
  {
   "cell_type": "code",
   "execution_count": 37,
   "metadata": {},
   "outputs": [
    {
     "data": {
      "text/html": [
       "<div>\n",
       "<style scoped>\n",
       "    .dataframe tbody tr th:only-of-type {\n",
       "        vertical-align: middle;\n",
       "    }\n",
       "\n",
       "    .dataframe tbody tr th {\n",
       "        vertical-align: top;\n",
       "    }\n",
       "\n",
       "    .dataframe thead th {\n",
       "        text-align: right;\n",
       "    }\n",
       "</style>\n",
       "<table border=\"1\" class=\"dataframe\">\n",
       "  <thead>\n",
       "    <tr style=\"text-align: right;\">\n",
       "      <th></th>\n",
       "      <th>children</th>\n",
       "      <th>days_employed</th>\n",
       "      <th>dob_years</th>\n",
       "      <th>education</th>\n",
       "      <th>education_id</th>\n",
       "      <th>family_status</th>\n",
       "      <th>family_status_id</th>\n",
       "      <th>gender</th>\n",
       "      <th>income_type</th>\n",
       "      <th>debt</th>\n",
       "      <th>total_income</th>\n",
       "      <th>purpose</th>\n",
       "      <th>age_group</th>\n",
       "      <th>purpose_group</th>\n",
       "      <th>median_total_income</th>\n",
       "    </tr>\n",
       "  </thead>\n",
       "  <tbody>\n",
       "    <tr>\n",
       "      <td>0</td>\n",
       "      <td>1</td>\n",
       "      <td>8437</td>\n",
       "      <td>42.0</td>\n",
       "      <td>высшее</td>\n",
       "      <td>0</td>\n",
       "      <td>женат / замужем</td>\n",
       "      <td>0</td>\n",
       "      <td>F</td>\n",
       "      <td>сотрудник</td>\n",
       "      <td>0</td>\n",
       "      <td>253875</td>\n",
       "      <td>покупка жилья</td>\n",
       "      <td>2 группа</td>\n",
       "      <td>недвижимость</td>\n",
       "      <td>больше 195</td>\n",
       "    </tr>\n",
       "    <tr>\n",
       "      <td>1</td>\n",
       "      <td>1</td>\n",
       "      <td>4024</td>\n",
       "      <td>36.0</td>\n",
       "      <td>среднее</td>\n",
       "      <td>1</td>\n",
       "      <td>женат / замужем</td>\n",
       "      <td>0</td>\n",
       "      <td>F</td>\n",
       "      <td>сотрудник</td>\n",
       "      <td>0</td>\n",
       "      <td>112080</td>\n",
       "      <td>приобретение автомобиля</td>\n",
       "      <td>2 группа</td>\n",
       "      <td>автомобиль</td>\n",
       "      <td>108 - 142</td>\n",
       "    </tr>\n",
       "    <tr>\n",
       "      <td>2</td>\n",
       "      <td>0</td>\n",
       "      <td>5623</td>\n",
       "      <td>33.0</td>\n",
       "      <td>среднее</td>\n",
       "      <td>1</td>\n",
       "      <td>женат / замужем</td>\n",
       "      <td>0</td>\n",
       "      <td>M</td>\n",
       "      <td>сотрудник</td>\n",
       "      <td>0</td>\n",
       "      <td>145885</td>\n",
       "      <td>покупка жилья</td>\n",
       "      <td>1 группа</td>\n",
       "      <td>недвижимость</td>\n",
       "      <td>142 - 195</td>\n",
       "    </tr>\n",
       "    <tr>\n",
       "      <td>3</td>\n",
       "      <td>3</td>\n",
       "      <td>4124</td>\n",
       "      <td>32.0</td>\n",
       "      <td>среднее</td>\n",
       "      <td>1</td>\n",
       "      <td>женат / замужем</td>\n",
       "      <td>0</td>\n",
       "      <td>M</td>\n",
       "      <td>сотрудник</td>\n",
       "      <td>0</td>\n",
       "      <td>267628</td>\n",
       "      <td>дополнительное образование</td>\n",
       "      <td>1 группа</td>\n",
       "      <td>образование</td>\n",
       "      <td>больше 195</td>\n",
       "    </tr>\n",
       "    <tr>\n",
       "      <td>4</td>\n",
       "      <td>0</td>\n",
       "      <td>340266</td>\n",
       "      <td>53.0</td>\n",
       "      <td>среднее</td>\n",
       "      <td>1</td>\n",
       "      <td>гражданский брак</td>\n",
       "      <td>1</td>\n",
       "      <td>F</td>\n",
       "      <td>пенсионер</td>\n",
       "      <td>0</td>\n",
       "      <td>158616</td>\n",
       "      <td>сыграть свадьбу</td>\n",
       "      <td>3 группа</td>\n",
       "      <td>свадьба</td>\n",
       "      <td>142 - 195</td>\n",
       "    </tr>\n",
       "  </tbody>\n",
       "</table>\n",
       "</div>"
      ],
      "text/plain": [
       "   children  days_employed  dob_years education  education_id  \\\n",
       "0         1           8437       42.0    высшее             0   \n",
       "1         1           4024       36.0   среднее             1   \n",
       "2         0           5623       33.0   среднее             1   \n",
       "3         3           4124       32.0   среднее             1   \n",
       "4         0         340266       53.0   среднее             1   \n",
       "\n",
       "      family_status  family_status_id gender income_type  debt  total_income  \\\n",
       "0   женат / замужем                 0      F   сотрудник     0        253875   \n",
       "1   женат / замужем                 0      F   сотрудник     0        112080   \n",
       "2   женат / замужем                 0      M   сотрудник     0        145885   \n",
       "3   женат / замужем                 0      M   сотрудник     0        267628   \n",
       "4  гражданский брак                 1      F   пенсионер     0        158616   \n",
       "\n",
       "                      purpose age_group purpose_group median_total_income  \n",
       "0               покупка жилья  2 группа  недвижимость          больше 195  \n",
       "1     приобретение автомобиля  2 группа    автомобиль           108 - 142  \n",
       "2               покупка жилья  1 группа  недвижимость           142 - 195  \n",
       "3  дополнительное образование  1 группа   образование          больше 195  \n",
       "4             сыграть свадьбу  3 группа       свадьба           142 - 195  "
      ]
     },
     "metadata": {},
     "output_type": "display_data"
    }
   ],
   "source": [
    "def total_income(row):                           # поставим условия для обозначения групп\n",
    "    \n",
    "    median_total_income = row['total_income']\n",
    "\n",
    "    if median_total_income <= 108000:\n",
    "        return '0 - 108'\n",
    "    \n",
    "    if median_total_income <= 142000:\n",
    "        return '108 - 142'\n",
    "    \n",
    "    if median_total_income <= 195000:\n",
    "        return '142 - 195'\n",
    "    \n",
    "    if median_total_income > 195000:\n",
    "        return 'больше 195'\n",
    "\n",
    "df['median_total_income'] = df.apply(total_income, axis=1)\n",
    "                              \n",
    "display(df.head())"
   ]
  },
  {
   "cell_type": "code",
   "execution_count": 38,
   "metadata": {},
   "outputs": [
    {
     "data": {
      "text/plain": [
       "2 группа    7870\n",
       "3 группа    6455\n",
       "1 группа    5368\n",
       "4 группа    1778\n",
       "Name: age_group, dtype: int64"
      ]
     },
     "execution_count": 38,
     "metadata": {},
     "output_type": "execute_result"
    }
   ],
   "source": [
    "df['age_group'].value_counts()"
   ]
  },
  {
   "cell_type": "markdown",
   "metadata": {},
   "source": [
    "### Выделение словаря"
   ]
  },
  {
   "cell_type": "markdown",
   "metadata": {},
   "source": [
    "В наших данных есть словари (Словарь — неупорядоченная структура данных, которая позволяет хранить пары «ключ — значение»). Выделим их отдельно."
   ]
  },
  {
   "cell_type": "markdown",
   "metadata": {},
   "source": [
    "Видим с нашем файле два словаря, это ключи family_status_id, education_id и значение: столбец family_status и education.\n",
    "Вынесем данные по этим параметрам попарно в отдельный датафрейм, а затем удалим встречающиеся дубликаты. Выделение словарей с удалением текстовых параметров из основной таблицы поможет нам увеличить эффективность работы с данными из-за уменьшения веса самого датасета. "
   ]
  },
  {
   "cell_type": "code",
   "execution_count": 39,
   "metadata": {
    "scrolled": true
   },
   "outputs": [
    {
     "data": {
      "text/html": [
       "<div>\n",
       "<style scoped>\n",
       "    .dataframe tbody tr th:only-of-type {\n",
       "        vertical-align: middle;\n",
       "    }\n",
       "\n",
       "    .dataframe tbody tr th {\n",
       "        vertical-align: top;\n",
       "    }\n",
       "\n",
       "    .dataframe thead th {\n",
       "        text-align: right;\n",
       "    }\n",
       "</style>\n",
       "<table border=\"1\" class=\"dataframe\">\n",
       "  <thead>\n",
       "    <tr style=\"text-align: right;\">\n",
       "      <th></th>\n",
       "      <th>education</th>\n",
       "      <th>education_id</th>\n",
       "    </tr>\n",
       "  </thead>\n",
       "  <tbody>\n",
       "    <tr>\n",
       "      <td>0</td>\n",
       "      <td>высшее</td>\n",
       "      <td>0</td>\n",
       "    </tr>\n",
       "    <tr>\n",
       "      <td>1</td>\n",
       "      <td>среднее</td>\n",
       "      <td>1</td>\n",
       "    </tr>\n",
       "    <tr>\n",
       "      <td>2</td>\n",
       "      <td>среднее</td>\n",
       "      <td>1</td>\n",
       "    </tr>\n",
       "    <tr>\n",
       "      <td>3</td>\n",
       "      <td>среднее</td>\n",
       "      <td>1</td>\n",
       "    </tr>\n",
       "    <tr>\n",
       "      <td>4</td>\n",
       "      <td>среднее</td>\n",
       "      <td>1</td>\n",
       "    </tr>\n",
       "    <tr>\n",
       "      <td>5</td>\n",
       "      <td>высшее</td>\n",
       "      <td>0</td>\n",
       "    </tr>\n",
       "  </tbody>\n",
       "</table>\n",
       "</div>"
      ],
      "text/plain": [
       "  education  education_id\n",
       "0    высшее             0\n",
       "1   среднее             1\n",
       "2   среднее             1\n",
       "3   среднее             1\n",
       "4   среднее             1\n",
       "5    высшее             0"
      ]
     },
     "metadata": {},
     "output_type": "display_data"
    },
    {
     "name": "stdout",
     "output_type": "stream",
     "text": [
      "21466\n"
     ]
    }
   ],
   "source": [
    "df_slovar_1 = df[['education','education_id']]\n",
    "df_slovar_2 = df[[\"family_status\", 'family_status_id']]\n",
    "display(df_slovar_1.head(6))\n",
    "print(df_slovar_1.duplicated().sum())\n",
    "df_slovar_1 = df_slovar_1.drop_duplicates().reset_index(drop=True)\n"
   ]
  },
  {
   "cell_type": "code",
   "execution_count": 40,
   "metadata": {},
   "outputs": [
    {
     "data": {
      "text/html": [
       "<div>\n",
       "<style scoped>\n",
       "    .dataframe tbody tr th:only-of-type {\n",
       "        vertical-align: middle;\n",
       "    }\n",
       "\n",
       "    .dataframe tbody tr th {\n",
       "        vertical-align: top;\n",
       "    }\n",
       "\n",
       "    .dataframe thead th {\n",
       "        text-align: right;\n",
       "    }\n",
       "</style>\n",
       "<table border=\"1\" class=\"dataframe\">\n",
       "  <thead>\n",
       "    <tr style=\"text-align: right;\">\n",
       "      <th></th>\n",
       "      <th>family_status</th>\n",
       "      <th>family_status_id</th>\n",
       "    </tr>\n",
       "  </thead>\n",
       "  <tbody>\n",
       "    <tr>\n",
       "      <td>0</td>\n",
       "      <td>женат / замужем</td>\n",
       "      <td>0</td>\n",
       "    </tr>\n",
       "    <tr>\n",
       "      <td>1</td>\n",
       "      <td>женат / замужем</td>\n",
       "      <td>0</td>\n",
       "    </tr>\n",
       "    <tr>\n",
       "      <td>2</td>\n",
       "      <td>женат / замужем</td>\n",
       "      <td>0</td>\n",
       "    </tr>\n",
       "    <tr>\n",
       "      <td>3</td>\n",
       "      <td>женат / замужем</td>\n",
       "      <td>0</td>\n",
       "    </tr>\n",
       "    <tr>\n",
       "      <td>4</td>\n",
       "      <td>гражданский брак</td>\n",
       "      <td>1</td>\n",
       "    </tr>\n",
       "    <tr>\n",
       "      <td>5</td>\n",
       "      <td>гражданский брак</td>\n",
       "      <td>1</td>\n",
       "    </tr>\n",
       "  </tbody>\n",
       "</table>\n",
       "</div>"
      ],
      "text/plain": [
       "      family_status  family_status_id\n",
       "0   женат / замужем                 0\n",
       "1   женат / замужем                 0\n",
       "2   женат / замужем                 0\n",
       "3   женат / замужем                 0\n",
       "4  гражданский брак                 1\n",
       "5  гражданский брак                 1"
      ]
     },
     "metadata": {},
     "output_type": "display_data"
    },
    {
     "name": "stdout",
     "output_type": "stream",
     "text": [
      "21466\n"
     ]
    }
   ],
   "source": [
    "display(df_slovar_2.head(6))\n",
    "print(df_slovar_2.duplicated().sum())\n",
    "df_slovar_2 = df_slovar_2.drop_duplicates().reset_index(drop=True)"
   ]
  },
  {
   "cell_type": "code",
   "execution_count": 41,
   "metadata": {},
   "outputs": [
    {
     "data": {
      "text/html": [
       "<div>\n",
       "<style scoped>\n",
       "    .dataframe tbody tr th:only-of-type {\n",
       "        vertical-align: middle;\n",
       "    }\n",
       "\n",
       "    .dataframe tbody tr th {\n",
       "        vertical-align: top;\n",
       "    }\n",
       "\n",
       "    .dataframe thead th {\n",
       "        text-align: right;\n",
       "    }\n",
       "</style>\n",
       "<table border=\"1\" class=\"dataframe\">\n",
       "  <thead>\n",
       "    <tr style=\"text-align: right;\">\n",
       "      <th></th>\n",
       "      <th>education</th>\n",
       "      <th>education_id</th>\n",
       "    </tr>\n",
       "  </thead>\n",
       "  <tbody>\n",
       "    <tr>\n",
       "      <td>0</td>\n",
       "      <td>высшее</td>\n",
       "      <td>0</td>\n",
       "    </tr>\n",
       "    <tr>\n",
       "      <td>1</td>\n",
       "      <td>среднее</td>\n",
       "      <td>1</td>\n",
       "    </tr>\n",
       "    <tr>\n",
       "      <td>2</td>\n",
       "      <td>неоконченное высшее</td>\n",
       "      <td>2</td>\n",
       "    </tr>\n",
       "    <tr>\n",
       "      <td>3</td>\n",
       "      <td>начальное</td>\n",
       "      <td>3</td>\n",
       "    </tr>\n",
       "    <tr>\n",
       "      <td>4</td>\n",
       "      <td>ученая степень</td>\n",
       "      <td>4</td>\n",
       "    </tr>\n",
       "  </tbody>\n",
       "</table>\n",
       "</div>"
      ],
      "text/plain": [
       "             education  education_id\n",
       "0               высшее             0\n",
       "1              среднее             1\n",
       "2  неоконченное высшее             2\n",
       "3            начальное             3\n",
       "4       ученая степень             4"
      ]
     },
     "execution_count": 41,
     "metadata": {},
     "output_type": "execute_result"
    }
   ],
   "source": [
    "df_slovar_1"
   ]
  },
  {
   "cell_type": "code",
   "execution_count": 42,
   "metadata": {},
   "outputs": [
    {
     "data": {
      "text/html": [
       "<div>\n",
       "<style scoped>\n",
       "    .dataframe tbody tr th:only-of-type {\n",
       "        vertical-align: middle;\n",
       "    }\n",
       "\n",
       "    .dataframe tbody tr th {\n",
       "        vertical-align: top;\n",
       "    }\n",
       "\n",
       "    .dataframe thead th {\n",
       "        text-align: right;\n",
       "    }\n",
       "</style>\n",
       "<table border=\"1\" class=\"dataframe\">\n",
       "  <thead>\n",
       "    <tr style=\"text-align: right;\">\n",
       "      <th></th>\n",
       "      <th>family_status</th>\n",
       "      <th>family_status_id</th>\n",
       "    </tr>\n",
       "  </thead>\n",
       "  <tbody>\n",
       "    <tr>\n",
       "      <td>0</td>\n",
       "      <td>женат / замужем</td>\n",
       "      <td>0</td>\n",
       "    </tr>\n",
       "    <tr>\n",
       "      <td>1</td>\n",
       "      <td>гражданский брак</td>\n",
       "      <td>1</td>\n",
       "    </tr>\n",
       "    <tr>\n",
       "      <td>2</td>\n",
       "      <td>вдовец / вдова</td>\n",
       "      <td>2</td>\n",
       "    </tr>\n",
       "    <tr>\n",
       "      <td>3</td>\n",
       "      <td>в разводе</td>\n",
       "      <td>3</td>\n",
       "    </tr>\n",
       "    <tr>\n",
       "      <td>4</td>\n",
       "      <td>не женат / не замужем</td>\n",
       "      <td>4</td>\n",
       "    </tr>\n",
       "  </tbody>\n",
       "</table>\n",
       "</div>"
      ],
      "text/plain": [
       "           family_status  family_status_id\n",
       "0        женат / замужем                 0\n",
       "1       гражданский брак                 1\n",
       "2         вдовец / вдова                 2\n",
       "3              в разводе                 3\n",
       "4  не женат / не замужем                 4"
      ]
     },
     "execution_count": 42,
     "metadata": {},
     "output_type": "execute_result"
    }
   ],
   "source": [
    "df_slovar_2"
   ]
  },
  {
   "cell_type": "markdown",
   "metadata": {},
   "source": [
    "**Вывод** \n",
    "\n",
    "Для решения поставленной задачи необходимо категоризивовать данные по столбцу общий доход.\n",
    "Для этого нашли медианну и поделили еще на 2 группы внутри."
   ]
  },
  {
   "cell_type": "markdown",
   "metadata": {},
   "source": [
    "## Ответьте на вопросы"
   ]
  },
  {
   "cell_type": "markdown",
   "metadata": {},
   "source": [
    "- Есть ли зависимость между наличием детей и возвратом кредита в срок?"
   ]
  },
  {
   "cell_type": "code",
   "execution_count": 43,
   "metadata": {},
   "outputs": [
    {
     "data": {
      "text/plain": [
       "0    19730\n",
       "1     1741\n",
       "Name: debt, dtype: int64"
      ]
     },
     "execution_count": 43,
     "metadata": {},
     "output_type": "execute_result"
    }
   ],
   "source": [
    "df['debt'].value_counts() # смотрим общее количесвто просрочек по кредиту - 1741"
   ]
  },
  {
   "cell_type": "code",
   "execution_count": 44,
   "metadata": {
    "scrolled": false
   },
   "outputs": [
    {
     "name": "stdout",
     "output_type": "stream",
     "text": [
      "          Количество детей  Количество просрочек по кредиту  % просрочек\n",
      "children                                                                \n",
      "4                       41                                4         9.76\n",
      "2                     2128                              202         9.49\n",
      "1                     4856                              445         9.16\n",
      "3                      330                               27         8.18\n",
      "0                    14107                             1063         7.54\n",
      "5                        9                                0         0.00\n"
     ]
    }
   ],
   "source": [
    "df_pivot_children = df.pivot_table(index='children', values='debt', aggfunc=['count','sum'])                     # строим сводную таблицу \n",
    "df_pivot_children['%']=round((df_pivot_children[('sum', 'debt')]/df_pivot_children[('count', 'debt')])*100,2)    # округляем и считаем проценты по соотношению столбцов \n",
    "df_pivot_children.columns = ['Количество детей', \"Количество просрочек по кредиту\", \"% просрочек\"]               # переименовываем столбцы\n",
    "print(df_pivot_children.sort_values(by = \"% просрочек\", ascending = False).head(10))                             # сортируем по убыванию столбец с процентным соотношением"
   ]
  },
  {
   "cell_type": "markdown",
   "metadata": {},
   "source": [
    "**Вывод**\n",
    "\n",
    "Количество детей приводит к увеличению просрочек по кредиту + 2,2 % (9.76 - 7.54). Видимо это связно с тратами, связанными с содержанием детей"
   ]
  },
  {
   "cell_type": "markdown",
   "metadata": {},
   "source": [
    "- Есть ли зависимость между семейным положением и возвратом кредита в срок?"
   ]
  },
  {
   "cell_type": "code",
   "execution_count": 45,
   "metadata": {
    "scrolled": false
   },
   "outputs": [
    {
     "name": "stdout",
     "output_type": "stream",
     "text": [
      "                       Количество клиентов  Количество просрочек  % просрочек\n",
      "family_status                                                                \n",
      "не женат / не замужем                 2810                   274         9.75\n",
      "гражданский брак                      4163                   388         9.32\n",
      "женат / замужем                      12344                   931         7.54\n",
      "в разводе                             1195                    85         7.11\n",
      "вдовец / вдова                         959                    63         6.57\n"
     ]
    }
   ],
   "source": [
    "df_pivot_family_status = df.pivot_table(index=['family_status'], values='debt', aggfunc=['count','sum']) #\n",
    "df_pivot_family_status['%']=round((df_pivot_family_status[('sum', 'debt')]/df_pivot_family_status[('count', 'debt')])*100,2)\n",
    "df_pivot_family_status.columns = ['Количество клиентов', \"Количество просрочек\", \"% просрочек\"]\n",
    "print(df_pivot_family_status.sort_values(by = \"% просрочек\", ascending = False).head(10))                    "
   ]
  },
  {
   "cell_type": "markdown",
   "metadata": {},
   "source": [
    "**Вывод**\n",
    "\n",
    "- Количество просрочек по кредиту меньше всего у кетегории 'вдовец / вдова', и тех, кто в \"разводе\" - это вызвано, тем, что траты сократились и пережитой стрессовой ситуацией. \n",
    "- Больше всего у тех, кто \"не женат / не замужем\" или находится в 'гражданский брак' - причина в тратах на поиски половинки и более беззаботной жизни, когда не отвечают ни за кого.  \n",
    "- Просрочка у 'женат / замужем' находится на среднем уровне. \n",
    "\n"
   ]
  },
  {
   "cell_type": "markdown",
   "metadata": {},
   "source": [
    "- Есть ли зависимость между уровнем дохода и возвратом кредита в срок?"
   ]
  },
  {
   "cell_type": "code",
   "execution_count": 46,
   "metadata": {
    "scrolled": false
   },
   "outputs": [
    {
     "name": "stdout",
     "output_type": "stream",
     "text": [
      "                     Количество кредитов  Количесвто просрочек  % просрочек\n",
      "median_total_income                                                        \n",
      "142 - 195                           6340                   550         8.68\n",
      "108 - 142                           4296                   371         8.64\n",
      "0 - 108                             5411                   431         7.97\n",
      "больше 195                          5424                   389         7.17\n"
     ]
    }
   ],
   "source": [
    "df_pivot_income = df.pivot_table(index='median_total_income', values='debt', aggfunc=['count','sum']) #\n",
    "df_pivot_income['%']=round((df_pivot_income[('sum', 'debt')]/df_pivot_income[('count', 'debt')])*100,2)\n",
    "df_pivot_income.columns = ['Количество кредитов', \"Количесвто просрочек\", \"% просрочек\"]\n",
    "print(df_pivot_income.sort_values(by = \"% просрочек\", ascending = False).head(10))"
   ]
  },
  {
   "cell_type": "markdown",
   "metadata": {},
   "source": [
    "**Вывод**\n",
    "\n",
    "Уровень дохода влияет на количесвто просрочек по кредиту.\n",
    "- Больше всего просрочек (8.68%) у клиентов с достатком от 142 - 195 тыс.руб. - у среднего класса.\n",
    "- Меньше всего просрочек (7.17%) у клиентов с доходом более 195 тыс.руб."
   ]
  },
  {
   "cell_type": "markdown",
   "metadata": {},
   "source": [
    "- Как разные цели кредита влияют на его возврат в срок?"
   ]
  },
  {
   "cell_type": "code",
   "execution_count": 47,
   "metadata": {
    "scrolled": false
   },
   "outputs": [
    {
     "name": "stdout",
     "output_type": "stream",
     "text": [
      "               Количество кредитов  Количесвто просрочек  % просрочек\n",
      "purpose_group                                                        \n",
      "автомобиль                    4308                   403         9.35\n",
      "образование                   4014                   370         9.22\n",
      "свадьба                       2335                   186         7.97\n",
      "недвижимость                 10814                   782         7.23\n"
     ]
    }
   ],
   "source": [
    "df_pivot_purpose = df.pivot_table(index='purpose_group', values='debt', aggfunc=['count','sum']) #\n",
    "df_pivot_purpose['%']=round((df_pivot_purpose[('sum', 'debt')]/df_pivot_purpose[('count', 'debt')])*100,2)\n",
    "df_pivot_purpose.columns = ['Количество кредитов', \"Количесвто просрочек\", \"% просрочек\"]\n",
    "print(df_pivot_purpose.sort_values(by = \"% просрочек\", ascending = False).head(10))"
   ]
  },
  {
   "cell_type": "markdown",
   "metadata": {},
   "source": [
    "**Вывод**\n",
    "\n",
    "Больше всего просрочек допускается при покупке автомобиля, возможно от того, что это не является средством первой необходимости.\n",
    "Образование находится на втором месте по просрочкам, возможно из-за того, что не сразу удается найти работу после обучения или во время учебы.\n",
    "Просрочека на свадьбу 7.97% (3-е место), возможно, что кредит еще выплачивается во время подготовки к свадьб. \n",
    "Меньше всего просрочек по недвижимости, так как есть риск потерять его"
   ]
  },
  {
   "cell_type": "markdown",
   "metadata": {},
   "source": [
    "## Общий вывод"
   ]
  },
  {
   "cell_type": "markdown",
   "metadata": {},
   "source": [
    "Необходимо предложить коллегам из отдела настройки ПО, что для избежания ошибок сделать выбор целей кредита из \"словаря\"; при введении более 3-х детей, уточняющее всплывающее окно и значения могут быть только положительные; при указании стажа, также только положительные числа и проверка на срок (если более 56 лет стажа (75 (самый большой возраст в нашем файле) - 19 (самый молодой в нашем файле)) также уточняющее окно); поле образование - также заполнять из \"словаря\".\n",
    "\n",
    "Полученный файл поддкорректировали и выявили зависимость от количества детей, семейного состояния, уровня дохода и целей кредита на задолженность по возврату кредита.\n",
    "\n",
    "Идеальный заемщик для банка это бездетный (или с 5-ю детьми) семейный (состоящий в официальном браке, разведенный или вдовец/вдова), с доходом более 195 тыс.руб., клиент, который берет кредит на недвижимость или свадьбу."
   ]
  },
  {
   "cell_type": "markdown",
   "metadata": {},
   "source": [
    "## Чек-лист готовности проекта\n",
    "\n",
    "Поставьте 'x' в выполненных пунктах. Далее нажмите Shift+Enter."
   ]
  },
  {
   "cell_type": "markdown",
   "metadata": {},
   "source": [
    "- [X]  открыт файл;\n",
    "- [X]  файл изучен;\n",
    "- [X]  определены пропущенные значения;\n",
    "- [X]  заполнены пропущенные значения;\n",
    "- [X]  есть пояснение, какие пропущенные значения обнаружены;\n",
    "- [X]  описаны возможные причины появления пропусков в данных;\n",
    "- [X]  объяснено, по какому принципу заполнены пропуски;\n",
    "- [X]  заменен вещественный тип данных на целочисленный;\n",
    "- [X]  есть пояснение, какой метод используется для изменения типа данных и почему;\n",
    "- [X]  удалены дубликаты;\n",
    "- [X]  есть пояснение, какой метод используется для поиска и удаления дубликатов;\n",
    "- [X]  описаны возможные причины появления дубликатов в данных;\n",
    "- [X]  выделены леммы в значениях столбца с целями получения кредита;\n",
    "- [X]  описан процесс лемматизации;\n",
    "- [X]  данные категоризированы;\n",
    "- [X]  есть объяснение принципа категоризации данных;\n",
    "- [X]  есть ответ на вопрос: \"Есть ли зависимость между наличием детей и возвратом кредита в срок?\";\n",
    "- [X]  есть ответ на вопрос: \"Есть ли зависимость между семейным положением и возвратом кредита в срок?\";\n",
    "- [X]  есть ответ на вопрос: \"Есть ли зависимость между уровнем дохода и возвратом кредита в срок?\";\n",
    "- [X]  есть ответ на вопрос: \"Как разные цели кредита влияют на его возврат в срок?\";\n",
    "- [X]  в каждом этапе есть выводы;\n",
    "- [X]  есть общий вывод."
   ]
  }
 ],
 "metadata": {
  "ExecuteTimeLog": [
   {
    "duration": 814,
    "start_time": "2021-09-11T16:27:12.379Z"
   },
   {
    "duration": 62,
    "start_time": "2021-09-11T16:27:14.654Z"
   },
   {
    "duration": 62,
    "start_time": "2021-09-11T16:27:40.466Z"
   },
   {
    "duration": 59,
    "start_time": "2021-09-11T16:28:36.673Z"
   },
   {
    "duration": 62,
    "start_time": "2021-09-11T16:28:38.639Z"
   },
   {
    "duration": 71,
    "start_time": "2021-09-11T16:29:03.603Z"
   },
   {
    "duration": 365,
    "start_time": "2021-09-11T16:45:35.751Z"
   },
   {
    "duration": 8,
    "start_time": "2021-09-11T16:45:54.195Z"
   },
   {
    "duration": 67,
    "start_time": "2021-09-11T16:48:09.264Z"
   },
   {
    "duration": 7,
    "start_time": "2021-09-11T16:49:57.884Z"
   },
   {
    "duration": 6,
    "start_time": "2021-09-11T16:53:27.606Z"
   },
   {
    "duration": 105,
    "start_time": "2021-09-11T16:56:35.255Z"
   },
   {
    "duration": 85,
    "start_time": "2021-09-11T16:56:43.987Z"
   },
   {
    "duration": 8,
    "start_time": "2021-09-11T16:56:50.617Z"
   },
   {
    "duration": 9,
    "start_time": "2021-09-11T16:57:07.877Z"
   },
   {
    "duration": 9,
    "start_time": "2021-09-11T16:57:34.961Z"
   },
   {
    "duration": 20,
    "start_time": "2021-09-11T17:00:37.135Z"
   },
   {
    "duration": 5,
    "start_time": "2021-09-11T17:02:13.206Z"
   },
   {
    "duration": 274,
    "start_time": "2021-09-11T17:02:26.966Z"
   },
   {
    "duration": 5,
    "start_time": "2021-09-11T17:02:35.209Z"
   },
   {
    "duration": 238,
    "start_time": "2021-09-11T17:02:44.666Z"
   },
   {
    "duration": 5,
    "start_time": "2021-09-11T17:02:53.160Z"
   },
   {
    "duration": 6,
    "start_time": "2021-09-11T17:07:40.033Z"
   },
   {
    "duration": 5,
    "start_time": "2021-09-11T17:07:53.469Z"
   },
   {
    "duration": 9,
    "start_time": "2021-09-11T17:08:32.526Z"
   },
   {
    "duration": 245,
    "start_time": "2021-09-12T10:01:29.859Z"
   },
   {
    "duration": 179,
    "start_time": "2021-09-12T10:02:12.129Z"
   },
   {
    "duration": 599,
    "start_time": "2021-09-12T10:02:30.228Z"
   },
   {
    "duration": 15,
    "start_time": "2021-09-12T10:02:34.981Z"
   },
   {
    "duration": 10,
    "start_time": "2021-09-12T10:04:43.195Z"
   },
   {
    "duration": 15,
    "start_time": "2021-09-12T10:15:44.074Z"
   },
   {
    "duration": 16,
    "start_time": "2021-09-12T10:17:21.279Z"
   },
   {
    "duration": 18,
    "start_time": "2021-09-12T10:18:00.212Z"
   },
   {
    "duration": 11,
    "start_time": "2021-09-12T10:18:12.588Z"
   },
   {
    "duration": 17,
    "start_time": "2021-09-12T10:18:21.538Z"
   },
   {
    "duration": 12,
    "start_time": "2021-09-12T10:19:21.282Z"
   },
   {
    "duration": 9,
    "start_time": "2021-09-12T10:19:24.352Z"
   },
   {
    "duration": 11,
    "start_time": "2021-09-12T10:23:24.008Z"
   },
   {
    "duration": 19,
    "start_time": "2021-09-12T10:23:33.006Z"
   },
   {
    "duration": 22,
    "start_time": "2021-09-12T10:26:14.658Z"
   },
   {
    "duration": 35,
    "start_time": "2021-09-12T10:30:20.019Z"
   },
   {
    "duration": 21,
    "start_time": "2021-09-12T10:30:29.038Z"
   },
   {
    "duration": 19,
    "start_time": "2021-09-12T10:33:00.572Z"
   },
   {
    "duration": 11,
    "start_time": "2021-09-12T10:38:33.958Z"
   },
   {
    "duration": 15,
    "start_time": "2021-09-12T10:38:37.020Z"
   },
   {
    "duration": 11,
    "start_time": "2021-09-12T10:38:48.099Z"
   },
   {
    "duration": 52,
    "start_time": "2021-09-12T10:38:50.934Z"
   },
   {
    "duration": 10,
    "start_time": "2021-09-12T10:38:55.026Z"
   },
   {
    "duration": 18,
    "start_time": "2021-09-12T10:38:57.010Z"
   },
   {
    "duration": 22,
    "start_time": "2021-09-12T10:45:07.963Z"
   },
   {
    "duration": 199,
    "start_time": "2021-09-12T10:45:39.310Z"
   },
   {
    "duration": 6,
    "start_time": "2021-09-12T10:45:47.596Z"
   },
   {
    "duration": 6,
    "start_time": "2021-09-12T10:46:10.875Z"
   },
   {
    "duration": 6,
    "start_time": "2021-09-12T10:46:14.037Z"
   },
   {
    "duration": 6,
    "start_time": "2021-09-12T10:46:16.771Z"
   },
   {
    "duration": 7,
    "start_time": "2021-09-12T10:46:22.696Z"
   },
   {
    "duration": 52,
    "start_time": "2021-09-12T10:50:51.566Z"
   },
   {
    "duration": 9,
    "start_time": "2021-09-12T10:50:53.566Z"
   },
   {
    "duration": 18,
    "start_time": "2021-09-12T10:50:54.292Z"
   },
   {
    "duration": 14,
    "start_time": "2021-09-12T10:50:57.191Z"
   },
   {
    "duration": 51,
    "start_time": "2021-09-12T10:51:33.681Z"
   },
   {
    "duration": 9,
    "start_time": "2021-09-12T10:51:35.711Z"
   },
   {
    "duration": 18,
    "start_time": "2021-09-12T10:51:36.288Z"
   },
   {
    "duration": 4,
    "start_time": "2021-09-12T10:51:36.751Z"
   },
   {
    "duration": 14,
    "start_time": "2021-09-12T10:51:40.062Z"
   },
   {
    "duration": 55,
    "start_time": "2021-09-12T11:07:22.504Z"
   },
   {
    "duration": 57,
    "start_time": "2021-09-12T11:08:16.184Z"
   },
   {
    "duration": 4,
    "start_time": "2021-09-12T14:27:29.501Z"
   },
   {
    "duration": 3,
    "start_time": "2021-09-12T14:27:32.531Z"
   },
   {
    "duration": 54,
    "start_time": "2021-09-12T14:27:37.945Z"
   },
   {
    "duration": 10,
    "start_time": "2021-09-12T14:27:40.295Z"
   },
   {
    "duration": 17,
    "start_time": "2021-09-12T14:27:41.061Z"
   },
   {
    "duration": 4,
    "start_time": "2021-09-12T14:27:41.546Z"
   },
   {
    "duration": 13,
    "start_time": "2021-09-12T14:27:45.333Z"
   },
   {
    "duration": 8,
    "start_time": "2021-09-12T14:27:47.426Z"
   },
   {
    "duration": 179,
    "start_time": "2021-09-12T14:29:26.268Z"
   },
   {
    "duration": 9,
    "start_time": "2021-09-12T14:29:45.060Z"
   },
   {
    "duration": 183,
    "start_time": "2021-09-12T14:31:06.564Z"
   },
   {
    "duration": 16,
    "start_time": "2021-09-12T14:31:17.781Z"
   },
   {
    "duration": 178,
    "start_time": "2021-09-12T14:37:52.276Z"
   },
   {
    "duration": 190,
    "start_time": "2021-09-12T14:38:02.989Z"
   },
   {
    "duration": 190,
    "start_time": "2021-09-12T14:38:25.856Z"
   },
   {
    "duration": 54,
    "start_time": "2021-09-12T14:39:44.987Z"
   },
   {
    "duration": 9,
    "start_time": "2021-09-12T14:39:46.464Z"
   },
   {
    "duration": 18,
    "start_time": "2021-09-12T14:39:46.886Z"
   },
   {
    "duration": 4,
    "start_time": "2021-09-12T14:39:47.291Z"
   },
   {
    "duration": 12,
    "start_time": "2021-09-12T14:39:49.986Z"
   },
   {
    "duration": 694,
    "start_time": "2021-09-12T14:39:50.596Z"
   },
   {
    "duration": 1283,
    "start_time": "2021-09-12T14:40:37.209Z"
   },
   {
    "duration": 705,
    "start_time": "2021-09-12T14:40:49.945Z"
   },
   {
    "duration": 11,
    "start_time": "2021-09-12T14:40:58.223Z"
   },
   {
    "duration": 16,
    "start_time": "2021-09-12T14:41:10.194Z"
   },
   {
    "duration": 17,
    "start_time": "2021-09-12T14:41:41.986Z"
   },
   {
    "duration": 19,
    "start_time": "2021-09-12T14:43:49.575Z"
   },
   {
    "duration": 16,
    "start_time": "2021-09-12T14:44:37.247Z"
   },
   {
    "duration": 15,
    "start_time": "2021-09-12T14:44:55.710Z"
   },
   {
    "duration": 54,
    "start_time": "2021-09-12T14:45:07.429Z"
   },
   {
    "duration": 11,
    "start_time": "2021-09-12T14:45:08.507Z"
   },
   {
    "duration": 19,
    "start_time": "2021-09-12T14:45:08.704Z"
   },
   {
    "duration": 5,
    "start_time": "2021-09-12T14:45:08.961Z"
   },
   {
    "duration": 13,
    "start_time": "2021-09-12T14:45:11.022Z"
   },
   {
    "duration": 23,
    "start_time": "2021-09-12T14:45:11.905Z"
   },
   {
    "duration": 55,
    "start_time": "2021-09-12T14:46:02.328Z"
   },
   {
    "duration": 10,
    "start_time": "2021-09-12T14:46:03.093Z"
   },
   {
    "duration": 26,
    "start_time": "2021-09-12T14:46:03.282Z"
   },
   {
    "duration": 6,
    "start_time": "2021-09-12T14:46:03.484Z"
   },
   {
    "duration": 12,
    "start_time": "2021-09-12T14:46:05.023Z"
   },
   {
    "duration": 20,
    "start_time": "2021-09-12T14:46:05.828Z"
   },
   {
    "duration": 55,
    "start_time": "2021-09-12T14:47:10.224Z"
   },
   {
    "duration": 10,
    "start_time": "2021-09-12T14:47:13.106Z"
   },
   {
    "duration": 18,
    "start_time": "2021-09-12T14:47:13.630Z"
   },
   {
    "duration": 4,
    "start_time": "2021-09-12T14:47:14.160Z"
   },
   {
    "duration": 14,
    "start_time": "2021-09-12T14:47:18.291Z"
   },
   {
    "duration": 19,
    "start_time": "2021-09-12T14:47:25.929Z"
   },
   {
    "duration": 52,
    "start_time": "2021-09-12T14:48:35.367Z"
   },
   {
    "duration": 10,
    "start_time": "2021-09-12T14:48:36.649Z"
   },
   {
    "duration": 18,
    "start_time": "2021-09-12T14:48:36.899Z"
   },
   {
    "duration": 4,
    "start_time": "2021-09-12T14:48:37.219Z"
   },
   {
    "duration": 12,
    "start_time": "2021-09-12T14:48:39.265Z"
   },
   {
    "duration": 663,
    "start_time": "2021-09-12T14:48:39.700Z"
   },
   {
    "duration": 24,
    "start_time": "2021-09-12T14:49:07.195Z"
   },
   {
    "duration": 17,
    "start_time": "2021-09-12T14:52:05.566Z"
   },
   {
    "duration": 50,
    "start_time": "2021-09-12T14:52:17.794Z"
   },
   {
    "duration": 10,
    "start_time": "2021-09-12T14:52:19.403Z"
   },
   {
    "duration": 20,
    "start_time": "2021-09-12T14:52:19.824Z"
   },
   {
    "duration": 5,
    "start_time": "2021-09-12T14:52:20.199Z"
   },
   {
    "duration": 12,
    "start_time": "2021-09-12T14:52:22.659Z"
   },
   {
    "duration": 27,
    "start_time": "2021-09-12T14:52:23.268Z"
   },
   {
    "duration": 6,
    "start_time": "2021-09-12T14:52:42.507Z"
   },
   {
    "duration": 13,
    "start_time": "2021-09-12T14:57:22.962Z"
   },
   {
    "duration": 21,
    "start_time": "2021-09-12T14:57:43.121Z"
   },
   {
    "duration": 16,
    "start_time": "2021-09-12T14:57:57.144Z"
   },
   {
    "duration": 199,
    "start_time": "2021-09-12T15:00:02.264Z"
   },
   {
    "duration": 17,
    "start_time": "2021-09-12T15:01:33.681Z"
   },
   {
    "duration": 202,
    "start_time": "2021-09-12T15:01:36.349Z"
   },
   {
    "duration": 186,
    "start_time": "2021-09-12T15:01:55.843Z"
   },
   {
    "duration": 181,
    "start_time": "2021-09-12T15:02:17.370Z"
   },
   {
    "duration": 1183,
    "start_time": "2021-09-12T15:03:17.467Z"
   },
   {
    "duration": 178,
    "start_time": "2021-09-12T15:04:42.495Z"
   },
   {
    "duration": 221,
    "start_time": "2021-09-12T15:04:56.175Z"
   },
   {
    "duration": 3578,
    "start_time": "2021-09-12T15:05:53.614Z"
   },
   {
    "duration": 52,
    "start_time": "2021-09-12T15:07:08.072Z"
   },
   {
    "duration": 10,
    "start_time": "2021-09-12T15:07:10.462Z"
   },
   {
    "duration": 21,
    "start_time": "2021-09-12T15:09:32.854Z"
   },
   {
    "duration": 5,
    "start_time": "2021-09-12T15:09:34.275Z"
   },
   {
    "duration": 13,
    "start_time": "2021-09-12T15:09:37.078Z"
   },
   {
    "duration": 26,
    "start_time": "2021-09-12T15:09:37.711Z"
   },
   {
    "duration": 3888,
    "start_time": "2021-09-12T15:09:38.695Z"
   },
   {
    "duration": 50,
    "start_time": "2021-09-12T15:09:52.590Z"
   },
   {
    "duration": 10,
    "start_time": "2021-09-12T15:09:54.598Z"
   },
   {
    "duration": 19,
    "start_time": "2021-09-12T15:09:55.354Z"
   },
   {
    "duration": 4,
    "start_time": "2021-09-12T15:09:55.917Z"
   },
   {
    "duration": 12,
    "start_time": "2021-09-12T15:09:58.502Z"
   },
   {
    "duration": 25,
    "start_time": "2021-09-12T15:09:59.402Z"
   },
   {
    "duration": 3576,
    "start_time": "2021-09-12T15:10:00.861Z"
   },
   {
    "duration": 12,
    "start_time": "2021-09-12T15:11:05.273Z"
   },
   {
    "duration": 52,
    "start_time": "2021-09-12T15:11:39.392Z"
   },
   {
    "duration": 11,
    "start_time": "2021-09-12T15:11:40.743Z"
   },
   {
    "duration": 20,
    "start_time": "2021-09-12T15:11:41.103Z"
   },
   {
    "duration": 5,
    "start_time": "2021-09-12T15:11:41.657Z"
   },
   {
    "duration": 13,
    "start_time": "2021-09-12T15:11:44.334Z"
   },
   {
    "duration": 22,
    "start_time": "2021-09-12T15:11:45.413Z"
   },
   {
    "duration": 3,
    "start_time": "2021-09-12T15:11:46.061Z"
   },
   {
    "duration": 19,
    "start_time": "2021-09-12T15:12:24.019Z"
   },
   {
    "duration": 4,
    "start_time": "2021-09-12T15:12:24.565Z"
   },
   {
    "duration": 12,
    "start_time": "2021-09-12T15:12:27.049Z"
   },
   {
    "duration": 22,
    "start_time": "2021-09-12T15:12:27.845Z"
   },
   {
    "duration": 12,
    "start_time": "2021-09-12T15:13:05.617Z"
   },
   {
    "duration": 15,
    "start_time": "2021-09-12T15:13:28.981Z"
   },
   {
    "duration": 15,
    "start_time": "2021-09-12T15:15:54.812Z"
   },
   {
    "duration": 8,
    "start_time": "2021-09-12T15:18:26.351Z"
   },
   {
    "duration": 7,
    "start_time": "2021-09-12T15:18:35.747Z"
   },
   {
    "duration": 73,
    "start_time": "2021-09-12T15:21:43.107Z"
   },
   {
    "duration": 4,
    "start_time": "2021-09-12T15:21:50.899Z"
   },
   {
    "duration": 218,
    "start_time": "2021-09-12T15:29:24.568Z"
   },
   {
    "duration": 177,
    "start_time": "2021-09-12T15:29:31.674Z"
   },
   {
    "duration": 54,
    "start_time": "2021-09-12T15:29:53.816Z"
   },
   {
    "duration": 10,
    "start_time": "2021-09-12T15:29:55.653Z"
   },
   {
    "duration": 9,
    "start_time": "2021-09-12T15:32:38.074Z"
   },
   {
    "duration": 7,
    "start_time": "2021-09-12T15:36:26.289Z"
   },
   {
    "duration": 52,
    "start_time": "2021-09-12T15:37:04.128Z"
   },
   {
    "duration": 10,
    "start_time": "2021-09-12T15:37:05.868Z"
   },
   {
    "duration": 6,
    "start_time": "2021-09-12T15:37:06.388Z"
   },
   {
    "duration": 9,
    "start_time": "2021-09-12T15:37:07.188Z"
   },
   {
    "duration": 53,
    "start_time": "2021-09-12T15:37:15.156Z"
   },
   {
    "duration": 3,
    "start_time": "2021-09-12T15:37:17.187Z"
   },
   {
    "duration": 7,
    "start_time": "2021-09-12T15:37:17.973Z"
   },
   {
    "duration": 10,
    "start_time": "2021-09-12T15:38:13.425Z"
   },
   {
    "duration": 8,
    "start_time": "2021-09-12T15:38:17.204Z"
   },
   {
    "duration": 10,
    "start_time": "2021-09-12T15:38:57.520Z"
   },
   {
    "duration": 14,
    "start_time": "2021-09-12T15:39:11.908Z"
   },
   {
    "duration": 13,
    "start_time": "2021-09-12T15:44:47.475Z"
   },
   {
    "duration": 12,
    "start_time": "2021-09-12T15:44:52.981Z"
   },
   {
    "duration": 191,
    "start_time": "2021-09-12T16:56:49.792Z"
   },
   {
    "duration": 53,
    "start_time": "2021-09-12T16:56:54.493Z"
   },
   {
    "duration": 3,
    "start_time": "2021-09-12T16:56:57.681Z"
   },
   {
    "duration": 3,
    "start_time": "2021-09-12T16:56:58.360Z"
   },
   {
    "duration": 19,
    "start_time": "2021-09-12T16:56:59.900Z"
   },
   {
    "duration": 13,
    "start_time": "2021-09-12T16:57:06.133Z"
   },
   {
    "duration": 2,
    "start_time": "2021-09-12T16:57:07.453Z"
   },
   {
    "duration": 20,
    "start_time": "2021-09-12T16:57:08.007Z"
   },
   {
    "duration": 10,
    "start_time": "2021-09-12T16:57:08.898Z"
   },
   {
    "duration": 18,
    "start_time": "2021-09-12T16:57:55.627Z"
   },
   {
    "duration": 10,
    "start_time": "2021-09-12T19:07:45.803Z"
   },
   {
    "duration": 54,
    "start_time": "2021-09-12T19:07:50.928Z"
   },
   {
    "duration": 9,
    "start_time": "2021-09-12T19:07:55.374Z"
   },
   {
    "duration": 3,
    "start_time": "2021-09-12T19:07:57.399Z"
   },
   {
    "duration": 18,
    "start_time": "2021-09-12T19:07:58.616Z"
   },
   {
    "duration": 20,
    "start_time": "2021-09-12T19:08:01.390Z"
   },
   {
    "duration": 3,
    "start_time": "2021-09-12T19:08:02.594Z"
   },
   {
    "duration": 29,
    "start_time": "2021-09-12T19:08:13.644Z"
   },
   {
    "duration": 15,
    "start_time": "2021-09-12T19:08:13.960Z"
   },
   {
    "duration": 237,
    "start_time": "2021-09-12T19:09:54.412Z"
   },
   {
    "duration": 240,
    "start_time": "2021-09-12T19:10:04.506Z"
   },
   {
    "duration": 235,
    "start_time": "2021-09-12T19:10:06.743Z"
   },
   {
    "duration": 65,
    "start_time": "2021-09-12T19:10:22.283Z"
   },
   {
    "duration": 9,
    "start_time": "2021-09-12T19:19:35.879Z"
   },
   {
    "duration": 6,
    "start_time": "2021-09-12T19:20:51.438Z"
   },
   {
    "duration": 60,
    "start_time": "2021-09-12T19:21:04.049Z"
   },
   {
    "duration": 10,
    "start_time": "2021-09-12T19:21:06.205Z"
   },
   {
    "duration": 6,
    "start_time": "2021-09-12T19:21:06.901Z"
   },
   {
    "duration": 17,
    "start_time": "2021-09-12T19:21:07.495Z"
   },
   {
    "duration": 14,
    "start_time": "2021-09-12T19:22:07.667Z"
   },
   {
    "duration": 696,
    "start_time": "2021-09-12T19:28:52.320Z"
   },
   {
    "duration": 694,
    "start_time": "2021-09-12T19:28:52.323Z"
   },
   {
    "duration": 62,
    "start_time": "2021-09-12T19:28:56.075Z"
   },
   {
    "duration": 11,
    "start_time": "2021-09-12T19:29:01.213Z"
   },
   {
    "duration": 5429,
    "start_time": "2021-09-12T19:29:01.901Z"
   },
   {
    "duration": 693,
    "start_time": "2021-09-12T19:29:06.639Z"
   },
   {
    "duration": 13,
    "start_time": "2021-09-12T19:29:14.726Z"
   },
   {
    "duration": 7,
    "start_time": "2021-09-12T19:29:27.161Z"
   },
   {
    "duration": 182,
    "start_time": "2021-09-12T19:30:46.630Z"
   },
   {
    "duration": 263,
    "start_time": "2021-09-12T19:31:06.000Z"
   },
   {
    "duration": 274,
    "start_time": "2021-09-12T19:31:10.663Z"
   },
   {
    "duration": 684,
    "start_time": "2021-09-12T19:55:04.240Z"
   },
   {
    "duration": 9,
    "start_time": "2021-09-12T19:55:15.004Z"
   },
   {
    "duration": 185,
    "start_time": "2021-09-12T19:56:42.892Z"
   },
   {
    "duration": 16,
    "start_time": "2021-09-12T19:56:50.720Z"
   },
   {
    "duration": 8,
    "start_time": "2021-09-12T19:57:37.631Z"
   },
   {
    "duration": 20,
    "start_time": "2021-09-12T19:58:33.944Z"
   },
   {
    "duration": 5794,
    "start_time": "2021-09-12T19:59:15.186Z"
   },
   {
    "duration": 7,
    "start_time": "2021-09-12T19:59:22.530Z"
   },
   {
    "duration": 222,
    "start_time": "2021-09-12T20:13:45.557Z"
   },
   {
    "duration": 8,
    "start_time": "2021-09-12T20:13:54.561Z"
   },
   {
    "duration": 206,
    "start_time": "2021-09-12T20:23:45.629Z"
   },
   {
    "duration": 181,
    "start_time": "2021-09-12T20:23:56.938Z"
   },
   {
    "duration": 8,
    "start_time": "2021-09-12T20:24:07.514Z"
   },
   {
    "duration": 3,
    "start_time": "2021-09-12T20:40:35.835Z"
   },
   {
    "duration": 4,
    "start_time": "2021-09-12T20:41:30.582Z"
   },
   {
    "duration": 3,
    "start_time": "2021-09-12T20:41:36.406Z"
   },
   {
    "duration": 3,
    "start_time": "2021-09-12T20:41:40.491Z"
   },
   {
    "duration": 10,
    "start_time": "2021-09-12T20:42:01.778Z"
   },
   {
    "duration": 8,
    "start_time": "2021-09-12T20:43:36.362Z"
   },
   {
    "duration": 9,
    "start_time": "2021-09-12T20:43:42.585Z"
   },
   {
    "duration": 173,
    "start_time": "2021-09-12T20:44:36.186Z"
   },
   {
    "duration": 3232,
    "start_time": "2021-09-12T20:44:43.862Z"
   },
   {
    "duration": 2708,
    "start_time": "2021-09-12T20:44:47.150Z"
   },
   {
    "duration": 810,
    "start_time": "2021-09-12T20:58:24.687Z"
   },
   {
    "duration": 3,
    "start_time": "2021-09-12T20:58:54.977Z"
   },
   {
    "duration": 8,
    "start_time": "2021-09-12T20:59:10.425Z"
   },
   {
    "duration": 1593,
    "start_time": "2021-09-12T20:59:27.525Z"
   },
   {
    "duration": 929,
    "start_time": "2021-09-12T20:59:58.291Z"
   },
   {
    "duration": 183,
    "start_time": "2021-09-12T21:01:03.871Z"
   },
   {
    "duration": 818,
    "start_time": "2021-09-12T21:01:14.742Z"
   },
   {
    "duration": 26,
    "start_time": "2021-09-12T21:03:34.596Z"
   },
   {
    "duration": 54,
    "start_time": "2021-09-12T21:03:38.235Z"
   },
   {
    "duration": 58,
    "start_time": "2021-09-12T21:03:49.483Z"
   },
   {
    "duration": 1437,
    "start_time": "2021-09-12T21:03:50.265Z"
   },
   {
    "duration": 2616,
    "start_time": "2021-09-12T21:04:13.769Z"
   },
   {
    "duration": 2592,
    "start_time": "2021-09-12T21:05:46.679Z"
   },
   {
    "duration": 229,
    "start_time": "2021-09-12T21:11:12.846Z"
   },
   {
    "duration": 5,
    "start_time": "2021-09-12T21:11:20.452Z"
   },
   {
    "duration": 6,
    "start_time": "2021-09-12T21:11:38.585Z"
   },
   {
    "duration": 9,
    "start_time": "2021-09-12T21:13:50.275Z"
   },
   {
    "duration": 3342,
    "start_time": "2021-09-12T21:14:03.293Z"
   },
   {
    "duration": 2681,
    "start_time": "2021-09-12T21:15:44.714Z"
   },
   {
    "duration": 2809,
    "start_time": "2021-09-12T21:17:21.104Z"
   },
   {
    "duration": 2591,
    "start_time": "2021-09-12T21:17:35.139Z"
   },
   {
    "duration": 2678,
    "start_time": "2021-09-12T21:18:00.109Z"
   },
   {
    "duration": 2673,
    "start_time": "2021-09-12T21:19:17.055Z"
   },
   {
    "duration": 2781,
    "start_time": "2021-09-12T21:20:07.504Z"
   },
   {
    "duration": 2574,
    "start_time": "2021-09-12T21:21:37.812Z"
   },
   {
    "duration": 2655,
    "start_time": "2021-09-12T21:21:48.503Z"
   },
   {
    "duration": 351,
    "start_time": "2021-09-13T06:46:59.049Z"
   },
   {
    "duration": 799,
    "start_time": "2021-09-13T06:47:04.689Z"
   },
   {
    "duration": 20,
    "start_time": "2021-09-13T06:47:08.647Z"
   },
   {
    "duration": 473,
    "start_time": "2021-09-13T06:47:10.245Z"
   },
   {
    "duration": 10,
    "start_time": "2021-09-13T06:47:11.349Z"
   },
   {
    "duration": 6,
    "start_time": "2021-09-13T06:47:12.334Z"
   },
   {
    "duration": 97,
    "start_time": "2021-09-13T06:47:13.288Z"
   },
   {
    "duration": 51,
    "start_time": "2021-09-13T06:47:21.500Z"
   },
   {
    "duration": 47,
    "start_time": "2021-09-13T06:51:43.757Z"
   },
   {
    "duration": 10,
    "start_time": "2021-09-13T07:21:52.552Z"
   },
   {
    "duration": 78,
    "start_time": "2021-09-13T07:21:52.565Z"
   },
   {
    "duration": 14,
    "start_time": "2021-09-13T07:21:54.385Z"
   },
   {
    "duration": 452,
    "start_time": "2021-09-13T07:21:55.676Z"
   },
   {
    "duration": 47,
    "start_time": "2021-09-13T07:21:56.251Z"
   },
   {
    "duration": 9,
    "start_time": "2021-09-13T07:21:56.925Z"
   },
   {
    "duration": 6,
    "start_time": "2021-09-13T07:31:57.701Z"
   },
   {
    "duration": 48,
    "start_time": "2021-09-13T07:32:07.474Z"
   },
   {
    "duration": 315,
    "start_time": "2021-09-13T07:58:26.582Z"
   },
   {
    "duration": 53,
    "start_time": "2021-09-13T07:58:33.628Z"
   },
   {
    "duration": 11,
    "start_time": "2021-09-13T08:03:51.135Z"
   },
   {
    "duration": 17,
    "start_time": "2021-09-13T08:11:59.286Z"
   },
   {
    "duration": 102,
    "start_time": "2021-09-13T08:12:00.139Z"
   },
   {
    "duration": 4374,
    "start_time": "2021-09-13T08:12:00.951Z"
   },
   {
    "duration": 85,
    "start_time": "2021-09-13T08:12:11.722Z"
   },
   {
    "duration": 14,
    "start_time": "2021-09-13T08:12:13.799Z"
   },
   {
    "duration": 480,
    "start_time": "2021-09-13T08:12:14.690Z"
   },
   {
    "duration": 49,
    "start_time": "2021-09-13T08:12:15.503Z"
   },
   {
    "duration": 98,
    "start_time": "2021-09-13T08:12:16.650Z"
   },
   {
    "duration": 54,
    "start_time": "2021-09-13T08:12:27.734Z"
   },
   {
    "duration": 8,
    "start_time": "2021-09-13T08:12:43.935Z"
   },
   {
    "duration": 52,
    "start_time": "2021-09-13T08:12:47.808Z"
   },
   {
    "duration": 81,
    "start_time": "2021-09-13T08:12:54.854Z"
   },
   {
    "duration": 13,
    "start_time": "2021-09-13T08:12:57.620Z"
   },
   {
    "duration": 478,
    "start_time": "2021-09-13T08:12:58.368Z"
   },
   {
    "duration": 48,
    "start_time": "2021-09-13T08:12:59.095Z"
   },
   {
    "duration": 10,
    "start_time": "2021-09-13T08:13:00.658Z"
   },
   {
    "duration": 54,
    "start_time": "2021-09-13T08:13:01.471Z"
   },
   {
    "duration": 92,
    "start_time": "2021-09-13T08:13:03.398Z"
   },
   {
    "duration": 15,
    "start_time": "2021-09-13T08:13:09.523Z"
   },
   {
    "duration": 17,
    "start_time": "2021-09-13T08:13:14.618Z"
   },
   {
    "duration": 848,
    "start_time": "2021-09-13T08:13:28.201Z"
   },
   {
    "duration": 14,
    "start_time": "2021-09-13T08:13:50.119Z"
   },
   {
    "duration": 3,
    "start_time": "2021-09-13T08:13:51.152Z"
   },
   {
    "duration": 16,
    "start_time": "2021-09-13T08:13:51.618Z"
   },
   {
    "duration": 76,
    "start_time": "2021-09-13T08:14:04.623Z"
   },
   {
    "duration": 13,
    "start_time": "2021-09-13T08:14:06.787Z"
   },
   {
    "duration": 478,
    "start_time": "2021-09-13T08:14:07.356Z"
   },
   {
    "duration": 50,
    "start_time": "2021-09-13T08:14:08.562Z"
   },
   {
    "duration": 8,
    "start_time": "2021-09-13T08:14:10.937Z"
   },
   {
    "duration": 53,
    "start_time": "2021-09-13T08:14:12.177Z"
   },
   {
    "duration": 139,
    "start_time": "2021-09-13T08:14:13.053Z"
   },
   {
    "duration": 15,
    "start_time": "2021-09-13T08:14:17.942Z"
   },
   {
    "duration": 81,
    "start_time": "2021-09-13T08:14:33.390Z"
   },
   {
    "duration": 78,
    "start_time": "2021-09-13T08:14:40.187Z"
   },
   {
    "duration": 17,
    "start_time": "2021-09-13T08:14:53.899Z"
   },
   {
    "duration": 3815,
    "start_time": "2021-09-13T08:16:38.244Z"
   },
   {
    "duration": 2070,
    "start_time": "2021-09-13T08:20:32.354Z"
   },
   {
    "duration": 3770,
    "start_time": "2021-09-13T08:21:59.654Z"
   },
   {
    "duration": 78,
    "start_time": "2021-09-13T08:22:07.422Z"
   },
   {
    "duration": 13,
    "start_time": "2021-09-13T08:22:11.347Z"
   },
   {
    "duration": 486,
    "start_time": "2021-09-13T08:22:11.929Z"
   },
   {
    "duration": 56,
    "start_time": "2021-09-13T08:22:12.417Z"
   },
   {
    "duration": 8,
    "start_time": "2021-09-13T08:22:13.168Z"
   },
   {
    "duration": 54,
    "start_time": "2021-09-13T08:22:14.095Z"
   },
   {
    "duration": 321,
    "start_time": "2021-09-13T08:22:15.021Z"
   },
   {
    "duration": 14,
    "start_time": "2021-09-13T08:22:23.961Z"
   },
   {
    "duration": 3,
    "start_time": "2021-09-13T08:22:24.945Z"
   },
   {
    "duration": 16,
    "start_time": "2021-09-13T08:22:25.491Z"
   },
   {
    "duration": 307,
    "start_time": "2021-09-13T08:22:26.469Z"
   },
   {
    "duration": 16,
    "start_time": "2021-09-13T08:22:34.480Z"
   },
   {
    "duration": 95,
    "start_time": "2021-09-13T08:22:43.005Z"
   },
   {
    "duration": 11,
    "start_time": "2021-09-13T08:22:45.444Z"
   },
   {
    "duration": 23,
    "start_time": "2021-09-13T08:22:48.453Z"
   },
   {
    "duration": 10,
    "start_time": "2021-09-13T08:22:49.486Z"
   },
   {
    "duration": 25,
    "start_time": "2021-09-13T08:22:51.048Z"
   },
   {
    "duration": 10,
    "start_time": "2021-09-13T08:22:51.825Z"
   },
   {
    "duration": 98,
    "start_time": "2021-09-13T08:22:59.086Z"
   },
   {
    "duration": 35,
    "start_time": "2021-09-13T08:23:00.163Z"
   },
   {
    "duration": 100,
    "start_time": "2021-09-13T08:23:01.881Z"
   },
   {
    "duration": 5083,
    "start_time": "2021-09-13T08:23:02.790Z"
   },
   {
    "duration": 4,
    "start_time": "2021-09-13T08:23:37.847Z"
   },
   {
    "duration": 3529,
    "start_time": "2021-09-13T08:25:51.161Z"
   },
   {
    "duration": 9,
    "start_time": "2021-09-13T08:33:00.300Z"
   },
   {
    "duration": 36,
    "start_time": "2021-09-13T08:34:25.634Z"
   },
   {
    "duration": 26,
    "start_time": "2021-09-13T08:34:36.063Z"
   },
   {
    "duration": 168,
    "start_time": "2021-09-13T08:34:47.204Z"
   },
   {
    "duration": 8,
    "start_time": "2021-09-13T08:35:44.498Z"
   },
   {
    "duration": 28,
    "start_time": "2021-09-13T08:37:10.419Z"
   },
   {
    "duration": 9,
    "start_time": "2021-09-13T08:37:36.057Z"
   },
   {
    "duration": 11,
    "start_time": "2021-09-13T08:37:48.940Z"
   },
   {
    "duration": 667,
    "start_time": "2021-09-13T08:38:09.011Z"
   },
   {
    "duration": 11,
    "start_time": "2021-09-13T08:38:22.502Z"
   },
   {
    "duration": 792,
    "start_time": "2021-09-13T08:39:31.796Z"
   },
   {
    "duration": 14,
    "start_time": "2021-09-13T08:42:11.453Z"
   },
   {
    "duration": 28,
    "start_time": "2021-09-13T08:42:23.915Z"
   },
   {
    "duration": 49,
    "start_time": "2021-09-13T09:33:18.506Z"
   },
   {
    "duration": 8,
    "start_time": "2021-09-13T09:33:46.330Z"
   },
   {
    "duration": 80,
    "start_time": "2021-09-13T09:33:57.290Z"
   },
   {
    "duration": 49,
    "start_time": "2021-09-13T09:33:57.707Z"
   },
   {
    "duration": 77,
    "start_time": "2021-09-13T09:39:44.652Z"
   },
   {
    "duration": 47,
    "start_time": "2021-09-13T09:39:46.269Z"
   },
   {
    "duration": 14,
    "start_time": "2021-09-13T09:39:48.199Z"
   },
   {
    "duration": 469,
    "start_time": "2021-09-13T09:39:49.105Z"
   },
   {
    "duration": 8,
    "start_time": "2021-09-13T09:39:49.577Z"
   },
   {
    "duration": 55,
    "start_time": "2021-09-13T09:39:50.198Z"
   },
   {
    "duration": 29,
    "start_time": "2021-09-13T09:39:50.870Z"
   },
   {
    "duration": 98,
    "start_time": "2021-09-13T09:39:57.479Z"
   },
   {
    "duration": 14,
    "start_time": "2021-09-13T09:40:05.639Z"
   },
   {
    "duration": 3,
    "start_time": "2021-09-13T09:40:07.232Z"
   },
   {
    "duration": 15,
    "start_time": "2021-09-13T09:40:11.859Z"
   },
   {
    "duration": 14,
    "start_time": "2021-09-13T09:40:12.395Z"
   },
   {
    "duration": 106,
    "start_time": "2021-09-13T09:40:17.920Z"
   },
   {
    "duration": 3,
    "start_time": "2021-09-13T09:40:28.613Z"
   },
   {
    "duration": 10,
    "start_time": "2021-09-13T09:40:30.322Z"
   },
   {
    "duration": 24,
    "start_time": "2021-09-13T09:40:31.266Z"
   },
   {
    "duration": 10,
    "start_time": "2021-09-13T09:40:31.602Z"
   },
   {
    "duration": 26,
    "start_time": "2021-09-13T09:40:32.277Z"
   },
   {
    "duration": 10,
    "start_time": "2021-09-13T09:40:33.689Z"
   },
   {
    "duration": 3,
    "start_time": "2021-09-13T09:40:51.904Z"
   },
   {
    "duration": 35,
    "start_time": "2021-09-13T09:40:54.552Z"
   },
   {
    "duration": 104,
    "start_time": "2021-09-13T09:40:56.039Z"
   },
   {
    "duration": 3575,
    "start_time": "2021-09-13T09:41:01.309Z"
   },
   {
    "duration": 3,
    "start_time": "2021-09-13T09:41:04.887Z"
   },
   {
    "duration": 330,
    "start_time": "2021-09-13T09:43:20.564Z"
   },
   {
    "duration": 12,
    "start_time": "2021-09-13T09:43:28.317Z"
   },
   {
    "duration": 342,
    "start_time": "2021-09-13T09:43:49.496Z"
   },
   {
    "duration": 3429,
    "start_time": "2021-09-13T09:44:04.208Z"
   },
   {
    "duration": 3439,
    "start_time": "2021-09-13T09:44:15.287Z"
   },
   {
    "duration": 3448,
    "start_time": "2021-09-13T09:44:39.507Z"
   },
   {
    "duration": 3444,
    "start_time": "2021-09-13T09:45:00.312Z"
   },
   {
    "duration": 3458,
    "start_time": "2021-09-13T09:55:50.522Z"
   },
   {
    "duration": 3833,
    "start_time": "2021-09-13T09:56:31.354Z"
   },
   {
    "duration": 27,
    "start_time": "2021-09-13T10:03:42.654Z"
   },
   {
    "duration": 25,
    "start_time": "2021-09-13T10:04:13.103Z"
   },
   {
    "duration": 24,
    "start_time": "2021-09-13T10:58:34.022Z"
   },
   {
    "duration": 37,
    "start_time": "2021-09-13T10:58:43.105Z"
   },
   {
    "duration": 283,
    "start_time": "2021-09-13T11:04:43.287Z"
   },
   {
    "duration": 12,
    "start_time": "2021-09-13T11:04:53.115Z"
   },
   {
    "duration": 10,
    "start_time": "2021-09-13T11:05:36.266Z"
   },
   {
    "duration": 8,
    "start_time": "2021-09-13T11:05:40.140Z"
   },
   {
    "duration": 14,
    "start_time": "2021-09-13T11:06:36.703Z"
   },
   {
    "duration": 13,
    "start_time": "2021-09-13T11:06:58.468Z"
   },
   {
    "duration": 11,
    "start_time": "2021-09-13T11:07:01.748Z"
   },
   {
    "duration": 8,
    "start_time": "2021-09-13T11:18:50.837Z"
   },
   {
    "duration": 42,
    "start_time": "2021-09-13T11:24:10.471Z"
   },
   {
    "duration": 9,
    "start_time": "2021-09-13T11:27:47.666Z"
   },
   {
    "duration": 296,
    "start_time": "2021-09-13T11:29:37.596Z"
   },
   {
    "duration": 9,
    "start_time": "2021-09-13T11:34:11.739Z"
   },
   {
    "duration": 293,
    "start_time": "2021-09-13T11:35:01.415Z"
   },
   {
    "duration": 9,
    "start_time": "2021-09-13T11:35:15.343Z"
   },
   {
    "duration": 10,
    "start_time": "2021-09-13T11:40:33.366Z"
   },
   {
    "duration": 11,
    "start_time": "2021-09-13T11:41:04.531Z"
   },
   {
    "duration": 26,
    "start_time": "2021-09-13T11:53:27.817Z"
   },
   {
    "duration": 82,
    "start_time": "2021-09-13T12:02:48.467Z"
   },
   {
    "duration": 485,
    "start_time": "2021-09-13T12:03:51.062Z"
   },
   {
    "duration": 302,
    "start_time": "2021-09-13T12:05:28.710Z"
   },
   {
    "duration": 9,
    "start_time": "2021-09-13T12:05:38.229Z"
   },
   {
    "duration": 10,
    "start_time": "2021-09-13T12:06:30.867Z"
   },
   {
    "duration": 301,
    "start_time": "2021-09-13T12:15:09.689Z"
   },
   {
    "duration": 11,
    "start_time": "2021-09-13T12:15:17.449Z"
   },
   {
    "duration": 300,
    "start_time": "2021-09-13T12:17:52.600Z"
   },
   {
    "duration": 10,
    "start_time": "2021-09-13T12:18:01.983Z"
   },
   {
    "duration": 34,
    "start_time": "2021-09-13T12:18:02.747Z"
   },
   {
    "duration": 37,
    "start_time": "2021-09-13T12:18:32.052Z"
   },
   {
    "duration": 40,
    "start_time": "2021-09-13T12:18:34.615Z"
   },
   {
    "duration": 84,
    "start_time": "2021-09-13T12:18:40.013Z"
   },
   {
    "duration": 48,
    "start_time": "2021-09-13T12:18:40.965Z"
   },
   {
    "duration": 13,
    "start_time": "2021-09-13T12:18:43.465Z"
   },
   {
    "duration": 529,
    "start_time": "2021-09-13T12:18:44.353Z"
   },
   {
    "duration": 10,
    "start_time": "2021-09-13T12:18:45.831Z"
   },
   {
    "duration": 10,
    "start_time": "2021-09-13T12:18:55.568Z"
   },
   {
    "duration": 40,
    "start_time": "2021-09-13T12:18:57.154Z"
   },
   {
    "duration": 9,
    "start_time": "2021-09-13T12:18:58.876Z"
   },
   {
    "duration": 11,
    "start_time": "2021-09-13T12:18:59.756Z"
   },
   {
    "duration": 3,
    "start_time": "2021-09-13T12:19:00.470Z"
   },
   {
    "duration": 9,
    "start_time": "2021-09-13T12:19:01.299Z"
   },
   {
    "duration": 11,
    "start_time": "2021-09-13T12:19:02.009Z"
   },
   {
    "duration": 36,
    "start_time": "2021-09-13T12:19:03.338Z"
   },
   {
    "duration": 32,
    "start_time": "2021-09-13T13:33:52.459Z"
   },
   {
    "duration": 24,
    "start_time": "2021-09-13T13:35:14.460Z"
   },
   {
    "duration": 3,
    "start_time": "2021-09-13T13:42:13.817Z"
   },
   {
    "duration": 41,
    "start_time": "2021-09-13T14:06:53.269Z"
   },
   {
    "duration": 4,
    "start_time": "2021-09-13T14:07:32.755Z"
   },
   {
    "duration": 11,
    "start_time": "2021-09-13T15:08:55.476Z"
   },
   {
    "duration": 5,
    "start_time": "2021-09-13T15:16:57.244Z"
   },
   {
    "duration": 275,
    "start_time": "2021-09-13T15:17:27.110Z"
   },
   {
    "duration": 410,
    "start_time": "2021-09-13T15:17:41.462Z"
   },
   {
    "duration": 388,
    "start_time": "2021-09-13T15:20:51.328Z"
   },
   {
    "duration": 390,
    "start_time": "2021-09-13T15:21:11.866Z"
   },
   {
    "duration": 21,
    "start_time": "2021-09-13T15:22:28.791Z"
   },
   {
    "duration": 95,
    "start_time": "2021-09-13T15:23:52.949Z"
   },
   {
    "duration": 124,
    "start_time": "2021-09-13T15:24:00.702Z"
   },
   {
    "duration": 21,
    "start_time": "2021-09-13T15:24:09.428Z"
   },
   {
    "duration": 20,
    "start_time": "2021-09-13T15:24:22.281Z"
   },
   {
    "duration": 104,
    "start_time": "2021-09-13T15:24:30.502Z"
   },
   {
    "duration": 21,
    "start_time": "2021-09-13T15:24:44.483Z"
   },
   {
    "duration": 21,
    "start_time": "2021-09-13T15:27:21.718Z"
   },
   {
    "duration": 20,
    "start_time": "2021-09-13T15:27:26.044Z"
   },
   {
    "duration": 33,
    "start_time": "2021-09-13T15:27:36.436Z"
   },
   {
    "duration": 295,
    "start_time": "2021-09-13T15:27:44.090Z"
   },
   {
    "duration": 20,
    "start_time": "2021-09-13T15:28:13.317Z"
   },
   {
    "duration": 19,
    "start_time": "2021-09-13T15:28:36.965Z"
   },
   {
    "duration": 79,
    "start_time": "2021-09-13T15:28:49.533Z"
   },
   {
    "duration": 54,
    "start_time": "2021-09-13T15:28:49.618Z"
   },
   {
    "duration": 14,
    "start_time": "2021-09-13T15:28:52.146Z"
   },
   {
    "duration": 9,
    "start_time": "2021-09-13T15:28:52.993Z"
   },
   {
    "duration": 11,
    "start_time": "2021-09-13T15:28:53.531Z"
   },
   {
    "duration": 40,
    "start_time": "2021-09-13T15:28:54.271Z"
   },
   {
    "duration": 9,
    "start_time": "2021-09-13T15:28:54.832Z"
   },
   {
    "duration": 15,
    "start_time": "2021-09-13T15:28:55.390Z"
   },
   {
    "duration": 3,
    "start_time": "2021-09-13T15:28:56.012Z"
   },
   {
    "duration": 9,
    "start_time": "2021-09-13T15:28:56.588Z"
   },
   {
    "duration": 12,
    "start_time": "2021-09-13T15:28:58.437Z"
   },
   {
    "duration": 37,
    "start_time": "2021-09-13T15:28:58.946Z"
   },
   {
    "duration": 10,
    "start_time": "2021-09-13T15:28:59.443Z"
   },
   {
    "duration": 58,
    "start_time": "2021-09-13T15:29:00.051Z"
   },
   {
    "duration": 22,
    "start_time": "2021-09-13T15:29:00.729Z"
   },
   {
    "duration": 521,
    "start_time": "2021-09-13T15:29:36.778Z"
   },
   {
    "duration": 412,
    "start_time": "2021-09-13T15:30:00.144Z"
   },
   {
    "duration": 858,
    "start_time": "2021-09-13T15:33:10.505Z"
   },
   {
    "duration": 942,
    "start_time": "2021-09-13T15:33:28.631Z"
   },
   {
    "duration": 98,
    "start_time": "2021-09-13T15:33:37.280Z"
   },
   {
    "duration": 47,
    "start_time": "2021-09-13T15:33:37.894Z"
   },
   {
    "duration": 18,
    "start_time": "2021-09-13T15:33:39.232Z"
   },
   {
    "duration": 10,
    "start_time": "2021-09-13T15:33:39.670Z"
   },
   {
    "duration": 11,
    "start_time": "2021-09-13T15:33:40.054Z"
   },
   {
    "duration": 40,
    "start_time": "2021-09-13T15:33:40.432Z"
   },
   {
    "duration": 13,
    "start_time": "2021-09-13T15:33:41.003Z"
   },
   {
    "duration": 15,
    "start_time": "2021-09-13T15:33:41.543Z"
   },
   {
    "duration": 3,
    "start_time": "2021-09-13T15:33:42.160Z"
   },
   {
    "duration": 10,
    "start_time": "2021-09-13T15:33:42.656Z"
   },
   {
    "duration": 11,
    "start_time": "2021-09-13T15:33:43.301Z"
   },
   {
    "duration": 35,
    "start_time": "2021-09-13T15:33:43.828Z"
   },
   {
    "duration": 8,
    "start_time": "2021-09-13T15:33:44.334Z"
   },
   {
    "duration": 55,
    "start_time": "2021-09-13T15:33:46.129Z"
   },
   {
    "duration": 406,
    "start_time": "2021-09-13T15:33:47.848Z"
   },
   {
    "duration": 10,
    "start_time": "2021-09-13T15:36:20.357Z"
   },
   {
    "duration": 9,
    "start_time": "2021-09-13T15:41:36.599Z"
   },
   {
    "duration": 290,
    "start_time": "2021-09-13T15:41:50.085Z"
   },
   {
    "duration": 9,
    "start_time": "2021-09-13T15:45:16.102Z"
   },
   {
    "duration": 13,
    "start_time": "2021-09-13T15:46:32.052Z"
   },
   {
    "duration": 687,
    "start_time": "2021-09-13T15:52:40.373Z"
   },
   {
    "duration": 12,
    "start_time": "2021-09-13T15:53:51.533Z"
   },
   {
    "duration": 9,
    "start_time": "2021-09-13T15:54:33.948Z"
   },
   {
    "duration": 13,
    "start_time": "2021-09-13T15:54:38.241Z"
   },
   {
    "duration": 860,
    "start_time": "2021-09-14T07:49:29.943Z"
   },
   {
    "duration": 65,
    "start_time": "2021-09-14T07:49:30.805Z"
   },
   {
    "duration": 15,
    "start_time": "2021-09-14T07:49:33.478Z"
   },
   {
    "duration": 13,
    "start_time": "2021-09-14T07:50:16.333Z"
   },
   {
    "duration": 10,
    "start_time": "2021-09-14T07:50:16.834Z"
   },
   {
    "duration": 11,
    "start_time": "2021-09-14T07:50:17.334Z"
   },
   {
    "duration": 42,
    "start_time": "2021-09-14T07:51:21.198Z"
   },
   {
    "duration": 10,
    "start_time": "2021-09-14T07:51:21.652Z"
   },
   {
    "duration": 12,
    "start_time": "2021-09-14T07:51:22.073Z"
   },
   {
    "duration": 4,
    "start_time": "2021-09-14T07:51:22.493Z"
   },
   {
    "duration": 9,
    "start_time": "2021-09-14T07:51:22.947Z"
   },
   {
    "duration": 15,
    "start_time": "2021-09-14T07:51:23.423Z"
   },
   {
    "duration": 41,
    "start_time": "2021-09-14T07:51:23.957Z"
   },
   {
    "duration": 9,
    "start_time": "2021-09-14T07:51:24.431Z"
   },
   {
    "duration": 55,
    "start_time": "2021-09-14T07:51:25.275Z"
   },
   {
    "duration": 375,
    "start_time": "2021-09-14T07:51:26.378Z"
   },
   {
    "duration": 270,
    "start_time": "2021-09-14T07:51:34.822Z"
   },
   {
    "duration": 81,
    "start_time": "2021-09-14T07:51:47.646Z"
   },
   {
    "duration": 49,
    "start_time": "2021-09-14T07:51:48.059Z"
   },
   {
    "duration": 13,
    "start_time": "2021-09-14T07:51:49.145Z"
   },
   {
    "duration": 9,
    "start_time": "2021-09-14T07:51:49.545Z"
   },
   {
    "duration": 12,
    "start_time": "2021-09-14T07:51:49.903Z"
   },
   {
    "duration": 42,
    "start_time": "2021-09-14T07:51:50.270Z"
   },
   {
    "duration": 10,
    "start_time": "2021-09-14T07:51:50.677Z"
   },
   {
    "duration": 11,
    "start_time": "2021-09-14T07:51:51.075Z"
   },
   {
    "duration": 4,
    "start_time": "2021-09-14T07:51:51.472Z"
   },
   {
    "duration": 10,
    "start_time": "2021-09-14T07:51:51.872Z"
   },
   {
    "duration": 11,
    "start_time": "2021-09-14T07:51:52.303Z"
   },
   {
    "duration": 38,
    "start_time": "2021-09-14T07:51:52.771Z"
   },
   {
    "duration": 8,
    "start_time": "2021-09-14T07:51:53.208Z"
   },
   {
    "duration": 56,
    "start_time": "2021-09-14T07:51:53.677Z"
   },
   {
    "duration": 261,
    "start_time": "2021-09-14T07:51:54.225Z"
   },
   {
    "duration": 262,
    "start_time": "2021-09-14T07:58:04.755Z"
   },
   {
    "duration": 324,
    "start_time": "2021-09-14T07:58:08.555Z"
   },
   {
    "duration": 1629,
    "start_time": "2021-09-14T07:59:59.909Z"
   },
   {
    "duration": 1205,
    "start_time": "2021-09-14T08:00:10.303Z"
   },
   {
    "duration": 257,
    "start_time": "2021-09-14T08:01:23.419Z"
   },
   {
    "duration": 411,
    "start_time": "2021-09-14T08:01:42.447Z"
   },
   {
    "duration": 413,
    "start_time": "2021-09-14T08:01:53.755Z"
   },
   {
    "duration": 442,
    "start_time": "2021-09-14T08:02:10.884Z"
   },
   {
    "duration": 9,
    "start_time": "2021-09-14T08:02:49.719Z"
   },
   {
    "duration": 406,
    "start_time": "2021-09-14T08:06:55.003Z"
   },
   {
    "duration": 9,
    "start_time": "2021-09-14T08:06:58.270Z"
   },
   {
    "duration": 412,
    "start_time": "2021-09-14T08:07:26.558Z"
   },
   {
    "duration": 10,
    "start_time": "2021-09-14T08:07:30.471Z"
   },
   {
    "duration": 302,
    "start_time": "2021-09-14T08:11:31.108Z"
   },
   {
    "duration": 255,
    "start_time": "2021-09-14T08:12:07.315Z"
   },
   {
    "duration": 429,
    "start_time": "2021-09-14T08:12:34.269Z"
   },
   {
    "duration": 10,
    "start_time": "2021-09-14T08:12:35.417Z"
   },
   {
    "duration": 280,
    "start_time": "2021-09-14T08:12:36.683Z"
   },
   {
    "duration": 1045,
    "start_time": "2021-09-14T08:14:29.843Z"
   },
   {
    "duration": 289,
    "start_time": "2021-09-14T08:20:32.623Z"
   },
   {
    "duration": 846,
    "start_time": "2021-09-14T08:20:52.783Z"
   },
   {
    "duration": 27,
    "start_time": "2021-09-14T08:21:10.959Z"
   },
   {
    "duration": 42,
    "start_time": "2021-09-14T08:21:32.915Z"
   },
   {
    "duration": 44,
    "start_time": "2021-09-14T08:22:08.327Z"
   },
   {
    "duration": 79,
    "start_time": "2021-09-14T08:22:36.094Z"
   },
   {
    "duration": 48,
    "start_time": "2021-09-14T08:22:36.808Z"
   },
   {
    "duration": 15,
    "start_time": "2021-09-14T08:22:38.423Z"
   },
   {
    "duration": 11,
    "start_time": "2021-09-14T08:22:39.236Z"
   },
   {
    "duration": 13,
    "start_time": "2021-09-14T08:22:39.750Z"
   },
   {
    "duration": 41,
    "start_time": "2021-09-14T08:22:40.398Z"
   },
   {
    "duration": 8,
    "start_time": "2021-09-14T08:22:41.009Z"
   },
   {
    "duration": 11,
    "start_time": "2021-09-14T08:22:41.516Z"
   },
   {
    "duration": 3,
    "start_time": "2021-09-14T08:22:42.006Z"
   },
   {
    "duration": 10,
    "start_time": "2021-09-14T08:22:43.719Z"
   },
   {
    "duration": 11,
    "start_time": "2021-09-14T08:22:50.185Z"
   },
   {
    "duration": 35,
    "start_time": "2021-09-14T08:22:50.944Z"
   },
   {
    "duration": 8,
    "start_time": "2021-09-14T08:22:51.472Z"
   },
   {
    "duration": 54,
    "start_time": "2021-09-14T08:22:52.420Z"
   },
   {
    "duration": 406,
    "start_time": "2021-09-14T08:22:53.257Z"
   },
   {
    "duration": 12,
    "start_time": "2021-09-14T08:22:53.737Z"
   },
   {
    "duration": 40,
    "start_time": "2021-09-14T08:22:55.873Z"
   },
   {
    "duration": 16,
    "start_time": "2021-09-14T08:23:01.352Z"
   },
   {
    "duration": 3,
    "start_time": "2021-09-14T08:23:10.429Z"
   },
   {
    "duration": 18,
    "start_time": "2021-09-14T08:23:11.046Z"
   },
   {
    "duration": 16,
    "start_time": "2021-09-14T08:23:11.530Z"
   },
   {
    "duration": 3,
    "start_time": "2021-09-14T08:23:13.451Z"
   },
   {
    "duration": 11,
    "start_time": "2021-09-14T08:23:13.794Z"
   },
   {
    "duration": 25,
    "start_time": "2021-09-14T08:23:14.467Z"
   },
   {
    "duration": 11,
    "start_time": "2021-09-14T08:23:14.707Z"
   },
   {
    "duration": 27,
    "start_time": "2021-09-14T08:23:14.991Z"
   },
   {
    "duration": 9,
    "start_time": "2021-09-14T08:23:15.249Z"
   },
   {
    "duration": 3,
    "start_time": "2021-09-14T08:23:27.252Z"
   },
   {
    "duration": 17,
    "start_time": "2021-09-14T08:23:28.010Z"
   },
   {
    "duration": 4544,
    "start_time": "2021-09-14T08:23:28.481Z"
   },
   {
    "duration": 50,
    "start_time": "2021-09-14T08:23:33.027Z"
   },
   {
    "duration": 19,
    "start_time": "2021-09-14T08:23:33.080Z"
   },
   {
    "duration": 43,
    "start_time": "2021-09-14T08:24:41.760Z"
   },
   {
    "duration": 421,
    "start_time": "2021-09-14T08:24:45.957Z"
   },
   {
    "duration": 10,
    "start_time": "2021-09-14T08:24:47.106Z"
   },
   {
    "duration": 41,
    "start_time": "2021-09-14T08:24:48.176Z"
   },
   {
    "duration": 55,
    "start_time": "2021-09-14T08:24:52.697Z"
   },
   {
    "duration": 57,
    "start_time": "2021-09-14T08:24:56.805Z"
   },
   {
    "duration": 412,
    "start_time": "2021-09-14T08:24:57.376Z"
   },
   {
    "duration": 10,
    "start_time": "2021-09-14T08:24:58.475Z"
   },
   {
    "duration": 41,
    "start_time": "2021-09-14T08:24:59.031Z"
   },
   {
    "duration": 82,
    "start_time": "2021-09-14T08:25:18.908Z"
   },
   {
    "duration": 47,
    "start_time": "2021-09-14T08:25:19.228Z"
   },
   {
    "duration": 13,
    "start_time": "2021-09-14T08:25:20.166Z"
   },
   {
    "duration": 12,
    "start_time": "2021-09-14T08:25:20.618Z"
   },
   {
    "duration": 13,
    "start_time": "2021-09-14T08:25:20.999Z"
   },
   {
    "duration": 44,
    "start_time": "2021-09-14T08:25:21.377Z"
   },
   {
    "duration": 10,
    "start_time": "2021-09-14T08:25:21.805Z"
   },
   {
    "duration": 11,
    "start_time": "2021-09-14T08:25:22.180Z"
   },
   {
    "duration": 3,
    "start_time": "2021-09-14T08:25:22.578Z"
   },
   {
    "duration": 11,
    "start_time": "2021-09-14T08:25:22.984Z"
   },
   {
    "duration": 13,
    "start_time": "2021-09-14T08:25:23.421Z"
   },
   {
    "duration": 36,
    "start_time": "2021-09-14T08:25:23.897Z"
   },
   {
    "duration": 9,
    "start_time": "2021-09-14T08:25:24.304Z"
   },
   {
    "duration": 58,
    "start_time": "2021-09-14T08:25:24.726Z"
   },
   {
    "duration": 407,
    "start_time": "2021-09-14T08:25:25.178Z"
   },
   {
    "duration": 13,
    "start_time": "2021-09-14T08:25:48.053Z"
   },
   {
    "duration": 406,
    "start_time": "2021-09-14T08:26:01.696Z"
   },
   {
    "duration": 10,
    "start_time": "2021-09-14T08:26:04.475Z"
   },
   {
    "duration": 41,
    "start_time": "2021-09-14T08:26:05.570Z"
   },
   {
    "duration": 3649,
    "start_time": "2021-09-14T08:29:17.357Z"
   },
   {
    "duration": 2398,
    "start_time": "2021-09-14T08:32:07.757Z"
   },
   {
    "duration": 1691,
    "start_time": "2021-09-14T08:32:25.525Z"
   },
   {
    "duration": 1465,
    "start_time": "2021-09-14T08:32:47.336Z"
   },
   {
    "duration": 73,
    "start_time": "2021-09-14T08:32:48.804Z"
   },
   {
    "duration": 15,
    "start_time": "2021-09-14T08:32:48.881Z"
   },
   {
    "duration": 20,
    "start_time": "2021-09-14T08:32:48.899Z"
   },
   {
    "duration": 25,
    "start_time": "2021-09-14T08:32:48.922Z"
   },
   {
    "duration": 59,
    "start_time": "2021-09-14T08:32:48.949Z"
   },
   {
    "duration": 12,
    "start_time": "2021-09-14T08:32:49.011Z"
   },
   {
    "duration": 48,
    "start_time": "2021-09-14T08:32:49.025Z"
   },
   {
    "duration": 15,
    "start_time": "2021-09-14T08:32:49.077Z"
   },
   {
    "duration": 36,
    "start_time": "2021-09-14T08:32:49.094Z"
   },
   {
    "duration": 34,
    "start_time": "2021-09-14T08:32:49.132Z"
   },
   {
    "duration": 34,
    "start_time": "2021-09-14T08:32:49.168Z"
   },
   {
    "duration": 17,
    "start_time": "2021-09-14T08:32:49.205Z"
   },
   {
    "duration": 67,
    "start_time": "2021-09-14T08:32:49.225Z"
   },
   {
    "duration": 425,
    "start_time": "2021-09-14T08:32:49.295Z"
   },
   {
    "duration": 13,
    "start_time": "2021-09-14T08:32:49.722Z"
   },
   {
    "duration": 83,
    "start_time": "2021-09-14T08:32:49.802Z"
   },
   {
    "duration": 11,
    "start_time": "2021-09-14T09:43:02.861Z"
   },
   {
    "duration": 43,
    "start_time": "2021-09-14T09:43:04.324Z"
   },
   {
    "duration": 412,
    "start_time": "2021-09-14T09:48:49.748Z"
   },
   {
    "duration": 26,
    "start_time": "2021-09-14T09:54:54.884Z"
   },
   {
    "duration": 25,
    "start_time": "2021-09-14T09:55:16.338Z"
   },
   {
    "duration": 26,
    "start_time": "2021-09-14T09:55:24.694Z"
   },
   {
    "duration": 28,
    "start_time": "2021-09-14T09:57:11.445Z"
   },
   {
    "duration": 26,
    "start_time": "2021-09-14T09:57:19.688Z"
   },
   {
    "duration": 6,
    "start_time": "2021-09-14T09:59:46.925Z"
   },
   {
    "duration": 13,
    "start_time": "2021-09-14T10:00:08.796Z"
   },
   {
    "duration": 46,
    "start_time": "2021-09-14T10:01:51.372Z"
   },
   {
    "duration": 83,
    "start_time": "2021-09-14T10:03:57.407Z"
   },
   {
    "duration": 85,
    "start_time": "2021-09-14T10:04:30.659Z"
   },
   {
    "duration": 16,
    "start_time": "2021-09-14T10:05:49.302Z"
   },
   {
    "duration": 10,
    "start_time": "2021-09-14T10:08:05.743Z"
   },
   {
    "duration": 26,
    "start_time": "2021-09-14T10:08:09.469Z"
   },
   {
    "duration": 6976,
    "start_time": "2021-09-14T10:08:22.057Z"
   },
   {
    "duration": 1352,
    "start_time": "2021-09-14T10:08:42.153Z"
   },
   {
    "duration": 337,
    "start_time": "2021-09-14T10:08:43.170Z"
   },
   {
    "duration": 19,
    "start_time": "2021-09-14T10:08:43.630Z"
   },
   {
    "duration": 82,
    "start_time": "2021-09-14T10:08:58.686Z"
   },
   {
    "duration": 48,
    "start_time": "2021-09-14T10:09:02.013Z"
   },
   {
    "duration": 13,
    "start_time": "2021-09-14T10:09:05.757Z"
   },
   {
    "duration": 10,
    "start_time": "2021-09-14T10:09:07.263Z"
   },
   {
    "duration": 12,
    "start_time": "2021-09-14T10:09:15.739Z"
   },
   {
    "duration": 42,
    "start_time": "2021-09-14T10:09:19.089Z"
   },
   {
    "duration": 10,
    "start_time": "2021-09-14T10:09:20.089Z"
   },
   {
    "duration": 10,
    "start_time": "2021-09-14T10:09:32.023Z"
   },
   {
    "duration": 11,
    "start_time": "2021-09-14T10:09:35.522Z"
   },
   {
    "duration": 3,
    "start_time": "2021-09-14T10:09:38.443Z"
   },
   {
    "duration": 10,
    "start_time": "2021-09-14T10:09:39.357Z"
   },
   {
    "duration": 11,
    "start_time": "2021-09-14T10:09:42.528Z"
   },
   {
    "duration": 37,
    "start_time": "2021-09-14T10:10:02.161Z"
   },
   {
    "duration": 9,
    "start_time": "2021-09-14T10:10:06.470Z"
   },
   {
    "duration": 16,
    "start_time": "2021-09-14T10:10:06.495Z"
   },
   {
    "duration": 394,
    "start_time": "2021-09-14T10:10:11.414Z"
   },
   {
    "duration": 16,
    "start_time": "2021-09-14T10:10:16.657Z"
   },
   {
    "duration": 72,
    "start_time": "2021-09-14T10:10:20.060Z"
   },
   {
    "duration": 3,
    "start_time": "2021-09-14T10:10:27.081Z"
   },
   {
    "duration": 14,
    "start_time": "2021-09-14T10:10:27.621Z"
   },
   {
    "duration": 50,
    "start_time": "2021-09-14T10:10:31.162Z"
   },
   {
    "duration": 17,
    "start_time": "2021-09-14T10:10:31.256Z"
   },
   {
    "duration": 3,
    "start_time": "2021-09-14T10:10:32.425Z"
   },
   {
    "duration": 24,
    "start_time": "2021-09-14T10:10:48.680Z"
   },
   {
    "duration": 27,
    "start_time": "2021-09-14T10:10:49.054Z"
   },
   {
    "duration": 27,
    "start_time": "2021-09-14T10:10:49.694Z"
   },
   {
    "duration": 3,
    "start_time": "2021-09-14T10:10:50.186Z"
   },
   {
    "duration": 10,
    "start_time": "2021-09-14T10:10:50.678Z"
   },
   {
    "duration": 23,
    "start_time": "2021-09-14T10:10:52.332Z"
   },
   {
    "duration": 12,
    "start_time": "2021-09-14T10:10:52.357Z"
   },
   {
    "duration": 29,
    "start_time": "2021-09-14T10:10:52.376Z"
   },
   {
    "duration": 12,
    "start_time": "2021-09-14T10:10:52.408Z"
   },
   {
    "duration": 3,
    "start_time": "2021-09-14T10:10:53.608Z"
   },
   {
    "duration": 16,
    "start_time": "2021-09-14T10:10:54.060Z"
   },
   {
    "duration": 4473,
    "start_time": "2021-09-14T10:10:54.811Z"
   },
   {
    "duration": 34,
    "start_time": "2021-09-14T10:10:59.287Z"
   },
   {
    "duration": 12,
    "start_time": "2021-09-14T10:11:18.645Z"
   },
   {
    "duration": 27,
    "start_time": "2021-09-14T10:26:38.046Z"
   },
   {
    "duration": 23,
    "start_time": "2021-09-14T10:27:52.564Z"
   },
   {
    "duration": 22,
    "start_time": "2021-09-14T10:27:56.424Z"
   },
   {
    "duration": 8,
    "start_time": "2021-09-14T10:32:07.350Z"
   },
   {
    "duration": 7,
    "start_time": "2021-09-14T10:33:26.928Z"
   },
   {
    "duration": 275,
    "start_time": "2021-09-14T10:48:32.308Z"
   },
   {
    "duration": 11,
    "start_time": "2021-09-14T10:48:38.080Z"
   },
   {
    "duration": 381,
    "start_time": "2021-09-14T11:53:11.256Z"
   },
   {
    "duration": 373,
    "start_time": "2021-09-14T11:53:51.974Z"
   },
   {
    "duration": 264,
    "start_time": "2021-09-14T11:58:48.291Z"
   },
   {
    "duration": 7,
    "start_time": "2021-09-14T11:58:53.907Z"
   },
   {
    "duration": 285,
    "start_time": "2021-09-14T12:00:59.653Z"
   },
   {
    "duration": 240,
    "start_time": "2021-09-14T12:01:24.187Z"
   },
   {
    "duration": 263,
    "start_time": "2021-09-14T12:01:32.504Z"
   },
   {
    "duration": 128,
    "start_time": "2021-09-14T12:05:38.559Z"
   },
   {
    "duration": 94,
    "start_time": "2021-09-14T12:05:56.946Z"
   },
   {
    "duration": 99,
    "start_time": "2021-09-14T12:06:18.997Z"
   },
   {
    "duration": 96,
    "start_time": "2021-09-14T12:06:32.520Z"
   },
   {
    "duration": 99,
    "start_time": "2021-09-14T12:06:46.239Z"
   },
   {
    "duration": 118,
    "start_time": "2021-09-14T12:07:23.455Z"
   },
   {
    "duration": 8,
    "start_time": "2021-09-14T12:07:56.645Z"
   },
   {
    "duration": 8,
    "start_time": "2021-09-14T12:08:00.485Z"
   },
   {
    "duration": 8,
    "start_time": "2021-09-14T12:08:07.709Z"
   },
   {
    "duration": 7,
    "start_time": "2021-09-14T12:08:15.823Z"
   },
   {
    "duration": 7,
    "start_time": "2021-09-14T12:08:19.001Z"
   },
   {
    "duration": 8,
    "start_time": "2021-09-14T12:08:19.579Z"
   },
   {
    "duration": 10,
    "start_time": "2021-09-14T12:08:37.834Z"
   },
   {
    "duration": 11,
    "start_time": "2021-09-14T12:09:26.010Z"
   },
   {
    "duration": 5,
    "start_time": "2021-09-14T12:14:05.636Z"
   },
   {
    "duration": 267,
    "start_time": "2021-09-14T12:23:31.187Z"
   },
   {
    "duration": 608,
    "start_time": "2021-09-14T12:25:10.144Z"
   },
   {
    "duration": 27,
    "start_time": "2021-09-14T12:27:07.810Z"
   },
   {
    "duration": 326,
    "start_time": "2021-09-14T12:28:21.725Z"
   },
   {
    "duration": 286,
    "start_time": "2021-09-14T12:28:26.029Z"
   },
   {
    "duration": 19,
    "start_time": "2021-09-14T12:29:05.649Z"
   },
   {
    "duration": 2709,
    "start_time": "2021-09-14T12:32:50.986Z"
   },
   {
    "duration": 18,
    "start_time": "2021-09-14T12:33:03.956Z"
   },
   {
    "duration": 27,
    "start_time": "2021-09-14T12:34:21.951Z"
   },
   {
    "duration": 2565,
    "start_time": "2021-09-14T12:36:39.245Z"
   },
   {
    "duration": 29,
    "start_time": "2021-09-14T12:37:02.133Z"
   },
   {
    "duration": 415,
    "start_time": "2021-09-14T12:37:23.927Z"
   },
   {
    "duration": 417,
    "start_time": "2021-09-14T12:38:22.780Z"
   },
   {
    "duration": 15706,
    "start_time": "2021-09-14T12:38:31.374Z"
   },
   {
    "duration": -2370,
    "start_time": "2021-09-14T12:38:49.453Z"
   },
   {
    "duration": -2370,
    "start_time": "2021-09-14T12:38:49.455Z"
   },
   {
    "duration": 81,
    "start_time": "2021-09-14T12:38:49.862Z"
   },
   {
    "duration": 5,
    "start_time": "2021-09-14T12:38:49.945Z"
   },
   {
    "duration": 16,
    "start_time": "2021-09-14T12:38:49.953Z"
   },
   {
    "duration": 59,
    "start_time": "2021-09-14T12:38:49.972Z"
   },
   {
    "duration": 5,
    "start_time": "2021-09-14T12:39:03.232Z"
   },
   {
    "duration": 20,
    "start_time": "2021-09-14T12:39:03.239Z"
   },
   {
    "duration": 55,
    "start_time": "2021-09-14T12:39:03.263Z"
   },
   {
    "duration": 13,
    "start_time": "2021-09-14T12:39:06.330Z"
   },
   {
    "duration": 9,
    "start_time": "2021-09-14T12:39:07.260Z"
   },
   {
    "duration": 10,
    "start_time": "2021-09-14T12:39:07.962Z"
   },
   {
    "duration": 39,
    "start_time": "2021-09-14T12:39:08.540Z"
   },
   {
    "duration": 10,
    "start_time": "2021-09-14T12:39:09.118Z"
   },
   {
    "duration": 10,
    "start_time": "2021-09-14T12:39:10.546Z"
   },
   {
    "duration": 3,
    "start_time": "2021-09-14T12:39:10.977Z"
   },
   {
    "duration": 9,
    "start_time": "2021-09-14T12:39:11.633Z"
   },
   {
    "duration": 11,
    "start_time": "2021-09-14T12:39:12.419Z"
   },
   {
    "duration": 37,
    "start_time": "2021-09-14T12:39:12.977Z"
   },
   {
    "duration": 10,
    "start_time": "2021-09-14T12:39:13.478Z"
   },
   {
    "duration": 17,
    "start_time": "2021-09-14T12:39:14.108Z"
   },
   {
    "duration": 419,
    "start_time": "2021-09-14T12:39:14.622Z"
   },
   {
    "duration": 13,
    "start_time": "2021-09-14T12:39:15.239Z"
   },
   {
    "duration": 72,
    "start_time": "2021-09-14T12:39:15.756Z"
   },
   {
    "duration": 4,
    "start_time": "2021-09-14T12:39:19.331Z"
   },
   {
    "duration": 16,
    "start_time": "2021-09-14T12:39:19.909Z"
   },
   {
    "duration": 46,
    "start_time": "2021-09-14T12:39:23.784Z"
   },
   {
    "duration": 16,
    "start_time": "2021-09-14T12:39:24.119Z"
   },
   {
    "duration": 3,
    "start_time": "2021-09-14T12:39:25.680Z"
   },
   {
    "duration": 25,
    "start_time": "2021-09-14T12:39:27.164Z"
   },
   {
    "duration": 27,
    "start_time": "2021-09-14T12:39:27.899Z"
   },
   {
    "duration": 25,
    "start_time": "2021-09-14T12:39:28.296Z"
   },
   {
    "duration": 4,
    "start_time": "2021-09-14T12:39:28.750Z"
   },
   {
    "duration": 10,
    "start_time": "2021-09-14T12:39:29.422Z"
   },
   {
    "duration": 24,
    "start_time": "2021-09-14T12:39:29.898Z"
   },
   {
    "duration": 10,
    "start_time": "2021-09-14T12:39:30.256Z"
   },
   {
    "duration": 26,
    "start_time": "2021-09-14T12:39:30.633Z"
   },
   {
    "duration": 10,
    "start_time": "2021-09-14T12:39:30.983Z"
   },
   {
    "duration": 3,
    "start_time": "2021-09-14T12:39:32.639Z"
   },
   {
    "duration": 34,
    "start_time": "2021-09-14T12:39:33.272Z"
   },
   {
    "duration": 4516,
    "start_time": "2021-09-14T12:39:33.686Z"
   },
   {
    "duration": 33,
    "start_time": "2021-09-14T12:39:38.206Z"
   },
   {
    "duration": 29,
    "start_time": "2021-09-14T12:39:38.241Z"
   },
   {
    "duration": 11,
    "start_time": "2021-09-14T12:39:38.272Z"
   },
   {
    "duration": 14,
    "start_time": "2021-09-14T12:39:38.286Z"
   },
   {
    "duration": 418,
    "start_time": "2021-09-14T12:40:08.090Z"
   },
   {
    "duration": 1835,
    "start_time": "2021-09-14T12:41:22.033Z"
   },
   {
    "duration": 17,
    "start_time": "2021-09-14T12:41:57.618Z"
   },
   {
    "duration": 17,
    "start_time": "2021-09-14T12:42:48.203Z"
   },
   {
    "duration": 16,
    "start_time": "2021-09-14T12:43:27.103Z"
   },
   {
    "duration": 1602,
    "start_time": "2021-09-14T12:44:29.765Z"
   },
   {
    "duration": 27,
    "start_time": "2021-09-14T12:44:55.841Z"
   },
   {
    "duration": 26,
    "start_time": "2021-09-14T12:45:47.860Z"
   },
   {
    "duration": 8,
    "start_time": "2021-09-14T12:46:52.447Z"
   },
   {
    "duration": 7547,
    "start_time": "2021-09-14T12:58:38.715Z"
   },
   {
    "duration": 27,
    "start_time": "2021-09-14T12:59:05.173Z"
   },
   {
    "duration": 388,
    "start_time": "2021-09-14T13:02:42.125Z"
   },
   {
    "duration": 9083,
    "start_time": "2021-09-14T13:02:57.647Z"
   },
   {
    "duration": 28,
    "start_time": "2021-09-14T13:03:19.301Z"
   },
   {
    "duration": 298,
    "start_time": "2021-09-14T13:05:53.467Z"
   },
   {
    "duration": 286,
    "start_time": "2021-09-14T13:06:09.512Z"
   },
   {
    "duration": 318,
    "start_time": "2021-09-14T13:06:28.177Z"
   },
   {
    "duration": 343,
    "start_time": "2021-09-14T13:06:55.842Z"
   },
   {
    "duration": 80,
    "start_time": "2021-09-14T13:07:09.582Z"
   },
   {
    "duration": 5,
    "start_time": "2021-09-14T13:07:10.487Z"
   },
   {
    "duration": 3,
    "start_time": "2021-09-14T13:07:10.775Z"
   },
   {
    "duration": 50,
    "start_time": "2021-09-14T13:07:11.276Z"
   },
   {
    "duration": 15,
    "start_time": "2021-09-14T13:07:12.805Z"
   },
   {
    "duration": 11,
    "start_time": "2021-09-14T13:07:13.431Z"
   },
   {
    "duration": 12,
    "start_time": "2021-09-14T13:07:13.915Z"
   },
   {
    "duration": 41,
    "start_time": "2021-09-14T13:07:14.515Z"
   },
   {
    "duration": 9,
    "start_time": "2021-09-14T13:07:15.235Z"
   },
   {
    "duration": 13,
    "start_time": "2021-09-14T13:07:15.727Z"
   },
   {
    "duration": 3,
    "start_time": "2021-09-14T13:07:16.146Z"
   },
   {
    "duration": 10,
    "start_time": "2021-09-14T13:07:16.654Z"
   },
   {
    "duration": 12,
    "start_time": "2021-09-14T13:07:17.428Z"
   },
   {
    "duration": 34,
    "start_time": "2021-09-14T13:07:18.435Z"
   },
   {
    "duration": 8,
    "start_time": "2021-09-14T13:07:19.184Z"
   },
   {
    "duration": 16,
    "start_time": "2021-09-14T13:07:19.747Z"
   },
   {
    "duration": 403,
    "start_time": "2021-09-14T13:07:20.349Z"
   },
   {
    "duration": 12,
    "start_time": "2021-09-14T13:07:21.394Z"
   },
   {
    "duration": 69,
    "start_time": "2021-09-14T13:07:22.519Z"
   },
   {
    "duration": 3,
    "start_time": "2021-09-14T13:07:26.463Z"
   },
   {
    "duration": 14,
    "start_time": "2021-09-14T13:07:27.136Z"
   },
   {
    "duration": 49,
    "start_time": "2021-09-14T13:07:28.245Z"
   },
   {
    "duration": 17,
    "start_time": "2021-09-14T13:07:29.080Z"
   },
   {
    "duration": 3,
    "start_time": "2021-09-14T13:07:29.721Z"
   },
   {
    "duration": 26,
    "start_time": "2021-09-14T13:07:32.180Z"
   },
   {
    "duration": 28,
    "start_time": "2021-09-14T13:07:32.672Z"
   },
   {
    "duration": 26,
    "start_time": "2021-09-14T13:07:33.063Z"
   },
   {
    "duration": 3,
    "start_time": "2021-09-14T13:07:33.523Z"
   },
   {
    "duration": 10,
    "start_time": "2021-09-14T13:07:34.133Z"
   },
   {
    "duration": 25,
    "start_time": "2021-09-14T13:07:34.633Z"
   },
   {
    "duration": 10,
    "start_time": "2021-09-14T13:07:34.977Z"
   },
   {
    "duration": 26,
    "start_time": "2021-09-14T13:07:35.429Z"
   },
   {
    "duration": 10,
    "start_time": "2021-09-14T13:07:36.141Z"
   },
   {
    "duration": 3,
    "start_time": "2021-09-14T13:07:37.928Z"
   },
   {
    "duration": 35,
    "start_time": "2021-09-14T13:07:38.388Z"
   },
   {
    "duration": 4566,
    "start_time": "2021-09-14T13:07:38.851Z"
   },
   {
    "duration": 48,
    "start_time": "2021-09-14T13:07:43.420Z"
   },
   {
    "duration": 13,
    "start_time": "2021-09-14T13:07:43.471Z"
   },
   {
    "duration": 36,
    "start_time": "2021-09-14T13:07:43.487Z"
   },
   {
    "duration": 11,
    "start_time": "2021-09-14T13:07:46.737Z"
   },
   {
    "duration": 8,
    "start_time": "2021-09-14T13:07:49.275Z"
   },
   {
    "duration": 29,
    "start_time": "2021-09-14T13:07:51.719Z"
   },
   {
    "duration": 323,
    "start_time": "2021-09-14T13:07:55.030Z"
   },
   {
    "duration": 30,
    "start_time": "2021-09-14T13:08:06.829Z"
   },
   {
    "duration": 32,
    "start_time": "2021-09-14T13:08:33.139Z"
   },
   {
    "duration": 371,
    "start_time": "2021-09-14T13:09:48.246Z"
   },
   {
    "duration": 294,
    "start_time": "2021-09-14T13:09:59.093Z"
   },
   {
    "duration": 11,
    "start_time": "2021-09-14T13:10:08.369Z"
   },
   {
    "duration": 7,
    "start_time": "2021-09-14T13:10:15.526Z"
   },
   {
    "duration": 11,
    "start_time": "2021-09-14T13:10:16.009Z"
   },
   {
    "duration": 10,
    "start_time": "2021-09-14T13:10:21.258Z"
   },
   {
    "duration": 29,
    "start_time": "2021-09-14T13:10:21.696Z"
   },
   {
    "duration": 421,
    "start_time": "2021-09-14T13:10:23.739Z"
   },
   {
    "duration": 92,
    "start_time": "2021-09-14T13:11:15.258Z"
   },
   {
    "duration": 336,
    "start_time": "2021-09-14T13:15:01.331Z"
   },
   {
    "duration": 88,
    "start_time": "2021-09-14T13:15:11.842Z"
   },
   {
    "duration": 5,
    "start_time": "2021-09-14T13:15:11.933Z"
   },
   {
    "duration": 3,
    "start_time": "2021-09-14T13:15:12.246Z"
   },
   {
    "duration": 48,
    "start_time": "2021-09-14T13:15:12.770Z"
   },
   {
    "duration": 12,
    "start_time": "2021-09-14T13:15:14.947Z"
   },
   {
    "duration": 9,
    "start_time": "2021-09-14T13:15:15.816Z"
   },
   {
    "duration": 14,
    "start_time": "2021-09-14T13:15:16.650Z"
   },
   {
    "duration": 41,
    "start_time": "2021-09-14T13:15:17.284Z"
   },
   {
    "duration": 9,
    "start_time": "2021-09-14T13:15:17.969Z"
   },
   {
    "duration": 13,
    "start_time": "2021-09-14T13:15:18.532Z"
   },
   {
    "duration": 3,
    "start_time": "2021-09-14T13:15:19.102Z"
   },
   {
    "duration": 10,
    "start_time": "2021-09-14T13:15:19.641Z"
   },
   {
    "duration": 11,
    "start_time": "2021-09-14T13:15:20.203Z"
   },
   {
    "duration": 37,
    "start_time": "2021-09-14T13:15:20.852Z"
   },
   {
    "duration": 8,
    "start_time": "2021-09-14T13:15:21.414Z"
   },
   {
    "duration": 17,
    "start_time": "2021-09-14T13:15:21.976Z"
   },
   {
    "duration": 409,
    "start_time": "2021-09-14T13:15:22.538Z"
   },
   {
    "duration": 14,
    "start_time": "2021-09-14T13:15:23.179Z"
   },
   {
    "duration": 71,
    "start_time": "2021-09-14T13:15:24.012Z"
   },
   {
    "duration": 3,
    "start_time": "2021-09-14T13:15:28.077Z"
   },
   {
    "duration": 15,
    "start_time": "2021-09-14T13:15:28.731Z"
   },
   {
    "duration": 47,
    "start_time": "2021-09-14T13:15:29.717Z"
   },
   {
    "duration": 15,
    "start_time": "2021-09-14T13:15:30.364Z"
   },
   {
    "duration": 3,
    "start_time": "2021-09-14T13:15:30.942Z"
   },
   {
    "duration": 24,
    "start_time": "2021-09-14T13:15:32.440Z"
   },
   {
    "duration": 29,
    "start_time": "2021-09-14T13:15:32.901Z"
   },
   {
    "duration": 26,
    "start_time": "2021-09-14T13:15:33.268Z"
   },
   {
    "duration": 3,
    "start_time": "2021-09-14T13:15:33.706Z"
   },
   {
    "duration": 11,
    "start_time": "2021-09-14T13:15:34.157Z"
   },
   {
    "duration": 24,
    "start_time": "2021-09-14T13:15:34.650Z"
   },
   {
    "duration": 10,
    "start_time": "2021-09-14T13:15:35.056Z"
   },
   {
    "duration": 27,
    "start_time": "2021-09-14T13:15:35.542Z"
   },
   {
    "duration": 10,
    "start_time": "2021-09-14T13:15:36.010Z"
   },
   {
    "duration": 3,
    "start_time": "2021-09-14T13:15:37.806Z"
   },
   {
    "duration": 34,
    "start_time": "2021-09-14T13:15:38.118Z"
   },
   {
    "duration": 4623,
    "start_time": "2021-09-14T13:15:38.594Z"
   },
   {
    "duration": 48,
    "start_time": "2021-09-14T13:15:43.219Z"
   },
   {
    "duration": 12,
    "start_time": "2021-09-14T13:15:43.271Z"
   },
   {
    "duration": 9,
    "start_time": "2021-09-14T13:15:46.420Z"
   },
   {
    "duration": 13,
    "start_time": "2021-09-14T13:15:47.138Z"
   },
   {
    "duration": 15,
    "start_time": "2021-09-14T13:15:49.691Z"
   },
   {
    "duration": 27,
    "start_time": "2021-09-14T13:15:50.466Z"
   },
   {
    "duration": 333,
    "start_time": "2021-09-14T13:15:54.324Z"
   },
   {
    "duration": 719,
    "start_time": "2021-09-14T13:16:25.920Z"
   },
   {
    "duration": 310,
    "start_time": "2021-09-14T13:18:34.365Z"
   },
   {
    "duration": 86,
    "start_time": "2021-09-14T13:18:47.460Z"
   },
   {
    "duration": 6,
    "start_time": "2021-09-14T13:18:48.201Z"
   },
   {
    "duration": 4,
    "start_time": "2021-09-14T13:18:48.653Z"
   },
   {
    "duration": 50,
    "start_time": "2021-09-14T13:18:49.091Z"
   },
   {
    "duration": 13,
    "start_time": "2021-09-14T13:18:50.675Z"
   },
   {
    "duration": 10,
    "start_time": "2021-09-14T13:18:51.339Z"
   },
   {
    "duration": 12,
    "start_time": "2021-09-14T13:18:51.761Z"
   },
   {
    "duration": 42,
    "start_time": "2021-09-14T13:18:52.238Z"
   },
   {
    "duration": 11,
    "start_time": "2021-09-14T13:18:52.745Z"
   },
   {
    "duration": 12,
    "start_time": "2021-09-14T13:18:53.200Z"
   },
   {
    "duration": 3,
    "start_time": "2021-09-14T13:18:53.636Z"
   },
   {
    "duration": 10,
    "start_time": "2021-09-14T13:18:54.098Z"
   },
   {
    "duration": 11,
    "start_time": "2021-09-14T13:18:54.536Z"
   },
   {
    "duration": 38,
    "start_time": "2021-09-14T13:18:54.946Z"
   },
   {
    "duration": 9,
    "start_time": "2021-09-14T13:18:55.353Z"
   },
   {
    "duration": 17,
    "start_time": "2021-09-14T13:18:55.761Z"
   },
   {
    "duration": 408,
    "start_time": "2021-09-14T13:18:56.245Z"
   },
   {
    "duration": 12,
    "start_time": "2021-09-14T13:18:56.728Z"
   },
   {
    "duration": 68,
    "start_time": "2021-09-14T13:18:57.157Z"
   },
   {
    "duration": 3,
    "start_time": "2021-09-14T13:18:59.501Z"
   },
   {
    "duration": 14,
    "start_time": "2021-09-14T13:19:00.001Z"
   },
   {
    "duration": 46,
    "start_time": "2021-09-14T13:19:00.594Z"
   },
   {
    "duration": 18,
    "start_time": "2021-09-14T13:19:01.086Z"
   },
   {
    "duration": 3,
    "start_time": "2021-09-14T13:19:01.523Z"
   },
   {
    "duration": 25,
    "start_time": "2021-09-14T13:19:02.671Z"
   },
   {
    "duration": 30,
    "start_time": "2021-09-14T13:19:03.061Z"
   },
   {
    "duration": 26,
    "start_time": "2021-09-14T13:19:03.421Z"
   },
   {
    "duration": 3,
    "start_time": "2021-09-14T13:19:03.826Z"
   },
   {
    "duration": 10,
    "start_time": "2021-09-14T13:19:04.233Z"
   },
   {
    "duration": 25,
    "start_time": "2021-09-14T13:19:04.680Z"
   },
   {
    "duration": 12,
    "start_time": "2021-09-14T13:19:05.009Z"
   },
   {
    "duration": 25,
    "start_time": "2021-09-14T13:19:05.349Z"
   },
   {
    "duration": 11,
    "start_time": "2021-09-14T13:19:05.677Z"
   },
   {
    "duration": 3,
    "start_time": "2021-09-14T13:19:07.013Z"
   },
   {
    "duration": 36,
    "start_time": "2021-09-14T13:19:07.317Z"
   },
   {
    "duration": 4573,
    "start_time": "2021-09-14T13:19:07.779Z"
   },
   {
    "duration": 34,
    "start_time": "2021-09-14T13:19:12.367Z"
   },
   {
    "duration": 12,
    "start_time": "2021-09-14T13:19:12.404Z"
   },
   {
    "duration": 15,
    "start_time": "2021-09-14T13:19:12.418Z"
   },
   {
    "duration": 10,
    "start_time": "2021-09-14T13:19:13.401Z"
   },
   {
    "duration": 8,
    "start_time": "2021-09-14T13:19:16.103Z"
   },
   {
    "duration": 26,
    "start_time": "2021-09-14T13:19:16.947Z"
   },
   {
    "duration": 313,
    "start_time": "2021-09-14T13:19:18.946Z"
   },
   {
    "duration": 29,
    "start_time": "2021-09-14T13:20:00.937Z"
   },
   {
    "duration": 9,
    "start_time": "2021-09-14T13:20:03.738Z"
   },
   {
    "duration": 29,
    "start_time": "2021-09-14T13:20:04.152Z"
   },
   {
    "duration": 270,
    "start_time": "2021-09-14T13:20:06.675Z"
   },
   {
    "duration": 27,
    "start_time": "2021-09-14T13:20:12.764Z"
   },
   {
    "duration": 31,
    "start_time": "2021-09-14T13:20:44.618Z"
   },
   {
    "duration": 32,
    "start_time": "2021-09-14T13:20:51.816Z"
   },
   {
    "duration": 45,
    "start_time": "2021-09-14T13:21:35.791Z"
   },
   {
    "duration": 33,
    "start_time": "2021-09-14T13:22:17.184Z"
   },
   {
    "duration": 307,
    "start_time": "2021-09-14T13:22:34.559Z"
   },
   {
    "duration": 32,
    "start_time": "2021-09-14T13:22:45.676Z"
   },
   {
    "duration": 594,
    "start_time": "2021-09-14T13:24:59.189Z"
   },
   {
    "duration": 32,
    "start_time": "2021-09-14T13:25:18.271Z"
   },
   {
    "duration": 280,
    "start_time": "2021-09-14T13:25:29.568Z"
   },
   {
    "duration": 32,
    "start_time": "2021-09-14T13:25:53.859Z"
   },
   {
    "duration": 32,
    "start_time": "2021-09-14T13:26:16.458Z"
   },
   {
    "duration": 283,
    "start_time": "2021-09-14T13:26:42.339Z"
   },
   {
    "duration": 308,
    "start_time": "2021-09-14T13:26:55.329Z"
   },
   {
    "duration": 336,
    "start_time": "2021-09-14T13:27:00.155Z"
   },
   {
    "duration": 37,
    "start_time": "2021-09-14T13:27:35.260Z"
   },
   {
    "duration": 331,
    "start_time": "2021-09-14T13:27:59.026Z"
   },
   {
    "duration": 32,
    "start_time": "2021-09-14T13:28:09.262Z"
   },
   {
    "duration": 31,
    "start_time": "2021-09-14T13:28:58.304Z"
   },
   {
    "duration": 32,
    "start_time": "2021-09-14T13:29:02.371Z"
   },
   {
    "duration": 37,
    "start_time": "2021-09-14T13:36:09.094Z"
   },
   {
    "duration": 35,
    "start_time": "2021-09-14T13:36:37.185Z"
   },
   {
    "duration": 4914,
    "start_time": "2021-09-14T13:36:42.283Z"
   },
   {
    "duration": 39,
    "start_time": "2021-09-14T13:37:13.868Z"
   },
   {
    "duration": 40,
    "start_time": "2021-09-14T13:37:23.796Z"
   },
   {
    "duration": 438,
    "start_time": "2021-09-14T13:40:41.973Z"
   },
   {
    "duration": 437,
    "start_time": "2021-09-14T13:40:41.975Z"
   },
   {
    "duration": 437,
    "start_time": "2021-09-14T13:40:41.976Z"
   },
   {
    "duration": 437,
    "start_time": "2021-09-14T13:40:41.978Z"
   },
   {
    "duration": 437,
    "start_time": "2021-09-14T13:40:41.979Z"
   },
   {
    "duration": 86,
    "start_time": "2021-09-14T13:40:54.901Z"
   },
   {
    "duration": 4,
    "start_time": "2021-09-14T13:40:54.990Z"
   },
   {
    "duration": 9,
    "start_time": "2021-09-14T13:40:54.997Z"
   },
   {
    "duration": 51,
    "start_time": "2021-09-14T13:40:55.008Z"
   },
   {
    "duration": 13,
    "start_time": "2021-09-14T13:41:05.218Z"
   },
   {
    "duration": 10,
    "start_time": "2021-09-14T13:41:05.843Z"
   },
   {
    "duration": 11,
    "start_time": "2021-09-14T13:41:06.297Z"
   },
   {
    "duration": 42,
    "start_time": "2021-09-14T13:41:06.750Z"
   },
   {
    "duration": 10,
    "start_time": "2021-09-14T13:41:07.311Z"
   },
   {
    "duration": 11,
    "start_time": "2021-09-14T13:41:07.810Z"
   },
   {
    "duration": 3,
    "start_time": "2021-09-14T13:41:08.232Z"
   },
   {
    "duration": 10,
    "start_time": "2021-09-14T13:41:08.747Z"
   },
   {
    "duration": 11,
    "start_time": "2021-09-14T13:41:09.316Z"
   },
   {
    "duration": 34,
    "start_time": "2021-09-14T13:41:09.872Z"
   },
   {
    "duration": 8,
    "start_time": "2021-09-14T13:41:10.308Z"
   },
   {
    "duration": 17,
    "start_time": "2021-09-14T13:41:10.785Z"
   },
   {
    "duration": 404,
    "start_time": "2021-09-14T13:41:11.354Z"
   },
   {
    "duration": 14,
    "start_time": "2021-09-14T13:41:11.893Z"
   },
   {
    "duration": 70,
    "start_time": "2021-09-14T13:41:12.573Z"
   },
   {
    "duration": 3,
    "start_time": "2021-09-14T13:41:15.602Z"
   },
   {
    "duration": 14,
    "start_time": "2021-09-14T13:41:16.439Z"
   },
   {
    "duration": 50,
    "start_time": "2021-09-14T13:41:17.071Z"
   },
   {
    "duration": 17,
    "start_time": "2021-09-14T13:41:17.587Z"
   },
   {
    "duration": 3,
    "start_time": "2021-09-14T13:41:18.111Z"
   },
   {
    "duration": 25,
    "start_time": "2021-09-14T13:41:19.444Z"
   },
   {
    "duration": 30,
    "start_time": "2021-09-14T13:41:19.983Z"
   },
   {
    "duration": 27,
    "start_time": "2021-09-14T13:41:20.319Z"
   },
   {
    "duration": 3,
    "start_time": "2021-09-14T13:41:20.772Z"
   },
   {
    "duration": 10,
    "start_time": "2021-09-14T13:41:21.302Z"
   },
   {
    "duration": 23,
    "start_time": "2021-09-14T13:41:21.749Z"
   },
   {
    "duration": 11,
    "start_time": "2021-09-14T13:41:22.084Z"
   },
   {
    "duration": 27,
    "start_time": "2021-09-14T13:41:22.429Z"
   },
   {
    "duration": 11,
    "start_time": "2021-09-14T13:41:22.770Z"
   },
   {
    "duration": 4,
    "start_time": "2021-09-14T13:41:24.160Z"
   },
   {
    "duration": 36,
    "start_time": "2021-09-14T13:41:24.459Z"
   },
   {
    "duration": 4545,
    "start_time": "2021-09-14T13:41:24.840Z"
   },
   {
    "duration": 33,
    "start_time": "2021-09-14T13:41:29.388Z"
   },
   {
    "duration": 12,
    "start_time": "2021-09-14T13:41:29.424Z"
   },
   {
    "duration": 44,
    "start_time": "2021-09-14T13:41:29.439Z"
   },
   {
    "duration": 10,
    "start_time": "2021-09-14T13:41:32.187Z"
   },
   {
    "duration": 8,
    "start_time": "2021-09-14T13:41:34.491Z"
   },
   {
    "duration": 23885,
    "start_time": "2021-09-14T13:41:35.045Z"
   },
   {
    "duration": 428,
    "start_time": "2021-09-14T13:41:58.505Z"
   },
   {
    "duration": 39,
    "start_time": "2021-09-14T13:42:56.397Z"
   },
   {
    "duration": 26,
    "start_time": "2021-09-14T13:43:46.421Z"
   },
   {
    "duration": 28,
    "start_time": "2021-09-14T13:45:20.298Z"
   },
   {
    "duration": 1168,
    "start_time": "2021-09-14T13:45:51.813Z"
   },
   {
    "duration": 30,
    "start_time": "2021-09-14T13:46:12.133Z"
   },
   {
    "duration": 471,
    "start_time": "2021-09-14T13:46:30.632Z"
   },
   {
    "duration": 31,
    "start_time": "2021-09-14T13:49:45.550Z"
   },
   {
    "duration": 34,
    "start_time": "2021-09-14T13:49:54.954Z"
   },
   {
    "duration": 36,
    "start_time": "2021-09-14T13:54:35.339Z"
   },
   {
    "duration": 35,
    "start_time": "2021-09-14T13:54:59.751Z"
   },
   {
    "duration": 40,
    "start_time": "2021-09-14T13:55:35.659Z"
   },
   {
    "duration": 47,
    "start_time": "2021-09-14T14:02:10.294Z"
   },
   {
    "duration": 6761,
    "start_time": "2021-09-14T14:03:42.636Z"
   },
   {
    "duration": 7593,
    "start_time": "2021-09-14T14:03:57.214Z"
   },
   {
    "duration": 38,
    "start_time": "2021-09-14T14:04:14.248Z"
   },
   {
    "duration": 87,
    "start_time": "2021-09-14T14:04:31.878Z"
   },
   {
    "duration": 4,
    "start_time": "2021-09-14T14:04:32.464Z"
   },
   {
    "duration": 3,
    "start_time": "2021-09-14T14:04:32.862Z"
   },
   {
    "duration": 48,
    "start_time": "2021-09-14T14:04:33.222Z"
   },
   {
    "duration": 13,
    "start_time": "2021-09-14T14:04:34.361Z"
   },
   {
    "duration": 10,
    "start_time": "2021-09-14T14:04:34.777Z"
   },
   {
    "duration": 11,
    "start_time": "2021-09-14T14:04:35.152Z"
   },
   {
    "duration": 44,
    "start_time": "2021-09-14T14:04:35.588Z"
   },
   {
    "duration": 9,
    "start_time": "2021-09-14T14:04:35.972Z"
   },
   {
    "duration": 10,
    "start_time": "2021-09-14T14:04:36.385Z"
   },
   {
    "duration": 3,
    "start_time": "2021-09-14T14:04:36.760Z"
   },
   {
    "duration": 10,
    "start_time": "2021-09-14T14:04:37.166Z"
   },
   {
    "duration": 11,
    "start_time": "2021-09-14T14:04:37.572Z"
   },
   {
    "duration": 35,
    "start_time": "2021-09-14T14:04:37.916Z"
   },
   {
    "duration": 8,
    "start_time": "2021-09-14T14:04:38.338Z"
   },
   {
    "duration": 15,
    "start_time": "2021-09-14T14:04:38.737Z"
   },
   {
    "duration": 401,
    "start_time": "2021-09-14T14:04:39.142Z"
   },
   {
    "duration": 24,
    "start_time": "2021-09-14T14:04:39.549Z"
   },
   {
    "duration": 69,
    "start_time": "2021-09-14T14:04:39.908Z"
   },
   {
    "duration": 3,
    "start_time": "2021-09-14T14:04:42.243Z"
   },
   {
    "duration": 15,
    "start_time": "2021-09-14T14:04:42.645Z"
   },
   {
    "duration": 47,
    "start_time": "2021-09-14T14:04:43.064Z"
   },
   {
    "duration": 16,
    "start_time": "2021-09-14T14:04:43.462Z"
   },
   {
    "duration": 3,
    "start_time": "2021-09-14T14:04:43.892Z"
   },
   {
    "duration": 26,
    "start_time": "2021-09-14T14:04:44.986Z"
   },
   {
    "duration": 30,
    "start_time": "2021-09-14T14:04:45.383Z"
   },
   {
    "duration": 26,
    "start_time": "2021-09-14T14:04:45.757Z"
   },
   {
    "duration": 3,
    "start_time": "2021-09-14T14:04:46.172Z"
   },
   {
    "duration": 10,
    "start_time": "2021-09-14T14:04:46.578Z"
   },
   {
    "duration": 24,
    "start_time": "2021-09-14T14:04:46.938Z"
   },
   {
    "duration": 10,
    "start_time": "2021-09-14T14:04:47.305Z"
   },
   {
    "duration": 24,
    "start_time": "2021-09-14T14:04:47.704Z"
   },
   {
    "duration": 11,
    "start_time": "2021-09-14T14:04:48.040Z"
   },
   {
    "duration": 3,
    "start_time": "2021-09-14T14:04:49.523Z"
   },
   {
    "duration": 36,
    "start_time": "2021-09-14T14:04:49.874Z"
   },
   {
    "duration": 4485,
    "start_time": "2021-09-14T14:04:50.353Z"
   },
   {
    "duration": 50,
    "start_time": "2021-09-14T14:04:54.842Z"
   },
   {
    "duration": 12,
    "start_time": "2021-09-14T14:04:54.895Z"
   },
   {
    "duration": 9,
    "start_time": "2021-09-14T14:04:54.909Z"
   },
   {
    "duration": 16,
    "start_time": "2021-09-14T14:04:54.920Z"
   },
   {
    "duration": 8,
    "start_time": "2021-09-14T14:04:59.568Z"
   },
   {
    "duration": 33,
    "start_time": "2021-09-14T14:04:59.871Z"
   },
   {
    "duration": 51,
    "start_time": "2021-09-14T14:05:01.638Z"
   },
   {
    "duration": 47,
    "start_time": "2021-09-14T14:05:06.090Z"
   },
   {
    "duration": 37,
    "start_time": "2021-09-14T14:05:08.611Z"
   },
   {
    "duration": 34,
    "start_time": "2021-09-14T14:05:46.953Z"
   },
   {
    "duration": 35,
    "start_time": "2021-09-14T14:06:14.898Z"
   },
   {
    "duration": 35,
    "start_time": "2021-09-14T14:06:24.754Z"
   },
   {
    "duration": 3,
    "start_time": "2021-09-14T14:18:24.736Z"
   },
   {
    "duration": 264,
    "start_time": "2021-09-14T14:19:49.601Z"
   },
   {
    "duration": 6,
    "start_time": "2021-09-14T14:19:55.855Z"
   },
   {
    "duration": 5,
    "start_time": "2021-09-14T14:20:05.167Z"
   },
   {
    "duration": 268,
    "start_time": "2021-09-14T14:21:26.373Z"
   },
   {
    "duration": 428,
    "start_time": "2021-09-14T14:28:23.293Z"
   },
   {
    "duration": 333,
    "start_time": "2021-09-14T14:28:27.994Z"
   },
   {
    "duration": 48,
    "start_time": "2021-09-14T14:34:13.190Z"
   },
   {
    "duration": 5,
    "start_time": "2021-09-14T14:35:38.621Z"
   },
   {
    "duration": 46,
    "start_time": "2021-09-14T14:35:39.355Z"
   },
   {
    "duration": 5,
    "start_time": "2021-09-14T14:35:42.362Z"
   },
   {
    "duration": 48,
    "start_time": "2021-09-14T14:35:45.402Z"
   },
   {
    "duration": 19,
    "start_time": "2021-09-14T14:36:03.890Z"
   },
   {
    "duration": 47,
    "start_time": "2021-09-14T14:36:08.631Z"
   },
   {
    "duration": 487,
    "start_time": "2021-09-14T14:36:45.621Z"
   },
   {
    "duration": 3039,
    "start_time": "2021-09-14T14:37:09.760Z"
   },
   {
    "duration": 14,
    "start_time": "2021-09-14T14:40:47.041Z"
   },
   {
    "duration": 5,
    "start_time": "2021-09-14T14:58:44.581Z"
   },
   {
    "duration": 7,
    "start_time": "2021-09-14T14:59:05.854Z"
   },
   {
    "duration": 412,
    "start_time": "2021-09-14T15:08:19.673Z"
   },
   {
    "duration": 6645,
    "start_time": "2021-09-14T15:09:39.229Z"
   },
   {
    "duration": 6585,
    "start_time": "2021-09-14T15:10:15.702Z"
   },
   {
    "duration": 316,
    "start_time": "2021-09-14T15:10:29.808Z"
   },
   {
    "duration": 31,
    "start_time": "2021-09-14T15:10:52.326Z"
   },
   {
    "duration": 36,
    "start_time": "2021-09-14T15:11:16.546Z"
   },
   {
    "duration": 33,
    "start_time": "2021-09-14T15:11:51.300Z"
   },
   {
    "duration": 34,
    "start_time": "2021-09-14T15:11:59.407Z"
   },
   {
    "duration": 35,
    "start_time": "2021-09-14T15:12:16.060Z"
   },
   {
    "duration": 83,
    "start_time": "2021-09-14T15:23:04.353Z"
   },
   {
    "duration": 6,
    "start_time": "2021-09-14T15:23:04.901Z"
   },
   {
    "duration": 3,
    "start_time": "2021-09-14T15:23:05.636Z"
   },
   {
    "duration": 47,
    "start_time": "2021-09-14T15:23:06.464Z"
   },
   {
    "duration": 13,
    "start_time": "2021-09-14T15:23:08.025Z"
   },
   {
    "duration": 9,
    "start_time": "2021-09-14T15:23:08.525Z"
   },
   {
    "duration": 11,
    "start_time": "2021-09-14T15:23:09.017Z"
   },
   {
    "duration": 44,
    "start_time": "2021-09-14T15:23:09.625Z"
   },
   {
    "duration": 9,
    "start_time": "2021-09-14T15:23:10.219Z"
   },
   {
    "duration": 11,
    "start_time": "2021-09-14T15:23:10.908Z"
   },
   {
    "duration": 3,
    "start_time": "2021-09-14T15:23:11.658Z"
   },
   {
    "duration": 9,
    "start_time": "2021-09-14T15:23:14.303Z"
   },
   {
    "duration": 10,
    "start_time": "2021-09-14T15:23:14.773Z"
   },
   {
    "duration": 36,
    "start_time": "2021-09-14T15:23:15.335Z"
   },
   {
    "duration": 9,
    "start_time": "2021-09-14T15:23:15.881Z"
   },
   {
    "duration": 16,
    "start_time": "2021-09-14T15:23:16.397Z"
   },
   {
    "duration": 400,
    "start_time": "2021-09-14T15:23:17.194Z"
   },
   {
    "duration": 13,
    "start_time": "2021-09-14T15:23:17.697Z"
   },
   {
    "duration": 71,
    "start_time": "2021-09-14T15:23:18.164Z"
   },
   {
    "duration": 3,
    "start_time": "2021-09-14T15:23:20.756Z"
   },
   {
    "duration": 16,
    "start_time": "2021-09-14T15:23:21.714Z"
   },
   {
    "duration": 25,
    "start_time": "2021-09-14T15:23:22.289Z"
   },
   {
    "duration": 3,
    "start_time": "2021-09-14T15:23:23.967Z"
   },
   {
    "duration": 10,
    "start_time": "2021-09-14T15:23:58.735Z"
   },
   {
    "duration": 71,
    "start_time": "2021-09-14T15:23:59.341Z"
   },
   {
    "duration": 4,
    "start_time": "2021-09-14T15:24:06.349Z"
   },
   {
    "duration": 14,
    "start_time": "2021-09-14T15:24:07.091Z"
   },
   {
    "duration": 17,
    "start_time": "2021-09-14T15:24:08.647Z"
   },
   {
    "duration": 3,
    "start_time": "2021-09-14T15:24:09.452Z"
   },
   {
    "duration": 24,
    "start_time": "2021-09-14T15:24:17.168Z"
   },
   {
    "duration": 30,
    "start_time": "2021-09-14T15:24:17.637Z"
   },
   {
    "duration": 26,
    "start_time": "2021-09-14T15:24:18.113Z"
   },
   {
    "duration": 3,
    "start_time": "2021-09-14T15:24:18.590Z"
   },
   {
    "duration": 10,
    "start_time": "2021-09-14T15:24:19.020Z"
   },
   {
    "duration": 24,
    "start_time": "2021-09-14T15:24:20.190Z"
   },
   {
    "duration": 11,
    "start_time": "2021-09-14T15:24:20.618Z"
   },
   {
    "duration": 27,
    "start_time": "2021-09-14T15:24:21.083Z"
   },
   {
    "duration": 10,
    "start_time": "2021-09-14T15:24:21.551Z"
   },
   {
    "duration": 3,
    "start_time": "2021-09-14T15:24:23.768Z"
   },
   {
    "duration": 36,
    "start_time": "2021-09-14T15:24:24.284Z"
   },
   {
    "duration": 4600,
    "start_time": "2021-09-14T15:24:24.768Z"
   },
   {
    "duration": 34,
    "start_time": "2021-09-14T15:24:29.371Z"
   },
   {
    "duration": 13,
    "start_time": "2021-09-14T15:24:29.408Z"
   },
   {
    "duration": 3,
    "start_time": "2021-09-14T15:24:37.960Z"
   },
   {
    "duration": 14,
    "start_time": "2021-09-14T15:24:38.703Z"
   },
   {
    "duration": 3,
    "start_time": "2021-09-14T15:24:54.518Z"
   },
   {
    "duration": 6,
    "start_time": "2021-09-14T15:24:54.907Z"
   },
   {
    "duration": 3,
    "start_time": "2021-09-14T15:24:55.440Z"
   },
   {
    "duration": 406,
    "start_time": "2021-09-14T15:24:56.064Z"
   },
   {
    "duration": 10,
    "start_time": "2021-09-14T15:25:00.109Z"
   },
   {
    "duration": 47,
    "start_time": "2021-09-14T15:25:56.883Z"
   },
   {
    "duration": 48,
    "start_time": "2021-09-14T15:26:01.723Z"
   },
   {
    "duration": 35,
    "start_time": "2021-09-14T15:26:08.263Z"
   },
   {
    "duration": 319,
    "start_time": "2021-09-14T15:41:53.324Z"
   },
   {
    "duration": 32,
    "start_time": "2021-09-14T15:42:08.641Z"
   },
   {
    "duration": 378,
    "start_time": "2021-09-14T15:42:26.211Z"
   },
   {
    "duration": 37,
    "start_time": "2021-09-14T15:42:41.093Z"
   },
   {
    "duration": 36,
    "start_time": "2021-09-14T15:42:48.239Z"
   },
   {
    "duration": 37,
    "start_time": "2021-09-14T15:42:54.755Z"
   },
   {
    "duration": 118,
    "start_time": "2021-09-14T15:43:37.454Z"
   },
   {
    "duration": 91,
    "start_time": "2021-09-14T15:43:52.437Z"
   },
   {
    "duration": 38,
    "start_time": "2021-09-14T15:44:05.383Z"
   },
   {
    "duration": 38,
    "start_time": "2021-09-14T15:44:33.142Z"
   },
   {
    "duration": 4,
    "start_time": "2021-09-15T08:28:32.715Z"
   },
   {
    "duration": 326,
    "start_time": "2021-09-15T08:28:47.701Z"
   },
   {
    "duration": 836,
    "start_time": "2021-09-15T11:16:49.721Z"
   },
   {
    "duration": 5,
    "start_time": "2021-09-15T11:17:02.390Z"
   },
   {
    "duration": 3,
    "start_time": "2021-09-15T11:17:03.289Z"
   },
   {
    "duration": 56,
    "start_time": "2021-09-15T11:17:04.062Z"
   },
   {
    "duration": 13,
    "start_time": "2021-09-15T11:17:53.269Z"
   },
   {
    "duration": 9,
    "start_time": "2021-09-15T11:17:56.651Z"
   },
   {
    "duration": 675,
    "start_time": "2021-09-15T11:17:58.869Z"
   },
   {
    "duration": 10,
    "start_time": "2021-09-15T11:18:21.027Z"
   },
   {
    "duration": 40,
    "start_time": "2021-09-15T11:18:53.351Z"
   },
   {
    "duration": 8,
    "start_time": "2021-09-15T11:18:53.393Z"
   },
   {
    "duration": 11,
    "start_time": "2021-09-15T11:19:02.234Z"
   },
   {
    "duration": 3,
    "start_time": "2021-09-15T11:19:05.145Z"
   },
   {
    "duration": 9,
    "start_time": "2021-09-15T11:19:06.216Z"
   },
   {
    "duration": 11,
    "start_time": "2021-09-15T11:19:07.052Z"
   },
   {
    "duration": 32,
    "start_time": "2021-09-15T11:19:07.740Z"
   },
   {
    "duration": 8,
    "start_time": "2021-09-15T11:19:11.032Z"
   },
   {
    "duration": 3,
    "start_time": "2021-09-15T11:19:11.888Z"
   },
   {
    "duration": 15,
    "start_time": "2021-09-15T11:19:12.398Z"
   },
   {
    "duration": 384,
    "start_time": "2021-09-15T11:19:15.350Z"
   },
   {
    "duration": 13,
    "start_time": "2021-09-15T11:19:16.615Z"
   },
   {
    "duration": 67,
    "start_time": "2021-09-15T11:19:17.780Z"
   },
   {
    "duration": 80,
    "start_time": "2021-09-15T14:17:52.712Z"
   },
   {
    "duration": 5,
    "start_time": "2021-09-15T14:17:55.951Z"
   },
   {
    "duration": 3,
    "start_time": "2021-09-15T14:17:56.942Z"
   },
   {
    "duration": 48,
    "start_time": "2021-09-15T14:17:57.533Z"
   },
   {
    "duration": 14,
    "start_time": "2021-09-15T14:18:01.129Z"
   },
   {
    "duration": 9,
    "start_time": "2021-09-15T14:18:02.996Z"
   },
   {
    "duration": 11,
    "start_time": "2021-09-15T14:18:03.973Z"
   },
   {
    "duration": 39,
    "start_time": "2021-09-15T14:18:06.590Z"
   },
   {
    "duration": 9,
    "start_time": "2021-09-15T14:18:09.310Z"
   },
   {
    "duration": 11,
    "start_time": "2021-09-15T14:18:12.003Z"
   },
   {
    "duration": 3,
    "start_time": "2021-09-15T14:18:13.815Z"
   },
   {
    "duration": 9,
    "start_time": "2021-09-15T14:18:14.239Z"
   },
   {
    "duration": 10,
    "start_time": "2021-09-15T14:18:14.762Z"
   },
   {
    "duration": 35,
    "start_time": "2021-09-15T14:18:16.771Z"
   },
   {
    "duration": 9,
    "start_time": "2021-09-15T14:18:18.808Z"
   },
   {
    "duration": 3,
    "start_time": "2021-09-15T14:18:20.294Z"
   },
   {
    "duration": 16,
    "start_time": "2021-09-15T14:18:20.793Z"
   },
   {
    "duration": 381,
    "start_time": "2021-09-15T14:18:21.574Z"
   },
   {
    "duration": 11,
    "start_time": "2021-09-15T14:18:23.638Z"
   },
   {
    "duration": 68,
    "start_time": "2021-09-15T14:18:25.193Z"
   },
   {
    "duration": 3,
    "start_time": "2021-09-15T14:18:29.544Z"
   },
   {
    "duration": 3,
    "start_time": "2021-09-15T14:18:37.457Z"
   },
   {
    "duration": 13,
    "start_time": "2021-09-15T14:18:38.412Z"
   },
   {
    "duration": 16,
    "start_time": "2021-09-15T14:18:41.208Z"
   },
   {
    "duration": 4,
    "start_time": "2021-09-15T14:18:54.865Z"
   },
   {
    "duration": 25,
    "start_time": "2021-09-15T14:19:05.802Z"
   },
   {
    "duration": 28,
    "start_time": "2021-09-15T14:19:06.327Z"
   },
   {
    "duration": 25,
    "start_time": "2021-09-15T14:19:06.748Z"
   },
   {
    "duration": 3,
    "start_time": "2021-09-15T14:19:07.194Z"
   },
   {
    "duration": 9,
    "start_time": "2021-09-15T14:19:07.700Z"
   },
   {
    "duration": 24,
    "start_time": "2021-09-15T14:19:09.654Z"
   },
   {
    "duration": 10,
    "start_time": "2021-09-15T14:19:10.264Z"
   },
   {
    "duration": 27,
    "start_time": "2021-09-15T14:19:10.732Z"
   },
   {
    "duration": 11,
    "start_time": "2021-09-15T14:19:12.404Z"
   },
   {
    "duration": 3,
    "start_time": "2021-09-15T14:19:14.434Z"
   },
   {
    "duration": 15,
    "start_time": "2021-09-15T14:19:14.953Z"
   },
   {
    "duration": 4413,
    "start_time": "2021-09-15T14:19:17.327Z"
   },
   {
    "duration": 35,
    "start_time": "2021-09-15T14:19:24.209Z"
   },
   {
    "duration": 13,
    "start_time": "2021-09-15T14:19:25.794Z"
   },
   {
    "duration": 3,
    "start_time": "2021-09-15T14:19:30.200Z"
   },
   {
    "duration": 14,
    "start_time": "2021-09-15T14:19:30.522Z"
   },
   {
    "duration": 3,
    "start_time": "2021-09-15T14:19:31.101Z"
   },
   {
    "duration": 6,
    "start_time": "2021-09-15T14:19:31.498Z"
   },
   {
    "duration": 4,
    "start_time": "2021-09-15T14:19:32.044Z"
   },
   {
    "duration": 404,
    "start_time": "2021-09-15T14:19:32.732Z"
   },
   {
    "duration": 10,
    "start_time": "2021-09-15T14:19:35.696Z"
   },
   {
    "duration": 8,
    "start_time": "2021-09-15T14:19:40.514Z"
   },
   {
    "duration": 42,
    "start_time": "2021-09-15T14:19:41.061Z"
   },
   {
    "duration": 36,
    "start_time": "2021-09-15T14:19:44.093Z"
   },
   {
    "duration": 35,
    "start_time": "2021-09-15T14:19:46.421Z"
   },
   {
    "duration": 36,
    "start_time": "2021-09-15T14:19:49.632Z"
   },
   {
    "duration": 10,
    "start_time": "2021-09-15T14:50:24.771Z"
   },
   {
    "duration": 728,
    "start_time": "2021-09-15T14:51:12.761Z"
   },
   {
    "duration": 87,
    "start_time": "2021-09-15T14:51:54.329Z"
   },
   {
    "duration": 6,
    "start_time": "2021-09-15T14:51:55.471Z"
   },
   {
    "duration": 4,
    "start_time": "2021-09-15T14:51:56.431Z"
   },
   {
    "duration": 49,
    "start_time": "2021-09-15T14:51:57.407Z"
   },
   {
    "duration": 17,
    "start_time": "2021-09-15T14:51:59.196Z"
   },
   {
    "duration": 12,
    "start_time": "2021-09-15T14:52:00.041Z"
   },
   {
    "duration": 12,
    "start_time": "2021-09-15T14:52:00.689Z"
   },
   {
    "duration": 41,
    "start_time": "2021-09-15T14:52:01.433Z"
   },
   {
    "duration": 9,
    "start_time": "2021-09-15T14:52:02.285Z"
   },
   {
    "duration": 9,
    "start_time": "2021-09-15T14:52:03.798Z"
   },
   {
    "duration": 10,
    "start_time": "2021-09-15T14:52:10.556Z"
   },
   {
    "duration": 10,
    "start_time": "2021-09-15T14:52:13.815Z"
   },
   {
    "duration": 36,
    "start_time": "2021-09-15T14:52:16.089Z"
   },
   {
    "duration": 10,
    "start_time": "2021-09-15T14:52:23.001Z"
   },
   {
    "duration": 4,
    "start_time": "2021-09-15T14:52:24.307Z"
   },
   {
    "duration": 18,
    "start_time": "2021-09-15T14:52:24.775Z"
   },
   {
    "duration": 10,
    "start_time": "2021-09-15T14:52:26.995Z"
   },
   {
    "duration": 424,
    "start_time": "2021-09-15T14:52:27.509Z"
   },
   {
    "duration": 13,
    "start_time": "2021-09-15T14:52:30.112Z"
   },
   {
    "duration": 71,
    "start_time": "2021-09-15T14:52:45.822Z"
   },
   {
    "duration": 79,
    "start_time": "2021-09-15T15:51:55.592Z"
   },
   {
    "duration": 839,
    "start_time": "2021-09-16T08:52:21.545Z"
   },
   {
    "duration": 5,
    "start_time": "2021-09-16T08:52:23.195Z"
   },
   {
    "duration": 3,
    "start_time": "2021-09-16T08:52:27.261Z"
   },
   {
    "duration": 61,
    "start_time": "2021-09-16T08:52:27.792Z"
   },
   {
    "duration": 14,
    "start_time": "2021-09-16T08:52:29.293Z"
   },
   {
    "duration": 11,
    "start_time": "2021-09-16T08:52:29.963Z"
   },
   {
    "duration": 10,
    "start_time": "2021-09-16T08:52:30.425Z"
   },
   {
    "duration": 41,
    "start_time": "2021-09-16T08:52:31.073Z"
   },
   {
    "duration": 9,
    "start_time": "2021-09-16T08:52:31.480Z"
   },
   {
    "duration": 9,
    "start_time": "2021-09-16T08:52:32.018Z"
   },
   {
    "duration": 11,
    "start_time": "2021-09-16T08:52:32.398Z"
   },
   {
    "duration": 35,
    "start_time": "2021-09-16T08:52:32.870Z"
   },
   {
    "duration": 8,
    "start_time": "2021-09-16T08:52:33.331Z"
   },
   {
    "duration": 3,
    "start_time": "2021-09-16T08:52:33.800Z"
   },
   {
    "duration": 18,
    "start_time": "2021-09-16T08:52:34.315Z"
   },
   {
    "duration": 10,
    "start_time": "2021-09-16T08:52:34.854Z"
   },
   {
    "duration": 389,
    "start_time": "2021-09-16T08:52:35.439Z"
   },
   {
    "duration": 14,
    "start_time": "2021-09-16T08:52:35.939Z"
   },
   {
    "duration": 70,
    "start_time": "2021-09-16T08:52:36.728Z"
   },
   {
    "duration": 3,
    "start_time": "2021-09-16T08:52:38.621Z"
   },
   {
    "duration": 15,
    "start_time": "2021-09-16T08:52:39.182Z"
   },
   {
    "duration": 18,
    "start_time": "2021-09-16T08:52:39.784Z"
   },
   {
    "duration": 3,
    "start_time": "2021-09-16T08:52:40.173Z"
   },
   {
    "duration": 25,
    "start_time": "2021-09-16T08:52:41.985Z"
   },
   {
    "duration": 41,
    "start_time": "2021-09-16T08:52:42.534Z"
   },
   {
    "duration": 25,
    "start_time": "2021-09-16T08:52:42.992Z"
   },
   {
    "duration": 3,
    "start_time": "2021-09-16T08:52:43.476Z"
   },
   {
    "duration": 9,
    "start_time": "2021-09-16T08:52:44.018Z"
   },
   {
    "duration": 23,
    "start_time": "2021-09-16T08:52:44.547Z"
   },
   {
    "duration": 9,
    "start_time": "2021-09-16T08:52:46.521Z"
   },
   {
    "duration": 34,
    "start_time": "2021-09-16T08:52:46.533Z"
   },
   {
    "duration": 16,
    "start_time": "2021-09-16T08:52:46.570Z"
   },
   {
    "duration": 3,
    "start_time": "2021-09-16T08:52:49.094Z"
   },
   {
    "duration": 17,
    "start_time": "2021-09-16T08:52:50.422Z"
   },
   {
    "duration": 4722,
    "start_time": "2021-09-16T08:52:51.210Z"
   },
   {
    "duration": 49,
    "start_time": "2021-09-16T08:52:55.934Z"
   },
   {
    "duration": 13,
    "start_time": "2021-09-16T08:52:55.985Z"
   },
   {
    "duration": 3,
    "start_time": "2021-09-16T08:52:59.408Z"
   },
   {
    "duration": 17,
    "start_time": "2021-09-16T08:52:59.745Z"
   },
   {
    "duration": 4,
    "start_time": "2021-09-16T08:53:00.500Z"
   },
   {
    "duration": 6,
    "start_time": "2021-09-16T08:53:01.016Z"
   },
   {
    "duration": 3,
    "start_time": "2021-09-16T08:53:01.377Z"
   },
   {
    "duration": 497,
    "start_time": "2021-09-16T08:53:01.790Z"
   },
   {
    "duration": 9,
    "start_time": "2021-09-16T08:53:02.289Z"
   },
   {
    "duration": 7,
    "start_time": "2021-09-16T08:53:10.220Z"
   },
   {
    "duration": 43,
    "start_time": "2021-09-16T08:53:10.734Z"
   },
   {
    "duration": 40,
    "start_time": "2021-09-16T08:53:11.960Z"
   },
   {
    "duration": 35,
    "start_time": "2021-09-16T08:53:13.156Z"
   },
   {
    "duration": 34,
    "start_time": "2021-09-16T08:53:14.250Z"
   },
   {
    "duration": 892,
    "start_time": "2021-09-16T09:53:55.667Z"
   },
   {
    "duration": 5,
    "start_time": "2021-09-16T09:53:56.562Z"
   },
   {
    "duration": 9,
    "start_time": "2021-09-16T09:53:56.570Z"
   },
   {
    "duration": 60,
    "start_time": "2021-09-16T09:53:56.582Z"
   },
   {
    "duration": 26,
    "start_time": "2021-09-16T09:53:56.645Z"
   },
   {
    "duration": 10,
    "start_time": "2021-09-16T09:53:56.674Z"
   },
   {
    "duration": 16,
    "start_time": "2021-09-16T09:53:56.686Z"
   },
   {
    "duration": 79,
    "start_time": "2021-09-16T09:53:56.704Z"
   },
   {
    "duration": 9,
    "start_time": "2021-09-16T09:53:56.787Z"
   },
   {
    "duration": 11,
    "start_time": "2021-09-16T09:53:56.799Z"
   },
   {
    "duration": 10,
    "start_time": "2021-09-16T09:53:56.813Z"
   },
   {
    "duration": 66,
    "start_time": "2021-09-16T09:53:56.826Z"
   },
   {
    "duration": 7,
    "start_time": "2021-09-16T09:53:56.894Z"
   },
   {
    "duration": 2,
    "start_time": "2021-09-16T09:53:56.904Z"
   },
   {
    "duration": 55,
    "start_time": "2021-09-16T09:53:56.909Z"
   },
   {
    "duration": 9,
    "start_time": "2021-09-16T09:53:56.966Z"
   },
   {
    "duration": 414,
    "start_time": "2021-09-16T09:53:56.978Z"
   },
   {
    "duration": 14,
    "start_time": "2021-09-16T09:53:57.395Z"
   },
   {
    "duration": 111,
    "start_time": "2021-09-16T09:53:57.412Z"
   },
   {
    "duration": 3,
    "start_time": "2021-09-16T09:53:57.525Z"
   },
   {
    "duration": 42,
    "start_time": "2021-09-16T09:53:57.531Z"
   },
   {
    "duration": 16,
    "start_time": "2021-09-16T09:53:57.576Z"
   },
   {
    "duration": 3,
    "start_time": "2021-09-16T09:53:57.595Z"
   },
   {
    "duration": 31,
    "start_time": "2021-09-16T09:53:57.600Z"
   },
   {
    "duration": 27,
    "start_time": "2021-09-16T09:53:57.662Z"
   },
   {
    "duration": 24,
    "start_time": "2021-09-16T09:53:57.692Z"
   },
   {
    "duration": 3,
    "start_time": "2021-09-16T09:53:57.721Z"
   },
   {
    "duration": 39,
    "start_time": "2021-09-16T09:53:57.726Z"
   },
   {
    "duration": 23,
    "start_time": "2021-09-16T09:53:57.767Z"
   },
   {
    "duration": 11,
    "start_time": "2021-09-16T09:53:57.792Z"
   },
   {
    "duration": 61,
    "start_time": "2021-09-16T09:53:57.805Z"
   },
   {
    "duration": 10,
    "start_time": "2021-09-16T09:53:57.868Z"
   },
   {
    "duration": 5,
    "start_time": "2021-09-16T09:53:57.880Z"
   },
   {
    "duration": 19,
    "start_time": "2021-09-16T09:53:57.887Z"
   },
   {
    "duration": 4912,
    "start_time": "2021-09-16T09:53:57.908Z"
   },
   {
    "duration": 44,
    "start_time": "2021-09-16T09:54:02.822Z"
   },
   {
    "duration": 11,
    "start_time": "2021-09-16T09:54:02.868Z"
   },
   {
    "duration": 28,
    "start_time": "2021-09-16T09:54:02.881Z"
   },
   {
    "duration": 41,
    "start_time": "2021-09-16T09:54:02.912Z"
   },
   {
    "duration": 13,
    "start_time": "2021-09-16T09:54:02.955Z"
   },
   {
    "duration": 43,
    "start_time": "2021-09-16T09:54:02.970Z"
   },
   {
    "duration": 24,
    "start_time": "2021-09-16T09:54:03.016Z"
   },
   {
    "duration": 431,
    "start_time": "2021-09-16T09:54:03.043Z"
   },
   {
    "duration": 9,
    "start_time": "2021-09-16T09:54:03.477Z"
   },
   {
    "duration": 24,
    "start_time": "2021-09-16T09:54:03.488Z"
   },
   {
    "duration": 62,
    "start_time": "2021-09-16T09:54:03.514Z"
   },
   {
    "duration": 39,
    "start_time": "2021-09-16T09:54:03.578Z"
   },
   {
    "duration": 50,
    "start_time": "2021-09-16T09:54:03.619Z"
   },
   {
    "duration": 36,
    "start_time": "2021-09-16T09:54:03.671Z"
   },
   {
    "duration": 1239,
    "start_time": "2021-09-20T18:43:30.654Z"
   },
   {
    "duration": 312,
    "start_time": "2021-09-20T18:43:47.949Z"
   },
   {
    "duration": 117,
    "start_time": "2021-09-20T18:45:53.276Z"
   },
   {
    "duration": 102,
    "start_time": "2021-09-20T18:46:10.984Z"
   },
   {
    "duration": 129,
    "start_time": "2021-09-20T18:46:24.578Z"
   },
   {
    "duration": 466,
    "start_time": "2021-09-20T18:59:57.005Z"
   },
   {
    "duration": 6,
    "start_time": "2021-09-20T19:00:10.113Z"
   },
   {
    "duration": 5,
    "start_time": "2021-09-20T19:00:18.873Z"
   },
   {
    "duration": 128,
    "start_time": "2021-09-20T19:00:34.368Z"
   },
   {
    "duration": 131,
    "start_time": "2021-09-20T19:01:38.384Z"
   },
   {
    "duration": 139,
    "start_time": "2021-09-20T19:01:49.351Z"
   },
   {
    "duration": 633,
    "start_time": "2021-09-21T05:19:05.425Z"
   },
   {
    "duration": 3,
    "start_time": "2021-09-21T05:19:06.060Z"
   },
   {
    "duration": 4,
    "start_time": "2021-09-21T05:19:06.065Z"
   },
   {
    "duration": 46,
    "start_time": "2021-09-21T05:19:06.071Z"
   },
   {
    "duration": 9,
    "start_time": "2021-09-21T05:19:06.119Z"
   },
   {
    "duration": 7,
    "start_time": "2021-09-21T05:19:06.130Z"
   },
   {
    "duration": 9,
    "start_time": "2021-09-21T05:19:06.139Z"
   },
   {
    "duration": 55,
    "start_time": "2021-09-21T05:19:06.149Z"
   },
   {
    "duration": 10,
    "start_time": "2021-09-21T05:19:06.207Z"
   },
   {
    "duration": 8,
    "start_time": "2021-09-21T05:19:06.220Z"
   },
   {
    "duration": 8,
    "start_time": "2021-09-21T05:19:06.229Z"
   },
   {
    "duration": 21,
    "start_time": "2021-09-21T05:19:06.239Z"
   },
   {
    "duration": 5,
    "start_time": "2021-09-21T05:19:06.261Z"
   },
   {
    "duration": 3,
    "start_time": "2021-09-21T05:19:06.300Z"
   },
   {
    "duration": 19,
    "start_time": "2021-09-21T05:19:06.305Z"
   },
   {
    "duration": 15,
    "start_time": "2021-09-21T05:19:06.326Z"
   },
   {
    "duration": 232,
    "start_time": "2021-09-21T05:19:06.342Z"
   },
   {
    "duration": 10,
    "start_time": "2021-09-21T05:19:06.576Z"
   },
   {
    "duration": 48,
    "start_time": "2021-09-21T05:19:06.599Z"
   },
   {
    "duration": 2,
    "start_time": "2021-09-21T05:19:06.650Z"
   },
   {
    "duration": 13,
    "start_time": "2021-09-21T05:19:06.654Z"
   },
   {
    "duration": 32,
    "start_time": "2021-09-21T05:19:06.669Z"
   },
   {
    "duration": 3,
    "start_time": "2021-09-21T05:19:06.703Z"
   },
   {
    "duration": 25,
    "start_time": "2021-09-21T05:19:06.708Z"
   },
   {
    "duration": 18,
    "start_time": "2021-09-21T05:19:06.735Z"
   },
   {
    "duration": 15,
    "start_time": "2021-09-21T05:19:06.754Z"
   },
   {
    "duration": 3,
    "start_time": "2021-09-21T05:19:06.802Z"
   },
   {
    "duration": 9,
    "start_time": "2021-09-21T05:19:06.807Z"
   },
   {
    "duration": 18,
    "start_time": "2021-09-21T05:19:06.818Z"
   },
   {
    "duration": 7,
    "start_time": "2021-09-21T05:19:06.838Z"
   },
   {
    "duration": 18,
    "start_time": "2021-09-21T05:19:06.846Z"
   },
   {
    "duration": 38,
    "start_time": "2021-09-21T05:19:06.866Z"
   },
   {
    "duration": 4,
    "start_time": "2021-09-21T05:19:06.906Z"
   },
   {
    "duration": 12,
    "start_time": "2021-09-21T05:19:06.912Z"
   },
   {
    "duration": 3510,
    "start_time": "2021-09-21T05:19:06.925Z"
   },
   {
    "duration": 23,
    "start_time": "2021-09-21T05:19:10.436Z"
   },
   {
    "duration": 7,
    "start_time": "2021-09-21T05:19:10.460Z"
   },
   {
    "duration": 4,
    "start_time": "2021-09-21T05:19:10.469Z"
   },
   {
    "duration": 40,
    "start_time": "2021-09-21T05:19:10.474Z"
   },
   {
    "duration": 3,
    "start_time": "2021-09-21T05:19:10.517Z"
   },
   {
    "duration": 9,
    "start_time": "2021-09-21T05:19:10.522Z"
   },
   {
    "duration": 7,
    "start_time": "2021-09-21T05:19:10.532Z"
   },
   {
    "duration": 251,
    "start_time": "2021-09-21T05:19:10.540Z"
   },
   {
    "duration": 11,
    "start_time": "2021-09-21T05:19:10.793Z"
   },
   {
    "duration": 844,
    "start_time": "2021-09-21T05:19:10.806Z"
   },
   {
    "duration": -28,
    "start_time": "2021-09-21T05:19:11.680Z"
   },
   {
    "duration": -29,
    "start_time": "2021-09-21T05:19:11.682Z"
   },
   {
    "duration": -32,
    "start_time": "2021-09-21T05:19:11.685Z"
   },
   {
    "duration": -33,
    "start_time": "2021-09-21T05:19:11.687Z"
   },
   {
    "duration": -37,
    "start_time": "2021-09-21T05:19:11.692Z"
   },
   {
    "duration": 8,
    "start_time": "2021-09-21T05:19:23.804Z"
   },
   {
    "duration": 24,
    "start_time": "2021-09-21T05:19:24.032Z"
   },
   {
    "duration": 26,
    "start_time": "2021-09-21T05:19:25.026Z"
   },
   {
    "duration": 21,
    "start_time": "2021-09-21T05:19:25.833Z"
   },
   {
    "duration": 22,
    "start_time": "2021-09-21T05:19:26.450Z"
   },
   {
    "duration": 120,
    "start_time": "2021-09-21T19:04:15.742Z"
   },
   {
    "duration": 399,
    "start_time": "2021-09-21T19:05:28.821Z"
   },
   {
    "duration": 334,
    "start_time": "2021-09-21T19:05:44.033Z"
   },
   {
    "duration": 375,
    "start_time": "2021-09-21T19:06:08.387Z"
   },
   {
    "duration": 109,
    "start_time": "2021-09-21T19:06:41.045Z"
   },
   {
    "duration": 676,
    "start_time": "2021-09-21T19:06:44.115Z"
   },
   {
    "duration": 3,
    "start_time": "2021-09-21T19:06:45.671Z"
   },
   {
    "duration": 3,
    "start_time": "2021-09-21T19:06:55.137Z"
   },
   {
    "duration": 116,
    "start_time": "2021-09-21T19:06:59.114Z"
   },
   {
    "duration": 129,
    "start_time": "2021-09-21T19:07:22.969Z"
   },
   {
    "duration": 679,
    "start_time": "2021-09-21T19:07:29.532Z"
   },
   {
    "duration": 4,
    "start_time": "2021-09-21T19:07:31.326Z"
   },
   {
    "duration": 3,
    "start_time": "2021-09-21T19:07:38.040Z"
   },
   {
    "duration": 32,
    "start_time": "2021-09-21T19:07:38.416Z"
   },
   {
    "duration": 10,
    "start_time": "2021-09-21T19:07:39.407Z"
   },
   {
    "duration": 111,
    "start_time": "2021-09-21T19:08:09.736Z"
   },
   {
    "duration": 180,
    "start_time": "2021-09-21T19:08:12.667Z"
   },
   {
    "duration": 785,
    "start_time": "2021-09-21T19:08:13.174Z"
   },
   {
    "duration": 4,
    "start_time": "2021-09-21T19:08:17.095Z"
   },
   {
    "duration": 3,
    "start_time": "2021-09-21T19:08:17.626Z"
   },
   {
    "duration": 34,
    "start_time": "2021-09-21T19:08:18.126Z"
   },
   {
    "duration": 10,
    "start_time": "2021-09-21T19:08:20.351Z"
   },
   {
    "duration": 7,
    "start_time": "2021-09-21T19:08:21.654Z"
   },
   {
    "duration": 8,
    "start_time": "2021-09-21T19:08:22.209Z"
   },
   {
    "duration": 28,
    "start_time": "2021-09-21T19:08:22.840Z"
   },
   {
    "duration": 7,
    "start_time": "2021-09-21T19:08:23.826Z"
   },
   {
    "duration": 6,
    "start_time": "2021-09-21T19:08:25.903Z"
   },
   {
    "duration": 10,
    "start_time": "2021-09-21T19:08:26.434Z"
   },
   {
    "duration": 25,
    "start_time": "2021-09-21T19:08:27.276Z"
   },
   {
    "duration": 6,
    "start_time": "2021-09-21T19:08:27.856Z"
   },
   {
    "duration": 3,
    "start_time": "2021-09-21T19:08:28.463Z"
   },
   {
    "duration": 12,
    "start_time": "2021-09-21T19:08:28.892Z"
   },
   {
    "duration": 7,
    "start_time": "2021-09-21T19:08:29.525Z"
   },
   {
    "duration": 243,
    "start_time": "2021-09-21T19:08:30.049Z"
   },
   {
    "duration": 9,
    "start_time": "2021-09-21T19:08:42.953Z"
   },
   {
    "duration": 47,
    "start_time": "2021-09-21T19:08:43.508Z"
   },
   {
    "duration": 2,
    "start_time": "2021-09-21T19:08:46.138Z"
   },
   {
    "duration": 11,
    "start_time": "2021-09-21T19:08:47.092Z"
   },
   {
    "duration": 12,
    "start_time": "2021-09-21T19:08:47.683Z"
   },
   {
    "duration": 2,
    "start_time": "2021-09-21T19:08:48.124Z"
   },
   {
    "duration": 17,
    "start_time": "2021-09-21T19:08:50.221Z"
   },
   {
    "duration": 21,
    "start_time": "2021-09-21T19:09:01.218Z"
   },
   {
    "duration": 17,
    "start_time": "2021-09-21T19:09:01.656Z"
   },
   {
    "duration": 3,
    "start_time": "2021-09-21T19:09:02.060Z"
   },
   {
    "duration": 8,
    "start_time": "2021-09-21T19:09:02.444Z"
   },
   {
    "duration": 19,
    "start_time": "2021-09-21T19:09:02.936Z"
   },
   {
    "duration": 9,
    "start_time": "2021-09-21T19:09:03.402Z"
   },
   {
    "duration": 25,
    "start_time": "2021-09-21T19:09:03.887Z"
   },
   {
    "duration": 8,
    "start_time": "2021-09-21T19:09:04.419Z"
   },
   {
    "duration": 2,
    "start_time": "2021-09-21T19:09:06.581Z"
   },
   {
    "duration": 24,
    "start_time": "2021-09-21T19:09:07.074Z"
   },
   {
    "duration": 4233,
    "start_time": "2021-09-21T19:09:07.534Z"
   },
   {
    "duration": 29,
    "start_time": "2021-09-21T19:09:11.769Z"
   },
   {
    "duration": 21,
    "start_time": "2021-09-21T19:09:11.800Z"
   },
   {
    "duration": 138,
    "start_time": "2021-09-21T19:09:24.418Z"
   },
   {
    "duration": 2,
    "start_time": "2021-09-21T19:09:33.317Z"
   },
   {
    "duration": 2,
    "start_time": "2021-09-21T19:09:35.691Z"
   },
   {
    "duration": 11,
    "start_time": "2021-09-21T19:09:36.526Z"
   },
   {
    "duration": 2,
    "start_time": "2021-09-21T19:09:37.112Z"
   },
   {
    "duration": 6,
    "start_time": "2021-09-21T19:09:37.557Z"
   },
   {
    "duration": 3,
    "start_time": "2021-09-21T19:09:38.205Z"
   },
   {
    "duration": 243,
    "start_time": "2021-09-21T19:09:38.830Z"
   },
   {
    "duration": 8,
    "start_time": "2021-09-21T19:09:41.520Z"
   },
   {
    "duration": 262,
    "start_time": "2021-09-21T19:10:35.029Z"
   },
   {
    "duration": 242,
    "start_time": "2021-09-21T19:10:50.174Z"
   },
   {
    "duration": 240,
    "start_time": "2021-09-21T19:11:53.103Z"
   },
   {
    "duration": 14,
    "start_time": "2021-09-21T19:12:21.938Z"
   },
   {
    "duration": 2,
    "start_time": "2021-09-21T19:13:03.315Z"
   },
   {
    "duration": 2,
    "start_time": "2021-09-21T19:13:16.900Z"
   },
   {
    "duration": 5,
    "start_time": "2021-09-21T19:13:40.793Z"
   },
   {
    "duration": 3,
    "start_time": "2021-09-21T19:13:44.813Z"
   },
   {
    "duration": 3,
    "start_time": "2021-09-21T19:14:11.262Z"
   },
   {
    "duration": 29,
    "start_time": "2021-09-21T19:14:11.267Z"
   },
   {
    "duration": 697,
    "start_time": "2021-09-21T19:14:11.298Z"
   },
   {
    "duration": 3,
    "start_time": "2021-09-21T19:14:11.997Z"
   },
   {
    "duration": 22,
    "start_time": "2021-09-21T19:14:12.002Z"
   },
   {
    "duration": 54,
    "start_time": "2021-09-21T19:14:12.026Z"
   },
   {
    "duration": 10,
    "start_time": "2021-09-21T19:14:12.082Z"
   },
   {
    "duration": 19,
    "start_time": "2021-09-21T19:14:12.094Z"
   },
   {
    "duration": 25,
    "start_time": "2021-09-21T19:14:12.114Z"
   },
   {
    "duration": 33,
    "start_time": "2021-09-21T19:14:12.141Z"
   },
   {
    "duration": 7,
    "start_time": "2021-09-21T19:14:12.176Z"
   },
   {
    "duration": 19,
    "start_time": "2021-09-21T19:14:12.185Z"
   },
   {
    "duration": 27,
    "start_time": "2021-09-21T19:14:12.205Z"
   },
   {
    "duration": 48,
    "start_time": "2021-09-21T19:14:12.234Z"
   },
   {
    "duration": 8,
    "start_time": "2021-09-21T19:14:12.284Z"
   },
   {
    "duration": 6,
    "start_time": "2021-09-21T19:14:12.294Z"
   },
   {
    "duration": 19,
    "start_time": "2021-09-21T19:14:12.302Z"
   },
   {
    "duration": 11,
    "start_time": "2021-09-21T19:14:12.323Z"
   },
   {
    "duration": 266,
    "start_time": "2021-09-21T19:14:12.338Z"
   },
   {
    "duration": 9,
    "start_time": "2021-09-21T19:14:12.606Z"
   },
   {
    "duration": 59,
    "start_time": "2021-09-21T19:14:12.617Z"
   },
   {
    "duration": 2,
    "start_time": "2021-09-21T19:14:12.678Z"
   },
   {
    "duration": 26,
    "start_time": "2021-09-21T19:14:12.682Z"
   },
   {
    "duration": 20,
    "start_time": "2021-09-21T19:14:12.709Z"
   },
   {
    "duration": 3,
    "start_time": "2021-09-21T19:14:12.731Z"
   },
   {
    "duration": 36,
    "start_time": "2021-09-21T19:14:12.736Z"
   },
   {
    "duration": 22,
    "start_time": "2021-09-21T19:14:12.773Z"
   },
   {
    "duration": 16,
    "start_time": "2021-09-21T19:14:12.797Z"
   },
   {
    "duration": 5,
    "start_time": "2021-09-21T19:14:12.815Z"
   },
   {
    "duration": 24,
    "start_time": "2021-09-21T19:14:12.822Z"
   },
   {
    "duration": 29,
    "start_time": "2021-09-21T19:14:12.847Z"
   },
   {
    "duration": 12,
    "start_time": "2021-09-21T19:14:12.878Z"
   },
   {
    "duration": 36,
    "start_time": "2021-09-21T19:14:12.892Z"
   },
   {
    "duration": 37,
    "start_time": "2021-09-21T19:14:12.930Z"
   },
   {
    "duration": 16,
    "start_time": "2021-09-21T19:14:12.968Z"
   },
   {
    "duration": 34,
    "start_time": "2021-09-21T19:14:12.986Z"
   },
   {
    "duration": 3598,
    "start_time": "2021-09-21T19:14:13.022Z"
   },
   {
    "duration": 24,
    "start_time": "2021-09-21T19:14:16.627Z"
   },
   {
    "duration": 31,
    "start_time": "2021-09-21T19:14:16.653Z"
   },
   {
    "duration": 2,
    "start_time": "2021-09-21T19:14:16.686Z"
   },
   {
    "duration": 19,
    "start_time": "2021-09-21T19:14:16.690Z"
   },
   {
    "duration": 38,
    "start_time": "2021-09-21T19:14:16.710Z"
   },
   {
    "duration": 11,
    "start_time": "2021-09-21T19:14:16.750Z"
   },
   {
    "duration": 19,
    "start_time": "2021-09-21T19:14:16.763Z"
   },
   {
    "duration": 15,
    "start_time": "2021-09-21T19:14:16.785Z"
   },
   {
    "duration": 270,
    "start_time": "2021-09-21T19:14:16.802Z"
   },
   {
    "duration": 8,
    "start_time": "2021-09-21T19:14:17.077Z"
   },
   {
    "duration": 25,
    "start_time": "2021-09-21T19:14:17.088Z"
   },
   {
    "duration": 38,
    "start_time": "2021-09-21T19:14:17.114Z"
   },
   {
    "duration": 25,
    "start_time": "2021-09-21T19:14:17.154Z"
   },
   {
    "duration": 31,
    "start_time": "2021-09-21T19:14:17.181Z"
   },
   {
    "duration": 22,
    "start_time": "2021-09-21T19:14:17.214Z"
   },
   {
    "duration": 416,
    "start_time": "2021-09-21T19:24:24.550Z"
   },
   {
    "duration": 5,
    "start_time": "2021-09-21T19:24:30.379Z"
   },
   {
    "duration": 26,
    "start_time": "2021-09-21T19:24:42.706Z"
   },
   {
    "duration": 14,
    "start_time": "2021-09-21T19:24:50.842Z"
   },
   {
    "duration": 18,
    "start_time": "2021-09-21T19:33:37.410Z"
   },
   {
    "duration": 18,
    "start_time": "2021-09-21T19:34:13.704Z"
   },
   {
    "duration": 39,
    "start_time": "2021-09-21T19:35:52.633Z"
   },
   {
    "duration": 18,
    "start_time": "2021-09-21T19:50:16.263Z"
   },
   {
    "duration": 5,
    "start_time": "2021-09-21T20:01:24.763Z"
   },
   {
    "duration": 4,
    "start_time": "2021-09-21T20:01:51.423Z"
   },
   {
    "duration": 3,
    "start_time": "2021-09-21T20:01:55.257Z"
   },
   {
    "duration": 788,
    "start_time": "2021-09-21T20:01:59.374Z"
   },
   {
    "duration": 4,
    "start_time": "2021-09-21T20:02:00.990Z"
   },
   {
    "duration": 2,
    "start_time": "2021-09-21T20:02:01.975Z"
   },
   {
    "duration": 44,
    "start_time": "2021-09-21T20:02:02.351Z"
   },
   {
    "duration": 12,
    "start_time": "2021-09-21T20:02:03.401Z"
   },
   {
    "duration": 7,
    "start_time": "2021-09-21T20:02:03.730Z"
   },
   {
    "duration": 8,
    "start_time": "2021-09-21T20:02:04.056Z"
   },
   {
    "duration": 29,
    "start_time": "2021-09-21T20:02:04.339Z"
   },
   {
    "duration": 7,
    "start_time": "2021-09-21T20:02:04.892Z"
   },
   {
    "duration": 7,
    "start_time": "2021-09-21T20:02:05.134Z"
   },
   {
    "duration": 8,
    "start_time": "2021-09-21T20:02:05.414Z"
   },
   {
    "duration": 26,
    "start_time": "2021-09-21T20:02:05.719Z"
   },
   {
    "duration": 6,
    "start_time": "2021-09-21T20:02:05.983Z"
   },
   {
    "duration": 3,
    "start_time": "2021-09-21T20:02:06.211Z"
   },
   {
    "duration": 11,
    "start_time": "2021-09-21T20:02:06.467Z"
   },
   {
    "duration": 7,
    "start_time": "2021-09-21T20:02:06.717Z"
   },
   {
    "duration": 243,
    "start_time": "2021-09-21T20:02:06.945Z"
   },
   {
    "duration": 12,
    "start_time": "2021-09-21T20:02:07.374Z"
   },
   {
    "duration": 46,
    "start_time": "2021-09-21T20:02:07.619Z"
   },
   {
    "duration": 3,
    "start_time": "2021-09-21T20:02:08.842Z"
   },
   {
    "duration": 15,
    "start_time": "2021-09-21T20:02:09.090Z"
   },
   {
    "duration": 14,
    "start_time": "2021-09-21T20:02:09.330Z"
   },
   {
    "duration": 2,
    "start_time": "2021-09-21T20:02:09.566Z"
   },
   {
    "duration": 17,
    "start_time": "2021-09-21T20:02:10.590Z"
   },
   {
    "duration": 29,
    "start_time": "2021-09-21T20:02:10.822Z"
   },
   {
    "duration": 21,
    "start_time": "2021-09-21T20:02:11.103Z"
   },
   {
    "duration": 2,
    "start_time": "2021-09-21T20:02:11.484Z"
   },
   {
    "duration": 8,
    "start_time": "2021-09-21T20:02:11.766Z"
   },
   {
    "duration": 18,
    "start_time": "2021-09-21T20:02:12.101Z"
   },
   {
    "duration": 8,
    "start_time": "2021-09-21T20:02:12.437Z"
   },
   {
    "duration": 19,
    "start_time": "2021-09-21T20:02:12.758Z"
   },
   {
    "duration": 8,
    "start_time": "2021-09-21T20:02:13.040Z"
   },
   {
    "duration": 2,
    "start_time": "2021-09-21T20:02:14.311Z"
   },
   {
    "duration": 15,
    "start_time": "2021-09-21T20:02:14.522Z"
   },
   {
    "duration": 4423,
    "start_time": "2021-09-21T20:02:14.739Z"
   },
   {
    "duration": 41,
    "start_time": "2021-09-21T20:02:19.164Z"
   },
   {
    "duration": 22,
    "start_time": "2021-09-21T20:02:19.208Z"
   },
   {
    "duration": 3,
    "start_time": "2021-09-21T20:02:19.232Z"
   },
   {
    "duration": 11,
    "start_time": "2021-09-21T20:02:19.237Z"
   },
   {
    "duration": 43,
    "start_time": "2021-09-21T20:02:19.250Z"
   },
   {
    "duration": 2,
    "start_time": "2021-09-21T20:02:19.295Z"
   },
   {
    "duration": 12,
    "start_time": "2021-09-21T20:02:19.300Z"
   },
   {
    "duration": 24,
    "start_time": "2021-09-21T20:02:19.314Z"
   },
   {
    "duration": 262,
    "start_time": "2021-09-21T20:02:19.341Z"
   },
   {
    "duration": 7,
    "start_time": "2021-09-21T20:02:19.605Z"
   },
   {
    "duration": 26,
    "start_time": "2021-09-21T20:02:45.892Z"
   },
   {
    "duration": 3,
    "start_time": "2021-09-21T20:03:18.200Z"
   },
   {
    "duration": 6,
    "start_time": "2021-09-21T20:03:18.205Z"
   },
   {
    "duration": 688,
    "start_time": "2021-09-21T20:03:18.214Z"
   },
   {
    "duration": 4,
    "start_time": "2021-09-21T20:03:18.905Z"
   },
   {
    "duration": 9,
    "start_time": "2021-09-21T20:03:18.911Z"
   },
   {
    "duration": 40,
    "start_time": "2021-09-21T20:03:18.922Z"
   },
   {
    "duration": 20,
    "start_time": "2021-09-21T20:03:18.964Z"
   },
   {
    "duration": 11,
    "start_time": "2021-09-21T20:03:18.986Z"
   },
   {
    "duration": 14,
    "start_time": "2021-09-21T20:03:19.000Z"
   },
   {
    "duration": 29,
    "start_time": "2021-09-21T20:03:19.016Z"
   },
   {
    "duration": 30,
    "start_time": "2021-09-21T20:03:19.046Z"
   },
   {
    "duration": 6,
    "start_time": "2021-09-21T20:03:19.079Z"
   },
   {
    "duration": 13,
    "start_time": "2021-09-21T20:03:19.087Z"
   },
   {
    "duration": 25,
    "start_time": "2021-09-21T20:03:19.101Z"
   },
   {
    "duration": 5,
    "start_time": "2021-09-21T20:03:19.128Z"
   },
   {
    "duration": 45,
    "start_time": "2021-09-21T20:03:19.134Z"
   },
   {
    "duration": 19,
    "start_time": "2021-09-21T20:03:19.181Z"
   },
   {
    "duration": 5,
    "start_time": "2021-09-21T20:03:19.202Z"
   },
   {
    "duration": 259,
    "start_time": "2021-09-21T20:03:19.209Z"
   },
   {
    "duration": 14,
    "start_time": "2021-09-21T20:03:19.470Z"
   },
   {
    "duration": 47,
    "start_time": "2021-09-21T20:03:19.485Z"
   },
   {
    "duration": 2,
    "start_time": "2021-09-21T20:03:19.533Z"
   },
   {
    "duration": 41,
    "start_time": "2021-09-21T20:03:19.537Z"
   },
   {
    "duration": 11,
    "start_time": "2021-09-21T20:03:19.579Z"
   },
   {
    "duration": 2,
    "start_time": "2021-09-21T20:03:19.592Z"
   },
   {
    "duration": 23,
    "start_time": "2021-09-21T20:03:19.595Z"
   },
   {
    "duration": 20,
    "start_time": "2021-09-21T20:03:19.621Z"
   },
   {
    "duration": 42,
    "start_time": "2021-09-21T20:03:19.644Z"
   },
   {
    "duration": 2,
    "start_time": "2021-09-21T20:03:19.688Z"
   },
   {
    "duration": 10,
    "start_time": "2021-09-21T20:03:19.692Z"
   },
   {
    "duration": 20,
    "start_time": "2021-09-21T20:03:19.704Z"
   },
   {
    "duration": 11,
    "start_time": "2021-09-21T20:03:19.725Z"
   },
   {
    "duration": 50,
    "start_time": "2021-09-21T20:03:19.738Z"
   },
   {
    "duration": 7,
    "start_time": "2021-09-21T20:03:19.790Z"
   },
   {
    "duration": 8,
    "start_time": "2021-09-21T20:03:19.798Z"
   },
   {
    "duration": 16,
    "start_time": "2021-09-21T20:03:19.807Z"
   },
   {
    "duration": 3826,
    "start_time": "2021-09-21T20:03:19.824Z"
   },
   {
    "duration": 37,
    "start_time": "2021-09-21T20:03:23.652Z"
   },
   {
    "duration": 22,
    "start_time": "2021-09-21T20:03:23.691Z"
   },
   {
    "duration": 3,
    "start_time": "2021-09-21T20:03:23.714Z"
   },
   {
    "duration": 6,
    "start_time": "2021-09-21T20:03:23.718Z"
   },
   {
    "duration": 14,
    "start_time": "2021-09-21T20:03:23.726Z"
   },
   {
    "duration": 2,
    "start_time": "2021-09-21T20:03:23.742Z"
   },
   {
    "duration": 33,
    "start_time": "2021-09-21T20:03:23.746Z"
   },
   {
    "duration": 3,
    "start_time": "2021-09-21T20:03:23.781Z"
   },
   {
    "duration": 267,
    "start_time": "2021-09-21T20:03:23.786Z"
   },
   {
    "duration": 7,
    "start_time": "2021-09-21T20:03:24.055Z"
   },
   {
    "duration": 36,
    "start_time": "2021-09-21T20:03:24.063Z"
   },
   {
    "duration": 4,
    "start_time": "2021-09-21T20:03:24.101Z"
   },
   {
    "duration": 13,
    "start_time": "2021-09-21T20:03:24.107Z"
   },
   {
    "duration": 28,
    "start_time": "2021-09-21T20:03:24.122Z"
   },
   {
    "duration": 58,
    "start_time": "2021-09-21T20:03:24.151Z"
   },
   {
    "duration": 30,
    "start_time": "2021-09-21T20:03:24.211Z"
   },
   {
    "duration": 51,
    "start_time": "2021-09-21T20:03:24.243Z"
   },
   {
    "duration": 3,
    "start_time": "2021-09-21T20:05:47.468Z"
   },
   {
    "duration": 5,
    "start_time": "2021-09-21T20:05:47.474Z"
   },
   {
    "duration": 1240,
    "start_time": "2021-09-21T20:05:47.481Z"
   },
   {
    "duration": 4,
    "start_time": "2021-09-21T20:05:48.724Z"
   },
   {
    "duration": 9,
    "start_time": "2021-09-21T20:05:48.730Z"
   },
   {
    "duration": 49,
    "start_time": "2021-09-21T20:05:48.741Z"
   },
   {
    "duration": 15,
    "start_time": "2021-09-21T20:05:48.793Z"
   },
   {
    "duration": 8,
    "start_time": "2021-09-21T20:05:48.810Z"
   },
   {
    "duration": 16,
    "start_time": "2021-09-21T20:05:48.820Z"
   },
   {
    "duration": 69,
    "start_time": "2021-09-21T20:05:48.838Z"
   },
   {
    "duration": 8,
    "start_time": "2021-09-21T20:05:48.909Z"
   },
   {
    "duration": 20,
    "start_time": "2021-09-21T20:05:48.919Z"
   },
   {
    "duration": 10,
    "start_time": "2021-09-21T20:05:48.941Z"
   },
   {
    "duration": 49,
    "start_time": "2021-09-21T20:05:48.955Z"
   },
   {
    "duration": 7,
    "start_time": "2021-09-21T20:05:49.006Z"
   },
   {
    "duration": 6,
    "start_time": "2021-09-21T20:05:49.015Z"
   },
   {
    "duration": 20,
    "start_time": "2021-09-21T20:05:49.023Z"
   },
   {
    "duration": 8,
    "start_time": "2021-09-21T20:05:49.045Z"
   },
   {
    "duration": 254,
    "start_time": "2021-09-21T20:05:49.076Z"
   },
   {
    "duration": 9,
    "start_time": "2021-09-21T20:05:49.332Z"
   },
   {
    "duration": 63,
    "start_time": "2021-09-21T20:05:49.342Z"
   },
   {
    "duration": 3,
    "start_time": "2021-09-21T20:05:49.407Z"
   },
   {
    "duration": 19,
    "start_time": "2021-09-21T20:05:49.411Z"
   },
   {
    "duration": 12,
    "start_time": "2021-09-21T20:05:49.431Z"
   },
   {
    "duration": 2,
    "start_time": "2021-09-21T20:05:49.445Z"
   },
   {
    "duration": 43,
    "start_time": "2021-09-21T20:05:49.449Z"
   },
   {
    "duration": 19,
    "start_time": "2021-09-21T20:05:49.494Z"
   },
   {
    "duration": 18,
    "start_time": "2021-09-21T20:05:49.515Z"
   },
   {
    "duration": 2,
    "start_time": "2021-09-21T20:05:49.535Z"
   },
   {
    "duration": 40,
    "start_time": "2021-09-21T20:05:49.539Z"
   },
   {
    "duration": 27,
    "start_time": "2021-09-21T20:05:49.582Z"
   },
   {
    "duration": 10,
    "start_time": "2021-09-21T20:05:49.610Z"
   },
   {
    "duration": 23,
    "start_time": "2021-09-21T20:05:49.622Z"
   },
   {
    "duration": 9,
    "start_time": "2021-09-21T20:05:49.646Z"
   },
   {
    "duration": 21,
    "start_time": "2021-09-21T20:05:49.657Z"
   },
   {
    "duration": 17,
    "start_time": "2021-09-21T20:05:49.679Z"
   },
   {
    "duration": 3928,
    "start_time": "2021-09-21T20:05:49.697Z"
   },
   {
    "duration": 24,
    "start_time": "2021-09-21T20:05:53.630Z"
   },
   {
    "duration": 40,
    "start_time": "2021-09-21T20:05:53.657Z"
   },
   {
    "duration": 2,
    "start_time": "2021-09-21T20:05:53.699Z"
   },
   {
    "duration": 4,
    "start_time": "2021-09-21T20:05:53.704Z"
   },
   {
    "duration": 15,
    "start_time": "2021-09-21T20:05:53.710Z"
   },
   {
    "duration": 3,
    "start_time": "2021-09-21T20:05:53.727Z"
   },
   {
    "duration": 6,
    "start_time": "2021-09-21T20:05:53.732Z"
   },
   {
    "duration": 37,
    "start_time": "2021-09-21T20:05:53.740Z"
   },
   {
    "duration": 267,
    "start_time": "2021-09-21T20:05:53.779Z"
   },
   {
    "duration": 7,
    "start_time": "2021-09-21T20:05:54.048Z"
   },
   {
    "duration": 53,
    "start_time": "2021-09-21T20:05:54.057Z"
   },
   {
    "duration": 4,
    "start_time": "2021-09-21T20:05:54.112Z"
   },
   {
    "duration": 14,
    "start_time": "2021-09-21T20:05:54.119Z"
   },
   {
    "duration": 28,
    "start_time": "2021-09-21T20:05:54.135Z"
   },
   {
    "duration": 32,
    "start_time": "2021-09-21T20:05:54.165Z"
   },
   {
    "duration": 22,
    "start_time": "2021-09-21T20:05:54.198Z"
   },
   {
    "duration": 24,
    "start_time": "2021-09-21T20:05:54.222Z"
   },
   {
    "duration": 4,
    "start_time": "2021-09-22T04:56:51.780Z"
   },
   {
    "duration": 8,
    "start_time": "2021-09-22T04:56:51.787Z"
   },
   {
    "duration": 874,
    "start_time": "2021-09-22T04:56:51.798Z"
   },
   {
    "duration": 5,
    "start_time": "2021-09-22T04:56:52.675Z"
   },
   {
    "duration": 13,
    "start_time": "2021-09-22T04:56:52.683Z"
   },
   {
    "duration": 65,
    "start_time": "2021-09-22T04:56:52.699Z"
   },
   {
    "duration": 14,
    "start_time": "2021-09-22T04:56:52.770Z"
   },
   {
    "duration": 11,
    "start_time": "2021-09-22T04:56:52.788Z"
   },
   {
    "duration": 13,
    "start_time": "2021-09-22T04:56:52.802Z"
   },
   {
    "duration": 85,
    "start_time": "2021-09-22T04:56:52.818Z"
   },
   {
    "duration": 11,
    "start_time": "2021-09-22T04:56:52.906Z"
   },
   {
    "duration": 48,
    "start_time": "2021-09-22T04:56:52.920Z"
   },
   {
    "duration": 13,
    "start_time": "2021-09-22T04:56:52.971Z"
   },
   {
    "duration": 32,
    "start_time": "2021-09-22T04:56:52.987Z"
   },
   {
    "duration": 45,
    "start_time": "2021-09-22T04:56:53.022Z"
   },
   {
    "duration": 5,
    "start_time": "2021-09-22T04:56:53.070Z"
   },
   {
    "duration": 18,
    "start_time": "2021-09-22T04:56:53.077Z"
   },
   {
    "duration": 10,
    "start_time": "2021-09-22T04:56:53.097Z"
   },
   {
    "duration": 457,
    "start_time": "2021-09-22T04:56:53.112Z"
   },
   {
    "duration": 12,
    "start_time": "2021-09-22T04:56:53.573Z"
   },
   {
    "duration": 91,
    "start_time": "2021-09-22T04:56:53.588Z"
   },
   {
    "duration": 3,
    "start_time": "2021-09-22T04:56:53.682Z"
   },
   {
    "duration": 23,
    "start_time": "2021-09-22T04:56:53.688Z"
   },
   {
    "duration": 15,
    "start_time": "2021-09-22T04:56:53.714Z"
   },
   {
    "duration": 31,
    "start_time": "2021-09-22T04:56:53.732Z"
   },
   {
    "duration": 29,
    "start_time": "2021-09-22T04:56:53.766Z"
   },
   {
    "duration": 29,
    "start_time": "2021-09-22T04:56:53.797Z"
   },
   {
    "duration": 53,
    "start_time": "2021-09-22T04:56:53.828Z"
   },
   {
    "duration": 3,
    "start_time": "2021-09-22T04:56:53.884Z"
   },
   {
    "duration": 14,
    "start_time": "2021-09-22T04:56:53.890Z"
   },
   {
    "duration": 25,
    "start_time": "2021-09-22T04:56:53.906Z"
   },
   {
    "duration": 34,
    "start_time": "2021-09-22T04:56:53.933Z"
   },
   {
    "duration": 28,
    "start_time": "2021-09-22T04:56:53.969Z"
   },
   {
    "duration": 14,
    "start_time": "2021-09-22T04:56:54.000Z"
   },
   {
    "duration": 6,
    "start_time": "2021-09-22T04:56:54.016Z"
   },
   {
    "duration": 39,
    "start_time": "2021-09-22T04:56:54.024Z"
   },
   {
    "duration": 4523,
    "start_time": "2021-09-22T04:56:54.065Z"
   },
   {
    "duration": 32,
    "start_time": "2021-09-22T04:56:58.591Z"
   },
   {
    "duration": 55,
    "start_time": "2021-09-22T04:56:58.625Z"
   },
   {
    "duration": 7,
    "start_time": "2021-09-22T04:56:58.682Z"
   },
   {
    "duration": 11,
    "start_time": "2021-09-22T04:56:58.691Z"
   },
   {
    "duration": 24,
    "start_time": "2021-09-22T04:56:58.704Z"
   },
   {
    "duration": 3,
    "start_time": "2021-09-22T04:56:58.730Z"
   },
   {
    "duration": 27,
    "start_time": "2021-09-22T04:56:58.735Z"
   },
   {
    "duration": 9,
    "start_time": "2021-09-22T04:56:58.764Z"
   },
   {
    "duration": 427,
    "start_time": "2021-09-22T04:56:58.775Z"
   },
   {
    "duration": 10,
    "start_time": "2021-09-22T04:56:59.204Z"
   },
   {
    "duration": 53,
    "start_time": "2021-09-22T04:56:59.216Z"
   },
   {
    "duration": 7,
    "start_time": "2021-09-22T04:56:59.272Z"
   },
   {
    "duration": 37,
    "start_time": "2021-09-22T04:56:59.281Z"
   },
   {
    "duration": 66,
    "start_time": "2021-09-22T04:56:59.320Z"
   },
   {
    "duration": 31,
    "start_time": "2021-09-22T04:56:59.389Z"
   },
   {
    "duration": 57,
    "start_time": "2021-09-22T04:56:59.422Z"
   },
   {
    "duration": 3,
    "start_time": "2021-09-22T04:57:58.857Z"
   },
   {
    "duration": 9,
    "start_time": "2021-09-22T05:03:14.783Z"
   },
   {
    "duration": 718,
    "start_time": "2022-01-27T21:01:44.653Z"
   },
   {
    "duration": 5,
    "start_time": "2022-01-27T21:01:45.373Z"
   },
   {
    "duration": 4,
    "start_time": "2022-01-27T21:01:45.381Z"
   },
   {
    "duration": 52,
    "start_time": "2022-01-27T21:01:45.387Z"
   },
   {
    "duration": 12,
    "start_time": "2022-01-27T21:01:45.442Z"
   },
   {
    "duration": 16,
    "start_time": "2022-01-27T21:01:45.456Z"
   },
   {
    "duration": 11,
    "start_time": "2022-01-27T21:01:45.473Z"
   },
   {
    "duration": 57,
    "start_time": "2022-01-27T21:01:45.486Z"
   },
   {
    "duration": 8,
    "start_time": "2022-01-27T21:01:45.545Z"
   },
   {
    "duration": 14,
    "start_time": "2022-01-27T21:01:45.555Z"
   },
   {
    "duration": 37,
    "start_time": "2022-01-27T21:01:45.571Z"
   },
   {
    "duration": 28,
    "start_time": "2022-01-27T21:01:45.610Z"
   },
   {
    "duration": 5,
    "start_time": "2022-01-27T21:01:45.640Z"
   },
   {
    "duration": 5,
    "start_time": "2022-01-27T21:01:45.647Z"
   },
   {
    "duration": 25,
    "start_time": "2022-01-27T21:01:45.654Z"
   },
   {
    "duration": 7,
    "start_time": "2022-01-27T21:01:45.681Z"
   },
   {
    "duration": 272,
    "start_time": "2022-01-27T21:01:45.708Z"
   },
   {
    "duration": 11,
    "start_time": "2022-01-27T21:01:45.982Z"
   },
   {
    "duration": 55,
    "start_time": "2022-01-27T21:01:46.008Z"
   },
   {
    "duration": 3,
    "start_time": "2022-01-27T21:01:46.065Z"
   },
   {
    "duration": 72,
    "start_time": "2022-01-27T21:01:46.070Z"
   },
   {
    "duration": 13,
    "start_time": "2022-01-27T21:01:46.144Z"
   },
   {
    "duration": 3,
    "start_time": "2022-01-27T21:01:46.159Z"
   },
   {
    "duration": 25,
    "start_time": "2022-01-27T21:01:46.164Z"
   },
   {
    "duration": 22,
    "start_time": "2022-01-27T21:01:46.191Z"
   },
   {
    "duration": 20,
    "start_time": "2022-01-27T21:01:46.215Z"
   },
   {
    "duration": 2,
    "start_time": "2022-01-27T21:01:46.240Z"
   },
   {
    "duration": 13,
    "start_time": "2022-01-27T21:01:46.245Z"
   },
   {
    "duration": 47,
    "start_time": "2022-01-27T21:01:46.261Z"
   },
   {
    "duration": 10,
    "start_time": "2022-01-27T21:01:46.311Z"
   },
   {
    "duration": 23,
    "start_time": "2022-01-27T21:01:46.322Z"
   },
   {
    "duration": 13,
    "start_time": "2022-01-27T21:01:46.347Z"
   },
   {
    "duration": 5,
    "start_time": "2022-01-27T21:01:46.362Z"
   },
   {
    "duration": 19,
    "start_time": "2022-01-27T21:01:46.369Z"
   },
   {
    "duration": 4069,
    "start_time": "2022-01-27T21:01:46.408Z"
   },
   {
    "duration": 38,
    "start_time": "2022-01-27T21:01:50.480Z"
   },
   {
    "duration": 23,
    "start_time": "2022-01-27T21:01:50.520Z"
   },
   {
    "duration": 2,
    "start_time": "2022-01-27T21:01:50.545Z"
   },
   {
    "duration": 12,
    "start_time": "2022-01-27T21:01:50.549Z"
   },
   {
    "duration": 19,
    "start_time": "2022-01-27T21:01:50.563Z"
   },
   {
    "duration": 2,
    "start_time": "2022-01-27T21:01:50.584Z"
   },
   {
    "duration": 5,
    "start_time": "2022-01-27T21:01:50.608Z"
   },
   {
    "duration": 7,
    "start_time": "2022-01-27T21:01:50.615Z"
   },
   {
    "duration": 267,
    "start_time": "2022-01-27T21:01:50.624Z"
   },
   {
    "duration": 15,
    "start_time": "2022-01-27T21:01:50.893Z"
   },
   {
    "duration": 29,
    "start_time": "2022-01-27T21:01:50.910Z"
   },
   {
    "duration": 8,
    "start_time": "2022-01-27T21:01:50.942Z"
   },
   {
    "duration": 17,
    "start_time": "2022-01-27T21:01:50.952Z"
   },
   {
    "duration": 56,
    "start_time": "2022-01-27T21:01:50.971Z"
   },
   {
    "duration": 30,
    "start_time": "2022-01-27T21:01:51.029Z"
   },
   {
    "duration": 23,
    "start_time": "2022-01-27T21:01:51.061Z"
   },
   {
    "duration": 43,
    "start_time": "2022-01-27T21:01:51.086Z"
   },
   {
    "duration": 10,
    "start_time": "2022-01-27T21:04:51.933Z"
   },
   {
    "duration": 732,
    "start_time": "2022-01-27T21:05:54.124Z"
   },
   {
    "duration": 4,
    "start_time": "2022-01-27T21:05:54.859Z"
   },
   {
    "duration": 61,
    "start_time": "2022-01-27T21:05:54.869Z"
   },
   {
    "duration": 14,
    "start_time": "2022-01-27T21:05:54.932Z"
   },
   {
    "duration": 8,
    "start_time": "2022-01-27T21:05:54.948Z"
   },
   {
    "duration": 9,
    "start_time": "2022-01-27T21:05:54.958Z"
   },
   {
    "duration": 62,
    "start_time": "2022-01-27T21:05:54.970Z"
   },
   {
    "duration": 8,
    "start_time": "2022-01-27T21:05:55.036Z"
   },
   {
    "duration": 24,
    "start_time": "2022-01-27T21:05:55.046Z"
   },
   {
    "duration": 10,
    "start_time": "2022-01-27T21:05:55.071Z"
   },
   {
    "duration": 44,
    "start_time": "2022-01-27T21:05:55.083Z"
   },
   {
    "duration": 6,
    "start_time": "2022-01-27T21:05:55.129Z"
   },
   {
    "duration": 6,
    "start_time": "2022-01-27T21:05:55.137Z"
   },
   {
    "duration": 17,
    "start_time": "2022-01-27T21:05:55.145Z"
   },
   {
    "duration": 7,
    "start_time": "2022-01-27T21:05:55.164Z"
   },
   {
    "duration": 309,
    "start_time": "2022-01-27T21:05:55.173Z"
   },
   {
    "duration": 10,
    "start_time": "2022-01-27T21:05:55.484Z"
   },
   {
    "duration": 49,
    "start_time": "2022-01-27T21:05:55.506Z"
   },
   {
    "duration": 3,
    "start_time": "2022-01-27T21:05:55.557Z"
   },
   {
    "duration": 23,
    "start_time": "2022-01-27T21:05:55.562Z"
   },
   {
    "duration": 30,
    "start_time": "2022-01-27T21:05:55.587Z"
   },
   {
    "duration": 2,
    "start_time": "2022-01-27T21:05:55.622Z"
   },
   {
    "duration": 23,
    "start_time": "2022-01-27T21:05:55.626Z"
   },
   {
    "duration": 21,
    "start_time": "2022-01-27T21:05:55.651Z"
   },
   {
    "duration": 47,
    "start_time": "2022-01-27T21:05:55.674Z"
   },
   {
    "duration": 3,
    "start_time": "2022-01-27T21:05:55.723Z"
   },
   {
    "duration": 11,
    "start_time": "2022-01-27T21:05:55.729Z"
   },
   {
    "duration": 20,
    "start_time": "2022-01-27T21:05:55.742Z"
   },
   {
    "duration": 10,
    "start_time": "2022-01-27T21:05:55.765Z"
   },
   {
    "duration": 51,
    "start_time": "2022-01-27T21:05:55.777Z"
   },
   {
    "duration": 11,
    "start_time": "2022-01-27T21:05:55.830Z"
   },
   {
    "duration": 6,
    "start_time": "2022-01-27T21:05:55.844Z"
   },
   {
    "duration": 16,
    "start_time": "2022-01-27T21:05:55.852Z"
   },
   {
    "duration": 3708,
    "start_time": "2022-01-27T21:05:55.870Z"
   },
   {
    "duration": 43,
    "start_time": "2022-01-27T21:05:59.581Z"
   },
   {
    "duration": 23,
    "start_time": "2022-01-27T21:05:59.626Z"
   },
   {
    "duration": 5,
    "start_time": "2022-01-27T21:05:59.651Z"
   },
   {
    "duration": 10,
    "start_time": "2022-01-27T21:05:59.658Z"
   },
   {
    "duration": 18,
    "start_time": "2022-01-27T21:05:59.670Z"
   },
   {
    "duration": 17,
    "start_time": "2022-01-27T21:05:59.690Z"
   },
   {
    "duration": 11,
    "start_time": "2022-01-27T21:05:59.709Z"
   },
   {
    "duration": 4,
    "start_time": "2022-01-27T21:05:59.722Z"
   },
   {
    "duration": 280,
    "start_time": "2022-01-27T21:05:59.728Z"
   },
   {
    "duration": 9,
    "start_time": "2022-01-27T21:06:00.011Z"
   },
   {
    "duration": 37,
    "start_time": "2022-01-27T21:06:00.022Z"
   },
   {
    "duration": 8,
    "start_time": "2022-01-27T21:06:00.060Z"
   },
   {
    "duration": 39,
    "start_time": "2022-01-27T21:06:00.070Z"
   },
   {
    "duration": 33,
    "start_time": "2022-01-27T21:06:00.110Z"
   },
   {
    "duration": 28,
    "start_time": "2022-01-27T21:06:00.145Z"
   },
   {
    "duration": 42,
    "start_time": "2022-01-27T21:06:00.175Z"
   },
   {
    "duration": 25,
    "start_time": "2022-01-27T21:06:00.219Z"
   },
   {
    "duration": 56,
    "start_time": "2022-01-27T21:13:36.000Z"
   },
   {
    "duration": 44,
    "start_time": "2022-01-27T21:17:42.304Z"
   },
   {
    "duration": 15,
    "start_time": "2022-01-27T21:17:52.303Z"
   },
   {
    "duration": 800,
    "start_time": "2022-01-27T21:18:00.785Z"
   },
   {
    "duration": 5,
    "start_time": "2022-01-27T21:18:01.588Z"
   },
   {
    "duration": 67,
    "start_time": "2022-01-27T21:18:01.595Z"
   },
   {
    "duration": 24,
    "start_time": "2022-01-27T21:18:01.664Z"
   },
   {
    "duration": 37,
    "start_time": "2022-01-27T21:18:01.690Z"
   },
   {
    "duration": 35,
    "start_time": "2022-01-27T21:18:01.729Z"
   },
   {
    "duration": 33,
    "start_time": "2022-01-27T21:18:01.767Z"
   },
   {
    "duration": 11,
    "start_time": "2022-01-27T21:18:01.804Z"
   },
   {
    "duration": 26,
    "start_time": "2022-01-27T21:18:01.819Z"
   },
   {
    "duration": 22,
    "start_time": "2022-01-27T21:18:01.847Z"
   },
   {
    "duration": 28,
    "start_time": "2022-01-27T21:18:01.871Z"
   },
   {
    "duration": 12,
    "start_time": "2022-01-27T21:18:01.901Z"
   },
   {
    "duration": 31,
    "start_time": "2022-01-27T21:18:01.915Z"
   },
   {
    "duration": 14,
    "start_time": "2022-01-27T21:18:01.948Z"
   },
   {
    "duration": 326,
    "start_time": "2022-01-27T21:18:01.963Z"
   },
   {
    "duration": 21,
    "start_time": "2022-01-27T21:18:02.291Z"
   },
   {
    "duration": 65,
    "start_time": "2022-01-27T21:18:02.314Z"
   },
   {
    "duration": 27,
    "start_time": "2022-01-27T21:18:02.381Z"
   },
   {
    "duration": 49,
    "start_time": "2022-01-27T21:18:02.411Z"
   },
   {
    "duration": 14,
    "start_time": "2022-01-27T21:18:02.463Z"
   },
   {
    "duration": 38,
    "start_time": "2022-01-27T21:18:02.479Z"
   },
   {
    "duration": 30,
    "start_time": "2022-01-27T21:18:02.520Z"
   },
   {
    "duration": 22,
    "start_time": "2022-01-27T21:18:02.554Z"
   },
   {
    "duration": 36,
    "start_time": "2022-01-27T21:18:02.578Z"
   },
   {
    "duration": 3,
    "start_time": "2022-01-27T21:18:02.617Z"
   },
   {
    "duration": 25,
    "start_time": "2022-01-27T21:18:02.622Z"
   },
   {
    "duration": 27,
    "start_time": "2022-01-27T21:18:02.649Z"
   },
   {
    "duration": 18,
    "start_time": "2022-01-27T21:18:02.678Z"
   },
   {
    "duration": 33,
    "start_time": "2022-01-27T21:18:02.698Z"
   },
   {
    "duration": 30,
    "start_time": "2022-01-27T21:18:02.733Z"
   },
   {
    "duration": 8,
    "start_time": "2022-01-27T21:18:02.765Z"
   },
   {
    "duration": 21,
    "start_time": "2022-01-27T21:18:02.775Z"
   },
   {
    "duration": 4256,
    "start_time": "2022-01-27T21:18:02.798Z"
   },
   {
    "duration": 27,
    "start_time": "2022-01-27T21:18:07.056Z"
   },
   {
    "duration": 52,
    "start_time": "2022-01-27T21:18:07.086Z"
   },
   {
    "duration": 4,
    "start_time": "2022-01-27T21:18:07.140Z"
   },
   {
    "duration": 6,
    "start_time": "2022-01-27T21:18:07.145Z"
   },
   {
    "duration": 18,
    "start_time": "2022-01-27T21:18:07.153Z"
   },
   {
    "duration": 3,
    "start_time": "2022-01-27T21:18:07.173Z"
   },
   {
    "duration": 30,
    "start_time": "2022-01-27T21:18:07.177Z"
   },
   {
    "duration": 7,
    "start_time": "2022-01-27T21:18:07.210Z"
   },
   {
    "duration": 273,
    "start_time": "2022-01-27T21:18:07.220Z"
   },
   {
    "duration": 8,
    "start_time": "2022-01-27T21:18:07.494Z"
   },
   {
    "duration": 36,
    "start_time": "2022-01-27T21:18:07.508Z"
   },
   {
    "duration": 6,
    "start_time": "2022-01-27T21:18:07.546Z"
   },
   {
    "duration": 13,
    "start_time": "2022-01-27T21:18:07.554Z"
   },
   {
    "duration": 62,
    "start_time": "2022-01-27T21:18:07.569Z"
   },
   {
    "duration": 66,
    "start_time": "2022-01-27T21:18:07.634Z"
   },
   {
    "duration": 84,
    "start_time": "2022-01-27T21:18:07.702Z"
   },
   {
    "duration": 34,
    "start_time": "2022-01-27T21:18:07.788Z"
   },
   {
    "duration": 5,
    "start_time": "2022-01-27T21:21:01.223Z"
   },
   {
    "duration": 15,
    "start_time": "2022-01-27T21:21:02.441Z"
   },
   {
    "duration": 693,
    "start_time": "2022-01-27T21:23:08.917Z"
   },
   {
    "duration": 4,
    "start_time": "2022-01-27T21:23:09.613Z"
   },
   {
    "duration": 36,
    "start_time": "2022-01-27T21:23:09.620Z"
   },
   {
    "duration": 12,
    "start_time": "2022-01-27T21:23:09.658Z"
   },
   {
    "duration": 38,
    "start_time": "2022-01-27T21:23:09.672Z"
   },
   {
    "duration": 10,
    "start_time": "2022-01-27T21:23:09.712Z"
   },
   {
    "duration": 32,
    "start_time": "2022-01-27T21:23:09.724Z"
   },
   {
    "duration": 7,
    "start_time": "2022-01-27T21:23:09.759Z"
   },
   {
    "duration": 39,
    "start_time": "2022-01-27T21:23:09.768Z"
   },
   {
    "duration": 9,
    "start_time": "2022-01-27T21:23:09.809Z"
   },
   {
    "duration": 26,
    "start_time": "2022-01-27T21:23:09.819Z"
   },
   {
    "duration": 6,
    "start_time": "2022-01-27T21:23:09.846Z"
   },
   {
    "duration": 13,
    "start_time": "2022-01-27T21:23:09.854Z"
   },
   {
    "duration": 38,
    "start_time": "2022-01-27T21:23:09.869Z"
   },
   {
    "duration": 260,
    "start_time": "2022-01-27T21:23:09.909Z"
   },
   {
    "duration": 10,
    "start_time": "2022-01-27T21:23:10.171Z"
   },
   {
    "duration": 66,
    "start_time": "2022-01-27T21:23:10.183Z"
   },
   {
    "duration": 15,
    "start_time": "2022-01-27T21:23:10.251Z"
   },
   {
    "duration": 4,
    "start_time": "2022-01-27T21:23:10.268Z"
   },
   {
    "duration": 38,
    "start_time": "2022-01-27T21:23:10.274Z"
   },
   {
    "duration": 17,
    "start_time": "2022-01-27T21:23:10.314Z"
   },
   {
    "duration": 18,
    "start_time": "2022-01-27T21:23:10.333Z"
   },
   {
    "duration": 21,
    "start_time": "2022-01-27T21:23:10.355Z"
   },
   {
    "duration": 47,
    "start_time": "2022-01-27T21:23:10.378Z"
   },
   {
    "duration": 3,
    "start_time": "2022-01-27T21:23:10.426Z"
   },
   {
    "duration": 21,
    "start_time": "2022-01-27T21:23:10.430Z"
   },
   {
    "duration": 22,
    "start_time": "2022-01-27T21:23:10.453Z"
   },
   {
    "duration": 14,
    "start_time": "2022-01-27T21:23:10.476Z"
   },
   {
    "duration": 35,
    "start_time": "2022-01-27T21:23:10.492Z"
   },
   {
    "duration": 9,
    "start_time": "2022-01-27T21:23:10.529Z"
   },
   {
    "duration": 6,
    "start_time": "2022-01-27T21:23:10.539Z"
   },
   {
    "duration": 16,
    "start_time": "2022-01-27T21:23:10.546Z"
   },
   {
    "duration": 3991,
    "start_time": "2022-01-27T21:23:10.565Z"
   },
   {
    "duration": 25,
    "start_time": "2022-01-27T21:23:14.558Z"
   },
   {
    "duration": 42,
    "start_time": "2022-01-27T21:23:14.585Z"
   },
   {
    "duration": 2,
    "start_time": "2022-01-27T21:23:14.629Z"
   },
   {
    "duration": 7,
    "start_time": "2022-01-27T21:23:14.633Z"
   },
   {
    "duration": 14,
    "start_time": "2022-01-27T21:23:14.641Z"
   },
   {
    "duration": 2,
    "start_time": "2022-01-27T21:23:14.657Z"
   },
   {
    "duration": 10,
    "start_time": "2022-01-27T21:23:14.661Z"
   },
   {
    "duration": 5,
    "start_time": "2022-01-27T21:23:14.673Z"
   },
   {
    "duration": 265,
    "start_time": "2022-01-27T21:23:14.708Z"
   },
   {
    "duration": 7,
    "start_time": "2022-01-27T21:23:14.975Z"
   },
   {
    "duration": 43,
    "start_time": "2022-01-27T21:23:14.984Z"
   },
   {
    "duration": 8,
    "start_time": "2022-01-27T21:23:15.030Z"
   },
   {
    "duration": 10,
    "start_time": "2022-01-27T21:23:15.040Z"
   },
   {
    "duration": 58,
    "start_time": "2022-01-27T21:23:15.052Z"
   },
   {
    "duration": 31,
    "start_time": "2022-01-27T21:23:15.113Z"
   },
   {
    "duration": 26,
    "start_time": "2022-01-27T21:23:15.146Z"
   },
   {
    "duration": 52,
    "start_time": "2022-01-27T21:23:15.174Z"
   },
   {
    "duration": 635,
    "start_time": "2022-01-27T21:23:48.306Z"
   },
   {
    "duration": 87,
    "start_time": "2022-01-27T21:23:48.946Z"
   },
   {
    "duration": 3,
    "start_time": "2022-01-27T21:23:49.035Z"
   },
   {
    "duration": 36,
    "start_time": "2022-01-27T21:23:49.040Z"
   },
   {
    "duration": 30,
    "start_time": "2022-01-27T21:23:49.078Z"
   },
   {
    "duration": 7,
    "start_time": "2022-01-27T21:23:49.110Z"
   },
   {
    "duration": 10,
    "start_time": "2022-01-27T21:23:49.120Z"
   },
   {
    "duration": 30,
    "start_time": "2022-01-27T21:23:49.132Z"
   },
   {
    "duration": 7,
    "start_time": "2022-01-27T21:23:49.164Z"
   },
   {
    "duration": 39,
    "start_time": "2022-01-27T21:23:49.173Z"
   },
   {
    "duration": 9,
    "start_time": "2022-01-27T21:23:49.214Z"
   },
   {
    "duration": 27,
    "start_time": "2022-01-27T21:23:49.226Z"
   },
   {
    "duration": 8,
    "start_time": "2022-01-27T21:23:49.255Z"
   },
   {
    "duration": 52,
    "start_time": "2022-01-27T21:23:49.265Z"
   },
   {
    "duration": 8,
    "start_time": "2022-01-27T21:23:49.320Z"
   },
   {
    "duration": 266,
    "start_time": "2022-01-27T21:23:49.330Z"
   },
   {
    "duration": 14,
    "start_time": "2022-01-27T21:23:49.598Z"
   },
   {
    "duration": 50,
    "start_time": "2022-01-27T21:23:49.614Z"
   },
   {
    "duration": 15,
    "start_time": "2022-01-27T21:23:49.666Z"
   },
   {
    "duration": 25,
    "start_time": "2022-01-27T21:23:49.683Z"
   },
   {
    "duration": 15,
    "start_time": "2022-01-27T21:23:49.711Z"
   },
   {
    "duration": 14,
    "start_time": "2022-01-27T21:23:49.730Z"
   },
   {
    "duration": 18,
    "start_time": "2022-01-27T21:23:49.746Z"
   },
   {
    "duration": 57,
    "start_time": "2022-01-27T21:23:49.766Z"
   },
   {
    "duration": 18,
    "start_time": "2022-01-27T21:23:49.825Z"
   },
   {
    "duration": 2,
    "start_time": "2022-01-27T21:23:49.846Z"
   },
   {
    "duration": 11,
    "start_time": "2022-01-27T21:23:49.849Z"
   },
   {
    "duration": 21,
    "start_time": "2022-01-27T21:23:49.862Z"
   },
   {
    "duration": 31,
    "start_time": "2022-01-27T21:23:49.886Z"
   },
   {
    "duration": 26,
    "start_time": "2022-01-27T21:23:49.919Z"
   },
   {
    "duration": 9,
    "start_time": "2022-01-27T21:23:49.947Z"
   },
   {
    "duration": 5,
    "start_time": "2022-01-27T21:23:49.958Z"
   },
   {
    "duration": 16,
    "start_time": "2022-01-27T21:23:49.965Z"
   },
   {
    "duration": 4391,
    "start_time": "2022-01-27T21:23:49.983Z"
   },
   {
    "duration": 39,
    "start_time": "2022-01-27T21:23:54.377Z"
   },
   {
    "duration": 25,
    "start_time": "2022-01-27T21:23:54.418Z"
   },
   {
    "duration": 2,
    "start_time": "2022-01-27T21:23:54.445Z"
   },
   {
    "duration": 11,
    "start_time": "2022-01-27T21:23:54.449Z"
   },
   {
    "duration": 13,
    "start_time": "2022-01-27T21:23:54.462Z"
   },
   {
    "duration": 30,
    "start_time": "2022-01-27T21:23:54.477Z"
   },
   {
    "duration": 8,
    "start_time": "2022-01-27T21:23:54.510Z"
   },
   {
    "duration": 5,
    "start_time": "2022-01-27T21:23:54.520Z"
   },
   {
    "duration": 338,
    "start_time": "2022-01-27T21:23:54.527Z"
   },
   {
    "duration": 9,
    "start_time": "2022-01-27T21:23:54.868Z"
   },
   {
    "duration": 46,
    "start_time": "2022-01-27T21:23:54.880Z"
   },
   {
    "duration": 12,
    "start_time": "2022-01-27T21:23:54.928Z"
   },
   {
    "duration": 17,
    "start_time": "2022-01-27T21:23:54.942Z"
   },
   {
    "duration": 53,
    "start_time": "2022-01-27T21:23:54.961Z"
   },
   {
    "duration": 33,
    "start_time": "2022-01-27T21:23:55.016Z"
   },
   {
    "duration": 27,
    "start_time": "2022-01-27T21:23:55.051Z"
   },
   {
    "duration": 33,
    "start_time": "2022-01-27T21:23:55.108Z"
   },
   {
    "duration": 7,
    "start_time": "2022-01-27T21:26:31.344Z"
   },
   {
    "duration": 14,
    "start_time": "2022-01-27T21:26:37.146Z"
   },
   {
    "duration": 22,
    "start_time": "2022-01-27T21:32:31.958Z"
   },
   {
    "duration": 77,
    "start_time": "2022-01-27T21:32:55.307Z"
   },
   {
    "duration": 15,
    "start_time": "2022-01-27T21:32:59.389Z"
   },
   {
    "duration": 17,
    "start_time": "2022-01-27T21:36:43.024Z"
   },
   {
    "duration": 4,
    "start_time": "2022-01-27T21:44:15.257Z"
   },
   {
    "duration": 14,
    "start_time": "2022-01-27T21:44:16.775Z"
   },
   {
    "duration": 628,
    "start_time": "2022-01-27T21:44:44.945Z"
   },
   {
    "duration": 92,
    "start_time": "2022-01-27T21:44:45.575Z"
   },
   {
    "duration": 4,
    "start_time": "2022-01-27T21:44:45.669Z"
   },
   {
    "duration": 50,
    "start_time": "2022-01-27T21:44:45.676Z"
   },
   {
    "duration": 12,
    "start_time": "2022-01-27T21:44:45.728Z"
   },
   {
    "duration": 8,
    "start_time": "2022-01-27T21:44:45.742Z"
   },
   {
    "duration": 15,
    "start_time": "2022-01-27T21:44:45.753Z"
   },
   {
    "duration": 63,
    "start_time": "2022-01-27T21:44:45.770Z"
   },
   {
    "duration": 9,
    "start_time": "2022-01-27T21:44:45.836Z"
   },
   {
    "duration": 14,
    "start_time": "2022-01-27T21:44:45.848Z"
   },
   {
    "duration": 13,
    "start_time": "2022-01-27T21:44:45.864Z"
   },
   {
    "duration": 49,
    "start_time": "2022-01-27T21:44:45.879Z"
   },
   {
    "duration": 7,
    "start_time": "2022-01-27T21:44:45.930Z"
   },
   {
    "duration": 22,
    "start_time": "2022-01-27T21:44:45.939Z"
   },
   {
    "duration": 8,
    "start_time": "2022-01-27T21:44:45.963Z"
   },
   {
    "duration": 367,
    "start_time": "2022-01-27T21:44:45.973Z"
   },
   {
    "duration": 12,
    "start_time": "2022-01-27T21:44:46.343Z"
   },
   {
    "duration": 83,
    "start_time": "2022-01-27T21:44:46.357Z"
   },
   {
    "duration": 15,
    "start_time": "2022-01-27T21:44:46.442Z"
   },
   {
    "duration": 3,
    "start_time": "2022-01-27T21:44:46.460Z"
   },
   {
    "duration": 20,
    "start_time": "2022-01-27T21:44:46.465Z"
   },
   {
    "duration": 31,
    "start_time": "2022-01-27T21:44:46.487Z"
   },
   {
    "duration": 20,
    "start_time": "2022-01-27T21:44:46.520Z"
   },
   {
    "duration": 21,
    "start_time": "2022-01-27T21:44:46.542Z"
   },
   {
    "duration": 9,
    "start_time": "2022-01-27T21:44:46.565Z"
   },
   {
    "duration": 49,
    "start_time": "2022-01-27T21:44:46.576Z"
   },
   {
    "duration": 9,
    "start_time": "2022-01-27T21:44:46.630Z"
   },
   {
    "duration": 24,
    "start_time": "2022-01-27T21:44:46.642Z"
   },
   {
    "duration": 15,
    "start_time": "2022-01-27T21:44:46.667Z"
   },
   {
    "duration": 30,
    "start_time": "2022-01-27T21:44:46.684Z"
   },
   {
    "duration": 9,
    "start_time": "2022-01-27T21:44:46.716Z"
   },
   {
    "duration": 4159,
    "start_time": "2022-01-27T21:44:46.727Z"
   },
   {
    "duration": 34,
    "start_time": "2022-01-27T21:44:50.888Z"
   },
   {
    "duration": 14,
    "start_time": "2022-01-27T21:44:50.924Z"
   },
   {
    "duration": 19,
    "start_time": "2022-01-27T21:44:50.940Z"
   },
   {
    "duration": 5,
    "start_time": "2022-01-27T21:44:50.962Z"
   },
   {
    "duration": 50,
    "start_time": "2022-01-27T21:44:50.969Z"
   },
   {
    "duration": 273,
    "start_time": "2022-01-27T21:44:51.021Z"
   },
   {
    "duration": 15,
    "start_time": "2022-01-27T21:44:51.296Z"
   },
   {
    "duration": 32,
    "start_time": "2022-01-27T21:44:51.314Z"
   },
   {
    "duration": 7,
    "start_time": "2022-01-27T21:44:51.348Z"
   },
   {
    "duration": 13,
    "start_time": "2022-01-27T21:44:51.357Z"
   },
   {
    "duration": 56,
    "start_time": "2022-01-27T21:44:51.372Z"
   },
   {
    "duration": 32,
    "start_time": "2022-01-27T21:44:51.430Z"
   },
   {
    "duration": 58,
    "start_time": "2022-01-27T21:44:51.464Z"
   },
   {
    "duration": 27,
    "start_time": "2022-01-27T21:44:51.524Z"
   },
   {
    "duration": 4,
    "start_time": "2022-01-27T21:47:37.925Z"
   },
   {
    "duration": 14,
    "start_time": "2022-01-27T21:47:39.370Z"
   },
   {
    "duration": 690,
    "start_time": "2022-01-27T21:47:55.519Z"
   },
   {
    "duration": 92,
    "start_time": "2022-01-27T21:47:56.212Z"
   },
   {
    "duration": 5,
    "start_time": "2022-01-27T21:47:56.307Z"
   },
   {
    "duration": 38,
    "start_time": "2022-01-27T21:47:56.315Z"
   },
   {
    "duration": 10,
    "start_time": "2022-01-27T21:47:56.355Z"
   },
   {
    "duration": 9,
    "start_time": "2022-01-27T21:47:56.367Z"
   },
   {
    "duration": 9,
    "start_time": "2022-01-27T21:47:56.408Z"
   },
   {
    "duration": 34,
    "start_time": "2022-01-27T21:47:56.420Z"
   },
   {
    "duration": 7,
    "start_time": "2022-01-27T21:47:56.457Z"
   },
   {
    "duration": 20,
    "start_time": "2022-01-27T21:47:56.466Z"
   },
   {
    "duration": 27,
    "start_time": "2022-01-27T21:47:56.488Z"
   },
   {
    "duration": 26,
    "start_time": "2022-01-27T21:47:56.517Z"
   },
   {
    "duration": 6,
    "start_time": "2022-01-27T21:47:56.545Z"
   },
   {
    "duration": 14,
    "start_time": "2022-01-27T21:47:56.553Z"
   },
   {
    "duration": 41,
    "start_time": "2022-01-27T21:47:56.569Z"
   },
   {
    "duration": 280,
    "start_time": "2022-01-27T21:47:56.613Z"
   },
   {
    "duration": 16,
    "start_time": "2022-01-27T21:47:56.896Z"
   },
   {
    "duration": 51,
    "start_time": "2022-01-27T21:47:56.914Z"
   },
   {
    "duration": 40,
    "start_time": "2022-01-27T21:47:56.967Z"
   },
   {
    "duration": 6,
    "start_time": "2022-01-27T21:47:57.009Z"
   },
   {
    "duration": 23,
    "start_time": "2022-01-27T21:47:57.017Z"
   },
   {
    "duration": 22,
    "start_time": "2022-01-27T21:47:57.042Z"
   },
   {
    "duration": 53,
    "start_time": "2022-01-27T21:47:57.069Z"
   },
   {
    "duration": 22,
    "start_time": "2022-01-27T21:47:57.125Z"
   },
   {
    "duration": 8,
    "start_time": "2022-01-27T21:47:57.149Z"
   },
   {
    "duration": 21,
    "start_time": "2022-01-27T21:47:57.159Z"
   },
   {
    "duration": 33,
    "start_time": "2022-01-27T21:47:57.182Z"
   },
   {
    "duration": 22,
    "start_time": "2022-01-27T21:47:57.217Z"
   },
   {
    "duration": 11,
    "start_time": "2022-01-27T21:47:57.241Z"
   },
   {
    "duration": 12,
    "start_time": "2022-01-27T21:47:57.253Z"
   },
   {
    "duration": 4,
    "start_time": "2022-01-27T21:47:57.267Z"
   },
   {
    "duration": 4278,
    "start_time": "2022-01-27T21:47:57.273Z"
   },
   {
    "duration": 28,
    "start_time": "2022-01-27T21:48:01.554Z"
   },
   {
    "duration": 31,
    "start_time": "2022-01-27T21:48:01.584Z"
   },
   {
    "duration": 22,
    "start_time": "2022-01-27T21:48:01.616Z"
   },
   {
    "duration": 10,
    "start_time": "2022-01-27T21:48:01.640Z"
   },
   {
    "duration": 30,
    "start_time": "2022-01-27T21:48:01.652Z"
   },
   {
    "duration": 278,
    "start_time": "2022-01-27T21:48:01.684Z"
   },
   {
    "duration": 9,
    "start_time": "2022-01-27T21:48:01.964Z"
   },
   {
    "duration": 44,
    "start_time": "2022-01-27T21:48:01.975Z"
   },
   {
    "duration": 8,
    "start_time": "2022-01-27T21:48:02.021Z"
   },
   {
    "duration": 23,
    "start_time": "2022-01-27T21:48:02.031Z"
   },
   {
    "duration": 51,
    "start_time": "2022-01-27T21:48:02.057Z"
   },
   {
    "duration": 42,
    "start_time": "2022-01-27T21:48:02.110Z"
   },
   {
    "duration": 59,
    "start_time": "2022-01-27T21:48:02.155Z"
   },
   {
    "duration": 28,
    "start_time": "2022-01-27T21:48:02.216Z"
   },
   {
    "duration": 251,
    "start_time": "2022-01-27T21:54:34.488Z"
   },
   {
    "duration": 675,
    "start_time": "2022-01-27T21:57:07.180Z"
   },
   {
    "duration": 93,
    "start_time": "2022-01-27T21:57:07.857Z"
   },
   {
    "duration": 4,
    "start_time": "2022-01-27T21:57:07.952Z"
   },
   {
    "duration": 56,
    "start_time": "2022-01-27T21:57:07.958Z"
   },
   {
    "duration": 12,
    "start_time": "2022-01-27T21:57:08.016Z"
   },
   {
    "duration": 9,
    "start_time": "2022-01-27T21:57:08.031Z"
   },
   {
    "duration": 17,
    "start_time": "2022-01-27T21:57:08.042Z"
   },
   {
    "duration": 58,
    "start_time": "2022-01-27T21:57:08.062Z"
   },
   {
    "duration": 8,
    "start_time": "2022-01-27T21:57:08.122Z"
   },
   {
    "duration": 10,
    "start_time": "2022-01-27T21:57:08.132Z"
   },
   {
    "duration": 12,
    "start_time": "2022-01-27T21:57:08.144Z"
   },
   {
    "duration": 55,
    "start_time": "2022-01-27T21:57:08.157Z"
   },
   {
    "duration": 5,
    "start_time": "2022-01-27T21:57:08.214Z"
   },
   {
    "duration": 26,
    "start_time": "2022-01-27T21:57:08.221Z"
   },
   {
    "duration": 7,
    "start_time": "2022-01-27T21:57:08.249Z"
   },
   {
    "duration": 267,
    "start_time": "2022-01-27T21:57:08.257Z"
   },
   {
    "duration": 10,
    "start_time": "2022-01-27T21:57:08.526Z"
   },
   {
    "duration": 72,
    "start_time": "2022-01-27T21:57:08.537Z"
   },
   {
    "duration": 15,
    "start_time": "2022-01-27T21:57:08.611Z"
   },
   {
    "duration": 4,
    "start_time": "2022-01-27T21:57:08.628Z"
   },
   {
    "duration": 16,
    "start_time": "2022-01-27T21:57:08.634Z"
   },
   {
    "duration": 19,
    "start_time": "2022-01-27T21:57:08.652Z"
   },
   {
    "duration": 52,
    "start_time": "2022-01-27T21:57:08.675Z"
   },
   {
    "duration": 8,
    "start_time": "2022-01-27T21:57:08.730Z"
   },
   {
    "duration": 20,
    "start_time": "2022-01-27T21:57:08.740Z"
   },
   {
    "duration": 8,
    "start_time": "2022-01-27T21:57:08.763Z"
   },
   {
    "duration": 54,
    "start_time": "2022-01-27T21:57:08.773Z"
   },
   {
    "duration": 9,
    "start_time": "2022-01-27T21:57:08.829Z"
   },
   {
    "duration": 12,
    "start_time": "2022-01-27T21:57:08.840Z"
   },
   {
    "duration": 4,
    "start_time": "2022-01-27T21:57:08.853Z"
   },
   {
    "duration": 4007,
    "start_time": "2022-01-27T21:57:08.859Z"
   },
   {
    "duration": 27,
    "start_time": "2022-01-27T21:57:12.868Z"
   },
   {
    "duration": 23,
    "start_time": "2022-01-27T21:57:12.897Z"
   },
   {
    "duration": 17,
    "start_time": "2022-01-27T21:57:12.923Z"
   },
   {
    "duration": 6,
    "start_time": "2022-01-27T21:57:12.941Z"
   },
   {
    "duration": 17,
    "start_time": "2022-01-27T21:57:12.949Z"
   },
   {
    "duration": 369,
    "start_time": "2022-01-27T21:57:12.968Z"
   },
   {
    "duration": 10,
    "start_time": "2022-01-27T21:57:13.339Z"
   },
   {
    "duration": 64,
    "start_time": "2022-01-27T21:57:13.351Z"
   },
   {
    "duration": 7,
    "start_time": "2022-01-27T21:57:13.417Z"
   },
   {
    "duration": 10,
    "start_time": "2022-01-27T21:57:13.426Z"
   },
   {
    "duration": 81,
    "start_time": "2022-01-27T21:57:13.437Z"
   },
   {
    "duration": 30,
    "start_time": "2022-01-27T21:57:13.520Z"
   },
   {
    "duration": 26,
    "start_time": "2022-01-27T21:57:13.552Z"
   },
   {
    "duration": 43,
    "start_time": "2022-01-27T21:57:13.580Z"
   },
   {
    "duration": 72,
    "start_time": "2022-01-27T21:58:05.796Z"
   },
   {
    "duration": 591,
    "start_time": "2022-01-27T21:58:16.732Z"
   },
   {
    "duration": 80,
    "start_time": "2022-01-27T21:58:17.325Z"
   },
   {
    "duration": 4,
    "start_time": "2022-01-27T21:58:17.407Z"
   },
   {
    "duration": 35,
    "start_time": "2022-01-27T21:58:17.413Z"
   },
   {
    "duration": 10,
    "start_time": "2022-01-27T21:58:17.449Z"
   },
   {
    "duration": 7,
    "start_time": "2022-01-27T21:58:17.461Z"
   },
   {
    "duration": 38,
    "start_time": "2022-01-27T21:58:17.470Z"
   },
   {
    "duration": 30,
    "start_time": "2022-01-27T21:58:17.512Z"
   },
   {
    "duration": 7,
    "start_time": "2022-01-27T21:58:17.544Z"
   },
   {
    "duration": 9,
    "start_time": "2022-01-27T21:58:17.553Z"
   },
   {
    "duration": 10,
    "start_time": "2022-01-27T21:58:17.563Z"
   },
   {
    "duration": 56,
    "start_time": "2022-01-27T21:58:17.575Z"
   },
   {
    "duration": 6,
    "start_time": "2022-01-27T21:58:17.633Z"
   },
   {
    "duration": 14,
    "start_time": "2022-01-27T21:58:17.640Z"
   },
   {
    "duration": 9,
    "start_time": "2022-01-27T21:58:17.656Z"
   },
   {
    "duration": 284,
    "start_time": "2022-01-27T21:58:17.667Z"
   },
   {
    "duration": 9,
    "start_time": "2022-01-27T21:58:17.953Z"
   },
   {
    "duration": 64,
    "start_time": "2022-01-27T21:58:17.964Z"
   },
   {
    "duration": 15,
    "start_time": "2022-01-27T21:58:18.030Z"
   },
   {
    "duration": 3,
    "start_time": "2022-01-27T21:58:18.047Z"
   },
   {
    "duration": 19,
    "start_time": "2022-01-27T21:58:18.052Z"
   },
   {
    "duration": 43,
    "start_time": "2022-01-27T21:58:18.073Z"
   },
   {
    "duration": 21,
    "start_time": "2022-01-27T21:58:18.120Z"
   },
   {
    "duration": 8,
    "start_time": "2022-01-27T21:58:18.143Z"
   },
   {
    "duration": 20,
    "start_time": "2022-01-27T21:58:18.153Z"
   },
   {
    "duration": 37,
    "start_time": "2022-01-27T21:58:18.175Z"
   },
   {
    "duration": 21,
    "start_time": "2022-01-27T21:58:18.214Z"
   },
   {
    "duration": 8,
    "start_time": "2022-01-27T21:58:18.237Z"
   },
   {
    "duration": 13,
    "start_time": "2022-01-27T21:58:18.247Z"
   },
   {
    "duration": 8,
    "start_time": "2022-01-27T21:58:18.262Z"
   },
   {
    "duration": 3772,
    "start_time": "2022-01-27T21:58:18.272Z"
   },
   {
    "duration": 25,
    "start_time": "2022-01-27T21:58:22.045Z"
   },
   {
    "duration": 13,
    "start_time": "2022-01-27T21:58:22.072Z"
   },
   {
    "duration": 10,
    "start_time": "2022-01-27T21:58:22.108Z"
   },
   {
    "duration": 5,
    "start_time": "2022-01-27T21:58:22.120Z"
   },
   {
    "duration": 16,
    "start_time": "2022-01-27T21:58:22.127Z"
   },
   {
    "duration": 279,
    "start_time": "2022-01-27T21:58:22.145Z"
   },
   {
    "duration": 8,
    "start_time": "2022-01-27T21:58:22.427Z"
   },
   {
    "duration": 28,
    "start_time": "2022-01-27T21:58:22.436Z"
   },
   {
    "duration": 6,
    "start_time": "2022-01-27T21:58:22.466Z"
   },
   {
    "duration": 9,
    "start_time": "2022-01-27T21:58:22.473Z"
   },
   {
    "duration": 28,
    "start_time": "2022-01-27T21:58:22.508Z"
   },
   {
    "duration": 27,
    "start_time": "2022-01-27T21:58:22.538Z"
   },
   {
    "duration": 46,
    "start_time": "2022-01-27T21:58:22.567Z"
   },
   {
    "duration": 24,
    "start_time": "2022-01-27T21:58:22.614Z"
   },
   {
    "duration": 675,
    "start_time": "2022-01-27T22:08:17.595Z"
   },
   {
    "duration": 96,
    "start_time": "2022-01-27T22:08:18.273Z"
   },
   {
    "duration": 4,
    "start_time": "2022-01-27T22:08:18.374Z"
   },
   {
    "duration": 58,
    "start_time": "2022-01-27T22:08:18.380Z"
   },
   {
    "duration": 11,
    "start_time": "2022-01-27T22:08:18.440Z"
   },
   {
    "duration": 18,
    "start_time": "2022-01-27T22:08:18.454Z"
   },
   {
    "duration": 12,
    "start_time": "2022-01-27T22:08:18.476Z"
   },
   {
    "duration": 42,
    "start_time": "2022-01-27T22:08:18.509Z"
   },
   {
    "duration": 8,
    "start_time": "2022-01-27T22:08:18.553Z"
   },
   {
    "duration": 9,
    "start_time": "2022-01-27T22:08:18.563Z"
   },
   {
    "duration": 41,
    "start_time": "2022-01-27T22:08:18.574Z"
   },
   {
    "duration": 32,
    "start_time": "2022-01-27T22:08:18.617Z"
   },
   {
    "duration": 6,
    "start_time": "2022-01-27T22:08:18.651Z"
   },
   {
    "duration": 13,
    "start_time": "2022-01-27T22:08:18.659Z"
   },
   {
    "duration": 39,
    "start_time": "2022-01-27T22:08:18.674Z"
   },
   {
    "duration": 301,
    "start_time": "2022-01-27T22:08:18.714Z"
   },
   {
    "duration": 11,
    "start_time": "2022-01-27T22:08:19.017Z"
   },
   {
    "duration": 54,
    "start_time": "2022-01-27T22:08:19.030Z"
   },
   {
    "duration": 16,
    "start_time": "2022-01-27T22:08:19.107Z"
   },
   {
    "duration": 4,
    "start_time": "2022-01-27T22:08:19.125Z"
   },
   {
    "duration": 18,
    "start_time": "2022-01-27T22:08:19.131Z"
   },
   {
    "duration": 19,
    "start_time": "2022-01-27T22:08:19.153Z"
   },
   {
    "duration": 52,
    "start_time": "2022-01-27T22:08:19.175Z"
   },
   {
    "duration": 9,
    "start_time": "2022-01-27T22:08:19.229Z"
   },
   {
    "duration": 22,
    "start_time": "2022-01-27T22:08:19.240Z"
   },
   {
    "duration": 9,
    "start_time": "2022-01-27T22:08:19.265Z"
   },
   {
    "duration": 50,
    "start_time": "2022-01-27T22:08:19.275Z"
   },
   {
    "duration": 9,
    "start_time": "2022-01-27T22:08:19.327Z"
   },
   {
    "duration": 18,
    "start_time": "2022-01-27T22:08:19.337Z"
   },
   {
    "duration": 5,
    "start_time": "2022-01-27T22:08:19.357Z"
   },
   {
    "duration": 4273,
    "start_time": "2022-01-27T22:08:19.364Z"
   },
   {
    "duration": 28,
    "start_time": "2022-01-27T22:08:23.640Z"
   },
   {
    "duration": 38,
    "start_time": "2022-01-27T22:08:23.671Z"
   },
   {
    "duration": 12,
    "start_time": "2022-01-27T22:08:23.712Z"
   },
   {
    "duration": 6,
    "start_time": "2022-01-27T22:08:23.727Z"
   },
   {
    "duration": 18,
    "start_time": "2022-01-27T22:08:23.735Z"
   },
   {
    "duration": 331,
    "start_time": "2022-01-27T22:08:23.756Z"
   },
   {
    "duration": 19,
    "start_time": "2022-01-27T22:08:24.089Z"
   },
   {
    "duration": 29,
    "start_time": "2022-01-27T22:08:24.111Z"
   },
   {
    "duration": 9,
    "start_time": "2022-01-27T22:08:24.143Z"
   },
   {
    "duration": 9,
    "start_time": "2022-01-27T22:08:24.154Z"
   },
   {
    "duration": 72,
    "start_time": "2022-01-27T22:08:24.165Z"
   },
   {
    "duration": 32,
    "start_time": "2022-01-27T22:08:24.239Z"
   },
   {
    "duration": 47,
    "start_time": "2022-01-27T22:08:24.273Z"
   },
   {
    "duration": 27,
    "start_time": "2022-01-27T22:08:24.322Z"
   },
   {
    "duration": 278,
    "start_time": "2022-01-27T22:15:27.305Z"
   },
   {
    "duration": 613,
    "start_time": "2022-01-27T22:16:06.418Z"
   },
   {
    "duration": 80,
    "start_time": "2022-01-27T22:16:07.033Z"
   },
   {
    "duration": 4,
    "start_time": "2022-01-27T22:16:07.115Z"
   },
   {
    "duration": 37,
    "start_time": "2022-01-27T22:16:07.121Z"
   },
   {
    "duration": 11,
    "start_time": "2022-01-27T22:16:07.160Z"
   },
   {
    "duration": 7,
    "start_time": "2022-01-27T22:16:07.173Z"
   },
   {
    "duration": 32,
    "start_time": "2022-01-27T22:16:07.182Z"
   },
   {
    "duration": 33,
    "start_time": "2022-01-27T22:16:07.216Z"
   },
   {
    "duration": 7,
    "start_time": "2022-01-27T22:16:07.252Z"
   },
   {
    "duration": 8,
    "start_time": "2022-01-27T22:16:07.261Z"
   },
   {
    "duration": 44,
    "start_time": "2022-01-27T22:16:07.270Z"
   },
   {
    "duration": 27,
    "start_time": "2022-01-27T22:16:07.316Z"
   },
   {
    "duration": 6,
    "start_time": "2022-01-27T22:16:07.345Z"
   },
   {
    "duration": 13,
    "start_time": "2022-01-27T22:16:07.353Z"
   },
   {
    "duration": 6,
    "start_time": "2022-01-27T22:16:07.368Z"
   },
   {
    "duration": 264,
    "start_time": "2022-01-27T22:16:07.408Z"
   },
   {
    "duration": 9,
    "start_time": "2022-01-27T22:16:07.675Z"
   },
   {
    "duration": 65,
    "start_time": "2022-01-27T22:16:07.686Z"
   },
   {
    "duration": 17,
    "start_time": "2022-01-27T22:16:07.754Z"
   },
   {
    "duration": 5,
    "start_time": "2022-01-27T22:16:07.773Z"
   },
   {
    "duration": 40,
    "start_time": "2022-01-27T22:16:07.780Z"
   },
   {
    "duration": 19,
    "start_time": "2022-01-27T22:16:07.822Z"
   },
   {
    "duration": 22,
    "start_time": "2022-01-27T22:16:07.843Z"
   },
   {
    "duration": 8,
    "start_time": "2022-01-27T22:16:07.867Z"
   },
   {
    "duration": 48,
    "start_time": "2022-01-27T22:16:07.877Z"
   },
   {
    "duration": 8,
    "start_time": "2022-01-27T22:16:07.927Z"
   },
   {
    "duration": 20,
    "start_time": "2022-01-27T22:16:07.939Z"
   },
   {
    "duration": 8,
    "start_time": "2022-01-27T22:16:07.961Z"
   },
   {
    "duration": 43,
    "start_time": "2022-01-27T22:16:07.971Z"
   },
   {
    "duration": 4,
    "start_time": "2022-01-27T22:16:08.017Z"
   },
   {
    "duration": 4056,
    "start_time": "2022-01-27T22:16:08.023Z"
   },
   {
    "duration": 42,
    "start_time": "2022-01-27T22:16:12.081Z"
   },
   {
    "duration": 15,
    "start_time": "2022-01-27T22:16:12.125Z"
   },
   {
    "duration": 12,
    "start_time": "2022-01-27T22:16:12.142Z"
   },
   {
    "duration": 4,
    "start_time": "2022-01-27T22:16:12.156Z"
   },
   {
    "duration": 47,
    "start_time": "2022-01-27T22:16:12.162Z"
   },
   {
    "duration": 274,
    "start_time": "2022-01-27T22:16:12.211Z"
   },
   {
    "duration": 20,
    "start_time": "2022-01-27T22:16:12.487Z"
   },
   {
    "duration": 31,
    "start_time": "2022-01-27T22:16:12.509Z"
   },
   {
    "duration": 8,
    "start_time": "2022-01-27T22:16:12.542Z"
   },
   {
    "duration": 20,
    "start_time": "2022-01-27T22:16:12.552Z"
   },
   {
    "duration": 53,
    "start_time": "2022-01-27T22:16:12.573Z"
   },
   {
    "duration": 27,
    "start_time": "2022-01-27T22:16:12.628Z"
   },
   {
    "duration": 24,
    "start_time": "2022-01-27T22:16:12.657Z"
   },
   {
    "duration": 44,
    "start_time": "2022-01-27T22:16:12.683Z"
   },
   {
    "duration": 670,
    "start_time": "2022-01-27T22:18:30.880Z"
   },
   {
    "duration": 85,
    "start_time": "2022-01-27T22:18:31.553Z"
   },
   {
    "duration": 4,
    "start_time": "2022-01-27T22:18:31.640Z"
   },
   {
    "duration": 54,
    "start_time": "2022-01-27T22:18:31.646Z"
   },
   {
    "duration": 11,
    "start_time": "2022-01-27T22:18:31.702Z"
   },
   {
    "duration": 22,
    "start_time": "2022-01-27T22:18:31.714Z"
   },
   {
    "duration": 24,
    "start_time": "2022-01-27T22:18:31.737Z"
   },
   {
    "duration": 47,
    "start_time": "2022-01-27T22:18:31.764Z"
   },
   {
    "duration": 13,
    "start_time": "2022-01-27T22:18:31.814Z"
   },
   {
    "duration": 17,
    "start_time": "2022-01-27T22:18:31.830Z"
   },
   {
    "duration": 27,
    "start_time": "2022-01-27T22:18:31.849Z"
   },
   {
    "duration": 39,
    "start_time": "2022-01-27T22:18:31.878Z"
   },
   {
    "duration": 7,
    "start_time": "2022-01-27T22:18:31.919Z"
   },
   {
    "duration": 26,
    "start_time": "2022-01-27T22:18:31.927Z"
   },
   {
    "duration": 14,
    "start_time": "2022-01-27T22:18:31.955Z"
   },
   {
    "duration": 303,
    "start_time": "2022-01-27T22:18:31.971Z"
   },
   {
    "duration": 12,
    "start_time": "2022-01-27T22:18:32.276Z"
   },
   {
    "duration": 87,
    "start_time": "2022-01-27T22:18:32.290Z"
   },
   {
    "duration": 16,
    "start_time": "2022-01-27T22:18:32.380Z"
   },
   {
    "duration": 9,
    "start_time": "2022-01-27T22:18:32.399Z"
   },
   {
    "duration": 29,
    "start_time": "2022-01-27T22:18:32.410Z"
   },
   {
    "duration": 21,
    "start_time": "2022-01-27T22:18:32.442Z"
   },
   {
    "duration": 25,
    "start_time": "2022-01-27T22:18:32.468Z"
   },
   {
    "duration": 9,
    "start_time": "2022-01-27T22:18:32.508Z"
   },
   {
    "duration": 49,
    "start_time": "2022-01-27T22:18:32.520Z"
   },
   {
    "duration": 24,
    "start_time": "2022-01-27T22:18:32.572Z"
   },
   {
    "duration": 51,
    "start_time": "2022-01-27T22:18:32.598Z"
   },
   {
    "duration": 26,
    "start_time": "2022-01-27T22:18:32.651Z"
   },
   {
    "duration": 65,
    "start_time": "2022-01-27T22:18:32.679Z"
   },
   {
    "duration": 7,
    "start_time": "2022-01-27T22:18:32.746Z"
   },
   {
    "duration": 4052,
    "start_time": "2022-01-27T22:18:32.755Z"
   },
   {
    "duration": 26,
    "start_time": "2022-01-27T22:18:36.809Z"
   },
   {
    "duration": 13,
    "start_time": "2022-01-27T22:18:36.837Z"
   },
   {
    "duration": 14,
    "start_time": "2022-01-27T22:18:36.852Z"
   },
   {
    "duration": 4,
    "start_time": "2022-01-27T22:18:36.868Z"
   },
   {
    "duration": 45,
    "start_time": "2022-01-27T22:18:36.874Z"
   },
   {
    "duration": 282,
    "start_time": "2022-01-27T22:18:36.921Z"
   },
   {
    "duration": 9,
    "start_time": "2022-01-27T22:18:37.207Z"
   },
   {
    "duration": 28,
    "start_time": "2022-01-27T22:18:37.218Z"
   },
   {
    "duration": 6,
    "start_time": "2022-01-27T22:18:37.248Z"
   },
   {
    "duration": 8,
    "start_time": "2022-01-27T22:18:37.256Z"
   },
   {
    "duration": 71,
    "start_time": "2022-01-27T22:18:37.266Z"
   },
   {
    "duration": 29,
    "start_time": "2022-01-27T22:18:37.340Z"
   },
   {
    "duration": 37,
    "start_time": "2022-01-27T22:18:37.371Z"
   },
   {
    "duration": 31,
    "start_time": "2022-01-27T22:18:37.410Z"
   },
   {
    "duration": 14,
    "start_time": "2022-01-27T22:21:58.484Z"
   },
   {
    "duration": 21,
    "start_time": "2022-01-27T22:23:15.825Z"
   },
   {
    "duration": 642,
    "start_time": "2022-01-27T22:24:13.905Z"
   },
   {
    "duration": 81,
    "start_time": "2022-01-27T22:24:14.549Z"
   },
   {
    "duration": 4,
    "start_time": "2022-01-27T22:24:14.635Z"
   },
   {
    "duration": 53,
    "start_time": "2022-01-27T22:24:14.641Z"
   },
   {
    "duration": 20,
    "start_time": "2022-01-27T22:24:14.696Z"
   },
   {
    "duration": 9,
    "start_time": "2022-01-27T22:24:14.718Z"
   },
   {
    "duration": 14,
    "start_time": "2022-01-27T22:24:14.731Z"
   },
   {
    "duration": 63,
    "start_time": "2022-01-27T22:24:14.748Z"
   },
   {
    "duration": 8,
    "start_time": "2022-01-27T22:24:14.813Z"
   },
   {
    "duration": 19,
    "start_time": "2022-01-27T22:24:14.823Z"
   },
   {
    "duration": 12,
    "start_time": "2022-01-27T22:24:14.845Z"
   },
   {
    "duration": 28,
    "start_time": "2022-01-27T22:24:14.859Z"
   },
   {
    "duration": 24,
    "start_time": "2022-01-27T22:24:14.889Z"
   },
   {
    "duration": 17,
    "start_time": "2022-01-27T22:24:14.914Z"
   },
   {
    "duration": 7,
    "start_time": "2022-01-27T22:24:14.933Z"
   },
   {
    "duration": 287,
    "start_time": "2022-01-27T22:24:14.942Z"
   },
   {
    "duration": 10,
    "start_time": "2022-01-27T22:24:15.231Z"
   },
   {
    "duration": 66,
    "start_time": "2022-01-27T22:24:15.243Z"
   },
   {
    "duration": 15,
    "start_time": "2022-01-27T22:24:15.311Z"
   },
   {
    "duration": 4,
    "start_time": "2022-01-27T22:24:15.328Z"
   },
   {
    "duration": 17,
    "start_time": "2022-01-27T22:24:15.333Z"
   },
   {
    "duration": 19,
    "start_time": "2022-01-27T22:24:15.354Z"
   },
   {
    "duration": 22,
    "start_time": "2022-01-27T22:24:15.407Z"
   },
   {
    "duration": 8,
    "start_time": "2022-01-27T22:24:15.431Z"
   },
   {
    "duration": 23,
    "start_time": "2022-01-27T22:24:15.440Z"
   },
   {
    "duration": 13,
    "start_time": "2022-01-27T22:24:15.464Z"
   },
   {
    "duration": 46,
    "start_time": "2022-01-27T22:24:15.478Z"
   },
   {
    "duration": 11,
    "start_time": "2022-01-27T22:24:15.526Z"
   },
   {
    "duration": 15,
    "start_time": "2022-01-27T22:24:15.539Z"
   },
   {
    "duration": 4,
    "start_time": "2022-01-27T22:24:15.556Z"
   },
   {
    "duration": 4127,
    "start_time": "2022-01-27T22:24:15.562Z"
   },
   {
    "duration": 40,
    "start_time": "2022-01-27T22:24:19.692Z"
   },
   {
    "duration": 14,
    "start_time": "2022-01-27T22:24:19.735Z"
   },
   {
    "duration": 20,
    "start_time": "2022-01-27T22:24:19.751Z"
   },
   {
    "duration": 5,
    "start_time": "2022-01-27T22:24:19.773Z"
   },
   {
    "duration": 16,
    "start_time": "2022-01-27T22:24:19.808Z"
   },
   {
    "duration": 292,
    "start_time": "2022-01-27T22:24:19.826Z"
   },
   {
    "duration": 9,
    "start_time": "2022-01-27T22:24:20.120Z"
   },
   {
    "duration": 44,
    "start_time": "2022-01-27T22:24:20.131Z"
   },
   {
    "duration": 43,
    "start_time": "2022-01-27T22:24:20.177Z"
   },
   {
    "duration": 8,
    "start_time": "2022-01-27T22:24:20.221Z"
   },
   {
    "duration": 15,
    "start_time": "2022-01-27T22:24:20.231Z"
   },
   {
    "duration": 10,
    "start_time": "2022-01-27T22:24:20.248Z"
   },
   {
    "duration": 50,
    "start_time": "2022-01-27T22:24:20.260Z"
   },
   {
    "duration": 30,
    "start_time": "2022-01-27T22:24:20.312Z"
   },
   {
    "duration": 26,
    "start_time": "2022-01-27T22:24:20.344Z"
   },
   {
    "duration": 53,
    "start_time": "2022-01-27T22:24:20.372Z"
   },
   {
    "duration": 12,
    "start_time": "2022-01-27T22:25:20.731Z"
   },
   {
    "duration": 21,
    "start_time": "2022-01-27T22:25:45.147Z"
   },
   {
    "duration": 624,
    "start_time": "2022-01-27T22:25:53.962Z"
   },
   {
    "duration": 88,
    "start_time": "2022-01-27T22:25:54.589Z"
   },
   {
    "duration": 4,
    "start_time": "2022-01-27T22:25:54.679Z"
   },
   {
    "duration": 48,
    "start_time": "2022-01-27T22:25:54.685Z"
   },
   {
    "duration": 12,
    "start_time": "2022-01-27T22:25:54.735Z"
   },
   {
    "duration": 16,
    "start_time": "2022-01-27T22:25:54.749Z"
   },
   {
    "duration": 22,
    "start_time": "2022-01-27T22:25:54.768Z"
   },
   {
    "duration": 49,
    "start_time": "2022-01-27T22:25:54.794Z"
   },
   {
    "duration": 10,
    "start_time": "2022-01-27T22:25:54.846Z"
   },
   {
    "duration": 23,
    "start_time": "2022-01-27T22:25:54.858Z"
   },
   {
    "duration": 15,
    "start_time": "2022-01-27T22:25:54.883Z"
   },
   {
    "duration": 28,
    "start_time": "2022-01-27T22:25:54.908Z"
   },
   {
    "duration": 6,
    "start_time": "2022-01-27T22:25:54.938Z"
   },
   {
    "duration": 21,
    "start_time": "2022-01-27T22:25:54.946Z"
   },
   {
    "duration": 8,
    "start_time": "2022-01-27T22:25:54.969Z"
   },
   {
    "duration": 300,
    "start_time": "2022-01-27T22:25:54.979Z"
   },
   {
    "duration": 11,
    "start_time": "2022-01-27T22:25:55.281Z"
   },
   {
    "duration": 60,
    "start_time": "2022-01-27T22:25:55.307Z"
   },
   {
    "duration": 40,
    "start_time": "2022-01-27T22:25:55.369Z"
   },
   {
    "duration": 5,
    "start_time": "2022-01-27T22:25:55.412Z"
   },
   {
    "duration": 16,
    "start_time": "2022-01-27T22:25:55.419Z"
   },
   {
    "duration": 21,
    "start_time": "2022-01-27T22:25:55.437Z"
   },
   {
    "duration": 56,
    "start_time": "2022-01-27T22:25:55.463Z"
   },
   {
    "duration": 10,
    "start_time": "2022-01-27T22:25:55.522Z"
   },
   {
    "duration": 21,
    "start_time": "2022-01-27T22:25:55.535Z"
   },
   {
    "duration": 15,
    "start_time": "2022-01-27T22:25:55.558Z"
   },
   {
    "duration": 51,
    "start_time": "2022-01-27T22:25:55.574Z"
   },
   {
    "duration": 10,
    "start_time": "2022-01-27T22:25:55.627Z"
   },
   {
    "duration": 17,
    "start_time": "2022-01-27T22:25:55.639Z"
   },
   {
    "duration": 7,
    "start_time": "2022-01-27T22:25:55.658Z"
   },
   {
    "duration": 3900,
    "start_time": "2022-01-27T22:25:55.667Z"
   },
   {
    "duration": 46,
    "start_time": "2022-01-27T22:25:59.570Z"
   },
   {
    "duration": 16,
    "start_time": "2022-01-27T22:25:59.618Z"
   },
   {
    "duration": 12,
    "start_time": "2022-01-27T22:25:59.636Z"
   },
   {
    "duration": 6,
    "start_time": "2022-01-27T22:25:59.651Z"
   },
   {
    "duration": 51,
    "start_time": "2022-01-27T22:25:59.659Z"
   },
   {
    "duration": 296,
    "start_time": "2022-01-27T22:25:59.713Z"
   },
   {
    "duration": 10,
    "start_time": "2022-01-27T22:26:00.012Z"
   },
   {
    "duration": 32,
    "start_time": "2022-01-27T22:26:00.024Z"
   },
   {
    "duration": 53,
    "start_time": "2022-01-27T22:26:00.059Z"
   },
   {
    "duration": 7,
    "start_time": "2022-01-27T22:26:00.115Z"
   },
   {
    "duration": 16,
    "start_time": "2022-01-27T22:26:00.124Z"
   },
   {
    "duration": 13,
    "start_time": "2022-01-27T22:26:00.142Z"
   },
   {
    "duration": 51,
    "start_time": "2022-01-27T22:26:00.158Z"
   },
   {
    "duration": 30,
    "start_time": "2022-01-27T22:26:00.211Z"
   },
   {
    "duration": 26,
    "start_time": "2022-01-27T22:26:00.243Z"
   },
   {
    "duration": 51,
    "start_time": "2022-01-27T22:26:00.272Z"
   },
   {
    "duration": 8,
    "start_time": "2022-01-27T22:26:23.947Z"
   },
   {
    "duration": 12,
    "start_time": "2022-01-27T22:26:34.106Z"
   },
   {
    "duration": 627,
    "start_time": "2022-01-27T22:26:41.345Z"
   },
   {
    "duration": 89,
    "start_time": "2022-01-27T22:26:41.975Z"
   },
   {
    "duration": 6,
    "start_time": "2022-01-27T22:26:42.070Z"
   },
   {
    "duration": 58,
    "start_time": "2022-01-27T22:26:42.078Z"
   },
   {
    "duration": 12,
    "start_time": "2022-01-27T22:26:42.139Z"
   },
   {
    "duration": 10,
    "start_time": "2022-01-27T22:26:42.154Z"
   },
   {
    "duration": 41,
    "start_time": "2022-01-27T22:26:42.168Z"
   },
   {
    "duration": 34,
    "start_time": "2022-01-27T22:26:42.211Z"
   },
   {
    "duration": 8,
    "start_time": "2022-01-27T22:26:42.247Z"
   },
   {
    "duration": 9,
    "start_time": "2022-01-27T22:26:42.257Z"
   },
   {
    "duration": 44,
    "start_time": "2022-01-27T22:26:42.268Z"
   },
   {
    "duration": 30,
    "start_time": "2022-01-27T22:26:42.314Z"
   },
   {
    "duration": 7,
    "start_time": "2022-01-27T22:26:42.346Z"
   },
   {
    "duration": 14,
    "start_time": "2022-01-27T22:26:42.355Z"
   },
   {
    "duration": 41,
    "start_time": "2022-01-27T22:26:42.371Z"
   },
   {
    "duration": 278,
    "start_time": "2022-01-27T22:26:42.414Z"
   },
   {
    "duration": 20,
    "start_time": "2022-01-27T22:26:42.693Z"
   },
   {
    "duration": 51,
    "start_time": "2022-01-27T22:26:42.715Z"
   },
   {
    "duration": 41,
    "start_time": "2022-01-27T22:26:42.768Z"
   },
   {
    "duration": 5,
    "start_time": "2022-01-27T22:26:42.811Z"
   },
   {
    "duration": 17,
    "start_time": "2022-01-27T22:26:42.818Z"
   },
   {
    "duration": 19,
    "start_time": "2022-01-27T22:26:42.840Z"
   },
   {
    "duration": 46,
    "start_time": "2022-01-27T22:26:42.862Z"
   },
   {
    "duration": 9,
    "start_time": "2022-01-27T22:26:42.910Z"
   },
   {
    "duration": 23,
    "start_time": "2022-01-27T22:26:42.921Z"
   },
   {
    "duration": 20,
    "start_time": "2022-01-27T22:26:42.947Z"
   },
   {
    "duration": 41,
    "start_time": "2022-01-27T22:26:42.969Z"
   },
   {
    "duration": 9,
    "start_time": "2022-01-27T22:26:43.013Z"
   },
   {
    "duration": 46,
    "start_time": "2022-01-27T22:26:43.024Z"
   },
   {
    "duration": 17,
    "start_time": "2022-01-27T22:26:43.072Z"
   },
   {
    "duration": 4225,
    "start_time": "2022-01-27T22:26:43.091Z"
   },
   {
    "duration": 30,
    "start_time": "2022-01-27T22:26:47.319Z"
   },
   {
    "duration": 15,
    "start_time": "2022-01-27T22:26:47.352Z"
   },
   {
    "duration": 39,
    "start_time": "2022-01-27T22:26:47.370Z"
   },
   {
    "duration": 5,
    "start_time": "2022-01-27T22:26:47.412Z"
   },
   {
    "duration": 17,
    "start_time": "2022-01-27T22:26:47.420Z"
   },
   {
    "duration": 315,
    "start_time": "2022-01-27T22:26:47.440Z"
   },
   {
    "duration": 10,
    "start_time": "2022-01-27T22:26:47.758Z"
   },
   {
    "duration": 42,
    "start_time": "2022-01-27T22:26:47.770Z"
   },
   {
    "duration": 22,
    "start_time": "2022-01-27T22:26:47.815Z"
   },
   {
    "duration": 9,
    "start_time": "2022-01-27T22:26:47.839Z"
   },
   {
    "duration": 9,
    "start_time": "2022-01-27T22:26:47.850Z"
   },
   {
    "duration": 47,
    "start_time": "2022-01-27T22:26:47.862Z"
   },
   {
    "duration": 31,
    "start_time": "2022-01-27T22:26:47.911Z"
   },
   {
    "duration": 30,
    "start_time": "2022-01-27T22:26:47.945Z"
   },
   {
    "duration": 57,
    "start_time": "2022-01-27T22:26:47.977Z"
   },
   {
    "duration": 28,
    "start_time": "2022-01-27T22:26:48.037Z"
   },
   {
    "duration": 666,
    "start_time": "2022-01-27T22:30:01.901Z"
   },
   {
    "duration": 88,
    "start_time": "2022-01-27T22:30:02.570Z"
   },
   {
    "duration": 5,
    "start_time": "2022-01-27T22:30:02.661Z"
   },
   {
    "duration": 62,
    "start_time": "2022-01-27T22:30:02.668Z"
   },
   {
    "duration": 13,
    "start_time": "2022-01-27T22:30:02.732Z"
   },
   {
    "duration": 25,
    "start_time": "2022-01-27T22:30:02.747Z"
   },
   {
    "duration": 14,
    "start_time": "2022-01-27T22:30:02.775Z"
   },
   {
    "duration": 48,
    "start_time": "2022-01-27T22:30:02.791Z"
   },
   {
    "duration": 8,
    "start_time": "2022-01-27T22:30:02.842Z"
   },
   {
    "duration": 15,
    "start_time": "2022-01-27T22:30:02.852Z"
   },
   {
    "duration": 19,
    "start_time": "2022-01-27T22:30:02.870Z"
   },
   {
    "duration": 31,
    "start_time": "2022-01-27T22:30:02.909Z"
   },
   {
    "duration": 8,
    "start_time": "2022-01-27T22:30:02.943Z"
   },
   {
    "duration": 20,
    "start_time": "2022-01-27T22:30:02.953Z"
   },
   {
    "duration": 34,
    "start_time": "2022-01-27T22:30:02.976Z"
   },
   {
    "duration": 278,
    "start_time": "2022-01-27T22:30:03.012Z"
   },
   {
    "duration": 21,
    "start_time": "2022-01-27T22:30:03.292Z"
   },
   {
    "duration": 65,
    "start_time": "2022-01-27T22:30:03.315Z"
   },
   {
    "duration": 27,
    "start_time": "2022-01-27T22:30:03.382Z"
   },
   {
    "duration": 4,
    "start_time": "2022-01-27T22:30:03.411Z"
   },
   {
    "duration": 37,
    "start_time": "2022-01-27T22:30:03.417Z"
   },
   {
    "duration": 25,
    "start_time": "2022-01-27T22:30:03.456Z"
   },
   {
    "duration": 30,
    "start_time": "2022-01-27T22:30:03.486Z"
   },
   {
    "duration": 10,
    "start_time": "2022-01-27T22:30:03.518Z"
   },
   {
    "duration": 39,
    "start_time": "2022-01-27T22:30:03.530Z"
   },
   {
    "duration": 23,
    "start_time": "2022-01-27T22:30:03.571Z"
   },
   {
    "duration": 34,
    "start_time": "2022-01-27T22:30:03.596Z"
   },
   {
    "duration": 22,
    "start_time": "2022-01-27T22:30:03.632Z"
   },
   {
    "duration": 38,
    "start_time": "2022-01-27T22:30:03.656Z"
   },
   {
    "duration": 26,
    "start_time": "2022-01-27T22:30:03.696Z"
   },
   {
    "duration": 4169,
    "start_time": "2022-01-27T22:30:03.725Z"
   },
   {
    "duration": 28,
    "start_time": "2022-01-27T22:30:07.908Z"
   },
   {
    "duration": 21,
    "start_time": "2022-01-27T22:30:07.939Z"
   },
   {
    "duration": 15,
    "start_time": "2022-01-27T22:30:07.962Z"
   },
   {
    "duration": 5,
    "start_time": "2022-01-27T22:30:07.979Z"
   },
   {
    "duration": 18,
    "start_time": "2022-01-27T22:30:08.007Z"
   },
   {
    "duration": 291,
    "start_time": "2022-01-27T22:30:08.027Z"
   },
   {
    "duration": 9,
    "start_time": "2022-01-27T22:30:08.320Z"
   },
   {
    "duration": 33,
    "start_time": "2022-01-27T22:30:08.332Z"
   },
   {
    "duration": 50,
    "start_time": "2022-01-27T22:30:08.367Z"
   },
   {
    "duration": 17,
    "start_time": "2022-01-27T22:30:08.419Z"
   },
   {
    "duration": 12,
    "start_time": "2022-01-27T22:30:08.438Z"
   },
   {
    "duration": 17,
    "start_time": "2022-01-27T22:30:08.452Z"
   },
   {
    "duration": 42,
    "start_time": "2022-01-27T22:30:08.472Z"
   },
   {
    "duration": 29,
    "start_time": "2022-01-27T22:30:08.516Z"
   },
   {
    "duration": 27,
    "start_time": "2022-01-27T22:30:08.548Z"
   },
   {
    "duration": 54,
    "start_time": "2022-01-27T22:30:08.578Z"
   }
  ],
  "kernelspec": {
   "display_name": "Python 3",
   "language": "python",
   "name": "python3"
  },
  "language_info": {
   "codemirror_mode": {
    "name": "ipython",
    "version": 3
   },
   "file_extension": ".py",
   "mimetype": "text/x-python",
   "name": "python",
   "nbconvert_exporter": "python",
   "pygments_lexer": "ipython3",
   "version": "3.7.8"
  },
  "toc": {
   "base_numbering": 1,
   "nav_menu": {},
   "number_sections": true,
   "sideBar": true,
   "skip_h1_title": true,
   "title_cell": "Table of Contents",
   "title_sidebar": "Contents",
   "toc_cell": false,
   "toc_position": {},
   "toc_section_display": true,
   "toc_window_display": false
  }
 },
 "nbformat": 4,
 "nbformat_minor": 2
}
