{
 "cells": [
  {
   "cell_type": "markdown",
   "metadata": {
    "toc": true
   },
   "source": [
    "<h1>Содержание<span class=\"tocSkip\"></span></h1>\n",
    "<div class=\"toc\"><ul class=\"toc-item\"><li><span><a href=\"#Загрузка-данных\" data-toc-modified-id=\"Загрузка-данных-1\"><span class=\"toc-item-num\">1&nbsp;&nbsp;</span>Загрузка данных</a></span><ul class=\"toc-item\"><li><span><a href=\"#Вывод\" data-toc-modified-id=\"Вывод-1.1\"><span class=\"toc-item-num\">1.1&nbsp;&nbsp;</span>Вывод</a></span></li></ul></li><li><span><a href=\"#Умножение-матриц\" data-toc-modified-id=\"Умножение-матриц-2\"><span class=\"toc-item-num\">2&nbsp;&nbsp;</span>Умножение матриц</a></span></li><li><span><a href=\"#Алгоритм-преобразования\" data-toc-modified-id=\"Алгоритм-преобразования-3\"><span class=\"toc-item-num\">3&nbsp;&nbsp;</span>Алгоритм преобразования</a></span></li><li><span><a href=\"#Проверка-алгоритма\" data-toc-modified-id=\"Проверка-алгоритма-4\"><span class=\"toc-item-num\">4&nbsp;&nbsp;</span>Проверка алгоритма</a></span><ul class=\"toc-item\"><li><span><a href=\"#Вывод\" data-toc-modified-id=\"Вывод-4.1\"><span class=\"toc-item-num\">4.1&nbsp;&nbsp;</span>Вывод</a></span></li></ul></li><li><span><a href=\"#Чек-лист-проверки\" data-toc-modified-id=\"Чек-лист-проверки-5\"><span class=\"toc-item-num\">5&nbsp;&nbsp;</span>Чек-лист проверки</a></span></li></ul></div>"
   ]
  },
  {
   "cell_type": "markdown",
   "metadata": {},
   "source": [
    "# Защита персональных данных клиентов"
   ]
  },
  {
   "cell_type": "markdown",
   "metadata": {},
   "source": [
    "Вам нужно защитить данные клиентов страховой компании «Хоть потоп». Разработайте такой метод преобразования данных, чтобы по ним было сложно восстановить персональную информацию. Обоснуйте корректность его работы.\n",
    "\n",
    "Нужно защитить данные, чтобы при преобразовании качество моделей машинного обучения не ухудшилось. Подбирать наилучшую модель не требуется."
   ]
  },
  {
   "cell_type": "markdown",
   "metadata": {},
   "source": [
    "## Загрузка данных"
   ]
  },
  {
   "cell_type": "code",
   "execution_count": 1,
   "metadata": {},
   "outputs": [],
   "source": [
    "import numpy as np\n",
    "import pandas as pd\n",
    "from sklearn.metrics import r2_score\n",
    "from sklearn.model_selection import train_test_split\n",
    "from sklearn.linear_model import LinearRegression"
   ]
  },
  {
   "cell_type": "markdown",
   "metadata": {},
   "source": [
    "Прочитаем файл:"
   ]
  },
  {
   "cell_type": "code",
   "execution_count": 2,
   "metadata": {},
   "outputs": [],
   "source": [
    "df = pd.read_csv('/datasets/insurance.csv')                "
   ]
  },
  {
   "cell_type": "markdown",
   "metadata": {},
   "source": [
    "Посмотрим его размер и пропущенные значения:"
   ]
  },
  {
   "cell_type": "code",
   "execution_count": 3,
   "metadata": {},
   "outputs": [
    {
     "name": "stdout",
     "output_type": "stream",
     "text": [
      "(5000, 5)\n"
     ]
    },
    {
     "data": {
      "text/plain": [
       "Пол                  0\n",
       "Возраст              0\n",
       "Зарплата             0\n",
       "Члены семьи          0\n",
       "Страховые выплаты    0\n",
       "dtype: int64"
      ]
     },
     "execution_count": 3,
     "metadata": {},
     "output_type": "execute_result"
    }
   ],
   "source": [
    "print(df.shape)                                             \n",
    "df.isnull().sum()                                            "
   ]
  },
  {
   "cell_type": "markdown",
   "metadata": {},
   "source": [
    "Посмотрим сам файл:"
   ]
  },
  {
   "cell_type": "code",
   "execution_count": 4,
   "metadata": {},
   "outputs": [
    {
     "data": {
      "text/html": [
       "<div>\n",
       "<style scoped>\n",
       "    .dataframe tbody tr th:only-of-type {\n",
       "        vertical-align: middle;\n",
       "    }\n",
       "\n",
       "    .dataframe tbody tr th {\n",
       "        vertical-align: top;\n",
       "    }\n",
       "\n",
       "    .dataframe thead th {\n",
       "        text-align: right;\n",
       "    }\n",
       "</style>\n",
       "<table border=\"1\" class=\"dataframe\">\n",
       "  <thead>\n",
       "    <tr style=\"text-align: right;\">\n",
       "      <th></th>\n",
       "      <th>Пол</th>\n",
       "      <th>Возраст</th>\n",
       "      <th>Зарплата</th>\n",
       "      <th>Члены семьи</th>\n",
       "      <th>Страховые выплаты</th>\n",
       "    </tr>\n",
       "  </thead>\n",
       "  <tbody>\n",
       "    <tr>\n",
       "      <td>0</td>\n",
       "      <td>1</td>\n",
       "      <td>41.0</td>\n",
       "      <td>49600.0</td>\n",
       "      <td>1</td>\n",
       "      <td>0</td>\n",
       "    </tr>\n",
       "    <tr>\n",
       "      <td>1</td>\n",
       "      <td>0</td>\n",
       "      <td>46.0</td>\n",
       "      <td>38000.0</td>\n",
       "      <td>1</td>\n",
       "      <td>1</td>\n",
       "    </tr>\n",
       "    <tr>\n",
       "      <td>2</td>\n",
       "      <td>0</td>\n",
       "      <td>29.0</td>\n",
       "      <td>21000.0</td>\n",
       "      <td>0</td>\n",
       "      <td>0</td>\n",
       "    </tr>\n",
       "    <tr>\n",
       "      <td>3</td>\n",
       "      <td>0</td>\n",
       "      <td>21.0</td>\n",
       "      <td>41700.0</td>\n",
       "      <td>2</td>\n",
       "      <td>0</td>\n",
       "    </tr>\n",
       "    <tr>\n",
       "      <td>4</td>\n",
       "      <td>1</td>\n",
       "      <td>28.0</td>\n",
       "      <td>26100.0</td>\n",
       "      <td>0</td>\n",
       "      <td>0</td>\n",
       "    </tr>\n",
       "  </tbody>\n",
       "</table>\n",
       "</div>"
      ],
      "text/plain": [
       "   Пол  Возраст  Зарплата  Члены семьи  Страховые выплаты\n",
       "0    1     41.0   49600.0            1                  0\n",
       "1    0     46.0   38000.0            1                  1\n",
       "2    0     29.0   21000.0            0                  0\n",
       "3    0     21.0   41700.0            2                  0\n",
       "4    1     28.0   26100.0            0                  0"
      ]
     },
     "metadata": {},
     "output_type": "display_data"
    }
   ],
   "source": [
    "display(df.head(5))                                           "
   ]
  },
  {
   "cell_type": "markdown",
   "metadata": {},
   "source": [
    "Посмотрим есть ли дубликаты:"
   ]
  },
  {
   "cell_type": "code",
   "execution_count": 5,
   "metadata": {},
   "outputs": [
    {
     "data": {
      "text/plain": [
       "153"
      ]
     },
     "execution_count": 5,
     "metadata": {},
     "output_type": "execute_result"
    }
   ],
   "source": [
    "df.duplicated().sum()                                     "
   ]
  },
  {
   "cell_type": "markdown",
   "metadata": {},
   "source": [
    "Удаляем обнаруженные дубликаты"
   ]
  },
  {
   "cell_type": "code",
   "execution_count": 6,
   "metadata": {},
   "outputs": [],
   "source": [
    "df = df.drop_duplicates().reset_index(drop=True)"
   ]
  },
  {
   "cell_type": "markdown",
   "metadata": {},
   "source": [
    "### Вывод"
   ]
  },
  {
   "cell_type": "markdown",
   "metadata": {},
   "source": [
    "На первом этапе было сделано:\n",
    "- открыт и изучен файл, в нем содержиться 5000 строк и 5 столбцов,\n",
    "- проверили на наличие пропущенных значений и дубликатов, удалили 153 дубликата."
   ]
  },
  {
   "cell_type": "markdown",
   "metadata": {},
   "source": [
    "## Умножение матриц"
   ]
  },
  {
   "cell_type": "markdown",
   "metadata": {},
   "source": [
    "В этом задании вы можете записывать формулы в *Jupyter Notebook.*\n",
    "\n",
    "Чтобы записать формулу внутри текста, окружите её символами доллара \\\\$; если снаружи —  двойными символами \\\\$\\\\$. Эти формулы записываются на языке вёрстки *LaTeX.* \n",
    "\n",
    "Для примера мы записали формулы линейной регрессии. Можете их скопировать и отредактировать, чтобы решить задачу.\n",
    "\n",
    "Работать в *LaTeX* необязательно."
   ]
  },
  {
   "cell_type": "markdown",
   "metadata": {},
   "source": [
    "Обозначения:\n",
    "\n",
    "- $X$ — матрица признаков (нулевой столбец состоит из единиц)\n",
    "\n",
    "- $y$ — вектор целевого признака\n",
    "\n",
    "- $P$ — матрица, на которую умножаются признаки\n",
    "\n",
    "- $w$ — вектор весов линейной регрессии (нулевой элемент равен сдвигу)"
   ]
  },
  {
   "cell_type": "markdown",
   "metadata": {},
   "source": [
    "Предсказания:\n",
    "\n",
    "$$\n",
    "a = Xw\n",
    "$$\n",
    "\n",
    "Задача обучения:\n",
    "\n",
    "$$\n",
    "w = \\arg\\min_w MSE(Xw, y)\n",
    "$$\n",
    "\n",
    "Формула обучения:\n",
    "\n",
    "$$\n",
    "w = (X^T X)^{-1} X^T y\n",
    "$$"
   ]
  },
  {
   "cell_type": "markdown",
   "metadata": {},
   "source": [
    "**Ответ:** $ R^2 $ не измениться\n",
    "      \n",
    "    \n",
    "**Обоснование:**   \n",
    "$$w'  = ((XP)^T (XP))^{-1} (XP)^T y  =  (P^T X^T X P)^{-1}  (XP)^T y  =  (P^T (X^TX) P)^{-1} (XP)^T y  =  (P^T ((X^TX) P))^{-1} P^T X^T y  =  ((X^TX)P)^{-1} (((P^T))^{-1}P^T) X^T y  =  ((X^TX)P)^{-1} E X^T y  =  P^{-1}(X^TX)^{-1} X^Ty$$\n",
    "\n",
    "$$w' = P^{-1}(X^TX)^{-1} X^Ty$$\n",
    "$$w' = P^{-1}w$$"
   ]
  },
  {
   "cell_type": "markdown",
   "metadata": {},
   "source": []
  },
  {
   "cell_type": "markdown",
   "metadata": {},
   "source": [
    "## Алгоритм преобразования"
   ]
  },
  {
   "cell_type": "markdown",
   "metadata": {},
   "source": [
    "**Алгоритм**\n",
    "\n",
    "1. Создать обратную рандомную матрицу применив numpy.random.normal() (при этом вероятность вероятность получить необратимую матрицу близка к нулю, но проверим)\n",
    "2. Перемножим матрицы - то есть проведем шифрование\n",
    "3. Проведем дешифрование и проверим соответствие первых 5 строк\n",
    "4. Проверим качество модели машинного обучения"
   ]
  },
  {
   "cell_type": "markdown",
   "metadata": {},
   "source": [
    "**Обоснование**\n",
    "\n",
    "После выполнения алгоритма без наличия нашей рандомной матрицы восстановить персональную информацию клиентов страховой компании будет проблематично. Качество модели не должно ухудшиться."
   ]
  },
  {
   "cell_type": "markdown",
   "metadata": {},
   "source": [
    "## Проверка алгоритма"
   ]
  },
  {
   "cell_type": "code",
   "execution_count": 7,
   "metadata": {},
   "outputs": [],
   "source": [
    "features = df.drop('Страховые выплаты', axis = 1)\n",
    "target = df['Страховые выплаты']"
   ]
  },
  {
   "cell_type": "markdown",
   "metadata": {},
   "source": [
    "Посмотрим размеры выборок"
   ]
  },
  {
   "cell_type": "code",
   "execution_count": 8,
   "metadata": {},
   "outputs": [
    {
     "data": {
      "text/plain": [
       "((4847, 4), (4847,))"
      ]
     },
     "execution_count": 8,
     "metadata": {},
     "output_type": "execute_result"
    }
   ],
   "source": [
    "features.shape, target.shape"
   ]
  },
  {
   "cell_type": "code",
   "execution_count": 9,
   "metadata": {},
   "outputs": [],
   "source": [
    "features_train, features_valid, target_train, target_valid = train_test_split(features, \n",
    "                                                                              target, test_size=0.25, random_state=12345)"
   ]
  },
  {
   "cell_type": "markdown",
   "metadata": {},
   "source": [
    "Создадим и посмотрим матрицу:"
   ]
  },
  {
   "cell_type": "code",
   "execution_count": 10,
   "metadata": {},
   "outputs": [],
   "source": [
    "matrix = np.random.normal(0, 157, size = (4,4))                "
   ]
  },
  {
   "cell_type": "code",
   "execution_count": 11,
   "metadata": {},
   "outputs": [
    {
     "name": "stdout",
     "output_type": "stream",
     "text": [
      "[[  31.60983465  -65.15424958  129.6839464     9.06599883]\n",
      " [-505.37664261  141.90919565  -57.67398017    8.36787265]\n",
      " [-197.96247707 -175.70546028   57.57882937 -127.28132757]\n",
      " [ 283.16537952 -184.72033738  -64.70203104   41.01135727]]\n"
     ]
    }
   ],
   "source": [
    "print(matrix)                                                   "
   ]
  },
  {
   "cell_type": "markdown",
   "metadata": {},
   "source": [
    "Проверим ее на обратимость, ошибки не получено, значит все OK"
   ]
  },
  {
   "cell_type": "code",
   "execution_count": 12,
   "metadata": {},
   "outputs": [
    {
     "name": "stdout",
     "output_type": "stream",
     "text": [
      "[[-0.00123879 -0.0023362  -0.00051996 -0.00086322]\n",
      " [-0.002328   -0.00196409 -0.00173049 -0.00445531]\n",
      " [ 0.00628527 -0.0008345  -0.00040418 -0.00247357]\n",
      " [ 0.00798369  0.00596734 -0.00484189  0.00637393]]\n"
     ]
    }
   ],
   "source": [
    "back_matrix = np.linalg.inv(matrix)                           \n",
    "print(back_matrix)"
   ]
  },
  {
   "cell_type": "code",
   "execution_count": 13,
   "metadata": {},
   "outputs": [],
   "source": [
    "def to_r2_score(features, target):\n",
    "    lr = LinearRegression()\n",
    "    lr.fit(features, target)\n",
    "    r2 = lr.score(features, target)\n",
    "    print(r2)"
   ]
  },
  {
   "cell_type": "code",
   "execution_count": 14,
   "metadata": {},
   "outputs": [
    {
     "name": "stdout",
     "output_type": "stream",
     "text": [
      "Посчитаем R2 для исходной матрицы:\n",
      "0.4302010044852067\n"
     ]
    }
   ],
   "source": [
    "print(\"Посчитаем R2 для исходной матрицы:\")\n",
    "to_r2_score(features, target)"
   ]
  },
  {
   "cell_type": "code",
   "execution_count": 15,
   "metadata": {},
   "outputs": [
    {
     "name": "stdout",
     "output_type": "stream",
     "text": [
      "Посчитаем R2 для матрицы, полученной после перемножения:\n",
      "0.4302010044852016\n"
     ]
    }
   ],
   "source": [
    "df_encrypted = features @ matrix\n",
    "print(\"Посчитаем R2 для матрицы, полученной после перемножения:\")\n",
    "to_r2_score(df_encrypted, target)"
   ]
  },
  {
   "cell_type": "code",
   "execution_count": 16,
   "metadata": {},
   "outputs": [
    {
     "name": "stdout",
     "output_type": "stream",
     "text": [
      "                 0             1             2             3\n",
      "0    -9.839345e+06 -8.709422e+06  2.853610e+06 -6.312761e+06\n",
      "1    -7.545538e+06 -6.670464e+06  2.185278e+06 -4.836265e+06\n",
      "2    -4.171868e+06 -3.685699e+06  1.207483e+06 -2.672665e+06\n",
      "3    -8.265082e+06 -7.324307e+06  2.399697e+06 -5.307374e+06\n",
      "4    -5.180940e+06 -4.582004e+06  1.501322e+06 -3.321799e+06\n",
      "...            ...           ...           ...           ...\n",
      "4842 -7.080845e+06 -6.269081e+06  2.053820e+06 -4.543627e+06\n",
      "4843 -1.039013e+07 -9.202326e+06  3.015105e+06 -6.669216e+06\n",
      "4844 -6.720469e+06 -5.953946e+06  1.950639e+06 -4.314588e+06\n",
      "4845 -6.483610e+06 -5.743066e+06  1.881494e+06 -4.161783e+06\n",
      "4846 -8.051112e+06 -7.129918e+06  2.336151e+06 -5.167338e+06\n",
      "\n",
      "[4847 rows x 4 columns]\n"
     ]
    }
   ],
   "source": [
    "print(df_encrypted)"
   ]
  },
  {
   "cell_type": "markdown",
   "metadata": {},
   "source": [
    "По полученной таблице не понятно какие действительные значения должны быть."
   ]
  },
  {
   "cell_type": "markdown",
   "metadata": {},
   "source": [
    "Посмотрим сможем ли получить обратно исходную матрицу иначе смысла в действиях нет и сравним ее с исходной."
   ]
  },
  {
   "cell_type": "code",
   "execution_count": 17,
   "metadata": {},
   "outputs": [
    {
     "data": {
      "text/html": [
       "<div>\n",
       "<style scoped>\n",
       "    .dataframe tbody tr th:only-of-type {\n",
       "        vertical-align: middle;\n",
       "    }\n",
       "\n",
       "    .dataframe tbody tr th {\n",
       "        vertical-align: top;\n",
       "    }\n",
       "\n",
       "    .dataframe thead th {\n",
       "        text-align: right;\n",
       "    }\n",
       "</style>\n",
       "<table border=\"1\" class=\"dataframe\">\n",
       "  <thead>\n",
       "    <tr style=\"text-align: right;\">\n",
       "      <th></th>\n",
       "      <th>0</th>\n",
       "      <th>1</th>\n",
       "      <th>2</th>\n",
       "      <th>3</th>\n",
       "    </tr>\n",
       "  </thead>\n",
       "  <tbody>\n",
       "    <tr>\n",
       "      <td>0</td>\n",
       "      <td>1.0</td>\n",
       "      <td>41.0</td>\n",
       "      <td>49600.0</td>\n",
       "      <td>1.0</td>\n",
       "    </tr>\n",
       "    <tr>\n",
       "      <td>1</td>\n",
       "      <td>-0.0</td>\n",
       "      <td>46.0</td>\n",
       "      <td>38000.0</td>\n",
       "      <td>1.0</td>\n",
       "    </tr>\n",
       "    <tr>\n",
       "      <td>2</td>\n",
       "      <td>0.0</td>\n",
       "      <td>29.0</td>\n",
       "      <td>21000.0</td>\n",
       "      <td>0.0</td>\n",
       "    </tr>\n",
       "    <tr>\n",
       "      <td>3</td>\n",
       "      <td>0.0</td>\n",
       "      <td>21.0</td>\n",
       "      <td>41700.0</td>\n",
       "      <td>2.0</td>\n",
       "    </tr>\n",
       "    <tr>\n",
       "      <td>4</td>\n",
       "      <td>1.0</td>\n",
       "      <td>28.0</td>\n",
       "      <td>26100.0</td>\n",
       "      <td>-0.0</td>\n",
       "    </tr>\n",
       "  </tbody>\n",
       "</table>\n",
       "</div>"
      ],
      "text/plain": [
       "     0     1        2    3\n",
       "0  1.0  41.0  49600.0  1.0\n",
       "1 -0.0  46.0  38000.0  1.0\n",
       "2  0.0  29.0  21000.0  0.0\n",
       "3  0.0  21.0  41700.0  2.0\n",
       "4  1.0  28.0  26100.0 -0.0"
      ]
     },
     "metadata": {},
     "output_type": "display_data"
    }
   ],
   "source": [
    "back = df_encrypted @ back_matrix\n",
    "display(np.around(back, 0).head(5))"
   ]
  },
  {
   "cell_type": "code",
   "execution_count": 18,
   "metadata": {},
   "outputs": [
    {
     "data": {
      "text/html": [
       "<div>\n",
       "<style scoped>\n",
       "    .dataframe tbody tr th:only-of-type {\n",
       "        vertical-align: middle;\n",
       "    }\n",
       "\n",
       "    .dataframe tbody tr th {\n",
       "        vertical-align: top;\n",
       "    }\n",
       "\n",
       "    .dataframe thead th {\n",
       "        text-align: right;\n",
       "    }\n",
       "</style>\n",
       "<table border=\"1\" class=\"dataframe\">\n",
       "  <thead>\n",
       "    <tr style=\"text-align: right;\">\n",
       "      <th></th>\n",
       "      <th>Пол</th>\n",
       "      <th>Возраст</th>\n",
       "      <th>Зарплата</th>\n",
       "      <th>Члены семьи</th>\n",
       "      <th>Страховые выплаты</th>\n",
       "    </tr>\n",
       "  </thead>\n",
       "  <tbody>\n",
       "    <tr>\n",
       "      <td>0</td>\n",
       "      <td>1</td>\n",
       "      <td>41.0</td>\n",
       "      <td>49600.0</td>\n",
       "      <td>1</td>\n",
       "      <td>0</td>\n",
       "    </tr>\n",
       "    <tr>\n",
       "      <td>1</td>\n",
       "      <td>0</td>\n",
       "      <td>46.0</td>\n",
       "      <td>38000.0</td>\n",
       "      <td>1</td>\n",
       "      <td>1</td>\n",
       "    </tr>\n",
       "    <tr>\n",
       "      <td>2</td>\n",
       "      <td>0</td>\n",
       "      <td>29.0</td>\n",
       "      <td>21000.0</td>\n",
       "      <td>0</td>\n",
       "      <td>0</td>\n",
       "    </tr>\n",
       "    <tr>\n",
       "      <td>3</td>\n",
       "      <td>0</td>\n",
       "      <td>21.0</td>\n",
       "      <td>41700.0</td>\n",
       "      <td>2</td>\n",
       "      <td>0</td>\n",
       "    </tr>\n",
       "    <tr>\n",
       "      <td>4</td>\n",
       "      <td>1</td>\n",
       "      <td>28.0</td>\n",
       "      <td>26100.0</td>\n",
       "      <td>0</td>\n",
       "      <td>0</td>\n",
       "    </tr>\n",
       "  </tbody>\n",
       "</table>\n",
       "</div>"
      ],
      "text/plain": [
       "   Пол  Возраст  Зарплата  Члены семьи  Страховые выплаты\n",
       "0    1     41.0   49600.0            1                  0\n",
       "1    0     46.0   38000.0            1                  1\n",
       "2    0     29.0   21000.0            0                  0\n",
       "3    0     21.0   41700.0            2                  0\n",
       "4    1     28.0   26100.0            0                  0"
      ]
     },
     "metadata": {},
     "output_type": "display_data"
    }
   ],
   "source": [
    "display(df.head(5))                                            # исходная таблица"
   ]
  },
  {
   "cell_type": "markdown",
   "metadata": {},
   "source": [
    "Сравнив таблицы, видим что они одинаковые."
   ]
  },
  {
   "cell_type": "markdown",
   "metadata": {},
   "source": [
    "### Вывод"
   ]
  },
  {
   "cell_type": "markdown",
   "metadata": {},
   "source": [
    "Защитили данные клиентов страховой компании, для этого произвели умножение исходных данных на рандомную матрицу. Перед этим проверили рандомную матрицу на обратимость. После произвели обратное преобразование в исходную матрицу для проверки, что с данными можно продолжить работать. \n",
    "\n",
    "Проверили качество преобразования по R2, качество исходной матрицы и полученной после умножения одинаковое. "
   ]
  },
  {
   "cell_type": "markdown",
   "metadata": {},
   "source": [
    "## Чек-лист проверки"
   ]
  },
  {
   "cell_type": "markdown",
   "metadata": {},
   "source": [
    "Поставьте 'x' в выполненных пунктах. Далее нажмите Shift+Enter."
   ]
  },
  {
   "cell_type": "markdown",
   "metadata": {},
   "source": [
    "- [x]  Jupyter Notebook открыт\n",
    "- [x]  Весь код выполняется без ошибок\n",
    "- [x]  Ячейки с кодом расположены в порядке исполнения\n",
    "- [x]  Выполнен шаг 1: данные загружены\n",
    "- [x]  Выполнен шаг 2: получен ответ на вопрос об умножении матриц\n",
    "    - [x]  Указан правильный вариант ответа\n",
    "    - [x]  Вариант обоснован\n",
    "- [x]  Выполнен шаг 3: предложен алгоритм преобразования\n",
    "    - [x]  Алгоритм описан\n",
    "    - [x]  Алгоритм обоснован\n",
    "- [x]  Выполнен шаг 4: алгоритм проверен\n",
    "    - [x]  Алгоритм реализован\n",
    "    - [x]  Проведено сравнение качества моделей до и после преобразования"
   ]
  }
 ],
 "metadata": {
  "ExecuteTimeLog": [
   {
    "duration": 1475,
    "start_time": "2021-12-29T08:22:39.383Z"
   },
   {
    "duration": 21,
    "start_time": "2021-12-29T08:22:40.861Z"
   },
   {
    "duration": 525,
    "start_time": "2021-12-29T08:23:30.565Z"
   },
   {
    "duration": 25,
    "start_time": "2021-12-29T08:23:34.904Z"
   },
   {
    "duration": 347,
    "start_time": "2021-12-29T08:23:35.620Z"
   },
   {
    "duration": 5,
    "start_time": "2021-12-29T08:24:07.169Z"
   },
   {
    "duration": 287,
    "start_time": "2021-12-29T08:24:09.718Z"
   },
   {
    "duration": 1431,
    "start_time": "2021-12-29T08:24:14.771Z"
   },
   {
    "duration": 25,
    "start_time": "2021-12-29T08:24:16.205Z"
   },
   {
    "duration": 9,
    "start_time": "2021-12-29T08:24:16.234Z"
   },
   {
    "duration": 510,
    "start_time": "2021-12-29T08:24:16.257Z"
   },
   {
    "duration": 18,
    "start_time": "2021-12-29T08:24:53.435Z"
   },
   {
    "duration": 16,
    "start_time": "2021-12-29T08:26:15.925Z"
   },
   {
    "duration": 12,
    "start_time": "2021-12-29T08:26:31.328Z"
   },
   {
    "duration": 511,
    "start_time": "2021-12-29T08:26:31.345Z"
   },
   {
    "duration": 11,
    "start_time": "2021-12-29T10:03:19.026Z"
   },
   {
    "duration": 1632,
    "start_time": "2021-12-29T10:03:25.275Z"
   },
   {
    "duration": 31,
    "start_time": "2021-12-29T10:03:26.911Z"
   },
   {
    "duration": 24,
    "start_time": "2021-12-29T10:03:26.947Z"
   },
   {
    "duration": 11,
    "start_time": "2021-12-29T10:03:26.974Z"
   },
   {
    "duration": 476,
    "start_time": "2021-12-29T10:03:26.988Z"
   },
   {
    "duration": 265,
    "start_time": "2021-12-29T10:03:27.202Z"
   },
   {
    "duration": 1336,
    "start_time": "2022-01-08T22:32:42.216Z"
   },
   {
    "duration": 111,
    "start_time": "2022-01-08T22:32:43.555Z"
   },
   {
    "duration": 16,
    "start_time": "2022-01-08T22:32:43.669Z"
   },
   {
    "duration": 8,
    "start_time": "2022-01-08T22:32:43.688Z"
   },
   {
    "duration": 8,
    "start_time": "2022-01-08T22:32:43.699Z"
   },
   {
    "duration": 8,
    "start_time": "2022-01-08T22:33:23.992Z"
   },
   {
    "duration": 9,
    "start_time": "2022-01-08T22:34:11.852Z"
   },
   {
    "duration": 1328,
    "start_time": "2022-01-10T11:34:57.350Z"
   },
   {
    "duration": 124,
    "start_time": "2022-01-10T11:34:58.681Z"
   },
   {
    "duration": 17,
    "start_time": "2022-01-10T11:34:58.808Z"
   },
   {
    "duration": 13,
    "start_time": "2022-01-10T11:34:58.827Z"
   },
   {
    "duration": 10,
    "start_time": "2022-01-10T11:34:58.843Z"
   },
   {
    "duration": 9,
    "start_time": "2022-01-10T11:34:58.856Z"
   },
   {
    "duration": 10,
    "start_time": "2022-01-10T11:34:58.867Z"
   },
   {
    "duration": 164,
    "start_time": "2022-01-10T11:34:58.879Z"
   },
   {
    "duration": 170,
    "start_time": "2022-01-10T11:34:58.875Z"
   },
   {
    "duration": 166,
    "start_time": "2022-01-10T11:34:58.881Z"
   },
   {
    "duration": 5,
    "start_time": "2022-01-10T11:35:04.146Z"
   },
   {
    "duration": 1264,
    "start_time": "2022-01-10T11:35:05.985Z"
   },
   {
    "duration": 9,
    "start_time": "2022-01-10T11:35:32.541Z"
   },
   {
    "duration": 1359,
    "start_time": "2022-01-10T11:35:37.862Z"
   },
   {
    "duration": 22,
    "start_time": "2022-01-10T11:35:39.224Z"
   },
   {
    "duration": 23,
    "start_time": "2022-01-10T11:35:39.250Z"
   },
   {
    "duration": 10,
    "start_time": "2022-01-10T11:35:39.278Z"
   },
   {
    "duration": 12,
    "start_time": "2022-01-10T11:35:39.291Z"
   },
   {
    "duration": 54,
    "start_time": "2022-01-10T11:35:39.306Z"
   },
   {
    "duration": 11,
    "start_time": "2022-01-10T11:35:39.363Z"
   },
   {
    "duration": 6,
    "start_time": "2022-01-10T11:35:39.377Z"
   },
   {
    "duration": 15,
    "start_time": "2022-01-10T11:35:39.386Z"
   },
   {
    "duration": 7,
    "start_time": "2022-01-10T11:44:42.363Z"
   },
   {
    "duration": 1440,
    "start_time": "2022-01-10T11:44:56.205Z"
   },
   {
    "duration": 21,
    "start_time": "2022-01-10T11:44:57.648Z"
   },
   {
    "duration": 18,
    "start_time": "2022-01-10T11:44:57.672Z"
   },
   {
    "duration": 9,
    "start_time": "2022-01-10T11:44:57.694Z"
   },
   {
    "duration": 10,
    "start_time": "2022-01-10T11:44:57.706Z"
   },
   {
    "duration": 47,
    "start_time": "2022-01-10T11:44:57.718Z"
   },
   {
    "duration": 9,
    "start_time": "2022-01-10T11:44:57.768Z"
   },
   {
    "duration": 13,
    "start_time": "2022-01-10T11:44:57.779Z"
   },
   {
    "duration": 8,
    "start_time": "2022-01-10T11:44:57.795Z"
   },
   {
    "duration": 11,
    "start_time": "2022-01-10T11:44:57.805Z"
   },
   {
    "duration": 4,
    "start_time": "2022-01-10T12:17:04.812Z"
   },
   {
    "duration": 13,
    "start_time": "2022-01-10T12:17:28.226Z"
   },
   {
    "duration": 483,
    "start_time": "2022-01-10T12:17:48.579Z"
   },
   {
    "duration": 605,
    "start_time": "2022-01-10T12:18:42.461Z"
   },
   {
    "duration": 1739,
    "start_time": "2022-01-10T12:18:51.409Z"
   },
   {
    "duration": 29,
    "start_time": "2022-01-10T12:18:53.152Z"
   },
   {
    "duration": 26,
    "start_time": "2022-01-10T12:18:53.185Z"
   },
   {
    "duration": 20,
    "start_time": "2022-01-10T12:18:53.215Z"
   },
   {
    "duration": 25,
    "start_time": "2022-01-10T12:18:53.237Z"
   },
   {
    "duration": 7,
    "start_time": "2022-01-10T12:18:53.265Z"
   },
   {
    "duration": 8,
    "start_time": "2022-01-10T12:18:53.274Z"
   },
   {
    "duration": 5,
    "start_time": "2022-01-10T12:18:53.284Z"
   },
   {
    "duration": 9,
    "start_time": "2022-01-10T12:18:53.292Z"
   },
   {
    "duration": 58,
    "start_time": "2022-01-10T12:18:53.304Z"
   },
   {
    "duration": 3,
    "start_time": "2022-01-10T12:18:53.365Z"
   },
   {
    "duration": 791,
    "start_time": "2022-01-10T12:18:53.371Z"
   },
   {
    "duration": 193,
    "start_time": "2022-01-10T12:18:53.972Z"
   },
   {
    "duration": 3,
    "start_time": "2022-01-10T12:24:14.655Z"
   },
   {
    "duration": 882,
    "start_time": "2022-01-10T12:24:21.795Z"
   },
   {
    "duration": 1466,
    "start_time": "2022-01-10T12:24:37.742Z"
   },
   {
    "duration": 24,
    "start_time": "2022-01-10T12:24:39.212Z"
   },
   {
    "duration": 29,
    "start_time": "2022-01-10T12:24:39.241Z"
   },
   {
    "duration": 15,
    "start_time": "2022-01-10T12:24:39.272Z"
   },
   {
    "duration": 10,
    "start_time": "2022-01-10T12:24:39.289Z"
   },
   {
    "duration": 9,
    "start_time": "2022-01-10T12:24:39.302Z"
   },
   {
    "duration": 46,
    "start_time": "2022-01-10T12:24:39.313Z"
   },
   {
    "duration": 6,
    "start_time": "2022-01-10T12:24:39.361Z"
   },
   {
    "duration": 6,
    "start_time": "2022-01-10T12:24:39.371Z"
   },
   {
    "duration": 20,
    "start_time": "2022-01-10T12:24:39.379Z"
   },
   {
    "duration": 4,
    "start_time": "2022-01-10T12:24:39.401Z"
   },
   {
    "duration": 1776,
    "start_time": "2022-01-10T12:24:39.407Z"
   },
   {
    "duration": 154,
    "start_time": "2022-01-10T12:24:41.032Z"
   },
   {
    "duration": 5,
    "start_time": "2022-01-10T12:25:50.796Z"
   },
   {
    "duration": 6,
    "start_time": "2022-01-10T12:25:51.547Z"
   },
   {
    "duration": 7,
    "start_time": "2022-01-10T12:30:23.444Z"
   },
   {
    "duration": 1332,
    "start_time": "2022-01-10T12:33:11.193Z"
   },
   {
    "duration": 22,
    "start_time": "2022-01-10T12:33:12.528Z"
   },
   {
    "duration": 22,
    "start_time": "2022-01-10T12:33:12.558Z"
   },
   {
    "duration": 17,
    "start_time": "2022-01-10T12:33:12.582Z"
   },
   {
    "duration": 9,
    "start_time": "2022-01-10T12:33:12.601Z"
   },
   {
    "duration": 7,
    "start_time": "2022-01-10T12:33:12.613Z"
   },
   {
    "duration": 9,
    "start_time": "2022-01-10T12:33:12.660Z"
   },
   {
    "duration": 4,
    "start_time": "2022-01-10T12:33:12.672Z"
   },
   {
    "duration": 7,
    "start_time": "2022-01-10T12:33:12.680Z"
   },
   {
    "duration": 7,
    "start_time": "2022-01-10T12:33:12.689Z"
   },
   {
    "duration": 5,
    "start_time": "2022-01-10T12:33:12.699Z"
   },
   {
    "duration": 59,
    "start_time": "2022-01-10T12:33:12.707Z"
   },
   {
    "duration": 7,
    "start_time": "2022-01-10T12:33:12.774Z"
   },
   {
    "duration": 3,
    "start_time": "2022-01-10T12:34:56.470Z"
   },
   {
    "duration": 4,
    "start_time": "2022-01-10T12:34:57.163Z"
   },
   {
    "duration": 8,
    "start_time": "2022-01-10T12:35:01.393Z"
   },
   {
    "duration": 1436,
    "start_time": "2022-01-10T12:35:29.782Z"
   },
   {
    "duration": 23,
    "start_time": "2022-01-10T12:35:31.221Z"
   },
   {
    "duration": 25,
    "start_time": "2022-01-10T12:35:31.248Z"
   },
   {
    "duration": 25,
    "start_time": "2022-01-10T12:35:31.276Z"
   },
   {
    "duration": 19,
    "start_time": "2022-01-10T12:35:31.304Z"
   },
   {
    "duration": 34,
    "start_time": "2022-01-10T12:35:31.326Z"
   },
   {
    "duration": 13,
    "start_time": "2022-01-10T12:35:31.363Z"
   },
   {
    "duration": 9,
    "start_time": "2022-01-10T12:35:31.379Z"
   },
   {
    "duration": 19,
    "start_time": "2022-01-10T12:35:31.393Z"
   },
   {
    "duration": 21,
    "start_time": "2022-01-10T12:35:31.415Z"
   },
   {
    "duration": 7,
    "start_time": "2022-01-10T12:35:31.439Z"
   },
   {
    "duration": 11,
    "start_time": "2022-01-10T12:35:31.460Z"
   },
   {
    "duration": 14,
    "start_time": "2022-01-10T12:35:31.474Z"
   },
   {
    "duration": 1573,
    "start_time": "2022-01-10T12:53:16.151Z"
   },
   {
    "duration": 21,
    "start_time": "2022-01-10T12:53:17.728Z"
   },
   {
    "duration": 21,
    "start_time": "2022-01-10T12:53:17.752Z"
   },
   {
    "duration": 16,
    "start_time": "2022-01-10T12:53:17.775Z"
   },
   {
    "duration": 8,
    "start_time": "2022-01-10T12:53:17.793Z"
   },
   {
    "duration": 7,
    "start_time": "2022-01-10T12:53:17.804Z"
   },
   {
    "duration": 49,
    "start_time": "2022-01-10T12:53:17.813Z"
   },
   {
    "duration": 5,
    "start_time": "2022-01-10T12:53:17.866Z"
   },
   {
    "duration": 7,
    "start_time": "2022-01-10T12:53:17.874Z"
   },
   {
    "duration": 12,
    "start_time": "2022-01-10T12:53:17.884Z"
   },
   {
    "duration": 6,
    "start_time": "2022-01-10T12:53:17.899Z"
   },
   {
    "duration": 51,
    "start_time": "2022-01-10T12:53:17.908Z"
   },
   {
    "duration": 16,
    "start_time": "2022-01-10T12:53:17.963Z"
   },
   {
    "duration": 1360,
    "start_time": "2022-01-10T12:55:44.359Z"
   },
   {
    "duration": 24,
    "start_time": "2022-01-10T12:55:45.722Z"
   },
   {
    "duration": 18,
    "start_time": "2022-01-10T12:55:45.750Z"
   },
   {
    "duration": 13,
    "start_time": "2022-01-10T12:55:45.771Z"
   },
   {
    "duration": 8,
    "start_time": "2022-01-10T12:55:45.787Z"
   },
   {
    "duration": 7,
    "start_time": "2022-01-10T12:55:45.798Z"
   },
   {
    "duration": 54,
    "start_time": "2022-01-10T12:55:45.807Z"
   },
   {
    "duration": 5,
    "start_time": "2022-01-10T12:55:45.864Z"
   },
   {
    "duration": 7,
    "start_time": "2022-01-10T12:55:45.871Z"
   },
   {
    "duration": 12,
    "start_time": "2022-01-10T12:55:45.880Z"
   },
   {
    "duration": 6,
    "start_time": "2022-01-10T12:55:45.894Z"
   },
   {
    "duration": 59,
    "start_time": "2022-01-10T12:55:45.902Z"
   },
   {
    "duration": 9,
    "start_time": "2022-01-10T12:55:45.964Z"
   },
   {
    "duration": 1393,
    "start_time": "2022-01-10T15:56:15.385Z"
   },
   {
    "duration": 23,
    "start_time": "2022-01-10T15:56:16.782Z"
   },
   {
    "duration": 225,
    "start_time": "2022-01-10T15:56:16.807Z"
   },
   {
    "duration": 261,
    "start_time": "2022-01-10T15:56:17.034Z"
   },
   {
    "duration": 182,
    "start_time": "2022-01-10T15:56:17.297Z"
   },
   {
    "duration": 221,
    "start_time": "2022-01-10T15:56:17.483Z"
   },
   {
    "duration": 155,
    "start_time": "2022-01-10T15:56:17.707Z"
   },
   {
    "duration": 258,
    "start_time": "2022-01-10T15:56:17.865Z"
   },
   {
    "duration": 199,
    "start_time": "2022-01-10T15:56:18.126Z"
   },
   {
    "duration": 213,
    "start_time": "2022-01-10T15:56:18.327Z"
   },
   {
    "duration": 207,
    "start_time": "2022-01-10T15:56:18.542Z"
   },
   {
    "duration": 233,
    "start_time": "2022-01-10T15:56:18.752Z"
   },
   {
    "duration": 244,
    "start_time": "2022-01-10T15:56:18.987Z"
   },
   {
    "duration": 140,
    "start_time": "2022-01-10T15:56:19.235Z"
   },
   {
    "duration": 812,
    "start_time": "2022-01-10T15:56:49.459Z"
   },
   {
    "duration": 1368,
    "start_time": "2022-01-10T15:57:23.524Z"
   },
   {
    "duration": 18,
    "start_time": "2022-01-10T15:57:24.895Z"
   },
   {
    "duration": 193,
    "start_time": "2022-01-10T15:57:24.916Z"
   },
   {
    "duration": 161,
    "start_time": "2022-01-10T15:57:25.112Z"
   },
   {
    "duration": 139,
    "start_time": "2022-01-10T15:57:25.276Z"
   },
   {
    "duration": 238,
    "start_time": "2022-01-10T15:57:25.417Z"
   },
   {
    "duration": 242,
    "start_time": "2022-01-10T15:57:25.658Z"
   },
   {
    "duration": 178,
    "start_time": "2022-01-10T15:57:25.902Z"
   },
   {
    "duration": 131,
    "start_time": "2022-01-10T15:57:26.083Z"
   },
   {
    "duration": 129,
    "start_time": "2022-01-10T15:57:26.217Z"
   },
   {
    "duration": 108,
    "start_time": "2022-01-10T15:57:26.349Z"
   },
   {
    "duration": 95,
    "start_time": "2022-01-10T15:57:26.460Z"
   },
   {
    "duration": 215,
    "start_time": "2022-01-10T15:57:26.558Z"
   },
   {
    "duration": 286,
    "start_time": "2022-01-10T15:57:26.777Z"
   },
   {
    "duration": 249,
    "start_time": "2022-01-10T15:57:27.066Z"
   },
   {
    "duration": 97,
    "start_time": "2022-01-10T15:59:25.833Z"
   },
   {
    "duration": 4,
    "start_time": "2022-01-10T15:59:33.875Z"
   },
   {
    "duration": 4,
    "start_time": "2022-01-10T15:59:51.308Z"
   },
   {
    "duration": 4,
    "start_time": "2022-01-10T15:59:56.655Z"
   },
   {
    "duration": 1362,
    "start_time": "2022-01-10T16:00:15.123Z"
   },
   {
    "duration": 18,
    "start_time": "2022-01-10T16:00:16.488Z"
   },
   {
    "duration": 194,
    "start_time": "2022-01-10T16:00:16.509Z"
   },
   {
    "duration": 212,
    "start_time": "2022-01-10T16:00:16.705Z"
   },
   {
    "duration": 187,
    "start_time": "2022-01-10T16:00:16.919Z"
   },
   {
    "duration": 165,
    "start_time": "2022-01-10T16:00:17.109Z"
   },
   {
    "duration": 163,
    "start_time": "2022-01-10T16:00:17.277Z"
   },
   {
    "duration": 191,
    "start_time": "2022-01-10T16:00:17.443Z"
   },
   {
    "duration": 178,
    "start_time": "2022-01-10T16:00:17.638Z"
   },
   {
    "duration": 173,
    "start_time": "2022-01-10T16:00:17.819Z"
   },
   {
    "duration": 195,
    "start_time": "2022-01-10T16:00:17.995Z"
   },
   {
    "duration": 265,
    "start_time": "2022-01-10T16:00:18.192Z"
   },
   {
    "duration": 203,
    "start_time": "2022-01-10T16:00:18.459Z"
   },
   {
    "duration": 166,
    "start_time": "2022-01-10T16:00:18.665Z"
   },
   {
    "duration": 234,
    "start_time": "2022-01-10T16:00:18.833Z"
   },
   {
    "duration": 619,
    "start_time": "2022-01-10T16:00:19.070Z"
   },
   {
    "duration": 17,
    "start_time": "2022-01-10T16:04:22.849Z"
   },
   {
    "duration": 20,
    "start_time": "2022-01-10T16:05:35.208Z"
   },
   {
    "duration": 12,
    "start_time": "2022-01-10T16:05:43.855Z"
   },
   {
    "duration": 17,
    "start_time": "2022-01-10T16:06:01.913Z"
   },
   {
    "duration": 11,
    "start_time": "2022-01-10T16:06:16.512Z"
   },
   {
    "duration": 11,
    "start_time": "2022-01-10T16:07:32.412Z"
   },
   {
    "duration": 1483,
    "start_time": "2022-01-10T16:09:23.581Z"
   },
   {
    "duration": 19,
    "start_time": "2022-01-10T16:09:25.069Z"
   },
   {
    "duration": 129,
    "start_time": "2022-01-10T16:09:25.091Z"
   },
   {
    "duration": 158,
    "start_time": "2022-01-10T16:09:25.224Z"
   },
   {
    "duration": 234,
    "start_time": "2022-01-10T16:09:25.386Z"
   },
   {
    "duration": 183,
    "start_time": "2022-01-10T16:09:25.622Z"
   },
   {
    "duration": 146,
    "start_time": "2022-01-10T16:09:25.809Z"
   },
   {
    "duration": 145,
    "start_time": "2022-01-10T16:09:25.958Z"
   },
   {
    "duration": 160,
    "start_time": "2022-01-10T16:09:26.107Z"
   },
   {
    "duration": 131,
    "start_time": "2022-01-10T16:09:26.269Z"
   },
   {
    "duration": 161,
    "start_time": "2022-01-10T16:09:26.402Z"
   },
   {
    "duration": 160,
    "start_time": "2022-01-10T16:09:26.566Z"
   },
   {
    "duration": 146,
    "start_time": "2022-01-10T16:09:26.729Z"
   },
   {
    "duration": 188,
    "start_time": "2022-01-10T16:09:26.879Z"
   },
   {
    "duration": 197,
    "start_time": "2022-01-10T16:09:27.070Z"
   },
   {
    "duration": 170,
    "start_time": "2022-01-10T16:09:27.271Z"
   },
   {
    "duration": 192,
    "start_time": "2022-01-10T16:09:27.444Z"
   },
   {
    "duration": 1462,
    "start_time": "2022-01-10T20:03:01.449Z"
   },
   {
    "duration": 22,
    "start_time": "2022-01-10T20:03:02.915Z"
   },
   {
    "duration": 28,
    "start_time": "2022-01-10T20:03:02.944Z"
   },
   {
    "duration": 20,
    "start_time": "2022-01-10T20:03:02.975Z"
   },
   {
    "duration": 13,
    "start_time": "2022-01-10T20:03:02.998Z"
   },
   {
    "duration": 52,
    "start_time": "2022-01-10T20:03:03.016Z"
   },
   {
    "duration": 11,
    "start_time": "2022-01-10T20:03:03.071Z"
   },
   {
    "duration": 7,
    "start_time": "2022-01-10T20:03:03.086Z"
   },
   {
    "duration": 16,
    "start_time": "2022-01-10T20:03:03.096Z"
   },
   {
    "duration": 7,
    "start_time": "2022-01-10T20:03:03.115Z"
   },
   {
    "duration": 42,
    "start_time": "2022-01-10T20:03:03.124Z"
   },
   {
    "duration": 8,
    "start_time": "2022-01-10T20:03:03.169Z"
   },
   {
    "duration": 8,
    "start_time": "2022-01-10T20:03:03.181Z"
   },
   {
    "duration": 12,
    "start_time": "2022-01-10T20:03:03.192Z"
   },
   {
    "duration": 157,
    "start_time": "2022-01-10T20:03:03.206Z"
   },
   {
    "duration": 99,
    "start_time": "2022-01-10T20:03:03.368Z"
   },
   {
    "duration": 94,
    "start_time": "2022-01-10T20:03:03.472Z"
   },
   {
    "duration": 8,
    "start_time": "2022-01-10T20:03:23.853Z"
   },
   {
    "duration": 4,
    "start_time": "2022-01-10T20:03:24.751Z"
   },
   {
    "duration": 21,
    "start_time": "2022-01-10T20:03:25.204Z"
   },
   {
    "duration": 21,
    "start_time": "2022-01-10T20:03:25.791Z"
   },
   {
    "duration": 10,
    "start_time": "2022-01-10T20:03:26.347Z"
   },
   {
    "duration": 1417,
    "start_time": "2022-01-10T20:03:33.357Z"
   },
   {
    "duration": 23,
    "start_time": "2022-01-10T20:03:34.776Z"
   },
   {
    "duration": 17,
    "start_time": "2022-01-10T20:03:34.804Z"
   },
   {
    "duration": 42,
    "start_time": "2022-01-10T20:03:34.824Z"
   },
   {
    "duration": 9,
    "start_time": "2022-01-10T20:03:34.868Z"
   },
   {
    "duration": 11,
    "start_time": "2022-01-10T20:03:34.880Z"
   },
   {
    "duration": 12,
    "start_time": "2022-01-10T20:03:34.894Z"
   },
   {
    "duration": 53,
    "start_time": "2022-01-10T20:03:34.910Z"
   },
   {
    "duration": 7,
    "start_time": "2022-01-10T20:03:34.968Z"
   },
   {
    "duration": 8,
    "start_time": "2022-01-10T20:03:34.980Z"
   },
   {
    "duration": 4,
    "start_time": "2022-01-10T20:03:34.991Z"
   },
   {
    "duration": 11,
    "start_time": "2022-01-10T20:03:34.998Z"
   },
   {
    "duration": 72,
    "start_time": "2022-01-10T20:03:35.012Z"
   },
   {
    "duration": 75,
    "start_time": "2022-01-10T20:03:35.088Z"
   },
   {
    "duration": 109,
    "start_time": "2022-01-10T20:03:35.167Z"
   },
   {
    "duration": 110,
    "start_time": "2022-01-10T20:03:35.364Z"
   },
   {
    "duration": 14,
    "start_time": "2022-01-10T20:03:35.564Z"
   },
   {
    "duration": 25,
    "start_time": "2022-01-10T20:07:21.839Z"
   },
   {
    "duration": 18,
    "start_time": "2022-01-10T20:07:22.986Z"
   },
   {
    "duration": 1441,
    "start_time": "2022-01-10T20:07:42.865Z"
   },
   {
    "duration": 25,
    "start_time": "2022-01-10T20:07:44.309Z"
   },
   {
    "duration": 32,
    "start_time": "2022-01-10T20:07:44.338Z"
   },
   {
    "duration": 21,
    "start_time": "2022-01-10T20:07:44.374Z"
   },
   {
    "duration": 11,
    "start_time": "2022-01-10T20:07:44.398Z"
   },
   {
    "duration": 57,
    "start_time": "2022-01-10T20:07:44.412Z"
   },
   {
    "duration": 10,
    "start_time": "2022-01-10T20:07:44.472Z"
   },
   {
    "duration": 6,
    "start_time": "2022-01-10T20:07:44.486Z"
   },
   {
    "duration": 7,
    "start_time": "2022-01-10T20:07:44.494Z"
   },
   {
    "duration": 10,
    "start_time": "2022-01-10T20:07:44.503Z"
   },
   {
    "duration": 49,
    "start_time": "2022-01-10T20:07:44.516Z"
   },
   {
    "duration": 7,
    "start_time": "2022-01-10T20:07:44.567Z"
   },
   {
    "duration": 16,
    "start_time": "2022-01-10T20:07:44.577Z"
   },
   {
    "duration": 6,
    "start_time": "2022-01-10T20:07:44.665Z"
   },
   {
    "duration": 189,
    "start_time": "2022-01-10T20:07:44.675Z"
   },
   {
    "duration": 629,
    "start_time": "2022-01-10T20:07:44.869Z"
   },
   {
    "duration": 310,
    "start_time": "2022-01-10T20:08:32.872Z"
   },
   {
    "duration": 73,
    "start_time": "2022-01-10T20:08:53.197Z"
   },
   {
    "duration": 6,
    "start_time": "2022-01-10T20:10:17.708Z"
   },
   {
    "duration": 16,
    "start_time": "2022-01-10T20:10:28.408Z"
   },
   {
    "duration": 5,
    "start_time": "2022-01-10T20:22:02.467Z"
   },
   {
    "duration": 5,
    "start_time": "2022-01-10T20:22:20.781Z"
   },
   {
    "duration": 1403,
    "start_time": "2022-01-10T20:22:27.887Z"
   },
   {
    "duration": 22,
    "start_time": "2022-01-10T20:22:29.293Z"
   },
   {
    "duration": 24,
    "start_time": "2022-01-10T20:22:29.319Z"
   },
   {
    "duration": 32,
    "start_time": "2022-01-10T20:22:29.346Z"
   },
   {
    "duration": 10,
    "start_time": "2022-01-10T20:22:29.381Z"
   },
   {
    "duration": 8,
    "start_time": "2022-01-10T20:22:29.394Z"
   },
   {
    "duration": 9,
    "start_time": "2022-01-10T20:22:29.405Z"
   },
   {
    "duration": 10,
    "start_time": "2022-01-10T20:22:29.467Z"
   },
   {
    "duration": 7,
    "start_time": "2022-01-10T20:22:29.481Z"
   },
   {
    "duration": 12,
    "start_time": "2022-01-10T20:22:29.491Z"
   },
   {
    "duration": 9,
    "start_time": "2022-01-10T20:22:29.506Z"
   },
   {
    "duration": 47,
    "start_time": "2022-01-10T20:22:29.519Z"
   },
   {
    "duration": 15,
    "start_time": "2022-01-10T20:22:29.570Z"
   },
   {
    "duration": 6,
    "start_time": "2022-01-10T20:22:29.664Z"
   },
   {
    "duration": 201,
    "start_time": "2022-01-10T20:22:29.674Z"
   },
   {
    "duration": 185,
    "start_time": "2022-01-10T20:22:29.878Z"
   },
   {
    "duration": 100,
    "start_time": "2022-01-10T20:22:30.068Z"
   },
   {
    "duration": 1494,
    "start_time": "2022-01-10T20:23:14.616Z"
   },
   {
    "duration": 24,
    "start_time": "2022-01-10T20:23:16.113Z"
   },
   {
    "duration": 30,
    "start_time": "2022-01-10T20:23:16.140Z"
   },
   {
    "duration": 17,
    "start_time": "2022-01-10T20:23:16.173Z"
   },
   {
    "duration": 9,
    "start_time": "2022-01-10T20:23:16.193Z"
   },
   {
    "duration": 7,
    "start_time": "2022-01-10T20:23:16.205Z"
   },
   {
    "duration": 53,
    "start_time": "2022-01-10T20:23:16.215Z"
   },
   {
    "duration": 6,
    "start_time": "2022-01-10T20:23:16.272Z"
   },
   {
    "duration": 7,
    "start_time": "2022-01-10T20:23:16.282Z"
   },
   {
    "duration": 10,
    "start_time": "2022-01-10T20:23:16.292Z"
   },
   {
    "duration": 5,
    "start_time": "2022-01-10T20:23:16.305Z"
   },
   {
    "duration": 6,
    "start_time": "2022-01-10T20:23:16.362Z"
   },
   {
    "duration": 8,
    "start_time": "2022-01-10T20:23:16.370Z"
   },
   {
    "duration": 6,
    "start_time": "2022-01-10T20:23:16.382Z"
   },
   {
    "duration": 87,
    "start_time": "2022-01-10T20:23:16.391Z"
   },
   {
    "duration": 198,
    "start_time": "2022-01-10T20:23:16.567Z"
   },
   {
    "duration": 96,
    "start_time": "2022-01-10T20:23:16.768Z"
   },
   {
    "duration": 4,
    "start_time": "2022-01-10T20:24:54.311Z"
   },
   {
    "duration": 5,
    "start_time": "2022-01-10T20:24:55.375Z"
   },
   {
    "duration": 4,
    "start_time": "2022-01-10T20:25:02.903Z"
   },
   {
    "duration": 6,
    "start_time": "2022-01-10T20:25:03.373Z"
   },
   {
    "duration": 1508,
    "start_time": "2022-01-10T20:25:43.796Z"
   },
   {
    "duration": 26,
    "start_time": "2022-01-10T20:25:45.308Z"
   },
   {
    "duration": 34,
    "start_time": "2022-01-10T20:25:45.338Z"
   },
   {
    "duration": 19,
    "start_time": "2022-01-10T20:25:45.376Z"
   },
   {
    "duration": 12,
    "start_time": "2022-01-10T20:25:45.398Z"
   },
   {
    "duration": 11,
    "start_time": "2022-01-10T20:25:45.413Z"
   },
   {
    "duration": 11,
    "start_time": "2022-01-10T20:25:45.464Z"
   },
   {
    "duration": 7,
    "start_time": "2022-01-10T20:25:45.478Z"
   },
   {
    "duration": 7,
    "start_time": "2022-01-10T20:25:45.490Z"
   },
   {
    "duration": 10,
    "start_time": "2022-01-10T20:25:45.501Z"
   },
   {
    "duration": 53,
    "start_time": "2022-01-10T20:25:45.513Z"
   },
   {
    "duration": 6,
    "start_time": "2022-01-10T20:25:45.569Z"
   },
   {
    "duration": 9,
    "start_time": "2022-01-10T20:25:45.578Z"
   },
   {
    "duration": 73,
    "start_time": "2022-01-10T20:25:45.591Z"
   },
   {
    "duration": 104,
    "start_time": "2022-01-10T20:25:45.668Z"
   },
   {
    "duration": 186,
    "start_time": "2022-01-10T20:25:45.778Z"
   },
   {
    "duration": 97,
    "start_time": "2022-01-10T20:25:45.968Z"
   },
   {
    "duration": 19,
    "start_time": "2022-01-10T20:27:33.031Z"
   },
   {
    "duration": 15,
    "start_time": "2022-01-10T20:28:00.223Z"
   },
   {
    "duration": 26,
    "start_time": "2022-01-10T20:28:20.953Z"
   },
   {
    "duration": 21,
    "start_time": "2022-01-10T20:29:00.010Z"
   },
   {
    "duration": 19,
    "start_time": "2022-01-10T20:29:36.976Z"
   },
   {
    "duration": 13,
    "start_time": "2022-01-10T20:36:01.139Z"
   },
   {
    "duration": 1399,
    "start_time": "2022-01-10T20:37:08.430Z"
   },
   {
    "duration": 22,
    "start_time": "2022-01-10T20:37:09.832Z"
   },
   {
    "duration": 20,
    "start_time": "2022-01-10T20:37:09.858Z"
   },
   {
    "duration": 30,
    "start_time": "2022-01-10T20:37:09.880Z"
   },
   {
    "duration": 11,
    "start_time": "2022-01-10T20:37:09.913Z"
   },
   {
    "duration": 36,
    "start_time": "2022-01-10T20:37:09.927Z"
   },
   {
    "duration": 11,
    "start_time": "2022-01-10T20:37:09.966Z"
   },
   {
    "duration": 6,
    "start_time": "2022-01-10T20:37:09.980Z"
   },
   {
    "duration": 43,
    "start_time": "2022-01-10T20:37:09.990Z"
   },
   {
    "duration": 22,
    "start_time": "2022-01-10T20:37:10.036Z"
   },
   {
    "duration": 7,
    "start_time": "2022-01-10T20:37:10.061Z"
   },
   {
    "duration": 13,
    "start_time": "2022-01-10T20:37:10.071Z"
   },
   {
    "duration": 23,
    "start_time": "2022-01-10T20:37:10.087Z"
   },
   {
    "duration": 52,
    "start_time": "2022-01-10T20:37:10.113Z"
   },
   {
    "duration": 207,
    "start_time": "2022-01-10T20:37:10.169Z"
   },
   {
    "duration": 96,
    "start_time": "2022-01-10T20:37:10.380Z"
   },
   {
    "duration": 16,
    "start_time": "2022-01-10T20:37:10.564Z"
   },
   {
    "duration": 16,
    "start_time": "2022-01-10T20:37:10.583Z"
   },
   {
    "duration": 1447,
    "start_time": "2022-01-10T21:28:55.933Z"
   },
   {
    "duration": 21,
    "start_time": "2022-01-10T21:28:57.383Z"
   },
   {
    "duration": 17,
    "start_time": "2022-01-10T21:28:57.407Z"
   },
   {
    "duration": 18,
    "start_time": "2022-01-10T21:28:57.426Z"
   },
   {
    "duration": 9,
    "start_time": "2022-01-10T21:28:57.463Z"
   },
   {
    "duration": 11,
    "start_time": "2022-01-10T21:28:57.475Z"
   },
   {
    "duration": 8,
    "start_time": "2022-01-10T21:28:57.488Z"
   },
   {
    "duration": 5,
    "start_time": "2022-01-10T21:28:57.501Z"
   },
   {
    "duration": 7,
    "start_time": "2022-01-10T21:28:57.509Z"
   },
   {
    "duration": 49,
    "start_time": "2022-01-10T21:28:57.519Z"
   },
   {
    "duration": 4,
    "start_time": "2022-01-10T21:28:57.571Z"
   },
   {
    "duration": 6,
    "start_time": "2022-01-10T21:28:57.577Z"
   },
   {
    "duration": 6,
    "start_time": "2022-01-10T21:28:57.586Z"
   },
   {
    "duration": 70,
    "start_time": "2022-01-10T21:28:57.595Z"
   },
   {
    "duration": 104,
    "start_time": "2022-01-10T21:28:57.668Z"
   },
   {
    "duration": 429,
    "start_time": "2022-01-10T21:28:57.864Z"
   },
   {
    "duration": 438,
    "start_time": "2022-01-10T21:28:57.857Z"
   },
   {
    "duration": 439,
    "start_time": "2022-01-10T21:28:57.858Z"
   },
   {
    "duration": 99,
    "start_time": "2022-01-10T21:29:37.367Z"
   },
   {
    "duration": 12,
    "start_time": "2022-01-10T21:30:41.340Z"
   },
   {
    "duration": 9,
    "start_time": "2022-01-10T21:30:42.224Z"
   },
   {
    "duration": 1309,
    "start_time": "2022-01-10T21:30:47.772Z"
   },
   {
    "duration": 22,
    "start_time": "2022-01-10T21:30:49.084Z"
   },
   {
    "duration": 17,
    "start_time": "2022-01-10T21:30:49.109Z"
   },
   {
    "duration": 13,
    "start_time": "2022-01-10T21:30:49.129Z"
   },
   {
    "duration": 9,
    "start_time": "2022-01-10T21:30:49.163Z"
   },
   {
    "duration": 7,
    "start_time": "2022-01-10T21:30:49.174Z"
   },
   {
    "duration": 11,
    "start_time": "2022-01-10T21:30:49.184Z"
   },
   {
    "duration": 5,
    "start_time": "2022-01-10T21:30:49.200Z"
   },
   {
    "duration": 54,
    "start_time": "2022-01-10T21:30:49.209Z"
   },
   {
    "duration": 10,
    "start_time": "2022-01-10T21:30:49.266Z"
   },
   {
    "duration": 5,
    "start_time": "2022-01-10T21:30:49.279Z"
   },
   {
    "duration": 7,
    "start_time": "2022-01-10T21:30:49.287Z"
   },
   {
    "duration": 73,
    "start_time": "2022-01-10T21:30:49.297Z"
   },
   {
    "duration": 7,
    "start_time": "2022-01-10T21:30:49.373Z"
   },
   {
    "duration": 100,
    "start_time": "2022-01-10T21:30:49.383Z"
   },
   {
    "duration": 197,
    "start_time": "2022-01-10T21:30:49.566Z"
   },
   {
    "duration": 96,
    "start_time": "2022-01-10T21:30:49.766Z"
   },
   {
    "duration": 16,
    "start_time": "2022-01-10T21:30:49.865Z"
   },
   {
    "duration": 11,
    "start_time": "2022-01-10T21:30:49.883Z"
   },
   {
    "duration": 1460,
    "start_time": "2022-01-10T21:42:02.242Z"
   },
   {
    "duration": 22,
    "start_time": "2022-01-10T21:42:03.705Z"
   },
   {
    "duration": 17,
    "start_time": "2022-01-10T21:42:03.730Z"
   },
   {
    "duration": 28,
    "start_time": "2022-01-10T21:42:03.749Z"
   },
   {
    "duration": 12,
    "start_time": "2022-01-10T21:42:03.779Z"
   },
   {
    "duration": 19,
    "start_time": "2022-01-10T21:42:03.794Z"
   },
   {
    "duration": 25,
    "start_time": "2022-01-10T21:42:03.815Z"
   },
   {
    "duration": 24,
    "start_time": "2022-01-10T21:42:03.844Z"
   },
   {
    "duration": 31,
    "start_time": "2022-01-10T21:42:03.871Z"
   },
   {
    "duration": 41,
    "start_time": "2022-01-10T21:42:03.904Z"
   },
   {
    "duration": 35,
    "start_time": "2022-01-10T21:42:03.947Z"
   },
   {
    "duration": 48,
    "start_time": "2022-01-10T21:42:03.984Z"
   },
   {
    "duration": 50,
    "start_time": "2022-01-10T21:42:04.034Z"
   },
   {
    "duration": 19,
    "start_time": "2022-01-10T21:42:04.087Z"
   },
   {
    "duration": 218,
    "start_time": "2022-01-10T21:42:04.164Z"
   },
   {
    "duration": 80,
    "start_time": "2022-01-10T21:42:04.385Z"
   },
   {
    "duration": 103,
    "start_time": "2022-01-10T21:42:04.473Z"
   },
   {
    "duration": 15,
    "start_time": "2022-01-10T21:42:04.579Z"
   },
   {
    "duration": 10,
    "start_time": "2022-01-10T21:42:04.597Z"
   },
   {
    "duration": 1343,
    "start_time": "2022-01-10T21:44:32.621Z"
   },
   {
    "duration": 22,
    "start_time": "2022-01-10T21:44:33.968Z"
   },
   {
    "duration": 18,
    "start_time": "2022-01-10T21:44:33.997Z"
   },
   {
    "duration": 14,
    "start_time": "2022-01-10T21:44:34.018Z"
   },
   {
    "duration": 34,
    "start_time": "2022-01-10T21:44:34.034Z"
   },
   {
    "duration": 7,
    "start_time": "2022-01-10T21:44:34.071Z"
   },
   {
    "duration": 9,
    "start_time": "2022-01-10T21:44:34.082Z"
   },
   {
    "duration": 5,
    "start_time": "2022-01-10T21:44:34.094Z"
   },
   {
    "duration": 6,
    "start_time": "2022-01-10T21:44:34.101Z"
   },
   {
    "duration": 56,
    "start_time": "2022-01-10T21:44:34.109Z"
   },
   {
    "duration": 5,
    "start_time": "2022-01-10T21:44:34.168Z"
   },
   {
    "duration": 6,
    "start_time": "2022-01-10T21:44:34.175Z"
   },
   {
    "duration": 7,
    "start_time": "2022-01-10T21:44:34.184Z"
   },
   {
    "duration": 69,
    "start_time": "2022-01-10T21:44:34.194Z"
   },
   {
    "duration": 95,
    "start_time": "2022-01-10T21:44:34.268Z"
   },
   {
    "duration": 97,
    "start_time": "2022-01-10T21:44:34.371Z"
   },
   {
    "duration": 103,
    "start_time": "2022-01-10T21:44:34.472Z"
   },
   {
    "duration": 22,
    "start_time": "2022-01-10T21:44:34.664Z"
   },
   {
    "duration": 13,
    "start_time": "2022-01-10T21:44:34.689Z"
   },
   {
    "duration": 1330,
    "start_time": "2022-01-10T21:45:27.647Z"
   },
   {
    "duration": 22,
    "start_time": "2022-01-10T21:45:28.979Z"
   },
   {
    "duration": 17,
    "start_time": "2022-01-10T21:45:29.004Z"
   },
   {
    "duration": 16,
    "start_time": "2022-01-10T21:45:29.023Z"
   },
   {
    "duration": 28,
    "start_time": "2022-01-10T21:45:29.041Z"
   },
   {
    "duration": 8,
    "start_time": "2022-01-10T21:45:29.072Z"
   },
   {
    "duration": 8,
    "start_time": "2022-01-10T21:45:29.083Z"
   },
   {
    "duration": 4,
    "start_time": "2022-01-10T21:45:29.095Z"
   },
   {
    "duration": 7,
    "start_time": "2022-01-10T21:45:29.102Z"
   },
   {
    "duration": 7,
    "start_time": "2022-01-10T21:45:29.112Z"
   },
   {
    "duration": 45,
    "start_time": "2022-01-10T21:45:29.121Z"
   },
   {
    "duration": 7,
    "start_time": "2022-01-10T21:45:29.169Z"
   },
   {
    "duration": 9,
    "start_time": "2022-01-10T21:45:29.178Z"
   },
   {
    "duration": 72,
    "start_time": "2022-01-10T21:45:29.191Z"
   },
   {
    "duration": 97,
    "start_time": "2022-01-10T21:45:29.266Z"
   },
   {
    "duration": 104,
    "start_time": "2022-01-10T21:45:29.367Z"
   },
   {
    "duration": 193,
    "start_time": "2022-01-10T21:45:29.475Z"
   },
   {
    "duration": 15,
    "start_time": "2022-01-10T21:45:29.670Z"
   },
   {
    "duration": 12,
    "start_time": "2022-01-10T21:45:29.687Z"
   },
   {
    "duration": 1322,
    "start_time": "2022-01-11T08:33:03.562Z"
   },
   {
    "duration": 18,
    "start_time": "2022-01-11T08:33:04.887Z"
   },
   {
    "duration": 16,
    "start_time": "2022-01-11T08:33:04.908Z"
   },
   {
    "duration": 15,
    "start_time": "2022-01-11T08:33:04.927Z"
   },
   {
    "duration": 28,
    "start_time": "2022-01-11T08:33:04.945Z"
   },
   {
    "duration": 10,
    "start_time": "2022-01-11T08:33:04.976Z"
   },
   {
    "duration": 9,
    "start_time": "2022-01-11T08:33:04.989Z"
   },
   {
    "duration": 5,
    "start_time": "2022-01-11T08:33:05.002Z"
   },
   {
    "duration": 7,
    "start_time": "2022-01-11T08:33:05.010Z"
   },
   {
    "duration": 50,
    "start_time": "2022-01-11T08:33:05.020Z"
   },
   {
    "duration": 5,
    "start_time": "2022-01-11T08:33:05.072Z"
   },
   {
    "duration": 9,
    "start_time": "2022-01-11T08:33:05.079Z"
   },
   {
    "duration": 12,
    "start_time": "2022-01-11T08:33:05.090Z"
   },
   {
    "duration": 64,
    "start_time": "2022-01-11T08:33:05.105Z"
   },
   {
    "duration": 103,
    "start_time": "2022-01-11T08:33:05.173Z"
   },
   {
    "duration": 12,
    "start_time": "2022-01-11T08:33:05.368Z"
   },
   {
    "duration": 101,
    "start_time": "2022-01-11T08:33:05.470Z"
   },
   {
    "duration": 18,
    "start_time": "2022-01-11T08:33:05.574Z"
   },
   {
    "duration": 14,
    "start_time": "2022-01-11T08:33:05.595Z"
   },
   {
    "duration": 4,
    "start_time": "2022-01-11T08:36:14.896Z"
   },
   {
    "duration": 1291,
    "start_time": "2022-01-11T08:36:24.226Z"
   },
   {
    "duration": 21,
    "start_time": "2022-01-11T08:36:25.520Z"
   },
   {
    "duration": 25,
    "start_time": "2022-01-11T08:36:25.545Z"
   },
   {
    "duration": 16,
    "start_time": "2022-01-11T08:36:25.574Z"
   },
   {
    "duration": 31,
    "start_time": "2022-01-11T08:36:25.593Z"
   },
   {
    "duration": 9,
    "start_time": "2022-01-11T08:36:25.626Z"
   },
   {
    "duration": 33,
    "start_time": "2022-01-11T08:36:25.638Z"
   },
   {
    "duration": 5,
    "start_time": "2022-01-11T08:36:25.675Z"
   },
   {
    "duration": 7,
    "start_time": "2022-01-11T08:36:25.683Z"
   },
   {
    "duration": 8,
    "start_time": "2022-01-11T08:36:25.693Z"
   },
   {
    "duration": 8,
    "start_time": "2022-01-11T08:36:25.704Z"
   },
   {
    "duration": 10,
    "start_time": "2022-01-11T08:36:25.715Z"
   },
   {
    "duration": 47,
    "start_time": "2022-01-11T08:36:25.727Z"
   },
   {
    "duration": 14,
    "start_time": "2022-01-11T08:36:25.777Z"
   },
   {
    "duration": 5,
    "start_time": "2022-01-11T08:36:25.868Z"
   },
   {
    "duration": 1056,
    "start_time": "2022-01-11T08:36:25.875Z"
   },
   {
    "duration": -999,
    "start_time": "2022-01-11T08:36:27.933Z"
   },
   {
    "duration": -1003,
    "start_time": "2022-01-11T08:36:27.938Z"
   },
   {
    "duration": -1006,
    "start_time": "2022-01-11T08:36:27.943Z"
   },
   {
    "duration": -1009,
    "start_time": "2022-01-11T08:36:27.947Z"
   },
   {
    "duration": 1351,
    "start_time": "2022-01-11T08:37:30.045Z"
   },
   {
    "duration": 19,
    "start_time": "2022-01-11T08:37:31.398Z"
   },
   {
    "duration": 24,
    "start_time": "2022-01-11T08:37:31.421Z"
   },
   {
    "duration": 28,
    "start_time": "2022-01-11T08:37:31.447Z"
   },
   {
    "duration": 13,
    "start_time": "2022-01-11T08:37:31.478Z"
   },
   {
    "duration": 17,
    "start_time": "2022-01-11T08:37:31.493Z"
   },
   {
    "duration": 13,
    "start_time": "2022-01-11T08:37:31.513Z"
   },
   {
    "duration": 8,
    "start_time": "2022-01-11T08:37:31.529Z"
   },
   {
    "duration": 7,
    "start_time": "2022-01-11T08:37:31.566Z"
   },
   {
    "duration": 19,
    "start_time": "2022-01-11T08:37:31.575Z"
   },
   {
    "duration": 11,
    "start_time": "2022-01-11T08:37:31.596Z"
   },
   {
    "duration": 14,
    "start_time": "2022-01-11T08:37:31.609Z"
   },
   {
    "duration": 43,
    "start_time": "2022-01-11T08:37:31.625Z"
   },
   {
    "duration": 13,
    "start_time": "2022-01-11T08:37:31.671Z"
   },
   {
    "duration": 97,
    "start_time": "2022-01-11T08:37:31.687Z"
   },
   {
    "duration": 99,
    "start_time": "2022-01-11T08:37:31.881Z"
   },
   {
    "duration": 103,
    "start_time": "2022-01-11T08:37:32.066Z"
   },
   {
    "duration": 17,
    "start_time": "2022-01-11T08:37:32.172Z"
   },
   {
    "duration": 12,
    "start_time": "2022-01-11T08:37:32.191Z"
   },
   {
    "duration": 11,
    "start_time": "2022-01-11T08:38:27.206Z"
   },
   {
    "duration": 1366,
    "start_time": "2022-01-11T08:39:15.623Z"
   },
   {
    "duration": 21,
    "start_time": "2022-01-11T08:39:16.993Z"
   },
   {
    "duration": 19,
    "start_time": "2022-01-11T08:39:17.018Z"
   },
   {
    "duration": 37,
    "start_time": "2022-01-11T08:39:17.040Z"
   },
   {
    "duration": 11,
    "start_time": "2022-01-11T08:39:17.080Z"
   },
   {
    "duration": 8,
    "start_time": "2022-01-11T08:39:17.094Z"
   },
   {
    "duration": 9,
    "start_time": "2022-01-11T08:39:17.104Z"
   },
   {
    "duration": 5,
    "start_time": "2022-01-11T08:39:17.166Z"
   },
   {
    "duration": 7,
    "start_time": "2022-01-11T08:39:17.174Z"
   },
   {
    "duration": 25,
    "start_time": "2022-01-11T08:39:17.184Z"
   },
   {
    "duration": 7,
    "start_time": "2022-01-11T08:39:17.211Z"
   },
   {
    "duration": 11,
    "start_time": "2022-01-11T08:39:17.221Z"
   },
   {
    "duration": 34,
    "start_time": "2022-01-11T08:39:17.234Z"
   },
   {
    "duration": 4,
    "start_time": "2022-01-11T08:39:17.271Z"
   },
   {
    "duration": 102,
    "start_time": "2022-01-11T08:39:17.278Z"
   },
   {
    "duration": 100,
    "start_time": "2022-01-11T08:39:17.469Z"
   },
   {
    "duration": -734,
    "start_time": "2022-01-11T08:39:18.306Z"
   },
   {
    "duration": -744,
    "start_time": "2022-01-11T08:39:18.317Z"
   },
   {
    "duration": -747,
    "start_time": "2022-01-11T08:39:18.321Z"
   },
   {
    "duration": -748,
    "start_time": "2022-01-11T08:39:18.324Z"
   },
   {
    "duration": 1551,
    "start_time": "2022-01-11T08:39:36.148Z"
   },
   {
    "duration": 19,
    "start_time": "2022-01-11T08:39:37.701Z"
   },
   {
    "duration": 18,
    "start_time": "2022-01-11T08:39:37.724Z"
   },
   {
    "duration": 32,
    "start_time": "2022-01-11T08:39:37.744Z"
   },
   {
    "duration": 9,
    "start_time": "2022-01-11T08:39:37.779Z"
   },
   {
    "duration": 7,
    "start_time": "2022-01-11T08:39:37.791Z"
   },
   {
    "duration": 9,
    "start_time": "2022-01-11T08:39:37.801Z"
   },
   {
    "duration": 6,
    "start_time": "2022-01-11T08:39:37.814Z"
   },
   {
    "duration": 6,
    "start_time": "2022-01-11T08:39:37.866Z"
   },
   {
    "duration": 12,
    "start_time": "2022-01-11T08:39:37.875Z"
   },
   {
    "duration": 4,
    "start_time": "2022-01-11T08:39:37.889Z"
   },
   {
    "duration": 10,
    "start_time": "2022-01-11T08:39:37.896Z"
   },
   {
    "duration": 10,
    "start_time": "2022-01-11T08:39:37.908Z"
   },
   {
    "duration": 56,
    "start_time": "2022-01-11T08:39:37.920Z"
   },
   {
    "duration": 189,
    "start_time": "2022-01-11T08:39:37.979Z"
   },
   {
    "duration": 101,
    "start_time": "2022-01-11T08:39:38.172Z"
   },
   {
    "duration": 98,
    "start_time": "2022-01-11T08:39:38.276Z"
   },
   {
    "duration": 56,
    "start_time": "2022-01-11T08:39:38.479Z"
   },
   {
    "duration": 19,
    "start_time": "2022-01-11T08:39:38.547Z"
   },
   {
    "duration": 15,
    "start_time": "2022-01-11T08:41:14.163Z"
   },
   {
    "duration": 1443,
    "start_time": "2022-01-11T08:41:28.738Z"
   },
   {
    "duration": 21,
    "start_time": "2022-01-11T08:41:30.185Z"
   },
   {
    "duration": 27,
    "start_time": "2022-01-11T08:41:30.210Z"
   },
   {
    "duration": 32,
    "start_time": "2022-01-11T08:41:30.242Z"
   },
   {
    "duration": 15,
    "start_time": "2022-01-11T08:41:30.277Z"
   },
   {
    "duration": 8,
    "start_time": "2022-01-11T08:41:30.295Z"
   },
   {
    "duration": 21,
    "start_time": "2022-01-11T08:41:30.306Z"
   },
   {
    "duration": 36,
    "start_time": "2022-01-11T08:41:30.331Z"
   },
   {
    "duration": 25,
    "start_time": "2022-01-11T08:41:30.371Z"
   },
   {
    "duration": 28,
    "start_time": "2022-01-11T08:41:30.399Z"
   },
   {
    "duration": 14,
    "start_time": "2022-01-11T08:41:30.430Z"
   },
   {
    "duration": 10,
    "start_time": "2022-01-11T08:41:30.447Z"
   },
   {
    "duration": 15,
    "start_time": "2022-01-11T08:41:30.460Z"
   },
   {
    "duration": 9,
    "start_time": "2022-01-11T08:41:30.479Z"
   },
   {
    "duration": 177,
    "start_time": "2022-01-11T08:41:30.491Z"
   },
   {
    "duration": 100,
    "start_time": "2022-01-11T08:41:30.672Z"
   },
   {
    "duration": 99,
    "start_time": "2022-01-11T08:41:30.776Z"
   },
   {
    "duration": 20,
    "start_time": "2022-01-11T08:41:30.968Z"
   },
   {
    "duration": 16,
    "start_time": "2022-01-11T08:41:30.990Z"
   },
   {
    "duration": 83,
    "start_time": "2022-01-11T08:44:52.354Z"
   },
   {
    "duration": 978,
    "start_time": "2022-01-11T08:45:04.920Z"
   },
   {
    "duration": 13,
    "start_time": "2022-01-11T08:46:40.783Z"
   },
   {
    "duration": 11,
    "start_time": "2022-01-11T08:46:48.359Z"
   },
   {
    "duration": 24,
    "start_time": "2022-01-11T08:47:13.644Z"
   },
   {
    "duration": 1441,
    "start_time": "2022-01-11T08:47:36.447Z"
   },
   {
    "duration": 21,
    "start_time": "2022-01-11T08:47:37.891Z"
   },
   {
    "duration": 17,
    "start_time": "2022-01-11T08:47:37.915Z"
   },
   {
    "duration": 34,
    "start_time": "2022-01-11T08:47:37.935Z"
   },
   {
    "duration": 9,
    "start_time": "2022-01-11T08:47:37.971Z"
   },
   {
    "duration": 8,
    "start_time": "2022-01-11T08:47:37.983Z"
   },
   {
    "duration": 9,
    "start_time": "2022-01-11T08:47:37.993Z"
   },
   {
    "duration": 5,
    "start_time": "2022-01-11T08:47:38.007Z"
   },
   {
    "duration": 54,
    "start_time": "2022-01-11T08:47:38.015Z"
   },
   {
    "duration": 9,
    "start_time": "2022-01-11T08:47:38.071Z"
   },
   {
    "duration": 6,
    "start_time": "2022-01-11T08:47:38.082Z"
   },
   {
    "duration": 10,
    "start_time": "2022-01-11T08:47:38.090Z"
   },
   {
    "duration": 13,
    "start_time": "2022-01-11T08:47:38.102Z"
   },
   {
    "duration": 53,
    "start_time": "2022-01-11T08:47:38.117Z"
   },
   {
    "duration": 201,
    "start_time": "2022-01-11T08:47:38.173Z"
   },
   {
    "duration": 100,
    "start_time": "2022-01-11T08:47:38.379Z"
   },
   {
    "duration": 100,
    "start_time": "2022-01-11T08:47:38.568Z"
   },
   {
    "duration": 16,
    "start_time": "2022-01-11T08:47:38.670Z"
   },
   {
    "duration": 12,
    "start_time": "2022-01-11T08:47:38.688Z"
   },
   {
    "duration": 1435,
    "start_time": "2022-01-11T08:48:41.267Z"
   },
   {
    "duration": 20,
    "start_time": "2022-01-11T08:48:42.705Z"
   },
   {
    "duration": 19,
    "start_time": "2022-01-11T08:48:42.729Z"
   },
   {
    "duration": 29,
    "start_time": "2022-01-11T08:48:42.751Z"
   },
   {
    "duration": 13,
    "start_time": "2022-01-11T08:48:42.782Z"
   },
   {
    "duration": 7,
    "start_time": "2022-01-11T08:48:42.798Z"
   },
   {
    "duration": 8,
    "start_time": "2022-01-11T08:48:42.808Z"
   },
   {
    "duration": 5,
    "start_time": "2022-01-11T08:48:42.818Z"
   },
   {
    "duration": 5,
    "start_time": "2022-01-11T08:48:42.868Z"
   },
   {
    "duration": 9,
    "start_time": "2022-01-11T08:48:42.876Z"
   },
   {
    "duration": 8,
    "start_time": "2022-01-11T08:48:42.887Z"
   },
   {
    "duration": 10,
    "start_time": "2022-01-11T08:48:42.898Z"
   },
   {
    "duration": 11,
    "start_time": "2022-01-11T08:48:42.910Z"
   },
   {
    "duration": 13,
    "start_time": "2022-01-11T08:48:42.969Z"
   },
   {
    "duration": 95,
    "start_time": "2022-01-11T08:48:42.985Z"
   },
   {
    "duration": 108,
    "start_time": "2022-01-11T08:48:43.169Z"
   },
   {
    "duration": 92,
    "start_time": "2022-01-11T08:48:43.280Z"
   },
   {
    "duration": 100,
    "start_time": "2022-01-11T08:48:43.376Z"
   },
   {
    "duration": 12,
    "start_time": "2022-01-11T08:48:43.479Z"
   },
   {
    "duration": 1389,
    "start_time": "2022-01-11T09:09:16.137Z"
   },
   {
    "duration": 77,
    "start_time": "2022-01-11T09:09:17.529Z"
   },
   {
    "duration": 18,
    "start_time": "2022-01-11T09:09:18.307Z"
   },
   {
    "duration": 15,
    "start_time": "2022-01-11T09:09:18.897Z"
   },
   {
    "duration": 9,
    "start_time": "2022-01-11T09:09:19.369Z"
   },
   {
    "duration": 8,
    "start_time": "2022-01-11T09:09:20.290Z"
   },
   {
    "duration": 8,
    "start_time": "2022-01-11T09:09:20.500Z"
   },
   {
    "duration": 5,
    "start_time": "2022-01-11T09:14:17.906Z"
   },
   {
    "duration": 5,
    "start_time": "2022-01-11T09:14:18.761Z"
   },
   {
    "duration": 10,
    "start_time": "2022-01-11T09:14:20.085Z"
   },
   {
    "duration": 4,
    "start_time": "2022-01-11T09:14:20.545Z"
   },
   {
    "duration": 5,
    "start_time": "2022-01-11T09:14:21.767Z"
   },
   {
    "duration": 7,
    "start_time": "2022-01-11T09:14:22.131Z"
   },
   {
    "duration": 6,
    "start_time": "2022-01-11T09:14:50.014Z"
   },
   {
    "duration": 185,
    "start_time": "2022-01-11T09:14:50.276Z"
   },
   {
    "duration": 31,
    "start_time": "2022-01-11T09:14:53.733Z"
   },
   {
    "duration": 10,
    "start_time": "2022-01-11T09:14:58.333Z"
   },
   {
    "duration": 16,
    "start_time": "2022-01-11T09:15:03.783Z"
   },
   {
    "duration": 23,
    "start_time": "2022-01-11T09:15:04.050Z"
   },
   {
    "duration": 1320,
    "start_time": "2022-02-01T20:17:00.087Z"
   },
   {
    "duration": 47,
    "start_time": "2022-02-01T20:17:01.410Z"
   },
   {
    "duration": 19,
    "start_time": "2022-02-01T20:17:01.461Z"
   },
   {
    "duration": 17,
    "start_time": "2022-02-01T20:17:01.483Z"
   },
   {
    "duration": 20,
    "start_time": "2022-02-01T20:17:01.502Z"
   },
   {
    "duration": 15,
    "start_time": "2022-02-01T20:17:01.524Z"
   },
   {
    "duration": 17,
    "start_time": "2022-02-01T20:17:01.542Z"
   },
   {
    "duration": 31,
    "start_time": "2022-02-01T20:17:01.562Z"
   },
   {
    "duration": 11,
    "start_time": "2022-02-01T20:17:01.596Z"
   },
   {
    "duration": 21,
    "start_time": "2022-02-01T20:17:01.610Z"
   },
   {
    "duration": 20,
    "start_time": "2022-02-01T20:17:01.634Z"
   },
   {
    "duration": 12,
    "start_time": "2022-02-01T20:17:01.657Z"
   },
   {
    "duration": 61,
    "start_time": "2022-02-01T20:17:01.672Z"
   },
   {
    "duration": 105,
    "start_time": "2022-02-01T20:17:01.736Z"
   },
   {
    "duration": 200,
    "start_time": "2022-02-01T20:17:01.846Z"
   },
   {
    "duration": 92,
    "start_time": "2022-02-01T20:17:02.049Z"
   },
   {
    "duration": 20,
    "start_time": "2022-02-01T20:17:02.144Z"
   },
   {
    "duration": 16,
    "start_time": "2022-02-01T20:17:02.168Z"
   },
   {
    "duration": 1517,
    "start_time": "2022-02-01T20:21:16.029Z"
   },
   {
    "duration": 20,
    "start_time": "2022-02-01T20:21:17.548Z"
   },
   {
    "duration": 19,
    "start_time": "2022-02-01T20:21:17.572Z"
   },
   {
    "duration": 14,
    "start_time": "2022-02-01T20:21:17.593Z"
   },
   {
    "duration": 30,
    "start_time": "2022-02-01T20:21:17.609Z"
   },
   {
    "duration": 8,
    "start_time": "2022-02-01T20:21:17.641Z"
   },
   {
    "duration": 6,
    "start_time": "2022-02-01T20:21:17.651Z"
   },
   {
    "duration": 16,
    "start_time": "2022-02-01T20:21:17.661Z"
   },
   {
    "duration": 12,
    "start_time": "2022-02-01T20:21:17.680Z"
   },
   {
    "duration": 40,
    "start_time": "2022-02-01T20:21:17.694Z"
   },
   {
    "duration": 13,
    "start_time": "2022-02-01T20:21:17.736Z"
   },
   {
    "duration": 8,
    "start_time": "2022-02-01T20:21:17.752Z"
   },
   {
    "duration": 71,
    "start_time": "2022-02-01T20:21:17.762Z"
   },
   {
    "duration": 108,
    "start_time": "2022-02-01T20:21:17.837Z"
   },
   {
    "duration": 104,
    "start_time": "2022-02-01T20:21:17.948Z"
   },
   {
    "duration": 94,
    "start_time": "2022-02-01T20:21:18.056Z"
   },
   {
    "duration": 98,
    "start_time": "2022-02-01T20:21:18.155Z"
   },
   {
    "duration": 15,
    "start_time": "2022-02-01T20:21:18.256Z"
   }
  ],
  "kernelspec": {
   "display_name": "Python 3",
   "language": "python",
   "name": "python3"
  },
  "language_info": {
   "codemirror_mode": {
    "name": "ipython",
    "version": 3
   },
   "file_extension": ".py",
   "mimetype": "text/x-python",
   "name": "python",
   "nbconvert_exporter": "python",
   "pygments_lexer": "ipython3",
   "version": "3.7.8"
  },
  "toc": {
   "base_numbering": 1,
   "nav_menu": {},
   "number_sections": true,
   "sideBar": true,
   "skip_h1_title": true,
   "title_cell": "Содержание",
   "title_sidebar": "Contents",
   "toc_cell": true,
   "toc_position": {},
   "toc_section_display": true,
   "toc_window_display": true
  }
 },
 "nbformat": 4,
 "nbformat_minor": 2
}
