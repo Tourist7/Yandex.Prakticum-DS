{
 "cells": [
  {
   "cell_type": "markdown",
   "metadata": {},
   "source": [
    "# Рекомендация тарифов"
   ]
  },
  {
   "cell_type": "markdown",
   "metadata": {},
   "source": [
    "В вашем распоряжении данные о поведении клиентов, которые уже перешли на эти тарифы (из проекта курса «Статистический анализ данных»). Нужно построить модель для задачи классификации, которая выберет подходящий тариф. Предобработка данных не понадобится — вы её уже сделали.\n",
    "\n",
    "Постройте модель с максимально большим значением *accuracy*. Чтобы сдать проект успешно, нужно довести долю правильных ответов по крайней мере до 0.75. Проверьте *accuracy* на тестовой выборке самостоятельно."
   ]
  },
  {
   "cell_type": "markdown",
   "metadata": {},
   "source": [
    "## Откройте и изучите файл"
   ]
  },
  {
   "cell_type": "code",
   "execution_count": 1,
   "metadata": {},
   "outputs": [],
   "source": [
    "import pandas as pd\n",
    "from sklearn.model_selection import train_test_split\n",
    "from sklearn.ensemble import RandomForestClassifier\n",
    "from sklearn.tree import DecisionTreeClassifier\n",
    "from sklearn.metrics import accuracy_score\n",
    "from sklearn.linear_model import LogisticRegression \n",
    "from sklearn.dummy import DummyClassifier"
   ]
  },
  {
   "cell_type": "code",
   "execution_count": 2,
   "metadata": {},
   "outputs": [
    {
     "data": {
      "text/html": [
       "<div>\n",
       "<style scoped>\n",
       "    .dataframe tbody tr th:only-of-type {\n",
       "        vertical-align: middle;\n",
       "    }\n",
       "\n",
       "    .dataframe tbody tr th {\n",
       "        vertical-align: top;\n",
       "    }\n",
       "\n",
       "    .dataframe thead th {\n",
       "        text-align: right;\n",
       "    }\n",
       "</style>\n",
       "<table border=\"1\" class=\"dataframe\">\n",
       "  <thead>\n",
       "    <tr style=\"text-align: right;\">\n",
       "      <th></th>\n",
       "      <th>calls</th>\n",
       "      <th>minutes</th>\n",
       "      <th>messages</th>\n",
       "      <th>mb_used</th>\n",
       "      <th>is_ultra</th>\n",
       "    </tr>\n",
       "  </thead>\n",
       "  <tbody>\n",
       "    <tr>\n",
       "      <td>0</td>\n",
       "      <td>40.0</td>\n",
       "      <td>311.90</td>\n",
       "      <td>83.0</td>\n",
       "      <td>19915.42</td>\n",
       "      <td>0</td>\n",
       "    </tr>\n",
       "    <tr>\n",
       "      <td>1</td>\n",
       "      <td>85.0</td>\n",
       "      <td>516.75</td>\n",
       "      <td>56.0</td>\n",
       "      <td>22696.96</td>\n",
       "      <td>0</td>\n",
       "    </tr>\n",
       "    <tr>\n",
       "      <td>2</td>\n",
       "      <td>77.0</td>\n",
       "      <td>467.66</td>\n",
       "      <td>86.0</td>\n",
       "      <td>21060.45</td>\n",
       "      <td>0</td>\n",
       "    </tr>\n",
       "    <tr>\n",
       "      <td>3</td>\n",
       "      <td>106.0</td>\n",
       "      <td>745.53</td>\n",
       "      <td>81.0</td>\n",
       "      <td>8437.39</td>\n",
       "      <td>1</td>\n",
       "    </tr>\n",
       "    <tr>\n",
       "      <td>4</td>\n",
       "      <td>66.0</td>\n",
       "      <td>418.74</td>\n",
       "      <td>1.0</td>\n",
       "      <td>14502.75</td>\n",
       "      <td>0</td>\n",
       "    </tr>\n",
       "  </tbody>\n",
       "</table>\n",
       "</div>"
      ],
      "text/plain": [
       "   calls  minutes  messages   mb_used  is_ultra\n",
       "0   40.0   311.90      83.0  19915.42         0\n",
       "1   85.0   516.75      56.0  22696.96         0\n",
       "2   77.0   467.66      86.0  21060.45         0\n",
       "3  106.0   745.53      81.0   8437.39         1\n",
       "4   66.0   418.74       1.0  14502.75         0"
      ]
     },
     "metadata": {},
     "output_type": "display_data"
    },
    {
     "name": "stdout",
     "output_type": "stream",
     "text": [
      "\n",
      "<class 'pandas.core.frame.DataFrame'>\n",
      "RangeIndex: 3214 entries, 0 to 3213\n",
      "Data columns (total 5 columns):\n",
      "calls       3214 non-null float64\n",
      "minutes     3214 non-null float64\n",
      "messages    3214 non-null float64\n",
      "mb_used     3214 non-null float64\n",
      "is_ultra    3214 non-null int64\n",
      "dtypes: float64(4), int64(1)\n",
      "memory usage: 125.7 KB\n",
      "\n",
      "Index(['calls', 'minutes', 'messages', 'mb_used', 'is_ultra'], dtype='object')\n"
     ]
    }
   ],
   "source": [
    "df = pd.read_csv('/datasets/users_behavior.csv', sep=',')\n",
    "\n",
    "display(df.head())\n",
    "print()                          # разделим пустой строчкой\n",
    "df.info()                        # выводим на экран информацию о файле\n",
    "print()                          # разделим пустой строчкой\n",
    "print(df.columns)                # посмотрим правильность наименования столбцов"
   ]
  },
  {
   "cell_type": "markdown",
   "metadata": {},
   "source": [
    "Прочитав файл видим, что в нем 5 столбцов:\n",
    "- сalls — количество звонков,\n",
    "- minutes — суммарная длительность звонков в минутах,\n",
    "- messages — количество sms-сообщений,\n",
    "- mb_used — израсходованный интернет-трафик в Мб,\n",
    "- is_ultra — каким тарифом пользовался в течение месяца («Ультра» — 1, «Смарт» — 0)\n",
    "и 3214 строк.\n",
    "\n",
    "Название столбцов правильное. Тип данных в столбцах правильный."
   ]
  },
  {
   "cell_type": "raw",
   "metadata": {},
   "source": [
    "df.isnull().sum().sort_values(ascending=False)  "
   ]
  },
  {
   "cell_type": "markdown",
   "metadata": {},
   "source": [
    "Пустых значений нет."
   ]
  },
  {
   "cell_type": "markdown",
   "metadata": {},
   "source": [
    "## Разбейте данные на выборки"
   ]
  },
  {
   "cell_type": "markdown",
   "metadata": {},
   "source": [
    "Тестовой выборки в нашем случае нет, поэтому будем разбивать на три части: обучающую, валидационную и тестовую. \n",
    "Размеры тестового и валидационного наборов сделаем одинаковые. Исходные данные разобъем в соотношении 3:1:1."
   ]
  },
  {
   "cell_type": "code",
   "execution_count": 3,
   "metadata": {},
   "outputs": [],
   "source": [
    "train_df, test_df = train_test_split(df, test_size = 0.4)          # выделили под test_df 0,4 df, под train_df идет 0,6 df"
   ]
  },
  {
   "cell_type": "code",
   "execution_count": 4,
   "metadata": {},
   "outputs": [],
   "source": [
    "test_df, valid_df = train_test_split(test_df, test_size = 0.5)     # выделили на test_df и valid_df по 0,2 df "
   ]
  },
  {
   "cell_type": "markdown",
   "metadata": {},
   "source": [
    "По каждой выборке извлечем признак и целевой признак"
   ]
  },
  {
   "cell_type": "code",
   "execution_count": 5,
   "metadata": {},
   "outputs": [],
   "source": [
    "train_features = train_df.drop(['is_ultra'], axis=1) \n",
    "train_target = train_df['is_ultra'] "
   ]
  },
  {
   "cell_type": "code",
   "execution_count": 6,
   "metadata": {},
   "outputs": [],
   "source": [
    "test_features = test_df.drop(['is_ultra'], axis=1) \n",
    "test_target = test_df['is_ultra'] "
   ]
  },
  {
   "cell_type": "code",
   "execution_count": 7,
   "metadata": {},
   "outputs": [],
   "source": [
    "valid_features = valid_df.drop(['is_ultra'], axis=1)  \n",
    "valid_target = valid_df['is_ultra'] "
   ]
  },
  {
   "cell_type": "markdown",
   "metadata": {},
   "source": [
    "Разбили данные на три выборки:\n",
    "- тренировочную (train),\n",
    "- тестовую (test),\n",
    "- валидную (valid)."
   ]
  },
  {
   "cell_type": "code",
   "execution_count": 8,
   "metadata": {},
   "outputs": [
    {
     "name": "stdout",
     "output_type": "stream",
     "text": [
      "Размер тренировочной выборки: 1928\n",
      "Размер тестовой выборки : 643\n",
      "Размер валидной выборки : 643\n"
     ]
    }
   ],
   "source": [
    "print('Размер тренировочной выборки:', train_df.shape[0])\n",
    "print('Размер тестовой выборки :', test_df.shape[0])\n",
    "print('Размер валидной выборки :', valid_df.shape[0])"
   ]
  },
  {
   "cell_type": "markdown",
   "metadata": {},
   "source": [
    "Получили размеры выборок. Их соотношение, как мы и планировали: 3:1:1."
   ]
  },
  {
   "cell_type": "markdown",
   "metadata": {},
   "source": [
    "## Исследуйте модели"
   ]
  },
  {
   "cell_type": "markdown",
   "metadata": {},
   "source": [
    "### Первой моделью рассмотрим дерево решений"
   ]
  },
  {
   "cell_type": "code",
   "execution_count": 9,
   "metadata": {},
   "outputs": [
    {
     "name": "stdout",
     "output_type": "stream",
     "text": [
      "Доля правильных ответов: 0.7480559875583204     Глубина дерева: 14\n"
     ]
    }
   ],
   "source": [
    "best_accuracy = 0\n",
    "best_depth = 0\n",
    "for depth in range(1,15):\n",
    "    model = DecisionTreeClassifier(max_depth=depth, random_state=12345)\n",
    "    model.fit(train_features, train_target)\n",
    "    accuracy = model.score(valid_features, valid_target)\n",
    "    if accuracy > best_accuracy:\n",
    "        best_accuracy_dec_tree = accuracy\n",
    "        best_depth = depth\n",
    "print(\"Доля правильных ответов:\", best_accuracy_dec_tree, \"    Глубина дерева:\", best_depth, )"
   ]
  },
  {
   "cell_type": "markdown",
   "metadata": {},
   "source": [
    "### Следующей рассмотрим случайный лес"
   ]
  },
  {
   "cell_type": "code",
   "execution_count": 10,
   "metadata": {},
   "outputs": [
    {
     "name": "stdout",
     "output_type": "stream",
     "text": [
      "Доля правильных ответов: 0.80248833592535  Глубина дерева: 14  Количество деревьев: 45  Минимальное число объектов в листье: 4\n"
     ]
    }
   ],
   "source": [
    "best_accuracy = 0\n",
    "best_depth = 0\n",
    "for depth in range(1,15):                                               # максимальная глубина деревьев\n",
    "    for est in range(5,50,5):                                           # число «деревьев» в «случайном лесу»\n",
    "        for sample in range(2,5):                                       # минимальное число объектов в листьях\n",
    "            model = RandomForestClassifier(max_depth=depth, n_estimators=est, min_samples_leaf=sample, random_state=412)\n",
    "            model.fit(train_features, train_target)\n",
    "            accuracy = model.score(valid_features, valid_target)\n",
    "            if accuracy > best_accuracy:\n",
    "                best_accuracy_ranfor = accuracy\n",
    "                best_depth = depth\n",
    "                best_est = est\n",
    "                best_sample = sample\n",
    "print(\"Доля правильных ответов:\", best_accuracy_ranfor, \" Глубина дерева:\", best_depth,\n",
    "      \" Количество деревьев:\", best_est, \" Минимальное число объектов в листье:\", best_sample, )"
   ]
  },
  {
   "cell_type": "markdown",
   "metadata": {},
   "source": [
    "### Логистическая регрессия"
   ]
  },
  {
   "cell_type": "code",
   "execution_count": 11,
   "metadata": {},
   "outputs": [
    {
     "name": "stdout",
     "output_type": "stream",
     "text": [
      "Доля правильных ответов: 0.7340590979782271\n"
     ]
    }
   ],
   "source": [
    "model = LogisticRegression(random_state=12345, solver = 'liblinear')  # инициализация модели логистической регрессии\n",
    "model.fit(train_features, train_target)                               # обучение модели на тренировочной выборке\n",
    "accuracy_logreg = model.score(valid_features, valid_target)           # получение метрики качества модели на валидационной выборке\n",
    "\n",
    "print(\"Доля правильных ответов:\", accuracy_logreg)"
   ]
  },
  {
   "cell_type": "markdown",
   "metadata": {},
   "source": [
    "Рассмотрели три модели.\n",
    "Выяснили, что наилучший показатель с 0.79 у модели \"Случайный лес\" с количеством деревьев 45, глубиной 14 и минимальным числом объектов в листье 4."
   ]
  },
  {
   "cell_type": "markdown",
   "metadata": {},
   "source": [
    "## Проверьте модель на тестовой выборке"
   ]
  },
  {
   "cell_type": "markdown",
   "metadata": {},
   "source": [
    "### Проверим модель на дереве решений"
   ]
  },
  {
   "cell_type": "code",
   "execution_count": 12,
   "metadata": {},
   "outputs": [
    {
     "name": "stdout",
     "output_type": "stream",
     "text": [
      "Доля правильных ответов на тестовой выборке: 0.7791601866251944\n",
      "Доля правильных ответов на валидной выборке: 0.7480559875583204\n"
     ]
    }
   ],
   "source": [
    "model = DecisionTreeClassifier(random_state=12345, max_depth=5)\n",
    "model.fit(train_features, train_target)\n",
    "accuracy = model.score(test_features, test_target)\n",
    "print(\"Доля правильных ответов на тестовой выборке:\", accuracy)\n",
    "print(\"Доля правильных ответов на валидной выборке:\", best_accuracy_dec_tree)"
   ]
  },
  {
   "cell_type": "markdown",
   "metadata": {},
   "source": [
    "### Проверим модель на случайном лесе"
   ]
  },
  {
   "cell_type": "code",
   "execution_count": 13,
   "metadata": {},
   "outputs": [
    {
     "name": "stdout",
     "output_type": "stream",
     "text": [
      "Доля правильных ответов на тестовой выборке: 0.7931570762052877\n",
      "Доля правильных ответов на валидной выборке: 0.80248833592535\n"
     ]
    }
   ],
   "source": [
    "model = RandomForestClassifier(max_depth=7, n_estimators=40, random_state=12345)\n",
    "model.fit(train_features, train_target)\n",
    "accuracy = model.score(test_features, test_target)\n",
    "print(\"Доля правильных ответов на тестовой выборке:\", accuracy)\n",
    "print(\"Доля правильных ответов на валидной выборке:\", best_accuracy_ranfor)"
   ]
  },
  {
   "cell_type": "markdown",
   "metadata": {},
   "source": [
    "### Проверим модель на логистической регрессии"
   ]
  },
  {
   "cell_type": "code",
   "execution_count": 14,
   "metadata": {},
   "outputs": [
    {
     "name": "stdout",
     "output_type": "stream",
     "text": [
      "Доля правильных ответов на тестовой выборке: 0.7620528771384136\n",
      "Доля правильных ответов на валидной выборке: 0.7340590979782271\n"
     ]
    }
   ],
   "source": [
    "model = LogisticRegression(solver = 'liblinear')\n",
    "model.fit(train_features, train_target)\n",
    "accuracy = model.score(test_features, test_target)\n",
    "print(\"Доля правильных ответов на тестовой выборке:\", accuracy)\n",
    "print(\"Доля правильных ответов на валидной выборке:\", accuracy_logreg)"
   ]
  },
  {
   "cell_type": "markdown",
   "metadata": {},
   "source": [
    "Произвели проверку моделей на тестовой выборке. Получили, что больше всего значения близки у моделей \"случайный лес\" и \"лигическая регрессия\"."
   ]
  },
  {
   "cell_type": "markdown",
   "metadata": {},
   "source": [
    "## (бонус) Проверьте модели на адекватность"
   ]
  },
  {
   "cell_type": "markdown",
   "metadata": {},
   "source": [
    "Для проверки моделей на адекватность используем DummyClassifier и его стратегии:\n",
    "- stratified (генерирует прогнозы с учетом распределения классов обучающей выборки), \n",
    "- most_frequent (всегда предсказывает наиболее частую метку в обучающем наборе), \n",
    "- uniform (генерирует прогнозы равномерно в случайном порядке).\n",
    "    Источник: https://scikit-learn.org/stable/modules/generated/sklearn.dummy.DummyClassifier.html\n",
    "    \n",
    "По одной стратении на применяемые нами модели."
   ]
  },
  {
   "cell_type": "code",
   "execution_count": 15,
   "metadata": {},
   "outputs": [
    {
     "name": "stdout",
     "output_type": "stream",
     "text": [
      "Доля правильных ответов при проверке на адекватность по стратегии 'stratified': 0.6049766718506998\n",
      "Доля правильных ответов на валидной выборке модели 'дерево решений': 0.7480559875583204\n"
     ]
    }
   ],
   "source": [
    "fanfor = DummyClassifier(strategy='stratified')\n",
    "fanfor.fit(train_features, train_target)\n",
    "accuracy = fanfor.score(test_features, test_target)\n",
    "print(\"Доля правильных ответов при проверке на адекватность по стратегии 'stratified':\", accuracy)\n",
    "print(\"Доля правильных ответов на валидной выборке модели 'дерево решений':\", best_accuracy_dec_tree)"
   ]
  },
  {
   "cell_type": "code",
   "execution_count": 16,
   "metadata": {},
   "outputs": [
    {
     "name": "stdout",
     "output_type": "stream",
     "text": [
      "Доля правильных ответов при проверке на адекватность по стратегии 'most_frequent': 0.7060653188180405\n",
      "Доля правильных ответов на валидной выборке модели 'случайный лес': 0.80248833592535\n"
     ]
    }
   ],
   "source": [
    "fanfor = DummyClassifier(strategy='most_frequent')\n",
    "fanfor.fit(train_features, train_target)\n",
    "accuracy = fanfor.score(test_features, test_target)\n",
    "print(\"Доля правильных ответов при проверке на адекватность по стратегии 'most_frequent':\", accuracy)\n",
    "print(\"Доля правильных ответов на валидной выборке модели 'случайный лес':\", best_accuracy_ranfor)"
   ]
  },
  {
   "cell_type": "code",
   "execution_count": 17,
   "metadata": {},
   "outputs": [
    {
     "name": "stdout",
     "output_type": "stream",
     "text": [
      "Доля правильных ответов при проверке на адекватность по стратегии 'uniform': 0.5178849144634525\n",
      "Доля правильных ответов на валидной выборке модели 'логистическая регрессия': 0.7340590979782271\n"
     ]
    }
   ],
   "source": [
    "fanfor = DummyClassifier(strategy='uniform')\n",
    "fanfor.fit(train_features, train_target)\n",
    "accuracy = fanfor.score(test_features, test_target)\n",
    "print(\"Доля правильных ответов при проверке на адекватность по стратегии 'uniform':\", accuracy)\n",
    "print(\"Доля правильных ответов на валидной выборке модели 'логистическая регрессия':\", accuracy_logreg)"
   ]
  },
  {
   "cell_type": "markdown",
   "metadata": {},
   "source": [
    "Провели проверку применяемых нами моделий на адекватность. Уведели, что у всех моделей доля правильных ответов превосходит долю правильных ответов, полученных на модели выбранной для проверки на адекватность."
   ]
  },
  {
   "cell_type": "markdown",
   "metadata": {},
   "source": [
    "Провели проверку на адекватность.\n",
    "\n",
    "В случае accuracy всегда выгоднее всего выбирать стратегию most_frequent, но проверили разные стратегии."
   ]
  },
  {
   "cell_type": "markdown",
   "metadata": {},
   "source": [
    "## Вывод"
   ]
  },
  {
   "cell_type": "markdown",
   "metadata": {},
   "source": [
    "В ходе нашего исследования были проверены модели дерева решений, случайный лес и логистическая регрессия.\n",
    "Все модели были проверены на тестовой выборке и прошли проверку на адекватность.\n",
    "\n",
    "Лучшей показала себя модель случайный лес - доля правильных ответов: 0.7931570762052877, с параметрами:\n",
    "- глубина дерева: 14,  \n",
    "- количество деревьев: 45,  \n",
    "- минимальное число объектов в листье: 4."
   ]
  },
  {
   "cell_type": "markdown",
   "metadata": {},
   "source": [
    "## Чек-лист готовности проекта"
   ]
  },
  {
   "cell_type": "markdown",
   "metadata": {},
   "source": [
    "Поставьте 'x' в выполненных пунктах. Далее нажмите Shift+Enter."
   ]
  },
  {
   "cell_type": "markdown",
   "metadata": {},
   "source": [
    "- [x] Jupyter Notebook открыт\n",
    "- [X] Весь код исполняется без ошибок\n",
    "- [X] Ячейки с кодом расположены в порядке исполнения\n",
    "- [X] Выполнено задание 1: данные загружены и изучены\n",
    "- [X] Выполнено задание 2: данные разбиты на три выборки\n",
    "- [X] Выполнено задание 3: проведено исследование моделей\n",
    "    - [X] Рассмотрено больше одной модели\n",
    "    - [X] Рассмотрено хотя бы 3 значения гипепараметров для какой-нибудь модели\n",
    "    - [X] Написаны выводы по результатам исследования\n",
    "- [X] Выполнено задание 3: Проведено тестирование\n",
    "- [X] Удалось достичь accuracy не меньше 0.75\n"
   ]
  }
 ],
 "metadata": {
  "ExecuteTimeLog": [
   {
    "duration": 1436,
    "start_time": "2021-10-29T10:58:06.136Z"
   },
   {
    "duration": 52,
    "start_time": "2021-10-29T10:58:34.206Z"
   },
   {
    "duration": 9,
    "start_time": "2021-10-29T11:10:00.644Z"
   },
   {
    "duration": 11,
    "start_time": "2021-10-29T11:10:45.286Z"
   },
   {
    "duration": 35,
    "start_time": "2021-10-29T11:11:38.225Z"
   },
   {
    "duration": 982,
    "start_time": "2021-10-31T14:24:22.058Z"
   },
   {
    "duration": 6,
    "start_time": "2021-10-31T14:24:23.041Z"
   },
   {
    "duration": 293,
    "start_time": "2021-10-31T14:24:23.049Z"
   },
   {
    "duration": 881,
    "start_time": "2021-10-31T14:24:22.463Z"
   },
   {
    "duration": 881,
    "start_time": "2021-10-31T14:24:22.464Z"
   },
   {
    "duration": 1012,
    "start_time": "2021-10-31T14:26:03.624Z"
   },
   {
    "duration": 7,
    "start_time": "2021-10-31T14:26:04.638Z"
   },
   {
    "duration": 6,
    "start_time": "2021-10-31T14:26:04.647Z"
   },
   {
    "duration": 7,
    "start_time": "2021-10-31T14:26:04.654Z"
   },
   {
    "duration": 8,
    "start_time": "2021-10-31T20:40:11.248Z"
   },
   {
    "duration": -873,
    "start_time": "2021-10-31T20:40:44.340Z"
   },
   {
    "duration": 1495,
    "start_time": "2021-10-31T20:40:56.788Z"
   },
   {
    "duration": 10,
    "start_time": "2021-10-31T20:40:58.286Z"
   },
   {
    "duration": 7,
    "start_time": "2021-10-31T20:40:58.299Z"
   },
   {
    "duration": 5,
    "start_time": "2021-11-01T09:05:32.667Z"
   },
   {
    "duration": 370,
    "start_time": "2021-11-01T09:06:24.307Z"
   },
   {
    "duration": 4,
    "start_time": "2021-11-01T09:08:01.415Z"
   },
   {
    "duration": 4,
    "start_time": "2021-11-01T09:08:12.165Z"
   },
   {
    "duration": 1249,
    "start_time": "2021-11-01T10:14:56.378Z"
   },
   {
    "duration": 6,
    "start_time": "2021-11-01T10:14:57.629Z"
   },
   {
    "duration": 16,
    "start_time": "2021-11-01T10:14:57.637Z"
   },
   {
    "duration": 1142,
    "start_time": "2021-11-01T10:19:47.554Z"
   },
   {
    "duration": 5,
    "start_time": "2021-11-01T10:19:48.698Z"
   },
   {
    "duration": 18,
    "start_time": "2021-11-01T10:19:48.706Z"
   },
   {
    "duration": 11,
    "start_time": "2021-11-01T10:19:48.726Z"
   },
   {
    "duration": 10,
    "start_time": "2021-11-01T10:19:48.739Z"
   },
   {
    "duration": 11,
    "start_time": "2021-11-01T10:19:48.750Z"
   },
   {
    "duration": 24,
    "start_time": "2021-11-01T10:26:48.307Z"
   },
   {
    "duration": 482,
    "start_time": "2021-11-01T10:49:10.854Z"
   },
   {
    "duration": 1152,
    "start_time": "2021-11-01T10:49:24.835Z"
   },
   {
    "duration": 5,
    "start_time": "2021-11-01T10:49:25.989Z"
   },
   {
    "duration": 8,
    "start_time": "2021-11-01T10:49:25.996Z"
   },
   {
    "duration": 24,
    "start_time": "2021-11-01T10:49:26.006Z"
   },
   {
    "duration": 17,
    "start_time": "2021-11-01T10:49:26.032Z"
   },
   {
    "duration": 20,
    "start_time": "2021-11-01T10:49:26.051Z"
   },
   {
    "duration": 28,
    "start_time": "2021-11-01T10:49:26.073Z"
   },
   {
    "duration": 439,
    "start_time": "2021-11-01T10:49:26.104Z"
   },
   {
    "duration": 358,
    "start_time": "2021-11-01T10:50:42.053Z"
   },
   {
    "duration": 1177,
    "start_time": "2021-11-01T10:50:49.117Z"
   },
   {
    "duration": 5,
    "start_time": "2021-11-01T10:50:50.296Z"
   },
   {
    "duration": 6,
    "start_time": "2021-11-01T10:50:50.303Z"
   },
   {
    "duration": 9,
    "start_time": "2021-11-01T10:50:50.311Z"
   },
   {
    "duration": 6,
    "start_time": "2021-11-01T10:50:50.322Z"
   },
   {
    "duration": 5,
    "start_time": "2021-11-01T10:50:50.330Z"
   },
   {
    "duration": 24,
    "start_time": "2021-11-01T10:50:50.336Z"
   },
   {
    "duration": 434,
    "start_time": "2021-11-01T10:50:50.362Z"
   },
   {
    "duration": 371,
    "start_time": "2021-11-01T10:51:50.567Z"
   },
   {
    "duration": 1139,
    "start_time": "2021-11-01T11:01:07.751Z"
   },
   {
    "duration": 6,
    "start_time": "2021-11-01T11:01:08.893Z"
   },
   {
    "duration": 7,
    "start_time": "2021-11-01T11:01:08.901Z"
   },
   {
    "duration": 7,
    "start_time": "2021-11-01T11:01:08.910Z"
   },
   {
    "duration": 9,
    "start_time": "2021-11-01T11:01:08.918Z"
   },
   {
    "duration": 12,
    "start_time": "2021-11-01T11:01:08.929Z"
   },
   {
    "duration": 25,
    "start_time": "2021-11-01T11:01:08.944Z"
   },
   {
    "duration": 256,
    "start_time": "2021-11-01T11:01:08.970Z"
   },
   {
    "duration": 1240,
    "start_time": "2021-11-01T16:14:48.422Z"
   },
   {
    "duration": 6,
    "start_time": "2021-11-01T16:14:49.665Z"
   },
   {
    "duration": 8,
    "start_time": "2021-11-01T16:14:49.673Z"
   },
   {
    "duration": 10,
    "start_time": "2021-11-01T16:14:49.683Z"
   },
   {
    "duration": 8,
    "start_time": "2021-11-01T16:14:49.694Z"
   },
   {
    "duration": 14,
    "start_time": "2021-11-01T16:14:49.704Z"
   },
   {
    "duration": 407,
    "start_time": "2021-11-01T16:14:49.720Z"
   },
   {
    "duration": 4841,
    "start_time": "2021-11-01T16:14:50.129Z"
   },
   {
    "duration": 443,
    "start_time": "2021-11-01T16:14:54.972Z"
   },
   {
    "duration": 439,
    "start_time": "2021-11-01T16:15:22.309Z"
   },
   {
    "duration": 405,
    "start_time": "2021-11-01T16:15:30.347Z"
   },
   {
    "duration": 161,
    "start_time": "2021-11-01T16:21:41.275Z"
   },
   {
    "duration": 604,
    "start_time": "2021-11-01T16:22:18.232Z"
   },
   {
    "duration": 1161,
    "start_time": "2021-11-01T16:22:59.435Z"
   },
   {
    "duration": 5,
    "start_time": "2021-11-01T16:23:00.598Z"
   },
   {
    "duration": 18,
    "start_time": "2021-11-01T16:23:00.605Z"
   },
   {
    "duration": 23,
    "start_time": "2021-11-01T16:23:00.625Z"
   },
   {
    "duration": 28,
    "start_time": "2021-11-01T16:23:00.649Z"
   },
   {
    "duration": 22,
    "start_time": "2021-11-01T16:23:00.679Z"
   },
   {
    "duration": 557,
    "start_time": "2021-11-01T16:23:00.702Z"
   },
   {
    "duration": -380,
    "start_time": "2021-11-01T16:23:01.641Z"
   },
   {
    "duration": -380,
    "start_time": "2021-11-01T16:23:01.642Z"
   },
   {
    "duration": 1272,
    "start_time": "2021-11-01T16:23:58.528Z"
   },
   {
    "duration": 6,
    "start_time": "2021-11-01T16:23:59.802Z"
   },
   {
    "duration": 8,
    "start_time": "2021-11-01T16:23:59.811Z"
   },
   {
    "duration": 5,
    "start_time": "2021-11-01T16:23:59.822Z"
   },
   {
    "duration": 12,
    "start_time": "2021-11-01T16:23:59.828Z"
   },
   {
    "duration": 11,
    "start_time": "2021-11-01T16:23:59.842Z"
   },
   {
    "duration": 26,
    "start_time": "2021-11-01T16:23:59.855Z"
   },
   {
    "duration": 4925,
    "start_time": "2021-11-01T16:23:59.883Z"
   },
   {
    "duration": 422,
    "start_time": "2021-11-01T16:24:04.811Z"
   },
   {
    "duration": 1166,
    "start_time": "2021-11-01T16:38:58.824Z"
   },
   {
    "duration": 5,
    "start_time": "2021-11-01T16:38:59.992Z"
   },
   {
    "duration": 15,
    "start_time": "2021-11-01T16:38:59.999Z"
   },
   {
    "duration": 24,
    "start_time": "2021-11-01T16:39:00.016Z"
   },
   {
    "duration": 21,
    "start_time": "2021-11-01T16:39:00.042Z"
   },
   {
    "duration": 46,
    "start_time": "2021-11-01T16:39:00.065Z"
   },
   {
    "duration": 54,
    "start_time": "2021-11-01T16:39:00.113Z"
   },
   {
    "duration": 4762,
    "start_time": "2021-11-01T16:39:00.169Z"
   },
   {
    "duration": 415,
    "start_time": "2021-11-01T16:39:04.933Z"
   },
   {
    "duration": 1128,
    "start_time": "2021-11-01T17:37:40.364Z"
   },
   {
    "duration": 5,
    "start_time": "2021-11-01T17:37:41.494Z"
   },
   {
    "duration": 5,
    "start_time": "2021-11-01T17:37:41.501Z"
   },
   {
    "duration": 4,
    "start_time": "2021-11-01T17:37:41.508Z"
   },
   {
    "duration": 7,
    "start_time": "2021-11-01T17:37:41.514Z"
   },
   {
    "duration": 6,
    "start_time": "2021-11-01T17:37:41.522Z"
   },
   {
    "duration": 29,
    "start_time": "2021-11-01T17:37:41.529Z"
   },
   {
    "duration": 4852,
    "start_time": "2021-11-01T17:37:41.560Z"
   },
   {
    "duration": 435,
    "start_time": "2021-11-01T17:37:46.414Z"
   },
   {
    "duration": 1211,
    "start_time": "2021-11-01T17:38:22.970Z"
   },
   {
    "duration": 5,
    "start_time": "2021-11-01T17:38:24.183Z"
   },
   {
    "duration": 7,
    "start_time": "2021-11-01T17:38:24.190Z"
   },
   {
    "duration": 8,
    "start_time": "2021-11-01T17:38:24.198Z"
   },
   {
    "duration": 8,
    "start_time": "2021-11-01T17:38:24.208Z"
   },
   {
    "duration": 7,
    "start_time": "2021-11-01T17:38:24.218Z"
   },
   {
    "duration": 32,
    "start_time": "2021-11-01T17:38:24.227Z"
   },
   {
    "duration": 4618,
    "start_time": "2021-11-01T17:38:24.262Z"
   },
   {
    "duration": 432,
    "start_time": "2021-11-01T17:38:28.882Z"
   },
   {
    "duration": 339,
    "start_time": "2021-11-01T17:39:23.615Z"
   },
   {
    "duration": 17,
    "start_time": "2021-11-01T17:39:41.036Z"
   },
   {
    "duration": 126,
    "start_time": "2021-11-01T17:43:34.409Z"
   },
   {
    "duration": 5137,
    "start_time": "2021-11-01T17:43:51.496Z"
   },
   {
    "duration": 4655,
    "start_time": "2021-11-01T17:44:45.649Z"
   },
   {
    "duration": 1137,
    "start_time": "2021-11-01T17:45:05.558Z"
   },
   {
    "duration": 4,
    "start_time": "2021-11-01T17:45:06.697Z"
   },
   {
    "duration": 6,
    "start_time": "2021-11-01T17:45:06.704Z"
   },
   {
    "duration": 5,
    "start_time": "2021-11-01T17:45:06.711Z"
   },
   {
    "duration": 18,
    "start_time": "2021-11-01T17:45:06.718Z"
   },
   {
    "duration": 5,
    "start_time": "2021-11-01T17:45:06.738Z"
   },
   {
    "duration": 27,
    "start_time": "2021-11-01T17:45:06.745Z"
   },
   {
    "duration": 4742,
    "start_time": "2021-11-01T17:45:06.775Z"
   },
   {
    "duration": 12,
    "start_time": "2021-11-01T17:45:11.519Z"
   },
   {
    "duration": 1175,
    "start_time": "2021-11-01T17:49:35.806Z"
   },
   {
    "duration": 6,
    "start_time": "2021-11-01T17:49:36.983Z"
   },
   {
    "duration": 8,
    "start_time": "2021-11-01T17:49:36.991Z"
   },
   {
    "duration": 12,
    "start_time": "2021-11-01T17:49:37.001Z"
   },
   {
    "duration": 10,
    "start_time": "2021-11-01T17:49:37.015Z"
   },
   {
    "duration": 8,
    "start_time": "2021-11-01T17:49:37.026Z"
   },
   {
    "duration": 456,
    "start_time": "2021-11-01T17:49:37.036Z"
   },
   {
    "duration": 4521,
    "start_time": "2021-11-01T17:49:37.494Z"
   },
   {
    "duration": 14,
    "start_time": "2021-11-01T17:49:42.017Z"
   },
   {
    "duration": 57,
    "start_time": "2021-11-01T17:50:25.641Z"
   },
   {
    "duration": 12,
    "start_time": "2021-11-01T19:19:00.349Z"
   },
   {
    "duration": 1210,
    "start_time": "2021-11-01T19:30:30.366Z"
   },
   {
    "duration": 4,
    "start_time": "2021-11-01T19:30:31.578Z"
   },
   {
    "duration": 31,
    "start_time": "2021-11-01T19:30:31.584Z"
   },
   {
    "duration": 31,
    "start_time": "2021-11-01T19:30:31.617Z"
   },
   {
    "duration": 33,
    "start_time": "2021-11-01T19:30:31.650Z"
   },
   {
    "duration": 28,
    "start_time": "2021-11-01T19:30:31.685Z"
   },
   {
    "duration": 74,
    "start_time": "2021-11-01T19:30:31.715Z"
   },
   {
    "duration": 239,
    "start_time": "2021-11-01T19:30:31.791Z"
   },
   {
    "duration": 13,
    "start_time": "2021-11-01T19:30:32.032Z"
   },
   {
    "duration": 1453,
    "start_time": "2021-11-02T07:53:57.826Z"
   },
   {
    "duration": 6,
    "start_time": "2021-11-02T07:53:59.282Z"
   },
   {
    "duration": 22,
    "start_time": "2021-11-02T07:53:59.291Z"
   },
   {
    "duration": 14,
    "start_time": "2021-11-02T07:53:59.315Z"
   },
   {
    "duration": 15,
    "start_time": "2021-11-02T07:53:59.332Z"
   },
   {
    "duration": 22,
    "start_time": "2021-11-02T07:53:59.349Z"
   },
   {
    "duration": 660,
    "start_time": "2021-11-02T07:53:59.373Z"
   },
   {
    "duration": -736,
    "start_time": "2021-11-02T07:54:00.772Z"
   },
   {
    "duration": -738,
    "start_time": "2021-11-02T07:54:00.775Z"
   },
   {
    "duration": 1730,
    "start_time": "2021-11-02T07:55:40.567Z"
   },
   {
    "duration": 402,
    "start_time": "2021-11-02T07:56:24.799Z"
   },
   {
    "duration": 136,
    "start_time": "2021-11-02T07:56:35.512Z"
   },
   {
    "duration": 17,
    "start_time": "2021-11-02T07:56:59.235Z"
   },
   {
    "duration": 618,
    "start_time": "2021-11-02T07:57:04.903Z"
   },
   {
    "duration": 379,
    "start_time": "2021-11-02T07:57:19.111Z"
   },
   {
    "duration": 83,
    "start_time": "2021-11-02T07:59:30.106Z"
   },
   {
    "duration": 1511,
    "start_time": "2021-11-02T08:00:23.002Z"
   },
   {
    "duration": 6,
    "start_time": "2021-11-02T08:00:24.517Z"
   },
   {
    "duration": 15,
    "start_time": "2021-11-02T08:00:24.526Z"
   },
   {
    "duration": 6,
    "start_time": "2021-11-02T08:00:24.544Z"
   },
   {
    "duration": 7,
    "start_time": "2021-11-02T08:00:24.552Z"
   },
   {
    "duration": 7,
    "start_time": "2021-11-02T08:00:24.563Z"
   },
   {
    "duration": 83,
    "start_time": "2021-11-02T08:00:24.601Z"
   },
   {
    "duration": 387,
    "start_time": "2021-11-02T08:00:24.687Z"
   },
   {
    "duration": 39,
    "start_time": "2021-11-02T08:00:25.077Z"
   },
   {
    "duration": 1547,
    "start_time": "2021-11-02T08:02:09.973Z"
   },
   {
    "duration": 9,
    "start_time": "2021-11-02T08:02:11.524Z"
   },
   {
    "duration": 8,
    "start_time": "2021-11-02T08:02:11.537Z"
   },
   {
    "duration": 10,
    "start_time": "2021-11-02T08:02:11.548Z"
   },
   {
    "duration": 40,
    "start_time": "2021-11-02T08:02:11.561Z"
   },
   {
    "duration": 11,
    "start_time": "2021-11-02T08:02:11.605Z"
   },
   {
    "duration": 99,
    "start_time": "2021-11-02T08:02:11.620Z"
   },
   {
    "duration": 375,
    "start_time": "2021-11-02T08:02:11.723Z"
   },
   {
    "duration": 23,
    "start_time": "2021-11-02T08:02:12.102Z"
   },
   {
    "duration": 89,
    "start_time": "2021-11-02T08:03:39.050Z"
   },
   {
    "duration": 87,
    "start_time": "2021-11-02T08:04:29.963Z"
   },
   {
    "duration": 88,
    "start_time": "2021-11-02T08:04:44.250Z"
   },
   {
    "duration": 91,
    "start_time": "2021-11-02T08:05:01.076Z"
   },
   {
    "duration": 84,
    "start_time": "2021-11-02T08:05:14.421Z"
   },
   {
    "duration": 387,
    "start_time": "2021-11-02T08:05:47.862Z"
   },
   {
    "duration": 924,
    "start_time": "2021-11-02T08:05:58.204Z"
   },
   {
    "duration": 377,
    "start_time": "2021-11-02T08:06:16.102Z"
   },
   {
    "duration": 483,
    "start_time": "2021-11-02T08:06:46.262Z"
   },
   {
    "duration": 123,
    "start_time": "2021-11-02T08:07:00.830Z"
   },
   {
    "duration": 1557,
    "start_time": "2021-11-02T08:07:20.182Z"
   },
   {
    "duration": 7,
    "start_time": "2021-11-02T08:07:21.742Z"
   },
   {
    "duration": 19,
    "start_time": "2021-11-02T08:07:21.751Z"
   },
   {
    "duration": 7,
    "start_time": "2021-11-02T08:07:21.772Z"
   },
   {
    "duration": 19,
    "start_time": "2021-11-02T08:07:21.782Z"
   },
   {
    "duration": 8,
    "start_time": "2021-11-02T08:07:21.805Z"
   },
   {
    "duration": 127,
    "start_time": "2021-11-02T08:07:21.817Z"
   },
   {
    "duration": 402,
    "start_time": "2021-11-02T08:07:21.947Z"
   },
   {
    "duration": 19,
    "start_time": "2021-11-02T08:07:22.352Z"
   },
   {
    "duration": 631,
    "start_time": "2021-11-02T08:09:33.050Z"
   },
   {
    "duration": 7410,
    "start_time": "2021-11-02T08:09:40.584Z"
   },
   {
    "duration": 1484,
    "start_time": "2021-11-02T08:12:13.144Z"
   },
   {
    "duration": 6,
    "start_time": "2021-11-02T08:12:14.631Z"
   },
   {
    "duration": 9,
    "start_time": "2021-11-02T08:12:14.640Z"
   },
   {
    "duration": 6,
    "start_time": "2021-11-02T08:12:14.651Z"
   },
   {
    "duration": 8,
    "start_time": "2021-11-02T08:12:14.660Z"
   },
   {
    "duration": 31,
    "start_time": "2021-11-02T08:12:14.671Z"
   },
   {
    "duration": 643,
    "start_time": "2021-11-02T08:12:14.710Z"
   },
   {
    "duration": 7194,
    "start_time": "2021-11-02T08:12:15.355Z"
   },
   {
    "duration": 17,
    "start_time": "2021-11-02T08:12:22.551Z"
   },
   {
    "duration": 18,
    "start_time": "2021-11-02T08:23:03.741Z"
   },
   {
    "duration": 16,
    "start_time": "2021-11-02T08:23:16.240Z"
   },
   {
    "duration": 21,
    "start_time": "2021-11-02T08:24:01.829Z"
   },
   {
    "duration": 14,
    "start_time": "2021-11-02T08:24:08.260Z"
   },
   {
    "duration": 13,
    "start_time": "2021-11-02T08:24:16.921Z"
   },
   {
    "duration": 182,
    "start_time": "2021-11-02T08:28:50.737Z"
   },
   {
    "duration": 538,
    "start_time": "2021-11-02T08:59:24.090Z"
   },
   {
    "duration": 16,
    "start_time": "2021-11-02T08:59:45.119Z"
   },
   {
    "duration": 17,
    "start_time": "2021-11-02T09:01:22.922Z"
   },
   {
    "duration": 16,
    "start_time": "2021-11-02T09:01:28.502Z"
   },
   {
    "duration": 1393,
    "start_time": "2021-11-03T07:57:29.016Z"
   },
   {
    "duration": 6,
    "start_time": "2021-11-03T07:57:30.412Z"
   },
   {
    "duration": 10,
    "start_time": "2021-11-03T07:57:30.421Z"
   },
   {
    "duration": 14,
    "start_time": "2021-11-03T07:57:30.433Z"
   },
   {
    "duration": 7,
    "start_time": "2021-11-03T07:57:30.450Z"
   },
   {
    "duration": 8,
    "start_time": "2021-11-03T07:57:30.460Z"
   },
   {
    "duration": 578,
    "start_time": "2021-11-03T07:57:30.471Z"
   },
   {
    "duration": 6557,
    "start_time": "2021-11-03T07:57:31.053Z"
   },
   {
    "duration": 29,
    "start_time": "2021-11-03T07:57:37.613Z"
   },
   {
    "duration": 13,
    "start_time": "2021-11-03T07:57:37.645Z"
   },
   {
    "duration": 184,
    "start_time": "2021-11-03T07:57:37.661Z"
   },
   {
    "duration": 22,
    "start_time": "2021-11-03T07:57:37.847Z"
   },
   {
    "duration": 19535,
    "start_time": "2021-11-03T08:18:29.755Z"
   },
   {
    "duration": 19946,
    "start_time": "2021-11-03T08:31:04.122Z"
   },
   {
    "duration": 24,
    "start_time": "2021-11-03T09:37:41.276Z"
   },
   {
    "duration": 1810,
    "start_time": "2021-11-03T09:37:52.858Z"
   },
   {
    "duration": 7,
    "start_time": "2021-11-03T09:37:54.670Z"
   },
   {
    "duration": 7,
    "start_time": "2021-11-03T09:37:54.681Z"
   },
   {
    "duration": 6,
    "start_time": "2021-11-03T09:37:54.691Z"
   },
   {
    "duration": 5,
    "start_time": "2021-11-03T09:37:54.723Z"
   },
   {
    "duration": 6,
    "start_time": "2021-11-03T09:37:54.731Z"
   },
   {
    "duration": 625,
    "start_time": "2021-11-03T09:37:54.739Z"
   },
   {
    "duration": 20665,
    "start_time": "2021-11-03T09:37:55.368Z"
   },
   {
    "duration": 27,
    "start_time": "2021-11-03T09:38:16.036Z"
   },
   {
    "duration": 13,
    "start_time": "2021-11-03T09:38:16.065Z"
   },
   {
    "duration": 188,
    "start_time": "2021-11-03T09:38:16.081Z"
   },
   {
    "duration": 22,
    "start_time": "2021-11-03T09:38:16.272Z"
   },
   {
    "duration": 23,
    "start_time": "2021-11-03T09:39:30.496Z"
   },
   {
    "duration": 22,
    "start_time": "2021-11-03T09:39:34.868Z"
   },
   {
    "duration": 22,
    "start_time": "2021-11-03T09:39:41.859Z"
   },
   {
    "duration": 1411,
    "start_time": "2021-11-03T09:39:52.899Z"
   },
   {
    "duration": 10,
    "start_time": "2021-11-03T09:39:54.312Z"
   },
   {
    "duration": 6,
    "start_time": "2021-11-03T09:39:54.325Z"
   },
   {
    "duration": 10,
    "start_time": "2021-11-03T09:39:54.334Z"
   },
   {
    "duration": 15,
    "start_time": "2021-11-03T09:39:54.346Z"
   },
   {
    "duration": 13,
    "start_time": "2021-11-03T09:39:54.363Z"
   },
   {
    "duration": 657,
    "start_time": "2021-11-03T09:39:54.379Z"
   },
   {
    "duration": 19635,
    "start_time": "2021-11-03T09:39:55.039Z"
   },
   {
    "duration": 25,
    "start_time": "2021-11-03T09:40:14.677Z"
   },
   {
    "duration": 16,
    "start_time": "2021-11-03T09:40:14.723Z"
   },
   {
    "duration": 184,
    "start_time": "2021-11-03T09:40:14.742Z"
   },
   {
    "duration": 21,
    "start_time": "2021-11-03T09:40:14.929Z"
   },
   {
    "duration": 20526,
    "start_time": "2021-11-03T10:26:32.051Z"
   },
   {
    "duration": 1428,
    "start_time": "2021-11-03T10:27:02.804Z"
   },
   {
    "duration": 6,
    "start_time": "2021-11-03T10:27:04.235Z"
   },
   {
    "duration": 11,
    "start_time": "2021-11-03T10:27:04.244Z"
   },
   {
    "duration": 8,
    "start_time": "2021-11-03T10:27:04.258Z"
   },
   {
    "duration": 9,
    "start_time": "2021-11-03T10:27:04.268Z"
   },
   {
    "duration": 16,
    "start_time": "2021-11-03T10:27:04.279Z"
   },
   {
    "duration": 573,
    "start_time": "2021-11-03T10:27:04.297Z"
   },
   {
    "duration": 20153,
    "start_time": "2021-11-03T10:27:04.875Z"
   },
   {
    "duration": 25,
    "start_time": "2021-11-03T10:27:25.031Z"
   },
   {
    "duration": 16,
    "start_time": "2021-11-03T10:27:25.059Z"
   },
   {
    "duration": 195,
    "start_time": "2021-11-03T10:27:25.078Z"
   },
   {
    "duration": 14,
    "start_time": "2021-11-03T10:27:25.276Z"
   },
   {
    "duration": 1350,
    "start_time": "2021-11-03T10:31:34.162Z"
   },
   {
    "duration": 7,
    "start_time": "2021-11-03T10:31:35.515Z"
   },
   {
    "duration": 6,
    "start_time": "2021-11-03T10:31:35.529Z"
   },
   {
    "duration": 8,
    "start_time": "2021-11-03T10:31:35.539Z"
   },
   {
    "duration": 10,
    "start_time": "2021-11-03T10:31:35.552Z"
   },
   {
    "duration": 9,
    "start_time": "2021-11-03T10:31:35.565Z"
   },
   {
    "duration": 620,
    "start_time": "2021-11-03T10:31:35.576Z"
   },
   {
    "duration": 21475,
    "start_time": "2021-11-03T10:31:36.199Z"
   },
   {
    "duration": 51,
    "start_time": "2021-11-03T10:31:57.678Z"
   },
   {
    "duration": 17,
    "start_time": "2021-11-03T10:31:57.732Z"
   },
   {
    "duration": 264,
    "start_time": "2021-11-03T10:31:57.752Z"
   },
   {
    "duration": 32,
    "start_time": "2021-11-03T10:31:58.019Z"
   },
   {
    "duration": 1554,
    "start_time": "2021-11-03T12:14:53.248Z"
   },
   {
    "duration": 6,
    "start_time": "2021-11-03T12:14:54.805Z"
   },
   {
    "duration": 10,
    "start_time": "2021-11-03T12:14:54.815Z"
   },
   {
    "duration": 10,
    "start_time": "2021-11-03T12:14:54.828Z"
   },
   {
    "duration": 12,
    "start_time": "2021-11-03T12:14:54.841Z"
   },
   {
    "duration": 10,
    "start_time": "2021-11-03T12:14:54.855Z"
   },
   {
    "duration": 595,
    "start_time": "2021-11-03T12:14:54.868Z"
   },
   {
    "duration": 19911,
    "start_time": "2021-11-03T12:14:55.466Z"
   },
   {
    "duration": 18,
    "start_time": "2021-11-03T12:15:15.381Z"
   },
   {
    "duration": 30,
    "start_time": "2021-11-03T12:15:15.401Z"
   },
   {
    "duration": 176,
    "start_time": "2021-11-03T12:15:15.433Z"
   },
   {
    "duration": 21,
    "start_time": "2021-11-03T12:15:15.611Z"
   },
   {
    "duration": 1402,
    "start_time": "2021-11-05T12:14:12.639Z"
   },
   {
    "duration": 6,
    "start_time": "2021-11-05T12:14:14.044Z"
   },
   {
    "duration": 8,
    "start_time": "2021-11-05T12:14:14.053Z"
   },
   {
    "duration": 8,
    "start_time": "2021-11-05T12:14:14.064Z"
   },
   {
    "duration": 7,
    "start_time": "2021-11-05T12:14:14.074Z"
   },
   {
    "duration": 6,
    "start_time": "2021-11-05T12:14:14.083Z"
   },
   {
    "duration": 611,
    "start_time": "2021-11-05T12:14:14.091Z"
   },
   {
    "duration": 19749,
    "start_time": "2021-11-05T12:14:14.706Z"
   },
   {
    "duration": 16,
    "start_time": "2021-11-05T12:14:34.457Z"
   },
   {
    "duration": 13,
    "start_time": "2021-11-05T12:14:34.475Z"
   },
   {
    "duration": 188,
    "start_time": "2021-11-05T12:14:34.490Z"
   },
   {
    "duration": 16,
    "start_time": "2021-11-05T12:14:34.681Z"
   },
   {
    "duration": 34,
    "start_time": "2021-11-05T12:14:34.700Z"
   },
   {
    "duration": 434,
    "start_time": "2021-11-05T13:59:04.458Z"
   },
   {
    "duration": 1357,
    "start_time": "2021-11-05T13:59:30.769Z"
   },
   {
    "duration": 6,
    "start_time": "2021-11-05T13:59:32.129Z"
   },
   {
    "duration": 15,
    "start_time": "2021-11-05T13:59:32.138Z"
   },
   {
    "duration": 15,
    "start_time": "2021-11-05T13:59:32.156Z"
   },
   {
    "duration": 11,
    "start_time": "2021-11-05T13:59:32.173Z"
   },
   {
    "duration": 8,
    "start_time": "2021-11-05T13:59:32.186Z"
   },
   {
    "duration": 614,
    "start_time": "2021-11-05T13:59:32.196Z"
   },
   {
    "duration": 20104,
    "start_time": "2021-11-05T13:59:32.814Z"
   },
   {
    "duration": 19,
    "start_time": "2021-11-05T13:59:52.920Z"
   },
   {
    "duration": 15,
    "start_time": "2021-11-05T13:59:52.942Z"
   },
   {
    "duration": 183,
    "start_time": "2021-11-05T13:59:52.960Z"
   },
   {
    "duration": 15,
    "start_time": "2021-11-05T13:59:53.146Z"
   },
   {
    "duration": 12,
    "start_time": "2021-11-05T13:59:53.164Z"
   },
   {
    "duration": 8,
    "start_time": "2021-11-05T13:59:53.179Z"
   },
   {
    "duration": 1409,
    "start_time": "2021-11-06T17:27:09.961Z"
   },
   {
    "duration": 6,
    "start_time": "2021-11-06T17:27:11.372Z"
   },
   {
    "duration": 8,
    "start_time": "2021-11-06T17:27:11.381Z"
   },
   {
    "duration": 8,
    "start_time": "2021-11-06T17:27:11.392Z"
   },
   {
    "duration": 7,
    "start_time": "2021-11-06T17:27:11.402Z"
   },
   {
    "duration": 6,
    "start_time": "2021-11-06T17:27:11.412Z"
   },
   {
    "duration": 629,
    "start_time": "2021-11-06T17:27:11.421Z"
   },
   {
    "duration": 20179,
    "start_time": "2021-11-06T17:27:12.054Z"
   },
   {
    "duration": 35,
    "start_time": "2021-11-06T17:27:32.236Z"
   },
   {
    "duration": 15,
    "start_time": "2021-11-06T17:27:32.273Z"
   },
   {
    "duration": 187,
    "start_time": "2021-11-06T17:27:32.290Z"
   },
   {
    "duration": 17,
    "start_time": "2021-11-06T17:27:32.480Z"
   },
   {
    "duration": 11,
    "start_time": "2021-11-06T17:27:32.500Z"
   },
   {
    "duration": 7,
    "start_time": "2021-11-06T17:27:32.513Z"
   },
   {
    "duration": 7,
    "start_time": "2021-11-06T17:31:42.391Z"
   },
   {
    "duration": 7,
    "start_time": "2021-11-06T18:10:25.833Z"
   },
   {
    "duration": 1435,
    "start_time": "2021-11-06T18:10:58.267Z"
   },
   {
    "duration": 7,
    "start_time": "2021-11-06T18:10:59.704Z"
   },
   {
    "duration": 8,
    "start_time": "2021-11-06T18:10:59.714Z"
   },
   {
    "duration": 7,
    "start_time": "2021-11-06T18:10:59.725Z"
   },
   {
    "duration": 33,
    "start_time": "2021-11-06T18:10:59.735Z"
   },
   {
    "duration": 16,
    "start_time": "2021-11-06T18:10:59.771Z"
   },
   {
    "duration": 617,
    "start_time": "2021-11-06T18:10:59.791Z"
   },
   {
    "duration": 20173,
    "start_time": "2021-11-06T18:11:00.411Z"
   },
   {
    "duration": 15,
    "start_time": "2021-11-06T18:11:20.586Z"
   },
   {
    "duration": 16,
    "start_time": "2021-11-06T18:11:20.604Z"
   },
   {
    "duration": 196,
    "start_time": "2021-11-06T18:11:20.622Z"
   },
   {
    "duration": 14,
    "start_time": "2021-11-06T18:11:20.820Z"
   },
   {
    "duration": 31,
    "start_time": "2021-11-06T18:11:20.837Z"
   },
   {
    "duration": 6,
    "start_time": "2021-11-06T18:11:20.872Z"
   },
   {
    "duration": 28,
    "start_time": "2021-11-06T18:11:20.881Z"
   },
   {
    "duration": 8,
    "start_time": "2021-11-06T18:12:27.386Z"
   },
   {
    "duration": 1398,
    "start_time": "2021-11-06T18:14:37.349Z"
   },
   {
    "duration": 6,
    "start_time": "2021-11-06T18:14:38.749Z"
   },
   {
    "duration": 11,
    "start_time": "2021-11-06T18:14:38.759Z"
   },
   {
    "duration": 7,
    "start_time": "2021-11-06T18:14:38.772Z"
   },
   {
    "duration": 7,
    "start_time": "2021-11-06T18:14:38.782Z"
   },
   {
    "duration": 7,
    "start_time": "2021-11-06T18:14:38.792Z"
   },
   {
    "duration": 20217,
    "start_time": "2021-11-06T18:14:38.801Z"
   },
   {
    "duration": 25,
    "start_time": "2021-11-06T18:14:59.021Z"
   },
   {
    "duration": 14,
    "start_time": "2021-11-06T18:14:59.067Z"
   },
   {
    "duration": 173,
    "start_time": "2021-11-06T18:14:59.083Z"
   },
   {
    "duration": 27,
    "start_time": "2021-11-06T18:14:59.259Z"
   },
   {
    "duration": 6,
    "start_time": "2021-11-06T18:14:59.288Z"
   },
   {
    "duration": 7,
    "start_time": "2021-11-06T18:14:59.296Z"
   },
   {
    "duration": 9,
    "start_time": "2021-11-06T18:14:59.305Z"
   },
   {
    "duration": 1417,
    "start_time": "2021-11-06T18:15:40.943Z"
   },
   {
    "duration": 7,
    "start_time": "2021-11-06T18:15:42.363Z"
   },
   {
    "duration": 12,
    "start_time": "2021-11-06T18:15:42.373Z"
   },
   {
    "duration": 15,
    "start_time": "2021-11-06T18:15:42.388Z"
   },
   {
    "duration": 8,
    "start_time": "2021-11-06T18:15:42.406Z"
   },
   {
    "duration": 7,
    "start_time": "2021-11-06T18:15:42.416Z"
   },
   {
    "duration": 20811,
    "start_time": "2021-11-06T18:15:42.425Z"
   },
   {
    "duration": 37,
    "start_time": "2021-11-06T18:16:03.239Z"
   },
   {
    "duration": 13,
    "start_time": "2021-11-06T18:16:03.278Z"
   },
   {
    "duration": 195,
    "start_time": "2021-11-06T18:16:03.294Z"
   },
   {
    "duration": 31,
    "start_time": "2021-11-06T18:16:03.492Z"
   },
   {
    "duration": 9,
    "start_time": "2021-11-06T18:16:03.526Z"
   },
   {
    "duration": 10,
    "start_time": "2021-11-06T18:16:03.568Z"
   },
   {
    "duration": 10,
    "start_time": "2021-11-06T18:16:03.581Z"
   },
   {
    "duration": 135,
    "start_time": "2021-11-06T18:18:46.734Z"
   },
   {
    "duration": 1483,
    "start_time": "2021-11-06T18:18:59.474Z"
   },
   {
    "duration": 8,
    "start_time": "2021-11-06T18:19:00.959Z"
   },
   {
    "duration": 16,
    "start_time": "2021-11-06T18:19:00.970Z"
   },
   {
    "duration": 10,
    "start_time": "2021-11-06T18:19:00.989Z"
   },
   {
    "duration": 17,
    "start_time": "2021-11-06T18:19:01.001Z"
   },
   {
    "duration": 13,
    "start_time": "2021-11-06T18:19:01.020Z"
   },
   {
    "duration": 160,
    "start_time": "2021-11-06T18:19:01.035Z"
   },
   {
    "duration": 20356,
    "start_time": "2021-11-06T18:19:01.199Z"
   },
   {
    "duration": 28,
    "start_time": "2021-11-06T18:19:21.558Z"
   },
   {
    "duration": 15,
    "start_time": "2021-11-06T18:19:21.588Z"
   },
   {
    "duration": 191,
    "start_time": "2021-11-06T18:19:21.606Z"
   },
   {
    "duration": 23,
    "start_time": "2021-11-06T18:19:21.800Z"
   },
   {
    "duration": 7,
    "start_time": "2021-11-06T18:19:21.826Z"
   },
   {
    "duration": 36,
    "start_time": "2021-11-06T18:19:21.836Z"
   },
   {
    "duration": 8,
    "start_time": "2021-11-06T18:19:21.874Z"
   },
   {
    "duration": 141,
    "start_time": "2021-11-06T18:21:57.995Z"
   },
   {
    "duration": 138,
    "start_time": "2021-11-06T18:22:14.369Z"
   },
   {
    "duration": 138,
    "start_time": "2021-11-06T18:22:19.598Z"
   },
   {
    "duration": 135,
    "start_time": "2021-11-06T18:22:25.241Z"
   },
   {
    "duration": 20896,
    "start_time": "2021-11-06T18:22:46.367Z"
   },
   {
    "duration": 141,
    "start_time": "2021-11-06T18:38:57.003Z"
   },
   {
    "duration": 1546,
    "start_time": "2021-11-06T18:39:03.345Z"
   },
   {
    "duration": 7,
    "start_time": "2021-11-06T18:39:04.894Z"
   },
   {
    "duration": 8,
    "start_time": "2021-11-06T18:39:04.904Z"
   },
   {
    "duration": 5,
    "start_time": "2021-11-06T18:39:04.915Z"
   },
   {
    "duration": 6,
    "start_time": "2021-11-06T18:39:04.923Z"
   },
   {
    "duration": 35,
    "start_time": "2021-11-06T18:39:04.932Z"
   },
   {
    "duration": 150,
    "start_time": "2021-11-06T18:39:04.970Z"
   },
   {
    "duration": 20053,
    "start_time": "2021-11-06T18:39:05.123Z"
   },
   {
    "duration": 20,
    "start_time": "2021-11-06T18:39:25.178Z"
   },
   {
    "duration": 14,
    "start_time": "2021-11-06T18:39:25.200Z"
   },
   {
    "duration": 194,
    "start_time": "2021-11-06T18:39:25.216Z"
   },
   {
    "duration": 18,
    "start_time": "2021-11-06T18:39:25.412Z"
   },
   {
    "duration": 7,
    "start_time": "2021-11-06T18:39:25.432Z"
   },
   {
    "duration": 27,
    "start_time": "2021-11-06T18:39:25.441Z"
   },
   {
    "duration": 9,
    "start_time": "2021-11-06T18:39:25.470Z"
   },
   {
    "duration": 137,
    "start_time": "2021-11-06T18:39:55.094Z"
   },
   {
    "duration": 1466,
    "start_time": "2021-11-06T18:40:18.338Z"
   },
   {
    "duration": 6,
    "start_time": "2021-11-06T18:40:19.806Z"
   },
   {
    "duration": 17,
    "start_time": "2021-11-06T18:40:19.815Z"
   },
   {
    "duration": 6,
    "start_time": "2021-11-06T18:40:19.835Z"
   },
   {
    "duration": 10,
    "start_time": "2021-11-06T18:40:19.844Z"
   },
   {
    "duration": 5,
    "start_time": "2021-11-06T18:40:19.867Z"
   },
   {
    "duration": 137,
    "start_time": "2021-11-06T18:40:19.875Z"
   },
   {
    "duration": 37488,
    "start_time": "2021-11-06T18:40:20.016Z"
   },
   {
    "duration": 20,
    "start_time": "2021-11-06T18:40:57.507Z"
   },
   {
    "duration": 43,
    "start_time": "2021-11-06T18:40:57.530Z"
   },
   {
    "duration": 166,
    "start_time": "2021-11-06T18:40:57.575Z"
   },
   {
    "duration": 28,
    "start_time": "2021-11-06T18:40:57.743Z"
   },
   {
    "duration": 7,
    "start_time": "2021-11-06T18:40:57.773Z"
   },
   {
    "duration": 6,
    "start_time": "2021-11-06T18:40:57.782Z"
   },
   {
    "duration": 7,
    "start_time": "2021-11-06T18:40:57.791Z"
   },
   {
    "duration": 36754,
    "start_time": "2021-11-06T18:45:42.433Z"
   },
   {
    "duration": 21,
    "start_time": "2021-11-06T18:46:30.934Z"
   },
   {
    "duration": 37259,
    "start_time": "2021-11-06T18:46:52.468Z"
   },
   {
    "duration": 36731,
    "start_time": "2021-11-06T18:48:08.063Z"
   },
   {
    "duration": 124,
    "start_time": "2021-11-06T18:50:28.352Z"
   },
   {
    "duration": 123,
    "start_time": "2021-11-06T18:50:35.176Z"
   },
   {
    "duration": 99,
    "start_time": "2021-11-06T18:50:53.022Z"
   },
   {
    "duration": 14,
    "start_time": "2021-11-06T18:50:59.029Z"
   },
   {
    "duration": 14,
    "start_time": "2021-11-06T18:51:59.480Z"
   },
   {
    "duration": 14,
    "start_time": "2021-11-06T18:52:22.325Z"
   },
   {
    "duration": 38166,
    "start_time": "2021-11-06T18:53:16.281Z"
   },
   {
    "duration": 159,
    "start_time": "2021-11-06T18:54:49.700Z"
   },
   {
    "duration": 28,
    "start_time": "2021-11-06T18:55:44.242Z"
   },
   {
    "duration": 21,
    "start_time": "2021-11-06T18:56:27.600Z"
   },
   {
    "duration": 1465,
    "start_time": "2021-11-06T18:56:34.650Z"
   },
   {
    "duration": 7,
    "start_time": "2021-11-06T18:56:36.118Z"
   },
   {
    "duration": 11,
    "start_time": "2021-11-06T18:56:36.129Z"
   },
   {
    "duration": 6,
    "start_time": "2021-11-06T18:56:36.143Z"
   },
   {
    "duration": 7,
    "start_time": "2021-11-06T18:56:36.151Z"
   },
   {
    "duration": 14,
    "start_time": "2021-11-06T18:56:36.160Z"
   },
   {
    "duration": 127,
    "start_time": "2021-11-06T18:56:36.176Z"
   },
   {
    "duration": 38054,
    "start_time": "2021-11-06T18:56:36.306Z"
   },
   {
    "duration": 28,
    "start_time": "2021-11-06T18:57:14.369Z"
   },
   {
    "duration": 15,
    "start_time": "2021-11-06T18:57:14.400Z"
   },
   {
    "duration": 210,
    "start_time": "2021-11-06T18:57:14.417Z"
   },
   {
    "duration": 21,
    "start_time": "2021-11-06T18:57:14.629Z"
   },
   {
    "duration": 21,
    "start_time": "2021-11-06T18:57:14.653Z"
   },
   {
    "duration": 13,
    "start_time": "2021-11-06T18:57:14.677Z"
   },
   {
    "duration": 15,
    "start_time": "2021-11-06T18:57:14.692Z"
   },
   {
    "duration": 8,
    "start_time": "2021-11-06T19:21:50.265Z"
   },
   {
    "duration": 7,
    "start_time": "2021-11-06T19:22:02.531Z"
   },
   {
    "duration": 104,
    "start_time": "2021-11-06T19:22:26.357Z"
   },
   {
    "duration": 9,
    "start_time": "2021-11-06T19:22:30.762Z"
   },
   {
    "duration": 7,
    "start_time": "2021-11-06T19:22:52.795Z"
   },
   {
    "duration": 8,
    "start_time": "2021-11-06T19:26:18.656Z"
   },
   {
    "duration": 7,
    "start_time": "2021-11-06T19:28:12.985Z"
   },
   {
    "duration": 8,
    "start_time": "2021-11-06T19:28:55.273Z"
   },
   {
    "duration": 1400,
    "start_time": "2021-11-06T19:32:03.073Z"
   },
   {
    "duration": 7,
    "start_time": "2021-11-06T19:32:04.476Z"
   },
   {
    "duration": 12,
    "start_time": "2021-11-06T19:32:04.486Z"
   },
   {
    "duration": 26,
    "start_time": "2021-11-06T19:32:04.501Z"
   },
   {
    "duration": 8,
    "start_time": "2021-11-06T19:32:04.530Z"
   },
   {
    "duration": 11,
    "start_time": "2021-11-06T19:32:04.541Z"
   },
   {
    "duration": 138,
    "start_time": "2021-11-06T19:32:04.556Z"
   },
   {
    "duration": 35681,
    "start_time": "2021-11-06T19:32:04.697Z"
   },
   {
    "duration": 18,
    "start_time": "2021-11-06T19:32:40.381Z"
   },
   {
    "duration": 16,
    "start_time": "2021-11-06T19:32:40.402Z"
   },
   {
    "duration": 205,
    "start_time": "2021-11-06T19:32:40.421Z"
   },
   {
    "duration": 18,
    "start_time": "2021-11-06T19:32:40.629Z"
   },
   {
    "duration": 10,
    "start_time": "2021-11-06T19:32:40.668Z"
   },
   {
    "duration": 8,
    "start_time": "2021-11-06T19:32:40.681Z"
   },
   {
    "duration": 12,
    "start_time": "2021-11-06T19:32:40.692Z"
   },
   {
    "duration": 1415,
    "start_time": "2021-11-06T19:42:18.849Z"
   },
   {
    "duration": 7,
    "start_time": "2021-11-06T19:42:20.267Z"
   },
   {
    "duration": 13,
    "start_time": "2021-11-06T19:42:20.276Z"
   },
   {
    "duration": 9,
    "start_time": "2021-11-06T19:42:20.292Z"
   },
   {
    "duration": 11,
    "start_time": "2021-11-06T19:42:20.304Z"
   },
   {
    "duration": 13,
    "start_time": "2021-11-06T19:42:20.317Z"
   },
   {
    "duration": 136,
    "start_time": "2021-11-06T19:42:20.333Z"
   },
   {
    "duration": 1420,
    "start_time": "2021-11-06T19:43:07.719Z"
   },
   {
    "duration": 6,
    "start_time": "2021-11-06T19:43:09.142Z"
   },
   {
    "duration": 16,
    "start_time": "2021-11-06T19:43:09.151Z"
   },
   {
    "duration": 5,
    "start_time": "2021-11-06T19:43:09.169Z"
   },
   {
    "duration": 17,
    "start_time": "2021-11-06T19:43:09.177Z"
   },
   {
    "duration": 7,
    "start_time": "2021-11-06T19:43:09.197Z"
   },
   {
    "duration": 135,
    "start_time": "2021-11-06T19:43:09.206Z"
   },
   {
    "duration": 36380,
    "start_time": "2021-11-06T19:43:09.345Z"
   },
   {
    "duration": 20,
    "start_time": "2021-11-06T19:43:45.727Z"
   },
   {
    "duration": 31,
    "start_time": "2021-11-06T19:43:45.749Z"
   },
   {
    "duration": 173,
    "start_time": "2021-11-06T19:43:45.782Z"
   },
   {
    "duration": 24,
    "start_time": "2021-11-06T19:43:45.957Z"
   },
   {
    "duration": 7,
    "start_time": "2021-11-06T19:43:45.983Z"
   },
   {
    "duration": 7,
    "start_time": "2021-11-06T19:43:45.993Z"
   },
   {
    "duration": 7,
    "start_time": "2021-11-06T19:43:46.003Z"
   },
   {
    "duration": 1377,
    "start_time": "2021-11-06T19:50:08.297Z"
   },
   {
    "duration": 433,
    "start_time": "2021-11-06T19:50:09.677Z"
   },
   {
    "duration": 72,
    "start_time": "2021-11-06T19:50:10.042Z"
   },
   {
    "duration": 70,
    "start_time": "2021-11-06T19:50:10.045Z"
   },
   {
    "duration": 70,
    "start_time": "2021-11-06T19:50:10.047Z"
   },
   {
    "duration": 67,
    "start_time": "2021-11-06T19:50:10.051Z"
   },
   {
    "duration": 65,
    "start_time": "2021-11-06T19:50:10.055Z"
   },
   {
    "duration": 65,
    "start_time": "2021-11-06T19:50:10.056Z"
   },
   {
    "duration": 65,
    "start_time": "2021-11-06T19:50:10.058Z"
   },
   {
    "duration": 66,
    "start_time": "2021-11-06T19:50:10.059Z"
   },
   {
    "duration": 66,
    "start_time": "2021-11-06T19:50:10.060Z"
   },
   {
    "duration": 66,
    "start_time": "2021-11-06T19:50:10.061Z"
   },
   {
    "duration": 64,
    "start_time": "2021-11-06T19:50:10.065Z"
   },
   {
    "duration": 60,
    "start_time": "2021-11-06T19:50:10.071Z"
   },
   {
    "duration": 60,
    "start_time": "2021-11-06T19:50:10.072Z"
   },
   {
    "duration": 1451,
    "start_time": "2021-11-06T19:53:59.704Z"
   },
   {
    "duration": 6,
    "start_time": "2021-11-06T19:54:01.158Z"
   },
   {
    "duration": 10,
    "start_time": "2021-11-06T19:54:01.168Z"
   },
   {
    "duration": 9,
    "start_time": "2021-11-06T19:54:01.181Z"
   },
   {
    "duration": 24,
    "start_time": "2021-11-06T19:54:01.193Z"
   },
   {
    "duration": 19,
    "start_time": "2021-11-06T19:54:01.220Z"
   },
   {
    "duration": 150,
    "start_time": "2021-11-06T19:54:01.242Z"
   },
   {
    "duration": 36603,
    "start_time": "2021-11-06T19:54:01.395Z"
   },
   {
    "duration": 14,
    "start_time": "2021-11-06T19:54:38.000Z"
   },
   {
    "duration": 15,
    "start_time": "2021-11-06T19:54:38.016Z"
   },
   {
    "duration": 191,
    "start_time": "2021-11-06T19:54:38.034Z"
   },
   {
    "duration": 13,
    "start_time": "2021-11-06T19:54:38.228Z"
   },
   {
    "duration": 27,
    "start_time": "2021-11-06T19:54:38.243Z"
   },
   {
    "duration": 26,
    "start_time": "2021-11-06T19:54:38.273Z"
   },
   {
    "duration": 10,
    "start_time": "2021-11-06T19:54:38.301Z"
   },
   {
    "duration": 1449,
    "start_time": "2021-11-06T19:56:29.181Z"
   },
   {
    "duration": 7,
    "start_time": "2021-11-06T19:56:30.633Z"
   },
   {
    "duration": 14,
    "start_time": "2021-11-06T19:56:30.643Z"
   },
   {
    "duration": 7,
    "start_time": "2021-11-06T19:56:30.667Z"
   },
   {
    "duration": 17,
    "start_time": "2021-11-06T19:56:30.677Z"
   },
   {
    "duration": 17,
    "start_time": "2021-11-06T19:56:30.696Z"
   },
   {
    "duration": 122,
    "start_time": "2021-11-06T19:56:30.716Z"
   },
   {
    "duration": 36766,
    "start_time": "2021-11-06T19:56:30.842Z"
   },
   {
    "duration": 24,
    "start_time": "2021-11-06T19:57:07.611Z"
   },
   {
    "duration": 39,
    "start_time": "2021-11-06T19:57:07.638Z"
   },
   {
    "duration": 170,
    "start_time": "2021-11-06T19:57:07.680Z"
   },
   {
    "duration": 32,
    "start_time": "2021-11-06T19:57:07.853Z"
   },
   {
    "duration": 9,
    "start_time": "2021-11-06T19:57:07.887Z"
   },
   {
    "duration": 32,
    "start_time": "2021-11-06T19:57:07.898Z"
   },
   {
    "duration": 9,
    "start_time": "2021-11-06T19:57:07.933Z"
   },
   {
    "duration": 1280,
    "start_time": "2021-11-07T18:49:04.085Z"
   },
   {
    "duration": 37,
    "start_time": "2021-11-07T18:49:05.367Z"
   },
   {
    "duration": 5,
    "start_time": "2021-11-07T18:49:05.406Z"
   },
   {
    "duration": 10,
    "start_time": "2021-11-07T18:49:05.413Z"
   },
   {
    "duration": 7,
    "start_time": "2021-11-07T18:49:05.425Z"
   },
   {
    "duration": 8,
    "start_time": "2021-11-07T18:49:05.434Z"
   },
   {
    "duration": 7,
    "start_time": "2021-11-07T18:49:05.444Z"
   },
   {
    "duration": 103,
    "start_time": "2021-11-07T18:49:05.453Z"
   },
   {
    "duration": 25420,
    "start_time": "2021-11-07T18:49:05.558Z"
   },
   {
    "duration": 13,
    "start_time": "2021-11-07T18:49:30.980Z"
   },
   {
    "duration": 11,
    "start_time": "2021-11-07T18:49:31.007Z"
   },
   {
    "duration": 127,
    "start_time": "2021-11-07T18:49:31.020Z"
   },
   {
    "duration": 14,
    "start_time": "2021-11-07T18:49:31.149Z"
   },
   {
    "duration": 14,
    "start_time": "2021-11-07T18:49:31.165Z"
   },
   {
    "duration": 6,
    "start_time": "2021-11-07T18:49:31.181Z"
   },
   {
    "duration": 7,
    "start_time": "2021-11-07T18:49:31.207Z"
   },
   {
    "duration": 3,
    "start_time": "2021-11-07T18:56:12.714Z"
   },
   {
    "duration": 1112,
    "start_time": "2021-11-07T19:02:08.546Z"
   },
   {
    "duration": 36,
    "start_time": "2021-11-07T19:02:09.660Z"
   },
   {
    "duration": 9,
    "start_time": "2021-11-07T19:02:09.698Z"
   },
   {
    "duration": 14,
    "start_time": "2021-11-07T19:02:09.709Z"
   },
   {
    "duration": 9,
    "start_time": "2021-11-07T19:02:09.725Z"
   },
   {
    "duration": 15,
    "start_time": "2021-11-07T19:02:09.735Z"
   },
   {
    "duration": 7,
    "start_time": "2021-11-07T19:02:09.752Z"
   },
   {
    "duration": 10,
    "start_time": "2021-11-07T19:02:09.762Z"
   },
   {
    "duration": 96,
    "start_time": "2021-11-07T19:02:09.774Z"
   },
   {
    "duration": 25002,
    "start_time": "2021-11-07T19:02:09.872Z"
   },
   {
    "duration": 10,
    "start_time": "2021-11-07T19:02:34.876Z"
   },
   {
    "duration": 25,
    "start_time": "2021-11-07T19:02:34.888Z"
   },
   {
    "duration": 121,
    "start_time": "2021-11-07T19:02:34.915Z"
   },
   {
    "duration": 10,
    "start_time": "2021-11-07T19:02:35.038Z"
   },
   {
    "duration": 6,
    "start_time": "2021-11-07T19:02:35.050Z"
   },
   {
    "duration": 11,
    "start_time": "2021-11-07T19:02:35.058Z"
   },
   {
    "duration": 8,
    "start_time": "2021-11-07T19:02:35.071Z"
   },
   {
    "duration": 5,
    "start_time": "2021-11-07T19:04:24.616Z"
   },
   {
    "duration": 1182,
    "start_time": "2021-11-07T19:06:54.378Z"
   },
   {
    "duration": 37,
    "start_time": "2021-11-07T19:06:55.563Z"
   },
   {
    "duration": 5,
    "start_time": "2021-11-07T19:06:55.602Z"
   },
   {
    "duration": 25,
    "start_time": "2021-11-07T19:06:55.609Z"
   },
   {
    "duration": 7,
    "start_time": "2021-11-07T19:06:55.636Z"
   },
   {
    "duration": 8,
    "start_time": "2021-11-07T19:06:55.646Z"
   },
   {
    "duration": 10,
    "start_time": "2021-11-07T19:06:55.655Z"
   },
   {
    "duration": 7,
    "start_time": "2021-11-07T19:06:55.667Z"
   },
   {
    "duration": 90,
    "start_time": "2021-11-07T19:06:55.676Z"
   },
   {
    "duration": 24356,
    "start_time": "2021-11-07T19:06:55.768Z"
   },
   {
    "duration": 10,
    "start_time": "2021-11-07T19:07:20.125Z"
   },
   {
    "duration": 58,
    "start_time": "2021-11-07T19:07:20.137Z"
   },
   {
    "duration": 113,
    "start_time": "2021-11-07T19:07:20.197Z"
   },
   {
    "duration": 9,
    "start_time": "2021-11-07T19:07:20.312Z"
   },
   {
    "duration": 9,
    "start_time": "2021-11-07T19:07:20.323Z"
   },
   {
    "duration": 7,
    "start_time": "2021-11-07T19:07:20.334Z"
   },
   {
    "duration": 7,
    "start_time": "2021-11-07T19:07:20.343Z"
   },
   {
    "duration": 5,
    "start_time": "2021-11-07T19:09:23.416Z"
   },
   {
    "duration": 1318,
    "start_time": "2022-01-30T20:27:29.358Z"
   },
   {
    "duration": 43,
    "start_time": "2022-01-30T20:27:30.679Z"
   },
   {
    "duration": 10,
    "start_time": "2022-01-30T20:27:30.725Z"
   },
   {
    "duration": 11,
    "start_time": "2022-01-30T20:27:30.738Z"
   },
   {
    "duration": 8,
    "start_time": "2022-01-30T20:27:30.751Z"
   },
   {
    "duration": 7,
    "start_time": "2022-01-30T20:27:30.761Z"
   },
   {
    "duration": 9,
    "start_time": "2022-01-30T20:27:30.770Z"
   },
   {
    "duration": 9,
    "start_time": "2022-01-30T20:27:30.782Z"
   },
   {
    "duration": 152,
    "start_time": "2022-01-30T20:27:30.794Z"
   },
   {
    "duration": 34995,
    "start_time": "2022-01-30T20:27:30.949Z"
   },
   {
    "duration": 23,
    "start_time": "2022-01-30T20:28:05.946Z"
   },
   {
    "duration": 13,
    "start_time": "2022-01-30T20:28:05.972Z"
   },
   {
    "duration": 187,
    "start_time": "2022-01-30T20:28:05.987Z"
   },
   {
    "duration": 22,
    "start_time": "2022-01-30T20:28:06.177Z"
   },
   {
    "duration": 7,
    "start_time": "2022-01-30T20:28:06.201Z"
   },
   {
    "duration": 25,
    "start_time": "2022-01-30T20:28:06.210Z"
   },
   {
    "duration": 7,
    "start_time": "2022-01-30T20:28:06.238Z"
   }
  ],
  "kernelspec": {
   "display_name": "Python 3",
   "language": "python",
   "name": "python3"
  },
  "language_info": {
   "codemirror_mode": {
    "name": "ipython",
    "version": 3
   },
   "file_extension": ".py",
   "mimetype": "text/x-python",
   "name": "python",
   "nbconvert_exporter": "python",
   "pygments_lexer": "ipython3",
   "version": "3.7.8"
  },
  "toc": {
   "base_numbering": 1,
   "nav_menu": {},
   "number_sections": true,
   "sideBar": true,
   "skip_h1_title": true,
   "title_cell": "Table of Contents",
   "title_sidebar": "Contents",
   "toc_cell": false,
   "toc_position": {},
   "toc_section_display": true,
   "toc_window_display": false
  }
 },
 "nbformat": 4,
 "nbformat_minor": 2
}
