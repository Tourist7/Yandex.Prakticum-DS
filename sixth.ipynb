{
 "cells": [
  {
   "cell_type": "code",
   "execution_count": null,
   "metadata": {},
   "outputs": [],
   "source": []
  },
  {
   "cell_type": "markdown",
   "metadata": {
    "toc": true
   },
   "source": [
    "<h1>Содержание<span class=\"tocSkip\"></span></h1>\n",
    "<div class=\"toc\"><ul class=\"toc-item\"><li><span><a href=\"#Подготовка-данных\" data-toc-modified-id=\"Подготовка-данных-1\"><span class=\"toc-item-num\">1&nbsp;&nbsp;</span>Подготовка данных</a></span></li><li><span><a href=\"#Исследование-задачи\" data-toc-modified-id=\"Исследование-задачи-2\"><span class=\"toc-item-num\">2&nbsp;&nbsp;</span>Исследование задачи</a></span><ul class=\"toc-item\"><li><span><a href=\"#Исследуем-целевой-признак.\" data-toc-modified-id=\"Исследуем-целевой-признак.-2.1\"><span class=\"toc-item-num\">2.1&nbsp;&nbsp;</span>Исследуем целевой признак.</a></span></li><li><span><a href=\"#LogisticRegression\" data-toc-modified-id=\"LogisticRegression-2.2\"><span class=\"toc-item-num\">2.2&nbsp;&nbsp;</span>LogisticRegression</a></span></li><li><span><a href=\"#RandomForestClassifier\" data-toc-modified-id=\"RandomForestClassifier-2.3\"><span class=\"toc-item-num\">2.3&nbsp;&nbsp;</span>RandomForestClassifier</a></span></li></ul></li><li><span><a href=\"#Борьба-с-дисбалансом\" data-toc-modified-id=\"Борьба-с-дисбалансом-3\"><span class=\"toc-item-num\">3&nbsp;&nbsp;</span>Борьба с дисбалансом</a></span><ul class=\"toc-item\"><li><span><a href=\"#Взвешивание-классов\" data-toc-modified-id=\"Взвешивание-классов-3.1\"><span class=\"toc-item-num\">3.1&nbsp;&nbsp;</span>Взвешивание классов</a></span></li><li><span><a href=\"#Upsampling\" data-toc-modified-id=\"Upsampling-3.2\"><span class=\"toc-item-num\">3.2&nbsp;&nbsp;</span>Upsampling</a></span></li><li><span><a href=\"#Downsample\" data-toc-modified-id=\"Downsample-3.3\"><span class=\"toc-item-num\">3.3&nbsp;&nbsp;</span>Downsample</a></span></li><li><span><a href=\"#Вывод\" data-toc-modified-id=\"Вывод-3.4\"><span class=\"toc-item-num\">3.4&nbsp;&nbsp;</span>Вывод</a></span></li></ul></li><li><span><a href=\"#Тестирование-модели\" data-toc-modified-id=\"Тестирование-модели-4\"><span class=\"toc-item-num\">4&nbsp;&nbsp;</span>Тестирование модели</a></span><ul class=\"toc-item\"><li><span><a href=\"#Исследование-метрики-AUC-ROC\" data-toc-modified-id=\"Исследование-метрики-AUC-ROC-4.1\"><span class=\"toc-item-num\">4.1&nbsp;&nbsp;</span>Исследование метрики AUC-ROC</a></span></li></ul></li><li><span><a href=\"#Общий-вывод\" data-toc-modified-id=\"Общий-вывод-5\"><span class=\"toc-item-num\">5&nbsp;&nbsp;</span>Общий вывод</a></span></li><li><span><a href=\"#Чек-лист-готовности-проекта\" data-toc-modified-id=\"Чек-лист-готовности-проекта-6\"><span class=\"toc-item-num\">6&nbsp;&nbsp;</span>Чек-лист готовности проекта</a></span></li></ul></div>"
   ]
  },
  {
   "cell_type": "markdown",
   "metadata": {},
   "source": [
    "# Отток клиентов"
   ]
  },
  {
   "cell_type": "markdown",
   "metadata": {},
   "source": [
    "Из «Бета-Банка» стали уходить клиенты. Каждый месяц. Немного, но заметно. Банковские маркетологи посчитали: сохранять текущих клиентов дешевле, чем привлекать новых.\n",
    "\n",
    "Нужно спрогнозировать, уйдёт клиент из банка в ближайшее время или нет. Вам предоставлены исторические данные о поведении клиентов и расторжении договоров с банком. \n",
    "\n",
    "Постройте модель с предельно большим значением *F1*-меры. Чтобы сдать проект успешно, нужно довести метрику до 0.59. Проверьте *F1*-меру на тестовой выборке самостоятельно.\n",
    "\n",
    "Дополнительно измеряйте *AUC-ROC*, сравнивайте её значение с *F1*-мерой.\n",
    "\n",
    "Источник данных: [https://www.kaggle.com/barelydedicated/bank-customer-churn-modeling](https://www.kaggle.com/barelydedicated/bank-customer-churn-modeling)"
   ]
  },
  {
   "cell_type": "markdown",
   "metadata": {},
   "source": [
    "## Подготовка данных"
   ]
  },
  {
   "cell_type": "code",
   "execution_count": 1,
   "metadata": {},
   "outputs": [],
   "source": [
    "import pandas as pd\n",
    "import numpy as np\n",
    "\n",
    "from sklearn.utils import shuffle\n",
    "from sklearn.model_selection import train_test_split\n",
    "from sklearn.preprocessing import StandardScaler\n",
    "\n",
    "from sklearn.ensemble import RandomForestClassifier\n",
    "from sklearn.linear_model import LogisticRegression\n",
    "import matplotlib.pyplot as plt\n",
    "\n",
    "from sklearn.metrics import f1_score\n",
    "from sklearn.metrics import roc_auc_score\n",
    "from sklearn.metrics import recall_score\n",
    "from sklearn.metrics import precision_score\n",
    "from sklearn.metrics import roc_curve\n",
    "from sklearn.metrics import accuracy_score\n",
    "\n",
    "from sklearn.model_selection import GridSearchCV"
   ]
  },
  {
   "cell_type": "code",
   "execution_count": 2,
   "metadata": {},
   "outputs": [],
   "source": [
    "data = pd.read_csv('/datasets/Churn.csv')"
   ]
  },
  {
   "cell_type": "code",
   "execution_count": 3,
   "metadata": {},
   "outputs": [
    {
     "name": "stdout",
     "output_type": "stream",
     "text": [
      "<class 'pandas.core.frame.DataFrame'>\n",
      "RangeIndex: 10000 entries, 0 to 9999\n",
      "Data columns (total 14 columns):\n",
      "RowNumber          10000 non-null int64\n",
      "CustomerId         10000 non-null int64\n",
      "Surname            10000 non-null object\n",
      "CreditScore        10000 non-null int64\n",
      "Geography          10000 non-null object\n",
      "Gender             10000 non-null object\n",
      "Age                10000 non-null int64\n",
      "Tenure             9091 non-null float64\n",
      "Balance            10000 non-null float64\n",
      "NumOfProducts      10000 non-null int64\n",
      "HasCrCard          10000 non-null int64\n",
      "IsActiveMember     10000 non-null int64\n",
      "EstimatedSalary    10000 non-null float64\n",
      "Exited             10000 non-null int64\n",
      "dtypes: float64(3), int64(8), object(3)\n",
      "memory usage: 1.1+ MB\n"
     ]
    },
    {
     "data": {
      "text/html": [
       "<div>\n",
       "<style scoped>\n",
       "    .dataframe tbody tr th:only-of-type {\n",
       "        vertical-align: middle;\n",
       "    }\n",
       "\n",
       "    .dataframe tbody tr th {\n",
       "        vertical-align: top;\n",
       "    }\n",
       "\n",
       "    .dataframe thead th {\n",
       "        text-align: right;\n",
       "    }\n",
       "</style>\n",
       "<table border=\"1\" class=\"dataframe\">\n",
       "  <thead>\n",
       "    <tr style=\"text-align: right;\">\n",
       "      <th></th>\n",
       "      <th>RowNumber</th>\n",
       "      <th>CustomerId</th>\n",
       "      <th>Surname</th>\n",
       "      <th>CreditScore</th>\n",
       "      <th>Geography</th>\n",
       "      <th>Gender</th>\n",
       "      <th>Age</th>\n",
       "      <th>Tenure</th>\n",
       "      <th>Balance</th>\n",
       "      <th>NumOfProducts</th>\n",
       "      <th>HasCrCard</th>\n",
       "      <th>IsActiveMember</th>\n",
       "      <th>EstimatedSalary</th>\n",
       "      <th>Exited</th>\n",
       "    </tr>\n",
       "  </thead>\n",
       "  <tbody>\n",
       "    <tr>\n",
       "      <td>0</td>\n",
       "      <td>1</td>\n",
       "      <td>15634602</td>\n",
       "      <td>Hargrave</td>\n",
       "      <td>619</td>\n",
       "      <td>France</td>\n",
       "      <td>Female</td>\n",
       "      <td>42</td>\n",
       "      <td>2.0</td>\n",
       "      <td>0.00</td>\n",
       "      <td>1</td>\n",
       "      <td>1</td>\n",
       "      <td>1</td>\n",
       "      <td>101348.88</td>\n",
       "      <td>1</td>\n",
       "    </tr>\n",
       "    <tr>\n",
       "      <td>1</td>\n",
       "      <td>2</td>\n",
       "      <td>15647311</td>\n",
       "      <td>Hill</td>\n",
       "      <td>608</td>\n",
       "      <td>Spain</td>\n",
       "      <td>Female</td>\n",
       "      <td>41</td>\n",
       "      <td>1.0</td>\n",
       "      <td>83807.86</td>\n",
       "      <td>1</td>\n",
       "      <td>0</td>\n",
       "      <td>1</td>\n",
       "      <td>112542.58</td>\n",
       "      <td>0</td>\n",
       "    </tr>\n",
       "    <tr>\n",
       "      <td>2</td>\n",
       "      <td>3</td>\n",
       "      <td>15619304</td>\n",
       "      <td>Onio</td>\n",
       "      <td>502</td>\n",
       "      <td>France</td>\n",
       "      <td>Female</td>\n",
       "      <td>42</td>\n",
       "      <td>8.0</td>\n",
       "      <td>159660.80</td>\n",
       "      <td>3</td>\n",
       "      <td>1</td>\n",
       "      <td>0</td>\n",
       "      <td>113931.57</td>\n",
       "      <td>1</td>\n",
       "    </tr>\n",
       "    <tr>\n",
       "      <td>3</td>\n",
       "      <td>4</td>\n",
       "      <td>15701354</td>\n",
       "      <td>Boni</td>\n",
       "      <td>699</td>\n",
       "      <td>France</td>\n",
       "      <td>Female</td>\n",
       "      <td>39</td>\n",
       "      <td>1.0</td>\n",
       "      <td>0.00</td>\n",
       "      <td>2</td>\n",
       "      <td>0</td>\n",
       "      <td>0</td>\n",
       "      <td>93826.63</td>\n",
       "      <td>0</td>\n",
       "    </tr>\n",
       "    <tr>\n",
       "      <td>4</td>\n",
       "      <td>5</td>\n",
       "      <td>15737888</td>\n",
       "      <td>Mitchell</td>\n",
       "      <td>850</td>\n",
       "      <td>Spain</td>\n",
       "      <td>Female</td>\n",
       "      <td>43</td>\n",
       "      <td>2.0</td>\n",
       "      <td>125510.82</td>\n",
       "      <td>1</td>\n",
       "      <td>1</td>\n",
       "      <td>1</td>\n",
       "      <td>79084.10</td>\n",
       "      <td>0</td>\n",
       "    </tr>\n",
       "  </tbody>\n",
       "</table>\n",
       "</div>"
      ],
      "text/plain": [
       "   RowNumber  CustomerId   Surname  CreditScore Geography  Gender  Age  \\\n",
       "0          1    15634602  Hargrave          619    France  Female   42   \n",
       "1          2    15647311      Hill          608     Spain  Female   41   \n",
       "2          3    15619304      Onio          502    France  Female   42   \n",
       "3          4    15701354      Boni          699    France  Female   39   \n",
       "4          5    15737888  Mitchell          850     Spain  Female   43   \n",
       "\n",
       "   Tenure    Balance  NumOfProducts  HasCrCard  IsActiveMember  \\\n",
       "0     2.0       0.00              1          1               1   \n",
       "1     1.0   83807.86              1          0               1   \n",
       "2     8.0  159660.80              3          1               0   \n",
       "3     1.0       0.00              2          0               0   \n",
       "4     2.0  125510.82              1          1               1   \n",
       "\n",
       "   EstimatedSalary  Exited  \n",
       "0        101348.88       1  \n",
       "1        112542.58       0  \n",
       "2        113931.57       1  \n",
       "3         93826.63       0  \n",
       "4         79084.10       0  "
      ]
     },
     "metadata": {},
     "output_type": "display_data"
    },
    {
     "data": {
      "text/html": [
       "<style  type=\"text/css\" >\n",
       "    #T_8cadd404_8218_11ec_9c90_02420a391b26row0_col0 {\n",
       "            background-color:  #b40426;\n",
       "            color:  #f1f1f1;\n",
       "        }    #T_8cadd404_8218_11ec_9c90_02420a391b26row1_col0 {\n",
       "            background-color:  #3b4cc0;\n",
       "            color:  #f1f1f1;\n",
       "        }    #T_8cadd404_8218_11ec_9c90_02420a391b26row2_col0 {\n",
       "            background-color:  #3b4cc0;\n",
       "            color:  #f1f1f1;\n",
       "        }    #T_8cadd404_8218_11ec_9c90_02420a391b26row3_col0 {\n",
       "            background-color:  #3b4cc0;\n",
       "            color:  #f1f1f1;\n",
       "        }    #T_8cadd404_8218_11ec_9c90_02420a391b26row4_col0 {\n",
       "            background-color:  #3b4cc0;\n",
       "            color:  #f1f1f1;\n",
       "        }    #T_8cadd404_8218_11ec_9c90_02420a391b26row5_col0 {\n",
       "            background-color:  #3b4cc0;\n",
       "            color:  #f1f1f1;\n",
       "        }    #T_8cadd404_8218_11ec_9c90_02420a391b26row6_col0 {\n",
       "            background-color:  #3b4cc0;\n",
       "            color:  #f1f1f1;\n",
       "        }    #T_8cadd404_8218_11ec_9c90_02420a391b26row7_col0 {\n",
       "            background-color:  #3b4cc0;\n",
       "            color:  #f1f1f1;\n",
       "        }    #T_8cadd404_8218_11ec_9c90_02420a391b26row8_col0 {\n",
       "            background-color:  #3b4cc0;\n",
       "            color:  #f1f1f1;\n",
       "        }    #T_8cadd404_8218_11ec_9c90_02420a391b26row9_col0 {\n",
       "            background-color:  #3b4cc0;\n",
       "            color:  #f1f1f1;\n",
       "        }    #T_8cadd404_8218_11ec_9c90_02420a391b26row10_col0 {\n",
       "            background-color:  #3b4cc0;\n",
       "            color:  #f1f1f1;\n",
       "        }    #T_8cadd404_8218_11ec_9c90_02420a391b26row11_col0 {\n",
       "            background-color:  #3b4cc0;\n",
       "            color:  #f1f1f1;\n",
       "        }    #T_8cadd404_8218_11ec_9c90_02420a391b26row12_col0 {\n",
       "            background-color:  #3b4cc0;\n",
       "            color:  #f1f1f1;\n",
       "        }    #T_8cadd404_8218_11ec_9c90_02420a391b26row13_col0 {\n",
       "            background-color:  #3b4cc0;\n",
       "            color:  #f1f1f1;\n",
       "        }</style><table id=\"T_8cadd404_8218_11ec_9c90_02420a391b26\" ><thead>    <tr>        <th class=\"blank level0\" ></th>        <th class=\"col_heading level0 col0\" >0</th>    </tr></thead><tbody>\n",
       "                <tr>\n",
       "                        <th id=\"T_8cadd404_8218_11ec_9c90_02420a391b26level0_row0\" class=\"row_heading level0 row0\" >Tenure</th>\n",
       "                        <td id=\"T_8cadd404_8218_11ec_9c90_02420a391b26row0_col0\" class=\"data row0 col0\" >9.09</td>\n",
       "            </tr>\n",
       "            <tr>\n",
       "                        <th id=\"T_8cadd404_8218_11ec_9c90_02420a391b26level0_row1\" class=\"row_heading level0 row1\" >Exited</th>\n",
       "                        <td id=\"T_8cadd404_8218_11ec_9c90_02420a391b26row1_col0\" class=\"data row1 col0\" >0</td>\n",
       "            </tr>\n",
       "            <tr>\n",
       "                        <th id=\"T_8cadd404_8218_11ec_9c90_02420a391b26level0_row2\" class=\"row_heading level0 row2\" >EstimatedSalary</th>\n",
       "                        <td id=\"T_8cadd404_8218_11ec_9c90_02420a391b26row2_col0\" class=\"data row2 col0\" >0</td>\n",
       "            </tr>\n",
       "            <tr>\n",
       "                        <th id=\"T_8cadd404_8218_11ec_9c90_02420a391b26level0_row3\" class=\"row_heading level0 row3\" >IsActiveMember</th>\n",
       "                        <td id=\"T_8cadd404_8218_11ec_9c90_02420a391b26row3_col0\" class=\"data row3 col0\" >0</td>\n",
       "            </tr>\n",
       "            <tr>\n",
       "                        <th id=\"T_8cadd404_8218_11ec_9c90_02420a391b26level0_row4\" class=\"row_heading level0 row4\" >HasCrCard</th>\n",
       "                        <td id=\"T_8cadd404_8218_11ec_9c90_02420a391b26row4_col0\" class=\"data row4 col0\" >0</td>\n",
       "            </tr>\n",
       "            <tr>\n",
       "                        <th id=\"T_8cadd404_8218_11ec_9c90_02420a391b26level0_row5\" class=\"row_heading level0 row5\" >NumOfProducts</th>\n",
       "                        <td id=\"T_8cadd404_8218_11ec_9c90_02420a391b26row5_col0\" class=\"data row5 col0\" >0</td>\n",
       "            </tr>\n",
       "            <tr>\n",
       "                        <th id=\"T_8cadd404_8218_11ec_9c90_02420a391b26level0_row6\" class=\"row_heading level0 row6\" >Balance</th>\n",
       "                        <td id=\"T_8cadd404_8218_11ec_9c90_02420a391b26row6_col0\" class=\"data row6 col0\" >0</td>\n",
       "            </tr>\n",
       "            <tr>\n",
       "                        <th id=\"T_8cadd404_8218_11ec_9c90_02420a391b26level0_row7\" class=\"row_heading level0 row7\" >Age</th>\n",
       "                        <td id=\"T_8cadd404_8218_11ec_9c90_02420a391b26row7_col0\" class=\"data row7 col0\" >0</td>\n",
       "            </tr>\n",
       "            <tr>\n",
       "                        <th id=\"T_8cadd404_8218_11ec_9c90_02420a391b26level0_row8\" class=\"row_heading level0 row8\" >Gender</th>\n",
       "                        <td id=\"T_8cadd404_8218_11ec_9c90_02420a391b26row8_col0\" class=\"data row8 col0\" >0</td>\n",
       "            </tr>\n",
       "            <tr>\n",
       "                        <th id=\"T_8cadd404_8218_11ec_9c90_02420a391b26level0_row9\" class=\"row_heading level0 row9\" >Geography</th>\n",
       "                        <td id=\"T_8cadd404_8218_11ec_9c90_02420a391b26row9_col0\" class=\"data row9 col0\" >0</td>\n",
       "            </tr>\n",
       "            <tr>\n",
       "                        <th id=\"T_8cadd404_8218_11ec_9c90_02420a391b26level0_row10\" class=\"row_heading level0 row10\" >CreditScore</th>\n",
       "                        <td id=\"T_8cadd404_8218_11ec_9c90_02420a391b26row10_col0\" class=\"data row10 col0\" >0</td>\n",
       "            </tr>\n",
       "            <tr>\n",
       "                        <th id=\"T_8cadd404_8218_11ec_9c90_02420a391b26level0_row11\" class=\"row_heading level0 row11\" >Surname</th>\n",
       "                        <td id=\"T_8cadd404_8218_11ec_9c90_02420a391b26row11_col0\" class=\"data row11 col0\" >0</td>\n",
       "            </tr>\n",
       "            <tr>\n",
       "                        <th id=\"T_8cadd404_8218_11ec_9c90_02420a391b26level0_row12\" class=\"row_heading level0 row12\" >CustomerId</th>\n",
       "                        <td id=\"T_8cadd404_8218_11ec_9c90_02420a391b26row12_col0\" class=\"data row12 col0\" >0</td>\n",
       "            </tr>\n",
       "            <tr>\n",
       "                        <th id=\"T_8cadd404_8218_11ec_9c90_02420a391b26level0_row13\" class=\"row_heading level0 row13\" >RowNumber</th>\n",
       "                        <td id=\"T_8cadd404_8218_11ec_9c90_02420a391b26row13_col0\" class=\"data row13 col0\" >0</td>\n",
       "            </tr>\n",
       "    </tbody></table>"
      ],
      "text/plain": [
       "<pandas.io.formats.style.Styler at 0x7f5a1ef87e50>"
      ]
     },
     "execution_count": 3,
     "metadata": {},
     "output_type": "execute_result"
    }
   ],
   "source": [
    "data.info()\n",
    "display(data.head())\n",
    "pd.DataFrame(data.isna().mean().round(4)*100).sort_values(by=0)[::-1].style.background_gradient('coolwarm') # процентное соотношение пропущенных значений"
   ]
  },
  {
   "cell_type": "code",
   "execution_count": 4,
   "metadata": {},
   "outputs": [
    {
     "data": {
      "text/plain": [
       "1.0     952\n",
       "2.0     950\n",
       "8.0     933\n",
       "3.0     928\n",
       "5.0     927\n",
       "7.0     925\n",
       "4.0     885\n",
       "9.0     882\n",
       "6.0     881\n",
       "10.0    446\n",
       "0.0     382\n",
       "Name: Tenure, dtype: int64"
      ]
     },
     "execution_count": 4,
     "metadata": {},
     "output_type": "execute_result"
    }
   ],
   "source": [
    "data['Tenure'].value_counts()"
   ]
  },
  {
   "cell_type": "markdown",
   "metadata": {},
   "source": [
    "Видим, что типы столбцов соответствует содержанию. В столбце \"Tenure\" - \"сколько лет человек является клиентом банка\" есть 9% пропущенных значений. \n",
    "Причинами этого пропуска может быть как техническая ошибка, так и то, что этот клиент обслуживается менее 1 года в этом банке.\n",
    "Так как точной причины мы не знаем, то заменим эти данные на медианные.\n",
    "\n",
    "Также видим столбцы содержащии неприминимую в данной задачи информацию:\n",
    "- RowNumber - индекс строки в данных\n",
    "- CustomerId - уникальный идентификатор клиента\n",
    "- Surname -  фамилия.\n",
    "Эти столбцы удалим."
   ]
  },
  {
   "cell_type": "code",
   "execution_count": 5,
   "metadata": {},
   "outputs": [
    {
     "data": {
      "text/html": [
       "<style  type=\"text/css\" >\n",
       "    #T_8cb917c4_8218_11ec_9c90_02420a391b26row0_col0 {\n",
       "            background-color:  #3b4cc0;\n",
       "            color:  #f1f1f1;\n",
       "        }    #T_8cb917c4_8218_11ec_9c90_02420a391b26row1_col0 {\n",
       "            background-color:  #3b4cc0;\n",
       "            color:  #f1f1f1;\n",
       "        }    #T_8cb917c4_8218_11ec_9c90_02420a391b26row2_col0 {\n",
       "            background-color:  #3b4cc0;\n",
       "            color:  #f1f1f1;\n",
       "        }    #T_8cb917c4_8218_11ec_9c90_02420a391b26row3_col0 {\n",
       "            background-color:  #3b4cc0;\n",
       "            color:  #f1f1f1;\n",
       "        }    #T_8cb917c4_8218_11ec_9c90_02420a391b26row4_col0 {\n",
       "            background-color:  #3b4cc0;\n",
       "            color:  #f1f1f1;\n",
       "        }    #T_8cb917c4_8218_11ec_9c90_02420a391b26row5_col0 {\n",
       "            background-color:  #3b4cc0;\n",
       "            color:  #f1f1f1;\n",
       "        }    #T_8cb917c4_8218_11ec_9c90_02420a391b26row6_col0 {\n",
       "            background-color:  #3b4cc0;\n",
       "            color:  #f1f1f1;\n",
       "        }    #T_8cb917c4_8218_11ec_9c90_02420a391b26row7_col0 {\n",
       "            background-color:  #3b4cc0;\n",
       "            color:  #f1f1f1;\n",
       "        }    #T_8cb917c4_8218_11ec_9c90_02420a391b26row8_col0 {\n",
       "            background-color:  #3b4cc0;\n",
       "            color:  #f1f1f1;\n",
       "        }    #T_8cb917c4_8218_11ec_9c90_02420a391b26row9_col0 {\n",
       "            background-color:  #3b4cc0;\n",
       "            color:  #f1f1f1;\n",
       "        }    #T_8cb917c4_8218_11ec_9c90_02420a391b26row10_col0 {\n",
       "            background-color:  #3b4cc0;\n",
       "            color:  #f1f1f1;\n",
       "        }    #T_8cb917c4_8218_11ec_9c90_02420a391b26row11_col0 {\n",
       "            background-color:  #3b4cc0;\n",
       "            color:  #f1f1f1;\n",
       "        }    #T_8cb917c4_8218_11ec_9c90_02420a391b26row12_col0 {\n",
       "            background-color:  #3b4cc0;\n",
       "            color:  #f1f1f1;\n",
       "        }    #T_8cb917c4_8218_11ec_9c90_02420a391b26row13_col0 {\n",
       "            background-color:  #3b4cc0;\n",
       "            color:  #f1f1f1;\n",
       "        }</style><table id=\"T_8cb917c4_8218_11ec_9c90_02420a391b26\" ><thead>    <tr>        <th class=\"blank level0\" ></th>        <th class=\"col_heading level0 col0\" >0</th>    </tr></thead><tbody>\n",
       "                <tr>\n",
       "                        <th id=\"T_8cb917c4_8218_11ec_9c90_02420a391b26level0_row0\" class=\"row_heading level0 row0\" >Exited</th>\n",
       "                        <td id=\"T_8cb917c4_8218_11ec_9c90_02420a391b26row0_col0\" class=\"data row0 col0\" >0</td>\n",
       "            </tr>\n",
       "            <tr>\n",
       "                        <th id=\"T_8cb917c4_8218_11ec_9c90_02420a391b26level0_row1\" class=\"row_heading level0 row1\" >EstimatedSalary</th>\n",
       "                        <td id=\"T_8cb917c4_8218_11ec_9c90_02420a391b26row1_col0\" class=\"data row1 col0\" >0</td>\n",
       "            </tr>\n",
       "            <tr>\n",
       "                        <th id=\"T_8cb917c4_8218_11ec_9c90_02420a391b26level0_row2\" class=\"row_heading level0 row2\" >IsActiveMember</th>\n",
       "                        <td id=\"T_8cb917c4_8218_11ec_9c90_02420a391b26row2_col0\" class=\"data row2 col0\" >0</td>\n",
       "            </tr>\n",
       "            <tr>\n",
       "                        <th id=\"T_8cb917c4_8218_11ec_9c90_02420a391b26level0_row3\" class=\"row_heading level0 row3\" >HasCrCard</th>\n",
       "                        <td id=\"T_8cb917c4_8218_11ec_9c90_02420a391b26row3_col0\" class=\"data row3 col0\" >0</td>\n",
       "            </tr>\n",
       "            <tr>\n",
       "                        <th id=\"T_8cb917c4_8218_11ec_9c90_02420a391b26level0_row4\" class=\"row_heading level0 row4\" >NumOfProducts</th>\n",
       "                        <td id=\"T_8cb917c4_8218_11ec_9c90_02420a391b26row4_col0\" class=\"data row4 col0\" >0</td>\n",
       "            </tr>\n",
       "            <tr>\n",
       "                        <th id=\"T_8cb917c4_8218_11ec_9c90_02420a391b26level0_row5\" class=\"row_heading level0 row5\" >Balance</th>\n",
       "                        <td id=\"T_8cb917c4_8218_11ec_9c90_02420a391b26row5_col0\" class=\"data row5 col0\" >0</td>\n",
       "            </tr>\n",
       "            <tr>\n",
       "                        <th id=\"T_8cb917c4_8218_11ec_9c90_02420a391b26level0_row6\" class=\"row_heading level0 row6\" >Tenure</th>\n",
       "                        <td id=\"T_8cb917c4_8218_11ec_9c90_02420a391b26row6_col0\" class=\"data row6 col0\" >0</td>\n",
       "            </tr>\n",
       "            <tr>\n",
       "                        <th id=\"T_8cb917c4_8218_11ec_9c90_02420a391b26level0_row7\" class=\"row_heading level0 row7\" >Age</th>\n",
       "                        <td id=\"T_8cb917c4_8218_11ec_9c90_02420a391b26row7_col0\" class=\"data row7 col0\" >0</td>\n",
       "            </tr>\n",
       "            <tr>\n",
       "                        <th id=\"T_8cb917c4_8218_11ec_9c90_02420a391b26level0_row8\" class=\"row_heading level0 row8\" >Gender</th>\n",
       "                        <td id=\"T_8cb917c4_8218_11ec_9c90_02420a391b26row8_col0\" class=\"data row8 col0\" >0</td>\n",
       "            </tr>\n",
       "            <tr>\n",
       "                        <th id=\"T_8cb917c4_8218_11ec_9c90_02420a391b26level0_row9\" class=\"row_heading level0 row9\" >Geography</th>\n",
       "                        <td id=\"T_8cb917c4_8218_11ec_9c90_02420a391b26row9_col0\" class=\"data row9 col0\" >0</td>\n",
       "            </tr>\n",
       "            <tr>\n",
       "                        <th id=\"T_8cb917c4_8218_11ec_9c90_02420a391b26level0_row10\" class=\"row_heading level0 row10\" >CreditScore</th>\n",
       "                        <td id=\"T_8cb917c4_8218_11ec_9c90_02420a391b26row10_col0\" class=\"data row10 col0\" >0</td>\n",
       "            </tr>\n",
       "            <tr>\n",
       "                        <th id=\"T_8cb917c4_8218_11ec_9c90_02420a391b26level0_row11\" class=\"row_heading level0 row11\" >Surname</th>\n",
       "                        <td id=\"T_8cb917c4_8218_11ec_9c90_02420a391b26row11_col0\" class=\"data row11 col0\" >0</td>\n",
       "            </tr>\n",
       "            <tr>\n",
       "                        <th id=\"T_8cb917c4_8218_11ec_9c90_02420a391b26level0_row12\" class=\"row_heading level0 row12\" >CustomerId</th>\n",
       "                        <td id=\"T_8cb917c4_8218_11ec_9c90_02420a391b26row12_col0\" class=\"data row12 col0\" >0</td>\n",
       "            </tr>\n",
       "            <tr>\n",
       "                        <th id=\"T_8cb917c4_8218_11ec_9c90_02420a391b26level0_row13\" class=\"row_heading level0 row13\" >RowNumber</th>\n",
       "                        <td id=\"T_8cb917c4_8218_11ec_9c90_02420a391b26row13_col0\" class=\"data row13 col0\" >0</td>\n",
       "            </tr>\n",
       "    </tbody></table>"
      ],
      "text/plain": [
       "<pandas.io.formats.style.Styler at 0x7f5a1e391250>"
      ]
     },
     "execution_count": 5,
     "metadata": {},
     "output_type": "execute_result"
    }
   ],
   "source": [
    "data = data.fillna(data['Tenure'].median())\n",
    "pd.DataFrame(data.isna().mean().round(4)*100).sort_values(by=0)[::-1].style.background_gradient('coolwarm') # процентное соотношение пропущенных значений"
   ]
  },
  {
   "cell_type": "markdown",
   "metadata": {},
   "source": [
    "Удалим ненужные нам колонки"
   ]
  },
  {
   "cell_type": "code",
   "execution_count": 6,
   "metadata": {},
   "outputs": [],
   "source": [
    "data.drop(['RowNumber', 'CustomerId', 'Surname'], axis='columns', inplace=True)"
   ]
  },
  {
   "cell_type": "markdown",
   "metadata": {},
   "source": [
    "Посмотрим правильность наименования столбцов"
   ]
  },
  {
   "cell_type": "code",
   "execution_count": 7,
   "metadata": {},
   "outputs": [
    {
     "name": "stdout",
     "output_type": "stream",
     "text": [
      "Index(['CreditScore', 'Geography', 'Gender', 'Age', 'Tenure', 'Balance',\n",
      "       'NumOfProducts', 'HasCrCard', 'IsActiveMember', 'EstimatedSalary',\n",
      "       'Exited'],\n",
      "      dtype='object')\n"
     ]
    }
   ],
   "source": [
    "print(data.columns)"
   ]
  },
  {
   "cell_type": "markdown",
   "metadata": {},
   "source": [
    "Названия столбцов правильные.\n",
    "\n",
    "Посмотрим наличие дубликатов:"
   ]
  },
  {
   "cell_type": "code",
   "execution_count": 8,
   "metadata": {},
   "outputs": [
    {
     "data": {
      "text/plain": [
       "0"
      ]
     },
     "execution_count": 8,
     "metadata": {},
     "output_type": "execute_result"
    }
   ],
   "source": [
    "data.duplicated().sum()"
   ]
  },
  {
   "cell_type": "markdown",
   "metadata": {},
   "source": [
    "Дубликатов нет."
   ]
  },
  {
   "cell_type": "code",
   "execution_count": 9,
   "metadata": {},
   "outputs": [
    {
     "data": {
      "text/html": [
       "<div>\n",
       "<style scoped>\n",
       "    .dataframe tbody tr th:only-of-type {\n",
       "        vertical-align: middle;\n",
       "    }\n",
       "\n",
       "    .dataframe tbody tr th {\n",
       "        vertical-align: top;\n",
       "    }\n",
       "\n",
       "    .dataframe thead th {\n",
       "        text-align: right;\n",
       "    }\n",
       "</style>\n",
       "<table border=\"1\" class=\"dataframe\">\n",
       "  <thead>\n",
       "    <tr style=\"text-align: right;\">\n",
       "      <th></th>\n",
       "      <th>CreditScore</th>\n",
       "      <th>Geography</th>\n",
       "      <th>Gender</th>\n",
       "      <th>Age</th>\n",
       "      <th>Tenure</th>\n",
       "      <th>Balance</th>\n",
       "      <th>NumOfProducts</th>\n",
       "      <th>HasCrCard</th>\n",
       "      <th>IsActiveMember</th>\n",
       "      <th>EstimatedSalary</th>\n",
       "      <th>Exited</th>\n",
       "    </tr>\n",
       "  </thead>\n",
       "  <tbody>\n",
       "    <tr>\n",
       "      <td>0</td>\n",
       "      <td>619</td>\n",
       "      <td>France</td>\n",
       "      <td>Female</td>\n",
       "      <td>42</td>\n",
       "      <td>2.0</td>\n",
       "      <td>0.00</td>\n",
       "      <td>1</td>\n",
       "      <td>1</td>\n",
       "      <td>1</td>\n",
       "      <td>101348.88</td>\n",
       "      <td>1</td>\n",
       "    </tr>\n",
       "    <tr>\n",
       "      <td>1</td>\n",
       "      <td>608</td>\n",
       "      <td>Spain</td>\n",
       "      <td>Female</td>\n",
       "      <td>41</td>\n",
       "      <td>1.0</td>\n",
       "      <td>83807.86</td>\n",
       "      <td>1</td>\n",
       "      <td>0</td>\n",
       "      <td>1</td>\n",
       "      <td>112542.58</td>\n",
       "      <td>0</td>\n",
       "    </tr>\n",
       "    <tr>\n",
       "      <td>2</td>\n",
       "      <td>502</td>\n",
       "      <td>France</td>\n",
       "      <td>Female</td>\n",
       "      <td>42</td>\n",
       "      <td>8.0</td>\n",
       "      <td>159660.80</td>\n",
       "      <td>3</td>\n",
       "      <td>1</td>\n",
       "      <td>0</td>\n",
       "      <td>113931.57</td>\n",
       "      <td>1</td>\n",
       "    </tr>\n",
       "    <tr>\n",
       "      <td>3</td>\n",
       "      <td>699</td>\n",
       "      <td>France</td>\n",
       "      <td>Female</td>\n",
       "      <td>39</td>\n",
       "      <td>1.0</td>\n",
       "      <td>0.00</td>\n",
       "      <td>2</td>\n",
       "      <td>0</td>\n",
       "      <td>0</td>\n",
       "      <td>93826.63</td>\n",
       "      <td>0</td>\n",
       "    </tr>\n",
       "    <tr>\n",
       "      <td>4</td>\n",
       "      <td>850</td>\n",
       "      <td>Spain</td>\n",
       "      <td>Female</td>\n",
       "      <td>43</td>\n",
       "      <td>2.0</td>\n",
       "      <td>125510.82</td>\n",
       "      <td>1</td>\n",
       "      <td>1</td>\n",
       "      <td>1</td>\n",
       "      <td>79084.10</td>\n",
       "      <td>0</td>\n",
       "    </tr>\n",
       "  </tbody>\n",
       "</table>\n",
       "</div>"
      ],
      "text/plain": [
       "   CreditScore Geography  Gender  Age  Tenure    Balance  NumOfProducts  \\\n",
       "0          619    France  Female   42     2.0       0.00              1   \n",
       "1          608     Spain  Female   41     1.0   83807.86              1   \n",
       "2          502    France  Female   42     8.0  159660.80              3   \n",
       "3          699    France  Female   39     1.0       0.00              2   \n",
       "4          850     Spain  Female   43     2.0  125510.82              1   \n",
       "\n",
       "   HasCrCard  IsActiveMember  EstimatedSalary  Exited  \n",
       "0          1               1        101348.88       1  \n",
       "1          0               1        112542.58       0  \n",
       "2          1               0        113931.57       1  \n",
       "3          0               0         93826.63       0  \n",
       "4          1               1         79084.10       0  "
      ]
     },
     "metadata": {},
     "output_type": "display_data"
    }
   ],
   "source": [
    "display(data.head())"
   ]
  },
  {
   "cell_type": "markdown",
   "metadata": {},
   "source": [
    "В столбцах Geography и Gender находятся категориальные признаки, для нашей работы они должны пригодится (думаю, что пол и регион клиента оказывает влияние на то, уйдет клиент или останется), поэтому приобразуем их в численные с помощью техники\n",
    "прямого кодирования, или отображения One-Hot Encoding. И чтобы избежать дамм-ловушки будем использовать аргумент drop_first=True"
   ]
  },
  {
   "cell_type": "code",
   "execution_count": 10,
   "metadata": {},
   "outputs": [
    {
     "data": {
      "text/html": [
       "<div>\n",
       "<style scoped>\n",
       "    .dataframe tbody tr th:only-of-type {\n",
       "        vertical-align: middle;\n",
       "    }\n",
       "\n",
       "    .dataframe tbody tr th {\n",
       "        vertical-align: top;\n",
       "    }\n",
       "\n",
       "    .dataframe thead th {\n",
       "        text-align: right;\n",
       "    }\n",
       "</style>\n",
       "<table border=\"1\" class=\"dataframe\">\n",
       "  <thead>\n",
       "    <tr style=\"text-align: right;\">\n",
       "      <th></th>\n",
       "      <th>CreditScore</th>\n",
       "      <th>Age</th>\n",
       "      <th>Tenure</th>\n",
       "      <th>Balance</th>\n",
       "      <th>NumOfProducts</th>\n",
       "      <th>HasCrCard</th>\n",
       "      <th>IsActiveMember</th>\n",
       "      <th>EstimatedSalary</th>\n",
       "      <th>Exited</th>\n",
       "      <th>Geography_Germany</th>\n",
       "      <th>Geography_Spain</th>\n",
       "      <th>Gender_Male</th>\n",
       "    </tr>\n",
       "  </thead>\n",
       "  <tbody>\n",
       "    <tr>\n",
       "      <td>0</td>\n",
       "      <td>619</td>\n",
       "      <td>42</td>\n",
       "      <td>2.0</td>\n",
       "      <td>0.00</td>\n",
       "      <td>1</td>\n",
       "      <td>1</td>\n",
       "      <td>1</td>\n",
       "      <td>101348.88</td>\n",
       "      <td>1</td>\n",
       "      <td>0</td>\n",
       "      <td>0</td>\n",
       "      <td>0</td>\n",
       "    </tr>\n",
       "    <tr>\n",
       "      <td>1</td>\n",
       "      <td>608</td>\n",
       "      <td>41</td>\n",
       "      <td>1.0</td>\n",
       "      <td>83807.86</td>\n",
       "      <td>1</td>\n",
       "      <td>0</td>\n",
       "      <td>1</td>\n",
       "      <td>112542.58</td>\n",
       "      <td>0</td>\n",
       "      <td>0</td>\n",
       "      <td>1</td>\n",
       "      <td>0</td>\n",
       "    </tr>\n",
       "    <tr>\n",
       "      <td>2</td>\n",
       "      <td>502</td>\n",
       "      <td>42</td>\n",
       "      <td>8.0</td>\n",
       "      <td>159660.80</td>\n",
       "      <td>3</td>\n",
       "      <td>1</td>\n",
       "      <td>0</td>\n",
       "      <td>113931.57</td>\n",
       "      <td>1</td>\n",
       "      <td>0</td>\n",
       "      <td>0</td>\n",
       "      <td>0</td>\n",
       "    </tr>\n",
       "    <tr>\n",
       "      <td>3</td>\n",
       "      <td>699</td>\n",
       "      <td>39</td>\n",
       "      <td>1.0</td>\n",
       "      <td>0.00</td>\n",
       "      <td>2</td>\n",
       "      <td>0</td>\n",
       "      <td>0</td>\n",
       "      <td>93826.63</td>\n",
       "      <td>0</td>\n",
       "      <td>0</td>\n",
       "      <td>0</td>\n",
       "      <td>0</td>\n",
       "    </tr>\n",
       "    <tr>\n",
       "      <td>4</td>\n",
       "      <td>850</td>\n",
       "      <td>43</td>\n",
       "      <td>2.0</td>\n",
       "      <td>125510.82</td>\n",
       "      <td>1</td>\n",
       "      <td>1</td>\n",
       "      <td>1</td>\n",
       "      <td>79084.10</td>\n",
       "      <td>0</td>\n",
       "      <td>0</td>\n",
       "      <td>1</td>\n",
       "      <td>0</td>\n",
       "    </tr>\n",
       "  </tbody>\n",
       "</table>\n",
       "</div>"
      ],
      "text/plain": [
       "   CreditScore  Age  Tenure    Balance  NumOfProducts  HasCrCard  \\\n",
       "0          619   42     2.0       0.00              1          1   \n",
       "1          608   41     1.0   83807.86              1          0   \n",
       "2          502   42     8.0  159660.80              3          1   \n",
       "3          699   39     1.0       0.00              2          0   \n",
       "4          850   43     2.0  125510.82              1          1   \n",
       "\n",
       "   IsActiveMember  EstimatedSalary  Exited  Geography_Germany  \\\n",
       "0               1        101348.88       1                  0   \n",
       "1               1        112542.58       0                  0   \n",
       "2               0        113931.57       1                  0   \n",
       "3               0         93826.63       0                  0   \n",
       "4               1         79084.10       0                  0   \n",
       "\n",
       "   Geography_Spain  Gender_Male  \n",
       "0                0            0  \n",
       "1                1            0  \n",
       "2                0            0  \n",
       "3                0            0  \n",
       "4                1            0  "
      ]
     },
     "metadata": {},
     "output_type": "display_data"
    }
   ],
   "source": [
    "data_ohe = pd.get_dummies(data, drop_first=True)\n",
    "display(data_ohe.head())"
   ]
  },
  {
   "cell_type": "markdown",
   "metadata": {},
   "source": [
    "Тестовой выборки в нашем случае нет, поэтому будем разбивать на три части: обучающую, валидационную и тестовую. Размеры тестового и валидационного наборов сделаем одинаковые. Исходные данные разобъем в соотношении 3:1:1."
   ]
  },
  {
   "cell_type": "code",
   "execution_count": 11,
   "metadata": {},
   "outputs": [],
   "source": [
    "target = data_ohe['Exited']\n",
    "features = data_ohe.drop('Exited', axis=1)\n",
    "\n",
    "features_train, features_valid, target_train, target_valid = train_test_split(features, target, test_size=0.4, random_state=12345, stratify=target)\n",
    "features_valid, features_test, target_valid, target_test = train_test_split(features_valid, target_valid, test_size=0.5, random_state=12345, stratify=target_valid)"
   ]
  },
  {
   "cell_type": "markdown",
   "metadata": {},
   "source": [
    "Посмотрим размеры выборок"
   ]
  },
  {
   "cell_type": "code",
   "execution_count": 12,
   "metadata": {},
   "outputs": [
    {
     "name": "stdout",
     "output_type": "stream",
     "text": [
      "Размер тренировочной выборки: 6000\n",
      "Размер тестовой выборки: 2000\n",
      "Размер валидной выборки: 2000\n"
     ]
    }
   ],
   "source": [
    "print('Размер тренировочной выборки:', features_train.shape[0])\n",
    "print('Размер тестовой выборки:', features_valid.shape[0])\n",
    "print('Размер валидной выборки:', features_test.shape[0])"
   ]
  },
  {
   "cell_type": "markdown",
   "metadata": {},
   "source": [
    "В данных присутствуют колличественные признаки с разными разбросами значений, чтобы алгорим не решил, что признаки с\n",
    "большими значениями и разбросом важнее, масштабируем признаки — приводем их к одному масштабу.\n",
    "\n",
    "Выберем столбцы, значения в которых выше 1:\n",
    "- CreditScore\n",
    "- Age\n",
    "- Tenure\n",
    "- Balance\n",
    "- EstimatedSalary"
   ]
  },
  {
   "cell_type": "code",
   "execution_count": 13,
   "metadata": {},
   "outputs": [],
   "source": [
    "pd.options.mode.chained_assignment = None     \n",
    "\n",
    "Scaler_columns = ['CreditScore', 'Age', 'Tenure', 'Balance', 'EstimatedSalary']\n",
    "scaler = StandardScaler()\n",
    "scaler.fit(features_train[Scaler_columns])\n",
    "features_train[Scaler_columns] = scaler.transform(features_train[Scaler_columns])\n",
    "features_valid[Scaler_columns] = scaler.transform(features_valid[Scaler_columns])\n",
    "features_test[Scaler_columns] = scaler.transform(features_test[Scaler_columns])   "
   ]
  },
  {
   "cell_type": "markdown",
   "metadata": {},
   "source": [
    "Вывод по подготовке данных:\n",
    "- прочитали файл,\n",
    "- в столбце \"Tenure\" - \"сколько лет человек является клиентом банка\" обнаружиди пропущенные значения и заполнили их медианной\n",
    "- обнаружили три столбца содержащие неприминимую в данной задачи информацию: \n",
    "    - RowNumber - индекс строки в данных\n",
    "    - CustomerId - уникальный идентификатор клиента\n",
    "    - Surname - фамилия.\n",
    "  Эти столбцы удалилм.\n",
    "- проверили правильность названий столбцов и наличе дубликатов\n",
    "- в столбцах CreditScore, Age, Tenure, Balance и EstimatedSalary провели масштабирование используя StandardScaler()\n",
    "- в столбцах Geography и Gender категориальные признаки приобразовали в численные с помощью техники прямого кодирования, или отображения One-Hot Encoding, чтобы избежать дамм-ловушки использовали аргумент drop_first=True\n",
    "- разбили на обучающую, валидационную и тестовую выборки в соотношении 3:1:1"
   ]
  },
  {
   "cell_type": "markdown",
   "metadata": {},
   "source": [
    "## Исследование задачи"
   ]
  },
  {
   "cell_type": "markdown",
   "metadata": {},
   "source": [
    "### Исследуем целевой признак."
   ]
  },
  {
   "cell_type": "markdown",
   "metadata": {},
   "source": [
    "Чтобы оценить адекватность модели, посмотрим как часто в целевом признаке встречается класс «1» или «0». Построим график."
   ]
  },
  {
   "cell_type": "code",
   "execution_count": 14,
   "metadata": {},
   "outputs": [
    {
     "name": "stdout",
     "output_type": "stream",
     "text": [
      "0    0.7963\n",
      "1    0.2037\n",
      "Name: Exited, dtype: float64\n"
     ]
    },
    {
     "data": {
      "image/png": "[encoded data removed]",
      "text/plain": [
       "<Figure size 432x288 with 1 Axes>"
      ]
     },
     "metadata": {
      "needs_background": "light"
     },
     "output_type": "display_data"
    }
   ],
   "source": [
    "class_frequency = data['Exited'].value_counts(normalize= True)\n",
    "print(class_frequency)\n",
    "class_frequency.plot(kind='bar');"
   ]
  },
  {
   "cell_type": "markdown",
   "metadata": {},
   "source": [
    "Видим, что значений с 1, то есть клиенты уходят, 20% против 80% когда остаются. Классы не сбалансированны."
   ]
  },
  {
   "cell_type": "markdown",
   "metadata": {},
   "source": [
    "### LogisticRegression"
   ]
  },
  {
   "cell_type": "code",
   "execution_count": 15,
   "metadata": {},
   "outputs": [
    {
     "name": "stdout",
     "output_type": "stream",
     "text": [
      "Точность LogisticRegression: 0.811\n",
      "F1: 0.3076923076923077\n"
     ]
    }
   ],
   "source": [
    "model = LogisticRegression(random_state=12345,solver = 'liblinear')\n",
    "model.fit(features_train, target_train)\n",
    "predicted_valid_lr_nobal = pd.Series(model.predict(features_valid))\n",
    "print('Точность LogisticRegression:', model.score(features_valid, target_valid))\n",
    "print(\"F1:\", f1_score(predicted_valid_lr_nobal, target_valid))"
   ]
  },
  {
   "cell_type": "markdown",
   "metadata": {},
   "source": [
    "### RandomForestClassifier"
   ]
  },
  {
   "cell_type": "markdown",
   "metadata": {},
   "source": [
    "Подберем лучшую модель"
   ]
  },
  {
   "cell_type": "code",
   "execution_count": 16,
   "metadata": {},
   "outputs": [
    {
     "name": "stdout",
     "output_type": "stream",
     "text": [
      "Лучшее значение f1 score RandomForest = 0.6210995542347697 с 131 деревьями и глубиной 23\n",
      "Точность RandomForestClassifier: 0.869\n",
      "CPU times: user 6min 28s, sys: 1.27 s, total: 6min 29s\n",
      "Wall time: 6min 32s\n"
     ]
    }
   ],
   "source": [
    "%%time\n",
    "\n",
    "best = 0\n",
    "est = 0\n",
    "d = 0\n",
    "auc_sc = np.array([])\n",
    "f1_sc = np.array([])\n",
    "for estim in range (20, 170, 3):\n",
    "    for depth in range(5, 30 ,3):\n",
    "        model = RandomForestClassifier(max_depth = depth, n_estimators = estim, random_state = 12345)\n",
    "        model.fit(features_train, target_train)\n",
    "        predicted_valid_rfnobal = model.predict(features_valid)\n",
    "        forestPrediction_Proba = model.predict_proba(features_valid)[:,1]\n",
    "        f1 = f1_score(target_valid, predicted_valid_rfnobal)\n",
    "        f1_sc = np.append(f1_sc, f1)\n",
    "        \n",
    "        auc_sc = np.append(auc_sc, roc_auc_score(target_valid, forestPrediction_Proba))\n",
    "        if f1 > best:\n",
    "            best = f1\n",
    "            est = estim\n",
    "            d = depth\n",
    "print('Лучшее значение f1 score RandomForest =',best,'с {} деревьями'.format(est),'и глубиной',d)\n",
    "print('Точность RandomForestClassifier:', model.score(features_valid, target_valid))"
   ]
  },
  {
   "cell_type": "markdown",
   "metadata": {},
   "source": [
    "Создадим константную модель: любому объекту она прогнозирует класс «0». Сохраните её предсказания в переменной target_pred_constant."
   ]
  },
  {
   "cell_type": "code",
   "execution_count": 17,
   "metadata": {},
   "outputs": [
    {
     "name": "stdout",
     "output_type": "stream",
     "text": [
      "Точность константной модели 0.7963\n"
     ]
    }
   ],
   "source": [
    "target = data['Exited']\n",
    "features = data.drop('Exited', axis=1)\n",
    "target_pred_constant = pd.Series([0] * len(target))\n",
    "print(\"Точность константной модели\", accuracy_score(target, target_pred_constant))"
   ]
  },
  {
   "cell_type": "markdown",
   "metadata": {},
   "source": [
    "Видим, что модели, которые мы выбрали, работают лучше чем константная модель."
   ]
  },
  {
   "cell_type": "markdown",
   "metadata": {},
   "source": [
    "Вывод:\n",
    "- исследовали целевой признак: получили, что значений с 1, то есть клиенты уходят, 20% против 80% когда остаются. Классы не сбалансированны.\n",
    "- проверили модель LogisticRegression, получили точность LogisticRegression: 0.811,  F1: 0.3076923076923077\n",
    "- проверили модель RandomForestClassifier (n_estimators=131, max_depth=23, random_state=12345), получили точность RandomForestClassifier: 0.869, F1: 0.6210995542347697. Уже при таком варианте мы достигли условие задачи.\n",
    "- проверили наши модели на адекватность используя константную модель. Модели проверку прошли."
   ]
  },
  {
   "cell_type": "markdown",
   "metadata": {},
   "source": [
    "## Борьба с дисбалансом"
   ]
  },
  {
   "cell_type": "markdown",
   "metadata": {},
   "source": [
    "Рассмотрим три метода:\n",
    "- взвешивание классов\n",
    "- upsampling\n",
    "- downsample"
   ]
  },
  {
   "cell_type": "markdown",
   "metadata": {},
   "source": [
    "### Взвешивание классов"
   ]
  },
  {
   "cell_type": "code",
   "execution_count": 18,
   "metadata": {},
   "outputs": [
    {
     "name": "stdout",
     "output_type": "stream",
     "text": [
      "F1 LogisticRegression при балансе классов: 0.5289982425307558\n"
     ]
    }
   ],
   "source": [
    "model = LogisticRegression(random_state=12345, solver = 'liblinear', class_weight='balanced')\n",
    "model.fit(features_train, target_train)\n",
    "predicted_valid_lr_bal = pd.Series(model.predict(features_valid))\n",
    "print('F1 LogisticRegression при балансе классов:', f1_score(target_valid, predicted_valid_lr_bal))"
   ]
  },
  {
   "cell_type": "code",
   "execution_count": 19,
   "metadata": {},
   "outputs": [
    {
     "name": "stdout",
     "output_type": "stream",
     "text": [
      "F1 RandomForestClassifier при балансе классов: 0.583206106870229\n"
     ]
    }
   ],
   "source": [
    "model = RandomForestClassifier(n_estimators=85, max_depth=50, random_state=12345, class_weight='balanced')\n",
    "model.fit(features_train, target_train)\n",
    "predicted_valid_rfbal = model.predict(features_valid)\n",
    "print('F1 RandomForestClassifier при балансе классов:',f1_score(target_valid, predicted_valid_rfbal))"
   ]
  },
  {
   "cell_type": "markdown",
   "metadata": {},
   "source": [
    "Видим, что заявленного по задаче условия мы не достигли."
   ]
  },
  {
   "cell_type": "markdown",
   "metadata": {},
   "source": [
    "### Upsampling"
   ]
  },
  {
   "cell_type": "code",
   "execution_count": 20,
   "metadata": {},
   "outputs": [
    {
     "name": "stdout",
     "output_type": "stream",
     "text": [
      "1    4888\n",
      "0    4778\n",
      "Name: Exited, dtype: int64\n"
     ]
    }
   ],
   "source": [
    "def upsample(features, target, repeat):\n",
    "    features_zeros = features[target == 0]\n",
    "    features_ones = features[target == 1]\n",
    "    target_zeros = target[target == 0]\n",
    "    target_ones = target[target == 1]\n",
    "\n",
    "    features_upsampled = pd.concat([features_zeros] + [features_ones] * repeat)\n",
    "    target_upsampled = pd.concat([target_zeros] + [target_ones] * repeat)\n",
    "    \n",
    "    features_upsampled, target_upsampled = shuffle(features_upsampled, target_upsampled, random_state=12345)\n",
    "    \n",
    "    return features_upsampled, target_upsampled\n",
    "\n",
    "features_upsampled, target_upsampled = upsample(features_train, target_train, 4)\n",
    "\n",
    "print(target_upsampled.value_counts()) # посмотрим размер, то сбалансированы ли классы. "
   ]
  },
  {
   "cell_type": "markdown",
   "metadata": {},
   "source": [
    "Классы сбалансированы."
   ]
  },
  {
   "cell_type": "code",
   "execution_count": 21,
   "metadata": {},
   "outputs": [
    {
     "name": "stdout",
     "output_type": "stream",
     "text": [
      "LogisticRegression\n",
      "F1 0.5246753246753246\n",
      "\n"
     ]
    }
   ],
   "source": [
    "model = LogisticRegression(random_state=12345, solver='liblinear')\n",
    "model.fit(features_upsampled, target_upsampled)\n",
    "predicted_valid = model.predict(features_valid)\n",
    "print('LogisticRegression')\n",
    "print('F1', f1_score(target_valid, predicted_valid))\n",
    "print()"
   ]
  },
  {
   "cell_type": "markdown",
   "metadata": {},
   "source": [
    "Заново подберем параметры при измененении стратегии борьбы с дисбалансом классов."
   ]
  },
  {
   "cell_type": "code",
   "execution_count": 22,
   "metadata": {},
   "outputs": [
    {
     "name": "stdout",
     "output_type": "stream",
     "text": [
      "RandomForestClassifier\n",
      "Лучшее значение f1 score = 0.6467889908256881 с 59 деревьями и глубиной 11\n",
      "CPU times: user 9min 20s, sys: 1.1 s, total: 9min 21s\n",
      "Wall time: 9min 25s\n"
     ]
    }
   ],
   "source": [
    "%%time\n",
    "\n",
    "best = 0\n",
    "est = 0\n",
    "d = 0\n",
    "auc_sc = np.array([])\n",
    "f1_sc = np.array([])\n",
    "for estim in range (20, 170, 3):\n",
    "    for depth in range(5, 30 ,3):\n",
    "        forestModel = RandomForestClassifier(max_depth = depth,n_estimators = estim, random_state = 12345)\n",
    "    \n",
    "        forestModel.fit(features_upsampled, target_upsampled)\n",
    "        forestPrediction = forestModel.predict(features_valid)\n",
    "        forestPrediction_Proba = forestModel.predict_proba(features_valid)[:,1]\n",
    "        f1 = f1_score(target_valid, forestPrediction)\n",
    "        f1_sc = np.append(f1_sc, f1)\n",
    "        \n",
    "        auc_sc = np.append(auc_sc, roc_auc_score(target_valid, forestPrediction_Proba))\n",
    "        if f1 > best:\n",
    "            best = f1\n",
    "            est = estim\n",
    "            d = depth\n",
    "print('RandomForestClassifier')\n",
    "print('Лучшее значение f1 score =',best,'с {} деревьями'.format(est),'и глубиной',d)"
   ]
  },
  {
   "cell_type": "markdown",
   "metadata": {},
   "source": [
    "Вывод: \n",
    "- применив Upsampling получили в LogisticRegression F1 0.5246753246753246, в RandomForestClassifier F1 0.6467889908256881.\n",
    "- по условиям задания необходимо добитьмя значения f1 > 0.59 \n",
    "- при условии подбора лучших параметров в случайном лесе (59 деревьев и глубина 11) получили необходимое значение (0.64)."
   ]
  },
  {
   "cell_type": "markdown",
   "metadata": {},
   "source": [
    "### Downsample"
   ]
  },
  {
   "cell_type": "code",
   "execution_count": 23,
   "metadata": {},
   "outputs": [
    {
     "name": "stdout",
     "output_type": "stream",
     "text": [
      "1    1222\n",
      "0    1194\n",
      "Name: Exited, dtype: int64\n"
     ]
    }
   ],
   "source": [
    "def downsample(features, target, fraction):\n",
    "    features_zeros = features[target == 0]\n",
    "    features_ones = features[target == 1]\n",
    "    target_zeros = target[target == 0]\n",
    "    target_ones = target[target == 1]\n",
    "\n",
    "    features_downsampled = pd.concat(\n",
    "        [features_zeros.sample(frac=fraction, random_state=20052020)] + [features_ones])\n",
    "    target_downsampled = pd.concat(\n",
    "        [target_zeros.sample(frac=fraction, random_state=20052020)] + [target_ones])\n",
    "    \n",
    "    features_downsampled, target_downsampled = shuffle(\n",
    "        features_downsampled, target_downsampled, random_state=20052020)\n",
    "    \n",
    "    return features_downsampled, target_downsampled\n",
    "\n",
    "features_downsampled, target_downsampled = downsample(features_train, target_train, 0.25)\n",
    "\n",
    "print(target_downsampled.value_counts())   # посмотрим размер"
   ]
  },
  {
   "cell_type": "code",
   "execution_count": 24,
   "metadata": {},
   "outputs": [
    {
     "name": "stdout",
     "output_type": "stream",
     "text": [
      "Логистическая регрессия\n",
      "F1 0.5156912637828669\n",
      "\n"
     ]
    }
   ],
   "source": [
    "model = LogisticRegression(random_state=12345, solver='liblinear')\n",
    "model.fit(features_downsampled, target_downsampled)\n",
    "predicted_valid = model.predict(features_valid)\n",
    "print('Логистическая регрессия')\n",
    "print('F1', f1_score(target_valid, predicted_valid))\n",
    "print()"
   ]
  },
  {
   "cell_type": "code",
   "execution_count": 25,
   "metadata": {},
   "outputs": [
    {
     "name": "stdout",
     "output_type": "stream",
     "text": [
      "RandomForestClassifier\n",
      "Лучшее значение f1 score = 0.6285160038797284 с 38 деревьями и глубиной 8\n",
      "CPU times: user 3min 32s, sys: 788 ms, total: 3min 33s\n",
      "Wall time: 3min 34s\n"
     ]
    }
   ],
   "source": [
    "%%time\n",
    "\n",
    "best = 0\n",
    "est = 0\n",
    "d = 0\n",
    "auc_sc = np.array([])\n",
    "f1_sc = np.array([])\n",
    "for estim in range (20, 170, 3):\n",
    "    for depth in range(5, 30 ,3):\n",
    "        forestModel = RandomForestClassifier(max_depth = depth,n_estimators = estim, random_state = 12345)\n",
    "    \n",
    "        forestModel.fit(features_downsampled, target_downsampled)\n",
    "        forestPrediction = forestModel.predict(features_valid)\n",
    "        forestPrediction_Proba = forestModel.predict_proba(features_valid)[:,1]\n",
    "        f1 = f1_score(target_valid, forestPrediction)\n",
    "        f1_sc = np.append(f1_sc, f1)\n",
    "        auc_sc = np.append(auc_sc, roc_auc_score(target_valid, forestPrediction_Proba))\n",
    "        if f1 > best:\n",
    "            best = f1\n",
    "            est = estim\n",
    "            d = depth\n",
    "print('RandomForestClassifier')\n",
    "print('Лучшее значение f1 score =',best,'с {} деревьями'.format(est),'и глубиной',d)"
   ]
  },
  {
   "cell_type": "markdown",
   "metadata": {},
   "source": [
    "### Вывод"
   ]
  },
  {
   "cell_type": "markdown",
   "metadata": {},
   "source": [
    "Вывод: провели исследование с учетом дисбаланса. \n",
    "    \n",
    "Применили методы:\n",
    "- Обучение модели со взвешиванием классов,\n",
    "- Upsampling,\n",
    "- Downsample.\n",
    "\n",
    "Получили, что взвешивание классов не помогает добиться поставленной задачи.\n",
    "\n",
    "При Upsampling и Downsample LogisticRegression не смогли добиться поставленной задачи: f1 > 0.59\n",
    "\n",
    "В результате выснили, что лучше всего подходит Upsampling RandomForestClassifier:\n",
    "- Upsampling f1 score для RandomForest = 0.6467889908256881 с 59 деревьями и глубиной 11 \n",
    "- Downsample RandomForest = 0.6285160038797284 с 38 деревьями и глубиной 8"
   ]
  },
  {
   "cell_type": "markdown",
   "metadata": {},
   "source": [
    "## Тестирование модели"
   ]
  },
  {
   "cell_type": "code",
   "execution_count": 26,
   "metadata": {},
   "outputs": [],
   "source": [
    "features_tv = pd.concat([features_train, features_valid])   # соединяем train и valid\n",
    "target_tv = pd.concat([target_train, target_valid])"
   ]
  },
  {
   "cell_type": "code",
   "execution_count": 27,
   "metadata": {},
   "outputs": [
    {
     "name": "stdout",
     "output_type": "stream",
     "text": [
      "F1 тестовой модели: 0.6139088729016786\n"
     ]
    }
   ],
   "source": [
    "model_test = RandomForestClassifier(random_state=12345, n_estimators=37, max_depth = 10, class_weight = 'balanced')\n",
    "model_test.fit(features_tv, target_tv)\n",
    "predicted_test = model_test.predict(features_test)\n",
    "print(\"F1 тестовой модели:\", f1_score(target_test, predicted_test))"
   ]
  },
  {
   "cell_type": "markdown",
   "metadata": {},
   "source": [
    "### Исследование метрики AUC-ROC"
   ]
  },
  {
   "cell_type": "code",
   "execution_count": 28,
   "metadata": {},
   "outputs": [
    {
     "name": "stdout",
     "output_type": "stream",
     "text": [
      "AUC-ROC RandomForestClassifier: 0.864321608040201\n",
      "AUC-ROC LogisticRegression: 0.7938066558281603\n",
      "AUC-ROC RandomForestClassifier_test: 0.8396362464159074\n"
     ]
    },
    {
     "data": {
      "image/png": "[encoded data removed]",
      "text/plain": [
       "<Figure size 648x504 with 1 Axes>"
      ]
     },
     "metadata": {
      "needs_background": "light"
     },
     "output_type": "display_data"
    }
   ],
   "source": [
    "plt.figure(figsize=[9,7])\n",
    "\n",
    "plt.plot([0, 1], [0, 1], linestyle='--', label='RandomModel')\n",
    "\n",
    "model = RandomForestClassifier(random_state=12345, n_estimators=53)\n",
    "model.fit(features_upsampled, target_upsampled)\n",
    "probabilities_valid = model.predict_proba(features_valid)\n",
    "probabilities_one_valid = probabilities_valid[:, 1]\n",
    "fpr, tpr, thresholds = roc_curve(target_valid, probabilities_one_valid)\n",
    "auc_roc = roc_auc_score(target_valid, probabilities_one_valid)\n",
    "print('AUC-ROC RandomForestClassifier:',auc_roc)\n",
    "plt.plot(fpr, tpr, label='RandomForestClassifier')\n",
    "\n",
    "model = LogisticRegression(random_state=12345, solver='liblinear')\n",
    "model.fit(features_upsampled, target_upsampled)\n",
    "probabilities_valid = model.predict_proba(features_valid)\n",
    "probabilities_one_valid = probabilities_valid[:, 1]\n",
    "fpr, tpr, thresholds = roc_curve(target_valid, probabilities_one_valid)\n",
    "auc_roc = roc_auc_score(target_valid, probabilities_one_valid)\n",
    "print('AUC-ROC LogisticRegression:',auc_roc)\n",
    "plt.plot(fpr, tpr, label='LogisticRegression')\n",
    "\n",
    "model = RandomForestClassifier(random_state=12345, n_estimators=35, max_depth = 15, class_weight = 'balanced')\n",
    "model.fit(features_train, target_train)\n",
    "probabilities_valid = model.predict_proba(features_test)\n",
    "probabilities_one_valid = probabilities_valid[:, 1]\n",
    "fpr, tpr, thresholds = roc_curve(target_test, probabilities_one_valid)\n",
    "auc_roc = roc_auc_score(target_test, probabilities_one_valid)\n",
    "print('AUC-ROC RandomForestClassifier_test:',auc_roc)\n",
    "plt.plot(fpr, tpr, label='RandomForestClassifier_test')\n",
    "\n",
    "plt.xlim([0,1])\n",
    "plt.ylim([0,1])\n",
    "plt.legend(loc='lower right', fontsize='x-large')\n",
    "plt.xlabel(\"False Positive Rate\")\n",
    "plt.ylabel(\"True Positive Rate\")\n",
    "\n",
    "plt.title(\"ROC-кривая\")\n",
    "plt.show()"
   ]
  },
  {
   "cell_type": "markdown",
   "metadata": {},
   "source": [
    "На графике видим:\n",
    "- все наши модели лучше рандомной\n",
    "- худшие значения показывает лигистическая регрессия\n",
    "- значения RandomForestClassifier и RandomForestClassifier_test близки"
   ]
  },
  {
   "cell_type": "markdown",
   "metadata": {},
   "source": [
    "## Общий вывод"
   ]
  },
  {
   "cell_type": "markdown",
   "metadata": {},
   "source": [
    "В ходе решения данной задачи работали с данными о клиентах банках и об их уходе из данного банка. Необходимо было достигнуть f1 > 0.59.\n",
    "\n",
    "Для этого были выполнены следующие шаги:\n",
    "- чтение и подготовка данных, обнаружили в исходных данных, что:\n",
    "    - в столбце \"Tenure\" (\"сколько лет человек является клиентом банка\") есть пропущенные значения и заполнили их медианной;\n",
    "    - есть три столбца содержащие неприминимую в данной задачи информацию (индекс строки в данных, уникальный идентификатор клиента, фамилия), удалили их;\n",
    "    - в столбцах CreditScore, Age, Tenure, Balance и EstimatedSalary необходимо провести масштабирование, сделали применив  StandardScaler();\n",
    "    - в столбцах Geography и Gender есть категориальные признаки, приобразовали их в численные с помощью техники прямого кодирования, или отображения One-Hot Encoding, чтобы избежать дамм-ловушки использовали аргумент drop_first=True\n",
    "    - разбили на обучающую, валидационную и тестовую выборки в соотношении 3:1:1\n",
    "- исследование задачи:\n",
    "    - исследовали целевой признак: получили, что значений с 1, то есть клиенты уходят, 20% против 80% когда остаются. Выяснили, что классы не сбалансированны.\n",
    "    - проверили модель LogisticRegression, получили точность LogisticRegression: 0.811, F1: 0.3076923076923077\n",
    "    - проверили модель RandomForestClassifier (n_estimators=131, max_depth=23, random_state=12345), получили точность RandomForestClassifier: 0.869, F1: 0.6210995542347697. Уже при таком варианте мы достигли условие задачи.\n",
    "    - проверили наши модели на адекватность используя константную модель. Модели проверку прошли.\n",
    "- борьба с дисбалансом:\n",
    "    - рассмотрели такие методы борьбы с дисбалансом: \n",
    "        - обучение модели со взвешиванием классов (выяснили, что это метод не помогает достичь заданной задачи)\n",
    "        - Upsampling,\n",
    "        - Downsample.\n",
    "- проверили на тестовой выборке и получили f1 0.6139088729016786\n",
    "- исследовали метрики AUC_ROC.\n",
    "\n",
    "При Upsampling и Downsample LogisticRegression не смогли добиться поставленной задачи: f1 > 0.59\n",
    "\n",
    "В результате выснили, что лучше всего подходит Upsampling RandomForestClassifier:\n",
    "Upsampling f1 score для RandomForest = 0.6467889908256881 с 59 деревьями и глубиной 11\n",
    "Downsample f1 score для RandomForest = 0.6285160038797284 с 38 деревьями и глубиной 8"
   ]
  },
  {
   "cell_type": "markdown",
   "metadata": {},
   "source": [
    "## Чек-лист готовности проекта"
   ]
  },
  {
   "cell_type": "markdown",
   "metadata": {},
   "source": [
    "Поставьте 'x' в выполненных пунктах. Далее нажмите Shift+Enter."
   ]
  },
  {
   "cell_type": "markdown",
   "metadata": {},
   "source": [
    "- [x]  Jupyter Notebook открыт\n",
    "- [x]  Весь код выполняется без ошибок\n",
    "- [X]  Ячейки с кодом расположены в порядке исполнения\n",
    "- [X]  Выполнен шаг 1: данные подготовлены\n",
    "- [x]  Выполнен шаг 2: задача исследована\n",
    "    - [x]  Исследован баланс классов\n",
    "    - [x]  Изучены модели без учёта дисбаланса\n",
    "    - [x]  Написаны выводы по результатам исследования\n",
    "- [x]  Выполнен шаг 3: учтён дисбаланс\n",
    "    - [x]  Применено несколько способов борьбы с дисбалансом\n",
    "    - [x]  Написаны выводы по результатам исследования\n",
    "- [x]  Выполнен шаг 4: проведено тестирование\n",
    "- [x]  Удалось достичь *F1*-меры не менее 0.59\n",
    "- [x]  Исследована метрика *AUC-ROC*"
   ]
  }
 ],
 "metadata": {
  "ExecuteTimeLog": [
   {
    "duration": 1142,
    "start_time": "2021-11-15T09:45:18.885Z"
   },
   {
    "duration": 7787,
    "start_time": "2021-11-15T09:45:20.029Z"
   },
   {
    "duration": 1012,
    "start_time": "2021-11-15T09:50:09.617Z"
   },
   {
    "duration": 29,
    "start_time": "2021-11-15T09:53:19.027Z"
   },
   {
    "duration": 1133,
    "start_time": "2021-11-15T09:54:59.264Z"
   },
   {
    "duration": 29,
    "start_time": "2021-11-15T09:55:00.399Z"
   },
   {
    "duration": 32,
    "start_time": "2021-11-15T09:55:21.523Z"
   },
   {
    "duration": 400,
    "start_time": "2021-11-15T10:05:54.112Z"
   },
   {
    "duration": 56,
    "start_time": "2021-11-15T10:06:11.166Z"
   },
   {
    "duration": 26,
    "start_time": "2021-11-15T10:06:20.007Z"
   },
   {
    "duration": 16,
    "start_time": "2021-11-15T10:06:20.965Z"
   },
   {
    "duration": 3,
    "start_time": "2021-11-15T10:09:22.528Z"
   },
   {
    "duration": 662,
    "start_time": "2021-11-15T10:12:43.276Z"
   },
   {
    "duration": 1103,
    "start_time": "2021-11-15T10:13:26.994Z"
   },
   {
    "duration": 29,
    "start_time": "2021-11-15T10:13:28.099Z"
   },
   {
    "duration": 657,
    "start_time": "2021-11-15T10:13:28.130Z"
   },
   {
    "duration": 3,
    "start_time": "2021-11-15T10:13:28.789Z"
   },
   {
    "duration": 11,
    "start_time": "2021-11-15T10:17:39.308Z"
   },
   {
    "duration": 7,
    "start_time": "2021-11-15T10:20:44.562Z"
   },
   {
    "duration": 500,
    "start_time": "2021-11-15T10:21:02.214Z"
   },
   {
    "duration": 373,
    "start_time": "2021-11-15T10:21:13.536Z"
   },
   {
    "duration": 367,
    "start_time": "2021-11-15T10:21:40.082Z"
   },
   {
    "duration": 350,
    "start_time": "2021-11-15T10:21:51.982Z"
   },
   {
    "duration": 6,
    "start_time": "2021-11-15T10:22:37.801Z"
   },
   {
    "duration": 371,
    "start_time": "2021-11-15T10:23:43.107Z"
   },
   {
    "duration": 6,
    "start_time": "2021-11-15T10:23:59.215Z"
   },
   {
    "duration": 24,
    "start_time": "2021-11-15T10:32:21.170Z"
   },
   {
    "duration": 1138,
    "start_time": "2021-11-15T10:32:34.805Z"
   },
   {
    "duration": 27,
    "start_time": "2021-11-15T10:32:35.945Z"
   },
   {
    "duration": 735,
    "start_time": "2021-11-15T10:32:35.974Z"
   },
   {
    "duration": 7,
    "start_time": "2021-11-15T10:32:36.711Z"
   },
   {
    "duration": 30,
    "start_time": "2021-11-15T10:32:36.720Z"
   },
   {
    "duration": 5,
    "start_time": "2021-11-15T10:32:36.752Z"
   },
   {
    "duration": 21,
    "start_time": "2021-11-15T10:32:36.759Z"
   },
   {
    "duration": 20,
    "start_time": "2021-11-15T10:33:26.807Z"
   },
   {
    "duration": 1217,
    "start_time": "2021-11-15T10:33:37.992Z"
   },
   {
    "duration": 31,
    "start_time": "2021-11-15T10:33:39.211Z"
   },
   {
    "duration": 667,
    "start_time": "2021-11-15T10:33:39.244Z"
   },
   {
    "duration": 8,
    "start_time": "2021-11-15T10:33:39.913Z"
   },
   {
    "duration": 31,
    "start_time": "2021-11-15T10:33:39.922Z"
   },
   {
    "duration": 3,
    "start_time": "2021-11-15T10:33:39.954Z"
   },
   {
    "duration": 13,
    "start_time": "2021-11-15T10:33:39.959Z"
   },
   {
    "duration": 20,
    "start_time": "2021-11-15T11:55:20.625Z"
   },
   {
    "duration": 328,
    "start_time": "2021-11-17T07:38:26.471Z"
   },
   {
    "duration": 964,
    "start_time": "2021-11-17T07:40:14.138Z"
   },
   {
    "duration": 26,
    "start_time": "2021-11-17T07:40:15.104Z"
   },
   {
    "duration": 562,
    "start_time": "2021-11-17T07:40:15.132Z"
   },
   {
    "duration": 6,
    "start_time": "2021-11-17T07:40:15.696Z"
   },
   {
    "duration": 20,
    "start_time": "2021-11-17T07:40:15.703Z"
   },
   {
    "duration": 3,
    "start_time": "2021-11-17T07:40:15.724Z"
   },
   {
    "duration": 7,
    "start_time": "2021-11-17T07:40:15.729Z"
   },
   {
    "duration": 10,
    "start_time": "2021-11-17T07:40:15.738Z"
   },
   {
    "duration": 6427,
    "start_time": "2021-11-17T08:18:42.206Z"
   },
   {
    "duration": 1065,
    "start_time": "2021-11-17T08:19:53.822Z"
   },
   {
    "duration": 30,
    "start_time": "2021-11-17T08:19:54.889Z"
   },
   {
    "duration": 837,
    "start_time": "2021-11-17T08:19:54.921Z"
   },
   {
    "duration": 7,
    "start_time": "2021-11-17T08:19:55.761Z"
   },
   {
    "duration": 29,
    "start_time": "2021-11-17T08:19:55.770Z"
   },
   {
    "duration": 5,
    "start_time": "2021-11-17T08:19:55.801Z"
   },
   {
    "duration": 9,
    "start_time": "2021-11-17T08:19:55.807Z"
   },
   {
    "duration": 12,
    "start_time": "2021-11-17T08:19:55.819Z"
   },
   {
    "duration": 7149,
    "start_time": "2021-11-17T08:19:55.833Z"
   },
   {
    "duration": 443,
    "start_time": "2021-11-17T08:20:02.541Z"
   },
   {
    "duration": 440,
    "start_time": "2021-11-17T08:20:02.545Z"
   },
   {
    "duration": 22,
    "start_time": "2021-11-17T08:20:40.318Z"
   },
   {
    "duration": 27,
    "start_time": "2021-11-17T08:21:00.141Z"
   },
   {
    "duration": 1053,
    "start_time": "2021-11-17T08:25:09.252Z"
   },
   {
    "duration": 28,
    "start_time": "2021-11-17T08:25:10.307Z"
   },
   {
    "duration": 715,
    "start_time": "2021-11-17T08:25:10.337Z"
   },
   {
    "duration": 8,
    "start_time": "2021-11-17T08:25:11.054Z"
   },
   {
    "duration": 32,
    "start_time": "2021-11-17T08:25:11.064Z"
   },
   {
    "duration": 4,
    "start_time": "2021-11-17T08:25:11.097Z"
   },
   {
    "duration": 13,
    "start_time": "2021-11-17T08:25:11.103Z"
   },
   {
    "duration": 10,
    "start_time": "2021-11-17T08:25:11.119Z"
   },
   {
    "duration": 18,
    "start_time": "2021-11-17T08:25:11.130Z"
   },
   {
    "duration": 509,
    "start_time": "2021-11-17T08:25:11.149Z"
   },
   {
    "duration": 311,
    "start_time": "2021-11-17T08:25:11.349Z"
   },
   {
    "duration": 14,
    "start_time": "2021-11-17T08:26:00.352Z"
   },
   {
    "duration": 1002,
    "start_time": "2021-11-17T08:26:20.691Z"
   },
   {
    "duration": 27,
    "start_time": "2021-11-17T08:26:21.695Z"
   },
   {
    "duration": 562,
    "start_time": "2021-11-17T08:26:21.724Z"
   },
   {
    "duration": 6,
    "start_time": "2021-11-17T08:26:22.288Z"
   },
   {
    "duration": 19,
    "start_time": "2021-11-17T08:26:22.296Z"
   },
   {
    "duration": 3,
    "start_time": "2021-11-17T08:26:22.317Z"
   },
   {
    "duration": 6,
    "start_time": "2021-11-17T08:26:22.322Z"
   },
   {
    "duration": 10,
    "start_time": "2021-11-17T08:26:22.329Z"
   },
   {
    "duration": 9,
    "start_time": "2021-11-17T08:26:22.341Z"
   },
   {
    "duration": 42,
    "start_time": "2021-11-17T08:26:22.351Z"
   },
   {
    "duration": 425,
    "start_time": "2021-11-17T08:26:22.395Z"
   },
   {
    "duration": 377,
    "start_time": "2021-11-17T08:26:22.445Z"
   },
   {
    "duration": 1045,
    "start_time": "2021-11-17T12:26:27.771Z"
   },
   {
    "duration": 27,
    "start_time": "2021-11-17T12:26:28.817Z"
   },
   {
    "duration": 843,
    "start_time": "2021-11-17T12:26:28.845Z"
   },
   {
    "duration": 6,
    "start_time": "2021-11-17T12:26:29.690Z"
   },
   {
    "duration": 21,
    "start_time": "2021-11-17T12:26:29.698Z"
   },
   {
    "duration": 3,
    "start_time": "2021-11-17T12:26:29.720Z"
   },
   {
    "duration": 6,
    "start_time": "2021-11-17T12:26:29.725Z"
   },
   {
    "duration": 13,
    "start_time": "2021-11-17T12:26:29.733Z"
   },
   {
    "duration": 11,
    "start_time": "2021-11-17T12:26:29.749Z"
   },
   {
    "duration": 44,
    "start_time": "2021-11-17T12:26:29.762Z"
   },
   {
    "duration": 5,
    "start_time": "2021-11-17T12:26:29.808Z"
   },
   {
    "duration": 5,
    "start_time": "2021-11-17T12:26:29.814Z"
   },
   {
    "duration": 4,
    "start_time": "2021-11-17T12:29:05.120Z"
   },
   {
    "duration": 1005,
    "start_time": "2021-11-17T12:36:44.218Z"
   },
   {
    "duration": 27,
    "start_time": "2021-11-17T12:36:45.225Z"
   },
   {
    "duration": 587,
    "start_time": "2021-11-17T12:36:45.254Z"
   },
   {
    "duration": 6,
    "start_time": "2021-11-17T12:36:45.843Z"
   },
   {
    "duration": 30,
    "start_time": "2021-11-17T12:36:45.851Z"
   },
   {
    "duration": 6,
    "start_time": "2021-11-17T12:36:45.883Z"
   },
   {
    "duration": 11,
    "start_time": "2021-11-17T12:36:45.890Z"
   },
   {
    "duration": 18,
    "start_time": "2021-11-17T12:36:45.904Z"
   },
   {
    "duration": 10,
    "start_time": "2021-11-17T12:36:45.924Z"
   },
   {
    "duration": 21,
    "start_time": "2021-11-17T12:36:45.936Z"
   },
   {
    "duration": 6,
    "start_time": "2021-11-17T12:36:45.958Z"
   },
   {
    "duration": 32,
    "start_time": "2021-11-17T12:36:45.966Z"
   },
   {
    "duration": 4,
    "start_time": "2021-11-17T12:36:46.000Z"
   },
   {
    "duration": 802,
    "start_time": "2021-11-17T12:36:46.006Z"
   },
   {
    "duration": 408,
    "start_time": "2021-11-17T12:36:46.402Z"
   },
   {
    "duration": 405,
    "start_time": "2021-11-17T12:36:46.407Z"
   },
   {
    "duration": 1223,
    "start_time": "2021-11-17T12:37:47.768Z"
   },
   {
    "duration": 28,
    "start_time": "2021-11-17T12:37:48.993Z"
   },
   {
    "duration": 870,
    "start_time": "2021-11-17T12:37:49.025Z"
   },
   {
    "duration": 7,
    "start_time": "2021-11-17T12:37:49.897Z"
   },
   {
    "duration": 22,
    "start_time": "2021-11-17T12:37:49.907Z"
   },
   {
    "duration": 4,
    "start_time": "2021-11-17T12:37:49.931Z"
   },
   {
    "duration": 5,
    "start_time": "2021-11-17T12:37:49.937Z"
   },
   {
    "duration": 9,
    "start_time": "2021-11-17T12:37:49.943Z"
   },
   {
    "duration": 9,
    "start_time": "2021-11-17T12:37:49.954Z"
   },
   {
    "duration": 23,
    "start_time": "2021-11-17T12:37:49.988Z"
   },
   {
    "duration": 8,
    "start_time": "2021-11-17T12:37:50.013Z"
   },
   {
    "duration": 9,
    "start_time": "2021-11-17T12:37:50.022Z"
   },
   {
    "duration": 15,
    "start_time": "2021-11-17T12:37:50.033Z"
   },
   {
    "duration": 16,
    "start_time": "2021-11-17T12:37:50.050Z"
   },
   {
    "duration": 6,
    "start_time": "2021-11-17T12:37:50.068Z"
   },
   {
    "duration": 6,
    "start_time": "2021-11-17T12:37:50.090Z"
   },
   {
    "duration": 961,
    "start_time": "2021-11-17T13:23:15.336Z"
   },
   {
    "duration": 30,
    "start_time": "2021-11-17T13:23:16.299Z"
   },
   {
    "duration": 805,
    "start_time": "2021-11-17T13:23:16.331Z"
   },
   {
    "duration": 6,
    "start_time": "2021-11-17T13:23:17.138Z"
   },
   {
    "duration": 23,
    "start_time": "2021-11-17T13:23:17.146Z"
   },
   {
    "duration": 16,
    "start_time": "2021-11-17T13:23:17.171Z"
   },
   {
    "duration": 6,
    "start_time": "2021-11-17T13:23:17.189Z"
   },
   {
    "duration": 9,
    "start_time": "2021-11-17T13:23:17.197Z"
   },
   {
    "duration": 11,
    "start_time": "2021-11-17T13:23:17.208Z"
   },
   {
    "duration": 30,
    "start_time": "2021-11-17T13:23:17.221Z"
   },
   {
    "duration": 35,
    "start_time": "2021-11-17T13:23:17.253Z"
   },
   {
    "duration": 5,
    "start_time": "2021-11-17T13:23:17.289Z"
   },
   {
    "duration": 7,
    "start_time": "2021-11-17T13:23:17.296Z"
   },
   {
    "duration": 6,
    "start_time": "2021-11-17T13:23:17.304Z"
   },
   {
    "duration": 5,
    "start_time": "2021-11-17T13:23:17.312Z"
   },
   {
    "duration": 10,
    "start_time": "2021-11-17T13:23:17.318Z"
   },
   {
    "duration": 6,
    "start_time": "2021-11-17T13:23:17.329Z"
   },
   {
    "duration": 408,
    "start_time": "2021-11-17T13:23:17.337Z"
   },
   {
    "duration": 10,
    "start_time": "2021-11-17T13:23:28.719Z"
   },
   {
    "duration": 959,
    "start_time": "2021-11-17T13:24:40.734Z"
   },
   {
    "duration": 27,
    "start_time": "2021-11-17T13:24:41.694Z"
   },
   {
    "duration": 595,
    "start_time": "2021-11-17T13:24:41.723Z"
   },
   {
    "duration": 6,
    "start_time": "2021-11-17T13:24:42.320Z"
   },
   {
    "duration": 20,
    "start_time": "2021-11-17T13:24:42.327Z"
   },
   {
    "duration": 4,
    "start_time": "2021-11-17T13:24:42.348Z"
   },
   {
    "duration": 5,
    "start_time": "2021-11-17T13:24:42.353Z"
   },
   {
    "duration": 38,
    "start_time": "2021-11-17T13:24:42.361Z"
   },
   {
    "duration": 14,
    "start_time": "2021-11-17T13:24:42.401Z"
   },
   {
    "duration": 3,
    "start_time": "2021-11-17T13:24:42.417Z"
   },
   {
    "duration": 14,
    "start_time": "2021-11-17T13:24:42.422Z"
   },
   {
    "duration": 20,
    "start_time": "2021-11-17T13:24:42.438Z"
   },
   {
    "duration": 34,
    "start_time": "2021-11-17T13:24:42.459Z"
   },
   {
    "duration": 6,
    "start_time": "2021-11-17T13:24:42.495Z"
   },
   {
    "duration": 8,
    "start_time": "2021-11-17T13:24:42.502Z"
   },
   {
    "duration": 5,
    "start_time": "2021-11-17T13:24:42.512Z"
   },
   {
    "duration": 6,
    "start_time": "2021-11-17T13:24:42.519Z"
   },
   {
    "duration": 6,
    "start_time": "2021-11-17T13:24:42.526Z"
   },
   {
    "duration": 1004,
    "start_time": "2021-11-17T13:27:04.699Z"
   },
   {
    "duration": 27,
    "start_time": "2021-11-17T13:27:05.705Z"
   },
   {
    "duration": 582,
    "start_time": "2021-11-17T13:27:05.733Z"
   },
   {
    "duration": 6,
    "start_time": "2021-11-17T13:27:06.317Z"
   },
   {
    "duration": 20,
    "start_time": "2021-11-17T13:27:06.324Z"
   },
   {
    "duration": 4,
    "start_time": "2021-11-17T13:27:06.346Z"
   },
   {
    "duration": 7,
    "start_time": "2021-11-17T13:27:06.351Z"
   },
   {
    "duration": 27,
    "start_time": "2021-11-17T13:27:06.360Z"
   },
   {
    "duration": 10,
    "start_time": "2021-11-17T13:27:06.389Z"
   },
   {
    "duration": 4,
    "start_time": "2021-11-17T13:27:06.401Z"
   },
   {
    "duration": 10,
    "start_time": "2021-11-17T13:27:06.407Z"
   },
   {
    "duration": 25,
    "start_time": "2021-11-17T13:27:06.418Z"
   },
   {
    "duration": 7,
    "start_time": "2021-11-17T13:27:06.445Z"
   },
   {
    "duration": 5,
    "start_time": "2021-11-17T13:27:06.454Z"
   },
   {
    "duration": 30,
    "start_time": "2021-11-17T13:27:06.460Z"
   },
   {
    "duration": 7,
    "start_time": "2021-11-17T13:27:06.492Z"
   },
   {
    "duration": 6,
    "start_time": "2021-11-17T13:27:06.500Z"
   },
   {
    "duration": 7,
    "start_time": "2021-11-17T13:27:06.508Z"
   },
   {
    "duration": 8,
    "start_time": "2021-11-17T13:32:03.728Z"
   },
   {
    "duration": 1000,
    "start_time": "2021-11-17T13:32:12.308Z"
   },
   {
    "duration": 27,
    "start_time": "2021-11-17T13:32:13.310Z"
   },
   {
    "duration": 559,
    "start_time": "2021-11-17T13:32:13.339Z"
   },
   {
    "duration": 6,
    "start_time": "2021-11-17T13:32:13.900Z"
   },
   {
    "duration": 21,
    "start_time": "2021-11-17T13:32:13.908Z"
   },
   {
    "duration": 5,
    "start_time": "2021-11-17T13:32:13.931Z"
   },
   {
    "duration": 8,
    "start_time": "2021-11-17T13:32:13.937Z"
   },
   {
    "duration": 11,
    "start_time": "2021-11-17T13:32:13.946Z"
   },
   {
    "duration": 35,
    "start_time": "2021-11-17T13:32:13.959Z"
   },
   {
    "duration": 4,
    "start_time": "2021-11-17T13:32:13.996Z"
   },
   {
    "duration": 9,
    "start_time": "2021-11-17T13:32:14.001Z"
   },
   {
    "duration": 351,
    "start_time": "2021-11-17T13:32:14.011Z"
   },
   {
    "duration": 448,
    "start_time": "2021-11-17T13:32:13.916Z"
   },
   {
    "duration": 444,
    "start_time": "2021-11-17T13:32:13.921Z"
   },
   {
    "duration": 442,
    "start_time": "2021-11-17T13:32:13.924Z"
   },
   {
    "duration": 437,
    "start_time": "2021-11-17T13:32:13.930Z"
   },
   {
    "duration": 433,
    "start_time": "2021-11-17T13:32:13.935Z"
   },
   {
    "duration": 427,
    "start_time": "2021-11-17T13:32:13.941Z"
   },
   {
    "duration": 1413,
    "start_time": "2021-11-18T08:29:32.668Z"
   },
   {
    "duration": 34,
    "start_time": "2021-11-18T08:29:34.083Z"
   },
   {
    "duration": 861,
    "start_time": "2021-11-18T08:29:34.120Z"
   },
   {
    "duration": 10,
    "start_time": "2021-11-18T08:29:34.984Z"
   },
   {
    "duration": 37,
    "start_time": "2021-11-18T08:29:34.997Z"
   },
   {
    "duration": 6,
    "start_time": "2021-11-18T08:29:35.036Z"
   },
   {
    "duration": 41,
    "start_time": "2021-11-18T08:29:35.044Z"
   },
   {
    "duration": 19,
    "start_time": "2021-11-18T08:29:35.088Z"
   },
   {
    "duration": 17,
    "start_time": "2021-11-18T08:29:35.110Z"
   },
   {
    "duration": 5,
    "start_time": "2021-11-18T08:29:35.129Z"
   },
   {
    "duration": 22,
    "start_time": "2021-11-18T08:29:35.182Z"
   },
   {
    "duration": 32,
    "start_time": "2021-11-18T08:29:35.207Z"
   },
   {
    "duration": 7,
    "start_time": "2021-11-18T08:29:35.242Z"
   },
   {
    "duration": 33,
    "start_time": "2021-11-18T08:29:35.251Z"
   },
   {
    "duration": 9,
    "start_time": "2021-11-18T08:29:35.287Z"
   },
   {
    "duration": 15,
    "start_time": "2021-11-18T08:29:35.298Z"
   },
   {
    "duration": 20,
    "start_time": "2021-11-18T08:29:35.315Z"
   },
   {
    "duration": 11,
    "start_time": "2021-11-18T08:29:35.337Z"
   },
   {
    "duration": 1316,
    "start_time": "2021-11-18T19:26:32.761Z"
   },
   {
    "duration": 34,
    "start_time": "2021-11-18T19:26:34.080Z"
   },
   {
    "duration": 777,
    "start_time": "2021-11-18T19:26:34.117Z"
   },
   {
    "duration": 9,
    "start_time": "2021-11-18T19:26:34.897Z"
   },
   {
    "duration": 50,
    "start_time": "2021-11-18T19:26:34.908Z"
   },
   {
    "duration": 5,
    "start_time": "2021-11-18T19:26:34.961Z"
   },
   {
    "duration": 14,
    "start_time": "2021-11-18T19:26:34.969Z"
   },
   {
    "duration": 16,
    "start_time": "2021-11-18T19:26:34.986Z"
   },
   {
    "duration": 17,
    "start_time": "2021-11-18T19:26:35.030Z"
   },
   {
    "duration": 13,
    "start_time": "2021-11-18T19:26:35.049Z"
   },
   {
    "duration": 31,
    "start_time": "2021-11-18T19:26:35.064Z"
   },
   {
    "duration": 48,
    "start_time": "2021-11-18T19:26:35.097Z"
   },
   {
    "duration": 7,
    "start_time": "2021-11-18T19:26:35.147Z"
   },
   {
    "duration": 10,
    "start_time": "2021-11-18T19:26:35.157Z"
   },
   {
    "duration": 11,
    "start_time": "2021-11-18T19:26:35.170Z"
   },
   {
    "duration": 21,
    "start_time": "2021-11-18T19:26:35.184Z"
   },
   {
    "duration": 19,
    "start_time": "2021-11-18T19:26:35.207Z"
   },
   {
    "duration": 23,
    "start_time": "2021-11-18T19:26:35.229Z"
   },
   {
    "duration": 75,
    "start_time": "2021-11-18T19:26:35.255Z"
   },
   {
    "duration": 519,
    "start_time": "2021-11-18T19:26:35.334Z"
   },
   {
    "duration": 1346,
    "start_time": "2021-11-18T19:26:46.917Z"
   },
   {
    "duration": 34,
    "start_time": "2021-11-18T19:26:48.265Z"
   },
   {
    "duration": 774,
    "start_time": "2021-11-18T19:26:48.302Z"
   },
   {
    "duration": 13,
    "start_time": "2021-11-18T19:26:49.079Z"
   },
   {
    "duration": 56,
    "start_time": "2021-11-18T19:26:49.094Z"
   },
   {
    "duration": 6,
    "start_time": "2021-11-18T19:26:49.152Z"
   },
   {
    "duration": 13,
    "start_time": "2021-11-18T19:26:49.161Z"
   },
   {
    "duration": 18,
    "start_time": "2021-11-18T19:26:49.178Z"
   },
   {
    "duration": 36,
    "start_time": "2021-11-18T19:26:49.198Z"
   },
   {
    "duration": 6,
    "start_time": "2021-11-18T19:26:49.237Z"
   },
   {
    "duration": 24,
    "start_time": "2021-11-18T19:26:49.245Z"
   },
   {
    "duration": 32,
    "start_time": "2021-11-18T19:26:49.271Z"
   },
   {
    "duration": 8,
    "start_time": "2021-11-18T19:26:49.330Z"
   },
   {
    "duration": 6,
    "start_time": "2021-11-18T19:26:49.340Z"
   },
   {
    "duration": 6,
    "start_time": "2021-11-18T19:26:49.348Z"
   },
   {
    "duration": 14,
    "start_time": "2021-11-18T19:26:49.357Z"
   },
   {
    "duration": 24,
    "start_time": "2021-11-18T19:26:49.373Z"
   },
   {
    "duration": 8,
    "start_time": "2021-11-18T19:26:49.399Z"
   },
   {
    "duration": 120,
    "start_time": "2021-11-18T19:26:49.409Z"
   },
   {
    "duration": 419,
    "start_time": "2021-11-18T19:26:49.532Z"
   },
   {
    "duration": 352,
    "start_time": "2021-11-18T19:28:19.778Z"
   },
   {
    "duration": 108,
    "start_time": "2021-11-18T19:33:58.025Z"
   },
   {
    "duration": 1315,
    "start_time": "2021-11-18T19:36:46.447Z"
   },
   {
    "duration": 36,
    "start_time": "2021-11-18T19:36:47.769Z"
   },
   {
    "duration": 785,
    "start_time": "2021-11-18T19:36:47.808Z"
   },
   {
    "duration": 10,
    "start_time": "2021-11-18T19:36:48.595Z"
   },
   {
    "duration": 51,
    "start_time": "2021-11-18T19:36:48.607Z"
   },
   {
    "duration": 6,
    "start_time": "2021-11-18T19:36:48.660Z"
   },
   {
    "duration": 19,
    "start_time": "2021-11-18T19:36:48.670Z"
   },
   {
    "duration": 36,
    "start_time": "2021-11-18T19:36:48.693Z"
   },
   {
    "duration": 26,
    "start_time": "2021-11-18T19:36:48.732Z"
   },
   {
    "duration": 15,
    "start_time": "2021-11-18T19:36:48.760Z"
   },
   {
    "duration": 42,
    "start_time": "2021-11-18T19:36:48.777Z"
   },
   {
    "duration": 36,
    "start_time": "2021-11-18T19:36:48.821Z"
   },
   {
    "duration": 10,
    "start_time": "2021-11-18T19:36:48.860Z"
   },
   {
    "duration": 27,
    "start_time": "2021-11-18T19:36:48.873Z"
   },
   {
    "duration": 14,
    "start_time": "2021-11-18T19:36:48.903Z"
   },
   {
    "duration": 15,
    "start_time": "2021-11-18T19:36:48.928Z"
   },
   {
    "duration": 20,
    "start_time": "2021-11-18T19:36:48.946Z"
   },
   {
    "duration": 13,
    "start_time": "2021-11-18T19:36:48.968Z"
   },
   {
    "duration": 56,
    "start_time": "2021-11-18T19:36:48.983Z"
   },
   {
    "duration": 541,
    "start_time": "2021-11-18T19:41:42.474Z"
   },
   {
    "duration": 91,
    "start_time": "2021-11-18T19:41:51.137Z"
   },
   {
    "duration": 303,
    "start_time": "2021-11-18T19:42:17.208Z"
   },
   {
    "duration": 35,
    "start_time": "2021-11-18T19:42:24.986Z"
   },
   {
    "duration": 1159,
    "start_time": "2021-11-19T08:09:04.137Z"
   },
   {
    "duration": 30,
    "start_time": "2021-11-19T08:09:05.298Z"
   },
   {
    "duration": 1309,
    "start_time": "2021-11-19T08:09:05.330Z"
   },
   {
    "duration": 7,
    "start_time": "2021-11-19T08:09:06.642Z"
   },
   {
    "duration": 57,
    "start_time": "2021-11-19T08:09:06.650Z"
   },
   {
    "duration": 5,
    "start_time": "2021-11-19T08:09:06.708Z"
   },
   {
    "duration": 32,
    "start_time": "2021-11-19T08:09:06.715Z"
   },
   {
    "duration": 31,
    "start_time": "2021-11-19T08:09:06.749Z"
   },
   {
    "duration": 49,
    "start_time": "2021-11-19T08:09:06.784Z"
   },
   {
    "duration": 9,
    "start_time": "2021-11-19T08:09:06.835Z"
   },
   {
    "duration": 30,
    "start_time": "2021-11-19T08:09:06.845Z"
   },
   {
    "duration": 26,
    "start_time": "2021-11-19T08:09:06.877Z"
   },
   {
    "duration": 10,
    "start_time": "2021-11-19T08:09:06.904Z"
   },
   {
    "duration": 22,
    "start_time": "2021-11-19T08:09:06.916Z"
   },
   {
    "duration": 15,
    "start_time": "2021-11-19T08:09:06.940Z"
   },
   {
    "duration": 37,
    "start_time": "2021-11-19T08:09:06.956Z"
   },
   {
    "duration": 47,
    "start_time": "2021-11-19T08:09:06.995Z"
   },
   {
    "duration": 41,
    "start_time": "2021-11-19T08:09:07.044Z"
   },
   {
    "duration": 169,
    "start_time": "2021-11-19T08:09:07.087Z"
   },
   {
    "duration": 93,
    "start_time": "2021-11-19T08:09:07.257Z"
   },
   {
    "duration": -393,
    "start_time": "2021-11-19T08:09:07.745Z"
   },
   {
    "duration": -396,
    "start_time": "2021-11-19T08:09:07.749Z"
   },
   {
    "duration": -398,
    "start_time": "2021-11-19T08:09:07.752Z"
   },
   {
    "duration": -400,
    "start_time": "2021-11-19T08:09:07.755Z"
   },
   {
    "duration": 1001,
    "start_time": "2021-11-19T09:23:35.873Z"
   },
   {
    "duration": 28,
    "start_time": "2021-11-19T09:23:36.876Z"
   },
   {
    "duration": 589,
    "start_time": "2021-11-19T09:23:36.906Z"
   },
   {
    "duration": 7,
    "start_time": "2021-11-19T09:23:37.497Z"
   },
   {
    "duration": 22,
    "start_time": "2021-11-19T09:23:37.505Z"
   },
   {
    "duration": 18,
    "start_time": "2021-11-19T09:23:37.528Z"
   },
   {
    "duration": 6,
    "start_time": "2021-11-19T09:23:37.548Z"
   },
   {
    "duration": 11,
    "start_time": "2021-11-19T09:23:37.556Z"
   },
   {
    "duration": 11,
    "start_time": "2021-11-19T09:23:37.569Z"
   },
   {
    "duration": 4,
    "start_time": "2021-11-19T09:23:37.582Z"
   },
   {
    "duration": 17,
    "start_time": "2021-11-19T09:23:37.588Z"
   },
   {
    "duration": 54,
    "start_time": "2021-11-19T09:23:37.606Z"
   },
   {
    "duration": 5,
    "start_time": "2021-11-19T09:23:37.662Z"
   },
   {
    "duration": 5,
    "start_time": "2021-11-19T09:23:37.669Z"
   },
   {
    "duration": 5,
    "start_time": "2021-11-19T09:23:37.676Z"
   },
   {
    "duration": 5,
    "start_time": "2021-11-19T09:23:37.682Z"
   },
   {
    "duration": 6,
    "start_time": "2021-11-19T09:23:37.688Z"
   },
   {
    "duration": 6,
    "start_time": "2021-11-19T09:23:37.695Z"
   },
   {
    "duration": 180,
    "start_time": "2021-11-19T09:23:37.703Z"
   },
   {
    "duration": 464,
    "start_time": "2021-11-19T09:23:37.885Z"
   },
   {
    "duration": -349,
    "start_time": "2021-11-19T09:23:38.700Z"
   },
   {
    "duration": -360,
    "start_time": "2021-11-19T09:23:38.712Z"
   },
   {
    "duration": -366,
    "start_time": "2021-11-19T09:23:38.719Z"
   },
   {
    "duration": -369,
    "start_time": "2021-11-19T09:23:38.723Z"
   },
   {
    "duration": 300,
    "start_time": "2021-11-19T09:24:31.505Z"
   },
   {
    "duration": 173,
    "start_time": "2021-11-19T09:24:51.209Z"
   },
   {
    "duration": 985,
    "start_time": "2021-11-19T09:25:54.989Z"
   },
   {
    "duration": 29,
    "start_time": "2021-11-19T09:25:55.975Z"
   },
   {
    "duration": 593,
    "start_time": "2021-11-19T09:25:56.006Z"
   },
   {
    "duration": 8,
    "start_time": "2021-11-19T09:25:56.601Z"
   },
   {
    "duration": 40,
    "start_time": "2021-11-19T09:25:56.610Z"
   },
   {
    "duration": 5,
    "start_time": "2021-11-19T09:25:56.652Z"
   },
   {
    "duration": 7,
    "start_time": "2021-11-19T09:25:56.658Z"
   },
   {
    "duration": 10,
    "start_time": "2021-11-19T09:25:56.667Z"
   },
   {
    "duration": 12,
    "start_time": "2021-11-19T09:25:56.680Z"
   },
   {
    "duration": 6,
    "start_time": "2021-11-19T09:25:56.693Z"
   },
   {
    "duration": 17,
    "start_time": "2021-11-19T09:25:56.701Z"
   },
   {
    "duration": 42,
    "start_time": "2021-11-19T09:25:56.720Z"
   },
   {
    "duration": 6,
    "start_time": "2021-11-19T09:25:56.764Z"
   },
   {
    "duration": 5,
    "start_time": "2021-11-19T09:25:56.772Z"
   },
   {
    "duration": 6,
    "start_time": "2021-11-19T09:25:56.778Z"
   },
   {
    "duration": 8,
    "start_time": "2021-11-19T09:25:56.785Z"
   },
   {
    "duration": 7,
    "start_time": "2021-11-19T09:25:56.795Z"
   },
   {
    "duration": 6,
    "start_time": "2021-11-19T09:25:56.803Z"
   },
   {
    "duration": 178,
    "start_time": "2021-11-19T09:25:56.811Z"
   },
   {
    "duration": 169,
    "start_time": "2021-11-19T09:25:56.990Z"
   },
   {
    "duration": 358,
    "start_time": "2021-11-19T09:25:57.161Z"
   },
   {
    "duration": -355,
    "start_time": "2021-11-19T09:25:57.876Z"
   },
   {
    "duration": -358,
    "start_time": "2021-11-19T09:25:57.880Z"
   },
   {
    "duration": -361,
    "start_time": "2021-11-19T09:25:57.883Z"
   },
   {
    "duration": 24,
    "start_time": "2021-11-19T09:49:11.601Z"
   },
   {
    "duration": 490,
    "start_time": "2021-11-19T09:50:44.973Z"
   },
   {
    "duration": 83,
    "start_time": "2021-11-19T10:05:12.977Z"
   },
   {
    "duration": 27,
    "start_time": "2021-11-19T10:05:20.861Z"
   },
   {
    "duration": 24,
    "start_time": "2021-11-19T10:05:27.269Z"
   },
   {
    "duration": 486,
    "start_time": "2021-11-19T10:05:40.877Z"
   },
   {
    "duration": 981,
    "start_time": "2021-11-19T10:06:02.986Z"
   },
   {
    "duration": 28,
    "start_time": "2021-11-19T10:06:03.969Z"
   },
   {
    "duration": 670,
    "start_time": "2021-11-19T10:06:03.999Z"
   },
   {
    "duration": 7,
    "start_time": "2021-11-19T10:06:04.672Z"
   },
   {
    "duration": 39,
    "start_time": "2021-11-19T10:06:04.681Z"
   },
   {
    "duration": 13,
    "start_time": "2021-11-19T10:06:04.722Z"
   },
   {
    "duration": 23,
    "start_time": "2021-11-19T10:06:04.736Z"
   },
   {
    "duration": 28,
    "start_time": "2021-11-19T10:06:04.762Z"
   },
   {
    "duration": 24,
    "start_time": "2021-11-19T10:06:04.792Z"
   },
   {
    "duration": 14,
    "start_time": "2021-11-19T10:06:04.818Z"
   },
   {
    "duration": 51,
    "start_time": "2021-11-19T10:06:04.834Z"
   },
   {
    "duration": 34,
    "start_time": "2021-11-19T10:06:04.887Z"
   },
   {
    "duration": 8,
    "start_time": "2021-11-19T10:06:04.923Z"
   },
   {
    "duration": 26,
    "start_time": "2021-11-19T10:06:04.933Z"
   },
   {
    "duration": 25,
    "start_time": "2021-11-19T10:06:04.961Z"
   },
   {
    "duration": 25,
    "start_time": "2021-11-19T10:06:04.988Z"
   },
   {
    "duration": 20,
    "start_time": "2021-11-19T10:06:05.015Z"
   },
   {
    "duration": 32,
    "start_time": "2021-11-19T10:06:05.036Z"
   },
   {
    "duration": 159,
    "start_time": "2021-11-19T10:06:05.069Z"
   },
   {
    "duration": 165,
    "start_time": "2021-11-19T10:06:05.229Z"
   },
   {
    "duration": 52,
    "start_time": "2021-11-19T10:06:05.396Z"
   },
   {
    "duration": 677,
    "start_time": "2021-11-19T10:06:05.450Z"
   },
   {
    "duration": 30,
    "start_time": "2021-11-19T10:06:06.130Z"
   },
   {
    "duration": 22,
    "start_time": "2021-11-19T10:16:22.561Z"
   },
   {
    "duration": 484,
    "start_time": "2021-11-19T10:16:32.252Z"
   },
   {
    "duration": 10,
    "start_time": "2021-11-19T10:20:18.770Z"
   },
   {
    "duration": 9,
    "start_time": "2021-11-19T10:23:36.156Z"
   },
   {
    "duration": 1077,
    "start_time": "2021-11-19T10:24:45.213Z"
   },
   {
    "duration": 29,
    "start_time": "2021-11-19T10:24:46.292Z"
   },
   {
    "duration": 612,
    "start_time": "2021-11-19T10:24:46.323Z"
   },
   {
    "duration": 7,
    "start_time": "2021-11-19T10:24:46.937Z"
   },
   {
    "duration": 41,
    "start_time": "2021-11-19T10:24:46.946Z"
   },
   {
    "duration": 5,
    "start_time": "2021-11-19T10:24:46.989Z"
   },
   {
    "duration": 24,
    "start_time": "2021-11-19T10:24:46.995Z"
   },
   {
    "duration": 39,
    "start_time": "2021-11-19T10:24:47.021Z"
   },
   {
    "duration": 20,
    "start_time": "2021-11-19T10:24:47.063Z"
   },
   {
    "duration": 23,
    "start_time": "2021-11-19T10:24:47.085Z"
   },
   {
    "duration": 24,
    "start_time": "2021-11-19T10:24:47.110Z"
   },
   {
    "duration": 21,
    "start_time": "2021-11-19T10:24:47.136Z"
   },
   {
    "duration": 7,
    "start_time": "2021-11-19T10:24:47.159Z"
   },
   {
    "duration": 6,
    "start_time": "2021-11-19T10:24:47.167Z"
   },
   {
    "duration": 9,
    "start_time": "2021-11-19T10:24:47.180Z"
   },
   {
    "duration": 6,
    "start_time": "2021-11-19T10:24:47.191Z"
   },
   {
    "duration": 7,
    "start_time": "2021-11-19T10:24:47.198Z"
   },
   {
    "duration": 7,
    "start_time": "2021-11-19T10:24:47.207Z"
   },
   {
    "duration": 147,
    "start_time": "2021-11-19T10:24:47.216Z"
   },
   {
    "duration": 22,
    "start_time": "2021-11-19T10:24:47.365Z"
   },
   {
    "duration": 604,
    "start_time": "2021-11-19T10:24:47.446Z"
   },
   {
    "duration": 10,
    "start_time": "2021-11-19T10:24:48.052Z"
   },
   {
    "duration": 87,
    "start_time": "2021-11-19T10:24:48.064Z"
   },
   {
    "duration": 521,
    "start_time": "2021-11-19T20:28:33.844Z"
   },
   {
    "duration": 1380,
    "start_time": "2021-11-19T20:28:44.214Z"
   },
   {
    "duration": 34,
    "start_time": "2021-11-19T20:28:45.597Z"
   },
   {
    "duration": 943,
    "start_time": "2021-11-19T20:28:45.634Z"
   },
   {
    "duration": 12,
    "start_time": "2021-11-19T20:28:46.580Z"
   },
   {
    "duration": 64,
    "start_time": "2021-11-19T20:28:46.595Z"
   },
   {
    "duration": 9,
    "start_time": "2021-11-19T20:28:46.662Z"
   },
   {
    "duration": 6,
    "start_time": "2021-11-19T20:28:46.675Z"
   },
   {
    "duration": 16,
    "start_time": "2021-11-19T20:28:46.684Z"
   },
   {
    "duration": 55,
    "start_time": "2021-11-19T20:28:46.704Z"
   },
   {
    "duration": 5,
    "start_time": "2021-11-19T20:28:46.763Z"
   },
   {
    "duration": 23,
    "start_time": "2021-11-19T20:28:46.771Z"
   },
   {
    "duration": 31,
    "start_time": "2021-11-19T20:28:46.796Z"
   },
   {
    "duration": 39,
    "start_time": "2021-11-19T20:28:46.829Z"
   },
   {
    "duration": 9,
    "start_time": "2021-11-19T20:28:46.872Z"
   },
   {
    "duration": 8,
    "start_time": "2021-11-19T20:28:46.884Z"
   },
   {
    "duration": 8,
    "start_time": "2021-11-19T20:28:46.895Z"
   },
   {
    "duration": 9,
    "start_time": "2021-11-19T20:28:46.905Z"
   },
   {
    "duration": 46,
    "start_time": "2021-11-19T20:28:46.916Z"
   },
   {
    "duration": 247,
    "start_time": "2021-11-19T20:28:46.964Z"
   },
   {
    "duration": 65,
    "start_time": "2021-11-19T20:28:47.214Z"
   },
   {
    "duration": 325,
    "start_time": "2021-11-19T20:28:47.361Z"
   },
   {
    "duration": 753,
    "start_time": "2021-11-19T20:28:47.689Z"
   },
   {
    "duration": 17,
    "start_time": "2021-11-19T20:28:48.445Z"
   },
   {
    "duration": 98,
    "start_time": "2021-11-19T20:28:48.464Z"
   },
   {
    "duration": 193,
    "start_time": "2021-11-19T20:30:20.883Z"
   },
   {
    "duration": 263,
    "start_time": "2021-11-19T20:30:56.205Z"
   },
   {
    "duration": 721,
    "start_time": "2021-11-19T20:34:08.901Z"
   },
   {
    "duration": 1540,
    "start_time": "2021-11-19T20:34:59.951Z"
   },
   {
    "duration": 36,
    "start_time": "2021-11-19T20:35:01.494Z"
   },
   {
    "duration": 1007,
    "start_time": "2021-11-19T20:35:01.534Z"
   },
   {
    "duration": 22,
    "start_time": "2021-11-19T20:35:02.546Z"
   },
   {
    "duration": 35,
    "start_time": "2021-11-19T20:35:02.571Z"
   },
   {
    "duration": 6,
    "start_time": "2021-11-19T20:35:02.609Z"
   },
   {
    "duration": 47,
    "start_time": "2021-11-19T20:35:02.619Z"
   },
   {
    "duration": 31,
    "start_time": "2021-11-19T20:35:02.669Z"
   },
   {
    "duration": 17,
    "start_time": "2021-11-19T20:35:02.706Z"
   },
   {
    "duration": 6,
    "start_time": "2021-11-19T20:35:02.727Z"
   },
   {
    "duration": 24,
    "start_time": "2021-11-19T20:35:02.761Z"
   },
   {
    "duration": 35,
    "start_time": "2021-11-19T20:35:02.787Z"
   },
   {
    "duration": 40,
    "start_time": "2021-11-19T20:35:02.825Z"
   },
   {
    "duration": 17,
    "start_time": "2021-11-19T20:35:02.867Z"
   },
   {
    "duration": 17,
    "start_time": "2021-11-19T20:35:02.887Z"
   },
   {
    "duration": 8,
    "start_time": "2021-11-19T20:35:02.907Z"
   },
   {
    "duration": 11,
    "start_time": "2021-11-19T20:35:02.918Z"
   },
   {
    "duration": 31,
    "start_time": "2021-11-19T20:35:02.932Z"
   },
   {
    "duration": 249,
    "start_time": "2021-11-19T20:35:02.965Z"
   },
   {
    "duration": 147,
    "start_time": "2021-11-19T20:35:03.216Z"
   },
   {
    "duration": 307,
    "start_time": "2021-11-19T20:35:03.366Z"
   },
   {
    "duration": 738,
    "start_time": "2021-11-19T20:35:03.676Z"
   },
   {
    "duration": 212,
    "start_time": "2021-11-19T20:35:04.417Z"
   },
   {
    "duration": 28,
    "start_time": "2021-11-19T20:35:04.631Z"
   },
   {
    "duration": 98,
    "start_time": "2021-11-19T20:35:04.662Z"
   },
   {
    "duration": 1420,
    "start_time": "2021-11-19T20:37:08.101Z"
   },
   {
    "duration": 38,
    "start_time": "2021-11-19T20:37:09.524Z"
   },
   {
    "duration": 946,
    "start_time": "2021-11-19T20:37:09.570Z"
   },
   {
    "duration": 9,
    "start_time": "2021-11-19T20:37:10.519Z"
   },
   {
    "duration": 49,
    "start_time": "2021-11-19T20:37:10.531Z"
   },
   {
    "duration": 6,
    "start_time": "2021-11-19T20:37:10.582Z"
   },
   {
    "duration": 8,
    "start_time": "2021-11-19T20:37:10.591Z"
   },
   {
    "duration": 17,
    "start_time": "2021-11-19T20:37:10.603Z"
   },
   {
    "duration": 41,
    "start_time": "2021-11-19T20:37:10.623Z"
   },
   {
    "duration": 6,
    "start_time": "2021-11-19T20:37:10.666Z"
   },
   {
    "duration": 27,
    "start_time": "2021-11-19T20:37:10.675Z"
   },
   {
    "duration": 59,
    "start_time": "2021-11-19T20:37:10.704Z"
   },
   {
    "duration": 8,
    "start_time": "2021-11-19T20:37:10.765Z"
   },
   {
    "duration": 8,
    "start_time": "2021-11-19T20:37:10.775Z"
   },
   {
    "duration": 6,
    "start_time": "2021-11-19T20:37:10.785Z"
   },
   {
    "duration": 8,
    "start_time": "2021-11-19T20:37:10.793Z"
   },
   {
    "duration": 9,
    "start_time": "2021-11-19T20:37:10.803Z"
   },
   {
    "duration": 45,
    "start_time": "2021-11-19T20:37:10.815Z"
   },
   {
    "duration": 342,
    "start_time": "2021-11-19T20:37:10.863Z"
   },
   {
    "duration": 153,
    "start_time": "2021-11-19T20:37:11.207Z"
   },
   {
    "duration": 842,
    "start_time": "2021-11-19T20:37:11.364Z"
   },
   {
    "duration": 408,
    "start_time": "2021-11-19T20:37:12.209Z"
   },
   {
    "duration": 13,
    "start_time": "2021-11-19T20:37:12.619Z"
   },
   {
    "duration": 36,
    "start_time": "2021-11-19T20:37:12.634Z"
   },
   {
    "duration": 287,
    "start_time": "2021-11-19T20:39:20.805Z"
   },
   {
    "duration": 882,
    "start_time": "2021-11-19T20:39:41.461Z"
   },
   {
    "duration": 610,
    "start_time": "2021-11-19T20:40:27.593Z"
   },
   {
    "duration": 1522,
    "start_time": "2021-11-19T20:55:50.403Z"
   },
   {
    "duration": 37,
    "start_time": "2021-11-19T20:55:51.928Z"
   },
   {
    "duration": 866,
    "start_time": "2021-11-19T20:55:51.968Z"
   },
   {
    "duration": 22,
    "start_time": "2021-11-19T20:55:52.838Z"
   },
   {
    "duration": 33,
    "start_time": "2021-11-19T20:55:52.863Z"
   },
   {
    "duration": 5,
    "start_time": "2021-11-19T20:55:52.899Z"
   },
   {
    "duration": 6,
    "start_time": "2021-11-19T20:55:52.908Z"
   },
   {
    "duration": 48,
    "start_time": "2021-11-19T20:55:52.918Z"
   },
   {
    "duration": 16,
    "start_time": "2021-11-19T20:55:52.969Z"
   },
   {
    "duration": 7,
    "start_time": "2021-11-19T20:55:52.988Z"
   },
   {
    "duration": 25,
    "start_time": "2021-11-19T20:55:52.997Z"
   },
   {
    "duration": 62,
    "start_time": "2021-11-19T20:55:53.024Z"
   },
   {
    "duration": 7,
    "start_time": "2021-11-19T20:55:53.088Z"
   },
   {
    "duration": 6,
    "start_time": "2021-11-19T20:55:53.097Z"
   },
   {
    "duration": 6,
    "start_time": "2021-11-19T20:55:53.105Z"
   },
   {
    "duration": 47,
    "start_time": "2021-11-19T20:55:53.113Z"
   },
   {
    "duration": 5,
    "start_time": "2021-11-19T20:55:53.163Z"
   },
   {
    "duration": 7,
    "start_time": "2021-11-19T20:55:53.170Z"
   },
   {
    "duration": 249,
    "start_time": "2021-11-19T20:55:53.180Z"
   },
   {
    "duration": 128,
    "start_time": "2021-11-19T20:55:53.432Z"
   },
   {
    "duration": 717,
    "start_time": "2021-11-19T20:55:53.564Z"
   },
   {
    "duration": 14,
    "start_time": "2021-11-19T20:55:54.284Z"
   },
   {
    "duration": 523,
    "start_time": "2021-11-19T20:55:54.304Z"
   },
   {
    "duration": -76,
    "start_time": "2021-11-19T20:55:54.905Z"
   },
   {
    "duration": 444,
    "start_time": "2021-11-19T20:57:04.537Z"
   },
   {
    "duration": 538,
    "start_time": "2021-11-19T20:57:33.676Z"
   },
   {
    "duration": 103,
    "start_time": "2021-11-19T20:58:30.366Z"
   },
   {
    "duration": 102,
    "start_time": "2021-11-19T21:01:09.160Z"
   },
   {
    "duration": 154,
    "start_time": "2021-11-19T21:09:35.009Z"
   },
   {
    "duration": 1047,
    "start_time": "2021-11-20T14:06:46.124Z"
   },
   {
    "duration": 28,
    "start_time": "2021-11-20T14:06:47.172Z"
   },
   {
    "duration": 496,
    "start_time": "2021-11-20T14:06:47.201Z"
   },
   {
    "duration": 6,
    "start_time": "2021-11-20T14:06:47.699Z"
   },
   {
    "duration": 19,
    "start_time": "2021-11-20T14:06:47.706Z"
   },
   {
    "duration": 3,
    "start_time": "2021-11-20T14:06:47.727Z"
   },
   {
    "duration": 6,
    "start_time": "2021-11-20T14:06:47.732Z"
   },
   {
    "duration": 10,
    "start_time": "2021-11-20T14:06:47.740Z"
   },
   {
    "duration": 13,
    "start_time": "2021-11-20T14:06:47.752Z"
   },
   {
    "duration": 22,
    "start_time": "2021-11-20T14:06:47.766Z"
   },
   {
    "duration": 16,
    "start_time": "2021-11-20T14:06:47.790Z"
   },
   {
    "duration": 18,
    "start_time": "2021-11-20T14:06:47.807Z"
   },
   {
    "duration": 5,
    "start_time": "2021-11-20T14:06:47.827Z"
   },
   {
    "duration": 4,
    "start_time": "2021-11-20T14:06:47.833Z"
   },
   {
    "duration": 5,
    "start_time": "2021-11-20T14:06:47.838Z"
   },
   {
    "duration": 6,
    "start_time": "2021-11-20T14:06:47.845Z"
   },
   {
    "duration": 35,
    "start_time": "2021-11-20T14:06:47.853Z"
   },
   {
    "duration": 4,
    "start_time": "2021-11-20T14:06:47.889Z"
   },
   {
    "duration": 135,
    "start_time": "2021-11-20T14:06:47.894Z"
   },
   {
    "duration": 159,
    "start_time": "2021-11-20T14:06:48.030Z"
   },
   {
    "duration": 485,
    "start_time": "2021-11-20T14:06:48.194Z"
   },
   {
    "duration": 13,
    "start_time": "2021-11-20T14:06:48.681Z"
   },
   {
    "duration": 90,
    "start_time": "2021-11-20T14:06:48.697Z"
   },
   {
    "duration": 112,
    "start_time": "2021-11-20T14:06:48.790Z"
   },
   {
    "duration": 1014,
    "start_time": "2021-11-20T14:13:59.973Z"
   },
   {
    "duration": 27,
    "start_time": "2021-11-20T14:14:00.989Z"
   },
   {
    "duration": 570,
    "start_time": "2021-11-20T14:14:01.020Z"
   },
   {
    "duration": 7,
    "start_time": "2021-11-20T14:14:01.592Z"
   },
   {
    "duration": 27,
    "start_time": "2021-11-20T14:14:01.600Z"
   },
   {
    "duration": 4,
    "start_time": "2021-11-20T14:14:01.629Z"
   },
   {
    "duration": 26,
    "start_time": "2021-11-20T14:14:01.636Z"
   },
   {
    "duration": 18,
    "start_time": "2021-11-20T14:14:01.664Z"
   },
   {
    "duration": 20,
    "start_time": "2021-11-20T14:14:01.684Z"
   },
   {
    "duration": 19,
    "start_time": "2021-11-20T14:14:01.705Z"
   },
   {
    "duration": 43,
    "start_time": "2021-11-20T14:14:01.726Z"
   },
   {
    "duration": 26,
    "start_time": "2021-11-20T14:14:01.771Z"
   },
   {
    "duration": 6,
    "start_time": "2021-11-20T14:14:01.799Z"
   },
   {
    "duration": 14,
    "start_time": "2021-11-20T14:14:01.807Z"
   },
   {
    "duration": 22,
    "start_time": "2021-11-20T14:14:01.823Z"
   },
   {
    "duration": 22,
    "start_time": "2021-11-20T14:14:01.847Z"
   },
   {
    "duration": 18,
    "start_time": "2021-11-20T14:14:01.870Z"
   },
   {
    "duration": 26,
    "start_time": "2021-11-20T14:14:01.889Z"
   },
   {
    "duration": 135,
    "start_time": "2021-11-20T14:14:01.917Z"
   },
   {
    "duration": 134,
    "start_time": "2021-11-20T14:14:02.054Z"
   },
   {
    "duration": 485,
    "start_time": "2021-11-20T14:14:02.190Z"
   },
   {
    "duration": 12,
    "start_time": "2021-11-20T14:14:02.678Z"
   },
   {
    "duration": 48,
    "start_time": "2021-11-20T14:14:02.691Z"
   },
   {
    "duration": 109,
    "start_time": "2021-11-20T14:14:02.789Z"
   },
   {
    "duration": 34,
    "start_time": "2021-11-20T14:15:47.583Z"
   },
   {
    "duration": 297,
    "start_time": "2021-11-20T14:19:53.390Z"
   },
   {
    "duration": 23,
    "start_time": "2021-11-20T14:20:44.808Z"
   },
   {
    "duration": 346,
    "start_time": "2021-11-20T14:23:01.366Z"
   },
   {
    "duration": 1128,
    "start_time": "2021-11-20T14:23:18.134Z"
   },
   {
    "duration": 33,
    "start_time": "2021-11-20T14:23:19.264Z"
   },
   {
    "duration": 556,
    "start_time": "2021-11-20T14:23:19.299Z"
   },
   {
    "duration": 6,
    "start_time": "2021-11-20T14:23:19.857Z"
   },
   {
    "duration": 24,
    "start_time": "2021-11-20T14:23:19.864Z"
   },
   {
    "duration": 4,
    "start_time": "2021-11-20T14:23:19.890Z"
   },
   {
    "duration": 6,
    "start_time": "2021-11-20T14:23:19.896Z"
   },
   {
    "duration": 9,
    "start_time": "2021-11-20T14:23:19.904Z"
   },
   {
    "duration": 9,
    "start_time": "2021-11-20T14:23:19.914Z"
   },
   {
    "duration": 4,
    "start_time": "2021-11-20T14:23:19.924Z"
   },
   {
    "duration": 14,
    "start_time": "2021-11-20T14:23:19.929Z"
   },
   {
    "duration": 45,
    "start_time": "2021-11-20T14:23:19.944Z"
   },
   {
    "duration": 5,
    "start_time": "2021-11-20T14:23:19.990Z"
   },
   {
    "duration": 4,
    "start_time": "2021-11-20T14:23:19.996Z"
   },
   {
    "duration": 5,
    "start_time": "2021-11-20T14:23:20.002Z"
   },
   {
    "duration": 7,
    "start_time": "2021-11-20T14:23:20.009Z"
   },
   {
    "duration": 8,
    "start_time": "2021-11-20T14:23:20.017Z"
   },
   {
    "duration": 5,
    "start_time": "2021-11-20T14:23:20.027Z"
   },
   {
    "duration": 141,
    "start_time": "2021-11-20T14:23:20.034Z"
   },
   {
    "duration": 112,
    "start_time": "2021-11-20T14:23:20.177Z"
   },
   {
    "duration": 484,
    "start_time": "2021-11-20T14:23:20.290Z"
   },
   {
    "duration": 15,
    "start_time": "2021-11-20T14:23:20.775Z"
   },
   {
    "duration": 97,
    "start_time": "2021-11-20T14:23:20.792Z"
   },
   {
    "duration": 449,
    "start_time": "2021-11-20T14:23:20.891Z"
   },
   {
    "duration": 51,
    "start_time": "2021-11-20T14:23:21.342Z"
   },
   {
    "duration": 46,
    "start_time": "2021-11-20T14:25:01.274Z"
   },
   {
    "duration": 174,
    "start_time": "2021-11-20T14:25:50.315Z"
   },
   {
    "duration": 378,
    "start_time": "2021-11-20T14:27:08.462Z"
   },
   {
    "duration": 37,
    "start_time": "2021-11-20T14:28:24.570Z"
   },
   {
    "duration": 1151,
    "start_time": "2021-11-20T14:42:16.918Z"
   },
   {
    "duration": 33,
    "start_time": "2021-11-20T14:42:18.071Z"
   },
   {
    "duration": 674,
    "start_time": "2021-11-20T14:42:18.106Z"
   },
   {
    "duration": 8,
    "start_time": "2021-11-20T14:42:18.783Z"
   },
   {
    "duration": 24,
    "start_time": "2021-11-20T14:42:18.792Z"
   },
   {
    "duration": 4,
    "start_time": "2021-11-20T14:42:18.818Z"
   },
   {
    "duration": 8,
    "start_time": "2021-11-20T14:42:18.823Z"
   },
   {
    "duration": 11,
    "start_time": "2021-11-20T14:42:18.834Z"
   },
   {
    "duration": 12,
    "start_time": "2021-11-20T14:42:18.848Z"
   },
   {
    "duration": 26,
    "start_time": "2021-11-20T14:42:18.862Z"
   },
   {
    "duration": 14,
    "start_time": "2021-11-20T14:42:18.889Z"
   },
   {
    "duration": 22,
    "start_time": "2021-11-20T14:42:18.905Z"
   },
   {
    "duration": 5,
    "start_time": "2021-11-20T14:42:18.929Z"
   },
   {
    "duration": 5,
    "start_time": "2021-11-20T14:42:18.935Z"
   },
   {
    "duration": 4,
    "start_time": "2021-11-20T14:42:18.941Z"
   },
   {
    "duration": 4,
    "start_time": "2021-11-20T14:42:18.947Z"
   },
   {
    "duration": 36,
    "start_time": "2021-11-20T14:42:18.952Z"
   },
   {
    "duration": 5,
    "start_time": "2021-11-20T14:42:18.990Z"
   },
   {
    "duration": 129,
    "start_time": "2021-11-20T14:42:18.997Z"
   },
   {
    "duration": 71,
    "start_time": "2021-11-20T14:42:19.128Z"
   },
   {
    "duration": 577,
    "start_time": "2021-11-20T14:42:19.201Z"
   },
   {
    "duration": 10,
    "start_time": "2021-11-20T14:42:19.780Z"
   },
   {
    "duration": 95,
    "start_time": "2021-11-20T14:42:19.793Z"
   },
   {
    "duration": 547,
    "start_time": "2021-11-20T14:42:19.890Z"
   },
   {
    "duration": 151,
    "start_time": "2021-11-20T14:42:20.439Z"
   },
   {
    "duration": 55,
    "start_time": "2021-11-20T14:47:10.532Z"
   },
   {
    "duration": 21,
    "start_time": "2021-11-20T14:54:50.430Z"
   },
   {
    "duration": 28,
    "start_time": "2021-11-20T14:55:07.270Z"
   },
   {
    "duration": 510,
    "start_time": "2021-11-20T14:55:28.178Z"
   },
   {
    "duration": 37,
    "start_time": "2021-11-20T15:09:42.976Z"
   },
   {
    "duration": 44,
    "start_time": "2021-11-20T15:10:18.353Z"
   },
   {
    "duration": 339,
    "start_time": "2021-11-20T15:12:16.745Z"
   },
   {
    "duration": 250,
    "start_time": "2021-11-20T15:12:47.587Z"
   },
   {
    "duration": 336,
    "start_time": "2021-11-20T15:13:47.899Z"
   },
   {
    "duration": 1397,
    "start_time": "2021-11-20T15:14:24.897Z"
   },
   {
    "duration": 250,
    "start_time": "2021-11-20T15:14:34.690Z"
   },
   {
    "duration": 264,
    "start_time": "2021-11-20T15:14:56.822Z"
   },
   {
    "duration": 38,
    "start_time": "2021-11-20T15:15:20.497Z"
   },
   {
    "duration": 206,
    "start_time": "2021-11-20T20:07:34.782Z"
   },
   {
    "duration": 1234,
    "start_time": "2021-11-20T20:07:41.149Z"
   },
   {
    "duration": 33,
    "start_time": "2021-11-20T20:07:42.388Z"
   },
   {
    "duration": 710,
    "start_time": "2021-11-20T20:07:42.424Z"
   },
   {
    "duration": 9,
    "start_time": "2021-11-20T20:07:43.136Z"
   },
   {
    "duration": 29,
    "start_time": "2021-11-20T20:07:43.147Z"
   },
   {
    "duration": 13,
    "start_time": "2021-11-20T20:07:43.178Z"
   },
   {
    "duration": 7,
    "start_time": "2021-11-20T20:07:43.193Z"
   },
   {
    "duration": 15,
    "start_time": "2021-11-20T20:07:43.203Z"
   },
   {
    "duration": 14,
    "start_time": "2021-11-20T20:07:43.220Z"
   },
   {
    "duration": 4,
    "start_time": "2021-11-20T20:07:43.235Z"
   },
   {
    "duration": 15,
    "start_time": "2021-11-20T20:07:43.240Z"
   },
   {
    "duration": 42,
    "start_time": "2021-11-20T20:07:43.257Z"
   },
   {
    "duration": 6,
    "start_time": "2021-11-20T20:07:43.300Z"
   },
   {
    "duration": 5,
    "start_time": "2021-11-20T20:07:43.307Z"
   },
   {
    "duration": 6,
    "start_time": "2021-11-20T20:07:43.313Z"
   },
   {
    "duration": 6,
    "start_time": "2021-11-20T20:07:43.320Z"
   },
   {
    "duration": 9,
    "start_time": "2021-11-20T20:07:43.327Z"
   },
   {
    "duration": 6,
    "start_time": "2021-11-20T20:07:43.337Z"
   },
   {
    "duration": 223,
    "start_time": "2021-11-20T20:07:43.345Z"
   },
   {
    "duration": 126,
    "start_time": "2021-11-20T20:07:43.570Z"
   },
   {
    "duration": 567,
    "start_time": "2021-11-20T20:07:43.698Z"
   },
   {
    "duration": 21,
    "start_time": "2021-11-20T20:07:44.267Z"
   },
   {
    "duration": 101,
    "start_time": "2021-11-20T20:07:44.292Z"
   },
   {
    "duration": 650,
    "start_time": "2021-11-20T20:07:44.395Z"
   },
   {
    "duration": 19,
    "start_time": "2021-11-20T20:07:45.048Z"
   },
   {
    "duration": 124,
    "start_time": "2021-11-20T20:07:45.069Z"
   },
   {
    "duration": 1024,
    "start_time": "2021-11-20T20:07:45.195Z"
   },
   {
    "duration": 755,
    "start_time": "2021-11-20T20:12:24.663Z"
   },
   {
    "duration": 1017,
    "start_time": "2021-11-20T20:12:34.273Z"
   },
   {
    "duration": 26,
    "start_time": "2021-11-20T20:12:35.292Z"
   },
   {
    "duration": 495,
    "start_time": "2021-11-20T20:12:35.322Z"
   },
   {
    "duration": 6,
    "start_time": "2021-11-20T20:12:35.819Z"
   },
   {
    "duration": 20,
    "start_time": "2021-11-20T20:12:35.826Z"
   },
   {
    "duration": 4,
    "start_time": "2021-11-20T20:12:35.848Z"
   },
   {
    "duration": 5,
    "start_time": "2021-11-20T20:12:35.854Z"
   },
   {
    "duration": 30,
    "start_time": "2021-11-20T20:12:35.861Z"
   },
   {
    "duration": 9,
    "start_time": "2021-11-20T20:12:35.892Z"
   },
   {
    "duration": 4,
    "start_time": "2021-11-20T20:12:35.903Z"
   },
   {
    "duration": 16,
    "start_time": "2021-11-20T20:12:35.908Z"
   },
   {
    "duration": 18,
    "start_time": "2021-11-20T20:12:35.925Z"
   },
   {
    "duration": 5,
    "start_time": "2021-11-20T20:12:35.944Z"
   },
   {
    "duration": 40,
    "start_time": "2021-11-20T20:12:35.950Z"
   },
   {
    "duration": 6,
    "start_time": "2021-11-20T20:12:35.991Z"
   },
   {
    "duration": 8,
    "start_time": "2021-11-20T20:12:35.998Z"
   },
   {
    "duration": 6,
    "start_time": "2021-11-20T20:12:36.007Z"
   },
   {
    "duration": 6,
    "start_time": "2021-11-20T20:12:36.014Z"
   },
   {
    "duration": 143,
    "start_time": "2021-11-20T20:12:36.022Z"
   },
   {
    "duration": 122,
    "start_time": "2021-11-20T20:12:36.167Z"
   },
   {
    "duration": 479,
    "start_time": "2021-11-20T20:12:36.291Z"
   },
   {
    "duration": 15,
    "start_time": "2021-11-20T20:12:36.773Z"
   },
   {
    "duration": 104,
    "start_time": "2021-11-20T20:12:36.789Z"
   },
   {
    "duration": 472,
    "start_time": "2021-11-20T20:12:36.895Z"
   },
   {
    "duration": 22,
    "start_time": "2021-11-20T20:12:37.369Z"
   },
   {
    "duration": 198,
    "start_time": "2021-11-20T20:12:37.392Z"
   },
   {
    "duration": 568,
    "start_time": "2021-11-20T20:12:37.591Z"
   },
   {
    "duration": 13,
    "start_time": "2021-11-20T20:24:56.229Z"
   },
   {
    "duration": 977,
    "start_time": "2021-11-20T20:28:22.514Z"
   },
   {
    "duration": 27,
    "start_time": "2021-11-20T20:28:23.493Z"
   },
   {
    "duration": 522,
    "start_time": "2021-11-20T20:28:23.522Z"
   },
   {
    "duration": 5,
    "start_time": "2021-11-20T20:28:24.046Z"
   },
   {
    "duration": 34,
    "start_time": "2021-11-20T20:28:24.053Z"
   },
   {
    "duration": 3,
    "start_time": "2021-11-20T20:28:24.089Z"
   },
   {
    "duration": 5,
    "start_time": "2021-11-20T20:28:24.094Z"
   },
   {
    "duration": 8,
    "start_time": "2021-11-20T20:28:24.101Z"
   },
   {
    "duration": 9,
    "start_time": "2021-11-20T20:28:24.111Z"
   },
   {
    "duration": 5,
    "start_time": "2021-11-20T20:28:24.121Z"
   },
   {
    "duration": 15,
    "start_time": "2021-11-20T20:28:24.127Z"
   },
   {
    "duration": 18,
    "start_time": "2021-11-20T20:28:24.143Z"
   },
   {
    "duration": 29,
    "start_time": "2021-11-20T20:28:24.162Z"
   },
   {
    "duration": 4,
    "start_time": "2021-11-20T20:28:24.192Z"
   },
   {
    "duration": 5,
    "start_time": "2021-11-20T20:28:24.198Z"
   },
   {
    "duration": 4,
    "start_time": "2021-11-20T20:28:24.204Z"
   },
   {
    "duration": 5,
    "start_time": "2021-11-20T20:28:24.210Z"
   },
   {
    "duration": 5,
    "start_time": "2021-11-20T20:28:24.216Z"
   },
   {
    "duration": 146,
    "start_time": "2021-11-20T20:28:24.222Z"
   },
   {
    "duration": 27,
    "start_time": "2021-11-20T20:28:24.370Z"
   },
   {
    "duration": 563,
    "start_time": "2021-11-20T20:28:24.399Z"
   },
   {
    "duration": 8,
    "start_time": "2021-11-20T20:28:24.963Z"
   },
   {
    "duration": 29,
    "start_time": "2021-11-20T20:28:24.973Z"
   },
   {
    "duration": 530,
    "start_time": "2021-11-20T20:28:25.006Z"
   },
   {
    "duration": 17,
    "start_time": "2021-11-20T20:28:25.538Z"
   },
   {
    "duration": 57,
    "start_time": "2021-11-20T20:28:25.556Z"
   },
   {
    "duration": 794,
    "start_time": "2021-11-20T20:28:25.688Z"
   },
   {
    "duration": 13,
    "start_time": "2021-11-20T20:28:26.487Z"
   },
   {
    "duration": 44,
    "start_time": "2021-11-20T20:29:09.350Z"
   },
   {
    "duration": 685,
    "start_time": "2021-11-20T20:29:36.312Z"
   },
   {
    "duration": 14,
    "start_time": "2021-11-20T20:31:35.187Z"
   },
   {
    "duration": 164,
    "start_time": "2021-11-20T20:32:42.847Z"
   },
   {
    "duration": 973,
    "start_time": "2021-11-20T20:43:28.814Z"
   },
   {
    "duration": 27,
    "start_time": "2021-11-20T20:43:29.789Z"
   },
   {
    "duration": 490,
    "start_time": "2021-11-20T20:43:29.818Z"
   },
   {
    "duration": 7,
    "start_time": "2021-11-20T20:43:30.311Z"
   },
   {
    "duration": 21,
    "start_time": "2021-11-20T20:43:30.320Z"
   },
   {
    "duration": 5,
    "start_time": "2021-11-20T20:43:30.342Z"
   },
   {
    "duration": 9,
    "start_time": "2021-11-20T20:43:30.348Z"
   },
   {
    "duration": 30,
    "start_time": "2021-11-20T20:43:30.360Z"
   },
   {
    "duration": 11,
    "start_time": "2021-11-20T20:43:30.392Z"
   },
   {
    "duration": 13,
    "start_time": "2021-11-20T20:43:30.404Z"
   },
   {
    "duration": 22,
    "start_time": "2021-11-20T20:43:30.419Z"
   },
   {
    "duration": 19,
    "start_time": "2021-11-20T20:43:30.443Z"
   },
   {
    "duration": 7,
    "start_time": "2021-11-20T20:43:30.464Z"
   },
   {
    "duration": 19,
    "start_time": "2021-11-20T20:43:30.472Z"
   },
   {
    "duration": 5,
    "start_time": "2021-11-20T20:43:30.492Z"
   },
   {
    "duration": 11,
    "start_time": "2021-11-20T20:43:30.499Z"
   },
   {
    "duration": 6,
    "start_time": "2021-11-20T20:43:30.512Z"
   },
   {
    "duration": 5,
    "start_time": "2021-11-20T20:43:30.519Z"
   },
   {
    "duration": 136,
    "start_time": "2021-11-20T20:43:30.526Z"
   },
   {
    "duration": 31,
    "start_time": "2021-11-20T20:43:30.664Z"
   },
   {
    "duration": 574,
    "start_time": "2021-11-20T20:43:30.698Z"
   },
   {
    "duration": 8,
    "start_time": "2021-11-20T20:43:31.273Z"
   },
   {
    "duration": 21,
    "start_time": "2021-11-20T20:43:31.289Z"
   },
   {
    "duration": 515,
    "start_time": "2021-11-20T20:43:31.313Z"
   },
   {
    "duration": 16,
    "start_time": "2021-11-20T20:43:31.830Z"
   },
   {
    "duration": 50,
    "start_time": "2021-11-20T20:43:31.847Z"
   },
   {
    "duration": 876,
    "start_time": "2021-11-20T20:43:31.899Z"
   },
   {
    "duration": 17,
    "start_time": "2021-11-20T20:43:32.777Z"
   },
   {
    "duration": 14,
    "start_time": "2021-11-20T20:43:32.796Z"
   },
   {
    "duration": 263,
    "start_time": "2021-11-20T20:43:32.888Z"
   },
   {
    "duration": 73,
    "start_time": "2021-11-20T20:43:33.152Z"
   },
   {
    "duration": 687,
    "start_time": "2021-11-20T20:48:24.709Z"
   },
   {
    "duration": 686,
    "start_time": "2021-11-20T20:49:11.529Z"
   },
   {
    "duration": 160,
    "start_time": "2021-11-20T20:49:36.453Z"
   },
   {
    "duration": 990,
    "start_time": "2021-11-20T20:50:19.898Z"
   },
   {
    "duration": 27,
    "start_time": "2021-11-20T20:50:20.890Z"
   },
   {
    "duration": 484,
    "start_time": "2021-11-20T20:50:20.919Z"
   },
   {
    "duration": 6,
    "start_time": "2021-11-20T20:50:21.405Z"
   },
   {
    "duration": 20,
    "start_time": "2021-11-20T20:50:21.413Z"
   },
   {
    "duration": 4,
    "start_time": "2021-11-20T20:50:21.434Z"
   },
   {
    "duration": 6,
    "start_time": "2021-11-20T20:50:21.439Z"
   },
   {
    "duration": 8,
    "start_time": "2021-11-20T20:50:21.447Z"
   },
   {
    "duration": 8,
    "start_time": "2021-11-20T20:50:21.457Z"
   },
   {
    "duration": 21,
    "start_time": "2021-11-20T20:50:21.467Z"
   },
   {
    "duration": 15,
    "start_time": "2021-11-20T20:50:21.490Z"
   },
   {
    "duration": 17,
    "start_time": "2021-11-20T20:50:21.506Z"
   },
   {
    "duration": 5,
    "start_time": "2021-11-20T20:50:21.525Z"
   },
   {
    "duration": 3,
    "start_time": "2021-11-20T20:50:21.531Z"
   },
   {
    "duration": 4,
    "start_time": "2021-11-20T20:50:21.536Z"
   },
   {
    "duration": 5,
    "start_time": "2021-11-20T20:50:21.542Z"
   },
   {
    "duration": 4,
    "start_time": "2021-11-20T20:50:21.548Z"
   },
   {
    "duration": 8,
    "start_time": "2021-11-20T20:50:21.554Z"
   },
   {
    "duration": 151,
    "start_time": "2021-11-20T20:50:21.563Z"
   },
   {
    "duration": 73,
    "start_time": "2021-11-20T20:50:21.716Z"
   },
   {
    "duration": 469,
    "start_time": "2021-11-20T20:50:21.791Z"
   },
   {
    "duration": 8,
    "start_time": "2021-11-20T20:50:22.262Z"
   },
   {
    "duration": 28,
    "start_time": "2021-11-20T20:50:22.273Z"
   },
   {
    "duration": 525,
    "start_time": "2021-11-20T20:50:22.304Z"
   },
   {
    "duration": 17,
    "start_time": "2021-11-20T20:50:22.830Z"
   },
   {
    "duration": 49,
    "start_time": "2021-11-20T20:50:22.848Z"
   },
   {
    "duration": 859,
    "start_time": "2021-11-20T20:50:22.899Z"
   },
   {
    "duration": 12,
    "start_time": "2021-11-20T20:50:23.760Z"
   },
   {
    "duration": 22,
    "start_time": "2021-11-20T20:50:23.773Z"
   },
   {
    "duration": 344,
    "start_time": "2021-11-20T20:50:23.797Z"
   },
   {
    "duration": 628,
    "start_time": "2021-11-20T20:50:54.824Z"
   },
   {
    "duration": 1127,
    "start_time": "2021-11-20T20:51:52.151Z"
   },
   {
    "duration": 70,
    "start_time": "2021-11-20T20:53:03.618Z"
   },
   {
    "duration": 566,
    "start_time": "2021-11-20T20:53:09.950Z"
   },
   {
    "duration": 557,
    "start_time": "2021-11-20T20:59:25.568Z"
   },
   {
    "duration": 1062,
    "start_time": "2021-11-20T21:10:42.890Z"
   },
   {
    "duration": 14,
    "start_time": "2021-11-20T21:10:55.805Z"
   },
   {
    "duration": 14,
    "start_time": "2021-11-20T21:11:02.468Z"
   },
   {
    "duration": 13,
    "start_time": "2021-11-20T21:11:09.034Z"
   },
   {
    "duration": 452,
    "start_time": "2021-11-20T21:11:33.421Z"
   },
   {
    "duration": 411,
    "start_time": "2021-11-20T21:11:40.311Z"
   },
   {
    "duration": 599,
    "start_time": "2021-11-20T21:11:47.439Z"
   },
   {
    "duration": 758,
    "start_time": "2021-11-20T21:11:59.292Z"
   },
   {
    "duration": 845,
    "start_time": "2021-11-20T21:15:10.062Z"
   },
   {
    "duration": 672,
    "start_time": "2021-11-20T21:16:06.541Z"
   },
   {
    "duration": 914,
    "start_time": "2021-11-20T21:16:16.176Z"
   },
   {
    "duration": 912,
    "start_time": "2021-11-20T21:16:23.032Z"
   },
   {
    "duration": 7741,
    "start_time": "2021-11-20T21:29:30.935Z"
   },
   {
    "duration": 9318,
    "start_time": "2021-11-20T21:30:41.846Z"
   },
   {
    "duration": 529,
    "start_time": "2021-11-20T21:31:25.677Z"
   },
   {
    "duration": 576,
    "start_time": "2021-11-20T21:32:19.071Z"
   },
   {
    "duration": 991,
    "start_time": "2021-11-20T21:32:27.009Z"
   },
   {
    "duration": 28,
    "start_time": "2021-11-20T21:32:28.002Z"
   },
   {
    "duration": 498,
    "start_time": "2021-11-20T21:32:28.032Z"
   },
   {
    "duration": 6,
    "start_time": "2021-11-20T21:32:28.532Z"
   },
   {
    "duration": 20,
    "start_time": "2021-11-20T21:32:28.540Z"
   },
   {
    "duration": 4,
    "start_time": "2021-11-20T21:32:28.561Z"
   },
   {
    "duration": 22,
    "start_time": "2021-11-20T21:32:28.566Z"
   },
   {
    "duration": 8,
    "start_time": "2021-11-20T21:32:28.590Z"
   },
   {
    "duration": 9,
    "start_time": "2021-11-20T21:32:28.600Z"
   },
   {
    "duration": 6,
    "start_time": "2021-11-20T21:32:28.610Z"
   },
   {
    "duration": 18,
    "start_time": "2021-11-20T21:32:28.618Z"
   },
   {
    "duration": 18,
    "start_time": "2021-11-20T21:32:28.637Z"
   },
   {
    "duration": 6,
    "start_time": "2021-11-20T21:32:28.656Z"
   },
   {
    "duration": 26,
    "start_time": "2021-11-20T21:32:28.663Z"
   },
   {
    "duration": 4,
    "start_time": "2021-11-20T21:32:28.691Z"
   },
   {
    "duration": 4,
    "start_time": "2021-11-20T21:32:28.696Z"
   },
   {
    "duration": 4,
    "start_time": "2021-11-20T21:32:28.702Z"
   },
   {
    "duration": 5,
    "start_time": "2021-11-20T21:32:28.707Z"
   },
   {
    "duration": 138,
    "start_time": "2021-11-20T21:32:28.713Z"
   },
   {
    "duration": 45,
    "start_time": "2021-11-20T21:32:28.852Z"
   },
   {
    "duration": 7898,
    "start_time": "2021-11-20T21:32:28.994Z"
   },
   {
    "duration": 9517,
    "start_time": "2021-11-20T21:32:36.894Z"
   },
   {
    "duration": 548,
    "start_time": "2021-11-20T21:32:46.413Z"
   },
   {
    "duration": 8,
    "start_time": "2021-11-20T21:32:46.963Z"
   },
   {
    "duration": 29,
    "start_time": "2021-11-20T21:32:46.973Z"
   },
   {
    "duration": 524,
    "start_time": "2021-11-20T21:32:47.004Z"
   },
   {
    "duration": 15,
    "start_time": "2021-11-20T21:32:47.530Z"
   },
   {
    "duration": 57,
    "start_time": "2021-11-20T21:32:47.547Z"
   },
   {
    "duration": 1220,
    "start_time": "2021-11-20T21:32:47.606Z"
   },
   {
    "duration": 13,
    "start_time": "2021-11-20T21:32:48.827Z"
   },
   {
    "duration": 48,
    "start_time": "2021-11-20T21:32:48.842Z"
   },
   {
    "duration": 265,
    "start_time": "2021-11-20T21:32:48.892Z"
   },
   {
    "duration": 1584,
    "start_time": "2021-11-20T21:33:47.326Z"
   },
   {
    "duration": 28,
    "start_time": "2021-11-20T21:33:48.912Z"
   },
   {
    "duration": 496,
    "start_time": "2021-11-20T21:33:48.942Z"
   },
   {
    "duration": 7,
    "start_time": "2021-11-20T21:33:49.439Z"
   },
   {
    "duration": 26,
    "start_time": "2021-11-20T21:33:49.447Z"
   },
   {
    "duration": 14,
    "start_time": "2021-11-20T21:33:49.474Z"
   },
   {
    "duration": 10,
    "start_time": "2021-11-20T21:33:49.489Z"
   },
   {
    "duration": 16,
    "start_time": "2021-11-20T21:33:49.501Z"
   },
   {
    "duration": 9,
    "start_time": "2021-11-20T21:33:49.519Z"
   },
   {
    "duration": 4,
    "start_time": "2021-11-20T21:33:49.530Z"
   },
   {
    "duration": 16,
    "start_time": "2021-11-20T21:33:49.536Z"
   },
   {
    "duration": 35,
    "start_time": "2021-11-20T21:33:49.554Z"
   },
   {
    "duration": 5,
    "start_time": "2021-11-20T21:33:49.590Z"
   },
   {
    "duration": 4,
    "start_time": "2021-11-20T21:33:49.597Z"
   },
   {
    "duration": 5,
    "start_time": "2021-11-20T21:33:49.602Z"
   },
   {
    "duration": 5,
    "start_time": "2021-11-20T21:33:49.608Z"
   },
   {
    "duration": 5,
    "start_time": "2021-11-20T21:33:49.614Z"
   },
   {
    "duration": 5,
    "start_time": "2021-11-20T21:33:49.621Z"
   },
   {
    "duration": 150,
    "start_time": "2021-11-20T21:33:49.627Z"
   },
   {
    "duration": 30,
    "start_time": "2021-11-20T21:33:49.779Z"
   },
   {
    "duration": 8461,
    "start_time": "2021-11-20T21:33:49.811Z"
   },
   {
    "duration": 9586,
    "start_time": "2021-11-20T21:33:58.274Z"
   },
   {
    "duration": 540,
    "start_time": "2021-11-20T21:34:07.863Z"
   },
   {
    "duration": 7,
    "start_time": "2021-11-20T21:34:08.405Z"
   },
   {
    "duration": 79,
    "start_time": "2021-11-20T21:34:08.414Z"
   },
   {
    "duration": 589,
    "start_time": "2021-11-20T21:34:08.495Z"
   },
   {
    "duration": 16,
    "start_time": "2021-11-20T21:34:09.088Z"
   },
   {
    "duration": 90,
    "start_time": "2021-11-20T21:34:09.105Z"
   },
   {
    "duration": 1055,
    "start_time": "2021-11-20T21:34:09.288Z"
   },
   {
    "duration": 13,
    "start_time": "2021-11-20T21:34:10.344Z"
   },
   {
    "duration": 39,
    "start_time": "2021-11-20T21:34:10.359Z"
   },
   {
    "duration": 356,
    "start_time": "2021-11-20T21:34:10.489Z"
   },
   {
    "duration": 8103,
    "start_time": "2021-11-20T21:34:52.794Z"
   },
   {
    "duration": 4791,
    "start_time": "2021-11-20T21:35:17.386Z"
   },
   {
    "duration": 1035,
    "start_time": "2021-11-20T21:36:29.669Z"
   },
   {
    "duration": 29,
    "start_time": "2021-11-20T21:36:30.705Z"
   },
   {
    "duration": 1166,
    "start_time": "2021-11-20T21:36:30.737Z"
   },
   {
    "duration": 7,
    "start_time": "2021-11-20T21:36:31.906Z"
   },
   {
    "duration": 25,
    "start_time": "2021-11-20T21:36:31.914Z"
   },
   {
    "duration": 19,
    "start_time": "2021-11-20T21:36:31.941Z"
   },
   {
    "duration": 11,
    "start_time": "2021-11-20T21:36:31.962Z"
   },
   {
    "duration": 15,
    "start_time": "2021-11-20T21:36:31.976Z"
   },
   {
    "duration": 18,
    "start_time": "2021-11-20T21:36:31.993Z"
   },
   {
    "duration": 31,
    "start_time": "2021-11-20T21:36:32.013Z"
   },
   {
    "duration": 36,
    "start_time": "2021-11-20T21:36:32.046Z"
   },
   {
    "duration": 26,
    "start_time": "2021-11-20T21:36:32.084Z"
   },
   {
    "duration": 10,
    "start_time": "2021-11-20T21:36:32.112Z"
   },
   {
    "duration": 22,
    "start_time": "2021-11-20T21:36:32.124Z"
   },
   {
    "duration": 29,
    "start_time": "2021-11-20T21:36:32.147Z"
   },
   {
    "duration": 24,
    "start_time": "2021-11-20T21:36:32.178Z"
   },
   {
    "duration": 16,
    "start_time": "2021-11-20T21:36:32.204Z"
   },
   {
    "duration": 18,
    "start_time": "2021-11-20T21:36:32.222Z"
   },
   {
    "duration": 143,
    "start_time": "2021-11-20T21:36:32.242Z"
   },
   {
    "duration": 23,
    "start_time": "2021-11-20T21:36:32.387Z"
   },
   {
    "duration": 8075,
    "start_time": "2021-11-20T21:36:32.412Z"
   },
   {
    "duration": 4776,
    "start_time": "2021-11-20T21:36:40.488Z"
   },
   {
    "duration": 262,
    "start_time": "2021-11-20T21:36:45.268Z"
   },
   {
    "duration": 8,
    "start_time": "2021-11-20T21:36:45.532Z"
   },
   {
    "duration": 55,
    "start_time": "2021-11-20T21:36:45.542Z"
   },
   {
    "duration": 542,
    "start_time": "2021-11-20T21:36:45.691Z"
   },
   {
    "duration": 16,
    "start_time": "2021-11-20T21:36:46.234Z"
   },
   {
    "duration": 54,
    "start_time": "2021-11-20T21:36:46.251Z"
   },
   {
    "duration": 643,
    "start_time": "2021-11-20T21:36:46.307Z"
   },
   {
    "duration": 12,
    "start_time": "2021-11-20T21:36:46.952Z"
   },
   {
    "duration": 26,
    "start_time": "2021-11-20T21:36:46.966Z"
   },
   {
    "duration": 314,
    "start_time": "2021-11-20T21:36:46.995Z"
   },
   {
    "duration": 26,
    "start_time": "2021-11-20T21:45:07.094Z"
   },
   {
    "duration": 7862,
    "start_time": "2021-11-20T21:45:31.437Z"
   },
   {
    "duration": 280,
    "start_time": "2021-11-20T21:45:54.343Z"
   },
   {
    "duration": 8,
    "start_time": "2021-11-20T21:46:00.252Z"
   },
   {
    "duration": 24,
    "start_time": "2021-11-20T21:46:19.904Z"
   },
   {
    "duration": 511,
    "start_time": "2021-11-20T21:46:57.234Z"
   },
   {
    "duration": 1055,
    "start_time": "2021-11-20T21:47:07.351Z"
   },
   {
    "duration": 28,
    "start_time": "2021-11-20T21:47:08.407Z"
   },
   {
    "duration": 496,
    "start_time": "2021-11-20T21:47:08.437Z"
   },
   {
    "duration": 7,
    "start_time": "2021-11-20T21:47:08.935Z"
   },
   {
    "duration": 23,
    "start_time": "2021-11-20T21:47:08.943Z"
   },
   {
    "duration": 4,
    "start_time": "2021-11-20T21:47:08.967Z"
   },
   {
    "duration": 4,
    "start_time": "2021-11-20T21:47:08.988Z"
   },
   {
    "duration": 12,
    "start_time": "2021-11-20T21:47:08.994Z"
   },
   {
    "duration": 9,
    "start_time": "2021-11-20T21:47:09.008Z"
   },
   {
    "duration": 6,
    "start_time": "2021-11-20T21:47:09.018Z"
   },
   {
    "duration": 16,
    "start_time": "2021-11-20T21:47:09.025Z"
   },
   {
    "duration": 18,
    "start_time": "2021-11-20T21:47:09.042Z"
   },
   {
    "duration": 29,
    "start_time": "2021-11-20T21:47:09.062Z"
   },
   {
    "duration": 4,
    "start_time": "2021-11-20T21:47:09.092Z"
   },
   {
    "duration": 4,
    "start_time": "2021-11-20T21:47:09.098Z"
   },
   {
    "duration": 6,
    "start_time": "2021-11-20T21:47:09.104Z"
   },
   {
    "duration": 5,
    "start_time": "2021-11-20T21:47:09.112Z"
   },
   {
    "duration": 6,
    "start_time": "2021-11-20T21:47:09.118Z"
   },
   {
    "duration": 142,
    "start_time": "2021-11-20T21:47:09.125Z"
   },
   {
    "duration": 35,
    "start_time": "2021-11-20T21:47:09.269Z"
   },
   {
    "duration": 8224,
    "start_time": "2021-11-20T21:47:09.306Z"
   },
   {
    "duration": 4784,
    "start_time": "2021-11-20T21:47:17.531Z"
   },
   {
    "duration": 259,
    "start_time": "2021-11-20T21:47:22.317Z"
   },
   {
    "duration": 14,
    "start_time": "2021-11-20T21:47:22.578Z"
   },
   {
    "duration": 24,
    "start_time": "2021-11-20T21:47:22.593Z"
   },
   {
    "duration": 615,
    "start_time": "2021-11-20T21:47:22.689Z"
   },
   {
    "duration": 17,
    "start_time": "2021-11-20T21:47:23.306Z"
   },
   {
    "duration": 164,
    "start_time": "2021-11-20T21:47:23.324Z"
   },
   {
    "duration": 525,
    "start_time": "2021-11-20T21:47:23.490Z"
   },
   {
    "duration": 12,
    "start_time": "2021-11-20T21:47:24.017Z"
   },
   {
    "duration": 58,
    "start_time": "2021-11-20T21:47:24.030Z"
   },
   {
    "duration": 218,
    "start_time": "2021-11-20T21:47:24.091Z"
   },
   {
    "duration": 460,
    "start_time": "2021-11-20T21:49:03.920Z"
   },
   {
    "duration": 305,
    "start_time": "2021-11-20T21:53:38.440Z"
   },
   {
    "duration": 228,
    "start_time": "2021-11-20T21:54:03.648Z"
   },
   {
    "duration": 248,
    "start_time": "2021-11-20T21:54:17.487Z"
   },
   {
    "duration": 74630,
    "start_time": "2021-11-20T21:54:37.757Z"
   },
   {
    "duration": 421361,
    "start_time": "2021-11-20T21:58:39.773Z"
   },
   {
    "duration": 453,
    "start_time": "2021-11-20T22:06:04.401Z"
   },
   {
    "duration": 1017,
    "start_time": "2021-11-20T22:06:19.779Z"
   },
   {
    "duration": 28,
    "start_time": "2021-11-20T22:06:20.797Z"
   },
   {
    "duration": 500,
    "start_time": "2021-11-20T22:06:20.827Z"
   },
   {
    "duration": 6,
    "start_time": "2021-11-20T22:06:21.330Z"
   },
   {
    "duration": 24,
    "start_time": "2021-11-20T22:06:21.338Z"
   },
   {
    "duration": 4,
    "start_time": "2021-11-20T22:06:21.364Z"
   },
   {
    "duration": 18,
    "start_time": "2021-11-20T22:06:21.370Z"
   },
   {
    "duration": 12,
    "start_time": "2021-11-20T22:06:21.390Z"
   },
   {
    "duration": 26,
    "start_time": "2021-11-20T22:06:21.405Z"
   },
   {
    "duration": 14,
    "start_time": "2021-11-20T22:06:21.432Z"
   },
   {
    "duration": 39,
    "start_time": "2021-11-20T22:06:21.448Z"
   },
   {
    "duration": 18,
    "start_time": "2021-11-20T22:06:21.488Z"
   },
   {
    "duration": 9,
    "start_time": "2021-11-20T22:06:21.508Z"
   },
   {
    "duration": 17,
    "start_time": "2021-11-20T22:06:21.518Z"
   },
   {
    "duration": 22,
    "start_time": "2021-11-20T22:06:21.536Z"
   },
   {
    "duration": 25,
    "start_time": "2021-11-20T22:06:21.560Z"
   },
   {
    "duration": 4,
    "start_time": "2021-11-20T22:06:21.587Z"
   },
   {
    "duration": 5,
    "start_time": "2021-11-20T22:06:21.593Z"
   },
   {
    "duration": 129,
    "start_time": "2021-11-20T22:06:21.599Z"
   },
   {
    "duration": 59,
    "start_time": "2021-11-20T22:06:21.729Z"
   },
   {
    "duration": 8444,
    "start_time": "2021-11-20T22:06:21.790Z"
   },
   {
    "duration": 4940,
    "start_time": "2021-11-20T22:06:30.236Z"
   },
   {
    "duration": 261,
    "start_time": "2021-11-20T22:06:35.179Z"
   },
   {
    "duration": 7,
    "start_time": "2021-11-20T22:06:35.442Z"
   },
   {
    "duration": 47,
    "start_time": "2021-11-20T22:06:35.450Z"
   },
   {
    "duration": 591,
    "start_time": "2021-11-20T22:06:35.589Z"
   },
   {
    "duration": 20,
    "start_time": "2021-11-20T22:06:36.182Z"
   },
   {
    "duration": 35,
    "start_time": "2021-11-20T22:06:36.204Z"
   },
   {
    "duration": 417208,
    "start_time": "2021-11-20T22:06:36.289Z"
   },
   {
    "duration": 450,
    "start_time": "2021-11-20T22:13:33.498Z"
   },
   {
    "duration": 13,
    "start_time": "2021-11-20T22:13:33.949Z"
   },
   {
    "duration": 27,
    "start_time": "2021-11-20T22:13:33.963Z"
   },
   {
    "duration": 320,
    "start_time": "2021-11-20T22:13:33.992Z"
   },
   {
    "duration": 240,
    "start_time": "2021-11-20T22:14:56.895Z"
   },
   {
    "duration": 133534,
    "start_time": "2021-11-20T22:16:26.858Z"
   },
   {
    "duration": 142,
    "start_time": "2021-11-20T22:19:53.969Z"
   },
   {
    "duration": 1439,
    "start_time": "2021-11-21T07:37:18.060Z"
   },
   {
    "duration": 33,
    "start_time": "2021-11-21T07:37:19.501Z"
   },
   {
    "duration": 835,
    "start_time": "2021-11-21T07:37:19.537Z"
   },
   {
    "duration": 15,
    "start_time": "2021-11-21T07:37:20.376Z"
   },
   {
    "duration": 36,
    "start_time": "2021-11-21T07:37:20.394Z"
   },
   {
    "duration": 6,
    "start_time": "2021-11-21T07:37:20.432Z"
   },
   {
    "duration": 44,
    "start_time": "2021-11-21T07:37:20.440Z"
   },
   {
    "duration": 24,
    "start_time": "2021-11-21T07:37:20.488Z"
   },
   {
    "duration": 16,
    "start_time": "2021-11-21T07:37:20.515Z"
   },
   {
    "duration": 11,
    "start_time": "2021-11-21T07:37:20.533Z"
   },
   {
    "duration": 42,
    "start_time": "2021-11-21T07:37:20.546Z"
   },
   {
    "duration": 31,
    "start_time": "2021-11-21T07:37:20.590Z"
   },
   {
    "duration": 15,
    "start_time": "2021-11-21T07:37:20.624Z"
   },
   {
    "duration": 17,
    "start_time": "2021-11-21T07:37:20.641Z"
   },
   {
    "duration": 22,
    "start_time": "2021-11-21T07:37:20.660Z"
   },
   {
    "duration": 18,
    "start_time": "2021-11-21T07:37:20.685Z"
   },
   {
    "duration": 17,
    "start_time": "2021-11-21T07:37:20.705Z"
   },
   {
    "duration": 35,
    "start_time": "2021-11-21T07:37:20.725Z"
   },
   {
    "duration": 232,
    "start_time": "2021-11-21T07:37:20.763Z"
   },
   {
    "duration": 187,
    "start_time": "2021-11-21T07:37:20.998Z"
   },
   {
    "duration": 13060,
    "start_time": "2021-11-21T07:37:21.188Z"
   },
   {
    "duration": 7907,
    "start_time": "2021-11-21T07:37:34.251Z"
   },
   {
    "duration": 423,
    "start_time": "2021-11-21T07:37:42.163Z"
   },
   {
    "duration": 18,
    "start_time": "2021-11-21T07:37:42.589Z"
   },
   {
    "duration": 75,
    "start_time": "2021-11-21T07:37:42.610Z"
   },
   {
    "duration": 1006,
    "start_time": "2021-11-21T07:37:42.688Z"
   },
   {
    "duration": 27,
    "start_time": "2021-11-21T07:37:43.696Z"
   },
   {
    "duration": 164,
    "start_time": "2021-11-21T07:37:43.726Z"
   },
   {
    "duration": 819067,
    "start_time": "2021-11-21T07:37:43.893Z"
   },
   {
    "duration": 420,
    "start_time": "2021-11-21T07:51:22.963Z"
   },
   {
    "duration": 20,
    "start_time": "2021-11-21T07:51:23.386Z"
   },
   {
    "duration": 88,
    "start_time": "2021-11-21T07:51:23.408Z"
   },
   {
    "duration": 216994,
    "start_time": "2021-11-21T07:51:23.584Z"
   },
   {
    "duration": 227,
    "start_time": "2021-11-21T07:55:00.582Z"
   },
   {
    "duration": 582,
    "start_time": "2021-11-21T07:57:54.003Z"
   },
   {
    "duration": 370,
    "start_time": "2021-11-21T08:04:00.317Z"
   },
   {
    "duration": 1837,
    "start_time": "2021-11-21T08:10:38.645Z"
   },
   {
    "duration": 46,
    "start_time": "2021-11-21T08:10:40.485Z"
   },
   {
    "duration": 1046,
    "start_time": "2021-11-21T08:10:40.534Z"
   },
   {
    "duration": 10,
    "start_time": "2021-11-21T08:10:41.583Z"
   },
   {
    "duration": 35,
    "start_time": "2021-11-21T08:10:41.596Z"
   },
   {
    "duration": 7,
    "start_time": "2021-11-21T08:10:41.633Z"
   },
   {
    "duration": 40,
    "start_time": "2021-11-21T08:10:41.642Z"
   },
   {
    "duration": 22,
    "start_time": "2021-11-21T08:10:41.685Z"
   },
   {
    "duration": 16,
    "start_time": "2021-11-21T08:10:41.711Z"
   },
   {
    "duration": 5,
    "start_time": "2021-11-21T08:10:41.730Z"
   },
   {
    "duration": 55,
    "start_time": "2021-11-21T08:10:41.737Z"
   },
   {
    "duration": 56,
    "start_time": "2021-11-21T08:10:41.794Z"
   },
   {
    "duration": 9,
    "start_time": "2021-11-21T08:10:41.853Z"
   },
   {
    "duration": 18,
    "start_time": "2021-11-21T08:10:41.864Z"
   },
   {
    "duration": 7,
    "start_time": "2021-11-21T08:10:41.885Z"
   },
   {
    "duration": 9,
    "start_time": "2021-11-21T08:10:41.896Z"
   },
   {
    "duration": 7,
    "start_time": "2021-11-21T08:10:41.908Z"
   },
   {
    "duration": 9,
    "start_time": "2021-11-21T08:10:41.918Z"
   },
   {
    "duration": 276,
    "start_time": "2021-11-21T08:10:41.930Z"
   },
   {
    "duration": 175,
    "start_time": "2021-11-21T08:10:42.209Z"
   },
   {
    "duration": 13011,
    "start_time": "2021-11-21T08:10:42.388Z"
   },
   {
    "duration": 8283,
    "start_time": "2021-11-21T08:10:55.402Z"
   },
   {
    "duration": 518,
    "start_time": "2021-11-21T08:11:03.688Z"
   },
   {
    "duration": 11,
    "start_time": "2021-11-21T08:11:04.208Z"
   },
   {
    "duration": 60,
    "start_time": "2021-11-21T08:11:04.223Z"
   },
   {
    "duration": 1052,
    "start_time": "2021-11-21T08:11:04.287Z"
   },
   {
    "duration": 25,
    "start_time": "2021-11-21T08:11:05.344Z"
   },
   {
    "duration": 103,
    "start_time": "2021-11-21T08:11:05.383Z"
   },
   {
    "duration": 812546,
    "start_time": "2021-11-21T08:11:05.489Z"
   },
   {
    "duration": 685,
    "start_time": "2021-11-21T08:24:38.037Z"
   },
   {
    "duration": 22,
    "start_time": "2021-11-21T08:24:38.724Z"
   },
   {
    "duration": 145,
    "start_time": "2021-11-21T08:24:38.749Z"
   },
   {
    "duration": 222570,
    "start_time": "2021-11-21T08:24:38.897Z"
   },
   {
    "duration": 254,
    "start_time": "2021-11-21T08:28:21.469Z"
   },
   {
    "duration": 142,
    "start_time": "2021-11-21T09:58:55.210Z"
   },
   {
    "duration": 678,
    "start_time": "2021-11-21T10:00:03.723Z"
   },
   {
    "duration": 319,
    "start_time": "2021-11-21T10:00:13.282Z"
   },
   {
    "duration": 1423,
    "start_time": "2021-11-21T10:00:28.616Z"
   },
   {
    "duration": 34,
    "start_time": "2021-11-21T10:00:30.042Z"
   },
   {
    "duration": 1162,
    "start_time": "2021-11-21T10:00:30.079Z"
   },
   {
    "duration": 11,
    "start_time": "2021-11-21T10:00:31.244Z"
   },
   {
    "duration": 58,
    "start_time": "2021-11-21T10:00:31.258Z"
   },
   {
    "duration": 7,
    "start_time": "2021-11-21T10:00:31.326Z"
   },
   {
    "duration": 37,
    "start_time": "2021-11-21T10:00:31.335Z"
   },
   {
    "duration": 39,
    "start_time": "2021-11-21T10:00:31.376Z"
   },
   {
    "duration": 17,
    "start_time": "2021-11-21T10:00:31.419Z"
   },
   {
    "duration": 12,
    "start_time": "2021-11-21T10:00:31.439Z"
   },
   {
    "duration": 57,
    "start_time": "2021-11-21T10:00:31.453Z"
   },
   {
    "duration": 42,
    "start_time": "2021-11-21T10:00:31.513Z"
   },
   {
    "duration": 7,
    "start_time": "2021-11-21T10:00:31.557Z"
   },
   {
    "duration": 25,
    "start_time": "2021-11-21T10:00:31.567Z"
   },
   {
    "duration": 22,
    "start_time": "2021-11-21T10:00:31.595Z"
   },
   {
    "duration": 14,
    "start_time": "2021-11-21T10:00:31.620Z"
   },
   {
    "duration": 17,
    "start_time": "2021-11-21T10:00:31.636Z"
   },
   {
    "duration": 15,
    "start_time": "2021-11-21T10:00:31.655Z"
   },
   {
    "duration": 254,
    "start_time": "2021-11-21T10:00:31.673Z"
   },
   {
    "duration": 156,
    "start_time": "2021-11-21T10:00:31.930Z"
   },
   {
    "duration": 13743,
    "start_time": "2021-11-21T10:00:32.089Z"
   },
   {
    "duration": 8321,
    "start_time": "2021-11-21T10:00:45.834Z"
   },
   {
    "duration": 458,
    "start_time": "2021-11-21T10:00:54.160Z"
   },
   {
    "duration": 11,
    "start_time": "2021-11-21T10:00:54.622Z"
   },
   {
    "duration": 157,
    "start_time": "2021-11-21T10:00:54.636Z"
   },
   {
    "duration": 940,
    "start_time": "2021-11-21T10:00:54.805Z"
   },
   {
    "duration": 44,
    "start_time": "2021-11-21T10:00:55.747Z"
   },
   {
    "duration": 101,
    "start_time": "2021-11-21T10:00:55.794Z"
   },
   {
    "duration": 304922,
    "start_time": "2021-11-21T10:00:55.900Z"
   },
   {
    "duration": 637,
    "start_time": "2021-11-21T10:06:00.825Z"
   },
   {
    "duration": 33,
    "start_time": "2021-11-21T10:06:01.465Z"
   },
   {
    "duration": 101,
    "start_time": "2021-11-21T10:06:01.502Z"
   },
   {
    "duration": 83896,
    "start_time": "2021-11-21T10:06:01.610Z"
   },
   {
    "duration": 170,
    "start_time": "2021-11-21T10:07:25.508Z"
   },
   {
    "duration": 468,
    "start_time": "2021-11-21T10:07:25.680Z"
   },
   {
    "duration": 1007,
    "start_time": "2021-11-21T10:07:25.145Z"
   },
   {
    "duration": 113,
    "start_time": "2021-11-21T10:13:23.317Z"
   },
   {
    "duration": 1500,
    "start_time": "2021-11-21T10:14:16.151Z"
   },
   {
    "duration": 45,
    "start_time": "2021-11-21T10:14:17.655Z"
   },
   {
    "duration": 851,
    "start_time": "2021-11-21T10:14:17.704Z"
   },
   {
    "duration": 10,
    "start_time": "2021-11-21T10:14:18.557Z"
   },
   {
    "duration": 43,
    "start_time": "2021-11-21T10:14:18.569Z"
   },
   {
    "duration": 7,
    "start_time": "2021-11-21T10:14:18.615Z"
   },
   {
    "duration": 13,
    "start_time": "2021-11-21T10:14:18.626Z"
   },
   {
    "duration": 55,
    "start_time": "2021-11-21T10:14:18.642Z"
   },
   {
    "duration": 25,
    "start_time": "2021-11-21T10:14:18.700Z"
   },
   {
    "duration": 4,
    "start_time": "2021-11-21T10:14:18.727Z"
   },
   {
    "duration": 56,
    "start_time": "2021-11-21T10:14:18.733Z"
   },
   {
    "duration": 32,
    "start_time": "2021-11-21T10:14:18.791Z"
   },
   {
    "duration": 8,
    "start_time": "2021-11-21T10:14:18.826Z"
   },
   {
    "duration": 47,
    "start_time": "2021-11-21T10:14:18.837Z"
   },
   {
    "duration": 7,
    "start_time": "2021-11-21T10:14:18.887Z"
   },
   {
    "duration": 6,
    "start_time": "2021-11-21T10:14:18.897Z"
   },
   {
    "duration": 8,
    "start_time": "2021-11-21T10:14:18.905Z"
   },
   {
    "duration": 6,
    "start_time": "2021-11-21T10:14:18.916Z"
   },
   {
    "duration": 286,
    "start_time": "2021-11-21T10:14:18.924Z"
   },
   {
    "duration": 172,
    "start_time": "2021-11-21T10:14:19.213Z"
   },
   {
    "duration": 15196,
    "start_time": "2021-11-21T10:14:19.388Z"
   },
   {
    "duration": 9617,
    "start_time": "2021-11-21T10:14:34.590Z"
   },
   {
    "duration": 430,
    "start_time": "2021-11-21T10:14:44.210Z"
   },
   {
    "duration": 13,
    "start_time": "2021-11-21T10:14:44.643Z"
   },
   {
    "duration": 59,
    "start_time": "2021-11-21T10:14:44.658Z"
   },
   {
    "duration": 912,
    "start_time": "2021-11-21T10:14:44.782Z"
   },
   {
    "duration": 26,
    "start_time": "2021-11-21T10:14:45.697Z"
   },
   {
    "duration": 98,
    "start_time": "2021-11-21T10:14:45.725Z"
   },
   {
    "duration": 149060,
    "start_time": "2021-11-21T10:14:45.884Z"
   },
   {
    "duration": 622,
    "start_time": "2021-11-21T10:17:14.946Z"
   },
   {
    "duration": 33,
    "start_time": "2021-11-21T10:17:15.570Z"
   },
   {
    "duration": 86,
    "start_time": "2021-11-21T10:17:15.606Z"
   },
   {
    "duration": 42342,
    "start_time": "2021-11-21T10:17:15.783Z"
   },
   {
    "duration": 129,
    "start_time": "2021-11-21T10:17:58.128Z"
   },
   {
    "duration": 505,
    "start_time": "2021-11-21T10:17:58.260Z"
   },
   {
    "duration": 1001,
    "start_time": "2021-11-21T10:17:57.768Z"
   },
   {
    "duration": 1459,
    "start_time": "2021-11-21T10:34:41.266Z"
   },
   {
    "duration": 34,
    "start_time": "2021-11-21T10:34:42.727Z"
   },
   {
    "duration": 754,
    "start_time": "2021-11-21T10:34:42.764Z"
   },
   {
    "duration": 14,
    "start_time": "2021-11-21T10:34:43.522Z"
   },
   {
    "duration": 69,
    "start_time": "2021-11-21T10:34:43.540Z"
   },
   {
    "duration": 7,
    "start_time": "2021-11-21T10:34:43.612Z"
   },
   {
    "duration": 9,
    "start_time": "2021-11-21T10:34:43.622Z"
   },
   {
    "duration": 45,
    "start_time": "2021-11-21T10:34:43.637Z"
   },
   {
    "duration": 24,
    "start_time": "2021-11-21T10:34:43.686Z"
   },
   {
    "duration": 5,
    "start_time": "2021-11-21T10:34:43.713Z"
   },
   {
    "duration": 27,
    "start_time": "2021-11-21T10:34:43.720Z"
   },
   {
    "duration": 71,
    "start_time": "2021-11-21T10:34:43.750Z"
   },
   {
    "duration": 11,
    "start_time": "2021-11-21T10:34:43.824Z"
   },
   {
    "duration": 8,
    "start_time": "2021-11-21T10:34:43.838Z"
   },
   {
    "duration": 37,
    "start_time": "2021-11-21T10:34:43.849Z"
   },
   {
    "duration": 8,
    "start_time": "2021-11-21T10:34:43.889Z"
   },
   {
    "duration": 13,
    "start_time": "2021-11-21T10:34:43.900Z"
   },
   {
    "duration": 12,
    "start_time": "2021-11-21T10:34:43.916Z"
   },
   {
    "duration": 253,
    "start_time": "2021-11-21T10:34:43.931Z"
   },
   {
    "duration": 198,
    "start_time": "2021-11-21T10:34:44.186Z"
   },
   {
    "duration": 13034,
    "start_time": "2021-11-21T10:34:44.387Z"
   },
   {
    "duration": 7902,
    "start_time": "2021-11-21T10:34:57.423Z"
   },
   {
    "duration": 424,
    "start_time": "2021-11-21T10:35:05.330Z"
   },
   {
    "duration": 12,
    "start_time": "2021-11-21T10:35:05.758Z"
   },
   {
    "duration": 102,
    "start_time": "2021-11-21T10:35:05.783Z"
   },
   {
    "duration": 904,
    "start_time": "2021-11-21T10:35:05.889Z"
   },
   {
    "duration": 38,
    "start_time": "2021-11-21T10:35:06.796Z"
   },
   {
    "duration": 246,
    "start_time": "2021-11-21T10:35:06.836Z"
   },
   {
    "duration": 148533,
    "start_time": "2021-11-21T10:35:07.085Z"
   },
   {
    "duration": 721,
    "start_time": "2021-11-21T10:37:35.620Z"
   },
   {
    "duration": 39,
    "start_time": "2021-11-21T10:37:36.344Z"
   },
   {
    "duration": 200,
    "start_time": "2021-11-21T10:37:36.386Z"
   },
   {
    "duration": 42772,
    "start_time": "2021-11-21T10:37:36.589Z"
   },
   {
    "duration": 127,
    "start_time": "2021-11-21T10:38:19.363Z"
   },
   {
    "duration": 2585,
    "start_time": "2021-11-21T10:38:19.492Z"
   },
   {
    "duration": 998,
    "start_time": "2021-11-21T10:38:21.084Z"
   },
   {
    "duration": 2066,
    "start_time": "2021-11-21T10:38:59.241Z"
   },
   {
    "duration": 1830,
    "start_time": "2021-11-21T10:39:44.248Z"
   },
   {
    "duration": 1670,
    "start_time": "2021-11-21T10:40:29.212Z"
   },
   {
    "duration": 35,
    "start_time": "2021-11-21T10:40:30.885Z"
   },
   {
    "duration": 847,
    "start_time": "2021-11-21T10:40:30.924Z"
   },
   {
    "duration": 18,
    "start_time": "2021-11-21T10:40:31.776Z"
   },
   {
    "duration": 51,
    "start_time": "2021-11-21T10:40:31.797Z"
   },
   {
    "duration": 32,
    "start_time": "2021-11-21T10:40:31.851Z"
   },
   {
    "duration": 11,
    "start_time": "2021-11-21T10:40:31.886Z"
   },
   {
    "duration": 23,
    "start_time": "2021-11-21T10:40:31.900Z"
   },
   {
    "duration": 53,
    "start_time": "2021-11-21T10:40:31.929Z"
   },
   {
    "duration": 4,
    "start_time": "2021-11-21T10:40:31.986Z"
   },
   {
    "duration": 26,
    "start_time": "2021-11-21T10:40:31.993Z"
   },
   {
    "duration": 33,
    "start_time": "2021-11-21T10:40:32.022Z"
   },
   {
    "duration": 9,
    "start_time": "2021-11-21T10:40:32.082Z"
   },
   {
    "duration": 8,
    "start_time": "2021-11-21T10:40:32.094Z"
   },
   {
    "duration": 7,
    "start_time": "2021-11-21T10:40:32.105Z"
   },
   {
    "duration": 15,
    "start_time": "2021-11-21T10:40:32.115Z"
   },
   {
    "duration": 16,
    "start_time": "2021-11-21T10:40:32.134Z"
   },
   {
    "duration": 34,
    "start_time": "2021-11-21T10:40:32.153Z"
   },
   {
    "duration": 367,
    "start_time": "2021-11-21T10:40:32.190Z"
   },
   {
    "duration": 127,
    "start_time": "2021-11-21T10:40:32.560Z"
   },
   {
    "duration": 13219,
    "start_time": "2021-11-21T10:40:32.691Z"
   },
   {
    "duration": 7893,
    "start_time": "2021-11-21T10:40:45.913Z"
   },
   {
    "duration": 429,
    "start_time": "2021-11-21T10:40:53.808Z"
   },
   {
    "duration": 12,
    "start_time": "2021-11-21T10:40:54.239Z"
   },
   {
    "duration": 62,
    "start_time": "2021-11-21T10:40:54.254Z"
   },
   {
    "duration": 890,
    "start_time": "2021-11-21T10:40:54.385Z"
   },
   {
    "duration": 24,
    "start_time": "2021-11-21T10:40:55.284Z"
   },
   {
    "duration": 84,
    "start_time": "2021-11-21T10:40:55.311Z"
   },
   {
    "duration": 153379,
    "start_time": "2021-11-21T10:40:55.484Z"
   },
   {
    "duration": 583,
    "start_time": "2021-11-21T10:43:28.866Z"
   },
   {
    "duration": 34,
    "start_time": "2021-11-21T10:43:29.452Z"
   },
   {
    "duration": 94,
    "start_time": "2021-11-21T10:43:29.489Z"
   },
   {
    "duration": 48681,
    "start_time": "2021-11-21T10:43:29.586Z"
   },
   {
    "duration": 134,
    "start_time": "2021-11-21T10:44:18.269Z"
   },
   {
    "duration": 2696,
    "start_time": "2021-11-21T10:44:18.406Z"
   },
   {
    "duration": 975,
    "start_time": "2021-11-21T10:44:20.130Z"
   },
   {
    "duration": 1931,
    "start_time": "2021-11-21T10:46:41.372Z"
   },
   {
    "duration": 334,
    "start_time": "2021-11-21T10:46:52.777Z"
   },
   {
    "duration": 8,
    "start_time": "2021-11-21T10:47:08.597Z"
   },
   {
    "duration": 1645,
    "start_time": "2021-11-21T12:49:12.169Z"
   },
   {
    "duration": 35,
    "start_time": "2021-11-21T12:49:13.820Z"
   },
   {
    "duration": 1063,
    "start_time": "2021-11-21T12:49:13.858Z"
   },
   {
    "duration": 11,
    "start_time": "2021-11-21T12:49:14.923Z"
   },
   {
    "duration": 52,
    "start_time": "2021-11-21T12:49:14.937Z"
   },
   {
    "duration": 6,
    "start_time": "2021-11-21T12:49:14.992Z"
   },
   {
    "duration": 21,
    "start_time": "2021-11-21T12:49:15.004Z"
   },
   {
    "duration": 17,
    "start_time": "2021-11-21T12:49:15.029Z"
   },
   {
    "duration": 42,
    "start_time": "2021-11-21T12:49:15.049Z"
   },
   {
    "duration": 14,
    "start_time": "2021-11-21T12:49:15.094Z"
   },
   {
    "duration": 25,
    "start_time": "2021-11-21T12:49:15.110Z"
   },
   {
    "duration": 60,
    "start_time": "2021-11-21T12:49:15.138Z"
   },
   {
    "duration": 8,
    "start_time": "2021-11-21T12:49:15.201Z"
   },
   {
    "duration": 7,
    "start_time": "2021-11-21T12:49:15.211Z"
   },
   {
    "duration": 6,
    "start_time": "2021-11-21T12:49:15.221Z"
   },
   {
    "duration": 14,
    "start_time": "2021-11-21T12:49:15.230Z"
   },
   {
    "duration": 40,
    "start_time": "2021-11-21T12:49:15.246Z"
   },
   {
    "duration": 6,
    "start_time": "2021-11-21T12:49:15.289Z"
   },
   {
    "duration": 350,
    "start_time": "2021-11-21T12:49:15.298Z"
   },
   {
    "duration": 143,
    "start_time": "2021-11-21T12:49:15.650Z"
   },
   {
    "duration": 18929,
    "start_time": "2021-11-21T12:49:15.796Z"
   },
   {
    "duration": 8070,
    "start_time": "2021-11-21T12:49:34.732Z"
   },
   {
    "duration": 434,
    "start_time": "2021-11-21T12:49:42.805Z"
   },
   {
    "duration": 11,
    "start_time": "2021-11-21T12:49:43.242Z"
   },
   {
    "duration": 126,
    "start_time": "2021-11-21T12:49:43.255Z"
   },
   {
    "duration": 934,
    "start_time": "2021-11-21T12:49:43.385Z"
   },
   {
    "duration": 26,
    "start_time": "2021-11-21T12:49:44.321Z"
   },
   {
    "duration": 141,
    "start_time": "2021-11-21T12:49:44.350Z"
   },
   {
    "duration": 321641,
    "start_time": "2021-11-21T12:49:44.582Z"
   },
   {
    "duration": 585,
    "start_time": "2021-11-21T12:55:06.226Z"
   },
   {
    "duration": 21,
    "start_time": "2021-11-21T12:55:06.815Z"
   },
   {
    "duration": 52,
    "start_time": "2021-11-21T12:55:06.839Z"
   },
   {
    "duration": 110030,
    "start_time": "2021-11-21T12:55:06.896Z"
   },
   {
    "duration": 139,
    "start_time": "2021-11-21T12:56:56.928Z"
   },
   {
    "duration": 1859,
    "start_time": "2021-11-21T12:56:57.070Z"
   },
   {
    "duration": 1611,
    "start_time": "2021-11-21T13:26:27.191Z"
   },
   {
    "duration": 33,
    "start_time": "2021-11-21T13:26:28.805Z"
   },
   {
    "duration": 996,
    "start_time": "2021-11-21T13:26:28.844Z"
   },
   {
    "duration": 16,
    "start_time": "2021-11-21T13:26:29.843Z"
   },
   {
    "duration": 64,
    "start_time": "2021-11-21T13:26:29.862Z"
   },
   {
    "duration": 8,
    "start_time": "2021-11-21T13:26:29.929Z"
   },
   {
    "duration": 6,
    "start_time": "2021-11-21T13:26:29.943Z"
   },
   {
    "duration": 19,
    "start_time": "2021-11-21T13:26:29.984Z"
   },
   {
    "duration": 25,
    "start_time": "2021-11-21T13:26:30.006Z"
   },
   {
    "duration": 16,
    "start_time": "2021-11-21T13:26:30.033Z"
   },
   {
    "duration": 46,
    "start_time": "2021-11-21T13:26:30.052Z"
   },
   {
    "duration": 31,
    "start_time": "2021-11-21T13:26:30.101Z"
   },
   {
    "duration": 8,
    "start_time": "2021-11-21T13:26:30.135Z"
   },
   {
    "duration": 20,
    "start_time": "2021-11-21T13:26:30.145Z"
   },
   {
    "duration": 5,
    "start_time": "2021-11-21T13:26:30.182Z"
   },
   {
    "duration": 25,
    "start_time": "2021-11-21T13:26:30.189Z"
   },
   {
    "duration": 20,
    "start_time": "2021-11-21T13:26:30.216Z"
   },
   {
    "duration": 20,
    "start_time": "2021-11-21T13:26:30.239Z"
   },
   {
    "duration": 237,
    "start_time": "2021-11-21T13:26:30.262Z"
   },
   {
    "duration": 183,
    "start_time": "2021-11-21T13:26:30.502Z"
   },
   {
    "duration": 13894,
    "start_time": "2021-11-21T13:26:30.690Z"
   },
   {
    "duration": 8148,
    "start_time": "2021-11-21T13:26:44.590Z"
   },
   {
    "duration": 443,
    "start_time": "2021-11-21T13:26:52.740Z"
   },
   {
    "duration": 12,
    "start_time": "2021-11-21T13:26:53.185Z"
   },
   {
    "duration": 183,
    "start_time": "2021-11-21T13:26:53.199Z"
   },
   {
    "duration": 828,
    "start_time": "2021-11-21T13:26:53.384Z"
   },
   {
    "duration": 24,
    "start_time": "2021-11-21T13:26:54.215Z"
   },
   {
    "duration": 141,
    "start_time": "2021-11-21T13:26:54.241Z"
   },
   {
    "duration": 296676,
    "start_time": "2021-11-21T13:26:54.385Z"
   },
   {
    "duration": 25,
    "start_time": "2021-11-21T13:31:51.063Z"
   },
   {
    "duration": 25,
    "start_time": "2021-11-21T13:31:51.091Z"
   },
   {
    "duration": 93209,
    "start_time": "2021-11-21T13:31:51.184Z"
   },
   {
    "duration": 1915,
    "start_time": "2021-11-21T13:33:24.396Z"
   },
   {
    "duration": 1486,
    "start_time": "2021-11-21T13:34:46.132Z"
   },
   {
    "duration": 35,
    "start_time": "2021-11-21T13:34:47.620Z"
   },
   {
    "duration": 1617,
    "start_time": "2021-11-21T13:34:47.662Z"
   },
   {
    "duration": 10,
    "start_time": "2021-11-21T13:34:49.283Z"
   },
   {
    "duration": 35,
    "start_time": "2021-11-21T13:34:49.296Z"
   },
   {
    "duration": 6,
    "start_time": "2021-11-21T13:34:49.333Z"
   },
   {
    "duration": 41,
    "start_time": "2021-11-21T13:34:49.343Z"
   },
   {
    "duration": 18,
    "start_time": "2021-11-21T13:34:49.387Z"
   },
   {
    "duration": 17,
    "start_time": "2021-11-21T13:34:49.407Z"
   },
   {
    "duration": 5,
    "start_time": "2021-11-21T13:34:49.426Z"
   },
   {
    "duration": 55,
    "start_time": "2021-11-21T13:34:49.433Z"
   },
   {
    "duration": 31,
    "start_time": "2021-11-21T13:34:49.490Z"
   },
   {
    "duration": 8,
    "start_time": "2021-11-21T13:34:49.523Z"
   },
   {
    "duration": 6,
    "start_time": "2021-11-21T13:34:49.533Z"
   },
   {
    "duration": 42,
    "start_time": "2021-11-21T13:34:49.541Z"
   },
   {
    "duration": 5,
    "start_time": "2021-11-21T13:34:49.585Z"
   },
   {
    "duration": 17,
    "start_time": "2021-11-21T13:34:49.594Z"
   },
   {
    "duration": 12,
    "start_time": "2021-11-21T13:34:49.613Z"
   },
   {
    "duration": 241,
    "start_time": "2021-11-21T13:34:49.628Z"
   },
   {
    "duration": 211,
    "start_time": "2021-11-21T13:34:49.871Z"
   },
   {
    "duration": 13749,
    "start_time": "2021-11-21T13:34:50.085Z"
   },
   {
    "duration": 7990,
    "start_time": "2021-11-21T13:35:03.839Z"
   },
   {
    "duration": 438,
    "start_time": "2021-11-21T13:35:11.832Z"
   },
   {
    "duration": 17,
    "start_time": "2021-11-21T13:35:12.272Z"
   },
   {
    "duration": 192,
    "start_time": "2021-11-21T13:35:12.291Z"
   },
   {
    "duration": 867,
    "start_time": "2021-11-21T13:35:12.486Z"
   },
   {
    "duration": 40,
    "start_time": "2021-11-21T13:35:13.356Z"
   },
   {
    "duration": 184,
    "start_time": "2021-11-21T13:35:13.399Z"
   },
   {
    "duration": 299653,
    "start_time": "2021-11-21T13:35:13.586Z"
   },
   {
    "duration": 39,
    "start_time": "2021-11-21T13:40:13.242Z"
   },
   {
    "duration": 25,
    "start_time": "2021-11-21T13:40:13.284Z"
   },
   {
    "duration": 77997,
    "start_time": "2021-11-21T13:40:13.312Z"
   },
   {
    "duration": 1874,
    "start_time": "2021-11-21T13:41:31.313Z"
   },
   {
    "duration": 320,
    "start_time": "2021-11-21T13:41:33.190Z"
   },
   {
    "duration": 28,
    "start_time": "2021-11-21T13:41:33.512Z"
   },
   {
    "duration": 323,
    "start_time": "2021-11-21T13:45:11.592Z"
   },
   {
    "duration": 1976,
    "start_time": "2021-11-21T13:46:51.616Z"
   },
   {
    "duration": 286,
    "start_time": "2021-11-21T13:57:14.659Z"
   },
   {
    "duration": 133,
    "start_time": "2021-11-21T14:04:43.874Z"
   },
   {
    "duration": 295,
    "start_time": "2021-11-21T14:05:29.941Z"
   },
   {
    "duration": 299,
    "start_time": "2021-11-21T14:07:16.430Z"
   },
   {
    "duration": 307,
    "start_time": "2021-11-21T14:07:36.208Z"
   },
   {
    "duration": 1444,
    "start_time": "2021-11-21T14:08:13.497Z"
   },
   {
    "duration": 38,
    "start_time": "2021-11-21T14:08:14.944Z"
   },
   {
    "duration": 747,
    "start_time": "2021-11-21T14:08:14.986Z"
   },
   {
    "duration": 9,
    "start_time": "2021-11-21T14:08:15.736Z"
   },
   {
    "duration": 60,
    "start_time": "2021-11-21T14:08:15.748Z"
   },
   {
    "duration": 6,
    "start_time": "2021-11-21T14:08:15.810Z"
   },
   {
    "duration": 10,
    "start_time": "2021-11-21T14:08:15.818Z"
   },
   {
    "duration": 16,
    "start_time": "2021-11-21T14:08:15.831Z"
   },
   {
    "duration": 46,
    "start_time": "2021-11-21T14:08:15.850Z"
   },
   {
    "duration": 5,
    "start_time": "2021-11-21T14:08:15.899Z"
   },
   {
    "duration": 29,
    "start_time": "2021-11-21T14:08:15.906Z"
   },
   {
    "duration": 54,
    "start_time": "2021-11-21T14:08:15.937Z"
   },
   {
    "duration": 10,
    "start_time": "2021-11-21T14:08:15.994Z"
   },
   {
    "duration": 9,
    "start_time": "2021-11-21T14:08:16.007Z"
   },
   {
    "duration": 6,
    "start_time": "2021-11-21T14:08:16.018Z"
   },
   {
    "duration": 9,
    "start_time": "2021-11-21T14:08:16.027Z"
   },
   {
    "duration": 45,
    "start_time": "2021-11-21T14:08:16.038Z"
   },
   {
    "duration": 11,
    "start_time": "2021-11-21T14:08:16.085Z"
   },
   {
    "duration": 256,
    "start_time": "2021-11-21T14:08:16.099Z"
   },
   {
    "duration": 129,
    "start_time": "2021-11-21T14:08:16.357Z"
   },
   {
    "duration": 13637,
    "start_time": "2021-11-21T14:08:16.489Z"
   },
   {
    "duration": 8770,
    "start_time": "2021-11-21T14:08:30.129Z"
   },
   {
    "duration": 433,
    "start_time": "2021-11-21T14:08:38.904Z"
   },
   {
    "duration": 14,
    "start_time": "2021-11-21T14:08:39.340Z"
   },
   {
    "duration": 57,
    "start_time": "2021-11-21T14:08:39.357Z"
   },
   {
    "duration": 914,
    "start_time": "2021-11-21T14:08:39.482Z"
   },
   {
    "duration": 26,
    "start_time": "2021-11-21T14:08:40.399Z"
   },
   {
    "duration": 94,
    "start_time": "2021-11-21T14:08:40.427Z"
   },
   {
    "duration": 304985,
    "start_time": "2021-11-21T14:08:40.524Z"
   },
   {
    "duration": 22,
    "start_time": "2021-11-21T14:13:45.512Z"
   },
   {
    "duration": 146,
    "start_time": "2021-11-21T14:13:45.536Z"
   },
   {
    "duration": 105008,
    "start_time": "2021-11-21T14:13:45.685Z"
   },
   {
    "duration": 1935,
    "start_time": "2021-11-21T14:15:30.695Z"
   },
   {
    "duration": 304,
    "start_time": "2021-11-21T14:15:32.633Z"
   },
   {
    "duration": 500,
    "start_time": "2021-11-21T14:17:46.383Z"
   },
   {
    "duration": 340,
    "start_time": "2021-11-21T14:23:41.825Z"
   },
   {
    "duration": 1661,
    "start_time": "2021-11-21T14:25:26.784Z"
   },
   {
    "duration": 1137,
    "start_time": "2021-11-21T14:25:50.533Z"
   },
   {
    "duration": 805,
    "start_time": "2021-11-21T15:35:19.171Z"
   },
   {
    "duration": 899,
    "start_time": "2021-11-21T15:35:32.436Z"
   },
   {
    "duration": 603,
    "start_time": "2021-11-21T15:44:43.811Z"
   },
   {
    "duration": 975,
    "start_time": "2021-11-21T15:44:56.950Z"
   },
   {
    "duration": 816,
    "start_time": "2021-11-21T15:45:06.248Z"
   },
   {
    "duration": 352,
    "start_time": "2021-11-21T15:45:36.956Z"
   },
   {
    "duration": 320,
    "start_time": "2021-11-21T16:07:09.927Z"
   },
   {
    "duration": 322,
    "start_time": "2021-11-21T16:08:16.744Z"
   },
   {
    "duration": 263,
    "start_time": "2021-11-21T16:08:23.666Z"
   },
   {
    "duration": 366,
    "start_time": "2021-11-21T16:08:42.943Z"
   },
   {
    "duration": 266,
    "start_time": "2021-11-21T16:08:49.723Z"
   },
   {
    "duration": 263,
    "start_time": "2021-11-21T16:08:56.575Z"
   },
   {
    "duration": 272,
    "start_time": "2021-11-21T16:09:02.202Z"
   },
   {
    "duration": 412,
    "start_time": "2021-11-21T16:09:09.595Z"
   },
   {
    "duration": 295,
    "start_time": "2021-11-21T16:09:15.444Z"
   },
   {
    "duration": 410,
    "start_time": "2021-11-21T16:09:56.391Z"
   },
   {
    "duration": 272,
    "start_time": "2021-11-21T16:10:05.306Z"
   },
   {
    "duration": 344,
    "start_time": "2021-11-21T16:10:20.930Z"
   },
   {
    "duration": 414,
    "start_time": "2021-11-21T16:41:43.595Z"
   },
   {
    "duration": 373,
    "start_time": "2021-11-21T16:41:44.743Z"
   },
   {
    "duration": 3954,
    "start_time": "2021-11-21T16:44:26.907Z"
   },
   {
    "duration": 1753,
    "start_time": "2021-11-21T16:45:00.589Z"
   },
   {
    "duration": 42,
    "start_time": "2021-11-21T16:45:02.345Z"
   },
   {
    "duration": 966,
    "start_time": "2021-11-21T16:45:02.392Z"
   },
   {
    "duration": 21,
    "start_time": "2021-11-21T16:45:03.361Z"
   },
   {
    "duration": 49,
    "start_time": "2021-11-21T16:45:03.386Z"
   },
   {
    "duration": 9,
    "start_time": "2021-11-21T16:45:03.438Z"
   },
   {
    "duration": 36,
    "start_time": "2021-11-21T16:45:03.450Z"
   },
   {
    "duration": 21,
    "start_time": "2021-11-21T16:45:03.492Z"
   },
   {
    "duration": 23,
    "start_time": "2021-11-21T16:45:03.517Z"
   },
   {
    "duration": 5,
    "start_time": "2021-11-21T16:45:03.584Z"
   },
   {
    "duration": 44,
    "start_time": "2021-11-21T16:45:03.593Z"
   },
   {
    "duration": 70,
    "start_time": "2021-11-21T16:45:03.640Z"
   },
   {
    "duration": 9,
    "start_time": "2021-11-21T16:45:03.713Z"
   },
   {
    "duration": 8,
    "start_time": "2021-11-21T16:45:03.726Z"
   },
   {
    "duration": 7,
    "start_time": "2021-11-21T16:45:03.737Z"
   },
   {
    "duration": 35,
    "start_time": "2021-11-21T16:45:03.747Z"
   },
   {
    "duration": 8,
    "start_time": "2021-11-21T16:45:03.788Z"
   },
   {
    "duration": 9,
    "start_time": "2021-11-21T16:45:03.799Z"
   },
   {
    "duration": 287,
    "start_time": "2021-11-21T16:45:03.811Z"
   },
   {
    "duration": 201,
    "start_time": "2021-11-21T16:45:04.102Z"
   },
   {
    "duration": 19691,
    "start_time": "2021-11-21T16:45:04.306Z"
   },
   {
    "duration": 9267,
    "start_time": "2021-11-21T16:45:24.000Z"
   },
   {
    "duration": 462,
    "start_time": "2021-11-21T16:45:33.272Z"
   },
   {
    "duration": 21,
    "start_time": "2021-11-21T16:45:33.738Z"
   },
   {
    "duration": 102,
    "start_time": "2021-11-21T16:45:33.782Z"
   },
   {
    "duration": 961,
    "start_time": "2021-11-21T16:45:33.887Z"
   },
   {
    "duration": 45,
    "start_time": "2021-11-21T16:45:34.851Z"
   },
   {
    "duration": 111,
    "start_time": "2021-11-21T16:45:34.898Z"
   },
   {
    "duration": 311200,
    "start_time": "2021-11-21T16:45:35.013Z"
   },
   {
    "duration": 21,
    "start_time": "2021-11-21T16:50:46.216Z"
   },
   {
    "duration": 60,
    "start_time": "2021-11-21T16:50:46.239Z"
   },
   {
    "duration": 82659,
    "start_time": "2021-11-21T16:50:46.383Z"
   },
   {
    "duration": 2963,
    "start_time": "2021-11-21T16:52:09.046Z"
   },
   {
    "duration": 359,
    "start_time": "2021-11-21T16:52:12.012Z"
   },
   {
    "duration": 1523,
    "start_time": "2021-11-21T16:54:24.170Z"
   },
   {
    "duration": 36,
    "start_time": "2021-11-21T16:54:25.696Z"
   },
   {
    "duration": 777,
    "start_time": "2021-11-21T16:54:25.735Z"
   },
   {
    "duration": 11,
    "start_time": "2021-11-21T16:54:26.516Z"
   },
   {
    "duration": 52,
    "start_time": "2021-11-21T16:54:26.530Z"
   },
   {
    "duration": 6,
    "start_time": "2021-11-21T16:54:26.585Z"
   },
   {
    "duration": 9,
    "start_time": "2021-11-21T16:54:26.593Z"
   },
   {
    "duration": 15,
    "start_time": "2021-11-21T16:54:26.605Z"
   },
   {
    "duration": 17,
    "start_time": "2021-11-21T16:54:26.624Z"
   },
   {
    "duration": 4,
    "start_time": "2021-11-21T16:54:26.684Z"
   },
   {
    "duration": 36,
    "start_time": "2021-11-21T16:54:26.692Z"
   },
   {
    "duration": 80,
    "start_time": "2021-11-21T16:54:26.731Z"
   },
   {
    "duration": 10,
    "start_time": "2021-11-21T16:54:26.814Z"
   },
   {
    "duration": 10,
    "start_time": "2021-11-21T16:54:26.827Z"
   },
   {
    "duration": 7,
    "start_time": "2021-11-21T16:54:26.840Z"
   },
   {
    "duration": 39,
    "start_time": "2021-11-21T16:54:26.850Z"
   },
   {
    "duration": 11,
    "start_time": "2021-11-21T16:54:26.892Z"
   },
   {
    "duration": 8,
    "start_time": "2021-11-21T16:54:26.906Z"
   },
   {
    "duration": 425,
    "start_time": "2021-11-21T16:54:26.917Z"
   },
   {
    "duration": 139,
    "start_time": "2021-11-21T16:54:27.345Z"
   },
   {
    "duration": 17398,
    "start_time": "2021-11-21T16:54:27.488Z"
   },
   {
    "duration": 8243,
    "start_time": "2021-11-21T16:54:44.889Z"
   },
   {
    "duration": 438,
    "start_time": "2021-11-21T16:54:53.135Z"
   },
   {
    "duration": 19,
    "start_time": "2021-11-21T16:54:53.575Z"
   },
   {
    "duration": 185,
    "start_time": "2021-11-21T16:54:53.598Z"
   },
   {
    "duration": 999,
    "start_time": "2021-11-21T16:54:53.785Z"
   },
   {
    "duration": 28,
    "start_time": "2021-11-21T16:54:54.789Z"
   },
   {
    "duration": 169,
    "start_time": "2021-11-21T16:54:54.820Z"
   },
   {
    "duration": 573910,
    "start_time": "2021-11-21T16:54:54.993Z"
   },
   {
    "duration": 33,
    "start_time": "2021-11-21T17:04:28.910Z"
   },
   {
    "duration": 143,
    "start_time": "2021-11-21T17:04:28.945Z"
   },
   {
    "duration": 199335,
    "start_time": "2021-11-21T17:04:29.092Z"
   },
   {
    "duration": 3662,
    "start_time": "2021-11-21T17:07:48.430Z"
   },
   {
    "duration": 572,
    "start_time": "2021-11-21T17:07:52.095Z"
   },
   {
    "duration": 660,
    "start_time": "2021-11-21T17:17:22.849Z"
   },
   {
    "duration": 2586,
    "start_time": "2021-11-21T17:17:53.140Z"
   },
   {
    "duration": 447,
    "start_time": "2021-11-21T18:17:46.391Z"
   },
   {
    "duration": 6,
    "start_time": "2021-11-21T18:18:14.640Z"
   },
   {
    "duration": 297,
    "start_time": "2021-11-21T18:18:20.693Z"
   },
   {
    "duration": 4,
    "start_time": "2021-11-21T18:19:06.773Z"
   },
   {
    "duration": 457,
    "start_time": "2021-11-21T18:19:08.632Z"
   },
   {
    "duration": 331,
    "start_time": "2021-11-21T18:19:50.885Z"
   },
   {
    "duration": 5,
    "start_time": "2021-11-21T18:19:52.323Z"
   },
   {
    "duration": 329,
    "start_time": "2021-11-21T18:19:53.496Z"
   },
   {
    "duration": 372,
    "start_time": "2021-11-21T18:20:09.256Z"
   },
   {
    "duration": 2091,
    "start_time": "2021-11-21T18:30:58.712Z"
   },
   {
    "duration": 121,
    "start_time": "2021-11-21T18:31:00.807Z"
   },
   {
    "duration": 839,
    "start_time": "2021-11-21T18:31:00.932Z"
   },
   {
    "duration": 20,
    "start_time": "2021-11-21T18:31:01.774Z"
   },
   {
    "duration": 46,
    "start_time": "2021-11-21T18:31:01.803Z"
   },
   {
    "duration": 7,
    "start_time": "2021-11-21T18:31:01.851Z"
   },
   {
    "duration": 24,
    "start_time": "2021-11-21T18:31:01.862Z"
   },
   {
    "duration": 39,
    "start_time": "2021-11-21T18:31:01.893Z"
   },
   {
    "duration": 18,
    "start_time": "2021-11-21T18:31:01.937Z"
   },
   {
    "duration": 35,
    "start_time": "2021-11-21T18:31:01.959Z"
   },
   {
    "duration": 40,
    "start_time": "2021-11-21T18:31:01.997Z"
   },
   {
    "duration": 60,
    "start_time": "2021-11-21T18:31:02.040Z"
   },
   {
    "duration": 13,
    "start_time": "2021-11-21T18:31:02.103Z"
   },
   {
    "duration": 6,
    "start_time": "2021-11-21T18:31:02.122Z"
   },
   {
    "duration": 7,
    "start_time": "2021-11-21T18:31:02.131Z"
   },
   {
    "duration": 46,
    "start_time": "2021-11-21T18:31:02.140Z"
   },
   {
    "duration": 9,
    "start_time": "2021-11-21T18:31:02.198Z"
   },
   {
    "duration": 8,
    "start_time": "2021-11-21T18:31:02.214Z"
   },
   {
    "duration": 287,
    "start_time": "2021-11-21T18:31:02.225Z"
   },
   {
    "duration": 111,
    "start_time": "2021-11-21T18:31:02.514Z"
   },
   {
    "duration": 15439,
    "start_time": "2021-11-21T18:31:02.682Z"
   },
   {
    "duration": 8859,
    "start_time": "2021-11-21T18:31:18.123Z"
   },
   {
    "duration": 475,
    "start_time": "2021-11-21T18:31:26.988Z"
   },
   {
    "duration": 20,
    "start_time": "2021-11-21T18:31:27.466Z"
   },
   {
    "duration": 108,
    "start_time": "2021-11-21T18:31:27.488Z"
   },
   {
    "duration": 1292,
    "start_time": "2021-11-21T18:31:27.599Z"
   },
   {
    "duration": 31,
    "start_time": "2021-11-21T18:31:28.896Z"
   },
   {
    "duration": 94,
    "start_time": "2021-11-21T18:31:28.930Z"
   },
   {
    "duration": 589930,
    "start_time": "2021-11-21T18:31:29.027Z"
   },
   {
    "duration": 38,
    "start_time": "2021-11-21T18:41:18.959Z"
   },
   {
    "duration": 94,
    "start_time": "2021-11-21T18:41:19.002Z"
   },
   {
    "duration": 165157,
    "start_time": "2021-11-21T18:41:19.098Z"
   },
   {
    "duration": 2880,
    "start_time": "2021-11-21T18:44:04.257Z"
   },
   {
    "duration": 715,
    "start_time": "2021-11-21T18:44:07.139Z"
   },
   {
    "duration": 501,
    "start_time": "2021-11-21T18:44:07.856Z"
   },
   {
    "duration": 7,
    "start_time": "2021-11-21T18:44:08.352Z"
   },
   {
    "duration": 5,
    "start_time": "2021-11-21T18:44:08.355Z"
   },
   {
    "duration": 4,
    "start_time": "2021-11-21T18:48:02.359Z"
   },
   {
    "duration": 703100,
    "start_time": "2021-11-21T18:48:03.177Z"
   },
   {
    "duration": 7,
    "start_time": "2021-11-21T19:01:27.181Z"
   },
   {
    "duration": 1640,
    "start_time": "2021-11-21T19:04:55.327Z"
   },
   {
    "duration": 40,
    "start_time": "2021-11-21T19:04:56.970Z"
   },
   {
    "duration": 1013,
    "start_time": "2021-11-21T19:04:57.013Z"
   },
   {
    "duration": 10,
    "start_time": "2021-11-21T19:04:58.029Z"
   },
   {
    "duration": 56,
    "start_time": "2021-11-21T19:04:58.042Z"
   },
   {
    "duration": 7,
    "start_time": "2021-11-21T19:04:58.101Z"
   },
   {
    "duration": 9,
    "start_time": "2021-11-21T19:04:58.112Z"
   },
   {
    "duration": 19,
    "start_time": "2021-11-21T19:04:58.124Z"
   },
   {
    "duration": 47,
    "start_time": "2021-11-21T19:04:58.146Z"
   },
   {
    "duration": 11,
    "start_time": "2021-11-21T19:04:58.196Z"
   },
   {
    "duration": 32,
    "start_time": "2021-11-21T19:04:58.210Z"
   },
   {
    "duration": 59,
    "start_time": "2021-11-21T19:04:58.245Z"
   },
   {
    "duration": 8,
    "start_time": "2021-11-21T19:04:58.307Z"
   },
   {
    "duration": 12,
    "start_time": "2021-11-21T19:04:58.317Z"
   },
   {
    "duration": 10,
    "start_time": "2021-11-21T19:04:58.331Z"
   },
   {
    "duration": 44,
    "start_time": "2021-11-21T19:04:58.343Z"
   },
   {
    "duration": 7,
    "start_time": "2021-11-21T19:04:58.390Z"
   },
   {
    "duration": 8,
    "start_time": "2021-11-21T19:04:58.400Z"
   },
   {
    "duration": 282,
    "start_time": "2021-11-21T19:04:58.411Z"
   },
   {
    "duration": 193,
    "start_time": "2021-11-21T19:04:58.697Z"
   },
   {
    "duration": 14307,
    "start_time": "2021-11-21T19:04:58.893Z"
   },
   {
    "duration": 8353,
    "start_time": "2021-11-21T19:05:13.205Z"
   },
   {
    "duration": 451,
    "start_time": "2021-11-21T19:05:21.562Z"
   },
   {
    "duration": 14,
    "start_time": "2021-11-21T19:05:22.016Z"
   },
   {
    "duration": 75,
    "start_time": "2021-11-21T19:05:22.033Z"
   },
   {
    "duration": 1015,
    "start_time": "2021-11-21T19:05:22.111Z"
   },
   {
    "duration": 30,
    "start_time": "2021-11-21T19:05:23.129Z"
   },
   {
    "duration": 126,
    "start_time": "2021-11-21T19:05:23.161Z"
   },
   {
    "duration": 521504,
    "start_time": "2021-11-21T19:05:23.292Z"
   },
   {
    "duration": 23,
    "start_time": "2021-11-21T19:14:04.798Z"
   },
   {
    "duration": 73,
    "start_time": "2021-11-21T19:14:04.823Z"
   },
   {
    "duration": 143136,
    "start_time": "2021-11-21T19:14:04.899Z"
   },
   {
    "duration": 648,
    "start_time": "2021-11-21T19:16:28.037Z"
   },
   {
    "duration": 2632,
    "start_time": "2021-11-21T19:16:28.688Z"
   },
   {
    "duration": 2259,
    "start_time": "2021-11-21T19:24:12.227Z"
   },
   {
    "duration": 2333,
    "start_time": "2021-11-21T19:24:46.608Z"
   },
   {
    "duration": 2443,
    "start_time": "2021-11-21T19:31:04.920Z"
   },
   {
    "duration": 8,
    "start_time": "2021-11-21T19:34:54.672Z"
   },
   {
    "duration": 1541,
    "start_time": "2021-11-21T19:37:18.099Z"
   },
   {
    "duration": 204,
    "start_time": "2021-11-21T19:37:19.643Z"
   },
   {
    "duration": 706,
    "start_time": "2021-11-21T19:37:19.851Z"
   },
   {
    "duration": 22,
    "start_time": "2021-11-21T19:37:20.561Z"
   },
   {
    "duration": 36,
    "start_time": "2021-11-21T19:37:20.586Z"
   },
   {
    "duration": 6,
    "start_time": "2021-11-21T19:37:20.624Z"
   },
   {
    "duration": 11,
    "start_time": "2021-11-21T19:37:20.633Z"
   },
   {
    "duration": 49,
    "start_time": "2021-11-21T19:37:20.647Z"
   },
   {
    "duration": 17,
    "start_time": "2021-11-21T19:37:20.702Z"
   },
   {
    "duration": 5,
    "start_time": "2021-11-21T19:37:20.723Z"
   },
   {
    "duration": 52,
    "start_time": "2021-11-21T19:37:20.730Z"
   },
   {
    "duration": 36,
    "start_time": "2021-11-21T19:37:20.786Z"
   },
   {
    "duration": 11,
    "start_time": "2021-11-21T19:37:20.825Z"
   },
   {
    "duration": 15,
    "start_time": "2021-11-21T19:37:20.839Z"
   },
   {
    "duration": 35,
    "start_time": "2021-11-21T19:37:20.857Z"
   },
   {
    "duration": 8,
    "start_time": "2021-11-21T19:37:20.896Z"
   },
   {
    "duration": 12,
    "start_time": "2021-11-21T19:37:20.907Z"
   },
   {
    "duration": 21,
    "start_time": "2021-11-21T19:37:20.921Z"
   },
   {
    "duration": 258,
    "start_time": "2021-11-21T19:37:20.944Z"
   },
   {
    "duration": 179,
    "start_time": "2021-11-21T19:37:21.204Z"
   },
   {
    "duration": 14703,
    "start_time": "2021-11-21T19:37:21.387Z"
   },
   {
    "duration": 8598,
    "start_time": "2021-11-21T19:37:36.093Z"
   },
   {
    "duration": 455,
    "start_time": "2021-11-21T19:37:44.694Z"
   },
   {
    "duration": 15,
    "start_time": "2021-11-21T19:37:45.152Z"
   },
   {
    "duration": 107,
    "start_time": "2021-11-21T19:37:45.188Z"
   },
   {
    "duration": 934,
    "start_time": "2021-11-21T19:37:45.297Z"
   },
   {
    "duration": 26,
    "start_time": "2021-11-21T19:37:46.237Z"
   },
   {
    "duration": 118,
    "start_time": "2021-11-21T19:37:46.266Z"
   },
   {
    "duration": 541318,
    "start_time": "2021-11-21T19:37:46.387Z"
   },
   {
    "duration": 23,
    "start_time": "2021-11-21T19:46:47.707Z"
   },
   {
    "duration": 154,
    "start_time": "2021-11-21T19:46:47.732Z"
   },
   {
    "duration": 143771,
    "start_time": "2021-11-21T19:46:47.889Z"
   },
   {
    "duration": 790,
    "start_time": "2021-11-21T19:49:11.662Z"
   },
   {
    "duration": 2305,
    "start_time": "2021-11-21T19:49:12.455Z"
   },
   {
    "duration": 959,
    "start_time": "2021-11-21T19:51:13.573Z"
   },
   {
    "duration": 645,
    "start_time": "2021-11-21T19:51:34.918Z"
   },
   {
    "duration": 2290,
    "start_time": "2021-11-21T19:51:37.644Z"
   },
   {
    "duration": 663,
    "start_time": "2021-11-21T19:51:51.709Z"
   },
   {
    "duration": 2366,
    "start_time": "2021-11-21T19:51:53.560Z"
   },
   {
    "duration": 1581,
    "start_time": "2021-11-21T19:52:06.076Z"
   },
   {
    "duration": 45,
    "start_time": "2021-11-21T19:52:07.660Z"
   },
   {
    "duration": 748,
    "start_time": "2021-11-21T19:52:07.708Z"
   },
   {
    "duration": 25,
    "start_time": "2021-11-21T19:52:08.460Z"
   },
   {
    "duration": 44,
    "start_time": "2021-11-21T19:52:08.487Z"
   },
   {
    "duration": 8,
    "start_time": "2021-11-21T19:52:08.534Z"
   },
   {
    "duration": 14,
    "start_time": "2021-11-21T19:52:08.545Z"
   },
   {
    "duration": 41,
    "start_time": "2021-11-21T19:52:08.562Z"
   },
   {
    "duration": 17,
    "start_time": "2021-11-21T19:52:08.608Z"
   },
   {
    "duration": 5,
    "start_time": "2021-11-21T19:52:08.630Z"
   },
   {
    "duration": 68,
    "start_time": "2021-11-21T19:52:08.638Z"
   },
   {
    "duration": 36,
    "start_time": "2021-11-21T19:52:08.709Z"
   },
   {
    "duration": 48,
    "start_time": "2021-11-21T19:52:08.749Z"
   },
   {
    "duration": 9,
    "start_time": "2021-11-21T19:52:08.802Z"
   },
   {
    "duration": 7,
    "start_time": "2021-11-21T19:52:08.814Z"
   },
   {
    "duration": 10,
    "start_time": "2021-11-21T19:52:08.824Z"
   },
   {
    "duration": 9,
    "start_time": "2021-11-21T19:52:08.837Z"
   },
   {
    "duration": 33,
    "start_time": "2021-11-21T19:52:08.849Z"
   },
   {
    "duration": 278,
    "start_time": "2021-11-21T19:52:08.892Z"
   },
   {
    "duration": 212,
    "start_time": "2021-11-21T19:52:09.173Z"
   },
   {
    "duration": 14913,
    "start_time": "2021-11-21T19:52:09.388Z"
   },
   {
    "duration": 10482,
    "start_time": "2021-11-21T19:52:24.303Z"
   },
   {
    "duration": 455,
    "start_time": "2021-11-21T19:52:34.787Z"
   },
   {
    "duration": 13,
    "start_time": "2021-11-21T19:52:35.245Z"
   },
   {
    "duration": 222,
    "start_time": "2021-11-21T19:52:35.260Z"
   },
   {
    "duration": 889,
    "start_time": "2021-11-21T19:52:35.485Z"
   },
   {
    "duration": 31,
    "start_time": "2021-11-21T19:52:36.385Z"
   },
   {
    "duration": 164,
    "start_time": "2021-11-21T19:52:36.420Z"
   },
   {
    "duration": 533745,
    "start_time": "2021-11-21T19:52:36.587Z"
   },
   {
    "duration": 30,
    "start_time": "2021-11-21T20:01:30.334Z"
   },
   {
    "duration": 200,
    "start_time": "2021-11-21T20:01:30.383Z"
   },
   {
    "duration": 139603,
    "start_time": "2021-11-21T20:01:30.586Z"
   },
   {
    "duration": 647,
    "start_time": "2021-11-21T20:03:50.192Z"
   },
   {
    "duration": 2310,
    "start_time": "2021-11-21T20:03:50.842Z"
   },
   {
    "duration": 490,
    "start_time": "2021-11-22T09:27:17.325Z"
   },
   {
    "duration": 1522,
    "start_time": "2021-11-22T09:27:25.533Z"
   },
   {
    "duration": 37,
    "start_time": "2021-11-22T09:27:27.058Z"
   },
   {
    "duration": 685,
    "start_time": "2021-11-22T09:27:27.098Z"
   },
   {
    "duration": 20,
    "start_time": "2021-11-22T09:27:27.785Z"
   },
   {
    "duration": 39,
    "start_time": "2021-11-22T09:27:27.808Z"
   },
   {
    "duration": 6,
    "start_time": "2021-11-22T09:27:27.849Z"
   },
   {
    "duration": 15,
    "start_time": "2021-11-22T09:27:27.858Z"
   },
   {
    "duration": 37,
    "start_time": "2021-11-22T09:27:27.877Z"
   },
   {
    "duration": 19,
    "start_time": "2021-11-22T09:27:27.917Z"
   },
   {
    "duration": 9,
    "start_time": "2021-11-22T09:27:27.938Z"
   },
   {
    "duration": 51,
    "start_time": "2021-11-22T09:27:27.949Z"
   },
   {
    "duration": 33,
    "start_time": "2021-11-22T09:27:28.003Z"
   },
   {
    "duration": 8,
    "start_time": "2021-11-22T09:27:28.039Z"
   },
   {
    "duration": 13,
    "start_time": "2021-11-22T09:27:28.049Z"
   },
   {
    "duration": 35,
    "start_time": "2021-11-22T09:27:28.065Z"
   },
   {
    "duration": 15,
    "start_time": "2021-11-22T09:27:28.103Z"
   },
   {
    "duration": 10,
    "start_time": "2021-11-22T09:27:28.121Z"
   },
   {
    "duration": 12,
    "start_time": "2021-11-22T09:27:28.133Z"
   },
   {
    "duration": 256,
    "start_time": "2021-11-22T09:27:28.147Z"
   },
   {
    "duration": 96,
    "start_time": "2021-11-22T09:27:28.406Z"
   },
   {
    "duration": 13911,
    "start_time": "2021-11-22T09:27:28.505Z"
   },
   {
    "duration": 8330,
    "start_time": "2021-11-22T09:27:42.418Z"
   },
   {
    "duration": 450,
    "start_time": "2021-11-22T09:27:50.750Z"
   },
   {
    "duration": 14,
    "start_time": "2021-11-22T09:27:51.203Z"
   },
   {
    "duration": 82,
    "start_time": "2021-11-22T09:27:51.220Z"
   },
   {
    "duration": 938,
    "start_time": "2021-11-22T09:27:51.309Z"
   },
   {
    "duration": 22,
    "start_time": "2021-11-22T09:27:52.249Z"
   },
   {
    "duration": 66,
    "start_time": "2021-11-22T09:27:52.273Z"
   },
   {
    "duration": 344310,
    "start_time": "2021-11-22T09:27:52.403Z"
   },
   {
    "duration": 21,
    "start_time": "2021-11-22T09:33:36.716Z"
   },
   {
    "duration": 64,
    "start_time": "2021-11-22T09:33:36.739Z"
   },
   {
    "duration": 139456,
    "start_time": "2021-11-22T09:33:36.807Z"
   },
   {
    "duration": 653,
    "start_time": "2021-11-22T09:35:56.265Z"
   },
   {
    "duration": 1806,
    "start_time": "2021-11-22T09:35:56.920Z"
   },
   {
    "duration": 136,
    "start_time": "2021-11-22T11:12:42.361Z"
   },
   {
    "duration": 110,
    "start_time": "2021-11-22T11:17:37.356Z"
   },
   {
    "duration": 1106,
    "start_time": "2021-11-22T12:55:08.186Z"
   },
   {
    "duration": 28,
    "start_time": "2021-11-22T12:55:09.294Z"
   },
   {
    "duration": 308,
    "start_time": "2021-11-22T12:55:09.324Z"
   },
   {
    "duration": 8,
    "start_time": "2021-11-22T12:55:09.634Z"
   },
   {
    "duration": 23,
    "start_time": "2021-11-22T12:55:09.644Z"
   },
   {
    "duration": 6,
    "start_time": "2021-11-22T12:55:09.692Z"
   },
   {
    "duration": 9,
    "start_time": "2021-11-22T12:55:09.699Z"
   },
   {
    "duration": 11,
    "start_time": "2021-11-22T12:55:09.711Z"
   },
   {
    "duration": 11,
    "start_time": "2021-11-22T12:55:09.724Z"
   },
   {
    "duration": 21,
    "start_time": "2021-11-22T12:55:09.737Z"
   },
   {
    "duration": 37,
    "start_time": "2021-11-22T12:55:09.760Z"
   },
   {
    "duration": 5,
    "start_time": "2021-11-22T12:55:09.799Z"
   },
   {
    "duration": 282,
    "start_time": "2021-11-22T12:55:09.806Z"
   },
   {
    "duration": -312,
    "start_time": "2021-11-22T12:55:10.403Z"
   },
   {
    "duration": -316,
    "start_time": "2021-11-22T12:55:10.409Z"
   },
   {
    "duration": -320,
    "start_time": "2021-11-22T12:55:10.415Z"
   },
   {
    "duration": -325,
    "start_time": "2021-11-22T12:55:10.421Z"
   },
   {
    "duration": -328,
    "start_time": "2021-11-22T12:55:10.425Z"
   },
   {
    "duration": -332,
    "start_time": "2021-11-22T12:55:10.431Z"
   },
   {
    "duration": -335,
    "start_time": "2021-11-22T12:55:10.435Z"
   },
   {
    "duration": -338,
    "start_time": "2021-11-22T12:55:10.439Z"
   },
   {
    "duration": -339,
    "start_time": "2021-11-22T12:55:10.442Z"
   },
   {
    "duration": -341,
    "start_time": "2021-11-22T12:55:10.445Z"
   },
   {
    "duration": -341,
    "start_time": "2021-11-22T12:55:10.447Z"
   },
   {
    "duration": -343,
    "start_time": "2021-11-22T12:55:10.450Z"
   },
   {
    "duration": -343,
    "start_time": "2021-11-22T12:55:10.452Z"
   },
   {
    "duration": -344,
    "start_time": "2021-11-22T12:55:10.454Z"
   },
   {
    "duration": -345,
    "start_time": "2021-11-22T12:55:10.456Z"
   },
   {
    "duration": -345,
    "start_time": "2021-11-22T12:55:10.458Z"
   },
   {
    "duration": -346,
    "start_time": "2021-11-22T12:55:10.460Z"
   },
   {
    "duration": -346,
    "start_time": "2021-11-22T12:55:10.462Z"
   },
   {
    "duration": -347,
    "start_time": "2021-11-22T12:55:10.464Z"
   },
   {
    "duration": -348,
    "start_time": "2021-11-22T12:55:10.466Z"
   },
   {
    "duration": 182,
    "start_time": "2021-11-22T13:00:52.784Z"
   },
   {
    "duration": 1100,
    "start_time": "2021-11-22T13:01:48.749Z"
   },
   {
    "duration": 29,
    "start_time": "2021-11-22T13:01:49.851Z"
   },
   {
    "duration": 392,
    "start_time": "2021-11-22T13:01:49.882Z"
   },
   {
    "duration": 7,
    "start_time": "2021-11-22T13:01:50.276Z"
   },
   {
    "duration": 29,
    "start_time": "2021-11-22T13:01:50.285Z"
   },
   {
    "duration": 5,
    "start_time": "2021-11-22T13:01:50.316Z"
   },
   {
    "duration": 6,
    "start_time": "2021-11-22T13:01:50.323Z"
   },
   {
    "duration": 11,
    "start_time": "2021-11-22T13:01:50.331Z"
   },
   {
    "duration": 11,
    "start_time": "2021-11-22T13:01:50.343Z"
   },
   {
    "duration": 54,
    "start_time": "2021-11-22T13:01:50.356Z"
   },
   {
    "duration": 7,
    "start_time": "2021-11-22T13:01:50.411Z"
   },
   {
    "duration": 4,
    "start_time": "2021-11-22T13:01:50.420Z"
   },
   {
    "duration": 5,
    "start_time": "2021-11-22T13:01:50.426Z"
   },
   {
    "duration": 346,
    "start_time": "2021-11-22T13:01:50.433Z"
   },
   {
    "duration": -283,
    "start_time": "2021-11-22T13:01:51.064Z"
   },
   {
    "duration": -288,
    "start_time": "2021-11-22T13:01:51.070Z"
   },
   {
    "duration": -292,
    "start_time": "2021-11-22T13:01:51.075Z"
   },
   {
    "duration": -296,
    "start_time": "2021-11-22T13:01:51.080Z"
   },
   {
    "duration": -300,
    "start_time": "2021-11-22T13:01:51.085Z"
   },
   {
    "duration": -305,
    "start_time": "2021-11-22T13:01:51.091Z"
   },
   {
    "duration": -308,
    "start_time": "2021-11-22T13:01:51.095Z"
   },
   {
    "duration": -311,
    "start_time": "2021-11-22T13:01:51.099Z"
   },
   {
    "duration": -324,
    "start_time": "2021-11-22T13:01:51.113Z"
   },
   {
    "duration": -330,
    "start_time": "2021-11-22T13:01:51.120Z"
   },
   {
    "duration": -333,
    "start_time": "2021-11-22T13:01:51.125Z"
   },
   {
    "duration": -335,
    "start_time": "2021-11-22T13:01:51.128Z"
   },
   {
    "duration": -337,
    "start_time": "2021-11-22T13:01:51.131Z"
   },
   {
    "duration": -340,
    "start_time": "2021-11-22T13:01:51.136Z"
   },
   {
    "duration": -343,
    "start_time": "2021-11-22T13:01:51.140Z"
   },
   {
    "duration": -347,
    "start_time": "2021-11-22T13:01:51.145Z"
   },
   {
    "duration": -354,
    "start_time": "2021-11-22T13:01:51.154Z"
   },
   {
    "duration": -359,
    "start_time": "2021-11-22T13:01:51.160Z"
   },
   {
    "duration": -362,
    "start_time": "2021-11-22T13:01:51.165Z"
   },
   {
    "duration": 1109,
    "start_time": "2021-11-22T13:02:28.693Z"
   },
   {
    "duration": 29,
    "start_time": "2021-11-22T13:02:29.804Z"
   },
   {
    "duration": 312,
    "start_time": "2021-11-22T13:02:29.835Z"
   },
   {
    "duration": 7,
    "start_time": "2021-11-22T13:02:30.149Z"
   },
   {
    "duration": 23,
    "start_time": "2021-11-22T13:02:30.157Z"
   },
   {
    "duration": 4,
    "start_time": "2021-11-22T13:02:30.191Z"
   },
   {
    "duration": 6,
    "start_time": "2021-11-22T13:02:30.197Z"
   },
   {
    "duration": 12,
    "start_time": "2021-11-22T13:02:30.205Z"
   },
   {
    "duration": 10,
    "start_time": "2021-11-22T13:02:30.219Z"
   },
   {
    "duration": 25,
    "start_time": "2021-11-22T13:02:30.230Z"
   },
   {
    "duration": 6,
    "start_time": "2021-11-22T13:02:30.257Z"
   },
   {
    "duration": 30,
    "start_time": "2021-11-22T13:02:30.265Z"
   },
   {
    "duration": 11,
    "start_time": "2021-11-22T13:02:30.296Z"
   },
   {
    "duration": 6,
    "start_time": "2021-11-22T13:02:30.309Z"
   },
   {
    "duration": 24,
    "start_time": "2021-11-22T13:02:30.317Z"
   },
   {
    "duration": 8,
    "start_time": "2021-11-22T13:02:30.342Z"
   },
   {
    "duration": 24,
    "start_time": "2021-11-22T13:02:30.351Z"
   },
   {
    "duration": 153,
    "start_time": "2021-11-22T13:02:30.377Z"
   },
   {
    "duration": 67,
    "start_time": "2021-11-22T13:02:30.532Z"
   },
   {
    "duration": 8800,
    "start_time": "2021-11-22T13:02:30.602Z"
   },
   {
    "duration": 5227,
    "start_time": "2021-11-22T13:02:39.404Z"
   },
   {
    "duration": 276,
    "start_time": "2021-11-22T13:02:44.633Z"
   },
   {
    "duration": 8,
    "start_time": "2021-11-22T13:02:44.912Z"
   },
   {
    "duration": 72,
    "start_time": "2021-11-22T13:02:44.922Z"
   },
   {
    "duration": 630,
    "start_time": "2021-11-22T13:02:44.996Z"
   },
   {
    "duration": 16,
    "start_time": "2021-11-22T13:02:45.628Z"
   },
   {
    "duration": 47,
    "start_time": "2021-11-22T13:02:45.645Z"
   },
   {
    "duration": 205465,
    "start_time": "2021-11-22T13:02:45.694Z"
   },
   {
    "duration": 13,
    "start_time": "2021-11-22T13:06:11.161Z"
   },
   {
    "duration": 34,
    "start_time": "2021-11-22T13:06:11.176Z"
   },
   {
    "duration": 86715,
    "start_time": "2021-11-22T13:06:11.212Z"
   },
   {
    "duration": 400,
    "start_time": "2021-11-22T13:07:37.928Z"
   },
   {
    "duration": 1208,
    "start_time": "2021-11-22T13:07:38.330Z"
   },
   {
    "duration": 400,
    "start_time": "2021-11-22T13:13:39.661Z"
   },
   {
    "duration": 152,
    "start_time": "2021-11-22T13:14:02.090Z"
   },
   {
    "duration": 1160,
    "start_time": "2021-11-22T13:14:07.961Z"
   },
   {
    "duration": 285,
    "start_time": "2021-11-22T13:27:05.099Z"
   },
   {
    "duration": 461,
    "start_time": "2021-11-22T13:53:51.770Z"
   },
   {
    "duration": 206,
    "start_time": "2021-11-22T13:58:14.719Z"
   },
   {
    "duration": 75,
    "start_time": "2021-11-22T13:59:46.188Z"
   },
   {
    "duration": 193,
    "start_time": "2021-11-22T13:59:57.201Z"
   },
   {
    "duration": 6,
    "start_time": "2021-11-22T14:02:33.076Z"
   },
   {
    "duration": 1059,
    "start_time": "2021-11-22T14:02:41.444Z"
   },
   {
    "duration": 32,
    "start_time": "2021-11-22T14:02:42.504Z"
   },
   {
    "duration": 311,
    "start_time": "2021-11-22T14:02:42.538Z"
   },
   {
    "duration": 7,
    "start_time": "2021-11-22T14:02:42.852Z"
   },
   {
    "duration": 34,
    "start_time": "2021-11-22T14:02:42.860Z"
   },
   {
    "duration": 4,
    "start_time": "2021-11-22T14:02:42.896Z"
   },
   {
    "duration": 6,
    "start_time": "2021-11-22T14:02:42.902Z"
   },
   {
    "duration": 11,
    "start_time": "2021-11-22T14:02:42.910Z"
   },
   {
    "duration": 11,
    "start_time": "2021-11-22T14:02:42.924Z"
   },
   {
    "duration": 23,
    "start_time": "2021-11-22T14:02:42.937Z"
   },
   {
    "duration": 34,
    "start_time": "2021-11-22T14:02:42.962Z"
   },
   {
    "duration": 7,
    "start_time": "2021-11-22T14:02:42.998Z"
   },
   {
    "duration": 10,
    "start_time": "2021-11-22T14:02:43.006Z"
   },
   {
    "duration": 10,
    "start_time": "2021-11-22T14:02:43.017Z"
   },
   {
    "duration": 12,
    "start_time": "2021-11-22T14:02:43.028Z"
   },
   {
    "duration": 12,
    "start_time": "2021-11-22T14:02:43.042Z"
   },
   {
    "duration": 19,
    "start_time": "2021-11-22T14:02:43.057Z"
   },
   {
    "duration": 168,
    "start_time": "2021-11-22T14:02:43.077Z"
   },
   {
    "duration": 146,
    "start_time": "2021-11-22T14:02:43.247Z"
   },
   {
    "duration": 8996,
    "start_time": "2021-11-22T14:02:43.395Z"
   },
   {
    "duration": 5343,
    "start_time": "2021-11-22T14:02:52.393Z"
   },
   {
    "duration": 319,
    "start_time": "2021-11-22T14:02:57.738Z"
   },
   {
    "duration": 10,
    "start_time": "2021-11-22T14:02:58.059Z"
   },
   {
    "duration": 126,
    "start_time": "2021-11-22T14:02:58.071Z"
   },
   {
    "duration": 677,
    "start_time": "2021-11-22T14:02:58.200Z"
   },
   {
    "duration": 22,
    "start_time": "2021-11-22T14:02:58.879Z"
   },
   {
    "duration": 95,
    "start_time": "2021-11-22T14:02:58.905Z"
   },
   {
    "duration": 208980,
    "start_time": "2021-11-22T14:02:59.002Z"
   },
   {
    "duration": 22275,
    "start_time": "2021-11-22T14:06:27.984Z"
   },
   {
    "duration": 34,
    "start_time": "2021-11-22T14:06:50.262Z"
   },
   {
    "duration": 92,
    "start_time": "2021-11-22T14:06:50.299Z"
   },
   {
    "duration": 101,
    "start_time": "2021-11-22T14:06:50.393Z"
   },
   {
    "duration": -229,
    "start_time": "2021-11-22T14:06:50.726Z"
   },
   {
    "duration": -233,
    "start_time": "2021-11-22T14:06:50.732Z"
   },
   {
    "duration": -237,
    "start_time": "2021-11-22T14:06:50.738Z"
   },
   {
    "duration": 1053,
    "start_time": "2021-11-22T14:11:36.848Z"
   },
   {
    "duration": 29,
    "start_time": "2021-11-22T14:11:37.903Z"
   },
   {
    "duration": 319,
    "start_time": "2021-11-22T14:11:37.935Z"
   },
   {
    "duration": 7,
    "start_time": "2021-11-22T14:11:38.256Z"
   },
   {
    "duration": 37,
    "start_time": "2021-11-22T14:11:38.264Z"
   },
   {
    "duration": 5,
    "start_time": "2021-11-22T14:11:38.303Z"
   },
   {
    "duration": 7,
    "start_time": "2021-11-22T14:11:38.309Z"
   },
   {
    "duration": 13,
    "start_time": "2021-11-22T14:11:38.319Z"
   },
   {
    "duration": 15,
    "start_time": "2021-11-22T14:11:38.334Z"
   },
   {
    "duration": 48,
    "start_time": "2021-11-22T14:11:38.350Z"
   },
   {
    "duration": 6,
    "start_time": "2021-11-22T14:11:38.400Z"
   },
   {
    "duration": 4,
    "start_time": "2021-11-22T14:11:38.408Z"
   },
   {
    "duration": 5,
    "start_time": "2021-11-22T14:11:38.414Z"
   },
   {
    "duration": 5,
    "start_time": "2021-11-22T14:11:38.421Z"
   },
   {
    "duration": 7,
    "start_time": "2021-11-22T14:11:38.428Z"
   },
   {
    "duration": 5,
    "start_time": "2021-11-22T14:11:38.436Z"
   },
   {
    "duration": 18,
    "start_time": "2021-11-22T14:11:38.442Z"
   },
   {
    "duration": 186,
    "start_time": "2021-11-22T14:11:38.462Z"
   },
   {
    "duration": 52,
    "start_time": "2021-11-22T14:11:38.650Z"
   },
   {
    "duration": 8725,
    "start_time": "2021-11-22T14:11:38.793Z"
   },
   {
    "duration": 5482,
    "start_time": "2021-11-22T14:11:47.520Z"
   },
   {
    "duration": 315,
    "start_time": "2021-11-22T14:11:53.004Z"
   },
   {
    "duration": 9,
    "start_time": "2021-11-22T14:11:53.322Z"
   },
   {
    "duration": 66,
    "start_time": "2021-11-22T14:11:53.333Z"
   },
   {
    "duration": 669,
    "start_time": "2021-11-22T14:11:53.401Z"
   },
   {
    "duration": 22,
    "start_time": "2021-11-22T14:11:54.072Z"
   },
   {
    "duration": 29,
    "start_time": "2021-11-22T14:11:54.096Z"
   },
   {
    "duration": 1103,
    "start_time": "2021-11-22T14:13:12.830Z"
   },
   {
    "duration": 29,
    "start_time": "2021-11-22T14:13:13.935Z"
   },
   {
    "duration": 362,
    "start_time": "2021-11-22T14:13:13.966Z"
   },
   {
    "duration": 9,
    "start_time": "2021-11-22T14:13:14.330Z"
   },
   {
    "duration": 25,
    "start_time": "2021-11-22T14:13:14.341Z"
   },
   {
    "duration": 27,
    "start_time": "2021-11-22T14:13:14.368Z"
   },
   {
    "duration": 5,
    "start_time": "2021-11-22T14:13:14.397Z"
   },
   {
    "duration": 13,
    "start_time": "2021-11-22T14:13:14.406Z"
   },
   {
    "duration": 13,
    "start_time": "2021-11-22T14:13:14.422Z"
   },
   {
    "duration": 58,
    "start_time": "2021-11-22T14:13:14.437Z"
   },
   {
    "duration": 9,
    "start_time": "2021-11-22T14:13:14.497Z"
   },
   {
    "duration": 6,
    "start_time": "2021-11-22T14:13:14.508Z"
   },
   {
    "duration": 6,
    "start_time": "2021-11-22T14:13:14.516Z"
   },
   {
    "duration": 5,
    "start_time": "2021-11-22T14:13:14.524Z"
   },
   {
    "duration": 6,
    "start_time": "2021-11-22T14:13:14.530Z"
   },
   {
    "duration": 6,
    "start_time": "2021-11-22T14:13:14.538Z"
   },
   {
    "duration": 56,
    "start_time": "2021-11-22T14:13:14.545Z"
   },
   {
    "duration": 181,
    "start_time": "2021-11-22T14:13:14.603Z"
   },
   {
    "duration": 109,
    "start_time": "2021-11-22T14:13:14.785Z"
   },
   {
    "duration": 8755,
    "start_time": "2021-11-22T14:13:14.896Z"
   },
   {
    "duration": 5471,
    "start_time": "2021-11-22T14:13:23.654Z"
   },
   {
    "duration": 278,
    "start_time": "2021-11-22T14:13:29.126Z"
   },
   {
    "duration": 9,
    "start_time": "2021-11-22T14:13:29.407Z"
   },
   {
    "duration": 76,
    "start_time": "2021-11-22T14:13:29.418Z"
   },
   {
    "duration": 638,
    "start_time": "2021-11-22T14:13:29.496Z"
   },
   {
    "duration": 15,
    "start_time": "2021-11-22T14:13:30.138Z"
   },
   {
    "duration": 48,
    "start_time": "2021-11-22T14:13:30.155Z"
   },
   {
    "duration": 205519,
    "start_time": "2021-11-22T14:13:30.205Z"
   },
   {
    "duration": 21958,
    "start_time": "2021-11-22T14:16:55.726Z"
   },
   {
    "duration": 17,
    "start_time": "2021-11-22T14:17:17.686Z"
   },
   {
    "duration": 96,
    "start_time": "2021-11-22T14:17:17.705Z"
   },
   {
    "duration": 85578,
    "start_time": "2021-11-22T14:17:17.892Z"
   },
   {
    "duration": 57,
    "start_time": "2021-11-22T14:18:43.472Z"
   },
   {
    "duration": -200,
    "start_time": "2021-11-22T14:18:43.731Z"
   },
   {
    "duration": -201,
    "start_time": "2021-11-22T14:18:43.733Z"
   },
   {
    "duration": -201,
    "start_time": "2021-11-22T14:18:43.735Z"
   },
   {
    "duration": 1212,
    "start_time": "2021-11-22T14:38:19.792Z"
   },
   {
    "duration": 28,
    "start_time": "2021-11-22T14:38:21.006Z"
   },
   {
    "duration": 308,
    "start_time": "2021-11-22T14:38:21.036Z"
   },
   {
    "duration": 7,
    "start_time": "2021-11-22T14:38:21.346Z"
   },
   {
    "duration": 37,
    "start_time": "2021-11-22T14:38:21.355Z"
   },
   {
    "duration": 5,
    "start_time": "2021-11-22T14:38:21.395Z"
   },
   {
    "duration": 7,
    "start_time": "2021-11-22T14:38:21.402Z"
   },
   {
    "duration": 15,
    "start_time": "2021-11-22T14:38:21.412Z"
   },
   {
    "duration": 16,
    "start_time": "2021-11-22T14:38:21.430Z"
   },
   {
    "duration": 61,
    "start_time": "2021-11-22T14:38:21.448Z"
   },
   {
    "duration": 9,
    "start_time": "2021-11-22T14:38:21.511Z"
   },
   {
    "duration": 6,
    "start_time": "2021-11-22T14:38:21.522Z"
   },
   {
    "duration": 8,
    "start_time": "2021-11-22T14:38:21.530Z"
   },
   {
    "duration": 7,
    "start_time": "2021-11-22T14:38:21.540Z"
   },
   {
    "duration": 8,
    "start_time": "2021-11-22T14:38:21.549Z"
   },
   {
    "duration": 6,
    "start_time": "2021-11-22T14:38:21.559Z"
   },
   {
    "duration": 36,
    "start_time": "2021-11-22T14:38:21.567Z"
   },
   {
    "duration": 177,
    "start_time": "2021-11-22T14:38:21.605Z"
   },
   {
    "duration": 101,
    "start_time": "2021-11-22T14:38:21.791Z"
   },
   {
    "duration": 9286,
    "start_time": "2021-11-22T14:38:21.895Z"
   },
   {
    "duration": 5414,
    "start_time": "2021-11-22T14:38:31.183Z"
   },
   {
    "duration": 295,
    "start_time": "2021-11-22T14:38:36.599Z"
   },
   {
    "duration": 9,
    "start_time": "2021-11-22T14:38:36.897Z"
   },
   {
    "duration": 94,
    "start_time": "2021-11-22T14:38:36.908Z"
   },
   {
    "duration": 661,
    "start_time": "2021-11-22T14:38:37.005Z"
   },
   {
    "duration": 28,
    "start_time": "2021-11-22T14:38:37.668Z"
   },
   {
    "duration": 105,
    "start_time": "2021-11-22T14:38:37.698Z"
   },
   {
    "duration": 210693,
    "start_time": "2021-11-22T14:38:37.806Z"
   },
   {
    "duration": 22594,
    "start_time": "2021-11-22T14:42:08.500Z"
   },
   {
    "duration": 15,
    "start_time": "2021-11-22T14:42:31.096Z"
   },
   {
    "duration": 88,
    "start_time": "2021-11-22T14:42:31.113Z"
   },
   {
    "duration": 89075,
    "start_time": "2021-11-22T14:42:31.204Z"
   },
   {
    "duration": 965515,
    "start_time": "2021-11-22T14:44:00.281Z"
   },
   {
    "duration": 149,
    "start_time": "2021-11-22T15:00:05.798Z"
   },
   {
    "duration": 1185,
    "start_time": "2021-11-22T15:00:05.949Z"
   },
   {
    "duration": 273,
    "start_time": "2021-11-22T15:51:15.470Z"
   },
   {
    "duration": 350,
    "start_time": "2021-11-22T15:51:30.148Z"
   },
   {
    "duration": 222,
    "start_time": "2021-11-22T15:51:42.413Z"
   },
   {
    "duration": 516,
    "start_time": "2021-11-22T15:52:06.335Z"
   },
   {
    "duration": 245,
    "start_time": "2021-11-22T16:03:38.150Z"
   },
   {
    "duration": 6,
    "start_time": "2021-11-22T16:09:56.047Z"
   },
   {
    "duration": 11,
    "start_time": "2021-11-22T16:35:57.245Z"
   },
   {
    "duration": 4,
    "start_time": "2021-11-22T16:36:19.203Z"
   },
   {
    "duration": 15,
    "start_time": "2021-11-22T16:37:16.086Z"
   },
   {
    "duration": 15,
    "start_time": "2021-11-22T16:37:39.293Z"
   },
   {
    "duration": 3,
    "start_time": "2021-11-22T16:37:41.635Z"
   },
   {
    "duration": 4,
    "start_time": "2021-11-22T16:39:39.192Z"
   },
   {
    "duration": 5,
    "start_time": "2021-11-22T16:39:50.197Z"
   },
   {
    "duration": 4,
    "start_time": "2021-11-22T16:40:06.465Z"
   },
   {
    "duration": 16,
    "start_time": "2021-11-22T16:41:17.441Z"
   },
   {
    "duration": 1114,
    "start_time": "2021-11-22T16:41:25.890Z"
   },
   {
    "duration": 29,
    "start_time": "2021-11-22T16:41:27.006Z"
   },
   {
    "duration": 340,
    "start_time": "2021-11-22T16:41:27.037Z"
   },
   {
    "duration": 7,
    "start_time": "2021-11-22T16:41:27.379Z"
   },
   {
    "duration": 21,
    "start_time": "2021-11-22T16:41:27.387Z"
   },
   {
    "duration": 5,
    "start_time": "2021-11-22T16:41:27.409Z"
   },
   {
    "duration": 6,
    "start_time": "2021-11-22T16:41:27.415Z"
   },
   {
    "duration": 10,
    "start_time": "2021-11-22T16:41:27.423Z"
   },
   {
    "duration": 10,
    "start_time": "2021-11-22T16:41:27.435Z"
   },
   {
    "duration": 46,
    "start_time": "2021-11-22T16:41:27.446Z"
   },
   {
    "duration": 17,
    "start_time": "2021-11-22T16:41:27.494Z"
   },
   {
    "duration": 4,
    "start_time": "2021-11-22T16:41:27.512Z"
   },
   {
    "duration": 299,
    "start_time": "2021-11-22T16:41:27.518Z"
   },
   {
    "duration": -123,
    "start_time": "2021-11-22T16:41:27.942Z"
   },
   {
    "duration": -124,
    "start_time": "2021-11-22T16:41:27.944Z"
   },
   {
    "duration": -128,
    "start_time": "2021-11-22T16:41:27.948Z"
   },
   {
    "duration": -132,
    "start_time": "2021-11-22T16:41:27.953Z"
   },
   {
    "duration": -142,
    "start_time": "2021-11-22T16:41:27.964Z"
   },
   {
    "duration": -148,
    "start_time": "2021-11-22T16:41:27.971Z"
   },
   {
    "duration": -149,
    "start_time": "2021-11-22T16:41:27.973Z"
   },
   {
    "duration": -151,
    "start_time": "2021-11-22T16:41:27.976Z"
   },
   {
    "duration": -152,
    "start_time": "2021-11-22T16:41:27.978Z"
   },
   {
    "duration": -152,
    "start_time": "2021-11-22T16:41:27.979Z"
   },
   {
    "duration": -153,
    "start_time": "2021-11-22T16:41:27.981Z"
   },
   {
    "duration": -159,
    "start_time": "2021-11-22T16:41:27.988Z"
   },
   {
    "duration": -161,
    "start_time": "2021-11-22T16:41:27.991Z"
   },
   {
    "duration": -163,
    "start_time": "2021-11-22T16:41:27.993Z"
   },
   {
    "duration": -164,
    "start_time": "2021-11-22T16:41:27.995Z"
   },
   {
    "duration": -166,
    "start_time": "2021-11-22T16:41:27.998Z"
   },
   {
    "duration": -172,
    "start_time": "2021-11-22T16:41:28.005Z"
   },
   {
    "duration": -173,
    "start_time": "2021-11-22T16:41:28.007Z"
   },
   {
    "duration": 16,
    "start_time": "2021-11-22T16:42:42.660Z"
   },
   {
    "duration": 145,
    "start_time": "2021-11-22T16:43:05.366Z"
   },
   {
    "duration": 179,
    "start_time": "2021-11-22T16:43:09.534Z"
   },
   {
    "duration": 29,
    "start_time": "2021-11-22T16:45:09.972Z"
   },
   {
    "duration": 8396,
    "start_time": "2021-11-22T16:45:42.221Z"
   },
   {
    "duration": 124,
    "start_time": "2021-11-22T16:46:24.501Z"
   },
   {
    "duration": 16,
    "start_time": "2021-11-22T16:50:07.580Z"
   },
   {
    "duration": 4,
    "start_time": "2021-11-22T16:50:09.242Z"
   },
   {
    "duration": 1051,
    "start_time": "2021-11-22T16:50:18.142Z"
   },
   {
    "duration": 29,
    "start_time": "2021-11-22T16:50:19.195Z"
   },
   {
    "duration": 301,
    "start_time": "2021-11-22T16:50:19.226Z"
   },
   {
    "duration": 6,
    "start_time": "2021-11-22T16:50:19.529Z"
   },
   {
    "duration": 21,
    "start_time": "2021-11-22T16:50:19.537Z"
   },
   {
    "duration": 5,
    "start_time": "2021-11-22T16:50:19.559Z"
   },
   {
    "duration": 26,
    "start_time": "2021-11-22T16:50:19.565Z"
   },
   {
    "duration": 9,
    "start_time": "2021-11-22T16:50:19.594Z"
   },
   {
    "duration": 10,
    "start_time": "2021-11-22T16:50:19.605Z"
   },
   {
    "duration": 21,
    "start_time": "2021-11-22T16:50:19.617Z"
   },
   {
    "duration": 280,
    "start_time": "2021-11-22T16:50:19.640Z"
   },
   {
    "duration": -136,
    "start_time": "2021-11-22T16:50:20.058Z"
   },
   {
    "duration": -137,
    "start_time": "2021-11-22T16:50:20.060Z"
   },
   {
    "duration": -140,
    "start_time": "2021-11-22T16:50:20.065Z"
   },
   {
    "duration": -141,
    "start_time": "2021-11-22T16:50:20.067Z"
   },
   {
    "duration": -146,
    "start_time": "2021-11-22T16:50:20.072Z"
   },
   {
    "duration": -146,
    "start_time": "2021-11-22T16:50:20.074Z"
   },
   {
    "duration": -148,
    "start_time": "2021-11-22T16:50:20.077Z"
   },
   {
    "duration": -148,
    "start_time": "2021-11-22T16:50:20.078Z"
   },
   {
    "duration": -149,
    "start_time": "2021-11-22T16:50:20.080Z"
   },
   {
    "duration": -150,
    "start_time": "2021-11-22T16:50:20.082Z"
   },
   {
    "duration": -150,
    "start_time": "2021-11-22T16:50:20.083Z"
   },
   {
    "duration": -151,
    "start_time": "2021-11-22T16:50:20.085Z"
   },
   {
    "duration": -154,
    "start_time": "2021-11-22T16:50:20.088Z"
   },
   {
    "duration": -159,
    "start_time": "2021-11-22T16:50:20.095Z"
   },
   {
    "duration": -160,
    "start_time": "2021-11-22T16:50:20.097Z"
   },
   {
    "duration": -161,
    "start_time": "2021-11-22T16:50:20.099Z"
   },
   {
    "duration": -162,
    "start_time": "2021-11-22T16:50:20.101Z"
   },
   {
    "duration": -163,
    "start_time": "2021-11-22T16:50:20.103Z"
   },
   {
    "duration": -165,
    "start_time": "2021-11-22T16:50:20.105Z"
   },
   {
    "duration": -165,
    "start_time": "2021-11-22T16:50:20.106Z"
   },
   {
    "duration": 190,
    "start_time": "2021-11-22T16:51:37.552Z"
   },
   {
    "duration": 23,
    "start_time": "2021-11-22T16:52:02.300Z"
   },
   {
    "duration": 4,
    "start_time": "2021-11-22T16:52:03.945Z"
   },
   {
    "duration": 1091,
    "start_time": "2021-11-22T16:52:11.406Z"
   },
   {
    "duration": 29,
    "start_time": "2021-11-22T16:52:12.499Z"
   },
   {
    "duration": 315,
    "start_time": "2021-11-22T16:52:12.530Z"
   },
   {
    "duration": 7,
    "start_time": "2021-11-22T16:52:12.847Z"
   },
   {
    "duration": 36,
    "start_time": "2021-11-22T16:52:12.855Z"
   },
   {
    "duration": 4,
    "start_time": "2021-11-22T16:52:12.893Z"
   },
   {
    "duration": 7,
    "start_time": "2021-11-22T16:52:12.898Z"
   },
   {
    "duration": 10,
    "start_time": "2021-11-22T16:52:12.907Z"
   },
   {
    "duration": 11,
    "start_time": "2021-11-22T16:52:12.919Z"
   },
   {
    "duration": 22,
    "start_time": "2021-11-22T16:52:12.932Z"
   },
   {
    "duration": 44,
    "start_time": "2021-11-22T16:52:12.955Z"
   },
   {
    "duration": 4,
    "start_time": "2021-11-22T16:52:13.001Z"
   },
   {
    "duration": 17,
    "start_time": "2021-11-22T16:52:13.006Z"
   },
   {
    "duration": 168,
    "start_time": "2021-11-22T16:52:13.025Z"
   },
   {
    "duration": 98,
    "start_time": "2021-11-22T16:52:13.195Z"
   },
   {
    "duration": 8668,
    "start_time": "2021-11-22T16:52:13.295Z"
   },
   {
    "duration": 214,
    "start_time": "2021-11-22T16:52:21.965Z"
   },
   {
    "duration": 277,
    "start_time": "2021-11-22T16:52:22.181Z"
   },
   {
    "duration": -127,
    "start_time": "2021-11-22T16:52:22.588Z"
   },
   {
    "duration": -130,
    "start_time": "2021-11-22T16:52:22.592Z"
   },
   {
    "duration": -132,
    "start_time": "2021-11-22T16:52:22.595Z"
   },
   {
    "duration": -133,
    "start_time": "2021-11-22T16:52:22.597Z"
   },
   {
    "duration": -134,
    "start_time": "2021-11-22T16:52:22.599Z"
   },
   {
    "duration": -134,
    "start_time": "2021-11-22T16:52:22.601Z"
   },
   {
    "duration": -136,
    "start_time": "2021-11-22T16:52:22.604Z"
   },
   {
    "duration": -144,
    "start_time": "2021-11-22T16:52:22.613Z"
   },
   {
    "duration": -145,
    "start_time": "2021-11-22T16:52:22.615Z"
   },
   {
    "duration": -147,
    "start_time": "2021-11-22T16:52:22.617Z"
   },
   {
    "duration": -150,
    "start_time": "2021-11-22T16:52:22.621Z"
   },
   {
    "duration": -151,
    "start_time": "2021-11-22T16:52:22.623Z"
   },
   {
    "duration": -152,
    "start_time": "2021-11-22T16:52:22.625Z"
   },
   {
    "duration": 213,
    "start_time": "2021-11-22T16:56:43.645Z"
   },
   {
    "duration": 1642,
    "start_time": "2021-11-22T16:56:52.148Z"
   },
   {
    "duration": 28,
    "start_time": "2021-11-22T16:56:53.791Z"
   },
   {
    "duration": 290,
    "start_time": "2021-11-22T16:56:53.821Z"
   },
   {
    "duration": 6,
    "start_time": "2021-11-22T16:56:54.113Z"
   },
   {
    "duration": 22,
    "start_time": "2021-11-22T16:56:54.121Z"
   },
   {
    "duration": 3,
    "start_time": "2021-11-22T16:56:54.145Z"
   },
   {
    "duration": 16,
    "start_time": "2021-11-22T16:56:54.150Z"
   },
   {
    "duration": 11,
    "start_time": "2021-11-22T16:56:54.168Z"
   },
   {
    "duration": 10,
    "start_time": "2021-11-22T16:56:54.192Z"
   },
   {
    "duration": 25,
    "start_time": "2021-11-22T16:56:54.204Z"
   },
   {
    "duration": 14,
    "start_time": "2021-11-22T16:56:54.231Z"
   },
   {
    "duration": 12,
    "start_time": "2021-11-22T16:56:54.247Z"
   },
   {
    "duration": 17,
    "start_time": "2021-11-22T16:56:54.260Z"
   },
   {
    "duration": 147,
    "start_time": "2021-11-22T16:56:54.292Z"
   },
   {
    "duration": 58,
    "start_time": "2021-11-22T16:56:54.441Z"
   },
   {
    "duration": 8649,
    "start_time": "2021-11-22T16:56:54.501Z"
   },
   {
    "duration": 235,
    "start_time": "2021-11-22T16:57:03.152Z"
   },
   {
    "duration": 176,
    "start_time": "2021-11-22T16:57:03.389Z"
   },
   {
    "duration": -120,
    "start_time": "2021-11-22T16:57:03.687Z"
   },
   {
    "duration": -121,
    "start_time": "2021-11-22T16:57:03.689Z"
   },
   {
    "duration": -125,
    "start_time": "2021-11-22T16:57:03.694Z"
   },
   {
    "duration": -127,
    "start_time": "2021-11-22T16:57:03.697Z"
   },
   {
    "duration": -129,
    "start_time": "2021-11-22T16:57:03.699Z"
   },
   {
    "duration": -130,
    "start_time": "2021-11-22T16:57:03.701Z"
   },
   {
    "duration": -131,
    "start_time": "2021-11-22T16:57:03.703Z"
   },
   {
    "duration": -132,
    "start_time": "2021-11-22T16:57:03.705Z"
   },
   {
    "duration": -133,
    "start_time": "2021-11-22T16:57:03.707Z"
   },
   {
    "duration": -134,
    "start_time": "2021-11-22T16:57:03.709Z"
   },
   {
    "duration": -135,
    "start_time": "2021-11-22T16:57:03.711Z"
   },
   {
    "duration": -136,
    "start_time": "2021-11-22T16:57:03.713Z"
   },
   {
    "duration": -137,
    "start_time": "2021-11-22T16:57:03.715Z"
   },
   {
    "duration": 5146,
    "start_time": "2021-11-22T16:58:30.301Z"
   },
   {
    "duration": 274,
    "start_time": "2021-11-22T17:00:32.176Z"
   },
   {
    "duration": 9,
    "start_time": "2021-11-22T17:00:46.487Z"
   },
   {
    "duration": 25,
    "start_time": "2021-11-22T17:01:49.153Z"
   },
   {
    "duration": 539,
    "start_time": "2021-11-22T17:02:17.356Z"
   },
   {
    "duration": 244,
    "start_time": "2021-11-22T17:02:33.277Z"
   },
   {
    "duration": 413,
    "start_time": "2021-11-22T17:03:04.880Z"
   },
   {
    "duration": 16,
    "start_time": "2021-11-22T17:03:19.800Z"
   },
   {
    "duration": 76,
    "start_time": "2021-11-22T17:03:51.721Z"
   },
   {
    "duration": 234,
    "start_time": "2021-11-22T17:04:33.658Z"
   },
   {
    "duration": 201970,
    "start_time": "2021-11-22T17:04:53.259Z"
   },
   {
    "duration": 239,
    "start_time": "2021-11-22T17:11:43.239Z"
   },
   {
    "duration": 21772,
    "start_time": "2021-11-22T17:12:22.721Z"
   },
   {
    "duration": 14,
    "start_time": "2021-11-22T17:14:32.012Z"
   },
   {
    "duration": 16,
    "start_time": "2021-11-22T17:14:56.000Z"
   },
   {
    "duration": 186,
    "start_time": "2021-11-22T17:15:34.980Z"
   },
   {
    "duration": 84833,
    "start_time": "2021-11-22T17:15:58.659Z"
   },
   {
    "duration": 164,
    "start_time": "2021-11-22T17:18:05.518Z"
   },
   {
    "duration": 943216,
    "start_time": "2021-11-22T17:18:20.665Z"
   },
   {
    "duration": 575,
    "start_time": "2021-11-22T17:38:44.865Z"
   },
   {
    "duration": 432,
    "start_time": "2021-11-22T17:39:26.202Z"
   },
   {
    "duration": 253,
    "start_time": "2021-11-22T17:39:43.490Z"
   },
   {
    "duration": 917,
    "start_time": "2021-11-22T17:54:10.556Z"
   },
   {
    "duration": 1121,
    "start_time": "2021-11-22T17:54:37.104Z"
   },
   {
    "duration": 198,
    "start_time": "2021-11-22T18:00:29.574Z"
   },
   {
    "duration": 2,
    "start_time": "2021-11-22T18:01:42.963Z"
   },
   {
    "duration": 2,
    "start_time": "2021-11-22T18:02:07.780Z"
   },
   {
    "duration": 2,
    "start_time": "2021-11-22T18:02:38.847Z"
   },
   {
    "duration": 2,
    "start_time": "2021-11-22T18:03:05.963Z"
   },
   {
    "duration": 181,
    "start_time": "2021-11-22T18:03:34.384Z"
   },
   {
    "duration": 3,
    "start_time": "2021-11-22T18:03:41.432Z"
   },
   {
    "duration": 2,
    "start_time": "2021-11-22T18:03:51.429Z"
   },
   {
    "duration": 2,
    "start_time": "2021-11-22T18:04:00.121Z"
   },
   {
    "duration": 58,
    "start_time": "2021-11-22T18:10:23.945Z"
   },
   {
    "duration": 1097,
    "start_time": "2021-11-22T18:13:22.912Z"
   },
   {
    "duration": 51,
    "start_time": "2021-11-22T18:13:24.011Z"
   },
   {
    "duration": 329,
    "start_time": "2021-11-22T18:13:24.064Z"
   },
   {
    "duration": 8,
    "start_time": "2021-11-22T18:13:24.396Z"
   },
   {
    "duration": 24,
    "start_time": "2021-11-22T18:13:24.405Z"
   },
   {
    "duration": 4,
    "start_time": "2021-11-22T18:13:24.431Z"
   },
   {
    "duration": 6,
    "start_time": "2021-11-22T18:13:24.436Z"
   },
   {
    "duration": 11,
    "start_time": "2021-11-22T18:13:24.444Z"
   },
   {
    "duration": 11,
    "start_time": "2021-11-22T18:13:24.459Z"
   },
   {
    "duration": 35,
    "start_time": "2021-11-22T18:13:24.472Z"
   },
   {
    "duration": 2,
    "start_time": "2021-11-22T18:13:24.509Z"
   },
   {
    "duration": 5,
    "start_time": "2021-11-22T18:13:24.513Z"
   },
   {
    "duration": 17,
    "start_time": "2021-11-22T18:13:24.520Z"
   },
   {
    "duration": 3,
    "start_time": "2021-11-22T18:13:24.539Z"
   },
   {
    "duration": 5,
    "start_time": "2021-11-22T18:13:24.544Z"
   },
   {
    "duration": 5,
    "start_time": "2021-11-22T18:13:24.550Z"
   },
   {
    "duration": 4,
    "start_time": "2021-11-22T18:13:24.557Z"
   },
   {
    "duration": 5,
    "start_time": "2021-11-22T18:13:24.562Z"
   },
   {
    "duration": 6,
    "start_time": "2021-11-22T18:13:24.568Z"
   },
   {
    "duration": 19,
    "start_time": "2021-11-22T18:13:24.575Z"
   },
   {
    "duration": 163,
    "start_time": "2021-11-22T18:13:24.595Z"
   },
   {
    "duration": 41,
    "start_time": "2021-11-22T18:13:24.760Z"
   },
   {
    "duration": 9928,
    "start_time": "2021-11-22T18:13:24.894Z"
   },
   {
    "duration": 5453,
    "start_time": "2021-11-22T18:13:34.824Z"
   },
   {
    "duration": 275,
    "start_time": "2021-11-22T18:13:40.279Z"
   },
   {
    "duration": 10,
    "start_time": "2021-11-22T18:13:40.556Z"
   },
   {
    "duration": 41,
    "start_time": "2021-11-22T18:13:40.571Z"
   },
   {
    "duration": 621,
    "start_time": "2021-11-22T18:13:40.692Z"
   },
   {
    "duration": 15,
    "start_time": "2021-11-22T18:13:41.315Z"
   },
   {
    "duration": 60,
    "start_time": "2021-11-22T18:13:41.332Z"
   },
   {
    "duration": 202952,
    "start_time": "2021-11-22T18:13:41.394Z"
   },
   {
    "duration": 22286,
    "start_time": "2021-11-22T18:17:04.347Z"
   },
   {
    "duration": 14,
    "start_time": "2021-11-22T18:17:26.635Z"
   },
   {
    "duration": 44,
    "start_time": "2021-11-22T18:17:26.650Z"
   },
   {
    "duration": 85609,
    "start_time": "2021-11-22T18:17:26.696Z"
   },
   {
    "duration": 934349,
    "start_time": "2021-11-22T18:18:52.306Z"
   },
   {
    "duration": 206,
    "start_time": "2021-11-22T18:34:26.657Z"
   },
   {
    "duration": 1161,
    "start_time": "2021-11-22T18:34:26.864Z"
   },
   {
    "duration": 8,
    "start_time": "2021-11-22T20:16:29.339Z"
   },
   {
    "duration": 6,
    "start_time": "2021-11-22T20:16:40.548Z"
   },
   {
    "duration": 395,
    "start_time": "2021-11-22T22:34:21.524Z"
   },
   {
    "duration": 1595,
    "start_time": "2021-11-22T22:34:34.277Z"
   },
   {
    "duration": 39,
    "start_time": "2021-11-22T22:34:35.874Z"
   },
   {
    "duration": 685,
    "start_time": "2021-11-22T22:34:35.916Z"
   },
   {
    "duration": 9,
    "start_time": "2021-11-22T22:34:36.604Z"
   },
   {
    "duration": 33,
    "start_time": "2021-11-22T22:34:36.615Z"
   },
   {
    "duration": 6,
    "start_time": "2021-11-22T22:34:36.650Z"
   },
   {
    "duration": 10,
    "start_time": "2021-11-22T22:34:36.658Z"
   },
   {
    "duration": 14,
    "start_time": "2021-11-22T22:34:36.701Z"
   },
   {
    "duration": 16,
    "start_time": "2021-11-22T22:34:36.720Z"
   },
   {
    "duration": 63,
    "start_time": "2021-11-22T22:34:36.739Z"
   },
   {
    "duration": 3,
    "start_time": "2021-11-22T22:34:36.804Z"
   },
   {
    "duration": 12,
    "start_time": "2021-11-22T22:34:36.809Z"
   },
   {
    "duration": 24,
    "start_time": "2021-11-22T22:34:36.823Z"
   },
   {
    "duration": 6,
    "start_time": "2021-11-22T22:34:36.849Z"
   },
   {
    "duration": 5,
    "start_time": "2021-11-22T22:34:36.857Z"
   },
   {
    "duration": 6,
    "start_time": "2021-11-22T22:34:36.865Z"
   },
   {
    "duration": 7,
    "start_time": "2021-11-22T22:34:36.902Z"
   },
   {
    "duration": 8,
    "start_time": "2021-11-22T22:34:36.912Z"
   },
   {
    "duration": 6,
    "start_time": "2021-11-22T22:34:36.922Z"
   },
   {
    "duration": 38,
    "start_time": "2021-11-22T22:34:36.930Z"
   },
   {
    "duration": 271,
    "start_time": "2021-11-22T22:34:36.971Z"
   },
   {
    "duration": 157,
    "start_time": "2021-11-22T22:34:37.245Z"
   },
   {
    "duration": 13922,
    "start_time": "2021-11-22T22:34:37.406Z"
   },
   {
    "duration": 5,
    "start_time": "2021-11-22T22:34:51.330Z"
   },
   {
    "duration": 8195,
    "start_time": "2021-11-22T22:34:51.338Z"
   },
   {
    "duration": 444,
    "start_time": "2021-11-22T22:34:59.536Z"
   },
   {
    "duration": 23,
    "start_time": "2021-11-22T22:34:59.985Z"
   },
   {
    "duration": 93,
    "start_time": "2021-11-22T22:35:00.011Z"
   },
   {
    "duration": 1493,
    "start_time": "2021-11-22T22:35:00.107Z"
   },
   {
    "duration": 26,
    "start_time": "2021-11-22T22:35:01.604Z"
   },
   {
    "duration": 77,
    "start_time": "2021-11-22T22:35:01.634Z"
   },
   {
    "duration": 336586,
    "start_time": "2021-11-22T22:35:01.714Z"
   },
   {
    "duration": 36040,
    "start_time": "2021-11-22T22:40:38.303Z"
   },
   {
    "duration": 22,
    "start_time": "2021-11-22T22:41:14.345Z"
   },
   {
    "duration": 129,
    "start_time": "2021-11-22T22:41:14.370Z"
   },
   {
    "duration": 156166,
    "start_time": "2021-11-22T22:41:14.508Z"
   },
   {
    "duration": 1527198,
    "start_time": "2021-11-22T22:43:50.677Z"
   },
   {
    "duration": 331,
    "start_time": "2021-11-22T23:09:17.878Z"
   },
   {
    "duration": 1829,
    "start_time": "2021-11-22T23:09:18.211Z"
   },
   {
    "duration": 317,
    "start_time": "2021-11-22T23:27:16.693Z"
   },
   {
    "duration": 317,
    "start_time": "2021-11-22T23:27:22.183Z"
   },
   {
    "duration": 318,
    "start_time": "2021-11-23T08:16:14.164Z"
   },
   {
    "duration": 1540,
    "start_time": "2021-11-23T08:17:56.792Z"
   },
   {
    "duration": 37,
    "start_time": "2021-11-23T08:17:58.334Z"
   },
   {
    "duration": 674,
    "start_time": "2021-11-23T08:17:58.374Z"
   },
   {
    "duration": 10,
    "start_time": "2021-11-23T08:17:59.051Z"
   },
   {
    "duration": 59,
    "start_time": "2021-11-23T08:17:59.064Z"
   },
   {
    "duration": 7,
    "start_time": "2021-11-23T08:17:59.126Z"
   },
   {
    "duration": 10,
    "start_time": "2021-11-23T08:17:59.136Z"
   },
   {
    "duration": 55,
    "start_time": "2021-11-23T08:17:59.151Z"
   },
   {
    "duration": 19,
    "start_time": "2021-11-23T08:17:59.209Z"
   },
   {
    "duration": 33,
    "start_time": "2021-11-23T08:17:59.231Z"
   },
   {
    "duration": 3,
    "start_time": "2021-11-23T08:17:59.267Z"
   },
   {
    "duration": 30,
    "start_time": "2021-11-23T08:17:59.272Z"
   },
   {
    "duration": 25,
    "start_time": "2021-11-23T08:17:59.304Z"
   },
   {
    "duration": 5,
    "start_time": "2021-11-23T08:17:59.331Z"
   },
   {
    "duration": 4,
    "start_time": "2021-11-23T08:17:59.340Z"
   },
   {
    "duration": 6,
    "start_time": "2021-11-23T08:17:59.347Z"
   },
   {
    "duration": 52,
    "start_time": "2021-11-23T08:17:59.355Z"
   },
   {
    "duration": 6,
    "start_time": "2021-11-23T08:17:59.409Z"
   },
   {
    "duration": 6,
    "start_time": "2021-11-23T08:17:59.418Z"
   },
   {
    "duration": 35,
    "start_time": "2021-11-23T08:17:59.426Z"
   },
   {
    "duration": 265,
    "start_time": "2021-11-23T08:17:59.464Z"
   },
   {
    "duration": 78,
    "start_time": "2021-11-23T08:17:59.732Z"
   },
   {
    "duration": 13596,
    "start_time": "2021-11-23T08:17:59.907Z"
   },
   {
    "duration": 6,
    "start_time": "2021-11-23T08:18:13.505Z"
   },
   {
    "duration": 14436,
    "start_time": "2021-11-23T08:18:13.513Z"
   },
   {
    "duration": 8230,
    "start_time": "2021-11-23T08:18:27.951Z"
   },
   {
    "duration": 439,
    "start_time": "2021-11-23T08:18:36.184Z"
   },
   {
    "duration": 12,
    "start_time": "2021-11-23T08:18:36.625Z"
   },
   {
    "duration": 68,
    "start_time": "2021-11-23T08:18:36.639Z"
   },
   {
    "duration": 970,
    "start_time": "2021-11-23T08:18:36.711Z"
   },
   {
    "duration": 33,
    "start_time": "2021-11-23T08:18:37.684Z"
   },
   {
    "duration": 182,
    "start_time": "2021-11-23T08:18:37.719Z"
   },
   {
    "duration": 334246,
    "start_time": "2021-11-23T08:18:37.903Z"
   },
   {
    "duration": 36024,
    "start_time": "2021-11-23T08:24:12.152Z"
   },
   {
    "duration": 32,
    "start_time": "2021-11-23T08:24:48.179Z"
   },
   {
    "duration": 89,
    "start_time": "2021-11-23T08:24:48.213Z"
   },
   {
    "duration": 134843,
    "start_time": "2021-11-23T08:24:48.306Z"
   },
   {
    "duration": 332,
    "start_time": "2021-11-23T08:27:03.152Z"
   },
   {
    "duration": 1796,
    "start_time": "2021-11-23T08:27:03.488Z"
   },
   {
    "duration": 39435,
    "start_time": "2021-11-23T08:31:33.593Z"
   },
   {
    "duration": 105358,
    "start_time": "2021-11-23T08:32:58.749Z"
   },
   {
    "duration": 228462,
    "start_time": "2021-11-23T08:37:36.334Z"
   },
   {
    "duration": 122,
    "start_time": "2021-11-23T08:42:50.712Z"
   },
   {
    "duration": 3,
    "start_time": "2021-11-23T08:43:02.593Z"
   },
   {
    "duration": 4,
    "start_time": "2021-11-23T08:43:07.780Z"
   },
   {
    "duration": 1461,
    "start_time": "2021-11-23T08:44:08.640Z"
   },
   {
    "duration": 36,
    "start_time": "2021-11-23T08:44:10.104Z"
   },
   {
    "duration": 880,
    "start_time": "2021-11-23T08:44:10.143Z"
   },
   {
    "duration": 12,
    "start_time": "2021-11-23T08:44:11.026Z"
   },
   {
    "duration": 60,
    "start_time": "2021-11-23T08:44:11.040Z"
   },
   {
    "duration": 6,
    "start_time": "2021-11-23T08:44:11.103Z"
   },
   {
    "duration": 15,
    "start_time": "2021-11-23T08:44:11.111Z"
   },
   {
    "duration": 22,
    "start_time": "2021-11-23T08:44:11.130Z"
   },
   {
    "duration": 19,
    "start_time": "2021-11-23T08:44:11.155Z"
   },
   {
    "duration": 44,
    "start_time": "2021-11-23T08:44:11.201Z"
   },
   {
    "duration": 4,
    "start_time": "2021-11-23T08:44:11.247Z"
   },
   {
    "duration": 12,
    "start_time": "2021-11-23T08:44:11.253Z"
   },
   {
    "duration": 52,
    "start_time": "2021-11-23T08:44:11.268Z"
   },
   {
    "duration": 7,
    "start_time": "2021-11-23T08:44:11.323Z"
   },
   {
    "duration": 4,
    "start_time": "2021-11-23T08:44:11.333Z"
   },
   {
    "duration": 5,
    "start_time": "2021-11-23T08:44:11.340Z"
   },
   {
    "duration": 6,
    "start_time": "2021-11-23T08:44:11.348Z"
   },
   {
    "duration": 10,
    "start_time": "2021-11-23T08:44:11.356Z"
   },
   {
    "duration": 31,
    "start_time": "2021-11-23T08:44:11.369Z"
   },
   {
    "duration": 53,
    "start_time": "2021-11-23T08:44:11.403Z"
   },
   {
    "duration": 271,
    "start_time": "2021-11-23T08:44:11.459Z"
   },
   {
    "duration": 169,
    "start_time": "2021-11-23T08:44:11.732Z"
   },
   {
    "duration": 94,
    "start_time": "2021-11-23T08:44:11.909Z"
   },
   {
    "duration": 587,
    "start_time": "2021-11-23T08:44:12.007Z"
   },
   {
    "duration": 3,
    "start_time": "2021-11-23T08:44:12.596Z"
   },
   {
    "duration": 446,
    "start_time": "2021-11-23T08:44:12.601Z"
   },
   {
    "duration": 12,
    "start_time": "2021-11-23T08:44:13.049Z"
   },
   {
    "duration": 137,
    "start_time": "2021-11-23T08:44:13.064Z"
   },
   {
    "duration": 934,
    "start_time": "2021-11-23T08:44:13.205Z"
   },
   {
    "duration": 22,
    "start_time": "2021-11-23T08:44:14.141Z"
   },
   {
    "duration": 69,
    "start_time": "2021-11-23T08:44:14.165Z"
   },
   {
    "duration": 335948,
    "start_time": "2021-11-23T08:44:14.301Z"
   },
   {
    "duration": 36003,
    "start_time": "2021-11-23T08:49:50.251Z"
   },
   {
    "duration": 24,
    "start_time": "2021-11-23T08:50:26.257Z"
   },
   {
    "duration": 119,
    "start_time": "2021-11-23T08:50:26.284Z"
   },
   {
    "duration": 135972,
    "start_time": "2021-11-23T08:50:26.407Z"
   },
   {
    "duration": 338,
    "start_time": "2021-11-23T08:52:42.382Z"
   },
   {
    "duration": 1806,
    "start_time": "2021-11-23T08:52:42.722Z"
   },
   {
    "duration": 231144,
    "start_time": "2021-11-23T08:55:10.806Z"
   },
   {
    "duration": 1071,
    "start_time": "2021-11-23T09:11:03.488Z"
   },
   {
    "duration": 1010,
    "start_time": "2021-11-23T09:11:26.348Z"
   },
   {
    "duration": 999,
    "start_time": "2021-11-23T09:11:31.283Z"
   },
   {
    "duration": 1002,
    "start_time": "2021-11-23T09:11:37.353Z"
   },
   {
    "duration": 989,
    "start_time": "2021-11-23T09:11:42.937Z"
   },
   {
    "duration": 516,
    "start_time": "2021-11-23T09:12:10.524Z"
   },
   {
    "duration": 540,
    "start_time": "2021-11-23T09:12:15.935Z"
   },
   {
    "duration": 297,
    "start_time": "2021-11-23T09:12:51.062Z"
   },
   {
    "duration": 292,
    "start_time": "2021-11-23T09:13:24.324Z"
   },
   {
    "duration": 298,
    "start_time": "2021-11-23T09:13:54.034Z"
   },
   {
    "duration": 304,
    "start_time": "2021-11-23T09:14:00.620Z"
   },
   {
    "duration": 403,
    "start_time": "2021-11-23T09:14:09.594Z"
   },
   {
    "duration": 329,
    "start_time": "2021-11-23T09:14:13.249Z"
   },
   {
    "duration": 305,
    "start_time": "2021-11-23T09:14:15.022Z"
   },
   {
    "duration": 300,
    "start_time": "2021-11-23T09:14:17.247Z"
   },
   {
    "duration": 297,
    "start_time": "2021-11-23T09:16:02.434Z"
   },
   {
    "duration": 1907,
    "start_time": "2021-11-23T09:16:17.115Z"
   },
   {
    "duration": 293,
    "start_time": "2021-11-23T09:16:29.619Z"
   },
   {
    "duration": 1574,
    "start_time": "2021-11-23T09:20:36.083Z"
   },
   {
    "duration": 35,
    "start_time": "2021-11-23T09:20:37.660Z"
   },
   {
    "duration": 709,
    "start_time": "2021-11-23T09:20:37.699Z"
   },
   {
    "duration": 10,
    "start_time": "2021-11-23T09:20:38.411Z"
   },
   {
    "duration": 49,
    "start_time": "2021-11-23T09:20:38.424Z"
   },
   {
    "duration": 6,
    "start_time": "2021-11-23T09:20:38.476Z"
   },
   {
    "duration": 18,
    "start_time": "2021-11-23T09:20:38.485Z"
   },
   {
    "duration": 30,
    "start_time": "2021-11-23T09:20:38.506Z"
   },
   {
    "duration": 17,
    "start_time": "2021-11-23T09:20:38.540Z"
   },
   {
    "duration": 56,
    "start_time": "2021-11-23T09:20:38.560Z"
   },
   {
    "duration": 3,
    "start_time": "2021-11-23T09:20:38.619Z"
   },
   {
    "duration": 11,
    "start_time": "2021-11-23T09:20:38.624Z"
   },
   {
    "duration": 23,
    "start_time": "2021-11-23T09:20:38.638Z"
   },
   {
    "duration": 6,
    "start_time": "2021-11-23T09:20:38.663Z"
   },
   {
    "duration": 30,
    "start_time": "2021-11-23T09:20:38.671Z"
   },
   {
    "duration": 7,
    "start_time": "2021-11-23T09:20:38.703Z"
   },
   {
    "duration": 14,
    "start_time": "2021-11-23T09:20:38.712Z"
   },
   {
    "duration": 9,
    "start_time": "2021-11-23T09:20:38.729Z"
   },
   {
    "duration": 6,
    "start_time": "2021-11-23T09:20:38.740Z"
   },
   {
    "duration": 37,
    "start_time": "2021-11-23T09:20:38.748Z"
   },
   {
    "duration": 254,
    "start_time": "2021-11-23T09:20:38.787Z"
   },
   {
    "duration": 158,
    "start_time": "2021-11-23T09:20:39.044Z"
   },
   {
    "duration": 95,
    "start_time": "2021-11-23T09:20:39.210Z"
   },
   {
    "duration": 606437,
    "start_time": "2021-11-23T09:20:39.307Z"
   },
   {
    "duration": 4,
    "start_time": "2021-11-23T09:30:45.747Z"
   },
   {
    "duration": 601,
    "start_time": "2021-11-23T09:30:45.754Z"
   },
   {
    "duration": 12,
    "start_time": "2021-11-23T09:30:46.360Z"
   },
   {
    "duration": 125,
    "start_time": "2021-11-23T09:30:46.376Z"
   },
   {
    "duration": 964,
    "start_time": "2021-11-23T09:30:46.505Z"
   },
   {
    "duration": 41,
    "start_time": "2021-11-23T09:30:47.471Z"
   },
   {
    "duration": 189,
    "start_time": "2021-11-23T09:30:47.515Z"
   },
   {
    "duration": 337002,
    "start_time": "2021-11-23T09:30:47.708Z"
   },
   {
    "duration": 35966,
    "start_time": "2021-11-23T09:36:24.713Z"
   },
   {
    "duration": 32,
    "start_time": "2021-11-23T09:37:00.682Z"
   },
   {
    "duration": 93,
    "start_time": "2021-11-23T09:37:00.717Z"
   },
   {
    "duration": 134444,
    "start_time": "2021-11-23T09:37:00.901Z"
   },
   {
    "duration": 331,
    "start_time": "2021-11-23T09:39:15.348Z"
   },
   {
    "duration": 304,
    "start_time": "2021-11-23T09:39:15.682Z"
   },
   {
    "duration": 309,
    "start_time": "2021-11-23T09:39:15.988Z"
   },
   {
    "duration": 1822,
    "start_time": "2021-11-23T09:39:16.301Z"
   },
   {
    "duration": 315,
    "start_time": "2021-11-23T09:43:09.710Z"
   },
   {
    "duration": 317,
    "start_time": "2021-11-23T09:43:19.000Z"
   },
   {
    "duration": 1877,
    "start_time": "2021-11-23T09:46:51.230Z"
   },
   {
    "duration": 525,
    "start_time": "2021-11-23T09:47:43.668Z"
   },
   {
    "duration": 315,
    "start_time": "2021-11-23T09:52:36.598Z"
   },
   {
    "duration": 120,
    "start_time": "2021-11-23T15:10:47.548Z"
   },
   {
    "duration": 1532,
    "start_time": "2021-11-23T15:11:31.219Z"
   },
   {
    "duration": 44,
    "start_time": "2021-11-23T15:11:32.754Z"
   },
   {
    "duration": 711,
    "start_time": "2021-11-23T15:11:32.801Z"
   },
   {
    "duration": 10,
    "start_time": "2021-11-23T15:11:33.515Z"
   },
   {
    "duration": 37,
    "start_time": "2021-11-23T15:11:33.528Z"
   },
   {
    "duration": 33,
    "start_time": "2021-11-23T15:11:33.568Z"
   },
   {
    "duration": 9,
    "start_time": "2021-11-23T15:11:33.603Z"
   },
   {
    "duration": 18,
    "start_time": "2021-11-23T15:11:33.616Z"
   },
   {
    "duration": 16,
    "start_time": "2021-11-23T15:11:33.637Z"
   },
   {
    "duration": 61,
    "start_time": "2021-11-23T15:11:33.655Z"
   },
   {
    "duration": 3,
    "start_time": "2021-11-23T15:11:33.719Z"
   },
   {
    "duration": 23,
    "start_time": "2021-11-23T15:11:33.725Z"
   },
   {
    "duration": 43,
    "start_time": "2021-11-23T15:11:33.750Z"
   },
   {
    "duration": 7,
    "start_time": "2021-11-23T15:11:33.796Z"
   },
   {
    "duration": 4,
    "start_time": "2021-11-23T15:11:33.806Z"
   },
   {
    "duration": 5,
    "start_time": "2021-11-23T15:11:33.813Z"
   },
   {
    "duration": 5,
    "start_time": "2021-11-23T15:11:33.821Z"
   },
   {
    "duration": 6,
    "start_time": "2021-11-23T15:11:33.829Z"
   },
   {
    "duration": 6,
    "start_time": "2021-11-23T15:11:33.838Z"
   },
   {
    "duration": 80,
    "start_time": "2021-11-23T15:11:33.846Z"
   },
   {
    "duration": 261,
    "start_time": "2021-11-23T15:11:33.929Z"
   },
   {
    "duration": 109,
    "start_time": "2021-11-23T15:11:34.193Z"
   },
   {
    "duration": 96,
    "start_time": "2021-11-23T15:11:34.309Z"
   },
   {
    "duration": 606777,
    "start_time": "2021-11-23T15:11:34.407Z"
   },
   {
    "duration": 4,
    "start_time": "2021-11-23T15:21:41.187Z"
   },
   {
    "duration": 447,
    "start_time": "2021-11-23T15:21:41.201Z"
   },
   {
    "duration": 14,
    "start_time": "2021-11-23T15:21:41.651Z"
   },
   {
    "duration": 133,
    "start_time": "2021-11-23T15:21:41.668Z"
   },
   {
    "duration": 1050,
    "start_time": "2021-11-23T15:21:41.804Z"
   },
   {
    "duration": 44,
    "start_time": "2021-11-23T15:21:42.857Z"
   },
   {
    "duration": 103,
    "start_time": "2021-11-23T15:21:42.904Z"
   },
   {
    "duration": 339879,
    "start_time": "2021-11-23T15:21:43.011Z"
   },
   {
    "duration": 36655,
    "start_time": "2021-11-23T15:27:22.892Z"
   },
   {
    "duration": 29,
    "start_time": "2021-11-23T15:27:59.550Z"
   },
   {
    "duration": 122,
    "start_time": "2021-11-23T15:27:59.582Z"
   },
   {
    "duration": 138900,
    "start_time": "2021-11-23T15:27:59.707Z"
   },
   {
    "duration": 326,
    "start_time": "2021-11-23T15:30:18.609Z"
   },
   {
    "duration": 1821,
    "start_time": "2021-11-23T15:30:18.937Z"
   },
   {
    "duration": 371,
    "start_time": "2021-11-23T19:23:39.792Z"
   },
   {
    "duration": 420,
    "start_time": "2021-11-23T19:24:00.620Z"
   },
   {
    "duration": 1616,
    "start_time": "2021-11-23T19:24:09.615Z"
   },
   {
    "duration": 35,
    "start_time": "2021-11-23T19:24:11.234Z"
   },
   {
    "duration": 704,
    "start_time": "2021-11-23T19:24:11.272Z"
   },
   {
    "duration": 10,
    "start_time": "2021-11-23T19:24:11.979Z"
   },
   {
    "duration": 35,
    "start_time": "2021-11-23T19:24:11.992Z"
   },
   {
    "duration": 7,
    "start_time": "2021-11-23T19:24:12.030Z"
   },
   {
    "duration": 44,
    "start_time": "2021-11-23T19:24:12.040Z"
   },
   {
    "duration": 15,
    "start_time": "2021-11-23T19:24:12.087Z"
   },
   {
    "duration": 16,
    "start_time": "2021-11-23T19:24:12.106Z"
   },
   {
    "duration": 68,
    "start_time": "2021-11-23T19:24:12.126Z"
   },
   {
    "duration": 23,
    "start_time": "2021-11-23T19:24:12.197Z"
   },
   {
    "duration": 6,
    "start_time": "2021-11-23T19:24:12.222Z"
   },
   {
    "duration": 66,
    "start_time": "2021-11-23T19:24:12.230Z"
   },
   {
    "duration": 258,
    "start_time": "2021-11-23T19:24:12.299Z"
   },
   {
    "duration": 132,
    "start_time": "2021-11-23T19:24:12.559Z"
   },
   {
    "duration": 92,
    "start_time": "2021-11-23T19:24:12.694Z"
   },
   {
    "duration": 593763,
    "start_time": "2021-11-23T19:24:12.788Z"
   },
   {
    "duration": 435,
    "start_time": "2021-11-23T19:34:06.554Z"
   },
   {
    "duration": 14,
    "start_time": "2021-11-23T19:34:06.992Z"
   },
   {
    "duration": 83,
    "start_time": "2021-11-23T19:34:07.008Z"
   },
   {
    "duration": 1017,
    "start_time": "2021-11-23T19:34:07.095Z"
   },
   {
    "duration": 22,
    "start_time": "2021-11-23T19:34:08.114Z"
   },
   {
    "duration": 71,
    "start_time": "2021-11-23T19:34:08.138Z"
   },
   {
    "duration": 334028,
    "start_time": "2021-11-23T19:34:08.214Z"
   },
   {
    "duration": 36011,
    "start_time": "2021-11-23T19:39:42.245Z"
   },
   {
    "duration": 34,
    "start_time": "2021-11-23T19:40:18.258Z"
   },
   {
    "duration": 90,
    "start_time": "2021-11-23T19:40:18.297Z"
   },
   {
    "duration": 139377,
    "start_time": "2021-11-23T19:40:18.392Z"
   },
   {
    "duration": 566,
    "start_time": "2021-11-23T19:42:37.772Z"
   },
   {
    "duration": 448,
    "start_time": "2021-11-23T19:42:37.892Z"
   },
   {
    "duration": 309,
    "start_time": "2021-11-23T19:45:06.270Z"
   },
   {
    "duration": 8,
    "start_time": "2021-11-23T19:47:20.347Z"
   },
   {
    "duration": 419,
    "start_time": "2021-11-23T19:47:22.544Z"
   },
   {
    "duration": 324,
    "start_time": "2021-11-23T19:47:52.518Z"
   },
   {
    "duration": 392,
    "start_time": "2021-11-23T19:48:44.797Z"
   },
   {
    "duration": 100,
    "start_time": "2021-11-23T20:10:10.227Z"
   },
   {
    "duration": 113,
    "start_time": "2021-11-23T20:10:14.549Z"
   },
   {
    "duration": 107,
    "start_time": "2021-11-23T20:18:27.273Z"
   },
   {
    "duration": 1499,
    "start_time": "2021-11-23T20:18:58.678Z"
   },
   {
    "duration": 45,
    "start_time": "2021-11-23T20:19:01.843Z"
   },
   {
    "duration": 706,
    "start_time": "2021-11-23T20:19:02.664Z"
   },
   {
    "duration": 11,
    "start_time": "2021-11-23T20:19:04.604Z"
   },
   {
    "duration": 34,
    "start_time": "2021-11-23T20:19:07.301Z"
   },
   {
    "duration": 7,
    "start_time": "2021-11-23T20:19:08.801Z"
   },
   {
    "duration": 4,
    "start_time": "2021-11-23T20:19:10.286Z"
   },
   {
    "duration": 17,
    "start_time": "2021-11-23T20:19:11.682Z"
   },
   {
    "duration": 17,
    "start_time": "2021-11-23T20:19:12.682Z"
   },
   {
    "duration": 32,
    "start_time": "2021-11-23T20:19:25.758Z"
   },
   {
    "duration": 24,
    "start_time": "2021-11-23T20:19:28.160Z"
   },
   {
    "duration": 5,
    "start_time": "2021-11-23T20:19:29.481Z"
   },
   {
    "duration": 49,
    "start_time": "2021-11-23T20:19:33.435Z"
   },
   {
    "duration": 245,
    "start_time": "2021-11-23T20:19:36.123Z"
   },
   {
    "duration": 121,
    "start_time": "2021-11-23T20:19:41.070Z"
   },
   {
    "duration": 7,
    "start_time": "2021-11-23T20:19:47.402Z"
   },
   {
    "duration": 587661,
    "start_time": "2021-11-23T20:19:51.382Z"
   },
   {
    "duration": 13,
    "start_time": "2021-11-23T20:33:43.106Z"
   },
   {
    "duration": 190,
    "start_time": "2021-11-23T20:33:49.592Z"
   },
   {
    "duration": 866,
    "start_time": "2021-11-23T20:33:51.583Z"
   },
   {
    "duration": 21,
    "start_time": "2021-11-23T20:33:58.362Z"
   },
   {
    "duration": 50,
    "start_time": "2021-11-23T20:34:04.161Z"
   },
   {
    "duration": 1478,
    "start_time": "2021-11-23T21:00:42.110Z"
   },
   {
    "duration": 34,
    "start_time": "2021-11-23T21:00:43.591Z"
   },
   {
    "duration": 705,
    "start_time": "2021-11-23T21:00:43.629Z"
   },
   {
    "duration": 10,
    "start_time": "2021-11-23T21:00:44.337Z"
   },
   {
    "duration": 50,
    "start_time": "2021-11-23T21:00:44.350Z"
   },
   {
    "duration": 6,
    "start_time": "2021-11-23T21:00:44.403Z"
   },
   {
    "duration": 9,
    "start_time": "2021-11-23T21:00:44.411Z"
   },
   {
    "duration": 15,
    "start_time": "2021-11-23T21:00:44.424Z"
   },
   {
    "duration": 49,
    "start_time": "2021-11-23T21:00:44.442Z"
   },
   {
    "duration": 51,
    "start_time": "2021-11-23T21:00:44.494Z"
   },
   {
    "duration": 58,
    "start_time": "2021-11-23T21:00:44.548Z"
   },
   {
    "duration": 6,
    "start_time": "2021-11-23T21:00:44.609Z"
   },
   {
    "duration": 31,
    "start_time": "2021-11-23T21:00:44.618Z"
   },
   {
    "duration": 266,
    "start_time": "2021-11-23T21:00:44.652Z"
   },
   {
    "duration": 261,
    "start_time": "2021-11-23T21:00:44.920Z"
   },
   {
    "duration": 5,
    "start_time": "2021-11-23T21:00:45.184Z"
   },
   {
    "duration": 451471,
    "start_time": "2021-11-23T21:00:45.192Z"
   },
   {
    "duration": 22,
    "start_time": "2021-11-23T21:08:16.666Z"
   },
   {
    "duration": 94,
    "start_time": "2021-11-23T21:08:16.691Z"
   },
   {
    "duration": 1023,
    "start_time": "2021-11-23T21:08:16.791Z"
   },
   {
    "duration": 20,
    "start_time": "2021-11-23T21:08:17.817Z"
   },
   {
    "duration": 145,
    "start_time": "2021-11-23T21:08:17.839Z"
   },
   {
    "duration": 578408,
    "start_time": "2021-11-23T21:08:17.991Z"
   },
   {
    "duration": 30,
    "start_time": "2021-11-23T21:17:56.402Z"
   },
   {
    "duration": 57,
    "start_time": "2021-11-23T21:17:56.435Z"
   },
   {
    "duration": 224607,
    "start_time": "2021-11-23T21:17:56.582Z"
   },
   {
    "duration": 7,
    "start_time": "2021-11-23T21:21:41.191Z"
   },
   {
    "duration": 412,
    "start_time": "2021-11-23T21:21:41.200Z"
   },
   {
    "duration": 1807,
    "start_time": "2021-11-23T21:21:41.615Z"
   },
   {
    "duration": 591,
    "start_time": "2022-01-30T20:38:36.838Z"
   },
   {
    "duration": 1456,
    "start_time": "2022-01-30T20:39:17.107Z"
   },
   {
    "duration": 39,
    "start_time": "2022-01-30T20:39:18.566Z"
   },
   {
    "duration": 624,
    "start_time": "2022-01-30T20:39:18.609Z"
   },
   {
    "duration": 11,
    "start_time": "2022-01-30T20:39:19.236Z"
   },
   {
    "duration": 37,
    "start_time": "2022-01-30T20:39:19.249Z"
   },
   {
    "duration": 7,
    "start_time": "2022-01-30T20:39:19.289Z"
   },
   {
    "duration": 40,
    "start_time": "2022-01-30T20:39:19.299Z"
   },
   {
    "duration": 16,
    "start_time": "2022-01-30T20:39:19.344Z"
   },
   {
    "duration": 17,
    "start_time": "2022-01-30T20:39:19.363Z"
   },
   {
    "duration": 72,
    "start_time": "2022-01-30T20:39:19.383Z"
   },
   {
    "duration": 22,
    "start_time": "2022-01-30T20:39:19.457Z"
   },
   {
    "duration": 6,
    "start_time": "2022-01-30T20:39:19.482Z"
   },
   {
    "duration": 65,
    "start_time": "2022-01-30T20:39:19.490Z"
   },
   {
    "duration": 257,
    "start_time": "2022-01-30T20:39:19.557Z"
   },
   {
    "duration": 120,
    "start_time": "2022-01-30T20:39:19.816Z"
   },
   {
    "duration": 97,
    "start_time": "2022-01-30T20:39:19.939Z"
   },
   {
    "duration": 403059,
    "start_time": "2022-01-30T20:39:20.038Z"
   },
   {
    "duration": 32,
    "start_time": "2022-01-30T20:46:03.100Z"
   },
   {
    "duration": 101,
    "start_time": "2022-01-30T20:46:03.135Z"
   },
   {
    "duration": 906,
    "start_time": "2022-01-30T20:46:03.240Z"
   },
   {
    "duration": 21,
    "start_time": "2022-01-30T20:46:04.148Z"
   },
   {
    "duration": 69,
    "start_time": "2022-01-30T20:46:04.171Z"
   },
   {
    "duration": 569672,
    "start_time": "2022-01-30T20:46:04.246Z"
   },
   {
    "duration": 38,
    "start_time": "2022-01-30T20:55:33.922Z"
   },
   {
    "duration": 71,
    "start_time": "2022-01-30T20:55:33.963Z"
   },
   {
    "duration": 218796,
    "start_time": "2022-01-30T20:55:34.037Z"
   },
   {
    "duration": 8,
    "start_time": "2022-01-30T20:59:12.836Z"
   },
   {
    "duration": 411,
    "start_time": "2022-01-30T20:59:12.846Z"
   },
   {
    "duration": 1914,
    "start_time": "2022-01-30T20:59:13.260Z"
   },
   {
    "duration": 240,
    "start_time": "2022-01-30T21:11:00.876Z"
   },
   {
    "duration": 228,
    "start_time": "2022-01-30T21:11:13.317Z"
   },
   {
    "duration": 209,
    "start_time": "2022-01-30T21:11:19.481Z"
   },
   {
    "duration": 1607,
    "start_time": "2022-01-30T21:20:55.914Z"
   },
   {
    "duration": 36,
    "start_time": "2022-01-30T21:20:57.524Z"
   },
   {
    "duration": 608,
    "start_time": "2022-01-30T21:20:57.564Z"
   },
   {
    "duration": 12,
    "start_time": "2022-01-30T21:20:58.176Z"
   },
   {
    "duration": 65,
    "start_time": "2022-01-30T21:20:58.191Z"
   },
   {
    "duration": 7,
    "start_time": "2022-01-30T21:20:58.259Z"
   },
   {
    "duration": 8,
    "start_time": "2022-01-30T21:20:58.270Z"
   },
   {
    "duration": 49,
    "start_time": "2022-01-30T21:20:58.283Z"
   },
   {
    "duration": 18,
    "start_time": "2022-01-30T21:20:58.336Z"
   },
   {
    "duration": 34,
    "start_time": "2022-01-30T21:20:58.357Z"
   },
   {
    "duration": 59,
    "start_time": "2022-01-30T21:20:58.393Z"
   },
   {
    "duration": 6,
    "start_time": "2022-01-30T21:20:58.455Z"
   },
   {
    "duration": 33,
    "start_time": "2022-01-30T21:20:58.463Z"
   },
   {
    "duration": 266,
    "start_time": "2022-01-30T21:20:58.499Z"
   },
   {
    "duration": 164,
    "start_time": "2022-01-30T21:20:58.768Z"
   },
   {
    "duration": 404162,
    "start_time": "2022-01-30T21:20:58.935Z"
   },
   {
    "duration": 12,
    "start_time": "2022-01-30T21:27:43.099Z"
   },
   {
    "duration": 49,
    "start_time": "2022-01-30T21:27:43.113Z"
   },
   {
    "duration": 964,
    "start_time": "2022-01-30T21:27:43.165Z"
   },
   {
    "duration": 21,
    "start_time": "2022-01-30T21:27:44.133Z"
   },
   {
    "duration": 78,
    "start_time": "2022-01-30T21:27:44.156Z"
   },
   {
    "duration": 570944,
    "start_time": "2022-01-30T21:27:44.238Z"
   },
   {
    "duration": 22,
    "start_time": "2022-01-30T21:37:15.188Z"
   },
   {
    "duration": 122,
    "start_time": "2022-01-30T21:37:15.213Z"
   },
   {
    "duration": 224554,
    "start_time": "2022-01-30T21:37:15.339Z"
   },
   {
    "duration": 6,
    "start_time": "2022-01-30T21:40:59.895Z"
   },
   {
    "duration": 412,
    "start_time": "2022-01-30T21:40:59.904Z"
   },
   {
    "duration": 1753,
    "start_time": "2022-01-30T21:41:00.320Z"
   },
   {
    "duration": 1502,
    "start_time": "2022-01-30T22:00:19.035Z"
   },
   {
    "duration": 34,
    "start_time": "2022-01-30T22:00:20.540Z"
   },
   {
    "duration": 632,
    "start_time": "2022-01-30T22:00:20.577Z"
   },
   {
    "duration": 23,
    "start_time": "2022-01-30T22:00:21.212Z"
   },
   {
    "duration": 38,
    "start_time": "2022-01-30T22:00:21.237Z"
   },
   {
    "duration": 6,
    "start_time": "2022-01-30T22:00:21.278Z"
   },
   {
    "duration": 17,
    "start_time": "2022-01-30T22:00:21.287Z"
   },
   {
    "duration": 37,
    "start_time": "2022-01-30T22:00:21.309Z"
   },
   {
    "duration": 17,
    "start_time": "2022-01-30T22:00:21.350Z"
   },
   {
    "duration": 65,
    "start_time": "2022-01-30T22:00:21.370Z"
   },
   {
    "duration": 77,
    "start_time": "2022-01-30T22:00:21.438Z"
   },
   {
    "duration": 1447,
    "start_time": "2022-01-30T22:00:20.071Z"
   },
   {
    "duration": 1446,
    "start_time": "2022-01-30T22:00:20.073Z"
   },
   {
    "duration": 1446,
    "start_time": "2022-01-30T22:00:20.074Z"
   },
   {
    "duration": 1447,
    "start_time": "2022-01-30T22:00:20.075Z"
   },
   {
    "duration": 1446,
    "start_time": "2022-01-30T22:00:20.077Z"
   },
   {
    "duration": 1447,
    "start_time": "2022-01-30T22:00:20.078Z"
   },
   {
    "duration": 1443,
    "start_time": "2022-01-30T22:00:20.083Z"
   },
   {
    "duration": 1442,
    "start_time": "2022-01-30T22:00:20.085Z"
   },
   {
    "duration": 1443,
    "start_time": "2022-01-30T22:00:20.086Z"
   },
   {
    "duration": 1439,
    "start_time": "2022-01-30T22:00:20.091Z"
   },
   {
    "duration": 1438,
    "start_time": "2022-01-30T22:00:20.093Z"
   },
   {
    "duration": 1437,
    "start_time": "2022-01-30T22:00:20.095Z"
   },
   {
    "duration": 1436,
    "start_time": "2022-01-30T22:00:20.098Z"
   },
   {
    "duration": 1436,
    "start_time": "2022-01-30T22:00:20.099Z"
   },
   {
    "duration": 1435,
    "start_time": "2022-01-30T22:00:20.101Z"
   },
   {
    "duration": 1435,
    "start_time": "2022-01-30T22:00:20.103Z"
   },
   {
    "duration": 1433,
    "start_time": "2022-01-30T22:00:20.106Z"
   },
   {
    "duration": 1438,
    "start_time": "2022-01-30T22:02:49.751Z"
   },
   {
    "duration": 35,
    "start_time": "2022-01-30T22:02:51.192Z"
   },
   {
    "duration": 642,
    "start_time": "2022-01-30T22:02:51.230Z"
   },
   {
    "duration": 10,
    "start_time": "2022-01-30T22:02:51.875Z"
   },
   {
    "duration": 53,
    "start_time": "2022-01-30T22:02:51.887Z"
   },
   {
    "duration": 6,
    "start_time": "2022-01-30T22:02:51.943Z"
   },
   {
    "duration": 8,
    "start_time": "2022-01-30T22:02:51.951Z"
   },
   {
    "duration": 21,
    "start_time": "2022-01-30T22:02:51.961Z"
   },
   {
    "duration": 16,
    "start_time": "2022-01-30T22:02:51.986Z"
   },
   {
    "duration": 33,
    "start_time": "2022-01-30T22:02:52.033Z"
   },
   {
    "duration": 87,
    "start_time": "2022-01-30T22:02:52.068Z"
   },
   {
    "duration": 1446,
    "start_time": "2022-01-30T22:02:50.712Z"
   },
   {
    "duration": 1444,
    "start_time": "2022-01-30T22:02:50.715Z"
   },
   {
    "duration": 1439,
    "start_time": "2022-01-30T22:02:50.722Z"
   },
   {
    "duration": 1433,
    "start_time": "2022-01-30T22:02:50.729Z"
   },
   {
    "duration": 1430,
    "start_time": "2022-01-30T22:02:50.734Z"
   },
   {
    "duration": 1429,
    "start_time": "2022-01-30T22:02:50.736Z"
   },
   {
    "duration": 1429,
    "start_time": "2022-01-30T22:02:50.738Z"
   },
   {
    "duration": 1429,
    "start_time": "2022-01-30T22:02:50.739Z"
   },
   {
    "duration": 1428,
    "start_time": "2022-01-30T22:02:50.741Z"
   },
   {
    "duration": 1420,
    "start_time": "2022-01-30T22:02:50.750Z"
   },
   {
    "duration": 1420,
    "start_time": "2022-01-30T22:02:50.752Z"
   },
   {
    "duration": 1419,
    "start_time": "2022-01-30T22:02:50.754Z"
   },
   {
    "duration": 1419,
    "start_time": "2022-01-30T22:02:50.756Z"
   },
   {
    "duration": 1419,
    "start_time": "2022-01-30T22:02:50.757Z"
   },
   {
    "duration": 1418,
    "start_time": "2022-01-30T22:02:50.759Z"
   },
   {
    "duration": 1418,
    "start_time": "2022-01-30T22:02:50.760Z"
   },
   {
    "duration": 1413,
    "start_time": "2022-01-30T22:02:50.767Z"
   },
   {
    "duration": 1406,
    "start_time": "2022-01-30T22:04:06.258Z"
   },
   {
    "duration": 37,
    "start_time": "2022-01-30T22:04:07.667Z"
   },
   {
    "duration": 1568,
    "start_time": "2022-01-30T22:04:07.707Z"
   },
   {
    "duration": 10,
    "start_time": "2022-01-30T22:04:09.278Z"
   },
   {
    "duration": 56,
    "start_time": "2022-01-30T22:04:09.290Z"
   },
   {
    "duration": 6,
    "start_time": "2022-01-30T22:04:09.349Z"
   },
   {
    "duration": 7,
    "start_time": "2022-01-30T22:04:09.357Z"
   },
   {
    "duration": 15,
    "start_time": "2022-01-30T22:04:09.367Z"
   },
   {
    "duration": 48,
    "start_time": "2022-01-30T22:04:09.386Z"
   },
   {
    "duration": 32,
    "start_time": "2022-01-30T22:04:09.437Z"
   },
   {
    "duration": 20,
    "start_time": "2022-01-30T22:04:09.472Z"
   },
   {
    "duration": 6,
    "start_time": "2022-01-30T22:04:09.494Z"
   },
   {
    "duration": 32,
    "start_time": "2022-01-30T22:04:09.533Z"
   },
   {
    "duration": 245,
    "start_time": "2022-01-30T22:04:09.568Z"
   },
   {
    "duration": 123,
    "start_time": "2022-01-30T22:04:09.815Z"
   },
   {
    "duration": 392647,
    "start_time": "2022-01-30T22:04:09.941Z"
   },
   {
    "duration": 11,
    "start_time": "2022-01-30T22:10:42.591Z"
   },
   {
    "duration": 130,
    "start_time": "2022-01-30T22:10:42.604Z"
   },
   {
    "duration": 911,
    "start_time": "2022-01-30T22:10:42.739Z"
   },
   {
    "duration": 21,
    "start_time": "2022-01-30T22:10:43.652Z"
   },
   {
    "duration": 70,
    "start_time": "2022-01-30T22:10:43.676Z"
   },
   {
    "duration": 565706,
    "start_time": "2022-01-30T22:10:43.750Z"
   },
   {
    "duration": 20,
    "start_time": "2022-01-30T22:20:09.459Z"
   },
   {
    "duration": 57,
    "start_time": "2022-01-30T22:20:09.481Z"
   },
   {
    "duration": 214686,
    "start_time": "2022-01-30T22:20:09.541Z"
   },
   {
    "duration": 7,
    "start_time": "2022-01-30T22:23:44.233Z"
   },
   {
    "duration": 406,
    "start_time": "2022-01-30T22:23:44.245Z"
   },
   {
    "duration": 1787,
    "start_time": "2022-01-30T22:23:44.653Z"
   }
  ],
  "kernelspec": {
   "display_name": "Python 3",
   "language": "python",
   "name": "python3"
  },
  "language_info": {
   "codemirror_mode": {
    "name": "ipython",
    "version": 3
   },
   "file_extension": ".py",
   "mimetype": "text/x-python",
   "name": "python",
   "nbconvert_exporter": "python",
   "pygments_lexer": "ipython3",
   "version": "3.7.8"
  },
  "toc": {
   "base_numbering": 1,
   "nav_menu": {},
   "number_sections": true,
   "sideBar": true,
   "skip_h1_title": true,
   "title_cell": "Содержание",
   "title_sidebar": "Contents",
   "toc_cell": true,
   "toc_position": {
    "height": "calc(100% - 180px)",
    "left": "10px",
    "top": "150px",
    "width": "366.594px"
   },
   "toc_section_display": true,
   "toc_window_display": false
  }
 },
 "nbformat": 4,
 "nbformat_minor": 2
}
