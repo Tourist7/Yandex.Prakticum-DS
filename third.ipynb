{
 "cells": [
  {
   "cell_type": "markdown",
   "metadata": {},
   "source": [
    "<h1>Содержание<span class=\"tocSkip\"></span></h1>\n",
    "<div class=\"toc\"><ul class=\"toc-item\"><li><span><a href=\n",
    "                                                   "
   ]
  },
  {
   "cell_type": "markdown",
   "metadata": {},
   "source": [
    "## Описание проекта\n",
    "Определение перспективного тарифа для телеком-компании\n",
    "\n",
    "Клиентам предлагают два тарифных плана: «Смарт» и «Ультра». Чтобы скорректировать рекламный бюджет, коммерческий департамент хочет понять, какой тариф приносит больше денег.\n",
    "Предстоит сделать предварительный анализ тарифов на небольшой выборке клиентов. В вашем распоряжении данные 500 пользователей «Мегалайна»: кто они, откуда, каким тарифом пользуются, сколько звонков и сообщений каждый отправил за 2018 год. Нужно проанализировать поведение клиентов и сделать вывод — какой тариф лучше. \n",
    "\n",
    "# Описание тарифов\n",
    "Тариф «Смарт»\n",
    "Ежемесячная плата: 550 рублей\n",
    "Включено 500 минут разговора, 50 сообщений и 15 Гб интернет-трафика\n",
    "Стоимость услуг сверх тарифного пакета: 1. минута разговора: 3 рубля («Мегалайн» всегда округляет вверх значения минут и мегабайтов. Если пользователь проговорил всего 1 секунду, в тарифе засчитывается целая минута); 2. сообщение: 3 рубля; 3. 1 Гб интернет-трафика: 200 рублей.\n",
    "\n",
    "Тариф «Ультра»\n",
    "Ежемесячная плата: 1950 рублей\n",
    "Включено 3000 минут разговора, 1000 сообщений и 30 Гб интернет-трафика\n",
    "Стоимость услуг сверх тарифного пакета: 1. минута разговора: 1 рубль; 2. сообщение: 1 рубль; 3. 1 Гб интернет-трафика: 150 рублей."
   ]
  },
  {
   "cell_type": "markdown",
   "metadata": {},
   "source": [
    "## Изучение данных из полученных файлов"
   ]
  },
  {
   "cell_type": "code",
   "execution_count": 1,
   "metadata": {},
   "outputs": [],
   "source": [
    "import pandas as pd\n",
    "import matplotlib.pyplot as plt\n",
    "import numpy as np\n",
    "from scipy import stats as st"
   ]
  },
  {
   "cell_type": "code",
   "execution_count": 2,
   "metadata": {},
   "outputs": [],
   "source": [
    "df_calls = pd.read_csv('/datasets/calls.csv', sep=',')\n",
    "df_internet = pd.read_csv('/datasets/internet.csv', sep=',')\n",
    "df_messages = pd.read_csv('/datasets/messages.csv', sep=',')\n",
    "df_tariffs = pd.read_csv('/datasets/tariffs.csv', sep=',')\n",
    "df_users = pd.read_csv('/datasets/users.csv', sep=',')"
   ]
  },
  {
   "cell_type": "markdown",
   "metadata": {},
   "source": [
    "Напишим функцию для отображения информации о файле"
   ]
  },
  {
   "cell_type": "code",
   "execution_count": 3,
   "metadata": {},
   "outputs": [],
   "source": [
    "def table_look(table):\n",
    "    display(table.head())                   # отображение файла\n",
    "    print()\n",
    "    print(\"Информация о файле:\", \"\\n\")\n",
    "    display(table.info())                   # информация о файле\n",
    "    display(table.describe())               # значения файла\n",
    "    print(\"Наименование столбцов:\")\n",
    "    display(table.columns)                  # наименование столбцов\n",
    "    print()\n",
    "    print(\"Количество дубликатов:\")\n",
    "    display(table.duplicated().sum())       # проверка на наличие индексов"
   ]
  },
  {
   "cell_type": "markdown",
   "metadata": {},
   "source": [
    "Прочитаем и посмотрим таблицы."
   ]
  },
  {
   "cell_type": "code",
   "execution_count": 4,
   "metadata": {},
   "outputs": [
    {
     "data": {
      "text/html": [
       "<div>\n",
       "<style scoped>\n",
       "    .dataframe tbody tr th:only-of-type {\n",
       "        vertical-align: middle;\n",
       "    }\n",
       "\n",
       "    .dataframe tbody tr th {\n",
       "        vertical-align: top;\n",
       "    }\n",
       "\n",
       "    .dataframe thead th {\n",
       "        text-align: right;\n",
       "    }\n",
       "</style>\n",
       "<table border=\"1\" class=\"dataframe\">\n",
       "  <thead>\n",
       "    <tr style=\"text-align: right;\">\n",
       "      <th></th>\n",
       "      <th>id</th>\n",
       "      <th>call_date</th>\n",
       "      <th>duration</th>\n",
       "      <th>user_id</th>\n",
       "    </tr>\n",
       "  </thead>\n",
       "  <tbody>\n",
       "    <tr>\n",
       "      <td>0</td>\n",
       "      <td>1000_0</td>\n",
       "      <td>2018-07-25</td>\n",
       "      <td>0.00</td>\n",
       "      <td>1000</td>\n",
       "    </tr>\n",
       "    <tr>\n",
       "      <td>1</td>\n",
       "      <td>1000_1</td>\n",
       "      <td>2018-08-17</td>\n",
       "      <td>0.00</td>\n",
       "      <td>1000</td>\n",
       "    </tr>\n",
       "    <tr>\n",
       "      <td>2</td>\n",
       "      <td>1000_2</td>\n",
       "      <td>2018-06-11</td>\n",
       "      <td>2.85</td>\n",
       "      <td>1000</td>\n",
       "    </tr>\n",
       "    <tr>\n",
       "      <td>3</td>\n",
       "      <td>1000_3</td>\n",
       "      <td>2018-09-21</td>\n",
       "      <td>13.80</td>\n",
       "      <td>1000</td>\n",
       "    </tr>\n",
       "    <tr>\n",
       "      <td>4</td>\n",
       "      <td>1000_4</td>\n",
       "      <td>2018-12-15</td>\n",
       "      <td>5.18</td>\n",
       "      <td>1000</td>\n",
       "    </tr>\n",
       "  </tbody>\n",
       "</table>\n",
       "</div>"
      ],
      "text/plain": [
       "       id   call_date  duration  user_id\n",
       "0  1000_0  2018-07-25      0.00     1000\n",
       "1  1000_1  2018-08-17      0.00     1000\n",
       "2  1000_2  2018-06-11      2.85     1000\n",
       "3  1000_3  2018-09-21     13.80     1000\n",
       "4  1000_4  2018-12-15      5.18     1000"
      ]
     },
     "metadata": {},
     "output_type": "display_data"
    },
    {
     "name": "stdout",
     "output_type": "stream",
     "text": [
      "\n",
      "Информация о файле: \n",
      "\n",
      "<class 'pandas.core.frame.DataFrame'>\n",
      "RangeIndex: 202607 entries, 0 to 202606\n",
      "Data columns (total 4 columns):\n",
      "id           202607 non-null object\n",
      "call_date    202607 non-null object\n",
      "duration     202607 non-null float64\n",
      "user_id      202607 non-null int64\n",
      "dtypes: float64(1), int64(1), object(2)\n",
      "memory usage: 6.2+ MB\n"
     ]
    },
    {
     "data": {
      "text/plain": [
       "None"
      ]
     },
     "metadata": {},
     "output_type": "display_data"
    },
    {
     "data": {
      "text/html": [
       "<div>\n",
       "<style scoped>\n",
       "    .dataframe tbody tr th:only-of-type {\n",
       "        vertical-align: middle;\n",
       "    }\n",
       "\n",
       "    .dataframe tbody tr th {\n",
       "        vertical-align: top;\n",
       "    }\n",
       "\n",
       "    .dataframe thead th {\n",
       "        text-align: right;\n",
       "    }\n",
       "</style>\n",
       "<table border=\"1\" class=\"dataframe\">\n",
       "  <thead>\n",
       "    <tr style=\"text-align: right;\">\n",
       "      <th></th>\n",
       "      <th>duration</th>\n",
       "      <th>user_id</th>\n",
       "    </tr>\n",
       "  </thead>\n",
       "  <tbody>\n",
       "    <tr>\n",
       "      <td>count</td>\n",
       "      <td>202607.000000</td>\n",
       "      <td>202607.000000</td>\n",
       "    </tr>\n",
       "    <tr>\n",
       "      <td>mean</td>\n",
       "      <td>6.755887</td>\n",
       "      <td>1253.940619</td>\n",
       "    </tr>\n",
       "    <tr>\n",
       "      <td>std</td>\n",
       "      <td>5.843365</td>\n",
       "      <td>144.722751</td>\n",
       "    </tr>\n",
       "    <tr>\n",
       "      <td>min</td>\n",
       "      <td>0.000000</td>\n",
       "      <td>1000.000000</td>\n",
       "    </tr>\n",
       "    <tr>\n",
       "      <td>25%</td>\n",
       "      <td>1.300000</td>\n",
       "      <td>1126.000000</td>\n",
       "    </tr>\n",
       "    <tr>\n",
       "      <td>50%</td>\n",
       "      <td>6.000000</td>\n",
       "      <td>1260.000000</td>\n",
       "    </tr>\n",
       "    <tr>\n",
       "      <td>75%</td>\n",
       "      <td>10.700000</td>\n",
       "      <td>1379.000000</td>\n",
       "    </tr>\n",
       "    <tr>\n",
       "      <td>max</td>\n",
       "      <td>38.000000</td>\n",
       "      <td>1499.000000</td>\n",
       "    </tr>\n",
       "  </tbody>\n",
       "</table>\n",
       "</div>"
      ],
      "text/plain": [
       "            duration        user_id\n",
       "count  202607.000000  202607.000000\n",
       "mean        6.755887    1253.940619\n",
       "std         5.843365     144.722751\n",
       "min         0.000000    1000.000000\n",
       "25%         1.300000    1126.000000\n",
       "50%         6.000000    1260.000000\n",
       "75%        10.700000    1379.000000\n",
       "max        38.000000    1499.000000"
      ]
     },
     "metadata": {},
     "output_type": "display_data"
    },
    {
     "name": "stdout",
     "output_type": "stream",
     "text": [
      "Наименование столбцов:\n"
     ]
    },
    {
     "data": {
      "text/plain": [
       "Index(['id', 'call_date', 'duration', 'user_id'], dtype='object')"
      ]
     },
     "metadata": {},
     "output_type": "display_data"
    },
    {
     "name": "stdout",
     "output_type": "stream",
     "text": [
      "\n",
      "Количество дубликатов:\n"
     ]
    },
    {
     "data": {
      "text/plain": [
       "0"
      ]
     },
     "metadata": {},
     "output_type": "display_data"
    }
   ],
   "source": [
    "table_look(df_calls)"
   ]
  },
  {
   "cell_type": "markdown",
   "metadata": {},
   "source": [
    "В файле 4 столбца по 202697 строк. Есть звонки длительностью 0 секунд. Наименование столбцов правильное.\n",
    "Необходимо изменить тип столбцов id и call_date, также необходимо округлить столбец со значениями длительности звонка до целых минут в большую сторону, а также изменить его тип на целый."
   ]
  },
  {
   "cell_type": "markdown",
   "metadata": {},
   "source": [
    "Посмотрели на выпадающие значения, все хорошо. Максимальная длительность звонка 38 минут, средняя 7 минут"
   ]
  },
  {
   "cell_type": "code",
   "execution_count": 5,
   "metadata": {},
   "outputs": [
    {
     "data": {
      "text/html": [
       "<div>\n",
       "<style scoped>\n",
       "    .dataframe tbody tr th:only-of-type {\n",
       "        vertical-align: middle;\n",
       "    }\n",
       "\n",
       "    .dataframe tbody tr th {\n",
       "        vertical-align: top;\n",
       "    }\n",
       "\n",
       "    .dataframe thead th {\n",
       "        text-align: right;\n",
       "    }\n",
       "</style>\n",
       "<table border=\"1\" class=\"dataframe\">\n",
       "  <thead>\n",
       "    <tr style=\"text-align: right;\">\n",
       "      <th></th>\n",
       "      <th>id</th>\n",
       "      <th>message_date</th>\n",
       "      <th>user_id</th>\n",
       "    </tr>\n",
       "  </thead>\n",
       "  <tbody>\n",
       "    <tr>\n",
       "      <td>0</td>\n",
       "      <td>1000_0</td>\n",
       "      <td>2018-06-27</td>\n",
       "      <td>1000</td>\n",
       "    </tr>\n",
       "    <tr>\n",
       "      <td>1</td>\n",
       "      <td>1000_1</td>\n",
       "      <td>2018-10-08</td>\n",
       "      <td>1000</td>\n",
       "    </tr>\n",
       "    <tr>\n",
       "      <td>2</td>\n",
       "      <td>1000_2</td>\n",
       "      <td>2018-08-04</td>\n",
       "      <td>1000</td>\n",
       "    </tr>\n",
       "    <tr>\n",
       "      <td>3</td>\n",
       "      <td>1000_3</td>\n",
       "      <td>2018-06-16</td>\n",
       "      <td>1000</td>\n",
       "    </tr>\n",
       "    <tr>\n",
       "      <td>4</td>\n",
       "      <td>1000_4</td>\n",
       "      <td>2018-12-05</td>\n",
       "      <td>1000</td>\n",
       "    </tr>\n",
       "  </tbody>\n",
       "</table>\n",
       "</div>"
      ],
      "text/plain": [
       "       id message_date  user_id\n",
       "0  1000_0   2018-06-27     1000\n",
       "1  1000_1   2018-10-08     1000\n",
       "2  1000_2   2018-08-04     1000\n",
       "3  1000_3   2018-06-16     1000\n",
       "4  1000_4   2018-12-05     1000"
      ]
     },
     "metadata": {},
     "output_type": "display_data"
    },
    {
     "name": "stdout",
     "output_type": "stream",
     "text": [
      "\n",
      "Информация о файле: \n",
      "\n",
      "<class 'pandas.core.frame.DataFrame'>\n",
      "RangeIndex: 123036 entries, 0 to 123035\n",
      "Data columns (total 3 columns):\n",
      "id              123036 non-null object\n",
      "message_date    123036 non-null object\n",
      "user_id         123036 non-null int64\n",
      "dtypes: int64(1), object(2)\n",
      "memory usage: 2.8+ MB\n"
     ]
    },
    {
     "data": {
      "text/plain": [
       "None"
      ]
     },
     "metadata": {},
     "output_type": "display_data"
    },
    {
     "data": {
      "text/html": [
       "<div>\n",
       "<style scoped>\n",
       "    .dataframe tbody tr th:only-of-type {\n",
       "        vertical-align: middle;\n",
       "    }\n",
       "\n",
       "    .dataframe tbody tr th {\n",
       "        vertical-align: top;\n",
       "    }\n",
       "\n",
       "    .dataframe thead th {\n",
       "        text-align: right;\n",
       "    }\n",
       "</style>\n",
       "<table border=\"1\" class=\"dataframe\">\n",
       "  <thead>\n",
       "    <tr style=\"text-align: right;\">\n",
       "      <th></th>\n",
       "      <th>user_id</th>\n",
       "    </tr>\n",
       "  </thead>\n",
       "  <tbody>\n",
       "    <tr>\n",
       "      <td>count</td>\n",
       "      <td>123036.000000</td>\n",
       "    </tr>\n",
       "    <tr>\n",
       "      <td>mean</td>\n",
       "      <td>1256.989410</td>\n",
       "    </tr>\n",
       "    <tr>\n",
       "      <td>std</td>\n",
       "      <td>143.523967</td>\n",
       "    </tr>\n",
       "    <tr>\n",
       "      <td>min</td>\n",
       "      <td>1000.000000</td>\n",
       "    </tr>\n",
       "    <tr>\n",
       "      <td>25%</td>\n",
       "      <td>1134.000000</td>\n",
       "    </tr>\n",
       "    <tr>\n",
       "      <td>50%</td>\n",
       "      <td>1271.000000</td>\n",
       "    </tr>\n",
       "    <tr>\n",
       "      <td>75%</td>\n",
       "      <td>1381.000000</td>\n",
       "    </tr>\n",
       "    <tr>\n",
       "      <td>max</td>\n",
       "      <td>1499.000000</td>\n",
       "    </tr>\n",
       "  </tbody>\n",
       "</table>\n",
       "</div>"
      ],
      "text/plain": [
       "             user_id\n",
       "count  123036.000000\n",
       "mean     1256.989410\n",
       "std       143.523967\n",
       "min      1000.000000\n",
       "25%      1134.000000\n",
       "50%      1271.000000\n",
       "75%      1381.000000\n",
       "max      1499.000000"
      ]
     },
     "metadata": {},
     "output_type": "display_data"
    },
    {
     "name": "stdout",
     "output_type": "stream",
     "text": [
      "Наименование столбцов:\n"
     ]
    },
    {
     "data": {
      "text/plain": [
       "Index(['id', 'message_date', 'user_id'], dtype='object')"
      ]
     },
     "metadata": {},
     "output_type": "display_data"
    },
    {
     "name": "stdout",
     "output_type": "stream",
     "text": [
      "\n",
      "Количество дубликатов:\n"
     ]
    },
    {
     "data": {
      "text/plain": [
       "0"
      ]
     },
     "metadata": {},
     "output_type": "display_data"
    }
   ],
   "source": [
    "table_look(df_messages)"
   ]
  },
  {
   "cell_type": "markdown",
   "metadata": {},
   "source": [
    "Посмотрели на выпадающие значения, все хорошо."
   ]
  },
  {
   "cell_type": "markdown",
   "metadata": {},
   "source": [
    "Видим в df_messages 123036 записи и 3 столбца, что наименование столбцов правильное. Необходимо изменить тип столбцов id и message_date. "
   ]
  },
  {
   "cell_type": "code",
   "execution_count": 6,
   "metadata": {},
   "outputs": [
    {
     "data": {
      "text/html": [
       "<div>\n",
       "<style scoped>\n",
       "    .dataframe tbody tr th:only-of-type {\n",
       "        vertical-align: middle;\n",
       "    }\n",
       "\n",
       "    .dataframe tbody tr th {\n",
       "        vertical-align: top;\n",
       "    }\n",
       "\n",
       "    .dataframe thead th {\n",
       "        text-align: right;\n",
       "    }\n",
       "</style>\n",
       "<table border=\"1\" class=\"dataframe\">\n",
       "  <thead>\n",
       "    <tr style=\"text-align: right;\">\n",
       "      <th></th>\n",
       "      <th>Unnamed: 0</th>\n",
       "      <th>id</th>\n",
       "      <th>mb_used</th>\n",
       "      <th>session_date</th>\n",
       "      <th>user_id</th>\n",
       "    </tr>\n",
       "  </thead>\n",
       "  <tbody>\n",
       "    <tr>\n",
       "      <td>0</td>\n",
       "      <td>0</td>\n",
       "      <td>1000_0</td>\n",
       "      <td>112.95</td>\n",
       "      <td>2018-11-25</td>\n",
       "      <td>1000</td>\n",
       "    </tr>\n",
       "    <tr>\n",
       "      <td>1</td>\n",
       "      <td>1</td>\n",
       "      <td>1000_1</td>\n",
       "      <td>1052.81</td>\n",
       "      <td>2018-09-07</td>\n",
       "      <td>1000</td>\n",
       "    </tr>\n",
       "    <tr>\n",
       "      <td>2</td>\n",
       "      <td>2</td>\n",
       "      <td>1000_2</td>\n",
       "      <td>1197.26</td>\n",
       "      <td>2018-06-25</td>\n",
       "      <td>1000</td>\n",
       "    </tr>\n",
       "    <tr>\n",
       "      <td>3</td>\n",
       "      <td>3</td>\n",
       "      <td>1000_3</td>\n",
       "      <td>550.27</td>\n",
       "      <td>2018-08-22</td>\n",
       "      <td>1000</td>\n",
       "    </tr>\n",
       "    <tr>\n",
       "      <td>4</td>\n",
       "      <td>4</td>\n",
       "      <td>1000_4</td>\n",
       "      <td>302.56</td>\n",
       "      <td>2018-09-24</td>\n",
       "      <td>1000</td>\n",
       "    </tr>\n",
       "  </tbody>\n",
       "</table>\n",
       "</div>"
      ],
      "text/plain": [
       "   Unnamed: 0      id  mb_used session_date  user_id\n",
       "0           0  1000_0   112.95   2018-11-25     1000\n",
       "1           1  1000_1  1052.81   2018-09-07     1000\n",
       "2           2  1000_2  1197.26   2018-06-25     1000\n",
       "3           3  1000_3   550.27   2018-08-22     1000\n",
       "4           4  1000_4   302.56   2018-09-24     1000"
      ]
     },
     "metadata": {},
     "output_type": "display_data"
    },
    {
     "name": "stdout",
     "output_type": "stream",
     "text": [
      "\n",
      "Информация о файле: \n",
      "\n",
      "<class 'pandas.core.frame.DataFrame'>\n",
      "RangeIndex: 149396 entries, 0 to 149395\n",
      "Data columns (total 5 columns):\n",
      "Unnamed: 0      149396 non-null int64\n",
      "id              149396 non-null object\n",
      "mb_used         149396 non-null float64\n",
      "session_date    149396 non-null object\n",
      "user_id         149396 non-null int64\n",
      "dtypes: float64(1), int64(2), object(2)\n",
      "memory usage: 5.7+ MB\n"
     ]
    },
    {
     "data": {
      "text/plain": [
       "None"
      ]
     },
     "metadata": {},
     "output_type": "display_data"
    },
    {
     "data": {
      "text/html": [
       "<div>\n",
       "<style scoped>\n",
       "    .dataframe tbody tr th:only-of-type {\n",
       "        vertical-align: middle;\n",
       "    }\n",
       "\n",
       "    .dataframe tbody tr th {\n",
       "        vertical-align: top;\n",
       "    }\n",
       "\n",
       "    .dataframe thead th {\n",
       "        text-align: right;\n",
       "    }\n",
       "</style>\n",
       "<table border=\"1\" class=\"dataframe\">\n",
       "  <thead>\n",
       "    <tr style=\"text-align: right;\">\n",
       "      <th></th>\n",
       "      <th>Unnamed: 0</th>\n",
       "      <th>mb_used</th>\n",
       "      <th>user_id</th>\n",
       "    </tr>\n",
       "  </thead>\n",
       "  <tbody>\n",
       "    <tr>\n",
       "      <td>count</td>\n",
       "      <td>149396.000000</td>\n",
       "      <td>149396.000000</td>\n",
       "      <td>149396.000000</td>\n",
       "    </tr>\n",
       "    <tr>\n",
       "      <td>mean</td>\n",
       "      <td>74697.500000</td>\n",
       "      <td>370.192426</td>\n",
       "      <td>1252.099842</td>\n",
       "    </tr>\n",
       "    <tr>\n",
       "      <td>std</td>\n",
       "      <td>43127.054745</td>\n",
       "      <td>278.300951</td>\n",
       "      <td>144.050823</td>\n",
       "    </tr>\n",
       "    <tr>\n",
       "      <td>min</td>\n",
       "      <td>0.000000</td>\n",
       "      <td>0.000000</td>\n",
       "      <td>1000.000000</td>\n",
       "    </tr>\n",
       "    <tr>\n",
       "      <td>25%</td>\n",
       "      <td>37348.750000</td>\n",
       "      <td>138.187500</td>\n",
       "      <td>1130.000000</td>\n",
       "    </tr>\n",
       "    <tr>\n",
       "      <td>50%</td>\n",
       "      <td>74697.500000</td>\n",
       "      <td>348.015000</td>\n",
       "      <td>1251.000000</td>\n",
       "    </tr>\n",
       "    <tr>\n",
       "      <td>75%</td>\n",
       "      <td>112046.250000</td>\n",
       "      <td>559.552500</td>\n",
       "      <td>1380.000000</td>\n",
       "    </tr>\n",
       "    <tr>\n",
       "      <td>max</td>\n",
       "      <td>149395.000000</td>\n",
       "      <td>1724.830000</td>\n",
       "      <td>1499.000000</td>\n",
       "    </tr>\n",
       "  </tbody>\n",
       "</table>\n",
       "</div>"
      ],
      "text/plain": [
       "          Unnamed: 0        mb_used        user_id\n",
       "count  149396.000000  149396.000000  149396.000000\n",
       "mean    74697.500000     370.192426    1252.099842\n",
       "std     43127.054745     278.300951     144.050823\n",
       "min         0.000000       0.000000    1000.000000\n",
       "25%     37348.750000     138.187500    1130.000000\n",
       "50%     74697.500000     348.015000    1251.000000\n",
       "75%    112046.250000     559.552500    1380.000000\n",
       "max    149395.000000    1724.830000    1499.000000"
      ]
     },
     "metadata": {},
     "output_type": "display_data"
    },
    {
     "name": "stdout",
     "output_type": "stream",
     "text": [
      "Наименование столбцов:\n"
     ]
    },
    {
     "data": {
      "text/plain": [
       "Index(['Unnamed: 0', 'id', 'mb_used', 'session_date', 'user_id'], dtype='object')"
      ]
     },
     "metadata": {},
     "output_type": "display_data"
    },
    {
     "name": "stdout",
     "output_type": "stream",
     "text": [
      "\n",
      "Количество дубликатов:\n"
     ]
    },
    {
     "data": {
      "text/plain": [
       "0"
      ]
     },
     "metadata": {},
     "output_type": "display_data"
    }
   ],
   "source": [
    "table_look(df_internet)"
   ]
  },
  {
   "cell_type": "markdown",
   "metadata": {},
   "source": [
    "Видим в df_internet 149396 записи и 5 столбцов, что наименование столбцов правильное. Необходимо изменить тип столбцов id и session_date, а также округлить значения мегабайт в большую сторону."
   ]
  },
  {
   "cell_type": "code",
   "execution_count": 7,
   "metadata": {},
   "outputs": [
    {
     "data": {
      "text/html": [
       "<div>\n",
       "<style scoped>\n",
       "    .dataframe tbody tr th:only-of-type {\n",
       "        vertical-align: middle;\n",
       "    }\n",
       "\n",
       "    .dataframe tbody tr th {\n",
       "        vertical-align: top;\n",
       "    }\n",
       "\n",
       "    .dataframe thead th {\n",
       "        text-align: right;\n",
       "    }\n",
       "</style>\n",
       "<table border=\"1\" class=\"dataframe\">\n",
       "  <thead>\n",
       "    <tr style=\"text-align: right;\">\n",
       "      <th></th>\n",
       "      <th>messages_included</th>\n",
       "      <th>mb_per_month_included</th>\n",
       "      <th>minutes_included</th>\n",
       "      <th>rub_monthly_fee</th>\n",
       "      <th>rub_per_gb</th>\n",
       "      <th>rub_per_message</th>\n",
       "      <th>rub_per_minute</th>\n",
       "      <th>tariff_name</th>\n",
       "    </tr>\n",
       "  </thead>\n",
       "  <tbody>\n",
       "    <tr>\n",
       "      <td>0</td>\n",
       "      <td>50</td>\n",
       "      <td>15360</td>\n",
       "      <td>500</td>\n",
       "      <td>550</td>\n",
       "      <td>200</td>\n",
       "      <td>3</td>\n",
       "      <td>3</td>\n",
       "      <td>smart</td>\n",
       "    </tr>\n",
       "    <tr>\n",
       "      <td>1</td>\n",
       "      <td>1000</td>\n",
       "      <td>30720</td>\n",
       "      <td>3000</td>\n",
       "      <td>1950</td>\n",
       "      <td>150</td>\n",
       "      <td>1</td>\n",
       "      <td>1</td>\n",
       "      <td>ultra</td>\n",
       "    </tr>\n",
       "  </tbody>\n",
       "</table>\n",
       "</div>"
      ],
      "text/plain": [
       "   messages_included  mb_per_month_included  minutes_included  \\\n",
       "0                 50                  15360               500   \n",
       "1               1000                  30720              3000   \n",
       "\n",
       "   rub_monthly_fee  rub_per_gb  rub_per_message  rub_per_minute tariff_name  \n",
       "0              550         200                3               3       smart  \n",
       "1             1950         150                1               1       ultra  "
      ]
     },
     "metadata": {},
     "output_type": "display_data"
    },
    {
     "name": "stdout",
     "output_type": "stream",
     "text": [
      "\n",
      "Информация о файле: \n",
      "\n",
      "<class 'pandas.core.frame.DataFrame'>\n",
      "RangeIndex: 2 entries, 0 to 1\n",
      "Data columns (total 8 columns):\n",
      "messages_included        2 non-null int64\n",
      "mb_per_month_included    2 non-null int64\n",
      "minutes_included         2 non-null int64\n",
      "rub_monthly_fee          2 non-null int64\n",
      "rub_per_gb               2 non-null int64\n",
      "rub_per_message          2 non-null int64\n",
      "rub_per_minute           2 non-null int64\n",
      "tariff_name              2 non-null object\n",
      "dtypes: int64(7), object(1)\n",
      "memory usage: 256.0+ bytes\n"
     ]
    },
    {
     "data": {
      "text/plain": [
       "None"
      ]
     },
     "metadata": {},
     "output_type": "display_data"
    },
    {
     "data": {
      "text/html": [
       "<div>\n",
       "<style scoped>\n",
       "    .dataframe tbody tr th:only-of-type {\n",
       "        vertical-align: middle;\n",
       "    }\n",
       "\n",
       "    .dataframe tbody tr th {\n",
       "        vertical-align: top;\n",
       "    }\n",
       "\n",
       "    .dataframe thead th {\n",
       "        text-align: right;\n",
       "    }\n",
       "</style>\n",
       "<table border=\"1\" class=\"dataframe\">\n",
       "  <thead>\n",
       "    <tr style=\"text-align: right;\">\n",
       "      <th></th>\n",
       "      <th>messages_included</th>\n",
       "      <th>mb_per_month_included</th>\n",
       "      <th>minutes_included</th>\n",
       "      <th>rub_monthly_fee</th>\n",
       "      <th>rub_per_gb</th>\n",
       "      <th>rub_per_message</th>\n",
       "      <th>rub_per_minute</th>\n",
       "    </tr>\n",
       "  </thead>\n",
       "  <tbody>\n",
       "    <tr>\n",
       "      <td>count</td>\n",
       "      <td>2.000000</td>\n",
       "      <td>2.000000</td>\n",
       "      <td>2.000000</td>\n",
       "      <td>2.000000</td>\n",
       "      <td>2.000000</td>\n",
       "      <td>2.000000</td>\n",
       "      <td>2.000000</td>\n",
       "    </tr>\n",
       "    <tr>\n",
       "      <td>mean</td>\n",
       "      <td>525.000000</td>\n",
       "      <td>23040.000000</td>\n",
       "      <td>1750.000000</td>\n",
       "      <td>1250.000000</td>\n",
       "      <td>175.000000</td>\n",
       "      <td>2.000000</td>\n",
       "      <td>2.000000</td>\n",
       "    </tr>\n",
       "    <tr>\n",
       "      <td>std</td>\n",
       "      <td>671.751442</td>\n",
       "      <td>10861.160159</td>\n",
       "      <td>1767.766953</td>\n",
       "      <td>989.949494</td>\n",
       "      <td>35.355339</td>\n",
       "      <td>1.414214</td>\n",
       "      <td>1.414214</td>\n",
       "    </tr>\n",
       "    <tr>\n",
       "      <td>min</td>\n",
       "      <td>50.000000</td>\n",
       "      <td>15360.000000</td>\n",
       "      <td>500.000000</td>\n",
       "      <td>550.000000</td>\n",
       "      <td>150.000000</td>\n",
       "      <td>1.000000</td>\n",
       "      <td>1.000000</td>\n",
       "    </tr>\n",
       "    <tr>\n",
       "      <td>25%</td>\n",
       "      <td>287.500000</td>\n",
       "      <td>19200.000000</td>\n",
       "      <td>1125.000000</td>\n",
       "      <td>900.000000</td>\n",
       "      <td>162.500000</td>\n",
       "      <td>1.500000</td>\n",
       "      <td>1.500000</td>\n",
       "    </tr>\n",
       "    <tr>\n",
       "      <td>50%</td>\n",
       "      <td>525.000000</td>\n",
       "      <td>23040.000000</td>\n",
       "      <td>1750.000000</td>\n",
       "      <td>1250.000000</td>\n",
       "      <td>175.000000</td>\n",
       "      <td>2.000000</td>\n",
       "      <td>2.000000</td>\n",
       "    </tr>\n",
       "    <tr>\n",
       "      <td>75%</td>\n",
       "      <td>762.500000</td>\n",
       "      <td>26880.000000</td>\n",
       "      <td>2375.000000</td>\n",
       "      <td>1600.000000</td>\n",
       "      <td>187.500000</td>\n",
       "      <td>2.500000</td>\n",
       "      <td>2.500000</td>\n",
       "    </tr>\n",
       "    <tr>\n",
       "      <td>max</td>\n",
       "      <td>1000.000000</td>\n",
       "      <td>30720.000000</td>\n",
       "      <td>3000.000000</td>\n",
       "      <td>1950.000000</td>\n",
       "      <td>200.000000</td>\n",
       "      <td>3.000000</td>\n",
       "      <td>3.000000</td>\n",
       "    </tr>\n",
       "  </tbody>\n",
       "</table>\n",
       "</div>"
      ],
      "text/plain": [
       "       messages_included  mb_per_month_included  minutes_included  \\\n",
       "count           2.000000               2.000000          2.000000   \n",
       "mean          525.000000           23040.000000       1750.000000   \n",
       "std           671.751442           10861.160159       1767.766953   \n",
       "min            50.000000           15360.000000        500.000000   \n",
       "25%           287.500000           19200.000000       1125.000000   \n",
       "50%           525.000000           23040.000000       1750.000000   \n",
       "75%           762.500000           26880.000000       2375.000000   \n",
       "max          1000.000000           30720.000000       3000.000000   \n",
       "\n",
       "       rub_monthly_fee  rub_per_gb  rub_per_message  rub_per_minute  \n",
       "count         2.000000    2.000000         2.000000        2.000000  \n",
       "mean       1250.000000  175.000000         2.000000        2.000000  \n",
       "std         989.949494   35.355339         1.414214        1.414214  \n",
       "min         550.000000  150.000000         1.000000        1.000000  \n",
       "25%         900.000000  162.500000         1.500000        1.500000  \n",
       "50%        1250.000000  175.000000         2.000000        2.000000  \n",
       "75%        1600.000000  187.500000         2.500000        2.500000  \n",
       "max        1950.000000  200.000000         3.000000        3.000000  "
      ]
     },
     "metadata": {},
     "output_type": "display_data"
    },
    {
     "name": "stdout",
     "output_type": "stream",
     "text": [
      "Наименование столбцов:\n"
     ]
    },
    {
     "data": {
      "text/plain": [
       "Index(['messages_included', 'mb_per_month_included', 'minutes_included',\n",
       "       'rub_monthly_fee', 'rub_per_gb', 'rub_per_message', 'rub_per_minute',\n",
       "       'tariff_name'],\n",
       "      dtype='object')"
      ]
     },
     "metadata": {},
     "output_type": "display_data"
    },
    {
     "name": "stdout",
     "output_type": "stream",
     "text": [
      "\n",
      "Количество дубликатов:\n"
     ]
    },
    {
     "data": {
      "text/plain": [
       "0"
      ]
     },
     "metadata": {},
     "output_type": "display_data"
    }
   ],
   "source": [
    "table_look(df_tariffs)"
   ]
  },
  {
   "cell_type": "markdown",
   "metadata": {},
   "source": [
    "Видим в df_tariffs 2 записи и 8 столбцов, что наименование столбцов правильное. "
   ]
  },
  {
   "cell_type": "code",
   "execution_count": 8,
   "metadata": {},
   "outputs": [
    {
     "data": {
      "text/html": [
       "<div>\n",
       "<style scoped>\n",
       "    .dataframe tbody tr th:only-of-type {\n",
       "        vertical-align: middle;\n",
       "    }\n",
       "\n",
       "    .dataframe tbody tr th {\n",
       "        vertical-align: top;\n",
       "    }\n",
       "\n",
       "    .dataframe thead th {\n",
       "        text-align: right;\n",
       "    }\n",
       "</style>\n",
       "<table border=\"1\" class=\"dataframe\">\n",
       "  <thead>\n",
       "    <tr style=\"text-align: right;\">\n",
       "      <th></th>\n",
       "      <th>user_id</th>\n",
       "      <th>age</th>\n",
       "      <th>churn_date</th>\n",
       "      <th>city</th>\n",
       "      <th>first_name</th>\n",
       "      <th>last_name</th>\n",
       "      <th>reg_date</th>\n",
       "      <th>tariff</th>\n",
       "    </tr>\n",
       "  </thead>\n",
       "  <tbody>\n",
       "    <tr>\n",
       "      <td>0</td>\n",
       "      <td>1000</td>\n",
       "      <td>52</td>\n",
       "      <td>NaN</td>\n",
       "      <td>Краснодар</td>\n",
       "      <td>Рафаил</td>\n",
       "      <td>Верещагин</td>\n",
       "      <td>2018-05-25</td>\n",
       "      <td>ultra</td>\n",
       "    </tr>\n",
       "    <tr>\n",
       "      <td>1</td>\n",
       "      <td>1001</td>\n",
       "      <td>41</td>\n",
       "      <td>NaN</td>\n",
       "      <td>Москва</td>\n",
       "      <td>Иван</td>\n",
       "      <td>Ежов</td>\n",
       "      <td>2018-11-01</td>\n",
       "      <td>smart</td>\n",
       "    </tr>\n",
       "    <tr>\n",
       "      <td>2</td>\n",
       "      <td>1002</td>\n",
       "      <td>59</td>\n",
       "      <td>NaN</td>\n",
       "      <td>Стерлитамак</td>\n",
       "      <td>Евгений</td>\n",
       "      <td>Абрамович</td>\n",
       "      <td>2018-06-17</td>\n",
       "      <td>smart</td>\n",
       "    </tr>\n",
       "    <tr>\n",
       "      <td>3</td>\n",
       "      <td>1003</td>\n",
       "      <td>23</td>\n",
       "      <td>NaN</td>\n",
       "      <td>Москва</td>\n",
       "      <td>Белла</td>\n",
       "      <td>Белякова</td>\n",
       "      <td>2018-08-17</td>\n",
       "      <td>ultra</td>\n",
       "    </tr>\n",
       "    <tr>\n",
       "      <td>4</td>\n",
       "      <td>1004</td>\n",
       "      <td>68</td>\n",
       "      <td>NaN</td>\n",
       "      <td>Новокузнецк</td>\n",
       "      <td>Татьяна</td>\n",
       "      <td>Авдеенко</td>\n",
       "      <td>2018-05-14</td>\n",
       "      <td>ultra</td>\n",
       "    </tr>\n",
       "  </tbody>\n",
       "</table>\n",
       "</div>"
      ],
      "text/plain": [
       "   user_id  age churn_date         city first_name  last_name    reg_date  \\\n",
       "0     1000   52        NaN    Краснодар     Рафаил  Верещагин  2018-05-25   \n",
       "1     1001   41        NaN       Москва       Иван       Ежов  2018-11-01   \n",
       "2     1002   59        NaN  Стерлитамак    Евгений  Абрамович  2018-06-17   \n",
       "3     1003   23        NaN       Москва      Белла   Белякова  2018-08-17   \n",
       "4     1004   68        NaN  Новокузнецк    Татьяна   Авдеенко  2018-05-14   \n",
       "\n",
       "  tariff  \n",
       "0  ultra  \n",
       "1  smart  \n",
       "2  smart  \n",
       "3  ultra  \n",
       "4  ultra  "
      ]
     },
     "metadata": {},
     "output_type": "display_data"
    },
    {
     "name": "stdout",
     "output_type": "stream",
     "text": [
      "\n",
      "Информация о файле: \n",
      "\n",
      "<class 'pandas.core.frame.DataFrame'>\n",
      "RangeIndex: 500 entries, 0 to 499\n",
      "Data columns (total 8 columns):\n",
      "user_id       500 non-null int64\n",
      "age           500 non-null int64\n",
      "churn_date    38 non-null object\n",
      "city          500 non-null object\n",
      "first_name    500 non-null object\n",
      "last_name     500 non-null object\n",
      "reg_date      500 non-null object\n",
      "tariff        500 non-null object\n",
      "dtypes: int64(2), object(6)\n",
      "memory usage: 31.4+ KB\n"
     ]
    },
    {
     "data": {
      "text/plain": [
       "None"
      ]
     },
     "metadata": {},
     "output_type": "display_data"
    },
    {
     "data": {
      "text/html": [
       "<div>\n",
       "<style scoped>\n",
       "    .dataframe tbody tr th:only-of-type {\n",
       "        vertical-align: middle;\n",
       "    }\n",
       "\n",
       "    .dataframe tbody tr th {\n",
       "        vertical-align: top;\n",
       "    }\n",
       "\n",
       "    .dataframe thead th {\n",
       "        text-align: right;\n",
       "    }\n",
       "</style>\n",
       "<table border=\"1\" class=\"dataframe\">\n",
       "  <thead>\n",
       "    <tr style=\"text-align: right;\">\n",
       "      <th></th>\n",
       "      <th>user_id</th>\n",
       "      <th>age</th>\n",
       "    </tr>\n",
       "  </thead>\n",
       "  <tbody>\n",
       "    <tr>\n",
       "      <td>count</td>\n",
       "      <td>500.000000</td>\n",
       "      <td>500.00000</td>\n",
       "    </tr>\n",
       "    <tr>\n",
       "      <td>mean</td>\n",
       "      <td>1249.500000</td>\n",
       "      <td>46.58800</td>\n",
       "    </tr>\n",
       "    <tr>\n",
       "      <td>std</td>\n",
       "      <td>144.481833</td>\n",
       "      <td>16.66763</td>\n",
       "    </tr>\n",
       "    <tr>\n",
       "      <td>min</td>\n",
       "      <td>1000.000000</td>\n",
       "      <td>18.00000</td>\n",
       "    </tr>\n",
       "    <tr>\n",
       "      <td>25%</td>\n",
       "      <td>1124.750000</td>\n",
       "      <td>32.00000</td>\n",
       "    </tr>\n",
       "    <tr>\n",
       "      <td>50%</td>\n",
       "      <td>1249.500000</td>\n",
       "      <td>46.00000</td>\n",
       "    </tr>\n",
       "    <tr>\n",
       "      <td>75%</td>\n",
       "      <td>1374.250000</td>\n",
       "      <td>62.00000</td>\n",
       "    </tr>\n",
       "    <tr>\n",
       "      <td>max</td>\n",
       "      <td>1499.000000</td>\n",
       "      <td>75.00000</td>\n",
       "    </tr>\n",
       "  </tbody>\n",
       "</table>\n",
       "</div>"
      ],
      "text/plain": [
       "           user_id        age\n",
       "count   500.000000  500.00000\n",
       "mean   1249.500000   46.58800\n",
       "std     144.481833   16.66763\n",
       "min    1000.000000   18.00000\n",
       "25%    1124.750000   32.00000\n",
       "50%    1249.500000   46.00000\n",
       "75%    1374.250000   62.00000\n",
       "max    1499.000000   75.00000"
      ]
     },
     "metadata": {},
     "output_type": "display_data"
    },
    {
     "name": "stdout",
     "output_type": "stream",
     "text": [
      "Наименование столбцов:\n"
     ]
    },
    {
     "data": {
      "text/plain": [
       "Index(['user_id', 'age', 'churn_date', 'city', 'first_name', 'last_name',\n",
       "       'reg_date', 'tariff'],\n",
       "      dtype='object')"
      ]
     },
     "metadata": {},
     "output_type": "display_data"
    },
    {
     "name": "stdout",
     "output_type": "stream",
     "text": [
      "\n",
      "Количество дубликатов:\n"
     ]
    },
    {
     "data": {
      "text/plain": [
       "0"
      ]
     },
     "metadata": {},
     "output_type": "display_data"
    }
   ],
   "source": [
    "table_look(df_users)"
   ]
  },
  {
   "cell_type": "markdown",
   "metadata": {},
   "source": [
    "Видим средний возраст в 46.5 лет, максимальный в 75 лет"
   ]
  },
  {
   "cell_type": "markdown",
   "metadata": {},
   "source": [
    "Проверяем на наличие дубликатов. Дубликатов нет."
   ]
  },
  {
   "cell_type": "markdown",
   "metadata": {},
   "source": [
    "Видим в df_users 500 записей и 8 столбцов, что наименование столбцов правильное. Необходимо изменить тип столбцов churn_date, reg_date. \n",
    "\n",
    "По этому файлу можем сделать вывод, что перед нами выгрузка по 500-м клиентам оператора из разных городов, в том числе и 38, которые тарифом уже не пользуются."
   ]
  },
  {
   "cell_type": "markdown",
   "metadata": {},
   "source": [
    "### Вывод по изучению полученных файлов.\n",
    "    \n",
    "Перед нами выгрузка на 500 клиентов сотового оператора. Для дальнейшего решения поставленных задач необходимо привести предобработку данных.\n",
    "Посмотрели и увидели во всех датасетах есть столбец user-id, по описанию проекта - уникальный идентификатор пользователя, по этому столбцу будем связывать таблицы для удобства работы. \n",
    "Название всех столбцов правильное.\n",
    "Необходимо будем изменить тип столбцов на подходящий."
   ]
  },
  {
   "cell_type": "markdown",
   "metadata": {},
   "source": [
    "## Предобработка данных"
   ]
  },
  {
   "cell_type": "markdown",
   "metadata": {},
   "source": [
    "### Df_calls - устраним найденные ранее замечания"
   ]
  },
  {
   "cell_type": "markdown",
   "metadata": {},
   "source": [
    "Необходимо изменить тип столбцов id и call_date, также необходимо округлить столбец со значениями длительности звонка до целых минут в большую сторону, а также изменить его тип на целый "
   ]
  },
  {
   "cell_type": "code",
   "execution_count": 9,
   "metadata": {},
   "outputs": [
    {
     "data": {
      "text/plain": [
       "month        0\n",
       "user_id      0\n",
       "duration     0\n",
       "call_date    0\n",
       "id           0\n",
       "dtype: int64"
      ]
     },
     "execution_count": 9,
     "metadata": {},
     "output_type": "execute_result"
    }
   ],
   "source": [
    "#df_calls['id']=df_calls['id'].astype('int64')                      # заменяем тип данных на целый в столбце \n",
    "df_calls['call_date'] = pd.to_datetime(df_calls['call_date'])       # изменим тип данных на дату\n",
    "df_calls['month'] = df_calls['call_date'].dt.month                  # добавим столбец с месяцем\n",
    "df_calls['duration'] = df_calls['duration'].apply(np.ceil)          # округлим в большую сторону\n",
    "df_calls['duration']=df_calls['duration'].astype('int64')           # изменяем тип на целый\n",
    "df_calls.isnull().sum().sort_values(ascending=False)                # проверяем есть ли пустые значения, пустых значений нет"
   ]
  },
  {
   "cell_type": "code",
   "execution_count": 10,
   "metadata": {},
   "outputs": [
    {
     "data": {
      "text/html": [
       "<div>\n",
       "<style scoped>\n",
       "    .dataframe tbody tr th:only-of-type {\n",
       "        vertical-align: middle;\n",
       "    }\n",
       "\n",
       "    .dataframe tbody tr th {\n",
       "        vertical-align: top;\n",
       "    }\n",
       "\n",
       "    .dataframe thead th {\n",
       "        text-align: right;\n",
       "    }\n",
       "</style>\n",
       "<table border=\"1\" class=\"dataframe\">\n",
       "  <thead>\n",
       "    <tr style=\"text-align: right;\">\n",
       "      <th></th>\n",
       "      <th>id</th>\n",
       "      <th>call_date</th>\n",
       "      <th>duration</th>\n",
       "      <th>user_id</th>\n",
       "      <th>month</th>\n",
       "    </tr>\n",
       "  </thead>\n",
       "  <tbody>\n",
       "    <tr>\n",
       "      <td>0</td>\n",
       "      <td>1000_0</td>\n",
       "      <td>2018-07-25</td>\n",
       "      <td>0</td>\n",
       "      <td>1000</td>\n",
       "      <td>7</td>\n",
       "    </tr>\n",
       "    <tr>\n",
       "      <td>1</td>\n",
       "      <td>1000_1</td>\n",
       "      <td>2018-08-17</td>\n",
       "      <td>0</td>\n",
       "      <td>1000</td>\n",
       "      <td>8</td>\n",
       "    </tr>\n",
       "    <tr>\n",
       "      <td>2</td>\n",
       "      <td>1000_2</td>\n",
       "      <td>2018-06-11</td>\n",
       "      <td>3</td>\n",
       "      <td>1000</td>\n",
       "      <td>6</td>\n",
       "    </tr>\n",
       "    <tr>\n",
       "      <td>3</td>\n",
       "      <td>1000_3</td>\n",
       "      <td>2018-09-21</td>\n",
       "      <td>14</td>\n",
       "      <td>1000</td>\n",
       "      <td>9</td>\n",
       "    </tr>\n",
       "    <tr>\n",
       "      <td>4</td>\n",
       "      <td>1000_4</td>\n",
       "      <td>2018-12-15</td>\n",
       "      <td>6</td>\n",
       "      <td>1000</td>\n",
       "      <td>12</td>\n",
       "    </tr>\n",
       "  </tbody>\n",
       "</table>\n",
       "</div>"
      ],
      "text/plain": [
       "       id  call_date  duration  user_id  month\n",
       "0  1000_0 2018-07-25         0     1000      7\n",
       "1  1000_1 2018-08-17         0     1000      8\n",
       "2  1000_2 2018-06-11         3     1000      6\n",
       "3  1000_3 2018-09-21        14     1000      9\n",
       "4  1000_4 2018-12-15         6     1000     12"
      ]
     },
     "metadata": {},
     "output_type": "display_data"
    },
    {
     "name": "stdout",
     "output_type": "stream",
     "text": [
      "<class 'pandas.core.frame.DataFrame'>\n",
      "RangeIndex: 202607 entries, 0 to 202606\n",
      "Data columns (total 5 columns):\n",
      "id           202607 non-null object\n",
      "call_date    202607 non-null datetime64[ns]\n",
      "duration     202607 non-null int64\n",
      "user_id      202607 non-null int64\n",
      "month        202607 non-null int64\n",
      "dtypes: datetime64[ns](1), int64(3), object(1)\n",
      "memory usage: 7.7+ MB\n"
     ]
    }
   ],
   "source": [
    "display(df_calls.head())  # проверяем что получилось\n",
    "df_calls.info()"
   ]
  },
  {
   "cell_type": "markdown",
   "metadata": {},
   "source": [
    "### Df_internet - устраним найденные ранее замечания"
   ]
  },
  {
   "cell_type": "markdown",
   "metadata": {},
   "source": [
    "Необходимо изменить тип столбцов id и session_date, а также округлить значения мегабайт в большую сторону."
   ]
  },
  {
   "cell_type": "code",
   "execution_count": 11,
   "metadata": {},
   "outputs": [
    {
     "data": {
      "text/plain": [
       "month           0\n",
       "user_id         0\n",
       "session_date    0\n",
       "mb_used         0\n",
       "id              0\n",
       "Unnamed: 0      0\n",
       "dtype: int64"
      ]
     },
     "execution_count": 11,
     "metadata": {},
     "output_type": "execute_result"
    }
   ],
   "source": [
    "df_internet['id']=df_internet['id'].astype('int64')                         # изменим тип данных на целый\n",
    "df_internet['session_date'] = pd.to_datetime(df_internet['session_date'])   # изменим тип данных на дату\n",
    "df_internet['month'] = df_internet['session_date'].dt.month                 # добавим столбец с месяцем\n",
    "df_internet['mb_used'] = df_internet['mb_used'].apply(np.ceil)              # округлим в большую сторону\n",
    "df_internet['mb_used']=df_internet['mb_used'].astype('int64')               # изменяем тип на целый\n",
    "df_internet.isnull().sum().sort_values(ascending=False)                     # проверяем есть ли пустые значения, пустых значений нет"
   ]
  },
  {
   "cell_type": "code",
   "execution_count": 12,
   "metadata": {},
   "outputs": [
    {
     "data": {
      "text/html": [
       "<div>\n",
       "<style scoped>\n",
       "    .dataframe tbody tr th:only-of-type {\n",
       "        vertical-align: middle;\n",
       "    }\n",
       "\n",
       "    .dataframe tbody tr th {\n",
       "        vertical-align: top;\n",
       "    }\n",
       "\n",
       "    .dataframe thead th {\n",
       "        text-align: right;\n",
       "    }\n",
       "</style>\n",
       "<table border=\"1\" class=\"dataframe\">\n",
       "  <thead>\n",
       "    <tr style=\"text-align: right;\">\n",
       "      <th></th>\n",
       "      <th>Unnamed: 0</th>\n",
       "      <th>id</th>\n",
       "      <th>mb_used</th>\n",
       "      <th>session_date</th>\n",
       "      <th>user_id</th>\n",
       "      <th>month</th>\n",
       "    </tr>\n",
       "  </thead>\n",
       "  <tbody>\n",
       "    <tr>\n",
       "      <td>0</td>\n",
       "      <td>0</td>\n",
       "      <td>10000</td>\n",
       "      <td>113</td>\n",
       "      <td>2018-11-25</td>\n",
       "      <td>1000</td>\n",
       "      <td>11</td>\n",
       "    </tr>\n",
       "    <tr>\n",
       "      <td>1</td>\n",
       "      <td>1</td>\n",
       "      <td>10001</td>\n",
       "      <td>1053</td>\n",
       "      <td>2018-09-07</td>\n",
       "      <td>1000</td>\n",
       "      <td>9</td>\n",
       "    </tr>\n",
       "    <tr>\n",
       "      <td>2</td>\n",
       "      <td>2</td>\n",
       "      <td>10002</td>\n",
       "      <td>1198</td>\n",
       "      <td>2018-06-25</td>\n",
       "      <td>1000</td>\n",
       "      <td>6</td>\n",
       "    </tr>\n",
       "    <tr>\n",
       "      <td>3</td>\n",
       "      <td>3</td>\n",
       "      <td>10003</td>\n",
       "      <td>551</td>\n",
       "      <td>2018-08-22</td>\n",
       "      <td>1000</td>\n",
       "      <td>8</td>\n",
       "    </tr>\n",
       "    <tr>\n",
       "      <td>4</td>\n",
       "      <td>4</td>\n",
       "      <td>10004</td>\n",
       "      <td>303</td>\n",
       "      <td>2018-09-24</td>\n",
       "      <td>1000</td>\n",
       "      <td>9</td>\n",
       "    </tr>\n",
       "  </tbody>\n",
       "</table>\n",
       "</div>"
      ],
      "text/plain": [
       "   Unnamed: 0     id  mb_used session_date  user_id  month\n",
       "0           0  10000      113   2018-11-25     1000     11\n",
       "1           1  10001     1053   2018-09-07     1000      9\n",
       "2           2  10002     1198   2018-06-25     1000      6\n",
       "3           3  10003      551   2018-08-22     1000      8\n",
       "4           4  10004      303   2018-09-24     1000      9"
      ]
     },
     "metadata": {},
     "output_type": "display_data"
    },
    {
     "name": "stdout",
     "output_type": "stream",
     "text": [
      "<class 'pandas.core.frame.DataFrame'>\n",
      "RangeIndex: 149396 entries, 0 to 149395\n",
      "Data columns (total 6 columns):\n",
      "Unnamed: 0      149396 non-null int64\n",
      "id              149396 non-null int64\n",
      "mb_used         149396 non-null int64\n",
      "session_date    149396 non-null datetime64[ns]\n",
      "user_id         149396 non-null int64\n",
      "month           149396 non-null int64\n",
      "dtypes: datetime64[ns](1), int64(5)\n",
      "memory usage: 6.8 MB\n"
     ]
    }
   ],
   "source": [
    "display(df_internet.head())  # проверяем что получилось\n",
    "df_internet.info()"
   ]
  },
  {
   "cell_type": "markdown",
   "metadata": {},
   "source": [
    "### Df_messages - устраним найденные ранее замечания"
   ]
  },
  {
   "cell_type": "markdown",
   "metadata": {},
   "source": [
    "Необходимо изменить тип столбцов id и message_date."
   ]
  },
  {
   "cell_type": "code",
   "execution_count": 13,
   "metadata": {},
   "outputs": [
    {
     "data": {
      "text/plain": [
       "month           0\n",
       "user_id         0\n",
       "message_date    0\n",
       "id              0\n",
       "dtype: int64"
      ]
     },
     "execution_count": 13,
     "metadata": {},
     "output_type": "execute_result"
    }
   ],
   "source": [
    "df_messages['id']=df_messages['id'].astype('int64')                         # изменим тип данных на целый\n",
    "df_messages['message_date'] = pd.to_datetime(df_messages['message_date'])   # изменим тип данных на дату\n",
    "df_messages['month'] = df_messages['message_date'].dt.month\n",
    "df_messages.isnull().sum().sort_values(ascending=False)                     # проверяем есть ли пустые значения, пустых значений нет"
   ]
  },
  {
   "cell_type": "code",
   "execution_count": 14,
   "metadata": {},
   "outputs": [
    {
     "data": {
      "text/html": [
       "<div>\n",
       "<style scoped>\n",
       "    .dataframe tbody tr th:only-of-type {\n",
       "        vertical-align: middle;\n",
       "    }\n",
       "\n",
       "    .dataframe tbody tr th {\n",
       "        vertical-align: top;\n",
       "    }\n",
       "\n",
       "    .dataframe thead th {\n",
       "        text-align: right;\n",
       "    }\n",
       "</style>\n",
       "<table border=\"1\" class=\"dataframe\">\n",
       "  <thead>\n",
       "    <tr style=\"text-align: right;\">\n",
       "      <th></th>\n",
       "      <th>id</th>\n",
       "      <th>message_date</th>\n",
       "      <th>user_id</th>\n",
       "      <th>month</th>\n",
       "    </tr>\n",
       "  </thead>\n",
       "  <tbody>\n",
       "    <tr>\n",
       "      <td>0</td>\n",
       "      <td>10000</td>\n",
       "      <td>2018-06-27</td>\n",
       "      <td>1000</td>\n",
       "      <td>6</td>\n",
       "    </tr>\n",
       "    <tr>\n",
       "      <td>1</td>\n",
       "      <td>10001</td>\n",
       "      <td>2018-10-08</td>\n",
       "      <td>1000</td>\n",
       "      <td>10</td>\n",
       "    </tr>\n",
       "    <tr>\n",
       "      <td>2</td>\n",
       "      <td>10002</td>\n",
       "      <td>2018-08-04</td>\n",
       "      <td>1000</td>\n",
       "      <td>8</td>\n",
       "    </tr>\n",
       "    <tr>\n",
       "      <td>3</td>\n",
       "      <td>10003</td>\n",
       "      <td>2018-06-16</td>\n",
       "      <td>1000</td>\n",
       "      <td>6</td>\n",
       "    </tr>\n",
       "    <tr>\n",
       "      <td>4</td>\n",
       "      <td>10004</td>\n",
       "      <td>2018-12-05</td>\n",
       "      <td>1000</td>\n",
       "      <td>12</td>\n",
       "    </tr>\n",
       "  </tbody>\n",
       "</table>\n",
       "</div>"
      ],
      "text/plain": [
       "      id message_date  user_id  month\n",
       "0  10000   2018-06-27     1000      6\n",
       "1  10001   2018-10-08     1000     10\n",
       "2  10002   2018-08-04     1000      8\n",
       "3  10003   2018-06-16     1000      6\n",
       "4  10004   2018-12-05     1000     12"
      ]
     },
     "metadata": {},
     "output_type": "display_data"
    },
    {
     "name": "stdout",
     "output_type": "stream",
     "text": [
      "<class 'pandas.core.frame.DataFrame'>\n",
      "RangeIndex: 123036 entries, 0 to 123035\n",
      "Data columns (total 4 columns):\n",
      "id              123036 non-null int64\n",
      "message_date    123036 non-null datetime64[ns]\n",
      "user_id         123036 non-null int64\n",
      "month           123036 non-null int64\n",
      "dtypes: datetime64[ns](1), int64(3)\n",
      "memory usage: 3.8 MB\n"
     ]
    }
   ],
   "source": [
    "display(df_messages.head())  # проверяем что получилось\n",
    "df_messages.info()"
   ]
  },
  {
   "cell_type": "markdown",
   "metadata": {},
   "source": [
    "### Df_tariffs - замечаний нет"
   ]
  },
  {
   "cell_type": "code",
   "execution_count": 15,
   "metadata": {},
   "outputs": [
    {
     "data": {
      "text/plain": [
       "tariff_name              0\n",
       "rub_per_minute           0\n",
       "rub_per_message          0\n",
       "rub_per_gb               0\n",
       "rub_monthly_fee          0\n",
       "minutes_included         0\n",
       "mb_per_month_included    0\n",
       "messages_included        0\n",
       "dtype: int64"
      ]
     },
     "execution_count": 15,
     "metadata": {},
     "output_type": "execute_result"
    }
   ],
   "source": [
    "df_tariffs.isnull().sum().sort_values(ascending=False)     # проверяем есть ли пустые значения, пустых значений нет"
   ]
  },
  {
   "cell_type": "markdown",
   "metadata": {},
   "source": [
    "### Df_users - устраним найденные ранее замечания"
   ]
  },
  {
   "cell_type": "markdown",
   "metadata": {},
   "source": [
    "Необходимо изменить тип столбцов churn_date, reg_date."
   ]
  },
  {
   "cell_type": "code",
   "execution_count": 16,
   "metadata": {},
   "outputs": [
    {
     "name": "stdout",
     "output_type": "stream",
     "text": [
      "<class 'pandas.core.frame.DataFrame'>\n",
      "RangeIndex: 149396 entries, 0 to 149395\n",
      "Data columns (total 6 columns):\n",
      "Unnamed: 0      149396 non-null int64\n",
      "id              149396 non-null int64\n",
      "mb_used         149396 non-null int64\n",
      "session_date    149396 non-null datetime64[ns]\n",
      "user_id         149396 non-null int64\n",
      "month           149396 non-null int64\n",
      "dtypes: datetime64[ns](1), int64(5)\n",
      "memory usage: 6.8 MB\n"
     ]
    },
    {
     "data": {
      "text/html": [
       "<div>\n",
       "<style scoped>\n",
       "    .dataframe tbody tr th:only-of-type {\n",
       "        vertical-align: middle;\n",
       "    }\n",
       "\n",
       "    .dataframe tbody tr th {\n",
       "        vertical-align: top;\n",
       "    }\n",
       "\n",
       "    .dataframe thead th {\n",
       "        text-align: right;\n",
       "    }\n",
       "</style>\n",
       "<table border=\"1\" class=\"dataframe\">\n",
       "  <thead>\n",
       "    <tr style=\"text-align: right;\">\n",
       "      <th></th>\n",
       "      <th>user_id</th>\n",
       "      <th>age</th>\n",
       "      <th>churn_date</th>\n",
       "      <th>city</th>\n",
       "      <th>first_name</th>\n",
       "      <th>last_name</th>\n",
       "      <th>reg_date</th>\n",
       "      <th>tariff</th>\n",
       "    </tr>\n",
       "  </thead>\n",
       "  <tbody>\n",
       "    <tr>\n",
       "      <td>0</td>\n",
       "      <td>1000</td>\n",
       "      <td>52</td>\n",
       "      <td>NaT</td>\n",
       "      <td>Краснодар</td>\n",
       "      <td>Рафаил</td>\n",
       "      <td>Верещагин</td>\n",
       "      <td>2018-05-25</td>\n",
       "      <td>ultra</td>\n",
       "    </tr>\n",
       "    <tr>\n",
       "      <td>1</td>\n",
       "      <td>1001</td>\n",
       "      <td>41</td>\n",
       "      <td>NaT</td>\n",
       "      <td>Москва</td>\n",
       "      <td>Иван</td>\n",
       "      <td>Ежов</td>\n",
       "      <td>2018-11-01</td>\n",
       "      <td>smart</td>\n",
       "    </tr>\n",
       "    <tr>\n",
       "      <td>2</td>\n",
       "      <td>1002</td>\n",
       "      <td>59</td>\n",
       "      <td>NaT</td>\n",
       "      <td>Стерлитамак</td>\n",
       "      <td>Евгений</td>\n",
       "      <td>Абрамович</td>\n",
       "      <td>2018-06-17</td>\n",
       "      <td>smart</td>\n",
       "    </tr>\n",
       "    <tr>\n",
       "      <td>3</td>\n",
       "      <td>1003</td>\n",
       "      <td>23</td>\n",
       "      <td>NaT</td>\n",
       "      <td>Москва</td>\n",
       "      <td>Белла</td>\n",
       "      <td>Белякова</td>\n",
       "      <td>2018-08-17</td>\n",
       "      <td>ultra</td>\n",
       "    </tr>\n",
       "    <tr>\n",
       "      <td>4</td>\n",
       "      <td>1004</td>\n",
       "      <td>68</td>\n",
       "      <td>NaT</td>\n",
       "      <td>Новокузнецк</td>\n",
       "      <td>Татьяна</td>\n",
       "      <td>Авдеенко</td>\n",
       "      <td>2018-05-14</td>\n",
       "      <td>ultra</td>\n",
       "    </tr>\n",
       "  </tbody>\n",
       "</table>\n",
       "</div>"
      ],
      "text/plain": [
       "   user_id  age churn_date         city first_name  last_name   reg_date  \\\n",
       "0     1000   52        NaT    Краснодар     Рафаил  Верещагин 2018-05-25   \n",
       "1     1001   41        NaT       Москва       Иван       Ежов 2018-11-01   \n",
       "2     1002   59        NaT  Стерлитамак    Евгений  Абрамович 2018-06-17   \n",
       "3     1003   23        NaT       Москва      Белла   Белякова 2018-08-17   \n",
       "4     1004   68        NaT  Новокузнецк    Татьяна   Авдеенко 2018-05-14   \n",
       "\n",
       "  tariff  \n",
       "0  ultra  \n",
       "1  smart  \n",
       "2  smart  \n",
       "3  ultra  \n",
       "4  ultra  "
      ]
     },
     "metadata": {},
     "output_type": "display_data"
    }
   ],
   "source": [
    "df_users['reg_date'] = pd.to_datetime(df_users['reg_date'])         # изменим тип данных на дату\n",
    "df_users['churn_date'] = pd.to_datetime(df_users['churn_date'])     # изменим тип данных на дату\n",
    "df_users.isnull().sum().sort_values(ascending=False)                # проверяем есть ли пустые значения, пустых значений нет\n",
    "df_internet.info()\n",
    "display(df_users.head())"
   ]
  },
  {
   "cell_type": "code",
   "execution_count": 17,
   "metadata": {},
   "outputs": [
    {
     "name": "stdout",
     "output_type": "stream",
     "text": [
      "Количество клиентов на тарифе Smart: 351\n",
      "Количество клиентов на тарифе Ultra: 149\n"
     ]
    }
   ],
   "source": [
    "print('Количество клиентов на тарифе Smart:', len(df_users.query('tariff == \"smart\"')))\n",
    "print('Количество клиентов на тарифе Ultra:', len(df_users.query('tariff == \"ultra\"')))"
   ]
  },
  {
   "cell_type": "code",
   "execution_count": 18,
   "metadata": {},
   "outputs": [
    {
     "data": {
      "text/html": [
       "<div>\n",
       "<style scoped>\n",
       "    .dataframe tbody tr th:only-of-type {\n",
       "        vertical-align: middle;\n",
       "    }\n",
       "\n",
       "    .dataframe tbody tr th {\n",
       "        vertical-align: top;\n",
       "    }\n",
       "\n",
       "    .dataframe thead th {\n",
       "        text-align: right;\n",
       "    }\n",
       "</style>\n",
       "<table border=\"1\" class=\"dataframe\">\n",
       "  <thead>\n",
       "    <tr style=\"text-align: right;\">\n",
       "      <th></th>\n",
       "      <th>user_id</th>\n",
       "      <th>age</th>\n",
       "      <th>churn_date</th>\n",
       "      <th>city</th>\n",
       "      <th>first_name</th>\n",
       "      <th>last_name</th>\n",
       "      <th>reg_date</th>\n",
       "      <th>tariff</th>\n",
       "      <th>tariff_name</th>\n",
       "    </tr>\n",
       "  </thead>\n",
       "  <tbody>\n",
       "    <tr>\n",
       "      <td>0</td>\n",
       "      <td>1000</td>\n",
       "      <td>52</td>\n",
       "      <td>NaT</td>\n",
       "      <td>Краснодар</td>\n",
       "      <td>Рафаил</td>\n",
       "      <td>Верещагин</td>\n",
       "      <td>2018-05-25</td>\n",
       "      <td>ultra</td>\n",
       "      <td>ultra</td>\n",
       "    </tr>\n",
       "    <tr>\n",
       "      <td>1</td>\n",
       "      <td>1001</td>\n",
       "      <td>41</td>\n",
       "      <td>NaT</td>\n",
       "      <td>Москва</td>\n",
       "      <td>Иван</td>\n",
       "      <td>Ежов</td>\n",
       "      <td>2018-11-01</td>\n",
       "      <td>smart</td>\n",
       "      <td>smart</td>\n",
       "    </tr>\n",
       "    <tr>\n",
       "      <td>2</td>\n",
       "      <td>1002</td>\n",
       "      <td>59</td>\n",
       "      <td>NaT</td>\n",
       "      <td>Стерлитамак</td>\n",
       "      <td>Евгений</td>\n",
       "      <td>Абрамович</td>\n",
       "      <td>2018-06-17</td>\n",
       "      <td>smart</td>\n",
       "      <td>smart</td>\n",
       "    </tr>\n",
       "    <tr>\n",
       "      <td>3</td>\n",
       "      <td>1003</td>\n",
       "      <td>23</td>\n",
       "      <td>NaT</td>\n",
       "      <td>Москва</td>\n",
       "      <td>Белла</td>\n",
       "      <td>Белякова</td>\n",
       "      <td>2018-08-17</td>\n",
       "      <td>ultra</td>\n",
       "      <td>ultra</td>\n",
       "    </tr>\n",
       "    <tr>\n",
       "      <td>4</td>\n",
       "      <td>1004</td>\n",
       "      <td>68</td>\n",
       "      <td>NaT</td>\n",
       "      <td>Новокузнецк</td>\n",
       "      <td>Татьяна</td>\n",
       "      <td>Авдеенко</td>\n",
       "      <td>2018-05-14</td>\n",
       "      <td>ultra</td>\n",
       "      <td>ultra</td>\n",
       "    </tr>\n",
       "  </tbody>\n",
       "</table>\n",
       "</div>"
      ],
      "text/plain": [
       "   user_id  age churn_date         city first_name  last_name   reg_date  \\\n",
       "0     1000   52        NaT    Краснодар     Рафаил  Верещагин 2018-05-25   \n",
       "1     1001   41        NaT       Москва       Иван       Ежов 2018-11-01   \n",
       "2     1002   59        NaT  Стерлитамак    Евгений  Абрамович 2018-06-17   \n",
       "3     1003   23        NaT       Москва      Белла   Белякова 2018-08-17   \n",
       "4     1004   68        NaT  Новокузнецк    Татьяна   Авдеенко 2018-05-14   \n",
       "\n",
       "  tariff tariff_name  \n",
       "0  ultra       ultra  \n",
       "1  smart       smart  \n",
       "2  smart       smart  \n",
       "3  ultra       ultra  \n",
       "4  ultra       ultra  "
      ]
     },
     "metadata": {},
     "output_type": "display_data"
    }
   ],
   "source": [
    "df_users['tariff_name'] = df_users[\"tariff\"]\n",
    "display(df_users.head())"
   ]
  },
  {
   "cell_type": "markdown",
   "metadata": {},
   "source": [
    "## Объединение таблиц и подсчет для каждого пользователя"
   ]
  },
  {
   "cell_type": "markdown",
   "metadata": {},
   "source": [
    "### Информация по длительности и количеству звонков"
   ]
  },
  {
   "cell_type": "code",
   "execution_count": 19,
   "metadata": {},
   "outputs": [],
   "source": [
    "users_tariffs_data = df_users.merge(df_tariffs, left_on='tariff', right_on='tariff_name', how='outer')"
   ]
  },
  {
   "cell_type": "code",
   "execution_count": 20,
   "metadata": {},
   "outputs": [
    {
     "data": {
      "text/html": [
       "<div>\n",
       "<style scoped>\n",
       "    .dataframe tbody tr th:only-of-type {\n",
       "        vertical-align: middle;\n",
       "    }\n",
       "\n",
       "    .dataframe tbody tr th {\n",
       "        vertical-align: top;\n",
       "    }\n",
       "\n",
       "    .dataframe thead th {\n",
       "        text-align: right;\n",
       "    }\n",
       "</style>\n",
       "<table border=\"1\" class=\"dataframe\">\n",
       "  <thead>\n",
       "    <tr style=\"text-align: right;\">\n",
       "      <th></th>\n",
       "      <th>user_id</th>\n",
       "      <th>age</th>\n",
       "      <th>churn_date</th>\n",
       "      <th>city</th>\n",
       "      <th>first_name</th>\n",
       "      <th>last_name</th>\n",
       "      <th>reg_date</th>\n",
       "      <th>tariff</th>\n",
       "      <th>tariff_name_x</th>\n",
       "      <th>messages_included</th>\n",
       "      <th>mb_per_month_included</th>\n",
       "      <th>minutes_included</th>\n",
       "      <th>rub_monthly_fee</th>\n",
       "      <th>rub_per_gb</th>\n",
       "      <th>rub_per_message</th>\n",
       "      <th>rub_per_minute</th>\n",
       "      <th>tariff_name_y</th>\n",
       "    </tr>\n",
       "  </thead>\n",
       "  <tbody>\n",
       "    <tr>\n",
       "      <td>0</td>\n",
       "      <td>1000</td>\n",
       "      <td>52</td>\n",
       "      <td>NaT</td>\n",
       "      <td>Краснодар</td>\n",
       "      <td>Рафаил</td>\n",
       "      <td>Верещагин</td>\n",
       "      <td>2018-05-25</td>\n",
       "      <td>ultra</td>\n",
       "      <td>ultra</td>\n",
       "      <td>1000</td>\n",
       "      <td>30720</td>\n",
       "      <td>3000</td>\n",
       "      <td>1950</td>\n",
       "      <td>150</td>\n",
       "      <td>1</td>\n",
       "      <td>1</td>\n",
       "      <td>ultra</td>\n",
       "    </tr>\n",
       "    <tr>\n",
       "      <td>1</td>\n",
       "      <td>1003</td>\n",
       "      <td>23</td>\n",
       "      <td>NaT</td>\n",
       "      <td>Москва</td>\n",
       "      <td>Белла</td>\n",
       "      <td>Белякова</td>\n",
       "      <td>2018-08-17</td>\n",
       "      <td>ultra</td>\n",
       "      <td>ultra</td>\n",
       "      <td>1000</td>\n",
       "      <td>30720</td>\n",
       "      <td>3000</td>\n",
       "      <td>1950</td>\n",
       "      <td>150</td>\n",
       "      <td>1</td>\n",
       "      <td>1</td>\n",
       "      <td>ultra</td>\n",
       "    </tr>\n",
       "    <tr>\n",
       "      <td>2</td>\n",
       "      <td>1004</td>\n",
       "      <td>68</td>\n",
       "      <td>NaT</td>\n",
       "      <td>Новокузнецк</td>\n",
       "      <td>Татьяна</td>\n",
       "      <td>Авдеенко</td>\n",
       "      <td>2018-05-14</td>\n",
       "      <td>ultra</td>\n",
       "      <td>ultra</td>\n",
       "      <td>1000</td>\n",
       "      <td>30720</td>\n",
       "      <td>3000</td>\n",
       "      <td>1950</td>\n",
       "      <td>150</td>\n",
       "      <td>1</td>\n",
       "      <td>1</td>\n",
       "      <td>ultra</td>\n",
       "    </tr>\n",
       "    <tr>\n",
       "      <td>3</td>\n",
       "      <td>1013</td>\n",
       "      <td>36</td>\n",
       "      <td>NaT</td>\n",
       "      <td>Иваново</td>\n",
       "      <td>Борис</td>\n",
       "      <td>Андреенко</td>\n",
       "      <td>2018-11-14</td>\n",
       "      <td>ultra</td>\n",
       "      <td>ultra</td>\n",
       "      <td>1000</td>\n",
       "      <td>30720</td>\n",
       "      <td>3000</td>\n",
       "      <td>1950</td>\n",
       "      <td>150</td>\n",
       "      <td>1</td>\n",
       "      <td>1</td>\n",
       "      <td>ultra</td>\n",
       "    </tr>\n",
       "    <tr>\n",
       "      <td>4</td>\n",
       "      <td>1016</td>\n",
       "      <td>58</td>\n",
       "      <td>NaT</td>\n",
       "      <td>Омск</td>\n",
       "      <td>Марица</td>\n",
       "      <td>Сазонова</td>\n",
       "      <td>2018-11-21</td>\n",
       "      <td>ultra</td>\n",
       "      <td>ultra</td>\n",
       "      <td>1000</td>\n",
       "      <td>30720</td>\n",
       "      <td>3000</td>\n",
       "      <td>1950</td>\n",
       "      <td>150</td>\n",
       "      <td>1</td>\n",
       "      <td>1</td>\n",
       "      <td>ultra</td>\n",
       "    </tr>\n",
       "  </tbody>\n",
       "</table>\n",
       "</div>"
      ],
      "text/plain": [
       "   user_id  age churn_date         city first_name  last_name   reg_date  \\\n",
       "0     1000   52        NaT    Краснодар     Рафаил  Верещагин 2018-05-25   \n",
       "1     1003   23        NaT       Москва      Белла   Белякова 2018-08-17   \n",
       "2     1004   68        NaT  Новокузнецк    Татьяна   Авдеенко 2018-05-14   \n",
       "3     1013   36        NaT      Иваново      Борис  Андреенко 2018-11-14   \n",
       "4     1016   58        NaT         Омск     Марица   Сазонова 2018-11-21   \n",
       "\n",
       "  tariff tariff_name_x  messages_included  mb_per_month_included  \\\n",
       "0  ultra         ultra               1000                  30720   \n",
       "1  ultra         ultra               1000                  30720   \n",
       "2  ultra         ultra               1000                  30720   \n",
       "3  ultra         ultra               1000                  30720   \n",
       "4  ultra         ultra               1000                  30720   \n",
       "\n",
       "   minutes_included  rub_monthly_fee  rub_per_gb  rub_per_message  \\\n",
       "0              3000             1950         150                1   \n",
       "1              3000             1950         150                1   \n",
       "2              3000             1950         150                1   \n",
       "3              3000             1950         150                1   \n",
       "4              3000             1950         150                1   \n",
       "\n",
       "   rub_per_minute tariff_name_y  \n",
       "0               1         ultra  \n",
       "1               1         ultra  \n",
       "2               1         ultra  \n",
       "3               1         ultra  \n",
       "4               1         ultra  "
      ]
     },
     "metadata": {},
     "output_type": "display_data"
    }
   ],
   "source": [
    "display(users_tariffs_data.head())"
   ]
  },
  {
   "cell_type": "code",
   "execution_count": 21,
   "metadata": {},
   "outputs": [],
   "source": [
    "calls_users_tariff = df_calls.merge(users_tariffs_data, on='user_id', how='outer') "
   ]
  },
  {
   "cell_type": "code",
   "execution_count": 22,
   "metadata": {},
   "outputs": [
    {
     "data": {
      "text/html": [
       "<div>\n",
       "<style scoped>\n",
       "    .dataframe tbody tr th:only-of-type {\n",
       "        vertical-align: middle;\n",
       "    }\n",
       "\n",
       "    .dataframe tbody tr th {\n",
       "        vertical-align: top;\n",
       "    }\n",
       "\n",
       "    .dataframe thead th {\n",
       "        text-align: right;\n",
       "    }\n",
       "</style>\n",
       "<table border=\"1\" class=\"dataframe\">\n",
       "  <thead>\n",
       "    <tr style=\"text-align: right;\">\n",
       "      <th></th>\n",
       "      <th>id</th>\n",
       "      <th>call_date</th>\n",
       "      <th>duration</th>\n",
       "      <th>user_id</th>\n",
       "      <th>month</th>\n",
       "      <th>age</th>\n",
       "      <th>churn_date</th>\n",
       "      <th>city</th>\n",
       "      <th>first_name</th>\n",
       "      <th>last_name</th>\n",
       "      <th>...</th>\n",
       "      <th>tariff</th>\n",
       "      <th>tariff_name_x</th>\n",
       "      <th>messages_included</th>\n",
       "      <th>mb_per_month_included</th>\n",
       "      <th>minutes_included</th>\n",
       "      <th>rub_monthly_fee</th>\n",
       "      <th>rub_per_gb</th>\n",
       "      <th>rub_per_message</th>\n",
       "      <th>rub_per_minute</th>\n",
       "      <th>tariff_name_y</th>\n",
       "    </tr>\n",
       "  </thead>\n",
       "  <tbody>\n",
       "    <tr>\n",
       "      <td>0</td>\n",
       "      <td>1000_0</td>\n",
       "      <td>2018-07-25</td>\n",
       "      <td>0.0</td>\n",
       "      <td>1000</td>\n",
       "      <td>7.0</td>\n",
       "      <td>52</td>\n",
       "      <td>NaT</td>\n",
       "      <td>Краснодар</td>\n",
       "      <td>Рафаил</td>\n",
       "      <td>Верещагин</td>\n",
       "      <td>...</td>\n",
       "      <td>ultra</td>\n",
       "      <td>ultra</td>\n",
       "      <td>1000</td>\n",
       "      <td>30720</td>\n",
       "      <td>3000</td>\n",
       "      <td>1950</td>\n",
       "      <td>150</td>\n",
       "      <td>1</td>\n",
       "      <td>1</td>\n",
       "      <td>ultra</td>\n",
       "    </tr>\n",
       "    <tr>\n",
       "      <td>1</td>\n",
       "      <td>1000_1</td>\n",
       "      <td>2018-08-17</td>\n",
       "      <td>0.0</td>\n",
       "      <td>1000</td>\n",
       "      <td>8.0</td>\n",
       "      <td>52</td>\n",
       "      <td>NaT</td>\n",
       "      <td>Краснодар</td>\n",
       "      <td>Рафаил</td>\n",
       "      <td>Верещагин</td>\n",
       "      <td>...</td>\n",
       "      <td>ultra</td>\n",
       "      <td>ultra</td>\n",
       "      <td>1000</td>\n",
       "      <td>30720</td>\n",
       "      <td>3000</td>\n",
       "      <td>1950</td>\n",
       "      <td>150</td>\n",
       "      <td>1</td>\n",
       "      <td>1</td>\n",
       "      <td>ultra</td>\n",
       "    </tr>\n",
       "    <tr>\n",
       "      <td>2</td>\n",
       "      <td>1000_2</td>\n",
       "      <td>2018-06-11</td>\n",
       "      <td>3.0</td>\n",
       "      <td>1000</td>\n",
       "      <td>6.0</td>\n",
       "      <td>52</td>\n",
       "      <td>NaT</td>\n",
       "      <td>Краснодар</td>\n",
       "      <td>Рафаил</td>\n",
       "      <td>Верещагин</td>\n",
       "      <td>...</td>\n",
       "      <td>ultra</td>\n",
       "      <td>ultra</td>\n",
       "      <td>1000</td>\n",
       "      <td>30720</td>\n",
       "      <td>3000</td>\n",
       "      <td>1950</td>\n",
       "      <td>150</td>\n",
       "      <td>1</td>\n",
       "      <td>1</td>\n",
       "      <td>ultra</td>\n",
       "    </tr>\n",
       "    <tr>\n",
       "      <td>3</td>\n",
       "      <td>1000_3</td>\n",
       "      <td>2018-09-21</td>\n",
       "      <td>14.0</td>\n",
       "      <td>1000</td>\n",
       "      <td>9.0</td>\n",
       "      <td>52</td>\n",
       "      <td>NaT</td>\n",
       "      <td>Краснодар</td>\n",
       "      <td>Рафаил</td>\n",
       "      <td>Верещагин</td>\n",
       "      <td>...</td>\n",
       "      <td>ultra</td>\n",
       "      <td>ultra</td>\n",
       "      <td>1000</td>\n",
       "      <td>30720</td>\n",
       "      <td>3000</td>\n",
       "      <td>1950</td>\n",
       "      <td>150</td>\n",
       "      <td>1</td>\n",
       "      <td>1</td>\n",
       "      <td>ultra</td>\n",
       "    </tr>\n",
       "    <tr>\n",
       "      <td>4</td>\n",
       "      <td>1000_4</td>\n",
       "      <td>2018-12-15</td>\n",
       "      <td>6.0</td>\n",
       "      <td>1000</td>\n",
       "      <td>12.0</td>\n",
       "      <td>52</td>\n",
       "      <td>NaT</td>\n",
       "      <td>Краснодар</td>\n",
       "      <td>Рафаил</td>\n",
       "      <td>Верещагин</td>\n",
       "      <td>...</td>\n",
       "      <td>ultra</td>\n",
       "      <td>ultra</td>\n",
       "      <td>1000</td>\n",
       "      <td>30720</td>\n",
       "      <td>3000</td>\n",
       "      <td>1950</td>\n",
       "      <td>150</td>\n",
       "      <td>1</td>\n",
       "      <td>1</td>\n",
       "      <td>ultra</td>\n",
       "    </tr>\n",
       "  </tbody>\n",
       "</table>\n",
       "<p>5 rows × 21 columns</p>\n",
       "</div>"
      ],
      "text/plain": [
       "       id  call_date  duration  user_id  month  age churn_date       city  \\\n",
       "0  1000_0 2018-07-25       0.0     1000    7.0   52        NaT  Краснодар   \n",
       "1  1000_1 2018-08-17       0.0     1000    8.0   52        NaT  Краснодар   \n",
       "2  1000_2 2018-06-11       3.0     1000    6.0   52        NaT  Краснодар   \n",
       "3  1000_3 2018-09-21      14.0     1000    9.0   52        NaT  Краснодар   \n",
       "4  1000_4 2018-12-15       6.0     1000   12.0   52        NaT  Краснодар   \n",
       "\n",
       "  first_name  last_name  ... tariff tariff_name_x messages_included  \\\n",
       "0     Рафаил  Верещагин  ...  ultra         ultra              1000   \n",
       "1     Рафаил  Верещагин  ...  ultra         ultra              1000   \n",
       "2     Рафаил  Верещагин  ...  ultra         ultra              1000   \n",
       "3     Рафаил  Верещагин  ...  ultra         ultra              1000   \n",
       "4     Рафаил  Верещагин  ...  ultra         ultra              1000   \n",
       "\n",
       "   mb_per_month_included  minutes_included  rub_monthly_fee  rub_per_gb  \\\n",
       "0                  30720              3000             1950         150   \n",
       "1                  30720              3000             1950         150   \n",
       "2                  30720              3000             1950         150   \n",
       "3                  30720              3000             1950         150   \n",
       "4                  30720              3000             1950         150   \n",
       "\n",
       "   rub_per_message  rub_per_minute  tariff_name_y  \n",
       "0                1               1          ultra  \n",
       "1                1               1          ultra  \n",
       "2                1               1          ultra  \n",
       "3                1               1          ultra  \n",
       "4                1               1          ultra  \n",
       "\n",
       "[5 rows x 21 columns]"
      ]
     },
     "metadata": {},
     "output_type": "display_data"
    }
   ],
   "source": [
    "display(calls_users_tariff.head())"
   ]
  },
  {
   "cell_type": "code",
   "execution_count": 23,
   "metadata": {},
   "outputs": [
    {
     "data": {
      "text/html": [
       "<div>\n",
       "<style scoped>\n",
       "    .dataframe tbody tr th:only-of-type {\n",
       "        vertical-align: middle;\n",
       "    }\n",
       "\n",
       "    .dataframe tbody tr th {\n",
       "        vertical-align: top;\n",
       "    }\n",
       "\n",
       "    .dataframe thead th {\n",
       "        text-align: right;\n",
       "    }\n",
       "</style>\n",
       "<table border=\"1\" class=\"dataframe\">\n",
       "  <thead>\n",
       "    <tr style=\"text-align: right;\">\n",
       "      <th></th>\n",
       "      <th></th>\n",
       "      <th></th>\n",
       "      <th></th>\n",
       "      <th></th>\n",
       "      <th></th>\n",
       "      <th></th>\n",
       "      <th></th>\n",
       "      <th></th>\n",
       "      <th></th>\n",
       "      <th></th>\n",
       "      <th>duration</th>\n",
       "      <th>quantity_calls</th>\n",
       "    </tr>\n",
       "    <tr>\n",
       "      <th>user_id</th>\n",
       "      <th>month</th>\n",
       "      <th>tariff</th>\n",
       "      <th>city</th>\n",
       "      <th>messages_included</th>\n",
       "      <th>mb_per_month_included</th>\n",
       "      <th>minutes_included</th>\n",
       "      <th>rub_monthly_fee</th>\n",
       "      <th>rub_per_gb</th>\n",
       "      <th>rub_per_message</th>\n",
       "      <th>rub_per_minute</th>\n",
       "      <th></th>\n",
       "      <th></th>\n",
       "    </tr>\n",
       "  </thead>\n",
       "  <tbody>\n",
       "    <tr>\n",
       "      <td rowspan=\"5\" valign=\"top\">1000</td>\n",
       "      <td>5.0</td>\n",
       "      <td>ultra</td>\n",
       "      <td>Краснодар</td>\n",
       "      <td>1000</td>\n",
       "      <td>30720</td>\n",
       "      <td>3000</td>\n",
       "      <td>1950</td>\n",
       "      <td>150</td>\n",
       "      <td>1</td>\n",
       "      <td>1</td>\n",
       "      <td>159.0</td>\n",
       "      <td>22</td>\n",
       "    </tr>\n",
       "    <tr>\n",
       "      <td>6.0</td>\n",
       "      <td>ultra</td>\n",
       "      <td>Краснодар</td>\n",
       "      <td>1000</td>\n",
       "      <td>30720</td>\n",
       "      <td>3000</td>\n",
       "      <td>1950</td>\n",
       "      <td>150</td>\n",
       "      <td>1</td>\n",
       "      <td>1</td>\n",
       "      <td>172.0</td>\n",
       "      <td>43</td>\n",
       "    </tr>\n",
       "    <tr>\n",
       "      <td>7.0</td>\n",
       "      <td>ultra</td>\n",
       "      <td>Краснодар</td>\n",
       "      <td>1000</td>\n",
       "      <td>30720</td>\n",
       "      <td>3000</td>\n",
       "      <td>1950</td>\n",
       "      <td>150</td>\n",
       "      <td>1</td>\n",
       "      <td>1</td>\n",
       "      <td>340.0</td>\n",
       "      <td>47</td>\n",
       "    </tr>\n",
       "    <tr>\n",
       "      <td>8.0</td>\n",
       "      <td>ultra</td>\n",
       "      <td>Краснодар</td>\n",
       "      <td>1000</td>\n",
       "      <td>30720</td>\n",
       "      <td>3000</td>\n",
       "      <td>1950</td>\n",
       "      <td>150</td>\n",
       "      <td>1</td>\n",
       "      <td>1</td>\n",
       "      <td>408.0</td>\n",
       "      <td>52</td>\n",
       "    </tr>\n",
       "    <tr>\n",
       "      <td>9.0</td>\n",
       "      <td>ultra</td>\n",
       "      <td>Краснодар</td>\n",
       "      <td>1000</td>\n",
       "      <td>30720</td>\n",
       "      <td>3000</td>\n",
       "      <td>1950</td>\n",
       "      <td>150</td>\n",
       "      <td>1</td>\n",
       "      <td>1</td>\n",
       "      <td>466.0</td>\n",
       "      <td>58</td>\n",
       "    </tr>\n",
       "  </tbody>\n",
       "</table>\n",
       "</div>"
      ],
      "text/plain": [
       "                                                                                                                                                   duration  \\\n",
       "user_id month tariff city      messages_included mb_per_month_included minutes_included rub_monthly_fee rub_per_gb rub_per_message rub_per_minute             \n",
       "1000    5.0   ultra  Краснодар 1000              30720                 3000             1950            150        1               1                  159.0   \n",
       "        6.0   ultra  Краснодар 1000              30720                 3000             1950            150        1               1                  172.0   \n",
       "        7.0   ultra  Краснодар 1000              30720                 3000             1950            150        1               1                  340.0   \n",
       "        8.0   ultra  Краснодар 1000              30720                 3000             1950            150        1               1                  408.0   \n",
       "        9.0   ultra  Краснодар 1000              30720                 3000             1950            150        1               1                  466.0   \n",
       "\n",
       "                                                                                                                                                   quantity_calls  \n",
       "user_id month tariff city      messages_included mb_per_month_included minutes_included rub_monthly_fee rub_per_gb rub_per_message rub_per_minute                  \n",
       "1000    5.0   ultra  Краснодар 1000              30720                 3000             1950            150        1               1                           22  \n",
       "        6.0   ultra  Краснодар 1000              30720                 3000             1950            150        1               1                           43  \n",
       "        7.0   ultra  Краснодар 1000              30720                 3000             1950            150        1               1                           47  \n",
       "        8.0   ultra  Краснодар 1000              30720                 3000             1950            150        1               1                           52  \n",
       "        9.0   ultra  Краснодар 1000              30720                 3000             1950            150        1               1                           58  "
      ]
     },
     "metadata": {},
     "output_type": "display_data"
    }
   ],
   "source": [
    "calls_month_users = calls_users_tariff.pivot_table(index = ['user_id', \n",
    "    \"month\", \"tariff\", 'city', 'messages_included', 'mb_per_month_included', \n",
    "    'minutes_included', 'rub_monthly_fee', 'rub_per_gb', 'rub_per_message', \n",
    "    'rub_per_minute'], values = ['duration'],  aggfunc=['sum', 'count']) \n",
    "calls_month_users.columns = ['duration', 'quantity_calls']\n",
    "display(calls_month_users.head())"
   ]
  },
  {
   "cell_type": "markdown",
   "metadata": {},
   "source": [
    "### Информация по интернет трафику"
   ]
  },
  {
   "cell_type": "code",
   "execution_count": 24,
   "metadata": {},
   "outputs": [],
   "source": [
    "internet_users = df_internet.merge(df_users, on='user_id', how='outer')"
   ]
  },
  {
   "cell_type": "code",
   "execution_count": 25,
   "metadata": {},
   "outputs": [],
   "source": [
    "internet_month_users = internet_users.pivot_table(index=['user_id', 'month', \"tariff\"], values='mb_used',                         \n",
    "                       aggfunc={'mb_used': 'sum'})"
   ]
  },
  {
   "cell_type": "code",
   "execution_count": 26,
   "metadata": {},
   "outputs": [
    {
     "data": {
      "text/html": [
       "<div>\n",
       "<style scoped>\n",
       "    .dataframe tbody tr th:only-of-type {\n",
       "        vertical-align: middle;\n",
       "    }\n",
       "\n",
       "    .dataframe tbody tr th {\n",
       "        vertical-align: top;\n",
       "    }\n",
       "\n",
       "    .dataframe thead th {\n",
       "        text-align: right;\n",
       "    }\n",
       "</style>\n",
       "<table border=\"1\" class=\"dataframe\">\n",
       "  <thead>\n",
       "    <tr style=\"text-align: right;\">\n",
       "      <th></th>\n",
       "      <th></th>\n",
       "      <th></th>\n",
       "      <th>mb_used</th>\n",
       "    </tr>\n",
       "    <tr>\n",
       "      <th>user_id</th>\n",
       "      <th>month</th>\n",
       "      <th>tariff</th>\n",
       "      <th></th>\n",
       "    </tr>\n",
       "  </thead>\n",
       "  <tbody>\n",
       "    <tr>\n",
       "      <td rowspan=\"5\" valign=\"top\">1000</td>\n",
       "      <td>5.0</td>\n",
       "      <td>ultra</td>\n",
       "      <td>2256.0</td>\n",
       "    </tr>\n",
       "    <tr>\n",
       "      <td>6.0</td>\n",
       "      <td>ultra</td>\n",
       "      <td>23257.0</td>\n",
       "    </tr>\n",
       "    <tr>\n",
       "      <td>7.0</td>\n",
       "      <td>ultra</td>\n",
       "      <td>14016.0</td>\n",
       "    </tr>\n",
       "    <tr>\n",
       "      <td>8.0</td>\n",
       "      <td>ultra</td>\n",
       "      <td>14070.0</td>\n",
       "    </tr>\n",
       "    <tr>\n",
       "      <td>9.0</td>\n",
       "      <td>ultra</td>\n",
       "      <td>14581.0</td>\n",
       "    </tr>\n",
       "  </tbody>\n",
       "</table>\n",
       "</div>"
      ],
      "text/plain": [
       "                      mb_used\n",
       "user_id month tariff         \n",
       "1000    5.0   ultra    2256.0\n",
       "        6.0   ultra   23257.0\n",
       "        7.0   ultra   14016.0\n",
       "        8.0   ultra   14070.0\n",
       "        9.0   ultra   14581.0"
      ]
     },
     "metadata": {},
     "output_type": "display_data"
    }
   ],
   "source": [
    "display(internet_month_users.head())"
   ]
  },
  {
   "cell_type": "markdown",
   "metadata": {},
   "source": [
    "### Информация по количеству сообщений"
   ]
  },
  {
   "cell_type": "code",
   "execution_count": 27,
   "metadata": {},
   "outputs": [],
   "source": [
    "Messages_users = df_messages.merge(df_users, on='user_id', how='outer')"
   ]
  },
  {
   "cell_type": "code",
   "execution_count": 28,
   "metadata": {},
   "outputs": [],
   "source": [
    "Messages_users['messages'] = Messages_users['last_name'] +' '+ Messages_users['first_name'] +\" \"+ \"из г. \" + Messages_users['city']"
   ]
  },
  {
   "cell_type": "code",
   "execution_count": 29,
   "metadata": {},
   "outputs": [
    {
     "data": {
      "text/html": [
       "<div>\n",
       "<style scoped>\n",
       "    .dataframe tbody tr th:only-of-type {\n",
       "        vertical-align: middle;\n",
       "    }\n",
       "\n",
       "    .dataframe tbody tr th {\n",
       "        vertical-align: top;\n",
       "    }\n",
       "\n",
       "    .dataframe thead th {\n",
       "        text-align: right;\n",
       "    }\n",
       "</style>\n",
       "<table border=\"1\" class=\"dataframe\">\n",
       "  <thead>\n",
       "    <tr style=\"text-align: right;\">\n",
       "      <th></th>\n",
       "      <th>id</th>\n",
       "      <th>message_date</th>\n",
       "      <th>user_id</th>\n",
       "      <th>month</th>\n",
       "      <th>age</th>\n",
       "      <th>churn_date</th>\n",
       "      <th>city</th>\n",
       "      <th>first_name</th>\n",
       "      <th>last_name</th>\n",
       "      <th>reg_date</th>\n",
       "      <th>tariff</th>\n",
       "      <th>tariff_name</th>\n",
       "      <th>messages</th>\n",
       "    </tr>\n",
       "  </thead>\n",
       "  <tbody>\n",
       "    <tr>\n",
       "      <td>0</td>\n",
       "      <td>10000.0</td>\n",
       "      <td>2018-06-27</td>\n",
       "      <td>1000</td>\n",
       "      <td>6.0</td>\n",
       "      <td>52</td>\n",
       "      <td>NaT</td>\n",
       "      <td>Краснодар</td>\n",
       "      <td>Рафаил</td>\n",
       "      <td>Верещагин</td>\n",
       "      <td>2018-05-25</td>\n",
       "      <td>ultra</td>\n",
       "      <td>ultra</td>\n",
       "      <td>Верещагин Рафаил из г. Краснодар</td>\n",
       "    </tr>\n",
       "    <tr>\n",
       "      <td>1</td>\n",
       "      <td>10001.0</td>\n",
       "      <td>2018-10-08</td>\n",
       "      <td>1000</td>\n",
       "      <td>10.0</td>\n",
       "      <td>52</td>\n",
       "      <td>NaT</td>\n",
       "      <td>Краснодар</td>\n",
       "      <td>Рафаил</td>\n",
       "      <td>Верещагин</td>\n",
       "      <td>2018-05-25</td>\n",
       "      <td>ultra</td>\n",
       "      <td>ultra</td>\n",
       "      <td>Верещагин Рафаил из г. Краснодар</td>\n",
       "    </tr>\n",
       "    <tr>\n",
       "      <td>2</td>\n",
       "      <td>10002.0</td>\n",
       "      <td>2018-08-04</td>\n",
       "      <td>1000</td>\n",
       "      <td>8.0</td>\n",
       "      <td>52</td>\n",
       "      <td>NaT</td>\n",
       "      <td>Краснодар</td>\n",
       "      <td>Рафаил</td>\n",
       "      <td>Верещагин</td>\n",
       "      <td>2018-05-25</td>\n",
       "      <td>ultra</td>\n",
       "      <td>ultra</td>\n",
       "      <td>Верещагин Рафаил из г. Краснодар</td>\n",
       "    </tr>\n",
       "    <tr>\n",
       "      <td>3</td>\n",
       "      <td>10003.0</td>\n",
       "      <td>2018-06-16</td>\n",
       "      <td>1000</td>\n",
       "      <td>6.0</td>\n",
       "      <td>52</td>\n",
       "      <td>NaT</td>\n",
       "      <td>Краснодар</td>\n",
       "      <td>Рафаил</td>\n",
       "      <td>Верещагин</td>\n",
       "      <td>2018-05-25</td>\n",
       "      <td>ultra</td>\n",
       "      <td>ultra</td>\n",
       "      <td>Верещагин Рафаил из г. Краснодар</td>\n",
       "    </tr>\n",
       "    <tr>\n",
       "      <td>4</td>\n",
       "      <td>10004.0</td>\n",
       "      <td>2018-12-05</td>\n",
       "      <td>1000</td>\n",
       "      <td>12.0</td>\n",
       "      <td>52</td>\n",
       "      <td>NaT</td>\n",
       "      <td>Краснодар</td>\n",
       "      <td>Рафаил</td>\n",
       "      <td>Верещагин</td>\n",
       "      <td>2018-05-25</td>\n",
       "      <td>ultra</td>\n",
       "      <td>ultra</td>\n",
       "      <td>Верещагин Рафаил из г. Краснодар</td>\n",
       "    </tr>\n",
       "  </tbody>\n",
       "</table>\n",
       "</div>"
      ],
      "text/plain": [
       "        id message_date  user_id  month  age churn_date       city first_name  \\\n",
       "0  10000.0   2018-06-27     1000    6.0   52        NaT  Краснодар     Рафаил   \n",
       "1  10001.0   2018-10-08     1000   10.0   52        NaT  Краснодар     Рафаил   \n",
       "2  10002.0   2018-08-04     1000    8.0   52        NaT  Краснодар     Рафаил   \n",
       "3  10003.0   2018-06-16     1000    6.0   52        NaT  Краснодар     Рафаил   \n",
       "4  10004.0   2018-12-05     1000   12.0   52        NaT  Краснодар     Рафаил   \n",
       "\n",
       "   last_name   reg_date tariff tariff_name                          messages  \n",
       "0  Верещагин 2018-05-25  ultra       ultra  Верещагин Рафаил из г. Краснодар  \n",
       "1  Верещагин 2018-05-25  ultra       ultra  Верещагин Рафаил из г. Краснодар  \n",
       "2  Верещагин 2018-05-25  ultra       ultra  Верещагин Рафаил из г. Краснодар  \n",
       "3  Верещагин 2018-05-25  ultra       ultra  Верещагин Рафаил из г. Краснодар  \n",
       "4  Верещагин 2018-05-25  ultra       ultra  Верещагин Рафаил из г. Краснодар  "
      ]
     },
     "metadata": {},
     "output_type": "display_data"
    }
   ],
   "source": [
    "display(Messages_users.head())"
   ]
  },
  {
   "cell_type": "code",
   "execution_count": 30,
   "metadata": {},
   "outputs": [],
   "source": [
    "Messages_month_users = Messages_users.pivot_table(index=['user_id', 'month', \"tariff\"], values='messages',                     \n",
    "                       aggfunc={'messages': 'count'})"
   ]
  },
  {
   "cell_type": "code",
   "execution_count": 31,
   "metadata": {},
   "outputs": [
    {
     "data": {
      "text/html": [
       "<div>\n",
       "<style scoped>\n",
       "    .dataframe tbody tr th:only-of-type {\n",
       "        vertical-align: middle;\n",
       "    }\n",
       "\n",
       "    .dataframe tbody tr th {\n",
       "        vertical-align: top;\n",
       "    }\n",
       "\n",
       "    .dataframe thead th {\n",
       "        text-align: right;\n",
       "    }\n",
       "</style>\n",
       "<table border=\"1\" class=\"dataframe\">\n",
       "  <thead>\n",
       "    <tr style=\"text-align: right;\">\n",
       "      <th></th>\n",
       "      <th></th>\n",
       "      <th></th>\n",
       "      <th>messages</th>\n",
       "    </tr>\n",
       "    <tr>\n",
       "      <th>user_id</th>\n",
       "      <th>month</th>\n",
       "      <th>tariff</th>\n",
       "      <th></th>\n",
       "    </tr>\n",
       "  </thead>\n",
       "  <tbody>\n",
       "    <tr>\n",
       "      <td rowspan=\"5\" valign=\"top\">1000</td>\n",
       "      <td>5.0</td>\n",
       "      <td>ultra</td>\n",
       "      <td>22</td>\n",
       "    </tr>\n",
       "    <tr>\n",
       "      <td>6.0</td>\n",
       "      <td>ultra</td>\n",
       "      <td>60</td>\n",
       "    </tr>\n",
       "    <tr>\n",
       "      <td>7.0</td>\n",
       "      <td>ultra</td>\n",
       "      <td>75</td>\n",
       "    </tr>\n",
       "    <tr>\n",
       "      <td>8.0</td>\n",
       "      <td>ultra</td>\n",
       "      <td>81</td>\n",
       "    </tr>\n",
       "    <tr>\n",
       "      <td>9.0</td>\n",
       "      <td>ultra</td>\n",
       "      <td>57</td>\n",
       "    </tr>\n",
       "  </tbody>\n",
       "</table>\n",
       "</div>"
      ],
      "text/plain": [
       "                      messages\n",
       "user_id month tariff          \n",
       "1000    5.0   ultra         22\n",
       "        6.0   ultra         60\n",
       "        7.0   ultra         75\n",
       "        8.0   ultra         81\n",
       "        9.0   ultra         57"
      ]
     },
     "metadata": {},
     "output_type": "display_data"
    }
   ],
   "source": [
    "display(Messages_month_users.head())"
   ]
  },
  {
   "cell_type": "markdown",
   "metadata": {},
   "source": [
    "### Общая таблица"
   ]
  },
  {
   "cell_type": "code",
   "execution_count": 32,
   "metadata": {},
   "outputs": [],
   "source": [
    "all_data = pd.merge(calls_month_users, Messages_month_users, how='outer', on = ['user_id', \"month\",] )"
   ]
  },
  {
   "cell_type": "code",
   "execution_count": 33,
   "metadata": {},
   "outputs": [],
   "source": [
    "all_data = pd.merge(all_data, internet_month_users, how='outer', on = ['user_id', \"month\",] )"
   ]
  },
  {
   "cell_type": "code",
   "execution_count": 34,
   "metadata": {},
   "outputs": [],
   "source": [
    "for user in all_data.index:\n",
    "    all_data.loc[user, 'tariff'] = df_users.loc[user[0]-1000, 'tariff']     # добавили столбеу с тарифом"
   ]
  },
  {
   "cell_type": "code",
   "execution_count": 35,
   "metadata": {},
   "outputs": [
    {
     "data": {
      "text/html": [
       "<div>\n",
       "<style scoped>\n",
       "    .dataframe tbody tr th:only-of-type {\n",
       "        vertical-align: middle;\n",
       "    }\n",
       "\n",
       "    .dataframe tbody tr th {\n",
       "        vertical-align: top;\n",
       "    }\n",
       "\n",
       "    .dataframe thead th {\n",
       "        text-align: right;\n",
       "    }\n",
       "</style>\n",
       "<table border=\"1\" class=\"dataframe\">\n",
       "  <thead>\n",
       "    <tr style=\"text-align: right;\">\n",
       "      <th></th>\n",
       "      <th></th>\n",
       "      <th>duration</th>\n",
       "      <th>quantity_calls</th>\n",
       "      <th>messages</th>\n",
       "      <th>mb_used</th>\n",
       "      <th>tariff</th>\n",
       "    </tr>\n",
       "    <tr>\n",
       "      <th>user_id</th>\n",
       "      <th>month</th>\n",
       "      <th></th>\n",
       "      <th></th>\n",
       "      <th></th>\n",
       "      <th></th>\n",
       "      <th></th>\n",
       "    </tr>\n",
       "  </thead>\n",
       "  <tbody>\n",
       "    <tr>\n",
       "      <td rowspan=\"8\" valign=\"top\">1000</td>\n",
       "      <td>5.0</td>\n",
       "      <td>159.0</td>\n",
       "      <td>22.0</td>\n",
       "      <td>22.0</td>\n",
       "      <td>2256.0</td>\n",
       "      <td>ultra</td>\n",
       "    </tr>\n",
       "    <tr>\n",
       "      <td>6.0</td>\n",
       "      <td>172.0</td>\n",
       "      <td>43.0</td>\n",
       "      <td>60.0</td>\n",
       "      <td>23257.0</td>\n",
       "      <td>ultra</td>\n",
       "    </tr>\n",
       "    <tr>\n",
       "      <td>7.0</td>\n",
       "      <td>340.0</td>\n",
       "      <td>47.0</td>\n",
       "      <td>75.0</td>\n",
       "      <td>14016.0</td>\n",
       "      <td>ultra</td>\n",
       "    </tr>\n",
       "    <tr>\n",
       "      <td>8.0</td>\n",
       "      <td>408.0</td>\n",
       "      <td>52.0</td>\n",
       "      <td>81.0</td>\n",
       "      <td>14070.0</td>\n",
       "      <td>ultra</td>\n",
       "    </tr>\n",
       "    <tr>\n",
       "      <td>9.0</td>\n",
       "      <td>466.0</td>\n",
       "      <td>58.0</td>\n",
       "      <td>57.0</td>\n",
       "      <td>14581.0</td>\n",
       "      <td>ultra</td>\n",
       "    </tr>\n",
       "    <tr>\n",
       "      <td>10.0</td>\n",
       "      <td>350.0</td>\n",
       "      <td>57.0</td>\n",
       "      <td>73.0</td>\n",
       "      <td>14717.0</td>\n",
       "      <td>ultra</td>\n",
       "    </tr>\n",
       "    <tr>\n",
       "      <td>11.0</td>\n",
       "      <td>338.0</td>\n",
       "      <td>43.0</td>\n",
       "      <td>58.0</td>\n",
       "      <td>14768.0</td>\n",
       "      <td>ultra</td>\n",
       "    </tr>\n",
       "    <tr>\n",
       "      <td>12.0</td>\n",
       "      <td>333.0</td>\n",
       "      <td>46.0</td>\n",
       "      <td>70.0</td>\n",
       "      <td>9827.0</td>\n",
       "      <td>ultra</td>\n",
       "    </tr>\n",
       "    <tr>\n",
       "      <td rowspan=\"2\" valign=\"top\">1001</td>\n",
       "      <td>11.0</td>\n",
       "      <td>430.0</td>\n",
       "      <td>59.0</td>\n",
       "      <td>NaN</td>\n",
       "      <td>18452.0</td>\n",
       "      <td>smart</td>\n",
       "    </tr>\n",
       "    <tr>\n",
       "      <td>12.0</td>\n",
       "      <td>414.0</td>\n",
       "      <td>63.0</td>\n",
       "      <td>NaN</td>\n",
       "      <td>14053.0</td>\n",
       "      <td>smart</td>\n",
       "    </tr>\n",
       "  </tbody>\n",
       "</table>\n",
       "</div>"
      ],
      "text/plain": [
       "               duration  quantity_calls  messages  mb_used tariff\n",
       "user_id month                                                    \n",
       "1000    5.0       159.0            22.0      22.0   2256.0  ultra\n",
       "        6.0       172.0            43.0      60.0  23257.0  ultra\n",
       "        7.0       340.0            47.0      75.0  14016.0  ultra\n",
       "        8.0       408.0            52.0      81.0  14070.0  ultra\n",
       "        9.0       466.0            58.0      57.0  14581.0  ultra\n",
       "        10.0      350.0            57.0      73.0  14717.0  ultra\n",
       "        11.0      338.0            43.0      58.0  14768.0  ultra\n",
       "        12.0      333.0            46.0      70.0   9827.0  ultra\n",
       "1001    11.0      430.0            59.0       NaN  18452.0  smart\n",
       "        12.0      414.0            63.0       NaN  14053.0  smart"
      ]
     },
     "metadata": {},
     "output_type": "display_data"
    }
   ],
   "source": [
    "display(all_data.head(10))"
   ]
  },
  {
   "cell_type": "markdown",
   "metadata": {},
   "source": [
    "Получили таблицу с данными по количеству звонков, их общей продолжительности, объемом использованного трафика и количеством отправленных сообщений по месяцам. "
   ]
  },
  {
   "cell_type": "code",
   "execution_count": 36,
   "metadata": {},
   "outputs": [
    {
     "name": "stdout",
     "output_type": "stream",
     "text": [
      "<class 'pandas.core.frame.DataFrame'>\n",
      "MultiIndex: 3214 entries, (1000, 5.0) to (1476, 4.0)\n",
      "Data columns (total 5 columns):\n",
      "duration          3174 non-null float64\n",
      "quantity_calls    3174 non-null float64\n",
      "messages          2717 non-null float64\n",
      "mb_used           3203 non-null float64\n",
      "tariff            3214 non-null object\n",
      "dtypes: float64(4), object(1)\n",
      "memory usage: 319.4+ KB\n"
     ]
    },
    {
     "data": {
      "text/html": [
       "<style  type=\"text/css\" >\n",
       "    #T_a47bf204_8151_11ec_85ed_02420a391b26row0_col0 {\n",
       "            background-color:  #b40426;\n",
       "            color:  #f1f1f1;\n",
       "        }    #T_a47bf204_8151_11ec_85ed_02420a391b26row1_col0 {\n",
       "            background-color:  #536edd;\n",
       "            color:  #000000;\n",
       "        }    #T_a47bf204_8151_11ec_85ed_02420a391b26row2_col0 {\n",
       "            background-color:  #536edd;\n",
       "            color:  #000000;\n",
       "        }    #T_a47bf204_8151_11ec_85ed_02420a391b26row3_col0 {\n",
       "            background-color:  #4055c8;\n",
       "            color:  #f1f1f1;\n",
       "        }    #T_a47bf204_8151_11ec_85ed_02420a391b26row4_col0 {\n",
       "            background-color:  #3b4cc0;\n",
       "            color:  #f1f1f1;\n",
       "        }</style><table id=\"T_a47bf204_8151_11ec_85ed_02420a391b26\" ><thead>    <tr>        <th class=\"blank level0\" ></th>        <th class=\"col_heading level0 col0\" >0</th>    </tr></thead><tbody>\n",
       "                <tr>\n",
       "                        <th id=\"T_a47bf204_8151_11ec_85ed_02420a391b26level0_row0\" class=\"row_heading level0 row0\" >messages</th>\n",
       "                        <td id=\"T_a47bf204_8151_11ec_85ed_02420a391b26row0_col0\" class=\"data row0 col0\" >15.46</td>\n",
       "            </tr>\n",
       "            <tr>\n",
       "                        <th id=\"T_a47bf204_8151_11ec_85ed_02420a391b26level0_row1\" class=\"row_heading level0 row1\" >quantity_calls</th>\n",
       "                        <td id=\"T_a47bf204_8151_11ec_85ed_02420a391b26row1_col0\" class=\"data row1 col0\" >1.24</td>\n",
       "            </tr>\n",
       "            <tr>\n",
       "                        <th id=\"T_a47bf204_8151_11ec_85ed_02420a391b26level0_row2\" class=\"row_heading level0 row2\" >duration</th>\n",
       "                        <td id=\"T_a47bf204_8151_11ec_85ed_02420a391b26row2_col0\" class=\"data row2 col0\" >1.24</td>\n",
       "            </tr>\n",
       "            <tr>\n",
       "                        <th id=\"T_a47bf204_8151_11ec_85ed_02420a391b26level0_row3\" class=\"row_heading level0 row3\" >mb_used</th>\n",
       "                        <td id=\"T_a47bf204_8151_11ec_85ed_02420a391b26row3_col0\" class=\"data row3 col0\" >0.34</td>\n",
       "            </tr>\n",
       "            <tr>\n",
       "                        <th id=\"T_a47bf204_8151_11ec_85ed_02420a391b26level0_row4\" class=\"row_heading level0 row4\" >tariff</th>\n",
       "                        <td id=\"T_a47bf204_8151_11ec_85ed_02420a391b26row4_col0\" class=\"data row4 col0\" >0</td>\n",
       "            </tr>\n",
       "    </tbody></table>"
      ],
      "text/plain": [
       "<pandas.io.formats.style.Styler at 0x7f8af68879d0>"
      ]
     },
     "execution_count": 36,
     "metadata": {},
     "output_type": "execute_result"
    }
   ],
   "source": [
    "all_data.info()\n",
    "pd.DataFrame(all_data.isna().mean().round(4)*100).sort_values(by=0)[::-1].style.background_gradient('coolwarm') # процентное соотношение пропущенных значений"
   ]
  },
  {
   "cell_type": "markdown",
   "metadata": {},
   "source": [
    "Увидели пропущенные значения в столбцах 'использование трафика', 'отправлено сообщений', количество и длительность звонков. Учитывая, что часта ситуация, когда у клиентов это может быть второй номер для звонков/интернета, и в месте с тем сообщения в данный момент вообще практически не отправляют, заменим значения на 0."
   ]
  },
  {
   "cell_type": "code",
   "execution_count": 37,
   "metadata": {},
   "outputs": [],
   "source": [
    "all_data['messages']=all_data['messages'].fillna(value=0)\n",
    "all_data['mb_used']=all_data['mb_used'].fillna(value=0)\n",
    "all_data['quantity_calls']=all_data['quantity_calls'].fillna(value=0)\n",
    "all_data['duration']=all_data['duration'].fillna(value=0)"
   ]
  },
  {
   "cell_type": "code",
   "execution_count": 38,
   "metadata": {},
   "outputs": [
    {
     "name": "stdout",
     "output_type": "stream",
     "text": [
      "<class 'pandas.core.frame.DataFrame'>\n",
      "MultiIndex: 3214 entries, (1000, 5.0) to (1476, 4.0)\n",
      "Data columns (total 5 columns):\n",
      "duration          3214 non-null float64\n",
      "quantity_calls    3214 non-null float64\n",
      "messages          3214 non-null float64\n",
      "mb_used           3214 non-null float64\n",
      "tariff            3214 non-null object\n",
      "dtypes: float64(4), object(1)\n",
      "memory usage: 319.4+ KB\n"
     ]
    },
    {
     "data": {
      "text/html": [
       "<style  type=\"text/css\" >\n",
       "    #T_a4840034_8151_11ec_85ed_02420a391b26row0_col0 {\n",
       "            background-color:  #3b4cc0;\n",
       "            color:  #f1f1f1;\n",
       "        }    #T_a4840034_8151_11ec_85ed_02420a391b26row1_col0 {\n",
       "            background-color:  #3b4cc0;\n",
       "            color:  #f1f1f1;\n",
       "        }    #T_a4840034_8151_11ec_85ed_02420a391b26row2_col0 {\n",
       "            background-color:  #3b4cc0;\n",
       "            color:  #f1f1f1;\n",
       "        }    #T_a4840034_8151_11ec_85ed_02420a391b26row3_col0 {\n",
       "            background-color:  #3b4cc0;\n",
       "            color:  #f1f1f1;\n",
       "        }    #T_a4840034_8151_11ec_85ed_02420a391b26row4_col0 {\n",
       "            background-color:  #3b4cc0;\n",
       "            color:  #f1f1f1;\n",
       "        }</style><table id=\"T_a4840034_8151_11ec_85ed_02420a391b26\" ><thead>    <tr>        <th class=\"blank level0\" ></th>        <th class=\"col_heading level0 col0\" >0</th>    </tr></thead><tbody>\n",
       "                <tr>\n",
       "                        <th id=\"T_a4840034_8151_11ec_85ed_02420a391b26level0_row0\" class=\"row_heading level0 row0\" >tariff</th>\n",
       "                        <td id=\"T_a4840034_8151_11ec_85ed_02420a391b26row0_col0\" class=\"data row0 col0\" >0</td>\n",
       "            </tr>\n",
       "            <tr>\n",
       "                        <th id=\"T_a4840034_8151_11ec_85ed_02420a391b26level0_row1\" class=\"row_heading level0 row1\" >mb_used</th>\n",
       "                        <td id=\"T_a4840034_8151_11ec_85ed_02420a391b26row1_col0\" class=\"data row1 col0\" >0</td>\n",
       "            </tr>\n",
       "            <tr>\n",
       "                        <th id=\"T_a4840034_8151_11ec_85ed_02420a391b26level0_row2\" class=\"row_heading level0 row2\" >messages</th>\n",
       "                        <td id=\"T_a4840034_8151_11ec_85ed_02420a391b26row2_col0\" class=\"data row2 col0\" >0</td>\n",
       "            </tr>\n",
       "            <tr>\n",
       "                        <th id=\"T_a4840034_8151_11ec_85ed_02420a391b26level0_row3\" class=\"row_heading level0 row3\" >quantity_calls</th>\n",
       "                        <td id=\"T_a4840034_8151_11ec_85ed_02420a391b26row3_col0\" class=\"data row3 col0\" >0</td>\n",
       "            </tr>\n",
       "            <tr>\n",
       "                        <th id=\"T_a4840034_8151_11ec_85ed_02420a391b26level0_row4\" class=\"row_heading level0 row4\" >duration</th>\n",
       "                        <td id=\"T_a4840034_8151_11ec_85ed_02420a391b26row4_col0\" class=\"data row4 col0\" >0</td>\n",
       "            </tr>\n",
       "    </tbody></table>"
      ],
      "text/plain": [
       "<pandas.io.formats.style.Styler at 0x7f8af7024890>"
      ]
     },
     "execution_count": 38,
     "metadata": {},
     "output_type": "execute_result"
    }
   ],
   "source": [
    "all_data.info()\n",
    "pd.DataFrame(all_data.isna().mean().round(4)*100).sort_values(by=0)[::-1].style.background_gradient('coolwarm') # проверяем"
   ]
  },
  {
   "cell_type": "markdown",
   "metadata": {},
   "source": [
    "### Посчитаем помесячную выручку с каждого пользователя."
   ]
  },
  {
   "cell_type": "code",
   "execution_count": 39,
   "metadata": {},
   "outputs": [
    {
     "data": {
      "text/html": [
       "<div>\n",
       "<style scoped>\n",
       "    .dataframe tbody tr th:only-of-type {\n",
       "        vertical-align: middle;\n",
       "    }\n",
       "\n",
       "    .dataframe tbody tr th {\n",
       "        vertical-align: top;\n",
       "    }\n",
       "\n",
       "    .dataframe thead th {\n",
       "        text-align: right;\n",
       "    }\n",
       "</style>\n",
       "<table border=\"1\" class=\"dataframe\">\n",
       "  <thead>\n",
       "    <tr style=\"text-align: right;\">\n",
       "      <th></th>\n",
       "      <th></th>\n",
       "      <th>duration</th>\n",
       "      <th>quantity_calls</th>\n",
       "      <th>messages</th>\n",
       "      <th>mb_used</th>\n",
       "      <th>tariff</th>\n",
       "      <th>expenses</th>\n",
       "    </tr>\n",
       "    <tr>\n",
       "      <th>user_id</th>\n",
       "      <th>month</th>\n",
       "      <th></th>\n",
       "      <th></th>\n",
       "      <th></th>\n",
       "      <th></th>\n",
       "      <th></th>\n",
       "      <th></th>\n",
       "    </tr>\n",
       "  </thead>\n",
       "  <tbody>\n",
       "    <tr>\n",
       "      <td rowspan=\"8\" valign=\"top\">1000</td>\n",
       "      <td>5.0</td>\n",
       "      <td>159.0</td>\n",
       "      <td>22.0</td>\n",
       "      <td>22.0</td>\n",
       "      <td>2256.0</td>\n",
       "      <td>ultra</td>\n",
       "      <td>1950</td>\n",
       "    </tr>\n",
       "    <tr>\n",
       "      <td>6.0</td>\n",
       "      <td>172.0</td>\n",
       "      <td>43.0</td>\n",
       "      <td>60.0</td>\n",
       "      <td>23257.0</td>\n",
       "      <td>ultra</td>\n",
       "      <td>1950</td>\n",
       "    </tr>\n",
       "    <tr>\n",
       "      <td>7.0</td>\n",
       "      <td>340.0</td>\n",
       "      <td>47.0</td>\n",
       "      <td>75.0</td>\n",
       "      <td>14016.0</td>\n",
       "      <td>ultra</td>\n",
       "      <td>1950</td>\n",
       "    </tr>\n",
       "    <tr>\n",
       "      <td>8.0</td>\n",
       "      <td>408.0</td>\n",
       "      <td>52.0</td>\n",
       "      <td>81.0</td>\n",
       "      <td>14070.0</td>\n",
       "      <td>ultra</td>\n",
       "      <td>1950</td>\n",
       "    </tr>\n",
       "    <tr>\n",
       "      <td>9.0</td>\n",
       "      <td>466.0</td>\n",
       "      <td>58.0</td>\n",
       "      <td>57.0</td>\n",
       "      <td>14581.0</td>\n",
       "      <td>ultra</td>\n",
       "      <td>1950</td>\n",
       "    </tr>\n",
       "    <tr>\n",
       "      <td>10.0</td>\n",
       "      <td>350.0</td>\n",
       "      <td>57.0</td>\n",
       "      <td>73.0</td>\n",
       "      <td>14717.0</td>\n",
       "      <td>ultra</td>\n",
       "      <td>1950</td>\n",
       "    </tr>\n",
       "    <tr>\n",
       "      <td>11.0</td>\n",
       "      <td>338.0</td>\n",
       "      <td>43.0</td>\n",
       "      <td>58.0</td>\n",
       "      <td>14768.0</td>\n",
       "      <td>ultra</td>\n",
       "      <td>1950</td>\n",
       "    </tr>\n",
       "    <tr>\n",
       "      <td>12.0</td>\n",
       "      <td>333.0</td>\n",
       "      <td>46.0</td>\n",
       "      <td>70.0</td>\n",
       "      <td>9827.0</td>\n",
       "      <td>ultra</td>\n",
       "      <td>1950</td>\n",
       "    </tr>\n",
       "    <tr>\n",
       "      <td rowspan=\"2\" valign=\"top\">1001</td>\n",
       "      <td>11.0</td>\n",
       "      <td>430.0</td>\n",
       "      <td>59.0</td>\n",
       "      <td>0.0</td>\n",
       "      <td>18452.0</td>\n",
       "      <td>smart</td>\n",
       "      <td>1153</td>\n",
       "    </tr>\n",
       "    <tr>\n",
       "      <td>12.0</td>\n",
       "      <td>414.0</td>\n",
       "      <td>63.0</td>\n",
       "      <td>0.0</td>\n",
       "      <td>14053.0</td>\n",
       "      <td>smart</td>\n",
       "      <td>550</td>\n",
       "    </tr>\n",
       "  </tbody>\n",
       "</table>\n",
       "</div>"
      ],
      "text/plain": [
       "               duration  quantity_calls  messages  mb_used tariff  expenses\n",
       "user_id month                                                              \n",
       "1000    5.0       159.0            22.0      22.0   2256.0  ultra      1950\n",
       "        6.0       172.0            43.0      60.0  23257.0  ultra      1950\n",
       "        7.0       340.0            47.0      75.0  14016.0  ultra      1950\n",
       "        8.0       408.0            52.0      81.0  14070.0  ultra      1950\n",
       "        9.0       466.0            58.0      57.0  14581.0  ultra      1950\n",
       "        10.0      350.0            57.0      73.0  14717.0  ultra      1950\n",
       "        11.0      338.0            43.0      58.0  14768.0  ultra      1950\n",
       "        12.0      333.0            46.0      70.0   9827.0  ultra      1950\n",
       "1001    11.0      430.0            59.0       0.0  18452.0  smart      1153\n",
       "        12.0      414.0            63.0       0.0  14053.0  smart       550"
      ]
     },
     "metadata": {},
     "output_type": "display_data"
    }
   ],
   "source": [
    "def expenses(row):     \n",
    "    if row['tariff'] == 'smart':\n",
    "        \n",
    "        extra_duration = row['duration'] - df_tariffs.loc[0, 'minutes_included']\n",
    "        extra_mb = row['mb_used'] - df_tariffs.loc[0, 'mb_per_month_included']\n",
    "        extra_messages = row['messages'] - df_tariffs.loc[0, 'messages_included']\n",
    "        \n",
    "        if extra_duration < 0: extra_duration = 0\n",
    "        if extra_mb < 0: extra_mb = 0\n",
    "        if extra_messages < 0: extra_messages = 0\n",
    "        \n",
    "        return (df_tariffs.loc[0, 'rub_per_message'] * extra_messages + \n",
    "                   (df_tariffs.loc[0, 'rub_per_gb'] / 1024) * extra_mb + \n",
    "                   df_tariffs.loc[0, 'rub_per_minute'] * extra_duration + \n",
    "                   df_tariffs.loc[0, 'rub_monthly_fee']\n",
    "                  ) \n",
    "    \n",
    "    else:\n",
    "        extra_duration = row['duration'] - df_tariffs.loc[1, 'minutes_included']\n",
    "        extra_mb = row['mb_used'] - df_tariffs.loc[1, 'mb_per_month_included']\n",
    "        extra_messages = row['messages'] - df_tariffs.loc[1, 'messages_included']\n",
    "        \n",
    "        if extra_duration < 0: extra_duration = 0\n",
    "        if extra_mb < 0: extra_mb = 0\n",
    "        if extra_messages < 0: extra_messages = 0\n",
    "        \n",
    "        return (df_tariffs.loc[1, 'rub_per_message'] * extra_messages + \n",
    "                   (df_tariffs.loc[1, 'rub_per_gb'] / 1024) * extra_mb + \n",
    "                   df_tariffs.loc[1, 'rub_per_minute'] * extra_duration + \n",
    "                   df_tariffs.loc[1, 'rub_monthly_fee']\n",
    "                  )\n",
    "all_data['expenses'] = all_data.apply(expenses, axis=1)\n",
    "all_data['expenses']=all_data['expenses'].astype('int64')\n",
    "display(all_data.head(10))"
   ]
  },
  {
   "cell_type": "markdown",
   "metadata": {},
   "source": [
    "## Анализ данных"
   ]
  },
  {
   "cell_type": "markdown",
   "metadata": {},
   "source": [
    "###  Медианные значения пользователей"
   ]
  },
  {
   "cell_type": "code",
   "execution_count": 40,
   "metadata": {},
   "outputs": [
    {
     "data": {
      "text/html": [
       "<div>\n",
       "<style scoped>\n",
       "    .dataframe tbody tr th:only-of-type {\n",
       "        vertical-align: middle;\n",
       "    }\n",
       "\n",
       "    .dataframe tbody tr th {\n",
       "        vertical-align: top;\n",
       "    }\n",
       "\n",
       "    .dataframe thead th {\n",
       "        text-align: right;\n",
       "    }\n",
       "</style>\n",
       "<table border=\"1\" class=\"dataframe\">\n",
       "  <thead>\n",
       "    <tr style=\"text-align: right;\">\n",
       "      <th></th>\n",
       "      <th>duration</th>\n",
       "      <th>expenses</th>\n",
       "      <th>mb_used</th>\n",
       "      <th>messages</th>\n",
       "    </tr>\n",
       "    <tr>\n",
       "      <th>user_id</th>\n",
       "      <th></th>\n",
       "      <th></th>\n",
       "      <th></th>\n",
       "      <th></th>\n",
       "    </tr>\n",
       "  </thead>\n",
       "  <tbody>\n",
       "    <tr>\n",
       "      <td>1001</td>\n",
       "      <td>422.0</td>\n",
       "      <td>851.5</td>\n",
       "      <td>16252.5</td>\n",
       "      <td>0.0</td>\n",
       "    </tr>\n",
       "    <tr>\n",
       "      <td>1002</td>\n",
       "      <td>214.0</td>\n",
       "      <td>987.0</td>\n",
       "      <td>17601.0</td>\n",
       "      <td>11.0</td>\n",
       "    </tr>\n",
       "    <tr>\n",
       "      <td>1005</td>\n",
       "      <td>593.5</td>\n",
       "      <td>836.5</td>\n",
       "      <td>7843.0</td>\n",
       "      <td>49.0</td>\n",
       "    </tr>\n",
       "    <tr>\n",
       "      <td>1006</td>\n",
       "      <td>356.0</td>\n",
       "      <td>585.0</td>\n",
       "      <td>15543.0</td>\n",
       "      <td>0.0</td>\n",
       "    </tr>\n",
       "    <tr>\n",
       "      <td>1007</td>\n",
       "      <td>480.0</td>\n",
       "      <td>843.0</td>\n",
       "      <td>14444.0</td>\n",
       "      <td>26.0</td>\n",
       "    </tr>\n",
       "  </tbody>\n",
       "</table>\n",
       "</div>"
      ],
      "text/plain": [
       "         duration  expenses  mb_used  messages\n",
       "user_id                                       \n",
       "1001        422.0     851.5  16252.5       0.0\n",
       "1002        214.0     987.0  17601.0      11.0\n",
       "1005        593.5     836.5   7843.0      49.0\n",
       "1006        356.0     585.0  15543.0       0.0\n",
       "1007        480.0     843.0  14444.0      26.0"
      ]
     },
     "metadata": {},
     "output_type": "display_data"
    }
   ],
   "source": [
    "smart = all_data.query('tariff==\"smart\"')\n",
    "smart_med = smart.pivot_table(index='user_id',values=['duration', \n",
    "    'messages', 'mb_used', 'expenses'], aggfunc='median', margins=True)\n",
    "display(smart_med.head()) # получили медианные значения пользователей тарифа Smart"
   ]
  },
  {
   "cell_type": "markdown",
   "metadata": {},
   "source": [
    "Видим, что на тарифе Smart медианное значение продолжительности разговоров 423 минуты, 16527 Мб трафика, 28 сообщений и 961 руб. затрат в месяц."
   ]
  },
  {
   "cell_type": "code",
   "execution_count": 41,
   "metadata": {},
   "outputs": [
    {
     "data": {
      "text/html": [
       "<div>\n",
       "<style scoped>\n",
       "    .dataframe tbody tr th:only-of-type {\n",
       "        vertical-align: middle;\n",
       "    }\n",
       "\n",
       "    .dataframe tbody tr th {\n",
       "        vertical-align: top;\n",
       "    }\n",
       "\n",
       "    .dataframe thead th {\n",
       "        text-align: right;\n",
       "    }\n",
       "</style>\n",
       "<table border=\"1\" class=\"dataframe\">\n",
       "  <thead>\n",
       "    <tr style=\"text-align: right;\">\n",
       "      <th></th>\n",
       "      <th>duration</th>\n",
       "      <th>expenses</th>\n",
       "      <th>mb_used</th>\n",
       "      <th>messages</th>\n",
       "    </tr>\n",
       "    <tr>\n",
       "      <th>user_id</th>\n",
       "      <th></th>\n",
       "      <th></th>\n",
       "      <th></th>\n",
       "      <th></th>\n",
       "    </tr>\n",
       "  </thead>\n",
       "  <tbody>\n",
       "    <tr>\n",
       "      <td>1000</td>\n",
       "      <td>339.0</td>\n",
       "      <td>1950.0</td>\n",
       "      <td>14325.5</td>\n",
       "      <td>65.0</td>\n",
       "    </tr>\n",
       "    <tr>\n",
       "      <td>1003</td>\n",
       "      <td>824.0</td>\n",
       "      <td>1950.0</td>\n",
       "      <td>11368.0</td>\n",
       "      <td>83.0</td>\n",
       "    </tr>\n",
       "    <tr>\n",
       "      <td>1004</td>\n",
       "      <td>132.5</td>\n",
       "      <td>1950.0</td>\n",
       "      <td>17828.5</td>\n",
       "      <td>154.5</td>\n",
       "    </tr>\n",
       "    <tr>\n",
       "      <td>1013</td>\n",
       "      <td>468.0</td>\n",
       "      <td>1950.0</td>\n",
       "      <td>15272.5</td>\n",
       "      <td>21.0</td>\n",
       "    </tr>\n",
       "    <tr>\n",
       "      <td>1016</td>\n",
       "      <td>61.0</td>\n",
       "      <td>1950.0</td>\n",
       "      <td>13417.0</td>\n",
       "      <td>71.0</td>\n",
       "    </tr>\n",
       "  </tbody>\n",
       "</table>\n",
       "</div>"
      ],
      "text/plain": [
       "         duration  expenses  mb_used  messages\n",
       "user_id                                       \n",
       "1000        339.0    1950.0  14325.5      65.0\n",
       "1003        824.0    1950.0  11368.0      83.0\n",
       "1004        132.5    1950.0  17828.5     154.5\n",
       "1013        468.0    1950.0  15272.5      21.0\n",
       "1016         61.0    1950.0  13417.0      71.0"
      ]
     },
     "metadata": {},
     "output_type": "display_data"
    }
   ],
   "source": [
    "ultra = all_data.query('tariff==\"ultra\"')\n",
    "ultra_med = ultra.pivot_table(index='user_id', values=['duration',\n",
    "    'messages', 'mb_used', 'expenses'], aggfunc='median', margins=True)\n",
    "display(ultra_med.head()) # получили медианные значения пользователей тарифа Smart"
   ]
  },
  {
   "cell_type": "markdown",
   "metadata": {},
   "source": [
    "Видим, что на тарифе Ultra медианное значение продолжительности разговоров 528 минуты, 19374 Мб трафика, 39 сообщений и 1950 руб. затрат."
   ]
  },
  {
   "cell_type": "markdown",
   "metadata": {},
   "source": [
    "### Посчитаем среднее количество, дисперсию и стандартное отклонение."
   ]
  },
  {
   "cell_type": "code",
   "execution_count": 42,
   "metadata": {},
   "outputs": [
    {
     "data": {
      "text/html": [
       "<div>\n",
       "<style scoped>\n",
       "    .dataframe tbody tr th:only-of-type {\n",
       "        vertical-align: middle;\n",
       "    }\n",
       "\n",
       "    .dataframe tbody tr th {\n",
       "        vertical-align: top;\n",
       "    }\n",
       "\n",
       "    .dataframe thead tr th {\n",
       "        text-align: left;\n",
       "    }\n",
       "\n",
       "    .dataframe thead tr:last-of-type th {\n",
       "        text-align: right;\n",
       "    }\n",
       "</style>\n",
       "<table border=\"1\" class=\"dataframe\">\n",
       "  <thead>\n",
       "    <tr>\n",
       "      <th></th>\n",
       "      <th colspan=\"4\" halign=\"left\">duration</th>\n",
       "      <th colspan=\"4\" halign=\"left\">expenses</th>\n",
       "      <th colspan=\"4\" halign=\"left\">mb_used</th>\n",
       "      <th colspan=\"4\" halign=\"left\">messages</th>\n",
       "    </tr>\n",
       "    <tr>\n",
       "      <th></th>\n",
       "      <th>mean</th>\n",
       "      <th>median</th>\n",
       "      <th>std</th>\n",
       "      <th>var</th>\n",
       "      <th>mean</th>\n",
       "      <th>median</th>\n",
       "      <th>std</th>\n",
       "      <th>var</th>\n",
       "      <th>mean</th>\n",
       "      <th>median</th>\n",
       "      <th>std</th>\n",
       "      <th>var</th>\n",
       "      <th>mean</th>\n",
       "      <th>median</th>\n",
       "      <th>std</th>\n",
       "      <th>var</th>\n",
       "    </tr>\n",
       "    <tr>\n",
       "      <th>tariff</th>\n",
       "      <th></th>\n",
       "      <th></th>\n",
       "      <th></th>\n",
       "      <th></th>\n",
       "      <th></th>\n",
       "      <th></th>\n",
       "      <th></th>\n",
       "      <th></th>\n",
       "      <th></th>\n",
       "      <th></th>\n",
       "      <th></th>\n",
       "      <th></th>\n",
       "      <th></th>\n",
       "      <th></th>\n",
       "      <th></th>\n",
       "      <th></th>\n",
       "    </tr>\n",
       "  </thead>\n",
       "  <tbody>\n",
       "    <tr>\n",
       "      <td>smart</td>\n",
       "      <td>417.934948</td>\n",
       "      <td>422.0</td>\n",
       "      <td>190.313730</td>\n",
       "      <td>36219.315784</td>\n",
       "      <td>1233.057873</td>\n",
       "      <td>959.0</td>\n",
       "      <td>787.544032</td>\n",
       "      <td>620225.603023</td>\n",
       "      <td>16229.188425</td>\n",
       "      <td>16531.0</td>\n",
       "      <td>5877.576978</td>\n",
       "      <td>3.454591e+07</td>\n",
       "      <td>33.384029</td>\n",
       "      <td>28.0</td>\n",
       "      <td>28.227876</td>\n",
       "      <td>796.812958</td>\n",
       "    </tr>\n",
       "    <tr>\n",
       "      <td>ultra</td>\n",
       "      <td>526.623350</td>\n",
       "      <td>518.0</td>\n",
       "      <td>317.606098</td>\n",
       "      <td>100873.633397</td>\n",
       "      <td>2060.462944</td>\n",
       "      <td>1950.0</td>\n",
       "      <td>356.187378</td>\n",
       "      <td>126869.448067</td>\n",
       "      <td>19486.901523</td>\n",
       "      <td>19324.0</td>\n",
       "      <td>10096.317202</td>\n",
       "      <td>1.019356e+08</td>\n",
       "      <td>49.363452</td>\n",
       "      <td>38.0</td>\n",
       "      <td>47.804457</td>\n",
       "      <td>2285.266143</td>\n",
       "    </tr>\n",
       "  </tbody>\n",
       "</table>\n",
       "</div>"
      ],
      "text/plain": [
       "          duration                                       expenses          \\\n",
       "              mean median         std            var         mean  median   \n",
       "tariff                                                                      \n",
       "smart   417.934948  422.0  190.313730   36219.315784  1233.057873   959.0   \n",
       "ultra   526.623350  518.0  317.606098  100873.633397  2060.462944  1950.0   \n",
       "\n",
       "                                        mb_used                         \\\n",
       "               std            var          mean   median           std   \n",
       "tariff                                                                   \n",
       "smart   787.544032  620225.603023  16229.188425  16531.0   5877.576978   \n",
       "ultra   356.187378  126869.448067  19486.901523  19324.0  10096.317202   \n",
       "\n",
       "                       messages                                 \n",
       "                 var       mean median        std          var  \n",
       "tariff                                                          \n",
       "smart   3.454591e+07  33.384029   28.0  28.227876   796.812958  \n",
       "ultra   1.019356e+08  49.363452   38.0  47.804457  2285.266143  "
      ]
     },
     "execution_count": 42,
     "metadata": {},
     "output_type": "execute_result"
    }
   ],
   "source": [
    "expenses\n",
    "\n",
    "ooo = all_data.pivot_table(index=['tariff'], values=['duration', 'mb_used', 'messages', 'expenses'], \n",
    "                    aggfunc={'duration': [np.median, np.var, np.std, np.mean], \n",
    "                             'mb_used': [np.median, np.var, np.std, np.mean], \n",
    "                             'expenses': [np.median, np.var, np.std, np.mean], \n",
    "                             'messages': [np.median, np.var, np.std, np.mean]})\n",
    "ooo"
   ]
  },
  {
   "cell_type": "code",
   "execution_count": 43,
   "metadata": {},
   "outputs": [
    {
     "data": {
      "image/png": "[encoded data removed]",
      "text/plain": [
       "<Figure size 432x288 with 1 Axes>"
      ]
     },
     "metadata": {
      "needs_background": "light"
     },
     "output_type": "display_data"
    }
   ],
   "source": [
    "plt.hist(ultra_med['duration'], alpha = 0.5, label='ultra')\n",
    "plt.hist(smart_med['duration'], alpha = 0.5, label='smart')\n",
    "plt.title('Суммарная длительность звонков в месяц', size=16)\n",
    "plt.xlabel('Количество минут в месяц')\n",
    "plt.ylabel('Количество абонентов')\n",
    "plt.legend(loc='upper left')\n",
    "\n",
    "plt.show()"
   ]
  },
  {
   "cell_type": "markdown",
   "metadata": {},
   "source": [
    "На обоих графиках видим нормальное распределение. Видим пики в районе 420 (Smart) и 530 минут (Ultra)."
   ]
  },
  {
   "cell_type": "code",
   "execution_count": 44,
   "metadata": {},
   "outputs": [
    {
     "data": {
      "image/png": "[encoded data removed]",
      "text/plain": [
       "<Figure size 432x288 with 1 Axes>"
      ]
     },
     "metadata": {
      "needs_background": "light"
     },
     "output_type": "display_data"
    }
   ],
   "source": [
    "plt.hist(ultra_med['mb_used'], alpha = 0.5, label='ultra')\n",
    "plt.hist(smart_med['mb_used'], alpha = 0.5, label='smart')\n",
    "plt.title('Суммарный интернет трафик в месяц', size=16)\n",
    "plt.xlabel('Количество Мб в месяц')\n",
    "plt.ylabel('Количество абонентов')\n",
    "plt.legend(loc='upper left')\n",
    "\n",
    "plt.show()"
   ]
  },
  {
   "cell_type": "markdown",
   "metadata": {},
   "source": [
    "Абоненты тарифа Ultra тратят больше интернет трафика. Видим пики в 16 (Smart) и 19 Гб (Ultra)."
   ]
  },
  {
   "cell_type": "code",
   "execution_count": 45,
   "metadata": {},
   "outputs": [
    {
     "data": {
      "image/png": "[encoded data removed]",
      "text/plain": [
       "<Figure size 432x288 with 1 Axes>"
      ]
     },
     "metadata": {
      "needs_background": "light"
     },
     "output_type": "display_data"
    }
   ],
   "source": [
    "plt.hist(ultra_med['messages'], alpha = 0.5, label='ultra')\n",
    "plt.hist(smart_med['messages'], alpha = 0.5, label='smart')\n",
    "plt.title('Суммарное количество сообщений в месяц', size=16)\n",
    "plt.xlabel('Количество сообщений в месяц')\n",
    "plt.ylabel('Количество абонентов')\n",
    "plt.legend(loc='upper right')\n",
    "\n",
    "plt.show()"
   ]
  },
  {
   "cell_type": "markdown",
   "metadata": {},
   "source": [
    "Видим на гистограмме распределение Пуассона, а также, что абоненты тарифа Ultra больше отправляют сообщений."
   ]
  },
  {
   "cell_type": "code",
   "execution_count": 46,
   "metadata": {},
   "outputs": [
    {
     "data": {
      "image/png": "[encoded data removed]",
      "text/plain": [
       "<Figure size 432x288 with 1 Axes>"
      ]
     },
     "metadata": {
      "needs_background": "light"
     },
     "output_type": "display_data"
    }
   ],
   "source": [
    "plt.hist(ultra_med['expenses'], alpha = 0.5, label='ultra')\n",
    "plt.hist(smart_med['expenses'], alpha = 0.5, label='smart')\n",
    "plt.title('Расходы абонентов в месяц', size=16)\n",
    "plt.xlabel('Ежемесячные расходы')\n",
    "plt.ylabel('Количество абонентов')\n",
    "plt.legend(loc='upper right')\n",
    "\n",
    "plt.show()"
   ]
  },
  {
   "cell_type": "markdown",
   "metadata": {},
   "source": [
    "По графику видим, что клиенты на тарифе Ultra более правильно подходят к подбору тарифа - видим четкий пик в районе стоимости тарифного плана. Клиентов тарифа Smart с расходами от 1500 до 1900 рублей можно перетянуть на тариф с абонентской платой 1950 руб (абонентская плата тарифа Ultra). "
   ]
  },
  {
   "cell_type": "markdown",
   "metadata": {},
   "source": [
    "## Проверка гипотез"
   ]
  },
  {
   "cell_type": "markdown",
   "metadata": {},
   "source": [
    "### Различие в средней выручке тарифов"
   ]
  },
  {
   "cell_type": "markdown",
   "metadata": {},
   "source": [
    "Примем нулевой гипотезу о том, что средняя выручка не различается. Альтернативная гипотеза о том, что выручки по тарифам различаются."
   ]
  },
  {
   "cell_type": "code",
   "execution_count": 47,
   "metadata": {},
   "outputs": [
    {
     "name": "stdout",
     "output_type": "stream",
     "text": [
      "p-значение: 2.669908941355437e-36\n",
      "Отвергаем нулевую гипотезу\n"
     ]
    }
   ],
   "source": [
    "alpha = 0.05  # Показатель точности будет 95%, этого достаточно в этом случае.\n",
    "\n",
    "results = st.ttest_ind(ultra_med['expenses'],smart_med['expenses']) # у нас два разных датасета, поэтому способ такой\n",
    "\n",
    "print('p-значение:', results.pvalue)\n",
    "\n",
    "if results.pvalue < alpha:\n",
    "    print('Отвергаем нулевую гипотезу')\n",
    "else:\n",
    "    print('Не получилось отвергнуть нулевую гипотезу') "
   ]
  },
  {
   "cell_type": "markdown",
   "metadata": {},
   "source": [
    "Выручка в тарифах различается."
   ]
  },
  {
   "cell_type": "markdown",
   "metadata": {},
   "source": [
    "### Cредняя выручка пользователей из Москвы отличается от выручки пользователей из других регионов."
   ]
  },
  {
   "cell_type": "code",
   "execution_count": 48,
   "metadata": {},
   "outputs": [],
   "source": [
    "for user in all_data.index:\n",
    "    all_data.loc[user, 'city'] = df_users.loc[user[0]-1000, 'city']   # добавили столбец с городом"
   ]
  },
  {
   "cell_type": "code",
   "execution_count": 49,
   "metadata": {},
   "outputs": [],
   "source": [
    "moscow = all_data.query('city==\"Москва\"')        # выделили Москву\n",
    "no_moscow = all_data.query('city!=\"Москва\"')     # выделили регионы"
   ]
  },
  {
   "cell_type": "code",
   "execution_count": 50,
   "metadata": {},
   "outputs": [],
   "source": [
    "moscow_mean = moscow.pivot_table(index='user_id', values=['expenses'], aggfunc='mean', margins=True)   # нашли среднее в Москве\n",
    "no_moscow_mean = no_moscow.pivot_table(index='user_id', values=['expenses'], aggfunc='mean', margins=True)   # нашли среднее в регионах"
   ]
  },
  {
   "cell_type": "markdown",
   "metadata": {},
   "source": [
    "Нулевая гипотеза о том, что выручка в Москве равна выручке в регионах."
   ]
  },
  {
   "cell_type": "code",
   "execution_count": 51,
   "metadata": {},
   "outputs": [
    {
     "name": "stdout",
     "output_type": "stream",
     "text": [
      "p-значение: 0.402900360691239\n",
      "Не получилось отвергнуть нулевую гипотезу\n"
     ]
    }
   ],
   "source": [
    "alpha = 0.05  # Показатель точности будет 95%, этого достаточно в этом случае.\n",
    "\n",
    "results = st.ttest_ind(moscow_mean['expenses'],no_moscow_mean['expenses']) # у нас два разных датасета, поэтому способ такой\n",
    "\n",
    "print('p-значение:', results.pvalue)\n",
    "\n",
    "if results.pvalue < alpha:\n",
    "    print('Отвергаем нулевую гипотезу')\n",
    "else:\n",
    "    print('Не получилось отвергнуть нулевую гипотезу') "
   ]
  },
  {
   "cell_type": "markdown",
   "metadata": {},
   "source": [
    "Средняя выручка в Москве не отличается от выручки по регионам."
   ]
  },
  {
   "cell_type": "markdown",
   "metadata": {},
   "source": [
    "## Общий вывод"
   ]
  },
  {
   "cell_type": "markdown",
   "metadata": {},
   "source": [
    "Провели анализ тарифов на выборке клиентов. \n",
    "В нашем распоряжении были данные 500 пользователей «Мегалайна».\n",
    "Выяснили, что более доходными абонентами для компании являются абоненты с тарифом Ultra. \n",
    "Просчитали, что средняя выручка в Москве не отличается от выручки в регионах.\n",
    "\n",
    "Увидели каким абонентам можно предложить перейти на другой план с целью увеличения дохода компании и более свободного общения для клиентов компании."
   ]
  },
  {
   "cell_type": "code",
   "execution_count": 52,
   "metadata": {},
   "outputs": [
    {
     "name": "stdout",
     "output_type": "stream",
     "text": [
      "Средняя итоговая абонентская плата на тарифе Ultra: 2049 руб/мес.\n",
      "Средняя итоговая абонентская плата на тарифе Smart: 1239 руб/мес.\n",
      "\n",
      "Среднее количесвто минут разговора на тарифе Ultra: 557 мин\n",
      "Среднее количесвто минут разговора на тарифе Smart: 437 мин\n",
      "\n",
      "Средний интернет трафика на тарифе Ultra: 19 Гб\n",
      "Средний интернет трафика на тарифе Smart: 16 Гб\n",
      "\n",
      "Среднее количество сообщений на тарифе Ultra: 56 шт\n",
      "Среднее количество сообщений на тарифе Smart: 33 шт\n"
     ]
    }
   ],
   "source": [
    "print('Средняя итоговая абонентская плата на тарифе Ultra:', ultra_med['expenses'].describe()['mean'].astype('int64'), \"руб/мес.\")\n",
    "print('Средняя итоговая абонентская плата на тарифе Smart:', smart_med['expenses'].describe()['mean'].astype('int64'), \"руб/мес.\")\n",
    "print()\n",
    "print('Среднее количесвто минут разговора на тарифе Ultra:', ultra_med['duration'].describe()['mean'].astype('int64'), 'мин')\n",
    "print('Среднее количесвто минут разговора на тарифе Smart:', smart_med['duration'].describe()['mean'].astype('int64'), 'мин')\n",
    "print()\n",
    "print('Средний интернет трафика на тарифе Ultra:', (ultra_med['mb_used'].describe()['mean']/1024).astype('int64'), 'Гб')\n",
    "print('Средний интернет трафика на тарифе Smart:', (smart_med['mb_used'].describe()['mean']/1024).astype('int64'), 'Гб')\n",
    "print()\n",
    "print('Среднее количество сообщений на тарифе Ultra:', ultra_med['messages'].describe()['mean'].astype('int64'), \"шт\")\n",
    "print('Среднее количество сообщений на тарифе Smart:', smart_med['messages'].describe()['mean'].astype('int64'), \"шт\")"
   ]
  },
  {
   "cell_type": "markdown",
   "metadata": {},
   "source": [
    "## Чек-лист готовности проекта\n",
    "\n",
    "Поставьте 'x' в выполненных пунктах. Далее нажмите Shift+Enter."
   ]
  },
  {
   "cell_type": "markdown",
   "metadata": {},
   "source": [
    "- [X]  открыт файл\n",
    "- [X]  файлы изучены (выведены первые строки, метод info())\n",
    "- [X]  определены пропущенные значения\n",
    "- [X]  заполнены пропущенные значения\n",
    "- [X]  есть пояснение, какие пропущенные значения обнаружены\n",
    "- [X]  изменены типы данных\n",
    "- [X]  есть пояснение, в каких столбцах изменены типы и почему\n",
    "\n",
    "Посчитайте для каждого пользователя:\n",
    "\n",
    "- [X]  количество сделанных звонков и израсходованных минут разговора по месяцам;\n",
    "- [X]  количество отправленных сообщений по месяцам;\n",
    "- [X]  объем израсходованного интернет-трафика по месяцам;\n",
    "- [X]  помесячную выручку с каждого пользователя (вычтите бесплатный лимит из суммарного количества звонков, сообщений и интернет-трафика; остаток умножьте на значение из тарифного плана; прибавьте абонентскую плату, соответствующую тарифному плану).\n",
    "\n",
    "Проанализируйте данные:\n",
    "- [X]  Сколько минут разговора, сколько сообщений и какой объём интернет-трафика требуется пользователям каждого тарифа в месяц?\n",
    "- [X] Посчитайте среднее количество, дисперсию и стандартное отклонение. \n",
    "- [X] Постройте гистограммы. \n",
    "- [X] Опишите распределения.\n",
    "\n",
    "Проверьте гипотезы:\n",
    "- [X]  средняя выручка пользователей тарифов «Ультра» и «Смарт» различаются;\n",
    "- [X]  средняя выручка пользователей из Москвы отличается от выручки пользователей из других регионов;\n",
    "\n",
    "Поясните:\n",
    "- [X]  как вы формулировали нулевую и альтернативную гипотезы;\n",
    "- [X]  какой критерий использовали для проверки гипотез и почему.\n"
   ]
  }
 ],
 "metadata": {
  "ExecuteTimeLog": [
   {
    "duration": 916,
    "start_time": "2021-10-12T07:52:14.819Z"
   },
   {
    "duration": 19,
    "start_time": "2021-10-12T07:52:29.240Z"
   },
   {
    "duration": 174,
    "start_time": "2021-10-12T07:52:46.266Z"
   },
   {
    "duration": 12,
    "start_time": "2021-10-12T07:52:47.121Z"
   },
   {
    "duration": 315,
    "start_time": "2021-10-12T07:53:52.679Z"
   },
   {
    "duration": 955,
    "start_time": "2021-10-12T07:54:11.789Z"
   },
   {
    "duration": 29,
    "start_time": "2021-10-12T07:54:12.746Z"
   },
   {
    "duration": 332,
    "start_time": "2021-10-12T07:55:54.240Z"
   },
   {
    "duration": 1121,
    "start_time": "2021-10-12T07:56:10.455Z"
   },
   {
    "duration": 44,
    "start_time": "2021-10-12T07:56:11.578Z"
   },
   {
    "duration": 70,
    "start_time": "2021-10-12T08:02:58.921Z"
   },
   {
    "duration": 309,
    "start_time": "2021-10-12T08:24:28.682Z"
   },
   {
    "duration": 1492,
    "start_time": "2021-10-12T08:24:36.575Z"
   },
   {
    "duration": 43,
    "start_time": "2021-10-12T08:24:38.069Z"
   },
   {
    "duration": 348,
    "start_time": "2021-10-12T08:24:38.114Z"
   },
   {
    "duration": 1465,
    "start_time": "2021-10-12T08:25:23.105Z"
   },
   {
    "duration": 50,
    "start_time": "2021-10-12T08:25:24.574Z"
   },
   {
    "duration": 235,
    "start_time": "2021-10-12T08:34:21.099Z"
   },
   {
    "duration": 1578,
    "start_time": "2021-10-12T08:34:28.654Z"
   },
   {
    "duration": 49,
    "start_time": "2021-10-12T08:34:30.234Z"
   },
   {
    "duration": 5334,
    "start_time": "2021-10-12T08:34:30.284Z"
   },
   {
    "duration": 66,
    "start_time": "2021-10-12T08:35:22.473Z"
   },
   {
    "duration": 62,
    "start_time": "2021-10-12T08:41:22.321Z"
   },
   {
    "duration": 1513,
    "start_time": "2021-10-12T08:41:28.460Z"
   },
   {
    "duration": 55,
    "start_time": "2021-10-12T08:41:29.976Z"
   },
   {
    "duration": 104,
    "start_time": "2021-10-12T08:41:30.035Z"
   },
   {
    "duration": 332,
    "start_time": "2021-10-12T08:43:51.241Z"
   },
   {
    "duration": 277,
    "start_time": "2021-10-12T08:44:04.735Z"
   },
   {
    "duration": 414,
    "start_time": "2021-10-12T08:46:56.614Z"
   },
   {
    "duration": 297,
    "start_time": "2021-10-12T08:47:09.034Z"
   },
   {
    "duration": 274,
    "start_time": "2021-10-12T08:47:59.839Z"
   },
   {
    "duration": 207,
    "start_time": "2021-10-12T08:48:09.339Z"
   },
   {
    "duration": 1592,
    "start_time": "2021-10-12T08:48:16.565Z"
   },
   {
    "duration": 44,
    "start_time": "2021-10-12T08:48:18.160Z"
   },
   {
    "duration": 88,
    "start_time": "2021-10-12T08:48:18.206Z"
   },
   {
    "duration": 288,
    "start_time": "2021-10-12T08:48:18.296Z"
   },
   {
    "duration": 89,
    "start_time": "2021-10-12T08:48:58.002Z"
   },
   {
    "duration": 91,
    "start_time": "2021-10-12T08:49:15.454Z"
   },
   {
    "duration": 90,
    "start_time": "2021-10-12T08:49:27.833Z"
   },
   {
    "duration": 216,
    "start_time": "2021-10-12T08:51:18.758Z"
   },
   {
    "duration": 46,
    "start_time": "2021-10-12T08:51:42.161Z"
   },
   {
    "duration": 1788,
    "start_time": "2021-10-12T08:57:30.663Z"
   },
   {
    "duration": 46,
    "start_time": "2021-10-12T08:57:32.453Z"
   },
   {
    "duration": 91,
    "start_time": "2021-10-12T08:57:32.502Z"
   },
   {
    "duration": 55,
    "start_time": "2021-10-12T08:57:32.595Z"
   },
   {
    "duration": 49,
    "start_time": "2021-10-12T09:02:51.639Z"
   },
   {
    "duration": 40,
    "start_time": "2021-10-12T09:03:22.435Z"
   },
   {
    "duration": 14,
    "start_time": "2021-10-12T09:03:34.125Z"
   },
   {
    "duration": 46,
    "start_time": "2021-10-12T09:03:52.492Z"
   },
   {
    "duration": 13,
    "start_time": "2021-10-12T09:03:54.037Z"
   },
   {
    "duration": 24,
    "start_time": "2021-10-12T09:05:21.981Z"
   },
   {
    "duration": 15,
    "start_time": "2021-10-12T09:05:35.553Z"
   },
   {
    "duration": 2,
    "start_time": "2021-10-12T09:06:03.535Z"
   },
   {
    "duration": 36,
    "start_time": "2021-10-12T09:06:06.007Z"
   },
   {
    "duration": 2,
    "start_time": "2021-10-12T09:06:06.449Z"
   },
   {
    "duration": 2,
    "start_time": "2021-10-12T09:06:07.086Z"
   },
   {
    "duration": 2214,
    "start_time": "2021-10-12T09:06:14.850Z"
   },
   {
    "duration": 42,
    "start_time": "2021-10-12T09:06:17.066Z"
   },
   {
    "duration": 62,
    "start_time": "2021-10-12T09:06:17.110Z"
   },
   {
    "duration": 39,
    "start_time": "2021-10-12T09:06:17.174Z"
   },
   {
    "duration": 2,
    "start_time": "2021-10-12T09:06:17.215Z"
   },
   {
    "duration": 8,
    "start_time": "2021-10-12T09:06:17.219Z"
   },
   {
    "duration": 13,
    "start_time": "2021-10-12T09:06:28.353Z"
   },
   {
    "duration": 282,
    "start_time": "2021-10-12T09:08:49.807Z"
   },
   {
    "duration": 1588,
    "start_time": "2021-10-12T09:08:59.648Z"
   },
   {
    "duration": 45,
    "start_time": "2021-10-12T09:09:01.238Z"
   },
   {
    "duration": 79,
    "start_time": "2021-10-12T09:09:01.287Z"
   },
   {
    "duration": 42,
    "start_time": "2021-10-12T09:09:01.368Z"
   },
   {
    "duration": 58,
    "start_time": "2021-10-12T09:09:01.412Z"
   },
   {
    "duration": 15,
    "start_time": "2021-10-12T09:09:01.471Z"
   },
   {
    "duration": 372,
    "start_time": "2021-10-12T09:16:26.819Z"
   },
   {
    "duration": 1500,
    "start_time": "2021-10-12T09:16:33.275Z"
   },
   {
    "duration": 44,
    "start_time": "2021-10-12T09:16:34.778Z"
   },
   {
    "duration": 53,
    "start_time": "2021-10-12T09:16:34.824Z"
   },
   {
    "duration": 39,
    "start_time": "2021-10-12T09:16:34.879Z"
   },
   {
    "duration": 53,
    "start_time": "2021-10-12T09:16:34.920Z"
   },
   {
    "duration": 296,
    "start_time": "2021-10-12T09:16:34.974Z"
   },
   {
    "duration": 841,
    "start_time": "2021-10-12T09:16:34.431Z"
   },
   {
    "duration": 2,
    "start_time": "2021-10-12T09:21:36.199Z"
   },
   {
    "duration": 1466,
    "start_time": "2021-10-12T09:23:02.684Z"
   },
   {
    "duration": 2,
    "start_time": "2021-10-12T09:23:04.153Z"
   },
   {
    "duration": 36,
    "start_time": "2021-10-12T09:23:04.158Z"
   },
   {
    "duration": 28,
    "start_time": "2021-10-12T09:23:04.195Z"
   },
   {
    "duration": 34,
    "start_time": "2021-10-12T09:23:04.225Z"
   },
   {
    "duration": 17,
    "start_time": "2021-10-12T09:23:04.262Z"
   },
   {
    "duration": 77,
    "start_time": "2021-10-12T09:23:04.281Z"
   },
   {
    "duration": 37,
    "start_time": "2021-10-12T09:23:04.360Z"
   },
   {
    "duration": 56,
    "start_time": "2021-10-12T09:23:04.399Z"
   },
   {
    "duration": 290,
    "start_time": "2021-10-12T09:23:04.457Z"
   },
   {
    "duration": 843,
    "start_time": "2021-10-12T09:23:03.906Z"
   },
   {
    "duration": 30,
    "start_time": "2021-10-12T09:23:29.772Z"
   },
   {
    "duration": 1485,
    "start_time": "2021-10-12T09:23:35.381Z"
   },
   {
    "duration": 32,
    "start_time": "2021-10-12T09:23:36.868Z"
   },
   {
    "duration": 25,
    "start_time": "2021-10-12T09:23:36.903Z"
   },
   {
    "duration": 36,
    "start_time": "2021-10-12T09:23:36.930Z"
   },
   {
    "duration": 11,
    "start_time": "2021-10-12T09:23:36.968Z"
   },
   {
    "duration": 15,
    "start_time": "2021-10-12T09:23:36.981Z"
   },
   {
    "duration": 89,
    "start_time": "2021-10-12T09:23:36.997Z"
   },
   {
    "duration": 41,
    "start_time": "2021-10-12T09:23:37.089Z"
   },
   {
    "duration": 61,
    "start_time": "2021-10-12T09:23:37.132Z"
   },
   {
    "duration": 278,
    "start_time": "2021-10-12T09:23:37.195Z"
   },
   {
    "duration": 800,
    "start_time": "2021-10-12T09:23:36.675Z"
   },
   {
    "duration": 23,
    "start_time": "2021-10-12T09:31:37.989Z"
   },
   {
    "duration": 21,
    "start_time": "2021-10-12T09:32:21.904Z"
   },
   {
    "duration": 1467,
    "start_time": "2021-10-12T09:39:18.690Z"
   },
   {
    "duration": 34,
    "start_time": "2021-10-12T09:39:20.160Z"
   },
   {
    "duration": 23,
    "start_time": "2021-10-12T09:39:20.199Z"
   },
   {
    "duration": 47,
    "start_time": "2021-10-12T09:39:20.223Z"
   },
   {
    "duration": 17,
    "start_time": "2021-10-12T09:39:20.272Z"
   },
   {
    "duration": 29,
    "start_time": "2021-10-12T09:39:20.292Z"
   },
   {
    "duration": 69,
    "start_time": "2021-10-12T09:39:20.324Z"
   },
   {
    "duration": 41,
    "start_time": "2021-10-12T09:39:20.395Z"
   },
   {
    "duration": 48,
    "start_time": "2021-10-12T09:39:20.449Z"
   },
   {
    "duration": 347,
    "start_time": "2021-10-12T09:39:20.499Z"
   },
   {
    "duration": 852,
    "start_time": "2021-10-12T09:39:19.995Z"
   },
   {
    "duration": 2,
    "start_time": "2021-10-12T09:52:56.245Z"
   },
   {
    "duration": 1523,
    "start_time": "2021-10-12T09:53:04.532Z"
   },
   {
    "duration": 62,
    "start_time": "2021-10-12T09:53:06.057Z"
   },
   {
    "duration": 52,
    "start_time": "2021-10-12T09:53:06.121Z"
   },
   {
    "duration": 48,
    "start_time": "2021-10-12T09:53:06.175Z"
   },
   {
    "duration": 32,
    "start_time": "2021-10-12T09:53:06.224Z"
   },
   {
    "duration": 35,
    "start_time": "2021-10-12T09:53:06.257Z"
   },
   {
    "duration": 43,
    "start_time": "2021-10-12T09:53:06.294Z"
   },
   {
    "duration": 75,
    "start_time": "2021-10-12T09:53:06.339Z"
   },
   {
    "duration": 41,
    "start_time": "2021-10-12T09:53:06.416Z"
   },
   {
    "duration": 46,
    "start_time": "2021-10-12T09:53:06.459Z"
   },
   {
    "duration": 296,
    "start_time": "2021-10-12T09:53:06.507Z"
   },
   {
    "duration": 852,
    "start_time": "2021-10-12T09:53:05.953Z"
   },
   {
    "duration": 352,
    "start_time": "2021-10-12T15:42:31.502Z"
   },
   {
    "duration": 290,
    "start_time": "2021-10-12T15:45:02.569Z"
   },
   {
    "duration": 272,
    "start_time": "2021-10-12T15:45:50.363Z"
   },
   {
    "duration": 1923,
    "start_time": "2021-10-12T15:45:59.599Z"
   },
   {
    "duration": 46,
    "start_time": "2021-10-12T15:46:01.525Z"
   },
   {
    "duration": 34,
    "start_time": "2021-10-12T15:46:01.574Z"
   },
   {
    "duration": 42,
    "start_time": "2021-10-12T15:46:01.611Z"
   },
   {
    "duration": 46,
    "start_time": "2021-10-12T15:46:01.655Z"
   },
   {
    "duration": 25,
    "start_time": "2021-10-12T15:46:01.704Z"
   },
   {
    "duration": 50,
    "start_time": "2021-10-12T15:46:01.732Z"
   },
   {
    "duration": 77,
    "start_time": "2021-10-12T15:46:01.801Z"
   },
   {
    "duration": 70,
    "start_time": "2021-10-12T15:46:01.880Z"
   },
   {
    "duration": 70,
    "start_time": "2021-10-12T15:46:01.953Z"
   },
   {
    "duration": 398,
    "start_time": "2021-10-12T15:46:02.025Z"
   },
   {
    "duration": 996,
    "start_time": "2021-10-12T15:46:01.430Z"
   },
   {
    "duration": 1902,
    "start_time": "2021-10-12T15:47:05.683Z"
   },
   {
    "duration": 46,
    "start_time": "2021-10-12T15:47:07.588Z"
   },
   {
    "duration": 30,
    "start_time": "2021-10-12T15:47:07.638Z"
   },
   {
    "duration": 69,
    "start_time": "2021-10-12T15:47:07.670Z"
   },
   {
    "duration": 20,
    "start_time": "2021-10-12T15:47:07.742Z"
   },
   {
    "duration": 58,
    "start_time": "2021-10-12T15:47:07.764Z"
   },
   {
    "duration": 39,
    "start_time": "2021-10-12T15:47:07.825Z"
   },
   {
    "duration": 2000,
    "start_time": "2021-10-15T07:20:42.535Z"
   },
   {
    "duration": 46,
    "start_time": "2021-10-15T07:20:44.539Z"
   },
   {
    "duration": 33,
    "start_time": "2021-10-15T07:20:44.589Z"
   },
   {
    "duration": 76,
    "start_time": "2021-10-15T07:20:44.625Z"
   },
   {
    "duration": 18,
    "start_time": "2021-10-15T07:20:44.704Z"
   },
   {
    "duration": 60,
    "start_time": "2021-10-15T07:20:44.725Z"
   },
   {
    "duration": 4,
    "start_time": "2021-10-15T07:20:44.788Z"
   },
   {
    "duration": 88,
    "start_time": "2021-10-15T07:20:44.795Z"
   },
   {
    "duration": 16,
    "start_time": "2021-10-15T07:21:18.996Z"
   },
   {
    "duration": 2025,
    "start_time": "2021-10-15T07:29:09.183Z"
   },
   {
    "duration": 69,
    "start_time": "2021-10-15T07:29:11.212Z"
   },
   {
    "duration": 36,
    "start_time": "2021-10-15T07:29:11.284Z"
   },
   {
    "duration": 55,
    "start_time": "2021-10-15T07:29:11.323Z"
   },
   {
    "duration": 20,
    "start_time": "2021-10-15T07:29:11.380Z"
   },
   {
    "duration": 63,
    "start_time": "2021-10-15T07:29:11.403Z"
   },
   {
    "duration": 3,
    "start_time": "2021-10-15T07:29:11.469Z"
   },
   {
    "duration": 95,
    "start_time": "2021-10-15T07:29:11.477Z"
   },
   {
    "duration": 16,
    "start_time": "2021-10-15T07:29:11.575Z"
   },
   {
    "duration": 8,
    "start_time": "2021-10-15T07:29:11.594Z"
   },
   {
    "duration": 105,
    "start_time": "2021-10-15T07:29:11.604Z"
   },
   {
    "duration": 734,
    "start_time": "2021-10-15T07:29:10.978Z"
   },
   {
    "duration": 726,
    "start_time": "2021-10-15T07:29:10.987Z"
   },
   {
    "duration": 721,
    "start_time": "2021-10-15T07:29:10.994Z"
   },
   {
    "duration": 717,
    "start_time": "2021-10-15T07:29:10.999Z"
   },
   {
    "duration": 706,
    "start_time": "2021-10-15T07:29:11.012Z"
   },
   {
    "duration": 700,
    "start_time": "2021-10-15T07:29:11.019Z"
   },
   {
    "duration": 695,
    "start_time": "2021-10-15T07:29:11.025Z"
   },
   {
    "duration": 691,
    "start_time": "2021-10-15T07:29:11.031Z"
   },
   {
    "duration": 687,
    "start_time": "2021-10-15T07:29:11.036Z"
   },
   {
    "duration": 682,
    "start_time": "2021-10-15T07:29:11.043Z"
   },
   {
    "duration": 677,
    "start_time": "2021-10-15T07:29:11.049Z"
   },
   {
    "duration": 674,
    "start_time": "2021-10-15T07:29:11.054Z"
   },
   {
    "duration": 668,
    "start_time": "2021-10-15T07:29:11.061Z"
   },
   {
    "duration": 664,
    "start_time": "2021-10-15T07:29:11.066Z"
   },
   {
    "duration": 661,
    "start_time": "2021-10-15T07:29:11.071Z"
   },
   {
    "duration": 658,
    "start_time": "2021-10-15T07:29:11.075Z"
   },
   {
    "duration": 655,
    "start_time": "2021-10-15T07:29:11.080Z"
   },
   {
    "duration": 1959,
    "start_time": "2021-10-15T07:29:57.968Z"
   },
   {
    "duration": 46,
    "start_time": "2021-10-15T07:29:59.930Z"
   },
   {
    "duration": 34,
    "start_time": "2021-10-15T07:29:59.979Z"
   },
   {
    "duration": 69,
    "start_time": "2021-10-15T07:30:00.015Z"
   },
   {
    "duration": 17,
    "start_time": "2021-10-15T07:30:00.087Z"
   },
   {
    "duration": 60,
    "start_time": "2021-10-15T07:30:00.107Z"
   },
   {
    "duration": 5,
    "start_time": "2021-10-15T07:30:00.170Z"
   },
   {
    "duration": 88,
    "start_time": "2021-10-15T07:30:00.180Z"
   },
   {
    "duration": 15,
    "start_time": "2021-10-15T07:30:00.272Z"
   },
   {
    "duration": 8,
    "start_time": "2021-10-15T07:30:00.290Z"
   },
   {
    "duration": 567,
    "start_time": "2021-10-15T07:30:00.301Z"
   },
   {
    "duration": 349,
    "start_time": "2021-10-15T07:30:00.522Z"
   },
   {
    "duration": 346,
    "start_time": "2021-10-15T07:30:00.526Z"
   },
   {
    "duration": 340,
    "start_time": "2021-10-15T07:30:00.533Z"
   },
   {
    "duration": 338,
    "start_time": "2021-10-15T07:30:00.537Z"
   },
   {
    "duration": 336,
    "start_time": "2021-10-15T07:30:00.540Z"
   },
   {
    "duration": 333,
    "start_time": "2021-10-15T07:30:00.545Z"
   },
   {
    "duration": 330,
    "start_time": "2021-10-15T07:30:00.549Z"
   },
   {
    "duration": 328,
    "start_time": "2021-10-15T07:30:00.552Z"
   },
   {
    "duration": 327,
    "start_time": "2021-10-15T07:30:00.555Z"
   },
   {
    "duration": 326,
    "start_time": "2021-10-15T07:30:00.557Z"
   },
   {
    "duration": 325,
    "start_time": "2021-10-15T07:30:00.560Z"
   },
   {
    "duration": 324,
    "start_time": "2021-10-15T07:30:00.563Z"
   },
   {
    "duration": 323,
    "start_time": "2021-10-15T07:30:00.565Z"
   },
   {
    "duration": 323,
    "start_time": "2021-10-15T07:30:00.566Z"
   },
   {
    "duration": 323,
    "start_time": "2021-10-15T07:30:00.568Z"
   },
   {
    "duration": 323,
    "start_time": "2021-10-15T07:30:00.569Z"
   },
   {
    "duration": 323,
    "start_time": "2021-10-15T07:30:00.571Z"
   },
   {
    "duration": 1898,
    "start_time": "2021-10-15T07:30:46.179Z"
   },
   {
    "duration": 44,
    "start_time": "2021-10-15T07:30:48.080Z"
   },
   {
    "duration": 38,
    "start_time": "2021-10-15T07:30:48.127Z"
   },
   {
    "duration": 38,
    "start_time": "2021-10-15T07:30:48.168Z"
   },
   {
    "duration": 17,
    "start_time": "2021-10-15T07:30:48.209Z"
   },
   {
    "duration": 57,
    "start_time": "2021-10-15T07:30:48.228Z"
   },
   {
    "duration": 4,
    "start_time": "2021-10-15T07:30:48.287Z"
   },
   {
    "duration": 96,
    "start_time": "2021-10-15T07:30:48.295Z"
   },
   {
    "duration": 15,
    "start_time": "2021-10-15T07:30:48.394Z"
   },
   {
    "duration": 6,
    "start_time": "2021-10-15T07:30:48.411Z"
   },
   {
    "duration": 112,
    "start_time": "2021-10-15T07:30:48.420Z"
   },
   {
    "duration": 37,
    "start_time": "2021-10-15T07:30:48.534Z"
   },
   {
    "duration": 3,
    "start_time": "2021-10-15T07:30:48.574Z"
   },
   {
    "duration": 108,
    "start_time": "2021-10-15T07:30:48.579Z"
   },
   {
    "duration": 725,
    "start_time": "2021-10-15T07:30:47.964Z"
   },
   {
    "duration": 725,
    "start_time": "2021-10-15T07:30:47.966Z"
   },
   {
    "duration": 724,
    "start_time": "2021-10-15T07:30:47.968Z"
   },
   {
    "duration": 722,
    "start_time": "2021-10-15T07:30:47.971Z"
   },
   {
    "duration": 723,
    "start_time": "2021-10-15T07:30:47.972Z"
   },
   {
    "duration": 721,
    "start_time": "2021-10-15T07:30:47.975Z"
   },
   {
    "duration": 715,
    "start_time": "2021-10-15T07:30:47.983Z"
   },
   {
    "duration": 713,
    "start_time": "2021-10-15T07:30:47.986Z"
   },
   {
    "duration": 708,
    "start_time": "2021-10-15T07:30:47.993Z"
   },
   {
    "duration": 707,
    "start_time": "2021-10-15T07:30:47.995Z"
   },
   {
    "duration": 706,
    "start_time": "2021-10-15T07:30:47.998Z"
   },
   {
    "duration": 706,
    "start_time": "2021-10-15T07:30:48.000Z"
   },
   {
    "duration": 706,
    "start_time": "2021-10-15T07:30:48.001Z"
   },
   {
    "duration": 1881,
    "start_time": "2021-10-15T07:31:00.591Z"
   },
   {
    "duration": 55,
    "start_time": "2021-10-15T07:31:02.476Z"
   },
   {
    "duration": 62,
    "start_time": "2021-10-15T07:31:02.536Z"
   },
   {
    "duration": 70,
    "start_time": "2021-10-15T07:31:02.601Z"
   },
   {
    "duration": 18,
    "start_time": "2021-10-15T07:31:02.673Z"
   },
   {
    "duration": 26,
    "start_time": "2021-10-15T07:31:02.694Z"
   },
   {
    "duration": 40,
    "start_time": "2021-10-15T07:31:02.722Z"
   },
   {
    "duration": 59,
    "start_time": "2021-10-15T07:31:02.766Z"
   },
   {
    "duration": 35,
    "start_time": "2021-10-15T07:31:02.828Z"
   },
   {
    "duration": 3,
    "start_time": "2021-10-15T07:31:02.866Z"
   },
   {
    "duration": 112,
    "start_time": "2021-10-15T07:31:02.872Z"
   },
   {
    "duration": 26,
    "start_time": "2021-10-15T07:31:02.987Z"
   },
   {
    "duration": 3,
    "start_time": "2021-10-15T07:31:03.016Z"
   },
   {
    "duration": 99,
    "start_time": "2021-10-15T07:31:03.022Z"
   },
   {
    "duration": 40,
    "start_time": "2021-10-15T07:31:03.124Z"
   },
   {
    "duration": 3,
    "start_time": "2021-10-15T07:31:03.166Z"
   },
   {
    "duration": 12,
    "start_time": "2021-10-15T07:31:03.172Z"
   },
   {
    "duration": 9,
    "start_time": "2021-10-15T07:31:03.186Z"
   },
   {
    "duration": 99,
    "start_time": "2021-10-15T07:31:03.197Z"
   },
   {
    "duration": 741,
    "start_time": "2021-10-15T07:31:02.558Z"
   },
   {
    "duration": 738,
    "start_time": "2021-10-15T07:31:02.562Z"
   },
   {
    "duration": 729,
    "start_time": "2021-10-15T07:31:02.573Z"
   },
   {
    "duration": 726,
    "start_time": "2021-10-15T07:31:02.577Z"
   },
   {
    "duration": 722,
    "start_time": "2021-10-15T07:31:02.582Z"
   },
   {
    "duration": 720,
    "start_time": "2021-10-15T07:31:02.585Z"
   },
   {
    "duration": 719,
    "start_time": "2021-10-15T07:31:02.588Z"
   },
   {
    "duration": 1916,
    "start_time": "2021-10-15T07:31:21.526Z"
   },
   {
    "duration": 44,
    "start_time": "2021-10-15T07:31:23.445Z"
   },
   {
    "duration": 30,
    "start_time": "2021-10-15T07:31:23.492Z"
   },
   {
    "duration": 63,
    "start_time": "2021-10-15T07:31:23.525Z"
   },
   {
    "duration": 19,
    "start_time": "2021-10-15T07:31:23.590Z"
   },
   {
    "duration": 55,
    "start_time": "2021-10-15T07:31:23.611Z"
   },
   {
    "duration": 3,
    "start_time": "2021-10-15T07:31:23.669Z"
   },
   {
    "duration": 86,
    "start_time": "2021-10-15T07:31:23.676Z"
   },
   {
    "duration": 16,
    "start_time": "2021-10-15T07:31:23.765Z"
   },
   {
    "duration": 3,
    "start_time": "2021-10-15T07:31:23.783Z"
   },
   {
    "duration": 114,
    "start_time": "2021-10-15T07:31:23.788Z"
   },
   {
    "duration": 25,
    "start_time": "2021-10-15T07:31:23.904Z"
   },
   {
    "duration": 10,
    "start_time": "2021-10-15T07:31:23.931Z"
   },
   {
    "duration": 72,
    "start_time": "2021-10-15T07:31:23.962Z"
   },
   {
    "duration": 45,
    "start_time": "2021-10-15T07:31:24.036Z"
   },
   {
    "duration": 4,
    "start_time": "2021-10-15T07:31:24.083Z"
   },
   {
    "duration": 13,
    "start_time": "2021-10-15T07:31:24.090Z"
   },
   {
    "duration": 5,
    "start_time": "2021-10-15T07:31:24.106Z"
   },
   {
    "duration": 73,
    "start_time": "2021-10-15T07:31:24.114Z"
   },
   {
    "duration": 3,
    "start_time": "2021-10-15T07:31:24.190Z"
   },
   {
    "duration": 5,
    "start_time": "2021-10-15T07:31:24.197Z"
   },
   {
    "duration": 102,
    "start_time": "2021-10-15T07:31:24.205Z"
   },
   {
    "duration": 740,
    "start_time": "2021-10-15T07:31:23.571Z"
   },
   {
    "duration": 738,
    "start_time": "2021-10-15T07:31:23.574Z"
   },
   {
    "duration": 731,
    "start_time": "2021-10-15T07:31:23.584Z"
   },
   {
    "duration": 1885,
    "start_time": "2021-10-15T07:31:36.552Z"
   },
   {
    "duration": 45,
    "start_time": "2021-10-15T07:31:38.441Z"
   },
   {
    "duration": 30,
    "start_time": "2021-10-15T07:31:38.489Z"
   },
   {
    "duration": 60,
    "start_time": "2021-10-15T07:31:38.521Z"
   },
   {
    "duration": 17,
    "start_time": "2021-10-15T07:31:38.583Z"
   },
   {
    "duration": 25,
    "start_time": "2021-10-15T07:31:38.602Z"
   },
   {
    "duration": 32,
    "start_time": "2021-10-15T07:31:38.630Z"
   },
   {
    "duration": 61,
    "start_time": "2021-10-15T07:31:38.666Z"
   },
   {
    "duration": 40,
    "start_time": "2021-10-15T07:31:38.730Z"
   },
   {
    "duration": 4,
    "start_time": "2021-10-15T07:31:38.773Z"
   },
   {
    "duration": 110,
    "start_time": "2021-10-15T07:31:38.780Z"
   },
   {
    "duration": 23,
    "start_time": "2021-10-15T07:31:38.892Z"
   },
   {
    "duration": 2,
    "start_time": "2021-10-15T07:31:38.918Z"
   },
   {
    "duration": 97,
    "start_time": "2021-10-15T07:31:38.923Z"
   },
   {
    "duration": 24,
    "start_time": "2021-10-15T07:31:39.022Z"
   },
   {
    "duration": 3,
    "start_time": "2021-10-15T07:31:39.063Z"
   },
   {
    "duration": 10,
    "start_time": "2021-10-15T07:31:39.068Z"
   },
   {
    "duration": 5,
    "start_time": "2021-10-15T07:31:39.080Z"
   },
   {
    "duration": 31,
    "start_time": "2021-10-15T07:31:39.087Z"
   },
   {
    "duration": 41,
    "start_time": "2021-10-15T07:31:39.121Z"
   },
   {
    "duration": 3,
    "start_time": "2021-10-15T07:31:39.165Z"
   },
   {
    "duration": 374,
    "start_time": "2021-10-15T07:31:39.171Z"
   },
   {
    "duration": 716,
    "start_time": "2021-10-15T07:31:38.831Z"
   },
   {
    "duration": 711,
    "start_time": "2021-10-15T07:31:38.838Z"
   },
   {
    "duration": 1981,
    "start_time": "2021-10-15T07:32:17.015Z"
   },
   {
    "duration": 50,
    "start_time": "2021-10-15T07:32:19.000Z"
   },
   {
    "duration": 32,
    "start_time": "2021-10-15T07:32:19.053Z"
   },
   {
    "duration": 43,
    "start_time": "2021-10-15T07:32:19.088Z"
   },
   {
    "duration": 43,
    "start_time": "2021-10-15T07:32:19.133Z"
   },
   {
    "duration": 24,
    "start_time": "2021-10-15T07:32:19.178Z"
   },
   {
    "duration": 4,
    "start_time": "2021-10-15T07:32:19.204Z"
   },
   {
    "duration": 100,
    "start_time": "2021-10-15T07:32:19.211Z"
   },
   {
    "duration": 16,
    "start_time": "2021-10-15T07:32:19.314Z"
   },
   {
    "duration": 102,
    "start_time": "2021-10-15T07:32:19.333Z"
   },
   {
    "duration": 36,
    "start_time": "2021-10-15T07:32:19.438Z"
   },
   {
    "duration": 87,
    "start_time": "2021-10-15T07:32:19.476Z"
   },
   {
    "duration": 25,
    "start_time": "2021-10-15T07:32:19.565Z"
   },
   {
    "duration": 8,
    "start_time": "2021-10-15T07:32:19.592Z"
   },
   {
    "duration": 64,
    "start_time": "2021-10-15T07:32:19.602Z"
   },
   {
    "duration": 3,
    "start_time": "2021-10-15T07:32:19.668Z"
   },
   {
    "duration": 5,
    "start_time": "2021-10-15T07:32:19.673Z"
   },
   {
    "duration": 411,
    "start_time": "2021-10-15T07:32:19.681Z"
   },
   {
    "duration": 1926,
    "start_time": "2021-10-15T07:32:58.831Z"
   },
   {
    "duration": 49,
    "start_time": "2021-10-15T07:33:00.761Z"
   },
   {
    "duration": 52,
    "start_time": "2021-10-15T07:33:00.812Z"
   },
   {
    "duration": 39,
    "start_time": "2021-10-15T07:33:00.866Z"
   },
   {
    "duration": 17,
    "start_time": "2021-10-15T07:33:00.907Z"
   },
   {
    "duration": 60,
    "start_time": "2021-10-15T07:33:00.926Z"
   },
   {
    "duration": 7,
    "start_time": "2021-10-15T07:33:00.989Z"
   },
   {
    "duration": 78,
    "start_time": "2021-10-15T07:33:00.999Z"
   },
   {
    "duration": 17,
    "start_time": "2021-10-15T07:33:01.082Z"
   },
   {
    "duration": 122,
    "start_time": "2021-10-15T07:33:01.102Z"
   },
   {
    "duration": 39,
    "start_time": "2021-10-15T07:33:01.226Z"
   },
   {
    "duration": 72,
    "start_time": "2021-10-15T07:33:01.268Z"
   },
   {
    "duration": 41,
    "start_time": "2021-10-15T07:33:01.342Z"
   },
   {
    "duration": 10,
    "start_time": "2021-10-15T07:33:01.386Z"
   },
   {
    "duration": 67,
    "start_time": "2021-10-15T07:33:01.398Z"
   },
   {
    "duration": 4,
    "start_time": "2021-10-15T07:33:01.467Z"
   },
   {
    "duration": 394,
    "start_time": "2021-10-15T07:33:01.473Z"
   },
   {
    "duration": 1907,
    "start_time": "2021-10-15T07:34:35.669Z"
   },
   {
    "duration": 47,
    "start_time": "2021-10-15T07:34:37.579Z"
   },
   {
    "duration": 43,
    "start_time": "2021-10-15T07:34:37.629Z"
   },
   {
    "duration": 43,
    "start_time": "2021-10-15T07:34:37.675Z"
   },
   {
    "duration": 43,
    "start_time": "2021-10-15T07:34:37.721Z"
   },
   {
    "duration": 28,
    "start_time": "2021-10-15T07:34:37.766Z"
   },
   {
    "duration": 3,
    "start_time": "2021-10-15T07:34:37.797Z"
   },
   {
    "duration": 107,
    "start_time": "2021-10-15T07:34:37.805Z"
   },
   {
    "duration": 17,
    "start_time": "2021-10-15T07:34:37.916Z"
   },
   {
    "duration": 108,
    "start_time": "2021-10-15T07:34:37.935Z"
   },
   {
    "duration": 51,
    "start_time": "2021-10-15T07:34:38.045Z"
   },
   {
    "duration": 118,
    "start_time": "2021-10-15T07:34:38.100Z"
   },
   {
    "duration": 48,
    "start_time": "2021-10-15T07:34:38.221Z"
   },
   {
    "duration": 11,
    "start_time": "2021-10-15T07:34:38.273Z"
   },
   {
    "duration": 36,
    "start_time": "2021-10-15T07:34:38.286Z"
   },
   {
    "duration": 403,
    "start_time": "2021-10-15T07:34:38.361Z"
   },
   {
    "duration": 631,
    "start_time": "2021-10-15T07:34:38.136Z"
   },
   {
    "duration": 627,
    "start_time": "2021-10-15T07:34:38.141Z"
   },
   {
    "duration": 1909,
    "start_time": "2021-10-15T07:35:27.635Z"
   },
   {
    "duration": 45,
    "start_time": "2021-10-15T07:35:29.547Z"
   },
   {
    "duration": 30,
    "start_time": "2021-10-15T07:35:29.595Z"
   },
   {
    "duration": 61,
    "start_time": "2021-10-15T07:35:29.628Z"
   },
   {
    "duration": 18,
    "start_time": "2021-10-15T07:35:29.691Z"
   },
   {
    "duration": 63,
    "start_time": "2021-10-15T07:35:29.712Z"
   },
   {
    "duration": 4,
    "start_time": "2021-10-15T07:35:29.777Z"
   },
   {
    "duration": 89,
    "start_time": "2021-10-15T07:35:29.784Z"
   },
   {
    "duration": 16,
    "start_time": "2021-10-15T07:35:29.876Z"
   },
   {
    "duration": 106,
    "start_time": "2021-10-15T07:35:29.895Z"
   },
   {
    "duration": 25,
    "start_time": "2021-10-15T07:35:30.004Z"
   },
   {
    "duration": 88,
    "start_time": "2021-10-15T07:35:30.032Z"
   },
   {
    "duration": 45,
    "start_time": "2021-10-15T07:35:30.123Z"
   },
   {
    "duration": 9,
    "start_time": "2021-10-15T07:35:30.170Z"
   },
   {
    "duration": 34,
    "start_time": "2021-10-15T07:35:30.182Z"
   },
   {
    "duration": 353,
    "start_time": "2021-10-15T07:38:21.999Z"
   },
   {
    "duration": 1995,
    "start_time": "2021-10-15T07:38:29.521Z"
   },
   {
    "duration": 45,
    "start_time": "2021-10-15T07:38:31.518Z"
   },
   {
    "duration": 31,
    "start_time": "2021-10-15T07:38:31.566Z"
   },
   {
    "duration": 65,
    "start_time": "2021-10-15T07:38:31.599Z"
   },
   {
    "duration": 17,
    "start_time": "2021-10-15T07:38:31.666Z"
   },
   {
    "duration": 37,
    "start_time": "2021-10-15T07:38:31.686Z"
   },
   {
    "duration": 10,
    "start_time": "2021-10-15T07:38:31.726Z"
   },
   {
    "duration": 60,
    "start_time": "2021-10-15T07:38:31.762Z"
   },
   {
    "duration": 16,
    "start_time": "2021-10-15T07:38:31.825Z"
   },
   {
    "duration": 115,
    "start_time": "2021-10-15T07:38:31.864Z"
   },
   {
    "duration": 27,
    "start_time": "2021-10-15T07:38:31.982Z"
   },
   {
    "duration": 101,
    "start_time": "2021-10-15T07:38:32.012Z"
   },
   {
    "duration": 50,
    "start_time": "2021-10-15T07:38:32.116Z"
   },
   {
    "duration": 9,
    "start_time": "2021-10-15T07:38:32.170Z"
   },
   {
    "duration": 36,
    "start_time": "2021-10-15T07:38:32.182Z"
   },
   {
    "duration": 543,
    "start_time": "2021-10-15T07:38:32.221Z"
   },
   {
    "duration": 604,
    "start_time": "2021-10-15T07:38:32.164Z"
   },
   {
    "duration": 599,
    "start_time": "2021-10-15T07:38:32.171Z"
   },
   {
    "duration": 597,
    "start_time": "2021-10-15T07:38:32.174Z"
   },
   {
    "duration": 1817,
    "start_time": "2021-10-15T07:51:55.518Z"
   },
   {
    "duration": 44,
    "start_time": "2021-10-15T07:51:57.338Z"
   },
   {
    "duration": 31,
    "start_time": "2021-10-15T07:51:57.386Z"
   },
   {
    "duration": 66,
    "start_time": "2021-10-15T07:51:57.420Z"
   },
   {
    "duration": 18,
    "start_time": "2021-10-15T07:51:57.489Z"
   },
   {
    "duration": 55,
    "start_time": "2021-10-15T07:51:57.510Z"
   },
   {
    "duration": 4,
    "start_time": "2021-10-15T07:51:57.568Z"
   },
   {
    "duration": 58,
    "start_time": "2021-10-15T07:51:57.576Z"
   },
   {
    "duration": 37,
    "start_time": "2021-10-15T07:51:57.637Z"
   },
   {
    "duration": 138,
    "start_time": "2021-10-15T07:51:57.676Z"
   },
   {
    "duration": 27,
    "start_time": "2021-10-15T07:51:57.817Z"
   },
   {
    "duration": 70,
    "start_time": "2021-10-15T07:51:57.863Z"
   },
   {
    "duration": 47,
    "start_time": "2021-10-15T07:51:57.936Z"
   },
   {
    "duration": 9,
    "start_time": "2021-10-15T07:51:57.986Z"
   },
   {
    "duration": 73,
    "start_time": "2021-10-15T07:51:57.999Z"
   },
   {
    "duration": 1942,
    "start_time": "2021-10-15T08:00:32.335Z"
   },
   {
    "duration": 49,
    "start_time": "2021-10-15T08:00:34.281Z"
   },
   {
    "duration": 43,
    "start_time": "2021-10-15T08:00:34.332Z"
   },
   {
    "duration": 40,
    "start_time": "2021-10-15T08:00:34.378Z"
   },
   {
    "duration": 43,
    "start_time": "2021-10-15T08:00:34.420Z"
   },
   {
    "duration": 25,
    "start_time": "2021-10-15T08:00:34.465Z"
   },
   {
    "duration": 4,
    "start_time": "2021-10-15T08:00:34.494Z"
   },
   {
    "duration": 102,
    "start_time": "2021-10-15T08:00:34.500Z"
   },
   {
    "duration": 17,
    "start_time": "2021-10-15T08:00:34.607Z"
   },
   {
    "duration": 124,
    "start_time": "2021-10-15T08:00:34.626Z"
   },
   {
    "duration": 36,
    "start_time": "2021-10-15T08:00:34.753Z"
   },
   {
    "duration": 101,
    "start_time": "2021-10-15T08:00:34.791Z"
   },
   {
    "duration": 26,
    "start_time": "2021-10-15T08:00:34.894Z"
   },
   {
    "duration": 19,
    "start_time": "2021-10-15T08:00:34.922Z"
   },
   {
    "duration": 50,
    "start_time": "2021-10-15T08:00:34.944Z"
   },
   {
    "duration": 1952,
    "start_time": "2021-10-15T08:03:14.831Z"
   },
   {
    "duration": 46,
    "start_time": "2021-10-15T08:03:16.786Z"
   },
   {
    "duration": 42,
    "start_time": "2021-10-15T08:03:16.835Z"
   },
   {
    "duration": 41,
    "start_time": "2021-10-15T08:03:16.880Z"
   },
   {
    "duration": 45,
    "start_time": "2021-10-15T08:03:16.924Z"
   },
   {
    "duration": 26,
    "start_time": "2021-10-15T08:03:16.971Z"
   },
   {
    "duration": 3,
    "start_time": "2021-10-15T08:03:16.999Z"
   },
   {
    "duration": 93,
    "start_time": "2021-10-15T08:03:17.004Z"
   },
   {
    "duration": 16,
    "start_time": "2021-10-15T08:03:17.101Z"
   },
   {
    "duration": 115,
    "start_time": "2021-10-15T08:03:17.119Z"
   },
   {
    "duration": 28,
    "start_time": "2021-10-15T08:03:17.236Z"
   },
   {
    "duration": 70,
    "start_time": "2021-10-15T08:03:17.266Z"
   },
   {
    "duration": 26,
    "start_time": "2021-10-15T08:03:17.361Z"
   },
   {
    "duration": 8,
    "start_time": "2021-10-15T08:03:17.389Z"
   },
   {
    "duration": 69,
    "start_time": "2021-10-15T08:03:17.399Z"
   },
   {
    "duration": 4,
    "start_time": "2021-10-15T08:03:17.471Z"
   },
   {
    "duration": 30,
    "start_time": "2021-10-15T08:03:17.478Z"
   },
   {
    "duration": 10,
    "start_time": "2021-10-15T08:03:17.511Z"
   },
   {
    "duration": 414,
    "start_time": "2021-10-15T08:03:17.524Z"
   },
   {
    "duration": 1879,
    "start_time": "2021-10-15T08:12:23.253Z"
   },
   {
    "duration": 46,
    "start_time": "2021-10-15T08:12:25.135Z"
   },
   {
    "duration": 32,
    "start_time": "2021-10-15T08:12:25.184Z"
   },
   {
    "duration": 60,
    "start_time": "2021-10-15T08:12:25.218Z"
   },
   {
    "duration": 17,
    "start_time": "2021-10-15T08:12:25.281Z"
   },
   {
    "duration": 61,
    "start_time": "2021-10-15T08:12:25.300Z"
   },
   {
    "duration": 4,
    "start_time": "2021-10-15T08:12:25.365Z"
   },
   {
    "duration": 88,
    "start_time": "2021-10-15T08:12:25.375Z"
   },
   {
    "duration": 19,
    "start_time": "2021-10-15T08:12:25.467Z"
   },
   {
    "duration": 8098,
    "start_time": "2021-10-15T08:12:25.488Z"
   },
   {
    "duration": 1129,
    "start_time": "2021-10-15T08:12:32.459Z"
   },
   {
    "duration": 1125,
    "start_time": "2021-10-15T08:12:32.464Z"
   },
   {
    "duration": 1122,
    "start_time": "2021-10-15T08:12:32.469Z"
   },
   {
    "duration": 1120,
    "start_time": "2021-10-15T08:12:32.472Z"
   },
   {
    "duration": 1119,
    "start_time": "2021-10-15T08:12:32.474Z"
   },
   {
    "duration": 1117,
    "start_time": "2021-10-15T08:12:32.478Z"
   },
   {
    "duration": 1115,
    "start_time": "2021-10-15T08:12:32.481Z"
   },
   {
    "duration": 1113,
    "start_time": "2021-10-15T08:12:32.484Z"
   },
   {
    "duration": 1113,
    "start_time": "2021-10-15T08:12:32.485Z"
   },
   {
    "duration": 1902,
    "start_time": "2021-10-15T08:14:03.829Z"
   },
   {
    "duration": 46,
    "start_time": "2021-10-15T08:14:05.734Z"
   },
   {
    "duration": 31,
    "start_time": "2021-10-15T08:14:05.784Z"
   },
   {
    "duration": 66,
    "start_time": "2021-10-15T08:14:05.818Z"
   },
   {
    "duration": 17,
    "start_time": "2021-10-15T08:14:05.887Z"
   },
   {
    "duration": 56,
    "start_time": "2021-10-15T08:14:05.906Z"
   },
   {
    "duration": 4,
    "start_time": "2021-10-15T08:14:05.965Z"
   },
   {
    "duration": 69,
    "start_time": "2021-10-15T08:14:05.972Z"
   },
   {
    "duration": 28,
    "start_time": "2021-10-15T08:14:06.044Z"
   },
   {
    "duration": 8148,
    "start_time": "2021-10-15T08:14:06.075Z"
   },
   {
    "duration": 1127,
    "start_time": "2021-10-15T08:14:13.099Z"
   },
   {
    "duration": 1124,
    "start_time": "2021-10-15T08:14:13.103Z"
   },
   {
    "duration": 1121,
    "start_time": "2021-10-15T08:14:13.107Z"
   },
   {
    "duration": 1118,
    "start_time": "2021-10-15T08:14:13.112Z"
   },
   {
    "duration": 1115,
    "start_time": "2021-10-15T08:14:13.116Z"
   },
   {
    "duration": 1113,
    "start_time": "2021-10-15T08:14:13.120Z"
   },
   {
    "duration": 1111,
    "start_time": "2021-10-15T08:14:13.124Z"
   },
   {
    "duration": 1107,
    "start_time": "2021-10-15T08:14:13.129Z"
   },
   {
    "duration": 1105,
    "start_time": "2021-10-15T08:14:13.133Z"
   },
   {
    "duration": 51,
    "start_time": "2021-10-15T08:15:04.149Z"
   },
   {
    "duration": 1863,
    "start_time": "2021-10-15T08:15:14.517Z"
   },
   {
    "duration": 48,
    "start_time": "2021-10-15T08:15:16.383Z"
   },
   {
    "duration": 44,
    "start_time": "2021-10-15T08:15:16.438Z"
   },
   {
    "duration": 41,
    "start_time": "2021-10-15T08:15:16.484Z"
   },
   {
    "duration": 43,
    "start_time": "2021-10-15T08:15:16.528Z"
   },
   {
    "duration": 27,
    "start_time": "2021-10-15T08:15:16.574Z"
   },
   {
    "duration": 4,
    "start_time": "2021-10-15T08:15:16.603Z"
   },
   {
    "duration": 101,
    "start_time": "2021-10-15T08:15:16.611Z"
   },
   {
    "duration": 17,
    "start_time": "2021-10-15T08:15:16.715Z"
   },
   {
    "duration": 113,
    "start_time": "2021-10-15T08:15:16.734Z"
   },
   {
    "duration": 33,
    "start_time": "2021-10-15T08:15:16.850Z"
   },
   {
    "duration": 89,
    "start_time": "2021-10-15T08:15:16.886Z"
   },
   {
    "duration": 24,
    "start_time": "2021-10-15T08:15:16.978Z"
   },
   {
    "duration": 15,
    "start_time": "2021-10-15T08:15:17.005Z"
   },
   {
    "duration": 9575,
    "start_time": "2021-10-15T08:15:17.023Z"
   },
   {
    "duration": 1066,
    "start_time": "2021-10-15T08:15:25.535Z"
   },
   {
    "duration": 1065,
    "start_time": "2021-10-15T08:15:25.538Z"
   },
   {
    "duration": 1065,
    "start_time": "2021-10-15T08:15:25.540Z"
   },
   {
    "duration": 1063,
    "start_time": "2021-10-15T08:15:25.544Z"
   },
   {
    "duration": 32,
    "start_time": "2021-10-15T08:17:25.880Z"
   },
   {
    "duration": 2299,
    "start_time": "2021-10-15T08:17:30.589Z"
   },
   {
    "duration": 44,
    "start_time": "2021-10-15T08:17:32.891Z"
   },
   {
    "duration": 32,
    "start_time": "2021-10-15T08:17:32.938Z"
   },
   {
    "duration": 41,
    "start_time": "2021-10-15T08:17:32.972Z"
   },
   {
    "duration": 51,
    "start_time": "2021-10-15T08:17:33.015Z"
   },
   {
    "duration": 25,
    "start_time": "2021-10-15T08:17:33.069Z"
   },
   {
    "duration": 3,
    "start_time": "2021-10-15T08:17:33.097Z"
   },
   {
    "duration": 105,
    "start_time": "2021-10-15T08:17:33.103Z"
   },
   {
    "duration": 15,
    "start_time": "2021-10-15T08:17:33.211Z"
   },
   {
    "duration": 119,
    "start_time": "2021-10-15T08:17:33.229Z"
   },
   {
    "duration": 28,
    "start_time": "2021-10-15T08:17:33.350Z"
   },
   {
    "duration": 80,
    "start_time": "2021-10-15T08:17:33.380Z"
   },
   {
    "duration": 24,
    "start_time": "2021-10-15T08:17:33.462Z"
   },
   {
    "duration": 9,
    "start_time": "2021-10-15T08:17:33.488Z"
   },
   {
    "duration": 36,
    "start_time": "2021-10-15T08:17:33.499Z"
   },
   {
    "duration": 4,
    "start_time": "2021-10-15T08:17:33.537Z"
   },
   {
    "duration": 30,
    "start_time": "2021-10-15T08:17:33.543Z"
   },
   {
    "duration": 4,
    "start_time": "2021-10-15T08:17:33.575Z"
   },
   {
    "duration": 618,
    "start_time": "2021-10-15T08:17:33.581Z"
   },
   {
    "duration": 1880,
    "start_time": "2021-10-15T08:18:57.432Z"
   },
   {
    "duration": 43,
    "start_time": "2021-10-15T08:18:59.315Z"
   },
   {
    "duration": 29,
    "start_time": "2021-10-15T08:18:59.361Z"
   },
   {
    "duration": 39,
    "start_time": "2021-10-15T08:18:59.393Z"
   },
   {
    "duration": 17,
    "start_time": "2021-10-15T08:18:59.462Z"
   },
   {
    "duration": 26,
    "start_time": "2021-10-15T08:18:59.482Z"
   },
   {
    "duration": 4,
    "start_time": "2021-10-15T08:18:59.511Z"
   },
   {
    "duration": 99,
    "start_time": "2021-10-15T08:18:59.518Z"
   },
   {
    "duration": 15,
    "start_time": "2021-10-15T08:18:59.621Z"
   },
   {
    "duration": 111,
    "start_time": "2021-10-15T08:18:59.639Z"
   },
   {
    "duration": 25,
    "start_time": "2021-10-15T08:18:59.761Z"
   },
   {
    "duration": 101,
    "start_time": "2021-10-15T08:18:59.789Z"
   },
   {
    "duration": 26,
    "start_time": "2021-10-15T08:18:59.893Z"
   },
   {
    "duration": 9,
    "start_time": "2021-10-15T08:18:59.923Z"
   },
   {
    "duration": 34,
    "start_time": "2021-10-15T08:18:59.964Z"
   },
   {
    "duration": 4,
    "start_time": "2021-10-15T08:19:00.001Z"
   },
   {
    "duration": 70,
    "start_time": "2021-10-15T08:19:00.008Z"
   },
   {
    "duration": 7,
    "start_time": "2021-10-15T08:19:00.081Z"
   },
   {
    "duration": 418,
    "start_time": "2021-10-15T08:19:00.091Z"
   },
   {
    "duration": 2056,
    "start_time": "2021-10-15T08:23:14.160Z"
   },
   {
    "duration": 62,
    "start_time": "2021-10-15T08:23:16.220Z"
   },
   {
    "duration": 39,
    "start_time": "2021-10-15T08:23:16.285Z"
   },
   {
    "duration": 76,
    "start_time": "2021-10-15T08:23:16.327Z"
   },
   {
    "duration": 18,
    "start_time": "2021-10-15T08:23:16.406Z"
   },
   {
    "duration": 53,
    "start_time": "2021-10-15T08:23:16.427Z"
   },
   {
    "duration": 134,
    "start_time": "2021-10-15T08:23:16.482Z"
   },
   {
    "duration": 69,
    "start_time": "2021-10-15T08:23:16.621Z"
   },
   {
    "duration": 16,
    "start_time": "2021-10-15T08:23:16.693Z"
   },
   {
    "duration": 112,
    "start_time": "2021-10-15T08:23:16.711Z"
   },
   {
    "duration": 41,
    "start_time": "2021-10-15T08:23:16.826Z"
   },
   {
    "duration": 68,
    "start_time": "2021-10-15T08:23:16.869Z"
   },
   {
    "duration": 40,
    "start_time": "2021-10-15T08:23:16.940Z"
   },
   {
    "duration": 8,
    "start_time": "2021-10-15T08:23:16.983Z"
   },
   {
    "duration": 68,
    "start_time": "2021-10-15T08:23:16.994Z"
   },
   {
    "duration": 3,
    "start_time": "2021-10-15T08:23:17.065Z"
   },
   {
    "duration": 36,
    "start_time": "2021-10-15T08:23:17.071Z"
   },
   {
    "duration": 8,
    "start_time": "2021-10-15T08:23:17.109Z"
   },
   {
    "duration": 417,
    "start_time": "2021-10-15T08:23:17.119Z"
   },
   {
    "duration": 1951,
    "start_time": "2021-10-15T08:25:00.410Z"
   },
   {
    "duration": 45,
    "start_time": "2021-10-15T08:25:02.363Z"
   },
   {
    "duration": 56,
    "start_time": "2021-10-15T08:25:02.411Z"
   },
   {
    "duration": 56,
    "start_time": "2021-10-15T08:25:02.470Z"
   },
   {
    "duration": 42,
    "start_time": "2021-10-15T08:25:02.528Z"
   },
   {
    "duration": 28,
    "start_time": "2021-10-15T08:25:02.573Z"
   },
   {
    "duration": 141,
    "start_time": "2021-10-15T08:25:02.603Z"
   },
   {
    "duration": 65,
    "start_time": "2021-10-15T08:25:02.749Z"
   },
   {
    "duration": 17,
    "start_time": "2021-10-15T08:25:02.817Z"
   },
   {
    "duration": 110,
    "start_time": "2021-10-15T08:25:02.837Z"
   },
   {
    "duration": 25,
    "start_time": "2021-10-15T08:25:02.961Z"
   },
   {
    "duration": 94,
    "start_time": "2021-10-15T08:25:02.989Z"
   },
   {
    "duration": 25,
    "start_time": "2021-10-15T08:25:03.085Z"
   },
   {
    "duration": 9,
    "start_time": "2021-10-15T08:25:03.112Z"
   },
   {
    "duration": 67,
    "start_time": "2021-10-15T08:25:03.123Z"
   },
   {
    "duration": 3,
    "start_time": "2021-10-15T08:25:03.193Z"
   },
   {
    "duration": 32,
    "start_time": "2021-10-15T08:25:03.198Z"
   },
   {
    "duration": 29,
    "start_time": "2021-10-15T08:25:03.233Z"
   },
   {
    "duration": 3,
    "start_time": "2021-10-15T08:25:03.264Z"
   },
   {
    "duration": 1827,
    "start_time": "2021-10-15T08:33:42.790Z"
   },
   {
    "duration": 44,
    "start_time": "2021-10-15T08:33:44.620Z"
   },
   {
    "duration": 31,
    "start_time": "2021-10-15T08:33:44.667Z"
   },
   {
    "duration": 64,
    "start_time": "2021-10-15T08:33:44.700Z"
   },
   {
    "duration": 18,
    "start_time": "2021-10-15T08:33:44.766Z"
   },
   {
    "duration": 24,
    "start_time": "2021-10-15T08:33:44.786Z"
   },
   {
    "duration": 143,
    "start_time": "2021-10-15T08:33:44.813Z"
   },
   {
    "duration": 3,
    "start_time": "2021-10-15T08:33:44.964Z"
   },
   {
    "duration": 7,
    "start_time": "2021-10-15T08:33:44.970Z"
   },
   {
    "duration": 115,
    "start_time": "2021-10-15T08:33:44.979Z"
   },
   {
    "duration": 24,
    "start_time": "2021-10-15T08:33:45.097Z"
   },
   {
    "duration": 98,
    "start_time": "2021-10-15T08:33:45.124Z"
   },
   {
    "duration": 45,
    "start_time": "2021-10-15T08:33:45.224Z"
   },
   {
    "duration": 9,
    "start_time": "2021-10-15T08:33:45.271Z"
   },
   {
    "duration": 41,
    "start_time": "2021-10-15T08:33:45.282Z"
   },
   {
    "duration": 3,
    "start_time": "2021-10-15T08:33:45.325Z"
   },
   {
    "duration": 113,
    "start_time": "2021-10-15T08:33:45.330Z"
   },
   {
    "duration": 47,
    "start_time": "2021-10-15T08:33:45.445Z"
   },
   {
    "duration": 4,
    "start_time": "2021-10-15T08:33:45.495Z"
   },
   {
    "duration": 7,
    "start_time": "2021-10-15T08:33:45.501Z"
   },
   {
    "duration": 1901,
    "start_time": "2021-10-15T08:36:29.777Z"
   },
   {
    "duration": 45,
    "start_time": "2021-10-15T08:36:31.681Z"
   },
   {
    "duration": 40,
    "start_time": "2021-10-15T08:36:31.729Z"
   },
   {
    "duration": 40,
    "start_time": "2021-10-15T08:36:31.772Z"
   },
   {
    "duration": 48,
    "start_time": "2021-10-15T08:36:31.814Z"
   },
   {
    "duration": 26,
    "start_time": "2021-10-15T08:36:31.865Z"
   },
   {
    "duration": 132,
    "start_time": "2021-10-15T08:36:31.893Z"
   },
   {
    "duration": 4,
    "start_time": "2021-10-15T08:36:32.029Z"
   },
   {
    "duration": 10,
    "start_time": "2021-10-15T08:36:32.036Z"
   },
   {
    "duration": 104,
    "start_time": "2021-10-15T08:36:32.048Z"
   },
   {
    "duration": 29,
    "start_time": "2021-10-15T08:36:32.162Z"
   },
   {
    "duration": 90,
    "start_time": "2021-10-15T08:36:32.194Z"
   },
   {
    "duration": 25,
    "start_time": "2021-10-15T08:36:32.287Z"
   },
   {
    "duration": 10,
    "start_time": "2021-10-15T08:36:32.315Z"
   },
   {
    "duration": 70,
    "start_time": "2021-10-15T08:36:32.327Z"
   },
   {
    "duration": 3,
    "start_time": "2021-10-15T08:36:32.400Z"
   },
   {
    "duration": 118,
    "start_time": "2021-10-15T08:36:32.406Z"
   },
   {
    "duration": 52,
    "start_time": "2021-10-15T08:36:32.527Z"
   },
   {
    "duration": 4,
    "start_time": "2021-10-15T08:36:32.581Z"
   },
   {
    "duration": 7,
    "start_time": "2021-10-15T08:36:32.588Z"
   },
   {
    "duration": 52,
    "start_time": "2021-10-15T08:41:15.612Z"
   },
   {
    "duration": 32,
    "start_time": "2021-10-15T08:41:17.546Z"
   },
   {
    "duration": 49,
    "start_time": "2021-10-15T08:43:25.359Z"
   },
   {
    "duration": 32,
    "start_time": "2021-10-15T08:43:26.256Z"
   },
   {
    "duration": 70,
    "start_time": "2021-10-15T08:43:48.996Z"
   },
   {
    "duration": 26,
    "start_time": "2021-10-15T08:43:49.580Z"
   },
   {
    "duration": 37,
    "start_time": "2021-10-15T08:50:10.751Z"
   },
   {
    "duration": 44,
    "start_time": "2021-10-15T08:51:45.466Z"
   },
   {
    "duration": 42,
    "start_time": "2021-10-15T08:52:00.588Z"
   },
   {
    "duration": 34,
    "start_time": "2021-10-15T08:56:37.033Z"
   },
   {
    "duration": 61,
    "start_time": "2021-10-15T08:56:49.573Z"
   },
   {
    "duration": 1987,
    "start_time": "2021-10-15T08:57:16.645Z"
   },
   {
    "duration": 47,
    "start_time": "2021-10-15T08:57:18.635Z"
   },
   {
    "duration": 41,
    "start_time": "2021-10-15T08:57:18.686Z"
   },
   {
    "duration": 50,
    "start_time": "2021-10-15T08:57:18.730Z"
   },
   {
    "duration": 18,
    "start_time": "2021-10-15T08:57:18.782Z"
   },
   {
    "duration": 70,
    "start_time": "2021-10-15T08:57:18.802Z"
   },
   {
    "duration": 39,
    "start_time": "2021-10-15T08:57:18.874Z"
   },
   {
    "duration": 47,
    "start_time": "2021-10-15T08:57:18.916Z"
   },
   {
    "duration": 27,
    "start_time": "2021-10-15T08:57:18.966Z"
   },
   {
    "duration": 124,
    "start_time": "2021-10-15T08:57:18.995Z"
   },
   {
    "duration": 3,
    "start_time": "2021-10-15T08:57:19.122Z"
   },
   {
    "duration": 7,
    "start_time": "2021-10-15T08:57:19.128Z"
   },
   {
    "duration": 127,
    "start_time": "2021-10-15T08:57:19.138Z"
   },
   {
    "duration": 27,
    "start_time": "2021-10-15T08:57:19.268Z"
   },
   {
    "duration": 97,
    "start_time": "2021-10-15T08:57:19.298Z"
   },
   {
    "duration": 25,
    "start_time": "2021-10-15T08:57:19.397Z"
   },
   {
    "duration": 8,
    "start_time": "2021-10-15T08:57:19.424Z"
   },
   {
    "duration": 34,
    "start_time": "2021-10-15T08:57:19.462Z"
   },
   {
    "duration": 4,
    "start_time": "2021-10-15T08:57:19.499Z"
   },
   {
    "duration": 115,
    "start_time": "2021-10-15T08:57:19.506Z"
   },
   {
    "duration": 46,
    "start_time": "2021-10-15T08:57:19.624Z"
   },
   {
    "duration": 4,
    "start_time": "2021-10-15T08:57:19.674Z"
   },
   {
    "duration": 8,
    "start_time": "2021-10-15T08:57:19.684Z"
   },
   {
    "duration": 23,
    "start_time": "2021-10-15T09:07:58.980Z"
   },
   {
    "duration": 38,
    "start_time": "2021-10-15T09:11:21.368Z"
   },
   {
    "duration": 35,
    "start_time": "2021-10-15T09:12:28.660Z"
   },
   {
    "duration": 482,
    "start_time": "2021-10-15T09:23:47.940Z"
   },
   {
    "duration": 385,
    "start_time": "2021-10-15T09:24:47.796Z"
   },
   {
    "duration": 1911,
    "start_time": "2021-10-15T09:36:47.669Z"
   },
   {
    "duration": 46,
    "start_time": "2021-10-15T09:36:49.583Z"
   },
   {
    "duration": 49,
    "start_time": "2021-10-15T09:36:49.632Z"
   },
   {
    "duration": 32,
    "start_time": "2021-10-15T09:36:49.684Z"
   },
   {
    "duration": 53,
    "start_time": "2021-10-15T09:36:49.718Z"
   },
   {
    "duration": 41,
    "start_time": "2021-10-15T09:36:49.774Z"
   },
   {
    "duration": 66,
    "start_time": "2021-10-15T09:36:49.818Z"
   },
   {
    "duration": 20,
    "start_time": "2021-10-15T09:36:49.887Z"
   },
   {
    "duration": 56,
    "start_time": "2021-10-15T09:36:49.911Z"
   },
   {
    "duration": 24,
    "start_time": "2021-10-15T09:36:49.972Z"
   },
   {
    "duration": 148,
    "start_time": "2021-10-15T09:36:50.000Z"
   },
   {
    "duration": 44,
    "start_time": "2021-10-15T09:36:50.150Z"
   },
   {
    "duration": 3,
    "start_time": "2021-10-15T09:36:50.196Z"
   },
   {
    "duration": 17,
    "start_time": "2021-10-15T09:36:50.202Z"
   },
   {
    "duration": 151,
    "start_time": "2021-10-15T09:36:50.221Z"
   },
   {
    "duration": 30,
    "start_time": "2021-10-15T09:36:50.374Z"
   },
   {
    "duration": 109,
    "start_time": "2021-10-15T09:36:50.407Z"
   },
   {
    "duration": 26,
    "start_time": "2021-10-15T09:36:50.519Z"
   },
   {
    "duration": 12,
    "start_time": "2021-10-15T09:36:50.567Z"
   },
   {
    "duration": 48,
    "start_time": "2021-10-15T09:36:50.583Z"
   },
   {
    "duration": 5,
    "start_time": "2021-10-15T09:36:50.633Z"
   },
   {
    "duration": 5,
    "start_time": "2021-10-15T09:36:50.666Z"
   },
   {
    "duration": 573,
    "start_time": "2021-10-15T09:36:50.674Z"
   },
   {
    "duration": 1153,
    "start_time": "2021-10-15T09:36:50.097Z"
   },
   {
    "duration": 1150,
    "start_time": "2021-10-15T09:36:50.101Z"
   },
   {
    "duration": 1148,
    "start_time": "2021-10-15T09:36:50.105Z"
   },
   {
    "duration": 1146,
    "start_time": "2021-10-15T09:36:50.108Z"
   },
   {
    "duration": 1144,
    "start_time": "2021-10-15T09:36:50.112Z"
   },
   {
    "duration": 81,
    "start_time": "2021-10-15T09:40:34.445Z"
   },
   {
    "duration": 33,
    "start_time": "2021-10-15T09:40:35.184Z"
   },
   {
    "duration": 14,
    "start_time": "2021-10-15T09:43:56.017Z"
   },
   {
    "duration": 468,
    "start_time": "2021-10-15T09:45:39.961Z"
   },
   {
    "duration": 308,
    "start_time": "2021-10-15T09:45:49.942Z"
   },
   {
    "duration": 28,
    "start_time": "2021-10-15T09:46:16.205Z"
   },
   {
    "duration": 102,
    "start_time": "2021-10-15T09:47:35.207Z"
   },
   {
    "duration": 3,
    "start_time": "2021-10-15T09:47:40.701Z"
   },
   {
    "duration": 102,
    "start_time": "2021-10-15T09:47:43.039Z"
   },
   {
    "duration": 131,
    "start_time": "2021-10-15T09:48:04.318Z"
   },
   {
    "duration": 308,
    "start_time": "2021-10-15T09:48:23.058Z"
   },
   {
    "duration": 319,
    "start_time": "2021-10-15T09:48:57.629Z"
   },
   {
    "duration": 309,
    "start_time": "2021-10-15T09:49:11.624Z"
   },
   {
    "duration": 329,
    "start_time": "2021-10-15T09:49:20.194Z"
   },
   {
    "duration": 309,
    "start_time": "2021-10-15T09:58:04.099Z"
   },
   {
    "duration": 376,
    "start_time": "2021-10-15T09:58:22.963Z"
   },
   {
    "duration": 296,
    "start_time": "2021-10-15T09:59:13.921Z"
   },
   {
    "duration": 318,
    "start_time": "2021-10-15T09:59:32.844Z"
   },
   {
    "duration": 43,
    "start_time": "2021-10-15T10:00:41.742Z"
   },
   {
    "duration": 25,
    "start_time": "2021-10-15T10:00:47.450Z"
   },
   {
    "duration": 25,
    "start_time": "2021-10-15T10:00:58.773Z"
   },
   {
    "duration": 34,
    "start_time": "2021-10-15T10:01:30.769Z"
   },
   {
    "duration": 33,
    "start_time": "2021-10-15T10:04:50.316Z"
   },
   {
    "duration": 58,
    "start_time": "2021-10-15T10:07:40.653Z"
   },
   {
    "duration": 21,
    "start_time": "2021-10-15T10:10:49.545Z"
   },
   {
    "duration": 73,
    "start_time": "2021-10-15T10:11:08.190Z"
   },
   {
    "duration": 201,
    "start_time": "2021-10-15T10:46:16.155Z"
   },
   {
    "duration": 33,
    "start_time": "2021-10-15T10:46:29.082Z"
   },
   {
    "duration": 171,
    "start_time": "2021-10-15T10:46:44.813Z"
   },
   {
    "duration": 34,
    "start_time": "2021-10-15T10:46:45.262Z"
   },
   {
    "duration": 39,
    "start_time": "2021-10-15T10:46:49.890Z"
   },
   {
    "duration": 219,
    "start_time": "2021-10-15T10:47:03.425Z"
   },
   {
    "duration": 38,
    "start_time": "2021-10-15T10:47:04.659Z"
   },
   {
    "duration": 105,
    "start_time": "2021-10-15T10:47:39.410Z"
   },
   {
    "duration": 33,
    "start_time": "2021-10-15T10:47:40.109Z"
   },
   {
    "duration": 284,
    "start_time": "2021-10-15T10:48:17.673Z"
   },
   {
    "duration": 45,
    "start_time": "2021-10-15T10:48:20.403Z"
   },
   {
    "duration": 297,
    "start_time": "2021-10-15T10:48:29.579Z"
   },
   {
    "duration": 37,
    "start_time": "2021-10-15T10:48:30.452Z"
   },
   {
    "duration": 374,
    "start_time": "2021-10-15T10:50:06.275Z"
   },
   {
    "duration": 3,
    "start_time": "2021-10-15T10:50:23.377Z"
   },
   {
    "duration": 1881,
    "start_time": "2021-10-15T15:41:33.014Z"
   },
   {
    "duration": 45,
    "start_time": "2021-10-15T15:41:34.898Z"
   },
   {
    "duration": 38,
    "start_time": "2021-10-15T15:41:34.946Z"
   },
   {
    "duration": 45,
    "start_time": "2021-10-15T15:41:34.987Z"
   },
   {
    "duration": 17,
    "start_time": "2021-10-15T15:41:35.035Z"
   },
   {
    "duration": 70,
    "start_time": "2021-10-15T15:41:35.055Z"
   },
   {
    "duration": 38,
    "start_time": "2021-10-15T15:41:35.127Z"
   },
   {
    "duration": 17,
    "start_time": "2021-10-15T15:41:35.169Z"
   },
   {
    "duration": 55,
    "start_time": "2021-10-15T15:41:35.189Z"
   },
   {
    "duration": 51,
    "start_time": "2021-10-15T15:41:35.246Z"
   },
   {
    "duration": 104,
    "start_time": "2021-10-15T15:41:35.299Z"
   },
   {
    "duration": 42,
    "start_time": "2021-10-15T15:41:35.406Z"
   },
   {
    "duration": 11,
    "start_time": "2021-10-15T15:41:35.450Z"
   },
   {
    "duration": 21,
    "start_time": "2021-10-15T15:41:35.464Z"
   },
   {
    "duration": 116,
    "start_time": "2021-10-15T15:41:35.488Z"
   },
   {
    "duration": 30,
    "start_time": "2021-10-15T15:41:35.607Z"
   },
   {
    "duration": 87,
    "start_time": "2021-10-15T15:41:35.640Z"
   },
   {
    "duration": 24,
    "start_time": "2021-10-15T15:41:35.730Z"
   },
   {
    "duration": 27,
    "start_time": "2021-10-15T15:41:35.757Z"
   },
   {
    "duration": 56,
    "start_time": "2021-10-15T15:41:35.787Z"
   },
   {
    "duration": 7,
    "start_time": "2021-10-15T15:41:35.845Z"
   },
   {
    "duration": 91,
    "start_time": "2021-10-15T15:41:35.855Z"
   },
   {
    "duration": 31,
    "start_time": "2021-10-15T15:41:35.950Z"
   },
   {
    "duration": 3,
    "start_time": "2021-10-15T15:41:35.984Z"
   },
   {
    "duration": 10,
    "start_time": "2021-10-15T15:41:35.990Z"
   },
   {
    "duration": 226,
    "start_time": "2021-10-15T15:41:36.003Z"
   },
   {
    "duration": 605,
    "start_time": "2021-10-15T15:41:36.231Z"
   },
   {
    "duration": 1263,
    "start_time": "2021-10-15T15:41:35.575Z"
   },
   {
    "duration": 137,
    "start_time": "2021-10-15T15:41:56.570Z"
   },
   {
    "duration": 135,
    "start_time": "2021-10-15T15:42:35.270Z"
   },
   {
    "duration": 144,
    "start_time": "2021-10-15T15:42:52.823Z"
   },
   {
    "duration": 2274,
    "start_time": "2021-10-16T07:00:50.819Z"
   },
   {
    "duration": 49,
    "start_time": "2021-10-16T07:00:53.096Z"
   },
   {
    "duration": 40,
    "start_time": "2021-10-16T07:00:53.148Z"
   },
   {
    "duration": 50,
    "start_time": "2021-10-16T07:00:53.191Z"
   },
   {
    "duration": 18,
    "start_time": "2021-10-16T07:00:53.243Z"
   },
   {
    "duration": 64,
    "start_time": "2021-10-16T07:00:53.263Z"
   },
   {
    "duration": 42,
    "start_time": "2021-10-16T07:00:53.331Z"
   },
   {
    "duration": 50,
    "start_time": "2021-10-16T07:00:53.376Z"
   },
   {
    "duration": 28,
    "start_time": "2021-10-16T07:00:53.433Z"
   },
   {
    "duration": 21,
    "start_time": "2021-10-16T07:00:53.465Z"
   },
   {
    "duration": 117,
    "start_time": "2021-10-16T07:00:53.523Z"
   },
   {
    "duration": 31,
    "start_time": "2021-10-16T07:00:53.642Z"
   },
   {
    "duration": 3,
    "start_time": "2021-10-16T07:00:53.675Z"
   },
   {
    "duration": 12,
    "start_time": "2021-10-16T07:00:53.680Z"
   },
   {
    "duration": 137,
    "start_time": "2021-10-16T07:00:53.694Z"
   },
   {
    "duration": 25,
    "start_time": "2021-10-16T07:00:53.834Z"
   },
   {
    "duration": 95,
    "start_time": "2021-10-16T07:00:53.861Z"
   },
   {
    "duration": 25,
    "start_time": "2021-10-16T07:00:53.959Z"
   },
   {
    "duration": 39,
    "start_time": "2021-10-16T07:00:53.986Z"
   },
   {
    "duration": 41,
    "start_time": "2021-10-16T07:00:54.028Z"
   },
   {
    "duration": 3,
    "start_time": "2021-10-16T07:00:54.071Z"
   },
   {
    "duration": 109,
    "start_time": "2021-10-16T07:00:54.076Z"
   },
   {
    "duration": 41,
    "start_time": "2021-10-16T07:00:54.188Z"
   },
   {
    "duration": 4,
    "start_time": "2021-10-16T07:00:54.232Z"
   },
   {
    "duration": 9,
    "start_time": "2021-10-16T07:00:54.239Z"
   },
   {
    "duration": 235,
    "start_time": "2021-10-16T07:00:54.250Z"
   },
   {
    "duration": 256,
    "start_time": "2021-10-16T07:00:54.490Z"
   },
   {
    "duration": 48,
    "start_time": "2021-10-16T07:00:54.749Z"
   },
   {
    "duration": 52,
    "start_time": "2021-10-16T07:00:54.799Z"
   },
   {
    "duration": 4,
    "start_time": "2021-10-16T07:00:54.853Z"
   },
   {
    "duration": 48,
    "start_time": "2021-10-16T07:03:28.393Z"
   },
   {
    "duration": 18,
    "start_time": "2021-10-16T07:03:39.666Z"
   },
   {
    "duration": 24,
    "start_time": "2021-10-16T07:06:09.282Z"
   },
   {
    "duration": 17,
    "start_time": "2021-10-16T07:06:10.364Z"
   },
   {
    "duration": 156,
    "start_time": "2021-10-16T07:07:06.381Z"
   },
   {
    "duration": 32,
    "start_time": "2021-10-16T07:07:06.877Z"
   },
   {
    "duration": 49,
    "start_time": "2021-10-16T07:07:12.824Z"
   },
   {
    "duration": 18,
    "start_time": "2021-10-16T07:07:13.602Z"
   },
   {
    "duration": 103,
    "start_time": "2021-10-16T07:07:32.784Z"
   },
   {
    "duration": 22,
    "start_time": "2021-10-16T07:07:34.421Z"
   },
   {
    "duration": 3,
    "start_time": "2021-10-16T07:25:31.599Z"
   },
   {
    "duration": 1867,
    "start_time": "2021-10-16T07:28:28.274Z"
   },
   {
    "duration": 44,
    "start_time": "2021-10-16T07:28:30.144Z"
   },
   {
    "duration": 49,
    "start_time": "2021-10-16T07:28:30.191Z"
   },
   {
    "duration": 34,
    "start_time": "2021-10-16T07:28:30.243Z"
   },
   {
    "duration": 50,
    "start_time": "2021-10-16T07:28:30.280Z"
   },
   {
    "duration": 42,
    "start_time": "2021-10-16T07:28:30.333Z"
   },
   {
    "duration": 76,
    "start_time": "2021-10-16T07:28:30.377Z"
   },
   {
    "duration": 18,
    "start_time": "2021-10-16T07:28:30.456Z"
   },
   {
    "duration": 56,
    "start_time": "2021-10-16T07:28:30.478Z"
   },
   {
    "duration": 21,
    "start_time": "2021-10-16T07:28:30.538Z"
   },
   {
    "duration": 132,
    "start_time": "2021-10-16T07:28:30.562Z"
   },
   {
    "duration": 44,
    "start_time": "2021-10-16T07:28:30.696Z"
   },
   {
    "duration": 3,
    "start_time": "2021-10-16T07:28:30.742Z"
   },
   {
    "duration": 32,
    "start_time": "2021-10-16T07:28:30.748Z"
   },
   {
    "duration": 127,
    "start_time": "2021-10-16T07:28:30.782Z"
   },
   {
    "duration": 34,
    "start_time": "2021-10-16T07:28:30.911Z"
   },
   {
    "duration": 91,
    "start_time": "2021-10-16T07:28:30.948Z"
   },
   {
    "duration": 28,
    "start_time": "2021-10-16T07:28:31.042Z"
   },
   {
    "duration": 79,
    "start_time": "2021-10-16T07:28:31.073Z"
   },
   {
    "duration": 114,
    "start_time": "2021-10-16T07:28:31.155Z"
   },
   {
    "duration": 47,
    "start_time": "2021-10-16T07:28:31.273Z"
   },
   {
    "duration": 115,
    "start_time": "2021-10-16T07:28:31.323Z"
   },
   {
    "duration": 32,
    "start_time": "2021-10-16T07:28:31.441Z"
   },
   {
    "duration": 41,
    "start_time": "2021-10-16T07:28:31.475Z"
   },
   {
    "duration": 45,
    "start_time": "2021-10-16T07:28:31.519Z"
   },
   {
    "duration": 261,
    "start_time": "2021-10-16T07:28:31.567Z"
   },
   {
    "duration": 260,
    "start_time": "2021-10-16T07:28:31.833Z"
   },
   {
    "duration": 61,
    "start_time": "2021-10-16T07:28:32.096Z"
   },
   {
    "duration": 177,
    "start_time": "2021-10-16T07:28:32.159Z"
   },
   {
    "duration": 34,
    "start_time": "2021-10-16T07:28:32.339Z"
   },
   {
    "duration": 128,
    "start_time": "2021-10-16T07:28:32.376Z"
   },
   {
    "duration": 23,
    "start_time": "2021-10-16T07:28:32.507Z"
   },
   {
    "duration": 69,
    "start_time": "2021-10-16T07:28:32.533Z"
   },
   {
    "duration": 142,
    "start_time": "2021-10-16T07:28:32.604Z"
   },
   {
    "duration": 34,
    "start_time": "2021-10-16T07:28:32.748Z"
   },
   {
    "duration": 418,
    "start_time": "2021-10-16T07:31:29.671Z"
   },
   {
    "duration": 649,
    "start_time": "2021-10-16T07:32:24.622Z"
   },
   {
    "duration": 2025,
    "start_time": "2021-10-16T07:32:35.836Z"
   },
   {
    "duration": 64,
    "start_time": "2021-10-16T07:32:37.866Z"
   },
   {
    "duration": 52,
    "start_time": "2021-10-16T07:32:37.934Z"
   },
   {
    "duration": 41,
    "start_time": "2021-10-16T07:32:37.989Z"
   },
   {
    "duration": 17,
    "start_time": "2021-10-16T07:32:38.033Z"
   },
   {
    "duration": 74,
    "start_time": "2021-10-16T07:32:38.053Z"
   },
   {
    "duration": 39,
    "start_time": "2021-10-16T07:32:38.129Z"
   },
   {
    "duration": 18,
    "start_time": "2021-10-16T07:32:38.172Z"
   },
   {
    "duration": 26,
    "start_time": "2021-10-16T07:32:38.224Z"
   },
   {
    "duration": 25,
    "start_time": "2021-10-16T07:32:38.252Z"
   },
   {
    "duration": 133,
    "start_time": "2021-10-16T07:32:38.279Z"
   },
   {
    "duration": 32,
    "start_time": "2021-10-16T07:32:38.422Z"
   },
   {
    "duration": 4,
    "start_time": "2021-10-16T07:32:38.456Z"
   },
   {
    "duration": 9,
    "start_time": "2021-10-16T07:32:38.462Z"
   },
   {
    "duration": 131,
    "start_time": "2021-10-16T07:32:38.473Z"
   },
   {
    "duration": 33,
    "start_time": "2021-10-16T07:32:38.606Z"
   },
   {
    "duration": 84,
    "start_time": "2021-10-16T07:32:38.641Z"
   },
   {
    "duration": 25,
    "start_time": "2021-10-16T07:32:38.727Z"
   },
   {
    "duration": 8,
    "start_time": "2021-10-16T07:32:38.755Z"
   },
   {
    "duration": 73,
    "start_time": "2021-10-16T07:32:38.765Z"
   },
   {
    "duration": 3,
    "start_time": "2021-10-16T07:32:38.840Z"
   },
   {
    "duration": 95,
    "start_time": "2021-10-16T07:32:38.845Z"
   },
   {
    "duration": 32,
    "start_time": "2021-10-16T07:32:38.945Z"
   },
   {
    "duration": 3,
    "start_time": "2021-10-16T07:32:38.980Z"
   },
   {
    "duration": 9,
    "start_time": "2021-10-16T07:32:38.985Z"
   },
   {
    "duration": 250,
    "start_time": "2021-10-16T07:32:38.996Z"
   },
   {
    "duration": 251,
    "start_time": "2021-10-16T07:32:39.248Z"
   },
   {
    "duration": 63,
    "start_time": "2021-10-16T07:32:39.502Z"
   },
   {
    "duration": 180,
    "start_time": "2021-10-16T07:32:39.567Z"
   },
   {
    "duration": 38,
    "start_time": "2021-10-16T07:32:39.750Z"
   },
   {
    "duration": 131,
    "start_time": "2021-10-16T07:32:39.791Z"
   },
   {
    "duration": 18,
    "start_time": "2021-10-16T07:32:39.924Z"
   },
   {
    "duration": 43,
    "start_time": "2021-10-16T07:32:39.945Z"
   },
   {
    "duration": 167,
    "start_time": "2021-10-16T07:32:39.991Z"
   },
   {
    "duration": 36,
    "start_time": "2021-10-16T07:32:40.160Z"
   },
   {
    "duration": 674,
    "start_time": "2021-10-16T07:32:40.200Z"
   },
   {
    "duration": 820,
    "start_time": "2021-10-16T07:33:18.427Z"
   },
   {
    "duration": 1885,
    "start_time": "2021-10-16T07:33:44.522Z"
   },
   {
    "duration": 43,
    "start_time": "2021-10-16T07:33:46.410Z"
   },
   {
    "duration": 41,
    "start_time": "2021-10-16T07:33:46.456Z"
   },
   {
    "duration": 51,
    "start_time": "2021-10-16T07:33:46.499Z"
   },
   {
    "duration": 18,
    "start_time": "2021-10-16T07:33:46.552Z"
   },
   {
    "duration": 70,
    "start_time": "2021-10-16T07:33:46.573Z"
   },
   {
    "duration": 38,
    "start_time": "2021-10-16T07:33:46.645Z"
   },
   {
    "duration": 41,
    "start_time": "2021-10-16T07:33:46.687Z"
   },
   {
    "duration": 25,
    "start_time": "2021-10-16T07:33:46.731Z"
   },
   {
    "duration": 22,
    "start_time": "2021-10-16T07:33:46.758Z"
   },
   {
    "duration": 140,
    "start_time": "2021-10-16T07:33:46.782Z"
   },
   {
    "duration": 31,
    "start_time": "2021-10-16T07:33:46.925Z"
   },
   {
    "duration": 3,
    "start_time": "2021-10-16T07:33:46.958Z"
   },
   {
    "duration": 10,
    "start_time": "2021-10-16T07:33:46.963Z"
   },
   {
    "duration": 126,
    "start_time": "2021-10-16T07:33:46.975Z"
   },
   {
    "duration": 27,
    "start_time": "2021-10-16T07:33:47.104Z"
   },
   {
    "duration": 65,
    "start_time": "2021-10-16T07:33:47.133Z"
   },
   {
    "duration": 25,
    "start_time": "2021-10-16T07:33:47.223Z"
   },
   {
    "duration": 8,
    "start_time": "2021-10-16T07:33:47.250Z"
   },
   {
    "duration": 70,
    "start_time": "2021-10-16T07:33:47.260Z"
   },
   {
    "duration": 2,
    "start_time": "2021-10-16T07:33:47.333Z"
   },
   {
    "duration": 93,
    "start_time": "2021-10-16T07:33:47.338Z"
   },
   {
    "duration": 32,
    "start_time": "2021-10-16T07:33:47.435Z"
   },
   {
    "duration": 3,
    "start_time": "2021-10-16T07:33:47.470Z"
   },
   {
    "duration": 7,
    "start_time": "2021-10-16T07:33:47.475Z"
   },
   {
    "duration": 239,
    "start_time": "2021-10-16T07:33:47.484Z"
   },
   {
    "duration": 250,
    "start_time": "2021-10-16T07:33:47.726Z"
   },
   {
    "duration": 68,
    "start_time": "2021-10-16T07:33:47.979Z"
   },
   {
    "duration": 167,
    "start_time": "2021-10-16T07:33:48.050Z"
   },
   {
    "duration": 33,
    "start_time": "2021-10-16T07:33:48.219Z"
   },
   {
    "duration": 128,
    "start_time": "2021-10-16T07:33:48.255Z"
   },
   {
    "duration": 17,
    "start_time": "2021-10-16T07:33:48.385Z"
   },
   {
    "duration": 53,
    "start_time": "2021-10-16T07:33:48.404Z"
   },
   {
    "duration": 137,
    "start_time": "2021-10-16T07:33:48.459Z"
   },
   {
    "duration": 43,
    "start_time": "2021-10-16T07:33:48.598Z"
   },
   {
    "duration": 631,
    "start_time": "2021-10-16T07:33:48.644Z"
   },
   {
    "duration": 1848,
    "start_time": "2021-10-16T07:35:08.971Z"
   },
   {
    "duration": 49,
    "start_time": "2021-10-16T07:35:10.821Z"
   },
   {
    "duration": 67,
    "start_time": "2021-10-16T07:35:10.878Z"
   },
   {
    "duration": 43,
    "start_time": "2021-10-16T07:35:10.948Z"
   },
   {
    "duration": 42,
    "start_time": "2021-10-16T07:35:10.993Z"
   },
   {
    "duration": 60,
    "start_time": "2021-10-16T07:35:11.038Z"
   },
   {
    "duration": 40,
    "start_time": "2021-10-16T07:35:11.125Z"
   },
   {
    "duration": 16,
    "start_time": "2021-10-16T07:35:11.168Z"
   },
   {
    "duration": 63,
    "start_time": "2021-10-16T07:35:11.186Z"
   },
   {
    "duration": 21,
    "start_time": "2021-10-16T07:35:11.251Z"
   },
   {
    "duration": 137,
    "start_time": "2021-10-16T07:35:11.274Z"
   },
   {
    "duration": 38,
    "start_time": "2021-10-16T07:35:11.413Z"
   },
   {
    "duration": 3,
    "start_time": "2021-10-16T07:35:11.453Z"
   },
   {
    "duration": 9,
    "start_time": "2021-10-16T07:35:11.458Z"
   },
   {
    "duration": 128,
    "start_time": "2021-10-16T07:35:11.469Z"
   },
   {
    "duration": 31,
    "start_time": "2021-10-16T07:35:11.599Z"
   },
   {
    "duration": 69,
    "start_time": "2021-10-16T07:35:11.633Z"
   },
   {
    "duration": 31,
    "start_time": "2021-10-16T07:35:11.722Z"
   },
   {
    "duration": 8,
    "start_time": "2021-10-16T07:35:11.756Z"
   },
   {
    "duration": 65,
    "start_time": "2021-10-16T07:35:11.767Z"
   },
   {
    "duration": 27,
    "start_time": "2021-10-16T07:35:11.834Z"
   },
   {
    "duration": 114,
    "start_time": "2021-10-16T07:35:11.868Z"
   },
   {
    "duration": 29,
    "start_time": "2021-10-16T07:35:11.985Z"
   },
   {
    "duration": 3,
    "start_time": "2021-10-16T07:35:12.023Z"
   },
   {
    "duration": 10,
    "start_time": "2021-10-16T07:35:12.029Z"
   },
   {
    "duration": 238,
    "start_time": "2021-10-16T07:35:12.042Z"
   },
   {
    "duration": 260,
    "start_time": "2021-10-16T07:35:12.282Z"
   },
   {
    "duration": 49,
    "start_time": "2021-10-16T07:35:12.545Z"
   },
   {
    "duration": 190,
    "start_time": "2021-10-16T07:35:12.597Z"
   },
   {
    "duration": 45,
    "start_time": "2021-10-16T07:35:12.790Z"
   },
   {
    "duration": 119,
    "start_time": "2021-10-16T07:35:12.838Z"
   },
   {
    "duration": 18,
    "start_time": "2021-10-16T07:35:12.959Z"
   },
   {
    "duration": 57,
    "start_time": "2021-10-16T07:35:12.980Z"
   },
   {
    "duration": 142,
    "start_time": "2021-10-16T07:35:13.039Z"
   },
   {
    "duration": 42,
    "start_time": "2021-10-16T07:35:13.183Z"
   },
   {
    "duration": 778,
    "start_time": "2021-10-16T07:35:13.228Z"
   },
   {
    "duration": 30,
    "start_time": "2021-10-16T07:35:14.008Z"
   },
   {
    "duration": 58,
    "start_time": "2021-10-16T07:35:31.187Z"
   },
   {
    "duration": 18,
    "start_time": "2021-10-16T07:35:31.975Z"
   },
   {
    "duration": 422,
    "start_time": "2021-10-16T08:00:32.631Z"
   },
   {
    "duration": 261,
    "start_time": "2021-10-16T08:04:51.538Z"
   },
   {
    "duration": 297,
    "start_time": "2021-10-16T08:04:58.409Z"
   },
   {
    "duration": 293,
    "start_time": "2021-10-16T08:05:51.192Z"
   },
   {
    "duration": 1886,
    "start_time": "2021-10-16T08:06:58.448Z"
   },
   {
    "duration": 49,
    "start_time": "2021-10-16T08:07:00.338Z"
   },
   {
    "duration": 67,
    "start_time": "2021-10-16T08:07:00.390Z"
   },
   {
    "duration": 29,
    "start_time": "2021-10-16T08:07:00.459Z"
   },
   {
    "duration": 43,
    "start_time": "2021-10-16T08:07:00.491Z"
   },
   {
    "duration": 44,
    "start_time": "2021-10-16T08:07:00.538Z"
   },
   {
    "duration": 72,
    "start_time": "2021-10-16T08:07:00.584Z"
   },
   {
    "duration": 19,
    "start_time": "2021-10-16T08:07:00.659Z"
   },
   {
    "duration": 48,
    "start_time": "2021-10-16T08:07:00.682Z"
   },
   {
    "duration": 24,
    "start_time": "2021-10-16T08:07:00.734Z"
   },
   {
    "duration": 135,
    "start_time": "2021-10-16T08:07:00.761Z"
   },
   {
    "duration": 44,
    "start_time": "2021-10-16T08:07:00.898Z"
   },
   {
    "duration": 20,
    "start_time": "2021-10-16T08:07:00.944Z"
   },
   {
    "duration": 17,
    "start_time": "2021-10-16T08:07:00.966Z"
   },
   {
    "duration": 115,
    "start_time": "2021-10-16T08:07:00.986Z"
   },
   {
    "duration": 31,
    "start_time": "2021-10-16T08:07:01.104Z"
   },
   {
    "duration": 128,
    "start_time": "2021-10-16T08:07:01.137Z"
   },
   {
    "duration": 27,
    "start_time": "2021-10-16T08:07:01.268Z"
   },
   {
    "duration": 85,
    "start_time": "2021-10-16T08:07:01.298Z"
   },
   {
    "duration": 70,
    "start_time": "2021-10-16T08:07:01.387Z"
   },
   {
    "duration": 37,
    "start_time": "2021-10-16T08:07:01.460Z"
   },
   {
    "duration": 106,
    "start_time": "2021-10-16T08:07:01.500Z"
   },
   {
    "duration": 37,
    "start_time": "2021-10-16T08:07:01.608Z"
   },
   {
    "duration": 21,
    "start_time": "2021-10-16T08:07:01.647Z"
   },
   {
    "duration": 18,
    "start_time": "2021-10-16T08:07:01.670Z"
   },
   {
    "duration": 234,
    "start_time": "2021-10-16T08:07:01.690Z"
   },
   {
    "duration": 262,
    "start_time": "2021-10-16T08:07:01.931Z"
   },
   {
    "duration": 66,
    "start_time": "2021-10-16T08:07:02.197Z"
   },
   {
    "duration": 169,
    "start_time": "2021-10-16T08:07:02.265Z"
   },
   {
    "duration": 37,
    "start_time": "2021-10-16T08:07:02.437Z"
   },
   {
    "duration": 128,
    "start_time": "2021-10-16T08:07:02.477Z"
   },
   {
    "duration": 27,
    "start_time": "2021-10-16T08:07:02.608Z"
   },
   {
    "duration": 66,
    "start_time": "2021-10-16T08:07:02.637Z"
   },
   {
    "duration": 188,
    "start_time": "2021-10-16T08:07:02.706Z"
   },
   {
    "duration": 58,
    "start_time": "2021-10-16T08:07:02.897Z"
   },
   {
    "duration": 142,
    "start_time": "2021-10-16T08:07:02.958Z"
   },
   {
    "duration": 35,
    "start_time": "2021-10-16T08:07:03.104Z"
   },
   {
    "duration": 388,
    "start_time": "2021-10-16T08:07:03.142Z"
   },
   {
    "duration": 159,
    "start_time": "2021-10-16T08:07:03.374Z"
   },
   {
    "duration": 159,
    "start_time": "2021-10-16T08:07:03.376Z"
   },
   {
    "duration": 274,
    "start_time": "2021-10-16T08:12:30.783Z"
   },
   {
    "duration": 260,
    "start_time": "2021-10-16T08:12:40.584Z"
   },
   {
    "duration": 76,
    "start_time": "2021-10-16T08:13:00.659Z"
   },
   {
    "duration": 35,
    "start_time": "2021-10-16T08:13:20.641Z"
   },
   {
    "duration": 49,
    "start_time": "2021-10-16T08:14:39.860Z"
   },
   {
    "duration": 39,
    "start_time": "2021-10-16T08:14:49.462Z"
   },
   {
    "duration": 38,
    "start_time": "2021-10-16T08:16:41.393Z"
   },
   {
    "duration": 1867,
    "start_time": "2021-10-16T08:21:23.938Z"
   },
   {
    "duration": 48,
    "start_time": "2021-10-16T08:21:25.809Z"
   },
   {
    "duration": 66,
    "start_time": "2021-10-16T08:21:25.861Z"
   },
   {
    "duration": 35,
    "start_time": "2021-10-16T08:21:25.931Z"
   },
   {
    "duration": 54,
    "start_time": "2021-10-16T08:21:25.969Z"
   },
   {
    "duration": 42,
    "start_time": "2021-10-16T08:21:26.032Z"
   },
   {
    "duration": 58,
    "start_time": "2021-10-16T08:21:26.076Z"
   },
   {
    "duration": 17,
    "start_time": "2021-10-16T08:21:26.138Z"
   },
   {
    "duration": 34,
    "start_time": "2021-10-16T08:21:26.158Z"
   },
   {
    "duration": 44,
    "start_time": "2021-10-16T08:21:26.194Z"
   },
   {
    "duration": 113,
    "start_time": "2021-10-16T08:21:26.240Z"
   },
   {
    "duration": 30,
    "start_time": "2021-10-16T08:21:26.356Z"
   },
   {
    "duration": 8,
    "start_time": "2021-10-16T08:21:26.389Z"
   },
   {
    "duration": 34,
    "start_time": "2021-10-16T08:21:26.399Z"
   },
   {
    "duration": 105,
    "start_time": "2021-10-16T08:21:26.436Z"
   },
   {
    "duration": 26,
    "start_time": "2021-10-16T08:21:26.543Z"
   },
   {
    "duration": 93,
    "start_time": "2021-10-16T08:21:26.572Z"
   },
   {
    "duration": 28,
    "start_time": "2021-10-16T08:21:26.668Z"
   },
   {
    "duration": 31,
    "start_time": "2021-10-16T08:21:26.698Z"
   },
   {
    "duration": 60,
    "start_time": "2021-10-16T08:21:26.732Z"
   },
   {
    "duration": 3,
    "start_time": "2021-10-16T08:21:26.795Z"
   },
   {
    "duration": 92,
    "start_time": "2021-10-16T08:21:26.801Z"
   },
   {
    "duration": 44,
    "start_time": "2021-10-16T08:21:26.899Z"
   },
   {
    "duration": 3,
    "start_time": "2021-10-16T08:21:26.946Z"
   },
   {
    "duration": 20,
    "start_time": "2021-10-16T08:21:26.951Z"
   },
   {
    "duration": 230,
    "start_time": "2021-10-16T08:21:26.974Z"
   },
   {
    "duration": 244,
    "start_time": "2021-10-16T08:21:27.207Z"
   },
   {
    "duration": 49,
    "start_time": "2021-10-16T08:21:27.453Z"
   },
   {
    "duration": 158,
    "start_time": "2021-10-16T08:21:27.522Z"
   },
   {
    "duration": 44,
    "start_time": "2021-10-16T08:21:27.682Z"
   },
   {
    "duration": 117,
    "start_time": "2021-10-16T08:21:27.728Z"
   },
   {
    "duration": 17,
    "start_time": "2021-10-16T08:21:27.847Z"
   },
   {
    "duration": 60,
    "start_time": "2021-10-16T08:21:27.866Z"
   },
   {
    "duration": 133,
    "start_time": "2021-10-16T08:21:27.928Z"
   },
   {
    "duration": 33,
    "start_time": "2021-10-16T08:21:28.064Z"
   },
   {
    "duration": 104,
    "start_time": "2021-10-16T08:21:28.099Z"
   },
   {
    "duration": 28,
    "start_time": "2021-10-16T08:21:28.205Z"
   },
   {
    "duration": 87,
    "start_time": "2021-10-16T08:21:28.235Z"
   },
   {
    "duration": 113,
    "start_time": "2021-10-16T08:21:28.324Z"
   },
   {
    "duration": 49,
    "start_time": "2021-10-16T08:21:28.440Z"
   },
   {
    "duration": 49,
    "start_time": "2021-10-16T08:21:28.491Z"
   },
   {
    "duration": 1906,
    "start_time": "2021-10-16T08:22:16.201Z"
   },
   {
    "duration": 44,
    "start_time": "2021-10-16T08:22:18.110Z"
   },
   {
    "duration": 39,
    "start_time": "2021-10-16T08:22:18.157Z"
   },
   {
    "duration": 49,
    "start_time": "2021-10-16T08:22:18.199Z"
   },
   {
    "duration": 18,
    "start_time": "2021-10-16T08:22:18.251Z"
   },
   {
    "duration": 68,
    "start_time": "2021-10-16T08:22:18.272Z"
   },
   {
    "duration": 45,
    "start_time": "2021-10-16T08:22:18.343Z"
   },
   {
    "duration": 45,
    "start_time": "2021-10-16T08:22:18.392Z"
   },
   {
    "duration": 25,
    "start_time": "2021-10-16T08:22:18.442Z"
   },
   {
    "duration": 55,
    "start_time": "2021-10-16T08:22:18.469Z"
   },
   {
    "duration": 121,
    "start_time": "2021-10-16T08:22:18.526Z"
   },
   {
    "duration": 31,
    "start_time": "2021-10-16T08:22:18.650Z"
   },
   {
    "duration": 7,
    "start_time": "2021-10-16T08:22:18.684Z"
   },
   {
    "duration": 29,
    "start_time": "2021-10-16T08:22:18.693Z"
   },
   {
    "duration": 111,
    "start_time": "2021-10-16T08:22:18.724Z"
   },
   {
    "duration": 25,
    "start_time": "2021-10-16T08:22:18.837Z"
   },
   {
    "duration": 92,
    "start_time": "2021-10-16T08:22:18.864Z"
   },
   {
    "duration": 24,
    "start_time": "2021-10-16T08:22:18.958Z"
   },
   {
    "duration": 37,
    "start_time": "2021-10-16T08:22:18.985Z"
   },
   {
    "duration": 39,
    "start_time": "2021-10-16T08:22:19.025Z"
   },
   {
    "duration": 95,
    "start_time": "2021-10-16T08:22:19.066Z"
   },
   {
    "duration": 3,
    "start_time": "2021-10-16T08:22:19.163Z"
   },
   {
    "duration": 11,
    "start_time": "2021-10-16T08:22:19.171Z"
   },
   {
    "duration": 8,
    "start_time": "2021-10-16T08:22:19.185Z"
   },
   {
    "duration": 231,
    "start_time": "2021-10-16T08:22:19.195Z"
   },
   {
    "duration": 235,
    "start_time": "2021-10-16T08:22:19.428Z"
   },
   {
    "duration": 61,
    "start_time": "2021-10-16T08:22:19.665Z"
   },
   {
    "duration": 158,
    "start_time": "2021-10-16T08:22:19.728Z"
   },
   {
    "duration": 45,
    "start_time": "2021-10-16T08:22:19.888Z"
   },
   {
    "duration": 115,
    "start_time": "2021-10-16T08:22:19.935Z"
   },
   {
    "duration": 17,
    "start_time": "2021-10-16T08:22:20.052Z"
   },
   {
    "duration": 66,
    "start_time": "2021-10-16T08:22:20.072Z"
   },
   {
    "duration": 130,
    "start_time": "2021-10-16T08:22:20.141Z"
   },
   {
    "duration": 34,
    "start_time": "2021-10-16T08:22:20.273Z"
   },
   {
    "duration": 112,
    "start_time": "2021-10-16T08:22:20.310Z"
   },
   {
    "duration": 16,
    "start_time": "2021-10-16T08:22:20.425Z"
   },
   {
    "duration": 13,
    "start_time": "2021-10-16T08:22:20.444Z"
   },
   {
    "duration": 95,
    "start_time": "2021-10-16T08:22:20.459Z"
   },
   {
    "duration": 48,
    "start_time": "2021-10-16T08:22:20.556Z"
   },
   {
    "duration": 50,
    "start_time": "2021-10-16T08:22:20.606Z"
   },
   {
    "duration": 2019,
    "start_time": "2021-10-16T08:23:27.494Z"
   },
   {
    "duration": 58,
    "start_time": "2021-10-16T08:23:29.515Z"
   },
   {
    "duration": 63,
    "start_time": "2021-10-16T08:23:29.578Z"
   },
   {
    "duration": 32,
    "start_time": "2021-10-16T08:23:29.644Z"
   },
   {
    "duration": 48,
    "start_time": "2021-10-16T08:23:29.679Z"
   },
   {
    "duration": 39,
    "start_time": "2021-10-16T08:23:29.729Z"
   },
   {
    "duration": 67,
    "start_time": "2021-10-16T08:23:29.771Z"
   },
   {
    "duration": 18,
    "start_time": "2021-10-16T08:23:29.842Z"
   },
   {
    "duration": 58,
    "start_time": "2021-10-16T08:23:29.865Z"
   },
   {
    "duration": 24,
    "start_time": "2021-10-16T08:23:29.926Z"
   },
   {
    "duration": 137,
    "start_time": "2021-10-16T08:23:29.953Z"
   },
   {
    "duration": 46,
    "start_time": "2021-10-16T08:23:30.093Z"
   },
   {
    "duration": 3,
    "start_time": "2021-10-16T08:23:30.142Z"
   },
   {
    "duration": 28,
    "start_time": "2021-10-16T08:23:30.147Z"
   },
   {
    "duration": 125,
    "start_time": "2021-10-16T08:23:30.177Z"
   },
   {
    "duration": 31,
    "start_time": "2021-10-16T08:23:30.305Z"
   },
   {
    "duration": 87,
    "start_time": "2021-10-16T08:23:30.338Z"
   },
   {
    "duration": 24,
    "start_time": "2021-10-16T08:23:30.427Z"
   },
   {
    "duration": 12,
    "start_time": "2021-10-16T08:23:30.454Z"
   },
   {
    "duration": 65,
    "start_time": "2021-10-16T08:23:30.469Z"
   },
   {
    "duration": 91,
    "start_time": "2021-10-16T08:23:30.537Z"
   },
   {
    "duration": 2,
    "start_time": "2021-10-16T08:23:30.631Z"
   },
   {
    "duration": 28,
    "start_time": "2021-10-16T08:23:30.638Z"
   },
   {
    "duration": 32,
    "start_time": "2021-10-16T08:23:30.669Z"
   },
   {
    "duration": 283,
    "start_time": "2021-10-16T08:23:30.703Z"
   },
   {
    "duration": 359,
    "start_time": "2021-10-16T08:23:30.990Z"
   },
   {
    "duration": 76,
    "start_time": "2021-10-16T08:23:31.359Z"
   },
   {
    "duration": 165,
    "start_time": "2021-10-16T08:23:31.438Z"
   },
   {
    "duration": 3,
    "start_time": "2021-10-16T08:23:31.606Z"
   },
   {
    "duration": 121,
    "start_time": "2021-10-16T08:23:31.623Z"
   },
   {
    "duration": 3,
    "start_time": "2021-10-16T08:23:31.746Z"
   },
   {
    "duration": 86,
    "start_time": "2021-10-16T08:23:31.752Z"
   },
   {
    "duration": 135,
    "start_time": "2021-10-16T08:23:31.841Z"
   },
   {
    "duration": 2,
    "start_time": "2021-10-16T08:23:31.979Z"
   },
   {
    "duration": 125,
    "start_time": "2021-10-16T08:23:31.983Z"
   },
   {
    "duration": 3,
    "start_time": "2021-10-16T08:23:32.111Z"
   },
   {
    "duration": 20,
    "start_time": "2021-10-16T08:23:32.116Z"
   },
   {
    "duration": 102,
    "start_time": "2021-10-16T08:23:32.139Z"
   },
   {
    "duration": 49,
    "start_time": "2021-10-16T08:23:32.243Z"
   },
   {
    "duration": 56,
    "start_time": "2021-10-16T08:23:32.294Z"
   },
   {
    "duration": 19,
    "start_time": "2021-10-16T08:24:17.591Z"
   },
   {
    "duration": 20,
    "start_time": "2021-10-16T08:24:24.956Z"
   },
   {
    "duration": 3,
    "start_time": "2021-10-16T08:24:47.279Z"
   },
   {
    "duration": 21,
    "start_time": "2021-10-16T08:25:04.238Z"
   },
   {
    "duration": 24,
    "start_time": "2021-10-16T08:25:05.419Z"
   },
   {
    "duration": 30,
    "start_time": "2021-10-16T08:26:00.196Z"
   },
   {
    "duration": 1860,
    "start_time": "2021-10-16T08:28:10.042Z"
   },
   {
    "duration": 48,
    "start_time": "2021-10-16T08:28:11.905Z"
   },
   {
    "duration": 66,
    "start_time": "2021-10-16T08:28:11.958Z"
   },
   {
    "duration": 34,
    "start_time": "2021-10-16T08:28:12.027Z"
   },
   {
    "duration": 19,
    "start_time": "2021-10-16T08:28:12.064Z"
   },
   {
    "duration": 73,
    "start_time": "2021-10-16T08:28:12.085Z"
   },
   {
    "duration": 64,
    "start_time": "2021-10-16T08:28:12.160Z"
   },
   {
    "duration": 17,
    "start_time": "2021-10-16T08:28:12.226Z"
   },
   {
    "duration": 30,
    "start_time": "2021-10-16T08:28:12.247Z"
   },
   {
    "duration": 52,
    "start_time": "2021-10-16T08:28:12.280Z"
   },
   {
    "duration": 112,
    "start_time": "2021-10-16T08:28:12.335Z"
   },
   {
    "duration": 32,
    "start_time": "2021-10-16T08:28:12.450Z"
   },
   {
    "duration": 8,
    "start_time": "2021-10-16T08:28:12.485Z"
   },
   {
    "duration": 27,
    "start_time": "2021-10-16T08:28:12.496Z"
   },
   {
    "duration": 122,
    "start_time": "2021-10-16T08:28:12.526Z"
   },
   {
    "duration": 29,
    "start_time": "2021-10-16T08:28:12.650Z"
   },
   {
    "duration": 84,
    "start_time": "2021-10-16T08:28:12.682Z"
   },
   {
    "duration": 27,
    "start_time": "2021-10-16T08:28:12.769Z"
   },
   {
    "duration": 10,
    "start_time": "2021-10-16T08:28:12.824Z"
   },
   {
    "duration": 50,
    "start_time": "2021-10-16T08:28:12.837Z"
   },
   {
    "duration": 101,
    "start_time": "2021-10-16T08:28:12.890Z"
   },
   {
    "duration": 4,
    "start_time": "2021-10-16T08:28:12.994Z"
   },
   {
    "duration": 21,
    "start_time": "2021-10-16T08:28:13.001Z"
   },
   {
    "duration": 21,
    "start_time": "2021-10-16T08:28:13.025Z"
   },
   {
    "duration": 233,
    "start_time": "2021-10-16T08:28:13.048Z"
   },
   {
    "duration": 237,
    "start_time": "2021-10-16T08:28:13.284Z"
   },
   {
    "duration": 49,
    "start_time": "2021-10-16T08:28:13.525Z"
   },
   {
    "duration": 183,
    "start_time": "2021-10-16T08:28:13.577Z"
   },
   {
    "duration": 3,
    "start_time": "2021-10-16T08:28:13.762Z"
   },
   {
    "duration": 128,
    "start_time": "2021-10-16T08:28:13.767Z"
   },
   {
    "duration": 3,
    "start_time": "2021-10-16T08:28:13.897Z"
   },
   {
    "duration": 54,
    "start_time": "2021-10-16T08:28:13.903Z"
   },
   {
    "duration": 135,
    "start_time": "2021-10-16T08:28:13.959Z"
   },
   {
    "duration": 3,
    "start_time": "2021-10-16T08:28:14.097Z"
   },
   {
    "duration": 109,
    "start_time": "2021-10-16T08:28:14.102Z"
   },
   {
    "duration": 3,
    "start_time": "2021-10-16T08:28:14.213Z"
   },
   {
    "duration": 9,
    "start_time": "2021-10-16T08:28:14.223Z"
   },
   {
    "duration": 41,
    "start_time": "2021-10-16T08:28:14.235Z"
   },
   {
    "duration": 7,
    "start_time": "2021-10-16T08:28:14.278Z"
   },
   {
    "duration": 42,
    "start_time": "2021-10-16T08:28:14.288Z"
   },
   {
    "duration": 401,
    "start_time": "2021-10-16T08:28:14.332Z"
   },
   {
    "duration": 7622,
    "start_time": "2021-10-16T08:29:01.809Z"
   },
   {
    "duration": 7186,
    "start_time": "2021-10-16T08:29:11.087Z"
   },
   {
    "duration": 9051,
    "start_time": "2021-10-16T08:29:28.125Z"
   },
   {
    "duration": 265,
    "start_time": "2021-10-16T08:30:09.393Z"
   },
   {
    "duration": 25,
    "start_time": "2021-10-16T08:30:39.217Z"
   },
   {
    "duration": 10,
    "start_time": "2021-10-16T08:30:44.682Z"
   },
   {
    "duration": 3,
    "start_time": "2021-10-16T08:36:02.858Z"
   },
   {
    "duration": 1794,
    "start_time": "2021-10-16T08:36:37.988Z"
   },
   {
    "duration": 41,
    "start_time": "2021-10-16T08:36:39.786Z"
   },
   {
    "duration": 52,
    "start_time": "2021-10-16T08:36:39.830Z"
   },
   {
    "duration": 40,
    "start_time": "2021-10-16T08:36:39.885Z"
   },
   {
    "duration": 18,
    "start_time": "2021-10-16T08:36:39.928Z"
   },
   {
    "duration": 42,
    "start_time": "2021-10-16T08:36:39.949Z"
   },
   {
    "duration": 68,
    "start_time": "2021-10-16T08:36:39.993Z"
   },
   {
    "duration": 16,
    "start_time": "2021-10-16T08:36:40.065Z"
   },
   {
    "duration": 56,
    "start_time": "2021-10-16T08:36:40.085Z"
   },
   {
    "duration": 39,
    "start_time": "2021-10-16T08:36:40.144Z"
   },
   {
    "duration": 105,
    "start_time": "2021-10-16T08:36:40.185Z"
   },
   {
    "duration": 42,
    "start_time": "2021-10-16T08:36:40.292Z"
   },
   {
    "duration": 2,
    "start_time": "2021-10-16T08:36:40.337Z"
   },
   {
    "duration": 16,
    "start_time": "2021-10-16T08:36:40.342Z"
   },
   {
    "duration": 127,
    "start_time": "2021-10-16T08:36:40.360Z"
   },
   {
    "duration": 33,
    "start_time": "2021-10-16T08:36:40.489Z"
   },
   {
    "duration": 66,
    "start_time": "2021-10-16T08:36:40.524Z"
   },
   {
    "duration": 40,
    "start_time": "2021-10-16T08:36:40.592Z"
   },
   {
    "duration": 17,
    "start_time": "2021-10-16T08:36:40.634Z"
   },
   {
    "duration": 49,
    "start_time": "2021-10-16T08:36:40.653Z"
   },
   {
    "duration": 85,
    "start_time": "2021-10-16T08:36:40.705Z"
   },
   {
    "duration": 3,
    "start_time": "2021-10-16T08:36:40.793Z"
   },
   {
    "duration": 5,
    "start_time": "2021-10-16T08:36:40.801Z"
   },
   {
    "duration": 4,
    "start_time": "2021-10-16T08:36:40.823Z"
   },
   {
    "duration": 244,
    "start_time": "2021-10-16T08:36:40.830Z"
   },
   {
    "duration": 235,
    "start_time": "2021-10-16T08:36:41.077Z"
   },
   {
    "duration": 47,
    "start_time": "2021-10-16T08:36:41.314Z"
   },
   {
    "duration": 171,
    "start_time": "2021-10-16T08:36:41.363Z"
   },
   {
    "duration": 2,
    "start_time": "2021-10-16T08:36:41.537Z"
   },
   {
    "duration": 117,
    "start_time": "2021-10-16T08:36:41.542Z"
   },
   {
    "duration": 3,
    "start_time": "2021-10-16T08:36:41.661Z"
   },
   {
    "duration": 60,
    "start_time": "2021-10-16T08:36:41.666Z"
   },
   {
    "duration": 124,
    "start_time": "2021-10-16T08:36:41.729Z"
   },
   {
    "duration": 3,
    "start_time": "2021-10-16T08:36:41.855Z"
   },
   {
    "duration": 113,
    "start_time": "2021-10-16T08:36:41.860Z"
   },
   {
    "duration": 4,
    "start_time": "2021-10-16T08:36:41.975Z"
   },
   {
    "duration": 15,
    "start_time": "2021-10-16T08:36:41.981Z"
   },
   {
    "duration": 34,
    "start_time": "2021-10-16T08:36:41.999Z"
   },
   {
    "duration": 6,
    "start_time": "2021-10-16T08:36:42.035Z"
   },
   {
    "duration": 29,
    "start_time": "2021-10-16T08:36:42.043Z"
   },
   {
    "duration": 34,
    "start_time": "2021-10-16T08:36:42.074Z"
   },
   {
    "duration": 16,
    "start_time": "2021-10-16T08:36:42.111Z"
   },
   {
    "duration": 11,
    "start_time": "2021-10-16T08:39:06.861Z"
   },
   {
    "duration": 609,
    "start_time": "2021-10-16T08:46:25.611Z"
   },
   {
    "duration": 1925,
    "start_time": "2021-10-16T08:46:58.386Z"
   },
   {
    "duration": 46,
    "start_time": "2021-10-16T08:47:00.314Z"
   },
   {
    "duration": 59,
    "start_time": "2021-10-16T08:47:00.363Z"
   },
   {
    "duration": 29,
    "start_time": "2021-10-16T08:47:00.425Z"
   },
   {
    "duration": 37,
    "start_time": "2021-10-16T08:47:00.456Z"
   },
   {
    "duration": 52,
    "start_time": "2021-10-16T08:47:00.495Z"
   },
   {
    "duration": 57,
    "start_time": "2021-10-16T08:47:00.549Z"
   },
   {
    "duration": 22,
    "start_time": "2021-10-16T08:47:00.610Z"
   },
   {
    "duration": 54,
    "start_time": "2021-10-16T08:47:00.635Z"
   },
   {
    "duration": 52,
    "start_time": "2021-10-16T08:47:00.692Z"
   },
   {
    "duration": 138,
    "start_time": "2021-10-16T08:47:00.746Z"
   },
   {
    "duration": 48,
    "start_time": "2021-10-16T08:47:00.887Z"
   },
   {
    "duration": 4,
    "start_time": "2021-10-16T08:47:00.937Z"
   },
   {
    "duration": 22,
    "start_time": "2021-10-16T08:47:00.944Z"
   },
   {
    "duration": 127,
    "start_time": "2021-10-16T08:47:00.968Z"
   },
   {
    "duration": 38,
    "start_time": "2021-10-16T08:47:01.097Z"
   },
   {
    "duration": 87,
    "start_time": "2021-10-16T08:47:01.138Z"
   },
   {
    "duration": 28,
    "start_time": "2021-10-16T08:47:01.229Z"
   },
   {
    "duration": 62,
    "start_time": "2021-10-16T08:47:01.260Z"
   },
   {
    "duration": 107,
    "start_time": "2021-10-16T08:47:01.325Z"
   },
   {
    "duration": 99,
    "start_time": "2021-10-16T08:47:01.435Z"
   },
   {
    "duration": 4,
    "start_time": "2021-10-16T08:47:01.537Z"
   },
   {
    "duration": 29,
    "start_time": "2021-10-16T08:47:01.548Z"
   },
   {
    "duration": 19,
    "start_time": "2021-10-16T08:47:01.580Z"
   },
   {
    "duration": 254,
    "start_time": "2021-10-16T08:47:01.601Z"
   },
   {
    "duration": 255,
    "start_time": "2021-10-16T08:47:01.857Z"
   },
   {
    "duration": 53,
    "start_time": "2021-10-16T08:47:02.114Z"
   },
   {
    "duration": 165,
    "start_time": "2021-10-16T08:47:02.170Z"
   },
   {
    "duration": 3,
    "start_time": "2021-10-16T08:47:02.337Z"
   },
   {
    "duration": 114,
    "start_time": "2021-10-16T08:47:02.342Z"
   },
   {
    "duration": 3,
    "start_time": "2021-10-16T08:47:02.458Z"
   },
   {
    "duration": 56,
    "start_time": "2021-10-16T08:47:02.463Z"
   },
   {
    "duration": 130,
    "start_time": "2021-10-16T08:47:02.522Z"
   },
   {
    "duration": 3,
    "start_time": "2021-10-16T08:47:02.654Z"
   },
   {
    "duration": 122,
    "start_time": "2021-10-16T08:47:02.660Z"
   },
   {
    "duration": 3,
    "start_time": "2021-10-16T08:47:02.785Z"
   },
   {
    "duration": 11,
    "start_time": "2021-10-16T08:47:02.790Z"
   },
   {
    "duration": 38,
    "start_time": "2021-10-16T08:47:02.803Z"
   },
   {
    "duration": 28,
    "start_time": "2021-10-16T08:47:02.844Z"
   },
   {
    "duration": 38,
    "start_time": "2021-10-16T08:47:02.875Z"
   },
   {
    "duration": 29,
    "start_time": "2021-10-16T08:47:02.915Z"
   },
   {
    "duration": 619,
    "start_time": "2021-10-16T08:47:02.946Z"
   },
   {
    "duration": 26,
    "start_time": "2021-10-16T08:51:26.370Z"
   },
   {
    "duration": 17,
    "start_time": "2021-10-16T08:52:58.785Z"
   },
   {
    "duration": 10,
    "start_time": "2021-10-16T08:53:07.544Z"
   },
   {
    "duration": 6,
    "start_time": "2021-10-16T08:54:32.866Z"
   },
   {
    "duration": 10,
    "start_time": "2021-10-16T08:54:33.871Z"
   },
   {
    "duration": 6,
    "start_time": "2021-10-16T08:55:04.014Z"
   },
   {
    "duration": 10,
    "start_time": "2021-10-16T08:55:04.544Z"
   },
   {
    "duration": 2084,
    "start_time": "2021-10-16T08:55:31.493Z"
   },
   {
    "duration": 46,
    "start_time": "2021-10-16T08:55:33.579Z"
   },
   {
    "duration": 39,
    "start_time": "2021-10-16T08:55:33.628Z"
   },
   {
    "duration": 29,
    "start_time": "2021-10-16T08:55:33.670Z"
   },
   {
    "duration": 30,
    "start_time": "2021-10-16T08:55:33.701Z"
   },
   {
    "duration": 39,
    "start_time": "2021-10-16T08:55:33.734Z"
   },
   {
    "duration": 50,
    "start_time": "2021-10-16T08:55:33.775Z"
   },
   {
    "duration": 19,
    "start_time": "2021-10-16T08:55:33.827Z"
   },
   {
    "duration": 30,
    "start_time": "2021-10-16T08:55:33.850Z"
   },
   {
    "duration": 27,
    "start_time": "2021-10-16T08:55:33.883Z"
   },
   {
    "duration": 104,
    "start_time": "2021-10-16T08:55:33.912Z"
   },
   {
    "duration": 31,
    "start_time": "2021-10-16T08:55:34.018Z"
   },
   {
    "duration": 3,
    "start_time": "2021-10-16T08:55:34.052Z"
   },
   {
    "duration": 8,
    "start_time": "2021-10-16T08:55:34.057Z"
   },
   {
    "duration": 103,
    "start_time": "2021-10-16T08:55:34.068Z"
   },
   {
    "duration": 70,
    "start_time": "2021-10-16T08:55:34.173Z"
   },
   {
    "duration": 104,
    "start_time": "2021-10-16T08:55:34.245Z"
   },
   {
    "duration": 26,
    "start_time": "2021-10-16T08:55:34.351Z"
   },
   {
    "duration": 44,
    "start_time": "2021-10-16T08:55:34.380Z"
   },
   {
    "duration": 96,
    "start_time": "2021-10-16T08:55:34.427Z"
   },
   {
    "duration": 133,
    "start_time": "2021-10-16T08:55:34.526Z"
   },
   {
    "duration": 3,
    "start_time": "2021-10-16T08:55:34.662Z"
   },
   {
    "duration": 3,
    "start_time": "2021-10-16T08:55:34.722Z"
   },
   {
    "duration": 14,
    "start_time": "2021-10-16T08:55:34.728Z"
   },
   {
    "duration": 224,
    "start_time": "2021-10-16T08:55:34.745Z"
   },
   {
    "duration": 233,
    "start_time": "2021-10-16T08:55:34.971Z"
   },
   {
    "duration": 52,
    "start_time": "2021-10-16T08:55:35.209Z"
   },
   {
    "duration": 168,
    "start_time": "2021-10-16T08:55:35.264Z"
   },
   {
    "duration": 3,
    "start_time": "2021-10-16T08:55:35.435Z"
   },
   {
    "duration": 115,
    "start_time": "2021-10-16T08:55:35.441Z"
   },
   {
    "duration": 3,
    "start_time": "2021-10-16T08:55:35.559Z"
   },
   {
    "duration": 41,
    "start_time": "2021-10-16T08:55:35.564Z"
   },
   {
    "duration": 150,
    "start_time": "2021-10-16T08:55:35.608Z"
   },
   {
    "duration": 3,
    "start_time": "2021-10-16T08:55:35.760Z"
   },
   {
    "duration": 106,
    "start_time": "2021-10-16T08:55:35.765Z"
   },
   {
    "duration": 3,
    "start_time": "2021-10-16T08:55:35.873Z"
   },
   {
    "duration": 11,
    "start_time": "2021-10-16T08:55:35.879Z"
   },
   {
    "duration": 32,
    "start_time": "2021-10-16T08:55:35.892Z"
   },
   {
    "duration": 3,
    "start_time": "2021-10-16T08:55:35.927Z"
   },
   {
    "duration": 21,
    "start_time": "2021-10-16T08:55:35.932Z"
   },
   {
    "duration": 24,
    "start_time": "2021-10-16T08:55:35.956Z"
   },
   {
    "duration": 629,
    "start_time": "2021-10-16T08:55:35.983Z"
   },
   {
    "duration": 10,
    "start_time": "2021-10-16T08:55:36.615Z"
   },
   {
    "duration": 14,
    "start_time": "2021-10-16T08:55:36.627Z"
   },
   {
    "duration": 25,
    "start_time": "2021-10-16T08:55:56.361Z"
   },
   {
    "duration": 23,
    "start_time": "2021-10-16T08:56:05.160Z"
   },
   {
    "duration": 32,
    "start_time": "2021-10-16T09:01:10.870Z"
   },
   {
    "duration": 1876,
    "start_time": "2021-10-16T09:01:55.350Z"
   },
   {
    "duration": 49,
    "start_time": "2021-10-16T09:01:57.229Z"
   },
   {
    "duration": 64,
    "start_time": "2021-10-16T09:01:57.281Z"
   },
   {
    "duration": 32,
    "start_time": "2021-10-16T09:01:57.348Z"
   },
   {
    "duration": 49,
    "start_time": "2021-10-16T09:01:57.382Z"
   },
   {
    "duration": 42,
    "start_time": "2021-10-16T09:01:57.434Z"
   },
   {
    "duration": 67,
    "start_time": "2021-10-16T09:01:57.478Z"
   },
   {
    "duration": 18,
    "start_time": "2021-10-16T09:01:57.547Z"
   },
   {
    "duration": 56,
    "start_time": "2021-10-16T09:01:57.569Z"
   },
   {
    "duration": 26,
    "start_time": "2021-10-16T09:01:57.629Z"
   },
   {
    "duration": 150,
    "start_time": "2021-10-16T09:01:57.658Z"
   },
   {
    "duration": 46,
    "start_time": "2021-10-16T09:01:57.811Z"
   },
   {
    "duration": 3,
    "start_time": "2021-10-16T09:01:57.859Z"
   },
   {
    "duration": 10,
    "start_time": "2021-10-16T09:01:57.864Z"
   },
   {
    "duration": 129,
    "start_time": "2021-10-16T09:01:57.876Z"
   },
   {
    "duration": 37,
    "start_time": "2021-10-16T09:01:58.008Z"
   },
   {
    "duration": 112,
    "start_time": "2021-10-16T09:01:58.048Z"
   },
   {
    "duration": 31,
    "start_time": "2021-10-16T09:01:58.163Z"
   },
   {
    "duration": 29,
    "start_time": "2021-10-16T09:01:58.196Z"
   },
   {
    "duration": 48,
    "start_time": "2021-10-16T09:01:58.228Z"
   },
   {
    "duration": 101,
    "start_time": "2021-10-16T09:01:58.279Z"
   },
   {
    "duration": 42,
    "start_time": "2021-10-16T09:01:58.383Z"
   },
   {
    "duration": 3,
    "start_time": "2021-10-16T09:01:58.428Z"
   },
   {
    "duration": 18,
    "start_time": "2021-10-16T09:01:58.435Z"
   },
   {
    "duration": 243,
    "start_time": "2021-10-16T09:01:58.456Z"
   },
   {
    "duration": 282,
    "start_time": "2021-10-16T09:01:58.702Z"
   },
   {
    "duration": 67,
    "start_time": "2021-10-16T09:01:58.989Z"
   },
   {
    "duration": 184,
    "start_time": "2021-10-16T09:01:59.058Z"
   },
   {
    "duration": 4,
    "start_time": "2021-10-16T09:01:59.244Z"
   },
   {
    "duration": 125,
    "start_time": "2021-10-16T09:01:59.251Z"
   },
   {
    "duration": 4,
    "start_time": "2021-10-16T09:01:59.378Z"
   },
   {
    "duration": 61,
    "start_time": "2021-10-16T09:01:59.385Z"
   },
   {
    "duration": 145,
    "start_time": "2021-10-16T09:01:59.448Z"
   },
   {
    "duration": 4,
    "start_time": "2021-10-16T09:01:59.595Z"
   },
   {
    "duration": 109,
    "start_time": "2021-10-16T09:01:59.601Z"
   },
   {
    "duration": 12,
    "start_time": "2021-10-16T09:01:59.712Z"
   },
   {
    "duration": 37,
    "start_time": "2021-10-16T09:01:59.726Z"
   },
   {
    "duration": 27,
    "start_time": "2021-10-16T09:01:59.765Z"
   },
   {
    "duration": 4,
    "start_time": "2021-10-16T09:01:59.794Z"
   },
   {
    "duration": 35,
    "start_time": "2021-10-16T09:01:59.800Z"
   },
   {
    "duration": 25,
    "start_time": "2021-10-16T09:01:59.837Z"
   },
   {
    "duration": 674,
    "start_time": "2021-10-16T09:01:59.865Z"
   },
   {
    "duration": 10,
    "start_time": "2021-10-16T09:02:00.543Z"
   },
   {
    "duration": 39,
    "start_time": "2021-10-16T09:02:00.556Z"
   },
   {
    "duration": 207,
    "start_time": "2021-10-16T09:02:38.631Z"
   },
   {
    "duration": 79,
    "start_time": "2021-10-16T09:03:07.784Z"
   },
   {
    "duration": 22,
    "start_time": "2021-10-16T09:03:10.536Z"
   },
   {
    "duration": 79,
    "start_time": "2021-10-16T09:03:24.610Z"
   },
   {
    "duration": 22,
    "start_time": "2021-10-16T09:03:25.094Z"
   },
   {
    "duration": 23,
    "start_time": "2021-10-16T09:03:41.580Z"
   },
   {
    "duration": 29,
    "start_time": "2021-10-16T09:03:42.119Z"
   },
   {
    "duration": 29,
    "start_time": "2021-10-16T09:04:32.878Z"
   },
   {
    "duration": 28,
    "start_time": "2021-10-16T09:04:33.963Z"
   },
   {
    "duration": 26,
    "start_time": "2021-10-16T09:04:38.628Z"
   },
   {
    "duration": 1858,
    "start_time": "2021-10-16T09:04:48.834Z"
   },
   {
    "duration": 51,
    "start_time": "2021-10-16T09:04:50.696Z"
   },
   {
    "duration": 41,
    "start_time": "2021-10-16T09:04:50.752Z"
   },
   {
    "duration": 56,
    "start_time": "2021-10-16T09:04:50.796Z"
   },
   {
    "duration": 17,
    "start_time": "2021-10-16T09:04:50.854Z"
   },
   {
    "duration": 75,
    "start_time": "2021-10-16T09:04:50.874Z"
   },
   {
    "duration": 41,
    "start_time": "2021-10-16T09:04:50.952Z"
   },
   {
    "duration": 20,
    "start_time": "2021-10-16T09:04:51.025Z"
   },
   {
    "duration": 42,
    "start_time": "2021-10-16T09:04:51.048Z"
   },
   {
    "duration": 45,
    "start_time": "2021-10-16T09:04:51.092Z"
   },
   {
    "duration": 119,
    "start_time": "2021-10-16T09:04:51.140Z"
   },
   {
    "duration": 35,
    "start_time": "2021-10-16T09:04:51.262Z"
   },
   {
    "duration": 4,
    "start_time": "2021-10-16T09:04:51.324Z"
   },
   {
    "duration": 22,
    "start_time": "2021-10-16T09:04:51.331Z"
   },
   {
    "duration": 108,
    "start_time": "2021-10-16T09:04:51.356Z"
   },
   {
    "duration": 27,
    "start_time": "2021-10-16T09:04:51.467Z"
   },
   {
    "duration": 96,
    "start_time": "2021-10-16T09:04:51.497Z"
   },
   {
    "duration": 41,
    "start_time": "2021-10-16T09:04:51.596Z"
   },
   {
    "duration": 12,
    "start_time": "2021-10-16T09:04:51.640Z"
   },
   {
    "duration": 43,
    "start_time": "2021-10-16T09:04:51.654Z"
   },
   {
    "duration": 77,
    "start_time": "2021-10-16T09:04:51.723Z"
   },
   {
    "duration": 47,
    "start_time": "2021-10-16T09:04:51.802Z"
   },
   {
    "duration": 3,
    "start_time": "2021-10-16T09:04:51.854Z"
   },
   {
    "duration": 12,
    "start_time": "2021-10-16T09:04:51.860Z"
   },
   {
    "duration": 240,
    "start_time": "2021-10-16T09:04:51.875Z"
   },
   {
    "duration": 290,
    "start_time": "2021-10-16T09:04:52.117Z"
   },
   {
    "duration": 61,
    "start_time": "2021-10-16T09:04:52.410Z"
   },
   {
    "duration": 176,
    "start_time": "2021-10-16T09:04:52.473Z"
   },
   {
    "duration": 3,
    "start_time": "2021-10-16T09:04:52.651Z"
   },
   {
    "duration": 134,
    "start_time": "2021-10-16T09:04:52.656Z"
   },
   {
    "duration": 20,
    "start_time": "2021-10-16T09:04:52.792Z"
   },
   {
    "duration": 42,
    "start_time": "2021-10-16T09:04:52.822Z"
   },
   {
    "duration": 160,
    "start_time": "2021-10-16T09:04:52.866Z"
   },
   {
    "duration": 4,
    "start_time": "2021-10-16T09:04:53.029Z"
   },
   {
    "duration": 125,
    "start_time": "2021-10-16T09:04:53.036Z"
   },
   {
    "duration": 20,
    "start_time": "2021-10-16T09:04:53.164Z"
   },
   {
    "duration": 31,
    "start_time": "2021-10-16T09:04:53.186Z"
   },
   {
    "duration": 52,
    "start_time": "2021-10-16T09:04:53.220Z"
   },
   {
    "duration": 25,
    "start_time": "2021-10-16T09:04:53.275Z"
   },
   {
    "duration": 41,
    "start_time": "2021-10-16T09:04:53.302Z"
   },
   {
    "duration": 33,
    "start_time": "2021-10-16T09:04:53.346Z"
   },
   {
    "duration": 638,
    "start_time": "2021-10-16T09:04:53.381Z"
   },
   {
    "duration": 8,
    "start_time": "2021-10-16T09:04:54.023Z"
   },
   {
    "duration": 47,
    "start_time": "2021-10-16T09:04:54.034Z"
   },
   {
    "duration": 866,
    "start_time": "2021-10-16T10:03:24.701Z"
   },
   {
    "duration": 264,
    "start_time": "2021-10-16T10:05:03.905Z"
   },
   {
    "duration": 194,
    "start_time": "2021-10-16T10:05:45.287Z"
   },
   {
    "duration": 1847,
    "start_time": "2021-10-16T10:10:27.046Z"
   },
   {
    "duration": 46,
    "start_time": "2021-10-16T10:10:28.897Z"
   },
   {
    "duration": 42,
    "start_time": "2021-10-16T10:10:28.946Z"
   },
   {
    "duration": 53,
    "start_time": "2021-10-16T10:10:28.991Z"
   },
   {
    "duration": 19,
    "start_time": "2021-10-16T10:10:29.047Z"
   },
   {
    "duration": 84,
    "start_time": "2021-10-16T10:10:29.069Z"
   },
   {
    "duration": 87,
    "start_time": "2021-10-16T10:10:29.156Z"
   },
   {
    "duration": 17,
    "start_time": "2021-10-16T10:10:29.246Z"
   },
   {
    "duration": 26,
    "start_time": "2021-10-16T10:10:29.265Z"
   },
   {
    "duration": 39,
    "start_time": "2021-10-16T10:10:29.294Z"
   },
   {
    "duration": 106,
    "start_time": "2021-10-16T10:10:29.335Z"
   },
   {
    "duration": 30,
    "start_time": "2021-10-16T10:10:29.444Z"
   },
   {
    "duration": 3,
    "start_time": "2021-10-16T10:10:29.477Z"
   },
   {
    "duration": 14,
    "start_time": "2021-10-16T10:10:29.482Z"
   },
   {
    "duration": 111,
    "start_time": "2021-10-16T10:10:29.498Z"
   },
   {
    "duration": 31,
    "start_time": "2021-10-16T10:10:29.611Z"
   },
   {
    "duration": 77,
    "start_time": "2021-10-16T10:10:29.644Z"
   },
   {
    "duration": 25,
    "start_time": "2021-10-16T10:10:29.724Z"
   },
   {
    "duration": 9,
    "start_time": "2021-10-16T10:10:29.752Z"
   },
   {
    "duration": 46,
    "start_time": "2021-10-16T10:10:29.764Z"
   },
   {
    "duration": 85,
    "start_time": "2021-10-16T10:10:29.812Z"
   },
   {
    "duration": 34,
    "start_time": "2021-10-16T10:10:29.900Z"
   },
   {
    "duration": 3,
    "start_time": "2021-10-16T10:10:29.938Z"
   },
   {
    "duration": 5,
    "start_time": "2021-10-16T10:10:29.945Z"
   },
   {
    "duration": 312,
    "start_time": "2021-10-16T10:10:29.952Z"
   },
   {
    "duration": 386,
    "start_time": "2021-10-16T10:10:30.266Z"
   },
   {
    "duration": 93,
    "start_time": "2021-10-16T10:10:30.655Z"
   },
   {
    "duration": 377,
    "start_time": "2021-10-16T10:10:30.751Z"
   },
   {
    "duration": 3,
    "start_time": "2021-10-16T10:10:31.130Z"
   },
   {
    "duration": 290,
    "start_time": "2021-10-16T10:10:31.135Z"
   },
   {
    "duration": 21,
    "start_time": "2021-10-16T10:10:31.427Z"
   },
   {
    "duration": 100,
    "start_time": "2021-10-16T10:10:31.450Z"
   },
   {
    "duration": 285,
    "start_time": "2021-10-16T10:10:31.553Z"
   },
   {
    "duration": 3,
    "start_time": "2021-10-16T10:10:31.840Z"
   },
   {
    "duration": 208,
    "start_time": "2021-10-16T10:10:31.845Z"
   },
   {
    "duration": 20,
    "start_time": "2021-10-16T10:10:32.056Z"
   },
   {
    "duration": 12,
    "start_time": "2021-10-16T10:10:32.078Z"
   },
   {
    "duration": 41,
    "start_time": "2021-10-16T10:10:32.092Z"
   },
   {
    "duration": 25,
    "start_time": "2021-10-16T10:10:32.135Z"
   },
   {
    "duration": 32,
    "start_time": "2021-10-16T10:10:32.162Z"
   },
   {
    "duration": 42,
    "start_time": "2021-10-16T10:10:32.196Z"
   },
   {
    "duration": 797,
    "start_time": "2021-10-16T10:10:32.240Z"
   },
   {
    "duration": 9,
    "start_time": "2021-10-16T10:10:33.040Z"
   },
   {
    "duration": 37,
    "start_time": "2021-10-16T10:10:33.052Z"
   },
   {
    "duration": 516,
    "start_time": "2021-10-16T10:10:33.092Z"
   },
   {
    "duration": 205,
    "start_time": "2021-10-16T10:10:33.406Z"
   },
   {
    "duration": 252,
    "start_time": "2021-10-16T10:10:51.279Z"
   },
   {
    "duration": 1885,
    "start_time": "2021-10-16T10:12:18.142Z"
   },
   {
    "duration": 44,
    "start_time": "2021-10-16T10:12:20.030Z"
   },
   {
    "duration": 61,
    "start_time": "2021-10-16T10:12:20.077Z"
   },
   {
    "duration": 30,
    "start_time": "2021-10-16T10:12:20.141Z"
   },
   {
    "duration": 18,
    "start_time": "2021-10-16T10:12:20.174Z"
   },
   {
    "duration": 65,
    "start_time": "2021-10-16T10:12:20.195Z"
   },
   {
    "duration": 68,
    "start_time": "2021-10-16T10:12:20.263Z"
   },
   {
    "duration": 18,
    "start_time": "2021-10-16T10:12:20.335Z"
   },
   {
    "duration": 26,
    "start_time": "2021-10-16T10:12:20.356Z"
   },
   {
    "duration": 56,
    "start_time": "2021-10-16T10:12:20.385Z"
   },
   {
    "duration": 127,
    "start_time": "2021-10-16T10:12:20.444Z"
   },
   {
    "duration": 32,
    "start_time": "2021-10-16T10:12:20.573Z"
   },
   {
    "duration": 16,
    "start_time": "2021-10-16T10:12:20.607Z"
   },
   {
    "duration": 21,
    "start_time": "2021-10-16T10:12:20.625Z"
   },
   {
    "duration": 123,
    "start_time": "2021-10-16T10:12:20.649Z"
   },
   {
    "duration": 26,
    "start_time": "2021-10-16T10:12:20.775Z"
   },
   {
    "duration": 79,
    "start_time": "2021-10-16T10:12:20.803Z"
   },
   {
    "duration": 38,
    "start_time": "2021-10-16T10:12:20.884Z"
   },
   {
    "duration": 8,
    "start_time": "2021-10-16T10:12:20.925Z"
   },
   {
    "duration": 48,
    "start_time": "2021-10-16T10:12:20.935Z"
   },
   {
    "duration": 109,
    "start_time": "2021-10-16T10:12:20.986Z"
   },
   {
    "duration": 47,
    "start_time": "2021-10-16T10:12:21.097Z"
   },
   {
    "duration": 3,
    "start_time": "2021-10-16T10:12:21.151Z"
   },
   {
    "duration": 25,
    "start_time": "2021-10-16T10:12:21.157Z"
   },
   {
    "duration": 240,
    "start_time": "2021-10-16T10:12:21.184Z"
   },
   {
    "duration": 298,
    "start_time": "2021-10-16T10:12:21.427Z"
   },
   {
    "duration": 53,
    "start_time": "2021-10-16T10:12:21.728Z"
   },
   {
    "duration": 190,
    "start_time": "2021-10-16T10:12:21.784Z"
   },
   {
    "duration": 4,
    "start_time": "2021-10-16T10:12:21.977Z"
   },
   {
    "duration": 140,
    "start_time": "2021-10-16T10:12:21.984Z"
   },
   {
    "duration": 24,
    "start_time": "2021-10-16T10:12:22.126Z"
   },
   {
    "duration": 73,
    "start_time": "2021-10-16T10:12:22.153Z"
   },
   {
    "duration": 147,
    "start_time": "2021-10-16T10:12:22.229Z"
   },
   {
    "duration": 4,
    "start_time": "2021-10-16T10:12:22.378Z"
   },
   {
    "duration": 124,
    "start_time": "2021-10-16T10:12:22.385Z"
   },
   {
    "duration": 26,
    "start_time": "2021-10-16T10:12:22.511Z"
   },
   {
    "duration": 12,
    "start_time": "2021-10-16T10:12:22.540Z"
   },
   {
    "duration": 42,
    "start_time": "2021-10-16T10:12:22.555Z"
   },
   {
    "duration": 31,
    "start_time": "2021-10-16T10:12:22.600Z"
   },
   {
    "duration": 6504,
    "start_time": "2021-10-16T10:12:22.634Z"
   },
   {
    "duration": 199,
    "start_time": "2021-10-16T10:12:28.941Z"
   },
   {
    "duration": 193,
    "start_time": "2021-10-16T10:12:28.949Z"
   },
   {
    "duration": 191,
    "start_time": "2021-10-16T10:12:28.952Z"
   },
   {
    "duration": 188,
    "start_time": "2021-10-16T10:12:28.957Z"
   },
   {
    "duration": 182,
    "start_time": "2021-10-16T10:12:28.964Z"
   },
   {
    "duration": 179,
    "start_time": "2021-10-16T10:12:28.969Z"
   },
   {
    "duration": 22,
    "start_time": "2021-10-16T10:13:18.222Z"
   },
   {
    "duration": 27,
    "start_time": "2021-10-16T10:13:21.945Z"
   },
   {
    "duration": 27,
    "start_time": "2021-10-16T10:15:48.480Z"
   },
   {
    "duration": 1835,
    "start_time": "2021-10-16T10:16:52.349Z"
   },
   {
    "duration": 46,
    "start_time": "2021-10-16T10:16:54.187Z"
   },
   {
    "duration": 41,
    "start_time": "2021-10-16T10:16:54.242Z"
   },
   {
    "duration": 56,
    "start_time": "2021-10-16T10:16:54.285Z"
   },
   {
    "duration": 19,
    "start_time": "2021-10-16T10:16:54.343Z"
   },
   {
    "duration": 71,
    "start_time": "2021-10-16T10:16:54.364Z"
   },
   {
    "duration": 40,
    "start_time": "2021-10-16T10:16:54.439Z"
   },
   {
    "duration": 42,
    "start_time": "2021-10-16T10:16:54.482Z"
   },
   {
    "duration": 35,
    "start_time": "2021-10-16T10:16:54.527Z"
   },
   {
    "duration": 30,
    "start_time": "2021-10-16T10:16:54.564Z"
   },
   {
    "duration": 136,
    "start_time": "2021-10-16T10:16:54.596Z"
   },
   {
    "duration": 40,
    "start_time": "2021-10-16T10:16:54.735Z"
   },
   {
    "duration": 8,
    "start_time": "2021-10-16T10:16:54.778Z"
   },
   {
    "duration": 31,
    "start_time": "2021-10-16T10:16:54.789Z"
   },
   {
    "duration": 116,
    "start_time": "2021-10-16T10:16:54.823Z"
   },
   {
    "duration": 25,
    "start_time": "2021-10-16T10:16:54.942Z"
   },
   {
    "duration": 95,
    "start_time": "2021-10-16T10:16:54.970Z"
   },
   {
    "duration": 26,
    "start_time": "2021-10-16T10:16:55.068Z"
   },
   {
    "duration": 28,
    "start_time": "2021-10-16T10:16:55.096Z"
   },
   {
    "duration": 57,
    "start_time": "2021-10-16T10:16:55.126Z"
   },
   {
    "duration": 59,
    "start_time": "2021-10-16T10:16:55.185Z"
   },
   {
    "duration": 112,
    "start_time": "2021-10-16T10:16:55.249Z"
   },
   {
    "duration": 30,
    "start_time": "2021-10-16T10:16:55.364Z"
   },
   {
    "duration": 3,
    "start_time": "2021-10-16T10:16:55.396Z"
   },
   {
    "duration": 22,
    "start_time": "2021-10-16T10:16:55.401Z"
   },
   {
    "duration": 248,
    "start_time": "2021-10-16T10:16:55.425Z"
   },
   {
    "duration": 291,
    "start_time": "2021-10-16T10:16:55.675Z"
   },
   {
    "duration": 72,
    "start_time": "2021-10-16T10:16:55.969Z"
   },
   {
    "duration": 170,
    "start_time": "2021-10-16T10:16:56.044Z"
   },
   {
    "duration": 6,
    "start_time": "2021-10-16T10:16:56.216Z"
   },
   {
    "duration": 149,
    "start_time": "2021-10-16T10:16:56.225Z"
   },
   {
    "duration": 22,
    "start_time": "2021-10-16T10:16:56.377Z"
   },
   {
    "duration": 62,
    "start_time": "2021-10-16T10:16:56.401Z"
   },
   {
    "duration": 134,
    "start_time": "2021-10-16T10:16:56.465Z"
   },
   {
    "duration": 2,
    "start_time": "2021-10-16T10:16:56.602Z"
   },
   {
    "duration": 130,
    "start_time": "2021-10-16T10:16:56.607Z"
   },
   {
    "duration": 21,
    "start_time": "2021-10-16T10:16:56.739Z"
   },
   {
    "duration": 51,
    "start_time": "2021-10-16T10:16:56.762Z"
   },
   {
    "duration": 40,
    "start_time": "2021-10-16T10:16:56.816Z"
   },
   {
    "duration": 42,
    "start_time": "2021-10-16T10:16:56.858Z"
   },
   {
    "duration": 63,
    "start_time": "2021-10-16T10:16:56.903Z"
   },
   {
    "duration": 25,
    "start_time": "2021-10-16T10:16:56.968Z"
   },
   {
    "duration": 634,
    "start_time": "2021-10-16T10:16:56.996Z"
   },
   {
    "duration": 6,
    "start_time": "2021-10-16T10:16:57.633Z"
   },
   {
    "duration": 62,
    "start_time": "2021-10-16T10:16:57.642Z"
   },
   {
    "duration": 387,
    "start_time": "2021-10-16T10:16:57.707Z"
   },
   {
    "duration": 203,
    "start_time": "2021-10-16T10:16:57.894Z"
   },
   {
    "duration": 179,
    "start_time": "2021-10-16T10:18:11.322Z"
   },
   {
    "duration": 1872,
    "start_time": "2021-10-16T10:18:18.725Z"
   },
   {
    "duration": 43,
    "start_time": "2021-10-16T10:18:20.600Z"
   },
   {
    "duration": 38,
    "start_time": "2021-10-16T10:18:20.649Z"
   },
   {
    "duration": 56,
    "start_time": "2021-10-16T10:18:20.689Z"
   },
   {
    "duration": 18,
    "start_time": "2021-10-16T10:18:20.747Z"
   },
   {
    "duration": 65,
    "start_time": "2021-10-16T10:18:20.767Z"
   },
   {
    "duration": 40,
    "start_time": "2021-10-16T10:18:20.836Z"
   },
   {
    "duration": 44,
    "start_time": "2021-10-16T10:18:20.878Z"
   },
   {
    "duration": 24,
    "start_time": "2021-10-16T10:18:20.925Z"
   },
   {
    "duration": 47,
    "start_time": "2021-10-16T10:18:20.952Z"
   },
   {
    "duration": 109,
    "start_time": "2021-10-16T10:18:21.001Z"
   },
   {
    "duration": 36,
    "start_time": "2021-10-16T10:18:21.113Z"
   },
   {
    "duration": 3,
    "start_time": "2021-10-16T10:18:21.152Z"
   },
   {
    "duration": 17,
    "start_time": "2021-10-16T10:18:21.157Z"
   },
   {
    "duration": 115,
    "start_time": "2021-10-16T10:18:21.177Z"
   },
   {
    "duration": 34,
    "start_time": "2021-10-16T10:18:21.295Z"
   },
   {
    "duration": 76,
    "start_time": "2021-10-16T10:18:21.332Z"
   },
   {
    "duration": 34,
    "start_time": "2021-10-16T10:18:21.410Z"
   },
   {
    "duration": 25,
    "start_time": "2021-10-16T10:18:21.447Z"
   },
   {
    "duration": 61,
    "start_time": "2021-10-16T10:18:21.475Z"
   },
   {
    "duration": 5,
    "start_time": "2021-10-16T10:18:21.539Z"
   },
   {
    "duration": 109,
    "start_time": "2021-10-16T10:18:21.549Z"
   },
   {
    "duration": 32,
    "start_time": "2021-10-16T10:18:21.662Z"
   },
   {
    "duration": 3,
    "start_time": "2021-10-16T10:18:21.696Z"
   },
   {
    "duration": 32,
    "start_time": "2021-10-16T10:18:21.702Z"
   },
   {
    "duration": 226,
    "start_time": "2021-10-16T10:18:21.737Z"
   },
   {
    "duration": 282,
    "start_time": "2021-10-16T10:18:21.966Z"
   },
   {
    "duration": 55,
    "start_time": "2021-10-16T10:18:22.250Z"
   },
   {
    "duration": 164,
    "start_time": "2021-10-16T10:18:22.323Z"
   },
   {
    "duration": 3,
    "start_time": "2021-10-16T10:18:22.489Z"
   },
   {
    "duration": 136,
    "start_time": "2021-10-16T10:18:22.495Z"
   },
   {
    "duration": 22,
    "start_time": "2021-10-16T10:18:22.633Z"
   },
   {
    "duration": 68,
    "start_time": "2021-10-16T10:18:22.657Z"
   },
   {
    "duration": 154,
    "start_time": "2021-10-16T10:18:22.727Z"
   },
   {
    "duration": 3,
    "start_time": "2021-10-16T10:18:22.883Z"
   },
   {
    "duration": 125,
    "start_time": "2021-10-16T10:18:22.888Z"
   },
   {
    "duration": 23,
    "start_time": "2021-10-16T10:18:23.015Z"
   },
   {
    "duration": 29,
    "start_time": "2021-10-16T10:18:23.040Z"
   },
   {
    "duration": 438,
    "start_time": "2021-10-16T10:18:23.072Z"
   },
   {
    "duration": 205,
    "start_time": "2021-10-16T10:18:23.309Z"
   },
   {
    "duration": 202,
    "start_time": "2021-10-16T10:18:23.314Z"
   },
   {
    "duration": 201,
    "start_time": "2021-10-16T10:18:23.317Z"
   },
   {
    "duration": 201,
    "start_time": "2021-10-16T10:18:23.319Z"
   },
   {
    "duration": 196,
    "start_time": "2021-10-16T10:18:23.326Z"
   },
   {
    "duration": 196,
    "start_time": "2021-10-16T10:18:23.328Z"
   },
   {
    "duration": 198,
    "start_time": "2021-10-16T10:18:23.329Z"
   },
   {
    "duration": 1894,
    "start_time": "2021-10-16T10:18:42.315Z"
   },
   {
    "duration": 44,
    "start_time": "2021-10-16T10:18:44.211Z"
   },
   {
    "duration": 62,
    "start_time": "2021-10-16T10:18:44.262Z"
   },
   {
    "duration": 29,
    "start_time": "2021-10-16T10:18:44.326Z"
   },
   {
    "duration": 40,
    "start_time": "2021-10-16T10:18:44.358Z"
   },
   {
    "duration": 64,
    "start_time": "2021-10-16T10:18:44.400Z"
   },
   {
    "duration": 47,
    "start_time": "2021-10-16T10:18:44.468Z"
   },
   {
    "duration": 24,
    "start_time": "2021-10-16T10:18:44.519Z"
   },
   {
    "duration": 25,
    "start_time": "2021-10-16T10:18:44.545Z"
   },
   {
    "duration": 34,
    "start_time": "2021-10-16T10:18:44.572Z"
   },
   {
    "duration": 122,
    "start_time": "2021-10-16T10:18:44.608Z"
   },
   {
    "duration": 31,
    "start_time": "2021-10-16T10:18:44.732Z"
   },
   {
    "duration": 3,
    "start_time": "2021-10-16T10:18:44.766Z"
   },
   {
    "duration": 29,
    "start_time": "2021-10-16T10:18:44.771Z"
   },
   {
    "duration": 121,
    "start_time": "2021-10-16T10:18:44.803Z"
   },
   {
    "duration": 24,
    "start_time": "2021-10-16T10:18:44.927Z"
   },
   {
    "duration": 93,
    "start_time": "2021-10-16T10:18:44.953Z"
   },
   {
    "duration": 25,
    "start_time": "2021-10-16T10:18:45.048Z"
   },
   {
    "duration": 10,
    "start_time": "2021-10-16T10:18:45.076Z"
   },
   {
    "duration": 63,
    "start_time": "2021-10-16T10:18:45.089Z"
   },
   {
    "duration": 8,
    "start_time": "2021-10-16T10:18:45.154Z"
   },
   {
    "duration": 104,
    "start_time": "2021-10-16T10:18:45.169Z"
   },
   {
    "duration": 49,
    "start_time": "2021-10-16T10:18:45.276Z"
   },
   {
    "duration": 3,
    "start_time": "2021-10-16T10:18:45.328Z"
   },
   {
    "duration": 22,
    "start_time": "2021-10-16T10:18:45.333Z"
   },
   {
    "duration": 240,
    "start_time": "2021-10-16T10:18:45.358Z"
   },
   {
    "duration": 293,
    "start_time": "2021-10-16T10:18:45.601Z"
   },
   {
    "duration": 68,
    "start_time": "2021-10-16T10:18:45.896Z"
   },
   {
    "duration": 169,
    "start_time": "2021-10-16T10:18:45.966Z"
   },
   {
    "duration": 2,
    "start_time": "2021-10-16T10:18:46.138Z"
   },
   {
    "duration": 147,
    "start_time": "2021-10-16T10:18:46.142Z"
   },
   {
    "duration": 21,
    "start_time": "2021-10-16T10:18:46.292Z"
   },
   {
    "duration": 70,
    "start_time": "2021-10-16T10:18:46.322Z"
   },
   {
    "duration": 131,
    "start_time": "2021-10-16T10:18:46.395Z"
   },
   {
    "duration": 2,
    "start_time": "2021-10-16T10:18:46.529Z"
   },
   {
    "duration": 121,
    "start_time": "2021-10-16T10:18:46.534Z"
   },
   {
    "duration": 19,
    "start_time": "2021-10-16T10:18:46.658Z"
   },
   {
    "duration": 14,
    "start_time": "2021-10-16T10:18:46.680Z"
   },
   {
    "duration": 395,
    "start_time": "2021-10-16T10:18:46.697Z"
   },
   {
    "duration": 201,
    "start_time": "2021-10-16T10:18:46.893Z"
   },
   {
    "duration": 202,
    "start_time": "2021-10-16T10:18:46.894Z"
   },
   {
    "duration": 201,
    "start_time": "2021-10-16T10:18:46.896Z"
   },
   {
    "duration": 201,
    "start_time": "2021-10-16T10:18:46.897Z"
   },
   {
    "duration": 198,
    "start_time": "2021-10-16T10:18:46.902Z"
   },
   {
    "duration": 197,
    "start_time": "2021-10-16T10:18:46.904Z"
   },
   {
    "duration": 198,
    "start_time": "2021-10-16T10:18:46.905Z"
   },
   {
    "duration": 21,
    "start_time": "2021-10-16T10:19:09.185Z"
   },
   {
    "duration": 28,
    "start_time": "2021-10-16T10:19:19.632Z"
   },
   {
    "duration": 23,
    "start_time": "2021-10-16T10:19:33.269Z"
   },
   {
    "duration": 29,
    "start_time": "2021-10-16T10:19:34.610Z"
   },
   {
    "duration": 1838,
    "start_time": "2021-10-16T10:19:46.111Z"
   },
   {
    "duration": 48,
    "start_time": "2021-10-16T10:19:47.953Z"
   },
   {
    "duration": 42,
    "start_time": "2021-10-16T10:19:48.004Z"
   },
   {
    "duration": 41,
    "start_time": "2021-10-16T10:19:48.049Z"
   },
   {
    "duration": 39,
    "start_time": "2021-10-16T10:19:48.092Z"
   },
   {
    "duration": 39,
    "start_time": "2021-10-16T10:19:48.134Z"
   },
   {
    "duration": 71,
    "start_time": "2021-10-16T10:19:48.175Z"
   },
   {
    "duration": 17,
    "start_time": "2021-10-16T10:19:48.249Z"
   },
   {
    "duration": 24,
    "start_time": "2021-10-16T10:19:48.269Z"
   },
   {
    "duration": 21,
    "start_time": "2021-10-16T10:19:48.323Z"
   },
   {
    "duration": 119,
    "start_time": "2021-10-16T10:19:48.346Z"
   },
   {
    "duration": 31,
    "start_time": "2021-10-16T10:19:48.467Z"
   },
   {
    "duration": 22,
    "start_time": "2021-10-16T10:19:48.500Z"
   },
   {
    "duration": 6,
    "start_time": "2021-10-16T10:19:48.525Z"
   },
   {
    "duration": 116,
    "start_time": "2021-10-16T10:19:48.533Z"
   },
   {
    "duration": 29,
    "start_time": "2021-10-16T10:19:48.651Z"
   },
   {
    "duration": 84,
    "start_time": "2021-10-16T10:19:48.683Z"
   },
   {
    "duration": 25,
    "start_time": "2021-10-16T10:19:48.769Z"
   },
   {
    "duration": 11,
    "start_time": "2021-10-16T10:19:48.821Z"
   },
   {
    "duration": 40,
    "start_time": "2021-10-16T10:19:48.835Z"
   },
   {
    "duration": 4,
    "start_time": "2021-10-16T10:19:48.878Z"
   },
   {
    "duration": 125,
    "start_time": "2021-10-16T10:19:48.884Z"
   },
   {
    "duration": 32,
    "start_time": "2021-10-16T10:19:49.022Z"
   },
   {
    "duration": 4,
    "start_time": "2021-10-16T10:19:49.058Z"
   },
   {
    "duration": 6,
    "start_time": "2021-10-16T10:19:49.065Z"
   },
   {
    "duration": 258,
    "start_time": "2021-10-16T10:19:49.073Z"
   },
   {
    "duration": 295,
    "start_time": "2021-10-16T10:19:49.333Z"
   },
   {
    "duration": 53,
    "start_time": "2021-10-16T10:19:49.630Z"
   },
   {
    "duration": 176,
    "start_time": "2021-10-16T10:19:49.685Z"
   },
   {
    "duration": 3,
    "start_time": "2021-10-16T10:19:49.864Z"
   },
   {
    "duration": 132,
    "start_time": "2021-10-16T10:19:49.869Z"
   },
   {
    "duration": 27,
    "start_time": "2021-10-16T10:19:50.003Z"
   },
   {
    "duration": 48,
    "start_time": "2021-10-16T10:19:50.032Z"
   },
   {
    "duration": 144,
    "start_time": "2021-10-16T10:19:50.083Z"
   },
   {
    "duration": 3,
    "start_time": "2021-10-16T10:19:50.229Z"
   },
   {
    "duration": 122,
    "start_time": "2021-10-16T10:19:50.235Z"
   },
   {
    "duration": 20,
    "start_time": "2021-10-16T10:19:50.359Z"
   },
   {
    "duration": 8,
    "start_time": "2021-10-16T10:19:50.381Z"
   },
   {
    "duration": 41,
    "start_time": "2021-10-16T10:19:50.391Z"
   },
   {
    "duration": 25,
    "start_time": "2021-10-16T10:19:50.434Z"
   },
   {
    "duration": 22,
    "start_time": "2021-10-16T10:19:50.461Z"
   },
   {
    "duration": 56,
    "start_time": "2021-10-16T10:19:50.486Z"
   },
   {
    "duration": 639,
    "start_time": "2021-10-16T10:19:50.544Z"
   },
   {
    "duration": 7,
    "start_time": "2021-10-16T10:19:51.186Z"
   },
   {
    "duration": 48,
    "start_time": "2021-10-16T10:19:51.196Z"
   },
   {
    "duration": 7343,
    "start_time": "2021-10-16T10:19:51.246Z"
   },
   {
    "duration": 13,
    "start_time": "2021-10-16T10:21:59.549Z"
   },
   {
    "duration": 10,
    "start_time": "2021-10-16T10:22:10.903Z"
   },
   {
    "duration": 20,
    "start_time": "2021-10-16T10:22:33.027Z"
   },
   {
    "duration": 31,
    "start_time": "2021-10-16T10:22:48.580Z"
   },
   {
    "duration": 255,
    "start_time": "2021-10-16T10:25:05.951Z"
   },
   {
    "duration": 33,
    "start_time": "2021-10-16T10:25:26.170Z"
   },
   {
    "duration": 32,
    "start_time": "2021-10-16T10:27:38.275Z"
   },
   {
    "duration": 44,
    "start_time": "2021-10-16T10:28:32.138Z"
   },
   {
    "duration": 258,
    "start_time": "2021-10-16T10:29:24.424Z"
   },
   {
    "duration": 34,
    "start_time": "2021-10-16T10:29:40.683Z"
   },
   {
    "duration": 1861,
    "start_time": "2021-10-16T10:31:49.060Z"
   },
   {
    "duration": 43,
    "start_time": "2021-10-16T10:31:50.925Z"
   },
   {
    "duration": 60,
    "start_time": "2021-10-16T10:31:50.971Z"
   },
   {
    "duration": 32,
    "start_time": "2021-10-16T10:31:51.034Z"
   },
   {
    "duration": 18,
    "start_time": "2021-10-16T10:31:51.068Z"
   },
   {
    "duration": 71,
    "start_time": "2021-10-16T10:31:51.089Z"
   },
   {
    "duration": 62,
    "start_time": "2021-10-16T10:31:51.163Z"
   },
   {
    "duration": 19,
    "start_time": "2021-10-16T10:31:51.230Z"
   },
   {
    "duration": 25,
    "start_time": "2021-10-16T10:31:51.252Z"
   },
   {
    "duration": 59,
    "start_time": "2021-10-16T10:31:51.279Z"
   },
   {
    "duration": 115,
    "start_time": "2021-10-16T10:31:51.340Z"
   },
   {
    "duration": 31,
    "start_time": "2021-10-16T10:31:51.458Z"
   },
   {
    "duration": 3,
    "start_time": "2021-10-16T10:31:51.492Z"
   },
   {
    "duration": 26,
    "start_time": "2021-10-16T10:31:51.497Z"
   },
   {
    "duration": 113,
    "start_time": "2021-10-16T10:31:51.526Z"
   },
   {
    "duration": 25,
    "start_time": "2021-10-16T10:31:51.641Z"
   },
   {
    "duration": 94,
    "start_time": "2021-10-16T10:31:51.668Z"
   },
   {
    "duration": 24,
    "start_time": "2021-10-16T10:31:51.764Z"
   },
   {
    "duration": 9,
    "start_time": "2021-10-16T10:31:51.790Z"
   },
   {
    "duration": 57,
    "start_time": "2021-10-16T10:31:51.801Z"
   },
   {
    "duration": 4,
    "start_time": "2021-10-16T10:31:51.861Z"
   },
   {
    "duration": 121,
    "start_time": "2021-10-16T10:31:51.867Z"
   },
   {
    "duration": 41,
    "start_time": "2021-10-16T10:31:51.993Z"
   },
   {
    "duration": 20,
    "start_time": "2021-10-16T10:31:52.037Z"
   },
   {
    "duration": 222,
    "start_time": "2021-10-16T10:31:52.059Z"
   },
   {
    "duration": 284,
    "start_time": "2021-10-16T10:31:52.283Z"
   },
   {
    "duration": 68,
    "start_time": "2021-10-16T10:31:52.569Z"
   },
   {
    "duration": 239,
    "start_time": "2021-10-16T10:31:52.639Z"
   },
   {
    "duration": 4,
    "start_time": "2021-10-16T10:31:52.880Z"
   },
   {
    "duration": 163,
    "start_time": "2021-10-16T10:31:52.888Z"
   },
   {
    "duration": 20,
    "start_time": "2021-10-16T10:31:53.054Z"
   },
   {
    "duration": 68,
    "start_time": "2021-10-16T10:31:53.076Z"
   },
   {
    "duration": 132,
    "start_time": "2021-10-16T10:31:53.147Z"
   },
   {
    "duration": 3,
    "start_time": "2021-10-16T10:31:53.281Z"
   },
   {
    "duration": 120,
    "start_time": "2021-10-16T10:31:53.286Z"
   },
   {
    "duration": 25,
    "start_time": "2021-10-16T10:31:53.408Z"
   },
   {
    "duration": 3,
    "start_time": "2021-10-16T10:31:53.436Z"
   },
   {
    "duration": 34,
    "start_time": "2021-10-16T10:31:53.441Z"
   },
   {
    "duration": 25,
    "start_time": "2021-10-16T10:31:53.478Z"
   },
   {
    "duration": 26,
    "start_time": "2021-10-16T10:31:53.521Z"
   },
   {
    "duration": 29,
    "start_time": "2021-10-16T10:31:53.549Z"
   },
   {
    "duration": 656,
    "start_time": "2021-10-16T10:31:53.581Z"
   },
   {
    "duration": 8,
    "start_time": "2021-10-16T10:31:54.240Z"
   },
   {
    "duration": 37,
    "start_time": "2021-10-16T10:31:54.251Z"
   },
   {
    "duration": 58,
    "start_time": "2021-10-16T10:31:54.292Z"
   },
   {
    "duration": 7717,
    "start_time": "2021-10-16T10:31:54.353Z"
   },
   {
    "duration": 270,
    "start_time": "2021-10-16T10:38:40.000Z"
   },
   {
    "duration": 7,
    "start_time": "2021-10-16T10:38:54.730Z"
   },
   {
    "duration": 12,
    "start_time": "2021-10-16T10:39:09.413Z"
   },
   {
    "duration": 258,
    "start_time": "2021-10-16T10:58:35.970Z"
   },
   {
    "duration": 1829,
    "start_time": "2021-10-16T10:58:54.289Z"
   },
   {
    "duration": 44,
    "start_time": "2021-10-16T10:58:56.122Z"
   },
   {
    "duration": 61,
    "start_time": "2021-10-16T10:58:56.169Z"
   },
   {
    "duration": 29,
    "start_time": "2021-10-16T10:58:56.233Z"
   },
   {
    "duration": 19,
    "start_time": "2021-10-16T10:58:56.264Z"
   },
   {
    "duration": 70,
    "start_time": "2021-10-16T10:58:56.285Z"
   },
   {
    "duration": 38,
    "start_time": "2021-10-16T10:58:56.358Z"
   },
   {
    "duration": 19,
    "start_time": "2021-10-16T10:58:56.423Z"
   },
   {
    "duration": 27,
    "start_time": "2021-10-16T10:58:56.446Z"
   },
   {
    "duration": 64,
    "start_time": "2021-10-16T10:58:56.477Z"
   },
   {
    "duration": 117,
    "start_time": "2021-10-16T10:58:56.544Z"
   },
   {
    "duration": 32,
    "start_time": "2021-10-16T10:58:56.663Z"
   },
   {
    "duration": 4,
    "start_time": "2021-10-16T10:58:56.697Z"
   },
   {
    "duration": 31,
    "start_time": "2021-10-16T10:58:56.703Z"
   },
   {
    "duration": 107,
    "start_time": "2021-10-16T10:58:56.736Z"
   },
   {
    "duration": 25,
    "start_time": "2021-10-16T10:58:56.845Z"
   },
   {
    "duration": 90,
    "start_time": "2021-10-16T10:58:56.873Z"
   },
   {
    "duration": 24,
    "start_time": "2021-10-16T10:58:56.965Z"
   },
   {
    "duration": 32,
    "start_time": "2021-10-16T10:58:56.992Z"
   },
   {
    "duration": 53,
    "start_time": "2021-10-16T10:58:57.027Z"
   },
   {
    "duration": 4,
    "start_time": "2021-10-16T10:58:57.082Z"
   },
   {
    "duration": 24,
    "start_time": "2021-10-16T10:58:57.089Z"
   },
   {
    "duration": 36,
    "start_time": "2021-10-16T10:58:57.123Z"
   },
   {
    "duration": 102,
    "start_time": "2021-10-16T10:58:57.162Z"
   },
   {
    "duration": 32,
    "start_time": "2021-10-16T10:58:57.267Z"
   },
   {
    "duration": 3,
    "start_time": "2021-10-16T10:58:57.302Z"
   },
   {
    "duration": 227,
    "start_time": "2021-10-16T10:58:57.323Z"
   },
   {
    "duration": 371,
    "start_time": "2021-10-16T10:58:57.553Z"
   },
   {
    "duration": 70,
    "start_time": "2021-10-16T10:58:57.927Z"
   },
   {
    "duration": 186,
    "start_time": "2021-10-16T10:58:58.000Z"
   },
   {
    "duration": 4,
    "start_time": "2021-10-16T10:58:58.188Z"
   },
   {
    "duration": 134,
    "start_time": "2021-10-16T10:58:58.194Z"
   },
   {
    "duration": 22,
    "start_time": "2021-10-16T10:58:58.330Z"
   },
   {
    "duration": 70,
    "start_time": "2021-10-16T10:58:58.354Z"
   },
   {
    "duration": 125,
    "start_time": "2021-10-16T10:58:58.426Z"
   },
   {
    "duration": 3,
    "start_time": "2021-10-16T10:58:58.553Z"
   },
   {
    "duration": 110,
    "start_time": "2021-10-16T10:58:58.558Z"
   },
   {
    "duration": 20,
    "start_time": "2021-10-16T10:58:58.670Z"
   },
   {
    "duration": 8,
    "start_time": "2021-10-16T10:58:58.692Z"
   },
   {
    "duration": 37,
    "start_time": "2021-10-16T10:58:58.702Z"
   },
   {
    "duration": 26,
    "start_time": "2021-10-16T10:58:58.741Z"
   },
   {
    "duration": 23,
    "start_time": "2021-10-16T10:58:58.769Z"
   },
   {
    "duration": 54,
    "start_time": "2021-10-16T10:58:58.795Z"
   },
   {
    "duration": 618,
    "start_time": "2021-10-16T10:58:58.852Z"
   },
   {
    "duration": 6,
    "start_time": "2021-10-16T10:58:59.473Z"
   },
   {
    "duration": 50,
    "start_time": "2021-10-16T10:58:59.482Z"
   },
   {
    "duration": 7,
    "start_time": "2021-10-16T10:58:59.535Z"
   },
   {
    "duration": 21,
    "start_time": "2021-10-16T10:58:59.544Z"
   },
   {
    "duration": 366,
    "start_time": "2021-10-16T11:14:29.972Z"
   },
   {
    "duration": 1931,
    "start_time": "2021-10-16T11:14:44.265Z"
   },
   {
    "duration": 43,
    "start_time": "2021-10-16T11:14:46.199Z"
   },
   {
    "duration": 38,
    "start_time": "2021-10-16T11:14:46.248Z"
   },
   {
    "duration": 56,
    "start_time": "2021-10-16T11:14:46.289Z"
   },
   {
    "duration": 17,
    "start_time": "2021-10-16T11:14:46.347Z"
   },
   {
    "duration": 72,
    "start_time": "2021-10-16T11:14:46.366Z"
   },
   {
    "duration": 40,
    "start_time": "2021-10-16T11:14:46.441Z"
   },
   {
    "duration": 39,
    "start_time": "2021-10-16T11:14:46.484Z"
   },
   {
    "duration": 26,
    "start_time": "2021-10-16T11:14:46.525Z"
   },
   {
    "duration": 21,
    "start_time": "2021-10-16T11:14:46.553Z"
   },
   {
    "duration": 134,
    "start_time": "2021-10-16T11:14:46.576Z"
   },
   {
    "duration": 37,
    "start_time": "2021-10-16T11:14:46.712Z"
   },
   {
    "duration": 4,
    "start_time": "2021-10-16T11:14:46.751Z"
   },
   {
    "duration": 8,
    "start_time": "2021-10-16T11:14:46.758Z"
   },
   {
    "duration": 133,
    "start_time": "2021-10-16T11:14:46.768Z"
   },
   {
    "duration": 27,
    "start_time": "2021-10-16T11:14:46.904Z"
   },
   {
    "duration": 76,
    "start_time": "2021-10-16T11:14:46.934Z"
   },
   {
    "duration": 24,
    "start_time": "2021-10-16T11:14:47.022Z"
   },
   {
    "duration": 8,
    "start_time": "2021-10-16T11:14:47.049Z"
   },
   {
    "duration": 69,
    "start_time": "2021-10-16T11:14:47.060Z"
   },
   {
    "duration": 5,
    "start_time": "2021-10-16T11:14:47.132Z"
   },
   {
    "duration": 10,
    "start_time": "2021-10-16T11:14:47.142Z"
   },
   {
    "duration": 38,
    "start_time": "2021-10-16T11:14:47.155Z"
   },
   {
    "duration": 81,
    "start_time": "2021-10-16T11:14:47.223Z"
   },
   {
    "duration": 47,
    "start_time": "2021-10-16T11:14:47.307Z"
   },
   {
    "duration": 3,
    "start_time": "2021-10-16T11:14:47.357Z"
   },
   {
    "duration": 220,
    "start_time": "2021-10-16T11:14:47.363Z"
   },
   {
    "duration": 366,
    "start_time": "2021-10-16T11:14:47.585Z"
   },
   {
    "duration": 80,
    "start_time": "2021-10-16T11:14:47.954Z"
   },
   {
    "duration": 153,
    "start_time": "2021-10-16T11:14:48.037Z"
   },
   {
    "duration": 3,
    "start_time": "2021-10-16T11:14:48.192Z"
   },
   {
    "duration": 128,
    "start_time": "2021-10-16T11:14:48.198Z"
   },
   {
    "duration": 20,
    "start_time": "2021-10-16T11:14:48.329Z"
   },
   {
    "duration": 71,
    "start_time": "2021-10-16T11:14:48.352Z"
   },
   {
    "duration": 133,
    "start_time": "2021-10-16T11:14:48.425Z"
   },
   {
    "duration": 3,
    "start_time": "2021-10-16T11:14:48.561Z"
   },
   {
    "duration": 125,
    "start_time": "2021-10-16T11:14:48.567Z"
   },
   {
    "duration": 31,
    "start_time": "2021-10-16T11:14:48.695Z"
   },
   {
    "duration": 4,
    "start_time": "2021-10-16T11:14:48.729Z"
   },
   {
    "duration": 28,
    "start_time": "2021-10-16T11:14:48.735Z"
   },
   {
    "duration": 26,
    "start_time": "2021-10-16T11:14:48.765Z"
   },
   {
    "duration": 41,
    "start_time": "2021-10-16T11:14:48.794Z"
   },
   {
    "duration": 27,
    "start_time": "2021-10-16T11:14:48.838Z"
   },
   {
    "duration": 613,
    "start_time": "2021-10-16T11:14:48.867Z"
   },
   {
    "duration": 6,
    "start_time": "2021-10-16T11:14:49.483Z"
   },
   {
    "duration": 43,
    "start_time": "2021-10-16T11:14:49.492Z"
   },
   {
    "duration": 372,
    "start_time": "2021-10-16T11:14:49.537Z"
   },
   {
    "duration": 211,
    "start_time": "2021-10-16T11:14:49.700Z"
   },
   {
    "duration": 212,
    "start_time": "2021-10-16T11:14:49.701Z"
   },
   {
    "duration": 1907,
    "start_time": "2021-10-16T11:30:12.305Z"
   },
   {
    "duration": 45,
    "start_time": "2021-10-16T11:30:14.215Z"
   },
   {
    "duration": 61,
    "start_time": "2021-10-16T11:30:14.266Z"
   },
   {
    "duration": 31,
    "start_time": "2021-10-16T11:30:14.330Z"
   },
   {
    "duration": 19,
    "start_time": "2021-10-16T11:30:14.363Z"
   },
   {
    "duration": 74,
    "start_time": "2021-10-16T11:30:14.384Z"
   },
   {
    "duration": 67,
    "start_time": "2021-10-16T11:30:14.461Z"
   },
   {
    "duration": 17,
    "start_time": "2021-10-16T11:30:14.531Z"
   },
   {
    "duration": 27,
    "start_time": "2021-10-16T11:30:14.551Z"
   },
   {
    "duration": 58,
    "start_time": "2021-10-16T11:30:14.581Z"
   },
   {
    "duration": 118,
    "start_time": "2021-10-16T11:30:14.641Z"
   },
   {
    "duration": 32,
    "start_time": "2021-10-16T11:30:14.761Z"
   },
   {
    "duration": 4,
    "start_time": "2021-10-16T11:30:14.795Z"
   },
   {
    "duration": 4,
    "start_time": "2021-10-16T11:30:14.823Z"
   },
   {
    "duration": 120,
    "start_time": "2021-10-16T11:30:14.830Z"
   },
   {
    "duration": 24,
    "start_time": "2021-10-16T11:30:14.953Z"
   },
   {
    "duration": 88,
    "start_time": "2021-10-16T11:30:14.980Z"
   },
   {
    "duration": 26,
    "start_time": "2021-10-16T11:30:15.070Z"
   },
   {
    "duration": 29,
    "start_time": "2021-10-16T11:30:15.098Z"
   },
   {
    "duration": 46,
    "start_time": "2021-10-16T11:30:15.130Z"
   },
   {
    "duration": 5,
    "start_time": "2021-10-16T11:30:15.178Z"
   },
   {
    "duration": 39,
    "start_time": "2021-10-16T11:30:15.188Z"
   },
   {
    "duration": 36,
    "start_time": "2021-10-16T11:30:15.230Z"
   },
   {
    "duration": 108,
    "start_time": "2021-10-16T11:30:15.268Z"
   },
   {
    "duration": 31,
    "start_time": "2021-10-16T11:30:15.378Z"
   },
   {
    "duration": 3,
    "start_time": "2021-10-16T11:30:15.423Z"
   },
   {
    "duration": 212,
    "start_time": "2021-10-16T11:30:15.428Z"
   },
   {
    "duration": 283,
    "start_time": "2021-10-16T11:30:15.642Z"
   },
   {
    "duration": 53,
    "start_time": "2021-10-16T11:30:15.928Z"
   },
   {
    "duration": 223,
    "start_time": "2021-10-16T11:30:15.983Z"
   },
   {
    "duration": 4,
    "start_time": "2021-10-16T11:30:16.215Z"
   },
   {
    "duration": 224,
    "start_time": "2021-10-16T11:30:16.222Z"
   },
   {
    "duration": 51,
    "start_time": "2021-10-16T11:30:16.449Z"
   },
   {
    "duration": 76,
    "start_time": "2021-10-16T11:30:16.503Z"
   },
   {
    "duration": 153,
    "start_time": "2021-10-16T11:30:16.584Z"
   },
   {
    "duration": 3,
    "start_time": "2021-10-16T11:30:16.739Z"
   },
   {
    "duration": 125,
    "start_time": "2021-10-16T11:30:16.744Z"
   },
   {
    "duration": 20,
    "start_time": "2021-10-16T11:30:16.871Z"
   },
   {
    "duration": 36,
    "start_time": "2021-10-16T11:30:16.893Z"
   },
   {
    "duration": 57,
    "start_time": "2021-10-16T11:30:16.932Z"
   },
   {
    "duration": 35,
    "start_time": "2021-10-16T11:30:16.993Z"
   },
   {
    "duration": 34,
    "start_time": "2021-10-16T11:30:17.031Z"
   },
   {
    "duration": 27,
    "start_time": "2021-10-16T11:30:17.068Z"
   },
   {
    "duration": 609,
    "start_time": "2021-10-16T11:30:17.097Z"
   },
   {
    "duration": 16,
    "start_time": "2021-10-16T11:30:17.709Z"
   },
   {
    "duration": 34,
    "start_time": "2021-10-16T11:30:17.728Z"
   },
   {
    "duration": 416,
    "start_time": "2021-10-16T11:30:17.764Z"
   },
   {
    "duration": 179,
    "start_time": "2021-10-16T11:30:18.005Z"
   },
   {
    "duration": 178,
    "start_time": "2021-10-16T11:30:18.008Z"
   },
   {
    "duration": 1874,
    "start_time": "2021-10-16T12:16:53.733Z"
   },
   {
    "duration": 43,
    "start_time": "2021-10-16T12:16:55.611Z"
   },
   {
    "duration": 41,
    "start_time": "2021-10-16T12:16:55.657Z"
   },
   {
    "duration": 50,
    "start_time": "2021-10-16T12:16:55.701Z"
   },
   {
    "duration": 19,
    "start_time": "2021-10-16T12:16:55.753Z"
   },
   {
    "duration": 79,
    "start_time": "2021-10-16T12:16:55.775Z"
   },
   {
    "duration": 40,
    "start_time": "2021-10-16T12:16:55.857Z"
   },
   {
    "duration": 19,
    "start_time": "2021-10-16T12:16:55.924Z"
   },
   {
    "duration": 28,
    "start_time": "2021-10-16T12:16:55.947Z"
   },
   {
    "duration": 56,
    "start_time": "2021-10-16T12:16:55.978Z"
   },
   {
    "duration": 147,
    "start_time": "2021-10-16T12:16:56.037Z"
   },
   {
    "duration": 45,
    "start_time": "2021-10-16T12:16:56.186Z"
   },
   {
    "duration": 4,
    "start_time": "2021-10-16T12:16:56.234Z"
   },
   {
    "duration": 8,
    "start_time": "2021-10-16T12:16:56.241Z"
   },
   {
    "duration": 128,
    "start_time": "2021-10-16T12:16:56.251Z"
   },
   {
    "duration": 26,
    "start_time": "2021-10-16T12:16:56.381Z"
   },
   {
    "duration": 66,
    "start_time": "2021-10-16T12:16:56.422Z"
   },
   {
    "duration": 39,
    "start_time": "2021-10-16T12:16:56.490Z"
   },
   {
    "duration": 10,
    "start_time": "2021-10-16T12:16:56.532Z"
   },
   {
    "duration": 82,
    "start_time": "2021-10-16T12:16:56.545Z"
   },
   {
    "duration": 4,
    "start_time": "2021-10-16T12:16:56.629Z"
   },
   {
    "duration": 11,
    "start_time": "2021-10-16T12:16:56.636Z"
   },
   {
    "duration": 37,
    "start_time": "2021-10-16T12:16:56.651Z"
   },
   {
    "duration": 131,
    "start_time": "2021-10-16T12:16:56.692Z"
   },
   {
    "duration": 33,
    "start_time": "2021-10-16T12:16:56.826Z"
   },
   {
    "duration": 4,
    "start_time": "2021-10-16T12:16:56.861Z"
   },
   {
    "duration": 226,
    "start_time": "2021-10-16T12:16:56.867Z"
   },
   {
    "duration": 283,
    "start_time": "2021-10-16T12:16:57.095Z"
   },
   {
    "duration": 69,
    "start_time": "2021-10-16T12:16:57.380Z"
   },
   {
    "duration": 164,
    "start_time": "2021-10-16T12:16:57.451Z"
   },
   {
    "duration": 5,
    "start_time": "2021-10-16T12:16:57.617Z"
   },
   {
    "duration": 135,
    "start_time": "2021-10-16T12:16:57.624Z"
   },
   {
    "duration": 21,
    "start_time": "2021-10-16T12:16:57.761Z"
   },
   {
    "duration": 63,
    "start_time": "2021-10-16T12:16:57.785Z"
   },
   {
    "duration": 132,
    "start_time": "2021-10-16T12:16:57.850Z"
   },
   {
    "duration": 3,
    "start_time": "2021-10-16T12:16:57.985Z"
   },
   {
    "duration": 119,
    "start_time": "2021-10-16T12:16:57.990Z"
   },
   {
    "duration": 25,
    "start_time": "2021-10-16T12:16:58.111Z"
   },
   {
    "duration": 5,
    "start_time": "2021-10-16T12:16:58.139Z"
   },
   {
    "duration": 23,
    "start_time": "2021-10-16T12:16:58.147Z"
   },
   {
    "duration": 24,
    "start_time": "2021-10-16T12:16:58.172Z"
   },
   {
    "duration": 21,
    "start_time": "2021-10-16T12:16:58.223Z"
   },
   {
    "duration": 30,
    "start_time": "2021-10-16T12:16:58.247Z"
   },
   {
    "duration": 628,
    "start_time": "2021-10-16T12:16:58.280Z"
   },
   {
    "duration": 13,
    "start_time": "2021-10-16T12:16:58.911Z"
   },
   {
    "duration": 31,
    "start_time": "2021-10-16T12:16:58.927Z"
   },
   {
    "duration": 7,
    "start_time": "2021-10-16T12:16:58.960Z"
   },
   {
    "duration": 16,
    "start_time": "2021-10-16T12:16:58.969Z"
   },
   {
    "duration": 27,
    "start_time": "2021-10-16T12:20:05.728Z"
   },
   {
    "duration": 58,
    "start_time": "2021-10-16T12:22:35.999Z"
   },
   {
    "duration": 1857,
    "start_time": "2021-10-16T12:22:47.435Z"
   },
   {
    "duration": 47,
    "start_time": "2021-10-16T12:22:49.295Z"
   },
   {
    "duration": 41,
    "start_time": "2021-10-16T12:22:49.345Z"
   },
   {
    "duration": 49,
    "start_time": "2021-10-16T12:22:49.389Z"
   },
   {
    "duration": 19,
    "start_time": "2021-10-16T12:22:49.441Z"
   },
   {
    "duration": 73,
    "start_time": "2021-10-16T12:22:49.463Z"
   },
   {
    "duration": 40,
    "start_time": "2021-10-16T12:22:49.539Z"
   },
   {
    "duration": 46,
    "start_time": "2021-10-16T12:22:49.583Z"
   },
   {
    "duration": 26,
    "start_time": "2021-10-16T12:22:49.632Z"
   },
   {
    "duration": 24,
    "start_time": "2021-10-16T12:22:49.661Z"
   },
   {
    "duration": 115,
    "start_time": "2021-10-16T12:22:49.723Z"
   },
   {
    "duration": 34,
    "start_time": "2021-10-16T12:22:49.840Z"
   },
   {
    "duration": 4,
    "start_time": "2021-10-16T12:22:49.876Z"
   },
   {
    "duration": 4,
    "start_time": "2021-10-16T12:22:49.883Z"
   },
   {
    "duration": 134,
    "start_time": "2021-10-16T12:22:49.890Z"
   },
   {
    "duration": 27,
    "start_time": "2021-10-16T12:22:50.027Z"
   },
   {
    "duration": 104,
    "start_time": "2021-10-16T12:22:50.057Z"
   },
   {
    "duration": 25,
    "start_time": "2021-10-16T12:22:50.164Z"
   },
   {
    "duration": 33,
    "start_time": "2021-10-16T12:22:50.191Z"
   },
   {
    "duration": 38,
    "start_time": "2021-10-16T12:22:50.226Z"
   },
   {
    "duration": 4,
    "start_time": "2021-10-16T12:22:50.266Z"
   },
   {
    "duration": 49,
    "start_time": "2021-10-16T12:22:50.273Z"
   },
   {
    "duration": 35,
    "start_time": "2021-10-16T12:22:50.328Z"
   },
   {
    "duration": 107,
    "start_time": "2021-10-16T12:22:50.366Z"
   },
   {
    "duration": 31,
    "start_time": "2021-10-16T12:22:50.475Z"
   },
   {
    "duration": 15,
    "start_time": "2021-10-16T12:22:50.509Z"
   },
   {
    "duration": 217,
    "start_time": "2021-10-16T12:22:50.526Z"
   },
   {
    "duration": 285,
    "start_time": "2021-10-16T12:22:50.745Z"
   },
   {
    "duration": 52,
    "start_time": "2021-10-16T12:22:51.032Z"
   },
   {
    "duration": 168,
    "start_time": "2021-10-16T12:22:51.087Z"
   },
   {
    "duration": 3,
    "start_time": "2021-10-16T12:22:51.258Z"
   },
   {
    "duration": 362,
    "start_time": "2021-10-16T12:22:51.263Z"
   },
   {
    "duration": 246,
    "start_time": "2021-10-16T12:22:51.381Z"
   },
   {
    "duration": 243,
    "start_time": "2021-10-16T12:22:51.386Z"
   },
   {
    "duration": 242,
    "start_time": "2021-10-16T12:22:51.388Z"
   },
   {
    "duration": 242,
    "start_time": "2021-10-16T12:22:51.390Z"
   },
   {
    "duration": 243,
    "start_time": "2021-10-16T12:22:51.391Z"
   },
   {
    "duration": 243,
    "start_time": "2021-10-16T12:22:51.392Z"
   },
   {
    "duration": 243,
    "start_time": "2021-10-16T12:22:51.394Z"
   },
   {
    "duration": 240,
    "start_time": "2021-10-16T12:22:51.398Z"
   },
   {
    "duration": 240,
    "start_time": "2021-10-16T12:22:51.400Z"
   },
   {
    "duration": 235,
    "start_time": "2021-10-16T12:22:51.406Z"
   },
   {
    "duration": 236,
    "start_time": "2021-10-16T12:22:51.407Z"
   },
   {
    "duration": 236,
    "start_time": "2021-10-16T12:22:51.409Z"
   },
   {
    "duration": 236,
    "start_time": "2021-10-16T12:22:51.410Z"
   },
   {
    "duration": 234,
    "start_time": "2021-10-16T12:22:51.414Z"
   },
   {
    "duration": 233,
    "start_time": "2021-10-16T12:22:51.416Z"
   },
   {
    "duration": 234,
    "start_time": "2021-10-16T12:22:51.417Z"
   },
   {
    "duration": 1917,
    "start_time": "2021-10-16T12:23:29.611Z"
   },
   {
    "duration": 46,
    "start_time": "2021-10-16T12:23:31.530Z"
   },
   {
    "duration": 62,
    "start_time": "2021-10-16T12:23:31.579Z"
   },
   {
    "duration": 32,
    "start_time": "2021-10-16T12:23:31.644Z"
   },
   {
    "duration": 45,
    "start_time": "2021-10-16T12:23:31.679Z"
   },
   {
    "duration": 41,
    "start_time": "2021-10-16T12:23:31.726Z"
   },
   {
    "duration": 71,
    "start_time": "2021-10-16T12:23:31.769Z"
   },
   {
    "duration": 16,
    "start_time": "2021-10-16T12:23:31.843Z"
   },
   {
    "duration": 25,
    "start_time": "2021-10-16T12:23:31.864Z"
   },
   {
    "duration": 21,
    "start_time": "2021-10-16T12:23:31.923Z"
   },
   {
    "duration": 119,
    "start_time": "2021-10-16T12:23:31.947Z"
   },
   {
    "duration": 35,
    "start_time": "2021-10-16T12:23:32.068Z"
   },
   {
    "duration": 3,
    "start_time": "2021-10-16T12:23:32.123Z"
   },
   {
    "duration": 22,
    "start_time": "2021-10-16T12:23:32.129Z"
   },
   {
    "duration": 99,
    "start_time": "2021-10-16T12:23:32.154Z"
   },
   {
    "duration": 27,
    "start_time": "2021-10-16T12:23:32.256Z"
   },
   {
    "duration": 94,
    "start_time": "2021-10-16T12:23:32.286Z"
   },
   {
    "duration": 49,
    "start_time": "2021-10-16T12:23:32.383Z"
   },
   {
    "duration": 9,
    "start_time": "2021-10-16T12:23:32.435Z"
   },
   {
    "duration": 38,
    "start_time": "2021-10-16T12:23:32.447Z"
   },
   {
    "duration": 36,
    "start_time": "2021-10-16T12:23:32.487Z"
   },
   {
    "duration": 20,
    "start_time": "2021-10-16T12:23:32.525Z"
   },
   {
    "duration": 38,
    "start_time": "2021-10-16T12:23:32.547Z"
   },
   {
    "duration": 116,
    "start_time": "2021-10-16T12:23:32.587Z"
   },
   {
    "duration": 49,
    "start_time": "2021-10-16T12:23:32.707Z"
   },
   {
    "duration": 7,
    "start_time": "2021-10-16T12:23:32.759Z"
   },
   {
    "duration": 280,
    "start_time": "2021-10-16T12:23:32.773Z"
   },
   {
    "duration": 277,
    "start_time": "2021-10-16T12:23:33.056Z"
   },
   {
    "duration": 52,
    "start_time": "2021-10-16T12:23:33.335Z"
   },
   {
    "duration": 174,
    "start_time": "2021-10-16T12:23:33.390Z"
   },
   {
    "duration": 3,
    "start_time": "2021-10-16T12:23:33.567Z"
   },
   {
    "duration": 135,
    "start_time": "2021-10-16T12:23:33.572Z"
   },
   {
    "duration": 26,
    "start_time": "2021-10-16T12:23:33.709Z"
   },
   {
    "duration": 59,
    "start_time": "2021-10-16T12:23:33.738Z"
   },
   {
    "duration": 155,
    "start_time": "2021-10-16T12:23:33.799Z"
   },
   {
    "duration": 3,
    "start_time": "2021-10-16T12:23:33.956Z"
   },
   {
    "duration": 129,
    "start_time": "2021-10-16T12:23:33.961Z"
   },
   {
    "duration": 32,
    "start_time": "2021-10-16T12:23:34.093Z"
   },
   {
    "duration": 11,
    "start_time": "2021-10-16T12:23:34.128Z"
   },
   {
    "duration": 28,
    "start_time": "2021-10-16T12:23:34.141Z"
   },
   {
    "duration": 58,
    "start_time": "2021-10-16T12:23:34.172Z"
   },
   {
    "duration": 23,
    "start_time": "2021-10-16T12:23:34.234Z"
   },
   {
    "duration": 30,
    "start_time": "2021-10-16T12:23:34.259Z"
   },
   {
    "duration": 660,
    "start_time": "2021-10-16T12:23:34.323Z"
   },
   {
    "duration": 6536,
    "start_time": "2021-10-16T12:23:34.985Z"
   },
   {
    "duration": 232,
    "start_time": "2021-10-16T12:23:41.292Z"
   },
   {
    "duration": 232,
    "start_time": "2021-10-16T12:23:41.294Z"
   },
   {
    "duration": 233,
    "start_time": "2021-10-16T12:23:41.295Z"
   },
   {
    "duration": 7,
    "start_time": "2021-10-16T12:24:01.791Z"
   },
   {
    "duration": 1965,
    "start_time": "2021-10-16T12:24:16.296Z"
   },
   {
    "duration": 45,
    "start_time": "2021-10-16T12:24:18.263Z"
   },
   {
    "duration": 40,
    "start_time": "2021-10-16T12:24:18.311Z"
   },
   {
    "duration": 30,
    "start_time": "2021-10-16T12:24:18.354Z"
   },
   {
    "duration": 42,
    "start_time": "2021-10-16T12:24:18.386Z"
   },
   {
    "duration": 38,
    "start_time": "2021-10-16T12:24:18.431Z"
   },
   {
    "duration": 67,
    "start_time": "2021-10-16T12:24:18.472Z"
   },
   {
    "duration": 17,
    "start_time": "2021-10-16T12:24:18.543Z"
   },
   {
    "duration": 25,
    "start_time": "2021-10-16T12:24:18.563Z"
   },
   {
    "duration": 51,
    "start_time": "2021-10-16T12:24:18.591Z"
   },
   {
    "duration": 123,
    "start_time": "2021-10-16T12:24:18.644Z"
   },
   {
    "duration": 31,
    "start_time": "2021-10-16T12:24:18.769Z"
   },
   {
    "duration": 21,
    "start_time": "2021-10-16T12:24:18.802Z"
   },
   {
    "duration": 11,
    "start_time": "2021-10-16T12:24:18.825Z"
   },
   {
    "duration": 104,
    "start_time": "2021-10-16T12:24:18.839Z"
   },
   {
    "duration": 24,
    "start_time": "2021-10-16T12:24:18.946Z"
   },
   {
    "duration": 92,
    "start_time": "2021-10-16T12:24:18.972Z"
   },
   {
    "duration": 23,
    "start_time": "2021-10-16T12:24:19.066Z"
   },
   {
    "duration": 31,
    "start_time": "2021-10-16T12:24:19.092Z"
   },
   {
    "duration": 37,
    "start_time": "2021-10-16T12:24:19.125Z"
   },
   {
    "duration": 4,
    "start_time": "2021-10-16T12:24:19.165Z"
   },
   {
    "duration": 22,
    "start_time": "2021-10-16T12:24:19.171Z"
   },
   {
    "duration": 37,
    "start_time": "2021-10-16T12:24:19.226Z"
   },
   {
    "duration": 105,
    "start_time": "2021-10-16T12:24:19.267Z"
   },
   {
    "duration": 33,
    "start_time": "2021-10-16T12:24:19.374Z"
   },
   {
    "duration": 3,
    "start_time": "2021-10-16T12:24:19.422Z"
   },
   {
    "duration": 214,
    "start_time": "2021-10-16T12:24:19.427Z"
   },
   {
    "duration": 285,
    "start_time": "2021-10-16T12:24:19.643Z"
   },
   {
    "duration": 55,
    "start_time": "2021-10-16T12:24:19.930Z"
   },
   {
    "duration": 179,
    "start_time": "2021-10-16T12:24:19.987Z"
   },
   {
    "duration": 3,
    "start_time": "2021-10-16T12:24:20.168Z"
   },
   {
    "duration": 136,
    "start_time": "2021-10-16T12:24:20.173Z"
   },
   {
    "duration": 27,
    "start_time": "2021-10-16T12:24:20.311Z"
   },
   {
    "duration": 60,
    "start_time": "2021-10-16T12:24:20.340Z"
   },
   {
    "duration": 134,
    "start_time": "2021-10-16T12:24:20.403Z"
   },
   {
    "duration": 3,
    "start_time": "2021-10-16T12:24:20.539Z"
   },
   {
    "duration": 121,
    "start_time": "2021-10-16T12:24:20.545Z"
   },
   {
    "duration": 21,
    "start_time": "2021-10-16T12:24:20.668Z"
   },
   {
    "duration": 6,
    "start_time": "2021-10-16T12:24:20.692Z"
   },
   {
    "duration": 41,
    "start_time": "2021-10-16T12:24:20.700Z"
   },
   {
    "duration": 24,
    "start_time": "2021-10-16T12:24:20.743Z"
   },
   {
    "duration": 27,
    "start_time": "2021-10-16T12:24:20.770Z"
   },
   {
    "duration": 49,
    "start_time": "2021-10-16T12:24:20.799Z"
   },
   {
    "duration": 649,
    "start_time": "2021-10-16T12:24:20.850Z"
   },
   {
    "duration": 6,
    "start_time": "2021-10-16T12:24:21.502Z"
   },
   {
    "duration": 26,
    "start_time": "2021-10-16T12:24:21.522Z"
   },
   {
    "duration": 38,
    "start_time": "2021-10-16T12:24:21.550Z"
   },
   {
    "duration": 103,
    "start_time": "2021-10-16T12:24:21.590Z"
   },
   {
    "duration": 129,
    "start_time": "2021-10-16T12:28:52.851Z"
   },
   {
    "duration": 33,
    "start_time": "2021-10-16T12:28:54.567Z"
   },
   {
    "duration": 256,
    "start_time": "2021-10-16T12:28:58.796Z"
   },
   {
    "duration": 96,
    "start_time": "2021-10-16T12:30:03.610Z"
   },
   {
    "duration": 131,
    "start_time": "2021-10-16T12:30:52.154Z"
   },
   {
    "duration": 466,
    "start_time": "2021-10-16T12:32:35.162Z"
   },
   {
    "duration": 344,
    "start_time": "2021-10-16T12:33:13.884Z"
   },
   {
    "duration": 213,
    "start_time": "2021-10-16T12:33:27.752Z"
   },
   {
    "duration": 70,
    "start_time": "2021-10-16T12:34:29.641Z"
   },
   {
    "duration": 4,
    "start_time": "2021-10-16T12:34:30.333Z"
   },
   {
    "duration": 3,
    "start_time": "2021-10-16T12:34:30.836Z"
   },
   {
    "duration": 60,
    "start_time": "2021-10-16T12:34:31.401Z"
   },
   {
    "duration": 21,
    "start_time": "2021-10-16T12:34:32.478Z"
   },
   {
    "duration": 61,
    "start_time": "2021-10-16T12:34:55.019Z"
   },
   {
    "duration": 4,
    "start_time": "2021-10-16T12:34:55.411Z"
   },
   {
    "duration": 4,
    "start_time": "2021-10-16T12:34:55.849Z"
   },
   {
    "duration": 286,
    "start_time": "2021-10-16T12:34:56.272Z"
   },
   {
    "duration": 20,
    "start_time": "2021-10-16T12:34:56.861Z"
   },
   {
    "duration": 1835,
    "start_time": "2021-10-16T12:35:05.162Z"
   },
   {
    "duration": 46,
    "start_time": "2021-10-16T12:35:07.000Z"
   },
   {
    "duration": 39,
    "start_time": "2021-10-16T12:35:07.049Z"
   },
   {
    "duration": 52,
    "start_time": "2021-10-16T12:35:07.091Z"
   },
   {
    "duration": 19,
    "start_time": "2021-10-16T12:35:07.145Z"
   },
   {
    "duration": 72,
    "start_time": "2021-10-16T12:35:07.166Z"
   },
   {
    "duration": 39,
    "start_time": "2021-10-16T12:35:07.240Z"
   },
   {
    "duration": 43,
    "start_time": "2021-10-16T12:35:07.283Z"
   },
   {
    "duration": 26,
    "start_time": "2021-10-16T12:35:07.329Z"
   },
   {
    "duration": 21,
    "start_time": "2021-10-16T12:35:07.357Z"
   },
   {
    "duration": 147,
    "start_time": "2021-10-16T12:35:07.381Z"
   },
   {
    "duration": 32,
    "start_time": "2021-10-16T12:35:07.531Z"
   },
   {
    "duration": 3,
    "start_time": "2021-10-16T12:35:07.565Z"
   },
   {
    "duration": 8,
    "start_time": "2021-10-16T12:35:07.571Z"
   },
   {
    "duration": 132,
    "start_time": "2021-10-16T12:35:07.582Z"
   },
   {
    "duration": 36,
    "start_time": "2021-10-16T12:35:07.717Z"
   },
   {
    "duration": 100,
    "start_time": "2021-10-16T12:35:07.756Z"
   },
   {
    "duration": 26,
    "start_time": "2021-10-16T12:35:07.859Z"
   },
   {
    "duration": 9,
    "start_time": "2021-10-16T12:35:07.888Z"
   },
   {
    "duration": 40,
    "start_time": "2021-10-16T12:35:07.923Z"
   },
   {
    "duration": 4,
    "start_time": "2021-10-16T12:35:07.965Z"
   },
   {
    "duration": 13,
    "start_time": "2021-10-16T12:35:07.972Z"
   },
   {
    "duration": 37,
    "start_time": "2021-10-16T12:35:08.022Z"
   },
   {
    "duration": 154,
    "start_time": "2021-10-16T12:35:08.062Z"
   },
   {
    "duration": 261,
    "start_time": "2021-10-16T12:35:08.219Z"
   },
   {
    "duration": 2,
    "start_time": "2021-10-16T12:35:08.483Z"
   },
   {
    "duration": 6,
    "start_time": "2021-10-16T12:35:08.488Z"
   },
   {
    "duration": 284,
    "start_time": "2021-10-16T12:35:08.496Z"
   },
   {
    "duration": 63,
    "start_time": "2021-10-16T12:35:08.783Z"
   },
   {
    "duration": 3,
    "start_time": "2021-10-16T12:35:08.849Z"
   },
   {
    "duration": 7,
    "start_time": "2021-10-16T12:35:08.854Z"
   },
   {
    "duration": 69,
    "start_time": "2021-10-16T12:35:08.863Z"
   },
   {
    "duration": 21,
    "start_time": "2021-10-16T12:35:08.935Z"
   },
   {
    "duration": 65,
    "start_time": "2021-10-16T12:35:08.958Z"
   },
   {
    "duration": 4,
    "start_time": "2021-10-16T12:35:09.025Z"
   },
   {
    "duration": 9,
    "start_time": "2021-10-16T12:35:09.031Z"
   },
   {
    "duration": 416,
    "start_time": "2021-10-16T12:35:09.043Z"
   },
   {
    "duration": 210,
    "start_time": "2021-10-16T12:35:09.251Z"
   },
   {
    "duration": 210,
    "start_time": "2021-10-16T12:35:09.253Z"
   },
   {
    "duration": 209,
    "start_time": "2021-10-16T12:35:09.255Z"
   },
   {
    "duration": 209,
    "start_time": "2021-10-16T12:35:09.256Z"
   },
   {
    "duration": 209,
    "start_time": "2021-10-16T12:35:09.257Z"
   },
   {
    "duration": 208,
    "start_time": "2021-10-16T12:35:09.259Z"
   },
   {
    "duration": 200,
    "start_time": "2021-10-16T12:35:09.268Z"
   },
   {
    "duration": 199,
    "start_time": "2021-10-16T12:35:09.270Z"
   },
   {
    "duration": 198,
    "start_time": "2021-10-16T12:35:09.272Z"
   },
   {
    "duration": 198,
    "start_time": "2021-10-16T12:35:09.273Z"
   },
   {
    "duration": 198,
    "start_time": "2021-10-16T12:35:09.274Z"
   },
   {
    "duration": 27,
    "start_time": "2021-10-16T12:36:40.170Z"
   },
   {
    "duration": 12,
    "start_time": "2021-10-16T12:36:40.931Z"
   },
   {
    "duration": 247,
    "start_time": "2021-10-16T12:36:54.425Z"
   },
   {
    "duration": 259,
    "start_time": "2021-10-16T12:37:04.328Z"
   },
   {
    "duration": 265,
    "start_time": "2021-10-16T12:39:20.097Z"
   },
   {
    "duration": 12,
    "start_time": "2021-10-16T12:39:29.508Z"
   },
   {
    "duration": 101,
    "start_time": "2021-10-16T12:40:18.756Z"
   },
   {
    "duration": 89,
    "start_time": "2021-10-16T12:40:25.517Z"
   },
   {
    "duration": 12,
    "start_time": "2021-10-16T12:40:27.469Z"
   },
   {
    "duration": 126,
    "start_time": "2021-10-16T12:41:36.539Z"
   },
   {
    "duration": 35,
    "start_time": "2021-10-16T12:41:41.380Z"
   },
   {
    "duration": 46,
    "start_time": "2021-10-16T12:44:48.113Z"
   },
   {
    "duration": 114,
    "start_time": "2021-10-16T12:44:48.542Z"
   },
   {
    "duration": 33,
    "start_time": "2021-10-16T12:44:49.050Z"
   },
   {
    "duration": 77,
    "start_time": "2021-10-16T12:44:50.079Z"
   },
   {
    "duration": 22,
    "start_time": "2021-10-16T12:44:50.837Z"
   },
   {
    "duration": 1985,
    "start_time": "2021-10-16T12:45:20.833Z"
   },
   {
    "duration": 45,
    "start_time": "2021-10-16T12:45:22.821Z"
   },
   {
    "duration": 57,
    "start_time": "2021-10-16T12:45:22.869Z"
   },
   {
    "duration": 30,
    "start_time": "2021-10-16T12:45:22.929Z"
   },
   {
    "duration": 61,
    "start_time": "2021-10-16T12:45:22.962Z"
   },
   {
    "duration": 51,
    "start_time": "2021-10-16T12:45:23.026Z"
   },
   {
    "duration": 62,
    "start_time": "2021-10-16T12:45:23.080Z"
   },
   {
    "duration": 18,
    "start_time": "2021-10-16T12:45:23.146Z"
   },
   {
    "duration": 27,
    "start_time": "2021-10-16T12:45:23.166Z"
   },
   {
    "duration": 24,
    "start_time": "2021-10-16T12:45:23.223Z"
   },
   {
    "duration": 123,
    "start_time": "2021-10-16T12:45:23.250Z"
   },
   {
    "duration": 46,
    "start_time": "2021-10-16T12:45:23.376Z"
   },
   {
    "duration": 3,
    "start_time": "2021-10-16T12:45:23.425Z"
   },
   {
    "duration": 8,
    "start_time": "2021-10-16T12:45:23.430Z"
   },
   {
    "duration": 103,
    "start_time": "2021-10-16T12:45:23.441Z"
   },
   {
    "duration": 23,
    "start_time": "2021-10-16T12:45:23.547Z"
   },
   {
    "duration": 96,
    "start_time": "2021-10-16T12:45:23.573Z"
   },
   {
    "duration": 24,
    "start_time": "2021-10-16T12:45:23.671Z"
   },
   {
    "duration": 31,
    "start_time": "2021-10-16T12:45:23.698Z"
   },
   {
    "duration": 54,
    "start_time": "2021-10-16T12:45:23.732Z"
   },
   {
    "duration": 4,
    "start_time": "2021-10-16T12:45:23.789Z"
   },
   {
    "duration": 30,
    "start_time": "2021-10-16T12:45:23.796Z"
   },
   {
    "duration": 35,
    "start_time": "2021-10-16T12:45:23.832Z"
   },
   {
    "duration": 151,
    "start_time": "2021-10-16T12:45:23.870Z"
   },
   {
    "duration": 263,
    "start_time": "2021-10-16T12:45:24.024Z"
   },
   {
    "duration": 3,
    "start_time": "2021-10-16T12:45:24.290Z"
   },
   {
    "duration": 8,
    "start_time": "2021-10-16T12:45:24.295Z"
   },
   {
    "duration": 289,
    "start_time": "2021-10-16T12:45:24.306Z"
   },
   {
    "duration": 74,
    "start_time": "2021-10-16T12:45:24.597Z"
   },
   {
    "duration": 3,
    "start_time": "2021-10-16T12:45:24.673Z"
   },
   {
    "duration": 11,
    "start_time": "2021-10-16T12:45:24.678Z"
   },
   {
    "duration": 63,
    "start_time": "2021-10-16T12:45:24.692Z"
   },
   {
    "duration": 22,
    "start_time": "2021-10-16T12:45:24.757Z"
   },
   {
    "duration": 66,
    "start_time": "2021-10-16T12:45:24.781Z"
   },
   {
    "duration": 130,
    "start_time": "2021-10-16T12:45:24.849Z"
   },
   {
    "duration": 43,
    "start_time": "2021-10-16T12:45:24.981Z"
   },
   {
    "duration": 67,
    "start_time": "2021-10-16T12:45:25.026Z"
   },
   {
    "duration": 38,
    "start_time": "2021-10-16T12:45:25.095Z"
   },
   {
    "duration": 5,
    "start_time": "2021-10-16T12:45:25.135Z"
   },
   {
    "duration": 460,
    "start_time": "2021-10-16T12:45:25.142Z"
   },
   {
    "duration": 242,
    "start_time": "2021-10-16T12:45:25.362Z"
   },
   {
    "duration": 242,
    "start_time": "2021-10-16T12:45:25.364Z"
   },
   {
    "duration": 239,
    "start_time": "2021-10-16T12:45:25.368Z"
   },
   {
    "duration": 238,
    "start_time": "2021-10-16T12:45:25.370Z"
   },
   {
    "duration": 238,
    "start_time": "2021-10-16T12:45:25.372Z"
   },
   {
    "duration": 234,
    "start_time": "2021-10-16T12:45:25.377Z"
   },
   {
    "duration": 233,
    "start_time": "2021-10-16T12:45:25.379Z"
   },
   {
    "duration": 234,
    "start_time": "2021-10-16T12:45:25.380Z"
   },
   {
    "duration": 242,
    "start_time": "2021-10-16T12:47:48.888Z"
   },
   {
    "duration": 307,
    "start_time": "2021-10-16T12:48:30.347Z"
   },
   {
    "duration": 658,
    "start_time": "2021-10-16T12:48:41.442Z"
   },
   {
    "duration": 447,
    "start_time": "2021-10-16T12:48:48.358Z"
   },
   {
    "duration": 36,
    "start_time": "2021-10-16T12:49:27.723Z"
   },
   {
    "duration": 22,
    "start_time": "2021-10-16T12:49:28.574Z"
   },
   {
    "duration": 42,
    "start_time": "2021-10-16T12:49:38.015Z"
   },
   {
    "duration": 24,
    "start_time": "2021-10-16T12:49:38.545Z"
   },
   {
    "duration": 18,
    "start_time": "2021-10-16T12:49:43.903Z"
   },
   {
    "duration": 24,
    "start_time": "2021-10-16T12:49:46.310Z"
   },
   {
    "duration": 277,
    "start_time": "2021-10-16T12:51:51.985Z"
   },
   {
    "duration": 312,
    "start_time": "2021-10-16T12:52:23.171Z"
   },
   {
    "duration": 334,
    "start_time": "2021-10-16T12:52:38.040Z"
   },
   {
    "duration": 280,
    "start_time": "2021-10-16T12:53:15.766Z"
   },
   {
    "duration": 1988,
    "start_time": "2021-10-16T12:54:00.236Z"
   },
   {
    "duration": 49,
    "start_time": "2021-10-16T12:54:02.227Z"
   },
   {
    "duration": 65,
    "start_time": "2021-10-16T12:54:02.280Z"
   },
   {
    "duration": 31,
    "start_time": "2021-10-16T12:54:02.348Z"
   },
   {
    "duration": 50,
    "start_time": "2021-10-16T12:54:02.382Z"
   },
   {
    "duration": 53,
    "start_time": "2021-10-16T12:54:02.435Z"
   },
   {
    "duration": 58,
    "start_time": "2021-10-16T12:54:02.491Z"
   },
   {
    "duration": 19,
    "start_time": "2021-10-16T12:54:02.555Z"
   },
   {
    "duration": 56,
    "start_time": "2021-10-16T12:54:02.578Z"
   },
   {
    "duration": 30,
    "start_time": "2021-10-16T12:54:02.637Z"
   },
   {
    "duration": 133,
    "start_time": "2021-10-16T12:54:02.670Z"
   },
   {
    "duration": 55,
    "start_time": "2021-10-16T12:54:02.806Z"
   },
   {
    "duration": 4,
    "start_time": "2021-10-16T12:54:02.864Z"
   },
   {
    "duration": 6,
    "start_time": "2021-10-16T12:54:02.871Z"
   },
   {
    "duration": 167,
    "start_time": "2021-10-16T12:54:02.880Z"
   },
   {
    "duration": 31,
    "start_time": "2021-10-16T12:54:03.050Z"
   },
   {
    "duration": 90,
    "start_time": "2021-10-16T12:54:03.083Z"
   },
   {
    "duration": 23,
    "start_time": "2021-10-16T12:54:03.176Z"
   },
   {
    "duration": 9,
    "start_time": "2021-10-16T12:54:03.222Z"
   },
   {
    "duration": 44,
    "start_time": "2021-10-16T12:54:03.234Z"
   },
   {
    "duration": 5,
    "start_time": "2021-10-16T12:54:03.280Z"
   },
   {
    "duration": 43,
    "start_time": "2021-10-16T12:54:03.287Z"
   },
   {
    "duration": 36,
    "start_time": "2021-10-16T12:54:03.337Z"
   },
   {
    "duration": 177,
    "start_time": "2021-10-16T12:54:03.377Z"
   },
   {
    "duration": 271,
    "start_time": "2021-10-16T12:54:03.557Z"
   },
   {
    "duration": 3,
    "start_time": "2021-10-16T12:54:03.830Z"
   },
   {
    "duration": 7,
    "start_time": "2021-10-16T12:54:03.835Z"
   },
   {
    "duration": 286,
    "start_time": "2021-10-16T12:54:03.844Z"
   },
   {
    "duration": 56,
    "start_time": "2021-10-16T12:54:04.133Z"
   },
   {
    "duration": 4,
    "start_time": "2021-10-16T12:54:04.191Z"
   },
   {
    "duration": 25,
    "start_time": "2021-10-16T12:54:04.197Z"
   },
   {
    "duration": 51,
    "start_time": "2021-10-16T12:54:04.225Z"
   },
   {
    "duration": 44,
    "start_time": "2021-10-16T12:54:04.278Z"
   },
   {
    "duration": 45,
    "start_time": "2021-10-16T12:54:04.324Z"
   },
   {
    "duration": 143,
    "start_time": "2021-10-16T12:54:04.372Z"
   },
   {
    "duration": 33,
    "start_time": "2021-10-16T12:54:04.517Z"
   },
   {
    "duration": 89,
    "start_time": "2021-10-16T12:54:04.552Z"
   },
   {
    "duration": 21,
    "start_time": "2021-10-16T12:54:04.643Z"
   },
   {
    "duration": 6,
    "start_time": "2021-10-16T12:54:04.667Z"
   },
   {
    "duration": 397,
    "start_time": "2021-10-16T12:54:04.676Z"
   },
   {
    "duration": 254,
    "start_time": "2021-10-16T12:54:04.822Z"
   },
   {
    "duration": 254,
    "start_time": "2021-10-16T12:54:04.825Z"
   },
   {
    "duration": 254,
    "start_time": "2021-10-16T12:54:04.827Z"
   },
   {
    "duration": 255,
    "start_time": "2021-10-16T12:54:04.829Z"
   },
   {
    "duration": 255,
    "start_time": "2021-10-16T12:54:04.831Z"
   },
   {
    "duration": 254,
    "start_time": "2021-10-16T12:54:04.834Z"
   },
   {
    "duration": 254,
    "start_time": "2021-10-16T12:54:04.836Z"
   },
   {
    "duration": 256,
    "start_time": "2021-10-16T12:54:04.837Z"
   },
   {
    "duration": 2484,
    "start_time": "2021-10-18T15:50:22.144Z"
   },
   {
    "duration": 44,
    "start_time": "2021-10-18T15:50:24.632Z"
   },
   {
    "duration": 64,
    "start_time": "2021-10-18T15:50:24.680Z"
   },
   {
    "duration": 31,
    "start_time": "2021-10-18T15:50:24.747Z"
   },
   {
    "duration": 51,
    "start_time": "2021-10-18T15:50:24.781Z"
   },
   {
    "duration": 40,
    "start_time": "2021-10-18T15:50:24.834Z"
   },
   {
    "duration": 62,
    "start_time": "2021-10-18T15:50:24.876Z"
   },
   {
    "duration": 17,
    "start_time": "2021-10-18T15:50:24.941Z"
   },
   {
    "duration": 27,
    "start_time": "2021-10-18T15:50:24.962Z"
   },
   {
    "duration": 24,
    "start_time": "2021-10-18T15:50:25.024Z"
   },
   {
    "duration": 120,
    "start_time": "2021-10-18T15:50:25.050Z"
   },
   {
    "duration": 30,
    "start_time": "2021-10-18T15:50:25.172Z"
   },
   {
    "duration": 4,
    "start_time": "2021-10-18T15:50:25.221Z"
   },
   {
    "duration": 5,
    "start_time": "2021-10-18T15:50:25.228Z"
   },
   {
    "duration": 106,
    "start_time": "2021-10-18T15:50:25.235Z"
   },
   {
    "duration": 23,
    "start_time": "2021-10-18T15:50:25.343Z"
   },
   {
    "duration": 90,
    "start_time": "2021-10-18T15:50:25.369Z"
   },
   {
    "duration": 23,
    "start_time": "2021-10-18T15:50:25.462Z"
   },
   {
    "duration": 8,
    "start_time": "2021-10-18T15:50:25.488Z"
   },
   {
    "duration": 38,
    "start_time": "2021-10-18T15:50:25.523Z"
   },
   {
    "duration": 5,
    "start_time": "2021-10-18T15:50:25.564Z"
   },
   {
    "duration": 11,
    "start_time": "2021-10-18T15:50:25.572Z"
   },
   {
    "duration": 38,
    "start_time": "2021-10-18T15:50:25.623Z"
   },
   {
    "duration": 158,
    "start_time": "2021-10-18T15:50:25.664Z"
   },
   {
    "duration": 291,
    "start_time": "2021-10-18T15:50:25.825Z"
   },
   {
    "duration": 4,
    "start_time": "2021-10-18T15:50:26.123Z"
   },
   {
    "duration": 8,
    "start_time": "2021-10-18T15:50:26.134Z"
   },
   {
    "duration": 282,
    "start_time": "2021-10-18T15:50:26.146Z"
   },
   {
    "duration": 52,
    "start_time": "2021-10-18T15:50:26.430Z"
   },
   {
    "duration": 3,
    "start_time": "2021-10-18T15:50:26.485Z"
   },
   {
    "duration": 8,
    "start_time": "2021-10-18T15:50:26.490Z"
   },
   {
    "duration": 50,
    "start_time": "2021-10-18T15:50:26.523Z"
   },
   {
    "duration": 20,
    "start_time": "2021-10-18T15:50:26.575Z"
   },
   {
    "duration": 66,
    "start_time": "2021-10-18T15:50:26.597Z"
   },
   {
    "duration": 148,
    "start_time": "2021-10-18T15:50:26.666Z"
   },
   {
    "duration": 40,
    "start_time": "2021-10-18T15:50:26.816Z"
   },
   {
    "duration": 91,
    "start_time": "2021-10-18T15:50:26.858Z"
   },
   {
    "duration": 22,
    "start_time": "2021-10-18T15:50:26.951Z"
   },
   {
    "duration": 12,
    "start_time": "2021-10-18T15:50:26.976Z"
   },
   {
    "duration": 391,
    "start_time": "2021-10-18T15:50:26.990Z"
   },
   {
    "duration": 61,
    "start_time": "2021-10-18T15:50:27.322Z"
   },
   {
    "duration": 50,
    "start_time": "2021-10-18T15:50:27.335Z"
   },
   {
    "duration": 49,
    "start_time": "2021-10-18T15:50:27.337Z"
   },
   {
    "duration": 49,
    "start_time": "2021-10-18T15:50:27.339Z"
   },
   {
    "duration": 44,
    "start_time": "2021-10-18T15:50:27.346Z"
   },
   {
    "duration": 39,
    "start_time": "2021-10-18T15:50:27.353Z"
   },
   {
    "duration": 38,
    "start_time": "2021-10-18T15:50:27.356Z"
   },
   {
    "duration": 34,
    "start_time": "2021-10-18T15:50:27.361Z"
   },
   {
    "duration": 298,
    "start_time": "2021-10-18T15:50:56.380Z"
   },
   {
    "duration": 264,
    "start_time": "2021-10-18T15:51:15.061Z"
   },
   {
    "duration": 268,
    "start_time": "2021-10-18T15:51:25.543Z"
   },
   {
    "duration": 283,
    "start_time": "2021-10-18T15:51:33.613Z"
   },
   {
    "duration": 278,
    "start_time": "2021-10-18T15:51:40.748Z"
   },
   {
    "duration": 21,
    "start_time": "2021-10-18T15:51:47.457Z"
   },
   {
    "duration": 29,
    "start_time": "2021-10-18T15:51:52.190Z"
   },
   {
    "duration": 265,
    "start_time": "2021-10-18T15:51:59.105Z"
   },
   {
    "duration": 20,
    "start_time": "2021-10-18T15:53:57.509Z"
   },
   {
    "duration": 29,
    "start_time": "2021-10-18T15:54:06.042Z"
   },
   {
    "duration": 2041,
    "start_time": "2021-10-18T15:54:51.958Z"
   },
   {
    "duration": 44,
    "start_time": "2021-10-18T15:54:54.002Z"
   },
   {
    "duration": 41,
    "start_time": "2021-10-18T15:54:54.049Z"
   },
   {
    "duration": 47,
    "start_time": "2021-10-18T15:54:54.093Z"
   },
   {
    "duration": 19,
    "start_time": "2021-10-18T15:54:54.143Z"
   },
   {
    "duration": 74,
    "start_time": "2021-10-18T15:54:54.164Z"
   },
   {
    "duration": 38,
    "start_time": "2021-10-18T15:54:54.241Z"
   },
   {
    "duration": 48,
    "start_time": "2021-10-18T15:54:54.284Z"
   },
   {
    "duration": 32,
    "start_time": "2021-10-18T15:54:54.336Z"
   },
   {
    "duration": 55,
    "start_time": "2021-10-18T15:54:54.370Z"
   },
   {
    "duration": 119,
    "start_time": "2021-10-18T15:54:54.428Z"
   },
   {
    "duration": 32,
    "start_time": "2021-10-18T15:54:54.549Z"
   },
   {
    "duration": 3,
    "start_time": "2021-10-18T15:54:54.584Z"
   },
   {
    "duration": 8,
    "start_time": "2021-10-18T15:54:54.589Z"
   },
   {
    "duration": 100,
    "start_time": "2021-10-18T15:54:54.623Z"
   },
   {
    "duration": 24,
    "start_time": "2021-10-18T15:54:54.725Z"
   },
   {
    "duration": 94,
    "start_time": "2021-10-18T15:54:54.751Z"
   },
   {
    "duration": 26,
    "start_time": "2021-10-18T15:54:54.848Z"
   },
   {
    "duration": 9,
    "start_time": "2021-10-18T15:54:54.877Z"
   },
   {
    "duration": 89,
    "start_time": "2021-10-18T15:54:54.889Z"
   },
   {
    "duration": 6,
    "start_time": "2021-10-18T15:54:54.981Z"
   },
   {
    "duration": 42,
    "start_time": "2021-10-18T15:54:54.990Z"
   },
   {
    "duration": 60,
    "start_time": "2021-10-18T15:54:55.041Z"
   },
   {
    "duration": 175,
    "start_time": "2021-10-18T15:54:55.126Z"
   },
   {
    "duration": 268,
    "start_time": "2021-10-18T15:54:55.304Z"
   },
   {
    "duration": 4,
    "start_time": "2021-10-18T15:54:55.575Z"
   },
   {
    "duration": 8,
    "start_time": "2021-10-18T15:54:55.582Z"
   },
   {
    "duration": 297,
    "start_time": "2021-10-18T15:54:55.592Z"
   },
   {
    "duration": 73,
    "start_time": "2021-10-18T15:54:55.892Z"
   },
   {
    "duration": 3,
    "start_time": "2021-10-18T15:54:55.968Z"
   },
   {
    "duration": 9,
    "start_time": "2021-10-18T15:54:55.974Z"
   },
   {
    "duration": 78,
    "start_time": "2021-10-18T15:54:55.986Z"
   },
   {
    "duration": 21,
    "start_time": "2021-10-18T15:54:56.068Z"
   },
   {
    "duration": 70,
    "start_time": "2021-10-18T15:54:56.091Z"
   },
   {
    "duration": 160,
    "start_time": "2021-10-18T15:54:56.163Z"
   },
   {
    "duration": 33,
    "start_time": "2021-10-18T15:54:56.325Z"
   },
   {
    "duration": 97,
    "start_time": "2021-10-18T15:54:56.361Z"
   },
   {
    "duration": 21,
    "start_time": "2021-10-18T15:54:56.460Z"
   },
   {
    "duration": 4,
    "start_time": "2021-10-18T15:54:56.484Z"
   },
   {
    "duration": 47,
    "start_time": "2021-10-18T15:54:56.491Z"
   },
   {
    "duration": 29,
    "start_time": "2021-10-18T15:54:56.541Z"
   },
   {
    "duration": 53,
    "start_time": "2021-10-18T15:54:56.572Z"
   },
   {
    "duration": 28,
    "start_time": "2021-10-18T15:54:56.628Z"
   },
   {
    "duration": 369,
    "start_time": "2021-10-18T15:54:56.659Z"
   },
   {
    "duration": 61,
    "start_time": "2021-10-18T15:54:56.969Z"
   },
   {
    "duration": 61,
    "start_time": "2021-10-18T15:54:56.971Z"
   },
   {
    "duration": 51,
    "start_time": "2021-10-18T15:54:56.983Z"
   },
   {
    "duration": 47,
    "start_time": "2021-10-18T15:54:56.988Z"
   },
   {
    "duration": 1890,
    "start_time": "2021-10-18T15:56:07.514Z"
   },
   {
    "duration": 44,
    "start_time": "2021-10-18T15:56:09.407Z"
   },
   {
    "duration": 39,
    "start_time": "2021-10-18T15:56:09.454Z"
   },
   {
    "duration": 49,
    "start_time": "2021-10-18T15:56:09.497Z"
   },
   {
    "duration": 19,
    "start_time": "2021-10-18T15:56:09.548Z"
   },
   {
    "duration": 71,
    "start_time": "2021-10-18T15:56:09.569Z"
   },
   {
    "duration": 42,
    "start_time": "2021-10-18T15:56:09.643Z"
   },
   {
    "duration": 51,
    "start_time": "2021-10-18T15:56:09.688Z"
   },
   {
    "duration": 38,
    "start_time": "2021-10-18T15:56:09.745Z"
   },
   {
    "duration": 58,
    "start_time": "2021-10-18T15:56:09.787Z"
   },
   {
    "duration": 125,
    "start_time": "2021-10-18T15:56:09.848Z"
   },
   {
    "duration": 52,
    "start_time": "2021-10-18T15:56:09.975Z"
   },
   {
    "duration": 3,
    "start_time": "2021-10-18T15:56:10.030Z"
   },
   {
    "duration": 12,
    "start_time": "2021-10-18T15:56:10.035Z"
   },
   {
    "duration": 106,
    "start_time": "2021-10-18T15:56:10.049Z"
   },
   {
    "duration": 25,
    "start_time": "2021-10-18T15:56:10.158Z"
   },
   {
    "duration": 90,
    "start_time": "2021-10-18T15:56:10.185Z"
   },
   {
    "duration": 45,
    "start_time": "2021-10-18T15:56:10.277Z"
   },
   {
    "duration": 8,
    "start_time": "2021-10-18T15:56:10.325Z"
   },
   {
    "duration": 42,
    "start_time": "2021-10-18T15:56:10.335Z"
   },
   {
    "duration": 4,
    "start_time": "2021-10-18T15:56:10.380Z"
   },
   {
    "duration": 43,
    "start_time": "2021-10-18T15:56:10.386Z"
   },
   {
    "duration": 36,
    "start_time": "2021-10-18T15:56:10.432Z"
   },
   {
    "duration": 164,
    "start_time": "2021-10-18T15:56:10.471Z"
   },
   {
    "duration": 396,
    "start_time": "2021-10-18T15:56:10.637Z"
   },
   {
    "duration": 4,
    "start_time": "2021-10-18T15:56:11.036Z"
   },
   {
    "duration": 3,
    "start_time": "2021-10-18T15:56:11.048Z"
   },
   {
    "duration": 300,
    "start_time": "2021-10-18T15:56:11.055Z"
   },
   {
    "duration": 66,
    "start_time": "2021-10-18T15:56:11.357Z"
   },
   {
    "duration": 3,
    "start_time": "2021-10-18T15:56:11.425Z"
   },
   {
    "duration": 11,
    "start_time": "2021-10-18T15:56:11.430Z"
   },
   {
    "duration": 57,
    "start_time": "2021-10-18T15:56:11.444Z"
   },
   {
    "duration": 31,
    "start_time": "2021-10-18T15:56:11.504Z"
   },
   {
    "duration": 84,
    "start_time": "2021-10-18T15:56:11.538Z"
   },
   {
    "duration": 207,
    "start_time": "2021-10-18T15:56:11.625Z"
   },
   {
    "duration": 41,
    "start_time": "2021-10-18T15:56:11.835Z"
   },
   {
    "duration": 390,
    "start_time": "2021-10-18T15:56:11.878Z"
   },
   {
    "duration": 87,
    "start_time": "2021-10-18T15:56:12.183Z"
   },
   {
    "duration": 83,
    "start_time": "2021-10-18T15:56:12.189Z"
   },
   {
    "duration": 82,
    "start_time": "2021-10-18T15:56:12.191Z"
   },
   {
    "duration": 75,
    "start_time": "2021-10-18T15:56:12.200Z"
   },
   {
    "duration": 73,
    "start_time": "2021-10-18T15:56:12.203Z"
   },
   {
    "duration": 69,
    "start_time": "2021-10-18T15:56:12.209Z"
   },
   {
    "duration": 68,
    "start_time": "2021-10-18T15:56:12.211Z"
   },
   {
    "duration": 68,
    "start_time": "2021-10-18T15:56:12.213Z"
   },
   {
    "duration": 67,
    "start_time": "2021-10-18T15:56:12.215Z"
   },
   {
    "duration": 67,
    "start_time": "2021-10-18T15:56:12.217Z"
   },
   {
    "duration": 67,
    "start_time": "2021-10-18T15:56:12.218Z"
   },
   {
    "duration": 72,
    "start_time": "2021-10-18T15:56:22.086Z"
   },
   {
    "duration": 22,
    "start_time": "2021-10-18T15:56:24.521Z"
   },
   {
    "duration": 1876,
    "start_time": "2021-10-18T15:56:32.226Z"
   },
   {
    "duration": 45,
    "start_time": "2021-10-18T15:56:34.105Z"
   },
   {
    "duration": 41,
    "start_time": "2021-10-18T15:56:34.153Z"
   },
   {
    "duration": 55,
    "start_time": "2021-10-18T15:56:34.197Z"
   },
   {
    "duration": 20,
    "start_time": "2021-10-18T15:56:34.254Z"
   },
   {
    "duration": 69,
    "start_time": "2021-10-18T15:56:34.276Z"
   },
   {
    "duration": 39,
    "start_time": "2021-10-18T15:56:34.347Z"
   },
   {
    "duration": 44,
    "start_time": "2021-10-18T15:56:34.391Z"
   },
   {
    "duration": 28,
    "start_time": "2021-10-18T15:56:34.440Z"
   },
   {
    "duration": 65,
    "start_time": "2021-10-18T15:56:34.472Z"
   },
   {
    "duration": 117,
    "start_time": "2021-10-18T15:56:34.540Z"
   },
   {
    "duration": 35,
    "start_time": "2021-10-18T15:56:34.660Z"
   },
   {
    "duration": 3,
    "start_time": "2021-10-18T15:56:34.698Z"
   },
   {
    "duration": 8,
    "start_time": "2021-10-18T15:56:34.723Z"
   },
   {
    "duration": 108,
    "start_time": "2021-10-18T15:56:34.734Z"
   },
   {
    "duration": 25,
    "start_time": "2021-10-18T15:56:34.844Z"
   },
   {
    "duration": 93,
    "start_time": "2021-10-18T15:56:34.872Z"
   },
   {
    "duration": 25,
    "start_time": "2021-10-18T15:56:34.967Z"
   },
   {
    "duration": 34,
    "start_time": "2021-10-18T15:56:34.995Z"
   },
   {
    "duration": 49,
    "start_time": "2021-10-18T15:56:35.031Z"
   },
   {
    "duration": 5,
    "start_time": "2021-10-18T15:56:35.083Z"
   },
   {
    "duration": 11,
    "start_time": "2021-10-18T15:56:35.123Z"
   },
   {
    "duration": 43,
    "start_time": "2021-10-18T15:56:35.139Z"
   },
   {
    "duration": 187,
    "start_time": "2021-10-18T15:56:35.186Z"
   },
   {
    "duration": 298,
    "start_time": "2021-10-18T15:56:35.376Z"
   },
   {
    "duration": 3,
    "start_time": "2021-10-18T15:56:35.676Z"
   },
   {
    "duration": 9,
    "start_time": "2021-10-18T15:56:35.682Z"
   },
   {
    "duration": 294,
    "start_time": "2021-10-18T15:56:35.693Z"
   },
   {
    "duration": 69,
    "start_time": "2021-10-18T15:56:35.989Z"
   },
   {
    "duration": 3,
    "start_time": "2021-10-18T15:56:36.060Z"
   },
   {
    "duration": 5,
    "start_time": "2021-10-18T15:56:36.066Z"
   },
   {
    "duration": 74,
    "start_time": "2021-10-18T15:56:36.073Z"
   },
   {
    "duration": 20,
    "start_time": "2021-10-18T15:56:36.149Z"
   },
   {
    "duration": 66,
    "start_time": "2021-10-18T15:56:36.172Z"
   },
   {
    "duration": 142,
    "start_time": "2021-10-18T15:56:36.240Z"
   },
   {
    "duration": 46,
    "start_time": "2021-10-18T15:56:36.384Z"
   },
   {
    "duration": 70,
    "start_time": "2021-10-18T15:56:36.433Z"
   },
   {
    "duration": 37,
    "start_time": "2021-10-18T15:56:36.505Z"
   },
   {
    "duration": 10,
    "start_time": "2021-10-18T15:56:36.544Z"
   },
   {
    "duration": 26,
    "start_time": "2021-10-18T15:56:36.557Z"
   },
   {
    "duration": 59,
    "start_time": "2021-10-18T15:56:36.587Z"
   },
   {
    "duration": 21,
    "start_time": "2021-10-18T15:56:36.649Z"
   },
   {
    "duration": 62,
    "start_time": "2021-10-18T15:56:36.672Z"
   },
   {
    "duration": 389,
    "start_time": "2021-10-18T15:56:36.737Z"
   },
   {
    "duration": 83,
    "start_time": "2021-10-18T15:56:37.047Z"
   },
   {
    "duration": 82,
    "start_time": "2021-10-18T15:56:37.050Z"
   },
   {
    "duration": 81,
    "start_time": "2021-10-18T15:56:37.053Z"
   },
   {
    "duration": 72,
    "start_time": "2021-10-18T15:56:37.064Z"
   },
   {
    "duration": 16,
    "start_time": "2021-10-18T15:56:52.054Z"
   },
   {
    "duration": 23,
    "start_time": "2021-10-18T15:56:53.236Z"
   },
   {
    "duration": 1998,
    "start_time": "2021-10-18T15:57:06.100Z"
   },
   {
    "duration": 46,
    "start_time": "2021-10-18T15:57:08.102Z"
   },
   {
    "duration": 39,
    "start_time": "2021-10-18T15:57:08.151Z"
   },
   {
    "duration": 53,
    "start_time": "2021-10-18T15:57:08.193Z"
   },
   {
    "duration": 21,
    "start_time": "2021-10-18T15:57:08.248Z"
   },
   {
    "duration": 73,
    "start_time": "2021-10-18T15:57:08.272Z"
   },
   {
    "duration": 41,
    "start_time": "2021-10-18T15:57:08.348Z"
   },
   {
    "duration": 43,
    "start_time": "2021-10-18T15:57:08.393Z"
   },
   {
    "duration": 27,
    "start_time": "2021-10-18T15:57:08.440Z"
   },
   {
    "duration": 59,
    "start_time": "2021-10-18T15:57:08.469Z"
   },
   {
    "duration": 116,
    "start_time": "2021-10-18T15:57:08.531Z"
   },
   {
    "duration": 34,
    "start_time": "2021-10-18T15:57:08.649Z"
   },
   {
    "duration": 3,
    "start_time": "2021-10-18T15:57:08.686Z"
   },
   {
    "duration": 35,
    "start_time": "2021-10-18T15:57:08.691Z"
   },
   {
    "duration": 102,
    "start_time": "2021-10-18T15:57:08.728Z"
   },
   {
    "duration": 28,
    "start_time": "2021-10-18T15:57:08.832Z"
   },
   {
    "duration": 97,
    "start_time": "2021-10-18T15:57:08.862Z"
   },
   {
    "duration": 24,
    "start_time": "2021-10-18T15:57:08.962Z"
   },
   {
    "duration": 9,
    "start_time": "2021-10-18T15:57:08.988Z"
   },
   {
    "duration": 39,
    "start_time": "2021-10-18T15:57:09.023Z"
   },
   {
    "duration": 5,
    "start_time": "2021-10-18T15:57:09.064Z"
   },
   {
    "duration": 15,
    "start_time": "2021-10-18T15:57:09.071Z"
   },
   {
    "duration": 37,
    "start_time": "2021-10-18T15:57:09.124Z"
   },
   {
    "duration": 147,
    "start_time": "2021-10-18T15:57:09.164Z"
   },
   {
    "duration": 270,
    "start_time": "2021-10-18T15:57:09.313Z"
   },
   {
    "duration": 3,
    "start_time": "2021-10-18T15:57:09.586Z"
   },
   {
    "duration": 7,
    "start_time": "2021-10-18T15:57:09.591Z"
   },
   {
    "duration": 292,
    "start_time": "2021-10-18T15:57:09.600Z"
   },
   {
    "duration": 69,
    "start_time": "2021-10-18T15:57:09.895Z"
   },
   {
    "duration": 3,
    "start_time": "2021-10-18T15:57:09.967Z"
   },
   {
    "duration": 5,
    "start_time": "2021-10-18T15:57:09.972Z"
   },
   {
    "duration": 72,
    "start_time": "2021-10-18T15:57:09.980Z"
   },
   {
    "duration": 20,
    "start_time": "2021-10-18T15:57:10.055Z"
   },
   {
    "duration": 62,
    "start_time": "2021-10-18T15:57:10.078Z"
   },
   {
    "duration": 153,
    "start_time": "2021-10-18T15:57:10.143Z"
   },
   {
    "duration": 41,
    "start_time": "2021-10-18T15:57:10.298Z"
   },
   {
    "duration": 80,
    "start_time": "2021-10-18T15:57:10.342Z"
   },
   {
    "duration": 21,
    "start_time": "2021-10-18T15:57:10.425Z"
   },
   {
    "duration": 4,
    "start_time": "2021-10-18T15:57:10.448Z"
   },
   {
    "duration": 19,
    "start_time": "2021-10-18T15:57:10.455Z"
   },
   {
    "duration": 63,
    "start_time": "2021-10-18T15:57:10.477Z"
   },
   {
    "duration": 410,
    "start_time": "2021-10-18T15:57:10.543Z"
   },
   {
    "duration": 78,
    "start_time": "2021-10-18T15:57:10.879Z"
   },
   {
    "duration": 77,
    "start_time": "2021-10-18T15:57:10.882Z"
   },
   {
    "duration": 77,
    "start_time": "2021-10-18T15:57:10.884Z"
   },
   {
    "duration": 74,
    "start_time": "2021-10-18T15:57:10.889Z"
   },
   {
    "duration": 75,
    "start_time": "2021-10-18T15:57:10.891Z"
   },
   {
    "duration": 75,
    "start_time": "2021-10-18T15:57:10.893Z"
   },
   {
    "duration": 16,
    "start_time": "2021-10-18T15:57:37.575Z"
   },
   {
    "duration": 26,
    "start_time": "2021-10-18T15:57:38.449Z"
   },
   {
    "duration": 261,
    "start_time": "2021-10-18T15:58:09.639Z"
   },
   {
    "duration": 647,
    "start_time": "2021-10-18T15:58:18.053Z"
   },
   {
    "duration": 322,
    "start_time": "2021-10-18T15:59:04.315Z"
   },
   {
    "duration": 8,
    "start_time": "2021-10-18T15:59:12.308Z"
   },
   {
    "duration": 29,
    "start_time": "2021-10-18T15:59:20.095Z"
   },
   {
    "duration": 1028,
    "start_time": "2021-10-18T16:01:38.535Z"
   },
   {
    "duration": 27,
    "start_time": "2021-10-18T16:03:45.310Z"
   },
   {
    "duration": 3421,
    "start_time": "2021-10-18T16:06:07.140Z"
   },
   {
    "duration": 1831,
    "start_time": "2021-10-18T16:06:25.565Z"
   },
   {
    "duration": 44,
    "start_time": "2021-10-18T16:06:27.399Z"
   },
   {
    "duration": 40,
    "start_time": "2021-10-18T16:06:27.446Z"
   },
   {
    "duration": 53,
    "start_time": "2021-10-18T16:06:27.489Z"
   },
   {
    "duration": 20,
    "start_time": "2021-10-18T16:06:27.545Z"
   },
   {
    "duration": 68,
    "start_time": "2021-10-18T16:06:27.567Z"
   },
   {
    "duration": 40,
    "start_time": "2021-10-18T16:06:27.637Z"
   },
   {
    "duration": 47,
    "start_time": "2021-10-18T16:06:27.680Z"
   },
   {
    "duration": 25,
    "start_time": "2021-10-18T16:06:27.730Z"
   },
   {
    "duration": 22,
    "start_time": "2021-10-18T16:06:27.757Z"
   },
   {
    "duration": 135,
    "start_time": "2021-10-18T16:06:27.782Z"
   },
   {
    "duration": 32,
    "start_time": "2021-10-18T16:06:27.923Z"
   },
   {
    "duration": 3,
    "start_time": "2021-10-18T16:06:27.957Z"
   },
   {
    "duration": 6,
    "start_time": "2021-10-18T16:06:27.963Z"
   },
   {
    "duration": 126,
    "start_time": "2021-10-18T16:06:27.972Z"
   },
   {
    "duration": 32,
    "start_time": "2021-10-18T16:06:28.100Z"
   },
   {
    "duration": 67,
    "start_time": "2021-10-18T16:06:28.134Z"
   },
   {
    "duration": 24,
    "start_time": "2021-10-18T16:06:28.223Z"
   },
   {
    "duration": 9,
    "start_time": "2021-10-18T16:06:28.249Z"
   },
   {
    "duration": 74,
    "start_time": "2021-10-18T16:06:28.260Z"
   },
   {
    "duration": 27,
    "start_time": "2021-10-18T16:06:28.336Z"
   },
   {
    "duration": 20,
    "start_time": "2021-10-18T16:06:28.365Z"
   },
   {
    "duration": 55,
    "start_time": "2021-10-18T16:06:28.390Z"
   },
   {
    "duration": 143,
    "start_time": "2021-10-18T16:06:28.448Z"
   },
   {
    "duration": 260,
    "start_time": "2021-10-18T16:06:28.594Z"
   },
   {
    "duration": 3,
    "start_time": "2021-10-18T16:06:28.856Z"
   },
   {
    "duration": 11,
    "start_time": "2021-10-18T16:06:28.861Z"
   },
   {
    "duration": 286,
    "start_time": "2021-10-18T16:06:28.875Z"
   },
   {
    "duration": 66,
    "start_time": "2021-10-18T16:06:29.163Z"
   },
   {
    "duration": 3,
    "start_time": "2021-10-18T16:06:29.231Z"
   },
   {
    "duration": 5,
    "start_time": "2021-10-18T16:06:29.236Z"
   },
   {
    "duration": 52,
    "start_time": "2021-10-18T16:06:29.244Z"
   },
   {
    "duration": 39,
    "start_time": "2021-10-18T16:06:29.299Z"
   },
   {
    "duration": 44,
    "start_time": "2021-10-18T16:06:29.341Z"
   },
   {
    "duration": 155,
    "start_time": "2021-10-18T16:06:29.387Z"
   },
   {
    "duration": 33,
    "start_time": "2021-10-18T16:06:29.544Z"
   },
   {
    "duration": 91,
    "start_time": "2021-10-18T16:06:29.579Z"
   },
   {
    "duration": 20,
    "start_time": "2021-10-18T16:06:29.672Z"
   },
   {
    "duration": 7,
    "start_time": "2021-10-18T16:06:29.694Z"
   },
   {
    "duration": 31,
    "start_time": "2021-10-18T16:06:29.704Z"
   },
   {
    "duration": 21,
    "start_time": "2021-10-18T16:06:29.737Z"
   },
   {
    "duration": 19,
    "start_time": "2021-10-18T16:06:29.762Z"
   },
   {
    "duration": 62,
    "start_time": "2021-10-18T16:06:29.783Z"
   },
   {
    "duration": 3141,
    "start_time": "2021-10-18T16:06:29.849Z"
   },
   {
    "duration": 728,
    "start_time": "2021-10-18T16:06:32.993Z"
   },
   {
    "duration": 7,
    "start_time": "2021-10-18T16:06:33.724Z"
   },
   {
    "duration": 39,
    "start_time": "2021-10-18T16:06:33.734Z"
   },
   {
    "duration": 731,
    "start_time": "2021-10-18T16:06:33.777Z"
   },
   {
    "duration": 65,
    "start_time": "2021-10-18T16:06:34.446Z"
   },
   {
    "duration": 26,
    "start_time": "2021-10-18T16:07:08.012Z"
   },
   {
    "duration": 3,
    "start_time": "2021-10-18T16:07:27.052Z"
   },
   {
    "duration": 26,
    "start_time": "2021-10-18T16:08:35.459Z"
   },
   {
    "duration": 1842,
    "start_time": "2021-10-18T16:09:36.251Z"
   },
   {
    "duration": 45,
    "start_time": "2021-10-18T16:09:38.096Z"
   },
   {
    "duration": 38,
    "start_time": "2021-10-18T16:09:38.144Z"
   },
   {
    "duration": 45,
    "start_time": "2021-10-18T16:09:38.185Z"
   },
   {
    "duration": 18,
    "start_time": "2021-10-18T16:09:38.232Z"
   },
   {
    "duration": 71,
    "start_time": "2021-10-18T16:09:38.252Z"
   },
   {
    "duration": 37,
    "start_time": "2021-10-18T16:09:38.326Z"
   },
   {
    "duration": 16,
    "start_time": "2021-10-18T16:09:38.367Z"
   },
   {
    "duration": 53,
    "start_time": "2021-10-18T16:09:38.386Z"
   },
   {
    "duration": 23,
    "start_time": "2021-10-18T16:09:38.441Z"
   },
   {
    "duration": 139,
    "start_time": "2021-10-18T16:09:38.467Z"
   },
   {
    "duration": 36,
    "start_time": "2021-10-18T16:09:38.609Z"
   },
   {
    "duration": 4,
    "start_time": "2021-10-18T16:09:38.647Z"
   },
   {
    "duration": 8,
    "start_time": "2021-10-18T16:09:38.653Z"
   },
   {
    "duration": 114,
    "start_time": "2021-10-18T16:09:38.663Z"
   },
   {
    "duration": 24,
    "start_time": "2021-10-18T16:09:38.779Z"
   },
   {
    "duration": 67,
    "start_time": "2021-10-18T16:09:38.823Z"
   },
   {
    "duration": 41,
    "start_time": "2021-10-18T16:09:38.892Z"
   },
   {
    "duration": 8,
    "start_time": "2021-10-18T16:09:38.936Z"
   },
   {
    "duration": 38,
    "start_time": "2021-10-18T16:09:38.946Z"
   },
   {
    "duration": 60,
    "start_time": "2021-10-18T16:09:38.987Z"
   },
   {
    "duration": 9,
    "start_time": "2021-10-18T16:09:39.050Z"
   },
   {
    "duration": 71,
    "start_time": "2021-10-18T16:09:39.064Z"
   },
   {
    "duration": 135,
    "start_time": "2021-10-18T16:09:39.138Z"
   },
   {
    "duration": 265,
    "start_time": "2021-10-18T16:09:39.275Z"
   },
   {
    "duration": 3,
    "start_time": "2021-10-18T16:09:39.543Z"
   },
   {
    "duration": 290,
    "start_time": "2021-10-18T16:09:39.549Z"
   },
   {
    "duration": 53,
    "start_time": "2021-10-18T16:09:39.842Z"
   },
   {
    "duration": 3,
    "start_time": "2021-10-18T16:09:39.898Z"
   },
   {
    "duration": 4,
    "start_time": "2021-10-18T16:09:39.923Z"
   },
   {
    "duration": 55,
    "start_time": "2021-10-18T16:09:39.930Z"
   },
   {
    "duration": 51,
    "start_time": "2021-10-18T16:09:39.987Z"
   },
   {
    "duration": 53,
    "start_time": "2021-10-18T16:09:40.041Z"
   },
   {
    "duration": 151,
    "start_time": "2021-10-18T16:09:40.096Z"
   },
   {
    "duration": 34,
    "start_time": "2021-10-18T16:09:40.249Z"
   },
   {
    "duration": 100,
    "start_time": "2021-10-18T16:09:40.286Z"
   },
   {
    "duration": 33,
    "start_time": "2021-10-18T16:09:40.389Z"
   },
   {
    "duration": 3,
    "start_time": "2021-10-18T16:09:40.424Z"
   },
   {
    "duration": 20,
    "start_time": "2021-10-18T16:09:40.429Z"
   },
   {
    "duration": 24,
    "start_time": "2021-10-18T16:09:40.451Z"
   },
   {
    "duration": 51,
    "start_time": "2021-10-18T16:09:40.478Z"
   },
   {
    "duration": 3,
    "start_time": "2021-10-18T16:09:40.531Z"
   },
   {
    "duration": 3255,
    "start_time": "2021-10-18T16:09:40.536Z"
   },
   {
    "duration": 38,
    "start_time": "2021-10-18T16:09:43.794Z"
   },
   {
    "duration": 605,
    "start_time": "2021-10-18T16:09:43.834Z"
   },
   {
    "duration": 7,
    "start_time": "2021-10-18T16:09:44.442Z"
   },
   {
    "duration": 55,
    "start_time": "2021-10-18T16:09:44.451Z"
   },
   {
    "duration": 386,
    "start_time": "2021-10-18T16:09:44.508Z"
   },
   {
    "duration": 97,
    "start_time": "2021-10-18T16:09:44.799Z"
   },
   {
    "duration": 23,
    "start_time": "2021-10-18T16:14:03.639Z"
   },
   {
    "duration": 2024,
    "start_time": "2021-10-18T16:14:12.299Z"
   },
   {
    "duration": 43,
    "start_time": "2021-10-18T16:14:14.326Z"
   },
   {
    "duration": 41,
    "start_time": "2021-10-18T16:14:14.372Z"
   },
   {
    "duration": 31,
    "start_time": "2021-10-18T16:14:14.423Z"
   },
   {
    "duration": 19,
    "start_time": "2021-10-18T16:14:14.456Z"
   },
   {
    "duration": 51,
    "start_time": "2021-10-18T16:14:14.478Z"
   },
   {
    "duration": 39,
    "start_time": "2021-10-18T16:14:14.532Z"
   },
   {
    "duration": 16,
    "start_time": "2021-10-18T16:14:14.574Z"
   },
   {
    "duration": 36,
    "start_time": "2021-10-18T16:14:14.595Z"
   },
   {
    "duration": 21,
    "start_time": "2021-10-18T16:14:14.635Z"
   },
   {
    "duration": 107,
    "start_time": "2021-10-18T16:14:14.659Z"
   },
   {
    "duration": 32,
    "start_time": "2021-10-18T16:14:14.768Z"
   },
   {
    "duration": 3,
    "start_time": "2021-10-18T16:14:14.803Z"
   },
   {
    "duration": 22,
    "start_time": "2021-10-18T16:14:14.809Z"
   },
   {
    "duration": 101,
    "start_time": "2021-10-18T16:14:14.833Z"
   },
   {
    "duration": 24,
    "start_time": "2021-10-18T16:14:14.936Z"
   },
   {
    "duration": 77,
    "start_time": "2021-10-18T16:14:14.963Z"
   },
   {
    "duration": 22,
    "start_time": "2021-10-18T16:14:15.043Z"
   },
   {
    "duration": 9,
    "start_time": "2021-10-18T16:14:15.068Z"
   },
   {
    "duration": 47,
    "start_time": "2021-10-18T16:14:15.079Z"
   },
   {
    "duration": 28,
    "start_time": "2021-10-18T16:14:15.128Z"
   },
   {
    "duration": 12,
    "start_time": "2021-10-18T16:14:15.158Z"
   },
   {
    "duration": 52,
    "start_time": "2021-10-18T16:14:15.172Z"
   },
   {
    "duration": 134,
    "start_time": "2021-10-18T16:14:15.226Z"
   },
   {
    "duration": 365,
    "start_time": "2021-10-18T16:14:15.363Z"
   },
   {
    "duration": 3,
    "start_time": "2021-10-18T16:14:15.730Z"
   },
   {
    "duration": 424,
    "start_time": "2021-10-18T16:14:15.738Z"
   },
   {
    "duration": 162,
    "start_time": "2021-10-18T16:14:16.165Z"
   },
   {
    "duration": 3,
    "start_time": "2021-10-18T16:14:16.329Z"
   },
   {
    "duration": 6,
    "start_time": "2021-10-18T16:14:16.335Z"
   },
   {
    "duration": 100,
    "start_time": "2021-10-18T16:14:16.343Z"
   },
   {
    "duration": 19,
    "start_time": "2021-10-18T16:14:16.446Z"
   },
   {
    "duration": 63,
    "start_time": "2021-10-18T16:14:16.468Z"
   },
   {
    "duration": 138,
    "start_time": "2021-10-18T16:14:16.534Z"
   },
   {
    "duration": 49,
    "start_time": "2021-10-18T16:14:16.675Z"
   },
   {
    "duration": 67,
    "start_time": "2021-10-18T16:14:16.727Z"
   },
   {
    "duration": 38,
    "start_time": "2021-10-18T16:14:16.797Z"
   },
   {
    "duration": 5,
    "start_time": "2021-10-18T16:14:16.837Z"
   },
   {
    "duration": 17,
    "start_time": "2021-10-18T16:14:16.844Z"
   },
   {
    "duration": 24,
    "start_time": "2021-10-18T16:14:16.864Z"
   },
   {
    "duration": 46,
    "start_time": "2021-10-18T16:14:16.890Z"
   },
   {
    "duration": 3,
    "start_time": "2021-10-18T16:14:16.938Z"
   },
   {
    "duration": 3183,
    "start_time": "2021-10-18T16:14:16.944Z"
   },
   {
    "duration": 26,
    "start_time": "2021-10-18T16:14:20.129Z"
   },
   {
    "duration": 735,
    "start_time": "2021-10-18T16:14:20.158Z"
   },
   {
    "duration": 6,
    "start_time": "2021-10-18T16:14:20.896Z"
   },
   {
    "duration": 41,
    "start_time": "2021-10-18T16:14:20.904Z"
   },
   {
    "duration": 540,
    "start_time": "2021-10-18T16:14:20.947Z"
   },
   {
    "duration": 91,
    "start_time": "2021-10-18T16:14:21.399Z"
   },
   {
    "duration": 90,
    "start_time": "2021-10-18T16:14:21.402Z"
   },
   {
    "duration": 547,
    "start_time": "2021-10-18T16:19:03.548Z"
   },
   {
    "duration": 5,
    "start_time": "2021-10-18T16:19:10.639Z"
   },
   {
    "duration": 12,
    "start_time": "2021-10-18T16:19:23.564Z"
   },
   {
    "duration": 404,
    "start_time": "2021-10-18T16:19:44.866Z"
   },
   {
    "duration": 1881,
    "start_time": "2021-10-18T16:21:23.607Z"
   },
   {
    "duration": 44,
    "start_time": "2021-10-18T16:21:25.491Z"
   },
   {
    "duration": 38,
    "start_time": "2021-10-18T16:21:25.538Z"
   },
   {
    "duration": 53,
    "start_time": "2021-10-18T16:21:25.578Z"
   },
   {
    "duration": 21,
    "start_time": "2021-10-18T16:21:25.634Z"
   },
   {
    "duration": 82,
    "start_time": "2021-10-18T16:21:25.658Z"
   },
   {
    "duration": 37,
    "start_time": "2021-10-18T16:21:25.742Z"
   },
   {
    "duration": 39,
    "start_time": "2021-10-18T16:21:25.783Z"
   },
   {
    "duration": 25,
    "start_time": "2021-10-18T16:21:25.825Z"
   },
   {
    "duration": 22,
    "start_time": "2021-10-18T16:21:25.852Z"
   },
   {
    "duration": 154,
    "start_time": "2021-10-18T16:21:25.877Z"
   },
   {
    "duration": 42,
    "start_time": "2021-10-18T16:21:26.034Z"
   },
   {
    "duration": 4,
    "start_time": "2021-10-18T16:21:26.079Z"
   },
   {
    "duration": 5,
    "start_time": "2021-10-18T16:21:26.086Z"
   },
   {
    "duration": 143,
    "start_time": "2021-10-18T16:21:26.124Z"
   },
   {
    "duration": 23,
    "start_time": "2021-10-18T16:21:26.269Z"
   },
   {
    "duration": 85,
    "start_time": "2021-10-18T16:21:26.295Z"
   },
   {
    "duration": 40,
    "start_time": "2021-10-18T16:21:26.382Z"
   },
   {
    "duration": 10,
    "start_time": "2021-10-18T16:21:26.424Z"
   },
   {
    "duration": 39,
    "start_time": "2021-10-18T16:21:26.436Z"
   },
   {
    "duration": 61,
    "start_time": "2021-10-18T16:21:26.478Z"
   },
   {
    "duration": 13,
    "start_time": "2021-10-18T16:21:26.541Z"
   },
   {
    "duration": 36,
    "start_time": "2021-10-18T16:21:26.559Z"
   },
   {
    "duration": 143,
    "start_time": "2021-10-18T16:21:26.623Z"
   },
   {
    "duration": 298,
    "start_time": "2021-10-18T16:21:26.769Z"
   },
   {
    "duration": 9,
    "start_time": "2021-10-18T16:21:27.070Z"
   },
   {
    "duration": 429,
    "start_time": "2021-10-18T16:21:27.082Z"
   },
   {
    "duration": 59,
    "start_time": "2021-10-18T16:21:27.513Z"
   },
   {
    "duration": 3,
    "start_time": "2021-10-18T16:21:27.574Z"
   },
   {
    "duration": 11,
    "start_time": "2021-10-18T16:21:27.579Z"
   },
   {
    "duration": 69,
    "start_time": "2021-10-18T16:21:27.593Z"
   },
   {
    "duration": 25,
    "start_time": "2021-10-18T16:21:27.664Z"
   },
   {
    "duration": 67,
    "start_time": "2021-10-18T16:21:27.693Z"
   },
   {
    "duration": 140,
    "start_time": "2021-10-18T16:21:27.762Z"
   },
   {
    "duration": 43,
    "start_time": "2021-10-18T16:21:27.904Z"
   },
   {
    "duration": 91,
    "start_time": "2021-10-18T16:21:27.950Z"
   },
   {
    "duration": 29,
    "start_time": "2021-10-18T16:21:28.044Z"
   },
   {
    "duration": 16,
    "start_time": "2021-10-18T16:21:28.075Z"
   },
   {
    "duration": 48,
    "start_time": "2021-10-18T16:21:28.093Z"
   },
   {
    "duration": 16,
    "start_time": "2021-10-18T16:21:28.144Z"
   },
   {
    "duration": 3,
    "start_time": "2021-10-18T16:21:28.162Z"
   },
   {
    "duration": 3134,
    "start_time": "2021-10-18T16:21:28.167Z"
   },
   {
    "duration": 39,
    "start_time": "2021-10-18T16:21:31.304Z"
   },
   {
    "duration": 638,
    "start_time": "2021-10-18T16:21:31.345Z"
   },
   {
    "duration": 6,
    "start_time": "2021-10-18T16:21:31.986Z"
   },
   {
    "duration": 49,
    "start_time": "2021-10-18T16:21:31.994Z"
   },
   {
    "duration": 381,
    "start_time": "2021-10-18T16:21:32.045Z"
   },
   {
    "duration": 103,
    "start_time": "2021-10-18T16:21:32.326Z"
   },
   {
    "duration": 94,
    "start_time": "2021-10-18T16:21:32.336Z"
   },
   {
    "duration": 91,
    "start_time": "2021-10-18T16:21:32.341Z"
   },
   {
    "duration": 18,
    "start_time": "2021-10-18T16:26:12.959Z"
   },
   {
    "duration": 1872,
    "start_time": "2021-10-18T16:26:46.646Z"
   },
   {
    "duration": 44,
    "start_time": "2021-10-18T16:26:48.521Z"
   },
   {
    "duration": 69,
    "start_time": "2021-10-18T16:26:48.571Z"
   },
   {
    "duration": 30,
    "start_time": "2021-10-18T16:26:48.643Z"
   },
   {
    "duration": 18,
    "start_time": "2021-10-18T16:26:48.675Z"
   },
   {
    "duration": 40,
    "start_time": "2021-10-18T16:26:48.723Z"
   },
   {
    "duration": 63,
    "start_time": "2021-10-18T16:26:48.767Z"
   },
   {
    "duration": 17,
    "start_time": "2021-10-18T16:26:48.833Z"
   },
   {
    "duration": 27,
    "start_time": "2021-10-18T16:26:48.852Z"
   },
   {
    "duration": 56,
    "start_time": "2021-10-18T16:26:48.882Z"
   },
   {
    "duration": 123,
    "start_time": "2021-10-18T16:26:48.940Z"
   },
   {
    "duration": 30,
    "start_time": "2021-10-18T16:26:49.065Z"
   },
   {
    "duration": 4,
    "start_time": "2021-10-18T16:26:49.097Z"
   },
   {
    "duration": 3,
    "start_time": "2021-10-18T16:26:49.123Z"
   },
   {
    "duration": 105,
    "start_time": "2021-10-18T16:26:49.129Z"
   },
   {
    "duration": 24,
    "start_time": "2021-10-18T16:26:49.236Z"
   },
   {
    "duration": 103,
    "start_time": "2021-10-18T16:26:49.262Z"
   },
   {
    "duration": 22,
    "start_time": "2021-10-18T16:26:49.367Z"
   },
   {
    "duration": 33,
    "start_time": "2021-10-18T16:26:49.391Z"
   },
   {
    "duration": 42,
    "start_time": "2021-10-18T16:26:49.426Z"
   },
   {
    "duration": 52,
    "start_time": "2021-10-18T16:26:49.470Z"
   },
   {
    "duration": 9,
    "start_time": "2021-10-18T16:26:49.528Z"
   },
   {
    "duration": 40,
    "start_time": "2021-10-18T16:26:49.540Z"
   },
   {
    "duration": 163,
    "start_time": "2021-10-18T16:26:49.582Z"
   },
   {
    "duration": 266,
    "start_time": "2021-10-18T16:26:49.748Z"
   },
   {
    "duration": 7,
    "start_time": "2021-10-18T16:26:50.016Z"
   },
   {
    "duration": 287,
    "start_time": "2021-10-18T16:26:50.027Z"
   },
   {
    "duration": 58,
    "start_time": "2021-10-18T16:26:50.316Z"
   },
   {
    "duration": 3,
    "start_time": "2021-10-18T16:26:50.377Z"
   },
   {
    "duration": 11,
    "start_time": "2021-10-18T16:26:50.382Z"
   },
   {
    "duration": 70,
    "start_time": "2021-10-18T16:26:50.395Z"
   },
   {
    "duration": 19,
    "start_time": "2021-10-18T16:26:50.467Z"
   },
   {
    "duration": 64,
    "start_time": "2021-10-18T16:26:50.488Z"
   },
   {
    "duration": 141,
    "start_time": "2021-10-18T16:26:50.554Z"
   },
   {
    "duration": 42,
    "start_time": "2021-10-18T16:26:50.698Z"
   },
   {
    "duration": 89,
    "start_time": "2021-10-18T16:26:50.742Z"
   },
   {
    "duration": 21,
    "start_time": "2021-10-18T16:26:50.834Z"
   },
   {
    "duration": 21,
    "start_time": "2021-10-18T16:26:50.857Z"
   },
   {
    "duration": 47,
    "start_time": "2021-10-18T16:26:50.880Z"
   },
   {
    "duration": 30,
    "start_time": "2021-10-18T16:26:50.930Z"
   },
   {
    "duration": 16,
    "start_time": "2021-10-18T16:26:50.962Z"
   },
   {
    "duration": 3108,
    "start_time": "2021-10-18T16:26:50.980Z"
   },
   {
    "duration": 35,
    "start_time": "2021-10-18T16:26:54.090Z"
   },
   {
    "duration": 617,
    "start_time": "2021-10-18T16:26:54.127Z"
   },
   {
    "duration": 6,
    "start_time": "2021-10-18T16:26:54.747Z"
   },
   {
    "duration": 29,
    "start_time": "2021-10-18T16:26:54.755Z"
   },
   {
    "duration": 385,
    "start_time": "2021-10-18T16:26:54.787Z"
   },
   {
    "duration": 87,
    "start_time": "2021-10-18T16:26:55.088Z"
   },
   {
    "duration": 86,
    "start_time": "2021-10-18T16:26:55.090Z"
   },
   {
    "duration": 86,
    "start_time": "2021-10-18T16:26:55.092Z"
   },
   {
    "duration": 1893,
    "start_time": "2021-10-18T17:07:10.032Z"
   },
   {
    "duration": 43,
    "start_time": "2021-10-18T17:07:11.929Z"
   },
   {
    "duration": 59,
    "start_time": "2021-10-18T17:07:11.975Z"
   },
   {
    "duration": 29,
    "start_time": "2021-10-18T17:07:12.037Z"
   },
   {
    "duration": 18,
    "start_time": "2021-10-18T17:07:12.068Z"
   },
   {
    "duration": 67,
    "start_time": "2021-10-18T17:07:12.088Z"
   },
   {
    "duration": 65,
    "start_time": "2021-10-18T17:07:12.157Z"
   },
   {
    "duration": 18,
    "start_time": "2021-10-18T17:07:12.227Z"
   },
   {
    "duration": 27,
    "start_time": "2021-10-18T17:07:12.248Z"
   },
   {
    "duration": 59,
    "start_time": "2021-10-18T17:07:12.277Z"
   },
   {
    "duration": 116,
    "start_time": "2021-10-18T17:07:12.339Z"
   },
   {
    "duration": 31,
    "start_time": "2021-10-18T17:07:12.458Z"
   },
   {
    "duration": 4,
    "start_time": "2021-10-18T17:07:12.491Z"
   },
   {
    "duration": 27,
    "start_time": "2021-10-18T17:07:12.497Z"
   },
   {
    "duration": 104,
    "start_time": "2021-10-18T17:07:12.527Z"
   },
   {
    "duration": 23,
    "start_time": "2021-10-18T17:07:12.633Z"
   },
   {
    "duration": 93,
    "start_time": "2021-10-18T17:07:12.659Z"
   },
   {
    "duration": 22,
    "start_time": "2021-10-18T17:07:12.755Z"
   },
   {
    "duration": 8,
    "start_time": "2021-10-18T17:07:12.780Z"
   },
   {
    "duration": 39,
    "start_time": "2021-10-18T17:07:12.821Z"
   },
   {
    "duration": 29,
    "start_time": "2021-10-18T17:07:12.862Z"
   },
   {
    "duration": 10,
    "start_time": "2021-10-18T17:07:12.924Z"
   },
   {
    "duration": 40,
    "start_time": "2021-10-18T17:07:12.939Z"
   },
   {
    "duration": 152,
    "start_time": "2021-10-18T17:07:12.982Z"
   },
   {
    "duration": 264,
    "start_time": "2021-10-18T17:07:13.137Z"
   },
   {
    "duration": 3,
    "start_time": "2021-10-18T17:07:13.404Z"
   },
   {
    "duration": 284,
    "start_time": "2021-10-18T17:07:13.410Z"
   },
   {
    "duration": 69,
    "start_time": "2021-10-18T17:07:13.697Z"
   },
   {
    "duration": 4,
    "start_time": "2021-10-18T17:07:13.768Z"
   },
   {
    "duration": 7,
    "start_time": "2021-10-18T17:07:13.774Z"
   },
   {
    "duration": 69,
    "start_time": "2021-10-18T17:07:13.784Z"
   },
   {
    "duration": 24,
    "start_time": "2021-10-18T17:07:13.856Z"
   },
   {
    "duration": 74,
    "start_time": "2021-10-18T17:07:13.883Z"
   },
   {
    "duration": 140,
    "start_time": "2021-10-18T17:07:13.960Z"
   },
   {
    "duration": 49,
    "start_time": "2021-10-18T17:07:14.102Z"
   },
   {
    "duration": 99,
    "start_time": "2021-10-18T17:07:14.155Z"
   },
   {
    "duration": 23,
    "start_time": "2021-10-18T17:07:14.256Z"
   },
   {
    "duration": 47,
    "start_time": "2021-10-18T17:07:14.282Z"
   },
   {
    "duration": 25,
    "start_time": "2021-10-18T17:07:14.332Z"
   },
   {
    "duration": 15,
    "start_time": "2021-10-18T17:07:14.360Z"
   },
   {
    "duration": 2,
    "start_time": "2021-10-18T17:07:14.378Z"
   },
   {
    "duration": 3167,
    "start_time": "2021-10-18T17:07:14.383Z"
   },
   {
    "duration": 25,
    "start_time": "2021-10-18T17:07:17.553Z"
   },
   {
    "duration": 625,
    "start_time": "2021-10-18T17:07:17.580Z"
   },
   {
    "duration": 17,
    "start_time": "2021-10-18T17:07:18.208Z"
   },
   {
    "duration": 35,
    "start_time": "2021-10-18T17:07:18.228Z"
   },
   {
    "duration": 386,
    "start_time": "2021-10-18T17:07:18.265Z"
   },
   {
    "duration": 116,
    "start_time": "2021-10-18T17:07:18.537Z"
   },
   {
    "duration": 115,
    "start_time": "2021-10-18T17:07:18.540Z"
   },
   {
    "duration": 114,
    "start_time": "2021-10-18T17:07:18.542Z"
   },
   {
    "duration": 17,
    "start_time": "2021-10-18T17:08:04.046Z"
   },
   {
    "duration": 2016,
    "start_time": "2021-10-18T17:08:10.598Z"
   },
   {
    "duration": 45,
    "start_time": "2021-10-18T17:08:12.617Z"
   },
   {
    "duration": 59,
    "start_time": "2021-10-18T17:08:12.665Z"
   },
   {
    "duration": 32,
    "start_time": "2021-10-18T17:08:12.726Z"
   },
   {
    "duration": 21,
    "start_time": "2021-10-18T17:08:12.760Z"
   },
   {
    "duration": 75,
    "start_time": "2021-10-18T17:08:12.784Z"
   },
   {
    "duration": 67,
    "start_time": "2021-10-18T17:08:12.862Z"
   },
   {
    "duration": 19,
    "start_time": "2021-10-18T17:08:12.932Z"
   },
   {
    "duration": 25,
    "start_time": "2021-10-18T17:08:12.956Z"
   },
   {
    "duration": 57,
    "start_time": "2021-10-18T17:08:12.984Z"
   },
   {
    "duration": 119,
    "start_time": "2021-10-18T17:08:13.043Z"
   },
   {
    "duration": 32,
    "start_time": "2021-10-18T17:08:13.165Z"
   },
   {
    "duration": 23,
    "start_time": "2021-10-18T17:08:13.199Z"
   },
   {
    "duration": 10,
    "start_time": "2021-10-18T17:08:13.225Z"
   },
   {
    "duration": 105,
    "start_time": "2021-10-18T17:08:13.237Z"
   },
   {
    "duration": 24,
    "start_time": "2021-10-18T17:08:13.344Z"
   },
   {
    "duration": 92,
    "start_time": "2021-10-18T17:08:13.371Z"
   },
   {
    "duration": 22,
    "start_time": "2021-10-18T17:08:13.465Z"
   },
   {
    "duration": 33,
    "start_time": "2021-10-18T17:08:13.490Z"
   },
   {
    "duration": 37,
    "start_time": "2021-10-18T17:08:13.526Z"
   },
   {
    "duration": 59,
    "start_time": "2021-10-18T17:08:13.565Z"
   },
   {
    "duration": 9,
    "start_time": "2021-10-18T17:08:13.627Z"
   },
   {
    "duration": 39,
    "start_time": "2021-10-18T17:08:13.638Z"
   },
   {
    "duration": 155,
    "start_time": "2021-10-18T17:08:13.680Z"
   },
   {
    "duration": 286,
    "start_time": "2021-10-18T17:08:13.838Z"
   },
   {
    "duration": 3,
    "start_time": "2021-10-18T17:08:14.126Z"
   },
   {
    "duration": 343,
    "start_time": "2021-10-18T17:08:14.134Z"
   },
   {
    "duration": 61,
    "start_time": "2021-10-18T17:08:14.480Z"
   },
   {
    "duration": 3,
    "start_time": "2021-10-18T17:08:14.543Z"
   },
   {
    "duration": 8,
    "start_time": "2021-10-18T17:08:14.548Z"
   },
   {
    "duration": 62,
    "start_time": "2021-10-18T17:08:14.558Z"
   },
   {
    "duration": 19,
    "start_time": "2021-10-18T17:08:14.623Z"
   },
   {
    "duration": 53,
    "start_time": "2021-10-18T17:08:14.644Z"
   },
   {
    "duration": 134,
    "start_time": "2021-10-18T17:08:14.699Z"
   },
   {
    "duration": 37,
    "start_time": "2021-10-18T17:08:14.836Z"
   },
   {
    "duration": 83,
    "start_time": "2021-10-18T17:08:14.875Z"
   },
   {
    "duration": 22,
    "start_time": "2021-10-18T17:08:14.960Z"
   },
   {
    "duration": 24,
    "start_time": "2021-10-18T17:08:14.984Z"
   },
   {
    "duration": 30,
    "start_time": "2021-10-18T17:08:15.010Z"
   },
   {
    "duration": 22,
    "start_time": "2021-10-18T17:08:15.043Z"
   },
   {
    "duration": 4,
    "start_time": "2021-10-18T17:08:15.068Z"
   },
   {
    "duration": 3787,
    "start_time": "2021-10-18T17:08:15.074Z"
   },
   {
    "duration": 28,
    "start_time": "2021-10-18T17:08:18.864Z"
   },
   {
    "duration": 622,
    "start_time": "2021-10-18T17:08:18.895Z"
   },
   {
    "duration": 7,
    "start_time": "2021-10-18T17:08:19.519Z"
   },
   {
    "duration": 34,
    "start_time": "2021-10-18T17:08:19.528Z"
   },
   {
    "duration": 401,
    "start_time": "2021-10-18T17:08:19.564Z"
   },
   {
    "duration": 113,
    "start_time": "2021-10-18T17:08:19.855Z"
   },
   {
    "duration": 113,
    "start_time": "2021-10-18T17:08:19.857Z"
   },
   {
    "duration": 114,
    "start_time": "2021-10-18T17:08:19.858Z"
   },
   {
    "duration": 18,
    "start_time": "2021-10-18T17:08:42.176Z"
   },
   {
    "duration": 17,
    "start_time": "2021-10-18T17:08:45.138Z"
   },
   {
    "duration": 21,
    "start_time": "2021-10-18T17:08:45.722Z"
   },
   {
    "duration": 1902,
    "start_time": "2021-10-18T17:08:51.664Z"
   },
   {
    "duration": 45,
    "start_time": "2021-10-18T17:08:53.570Z"
   },
   {
    "duration": 39,
    "start_time": "2021-10-18T17:08:53.618Z"
   },
   {
    "duration": 31,
    "start_time": "2021-10-18T17:08:53.660Z"
   },
   {
    "duration": 24,
    "start_time": "2021-10-18T17:08:53.721Z"
   },
   {
    "duration": 40,
    "start_time": "2021-10-18T17:08:53.747Z"
   },
   {
    "duration": 67,
    "start_time": "2021-10-18T17:08:53.789Z"
   },
   {
    "duration": 17,
    "start_time": "2021-10-18T17:08:53.860Z"
   },
   {
    "duration": 56,
    "start_time": "2021-10-18T17:08:53.880Z"
   },
   {
    "duration": 24,
    "start_time": "2021-10-18T17:08:53.939Z"
   },
   {
    "duration": 125,
    "start_time": "2021-10-18T17:08:53.965Z"
   },
   {
    "duration": 42,
    "start_time": "2021-10-18T17:08:54.093Z"
   },
   {
    "duration": 3,
    "start_time": "2021-10-18T17:08:54.137Z"
   },
   {
    "duration": 6,
    "start_time": "2021-10-18T17:08:54.143Z"
   },
   {
    "duration": 117,
    "start_time": "2021-10-18T17:08:54.152Z"
   },
   {
    "duration": 25,
    "start_time": "2021-10-18T17:08:54.272Z"
   },
   {
    "duration": 88,
    "start_time": "2021-10-18T17:08:54.300Z"
   },
   {
    "duration": 46,
    "start_time": "2021-10-18T17:08:54.391Z"
   },
   {
    "duration": 9,
    "start_time": "2021-10-18T17:08:54.440Z"
   },
   {
    "duration": 76,
    "start_time": "2021-10-18T17:08:54.452Z"
   },
   {
    "duration": 27,
    "start_time": "2021-10-18T17:08:54.530Z"
   },
   {
    "duration": 10,
    "start_time": "2021-10-18T17:08:54.560Z"
   },
   {
    "duration": 67,
    "start_time": "2021-10-18T17:08:54.575Z"
   },
   {
    "duration": 142,
    "start_time": "2021-10-18T17:08:54.645Z"
   },
   {
    "duration": 266,
    "start_time": "2021-10-18T17:08:54.790Z"
   },
   {
    "duration": 3,
    "start_time": "2021-10-18T17:08:55.059Z"
   },
   {
    "duration": 294,
    "start_time": "2021-10-18T17:08:55.065Z"
   },
   {
    "duration": 68,
    "start_time": "2021-10-18T17:08:55.361Z"
   },
   {
    "duration": 3,
    "start_time": "2021-10-18T17:08:55.431Z"
   },
   {
    "duration": 8,
    "start_time": "2021-10-18T17:08:55.437Z"
   },
   {
    "duration": 52,
    "start_time": "2021-10-18T17:08:55.447Z"
   },
   {
    "duration": 20,
    "start_time": "2021-10-18T17:08:55.523Z"
   },
   {
    "duration": 52,
    "start_time": "2021-10-18T17:08:55.546Z"
   },
   {
    "duration": 149,
    "start_time": "2021-10-18T17:08:55.600Z"
   },
   {
    "duration": 35,
    "start_time": "2021-10-18T17:08:55.752Z"
   },
   {
    "duration": 89,
    "start_time": "2021-10-18T17:08:55.789Z"
   },
   {
    "duration": 22,
    "start_time": "2021-10-18T17:08:55.880Z"
   },
   {
    "duration": 16,
    "start_time": "2021-10-18T17:08:55.922Z"
   },
   {
    "duration": 24,
    "start_time": "2021-10-18T17:08:55.942Z"
   },
   {
    "duration": 53,
    "start_time": "2021-10-18T17:08:55.969Z"
   },
   {
    "duration": 4,
    "start_time": "2021-10-18T17:08:56.025Z"
   },
   {
    "duration": 3434,
    "start_time": "2021-10-18T17:08:56.031Z"
   },
   {
    "duration": 24,
    "start_time": "2021-10-18T17:08:59.467Z"
   },
   {
    "duration": 621,
    "start_time": "2021-10-18T17:08:59.493Z"
   },
   {
    "duration": 6993,
    "start_time": "2021-10-18T17:09:00.118Z"
   },
   {
    "duration": 116,
    "start_time": "2021-10-18T17:09:06.999Z"
   },
   {
    "duration": 107,
    "start_time": "2021-10-18T17:09:07.011Z"
   },
   {
    "duration": 107,
    "start_time": "2021-10-18T17:09:07.013Z"
   },
   {
    "duration": 107,
    "start_time": "2021-10-18T17:09:07.015Z"
   },
   {
    "duration": 107,
    "start_time": "2021-10-18T17:09:07.017Z"
   },
   {
    "duration": 1931,
    "start_time": "2021-10-18T17:09:29.130Z"
   },
   {
    "duration": 47,
    "start_time": "2021-10-18T17:09:31.065Z"
   },
   {
    "duration": 39,
    "start_time": "2021-10-18T17:09:31.116Z"
   },
   {
    "duration": 32,
    "start_time": "2021-10-18T17:09:31.158Z"
   },
   {
    "duration": 44,
    "start_time": "2021-10-18T17:09:31.193Z"
   },
   {
    "duration": 42,
    "start_time": "2021-10-18T17:09:31.240Z"
   },
   {
    "duration": 68,
    "start_time": "2021-10-18T17:09:31.285Z"
   },
   {
    "duration": 18,
    "start_time": "2021-10-18T17:09:31.355Z"
   },
   {
    "duration": 57,
    "start_time": "2021-10-18T17:09:31.377Z"
   },
   {
    "duration": 20,
    "start_time": "2021-10-18T17:09:31.437Z"
   },
   {
    "duration": 133,
    "start_time": "2021-10-18T17:09:31.460Z"
   },
   {
    "duration": 39,
    "start_time": "2021-10-18T17:09:31.596Z"
   },
   {
    "duration": 3,
    "start_time": "2021-10-18T17:09:31.638Z"
   },
   {
    "duration": 17,
    "start_time": "2021-10-18T17:09:31.643Z"
   },
   {
    "duration": 111,
    "start_time": "2021-10-18T17:09:31.662Z"
   },
   {
    "duration": 24,
    "start_time": "2021-10-18T17:09:31.775Z"
   },
   {
    "duration": 87,
    "start_time": "2021-10-18T17:09:31.802Z"
   },
   {
    "duration": 37,
    "start_time": "2021-10-18T17:09:31.892Z"
   },
   {
    "duration": 8,
    "start_time": "2021-10-18T17:09:31.932Z"
   },
   {
    "duration": 42,
    "start_time": "2021-10-18T17:09:31.942Z"
   },
   {
    "duration": 73,
    "start_time": "2021-10-18T17:09:31.987Z"
   },
   {
    "duration": 13,
    "start_time": "2021-10-18T17:09:32.062Z"
   },
   {
    "duration": 65,
    "start_time": "2021-10-18T17:09:32.077Z"
   },
   {
    "duration": 144,
    "start_time": "2021-10-18T17:09:32.145Z"
   },
   {
    "duration": 268,
    "start_time": "2021-10-18T17:09:32.291Z"
   },
   {
    "duration": 3,
    "start_time": "2021-10-18T17:09:32.561Z"
   },
   {
    "duration": 301,
    "start_time": "2021-10-18T17:09:32.569Z"
   },
   {
    "duration": 74,
    "start_time": "2021-10-18T17:09:32.874Z"
   },
   {
    "duration": 4,
    "start_time": "2021-10-18T17:09:32.950Z"
   },
   {
    "duration": 6,
    "start_time": "2021-10-18T17:09:32.957Z"
   },
   {
    "duration": 88,
    "start_time": "2021-10-18T17:09:32.966Z"
   },
   {
    "duration": 29,
    "start_time": "2021-10-18T17:09:33.058Z"
   },
   {
    "duration": 79,
    "start_time": "2021-10-18T17:09:33.090Z"
   },
   {
    "duration": 156,
    "start_time": "2021-10-18T17:09:33.171Z"
   },
   {
    "duration": 35,
    "start_time": "2021-10-18T17:09:33.329Z"
   },
   {
    "duration": 99,
    "start_time": "2021-10-18T17:09:33.366Z"
   },
   {
    "duration": 22,
    "start_time": "2021-10-18T17:09:33.468Z"
   },
   {
    "duration": 378,
    "start_time": "2021-10-18T17:09:33.493Z"
   },
   {
    "duration": 124,
    "start_time": "2021-10-18T17:09:33.750Z"
   },
   {
    "duration": 123,
    "start_time": "2021-10-18T17:09:33.752Z"
   },
   {
    "duration": 122,
    "start_time": "2021-10-18T17:09:33.754Z"
   },
   {
    "duration": 117,
    "start_time": "2021-10-18T17:09:33.761Z"
   },
   {
    "duration": 113,
    "start_time": "2021-10-18T17:09:33.767Z"
   },
   {
    "duration": 111,
    "start_time": "2021-10-18T17:09:33.770Z"
   },
   {
    "duration": 111,
    "start_time": "2021-10-18T17:09:33.772Z"
   },
   {
    "duration": 110,
    "start_time": "2021-10-18T17:09:33.774Z"
   },
   {
    "duration": 105,
    "start_time": "2021-10-18T17:09:33.781Z"
   },
   {
    "duration": 102,
    "start_time": "2021-10-18T17:09:33.785Z"
   },
   {
    "duration": 101,
    "start_time": "2021-10-18T17:09:33.787Z"
   },
   {
    "duration": 102,
    "start_time": "2021-10-18T17:09:33.788Z"
   },
   {
    "duration": 1873,
    "start_time": "2021-10-18T17:09:49.334Z"
   },
   {
    "duration": 45,
    "start_time": "2021-10-18T17:09:51.209Z"
   },
   {
    "duration": 67,
    "start_time": "2021-10-18T17:09:51.263Z"
   },
   {
    "duration": 29,
    "start_time": "2021-10-18T17:09:51.332Z"
   },
   {
    "duration": 18,
    "start_time": "2021-10-18T17:09:51.363Z"
   },
   {
    "duration": 68,
    "start_time": "2021-10-18T17:09:51.383Z"
   },
   {
    "duration": 70,
    "start_time": "2021-10-18T17:09:51.454Z"
   },
   {
    "duration": 17,
    "start_time": "2021-10-18T17:09:51.530Z"
   },
   {
    "duration": 27,
    "start_time": "2021-10-18T17:09:51.550Z"
   },
   {
    "duration": 58,
    "start_time": "2021-10-18T17:09:51.579Z"
   },
   {
    "duration": 118,
    "start_time": "2021-10-18T17:09:51.639Z"
   },
   {
    "duration": 33,
    "start_time": "2021-10-18T17:09:51.760Z"
   },
   {
    "duration": 28,
    "start_time": "2021-10-18T17:09:51.795Z"
   },
   {
    "duration": 11,
    "start_time": "2021-10-18T17:09:51.826Z"
   },
   {
    "duration": 106,
    "start_time": "2021-10-18T17:09:51.839Z"
   },
   {
    "duration": 24,
    "start_time": "2021-10-18T17:09:51.947Z"
   },
   {
    "duration": 96,
    "start_time": "2021-10-18T17:09:51.974Z"
   },
   {
    "duration": 21,
    "start_time": "2021-10-18T17:09:52.073Z"
   },
   {
    "duration": 27,
    "start_time": "2021-10-18T17:09:52.096Z"
   },
   {
    "duration": 39,
    "start_time": "2021-10-18T17:09:52.126Z"
   },
   {
    "duration": 57,
    "start_time": "2021-10-18T17:09:52.168Z"
   },
   {
    "duration": 12,
    "start_time": "2021-10-18T17:09:52.227Z"
   },
   {
    "duration": 37,
    "start_time": "2021-10-18T17:09:52.242Z"
   },
   {
    "duration": 164,
    "start_time": "2021-10-18T17:09:52.281Z"
   },
   {
    "duration": 273,
    "start_time": "2021-10-18T17:09:52.447Z"
   },
   {
    "duration": 3,
    "start_time": "2021-10-18T17:09:52.725Z"
   },
   {
    "duration": 286,
    "start_time": "2021-10-18T17:09:52.731Z"
   },
   {
    "duration": 53,
    "start_time": "2021-10-18T17:09:53.023Z"
   },
   {
    "duration": 4,
    "start_time": "2021-10-18T17:09:53.078Z"
   },
   {
    "duration": 7,
    "start_time": "2021-10-18T17:09:53.085Z"
   },
   {
    "duration": 79,
    "start_time": "2021-10-18T17:09:53.094Z"
   },
   {
    "duration": 46,
    "start_time": "2021-10-18T17:09:53.176Z"
   },
   {
    "duration": 50,
    "start_time": "2021-10-18T17:09:53.224Z"
   },
   {
    "duration": 157,
    "start_time": "2021-10-18T17:09:53.277Z"
   },
   {
    "duration": 35,
    "start_time": "2021-10-18T17:09:53.437Z"
   },
   {
    "duration": 90,
    "start_time": "2021-10-18T17:09:53.474Z"
   },
   {
    "duration": 21,
    "start_time": "2021-10-18T17:09:53.567Z"
   },
   {
    "duration": 607,
    "start_time": "2021-10-18T17:09:53.590Z"
   },
   {
    "duration": 120,
    "start_time": "2021-10-18T17:09:54.080Z"
   },
   {
    "duration": 119,
    "start_time": "2021-10-18T17:09:54.082Z"
   },
   {
    "duration": 91,
    "start_time": "2021-10-18T17:09:54.111Z"
   },
   {
    "duration": 87,
    "start_time": "2021-10-18T17:09:54.117Z"
   },
   {
    "duration": 85,
    "start_time": "2021-10-18T17:09:54.120Z"
   },
   {
    "duration": 81,
    "start_time": "2021-10-18T17:09:54.126Z"
   },
   {
    "duration": 76,
    "start_time": "2021-10-18T17:09:54.132Z"
   },
   {
    "duration": 74,
    "start_time": "2021-10-18T17:09:54.135Z"
   },
   {
    "duration": 68,
    "start_time": "2021-10-18T17:09:54.142Z"
   },
   {
    "duration": 64,
    "start_time": "2021-10-18T17:09:54.147Z"
   },
   {
    "duration": 63,
    "start_time": "2021-10-18T17:09:54.150Z"
   },
   {
    "duration": 61,
    "start_time": "2021-10-18T17:09:54.153Z"
   },
   {
    "duration": 270,
    "start_time": "2021-10-18T17:10:17.509Z"
   },
   {
    "duration": 16,
    "start_time": "2021-10-18T17:10:22.428Z"
   },
   {
    "duration": 18,
    "start_time": "2021-10-18T17:10:23.333Z"
   },
   {
    "duration": 24,
    "start_time": "2021-10-18T17:10:28.217Z"
   },
   {
    "duration": 15,
    "start_time": "2021-10-18T17:10:47.429Z"
   },
   {
    "duration": 16,
    "start_time": "2021-10-18T17:10:48.391Z"
   },
   {
    "duration": 26,
    "start_time": "2021-10-18T17:10:49.331Z"
   },
   {
    "duration": 3381,
    "start_time": "2021-10-18T17:11:15.471Z"
   },
   {
    "duration": 26,
    "start_time": "2021-10-18T17:11:18.855Z"
   },
   {
    "duration": 3,
    "start_time": "2021-10-18T17:11:26.948Z"
   },
   {
    "duration": 3458,
    "start_time": "2021-10-18T17:11:27.743Z"
   },
   {
    "duration": 34,
    "start_time": "2021-10-18T17:11:31.204Z"
   },
   {
    "duration": 2031,
    "start_time": "2021-10-18T17:11:41.800Z"
   },
   {
    "duration": 56,
    "start_time": "2021-10-18T17:11:43.836Z"
   },
   {
    "duration": 56,
    "start_time": "2021-10-18T17:11:43.895Z"
   },
   {
    "duration": 39,
    "start_time": "2021-10-18T17:11:43.954Z"
   },
   {
    "duration": 47,
    "start_time": "2021-10-18T17:11:43.996Z"
   },
   {
    "duration": 74,
    "start_time": "2021-10-18T17:11:44.048Z"
   },
   {
    "duration": 41,
    "start_time": "2021-10-18T17:11:44.125Z"
   },
   {
    "duration": 20,
    "start_time": "2021-10-18T17:11:44.169Z"
   },
   {
    "duration": 28,
    "start_time": "2021-10-18T17:11:44.223Z"
   },
   {
    "duration": 23,
    "start_time": "2021-10-18T17:11:44.255Z"
   },
   {
    "duration": 155,
    "start_time": "2021-10-18T17:11:44.282Z"
   },
   {
    "duration": 32,
    "start_time": "2021-10-18T17:11:44.440Z"
   },
   {
    "duration": 4,
    "start_time": "2021-10-18T17:11:44.475Z"
   },
   {
    "duration": 41,
    "start_time": "2021-10-18T17:11:44.482Z"
   },
   {
    "duration": 98,
    "start_time": "2021-10-18T17:11:44.525Z"
   },
   {
    "duration": 23,
    "start_time": "2021-10-18T17:11:44.626Z"
   },
   {
    "duration": 92,
    "start_time": "2021-10-18T17:11:44.652Z"
   },
   {
    "duration": 22,
    "start_time": "2021-10-18T17:11:44.749Z"
   },
   {
    "duration": 9,
    "start_time": "2021-10-18T17:11:44.774Z"
   },
   {
    "duration": 67,
    "start_time": "2021-10-18T17:11:44.786Z"
   },
   {
    "duration": 27,
    "start_time": "2021-10-18T17:11:44.855Z"
   },
   {
    "duration": 40,
    "start_time": "2021-10-18T17:11:44.885Z"
   },
   {
    "duration": 49,
    "start_time": "2021-10-18T17:11:44.927Z"
   },
   {
    "duration": 144,
    "start_time": "2021-10-18T17:11:44.978Z"
   },
   {
    "duration": 268,
    "start_time": "2021-10-18T17:11:45.124Z"
   },
   {
    "duration": 3,
    "start_time": "2021-10-18T17:11:45.395Z"
   },
   {
    "duration": 293,
    "start_time": "2021-10-18T17:11:45.401Z"
   },
   {
    "duration": 66,
    "start_time": "2021-10-18T17:11:45.697Z"
   },
   {
    "duration": 3,
    "start_time": "2021-10-18T17:11:45.766Z"
   },
   {
    "duration": 9,
    "start_time": "2021-10-18T17:11:45.771Z"
   },
   {
    "duration": 69,
    "start_time": "2021-10-18T17:11:45.783Z"
   },
   {
    "duration": 21,
    "start_time": "2021-10-18T17:11:45.855Z"
   },
   {
    "duration": 63,
    "start_time": "2021-10-18T17:11:45.879Z"
   },
   {
    "duration": 143,
    "start_time": "2021-10-18T17:11:45.945Z"
   },
   {
    "duration": 42,
    "start_time": "2021-10-18T17:11:46.090Z"
   },
   {
    "duration": 70,
    "start_time": "2021-10-18T17:11:46.134Z"
   },
   {
    "duration": 33,
    "start_time": "2021-10-18T17:11:46.206Z"
   },
   {
    "duration": 20,
    "start_time": "2021-10-18T17:11:46.241Z"
   },
   {
    "duration": 16,
    "start_time": "2021-10-18T17:11:46.264Z"
   },
   {
    "duration": 39,
    "start_time": "2021-10-18T17:11:46.283Z"
   },
   {
    "duration": 3294,
    "start_time": "2021-10-18T17:11:46.324Z"
   },
   {
    "duration": 26,
    "start_time": "2021-10-18T17:11:49.623Z"
   },
   {
    "duration": 700,
    "start_time": "2021-10-18T17:11:49.652Z"
   },
   {
    "duration": 6,
    "start_time": "2021-10-18T17:11:50.355Z"
   },
   {
    "duration": 36,
    "start_time": "2021-10-18T17:11:50.363Z"
   },
   {
    "duration": 577,
    "start_time": "2021-10-18T17:11:50.401Z"
   },
   {
    "duration": 134,
    "start_time": "2021-10-18T17:11:50.848Z"
   },
   {
    "duration": 126,
    "start_time": "2021-10-18T17:11:50.858Z"
   },
   {
    "duration": 121,
    "start_time": "2021-10-18T17:11:50.865Z"
   },
   {
    "duration": 120,
    "start_time": "2021-10-18T17:12:01.018Z"
   },
   {
    "duration": 1837,
    "start_time": "2021-10-18T17:13:35.037Z"
   },
   {
    "duration": 50,
    "start_time": "2021-10-18T17:13:36.879Z"
   },
   {
    "duration": 44,
    "start_time": "2021-10-18T17:13:36.933Z"
   },
   {
    "duration": 51,
    "start_time": "2021-10-18T17:13:36.980Z"
   },
   {
    "duration": 19,
    "start_time": "2021-10-18T17:13:37.033Z"
   },
   {
    "duration": 97,
    "start_time": "2021-10-18T17:13:37.054Z"
   },
   {
    "duration": 73,
    "start_time": "2021-10-18T17:13:37.154Z"
   },
   {
    "duration": 23,
    "start_time": "2021-10-18T17:13:37.232Z"
   },
   {
    "duration": 63,
    "start_time": "2021-10-18T17:13:37.259Z"
   },
   {
    "duration": 34,
    "start_time": "2021-10-18T17:13:37.326Z"
   },
   {
    "duration": 142,
    "start_time": "2021-10-18T17:13:37.363Z"
   },
   {
    "duration": 40,
    "start_time": "2021-10-18T17:13:37.507Z"
   },
   {
    "duration": 3,
    "start_time": "2021-10-18T17:13:37.550Z"
   },
   {
    "duration": 19,
    "start_time": "2021-10-18T17:13:37.555Z"
   },
   {
    "duration": 124,
    "start_time": "2021-10-18T17:13:37.576Z"
   },
   {
    "duration": 39,
    "start_time": "2021-10-18T17:13:37.704Z"
   },
   {
    "duration": 120,
    "start_time": "2021-10-18T17:13:37.746Z"
   },
   {
    "duration": 27,
    "start_time": "2021-10-18T17:13:37.870Z"
   },
   {
    "duration": 9,
    "start_time": "2021-10-18T17:13:37.923Z"
   },
   {
    "duration": 62,
    "start_time": "2021-10-18T17:13:37.935Z"
   },
   {
    "duration": 29,
    "start_time": "2021-10-18T17:13:38.023Z"
   },
   {
    "duration": 10,
    "start_time": "2021-10-18T17:13:38.054Z"
   },
   {
    "duration": 79,
    "start_time": "2021-10-18T17:13:38.069Z"
   },
   {
    "duration": 169,
    "start_time": "2021-10-18T17:13:38.153Z"
   },
   {
    "duration": 321,
    "start_time": "2021-10-18T17:13:38.325Z"
   },
   {
    "duration": 3,
    "start_time": "2021-10-18T17:13:38.649Z"
   },
   {
    "duration": 294,
    "start_time": "2021-10-18T17:13:38.654Z"
   },
   {
    "duration": 55,
    "start_time": "2021-10-18T17:13:38.950Z"
   },
   {
    "duration": 62,
    "start_time": "2021-10-18T17:13:39.007Z"
   },
   {
    "duration": 20,
    "start_time": "2021-10-18T17:13:39.071Z"
   },
   {
    "duration": 70,
    "start_time": "2021-10-18T17:13:39.094Z"
   },
   {
    "duration": 151,
    "start_time": "2021-10-18T17:13:39.167Z"
   },
   {
    "duration": 41,
    "start_time": "2021-10-18T17:13:39.323Z"
   },
   {
    "duration": 131,
    "start_time": "2021-10-18T17:13:39.366Z"
   },
   {
    "duration": 42,
    "start_time": "2021-10-18T17:13:39.507Z"
   },
   {
    "duration": 53,
    "start_time": "2021-10-18T17:13:39.552Z"
   },
   {
    "duration": 34,
    "start_time": "2021-10-18T17:13:39.608Z"
   },
   {
    "duration": 8,
    "start_time": "2021-10-18T17:13:39.645Z"
   },
   {
    "duration": 3443,
    "start_time": "2021-10-18T17:13:39.656Z"
   },
   {
    "duration": 47,
    "start_time": "2021-10-18T17:13:43.101Z"
   },
   {
    "duration": 694,
    "start_time": "2021-10-18T17:13:43.151Z"
   },
   {
    "duration": 8,
    "start_time": "2021-10-18T17:13:43.848Z"
   },
   {
    "duration": 34,
    "start_time": "2021-10-18T17:13:43.859Z"
   },
   {
    "duration": 85,
    "start_time": "2021-10-18T17:13:43.922Z"
   },
   {
    "duration": 127,
    "start_time": "2021-10-18T17:13:43.883Z"
   },
   {
    "duration": 128,
    "start_time": "2021-10-18T17:13:43.884Z"
   },
   {
    "duration": 119,
    "start_time": "2021-10-18T17:13:43.896Z"
   },
   {
    "duration": 723,
    "start_time": "2021-10-18T17:18:58.162Z"
   },
   {
    "duration": 479,
    "start_time": "2021-10-18T17:19:54.460Z"
   },
   {
    "duration": 7804,
    "start_time": "2021-10-18T17:20:21.421Z"
   },
   {
    "duration": 8750,
    "start_time": "2021-10-18T17:21:18.114Z"
   },
   {
    "duration": 223,
    "start_time": "2021-10-18T17:23:29.327Z"
   },
   {
    "duration": 2080,
    "start_time": "2021-10-18T17:23:44.744Z"
   },
   {
    "duration": 54,
    "start_time": "2021-10-18T17:23:46.828Z"
   },
   {
    "duration": 172,
    "start_time": "2021-10-18T17:23:46.886Z"
   },
   {
    "duration": 66,
    "start_time": "2021-10-18T17:23:47.062Z"
   },
   {
    "duration": 23,
    "start_time": "2021-10-18T17:23:47.131Z"
   },
   {
    "duration": 95,
    "start_time": "2021-10-18T17:23:47.158Z"
   },
   {
    "duration": 68,
    "start_time": "2021-10-18T17:23:47.256Z"
   },
   {
    "duration": 28,
    "start_time": "2021-10-18T17:23:47.327Z"
   },
   {
    "duration": 68,
    "start_time": "2021-10-18T17:23:47.361Z"
   },
   {
    "duration": 23,
    "start_time": "2021-10-18T17:23:47.432Z"
   },
   {
    "duration": 183,
    "start_time": "2021-10-18T17:23:47.459Z"
   },
   {
    "duration": 62,
    "start_time": "2021-10-18T17:23:47.646Z"
   },
   {
    "duration": 9,
    "start_time": "2021-10-18T17:23:47.725Z"
   },
   {
    "duration": 4,
    "start_time": "2021-10-18T17:23:47.738Z"
   },
   {
    "duration": 177,
    "start_time": "2021-10-18T17:23:47.747Z"
   },
   {
    "duration": 27,
    "start_time": "2021-10-18T17:23:47.927Z"
   },
   {
    "duration": 123,
    "start_time": "2021-10-18T17:23:47.957Z"
   },
   {
    "duration": 42,
    "start_time": "2021-10-18T17:23:48.083Z"
   },
   {
    "duration": 10,
    "start_time": "2021-10-18T17:23:48.128Z"
   },
   {
    "duration": 41,
    "start_time": "2021-10-18T17:23:48.141Z"
   },
   {
    "duration": 42,
    "start_time": "2021-10-18T17:23:48.222Z"
   },
   {
    "duration": 13,
    "start_time": "2021-10-18T17:23:48.267Z"
   },
   {
    "duration": 67,
    "start_time": "2021-10-18T17:23:48.283Z"
   },
   {
    "duration": 154,
    "start_time": "2021-10-18T17:23:48.354Z"
   },
   {
    "duration": 279,
    "start_time": "2021-10-18T17:23:48.511Z"
   },
   {
    "duration": 4,
    "start_time": "2021-10-18T17:23:48.793Z"
   },
   {
    "duration": 303,
    "start_time": "2021-10-18T17:23:48.803Z"
   },
   {
    "duration": 67,
    "start_time": "2021-10-18T17:23:49.110Z"
   },
   {
    "duration": 69,
    "start_time": "2021-10-18T17:23:49.180Z"
   },
   {
    "duration": 32,
    "start_time": "2021-10-18T17:23:49.253Z"
   },
   {
    "duration": 78,
    "start_time": "2021-10-18T17:23:49.288Z"
   },
   {
    "duration": 214,
    "start_time": "2021-10-18T17:23:49.369Z"
   },
   {
    "duration": 45,
    "start_time": "2021-10-18T17:23:49.586Z"
   },
   {
    "duration": 88,
    "start_time": "2021-10-18T17:23:49.634Z"
   },
   {
    "duration": 20,
    "start_time": "2021-10-18T17:23:49.724Z"
   },
   {
    "duration": 18,
    "start_time": "2021-10-18T17:23:49.746Z"
   },
   {
    "duration": 14,
    "start_time": "2021-10-18T17:23:49.767Z"
   },
   {
    "duration": 2,
    "start_time": "2021-10-18T17:23:49.784Z"
   },
   {
    "duration": 3223,
    "start_time": "2021-10-18T17:23:49.789Z"
   },
   {
    "duration": 27,
    "start_time": "2021-10-18T17:23:53.014Z"
   },
   {
    "duration": 1123,
    "start_time": "2021-10-18T17:23:53.044Z"
   },
   {
    "duration": 8,
    "start_time": "2021-10-18T17:23:54.170Z"
   },
   {
    "duration": 52,
    "start_time": "2021-10-18T17:23:54.181Z"
   },
   {
    "duration": 8770,
    "start_time": "2021-10-18T17:23:54.236Z"
   },
   {
    "duration": 6787,
    "start_time": "2021-10-18T17:24:22.762Z"
   },
   {
    "duration": 1902,
    "start_time": "2021-10-18T17:31:09.227Z"
   },
   {
    "duration": 46,
    "start_time": "2021-10-18T17:31:11.133Z"
   },
   {
    "duration": 60,
    "start_time": "2021-10-18T17:31:11.182Z"
   },
   {
    "duration": 30,
    "start_time": "2021-10-18T17:31:11.244Z"
   },
   {
    "duration": 18,
    "start_time": "2021-10-18T17:31:11.276Z"
   },
   {
    "duration": 40,
    "start_time": "2021-10-18T17:31:11.323Z"
   },
   {
    "duration": 66,
    "start_time": "2021-10-18T17:31:11.366Z"
   },
   {
    "duration": 16,
    "start_time": "2021-10-18T17:31:11.436Z"
   },
   {
    "duration": 24,
    "start_time": "2021-10-18T17:31:11.455Z"
   },
   {
    "duration": 56,
    "start_time": "2021-10-18T17:31:11.481Z"
   },
   {
    "duration": 115,
    "start_time": "2021-10-18T17:31:11.539Z"
   },
   {
    "duration": 31,
    "start_time": "2021-10-18T17:31:11.656Z"
   },
   {
    "duration": 3,
    "start_time": "2021-10-18T17:31:11.690Z"
   },
   {
    "duration": 4,
    "start_time": "2021-10-18T17:31:11.723Z"
   },
   {
    "duration": 105,
    "start_time": "2021-10-18T17:31:11.729Z"
   },
   {
    "duration": 24,
    "start_time": "2021-10-18T17:31:11.836Z"
   },
   {
    "duration": 95,
    "start_time": "2021-10-18T17:31:11.862Z"
   },
   {
    "duration": 20,
    "start_time": "2021-10-18T17:31:11.959Z"
   },
   {
    "duration": 8,
    "start_time": "2021-10-18T17:31:11.982Z"
   },
   {
    "duration": 61,
    "start_time": "2021-10-18T17:31:11.992Z"
   },
   {
    "duration": 26,
    "start_time": "2021-10-18T17:31:12.056Z"
   },
   {
    "duration": 11,
    "start_time": "2021-10-18T17:31:12.084Z"
   },
   {
    "duration": 37,
    "start_time": "2021-10-18T17:31:12.125Z"
   },
   {
    "duration": 148,
    "start_time": "2021-10-18T17:31:12.164Z"
   },
   {
    "duration": 271,
    "start_time": "2021-10-18T17:31:12.315Z"
   },
   {
    "duration": 3,
    "start_time": "2021-10-18T17:31:12.588Z"
   },
   {
    "duration": 296,
    "start_time": "2021-10-18T17:31:12.594Z"
   },
   {
    "duration": 71,
    "start_time": "2021-10-18T17:31:12.892Z"
   },
   {
    "duration": 57,
    "start_time": "2021-10-18T17:31:12.966Z"
   },
   {
    "duration": 22,
    "start_time": "2021-10-18T17:31:13.025Z"
   },
   {
    "duration": 48,
    "start_time": "2021-10-18T17:31:13.049Z"
   },
   {
    "duration": 159,
    "start_time": "2021-10-18T17:31:13.099Z"
   },
   {
    "duration": 36,
    "start_time": "2021-10-18T17:31:13.260Z"
   },
   {
    "duration": 88,
    "start_time": "2021-10-18T17:31:13.298Z"
   },
   {
    "duration": 21,
    "start_time": "2021-10-18T17:31:13.388Z"
   },
   {
    "duration": 14,
    "start_time": "2021-10-18T17:31:13.423Z"
   },
   {
    "duration": 14,
    "start_time": "2021-10-18T17:31:13.440Z"
   },
   {
    "duration": 3,
    "start_time": "2021-10-18T17:31:13.457Z"
   },
   {
    "duration": 3253,
    "start_time": "2021-10-18T17:31:13.463Z"
   },
   {
    "duration": 22,
    "start_time": "2021-10-18T17:31:16.718Z"
   },
   {
    "duration": 625,
    "start_time": "2021-10-18T17:31:16.742Z"
   },
   {
    "duration": 7,
    "start_time": "2021-10-18T17:31:17.369Z"
   },
   {
    "duration": 48,
    "start_time": "2021-10-18T17:31:17.378Z"
   },
   {
    "duration": 6957,
    "start_time": "2021-10-18T17:31:17.428Z"
   },
   {
    "duration": 7051,
    "start_time": "2021-10-18T17:31:53.926Z"
   },
   {
    "duration": 476,
    "start_time": "2021-10-18T17:34:26.268Z"
   },
   {
    "duration": 7262,
    "start_time": "2021-10-18T17:52:26.044Z"
   },
   {
    "duration": 1035,
    "start_time": "2021-10-18T17:52:47.700Z"
   },
   {
    "duration": 1269,
    "start_time": "2021-10-18T17:53:24.485Z"
   },
   {
    "duration": 1183,
    "start_time": "2021-10-18T17:53:38.627Z"
   },
   {
    "duration": 1047,
    "start_time": "2021-10-18T17:53:59.879Z"
   },
   {
    "duration": 1071,
    "start_time": "2021-10-18T17:54:43.082Z"
   },
   {
    "duration": 1030,
    "start_time": "2021-10-18T18:10:19.079Z"
   },
   {
    "duration": 252,
    "start_time": "2021-10-18T18:24:49.361Z"
   },
   {
    "duration": 43,
    "start_time": "2021-10-18T18:25:12.327Z"
   },
   {
    "duration": 34,
    "start_time": "2021-10-18T18:26:56.054Z"
   },
   {
    "duration": 34,
    "start_time": "2021-10-18T18:27:38.455Z"
   },
   {
    "duration": 1994,
    "start_time": "2021-10-18T18:35:01.728Z"
   },
   {
    "duration": 44,
    "start_time": "2021-10-18T18:35:03.725Z"
   },
   {
    "duration": 69,
    "start_time": "2021-10-18T18:35:03.775Z"
   },
   {
    "duration": 31,
    "start_time": "2021-10-18T18:35:03.846Z"
   },
   {
    "duration": 45,
    "start_time": "2021-10-18T18:35:03.879Z"
   },
   {
    "duration": 44,
    "start_time": "2021-10-18T18:35:03.927Z"
   },
   {
    "duration": 76,
    "start_time": "2021-10-18T18:35:03.973Z"
   },
   {
    "duration": 17,
    "start_time": "2021-10-18T18:35:04.053Z"
   },
   {
    "duration": 50,
    "start_time": "2021-10-18T18:35:04.073Z"
   },
   {
    "duration": 24,
    "start_time": "2021-10-18T18:35:04.126Z"
   },
   {
    "duration": 133,
    "start_time": "2021-10-18T18:35:04.153Z"
   },
   {
    "duration": 51,
    "start_time": "2021-10-18T18:35:04.288Z"
   },
   {
    "duration": 3,
    "start_time": "2021-10-18T18:35:04.341Z"
   },
   {
    "duration": 8,
    "start_time": "2021-10-18T18:35:04.346Z"
   },
   {
    "duration": 113,
    "start_time": "2021-10-18T18:35:04.357Z"
   },
   {
    "duration": 49,
    "start_time": "2021-10-18T18:35:04.473Z"
   },
   {
    "duration": 68,
    "start_time": "2021-10-18T18:35:04.525Z"
   },
   {
    "duration": 46,
    "start_time": "2021-10-18T18:35:04.596Z"
   },
   {
    "duration": 8,
    "start_time": "2021-10-18T18:35:04.645Z"
   },
   {
    "duration": 77,
    "start_time": "2021-10-18T18:35:04.656Z"
   },
   {
    "duration": 26,
    "start_time": "2021-10-18T18:35:04.736Z"
   },
   {
    "duration": 13,
    "start_time": "2021-10-18T18:35:04.765Z"
   },
   {
    "duration": 72,
    "start_time": "2021-10-18T18:35:04.781Z"
   },
   {
    "duration": 142,
    "start_time": "2021-10-18T18:35:04.855Z"
   },
   {
    "duration": 272,
    "start_time": "2021-10-18T18:35:04.999Z"
   },
   {
    "duration": 3,
    "start_time": "2021-10-18T18:35:05.276Z"
   },
   {
    "duration": 280,
    "start_time": "2021-10-18T18:35:05.282Z"
   },
   {
    "duration": 70,
    "start_time": "2021-10-18T18:35:05.565Z"
   },
   {
    "duration": 51,
    "start_time": "2021-10-18T18:35:05.637Z"
   },
   {
    "duration": 34,
    "start_time": "2021-10-18T18:35:05.690Z"
   },
   {
    "duration": 49,
    "start_time": "2021-10-18T18:35:05.727Z"
   },
   {
    "duration": 151,
    "start_time": "2021-10-18T18:35:05.779Z"
   },
   {
    "duration": 33,
    "start_time": "2021-10-18T18:35:05.933Z"
   },
   {
    "duration": 95,
    "start_time": "2021-10-18T18:35:05.969Z"
   },
   {
    "duration": 21,
    "start_time": "2021-10-18T18:35:06.066Z"
   },
   {
    "duration": 36,
    "start_time": "2021-10-18T18:35:06.089Z"
   },
   {
    "duration": 15,
    "start_time": "2021-10-18T18:35:06.128Z"
   },
   {
    "duration": 3,
    "start_time": "2021-10-18T18:35:06.146Z"
   },
   {
    "duration": 3087,
    "start_time": "2021-10-18T18:35:06.151Z"
   },
   {
    "duration": 23,
    "start_time": "2021-10-18T18:35:09.241Z"
   },
   {
    "duration": 599,
    "start_time": "2021-10-18T18:35:09.267Z"
   },
   {
    "duration": 7,
    "start_time": "2021-10-18T18:35:09.869Z"
   },
   {
    "duration": 51,
    "start_time": "2021-10-18T18:35:09.878Z"
   },
   {
    "duration": 31,
    "start_time": "2021-10-18T18:35:09.932Z"
   },
   {
    "duration": 400,
    "start_time": "2021-10-18T18:35:09.965Z"
   },
   {
    "duration": 174,
    "start_time": "2021-10-18T18:35:10.194Z"
   },
   {
    "duration": 1216,
    "start_time": "2021-10-18T18:38:37.522Z"
   },
   {
    "duration": 35,
    "start_time": "2021-10-18T18:38:42.393Z"
   },
   {
    "duration": 28,
    "start_time": "2021-10-18T18:39:00.293Z"
   },
   {
    "duration": 252,
    "start_time": "2021-10-18T18:39:39.150Z"
   },
   {
    "duration": 44,
    "start_time": "2021-10-18T18:39:44.815Z"
   },
   {
    "duration": 42,
    "start_time": "2021-10-18T18:40:06.563Z"
   },
   {
    "duration": 269,
    "start_time": "2021-10-18T18:42:18.901Z"
   },
   {
    "duration": 44,
    "start_time": "2021-10-18T18:42:25.488Z"
   },
   {
    "duration": 370,
    "start_time": "2021-10-18T18:54:21.142Z"
   },
   {
    "duration": 278,
    "start_time": "2021-10-18T18:54:59.671Z"
   },
   {
    "duration": 492,
    "start_time": "2021-10-18T18:55:03.583Z"
   },
   {
    "duration": 556,
    "start_time": "2021-10-18T18:55:07.689Z"
   },
   {
    "duration": 3156,
    "start_time": "2021-10-18T19:17:46.169Z"
   },
   {
    "duration": 28,
    "start_time": "2021-10-18T19:18:16.572Z"
   },
   {
    "duration": 319,
    "start_time": "2021-10-18T19:19:17.092Z"
   },
   {
    "duration": 294,
    "start_time": "2021-10-18T19:19:53.947Z"
   },
   {
    "duration": 19,
    "start_time": "2021-10-18T19:20:14.368Z"
   },
   {
    "duration": 30,
    "start_time": "2021-10-18T19:20:21.220Z"
   },
   {
    "duration": 365,
    "start_time": "2021-10-18T19:20:32.419Z"
   },
   {
    "duration": 125,
    "start_time": "2021-10-18T19:24:10.044Z"
   },
   {
    "duration": 30,
    "start_time": "2021-10-18T19:24:20.275Z"
   },
   {
    "duration": 18,
    "start_time": "2021-10-18T19:24:22.056Z"
   },
   {
    "duration": 263,
    "start_time": "2021-10-18T19:24:22.719Z"
   },
   {
    "duration": 259,
    "start_time": "2021-10-18T19:25:52.172Z"
   },
   {
    "duration": 256,
    "start_time": "2021-10-18T19:26:58.224Z"
   },
   {
    "duration": 252,
    "start_time": "2021-10-18T19:28:04.529Z"
   },
   {
    "duration": 315,
    "start_time": "2021-10-18T19:28:50.388Z"
   },
   {
    "duration": 569,
    "start_time": "2021-10-18T19:28:57.375Z"
   },
   {
    "duration": 1858,
    "start_time": "2021-10-18T19:30:46.983Z"
   },
   {
    "duration": 44,
    "start_time": "2021-10-18T19:30:48.845Z"
   },
   {
    "duration": 50,
    "start_time": "2021-10-18T19:30:48.892Z"
   },
   {
    "duration": 31,
    "start_time": "2021-10-18T19:30:48.945Z"
   },
   {
    "duration": 46,
    "start_time": "2021-10-18T19:30:48.978Z"
   },
   {
    "duration": 41,
    "start_time": "2021-10-18T19:30:49.026Z"
   },
   {
    "duration": 67,
    "start_time": "2021-10-18T19:30:49.069Z"
   },
   {
    "duration": 23,
    "start_time": "2021-10-18T19:30:49.140Z"
   },
   {
    "duration": 68,
    "start_time": "2021-10-18T19:30:49.167Z"
   },
   {
    "duration": 23,
    "start_time": "2021-10-18T19:30:49.238Z"
   },
   {
    "duration": 126,
    "start_time": "2021-10-18T19:30:49.263Z"
   },
   {
    "duration": 46,
    "start_time": "2021-10-18T19:30:49.391Z"
   },
   {
    "duration": 3,
    "start_time": "2021-10-18T19:30:49.441Z"
   },
   {
    "duration": 9,
    "start_time": "2021-10-18T19:30:49.447Z"
   },
   {
    "duration": 123,
    "start_time": "2021-10-18T19:30:49.458Z"
   },
   {
    "duration": 39,
    "start_time": "2021-10-18T19:30:49.584Z"
   },
   {
    "duration": 98,
    "start_time": "2021-10-18T19:30:49.626Z"
   },
   {
    "duration": 23,
    "start_time": "2021-10-18T19:30:49.726Z"
   },
   {
    "duration": 9,
    "start_time": "2021-10-18T19:30:49.751Z"
   },
   {
    "duration": 76,
    "start_time": "2021-10-18T19:30:49.763Z"
   },
   {
    "duration": 28,
    "start_time": "2021-10-18T19:30:49.842Z"
   },
   {
    "duration": 13,
    "start_time": "2021-10-18T19:30:49.873Z"
   },
   {
    "duration": 38,
    "start_time": "2021-10-18T19:30:49.925Z"
   },
   {
    "duration": 168,
    "start_time": "2021-10-18T19:30:49.968Z"
   },
   {
    "duration": 270,
    "start_time": "2021-10-18T19:30:50.138Z"
   },
   {
    "duration": 11,
    "start_time": "2021-10-18T19:30:50.411Z"
   },
   {
    "duration": 285,
    "start_time": "2021-10-18T19:30:50.425Z"
   },
   {
    "duration": 62,
    "start_time": "2021-10-18T19:30:50.713Z"
   },
   {
    "duration": 70,
    "start_time": "2021-10-18T19:30:50.778Z"
   },
   {
    "duration": 22,
    "start_time": "2021-10-18T19:30:50.850Z"
   },
   {
    "duration": 72,
    "start_time": "2021-10-18T19:30:50.876Z"
   },
   {
    "duration": 139,
    "start_time": "2021-10-18T19:30:50.951Z"
   },
   {
    "duration": 41,
    "start_time": "2021-10-18T19:30:51.093Z"
   },
   {
    "duration": 70,
    "start_time": "2021-10-18T19:30:51.136Z"
   },
   {
    "duration": 20,
    "start_time": "2021-10-18T19:30:51.223Z"
   },
   {
    "duration": 19,
    "start_time": "2021-10-18T19:30:51.246Z"
   },
   {
    "duration": 15,
    "start_time": "2021-10-18T19:30:51.267Z"
   },
   {
    "duration": 3,
    "start_time": "2021-10-18T19:30:51.285Z"
   },
   {
    "duration": 3183,
    "start_time": "2021-10-18T19:30:51.290Z"
   },
   {
    "duration": 26,
    "start_time": "2021-10-18T19:30:54.475Z"
   },
   {
    "duration": 655,
    "start_time": "2021-10-18T19:30:54.503Z"
   },
   {
    "duration": 6,
    "start_time": "2021-10-18T19:30:55.161Z"
   },
   {
    "duration": 34,
    "start_time": "2021-10-18T19:30:55.170Z"
   },
   {
    "duration": 1080,
    "start_time": "2021-10-18T19:30:55.206Z"
   },
   {
    "duration": 48,
    "start_time": "2021-10-18T19:30:56.288Z"
   },
   {
    "duration": 16,
    "start_time": "2021-10-18T19:30:56.339Z"
   },
   {
    "duration": 380,
    "start_time": "2021-10-18T19:30:56.357Z"
   },
   {
    "duration": 433,
    "start_time": "2021-10-18T19:37:40.195Z"
   },
   {
    "duration": 20,
    "start_time": "2021-10-18T19:37:55.552Z"
   },
   {
    "duration": 18,
    "start_time": "2021-10-18T19:38:45.710Z"
   },
   {
    "duration": 292,
    "start_time": "2021-10-18T19:39:56.098Z"
   },
   {
    "duration": 453,
    "start_time": "2021-10-18T19:40:07.303Z"
   },
   {
    "duration": 270,
    "start_time": "2021-10-18T19:40:48.783Z"
   },
   {
    "duration": 429,
    "start_time": "2021-10-18T19:40:59.753Z"
   },
   {
    "duration": 398,
    "start_time": "2021-10-18T19:46:01.921Z"
   },
   {
    "duration": 275,
    "start_time": "2021-10-18T19:47:41.284Z"
   },
   {
    "duration": 17,
    "start_time": "2021-10-18T19:49:08.991Z"
   },
   {
    "duration": 15,
    "start_time": "2021-10-18T19:49:13.375Z"
   },
   {
    "duration": 257,
    "start_time": "2021-10-18T19:49:20.928Z"
   },
   {
    "duration": 15,
    "start_time": "2021-10-18T19:50:19.546Z"
   },
   {
    "duration": 26,
    "start_time": "2021-10-18T19:50:33.069Z"
   },
   {
    "duration": 1854,
    "start_time": "2021-10-18T19:52:05.639Z"
   },
   {
    "duration": 44,
    "start_time": "2021-10-18T19:52:07.496Z"
   },
   {
    "duration": 40,
    "start_time": "2021-10-18T19:52:07.546Z"
   },
   {
    "duration": 54,
    "start_time": "2021-10-18T19:52:07.588Z"
   },
   {
    "duration": 19,
    "start_time": "2021-10-18T19:52:07.644Z"
   },
   {
    "duration": 72,
    "start_time": "2021-10-18T19:52:07.666Z"
   },
   {
    "duration": 40,
    "start_time": "2021-10-18T19:52:07.742Z"
   },
   {
    "duration": 46,
    "start_time": "2021-10-18T19:52:07.785Z"
   },
   {
    "duration": 27,
    "start_time": "2021-10-18T19:52:07.834Z"
   },
   {
    "duration": 27,
    "start_time": "2021-10-18T19:52:07.863Z"
   },
   {
    "duration": 139,
    "start_time": "2021-10-18T19:52:07.893Z"
   },
   {
    "duration": 32,
    "start_time": "2021-10-18T19:52:08.035Z"
   },
   {
    "duration": 4,
    "start_time": "2021-10-18T19:52:08.069Z"
   },
   {
    "duration": 8,
    "start_time": "2021-10-18T19:52:08.075Z"
   },
   {
    "duration": 122,
    "start_time": "2021-10-18T19:52:08.086Z"
   },
   {
    "duration": 34,
    "start_time": "2021-10-18T19:52:08.211Z"
   },
   {
    "duration": 94,
    "start_time": "2021-10-18T19:52:08.247Z"
   },
   {
    "duration": 23,
    "start_time": "2021-10-18T19:52:08.343Z"
   },
   {
    "duration": 9,
    "start_time": "2021-10-18T19:52:08.368Z"
   },
   {
    "duration": 74,
    "start_time": "2021-10-18T19:52:08.380Z"
   },
   {
    "duration": 27,
    "start_time": "2021-10-18T19:52:08.457Z"
   },
   {
    "duration": 39,
    "start_time": "2021-10-18T19:52:08.489Z"
   },
   {
    "duration": 43,
    "start_time": "2021-10-18T19:52:08.532Z"
   },
   {
    "duration": 146,
    "start_time": "2021-10-18T19:52:08.578Z"
   },
   {
    "duration": 273,
    "start_time": "2021-10-18T19:52:08.727Z"
   },
   {
    "duration": 4,
    "start_time": "2021-10-18T19:52:09.003Z"
   },
   {
    "duration": 281,
    "start_time": "2021-10-18T19:52:09.022Z"
   },
   {
    "duration": 70,
    "start_time": "2021-10-18T19:52:09.306Z"
   },
   {
    "duration": 68,
    "start_time": "2021-10-18T19:52:09.379Z"
   },
   {
    "duration": 23,
    "start_time": "2021-10-18T19:52:09.450Z"
   },
   {
    "duration": 73,
    "start_time": "2021-10-18T19:52:09.475Z"
   },
   {
    "duration": 142,
    "start_time": "2021-10-18T19:52:09.550Z"
   },
   {
    "duration": 43,
    "start_time": "2021-10-18T19:52:09.695Z"
   },
   {
    "duration": 82,
    "start_time": "2021-10-18T19:52:09.740Z"
   },
   {
    "duration": 21,
    "start_time": "2021-10-18T19:52:09.824Z"
   },
   {
    "duration": 18,
    "start_time": "2021-10-18T19:52:09.847Z"
   },
   {
    "duration": 15,
    "start_time": "2021-10-18T19:52:09.868Z"
   },
   {
    "duration": 3,
    "start_time": "2021-10-18T19:52:09.885Z"
   },
   {
    "duration": 3167,
    "start_time": "2021-10-18T19:52:09.890Z"
   },
   {
    "duration": 23,
    "start_time": "2021-10-18T19:52:13.059Z"
   },
   {
    "duration": 631,
    "start_time": "2021-10-18T19:52:13.084Z"
   },
   {
    "duration": 7,
    "start_time": "2021-10-18T19:52:13.718Z"
   },
   {
    "duration": 30,
    "start_time": "2021-10-18T19:52:13.727Z"
   },
   {
    "duration": 1109,
    "start_time": "2021-10-18T19:52:13.759Z"
   },
   {
    "duration": 17,
    "start_time": "2021-10-18T19:52:14.871Z"
   },
   {
    "duration": 34,
    "start_time": "2021-10-18T19:52:14.890Z"
   },
   {
    "duration": 20,
    "start_time": "2021-10-18T19:52:14.927Z"
   },
   {
    "duration": 25,
    "start_time": "2021-10-18T19:52:14.949Z"
   },
   {
    "duration": 82,
    "start_time": "2021-10-18T19:57:19.442Z"
   },
   {
    "duration": 6,
    "start_time": "2021-10-18T19:57:30.280Z"
   },
   {
    "duration": 27,
    "start_time": "2021-10-18T19:57:36.975Z"
   },
   {
    "duration": 83,
    "start_time": "2021-10-18T19:57:49.826Z"
   },
   {
    "duration": 3500,
    "start_time": "2021-10-18T19:58:08.746Z"
   },
   {
    "duration": 26,
    "start_time": "2021-10-18T19:58:12.249Z"
   },
   {
    "duration": 5,
    "start_time": "2021-10-18T19:59:13.232Z"
   },
   {
    "duration": 32,
    "start_time": "2021-10-18T19:59:14.554Z"
   },
   {
    "duration": 1867,
    "start_time": "2021-10-18T19:59:25.824Z"
   },
   {
    "duration": 65,
    "start_time": "2021-10-18T19:59:27.695Z"
   },
   {
    "duration": 71,
    "start_time": "2021-10-18T19:59:27.768Z"
   },
   {
    "duration": 36,
    "start_time": "2021-10-18T19:59:27.842Z"
   },
   {
    "duration": 44,
    "start_time": "2021-10-18T19:59:27.880Z"
   },
   {
    "duration": 40,
    "start_time": "2021-10-18T19:59:27.927Z"
   },
   {
    "duration": 68,
    "start_time": "2021-10-18T19:59:27.969Z"
   },
   {
    "duration": 17,
    "start_time": "2021-10-18T19:59:28.042Z"
   },
   {
    "duration": 26,
    "start_time": "2021-10-18T19:59:28.062Z"
   },
   {
    "duration": 22,
    "start_time": "2021-10-18T19:59:28.122Z"
   },
   {
    "duration": 119,
    "start_time": "2021-10-18T19:59:28.146Z"
   },
   {
    "duration": 32,
    "start_time": "2021-10-18T19:59:28.268Z"
   },
   {
    "duration": 22,
    "start_time": "2021-10-18T19:59:28.303Z"
   },
   {
    "duration": 9,
    "start_time": "2021-10-18T19:59:28.328Z"
   },
   {
    "duration": 112,
    "start_time": "2021-10-18T19:59:28.340Z"
   },
   {
    "duration": 28,
    "start_time": "2021-10-18T19:59:28.455Z"
   },
   {
    "duration": 98,
    "start_time": "2021-10-18T19:59:28.485Z"
   },
   {
    "duration": 37,
    "start_time": "2021-10-18T19:59:28.586Z"
   },
   {
    "duration": 9,
    "start_time": "2021-10-18T19:59:28.626Z"
   },
   {
    "duration": 42,
    "start_time": "2021-10-18T19:59:28.637Z"
   },
   {
    "duration": 59,
    "start_time": "2021-10-18T19:59:28.682Z"
   },
   {
    "duration": 9,
    "start_time": "2021-10-18T19:59:28.743Z"
   },
   {
    "duration": 36,
    "start_time": "2021-10-18T19:59:28.754Z"
   },
   {
    "duration": 139,
    "start_time": "2021-10-18T19:59:28.822Z"
   },
   {
    "duration": 270,
    "start_time": "2021-10-18T19:59:28.963Z"
   },
   {
    "duration": 3,
    "start_time": "2021-10-18T19:59:29.238Z"
   },
   {
    "duration": 296,
    "start_time": "2021-10-18T19:59:29.244Z"
   },
   {
    "duration": 54,
    "start_time": "2021-10-18T19:59:29.542Z"
   },
   {
    "duration": 66,
    "start_time": "2021-10-18T19:59:29.599Z"
   },
   {
    "duration": 22,
    "start_time": "2021-10-18T19:59:29.668Z"
   },
   {
    "duration": 67,
    "start_time": "2021-10-18T19:59:29.692Z"
   },
   {
    "duration": 150,
    "start_time": "2021-10-18T19:59:29.761Z"
   },
   {
    "duration": 44,
    "start_time": "2021-10-18T19:59:29.913Z"
   },
   {
    "duration": 84,
    "start_time": "2021-10-18T19:59:29.959Z"
   },
   {
    "duration": 23,
    "start_time": "2021-10-18T19:59:30.045Z"
   },
   {
    "duration": 16,
    "start_time": "2021-10-18T19:59:30.070Z"
   },
   {
    "duration": 44,
    "start_time": "2021-10-18T19:59:30.089Z"
   },
   {
    "duration": 8,
    "start_time": "2021-10-18T19:59:30.135Z"
   },
   {
    "duration": 3208,
    "start_time": "2021-10-18T19:59:30.145Z"
   },
   {
    "duration": 4,
    "start_time": "2021-10-18T19:59:33.356Z"
   },
   {
    "duration": 28,
    "start_time": "2021-10-18T19:59:33.362Z"
   },
   {
    "duration": 616,
    "start_time": "2021-10-18T19:59:33.392Z"
   },
   {
    "duration": 12,
    "start_time": "2021-10-18T19:59:34.011Z"
   },
   {
    "duration": 34,
    "start_time": "2021-10-18T19:59:34.025Z"
   },
   {
    "duration": 1084,
    "start_time": "2021-10-18T19:59:34.062Z"
   },
   {
    "duration": 18,
    "start_time": "2021-10-18T19:59:35.148Z"
   },
   {
    "duration": 16,
    "start_time": "2021-10-18T19:59:35.169Z"
   },
   {
    "duration": 19,
    "start_time": "2021-10-18T20:02:25.950Z"
   },
   {
    "duration": 1926,
    "start_time": "2021-10-18T20:02:34.201Z"
   },
   {
    "duration": 45,
    "start_time": "2021-10-18T20:02:36.130Z"
   },
   {
    "duration": 61,
    "start_time": "2021-10-18T20:02:36.178Z"
   },
   {
    "duration": 29,
    "start_time": "2021-10-18T20:02:36.242Z"
   },
   {
    "duration": 18,
    "start_time": "2021-10-18T20:02:36.273Z"
   },
   {
    "duration": 42,
    "start_time": "2021-10-18T20:02:36.322Z"
   },
   {
    "duration": 69,
    "start_time": "2021-10-18T20:02:36.366Z"
   },
   {
    "duration": 18,
    "start_time": "2021-10-18T20:02:36.439Z"
   },
   {
    "duration": 26,
    "start_time": "2021-10-18T20:02:36.461Z"
   },
   {
    "duration": 53,
    "start_time": "2021-10-18T20:02:36.490Z"
   },
   {
    "duration": 128,
    "start_time": "2021-10-18T20:02:36.545Z"
   },
   {
    "duration": 54,
    "start_time": "2021-10-18T20:02:36.677Z"
   },
   {
    "duration": 4,
    "start_time": "2021-10-18T20:02:36.734Z"
   },
   {
    "duration": 5,
    "start_time": "2021-10-18T20:02:36.741Z"
   },
   {
    "duration": 119,
    "start_time": "2021-10-18T20:02:36.749Z"
   },
   {
    "duration": 26,
    "start_time": "2021-10-18T20:02:36.871Z"
   },
   {
    "duration": 71,
    "start_time": "2021-10-18T20:02:36.923Z"
   },
   {
    "duration": 45,
    "start_time": "2021-10-18T20:02:36.997Z"
   },
   {
    "duration": 10,
    "start_time": "2021-10-18T20:02:37.045Z"
   },
   {
    "duration": 81,
    "start_time": "2021-10-18T20:02:37.058Z"
   },
   {
    "duration": 27,
    "start_time": "2021-10-18T20:02:37.142Z"
   },
   {
    "duration": 9,
    "start_time": "2021-10-18T20:02:37.171Z"
   },
   {
    "duration": 63,
    "start_time": "2021-10-18T20:02:37.185Z"
   },
   {
    "duration": 154,
    "start_time": "2021-10-18T20:02:37.251Z"
   },
   {
    "duration": 269,
    "start_time": "2021-10-18T20:02:37.407Z"
   },
   {
    "duration": 3,
    "start_time": "2021-10-18T20:02:37.678Z"
   },
   {
    "duration": 297,
    "start_time": "2021-10-18T20:02:37.684Z"
   },
   {
    "duration": 70,
    "start_time": "2021-10-18T20:02:37.983Z"
   },
   {
    "duration": 50,
    "start_time": "2021-10-18T20:02:38.055Z"
   },
   {
    "duration": 30,
    "start_time": "2021-10-18T20:02:38.108Z"
   },
   {
    "duration": 49,
    "start_time": "2021-10-18T20:02:38.140Z"
   },
   {
    "duration": 158,
    "start_time": "2021-10-18T20:02:38.192Z"
   },
   {
    "duration": 35,
    "start_time": "2021-10-18T20:02:38.352Z"
   },
   {
    "duration": 95,
    "start_time": "2021-10-18T20:02:38.389Z"
   },
   {
    "duration": 20,
    "start_time": "2021-10-18T20:02:38.487Z"
   },
   {
    "duration": 27,
    "start_time": "2021-10-18T20:02:38.509Z"
   },
   {
    "duration": 14,
    "start_time": "2021-10-18T20:02:38.539Z"
   },
   {
    "duration": 3,
    "start_time": "2021-10-18T20:02:38.555Z"
   },
   {
    "duration": 3186,
    "start_time": "2021-10-18T20:02:38.560Z"
   },
   {
    "duration": 23,
    "start_time": "2021-10-18T20:02:41.748Z"
   },
   {
    "duration": 601,
    "start_time": "2021-10-18T20:02:41.774Z"
   },
   {
    "duration": 6,
    "start_time": "2021-10-18T20:02:42.378Z"
   },
   {
    "duration": 46,
    "start_time": "2021-10-18T20:02:42.386Z"
   },
   {
    "duration": 1118,
    "start_time": "2021-10-18T20:02:42.435Z"
   },
   {
    "duration": 14,
    "start_time": "2021-10-18T20:02:43.556Z"
   },
   {
    "duration": 18,
    "start_time": "2021-10-18T20:02:43.572Z"
   },
   {
    "duration": 44,
    "start_time": "2021-10-18T20:02:43.592Z"
   },
   {
    "duration": 5831,
    "start_time": "2021-10-18T20:03:25.797Z"
   },
   {
    "duration": 31,
    "start_time": "2021-10-18T20:04:54.711Z"
   },
   {
    "duration": 40,
    "start_time": "2021-10-18T20:05:51.351Z"
   },
   {
    "duration": 1943,
    "start_time": "2021-10-18T20:06:01.975Z"
   },
   {
    "duration": 49,
    "start_time": "2021-10-18T20:06:03.921Z"
   },
   {
    "duration": 76,
    "start_time": "2021-10-18T20:06:03.974Z"
   },
   {
    "duration": 32,
    "start_time": "2021-10-18T20:06:04.054Z"
   },
   {
    "duration": 51,
    "start_time": "2021-10-18T20:06:04.089Z"
   },
   {
    "duration": 45,
    "start_time": "2021-10-18T20:06:04.143Z"
   },
   {
    "duration": 38,
    "start_time": "2021-10-18T20:06:04.222Z"
   },
   {
    "duration": 17,
    "start_time": "2021-10-18T20:06:04.264Z"
   },
   {
    "duration": 60,
    "start_time": "2021-10-18T20:06:04.284Z"
   },
   {
    "duration": 26,
    "start_time": "2021-10-18T20:06:04.346Z"
   },
   {
    "duration": 140,
    "start_time": "2021-10-18T20:06:04.375Z"
   },
   {
    "duration": 33,
    "start_time": "2021-10-18T20:06:04.521Z"
   },
   {
    "duration": 3,
    "start_time": "2021-10-18T20:06:04.557Z"
   },
   {
    "duration": 7,
    "start_time": "2021-10-18T20:06:04.562Z"
   },
   {
    "duration": 120,
    "start_time": "2021-10-18T20:06:04.572Z"
   },
   {
    "duration": 36,
    "start_time": "2021-10-18T20:06:04.694Z"
   },
   {
    "duration": 69,
    "start_time": "2021-10-18T20:06:04.733Z"
   },
   {
    "duration": 23,
    "start_time": "2021-10-18T20:06:04.823Z"
   },
   {
    "duration": 9,
    "start_time": "2021-10-18T20:06:04.849Z"
   },
   {
    "duration": 73,
    "start_time": "2021-10-18T20:06:04.860Z"
   },
   {
    "duration": 29,
    "start_time": "2021-10-18T20:06:04.935Z"
   },
   {
    "duration": 9,
    "start_time": "2021-10-18T20:06:04.966Z"
   },
   {
    "duration": 72,
    "start_time": "2021-10-18T20:06:04.980Z"
   },
   {
    "duration": 140,
    "start_time": "2021-10-18T20:06:05.055Z"
   },
   {
    "duration": 275,
    "start_time": "2021-10-18T20:06:05.197Z"
   },
   {
    "duration": 3,
    "start_time": "2021-10-18T20:06:05.475Z"
   },
   {
    "duration": 285,
    "start_time": "2021-10-18T20:06:05.480Z"
   },
   {
    "duration": 68,
    "start_time": "2021-10-18T20:06:05.768Z"
   },
   {
    "duration": 51,
    "start_time": "2021-10-18T20:06:05.839Z"
   },
   {
    "duration": 45,
    "start_time": "2021-10-18T20:06:05.893Z"
   },
   {
    "duration": 55,
    "start_time": "2021-10-18T20:06:05.941Z"
   },
   {
    "duration": 248,
    "start_time": "2021-10-18T20:06:05.999Z"
   },
   {
    "duration": 37,
    "start_time": "2021-10-18T20:06:06.250Z"
   },
   {
    "duration": 93,
    "start_time": "2021-10-18T20:06:06.289Z"
   },
   {
    "duration": 21,
    "start_time": "2021-10-18T20:06:06.384Z"
   },
   {
    "duration": 16,
    "start_time": "2021-10-18T20:06:06.423Z"
   },
   {
    "duration": 16,
    "start_time": "2021-10-18T20:06:06.441Z"
   },
   {
    "duration": 3,
    "start_time": "2021-10-18T20:06:06.460Z"
   },
   {
    "duration": 3157,
    "start_time": "2021-10-18T20:06:06.465Z"
   },
   {
    "duration": 25,
    "start_time": "2021-10-18T20:06:09.625Z"
   },
   {
    "duration": 867,
    "start_time": "2021-10-18T20:06:09.652Z"
   },
   {
    "duration": 7,
    "start_time": "2021-10-18T20:06:10.522Z"
   },
   {
    "duration": 37,
    "start_time": "2021-10-18T20:06:10.532Z"
   },
   {
    "duration": 1191,
    "start_time": "2021-10-18T20:06:10.571Z"
   },
   {
    "duration": 28,
    "start_time": "2021-10-18T20:06:11.765Z"
   },
   {
    "duration": 38,
    "start_time": "2021-10-18T20:06:11.795Z"
   },
   {
    "duration": 16,
    "start_time": "2021-10-18T20:06:11.835Z"
   },
   {
    "duration": 1905,
    "start_time": "2021-10-18T20:06:56.211Z"
   },
   {
    "duration": 45,
    "start_time": "2021-10-18T20:06:58.119Z"
   },
   {
    "duration": 60,
    "start_time": "2021-10-18T20:06:58.167Z"
   },
   {
    "duration": 32,
    "start_time": "2021-10-18T20:06:58.230Z"
   },
   {
    "duration": 19,
    "start_time": "2021-10-18T20:06:58.265Z"
   },
   {
    "duration": 74,
    "start_time": "2021-10-18T20:06:58.287Z"
   },
   {
    "duration": 65,
    "start_time": "2021-10-18T20:06:58.364Z"
   },
   {
    "duration": 19,
    "start_time": "2021-10-18T20:06:58.433Z"
   },
   {
    "duration": 28,
    "start_time": "2021-10-18T20:06:58.455Z"
   },
   {
    "duration": 57,
    "start_time": "2021-10-18T20:06:58.486Z"
   },
   {
    "duration": 130,
    "start_time": "2021-10-18T20:06:58.545Z"
   },
   {
    "duration": 45,
    "start_time": "2021-10-18T20:06:58.678Z"
   },
   {
    "duration": 3,
    "start_time": "2021-10-18T20:06:58.726Z"
   },
   {
    "duration": 5,
    "start_time": "2021-10-18T20:06:58.732Z"
   },
   {
    "duration": 114,
    "start_time": "2021-10-18T20:06:58.740Z"
   },
   {
    "duration": 25,
    "start_time": "2021-10-18T20:06:58.856Z"
   },
   {
    "duration": 98,
    "start_time": "2021-10-18T20:06:58.883Z"
   },
   {
    "duration": 39,
    "start_time": "2021-10-18T20:06:58.983Z"
   },
   {
    "duration": 9,
    "start_time": "2021-10-18T20:06:59.025Z"
   },
   {
    "duration": 41,
    "start_time": "2021-10-18T20:06:59.037Z"
   },
   {
    "duration": 66,
    "start_time": "2021-10-18T20:06:59.081Z"
   },
   {
    "duration": 10,
    "start_time": "2021-10-18T20:06:59.149Z"
   },
   {
    "duration": 65,
    "start_time": "2021-10-18T20:06:59.165Z"
   },
   {
    "duration": 148,
    "start_time": "2021-10-18T20:06:59.233Z"
   },
   {
    "duration": 273,
    "start_time": "2021-10-18T20:06:59.383Z"
   },
   {
    "duration": 3,
    "start_time": "2021-10-18T20:06:59.658Z"
   },
   {
    "duration": 302,
    "start_time": "2021-10-18T20:06:59.664Z"
   },
   {
    "duration": 70,
    "start_time": "2021-10-18T20:06:59.968Z"
   },
   {
    "duration": 54,
    "start_time": "2021-10-18T20:07:00.040Z"
   },
   {
    "duration": 37,
    "start_time": "2021-10-18T20:07:00.096Z"
   },
   {
    "duration": 59,
    "start_time": "2021-10-18T20:07:00.135Z"
   },
   {
    "duration": 149,
    "start_time": "2021-10-18T20:07:00.196Z"
   },
   {
    "duration": 36,
    "start_time": "2021-10-18T20:07:00.348Z"
   },
   {
    "duration": 101,
    "start_time": "2021-10-18T20:07:00.386Z"
   },
   {
    "duration": 22,
    "start_time": "2021-10-18T20:07:00.490Z"
   },
   {
    "duration": 22,
    "start_time": "2021-10-18T20:07:00.514Z"
   },
   {
    "duration": 15,
    "start_time": "2021-10-18T20:07:00.539Z"
   },
   {
    "duration": 3,
    "start_time": "2021-10-18T20:07:00.557Z"
   },
   {
    "duration": 3230,
    "start_time": "2021-10-18T20:07:00.563Z"
   },
   {
    "duration": 32,
    "start_time": "2021-10-18T20:07:03.795Z"
   },
   {
    "duration": 610,
    "start_time": "2021-10-18T20:07:03.830Z"
   },
   {
    "duration": 6,
    "start_time": "2021-10-18T20:07:04.443Z"
   },
   {
    "duration": 33,
    "start_time": "2021-10-18T20:07:04.452Z"
   },
   {
    "duration": 1082,
    "start_time": "2021-10-18T20:07:04.488Z"
   },
   {
    "duration": 26,
    "start_time": "2021-10-18T20:07:05.572Z"
   },
   {
    "duration": 33,
    "start_time": "2021-10-18T20:07:05.601Z"
   },
   {
    "duration": 15,
    "start_time": "2021-10-18T20:07:05.637Z"
   },
   {
    "duration": 376,
    "start_time": "2021-10-18T20:13:22.146Z"
   },
   {
    "duration": 1840,
    "start_time": "2021-10-18T20:13:34.268Z"
   },
   {
    "duration": 50,
    "start_time": "2021-10-18T20:13:36.111Z"
   },
   {
    "duration": 69,
    "start_time": "2021-10-18T20:13:36.164Z"
   },
   {
    "duration": 33,
    "start_time": "2021-10-18T20:13:36.237Z"
   },
   {
    "duration": 53,
    "start_time": "2021-10-18T20:13:36.273Z"
   },
   {
    "duration": 39,
    "start_time": "2021-10-18T20:13:36.329Z"
   },
   {
    "duration": 67,
    "start_time": "2021-10-18T20:13:36.371Z"
   },
   {
    "duration": 16,
    "start_time": "2021-10-18T20:13:36.441Z"
   },
   {
    "duration": 27,
    "start_time": "2021-10-18T20:13:36.461Z"
   },
   {
    "duration": 52,
    "start_time": "2021-10-18T20:13:36.491Z"
   },
   {
    "duration": 128,
    "start_time": "2021-10-18T20:13:36.546Z"
   },
   {
    "duration": 48,
    "start_time": "2021-10-18T20:13:36.677Z"
   },
   {
    "duration": 3,
    "start_time": "2021-10-18T20:13:36.728Z"
   },
   {
    "duration": 11,
    "start_time": "2021-10-18T20:13:36.733Z"
   },
   {
    "duration": 103,
    "start_time": "2021-10-18T20:13:36.746Z"
   },
   {
    "duration": 24,
    "start_time": "2021-10-18T20:13:36.852Z"
   },
   {
    "duration": 91,
    "start_time": "2021-10-18T20:13:36.879Z"
   },
   {
    "duration": 21,
    "start_time": "2021-10-18T20:13:36.972Z"
   },
   {
    "duration": 32,
    "start_time": "2021-10-18T20:13:36.995Z"
   },
   {
    "duration": 42,
    "start_time": "2021-10-18T20:13:37.029Z"
   },
   {
    "duration": 57,
    "start_time": "2021-10-18T20:13:37.073Z"
   },
   {
    "duration": 12,
    "start_time": "2021-10-18T20:13:37.133Z"
   },
   {
    "duration": 42,
    "start_time": "2021-10-18T20:13:37.147Z"
   },
   {
    "duration": 158,
    "start_time": "2021-10-18T20:13:37.192Z"
   },
   {
    "duration": 272,
    "start_time": "2021-10-18T20:13:37.353Z"
   },
   {
    "duration": 3,
    "start_time": "2021-10-18T20:13:37.627Z"
   },
   {
    "duration": 381,
    "start_time": "2021-10-18T20:13:37.636Z"
   },
   {
    "duration": 57,
    "start_time": "2021-10-18T20:13:38.023Z"
   },
   {
    "duration": 71,
    "start_time": "2021-10-18T20:13:38.082Z"
   },
   {
    "duration": 22,
    "start_time": "2021-10-18T20:13:38.155Z"
   },
   {
    "duration": 65,
    "start_time": "2021-10-18T20:13:38.179Z"
   },
   {
    "duration": 144,
    "start_time": "2021-10-18T20:13:38.246Z"
   },
   {
    "duration": 48,
    "start_time": "2021-10-18T20:13:38.392Z"
   },
   {
    "duration": 83,
    "start_time": "2021-10-18T20:13:38.443Z"
   },
   {
    "duration": 21,
    "start_time": "2021-10-18T20:13:38.528Z"
   },
   {
    "duration": 22,
    "start_time": "2021-10-18T20:13:38.552Z"
   },
   {
    "duration": 17,
    "start_time": "2021-10-18T20:13:38.577Z"
   },
   {
    "duration": 4,
    "start_time": "2021-10-18T20:13:38.622Z"
   },
   {
    "duration": 3101,
    "start_time": "2021-10-18T20:13:38.630Z"
   },
   {
    "duration": 24,
    "start_time": "2021-10-18T20:13:41.733Z"
   },
   {
    "duration": 612,
    "start_time": "2021-10-18T20:13:41.759Z"
   },
   {
    "duration": 6,
    "start_time": "2021-10-18T20:13:42.374Z"
   },
   {
    "duration": 46,
    "start_time": "2021-10-18T20:13:42.383Z"
   },
   {
    "duration": 1077,
    "start_time": "2021-10-18T20:13:42.431Z"
   },
   {
    "duration": 28,
    "start_time": "2021-10-18T20:13:43.510Z"
   },
   {
    "duration": 381,
    "start_time": "2021-10-18T20:13:43.541Z"
   },
   {
    "duration": 17,
    "start_time": "2021-10-18T20:13:43.925Z"
   },
   {
    "duration": 11,
    "start_time": "2021-10-18T20:15:31.864Z"
   },
   {
    "duration": 1570,
    "start_time": "2021-10-18T20:18:58.267Z"
   },
   {
    "duration": 1590,
    "start_time": "2021-10-18T20:19:11.586Z"
   },
   {
    "duration": 1112,
    "start_time": "2021-10-18T20:19:28.588Z"
   },
   {
    "duration": 7100,
    "start_time": "2021-10-18T20:21:07.709Z"
   },
   {
    "duration": 6796,
    "start_time": "2021-10-18T20:21:25.146Z"
   },
   {
    "duration": 7049,
    "start_time": "2021-10-18T20:28:43.593Z"
   },
   {
    "duration": 18,
    "start_time": "2021-10-18T20:29:13.067Z"
   },
   {
    "duration": 1876,
    "start_time": "2021-10-18T20:30:48.421Z"
   },
   {
    "duration": 48,
    "start_time": "2021-10-18T20:30:50.301Z"
   },
   {
    "duration": 38,
    "start_time": "2021-10-18T20:30:50.352Z"
   },
   {
    "duration": 48,
    "start_time": "2021-10-18T20:30:50.393Z"
   },
   {
    "duration": 19,
    "start_time": "2021-10-18T20:30:50.443Z"
   },
   {
    "duration": 77,
    "start_time": "2021-10-18T20:30:50.464Z"
   },
   {
    "duration": 40,
    "start_time": "2021-10-18T20:30:50.543Z"
   },
   {
    "duration": 46,
    "start_time": "2021-10-18T20:30:50.588Z"
   },
   {
    "duration": 31,
    "start_time": "2021-10-18T20:30:50.638Z"
   },
   {
    "duration": 59,
    "start_time": "2021-10-18T20:30:50.671Z"
   },
   {
    "duration": 116,
    "start_time": "2021-10-18T20:30:50.733Z"
   },
   {
    "duration": 33,
    "start_time": "2021-10-18T20:30:50.852Z"
   },
   {
    "duration": 3,
    "start_time": "2021-10-18T20:30:50.887Z"
   },
   {
    "duration": 36,
    "start_time": "2021-10-18T20:30:50.892Z"
   },
   {
    "duration": 104,
    "start_time": "2021-10-18T20:30:50.930Z"
   },
   {
    "duration": 26,
    "start_time": "2021-10-18T20:30:51.036Z"
   },
   {
    "duration": 93,
    "start_time": "2021-10-18T20:30:51.065Z"
   },
   {
    "duration": 21,
    "start_time": "2021-10-18T20:30:51.160Z"
   },
   {
    "duration": 10,
    "start_time": "2021-10-18T20:30:51.183Z"
   },
   {
    "duration": 40,
    "start_time": "2021-10-18T20:30:51.223Z"
   },
   {
    "duration": 58,
    "start_time": "2021-10-18T20:30:51.266Z"
   },
   {
    "duration": 10,
    "start_time": "2021-10-18T20:30:51.328Z"
   },
   {
    "duration": 36,
    "start_time": "2021-10-18T20:30:51.344Z"
   },
   {
    "duration": 166,
    "start_time": "2021-10-18T20:30:51.383Z"
   },
   {
    "duration": 273,
    "start_time": "2021-10-18T20:30:51.551Z"
   },
   {
    "duration": 3,
    "start_time": "2021-10-18T20:30:51.826Z"
   },
   {
    "duration": 292,
    "start_time": "2021-10-18T20:30:51.832Z"
   },
   {
    "duration": 56,
    "start_time": "2021-10-18T20:30:52.126Z"
   },
   {
    "duration": 75,
    "start_time": "2021-10-18T20:30:52.184Z"
   },
   {
    "duration": 20,
    "start_time": "2021-10-18T20:30:52.262Z"
   },
   {
    "duration": 64,
    "start_time": "2021-10-18T20:30:52.284Z"
   },
   {
    "duration": 151,
    "start_time": "2021-10-18T20:30:52.351Z"
   },
   {
    "duration": 43,
    "start_time": "2021-10-18T20:30:52.504Z"
   },
   {
    "duration": 84,
    "start_time": "2021-10-18T20:30:52.550Z"
   },
   {
    "duration": 22,
    "start_time": "2021-10-18T20:30:52.637Z"
   },
   {
    "duration": 15,
    "start_time": "2021-10-18T20:30:52.661Z"
   },
   {
    "duration": 48,
    "start_time": "2021-10-18T20:30:52.678Z"
   },
   {
    "duration": 2,
    "start_time": "2021-10-18T20:30:52.729Z"
   },
   {
    "duration": 3133,
    "start_time": "2021-10-18T20:30:52.734Z"
   },
   {
    "duration": 23,
    "start_time": "2021-10-18T20:30:55.869Z"
   },
   {
    "duration": 629,
    "start_time": "2021-10-18T20:30:55.895Z"
   },
   {
    "duration": 7,
    "start_time": "2021-10-18T20:30:56.527Z"
   },
   {
    "duration": 31,
    "start_time": "2021-10-18T20:30:56.536Z"
   },
   {
    "duration": 1094,
    "start_time": "2021-10-18T20:30:56.569Z"
   },
   {
    "duration": 19,
    "start_time": "2021-10-18T20:30:57.665Z"
   },
   {
    "duration": 460,
    "start_time": "2021-10-18T20:30:57.686Z"
   },
   {
    "duration": 241,
    "start_time": "2021-10-18T20:30:57.907Z"
   },
   {
    "duration": 20,
    "start_time": "2021-10-18T20:31:54.443Z"
   },
   {
    "duration": 17,
    "start_time": "2021-10-18T20:32:10.256Z"
   },
   {
    "duration": 11,
    "start_time": "2021-10-18T20:34:53.503Z"
   },
   {
    "duration": 17,
    "start_time": "2021-10-18T20:35:18.670Z"
   },
   {
    "duration": 318,
    "start_time": "2021-10-18T20:38:49.579Z"
   },
   {
    "duration": 18,
    "start_time": "2021-10-18T20:38:58.559Z"
   },
   {
    "duration": 29,
    "start_time": "2021-10-18T20:39:20.627Z"
   },
   {
    "duration": 22,
    "start_time": "2021-10-18T20:40:04.832Z"
   },
   {
    "duration": 29,
    "start_time": "2021-10-18T20:40:24.308Z"
   },
   {
    "duration": 1940,
    "start_time": "2021-10-18T20:41:29.696Z"
   },
   {
    "duration": 45,
    "start_time": "2021-10-18T20:41:31.639Z"
   },
   {
    "duration": 52,
    "start_time": "2021-10-18T20:41:31.690Z"
   },
   {
    "duration": 31,
    "start_time": "2021-10-18T20:41:31.745Z"
   },
   {
    "duration": 47,
    "start_time": "2021-10-18T20:41:31.778Z"
   },
   {
    "duration": 40,
    "start_time": "2021-10-18T20:41:31.828Z"
   },
   {
    "duration": 68,
    "start_time": "2021-10-18T20:41:31.870Z"
   },
   {
    "duration": 17,
    "start_time": "2021-10-18T20:41:31.942Z"
   },
   {
    "duration": 25,
    "start_time": "2021-10-18T20:41:31.962Z"
   },
   {
    "duration": 52,
    "start_time": "2021-10-18T20:41:31.990Z"
   },
   {
    "duration": 124,
    "start_time": "2021-10-18T20:41:32.045Z"
   },
   {
    "duration": 31,
    "start_time": "2021-10-18T20:41:32.171Z"
   },
   {
    "duration": 19,
    "start_time": "2021-10-18T20:41:32.205Z"
   },
   {
    "duration": 5,
    "start_time": "2021-10-18T20:41:32.227Z"
   },
   {
    "duration": 113,
    "start_time": "2021-10-18T20:41:32.235Z"
   },
   {
    "duration": 23,
    "start_time": "2021-10-18T20:41:32.351Z"
   },
   {
    "duration": 91,
    "start_time": "2021-10-18T20:41:32.377Z"
   },
   {
    "duration": 21,
    "start_time": "2021-10-18T20:41:32.471Z"
   },
   {
    "duration": 31,
    "start_time": "2021-10-18T20:41:32.495Z"
   },
   {
    "duration": 39,
    "start_time": "2021-10-18T20:41:32.528Z"
   },
   {
    "duration": 17,
    "start_time": "2021-10-18T20:41:32.570Z"
   },
   {
    "duration": 58,
    "start_time": "2021-10-18T20:41:32.589Z"
   },
   {
    "duration": 10,
    "start_time": "2021-10-18T20:41:32.649Z"
   },
   {
    "duration": 66,
    "start_time": "2021-10-18T20:41:32.662Z"
   },
   {
    "duration": 146,
    "start_time": "2021-10-18T20:41:32.731Z"
   },
   {
    "duration": 279,
    "start_time": "2021-10-18T20:41:32.883Z"
   },
   {
    "duration": 4,
    "start_time": "2021-10-18T20:41:33.166Z"
   },
   {
    "duration": 283,
    "start_time": "2021-10-18T20:41:33.173Z"
   },
   {
    "duration": 73,
    "start_time": "2021-10-18T20:41:33.459Z"
   },
   {
    "duration": 53,
    "start_time": "2021-10-18T20:41:33.534Z"
   },
   {
    "duration": 43,
    "start_time": "2021-10-18T20:41:33.589Z"
   },
   {
    "duration": 49,
    "start_time": "2021-10-18T20:41:33.636Z"
   },
   {
    "duration": 154,
    "start_time": "2021-10-18T20:41:33.688Z"
   },
   {
    "duration": 36,
    "start_time": "2021-10-18T20:41:33.845Z"
   },
   {
    "duration": 88,
    "start_time": "2021-10-18T20:41:33.884Z"
   },
   {
    "duration": 21,
    "start_time": "2021-10-18T20:41:33.974Z"
   },
   {
    "duration": 31,
    "start_time": "2021-10-18T20:41:33.997Z"
   },
   {
    "duration": 15,
    "start_time": "2021-10-18T20:41:34.030Z"
   },
   {
    "duration": 4,
    "start_time": "2021-10-18T20:41:34.048Z"
   },
   {
    "duration": 3007,
    "start_time": "2021-10-18T20:41:34.054Z"
   },
   {
    "duration": 24,
    "start_time": "2021-10-18T20:41:37.063Z"
   },
   {
    "duration": 635,
    "start_time": "2021-10-18T20:41:37.089Z"
   },
   {
    "duration": 6,
    "start_time": "2021-10-18T20:41:37.727Z"
   },
   {
    "duration": 35,
    "start_time": "2021-10-18T20:41:37.736Z"
   },
   {
    "duration": 1053,
    "start_time": "2021-10-18T20:41:37.774Z"
   },
   {
    "duration": 29,
    "start_time": "2021-10-18T20:41:38.829Z"
   },
   {
    "duration": 81,
    "start_time": "2021-10-18T20:41:38.860Z"
   },
   {
    "duration": 239,
    "start_time": "2021-10-18T20:41:38.705Z"
   },
   {
    "duration": 233,
    "start_time": "2021-10-18T20:41:38.712Z"
   },
   {
    "duration": 23,
    "start_time": "2021-10-18T20:41:53.887Z"
   },
   {
    "duration": 10,
    "start_time": "2021-10-18T20:42:05.709Z"
   },
   {
    "duration": 395,
    "start_time": "2021-10-18T20:43:05.915Z"
   },
   {
    "duration": 17,
    "start_time": "2021-10-18T20:43:12.868Z"
   },
   {
    "duration": 93,
    "start_time": "2021-10-18T20:46:00.504Z"
   },
   {
    "duration": 88,
    "start_time": "2021-10-18T20:46:26.216Z"
   },
   {
    "duration": 86,
    "start_time": "2021-10-18T20:46:43.811Z"
   },
   {
    "duration": 87,
    "start_time": "2021-10-18T20:46:53.858Z"
   },
   {
    "duration": 1879,
    "start_time": "2021-10-18T20:47:00.738Z"
   },
   {
    "duration": 46,
    "start_time": "2021-10-18T20:47:02.621Z"
   },
   {
    "duration": 62,
    "start_time": "2021-10-18T20:47:02.670Z"
   },
   {
    "duration": 35,
    "start_time": "2021-10-18T20:47:02.735Z"
   },
   {
    "duration": 53,
    "start_time": "2021-10-18T20:47:02.773Z"
   },
   {
    "duration": 43,
    "start_time": "2021-10-18T20:47:02.829Z"
   },
   {
    "duration": 70,
    "start_time": "2021-10-18T20:47:02.875Z"
   },
   {
    "duration": 19,
    "start_time": "2021-10-18T20:47:02.948Z"
   },
   {
    "duration": 52,
    "start_time": "2021-10-18T20:47:02.970Z"
   },
   {
    "duration": 23,
    "start_time": "2021-10-18T20:47:03.025Z"
   },
   {
    "duration": 126,
    "start_time": "2021-10-18T20:47:03.051Z"
   },
   {
    "duration": 50,
    "start_time": "2021-10-18T20:47:03.180Z"
   },
   {
    "duration": 3,
    "start_time": "2021-10-18T20:47:03.233Z"
   },
   {
    "duration": 5,
    "start_time": "2021-10-18T20:47:03.239Z"
   },
   {
    "duration": 122,
    "start_time": "2021-10-18T20:47:03.246Z"
   },
   {
    "duration": 24,
    "start_time": "2021-10-18T20:47:03.371Z"
   },
   {
    "duration": 87,
    "start_time": "2021-10-18T20:47:03.398Z"
   },
   {
    "duration": 43,
    "start_time": "2021-10-18T20:47:03.487Z"
   },
   {
    "duration": 8,
    "start_time": "2021-10-18T20:47:03.533Z"
   },
   {
    "duration": 38,
    "start_time": "2021-10-18T20:47:03.544Z"
   },
   {
    "duration": 50,
    "start_time": "2021-10-18T20:47:03.584Z"
   },
   {
    "duration": 28,
    "start_time": "2021-10-18T20:47:03.636Z"
   },
   {
    "duration": 11,
    "start_time": "2021-10-18T20:47:03.670Z"
   },
   {
    "duration": 64,
    "start_time": "2021-10-18T20:47:03.684Z"
   },
   {
    "duration": 148,
    "start_time": "2021-10-18T20:47:03.750Z"
   },
   {
    "duration": 272,
    "start_time": "2021-10-18T20:47:03.901Z"
   },
   {
    "duration": 3,
    "start_time": "2021-10-18T20:47:04.176Z"
   },
   {
    "duration": 291,
    "start_time": "2021-10-18T20:47:04.181Z"
   },
   {
    "duration": 70,
    "start_time": "2021-10-18T20:47:04.474Z"
   },
   {
    "duration": 52,
    "start_time": "2021-10-18T20:47:04.546Z"
   },
   {
    "duration": 39,
    "start_time": "2021-10-18T20:47:04.600Z"
   },
   {
    "duration": 59,
    "start_time": "2021-10-18T20:47:04.642Z"
   },
   {
    "duration": 145,
    "start_time": "2021-10-18T20:47:04.704Z"
   },
   {
    "duration": 36,
    "start_time": "2021-10-18T20:47:04.851Z"
   },
   {
    "duration": 96,
    "start_time": "2021-10-18T20:47:04.890Z"
   },
   {
    "duration": 21,
    "start_time": "2021-10-18T20:47:04.988Z"
   },
   {
    "duration": 16,
    "start_time": "2021-10-18T20:47:05.023Z"
   },
   {
    "duration": 17,
    "start_time": "2021-10-18T20:47:05.041Z"
   },
   {
    "duration": 4,
    "start_time": "2021-10-18T20:47:05.060Z"
   },
   {
    "duration": 3105,
    "start_time": "2021-10-18T20:47:05.067Z"
   },
   {
    "duration": 26,
    "start_time": "2021-10-18T20:47:08.175Z"
   },
   {
    "duration": 1166,
    "start_time": "2021-10-18T20:47:08.223Z"
   },
   {
    "duration": 7,
    "start_time": "2021-10-18T20:47:09.391Z"
   },
   {
    "duration": 47,
    "start_time": "2021-10-18T20:47:09.400Z"
   },
   {
    "duration": 1095,
    "start_time": "2021-10-18T20:47:09.449Z"
   },
   {
    "duration": 89,
    "start_time": "2021-10-18T20:47:10.547Z"
   },
   {
    "duration": 254,
    "start_time": "2021-10-18T20:47:10.384Z"
   },
   {
    "duration": 255,
    "start_time": "2021-10-18T20:47:10.385Z"
   },
   {
    "duration": 254,
    "start_time": "2021-10-18T20:47:10.388Z"
   },
   {
    "duration": 22,
    "start_time": "2021-10-18T20:47:48.936Z"
   },
   {
    "duration": 16,
    "start_time": "2021-10-18T20:47:50.254Z"
   },
   {
    "duration": 34,
    "start_time": "2021-10-18T20:48:20.832Z"
   },
   {
    "duration": 31,
    "start_time": "2021-10-18T20:48:59.485Z"
   },
   {
    "duration": 44,
    "start_time": "2021-10-18T20:52:22.022Z"
   },
   {
    "duration": 45,
    "start_time": "2021-10-18T20:52:46.048Z"
   },
   {
    "duration": 89,
    "start_time": "2021-10-18T20:57:35.828Z"
   },
   {
    "duration": 1856,
    "start_time": "2021-10-18T20:58:21.928Z"
   },
   {
    "duration": 45,
    "start_time": "2021-10-18T20:58:23.787Z"
   },
   {
    "duration": 40,
    "start_time": "2021-10-18T20:58:23.838Z"
   },
   {
    "duration": 56,
    "start_time": "2021-10-18T20:58:23.880Z"
   },
   {
    "duration": 18,
    "start_time": "2021-10-18T20:58:23.939Z"
   },
   {
    "duration": 74,
    "start_time": "2021-10-18T20:58:23.960Z"
   },
   {
    "duration": 38,
    "start_time": "2021-10-18T20:58:24.038Z"
   },
   {
    "duration": 44,
    "start_time": "2021-10-18T20:58:24.079Z"
   },
   {
    "duration": 26,
    "start_time": "2021-10-18T20:58:24.125Z"
   },
   {
    "duration": 22,
    "start_time": "2021-10-18T20:58:24.154Z"
   },
   {
    "duration": 137,
    "start_time": "2021-10-18T20:58:24.179Z"
   },
   {
    "duration": 33,
    "start_time": "2021-10-18T20:58:24.323Z"
   },
   {
    "duration": 4,
    "start_time": "2021-10-18T20:58:24.358Z"
   },
   {
    "duration": 9,
    "start_time": "2021-10-18T20:58:24.364Z"
   },
   {
    "duration": 117,
    "start_time": "2021-10-18T20:58:24.375Z"
   },
   {
    "duration": 34,
    "start_time": "2021-10-18T20:58:24.495Z"
   },
   {
    "duration": 92,
    "start_time": "2021-10-18T20:58:24.531Z"
   },
   {
    "duration": 25,
    "start_time": "2021-10-18T20:58:24.625Z"
   },
   {
    "duration": 8,
    "start_time": "2021-10-18T20:58:24.652Z"
   },
   {
    "duration": 78,
    "start_time": "2021-10-18T20:58:24.662Z"
   },
   {
    "duration": 17,
    "start_time": "2021-10-18T20:58:24.743Z"
   },
   {
    "duration": 55,
    "start_time": "2021-10-18T20:58:24.767Z"
   },
   {
    "duration": 11,
    "start_time": "2021-10-18T20:58:24.825Z"
   },
   {
    "duration": 37,
    "start_time": "2021-10-18T20:58:24.838Z"
   },
   {
    "duration": 171,
    "start_time": "2021-10-18T20:58:24.878Z"
   },
   {
    "duration": 266,
    "start_time": "2021-10-18T20:58:25.052Z"
   },
   {
    "duration": 4,
    "start_time": "2021-10-18T20:58:25.319Z"
   },
   {
    "duration": 279,
    "start_time": "2021-10-18T20:58:25.325Z"
   },
   {
    "duration": 61,
    "start_time": "2021-10-18T20:58:25.607Z"
   },
   {
    "duration": 61,
    "start_time": "2021-10-18T20:58:25.670Z"
   },
   {
    "duration": 21,
    "start_time": "2021-10-18T20:58:25.733Z"
   },
   {
    "duration": 71,
    "start_time": "2021-10-18T20:58:25.758Z"
   },
   {
    "duration": 152,
    "start_time": "2021-10-18T20:58:25.832Z"
   },
   {
    "duration": 52,
    "start_time": "2021-10-18T20:58:25.986Z"
   },
   {
    "duration": 90,
    "start_time": "2021-10-18T20:58:26.041Z"
   },
   {
    "duration": 21,
    "start_time": "2021-10-18T20:58:26.134Z"
   },
   {
    "duration": 17,
    "start_time": "2021-10-18T20:58:26.159Z"
   },
   {
    "duration": 49,
    "start_time": "2021-10-18T20:58:26.178Z"
   },
   {
    "duration": 4,
    "start_time": "2021-10-18T20:58:26.230Z"
   },
   {
    "duration": 3106,
    "start_time": "2021-10-18T20:58:26.237Z"
   },
   {
    "duration": 30,
    "start_time": "2021-10-18T20:58:29.346Z"
   },
   {
    "duration": 650,
    "start_time": "2021-10-18T20:58:29.380Z"
   },
   {
    "duration": 7,
    "start_time": "2021-10-18T20:58:30.034Z"
   },
   {
    "duration": 32,
    "start_time": "2021-10-18T20:58:30.045Z"
   },
   {
    "duration": 1489,
    "start_time": "2021-10-18T20:58:30.080Z"
   },
   {
    "duration": 60,
    "start_time": "2021-10-18T20:58:31.572Z"
   },
   {
    "duration": 46,
    "start_time": "2021-10-18T20:58:31.635Z"
   },
   {
    "duration": 51,
    "start_time": "2021-10-18T21:02:22.610Z"
   },
   {
    "duration": 412,
    "start_time": "2021-10-18T21:09:39.537Z"
   },
   {
    "duration": 324,
    "start_time": "2021-10-18T21:09:53.103Z"
   },
   {
    "duration": 2371,
    "start_time": "2021-10-18T21:19:42.432Z"
   },
   {
    "duration": 2235,
    "start_time": "2021-10-18T21:20:10.753Z"
   },
   {
    "duration": 2593,
    "start_time": "2021-10-18T21:20:18.213Z"
   },
   {
    "duration": 2370,
    "start_time": "2021-10-18T21:20:57.398Z"
   },
   {
    "duration": 2581,
    "start_time": "2021-10-18T21:21:04.293Z"
   },
   {
    "duration": 1832,
    "start_time": "2021-10-18T21:21:15.684Z"
   },
   {
    "duration": 513,
    "start_time": "2021-10-18T21:26:22.963Z"
   },
   {
    "duration": 380,
    "start_time": "2021-10-18T21:26:34.651Z"
   },
   {
    "duration": 204,
    "start_time": "2021-10-18T21:26:46.766Z"
   },
   {
    "duration": 319,
    "start_time": "2021-10-18T21:26:55.678Z"
   },
   {
    "duration": 218,
    "start_time": "2021-10-18T21:27:01.483Z"
   },
   {
    "duration": 220,
    "start_time": "2021-10-18T21:27:09.736Z"
   },
   {
    "duration": 1920,
    "start_time": "2021-10-18T21:29:43.094Z"
   },
   {
    "duration": 72021,
    "start_time": "2021-10-18T21:32:57.866Z"
   },
   {
    "duration": 533,
    "start_time": "2021-10-18T21:35:20.265Z"
   },
   {
    "duration": 549,
    "start_time": "2021-10-18T21:35:32.757Z"
   },
   {
    "duration": 332,
    "start_time": "2021-10-18T21:35:46.293Z"
   },
   {
    "duration": 318,
    "start_time": "2021-10-18T21:35:54.389Z"
   },
   {
    "duration": 317,
    "start_time": "2021-10-18T21:36:09.061Z"
   },
   {
    "duration": 351,
    "start_time": "2021-10-18T21:36:31.381Z"
   },
   {
    "duration": 4079,
    "start_time": "2021-10-18T21:37:12.320Z"
   },
   {
    "duration": 448,
    "start_time": "2021-10-18T21:37:45.208Z"
   },
   {
    "duration": 342,
    "start_time": "2021-10-18T21:38:05.292Z"
   },
   {
    "duration": 4,
    "start_time": "2021-10-18T21:38:35.458Z"
   },
   {
    "duration": 3,
    "start_time": "2021-10-18T21:38:37.807Z"
   },
   {
    "duration": 352,
    "start_time": "2021-10-18T21:40:00.196Z"
   },
   {
    "duration": 351,
    "start_time": "2021-10-18T21:40:43.216Z"
   },
   {
    "duration": 365,
    "start_time": "2021-10-18T21:41:11.409Z"
   },
   {
    "duration": 100,
    "start_time": "2021-10-18T21:42:32.629Z"
   },
   {
    "duration": 63,
    "start_time": "2021-10-18T21:42:48.203Z"
   },
   {
    "duration": 350,
    "start_time": "2021-10-18T21:45:08.978Z"
   },
   {
    "duration": 602,
    "start_time": "2021-10-18T21:45:24.613Z"
   },
   {
    "duration": 571,
    "start_time": "2021-10-18T21:45:36.132Z"
   },
   {
    "duration": 345,
    "start_time": "2021-10-18T21:45:46.475Z"
   },
   {
    "duration": 338,
    "start_time": "2021-10-18T21:48:06.744Z"
   },
   {
    "duration": 2075,
    "start_time": "2021-10-18T22:02:34.673Z"
   },
   {
    "duration": 47,
    "start_time": "2021-10-18T22:02:36.750Z"
   },
   {
    "duration": 41,
    "start_time": "2021-10-18T22:02:36.800Z"
   },
   {
    "duration": 29,
    "start_time": "2021-10-18T22:02:36.844Z"
   },
   {
    "duration": 48,
    "start_time": "2021-10-18T22:02:36.875Z"
   },
   {
    "duration": 40,
    "start_time": "2021-10-18T22:02:36.926Z"
   },
   {
    "duration": 63,
    "start_time": "2021-10-18T22:02:36.968Z"
   },
   {
    "duration": 19,
    "start_time": "2021-10-18T22:02:37.035Z"
   },
   {
    "duration": 26,
    "start_time": "2021-10-18T22:02:37.057Z"
   },
   {
    "duration": 54,
    "start_time": "2021-10-18T22:02:37.086Z"
   },
   {
    "duration": 126,
    "start_time": "2021-10-18T22:02:37.143Z"
   },
   {
    "duration": 68,
    "start_time": "2021-10-18T22:02:37.272Z"
   },
   {
    "duration": 3,
    "start_time": "2021-10-18T22:02:37.343Z"
   },
   {
    "duration": 6,
    "start_time": "2021-10-18T22:02:37.348Z"
   },
   {
    "duration": 121,
    "start_time": "2021-10-18T22:02:37.356Z"
   },
   {
    "duration": 44,
    "start_time": "2021-10-18T22:02:37.480Z"
   },
   {
    "duration": 69,
    "start_time": "2021-10-18T22:02:37.526Z"
   },
   {
    "duration": 44,
    "start_time": "2021-10-18T22:02:37.598Z"
   },
   {
    "duration": 9,
    "start_time": "2021-10-18T22:02:37.644Z"
   },
   {
    "duration": 83,
    "start_time": "2021-10-18T22:02:37.656Z"
   },
   {
    "duration": 20,
    "start_time": "2021-10-18T22:02:37.742Z"
   },
   {
    "duration": 68,
    "start_time": "2021-10-18T22:02:37.766Z"
   },
   {
    "duration": 14,
    "start_time": "2021-10-18T22:02:37.844Z"
   },
   {
    "duration": 81,
    "start_time": "2021-10-18T22:02:37.863Z"
   },
   {
    "duration": 183,
    "start_time": "2021-10-18T22:02:37.947Z"
   },
   {
    "duration": 346,
    "start_time": "2021-10-18T22:02:38.133Z"
   },
   {
    "duration": 4,
    "start_time": "2021-10-18T22:02:38.483Z"
   },
   {
    "duration": 432,
    "start_time": "2021-10-18T22:02:38.490Z"
   },
   {
    "duration": 69,
    "start_time": "2021-10-18T22:02:38.925Z"
   },
   {
    "duration": 87,
    "start_time": "2021-10-18T22:02:38.997Z"
   },
   {
    "duration": 47,
    "start_time": "2021-10-18T22:02:39.087Z"
   },
   {
    "duration": 68,
    "start_time": "2021-10-18T22:02:39.137Z"
   },
   {
    "duration": 222,
    "start_time": "2021-10-18T22:02:39.208Z"
   },
   {
    "duration": 54,
    "start_time": "2021-10-18T22:02:39.434Z"
   },
   {
    "duration": 90,
    "start_time": "2021-10-18T22:02:39.491Z"
   },
   {
    "duration": 22,
    "start_time": "2021-10-18T22:02:39.583Z"
   },
   {
    "duration": 16,
    "start_time": "2021-10-18T22:02:39.622Z"
   },
   {
    "duration": 17,
    "start_time": "2021-10-18T22:02:39.641Z"
   },
   {
    "duration": 3,
    "start_time": "2021-10-18T22:02:39.661Z"
   },
   {
    "duration": 3292,
    "start_time": "2021-10-18T22:02:39.667Z"
   },
   {
    "duration": 25,
    "start_time": "2021-10-18T22:02:42.962Z"
   },
   {
    "duration": 635,
    "start_time": "2021-10-18T22:02:42.990Z"
   },
   {
    "duration": 6,
    "start_time": "2021-10-18T22:02:43.628Z"
   },
   {
    "duration": 29,
    "start_time": "2021-10-18T22:02:43.637Z"
   },
   {
    "duration": 1087,
    "start_time": "2021-10-18T22:02:43.668Z"
   },
   {
    "duration": 44,
    "start_time": "2021-10-18T22:02:44.757Z"
   },
   {
    "duration": 44,
    "start_time": "2021-10-18T22:02:44.823Z"
   },
   {
    "duration": 90,
    "start_time": "2021-10-18T22:02:44.869Z"
   },
   {
    "duration": 385,
    "start_time": "2021-10-18T22:02:44.961Z"
   },
   {
    "duration": 86,
    "start_time": "2021-10-18T22:02:45.348Z"
   },
   {
    "duration": 297,
    "start_time": "2021-10-18T22:02:45.139Z"
   },
   {
    "duration": 297,
    "start_time": "2021-10-18T22:02:45.141Z"
   },
   {
    "duration": 284,
    "start_time": "2021-10-18T22:02:45.155Z"
   },
   {
    "duration": 284,
    "start_time": "2021-10-18T22:02:45.157Z"
   },
   {
    "duration": 349,
    "start_time": "2021-10-18T22:03:43.532Z"
   },
   {
    "duration": 358,
    "start_time": "2021-10-18T22:03:49.002Z"
   },
   {
    "duration": 3,
    "start_time": "2021-10-18T22:08:32.059Z"
   },
   {
    "duration": 7,
    "start_time": "2021-10-18T22:20:33.803Z"
   },
   {
    "duration": 3,
    "start_time": "2021-10-18T22:28:23.749Z"
   },
   {
    "duration": 1879,
    "start_time": "2021-10-18T22:31:44.822Z"
   },
   {
    "duration": 47,
    "start_time": "2021-10-18T22:31:46.705Z"
   },
   {
    "duration": 39,
    "start_time": "2021-10-18T22:31:46.755Z"
   },
   {
    "duration": 48,
    "start_time": "2021-10-18T22:31:46.797Z"
   },
   {
    "duration": 19,
    "start_time": "2021-10-18T22:31:46.847Z"
   },
   {
    "duration": 69,
    "start_time": "2021-10-18T22:31:46.869Z"
   },
   {
    "duration": 42,
    "start_time": "2021-10-18T22:31:46.940Z"
   },
   {
    "duration": 47,
    "start_time": "2021-10-18T22:31:46.986Z"
   },
   {
    "duration": 26,
    "start_time": "2021-10-18T22:31:47.036Z"
   },
   {
    "duration": 23,
    "start_time": "2021-10-18T22:31:47.065Z"
   },
   {
    "duration": 119,
    "start_time": "2021-10-18T22:31:47.124Z"
   },
   {
    "duration": 34,
    "start_time": "2021-10-18T22:31:47.247Z"
   },
   {
    "duration": 3,
    "start_time": "2021-10-18T22:31:47.283Z"
   },
   {
    "duration": 34,
    "start_time": "2021-10-18T22:31:47.288Z"
   },
   {
    "duration": 113,
    "start_time": "2021-10-18T22:31:47.325Z"
   },
   {
    "duration": 23,
    "start_time": "2021-10-18T22:31:47.441Z"
   },
   {
    "duration": 96,
    "start_time": "2021-10-18T22:31:47.467Z"
   },
   {
    "duration": 22,
    "start_time": "2021-10-18T22:31:47.565Z"
   },
   {
    "duration": 38,
    "start_time": "2021-10-18T22:31:47.589Z"
   },
   {
    "duration": 39,
    "start_time": "2021-10-18T22:31:47.630Z"
   },
   {
    "duration": 16,
    "start_time": "2021-10-18T22:31:47.672Z"
   },
   {
    "duration": 28,
    "start_time": "2021-10-18T22:31:47.723Z"
   },
   {
    "duration": 9,
    "start_time": "2021-10-18T22:31:47.759Z"
   },
   {
    "duration": 75,
    "start_time": "2021-10-18T22:31:47.773Z"
   },
   {
    "duration": 147,
    "start_time": "2021-10-18T22:31:47.850Z"
   },
   {
    "duration": 272,
    "start_time": "2021-10-18T22:31:47.999Z"
   },
   {
    "duration": 3,
    "start_time": "2021-10-18T22:31:48.274Z"
   },
   {
    "duration": 288,
    "start_time": "2021-10-18T22:31:48.280Z"
   },
   {
    "duration": 69,
    "start_time": "2021-10-18T22:31:48.570Z"
   },
   {
    "duration": 52,
    "start_time": "2021-10-18T22:31:48.641Z"
   },
   {
    "duration": 39,
    "start_time": "2021-10-18T22:31:48.695Z"
   },
   {
    "duration": 45,
    "start_time": "2021-10-18T22:31:48.736Z"
   },
   {
    "duration": 163,
    "start_time": "2021-10-18T22:31:48.783Z"
   },
   {
    "duration": 34,
    "start_time": "2021-10-18T22:31:48.949Z"
   },
   {
    "duration": 90,
    "start_time": "2021-10-18T22:31:48.985Z"
   },
   {
    "duration": 19,
    "start_time": "2021-10-18T22:31:49.078Z"
   },
   {
    "duration": 36,
    "start_time": "2021-10-18T22:31:49.100Z"
   },
   {
    "duration": 15,
    "start_time": "2021-10-18T22:31:49.138Z"
   },
   {
    "duration": 3,
    "start_time": "2021-10-18T22:31:49.155Z"
   },
   {
    "duration": 3081,
    "start_time": "2021-10-18T22:31:49.161Z"
   },
   {
    "duration": 78,
    "start_time": "2021-10-18T22:31:52.244Z"
   },
   {
    "duration": 1392,
    "start_time": "2021-10-18T22:31:52.325Z"
   },
   {
    "duration": 7,
    "start_time": "2021-10-18T22:31:53.723Z"
   },
   {
    "duration": 33,
    "start_time": "2021-10-18T22:31:53.733Z"
   },
   {
    "duration": 1719,
    "start_time": "2021-10-18T22:31:53.769Z"
   },
   {
    "duration": 60,
    "start_time": "2021-10-18T22:31:55.491Z"
   },
   {
    "duration": 42,
    "start_time": "2021-10-18T22:31:55.554Z"
   },
   {
    "duration": 62,
    "start_time": "2021-10-18T22:31:55.623Z"
   },
   {
    "duration": 413,
    "start_time": "2021-10-18T22:31:55.687Z"
   },
   {
    "duration": 375,
    "start_time": "2021-10-18T22:31:56.102Z"
   },
   {
    "duration": 397,
    "start_time": "2021-10-18T22:31:56.479Z"
   },
   {
    "duration": 563,
    "start_time": "2021-10-18T22:31:56.878Z"
   },
   {
    "duration": 8,
    "start_time": "2021-10-18T22:31:57.444Z"
   },
   {
    "duration": 3577,
    "start_time": "2021-10-18T22:31:57.455Z"
   },
   {
    "duration": 8,
    "start_time": "2021-10-18T22:32:01.035Z"
   },
   {
    "duration": 5167,
    "start_time": "2021-10-18T22:32:23.573Z"
   },
   {
    "duration": 432,
    "start_time": "2021-10-18T22:34:15.171Z"
   },
   {
    "duration": 48,
    "start_time": "2021-10-18T22:34:54.241Z"
   },
   {
    "duration": 3144,
    "start_time": "2021-10-18T22:36:10.011Z"
   },
   {
    "duration": 16,
    "start_time": "2021-10-18T22:36:26.566Z"
   },
   {
    "duration": 29,
    "start_time": "2021-10-18T22:36:43.068Z"
   },
   {
    "duration": 8,
    "start_time": "2021-10-18T22:37:43.278Z"
   },
   {
    "duration": 35,
    "start_time": "2021-10-18T22:38:03.051Z"
   },
   {
    "duration": 61,
    "start_time": "2021-10-18T22:38:45.488Z"
   },
   {
    "duration": 25,
    "start_time": "2021-10-18T22:41:31.749Z"
   },
   {
    "duration": 27,
    "start_time": "2021-10-18T22:41:47.250Z"
   },
   {
    "duration": 27,
    "start_time": "2021-10-18T22:42:38.620Z"
   },
   {
    "duration": 96,
    "start_time": "2021-10-18T22:43:32.216Z"
   },
   {
    "duration": 293,
    "start_time": "2021-10-18T22:43:44.717Z"
   },
   {
    "duration": 28,
    "start_time": "2021-10-18T22:44:05.283Z"
   },
   {
    "duration": 8,
    "start_time": "2021-10-18T22:46:11.597Z"
   },
   {
    "duration": 7,
    "start_time": "2021-10-18T22:46:31.097Z"
   },
   {
    "duration": 10,
    "start_time": "2021-10-18T22:46:47.071Z"
   },
   {
    "duration": 294,
    "start_time": "2021-10-18T22:48:10.233Z"
   },
   {
    "duration": 64,
    "start_time": "2021-10-18T22:48:18.479Z"
   },
   {
    "duration": 1841,
    "start_time": "2021-10-18T22:48:45.740Z"
   },
   {
    "duration": 46,
    "start_time": "2021-10-18T22:48:47.584Z"
   },
   {
    "duration": 43,
    "start_time": "2021-10-18T22:48:47.633Z"
   },
   {
    "duration": 52,
    "start_time": "2021-10-18T22:48:47.679Z"
   },
   {
    "duration": 19,
    "start_time": "2021-10-18T22:48:47.733Z"
   },
   {
    "duration": 78,
    "start_time": "2021-10-18T22:48:47.754Z"
   },
   {
    "duration": 43,
    "start_time": "2021-10-18T22:48:47.835Z"
   },
   {
    "duration": 49,
    "start_time": "2021-10-18T22:48:47.883Z"
   },
   {
    "duration": 27,
    "start_time": "2021-10-18T22:48:47.935Z"
   },
   {
    "duration": 58,
    "start_time": "2021-10-18T22:48:47.965Z"
   },
   {
    "duration": 118,
    "start_time": "2021-10-18T22:48:48.026Z"
   },
   {
    "duration": 31,
    "start_time": "2021-10-18T22:48:48.147Z"
   },
   {
    "duration": 3,
    "start_time": "2021-10-18T22:48:48.180Z"
   },
   {
    "duration": 5,
    "start_time": "2021-10-18T22:48:48.186Z"
   },
   {
    "duration": 117,
    "start_time": "2021-10-18T22:48:48.193Z"
   },
   {
    "duration": 32,
    "start_time": "2021-10-18T22:48:48.312Z"
   },
   {
    "duration": 95,
    "start_time": "2021-10-18T22:48:48.347Z"
   },
   {
    "duration": 22,
    "start_time": "2021-10-18T22:48:48.444Z"
   },
   {
    "duration": 9,
    "start_time": "2021-10-18T22:48:48.469Z"
   },
   {
    "duration": 74,
    "start_time": "2021-10-18T22:48:48.481Z"
   },
   {
    "duration": 16,
    "start_time": "2021-10-18T22:48:48.558Z"
   },
   {
    "duration": 52,
    "start_time": "2021-10-18T22:48:48.577Z"
   },
   {
    "duration": 11,
    "start_time": "2021-10-18T22:48:48.635Z"
   },
   {
    "duration": 34,
    "start_time": "2021-10-18T22:48:48.649Z"
   },
   {
    "duration": 166,
    "start_time": "2021-10-18T22:48:48.686Z"
   },
   {
    "duration": 275,
    "start_time": "2021-10-18T22:48:48.854Z"
   },
   {
    "duration": 4,
    "start_time": "2021-10-18T22:48:49.132Z"
   },
   {
    "duration": 286,
    "start_time": "2021-10-18T22:48:49.138Z"
   },
   {
    "duration": 52,
    "start_time": "2021-10-18T22:48:49.426Z"
   },
   {
    "duration": 70,
    "start_time": "2021-10-18T22:48:49.481Z"
   },
   {
    "duration": 20,
    "start_time": "2021-10-18T22:48:49.554Z"
   },
   {
    "duration": 64,
    "start_time": "2021-10-18T22:48:49.577Z"
   },
   {
    "duration": 137,
    "start_time": "2021-10-18T22:48:49.644Z"
   },
   {
    "duration": 45,
    "start_time": "2021-10-18T22:48:49.783Z"
   },
   {
    "duration": 71,
    "start_time": "2021-10-18T22:48:49.830Z"
   },
   {
    "duration": 39,
    "start_time": "2021-10-18T22:48:49.904Z"
   },
   {
    "duration": 16,
    "start_time": "2021-10-18T22:48:49.945Z"
   },
   {
    "duration": 14,
    "start_time": "2021-10-18T22:48:49.963Z"
   },
   {
    "duration": 3,
    "start_time": "2021-10-18T22:48:49.979Z"
   },
   {
    "duration": 3062,
    "start_time": "2021-10-18T22:48:50.023Z"
   },
   {
    "duration": 37,
    "start_time": "2021-10-18T22:48:53.088Z"
   },
   {
    "duration": 594,
    "start_time": "2021-10-18T22:48:53.128Z"
   },
   {
    "duration": 7,
    "start_time": "2021-10-18T22:48:53.725Z"
   },
   {
    "duration": 29,
    "start_time": "2021-10-18T22:48:53.735Z"
   },
   {
    "duration": 1099,
    "start_time": "2021-10-18T22:48:53.766Z"
   },
   {
    "duration": 62,
    "start_time": "2021-10-18T22:48:54.868Z"
   },
   {
    "duration": 42,
    "start_time": "2021-10-18T22:48:54.933Z"
   },
   {
    "duration": 98,
    "start_time": "2021-10-18T22:48:54.978Z"
   },
   {
    "duration": 368,
    "start_time": "2021-10-18T22:48:55.079Z"
   },
   {
    "duration": 368,
    "start_time": "2021-10-18T22:48:55.449Z"
   },
   {
    "duration": 466,
    "start_time": "2021-10-18T22:48:55.822Z"
   },
   {
    "duration": 366,
    "start_time": "2021-10-18T22:48:56.291Z"
   },
   {
    "duration": 27,
    "start_time": "2021-10-18T22:48:56.660Z"
   },
   {
    "duration": 33,
    "start_time": "2021-10-18T22:48:56.689Z"
   },
   {
    "duration": 6,
    "start_time": "2021-10-18T22:48:56.725Z"
   },
   {
    "duration": 15,
    "start_time": "2021-10-18T22:48:56.734Z"
   },
   {
    "duration": 3671,
    "start_time": "2021-10-18T22:48:56.751Z"
   },
   {
    "duration": 32,
    "start_time": "2021-10-18T22:49:00.425Z"
   },
   {
    "duration": 94,
    "start_time": "2021-10-18T22:49:00.460Z"
   },
   {
    "duration": 7,
    "start_time": "2021-10-18T22:49:00.556Z"
   },
   {
    "duration": 322,
    "start_time": "2021-10-18T22:50:17.706Z"
   },
   {
    "duration": 7440,
    "start_time": "2021-10-18T22:50:29.021Z"
   },
   {
    "duration": 6877,
    "start_time": "2021-10-18T22:50:43.409Z"
   },
   {
    "duration": 7098,
    "start_time": "2021-10-18T22:51:31.671Z"
   },
   {
    "duration": 6769,
    "start_time": "2021-10-18T22:52:07.661Z"
   },
   {
    "duration": 8,
    "start_time": "2021-10-18T22:52:36.882Z"
   },
   {
    "duration": 17,
    "start_time": "2021-10-18T22:53:50.778Z"
   },
   {
    "duration": 1876,
    "start_time": "2021-10-18T22:55:15.718Z"
   },
   {
    "duration": 44,
    "start_time": "2021-10-18T22:55:17.596Z"
   },
   {
    "duration": 43,
    "start_time": "2021-10-18T22:55:17.646Z"
   },
   {
    "duration": 51,
    "start_time": "2021-10-18T22:55:17.691Z"
   },
   {
    "duration": 18,
    "start_time": "2021-10-18T22:55:17.744Z"
   },
   {
    "duration": 76,
    "start_time": "2021-10-18T22:55:17.765Z"
   },
   {
    "duration": 40,
    "start_time": "2021-10-18T22:55:17.845Z"
   },
   {
    "duration": 48,
    "start_time": "2021-10-18T22:55:17.888Z"
   },
   {
    "duration": 28,
    "start_time": "2021-10-18T22:55:17.938Z"
   },
   {
    "duration": 62,
    "start_time": "2021-10-18T22:55:17.969Z"
   },
   {
    "duration": 120,
    "start_time": "2021-10-18T22:55:18.033Z"
   },
   {
    "duration": 32,
    "start_time": "2021-10-18T22:55:18.155Z"
   },
   {
    "duration": 3,
    "start_time": "2021-10-18T22:55:18.190Z"
   },
   {
    "duration": 29,
    "start_time": "2021-10-18T22:55:18.195Z"
   },
   {
    "duration": 105,
    "start_time": "2021-10-18T22:55:18.227Z"
   },
   {
    "duration": 24,
    "start_time": "2021-10-18T22:55:18.334Z"
   },
   {
    "duration": 92,
    "start_time": "2021-10-18T22:55:18.360Z"
   },
   {
    "duration": 20,
    "start_time": "2021-10-18T22:55:18.454Z"
   },
   {
    "duration": 8,
    "start_time": "2021-10-18T22:55:18.477Z"
   },
   {
    "duration": 69,
    "start_time": "2021-10-18T22:55:18.487Z"
   },
   {
    "duration": 15,
    "start_time": "2021-10-18T22:55:18.558Z"
   },
   {
    "duration": 56,
    "start_time": "2021-10-18T22:55:18.579Z"
   },
   {
    "duration": 10,
    "start_time": "2021-10-18T22:55:18.639Z"
   },
   {
    "duration": 38,
    "start_time": "2021-10-18T22:55:18.651Z"
   },
   {
    "duration": 171,
    "start_time": "2021-10-18T22:55:18.691Z"
   },
   {
    "duration": 273,
    "start_time": "2021-10-18T22:55:18.865Z"
   },
   {
    "duration": 4,
    "start_time": "2021-10-18T22:55:19.140Z"
   },
   {
    "duration": 293,
    "start_time": "2021-10-18T22:55:19.147Z"
   },
   {
    "duration": 55,
    "start_time": "2021-10-18T22:55:19.443Z"
   },
   {
    "duration": 69,
    "start_time": "2021-10-18T22:55:19.501Z"
   },
   {
    "duration": 21,
    "start_time": "2021-10-18T22:55:19.573Z"
   },
   {
    "duration": 49,
    "start_time": "2021-10-18T22:55:19.624Z"
   },
   {
    "duration": 180,
    "start_time": "2021-10-18T22:55:19.676Z"
   },
   {
    "duration": 37,
    "start_time": "2021-10-18T22:55:19.858Z"
   },
   {
    "duration": 93,
    "start_time": "2021-10-18T22:55:19.898Z"
   },
   {
    "duration": 36,
    "start_time": "2021-10-18T22:55:19.994Z"
   },
   {
    "duration": 14,
    "start_time": "2021-10-18T22:55:20.033Z"
   },
   {
    "duration": 14,
    "start_time": "2021-10-18T22:55:20.050Z"
   },
   {
    "duration": 3,
    "start_time": "2021-10-18T22:55:20.067Z"
   },
   {
    "duration": 3131,
    "start_time": "2021-10-18T22:55:20.072Z"
   },
   {
    "duration": 36,
    "start_time": "2021-10-18T22:55:23.206Z"
   },
   {
    "duration": 624,
    "start_time": "2021-10-18T22:55:23.244Z"
   },
   {
    "duration": 6,
    "start_time": "2021-10-18T22:55:23.871Z"
   },
   {
    "duration": 54,
    "start_time": "2021-10-18T22:55:23.880Z"
   },
   {
    "duration": 1080,
    "start_time": "2021-10-18T22:55:23.936Z"
   },
   {
    "duration": 47,
    "start_time": "2021-10-18T22:55:25.023Z"
   },
   {
    "duration": 77,
    "start_time": "2021-10-18T22:55:25.073Z"
   },
   {
    "duration": 86,
    "start_time": "2021-10-18T22:55:25.153Z"
   },
   {
    "duration": 382,
    "start_time": "2021-10-18T22:55:25.243Z"
   },
   {
    "duration": 373,
    "start_time": "2021-10-18T22:55:25.627Z"
   },
   {
    "duration": 384,
    "start_time": "2021-10-18T22:55:26.002Z"
   },
   {
    "duration": 372,
    "start_time": "2021-10-18T22:55:26.388Z"
   },
   {
    "duration": 389,
    "start_time": "2021-10-18T22:55:26.762Z"
   },
   {
    "duration": 321,
    "start_time": "2021-10-18T22:55:26.832Z"
   },
   {
    "duration": 317,
    "start_time": "2021-10-18T22:55:26.838Z"
   },
   {
    "duration": 315,
    "start_time": "2021-10-18T22:55:26.841Z"
   },
   {
    "duration": 315,
    "start_time": "2021-10-18T22:55:26.843Z"
   },
   {
    "duration": 7,
    "start_time": "2021-10-18T22:56:05.002Z"
   },
   {
    "duration": 3165,
    "start_time": "2021-10-18T22:56:14.043Z"
   },
   {
    "duration": 33,
    "start_time": "2021-10-18T22:56:17.985Z"
   },
   {
    "duration": 64,
    "start_time": "2021-10-18T22:56:20.474Z"
   },
   {
    "duration": 33,
    "start_time": "2021-10-18T22:57:38.243Z"
   },
   {
    "duration": 7,
    "start_time": "2021-10-18T22:57:52.707Z"
   },
   {
    "duration": 40,
    "start_time": "2021-10-18T22:58:25.867Z"
   },
   {
    "duration": 7,
    "start_time": "2021-10-18T22:58:33.132Z"
   },
   {
    "duration": 3,
    "start_time": "2021-10-18T22:58:54.534Z"
   },
   {
    "duration": 12,
    "start_time": "2021-10-18T22:59:25.894Z"
   },
   {
    "duration": 40,
    "start_time": "2021-10-18T22:59:32.105Z"
   },
   {
    "duration": 8,
    "start_time": "2021-10-18T22:59:33.508Z"
   },
   {
    "duration": 1921,
    "start_time": "2021-10-18T23:05:29.313Z"
   },
   {
    "duration": 46,
    "start_time": "2021-10-18T23:05:31.237Z"
   },
   {
    "duration": 55,
    "start_time": "2021-10-18T23:05:31.286Z"
   },
   {
    "duration": 29,
    "start_time": "2021-10-18T23:05:31.343Z"
   },
   {
    "duration": 17,
    "start_time": "2021-10-18T23:05:31.375Z"
   },
   {
    "duration": 40,
    "start_time": "2021-10-18T23:05:31.422Z"
   },
   {
    "duration": 62,
    "start_time": "2021-10-18T23:05:31.465Z"
   },
   {
    "duration": 17,
    "start_time": "2021-10-18T23:05:31.531Z"
   },
   {
    "duration": 34,
    "start_time": "2021-10-18T23:05:31.551Z"
   },
   {
    "duration": 50,
    "start_time": "2021-10-18T23:05:31.588Z"
   },
   {
    "duration": 127,
    "start_time": "2021-10-18T23:05:31.641Z"
   },
   {
    "duration": 51,
    "start_time": "2021-10-18T23:05:31.771Z"
   },
   {
    "duration": 4,
    "start_time": "2021-10-18T23:05:31.825Z"
   },
   {
    "duration": 16,
    "start_time": "2021-10-18T23:05:31.832Z"
   },
   {
    "duration": 111,
    "start_time": "2021-10-18T23:05:31.851Z"
   },
   {
    "duration": 27,
    "start_time": "2021-10-18T23:05:31.965Z"
   },
   {
    "duration": 95,
    "start_time": "2021-10-18T23:05:31.994Z"
   },
   {
    "duration": 42,
    "start_time": "2021-10-18T23:05:32.092Z"
   },
   {
    "duration": 18,
    "start_time": "2021-10-18T23:05:32.137Z"
   },
   {
    "duration": 51,
    "start_time": "2021-10-18T23:05:32.158Z"
   },
   {
    "duration": 15,
    "start_time": "2021-10-18T23:05:32.222Z"
   },
   {
    "duration": 25,
    "start_time": "2021-10-18T23:05:32.239Z"
   },
   {
    "duration": 14,
    "start_time": "2021-10-18T23:05:32.270Z"
   },
   {
    "duration": 63,
    "start_time": "2021-10-18T23:05:32.288Z"
   },
   {
    "duration": 141,
    "start_time": "2021-10-18T23:05:32.353Z"
   },
   {
    "duration": 264,
    "start_time": "2021-10-18T23:05:32.496Z"
   },
   {
    "duration": 3,
    "start_time": "2021-10-18T23:05:32.763Z"
   },
   {
    "duration": 339,
    "start_time": "2021-10-18T23:05:32.769Z"
   },
   {
    "duration": 64,
    "start_time": "2021-10-18T23:05:33.110Z"
   },
   {
    "duration": 67,
    "start_time": "2021-10-18T23:05:33.177Z"
   },
   {
    "duration": 20,
    "start_time": "2021-10-18T23:05:33.246Z"
   },
   {
    "duration": 68,
    "start_time": "2021-10-18T23:05:33.268Z"
   },
   {
    "duration": 140,
    "start_time": "2021-10-18T23:05:33.339Z"
   },
   {
    "duration": 48,
    "start_time": "2021-10-18T23:05:33.482Z"
   },
   {
    "duration": 68,
    "start_time": "2021-10-18T23:05:33.532Z"
   },
   {
    "duration": 39,
    "start_time": "2021-10-18T23:05:33.602Z"
   },
   {
    "duration": 19,
    "start_time": "2021-10-18T23:05:33.643Z"
   },
   {
    "duration": 16,
    "start_time": "2021-10-18T23:05:33.664Z"
   },
   {
    "duration": 3,
    "start_time": "2021-10-18T23:05:33.682Z"
   },
   {
    "duration": 3093,
    "start_time": "2021-10-18T23:05:33.687Z"
   },
   {
    "duration": 23,
    "start_time": "2021-10-18T23:05:36.783Z"
   },
   {
    "duration": 612,
    "start_time": "2021-10-18T23:05:36.823Z"
   },
   {
    "duration": 7,
    "start_time": "2021-10-18T23:05:37.437Z"
   },
   {
    "duration": 30,
    "start_time": "2021-10-18T23:05:37.446Z"
   },
   {
    "duration": 1072,
    "start_time": "2021-10-18T23:05:37.478Z"
   },
   {
    "duration": 45,
    "start_time": "2021-10-18T23:05:38.553Z"
   },
   {
    "duration": 68,
    "start_time": "2021-10-18T23:05:38.600Z"
   },
   {
    "duration": 94,
    "start_time": "2021-10-18T23:05:38.671Z"
   },
   {
    "duration": 374,
    "start_time": "2021-10-18T23:05:38.768Z"
   },
   {
    "duration": 364,
    "start_time": "2021-10-18T23:05:39.145Z"
   },
   {
    "duration": 370,
    "start_time": "2021-10-18T23:05:39.512Z"
   },
   {
    "duration": 357,
    "start_time": "2021-10-18T23:05:39.884Z"
   },
   {
    "duration": 8,
    "start_time": "2021-10-18T23:05:40.244Z"
   },
   {
    "duration": 3250,
    "start_time": "2021-10-18T23:05:40.255Z"
   },
   {
    "duration": 3,
    "start_time": "2021-10-18T23:05:43.508Z"
   },
   {
    "duration": 11,
    "start_time": "2021-10-18T23:05:43.522Z"
   },
   {
    "duration": 38,
    "start_time": "2021-10-18T23:05:43.536Z"
   },
   {
    "duration": 7,
    "start_time": "2021-10-18T23:05:43.576Z"
   },
   {
    "duration": 99,
    "start_time": "2021-10-18T23:05:43.585Z"
   },
   {
    "duration": 2062,
    "start_time": "2021-10-18T23:09:08.033Z"
   },
   {
    "duration": 44,
    "start_time": "2021-10-18T23:09:10.098Z"
   },
   {
    "duration": 40,
    "start_time": "2021-10-18T23:09:10.146Z"
   },
   {
    "duration": 47,
    "start_time": "2021-10-18T23:09:10.188Z"
   },
   {
    "duration": 19,
    "start_time": "2021-10-18T23:09:10.237Z"
   },
   {
    "duration": 71,
    "start_time": "2021-10-18T23:09:10.259Z"
   },
   {
    "duration": 38,
    "start_time": "2021-10-18T23:09:10.333Z"
   },
   {
    "duration": 18,
    "start_time": "2021-10-18T23:09:10.374Z"
   },
   {
    "duration": 54,
    "start_time": "2021-10-18T23:09:10.396Z"
   },
   {
    "duration": 22,
    "start_time": "2021-10-18T23:09:10.454Z"
   },
   {
    "duration": 154,
    "start_time": "2021-10-18T23:09:10.480Z"
   },
   {
    "duration": 34,
    "start_time": "2021-10-18T23:09:10.637Z"
   },
   {
    "duration": 115,
    "start_time": "2021-10-18T23:09:10.675Z"
   },
   {
    "duration": 41,
    "start_time": "2021-10-18T23:09:10.792Z"
   },
   {
    "duration": 96,
    "start_time": "2021-10-18T23:09:10.836Z"
   },
   {
    "duration": 29,
    "start_time": "2021-10-18T23:09:10.936Z"
   },
   {
    "duration": 12,
    "start_time": "2021-10-18T23:09:10.968Z"
   },
   {
    "duration": 83,
    "start_time": "2021-10-18T23:09:10.983Z"
   },
   {
    "duration": 17,
    "start_time": "2021-10-18T23:09:11.068Z"
   },
   {
    "duration": 50,
    "start_time": "2021-10-18T23:09:11.088Z"
   },
   {
    "duration": 10,
    "start_time": "2021-10-18T23:09:11.140Z"
   },
   {
    "duration": 41,
    "start_time": "2021-10-18T23:09:11.153Z"
   },
   {
    "duration": 160,
    "start_time": "2021-10-18T23:09:11.197Z"
   },
   {
    "duration": 266,
    "start_time": "2021-10-18T23:09:11.360Z"
   },
   {
    "duration": 281,
    "start_time": "2021-10-18T23:09:11.628Z"
   },
   {
    "duration": 60,
    "start_time": "2021-10-18T23:09:11.912Z"
   },
   {
    "duration": 67,
    "start_time": "2021-10-18T23:09:11.977Z"
   },
   {
    "duration": 21,
    "start_time": "2021-10-18T23:09:12.047Z"
   },
   {
    "duration": 70,
    "start_time": "2021-10-18T23:09:12.071Z"
   },
   {
    "duration": 138,
    "start_time": "2021-10-18T23:09:12.144Z"
   },
   {
    "duration": 47,
    "start_time": "2021-10-18T23:09:12.284Z"
   },
   {
    "duration": 68,
    "start_time": "2021-10-18T23:09:12.334Z"
   },
   {
    "duration": 34,
    "start_time": "2021-10-18T23:09:12.405Z"
   },
   {
    "duration": 19,
    "start_time": "2021-10-18T23:09:12.441Z"
   },
   {
    "duration": 15,
    "start_time": "2021-10-18T23:09:12.462Z"
   },
   {
    "duration": 3,
    "start_time": "2021-10-18T23:09:12.479Z"
   },
   {
    "duration": 3191,
    "start_time": "2021-10-18T23:09:12.484Z"
   },
   {
    "duration": 24,
    "start_time": "2021-10-18T23:09:15.677Z"
   },
   {
    "duration": 611,
    "start_time": "2021-10-18T23:09:15.722Z"
   },
   {
    "duration": 7,
    "start_time": "2021-10-18T23:09:16.336Z"
   },
   {
    "duration": 38,
    "start_time": "2021-10-18T23:09:16.345Z"
   },
   {
    "duration": 1027,
    "start_time": "2021-10-18T23:09:16.386Z"
   },
   {
    "duration": 44,
    "start_time": "2021-10-18T23:09:17.423Z"
   },
   {
    "duration": 65,
    "start_time": "2021-10-18T23:09:17.470Z"
   },
   {
    "duration": 67,
    "start_time": "2021-10-18T23:09:17.538Z"
   },
   {
    "duration": 379,
    "start_time": "2021-10-18T23:09:17.623Z"
   },
   {
    "duration": 366,
    "start_time": "2021-10-18T23:09:18.005Z"
   },
   {
    "duration": 365,
    "start_time": "2021-10-18T23:09:18.373Z"
   },
   {
    "duration": 365,
    "start_time": "2021-10-18T23:09:18.741Z"
   },
   {
    "duration": 17,
    "start_time": "2021-10-18T23:09:19.108Z"
   },
   {
    "duration": 3120,
    "start_time": "2021-10-18T23:09:19.127Z"
   },
   {
    "duration": 3,
    "start_time": "2021-10-18T23:09:22.249Z"
   },
   {
    "duration": 19,
    "start_time": "2021-10-18T23:09:22.254Z"
   },
   {
    "duration": 63,
    "start_time": "2021-10-18T23:09:22.276Z"
   },
   {
    "duration": 7,
    "start_time": "2021-10-18T23:09:22.341Z"
   },
   {
    "duration": 9,
    "start_time": "2021-10-18T23:36:47.504Z"
   },
   {
    "duration": 10,
    "start_time": "2021-10-18T23:37:44.485Z"
   },
   {
    "duration": 14,
    "start_time": "2021-10-18T23:38:33.317Z"
   },
   {
    "duration": 23,
    "start_time": "2021-10-18T23:39:13.401Z"
   },
   {
    "duration": 23,
    "start_time": "2021-10-18T23:39:22.110Z"
   },
   {
    "duration": 23,
    "start_time": "2021-10-18T23:39:58.119Z"
   },
   {
    "duration": 600,
    "start_time": "2021-10-18T23:41:34.991Z"
   },
   {
    "duration": 343,
    "start_time": "2021-10-18T23:42:33.226Z"
   },
   {
    "duration": 316,
    "start_time": "2021-10-18T23:43:13.514Z"
   },
   {
    "duration": 303,
    "start_time": "2021-10-18T23:43:28.783Z"
   },
   {
    "duration": 311,
    "start_time": "2021-10-18T23:43:45.248Z"
   },
   {
    "duration": 401,
    "start_time": "2021-10-18T23:44:39.421Z"
   },
   {
    "duration": 308,
    "start_time": "2021-10-18T23:45:15.405Z"
   },
   {
    "duration": 271,
    "start_time": "2021-10-18T23:45:54.829Z"
   },
   {
    "duration": 347,
    "start_time": "2021-10-18T23:46:09.437Z"
   },
   {
    "duration": 310,
    "start_time": "2021-10-18T23:46:20.626Z"
   },
   {
    "duration": 897,
    "start_time": "2021-10-18T23:46:30.685Z"
   },
   {
    "duration": 42,
    "start_time": "2021-10-18T23:46:42.787Z"
   },
   {
    "duration": 39,
    "start_time": "2021-10-18T23:48:32.346Z"
   },
   {
    "duration": 39,
    "start_time": "2021-10-18T23:49:24.691Z"
   },
   {
    "duration": 39,
    "start_time": "2021-10-18T23:49:39.361Z"
   },
   {
    "duration": 39,
    "start_time": "2021-10-18T23:49:46.697Z"
   },
   {
    "duration": 41,
    "start_time": "2021-10-18T23:50:02.185Z"
   },
   {
    "duration": 39,
    "start_time": "2021-10-18T23:50:09.315Z"
   },
   {
    "duration": 39,
    "start_time": "2021-10-18T23:50:18.571Z"
   },
   {
    "duration": 38,
    "start_time": "2021-10-18T23:50:26.640Z"
   },
   {
    "duration": 91,
    "start_time": "2021-10-18T23:50:41.252Z"
   },
   {
    "duration": 41,
    "start_time": "2021-10-18T23:51:06.174Z"
   },
   {
    "duration": 44,
    "start_time": "2021-10-18T23:51:11.674Z"
   },
   {
    "duration": 39,
    "start_time": "2021-10-18T23:51:27.011Z"
   },
   {
    "duration": 109,
    "start_time": "2021-10-18T23:51:38.134Z"
   },
   {
    "duration": 40,
    "start_time": "2021-10-18T23:51:56.675Z"
   },
   {
    "duration": 42,
    "start_time": "2021-10-18T23:52:16.304Z"
   },
   {
    "duration": 41,
    "start_time": "2021-10-18T23:52:34.103Z"
   },
   {
    "duration": 41,
    "start_time": "2021-10-18T23:52:44.642Z"
   },
   {
    "duration": 40,
    "start_time": "2021-10-18T23:53:11.144Z"
   },
   {
    "duration": 44,
    "start_time": "2021-10-18T23:53:37.412Z"
   },
   {
    "duration": 271,
    "start_time": "2021-10-19T08:42:31.114Z"
   },
   {
    "duration": 58,
    "start_time": "2021-10-19T08:50:22.478Z"
   },
   {
    "duration": 72,
    "start_time": "2021-10-19T08:51:12.151Z"
   },
   {
    "duration": 57,
    "start_time": "2021-10-19T08:55:13.697Z"
   },
   {
    "duration": 59,
    "start_time": "2021-10-19T09:01:25.868Z"
   },
   {
    "duration": 336,
    "start_time": "2021-10-19T09:14:03.786Z"
   },
   {
    "duration": 1404,
    "start_time": "2021-10-19T09:14:10.694Z"
   },
   {
    "duration": 31,
    "start_time": "2021-10-19T09:14:12.100Z"
   },
   {
    "duration": 8,
    "start_time": "2021-10-19T09:14:12.133Z"
   },
   {
    "duration": 30,
    "start_time": "2021-10-19T09:14:12.143Z"
   },
   {
    "duration": 20,
    "start_time": "2021-10-19T09:14:12.175Z"
   },
   {
    "duration": 13,
    "start_time": "2021-10-19T09:14:12.196Z"
   },
   {
    "duration": 45,
    "start_time": "2021-10-19T09:14:12.210Z"
   },
   {
    "duration": 28,
    "start_time": "2021-10-19T09:14:12.257Z"
   },
   {
    "duration": 11,
    "start_time": "2021-10-19T09:14:12.287Z"
   },
   {
    "duration": 16,
    "start_time": "2021-10-19T09:14:12.299Z"
   },
   {
    "duration": 14,
    "start_time": "2021-10-19T09:14:12.344Z"
   },
   {
    "duration": 71,
    "start_time": "2021-10-19T09:14:12.360Z"
   },
   {
    "duration": 30,
    "start_time": "2021-10-19T09:14:12.432Z"
   },
   {
    "duration": 58,
    "start_time": "2021-10-19T09:14:12.463Z"
   },
   {
    "duration": 37,
    "start_time": "2021-10-19T09:14:12.522Z"
   },
   {
    "duration": 45,
    "start_time": "2021-10-19T09:14:12.560Z"
   },
   {
    "duration": 15,
    "start_time": "2021-10-19T09:14:12.606Z"
   },
   {
    "duration": 6,
    "start_time": "2021-10-19T09:14:12.645Z"
   },
   {
    "duration": 28,
    "start_time": "2021-10-19T09:14:12.652Z"
   },
   {
    "duration": 12,
    "start_time": "2021-10-19T09:14:12.682Z"
   },
   {
    "duration": 16,
    "start_time": "2021-10-19T09:14:12.695Z"
   },
   {
    "duration": 32,
    "start_time": "2021-10-19T09:14:12.713Z"
   },
   {
    "duration": 22,
    "start_time": "2021-10-19T09:14:12.748Z"
   },
   {
    "duration": 97,
    "start_time": "2021-10-19T09:14:12.772Z"
   },
   {
    "duration": 174,
    "start_time": "2021-10-19T09:14:12.871Z"
   },
   {
    "duration": 188,
    "start_time": "2021-10-19T09:14:13.046Z"
   },
   {
    "duration": 37,
    "start_time": "2021-10-19T09:14:13.236Z"
   },
   {
    "duration": 33,
    "start_time": "2021-10-19T09:14:13.275Z"
   },
   {
    "duration": 13,
    "start_time": "2021-10-19T09:14:13.310Z"
   },
   {
    "duration": 27,
    "start_time": "2021-10-19T09:14:13.345Z"
   },
   {
    "duration": 100,
    "start_time": "2021-10-19T09:14:13.373Z"
   },
   {
    "duration": 21,
    "start_time": "2021-10-19T09:14:13.475Z"
   },
   {
    "duration": 55,
    "start_time": "2021-10-19T09:14:13.497Z"
   },
   {
    "duration": 13,
    "start_time": "2021-10-19T09:14:13.553Z"
   },
   {
    "duration": 11,
    "start_time": "2021-10-19T09:14:13.567Z"
   },
   {
    "duration": 9,
    "start_time": "2021-10-19T09:14:13.580Z"
   },
   {
    "duration": 2,
    "start_time": "2021-10-19T09:14:13.590Z"
   },
   {
    "duration": 1775,
    "start_time": "2021-10-19T09:14:13.594Z"
   },
   {
    "duration": 15,
    "start_time": "2021-10-19T09:14:15.370Z"
   },
   {
    "duration": 534,
    "start_time": "2021-10-19T09:14:15.387Z"
   },
   {
    "duration": 4,
    "start_time": "2021-10-19T09:14:15.923Z"
   },
   {
    "duration": 30,
    "start_time": "2021-10-19T09:14:15.929Z"
   },
   {
    "duration": 556,
    "start_time": "2021-10-19T09:14:15.961Z"
   },
   {
    "duration": 36,
    "start_time": "2021-10-19T09:14:16.519Z"
   },
   {
    "duration": 27,
    "start_time": "2021-10-19T09:14:16.556Z"
   },
   {
    "duration": 42,
    "start_time": "2021-10-19T09:14:16.584Z"
   },
   {
    "duration": 228,
    "start_time": "2021-10-19T09:14:16.627Z"
   },
   {
    "duration": 219,
    "start_time": "2021-10-19T09:14:16.857Z"
   },
   {
    "duration": 329,
    "start_time": "2021-10-19T09:14:17.078Z"
   },
   {
    "duration": 205,
    "start_time": "2021-10-19T09:14:17.409Z"
   },
   {
    "duration": 5,
    "start_time": "2021-10-19T09:14:17.616Z"
   },
   {
    "duration": 1845,
    "start_time": "2021-10-19T09:14:17.622Z"
   },
   {
    "duration": 2,
    "start_time": "2021-10-19T09:14:19.469Z"
   },
   {
    "duration": 10,
    "start_time": "2021-10-19T09:14:19.473Z"
   },
   {
    "duration": 24,
    "start_time": "2021-10-19T09:14:19.485Z"
   },
   {
    "duration": 6,
    "start_time": "2021-10-19T09:14:19.510Z"
   },
   {
    "duration": 49,
    "start_time": "2021-10-19T09:14:19.517Z"
   },
   {
    "duration": 27,
    "start_time": "2021-10-19T09:25:08.641Z"
   },
   {
    "duration": 76,
    "start_time": "2021-10-19T09:34:56.479Z"
   },
   {
    "duration": 1487,
    "start_time": "2021-10-19T09:36:28.146Z"
   },
   {
    "duration": 32,
    "start_time": "2021-10-19T09:36:29.636Z"
   },
   {
    "duration": 30,
    "start_time": "2021-10-19T09:36:29.670Z"
   },
   {
    "duration": 115,
    "start_time": "2021-10-19T09:36:29.702Z"
   },
   {
    "duration": 30,
    "start_time": "2021-10-19T09:36:29.819Z"
   },
   {
    "duration": 14,
    "start_time": "2021-10-19T09:36:29.850Z"
   },
   {
    "duration": 28,
    "start_time": "2021-10-19T09:36:29.866Z"
   },
   {
    "duration": 48,
    "start_time": "2021-10-19T09:36:29.896Z"
   },
   {
    "duration": 11,
    "start_time": "2021-10-19T09:36:29.947Z"
   },
   {
    "duration": 16,
    "start_time": "2021-10-19T09:36:29.960Z"
   },
   {
    "duration": 15,
    "start_time": "2021-10-19T09:36:29.978Z"
   },
   {
    "duration": 104,
    "start_time": "2021-10-19T09:36:29.995Z"
   },
   {
    "duration": 502,
    "start_time": "2021-10-19T09:36:29.599Z"
   },
   {
    "duration": 501,
    "start_time": "2021-10-19T09:36:29.601Z"
   },
   {
    "duration": 500,
    "start_time": "2021-10-19T09:36:29.603Z"
   },
   {
    "duration": 498,
    "start_time": "2021-10-19T09:36:29.606Z"
   },
   {
    "duration": 496,
    "start_time": "2021-10-19T09:36:29.609Z"
   },
   {
    "duration": 494,
    "start_time": "2021-10-19T09:36:29.612Z"
   },
   {
    "duration": 492,
    "start_time": "2021-10-19T09:36:29.615Z"
   },
   {
    "duration": 490,
    "start_time": "2021-10-19T09:36:29.618Z"
   },
   {
    "duration": 488,
    "start_time": "2021-10-19T09:36:29.621Z"
   },
   {
    "duration": 484,
    "start_time": "2021-10-19T09:36:29.625Z"
   },
   {
    "duration": 480,
    "start_time": "2021-10-19T09:36:29.630Z"
   },
   {
    "duration": 476,
    "start_time": "2021-10-19T09:36:29.635Z"
   },
   {
    "duration": 471,
    "start_time": "2021-10-19T09:36:29.641Z"
   },
   {
    "duration": 467,
    "start_time": "2021-10-19T09:36:29.646Z"
   },
   {
    "duration": 463,
    "start_time": "2021-10-19T09:36:29.651Z"
   },
   {
    "duration": 461,
    "start_time": "2021-10-19T09:36:29.654Z"
   },
   {
    "duration": 457,
    "start_time": "2021-10-19T09:36:29.659Z"
   },
   {
    "duration": 446,
    "start_time": "2021-10-19T09:36:29.671Z"
   },
   {
    "duration": 441,
    "start_time": "2021-10-19T09:36:29.677Z"
   },
   {
    "duration": 437,
    "start_time": "2021-10-19T09:36:29.682Z"
   },
   {
    "duration": 432,
    "start_time": "2021-10-19T09:36:29.688Z"
   },
   {
    "duration": 428,
    "start_time": "2021-10-19T09:36:29.693Z"
   },
   {
    "duration": 425,
    "start_time": "2021-10-19T09:36:29.697Z"
   },
   {
    "duration": 424,
    "start_time": "2021-10-19T09:36:29.700Z"
   },
   {
    "duration": 422,
    "start_time": "2021-10-19T09:36:29.703Z"
   },
   {
    "duration": 420,
    "start_time": "2021-10-19T09:36:29.706Z"
   },
   {
    "duration": 417,
    "start_time": "2021-10-19T09:36:29.710Z"
   },
   {
    "duration": 415,
    "start_time": "2021-10-19T09:36:29.713Z"
   },
   {
    "duration": 413,
    "start_time": "2021-10-19T09:36:29.716Z"
   },
   {
    "duration": 411,
    "start_time": "2021-10-19T09:36:29.720Z"
   },
   {
    "duration": 366,
    "start_time": "2021-10-19T09:36:29.766Z"
   },
   {
    "duration": 357,
    "start_time": "2021-10-19T09:36:29.776Z"
   },
   {
    "duration": 350,
    "start_time": "2021-10-19T09:36:29.784Z"
   },
   {
    "duration": 347,
    "start_time": "2021-10-19T09:36:29.788Z"
   },
   {
    "duration": 344,
    "start_time": "2021-10-19T09:36:29.792Z"
   },
   {
    "duration": 341,
    "start_time": "2021-10-19T09:36:29.796Z"
   },
   {
    "duration": 338,
    "start_time": "2021-10-19T09:36:29.800Z"
   },
   {
    "duration": 336,
    "start_time": "2021-10-19T09:36:29.803Z"
   },
   {
    "duration": 334,
    "start_time": "2021-10-19T09:36:29.806Z"
   },
   {
    "duration": 336,
    "start_time": "2021-10-19T09:36:29.808Z"
   },
   {
    "duration": 334,
    "start_time": "2021-10-19T09:36:29.811Z"
   },
   {
    "duration": 333,
    "start_time": "2021-10-19T09:36:29.813Z"
   },
   {
    "duration": 332,
    "start_time": "2021-10-19T09:36:29.815Z"
   },
   {
    "duration": 331,
    "start_time": "2021-10-19T09:36:29.817Z"
   },
   {
    "duration": 330,
    "start_time": "2021-10-19T09:36:29.819Z"
   },
   {
    "duration": 329,
    "start_time": "2021-10-19T09:36:29.821Z"
   },
   {
    "duration": 43,
    "start_time": "2021-10-19T09:37:35.508Z"
   },
   {
    "duration": 1444,
    "start_time": "2021-10-19T09:38:12.577Z"
   },
   {
    "duration": 34,
    "start_time": "2021-10-19T09:38:14.023Z"
   },
   {
    "duration": 30,
    "start_time": "2021-10-19T09:38:14.062Z"
   },
   {
    "duration": 116,
    "start_time": "2021-10-19T09:38:14.094Z"
   },
   {
    "duration": 33,
    "start_time": "2021-10-19T09:38:14.212Z"
   },
   {
    "duration": 12,
    "start_time": "2021-10-19T09:38:14.247Z"
   },
   {
    "duration": 52,
    "start_time": "2021-10-19T09:38:14.261Z"
   },
   {
    "duration": 36,
    "start_time": "2021-10-19T09:38:14.315Z"
   },
   {
    "duration": 26,
    "start_time": "2021-10-19T09:38:14.353Z"
   },
   {
    "duration": 12,
    "start_time": "2021-10-19T09:38:14.381Z"
   },
   {
    "duration": 51,
    "start_time": "2021-10-19T09:38:14.395Z"
   },
   {
    "duration": 15,
    "start_time": "2021-10-19T09:38:14.448Z"
   },
   {
    "duration": 98,
    "start_time": "2021-10-19T09:38:14.465Z"
   },
   {
    "duration": 539,
    "start_time": "2021-10-19T09:38:14.027Z"
   },
   {
    "duration": 538,
    "start_time": "2021-10-19T09:38:14.029Z"
   },
   {
    "duration": 537,
    "start_time": "2021-10-19T09:38:14.031Z"
   },
   {
    "duration": 536,
    "start_time": "2021-10-19T09:38:14.033Z"
   },
   {
    "duration": 528,
    "start_time": "2021-10-19T09:38:14.041Z"
   },
   {
    "duration": 526,
    "start_time": "2021-10-19T09:38:14.044Z"
   },
   {
    "duration": 524,
    "start_time": "2021-10-19T09:38:14.047Z"
   },
   {
    "duration": 523,
    "start_time": "2021-10-19T09:38:14.049Z"
   },
   {
    "duration": 521,
    "start_time": "2021-10-19T09:38:14.052Z"
   },
   {
    "duration": 519,
    "start_time": "2021-10-19T09:38:14.055Z"
   },
   {
    "duration": 514,
    "start_time": "2021-10-19T09:38:14.060Z"
   },
   {
    "duration": 512,
    "start_time": "2021-10-19T09:38:14.063Z"
   },
   {
    "duration": 510,
    "start_time": "2021-10-19T09:38:14.066Z"
   },
   {
    "duration": 509,
    "start_time": "2021-10-19T09:38:14.068Z"
   },
   {
    "duration": 505,
    "start_time": "2021-10-19T09:38:14.072Z"
   },
   {
    "duration": 503,
    "start_time": "2021-10-19T09:38:14.075Z"
   },
   {
    "duration": 501,
    "start_time": "2021-10-19T09:38:14.078Z"
   },
   {
    "duration": 500,
    "start_time": "2021-10-19T09:38:14.080Z"
   },
   {
    "duration": 498,
    "start_time": "2021-10-19T09:38:14.083Z"
   },
   {
    "duration": 497,
    "start_time": "2021-10-19T09:38:14.085Z"
   },
   {
    "duration": 495,
    "start_time": "2021-10-19T09:38:14.088Z"
   },
   {
    "duration": 492,
    "start_time": "2021-10-19T09:38:14.091Z"
   },
   {
    "duration": 491,
    "start_time": "2021-10-19T09:38:14.093Z"
   },
   {
    "duration": 490,
    "start_time": "2021-10-19T09:38:14.095Z"
   },
   {
    "duration": 489,
    "start_time": "2021-10-19T09:38:14.097Z"
   },
   {
    "duration": 488,
    "start_time": "2021-10-19T09:38:14.099Z"
   },
   {
    "duration": 486,
    "start_time": "2021-10-19T09:38:14.102Z"
   },
   {
    "duration": 485,
    "start_time": "2021-10-19T09:38:14.104Z"
   },
   {
    "duration": 483,
    "start_time": "2021-10-19T09:38:14.107Z"
   },
   {
    "duration": 481,
    "start_time": "2021-10-19T09:38:14.109Z"
   },
   {
    "duration": 449,
    "start_time": "2021-10-19T09:38:14.142Z"
   },
   {
    "duration": 446,
    "start_time": "2021-10-19T09:38:14.146Z"
   },
   {
    "duration": 444,
    "start_time": "2021-10-19T09:38:14.149Z"
   },
   {
    "duration": 443,
    "start_time": "2021-10-19T09:38:14.151Z"
   },
   {
    "duration": 441,
    "start_time": "2021-10-19T09:38:14.154Z"
   },
   {
    "duration": 438,
    "start_time": "2021-10-19T09:38:14.157Z"
   },
   {
    "duration": 437,
    "start_time": "2021-10-19T09:38:14.159Z"
   },
   {
    "duration": 436,
    "start_time": "2021-10-19T09:38:14.161Z"
   },
   {
    "duration": 434,
    "start_time": "2021-10-19T09:38:14.164Z"
   },
   {
    "duration": 433,
    "start_time": "2021-10-19T09:38:14.166Z"
   },
   {
    "duration": 431,
    "start_time": "2021-10-19T09:38:14.168Z"
   },
   {
    "duration": 430,
    "start_time": "2021-10-19T09:38:14.170Z"
   },
   {
    "duration": 428,
    "start_time": "2021-10-19T09:38:14.173Z"
   },
   {
    "duration": 426,
    "start_time": "2021-10-19T09:38:14.176Z"
   },
   {
    "duration": 425,
    "start_time": "2021-10-19T09:38:14.178Z"
   },
   {
    "duration": 424,
    "start_time": "2021-10-19T09:38:14.180Z"
   },
   {
    "duration": 57,
    "start_time": "2021-10-19T09:38:48.912Z"
   },
   {
    "duration": 1550,
    "start_time": "2021-10-19T09:41:44.259Z"
   },
   {
    "duration": 47,
    "start_time": "2021-10-19T09:41:45.811Z"
   },
   {
    "duration": 36,
    "start_time": "2021-10-19T09:41:45.865Z"
   },
   {
    "duration": 114,
    "start_time": "2021-10-19T09:41:45.903Z"
   },
   {
    "duration": 30,
    "start_time": "2021-10-19T09:41:46.019Z"
   },
   {
    "duration": 12,
    "start_time": "2021-10-19T09:41:46.051Z"
   },
   {
    "duration": 41,
    "start_time": "2021-10-19T09:41:46.066Z"
   },
   {
    "duration": 52,
    "start_time": "2021-10-19T09:41:46.109Z"
   },
   {
    "duration": 28,
    "start_time": "2021-10-19T09:41:46.163Z"
   },
   {
    "duration": 84,
    "start_time": "2021-10-19T09:41:46.193Z"
   },
   {
    "duration": 12,
    "start_time": "2021-10-19T09:41:46.279Z"
   },
   {
    "duration": 17,
    "start_time": "2021-10-19T09:41:46.293Z"
   },
   {
    "duration": 45,
    "start_time": "2021-10-19T09:41:46.312Z"
   },
   {
    "duration": 90,
    "start_time": "2021-10-19T09:41:46.359Z"
   },
   {
    "duration": 452,
    "start_time": "2021-10-19T09:41:46.000Z"
   },
   {
    "duration": 450,
    "start_time": "2021-10-19T09:41:46.003Z"
   },
   {
    "duration": 445,
    "start_time": "2021-10-19T09:41:46.009Z"
   },
   {
    "duration": 443,
    "start_time": "2021-10-19T09:41:46.013Z"
   },
   {
    "duration": 441,
    "start_time": "2021-10-19T09:41:46.016Z"
   },
   {
    "duration": 436,
    "start_time": "2021-10-19T09:41:46.022Z"
   },
   {
    "duration": 429,
    "start_time": "2021-10-19T09:41:46.030Z"
   },
   {
    "duration": 414,
    "start_time": "2021-10-19T09:41:46.046Z"
   },
   {
    "duration": 405,
    "start_time": "2021-10-19T09:41:46.055Z"
   },
   {
    "duration": 401,
    "start_time": "2021-10-19T09:41:46.061Z"
   },
   {
    "duration": 395,
    "start_time": "2021-10-19T09:41:46.067Z"
   },
   {
    "duration": 390,
    "start_time": "2021-10-19T09:41:46.073Z"
   },
   {
    "duration": 384,
    "start_time": "2021-10-19T09:41:46.080Z"
   },
   {
    "duration": 378,
    "start_time": "2021-10-19T09:41:46.087Z"
   },
   {
    "duration": 372,
    "start_time": "2021-10-19T09:41:46.094Z"
   },
   {
    "duration": 368,
    "start_time": "2021-10-19T09:41:46.099Z"
   },
   {
    "duration": 364,
    "start_time": "2021-10-19T09:41:46.104Z"
   },
   {
    "duration": 360,
    "start_time": "2021-10-19T09:41:46.109Z"
   },
   {
    "duration": 358,
    "start_time": "2021-10-19T09:41:46.112Z"
   },
   {
    "duration": 356,
    "start_time": "2021-10-19T09:41:46.115Z"
   },
   {
    "duration": 353,
    "start_time": "2021-10-19T09:41:46.119Z"
   },
   {
    "duration": 351,
    "start_time": "2021-10-19T09:41:46.122Z"
   },
   {
    "duration": 349,
    "start_time": "2021-10-19T09:41:46.125Z"
   },
   {
    "duration": 347,
    "start_time": "2021-10-19T09:41:46.128Z"
   },
   {
    "duration": 346,
    "start_time": "2021-10-19T09:41:46.130Z"
   },
   {
    "duration": 343,
    "start_time": "2021-10-19T09:41:46.134Z"
   },
   {
    "duration": 340,
    "start_time": "2021-10-19T09:41:46.138Z"
   },
   {
    "duration": 338,
    "start_time": "2021-10-19T09:41:46.141Z"
   },
   {
    "duration": 336,
    "start_time": "2021-10-19T09:41:46.144Z"
   },
   {
    "duration": 311,
    "start_time": "2021-10-19T09:41:46.170Z"
   },
   {
    "duration": 302,
    "start_time": "2021-10-19T09:41:46.180Z"
   },
   {
    "duration": 298,
    "start_time": "2021-10-19T09:41:46.185Z"
   },
   {
    "duration": 289,
    "start_time": "2021-10-19T09:41:46.195Z"
   },
   {
    "duration": 285,
    "start_time": "2021-10-19T09:41:46.200Z"
   },
   {
    "duration": 280,
    "start_time": "2021-10-19T09:41:46.205Z"
   },
   {
    "duration": 274,
    "start_time": "2021-10-19T09:41:46.212Z"
   },
   {
    "duration": 259,
    "start_time": "2021-10-19T09:41:46.228Z"
   },
   {
    "duration": 243,
    "start_time": "2021-10-19T09:41:46.245Z"
   },
   {
    "duration": 193,
    "start_time": "2021-10-19T09:41:46.296Z"
   },
   {
    "duration": 221,
    "start_time": "2021-10-19T09:41:46.324Z"
   },
   {
    "duration": 198,
    "start_time": "2021-10-19T09:41:46.348Z"
   },
   {
    "duration": 174,
    "start_time": "2021-10-19T09:41:46.373Z"
   },
   {
    "duration": 153,
    "start_time": "2021-10-19T09:41:46.395Z"
   },
   {
    "duration": 136,
    "start_time": "2021-10-19T09:41:46.413Z"
   },
   {
    "duration": 121,
    "start_time": "2021-10-19T09:41:46.429Z"
   },
   {
    "duration": 106,
    "start_time": "2021-10-19T09:41:46.445Z"
   },
   {
    "duration": 6,
    "start_time": "2021-10-19T09:42:21.398Z"
   },
   {
    "duration": 7,
    "start_time": "2021-10-19T09:42:51.829Z"
   },
   {
    "duration": 91,
    "start_time": "2021-10-19T09:53:00.847Z"
   },
   {
    "duration": 1568,
    "start_time": "2021-10-19T09:54:38.300Z"
   },
   {
    "duration": 36,
    "start_time": "2021-10-19T09:54:39.870Z"
   },
   {
    "duration": 41,
    "start_time": "2021-10-19T09:54:39.909Z"
   },
   {
    "duration": 137,
    "start_time": "2021-10-19T09:54:39.953Z"
   },
   {
    "duration": 32,
    "start_time": "2021-10-19T09:54:40.092Z"
   },
   {
    "duration": 30,
    "start_time": "2021-10-19T09:54:40.126Z"
   },
   {
    "duration": 61,
    "start_time": "2021-10-19T09:54:40.158Z"
   },
   {
    "duration": 57,
    "start_time": "2021-10-19T09:54:40.222Z"
   },
   {
    "duration": 35,
    "start_time": "2021-10-19T09:54:40.282Z"
   },
   {
    "duration": 98,
    "start_time": "2021-10-19T09:54:40.319Z"
   },
   {
    "duration": 28,
    "start_time": "2021-10-19T09:54:40.420Z"
   },
   {
    "duration": 8,
    "start_time": "2021-10-19T09:54:40.450Z"
   },
   {
    "duration": 23,
    "start_time": "2021-10-19T09:54:40.460Z"
   },
   {
    "duration": 14,
    "start_time": "2021-10-19T09:54:40.485Z"
   },
   {
    "duration": 9,
    "start_time": "2021-10-19T09:54:40.501Z"
   },
   {
    "duration": 72,
    "start_time": "2021-10-19T09:54:40.545Z"
   },
   {
    "duration": 41,
    "start_time": "2021-10-19T09:54:40.619Z"
   },
   {
    "duration": 63,
    "start_time": "2021-10-19T09:54:40.662Z"
   },
   {
    "duration": 34,
    "start_time": "2021-10-19T09:54:40.727Z"
   },
   {
    "duration": 47,
    "start_time": "2021-10-19T09:54:40.763Z"
   },
   {
    "duration": 43,
    "start_time": "2021-10-19T09:54:40.813Z"
   },
   {
    "duration": 7,
    "start_time": "2021-10-19T09:54:40.858Z"
   },
   {
    "duration": 25,
    "start_time": "2021-10-19T09:54:40.870Z"
   },
   {
    "duration": 13,
    "start_time": "2021-10-19T09:54:40.898Z"
   },
   {
    "duration": 18,
    "start_time": "2021-10-19T09:54:40.945Z"
   },
   {
    "duration": 7,
    "start_time": "2021-10-19T09:54:40.965Z"
   },
   {
    "duration": 29,
    "start_time": "2021-10-19T09:54:40.974Z"
   },
   {
    "duration": 108,
    "start_time": "2021-10-19T09:54:41.005Z"
   },
   {
    "duration": 183,
    "start_time": "2021-10-19T09:54:41.115Z"
   },
   {
    "duration": 192,
    "start_time": "2021-10-19T09:54:41.300Z"
   },
   {
    "duration": 34,
    "start_time": "2021-10-19T09:54:41.494Z"
   },
   {
    "duration": 47,
    "start_time": "2021-10-19T09:54:41.530Z"
   },
   {
    "duration": 15,
    "start_time": "2021-10-19T09:54:41.579Z"
   },
   {
    "duration": 52,
    "start_time": "2021-10-19T09:54:41.596Z"
   },
   {
    "duration": 110,
    "start_time": "2021-10-19T09:54:41.650Z"
   },
   {
    "duration": 21,
    "start_time": "2021-10-19T09:54:41.761Z"
   },
   {
    "duration": 65,
    "start_time": "2021-10-19T09:54:41.784Z"
   },
   {
    "duration": 13,
    "start_time": "2021-10-19T09:54:41.851Z"
   },
   {
    "duration": 13,
    "start_time": "2021-10-19T09:54:41.865Z"
   },
   {
    "duration": 9,
    "start_time": "2021-10-19T09:54:41.880Z"
   },
   {
    "duration": 2,
    "start_time": "2021-10-19T09:54:41.891Z"
   },
   {
    "duration": 2179,
    "start_time": "2021-10-19T09:54:41.894Z"
   },
   {
    "duration": 18,
    "start_time": "2021-10-19T09:54:44.076Z"
   },
   {
    "duration": 613,
    "start_time": "2021-10-19T09:54:44.096Z"
   },
   {
    "duration": 4,
    "start_time": "2021-10-19T09:54:44.711Z"
   },
   {
    "duration": 31,
    "start_time": "2021-10-19T09:54:44.717Z"
   },
   {
    "duration": 617,
    "start_time": "2021-10-19T09:54:44.750Z"
   },
   {
    "duration": 30,
    "start_time": "2021-10-19T09:54:45.369Z"
   },
   {
    "duration": 45,
    "start_time": "2021-10-19T09:54:45.401Z"
   },
   {
    "duration": 44,
    "start_time": "2021-10-19T09:54:45.448Z"
   },
   {
    "duration": 244,
    "start_time": "2021-10-19T09:54:45.493Z"
   },
   {
    "duration": 219,
    "start_time": "2021-10-19T09:54:45.744Z"
   },
   {
    "duration": 224,
    "start_time": "2021-10-19T09:54:45.965Z"
   },
   {
    "duration": 216,
    "start_time": "2021-10-19T09:54:46.191Z"
   },
   {
    "duration": 6,
    "start_time": "2021-10-19T09:54:46.409Z"
   },
   {
    "duration": 2690,
    "start_time": "2021-10-19T09:54:46.417Z"
   },
   {
    "duration": 3,
    "start_time": "2021-10-19T09:54:49.109Z"
   },
   {
    "duration": 16,
    "start_time": "2021-10-19T09:54:49.114Z"
   },
   {
    "duration": 31,
    "start_time": "2021-10-19T09:54:49.132Z"
   },
   {
    "duration": 5,
    "start_time": "2021-10-19T09:54:49.165Z"
   },
   {
    "duration": 37,
    "start_time": "2021-10-19T09:54:49.172Z"
   },
   {
    "duration": 1622,
    "start_time": "2021-10-19T10:00:03.250Z"
   },
   {
    "duration": 33,
    "start_time": "2021-10-19T10:00:04.874Z"
   },
   {
    "duration": 32,
    "start_time": "2021-10-19T10:00:04.909Z"
   },
   {
    "duration": 128,
    "start_time": "2021-10-19T10:00:04.943Z"
   },
   {
    "duration": 32,
    "start_time": "2021-10-19T10:00:05.073Z"
   },
   {
    "duration": 38,
    "start_time": "2021-10-19T10:00:05.107Z"
   },
   {
    "duration": 42,
    "start_time": "2021-10-19T10:00:05.147Z"
   },
   {
    "duration": 27,
    "start_time": "2021-10-19T10:00:05.192Z"
   },
   {
    "duration": 49,
    "start_time": "2021-10-19T10:00:05.221Z"
   },
   {
    "duration": 76,
    "start_time": "2021-10-19T10:00:05.271Z"
   },
   {
    "duration": 14,
    "start_time": "2021-10-19T10:00:05.349Z"
   },
   {
    "duration": 29,
    "start_time": "2021-10-19T10:00:05.365Z"
   },
   {
    "duration": 22,
    "start_time": "2021-10-19T10:00:05.396Z"
   },
   {
    "duration": 26,
    "start_time": "2021-10-19T10:00:05.420Z"
   },
   {
    "duration": 25,
    "start_time": "2021-10-19T10:00:05.448Z"
   },
   {
    "duration": 80,
    "start_time": "2021-10-19T10:00:05.475Z"
   },
   {
    "duration": 24,
    "start_time": "2021-10-19T10:00:05.556Z"
   },
   {
    "duration": 71,
    "start_time": "2021-10-19T10:00:05.582Z"
   },
   {
    "duration": 15,
    "start_time": "2021-10-19T10:00:05.654Z"
   },
   {
    "duration": 59,
    "start_time": "2021-10-19T10:00:05.671Z"
   },
   {
    "duration": 25,
    "start_time": "2021-10-19T10:00:05.732Z"
   },
   {
    "duration": 12,
    "start_time": "2021-10-19T10:00:05.759Z"
   },
   {
    "duration": 48,
    "start_time": "2021-10-19T10:00:05.775Z"
   },
   {
    "duration": 29,
    "start_time": "2021-10-19T10:00:05.825Z"
   },
   {
    "duration": 18,
    "start_time": "2021-10-19T10:00:05.856Z"
   },
   {
    "duration": 6,
    "start_time": "2021-10-19T10:00:05.876Z"
   },
   {
    "duration": 32,
    "start_time": "2021-10-19T10:00:05.884Z"
   },
   {
    "duration": 106,
    "start_time": "2021-10-19T10:00:05.917Z"
   },
   {
    "duration": 194,
    "start_time": "2021-10-19T10:00:06.025Z"
   },
   {
    "duration": 202,
    "start_time": "2021-10-19T10:00:06.221Z"
   },
   {
    "duration": 44,
    "start_time": "2021-10-19T10:00:06.425Z"
   },
   {
    "duration": 35,
    "start_time": "2021-10-19T10:00:06.470Z"
   },
   {
    "duration": 14,
    "start_time": "2021-10-19T10:00:06.506Z"
   },
   {
    "duration": 46,
    "start_time": "2021-10-19T10:00:06.522Z"
   },
   {
    "duration": 112,
    "start_time": "2021-10-19T10:00:06.569Z"
   },
   {
    "duration": 23,
    "start_time": "2021-10-19T10:00:06.682Z"
   },
   {
    "duration": 62,
    "start_time": "2021-10-19T10:00:06.707Z"
   },
   {
    "duration": 14,
    "start_time": "2021-10-19T10:00:06.771Z"
   },
   {
    "duration": 17,
    "start_time": "2021-10-19T10:00:06.786Z"
   },
   {
    "duration": 10,
    "start_time": "2021-10-19T10:00:06.805Z"
   },
   {
    "duration": 2,
    "start_time": "2021-10-19T10:00:06.817Z"
   },
   {
    "duration": 2240,
    "start_time": "2021-10-19T10:00:06.844Z"
   },
   {
    "duration": 21,
    "start_time": "2021-10-19T10:00:09.086Z"
   },
   {
    "duration": 1276,
    "start_time": "2021-10-19T10:00:09.109Z"
   },
   {
    "duration": 5,
    "start_time": "2021-10-19T10:00:10.387Z"
   },
   {
    "duration": 24,
    "start_time": "2021-10-19T10:00:10.393Z"
   },
   {
    "duration": 604,
    "start_time": "2021-10-19T10:00:10.419Z"
   },
   {
    "duration": 39,
    "start_time": "2021-10-19T10:00:11.025Z"
   },
   {
    "duration": 27,
    "start_time": "2021-10-19T10:00:11.066Z"
   },
   {
    "duration": 56,
    "start_time": "2021-10-19T10:00:11.095Z"
   },
   {
    "duration": 223,
    "start_time": "2021-10-19T10:00:11.153Z"
   },
   {
    "duration": 213,
    "start_time": "2021-10-19T10:00:11.378Z"
   },
   {
    "duration": 222,
    "start_time": "2021-10-19T10:00:11.593Z"
   },
   {
    "duration": 227,
    "start_time": "2021-10-19T10:00:11.817Z"
   },
   {
    "duration": 6,
    "start_time": "2021-10-19T10:00:12.046Z"
   },
   {
    "duration": 2057,
    "start_time": "2021-10-19T10:00:12.053Z"
   },
   {
    "duration": 3,
    "start_time": "2021-10-19T10:00:14.112Z"
   },
   {
    "duration": 18,
    "start_time": "2021-10-19T10:00:14.116Z"
   },
   {
    "duration": 35,
    "start_time": "2021-10-19T10:00:14.136Z"
   },
   {
    "duration": 5,
    "start_time": "2021-10-19T10:00:14.172Z"
   },
   {
    "duration": 30,
    "start_time": "2021-10-19T10:00:14.179Z"
   },
   {
    "duration": 1490,
    "start_time": "2021-10-19T10:01:32.530Z"
   },
   {
    "duration": 33,
    "start_time": "2021-10-19T10:01:34.022Z"
   },
   {
    "duration": 30,
    "start_time": "2021-10-19T10:01:34.057Z"
   },
   {
    "duration": 111,
    "start_time": "2021-10-19T10:01:34.089Z"
   },
   {
    "duration": 21,
    "start_time": "2021-10-19T10:01:34.202Z"
   },
   {
    "duration": 25,
    "start_time": "2021-10-19T10:01:34.225Z"
   },
   {
    "duration": 44,
    "start_time": "2021-10-19T10:01:34.252Z"
   },
   {
    "duration": 50,
    "start_time": "2021-10-19T10:01:34.299Z"
   },
   {
    "duration": 25,
    "start_time": "2021-10-19T10:01:34.352Z"
   },
   {
    "duration": 74,
    "start_time": "2021-10-19T10:01:34.379Z"
   },
   {
    "duration": 11,
    "start_time": "2021-10-19T10:01:34.454Z"
   },
   {
    "duration": 35,
    "start_time": "2021-10-19T10:01:34.467Z"
   },
   {
    "duration": 22,
    "start_time": "2021-10-19T10:01:34.503Z"
   },
   {
    "duration": 14,
    "start_time": "2021-10-19T10:01:34.527Z"
   },
   {
    "duration": 7,
    "start_time": "2021-10-19T10:01:34.542Z"
   },
   {
    "duration": 71,
    "start_time": "2021-10-19T10:01:34.550Z"
   },
   {
    "duration": 37,
    "start_time": "2021-10-19T10:01:34.623Z"
   },
   {
    "duration": 62,
    "start_time": "2021-10-19T10:01:34.661Z"
   },
   {
    "duration": 33,
    "start_time": "2021-10-19T10:01:34.725Z"
   },
   {
    "duration": 48,
    "start_time": "2021-10-19T10:01:34.760Z"
   },
   {
    "duration": 34,
    "start_time": "2021-10-19T10:01:34.810Z"
   },
   {
    "duration": 7,
    "start_time": "2021-10-19T10:01:34.846Z"
   },
   {
    "duration": 27,
    "start_time": "2021-10-19T10:01:34.856Z"
   },
   {
    "duration": 13,
    "start_time": "2021-10-19T10:01:34.885Z"
   },
   {
    "duration": 21,
    "start_time": "2021-10-19T10:01:34.900Z"
   },
   {
    "duration": 7,
    "start_time": "2021-10-19T10:01:34.945Z"
   },
   {
    "duration": 26,
    "start_time": "2021-10-19T10:01:34.954Z"
   },
   {
    "duration": 107,
    "start_time": "2021-10-19T10:01:34.981Z"
   },
   {
    "duration": 195,
    "start_time": "2021-10-19T10:01:35.090Z"
   },
   {
    "duration": 194,
    "start_time": "2021-10-19T10:01:35.286Z"
   },
   {
    "duration": 36,
    "start_time": "2021-10-19T10:01:35.482Z"
   },
   {
    "duration": 49,
    "start_time": "2021-10-19T10:01:35.520Z"
   },
   {
    "duration": 14,
    "start_time": "2021-10-19T10:01:35.571Z"
   },
   {
    "duration": 33,
    "start_time": "2021-10-19T10:01:35.587Z"
   },
   {
    "duration": 110,
    "start_time": "2021-10-19T10:01:35.622Z"
   },
   {
    "duration": 26,
    "start_time": "2021-10-19T10:01:35.733Z"
   },
   {
    "duration": 51,
    "start_time": "2021-10-19T10:01:35.761Z"
   },
   {
    "duration": 31,
    "start_time": "2021-10-19T10:01:35.814Z"
   },
   {
    "duration": 11,
    "start_time": "2021-10-19T10:01:35.847Z"
   },
   {
    "duration": 9,
    "start_time": "2021-10-19T10:01:35.860Z"
   },
   {
    "duration": 3,
    "start_time": "2021-10-19T10:01:35.871Z"
   },
   {
    "duration": 1939,
    "start_time": "2021-10-19T10:01:35.875Z"
   },
   {
    "duration": 17,
    "start_time": "2021-10-19T10:01:37.816Z"
   },
   {
    "duration": 557,
    "start_time": "2021-10-19T10:01:37.834Z"
   },
   {
    "duration": 5,
    "start_time": "2021-10-19T10:01:38.393Z"
   },
   {
    "duration": 22,
    "start_time": "2021-10-19T10:01:38.399Z"
   },
   {
    "duration": 591,
    "start_time": "2021-10-19T10:01:38.423Z"
   },
   {
    "duration": 38,
    "start_time": "2021-10-19T10:01:39.015Z"
   },
   {
    "duration": 29,
    "start_time": "2021-10-19T10:01:39.055Z"
   },
   {
    "duration": 40,
    "start_time": "2021-10-19T10:01:39.085Z"
   },
   {
    "duration": 245,
    "start_time": "2021-10-19T10:01:39.144Z"
   },
   {
    "duration": 286,
    "start_time": "2021-10-19T10:01:39.391Z"
   },
   {
    "duration": 226,
    "start_time": "2021-10-19T10:01:39.679Z"
   },
   {
    "duration": 228,
    "start_time": "2021-10-19T10:01:39.907Z"
   },
   {
    "duration": 10,
    "start_time": "2021-10-19T10:01:40.137Z"
   },
   {
    "duration": 2030,
    "start_time": "2021-10-19T10:01:40.148Z"
   },
   {
    "duration": 2,
    "start_time": "2021-10-19T10:01:42.180Z"
   },
   {
    "duration": 18,
    "start_time": "2021-10-19T10:01:42.184Z"
   },
   {
    "duration": 36,
    "start_time": "2021-10-19T10:01:42.204Z"
   },
   {
    "duration": 5,
    "start_time": "2021-10-19T10:01:42.242Z"
   },
   {
    "duration": 57,
    "start_time": "2021-10-19T10:01:42.248Z"
   },
   {
    "duration": 1461,
    "start_time": "2021-10-19T10:02:29.594Z"
   },
   {
    "duration": 34,
    "start_time": "2021-10-19T10:02:31.058Z"
   },
   {
    "duration": 37,
    "start_time": "2021-10-19T10:02:31.094Z"
   },
   {
    "duration": 111,
    "start_time": "2021-10-19T10:02:31.133Z"
   },
   {
    "duration": 23,
    "start_time": "2021-10-19T10:02:31.246Z"
   },
   {
    "duration": 22,
    "start_time": "2021-10-19T10:02:31.271Z"
   },
   {
    "duration": 61,
    "start_time": "2021-10-19T10:02:31.296Z"
   },
   {
    "duration": 28,
    "start_time": "2021-10-19T10:02:31.360Z"
   },
   {
    "duration": 32,
    "start_time": "2021-10-19T10:02:31.391Z"
   },
   {
    "duration": 88,
    "start_time": "2021-10-19T10:02:31.425Z"
   },
   {
    "duration": 11,
    "start_time": "2021-10-19T10:02:31.515Z"
   },
   {
    "duration": 13,
    "start_time": "2021-10-19T10:02:31.544Z"
   },
   {
    "duration": 25,
    "start_time": "2021-10-19T10:02:31.558Z"
   },
   {
    "duration": 20,
    "start_time": "2021-10-19T10:02:31.585Z"
   },
   {
    "duration": 15,
    "start_time": "2021-10-19T10:02:31.607Z"
   },
   {
    "duration": 95,
    "start_time": "2021-10-19T10:02:31.624Z"
   },
   {
    "duration": 27,
    "start_time": "2021-10-19T10:02:31.721Z"
   },
   {
    "duration": 67,
    "start_time": "2021-10-19T10:02:31.750Z"
   },
   {
    "duration": 34,
    "start_time": "2021-10-19T10:02:31.819Z"
   },
   {
    "duration": 48,
    "start_time": "2021-10-19T10:02:31.855Z"
   },
   {
    "duration": 40,
    "start_time": "2021-10-19T10:02:31.905Z"
   },
   {
    "duration": 7,
    "start_time": "2021-10-19T10:02:31.946Z"
   },
   {
    "duration": 25,
    "start_time": "2021-10-19T10:02:31.956Z"
   },
   {
    "duration": 13,
    "start_time": "2021-10-19T10:02:31.983Z"
   },
   {
    "duration": 17,
    "start_time": "2021-10-19T10:02:31.998Z"
   },
   {
    "duration": 31,
    "start_time": "2021-10-19T10:02:32.017Z"
   },
   {
    "duration": 27,
    "start_time": "2021-10-19T10:02:32.050Z"
   },
   {
    "duration": 112,
    "start_time": "2021-10-19T10:02:32.079Z"
   },
   {
    "duration": 193,
    "start_time": "2021-10-19T10:02:32.193Z"
   },
   {
    "duration": 190,
    "start_time": "2021-10-19T10:02:32.388Z"
   },
   {
    "duration": 37,
    "start_time": "2021-10-19T10:02:32.580Z"
   },
   {
    "duration": 48,
    "start_time": "2021-10-19T10:02:32.619Z"
   },
   {
    "duration": 14,
    "start_time": "2021-10-19T10:02:32.669Z"
   },
   {
    "duration": 34,
    "start_time": "2021-10-19T10:02:32.685Z"
   },
   {
    "duration": 115,
    "start_time": "2021-10-19T10:02:32.721Z"
   },
   {
    "duration": 34,
    "start_time": "2021-10-19T10:02:32.838Z"
   },
   {
    "duration": 46,
    "start_time": "2021-10-19T10:02:32.874Z"
   },
   {
    "duration": 27,
    "start_time": "2021-10-19T10:02:32.922Z"
   },
   {
    "duration": 15,
    "start_time": "2021-10-19T10:02:32.951Z"
   },
   {
    "duration": 10,
    "start_time": "2021-10-19T10:02:32.967Z"
   },
   {
    "duration": 3,
    "start_time": "2021-10-19T10:02:32.978Z"
   },
   {
    "duration": 1997,
    "start_time": "2021-10-19T10:02:32.982Z"
   },
   {
    "duration": 18,
    "start_time": "2021-10-19T10:02:34.981Z"
   },
   {
    "duration": 565,
    "start_time": "2021-10-19T10:02:35.000Z"
   },
   {
    "duration": 5,
    "start_time": "2021-10-19T10:02:35.566Z"
   },
   {
    "duration": 28,
    "start_time": "2021-10-19T10:02:35.573Z"
   },
   {
    "duration": 579,
    "start_time": "2021-10-19T10:02:35.603Z"
   },
   {
    "duration": 29,
    "start_time": "2021-10-19T10:02:36.184Z"
   },
   {
    "duration": 46,
    "start_time": "2021-10-19T10:02:36.215Z"
   },
   {
    "duration": 40,
    "start_time": "2021-10-19T10:02:36.263Z"
   },
   {
    "duration": 244,
    "start_time": "2021-10-19T10:02:36.304Z"
   },
   {
    "duration": 215,
    "start_time": "2021-10-19T10:02:36.550Z"
   },
   {
    "duration": 219,
    "start_time": "2021-10-19T10:02:36.766Z"
   },
   {
    "duration": 212,
    "start_time": "2021-10-19T10:02:36.986Z"
   },
   {
    "duration": 5,
    "start_time": "2021-10-19T10:02:37.199Z"
   },
   {
    "duration": 2034,
    "start_time": "2021-10-19T10:02:37.206Z"
   },
   {
    "duration": 2,
    "start_time": "2021-10-19T10:02:39.245Z"
   },
   {
    "duration": 18,
    "start_time": "2021-10-19T10:02:39.249Z"
   },
   {
    "duration": 27,
    "start_time": "2021-10-19T10:02:39.269Z"
   },
   {
    "duration": 4,
    "start_time": "2021-10-19T10:02:39.298Z"
   },
   {
    "duration": 48,
    "start_time": "2021-10-19T10:02:39.304Z"
   },
   {
    "duration": 11,
    "start_time": "2021-10-19T10:03:11.730Z"
   },
   {
    "duration": 1488,
    "start_time": "2021-10-19T10:03:27.731Z"
   },
   {
    "duration": 33,
    "start_time": "2021-10-19T10:03:29.222Z"
   },
   {
    "duration": 29,
    "start_time": "2021-10-19T10:03:29.257Z"
   },
   {
    "duration": 117,
    "start_time": "2021-10-19T10:03:29.288Z"
   },
   {
    "duration": 22,
    "start_time": "2021-10-19T10:03:29.407Z"
   },
   {
    "duration": 22,
    "start_time": "2021-10-19T10:03:29.431Z"
   },
   {
    "duration": 45,
    "start_time": "2021-10-19T10:03:29.455Z"
   },
   {
    "duration": 53,
    "start_time": "2021-10-19T10:03:29.502Z"
   },
   {
    "duration": 25,
    "start_time": "2021-10-19T10:03:29.557Z"
   },
   {
    "duration": 74,
    "start_time": "2021-10-19T10:03:29.584Z"
   },
   {
    "duration": 11,
    "start_time": "2021-10-19T10:03:29.660Z"
   },
   {
    "duration": 8,
    "start_time": "2021-10-19T10:03:29.672Z"
   },
   {
    "duration": 20,
    "start_time": "2021-10-19T10:03:29.681Z"
   },
   {
    "duration": 13,
    "start_time": "2021-10-19T10:03:29.702Z"
   },
   {
    "duration": 30,
    "start_time": "2021-10-19T10:03:29.717Z"
   },
   {
    "duration": 74,
    "start_time": "2021-10-19T10:03:29.748Z"
   },
   {
    "duration": 38,
    "start_time": "2021-10-19T10:03:29.824Z"
   },
   {
    "duration": 67,
    "start_time": "2021-10-19T10:03:29.863Z"
   },
   {
    "duration": 27,
    "start_time": "2021-10-19T10:03:29.932Z"
   },
   {
    "duration": 49,
    "start_time": "2021-10-19T10:03:29.961Z"
   },
   {
    "duration": 39,
    "start_time": "2021-10-19T10:03:30.011Z"
   },
   {
    "duration": 6,
    "start_time": "2021-10-19T10:03:30.052Z"
   },
   {
    "duration": 28,
    "start_time": "2021-10-19T10:03:30.060Z"
   },
   {
    "duration": 13,
    "start_time": "2021-10-19T10:03:30.090Z"
   },
   {
    "duration": 42,
    "start_time": "2021-10-19T10:03:30.105Z"
   },
   {
    "duration": 11,
    "start_time": "2021-10-19T10:03:30.149Z"
   },
   {
    "duration": 24,
    "start_time": "2021-10-19T10:03:30.163Z"
   },
   {
    "duration": 108,
    "start_time": "2021-10-19T10:03:30.189Z"
   },
   {
    "duration": 204,
    "start_time": "2021-10-19T10:03:30.299Z"
   },
   {
    "duration": 191,
    "start_time": "2021-10-19T10:03:30.505Z"
   },
   {
    "duration": 46,
    "start_time": "2021-10-19T10:03:30.698Z"
   },
   {
    "duration": 37,
    "start_time": "2021-10-19T10:03:30.746Z"
   },
   {
    "duration": 14,
    "start_time": "2021-10-19T10:03:30.785Z"
   },
   {
    "duration": 57,
    "start_time": "2021-10-19T10:03:30.801Z"
   },
   {
    "duration": 105,
    "start_time": "2021-10-19T10:03:30.859Z"
   },
   {
    "duration": 23,
    "start_time": "2021-10-19T10:03:30.966Z"
   },
   {
    "duration": 67,
    "start_time": "2021-10-19T10:03:30.990Z"
   },
   {
    "duration": 13,
    "start_time": "2021-10-19T10:03:31.058Z"
   },
   {
    "duration": 44,
    "start_time": "2021-10-19T10:03:31.073Z"
   },
   {
    "duration": 32,
    "start_time": "2021-10-19T10:03:31.119Z"
   },
   {
    "duration": 19,
    "start_time": "2021-10-19T10:03:31.153Z"
   },
   {
    "duration": 2203,
    "start_time": "2021-10-19T10:03:31.173Z"
   },
   {
    "duration": 17,
    "start_time": "2021-10-19T10:03:33.378Z"
   },
   {
    "duration": 802,
    "start_time": "2021-10-19T10:03:33.397Z"
   },
   {
    "duration": 46,
    "start_time": "2021-10-19T10:03:34.201Z"
   },
   {
    "duration": 58,
    "start_time": "2021-10-19T10:03:34.248Z"
   },
   {
    "duration": 907,
    "start_time": "2021-10-19T10:03:34.308Z"
   },
   {
    "duration": 532,
    "start_time": "2021-10-19T10:03:34.685Z"
   },
   {
    "duration": 518,
    "start_time": "2021-10-19T10:03:34.700Z"
   },
   {
    "duration": 500,
    "start_time": "2021-10-19T10:03:34.719Z"
   },
   {
    "duration": 482,
    "start_time": "2021-10-19T10:03:34.738Z"
   },
   {
    "duration": 479,
    "start_time": "2021-10-19T10:03:34.742Z"
   },
   {
    "duration": 473,
    "start_time": "2021-10-19T10:03:34.749Z"
   },
   {
    "duration": 471,
    "start_time": "2021-10-19T10:03:34.752Z"
   },
   {
    "duration": 469,
    "start_time": "2021-10-19T10:03:34.755Z"
   },
   {
    "duration": 466,
    "start_time": "2021-10-19T10:03:34.759Z"
   },
   {
    "duration": 461,
    "start_time": "2021-10-19T10:03:34.765Z"
   },
   {
    "duration": 459,
    "start_time": "2021-10-19T10:03:34.768Z"
   },
   {
    "duration": 458,
    "start_time": "2021-10-19T10:03:34.770Z"
   },
   {
    "duration": 453,
    "start_time": "2021-10-19T10:03:34.776Z"
   },
   {
    "duration": 448,
    "start_time": "2021-10-19T10:03:34.782Z"
   },
   {
    "duration": 1432,
    "start_time": "2021-10-19T10:05:14.107Z"
   },
   {
    "duration": 34,
    "start_time": "2021-10-19T10:05:15.541Z"
   },
   {
    "duration": 27,
    "start_time": "2021-10-19T10:05:15.577Z"
   },
   {
    "duration": 112,
    "start_time": "2021-10-19T10:05:15.606Z"
   },
   {
    "duration": 29,
    "start_time": "2021-10-19T10:05:15.719Z"
   },
   {
    "duration": 18,
    "start_time": "2021-10-19T10:05:15.750Z"
   },
   {
    "duration": 72,
    "start_time": "2021-10-19T10:05:15.769Z"
   },
   {
    "duration": 27,
    "start_time": "2021-10-19T10:05:15.844Z"
   },
   {
    "duration": 28,
    "start_time": "2021-10-19T10:05:15.873Z"
   },
   {
    "duration": 73,
    "start_time": "2021-10-19T10:05:15.902Z"
   },
   {
    "duration": 12,
    "start_time": "2021-10-19T10:05:15.977Z"
   },
   {
    "duration": 10,
    "start_time": "2021-10-19T10:05:15.990Z"
   },
   {
    "duration": 21,
    "start_time": "2021-10-19T10:05:16.002Z"
   },
   {
    "duration": 14,
    "start_time": "2021-10-19T10:05:16.044Z"
   },
   {
    "duration": 6,
    "start_time": "2021-10-19T10:05:16.060Z"
   },
   {
    "duration": 93,
    "start_time": "2021-10-19T10:05:16.068Z"
   },
   {
    "duration": 22,
    "start_time": "2021-10-19T10:05:16.162Z"
   },
   {
    "duration": 80,
    "start_time": "2021-10-19T10:05:16.185Z"
   },
   {
    "duration": 19,
    "start_time": "2021-10-19T10:05:16.266Z"
   },
   {
    "duration": 67,
    "start_time": "2021-10-19T10:05:16.287Z"
   },
   {
    "duration": 14,
    "start_time": "2021-10-19T10:05:16.355Z"
   },
   {
    "duration": 15,
    "start_time": "2021-10-19T10:05:16.371Z"
   },
   {
    "duration": 29,
    "start_time": "2021-10-19T10:05:16.390Z"
   },
   {
    "duration": 28,
    "start_time": "2021-10-19T10:05:16.421Z"
   },
   {
    "duration": 16,
    "start_time": "2021-10-19T10:05:16.451Z"
   },
   {
    "duration": 8,
    "start_time": "2021-10-19T10:05:16.469Z"
   },
   {
    "duration": 27,
    "start_time": "2021-10-19T10:05:16.479Z"
   },
   {
    "duration": 127,
    "start_time": "2021-10-19T10:05:16.508Z"
   },
   {
    "duration": 200,
    "start_time": "2021-10-19T10:05:16.636Z"
   },
   {
    "duration": 216,
    "start_time": "2021-10-19T10:05:16.838Z"
   },
   {
    "duration": 39,
    "start_time": "2021-10-19T10:05:17.056Z"
   },
   {
    "duration": 53,
    "start_time": "2021-10-19T10:05:17.097Z"
   },
   {
    "duration": 17,
    "start_time": "2021-10-19T10:05:17.152Z"
   },
   {
    "duration": 60,
    "start_time": "2021-10-19T10:05:17.171Z"
   },
   {
    "duration": 98,
    "start_time": "2021-10-19T10:05:17.234Z"
   },
   {
    "duration": 28,
    "start_time": "2021-10-19T10:05:17.334Z"
   },
   {
    "duration": 52,
    "start_time": "2021-10-19T10:05:17.364Z"
   },
   {
    "duration": 14,
    "start_time": "2021-10-19T10:05:17.418Z"
   },
   {
    "duration": 21,
    "start_time": "2021-10-19T10:05:17.444Z"
   },
   {
    "duration": 29,
    "start_time": "2021-10-19T10:05:17.466Z"
   },
   {
    "duration": 7,
    "start_time": "2021-10-19T10:05:17.496Z"
   },
   {
    "duration": 2080,
    "start_time": "2021-10-19T10:05:17.505Z"
   },
   {
    "duration": 16,
    "start_time": "2021-10-19T10:05:19.587Z"
   },
   {
    "duration": 1235,
    "start_time": "2021-10-19T10:05:19.605Z"
   },
   {
    "duration": 5,
    "start_time": "2021-10-19T10:05:20.842Z"
   },
   {
    "duration": 32,
    "start_time": "2021-10-19T10:05:20.849Z"
   },
   {
    "duration": 968,
    "start_time": "2021-10-19T10:05:20.883Z"
   },
   {
    "duration": 576,
    "start_time": "2021-10-19T10:05:21.280Z"
   },
   {
    "duration": 569,
    "start_time": "2021-10-19T10:05:21.288Z"
   },
   {
    "duration": 563,
    "start_time": "2021-10-19T10:05:21.296Z"
   },
   {
    "duration": 558,
    "start_time": "2021-10-19T10:05:21.303Z"
   },
   {
    "duration": 553,
    "start_time": "2021-10-19T10:05:21.309Z"
   },
   {
    "duration": 540,
    "start_time": "2021-10-19T10:05:21.324Z"
   },
   {
    "duration": 537,
    "start_time": "2021-10-19T10:05:21.329Z"
   },
   {
    "duration": 535,
    "start_time": "2021-10-19T10:05:21.332Z"
   },
   {
    "duration": 534,
    "start_time": "2021-10-19T10:05:21.335Z"
   },
   {
    "duration": 532,
    "start_time": "2021-10-19T10:05:21.338Z"
   },
   {
    "duration": 532,
    "start_time": "2021-10-19T10:05:21.340Z"
   },
   {
    "duration": 530,
    "start_time": "2021-10-19T10:05:21.343Z"
   },
   {
    "duration": 529,
    "start_time": "2021-10-19T10:05:21.346Z"
   },
   {
    "duration": 527,
    "start_time": "2021-10-19T10:05:21.349Z"
   },
   {
    "duration": 19,
    "start_time": "2021-10-19T10:05:46.324Z"
   },
   {
    "duration": 1521,
    "start_time": "2021-10-19T10:07:20.645Z"
   },
   {
    "duration": 35,
    "start_time": "2021-10-19T10:07:22.168Z"
   },
   {
    "duration": 32,
    "start_time": "2021-10-19T10:07:22.206Z"
   },
   {
    "duration": 109,
    "start_time": "2021-10-19T10:07:22.241Z"
   },
   {
    "duration": 25,
    "start_time": "2021-10-19T10:07:22.352Z"
   },
   {
    "duration": 14,
    "start_time": "2021-10-19T10:07:22.378Z"
   },
   {
    "duration": 75,
    "start_time": "2021-10-19T10:07:22.394Z"
   },
   {
    "duration": 30,
    "start_time": "2021-10-19T10:07:22.471Z"
   },
   {
    "duration": 45,
    "start_time": "2021-10-19T10:07:22.503Z"
   },
   {
    "duration": 64,
    "start_time": "2021-10-19T10:07:22.549Z"
   },
   {
    "duration": 11,
    "start_time": "2021-10-19T10:07:22.615Z"
   },
   {
    "duration": 8,
    "start_time": "2021-10-19T10:07:22.645Z"
   },
   {
    "duration": 29,
    "start_time": "2021-10-19T10:07:22.655Z"
   },
   {
    "duration": 17,
    "start_time": "2021-10-19T10:07:22.686Z"
   },
   {
    "duration": 8,
    "start_time": "2021-10-19T10:07:22.704Z"
   },
   {
    "duration": 107,
    "start_time": "2021-10-19T10:07:22.713Z"
   },
   {
    "duration": 37,
    "start_time": "2021-10-19T10:07:22.822Z"
   },
   {
    "duration": 67,
    "start_time": "2021-10-19T10:07:22.861Z"
   },
   {
    "duration": 29,
    "start_time": "2021-10-19T10:07:22.929Z"
   },
   {
    "duration": 49,
    "start_time": "2021-10-19T10:07:22.959Z"
   },
   {
    "duration": 41,
    "start_time": "2021-10-19T10:07:23.009Z"
   },
   {
    "duration": 8,
    "start_time": "2021-10-19T10:07:23.052Z"
   },
   {
    "duration": 30,
    "start_time": "2021-10-19T10:07:23.064Z"
   },
   {
    "duration": 12,
    "start_time": "2021-10-19T10:07:23.096Z"
   },
   {
    "duration": 38,
    "start_time": "2021-10-19T10:07:23.110Z"
   },
   {
    "duration": 6,
    "start_time": "2021-10-19T10:07:23.149Z"
   },
   {
    "duration": 24,
    "start_time": "2021-10-19T10:07:23.157Z"
   },
   {
    "duration": 106,
    "start_time": "2021-10-19T10:07:23.183Z"
   },
   {
    "duration": 202,
    "start_time": "2021-10-19T10:07:23.290Z"
   },
   {
    "duration": 292,
    "start_time": "2021-10-19T10:07:23.494Z"
   },
   {
    "duration": 38,
    "start_time": "2021-10-19T10:07:23.787Z"
   },
   {
    "duration": 49,
    "start_time": "2021-10-19T10:07:23.827Z"
   },
   {
    "duration": 14,
    "start_time": "2021-10-19T10:07:23.878Z"
   },
   {
    "duration": 50,
    "start_time": "2021-10-19T10:07:23.894Z"
   },
   {
    "duration": 106,
    "start_time": "2021-10-19T10:07:23.946Z"
   },
   {
    "duration": 26,
    "start_time": "2021-10-19T10:07:24.053Z"
   },
   {
    "duration": 71,
    "start_time": "2021-10-19T10:07:24.081Z"
   },
   {
    "duration": 14,
    "start_time": "2021-10-19T10:07:24.154Z"
   },
   {
    "duration": 15,
    "start_time": "2021-10-19T10:07:24.170Z"
   },
   {
    "duration": 11,
    "start_time": "2021-10-19T10:07:24.187Z"
   },
   {
    "duration": 2,
    "start_time": "2021-10-19T10:07:24.200Z"
   },
   {
    "duration": 2022,
    "start_time": "2021-10-19T10:07:24.204Z"
   },
   {
    "duration": 23,
    "start_time": "2021-10-19T10:07:26.228Z"
   },
   {
    "duration": 580,
    "start_time": "2021-10-19T10:07:26.253Z"
   },
   {
    "duration": 7,
    "start_time": "2021-10-19T10:07:26.835Z"
   },
   {
    "duration": 25,
    "start_time": "2021-10-19T10:07:26.844Z"
   },
   {
    "duration": 980,
    "start_time": "2021-10-19T10:07:26.871Z"
   },
   {
    "duration": 572,
    "start_time": "2021-10-19T10:07:27.281Z"
   },
   {
    "duration": 558,
    "start_time": "2021-10-19T10:07:27.296Z"
   },
   {
    "duration": 550,
    "start_time": "2021-10-19T10:07:27.305Z"
   },
   {
    "duration": 540,
    "start_time": "2021-10-19T10:07:27.316Z"
   },
   {
    "duration": 526,
    "start_time": "2021-10-19T10:07:27.330Z"
   },
   {
    "duration": 518,
    "start_time": "2021-10-19T10:07:27.339Z"
   },
   {
    "duration": 510,
    "start_time": "2021-10-19T10:07:27.348Z"
   },
   {
    "duration": 494,
    "start_time": "2021-10-19T10:07:27.365Z"
   },
   {
    "duration": 485,
    "start_time": "2021-10-19T10:07:27.375Z"
   },
   {
    "duration": 472,
    "start_time": "2021-10-19T10:07:27.389Z"
   },
   {
    "duration": 460,
    "start_time": "2021-10-19T10:07:27.401Z"
   },
   {
    "duration": 444,
    "start_time": "2021-10-19T10:07:27.418Z"
   },
   {
    "duration": 438,
    "start_time": "2021-10-19T10:07:27.425Z"
   },
   {
    "duration": 436,
    "start_time": "2021-10-19T10:07:27.428Z"
   },
   {
    "duration": 1524,
    "start_time": "2021-10-19T10:08:35.506Z"
   },
   {
    "duration": 31,
    "start_time": "2021-10-19T10:08:37.032Z"
   },
   {
    "duration": 43,
    "start_time": "2021-10-19T10:08:37.067Z"
   },
   {
    "duration": 106,
    "start_time": "2021-10-19T10:08:37.112Z"
   },
   {
    "duration": 32,
    "start_time": "2021-10-19T10:08:37.220Z"
   },
   {
    "duration": 23,
    "start_time": "2021-10-19T10:08:37.254Z"
   },
   {
    "duration": 78,
    "start_time": "2021-10-19T10:08:37.279Z"
   },
   {
    "duration": 42,
    "start_time": "2021-10-19T10:08:37.359Z"
   },
   {
    "duration": 31,
    "start_time": "2021-10-19T10:08:37.403Z"
   },
   {
    "duration": 79,
    "start_time": "2021-10-19T10:08:37.436Z"
   },
   {
    "duration": 11,
    "start_time": "2021-10-19T10:08:37.516Z"
   },
   {
    "duration": 28,
    "start_time": "2021-10-19T10:08:37.529Z"
   },
   {
    "duration": 30,
    "start_time": "2021-10-19T10:08:37.558Z"
   },
   {
    "duration": 28,
    "start_time": "2021-10-19T10:08:37.590Z"
   },
   {
    "duration": 25,
    "start_time": "2021-10-19T10:08:37.619Z"
   },
   {
    "duration": 94,
    "start_time": "2021-10-19T10:08:37.645Z"
   },
   {
    "duration": 23,
    "start_time": "2021-10-19T10:08:37.740Z"
   },
   {
    "duration": 64,
    "start_time": "2021-10-19T10:08:37.764Z"
   },
   {
    "duration": 30,
    "start_time": "2021-10-19T10:08:37.829Z"
   },
   {
    "duration": 64,
    "start_time": "2021-10-19T10:08:37.861Z"
   },
   {
    "duration": 19,
    "start_time": "2021-10-19T10:08:37.926Z"
   },
   {
    "duration": 24,
    "start_time": "2021-10-19T10:08:37.948Z"
   },
   {
    "duration": 41,
    "start_time": "2021-10-19T10:08:37.974Z"
   },
   {
    "duration": 20,
    "start_time": "2021-10-19T10:08:38.016Z"
   },
   {
    "duration": 57,
    "start_time": "2021-10-19T10:08:38.038Z"
   },
   {
    "duration": 26,
    "start_time": "2021-10-19T10:08:38.097Z"
   },
   {
    "duration": 43,
    "start_time": "2021-10-19T10:08:38.124Z"
   },
   {
    "duration": 113,
    "start_time": "2021-10-19T10:08:38.168Z"
   },
   {
    "duration": 194,
    "start_time": "2021-10-19T10:08:38.282Z"
   },
   {
    "duration": 188,
    "start_time": "2021-10-19T10:08:38.477Z"
   },
   {
    "duration": 38,
    "start_time": "2021-10-19T10:08:38.666Z"
   },
   {
    "duration": 53,
    "start_time": "2021-10-19T10:08:38.706Z"
   },
   {
    "duration": 16,
    "start_time": "2021-10-19T10:08:38.761Z"
   },
   {
    "duration": 41,
    "start_time": "2021-10-19T10:08:38.779Z"
   },
   {
    "duration": 110,
    "start_time": "2021-10-19T10:08:38.822Z"
   },
   {
    "duration": 32,
    "start_time": "2021-10-19T10:08:38.934Z"
   },
   {
    "duration": 46,
    "start_time": "2021-10-19T10:08:38.968Z"
   },
   {
    "duration": 31,
    "start_time": "2021-10-19T10:08:39.016Z"
   },
   {
    "duration": 30,
    "start_time": "2021-10-19T10:08:39.048Z"
   },
   {
    "duration": 21,
    "start_time": "2021-10-19T10:08:39.080Z"
   },
   {
    "duration": 14,
    "start_time": "2021-10-19T10:08:39.103Z"
   },
   {
    "duration": 2089,
    "start_time": "2021-10-19T10:08:39.119Z"
   },
   {
    "duration": 21,
    "start_time": "2021-10-19T10:08:41.209Z"
   },
   {
    "duration": 623,
    "start_time": "2021-10-19T10:08:41.232Z"
   },
   {
    "duration": 6,
    "start_time": "2021-10-19T10:08:41.857Z"
   },
   {
    "duration": 38,
    "start_time": "2021-10-19T10:08:41.865Z"
   },
   {
    "duration": 602,
    "start_time": "2021-10-19T10:08:41.905Z"
   },
   {
    "duration": 38,
    "start_time": "2021-10-19T10:08:42.508Z"
   },
   {
    "duration": 40,
    "start_time": "2021-10-19T10:08:42.548Z"
   },
   {
    "duration": 76,
    "start_time": "2021-10-19T10:08:42.590Z"
   },
   {
    "duration": 271,
    "start_time": "2021-10-19T10:08:42.668Z"
   },
   {
    "duration": 241,
    "start_time": "2021-10-19T10:08:42.944Z"
   },
   {
    "duration": 247,
    "start_time": "2021-10-19T10:08:43.187Z"
   },
   {
    "duration": 216,
    "start_time": "2021-10-19T10:08:43.444Z"
   },
   {
    "duration": 5,
    "start_time": "2021-10-19T10:08:43.661Z"
   },
   {
    "duration": 2128,
    "start_time": "2021-10-19T10:08:43.668Z"
   },
   {
    "duration": 3,
    "start_time": "2021-10-19T10:08:45.798Z"
   },
   {
    "duration": 24,
    "start_time": "2021-10-19T10:08:45.802Z"
   },
   {
    "duration": 41,
    "start_time": "2021-10-19T10:08:45.827Z"
   },
   {
    "duration": 9,
    "start_time": "2021-10-19T10:08:45.870Z"
   },
   {
    "duration": 57,
    "start_time": "2021-10-19T10:08:45.880Z"
   },
   {
    "duration": 1581,
    "start_time": "2021-10-19T10:09:57.380Z"
   },
   {
    "duration": 32,
    "start_time": "2021-10-19T10:09:58.963Z"
   },
   {
    "duration": 31,
    "start_time": "2021-10-19T10:09:58.998Z"
   },
   {
    "duration": 108,
    "start_time": "2021-10-19T10:09:59.031Z"
   },
   {
    "duration": 23,
    "start_time": "2021-10-19T10:09:59.144Z"
   },
   {
    "duration": 13,
    "start_time": "2021-10-19T10:09:59.168Z"
   },
   {
    "duration": 66,
    "start_time": "2021-10-19T10:09:59.183Z"
   },
   {
    "duration": 29,
    "start_time": "2021-10-19T10:09:59.252Z"
   },
   {
    "duration": 27,
    "start_time": "2021-10-19T10:09:59.283Z"
   },
   {
    "duration": 91,
    "start_time": "2021-10-19T10:09:59.312Z"
   },
   {
    "duration": 13,
    "start_time": "2021-10-19T10:09:59.405Z"
   },
   {
    "duration": 25,
    "start_time": "2021-10-19T10:09:59.421Z"
   },
   {
    "duration": 20,
    "start_time": "2021-10-19T10:09:59.449Z"
   },
   {
    "duration": 15,
    "start_time": "2021-10-19T10:09:59.471Z"
   },
   {
    "duration": 8,
    "start_time": "2021-10-19T10:09:59.489Z"
   },
   {
    "duration": 111,
    "start_time": "2021-10-19T10:09:59.499Z"
   },
   {
    "duration": 38,
    "start_time": "2021-10-19T10:09:59.612Z"
   },
   {
    "duration": 65,
    "start_time": "2021-10-19T10:09:59.652Z"
   },
   {
    "duration": 35,
    "start_time": "2021-10-19T10:09:59.720Z"
   },
   {
    "duration": 50,
    "start_time": "2021-10-19T10:09:59.757Z"
   },
   {
    "duration": 41,
    "start_time": "2021-10-19T10:09:59.808Z"
   },
   {
    "duration": 7,
    "start_time": "2021-10-19T10:09:59.851Z"
   },
   {
    "duration": 37,
    "start_time": "2021-10-19T10:09:59.862Z"
   },
   {
    "duration": 13,
    "start_time": "2021-10-19T10:09:59.901Z"
   },
   {
    "duration": 37,
    "start_time": "2021-10-19T10:09:59.916Z"
   },
   {
    "duration": 7,
    "start_time": "2021-10-19T10:09:59.955Z"
   },
   {
    "duration": 31,
    "start_time": "2021-10-19T10:09:59.964Z"
   },
   {
    "duration": 112,
    "start_time": "2021-10-19T10:09:59.997Z"
   },
   {
    "duration": 200,
    "start_time": "2021-10-19T10:10:00.110Z"
   },
   {
    "duration": 197,
    "start_time": "2021-10-19T10:10:00.312Z"
   },
   {
    "duration": 49,
    "start_time": "2021-10-19T10:10:00.510Z"
   },
   {
    "duration": 36,
    "start_time": "2021-10-19T10:10:00.561Z"
   },
   {
    "duration": 14,
    "start_time": "2021-10-19T10:10:00.599Z"
   },
   {
    "duration": 52,
    "start_time": "2021-10-19T10:10:00.615Z"
   },
   {
    "duration": 107,
    "start_time": "2021-10-19T10:10:00.669Z"
   },
   {
    "duration": 24,
    "start_time": "2021-10-19T10:10:00.777Z"
   },
   {
    "duration": 68,
    "start_time": "2021-10-19T10:10:00.803Z"
   },
   {
    "duration": 25,
    "start_time": "2021-10-19T10:10:00.872Z"
   },
   {
    "duration": 36,
    "start_time": "2021-10-19T10:10:00.899Z"
   },
   {
    "duration": 28,
    "start_time": "2021-10-19T10:10:00.937Z"
   },
   {
    "duration": 29,
    "start_time": "2021-10-19T10:10:00.967Z"
   },
   {
    "duration": 2435,
    "start_time": "2021-10-19T10:10:00.998Z"
   },
   {
    "duration": 22,
    "start_time": "2021-10-19T10:10:03.435Z"
   },
   {
    "duration": 593,
    "start_time": "2021-10-19T10:10:03.459Z"
   },
   {
    "duration": 6,
    "start_time": "2021-10-19T10:10:04.054Z"
   },
   {
    "duration": 38,
    "start_time": "2021-10-19T10:10:04.062Z"
   },
   {
    "duration": 588,
    "start_time": "2021-10-19T10:10:04.102Z"
   },
   {
    "duration": 27,
    "start_time": "2021-10-19T10:10:04.691Z"
   },
   {
    "duration": 40,
    "start_time": "2021-10-19T10:10:04.720Z"
   },
   {
    "duration": 39,
    "start_time": "2021-10-19T10:10:04.762Z"
   },
   {
    "duration": 236,
    "start_time": "2021-10-19T10:10:04.802Z"
   },
   {
    "duration": 222,
    "start_time": "2021-10-19T10:10:05.044Z"
   },
   {
    "duration": 235,
    "start_time": "2021-10-19T10:10:05.268Z"
   },
   {
    "duration": 226,
    "start_time": "2021-10-19T10:10:05.504Z"
   },
   {
    "duration": 13,
    "start_time": "2021-10-19T10:10:05.732Z"
   },
   {
    "duration": 2040,
    "start_time": "2021-10-19T10:10:05.747Z"
   },
   {
    "duration": 2,
    "start_time": "2021-10-19T10:10:07.789Z"
   },
   {
    "duration": 11,
    "start_time": "2021-10-19T10:10:07.793Z"
   },
   {
    "duration": 39,
    "start_time": "2021-10-19T10:10:07.806Z"
   },
   {
    "duration": 6,
    "start_time": "2021-10-19T10:10:07.846Z"
   },
   {
    "duration": 30,
    "start_time": "2021-10-19T10:10:07.854Z"
   },
   {
    "duration": 109,
    "start_time": "2021-10-19T10:12:05.984Z"
   },
   {
    "duration": 97,
    "start_time": "2021-10-19T10:16:04.467Z"
   },
   {
    "duration": 1862,
    "start_time": "2022-01-29T14:46:16.119Z"
   },
   {
    "duration": 42,
    "start_time": "2022-01-29T14:46:20.114Z"
   },
   {
    "duration": 1376,
    "start_time": "2022-01-29T14:50:49.210Z"
   },
   {
    "duration": 496,
    "start_time": "2022-01-29T14:50:50.589Z"
   },
   {
    "duration": 41,
    "start_time": "2022-01-29T14:50:51.087Z"
   },
   {
    "duration": 44,
    "start_time": "2022-01-29T14:50:51.131Z"
   },
   {
    "duration": 149,
    "start_time": "2022-01-29T14:50:51.178Z"
   },
   {
    "duration": 36,
    "start_time": "2022-01-29T14:50:51.332Z"
   },
   {
    "duration": 18,
    "start_time": "2022-01-29T14:50:51.371Z"
   },
   {
    "duration": 91,
    "start_time": "2022-01-29T14:50:51.392Z"
   },
   {
    "duration": 64,
    "start_time": "2022-01-29T14:50:51.486Z"
   },
   {
    "duration": 36,
    "start_time": "2022-01-29T14:50:51.552Z"
   },
   {
    "duration": 134,
    "start_time": "2022-01-29T14:50:51.591Z"
   },
   {
    "duration": 18,
    "start_time": "2022-01-29T14:50:51.732Z"
   },
   {
    "duration": 8,
    "start_time": "2022-01-29T14:50:51.752Z"
   },
   {
    "duration": 31,
    "start_time": "2022-01-29T14:50:51.763Z"
   },
   {
    "duration": 23,
    "start_time": "2022-01-29T14:50:51.838Z"
   },
   {
    "duration": 11,
    "start_time": "2022-01-29T14:50:51.863Z"
   },
   {
    "duration": 141,
    "start_time": "2022-01-29T14:50:51.876Z"
   },
   {
    "duration": 41,
    "start_time": "2022-01-29T14:50:52.020Z"
   },
   {
    "duration": 114,
    "start_time": "2022-01-29T14:50:52.064Z"
   },
   {
    "duration": 22,
    "start_time": "2022-01-29T14:50:52.181Z"
   },
   {
    "duration": 91,
    "start_time": "2022-01-29T14:50:52.205Z"
   },
   {
    "duration": 48,
    "start_time": "2022-01-29T14:50:52.299Z"
   },
   {
    "duration": 9,
    "start_time": "2022-01-29T14:50:52.352Z"
   },
   {
    "duration": 73,
    "start_time": "2022-01-29T14:50:52.364Z"
   },
   {
    "duration": 16,
    "start_time": "2022-01-29T14:50:52.439Z"
   },
   {
    "duration": 31,
    "start_time": "2022-01-29T14:50:52.458Z"
   },
   {
    "duration": 49,
    "start_time": "2022-01-29T14:50:52.492Z"
   },
   {
    "duration": 37,
    "start_time": "2022-01-29T14:50:52.544Z"
   },
   {
    "duration": 167,
    "start_time": "2022-01-29T14:50:52.583Z"
   },
   {
    "duration": 288,
    "start_time": "2022-01-29T14:50:52.752Z"
   },
   {
    "duration": 294,
    "start_time": "2022-01-29T14:50:53.042Z"
   },
   {
    "duration": 59,
    "start_time": "2022-01-29T14:50:53.339Z"
   },
   {
    "duration": 80,
    "start_time": "2022-01-29T14:50:53.400Z"
   },
   {
    "duration": 51,
    "start_time": "2022-01-29T14:50:53.483Z"
   },
   {
    "duration": 48,
    "start_time": "2022-01-29T14:50:53.536Z"
   },
   {
    "duration": 140,
    "start_time": "2022-01-29T14:50:53.586Z"
   },
   {
    "duration": 36,
    "start_time": "2022-01-29T14:50:53.729Z"
   },
   {
    "duration": 93,
    "start_time": "2022-01-29T14:50:53.767Z"
   },
   {
    "duration": 21,
    "start_time": "2022-01-29T14:50:53.862Z"
   },
   {
    "duration": 16,
    "start_time": "2022-01-29T14:50:53.885Z"
   },
   {
    "duration": 41,
    "start_time": "2022-01-29T14:50:53.904Z"
   },
   {
    "duration": 3,
    "start_time": "2022-01-29T14:50:53.948Z"
   },
   {
    "duration": 3455,
    "start_time": "2022-01-29T14:50:53.953Z"
   },
   {
    "duration": 33,
    "start_time": "2022-01-29T14:50:57.410Z"
   },
   {
    "duration": 543,
    "start_time": "2022-01-29T14:50:57.445Z"
   },
   {
    "duration": 7,
    "start_time": "2022-01-29T14:50:57.991Z"
   },
   {
    "duration": 62,
    "start_time": "2022-01-29T14:50:58.001Z"
   },
   {
    "duration": 1142,
    "start_time": "2022-01-29T14:50:58.066Z"
   },
   {
    "duration": 55,
    "start_time": "2022-01-29T14:50:59.211Z"
   },
   {
    "duration": 68,
    "start_time": "2022-01-29T14:50:59.268Z"
   },
   {
    "duration": 66,
    "start_time": "2022-01-29T14:50:59.339Z"
   },
   {
    "duration": 387,
    "start_time": "2022-01-29T14:50:59.432Z"
   },
   {
    "duration": 378,
    "start_time": "2022-01-29T14:50:59.831Z"
   },
   {
    "duration": 389,
    "start_time": "2022-01-29T14:51:00.213Z"
   },
   {
    "duration": 371,
    "start_time": "2022-01-29T14:51:00.605Z"
   },
   {
    "duration": 9,
    "start_time": "2022-01-29T14:51:00.979Z"
   },
   {
    "duration": 3487,
    "start_time": "2022-01-29T14:51:00.991Z"
   },
   {
    "duration": 5,
    "start_time": "2022-01-29T14:51:04.480Z"
   },
   {
    "duration": 44,
    "start_time": "2022-01-29T14:51:04.488Z"
   },
   {
    "duration": 44,
    "start_time": "2022-01-29T14:51:04.535Z"
   },
   {
    "duration": 8,
    "start_time": "2022-01-29T14:51:04.581Z"
   },
   {
    "duration": 83,
    "start_time": "2022-01-29T14:51:04.593Z"
   },
   {
    "duration": 18,
    "start_time": "2022-01-29T14:57:21.095Z"
   },
   {
    "duration": 18,
    "start_time": "2022-01-29T15:00:48.915Z"
   },
   {
    "duration": 24,
    "start_time": "2022-01-29T15:01:44.844Z"
   },
   {
    "duration": 4,
    "start_time": "2022-01-29T15:07:27.786Z"
   },
   {
    "duration": 613,
    "start_time": "2022-01-29T15:07:28.453Z"
   },
   {
    "duration": 88,
    "start_time": "2022-01-29T15:08:22.769Z"
   },
   {
    "duration": 77,
    "start_time": "2022-01-29T15:08:43.893Z"
   },
   {
    "duration": 4,
    "start_time": "2022-01-29T15:08:49.639Z"
   },
   {
    "duration": 531,
    "start_time": "2022-01-29T15:08:51.824Z"
   },
   {
    "duration": 957,
    "start_time": "2022-01-29T15:09:45.032Z"
   },
   {
    "duration": 1024,
    "start_time": "2022-01-29T15:11:55.927Z"
   },
   {
    "duration": 594,
    "start_time": "2022-01-29T15:11:56.966Z"
   },
   {
    "duration": 857,
    "start_time": "2022-01-29T15:12:31.006Z"
   },
   {
    "duration": 913,
    "start_time": "2022-01-29T15:16:04.072Z"
   },
   {
    "duration": 72,
    "start_time": "2022-01-29T15:16:14.616Z"
   },
   {
    "duration": 416,
    "start_time": "2022-01-29T15:16:43.156Z"
   },
   {
    "duration": 433,
    "start_time": "2022-01-29T15:16:55.900Z"
   },
   {
    "duration": 77,
    "start_time": "2022-01-29T15:16:56.470Z"
   },
   {
    "duration": 1302,
    "start_time": "2022-01-29T15:23:17.386Z"
   },
   {
    "duration": 504,
    "start_time": "2022-01-29T15:23:18.691Z"
   },
   {
    "duration": 41,
    "start_time": "2022-01-29T15:23:19.198Z"
   },
   {
    "duration": 40,
    "start_time": "2022-01-29T15:23:19.241Z"
   },
   {
    "duration": 153,
    "start_time": "2022-01-29T15:23:19.284Z"
   },
   {
    "duration": 30,
    "start_time": "2022-01-29T15:23:19.439Z"
   },
   {
    "duration": 61,
    "start_time": "2022-01-29T15:23:19.472Z"
   },
   {
    "duration": 59,
    "start_time": "2022-01-29T15:23:19.537Z"
   },
   {
    "duration": 57,
    "start_time": "2022-01-29T15:23:19.599Z"
   },
   {
    "duration": 37,
    "start_time": "2022-01-29T15:23:19.660Z"
   },
   {
    "duration": 120,
    "start_time": "2022-01-29T15:23:19.733Z"
   },
   {
    "duration": 24,
    "start_time": "2022-01-29T15:23:19.856Z"
   },
   {
    "duration": 8,
    "start_time": "2022-01-29T15:23:19.883Z"
   },
   {
    "duration": 56,
    "start_time": "2022-01-29T15:23:19.893Z"
   },
   {
    "duration": 23,
    "start_time": "2022-01-29T15:23:19.952Z"
   },
   {
    "duration": 10,
    "start_time": "2022-01-29T15:23:19.977Z"
   },
   {
    "duration": 165,
    "start_time": "2022-01-29T15:23:19.989Z"
   },
   {
    "duration": 35,
    "start_time": "2022-01-29T15:23:20.156Z"
   },
   {
    "duration": 121,
    "start_time": "2022-01-29T15:23:20.194Z"
   },
   {
    "duration": 38,
    "start_time": "2022-01-29T15:23:20.317Z"
   },
   {
    "duration": 97,
    "start_time": "2022-01-29T15:23:20.357Z"
   },
   {
    "duration": 27,
    "start_time": "2022-01-29T15:23:20.457Z"
   },
   {
    "duration": 43,
    "start_time": "2022-01-29T15:23:20.491Z"
   },
   {
    "duration": 43,
    "start_time": "2022-01-29T15:23:20.539Z"
   },
   {
    "duration": 55,
    "start_time": "2022-01-29T15:23:20.585Z"
   },
   {
    "duration": 32,
    "start_time": "2022-01-29T15:23:20.644Z"
   },
   {
    "duration": 53,
    "start_time": "2022-01-29T15:23:20.679Z"
   },
   {
    "duration": 41,
    "start_time": "2022-01-29T15:23:20.735Z"
   },
   {
    "duration": 172,
    "start_time": "2022-01-29T15:23:20.779Z"
   },
   {
    "duration": 287,
    "start_time": "2022-01-29T15:23:20.954Z"
   },
   {
    "duration": 292,
    "start_time": "2022-01-29T15:23:21.244Z"
   },
   {
    "duration": 58,
    "start_time": "2022-01-29T15:23:21.539Z"
   },
   {
    "duration": 77,
    "start_time": "2022-01-29T15:23:21.600Z"
   },
   {
    "duration": 28,
    "start_time": "2022-01-29T15:23:21.680Z"
   },
   {
    "duration": 66,
    "start_time": "2022-01-29T15:23:21.711Z"
   },
   {
    "duration": 145,
    "start_time": "2022-01-29T15:23:21.780Z"
   },
   {
    "duration": 39,
    "start_time": "2022-01-29T15:23:21.928Z"
   },
   {
    "duration": 93,
    "start_time": "2022-01-29T15:23:21.969Z"
   },
   {
    "duration": 24,
    "start_time": "2022-01-29T15:23:22.064Z"
   },
   {
    "duration": 48,
    "start_time": "2022-01-29T15:23:22.091Z"
   },
   {
    "duration": 20,
    "start_time": "2022-01-29T15:23:22.142Z"
   },
   {
    "duration": 3,
    "start_time": "2022-01-29T15:23:22.165Z"
   },
   {
    "duration": 3472,
    "start_time": "2022-01-29T15:23:22.171Z"
   },
   {
    "duration": 28,
    "start_time": "2022-01-29T15:23:25.645Z"
   },
   {
    "duration": 596,
    "start_time": "2022-01-29T15:23:25.675Z"
   },
   {
    "duration": 11,
    "start_time": "2022-01-29T15:23:26.275Z"
   },
   {
    "duration": 57,
    "start_time": "2022-01-29T15:23:26.289Z"
   },
   {
    "duration": 1242,
    "start_time": "2022-01-29T15:23:26.348Z"
   },
   {
    "duration": 64,
    "start_time": "2022-01-29T15:23:27.592Z"
   },
   {
    "duration": 46,
    "start_time": "2022-01-29T15:23:27.660Z"
   },
   {
    "duration": 86,
    "start_time": "2022-01-29T15:23:27.708Z"
   },
   {
    "duration": 615,
    "start_time": "2022-01-29T15:23:27.797Z"
   },
   {
    "duration": 524,
    "start_time": "2022-01-29T15:23:28.414Z"
   },
   {
    "duration": 526,
    "start_time": "2022-01-29T15:23:28.941Z"
   },
   {
    "duration": 388,
    "start_time": "2022-01-29T15:23:29.469Z"
   },
   {
    "duration": 7,
    "start_time": "2022-01-29T15:23:29.859Z"
   },
   {
    "duration": 3527,
    "start_time": "2022-01-29T15:23:29.868Z"
   },
   {
    "duration": 4,
    "start_time": "2022-01-29T15:23:33.398Z"
   },
   {
    "duration": 31,
    "start_time": "2022-01-29T15:23:33.405Z"
   },
   {
    "duration": 42,
    "start_time": "2022-01-29T15:23:33.439Z"
   },
   {
    "duration": 8,
    "start_time": "2022-01-29T15:23:33.484Z"
   },
   {
    "duration": 48,
    "start_time": "2022-01-29T15:23:33.533Z"
   },
   {
    "duration": 1378,
    "start_time": "2022-01-29T16:29:52.717Z"
   },
   {
    "duration": 512,
    "start_time": "2022-01-29T16:29:54.098Z"
   },
   {
    "duration": 40,
    "start_time": "2022-01-29T16:29:54.612Z"
   },
   {
    "duration": 42,
    "start_time": "2022-01-29T16:29:54.655Z"
   },
   {
    "duration": 163,
    "start_time": "2022-01-29T16:29:54.700Z"
   },
   {
    "duration": 26,
    "start_time": "2022-01-29T16:29:54.866Z"
   },
   {
    "duration": 48,
    "start_time": "2022-01-29T16:29:54.895Z"
   },
   {
    "duration": 57,
    "start_time": "2022-01-29T16:29:54.946Z"
   },
   {
    "duration": 56,
    "start_time": "2022-01-29T16:29:55.006Z"
   },
   {
    "duration": 67,
    "start_time": "2022-01-29T16:29:55.065Z"
   },
   {
    "duration": 111,
    "start_time": "2022-01-29T16:29:55.134Z"
   },
   {
    "duration": 19,
    "start_time": "2022-01-29T16:29:55.248Z"
   },
   {
    "duration": 8,
    "start_time": "2022-01-29T16:29:55.269Z"
   },
   {
    "duration": 62,
    "start_time": "2022-01-29T16:29:55.279Z"
   },
   {
    "duration": 23,
    "start_time": "2022-01-29T16:29:55.343Z"
   },
   {
    "duration": 10,
    "start_time": "2022-01-29T16:29:55.368Z"
   },
   {
    "duration": 144,
    "start_time": "2022-01-29T16:29:55.380Z"
   },
   {
    "duration": 33,
    "start_time": "2022-01-29T16:29:55.527Z"
   },
   {
    "duration": 123,
    "start_time": "2022-01-29T16:29:55.562Z"
   },
   {
    "duration": 23,
    "start_time": "2022-01-29T16:29:55.687Z"
   },
   {
    "duration": 82,
    "start_time": "2022-01-29T16:29:55.712Z"
   },
   {
    "duration": 45,
    "start_time": "2022-01-29T16:29:55.797Z"
   },
   {
    "duration": 9,
    "start_time": "2022-01-29T16:29:55.847Z"
   },
   {
    "duration": 75,
    "start_time": "2022-01-29T16:29:55.859Z"
   },
   {
    "duration": 14,
    "start_time": "2022-01-29T16:29:55.936Z"
   },
   {
    "duration": 27,
    "start_time": "2022-01-29T16:29:55.953Z"
   },
   {
    "duration": 9,
    "start_time": "2022-01-29T16:29:55.982Z"
   },
   {
    "duration": 36,
    "start_time": "2022-01-29T16:29:56.033Z"
   },
   {
    "duration": 168,
    "start_time": "2022-01-29T16:29:56.071Z"
   },
   {
    "duration": 292,
    "start_time": "2022-01-29T16:29:56.242Z"
   },
   {
    "duration": 284,
    "start_time": "2022-01-29T16:29:56.536Z"
   },
   {
    "duration": 56,
    "start_time": "2022-01-29T16:29:56.831Z"
   },
   {
    "duration": 73,
    "start_time": "2022-01-29T16:29:56.890Z"
   },
   {
    "duration": 29,
    "start_time": "2022-01-29T16:29:56.966Z"
   },
   {
    "duration": 78,
    "start_time": "2022-01-29T16:29:56.997Z"
   },
   {
    "duration": 143,
    "start_time": "2022-01-29T16:29:57.077Z"
   },
   {
    "duration": 45,
    "start_time": "2022-01-29T16:29:57.222Z"
   },
   {
    "duration": 88,
    "start_time": "2022-01-29T16:29:57.269Z"
   },
   {
    "duration": 22,
    "start_time": "2022-01-29T16:29:57.359Z"
   },
   {
    "duration": 53,
    "start_time": "2022-01-29T16:29:57.384Z"
   },
   {
    "duration": 20,
    "start_time": "2022-01-29T16:29:57.439Z"
   },
   {
    "duration": 3,
    "start_time": "2022-01-29T16:29:57.461Z"
   },
   {
    "duration": 3319,
    "start_time": "2022-01-29T16:29:57.466Z"
   },
   {
    "duration": 25,
    "start_time": "2022-01-29T16:30:00.788Z"
   },
   {
    "duration": 638,
    "start_time": "2022-01-29T16:30:00.815Z"
   },
   {
    "duration": 8,
    "start_time": "2022-01-29T16:30:01.456Z"
   },
   {
    "duration": 76,
    "start_time": "2022-01-29T16:30:01.467Z"
   },
   {
    "duration": 1360,
    "start_time": "2022-01-29T16:30:01.545Z"
   },
   {
    "duration": 76,
    "start_time": "2022-01-29T16:30:02.908Z"
   },
   {
    "duration": 83,
    "start_time": "2022-01-29T16:30:02.987Z"
   },
   {
    "duration": 93,
    "start_time": "2022-01-29T16:30:03.073Z"
   },
   {
    "duration": 469,
    "start_time": "2022-01-29T16:30:03.170Z"
   },
   {
    "duration": 464,
    "start_time": "2022-01-29T16:30:03.642Z"
   },
   {
    "duration": 433,
    "start_time": "2022-01-29T16:30:04.109Z"
   },
   {
    "duration": 470,
    "start_time": "2022-01-29T16:30:04.545Z"
   },
   {
    "duration": 7,
    "start_time": "2022-01-29T16:30:05.018Z"
   },
   {
    "duration": 3636,
    "start_time": "2022-01-29T16:30:05.033Z"
   },
   {
    "duration": 3,
    "start_time": "2022-01-29T16:30:08.672Z"
   },
   {
    "duration": 27,
    "start_time": "2022-01-29T16:30:08.677Z"
   },
   {
    "duration": 52,
    "start_time": "2022-01-29T16:30:08.707Z"
   },
   {
    "duration": 7,
    "start_time": "2022-01-29T16:30:08.761Z"
   },
   {
    "duration": 71,
    "start_time": "2022-01-29T16:30:08.771Z"
   },
   {
    "duration": 1322,
    "start_time": "2022-01-29T19:54:26.660Z"
   },
   {
    "duration": 509,
    "start_time": "2022-01-29T19:54:27.984Z"
   },
   {
    "duration": 43,
    "start_time": "2022-01-29T19:54:28.497Z"
   },
   {
    "duration": 38,
    "start_time": "2022-01-29T19:54:28.543Z"
   },
   {
    "duration": 162,
    "start_time": "2022-01-29T19:54:28.583Z"
   },
   {
    "duration": 27,
    "start_time": "2022-01-29T19:54:28.748Z"
   },
   {
    "duration": 18,
    "start_time": "2022-01-29T19:54:28.777Z"
   },
   {
    "duration": 90,
    "start_time": "2022-01-29T19:54:28.797Z"
   },
   {
    "duration": 56,
    "start_time": "2022-01-29T19:54:28.891Z"
   },
   {
    "duration": 37,
    "start_time": "2022-01-29T19:54:28.950Z"
   },
   {
    "duration": 125,
    "start_time": "2022-01-29T19:54:28.991Z"
   },
   {
    "duration": 23,
    "start_time": "2022-01-29T19:54:29.118Z"
   },
   {
    "duration": 8,
    "start_time": "2022-01-29T19:54:29.143Z"
   },
   {
    "duration": 22,
    "start_time": "2022-01-29T19:54:29.154Z"
   },
   {
    "duration": 62,
    "start_time": "2022-01-29T19:54:29.179Z"
   },
   {
    "duration": 9,
    "start_time": "2022-01-29T19:54:29.244Z"
   },
   {
    "duration": 123,
    "start_time": "2022-01-29T19:54:29.256Z"
   },
   {
    "duration": 31,
    "start_time": "2022-01-29T19:54:29.382Z"
   },
   {
    "duration": 89,
    "start_time": "2022-01-29T19:54:29.431Z"
   },
   {
    "duration": 24,
    "start_time": "2022-01-29T19:54:29.533Z"
   },
   {
    "duration": 95,
    "start_time": "2022-01-29T19:54:29.559Z"
   },
   {
    "duration": 21,
    "start_time": "2022-01-29T19:54:29.657Z"
   },
   {
    "duration": 8,
    "start_time": "2022-01-29T19:54:29.681Z"
   },
   {
    "duration": 74,
    "start_time": "2022-01-29T19:54:29.692Z"
   },
   {
    "duration": 16,
    "start_time": "2022-01-29T19:54:29.768Z"
   },
   {
    "duration": 59,
    "start_time": "2022-01-29T19:54:29.786Z"
   },
   {
    "duration": 11,
    "start_time": "2022-01-29T19:54:29.851Z"
   },
   {
    "duration": 36,
    "start_time": "2022-01-29T19:54:29.865Z"
   },
   {
    "duration": 163,
    "start_time": "2022-01-29T19:54:29.904Z"
   },
   {
    "duration": 281,
    "start_time": "2022-01-29T19:54:30.070Z"
   },
   {
    "duration": 275,
    "start_time": "2022-01-29T19:54:30.353Z"
   },
   {
    "duration": 59,
    "start_time": "2022-01-29T19:54:30.633Z"
   },
   {
    "duration": 72,
    "start_time": "2022-01-29T19:54:30.695Z"
   },
   {
    "duration": 22,
    "start_time": "2022-01-29T19:54:30.769Z"
   },
   {
    "duration": 66,
    "start_time": "2022-01-29T19:54:30.793Z"
   },
   {
    "duration": 144,
    "start_time": "2022-01-29T19:54:30.861Z"
   },
   {
    "duration": 44,
    "start_time": "2022-01-29T19:54:31.008Z"
   },
   {
    "duration": 82,
    "start_time": "2022-01-29T19:54:31.054Z"
   },
   {
    "duration": 21,
    "start_time": "2022-01-29T19:54:31.139Z"
   },
   {
    "duration": 16,
    "start_time": "2022-01-29T19:54:31.162Z"
   },
   {
    "duration": 14,
    "start_time": "2022-01-29T19:54:31.180Z"
   },
   {
    "duration": 3356,
    "start_time": "2022-01-29T19:54:31.196Z"
   },
   {
    "duration": 23,
    "start_time": "2022-01-29T19:54:34.555Z"
   },
   {
    "duration": 651,
    "start_time": "2022-01-29T19:54:34.581Z"
   },
   {
    "duration": 8,
    "start_time": "2022-01-29T19:54:35.235Z"
   },
   {
    "duration": 32,
    "start_time": "2022-01-29T19:54:35.245Z"
   },
   {
    "duration": 1196,
    "start_time": "2022-01-29T19:54:35.280Z"
   },
   {
    "duration": 59,
    "start_time": "2022-01-29T19:54:36.478Z"
   },
   {
    "duration": 44,
    "start_time": "2022-01-29T19:54:36.539Z"
   },
   {
    "duration": 93,
    "start_time": "2022-01-29T19:54:36.585Z"
   },
   {
    "duration": 367,
    "start_time": "2022-01-29T19:54:36.680Z"
   },
   {
    "duration": 366,
    "start_time": "2022-01-29T19:54:37.050Z"
   },
   {
    "duration": 367,
    "start_time": "2022-01-29T19:54:37.419Z"
   },
   {
    "duration": 368,
    "start_time": "2022-01-29T19:54:37.788Z"
   },
   {
    "duration": 6,
    "start_time": "2022-01-29T19:54:38.158Z"
   },
   {
    "duration": 3345,
    "start_time": "2022-01-29T19:54:38.167Z"
   },
   {
    "duration": 3,
    "start_time": "2022-01-29T19:54:41.514Z"
   },
   {
    "duration": 21,
    "start_time": "2022-01-29T19:54:41.520Z"
   },
   {
    "duration": 38,
    "start_time": "2022-01-29T19:54:41.543Z"
   },
   {
    "duration": 6,
    "start_time": "2022-01-29T19:54:41.583Z"
   },
   {
    "duration": 71,
    "start_time": "2022-01-29T19:54:41.592Z"
   },
   {
    "duration": 1340,
    "start_time": "2022-01-29T20:31:36.859Z"
   },
   {
    "duration": 521,
    "start_time": "2022-01-29T20:31:38.202Z"
   },
   {
    "duration": 42,
    "start_time": "2022-01-29T20:31:38.727Z"
   },
   {
    "duration": 40,
    "start_time": "2022-01-29T20:31:38.772Z"
   },
   {
    "duration": 137,
    "start_time": "2022-01-29T20:31:38.832Z"
   },
   {
    "duration": 38,
    "start_time": "2022-01-29T20:31:38.971Z"
   },
   {
    "duration": 43,
    "start_time": "2022-01-29T20:31:39.012Z"
   },
   {
    "duration": 95,
    "start_time": "2022-01-29T20:31:39.061Z"
   },
   {
    "duration": 37,
    "start_time": "2022-01-29T20:31:39.160Z"
   },
   {
    "duration": 58,
    "start_time": "2022-01-29T20:31:39.200Z"
   },
   {
    "duration": 116,
    "start_time": "2022-01-29T20:31:39.260Z"
   },
   {
    "duration": 19,
    "start_time": "2022-01-29T20:31:39.379Z"
   },
   {
    "duration": 34,
    "start_time": "2022-01-29T20:31:39.400Z"
   },
   {
    "duration": 25,
    "start_time": "2022-01-29T20:31:39.437Z"
   },
   {
    "duration": 22,
    "start_time": "2022-01-29T20:31:39.464Z"
   },
   {
    "duration": 49,
    "start_time": "2022-01-29T20:31:39.489Z"
   },
   {
    "duration": 111,
    "start_time": "2022-01-29T20:31:39.540Z"
   },
   {
    "duration": 32,
    "start_time": "2022-01-29T20:31:39.654Z"
   },
   {
    "duration": 119,
    "start_time": "2022-01-29T20:31:39.689Z"
   },
   {
    "duration": 40,
    "start_time": "2022-01-29T20:31:39.810Z"
   },
   {
    "duration": 98,
    "start_time": "2022-01-29T20:31:39.853Z"
   },
   {
    "duration": 22,
    "start_time": "2022-01-29T20:31:39.954Z"
   },
   {
    "duration": 9,
    "start_time": "2022-01-29T20:31:39.983Z"
   },
   {
    "duration": 77,
    "start_time": "2022-01-29T20:31:39.995Z"
   },
   {
    "duration": 16,
    "start_time": "2022-01-29T20:31:40.074Z"
   },
   {
    "duration": 48,
    "start_time": "2022-01-29T20:31:40.093Z"
   },
   {
    "duration": 12,
    "start_time": "2022-01-29T20:31:40.144Z"
   },
   {
    "duration": 81,
    "start_time": "2022-01-29T20:31:40.159Z"
   },
   {
    "duration": 177,
    "start_time": "2022-01-29T20:31:40.243Z"
   },
   {
    "duration": 372,
    "start_time": "2022-01-29T20:31:40.423Z"
   },
   {
    "duration": 419,
    "start_time": "2022-01-29T20:31:40.799Z"
   },
   {
    "duration": 67,
    "start_time": "2022-01-29T20:31:41.222Z"
   },
   {
    "duration": 69,
    "start_time": "2022-01-29T20:31:41.292Z"
   },
   {
    "duration": 21,
    "start_time": "2022-01-29T20:31:41.364Z"
   },
   {
    "duration": 70,
    "start_time": "2022-01-29T20:31:41.387Z"
   },
   {
    "duration": 139,
    "start_time": "2022-01-29T20:31:41.459Z"
   },
   {
    "duration": 54,
    "start_time": "2022-01-29T20:31:41.601Z"
   },
   {
    "duration": 82,
    "start_time": "2022-01-29T20:31:41.658Z"
   },
   {
    "duration": 24,
    "start_time": "2022-01-29T20:31:41.742Z"
   },
   {
    "duration": 22,
    "start_time": "2022-01-29T20:31:41.770Z"
   },
   {
    "duration": 42,
    "start_time": "2022-01-29T20:31:41.794Z"
   },
   {
    "duration": 3355,
    "start_time": "2022-01-29T20:31:41.839Z"
   },
   {
    "duration": 36,
    "start_time": "2022-01-29T20:31:45.196Z"
   },
   {
    "duration": 593,
    "start_time": "2022-01-29T20:31:45.236Z"
   },
   {
    "duration": 8,
    "start_time": "2022-01-29T20:31:45.833Z"
   },
   {
    "duration": 33,
    "start_time": "2022-01-29T20:31:45.844Z"
   },
   {
    "duration": 1190,
    "start_time": "2022-01-29T20:31:45.879Z"
   },
   {
    "duration": 79,
    "start_time": "2022-01-29T20:31:47.072Z"
   },
   {
    "duration": 80,
    "start_time": "2022-01-29T20:31:47.154Z"
   },
   {
    "duration": 107,
    "start_time": "2022-01-29T20:31:47.237Z"
   },
   {
    "duration": 596,
    "start_time": "2022-01-29T20:31:47.347Z"
   },
   {
    "duration": 591,
    "start_time": "2022-01-29T20:31:47.946Z"
   },
   {
    "duration": 578,
    "start_time": "2022-01-29T20:31:48.540Z"
   },
   {
    "duration": 556,
    "start_time": "2022-01-29T20:31:49.121Z"
   },
   {
    "duration": 9,
    "start_time": "2022-01-29T20:31:49.681Z"
   },
   {
    "duration": 3326,
    "start_time": "2022-01-29T20:31:49.693Z"
   },
   {
    "duration": 12,
    "start_time": "2022-01-29T20:31:53.022Z"
   },
   {
    "duration": 17,
    "start_time": "2022-01-29T20:31:53.037Z"
   },
   {
    "duration": 40,
    "start_time": "2022-01-29T20:31:53.058Z"
   },
   {
    "duration": 37,
    "start_time": "2022-01-29T20:31:53.101Z"
   },
   {
    "duration": 46,
    "start_time": "2022-01-29T20:31:53.141Z"
   },
   {
    "duration": 36,
    "start_time": "2022-01-29T21:44:49.555Z"
   },
   {
    "duration": 19,
    "start_time": "2022-01-29T21:45:03.146Z"
   },
   {
    "duration": 1362,
    "start_time": "2022-01-29T21:48:06.324Z"
   },
   {
    "duration": 509,
    "start_time": "2022-01-29T21:48:07.688Z"
   },
   {
    "duration": 42,
    "start_time": "2022-01-29T21:48:08.204Z"
   },
   {
    "duration": 39,
    "start_time": "2022-01-29T21:48:08.249Z"
   },
   {
    "duration": 261,
    "start_time": "2022-01-29T21:48:08.290Z"
   },
   {
    "duration": 27,
    "start_time": "2022-01-29T21:48:08.553Z"
   },
   {
    "duration": 17,
    "start_time": "2022-01-29T21:48:08.584Z"
   },
   {
    "duration": 83,
    "start_time": "2022-01-29T21:48:08.604Z"
   },
   {
    "duration": 53,
    "start_time": "2022-01-29T21:48:08.689Z"
   },
   {
    "duration": 38,
    "start_time": "2022-01-29T21:48:08.745Z"
   },
   {
    "duration": 129,
    "start_time": "2022-01-29T21:48:08.786Z"
   },
   {
    "duration": 29,
    "start_time": "2022-01-29T21:48:08.918Z"
   },
   {
    "duration": 8,
    "start_time": "2022-01-29T21:48:08.949Z"
   },
   {
    "duration": 22,
    "start_time": "2022-01-29T21:48:08.960Z"
   },
   {
    "duration": 58,
    "start_time": "2022-01-29T21:48:08.985Z"
   },
   {
    "duration": 14,
    "start_time": "2022-01-29T21:48:09.046Z"
   },
   {
    "duration": 116,
    "start_time": "2022-01-29T21:48:09.062Z"
   },
   {
    "duration": 27,
    "start_time": "2022-01-29T21:48:09.181Z"
   },
   {
    "duration": 103,
    "start_time": "2022-01-29T21:48:09.210Z"
   },
   {
    "duration": 32,
    "start_time": "2022-01-29T21:48:09.315Z"
   },
   {
    "duration": 90,
    "start_time": "2022-01-29T21:48:09.349Z"
   },
   {
    "duration": 16,
    "start_time": "2022-01-29T21:48:09.444Z"
   },
   {
    "duration": 9,
    "start_time": "2022-01-29T21:48:09.463Z"
   },
   {
    "duration": 64,
    "start_time": "2022-01-29T21:48:09.474Z"
   },
   {
    "duration": 15,
    "start_time": "2022-01-29T21:48:09.540Z"
   },
   {
    "duration": 17,
    "start_time": "2022-01-29T21:48:09.558Z"
   },
   {
    "duration": 11,
    "start_time": "2022-01-29T21:48:09.578Z"
   },
   {
    "duration": 58,
    "start_time": "2022-01-29T21:48:09.591Z"
   },
   {
    "duration": 148,
    "start_time": "2022-01-29T21:48:09.651Z"
   },
   {
    "duration": 43,
    "start_time": "2022-01-29T21:48:09.801Z"
   },
   {
    "duration": 281,
    "start_time": "2022-01-29T21:48:09.846Z"
   },
   {
    "duration": 58,
    "start_time": "2022-01-29T21:48:10.132Z"
   },
   {
    "duration": 68,
    "start_time": "2022-01-29T21:48:10.192Z"
   },
   {
    "duration": 12,
    "start_time": "2022-01-29T21:48:10.263Z"
   },
   {
    "duration": 66,
    "start_time": "2022-01-29T21:48:10.277Z"
   },
   {
    "duration": 133,
    "start_time": "2022-01-29T21:48:10.345Z"
   },
   {
    "duration": 24,
    "start_time": "2022-01-29T21:48:10.480Z"
   },
   {
    "duration": 90,
    "start_time": "2022-01-29T21:48:10.507Z"
   },
   {
    "duration": 13,
    "start_time": "2022-01-29T21:48:10.600Z"
   },
   {
    "duration": 17,
    "start_time": "2022-01-29T21:48:10.633Z"
   },
   {
    "duration": 18,
    "start_time": "2022-01-29T21:48:10.653Z"
   },
   {
    "duration": 3350,
    "start_time": "2022-01-29T21:48:10.674Z"
   },
   {
    "duration": 16,
    "start_time": "2022-01-29T21:48:14.027Z"
   },
   {
    "duration": 637,
    "start_time": "2022-01-29T21:48:14.045Z"
   },
   {
    "duration": 9,
    "start_time": "2022-01-29T21:48:14.686Z"
   },
   {
    "duration": 51,
    "start_time": "2022-01-29T21:48:14.698Z"
   },
   {
    "duration": 1214,
    "start_time": "2022-01-29T21:48:14.752Z"
   },
   {
    "duration": 40,
    "start_time": "2022-01-29T21:48:15.968Z"
   },
   {
    "duration": 55,
    "start_time": "2022-01-29T21:48:16.010Z"
   },
   {
    "duration": 80,
    "start_time": "2022-01-29T21:48:16.067Z"
   },
   {
    "duration": 373,
    "start_time": "2022-01-29T21:48:16.149Z"
   },
   {
    "duration": 374,
    "start_time": "2022-01-29T21:48:16.525Z"
   },
   {
    "duration": 366,
    "start_time": "2022-01-29T21:48:16.902Z"
   },
   {
    "duration": 356,
    "start_time": "2022-01-29T21:48:17.271Z"
   },
   {
    "duration": 7,
    "start_time": "2022-01-29T21:48:17.633Z"
   },
   {
    "duration": 3372,
    "start_time": "2022-01-29T21:48:17.643Z"
   },
   {
    "duration": 19,
    "start_time": "2022-01-29T21:48:21.018Z"
   },
   {
    "duration": 40,
    "start_time": "2022-01-29T21:48:21.040Z"
   },
   {
    "duration": 8,
    "start_time": "2022-01-29T21:48:21.082Z"
   },
   {
    "duration": 71,
    "start_time": "2022-01-29T21:48:21.093Z"
   },
   {
    "duration": 1445,
    "start_time": "2022-01-29T21:51:20.693Z"
   },
   {
    "duration": 581,
    "start_time": "2022-01-29T21:51:22.141Z"
   },
   {
    "duration": 50,
    "start_time": "2022-01-29T21:51:22.726Z"
   },
   {
    "duration": 61,
    "start_time": "2022-01-29T21:51:22.779Z"
   },
   {
    "duration": 165,
    "start_time": "2022-01-29T21:51:22.843Z"
   },
   {
    "duration": 47,
    "start_time": "2022-01-29T21:51:23.011Z"
   },
   {
    "duration": 19,
    "start_time": "2022-01-29T21:51:23.061Z"
   },
   {
    "duration": 106,
    "start_time": "2022-01-29T21:51:23.086Z"
   },
   {
    "duration": 63,
    "start_time": "2022-01-29T21:51:23.196Z"
   },
   {
    "duration": 39,
    "start_time": "2022-01-29T21:51:23.262Z"
   },
   {
    "duration": 166,
    "start_time": "2022-01-29T21:51:23.304Z"
   },
   {
    "duration": 26,
    "start_time": "2022-01-29T21:51:23.473Z"
   },
   {
    "duration": 32,
    "start_time": "2022-01-29T21:51:23.502Z"
   },
   {
    "duration": 28,
    "start_time": "2022-01-29T21:51:23.537Z"
   },
   {
    "duration": 29,
    "start_time": "2022-01-29T21:51:23.568Z"
   },
   {
    "duration": 16,
    "start_time": "2022-01-29T21:51:23.634Z"
   },
   {
    "duration": 129,
    "start_time": "2022-01-29T21:51:23.654Z"
   },
   {
    "duration": 28,
    "start_time": "2022-01-29T21:51:23.786Z"
   },
   {
    "duration": 135,
    "start_time": "2022-01-29T21:51:23.816Z"
   },
   {
    "duration": 18,
    "start_time": "2022-01-29T21:51:23.954Z"
   },
   {
    "duration": 97,
    "start_time": "2022-01-29T21:51:23.975Z"
   },
   {
    "duration": 16,
    "start_time": "2022-01-29T21:51:24.074Z"
   },
   {
    "duration": 9,
    "start_time": "2022-01-29T21:51:24.096Z"
   },
   {
    "duration": 44,
    "start_time": "2022-01-29T21:51:24.136Z"
   },
   {
    "duration": 19,
    "start_time": "2022-01-29T21:51:24.183Z"
   },
   {
    "duration": 23,
    "start_time": "2022-01-29T21:51:24.233Z"
   },
   {
    "duration": 9,
    "start_time": "2022-01-29T21:51:24.259Z"
   },
   {
    "duration": 22,
    "start_time": "2022-01-29T21:51:24.271Z"
   },
   {
    "duration": 187,
    "start_time": "2022-01-29T21:51:24.295Z"
   },
   {
    "duration": 35,
    "start_time": "2022-01-29T21:51:24.484Z"
   },
   {
    "duration": 308,
    "start_time": "2022-01-29T21:51:24.532Z"
   },
   {
    "duration": 59,
    "start_time": "2022-01-29T21:51:24.847Z"
   },
   {
    "duration": 79,
    "start_time": "2022-01-29T21:51:24.909Z"
   },
   {
    "duration": 12,
    "start_time": "2022-01-29T21:51:24.991Z"
   },
   {
    "duration": 79,
    "start_time": "2022-01-29T21:51:25.005Z"
   },
   {
    "duration": 146,
    "start_time": "2022-01-29T21:51:25.086Z"
   },
   {
    "duration": 28,
    "start_time": "2022-01-29T21:51:25.236Z"
   },
   {
    "duration": 97,
    "start_time": "2022-01-29T21:51:25.267Z"
   },
   {
    "duration": 11,
    "start_time": "2022-01-29T21:51:25.367Z"
   },
   {
    "duration": 392,
    "start_time": "2022-01-29T21:51:25.380Z"
   },
   {
    "duration": 612,
    "start_time": "2022-01-29T21:51:25.163Z"
   },
   {
    "duration": 612,
    "start_time": "2022-01-29T21:51:25.165Z"
   },
   {
    "duration": 611,
    "start_time": "2022-01-29T21:51:25.168Z"
   },
   {
    "duration": 611,
    "start_time": "2022-01-29T21:51:25.170Z"
   },
   {
    "duration": 612,
    "start_time": "2022-01-29T21:51:25.172Z"
   },
   {
    "duration": 612,
    "start_time": "2022-01-29T21:51:25.174Z"
   },
   {
    "duration": 605,
    "start_time": "2022-01-29T21:51:25.183Z"
   },
   {
    "duration": 604,
    "start_time": "2022-01-29T21:51:25.186Z"
   },
   {
    "duration": 605,
    "start_time": "2022-01-29T21:51:25.188Z"
   },
   {
    "duration": 605,
    "start_time": "2022-01-29T21:51:25.190Z"
   },
   {
    "duration": 597,
    "start_time": "2022-01-29T21:51:25.201Z"
   },
   {
    "duration": 597,
    "start_time": "2022-01-29T21:51:25.203Z"
   },
   {
    "duration": 597,
    "start_time": "2022-01-29T21:51:25.205Z"
   },
   {
    "duration": 598,
    "start_time": "2022-01-29T21:51:25.207Z"
   },
   {
    "duration": 598,
    "start_time": "2022-01-29T21:51:25.209Z"
   },
   {
    "duration": 588,
    "start_time": "2022-01-29T21:51:25.221Z"
   },
   {
    "duration": 587,
    "start_time": "2022-01-29T21:51:25.224Z"
   },
   {
    "duration": 587,
    "start_time": "2022-01-29T21:51:25.226Z"
   },
   {
    "duration": 585,
    "start_time": "2022-01-29T21:51:25.229Z"
   },
   {
    "duration": 585,
    "start_time": "2022-01-29T21:51:25.230Z"
   },
   {
    "duration": 1775,
    "start_time": "2022-01-29T21:52:04.850Z"
   },
   {
    "duration": 562,
    "start_time": "2022-01-29T21:52:06.628Z"
   },
   {
    "duration": 42,
    "start_time": "2022-01-29T21:52:07.194Z"
   },
   {
    "duration": 42,
    "start_time": "2022-01-29T21:52:07.240Z"
   },
   {
    "duration": 163,
    "start_time": "2022-01-29T21:52:07.284Z"
   },
   {
    "duration": 27,
    "start_time": "2022-01-29T21:52:07.450Z"
   },
   {
    "duration": 17,
    "start_time": "2022-01-29T21:52:07.479Z"
   },
   {
    "duration": 94,
    "start_time": "2022-01-29T21:52:07.498Z"
   },
   {
    "duration": 57,
    "start_time": "2022-01-29T21:52:07.595Z"
   },
   {
    "duration": 50,
    "start_time": "2022-01-29T21:52:07.656Z"
   },
   {
    "duration": 133,
    "start_time": "2022-01-29T21:52:07.709Z"
   },
   {
    "duration": 21,
    "start_time": "2022-01-29T21:52:07.845Z"
   },
   {
    "duration": 8,
    "start_time": "2022-01-29T21:52:07.868Z"
   },
   {
    "duration": 54,
    "start_time": "2022-01-29T21:52:07.878Z"
   },
   {
    "duration": 26,
    "start_time": "2022-01-29T21:52:07.935Z"
   },
   {
    "duration": 9,
    "start_time": "2022-01-29T21:52:07.963Z"
   },
   {
    "duration": 144,
    "start_time": "2022-01-29T21:52:07.975Z"
   },
   {
    "duration": 39,
    "start_time": "2022-01-29T21:52:08.121Z"
   },
   {
    "duration": 115,
    "start_time": "2022-01-29T21:52:08.162Z"
   },
   {
    "duration": 19,
    "start_time": "2022-01-29T21:52:08.279Z"
   },
   {
    "duration": 101,
    "start_time": "2022-01-29T21:52:08.301Z"
   },
   {
    "duration": 38,
    "start_time": "2022-01-29T21:52:08.405Z"
   },
   {
    "duration": 10,
    "start_time": "2022-01-29T21:52:08.447Z"
   },
   {
    "duration": 30,
    "start_time": "2022-01-29T21:52:08.460Z"
   },
   {
    "duration": 50,
    "start_time": "2022-01-29T21:52:08.492Z"
   },
   {
    "duration": 24,
    "start_time": "2022-01-29T21:52:08.546Z"
   },
   {
    "duration": 9,
    "start_time": "2022-01-29T21:52:08.576Z"
   },
   {
    "duration": 57,
    "start_time": "2022-01-29T21:52:08.588Z"
   },
   {
    "duration": 165,
    "start_time": "2022-01-29T21:52:08.649Z"
   },
   {
    "duration": 53,
    "start_time": "2022-01-29T21:52:08.816Z"
   },
   {
    "duration": 292,
    "start_time": "2022-01-29T21:52:08.872Z"
   },
   {
    "duration": 67,
    "start_time": "2022-01-29T21:52:09.167Z"
   },
   {
    "duration": 57,
    "start_time": "2022-01-29T21:52:09.237Z"
   },
   {
    "duration": 36,
    "start_time": "2022-01-29T21:52:09.296Z"
   },
   {
    "duration": 55,
    "start_time": "2022-01-29T21:52:09.335Z"
   },
   {
    "duration": 155,
    "start_time": "2022-01-29T21:52:09.392Z"
   },
   {
    "duration": 25,
    "start_time": "2022-01-29T21:52:09.550Z"
   },
   {
    "duration": 98,
    "start_time": "2022-01-29T21:52:09.577Z"
   },
   {
    "duration": 11,
    "start_time": "2022-01-29T21:52:09.677Z"
   },
   {
    "duration": 17,
    "start_time": "2022-01-29T21:52:09.690Z"
   },
   {
    "duration": 40,
    "start_time": "2022-01-29T21:52:09.709Z"
   },
   {
    "duration": 3649,
    "start_time": "2022-01-29T21:52:09.752Z"
   },
   {
    "duration": 29,
    "start_time": "2022-01-29T21:52:13.404Z"
   },
   {
    "duration": 601,
    "start_time": "2022-01-29T21:52:13.437Z"
   },
   {
    "duration": 11,
    "start_time": "2022-01-29T21:52:14.041Z"
   },
   {
    "duration": 35,
    "start_time": "2022-01-29T21:52:14.061Z"
   },
   {
    "duration": 1306,
    "start_time": "2022-01-29T21:52:14.099Z"
   },
   {
    "duration": 55,
    "start_time": "2022-01-29T21:52:15.408Z"
   },
   {
    "duration": 58,
    "start_time": "2022-01-29T21:52:15.465Z"
   },
   {
    "duration": 74,
    "start_time": "2022-01-29T21:52:15.526Z"
   },
   {
    "duration": 409,
    "start_time": "2022-01-29T21:52:15.603Z"
   },
   {
    "duration": 409,
    "start_time": "2022-01-29T21:52:16.014Z"
   },
   {
    "duration": 500,
    "start_time": "2022-01-29T21:52:16.437Z"
   },
   {
    "duration": 384,
    "start_time": "2022-01-29T21:52:16.939Z"
   },
   {
    "duration": 10,
    "start_time": "2022-01-29T21:52:17.336Z"
   },
   {
    "duration": 3757,
    "start_time": "2022-01-29T21:52:17.349Z"
   },
   {
    "duration": 28,
    "start_time": "2022-01-29T21:52:21.109Z"
   },
   {
    "duration": 45,
    "start_time": "2022-01-29T21:52:21.141Z"
   },
   {
    "duration": 7,
    "start_time": "2022-01-29T21:52:21.188Z"
   },
   {
    "duration": 81,
    "start_time": "2022-01-29T21:52:21.197Z"
   },
   {
    "duration": 53,
    "start_time": "2022-01-29T21:53:56.457Z"
   },
   {
    "duration": 1512,
    "start_time": "2022-01-29T21:54:03.253Z"
   },
   {
    "duration": 520,
    "start_time": "2022-01-29T21:54:04.768Z"
   },
   {
    "duration": 40,
    "start_time": "2022-01-29T21:54:05.291Z"
   },
   {
    "duration": 42,
    "start_time": "2022-01-29T21:54:05.334Z"
   },
   {
    "duration": 159,
    "start_time": "2022-01-29T21:54:05.378Z"
   },
   {
    "duration": 27,
    "start_time": "2022-01-29T21:54:05.540Z"
   },
   {
    "duration": 18,
    "start_time": "2022-01-29T21:54:05.570Z"
   },
   {
    "duration": 93,
    "start_time": "2022-01-29T21:54:05.592Z"
   },
   {
    "duration": 54,
    "start_time": "2022-01-29T21:54:05.688Z"
   },
   {
    "duration": 36,
    "start_time": "2022-01-29T21:54:05.745Z"
   },
   {
    "duration": 154,
    "start_time": "2022-01-29T21:54:05.783Z"
   },
   {
    "duration": 24,
    "start_time": "2022-01-29T21:54:05.940Z"
   },
   {
    "duration": 14,
    "start_time": "2022-01-29T21:54:05.966Z"
   },
   {
    "duration": 50,
    "start_time": "2022-01-29T21:54:05.982Z"
   },
   {
    "duration": 23,
    "start_time": "2022-01-29T21:54:06.035Z"
   },
   {
    "duration": 12,
    "start_time": "2022-01-29T21:54:06.061Z"
   },
   {
    "duration": 132,
    "start_time": "2022-01-29T21:54:06.076Z"
   },
   {
    "duration": 36,
    "start_time": "2022-01-29T21:54:06.211Z"
   },
   {
    "duration": 110,
    "start_time": "2022-01-29T21:54:06.250Z"
   },
   {
    "duration": 21,
    "start_time": "2022-01-29T21:54:06.363Z"
   },
   {
    "duration": 94,
    "start_time": "2022-01-29T21:54:06.387Z"
   },
   {
    "duration": 15,
    "start_time": "2022-01-29T21:54:06.483Z"
   },
   {
    "duration": 31,
    "start_time": "2022-01-29T21:54:06.505Z"
   },
   {
    "duration": 30,
    "start_time": "2022-01-29T21:54:06.540Z"
   },
   {
    "duration": 15,
    "start_time": "2022-01-29T21:54:06.572Z"
   },
   {
    "duration": 18,
    "start_time": "2022-01-29T21:54:06.633Z"
   },
   {
    "duration": 11,
    "start_time": "2022-01-29T21:54:06.653Z"
   },
   {
    "duration": 25,
    "start_time": "2022-01-29T21:54:06.667Z"
   },
   {
    "duration": 185,
    "start_time": "2022-01-29T21:54:06.694Z"
   },
   {
    "duration": 52,
    "start_time": "2022-01-29T21:54:06.882Z"
   },
   {
    "duration": 289,
    "start_time": "2022-01-29T21:54:06.937Z"
   },
   {
    "duration": 73,
    "start_time": "2022-01-29T21:54:07.233Z"
   },
   {
    "duration": 65,
    "start_time": "2022-01-29T21:54:07.309Z"
   },
   {
    "duration": 11,
    "start_time": "2022-01-29T21:54:07.377Z"
   },
   {
    "duration": 71,
    "start_time": "2022-01-29T21:54:07.391Z"
   },
   {
    "duration": 146,
    "start_time": "2022-01-29T21:54:07.465Z"
   },
   {
    "duration": 37,
    "start_time": "2022-01-29T21:54:07.613Z"
   },
   {
    "duration": 82,
    "start_time": "2022-01-29T21:54:07.652Z"
   },
   {
    "duration": 11,
    "start_time": "2022-01-29T21:54:07.737Z"
   },
   {
    "duration": 16,
    "start_time": "2022-01-29T21:54:07.751Z"
   },
   {
    "duration": 16,
    "start_time": "2022-01-29T21:54:07.769Z"
   },
   {
    "duration": 3383,
    "start_time": "2022-01-29T21:54:07.788Z"
   },
   {
    "duration": 17,
    "start_time": "2022-01-29T21:54:11.173Z"
   },
   {
    "duration": 688,
    "start_time": "2022-01-29T21:54:11.192Z"
   },
   {
    "duration": 8,
    "start_time": "2022-01-29T21:54:11.883Z"
   },
   {
    "duration": 50,
    "start_time": "2022-01-29T21:54:11.893Z"
   },
   {
    "duration": 1215,
    "start_time": "2022-01-29T21:54:11.946Z"
   },
   {
    "duration": 38,
    "start_time": "2022-01-29T21:54:13.164Z"
   },
   {
    "duration": 62,
    "start_time": "2022-01-29T21:54:13.205Z"
   },
   {
    "duration": 78,
    "start_time": "2022-01-29T21:54:13.269Z"
   },
   {
    "duration": 378,
    "start_time": "2022-01-29T21:54:13.350Z"
   },
   {
    "duration": 367,
    "start_time": "2022-01-29T21:54:13.733Z"
   },
   {
    "duration": 366,
    "start_time": "2022-01-29T21:54:14.103Z"
   },
   {
    "duration": 380,
    "start_time": "2022-01-29T21:54:14.472Z"
   },
   {
    "duration": 11,
    "start_time": "2022-01-29T21:54:14.855Z"
   },
   {
    "duration": 3428,
    "start_time": "2022-01-29T21:54:14.869Z"
   },
   {
    "duration": 12,
    "start_time": "2022-01-29T21:54:18.299Z"
   },
   {
    "duration": 69,
    "start_time": "2022-01-29T21:54:18.314Z"
   },
   {
    "duration": 9,
    "start_time": "2022-01-29T21:54:18.386Z"
   },
   {
    "duration": 82,
    "start_time": "2022-01-29T21:54:18.397Z"
   },
   {
    "duration": 39,
    "start_time": "2022-01-29T21:54:50.553Z"
   },
   {
    "duration": 1368,
    "start_time": "2022-01-29T21:55:08.152Z"
   },
   {
    "duration": 569,
    "start_time": "2022-01-29T21:55:09.523Z"
   },
   {
    "duration": 45,
    "start_time": "2022-01-29T21:55:10.095Z"
   },
   {
    "duration": 43,
    "start_time": "2022-01-29T21:55:10.144Z"
   },
   {
    "duration": 179,
    "start_time": "2022-01-29T21:55:10.190Z"
   },
   {
    "duration": 26,
    "start_time": "2022-01-29T21:55:10.371Z"
   },
   {
    "duration": 46,
    "start_time": "2022-01-29T21:55:10.399Z"
   },
   {
    "duration": 92,
    "start_time": "2022-01-29T21:55:10.450Z"
   },
   {
    "duration": 47,
    "start_time": "2022-01-29T21:55:10.546Z"
   },
   {
    "duration": 73,
    "start_time": "2022-01-29T21:55:10.596Z"
   },
   {
    "duration": 119,
    "start_time": "2022-01-29T21:55:10.672Z"
   },
   {
    "duration": 38,
    "start_time": "2022-01-29T21:55:10.794Z"
   },
   {
    "duration": 10,
    "start_time": "2022-01-29T21:55:10.835Z"
   },
   {
    "duration": 28,
    "start_time": "2022-01-29T21:55:10.848Z"
   },
   {
    "duration": 60,
    "start_time": "2022-01-29T21:55:10.879Z"
   },
   {
    "duration": 18,
    "start_time": "2022-01-29T21:55:10.943Z"
   },
   {
    "duration": 120,
    "start_time": "2022-01-29T21:55:10.964Z"
   },
   {
    "duration": 27,
    "start_time": "2022-01-29T21:55:11.086Z"
   },
   {
    "duration": 129,
    "start_time": "2022-01-29T21:55:11.116Z"
   },
   {
    "duration": 35,
    "start_time": "2022-01-29T21:55:11.248Z"
   },
   {
    "duration": 100,
    "start_time": "2022-01-29T21:55:11.285Z"
   },
   {
    "duration": 17,
    "start_time": "2022-01-29T21:55:11.387Z"
   },
   {
    "duration": 29,
    "start_time": "2022-01-29T21:55:11.413Z"
   },
   {
    "duration": 38,
    "start_time": "2022-01-29T21:55:11.445Z"
   },
   {
    "duration": 15,
    "start_time": "2022-01-29T21:55:11.486Z"
   },
   {
    "duration": 23,
    "start_time": "2022-01-29T21:55:11.533Z"
   },
   {
    "duration": 10,
    "start_time": "2022-01-29T21:55:11.559Z"
   },
   {
    "duration": 22,
    "start_time": "2022-01-29T21:55:11.571Z"
   },
   {
    "duration": 191,
    "start_time": "2022-01-29T21:55:11.596Z"
   },
   {
    "duration": 48,
    "start_time": "2022-01-29T21:55:11.789Z"
   },
   {
    "duration": 314,
    "start_time": "2022-01-29T21:55:11.840Z"
   },
   {
    "duration": 79,
    "start_time": "2022-01-29T21:55:12.158Z"
   },
   {
    "duration": 69,
    "start_time": "2022-01-29T21:55:12.240Z"
   },
   {
    "duration": 33,
    "start_time": "2022-01-29T21:55:12.312Z"
   },
   {
    "duration": 65,
    "start_time": "2022-01-29T21:55:12.347Z"
   },
   {
    "duration": 209,
    "start_time": "2022-01-29T21:55:12.416Z"
   },
   {
    "duration": 30,
    "start_time": "2022-01-29T21:55:12.629Z"
   },
   {
    "duration": 117,
    "start_time": "2022-01-29T21:55:12.662Z"
   },
   {
    "duration": 15,
    "start_time": "2022-01-29T21:55:12.783Z"
   },
   {
    "duration": 39,
    "start_time": "2022-01-29T21:55:12.801Z"
   },
   {
    "duration": 18,
    "start_time": "2022-01-29T21:55:12.843Z"
   },
   {
    "duration": 3461,
    "start_time": "2022-01-29T21:55:12.863Z"
   },
   {
    "duration": 28,
    "start_time": "2022-01-29T21:55:16.327Z"
   },
   {
    "duration": 778,
    "start_time": "2022-01-29T21:55:16.358Z"
   },
   {
    "duration": 12,
    "start_time": "2022-01-29T21:55:17.139Z"
   },
   {
    "duration": 34,
    "start_time": "2022-01-29T21:55:17.154Z"
   },
   {
    "duration": 1219,
    "start_time": "2022-01-29T21:55:17.190Z"
   },
   {
    "duration": 64,
    "start_time": "2022-01-29T21:55:18.412Z"
   },
   {
    "duration": 75,
    "start_time": "2022-01-29T21:55:18.480Z"
   },
   {
    "duration": 83,
    "start_time": "2022-01-29T21:55:18.557Z"
   },
   {
    "duration": 411,
    "start_time": "2022-01-29T21:55:18.644Z"
   },
   {
    "duration": 401,
    "start_time": "2022-01-29T21:55:19.057Z"
   },
   {
    "duration": 398,
    "start_time": "2022-01-29T21:55:19.460Z"
   },
   {
    "duration": 372,
    "start_time": "2022-01-29T21:55:19.860Z"
   },
   {
    "duration": 11,
    "start_time": "2022-01-29T21:55:20.236Z"
   },
   {
    "duration": 3581,
    "start_time": "2022-01-29T21:55:20.251Z"
   },
   {
    "duration": 16,
    "start_time": "2022-01-29T21:55:23.836Z"
   },
   {
    "duration": 40,
    "start_time": "2022-01-29T21:55:23.855Z"
   },
   {
    "duration": 7,
    "start_time": "2022-01-29T21:55:23.897Z"
   },
   {
    "duration": 47,
    "start_time": "2022-01-29T21:55:23.934Z"
   },
   {
    "duration": 45,
    "start_time": "2022-01-29T21:55:46.243Z"
   },
   {
    "duration": 359,
    "start_time": "2022-01-29T21:59:37.200Z"
   },
   {
    "duration": 6,
    "start_time": "2022-01-29T21:59:42.228Z"
   },
   {
    "duration": 213,
    "start_time": "2022-01-29T21:59:44.233Z"
   },
   {
    "duration": 7,
    "start_time": "2022-01-29T22:00:22.133Z"
   },
   {
    "duration": 198,
    "start_time": "2022-01-29T22:00:24.893Z"
   },
   {
    "duration": 7,
    "start_time": "2022-01-29T22:00:44.853Z"
   },
   {
    "duration": 201,
    "start_time": "2022-01-29T22:00:46.014Z"
   },
   {
    "duration": 6,
    "start_time": "2022-01-29T22:01:33.989Z"
   },
   {
    "duration": 197,
    "start_time": "2022-01-29T22:01:35.853Z"
   },
   {
    "duration": 88,
    "start_time": "2022-01-29T22:04:54.977Z"
   },
   {
    "duration": 5,
    "start_time": "2022-01-29T22:05:05.089Z"
   },
   {
    "duration": 5,
    "start_time": "2022-01-29T22:05:07.276Z"
   },
   {
    "duration": 166,
    "start_time": "2022-01-29T22:05:08.913Z"
   },
   {
    "duration": 5,
    "start_time": "2022-01-29T22:05:19.333Z"
   },
   {
    "duration": 177,
    "start_time": "2022-01-29T22:05:20.909Z"
   },
   {
    "duration": 5,
    "start_time": "2022-01-29T22:05:40.380Z"
   },
   {
    "duration": 192,
    "start_time": "2022-01-29T22:05:42.129Z"
   },
   {
    "duration": 7,
    "start_time": "2022-01-29T22:06:12.737Z"
   },
   {
    "duration": 176,
    "start_time": "2022-01-29T22:06:14.113Z"
   },
   {
    "duration": 5,
    "start_time": "2022-01-29T22:06:25.589Z"
   },
   {
    "duration": 188,
    "start_time": "2022-01-29T22:06:27.049Z"
   },
   {
    "duration": 5,
    "start_time": "2022-01-29T22:06:36.445Z"
   },
   {
    "duration": 164,
    "start_time": "2022-01-29T22:06:37.662Z"
   },
   {
    "duration": 7,
    "start_time": "2022-01-29T22:07:02.309Z"
   },
   {
    "duration": 186,
    "start_time": "2022-01-29T22:07:03.568Z"
   },
   {
    "duration": 5,
    "start_time": "2022-01-29T22:07:38.868Z"
   },
   {
    "duration": 178,
    "start_time": "2022-01-29T22:07:40.181Z"
   },
   {
    "duration": 7,
    "start_time": "2022-01-29T22:07:57.032Z"
   },
   {
    "duration": 179,
    "start_time": "2022-01-29T22:07:58.163Z"
   },
   {
    "duration": 5,
    "start_time": "2022-01-29T22:08:19.856Z"
   },
   {
    "duration": 176,
    "start_time": "2022-01-29T22:08:20.945Z"
   },
   {
    "duration": 1367,
    "start_time": "2022-01-29T22:08:35.227Z"
   },
   {
    "duration": 513,
    "start_time": "2022-01-29T22:08:36.597Z"
   },
   {
    "duration": 5,
    "start_time": "2022-01-29T22:08:37.113Z"
   },
   {
    "duration": 221,
    "start_time": "2022-01-29T22:08:37.121Z"
   },
   {
    "duration": 40,
    "start_time": "2022-01-29T22:08:37.345Z"
   },
   {
    "duration": 159,
    "start_time": "2022-01-29T22:08:37.388Z"
   },
   {
    "duration": 28,
    "start_time": "2022-01-29T22:08:37.549Z"
   },
   {
    "duration": 18,
    "start_time": "2022-01-29T22:08:37.580Z"
   },
   {
    "duration": 87,
    "start_time": "2022-01-29T22:08:37.602Z"
   },
   {
    "duration": 55,
    "start_time": "2022-01-29T22:08:37.692Z"
   },
   {
    "duration": 51,
    "start_time": "2022-01-29T22:08:37.751Z"
   },
   {
    "duration": 147,
    "start_time": "2022-01-29T22:08:37.805Z"
   },
   {
    "duration": 24,
    "start_time": "2022-01-29T22:08:37.955Z"
   },
   {
    "duration": 10,
    "start_time": "2022-01-29T22:08:37.982Z"
   },
   {
    "duration": 63,
    "start_time": "2022-01-29T22:08:37.995Z"
   },
   {
    "duration": 24,
    "start_time": "2022-01-29T22:08:38.061Z"
   },
   {
    "duration": 44,
    "start_time": "2022-01-29T22:08:38.088Z"
   },
   {
    "duration": 112,
    "start_time": "2022-01-29T22:08:38.134Z"
   },
   {
    "duration": 28,
    "start_time": "2022-01-29T22:08:38.248Z"
   },
   {
    "duration": 117,
    "start_time": "2022-01-29T22:08:38.279Z"
   },
   {
    "duration": 39,
    "start_time": "2022-01-29T22:08:38.399Z"
   },
   {
    "duration": 69,
    "start_time": "2022-01-29T22:08:38.441Z"
   },
   {
    "duration": 19,
    "start_time": "2022-01-29T22:08:38.533Z"
   },
   {
    "duration": 11,
    "start_time": "2022-01-29T22:08:38.555Z"
   },
   {
    "duration": 73,
    "start_time": "2022-01-29T22:08:38.568Z"
   },
   {
    "duration": 15,
    "start_time": "2022-01-29T22:08:38.643Z"
   },
   {
    "duration": 17,
    "start_time": "2022-01-29T22:08:38.664Z"
   },
   {
    "duration": 10,
    "start_time": "2022-01-29T22:08:38.685Z"
   },
   {
    "duration": 22,
    "start_time": "2022-01-29T22:08:38.733Z"
   },
   {
    "duration": 157,
    "start_time": "2022-01-29T22:08:38.757Z"
   },
   {
    "duration": 47,
    "start_time": "2022-01-29T22:08:38.916Z"
   },
   {
    "duration": 286,
    "start_time": "2022-01-29T22:08:38.965Z"
   },
   {
    "duration": 58,
    "start_time": "2022-01-29T22:08:39.253Z"
   },
   {
    "duration": 69,
    "start_time": "2022-01-29T22:08:39.313Z"
   },
   {
    "duration": 12,
    "start_time": "2022-01-29T22:08:39.384Z"
   },
   {
    "duration": 72,
    "start_time": "2022-01-29T22:08:39.398Z"
   },
   {
    "duration": 167,
    "start_time": "2022-01-29T22:08:39.472Z"
   },
   {
    "duration": 22,
    "start_time": "2022-01-29T22:08:39.642Z"
   },
   {
    "duration": 105,
    "start_time": "2022-01-29T22:08:39.666Z"
   },
   {
    "duration": 16,
    "start_time": "2022-01-29T22:08:39.774Z"
   },
   {
    "duration": 40,
    "start_time": "2022-01-29T22:08:39.792Z"
   },
   {
    "duration": 18,
    "start_time": "2022-01-29T22:08:39.835Z"
   },
   {
    "duration": 3663,
    "start_time": "2022-01-29T22:08:39.856Z"
   },
   {
    "duration": 17,
    "start_time": "2022-01-29T22:08:43.533Z"
   },
   {
    "duration": 646,
    "start_time": "2022-01-29T22:08:43.553Z"
   },
   {
    "duration": 9,
    "start_time": "2022-01-29T22:08:44.202Z"
   },
   {
    "duration": 43,
    "start_time": "2022-01-29T22:08:44.213Z"
   },
   {
    "duration": 1146,
    "start_time": "2022-01-29T22:08:44.259Z"
   },
   {
    "duration": 54,
    "start_time": "2022-01-29T22:08:45.408Z"
   },
   {
    "duration": 40,
    "start_time": "2022-01-29T22:08:45.465Z"
   },
   {
    "duration": 90,
    "start_time": "2022-01-29T22:08:45.532Z"
   },
   {
    "duration": 552,
    "start_time": "2022-01-29T22:08:45.640Z"
   },
   {
    "duration": 551,
    "start_time": "2022-01-29T22:08:46.195Z"
   },
   {
    "duration": 556,
    "start_time": "2022-01-29T22:08:46.749Z"
   },
   {
    "duration": 374,
    "start_time": "2022-01-29T22:08:47.308Z"
   },
   {
    "duration": 7,
    "start_time": "2022-01-29T22:08:47.686Z"
   },
   {
    "duration": 3439,
    "start_time": "2022-01-29T22:08:47.697Z"
   },
   {
    "duration": 15,
    "start_time": "2022-01-29T22:08:51.139Z"
   },
   {
    "duration": 46,
    "start_time": "2022-01-29T22:08:51.156Z"
   },
   {
    "duration": 28,
    "start_time": "2022-01-29T22:08:51.204Z"
   },
   {
    "duration": 47,
    "start_time": "2022-01-29T22:08:51.234Z"
   },
   {
    "duration": 79,
    "start_time": "2022-01-29T22:10:57.796Z"
   },
   {
    "duration": 150,
    "start_time": "2022-01-29T22:11:38.240Z"
   },
   {
    "duration": 1343,
    "start_time": "2022-01-29T22:13:42.048Z"
   },
   {
    "duration": 519,
    "start_time": "2022-01-29T22:13:43.393Z"
   },
   {
    "duration": 5,
    "start_time": "2022-01-29T22:13:43.916Z"
   },
   {
    "duration": 227,
    "start_time": "2022-01-29T22:13:43.923Z"
   },
   {
    "duration": 128,
    "start_time": "2022-01-29T22:13:44.152Z"
   },
   {
    "duration": 190,
    "start_time": "2022-01-29T22:13:44.283Z"
   },
   {
    "duration": 85,
    "start_time": "2022-01-29T22:13:44.475Z"
   },
   {
    "duration": 79,
    "start_time": "2022-01-29T22:13:44.565Z"
   },
   {
    "duration": 119,
    "start_time": "2022-01-29T22:13:44.647Z"
   },
   {
    "duration": 28,
    "start_time": "2022-01-29T22:13:44.769Z"
   },
   {
    "duration": 104,
    "start_time": "2022-01-29T22:13:44.800Z"
   },
   {
    "duration": 35,
    "start_time": "2022-01-29T22:13:44.906Z"
   },
   {
    "duration": 69,
    "start_time": "2022-01-29T22:13:44.944Z"
   },
   {
    "duration": 17,
    "start_time": "2022-01-29T22:13:45.033Z"
   },
   {
    "duration": 10,
    "start_time": "2022-01-29T22:13:45.052Z"
   },
   {
    "duration": 33,
    "start_time": "2022-01-29T22:13:45.064Z"
   },
   {
    "duration": 46,
    "start_time": "2022-01-29T22:13:45.100Z"
   },
   {
    "duration": 16,
    "start_time": "2022-01-29T22:13:45.149Z"
   },
   {
    "duration": 10,
    "start_time": "2022-01-29T22:13:45.168Z"
   },
   {
    "duration": 58,
    "start_time": "2022-01-29T22:13:45.180Z"
   },
   {
    "duration": 148,
    "start_time": "2022-01-29T22:13:45.241Z"
   },
   {
    "duration": 48,
    "start_time": "2022-01-29T22:13:45.392Z"
   },
   {
    "duration": 279,
    "start_time": "2022-01-29T22:13:45.445Z"
   },
   {
    "duration": 61,
    "start_time": "2022-01-29T22:13:45.727Z"
   },
   {
    "duration": 68,
    "start_time": "2022-01-29T22:13:45.790Z"
   },
   {
    "duration": 12,
    "start_time": "2022-01-29T22:13:45.861Z"
   },
   {
    "duration": 67,
    "start_time": "2022-01-29T22:13:45.875Z"
   },
   {
    "duration": 139,
    "start_time": "2022-01-29T22:13:45.944Z"
   },
   {
    "duration": 21,
    "start_time": "2022-01-29T22:13:46.085Z"
   },
   {
    "duration": 87,
    "start_time": "2022-01-29T22:13:46.109Z"
   },
   {
    "duration": 12,
    "start_time": "2022-01-29T22:13:46.199Z"
   },
   {
    "duration": 34,
    "start_time": "2022-01-29T22:13:46.214Z"
   },
   {
    "duration": 17,
    "start_time": "2022-01-29T22:13:46.250Z"
   },
   {
    "duration": 3355,
    "start_time": "2022-01-29T22:13:46.270Z"
   },
   {
    "duration": 20,
    "start_time": "2022-01-29T22:13:49.627Z"
   },
   {
    "duration": 573,
    "start_time": "2022-01-29T22:13:49.649Z"
   },
   {
    "duration": 13,
    "start_time": "2022-01-29T22:13:50.224Z"
   },
   {
    "duration": 30,
    "start_time": "2022-01-29T22:13:50.239Z"
   },
   {
    "duration": 1121,
    "start_time": "2022-01-29T22:13:50.272Z"
   },
   {
    "duration": 47,
    "start_time": "2022-01-29T22:13:51.396Z"
   },
   {
    "duration": 42,
    "start_time": "2022-01-29T22:13:51.445Z"
   },
   {
    "duration": 86,
    "start_time": "2022-01-29T22:13:51.490Z"
   },
   {
    "duration": 381,
    "start_time": "2022-01-29T22:13:51.578Z"
   },
   {
    "duration": 411,
    "start_time": "2022-01-29T22:13:51.961Z"
   },
   {
    "duration": 374,
    "start_time": "2022-01-29T22:13:52.375Z"
   },
   {
    "duration": 367,
    "start_time": "2022-01-29T22:13:52.752Z"
   },
   {
    "duration": 11,
    "start_time": "2022-01-29T22:13:53.123Z"
   },
   {
    "duration": 3501,
    "start_time": "2022-01-29T22:13:53.137Z"
   },
   {
    "duration": 12,
    "start_time": "2022-01-29T22:13:56.640Z"
   },
   {
    "duration": 42,
    "start_time": "2022-01-29T22:13:56.654Z"
   },
   {
    "duration": 6,
    "start_time": "2022-01-29T22:13:56.699Z"
   },
   {
    "duration": 64,
    "start_time": "2022-01-29T22:13:56.707Z"
   },
   {
    "duration": 214,
    "start_time": "2022-01-29T22:16:49.394Z"
   },
   {
    "duration": 78,
    "start_time": "2022-01-29T22:17:42.850Z"
   },
   {
    "duration": 149,
    "start_time": "2022-01-29T22:17:51.829Z"
   },
   {
    "duration": 1508,
    "start_time": "2022-01-29T22:20:10.938Z"
   },
   {
    "duration": 504,
    "start_time": "2022-01-29T22:20:12.449Z"
   },
   {
    "duration": 5,
    "start_time": "2022-01-29T22:20:12.956Z"
   },
   {
    "duration": 217,
    "start_time": "2022-01-29T22:20:12.963Z"
   },
   {
    "duration": 115,
    "start_time": "2022-01-29T22:20:13.182Z"
   },
   {
    "duration": 198,
    "start_time": "2022-01-29T22:20:13.299Z"
   },
   {
    "duration": 80,
    "start_time": "2022-01-29T22:20:13.500Z"
   },
   {
    "duration": 94,
    "start_time": "2022-01-29T22:20:13.585Z"
   },
   {
    "duration": 162,
    "start_time": "2022-01-29T22:20:13.683Z"
   },
   {
    "duration": 42,
    "start_time": "2022-01-29T22:20:13.848Z"
   },
   {
    "duration": 164,
    "start_time": "2022-01-29T22:20:13.893Z"
   },
   {
    "duration": 26,
    "start_time": "2022-01-29T22:20:14.060Z"
   },
   {
    "duration": 130,
    "start_time": "2022-01-29T22:20:14.089Z"
   },
   {
    "duration": 29,
    "start_time": "2022-01-29T22:20:14.222Z"
   },
   {
    "duration": 11,
    "start_time": "2022-01-29T22:20:14.254Z"
   },
   {
    "duration": 74,
    "start_time": "2022-01-29T22:20:14.269Z"
   },
   {
    "duration": 20,
    "start_time": "2022-01-29T22:20:14.346Z"
   },
   {
    "duration": 24,
    "start_time": "2022-01-29T22:20:14.370Z"
   },
   {
    "duration": 44,
    "start_time": "2022-01-29T22:20:14.396Z"
   },
   {
    "duration": 24,
    "start_time": "2022-01-29T22:20:14.443Z"
   },
   {
    "duration": 157,
    "start_time": "2022-01-29T22:20:14.469Z"
   },
   {
    "duration": 33,
    "start_time": "2022-01-29T22:20:14.629Z"
   },
   {
    "duration": 284,
    "start_time": "2022-01-29T22:20:14.668Z"
   },
   {
    "duration": 58,
    "start_time": "2022-01-29T22:20:14.955Z"
   },
   {
    "duration": 65,
    "start_time": "2022-01-29T22:20:15.016Z"
   },
   {
    "duration": 14,
    "start_time": "2022-01-29T22:20:15.084Z"
   },
   {
    "duration": 74,
    "start_time": "2022-01-29T22:20:15.100Z"
   },
   {
    "duration": 137,
    "start_time": "2022-01-29T22:20:15.177Z"
   },
   {
    "duration": 26,
    "start_time": "2022-01-29T22:20:15.317Z"
   },
   {
    "duration": 72,
    "start_time": "2022-01-29T22:20:15.345Z"
   },
   {
    "duration": 20,
    "start_time": "2022-01-29T22:20:15.419Z"
   },
   {
    "duration": 16,
    "start_time": "2022-01-29T22:20:15.441Z"
   },
   {
    "duration": 14,
    "start_time": "2022-01-29T22:20:15.460Z"
   },
   {
    "duration": 3256,
    "start_time": "2022-01-29T22:20:15.476Z"
   },
   {
    "duration": 17,
    "start_time": "2022-01-29T22:20:18.734Z"
   },
   {
    "duration": 610,
    "start_time": "2022-01-29T22:20:18.753Z"
   },
   {
    "duration": 9,
    "start_time": "2022-01-29T22:20:19.366Z"
   },
   {
    "duration": 37,
    "start_time": "2022-01-29T22:20:19.377Z"
   },
   {
    "duration": 1095,
    "start_time": "2022-01-29T22:20:19.433Z"
   },
   {
    "duration": 39,
    "start_time": "2022-01-29T22:20:20.533Z"
   },
   {
    "duration": 58,
    "start_time": "2022-01-29T22:20:20.574Z"
   },
   {
    "duration": 61,
    "start_time": "2022-01-29T22:20:20.635Z"
   },
   {
    "duration": 379,
    "start_time": "2022-01-29T22:20:20.698Z"
   },
   {
    "duration": 386,
    "start_time": "2022-01-29T22:20:21.080Z"
   },
   {
    "duration": 372,
    "start_time": "2022-01-29T22:20:21.469Z"
   },
   {
    "duration": 349,
    "start_time": "2022-01-29T22:20:21.843Z"
   },
   {
    "duration": 7,
    "start_time": "2022-01-29T22:20:22.194Z"
   },
   {
    "duration": 3415,
    "start_time": "2022-01-29T22:20:22.203Z"
   },
   {
    "duration": 18,
    "start_time": "2022-01-29T22:20:25.620Z"
   },
   {
    "duration": 49,
    "start_time": "2022-01-29T22:20:25.641Z"
   },
   {
    "duration": 6,
    "start_time": "2022-01-29T22:20:25.693Z"
   },
   {
    "duration": 66,
    "start_time": "2022-01-29T22:20:25.702Z"
   }
  ],
  "kernelspec": {
   "display_name": "Python 3",
   "language": "python",
   "name": "python3"
  },
  "language_info": {
   "codemirror_mode": {
    "name": "ipython",
    "version": 3
   },
   "file_extension": ".py",
   "mimetype": "text/x-python",
   "name": "python",
   "nbconvert_exporter": "python",
   "pygments_lexer": "ipython3",
   "version": "3.7.8"
  },
  "toc": {
   "base_numbering": 1,
   "nav_menu": {},
   "number_sections": true,
   "sideBar": true,
   "skip_h1_title": true,
   "title_cell": "Table of Contents",
   "title_sidebar": "Contents",
   "toc_cell": false,
   "toc_position": {
    "height": "calc(100% - 180px)",
    "left": "10px",
    "top": "150px",
    "width": "323.888px"
   },
   "toc_section_display": true,
   "toc_window_display": true
  }
 },
 "nbformat": 4,
 "nbformat_minor": 2
}
