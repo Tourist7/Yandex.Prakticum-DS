{
 "cells": [
  {
   "cell_type": "markdown",
   "metadata": {},
   "source": [
    "# Определение стоимости автомобилей"
   ]
  },
  {
   "cell_type": "markdown",
   "metadata": {},
   "source": [
    "Сервис по продаже автомобилей с пробегом «Не бит, не крашен» разрабатывает приложение для привлечения новых клиентов. В нём можно быстро узнать рыночную стоимость своего автомобиля. В вашем распоряжении исторические данные: технические характеристики, комплектации и цены автомобилей. Вам нужно построить модель для определения стоимости. \n",
    "\n",
    "Заказчику важны:\n",
    "\n",
    "- качество предсказания;\n",
    "- скорость предсказания;\n",
    "- время обучения."
   ]
  },
  {
   "cell_type": "markdown",
   "metadata": {},
   "source": [
    "Признаки:\n",
    "\n",
    "- DateCrawled — дата скачивания анкеты из базы\n",
    "- VehicleType — тип автомобильного кузова\n",
    "- RegistrationYear — год регистрации автомобиля\n",
    "- Gearbox — тип коробки передач\n",
    "- Power — мощность (л. с.)\n",
    "- Model — модель автомобиля\n",
    "- Kilometer — пробег (км)\n",
    "- RegistrationMonth — месяц регистрации автомобиля\n",
    "- FuelType — тип топлива\n",
    "- Brand — марка автомобиля\n",
    "- NotRepaired — была машина в ремонте или нет\n",
    "- DateCreated — дата создания анкеты\n",
    "- NumberOfPictures — количество фотографий автомобиля\n",
    "- PostalCode — почтовый индекс владельца анкеты (пользователя)\n",
    "- LastSeen — дата последней активности пользователя\n",
    "\n",
    "Целевой признак:\n",
    "\n",
    "- Price — цена (евро)"
   ]
  },
  {
   "cell_type": "markdown",
   "metadata": {},
   "source": [
    "## Подготовка данных"
   ]
  },
  {
   "cell_type": "code",
   "execution_count": 1,
   "metadata": {},
   "outputs": [],
   "source": [
    "import pandas as pd\n",
    "from sklearn.model_selection import train_test_split, cross_val_score, GridSearchCV\n",
    "from sklearn.metrics import mean_squared_error\n",
    "from sklearn.metrics import accuracy_score\n",
    "from sklearn.linear_model import LinearRegression\n",
    "from lightgbm import LGBMRegressor\n",
    "from catboost import CatBoostRegressor, Pool\n",
    "from sklearn.metrics import roc_auc_score\n",
    "import seaborn as sns                                      \n",
    "import matplotlib.pyplot as plt\n",
    "\n",
    "from sklearn.preprocessing import OrdinalEncoder\n",
    "from sklearn import preprocessing\n",
    "from catboost import Pool"
   ]
  },
  {
   "cell_type": "markdown",
   "metadata": {},
   "source": [
    "Откроем и посмотрим файл:"
   ]
  },
  {
   "cell_type": "code",
   "execution_count": 2,
   "metadata": {},
   "outputs": [
    {
     "data": {
      "text/html": [
       "<div>\n",
       "<style scoped>\n",
       "    .dataframe tbody tr th:only-of-type {\n",
       "        vertical-align: middle;\n",
       "    }\n",
       "\n",
       "    .dataframe tbody tr th {\n",
       "        vertical-align: top;\n",
       "    }\n",
       "\n",
       "    .dataframe thead th {\n",
       "        text-align: right;\n",
       "    }\n",
       "</style>\n",
       "<table border=\"1\" class=\"dataframe\">\n",
       "  <thead>\n",
       "    <tr style=\"text-align: right;\">\n",
       "      <th></th>\n",
       "      <th>DateCrawled</th>\n",
       "      <th>Price</th>\n",
       "      <th>VehicleType</th>\n",
       "      <th>RegistrationYear</th>\n",
       "      <th>Gearbox</th>\n",
       "      <th>Power</th>\n",
       "      <th>Model</th>\n",
       "      <th>Kilometer</th>\n",
       "      <th>RegistrationMonth</th>\n",
       "      <th>FuelType</th>\n",
       "      <th>Brand</th>\n",
       "      <th>NotRepaired</th>\n",
       "      <th>DateCreated</th>\n",
       "      <th>NumberOfPictures</th>\n",
       "      <th>PostalCode</th>\n",
       "      <th>LastSeen</th>\n",
       "    </tr>\n",
       "  </thead>\n",
       "  <tbody>\n",
       "    <tr>\n",
       "      <td>0</td>\n",
       "      <td>2016-03-24 11:52:17</td>\n",
       "      <td>480</td>\n",
       "      <td>NaN</td>\n",
       "      <td>1993</td>\n",
       "      <td>manual</td>\n",
       "      <td>0</td>\n",
       "      <td>golf</td>\n",
       "      <td>150000</td>\n",
       "      <td>0</td>\n",
       "      <td>petrol</td>\n",
       "      <td>volkswagen</td>\n",
       "      <td>NaN</td>\n",
       "      <td>2016-03-24 00:00:00</td>\n",
       "      <td>0</td>\n",
       "      <td>70435</td>\n",
       "      <td>2016-04-07 03:16:57</td>\n",
       "    </tr>\n",
       "    <tr>\n",
       "      <td>1</td>\n",
       "      <td>2016-03-24 10:58:45</td>\n",
       "      <td>18300</td>\n",
       "      <td>coupe</td>\n",
       "      <td>2011</td>\n",
       "      <td>manual</td>\n",
       "      <td>190</td>\n",
       "      <td>NaN</td>\n",
       "      <td>125000</td>\n",
       "      <td>5</td>\n",
       "      <td>gasoline</td>\n",
       "      <td>audi</td>\n",
       "      <td>yes</td>\n",
       "      <td>2016-03-24 00:00:00</td>\n",
       "      <td>0</td>\n",
       "      <td>66954</td>\n",
       "      <td>2016-04-07 01:46:50</td>\n",
       "    </tr>\n",
       "    <tr>\n",
       "      <td>2</td>\n",
       "      <td>2016-03-14 12:52:21</td>\n",
       "      <td>9800</td>\n",
       "      <td>suv</td>\n",
       "      <td>2004</td>\n",
       "      <td>auto</td>\n",
       "      <td>163</td>\n",
       "      <td>grand</td>\n",
       "      <td>125000</td>\n",
       "      <td>8</td>\n",
       "      <td>gasoline</td>\n",
       "      <td>jeep</td>\n",
       "      <td>NaN</td>\n",
       "      <td>2016-03-14 00:00:00</td>\n",
       "      <td>0</td>\n",
       "      <td>90480</td>\n",
       "      <td>2016-04-05 12:47:46</td>\n",
       "    </tr>\n",
       "    <tr>\n",
       "      <td>3</td>\n",
       "      <td>2016-03-17 16:54:04</td>\n",
       "      <td>1500</td>\n",
       "      <td>small</td>\n",
       "      <td>2001</td>\n",
       "      <td>manual</td>\n",
       "      <td>75</td>\n",
       "      <td>golf</td>\n",
       "      <td>150000</td>\n",
       "      <td>6</td>\n",
       "      <td>petrol</td>\n",
       "      <td>volkswagen</td>\n",
       "      <td>no</td>\n",
       "      <td>2016-03-17 00:00:00</td>\n",
       "      <td>0</td>\n",
       "      <td>91074</td>\n",
       "      <td>2016-03-17 17:40:17</td>\n",
       "    </tr>\n",
       "    <tr>\n",
       "      <td>4</td>\n",
       "      <td>2016-03-31 17:25:20</td>\n",
       "      <td>3600</td>\n",
       "      <td>small</td>\n",
       "      <td>2008</td>\n",
       "      <td>manual</td>\n",
       "      <td>69</td>\n",
       "      <td>fabia</td>\n",
       "      <td>90000</td>\n",
       "      <td>7</td>\n",
       "      <td>gasoline</td>\n",
       "      <td>skoda</td>\n",
       "      <td>no</td>\n",
       "      <td>2016-03-31 00:00:00</td>\n",
       "      <td>0</td>\n",
       "      <td>60437</td>\n",
       "      <td>2016-04-06 10:17:21</td>\n",
       "    </tr>\n",
       "    <tr>\n",
       "      <td>5</td>\n",
       "      <td>2016-04-04 17:36:23</td>\n",
       "      <td>650</td>\n",
       "      <td>sedan</td>\n",
       "      <td>1995</td>\n",
       "      <td>manual</td>\n",
       "      <td>102</td>\n",
       "      <td>3er</td>\n",
       "      <td>150000</td>\n",
       "      <td>10</td>\n",
       "      <td>petrol</td>\n",
       "      <td>bmw</td>\n",
       "      <td>yes</td>\n",
       "      <td>2016-04-04 00:00:00</td>\n",
       "      <td>0</td>\n",
       "      <td>33775</td>\n",
       "      <td>2016-04-06 19:17:07</td>\n",
       "    </tr>\n",
       "    <tr>\n",
       "      <td>6</td>\n",
       "      <td>2016-04-01 20:48:51</td>\n",
       "      <td>2200</td>\n",
       "      <td>convertible</td>\n",
       "      <td>2004</td>\n",
       "      <td>manual</td>\n",
       "      <td>109</td>\n",
       "      <td>2_reihe</td>\n",
       "      <td>150000</td>\n",
       "      <td>8</td>\n",
       "      <td>petrol</td>\n",
       "      <td>peugeot</td>\n",
       "      <td>no</td>\n",
       "      <td>2016-04-01 00:00:00</td>\n",
       "      <td>0</td>\n",
       "      <td>67112</td>\n",
       "      <td>2016-04-05 18:18:39</td>\n",
       "    </tr>\n",
       "    <tr>\n",
       "      <td>7</td>\n",
       "      <td>2016-03-21 18:54:38</td>\n",
       "      <td>0</td>\n",
       "      <td>sedan</td>\n",
       "      <td>1980</td>\n",
       "      <td>manual</td>\n",
       "      <td>50</td>\n",
       "      <td>other</td>\n",
       "      <td>40000</td>\n",
       "      <td>7</td>\n",
       "      <td>petrol</td>\n",
       "      <td>volkswagen</td>\n",
       "      <td>no</td>\n",
       "      <td>2016-03-21 00:00:00</td>\n",
       "      <td>0</td>\n",
       "      <td>19348</td>\n",
       "      <td>2016-03-25 16:47:58</td>\n",
       "    </tr>\n",
       "    <tr>\n",
       "      <td>8</td>\n",
       "      <td>2016-04-04 23:42:13</td>\n",
       "      <td>14500</td>\n",
       "      <td>bus</td>\n",
       "      <td>2014</td>\n",
       "      <td>manual</td>\n",
       "      <td>125</td>\n",
       "      <td>c_max</td>\n",
       "      <td>30000</td>\n",
       "      <td>8</td>\n",
       "      <td>petrol</td>\n",
       "      <td>ford</td>\n",
       "      <td>NaN</td>\n",
       "      <td>2016-04-04 00:00:00</td>\n",
       "      <td>0</td>\n",
       "      <td>94505</td>\n",
       "      <td>2016-04-04 23:42:13</td>\n",
       "    </tr>\n",
       "    <tr>\n",
       "      <td>9</td>\n",
       "      <td>2016-03-17 10:53:50</td>\n",
       "      <td>999</td>\n",
       "      <td>small</td>\n",
       "      <td>1998</td>\n",
       "      <td>manual</td>\n",
       "      <td>101</td>\n",
       "      <td>golf</td>\n",
       "      <td>150000</td>\n",
       "      <td>0</td>\n",
       "      <td>NaN</td>\n",
       "      <td>volkswagen</td>\n",
       "      <td>NaN</td>\n",
       "      <td>2016-03-17 00:00:00</td>\n",
       "      <td>0</td>\n",
       "      <td>27472</td>\n",
       "      <td>2016-03-31 17:17:06</td>\n",
       "    </tr>\n",
       "  </tbody>\n",
       "</table>\n",
       "</div>"
      ],
      "text/plain": [
       "           DateCrawled  Price  VehicleType  RegistrationYear Gearbox  Power  \\\n",
       "0  2016-03-24 11:52:17    480          NaN              1993  manual      0   \n",
       "1  2016-03-24 10:58:45  18300        coupe              2011  manual    190   \n",
       "2  2016-03-14 12:52:21   9800          suv              2004    auto    163   \n",
       "3  2016-03-17 16:54:04   1500        small              2001  manual     75   \n",
       "4  2016-03-31 17:25:20   3600        small              2008  manual     69   \n",
       "5  2016-04-04 17:36:23    650        sedan              1995  manual    102   \n",
       "6  2016-04-01 20:48:51   2200  convertible              2004  manual    109   \n",
       "7  2016-03-21 18:54:38      0        sedan              1980  manual     50   \n",
       "8  2016-04-04 23:42:13  14500          bus              2014  manual    125   \n",
       "9  2016-03-17 10:53:50    999        small              1998  manual    101   \n",
       "\n",
       "     Model  Kilometer  RegistrationMonth  FuelType       Brand NotRepaired  \\\n",
       "0     golf     150000                  0    petrol  volkswagen         NaN   \n",
       "1      NaN     125000                  5  gasoline        audi         yes   \n",
       "2    grand     125000                  8  gasoline        jeep         NaN   \n",
       "3     golf     150000                  6    petrol  volkswagen          no   \n",
       "4    fabia      90000                  7  gasoline       skoda          no   \n",
       "5      3er     150000                 10    petrol         bmw         yes   \n",
       "6  2_reihe     150000                  8    petrol     peugeot          no   \n",
       "7    other      40000                  7    petrol  volkswagen          no   \n",
       "8    c_max      30000                  8    petrol        ford         NaN   \n",
       "9     golf     150000                  0       NaN  volkswagen         NaN   \n",
       "\n",
       "           DateCreated  NumberOfPictures  PostalCode             LastSeen  \n",
       "0  2016-03-24 00:00:00                 0       70435  2016-04-07 03:16:57  \n",
       "1  2016-03-24 00:00:00                 0       66954  2016-04-07 01:46:50  \n",
       "2  2016-03-14 00:00:00                 0       90480  2016-04-05 12:47:46  \n",
       "3  2016-03-17 00:00:00                 0       91074  2016-03-17 17:40:17  \n",
       "4  2016-03-31 00:00:00                 0       60437  2016-04-06 10:17:21  \n",
       "5  2016-04-04 00:00:00                 0       33775  2016-04-06 19:17:07  \n",
       "6  2016-04-01 00:00:00                 0       67112  2016-04-05 18:18:39  \n",
       "7  2016-03-21 00:00:00                 0       19348  2016-03-25 16:47:58  \n",
       "8  2016-04-04 00:00:00                 0       94505  2016-04-04 23:42:13  \n",
       "9  2016-03-17 00:00:00                 0       27472  2016-03-31 17:17:06  "
      ]
     },
     "metadata": {},
     "output_type": "display_data"
    },
    {
     "name": "stdout",
     "output_type": "stream",
     "text": [
      "<class 'pandas.core.frame.DataFrame'>\n",
      "RangeIndex: 354369 entries, 0 to 354368\n",
      "Data columns (total 16 columns):\n",
      "DateCrawled          354369 non-null object\n",
      "Price                354369 non-null int64\n",
      "VehicleType          316879 non-null object\n",
      "RegistrationYear     354369 non-null int64\n",
      "Gearbox              334536 non-null object\n",
      "Power                354369 non-null int64\n",
      "Model                334664 non-null object\n",
      "Kilometer            354369 non-null int64\n",
      "RegistrationMonth    354369 non-null int64\n",
      "FuelType             321474 non-null object\n",
      "Brand                354369 non-null object\n",
      "NotRepaired          283215 non-null object\n",
      "DateCreated          354369 non-null object\n",
      "NumberOfPictures     354369 non-null int64\n",
      "PostalCode           354369 non-null int64\n",
      "LastSeen             354369 non-null object\n",
      "dtypes: int64(7), object(9)\n",
      "memory usage: 43.3+ MB\n"
     ]
    }
   ],
   "source": [
    "data = pd.read_csv('/datasets/autos.csv')\n",
    "display(data.head(10))\n",
    "data.info()"
   ]
  },
  {
   "cell_type": "markdown",
   "metadata": {},
   "source": [
    "Наша таблица размером 354369 строк и 16 столбцов. Есть столбцы с категориальными признаками.\n",
    "\n",
    "Обнаружили, что:\n",
    "- в столбцах есть пропуски,\n",
    "- столбцы с датами не имеют формат даты.\n",
    "\n",
    "Присутствуют столбцы, которые не повлияют на поставленную задачу:\n",
    "- дата последней активности пользователя / LastSeen, \n",
    "- почтовый индекс владельца анкеты (пользователя) / PostalCode, \n",
    "- количество фотографий автомобиля / NumberOfPictures, \n",
    "- дата создания анкеты / DateCreated, \n",
    "- дата скачивания анкеты из базы / DateCrawled,\n",
    "- месяц регистрации автомобиля / RegistrationMonth."
   ]
  },
  {
   "cell_type": "markdown",
   "metadata": {},
   "source": [
    "Удалим столбцы, которые ни как не повлияют на модель для определения цены:"
   ]
  },
  {
   "cell_type": "code",
   "execution_count": 3,
   "metadata": {},
   "outputs": [],
   "source": [
    "data.drop([\"LastSeen\", \"NumberOfPictures\", \"DateCreated\", \"DateCrawled\",\n",
    "           \"RegistrationMonth\", \"PostalCode\"], axis=1, inplace=True)"
   ]
  },
  {
   "cell_type": "markdown",
   "metadata": {},
   "source": [
    "Проверим правильность наименования столбцов "
   ]
  },
  {
   "cell_type": "code",
   "execution_count": 4,
   "metadata": {},
   "outputs": [
    {
     "name": "stdout",
     "output_type": "stream",
     "text": [
      "Наименование столбцов: Index(['Price', 'VehicleType', 'RegistrationYear', 'Gearbox', 'Power', 'Model',\n",
      "       'Kilometer', 'FuelType', 'Brand', 'NotRepaired'],\n",
      "      dtype='object')\n"
     ]
    }
   ],
   "source": [
    "print(\"Наименование столбцов:\", data.columns)                            "
   ]
  },
  {
   "cell_type": "markdown",
   "metadata": {},
   "source": [
    "Наименование столбцов правильное."
   ]
  },
  {
   "cell_type": "code",
   "execution_count": 5,
   "metadata": {},
   "outputs": [
    {
     "data": {
      "text/html": [
       "<div>\n",
       "<style scoped>\n",
       "    .dataframe tbody tr th:only-of-type {\n",
       "        vertical-align: middle;\n",
       "    }\n",
       "\n",
       "    .dataframe tbody tr th {\n",
       "        vertical-align: top;\n",
       "    }\n",
       "\n",
       "    .dataframe thead th {\n",
       "        text-align: right;\n",
       "    }\n",
       "</style>\n",
       "<table border=\"1\" class=\"dataframe\">\n",
       "  <thead>\n",
       "    <tr style=\"text-align: right;\">\n",
       "      <th></th>\n",
       "      <th>Price</th>\n",
       "      <th>RegistrationYear</th>\n",
       "      <th>Power</th>\n",
       "      <th>Kilometer</th>\n",
       "    </tr>\n",
       "  </thead>\n",
       "  <tbody>\n",
       "    <tr>\n",
       "      <td>count</td>\n",
       "      <td>354369.000000</td>\n",
       "      <td>354369.000000</td>\n",
       "      <td>354369.000000</td>\n",
       "      <td>354369.000000</td>\n",
       "    </tr>\n",
       "    <tr>\n",
       "      <td>mean</td>\n",
       "      <td>4416.656776</td>\n",
       "      <td>2004.234448</td>\n",
       "      <td>110.094337</td>\n",
       "      <td>128211.172535</td>\n",
       "    </tr>\n",
       "    <tr>\n",
       "      <td>std</td>\n",
       "      <td>4514.158514</td>\n",
       "      <td>90.227958</td>\n",
       "      <td>189.850405</td>\n",
       "      <td>37905.341530</td>\n",
       "    </tr>\n",
       "    <tr>\n",
       "      <td>min</td>\n",
       "      <td>0.000000</td>\n",
       "      <td>1000.000000</td>\n",
       "      <td>0.000000</td>\n",
       "      <td>5000.000000</td>\n",
       "    </tr>\n",
       "    <tr>\n",
       "      <td>25%</td>\n",
       "      <td>1050.000000</td>\n",
       "      <td>1999.000000</td>\n",
       "      <td>69.000000</td>\n",
       "      <td>125000.000000</td>\n",
       "    </tr>\n",
       "    <tr>\n",
       "      <td>50%</td>\n",
       "      <td>2700.000000</td>\n",
       "      <td>2003.000000</td>\n",
       "      <td>105.000000</td>\n",
       "      <td>150000.000000</td>\n",
       "    </tr>\n",
       "    <tr>\n",
       "      <td>75%</td>\n",
       "      <td>6400.000000</td>\n",
       "      <td>2008.000000</td>\n",
       "      <td>143.000000</td>\n",
       "      <td>150000.000000</td>\n",
       "    </tr>\n",
       "    <tr>\n",
       "      <td>max</td>\n",
       "      <td>20000.000000</td>\n",
       "      <td>9999.000000</td>\n",
       "      <td>20000.000000</td>\n",
       "      <td>150000.000000</td>\n",
       "    </tr>\n",
       "  </tbody>\n",
       "</table>\n",
       "</div>"
      ],
      "text/plain": [
       "               Price  RegistrationYear          Power      Kilometer\n",
       "count  354369.000000     354369.000000  354369.000000  354369.000000\n",
       "mean     4416.656776       2004.234448     110.094337  128211.172535\n",
       "std      4514.158514         90.227958     189.850405   37905.341530\n",
       "min         0.000000       1000.000000       0.000000    5000.000000\n",
       "25%      1050.000000       1999.000000      69.000000  125000.000000\n",
       "50%      2700.000000       2003.000000     105.000000  150000.000000\n",
       "75%      6400.000000       2008.000000     143.000000  150000.000000\n",
       "max     20000.000000       9999.000000   20000.000000  150000.000000"
      ]
     },
     "execution_count": 5,
     "metadata": {},
     "output_type": "execute_result"
    }
   ],
   "source": [
    "data.describe()"
   ]
  },
  {
   "cell_type": "markdown",
   "metadata": {},
   "source": [
    "Видим максимальную цену 20000, год регистрации 1000 / 9999, а также мощность в 20000 лошадиных сил.\n",
    "Надо провести исследование этих данных."
   ]
  },
  {
   "cell_type": "markdown",
   "metadata": {},
   "source": [
    "Процентное соотношение пропущенных значений:"
   ]
  },
  {
   "cell_type": "code",
   "execution_count": 6,
   "metadata": {},
   "outputs": [
    {
     "data": {
      "text/html": [
       "<style  type=\"text/css\" >\n",
       "    #T_0299dae2_83a8_11ec_bb0a_02420a391b26row0_col0 {\n",
       "            background-color:  #b40426;\n",
       "            color:  #f1f1f1;\n",
       "        }    #T_0299dae2_83a8_11ec_bb0a_02420a391b26row1_col0 {\n",
       "            background-color:  #e3d9d3;\n",
       "            color:  #000000;\n",
       "        }    #T_0299dae2_83a8_11ec_bb0a_02420a391b26row2_col0 {\n",
       "            background-color:  #d3dbe7;\n",
       "            color:  #000000;\n",
       "        }    #T_0299dae2_83a8_11ec_bb0a_02420a391b26row3_col0 {\n",
       "            background-color:  #97b8ff;\n",
       "            color:  #000000;\n",
       "        }    #T_0299dae2_83a8_11ec_bb0a_02420a391b26row4_col0 {\n",
       "            background-color:  #96b7ff;\n",
       "            color:  #000000;\n",
       "        }    #T_0299dae2_83a8_11ec_bb0a_02420a391b26row5_col0 {\n",
       "            background-color:  #3b4cc0;\n",
       "            color:  #f1f1f1;\n",
       "        }    #T_0299dae2_83a8_11ec_bb0a_02420a391b26row6_col0 {\n",
       "            background-color:  #3b4cc0;\n",
       "            color:  #f1f1f1;\n",
       "        }    #T_0299dae2_83a8_11ec_bb0a_02420a391b26row7_col0 {\n",
       "            background-color:  #3b4cc0;\n",
       "            color:  #f1f1f1;\n",
       "        }    #T_0299dae2_83a8_11ec_bb0a_02420a391b26row8_col0 {\n",
       "            background-color:  #3b4cc0;\n",
       "            color:  #f1f1f1;\n",
       "        }    #T_0299dae2_83a8_11ec_bb0a_02420a391b26row9_col0 {\n",
       "            background-color:  #3b4cc0;\n",
       "            color:  #f1f1f1;\n",
       "        }</style><table id=\"T_0299dae2_83a8_11ec_bb0a_02420a391b26\" ><thead>    <tr>        <th class=\"blank level0\" ></th>        <th class=\"col_heading level0 col0\" >0</th>    </tr></thead><tbody>\n",
       "                <tr>\n",
       "                        <th id=\"T_0299dae2_83a8_11ec_bb0a_02420a391b26level0_row0\" class=\"row_heading level0 row0\" >NotRepaired</th>\n",
       "                        <td id=\"T_0299dae2_83a8_11ec_bb0a_02420a391b26row0_col0\" class=\"data row0 col0\" >20.08</td>\n",
       "            </tr>\n",
       "            <tr>\n",
       "                        <th id=\"T_0299dae2_83a8_11ec_bb0a_02420a391b26level0_row1\" class=\"row_heading level0 row1\" >VehicleType</th>\n",
       "                        <td id=\"T_0299dae2_83a8_11ec_bb0a_02420a391b26row1_col0\" class=\"data row1 col0\" >10.58</td>\n",
       "            </tr>\n",
       "            <tr>\n",
       "                        <th id=\"T_0299dae2_83a8_11ec_bb0a_02420a391b26level0_row2\" class=\"row_heading level0 row2\" >FuelType</th>\n",
       "                        <td id=\"T_0299dae2_83a8_11ec_bb0a_02420a391b26row2_col0\" class=\"data row2 col0\" >9.28</td>\n",
       "            </tr>\n",
       "            <tr>\n",
       "                        <th id=\"T_0299dae2_83a8_11ec_bb0a_02420a391b26level0_row3\" class=\"row_heading level0 row3\" >Gearbox</th>\n",
       "                        <td id=\"T_0299dae2_83a8_11ec_bb0a_02420a391b26row3_col0\" class=\"data row3 col0\" >5.6</td>\n",
       "            </tr>\n",
       "            <tr>\n",
       "                        <th id=\"T_0299dae2_83a8_11ec_bb0a_02420a391b26level0_row4\" class=\"row_heading level0 row4\" >Model</th>\n",
       "                        <td id=\"T_0299dae2_83a8_11ec_bb0a_02420a391b26row4_col0\" class=\"data row4 col0\" >5.56</td>\n",
       "            </tr>\n",
       "            <tr>\n",
       "                        <th id=\"T_0299dae2_83a8_11ec_bb0a_02420a391b26level0_row5\" class=\"row_heading level0 row5\" >Brand</th>\n",
       "                        <td id=\"T_0299dae2_83a8_11ec_bb0a_02420a391b26row5_col0\" class=\"data row5 col0\" >0</td>\n",
       "            </tr>\n",
       "            <tr>\n",
       "                        <th id=\"T_0299dae2_83a8_11ec_bb0a_02420a391b26level0_row6\" class=\"row_heading level0 row6\" >Kilometer</th>\n",
       "                        <td id=\"T_0299dae2_83a8_11ec_bb0a_02420a391b26row6_col0\" class=\"data row6 col0\" >0</td>\n",
       "            </tr>\n",
       "            <tr>\n",
       "                        <th id=\"T_0299dae2_83a8_11ec_bb0a_02420a391b26level0_row7\" class=\"row_heading level0 row7\" >Power</th>\n",
       "                        <td id=\"T_0299dae2_83a8_11ec_bb0a_02420a391b26row7_col0\" class=\"data row7 col0\" >0</td>\n",
       "            </tr>\n",
       "            <tr>\n",
       "                        <th id=\"T_0299dae2_83a8_11ec_bb0a_02420a391b26level0_row8\" class=\"row_heading level0 row8\" >RegistrationYear</th>\n",
       "                        <td id=\"T_0299dae2_83a8_11ec_bb0a_02420a391b26row8_col0\" class=\"data row8 col0\" >0</td>\n",
       "            </tr>\n",
       "            <tr>\n",
       "                        <th id=\"T_0299dae2_83a8_11ec_bb0a_02420a391b26level0_row9\" class=\"row_heading level0 row9\" >Price</th>\n",
       "                        <td id=\"T_0299dae2_83a8_11ec_bb0a_02420a391b26row9_col0\" class=\"data row9 col0\" >0</td>\n",
       "            </tr>\n",
       "    </tbody></table>"
      ],
      "text/plain": [
       "<pandas.io.formats.style.Styler at 0x7f39e6a53210>"
      ]
     },
     "execution_count": 6,
     "metadata": {},
     "output_type": "execute_result"
    }
   ],
   "source": [
    "pd.DataFrame(data.isna().mean().round(4)*100).sort_values(by=0)[::-1].style.background_gradient('coolwarm') "
   ]
  },
  {
   "cell_type": "markdown",
   "metadata": {},
   "source": [
    "Строки с пропущенными значениями в столбце Model (модель бренда), Gearbox (тип коробки передач) удалим, так как взять эти значения нам негде, а для модели они важны."
   ]
  },
  {
   "cell_type": "markdown",
   "metadata": {},
   "source": [
    "Пропущенных значений в NotRepaired очень много - 20,87 %, удалить их будет означать сократить таблицу на это значение, а это очень много.\n",
    "При не заполненном поле NotRepaired будем считать, что машина в ремонте не была."
   ]
  },
  {
   "cell_type": "code",
   "execution_count": 7,
   "metadata": {},
   "outputs": [],
   "source": [
    "data[\"NotRepaired\"].fillna(\"yes\", inplace=True) "
   ]
  },
  {
   "cell_type": "markdown",
   "metadata": {},
   "source": [
    "Пропущенные значения в VehicleType, FuelType, Model и Gearbox удалим, так как взать их негде."
   ]
  },
  {
   "cell_type": "code",
   "execution_count": 8,
   "metadata": {},
   "outputs": [],
   "source": [
    "data.dropna(inplace=True)"
   ]
  },
  {
   "cell_type": "markdown",
   "metadata": {},
   "source": [
    "Посмотрим что получилось после:"
   ]
  },
  {
   "cell_type": "code",
   "execution_count": 9,
   "metadata": {},
   "outputs": [
    {
     "data": {
      "text/html": [
       "<style  type=\"text/css\" >\n",
       "    #T_02cac5ee_83a8_11ec_bb0a_02420a391b26row0_col0 {\n",
       "            background-color:  #3b4cc0;\n",
       "            color:  #f1f1f1;\n",
       "        }    #T_02cac5ee_83a8_11ec_bb0a_02420a391b26row1_col0 {\n",
       "            background-color:  #3b4cc0;\n",
       "            color:  #f1f1f1;\n",
       "        }    #T_02cac5ee_83a8_11ec_bb0a_02420a391b26row2_col0 {\n",
       "            background-color:  #3b4cc0;\n",
       "            color:  #f1f1f1;\n",
       "        }    #T_02cac5ee_83a8_11ec_bb0a_02420a391b26row3_col0 {\n",
       "            background-color:  #3b4cc0;\n",
       "            color:  #f1f1f1;\n",
       "        }    #T_02cac5ee_83a8_11ec_bb0a_02420a391b26row4_col0 {\n",
       "            background-color:  #3b4cc0;\n",
       "            color:  #f1f1f1;\n",
       "        }    #T_02cac5ee_83a8_11ec_bb0a_02420a391b26row5_col0 {\n",
       "            background-color:  #3b4cc0;\n",
       "            color:  #f1f1f1;\n",
       "        }    #T_02cac5ee_83a8_11ec_bb0a_02420a391b26row6_col0 {\n",
       "            background-color:  #3b4cc0;\n",
       "            color:  #f1f1f1;\n",
       "        }    #T_02cac5ee_83a8_11ec_bb0a_02420a391b26row7_col0 {\n",
       "            background-color:  #3b4cc0;\n",
       "            color:  #f1f1f1;\n",
       "        }    #T_02cac5ee_83a8_11ec_bb0a_02420a391b26row8_col0 {\n",
       "            background-color:  #3b4cc0;\n",
       "            color:  #f1f1f1;\n",
       "        }    #T_02cac5ee_83a8_11ec_bb0a_02420a391b26row9_col0 {\n",
       "            background-color:  #3b4cc0;\n",
       "            color:  #f1f1f1;\n",
       "        }</style><table id=\"T_02cac5ee_83a8_11ec_bb0a_02420a391b26\" ><thead>    <tr>        <th class=\"blank level0\" ></th>        <th class=\"col_heading level0 col0\" >0</th>    </tr></thead><tbody>\n",
       "                <tr>\n",
       "                        <th id=\"T_02cac5ee_83a8_11ec_bb0a_02420a391b26level0_row0\" class=\"row_heading level0 row0\" >NotRepaired</th>\n",
       "                        <td id=\"T_02cac5ee_83a8_11ec_bb0a_02420a391b26row0_col0\" class=\"data row0 col0\" >0</td>\n",
       "            </tr>\n",
       "            <tr>\n",
       "                        <th id=\"T_02cac5ee_83a8_11ec_bb0a_02420a391b26level0_row1\" class=\"row_heading level0 row1\" >Brand</th>\n",
       "                        <td id=\"T_02cac5ee_83a8_11ec_bb0a_02420a391b26row1_col0\" class=\"data row1 col0\" >0</td>\n",
       "            </tr>\n",
       "            <tr>\n",
       "                        <th id=\"T_02cac5ee_83a8_11ec_bb0a_02420a391b26level0_row2\" class=\"row_heading level0 row2\" >FuelType</th>\n",
       "                        <td id=\"T_02cac5ee_83a8_11ec_bb0a_02420a391b26row2_col0\" class=\"data row2 col0\" >0</td>\n",
       "            </tr>\n",
       "            <tr>\n",
       "                        <th id=\"T_02cac5ee_83a8_11ec_bb0a_02420a391b26level0_row3\" class=\"row_heading level0 row3\" >Kilometer</th>\n",
       "                        <td id=\"T_02cac5ee_83a8_11ec_bb0a_02420a391b26row3_col0\" class=\"data row3 col0\" >0</td>\n",
       "            </tr>\n",
       "            <tr>\n",
       "                        <th id=\"T_02cac5ee_83a8_11ec_bb0a_02420a391b26level0_row4\" class=\"row_heading level0 row4\" >Model</th>\n",
       "                        <td id=\"T_02cac5ee_83a8_11ec_bb0a_02420a391b26row4_col0\" class=\"data row4 col0\" >0</td>\n",
       "            </tr>\n",
       "            <tr>\n",
       "                        <th id=\"T_02cac5ee_83a8_11ec_bb0a_02420a391b26level0_row5\" class=\"row_heading level0 row5\" >Power</th>\n",
       "                        <td id=\"T_02cac5ee_83a8_11ec_bb0a_02420a391b26row5_col0\" class=\"data row5 col0\" >0</td>\n",
       "            </tr>\n",
       "            <tr>\n",
       "                        <th id=\"T_02cac5ee_83a8_11ec_bb0a_02420a391b26level0_row6\" class=\"row_heading level0 row6\" >Gearbox</th>\n",
       "                        <td id=\"T_02cac5ee_83a8_11ec_bb0a_02420a391b26row6_col0\" class=\"data row6 col0\" >0</td>\n",
       "            </tr>\n",
       "            <tr>\n",
       "                        <th id=\"T_02cac5ee_83a8_11ec_bb0a_02420a391b26level0_row7\" class=\"row_heading level0 row7\" >RegistrationYear</th>\n",
       "                        <td id=\"T_02cac5ee_83a8_11ec_bb0a_02420a391b26row7_col0\" class=\"data row7 col0\" >0</td>\n",
       "            </tr>\n",
       "            <tr>\n",
       "                        <th id=\"T_02cac5ee_83a8_11ec_bb0a_02420a391b26level0_row8\" class=\"row_heading level0 row8\" >VehicleType</th>\n",
       "                        <td id=\"T_02cac5ee_83a8_11ec_bb0a_02420a391b26row8_col0\" class=\"data row8 col0\" >0</td>\n",
       "            </tr>\n",
       "            <tr>\n",
       "                        <th id=\"T_02cac5ee_83a8_11ec_bb0a_02420a391b26level0_row9\" class=\"row_heading level0 row9\" >Price</th>\n",
       "                        <td id=\"T_02cac5ee_83a8_11ec_bb0a_02420a391b26row9_col0\" class=\"data row9 col0\" >0</td>\n",
       "            </tr>\n",
       "    </tbody></table>"
      ],
      "text/plain": [
       "<pandas.io.formats.style.Styler at 0x7f39e8c9bb10>"
      ]
     },
     "execution_count": 9,
     "metadata": {},
     "output_type": "execute_result"
    }
   ],
   "source": [
    "pd.DataFrame(data.isna().mean().round(4)*100).sort_values(by=0)[::-1].style.background_gradient('coolwarm') "
   ]
  },
  {
   "cell_type": "markdown",
   "metadata": {},
   "source": [
    "Посмотрим есть ли дубликаты:    "
   ]
  },
  {
   "cell_type": "code",
   "execution_count": 10,
   "metadata": {},
   "outputs": [
    {
     "data": {
      "text/plain": [
       "41260"
      ]
     },
     "execution_count": 10,
     "metadata": {},
     "output_type": "execute_result"
    }
   ],
   "source": [
    "data.duplicated().sum()                                    "
   ]
  },
  {
   "cell_type": "markdown",
   "metadata": {},
   "source": [
    "Удалим дубликаты:"
   ]
  },
  {
   "cell_type": "code",
   "execution_count": 11,
   "metadata": {},
   "outputs": [],
   "source": [
    "data = data.drop_duplicates().reset_index(drop=True)  "
   ]
  },
  {
   "cell_type": "markdown",
   "metadata": {},
   "source": [
    "Посмотрим оставшеюся таблицу"
   ]
  },
  {
   "cell_type": "code",
   "execution_count": 12,
   "metadata": {},
   "outputs": [
    {
     "data": {
      "text/html": [
       "<div>\n",
       "<style scoped>\n",
       "    .dataframe tbody tr th:only-of-type {\n",
       "        vertical-align: middle;\n",
       "    }\n",
       "\n",
       "    .dataframe tbody tr th {\n",
       "        vertical-align: top;\n",
       "    }\n",
       "\n",
       "    .dataframe thead th {\n",
       "        text-align: right;\n",
       "    }\n",
       "</style>\n",
       "<table border=\"1\" class=\"dataframe\">\n",
       "  <thead>\n",
       "    <tr style=\"text-align: right;\">\n",
       "      <th></th>\n",
       "      <th>Price</th>\n",
       "      <th>VehicleType</th>\n",
       "      <th>RegistrationYear</th>\n",
       "      <th>Gearbox</th>\n",
       "      <th>Power</th>\n",
       "      <th>Model</th>\n",
       "      <th>Kilometer</th>\n",
       "      <th>FuelType</th>\n",
       "      <th>Brand</th>\n",
       "      <th>NotRepaired</th>\n",
       "    </tr>\n",
       "  </thead>\n",
       "  <tbody>\n",
       "    <tr>\n",
       "      <td>0</td>\n",
       "      <td>9800</td>\n",
       "      <td>suv</td>\n",
       "      <td>2004</td>\n",
       "      <td>auto</td>\n",
       "      <td>163</td>\n",
       "      <td>grand</td>\n",
       "      <td>125000</td>\n",
       "      <td>gasoline</td>\n",
       "      <td>jeep</td>\n",
       "      <td>yes</td>\n",
       "    </tr>\n",
       "    <tr>\n",
       "      <td>1</td>\n",
       "      <td>1500</td>\n",
       "      <td>small</td>\n",
       "      <td>2001</td>\n",
       "      <td>manual</td>\n",
       "      <td>75</td>\n",
       "      <td>golf</td>\n",
       "      <td>150000</td>\n",
       "      <td>petrol</td>\n",
       "      <td>volkswagen</td>\n",
       "      <td>no</td>\n",
       "    </tr>\n",
       "    <tr>\n",
       "      <td>2</td>\n",
       "      <td>3600</td>\n",
       "      <td>small</td>\n",
       "      <td>2008</td>\n",
       "      <td>manual</td>\n",
       "      <td>69</td>\n",
       "      <td>fabia</td>\n",
       "      <td>90000</td>\n",
       "      <td>gasoline</td>\n",
       "      <td>skoda</td>\n",
       "      <td>no</td>\n",
       "    </tr>\n",
       "    <tr>\n",
       "      <td>3</td>\n",
       "      <td>650</td>\n",
       "      <td>sedan</td>\n",
       "      <td>1995</td>\n",
       "      <td>manual</td>\n",
       "      <td>102</td>\n",
       "      <td>3er</td>\n",
       "      <td>150000</td>\n",
       "      <td>petrol</td>\n",
       "      <td>bmw</td>\n",
       "      <td>yes</td>\n",
       "    </tr>\n",
       "    <tr>\n",
       "      <td>4</td>\n",
       "      <td>2200</td>\n",
       "      <td>convertible</td>\n",
       "      <td>2004</td>\n",
       "      <td>manual</td>\n",
       "      <td>109</td>\n",
       "      <td>2_reihe</td>\n",
       "      <td>150000</td>\n",
       "      <td>petrol</td>\n",
       "      <td>peugeot</td>\n",
       "      <td>no</td>\n",
       "    </tr>\n",
       "  </tbody>\n",
       "</table>\n",
       "</div>"
      ],
      "text/plain": [
       "   Price  VehicleType  RegistrationYear Gearbox  Power    Model  Kilometer  \\\n",
       "0   9800          suv              2004    auto    163    grand     125000   \n",
       "1   1500        small              2001  manual     75     golf     150000   \n",
       "2   3600        small              2008  manual     69    fabia      90000   \n",
       "3    650        sedan              1995  manual    102      3er     150000   \n",
       "4   2200  convertible              2004  manual    109  2_reihe     150000   \n",
       "\n",
       "   FuelType       Brand NotRepaired  \n",
       "0  gasoline        jeep         yes  \n",
       "1    petrol  volkswagen          no  \n",
       "2  gasoline       skoda          no  \n",
       "3    petrol         bmw         yes  \n",
       "4    petrol     peugeot          no  "
      ]
     },
     "metadata": {},
     "output_type": "display_data"
    }
   ],
   "source": [
    "display(data.head())                               "
   ]
  },
  {
   "cell_type": "markdown",
   "metadata": {},
   "source": [
    "Посмотрим числовые столбцы:"
   ]
  },
  {
   "cell_type": "code",
   "execution_count": 13,
   "metadata": {},
   "outputs": [
    {
     "data": {
      "image/png": "[encoded data removed]",
      "text/plain": [
       "<Figure size 432x288 with 1 Axes>"
      ]
     },
     "metadata": {
      "needs_background": "light"
     },
     "output_type": "display_data"
    },
    {
     "data": {
      "image/png": "[encoded data removed]",
      "text/plain": [
       "<Figure size 432x288 with 1 Axes>"
      ]
     },
     "metadata": {
      "needs_background": "light"
     },
     "output_type": "display_data"
    },
    {
     "data": {
      "image/png": "[encoded data removed]",
      "text/plain": [
       "<Figure size 432x288 with 1 Axes>"
      ]
     },
     "metadata": {
      "needs_background": "light"
     },
     "output_type": "display_data"
    },
    {
     "data": {
      "image/png": "[encoded data removed]",
      "text/plain": [
       "<Figure size 432x288 with 1 Axes>"
      ]
     },
     "metadata": {
      "needs_background": "light"
     },
     "output_type": "display_data"
    }
   ],
   "source": [
    "numerical = data.select_dtypes(include='number')         \n",
    "\n",
    "for columns in numerical:\n",
    "    data[columns].plot.box()\n",
    "    plt.title(columns)\n",
    "    plt.show()"
   ]
  },
  {
   "cell_type": "markdown",
   "metadata": {},
   "source": [
    "Видим большие выбросы во всех столбцах. Столбец \"Kilometer\" не будем трогать, так так пробег может быть любой. Остальные столбцы ограничим."
   ]
  },
  {
   "cell_type": "code",
   "execution_count": 14,
   "metadata": {},
   "outputs": [],
   "source": [
    "data = data.query('RegistrationYear <= 2016 and RegistrationYear >= 1945 and Power >= 30 and Power <= 1200 and Price <= 20000')"
   ]
  },
  {
   "cell_type": "markdown",
   "metadata": {},
   "source": [
    "Посмотрим итоговый размер выборки:"
   ]
  },
  {
   "cell_type": "code",
   "execution_count": 15,
   "metadata": {},
   "outputs": [
    {
     "data": {
      "text/plain": [
       "(227592, 10)"
      ]
     },
     "execution_count": 15,
     "metadata": {},
     "output_type": "execute_result"
    }
   ],
   "source": [
    "data.shape                                   "
   ]
  },
  {
   "cell_type": "markdown",
   "metadata": {},
   "source": [
    "Переделаем категориальные значения в числовые применив технику прямого кодирования."
   ]
  },
  {
   "cell_type": "code",
   "execution_count": 16,
   "metadata": {},
   "outputs": [],
   "source": [
    "data_ohe = pd.get_dummies(data, drop_first=True)"
   ]
  },
  {
   "cell_type": "markdown",
   "metadata": {},
   "source": [
    "Эти данные будем использовать для линейной регресси и LightGBM."
   ]
  },
  {
   "cell_type": "markdown",
   "metadata": {},
   "source": [
    "Скопируем наш файл для работы с OrdinalEncoder и categorical_features"
   ]
  },
  {
   "cell_type": "code",
   "execution_count": 17,
   "metadata": {},
   "outputs": [],
   "source": [
    "data_categorical_features = data.copy(deep=True)"
   ]
  },
  {
   "cell_type": "code",
   "execution_count": 18,
   "metadata": {},
   "outputs": [],
   "source": [
    "enc = OrdinalEncoder()\n",
    "data.loc[:, ['VehicleType', 'Gearbox', 'Model', 'FuelType', 'Brand',\n",
    "             'NotRepaired']] = enc.fit_transform(data[['VehicleType', 'Gearbox', 'Model', 'FuelType', 'Brand', 'NotRepaired']])"
   ]
  },
  {
   "cell_type": "markdown",
   "metadata": {},
   "source": [
    "Посмотрим, что получилось"
   ]
  },
  {
   "cell_type": "code",
   "execution_count": 19,
   "metadata": {},
   "outputs": [
    {
     "data": {
      "text/html": [
       "<div>\n",
       "<style scoped>\n",
       "    .dataframe tbody tr th:only-of-type {\n",
       "        vertical-align: middle;\n",
       "    }\n",
       "\n",
       "    .dataframe tbody tr th {\n",
       "        vertical-align: top;\n",
       "    }\n",
       "\n",
       "    .dataframe thead th {\n",
       "        text-align: right;\n",
       "    }\n",
       "</style>\n",
       "<table border=\"1\" class=\"dataframe\">\n",
       "  <thead>\n",
       "    <tr style=\"text-align: right;\">\n",
       "      <th></th>\n",
       "      <th>Price</th>\n",
       "      <th>VehicleType</th>\n",
       "      <th>RegistrationYear</th>\n",
       "      <th>Gearbox</th>\n",
       "      <th>Power</th>\n",
       "      <th>Model</th>\n",
       "      <th>Kilometer</th>\n",
       "      <th>FuelType</th>\n",
       "      <th>Brand</th>\n",
       "      <th>NotRepaired</th>\n",
       "    </tr>\n",
       "  </thead>\n",
       "  <tbody>\n",
       "    <tr>\n",
       "      <td>0</td>\n",
       "      <td>9800</td>\n",
       "      <td>6.0</td>\n",
       "      <td>2004</td>\n",
       "      <td>0.0</td>\n",
       "      <td>163</td>\n",
       "      <td>117.0</td>\n",
       "      <td>125000</td>\n",
       "      <td>2.0</td>\n",
       "      <td>14.0</td>\n",
       "      <td>1.0</td>\n",
       "    </tr>\n",
       "    <tr>\n",
       "      <td>1</td>\n",
       "      <td>1500</td>\n",
       "      <td>5.0</td>\n",
       "      <td>2001</td>\n",
       "      <td>1.0</td>\n",
       "      <td>75</td>\n",
       "      <td>116.0</td>\n",
       "      <td>150000</td>\n",
       "      <td>6.0</td>\n",
       "      <td>37.0</td>\n",
       "      <td>0.0</td>\n",
       "    </tr>\n",
       "    <tr>\n",
       "      <td>2</td>\n",
       "      <td>3600</td>\n",
       "      <td>5.0</td>\n",
       "      <td>2008</td>\n",
       "      <td>1.0</td>\n",
       "      <td>69</td>\n",
       "      <td>101.0</td>\n",
       "      <td>90000</td>\n",
       "      <td>2.0</td>\n",
       "      <td>31.0</td>\n",
       "      <td>0.0</td>\n",
       "    </tr>\n",
       "    <tr>\n",
       "      <td>3</td>\n",
       "      <td>650</td>\n",
       "      <td>4.0</td>\n",
       "      <td>1995</td>\n",
       "      <td>1.0</td>\n",
       "      <td>102</td>\n",
       "      <td>11.0</td>\n",
       "      <td>150000</td>\n",
       "      <td>6.0</td>\n",
       "      <td>2.0</td>\n",
       "      <td>1.0</td>\n",
       "    </tr>\n",
       "    <tr>\n",
       "      <td>4</td>\n",
       "      <td>2200</td>\n",
       "      <td>1.0</td>\n",
       "      <td>2004</td>\n",
       "      <td>1.0</td>\n",
       "      <td>109</td>\n",
       "      <td>8.0</td>\n",
       "      <td>150000</td>\n",
       "      <td>6.0</td>\n",
       "      <td>25.0</td>\n",
       "      <td>0.0</td>\n",
       "    </tr>\n",
       "  </tbody>\n",
       "</table>\n",
       "</div>"
      ],
      "text/plain": [
       "   Price  VehicleType  RegistrationYear  Gearbox  Power  Model  Kilometer  \\\n",
       "0   9800          6.0              2004      0.0    163  117.0     125000   \n",
       "1   1500          5.0              2001      1.0     75  116.0     150000   \n",
       "2   3600          5.0              2008      1.0     69  101.0      90000   \n",
       "3    650          4.0              1995      1.0    102   11.0     150000   \n",
       "4   2200          1.0              2004      1.0    109    8.0     150000   \n",
       "\n",
       "   FuelType  Brand  NotRepaired  \n",
       "0       2.0   14.0          1.0  \n",
       "1       6.0   37.0          0.0  \n",
       "2       2.0   31.0          0.0  \n",
       "3       6.0    2.0          1.0  \n",
       "4       6.0   25.0          0.0  "
      ]
     },
     "metadata": {},
     "output_type": "display_data"
    }
   ],
   "source": [
    "display(data.head())                "
   ]
  },
  {
   "cell_type": "code",
   "execution_count": 20,
   "metadata": {},
   "outputs": [
    {
     "name": "stdout",
     "output_type": "stream",
     "text": [
      "(227592, 10)\n"
     ]
    }
   ],
   "source": [
    "print(data.shape)"
   ]
  },
  {
   "cell_type": "markdown",
   "metadata": {},
   "source": [
    "Подготовим категориальные признаки для CatBoostRegressor"
   ]
  },
  {
   "cell_type": "code",
   "execution_count": 21,
   "metadata": {},
   "outputs": [],
   "source": [
    "categorical_features = data_categorical_features[['VehicleType', 'Gearbox', 'Model', 'FuelType', 'Brand', 'NotRepaired']]"
   ]
  },
  {
   "cell_type": "markdown",
   "metadata": {},
   "source": [
    "### Вывод"
   ]
  },
  {
   "cell_type": "markdown",
   "metadata": {},
   "source": [
    "Открыли и прочитали исходный файл, его размеры 354369 строк и 16 столбцов. \n",
    "\n",
    "Подготовили файл для дальнейшей работы:\n",
    "- удалили ненужные столбцы для обучения.\n",
    "- обработали пропущенные значения.\n",
    "- удалили дубликаты\n",
    "- в столбцах \"год регистрации\", \"цена\" и \"мощность\" убрали выбросы\n",
    "- обработали категориальные значения методом прямого кодирования и OrdinalEncoder\n",
    "- подготовили категориальные признаки для CatBoostRegressor."
   ]
  },
  {
   "cell_type": "markdown",
   "metadata": {},
   "source": [
    "## Обучение моделей"
   ]
  },
  {
   "cell_type": "markdown",
   "metadata": {},
   "source": [
    "### Целевые признаки для метода OHE"
   ]
  },
  {
   "cell_type": "code",
   "execution_count": 22,
   "metadata": {},
   "outputs": [],
   "source": [
    "features_ohe = data_ohe.drop(['Price'], axis = 1)\n",
    "target_ohe = data_ohe['Price']"
   ]
  },
  {
   "cell_type": "code",
   "execution_count": 23,
   "metadata": {},
   "outputs": [],
   "source": [
    "features_train_ohe, features_test_ohe, target_train_ohe, target_test_ohe = train_test_split(features_ohe, \n",
    "                                                                                target_ohe, test_size=0.25, random_state=12345) "
   ]
  },
  {
   "cell_type": "code",
   "execution_count": 24,
   "metadata": {},
   "outputs": [
    {
     "name": "stdout",
     "output_type": "stream",
     "text": [
      "(227592, 304) (227592,)\n"
     ]
    }
   ],
   "source": [
    "print(features_ohe.shape, target_ohe.shape)"
   ]
  },
  {
   "cell_type": "markdown",
   "metadata": {},
   "source": [
    "### Целевые признаки для метода OrdinalEncoder"
   ]
  },
  {
   "cell_type": "code",
   "execution_count": 25,
   "metadata": {},
   "outputs": [],
   "source": [
    "features = data.drop(['Price'], axis = 1)\n",
    "target = data['Price']"
   ]
  },
  {
   "cell_type": "code",
   "execution_count": 26,
   "metadata": {},
   "outputs": [],
   "source": [
    "features_train, features_test, target_train, target_test = train_test_split(features, target,\n",
    "                                                                            test_size=0.25, random_state=12345)"
   ]
  },
  {
   "cell_type": "code",
   "execution_count": 27,
   "metadata": {},
   "outputs": [
    {
     "name": "stdout",
     "output_type": "stream",
     "text": [
      "(227592, 9) (227592,)\n"
     ]
    }
   ],
   "source": [
    "print(features.shape, target.shape)"
   ]
  },
  {
   "cell_type": "markdown",
   "metadata": {},
   "source": [
    "### Целевые признаки для метода указания категориальных значений"
   ]
  },
  {
   "cell_type": "code",
   "execution_count": 28,
   "metadata": {},
   "outputs": [],
   "source": [
    "features_cf = data_categorical_features.drop(['Price'], axis = 1)\n",
    "target_cf = data_categorical_features['Price']"
   ]
  },
  {
   "cell_type": "code",
   "execution_count": 29,
   "metadata": {},
   "outputs": [],
   "source": [
    "features_train_cf, features_test_cf, target_train_cf, target_test_cf = train_test_split(features_cf,\n",
    "                                                                                target_cf, test_size=0.25, random_state=12345)"
   ]
  },
  {
   "cell_type": "code",
   "execution_count": 30,
   "metadata": {},
   "outputs": [
    {
     "name": "stdout",
     "output_type": "stream",
     "text": [
      "(227592, 9) (227592,)\n"
     ]
    }
   ],
   "source": [
    "print(features_cf.shape, target_cf.shape)"
   ]
  },
  {
   "cell_type": "markdown",
   "metadata": {},
   "source": [
    "### Формула для расчета RSME"
   ]
  },
  {
   "cell_type": "code",
   "execution_count": 31,
   "metadata": {},
   "outputs": [],
   "source": [
    "def rmse (target, predictions):\n",
    "    mse = mean_squared_error(target, predictions)\n",
    "    rmse = mse ** 0.5\n",
    "    return rmse"
   ]
  },
  {
   "cell_type": "markdown",
   "metadata": {},
   "source": [
    "### Линейная регрессия"
   ]
  },
  {
   "cell_type": "markdown",
   "metadata": {},
   "source": [
    "#### Применяя OHE"
   ]
  },
  {
   "cell_type": "code",
   "execution_count": 32,
   "metadata": {},
   "outputs": [],
   "source": [
    "lr_model = LinearRegression()"
   ]
  },
  {
   "cell_type": "code",
   "execution_count": 33,
   "metadata": {},
   "outputs": [
    {
     "name": "stdout",
     "output_type": "stream",
     "text": [
      "CPU times: user 18.8 s, sys: 6.34 s, total: 25.1 s\n",
      "Wall time: 25.3 s\n"
     ]
    },
    {
     "data": {
      "text/plain": [
       "LinearRegression(copy_X=True, fit_intercept=True, n_jobs=None, normalize=False)"
      ]
     },
     "execution_count": 33,
     "metadata": {},
     "output_type": "execute_result"
    }
   ],
   "source": [
    "%%time\n",
    "lr_model.fit(features_ohe, target_ohe)"
   ]
  },
  {
   "cell_type": "code",
   "execution_count": 34,
   "metadata": {},
   "outputs": [
    {
     "name": "stdout",
     "output_type": "stream",
     "text": [
      "CPU times: user 321 ms, sys: 342 ms, total: 663 ms\n",
      "Wall time: 681 ms\n"
     ]
    }
   ],
   "source": [
    "%%time\n",
    "predicted_lr = pd.Series(lr_model.predict(features_ohe))"
   ]
  },
  {
   "cell_type": "code",
   "execution_count": 35,
   "metadata": {},
   "outputs": [
    {
     "name": "stdout",
     "output_type": "stream",
     "text": [
      "RMSE линейной регрессии: 2637.22\n"
     ]
    }
   ],
   "source": [
    "print(\"RMSE линейной регрессии: {:.2f}\".format(rmse(target_ohe, predicted_lr)))"
   ]
  },
  {
   "cell_type": "markdown",
   "metadata": {},
   "source": [
    "#### Применяя OrdinalEncoder"
   ]
  },
  {
   "cell_type": "code",
   "execution_count": 36,
   "metadata": {},
   "outputs": [
    {
     "name": "stdout",
     "output_type": "stream",
     "text": [
      "CPU times: user 87.6 ms, sys: 20.8 ms, total: 108 ms\n",
      "Wall time: 126 ms\n"
     ]
    },
    {
     "data": {
      "text/plain": [
       "LinearRegression(copy_X=True, fit_intercept=True, n_jobs=None, normalize=False)"
      ]
     },
     "execution_count": 36,
     "metadata": {},
     "output_type": "execute_result"
    }
   ],
   "source": [
    "%%time\n",
    "lr_model.fit(features, target)"
   ]
  },
  {
   "cell_type": "code",
   "execution_count": 37,
   "metadata": {},
   "outputs": [
    {
     "name": "stdout",
     "output_type": "stream",
     "text": [
      "CPU times: user 31.9 ms, sys: 59.9 ms, total: 91.8 ms\n",
      "Wall time: 62.5 ms\n"
     ]
    }
   ],
   "source": [
    "%%time\n",
    "predicted_lr = pd.Series(lr_model.predict(features))"
   ]
  },
  {
   "cell_type": "code",
   "execution_count": 38,
   "metadata": {},
   "outputs": [
    {
     "name": "stdout",
     "output_type": "stream",
     "text": [
      "RMSE линейной регрессии: 3030.01\n"
     ]
    }
   ],
   "source": [
    "print(\"RMSE линейной регрессии: {:.2f}\".format(rmse(target, predicted_lr)))"
   ]
  },
  {
   "cell_type": "markdown",
   "metadata": {},
   "source": [
    "### LightGBM"
   ]
  },
  {
   "cell_type": "markdown",
   "metadata": {},
   "source": [
    "#### Применяя OHE"
   ]
  },
  {
   "cell_type": "markdown",
   "metadata": {},
   "source": [
    "Возьмем две модели с разными параметрами и из них выберем лучшую."
   ]
  },
  {
   "cell_type": "code",
   "execution_count": 39,
   "metadata": {},
   "outputs": [],
   "source": [
    "lightgbm_model_1 = LGBMRegressor(depth = 15, n_estimators = 100, learning_rate = 0.1, random_state = 12345)"
   ]
  },
  {
   "cell_type": "code",
   "execution_count": 40,
   "metadata": {},
   "outputs": [],
   "source": [
    "lightgbm_model_2 = LGBMRegressor(depth = 7, n_estimators = 150, learning_rate = 0.1, random_state = 12345)"
   ]
  },
  {
   "cell_type": "code",
   "execution_count": 41,
   "metadata": {},
   "outputs": [
    {
     "name": "stdout",
     "output_type": "stream",
     "text": [
      "CPU times: user 1min 35s, sys: 742 ms, total: 1min 36s\n",
      "Wall time: 1min 36s\n"
     ]
    },
    {
     "data": {
      "text/plain": [
       "LGBMRegressor(boosting_type='gbdt', class_weight=None, colsample_bytree=1.0,\n",
       "              depth=15, importance_type='split', learning_rate=0.1,\n",
       "              max_depth=-1, min_child_samples=20, min_child_weight=0.001,\n",
       "              min_split_gain=0.0, n_estimators=100, n_jobs=-1, num_leaves=31,\n",
       "              objective=None, random_state=12345, reg_alpha=0.0, reg_lambda=0.0,\n",
       "              silent=True, subsample=1.0, subsample_for_bin=200000,\n",
       "              subsample_freq=0)"
      ]
     },
     "execution_count": 41,
     "metadata": {},
     "output_type": "execute_result"
    }
   ],
   "source": [
    "%%time\n",
    "lightgbm_model_1.fit(features_ohe, target_ohe)"
   ]
  },
  {
   "cell_type": "code",
   "execution_count": 42,
   "metadata": {},
   "outputs": [
    {
     "name": "stdout",
     "output_type": "stream",
     "text": [
      "CPU times: user 2min 32s, sys: 1.22 s, total: 2min 33s\n",
      "Wall time: 2min 35s\n"
     ]
    },
    {
     "data": {
      "text/plain": [
       "LGBMRegressor(boosting_type='gbdt', class_weight=None, colsample_bytree=1.0,\n",
       "              depth=7, importance_type='split', learning_rate=0.1, max_depth=-1,\n",
       "              min_child_samples=20, min_child_weight=0.001, min_split_gain=0.0,\n",
       "              n_estimators=150, n_jobs=-1, num_leaves=31, objective=None,\n",
       "              random_state=12345, reg_alpha=0.0, reg_lambda=0.0, silent=True,\n",
       "              subsample=1.0, subsample_for_bin=200000, subsample_freq=0)"
      ]
     },
     "execution_count": 42,
     "metadata": {},
     "output_type": "execute_result"
    }
   ],
   "source": [
    "%%time\n",
    "lightgbm_model_2.fit(features_ohe, target_ohe)"
   ]
  },
  {
   "cell_type": "code",
   "execution_count": 43,
   "metadata": {},
   "outputs": [
    {
     "name": "stdout",
     "output_type": "stream",
     "text": [
      "CPU times: user 961 ms, sys: 73.4 ms, total: 1.03 s\n",
      "Wall time: 1.09 s\n"
     ]
    }
   ],
   "source": [
    "%%time\n",
    "predictions_lightgbm_1 = lightgbm_model_1.predict(features_test_ohe)"
   ]
  },
  {
   "cell_type": "code",
   "execution_count": 44,
   "metadata": {},
   "outputs": [
    {
     "name": "stdout",
     "output_type": "stream",
     "text": [
      "CPU times: user 1.43 s, sys: 58.1 ms, total: 1.48 s\n",
      "Wall time: 1.5 s\n"
     ]
    }
   ],
   "source": [
    "%%time\n",
    "predictions_lightgbm_2 = lightgbm_model_2.predict(features_test_ohe)"
   ]
  },
  {
   "cell_type": "code",
   "execution_count": 45,
   "metadata": {},
   "outputs": [
    {
     "name": "stdout",
     "output_type": "stream",
     "text": [
      "RMSE LightGBM модели № 1: 1747.57\n"
     ]
    }
   ],
   "source": [
    "print(\"RMSE LightGBM модели № 1: {:.2f}\".format(rmse(target_test_ohe, predictions_lightgbm_1)))"
   ]
  },
  {
   "cell_type": "code",
   "execution_count": 46,
   "metadata": {},
   "outputs": [
    {
     "name": "stdout",
     "output_type": "stream",
     "text": [
      "RMSE LightGBM модели № 2: 1712.04\n"
     ]
    }
   ],
   "source": [
    "print(\"RMSE LightGBM модели № 2: {:.2f}\".format(rmse(target_test_ohe, predictions_lightgbm_2)))"
   ]
  },
  {
   "cell_type": "markdown",
   "metadata": {},
   "source": [
    "Выберем 2-ую модель, так как у нее лучше RSME (1712 против 1747), разница во времени не так критична."
   ]
  },
  {
   "cell_type": "markdown",
   "metadata": {},
   "source": [
    "#### Применяя OrdinalEncoder"
   ]
  },
  {
   "cell_type": "code",
   "execution_count": 47,
   "metadata": {},
   "outputs": [],
   "source": [
    "lightgbm_model_1_oe = LGBMRegressor(depth = 15, n_estimators = 100, learning_rate = 0.1, random_state = 12345)"
   ]
  },
  {
   "cell_type": "code",
   "execution_count": 48,
   "metadata": {},
   "outputs": [],
   "source": [
    "lightgbm_model_2_oe = LGBMRegressor(depth = 7, n_estimators = 150, learning_rate = 0.1, random_state = 12345)"
   ]
  },
  {
   "cell_type": "code",
   "execution_count": 49,
   "metadata": {},
   "outputs": [
    {
     "name": "stdout",
     "output_type": "stream",
     "text": [
      "CPU times: user 1min 14s, sys: 380 ms, total: 1min 15s\n",
      "Wall time: 1min 15s\n"
     ]
    },
    {
     "data": {
      "text/plain": [
       "LGBMRegressor(boosting_type='gbdt', class_weight=None, colsample_bytree=1.0,\n",
       "              depth=15, importance_type='split', learning_rate=0.1,\n",
       "              max_depth=-1, min_child_samples=20, min_child_weight=0.001,\n",
       "              min_split_gain=0.0, n_estimators=100, n_jobs=-1, num_leaves=31,\n",
       "              objective=None, random_state=12345, reg_alpha=0.0, reg_lambda=0.0,\n",
       "              silent=True, subsample=1.0, subsample_for_bin=200000,\n",
       "              subsample_freq=0)"
      ]
     },
     "execution_count": 49,
     "metadata": {},
     "output_type": "execute_result"
    }
   ],
   "source": [
    "%%time\n",
    "lightgbm_model_1.fit(features, target)"
   ]
  },
  {
   "cell_type": "code",
   "execution_count": 50,
   "metadata": {},
   "outputs": [
    {
     "name": "stdout",
     "output_type": "stream",
     "text": [
      "CPU times: user 1min 10s, sys: 320 ms, total: 1min 10s\n",
      "Wall time: 1min 11s\n"
     ]
    },
    {
     "data": {
      "text/plain": [
       "LGBMRegressor(boosting_type='gbdt', class_weight=None, colsample_bytree=1.0,\n",
       "              depth=7, importance_type='split', learning_rate=0.1, max_depth=-1,\n",
       "              min_child_samples=20, min_child_weight=0.001, min_split_gain=0.0,\n",
       "              n_estimators=150, n_jobs=-1, num_leaves=31, objective=None,\n",
       "              random_state=12345, reg_alpha=0.0, reg_lambda=0.0, silent=True,\n",
       "              subsample=1.0, subsample_for_bin=200000, subsample_freq=0)"
      ]
     },
     "execution_count": 50,
     "metadata": {},
     "output_type": "execute_result"
    }
   ],
   "source": [
    "%%time\n",
    "lightgbm_model_2.fit(features, target)"
   ]
  },
  {
   "cell_type": "code",
   "execution_count": 51,
   "metadata": {},
   "outputs": [
    {
     "name": "stdout",
     "output_type": "stream",
     "text": [
      "CPU times: user 655 ms, sys: 2.17 ms, total: 657 ms\n",
      "Wall time: 686 ms\n"
     ]
    }
   ],
   "source": [
    "%%time\n",
    "predictions_lightgbm_1 = lightgbm_model_1.predict(features_test)"
   ]
  },
  {
   "cell_type": "code",
   "execution_count": 52,
   "metadata": {},
   "outputs": [
    {
     "name": "stdout",
     "output_type": "stream",
     "text": [
      "CPU times: user 1.06 s, sys: 0 ns, total: 1.06 s\n",
      "Wall time: 1.09 s\n"
     ]
    }
   ],
   "source": [
    "%%time\n",
    "predictions_lightgbm_2 = lightgbm_model_2.predict(features_test)"
   ]
  },
  {
   "cell_type": "code",
   "execution_count": 53,
   "metadata": {},
   "outputs": [
    {
     "name": "stdout",
     "output_type": "stream",
     "text": [
      "RMSE LightGBM модели № 1: 1757.66\n"
     ]
    }
   ],
   "source": [
    "print(\"RMSE LightGBM модели № 1: {:.2f}\".format(rmse(target_test, predictions_lightgbm_1)))"
   ]
  },
  {
   "cell_type": "code",
   "execution_count": 54,
   "metadata": {},
   "outputs": [
    {
     "name": "stdout",
     "output_type": "stream",
     "text": [
      "RMSE LightGBM модели № 2: 1715.47\n"
     ]
    }
   ],
   "source": [
    "print(\"RMSE LightGBM модели № 2: {:.2f}\".format(rmse(target_test, predictions_lightgbm_2)))"
   ]
  },
  {
   "cell_type": "markdown",
   "metadata": {},
   "source": [
    "#### Вывод"
   ]
  },
  {
   "cell_type": "markdown",
   "metadata": {},
   "source": [
    "Учитывая разницу в RSME в 2% и не значительную разницу по времени выбирем 2 модель."
   ]
  },
  {
   "cell_type": "markdown",
   "metadata": {},
   "source": [
    "### CatBoostRegressor"
   ]
  },
  {
   "cell_type": "markdown",
   "metadata": {},
   "source": [
    "#### Применяя OrdinalEbcoder"
   ]
  },
  {
   "cell_type": "code",
   "execution_count": 55,
   "metadata": {},
   "outputs": [],
   "source": [
    "def to_catboost_par(features, target):\n",
    "    model = CatBoostRegressor()\n",
    "    params = {\n",
    "            'n_estimators' : [15, 45],\n",
    "            'verbose' : [0],\n",
    "            'max_depth' : [5, 10]\n",
    "    }\n",
    "    grid_cv = GridSearchCV(estimator=model, param_grid=params, cv=3, n_jobs=-1, scoring='neg_mean_squared_error')\n",
    "    grid_cv.fit(features, target, verbose=30)\n",
    "    print('Best hyperparams: ', grid_cv.best_params_)\n",
    "    print('RMSE score on train sample: {:.2f}'.format((-grid_cv.best_score_) ** 0.5))\n",
    "    return grid_cv.best_params_"
   ]
  },
  {
   "cell_type": "code",
   "execution_count": 56,
   "metadata": {},
   "outputs": [
    {
     "name": "stdout",
     "output_type": "stream",
     "text": [
      "0:\tlearn: 4655.4424238\ttotal: 130ms\tremaining: 1.81s\n",
      "14:\tlearn: 3656.0505588\ttotal: 1.72s\tremaining: 0us\n",
      "0:\tlearn: 4630.6660486\ttotal: 24.6ms\tremaining: 345ms\n",
      "14:\tlearn: 3632.2262165\ttotal: 1.63s\tremaining: 0us\n",
      "0:\tlearn: 4636.1604530\ttotal: 60ms\tremaining: 840ms\n",
      "14:\tlearn: 3633.7106732\ttotal: 1.67s\tremaining: 0us\n",
      "0:\tlearn: 4655.4424238\ttotal: 23.7ms\tremaining: 1.04s\n",
      "30:\tlearn: 3006.9929425\ttotal: 3.51s\tremaining: 1.58s\n",
      "44:\tlearn: 2684.9558356\ttotal: 5.02s\tremaining: 0us\n",
      "0:\tlearn: 4630.6660486\ttotal: 18.2ms\tremaining: 802ms\n",
      "30:\tlearn: 2985.9944586\ttotal: 3.5s\tremaining: 1.58s\n",
      "44:\tlearn: 2664.2005356\ttotal: 5.09s\tremaining: 0us\n",
      "0:\tlearn: 4636.1604530\ttotal: 77.6ms\tremaining: 3.41s\n",
      "30:\tlearn: 2983.7056836\ttotal: 3.46s\tremaining: 1.56s\n",
      "44:\tlearn: 2660.7787483\ttotal: 5.06s\tremaining: 0us\n",
      "0:\tlearn: 4644.8413401\ttotal: 122ms\tremaining: 1.71s\n",
      "14:\tlearn: 3532.2625387\ttotal: 2.91s\tremaining: 0us\n",
      "0:\tlearn: 4619.1950522\ttotal: 129ms\tremaining: 1.8s\n",
      "14:\tlearn: 3507.1828551\ttotal: 2.94s\tremaining: 0us\n",
      "0:\tlearn: 4625.5213610\ttotal: 117ms\tremaining: 1.64s\n",
      "14:\tlearn: 3509.8313614\ttotal: 3.01s\tremaining: 0us\n",
      "0:\tlearn: 4644.8413401\ttotal: 37.6ms\tremaining: 1.65s\n",
      "30:\tlearn: 2801.1042406\ttotal: 6.11s\tremaining: 2.76s\n",
      "44:\tlearn: 2441.7896280\ttotal: 8.9s\tremaining: 0us\n",
      "0:\tlearn: 4619.1950522\ttotal: 88ms\tremaining: 3.87s\n",
      "30:\tlearn: 2778.8082208\ttotal: 6.35s\tremaining: 2.87s\n",
      "44:\tlearn: 2419.2163229\ttotal: 9.14s\tremaining: 0us\n",
      "0:\tlearn: 4625.5213610\ttotal: 69.3ms\tremaining: 3.05s\n",
      "30:\tlearn: 2780.7838224\ttotal: 6.05s\tremaining: 2.73s\n",
      "44:\tlearn: 2423.1937485\ttotal: 8.83s\tremaining: 0us\n",
      "0:\tlearn: 4629.0398186\ttotal: 153ms\tremaining: 6.75s\n",
      "30:\tlearn: 2781.5194972\ttotal: 8.01s\tremaining: 3.62s\n",
      "44:\tlearn: 2423.7199318\ttotal: 11.6s\tremaining: 0us\n",
      "Best hyperparams:  {'max_depth': 10, 'n_estimators': 45, 'verbose': 0}\n",
      "RMSE score on train sample: 2434.91\n",
      "CPU times: user 1min 4s, sys: 8.73 s, total: 1min 13s\n",
      "Wall time: 1min 25s\n"
     ]
    }
   ],
   "source": [
    "%%time\n",
    "catb_params = to_catboost_par(features, target)"
   ]
  },
  {
   "cell_type": "code",
   "execution_count": 57,
   "metadata": {},
   "outputs": [
    {
     "name": "stdout",
     "output_type": "stream",
     "text": [
      "0:\tlearn: 4620.6935903\ttotal: 140ms\tremaining: 6.18s\n",
      "20:\tlearn: 3181.1471782\ttotal: 4.34s\tremaining: 4.96s\n",
      "40:\tlearn: 2504.3821072\ttotal: 8.71s\tremaining: 850ms\n",
      "44:\tlearn: 2423.1983161\ttotal: 9.53s\tremaining: 0us\n",
      "CPU times: user 8.69 s, sys: 1.2 s, total: 9.9 s\n",
      "Wall time: 10.8 s\n"
     ]
    },
    {
     "data": {
      "text/plain": [
       "<catboost.core.CatBoostRegressor at 0x7f3a0cd54850>"
      ]
     },
     "execution_count": 57,
     "metadata": {},
     "output_type": "execute_result"
    }
   ],
   "source": [
    "%%time\n",
    "catb_model = CatBoostRegressor(**catb_params)\n",
    "catb_model.fit(features_train, target_train, verbose=20)"
   ]
  },
  {
   "cell_type": "code",
   "execution_count": 58,
   "metadata": {},
   "outputs": [
    {
     "name": "stdout",
     "output_type": "stream",
     "text": [
      "RMSE CatBootsRegressor: 2423.20\n",
      "CPU times: user 93.5 ms, sys: 0 ns, total: 93.5 ms\n",
      "Wall time: 105 ms\n"
     ]
    }
   ],
   "source": [
    "%%time\n",
    "catb_pred = catb_model.predict(features_train)\n",
    "print('RMSE CatBootsRegressor: {:.2f}'.format(rmse(target_train, catb_pred)))"
   ]
  },
  {
   "cell_type": "markdown",
   "metadata": {},
   "source": [
    "Построим график, на котором отобразим важность признаков для определения цены."
   ]
  },
  {
   "cell_type": "code",
   "execution_count": 59,
   "metadata": {},
   "outputs": [
    {
     "data": {
      "image/png": "[encoded data removed]",
      "text/plain": [
       "<Figure size 432x288 with 1 Axes>"
      ]
     },
     "metadata": {
      "needs_background": "light"
     },
     "output_type": "display_data"
    }
   ],
   "source": [
    "def chart_feature_imp(model):\n",
    "    feature_imp = pd.Series(model.feature_importances_, index=features_test.columns).sort_values(ascending=False)\n",
    "\n",
    "    ax = sns.barplot(x=feature_imp, y=feature_imp.index)\n",
    "    _ = ax.set(xlabel='Оценка важности признаков', ylabel='Признаки')\n",
    "    _ = ax.set_title('Визуализация важности признаков')\n",
    "\n",
    "chart_feature_imp(catb_model)"
   ]
  },
  {
   "cell_type": "markdown",
   "metadata": {},
   "source": [
    "#### Применяя метод указания категориальных столбцов"
   ]
  },
  {
   "cell_type": "code",
   "execution_count": 60,
   "metadata": {},
   "outputs": [],
   "source": [
    "def to_catboost_par(features_cf, target_cf):\n",
    "    model = CatBoostRegressor()\n",
    "    params = {\n",
    "            'n_estimators' : [15, 45],\n",
    "            'verbose' : [0],\n",
    "            'max_depth' : [5, 10]\n",
    "    }\n",
    "    grid_cv = GridSearchCV(estimator=model, param_grid=params, cv=3, n_jobs=-1, scoring='neg_mean_squared_error')\n",
    "    grid_cv.fit(features_cf, target_cf, cat_features = categorical_features, verbose=30)\n",
    "    print('Best hyperparams: ', grid_cv.best_params_)\n",
    "    print('RMSE score on train sample: {:.2f}'.format((-grid_cv.best_score_) ** 0.5))\n",
    "    return grid_cv.best_params_"
   ]
  },
  {
   "cell_type": "code",
   "execution_count": 61,
   "metadata": {},
   "outputs": [
    {
     "name": "stdout",
     "output_type": "stream",
     "text": [
      "0:\tlearn: 4655.0614721\ttotal: 142ms\tremaining: 1.99s\n",
      "14:\tlearn: 3656.0371045\ttotal: 2.82s\tremaining: 0us\n",
      "0:\tlearn: 4630.3809787\ttotal: 181ms\tremaining: 2.54s\n",
      "14:\tlearn: 3632.0193800\ttotal: 2.89s\tremaining: 0us\n",
      "0:\tlearn: 4636.4869512\ttotal: 148ms\tremaining: 2.07s\n",
      "14:\tlearn: 3632.8266737\ttotal: 2.94s\tremaining: 0us\n",
      "0:\tlearn: 4655.0614721\ttotal: 144ms\tremaining: 6.35s\n",
      "30:\tlearn: 2999.5840981\ttotal: 6.02s\tremaining: 2.72s\n",
      "44:\tlearn: 2652.2878164\ttotal: 8.71s\tremaining: 0us\n",
      "0:\tlearn: 4630.3809787\ttotal: 122ms\tremaining: 5.37s\n",
      "30:\tlearn: 2978.7135660\ttotal: 5.99s\tremaining: 2.71s\n",
      "44:\tlearn: 2630.1089028\ttotal: 8.59s\tremaining: 0us\n",
      "0:\tlearn: 4636.4869512\ttotal: 141ms\tremaining: 6.2s\n",
      "30:\tlearn: 2974.4024903\ttotal: 5.94s\tremaining: 2.68s\n",
      "44:\tlearn: 2634.5717421\ttotal: 8.6s\tremaining: 0us\n",
      "0:\tlearn: 4643.3482295\ttotal: 272ms\tremaining: 3.81s\n",
      "14:\tlearn: 3533.2328932\ttotal: 4.86s\tremaining: 0us\n",
      "0:\tlearn: 4618.9565901\ttotal: 314ms\tremaining: 4.39s\n",
      "14:\tlearn: 3510.2385138\ttotal: 4.71s\tremaining: 0us\n",
      "0:\tlearn: 4625.0475018\ttotal: 223ms\tremaining: 3.12s\n",
      "14:\tlearn: 3512.0451404\ttotal: 4.81s\tremaining: 0us\n",
      "0:\tlearn: 4643.3482295\ttotal: 242ms\tremaining: 10.7s\n",
      "30:\tlearn: 2814.8309291\ttotal: 9.92s\tremaining: 4.48s\n",
      "44:\tlearn: 2433.4081296\ttotal: 14.5s\tremaining: 0us\n",
      "0:\tlearn: 4618.9565901\ttotal: 255ms\tremaining: 11.2s\n",
      "30:\tlearn: 2794.2721331\ttotal: 10.2s\tremaining: 4.61s\n",
      "44:\tlearn: 2400.6120574\ttotal: 14.8s\tremaining: 0us\n",
      "0:\tlearn: 4625.0475018\ttotal: 231ms\tremaining: 10.2s\n",
      "30:\tlearn: 2796.0362787\ttotal: 10.1s\tremaining: 4.56s\n",
      "44:\tlearn: 2414.3977865\ttotal: 14.6s\tremaining: 0us\n",
      "0:\tlearn: 4629.2950564\ttotal: 368ms\tremaining: 16.2s\n",
      "30:\tlearn: 2800.9270311\ttotal: 13.6s\tremaining: 6.16s\n",
      "44:\tlearn: 2411.3518027\ttotal: 19.7s\tremaining: 0us\n",
      "Best hyperparams:  {'max_depth': 10, 'n_estimators': 45, 'verbose': 0}\n",
      "RMSE score on train sample: 2421.97\n",
      "CPU times: user 1min 52s, sys: 13.4 s, total: 2min 6s\n",
      "Wall time: 2min 20s\n"
     ]
    }
   ],
   "source": [
    "%%time\n",
    "catb_params = to_catboost_par(features_cf, target_cf)"
   ]
  },
  {
   "cell_type": "code",
   "execution_count": 62,
   "metadata": {},
   "outputs": [
    {
     "name": "stdout",
     "output_type": "stream",
     "text": [
      "0:\tlearn: 4621.2017981\ttotal: 384ms\tremaining: 16.9s\n",
      "20:\tlearn: 3190.7557866\ttotal: 7.48s\tremaining: 8.55s\n",
      "40:\tlearn: 2496.1010768\ttotal: 14.6s\tremaining: 1.42s\n",
      "44:\tlearn: 2403.8728502\ttotal: 15.9s\tremaining: 0us\n",
      "CPU times: user 14.8 s, sys: 1.94 s, total: 16.8 s\n",
      "Wall time: 17.9 s\n"
     ]
    },
    {
     "data": {
      "text/plain": [
       "<catboost.core.CatBoostRegressor at 0x7f3a60615390>"
      ]
     },
     "execution_count": 62,
     "metadata": {},
     "output_type": "execute_result"
    }
   ],
   "source": [
    "%%time\n",
    "catb_model = CatBoostRegressor(**catb_params)\n",
    "catb_model.fit(features_train_cf, target_train_cf, cat_features = categorical_features, verbose=20)"
   ]
  },
  {
   "cell_type": "code",
   "execution_count": 63,
   "metadata": {},
   "outputs": [
    {
     "name": "stdout",
     "output_type": "stream",
     "text": [
      "RMSE CatBootsRegressor: 2402.22\n",
      "CPU times: user 570 ms, sys: 25.7 ms, total: 596 ms\n",
      "Wall time: 560 ms\n"
     ]
    }
   ],
   "source": [
    "%%time\n",
    "catb_pred = catb_model.predict(features_train_cf)\n",
    "print('RMSE CatBootsRegressor: {:.2f}'.format(rmse(target_train_cf, catb_pred)))"
   ]
  },
  {
   "cell_type": "markdown",
   "metadata": {},
   "source": [
    "### Вывод"
   ]
  },
  {
   "cell_type": "markdown",
   "metadata": {},
   "source": [
    "Обучили модели и получили время затраченное на выполнение и получили значение RSME"
   ]
  },
  {
   "cell_type": "markdown",
   "metadata": {},
   "source": [
    "## Анализ моделей"
   ]
  },
  {
   "cell_type": "markdown",
   "metadata": {},
   "source": [
    "Сводная таблица по результатам"
   ]
  },
  {
   "cell_type": "code",
   "execution_count": 64,
   "metadata": {},
   "outputs": [
    {
     "data": {
      "text/html": [
       "<div>\n",
       "<style scoped>\n",
       "    .dataframe tbody tr th:only-of-type {\n",
       "        vertical-align: middle;\n",
       "    }\n",
       "\n",
       "    .dataframe tbody tr th {\n",
       "        vertical-align: top;\n",
       "    }\n",
       "\n",
       "    .dataframe thead th {\n",
       "        text-align: right;\n",
       "    }\n",
       "</style>\n",
       "<table border=\"1\" class=\"dataframe\">\n",
       "  <thead>\n",
       "    <tr style=\"text-align: right;\">\n",
       "      <th></th>\n",
       "      <th>Модель</th>\n",
       "      <th>Время обучения, сек</th>\n",
       "      <th>Скорость предсказания, сек</th>\n",
       "      <th>RMSE</th>\n",
       "    </tr>\n",
       "  </thead>\n",
       "  <tbody>\n",
       "    <tr>\n",
       "      <td>0</td>\n",
       "      <td>LR_ohe</td>\n",
       "      <td>24.40</td>\n",
       "      <td>0.60</td>\n",
       "      <td>2637.22</td>\n",
       "    </tr>\n",
       "    <tr>\n",
       "      <td>1</td>\n",
       "      <td>LR_ordinalencoder</td>\n",
       "      <td>0.01</td>\n",
       "      <td>0.02</td>\n",
       "      <td>3030.01</td>\n",
       "    </tr>\n",
       "    <tr>\n",
       "      <td>2</td>\n",
       "      <td>LGB_ohe</td>\n",
       "      <td>16.40</td>\n",
       "      <td>1.42</td>\n",
       "      <td>1712.04</td>\n",
       "    </tr>\n",
       "    <tr>\n",
       "      <td>3</td>\n",
       "      <td>LGB_ordinalencoder</td>\n",
       "      <td>20.50</td>\n",
       "      <td>1.00</td>\n",
       "      <td>1715.47</td>\n",
       "    </tr>\n",
       "    <tr>\n",
       "      <td>4</td>\n",
       "      <td>CBR_cat_features</td>\n",
       "      <td>17.70</td>\n",
       "      <td>0.60</td>\n",
       "      <td>2402.22</td>\n",
       "    </tr>\n",
       "    <tr>\n",
       "      <td>5</td>\n",
       "      <td>CBR_ordinalencoder</td>\n",
       "      <td>11.00</td>\n",
       "      <td>0.05</td>\n",
       "      <td>2423.20</td>\n",
       "    </tr>\n",
       "  </tbody>\n",
       "</table>\n",
       "</div>"
      ],
      "text/plain": [
       "               Модель  Время обучения, сек  Скорость предсказания, сек  \\\n",
       "0              LR_ohe                24.40                        0.60   \n",
       "1   LR_ordinalencoder                 0.01                        0.02   \n",
       "2             LGB_ohe                16.40                        1.42   \n",
       "3  LGB_ordinalencoder                20.50                        1.00   \n",
       "4    CBR_cat_features                17.70                        0.60   \n",
       "5  CBR_ordinalencoder                11.00                        0.05   \n",
       "\n",
       "      RMSE  \n",
       "0  2637.22  \n",
       "1  3030.01  \n",
       "2  1712.04  \n",
       "3  1715.47  \n",
       "4  2402.22  \n",
       "5  2423.20  "
      ]
     },
     "execution_count": 64,
     "metadata": {},
     "output_type": "execute_result"
    }
   ],
   "source": [
    "models = [['LR_ohe', 24.4, 0.6, 2637.22],['LR_ordinalencoder', 0.01, 0.02, 3030.01], ['LGB_ohe', 16.4, 1.42, 1712.04], \n",
    "          ['LGB_ordinalencoder', 20.5, 1, 1715.47], ['CBR_cat_features', 17.7, 0.6, 2402.22], ['CBR_ordinalencoder', 11, 0.05, 2423.2]] \n",
    "    \n",
    "data = pd.DataFrame(models, columns =['Модель', 'Время обучения, сек', 'Скорость предсказания, сек', 'RMSE']) \n",
    "data "
   ]
  },
  {
   "cell_type": "markdown",
   "metadata": {},
   "source": [
    "Учитывая только RSME, то лучше LGB, но она обучается до 2 раз дольше.\n",
    "Линейная регрессия имеет RSME хуже всех, остальные значения средние.\n",
    "\n",
    "Учитывая все значения выберем LGB_ohe, значение RMSE у нее лучше, чем у CatBoostRegressor на 30%."
   ]
  },
  {
   "cell_type": "markdown",
   "metadata": {},
   "source": [
    "## Чек-лист проверки"
   ]
  },
  {
   "cell_type": "markdown",
   "metadata": {},
   "source": [
    "Поставьте 'x' в выполненных пунктах. Далее нажмите Shift+Enter."
   ]
  },
  {
   "cell_type": "markdown",
   "metadata": {},
   "source": [
    "- [x]  Jupyter Notebook открыт\n",
    "- [x]  Весь код выполняется без ошибок\n",
    "- [x]  Ячейки с кодом расположены в порядке исполнения\n",
    "- [x]  Выполнена загрузка и подготовка данных\n",
    "- [x]  Выполнено обучение моделей\n",
    "- [x]  Есть анализ скорости работы и качества моделей"
   ]
  }
 ],
 "metadata": {
  "ExecuteTimeLog": [
   {
    "duration": 2060,
    "start_time": "2022-01-18T08:55:00.513Z"
   },
   {
    "duration": 1013,
    "start_time": "2022-01-18T08:55:02.575Z"
   },
   {
    "duration": 20,
    "start_time": "2022-01-18T08:56:00.265Z"
   },
   {
    "duration": 1044,
    "start_time": "2022-01-18T08:56:51.195Z"
   },
   {
    "duration": 792,
    "start_time": "2022-01-18T08:56:52.241Z"
   },
   {
    "duration": 20,
    "start_time": "2022-01-18T08:56:53.035Z"
   },
   {
    "duration": 298,
    "start_time": "2022-01-18T08:56:53.057Z"
   },
   {
    "duration": 1079,
    "start_time": "2022-01-18T08:57:03.376Z"
   },
   {
    "duration": 835,
    "start_time": "2022-01-18T08:57:04.457Z"
   },
   {
    "duration": 21,
    "start_time": "2022-01-18T08:57:05.294Z"
   },
   {
    "duration": 257,
    "start_time": "2022-01-18T08:57:51.839Z"
   },
   {
    "duration": 113,
    "start_time": "2022-01-18T08:58:04.033Z"
   },
   {
    "duration": 468,
    "start_time": "2022-01-18T08:58:29.292Z"
   },
   {
    "duration": 1060,
    "start_time": "2022-01-18T08:59:03.768Z"
   },
   {
    "duration": 817,
    "start_time": "2022-01-18T08:59:04.830Z"
   },
   {
    "duration": 21,
    "start_time": "2022-01-18T08:59:05.649Z"
   },
   {
    "duration": 129,
    "start_time": "2022-01-18T08:59:05.672Z"
   },
   {
    "duration": 466,
    "start_time": "2022-01-18T08:59:05.803Z"
   },
   {
    "duration": 603,
    "start_time": "2022-01-18T08:59:06.270Z"
   },
   {
    "duration": 427,
    "start_time": "2022-01-18T08:59:06.875Z"
   },
   {
    "duration": 4,
    "start_time": "2022-01-18T09:01:06.158Z"
   },
   {
    "duration": 490,
    "start_time": "2022-01-18T09:02:34.832Z"
   },
   {
    "duration": 1041,
    "start_time": "2022-01-18T09:03:04.902Z"
   },
   {
    "duration": 853,
    "start_time": "2022-01-18T09:03:05.945Z"
   },
   {
    "duration": 116,
    "start_time": "2022-01-18T09:03:06.800Z"
   },
   {
    "duration": 28,
    "start_time": "2022-01-18T09:03:06.919Z"
   },
   {
    "duration": 45,
    "start_time": "2022-01-18T09:03:06.949Z"
   },
   {
    "duration": 577,
    "start_time": "2022-01-18T09:03:06.996Z"
   },
   {
    "duration": 144,
    "start_time": "2022-01-18T09:03:07.576Z"
   },
   {
    "duration": 461,
    "start_time": "2022-01-18T09:03:07.722Z"
   },
   {
    "duration": 575,
    "start_time": "2022-01-18T09:03:08.185Z"
   },
   {
    "duration": 431,
    "start_time": "2022-01-18T09:03:08.762Z"
   },
   {
    "duration": 1021,
    "start_time": "2022-01-18T09:25:47.616Z"
   },
   {
    "duration": 789,
    "start_time": "2022-01-18T09:25:48.639Z"
   },
   {
    "duration": 125,
    "start_time": "2022-01-18T09:25:49.430Z"
   },
   {
    "duration": 532,
    "start_time": "2022-01-18T09:25:49.557Z"
   },
   {
    "duration": 16,
    "start_time": "2022-01-18T09:25:50.091Z"
   },
   {
    "duration": 5,
    "start_time": "2022-01-18T09:25:50.108Z"
   },
   {
    "duration": 163,
    "start_time": "2022-01-18T09:25:50.115Z"
   },
   {
    "duration": 446,
    "start_time": "2022-01-18T09:25:50.281Z"
   },
   {
    "duration": 549,
    "start_time": "2022-01-18T09:25:50.729Z"
   },
   {
    "duration": 457,
    "start_time": "2022-01-18T09:25:51.280Z"
   },
   {
    "duration": 242,
    "start_time": "2022-01-18T10:56:47.730Z"
   },
   {
    "duration": 128,
    "start_time": "2022-01-18T10:56:56.060Z"
   },
   {
    "duration": 1056,
    "start_time": "2022-01-18T12:54:32.481Z"
   },
   {
    "duration": 784,
    "start_time": "2022-01-18T12:54:33.540Z"
   },
   {
    "duration": 19,
    "start_time": "2022-01-18T12:54:34.326Z"
   },
   {
    "duration": 132,
    "start_time": "2022-01-18T12:54:34.347Z"
   },
   {
    "duration": 488,
    "start_time": "2022-01-18T12:54:34.481Z"
   },
   {
    "duration": 144,
    "start_time": "2022-01-18T12:54:34.970Z"
   },
   {
    "duration": 5,
    "start_time": "2022-01-18T12:54:35.116Z"
   },
   {
    "duration": 450,
    "start_time": "2022-01-18T12:54:35.123Z"
   },
   {
    "duration": 535,
    "start_time": "2022-01-18T12:54:35.575Z"
   },
   {
    "duration": 415,
    "start_time": "2022-01-18T12:54:36.112Z"
   },
   {
    "duration": 1020,
    "start_time": "2022-01-18T13:47:31.718Z"
   },
   {
    "duration": 772,
    "start_time": "2022-01-18T13:47:32.740Z"
   },
   {
    "duration": 21,
    "start_time": "2022-01-18T13:47:33.514Z"
   },
   {
    "duration": 128,
    "start_time": "2022-01-18T13:47:33.536Z"
   },
   {
    "duration": 485,
    "start_time": "2022-01-18T13:47:33.666Z"
   },
   {
    "duration": 144,
    "start_time": "2022-01-18T13:47:34.153Z"
   },
   {
    "duration": 3,
    "start_time": "2022-01-18T13:47:34.299Z"
   },
   {
    "duration": 437,
    "start_time": "2022-01-18T13:47:34.304Z"
   },
   {
    "duration": 518,
    "start_time": "2022-01-18T13:47:34.743Z"
   },
   {
    "duration": 406,
    "start_time": "2022-01-18T13:47:35.262Z"
   },
   {
    "duration": 115,
    "start_time": "2022-01-18T13:47:51.782Z"
   },
   {
    "duration": 114,
    "start_time": "2022-01-18T13:47:56.499Z"
   },
   {
    "duration": 118,
    "start_time": "2022-01-18T13:48:39.904Z"
   },
   {
    "duration": 1016,
    "start_time": "2022-01-18T13:55:27.825Z"
   },
   {
    "duration": 799,
    "start_time": "2022-01-18T13:55:28.843Z"
   },
   {
    "duration": 21,
    "start_time": "2022-01-18T13:55:29.644Z"
   },
   {
    "duration": 132,
    "start_time": "2022-01-18T13:55:29.666Z"
   },
   {
    "duration": 497,
    "start_time": "2022-01-18T13:55:29.800Z"
   },
   {
    "duration": 148,
    "start_time": "2022-01-18T13:55:30.299Z"
   },
   {
    "duration": 3,
    "start_time": "2022-01-18T13:55:30.449Z"
   },
   {
    "duration": 308,
    "start_time": "2022-01-18T13:55:30.454Z"
   },
   {
    "duration": 1110,
    "start_time": "2022-01-18T13:55:29.654Z"
   },
   {
    "duration": 1108,
    "start_time": "2022-01-18T13:55:29.657Z"
   },
   {
    "duration": 1099,
    "start_time": "2022-01-18T13:55:29.667Z"
   },
   {
    "duration": 1020,
    "start_time": "2022-01-18T14:00:35.321Z"
   },
   {
    "duration": 801,
    "start_time": "2022-01-18T14:00:36.343Z"
   },
   {
    "duration": 21,
    "start_time": "2022-01-18T14:00:37.147Z"
   },
   {
    "duration": 137,
    "start_time": "2022-01-18T14:00:37.170Z"
   },
   {
    "duration": 497,
    "start_time": "2022-01-18T14:00:37.309Z"
   },
   {
    "duration": 149,
    "start_time": "2022-01-18T14:00:37.808Z"
   },
   {
    "duration": 4,
    "start_time": "2022-01-18T14:00:37.960Z"
   },
   {
    "duration": 60,
    "start_time": "2022-01-18T14:00:37.966Z"
   },
   {
    "duration": 1112,
    "start_time": "2022-01-18T14:00:36.916Z"
   },
   {
    "duration": 1111,
    "start_time": "2022-01-18T14:00:36.919Z"
   },
   {
    "duration": 1110,
    "start_time": "2022-01-18T14:00:36.921Z"
   },
   {
    "duration": 985,
    "start_time": "2022-01-18T14:03:16.550Z"
   },
   {
    "duration": 771,
    "start_time": "2022-01-18T14:03:17.537Z"
   },
   {
    "duration": 21,
    "start_time": "2022-01-18T14:03:18.311Z"
   },
   {
    "duration": 129,
    "start_time": "2022-01-18T14:03:18.334Z"
   },
   {
    "duration": 107,
    "start_time": "2022-01-18T14:03:18.465Z"
   },
   {
    "duration": 510,
    "start_time": "2022-01-18T14:03:18.573Z"
   },
   {
    "duration": 143,
    "start_time": "2022-01-18T14:03:19.085Z"
   },
   {
    "duration": 5,
    "start_time": "2022-01-18T14:03:19.231Z"
   },
   {
    "duration": 61,
    "start_time": "2022-01-18T14:03:19.238Z"
   },
   {
    "duration": 1116,
    "start_time": "2022-01-18T14:03:18.185Z"
   },
   {
    "duration": 1116,
    "start_time": "2022-01-18T14:03:18.187Z"
   },
   {
    "duration": 1115,
    "start_time": "2022-01-18T14:03:18.190Z"
   },
   {
    "duration": 280,
    "start_time": "2022-01-18T14:08:20.752Z"
   },
   {
    "duration": 44,
    "start_time": "2022-01-18T14:08:48.381Z"
   },
   {
    "duration": 996,
    "start_time": "2022-01-18T14:08:55.145Z"
   },
   {
    "duration": 781,
    "start_time": "2022-01-18T14:08:56.143Z"
   },
   {
    "duration": 19,
    "start_time": "2022-01-18T14:08:56.926Z"
   },
   {
    "duration": 132,
    "start_time": "2022-01-18T14:08:56.947Z"
   },
   {
    "duration": 105,
    "start_time": "2022-01-18T14:08:57.081Z"
   },
   {
    "duration": 491,
    "start_time": "2022-01-18T14:08:57.192Z"
   },
   {
    "duration": 139,
    "start_time": "2022-01-18T14:08:57.685Z"
   },
   {
    "duration": 4,
    "start_time": "2022-01-18T14:08:57.825Z"
   },
   {
    "duration": 60,
    "start_time": "2022-01-18T14:08:57.832Z"
   },
   {
    "duration": 214,
    "start_time": "2022-01-18T14:08:57.894Z"
   },
   {
    "duration": 225,
    "start_time": "2022-01-18T14:08:58.110Z"
   },
   {
    "duration": 168,
    "start_time": "2022-01-18T14:08:58.337Z"
   },
   {
    "duration": 1020,
    "start_time": "2022-01-18T14:11:35.921Z"
   },
   {
    "duration": 816,
    "start_time": "2022-01-18T14:11:36.943Z"
   },
   {
    "duration": 35,
    "start_time": "2022-01-18T14:11:37.761Z"
   },
   {
    "duration": 135,
    "start_time": "2022-01-18T14:11:37.798Z"
   },
   {
    "duration": 111,
    "start_time": "2022-01-18T14:11:37.934Z"
   },
   {
    "duration": 501,
    "start_time": "2022-01-18T14:11:38.046Z"
   },
   {
    "duration": 144,
    "start_time": "2022-01-18T14:11:38.549Z"
   },
   {
    "duration": 4,
    "start_time": "2022-01-18T14:11:38.695Z"
   },
   {
    "duration": 49,
    "start_time": "2022-01-18T14:11:38.701Z"
   },
   {
    "duration": 216,
    "start_time": "2022-01-18T14:11:38.752Z"
   },
   {
    "duration": 222,
    "start_time": "2022-01-18T14:11:38.970Z"
   },
   {
    "duration": 172,
    "start_time": "2022-01-18T14:11:39.194Z"
   },
   {
    "duration": 1019,
    "start_time": "2022-01-18T14:13:54.526Z"
   },
   {
    "duration": 798,
    "start_time": "2022-01-18T14:13:55.547Z"
   },
   {
    "duration": 21,
    "start_time": "2022-01-18T14:13:56.347Z"
   },
   {
    "duration": 128,
    "start_time": "2022-01-18T14:13:56.371Z"
   },
   {
    "duration": 112,
    "start_time": "2022-01-18T14:13:56.501Z"
   },
   {
    "duration": 42,
    "start_time": "2022-01-18T14:13:56.615Z"
   },
   {
    "duration": 427,
    "start_time": "2022-01-18T14:13:56.659Z"
   },
   {
    "duration": 81,
    "start_time": "2022-01-18T14:13:57.089Z"
   },
   {
    "duration": 4,
    "start_time": "2022-01-18T14:13:57.173Z"
   },
   {
    "duration": 218,
    "start_time": "2022-01-18T14:13:57.179Z"
   },
   {
    "duration": 216,
    "start_time": "2022-01-18T14:13:57.398Z"
   },
   {
    "duration": 176,
    "start_time": "2022-01-18T14:13:57.616Z"
   },
   {
    "duration": 278,
    "start_time": "2022-01-18T14:14:39.087Z"
   },
   {
    "duration": 1082,
    "start_time": "2022-01-18T14:14:54.966Z"
   },
   {
    "duration": 791,
    "start_time": "2022-01-18T14:14:56.051Z"
   },
   {
    "duration": 21,
    "start_time": "2022-01-18T14:14:56.845Z"
   },
   {
    "duration": 144,
    "start_time": "2022-01-18T14:14:56.867Z"
   },
   {
    "duration": 117,
    "start_time": "2022-01-18T14:14:57.013Z"
   },
   {
    "duration": 43,
    "start_time": "2022-01-18T14:14:57.131Z"
   },
   {
    "duration": 482,
    "start_time": "2022-01-18T14:14:57.176Z"
   },
   {
    "duration": 92,
    "start_time": "2022-01-18T14:14:57.661Z"
   },
   {
    "duration": 19,
    "start_time": "2022-01-18T14:14:57.755Z"
   },
   {
    "duration": 203,
    "start_time": "2022-01-18T14:14:57.776Z"
   },
   {
    "duration": 197,
    "start_time": "2022-01-18T14:14:57.980Z"
   },
   {
    "duration": 154,
    "start_time": "2022-01-18T14:14:58.179Z"
   },
   {
    "duration": 1343,
    "start_time": "2022-01-18T20:59:02.670Z"
   },
   {
    "duration": 1063,
    "start_time": "2022-01-18T20:59:04.016Z"
   },
   {
    "duration": 51,
    "start_time": "2022-01-18T20:59:05.091Z"
   },
   {
    "duration": 234,
    "start_time": "2022-01-18T20:59:05.147Z"
   },
   {
    "duration": 133,
    "start_time": "2022-01-18T20:59:05.384Z"
   },
   {
    "duration": 76,
    "start_time": "2022-01-18T20:59:05.520Z"
   },
   {
    "duration": 896,
    "start_time": "2022-01-18T20:59:05.599Z"
   },
   {
    "duration": 117,
    "start_time": "2022-01-18T20:59:06.499Z"
   },
   {
    "duration": 5,
    "start_time": "2022-01-18T20:59:06.618Z"
   },
   {
    "duration": 247,
    "start_time": "2022-01-18T20:59:06.626Z"
   },
   {
    "duration": 289,
    "start_time": "2022-01-18T20:59:06.876Z"
   },
   {
    "duration": 199,
    "start_time": "2022-01-18T20:59:07.167Z"
   },
   {
    "duration": 1400,
    "start_time": "2022-01-18T21:02:49.494Z"
   },
   {
    "duration": 1079,
    "start_time": "2022-01-18T21:02:50.897Z"
   },
   {
    "duration": 38,
    "start_time": "2022-01-18T21:02:51.979Z"
   },
   {
    "duration": 174,
    "start_time": "2022-01-18T21:02:52.020Z"
   },
   {
    "duration": 128,
    "start_time": "2022-01-18T21:02:52.197Z"
   },
   {
    "duration": 70,
    "start_time": "2022-01-18T21:02:52.328Z"
   },
   {
    "duration": 1033,
    "start_time": "2022-01-18T21:02:52.400Z"
   },
   {
    "duration": 117,
    "start_time": "2022-01-18T21:02:53.436Z"
   },
   {
    "duration": 8,
    "start_time": "2022-01-18T21:02:53.557Z"
   },
   {
    "duration": 247,
    "start_time": "2022-01-18T21:02:53.568Z"
   },
   {
    "duration": 280,
    "start_time": "2022-01-18T21:02:53.817Z"
   },
   {
    "duration": 203,
    "start_time": "2022-01-18T21:02:54.100Z"
   },
   {
    "duration": 1386,
    "start_time": "2022-01-18T21:04:24.216Z"
   },
   {
    "duration": 1094,
    "start_time": "2022-01-18T21:04:25.605Z"
   },
   {
    "duration": 32,
    "start_time": "2022-01-18T21:04:26.702Z"
   },
   {
    "duration": 178,
    "start_time": "2022-01-18T21:04:26.737Z"
   },
   {
    "duration": 136,
    "start_time": "2022-01-18T21:04:26.918Z"
   },
   {
    "duration": 72,
    "start_time": "2022-01-18T21:04:27.057Z"
   },
   {
    "duration": 889,
    "start_time": "2022-01-18T21:04:27.132Z"
   },
   {
    "duration": 5,
    "start_time": "2022-01-18T21:04:28.026Z"
   },
   {
    "duration": 261,
    "start_time": "2022-01-18T21:04:28.034Z"
   },
   {
    "duration": 430,
    "start_time": "2022-01-18T21:04:28.297Z"
   },
   {
    "duration": 325,
    "start_time": "2022-01-18T21:04:28.730Z"
   },
   {
    "duration": 1359,
    "start_time": "2022-01-18T21:05:05.959Z"
   },
   {
    "duration": 1074,
    "start_time": "2022-01-18T21:05:07.321Z"
   },
   {
    "duration": 31,
    "start_time": "2022-01-18T21:05:08.398Z"
   },
   {
    "duration": 175,
    "start_time": "2022-01-18T21:05:08.431Z"
   },
   {
    "duration": 70,
    "start_time": "2022-01-18T21:05:08.609Z"
   },
   {
    "duration": 84,
    "start_time": "2022-01-18T21:05:08.682Z"
   },
   {
    "duration": 870,
    "start_time": "2022-01-18T21:05:08.768Z"
   },
   {
    "duration": 6,
    "start_time": "2022-01-18T21:05:09.642Z"
   },
   {
    "duration": 287,
    "start_time": "2022-01-18T21:05:09.650Z"
   },
   {
    "duration": 357,
    "start_time": "2022-01-18T21:05:09.940Z"
   },
   {
    "duration": 198,
    "start_time": "2022-01-18T21:05:10.300Z"
   },
   {
    "duration": 18,
    "start_time": "2022-01-18T21:05:54.049Z"
   },
   {
    "duration": 1332,
    "start_time": "2022-01-18T21:06:40.285Z"
   },
   {
    "duration": 1077,
    "start_time": "2022-01-18T21:06:41.620Z"
   },
   {
    "duration": 31,
    "start_time": "2022-01-18T21:06:42.700Z"
   },
   {
    "duration": 180,
    "start_time": "2022-01-18T21:06:42.734Z"
   },
   {
    "duration": 111,
    "start_time": "2022-01-18T21:06:42.918Z"
   },
   {
    "duration": 115,
    "start_time": "2022-01-18T21:06:43.033Z"
   },
   {
    "duration": 1161,
    "start_time": "2022-01-18T21:06:43.151Z"
   },
   {
    "duration": 5,
    "start_time": "2022-01-18T21:06:44.317Z"
   },
   {
    "duration": 258,
    "start_time": "2022-01-18T21:06:44.325Z"
   },
   {
    "duration": 342,
    "start_time": "2022-01-18T21:06:44.585Z"
   },
   {
    "duration": 195,
    "start_time": "2022-01-18T21:06:44.930Z"
   },
   {
    "duration": 18,
    "start_time": "2022-01-18T21:06:45.128Z"
   },
   {
    "duration": 576,
    "start_time": "2022-01-18T21:12:24.188Z"
   },
   {
    "duration": 543,
    "start_time": "2022-01-18T21:12:35.629Z"
   },
   {
    "duration": 598,
    "start_time": "2022-01-18T21:13:38.789Z"
   },
   {
    "duration": 1366,
    "start_time": "2022-01-18T21:14:25.200Z"
   },
   {
    "duration": 1722,
    "start_time": "2022-01-18T21:14:26.569Z"
   },
   {
    "duration": 52,
    "start_time": "2022-01-18T21:14:28.296Z"
   },
   {
    "duration": 180,
    "start_time": "2022-01-18T21:14:28.364Z"
   },
   {
    "duration": 68,
    "start_time": "2022-01-18T21:14:28.547Z"
   },
   {
    "duration": 95,
    "start_time": "2022-01-18T21:14:28.618Z"
   },
   {
    "duration": 924,
    "start_time": "2022-01-18T21:14:28.716Z"
   },
   {
    "duration": 6,
    "start_time": "2022-01-18T21:14:29.644Z"
   },
   {
    "duration": 265,
    "start_time": "2022-01-18T21:14:29.653Z"
   },
   {
    "duration": 383,
    "start_time": "2022-01-18T21:14:29.920Z"
   },
   {
    "duration": 221,
    "start_time": "2022-01-18T21:14:30.305Z"
   },
   {
    "duration": 19,
    "start_time": "2022-01-18T21:14:30.528Z"
   },
   {
    "duration": 579,
    "start_time": "2022-01-18T21:14:30.567Z"
   },
   {
    "duration": 59,
    "start_time": "2022-01-18T21:14:31.148Z"
   },
   {
    "duration": 5,
    "start_time": "2022-01-18T21:14:31.209Z"
   },
   {
    "duration": 17,
    "start_time": "2022-01-18T22:12:31.092Z"
   },
   {
    "duration": 1405,
    "start_time": "2022-01-18T22:12:37.528Z"
   },
   {
    "duration": 1183,
    "start_time": "2022-01-18T22:12:38.935Z"
   },
   {
    "duration": 49,
    "start_time": "2022-01-18T22:12:40.122Z"
   },
   {
    "duration": 205,
    "start_time": "2022-01-18T22:12:40.175Z"
   },
   {
    "duration": 63,
    "start_time": "2022-01-18T22:12:40.383Z"
   },
   {
    "duration": 95,
    "start_time": "2022-01-18T22:12:40.449Z"
   },
   {
    "duration": 952,
    "start_time": "2022-01-18T22:12:40.547Z"
   },
   {
    "duration": 5,
    "start_time": "2022-01-18T22:12:41.503Z"
   },
   {
    "duration": 262,
    "start_time": "2022-01-18T22:12:41.511Z"
   },
   {
    "duration": 376,
    "start_time": "2022-01-18T22:12:41.777Z"
   },
   {
    "duration": 200,
    "start_time": "2022-01-18T22:12:42.156Z"
   },
   {
    "duration": 29,
    "start_time": "2022-01-18T22:12:42.359Z"
   },
   {
    "duration": 568,
    "start_time": "2022-01-18T22:12:42.391Z"
   },
   {
    "duration": 55,
    "start_time": "2022-01-18T22:12:42.966Z"
   },
   {
    "duration": 6,
    "start_time": "2022-01-18T22:12:43.024Z"
   },
   {
    "duration": 1366,
    "start_time": "2022-01-18T22:24:05.540Z"
   },
   {
    "duration": 1101,
    "start_time": "2022-01-18T22:24:06.910Z"
   },
   {
    "duration": 49,
    "start_time": "2022-01-18T22:24:08.015Z"
   },
   {
    "duration": 170,
    "start_time": "2022-01-18T22:24:08.068Z"
   },
   {
    "duration": 79,
    "start_time": "2022-01-18T22:24:08.242Z"
   },
   {
    "duration": 86,
    "start_time": "2022-01-18T22:24:08.324Z"
   },
   {
    "duration": 888,
    "start_time": "2022-01-18T22:24:08.413Z"
   },
   {
    "duration": 6,
    "start_time": "2022-01-18T22:24:09.305Z"
   },
   {
    "duration": 262,
    "start_time": "2022-01-18T22:24:09.317Z"
   },
   {
    "duration": 383,
    "start_time": "2022-01-18T22:24:09.583Z"
   },
   {
    "duration": 200,
    "start_time": "2022-01-18T22:24:09.969Z"
   },
   {
    "duration": 17,
    "start_time": "2022-01-18T22:24:10.172Z"
   },
   {
    "duration": 539,
    "start_time": "2022-01-18T22:24:10.192Z"
   },
   {
    "duration": 60,
    "start_time": "2022-01-18T22:24:10.733Z"
   },
   {
    "duration": 5,
    "start_time": "2022-01-18T22:24:10.796Z"
   },
   {
    "duration": 1373,
    "start_time": "2022-01-18T22:25:42.843Z"
   },
   {
    "duration": 1116,
    "start_time": "2022-01-18T22:25:44.218Z"
   },
   {
    "duration": 41,
    "start_time": "2022-01-18T22:25:45.338Z"
   },
   {
    "duration": 172,
    "start_time": "2022-01-18T22:25:45.381Z"
   },
   {
    "duration": 70,
    "start_time": "2022-01-18T22:25:45.556Z"
   },
   {
    "duration": 248,
    "start_time": "2022-01-18T22:25:45.629Z"
   },
   {
    "duration": 284,
    "start_time": "2022-01-18T22:25:45.880Z"
   },
   {
    "duration": 194,
    "start_time": "2022-01-18T22:25:46.169Z"
   },
   {
    "duration": 5,
    "start_time": "2022-01-18T22:25:46.366Z"
   },
   {
    "duration": 92,
    "start_time": "2022-01-18T22:25:46.374Z"
   },
   {
    "duration": 925,
    "start_time": "2022-01-18T22:25:46.470Z"
   },
   {
    "duration": 18,
    "start_time": "2022-01-18T22:25:47.398Z"
   },
   {
    "duration": 548,
    "start_time": "2022-01-18T22:25:47.419Z"
   },
   {
    "duration": 55,
    "start_time": "2022-01-18T22:25:47.970Z"
   },
   {
    "duration": 15,
    "start_time": "2022-01-18T22:25:48.027Z"
   },
   {
    "duration": 1432,
    "start_time": "2022-01-18T22:27:08.550Z"
   },
   {
    "duration": 1213,
    "start_time": "2022-01-18T22:27:09.985Z"
   },
   {
    "duration": 33,
    "start_time": "2022-01-18T22:27:11.202Z"
   },
   {
    "duration": 176,
    "start_time": "2022-01-18T22:27:11.238Z"
   },
   {
    "duration": 71,
    "start_time": "2022-01-18T22:27:11.417Z"
   },
   {
    "duration": 244,
    "start_time": "2022-01-18T22:27:11.491Z"
   },
   {
    "duration": 284,
    "start_time": "2022-01-18T22:27:11.738Z"
   },
   {
    "duration": 188,
    "start_time": "2022-01-18T22:27:12.026Z"
   },
   {
    "duration": 5,
    "start_time": "2022-01-18T22:27:12.217Z"
   },
   {
    "duration": 87,
    "start_time": "2022-01-18T22:27:12.224Z"
   },
   {
    "duration": 920,
    "start_time": "2022-01-18T22:27:12.313Z"
   },
   {
    "duration": 28,
    "start_time": "2022-01-18T22:27:13.236Z"
   },
   {
    "duration": 798,
    "start_time": "2022-01-18T22:27:13.267Z"
   },
   {
    "duration": 70,
    "start_time": "2022-01-18T22:27:14.068Z"
   },
   {
    "duration": 23,
    "start_time": "2022-01-18T22:27:14.141Z"
   },
   {
    "duration": 34,
    "start_time": "2022-01-18T22:30:11.400Z"
   },
   {
    "duration": 1353,
    "start_time": "2022-01-18T22:33:04.462Z"
   },
   {
    "duration": 1081,
    "start_time": "2022-01-18T22:33:05.818Z"
   },
   {
    "duration": 34,
    "start_time": "2022-01-18T22:33:06.902Z"
   },
   {
    "duration": 168,
    "start_time": "2022-01-18T22:33:06.938Z"
   },
   {
    "duration": 74,
    "start_time": "2022-01-18T22:33:07.108Z"
   },
   {
    "duration": 250,
    "start_time": "2022-01-18T22:33:07.185Z"
   },
   {
    "duration": 281,
    "start_time": "2022-01-18T22:33:07.437Z"
   },
   {
    "duration": 186,
    "start_time": "2022-01-18T22:33:07.722Z"
   },
   {
    "duration": 6,
    "start_time": "2022-01-18T22:33:07.911Z"
   },
   {
    "duration": 86,
    "start_time": "2022-01-18T22:33:07.919Z"
   },
   {
    "duration": 899,
    "start_time": "2022-01-18T22:33:08.008Z"
   },
   {
    "duration": 24,
    "start_time": "2022-01-18T22:33:08.911Z"
   },
   {
    "duration": 39,
    "start_time": "2022-01-18T22:33:08.937Z"
   },
   {
    "duration": 533,
    "start_time": "2022-01-18T22:33:08.979Z"
   },
   {
    "duration": 70,
    "start_time": "2022-01-18T22:33:09.515Z"
   },
   {
    "duration": 6,
    "start_time": "2022-01-18T22:33:09.587Z"
   },
   {
    "duration": 100,
    "start_time": "2022-01-18T22:33:25.426Z"
   },
   {
    "duration": 1174,
    "start_time": "2022-01-19T08:31:29.887Z"
   },
   {
    "duration": 791,
    "start_time": "2022-01-19T08:31:31.063Z"
   },
   {
    "duration": 23,
    "start_time": "2022-01-19T08:31:31.856Z"
   },
   {
    "duration": 131,
    "start_time": "2022-01-19T08:31:31.881Z"
   },
   {
    "duration": 42,
    "start_time": "2022-01-19T08:31:32.014Z"
   },
   {
    "duration": 168,
    "start_time": "2022-01-19T08:31:32.057Z"
   },
   {
    "duration": 193,
    "start_time": "2022-01-19T08:31:32.227Z"
   },
   {
    "duration": 133,
    "start_time": "2022-01-19T08:31:32.423Z"
   },
   {
    "duration": 4,
    "start_time": "2022-01-19T08:31:32.558Z"
   },
   {
    "duration": 68,
    "start_time": "2022-01-19T08:31:32.563Z"
   },
   {
    "duration": 479,
    "start_time": "2022-01-19T08:31:32.633Z"
   },
   {
    "duration": 17,
    "start_time": "2022-01-19T08:31:33.114Z"
   },
   {
    "duration": 14,
    "start_time": "2022-01-19T08:31:33.133Z"
   },
   {
    "duration": 403,
    "start_time": "2022-01-19T08:31:33.149Z"
   },
   {
    "duration": 32,
    "start_time": "2022-01-19T08:31:33.554Z"
   },
   {
    "duration": 12,
    "start_time": "2022-01-19T08:31:33.587Z"
   },
   {
    "duration": 98,
    "start_time": "2022-01-19T08:31:33.601Z"
   },
   {
    "duration": 1072,
    "start_time": "2022-01-19T08:56:08.072Z"
   },
   {
    "duration": 774,
    "start_time": "2022-01-19T08:56:09.147Z"
   },
   {
    "duration": 24,
    "start_time": "2022-01-19T08:56:09.924Z"
   },
   {
    "duration": 137,
    "start_time": "2022-01-19T08:56:09.950Z"
   },
   {
    "duration": 44,
    "start_time": "2022-01-19T08:56:10.089Z"
   },
   {
    "duration": 176,
    "start_time": "2022-01-19T08:56:10.134Z"
   },
   {
    "duration": 190,
    "start_time": "2022-01-19T08:56:10.312Z"
   },
   {
    "duration": 130,
    "start_time": "2022-01-19T08:56:10.504Z"
   },
   {
    "duration": 3,
    "start_time": "2022-01-19T08:56:10.636Z"
   },
   {
    "duration": 65,
    "start_time": "2022-01-19T08:56:10.641Z"
   },
   {
    "duration": 584,
    "start_time": "2022-01-19T08:56:10.707Z"
   },
   {
    "duration": 18,
    "start_time": "2022-01-19T08:56:11.293Z"
   },
   {
    "duration": 15,
    "start_time": "2022-01-19T08:56:11.313Z"
   },
   {
    "duration": 368,
    "start_time": "2022-01-19T08:56:11.330Z"
   },
   {
    "duration": 30,
    "start_time": "2022-01-19T08:56:11.700Z"
   },
   {
    "duration": 4,
    "start_time": "2022-01-19T08:56:11.732Z"
   },
   {
    "duration": 3269,
    "start_time": "2022-01-19T08:56:11.738Z"
   },
   {
    "duration": 616,
    "start_time": "2022-01-19T08:56:15.009Z"
   },
   {
    "duration": 695,
    "start_time": "2022-01-19T08:56:14.932Z"
   },
   {
    "duration": 694,
    "start_time": "2022-01-19T08:56:14.934Z"
   },
   {
    "duration": 1180,
    "start_time": "2022-01-19T08:59:20.567Z"
   },
   {
    "duration": 856,
    "start_time": "2022-01-19T08:59:21.749Z"
   },
   {
    "duration": 17,
    "start_time": "2022-01-19T08:59:22.607Z"
   },
   {
    "duration": 128,
    "start_time": "2022-01-19T08:59:22.625Z"
   },
   {
    "duration": 51,
    "start_time": "2022-01-19T08:59:22.755Z"
   },
   {
    "duration": 168,
    "start_time": "2022-01-19T08:59:22.807Z"
   },
   {
    "duration": 200,
    "start_time": "2022-01-19T08:59:22.976Z"
   },
   {
    "duration": 129,
    "start_time": "2022-01-19T08:59:23.179Z"
   },
   {
    "duration": 4,
    "start_time": "2022-01-19T08:59:23.310Z"
   },
   {
    "duration": 59,
    "start_time": "2022-01-19T08:59:23.315Z"
   },
   {
    "duration": 419,
    "start_time": "2022-01-19T08:59:23.375Z"
   },
   {
    "duration": 17,
    "start_time": "2022-01-19T08:59:23.796Z"
   },
   {
    "duration": 13,
    "start_time": "2022-01-19T08:59:23.814Z"
   },
   {
    "duration": 378,
    "start_time": "2022-01-19T08:59:23.829Z"
   },
   {
    "duration": 36,
    "start_time": "2022-01-19T08:59:24.208Z"
   },
   {
    "duration": 3,
    "start_time": "2022-01-19T08:59:24.246Z"
   },
   {
    "duration": 3426,
    "start_time": "2022-01-19T08:59:24.251Z"
   },
   {
    "duration": 275,
    "start_time": "2022-01-19T08:59:27.679Z"
   },
   {
    "duration": 586,
    "start_time": "2022-01-19T08:59:27.955Z"
   },
   {
    "duration": 89,
    "start_time": "2022-01-19T08:59:28.543Z"
   },
   {
    "duration": 1207,
    "start_time": "2022-01-19T10:02:55.344Z"
   },
   {
    "duration": 840,
    "start_time": "2022-01-19T10:02:56.553Z"
   },
   {
    "duration": 19,
    "start_time": "2022-01-19T10:02:57.396Z"
   },
   {
    "duration": 136,
    "start_time": "2022-01-19T10:02:57.417Z"
   },
   {
    "duration": 53,
    "start_time": "2022-01-19T10:02:57.555Z"
   },
   {
    "duration": 187,
    "start_time": "2022-01-19T10:02:57.609Z"
   },
   {
    "duration": 210,
    "start_time": "2022-01-19T10:02:57.797Z"
   },
   {
    "duration": 138,
    "start_time": "2022-01-19T10:02:58.009Z"
   },
   {
    "duration": 3,
    "start_time": "2022-01-19T10:02:58.150Z"
   },
   {
    "duration": 64,
    "start_time": "2022-01-19T10:02:58.155Z"
   },
   {
    "duration": 417,
    "start_time": "2022-01-19T10:02:58.221Z"
   },
   {
    "duration": 18,
    "start_time": "2022-01-19T10:02:58.640Z"
   },
   {
    "duration": 165,
    "start_time": "2022-01-19T10:02:58.660Z"
   },
   {
    "duration": 12,
    "start_time": "2022-01-19T10:02:58.827Z"
   },
   {
    "duration": 365,
    "start_time": "2022-01-19T10:02:58.840Z"
   },
   {
    "duration": 29,
    "start_time": "2022-01-19T10:02:59.206Z"
   },
   {
    "duration": 4,
    "start_time": "2022-01-19T10:02:59.236Z"
   },
   {
    "duration": 2982,
    "start_time": "2022-01-19T10:02:59.241Z"
   },
   {
    "duration": 296,
    "start_time": "2022-01-19T10:03:02.225Z"
   },
   {
    "duration": 628,
    "start_time": "2022-01-19T10:03:02.523Z"
   },
   {
    "duration": 80,
    "start_time": "2022-01-19T10:03:03.152Z"
   },
   {
    "duration": 63,
    "start_time": "2022-01-19T10:03:20.662Z"
   },
   {
    "duration": 77,
    "start_time": "2022-01-19T10:03:29.899Z"
   },
   {
    "duration": 1180,
    "start_time": "2022-01-19T10:04:53.578Z"
   },
   {
    "duration": 805,
    "start_time": "2022-01-19T10:04:54.760Z"
   },
   {
    "duration": 18,
    "start_time": "2022-01-19T10:04:55.567Z"
   },
   {
    "duration": 132,
    "start_time": "2022-01-19T10:04:55.586Z"
   },
   {
    "duration": 45,
    "start_time": "2022-01-19T10:04:55.719Z"
   },
   {
    "duration": 176,
    "start_time": "2022-01-19T10:04:55.766Z"
   },
   {
    "duration": 195,
    "start_time": "2022-01-19T10:04:55.943Z"
   },
   {
    "duration": 138,
    "start_time": "2022-01-19T10:04:56.141Z"
   },
   {
    "duration": 3,
    "start_time": "2022-01-19T10:04:56.281Z"
   },
   {
    "duration": 67,
    "start_time": "2022-01-19T10:04:56.286Z"
   },
   {
    "duration": 425,
    "start_time": "2022-01-19T10:04:56.355Z"
   },
   {
    "duration": 18,
    "start_time": "2022-01-19T10:04:56.782Z"
   },
   {
    "duration": 114,
    "start_time": "2022-01-19T10:04:56.801Z"
   },
   {
    "duration": 68,
    "start_time": "2022-01-19T10:04:56.917Z"
   },
   {
    "duration": 21,
    "start_time": "2022-01-19T10:04:56.986Z"
   },
   {
    "duration": 342,
    "start_time": "2022-01-19T10:04:57.009Z"
   },
   {
    "duration": 29,
    "start_time": "2022-01-19T10:04:57.353Z"
   },
   {
    "duration": 14,
    "start_time": "2022-01-19T10:04:57.384Z"
   },
   {
    "duration": 2715,
    "start_time": "2022-01-19T10:04:57.400Z"
   },
   {
    "duration": 265,
    "start_time": "2022-01-19T10:05:00.117Z"
   },
   {
    "duration": 607,
    "start_time": "2022-01-19T10:05:00.384Z"
   },
   {
    "duration": 72,
    "start_time": "2022-01-19T10:05:00.993Z"
   },
   {
    "duration": 1137,
    "start_time": "2022-01-19T10:08:04.218Z"
   },
   {
    "duration": 783,
    "start_time": "2022-01-19T10:08:05.357Z"
   },
   {
    "duration": 18,
    "start_time": "2022-01-19T10:08:06.142Z"
   },
   {
    "duration": 125,
    "start_time": "2022-01-19T10:08:06.162Z"
   },
   {
    "duration": 49,
    "start_time": "2022-01-19T10:08:06.289Z"
   },
   {
    "duration": 9,
    "start_time": "2022-01-19T10:08:06.340Z"
   },
   {
    "duration": 77,
    "start_time": "2022-01-19T10:08:06.351Z"
   },
   {
    "duration": 408,
    "start_time": "2022-01-19T10:08:06.431Z"
   },
   {
    "duration": 19,
    "start_time": "2022-01-19T10:08:06.842Z"
   },
   {
    "duration": 120,
    "start_time": "2022-01-19T10:08:06.863Z"
   },
   {
    "duration": 78,
    "start_time": "2022-01-19T10:08:06.984Z"
   },
   {
    "duration": 130,
    "start_time": "2022-01-19T10:08:07.063Z"
   },
   {
    "duration": 143,
    "start_time": "2022-01-19T10:08:07.194Z"
   },
   {
    "duration": 90,
    "start_time": "2022-01-19T10:08:07.339Z"
   },
   {
    "duration": 11,
    "start_time": "2022-01-19T10:08:07.431Z"
   },
   {
    "duration": 333,
    "start_time": "2022-01-19T10:08:07.443Z"
   },
   {
    "duration": 29,
    "start_time": "2022-01-19T10:08:07.778Z"
   },
   {
    "duration": 4,
    "start_time": "2022-01-19T10:08:07.809Z"
   },
   {
    "duration": 2653,
    "start_time": "2022-01-19T10:08:07.814Z"
   },
   {
    "duration": 262,
    "start_time": "2022-01-19T10:08:10.468Z"
   },
   {
    "duration": 580,
    "start_time": "2022-01-19T10:08:10.732Z"
   },
   {
    "duration": 58,
    "start_time": "2022-01-19T10:08:11.314Z"
   },
   {
    "duration": 394,
    "start_time": "2022-01-19T10:09:58.724Z"
   },
   {
    "duration": 872,
    "start_time": "2022-01-19T10:10:11.298Z"
   },
   {
    "duration": 1669,
    "start_time": "2022-01-19T10:10:22.506Z"
   },
   {
    "duration": 277,
    "start_time": "2022-01-19T10:11:21.938Z"
   },
   {
    "duration": 457,
    "start_time": "2022-01-19T10:11:29.838Z"
   },
   {
    "duration": 182,
    "start_time": "2022-01-19T10:11:40.011Z"
   },
   {
    "duration": 280,
    "start_time": "2022-01-19T10:12:35.035Z"
   },
   {
    "duration": 300,
    "start_time": "2022-01-19T10:12:48.239Z"
   },
   {
    "duration": 1278,
    "start_time": "2022-01-19T10:13:00.169Z"
   },
   {
    "duration": 820,
    "start_time": "2022-01-19T10:13:01.449Z"
   },
   {
    "duration": 26,
    "start_time": "2022-01-19T10:13:02.272Z"
   },
   {
    "duration": 133,
    "start_time": "2022-01-19T10:13:02.301Z"
   },
   {
    "duration": 46,
    "start_time": "2022-01-19T10:13:02.437Z"
   },
   {
    "duration": 20,
    "start_time": "2022-01-19T10:13:02.486Z"
   },
   {
    "duration": 69,
    "start_time": "2022-01-19T10:13:02.508Z"
   },
   {
    "duration": 449,
    "start_time": "2022-01-19T10:13:02.581Z"
   },
   {
    "duration": 21,
    "start_time": "2022-01-19T10:13:03.033Z"
   },
   {
    "duration": 133,
    "start_time": "2022-01-19T10:13:03.056Z"
   },
   {
    "duration": 77,
    "start_time": "2022-01-19T10:13:03.191Z"
   },
   {
    "duration": 127,
    "start_time": "2022-01-19T10:13:03.269Z"
   },
   {
    "duration": 146,
    "start_time": "2022-01-19T10:13:03.397Z"
   },
   {
    "duration": 89,
    "start_time": "2022-01-19T10:13:03.545Z"
   },
   {
    "duration": 10,
    "start_time": "2022-01-19T10:13:03.636Z"
   },
   {
    "duration": 375,
    "start_time": "2022-01-19T10:13:03.648Z"
   },
   {
    "duration": 694,
    "start_time": "2022-01-19T10:13:03.331Z"
   },
   {
    "duration": 687,
    "start_time": "2022-01-19T10:13:03.339Z"
   },
   {
    "duration": 685,
    "start_time": "2022-01-19T10:13:03.342Z"
   },
   {
    "duration": 363,
    "start_time": "2022-01-19T10:13:03.664Z"
   },
   {
    "duration": 356,
    "start_time": "2022-01-19T10:13:03.672Z"
   },
   {
    "duration": 354,
    "start_time": "2022-01-19T10:13:03.676Z"
   },
   {
    "duration": 335,
    "start_time": "2022-01-19T10:13:03.695Z"
   },
   {
    "duration": 1191,
    "start_time": "2022-01-19T10:13:37.262Z"
   },
   {
    "duration": 762,
    "start_time": "2022-01-19T10:13:38.456Z"
   },
   {
    "duration": 19,
    "start_time": "2022-01-19T10:13:39.220Z"
   },
   {
    "duration": 129,
    "start_time": "2022-01-19T10:13:39.241Z"
   },
   {
    "duration": 47,
    "start_time": "2022-01-19T10:13:39.372Z"
   },
   {
    "duration": 7,
    "start_time": "2022-01-19T10:13:39.421Z"
   },
   {
    "duration": 70,
    "start_time": "2022-01-19T10:13:39.430Z"
   },
   {
    "duration": 410,
    "start_time": "2022-01-19T10:13:39.503Z"
   },
   {
    "duration": 18,
    "start_time": "2022-01-19T10:13:39.916Z"
   },
   {
    "duration": 117,
    "start_time": "2022-01-19T10:13:39.936Z"
   },
   {
    "duration": 81,
    "start_time": "2022-01-19T10:13:40.055Z"
   },
   {
    "duration": 123,
    "start_time": "2022-01-19T10:13:40.138Z"
   },
   {
    "duration": 135,
    "start_time": "2022-01-19T10:13:40.263Z"
   },
   {
    "duration": 86,
    "start_time": "2022-01-19T10:13:40.400Z"
   },
   {
    "duration": 20,
    "start_time": "2022-01-19T10:13:40.488Z"
   },
   {
    "duration": 189,
    "start_time": "2022-01-19T10:13:40.509Z"
   },
   {
    "duration": 22,
    "start_time": "2022-01-19T10:13:40.700Z"
   },
   {
    "duration": 3,
    "start_time": "2022-01-19T10:13:40.724Z"
   },
   {
    "duration": 2720,
    "start_time": "2022-01-19T10:13:40.729Z"
   },
   {
    "duration": 261,
    "start_time": "2022-01-19T10:13:43.451Z"
   },
   {
    "duration": 590,
    "start_time": "2022-01-19T10:13:43.714Z"
   },
   {
    "duration": 59,
    "start_time": "2022-01-19T10:13:44.305Z"
   },
   {
    "duration": 1152,
    "start_time": "2022-01-19T10:15:09.226Z"
   },
   {
    "duration": 767,
    "start_time": "2022-01-19T10:15:10.380Z"
   },
   {
    "duration": 18,
    "start_time": "2022-01-19T10:15:11.149Z"
   },
   {
    "duration": 132,
    "start_time": "2022-01-19T10:15:11.168Z"
   },
   {
    "duration": 43,
    "start_time": "2022-01-19T10:15:11.302Z"
   },
   {
    "duration": 9,
    "start_time": "2022-01-19T10:15:11.347Z"
   },
   {
    "duration": 77,
    "start_time": "2022-01-19T10:15:11.357Z"
   },
   {
    "duration": 417,
    "start_time": "2022-01-19T10:15:11.435Z"
   },
   {
    "duration": 19,
    "start_time": "2022-01-19T10:15:11.856Z"
   },
   {
    "duration": 118,
    "start_time": "2022-01-19T10:15:11.877Z"
   },
   {
    "duration": 73,
    "start_time": "2022-01-19T10:15:11.997Z"
   },
   {
    "duration": 114,
    "start_time": "2022-01-19T10:15:12.071Z"
   },
   {
    "duration": 129,
    "start_time": "2022-01-19T10:15:12.187Z"
   },
   {
    "duration": 87,
    "start_time": "2022-01-19T10:15:12.318Z"
   },
   {
    "duration": 11,
    "start_time": "2022-01-19T10:15:12.406Z"
   },
   {
    "duration": 7346,
    "start_time": "2022-01-19T10:15:12.419Z"
   },
   {
    "duration": 469,
    "start_time": "2022-01-19T10:15:19.298Z"
   },
   {
    "duration": 466,
    "start_time": "2022-01-19T10:15:19.302Z"
   },
   {
    "duration": 465,
    "start_time": "2022-01-19T10:15:19.304Z"
   },
   {
    "duration": 461,
    "start_time": "2022-01-19T10:15:19.309Z"
   },
   {
    "duration": 452,
    "start_time": "2022-01-19T10:15:19.319Z"
   },
   {
    "duration": 447,
    "start_time": "2022-01-19T10:15:19.325Z"
   },
   {
    "duration": 439,
    "start_time": "2022-01-19T10:15:19.334Z"
   },
   {
    "duration": 436,
    "start_time": "2022-01-19T10:15:19.338Z"
   },
   {
    "duration": 258,
    "start_time": "2022-01-19T10:16:20.749Z"
   },
   {
    "duration": 1220,
    "start_time": "2022-01-19T10:16:51.927Z"
   },
   {
    "duration": 798,
    "start_time": "2022-01-19T10:16:53.149Z"
   },
   {
    "duration": 16,
    "start_time": "2022-01-19T10:16:53.949Z"
   },
   {
    "duration": 127,
    "start_time": "2022-01-19T10:16:53.967Z"
   },
   {
    "duration": 44,
    "start_time": "2022-01-19T10:16:54.095Z"
   },
   {
    "duration": 7,
    "start_time": "2022-01-19T10:16:54.140Z"
   },
   {
    "duration": 73,
    "start_time": "2022-01-19T10:16:54.149Z"
   },
   {
    "duration": 569,
    "start_time": "2022-01-19T10:16:54.225Z"
   },
   {
    "duration": 19,
    "start_time": "2022-01-19T10:16:54.797Z"
   },
   {
    "duration": 121,
    "start_time": "2022-01-19T10:16:54.818Z"
   },
   {
    "duration": 81,
    "start_time": "2022-01-19T10:16:54.941Z"
   },
   {
    "duration": 124,
    "start_time": "2022-01-19T10:16:55.024Z"
   },
   {
    "duration": 136,
    "start_time": "2022-01-19T10:16:55.150Z"
   },
   {
    "duration": 90,
    "start_time": "2022-01-19T10:16:55.288Z"
   },
   {
    "duration": 19,
    "start_time": "2022-01-19T10:16:55.381Z"
   },
   {
    "duration": 6956,
    "start_time": "2022-01-19T10:16:55.402Z"
   },
   {
    "duration": 743,
    "start_time": "2022-01-19T10:17:01.617Z"
   },
   {
    "duration": 737,
    "start_time": "2022-01-19T10:17:01.624Z"
   },
   {
    "duration": 737,
    "start_time": "2022-01-19T10:17:01.625Z"
   },
   {
    "duration": 735,
    "start_time": "2022-01-19T10:17:01.629Z"
   },
   {
    "duration": 734,
    "start_time": "2022-01-19T10:17:01.631Z"
   },
   {
    "duration": 732,
    "start_time": "2022-01-19T10:17:01.634Z"
   },
   {
    "duration": 729,
    "start_time": "2022-01-19T10:17:01.638Z"
   },
   {
    "duration": 726,
    "start_time": "2022-01-19T10:17:01.642Z"
   },
   {
    "duration": 724,
    "start_time": "2022-01-19T10:17:01.645Z"
   },
   {
    "duration": 1126,
    "start_time": "2022-01-19T10:17:17.339Z"
   },
   {
    "duration": 783,
    "start_time": "2022-01-19T10:17:18.467Z"
   },
   {
    "duration": 18,
    "start_time": "2022-01-19T10:17:19.252Z"
   },
   {
    "duration": 129,
    "start_time": "2022-01-19T10:17:19.272Z"
   },
   {
    "duration": 44,
    "start_time": "2022-01-19T10:17:19.403Z"
   },
   {
    "duration": 8,
    "start_time": "2022-01-19T10:17:19.449Z"
   },
   {
    "duration": 81,
    "start_time": "2022-01-19T10:17:19.459Z"
   },
   {
    "duration": 414,
    "start_time": "2022-01-19T10:17:19.543Z"
   },
   {
    "duration": 19,
    "start_time": "2022-01-19T10:17:19.960Z"
   },
   {
    "duration": 127,
    "start_time": "2022-01-19T10:17:19.981Z"
   },
   {
    "duration": 74,
    "start_time": "2022-01-19T10:17:20.110Z"
   },
   {
    "duration": 108,
    "start_time": "2022-01-19T10:17:20.199Z"
   },
   {
    "duration": 133,
    "start_time": "2022-01-19T10:17:20.308Z"
   },
   {
    "duration": 89,
    "start_time": "2022-01-19T10:17:20.442Z"
   },
   {
    "duration": 10,
    "start_time": "2022-01-19T10:17:20.533Z"
   },
   {
    "duration": 386,
    "start_time": "2022-01-19T10:17:20.545Z"
   },
   {
    "duration": 758,
    "start_time": "2022-01-19T10:17:20.176Z"
   },
   {
    "duration": 756,
    "start_time": "2022-01-19T10:17:20.179Z"
   },
   {
    "duration": 751,
    "start_time": "2022-01-19T10:17:20.185Z"
   },
   {
    "duration": 749,
    "start_time": "2022-01-19T10:17:20.188Z"
   },
   {
    "duration": 748,
    "start_time": "2022-01-19T10:17:20.190Z"
   },
   {
    "duration": 746,
    "start_time": "2022-01-19T10:17:20.193Z"
   },
   {
    "duration": 745,
    "start_time": "2022-01-19T10:17:20.195Z"
   },
   {
    "duration": 743,
    "start_time": "2022-01-19T10:17:20.198Z"
   },
   {
    "duration": 1117,
    "start_time": "2022-01-19T10:18:37.828Z"
   },
   {
    "duration": 784,
    "start_time": "2022-01-19T10:18:38.946Z"
   },
   {
    "duration": 20,
    "start_time": "2022-01-19T10:18:39.732Z"
   },
   {
    "duration": 150,
    "start_time": "2022-01-19T10:18:39.754Z"
   },
   {
    "duration": 43,
    "start_time": "2022-01-19T10:18:39.906Z"
   },
   {
    "duration": 31,
    "start_time": "2022-01-19T10:18:39.951Z"
   },
   {
    "duration": 80,
    "start_time": "2022-01-19T10:18:39.984Z"
   },
   {
    "duration": 414,
    "start_time": "2022-01-19T10:18:40.067Z"
   },
   {
    "duration": 19,
    "start_time": "2022-01-19T10:18:40.483Z"
   },
   {
    "duration": 157,
    "start_time": "2022-01-19T10:18:40.503Z"
   },
   {
    "duration": 88,
    "start_time": "2022-01-19T10:18:40.661Z"
   },
   {
    "duration": 112,
    "start_time": "2022-01-19T10:18:40.751Z"
   },
   {
    "duration": 140,
    "start_time": "2022-01-19T10:18:40.865Z"
   },
   {
    "duration": 92,
    "start_time": "2022-01-19T10:18:41.007Z"
   },
   {
    "duration": 11,
    "start_time": "2022-01-19T10:18:41.101Z"
   },
   {
    "duration": 15,
    "start_time": "2022-01-19T10:18:41.114Z"
   },
   {
    "duration": 383,
    "start_time": "2022-01-19T10:18:41.130Z"
   },
   {
    "duration": 743,
    "start_time": "2022-01-19T10:18:40.772Z"
   },
   {
    "duration": 727,
    "start_time": "2022-01-19T10:18:40.789Z"
   },
   {
    "duration": 726,
    "start_time": "2022-01-19T10:18:40.792Z"
   },
   {
    "duration": 724,
    "start_time": "2022-01-19T10:18:40.795Z"
   },
   {
    "duration": 722,
    "start_time": "2022-01-19T10:18:40.799Z"
   },
   {
    "duration": 720,
    "start_time": "2022-01-19T10:18:40.802Z"
   },
   {
    "duration": 719,
    "start_time": "2022-01-19T10:18:40.805Z"
   },
   {
    "duration": 718,
    "start_time": "2022-01-19T10:18:40.807Z"
   },
   {
    "duration": 1125,
    "start_time": "2022-01-19T10:19:22.341Z"
   },
   {
    "duration": 762,
    "start_time": "2022-01-19T10:19:23.468Z"
   },
   {
    "duration": 19,
    "start_time": "2022-01-19T10:19:24.232Z"
   },
   {
    "duration": 134,
    "start_time": "2022-01-19T10:19:24.253Z"
   },
   {
    "duration": 46,
    "start_time": "2022-01-19T10:19:24.389Z"
   },
   {
    "duration": 7,
    "start_time": "2022-01-19T10:19:24.437Z"
   },
   {
    "duration": 78,
    "start_time": "2022-01-19T10:19:24.446Z"
   },
   {
    "duration": 429,
    "start_time": "2022-01-19T10:19:24.525Z"
   },
   {
    "duration": 19,
    "start_time": "2022-01-19T10:19:24.957Z"
   },
   {
    "duration": 121,
    "start_time": "2022-01-19T10:19:24.978Z"
   },
   {
    "duration": 73,
    "start_time": "2022-01-19T10:19:25.101Z"
   },
   {
    "duration": 123,
    "start_time": "2022-01-19T10:19:25.176Z"
   },
   {
    "duration": 132,
    "start_time": "2022-01-19T10:19:25.300Z"
   },
   {
    "duration": 96,
    "start_time": "2022-01-19T10:19:25.434Z"
   },
   {
    "duration": 10,
    "start_time": "2022-01-19T10:19:25.531Z"
   },
   {
    "duration": 9,
    "start_time": "2022-01-19T10:19:25.543Z"
   },
   {
    "duration": 790,
    "start_time": "2022-01-19T10:19:25.553Z"
   },
   {
    "duration": 350,
    "start_time": "2022-01-19T10:19:26.345Z"
   },
   {
    "duration": 648,
    "start_time": "2022-01-19T10:19:26.049Z"
   },
   {
    "duration": 643,
    "start_time": "2022-01-19T10:19:26.055Z"
   },
   {
    "duration": 642,
    "start_time": "2022-01-19T10:19:26.057Z"
   },
   {
    "duration": 640,
    "start_time": "2022-01-19T10:19:26.060Z"
   },
   {
    "duration": 638,
    "start_time": "2022-01-19T10:19:26.063Z"
   },
   {
    "duration": 636,
    "start_time": "2022-01-19T10:19:26.066Z"
   },
   {
    "duration": 634,
    "start_time": "2022-01-19T10:19:26.069Z"
   },
   {
    "duration": 358,
    "start_time": "2022-01-19T10:37:50.264Z"
   },
   {
    "duration": 1184,
    "start_time": "2022-01-19T10:38:02.701Z"
   },
   {
    "duration": 785,
    "start_time": "2022-01-19T10:38:03.887Z"
   },
   {
    "duration": 25,
    "start_time": "2022-01-19T10:38:04.674Z"
   },
   {
    "duration": 133,
    "start_time": "2022-01-19T10:38:04.702Z"
   },
   {
    "duration": 45,
    "start_time": "2022-01-19T10:38:04.837Z"
   },
   {
    "duration": 19,
    "start_time": "2022-01-19T10:38:04.883Z"
   },
   {
    "duration": 79,
    "start_time": "2022-01-19T10:38:04.904Z"
   },
   {
    "duration": 430,
    "start_time": "2022-01-19T10:38:04.985Z"
   },
   {
    "duration": 21,
    "start_time": "2022-01-19T10:38:05.417Z"
   },
   {
    "duration": 132,
    "start_time": "2022-01-19T10:38:05.439Z"
   },
   {
    "duration": 75,
    "start_time": "2022-01-19T10:38:05.573Z"
   },
   {
    "duration": 118,
    "start_time": "2022-01-19T10:38:05.650Z"
   },
   {
    "duration": 139,
    "start_time": "2022-01-19T10:38:05.770Z"
   },
   {
    "duration": 91,
    "start_time": "2022-01-19T10:38:05.910Z"
   },
   {
    "duration": 10,
    "start_time": "2022-01-19T10:38:06.003Z"
   },
   {
    "duration": 814,
    "start_time": "2022-01-19T10:38:06.015Z"
   },
   {
    "duration": 22,
    "start_time": "2022-01-19T10:38:06.831Z"
   },
   {
    "duration": 3,
    "start_time": "2022-01-19T10:38:06.855Z"
   },
   {
    "duration": 2769,
    "start_time": "2022-01-19T10:38:06.860Z"
   },
   {
    "duration": 272,
    "start_time": "2022-01-19T10:38:09.631Z"
   },
   {
    "duration": 533,
    "start_time": "2022-01-19T10:38:09.905Z"
   },
   {
    "duration": 68,
    "start_time": "2022-01-19T10:38:10.440Z"
   },
   {
    "duration": 1139,
    "start_time": "2022-01-19T10:50:13.828Z"
   },
   {
    "duration": 790,
    "start_time": "2022-01-19T10:50:14.971Z"
   },
   {
    "duration": 19,
    "start_time": "2022-01-19T10:50:15.763Z"
   },
   {
    "duration": 136,
    "start_time": "2022-01-19T10:50:15.784Z"
   },
   {
    "duration": 42,
    "start_time": "2022-01-19T10:50:15.923Z"
   },
   {
    "duration": 6,
    "start_time": "2022-01-19T10:50:15.967Z"
   },
   {
    "duration": 85,
    "start_time": "2022-01-19T10:50:15.976Z"
   },
   {
    "duration": 434,
    "start_time": "2022-01-19T10:50:16.064Z"
   },
   {
    "duration": 20,
    "start_time": "2022-01-19T10:50:16.500Z"
   },
   {
    "duration": 119,
    "start_time": "2022-01-19T10:50:16.522Z"
   },
   {
    "duration": 78,
    "start_time": "2022-01-19T10:50:16.642Z"
   },
   {
    "duration": 120,
    "start_time": "2022-01-19T10:50:16.722Z"
   },
   {
    "duration": 134,
    "start_time": "2022-01-19T10:50:16.844Z"
   },
   {
    "duration": 87,
    "start_time": "2022-01-19T10:50:16.980Z"
   },
   {
    "duration": 10,
    "start_time": "2022-01-19T10:50:17.069Z"
   },
   {
    "duration": 775,
    "start_time": "2022-01-19T10:50:17.080Z"
   },
   {
    "duration": 23,
    "start_time": "2022-01-19T10:50:17.856Z"
   },
   {
    "duration": 2783,
    "start_time": "2022-01-19T10:50:17.881Z"
   },
   {
    "duration": 273,
    "start_time": "2022-01-19T10:50:20.666Z"
   },
   {
    "duration": 521,
    "start_time": "2022-01-19T10:50:20.941Z"
   },
   {
    "duration": 3,
    "start_time": "2022-01-19T10:50:21.464Z"
   },
   {
    "duration": 82,
    "start_time": "2022-01-19T10:50:21.470Z"
   },
   {
    "duration": 1167,
    "start_time": "2022-01-19T10:51:29.501Z"
   },
   {
    "duration": 815,
    "start_time": "2022-01-19T10:51:30.669Z"
   },
   {
    "duration": 20,
    "start_time": "2022-01-19T10:51:31.486Z"
   },
   {
    "duration": 129,
    "start_time": "2022-01-19T10:51:31.508Z"
   },
   {
    "duration": 51,
    "start_time": "2022-01-19T10:51:31.639Z"
   },
   {
    "duration": 7,
    "start_time": "2022-01-19T10:51:31.692Z"
   },
   {
    "duration": 65,
    "start_time": "2022-01-19T10:51:31.700Z"
   },
   {
    "duration": 423,
    "start_time": "2022-01-19T10:51:31.768Z"
   },
   {
    "duration": 20,
    "start_time": "2022-01-19T10:51:32.193Z"
   },
   {
    "duration": 113,
    "start_time": "2022-01-19T10:51:32.215Z"
   },
   {
    "duration": 77,
    "start_time": "2022-01-19T10:51:32.330Z"
   },
   {
    "duration": 112,
    "start_time": "2022-01-19T10:51:32.408Z"
   },
   {
    "duration": 134,
    "start_time": "2022-01-19T10:51:32.522Z"
   },
   {
    "duration": 95,
    "start_time": "2022-01-19T10:51:32.658Z"
   },
   {
    "duration": 10,
    "start_time": "2022-01-19T10:51:32.754Z"
   },
   {
    "duration": 780,
    "start_time": "2022-01-19T10:51:32.766Z"
   },
   {
    "duration": 24,
    "start_time": "2022-01-19T10:51:33.548Z"
   },
   {
    "duration": 4,
    "start_time": "2022-01-19T10:51:33.573Z"
   },
   {
    "duration": 78,
    "start_time": "2022-01-19T10:51:33.578Z"
   },
   {
    "duration": 1089,
    "start_time": "2022-01-19T10:54:57.461Z"
   },
   {
    "duration": 768,
    "start_time": "2022-01-19T10:54:58.552Z"
   },
   {
    "duration": 17,
    "start_time": "2022-01-19T10:54:59.322Z"
   },
   {
    "duration": 129,
    "start_time": "2022-01-19T10:54:59.341Z"
   },
   {
    "duration": 52,
    "start_time": "2022-01-19T10:54:59.472Z"
   },
   {
    "duration": 8,
    "start_time": "2022-01-19T10:54:59.525Z"
   },
   {
    "duration": 68,
    "start_time": "2022-01-19T10:54:59.535Z"
   },
   {
    "duration": 425,
    "start_time": "2022-01-19T10:54:59.605Z"
   },
   {
    "duration": 20,
    "start_time": "2022-01-19T10:55:00.033Z"
   },
   {
    "duration": 130,
    "start_time": "2022-01-19T10:55:00.054Z"
   },
   {
    "duration": 76,
    "start_time": "2022-01-19T10:55:00.185Z"
   },
   {
    "duration": 119,
    "start_time": "2022-01-19T10:55:00.262Z"
   },
   {
    "duration": 141,
    "start_time": "2022-01-19T10:55:00.382Z"
   },
   {
    "duration": 97,
    "start_time": "2022-01-19T10:55:00.525Z"
   },
   {
    "duration": 11,
    "start_time": "2022-01-19T10:55:00.623Z"
   },
   {
    "duration": 850,
    "start_time": "2022-01-19T10:55:00.635Z"
   },
   {
    "duration": 32,
    "start_time": "2022-01-19T10:55:01.486Z"
   },
   {
    "duration": 4,
    "start_time": "2022-01-19T10:55:01.519Z"
   },
   {
    "duration": 85,
    "start_time": "2022-01-19T10:55:01.525Z"
   },
   {
    "duration": 27,
    "start_time": "2022-01-19T11:06:31.219Z"
   },
   {
    "duration": 1127,
    "start_time": "2022-01-19T11:06:36.958Z"
   },
   {
    "duration": 762,
    "start_time": "2022-01-19T11:06:38.087Z"
   },
   {
    "duration": 19,
    "start_time": "2022-01-19T11:06:38.853Z"
   },
   {
    "duration": 133,
    "start_time": "2022-01-19T11:06:38.874Z"
   },
   {
    "duration": 42,
    "start_time": "2022-01-19T11:06:39.008Z"
   },
   {
    "duration": 16,
    "start_time": "2022-01-19T11:06:39.052Z"
   },
   {
    "duration": 67,
    "start_time": "2022-01-19T11:06:39.070Z"
   },
   {
    "duration": 424,
    "start_time": "2022-01-19T11:06:39.139Z"
   },
   {
    "duration": 19,
    "start_time": "2022-01-19T11:06:39.565Z"
   },
   {
    "duration": 114,
    "start_time": "2022-01-19T11:06:39.586Z"
   },
   {
    "duration": 71,
    "start_time": "2022-01-19T11:06:39.702Z"
   },
   {
    "duration": 112,
    "start_time": "2022-01-19T11:06:39.775Z"
   },
   {
    "duration": 129,
    "start_time": "2022-01-19T11:06:39.889Z"
   },
   {
    "duration": 95,
    "start_time": "2022-01-19T11:06:40.020Z"
   },
   {
    "duration": 11,
    "start_time": "2022-01-19T11:06:40.117Z"
   },
   {
    "duration": 799,
    "start_time": "2022-01-19T11:06:40.130Z"
   },
   {
    "duration": 25,
    "start_time": "2022-01-19T11:06:40.931Z"
   },
   {
    "duration": 5,
    "start_time": "2022-01-19T11:06:40.958Z"
   },
   {
    "duration": 80,
    "start_time": "2022-01-19T11:06:40.965Z"
   },
   {
    "duration": 1171,
    "start_time": "2022-01-19T13:06:40.583Z"
   },
   {
    "duration": 800,
    "start_time": "2022-01-19T13:06:41.756Z"
   },
   {
    "duration": 18,
    "start_time": "2022-01-19T13:06:42.558Z"
   },
   {
    "duration": 140,
    "start_time": "2022-01-19T13:06:42.578Z"
   },
   {
    "duration": 43,
    "start_time": "2022-01-19T13:06:42.720Z"
   },
   {
    "duration": 8,
    "start_time": "2022-01-19T13:06:42.766Z"
   },
   {
    "duration": 71,
    "start_time": "2022-01-19T13:06:42.775Z"
   },
   {
    "duration": 432,
    "start_time": "2022-01-19T13:06:42.848Z"
   },
   {
    "duration": 19,
    "start_time": "2022-01-19T13:06:43.283Z"
   },
   {
    "duration": 117,
    "start_time": "2022-01-19T13:06:43.304Z"
   },
   {
    "duration": 80,
    "start_time": "2022-01-19T13:06:43.423Z"
   },
   {
    "duration": 110,
    "start_time": "2022-01-19T13:06:43.505Z"
   },
   {
    "duration": 131,
    "start_time": "2022-01-19T13:06:43.617Z"
   },
   {
    "duration": 89,
    "start_time": "2022-01-19T13:06:43.749Z"
   },
   {
    "duration": 10,
    "start_time": "2022-01-19T13:06:43.840Z"
   },
   {
    "duration": 805,
    "start_time": "2022-01-19T13:06:43.852Z"
   },
   {
    "duration": 25,
    "start_time": "2022-01-19T13:06:44.658Z"
   },
   {
    "duration": 14,
    "start_time": "2022-01-19T13:06:44.685Z"
   },
   {
    "duration": 62,
    "start_time": "2022-01-19T13:06:44.701Z"
   },
   {
    "duration": 425,
    "start_time": "2022-01-19T13:09:00.597Z"
   },
   {
    "duration": 421,
    "start_time": "2022-01-19T13:20:49.799Z"
   },
   {
    "duration": 33,
    "start_time": "2022-01-19T13:21:19.326Z"
   },
   {
    "duration": 1566,
    "start_time": "2022-01-20T08:24:06.782Z"
   },
   {
    "duration": 1117,
    "start_time": "2022-01-20T08:24:08.350Z"
   },
   {
    "duration": 28,
    "start_time": "2022-01-20T08:24:09.473Z"
   },
   {
    "duration": 190,
    "start_time": "2022-01-20T08:24:09.504Z"
   },
   {
    "duration": 76,
    "start_time": "2022-01-20T08:24:09.697Z"
   },
   {
    "duration": 7,
    "start_time": "2022-01-20T08:24:09.775Z"
   },
   {
    "duration": 97,
    "start_time": "2022-01-20T08:24:09.786Z"
   },
   {
    "duration": 947,
    "start_time": "2022-01-20T08:24:09.886Z"
   },
   {
    "duration": 37,
    "start_time": "2022-01-20T08:24:10.837Z"
   },
   {
    "duration": 167,
    "start_time": "2022-01-20T08:24:10.876Z"
   },
   {
    "duration": 106,
    "start_time": "2022-01-20T08:24:11.046Z"
   },
   {
    "duration": 200,
    "start_time": "2022-01-20T08:24:11.160Z"
   },
   {
    "duration": 192,
    "start_time": "2022-01-20T08:24:11.363Z"
   },
   {
    "duration": 128,
    "start_time": "2022-01-20T08:24:11.557Z"
   },
   {
    "duration": 16,
    "start_time": "2022-01-20T08:24:11.687Z"
   },
   {
    "duration": 1107,
    "start_time": "2022-01-20T08:24:11.705Z"
   },
   {
    "duration": 51,
    "start_time": "2022-01-20T08:24:12.815Z"
   },
   {
    "duration": 5,
    "start_time": "2022-01-20T08:24:12.869Z"
   },
   {
    "duration": 405,
    "start_time": "2022-01-20T08:24:12.876Z"
   },
   {
    "duration": 129,
    "start_time": "2022-01-20T08:24:13.283Z"
   },
   {
    "duration": 1496,
    "start_time": "2022-01-20T08:40:04.364Z"
   },
   {
    "duration": 1100,
    "start_time": "2022-01-20T08:40:05.863Z"
   },
   {
    "duration": 27,
    "start_time": "2022-01-20T08:40:06.966Z"
   },
   {
    "duration": 184,
    "start_time": "2022-01-20T08:40:06.996Z"
   },
   {
    "duration": 60,
    "start_time": "2022-01-20T08:40:07.182Z"
   },
   {
    "duration": 17,
    "start_time": "2022-01-20T08:40:07.245Z"
   },
   {
    "duration": 76,
    "start_time": "2022-01-20T08:40:07.265Z"
   },
   {
    "duration": 807,
    "start_time": "2022-01-20T08:40:07.360Z"
   },
   {
    "duration": 26,
    "start_time": "2022-01-20T08:40:08.172Z"
   },
   {
    "duration": 168,
    "start_time": "2022-01-20T08:40:08.201Z"
   },
   {
    "duration": 104,
    "start_time": "2022-01-20T08:40:08.371Z"
   },
   {
    "duration": 163,
    "start_time": "2022-01-20T08:40:08.478Z"
   },
   {
    "duration": 197,
    "start_time": "2022-01-20T08:40:08.644Z"
   },
   {
    "duration": 129,
    "start_time": "2022-01-20T08:40:08.844Z"
   },
   {
    "duration": 17,
    "start_time": "2022-01-20T08:40:08.976Z"
   },
   {
    "duration": 1138,
    "start_time": "2022-01-20T08:40:08.996Z"
   },
   {
    "duration": 54,
    "start_time": "2022-01-20T08:40:10.137Z"
   },
   {
    "duration": 7,
    "start_time": "2022-01-20T08:40:10.193Z"
   },
   {
    "duration": 435,
    "start_time": "2022-01-20T08:40:10.203Z"
   },
   {
    "duration": 125,
    "start_time": "2022-01-20T08:40:10.641Z"
   },
   {
    "duration": 516,
    "start_time": "2022-01-20T08:49:02.707Z"
   },
   {
    "duration": 1530,
    "start_time": "2022-01-20T08:49:40.021Z"
   },
   {
    "duration": 1067,
    "start_time": "2022-01-20T08:49:41.553Z"
   },
   {
    "duration": 37,
    "start_time": "2022-01-20T08:49:42.624Z"
   },
   {
    "duration": 170,
    "start_time": "2022-01-20T08:49:42.664Z"
   },
   {
    "duration": 63,
    "start_time": "2022-01-20T08:49:42.836Z"
   },
   {
    "duration": 6,
    "start_time": "2022-01-20T08:49:42.902Z"
   },
   {
    "duration": 94,
    "start_time": "2022-01-20T08:49:42.911Z"
   },
   {
    "duration": 792,
    "start_time": "2022-01-20T08:49:43.008Z"
   },
   {
    "duration": 30,
    "start_time": "2022-01-20T08:49:43.804Z"
   },
   {
    "duration": 168,
    "start_time": "2022-01-20T08:49:43.836Z"
   },
   {
    "duration": 98,
    "start_time": "2022-01-20T08:49:44.007Z"
   },
   {
    "duration": 163,
    "start_time": "2022-01-20T08:49:44.107Z"
   },
   {
    "duration": 201,
    "start_time": "2022-01-20T08:49:44.273Z"
   },
   {
    "duration": 128,
    "start_time": "2022-01-20T08:49:44.476Z"
   },
   {
    "duration": 17,
    "start_time": "2022-01-20T08:49:44.606Z"
   },
   {
    "duration": 1141,
    "start_time": "2022-01-20T08:49:44.625Z"
   },
   {
    "duration": 40,
    "start_time": "2022-01-20T08:49:45.768Z"
   },
   {
    "duration": 5,
    "start_time": "2022-01-20T08:49:45.811Z"
   },
   {
    "duration": 452,
    "start_time": "2022-01-20T08:49:45.818Z"
   },
   {
    "duration": 509,
    "start_time": "2022-01-20T08:49:46.272Z"
   },
   {
    "duration": 46,
    "start_time": "2022-01-20T08:49:46.738Z"
   },
   {
    "duration": 40,
    "start_time": "2022-01-20T08:49:46.745Z"
   },
   {
    "duration": 147,
    "start_time": "2022-01-20T08:50:37.732Z"
   },
   {
    "duration": 135,
    "start_time": "2022-01-20T08:50:42.641Z"
   },
   {
    "duration": 4,
    "start_time": "2022-01-20T08:50:44.437Z"
   },
   {
    "duration": 347,
    "start_time": "2022-01-20T08:51:02.290Z"
   },
   {
    "duration": 380,
    "start_time": "2022-01-20T08:51:16.587Z"
   },
   {
    "duration": 1571,
    "start_time": "2022-01-20T08:51:45.488Z"
   },
   {
    "duration": 1078,
    "start_time": "2022-01-20T08:51:47.062Z"
   },
   {
    "duration": 48,
    "start_time": "2022-01-20T08:51:48.144Z"
   },
   {
    "duration": 170,
    "start_time": "2022-01-20T08:51:48.195Z"
   },
   {
    "duration": 61,
    "start_time": "2022-01-20T08:51:48.368Z"
   },
   {
    "duration": 6,
    "start_time": "2022-01-20T08:51:48.432Z"
   },
   {
    "duration": 76,
    "start_time": "2022-01-20T08:51:48.460Z"
   },
   {
    "duration": 800,
    "start_time": "2022-01-20T08:51:48.563Z"
   },
   {
    "duration": 53,
    "start_time": "2022-01-20T08:51:49.367Z"
   },
   {
    "duration": 263,
    "start_time": "2022-01-20T08:51:49.428Z"
   },
   {
    "duration": 167,
    "start_time": "2022-01-20T08:51:49.700Z"
   },
   {
    "duration": 247,
    "start_time": "2022-01-20T08:51:49.870Z"
   },
   {
    "duration": 196,
    "start_time": "2022-01-20T08:51:50.120Z"
   },
   {
    "duration": 132,
    "start_time": "2022-01-20T08:51:50.319Z"
   },
   {
    "duration": 28,
    "start_time": "2022-01-20T08:51:50.453Z"
   },
   {
    "duration": 1130,
    "start_time": "2022-01-20T08:51:50.484Z"
   },
   {
    "duration": 52,
    "start_time": "2022-01-20T08:51:51.617Z"
   },
   {
    "duration": 6,
    "start_time": "2022-01-20T08:51:51.671Z"
   },
   {
    "duration": 416,
    "start_time": "2022-01-20T08:51:51.680Z"
   },
   {
    "duration": 155,
    "start_time": "2022-01-20T08:51:52.099Z"
   },
   {
    "duration": 131,
    "start_time": "2022-01-20T08:51:52.259Z"
   },
   {
    "duration": 4,
    "start_time": "2022-01-20T08:51:52.392Z"
   },
   {
    "duration": 375,
    "start_time": "2022-01-20T08:51:52.399Z"
   },
   {
    "duration": 26335,
    "start_time": "2022-01-20T08:52:10.128Z"
   },
   {
    "duration": 1503,
    "start_time": "2022-01-20T08:53:05.456Z"
   },
   {
    "duration": 1136,
    "start_time": "2022-01-20T08:53:06.962Z"
   },
   {
    "duration": 29,
    "start_time": "2022-01-20T08:53:08.102Z"
   },
   {
    "duration": 179,
    "start_time": "2022-01-20T08:53:08.135Z"
   },
   {
    "duration": 74,
    "start_time": "2022-01-20T08:53:08.316Z"
   },
   {
    "duration": 6,
    "start_time": "2022-01-20T08:53:08.392Z"
   },
   {
    "duration": 95,
    "start_time": "2022-01-20T08:53:08.400Z"
   },
   {
    "duration": 772,
    "start_time": "2022-01-20T08:53:08.498Z"
   },
   {
    "duration": 26,
    "start_time": "2022-01-20T08:53:09.274Z"
   },
   {
    "duration": 171,
    "start_time": "2022-01-20T08:53:09.302Z"
   },
   {
    "duration": 105,
    "start_time": "2022-01-20T08:53:09.476Z"
   },
   {
    "duration": 166,
    "start_time": "2022-01-20T08:53:09.583Z"
   },
   {
    "duration": 201,
    "start_time": "2022-01-20T08:53:09.752Z"
   },
   {
    "duration": 138,
    "start_time": "2022-01-20T08:53:09.955Z"
   },
   {
    "duration": 18,
    "start_time": "2022-01-20T08:53:10.096Z"
   },
   {
    "duration": 1151,
    "start_time": "2022-01-20T08:53:10.117Z"
   },
   {
    "duration": 41,
    "start_time": "2022-01-20T08:53:11.270Z"
   },
   {
    "duration": 6,
    "start_time": "2022-01-20T08:53:11.313Z"
   },
   {
    "duration": 438,
    "start_time": "2022-01-20T08:53:11.322Z"
   },
   {
    "duration": 155,
    "start_time": "2022-01-20T08:53:11.763Z"
   },
   {
    "duration": 130,
    "start_time": "2022-01-20T08:53:11.920Z"
   },
   {
    "duration": 8,
    "start_time": "2022-01-20T08:53:12.052Z"
   },
   {
    "duration": 4,
    "start_time": "2022-01-20T08:53:12.064Z"
   },
   {
    "duration": 24496,
    "start_time": "2022-01-20T08:53:12.070Z"
   },
   {
    "duration": 390,
    "start_time": "2022-01-20T08:53:36.568Z"
   },
   {
    "duration": 375,
    "start_time": "2022-01-20T08:53:36.960Z"
   },
   {
    "duration": 1497,
    "start_time": "2022-01-20T08:57:10.666Z"
   },
   {
    "duration": 1094,
    "start_time": "2022-01-20T08:57:12.166Z"
   },
   {
    "duration": 29,
    "start_time": "2022-01-20T08:57:13.264Z"
   },
   {
    "duration": 181,
    "start_time": "2022-01-20T08:57:13.296Z"
   },
   {
    "duration": 60,
    "start_time": "2022-01-20T08:57:13.479Z"
   },
   {
    "duration": 20,
    "start_time": "2022-01-20T08:57:13.541Z"
   },
   {
    "duration": 71,
    "start_time": "2022-01-20T08:57:13.563Z"
   },
   {
    "duration": 825,
    "start_time": "2022-01-20T08:57:13.636Z"
   },
   {
    "duration": 26,
    "start_time": "2022-01-20T08:57:14.465Z"
   },
   {
    "duration": 165,
    "start_time": "2022-01-20T08:57:14.494Z"
   },
   {
    "duration": 108,
    "start_time": "2022-01-20T08:57:14.661Z"
   },
   {
    "duration": 162,
    "start_time": "2022-01-20T08:57:14.772Z"
   },
   {
    "duration": 213,
    "start_time": "2022-01-20T08:57:14.937Z"
   },
   {
    "duration": 136,
    "start_time": "2022-01-20T08:57:15.152Z"
   },
   {
    "duration": 16,
    "start_time": "2022-01-20T08:57:15.290Z"
   },
   {
    "duration": 1150,
    "start_time": "2022-01-20T08:57:15.309Z"
   },
   {
    "duration": 41,
    "start_time": "2022-01-20T08:57:16.461Z"
   },
   {
    "duration": 5,
    "start_time": "2022-01-20T08:57:16.504Z"
   },
   {
    "duration": 427,
    "start_time": "2022-01-20T08:57:16.511Z"
   },
   {
    "duration": 156,
    "start_time": "2022-01-20T08:57:16.941Z"
   },
   {
    "duration": 135,
    "start_time": "2022-01-20T08:57:17.099Z"
   },
   {
    "duration": 5,
    "start_time": "2022-01-20T08:57:17.237Z"
   },
   {
    "duration": 15,
    "start_time": "2022-01-20T08:57:17.245Z"
   },
   {
    "duration": 25408,
    "start_time": "2022-01-20T08:57:17.263Z"
   },
   {
    "duration": 695,
    "start_time": "2022-01-20T08:57:42.674Z"
   },
   {
    "duration": 866,
    "start_time": "2022-01-20T08:57:43.460Z"
   },
   {
    "duration": 1629,
    "start_time": "2022-01-20T08:58:38.944Z"
   },
   {
    "duration": 1093,
    "start_time": "2022-01-20T08:58:40.576Z"
   },
   {
    "duration": 28,
    "start_time": "2022-01-20T08:58:41.672Z"
   },
   {
    "duration": 184,
    "start_time": "2022-01-20T08:58:41.703Z"
   },
   {
    "duration": 75,
    "start_time": "2022-01-20T08:58:41.890Z"
   },
   {
    "duration": 7,
    "start_time": "2022-01-20T08:58:41.968Z"
   },
   {
    "duration": 93,
    "start_time": "2022-01-20T08:58:41.977Z"
   },
   {
    "duration": 801,
    "start_time": "2022-01-20T08:58:42.073Z"
   },
   {
    "duration": 26,
    "start_time": "2022-01-20T08:58:42.878Z"
   },
   {
    "duration": 164,
    "start_time": "2022-01-20T08:58:42.907Z"
   },
   {
    "duration": 109,
    "start_time": "2022-01-20T08:58:43.073Z"
   },
   {
    "duration": 158,
    "start_time": "2022-01-20T08:58:43.184Z"
   },
   {
    "duration": 197,
    "start_time": "2022-01-20T08:58:43.345Z"
   },
   {
    "duration": 132,
    "start_time": "2022-01-20T08:58:43.544Z"
   },
   {
    "duration": 16,
    "start_time": "2022-01-20T08:58:43.678Z"
   },
   {
    "duration": 1148,
    "start_time": "2022-01-20T08:58:43.696Z"
   },
   {
    "duration": 48,
    "start_time": "2022-01-20T08:58:44.847Z"
   },
   {
    "duration": 5,
    "start_time": "2022-01-20T08:58:44.898Z"
   },
   {
    "duration": 417,
    "start_time": "2022-01-20T08:58:44.906Z"
   },
   {
    "duration": 150,
    "start_time": "2022-01-20T08:58:45.326Z"
   },
   {
    "duration": 132,
    "start_time": "2022-01-20T08:58:45.479Z"
   },
   {
    "duration": 4,
    "start_time": "2022-01-20T08:58:45.614Z"
   },
   {
    "duration": 5,
    "start_time": "2022-01-20T08:58:45.620Z"
   },
   {
    "duration": 24534,
    "start_time": "2022-01-20T08:58:45.628Z"
   },
   {
    "duration": 699,
    "start_time": "2022-01-20T08:59:10.166Z"
   },
   {
    "duration": 6,
    "start_time": "2022-01-20T08:59:10.868Z"
   },
   {
    "duration": 4,
    "start_time": "2022-01-20T08:59:10.959Z"
   },
   {
    "duration": 1564,
    "start_time": "2022-01-20T09:03:03.896Z"
   },
   {
    "duration": 1084,
    "start_time": "2022-01-20T09:03:05.463Z"
   },
   {
    "duration": 27,
    "start_time": "2022-01-20T09:03:06.550Z"
   },
   {
    "duration": 181,
    "start_time": "2022-01-20T09:03:06.579Z"
   },
   {
    "duration": 66,
    "start_time": "2022-01-20T09:03:06.763Z"
   },
   {
    "duration": 5,
    "start_time": "2022-01-20T09:03:06.831Z"
   },
   {
    "duration": 87,
    "start_time": "2022-01-20T09:03:06.838Z"
   },
   {
    "duration": 847,
    "start_time": "2022-01-20T09:03:06.927Z"
   },
   {
    "duration": 27,
    "start_time": "2022-01-20T09:03:07.781Z"
   },
   {
    "duration": 187,
    "start_time": "2022-01-20T09:03:07.811Z"
   },
   {
    "duration": 105,
    "start_time": "2022-01-20T09:03:08.005Z"
   },
   {
    "duration": 162,
    "start_time": "2022-01-20T09:03:08.112Z"
   },
   {
    "duration": 191,
    "start_time": "2022-01-20T09:03:08.276Z"
   },
   {
    "duration": 130,
    "start_time": "2022-01-20T09:03:08.470Z"
   },
   {
    "duration": 16,
    "start_time": "2022-01-20T09:03:08.602Z"
   },
   {
    "duration": 1231,
    "start_time": "2022-01-20T09:03:08.621Z"
   },
   {
    "duration": 41,
    "start_time": "2022-01-20T09:03:09.859Z"
   },
   {
    "duration": 4,
    "start_time": "2022-01-20T09:03:09.903Z"
   },
   {
    "duration": 433,
    "start_time": "2022-01-20T09:03:09.910Z"
   },
   {
    "duration": 153,
    "start_time": "2022-01-20T09:03:10.345Z"
   },
   {
    "duration": 131,
    "start_time": "2022-01-20T09:03:10.501Z"
   },
   {
    "duration": 3,
    "start_time": "2022-01-20T09:03:10.635Z"
   },
   {
    "duration": 5,
    "start_time": "2022-01-20T09:03:10.641Z"
   },
   {
    "duration": 24211,
    "start_time": "2022-01-20T09:03:10.660Z"
   },
   {
    "duration": 689,
    "start_time": "2022-01-20T09:03:34.873Z"
   },
   {
    "duration": 99,
    "start_time": "2022-01-20T09:03:35.565Z"
   },
   {
    "duration": 1674,
    "start_time": "2022-01-20T09:13:00.505Z"
   },
   {
    "duration": 1071,
    "start_time": "2022-01-20T09:13:02.182Z"
   },
   {
    "duration": 29,
    "start_time": "2022-01-20T09:13:03.256Z"
   },
   {
    "duration": 184,
    "start_time": "2022-01-20T09:13:03.289Z"
   },
   {
    "duration": 61,
    "start_time": "2022-01-20T09:13:03.476Z"
   },
   {
    "duration": 21,
    "start_time": "2022-01-20T09:13:03.539Z"
   },
   {
    "duration": 71,
    "start_time": "2022-01-20T09:13:03.562Z"
   },
   {
    "duration": 859,
    "start_time": "2022-01-20T09:13:03.636Z"
   },
   {
    "duration": 25,
    "start_time": "2022-01-20T09:13:04.499Z"
   },
   {
    "duration": 164,
    "start_time": "2022-01-20T09:13:04.527Z"
   },
   {
    "duration": 105,
    "start_time": "2022-01-20T09:13:04.694Z"
   },
   {
    "duration": 168,
    "start_time": "2022-01-20T09:13:04.801Z"
   },
   {
    "duration": 198,
    "start_time": "2022-01-20T09:13:04.971Z"
   },
   {
    "duration": 131,
    "start_time": "2022-01-20T09:13:05.171Z"
   },
   {
    "duration": 16,
    "start_time": "2022-01-20T09:13:05.304Z"
   },
   {
    "duration": 1144,
    "start_time": "2022-01-20T09:13:05.322Z"
   },
   {
    "duration": 41,
    "start_time": "2022-01-20T09:13:06.468Z"
   },
   {
    "duration": 5,
    "start_time": "2022-01-20T09:13:06.511Z"
   },
   {
    "duration": 436,
    "start_time": "2022-01-20T09:13:06.518Z"
   },
   {
    "duration": 124,
    "start_time": "2022-01-20T09:13:06.957Z"
   },
   {
    "duration": 171,
    "start_time": "2022-01-20T09:13:06.912Z"
   },
   {
    "duration": 167,
    "start_time": "2022-01-20T09:13:06.918Z"
   },
   {
    "duration": 164,
    "start_time": "2022-01-20T09:13:06.922Z"
   },
   {
    "duration": 163,
    "start_time": "2022-01-20T09:13:06.925Z"
   },
   {
    "duration": 161,
    "start_time": "2022-01-20T09:13:06.928Z"
   },
   {
    "duration": 153,
    "start_time": "2022-01-20T09:13:06.938Z"
   },
   {
    "duration": 150,
    "start_time": "2022-01-20T09:13:06.942Z"
   },
   {
    "duration": 1709,
    "start_time": "2022-01-20T09:30:49.875Z"
   },
   {
    "duration": 1094,
    "start_time": "2022-01-20T09:30:51.586Z"
   },
   {
    "duration": 27,
    "start_time": "2022-01-20T09:30:52.683Z"
   },
   {
    "duration": 180,
    "start_time": "2022-01-20T09:30:52.713Z"
   },
   {
    "duration": 69,
    "start_time": "2022-01-20T09:30:52.896Z"
   },
   {
    "duration": 7,
    "start_time": "2022-01-20T09:30:52.969Z"
   },
   {
    "duration": 129,
    "start_time": "2022-01-20T09:30:52.979Z"
   },
   {
    "duration": 1068,
    "start_time": "2022-01-20T09:30:53.114Z"
   },
   {
    "duration": 42,
    "start_time": "2022-01-20T09:30:54.187Z"
   },
   {
    "duration": 259,
    "start_time": "2022-01-20T09:30:54.232Z"
   },
   {
    "duration": 175,
    "start_time": "2022-01-20T09:30:54.495Z"
   },
   {
    "duration": 244,
    "start_time": "2022-01-20T09:30:54.673Z"
   },
   {
    "duration": 301,
    "start_time": "2022-01-20T09:30:54.921Z"
   },
   {
    "duration": 204,
    "start_time": "2022-01-20T09:30:55.225Z"
   },
   {
    "duration": 32,
    "start_time": "2022-01-20T09:30:55.433Z"
   },
   {
    "duration": 1743,
    "start_time": "2022-01-20T09:30:55.469Z"
   },
   {
    "duration": 63,
    "start_time": "2022-01-20T09:30:57.215Z"
   },
   {
    "duration": 7,
    "start_time": "2022-01-20T09:30:57.281Z"
   },
   {
    "duration": 629,
    "start_time": "2022-01-20T09:30:57.291Z"
   },
   {
    "duration": 162,
    "start_time": "2022-01-20T09:30:57.924Z"
   },
   {
    "duration": 157,
    "start_time": "2022-01-20T09:30:58.090Z"
   },
   {
    "duration": 9,
    "start_time": "2022-01-20T09:30:58.250Z"
   },
   {
    "duration": 4,
    "start_time": "2022-01-20T09:30:58.265Z"
   },
   {
    "duration": 26890,
    "start_time": "2022-01-20T09:30:58.272Z"
   },
   {
    "duration": 696,
    "start_time": "2022-01-20T09:31:25.165Z"
   },
   {
    "duration": 9,
    "start_time": "2022-01-20T09:31:25.864Z"
   },
   {
    "duration": 1523,
    "start_time": "2022-01-20T09:37:28.636Z"
   },
   {
    "duration": 1107,
    "start_time": "2022-01-20T09:37:30.161Z"
   },
   {
    "duration": 34,
    "start_time": "2022-01-20T09:37:31.272Z"
   },
   {
    "duration": 177,
    "start_time": "2022-01-20T09:37:31.309Z"
   },
   {
    "duration": 62,
    "start_time": "2022-01-20T09:37:31.488Z"
   },
   {
    "duration": 12,
    "start_time": "2022-01-20T09:37:31.561Z"
   },
   {
    "duration": 90,
    "start_time": "2022-01-20T09:37:31.575Z"
   },
   {
    "duration": 790,
    "start_time": "2022-01-20T09:37:31.669Z"
   },
   {
    "duration": 29,
    "start_time": "2022-01-20T09:37:32.463Z"
   },
   {
    "duration": 164,
    "start_time": "2022-01-20T09:37:32.495Z"
   },
   {
    "duration": 109,
    "start_time": "2022-01-20T09:37:32.662Z"
   },
   {
    "duration": 170,
    "start_time": "2022-01-20T09:37:32.773Z"
   },
   {
    "duration": 203,
    "start_time": "2022-01-20T09:37:32.945Z"
   },
   {
    "duration": 136,
    "start_time": "2022-01-20T09:37:33.151Z"
   },
   {
    "duration": 16,
    "start_time": "2022-01-20T09:37:33.290Z"
   },
   {
    "duration": 1157,
    "start_time": "2022-01-20T09:37:33.308Z"
   },
   {
    "duration": 41,
    "start_time": "2022-01-20T09:37:34.467Z"
   },
   {
    "duration": 5,
    "start_time": "2022-01-20T09:37:34.510Z"
   },
   {
    "duration": 461,
    "start_time": "2022-01-20T09:37:34.518Z"
   },
   {
    "duration": 158,
    "start_time": "2022-01-20T09:37:34.981Z"
   },
   {
    "duration": 139,
    "start_time": "2022-01-20T09:37:35.142Z"
   },
   {
    "duration": 4,
    "start_time": "2022-01-20T09:37:35.283Z"
   },
   {
    "duration": 5,
    "start_time": "2022-01-20T09:37:35.292Z"
   },
   {
    "duration": 24171,
    "start_time": "2022-01-20T09:37:35.300Z"
   },
   {
    "duration": 690,
    "start_time": "2022-01-20T09:37:59.474Z"
   },
   {
    "duration": 97,
    "start_time": "2022-01-20T09:38:00.167Z"
   },
   {
    "duration": 7,
    "start_time": "2022-01-20T09:38:00.267Z"
   },
   {
    "duration": 526,
    "start_time": "2022-01-20T09:38:00.277Z"
   },
   {
    "duration": 53,
    "start_time": "2022-01-20T09:38:00.753Z"
   },
   {
    "duration": 50,
    "start_time": "2022-01-20T09:38:00.758Z"
   },
   {
    "duration": 48,
    "start_time": "2022-01-20T09:38:00.762Z"
   },
   {
    "duration": 394,
    "start_time": "2022-01-20T09:38:39.011Z"
   },
   {
    "duration": 2112,
    "start_time": "2022-01-20T09:38:56.273Z"
   },
   {
    "duration": 1564,
    "start_time": "2022-01-20T09:38:58.389Z"
   },
   {
    "duration": 28,
    "start_time": "2022-01-20T09:38:59.956Z"
   },
   {
    "duration": 190,
    "start_time": "2022-01-20T09:38:59.987Z"
   },
   {
    "duration": 62,
    "start_time": "2022-01-20T09:39:00.179Z"
   },
   {
    "duration": 17,
    "start_time": "2022-01-20T09:39:00.260Z"
   },
   {
    "duration": 87,
    "start_time": "2022-01-20T09:39:00.280Z"
   },
   {
    "duration": 1253,
    "start_time": "2022-01-20T09:39:00.371Z"
   },
   {
    "duration": 35,
    "start_time": "2022-01-20T09:39:01.628Z"
   },
   {
    "duration": 170,
    "start_time": "2022-01-20T09:39:01.666Z"
   },
   {
    "duration": 113,
    "start_time": "2022-01-20T09:39:01.838Z"
   },
   {
    "duration": 165,
    "start_time": "2022-01-20T09:39:01.960Z"
   },
   {
    "duration": 207,
    "start_time": "2022-01-20T09:39:02.127Z"
   },
   {
    "duration": 151,
    "start_time": "2022-01-20T09:39:02.336Z"
   },
   {
    "duration": 17,
    "start_time": "2022-01-20T09:39:02.490Z"
   },
   {
    "duration": 1293,
    "start_time": "2022-01-20T09:39:02.509Z"
   },
   {
    "duration": 58,
    "start_time": "2022-01-20T09:39:03.805Z"
   },
   {
    "duration": 4,
    "start_time": "2022-01-20T09:39:03.866Z"
   },
   {
    "duration": 548,
    "start_time": "2022-01-20T09:39:03.873Z"
   },
   {
    "duration": 167,
    "start_time": "2022-01-20T09:39:04.424Z"
   },
   {
    "duration": 135,
    "start_time": "2022-01-20T09:39:04.594Z"
   },
   {
    "duration": 4,
    "start_time": "2022-01-20T09:39:04.731Z"
   },
   {
    "duration": 18,
    "start_time": "2022-01-20T09:39:04.742Z"
   },
   {
    "duration": 25012,
    "start_time": "2022-01-20T09:39:04.762Z"
   },
   {
    "duration": 780,
    "start_time": "2022-01-20T09:39:29.778Z"
   },
   {
    "duration": 9,
    "start_time": "2022-01-20T09:39:30.561Z"
   },
   {
    "duration": 29,
    "start_time": "2022-01-20T09:39:30.573Z"
   },
   {
    "duration": 25,
    "start_time": "2022-01-20T09:39:30.605Z"
   },
   {
    "duration": 485,
    "start_time": "2022-01-20T09:39:30.633Z"
   },
   {
    "duration": 298,
    "start_time": "2022-01-20T09:39:31.120Z"
   },
   {
    "duration": 370,
    "start_time": "2022-01-20T09:39:31.420Z"
   },
   {
    "duration": 1492,
    "start_time": "2022-01-20T09:42:11.379Z"
   },
   {
    "duration": 1059,
    "start_time": "2022-01-20T09:42:12.874Z"
   },
   {
    "duration": 32,
    "start_time": "2022-01-20T09:42:13.936Z"
   },
   {
    "duration": 176,
    "start_time": "2022-01-20T09:42:13.971Z"
   },
   {
    "duration": 65,
    "start_time": "2022-01-20T09:42:14.149Z"
   },
   {
    "duration": 8,
    "start_time": "2022-01-20T09:42:14.216Z"
   },
   {
    "duration": 94,
    "start_time": "2022-01-20T09:42:14.226Z"
   },
   {
    "duration": 817,
    "start_time": "2022-01-20T09:42:14.326Z"
   },
   {
    "duration": 28,
    "start_time": "2022-01-20T09:42:15.147Z"
   },
   {
    "duration": 168,
    "start_time": "2022-01-20T09:42:15.178Z"
   },
   {
    "duration": 111,
    "start_time": "2022-01-20T09:42:15.348Z"
   },
   {
    "duration": 154,
    "start_time": "2022-01-20T09:42:15.462Z"
   },
   {
    "duration": 200,
    "start_time": "2022-01-20T09:42:15.618Z"
   },
   {
    "duration": 134,
    "start_time": "2022-01-20T09:42:15.820Z"
   },
   {
    "duration": 15,
    "start_time": "2022-01-20T09:42:15.960Z"
   },
   {
    "duration": 1156,
    "start_time": "2022-01-20T09:42:15.977Z"
   },
   {
    "duration": 54,
    "start_time": "2022-01-20T09:42:17.135Z"
   },
   {
    "duration": 5,
    "start_time": "2022-01-20T09:42:17.192Z"
   },
   {
    "duration": 414,
    "start_time": "2022-01-20T09:42:17.199Z"
   },
   {
    "duration": 154,
    "start_time": "2022-01-20T09:42:17.616Z"
   },
   {
    "duration": 508,
    "start_time": "2022-01-20T09:42:17.772Z"
   },
   {
    "duration": 97,
    "start_time": "2022-01-20T09:42:18.186Z"
   },
   {
    "duration": 95,
    "start_time": "2022-01-20T09:42:18.190Z"
   },
   {
    "duration": 93,
    "start_time": "2022-01-20T09:42:18.193Z"
   },
   {
    "duration": 85,
    "start_time": "2022-01-20T09:42:18.203Z"
   },
   {
    "duration": 81,
    "start_time": "2022-01-20T09:42:18.208Z"
   },
   {
    "duration": 79,
    "start_time": "2022-01-20T09:42:18.212Z"
   },
   {
    "duration": 77,
    "start_time": "2022-01-20T09:42:18.216Z"
   },
   {
    "duration": 75,
    "start_time": "2022-01-20T09:42:18.219Z"
   },
   {
    "duration": 75,
    "start_time": "2022-01-20T09:42:18.221Z"
   },
   {
    "duration": 74,
    "start_time": "2022-01-20T09:42:18.223Z"
   },
   {
    "duration": 1633,
    "start_time": "2022-01-20T09:45:38.933Z"
   },
   {
    "duration": 1088,
    "start_time": "2022-01-20T09:45:40.568Z"
   },
   {
    "duration": 28,
    "start_time": "2022-01-20T09:45:41.660Z"
   },
   {
    "duration": 178,
    "start_time": "2022-01-20T09:45:41.691Z"
   },
   {
    "duration": 60,
    "start_time": "2022-01-20T09:45:41.872Z"
   },
   {
    "duration": 6,
    "start_time": "2022-01-20T09:45:41.934Z"
   },
   {
    "duration": 88,
    "start_time": "2022-01-20T09:45:41.942Z"
   },
   {
    "duration": 971,
    "start_time": "2022-01-20T09:45:42.032Z"
   },
   {
    "duration": 25,
    "start_time": "2022-01-20T09:45:43.007Z"
   },
   {
    "duration": 170,
    "start_time": "2022-01-20T09:45:43.036Z"
   },
   {
    "duration": 103,
    "start_time": "2022-01-20T09:45:43.209Z"
   },
   {
    "duration": 165,
    "start_time": "2022-01-20T09:45:43.314Z"
   },
   {
    "duration": 203,
    "start_time": "2022-01-20T09:45:43.481Z"
   },
   {
    "duration": 140,
    "start_time": "2022-01-20T09:45:43.686Z"
   },
   {
    "duration": 16,
    "start_time": "2022-01-20T09:45:43.829Z"
   },
   {
    "duration": 1117,
    "start_time": "2022-01-20T09:45:43.847Z"
   },
   {
    "duration": 42,
    "start_time": "2022-01-20T09:45:44.967Z"
   },
   {
    "duration": 5,
    "start_time": "2022-01-20T09:45:45.011Z"
   },
   {
    "duration": 419,
    "start_time": "2022-01-20T09:45:45.019Z"
   },
   {
    "duration": 154,
    "start_time": "2022-01-20T09:45:45.441Z"
   },
   {
    "duration": 515,
    "start_time": "2022-01-20T09:45:45.598Z"
   },
   {
    "duration": 117,
    "start_time": "2022-01-20T09:45:45.999Z"
   },
   {
    "duration": 115,
    "start_time": "2022-01-20T09:45:46.003Z"
   },
   {
    "duration": 111,
    "start_time": "2022-01-20T09:45:46.008Z"
   },
   {
    "duration": 110,
    "start_time": "2022-01-20T09:45:46.011Z"
   },
   {
    "duration": 104,
    "start_time": "2022-01-20T09:45:46.018Z"
   },
   {
    "duration": 102,
    "start_time": "2022-01-20T09:45:46.021Z"
   },
   {
    "duration": 100,
    "start_time": "2022-01-20T09:45:46.025Z"
   },
   {
    "duration": 99,
    "start_time": "2022-01-20T09:45:46.028Z"
   },
   {
    "duration": 98,
    "start_time": "2022-01-20T09:45:46.031Z"
   },
   {
    "duration": 96,
    "start_time": "2022-01-20T09:45:46.034Z"
   },
   {
    "duration": 1548,
    "start_time": "2022-01-20T09:57:21.628Z"
   },
   {
    "duration": 1131,
    "start_time": "2022-01-20T09:57:23.179Z"
   },
   {
    "duration": 29,
    "start_time": "2022-01-20T09:57:24.313Z"
   },
   {
    "duration": 174,
    "start_time": "2022-01-20T09:57:24.360Z"
   },
   {
    "duration": 76,
    "start_time": "2022-01-20T09:57:24.537Z"
   },
   {
    "duration": 9,
    "start_time": "2022-01-20T09:57:24.616Z"
   },
   {
    "duration": 98,
    "start_time": "2022-01-20T09:57:24.628Z"
   },
   {
    "duration": 816,
    "start_time": "2022-01-20T09:57:24.732Z"
   },
   {
    "duration": 30,
    "start_time": "2022-01-20T09:57:25.552Z"
   },
   {
    "duration": 166,
    "start_time": "2022-01-20T09:57:25.584Z"
   },
   {
    "duration": 109,
    "start_time": "2022-01-20T09:57:25.753Z"
   },
   {
    "duration": 163,
    "start_time": "2022-01-20T09:57:25.864Z"
   },
   {
    "duration": 204,
    "start_time": "2022-01-20T09:57:26.029Z"
   },
   {
    "duration": 136,
    "start_time": "2022-01-20T09:57:26.236Z"
   },
   {
    "duration": 16,
    "start_time": "2022-01-20T09:57:26.374Z"
   },
   {
    "duration": 1136,
    "start_time": "2022-01-20T09:57:26.393Z"
   },
   {
    "duration": 59,
    "start_time": "2022-01-20T09:57:27.532Z"
   },
   {
    "duration": 6,
    "start_time": "2022-01-20T09:57:27.594Z"
   },
   {
    "duration": 425,
    "start_time": "2022-01-20T09:57:27.603Z"
   },
   {
    "duration": 160,
    "start_time": "2022-01-20T09:57:28.031Z"
   },
   {
    "duration": 134,
    "start_time": "2022-01-20T09:57:28.193Z"
   },
   {
    "duration": 5,
    "start_time": "2022-01-20T09:57:28.329Z"
   },
   {
    "duration": 7,
    "start_time": "2022-01-20T09:57:28.337Z"
   },
   {
    "duration": 23807,
    "start_time": "2022-01-20T09:57:28.360Z"
   },
   {
    "duration": 691,
    "start_time": "2022-01-20T09:57:52.170Z"
   },
   {
    "duration": 8,
    "start_time": "2022-01-20T09:57:52.865Z"
   },
   {
    "duration": 4,
    "start_time": "2022-01-20T09:57:52.961Z"
   },
   {
    "duration": 4,
    "start_time": "2022-01-20T09:57:52.968Z"
   },
   {
    "duration": 451,
    "start_time": "2022-01-20T09:57:52.974Z"
   },
   {
    "duration": 289,
    "start_time": "2022-01-20T09:57:53.427Z"
   },
   {
    "duration": 359,
    "start_time": "2022-01-20T09:57:53.718Z"
   },
   {
    "duration": 1626,
    "start_time": "2022-01-20T10:03:04.775Z"
   },
   {
    "duration": 1118,
    "start_time": "2022-01-20T10:03:06.404Z"
   },
   {
    "duration": 35,
    "start_time": "2022-01-20T10:03:07.524Z"
   },
   {
    "duration": 174,
    "start_time": "2022-01-20T10:03:07.562Z"
   },
   {
    "duration": 76,
    "start_time": "2022-01-20T10:03:07.738Z"
   },
   {
    "duration": 15,
    "start_time": "2022-01-20T10:03:07.816Z"
   },
   {
    "duration": 92,
    "start_time": "2022-01-20T10:03:07.833Z"
   },
   {
    "duration": 802,
    "start_time": "2022-01-20T10:03:07.929Z"
   },
   {
    "duration": 34,
    "start_time": "2022-01-20T10:03:08.734Z"
   },
   {
    "duration": 173,
    "start_time": "2022-01-20T10:03:08.770Z"
   },
   {
    "duration": 97,
    "start_time": "2022-01-20T10:03:08.946Z"
   },
   {
    "duration": 163,
    "start_time": "2022-01-20T10:03:09.058Z"
   },
   {
    "duration": 199,
    "start_time": "2022-01-20T10:03:09.223Z"
   },
   {
    "duration": 131,
    "start_time": "2022-01-20T10:03:09.424Z"
   },
   {
    "duration": 17,
    "start_time": "2022-01-20T10:03:09.560Z"
   },
   {
    "duration": 1160,
    "start_time": "2022-01-20T10:03:09.580Z"
   },
   {
    "duration": 49,
    "start_time": "2022-01-20T10:03:10.743Z"
   },
   {
    "duration": 5,
    "start_time": "2022-01-20T10:03:10.794Z"
   },
   {
    "duration": 430,
    "start_time": "2022-01-20T10:03:10.802Z"
   },
   {
    "duration": 75,
    "start_time": "2022-01-20T10:03:11.235Z"
   },
   {
    "duration": 18,
    "start_time": "2022-01-20T10:03:11.313Z"
   },
   {
    "duration": 168,
    "start_time": "2022-01-20T10:03:11.333Z"
   },
   {
    "duration": 127,
    "start_time": "2022-01-20T10:03:11.506Z"
   },
   {
    "duration": 4,
    "start_time": "2022-01-20T10:03:11.636Z"
   },
   {
    "duration": 17,
    "start_time": "2022-01-20T10:03:11.643Z"
   },
   {
    "duration": 23900,
    "start_time": "2022-01-20T10:03:11.662Z"
   },
   {
    "duration": 695,
    "start_time": "2022-01-20T10:03:35.565Z"
   },
   {
    "duration": 7,
    "start_time": "2022-01-20T10:03:36.263Z"
   },
   {
    "duration": 4,
    "start_time": "2022-01-20T10:03:36.274Z"
   },
   {
    "duration": 4,
    "start_time": "2022-01-20T10:03:36.280Z"
   },
   {
    "duration": 496,
    "start_time": "2022-01-20T10:03:36.286Z"
   },
   {
    "duration": 273,
    "start_time": "2022-01-20T10:03:36.784Z"
   },
   {
    "duration": 374,
    "start_time": "2022-01-20T10:03:37.060Z"
   },
   {
    "duration": 1306,
    "start_time": "2022-01-20T12:16:37.303Z"
   },
   {
    "duration": 8046,
    "start_time": "2022-01-20T12:16:38.611Z"
   },
   {
    "duration": 15,
    "start_time": "2022-01-20T12:16:46.659Z"
   },
   {
    "duration": 113,
    "start_time": "2022-01-20T12:16:46.676Z"
   },
   {
    "duration": 40,
    "start_time": "2022-01-20T12:16:46.790Z"
   },
   {
    "duration": 7,
    "start_time": "2022-01-20T12:16:46.832Z"
   },
   {
    "duration": 64,
    "start_time": "2022-01-20T12:16:46.840Z"
   },
   {
    "duration": 1043,
    "start_time": "2022-01-20T12:16:46.907Z"
   },
   {
    "duration": 18,
    "start_time": "2022-01-20T12:16:47.952Z"
   },
   {
    "duration": 110,
    "start_time": "2022-01-20T12:16:47.971Z"
   },
   {
    "duration": 67,
    "start_time": "2022-01-20T12:16:48.083Z"
   },
   {
    "duration": 112,
    "start_time": "2022-01-20T12:16:48.152Z"
   },
   {
    "duration": 127,
    "start_time": "2022-01-20T12:16:48.266Z"
   },
   {
    "duration": 80,
    "start_time": "2022-01-20T12:16:48.395Z"
   },
   {
    "duration": 9,
    "start_time": "2022-01-20T12:16:48.476Z"
   },
   {
    "duration": 777,
    "start_time": "2022-01-20T12:16:48.487Z"
   },
   {
    "duration": 22,
    "start_time": "2022-01-20T12:16:49.265Z"
   },
   {
    "duration": 7,
    "start_time": "2022-01-20T12:16:49.288Z"
   },
   {
    "duration": 372,
    "start_time": "2022-01-20T12:16:49.296Z"
   },
   {
    "duration": 58,
    "start_time": "2022-01-20T12:16:49.669Z"
   },
   {
    "duration": 10,
    "start_time": "2022-01-20T12:16:49.728Z"
   },
   {
    "duration": 126,
    "start_time": "2022-01-20T12:16:49.740Z"
   },
   {
    "duration": 58,
    "start_time": "2022-01-20T12:16:49.869Z"
   },
   {
    "duration": 3,
    "start_time": "2022-01-20T12:16:49.930Z"
   },
   {
    "duration": 30,
    "start_time": "2022-01-20T12:16:49.935Z"
   },
   {
    "duration": 20174,
    "start_time": "2022-01-20T12:16:49.967Z"
   },
   {
    "duration": 509,
    "start_time": "2022-01-20T12:17:10.228Z"
   },
   {
    "duration": 90,
    "start_time": "2022-01-20T12:17:10.739Z"
   },
   {
    "duration": 3,
    "start_time": "2022-01-20T12:17:10.831Z"
   },
   {
    "duration": 4,
    "start_time": "2022-01-20T12:17:10.836Z"
   },
   {
    "duration": 398,
    "start_time": "2022-01-20T12:17:10.842Z"
   },
   {
    "duration": 217,
    "start_time": "2022-01-20T12:17:11.242Z"
   },
   {
    "duration": 346,
    "start_time": "2022-01-20T12:17:11.461Z"
   },
   {
    "duration": 1123,
    "start_time": "2022-01-20T12:18:12.828Z"
   },
   {
    "duration": 748,
    "start_time": "2022-01-20T12:18:13.953Z"
   },
   {
    "duration": 24,
    "start_time": "2022-01-20T12:18:14.704Z"
   },
   {
    "duration": 118,
    "start_time": "2022-01-20T12:18:14.730Z"
   },
   {
    "duration": 36,
    "start_time": "2022-01-20T12:18:14.850Z"
   },
   {
    "duration": 16,
    "start_time": "2022-01-20T12:18:14.888Z"
   },
   {
    "duration": 62,
    "start_time": "2022-01-20T12:18:14.906Z"
   },
   {
    "duration": 615,
    "start_time": "2022-01-20T12:18:14.971Z"
   },
   {
    "duration": 16,
    "start_time": "2022-01-20T12:18:15.588Z"
   },
   {
    "duration": 115,
    "start_time": "2022-01-20T12:18:15.606Z"
   },
   {
    "duration": 65,
    "start_time": "2022-01-20T12:18:15.723Z"
   },
   {
    "duration": 103,
    "start_time": "2022-01-20T12:18:15.790Z"
   },
   {
    "duration": 119,
    "start_time": "2022-01-20T12:18:15.894Z"
   },
   {
    "duration": 83,
    "start_time": "2022-01-20T12:18:16.014Z"
   },
   {
    "duration": 10,
    "start_time": "2022-01-20T12:18:16.099Z"
   },
   {
    "duration": 666,
    "start_time": "2022-01-20T12:18:16.110Z"
   },
   {
    "duration": 21,
    "start_time": "2022-01-20T12:18:16.777Z"
   },
   {
    "duration": 3,
    "start_time": "2022-01-20T12:18:16.800Z"
   },
   {
    "duration": 374,
    "start_time": "2022-01-20T12:18:16.804Z"
   },
   {
    "duration": 52,
    "start_time": "2022-01-20T12:18:17.179Z"
   },
   {
    "duration": 9,
    "start_time": "2022-01-20T12:18:17.233Z"
   },
   {
    "duration": 130,
    "start_time": "2022-01-20T12:18:17.244Z"
   },
   {
    "duration": 64,
    "start_time": "2022-01-20T12:18:17.377Z"
   },
   {
    "duration": 3,
    "start_time": "2022-01-20T12:18:17.442Z"
   },
   {
    "duration": 6,
    "start_time": "2022-01-20T12:18:17.446Z"
   },
   {
    "duration": 18285,
    "start_time": "2022-01-20T12:18:17.453Z"
   },
   {
    "duration": 501,
    "start_time": "2022-01-20T12:18:35.828Z"
   },
   {
    "duration": 96,
    "start_time": "2022-01-20T12:18:36.331Z"
   },
   {
    "duration": 3,
    "start_time": "2022-01-20T12:18:36.429Z"
   },
   {
    "duration": 4,
    "start_time": "2022-01-20T12:18:36.434Z"
   },
   {
    "duration": 397,
    "start_time": "2022-01-20T12:18:36.439Z"
   },
   {
    "duration": 217,
    "start_time": "2022-01-20T12:18:36.838Z"
   },
   {
    "duration": 321,
    "start_time": "2022-01-20T12:18:37.057Z"
   },
   {
    "duration": 1113,
    "start_time": "2022-01-20T12:28:16.842Z"
   },
   {
    "duration": 775,
    "start_time": "2022-01-20T12:28:17.957Z"
   },
   {
    "duration": 16,
    "start_time": "2022-01-20T12:28:18.733Z"
   },
   {
    "duration": 124,
    "start_time": "2022-01-20T12:28:18.751Z"
   },
   {
    "duration": 35,
    "start_time": "2022-01-20T12:28:18.877Z"
   },
   {
    "duration": 14,
    "start_time": "2022-01-20T12:28:18.914Z"
   },
   {
    "duration": 55,
    "start_time": "2022-01-20T12:28:18.930Z"
   },
   {
    "duration": 670,
    "start_time": "2022-01-20T12:28:18.987Z"
   },
   {
    "duration": 17,
    "start_time": "2022-01-20T12:28:19.659Z"
   },
   {
    "duration": 120,
    "start_time": "2022-01-20T12:28:19.677Z"
   },
   {
    "duration": 74,
    "start_time": "2022-01-20T12:28:19.799Z"
   },
   {
    "duration": 106,
    "start_time": "2022-01-20T12:28:19.875Z"
   },
   {
    "duration": 124,
    "start_time": "2022-01-20T12:28:19.983Z"
   },
   {
    "duration": 83,
    "start_time": "2022-01-20T12:28:20.109Z"
   },
   {
    "duration": 10,
    "start_time": "2022-01-20T12:28:20.194Z"
   },
   {
    "duration": 661,
    "start_time": "2022-01-20T12:28:20.205Z"
   },
   {
    "duration": 22,
    "start_time": "2022-01-20T12:28:20.867Z"
   },
   {
    "duration": 3,
    "start_time": "2022-01-20T12:28:20.891Z"
   },
   {
    "duration": 370,
    "start_time": "2022-01-20T12:28:20.895Z"
   },
   {
    "duration": 46,
    "start_time": "2022-01-20T12:28:21.267Z"
   },
   {
    "duration": 20,
    "start_time": "2022-01-20T12:28:21.315Z"
   },
   {
    "duration": 126,
    "start_time": "2022-01-20T12:28:21.336Z"
   },
   {
    "duration": 50,
    "start_time": "2022-01-20T12:28:21.463Z"
   },
   {
    "duration": 2,
    "start_time": "2022-01-20T12:28:21.515Z"
   },
   {
    "duration": 8,
    "start_time": "2022-01-20T12:28:21.519Z"
   },
   {
    "duration": 17800,
    "start_time": "2022-01-20T12:28:21.529Z"
   },
   {
    "duration": 496,
    "start_time": "2022-01-20T12:28:39.332Z"
   },
   {
    "duration": 97,
    "start_time": "2022-01-20T12:28:39.830Z"
   },
   {
    "duration": 3,
    "start_time": "2022-01-20T12:28:39.929Z"
   },
   {
    "duration": 5,
    "start_time": "2022-01-20T12:28:39.933Z"
   },
   {
    "duration": 344,
    "start_time": "2022-01-20T12:28:39.939Z"
   },
   {
    "duration": 224,
    "start_time": "2022-01-20T12:28:40.285Z"
   },
   {
    "duration": 333,
    "start_time": "2022-01-20T12:28:40.510Z"
   },
   {
    "duration": 243,
    "start_time": "2022-01-20T12:28:40.601Z"
   },
   {
    "duration": 238,
    "start_time": "2022-01-20T12:28:40.607Z"
   },
   {
    "duration": 334,
    "start_time": "2022-01-20T12:30:11.130Z"
   },
   {
    "duration": 450,
    "start_time": "2022-01-20T12:30:27.412Z"
   },
   {
    "duration": 1151,
    "start_time": "2022-01-20T13:45:53.895Z"
   },
   {
    "duration": 687,
    "start_time": "2022-01-20T13:45:55.048Z"
   },
   {
    "duration": 16,
    "start_time": "2022-01-20T13:45:55.737Z"
   },
   {
    "duration": 120,
    "start_time": "2022-01-20T13:45:55.755Z"
   },
   {
    "duration": 34,
    "start_time": "2022-01-20T13:45:55.877Z"
   },
   {
    "duration": 16,
    "start_time": "2022-01-20T13:45:55.913Z"
   },
   {
    "duration": 56,
    "start_time": "2022-01-20T13:45:55.930Z"
   },
   {
    "duration": 717,
    "start_time": "2022-01-20T13:45:55.989Z"
   },
   {
    "duration": 16,
    "start_time": "2022-01-20T13:45:56.709Z"
   },
   {
    "duration": 102,
    "start_time": "2022-01-20T13:45:56.727Z"
   },
   {
    "duration": 66,
    "start_time": "2022-01-20T13:45:56.830Z"
   },
   {
    "duration": 104,
    "start_time": "2022-01-20T13:45:56.897Z"
   },
   {
    "duration": 122,
    "start_time": "2022-01-20T13:45:57.003Z"
   },
   {
    "duration": 77,
    "start_time": "2022-01-20T13:45:57.126Z"
   },
   {
    "duration": 9,
    "start_time": "2022-01-20T13:45:57.205Z"
   },
   {
    "duration": 712,
    "start_time": "2022-01-20T13:45:57.215Z"
   },
   {
    "duration": 21,
    "start_time": "2022-01-20T13:45:57.929Z"
   },
   {
    "duration": 3,
    "start_time": "2022-01-20T13:45:57.952Z"
   },
   {
    "duration": 399,
    "start_time": "2022-01-20T13:45:57.956Z"
   },
   {
    "duration": 48,
    "start_time": "2022-01-20T13:45:58.357Z"
   },
   {
    "duration": 23,
    "start_time": "2022-01-20T13:45:58.407Z"
   },
   {
    "duration": 134,
    "start_time": "2022-01-20T13:45:58.432Z"
   },
   {
    "duration": 61,
    "start_time": "2022-01-20T13:45:58.569Z"
   },
   {
    "duration": 3,
    "start_time": "2022-01-20T13:45:58.632Z"
   },
   {
    "duration": 5,
    "start_time": "2022-01-20T13:45:58.637Z"
   },
   {
    "duration": 19495,
    "start_time": "2022-01-20T13:45:58.643Z"
   },
   {
    "duration": 502,
    "start_time": "2022-01-20T13:46:18.227Z"
   },
   {
    "duration": 96,
    "start_time": "2022-01-20T13:46:18.731Z"
   },
   {
    "duration": 3,
    "start_time": "2022-01-20T13:46:18.829Z"
   },
   {
    "duration": 4,
    "start_time": "2022-01-20T13:46:18.834Z"
   },
   {
    "duration": 394,
    "start_time": "2022-01-20T13:46:18.840Z"
   },
   {
    "duration": 247,
    "start_time": "2022-01-20T13:46:19.235Z"
   },
   {
    "duration": 369,
    "start_time": "2022-01-20T13:46:19.483Z"
   },
   {
    "duration": 222,
    "start_time": "2022-01-20T13:46:19.632Z"
   },
   {
    "duration": 219,
    "start_time": "2022-01-20T13:46:19.636Z"
   },
   {
    "duration": 337,
    "start_time": "2022-01-20T13:56:38.581Z"
   },
   {
    "duration": 1127,
    "start_time": "2022-01-20T13:57:15.844Z"
   },
   {
    "duration": 759,
    "start_time": "2022-01-20T13:57:16.972Z"
   },
   {
    "duration": 15,
    "start_time": "2022-01-20T13:57:17.733Z"
   },
   {
    "duration": 128,
    "start_time": "2022-01-20T13:57:17.750Z"
   },
   {
    "duration": 42,
    "start_time": "2022-01-20T13:57:17.879Z"
   },
   {
    "duration": 3,
    "start_time": "2022-01-20T13:57:17.927Z"
   },
   {
    "duration": 58,
    "start_time": "2022-01-20T13:57:17.931Z"
   },
   {
    "duration": 590,
    "start_time": "2022-01-20T13:57:17.992Z"
   },
   {
    "duration": 18,
    "start_time": "2022-01-20T13:57:18.585Z"
   },
   {
    "duration": 116,
    "start_time": "2022-01-20T13:57:18.604Z"
   },
   {
    "duration": 69,
    "start_time": "2022-01-20T13:57:18.722Z"
   },
   {
    "duration": 114,
    "start_time": "2022-01-20T13:57:18.793Z"
   },
   {
    "duration": 127,
    "start_time": "2022-01-20T13:57:18.909Z"
   },
   {
    "duration": 90,
    "start_time": "2022-01-20T13:57:19.038Z"
   },
   {
    "duration": 10,
    "start_time": "2022-01-20T13:57:19.130Z"
   },
   {
    "duration": 691,
    "start_time": "2022-01-20T13:57:19.141Z"
   },
   {
    "duration": 25,
    "start_time": "2022-01-20T13:57:19.833Z"
   },
   {
    "duration": 4,
    "start_time": "2022-01-20T13:57:19.860Z"
   },
   {
    "duration": 396,
    "start_time": "2022-01-20T13:57:19.866Z"
   },
   {
    "duration": 50,
    "start_time": "2022-01-20T13:57:20.264Z"
   },
   {
    "duration": 10,
    "start_time": "2022-01-20T13:57:20.327Z"
   },
   {
    "duration": 134,
    "start_time": "2022-01-20T13:57:20.339Z"
   },
   {
    "duration": 58,
    "start_time": "2022-01-20T13:57:20.476Z"
   },
   {
    "duration": 2,
    "start_time": "2022-01-20T13:57:20.536Z"
   },
   {
    "duration": 7,
    "start_time": "2022-01-20T13:57:20.540Z"
   },
   {
    "duration": 18989,
    "start_time": "2022-01-20T13:57:20.549Z"
   },
   {
    "duration": 595,
    "start_time": "2022-01-20T13:57:39.540Z"
   },
   {
    "duration": 92,
    "start_time": "2022-01-20T13:57:40.137Z"
   },
   {
    "duration": 18,
    "start_time": "2022-01-20T13:57:40.231Z"
   },
   {
    "duration": 10,
    "start_time": "2022-01-20T13:57:40.250Z"
   },
   {
    "duration": 395,
    "start_time": "2022-01-20T13:57:40.262Z"
   },
   {
    "duration": 222,
    "start_time": "2022-01-20T13:57:40.659Z"
   },
   {
    "duration": 354,
    "start_time": "2022-01-20T13:57:40.882Z"
   },
   {
    "duration": -68,
    "start_time": "2022-01-20T13:57:41.305Z"
   },
   {
    "duration": -75,
    "start_time": "2022-01-20T13:57:41.313Z"
   },
   {
    "duration": 11241,
    "start_time": "2022-01-20T13:59:49.628Z"
   },
   {
    "duration": 1142,
    "start_time": "2022-01-20T14:16:26.926Z"
   },
   {
    "duration": 706,
    "start_time": "2022-01-20T14:16:28.070Z"
   },
   {
    "duration": 15,
    "start_time": "2022-01-20T14:16:28.778Z"
   },
   {
    "duration": 122,
    "start_time": "2022-01-20T14:16:28.795Z"
   },
   {
    "duration": 42,
    "start_time": "2022-01-20T14:16:28.918Z"
   },
   {
    "duration": 11,
    "start_time": "2022-01-20T14:16:28.962Z"
   },
   {
    "duration": 67,
    "start_time": "2022-01-20T14:16:28.975Z"
   },
   {
    "duration": 582,
    "start_time": "2022-01-20T14:16:29.045Z"
   },
   {
    "duration": 18,
    "start_time": "2022-01-20T14:16:29.629Z"
   },
   {
    "duration": 111,
    "start_time": "2022-01-20T14:16:29.649Z"
   },
   {
    "duration": 78,
    "start_time": "2022-01-20T14:16:29.761Z"
   },
   {
    "duration": 96,
    "start_time": "2022-01-20T14:16:29.841Z"
   },
   {
    "duration": 121,
    "start_time": "2022-01-20T14:16:29.938Z"
   },
   {
    "duration": 87,
    "start_time": "2022-01-20T14:16:30.060Z"
   },
   {
    "duration": 9,
    "start_time": "2022-01-20T14:16:30.148Z"
   },
   {
    "duration": 704,
    "start_time": "2022-01-20T14:16:30.159Z"
   },
   {
    "duration": 25,
    "start_time": "2022-01-20T14:16:30.865Z"
   },
   {
    "duration": 4,
    "start_time": "2022-01-20T14:16:30.892Z"
   },
   {
    "duration": 391,
    "start_time": "2022-01-20T14:16:30.898Z"
   },
   {
    "duration": 53,
    "start_time": "2022-01-20T14:16:31.291Z"
   },
   {
    "duration": 10,
    "start_time": "2022-01-20T14:16:31.345Z"
   },
   {
    "duration": 139,
    "start_time": "2022-01-20T14:16:31.357Z"
   },
   {
    "duration": 61,
    "start_time": "2022-01-20T14:16:31.499Z"
   },
   {
    "duration": 2,
    "start_time": "2022-01-20T14:16:31.562Z"
   },
   {
    "duration": 7,
    "start_time": "2022-01-20T14:16:31.565Z"
   },
   {
    "duration": 18458,
    "start_time": "2022-01-20T14:16:31.573Z"
   },
   {
    "duration": 504,
    "start_time": "2022-01-20T14:16:50.032Z"
   },
   {
    "duration": 117,
    "start_time": "2022-01-20T14:16:50.628Z"
   },
   {
    "duration": 264,
    "start_time": "2022-01-20T14:16:50.483Z"
   },
   {
    "duration": 259,
    "start_time": "2022-01-20T14:16:50.489Z"
   },
   {
    "duration": 256,
    "start_time": "2022-01-20T14:16:50.493Z"
   },
   {
    "duration": 173,
    "start_time": "2022-01-20T14:16:50.576Z"
   },
   {
    "duration": 5,
    "start_time": "2022-01-20T14:17:03.062Z"
   },
   {
    "duration": 5,
    "start_time": "2022-01-20T14:17:34.081Z"
   },
   {
    "duration": 1221,
    "start_time": "2022-01-20T14:17:48.735Z"
   },
   {
    "duration": 749,
    "start_time": "2022-01-20T14:17:49.957Z"
   },
   {
    "duration": 24,
    "start_time": "2022-01-20T14:17:50.708Z"
   },
   {
    "duration": 121,
    "start_time": "2022-01-20T14:17:50.734Z"
   },
   {
    "duration": 40,
    "start_time": "2022-01-20T14:17:50.856Z"
   },
   {
    "duration": 13,
    "start_time": "2022-01-20T14:17:50.897Z"
   },
   {
    "duration": 69,
    "start_time": "2022-01-20T14:17:50.911Z"
   },
   {
    "duration": 620,
    "start_time": "2022-01-20T14:17:50.983Z"
   },
   {
    "duration": 17,
    "start_time": "2022-01-20T14:17:51.605Z"
   },
   {
    "duration": 121,
    "start_time": "2022-01-20T14:17:51.623Z"
   },
   {
    "duration": 70,
    "start_time": "2022-01-20T14:17:51.746Z"
   },
   {
    "duration": 105,
    "start_time": "2022-01-20T14:17:51.817Z"
   },
   {
    "duration": 130,
    "start_time": "2022-01-20T14:17:51.927Z"
   },
   {
    "duration": 95,
    "start_time": "2022-01-20T14:17:52.059Z"
   },
   {
    "duration": 10,
    "start_time": "2022-01-20T14:17:52.155Z"
   },
   {
    "duration": 758,
    "start_time": "2022-01-20T14:17:52.166Z"
   },
   {
    "duration": 23,
    "start_time": "2022-01-20T14:17:52.926Z"
   },
   {
    "duration": 3,
    "start_time": "2022-01-20T14:17:52.951Z"
   },
   {
    "duration": 401,
    "start_time": "2022-01-20T14:17:52.955Z"
   },
   {
    "duration": 51,
    "start_time": "2022-01-20T14:17:53.358Z"
   },
   {
    "duration": 23,
    "start_time": "2022-01-20T14:17:53.410Z"
   },
   {
    "duration": 143,
    "start_time": "2022-01-20T14:17:53.435Z"
   },
   {
    "duration": 60,
    "start_time": "2022-01-20T14:17:53.581Z"
   },
   {
    "duration": 3,
    "start_time": "2022-01-20T14:17:53.645Z"
   },
   {
    "duration": 22,
    "start_time": "2022-01-20T14:17:53.650Z"
   },
   {
    "duration": 19360,
    "start_time": "2022-01-20T14:17:53.674Z"
   },
   {
    "duration": 592,
    "start_time": "2022-01-20T14:18:13.037Z"
   },
   {
    "duration": 96,
    "start_time": "2022-01-20T14:18:13.631Z"
   },
   {
    "duration": 4,
    "start_time": "2022-01-20T14:18:13.729Z"
   },
   {
    "duration": 5,
    "start_time": "2022-01-20T14:18:13.734Z"
   },
   {
    "duration": 9655,
    "start_time": "2022-01-20T14:18:13.740Z"
   },
   {
    "duration": 101,
    "start_time": "2022-01-20T14:18:23.297Z"
   },
   {
    "duration": 2,
    "start_time": "2022-01-20T14:22:06.794Z"
   },
   {
    "duration": 3,
    "start_time": "2022-01-20T14:22:07.167Z"
   },
   {
    "duration": 261,
    "start_time": "2022-01-20T14:22:10.111Z"
   },
   {
    "duration": 1141,
    "start_time": "2022-01-20T14:28:53.457Z"
   },
   {
    "duration": 735,
    "start_time": "2022-01-20T14:28:54.600Z"
   },
   {
    "duration": 16,
    "start_time": "2022-01-20T14:28:55.337Z"
   },
   {
    "duration": 123,
    "start_time": "2022-01-20T14:28:55.355Z"
   },
   {
    "duration": 53,
    "start_time": "2022-01-20T14:28:55.480Z"
   },
   {
    "duration": 4,
    "start_time": "2022-01-20T14:28:55.535Z"
   },
   {
    "duration": 56,
    "start_time": "2022-01-20T14:28:55.541Z"
   },
   {
    "duration": 698,
    "start_time": "2022-01-20T14:28:55.600Z"
   },
   {
    "duration": 18,
    "start_time": "2022-01-20T14:28:56.300Z"
   },
   {
    "duration": 112,
    "start_time": "2022-01-20T14:28:56.319Z"
   },
   {
    "duration": 65,
    "start_time": "2022-01-20T14:28:56.433Z"
   },
   {
    "duration": 106,
    "start_time": "2022-01-20T14:28:56.500Z"
   },
   {
    "duration": 125,
    "start_time": "2022-01-20T14:28:56.608Z"
   },
   {
    "duration": 78,
    "start_time": "2022-01-20T14:28:56.735Z"
   },
   {
    "duration": 18,
    "start_time": "2022-01-20T14:28:56.814Z"
   },
   {
    "duration": 692,
    "start_time": "2022-01-20T14:28:56.833Z"
   },
   {
    "duration": 23,
    "start_time": "2022-01-20T14:28:57.527Z"
   },
   {
    "duration": 3,
    "start_time": "2022-01-20T14:28:57.552Z"
   },
   {
    "duration": 363,
    "start_time": "2022-01-20T14:28:57.557Z"
   },
   {
    "duration": 51,
    "start_time": "2022-01-20T14:28:57.922Z"
   },
   {
    "duration": 10,
    "start_time": "2022-01-20T14:28:57.974Z"
   },
   {
    "duration": 142,
    "start_time": "2022-01-20T14:28:57.985Z"
   },
   {
    "duration": 52,
    "start_time": "2022-01-20T14:28:58.131Z"
   },
   {
    "duration": 2,
    "start_time": "2022-01-20T14:28:58.185Z"
   },
   {
    "duration": 17,
    "start_time": "2022-01-20T14:28:58.189Z"
   },
   {
    "duration": 19020,
    "start_time": "2022-01-20T14:28:58.208Z"
   },
   {
    "duration": 500,
    "start_time": "2022-01-20T14:29:17.229Z"
   },
   {
    "duration": 97,
    "start_time": "2022-01-20T14:29:17.731Z"
   },
   {
    "duration": 3,
    "start_time": "2022-01-20T14:29:17.829Z"
   },
   {
    "duration": 5,
    "start_time": "2022-01-20T14:29:17.834Z"
   },
   {
    "duration": 345,
    "start_time": "2022-01-20T14:29:17.841Z"
   },
   {
    "duration": 10173,
    "start_time": "2022-01-20T14:29:18.187Z"
   },
   {
    "duration": 58,
    "start_time": "2022-01-20T14:29:28.304Z"
   },
   {
    "duration": 1239,
    "start_time": "2022-01-20T14:30:33.730Z"
   },
   {
    "duration": 812,
    "start_time": "2022-01-20T14:30:34.971Z"
   },
   {
    "duration": 15,
    "start_time": "2022-01-20T14:30:35.785Z"
   },
   {
    "duration": 126,
    "start_time": "2022-01-20T14:30:35.802Z"
   },
   {
    "duration": 42,
    "start_time": "2022-01-20T14:30:35.930Z"
   },
   {
    "duration": 6,
    "start_time": "2022-01-20T14:30:35.974Z"
   },
   {
    "duration": 66,
    "start_time": "2022-01-20T14:30:35.981Z"
   },
   {
    "duration": 600,
    "start_time": "2022-01-20T14:30:36.049Z"
   },
   {
    "duration": 17,
    "start_time": "2022-01-20T14:30:36.653Z"
   },
   {
    "duration": 111,
    "start_time": "2022-01-20T14:30:36.673Z"
   },
   {
    "duration": 81,
    "start_time": "2022-01-20T14:30:36.785Z"
   },
   {
    "duration": 104,
    "start_time": "2022-01-20T14:30:36.868Z"
   },
   {
    "duration": 126,
    "start_time": "2022-01-20T14:30:36.973Z"
   },
   {
    "duration": 84,
    "start_time": "2022-01-20T14:30:37.101Z"
   },
   {
    "duration": 9,
    "start_time": "2022-01-20T14:30:37.187Z"
   },
   {
    "duration": 681,
    "start_time": "2022-01-20T14:30:37.198Z"
   },
   {
    "duration": 24,
    "start_time": "2022-01-20T14:30:37.880Z"
   },
   {
    "duration": 4,
    "start_time": "2022-01-20T14:30:37.905Z"
   },
   {
    "duration": 381,
    "start_time": "2022-01-20T14:30:37.911Z"
   },
   {
    "duration": 51,
    "start_time": "2022-01-20T14:30:38.294Z"
   },
   {
    "duration": 10,
    "start_time": "2022-01-20T14:30:38.347Z"
   },
   {
    "duration": 135,
    "start_time": "2022-01-20T14:30:38.358Z"
   },
   {
    "duration": 62,
    "start_time": "2022-01-20T14:30:38.494Z"
   },
   {
    "duration": 2,
    "start_time": "2022-01-20T14:30:38.558Z"
   },
   {
    "duration": 5,
    "start_time": "2022-01-20T14:30:38.562Z"
   },
   {
    "duration": 18060,
    "start_time": "2022-01-20T14:30:38.569Z"
   },
   {
    "duration": 502,
    "start_time": "2022-01-20T14:30:56.632Z"
   },
   {
    "duration": 441,
    "start_time": "2022-01-20T14:30:57.136Z"
   },
   {
    "duration": 263,
    "start_time": "2022-01-20T14:30:57.315Z"
   },
   {
    "duration": 250,
    "start_time": "2022-01-20T14:30:57.329Z"
   },
   {
    "duration": 246,
    "start_time": "2022-01-20T14:30:57.334Z"
   },
   {
    "duration": 235,
    "start_time": "2022-01-20T14:30:57.346Z"
   },
   {
    "duration": 230,
    "start_time": "2022-01-20T14:30:57.352Z"
   },
   {
    "duration": 1137,
    "start_time": "2022-01-20T14:31:31.227Z"
   },
   {
    "duration": 734,
    "start_time": "2022-01-20T14:31:32.366Z"
   },
   {
    "duration": 16,
    "start_time": "2022-01-20T14:31:33.101Z"
   },
   {
    "duration": 114,
    "start_time": "2022-01-20T14:31:33.127Z"
   },
   {
    "duration": 42,
    "start_time": "2022-01-20T14:31:33.243Z"
   },
   {
    "duration": 6,
    "start_time": "2022-01-20T14:31:33.287Z"
   },
   {
    "duration": 65,
    "start_time": "2022-01-20T14:31:33.294Z"
   },
   {
    "duration": 578,
    "start_time": "2022-01-20T14:31:33.361Z"
   },
   {
    "duration": 18,
    "start_time": "2022-01-20T14:31:33.942Z"
   },
   {
    "duration": 115,
    "start_time": "2022-01-20T14:31:33.962Z"
   },
   {
    "duration": 71,
    "start_time": "2022-01-20T14:31:34.079Z"
   },
   {
    "duration": 115,
    "start_time": "2022-01-20T14:31:34.151Z"
   },
   {
    "duration": 207,
    "start_time": "2022-01-20T14:31:34.268Z"
   },
   {
    "duration": 180,
    "start_time": "2022-01-20T14:31:34.478Z"
   },
   {
    "duration": 13,
    "start_time": "2022-01-20T14:31:34.660Z"
   },
   {
    "duration": 778,
    "start_time": "2022-01-20T14:31:34.674Z"
   },
   {
    "duration": 23,
    "start_time": "2022-01-20T14:31:35.453Z"
   },
   {
    "duration": 3,
    "start_time": "2022-01-20T14:31:35.478Z"
   },
   {
    "duration": 363,
    "start_time": "2022-01-20T14:31:35.483Z"
   },
   {
    "duration": 48,
    "start_time": "2022-01-20T14:31:35.848Z"
   },
   {
    "duration": 10,
    "start_time": "2022-01-20T14:31:35.898Z"
   },
   {
    "duration": 144,
    "start_time": "2022-01-20T14:31:35.910Z"
   },
   {
    "duration": 55,
    "start_time": "2022-01-20T14:31:36.057Z"
   },
   {
    "duration": 3,
    "start_time": "2022-01-20T14:31:36.113Z"
   },
   {
    "duration": 11,
    "start_time": "2022-01-20T14:31:36.117Z"
   },
   {
    "duration": 17801,
    "start_time": "2022-01-20T14:31:36.129Z"
   },
   {
    "duration": 505,
    "start_time": "2022-01-20T14:31:53.932Z"
   },
   {
    "duration": 5,
    "start_time": "2022-01-20T14:31:54.527Z"
   },
   {
    "duration": 4,
    "start_time": "2022-01-20T14:31:54.534Z"
   },
   {
    "duration": 7,
    "start_time": "2022-01-20T14:31:54.539Z"
   },
   {
    "duration": 392,
    "start_time": "2022-01-20T14:31:54.547Z"
   },
   {
    "duration": 9370,
    "start_time": "2022-01-20T14:31:54.941Z"
   },
   {
    "duration": 63,
    "start_time": "2022-01-20T14:32:04.250Z"
   },
   {
    "duration": 7231,
    "start_time": "2022-01-20T14:32:14.305Z"
   },
   {
    "duration": 1269,
    "start_time": "2022-01-20T14:36:07.611Z"
   },
   {
    "duration": 730,
    "start_time": "2022-01-20T14:36:08.882Z"
   },
   {
    "duration": 20,
    "start_time": "2022-01-20T14:36:09.613Z"
   },
   {
    "duration": 114,
    "start_time": "2022-01-20T14:36:09.635Z"
   },
   {
    "duration": 42,
    "start_time": "2022-01-20T14:36:09.751Z"
   },
   {
    "duration": 6,
    "start_time": "2022-01-20T14:36:09.794Z"
   },
   {
    "duration": 70,
    "start_time": "2022-01-20T14:36:09.801Z"
   },
   {
    "duration": 777,
    "start_time": "2022-01-20T14:36:09.873Z"
   },
   {
    "duration": 18,
    "start_time": "2022-01-20T14:36:10.652Z"
   },
   {
    "duration": 114,
    "start_time": "2022-01-20T14:36:10.672Z"
   },
   {
    "duration": 66,
    "start_time": "2022-01-20T14:36:10.788Z"
   },
   {
    "duration": 109,
    "start_time": "2022-01-20T14:36:10.855Z"
   },
   {
    "duration": 122,
    "start_time": "2022-01-20T14:36:10.965Z"
   },
   {
    "duration": 99,
    "start_time": "2022-01-20T14:36:11.089Z"
   },
   {
    "duration": 9,
    "start_time": "2022-01-20T14:36:11.190Z"
   },
   {
    "duration": 696,
    "start_time": "2022-01-20T14:36:11.200Z"
   },
   {
    "duration": 30,
    "start_time": "2022-01-20T14:36:11.897Z"
   },
   {
    "duration": 3,
    "start_time": "2022-01-20T14:36:11.929Z"
   },
   {
    "duration": 387,
    "start_time": "2022-01-20T14:36:11.934Z"
   },
   {
    "duration": 49,
    "start_time": "2022-01-20T14:36:12.323Z"
   },
   {
    "duration": 11,
    "start_time": "2022-01-20T14:36:12.373Z"
   },
   {
    "duration": 136,
    "start_time": "2022-01-20T14:36:12.385Z"
   },
   {
    "duration": 436,
    "start_time": "2022-01-20T14:36:12.523Z"
   },
   {
    "duration": 3,
    "start_time": "2022-01-20T14:36:12.961Z"
   },
   {
    "duration": 5,
    "start_time": "2022-01-20T14:36:12.965Z"
   },
   {
    "duration": 17858,
    "start_time": "2022-01-20T14:36:12.971Z"
   },
   {
    "duration": 504,
    "start_time": "2022-01-20T14:36:30.831Z"
   },
   {
    "duration": 94,
    "start_time": "2022-01-20T14:36:31.337Z"
   },
   {
    "duration": 11,
    "start_time": "2022-01-20T14:36:31.432Z"
   },
   {
    "duration": 5,
    "start_time": "2022-01-20T14:36:31.444Z"
   },
   {
    "duration": 41984,
    "start_time": "2022-01-20T14:36:31.450Z"
   },
   {
    "duration": 9714,
    "start_time": "2022-01-20T14:37:13.436Z"
   },
   {
    "duration": 411,
    "start_time": "2022-01-20T14:37:23.152Z"
   },
   {
    "duration": 1173,
    "start_time": "2022-01-20T14:39:42.572Z"
   },
   {
    "duration": 739,
    "start_time": "2022-01-20T14:39:43.746Z"
   },
   {
    "duration": 16,
    "start_time": "2022-01-20T14:39:44.487Z"
   },
   {
    "duration": 127,
    "start_time": "2022-01-20T14:39:44.505Z"
   },
   {
    "duration": 44,
    "start_time": "2022-01-20T14:39:44.633Z"
   },
   {
    "duration": 6,
    "start_time": "2022-01-20T14:39:44.678Z"
   },
   {
    "duration": 69,
    "start_time": "2022-01-20T14:39:44.685Z"
   },
   {
    "duration": 583,
    "start_time": "2022-01-20T14:39:44.757Z"
   },
   {
    "duration": 17,
    "start_time": "2022-01-20T14:39:45.342Z"
   },
   {
    "duration": 107,
    "start_time": "2022-01-20T14:39:45.361Z"
   },
   {
    "duration": 73,
    "start_time": "2022-01-20T14:39:45.470Z"
   },
   {
    "duration": 98,
    "start_time": "2022-01-20T14:39:45.544Z"
   },
   {
    "duration": 123,
    "start_time": "2022-01-20T14:39:45.644Z"
   },
   {
    "duration": 82,
    "start_time": "2022-01-20T14:39:45.769Z"
   },
   {
    "duration": 10,
    "start_time": "2022-01-20T14:39:45.852Z"
   },
   {
    "duration": 683,
    "start_time": "2022-01-20T14:39:45.863Z"
   },
   {
    "duration": 23,
    "start_time": "2022-01-20T14:39:46.548Z"
   },
   {
    "duration": 4,
    "start_time": "2022-01-20T14:39:46.573Z"
   },
   {
    "duration": 404,
    "start_time": "2022-01-20T14:39:46.578Z"
   },
   {
    "duration": 53,
    "start_time": "2022-01-20T14:39:46.984Z"
   },
   {
    "duration": 12,
    "start_time": "2022-01-20T14:39:47.039Z"
   },
   {
    "duration": 136,
    "start_time": "2022-01-20T14:39:47.053Z"
   },
   {
    "duration": 429,
    "start_time": "2022-01-20T14:39:47.192Z"
   },
   {
    "duration": 2,
    "start_time": "2022-01-20T14:39:47.627Z"
   },
   {
    "duration": 9,
    "start_time": "2022-01-20T14:39:47.631Z"
   },
   {
    "duration": 17488,
    "start_time": "2022-01-20T14:39:47.641Z"
   },
   {
    "duration": 499,
    "start_time": "2022-01-20T14:40:05.130Z"
   },
   {
    "duration": 96,
    "start_time": "2022-01-20T14:40:05.631Z"
   },
   {
    "duration": 4,
    "start_time": "2022-01-20T14:40:05.729Z"
   },
   {
    "duration": 5,
    "start_time": "2022-01-20T14:40:05.735Z"
   },
   {
    "duration": 7388,
    "start_time": "2022-01-20T14:40:05.741Z"
   },
   {
    "duration": 9967,
    "start_time": "2022-01-20T14:40:13.131Z"
   },
   {
    "duration": 516,
    "start_time": "2022-01-20T14:40:23.100Z"
   },
   {
    "duration": 1129,
    "start_time": "2022-01-20T14:40:44.535Z"
   },
   {
    "duration": 721,
    "start_time": "2022-01-20T14:40:45.666Z"
   },
   {
    "duration": 15,
    "start_time": "2022-01-20T14:40:46.389Z"
   },
   {
    "duration": 123,
    "start_time": "2022-01-20T14:40:46.406Z"
   },
   {
    "duration": 48,
    "start_time": "2022-01-20T14:40:46.531Z"
   },
   {
    "duration": 6,
    "start_time": "2022-01-20T14:40:46.581Z"
   },
   {
    "duration": 71,
    "start_time": "2022-01-20T14:40:46.589Z"
   },
   {
    "duration": 583,
    "start_time": "2022-01-20T14:40:46.662Z"
   },
   {
    "duration": 17,
    "start_time": "2022-01-20T14:40:47.247Z"
   },
   {
    "duration": 102,
    "start_time": "2022-01-20T14:40:47.266Z"
   },
   {
    "duration": 69,
    "start_time": "2022-01-20T14:40:47.369Z"
   },
   {
    "duration": 140,
    "start_time": "2022-01-20T14:40:47.440Z"
   },
   {
    "duration": 174,
    "start_time": "2022-01-20T14:40:47.582Z"
   },
   {
    "duration": 129,
    "start_time": "2022-01-20T14:40:47.759Z"
   },
   {
    "duration": 14,
    "start_time": "2022-01-20T14:40:47.891Z"
   },
   {
    "duration": 811,
    "start_time": "2022-01-20T14:40:47.907Z"
   },
   {
    "duration": 23,
    "start_time": "2022-01-20T14:40:48.720Z"
   },
   {
    "duration": 4,
    "start_time": "2022-01-20T14:40:48.745Z"
   },
   {
    "duration": 373,
    "start_time": "2022-01-20T14:40:48.750Z"
   },
   {
    "duration": 49,
    "start_time": "2022-01-20T14:40:49.126Z"
   },
   {
    "duration": 10,
    "start_time": "2022-01-20T14:40:49.176Z"
   },
   {
    "duration": 137,
    "start_time": "2022-01-20T14:40:49.188Z"
   },
   {
    "duration": 449,
    "start_time": "2022-01-20T14:40:49.334Z"
   },
   {
    "duration": 3,
    "start_time": "2022-01-20T14:40:49.785Z"
   },
   {
    "duration": 5,
    "start_time": "2022-01-20T14:40:49.789Z"
   },
   {
    "duration": 17934,
    "start_time": "2022-01-20T14:40:49.796Z"
   },
   {
    "duration": 500,
    "start_time": "2022-01-20T14:41:07.732Z"
   },
   {
    "duration": 94,
    "start_time": "2022-01-20T14:41:08.234Z"
   },
   {
    "duration": 6,
    "start_time": "2022-01-20T14:41:08.330Z"
   },
   {
    "duration": 11,
    "start_time": "2022-01-20T14:41:08.337Z"
   },
   {
    "duration": 7788,
    "start_time": "2022-01-20T14:41:08.349Z"
   },
   {
    "duration": 599,
    "start_time": "2022-01-20T14:41:16.139Z"
   },
   {
    "duration": 4,
    "start_time": "2022-01-20T14:41:16.740Z"
   },
   {
    "duration": 9306,
    "start_time": "2022-01-20T14:41:16.746Z"
   },
   {
    "duration": 419,
    "start_time": "2022-01-20T14:41:26.054Z"
   },
   {
    "duration": 1143,
    "start_time": "2022-01-20T15:08:34.726Z"
   },
   {
    "duration": 739,
    "start_time": "2022-01-20T15:08:35.870Z"
   },
   {
    "duration": 20,
    "start_time": "2022-01-20T15:08:36.611Z"
   },
   {
    "duration": 121,
    "start_time": "2022-01-20T15:08:36.632Z"
   },
   {
    "duration": 42,
    "start_time": "2022-01-20T15:08:36.754Z"
   },
   {
    "duration": 8,
    "start_time": "2022-01-20T15:08:36.798Z"
   },
   {
    "duration": 63,
    "start_time": "2022-01-20T15:08:36.807Z"
   },
   {
    "duration": 577,
    "start_time": "2022-01-20T15:08:36.872Z"
   },
   {
    "duration": 17,
    "start_time": "2022-01-20T15:08:37.452Z"
   },
   {
    "duration": 115,
    "start_time": "2022-01-20T15:08:37.470Z"
   },
   {
    "duration": 70,
    "start_time": "2022-01-20T15:08:37.586Z"
   },
   {
    "duration": 103,
    "start_time": "2022-01-20T15:08:37.657Z"
   },
   {
    "duration": 119,
    "start_time": "2022-01-20T15:08:37.761Z"
   },
   {
    "duration": 83,
    "start_time": "2022-01-20T15:08:37.882Z"
   },
   {
    "duration": 10,
    "start_time": "2022-01-20T15:08:37.966Z"
   },
   {
    "duration": 686,
    "start_time": "2022-01-20T15:08:37.977Z"
   },
   {
    "duration": 23,
    "start_time": "2022-01-20T15:08:38.665Z"
   },
   {
    "duration": 4,
    "start_time": "2022-01-20T15:08:38.689Z"
   },
   {
    "duration": 372,
    "start_time": "2022-01-20T15:08:38.694Z"
   },
   {
    "duration": 49,
    "start_time": "2022-01-20T15:08:39.068Z"
   },
   {
    "duration": 11,
    "start_time": "2022-01-20T15:08:39.127Z"
   },
   {
    "duration": 131,
    "start_time": "2022-01-20T15:08:39.139Z"
   },
   {
    "duration": 441,
    "start_time": "2022-01-20T15:08:39.273Z"
   },
   {
    "duration": 3,
    "start_time": "2022-01-20T15:08:39.716Z"
   },
   {
    "duration": 9,
    "start_time": "2022-01-20T15:08:39.720Z"
   },
   {
    "duration": 17599,
    "start_time": "2022-01-20T15:08:39.730Z"
   },
   {
    "duration": 516,
    "start_time": "2022-01-20T15:08:57.330Z"
   },
   {
    "duration": 5,
    "start_time": "2022-01-20T15:08:57.928Z"
   },
   {
    "duration": 3,
    "start_time": "2022-01-20T15:08:57.934Z"
   },
   {
    "duration": 5,
    "start_time": "2022-01-20T15:08:57.938Z"
   },
   {
    "duration": 6991,
    "start_time": "2022-01-20T15:08:57.944Z"
   },
   {
    "duration": 594,
    "start_time": "2022-01-20T15:09:04.937Z"
   },
   {
    "duration": 428,
    "start_time": "2022-01-20T15:09:05.533Z"
   },
   {
    "duration": 350,
    "start_time": "2022-01-20T15:09:05.613Z"
   },
   {
    "duration": 349,
    "start_time": "2022-01-20T15:09:05.615Z"
   },
   {
    "duration": 4,
    "start_time": "2022-01-20T15:09:31.089Z"
   },
   {
    "duration": 1220,
    "start_time": "2022-01-20T15:09:42.338Z"
   },
   {
    "duration": 726,
    "start_time": "2022-01-20T15:09:43.559Z"
   },
   {
    "duration": 16,
    "start_time": "2022-01-20T15:09:44.287Z"
   },
   {
    "duration": 123,
    "start_time": "2022-01-20T15:09:44.304Z"
   },
   {
    "duration": 44,
    "start_time": "2022-01-20T15:09:44.428Z"
   },
   {
    "duration": 6,
    "start_time": "2022-01-20T15:09:44.474Z"
   },
   {
    "duration": 72,
    "start_time": "2022-01-20T15:09:44.482Z"
   },
   {
    "duration": 668,
    "start_time": "2022-01-20T15:09:44.555Z"
   },
   {
    "duration": 20,
    "start_time": "2022-01-20T15:09:45.226Z"
   },
   {
    "duration": 116,
    "start_time": "2022-01-20T15:09:45.248Z"
   },
   {
    "duration": 72,
    "start_time": "2022-01-20T15:09:45.365Z"
   },
   {
    "duration": 103,
    "start_time": "2022-01-20T15:09:45.438Z"
   },
   {
    "duration": 123,
    "start_time": "2022-01-20T15:09:45.543Z"
   },
   {
    "duration": 88,
    "start_time": "2022-01-20T15:09:45.667Z"
   },
   {
    "duration": 9,
    "start_time": "2022-01-20T15:09:45.757Z"
   },
   {
    "duration": 674,
    "start_time": "2022-01-20T15:09:45.767Z"
   },
   {
    "duration": 23,
    "start_time": "2022-01-20T15:09:46.443Z"
   },
   {
    "duration": 4,
    "start_time": "2022-01-20T15:09:46.467Z"
   },
   {
    "duration": 374,
    "start_time": "2022-01-20T15:09:46.473Z"
   },
   {
    "duration": 47,
    "start_time": "2022-01-20T15:09:46.849Z"
   },
   {
    "duration": 10,
    "start_time": "2022-01-20T15:09:46.898Z"
   },
   {
    "duration": 136,
    "start_time": "2022-01-20T15:09:46.910Z"
   },
   {
    "duration": 447,
    "start_time": "2022-01-20T15:09:47.048Z"
   },
   {
    "duration": 2,
    "start_time": "2022-01-20T15:09:47.497Z"
   },
   {
    "duration": 5,
    "start_time": "2022-01-20T15:09:47.501Z"
   },
   {
    "duration": 20027,
    "start_time": "2022-01-20T15:09:47.508Z"
   },
   {
    "duration": 590,
    "start_time": "2022-01-20T15:10:07.538Z"
   },
   {
    "duration": 97,
    "start_time": "2022-01-20T15:10:08.130Z"
   },
   {
    "duration": 3,
    "start_time": "2022-01-20T15:10:08.229Z"
   },
   {
    "duration": 12,
    "start_time": "2022-01-20T15:10:08.233Z"
   },
   {
    "duration": 7590,
    "start_time": "2022-01-20T15:10:08.246Z"
   },
   {
    "duration": 595,
    "start_time": "2022-01-20T15:10:15.837Z"
   },
   {
    "duration": 4,
    "start_time": "2022-01-20T15:10:16.434Z"
   },
   {
    "duration": 12306,
    "start_time": "2022-01-20T15:10:16.439Z"
   },
   {
    "duration": 2138,
    "start_time": "2022-01-20T15:10:28.747Z"
   },
   {
    "duration": 1186,
    "start_time": "2022-01-20T15:11:40.689Z"
   },
   {
    "duration": 743,
    "start_time": "2022-01-20T15:11:41.877Z"
   },
   {
    "duration": 18,
    "start_time": "2022-01-20T15:11:42.622Z"
   },
   {
    "duration": 134,
    "start_time": "2022-01-20T15:11:42.642Z"
   },
   {
    "duration": 51,
    "start_time": "2022-01-20T15:11:42.778Z"
   },
   {
    "duration": 5,
    "start_time": "2022-01-20T15:11:42.831Z"
   },
   {
    "duration": 60,
    "start_time": "2022-01-20T15:11:42.838Z"
   },
   {
    "duration": 755,
    "start_time": "2022-01-20T15:11:42.899Z"
   },
   {
    "duration": 36,
    "start_time": "2022-01-20T15:11:43.658Z"
   },
   {
    "duration": 107,
    "start_time": "2022-01-20T15:11:43.697Z"
   },
   {
    "duration": 74,
    "start_time": "2022-01-20T15:11:43.806Z"
   },
   {
    "duration": 101,
    "start_time": "2022-01-20T15:11:43.882Z"
   },
   {
    "duration": 133,
    "start_time": "2022-01-20T15:11:43.985Z"
   },
   {
    "duration": 126,
    "start_time": "2022-01-20T15:11:44.120Z"
   },
   {
    "duration": 13,
    "start_time": "2022-01-20T15:11:44.248Z"
   },
   {
    "duration": 717,
    "start_time": "2022-01-20T15:11:44.263Z"
   },
   {
    "duration": 24,
    "start_time": "2022-01-20T15:11:44.981Z"
   },
   {
    "duration": 19,
    "start_time": "2022-01-20T15:11:45.007Z"
   },
   {
    "duration": 369,
    "start_time": "2022-01-20T15:11:45.028Z"
   },
   {
    "duration": 47,
    "start_time": "2022-01-20T15:11:45.399Z"
   },
   {
    "duration": 9,
    "start_time": "2022-01-20T15:11:45.448Z"
   },
   {
    "duration": 138,
    "start_time": "2022-01-20T15:11:45.459Z"
   },
   {
    "duration": 434,
    "start_time": "2022-01-20T15:11:45.599Z"
   },
   {
    "duration": 3,
    "start_time": "2022-01-20T15:11:46.034Z"
   },
   {
    "duration": 7,
    "start_time": "2022-01-20T15:11:46.038Z"
   },
   {
    "duration": 17788,
    "start_time": "2022-01-20T15:11:46.047Z"
   },
   {
    "duration": 496,
    "start_time": "2022-01-20T15:12:03.839Z"
   },
   {
    "duration": 5,
    "start_time": "2022-01-20T15:12:04.427Z"
   },
   {
    "duration": 13,
    "start_time": "2022-01-20T15:12:04.434Z"
   },
   {
    "duration": 13,
    "start_time": "2022-01-20T15:12:04.448Z"
   },
   {
    "duration": 8870,
    "start_time": "2022-01-20T15:12:04.463Z"
   },
   {
    "duration": 594,
    "start_time": "2022-01-20T15:12:13.334Z"
   },
   {
    "duration": 4,
    "start_time": "2022-01-20T15:12:13.930Z"
   },
   {
    "duration": 9673,
    "start_time": "2022-01-20T15:12:13.936Z"
   },
   {
    "duration": 427,
    "start_time": "2022-01-20T15:12:23.610Z"
   },
   {
    "duration": 1177,
    "start_time": "2022-01-20T16:00:41.192Z"
   },
   {
    "duration": 741,
    "start_time": "2022-01-20T16:00:42.371Z"
   },
   {
    "duration": 20,
    "start_time": "2022-01-20T16:00:43.114Z"
   },
   {
    "duration": 126,
    "start_time": "2022-01-20T16:00:43.135Z"
   },
   {
    "duration": 43,
    "start_time": "2022-01-20T16:00:43.263Z"
   },
   {
    "duration": 13,
    "start_time": "2022-01-20T16:00:43.308Z"
   },
   {
    "duration": 73,
    "start_time": "2022-01-20T16:00:43.322Z"
   },
   {
    "duration": 566,
    "start_time": "2022-01-20T16:00:43.396Z"
   },
   {
    "duration": 18,
    "start_time": "2022-01-20T16:00:43.965Z"
   },
   {
    "duration": 117,
    "start_time": "2022-01-20T16:00:43.985Z"
   },
   {
    "duration": 67,
    "start_time": "2022-01-20T16:00:44.104Z"
   },
   {
    "duration": 114,
    "start_time": "2022-01-20T16:00:44.173Z"
   },
   {
    "duration": 126,
    "start_time": "2022-01-20T16:00:44.289Z"
   },
   {
    "duration": 84,
    "start_time": "2022-01-20T16:00:44.417Z"
   },
   {
    "duration": 10,
    "start_time": "2022-01-20T16:00:44.503Z"
   },
   {
    "duration": 695,
    "start_time": "2022-01-20T16:00:44.515Z"
   },
   {
    "duration": 32,
    "start_time": "2022-01-20T16:00:45.212Z"
   },
   {
    "duration": 3,
    "start_time": "2022-01-20T16:00:45.246Z"
   },
   {
    "duration": 365,
    "start_time": "2022-01-20T16:00:45.251Z"
   },
   {
    "duration": 130,
    "start_time": "2022-01-20T16:00:45.618Z"
   },
   {
    "duration": 435,
    "start_time": "2022-01-20T16:00:45.750Z"
   },
   {
    "duration": 2,
    "start_time": "2022-01-20T16:00:46.187Z"
   },
   {
    "duration": 5,
    "start_time": "2022-01-20T16:00:46.191Z"
   },
   {
    "duration": 18132,
    "start_time": "2022-01-20T16:00:46.197Z"
   },
   {
    "duration": 503,
    "start_time": "2022-01-20T16:01:04.331Z"
   },
   {
    "duration": 92,
    "start_time": "2022-01-20T16:01:04.836Z"
   },
   {
    "duration": 2,
    "start_time": "2022-01-20T16:01:04.932Z"
   },
   {
    "duration": 8693,
    "start_time": "2022-01-20T16:01:04.936Z"
   },
   {
    "duration": 703,
    "start_time": "2022-01-20T16:01:13.631Z"
   },
   {
    "duration": 4,
    "start_time": "2022-01-20T16:01:14.336Z"
   },
   {
    "duration": 9224,
    "start_time": "2022-01-20T16:01:14.341Z"
   },
   {
    "duration": 428,
    "start_time": "2022-01-20T16:01:23.566Z"
   },
   {
    "duration": 368,
    "start_time": "2022-01-20T16:05:24.054Z"
   },
   {
    "duration": 7255,
    "start_time": "2022-01-20T16:05:58.763Z"
   },
   {
    "duration": 1153,
    "start_time": "2022-01-20T16:48:41.799Z"
   },
   {
    "duration": 726,
    "start_time": "2022-01-20T16:48:42.954Z"
   },
   {
    "duration": 15,
    "start_time": "2022-01-20T16:48:43.684Z"
   },
   {
    "duration": 127,
    "start_time": "2022-01-20T16:48:43.701Z"
   },
   {
    "duration": 45,
    "start_time": "2022-01-20T16:48:43.830Z"
   },
   {
    "duration": 7,
    "start_time": "2022-01-20T16:48:43.876Z"
   },
   {
    "duration": 75,
    "start_time": "2022-01-20T16:48:43.885Z"
   },
   {
    "duration": 588,
    "start_time": "2022-01-20T16:48:43.962Z"
   },
   {
    "duration": 18,
    "start_time": "2022-01-20T16:48:44.551Z"
   },
   {
    "duration": 116,
    "start_time": "2022-01-20T16:48:44.570Z"
   },
   {
    "duration": 66,
    "start_time": "2022-01-20T16:48:44.688Z"
   },
   {
    "duration": 106,
    "start_time": "2022-01-20T16:48:44.755Z"
   },
   {
    "duration": 120,
    "start_time": "2022-01-20T16:48:44.863Z"
   },
   {
    "duration": 84,
    "start_time": "2022-01-20T16:48:44.985Z"
   },
   {
    "duration": 9,
    "start_time": "2022-01-20T16:48:45.071Z"
   },
   {
    "duration": 664,
    "start_time": "2022-01-20T16:48:45.082Z"
   },
   {
    "duration": 24,
    "start_time": "2022-01-20T16:48:45.747Z"
   },
   {
    "duration": 4,
    "start_time": "2022-01-20T16:48:45.772Z"
   },
   {
    "duration": 373,
    "start_time": "2022-01-20T16:48:45.777Z"
   },
   {
    "duration": 131,
    "start_time": "2022-01-20T16:48:46.152Z"
   },
   {
    "duration": 432,
    "start_time": "2022-01-20T16:48:46.284Z"
   },
   {
    "duration": 8,
    "start_time": "2022-01-20T16:48:46.719Z"
   },
   {
    "duration": 3,
    "start_time": "2022-01-20T16:48:46.728Z"
   },
   {
    "duration": 17797,
    "start_time": "2022-01-20T16:48:46.732Z"
   },
   {
    "duration": 504,
    "start_time": "2022-01-20T16:49:04.530Z"
   },
   {
    "duration": 92,
    "start_time": "2022-01-20T16:49:05.036Z"
   },
   {
    "duration": 11,
    "start_time": "2022-01-20T16:49:05.130Z"
   },
   {
    "duration": 469,
    "start_time": "2022-01-20T16:49:05.142Z"
   },
   {
    "duration": 400,
    "start_time": "2022-01-20T16:49:05.213Z"
   },
   {
    "duration": 392,
    "start_time": "2022-01-20T16:49:05.222Z"
   },
   {
    "duration": 391,
    "start_time": "2022-01-20T16:49:05.224Z"
   },
   {
    "duration": 391,
    "start_time": "2022-01-20T16:49:05.225Z"
   },
   {
    "duration": 9950,
    "start_time": "2022-01-20T16:50:03.724Z"
   },
   {
    "duration": 1256,
    "start_time": "2022-01-20T16:51:12.913Z"
   },
   {
    "duration": 710,
    "start_time": "2022-01-20T16:51:14.171Z"
   },
   {
    "duration": 15,
    "start_time": "2022-01-20T16:51:14.884Z"
   },
   {
    "duration": 126,
    "start_time": "2022-01-20T16:51:14.901Z"
   },
   {
    "duration": 42,
    "start_time": "2022-01-20T16:51:15.028Z"
   },
   {
    "duration": 6,
    "start_time": "2022-01-20T16:51:15.072Z"
   },
   {
    "duration": 66,
    "start_time": "2022-01-20T16:51:15.080Z"
   },
   {
    "duration": 573,
    "start_time": "2022-01-20T16:51:15.148Z"
   },
   {
    "duration": 17,
    "start_time": "2022-01-20T16:51:15.724Z"
   },
   {
    "duration": 103,
    "start_time": "2022-01-20T16:51:15.743Z"
   },
   {
    "duration": 66,
    "start_time": "2022-01-20T16:51:15.848Z"
   },
   {
    "duration": 104,
    "start_time": "2022-01-20T16:51:15.915Z"
   },
   {
    "duration": 121,
    "start_time": "2022-01-20T16:51:16.027Z"
   },
   {
    "duration": 84,
    "start_time": "2022-01-20T16:51:16.149Z"
   },
   {
    "duration": 10,
    "start_time": "2022-01-20T16:51:16.235Z"
   },
   {
    "duration": 682,
    "start_time": "2022-01-20T16:51:16.246Z"
   },
   {
    "duration": 22,
    "start_time": "2022-01-20T16:51:16.930Z"
   },
   {
    "duration": 3,
    "start_time": "2022-01-20T16:51:16.954Z"
   },
   {
    "duration": 373,
    "start_time": "2022-01-20T16:51:16.958Z"
   },
   {
    "duration": 128,
    "start_time": "2022-01-20T16:51:17.333Z"
   },
   {
    "duration": 433,
    "start_time": "2022-01-20T16:51:17.462Z"
   },
   {
    "duration": 2,
    "start_time": "2022-01-20T16:51:17.897Z"
   },
   {
    "duration": 5,
    "start_time": "2022-01-20T16:51:17.901Z"
   },
   {
    "duration": 17326,
    "start_time": "2022-01-20T16:51:17.907Z"
   },
   {
    "duration": 497,
    "start_time": "2022-01-20T16:51:35.235Z"
   },
   {
    "duration": 94,
    "start_time": "2022-01-20T16:51:35.734Z"
   },
   {
    "duration": 4,
    "start_time": "2022-01-20T16:51:35.831Z"
   },
   {
    "duration": 8623,
    "start_time": "2022-01-20T16:51:35.836Z"
   },
   {
    "duration": 405,
    "start_time": "2022-01-20T16:51:44.056Z"
   },
   {
    "duration": 397,
    "start_time": "2022-01-20T16:51:44.065Z"
   },
   {
    "duration": 396,
    "start_time": "2022-01-20T16:51:44.066Z"
   },
   {
    "duration": 396,
    "start_time": "2022-01-20T16:51:44.067Z"
   },
   {
    "duration": 1127,
    "start_time": "2022-01-20T16:55:26.531Z"
   },
   {
    "duration": 835,
    "start_time": "2022-01-20T16:55:27.660Z"
   },
   {
    "duration": 16,
    "start_time": "2022-01-20T16:55:28.497Z"
   },
   {
    "duration": 121,
    "start_time": "2022-01-20T16:55:28.514Z"
   },
   {
    "duration": 40,
    "start_time": "2022-01-20T16:55:28.637Z"
   },
   {
    "duration": 5,
    "start_time": "2022-01-20T16:55:28.679Z"
   },
   {
    "duration": 73,
    "start_time": "2022-01-20T16:55:28.685Z"
   },
   {
    "duration": 632,
    "start_time": "2022-01-20T16:55:28.760Z"
   },
   {
    "duration": 17,
    "start_time": "2022-01-20T16:55:29.395Z"
   },
   {
    "duration": 113,
    "start_time": "2022-01-20T16:55:29.414Z"
   },
   {
    "duration": 66,
    "start_time": "2022-01-20T16:55:29.529Z"
   },
   {
    "duration": 106,
    "start_time": "2022-01-20T16:55:29.597Z"
   },
   {
    "duration": 124,
    "start_time": "2022-01-20T16:55:29.705Z"
   },
   {
    "duration": 79,
    "start_time": "2022-01-20T16:55:29.831Z"
   },
   {
    "duration": 22,
    "start_time": "2022-01-20T16:55:29.912Z"
   },
   {
    "duration": 680,
    "start_time": "2022-01-20T16:55:29.935Z"
   },
   {
    "duration": 27,
    "start_time": "2022-01-20T16:55:30.616Z"
   },
   {
    "duration": 3,
    "start_time": "2022-01-20T16:55:30.645Z"
   },
   {
    "duration": 383,
    "start_time": "2022-01-20T16:55:30.650Z"
   },
   {
    "duration": 126,
    "start_time": "2022-01-20T16:55:31.035Z"
   },
   {
    "duration": 473,
    "start_time": "2022-01-20T16:55:31.162Z"
   },
   {
    "duration": 3,
    "start_time": "2022-01-20T16:55:31.636Z"
   },
   {
    "duration": 11,
    "start_time": "2022-01-20T16:55:31.641Z"
   },
   {
    "duration": 18779,
    "start_time": "2022-01-20T16:55:31.653Z"
   },
   {
    "duration": 501,
    "start_time": "2022-01-20T16:55:50.434Z"
   },
   {
    "duration": 5,
    "start_time": "2022-01-20T16:55:51.027Z"
   },
   {
    "duration": 3,
    "start_time": "2022-01-20T16:55:51.034Z"
   },
   {
    "duration": 9419,
    "start_time": "2022-01-20T16:55:51.039Z"
   },
   {
    "duration": 404,
    "start_time": "2022-01-20T16:56:00.056Z"
   },
   {
    "duration": 403,
    "start_time": "2022-01-20T16:56:00.058Z"
   },
   {
    "duration": 399,
    "start_time": "2022-01-20T16:56:00.063Z"
   },
   {
    "duration": 398,
    "start_time": "2022-01-20T16:56:00.065Z"
   },
   {
    "duration": 1119,
    "start_time": "2022-01-20T16:58:15.630Z"
   },
   {
    "duration": 723,
    "start_time": "2022-01-20T16:58:16.750Z"
   },
   {
    "duration": 15,
    "start_time": "2022-01-20T16:58:17.475Z"
   },
   {
    "duration": 120,
    "start_time": "2022-01-20T16:58:17.492Z"
   },
   {
    "duration": 45,
    "start_time": "2022-01-20T16:58:17.614Z"
   },
   {
    "duration": 13,
    "start_time": "2022-01-20T16:58:17.661Z"
   },
   {
    "duration": 55,
    "start_time": "2022-01-20T16:58:17.676Z"
   },
   {
    "duration": 694,
    "start_time": "2022-01-20T16:58:17.733Z"
   },
   {
    "duration": 18,
    "start_time": "2022-01-20T16:58:18.430Z"
   },
   {
    "duration": 112,
    "start_time": "2022-01-20T16:58:18.449Z"
   },
   {
    "duration": 72,
    "start_time": "2022-01-20T16:58:18.563Z"
   },
   {
    "duration": 99,
    "start_time": "2022-01-20T16:58:18.637Z"
   },
   {
    "duration": 123,
    "start_time": "2022-01-20T16:58:18.738Z"
   },
   {
    "duration": 82,
    "start_time": "2022-01-20T16:58:18.863Z"
   },
   {
    "duration": 10,
    "start_time": "2022-01-20T16:58:18.946Z"
   },
   {
    "duration": 671,
    "start_time": "2022-01-20T16:58:18.957Z"
   },
   {
    "duration": 23,
    "start_time": "2022-01-20T16:58:19.630Z"
   },
   {
    "duration": 4,
    "start_time": "2022-01-20T16:58:19.655Z"
   },
   {
    "duration": 377,
    "start_time": "2022-01-20T16:58:19.661Z"
   },
   {
    "duration": 131,
    "start_time": "2022-01-20T16:58:20.039Z"
   },
   {
    "duration": 431,
    "start_time": "2022-01-20T16:58:20.172Z"
   },
   {
    "duration": 3,
    "start_time": "2022-01-20T16:58:20.605Z"
   },
   {
    "duration": 4,
    "start_time": "2022-01-20T16:58:20.610Z"
   },
   {
    "duration": 18802,
    "start_time": "2022-01-20T16:58:20.627Z"
   },
   {
    "duration": 504,
    "start_time": "2022-01-20T16:58:39.431Z"
   },
   {
    "duration": 92,
    "start_time": "2022-01-20T16:58:39.937Z"
   },
   {
    "duration": 17,
    "start_time": "2022-01-20T16:58:40.034Z"
   },
   {
    "duration": 1086480,
    "start_time": "2022-01-20T16:58:40.054Z"
   },
   {
    "duration": 8700,
    "start_time": "2022-01-20T17:16:46.535Z"
   },
   {
    "duration": 700,
    "start_time": "2022-01-20T17:16:55.237Z"
   },
   {
    "duration": 4,
    "start_time": "2022-01-20T17:16:55.939Z"
   },
   {
    "duration": 10323,
    "start_time": "2022-01-20T17:16:55.944Z"
   },
   {
    "duration": 680379,
    "start_time": "2022-01-20T17:17:06.270Z"
   },
   {
    "duration": 1112,
    "start_time": "2022-01-20T17:29:35.144Z"
   },
   {
    "duration": 725,
    "start_time": "2022-01-20T17:29:36.258Z"
   },
   {
    "duration": 16,
    "start_time": "2022-01-20T17:29:36.985Z"
   },
   {
    "duration": 125,
    "start_time": "2022-01-20T17:29:37.003Z"
   },
   {
    "duration": 43,
    "start_time": "2022-01-20T17:29:37.130Z"
   },
   {
    "duration": 5,
    "start_time": "2022-01-20T17:29:37.175Z"
   },
   {
    "duration": 69,
    "start_time": "2022-01-20T17:29:37.181Z"
   },
   {
    "duration": 602,
    "start_time": "2022-01-20T17:29:37.252Z"
   },
   {
    "duration": 17,
    "start_time": "2022-01-20T17:29:37.856Z"
   },
   {
    "duration": 116,
    "start_time": "2022-01-20T17:29:37.875Z"
   },
   {
    "duration": 72,
    "start_time": "2022-01-20T17:29:37.992Z"
   },
   {
    "duration": 101,
    "start_time": "2022-01-20T17:29:38.065Z"
   },
   {
    "duration": 111,
    "start_time": "2022-01-20T17:29:38.168Z"
   },
   {
    "duration": 81,
    "start_time": "2022-01-20T17:29:38.281Z"
   },
   {
    "duration": 8,
    "start_time": "2022-01-20T17:29:38.364Z"
   },
   {
    "duration": 687,
    "start_time": "2022-01-20T17:29:38.374Z"
   },
   {
    "duration": 24,
    "start_time": "2022-01-20T17:29:39.063Z"
   },
   {
    "duration": 3,
    "start_time": "2022-01-20T17:29:39.089Z"
   },
   {
    "duration": 384,
    "start_time": "2022-01-20T17:29:39.094Z"
   },
   {
    "duration": 130,
    "start_time": "2022-01-20T17:29:39.480Z"
   },
   {
    "duration": 457,
    "start_time": "2022-01-20T17:29:39.612Z"
   },
   {
    "duration": 3,
    "start_time": "2022-01-20T17:29:40.071Z"
   },
   {
    "duration": 8,
    "start_time": "2022-01-20T17:29:40.075Z"
   },
   {
    "duration": 18343,
    "start_time": "2022-01-20T17:29:40.085Z"
   },
   {
    "duration": 501,
    "start_time": "2022-01-20T17:29:58.430Z"
   },
   {
    "duration": 97,
    "start_time": "2022-01-20T17:29:58.934Z"
   },
   {
    "duration": 3,
    "start_time": "2022-01-20T17:29:59.035Z"
   },
   {
    "duration": 595527,
    "start_time": "2022-01-20T17:29:59.040Z"
   },
   {
    "duration": 8464,
    "start_time": "2022-01-20T17:39:54.569Z"
   },
   {
    "duration": 701,
    "start_time": "2022-01-20T17:40:03.034Z"
   },
   {
    "duration": 4,
    "start_time": "2022-01-20T17:40:03.737Z"
   },
   {
    "duration": 9388,
    "start_time": "2022-01-20T17:40:03.743Z"
   },
   {
    "duration": 1072,
    "start_time": "2022-01-20T17:47:22.578Z"
   },
   {
    "duration": 704,
    "start_time": "2022-01-20T17:47:23.652Z"
   },
   {
    "duration": 18,
    "start_time": "2022-01-20T17:47:24.358Z"
   },
   {
    "duration": 122,
    "start_time": "2022-01-20T17:47:24.378Z"
   },
   {
    "duration": 45,
    "start_time": "2022-01-20T17:47:24.501Z"
   },
   {
    "duration": 6,
    "start_time": "2022-01-20T17:47:24.548Z"
   },
   {
    "duration": 54,
    "start_time": "2022-01-20T17:47:24.555Z"
   },
   {
    "duration": 611,
    "start_time": "2022-01-20T17:47:24.611Z"
   },
   {
    "duration": 16,
    "start_time": "2022-01-20T17:47:25.224Z"
   },
   {
    "duration": 104,
    "start_time": "2022-01-20T17:47:25.241Z"
   },
   {
    "duration": 66,
    "start_time": "2022-01-20T17:47:25.347Z"
   },
   {
    "duration": 113,
    "start_time": "2022-01-20T17:47:25.415Z"
   },
   {
    "duration": 117,
    "start_time": "2022-01-20T17:47:25.530Z"
   },
   {
    "duration": 85,
    "start_time": "2022-01-20T17:47:25.649Z"
   },
   {
    "duration": 9,
    "start_time": "2022-01-20T17:47:25.735Z"
   },
   {
    "duration": 713,
    "start_time": "2022-01-20T17:47:25.746Z"
   },
   {
    "duration": 24,
    "start_time": "2022-01-20T17:47:26.460Z"
   },
   {
    "duration": 5,
    "start_time": "2022-01-20T17:47:26.485Z"
   },
   {
    "duration": 378,
    "start_time": "2022-01-20T17:47:26.491Z"
   },
   {
    "duration": 130,
    "start_time": "2022-01-20T17:47:26.871Z"
   },
   {
    "duration": 436,
    "start_time": "2022-01-20T17:47:27.002Z"
   },
   {
    "duration": 3,
    "start_time": "2022-01-20T17:47:27.439Z"
   },
   {
    "duration": 13,
    "start_time": "2022-01-20T17:47:27.445Z"
   },
   {
    "duration": 17869,
    "start_time": "2022-01-20T17:47:27.459Z"
   },
   {
    "duration": 499,
    "start_time": "2022-01-20T17:47:45.330Z"
   },
   {
    "duration": 97,
    "start_time": "2022-01-20T17:47:45.831Z"
   },
   {
    "duration": 4,
    "start_time": "2022-01-20T17:47:45.929Z"
   },
   {
    "duration": 611602,
    "start_time": "2022-01-20T17:47:45.934Z"
   },
   {
    "duration": 7192,
    "start_time": "2022-01-20T17:57:57.537Z"
   },
   {
    "duration": 615,
    "start_time": "2022-01-20T17:58:04.731Z"
   },
   {
    "duration": 81,
    "start_time": "2022-01-20T17:58:05.348Z"
   },
   {
    "duration": 9241,
    "start_time": "2022-01-20T17:58:05.431Z"
   },
   {
    "duration": 1164,
    "start_time": "2022-01-20T19:04:04.895Z"
   },
   {
    "duration": 746,
    "start_time": "2022-01-20T19:04:06.061Z"
   },
   {
    "duration": 20,
    "start_time": "2022-01-20T19:04:06.809Z"
   },
   {
    "duration": 118,
    "start_time": "2022-01-20T19:04:06.831Z"
   },
   {
    "duration": 43,
    "start_time": "2022-01-20T19:04:06.951Z"
   },
   {
    "duration": 6,
    "start_time": "2022-01-20T19:04:06.996Z"
   },
   {
    "duration": 74,
    "start_time": "2022-01-20T19:04:07.004Z"
   },
   {
    "duration": 570,
    "start_time": "2022-01-20T19:04:07.080Z"
   },
   {
    "duration": 17,
    "start_time": "2022-01-20T19:04:07.653Z"
   },
   {
    "duration": 119,
    "start_time": "2022-01-20T19:04:07.672Z"
   },
   {
    "duration": 69,
    "start_time": "2022-01-20T19:04:07.793Z"
   },
   {
    "duration": 110,
    "start_time": "2022-01-20T19:04:07.863Z"
   },
   {
    "duration": 119,
    "start_time": "2022-01-20T19:04:07.974Z"
   },
   {
    "duration": 86,
    "start_time": "2022-01-20T19:04:08.095Z"
   },
   {
    "duration": 9,
    "start_time": "2022-01-20T19:04:08.182Z"
   },
   {
    "duration": 688,
    "start_time": "2022-01-20T19:04:08.193Z"
   },
   {
    "duration": 25,
    "start_time": "2022-01-20T19:04:08.882Z"
   },
   {
    "duration": 4,
    "start_time": "2022-01-20T19:04:08.908Z"
   },
   {
    "duration": 18,
    "start_time": "2022-01-20T19:04:08.913Z"
   },
   {
    "duration": 383,
    "start_time": "2022-01-20T19:04:08.932Z"
   },
   {
    "duration": 125,
    "start_time": "2022-01-20T19:04:09.316Z"
   },
   {
    "duration": 436,
    "start_time": "2022-01-20T19:04:09.443Z"
   },
   {
    "duration": 2,
    "start_time": "2022-01-20T19:04:09.881Z"
   },
   {
    "duration": 15,
    "start_time": "2022-01-20T19:04:09.885Z"
   },
   {
    "duration": 17127,
    "start_time": "2022-01-20T19:04:09.902Z"
   },
   {
    "duration": 498,
    "start_time": "2022-01-20T19:04:27.031Z"
   },
   {
    "duration": 94,
    "start_time": "2022-01-20T19:04:27.534Z"
   },
   {
    "duration": 3,
    "start_time": "2022-01-20T19:04:27.630Z"
   },
   {
    "duration": 1144,
    "start_time": "2022-01-20T19:05:37.115Z"
   },
   {
    "duration": 730,
    "start_time": "2022-01-20T19:05:38.261Z"
   },
   {
    "duration": 17,
    "start_time": "2022-01-20T19:05:38.993Z"
   },
   {
    "duration": 166,
    "start_time": "2022-01-20T19:05:39.012Z"
   },
   {
    "duration": 58,
    "start_time": "2022-01-20T19:05:39.180Z"
   },
   {
    "duration": 6,
    "start_time": "2022-01-20T19:05:39.240Z"
   },
   {
    "duration": 58,
    "start_time": "2022-01-20T19:05:39.247Z"
   },
   {
    "duration": 720,
    "start_time": "2022-01-20T19:05:39.307Z"
   },
   {
    "duration": 17,
    "start_time": "2022-01-20T19:05:40.030Z"
   },
   {
    "duration": 108,
    "start_time": "2022-01-20T19:05:40.049Z"
   },
   {
    "duration": 78,
    "start_time": "2022-01-20T19:05:40.159Z"
   },
   {
    "duration": 103,
    "start_time": "2022-01-20T19:05:40.239Z"
   },
   {
    "duration": 125,
    "start_time": "2022-01-20T19:05:40.344Z"
   },
   {
    "duration": 90,
    "start_time": "2022-01-20T19:05:40.470Z"
   },
   {
    "duration": 9,
    "start_time": "2022-01-20T19:05:40.562Z"
   },
   {
    "duration": 725,
    "start_time": "2022-01-20T19:05:40.573Z"
   },
   {
    "duration": 28,
    "start_time": "2022-01-20T19:05:41.299Z"
   },
   {
    "duration": 3,
    "start_time": "2022-01-20T19:05:41.329Z"
   },
   {
    "duration": 380,
    "start_time": "2022-01-20T19:05:41.334Z"
   },
   {
    "duration": 133,
    "start_time": "2022-01-20T19:05:41.716Z"
   },
   {
    "duration": 498,
    "start_time": "2022-01-20T19:05:41.851Z"
   },
   {
    "duration": 2,
    "start_time": "2022-01-20T19:05:42.351Z"
   },
   {
    "duration": 5,
    "start_time": "2022-01-20T19:05:42.356Z"
   },
   {
    "duration": 18067,
    "start_time": "2022-01-20T19:05:42.362Z"
   },
   {
    "duration": 504,
    "start_time": "2022-01-20T19:06:00.430Z"
   },
   {
    "duration": 91,
    "start_time": "2022-01-20T19:06:00.937Z"
   },
   {
    "duration": 13,
    "start_time": "2022-01-20T19:06:01.030Z"
   },
   {
    "duration": 1072,
    "start_time": "2022-01-20T19:07:32.680Z"
   },
   {
    "duration": 721,
    "start_time": "2022-01-20T19:07:33.754Z"
   },
   {
    "duration": 16,
    "start_time": "2022-01-20T19:07:34.479Z"
   },
   {
    "duration": 126,
    "start_time": "2022-01-20T19:07:34.496Z"
   },
   {
    "duration": 41,
    "start_time": "2022-01-20T19:07:34.623Z"
   },
   {
    "duration": 7,
    "start_time": "2022-01-20T19:07:34.666Z"
   },
   {
    "duration": 69,
    "start_time": "2022-01-20T19:07:34.674Z"
   },
   {
    "duration": 618,
    "start_time": "2022-01-20T19:07:34.746Z"
   },
   {
    "duration": 16,
    "start_time": "2022-01-20T19:07:35.367Z"
   },
   {
    "duration": 105,
    "start_time": "2022-01-20T19:07:35.384Z"
   },
   {
    "duration": 75,
    "start_time": "2022-01-20T19:07:35.490Z"
   },
   {
    "duration": 104,
    "start_time": "2022-01-20T19:07:35.567Z"
   },
   {
    "duration": 122,
    "start_time": "2022-01-20T19:07:35.673Z"
   },
   {
    "duration": 82,
    "start_time": "2022-01-20T19:07:35.797Z"
   },
   {
    "duration": 10,
    "start_time": "2022-01-20T19:07:35.881Z"
   },
   {
    "duration": 695,
    "start_time": "2022-01-20T19:07:35.892Z"
   },
   {
    "duration": 24,
    "start_time": "2022-01-20T19:07:36.589Z"
   },
   {
    "duration": 14,
    "start_time": "2022-01-20T19:07:36.614Z"
   },
   {
    "duration": 365,
    "start_time": "2022-01-20T19:07:36.630Z"
   },
   {
    "duration": 130,
    "start_time": "2022-01-20T19:07:36.997Z"
   },
   {
    "duration": 439,
    "start_time": "2022-01-20T19:07:37.129Z"
   },
   {
    "duration": 3,
    "start_time": "2022-01-20T19:07:37.570Z"
   },
   {
    "duration": 8,
    "start_time": "2022-01-20T19:07:37.574Z"
   },
   {
    "duration": 18546,
    "start_time": "2022-01-20T19:07:37.583Z"
   },
   {
    "duration": 498,
    "start_time": "2022-01-20T19:07:56.131Z"
   },
   {
    "duration": 95,
    "start_time": "2022-01-20T19:07:56.633Z"
   },
   {
    "duration": 3,
    "start_time": "2022-01-20T19:07:56.730Z"
   },
   {
    "duration": 1158,
    "start_time": "2022-01-20T19:34:04.126Z"
   },
   {
    "duration": 709,
    "start_time": "2022-01-20T19:34:05.286Z"
   },
   {
    "duration": 17,
    "start_time": "2022-01-20T19:34:05.997Z"
   },
   {
    "duration": 218,
    "start_time": "2022-01-20T19:34:06.016Z"
   },
   {
    "duration": 50,
    "start_time": "2022-01-20T19:34:06.236Z"
   },
   {
    "duration": 6,
    "start_time": "2022-01-20T19:34:06.288Z"
   },
   {
    "duration": 74,
    "start_time": "2022-01-20T19:34:06.296Z"
   },
   {
    "duration": 842,
    "start_time": "2022-01-20T19:34:06.372Z"
   },
   {
    "duration": 18,
    "start_time": "2022-01-20T19:34:07.216Z"
   },
   {
    "duration": 106,
    "start_time": "2022-01-20T19:34:07.235Z"
   },
   {
    "duration": 73,
    "start_time": "2022-01-20T19:34:07.343Z"
   },
   {
    "duration": 103,
    "start_time": "2022-01-20T19:34:07.418Z"
   },
   {
    "duration": 123,
    "start_time": "2022-01-20T19:34:07.527Z"
   },
   {
    "duration": 87,
    "start_time": "2022-01-20T19:34:07.652Z"
   },
   {
    "duration": 10,
    "start_time": "2022-01-20T19:34:07.740Z"
   },
   {
    "duration": 1027,
    "start_time": "2022-01-20T19:34:07.751Z"
   },
   {
    "duration": 30,
    "start_time": "2022-01-20T19:34:08.780Z"
   },
   {
    "duration": 17,
    "start_time": "2022-01-20T19:34:08.812Z"
   },
   {
    "duration": 392,
    "start_time": "2022-01-20T19:34:08.830Z"
   },
   {
    "duration": 138,
    "start_time": "2022-01-20T19:34:09.224Z"
   },
   {
    "duration": 433,
    "start_time": "2022-01-20T19:34:09.363Z"
   },
   {
    "duration": 2,
    "start_time": "2022-01-20T19:34:09.798Z"
   },
   {
    "duration": 6,
    "start_time": "2022-01-20T19:34:09.802Z"
   },
   {
    "duration": 20726,
    "start_time": "2022-01-20T19:34:09.809Z"
   },
   {
    "duration": 593,
    "start_time": "2022-01-20T19:34:30.536Z"
   },
   {
    "duration": 5,
    "start_time": "2022-01-20T19:34:31.131Z"
   },
   {
    "duration": 4,
    "start_time": "2022-01-20T19:34:31.139Z"
   },
   {
    "duration": 20484,
    "start_time": "2022-01-20T19:34:31.145Z"
   },
   {
    "duration": 702,
    "start_time": "2022-01-20T19:34:51.631Z"
   },
   {
    "duration": 4,
    "start_time": "2022-01-20T19:34:52.335Z"
   },
   {
    "duration": 628318,
    "start_time": "2022-01-20T19:34:52.341Z"
   },
   {
    "duration": 9824,
    "start_time": "2022-01-20T19:45:20.660Z"
   },
   {
    "duration": 10635,
    "start_time": "2022-01-20T20:10:36.969Z"
   },
   {
    "duration": 1267,
    "start_time": "2022-01-20T20:54:49.236Z"
   },
   {
    "duration": 766,
    "start_time": "2022-01-20T20:54:50.505Z"
   },
   {
    "duration": 17,
    "start_time": "2022-01-20T20:54:51.273Z"
   },
   {
    "duration": 136,
    "start_time": "2022-01-20T20:54:51.291Z"
   },
   {
    "duration": 38,
    "start_time": "2022-01-20T20:54:51.429Z"
   },
   {
    "duration": 5,
    "start_time": "2022-01-20T20:54:51.469Z"
   },
   {
    "duration": 73,
    "start_time": "2022-01-20T20:54:51.476Z"
   },
   {
    "duration": 731,
    "start_time": "2022-01-20T20:54:51.554Z"
   },
   {
    "duration": 17,
    "start_time": "2022-01-20T20:54:52.288Z"
   },
   {
    "duration": 145,
    "start_time": "2022-01-20T20:54:52.307Z"
   },
   {
    "duration": 65,
    "start_time": "2022-01-20T20:54:52.454Z"
   },
   {
    "duration": 106,
    "start_time": "2022-01-20T20:54:52.527Z"
   },
   {
    "duration": 156,
    "start_time": "2022-01-20T20:54:52.635Z"
   },
   {
    "duration": 84,
    "start_time": "2022-01-20T20:54:52.792Z"
   },
   {
    "duration": 11,
    "start_time": "2022-01-20T20:54:52.878Z"
   },
   {
    "duration": 698,
    "start_time": "2022-01-20T20:54:52.890Z"
   },
   {
    "duration": 21,
    "start_time": "2022-01-20T20:54:53.589Z"
   },
   {
    "duration": 17,
    "start_time": "2022-01-20T20:54:53.612Z"
   },
   {
    "duration": 357,
    "start_time": "2022-01-20T20:54:53.630Z"
   },
   {
    "duration": 128,
    "start_time": "2022-01-20T20:54:53.988Z"
   },
   {
    "duration": 494,
    "start_time": "2022-01-20T20:54:54.118Z"
   },
   {
    "duration": 3,
    "start_time": "2022-01-20T20:54:54.613Z"
   },
   {
    "duration": 5,
    "start_time": "2022-01-20T20:54:54.617Z"
   },
   {
    "duration": 22201,
    "start_time": "2022-01-20T20:54:54.627Z"
   },
   {
    "duration": 508,
    "start_time": "2022-01-20T20:55:16.830Z"
   },
   {
    "duration": 6,
    "start_time": "2022-01-20T20:55:17.435Z"
   },
   {
    "duration": 9,
    "start_time": "2022-01-20T20:55:17.445Z"
   },
   {
    "duration": 13274,
    "start_time": "2022-01-20T20:55:17.455Z"
   },
   {
    "duration": 700,
    "start_time": "2022-01-20T20:55:30.730Z"
   },
   {
    "duration": 5,
    "start_time": "2022-01-20T20:55:31.431Z"
   },
   {
    "duration": 9119,
    "start_time": "2022-01-20T20:55:31.437Z"
   },
   {
    "duration": 1157,
    "start_time": "2022-01-20T21:10:48.474Z"
   },
   {
    "duration": 715,
    "start_time": "2022-01-20T21:10:49.635Z"
   },
   {
    "duration": 19,
    "start_time": "2022-01-20T21:10:50.352Z"
   },
   {
    "duration": 143,
    "start_time": "2022-01-20T21:10:50.372Z"
   },
   {
    "duration": 50,
    "start_time": "2022-01-20T21:10:50.517Z"
   },
   {
    "duration": 4,
    "start_time": "2022-01-20T21:10:50.568Z"
   },
   {
    "duration": 75,
    "start_time": "2022-01-20T21:10:50.575Z"
   },
   {
    "duration": 770,
    "start_time": "2022-01-20T21:10:50.653Z"
   },
   {
    "duration": 18,
    "start_time": "2022-01-20T21:10:51.425Z"
   },
   {
    "duration": 102,
    "start_time": "2022-01-20T21:10:51.445Z"
   },
   {
    "duration": 66,
    "start_time": "2022-01-20T21:10:51.549Z"
   },
   {
    "duration": 101,
    "start_time": "2022-01-20T21:10:51.616Z"
   },
   {
    "duration": 126,
    "start_time": "2022-01-20T21:10:51.718Z"
   },
   {
    "duration": 82,
    "start_time": "2022-01-20T21:10:51.846Z"
   },
   {
    "duration": 10,
    "start_time": "2022-01-20T21:10:51.929Z"
   },
   {
    "duration": 671,
    "start_time": "2022-01-20T21:10:51.940Z"
   },
   {
    "duration": 32,
    "start_time": "2022-01-20T21:10:52.612Z"
   },
   {
    "duration": 4,
    "start_time": "2022-01-20T21:10:52.645Z"
   },
   {
    "duration": 362,
    "start_time": "2022-01-20T21:10:52.650Z"
   },
   {
    "duration": 129,
    "start_time": "2022-01-20T21:10:53.014Z"
   },
   {
    "duration": 430,
    "start_time": "2022-01-20T21:10:53.145Z"
   },
   {
    "duration": 2,
    "start_time": "2022-01-20T21:10:53.578Z"
   },
   {
    "duration": 5,
    "start_time": "2022-01-20T21:10:53.582Z"
   },
   {
    "duration": 18341,
    "start_time": "2022-01-20T21:10:53.588Z"
   },
   {
    "duration": 498,
    "start_time": "2022-01-20T21:11:11.931Z"
   },
   {
    "duration": 96,
    "start_time": "2022-01-20T21:11:12.431Z"
   },
   {
    "duration": 8,
    "start_time": "2022-01-20T21:11:12.529Z"
   },
   {
    "duration": 8799,
    "start_time": "2022-01-20T21:11:12.539Z"
   },
   {
    "duration": 703,
    "start_time": "2022-01-20T21:11:21.340Z"
   },
   {
    "duration": 84,
    "start_time": "2022-01-20T21:11:22.045Z"
   },
   {
    "duration": 9382,
    "start_time": "2022-01-20T21:11:22.131Z"
   },
   {
    "duration": 346,
    "start_time": "2022-01-20T21:29:36.725Z"
   },
   {
    "duration": 1136,
    "start_time": "2022-01-20T21:29:55.730Z"
   },
   {
    "duration": 747,
    "start_time": "2022-01-20T21:29:56.868Z"
   },
   {
    "duration": 16,
    "start_time": "2022-01-20T21:29:57.618Z"
   },
   {
    "duration": 122,
    "start_time": "2022-01-20T21:29:57.636Z"
   },
   {
    "duration": 43,
    "start_time": "2022-01-20T21:29:57.759Z"
   },
   {
    "duration": 5,
    "start_time": "2022-01-20T21:29:57.804Z"
   },
   {
    "duration": 67,
    "start_time": "2022-01-20T21:29:57.810Z"
   },
   {
    "duration": 553,
    "start_time": "2022-01-20T21:29:57.879Z"
   },
   {
    "duration": 17,
    "start_time": "2022-01-20T21:29:58.435Z"
   },
   {
    "duration": 105,
    "start_time": "2022-01-20T21:29:58.455Z"
   },
   {
    "duration": 74,
    "start_time": "2022-01-20T21:29:58.562Z"
   },
   {
    "duration": 101,
    "start_time": "2022-01-20T21:29:58.638Z"
   },
   {
    "duration": 124,
    "start_time": "2022-01-20T21:29:58.741Z"
   },
   {
    "duration": 82,
    "start_time": "2022-01-20T21:29:58.867Z"
   },
   {
    "duration": 9,
    "start_time": "2022-01-20T21:29:58.951Z"
   },
   {
    "duration": 691,
    "start_time": "2022-01-20T21:29:58.962Z"
   },
   {
    "duration": 23,
    "start_time": "2022-01-20T21:29:59.655Z"
   },
   {
    "duration": 4,
    "start_time": "2022-01-20T21:29:59.680Z"
   },
   {
    "duration": 394,
    "start_time": "2022-01-20T21:29:59.686Z"
   },
   {
    "duration": 129,
    "start_time": "2022-01-20T21:30:00.082Z"
   },
   {
    "duration": 442,
    "start_time": "2022-01-20T21:30:00.213Z"
   },
   {
    "duration": 3,
    "start_time": "2022-01-20T21:30:00.656Z"
   },
   {
    "duration": 6,
    "start_time": "2022-01-20T21:30:00.661Z"
   },
   {
    "duration": 5,
    "start_time": "2022-01-20T21:30:00.668Z"
   },
   {
    "duration": 18154,
    "start_time": "2022-01-20T21:30:00.674Z"
   },
   {
    "duration": 509,
    "start_time": "2022-01-20T21:30:18.830Z"
   },
   {
    "duration": 5,
    "start_time": "2022-01-20T21:30:19.429Z"
   },
   {
    "duration": 2,
    "start_time": "2022-01-20T21:30:19.436Z"
   },
   {
    "duration": 8697,
    "start_time": "2022-01-20T21:30:19.440Z"
   },
   {
    "duration": 703,
    "start_time": "2022-01-20T21:30:28.138Z"
   },
   {
    "duration": 4,
    "start_time": "2022-01-20T21:30:28.842Z"
   },
   {
    "duration": 11888,
    "start_time": "2022-01-20T21:30:28.848Z"
   },
   {
    "duration": 2,
    "start_time": "2022-01-20T21:31:18.390Z"
   },
   {
    "duration": 1131,
    "start_time": "2022-01-20T21:31:59.575Z"
   },
   {
    "duration": 766,
    "start_time": "2022-01-20T21:32:00.708Z"
   },
   {
    "duration": 18,
    "start_time": "2022-01-20T21:32:01.476Z"
   },
   {
    "duration": 126,
    "start_time": "2022-01-20T21:32:01.496Z"
   },
   {
    "duration": 46,
    "start_time": "2022-01-20T21:32:01.627Z"
   },
   {
    "duration": 5,
    "start_time": "2022-01-20T21:32:01.675Z"
   },
   {
    "duration": 74,
    "start_time": "2022-01-20T21:32:01.682Z"
   },
   {
    "duration": 583,
    "start_time": "2022-01-20T21:32:01.758Z"
   },
   {
    "duration": 18,
    "start_time": "2022-01-20T21:32:02.344Z"
   },
   {
    "duration": 114,
    "start_time": "2022-01-20T21:32:02.364Z"
   },
   {
    "duration": 71,
    "start_time": "2022-01-20T21:32:02.479Z"
   },
   {
    "duration": 102,
    "start_time": "2022-01-20T21:32:02.552Z"
   },
   {
    "duration": 125,
    "start_time": "2022-01-20T21:32:02.655Z"
   },
   {
    "duration": 81,
    "start_time": "2022-01-20T21:32:02.782Z"
   },
   {
    "duration": 9,
    "start_time": "2022-01-20T21:32:02.864Z"
   },
   {
    "duration": 683,
    "start_time": "2022-01-20T21:32:02.874Z"
   },
   {
    "duration": 24,
    "start_time": "2022-01-20T21:32:03.558Z"
   },
   {
    "duration": 3,
    "start_time": "2022-01-20T21:32:03.583Z"
   },
   {
    "duration": 375,
    "start_time": "2022-01-20T21:32:03.588Z"
   },
   {
    "duration": 127,
    "start_time": "2022-01-20T21:32:03.965Z"
   },
   {
    "duration": 434,
    "start_time": "2022-01-20T21:32:04.094Z"
   },
   {
    "duration": 3,
    "start_time": "2022-01-20T21:32:04.529Z"
   },
   {
    "duration": 5,
    "start_time": "2022-01-20T21:32:04.534Z"
   },
   {
    "duration": 5,
    "start_time": "2022-01-20T21:32:04.540Z"
   },
   {
    "duration": 17288,
    "start_time": "2022-01-20T21:32:04.547Z"
   },
   {
    "duration": 590,
    "start_time": "2022-01-20T21:32:21.837Z"
   },
   {
    "duration": 6,
    "start_time": "2022-01-20T21:32:22.432Z"
   },
   {
    "duration": 5,
    "start_time": "2022-01-20T21:32:22.440Z"
   },
   {
    "duration": 10390,
    "start_time": "2022-01-20T21:32:22.447Z"
   },
   {
    "duration": 789,
    "start_time": "2022-01-20T21:32:32.839Z"
   },
   {
    "duration": 5,
    "start_time": "2022-01-20T21:32:33.630Z"
   },
   {
    "duration": 9536,
    "start_time": "2022-01-20T21:32:33.637Z"
   },
   {
    "duration": 1133,
    "start_time": "2022-01-20T21:32:51.424Z"
   },
   {
    "duration": 732,
    "start_time": "2022-01-20T21:32:52.559Z"
   },
   {
    "duration": 15,
    "start_time": "2022-01-20T21:32:53.293Z"
   },
   {
    "duration": 123,
    "start_time": "2022-01-20T21:32:53.310Z"
   },
   {
    "duration": 43,
    "start_time": "2022-01-20T21:32:53.435Z"
   },
   {
    "duration": 6,
    "start_time": "2022-01-20T21:32:53.479Z"
   },
   {
    "duration": 68,
    "start_time": "2022-01-20T21:32:53.487Z"
   },
   {
    "duration": 568,
    "start_time": "2022-01-20T21:32:53.556Z"
   },
   {
    "duration": 18,
    "start_time": "2022-01-20T21:32:54.127Z"
   },
   {
    "duration": 113,
    "start_time": "2022-01-20T21:32:54.147Z"
   },
   {
    "duration": 71,
    "start_time": "2022-01-20T21:32:54.261Z"
   },
   {
    "duration": 106,
    "start_time": "2022-01-20T21:32:54.334Z"
   },
   {
    "duration": 164,
    "start_time": "2022-01-20T21:32:54.442Z"
   },
   {
    "duration": 86,
    "start_time": "2022-01-20T21:32:54.608Z"
   },
   {
    "duration": 10,
    "start_time": "2022-01-20T21:32:54.695Z"
   },
   {
    "duration": 687,
    "start_time": "2022-01-20T21:32:54.706Z"
   },
   {
    "duration": 33,
    "start_time": "2022-01-20T21:32:55.394Z"
   },
   {
    "duration": 3,
    "start_time": "2022-01-20T21:32:55.429Z"
   },
   {
    "duration": 374,
    "start_time": "2022-01-20T21:32:55.433Z"
   },
   {
    "duration": 127,
    "start_time": "2022-01-20T21:32:55.808Z"
   },
   {
    "duration": 492,
    "start_time": "2022-01-20T21:32:55.937Z"
   },
   {
    "duration": 3,
    "start_time": "2022-01-20T21:32:56.431Z"
   },
   {
    "duration": 468,
    "start_time": "2022-01-20T21:32:56.435Z"
   },
   {
    "duration": 525,
    "start_time": "2022-01-20T21:32:56.380Z"
   },
   {
    "duration": 524,
    "start_time": "2022-01-20T21:32:56.382Z"
   },
   {
    "duration": 468,
    "start_time": "2022-01-20T21:32:56.439Z"
   },
   {
    "duration": 464,
    "start_time": "2022-01-20T21:32:56.443Z"
   },
   {
    "duration": 464,
    "start_time": "2022-01-20T21:32:56.444Z"
   },
   {
    "duration": 464,
    "start_time": "2022-01-20T21:32:56.445Z"
   },
   {
    "duration": 464,
    "start_time": "2022-01-20T21:32:56.446Z"
   },
   {
    "duration": 464,
    "start_time": "2022-01-20T21:32:56.447Z"
   },
   {
    "duration": 463,
    "start_time": "2022-01-20T21:32:56.448Z"
   },
   {
    "duration": 463,
    "start_time": "2022-01-20T21:32:56.449Z"
   },
   {
    "duration": 463,
    "start_time": "2022-01-20T21:32:56.450Z"
   },
   {
    "duration": 11,
    "start_time": "2022-01-20T21:33:37.169Z"
   },
   {
    "duration": 42,
    "start_time": "2022-01-20T21:33:38.408Z"
   },
   {
    "duration": 1152,
    "start_time": "2022-01-20T21:33:55.858Z"
   },
   {
    "duration": 755,
    "start_time": "2022-01-20T21:33:57.012Z"
   },
   {
    "duration": 17,
    "start_time": "2022-01-20T21:33:57.769Z"
   },
   {
    "duration": 122,
    "start_time": "2022-01-20T21:33:57.788Z"
   },
   {
    "duration": 48,
    "start_time": "2022-01-20T21:33:57.912Z"
   },
   {
    "duration": 4,
    "start_time": "2022-01-20T21:33:57.962Z"
   },
   {
    "duration": 77,
    "start_time": "2022-01-20T21:33:57.968Z"
   },
   {
    "duration": 679,
    "start_time": "2022-01-20T21:33:58.048Z"
   },
   {
    "duration": 18,
    "start_time": "2022-01-20T21:33:58.729Z"
   },
   {
    "duration": 119,
    "start_time": "2022-01-20T21:33:58.748Z"
   },
   {
    "duration": 70,
    "start_time": "2022-01-20T21:33:58.869Z"
   },
   {
    "duration": 112,
    "start_time": "2022-01-20T21:33:58.941Z"
   },
   {
    "duration": 125,
    "start_time": "2022-01-20T21:33:59.058Z"
   },
   {
    "duration": 86,
    "start_time": "2022-01-20T21:33:59.185Z"
   },
   {
    "duration": 11,
    "start_time": "2022-01-20T21:33:59.272Z"
   },
   {
    "duration": 691,
    "start_time": "2022-01-20T21:33:59.284Z"
   },
   {
    "duration": 24,
    "start_time": "2022-01-20T21:33:59.976Z"
   },
   {
    "duration": 4,
    "start_time": "2022-01-20T21:34:00.002Z"
   },
   {
    "duration": 395,
    "start_time": "2022-01-20T21:34:00.007Z"
   },
   {
    "duration": 128,
    "start_time": "2022-01-20T21:34:00.404Z"
   },
   {
    "duration": 445,
    "start_time": "2022-01-20T21:34:00.534Z"
   },
   {
    "duration": 2,
    "start_time": "2022-01-20T21:34:00.981Z"
   },
   {
    "duration": 21,
    "start_time": "2022-01-20T21:34:00.986Z"
   },
   {
    "duration": 57,
    "start_time": "2022-01-20T21:34:01.009Z"
   },
   {
    "duration": 2,
    "start_time": "2022-01-20T21:34:01.068Z"
   },
   {
    "duration": 12,
    "start_time": "2022-01-20T21:34:01.072Z"
   },
   {
    "duration": 17344,
    "start_time": "2022-01-20T21:34:01.085Z"
   },
   {
    "duration": 499,
    "start_time": "2022-01-20T21:34:18.430Z"
   },
   {
    "duration": 96,
    "start_time": "2022-01-20T21:34:18.931Z"
   },
   {
    "duration": 4,
    "start_time": "2022-01-20T21:34:19.029Z"
   },
   {
    "duration": 9899,
    "start_time": "2022-01-20T21:34:19.034Z"
   },
   {
    "duration": 321,
    "start_time": "2022-01-20T21:34:28.934Z"
   },
   {
    "duration": 337,
    "start_time": "2022-01-20T21:34:29.256Z"
   },
   {
    "duration": 475,
    "start_time": "2022-01-20T21:34:29.120Z"
   },
   {
    "duration": 1276,
    "start_time": "2022-01-20T21:34:37.551Z"
   },
   {
    "duration": 737,
    "start_time": "2022-01-20T21:34:38.829Z"
   },
   {
    "duration": 14,
    "start_time": "2022-01-20T21:34:39.568Z"
   },
   {
    "duration": 123,
    "start_time": "2022-01-20T21:34:39.584Z"
   },
   {
    "duration": 46,
    "start_time": "2022-01-20T21:34:39.709Z"
   },
   {
    "duration": 6,
    "start_time": "2022-01-20T21:34:39.757Z"
   },
   {
    "duration": 66,
    "start_time": "2022-01-20T21:34:39.764Z"
   },
   {
    "duration": 593,
    "start_time": "2022-01-20T21:34:39.831Z"
   },
   {
    "duration": 27,
    "start_time": "2022-01-20T21:34:40.428Z"
   },
   {
    "duration": 232,
    "start_time": "2022-01-20T21:34:40.458Z"
   },
   {
    "duration": 88,
    "start_time": "2022-01-20T21:34:40.692Z"
   },
   {
    "duration": 100,
    "start_time": "2022-01-20T21:34:40.782Z"
   },
   {
    "duration": 123,
    "start_time": "2022-01-20T21:34:40.883Z"
   },
   {
    "duration": 80,
    "start_time": "2022-01-20T21:34:41.007Z"
   },
   {
    "duration": 10,
    "start_time": "2022-01-20T21:34:41.088Z"
   },
   {
    "duration": 756,
    "start_time": "2022-01-20T21:34:41.099Z"
   },
   {
    "duration": 23,
    "start_time": "2022-01-20T21:34:41.856Z"
   },
   {
    "duration": 4,
    "start_time": "2022-01-20T21:34:41.881Z"
   },
   {
    "duration": 424,
    "start_time": "2022-01-20T21:34:41.886Z"
   },
   {
    "duration": 118,
    "start_time": "2022-01-20T21:34:42.312Z"
   },
   {
    "duration": 433,
    "start_time": "2022-01-20T21:34:42.432Z"
   },
   {
    "duration": 3,
    "start_time": "2022-01-20T21:34:42.867Z"
   },
   {
    "duration": 14,
    "start_time": "2022-01-20T21:34:42.871Z"
   },
   {
    "duration": 41,
    "start_time": "2022-01-20T21:34:42.887Z"
   },
   {
    "duration": 3,
    "start_time": "2022-01-20T21:34:42.930Z"
   },
   {
    "duration": 5,
    "start_time": "2022-01-20T21:34:42.934Z"
   },
   {
    "duration": 3,
    "start_time": "2022-01-20T21:34:42.941Z"
   },
   {
    "duration": 17884,
    "start_time": "2022-01-20T21:34:42.945Z"
   },
   {
    "duration": 502,
    "start_time": "2022-01-20T21:35:00.830Z"
   },
   {
    "duration": 95,
    "start_time": "2022-01-20T21:35:01.334Z"
   },
   {
    "duration": 5,
    "start_time": "2022-01-20T21:35:01.431Z"
   },
   {
    "duration": 8996,
    "start_time": "2022-01-20T21:35:01.438Z"
   },
   {
    "duration": 3087,
    "start_time": "2022-01-20T21:35:10.436Z"
   },
   {
    "duration": 3157,
    "start_time": "2022-01-20T21:35:13.525Z"
   },
   {
    "duration": 509,
    "start_time": "2022-01-20T21:35:16.176Z"
   },
   {
    "duration": 1213,
    "start_time": "2022-01-20T21:36:43.042Z"
   },
   {
    "duration": 712,
    "start_time": "2022-01-20T21:36:44.257Z"
   },
   {
    "duration": 16,
    "start_time": "2022-01-20T21:36:44.970Z"
   },
   {
    "duration": 120,
    "start_time": "2022-01-20T21:36:44.987Z"
   },
   {
    "duration": 46,
    "start_time": "2022-01-20T21:36:45.109Z"
   },
   {
    "duration": 5,
    "start_time": "2022-01-20T21:36:45.157Z"
   },
   {
    "duration": 69,
    "start_time": "2022-01-20T21:36:45.163Z"
   },
   {
    "duration": 630,
    "start_time": "2022-01-20T21:36:45.234Z"
   },
   {
    "duration": 16,
    "start_time": "2022-01-20T21:36:45.867Z"
   },
   {
    "duration": 112,
    "start_time": "2022-01-20T21:36:45.885Z"
   },
   {
    "duration": 71,
    "start_time": "2022-01-20T21:36:45.998Z"
   },
   {
    "duration": 105,
    "start_time": "2022-01-20T21:36:46.070Z"
   },
   {
    "duration": 119,
    "start_time": "2022-01-20T21:36:46.176Z"
   },
   {
    "duration": 82,
    "start_time": "2022-01-20T21:36:46.296Z"
   },
   {
    "duration": 9,
    "start_time": "2022-01-20T21:36:46.380Z"
   },
   {
    "duration": 701,
    "start_time": "2022-01-20T21:36:46.391Z"
   },
   {
    "duration": 23,
    "start_time": "2022-01-20T21:36:47.094Z"
   },
   {
    "duration": 3,
    "start_time": "2022-01-20T21:36:47.119Z"
   },
   {
    "duration": 369,
    "start_time": "2022-01-20T21:36:47.127Z"
   },
   {
    "duration": 124,
    "start_time": "2022-01-20T21:36:47.497Z"
   },
   {
    "duration": 452,
    "start_time": "2022-01-20T21:36:47.622Z"
   },
   {
    "duration": 3,
    "start_time": "2022-01-20T21:36:48.075Z"
   },
   {
    "duration": 12,
    "start_time": "2022-01-20T21:36:48.081Z"
   },
   {
    "duration": 41,
    "start_time": "2022-01-20T21:36:48.095Z"
   },
   {
    "duration": 3,
    "start_time": "2022-01-20T21:36:48.138Z"
   },
   {
    "duration": 4,
    "start_time": "2022-01-20T21:36:48.142Z"
   },
   {
    "duration": 5,
    "start_time": "2022-01-20T21:36:48.147Z"
   },
   {
    "duration": 19979,
    "start_time": "2022-01-20T21:36:48.154Z"
   },
   {
    "duration": 500,
    "start_time": "2022-01-20T21:37:08.134Z"
   },
   {
    "duration": 92,
    "start_time": "2022-01-20T21:37:08.636Z"
   },
   {
    "duration": 4,
    "start_time": "2022-01-20T21:37:08.730Z"
   },
   {
    "duration": 9099,
    "start_time": "2022-01-20T21:37:08.736Z"
   },
   {
    "duration": 701,
    "start_time": "2022-01-20T21:37:17.836Z"
   },
   {
    "duration": 4,
    "start_time": "2022-01-20T21:37:18.539Z"
   },
   {
    "duration": 9272,
    "start_time": "2022-01-20T21:37:18.544Z"
   },
   {
    "duration": 623,
    "start_time": "2022-01-20T21:45:00.388Z"
   },
   {
    "duration": 427,
    "start_time": "2022-01-20T21:51:43.100Z"
   },
   {
    "duration": 318,
    "start_time": "2022-01-20T21:53:52.015Z"
   },
   {
    "duration": 9098,
    "start_time": "2022-01-20T21:54:01.231Z"
   },
   {
    "duration": 1132,
    "start_time": "2022-01-20T22:01:14.621Z"
   },
   {
    "duration": 735,
    "start_time": "2022-01-20T22:01:15.755Z"
   },
   {
    "duration": 15,
    "start_time": "2022-01-20T22:01:16.492Z"
   },
   {
    "duration": 122,
    "start_time": "2022-01-20T22:01:16.509Z"
   },
   {
    "duration": 44,
    "start_time": "2022-01-20T22:01:16.632Z"
   },
   {
    "duration": 5,
    "start_time": "2022-01-20T22:01:16.678Z"
   },
   {
    "duration": 69,
    "start_time": "2022-01-20T22:01:16.685Z"
   },
   {
    "duration": 664,
    "start_time": "2022-01-20T22:01:16.755Z"
   },
   {
    "duration": 17,
    "start_time": "2022-01-20T22:01:17.422Z"
   },
   {
    "duration": 102,
    "start_time": "2022-01-20T22:01:17.441Z"
   },
   {
    "duration": 64,
    "start_time": "2022-01-20T22:01:17.545Z"
   },
   {
    "duration": 106,
    "start_time": "2022-01-20T22:01:17.611Z"
   },
   {
    "duration": 122,
    "start_time": "2022-01-20T22:01:17.718Z"
   },
   {
    "duration": 86,
    "start_time": "2022-01-20T22:01:17.842Z"
   },
   {
    "duration": 9,
    "start_time": "2022-01-20T22:01:17.930Z"
   },
   {
    "duration": 763,
    "start_time": "2022-01-20T22:01:17.940Z"
   },
   {
    "duration": 43,
    "start_time": "2022-01-20T22:01:18.704Z"
   },
   {
    "duration": 56,
    "start_time": "2022-01-20T22:01:18.749Z"
   },
   {
    "duration": 464,
    "start_time": "2022-01-20T22:01:18.807Z"
   },
   {
    "duration": 128,
    "start_time": "2022-01-20T22:01:19.272Z"
   },
   {
    "duration": 441,
    "start_time": "2022-01-20T22:01:19.401Z"
   },
   {
    "duration": 8,
    "start_time": "2022-01-20T22:01:19.843Z"
   },
   {
    "duration": 13,
    "start_time": "2022-01-20T22:01:19.853Z"
   },
   {
    "duration": 51,
    "start_time": "2022-01-20T22:01:19.868Z"
   },
   {
    "duration": 3,
    "start_time": "2022-01-20T22:01:19.921Z"
   },
   {
    "duration": 9,
    "start_time": "2022-01-20T22:01:19.925Z"
   },
   {
    "duration": 14,
    "start_time": "2022-01-20T22:01:19.937Z"
   },
   {
    "duration": 17474,
    "start_time": "2022-01-20T22:01:19.953Z"
   },
   {
    "duration": 500,
    "start_time": "2022-01-20T22:01:37.429Z"
   },
   {
    "duration": 96,
    "start_time": "2022-01-20T22:01:37.931Z"
   },
   {
    "duration": 4,
    "start_time": "2022-01-20T22:01:38.029Z"
   },
   {
    "duration": 6,
    "start_time": "2022-01-20T22:01:38.034Z"
   },
   {
    "duration": 8195,
    "start_time": "2022-01-20T22:01:38.041Z"
   },
   {
    "duration": 11296,
    "start_time": "2022-01-20T22:01:46.238Z"
   },
   {
    "duration": 701,
    "start_time": "2022-01-20T22:01:57.536Z"
   },
   {
    "duration": 823,
    "start_time": "2022-01-20T22:01:58.238Z"
   },
   {
    "duration": 4,
    "start_time": "2022-01-20T22:01:59.063Z"
   },
   {
    "duration": 69,
    "start_time": "2022-01-20T22:01:59.069Z"
   },
   {
    "duration": 401,
    "start_time": "2022-01-20T22:01:59.145Z"
   },
   {
    "duration": 1328,
    "start_time": "2022-01-20T22:20:24.635Z"
   },
   {
    "duration": 750,
    "start_time": "2022-01-20T22:20:25.965Z"
   },
   {
    "duration": 20,
    "start_time": "2022-01-20T22:20:26.718Z"
   },
   {
    "duration": 125,
    "start_time": "2022-01-20T22:20:26.740Z"
   },
   {
    "duration": 43,
    "start_time": "2022-01-20T22:20:26.867Z"
   },
   {
    "duration": 17,
    "start_time": "2022-01-20T22:20:26.911Z"
   },
   {
    "duration": 54,
    "start_time": "2022-01-20T22:20:26.930Z"
   },
   {
    "duration": 1010,
    "start_time": "2022-01-20T22:20:26.986Z"
   },
   {
    "duration": 18,
    "start_time": "2022-01-20T22:20:27.998Z"
   },
   {
    "duration": 109,
    "start_time": "2022-01-20T22:20:28.018Z"
   },
   {
    "duration": 64,
    "start_time": "2022-01-20T22:20:28.129Z"
   },
   {
    "duration": 111,
    "start_time": "2022-01-20T22:20:28.195Z"
   },
   {
    "duration": 124,
    "start_time": "2022-01-20T22:20:28.307Z"
   },
   {
    "duration": 78,
    "start_time": "2022-01-20T22:20:28.432Z"
   },
   {
    "duration": 18,
    "start_time": "2022-01-20T22:20:28.512Z"
   },
   {
    "duration": 690,
    "start_time": "2022-01-20T22:20:28.531Z"
   },
   {
    "duration": 23,
    "start_time": "2022-01-20T22:20:29.226Z"
   },
   {
    "duration": 3,
    "start_time": "2022-01-20T22:20:29.251Z"
   },
   {
    "duration": 384,
    "start_time": "2022-01-20T22:20:29.255Z"
   },
   {
    "duration": 130,
    "start_time": "2022-01-20T22:20:29.641Z"
   },
   {
    "duration": 448,
    "start_time": "2022-01-20T22:20:29.772Z"
   },
   {
    "duration": 5,
    "start_time": "2022-01-20T22:20:30.223Z"
   },
   {
    "duration": 22,
    "start_time": "2022-01-20T22:20:30.229Z"
   },
   {
    "duration": 53,
    "start_time": "2022-01-20T22:20:30.253Z"
   },
   {
    "duration": 3,
    "start_time": "2022-01-20T22:20:30.308Z"
   },
   {
    "duration": 20,
    "start_time": "2022-01-20T22:20:30.312Z"
   },
   {
    "duration": 12,
    "start_time": "2022-01-20T22:20:30.333Z"
   },
   {
    "duration": 18783,
    "start_time": "2022-01-20T22:20:30.346Z"
   },
   {
    "duration": 498,
    "start_time": "2022-01-20T22:20:49.131Z"
   },
   {
    "duration": 96,
    "start_time": "2022-01-20T22:20:49.631Z"
   },
   {
    "duration": 3,
    "start_time": "2022-01-20T22:20:49.729Z"
   },
   {
    "duration": 4,
    "start_time": "2022-01-20T22:20:49.734Z"
   },
   {
    "duration": 9400,
    "start_time": "2022-01-20T22:20:49.739Z"
   },
   {
    "duration": 15499,
    "start_time": "2022-01-20T22:20:59.140Z"
   },
   {
    "duration": 700,
    "start_time": "2022-01-20T22:21:14.640Z"
   },
   {
    "duration": 893,
    "start_time": "2022-01-20T22:21:15.341Z"
   },
   {
    "duration": 4,
    "start_time": "2022-01-20T22:21:16.236Z"
   },
   {
    "duration": 5,
    "start_time": "2022-01-20T22:21:16.241Z"
   },
   {
    "duration": 450,
    "start_time": "2022-01-20T22:21:16.247Z"
   },
   {
    "duration": 9680,
    "start_time": "2022-01-20T22:21:27.569Z"
   },
   {
    "duration": 1104,
    "start_time": "2022-01-20T22:33:24.346Z"
   },
   {
    "duration": 957,
    "start_time": "2022-01-20T22:33:25.452Z"
   },
   {
    "duration": 22,
    "start_time": "2022-01-20T22:33:26.411Z"
   },
   {
    "duration": 120,
    "start_time": "2022-01-20T22:33:26.434Z"
   },
   {
    "duration": 43,
    "start_time": "2022-01-20T22:33:26.556Z"
   },
   {
    "duration": 5,
    "start_time": "2022-01-20T22:33:26.601Z"
   },
   {
    "duration": 69,
    "start_time": "2022-01-20T22:33:26.607Z"
   },
   {
    "duration": 576,
    "start_time": "2022-01-20T22:33:26.679Z"
   },
   {
    "duration": 18,
    "start_time": "2022-01-20T22:33:27.258Z"
   },
   {
    "duration": 119,
    "start_time": "2022-01-20T22:33:27.277Z"
   },
   {
    "duration": 70,
    "start_time": "2022-01-20T22:33:27.397Z"
   },
   {
    "duration": 113,
    "start_time": "2022-01-20T22:33:27.469Z"
   },
   {
    "duration": 126,
    "start_time": "2022-01-20T22:33:27.584Z"
   },
   {
    "duration": 88,
    "start_time": "2022-01-20T22:33:27.711Z"
   },
   {
    "duration": 10,
    "start_time": "2022-01-20T22:33:27.800Z"
   },
   {
    "duration": 677,
    "start_time": "2022-01-20T22:33:27.827Z"
   },
   {
    "duration": 32,
    "start_time": "2022-01-20T22:33:28.505Z"
   },
   {
    "duration": 4,
    "start_time": "2022-01-20T22:33:28.538Z"
   },
   {
    "duration": 376,
    "start_time": "2022-01-20T22:33:28.543Z"
   },
   {
    "duration": 128,
    "start_time": "2022-01-20T22:33:28.921Z"
   },
   {
    "duration": 432,
    "start_time": "2022-01-20T22:33:29.051Z"
   },
   {
    "duration": 576,
    "start_time": "2022-01-20T22:33:29.485Z"
   },
   {
    "duration": 613,
    "start_time": "2022-01-20T22:33:29.450Z"
   },
   {
    "duration": 613,
    "start_time": "2022-01-20T22:33:29.451Z"
   },
   {
    "duration": 484,
    "start_time": "2022-01-20T22:33:29.581Z"
   },
   {
    "duration": 483,
    "start_time": "2022-01-20T22:33:29.583Z"
   },
   {
    "duration": 483,
    "start_time": "2022-01-20T22:33:29.584Z"
   },
   {
    "duration": 481,
    "start_time": "2022-01-20T22:33:29.586Z"
   },
   {
    "duration": 481,
    "start_time": "2022-01-20T22:33:29.587Z"
   },
   {
    "duration": 480,
    "start_time": "2022-01-20T22:33:29.589Z"
   },
   {
    "duration": 479,
    "start_time": "2022-01-20T22:33:29.591Z"
   },
   {
    "duration": 478,
    "start_time": "2022-01-20T22:33:29.593Z"
   },
   {
    "duration": 478,
    "start_time": "2022-01-20T22:33:29.594Z"
   },
   {
    "duration": 477,
    "start_time": "2022-01-20T22:33:29.596Z"
   },
   {
    "duration": 476,
    "start_time": "2022-01-20T22:33:29.598Z"
   },
   {
    "duration": 475,
    "start_time": "2022-01-20T22:33:29.600Z"
   },
   {
    "duration": 475,
    "start_time": "2022-01-20T22:33:29.601Z"
   },
   {
    "duration": 474,
    "start_time": "2022-01-20T22:33:29.602Z"
   },
   {
    "duration": 356,
    "start_time": "2022-01-20T22:33:29.721Z"
   },
   {
    "duration": 356,
    "start_time": "2022-01-20T22:33:29.722Z"
   },
   {
    "duration": 1133,
    "start_time": "2022-01-20T22:34:28.028Z"
   },
   {
    "duration": 746,
    "start_time": "2022-01-20T22:34:29.163Z"
   },
   {
    "duration": 26,
    "start_time": "2022-01-20T22:34:29.911Z"
   },
   {
    "duration": 123,
    "start_time": "2022-01-20T22:34:29.938Z"
   },
   {
    "duration": 45,
    "start_time": "2022-01-20T22:34:30.063Z"
   },
   {
    "duration": 18,
    "start_time": "2022-01-20T22:34:30.109Z"
   },
   {
    "duration": 59,
    "start_time": "2022-01-20T22:34:30.129Z"
   },
   {
    "duration": 1001,
    "start_time": "2022-01-20T22:34:30.190Z"
   },
   {
    "duration": 17,
    "start_time": "2022-01-20T22:34:31.193Z"
   },
   {
    "duration": 109,
    "start_time": "2022-01-20T22:34:31.212Z"
   },
   {
    "duration": 69,
    "start_time": "2022-01-20T22:34:31.323Z"
   },
   {
    "duration": 118,
    "start_time": "2022-01-20T22:34:31.394Z"
   },
   {
    "duration": 129,
    "start_time": "2022-01-20T22:34:31.514Z"
   },
   {
    "duration": 89,
    "start_time": "2022-01-20T22:34:31.645Z"
   },
   {
    "duration": 11,
    "start_time": "2022-01-20T22:34:31.736Z"
   },
   {
    "duration": 770,
    "start_time": "2022-01-20T22:34:31.749Z"
   },
   {
    "duration": 27,
    "start_time": "2022-01-20T22:34:32.520Z"
   },
   {
    "duration": 3,
    "start_time": "2022-01-20T22:34:32.549Z"
   },
   {
    "duration": 381,
    "start_time": "2022-01-20T22:34:32.553Z"
   },
   {
    "duration": 128,
    "start_time": "2022-01-20T22:34:32.936Z"
   },
   {
    "duration": 11,
    "start_time": "2022-01-20T22:34:33.066Z"
   },
   {
    "duration": 440,
    "start_time": "2022-01-20T22:34:33.079Z"
   },
   {
    "duration": 45,
    "start_time": "2022-01-20T22:34:33.523Z"
   },
   {
    "duration": 3,
    "start_time": "2022-01-20T22:34:33.570Z"
   },
   {
    "duration": 6,
    "start_time": "2022-01-20T22:34:33.575Z"
   },
   {
    "duration": 4,
    "start_time": "2022-01-20T22:34:33.583Z"
   },
   {
    "duration": 18242,
    "start_time": "2022-01-20T22:34:33.589Z"
   },
   {
    "duration": 496,
    "start_time": "2022-01-20T22:34:51.833Z"
   },
   {
    "duration": 96,
    "start_time": "2022-01-20T22:34:52.331Z"
   },
   {
    "duration": 4,
    "start_time": "2022-01-20T22:34:52.429Z"
   },
   {
    "duration": 10,
    "start_time": "2022-01-20T22:34:52.434Z"
   },
   {
    "duration": 7892,
    "start_time": "2022-01-20T22:34:52.445Z"
   },
   {
    "duration": 11000,
    "start_time": "2022-01-20T22:35:00.339Z"
   },
   {
    "duration": 6301,
    "start_time": "2022-01-20T22:35:11.340Z"
   },
   {
    "duration": 3117,
    "start_time": "2022-01-20T22:35:17.643Z"
   },
   {
    "duration": 7078,
    "start_time": "2022-01-20T22:35:20.762Z"
   },
   {
    "duration": 618,
    "start_time": "2022-01-20T22:35:27.224Z"
   },
   {
    "duration": 610,
    "start_time": "2022-01-20T22:35:27.233Z"
   },
   {
    "duration": 609,
    "start_time": "2022-01-20T22:35:27.235Z"
   },
   {
    "duration": 1166,
    "start_time": "2022-01-21T07:07:02.822Z"
   },
   {
    "duration": 795,
    "start_time": "2022-01-21T07:07:03.990Z"
   },
   {
    "duration": 21,
    "start_time": "2022-01-21T07:07:04.786Z"
   },
   {
    "duration": 136,
    "start_time": "2022-01-21T07:07:04.809Z"
   },
   {
    "duration": 45,
    "start_time": "2022-01-21T07:07:04.946Z"
   },
   {
    "duration": 3,
    "start_time": "2022-01-21T07:07:04.999Z"
   },
   {
    "duration": 68,
    "start_time": "2022-01-21T07:07:05.004Z"
   },
   {
    "duration": 445,
    "start_time": "2022-01-21T07:07:05.075Z"
   },
   {
    "duration": 20,
    "start_time": "2022-01-21T07:07:05.523Z"
   },
   {
    "duration": 123,
    "start_time": "2022-01-21T07:07:05.545Z"
   },
   {
    "duration": 78,
    "start_time": "2022-01-21T07:07:05.670Z"
   },
   {
    "duration": 113,
    "start_time": "2022-01-21T07:07:05.750Z"
   },
   {
    "duration": 137,
    "start_time": "2022-01-21T07:07:05.865Z"
   },
   {
    "duration": 97,
    "start_time": "2022-01-21T07:07:06.004Z"
   },
   {
    "duration": 10,
    "start_time": "2022-01-21T07:07:06.103Z"
   },
   {
    "duration": 816,
    "start_time": "2022-01-21T07:07:06.115Z"
   },
   {
    "duration": 24,
    "start_time": "2022-01-21T07:07:06.932Z"
   },
   {
    "duration": 3,
    "start_time": "2022-01-21T07:07:06.958Z"
   },
   {
    "duration": 422,
    "start_time": "2022-01-21T07:07:06.963Z"
   },
   {
    "duration": 139,
    "start_time": "2022-01-21T07:07:07.386Z"
   },
   {
    "duration": 12,
    "start_time": "2022-01-21T07:07:07.527Z"
   },
   {
    "duration": 485,
    "start_time": "2022-01-21T07:07:07.540Z"
   },
   {
    "duration": 3,
    "start_time": "2022-01-21T07:07:08.029Z"
   },
   {
    "duration": 5,
    "start_time": "2022-01-21T07:07:08.034Z"
   },
   {
    "duration": 6,
    "start_time": "2022-01-21T07:07:08.040Z"
   },
   {
    "duration": 18454,
    "start_time": "2022-01-21T07:07:08.047Z"
   },
   {
    "duration": 598,
    "start_time": "2022-01-21T07:07:26.502Z"
   },
   {
    "duration": 5,
    "start_time": "2022-01-21T07:07:27.102Z"
   },
   {
    "duration": 96,
    "start_time": "2022-01-21T07:07:27.109Z"
   },
   {
    "duration": 22,
    "start_time": "2022-01-21T07:07:27.207Z"
   },
   {
    "duration": 12775,
    "start_time": "2022-01-21T07:07:27.230Z"
   },
   {
    "duration": 11797,
    "start_time": "2022-01-21T07:07:40.007Z"
   },
   {
    "duration": 799,
    "start_time": "2022-01-21T07:07:51.806Z"
   },
   {
    "duration": 992,
    "start_time": "2022-01-21T07:07:52.607Z"
   },
   {
    "duration": 400,
    "start_time": "2022-01-21T07:07:53.601Z"
   },
   {
    "duration": 816,
    "start_time": "2022-01-21T07:07:53.186Z"
   },
   {
    "duration": 813,
    "start_time": "2022-01-21T07:07:53.190Z"
   },
   {
    "duration": 813,
    "start_time": "2022-01-21T07:07:53.191Z"
   },
   {
    "duration": 4,
    "start_time": "2022-01-21T07:08:37.930Z"
   },
   {
    "duration": 4,
    "start_time": "2022-01-21T07:08:39.453Z"
   },
   {
    "duration": 1181,
    "start_time": "2022-01-21T07:08:48.481Z"
   },
   {
    "duration": 776,
    "start_time": "2022-01-21T07:08:49.664Z"
   },
   {
    "duration": 17,
    "start_time": "2022-01-21T07:08:50.446Z"
   },
   {
    "duration": 130,
    "start_time": "2022-01-21T07:08:50.464Z"
   },
   {
    "duration": 44,
    "start_time": "2022-01-21T07:08:50.598Z"
   },
   {
    "duration": 25,
    "start_time": "2022-01-21T07:08:50.644Z"
   },
   {
    "duration": 75,
    "start_time": "2022-01-21T07:08:50.671Z"
   },
   {
    "duration": 429,
    "start_time": "2022-01-21T07:08:50.748Z"
   },
   {
    "duration": 21,
    "start_time": "2022-01-21T07:08:51.180Z"
   },
   {
    "duration": 121,
    "start_time": "2022-01-21T07:08:51.203Z"
   },
   {
    "duration": 77,
    "start_time": "2022-01-21T07:08:51.326Z"
   },
   {
    "duration": 111,
    "start_time": "2022-01-21T07:08:51.405Z"
   },
   {
    "duration": 133,
    "start_time": "2022-01-21T07:08:51.517Z"
   },
   {
    "duration": 96,
    "start_time": "2022-01-21T07:08:51.652Z"
   },
   {
    "duration": 11,
    "start_time": "2022-01-21T07:08:51.750Z"
   },
   {
    "duration": 806,
    "start_time": "2022-01-21T07:08:51.763Z"
   },
   {
    "duration": 29,
    "start_time": "2022-01-21T07:08:52.571Z"
   },
   {
    "duration": 4,
    "start_time": "2022-01-21T07:08:52.601Z"
   },
   {
    "duration": 413,
    "start_time": "2022-01-21T07:08:52.607Z"
   },
   {
    "duration": 137,
    "start_time": "2022-01-21T07:08:53.022Z"
   },
   {
    "duration": 13,
    "start_time": "2022-01-21T07:08:53.161Z"
   },
   {
    "duration": 471,
    "start_time": "2022-01-21T07:08:53.178Z"
   },
   {
    "duration": 4,
    "start_time": "2022-01-21T07:08:53.651Z"
   },
   {
    "duration": 4,
    "start_time": "2022-01-21T07:08:53.658Z"
   },
   {
    "duration": 5,
    "start_time": "2022-01-21T07:08:53.664Z"
   },
   {
    "duration": 18630,
    "start_time": "2022-01-21T07:08:53.670Z"
   },
   {
    "duration": 596,
    "start_time": "2022-01-21T07:09:12.303Z"
   },
   {
    "duration": 7,
    "start_time": "2022-01-21T07:09:12.901Z"
   },
   {
    "duration": 88,
    "start_time": "2022-01-21T07:09:12.910Z"
   },
   {
    "duration": 6,
    "start_time": "2022-01-21T07:09:13.000Z"
   },
   {
    "duration": 8402,
    "start_time": "2022-01-21T07:09:13.008Z"
   },
   {
    "duration": 11898,
    "start_time": "2022-01-21T07:09:21.411Z"
   },
   {
    "duration": 795,
    "start_time": "2022-01-21T07:09:33.311Z"
   },
   {
    "duration": 992,
    "start_time": "2022-01-21T07:09:34.108Z"
   },
   {
    "duration": 4,
    "start_time": "2022-01-21T07:09:35.102Z"
   },
   {
    "duration": 5,
    "start_time": "2022-01-21T07:09:35.108Z"
   },
   {
    "duration": 406,
    "start_time": "2022-01-21T07:09:35.115Z"
   },
   {
    "duration": 822,
    "start_time": "2022-01-21T07:09:34.701Z"
   },
   {
    "duration": 9956,
    "start_time": "2022-01-21T07:36:17.569Z"
   },
   {
    "duration": 265,
    "start_time": "2022-01-21T07:36:47.430Z"
   },
   {
    "duration": 274,
    "start_time": "2022-01-21T07:37:01.670Z"
   },
   {
    "duration": 11,
    "start_time": "2022-01-21T07:45:17.044Z"
   },
   {
    "duration": 1141,
    "start_time": "2022-01-21T07:51:24.427Z"
   },
   {
    "duration": 762,
    "start_time": "2022-01-21T07:51:25.569Z"
   },
   {
    "duration": 16,
    "start_time": "2022-01-21T07:51:26.333Z"
   },
   {
    "duration": 135,
    "start_time": "2022-01-21T07:51:26.351Z"
   },
   {
    "duration": 45,
    "start_time": "2022-01-21T07:51:26.487Z"
   },
   {
    "duration": 6,
    "start_time": "2022-01-21T07:51:26.534Z"
   },
   {
    "duration": 79,
    "start_time": "2022-01-21T07:51:26.541Z"
   },
   {
    "duration": 443,
    "start_time": "2022-01-21T07:51:26.622Z"
   },
   {
    "duration": 18,
    "start_time": "2022-01-21T07:51:27.068Z"
   },
   {
    "duration": 119,
    "start_time": "2022-01-21T07:51:27.088Z"
   },
   {
    "duration": 72,
    "start_time": "2022-01-21T07:51:27.209Z"
   },
   {
    "duration": 116,
    "start_time": "2022-01-21T07:51:27.283Z"
   },
   {
    "duration": 136,
    "start_time": "2022-01-21T07:51:27.401Z"
   },
   {
    "duration": 87,
    "start_time": "2022-01-21T07:51:27.539Z"
   },
   {
    "duration": 10,
    "start_time": "2022-01-21T07:51:27.628Z"
   },
   {
    "duration": 787,
    "start_time": "2022-01-21T07:51:27.640Z"
   },
   {
    "duration": 25,
    "start_time": "2022-01-21T07:51:28.429Z"
   },
   {
    "duration": 4,
    "start_time": "2022-01-21T07:51:28.456Z"
   },
   {
    "duration": 37,
    "start_time": "2022-01-21T07:51:28.462Z"
   },
   {
    "duration": 89,
    "start_time": "2022-01-21T07:51:28.501Z"
   },
   {
    "duration": 830,
    "start_time": "2022-01-21T07:51:27.763Z"
   },
   {
    "duration": 828,
    "start_time": "2022-01-21T07:51:27.766Z"
   },
   {
    "duration": 827,
    "start_time": "2022-01-21T07:51:27.768Z"
   },
   {
    "duration": 826,
    "start_time": "2022-01-21T07:51:27.770Z"
   },
   {
    "duration": 819,
    "start_time": "2022-01-21T07:51:27.778Z"
   },
   {
    "duration": 815,
    "start_time": "2022-01-21T07:51:27.783Z"
   },
   {
    "duration": 813,
    "start_time": "2022-01-21T07:51:27.786Z"
   },
   {
    "duration": 813,
    "start_time": "2022-01-21T07:51:27.787Z"
   },
   {
    "duration": 812,
    "start_time": "2022-01-21T07:51:27.789Z"
   },
   {
    "duration": 810,
    "start_time": "2022-01-21T07:51:27.791Z"
   },
   {
    "duration": 808,
    "start_time": "2022-01-21T07:51:27.794Z"
   },
   {
    "duration": 807,
    "start_time": "2022-01-21T07:51:27.797Z"
   },
   {
    "duration": 806,
    "start_time": "2022-01-21T07:51:27.799Z"
   },
   {
    "duration": 804,
    "start_time": "2022-01-21T07:51:27.802Z"
   },
   {
    "duration": 803,
    "start_time": "2022-01-21T07:51:27.804Z"
   },
   {
    "duration": 801,
    "start_time": "2022-01-21T07:51:27.807Z"
   },
   {
    "duration": 800,
    "start_time": "2022-01-21T07:51:27.809Z"
   },
   {
    "duration": 799,
    "start_time": "2022-01-21T07:51:27.811Z"
   },
   {
    "duration": 799,
    "start_time": "2022-01-21T07:51:27.813Z"
   },
   {
    "duration": 798,
    "start_time": "2022-01-21T07:51:27.815Z"
   },
   {
    "duration": 798,
    "start_time": "2022-01-21T07:51:27.816Z"
   },
   {
    "duration": 797,
    "start_time": "2022-01-21T07:51:27.818Z"
   },
   {
    "duration": 796,
    "start_time": "2022-01-21T07:51:27.820Z"
   },
   {
    "duration": 2,
    "start_time": "2022-01-21T07:51:45.165Z"
   },
   {
    "duration": 1197,
    "start_time": "2022-01-21T07:52:31.597Z"
   },
   {
    "duration": 784,
    "start_time": "2022-01-21T07:52:32.796Z"
   },
   {
    "duration": 20,
    "start_time": "2022-01-21T07:52:33.582Z"
   },
   {
    "duration": 134,
    "start_time": "2022-01-21T07:52:33.604Z"
   },
   {
    "duration": 43,
    "start_time": "2022-01-21T07:52:33.740Z"
   },
   {
    "duration": 17,
    "start_time": "2022-01-21T07:52:33.784Z"
   },
   {
    "duration": 68,
    "start_time": "2022-01-21T07:52:33.803Z"
   },
   {
    "duration": 424,
    "start_time": "2022-01-21T07:52:33.873Z"
   },
   {
    "duration": 19,
    "start_time": "2022-01-21T07:52:34.299Z"
   },
   {
    "duration": 122,
    "start_time": "2022-01-21T07:52:34.319Z"
   },
   {
    "duration": 74,
    "start_time": "2022-01-21T07:52:34.443Z"
   },
   {
    "duration": 120,
    "start_time": "2022-01-21T07:52:34.519Z"
   },
   {
    "duration": 130,
    "start_time": "2022-01-21T07:52:34.641Z"
   },
   {
    "duration": 97,
    "start_time": "2022-01-21T07:52:34.773Z"
   },
   {
    "duration": 10,
    "start_time": "2022-01-21T07:52:34.872Z"
   },
   {
    "duration": 790,
    "start_time": "2022-01-21T07:52:34.884Z"
   },
   {
    "duration": 34,
    "start_time": "2022-01-21T07:52:35.676Z"
   },
   {
    "duration": 4,
    "start_time": "2022-01-21T07:52:35.711Z"
   },
   {
    "duration": 437,
    "start_time": "2022-01-21T07:52:35.716Z"
   },
   {
    "duration": 3,
    "start_time": "2022-01-21T07:52:36.155Z"
   },
   {
    "duration": 147,
    "start_time": "2022-01-21T07:52:36.159Z"
   },
   {
    "duration": 11,
    "start_time": "2022-01-21T07:52:36.308Z"
   },
   {
    "duration": 473,
    "start_time": "2022-01-21T07:52:36.323Z"
   },
   {
    "duration": 4,
    "start_time": "2022-01-21T07:52:36.798Z"
   },
   {
    "duration": 21,
    "start_time": "2022-01-21T07:52:36.803Z"
   },
   {
    "duration": 47,
    "start_time": "2022-01-21T07:52:36.826Z"
   },
   {
    "duration": 4,
    "start_time": "2022-01-21T07:52:36.874Z"
   },
   {
    "duration": 21,
    "start_time": "2022-01-21T07:52:36.879Z"
   },
   {
    "duration": 9,
    "start_time": "2022-01-21T07:52:36.902Z"
   },
   {
    "duration": 18992,
    "start_time": "2022-01-21T07:52:36.913Z"
   },
   {
    "duration": 593,
    "start_time": "2022-01-21T07:52:55.907Z"
   },
   {
    "duration": 6,
    "start_time": "2022-01-21T07:52:56.503Z"
   },
   {
    "duration": 11,
    "start_time": "2022-01-21T07:52:56.598Z"
   },
   {
    "duration": 7,
    "start_time": "2022-01-21T07:52:56.610Z"
   },
   {
    "duration": 9487,
    "start_time": "2022-01-21T07:52:56.619Z"
   },
   {
    "duration": 12292,
    "start_time": "2022-01-21T07:53:06.108Z"
   },
   {
    "duration": 710,
    "start_time": "2022-01-21T07:53:18.401Z"
   },
   {
    "duration": 997,
    "start_time": "2022-01-21T07:53:19.113Z"
   },
   {
    "duration": 5,
    "start_time": "2022-01-21T07:53:20.111Z"
   },
   {
    "duration": 6,
    "start_time": "2022-01-21T07:53:20.118Z"
   },
   {
    "duration": 8043,
    "start_time": "2022-01-21T07:53:20.125Z"
   },
   {
    "duration": 727,
    "start_time": "2022-01-21T07:53:27.444Z"
   },
   {
    "duration": 7897,
    "start_time": "2022-01-21T07:54:23.830Z"
   },
   {
    "duration": 94,
    "start_time": "2022-01-21T07:59:26.203Z"
   },
   {
    "duration": 259,
    "start_time": "2022-01-21T07:59:35.555Z"
   },
   {
    "duration": 303,
    "start_time": "2022-01-21T08:00:47.860Z"
   },
   {
    "duration": 3,
    "start_time": "2022-01-21T08:01:03.218Z"
   },
   {
    "duration": 263,
    "start_time": "2022-01-21T08:01:03.977Z"
   },
   {
    "duration": 312,
    "start_time": "2022-01-21T08:01:10.830Z"
   },
   {
    "duration": 3,
    "start_time": "2022-01-21T08:02:06.225Z"
   },
   {
    "duration": 276,
    "start_time": "2022-01-21T08:02:07.460Z"
   },
   {
    "duration": 266,
    "start_time": "2022-01-21T08:08:53.349Z"
   },
   {
    "duration": 280,
    "start_time": "2022-01-21T08:09:10.788Z"
   },
   {
    "duration": 5,
    "start_time": "2022-01-21T08:11:57.335Z"
   },
   {
    "duration": 459,
    "start_time": "2022-01-21T08:12:38.256Z"
   },
   {
    "duration": 5,
    "start_time": "2022-01-21T08:13:00.731Z"
   },
   {
    "duration": 524,
    "start_time": "2022-01-21T08:13:01.495Z"
   },
   {
    "duration": 1244,
    "start_time": "2022-01-21T08:13:37.970Z"
   },
   {
    "duration": 786,
    "start_time": "2022-01-21T08:13:39.216Z"
   },
   {
    "duration": 19,
    "start_time": "2022-01-21T08:13:40.005Z"
   },
   {
    "duration": 134,
    "start_time": "2022-01-21T08:13:40.027Z"
   },
   {
    "duration": 65,
    "start_time": "2022-01-21T08:13:40.163Z"
   },
   {
    "duration": 5,
    "start_time": "2022-01-21T08:13:40.230Z"
   },
   {
    "duration": 79,
    "start_time": "2022-01-21T08:13:40.237Z"
   },
   {
    "duration": 426,
    "start_time": "2022-01-21T08:13:40.318Z"
   },
   {
    "duration": 21,
    "start_time": "2022-01-21T08:13:40.747Z"
   },
   {
    "duration": 126,
    "start_time": "2022-01-21T08:13:40.770Z"
   },
   {
    "duration": 81,
    "start_time": "2022-01-21T08:13:40.898Z"
   },
   {
    "duration": 129,
    "start_time": "2022-01-21T08:13:40.981Z"
   },
   {
    "duration": 136,
    "start_time": "2022-01-21T08:13:41.112Z"
   },
   {
    "duration": 99,
    "start_time": "2022-01-21T08:13:41.249Z"
   },
   {
    "duration": 12,
    "start_time": "2022-01-21T08:13:41.350Z"
   },
   {
    "duration": 823,
    "start_time": "2022-01-21T08:13:41.364Z"
   },
   {
    "duration": 30,
    "start_time": "2022-01-21T08:13:42.190Z"
   },
   {
    "duration": 5,
    "start_time": "2022-01-21T08:13:42.222Z"
   },
   {
    "duration": 429,
    "start_time": "2022-01-21T08:13:42.229Z"
   },
   {
    "duration": 3,
    "start_time": "2022-01-21T08:13:42.660Z"
   },
   {
    "duration": 147,
    "start_time": "2022-01-21T08:13:42.665Z"
   },
   {
    "duration": 13,
    "start_time": "2022-01-21T08:13:42.814Z"
   },
   {
    "duration": 479,
    "start_time": "2022-01-21T08:13:42.831Z"
   },
   {
    "duration": 4,
    "start_time": "2022-01-21T08:13:43.313Z"
   },
   {
    "duration": 16,
    "start_time": "2022-01-21T08:13:43.319Z"
   },
   {
    "duration": 65,
    "start_time": "2022-01-21T08:13:43.337Z"
   },
   {
    "duration": 3,
    "start_time": "2022-01-21T08:13:43.404Z"
   },
   {
    "duration": 5,
    "start_time": "2022-01-21T08:13:43.410Z"
   },
   {
    "duration": 5,
    "start_time": "2022-01-21T08:13:43.417Z"
   },
   {
    "duration": 22282,
    "start_time": "2022-01-21T08:13:43.423Z"
   },
   {
    "duration": 594,
    "start_time": "2022-01-21T08:14:05.707Z"
   },
   {
    "duration": 7,
    "start_time": "2022-01-21T08:14:06.303Z"
   },
   {
    "duration": 4,
    "start_time": "2022-01-21T08:14:06.312Z"
   },
   {
    "duration": 3,
    "start_time": "2022-01-21T08:14:06.398Z"
   },
   {
    "duration": 23304,
    "start_time": "2022-01-21T08:14:06.403Z"
   },
   {
    "duration": 12704,
    "start_time": "2022-01-21T08:14:29.708Z"
   },
   {
    "duration": 794,
    "start_time": "2022-01-21T08:14:42.414Z"
   },
   {
    "duration": 1002,
    "start_time": "2022-01-21T08:14:43.210Z"
   },
   {
    "duration": 4,
    "start_time": "2022-01-21T08:14:44.213Z"
   },
   {
    "duration": 5,
    "start_time": "2022-01-21T08:14:44.219Z"
   },
   {
    "duration": 7809,
    "start_time": "2022-01-21T08:14:44.226Z"
   },
   {
    "duration": 6,
    "start_time": "2022-01-21T08:14:52.036Z"
   },
   {
    "duration": 646,
    "start_time": "2022-01-21T08:14:52.044Z"
   },
   {
    "duration": 5,
    "start_time": "2022-01-21T08:16:10.863Z"
   },
   {
    "duration": 457,
    "start_time": "2022-01-21T08:16:13.516Z"
   },
   {
    "duration": 4,
    "start_time": "2022-01-21T08:16:43.353Z"
   },
   {
    "duration": 314107,
    "start_time": "2022-01-21T08:16:44.159Z"
   },
   {
    "duration": 315251,
    "start_time": "2022-01-21T08:24:28.722Z"
   },
   {
    "duration": 4,
    "start_time": "2022-01-21T08:30:45.863Z"
   },
   {
    "duration": 4,
    "start_time": "2022-01-21T08:30:57.395Z"
   },
   {
    "duration": 119962,
    "start_time": "2022-01-21T08:30:57.912Z"
   },
   {
    "duration": 4,
    "start_time": "2022-01-21T08:34:57.591Z"
   },
   {
    "duration": 140515,
    "start_time": "2022-01-21T08:34:58.168Z"
   },
   {
    "duration": 173,
    "start_time": "2022-01-21T08:38:54.061Z"
   },
   {
    "duration": 8090,
    "start_time": "2022-01-21T08:39:39.754Z"
   },
   {
    "duration": 79,
    "start_time": "2022-01-21T08:41:32.949Z"
   },
   {
    "duration": 2,
    "start_time": "2022-01-21T08:41:41.651Z"
   },
   {
    "duration": 417,
    "start_time": "2022-01-21T08:42:59.254Z"
   },
   {
    "duration": 261,
    "start_time": "2022-01-21T08:43:37.929Z"
   },
   {
    "duration": 79,
    "start_time": "2022-01-21T08:47:32.732Z"
   },
   {
    "duration": 1244,
    "start_time": "2022-01-21T08:47:42.917Z"
   },
   {
    "duration": 785,
    "start_time": "2022-01-21T08:47:44.163Z"
   },
   {
    "duration": 17,
    "start_time": "2022-01-21T08:47:44.952Z"
   },
   {
    "duration": 140,
    "start_time": "2022-01-21T08:47:44.970Z"
   },
   {
    "duration": 42,
    "start_time": "2022-01-21T08:47:45.112Z"
   },
   {
    "duration": 6,
    "start_time": "2022-01-21T08:47:45.156Z"
   },
   {
    "duration": 77,
    "start_time": "2022-01-21T08:47:45.165Z"
   },
   {
    "duration": 420,
    "start_time": "2022-01-21T08:47:45.244Z"
   },
   {
    "duration": 19,
    "start_time": "2022-01-21T08:47:45.666Z"
   },
   {
    "duration": 120,
    "start_time": "2022-01-21T08:47:45.687Z"
   },
   {
    "duration": 72,
    "start_time": "2022-01-21T08:47:45.809Z"
   },
   {
    "duration": 117,
    "start_time": "2022-01-21T08:47:45.882Z"
   },
   {
    "duration": 132,
    "start_time": "2022-01-21T08:47:46.001Z"
   },
   {
    "duration": 89,
    "start_time": "2022-01-21T08:47:46.134Z"
   },
   {
    "duration": 10,
    "start_time": "2022-01-21T08:47:46.225Z"
   },
   {
    "duration": 814,
    "start_time": "2022-01-21T08:47:46.237Z"
   },
   {
    "duration": 25,
    "start_time": "2022-01-21T08:47:47.053Z"
   },
   {
    "duration": 4,
    "start_time": "2022-01-21T08:47:47.079Z"
   },
   {
    "duration": 428,
    "start_time": "2022-01-21T08:47:47.098Z"
   },
   {
    "duration": 3,
    "start_time": "2022-01-21T08:47:47.528Z"
   },
   {
    "duration": 85,
    "start_time": "2022-01-21T08:47:47.532Z"
   },
   {
    "duration": 140,
    "start_time": "2022-01-21T08:47:47.621Z"
   },
   {
    "duration": 6,
    "start_time": "2022-01-21T08:47:47.763Z"
   },
   {
    "duration": 466,
    "start_time": "2022-01-21T08:47:47.770Z"
   },
   {
    "duration": 4,
    "start_time": "2022-01-21T08:47:48.237Z"
   },
   {
    "duration": 9,
    "start_time": "2022-01-21T08:47:48.242Z"
   },
   {
    "duration": 33,
    "start_time": "2022-01-21T08:47:48.252Z"
   },
   {
    "duration": 12,
    "start_time": "2022-01-21T08:47:48.286Z"
   },
   {
    "duration": 4,
    "start_time": "2022-01-21T08:47:48.300Z"
   },
   {
    "duration": 4,
    "start_time": "2022-01-21T08:47:48.306Z"
   },
   {
    "duration": 19392,
    "start_time": "2022-01-21T08:47:48.312Z"
   },
   {
    "duration": 595,
    "start_time": "2022-01-21T08:48:07.706Z"
   },
   {
    "duration": 96,
    "start_time": "2022-01-21T08:48:08.303Z"
   },
   {
    "duration": 5,
    "start_time": "2022-01-21T08:48:08.401Z"
   },
   {
    "duration": 7,
    "start_time": "2022-01-21T08:48:08.407Z"
   },
   {
    "duration": 10083,
    "start_time": "2022-01-21T08:48:08.415Z"
   },
   {
    "duration": 12911,
    "start_time": "2022-01-21T08:48:18.500Z"
   },
   {
    "duration": 793,
    "start_time": "2022-01-21T08:48:31.412Z"
   },
   {
    "duration": 1003,
    "start_time": "2022-01-21T08:48:32.207Z"
   },
   {
    "duration": 4,
    "start_time": "2022-01-21T08:48:33.211Z"
   },
   {
    "duration": 24,
    "start_time": "2022-01-21T08:48:33.217Z"
   },
   {
    "duration": 7287,
    "start_time": "2022-01-21T08:48:33.243Z"
   },
   {
    "duration": 4,
    "start_time": "2022-01-21T08:48:40.532Z"
   },
   {
    "duration": 100269,
    "start_time": "2022-01-21T08:48:40.538Z"
   },
   {
    "duration": 3,
    "start_time": "2022-01-21T08:50:20.809Z"
   },
   {
    "duration": 363,
    "start_time": "2022-01-21T08:50:20.813Z"
   },
   {
    "duration": 746,
    "start_time": "2022-01-21T08:50:20.432Z"
   },
   {
    "duration": 275,
    "start_time": "2022-01-21T08:53:35.922Z"
   },
   {
    "duration": 317,
    "start_time": "2022-01-21T08:54:40.278Z"
   },
   {
    "duration": 3312,
    "start_time": "2022-01-21T08:55:05.638Z"
   },
   {
    "duration": 3511,
    "start_time": "2022-01-21T08:55:40.505Z"
   },
   {
    "duration": 15599,
    "start_time": "2022-01-21T08:56:43.599Z"
   },
   {
    "duration": 1189,
    "start_time": "2022-01-21T08:57:49.561Z"
   },
   {
    "duration": 803,
    "start_time": "2022-01-21T08:57:50.752Z"
   },
   {
    "duration": 17,
    "start_time": "2022-01-21T08:57:51.560Z"
   },
   {
    "duration": 139,
    "start_time": "2022-01-21T08:57:51.579Z"
   },
   {
    "duration": 47,
    "start_time": "2022-01-21T08:57:51.719Z"
   },
   {
    "duration": 9,
    "start_time": "2022-01-21T08:57:51.767Z"
   },
   {
    "duration": 69,
    "start_time": "2022-01-21T08:57:51.779Z"
   },
   {
    "duration": 432,
    "start_time": "2022-01-21T08:57:51.850Z"
   },
   {
    "duration": 19,
    "start_time": "2022-01-21T08:57:52.284Z"
   },
   {
    "duration": 116,
    "start_time": "2022-01-21T08:57:52.304Z"
   },
   {
    "duration": 80,
    "start_time": "2022-01-21T08:57:52.422Z"
   },
   {
    "duration": 113,
    "start_time": "2022-01-21T08:57:52.504Z"
   },
   {
    "duration": 163,
    "start_time": "2022-01-21T08:57:52.619Z"
   },
   {
    "duration": 95,
    "start_time": "2022-01-21T08:57:52.784Z"
   },
   {
    "duration": 17,
    "start_time": "2022-01-21T08:57:52.881Z"
   },
   {
    "duration": 804,
    "start_time": "2022-01-21T08:57:52.899Z"
   },
   {
    "duration": 25,
    "start_time": "2022-01-21T08:57:53.705Z"
   },
   {
    "duration": 4,
    "start_time": "2022-01-21T08:57:53.731Z"
   },
   {
    "duration": 409,
    "start_time": "2022-01-21T08:57:53.736Z"
   },
   {
    "duration": 2,
    "start_time": "2022-01-21T08:57:54.147Z"
   },
   {
    "duration": 141,
    "start_time": "2022-01-21T08:57:54.151Z"
   },
   {
    "duration": 13,
    "start_time": "2022-01-21T08:57:54.296Z"
   },
   {
    "duration": 477,
    "start_time": "2022-01-21T08:57:54.311Z"
   },
   {
    "duration": 4,
    "start_time": "2022-01-21T08:57:54.789Z"
   },
   {
    "duration": 23,
    "start_time": "2022-01-21T08:57:54.794Z"
   },
   {
    "duration": 47,
    "start_time": "2022-01-21T08:57:54.818Z"
   },
   {
    "duration": 4,
    "start_time": "2022-01-21T08:57:54.866Z"
   },
   {
    "duration": 20,
    "start_time": "2022-01-21T08:57:54.872Z"
   },
   {
    "duration": 21,
    "start_time": "2022-01-21T08:57:54.894Z"
   },
   {
    "duration": 18984,
    "start_time": "2022-01-21T08:57:54.917Z"
   },
   {
    "duration": 505,
    "start_time": "2022-01-21T08:58:13.903Z"
   },
   {
    "duration": 5,
    "start_time": "2022-01-21T08:58:14.500Z"
   },
   {
    "duration": 9,
    "start_time": "2022-01-21T08:58:14.507Z"
   },
   {
    "duration": 82,
    "start_time": "2022-01-21T08:58:14.518Z"
   },
   {
    "duration": 10804,
    "start_time": "2022-01-21T08:58:14.602Z"
   },
   {
    "duration": 14199,
    "start_time": "2022-01-21T08:58:25.407Z"
   },
   {
    "duration": 800,
    "start_time": "2022-01-21T08:58:39.608Z"
   },
   {
    "duration": 1004,
    "start_time": "2022-01-21T08:58:40.410Z"
   },
   {
    "duration": 4,
    "start_time": "2022-01-21T08:58:41.416Z"
   },
   {
    "duration": 78,
    "start_time": "2022-01-21T08:58:41.421Z"
   },
   {
    "duration": 7920,
    "start_time": "2022-01-21T08:58:41.501Z"
   },
   {
    "duration": 4,
    "start_time": "2022-01-21T08:58:49.422Z"
   },
   {
    "duration": 110458,
    "start_time": "2022-01-21T08:58:49.428Z"
   },
   {
    "duration": 16524,
    "start_time": "2022-01-21T09:00:39.888Z"
   },
   {
    "duration": 2,
    "start_time": "2022-01-21T09:00:56.414Z"
   },
   {
    "duration": 362,
    "start_time": "2022-01-21T09:00:56.418Z"
   },
   {
    "duration": 856,
    "start_time": "2022-01-21T09:00:55.926Z"
   },
   {
    "duration": 1195,
    "start_time": "2022-01-21T09:04:05.458Z"
   },
   {
    "duration": 830,
    "start_time": "2022-01-21T09:04:06.654Z"
   },
   {
    "duration": 20,
    "start_time": "2022-01-21T09:04:07.486Z"
   },
   {
    "duration": 134,
    "start_time": "2022-01-21T09:04:07.508Z"
   },
   {
    "duration": 57,
    "start_time": "2022-01-21T09:04:07.644Z"
   },
   {
    "duration": 6,
    "start_time": "2022-01-21T09:04:07.703Z"
   },
   {
    "duration": 74,
    "start_time": "2022-01-21T09:04:07.711Z"
   },
   {
    "duration": 422,
    "start_time": "2022-01-21T09:04:07.799Z"
   },
   {
    "duration": 19,
    "start_time": "2022-01-21T09:04:08.223Z"
   },
   {
    "duration": 122,
    "start_time": "2022-01-21T09:04:08.244Z"
   },
   {
    "duration": 80,
    "start_time": "2022-01-21T09:04:08.368Z"
   },
   {
    "duration": 117,
    "start_time": "2022-01-21T09:04:08.450Z"
   },
   {
    "duration": 138,
    "start_time": "2022-01-21T09:04:08.569Z"
   },
   {
    "duration": 94,
    "start_time": "2022-01-21T09:04:08.708Z"
   },
   {
    "duration": 11,
    "start_time": "2022-01-21T09:04:08.804Z"
   },
   {
    "duration": 801,
    "start_time": "2022-01-21T09:04:08.817Z"
   },
   {
    "duration": 27,
    "start_time": "2022-01-21T09:04:09.620Z"
   },
   {
    "duration": 5,
    "start_time": "2022-01-21T09:04:09.649Z"
   },
   {
    "duration": 437,
    "start_time": "2022-01-21T09:04:09.656Z"
   },
   {
    "duration": 3,
    "start_time": "2022-01-21T09:04:10.095Z"
   },
   {
    "duration": 150,
    "start_time": "2022-01-21T09:04:10.100Z"
   },
   {
    "duration": 14,
    "start_time": "2022-01-21T09:04:10.252Z"
   },
   {
    "duration": 473,
    "start_time": "2022-01-21T09:04:10.269Z"
   },
   {
    "duration": 3,
    "start_time": "2022-01-21T09:04:10.744Z"
   },
   {
    "duration": 17,
    "start_time": "2022-01-21T09:04:10.749Z"
   },
   {
    "duration": 61,
    "start_time": "2022-01-21T09:04:10.768Z"
   },
   {
    "duration": 4,
    "start_time": "2022-01-21T09:04:10.831Z"
   },
   {
    "duration": 4,
    "start_time": "2022-01-21T09:04:10.837Z"
   },
   {
    "duration": 5,
    "start_time": "2022-01-21T09:04:10.842Z"
   },
   {
    "duration": 19255,
    "start_time": "2022-01-21T09:04:10.848Z"
   },
   {
    "duration": 595,
    "start_time": "2022-01-21T09:04:30.105Z"
   },
   {
    "duration": 7,
    "start_time": "2022-01-21T09:04:30.703Z"
   },
   {
    "duration": 87,
    "start_time": "2022-01-21T09:04:30.712Z"
   },
   {
    "duration": 4,
    "start_time": "2022-01-21T09:04:30.801Z"
   },
   {
    "duration": 9593,
    "start_time": "2022-01-21T09:04:30.806Z"
   },
   {
    "duration": 13404,
    "start_time": "2022-01-21T09:04:40.401Z"
   },
   {
    "duration": 800,
    "start_time": "2022-01-21T09:04:53.807Z"
   },
   {
    "duration": 916,
    "start_time": "2022-01-21T09:04:54.609Z"
   },
   {
    "duration": 5,
    "start_time": "2022-01-21T09:04:55.599Z"
   },
   {
    "duration": 18,
    "start_time": "2022-01-21T09:04:55.606Z"
   },
   {
    "duration": 14,
    "start_time": "2022-01-21T09:04:55.626Z"
   },
   {
    "duration": 108558,
    "start_time": "2022-01-21T09:04:55.642Z"
   },
   {
    "duration": 16309,
    "start_time": "2022-01-21T09:06:44.202Z"
   },
   {
    "duration": 16766,
    "start_time": "2022-01-21T09:26:20.142Z"
   },
   {
    "duration": 16855,
    "start_time": "2022-01-21T09:28:49.743Z"
   },
   {
    "duration": 18998,
    "start_time": "2022-01-21T09:32:05.209Z"
   },
   {
    "duration": 91,
    "start_time": "2022-01-21T09:33:39.067Z"
   },
   {
    "duration": 233,
    "start_time": "2022-01-21T09:34:39.747Z"
   },
   {
    "duration": 163,
    "start_time": "2022-01-21T09:34:49.012Z"
   },
   {
    "duration": 17674,
    "start_time": "2022-01-21T09:34:54.733Z"
   },
   {
    "duration": 4,
    "start_time": "2022-01-21T09:35:44.387Z"
   },
   {
    "duration": 92,
    "start_time": "2022-01-21T09:36:31.098Z"
   },
   {
    "duration": 4,
    "start_time": "2022-01-21T09:36:38.147Z"
   },
   {
    "duration": 5,
    "start_time": "2022-01-21T09:37:02.267Z"
   },
   {
    "duration": 1160,
    "start_time": "2022-01-21T09:37:30.714Z"
   },
   {
    "duration": 833,
    "start_time": "2022-01-21T09:37:31.876Z"
   },
   {
    "duration": 27,
    "start_time": "2022-01-21T09:37:32.712Z"
   },
   {
    "duration": 152,
    "start_time": "2022-01-21T09:37:32.742Z"
   },
   {
    "duration": 49,
    "start_time": "2022-01-21T09:37:32.896Z"
   },
   {
    "duration": 4,
    "start_time": "2022-01-21T09:37:32.947Z"
   },
   {
    "duration": 80,
    "start_time": "2022-01-21T09:37:32.952Z"
   },
   {
    "duration": 408,
    "start_time": "2022-01-21T09:37:33.034Z"
   },
   {
    "duration": 20,
    "start_time": "2022-01-21T09:37:33.444Z"
   },
   {
    "duration": 123,
    "start_time": "2022-01-21T09:37:33.465Z"
   },
   {
    "duration": 82,
    "start_time": "2022-01-21T09:37:33.590Z"
   },
   {
    "duration": 118,
    "start_time": "2022-01-21T09:37:33.673Z"
   },
   {
    "duration": 150,
    "start_time": "2022-01-21T09:37:33.793Z"
   },
   {
    "duration": 89,
    "start_time": "2022-01-21T09:37:33.945Z"
   },
   {
    "duration": 10,
    "start_time": "2022-01-21T09:37:34.036Z"
   },
   {
    "duration": 815,
    "start_time": "2022-01-21T09:37:34.048Z"
   },
   {
    "duration": 25,
    "start_time": "2022-01-21T09:37:34.864Z"
   },
   {
    "duration": 4,
    "start_time": "2022-01-21T09:37:34.898Z"
   },
   {
    "duration": 418,
    "start_time": "2022-01-21T09:37:34.903Z"
   },
   {
    "duration": 2,
    "start_time": "2022-01-21T09:37:35.323Z"
   },
   {
    "duration": 142,
    "start_time": "2022-01-21T09:37:35.327Z"
   },
   {
    "duration": 12,
    "start_time": "2022-01-21T09:37:35.471Z"
   },
   {
    "duration": 480,
    "start_time": "2022-01-21T09:37:35.487Z"
   },
   {
    "duration": 4,
    "start_time": "2022-01-21T09:37:35.969Z"
   },
   {
    "duration": 16,
    "start_time": "2022-01-21T09:37:35.974Z"
   },
   {
    "duration": 46,
    "start_time": "2022-01-21T09:37:35.999Z"
   },
   {
    "duration": 3,
    "start_time": "2022-01-21T09:37:36.047Z"
   },
   {
    "duration": 7,
    "start_time": "2022-01-21T09:37:36.051Z"
   },
   {
    "duration": 5,
    "start_time": "2022-01-21T09:37:36.059Z"
   },
   {
    "duration": 21243,
    "start_time": "2022-01-21T09:37:36.065Z"
   },
   {
    "duration": 595,
    "start_time": "2022-01-21T09:37:57.310Z"
   },
   {
    "duration": 91,
    "start_time": "2022-01-21T09:37:57.908Z"
   },
   {
    "duration": 5,
    "start_time": "2022-01-21T09:37:58.001Z"
   },
   {
    "duration": 4,
    "start_time": "2022-01-21T09:37:58.007Z"
   },
   {
    "duration": 10089,
    "start_time": "2022-01-21T09:37:58.013Z"
   },
   {
    "duration": 15815,
    "start_time": "2022-01-21T09:38:08.103Z"
   },
   {
    "duration": 879,
    "start_time": "2022-01-21T09:38:23.920Z"
   },
   {
    "duration": 923,
    "start_time": "2022-01-21T09:38:24.801Z"
   },
   {
    "duration": 3,
    "start_time": "2022-01-21T09:38:25.726Z"
   },
   {
    "duration": 70,
    "start_time": "2022-01-21T09:38:25.731Z"
   },
   {
    "duration": 7,
    "start_time": "2022-01-21T09:38:25.802Z"
   },
   {
    "duration": 105359,
    "start_time": "2022-01-21T09:38:25.810Z"
   },
   {
    "duration": 16738,
    "start_time": "2022-01-21T09:40:11.170Z"
   },
   {
    "duration": 373,
    "start_time": "2022-01-21T09:40:46.572Z"
   },
   {
    "duration": 91,
    "start_time": "2022-01-21T09:42:23.943Z"
   },
   {
    "duration": 271,
    "start_time": "2022-01-21T09:43:22.912Z"
   },
   {
    "duration": 271,
    "start_time": "2022-01-21T09:43:31.656Z"
   },
   {
    "duration": 298,
    "start_time": "2022-01-21T09:43:38.658Z"
   },
   {
    "duration": 1116,
    "start_time": "2022-01-21T09:44:08.952Z"
   },
   {
    "duration": 748,
    "start_time": "2022-01-21T09:44:10.070Z"
   },
   {
    "duration": 18,
    "start_time": "2022-01-21T09:44:10.820Z"
   },
   {
    "duration": 131,
    "start_time": "2022-01-21T09:44:10.840Z"
   },
   {
    "duration": 48,
    "start_time": "2022-01-21T09:44:10.973Z"
   },
   {
    "duration": 10,
    "start_time": "2022-01-21T09:44:11.022Z"
   },
   {
    "duration": 71,
    "start_time": "2022-01-21T09:44:11.034Z"
   },
   {
    "duration": 411,
    "start_time": "2022-01-21T09:44:11.107Z"
   },
   {
    "duration": 21,
    "start_time": "2022-01-21T09:44:11.521Z"
   },
   {
    "duration": 123,
    "start_time": "2022-01-21T09:44:11.544Z"
   },
   {
    "duration": 76,
    "start_time": "2022-01-21T09:44:11.668Z"
   },
   {
    "duration": 118,
    "start_time": "2022-01-21T09:44:11.745Z"
   },
   {
    "duration": 127,
    "start_time": "2022-01-21T09:44:11.865Z"
   },
   {
    "duration": 85,
    "start_time": "2022-01-21T09:44:11.994Z"
   },
   {
    "duration": 23,
    "start_time": "2022-01-21T09:44:12.080Z"
   },
   {
    "duration": 787,
    "start_time": "2022-01-21T09:44:12.105Z"
   },
   {
    "duration": 26,
    "start_time": "2022-01-21T09:44:12.894Z"
   },
   {
    "duration": 4,
    "start_time": "2022-01-21T09:44:12.922Z"
   },
   {
    "duration": 429,
    "start_time": "2022-01-21T09:44:12.927Z"
   },
   {
    "duration": 2,
    "start_time": "2022-01-21T09:44:13.358Z"
   },
   {
    "duration": 144,
    "start_time": "2022-01-21T09:44:13.361Z"
   },
   {
    "duration": 11,
    "start_time": "2022-01-21T09:44:13.507Z"
   },
   {
    "duration": 470,
    "start_time": "2022-01-21T09:44:13.521Z"
   },
   {
    "duration": 3,
    "start_time": "2022-01-21T09:44:13.993Z"
   },
   {
    "duration": 16,
    "start_time": "2022-01-21T09:44:13.997Z"
   },
   {
    "duration": 45,
    "start_time": "2022-01-21T09:44:14.015Z"
   },
   {
    "duration": 3,
    "start_time": "2022-01-21T09:44:14.062Z"
   },
   {
    "duration": 8,
    "start_time": "2022-01-21T09:44:14.066Z"
   },
   {
    "duration": 5,
    "start_time": "2022-01-21T09:44:14.075Z"
   },
   {
    "duration": 23410,
    "start_time": "2022-01-21T09:44:14.099Z"
   },
   {
    "duration": 598,
    "start_time": "2022-01-21T09:44:37.511Z"
   },
   {
    "duration": 88,
    "start_time": "2022-01-21T09:44:38.112Z"
   },
   {
    "duration": 8,
    "start_time": "2022-01-21T09:44:38.202Z"
   },
   {
    "duration": 21,
    "start_time": "2022-01-21T09:44:38.212Z"
   },
   {
    "duration": 25676,
    "start_time": "2022-01-21T09:44:38.235Z"
   },
   {
    "duration": 41189,
    "start_time": "2022-01-21T09:45:03.912Z"
   },
   {
    "duration": 799,
    "start_time": "2022-01-21T09:45:45.103Z"
   },
   {
    "duration": 1005,
    "start_time": "2022-01-21T09:45:45.905Z"
   },
   {
    "duration": 4,
    "start_time": "2022-01-21T09:45:46.912Z"
   },
   {
    "duration": 6,
    "start_time": "2022-01-21T09:45:46.919Z"
   },
   {
    "duration": 75,
    "start_time": "2022-01-21T09:45:46.927Z"
   },
   {
    "duration": 106483,
    "start_time": "2022-01-21T09:45:47.005Z"
   },
   {
    "duration": 17020,
    "start_time": "2022-01-21T09:47:33.490Z"
   },
   {
    "duration": 371,
    "start_time": "2022-01-21T09:47:50.513Z"
   },
   {
    "duration": 270,
    "start_time": "2022-01-21T09:56:45.090Z"
   },
   {
    "duration": 258,
    "start_time": "2022-01-21T09:56:59.529Z"
   },
   {
    "duration": 263,
    "start_time": "2022-01-21T09:57:31.592Z"
   },
   {
    "duration": 1293,
    "start_time": "2022-01-21T10:03:14.338Z"
   },
   {
    "duration": 922,
    "start_time": "2022-01-21T10:03:15.634Z"
   },
   {
    "duration": 23,
    "start_time": "2022-01-21T10:03:16.558Z"
   },
   {
    "duration": 145,
    "start_time": "2022-01-21T10:03:16.583Z"
   },
   {
    "duration": 51,
    "start_time": "2022-01-21T10:03:16.730Z"
   },
   {
    "duration": 7,
    "start_time": "2022-01-21T10:03:16.799Z"
   },
   {
    "duration": 131,
    "start_time": "2022-01-21T10:03:16.808Z"
   },
   {
    "duration": 395,
    "start_time": "2022-01-21T10:03:16.942Z"
   },
   {
    "duration": 537,
    "start_time": "2022-01-21T10:03:17.339Z"
   },
   {
    "duration": 25,
    "start_time": "2022-01-21T10:03:17.878Z"
   },
   {
    "duration": 140,
    "start_time": "2022-01-21T10:03:17.905Z"
   },
   {
    "duration": 90,
    "start_time": "2022-01-21T10:03:18.048Z"
   },
   {
    "duration": 132,
    "start_time": "2022-01-21T10:03:18.140Z"
   },
   {
    "duration": 165,
    "start_time": "2022-01-21T10:03:18.273Z"
   },
   {
    "duration": 108,
    "start_time": "2022-01-21T10:03:18.441Z"
   },
   {
    "duration": 11,
    "start_time": "2022-01-21T10:03:18.551Z"
   },
   {
    "duration": 926,
    "start_time": "2022-01-21T10:03:18.565Z"
   },
   {
    "duration": 30,
    "start_time": "2022-01-21T10:03:19.498Z"
   },
   {
    "duration": 5,
    "start_time": "2022-01-21T10:03:19.530Z"
   },
   {
    "duration": 612,
    "start_time": "2022-01-21T10:03:19.538Z"
   },
   {
    "duration": 4,
    "start_time": "2022-01-21T10:03:20.152Z"
   },
   {
    "duration": 152,
    "start_time": "2022-01-21T10:03:20.158Z"
   },
   {
    "duration": 13,
    "start_time": "2022-01-21T10:03:20.315Z"
   },
   {
    "duration": 578,
    "start_time": "2022-01-21T10:03:20.330Z"
   },
   {
    "duration": 5,
    "start_time": "2022-01-21T10:03:20.910Z"
   },
   {
    "duration": 18,
    "start_time": "2022-01-21T10:03:20.917Z"
   },
   {
    "duration": 75,
    "start_time": "2022-01-21T10:03:20.937Z"
   },
   {
    "duration": 4,
    "start_time": "2022-01-21T10:03:21.014Z"
   },
   {
    "duration": 9,
    "start_time": "2022-01-21T10:03:21.020Z"
   },
   {
    "duration": 5,
    "start_time": "2022-01-21T10:03:21.031Z"
   },
   {
    "duration": 25675,
    "start_time": "2022-01-21T10:03:21.038Z"
   },
   {
    "duration": 700,
    "start_time": "2022-01-21T10:03:46.800Z"
   },
   {
    "duration": 8,
    "start_time": "2022-01-21T10:03:47.502Z"
   },
   {
    "duration": 90,
    "start_time": "2022-01-21T10:03:47.513Z"
   },
   {
    "duration": 6,
    "start_time": "2022-01-21T10:03:47.605Z"
   },
   {
    "duration": 139392,
    "start_time": "2022-01-21T10:03:47.613Z"
   },
   {
    "duration": 43407,
    "start_time": "2022-01-21T10:06:07.007Z"
   },
   {
    "duration": 801,
    "start_time": "2022-01-21T10:06:50.416Z"
   },
   {
    "duration": 1080,
    "start_time": "2022-01-21T10:06:51.219Z"
   },
   {
    "duration": 5,
    "start_time": "2022-01-21T10:06:52.301Z"
   },
   {
    "duration": 7,
    "start_time": "2022-01-21T10:06:52.308Z"
   },
   {
    "duration": 12,
    "start_time": "2022-01-21T10:06:52.317Z"
   },
   {
    "duration": 109591,
    "start_time": "2022-01-21T10:06:52.331Z"
   },
   {
    "duration": 17392,
    "start_time": "2022-01-21T10:08:41.924Z"
   },
   {
    "duration": 512,
    "start_time": "2022-01-21T10:11:07.313Z"
   },
   {
    "duration": 4,
    "start_time": "2022-01-21T10:11:47.575Z"
   },
   {
    "duration": 8610,
    "start_time": "2022-01-21T10:11:55.839Z"
   },
   {
    "duration": 14,
    "start_time": "2022-01-21T10:15:45.322Z"
   },
   {
    "duration": 10,
    "start_time": "2022-01-21T10:17:03.183Z"
   },
   {
    "duration": 12,
    "start_time": "2022-01-21T10:17:18.693Z"
   },
   {
    "duration": 13,
    "start_time": "2022-01-21T10:22:34.335Z"
   },
   {
    "duration": 14,
    "start_time": "2022-01-21T10:33:10.273Z"
   },
   {
    "duration": 12,
    "start_time": "2022-01-21T10:34:29.322Z"
   },
   {
    "duration": 12,
    "start_time": "2022-01-21T10:34:37.222Z"
   },
   {
    "duration": 15,
    "start_time": "2022-01-21T10:36:10.209Z"
   },
   {
    "duration": 16661,
    "start_time": "2022-01-21T10:39:13.375Z"
   },
   {
    "duration": 404,
    "start_time": "2022-01-21T10:39:32.805Z"
   },
   {
    "duration": 431,
    "start_time": "2022-01-21T10:39:48.286Z"
   },
   {
    "duration": 10,
    "start_time": "2022-01-21T10:40:29.392Z"
   },
   {
    "duration": 8009,
    "start_time": "2022-01-21T10:43:44.911Z"
   },
   {
    "duration": 1304,
    "start_time": "2022-01-21T10:44:11.300Z"
   },
   {
    "duration": 879,
    "start_time": "2022-01-21T10:44:12.606Z"
   },
   {
    "duration": 20,
    "start_time": "2022-01-21T10:44:13.488Z"
   },
   {
    "duration": 145,
    "start_time": "2022-01-21T10:44:13.510Z"
   },
   {
    "duration": 46,
    "start_time": "2022-01-21T10:44:13.657Z"
   },
   {
    "duration": 6,
    "start_time": "2022-01-21T10:44:13.705Z"
   },
   {
    "duration": 69,
    "start_time": "2022-01-21T10:44:13.713Z"
   },
   {
    "duration": 504,
    "start_time": "2022-01-21T10:44:13.798Z"
   },
   {
    "duration": 29,
    "start_time": "2022-01-21T10:44:14.305Z"
   },
   {
    "duration": 176,
    "start_time": "2022-01-21T10:44:14.336Z"
   },
   {
    "duration": 102,
    "start_time": "2022-01-21T10:44:14.514Z"
   },
   {
    "duration": 157,
    "start_time": "2022-01-21T10:44:14.618Z"
   },
   {
    "duration": 153,
    "start_time": "2022-01-21T10:44:14.777Z"
   },
   {
    "duration": 105,
    "start_time": "2022-01-21T10:44:14.932Z"
   },
   {
    "duration": 14,
    "start_time": "2022-01-21T10:44:15.039Z"
   },
   {
    "duration": 885,
    "start_time": "2022-01-21T10:44:15.055Z"
   },
   {
    "duration": 30,
    "start_time": "2022-01-21T10:44:15.942Z"
   },
   {
    "duration": 5,
    "start_time": "2022-01-21T10:44:15.974Z"
   },
   {
    "duration": 455,
    "start_time": "2022-01-21T10:44:15.999Z"
   },
   {
    "duration": 3,
    "start_time": "2022-01-21T10:44:16.456Z"
   },
   {
    "duration": 156,
    "start_time": "2022-01-21T10:44:16.461Z"
   },
   {
    "duration": 15,
    "start_time": "2022-01-21T10:44:16.619Z"
   },
   {
    "duration": 485,
    "start_time": "2022-01-21T10:44:16.637Z"
   },
   {
    "duration": 4,
    "start_time": "2022-01-21T10:44:17.124Z"
   },
   {
    "duration": 24,
    "start_time": "2022-01-21T10:44:17.130Z"
   },
   {
    "duration": 51,
    "start_time": "2022-01-21T10:44:17.155Z"
   },
   {
    "duration": 4,
    "start_time": "2022-01-21T10:44:17.207Z"
   },
   {
    "duration": 6,
    "start_time": "2022-01-21T10:44:17.213Z"
   },
   {
    "duration": 13,
    "start_time": "2022-01-21T10:44:17.221Z"
   },
   {
    "duration": 22568,
    "start_time": "2022-01-21T10:44:17.236Z"
   },
   {
    "duration": 595,
    "start_time": "2022-01-21T10:44:39.806Z"
   },
   {
    "duration": 6,
    "start_time": "2022-01-21T10:44:40.403Z"
   },
   {
    "duration": 92,
    "start_time": "2022-01-21T10:44:40.412Z"
   },
   {
    "duration": 10,
    "start_time": "2022-01-21T10:44:40.506Z"
   },
   {
    "duration": 28798,
    "start_time": "2022-01-21T10:44:40.517Z"
   },
   {
    "duration": 105887,
    "start_time": "2022-01-21T10:45:09.318Z"
   },
   {
    "duration": 795,
    "start_time": "2022-01-21T10:46:55.206Z"
   },
   {
    "duration": 1019,
    "start_time": "2022-01-21T10:46:56.003Z"
   },
   {
    "duration": 5,
    "start_time": "2022-01-21T10:46:57.024Z"
   },
   {
    "duration": 6,
    "start_time": "2022-01-21T10:46:57.031Z"
   },
   {
    "duration": 6,
    "start_time": "2022-01-21T10:46:57.039Z"
   },
   {
    "duration": 107068,
    "start_time": "2022-01-21T10:46:57.046Z"
   },
   {
    "duration": 8407,
    "start_time": "2022-01-21T10:48:44.116Z"
   },
   {
    "duration": 197,
    "start_time": "2022-01-21T10:48:52.525Z"
   },
   {
    "duration": 259,
    "start_time": "2022-01-21T10:48:52.724Z"
   },
   {
    "duration": 868,
    "start_time": "2022-01-21T10:48:52.117Z"
   },
   {
    "duration": 1153,
    "start_time": "2022-01-23T15:13:10.361Z"
   },
   {
    "duration": 759,
    "start_time": "2022-01-23T15:13:11.516Z"
   },
   {
    "duration": 19,
    "start_time": "2022-01-23T15:13:12.277Z"
   },
   {
    "duration": 125,
    "start_time": "2022-01-23T15:13:12.298Z"
   },
   {
    "duration": 46,
    "start_time": "2022-01-23T15:13:12.425Z"
   },
   {
    "duration": 6,
    "start_time": "2022-01-23T15:13:12.473Z"
   },
   {
    "duration": 73,
    "start_time": "2022-01-23T15:13:12.481Z"
   },
   {
    "duration": 517,
    "start_time": "2022-01-23T15:13:12.558Z"
   },
   {
    "duration": 20,
    "start_time": "2022-01-23T15:13:13.078Z"
   },
   {
    "duration": 125,
    "start_time": "2022-01-23T15:13:13.100Z"
   },
   {
    "duration": 80,
    "start_time": "2022-01-23T15:13:13.227Z"
   },
   {
    "duration": 109,
    "start_time": "2022-01-23T15:13:13.309Z"
   },
   {
    "duration": 135,
    "start_time": "2022-01-23T15:13:13.420Z"
   },
   {
    "duration": 89,
    "start_time": "2022-01-23T15:13:13.557Z"
   },
   {
    "duration": 11,
    "start_time": "2022-01-23T15:13:13.648Z"
   },
   {
    "duration": 742,
    "start_time": "2022-01-23T15:13:13.661Z"
   },
   {
    "duration": 36,
    "start_time": "2022-01-23T15:13:14.405Z"
   },
   {
    "duration": 4,
    "start_time": "2022-01-23T15:13:14.443Z"
   },
   {
    "duration": 538,
    "start_time": "2022-01-23T15:13:14.449Z"
   },
   {
    "duration": 3,
    "start_time": "2022-01-23T15:13:14.989Z"
   },
   {
    "duration": 152,
    "start_time": "2022-01-23T15:13:14.994Z"
   },
   {
    "duration": 13,
    "start_time": "2022-01-23T15:13:15.148Z"
   },
   {
    "duration": 485,
    "start_time": "2022-01-23T15:13:15.163Z"
   },
   {
    "duration": 4,
    "start_time": "2022-01-23T15:13:15.650Z"
   },
   {
    "duration": 20,
    "start_time": "2022-01-23T15:13:15.656Z"
   },
   {
    "duration": 70,
    "start_time": "2022-01-23T15:13:15.680Z"
   },
   {
    "duration": 3,
    "start_time": "2022-01-23T15:13:15.752Z"
   },
   {
    "duration": 9,
    "start_time": "2022-01-23T15:13:15.757Z"
   },
   {
    "duration": 10,
    "start_time": "2022-01-23T15:13:15.768Z"
   },
   {
    "duration": 21963,
    "start_time": "2022-01-23T15:13:15.780Z"
   },
   {
    "duration": 598,
    "start_time": "2022-01-23T15:13:37.745Z"
   },
   {
    "duration": 6,
    "start_time": "2022-01-23T15:13:38.346Z"
   },
   {
    "duration": 87,
    "start_time": "2022-01-23T15:13:38.355Z"
   },
   {
    "duration": 25,
    "start_time": "2022-01-23T15:13:38.444Z"
   },
   {
    "duration": 8583,
    "start_time": "2022-01-23T15:13:38.471Z"
   },
   {
    "duration": 11592,
    "start_time": "2022-01-23T15:13:47.056Z"
   },
   {
    "duration": 703,
    "start_time": "2022-01-23T15:13:58.650Z"
   },
   {
    "duration": 906,
    "start_time": "2022-01-23T15:13:59.355Z"
   },
   {
    "duration": 82,
    "start_time": "2022-01-23T15:14:00.263Z"
   },
   {
    "duration": 5,
    "start_time": "2022-01-23T15:14:00.347Z"
   },
   {
    "duration": 9,
    "start_time": "2022-01-23T15:14:00.354Z"
   },
   {
    "duration": 102678,
    "start_time": "2022-01-23T15:14:00.365Z"
   },
   {
    "duration": 7665,
    "start_time": "2022-01-23T15:15:43.046Z"
   },
   {
    "duration": 181,
    "start_time": "2022-01-23T15:15:50.713Z"
   },
   {
    "duration": 247,
    "start_time": "2022-01-23T15:15:50.896Z"
   },
   {
    "duration": 284,
    "start_time": "2022-01-23T15:15:50.861Z"
   },
   {
    "duration": 1170,
    "start_time": "2022-01-23T15:18:15.108Z"
   },
   {
    "duration": 706,
    "start_time": "2022-01-23T15:18:16.280Z"
   },
   {
    "duration": 15,
    "start_time": "2022-01-23T15:18:16.988Z"
   },
   {
    "duration": 133,
    "start_time": "2022-01-23T15:18:17.005Z"
   },
   {
    "duration": 40,
    "start_time": "2022-01-23T15:18:17.140Z"
   },
   {
    "duration": 34,
    "start_time": "2022-01-23T15:18:17.181Z"
   },
   {
    "duration": 106,
    "start_time": "2022-01-23T15:18:17.217Z"
   },
   {
    "duration": 492,
    "start_time": "2022-01-23T15:18:17.325Z"
   },
   {
    "duration": 18,
    "start_time": "2022-01-23T15:18:17.820Z"
   },
   {
    "duration": 134,
    "start_time": "2022-01-23T15:18:17.840Z"
   },
   {
    "duration": 72,
    "start_time": "2022-01-23T15:18:17.975Z"
   },
   {
    "duration": 99,
    "start_time": "2022-01-23T15:18:18.049Z"
   },
   {
    "duration": 121,
    "start_time": "2022-01-23T15:18:18.150Z"
   },
   {
    "duration": 84,
    "start_time": "2022-01-23T15:18:18.273Z"
   },
   {
    "duration": 10,
    "start_time": "2022-01-23T15:18:18.358Z"
   },
   {
    "duration": 676,
    "start_time": "2022-01-23T15:18:18.369Z"
   },
   {
    "duration": 23,
    "start_time": "2022-01-23T15:18:19.046Z"
   },
   {
    "duration": 16,
    "start_time": "2022-01-23T15:18:19.070Z"
   },
   {
    "duration": 379,
    "start_time": "2022-01-23T15:18:19.088Z"
   },
   {
    "duration": 3,
    "start_time": "2022-01-23T15:18:19.468Z"
   },
   {
    "duration": 152,
    "start_time": "2022-01-23T15:18:19.472Z"
   },
   {
    "duration": 17,
    "start_time": "2022-01-23T15:18:19.626Z"
   },
   {
    "duration": 451,
    "start_time": "2022-01-23T15:18:19.647Z"
   },
   {
    "duration": 3,
    "start_time": "2022-01-23T15:18:20.101Z"
   },
   {
    "duration": 40,
    "start_time": "2022-01-23T15:18:20.105Z"
   },
   {
    "duration": 67,
    "start_time": "2022-01-23T15:18:20.147Z"
   },
   {
    "duration": 3,
    "start_time": "2022-01-23T15:18:20.216Z"
   },
   {
    "duration": 16,
    "start_time": "2022-01-23T15:18:20.220Z"
   },
   {
    "duration": 12,
    "start_time": "2022-01-23T15:18:20.237Z"
   },
   {
    "duration": 20291,
    "start_time": "2022-01-23T15:18:20.251Z"
   },
   {
    "duration": 602,
    "start_time": "2022-01-23T15:18:40.544Z"
   },
   {
    "duration": 93,
    "start_time": "2022-01-23T15:18:41.148Z"
   },
   {
    "duration": 2,
    "start_time": "2022-01-23T15:18:41.243Z"
   },
   {
    "duration": 5,
    "start_time": "2022-01-23T15:18:41.247Z"
   },
   {
    "duration": 10100,
    "start_time": "2022-01-23T15:18:41.253Z"
   },
   {
    "duration": 88093,
    "start_time": "2022-01-23T15:18:51.354Z"
   },
   {
    "duration": 701,
    "start_time": "2022-01-23T15:20:19.449Z"
   },
   {
    "duration": 992,
    "start_time": "2022-01-23T15:20:20.152Z"
   },
   {
    "duration": 4,
    "start_time": "2022-01-23T15:20:21.146Z"
   },
   {
    "duration": 28,
    "start_time": "2022-01-23T15:20:21.152Z"
   },
   {
    "duration": 17,
    "start_time": "2022-01-23T15:20:21.181Z"
   },
   {
    "duration": 101365,
    "start_time": "2022-01-23T15:20:21.199Z"
   },
   {
    "duration": 270,
    "start_time": "2022-01-23T15:22:02.566Z"
   },
   {
    "duration": 257,
    "start_time": "2022-01-23T15:22:02.839Z"
   },
   {
    "duration": 284,
    "start_time": "2022-01-23T15:22:02.814Z"
   },
   {
    "duration": 7562,
    "start_time": "2022-01-23T15:23:39.000Z"
   },
   {
    "duration": 7397,
    "start_time": "2022-01-23T15:26:18.569Z"
   },
   {
    "duration": 11,
    "start_time": "2022-01-23T15:27:25.011Z"
   },
   {
    "duration": 1089,
    "start_time": "2022-01-23T15:27:35.285Z"
   },
   {
    "duration": 1009,
    "start_time": "2022-01-23T15:27:36.375Z"
   },
   {
    "duration": 16,
    "start_time": "2022-01-23T15:27:37.388Z"
   },
   {
    "duration": 130,
    "start_time": "2022-01-23T15:27:37.405Z"
   },
   {
    "duration": 140,
    "start_time": "2022-01-23T15:27:37.537Z"
   },
   {
    "duration": 5,
    "start_time": "2022-01-23T15:27:37.678Z"
   },
   {
    "duration": 73,
    "start_time": "2022-01-23T15:27:37.686Z"
   },
   {
    "duration": 648,
    "start_time": "2022-01-23T15:27:37.761Z"
   },
   {
    "duration": 18,
    "start_time": "2022-01-23T15:27:38.411Z"
   },
   {
    "duration": 126,
    "start_time": "2022-01-23T15:27:38.430Z"
   },
   {
    "duration": 68,
    "start_time": "2022-01-23T15:27:38.558Z"
   },
   {
    "duration": 118,
    "start_time": "2022-01-23T15:27:38.628Z"
   },
   {
    "duration": 129,
    "start_time": "2022-01-23T15:27:38.748Z"
   },
   {
    "duration": 91,
    "start_time": "2022-01-23T15:27:38.879Z"
   },
   {
    "duration": 10,
    "start_time": "2022-01-23T15:27:38.972Z"
   },
   {
    "duration": 689,
    "start_time": "2022-01-23T15:27:38.984Z"
   },
   {
    "duration": 23,
    "start_time": "2022-01-23T15:27:39.675Z"
   },
   {
    "duration": 9,
    "start_time": "2022-01-23T15:27:39.700Z"
   },
   {
    "duration": 386,
    "start_time": "2022-01-23T15:27:39.711Z"
   },
   {
    "duration": 10,
    "start_time": "2022-01-23T15:27:40.099Z"
   },
   {
    "duration": 134,
    "start_time": "2022-01-23T15:27:40.111Z"
   },
   {
    "duration": 12,
    "start_time": "2022-01-23T15:27:40.248Z"
   },
   {
    "duration": 457,
    "start_time": "2022-01-23T15:27:40.262Z"
   },
   {
    "duration": 4,
    "start_time": "2022-01-23T15:27:40.720Z"
   },
   {
    "duration": 25,
    "start_time": "2022-01-23T15:27:40.726Z"
   },
   {
    "duration": 45,
    "start_time": "2022-01-23T15:27:40.753Z"
   },
   {
    "duration": 3,
    "start_time": "2022-01-23T15:27:40.800Z"
   },
   {
    "duration": 6,
    "start_time": "2022-01-23T15:27:40.805Z"
   },
   {
    "duration": 5,
    "start_time": "2022-01-23T15:27:40.812Z"
   },
   {
    "duration": 20125,
    "start_time": "2022-01-23T15:27:40.818Z"
   },
   {
    "duration": 598,
    "start_time": "2022-01-23T15:28:00.945Z"
   },
   {
    "duration": 6,
    "start_time": "2022-01-23T15:28:01.545Z"
   },
   {
    "duration": 89,
    "start_time": "2022-01-23T15:28:01.553Z"
   },
   {
    "duration": 17,
    "start_time": "2022-01-23T15:28:01.644Z"
   },
   {
    "duration": 8681,
    "start_time": "2022-01-23T15:28:01.663Z"
   },
   {
    "duration": 9805,
    "start_time": "2022-01-23T15:28:10.346Z"
   },
   {
    "duration": 700,
    "start_time": "2022-01-23T15:28:20.153Z"
   },
   {
    "duration": 994,
    "start_time": "2022-01-23T15:28:20.855Z"
   },
   {
    "duration": 5,
    "start_time": "2022-01-23T15:28:21.851Z"
   },
   {
    "duration": 6,
    "start_time": "2022-01-23T15:28:21.857Z"
   },
   {
    "duration": 4,
    "start_time": "2022-01-23T15:28:21.864Z"
   },
   {
    "duration": 96555,
    "start_time": "2022-01-23T15:28:21.869Z"
   },
   {
    "duration": 7303,
    "start_time": "2022-01-23T15:29:58.425Z"
   },
   {
    "duration": 163,
    "start_time": "2022-01-23T15:30:05.730Z"
   },
   {
    "duration": 247,
    "start_time": "2022-01-23T15:30:05.894Z"
   },
   {
    "duration": 283,
    "start_time": "2022-01-23T15:30:05.860Z"
   },
   {
    "duration": 8219,
    "start_time": "2022-01-23T15:35:16.081Z"
   },
   {
    "duration": 1187,
    "start_time": "2022-01-23T15:37:59.672Z"
   },
   {
    "duration": 837,
    "start_time": "2022-01-23T15:38:00.861Z"
   },
   {
    "duration": 20,
    "start_time": "2022-01-23T15:38:01.700Z"
   },
   {
    "duration": 139,
    "start_time": "2022-01-23T15:38:01.722Z"
   },
   {
    "duration": 50,
    "start_time": "2022-01-23T15:38:01.863Z"
   },
   {
    "duration": 23,
    "start_time": "2022-01-23T15:38:01.915Z"
   },
   {
    "duration": 79,
    "start_time": "2022-01-23T15:38:01.940Z"
   },
   {
    "duration": 606,
    "start_time": "2022-01-23T15:38:02.022Z"
   },
   {
    "duration": 22,
    "start_time": "2022-01-23T15:38:02.631Z"
   },
   {
    "duration": 130,
    "start_time": "2022-01-23T15:38:02.655Z"
   },
   {
    "duration": 78,
    "start_time": "2022-01-23T15:38:02.787Z"
   },
   {
    "duration": 130,
    "start_time": "2022-01-23T15:38:02.867Z"
   },
   {
    "duration": 148,
    "start_time": "2022-01-23T15:38:02.999Z"
   },
   {
    "duration": 107,
    "start_time": "2022-01-23T15:38:03.149Z"
   },
   {
    "duration": 12,
    "start_time": "2022-01-23T15:38:03.258Z"
   },
   {
    "duration": 794,
    "start_time": "2022-01-23T15:38:03.272Z"
   },
   {
    "duration": 28,
    "start_time": "2022-01-23T15:38:04.068Z"
   },
   {
    "duration": 28,
    "start_time": "2022-01-23T15:38:04.097Z"
   },
   {
    "duration": 442,
    "start_time": "2022-01-23T15:38:04.127Z"
   },
   {
    "duration": 11,
    "start_time": "2022-01-23T15:38:04.571Z"
   },
   {
    "duration": 157,
    "start_time": "2022-01-23T15:38:04.585Z"
   },
   {
    "duration": 474,
    "start_time": "2022-01-23T15:38:04.744Z"
   },
   {
    "duration": 3,
    "start_time": "2022-01-23T15:38:05.222Z"
   },
   {
    "duration": 14,
    "start_time": "2022-01-23T15:38:05.240Z"
   },
   {
    "duration": 70,
    "start_time": "2022-01-23T15:38:05.256Z"
   },
   {
    "duration": 4,
    "start_time": "2022-01-23T15:38:05.328Z"
   },
   {
    "duration": 20,
    "start_time": "2022-01-23T15:38:05.334Z"
   },
   {
    "duration": 23,
    "start_time": "2022-01-23T15:38:05.356Z"
   },
   {
    "duration": 24365,
    "start_time": "2022-01-23T15:38:05.381Z"
   },
   {
    "duration": 597,
    "start_time": "2022-01-23T15:38:29.748Z"
   },
   {
    "duration": 6,
    "start_time": "2022-01-23T15:38:30.347Z"
   },
   {
    "duration": 95,
    "start_time": "2022-01-23T15:38:30.355Z"
   },
   {
    "duration": 11,
    "start_time": "2022-01-23T15:38:30.452Z"
   },
   {
    "duration": 18186,
    "start_time": "2022-01-23T15:38:30.465Z"
   },
   {
    "duration": 14289,
    "start_time": "2022-01-23T15:38:48.653Z"
   },
   {
    "duration": 708,
    "start_time": "2022-01-23T15:39:02.944Z"
   },
   {
    "duration": 901,
    "start_time": "2022-01-23T15:39:03.654Z"
   },
   {
    "duration": 5,
    "start_time": "2022-01-23T15:39:04.556Z"
   },
   {
    "duration": 22,
    "start_time": "2022-01-23T15:39:04.563Z"
   },
   {
    "duration": 4,
    "start_time": "2022-01-23T15:39:04.587Z"
   },
   {
    "duration": 100133,
    "start_time": "2022-01-23T15:39:04.593Z"
   },
   {
    "duration": 53,
    "start_time": "2022-01-23T15:40:44.729Z"
   },
   {
    "duration": 6678,
    "start_time": "2022-01-23T15:40:44.784Z"
   },
   {
    "duration": 163,
    "start_time": "2022-01-23T15:40:51.464Z"
   },
   {
    "duration": 153,
    "start_time": "2022-01-23T15:40:51.629Z"
   },
   {
    "duration": 13,
    "start_time": "2022-01-23T15:40:51.784Z"
   },
   {
    "duration": 8049,
    "start_time": "2022-01-23T15:43:55.837Z"
   },
   {
    "duration": 1213,
    "start_time": "2022-01-23T15:45:50.484Z"
   },
   {
    "duration": 926,
    "start_time": "2022-01-23T15:45:51.699Z"
   },
   {
    "duration": 25,
    "start_time": "2022-01-23T15:45:52.627Z"
   },
   {
    "duration": 132,
    "start_time": "2022-01-23T15:45:52.654Z"
   },
   {
    "duration": 53,
    "start_time": "2022-01-23T15:45:52.788Z"
   },
   {
    "duration": 13,
    "start_time": "2022-01-23T15:45:52.843Z"
   },
   {
    "duration": 64,
    "start_time": "2022-01-23T15:45:52.857Z"
   },
   {
    "duration": 565,
    "start_time": "2022-01-23T15:45:52.923Z"
   },
   {
    "duration": 21,
    "start_time": "2022-01-23T15:45:53.490Z"
   },
   {
    "duration": 134,
    "start_time": "2022-01-23T15:45:53.514Z"
   },
   {
    "duration": 73,
    "start_time": "2022-01-23T15:45:53.650Z"
   },
   {
    "duration": 118,
    "start_time": "2022-01-23T15:45:53.724Z"
   },
   {
    "duration": 130,
    "start_time": "2022-01-23T15:45:53.843Z"
   },
   {
    "duration": 94,
    "start_time": "2022-01-23T15:45:53.974Z"
   },
   {
    "duration": 10,
    "start_time": "2022-01-23T15:45:54.070Z"
   },
   {
    "duration": 741,
    "start_time": "2022-01-23T15:45:54.081Z"
   },
   {
    "duration": 29,
    "start_time": "2022-01-23T15:45:54.824Z"
   },
   {
    "duration": 10,
    "start_time": "2022-01-23T15:45:54.855Z"
   },
   {
    "duration": 443,
    "start_time": "2022-01-23T15:45:54.867Z"
   },
   {
    "duration": 11,
    "start_time": "2022-01-23T15:45:55.312Z"
   },
   {
    "duration": 145,
    "start_time": "2022-01-23T15:45:55.325Z"
   },
   {
    "duration": 461,
    "start_time": "2022-01-23T15:45:55.472Z"
   },
   {
    "duration": 5,
    "start_time": "2022-01-23T15:45:55.936Z"
   },
   {
    "duration": 19,
    "start_time": "2022-01-23T15:45:55.943Z"
   },
   {
    "duration": 58,
    "start_time": "2022-01-23T15:45:55.963Z"
   },
   {
    "duration": 3,
    "start_time": "2022-01-23T15:45:56.022Z"
   },
   {
    "duration": 16,
    "start_time": "2022-01-23T15:45:56.027Z"
   },
   {
    "duration": 15,
    "start_time": "2022-01-23T15:45:56.045Z"
   },
   {
    "duration": 23385,
    "start_time": "2022-01-23T15:45:56.062Z"
   },
   {
    "duration": 598,
    "start_time": "2022-01-23T15:46:19.448Z"
   },
   {
    "duration": 7,
    "start_time": "2022-01-23T15:46:20.048Z"
   },
   {
    "duration": 85,
    "start_time": "2022-01-23T15:46:20.057Z"
   },
   {
    "duration": 28,
    "start_time": "2022-01-23T15:46:20.143Z"
   },
   {
    "duration": 46774,
    "start_time": "2022-01-23T15:46:20.173Z"
   },
   {
    "duration": 12703,
    "start_time": "2022-01-23T15:47:06.949Z"
   },
   {
    "duration": 795,
    "start_time": "2022-01-23T15:47:19.654Z"
   },
   {
    "duration": 991,
    "start_time": "2022-01-23T15:47:20.451Z"
   },
   {
    "duration": 4,
    "start_time": "2022-01-23T15:47:21.444Z"
   },
   {
    "duration": 11,
    "start_time": "2022-01-23T15:47:21.450Z"
   },
   {
    "duration": 17,
    "start_time": "2022-01-23T15:47:21.462Z"
   },
   {
    "duration": 100991,
    "start_time": "2022-01-23T15:47:21.481Z"
   },
   {
    "duration": 55,
    "start_time": "2022-01-23T15:49:02.474Z"
   },
   {
    "duration": 7596,
    "start_time": "2022-01-23T15:49:02.531Z"
   },
   {
    "duration": 165,
    "start_time": "2022-01-23T15:49:10.129Z"
   },
   {
    "duration": 209,
    "start_time": "2022-01-23T15:49:10.296Z"
   },
   {
    "duration": 12,
    "start_time": "2022-01-23T15:49:10.507Z"
   },
   {
    "duration": 7440,
    "start_time": "2022-01-23T15:53:21.374Z"
   },
   {
    "duration": 1209,
    "start_time": "2022-01-23T15:53:45.934Z"
   },
   {
    "duration": 769,
    "start_time": "2022-01-23T15:53:47.146Z"
   },
   {
    "duration": 24,
    "start_time": "2022-01-23T15:53:47.917Z"
   },
   {
    "duration": 118,
    "start_time": "2022-01-23T15:53:47.943Z"
   },
   {
    "duration": 46,
    "start_time": "2022-01-23T15:53:48.063Z"
   },
   {
    "duration": 6,
    "start_time": "2022-01-23T15:53:48.111Z"
   },
   {
    "duration": 76,
    "start_time": "2022-01-23T15:53:48.118Z"
   },
   {
    "duration": 519,
    "start_time": "2022-01-23T15:53:48.196Z"
   },
   {
    "duration": 18,
    "start_time": "2022-01-23T15:53:48.719Z"
   },
   {
    "duration": 110,
    "start_time": "2022-01-23T15:53:48.739Z"
   },
   {
    "duration": 68,
    "start_time": "2022-01-23T15:53:48.850Z"
   },
   {
    "duration": 106,
    "start_time": "2022-01-23T15:53:48.920Z"
   },
   {
    "duration": 133,
    "start_time": "2022-01-23T15:53:49.028Z"
   },
   {
    "duration": 86,
    "start_time": "2022-01-23T15:53:49.162Z"
   },
   {
    "duration": 9,
    "start_time": "2022-01-23T15:53:49.250Z"
   },
   {
    "duration": 720,
    "start_time": "2022-01-23T15:53:49.261Z"
   },
   {
    "duration": 26,
    "start_time": "2022-01-23T15:53:49.982Z"
   },
   {
    "duration": 4,
    "start_time": "2022-01-23T15:53:50.009Z"
   },
   {
    "duration": 424,
    "start_time": "2022-01-23T15:53:50.014Z"
   },
   {
    "duration": 11,
    "start_time": "2022-01-23T15:53:50.441Z"
   },
   {
    "duration": 137,
    "start_time": "2022-01-23T15:53:50.454Z"
   },
   {
    "duration": 470,
    "start_time": "2022-01-23T15:53:50.593Z"
   },
   {
    "duration": 4,
    "start_time": "2022-01-23T15:53:51.064Z"
   },
   {
    "duration": 15,
    "start_time": "2022-01-23T15:53:51.070Z"
   },
   {
    "duration": 74,
    "start_time": "2022-01-23T15:53:51.087Z"
   },
   {
    "duration": 3,
    "start_time": "2022-01-23T15:53:51.163Z"
   },
   {
    "duration": 3,
    "start_time": "2022-01-23T15:53:51.169Z"
   },
   {
    "duration": 5,
    "start_time": "2022-01-23T15:53:51.174Z"
   },
   {
    "duration": 24061,
    "start_time": "2022-01-23T15:53:51.181Z"
   },
   {
    "duration": 602,
    "start_time": "2022-01-23T15:54:15.245Z"
   },
   {
    "duration": 8,
    "start_time": "2022-01-23T15:54:15.849Z"
   },
   {
    "duration": 83,
    "start_time": "2022-01-23T15:54:15.859Z"
   },
   {
    "duration": 29,
    "start_time": "2022-01-23T15:54:15.944Z"
   },
   {
    "duration": 60868,
    "start_time": "2022-01-23T15:54:15.975Z"
   },
   {
    "duration": 14799,
    "start_time": "2022-01-23T15:55:16.844Z"
   },
   {
    "duration": 705,
    "start_time": "2022-01-23T15:55:31.645Z"
   },
   {
    "duration": 910,
    "start_time": "2022-01-23T15:55:32.352Z"
   },
   {
    "duration": 5,
    "start_time": "2022-01-23T15:55:33.263Z"
   },
   {
    "duration": 75,
    "start_time": "2022-01-23T15:55:33.269Z"
   },
   {
    "duration": 39,
    "start_time": "2022-01-23T15:55:33.345Z"
   },
   {
    "duration": 97634,
    "start_time": "2022-01-23T15:55:33.385Z"
   },
   {
    "duration": 6965,
    "start_time": "2022-01-23T15:57:11.020Z"
   },
   {
    "duration": 201,
    "start_time": "2022-01-23T15:57:17.987Z"
   },
   {
    "duration": 194,
    "start_time": "2022-01-23T15:57:18.190Z"
   },
   {
    "duration": 11,
    "start_time": "2022-01-23T15:57:18.386Z"
   },
   {
    "duration": 7343,
    "start_time": "2022-01-23T16:09:11.698Z"
   },
   {
    "duration": 12810,
    "start_time": "2022-01-23T16:11:19.286Z"
   },
   {
    "duration": 411,
    "start_time": "2022-01-23T16:12:00.043Z"
   },
   {
    "duration": 1113,
    "start_time": "2022-01-23T16:12:10.576Z"
   },
   {
    "duration": 778,
    "start_time": "2022-01-23T16:12:11.691Z"
   },
   {
    "duration": 16,
    "start_time": "2022-01-23T16:12:12.471Z"
   },
   {
    "duration": 133,
    "start_time": "2022-01-23T16:12:12.489Z"
   },
   {
    "duration": 44,
    "start_time": "2022-01-23T16:12:12.625Z"
   },
   {
    "duration": 4,
    "start_time": "2022-01-23T16:12:12.671Z"
   },
   {
    "duration": 81,
    "start_time": "2022-01-23T16:12:12.677Z"
   },
   {
    "duration": 528,
    "start_time": "2022-01-23T16:12:12.761Z"
   },
   {
    "duration": 17,
    "start_time": "2022-01-23T16:12:13.292Z"
   },
   {
    "duration": 111,
    "start_time": "2022-01-23T16:12:13.311Z"
   },
   {
    "duration": 73,
    "start_time": "2022-01-23T16:12:13.424Z"
   },
   {
    "duration": 113,
    "start_time": "2022-01-23T16:12:13.498Z"
   },
   {
    "duration": 121,
    "start_time": "2022-01-23T16:12:13.612Z"
   },
   {
    "duration": 81,
    "start_time": "2022-01-23T16:12:13.734Z"
   },
   {
    "duration": 26,
    "start_time": "2022-01-23T16:12:13.817Z"
   },
   {
    "duration": 713,
    "start_time": "2022-01-23T16:12:13.845Z"
   },
   {
    "duration": 32,
    "start_time": "2022-01-23T16:12:14.560Z"
   },
   {
    "duration": 4,
    "start_time": "2022-01-23T16:12:14.594Z"
   },
   {
    "duration": 404,
    "start_time": "2022-01-23T16:12:14.600Z"
   },
   {
    "duration": 11,
    "start_time": "2022-01-23T16:12:15.006Z"
   },
   {
    "duration": 135,
    "start_time": "2022-01-23T16:12:15.019Z"
   },
   {
    "duration": 453,
    "start_time": "2022-01-23T16:12:15.156Z"
   },
   {
    "duration": 3,
    "start_time": "2022-01-23T16:12:15.613Z"
   },
   {
    "duration": 23,
    "start_time": "2022-01-23T16:12:15.619Z"
   },
   {
    "duration": 53,
    "start_time": "2022-01-23T16:12:15.644Z"
   },
   {
    "duration": 3,
    "start_time": "2022-01-23T16:12:15.699Z"
   },
   {
    "duration": 9,
    "start_time": "2022-01-23T16:12:15.704Z"
   },
   {
    "duration": 6,
    "start_time": "2022-01-23T16:12:15.715Z"
   },
   {
    "duration": 21127,
    "start_time": "2022-01-23T16:12:15.723Z"
   },
   {
    "duration": 591,
    "start_time": "2022-01-23T16:12:36.852Z"
   },
   {
    "duration": 96,
    "start_time": "2022-01-23T16:12:37.446Z"
   },
   {
    "duration": 11,
    "start_time": "2022-01-23T16:12:37.544Z"
   },
   {
    "duration": 19,
    "start_time": "2022-01-23T16:12:37.557Z"
   },
   {
    "duration": 9865,
    "start_time": "2022-01-23T16:12:37.578Z"
   },
   {
    "duration": 11601,
    "start_time": "2022-01-23T16:12:47.444Z"
   },
   {
    "duration": 697,
    "start_time": "2022-01-23T16:12:59.047Z"
   },
   {
    "duration": 819,
    "start_time": "2022-01-23T16:12:59.745Z"
   },
   {
    "duration": 4,
    "start_time": "2022-01-23T16:13:00.565Z"
   },
   {
    "duration": 73,
    "start_time": "2022-01-23T16:13:00.570Z"
   },
   {
    "duration": 7,
    "start_time": "2022-01-23T16:13:00.645Z"
   },
   {
    "duration": 99595,
    "start_time": "2022-01-23T16:13:00.653Z"
   },
   {
    "duration": 12711,
    "start_time": "2022-01-23T16:14:40.250Z"
   },
   {
    "duration": 397,
    "start_time": "2022-01-23T16:14:52.963Z"
   },
   {
    "duration": 80,
    "start_time": "2022-01-23T16:14:53.361Z"
   },
   {
    "duration": 12523,
    "start_time": "2022-01-23T16:15:18.298Z"
   },
   {
    "duration": 1175,
    "start_time": "2022-01-23T16:15:43.027Z"
   },
   {
    "duration": 788,
    "start_time": "2022-01-23T16:15:44.204Z"
   },
   {
    "duration": 17,
    "start_time": "2022-01-23T16:15:44.994Z"
   },
   {
    "duration": 136,
    "start_time": "2022-01-23T16:15:45.013Z"
   },
   {
    "duration": 46,
    "start_time": "2022-01-23T16:15:45.150Z"
   },
   {
    "duration": 22,
    "start_time": "2022-01-23T16:15:45.198Z"
   },
   {
    "duration": 81,
    "start_time": "2022-01-23T16:15:45.222Z"
   },
   {
    "duration": 1076,
    "start_time": "2022-01-23T16:15:45.306Z"
   },
   {
    "duration": 18,
    "start_time": "2022-01-23T16:15:46.384Z"
   },
   {
    "duration": 176,
    "start_time": "2022-01-23T16:15:46.404Z"
   },
   {
    "duration": 75,
    "start_time": "2022-01-23T16:15:46.582Z"
   },
   {
    "duration": 120,
    "start_time": "2022-01-23T16:15:46.658Z"
   },
   {
    "duration": 128,
    "start_time": "2022-01-23T16:15:46.780Z"
   },
   {
    "duration": 90,
    "start_time": "2022-01-23T16:15:46.910Z"
   },
   {
    "duration": 10,
    "start_time": "2022-01-23T16:15:47.002Z"
   },
   {
    "duration": 750,
    "start_time": "2022-01-23T16:15:47.013Z"
   },
   {
    "duration": 27,
    "start_time": "2022-01-23T16:15:47.764Z"
   },
   {
    "duration": 3,
    "start_time": "2022-01-23T16:15:47.793Z"
   },
   {
    "duration": 434,
    "start_time": "2022-01-23T16:15:47.798Z"
   },
   {
    "duration": 16,
    "start_time": "2022-01-23T16:15:48.233Z"
   },
   {
    "duration": 138,
    "start_time": "2022-01-23T16:15:48.250Z"
   },
   {
    "duration": 471,
    "start_time": "2022-01-23T16:15:48.390Z"
   },
   {
    "duration": 4,
    "start_time": "2022-01-23T16:15:48.864Z"
   },
   {
    "duration": 32,
    "start_time": "2022-01-23T16:15:48.870Z"
   },
   {
    "duration": 89,
    "start_time": "2022-01-23T16:15:48.904Z"
   },
   {
    "duration": 4,
    "start_time": "2022-01-23T16:15:48.995Z"
   },
   {
    "duration": 30,
    "start_time": "2022-01-23T16:15:49.001Z"
   },
   {
    "duration": 38,
    "start_time": "2022-01-23T16:15:49.032Z"
   },
   {
    "duration": 21473,
    "start_time": "2022-01-23T16:15:49.072Z"
   },
   {
    "duration": 596,
    "start_time": "2022-01-23T16:16:10.547Z"
   },
   {
    "duration": 96,
    "start_time": "2022-01-23T16:16:11.146Z"
   },
   {
    "duration": 3,
    "start_time": "2022-01-23T16:16:11.244Z"
   },
   {
    "duration": 9,
    "start_time": "2022-01-23T16:16:11.248Z"
   },
   {
    "duration": 8987,
    "start_time": "2022-01-23T16:16:11.258Z"
   },
   {
    "duration": 10901,
    "start_time": "2022-01-23T16:16:20.247Z"
   },
   {
    "duration": 705,
    "start_time": "2022-01-23T16:16:31.150Z"
   },
   {
    "duration": 1095,
    "start_time": "2022-01-23T16:16:31.857Z"
   },
   {
    "duration": 5,
    "start_time": "2022-01-23T16:16:32.954Z"
   },
   {
    "duration": 19,
    "start_time": "2022-01-23T16:16:32.961Z"
   },
   {
    "duration": 61,
    "start_time": "2022-01-23T16:16:32.982Z"
   },
   {
    "duration": 99118,
    "start_time": "2022-01-23T16:16:33.045Z"
   },
   {
    "duration": 12766,
    "start_time": "2022-01-23T16:18:12.165Z"
   },
   {
    "duration": 421,
    "start_time": "2022-01-23T16:18:24.933Z"
   },
   {
    "duration": 11,
    "start_time": "2022-01-23T16:18:25.356Z"
   },
   {
    "duration": 1198,
    "start_time": "2022-01-23T21:02:46.068Z"
   },
   {
    "duration": 811,
    "start_time": "2022-01-23T21:02:47.268Z"
   },
   {
    "duration": 18,
    "start_time": "2022-01-23T21:02:48.081Z"
   },
   {
    "duration": 118,
    "start_time": "2022-01-23T21:02:49.046Z"
   },
   {
    "duration": 47,
    "start_time": "2022-01-23T21:04:07.545Z"
   },
   {
    "duration": 3,
    "start_time": "2022-01-23T21:04:36.552Z"
   },
   {
    "duration": 56,
    "start_time": "2022-01-23T21:04:37.822Z"
   },
   {
    "duration": 1374,
    "start_time": "2022-01-23T21:05:21.281Z"
   },
   {
    "duration": 20,
    "start_time": "2022-01-23T21:05:38.251Z"
   },
   {
    "duration": 87,
    "start_time": "2022-01-23T21:06:15.760Z"
   },
   {
    "duration": 102,
    "start_time": "2022-01-23T21:06:26.111Z"
   },
   {
    "duration": 70,
    "start_time": "2022-01-23T21:06:27.435Z"
   },
   {
    "duration": 102,
    "start_time": "2022-01-23T21:06:30.681Z"
   },
   {
    "duration": 121,
    "start_time": "2022-01-23T21:06:32.727Z"
   },
   {
    "duration": 87,
    "start_time": "2022-01-23T21:06:32.850Z"
   },
   {
    "duration": 10,
    "start_time": "2022-01-23T21:07:09.936Z"
   },
   {
    "duration": 776,
    "start_time": "2022-01-23T21:07:10.705Z"
   },
   {
    "duration": 27,
    "start_time": "2022-01-23T21:07:12.214Z"
   },
   {
    "duration": 4,
    "start_time": "2022-01-23T21:07:12.450Z"
   },
   {
    "duration": 411,
    "start_time": "2022-01-23T21:07:13.050Z"
   },
   {
    "duration": 13,
    "start_time": "2022-01-23T21:07:13.891Z"
   },
   {
    "duration": 137,
    "start_time": "2022-01-23T21:11:10.249Z"
   },
   {
    "duration": 484,
    "start_time": "2022-01-23T21:11:11.269Z"
   },
   {
    "duration": 3,
    "start_time": "2022-01-23T21:11:11.792Z"
   },
   {
    "duration": 12,
    "start_time": "2022-01-23T21:11:13.449Z"
   },
   {
    "duration": 60,
    "start_time": "2022-01-23T21:11:13.670Z"
   },
   {
    "duration": 4,
    "start_time": "2022-01-23T21:11:13.899Z"
   },
   {
    "duration": 3,
    "start_time": "2022-01-23T21:11:17.115Z"
   },
   {
    "duration": 3,
    "start_time": "2022-01-23T21:11:57.842Z"
   },
   {
    "duration": 23804,
    "start_time": "2022-01-23T21:11:58.110Z"
   },
   {
    "duration": 501,
    "start_time": "2022-01-23T21:12:21.916Z"
   },
   {
    "duration": 92,
    "start_time": "2022-01-23T21:12:22.419Z"
   },
   {
    "duration": 3,
    "start_time": "2022-01-23T21:12:26.290Z"
   },
   {
    "duration": 3,
    "start_time": "2022-01-23T21:12:26.854Z"
   },
   {
    "duration": 40139,
    "start_time": "2022-01-23T21:12:27.583Z"
   },
   {
    "duration": 50390,
    "start_time": "2022-01-23T21:13:07.726Z"
   },
   {
    "duration": 789,
    "start_time": "2022-01-23T21:13:58.119Z"
   },
   {
    "duration": 910,
    "start_time": "2022-01-23T21:13:58.915Z"
   },
   {
    "duration": 87,
    "start_time": "2022-01-23T21:13:59.826Z"
   },
   {
    "duration": 5,
    "start_time": "2022-01-23T21:13:59.915Z"
   },
   {
    "duration": 5,
    "start_time": "2022-01-23T21:13:59.922Z"
   },
   {
    "duration": 102212,
    "start_time": "2022-01-23T21:13:59.929Z"
   },
   {
    "duration": 12868,
    "start_time": "2022-01-23T21:15:42.143Z"
   },
   {
    "duration": 408,
    "start_time": "2022-01-23T21:15:55.013Z"
   },
   {
    "duration": 23,
    "start_time": "2022-01-23T21:15:55.423Z"
   },
   {
    "duration": 125,
    "start_time": "2022-01-24T09:35:11.072Z"
   },
   {
    "duration": 120,
    "start_time": "2022-01-24T09:36:38.573Z"
   },
   {
    "duration": 1724,
    "start_time": "2022-01-24T09:38:03.128Z"
   },
   {
    "duration": 1159,
    "start_time": "2022-01-24T09:38:04.855Z"
   },
   {
    "duration": 29,
    "start_time": "2022-01-24T09:38:06.017Z"
   },
   {
    "duration": 198,
    "start_time": "2022-01-24T09:38:06.049Z"
   },
   {
    "duration": 73,
    "start_time": "2022-01-24T09:38:06.249Z"
   },
   {
    "duration": 7,
    "start_time": "2022-01-24T09:38:06.324Z"
   },
   {
    "duration": 129,
    "start_time": "2022-01-24T09:38:06.333Z"
   },
   {
    "duration": 727,
    "start_time": "2022-01-24T09:38:06.470Z"
   },
   {
    "duration": 30,
    "start_time": "2022-01-24T09:38:07.202Z"
   },
   {
    "duration": 167,
    "start_time": "2022-01-24T09:38:07.235Z"
   },
   {
    "duration": 117,
    "start_time": "2022-01-24T09:38:07.405Z"
   },
   {
    "duration": 175,
    "start_time": "2022-01-24T09:38:07.524Z"
   },
   {
    "duration": 198,
    "start_time": "2022-01-24T09:38:07.702Z"
   },
   {
    "duration": 135,
    "start_time": "2022-01-24T09:38:07.903Z"
   },
   {
    "duration": 31,
    "start_time": "2022-01-24T09:38:08.041Z"
   },
   {
    "duration": 1183,
    "start_time": "2022-01-24T09:38:08.074Z"
   },
   {
    "duration": 45,
    "start_time": "2022-01-24T09:38:09.260Z"
   },
   {
    "duration": 5,
    "start_time": "2022-01-24T09:38:09.308Z"
   },
   {
    "duration": 470,
    "start_time": "2022-01-24T09:38:09.315Z"
   },
   {
    "duration": 18,
    "start_time": "2022-01-24T09:38:09.788Z"
   },
   {
    "duration": 167,
    "start_time": "2022-01-24T09:38:09.808Z"
   },
   {
    "duration": 692,
    "start_time": "2022-01-24T09:38:09.977Z"
   },
   {
    "duration": 7,
    "start_time": "2022-01-24T09:38:10.674Z"
   },
   {
    "duration": 23,
    "start_time": "2022-01-24T09:38:10.684Z"
   },
   {
    "duration": 138,
    "start_time": "2022-01-24T09:38:10.710Z"
   },
   {
    "duration": 4,
    "start_time": "2022-01-24T09:38:10.851Z"
   },
   {
    "duration": 13,
    "start_time": "2022-01-24T09:38:10.857Z"
   },
   {
    "duration": 11,
    "start_time": "2022-01-24T09:38:10.873Z"
   },
   {
    "duration": 29397,
    "start_time": "2022-01-24T09:38:10.886Z"
   },
   {
    "duration": 692,
    "start_time": "2022-01-24T09:38:40.286Z"
   },
   {
    "duration": 12,
    "start_time": "2022-01-24T09:38:40.982Z"
   },
   {
    "duration": 5,
    "start_time": "2022-01-24T09:38:41.069Z"
   },
   {
    "duration": 9,
    "start_time": "2022-01-24T09:38:41.077Z"
   },
   {
    "duration": 44781,
    "start_time": "2022-01-24T09:38:41.089Z"
   },
   {
    "duration": 20706,
    "start_time": "2022-01-24T09:39:25.872Z"
   },
   {
    "duration": 1091,
    "start_time": "2022-01-24T09:39:46.582Z"
   },
   {
    "duration": 1501,
    "start_time": "2022-01-24T09:39:47.675Z"
   },
   {
    "duration": 7,
    "start_time": "2022-01-24T09:39:49.179Z"
   },
   {
    "duration": 7,
    "start_time": "2022-01-24T09:39:49.189Z"
   },
   {
    "duration": 6,
    "start_time": "2022-01-24T09:39:49.199Z"
   },
   {
    "duration": 141254,
    "start_time": "2022-01-24T09:39:49.270Z"
   },
   {
    "duration": 17762,
    "start_time": "2022-01-24T09:42:10.526Z"
   },
   {
    "duration": 599,
    "start_time": "2022-01-24T09:42:28.290Z"
   },
   {
    "duration": 21,
    "start_time": "2022-01-24T09:42:28.892Z"
   },
   {
    "duration": 1653,
    "start_time": "2022-01-24T10:41:36.146Z"
   },
   {
    "duration": 1326,
    "start_time": "2022-01-24T10:41:37.802Z"
   },
   {
    "duration": 40,
    "start_time": "2022-01-24T10:41:39.131Z"
   },
   {
    "duration": 179,
    "start_time": "2022-01-24T10:41:39.174Z"
   },
   {
    "duration": 70,
    "start_time": "2022-01-24T10:41:39.355Z"
   },
   {
    "duration": 15,
    "start_time": "2022-01-24T10:41:39.428Z"
   },
   {
    "duration": 95,
    "start_time": "2022-01-24T10:41:39.445Z"
   },
   {
    "duration": 693,
    "start_time": "2022-01-24T10:41:39.542Z"
   },
   {
    "duration": 35,
    "start_time": "2022-01-24T10:41:40.241Z"
   },
   {
    "duration": 174,
    "start_time": "2022-01-24T10:41:40.280Z"
   },
   {
    "duration": 122,
    "start_time": "2022-01-24T10:41:40.457Z"
   },
   {
    "duration": 164,
    "start_time": "2022-01-24T10:41:40.582Z"
   },
   {
    "duration": 202,
    "start_time": "2022-01-24T10:41:40.749Z"
   },
   {
    "duration": 138,
    "start_time": "2022-01-24T10:41:40.954Z"
   },
   {
    "duration": 17,
    "start_time": "2022-01-24T10:41:41.094Z"
   },
   {
    "duration": 1192,
    "start_time": "2022-01-24T10:41:41.113Z"
   },
   {
    "duration": 90,
    "start_time": "2022-01-24T10:41:42.307Z"
   },
   {
    "duration": 728,
    "start_time": "2022-01-24T10:41:41.672Z"
   },
   {
    "duration": 723,
    "start_time": "2022-01-24T10:41:41.679Z"
   },
   {
    "duration": 720,
    "start_time": "2022-01-24T10:41:41.684Z"
   },
   {
    "duration": 717,
    "start_time": "2022-01-24T10:41:41.688Z"
   },
   {
    "duration": 698,
    "start_time": "2022-01-24T10:41:41.709Z"
   },
   {
    "duration": 691,
    "start_time": "2022-01-24T10:41:41.717Z"
   },
   {
    "duration": 688,
    "start_time": "2022-01-24T10:41:41.722Z"
   },
   {
    "duration": 683,
    "start_time": "2022-01-24T10:41:41.728Z"
   },
   {
    "duration": 681,
    "start_time": "2022-01-24T10:41:41.732Z"
   },
   {
    "duration": 676,
    "start_time": "2022-01-24T10:41:41.738Z"
   },
   {
    "duration": 675,
    "start_time": "2022-01-24T10:41:41.741Z"
   },
   {
    "duration": 673,
    "start_time": "2022-01-24T10:41:41.744Z"
   },
   {
    "duration": 672,
    "start_time": "2022-01-24T10:41:41.747Z"
   },
   {
    "duration": 671,
    "start_time": "2022-01-24T10:41:41.749Z"
   },
   {
    "duration": 671,
    "start_time": "2022-01-24T10:41:41.751Z"
   },
   {
    "duration": 669,
    "start_time": "2022-01-24T10:41:41.755Z"
   },
   {
    "duration": 668,
    "start_time": "2022-01-24T10:41:41.757Z"
   },
   {
    "duration": 666,
    "start_time": "2022-01-24T10:41:41.760Z"
   },
   {
    "duration": 666,
    "start_time": "2022-01-24T10:41:41.761Z"
   },
   {
    "duration": 666,
    "start_time": "2022-01-24T10:41:41.763Z"
   },
   {
    "duration": 661,
    "start_time": "2022-01-24T10:41:41.769Z"
   },
   {
    "duration": 658,
    "start_time": "2022-01-24T10:41:41.774Z"
   },
   {
    "duration": 656,
    "start_time": "2022-01-24T10:41:41.777Z"
   },
   {
    "duration": 656,
    "start_time": "2022-01-24T10:41:41.779Z"
   },
   {
    "duration": 655,
    "start_time": "2022-01-24T10:41:41.781Z"
   },
   {
    "duration": 688,
    "start_time": "2022-01-24T10:41:41.782Z"
   },
   {
    "duration": 686,
    "start_time": "2022-01-24T10:41:41.785Z"
   },
   {
    "duration": 1504,
    "start_time": "2022-01-24T10:44:04.015Z"
   },
   {
    "duration": 1298,
    "start_time": "2022-01-24T10:44:05.524Z"
   },
   {
    "duration": 44,
    "start_time": "2022-01-24T10:44:06.825Z"
   },
   {
    "duration": 161,
    "start_time": "2022-01-24T10:44:06.872Z"
   },
   {
    "duration": 74,
    "start_time": "2022-01-24T10:44:07.035Z"
   },
   {
    "duration": 9,
    "start_time": "2022-01-24T10:44:07.111Z"
   },
   {
    "duration": 100,
    "start_time": "2022-01-24T10:44:07.122Z"
   },
   {
    "duration": 782,
    "start_time": "2022-01-24T10:44:07.226Z"
   },
   {
    "duration": 26,
    "start_time": "2022-01-24T10:44:08.012Z"
   },
   {
    "duration": 279,
    "start_time": "2022-01-24T10:44:08.041Z"
   },
   {
    "duration": 98,
    "start_time": "2022-01-24T10:44:08.323Z"
   },
   {
    "duration": 169,
    "start_time": "2022-01-24T10:44:08.424Z"
   },
   {
    "duration": 195,
    "start_time": "2022-01-24T10:44:08.595Z"
   },
   {
    "duration": 144,
    "start_time": "2022-01-24T10:44:08.793Z"
   },
   {
    "duration": 16,
    "start_time": "2022-01-24T10:44:08.939Z"
   },
   {
    "duration": 1166,
    "start_time": "2022-01-24T10:44:08.969Z"
   },
   {
    "duration": 54,
    "start_time": "2022-01-24T10:44:10.137Z"
   },
   {
    "duration": 5,
    "start_time": "2022-01-24T10:44:10.193Z"
   },
   {
    "duration": 452,
    "start_time": "2022-01-24T10:44:10.201Z"
   },
   {
    "duration": 22,
    "start_time": "2022-01-24T10:44:10.655Z"
   },
   {
    "duration": 165,
    "start_time": "2022-01-24T10:44:10.680Z"
   },
   {
    "duration": 853,
    "start_time": "2022-01-24T10:44:10.848Z"
   },
   {
    "duration": 5,
    "start_time": "2022-01-24T10:44:11.703Z"
   },
   {
    "duration": 31,
    "start_time": "2022-01-24T10:44:11.710Z"
   },
   {
    "duration": 125,
    "start_time": "2022-01-24T10:44:11.744Z"
   },
   {
    "duration": 4,
    "start_time": "2022-01-24T10:44:11.874Z"
   },
   {
    "duration": 7,
    "start_time": "2022-01-24T10:44:11.881Z"
   },
   {
    "duration": 15,
    "start_time": "2022-01-24T10:44:11.890Z"
   },
   {
    "duration": 25874,
    "start_time": "2022-01-24T10:44:11.908Z"
   },
   {
    "duration": 685,
    "start_time": "2022-01-24T10:44:37.785Z"
   },
   {
    "duration": 97,
    "start_time": "2022-01-24T10:44:38.474Z"
   },
   {
    "duration": 5,
    "start_time": "2022-01-24T10:44:38.574Z"
   },
   {
    "duration": 6,
    "start_time": "2022-01-24T10:44:38.581Z"
   },
   {
    "duration": 11588,
    "start_time": "2022-01-24T10:44:38.589Z"
   },
   {
    "duration": 15498,
    "start_time": "2022-01-24T10:44:50.180Z"
   },
   {
    "duration": 1188,
    "start_time": "2022-01-24T10:45:05.681Z"
   },
   {
    "duration": 1410,
    "start_time": "2022-01-24T10:45:06.872Z"
   },
   {
    "duration": 6,
    "start_time": "2022-01-24T10:45:08.285Z"
   },
   {
    "duration": 15,
    "start_time": "2022-01-24T10:45:08.293Z"
   },
   {
    "duration": 6,
    "start_time": "2022-01-24T10:45:08.370Z"
   },
   {
    "duration": 137191,
    "start_time": "2022-01-24T10:45:08.379Z"
   },
   {
    "duration": 17564,
    "start_time": "2022-01-24T10:47:25.573Z"
   },
   {
    "duration": 551,
    "start_time": "2022-01-24T10:47:43.139Z"
   },
   {
    "duration": 19,
    "start_time": "2022-01-24T10:47:43.692Z"
   },
   {
    "duration": 439,
    "start_time": "2022-01-24T10:51:14.154Z"
   },
   {
    "duration": 90,
    "start_time": "2022-01-24T10:53:37.587Z"
   },
   {
    "duration": 267,
    "start_time": "2022-01-24T10:53:45.133Z"
   },
   {
    "duration": 6,
    "start_time": "2022-01-24T10:55:27.411Z"
   },
   {
    "duration": 282,
    "start_time": "2022-01-24T10:55:34.434Z"
   },
   {
    "duration": 8,
    "start_time": "2022-01-24T10:56:29.486Z"
   },
   {
    "duration": 279,
    "start_time": "2022-01-24T10:57:44.565Z"
   },
   {
    "duration": 8,
    "start_time": "2022-01-24T10:59:33.809Z"
   },
   {
    "duration": 294,
    "start_time": "2022-01-24T11:03:18.656Z"
   },
   {
    "duration": 272,
    "start_time": "2022-01-24T11:04:35.932Z"
   },
   {
    "duration": 292,
    "start_time": "2022-01-24T11:05:24.482Z"
   },
   {
    "duration": 117,
    "start_time": "2022-01-24T11:05:35.146Z"
   },
   {
    "duration": 289,
    "start_time": "2022-01-24T11:05:45.498Z"
   },
   {
    "duration": 296,
    "start_time": "2022-01-24T11:07:24.090Z"
   },
   {
    "duration": 273,
    "start_time": "2022-01-24T11:07:34.931Z"
   },
   {
    "duration": 276,
    "start_time": "2022-01-24T11:20:41.325Z"
   },
   {
    "duration": 1642,
    "start_time": "2022-01-24T11:23:35.059Z"
   },
   {
    "duration": 1137,
    "start_time": "2022-01-24T11:23:36.704Z"
   },
   {
    "duration": 32,
    "start_time": "2022-01-24T11:23:37.844Z"
   },
   {
    "duration": 176,
    "start_time": "2022-01-24T11:23:37.879Z"
   },
   {
    "duration": 71,
    "start_time": "2022-01-24T11:23:38.058Z"
   },
   {
    "duration": 9,
    "start_time": "2022-01-24T11:23:38.131Z"
   },
   {
    "duration": 99,
    "start_time": "2022-01-24T11:23:38.142Z"
   },
   {
    "duration": 692,
    "start_time": "2022-01-24T11:23:38.245Z"
   },
   {
    "duration": 30,
    "start_time": "2022-01-24T11:23:38.941Z"
   },
   {
    "duration": 173,
    "start_time": "2022-01-24T11:23:38.973Z"
   },
   {
    "duration": 104,
    "start_time": "2022-01-24T11:23:39.149Z"
   },
   {
    "duration": 171,
    "start_time": "2022-01-24T11:23:39.255Z"
   },
   {
    "duration": 196,
    "start_time": "2022-01-24T11:23:39.429Z"
   },
   {
    "duration": 142,
    "start_time": "2022-01-24T11:23:39.628Z"
   },
   {
    "duration": 16,
    "start_time": "2022-01-24T11:23:39.773Z"
   },
   {
    "duration": 1211,
    "start_time": "2022-01-24T11:23:39.791Z"
   },
   {
    "duration": 66,
    "start_time": "2022-01-24T11:23:41.005Z"
   },
   {
    "duration": 5,
    "start_time": "2022-01-24T11:23:41.074Z"
   },
   {
    "duration": 493,
    "start_time": "2022-01-24T11:23:41.081Z"
   },
   {
    "duration": 594,
    "start_time": "2022-01-24T11:23:41.576Z"
   },
   {
    "duration": 16,
    "start_time": "2022-01-24T11:23:42.172Z"
   },
   {
    "duration": 161,
    "start_time": "2022-01-24T11:23:42.191Z"
   },
   {
    "duration": 725,
    "start_time": "2022-01-24T11:23:42.357Z"
   },
   {
    "duration": 4,
    "start_time": "2022-01-24T11:23:43.085Z"
   },
   {
    "duration": 25,
    "start_time": "2022-01-24T11:23:43.091Z"
   },
   {
    "duration": 85,
    "start_time": "2022-01-24T11:23:43.119Z"
   },
   {
    "duration": 6,
    "start_time": "2022-01-24T11:23:43.207Z"
   },
   {
    "duration": 11,
    "start_time": "2022-01-24T11:23:43.215Z"
   },
   {
    "duration": 7,
    "start_time": "2022-01-24T11:23:43.228Z"
   },
   {
    "duration": 26242,
    "start_time": "2022-01-24T11:23:43.237Z"
   },
   {
    "duration": 700,
    "start_time": "2022-01-24T11:24:09.483Z"
   },
   {
    "duration": 88,
    "start_time": "2022-01-24T11:24:10.186Z"
   },
   {
    "duration": 6,
    "start_time": "2022-01-24T11:24:10.277Z"
   },
   {
    "duration": 12,
    "start_time": "2022-01-24T11:24:10.286Z"
   },
   {
    "duration": 14382,
    "start_time": "2022-01-24T11:24:10.300Z"
   },
   {
    "duration": 29402,
    "start_time": "2022-01-24T11:24:24.769Z"
   },
   {
    "duration": 1006,
    "start_time": "2022-01-24T11:24:54.174Z"
   },
   {
    "duration": 1488,
    "start_time": "2022-01-24T11:24:55.182Z"
   },
   {
    "duration": 6,
    "start_time": "2022-01-24T11:24:56.674Z"
   },
   {
    "duration": 15,
    "start_time": "2022-01-24T11:24:56.682Z"
   },
   {
    "duration": 7,
    "start_time": "2022-01-24T11:24:56.700Z"
   },
   {
    "duration": 6817,
    "start_time": "2022-01-24T11:24:56.709Z"
   },
   {
    "duration": 221,
    "start_time": "2022-01-24T11:25:03.529Z"
   },
   {
    "duration": 286,
    "start_time": "2022-01-24T11:25:03.752Z"
   },
   {
    "duration": 8693,
    "start_time": "2022-01-24T11:25:04.041Z"
   },
   {
    "duration": 800,
    "start_time": "2022-01-24T11:25:11.936Z"
   },
   {
    "duration": 799,
    "start_time": "2022-01-24T11:25:11.939Z"
   },
   {
    "duration": 1555,
    "start_time": "2022-01-24T11:26:16.560Z"
   },
   {
    "duration": 1240,
    "start_time": "2022-01-24T11:26:18.118Z"
   },
   {
    "duration": 33,
    "start_time": "2022-01-24T11:26:19.362Z"
   },
   {
    "duration": 182,
    "start_time": "2022-01-24T11:26:19.398Z"
   },
   {
    "duration": 68,
    "start_time": "2022-01-24T11:26:19.582Z"
   },
   {
    "duration": 19,
    "start_time": "2022-01-24T11:26:19.653Z"
   },
   {
    "duration": 95,
    "start_time": "2022-01-24T11:26:19.675Z"
   },
   {
    "duration": 710,
    "start_time": "2022-01-24T11:26:19.774Z"
   },
   {
    "duration": 29,
    "start_time": "2022-01-24T11:26:20.487Z"
   },
   {
    "duration": 171,
    "start_time": "2022-01-24T11:26:20.518Z"
   },
   {
    "duration": 107,
    "start_time": "2022-01-24T11:26:20.691Z"
   },
   {
    "duration": 212,
    "start_time": "2022-01-24T11:26:20.801Z"
   },
   {
    "duration": 210,
    "start_time": "2022-01-24T11:26:21.015Z"
   },
   {
    "duration": 137,
    "start_time": "2022-01-24T11:26:21.227Z"
   },
   {
    "duration": 16,
    "start_time": "2022-01-24T11:26:21.369Z"
   },
   {
    "duration": 1286,
    "start_time": "2022-01-24T11:26:21.387Z"
   },
   {
    "duration": 43,
    "start_time": "2022-01-24T11:26:22.675Z"
   },
   {
    "duration": 6,
    "start_time": "2022-01-24T11:26:22.720Z"
   },
   {
    "duration": 443,
    "start_time": "2022-01-24T11:26:22.729Z"
   },
   {
    "duration": 17,
    "start_time": "2022-01-24T11:26:23.175Z"
   },
   {
    "duration": 161,
    "start_time": "2022-01-24T11:26:23.194Z"
   },
   {
    "duration": 762,
    "start_time": "2022-01-24T11:26:23.358Z"
   },
   {
    "duration": 5,
    "start_time": "2022-01-24T11:26:24.125Z"
   },
   {
    "duration": 40,
    "start_time": "2022-01-24T11:26:24.132Z"
   },
   {
    "duration": 112,
    "start_time": "2022-01-24T11:26:24.174Z"
   },
   {
    "duration": 5,
    "start_time": "2022-01-24T11:26:24.289Z"
   },
   {
    "duration": 4,
    "start_time": "2022-01-24T11:26:24.296Z"
   },
   {
    "duration": 5,
    "start_time": "2022-01-24T11:26:24.303Z"
   },
   {
    "duration": 25470,
    "start_time": "2022-01-24T11:26:24.311Z"
   },
   {
    "duration": 690,
    "start_time": "2022-01-24T11:26:49.783Z"
   },
   {
    "duration": 96,
    "start_time": "2022-01-24T11:26:50.477Z"
   },
   {
    "duration": 6,
    "start_time": "2022-01-24T11:26:50.576Z"
   },
   {
    "duration": 9,
    "start_time": "2022-01-24T11:26:50.584Z"
   },
   {
    "duration": 11988,
    "start_time": "2022-01-24T11:26:50.595Z"
   },
   {
    "duration": 16890,
    "start_time": "2022-01-24T11:27:02.585Z"
   },
   {
    "duration": 1005,
    "start_time": "2022-01-24T11:27:19.478Z"
   },
   {
    "duration": 1395,
    "start_time": "2022-01-24T11:27:20.486Z"
   },
   {
    "duration": 5,
    "start_time": "2022-01-24T11:27:21.884Z"
   },
   {
    "duration": 83,
    "start_time": "2022-01-24T11:27:21.892Z"
   },
   {
    "duration": 9,
    "start_time": "2022-01-24T11:27:21.978Z"
   },
   {
    "duration": 138852,
    "start_time": "2022-01-24T11:27:21.990Z"
   },
   {
    "duration": 17530,
    "start_time": "2022-01-24T11:29:40.845Z"
   },
   {
    "duration": 801,
    "start_time": "2022-01-24T11:29:58.379Z"
   },
   {
    "duration": 9019,
    "start_time": "2022-01-24T11:29:59.183Z"
   },
   {
    "duration": 745,
    "start_time": "2022-01-24T11:30:07.461Z"
   },
   {
    "duration": 745,
    "start_time": "2022-01-24T11:30:07.463Z"
   },
   {
    "duration": 20,
    "start_time": "2022-01-24T11:42:15.387Z"
   },
   {
    "duration": 917,
    "start_time": "2022-01-24T11:43:41.166Z"
   },
   {
    "duration": 1633,
    "start_time": "2022-01-24T11:43:55.076Z"
   },
   {
    "duration": 1144,
    "start_time": "2022-01-24T11:43:56.712Z"
   },
   {
    "duration": 28,
    "start_time": "2022-01-24T11:43:57.858Z"
   },
   {
    "duration": 181,
    "start_time": "2022-01-24T11:43:57.889Z"
   },
   {
    "duration": 69,
    "start_time": "2022-01-24T11:43:58.073Z"
   },
   {
    "duration": 24,
    "start_time": "2022-01-24T11:43:58.145Z"
   },
   {
    "duration": 83,
    "start_time": "2022-01-24T11:43:58.172Z"
   },
   {
    "duration": 685,
    "start_time": "2022-01-24T11:43:58.271Z"
   },
   {
    "duration": 34,
    "start_time": "2022-01-24T11:43:58.961Z"
   },
   {
    "duration": 168,
    "start_time": "2022-01-24T11:43:58.997Z"
   },
   {
    "duration": 105,
    "start_time": "2022-01-24T11:43:59.168Z"
   },
   {
    "duration": 166,
    "start_time": "2022-01-24T11:43:59.275Z"
   },
   {
    "duration": 204,
    "start_time": "2022-01-24T11:43:59.444Z"
   },
   {
    "duration": 140,
    "start_time": "2022-01-24T11:43:59.650Z"
   },
   {
    "duration": 16,
    "start_time": "2022-01-24T11:43:59.792Z"
   },
   {
    "duration": 1332,
    "start_time": "2022-01-24T11:43:59.810Z"
   },
   {
    "duration": 59,
    "start_time": "2022-01-24T11:44:01.146Z"
   },
   {
    "duration": 5,
    "start_time": "2022-01-24T11:44:01.208Z"
   },
   {
    "duration": 810,
    "start_time": "2022-01-24T11:44:01.215Z"
   },
   {
    "duration": 892,
    "start_time": "2022-01-24T11:44:02.028Z"
   },
   {
    "duration": 15,
    "start_time": "2022-01-24T11:44:02.922Z"
   },
   {
    "duration": 161,
    "start_time": "2022-01-24T11:44:02.940Z"
   },
   {
    "duration": 711,
    "start_time": "2022-01-24T11:44:03.106Z"
   },
   {
    "duration": 5,
    "start_time": "2022-01-24T11:44:03.820Z"
   },
   {
    "duration": 21,
    "start_time": "2022-01-24T11:44:03.827Z"
   },
   {
    "duration": 65,
    "start_time": "2022-01-24T11:44:03.850Z"
   },
   {
    "duration": 4,
    "start_time": "2022-01-24T11:44:03.918Z"
   },
   {
    "duration": 8,
    "start_time": "2022-01-24T11:44:03.925Z"
   },
   {
    "duration": 16,
    "start_time": "2022-01-24T11:44:03.935Z"
   },
   {
    "duration": 24825,
    "start_time": "2022-01-24T11:44:03.953Z"
   },
   {
    "duration": 691,
    "start_time": "2022-01-24T11:44:28.780Z"
   },
   {
    "duration": 9,
    "start_time": "2022-01-24T11:44:29.474Z"
   },
   {
    "duration": 88,
    "start_time": "2022-01-24T11:44:29.487Z"
   },
   {
    "duration": 6,
    "start_time": "2022-01-24T11:44:29.579Z"
   },
   {
    "duration": 57390,
    "start_time": "2022-01-24T11:44:29.589Z"
   },
   {
    "duration": 20292,
    "start_time": "2022-01-24T11:45:26.982Z"
   },
   {
    "duration": 1008,
    "start_time": "2022-01-24T11:45:47.276Z"
   },
   {
    "duration": 1412,
    "start_time": "2022-01-24T11:45:48.286Z"
   },
   {
    "duration": 7,
    "start_time": "2022-01-24T11:45:49.701Z"
   },
   {
    "duration": 7,
    "start_time": "2022-01-24T11:45:49.771Z"
   },
   {
    "duration": 10,
    "start_time": "2022-01-24T11:45:49.781Z"
   },
   {
    "duration": 8706,
    "start_time": "2022-01-24T11:45:49.793Z"
   },
   {
    "duration": 245,
    "start_time": "2022-01-24T11:45:58.502Z"
   },
   {
    "duration": 232,
    "start_time": "2022-01-24T11:45:58.749Z"
   },
   {
    "duration": 15,
    "start_time": "2022-01-24T11:45:58.984Z"
   },
   {
    "duration": 305,
    "start_time": "2022-01-24T11:46:58.932Z"
   },
   {
    "duration": 12,
    "start_time": "2022-01-24T11:47:12.839Z"
   },
   {
    "duration": 14,
    "start_time": "2022-01-24T11:47:45.667Z"
   },
   {
    "duration": 13,
    "start_time": "2022-01-24T11:47:53.952Z"
   },
   {
    "duration": 1550,
    "start_time": "2022-01-24T11:48:18.080Z"
   },
   {
    "duration": 1149,
    "start_time": "2022-01-24T11:48:19.633Z"
   },
   {
    "duration": 31,
    "start_time": "2022-01-24T11:48:20.786Z"
   },
   {
    "duration": 234,
    "start_time": "2022-01-24T11:48:20.821Z"
   },
   {
    "duration": 71,
    "start_time": "2022-01-24T11:48:21.058Z"
   },
   {
    "duration": 8,
    "start_time": "2022-01-24T11:48:21.131Z"
   },
   {
    "duration": 113,
    "start_time": "2022-01-24T11:48:21.141Z"
   },
   {
    "duration": 710,
    "start_time": "2022-01-24T11:48:21.259Z"
   },
   {
    "duration": 28,
    "start_time": "2022-01-24T11:48:21.972Z"
   },
   {
    "duration": 176,
    "start_time": "2022-01-24T11:48:22.002Z"
   },
   {
    "duration": 103,
    "start_time": "2022-01-24T11:48:22.181Z"
   },
   {
    "duration": 165,
    "start_time": "2022-01-24T11:48:22.286Z"
   },
   {
    "duration": 215,
    "start_time": "2022-01-24T11:48:22.454Z"
   },
   {
    "duration": 134,
    "start_time": "2022-01-24T11:48:22.672Z"
   },
   {
    "duration": 16,
    "start_time": "2022-01-24T11:48:22.809Z"
   },
   {
    "duration": 1279,
    "start_time": "2022-01-24T11:48:22.828Z"
   },
   {
    "duration": 42,
    "start_time": "2022-01-24T11:48:24.110Z"
   },
   {
    "duration": 5,
    "start_time": "2022-01-24T11:48:24.169Z"
   },
   {
    "duration": 461,
    "start_time": "2022-01-24T11:48:24.177Z"
   },
   {
    "duration": 876,
    "start_time": "2022-01-24T11:48:24.641Z"
   },
   {
    "duration": 18,
    "start_time": "2022-01-24T11:48:25.520Z"
   },
   {
    "duration": 163,
    "start_time": "2022-01-24T11:48:25.541Z"
   },
   {
    "duration": 696,
    "start_time": "2022-01-24T11:48:25.707Z"
   },
   {
    "duration": 5,
    "start_time": "2022-01-24T11:48:26.406Z"
   },
   {
    "duration": 19,
    "start_time": "2022-01-24T11:48:26.414Z"
   },
   {
    "duration": 71,
    "start_time": "2022-01-24T11:48:26.438Z"
   },
   {
    "duration": 6,
    "start_time": "2022-01-24T11:48:26.513Z"
   },
   {
    "duration": 9,
    "start_time": "2022-01-24T11:48:26.522Z"
   },
   {
    "duration": 7,
    "start_time": "2022-01-24T11:48:26.533Z"
   },
   {
    "duration": 25236,
    "start_time": "2022-01-24T11:48:26.543Z"
   },
   {
    "duration": 688,
    "start_time": "2022-01-24T11:48:51.782Z"
   },
   {
    "duration": 7,
    "start_time": "2022-01-24T11:48:52.473Z"
   },
   {
    "duration": 87,
    "start_time": "2022-01-24T11:48:52.482Z"
   },
   {
    "duration": 5,
    "start_time": "2022-01-24T11:48:52.572Z"
   },
   {
    "duration": 12199,
    "start_time": "2022-01-24T11:48:52.579Z"
   },
   {
    "duration": 20101,
    "start_time": "2022-01-24T11:49:04.781Z"
   },
   {
    "duration": 1086,
    "start_time": "2022-01-24T11:49:24.885Z"
   },
   {
    "duration": 1406,
    "start_time": "2022-01-24T11:49:25.973Z"
   },
   {
    "duration": 5,
    "start_time": "2022-01-24T11:49:27.382Z"
   },
   {
    "duration": 9,
    "start_time": "2022-01-24T11:49:27.390Z"
   },
   {
    "duration": 7,
    "start_time": "2022-01-24T11:49:27.401Z"
   },
   {
    "duration": 678,
    "start_time": "2022-01-24T11:49:27.410Z"
   },
   {
    "duration": 210,
    "start_time": "2022-01-24T11:49:28.091Z"
   },
   {
    "duration": 190,
    "start_time": "2022-01-24T11:49:28.304Z"
   },
   {
    "duration": 15,
    "start_time": "2022-01-24T11:49:28.496Z"
   },
   {
    "duration": 6,
    "start_time": "2022-01-24T11:50:04.006Z"
   },
   {
    "duration": 87831,
    "start_time": "2022-01-24T11:50:04.797Z"
   },
   {
    "duration": 10774,
    "start_time": "2022-01-24T11:52:36.451Z"
   },
   {
    "duration": 54,
    "start_time": "2022-01-24T11:55:02.420Z"
   },
   {
    "duration": 293,
    "start_time": "2022-01-24T11:57:47.796Z"
   },
   {
    "duration": 1626,
    "start_time": "2022-01-24T11:58:11.879Z"
   },
   {
    "duration": 1129,
    "start_time": "2022-01-24T11:58:13.508Z"
   },
   {
    "duration": 32,
    "start_time": "2022-01-24T11:58:14.640Z"
   },
   {
    "duration": 175,
    "start_time": "2022-01-24T11:58:14.675Z"
   },
   {
    "duration": 73,
    "start_time": "2022-01-24T11:58:14.852Z"
   },
   {
    "duration": 5,
    "start_time": "2022-01-24T11:58:14.928Z"
   },
   {
    "duration": 95,
    "start_time": "2022-01-24T11:58:14.935Z"
   },
   {
    "duration": 1184,
    "start_time": "2022-01-24T11:58:15.033Z"
   },
   {
    "duration": 26,
    "start_time": "2022-01-24T11:58:16.221Z"
   },
   {
    "duration": 170,
    "start_time": "2022-01-24T11:58:16.269Z"
   },
   {
    "duration": 102,
    "start_time": "2022-01-24T11:58:16.441Z"
   },
   {
    "duration": 170,
    "start_time": "2022-01-24T11:58:16.545Z"
   },
   {
    "duration": 193,
    "start_time": "2022-01-24T11:58:16.718Z"
   },
   {
    "duration": 134,
    "start_time": "2022-01-24T11:58:16.913Z"
   },
   {
    "duration": 24,
    "start_time": "2022-01-24T11:58:17.050Z"
   },
   {
    "duration": 1197,
    "start_time": "2022-01-24T11:58:17.076Z"
   },
   {
    "duration": 41,
    "start_time": "2022-01-24T11:58:18.275Z"
   },
   {
    "duration": 5,
    "start_time": "2022-01-24T11:58:18.318Z"
   },
   {
    "duration": 473,
    "start_time": "2022-01-24T11:58:18.325Z"
   },
   {
    "duration": 860,
    "start_time": "2022-01-24T11:58:18.801Z"
   },
   {
    "duration": 21,
    "start_time": "2022-01-24T11:58:19.664Z"
   },
   {
    "duration": 160,
    "start_time": "2022-01-24T11:58:19.687Z"
   },
   {
    "duration": 656,
    "start_time": "2022-01-24T11:58:19.849Z"
   },
   {
    "duration": 5,
    "start_time": "2022-01-24T11:58:20.507Z"
   },
   {
    "duration": 21,
    "start_time": "2022-01-24T11:58:20.515Z"
   },
   {
    "duration": 68,
    "start_time": "2022-01-24T11:58:20.538Z"
   },
   {
    "duration": 5,
    "start_time": "2022-01-24T11:58:20.611Z"
   },
   {
    "duration": 4,
    "start_time": "2022-01-24T11:58:20.619Z"
   },
   {
    "duration": 9,
    "start_time": "2022-01-24T11:58:20.626Z"
   },
   {
    "duration": 27236,
    "start_time": "2022-01-24T11:58:20.637Z"
   },
   {
    "duration": 697,
    "start_time": "2022-01-24T11:58:47.875Z"
   },
   {
    "duration": 9,
    "start_time": "2022-01-24T11:58:48.575Z"
   },
   {
    "duration": 81,
    "start_time": "2022-01-24T11:58:48.588Z"
   },
   {
    "duration": 4,
    "start_time": "2022-01-24T11:58:48.672Z"
   },
   {
    "duration": 29603,
    "start_time": "2022-01-24T11:58:48.678Z"
   },
   {
    "duration": 30390,
    "start_time": "2022-01-24T11:59:18.284Z"
   },
   {
    "duration": 1036,
    "start_time": "2022-01-24T11:59:48.677Z"
   },
   {
    "duration": 1555,
    "start_time": "2022-01-24T11:59:49.715Z"
   },
   {
    "duration": 6,
    "start_time": "2022-01-24T11:59:51.272Z"
   },
   {
    "duration": 6,
    "start_time": "2022-01-24T11:59:51.280Z"
   },
   {
    "duration": 6,
    "start_time": "2022-01-24T11:59:51.289Z"
   },
   {
    "duration": 87929,
    "start_time": "2022-01-24T11:59:51.297Z"
   },
   {
    "duration": 11570,
    "start_time": "2022-01-24T12:01:19.229Z"
   },
   {
    "duration": 83,
    "start_time": "2022-01-24T12:01:30.802Z"
   },
   {
    "duration": 463,
    "start_time": "2022-01-24T12:01:30.888Z"
   },
   {
    "duration": 281,
    "start_time": "2022-01-24T12:02:44.782Z"
   },
   {
    "duration": 15,
    "start_time": "2022-01-24T12:03:04.576Z"
   },
   {
    "duration": 1624,
    "start_time": "2022-01-24T12:05:37.420Z"
   },
   {
    "duration": 1151,
    "start_time": "2022-01-24T12:05:39.047Z"
   },
   {
    "duration": 26,
    "start_time": "2022-01-24T12:05:40.201Z"
   },
   {
    "duration": 179,
    "start_time": "2022-01-24T12:05:40.230Z"
   },
   {
    "duration": 72,
    "start_time": "2022-01-24T12:05:40.412Z"
   },
   {
    "duration": 6,
    "start_time": "2022-01-24T12:05:40.487Z"
   },
   {
    "duration": 98,
    "start_time": "2022-01-24T12:05:40.496Z"
   },
   {
    "duration": 719,
    "start_time": "2022-01-24T12:05:40.598Z"
   },
   {
    "duration": 26,
    "start_time": "2022-01-24T12:05:41.320Z"
   },
   {
    "duration": 172,
    "start_time": "2022-01-24T12:05:41.348Z"
   },
   {
    "duration": 103,
    "start_time": "2022-01-24T12:05:41.523Z"
   },
   {
    "duration": 163,
    "start_time": "2022-01-24T12:05:41.629Z"
   },
   {
    "duration": 207,
    "start_time": "2022-01-24T12:05:41.794Z"
   },
   {
    "duration": 138,
    "start_time": "2022-01-24T12:05:42.004Z"
   },
   {
    "duration": 26,
    "start_time": "2022-01-24T12:05:42.145Z"
   },
   {
    "duration": 1163,
    "start_time": "2022-01-24T12:05:42.173Z"
   },
   {
    "duration": 54,
    "start_time": "2022-01-24T12:05:43.338Z"
   },
   {
    "duration": 6,
    "start_time": "2022-01-24T12:05:43.394Z"
   },
   {
    "duration": 448,
    "start_time": "2022-01-24T12:05:43.402Z"
   },
   {
    "duration": 884,
    "start_time": "2022-01-24T12:05:43.852Z"
   },
   {
    "duration": 30,
    "start_time": "2022-01-24T12:05:44.739Z"
   },
   {
    "duration": 437,
    "start_time": "2022-01-24T12:05:44.772Z"
   },
   {
    "duration": 754,
    "start_time": "2022-01-24T12:05:44.459Z"
   },
   {
    "duration": 748,
    "start_time": "2022-01-24T12:05:44.466Z"
   },
   {
    "duration": 742,
    "start_time": "2022-01-24T12:05:44.474Z"
   },
   {
    "duration": 727,
    "start_time": "2022-01-24T12:05:44.490Z"
   },
   {
    "duration": 723,
    "start_time": "2022-01-24T12:05:44.496Z"
   },
   {
    "duration": 719,
    "start_time": "2022-01-24T12:05:44.501Z"
   },
   {
    "duration": 715,
    "start_time": "2022-01-24T12:05:44.507Z"
   },
   {
    "duration": 713,
    "start_time": "2022-01-24T12:05:44.511Z"
   },
   {
    "duration": 711,
    "start_time": "2022-01-24T12:05:44.514Z"
   },
   {
    "duration": 710,
    "start_time": "2022-01-24T12:05:44.517Z"
   },
   {
    "duration": 707,
    "start_time": "2022-01-24T12:05:44.521Z"
   },
   {
    "duration": 707,
    "start_time": "2022-01-24T12:05:44.523Z"
   },
   {
    "duration": 706,
    "start_time": "2022-01-24T12:05:44.525Z"
   },
   {
    "duration": 706,
    "start_time": "2022-01-24T12:05:44.527Z"
   },
   {
    "duration": 705,
    "start_time": "2022-01-24T12:05:44.529Z"
   },
   {
    "duration": 705,
    "start_time": "2022-01-24T12:05:44.531Z"
   },
   {
    "duration": 704,
    "start_time": "2022-01-24T12:05:44.533Z"
   },
   {
    "duration": 704,
    "start_time": "2022-01-24T12:05:44.535Z"
   },
   {
    "duration": 702,
    "start_time": "2022-01-24T12:05:44.538Z"
   },
   {
    "duration": 701,
    "start_time": "2022-01-24T12:05:44.540Z"
   },
   {
    "duration": 701,
    "start_time": "2022-01-24T12:05:44.542Z"
   },
   {
    "duration": 700,
    "start_time": "2022-01-24T12:05:44.544Z"
   },
   {
    "duration": 700,
    "start_time": "2022-01-24T12:05:44.546Z"
   },
   {
    "duration": 700,
    "start_time": "2022-01-24T12:05:44.548Z"
   },
   {
    "duration": 699,
    "start_time": "2022-01-24T12:05:44.550Z"
   },
   {
    "duration": 698,
    "start_time": "2022-01-24T12:05:44.552Z"
   },
   {
    "duration": 698,
    "start_time": "2022-01-24T12:05:44.554Z"
   },
   {
    "duration": 1558,
    "start_time": "2022-01-24T12:08:08.047Z"
   },
   {
    "duration": 1142,
    "start_time": "2022-01-24T12:08:09.608Z"
   },
   {
    "duration": 31,
    "start_time": "2022-01-24T12:08:10.756Z"
   },
   {
    "duration": 222,
    "start_time": "2022-01-24T12:08:10.789Z"
   },
   {
    "duration": 83,
    "start_time": "2022-01-24T12:08:11.014Z"
   },
   {
    "duration": 9,
    "start_time": "2022-01-24T12:08:11.100Z"
   },
   {
    "duration": 94,
    "start_time": "2022-01-24T12:08:11.113Z"
   },
   {
    "duration": 800,
    "start_time": "2022-01-24T12:08:11.210Z"
   },
   {
    "duration": 25,
    "start_time": "2022-01-24T12:08:12.013Z"
   },
   {
    "duration": 162,
    "start_time": "2022-01-24T12:08:12.040Z"
   },
   {
    "duration": 106,
    "start_time": "2022-01-24T12:08:12.204Z"
   },
   {
    "duration": 171,
    "start_time": "2022-01-24T12:08:12.312Z"
   },
   {
    "duration": 207,
    "start_time": "2022-01-24T12:08:12.485Z"
   },
   {
    "duration": 139,
    "start_time": "2022-01-24T12:08:12.695Z"
   },
   {
    "duration": 16,
    "start_time": "2022-01-24T12:08:12.837Z"
   },
   {
    "duration": 1165,
    "start_time": "2022-01-24T12:08:12.869Z"
   },
   {
    "duration": 61,
    "start_time": "2022-01-24T12:08:14.037Z"
   },
   {
    "duration": 7,
    "start_time": "2022-01-24T12:08:14.101Z"
   },
   {
    "duration": 459,
    "start_time": "2022-01-24T12:08:14.111Z"
   },
   {
    "duration": 930,
    "start_time": "2022-01-24T12:08:14.573Z"
   },
   {
    "duration": 17,
    "start_time": "2022-01-24T12:08:15.505Z"
   },
   {
    "duration": 5,
    "start_time": "2022-01-24T12:08:15.527Z"
   },
   {
    "duration": 177,
    "start_time": "2022-01-24T12:08:15.535Z"
   },
   {
    "duration": 673,
    "start_time": "2022-01-24T12:08:15.715Z"
   },
   {
    "duration": 5,
    "start_time": "2022-01-24T12:08:16.391Z"
   },
   {
    "duration": 20,
    "start_time": "2022-01-24T12:08:16.399Z"
   },
   {
    "duration": 73,
    "start_time": "2022-01-24T12:08:16.421Z"
   },
   {
    "duration": 5,
    "start_time": "2022-01-24T12:08:16.497Z"
   },
   {
    "duration": 4,
    "start_time": "2022-01-24T12:08:16.504Z"
   },
   {
    "duration": 7,
    "start_time": "2022-01-24T12:08:16.511Z"
   },
   {
    "duration": 25160,
    "start_time": "2022-01-24T12:08:16.521Z"
   },
   {
    "duration": 689,
    "start_time": "2022-01-24T12:08:41.683Z"
   },
   {
    "duration": 97,
    "start_time": "2022-01-24T12:08:42.376Z"
   },
   {
    "duration": 97,
    "start_time": "2022-01-24T12:08:42.476Z"
   },
   {
    "duration": 96,
    "start_time": "2022-01-24T12:08:42.575Z"
   },
   {
    "duration": 95,
    "start_time": "2022-01-24T12:08:42.674Z"
   },
   {
    "duration": 6,
    "start_time": "2022-01-24T12:08:42.772Z"
   },
   {
    "duration": 6,
    "start_time": "2022-01-24T12:08:42.781Z"
   },
   {
    "duration": 13489,
    "start_time": "2022-01-24T12:08:42.789Z"
   },
   {
    "duration": 17298,
    "start_time": "2022-01-24T12:08:56.280Z"
   },
   {
    "duration": 1091,
    "start_time": "2022-01-24T12:09:13.580Z"
   },
   {
    "duration": 1417,
    "start_time": "2022-01-24T12:09:14.673Z"
   },
   {
    "duration": 79,
    "start_time": "2022-01-24T12:09:16.093Z"
   },
   {
    "duration": 6,
    "start_time": "2022-01-24T12:09:16.174Z"
   },
   {
    "duration": 6,
    "start_time": "2022-01-24T12:09:16.183Z"
   },
   {
    "duration": 91229,
    "start_time": "2022-01-24T12:09:16.192Z"
   },
   {
    "duration": 12672,
    "start_time": "2022-01-24T12:10:47.424Z"
   },
   {
    "duration": 86,
    "start_time": "2022-01-24T12:11:00.098Z"
   },
   {
    "duration": 17,
    "start_time": "2022-01-24T12:11:00.187Z"
   },
   {
    "duration": 1620,
    "start_time": "2022-01-24T12:29:42.290Z"
   },
   {
    "duration": 1178,
    "start_time": "2022-01-24T12:29:43.913Z"
   },
   {
    "duration": 30,
    "start_time": "2022-01-24T12:29:45.095Z"
   },
   {
    "duration": 181,
    "start_time": "2022-01-24T12:29:45.128Z"
   },
   {
    "duration": 77,
    "start_time": "2022-01-24T12:29:45.312Z"
   },
   {
    "duration": 9,
    "start_time": "2022-01-24T12:29:45.392Z"
   },
   {
    "duration": 93,
    "start_time": "2022-01-24T12:29:45.403Z"
   },
   {
    "duration": 716,
    "start_time": "2022-01-24T12:29:45.499Z"
   },
   {
    "duration": 27,
    "start_time": "2022-01-24T12:29:46.219Z"
   },
   {
    "duration": 171,
    "start_time": "2022-01-24T12:29:46.249Z"
   },
   {
    "duration": 108,
    "start_time": "2022-01-24T12:29:46.422Z"
   },
   {
    "duration": 179,
    "start_time": "2022-01-24T12:29:46.533Z"
   },
   {
    "duration": 207,
    "start_time": "2022-01-24T12:29:46.714Z"
   },
   {
    "duration": 146,
    "start_time": "2022-01-24T12:29:46.924Z"
   },
   {
    "duration": 17,
    "start_time": "2022-01-24T12:29:47.073Z"
   },
   {
    "duration": 1201,
    "start_time": "2022-01-24T12:29:47.093Z"
   },
   {
    "duration": 42,
    "start_time": "2022-01-24T12:29:48.296Z"
   },
   {
    "duration": 5,
    "start_time": "2022-01-24T12:29:48.341Z"
   },
   {
    "duration": 534,
    "start_time": "2022-01-24T12:29:48.348Z"
   },
   {
    "duration": 12,
    "start_time": "2022-01-24T12:29:48.885Z"
   },
   {
    "duration": 912,
    "start_time": "2022-01-24T12:29:48.900Z"
   },
   {
    "duration": 19,
    "start_time": "2022-01-24T12:29:49.815Z"
   },
   {
    "duration": 14,
    "start_time": "2022-01-24T12:29:49.836Z"
   },
   {
    "duration": 167,
    "start_time": "2022-01-24T12:29:49.853Z"
   },
   {
    "duration": 683,
    "start_time": "2022-01-24T12:29:50.023Z"
   },
   {
    "duration": 5,
    "start_time": "2022-01-24T12:29:50.709Z"
   },
   {
    "duration": 24,
    "start_time": "2022-01-24T12:29:50.720Z"
   },
   {
    "duration": 65,
    "start_time": "2022-01-24T12:29:50.747Z"
   },
   {
    "duration": 4,
    "start_time": "2022-01-24T12:29:50.815Z"
   },
   {
    "duration": 48,
    "start_time": "2022-01-24T12:29:50.822Z"
   },
   {
    "duration": 133,
    "start_time": "2022-01-24T12:29:50.872Z"
   },
   {
    "duration": 6,
    "start_time": "2022-01-24T12:29:51.008Z"
   },
   {
    "duration": 16,
    "start_time": "2022-01-24T12:29:51.018Z"
   },
   {
    "duration": 13,
    "start_time": "2022-01-24T12:29:51.037Z"
   },
   {
    "duration": 25720,
    "start_time": "2022-01-24T12:29:51.054Z"
   },
   {
    "duration": 693,
    "start_time": "2022-01-24T12:30:16.777Z"
   },
   {
    "duration": 7,
    "start_time": "2022-01-24T12:30:17.472Z"
   },
   {
    "duration": 142,
    "start_time": "2022-01-24T12:30:17.481Z"
   },
   {
    "duration": 52,
    "start_time": "2022-01-24T12:30:17.625Z"
   },
   {
    "duration": 95,
    "start_time": "2022-01-24T12:30:17.682Z"
   },
   {
    "duration": 5,
    "start_time": "2022-01-24T12:30:17.869Z"
   },
   {
    "duration": 8,
    "start_time": "2022-01-24T12:30:17.876Z"
   },
   {
    "duration": 13595,
    "start_time": "2022-01-24T12:30:17.886Z"
   },
   {
    "duration": 15700,
    "start_time": "2022-01-24T12:30:31.483Z"
   },
   {
    "duration": 1004,
    "start_time": "2022-01-24T12:30:47.185Z"
   },
   {
    "duration": 1480,
    "start_time": "2022-01-24T12:30:48.192Z"
   },
   {
    "duration": 6,
    "start_time": "2022-01-24T12:30:49.675Z"
   },
   {
    "duration": 11,
    "start_time": "2022-01-24T12:30:49.683Z"
   },
   {
    "duration": 6,
    "start_time": "2022-01-24T12:30:49.697Z"
   },
   {
    "duration": 88836,
    "start_time": "2022-01-24T12:30:49.706Z"
   },
   {
    "duration": 11430,
    "start_time": "2022-01-24T12:32:18.544Z"
   },
   {
    "duration": 104,
    "start_time": "2022-01-24T12:32:29.977Z"
   },
   {
    "duration": 16,
    "start_time": "2022-01-24T12:32:30.083Z"
   },
   {
    "duration": 1592,
    "start_time": "2022-01-24T12:37:06.219Z"
   },
   {
    "duration": 1223,
    "start_time": "2022-01-24T12:37:07.814Z"
   },
   {
    "duration": 41,
    "start_time": "2022-01-24T12:37:09.040Z"
   },
   {
    "duration": 178,
    "start_time": "2022-01-24T12:37:09.083Z"
   },
   {
    "duration": 65,
    "start_time": "2022-01-24T12:37:09.269Z"
   },
   {
    "duration": 8,
    "start_time": "2022-01-24T12:37:09.337Z"
   },
   {
    "duration": 95,
    "start_time": "2022-01-24T12:37:09.348Z"
   },
   {
    "duration": 709,
    "start_time": "2022-01-24T12:37:09.447Z"
   },
   {
    "duration": 26,
    "start_time": "2022-01-24T12:37:10.168Z"
   },
   {
    "duration": 162,
    "start_time": "2022-01-24T12:37:10.197Z"
   },
   {
    "duration": 112,
    "start_time": "2022-01-24T12:37:10.361Z"
   },
   {
    "duration": 170,
    "start_time": "2022-01-24T12:37:10.476Z"
   },
   {
    "duration": 210,
    "start_time": "2022-01-24T12:37:10.649Z"
   },
   {
    "duration": 141,
    "start_time": "2022-01-24T12:37:10.862Z"
   },
   {
    "duration": 16,
    "start_time": "2022-01-24T12:37:11.006Z"
   },
   {
    "duration": 1239,
    "start_time": "2022-01-24T12:37:11.025Z"
   },
   {
    "duration": 44,
    "start_time": "2022-01-24T12:37:12.270Z"
   },
   {
    "duration": 6,
    "start_time": "2022-01-24T12:37:12.316Z"
   },
   {
    "duration": 463,
    "start_time": "2022-01-24T12:37:12.324Z"
   },
   {
    "duration": 12,
    "start_time": "2022-01-24T12:37:12.790Z"
   },
   {
    "duration": 888,
    "start_time": "2022-01-24T12:37:12.805Z"
   },
   {
    "duration": 16,
    "start_time": "2022-01-24T12:37:13.696Z"
   },
   {
    "duration": 7,
    "start_time": "2022-01-24T12:37:13.715Z"
   },
   {
    "duration": 175,
    "start_time": "2022-01-24T12:37:13.725Z"
   },
   {
    "duration": 694,
    "start_time": "2022-01-24T12:37:13.902Z"
   },
   {
    "duration": 4,
    "start_time": "2022-01-24T12:37:14.602Z"
   },
   {
    "duration": 24,
    "start_time": "2022-01-24T12:37:14.609Z"
   },
   {
    "duration": 73,
    "start_time": "2022-01-24T12:37:14.636Z"
   },
   {
    "duration": 5,
    "start_time": "2022-01-24T12:37:14.712Z"
   },
   {
    "duration": 49,
    "start_time": "2022-01-24T12:37:14.720Z"
   },
   {
    "duration": 120,
    "start_time": "2022-01-24T12:37:14.772Z"
   },
   {
    "duration": 4,
    "start_time": "2022-01-24T12:37:14.894Z"
   },
   {
    "duration": 10,
    "start_time": "2022-01-24T12:37:14.900Z"
   },
   {
    "duration": 11,
    "start_time": "2022-01-24T12:37:14.912Z"
   },
   {
    "duration": 25656,
    "start_time": "2022-01-24T12:37:14.926Z"
   },
   {
    "duration": 689,
    "start_time": "2022-01-24T12:37:40.584Z"
   },
   {
    "duration": 96,
    "start_time": "2022-01-24T12:37:41.276Z"
   },
   {
    "duration": 105,
    "start_time": "2022-01-24T12:37:41.374Z"
   },
   {
    "duration": 97,
    "start_time": "2022-01-24T12:37:41.483Z"
   },
   {
    "duration": 7,
    "start_time": "2022-01-24T12:37:41.668Z"
   },
   {
    "duration": 4,
    "start_time": "2022-01-24T12:37:41.678Z"
   },
   {
    "duration": 7,
    "start_time": "2022-01-24T12:37:41.685Z"
   },
   {
    "duration": 14381,
    "start_time": "2022-01-24T12:37:41.694Z"
   },
   {
    "duration": 42902,
    "start_time": "2022-01-24T12:37:56.077Z"
   },
   {
    "duration": 1094,
    "start_time": "2022-01-24T12:38:38.982Z"
   },
   {
    "duration": 1507,
    "start_time": "2022-01-24T12:38:40.078Z"
   },
   {
    "duration": 6,
    "start_time": "2022-01-24T12:38:41.588Z"
   },
   {
    "duration": 8,
    "start_time": "2022-01-24T12:38:41.597Z"
   },
   {
    "duration": 64,
    "start_time": "2022-01-24T12:38:41.608Z"
   },
   {
    "duration": 88910,
    "start_time": "2022-01-24T12:38:41.675Z"
   },
   {
    "duration": 11321,
    "start_time": "2022-01-24T12:40:10.587Z"
   },
   {
    "duration": 75,
    "start_time": "2022-01-24T12:40:21.910Z"
   },
   {
    "duration": 6,
    "start_time": "2022-01-24T12:40:21.987Z"
   },
   {
    "duration": 673,
    "start_time": "2022-01-24T12:40:21.996Z"
   },
   {
    "duration": 6,
    "start_time": "2022-01-24T12:40:22.672Z"
   },
   {
    "duration": 836,
    "start_time": "2022-01-24T12:40:21.845Z"
   },
   {
    "duration": 827,
    "start_time": "2022-01-24T12:40:21.855Z"
   },
   {
    "duration": 1563,
    "start_time": "2022-01-24T12:42:16.331Z"
   },
   {
    "duration": 1129,
    "start_time": "2022-01-24T12:42:17.897Z"
   },
   {
    "duration": 28,
    "start_time": "2022-01-24T12:42:19.029Z"
   },
   {
    "duration": 178,
    "start_time": "2022-01-24T12:42:19.070Z"
   },
   {
    "duration": 71,
    "start_time": "2022-01-24T12:42:19.250Z"
   },
   {
    "duration": 10,
    "start_time": "2022-01-24T12:42:19.323Z"
   },
   {
    "duration": 97,
    "start_time": "2022-01-24T12:42:19.336Z"
   },
   {
    "duration": 734,
    "start_time": "2022-01-24T12:42:19.437Z"
   },
   {
    "duration": 29,
    "start_time": "2022-01-24T12:42:20.174Z"
   },
   {
    "duration": 176,
    "start_time": "2022-01-24T12:42:20.206Z"
   },
   {
    "duration": 112,
    "start_time": "2022-01-24T12:42:20.384Z"
   },
   {
    "duration": 176,
    "start_time": "2022-01-24T12:42:20.498Z"
   },
   {
    "duration": 216,
    "start_time": "2022-01-24T12:42:20.677Z"
   },
   {
    "duration": 144,
    "start_time": "2022-01-24T12:42:20.895Z"
   },
   {
    "duration": 28,
    "start_time": "2022-01-24T12:42:21.041Z"
   },
   {
    "duration": 1465,
    "start_time": "2022-01-24T12:42:21.071Z"
   },
   {
    "duration": 64,
    "start_time": "2022-01-24T12:42:22.540Z"
   },
   {
    "duration": 7,
    "start_time": "2022-01-24T12:42:22.608Z"
   },
   {
    "duration": 657,
    "start_time": "2022-01-24T12:42:22.617Z"
   },
   {
    "duration": 12,
    "start_time": "2022-01-24T12:42:23.277Z"
   },
   {
    "duration": 1363,
    "start_time": "2022-01-24T12:42:23.292Z"
   },
   {
    "duration": 36,
    "start_time": "2022-01-24T12:42:24.658Z"
   },
   {
    "duration": 11,
    "start_time": "2022-01-24T12:42:24.702Z"
   },
   {
    "duration": 25,
    "start_time": "2022-01-24T12:42:24.717Z"
   },
   {
    "duration": 190,
    "start_time": "2022-01-24T12:42:24.746Z"
   },
   {
    "duration": 1089,
    "start_time": "2022-01-24T12:42:24.940Z"
   },
   {
    "duration": 7,
    "start_time": "2022-01-24T12:42:26.032Z"
   },
   {
    "duration": 44,
    "start_time": "2022-01-24T12:42:26.042Z"
   },
   {
    "duration": 64,
    "start_time": "2022-01-24T12:42:26.089Z"
   },
   {
    "duration": 14,
    "start_time": "2022-01-24T12:42:26.156Z"
   },
   {
    "duration": 45,
    "start_time": "2022-01-24T12:42:26.174Z"
   },
   {
    "duration": 148,
    "start_time": "2022-01-24T12:42:26.223Z"
   },
   {
    "duration": 7,
    "start_time": "2022-01-24T12:42:26.374Z"
   },
   {
    "duration": 11,
    "start_time": "2022-01-24T12:42:26.385Z"
   },
   {
    "duration": 7,
    "start_time": "2022-01-24T12:42:26.400Z"
   },
   {
    "duration": 27771,
    "start_time": "2022-01-24T12:42:26.411Z"
   },
   {
    "duration": 694,
    "start_time": "2022-01-24T12:42:54.185Z"
   },
   {
    "duration": 90,
    "start_time": "2022-01-24T12:42:54.881Z"
   },
   {
    "duration": 118,
    "start_time": "2022-01-24T12:42:54.973Z"
   },
   {
    "duration": 175,
    "start_time": "2022-01-24T12:42:55.095Z"
   },
   {
    "duration": 10,
    "start_time": "2022-01-24T12:42:55.274Z"
   },
   {
    "duration": 12,
    "start_time": "2022-01-24T12:42:55.370Z"
   },
   {
    "duration": 9,
    "start_time": "2022-01-24T12:42:55.384Z"
   },
   {
    "duration": 13282,
    "start_time": "2022-01-24T12:42:55.395Z"
   },
   {
    "duration": 16999,
    "start_time": "2022-01-24T12:43:08.679Z"
   },
   {
    "duration": 1016,
    "start_time": "2022-01-24T12:43:25.680Z"
   },
   {
    "duration": 1479,
    "start_time": "2022-01-24T12:43:26.699Z"
   },
   {
    "duration": 7,
    "start_time": "2022-01-24T12:43:28.181Z"
   },
   {
    "duration": 6,
    "start_time": "2022-01-24T12:43:28.191Z"
   },
   {
    "duration": 71,
    "start_time": "2022-01-24T12:43:28.199Z"
   },
   {
    "duration": 86338,
    "start_time": "2022-01-24T12:43:28.273Z"
   },
   {
    "duration": 11036,
    "start_time": "2022-01-24T12:44:54.614Z"
   },
   {
    "duration": 34,
    "start_time": "2022-01-24T12:45:05.653Z"
   },
   {
    "duration": 6,
    "start_time": "2022-01-24T12:45:05.689Z"
   },
   {
    "duration": 144940,
    "start_time": "2022-01-24T12:45:05.697Z"
   },
   {
    "duration": 6,
    "start_time": "2022-01-24T12:47:30.640Z"
   },
   {
    "duration": 860,
    "start_time": "2022-01-24T12:47:29.789Z"
   },
   {
    "duration": 859,
    "start_time": "2022-01-24T12:47:29.792Z"
   },
   {
    "duration": 17714,
    "start_time": "2022-01-24T12:48:13.462Z"
   },
   {
    "duration": 533,
    "start_time": "2022-01-24T12:49:15.359Z"
   },
   {
    "duration": 17,
    "start_time": "2022-01-24T12:49:41.665Z"
   },
   {
    "duration": 1688,
    "start_time": "2022-01-24T14:09:19.337Z"
   },
   {
    "duration": 1456,
    "start_time": "2022-01-24T14:09:21.028Z"
   },
   {
    "duration": 28,
    "start_time": "2022-01-24T14:09:22.487Z"
   },
   {
    "duration": 188,
    "start_time": "2022-01-24T14:09:22.519Z"
   },
   {
    "duration": 74,
    "start_time": "2022-01-24T14:09:22.710Z"
   },
   {
    "duration": 11,
    "start_time": "2022-01-24T14:09:22.786Z"
   },
   {
    "duration": 98,
    "start_time": "2022-01-24T14:09:22.799Z"
   },
   {
    "duration": 728,
    "start_time": "2022-01-24T14:09:22.899Z"
   },
   {
    "duration": 38,
    "start_time": "2022-01-24T14:09:23.632Z"
   },
   {
    "duration": 183,
    "start_time": "2022-01-24T14:09:23.673Z"
   },
   {
    "duration": 123,
    "start_time": "2022-01-24T14:09:23.859Z"
   },
   {
    "duration": 195,
    "start_time": "2022-01-24T14:09:23.985Z"
   },
   {
    "duration": 202,
    "start_time": "2022-01-24T14:09:24.182Z"
   },
   {
    "duration": 144,
    "start_time": "2022-01-24T14:09:24.387Z"
   },
   {
    "duration": 17,
    "start_time": "2022-01-24T14:09:24.533Z"
   },
   {
    "duration": 1201,
    "start_time": "2022-01-24T14:09:24.552Z"
   },
   {
    "duration": 54,
    "start_time": "2022-01-24T14:09:25.755Z"
   },
   {
    "duration": 6,
    "start_time": "2022-01-24T14:09:25.812Z"
   },
   {
    "duration": 625,
    "start_time": "2022-01-24T14:09:25.821Z"
   },
   {
    "duration": 21,
    "start_time": "2022-01-24T14:09:26.448Z"
   },
   {
    "duration": 889,
    "start_time": "2022-01-24T14:09:26.472Z"
   },
   {
    "duration": 23,
    "start_time": "2022-01-24T14:09:27.364Z"
   },
   {
    "duration": 7,
    "start_time": "2022-01-24T14:09:27.390Z"
   },
   {
    "duration": 22,
    "start_time": "2022-01-24T14:09:27.400Z"
   },
   {
    "duration": 184,
    "start_time": "2022-01-24T14:09:27.425Z"
   },
   {
    "duration": 664,
    "start_time": "2022-01-24T14:09:27.611Z"
   },
   {
    "duration": 5,
    "start_time": "2022-01-24T14:09:28.283Z"
   },
   {
    "duration": 28,
    "start_time": "2022-01-24T14:09:28.292Z"
   },
   {
    "duration": 75,
    "start_time": "2022-01-24T14:09:28.323Z"
   },
   {
    "duration": 4,
    "start_time": "2022-01-24T14:09:28.401Z"
   },
   {
    "duration": 31,
    "start_time": "2022-01-24T14:09:28.407Z"
   },
   {
    "duration": 131,
    "start_time": "2022-01-24T14:09:28.440Z"
   },
   {
    "duration": 4,
    "start_time": "2022-01-24T14:09:28.574Z"
   },
   {
    "duration": 14,
    "start_time": "2022-01-24T14:09:28.580Z"
   },
   {
    "duration": 14,
    "start_time": "2022-01-24T14:09:28.596Z"
   },
   {
    "duration": 24766,
    "start_time": "2022-01-24T14:09:28.612Z"
   },
   {
    "duration": 688,
    "start_time": "2022-01-24T14:09:53.382Z"
   },
   {
    "duration": 7,
    "start_time": "2022-01-24T14:09:54.074Z"
   },
   {
    "duration": 195,
    "start_time": "2022-01-24T14:09:54.084Z"
   },
   {
    "duration": 98,
    "start_time": "2022-01-24T14:09:54.282Z"
   },
   {
    "duration": 9,
    "start_time": "2022-01-24T14:09:54.470Z"
   },
   {
    "duration": 19,
    "start_time": "2022-01-24T14:09:54.481Z"
   },
   {
    "duration": 11,
    "start_time": "2022-01-24T14:09:54.503Z"
   },
   {
    "duration": 15465,
    "start_time": "2022-01-24T14:09:54.517Z"
   },
   {
    "duration": 16596,
    "start_time": "2022-01-24T14:10:09.985Z"
   },
   {
    "duration": 1001,
    "start_time": "2022-01-24T14:10:26.584Z"
   },
   {
    "duration": 1493,
    "start_time": "2022-01-24T14:10:27.587Z"
   },
   {
    "duration": 6,
    "start_time": "2022-01-24T14:10:29.083Z"
   },
   {
    "duration": 10,
    "start_time": "2022-01-24T14:10:29.091Z"
   },
   {
    "duration": 7,
    "start_time": "2022-01-24T14:10:29.104Z"
   },
   {
    "duration": 86387,
    "start_time": "2022-01-24T14:10:29.113Z"
   },
   {
    "duration": 10957,
    "start_time": "2022-01-24T14:11:55.503Z"
   },
   {
    "duration": 32,
    "start_time": "2022-01-24T14:12:06.463Z"
   },
   {
    "duration": 72,
    "start_time": "2022-01-24T14:12:06.498Z"
   },
   {
    "duration": 139767,
    "start_time": "2022-01-24T14:12:06.574Z"
   },
   {
    "duration": 17732,
    "start_time": "2022-01-24T14:14:26.344Z"
   },
   {
    "duration": 617,
    "start_time": "2022-01-24T14:14:44.078Z"
   },
   {
    "duration": 14,
    "start_time": "2022-01-24T14:14:44.698Z"
   },
   {
    "duration": 15,
    "start_time": "2022-01-24T14:25:07.303Z"
   },
   {
    "duration": 1708,
    "start_time": "2022-01-24T14:34:58.824Z"
   },
   {
    "duration": 1308,
    "start_time": "2022-01-24T14:35:00.535Z"
   },
   {
    "duration": 32,
    "start_time": "2022-01-24T14:35:01.846Z"
   },
   {
    "duration": 185,
    "start_time": "2022-01-24T14:35:01.881Z"
   },
   {
    "duration": 68,
    "start_time": "2022-01-24T14:35:02.070Z"
   },
   {
    "duration": 23,
    "start_time": "2022-01-24T14:35:02.141Z"
   },
   {
    "duration": 94,
    "start_time": "2022-01-24T14:35:02.167Z"
   },
   {
    "duration": 690,
    "start_time": "2022-01-24T14:35:02.263Z"
   },
   {
    "duration": 31,
    "start_time": "2022-01-24T14:35:02.959Z"
   },
   {
    "duration": 170,
    "start_time": "2022-01-24T14:35:02.994Z"
   },
   {
    "duration": 112,
    "start_time": "2022-01-24T14:35:03.169Z"
   },
   {
    "duration": 176,
    "start_time": "2022-01-24T14:35:03.284Z"
   },
   {
    "duration": 199,
    "start_time": "2022-01-24T14:35:03.470Z"
   },
   {
    "duration": 144,
    "start_time": "2022-01-24T14:35:03.672Z"
   },
   {
    "duration": 17,
    "start_time": "2022-01-24T14:35:03.819Z"
   },
   {
    "duration": 1288,
    "start_time": "2022-01-24T14:35:03.838Z"
   },
   {
    "duration": 54,
    "start_time": "2022-01-24T14:35:05.129Z"
   },
   {
    "duration": 6,
    "start_time": "2022-01-24T14:35:05.186Z"
   },
   {
    "duration": 484,
    "start_time": "2022-01-24T14:35:05.194Z"
   },
   {
    "duration": 13,
    "start_time": "2022-01-24T14:35:05.680Z"
   },
   {
    "duration": 978,
    "start_time": "2022-01-24T14:35:05.696Z"
   },
   {
    "duration": 17,
    "start_time": "2022-01-24T14:35:06.676Z"
   },
   {
    "duration": 9,
    "start_time": "2022-01-24T14:35:06.696Z"
   },
   {
    "duration": 21,
    "start_time": "2022-01-24T14:35:06.707Z"
   },
   {
    "duration": 178,
    "start_time": "2022-01-24T14:35:06.731Z"
   },
   {
    "duration": 709,
    "start_time": "2022-01-24T14:35:06.911Z"
   },
   {
    "duration": 5,
    "start_time": "2022-01-24T14:35:07.626Z"
   },
   {
    "duration": 40,
    "start_time": "2022-01-24T14:35:07.634Z"
   },
   {
    "duration": 47,
    "start_time": "2022-01-24T14:35:07.677Z"
   },
   {
    "duration": 5,
    "start_time": "2022-01-24T14:35:07.727Z"
   },
   {
    "duration": 52,
    "start_time": "2022-01-24T14:35:07.734Z"
   },
   {
    "duration": 122,
    "start_time": "2022-01-24T14:35:07.789Z"
   },
   {
    "duration": 4,
    "start_time": "2022-01-24T14:35:07.914Z"
   },
   {
    "duration": 6,
    "start_time": "2022-01-24T14:35:07.920Z"
   },
   {
    "duration": 7,
    "start_time": "2022-01-24T14:35:07.928Z"
   },
   {
    "duration": 27138,
    "start_time": "2022-01-24T14:35:07.938Z"
   },
   {
    "duration": 604,
    "start_time": "2022-01-24T14:35:35.079Z"
   },
   {
    "duration": 8,
    "start_time": "2022-01-24T14:35:35.772Z"
   },
   {
    "duration": 190,
    "start_time": "2022-01-24T14:35:35.782Z"
   },
   {
    "duration": 195,
    "start_time": "2022-01-24T14:35:35.975Z"
   },
   {
    "duration": 7,
    "start_time": "2022-01-24T14:35:36.174Z"
   },
   {
    "duration": 5,
    "start_time": "2022-01-24T14:35:36.184Z"
   },
   {
    "duration": 6,
    "start_time": "2022-01-24T14:35:36.192Z"
   },
   {
    "duration": 13382,
    "start_time": "2022-01-24T14:35:36.200Z"
   },
   {
    "duration": 16295,
    "start_time": "2022-01-24T14:35:49.584Z"
   },
   {
    "duration": 1088,
    "start_time": "2022-01-24T14:36:05.882Z"
   },
   {
    "duration": 1502,
    "start_time": "2022-01-24T14:36:06.972Z"
   },
   {
    "duration": 7,
    "start_time": "2022-01-24T14:36:08.478Z"
   },
   {
    "duration": 7,
    "start_time": "2022-01-24T14:36:08.488Z"
   },
   {
    "duration": 6,
    "start_time": "2022-01-24T14:36:08.497Z"
   },
   {
    "duration": 8,
    "start_time": "2022-01-24T14:36:08.506Z"
   },
   {
    "duration": 8914,
    "start_time": "2022-01-24T14:36:08.571Z"
   },
   {
    "duration": 12413,
    "start_time": "2022-01-24T14:36:17.569Z"
   },
   {
    "duration": 694,
    "start_time": "2022-01-24T14:36:29.984Z"
   },
   {
    "duration": 989,
    "start_time": "2022-01-24T14:36:30.681Z"
   },
   {
    "duration": 6,
    "start_time": "2022-01-24T14:36:31.672Z"
   },
   {
    "duration": 9,
    "start_time": "2022-01-24T14:36:31.681Z"
   },
   {
    "duration": 13,
    "start_time": "2022-01-24T14:36:31.692Z"
   },
   {
    "duration": 87055,
    "start_time": "2022-01-24T14:36:31.707Z"
   },
   {
    "duration": 11215,
    "start_time": "2022-01-24T14:37:58.765Z"
   },
   {
    "duration": 98,
    "start_time": "2022-01-24T14:38:09.982Z"
   },
   {
    "duration": 6,
    "start_time": "2022-01-24T14:38:10.083Z"
   },
   {
    "duration": 148492,
    "start_time": "2022-01-24T14:38:10.092Z"
   },
   {
    "duration": 19833,
    "start_time": "2022-01-24T14:40:38.587Z"
   },
   {
    "duration": 1629,
    "start_time": "2022-01-24T14:41:01.681Z"
   },
   {
    "duration": 1173,
    "start_time": "2022-01-24T14:41:03.313Z"
   },
   {
    "duration": 26,
    "start_time": "2022-01-24T14:41:04.489Z"
   },
   {
    "duration": 175,
    "start_time": "2022-01-24T14:41:04.518Z"
   },
   {
    "duration": 79,
    "start_time": "2022-01-24T14:41:04.695Z"
   },
   {
    "duration": 19,
    "start_time": "2022-01-24T14:41:04.776Z"
   },
   {
    "duration": 85,
    "start_time": "2022-01-24T14:41:04.797Z"
   },
   {
    "duration": 697,
    "start_time": "2022-01-24T14:41:04.885Z"
   },
   {
    "duration": 26,
    "start_time": "2022-01-24T14:41:05.587Z"
   },
   {
    "duration": 172,
    "start_time": "2022-01-24T14:41:05.617Z"
   },
   {
    "duration": 108,
    "start_time": "2022-01-24T14:41:05.791Z"
   },
   {
    "duration": 170,
    "start_time": "2022-01-24T14:41:05.902Z"
   },
   {
    "duration": 207,
    "start_time": "2022-01-24T14:41:06.074Z"
   },
   {
    "duration": 142,
    "start_time": "2022-01-24T14:41:06.283Z"
   },
   {
    "duration": 15,
    "start_time": "2022-01-24T14:41:06.427Z"
   },
   {
    "duration": 1164,
    "start_time": "2022-01-24T14:41:06.445Z"
   },
   {
    "duration": 43,
    "start_time": "2022-01-24T14:41:07.611Z"
   },
   {
    "duration": 5,
    "start_time": "2022-01-24T14:41:07.670Z"
   },
   {
    "duration": 443,
    "start_time": "2022-01-24T14:41:07.678Z"
   },
   {
    "duration": 12,
    "start_time": "2022-01-24T14:41:08.124Z"
   },
   {
    "duration": 933,
    "start_time": "2022-01-24T14:41:08.139Z"
   },
   {
    "duration": 17,
    "start_time": "2022-01-24T14:41:09.074Z"
   },
   {
    "duration": 6,
    "start_time": "2022-01-24T14:41:09.093Z"
   },
   {
    "duration": 21,
    "start_time": "2022-01-24T14:41:09.101Z"
   },
   {
    "duration": 177,
    "start_time": "2022-01-24T14:41:09.125Z"
   },
   {
    "duration": 679,
    "start_time": "2022-01-24T14:41:09.305Z"
   },
   {
    "duration": 5,
    "start_time": "2022-01-24T14:41:09.990Z"
   },
   {
    "duration": 24,
    "start_time": "2022-01-24T14:41:09.998Z"
   },
   {
    "duration": 67,
    "start_time": "2022-01-24T14:41:10.024Z"
   },
   {
    "duration": 4,
    "start_time": "2022-01-24T14:41:10.093Z"
   },
   {
    "duration": 31,
    "start_time": "2022-01-24T14:41:10.100Z"
   },
   {
    "duration": 131,
    "start_time": "2022-01-24T14:41:10.134Z"
   },
   {
    "duration": 5,
    "start_time": "2022-01-24T14:41:10.268Z"
   },
   {
    "duration": 7,
    "start_time": "2022-01-24T14:41:10.276Z"
   },
   {
    "duration": 7,
    "start_time": "2022-01-24T14:41:10.286Z"
   },
   {
    "duration": 24384,
    "start_time": "2022-01-24T14:41:10.295Z"
   },
   {
    "duration": 689,
    "start_time": "2022-01-24T14:41:34.682Z"
   },
   {
    "duration": 98,
    "start_time": "2022-01-24T14:41:35.374Z"
   },
   {
    "duration": 99,
    "start_time": "2022-01-24T14:41:35.474Z"
   },
   {
    "duration": 97,
    "start_time": "2022-01-24T14:41:35.575Z"
   },
   {
    "duration": 96,
    "start_time": "2022-01-24T14:41:35.677Z"
   },
   {
    "duration": 10,
    "start_time": "2022-01-24T14:41:35.776Z"
   },
   {
    "duration": 13,
    "start_time": "2022-01-24T14:41:35.788Z"
   },
   {
    "duration": 12475,
    "start_time": "2022-01-24T14:41:35.804Z"
   },
   {
    "duration": 16490,
    "start_time": "2022-01-24T14:41:48.281Z"
   },
   {
    "duration": 1003,
    "start_time": "2022-01-24T14:42:04.774Z"
   },
   {
    "duration": 1490,
    "start_time": "2022-01-24T14:42:05.779Z"
   },
   {
    "duration": 6,
    "start_time": "2022-01-24T14:42:07.271Z"
   },
   {
    "duration": 8,
    "start_time": "2022-01-24T14:42:07.279Z"
   },
   {
    "duration": 11,
    "start_time": "2022-01-24T14:42:07.290Z"
   },
   {
    "duration": 6,
    "start_time": "2022-01-24T14:42:07.303Z"
   },
   {
    "duration": 9467,
    "start_time": "2022-01-24T14:42:07.312Z"
   },
   {
    "duration": 20495,
    "start_time": "2022-01-24T14:42:16.782Z"
   },
   {
    "duration": 690,
    "start_time": "2022-01-24T14:42:37.279Z"
   },
   {
    "duration": 1007,
    "start_time": "2022-01-24T14:42:37.971Z"
   },
   {
    "duration": 7,
    "start_time": "2022-01-24T14:42:38.981Z"
   },
   {
    "duration": 12,
    "start_time": "2022-01-24T14:42:38.991Z"
   },
   {
    "duration": 6,
    "start_time": "2022-01-24T14:42:39.006Z"
   },
   {
    "duration": 84512,
    "start_time": "2022-01-24T14:42:39.014Z"
   },
   {
    "duration": 10802,
    "start_time": "2022-01-24T14:44:03.528Z"
   },
   {
    "duration": 49,
    "start_time": "2022-01-24T14:44:14.332Z"
   },
   {
    "duration": 7,
    "start_time": "2022-01-24T14:44:14.385Z"
   },
   {
    "duration": 141260,
    "start_time": "2022-01-24T14:44:14.394Z"
   },
   {
    "duration": 17741,
    "start_time": "2022-01-24T14:46:35.656Z"
   },
   {
    "duration": 587,
    "start_time": "2022-01-24T14:46:53.400Z"
   },
   {
    "duration": 15,
    "start_time": "2022-01-24T14:46:53.990Z"
   },
   {
    "duration": 15,
    "start_time": "2022-01-24T15:47:37.814Z"
   },
   {
    "duration": 2217,
    "start_time": "2022-01-24T17:34:39.919Z"
   },
   {
    "duration": 3300,
    "start_time": "2022-01-24T17:34:42.140Z"
   },
   {
    "duration": 42,
    "start_time": "2022-01-24T17:34:45.444Z"
   },
   {
    "duration": 300,
    "start_time": "2022-01-24T17:34:45.490Z"
   },
   {
    "duration": 91,
    "start_time": "2022-01-24T17:34:45.793Z"
   },
   {
    "duration": 6,
    "start_time": "2022-01-24T17:34:45.887Z"
   },
   {
    "duration": 100,
    "start_time": "2022-01-24T17:34:45.896Z"
   },
   {
    "duration": 40129,
    "start_time": "2022-01-24T17:34:45.999Z"
   },
   {
    "duration": 1021,
    "start_time": "2022-01-24T17:35:25.111Z"
   },
   {
    "duration": 24,
    "start_time": "2022-01-24T17:35:33.833Z"
   },
   {
    "duration": 142,
    "start_time": "2022-01-24T17:35:36.698Z"
   },
   {
    "duration": 150,
    "start_time": "2022-01-24T17:35:41.265Z"
   },
   {
    "duration": 194,
    "start_time": "2022-01-24T17:35:41.468Z"
   },
   {
    "duration": 122,
    "start_time": "2022-01-24T17:35:42.553Z"
   },
   {
    "duration": 17,
    "start_time": "2022-01-24T17:35:43.501Z"
   },
   {
    "duration": 1143,
    "start_time": "2022-01-24T17:35:43.702Z"
   },
   {
    "duration": 42,
    "start_time": "2022-01-24T17:35:50.926Z"
   },
   {
    "duration": 5,
    "start_time": "2022-01-24T17:35:51.611Z"
   },
   {
    "duration": 502,
    "start_time": "2022-01-24T17:35:53.000Z"
   },
   {
    "duration": 12,
    "start_time": "2022-01-24T17:35:58.007Z"
   },
   {
    "duration": 852,
    "start_time": "2022-01-24T17:35:58.691Z"
   },
   {
    "duration": 19,
    "start_time": "2022-01-24T17:36:02.280Z"
   },
   {
    "duration": 5,
    "start_time": "2022-01-24T17:36:02.659Z"
   },
   {
    "duration": 17,
    "start_time": "2022-01-24T17:36:03.955Z"
   },
   {
    "duration": 138,
    "start_time": "2022-01-24T17:36:12.218Z"
   },
   {
    "duration": 1009,
    "start_time": "2022-01-24T17:36:12.359Z"
   },
   {
    "duration": 5,
    "start_time": "2022-01-24T17:36:13.371Z"
   },
   {
    "duration": 17,
    "start_time": "2022-01-24T17:36:15.978Z"
   },
   {
    "duration": 49,
    "start_time": "2022-01-24T17:36:16.145Z"
   },
   {
    "duration": 7,
    "start_time": "2022-01-24T17:36:16.318Z"
   },
   {
    "duration": 34,
    "start_time": "2022-01-24T17:36:19.400Z"
   },
   {
    "duration": 132,
    "start_time": "2022-01-24T17:36:19.581Z"
   },
   {
    "duration": 6,
    "start_time": "2022-01-24T17:36:19.747Z"
   },
   {
    "duration": 5,
    "start_time": "2022-01-24T17:36:37.749Z"
   },
   {
    "duration": 4,
    "start_time": "2022-01-24T17:36:38.612Z"
   },
   {
    "duration": 400539,
    "start_time": "2022-01-24T17:36:39.298Z"
   },
   {
    "duration": 25727,
    "start_time": "2022-01-24T17:43:19.840Z"
   },
   {
    "duration": 1090,
    "start_time": "2022-01-24T17:43:45.570Z"
   },
   {
    "duration": 234,
    "start_time": "2022-01-24T17:43:46.664Z"
   },
   {
    "duration": 333,
    "start_time": "2022-01-24T17:43:46.901Z"
   },
   {
    "duration": 1210,
    "start_time": "2022-01-24T17:43:46.028Z"
   },
   {
    "duration": 550,
    "start_time": "2022-01-24T17:44:33.794Z"
   },
   {
    "duration": 528,
    "start_time": "2022-01-24T17:45:36.688Z"
   },
   {
    "duration": 6,
    "start_time": "2022-01-24T17:46:31.734Z"
   },
   {
    "duration": 722,
    "start_time": "2022-01-24T17:47:10.768Z"
   },
   {
    "duration": 215,
    "start_time": "2022-01-24T17:47:28.894Z"
   },
   {
    "duration": 8,
    "start_time": "2022-01-24T17:47:46.767Z"
   },
   {
    "duration": 88904,
    "start_time": "2022-01-24T17:47:47.447Z"
   },
   {
    "duration": 10878,
    "start_time": "2022-01-24T17:49:16.356Z"
   },
   {
    "duration": 322,
    "start_time": "2022-01-24T17:49:27.237Z"
   },
   {
    "duration": 330,
    "start_time": "2022-01-24T17:49:55.479Z"
   },
   {
    "duration": 281,
    "start_time": "2022-01-24T17:50:02.815Z"
   },
   {
    "duration": 365,
    "start_time": "2022-02-01T21:06:32.929Z"
   },
   {
    "duration": 1646,
    "start_time": "2022-02-01T21:06:37.533Z"
   },
   {
    "duration": 1277,
    "start_time": "2022-02-01T21:06:40.089Z"
   },
   {
    "duration": 1478,
    "start_time": "2022-02-01T21:06:56.212Z"
   },
   {
    "duration": 1587,
    "start_time": "2022-02-01T21:09:27.417Z"
   },
   {
    "duration": 1362,
    "start_time": "2022-02-01T21:09:29.007Z"
   },
   {
    "duration": 77,
    "start_time": "2022-02-01T21:09:30.372Z"
   },
   {
    "duration": 16,
    "start_time": "2022-02-01T21:09:30.452Z"
   },
   {
    "duration": 95,
    "start_time": "2022-02-01T21:09:30.470Z"
   },
   {
    "duration": 725,
    "start_time": "2022-02-01T21:09:30.567Z"
   },
   {
    "duration": 41,
    "start_time": "2022-02-01T21:09:31.295Z"
   },
   {
    "duration": 178,
    "start_time": "2022-02-01T21:09:31.341Z"
   },
   {
    "duration": 111,
    "start_time": "2022-02-01T21:09:31.523Z"
   },
   {
    "duration": 177,
    "start_time": "2022-02-01T21:09:31.638Z"
   },
   {
    "duration": 217,
    "start_time": "2022-02-01T21:09:31.818Z"
   },
   {
    "duration": 165,
    "start_time": "2022-02-01T21:09:32.044Z"
   },
   {
    "duration": 20,
    "start_time": "2022-02-01T21:09:32.212Z"
   },
   {
    "duration": 1240,
    "start_time": "2022-02-01T21:09:32.238Z"
   },
   {
    "duration": 52,
    "start_time": "2022-02-01T21:09:33.481Z"
   },
   {
    "duration": 7,
    "start_time": "2022-02-01T21:09:33.536Z"
   },
   {
    "duration": 471,
    "start_time": "2022-02-01T21:09:33.545Z"
   },
   {
    "duration": 17,
    "start_time": "2022-02-01T21:09:34.019Z"
   },
   {
    "duration": 928,
    "start_time": "2022-02-01T21:09:34.038Z"
   },
   {
    "duration": 17,
    "start_time": "2022-02-01T21:09:34.969Z"
   },
   {
    "duration": 6,
    "start_time": "2022-02-01T21:09:34.988Z"
   },
   {
    "duration": 47,
    "start_time": "2022-02-01T21:09:34.996Z"
   },
   {
    "duration": 155,
    "start_time": "2022-02-01T21:09:35.052Z"
   },
   {
    "duration": 727,
    "start_time": "2022-02-01T21:09:35.212Z"
   },
   {
    "duration": 6,
    "start_time": "2022-02-01T21:09:35.943Z"
   },
   {
    "duration": 21,
    "start_time": "2022-02-01T21:09:35.953Z"
   },
   {
    "duration": 81,
    "start_time": "2022-02-01T21:09:35.977Z"
   },
   {
    "duration": 5,
    "start_time": "2022-02-01T21:09:36.060Z"
   },
   {
    "duration": 29,
    "start_time": "2022-02-01T21:09:36.067Z"
   },
   {
    "duration": 147,
    "start_time": "2022-02-01T21:09:36.099Z"
   },
   {
    "duration": 5,
    "start_time": "2022-02-01T21:09:36.248Z"
   },
   {
    "duration": 7,
    "start_time": "2022-02-01T21:09:36.255Z"
   },
   {
    "duration": 8,
    "start_time": "2022-02-01T21:09:36.265Z"
   },
   {
    "duration": 34678,
    "start_time": "2022-02-01T21:09:36.275Z"
   },
   {
    "duration": 883,
    "start_time": "2022-02-01T21:10:10.955Z"
   },
   {
    "duration": 9,
    "start_time": "2022-02-01T21:10:11.841Z"
   },
   {
    "duration": 141,
    "start_time": "2022-02-01T21:10:11.854Z"
   },
   {
    "duration": 138,
    "start_time": "2022-02-01T21:10:11.998Z"
   },
   {
    "duration": 106,
    "start_time": "2022-02-01T21:10:12.139Z"
   },
   {
    "duration": 5,
    "start_time": "2022-02-01T21:10:12.248Z"
   },
   {
    "duration": 17,
    "start_time": "2022-02-01T21:10:12.256Z"
   },
   {
    "duration": 54076,
    "start_time": "2022-02-01T21:10:12.277Z"
   },
   {
    "duration": 23488,
    "start_time": "2022-02-01T21:11:06.356Z"
   },
   {
    "duration": 1087,
    "start_time": "2022-02-01T21:11:29.846Z"
   },
   {
    "duration": 1406,
    "start_time": "2022-02-01T21:11:30.936Z"
   },
   {
    "duration": 5,
    "start_time": "2022-02-01T21:11:32.345Z"
   },
   {
    "duration": 83,
    "start_time": "2022-02-01T21:11:32.353Z"
   },
   {
    "duration": 4,
    "start_time": "2022-02-01T21:11:32.439Z"
   },
   {
    "duration": 5,
    "start_time": "2022-02-01T21:11:32.445Z"
   },
   {
    "duration": 8585,
    "start_time": "2022-02-01T21:11:32.453Z"
   },
   {
    "duration": 11093,
    "start_time": "2022-02-01T21:11:41.040Z"
   },
   {
    "duration": 605,
    "start_time": "2022-02-01T21:11:52.136Z"
   },
   {
    "duration": 1011,
    "start_time": "2022-02-01T21:11:52.744Z"
   },
   {
    "duration": 6,
    "start_time": "2022-02-01T21:11:53.758Z"
   },
   {
    "duration": 69,
    "start_time": "2022-02-01T21:11:53.766Z"
   },
   {
    "duration": 5,
    "start_time": "2022-02-01T21:11:53.838Z"
   },
   {
    "duration": 87907,
    "start_time": "2022-02-01T21:11:53.845Z"
   },
   {
    "duration": 11345,
    "start_time": "2022-02-01T21:13:21.754Z"
   },
   {
    "duration": 45,
    "start_time": "2022-02-01T21:13:33.101Z"
   },
   {
    "duration": 154,
    "start_time": "2022-02-01T21:13:33.148Z"
   },
   {
    "duration": 145,
    "start_time": "2022-02-01T21:13:33.160Z"
   },
   {
    "duration": 144,
    "start_time": "2022-02-01T21:13:33.162Z"
   },
   {
    "duration": 131,
    "start_time": "2022-02-01T21:13:33.176Z"
   },
   {
    "duration": 126,
    "start_time": "2022-02-01T21:13:33.183Z"
   },
   {
    "duration": 123,
    "start_time": "2022-02-01T21:13:33.187Z"
   },
   {
    "duration": 121,
    "start_time": "2022-02-01T21:13:33.190Z"
   },
   {
    "duration": 121,
    "start_time": "2022-02-01T21:13:33.192Z"
   },
   {
    "duration": 114,
    "start_time": "2022-02-01T21:13:33.200Z"
   },
   {
    "duration": 110,
    "start_time": "2022-02-01T21:13:33.206Z"
   },
   {
    "duration": 108,
    "start_time": "2022-02-01T21:13:33.209Z"
   },
   {
    "duration": 72,
    "start_time": "2022-02-01T21:15:59.132Z"
   },
   {
    "duration": 658,
    "start_time": "2022-02-01T21:16:19.988Z"
   },
   {
    "duration": 1543,
    "start_time": "2022-02-01T21:18:19.229Z"
   },
   {
    "duration": 1344,
    "start_time": "2022-02-01T21:18:20.775Z"
   },
   {
    "duration": 68,
    "start_time": "2022-02-01T21:18:22.123Z"
   },
   {
    "duration": 15,
    "start_time": "2022-02-01T21:18:22.194Z"
   },
   {
    "duration": 86,
    "start_time": "2022-02-01T21:18:22.212Z"
   },
   {
    "duration": 688,
    "start_time": "2022-02-01T21:18:22.301Z"
   },
   {
    "duration": 44,
    "start_time": "2022-02-01T21:18:22.993Z"
   },
   {
    "duration": 166,
    "start_time": "2022-02-01T21:18:23.043Z"
   },
   {
    "duration": 106,
    "start_time": "2022-02-01T21:18:23.214Z"
   },
   {
    "duration": 164,
    "start_time": "2022-02-01T21:18:23.332Z"
   },
   {
    "duration": 219,
    "start_time": "2022-02-01T21:18:23.499Z"
   },
   {
    "duration": 21,
    "start_time": "2022-02-01T21:18:23.720Z"
   },
   {
    "duration": 1174,
    "start_time": "2022-02-01T21:18:23.744Z"
   },
   {
    "duration": 50,
    "start_time": "2022-02-01T21:18:24.921Z"
   },
   {
    "duration": 6,
    "start_time": "2022-02-01T21:18:24.973Z"
   },
   {
    "duration": 445,
    "start_time": "2022-02-01T21:18:24.981Z"
   },
   {
    "duration": 14,
    "start_time": "2022-02-01T21:18:25.428Z"
   },
   {
    "duration": 876,
    "start_time": "2022-02-01T21:18:25.445Z"
   },
   {
    "duration": 22,
    "start_time": "2022-02-01T21:18:26.323Z"
   },
   {
    "duration": 9,
    "start_time": "2022-02-01T21:18:26.347Z"
   },
   {
    "duration": 23,
    "start_time": "2022-02-01T21:18:26.358Z"
   },
   {
    "duration": 168,
    "start_time": "2022-02-01T21:18:26.384Z"
   },
   {
    "duration": 719,
    "start_time": "2022-02-01T21:18:26.559Z"
   },
   {
    "duration": 4,
    "start_time": "2022-02-01T21:18:27.282Z"
   },
   {
    "duration": 18,
    "start_time": "2022-02-01T21:18:27.289Z"
   },
   {
    "duration": 64,
    "start_time": "2022-02-01T21:18:27.310Z"
   },
   {
    "duration": 4,
    "start_time": "2022-02-01T21:18:27.376Z"
   },
   {
    "duration": 53,
    "start_time": "2022-02-01T21:18:27.384Z"
   },
   {
    "duration": 126,
    "start_time": "2022-02-01T21:18:27.439Z"
   },
   {
    "duration": 5,
    "start_time": "2022-02-01T21:18:27.568Z"
   },
   {
    "duration": 10,
    "start_time": "2022-02-01T21:18:27.576Z"
   },
   {
    "duration": 8,
    "start_time": "2022-02-01T21:18:27.588Z"
   },
   {
    "duration": 27247,
    "start_time": "2022-02-01T21:18:27.598Z"
   },
   {
    "duration": 686,
    "start_time": "2022-02-01T21:18:54.848Z"
   },
   {
    "duration": 97,
    "start_time": "2022-02-01T21:18:55.538Z"
   },
   {
    "duration": 98,
    "start_time": "2022-02-01T21:18:55.638Z"
   },
   {
    "duration": 101,
    "start_time": "2022-02-01T21:18:55.738Z"
   },
   {
    "duration": 96,
    "start_time": "2022-02-01T21:18:55.842Z"
   },
   {
    "duration": 5,
    "start_time": "2022-02-01T21:18:55.941Z"
   },
   {
    "duration": 6,
    "start_time": "2022-02-01T21:18:55.949Z"
   },
   {
    "duration": 28378,
    "start_time": "2022-02-01T21:18:55.957Z"
   },
   {
    "duration": 16314,
    "start_time": "2022-02-01T21:19:24.337Z"
   },
   {
    "duration": 1000,
    "start_time": "2022-02-01T21:19:40.734Z"
   },
   {
    "duration": 1414,
    "start_time": "2022-02-01T21:19:41.737Z"
   },
   {
    "duration": 5,
    "start_time": "2022-02-01T21:19:43.154Z"
   },
   {
    "duration": 6,
    "start_time": "2022-02-01T21:19:43.233Z"
   },
   {
    "duration": 4,
    "start_time": "2022-02-01T21:19:43.241Z"
   },
   {
    "duration": 6,
    "start_time": "2022-02-01T21:19:43.248Z"
   },
   {
    "duration": 71788,
    "start_time": "2022-02-01T21:19:43.256Z"
   },
   {
    "duration": 132409,
    "start_time": "2022-02-01T21:20:55.047Z"
   },
   {
    "duration": 711,
    "start_time": "2022-02-01T21:23:07.533Z"
   },
   {
    "duration": 1107,
    "start_time": "2022-02-01T21:23:08.247Z"
   },
   {
    "duration": 5,
    "start_time": "2022-02-01T21:23:09.357Z"
   },
   {
    "duration": 6,
    "start_time": "2022-02-01T21:23:09.365Z"
   },
   {
    "duration": 6,
    "start_time": "2022-02-01T21:23:09.373Z"
   },
   {
    "duration": 88616,
    "start_time": "2022-02-01T21:23:09.433Z"
   },
   {
    "duration": 11490,
    "start_time": "2022-02-01T21:24:38.052Z"
   },
   {
    "duration": 109,
    "start_time": "2022-02-01T21:24:49.546Z"
   },
   {
    "duration": 6,
    "start_time": "2022-02-01T21:24:49.657Z"
   },
   {
    "duration": 139106,
    "start_time": "2022-02-01T21:24:49.666Z"
   },
   {
    "duration": 18430,
    "start_time": "2022-02-01T21:27:08.774Z"
   },
   {
    "duration": 656,
    "start_time": "2022-02-01T21:27:27.207Z"
   },
   {
    "duration": 80,
    "start_time": "2022-02-01T21:27:27.866Z"
   },
   {
    "duration": 341,
    "start_time": "2022-02-01T21:35:50.140Z"
   },
   {
    "duration": 5,
    "start_time": "2022-02-01T21:35:52.805Z"
   },
   {
    "duration": 299,
    "start_time": "2022-02-01T21:35:56.058Z"
   },
   {
    "duration": 5,
    "start_time": "2022-02-01T21:40:47.286Z"
   },
   {
    "duration": 5,
    "start_time": "2022-02-01T21:41:22.175Z"
   },
   {
    "duration": 319,
    "start_time": "2022-02-01T21:41:22.183Z"
   },
   {
    "duration": 1631,
    "start_time": "2022-02-01T21:43:32.401Z"
   },
   {
    "duration": 1367,
    "start_time": "2022-02-01T21:43:34.035Z"
   },
   {
    "duration": 79,
    "start_time": "2022-02-01T21:43:35.405Z"
   },
   {
    "duration": 11,
    "start_time": "2022-02-01T21:43:35.487Z"
   },
   {
    "duration": 92,
    "start_time": "2022-02-01T21:43:35.501Z"
   },
   {
    "duration": 714,
    "start_time": "2022-02-01T21:43:35.596Z"
   },
   {
    "duration": 30,
    "start_time": "2022-02-01T21:43:36.312Z"
   },
   {
    "duration": 173,
    "start_time": "2022-02-01T21:43:36.346Z"
   },
   {
    "duration": 115,
    "start_time": "2022-02-01T21:43:36.523Z"
   },
   {
    "duration": 166,
    "start_time": "2022-02-01T21:43:36.642Z"
   },
   {
    "duration": 216,
    "start_time": "2022-02-01T21:43:36.810Z"
   },
   {
    "duration": 22,
    "start_time": "2022-02-01T21:43:37.028Z"
   },
   {
    "duration": 1204,
    "start_time": "2022-02-01T21:43:37.053Z"
   },
   {
    "duration": 42,
    "start_time": "2022-02-01T21:43:38.260Z"
   },
   {
    "duration": 30,
    "start_time": "2022-02-01T21:43:38.304Z"
   },
   {
    "duration": 477,
    "start_time": "2022-02-01T21:43:38.338Z"
   },
   {
    "duration": 18,
    "start_time": "2022-02-01T21:43:38.817Z"
   },
   {
    "duration": 977,
    "start_time": "2022-02-01T21:43:38.838Z"
   },
   {
    "duration": 30,
    "start_time": "2022-02-01T21:43:39.817Z"
   },
   {
    "duration": 11,
    "start_time": "2022-02-01T21:43:39.851Z"
   },
   {
    "duration": 22,
    "start_time": "2022-02-01T21:43:39.864Z"
   },
   {
    "duration": 176,
    "start_time": "2022-02-01T21:43:39.888Z"
   },
   {
    "duration": 721,
    "start_time": "2022-02-01T21:43:40.067Z"
   },
   {
    "duration": 5,
    "start_time": "2022-02-01T21:43:40.790Z"
   },
   {
    "duration": 39,
    "start_time": "2022-02-01T21:43:40.797Z"
   },
   {
    "duration": 49,
    "start_time": "2022-02-01T21:43:40.839Z"
   },
   {
    "duration": 5,
    "start_time": "2022-02-01T21:43:40.894Z"
   },
   {
    "duration": 54,
    "start_time": "2022-02-01T21:43:40.902Z"
   },
   {
    "duration": 132,
    "start_time": "2022-02-01T21:43:40.959Z"
   },
   {
    "duration": 5,
    "start_time": "2022-02-01T21:43:41.093Z"
   },
   {
    "duration": 5,
    "start_time": "2022-02-01T21:43:41.101Z"
   },
   {
    "duration": 23,
    "start_time": "2022-02-01T21:43:41.109Z"
   },
   {
    "duration": 25317,
    "start_time": "2022-02-01T21:43:41.135Z"
   },
   {
    "duration": 688,
    "start_time": "2022-02-01T21:44:06.456Z"
   },
   {
    "duration": 88,
    "start_time": "2022-02-01T21:44:07.147Z"
   },
   {
    "duration": 136,
    "start_time": "2022-02-01T21:44:07.238Z"
   },
   {
    "duration": 157,
    "start_time": "2022-02-01T21:44:07.376Z"
   },
   {
    "duration": 14,
    "start_time": "2022-02-01T21:44:07.536Z"
   },
   {
    "duration": 9,
    "start_time": "2022-02-01T21:44:07.554Z"
   },
   {
    "duration": 66,
    "start_time": "2022-02-01T21:44:07.566Z"
   },
   {
    "duration": 97015,
    "start_time": "2022-02-01T21:44:07.636Z"
   },
   {
    "duration": 155603,
    "start_time": "2022-02-01T21:45:44.654Z"
   },
   {
    "duration": 1093,
    "start_time": "2022-02-01T21:48:20.260Z"
   },
   {
    "duration": 1508,
    "start_time": "2022-02-01T21:48:21.356Z"
   },
   {
    "duration": 65,
    "start_time": "2022-02-01T21:48:22.867Z"
   },
   {
    "duration": 7,
    "start_time": "2022-02-01T21:48:22.935Z"
   },
   {
    "duration": 14,
    "start_time": "2022-02-01T21:48:22.945Z"
   },
   {
    "duration": 6,
    "start_time": "2022-02-01T21:48:22.962Z"
   },
   {
    "duration": 75883,
    "start_time": "2022-02-01T21:48:22.970Z"
   },
   {
    "duration": 71511,
    "start_time": "2022-02-01T21:49:38.933Z"
   },
   {
    "duration": 691,
    "start_time": "2022-02-01T21:50:50.447Z"
   },
   {
    "duration": 1099,
    "start_time": "2022-02-01T21:50:51.141Z"
   },
   {
    "duration": 8,
    "start_time": "2022-02-01T21:50:52.243Z"
   },
   {
    "duration": 11,
    "start_time": "2022-02-01T21:50:52.255Z"
   },
   {
    "duration": 8,
    "start_time": "2022-02-01T21:50:52.269Z"
   },
   {
    "duration": 85921,
    "start_time": "2022-02-01T21:50:52.279Z"
   },
   {
    "duration": 10828,
    "start_time": "2022-02-01T21:52:18.203Z"
   },
   {
    "duration": 110,
    "start_time": "2022-02-01T21:52:29.034Z"
   },
   {
    "duration": 363,
    "start_time": "2022-02-01T21:52:29.146Z"
   },
   {
    "duration": 6,
    "start_time": "2022-02-01T21:52:29.511Z"
   },
   {
    "duration": 140227,
    "start_time": "2022-02-01T21:52:29.520Z"
   },
   {
    "duration": 17938,
    "start_time": "2022-02-01T21:54:49.750Z"
   },
   {
    "duration": 566,
    "start_time": "2022-02-01T21:55:07.690Z"
   },
   {
    "duration": 16,
    "start_time": "2022-02-01T21:55:08.259Z"
   }
  ],
  "kernelspec": {
   "display_name": "Python 3",
   "language": "python",
   "name": "python3"
  },
  "language_info": {
   "codemirror_mode": {
    "name": "ipython",
    "version": 3
   },
   "file_extension": ".py",
   "mimetype": "text/x-python",
   "name": "python",
   "nbconvert_exporter": "python",
   "pygments_lexer": "ipython3",
   "version": "3.7.8"
  },
  "toc": {
   "base_numbering": 1,
   "nav_menu": {},
   "number_sections": true,
   "sideBar": true,
   "skip_h1_title": true,
   "title_cell": "Table of Contents",
   "title_sidebar": "Contents",
   "toc_cell": false,
   "toc_position": {
    "height": "calc(100% - 180px)",
    "left": "10px",
    "top": "150px",
    "width": "323.903px"
   },
   "toc_section_display": true,
   "toc_window_display": true
  }
 },
 "nbformat": 4,
 "nbformat_minor": 2
}
