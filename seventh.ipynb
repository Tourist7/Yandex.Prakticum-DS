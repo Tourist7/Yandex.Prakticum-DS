{
 "cells": [
  {
   "cell_type": "markdown",
   "metadata": {},
   "source": [
    "# Выбор локации для скважины"
   ]
  },
  {
   "cell_type": "markdown",
   "metadata": {},
   "source": [
    "Допустим, вы работаете в добывающей компании «ГлавРосГосНефть». Нужно решить, где бурить новую скважину.\n",
    "\n",
    "Вам предоставлены пробы нефти в трёх регионах: в каждом 10 000 месторождений, где измерили качество нефти и объём её запасов. Постройте модель машинного обучения, которая поможет определить регион, где добыча принесёт наибольшую прибыль. Проанализируйте возможную прибыль и риски техникой *Bootstrap.*\n",
    "\n",
    "Шаги для выбора локации:\n",
    "\n",
    "- В избранном регионе ищут месторождения, для каждого определяют значения признаков;\n",
    "- Строят модель и оценивают объём запасов;\n",
    "- Выбирают месторождения с самым высокими оценками значений. Количество месторождений зависит от бюджета компании и стоимости разработки одной скважины;\n",
    "- Прибыль равна суммарной прибыли отобранных месторождений."
   ]
  },
  {
   "cell_type": "markdown",
   "metadata": {},
   "source": [
    "## Загрузка и подготовка данных"
   ]
  },
  {
   "cell_type": "code",
   "execution_count": 1,
   "metadata": {},
   "outputs": [],
   "source": [
    "import pandas as pd\n",
    "from sklearn.model_selection import train_test_split\n",
    "from sklearn.linear_model import LinearRegression\n",
    "from sklearn.metrics import mean_squared_error\n",
    "import numpy as np\n",
    "from scipy import stats as st\n",
    "from numpy.random import RandomState\n",
    "import matplotlib.pyplot as plt\n",
    "from heapq import nlargest"
   ]
  },
  {
   "cell_type": "markdown",
   "metadata": {},
   "source": [
    "Прочитаем файлы."
   ]
  },
  {
   "cell_type": "code",
   "execution_count": 2,
   "metadata": {},
   "outputs": [],
   "source": [
    "geo_0 = pd.read_csv('/datasets/geo_data_0.csv')                    \n",
    "geo_1 = pd.read_csv('/datasets/geo_data_1.csv')                    \n",
    "geo_2 = pd.read_csv('/datasets/geo_data_2.csv')                    "
   ]
  },
  {
   "cell_type": "markdown",
   "metadata": {},
   "source": [
    "Напишем функцию, которая будет выводить:\n",
    "- общую информацию про файл,\n",
    "- покажет содержание файла,\n",
    "- покажет наименование столбцов, \n",
    "- покажет есть ли дубликаты."
   ]
  },
  {
   "cell_type": "code",
   "execution_count": 3,
   "metadata": {},
   "outputs": [],
   "source": [
    "def inform(geo_x):                                                 # введем функцию для получения информации из файла\n",
    "    geo_x.info()                                                   # общая информация про файл\n",
    "    display(geo_x.head(5))                                         # смотрим содержание файла\n",
    "    print(\"Наименование столбцов:\", geo_x.columns)                 # смотрим наименование столбцов\n",
    "    print()\n",
    "    print(\"Количество дубликатов: \", geo_x.duplicated().sum())     # смотрим, есть ли дубликаты    "
   ]
  },
  {
   "cell_type": "markdown",
   "metadata": {},
   "source": [
    "### Подготовим файл geo_0"
   ]
  },
  {
   "cell_type": "code",
   "execution_count": 4,
   "metadata": {},
   "outputs": [
    {
     "name": "stdout",
     "output_type": "stream",
     "text": [
      "<class 'pandas.core.frame.DataFrame'>\n",
      "RangeIndex: 100000 entries, 0 to 99999\n",
      "Data columns (total 5 columns):\n",
      "id         100000 non-null object\n",
      "f0         100000 non-null float64\n",
      "f1         100000 non-null float64\n",
      "f2         100000 non-null float64\n",
      "product    100000 non-null float64\n",
      "dtypes: float64(4), object(1)\n",
      "memory usage: 3.8+ MB\n"
     ]
    },
    {
     "data": {
      "text/html": [
       "<div>\n",
       "<style scoped>\n",
       "    .dataframe tbody tr th:only-of-type {\n",
       "        vertical-align: middle;\n",
       "    }\n",
       "\n",
       "    .dataframe tbody tr th {\n",
       "        vertical-align: top;\n",
       "    }\n",
       "\n",
       "    .dataframe thead th {\n",
       "        text-align: right;\n",
       "    }\n",
       "</style>\n",
       "<table border=\"1\" class=\"dataframe\">\n",
       "  <thead>\n",
       "    <tr style=\"text-align: right;\">\n",
       "      <th></th>\n",
       "      <th>id</th>\n",
       "      <th>f0</th>\n",
       "      <th>f1</th>\n",
       "      <th>f2</th>\n",
       "      <th>product</th>\n",
       "    </tr>\n",
       "  </thead>\n",
       "  <tbody>\n",
       "    <tr>\n",
       "      <td>0</td>\n",
       "      <td>txEyH</td>\n",
       "      <td>0.705745</td>\n",
       "      <td>-0.497823</td>\n",
       "      <td>1.221170</td>\n",
       "      <td>105.280062</td>\n",
       "    </tr>\n",
       "    <tr>\n",
       "      <td>1</td>\n",
       "      <td>2acmU</td>\n",
       "      <td>1.334711</td>\n",
       "      <td>-0.340164</td>\n",
       "      <td>4.365080</td>\n",
       "      <td>73.037750</td>\n",
       "    </tr>\n",
       "    <tr>\n",
       "      <td>2</td>\n",
       "      <td>409Wp</td>\n",
       "      <td>1.022732</td>\n",
       "      <td>0.151990</td>\n",
       "      <td>1.419926</td>\n",
       "      <td>85.265647</td>\n",
       "    </tr>\n",
       "    <tr>\n",
       "      <td>3</td>\n",
       "      <td>iJLyR</td>\n",
       "      <td>-0.032172</td>\n",
       "      <td>0.139033</td>\n",
       "      <td>2.978566</td>\n",
       "      <td>168.620776</td>\n",
       "    </tr>\n",
       "    <tr>\n",
       "      <td>4</td>\n",
       "      <td>Xdl7t</td>\n",
       "      <td>1.988431</td>\n",
       "      <td>0.155413</td>\n",
       "      <td>4.751769</td>\n",
       "      <td>154.036647</td>\n",
       "    </tr>\n",
       "  </tbody>\n",
       "</table>\n",
       "</div>"
      ],
      "text/plain": [
       "      id        f0        f1        f2     product\n",
       "0  txEyH  0.705745 -0.497823  1.221170  105.280062\n",
       "1  2acmU  1.334711 -0.340164  4.365080   73.037750\n",
       "2  409Wp  1.022732  0.151990  1.419926   85.265647\n",
       "3  iJLyR -0.032172  0.139033  2.978566  168.620776\n",
       "4  Xdl7t  1.988431  0.155413  4.751769  154.036647"
      ]
     },
     "metadata": {},
     "output_type": "display_data"
    },
    {
     "name": "stdout",
     "output_type": "stream",
     "text": [
      "Наименование столбцов: Index(['id', 'f0', 'f1', 'f2', 'product'], dtype='object')\n",
      "\n",
      "Количество дубликатов:  0\n"
     ]
    }
   ],
   "source": [
    "inform(geo_0)"
   ]
  },
  {
   "cell_type": "markdown",
   "metadata": {},
   "source": [
    "### Подготовим файл geo_1"
   ]
  },
  {
   "cell_type": "code",
   "execution_count": 5,
   "metadata": {},
   "outputs": [
    {
     "name": "stdout",
     "output_type": "stream",
     "text": [
      "<class 'pandas.core.frame.DataFrame'>\n",
      "RangeIndex: 100000 entries, 0 to 99999\n",
      "Data columns (total 5 columns):\n",
      "id         100000 non-null object\n",
      "f0         100000 non-null float64\n",
      "f1         100000 non-null float64\n",
      "f2         100000 non-null float64\n",
      "product    100000 non-null float64\n",
      "dtypes: float64(4), object(1)\n",
      "memory usage: 3.8+ MB\n"
     ]
    },
    {
     "data": {
      "text/html": [
       "<div>\n",
       "<style scoped>\n",
       "    .dataframe tbody tr th:only-of-type {\n",
       "        vertical-align: middle;\n",
       "    }\n",
       "\n",
       "    .dataframe tbody tr th {\n",
       "        vertical-align: top;\n",
       "    }\n",
       "\n",
       "    .dataframe thead th {\n",
       "        text-align: right;\n",
       "    }\n",
       "</style>\n",
       "<table border=\"1\" class=\"dataframe\">\n",
       "  <thead>\n",
       "    <tr style=\"text-align: right;\">\n",
       "      <th></th>\n",
       "      <th>id</th>\n",
       "      <th>f0</th>\n",
       "      <th>f1</th>\n",
       "      <th>f2</th>\n",
       "      <th>product</th>\n",
       "    </tr>\n",
       "  </thead>\n",
       "  <tbody>\n",
       "    <tr>\n",
       "      <td>0</td>\n",
       "      <td>kBEdx</td>\n",
       "      <td>-15.001348</td>\n",
       "      <td>-8.276000</td>\n",
       "      <td>-0.005876</td>\n",
       "      <td>3.179103</td>\n",
       "    </tr>\n",
       "    <tr>\n",
       "      <td>1</td>\n",
       "      <td>62mP7</td>\n",
       "      <td>14.272088</td>\n",
       "      <td>-3.475083</td>\n",
       "      <td>0.999183</td>\n",
       "      <td>26.953261</td>\n",
       "    </tr>\n",
       "    <tr>\n",
       "      <td>2</td>\n",
       "      <td>vyE1P</td>\n",
       "      <td>6.263187</td>\n",
       "      <td>-5.948386</td>\n",
       "      <td>5.001160</td>\n",
       "      <td>134.766305</td>\n",
       "    </tr>\n",
       "    <tr>\n",
       "      <td>3</td>\n",
       "      <td>KcrkZ</td>\n",
       "      <td>-13.081196</td>\n",
       "      <td>-11.506057</td>\n",
       "      <td>4.999415</td>\n",
       "      <td>137.945408</td>\n",
       "    </tr>\n",
       "    <tr>\n",
       "      <td>4</td>\n",
       "      <td>AHL4O</td>\n",
       "      <td>12.702195</td>\n",
       "      <td>-8.147433</td>\n",
       "      <td>5.004363</td>\n",
       "      <td>134.766305</td>\n",
       "    </tr>\n",
       "  </tbody>\n",
       "</table>\n",
       "</div>"
      ],
      "text/plain": [
       "      id         f0         f1        f2     product\n",
       "0  kBEdx -15.001348  -8.276000 -0.005876    3.179103\n",
       "1  62mP7  14.272088  -3.475083  0.999183   26.953261\n",
       "2  vyE1P   6.263187  -5.948386  5.001160  134.766305\n",
       "3  KcrkZ -13.081196 -11.506057  4.999415  137.945408\n",
       "4  AHL4O  12.702195  -8.147433  5.004363  134.766305"
      ]
     },
     "metadata": {},
     "output_type": "display_data"
    },
    {
     "name": "stdout",
     "output_type": "stream",
     "text": [
      "Наименование столбцов: Index(['id', 'f0', 'f1', 'f2', 'product'], dtype='object')\n",
      "\n",
      "Количество дубликатов:  0\n"
     ]
    }
   ],
   "source": [
    "inform(geo_1)"
   ]
  },
  {
   "cell_type": "markdown",
   "metadata": {},
   "source": [
    "### Подготовим файл geo_2"
   ]
  },
  {
   "cell_type": "code",
   "execution_count": 6,
   "metadata": {},
   "outputs": [
    {
     "name": "stdout",
     "output_type": "stream",
     "text": [
      "<class 'pandas.core.frame.DataFrame'>\n",
      "RangeIndex: 100000 entries, 0 to 99999\n",
      "Data columns (total 5 columns):\n",
      "id         100000 non-null object\n",
      "f0         100000 non-null float64\n",
      "f1         100000 non-null float64\n",
      "f2         100000 non-null float64\n",
      "product    100000 non-null float64\n",
      "dtypes: float64(4), object(1)\n",
      "memory usage: 3.8+ MB\n"
     ]
    },
    {
     "data": {
      "text/html": [
       "<div>\n",
       "<style scoped>\n",
       "    .dataframe tbody tr th:only-of-type {\n",
       "        vertical-align: middle;\n",
       "    }\n",
       "\n",
       "    .dataframe tbody tr th {\n",
       "        vertical-align: top;\n",
       "    }\n",
       "\n",
       "    .dataframe thead th {\n",
       "        text-align: right;\n",
       "    }\n",
       "</style>\n",
       "<table border=\"1\" class=\"dataframe\">\n",
       "  <thead>\n",
       "    <tr style=\"text-align: right;\">\n",
       "      <th></th>\n",
       "      <th>id</th>\n",
       "      <th>f0</th>\n",
       "      <th>f1</th>\n",
       "      <th>f2</th>\n",
       "      <th>product</th>\n",
       "    </tr>\n",
       "  </thead>\n",
       "  <tbody>\n",
       "    <tr>\n",
       "      <td>0</td>\n",
       "      <td>fwXo0</td>\n",
       "      <td>-1.146987</td>\n",
       "      <td>0.963328</td>\n",
       "      <td>-0.828965</td>\n",
       "      <td>27.758673</td>\n",
       "    </tr>\n",
       "    <tr>\n",
       "      <td>1</td>\n",
       "      <td>WJtFt</td>\n",
       "      <td>0.262778</td>\n",
       "      <td>0.269839</td>\n",
       "      <td>-2.530187</td>\n",
       "      <td>56.069697</td>\n",
       "    </tr>\n",
       "    <tr>\n",
       "      <td>2</td>\n",
       "      <td>ovLUW</td>\n",
       "      <td>0.194587</td>\n",
       "      <td>0.289035</td>\n",
       "      <td>-5.586433</td>\n",
       "      <td>62.871910</td>\n",
       "    </tr>\n",
       "    <tr>\n",
       "      <td>3</td>\n",
       "      <td>q6cA6</td>\n",
       "      <td>2.236060</td>\n",
       "      <td>-0.553760</td>\n",
       "      <td>0.930038</td>\n",
       "      <td>114.572842</td>\n",
       "    </tr>\n",
       "    <tr>\n",
       "      <td>4</td>\n",
       "      <td>WPMUX</td>\n",
       "      <td>-0.515993</td>\n",
       "      <td>1.716266</td>\n",
       "      <td>5.899011</td>\n",
       "      <td>149.600746</td>\n",
       "    </tr>\n",
       "  </tbody>\n",
       "</table>\n",
       "</div>"
      ],
      "text/plain": [
       "      id        f0        f1        f2     product\n",
       "0  fwXo0 -1.146987  0.963328 -0.828965   27.758673\n",
       "1  WJtFt  0.262778  0.269839 -2.530187   56.069697\n",
       "2  ovLUW  0.194587  0.289035 -5.586433   62.871910\n",
       "3  q6cA6  2.236060 -0.553760  0.930038  114.572842\n",
       "4  WPMUX -0.515993  1.716266  5.899011  149.600746"
      ]
     },
     "metadata": {},
     "output_type": "display_data"
    },
    {
     "name": "stdout",
     "output_type": "stream",
     "text": [
      "Наименование столбцов: Index(['id', 'f0', 'f1', 'f2', 'product'], dtype='object')\n",
      "\n",
      "Количество дубликатов:  0\n"
     ]
    }
   ],
   "source": [
    "inform(geo_2)"
   ]
  },
  {
   "cell_type": "markdown",
   "metadata": {},
   "source": [
    "Проводем корреляционный анализ и построим графики для целевого признака."
   ]
  },
  {
   "cell_type": "code",
   "execution_count": 7,
   "metadata": {},
   "outputs": [
    {
     "data": {
      "text/html": [
       "<style  type=\"text/css\" >\n",
       "    #T_8b1d186e_8391_11ec_85a1_02420a391b26row0_col0 {\n",
       "            background-color:  #b40426;\n",
       "            color:  #f1f1f1;\n",
       "        }    #T_8b1d186e_8391_11ec_85a1_02420a391b26row0_col1 {\n",
       "            background-color:  #3b4cc0;\n",
       "            color:  #f1f1f1;\n",
       "        }    #T_8b1d186e_8391_11ec_85a1_02420a391b26row0_col2 {\n",
       "            background-color:  #3b4cc0;\n",
       "            color:  #f1f1f1;\n",
       "        }    #T_8b1d186e_8391_11ec_85a1_02420a391b26row0_col3 {\n",
       "            background-color:  #98b9ff;\n",
       "            color:  #000000;\n",
       "        }    #T_8b1d186e_8391_11ec_85a1_02420a391b26row1_col0 {\n",
       "            background-color:  #3b4cc0;\n",
       "            color:  #f1f1f1;\n",
       "        }    #T_8b1d186e_8391_11ec_85a1_02420a391b26row1_col1 {\n",
       "            background-color:  #b40426;\n",
       "            color:  #f1f1f1;\n",
       "        }    #T_8b1d186e_8391_11ec_85a1_02420a391b26row1_col2 {\n",
       "            background-color:  #3c4ec2;\n",
       "            color:  #f1f1f1;\n",
       "        }    #T_8b1d186e_8391_11ec_85a1_02420a391b26row1_col3 {\n",
       "            background-color:  #3b4cc0;\n",
       "            color:  #f1f1f1;\n",
       "        }    #T_8b1d186e_8391_11ec_85a1_02420a391b26row2_col0 {\n",
       "            background-color:  #9fbfff;\n",
       "            color:  #000000;\n",
       "        }    #T_8b1d186e_8391_11ec_85a1_02420a391b26row2_col1 {\n",
       "            background-color:  #a1c0ff;\n",
       "            color:  #000000;\n",
       "        }    #T_8b1d186e_8391_11ec_85a1_02420a391b26row2_col2 {\n",
       "            background-color:  #b40426;\n",
       "            color:  #f1f1f1;\n",
       "        }    #T_8b1d186e_8391_11ec_85a1_02420a391b26row2_col3 {\n",
       "            background-color:  #edd2c3;\n",
       "            color:  #000000;\n",
       "        }    #T_8b1d186e_8391_11ec_85a1_02420a391b26row3_col0 {\n",
       "            background-color:  #c1d4f4;\n",
       "            color:  #000000;\n",
       "        }    #T_8b1d186e_8391_11ec_85a1_02420a391b26row3_col1 {\n",
       "            background-color:  #7295f4;\n",
       "            color:  #000000;\n",
       "        }    #T_8b1d186e_8391_11ec_85a1_02420a391b26row3_col2 {\n",
       "            background-color:  #d9dce1;\n",
       "            color:  #000000;\n",
       "        }    #T_8b1d186e_8391_11ec_85a1_02420a391b26row3_col3 {\n",
       "            background-color:  #b40426;\n",
       "            color:  #f1f1f1;\n",
       "        }</style><table id=\"T_8b1d186e_8391_11ec_85a1_02420a391b26\" ><thead>    <tr>        <th class=\"blank level0\" ></th>        <th class=\"col_heading level0 col0\" >f0</th>        <th class=\"col_heading level0 col1\" >f1</th>        <th class=\"col_heading level0 col2\" >f2</th>        <th class=\"col_heading level0 col3\" >product</th>    </tr></thead><tbody>\n",
       "                <tr>\n",
       "                        <th id=\"T_8b1d186e_8391_11ec_85a1_02420a391b26level0_row0\" class=\"row_heading level0 row0\" >f0</th>\n",
       "                        <td id=\"T_8b1d186e_8391_11ec_85a1_02420a391b26row0_col0\" class=\"data row0 col0\" >1</td>\n",
       "                        <td id=\"T_8b1d186e_8391_11ec_85a1_02420a391b26row0_col1\" class=\"data row0 col1\" >-0.440723</td>\n",
       "                        <td id=\"T_8b1d186e_8391_11ec_85a1_02420a391b26row0_col2\" class=\"data row0 col2\" >-0.00315334</td>\n",
       "                        <td id=\"T_8b1d186e_8391_11ec_85a1_02420a391b26row0_col3\" class=\"data row0 col3\" >0.143536</td>\n",
       "            </tr>\n",
       "            <tr>\n",
       "                        <th id=\"T_8b1d186e_8391_11ec_85a1_02420a391b26level0_row1\" class=\"row_heading level0 row1\" >f1</th>\n",
       "                        <td id=\"T_8b1d186e_8391_11ec_85a1_02420a391b26row1_col0\" class=\"data row1 col0\" >-0.440723</td>\n",
       "                        <td id=\"T_8b1d186e_8391_11ec_85a1_02420a391b26row1_col1\" class=\"data row1 col1\" >1</td>\n",
       "                        <td id=\"T_8b1d186e_8391_11ec_85a1_02420a391b26row1_col2\" class=\"data row1 col2\" >0.00172443</td>\n",
       "                        <td id=\"T_8b1d186e_8391_11ec_85a1_02420a391b26row1_col3\" class=\"data row1 col3\" >-0.192356</td>\n",
       "            </tr>\n",
       "            <tr>\n",
       "                        <th id=\"T_8b1d186e_8391_11ec_85a1_02420a391b26level0_row2\" class=\"row_heading level0 row2\" >f2</th>\n",
       "                        <td id=\"T_8b1d186e_8391_11ec_85a1_02420a391b26row2_col0\" class=\"data row2 col0\" >-0.00315334</td>\n",
       "                        <td id=\"T_8b1d186e_8391_11ec_85a1_02420a391b26row2_col1\" class=\"data row2 col1\" >0.00172443</td>\n",
       "                        <td id=\"T_8b1d186e_8391_11ec_85a1_02420a391b26row2_col2\" class=\"data row2 col2\" >1</td>\n",
       "                        <td id=\"T_8b1d186e_8391_11ec_85a1_02420a391b26row2_col3\" class=\"data row2 col3\" >0.483663</td>\n",
       "            </tr>\n",
       "            <tr>\n",
       "                        <th id=\"T_8b1d186e_8391_11ec_85a1_02420a391b26level0_row3\" class=\"row_heading level0 row3\" >product</th>\n",
       "                        <td id=\"T_8b1d186e_8391_11ec_85a1_02420a391b26row3_col0\" class=\"data row3 col0\" >0.143536</td>\n",
       "                        <td id=\"T_8b1d186e_8391_11ec_85a1_02420a391b26row3_col1\" class=\"data row3 col1\" >-0.192356</td>\n",
       "                        <td id=\"T_8b1d186e_8391_11ec_85a1_02420a391b26row3_col2\" class=\"data row3 col2\" >0.483663</td>\n",
       "                        <td id=\"T_8b1d186e_8391_11ec_85a1_02420a391b26row3_col3\" class=\"data row3 col3\" >1</td>\n",
       "            </tr>\n",
       "    </tbody></table>"
      ],
      "text/plain": [
       "<pandas.io.formats.style.Styler at 0x7fc7c157eb90>"
      ]
     },
     "execution_count": 7,
     "metadata": {},
     "output_type": "execute_result"
    }
   ],
   "source": [
    "corr = geo_0.corr()\n",
    "corr.style.background_gradient(cmap='coolwarm')"
   ]
  },
  {
   "cell_type": "code",
   "execution_count": 8,
   "metadata": {},
   "outputs": [
    {
     "data": {
      "text/plain": [
       "<matplotlib.axes._subplots.AxesSubplot at 0x7fc7c04fb2d0>"
      ]
     },
     "execution_count": 8,
     "metadata": {},
     "output_type": "execute_result"
    },
    {
     "data": {
      "image/png": "[encoded data removed]",
      "text/plain": [
       "<Figure size 432x288 with 1 Axes>"
      ]
     },
     "metadata": {
      "needs_background": "light"
     },
     "output_type": "display_data"
    }
   ],
   "source": [
    "plt.figure()\n",
    "geo_0[\"product\"].diff().hist()                               "
   ]
  },
  {
   "cell_type": "code",
   "execution_count": 9,
   "metadata": {},
   "outputs": [
    {
     "data": {
      "text/html": [
       "<style  type=\"text/css\" >\n",
       "    #T_8b5deb00_8391_11ec_85a1_02420a391b26row0_col0 {\n",
       "            background-color:  #b40426;\n",
       "            color:  #f1f1f1;\n",
       "        }    #T_8b5deb00_8391_11ec_85a1_02420a391b26row0_col1 {\n",
       "            background-color:  #779af7;\n",
       "            color:  #000000;\n",
       "        }    #T_8b5deb00_8391_11ec_85a1_02420a391b26row0_col2 {\n",
       "            background-color:  #3b4cc0;\n",
       "            color:  #f1f1f1;\n",
       "        }    #T_8b5deb00_8391_11ec_85a1_02420a391b26row0_col3 {\n",
       "            background-color:  #3b4cc0;\n",
       "            color:  #f1f1f1;\n",
       "        }    #T_8b5deb00_8391_11ec_85a1_02420a391b26row1_col0 {\n",
       "            background-color:  #7da0f9;\n",
       "            color:  #000000;\n",
       "        }    #T_8b5deb00_8391_11ec_85a1_02420a391b26row1_col1 {\n",
       "            background-color:  #b40426;\n",
       "            color:  #f1f1f1;\n",
       "        }    #T_8b5deb00_8391_11ec_85a1_02420a391b26row1_col2 {\n",
       "            background-color:  #3b4cc0;\n",
       "            color:  #f1f1f1;\n",
       "        }    #T_8b5deb00_8391_11ec_85a1_02420a391b26row1_col3 {\n",
       "            background-color:  #4055c8;\n",
       "            color:  #f1f1f1;\n",
       "        }    #T_8b5deb00_8391_11ec_85a1_02420a391b26row2_col0 {\n",
       "            background-color:  #4358cb;\n",
       "            color:  #f1f1f1;\n",
       "        }    #T_8b5deb00_8391_11ec_85a1_02420a391b26row2_col1 {\n",
       "            background-color:  #3c4ec2;\n",
       "            color:  #f1f1f1;\n",
       "        }    #T_8b5deb00_8391_11ec_85a1_02420a391b26row2_col2 {\n",
       "            background-color:  #b40426;\n",
       "            color:  #f1f1f1;\n",
       "        }    #T_8b5deb00_8391_11ec_85a1_02420a391b26row2_col3 {\n",
       "            background-color:  #b40426;\n",
       "            color:  #f1f1f1;\n",
       "        }    #T_8b5deb00_8391_11ec_85a1_02420a391b26row3_col0 {\n",
       "            background-color:  #3b4cc0;\n",
       "            color:  #f1f1f1;\n",
       "        }    #T_8b5deb00_8391_11ec_85a1_02420a391b26row3_col1 {\n",
       "            background-color:  #3b4cc0;\n",
       "            color:  #f1f1f1;\n",
       "        }    #T_8b5deb00_8391_11ec_85a1_02420a391b26row3_col2 {\n",
       "            background-color:  #b40426;\n",
       "            color:  #f1f1f1;\n",
       "        }    #T_8b5deb00_8391_11ec_85a1_02420a391b26row3_col3 {\n",
       "            background-color:  #b40426;\n",
       "            color:  #f1f1f1;\n",
       "        }</style><table id=\"T_8b5deb00_8391_11ec_85a1_02420a391b26\" ><thead>    <tr>        <th class=\"blank level0\" ></th>        <th class=\"col_heading level0 col0\" >f0</th>        <th class=\"col_heading level0 col1\" >f1</th>        <th class=\"col_heading level0 col2\" >f2</th>        <th class=\"col_heading level0 col3\" >product</th>    </tr></thead><tbody>\n",
       "                <tr>\n",
       "                        <th id=\"T_8b5deb00_8391_11ec_85a1_02420a391b26level0_row0\" class=\"row_heading level0 row0\" >f0</th>\n",
       "                        <td id=\"T_8b5deb00_8391_11ec_85a1_02420a391b26row0_col0\" class=\"data row0 col0\" >1</td>\n",
       "                        <td id=\"T_8b5deb00_8391_11ec_85a1_02420a391b26row0_col1\" class=\"data row0 col1\" >0.182287</td>\n",
       "                        <td id=\"T_8b5deb00_8391_11ec_85a1_02420a391b26row0_col2\" class=\"data row0 col2\" >-0.00177704</td>\n",
       "                        <td id=\"T_8b5deb00_8391_11ec_85a1_02420a391b26row0_col3\" class=\"data row0 col3\" >-0.0304905</td>\n",
       "            </tr>\n",
       "            <tr>\n",
       "                        <th id=\"T_8b5deb00_8391_11ec_85a1_02420a391b26level0_row1\" class=\"row_heading level0 row1\" >f1</th>\n",
       "                        <td id=\"T_8b5deb00_8391_11ec_85a1_02420a391b26row1_col0\" class=\"data row1 col0\" >0.182287</td>\n",
       "                        <td id=\"T_8b5deb00_8391_11ec_85a1_02420a391b26row1_col1\" class=\"data row1 col1\" >1</td>\n",
       "                        <td id=\"T_8b5deb00_8391_11ec_85a1_02420a391b26row1_col2\" class=\"data row1 col2\" >-0.00259532</td>\n",
       "                        <td id=\"T_8b5deb00_8391_11ec_85a1_02420a391b26row1_col3\" class=\"data row1 col3\" >-0.0101549</td>\n",
       "            </tr>\n",
       "            <tr>\n",
       "                        <th id=\"T_8b5deb00_8391_11ec_85a1_02420a391b26level0_row2\" class=\"row_heading level0 row2\" >f2</th>\n",
       "                        <td id=\"T_8b5deb00_8391_11ec_85a1_02420a391b26row2_col0\" class=\"data row2 col0\" >-0.00177704</td>\n",
       "                        <td id=\"T_8b5deb00_8391_11ec_85a1_02420a391b26row2_col1\" class=\"data row2 col1\" >-0.00259532</td>\n",
       "                        <td id=\"T_8b5deb00_8391_11ec_85a1_02420a391b26row2_col2\" class=\"data row2 col2\" >1</td>\n",
       "                        <td id=\"T_8b5deb00_8391_11ec_85a1_02420a391b26row2_col3\" class=\"data row2 col3\" >0.999397</td>\n",
       "            </tr>\n",
       "            <tr>\n",
       "                        <th id=\"T_8b5deb00_8391_11ec_85a1_02420a391b26level0_row3\" class=\"row_heading level0 row3\" >product</th>\n",
       "                        <td id=\"T_8b5deb00_8391_11ec_85a1_02420a391b26row3_col0\" class=\"data row3 col0\" >-0.0304905</td>\n",
       "                        <td id=\"T_8b5deb00_8391_11ec_85a1_02420a391b26row3_col1\" class=\"data row3 col1\" >-0.0101549</td>\n",
       "                        <td id=\"T_8b5deb00_8391_11ec_85a1_02420a391b26row3_col2\" class=\"data row3 col2\" >0.999397</td>\n",
       "                        <td id=\"T_8b5deb00_8391_11ec_85a1_02420a391b26row3_col3\" class=\"data row3 col3\" >1</td>\n",
       "            </tr>\n",
       "    </tbody></table>"
      ],
      "text/plain": [
       "<pandas.io.formats.style.Styler at 0x7fc7c04fb390>"
      ]
     },
     "execution_count": 9,
     "metadata": {},
     "output_type": "execute_result"
    }
   ],
   "source": [
    "corr = geo_1.corr()\n",
    "corr.style.background_gradient(cmap='coolwarm')"
   ]
  },
  {
   "cell_type": "code",
   "execution_count": 10,
   "metadata": {},
   "outputs": [
    {
     "data": {
      "image/png": "[encoded data removed]",
      "text/plain": [
       "<Figure size 432x288 with 1 Axes>"
      ]
     },
     "metadata": {
      "needs_background": "light"
     },
     "output_type": "display_data"
    }
   ],
   "source": [
    "plt.figure();\n",
    "geo_1[\"product\"].diff().hist();"
   ]
  },
  {
   "cell_type": "code",
   "execution_count": 11,
   "metadata": {},
   "outputs": [
    {
     "data": {
      "text/html": [
       "<style  type=\"text/css\" >\n",
       "    #T_8b91dadc_8391_11ec_85a1_02420a391b26row0_col0 {\n",
       "            background-color:  #b40426;\n",
       "            color:  #f1f1f1;\n",
       "        }    #T_8b91dadc_8391_11ec_85a1_02420a391b26row0_col1 {\n",
       "            background-color:  #3b4cc0;\n",
       "            color:  #f1f1f1;\n",
       "        }    #T_8b91dadc_8391_11ec_85a1_02420a391b26row0_col2 {\n",
       "            background-color:  #3b4cc0;\n",
       "            color:  #f1f1f1;\n",
       "        }    #T_8b91dadc_8391_11ec_85a1_02420a391b26row0_col3 {\n",
       "            background-color:  #3b4cc0;\n",
       "            color:  #f1f1f1;\n",
       "        }    #T_8b91dadc_8391_11ec_85a1_02420a391b26row1_col0 {\n",
       "            background-color:  #3b4cc0;\n",
       "            color:  #f1f1f1;\n",
       "        }    #T_8b91dadc_8391_11ec_85a1_02420a391b26row1_col1 {\n",
       "            background-color:  #b40426;\n",
       "            color:  #f1f1f1;\n",
       "        }    #T_8b91dadc_8391_11ec_85a1_02420a391b26row1_col2 {\n",
       "            background-color:  #3b4cc0;\n",
       "            color:  #f1f1f1;\n",
       "        }    #T_8b91dadc_8391_11ec_85a1_02420a391b26row1_col3 {\n",
       "            background-color:  #3b4cc0;\n",
       "            color:  #f1f1f1;\n",
       "        }    #T_8b91dadc_8391_11ec_85a1_02420a391b26row2_col0 {\n",
       "            background-color:  #3b4cc0;\n",
       "            color:  #f1f1f1;\n",
       "        }    #T_8b91dadc_8391_11ec_85a1_02420a391b26row2_col1 {\n",
       "            background-color:  #3b4cc0;\n",
       "            color:  #f1f1f1;\n",
       "        }    #T_8b91dadc_8391_11ec_85a1_02420a391b26row2_col2 {\n",
       "            background-color:  #b40426;\n",
       "            color:  #f1f1f1;\n",
       "        }    #T_8b91dadc_8391_11ec_85a1_02420a391b26row2_col3 {\n",
       "            background-color:  #cedaeb;\n",
       "            color:  #000000;\n",
       "        }    #T_8b91dadc_8391_11ec_85a1_02420a391b26row3_col0 {\n",
       "            background-color:  #3b4cc0;\n",
       "            color:  #f1f1f1;\n",
       "        }    #T_8b91dadc_8391_11ec_85a1_02420a391b26row3_col1 {\n",
       "            background-color:  #3b4cc0;\n",
       "            color:  #f1f1f1;\n",
       "        }    #T_8b91dadc_8391_11ec_85a1_02420a391b26row3_col2 {\n",
       "            background-color:  #cedaeb;\n",
       "            color:  #000000;\n",
       "        }    #T_8b91dadc_8391_11ec_85a1_02420a391b26row3_col3 {\n",
       "            background-color:  #b40426;\n",
       "            color:  #f1f1f1;\n",
       "        }</style><table id=\"T_8b91dadc_8391_11ec_85a1_02420a391b26\" ><thead>    <tr>        <th class=\"blank level0\" ></th>        <th class=\"col_heading level0 col0\" >f0</th>        <th class=\"col_heading level0 col1\" >f1</th>        <th class=\"col_heading level0 col2\" >f2</th>        <th class=\"col_heading level0 col3\" >product</th>    </tr></thead><tbody>\n",
       "                <tr>\n",
       "                        <th id=\"T_8b91dadc_8391_11ec_85a1_02420a391b26level0_row0\" class=\"row_heading level0 row0\" >f0</th>\n",
       "                        <td id=\"T_8b91dadc_8391_11ec_85a1_02420a391b26row0_col0\" class=\"data row0 col0\" >1</td>\n",
       "                        <td id=\"T_8b91dadc_8391_11ec_85a1_02420a391b26row0_col1\" class=\"data row0 col1\" >0.000528283</td>\n",
       "                        <td id=\"T_8b91dadc_8391_11ec_85a1_02420a391b26row0_col2\" class=\"data row0 col2\" >-0.000448133</td>\n",
       "                        <td id=\"T_8b91dadc_8391_11ec_85a1_02420a391b26row0_col3\" class=\"data row0 col3\" >-0.00198706</td>\n",
       "            </tr>\n",
       "            <tr>\n",
       "                        <th id=\"T_8b91dadc_8391_11ec_85a1_02420a391b26level0_row1\" class=\"row_heading level0 row1\" >f1</th>\n",
       "                        <td id=\"T_8b91dadc_8391_11ec_85a1_02420a391b26row1_col0\" class=\"data row1 col0\" >0.000528283</td>\n",
       "                        <td id=\"T_8b91dadc_8391_11ec_85a1_02420a391b26row1_col1\" class=\"data row1 col1\" >1</td>\n",
       "                        <td id=\"T_8b91dadc_8391_11ec_85a1_02420a391b26row1_col2\" class=\"data row1 col2\" >0.000778661</td>\n",
       "                        <td id=\"T_8b91dadc_8391_11ec_85a1_02420a391b26row1_col3\" class=\"data row1 col3\" >-0.00101239</td>\n",
       "            </tr>\n",
       "            <tr>\n",
       "                        <th id=\"T_8b91dadc_8391_11ec_85a1_02420a391b26level0_row2\" class=\"row_heading level0 row2\" >f2</th>\n",
       "                        <td id=\"T_8b91dadc_8391_11ec_85a1_02420a391b26row2_col0\" class=\"data row2 col0\" >-0.000448133</td>\n",
       "                        <td id=\"T_8b91dadc_8391_11ec_85a1_02420a391b26row2_col1\" class=\"data row2 col1\" >0.000778661</td>\n",
       "                        <td id=\"T_8b91dadc_8391_11ec_85a1_02420a391b26row2_col2\" class=\"data row2 col2\" >1</td>\n",
       "                        <td id=\"T_8b91dadc_8391_11ec_85a1_02420a391b26row2_col3\" class=\"data row2 col3\" >0.445871</td>\n",
       "            </tr>\n",
       "            <tr>\n",
       "                        <th id=\"T_8b91dadc_8391_11ec_85a1_02420a391b26level0_row3\" class=\"row_heading level0 row3\" >product</th>\n",
       "                        <td id=\"T_8b91dadc_8391_11ec_85a1_02420a391b26row3_col0\" class=\"data row3 col0\" >-0.00198706</td>\n",
       "                        <td id=\"T_8b91dadc_8391_11ec_85a1_02420a391b26row3_col1\" class=\"data row3 col1\" >-0.00101239</td>\n",
       "                        <td id=\"T_8b91dadc_8391_11ec_85a1_02420a391b26row3_col2\" class=\"data row3 col2\" >0.445871</td>\n",
       "                        <td id=\"T_8b91dadc_8391_11ec_85a1_02420a391b26row3_col3\" class=\"data row3 col3\" >1</td>\n",
       "            </tr>\n",
       "    </tbody></table>"
      ],
      "text/plain": [
       "<pandas.io.formats.style.Styler at 0x7fc82cdaf610>"
      ]
     },
     "execution_count": 11,
     "metadata": {},
     "output_type": "execute_result"
    }
   ],
   "source": [
    "corr = geo_2.corr()\n",
    "corr.style.background_gradient(cmap='coolwarm')"
   ]
  },
  {
   "cell_type": "code",
   "execution_count": 12,
   "metadata": {},
   "outputs": [
    {
     "data": {
      "image/png": "[encoded data removed]",
      "text/plain": [
       "<Figure size 432x288 with 1 Axes>"
      ]
     },
     "metadata": {
      "needs_background": "light"
     },
     "output_type": "display_data"
    }
   ],
   "source": [
    "plt.figure();\n",
    "geo_2[\"product\"].diff().hist();"
   ]
  },
  {
   "cell_type": "markdown",
   "metadata": {},
   "source": [
    "По корреляции не видно сильных зависимостей, кроме F2 и product во 2-м регионе - практически 1 (единица), так как дынные не настоящие может это сделано специально, для получения необходимых результатов. \n",
    "\n",
    "По графикам видим нормальное распределение, но во 2-м регионе явный пик на уровне 0-25."
   ]
  },
  {
   "cell_type": "markdown",
   "metadata": {},
   "source": [
    "### Вывод"
   ]
  },
  {
   "cell_type": "markdown",
   "metadata": {},
   "source": [
    "На первом этапе было выполнено:\n",
    "- загрузка и изучение файлов,\n",
    "- увидели, что во всех файлах пропущенных значений нет, \n",
    "- посмотрели, что название столбцов правильное, \n",
    "- увидели, что в каждом файле по 5 столбцоа и 10000 строк. \n",
    "\n",
    "Так как по условию проекта необходимо выбрать 1 из 3 регионов, то столбец id (уникальный идентификатор скважины) нем не потребуется, удалим его на следующем шаге."
   ]
  },
  {
   "cell_type": "markdown",
   "metadata": {},
   "source": [
    "## Обучение и проверка модели"
   ]
  },
  {
   "cell_type": "code",
   "execution_count": 13,
   "metadata": {},
   "outputs": [],
   "source": [
    "def to_split(position):\n",
    "    target = position['product']\n",
    "    features = position.drop(['product', \"id\"], axis=1)\n",
    "    features_train, features_valid, target_train, target_valid = train_test_split(features, target,\n",
    "                                                                                  test_size=0.25, random_state=12345)\n",
    "    model =  LinearRegression()\n",
    "    model.fit(features_train, target_train)\n",
    "        \n",
    "    return pd.Series(model.predict(features_valid)), target_valid"
   ]
  },
  {
   "cell_type": "code",
   "execution_count": 14,
   "metadata": {},
   "outputs": [],
   "source": [
    "predicted_valid_0, target_valid_0 = to_split(geo_0)\n",
    "predicted_valid_1, target_valid_1 = to_split(geo_1)\n",
    "predicted_valid_2, target_valid_2 = to_split(geo_2)"
   ]
  },
  {
   "cell_type": "code",
   "execution_count": 15,
   "metadata": {},
   "outputs": [
    {
     "data": {
      "text/plain": [
       "(0         95.894952\n",
       " 1         77.572583\n",
       " 2         77.892640\n",
       " 3         90.175134\n",
       " 4         70.510088\n",
       "             ...    \n",
       " 24995    103.037104\n",
       " 24996     85.403255\n",
       " 24997     61.509833\n",
       " 24998    118.180397\n",
       " 24999    118.169392\n",
       " Length: 25000, dtype: float64,\n",
       " 71751     10.038645\n",
       " 80493    114.551489\n",
       " 2655     132.603635\n",
       " 53233    169.072125\n",
       " 91141    122.325180\n",
       "             ...    \n",
       " 12581    170.116726\n",
       " 18456     93.632175\n",
       " 73035    127.352259\n",
       " 63834     99.782700\n",
       " 43558    177.821022\n",
       " Name: product, Length: 25000, dtype: float64)"
      ]
     },
     "execution_count": 15,
     "metadata": {},
     "output_type": "execute_result"
    }
   ],
   "source": [
    "to_split(geo_0)"
   ]
  },
  {
   "cell_type": "code",
   "execution_count": 16,
   "metadata": {},
   "outputs": [
    {
     "data": {
      "text/plain": [
       "(0         82.663314\n",
       " 1         54.431786\n",
       " 2         29.748760\n",
       " 3         53.552133\n",
       " 4          1.243856\n",
       "             ...    \n",
       " 24995    136.869211\n",
       " 24996    110.693465\n",
       " 24997    137.879341\n",
       " 24998     83.761966\n",
       " 24999     53.958466\n",
       " Length: 25000, dtype: float64,\n",
       " 71751     80.859783\n",
       " 80493     53.906522\n",
       " 2655      30.132364\n",
       " 53233     53.906522\n",
       " 91141      0.000000\n",
       "             ...    \n",
       " 12581    137.945408\n",
       " 18456    110.992147\n",
       " 73035    137.945408\n",
       " 63834     84.038886\n",
       " 43558     53.906522\n",
       " Name: product, Length: 25000, dtype: float64)"
      ]
     },
     "execution_count": 16,
     "metadata": {},
     "output_type": "execute_result"
    }
   ],
   "source": [
    "to_split(geo_1)"
   ]
  },
  {
   "cell_type": "code",
   "execution_count": 17,
   "metadata": {},
   "outputs": [
    {
     "data": {
      "text/plain": [
       "(0         93.599633\n",
       " 1         75.105159\n",
       " 2         90.066809\n",
       " 3        105.162375\n",
       " 4        115.303310\n",
       "             ...    \n",
       " 24995     78.765887\n",
       " 24996     95.603394\n",
       " 24997     99.407281\n",
       " 24998     77.779912\n",
       " 24999    129.032417\n",
       " Length: 25000, dtype: float64,\n",
       " 71751     61.212375\n",
       " 80493     41.850118\n",
       " 2655      57.776581\n",
       " 53233    100.053761\n",
       " 91141    109.897122\n",
       "             ...    \n",
       " 12581     28.492402\n",
       " 18456     21.431303\n",
       " 73035    125.487229\n",
       " 63834     99.422903\n",
       " 43558    127.445075\n",
       " Name: product, Length: 25000, dtype: float64)"
      ]
     },
     "execution_count": 17,
     "metadata": {},
     "output_type": "execute_result"
    }
   ],
   "source": [
    "to_split(geo_2)"
   ]
  },
  {
   "cell_type": "code",
   "execution_count": 18,
   "metadata": {},
   "outputs": [],
   "source": [
    "def get_mean_predict_rmse (target_valid, predicted_valid):\n",
    "    mean_predict = predicted_valid.mean()\n",
    "    rmse = mean_squared_error(target_valid,predicted_valid)**0.5\n",
    "    print(\"Средний запас предсказанного сырья:\", mean_predict, \"RMSE модели:\", rmse)    "
   ]
  },
  {
   "cell_type": "code",
   "execution_count": 19,
   "metadata": {},
   "outputs": [
    {
     "name": "stdout",
     "output_type": "stream",
     "text": [
      "Регион № 1\n",
      "Средний запас предсказанного сырья: 92.07859674082927 RMSE модели: 37.5794217150813\n",
      "\n",
      "Регион № 2\n",
      "Средний запас предсказанного сырья: 68.72313602435997 RMSE модели: 0.893099286775616\n",
      "\n",
      "Регион № 3\n",
      "Средний запас предсказанного сырья: 94.88423280885438 RMSE модели: 40.02970873393434\n"
     ]
    }
   ],
   "source": [
    "print(\"Регион № 1\")\n",
    "get_mean_predict_rmse (predicted_valid_0, target_valid_0)\n",
    "print()\n",
    "print(\"Регион № 2\")\n",
    "get_mean_predict_rmse (predicted_valid_1, target_valid_1)\n",
    "print()\n",
    "print(\"Регион № 3\")\n",
    "get_mean_predict_rmse (predicted_valid_2, target_valid_2)"
   ]
  },
  {
   "cell_type": "markdown",
   "metadata": {},
   "source": [
    "### Вывод"
   ]
  },
  {
   "cell_type": "markdown",
   "metadata": {},
   "source": [
    "На этом этапе было сделано:\n",
    "- данные разбиты на обучающую и валидационную выборки в соотношении 75:25\n",
    "- обучена модель и сделаны предсказания на валидационной выборке\n",
    "- сохранены предсказания и правильные ответы на валидационной выборке\n",
    "- получены значения среднего запаса предсказанного сырья и RMSE модели.\n",
    "\n",
    "По полученным значениям видим, что меньше всего среднего запаса предсказанного сырья во 2-ом регионе (68 против 92 и 94), но точность модели в этом регионе лучше всего  - 0,89! Против 37 и 40 на других регионах. То есть полученные значения во 2-ом регионе максимально достоверные."
   ]
  },
  {
   "cell_type": "markdown",
   "metadata": {},
   "source": [
    "## Подготовка к расчёту прибыли"
   ]
  },
  {
   "cell_type": "code",
   "execution_count": 20,
   "metadata": {},
   "outputs": [],
   "source": [
    "Point = 200                                         # количество отбираемых месторождений \n",
    "Budget = 10000000000                                # бюджет на разработку\n",
    "Profit = 450000                                     # доход с месторождения\n",
    "Mean_profit = Budget/ Profit / Point                # минимальный запас нефти в месторождении для окупаемости\n",
    "Mean_profit_2 = Budget/ Profit                      # минимальный запас нефти в регионе для окупаемости\n",
    "pro_of_loss = 0.025                                 # вероятность убытков"
   ]
  },
  {
   "cell_type": "code",
   "execution_count": 21,
   "metadata": {},
   "outputs": [
    {
     "name": "stdout",
     "output_type": "stream",
     "text": [
      "Минимальный запас нефти в месторождении для окупаемости: 111.11111111111111\n",
      "Минимальный запас нефти в регионе для окупаемости: 22222.222222222223\n"
     ]
    }
   ],
   "source": [
    "print(\"Минимальный запас нефти в месторождении для окупаемости:\",  Mean_profit)\n",
    "print(\"Минимальный запас нефти в регионе для окупаемости:\",  Mean_profit_2)"
   ]
  },
  {
   "cell_type": "markdown",
   "metadata": {},
   "source": [
    "### Вывод"
   ]
  },
  {
   "cell_type": "markdown",
   "metadata": {},
   "source": [
    "Получили средние значения запаса нефти по месторождениям всех 3-х регионов и видим, что все они ниже чем минимальный запас нефти для окупаемости, равный 111 тыс.баррелей."
   ]
  },
  {
   "cell_type": "markdown",
   "metadata": {},
   "source": [
    "## Расчёт прибыли и рисков "
   ]
  },
  {
   "cell_type": "markdown",
   "metadata": {},
   "source": [
    "Так как для работы берутся только 200 лучших месторождений в каждом регионе, а считали мы по всем, выберем лучшие 200 скважин и посмотрим запас в них"
   ]
  },
  {
   "cell_type": "code",
   "execution_count": 22,
   "metadata": {},
   "outputs": [],
   "source": [
    "state = np.random.RandomState(777)"
   ]
  },
  {
   "cell_type": "code",
   "execution_count": 23,
   "metadata": {},
   "outputs": [],
   "source": [
    "def revenue(target, predicted):\n",
    "    target = pd.Series(target).reset_index(drop=True)\n",
    "    predicted = pd.Series(predicted).reset_index(drop=True)\n",
    "    probs_sorted = predicted.sort_values(ascending=False)\n",
    "    selected = target[probs_sorted.index][:Point]                   # 200 месторождений\n",
    "    # print (\"Целевое значение объёма сырья, соответствующее предсказаниям, тыс.баррелей:\", sum(selected))\n",
    "    # print(\"Прибыль для полученного объёма сырья, млрд.рублей:\", ((Profit * selected.sum()) - Budget) / 1000000000)\n",
    "    return ((Profit * selected.sum()) - Budget) / 1000000000"
   ]
  },
  {
   "cell_type": "code",
   "execution_count": 24,
   "metadata": {},
   "outputs": [
    {
     "data": {
      "text/plain": [
       "3.3208260431398524"
      ]
     },
     "execution_count": 24,
     "metadata": {},
     "output_type": "execute_result"
    }
   ],
   "source": [
    "revenue (target_valid_0, predicted_valid_0)"
   ]
  },
  {
   "cell_type": "code",
   "execution_count": 25,
   "metadata": {},
   "outputs": [
    {
     "data": {
      "text/plain": [
       "2.4150866966815108"
      ]
     },
     "execution_count": 25,
     "metadata": {},
     "output_type": "execute_result"
    }
   ],
   "source": [
    "revenue (target_valid_1, predicted_valid_1)"
   ]
  },
  {
   "cell_type": "code",
   "execution_count": 26,
   "metadata": {},
   "outputs": [
    {
     "data": {
      "text/plain": [
       "2.7103499635998327"
      ]
     },
     "execution_count": 26,
     "metadata": {},
     "output_type": "execute_result"
    }
   ],
   "source": [
    "revenue (target_valid_2, predicted_valid_2)"
   ]
  },
  {
   "cell_type": "code",
   "execution_count": 27,
   "metadata": {},
   "outputs": [],
   "source": [
    "def bootstrap (target, predicted):\n",
    "    values = []\n",
    "    for i in range(1000):\n",
    "        target_subsample = target.reset_index(drop=True).sample(n=500, replace=True, random_state=state)        \n",
    "        probs_subsample = predicted[target_subsample.index] \n",
    "        rev = revenue(target_subsample, probs_subsample)\n",
    "        values.append(rev)\n",
    "\n",
    "    values = pd.Series(values)\n",
    "    \n",
    "    mean = values.mean()\n",
    "    intervf = values.quantile(pro_of_loss)\n",
    "    intervs = values.quantile(0.975)\n",
    "    confidence_interval = st.t.interval(0.95, len(values)-1, values.mean(), values.sem())\n",
    "        \n",
    "    confidence_interval_prognoz = (values.quantile(0.025), values.quantile(0.975))                           \n",
    "        \n",
    "    print(\"Средняя выручка:\", mean)\n",
    "    print(\"2,5%-квантиль:\", intervf)\n",
    "    print(\"97,5%-квантиль:\", intervs)\n",
    "    print(\"Доверительный интервал истинного среднего:\", confidence_interval)\n",
    "    print(\"Доверительный интервал для прогноза (2,5% и 97.5% квантили):\", confidence_interval_prognoz)      \n",
    "    print(\"Риск убытка:\",((values < 0).mean()))"
   ]
  },
  {
   "cell_type": "code",
   "execution_count": 28,
   "metadata": {},
   "outputs": [
    {
     "name": "stdout",
     "output_type": "stream",
     "text": [
      "Средняя выручка: 0.3850465428284363\n",
      "2,5%-квантиль: -0.12315555346401204\n",
      "97,5%-квантиль: 0.8542964008648799\n",
      "Доверительный интервал истинного среднего: (0.3691482211521802, 0.4009448645046924)\n",
      "Доверительный интервал для прогноза (2,5% и 97.5% квантили): (-0.12315555346401204, 0.8542964008648799)\n",
      "Риск убытка: 0.074\n"
     ]
    }
   ],
   "source": [
    "bootstrap (target_valid_0, predicted_valid_0)"
   ]
  },
  {
   "cell_type": "code",
   "execution_count": 29,
   "metadata": {},
   "outputs": [
    {
     "name": "stdout",
     "output_type": "stream",
     "text": [
      "Средняя выручка: 0.4429657248719404\n",
      "2,5%-квантиль: 0.04531659356088114\n",
      "97,5%-квантиль: 0.8566698771156019\n",
      "Доверительный интервал истинного среднего: (0.4303009627298333, 0.4556304870140475)\n",
      "Доверительный интервал для прогноза (2,5% и 97.5% квантили): (0.04531659356088114, 0.8566698771156019)\n",
      "Риск убытка: 0.016\n"
     ]
    }
   ],
   "source": [
    "bootstrap (target_valid_1, predicted_valid_1)"
   ]
  },
  {
   "cell_type": "code",
   "execution_count": 30,
   "metadata": {},
   "outputs": [
    {
     "name": "stdout",
     "output_type": "stream",
     "text": [
      "Средняя выручка: 0.39522042415916575\n",
      "2,5%-квантиль: -0.1460756684273435\n",
      "97,5%-квантиль: 0.9239512491249194\n",
      "Доверительный интервал истинного среднего: (0.3778507223385934, 0.4125901259797381)\n",
      "Доверительный интервал для прогноза (2,5% и 97.5% квантили): (-0.1460756684273435, 0.9239512491249194)\n",
      "Риск убытка: 0.085\n"
     ]
    }
   ],
   "source": [
    "bootstrap (target_valid_2, predicted_valid_2)"
   ]
  },
  {
   "cell_type": "markdown",
   "metadata": {},
   "source": [
    "### Выбор региона и вывод"
   ]
  },
  {
   "cell_type": "markdown",
   "metadata": {},
   "source": [
    "Для выбора региона необходимо выбрать регион, в котором будет больше:\n",
    "- средняя выручка\n",
    "- доверительный интервал\n",
    "\n",
    "    и в котором будет меньше риск убытка.\n",
    "    \n",
    "Учитывая это, видим что регион № 2 лучший, его параметры:\n",
    "- средняя выручка: 0.4429657248719404 (против 0.3850465428284363 и 0.39522042415916575)\n",
    "- доверительный интервал: (0.4303009627298333, 0.4556304870140475) - против (0.3691482211521802, 0.4009448645046924) и (0.3778507223385934, 0.4125901259797381)\n",
    "- риск убытка: 0.016 (против 0.074 и 0.085)\n",
    "\n",
    "При этом на этапе получения \"среднего запаса предсказанного сырья\" получили, что во 2-ом регионе запасы на 30 тыс.баррелей меньше, чем в других регионах и если бы решение о разработке было принято по данным этого этапа фирма \"ГлавРосГосНефть\" получила бы меньшую прибыль."
   ]
  },
  {
   "cell_type": "markdown",
   "metadata": {},
   "source": [
    "## Чек-лист готовности проекта"
   ]
  },
  {
   "cell_type": "markdown",
   "metadata": {},
   "source": [
    "Поставьте 'x' в выполненных пунктах. Далее нажмите Shift+Enter."
   ]
  },
  {
   "cell_type": "markdown",
   "metadata": {},
   "source": [
    "- [x]  Jupyter Notebook открыт\n",
    "- [x]  Весь код выполняется без ошибок\n",
    "- [X]  Ячейки с кодом расположены в порядке исполнения\n",
    "- [x]  Выполнен шаг 1: данные подготовлены\n",
    "- [x]  Выполнен шаг 2: модели обучены и проверены\n",
    "    - [x]  Данные корректно разбиты на обучающую и валидационную выборки\n",
    "    - [x]  Модели обучены, предсказания сделаны\n",
    "    - [x]  Предсказания и правильные ответы на валидационной выборке сохранены\n",
    "    - [x]  На экране напечатаны результаты\n",
    "    - [x]  Сделаны выводы\n",
    "- [x]  Выполнен шаг 3: проведена подготовка к расчёту прибыли\n",
    "    - [X]  Для всех ключевых значений созданы константы Python\n",
    "    - [x]  Посчитано минимальное среднее количество продукта в месторождениях региона, достаточное для разработки\n",
    "    - [x]  По предыдущему пункту сделаны выводы\n",
    "    - [x]  Написана функция расчёта прибыли\n",
    "- [x]  Выполнен шаг 4: посчитаны риски и прибыль\n",
    "    - [x]  Проведена процедура *Bootstrap*\n",
    "    - [x]  Все параметры бутстрепа соответствуют условию\n",
    "    - [x]  Найдены все нужные величины\n",
    "    - [x]  Предложен регион для разработки месторождения\n",
    "    - [x]  Выбор региона обоснован"
   ]
  }
 ],
 "metadata": {
  "ExecuteTimeLog": [
   {
    "duration": 233,
    "start_time": "2021-11-29T10:26:50.085Z"
   },
   {
    "duration": 529,
    "start_time": "2021-11-29T10:26:57.738Z"
   },
   {
    "duration": 369,
    "start_time": "2021-11-29T10:26:58.268Z"
   },
   {
    "duration": 230,
    "start_time": "2021-11-29T10:28:12.273Z"
   },
   {
    "duration": 369,
    "start_time": "2021-11-29T10:28:17.416Z"
   },
   {
    "duration": 382,
    "start_time": "2021-11-29T10:28:19.181Z"
   },
   {
    "duration": 601,
    "start_time": "2021-11-29T10:47:38.708Z"
   },
   {
    "duration": 365,
    "start_time": "2021-11-29T10:47:39.311Z"
   },
   {
    "duration": 419,
    "start_time": "2021-11-29T10:47:39.680Z"
   },
   {
    "duration": 21,
    "start_time": "2021-11-29T10:51:47.177Z"
   },
   {
    "duration": 2,
    "start_time": "2021-11-29T10:53:41.795Z"
   },
   {
    "duration": 17,
    "start_time": "2021-11-29T10:55:10.348Z"
   },
   {
    "duration": 256,
    "start_time": "2021-11-29T10:55:46.340Z"
   },
   {
    "duration": 18,
    "start_time": "2021-11-29T10:55:53.699Z"
   },
   {
    "duration": 252,
    "start_time": "2021-11-29T10:56:06.557Z"
   },
   {
    "duration": 43,
    "start_time": "2021-11-29T10:56:13.576Z"
   },
   {
    "duration": 66,
    "start_time": "2021-11-29T11:01:53.782Z"
   },
   {
    "duration": 59,
    "start_time": "2021-11-29T11:02:26.477Z"
   },
   {
    "duration": 2,
    "start_time": "2021-11-29T11:03:30.051Z"
   },
   {
    "duration": 57,
    "start_time": "2021-11-29T11:03:35.562Z"
   },
   {
    "duration": 566,
    "start_time": "2021-11-29T11:04:22.203Z"
   },
   {
    "duration": 380,
    "start_time": "2021-11-29T11:04:22.771Z"
   },
   {
    "duration": 70,
    "start_time": "2021-11-29T11:04:23.153Z"
   },
   {
    "duration": 67,
    "start_time": "2021-11-29T11:04:23.225Z"
   },
   {
    "duration": 55,
    "start_time": "2021-11-29T11:04:23.294Z"
   },
   {
    "duration": 3,
    "start_time": "2021-11-29T11:24:24.197Z"
   },
   {
    "duration": 237,
    "start_time": "2021-11-29T11:25:36.815Z"
   },
   {
    "duration": 4,
    "start_time": "2021-11-29T11:45:02.681Z"
   },
   {
    "duration": 535,
    "start_time": "2021-11-29T11:51:10.856Z"
   },
   {
    "duration": 359,
    "start_time": "2021-11-29T11:51:11.393Z"
   },
   {
    "duration": 62,
    "start_time": "2021-11-29T11:51:11.755Z"
   },
   {
    "duration": 47,
    "start_time": "2021-11-29T11:51:11.819Z"
   },
   {
    "duration": 67,
    "start_time": "2021-11-29T11:51:11.868Z"
   },
   {
    "duration": 4,
    "start_time": "2021-11-29T11:51:11.936Z"
   },
   {
    "duration": 240,
    "start_time": "2021-11-29T11:51:11.941Z"
   },
   {
    "duration": 368,
    "start_time": "2021-11-29T20:58:01.449Z"
   },
   {
    "duration": 638,
    "start_time": "2021-11-29T20:58:08.095Z"
   },
   {
    "duration": 372,
    "start_time": "2021-11-29T20:58:08.735Z"
   },
   {
    "duration": 148,
    "start_time": "2021-11-29T20:58:09.109Z"
   },
   {
    "duration": 270,
    "start_time": "2021-11-29T20:58:08.989Z"
   },
   {
    "duration": 262,
    "start_time": "2021-11-29T20:58:08.999Z"
   },
   {
    "duration": 260,
    "start_time": "2021-11-29T20:58:09.002Z"
   },
   {
    "duration": 257,
    "start_time": "2021-11-29T20:58:09.006Z"
   },
   {
    "duration": 256,
    "start_time": "2021-11-29T20:58:09.008Z"
   },
   {
    "duration": 256,
    "start_time": "2021-11-29T20:58:09.009Z"
   },
   {
    "duration": 110,
    "start_time": "2021-11-29T20:58:21.335Z"
   },
   {
    "duration": 3,
    "start_time": "2021-11-29T20:58:30.876Z"
   },
   {
    "duration": 374,
    "start_time": "2021-11-29T20:58:31.306Z"
   },
   {
    "duration": 108,
    "start_time": "2021-11-29T20:58:31.809Z"
   },
   {
    "duration": 120,
    "start_time": "2021-11-29T20:59:29.655Z"
   },
   {
    "duration": 385,
    "start_time": "2021-11-29T20:59:42.983Z"
   },
   {
    "duration": 636,
    "start_time": "2021-11-29T20:59:54.198Z"
   },
   {
    "duration": 371,
    "start_time": "2021-11-29T20:59:54.836Z"
   },
   {
    "duration": 639,
    "start_time": "2021-11-29T20:59:55.209Z"
   },
   {
    "duration": 269,
    "start_time": "2021-11-29T20:59:55.581Z"
   },
   {
    "duration": 266,
    "start_time": "2021-11-29T20:59:55.585Z"
   },
   {
    "duration": 259,
    "start_time": "2021-11-29T20:59:55.593Z"
   },
   {
    "duration": 256,
    "start_time": "2021-11-29T20:59:55.597Z"
   },
   {
    "duration": 251,
    "start_time": "2021-11-29T20:59:55.603Z"
   },
   {
    "duration": 3,
    "start_time": "2021-11-29T21:02:29.478Z"
   },
   {
    "duration": 615,
    "start_time": "2021-11-29T21:02:35.649Z"
   },
   {
    "duration": 398,
    "start_time": "2021-11-29T21:02:36.266Z"
   },
   {
    "duration": 4,
    "start_time": "2021-11-29T21:02:36.666Z"
   },
   {
    "duration": 442,
    "start_time": "2021-11-29T21:02:36.672Z"
   },
   {
    "duration": 280,
    "start_time": "2021-11-29T21:02:36.836Z"
   },
   {
    "duration": 276,
    "start_time": "2021-11-29T21:02:36.842Z"
   },
   {
    "duration": 273,
    "start_time": "2021-11-29T21:02:36.846Z"
   },
   {
    "duration": 272,
    "start_time": "2021-11-29T21:02:36.848Z"
   },
   {
    "duration": 272,
    "start_time": "2021-11-29T21:02:36.849Z"
   },
   {
    "duration": 108,
    "start_time": "2021-11-29T21:02:54.843Z"
   },
   {
    "duration": 64,
    "start_time": "2021-11-29T21:03:00.312Z"
   },
   {
    "duration": 54,
    "start_time": "2021-11-29T21:03:35.152Z"
   },
   {
    "duration": 694,
    "start_time": "2021-11-29T21:42:50.912Z"
   },
   {
    "duration": 387,
    "start_time": "2021-11-29T21:42:51.608Z"
   },
   {
    "duration": 76,
    "start_time": "2021-11-29T21:42:51.997Z"
   },
   {
    "duration": 65,
    "start_time": "2021-11-29T21:42:52.075Z"
   },
   {
    "duration": 73,
    "start_time": "2021-11-29T21:42:52.142Z"
   },
   {
    "duration": 3,
    "start_time": "2021-11-29T21:42:52.217Z"
   },
   {
    "duration": 450,
    "start_time": "2021-11-29T21:42:52.222Z"
   },
   {
    "duration": 4,
    "start_time": "2021-11-29T21:47:45.679Z"
   },
   {
    "duration": 54,
    "start_time": "2021-11-29T21:47:51.435Z"
   },
   {
    "duration": 590,
    "start_time": "2021-11-29T21:49:29.346Z"
   },
   {
    "duration": 381,
    "start_time": "2021-11-29T21:49:29.938Z"
   },
   {
    "duration": 3,
    "start_time": "2021-11-29T21:49:30.321Z"
   },
   {
    "duration": 83,
    "start_time": "2021-11-29T21:49:30.326Z"
   },
   {
    "duration": 51,
    "start_time": "2021-11-29T21:49:30.411Z"
   },
   {
    "duration": 70,
    "start_time": "2021-11-29T21:49:30.464Z"
   },
   {
    "duration": 3,
    "start_time": "2021-11-29T21:49:30.536Z"
   },
   {
    "duration": 413,
    "start_time": "2021-11-29T21:49:30.541Z"
   },
   {
    "duration": 640,
    "start_time": "2021-11-29T21:50:38.580Z"
   },
   {
    "duration": 374,
    "start_time": "2021-11-29T21:50:39.222Z"
   },
   {
    "duration": 8,
    "start_time": "2021-11-29T21:50:39.598Z"
   },
   {
    "duration": 65,
    "start_time": "2021-11-29T21:50:39.608Z"
   },
   {
    "duration": 65,
    "start_time": "2021-11-29T21:50:39.675Z"
   },
   {
    "duration": 65,
    "start_time": "2021-11-29T21:50:39.742Z"
   },
   {
    "duration": 3,
    "start_time": "2021-11-29T21:50:39.809Z"
   },
   {
    "duration": 402,
    "start_time": "2021-11-29T21:50:39.814Z"
   },
   {
    "duration": 3,
    "start_time": "2021-11-29T21:53:04.015Z"
   },
   {
    "duration": 55,
    "start_time": "2021-11-29T21:53:06.411Z"
   },
   {
    "duration": 620,
    "start_time": "2021-11-29T21:53:13.215Z"
   },
   {
    "duration": 376,
    "start_time": "2021-11-29T21:53:13.837Z"
   },
   {
    "duration": 3,
    "start_time": "2021-11-29T21:53:14.218Z"
   },
   {
    "duration": 70,
    "start_time": "2021-11-29T21:53:14.223Z"
   },
   {
    "duration": 58,
    "start_time": "2021-11-29T21:53:14.295Z"
   },
   {
    "duration": 72,
    "start_time": "2021-11-29T21:53:14.355Z"
   },
   {
    "duration": 3,
    "start_time": "2021-11-29T21:53:14.429Z"
   },
   {
    "duration": 522,
    "start_time": "2021-11-29T21:53:14.434Z"
   },
   {
    "duration": 650,
    "start_time": "2021-11-29T21:54:21.976Z"
   },
   {
    "duration": 371,
    "start_time": "2021-11-29T21:54:22.628Z"
   },
   {
    "duration": 3,
    "start_time": "2021-11-29T21:54:23.001Z"
   },
   {
    "duration": 71,
    "start_time": "2021-11-29T21:54:23.006Z"
   },
   {
    "duration": 57,
    "start_time": "2021-11-29T21:54:23.079Z"
   },
   {
    "duration": 52,
    "start_time": "2021-11-29T21:54:23.138Z"
   },
   {
    "duration": 4,
    "start_time": "2021-11-29T21:54:23.206Z"
   },
   {
    "duration": 390,
    "start_time": "2021-11-29T21:54:23.212Z"
   },
   {
    "duration": 657,
    "start_time": "2021-11-30T08:40:37.860Z"
   },
   {
    "duration": 325,
    "start_time": "2021-11-30T08:40:38.518Z"
   },
   {
    "duration": 3,
    "start_time": "2021-11-30T08:40:38.845Z"
   },
   {
    "duration": 60,
    "start_time": "2021-11-30T08:40:38.849Z"
   },
   {
    "duration": 43,
    "start_time": "2021-11-30T08:40:38.911Z"
   },
   {
    "duration": 62,
    "start_time": "2021-11-30T08:40:38.956Z"
   },
   {
    "duration": 3,
    "start_time": "2021-11-30T08:40:39.019Z"
   },
   {
    "duration": 543,
    "start_time": "2021-11-30T08:40:39.024Z"
   },
   {
    "duration": 534,
    "start_time": "2021-11-30T08:40:39.034Z"
   },
   {
    "duration": 934,
    "start_time": "2021-11-30T08:41:11.942Z"
   },
   {
    "duration": 319,
    "start_time": "2021-11-30T08:41:12.878Z"
   },
   {
    "duration": 3,
    "start_time": "2021-11-30T08:41:13.199Z"
   },
   {
    "duration": 60,
    "start_time": "2021-11-30T08:41:13.203Z"
   },
   {
    "duration": 52,
    "start_time": "2021-11-30T08:41:13.264Z"
   },
   {
    "duration": 42,
    "start_time": "2021-11-30T08:41:13.318Z"
   },
   {
    "duration": 3,
    "start_time": "2021-11-30T08:41:13.361Z"
   },
   {
    "duration": 607,
    "start_time": "2021-11-30T08:41:13.366Z"
   },
   {
    "duration": 566,
    "start_time": "2021-11-30T08:41:13.409Z"
   },
   {
    "duration": 1009,
    "start_time": "2021-11-30T08:43:43.088Z"
   },
   {
    "duration": 334,
    "start_time": "2021-11-30T08:43:44.099Z"
   },
   {
    "duration": 4,
    "start_time": "2021-11-30T08:43:44.436Z"
   },
   {
    "duration": 74,
    "start_time": "2021-11-30T08:43:44.442Z"
   },
   {
    "duration": 46,
    "start_time": "2021-11-30T08:43:44.517Z"
   },
   {
    "duration": 66,
    "start_time": "2021-11-30T08:43:44.564Z"
   },
   {
    "duration": 2,
    "start_time": "2021-11-30T08:43:44.632Z"
   },
   {
    "duration": 6235,
    "start_time": "2021-11-30T08:43:44.636Z"
   },
   {
    "duration": 561,
    "start_time": "2021-11-30T08:43:50.312Z"
   },
   {
    "duration": 559,
    "start_time": "2021-11-30T08:43:50.314Z"
   },
   {
    "duration": 557,
    "start_time": "2021-11-30T08:43:50.317Z"
   },
   {
    "duration": 3,
    "start_time": "2021-11-30T08:44:20.957Z"
   },
   {
    "duration": 6236,
    "start_time": "2021-11-30T08:44:22.460Z"
   },
   {
    "duration": 2,
    "start_time": "2021-11-30T08:45:08.755Z"
   },
   {
    "duration": 16,
    "start_time": "2021-11-30T08:45:09.624Z"
   },
   {
    "duration": 12,
    "start_time": "2021-11-30T08:45:25.060Z"
   },
   {
    "duration": 940,
    "start_time": "2021-11-30T08:45:49.237Z"
   },
   {
    "duration": 336,
    "start_time": "2021-11-30T08:45:50.178Z"
   },
   {
    "duration": 4,
    "start_time": "2021-11-30T08:45:50.516Z"
   },
   {
    "duration": 66,
    "start_time": "2021-11-30T08:45:50.522Z"
   },
   {
    "duration": 49,
    "start_time": "2021-11-30T08:45:50.590Z"
   },
   {
    "duration": 68,
    "start_time": "2021-11-30T08:45:50.641Z"
   },
   {
    "duration": 3,
    "start_time": "2021-11-30T08:45:50.711Z"
   },
   {
    "duration": 11,
    "start_time": "2021-11-30T08:45:50.717Z"
   },
   {
    "duration": 11,
    "start_time": "2021-11-30T08:45:50.730Z"
   },
   {
    "duration": 17,
    "start_time": "2021-11-30T08:45:50.743Z"
   },
   {
    "duration": 29,
    "start_time": "2021-11-30T08:45:50.761Z"
   },
   {
    "duration": 556,
    "start_time": "2021-11-30T08:45:50.791Z"
   },
   {
    "duration": 447,
    "start_time": "2021-11-30T08:45:50.902Z"
   },
   {
    "duration": 989,
    "start_time": "2021-11-30T08:46:51.386Z"
   },
   {
    "duration": 320,
    "start_time": "2021-11-30T08:46:52.377Z"
   },
   {
    "duration": 3,
    "start_time": "2021-11-30T08:46:52.701Z"
   },
   {
    "duration": 55,
    "start_time": "2021-11-30T08:46:52.705Z"
   },
   {
    "duration": 54,
    "start_time": "2021-11-30T08:46:52.761Z"
   },
   {
    "duration": 43,
    "start_time": "2021-11-30T08:46:52.817Z"
   },
   {
    "duration": 2,
    "start_time": "2021-11-30T08:46:52.862Z"
   },
   {
    "duration": 27,
    "start_time": "2021-11-30T08:46:52.866Z"
   },
   {
    "duration": 10,
    "start_time": "2021-11-30T08:46:52.895Z"
   },
   {
    "duration": 9,
    "start_time": "2021-11-30T08:46:52.907Z"
   },
   {
    "duration": 3,
    "start_time": "2021-11-30T08:46:52.918Z"
   },
   {
    "duration": 548,
    "start_time": "2021-11-30T08:46:52.923Z"
   },
   {
    "duration": 575,
    "start_time": "2021-11-30T08:46:52.898Z"
   },
   {
    "duration": 1008,
    "start_time": "2021-11-30T09:35:23.072Z"
   },
   {
    "duration": 352,
    "start_time": "2021-11-30T09:35:24.081Z"
   },
   {
    "duration": 3,
    "start_time": "2021-11-30T09:35:24.434Z"
   },
   {
    "duration": 64,
    "start_time": "2021-11-30T09:35:24.439Z"
   },
   {
    "duration": 45,
    "start_time": "2021-11-30T09:35:24.505Z"
   },
   {
    "duration": 71,
    "start_time": "2021-11-30T09:35:24.552Z"
   },
   {
    "duration": 3,
    "start_time": "2021-11-30T09:35:24.624Z"
   },
   {
    "duration": 13,
    "start_time": "2021-11-30T09:35:24.629Z"
   },
   {
    "duration": 11,
    "start_time": "2021-11-30T09:35:24.645Z"
   },
   {
    "duration": 30,
    "start_time": "2021-11-30T09:35:24.658Z"
   },
   {
    "duration": 3,
    "start_time": "2021-11-30T09:35:24.690Z"
   },
   {
    "duration": 683,
    "start_time": "2021-11-30T09:35:24.694Z"
   },
   {
    "duration": 414,
    "start_time": "2021-11-30T09:35:24.965Z"
   },
   {
    "duration": 985,
    "start_time": "2021-11-30T09:40:20.381Z"
   },
   {
    "duration": 331,
    "start_time": "2021-11-30T09:40:21.368Z"
   },
   {
    "duration": 3,
    "start_time": "2021-11-30T09:40:21.701Z"
   },
   {
    "duration": 61,
    "start_time": "2021-11-30T09:40:21.705Z"
   },
   {
    "duration": 49,
    "start_time": "2021-11-30T09:40:21.768Z"
   },
   {
    "duration": 46,
    "start_time": "2021-11-30T09:40:21.819Z"
   },
   {
    "duration": 102,
    "start_time": "2021-11-30T09:40:21.867Z"
   },
   {
    "duration": 596,
    "start_time": "2021-11-30T09:40:21.374Z"
   },
   {
    "duration": 593,
    "start_time": "2021-11-30T09:40:21.378Z"
   },
   {
    "duration": 590,
    "start_time": "2021-11-30T09:40:21.382Z"
   },
   {
    "duration": 581,
    "start_time": "2021-11-30T09:40:21.392Z"
   },
   {
    "duration": 573,
    "start_time": "2021-11-30T09:40:21.400Z"
   },
   {
    "duration": 570,
    "start_time": "2021-11-30T09:40:21.404Z"
   },
   {
    "duration": 3,
    "start_time": "2021-11-30T09:40:31.666Z"
   },
   {
    "duration": 1032,
    "start_time": "2021-11-30T09:40:32.790Z"
   },
   {
    "duration": 506,
    "start_time": "2021-11-30T09:40:46.023Z"
   },
   {
    "duration": 3,
    "start_time": "2021-11-30T09:41:11.824Z"
   },
   {
    "duration": 585,
    "start_time": "2021-11-30T09:41:13.125Z"
   },
   {
    "duration": 3,
    "start_time": "2021-11-30T09:41:39.807Z"
   },
   {
    "duration": 4,
    "start_time": "2021-11-30T09:41:40.785Z"
   },
   {
    "duration": 4,
    "start_time": "2021-11-30T09:41:42.034Z"
   },
   {
    "duration": 4,
    "start_time": "2021-11-30T09:41:43.207Z"
   },
   {
    "duration": 3,
    "start_time": "2021-11-30T09:41:50.058Z"
   },
   {
    "duration": 498,
    "start_time": "2021-11-30T09:41:51.710Z"
   },
   {
    "duration": 4,
    "start_time": "2021-11-30T09:42:13.381Z"
   },
   {
    "duration": 2276,
    "start_time": "2021-11-30T09:42:14.502Z"
   },
   {
    "duration": 1015,
    "start_time": "2021-11-30T09:42:29.467Z"
   },
   {
    "duration": 348,
    "start_time": "2021-11-30T09:42:30.484Z"
   },
   {
    "duration": 3,
    "start_time": "2021-11-30T09:42:30.834Z"
   },
   {
    "duration": 109,
    "start_time": "2021-11-30T09:42:30.840Z"
   },
   {
    "duration": 58,
    "start_time": "2021-11-30T09:42:30.951Z"
   },
   {
    "duration": 50,
    "start_time": "2021-11-30T09:42:31.011Z"
   },
   {
    "duration": 3,
    "start_time": "2021-11-30T09:42:31.063Z"
   },
   {
    "duration": 4,
    "start_time": "2021-11-30T09:42:31.087Z"
   },
   {
    "duration": 13,
    "start_time": "2021-11-30T09:42:31.094Z"
   },
   {
    "duration": 11,
    "start_time": "2021-11-30T09:42:31.109Z"
   },
   {
    "duration": 11,
    "start_time": "2021-11-30T09:42:31.122Z"
   },
   {
    "duration": 638,
    "start_time": "2021-11-30T09:42:31.135Z"
   },
   {
    "duration": 504,
    "start_time": "2021-11-30T09:42:31.271Z"
   },
   {
    "duration": 3,
    "start_time": "2021-11-30T09:42:47.431Z"
   },
   {
    "duration": 9,
    "start_time": "2021-11-30T09:42:48.347Z"
   },
   {
    "duration": 10,
    "start_time": "2021-11-30T09:42:57.448Z"
   },
   {
    "duration": 9,
    "start_time": "2021-11-30T09:42:58.164Z"
   },
   {
    "duration": 1015,
    "start_time": "2021-11-30T09:44:03.362Z"
   },
   {
    "duration": 360,
    "start_time": "2021-11-30T09:44:04.379Z"
   },
   {
    "duration": 2,
    "start_time": "2021-11-30T09:44:04.741Z"
   },
   {
    "duration": 81,
    "start_time": "2021-11-30T09:44:04.745Z"
   },
   {
    "duration": 63,
    "start_time": "2021-11-30T09:44:04.828Z"
   },
   {
    "duration": 47,
    "start_time": "2021-11-30T09:44:04.893Z"
   },
   {
    "duration": 3,
    "start_time": "2021-11-30T09:44:04.942Z"
   },
   {
    "duration": 13,
    "start_time": "2021-11-30T09:44:04.947Z"
   },
   {
    "duration": 32,
    "start_time": "2021-11-30T09:44:04.961Z"
   },
   {
    "duration": 11,
    "start_time": "2021-11-30T09:44:04.995Z"
   },
   {
    "duration": 9,
    "start_time": "2021-11-30T09:44:05.007Z"
   },
   {
    "duration": 579,
    "start_time": "2021-11-30T09:44:05.018Z"
   },
   {
    "duration": 604,
    "start_time": "2021-11-30T09:44:04.995Z"
   },
   {
    "duration": 4,
    "start_time": "2021-11-30T09:47:45.164Z"
   },
   {
    "duration": 528,
    "start_time": "2021-11-30T09:47:47.259Z"
   },
   {
    "duration": 953,
    "start_time": "2021-11-30T09:47:58.120Z"
   },
   {
    "duration": 344,
    "start_time": "2021-11-30T09:47:59.075Z"
   },
   {
    "duration": 3,
    "start_time": "2021-11-30T09:47:59.421Z"
   },
   {
    "duration": 72,
    "start_time": "2021-11-30T09:47:59.426Z"
   },
   {
    "duration": 46,
    "start_time": "2021-11-30T09:47:59.500Z"
   },
   {
    "duration": 70,
    "start_time": "2021-11-30T09:47:59.547Z"
   },
   {
    "duration": 3,
    "start_time": "2021-11-30T09:47:59.619Z"
   },
   {
    "duration": 18,
    "start_time": "2021-11-30T09:47:59.623Z"
   },
   {
    "duration": 12,
    "start_time": "2021-11-30T09:47:59.643Z"
   },
   {
    "duration": 14,
    "start_time": "2021-11-30T09:47:59.657Z"
   },
   {
    "duration": 17,
    "start_time": "2021-11-30T09:47:59.672Z"
   },
   {
    "duration": 589,
    "start_time": "2021-11-30T09:47:59.690Z"
   },
   {
    "duration": 562,
    "start_time": "2021-11-30T09:47:59.719Z"
   },
   {
    "duration": 4,
    "start_time": "2021-11-30T09:51:21.513Z"
   },
   {
    "duration": 503,
    "start_time": "2021-11-30T09:51:22.146Z"
   },
   {
    "duration": 3,
    "start_time": "2021-11-30T09:51:31.014Z"
   },
   {
    "duration": 27,
    "start_time": "2021-11-30T09:51:31.942Z"
   },
   {
    "duration": 238,
    "start_time": "2021-11-30T09:51:41.902Z"
   },
   {
    "duration": 4,
    "start_time": "2021-11-30T09:52:13.755Z"
   },
   {
    "duration": 19,
    "start_time": "2021-11-30T09:52:14.684Z"
   },
   {
    "duration": 947,
    "start_time": "2021-11-30T09:52:31.530Z"
   },
   {
    "duration": 338,
    "start_time": "2021-11-30T09:52:32.478Z"
   },
   {
    "duration": 3,
    "start_time": "2021-11-30T09:52:32.818Z"
   },
   {
    "duration": 80,
    "start_time": "2021-11-30T09:52:32.822Z"
   },
   {
    "duration": 43,
    "start_time": "2021-11-30T09:52:32.904Z"
   },
   {
    "duration": 57,
    "start_time": "2021-11-30T09:52:32.949Z"
   },
   {
    "duration": 3,
    "start_time": "2021-11-30T09:52:33.008Z"
   },
   {
    "duration": 10,
    "start_time": "2021-11-30T09:52:33.013Z"
   },
   {
    "duration": 11,
    "start_time": "2021-11-30T09:52:33.025Z"
   },
   {
    "duration": 13,
    "start_time": "2021-11-30T09:52:33.038Z"
   },
   {
    "duration": 7,
    "start_time": "2021-11-30T09:52:33.053Z"
   },
   {
    "duration": 42,
    "start_time": "2021-11-30T09:52:33.061Z"
   },
   {
    "duration": 20,
    "start_time": "2021-11-30T09:52:33.105Z"
   },
   {
    "duration": 18,
    "start_time": "2021-11-30T09:52:33.127Z"
   },
   {
    "duration": 316,
    "start_time": "2021-11-30T09:52:33.147Z"
   },
   {
    "duration": 957,
    "start_time": "2021-11-30T09:53:07.620Z"
   },
   {
    "duration": 341,
    "start_time": "2021-11-30T09:53:08.579Z"
   },
   {
    "duration": 3,
    "start_time": "2021-11-30T09:53:08.923Z"
   },
   {
    "duration": 61,
    "start_time": "2021-11-30T09:53:08.927Z"
   },
   {
    "duration": 43,
    "start_time": "2021-11-30T09:53:08.990Z"
   },
   {
    "duration": 63,
    "start_time": "2021-11-30T09:53:09.034Z"
   },
   {
    "duration": 4,
    "start_time": "2021-11-30T09:53:09.098Z"
   },
   {
    "duration": 30,
    "start_time": "2021-11-30T09:53:09.103Z"
   },
   {
    "duration": 29,
    "start_time": "2021-11-30T09:53:09.135Z"
   },
   {
    "duration": 19,
    "start_time": "2021-11-30T09:53:09.165Z"
   },
   {
    "duration": 313,
    "start_time": "2021-11-30T09:53:09.188Z"
   },
   {
    "duration": 11,
    "start_time": "2021-11-30T09:55:36.977Z"
   },
   {
    "duration": 15,
    "start_time": "2021-11-30T09:55:38.053Z"
   },
   {
    "duration": 13,
    "start_time": "2021-11-30T09:55:38.507Z"
   },
   {
    "duration": 16,
    "start_time": "2021-11-30T09:55:38.886Z"
   },
   {
    "duration": 253,
    "start_time": "2021-11-30T09:55:39.555Z"
   },
   {
    "duration": 3,
    "start_time": "2021-11-30T10:34:12.510Z"
   },
   {
    "duration": 21,
    "start_time": "2021-11-30T10:34:13.294Z"
   },
   {
    "duration": 993,
    "start_time": "2021-11-30T12:19:05.576Z"
   },
   {
    "duration": 322,
    "start_time": "2021-11-30T12:19:06.570Z"
   },
   {
    "duration": 3,
    "start_time": "2021-11-30T12:19:06.894Z"
   },
   {
    "duration": 86,
    "start_time": "2021-11-30T12:19:06.898Z"
   },
   {
    "duration": 42,
    "start_time": "2021-11-30T12:19:06.986Z"
   },
   {
    "duration": 43,
    "start_time": "2021-11-30T12:19:07.030Z"
   },
   {
    "duration": 13,
    "start_time": "2021-11-30T12:19:07.075Z"
   },
   {
    "duration": 64,
    "start_time": "2021-11-30T12:19:07.089Z"
   },
   {
    "duration": 36,
    "start_time": "2021-11-30T12:19:07.155Z"
   },
   {
    "duration": 35,
    "start_time": "2021-11-30T12:19:07.192Z"
   },
   {
    "duration": 315,
    "start_time": "2021-11-30T12:19:07.228Z"
   },
   {
    "duration": 1222,
    "start_time": "2021-11-30T12:23:01.469Z"
   },
   {
    "duration": 731,
    "start_time": "2021-11-30T12:23:10.544Z"
   },
   {
    "duration": 21,
    "start_time": "2021-11-30T12:23:15.617Z"
   },
   {
    "duration": 5,
    "start_time": "2021-11-30T20:53:33.917Z"
   },
   {
    "duration": 1159,
    "start_time": "2021-11-30T20:54:07.174Z"
   },
   {
    "duration": 381,
    "start_time": "2021-11-30T20:54:08.335Z"
   },
   {
    "duration": 4,
    "start_time": "2021-11-30T20:54:08.718Z"
   },
   {
    "duration": 65,
    "start_time": "2021-11-30T20:54:08.724Z"
   },
   {
    "duration": 64,
    "start_time": "2021-11-30T20:54:08.791Z"
   },
   {
    "duration": 77,
    "start_time": "2021-11-30T20:54:08.858Z"
   },
   {
    "duration": 4,
    "start_time": "2021-11-30T20:54:08.937Z"
   },
   {
    "duration": 30,
    "start_time": "2021-11-30T20:54:08.943Z"
   },
   {
    "duration": 41,
    "start_time": "2021-11-30T20:54:08.975Z"
   },
   {
    "duration": 24,
    "start_time": "2021-11-30T20:54:09.018Z"
   },
   {
    "duration": 416,
    "start_time": "2021-11-30T20:54:09.044Z"
   },
   {
    "duration": 1143,
    "start_time": "2021-11-30T21:13:18.085Z"
   },
   {
    "duration": 373,
    "start_time": "2021-11-30T21:13:19.230Z"
   },
   {
    "duration": 3,
    "start_time": "2021-11-30T21:13:19.605Z"
   },
   {
    "duration": 66,
    "start_time": "2021-11-30T21:13:19.610Z"
   },
   {
    "duration": 63,
    "start_time": "2021-11-30T21:13:19.678Z"
   },
   {
    "duration": 63,
    "start_time": "2021-11-30T21:13:19.743Z"
   },
   {
    "duration": 109,
    "start_time": "2021-11-30T21:13:19.808Z"
   },
   {
    "duration": 920,
    "start_time": "2021-11-30T21:13:18.999Z"
   },
   {
    "duration": 913,
    "start_time": "2021-11-30T21:13:19.007Z"
   },
   {
    "duration": 913,
    "start_time": "2021-11-30T21:13:19.008Z"
   },
   {
    "duration": 912,
    "start_time": "2021-11-30T21:13:19.010Z"
   },
   {
    "duration": 146,
    "start_time": "2021-11-30T21:16:22.740Z"
   },
   {
    "duration": 112,
    "start_time": "2021-11-30T21:16:57.027Z"
   },
   {
    "duration": 112,
    "start_time": "2021-11-30T21:17:05.493Z"
   },
   {
    "duration": 4,
    "start_time": "2021-11-30T21:17:32.554Z"
   },
   {
    "duration": 33,
    "start_time": "2021-11-30T21:17:33.795Z"
   },
   {
    "duration": 28,
    "start_time": "2021-11-30T21:17:39.487Z"
   },
   {
    "duration": 32,
    "start_time": "2021-11-30T21:17:43.388Z"
   },
   {
    "duration": 5,
    "start_time": "2021-12-01T07:40:57.568Z"
   },
   {
    "duration": 1060,
    "start_time": "2021-12-01T07:41:04.600Z"
   },
   {
    "duration": 389,
    "start_time": "2021-12-01T07:41:05.662Z"
   },
   {
    "duration": 4,
    "start_time": "2021-12-01T07:41:06.053Z"
   },
   {
    "duration": 67,
    "start_time": "2021-12-01T07:41:06.063Z"
   },
   {
    "duration": 69,
    "start_time": "2021-12-01T07:41:06.132Z"
   },
   {
    "duration": 70,
    "start_time": "2021-12-01T07:41:06.202Z"
   },
   {
    "duration": 4,
    "start_time": "2021-12-01T07:41:06.274Z"
   },
   {
    "duration": 69,
    "start_time": "2021-12-01T07:41:06.281Z"
   },
   {
    "duration": 27,
    "start_time": "2021-12-01T07:41:06.352Z"
   },
   {
    "duration": 24,
    "start_time": "2021-12-01T07:41:06.381Z"
   },
   {
    "duration": 334,
    "start_time": "2021-12-01T07:41:06.407Z"
   },
   {
    "duration": 257,
    "start_time": "2021-12-01T07:41:54.345Z"
   },
   {
    "duration": 320,
    "start_time": "2021-12-01T07:42:29.380Z"
   },
   {
    "duration": 4,
    "start_time": "2021-12-01T07:42:55.448Z"
   },
   {
    "duration": 283,
    "start_time": "2021-12-01T07:42:56.331Z"
   },
   {
    "duration": 17,
    "start_time": "2021-12-01T07:49:37.897Z"
   },
   {
    "duration": 40,
    "start_time": "2021-12-01T07:50:12.933Z"
   },
   {
    "duration": 260,
    "start_time": "2021-12-01T07:50:18.759Z"
   },
   {
    "duration": 1098,
    "start_time": "2021-12-01T07:50:31.286Z"
   },
   {
    "duration": 400,
    "start_time": "2021-12-01T07:50:32.386Z"
   },
   {
    "duration": 3,
    "start_time": "2021-12-01T07:50:32.789Z"
   },
   {
    "duration": 77,
    "start_time": "2021-12-01T07:50:32.794Z"
   },
   {
    "duration": 53,
    "start_time": "2021-12-01T07:50:32.872Z"
   },
   {
    "duration": 75,
    "start_time": "2021-12-01T07:50:32.926Z"
   },
   {
    "duration": 3,
    "start_time": "2021-12-01T07:50:33.003Z"
   },
   {
    "duration": 71,
    "start_time": "2021-12-01T07:50:33.008Z"
   },
   {
    "duration": 351,
    "start_time": "2021-12-01T07:50:33.080Z"
   },
   {
    "duration": 1168,
    "start_time": "2021-12-01T07:50:32.265Z"
   },
   {
    "duration": 1164,
    "start_time": "2021-12-01T07:50:32.271Z"
   },
   {
    "duration": 1162,
    "start_time": "2021-12-01T07:50:32.274Z"
   },
   {
    "duration": 43,
    "start_time": "2021-12-01T10:31:03.061Z"
   },
   {
    "duration": 4,
    "start_time": "2021-12-01T10:38:51.480Z"
   },
   {
    "duration": 31,
    "start_time": "2021-12-01T10:39:03.860Z"
   },
   {
    "duration": 1146,
    "start_time": "2021-12-01T10:39:33.450Z"
   },
   {
    "duration": 393,
    "start_time": "2021-12-01T10:39:34.598Z"
   },
   {
    "duration": 3,
    "start_time": "2021-12-01T10:39:34.994Z"
   },
   {
    "duration": 81,
    "start_time": "2021-12-01T10:39:34.999Z"
   },
   {
    "duration": 53,
    "start_time": "2021-12-01T10:39:35.081Z"
   },
   {
    "duration": 77,
    "start_time": "2021-12-01T10:39:35.136Z"
   },
   {
    "duration": 4,
    "start_time": "2021-12-01T10:39:35.215Z"
   },
   {
    "duration": 55,
    "start_time": "2021-12-01T10:39:35.221Z"
   },
   {
    "duration": 201,
    "start_time": "2021-12-01T10:39:35.280Z"
   },
   {
    "duration": 197,
    "start_time": "2021-12-01T10:39:35.484Z"
   },
   {
    "duration": 433,
    "start_time": "2021-12-01T10:39:35.683Z"
   },
   {
    "duration": 2,
    "start_time": "2021-12-01T10:39:47.093Z"
   },
   {
    "duration": 652,
    "start_time": "2021-12-01T10:40:53.238Z"
   },
   {
    "duration": 4,
    "start_time": "2021-12-01T10:41:05.024Z"
   },
   {
    "duration": 1062,
    "start_time": "2021-12-01T10:41:15.136Z"
   },
   {
    "duration": 388,
    "start_time": "2021-12-01T10:41:16.200Z"
   },
   {
    "duration": 3,
    "start_time": "2021-12-01T10:41:16.590Z"
   },
   {
    "duration": 82,
    "start_time": "2021-12-01T10:41:16.595Z"
   },
   {
    "duration": 54,
    "start_time": "2021-12-01T10:41:16.679Z"
   },
   {
    "duration": 72,
    "start_time": "2021-12-01T10:41:16.735Z"
   },
   {
    "duration": 3,
    "start_time": "2021-12-01T10:41:16.809Z"
   },
   {
    "duration": 150,
    "start_time": "2021-12-01T10:41:16.815Z"
   },
   {
    "duration": 203,
    "start_time": "2021-12-01T10:41:16.968Z"
   },
   {
    "duration": 198,
    "start_time": "2021-12-01T10:41:17.173Z"
   },
   {
    "duration": 90,
    "start_time": "2021-12-01T10:41:17.374Z"
   },
   {
    "duration": 1253,
    "start_time": "2021-12-01T10:42:19.638Z"
   },
   {
    "duration": 384,
    "start_time": "2021-12-01T10:42:20.893Z"
   },
   {
    "duration": 3,
    "start_time": "2021-12-01T10:42:21.282Z"
   },
   {
    "duration": 80,
    "start_time": "2021-12-01T10:42:21.287Z"
   },
   {
    "duration": 60,
    "start_time": "2021-12-01T10:42:21.369Z"
   },
   {
    "duration": 82,
    "start_time": "2021-12-01T10:42:21.431Z"
   },
   {
    "duration": 4,
    "start_time": "2021-12-01T10:42:21.516Z"
   },
   {
    "duration": 747,
    "start_time": "2021-12-01T10:42:21.523Z"
   },
   {
    "duration": 1251,
    "start_time": "2021-12-01T10:42:21.021Z"
   },
   {
    "duration": 1249,
    "start_time": "2021-12-01T10:42:21.024Z"
   },
   {
    "duration": 1238,
    "start_time": "2021-12-01T10:42:21.036Z"
   },
   {
    "duration": 4,
    "start_time": "2021-12-01T11:39:38.859Z"
   },
   {
    "duration": 537,
    "start_time": "2021-12-01T11:39:40.219Z"
   },
   {
    "duration": 4,
    "start_time": "2021-12-01T11:39:52.124Z"
   },
   {
    "duration": 91,
    "start_time": "2021-12-01T11:39:53.072Z"
   },
   {
    "duration": 5,
    "start_time": "2021-12-01T11:40:07.724Z"
   },
   {
    "duration": 4,
    "start_time": "2021-12-01T11:40:10.007Z"
   },
   {
    "duration": 30,
    "start_time": "2021-12-01T11:40:11.154Z"
   },
   {
    "duration": 78,
    "start_time": "2021-12-01T11:40:38.487Z"
   },
   {
    "duration": 49,
    "start_time": "2021-12-01T11:40:43.527Z"
   },
   {
    "duration": 5,
    "start_time": "2021-12-01T11:41:41.331Z"
   },
   {
    "duration": 588,
    "start_time": "2021-12-01T11:41:42.188Z"
   },
   {
    "duration": 4,
    "start_time": "2021-12-01T11:41:51.378Z"
   },
   {
    "duration": 31,
    "start_time": "2021-12-01T11:41:52.152Z"
   },
   {
    "duration": 45,
    "start_time": "2021-12-01T11:41:54.724Z"
   },
   {
    "duration": 105,
    "start_time": "2021-12-01T11:41:55.262Z"
   },
   {
    "duration": 9,
    "start_time": "2021-12-01T11:44:26.261Z"
   },
   {
    "duration": 127,
    "start_time": "2021-12-01T11:44:27.436Z"
   },
   {
    "duration": 7,
    "start_time": "2021-12-01T11:44:34.847Z"
   },
   {
    "duration": 126,
    "start_time": "2021-12-01T11:44:35.638Z"
   },
   {
    "duration": 27,
    "start_time": "2021-12-01T11:44:37.445Z"
   },
   {
    "duration": 143,
    "start_time": "2021-12-01T11:45:08.886Z"
   },
   {
    "duration": 5,
    "start_time": "2021-12-01T11:45:34.577Z"
   },
   {
    "duration": 29,
    "start_time": "2021-12-01T11:45:35.422Z"
   },
   {
    "duration": 5,
    "start_time": "2021-12-01T11:46:03.025Z"
   },
   {
    "duration": 28,
    "start_time": "2021-12-01T11:46:03.661Z"
   },
   {
    "duration": 4,
    "start_time": "2021-12-01T11:46:27.086Z"
   },
   {
    "duration": 25,
    "start_time": "2021-12-01T11:46:27.654Z"
   },
   {
    "duration": 4,
    "start_time": "2021-12-01T11:47:05.031Z"
   },
   {
    "duration": 100,
    "start_time": "2021-12-01T11:47:05.666Z"
   },
   {
    "duration": 5,
    "start_time": "2021-12-01T11:50:14.094Z"
   },
   {
    "duration": 34,
    "start_time": "2021-12-01T11:50:14.438Z"
   },
   {
    "duration": 25,
    "start_time": "2021-12-01T11:50:14.876Z"
   },
   {
    "duration": 32,
    "start_time": "2021-12-01T11:50:15.154Z"
   },
   {
    "duration": 3,
    "start_time": "2021-12-01T11:50:15.541Z"
   },
   {
    "duration": 1407,
    "start_time": "2021-12-01T11:50:23.771Z"
   },
   {
    "duration": 557,
    "start_time": "2021-12-01T11:50:25.181Z"
   },
   {
    "duration": 4,
    "start_time": "2021-12-01T11:50:25.741Z"
   },
   {
    "duration": 109,
    "start_time": "2021-12-01T11:50:25.748Z"
   },
   {
    "duration": 81,
    "start_time": "2021-12-01T11:50:25.864Z"
   },
   {
    "duration": 73,
    "start_time": "2021-12-01T11:50:25.947Z"
   },
   {
    "duration": 4,
    "start_time": "2021-12-01T11:50:26.022Z"
   },
   {
    "duration": 135,
    "start_time": "2021-12-01T11:50:26.029Z"
   },
   {
    "duration": 123,
    "start_time": "2021-12-01T11:50:26.166Z"
   },
   {
    "duration": 194,
    "start_time": "2021-12-01T11:50:26.291Z"
   },
   {
    "duration": 77,
    "start_time": "2021-12-01T11:50:26.488Z"
   },
   {
    "duration": 1017,
    "start_time": "2021-12-01T21:40:01.682Z"
   },
   {
    "duration": 908,
    "start_time": "2021-12-01T21:40:02.701Z"
   },
   {
    "duration": 3,
    "start_time": "2021-12-01T21:40:03.613Z"
   },
   {
    "duration": 71,
    "start_time": "2021-12-01T21:40:03.617Z"
   },
   {
    "duration": 50,
    "start_time": "2021-12-01T21:40:03.690Z"
   },
   {
    "duration": 79,
    "start_time": "2021-12-01T21:40:03.742Z"
   },
   {
    "duration": 4,
    "start_time": "2021-12-01T21:40:03.823Z"
   },
   {
    "duration": 70,
    "start_time": "2021-12-01T21:40:03.829Z"
   },
   {
    "duration": 185,
    "start_time": "2021-12-01T21:40:03.902Z"
   },
   {
    "duration": 120,
    "start_time": "2021-12-01T21:40:04.090Z"
   },
   {
    "duration": 76,
    "start_time": "2021-12-01T21:40:04.212Z"
   },
   {
    "duration": 98,
    "start_time": "2021-12-01T21:40:04.291Z"
   },
   {
    "duration": 3,
    "start_time": "2021-12-01T21:40:17.443Z"
   },
   {
    "duration": 356,
    "start_time": "2021-12-01T21:40:37.569Z"
   },
   {
    "duration": 4,
    "start_time": "2021-12-01T21:41:07.396Z"
   },
   {
    "duration": 4,
    "start_time": "2021-12-01T21:42:52.939Z"
   },
   {
    "duration": 83,
    "start_time": "2021-12-01T21:47:46.324Z"
   },
   {
    "duration": 4,
    "start_time": "2021-12-01T21:48:10.356Z"
   },
   {
    "duration": 4,
    "start_time": "2021-12-01T21:49:00.824Z"
   },
   {
    "duration": 5,
    "start_time": "2021-12-01T21:52:45.560Z"
   },
   {
    "duration": 4,
    "start_time": "2021-12-01T21:53:01.871Z"
   },
   {
    "duration": 243,
    "start_time": "2021-12-01T21:55:19.835Z"
   },
   {
    "duration": 7,
    "start_time": "2021-12-01T21:55:26.356Z"
   },
   {
    "duration": 6,
    "start_time": "2021-12-01T21:56:11.250Z"
   },
   {
    "duration": 7,
    "start_time": "2021-12-01T21:56:27.139Z"
   },
   {
    "duration": 968,
    "start_time": "2021-12-01T22:03:29.420Z"
   },
   {
    "duration": 337,
    "start_time": "2021-12-01T22:03:30.390Z"
   },
   {
    "duration": 4,
    "start_time": "2021-12-01T22:03:30.729Z"
   },
   {
    "duration": 61,
    "start_time": "2021-12-01T22:03:30.735Z"
   },
   {
    "duration": 43,
    "start_time": "2021-12-01T22:03:30.798Z"
   },
   {
    "duration": 68,
    "start_time": "2021-12-01T22:03:30.843Z"
   },
   {
    "duration": 3,
    "start_time": "2021-12-01T22:03:30.913Z"
   },
   {
    "duration": 74,
    "start_time": "2021-12-01T22:03:30.918Z"
   },
   {
    "duration": 118,
    "start_time": "2021-12-01T22:03:30.994Z"
   },
   {
    "duration": 118,
    "start_time": "2021-12-01T22:03:31.189Z"
   },
   {
    "duration": 3,
    "start_time": "2021-12-01T22:03:31.308Z"
   },
   {
    "duration": 6,
    "start_time": "2021-12-01T22:03:31.388Z"
   },
   {
    "duration": 104,
    "start_time": "2021-12-01T22:03:31.396Z"
   },
   {
    "duration": 964,
    "start_time": "2021-12-01T22:10:14.323Z"
   },
   {
    "duration": 332,
    "start_time": "2021-12-01T22:10:15.289Z"
   },
   {
    "duration": 2,
    "start_time": "2021-12-01T22:10:15.624Z"
   },
   {
    "duration": 63,
    "start_time": "2021-12-01T22:10:15.628Z"
   },
   {
    "duration": 43,
    "start_time": "2021-12-01T22:10:15.693Z"
   },
   {
    "duration": 67,
    "start_time": "2021-12-01T22:10:15.737Z"
   },
   {
    "duration": 4,
    "start_time": "2021-12-01T22:10:15.806Z"
   },
   {
    "duration": 80,
    "start_time": "2021-12-01T22:10:15.812Z"
   },
   {
    "duration": 116,
    "start_time": "2021-12-01T22:10:15.895Z"
   },
   {
    "duration": 186,
    "start_time": "2021-12-01T22:10:16.013Z"
   },
   {
    "duration": 4,
    "start_time": "2021-12-01T22:10:16.200Z"
   },
   {
    "duration": 88,
    "start_time": "2021-12-01T22:10:16.205Z"
   },
   {
    "duration": 100,
    "start_time": "2021-12-01T22:10:16.295Z"
   },
   {
    "duration": 1399,
    "start_time": "2021-12-02T08:17:21.792Z"
   },
   {
    "duration": 478,
    "start_time": "2021-12-02T08:17:23.194Z"
   },
   {
    "duration": 9,
    "start_time": "2021-12-02T08:17:23.675Z"
   },
   {
    "duration": 136,
    "start_time": "2021-12-02T08:17:23.688Z"
   },
   {
    "duration": 115,
    "start_time": "2021-12-02T08:17:23.826Z"
   },
   {
    "duration": 120,
    "start_time": "2021-12-02T08:17:23.944Z"
   },
   {
    "duration": 21,
    "start_time": "2021-12-02T08:17:24.067Z"
   },
   {
    "duration": 90,
    "start_time": "2021-12-02T08:17:24.092Z"
   },
   {
    "duration": 126,
    "start_time": "2021-12-02T08:17:24.188Z"
   },
   {
    "duration": 128,
    "start_time": "2021-12-02T08:17:24.383Z"
   },
   {
    "duration": 5,
    "start_time": "2021-12-02T08:17:24.584Z"
   },
   {
    "duration": 96,
    "start_time": "2021-12-02T08:17:24.592Z"
   },
   {
    "duration": 21,
    "start_time": "2021-12-02T08:17:24.691Z"
   },
   {
    "duration": 7,
    "start_time": "2021-12-02T08:18:27.392Z"
   },
   {
    "duration": 1353,
    "start_time": "2021-12-02T08:18:36.335Z"
   },
   {
    "duration": 496,
    "start_time": "2021-12-02T08:18:37.691Z"
   },
   {
    "duration": 4,
    "start_time": "2021-12-02T08:18:38.190Z"
   },
   {
    "duration": 142,
    "start_time": "2021-12-02T08:18:38.197Z"
   },
   {
    "duration": 108,
    "start_time": "2021-12-02T08:18:38.341Z"
   },
   {
    "duration": 111,
    "start_time": "2021-12-02T08:18:38.451Z"
   },
   {
    "duration": 18,
    "start_time": "2021-12-02T08:18:38.565Z"
   },
   {
    "duration": 34,
    "start_time": "2021-12-02T08:18:38.587Z"
   },
   {
    "duration": 58,
    "start_time": "2021-12-02T08:18:38.624Z"
   },
   {
    "duration": 31,
    "start_time": "2021-12-02T08:18:38.685Z"
   },
   {
    "duration": 3,
    "start_time": "2021-12-02T08:18:38.718Z"
   },
   {
    "duration": 7,
    "start_time": "2021-12-02T08:18:38.724Z"
   },
   {
    "duration": 48,
    "start_time": "2021-12-02T08:18:38.734Z"
   },
   {
    "duration": 1346,
    "start_time": "2021-12-02T08:19:48.842Z"
   },
   {
    "duration": 645,
    "start_time": "2021-12-02T08:19:50.191Z"
   },
   {
    "duration": 6,
    "start_time": "2021-12-02T08:19:50.839Z"
   },
   {
    "duration": 156,
    "start_time": "2021-12-02T08:19:50.848Z"
   },
   {
    "duration": 129,
    "start_time": "2021-12-02T08:19:51.007Z"
   },
   {
    "duration": 144,
    "start_time": "2021-12-02T08:19:51.139Z"
   },
   {
    "duration": 7,
    "start_time": "2021-12-02T08:19:51.290Z"
   },
   {
    "duration": 93,
    "start_time": "2021-12-02T08:19:51.302Z"
   },
   {
    "duration": 40,
    "start_time": "2021-12-02T08:19:51.398Z"
   },
   {
    "duration": 59,
    "start_time": "2021-12-02T08:19:51.441Z"
   },
   {
    "duration": 35,
    "start_time": "2021-12-02T08:19:51.504Z"
   },
   {
    "duration": 5,
    "start_time": "2021-12-02T08:19:51.542Z"
   },
   {
    "duration": 7,
    "start_time": "2021-12-02T08:19:51.582Z"
   },
   {
    "duration": 33,
    "start_time": "2021-12-02T08:19:51.593Z"
   },
   {
    "duration": 155,
    "start_time": "2021-12-02T08:21:07.114Z"
   },
   {
    "duration": 49,
    "start_time": "2021-12-02T08:21:09.199Z"
   },
   {
    "duration": 120,
    "start_time": "2021-12-02T08:21:23.581Z"
   },
   {
    "duration": 1700,
    "start_time": "2021-12-02T09:28:26.041Z"
   },
   {
    "duration": 573,
    "start_time": "2021-12-02T09:28:27.745Z"
   },
   {
    "duration": 5,
    "start_time": "2021-12-02T09:28:28.321Z"
   },
   {
    "duration": 133,
    "start_time": "2021-12-02T09:28:28.329Z"
   },
   {
    "duration": 129,
    "start_time": "2021-12-02T09:28:28.465Z"
   },
   {
    "duration": 127,
    "start_time": "2021-12-02T09:28:28.597Z"
   },
   {
    "duration": 6,
    "start_time": "2021-12-02T09:28:28.727Z"
   },
   {
    "duration": 588,
    "start_time": "2021-12-02T09:28:28.735Z"
   },
   {
    "duration": 537,
    "start_time": "2021-12-02T09:28:28.790Z"
   },
   {
    "duration": 536,
    "start_time": "2021-12-02T09:28:28.792Z"
   },
   {
    "duration": 537,
    "start_time": "2021-12-02T09:28:28.793Z"
   },
   {
    "duration": 536,
    "start_time": "2021-12-02T09:28:28.795Z"
   },
   {
    "duration": 537,
    "start_time": "2021-12-02T09:28:28.796Z"
   },
   {
    "duration": 536,
    "start_time": "2021-12-02T09:28:28.798Z"
   },
   {
    "duration": 7,
    "start_time": "2021-12-02T09:30:11.694Z"
   },
   {
    "duration": 66,
    "start_time": "2021-12-02T09:30:12.152Z"
   },
   {
    "duration": 33,
    "start_time": "2021-12-02T09:30:12.802Z"
   },
   {
    "duration": 37,
    "start_time": "2021-12-02T09:30:42.816Z"
   },
   {
    "duration": 34,
    "start_time": "2021-12-02T09:30:43.535Z"
   },
   {
    "duration": 4,
    "start_time": "2021-12-02T09:30:44.182Z"
   },
   {
    "duration": 6,
    "start_time": "2021-12-02T09:30:47.175Z"
   },
   {
    "duration": 10,
    "start_time": "2021-12-02T09:30:48.408Z"
   },
   {
    "duration": 7,
    "start_time": "2021-12-02T09:31:20.752Z"
   },
   {
    "duration": 380,
    "start_time": "2021-12-02T09:31:21.130Z"
   },
   {
    "duration": 245,
    "start_time": "2021-12-02T09:31:21.651Z"
   },
   {
    "duration": 1507,
    "start_time": "2021-12-02T09:31:53.456Z"
   },
   {
    "duration": 694,
    "start_time": "2021-12-02T09:31:54.965Z"
   },
   {
    "duration": 4,
    "start_time": "2021-12-02T09:31:55.663Z"
   },
   {
    "duration": 165,
    "start_time": "2021-12-02T09:31:55.671Z"
   },
   {
    "duration": 172,
    "start_time": "2021-12-02T09:31:55.839Z"
   },
   {
    "duration": 135,
    "start_time": "2021-12-02T09:31:56.014Z"
   },
   {
    "duration": 6,
    "start_time": "2021-12-02T09:31:56.152Z"
   },
   {
    "duration": 665,
    "start_time": "2021-12-02T09:31:56.161Z"
   },
   {
    "duration": 565,
    "start_time": "2021-12-02T09:31:56.266Z"
   },
   {
    "duration": 560,
    "start_time": "2021-12-02T09:31:56.274Z"
   },
   {
    "duration": 558,
    "start_time": "2021-12-02T09:31:56.278Z"
   },
   {
    "duration": 556,
    "start_time": "2021-12-02T09:31:56.282Z"
   },
   {
    "duration": 557,
    "start_time": "2021-12-02T09:31:56.283Z"
   },
   {
    "duration": 558,
    "start_time": "2021-12-02T09:31:56.285Z"
   },
   {
    "duration": 6,
    "start_time": "2021-12-02T09:32:21.923Z"
   },
   {
    "duration": 178,
    "start_time": "2021-12-02T09:32:23.012Z"
   },
   {
    "duration": 424,
    "start_time": "2021-12-02T09:32:27.041Z"
   },
   {
    "duration": 113,
    "start_time": "2021-12-02T09:32:41.368Z"
   },
   {
    "duration": 224,
    "start_time": "2021-12-02T09:32:42.760Z"
   },
   {
    "duration": 3,
    "start_time": "2021-12-02T09:32:43.221Z"
   },
   {
    "duration": 7,
    "start_time": "2021-12-02T09:34:10.017Z"
   },
   {
    "duration": 413,
    "start_time": "2021-12-02T09:34:10.617Z"
   },
   {
    "duration": 1586,
    "start_time": "2021-12-02T11:26:44.237Z"
   },
   {
    "duration": 667,
    "start_time": "2021-12-02T11:26:45.826Z"
   },
   {
    "duration": 10,
    "start_time": "2021-12-02T11:26:46.497Z"
   },
   {
    "duration": 163,
    "start_time": "2021-12-02T11:26:46.511Z"
   },
   {
    "duration": 136,
    "start_time": "2021-12-02T11:26:46.678Z"
   },
   {
    "duration": 149,
    "start_time": "2021-12-02T11:26:46.817Z"
   },
   {
    "duration": 20,
    "start_time": "2021-12-02T11:26:46.970Z"
   },
   {
    "duration": 111,
    "start_time": "2021-12-02T11:26:46.994Z"
   },
   {
    "duration": 179,
    "start_time": "2021-12-02T11:26:47.109Z"
   },
   {
    "duration": 207,
    "start_time": "2021-12-02T11:26:47.291Z"
   },
   {
    "duration": 4,
    "start_time": "2021-12-02T11:26:47.503Z"
   },
   {
    "duration": 96,
    "start_time": "2021-12-02T11:26:47.513Z"
   },
   {
    "duration": 16,
    "start_time": "2021-12-02T11:26:47.613Z"
   },
   {
    "duration": 1453,
    "start_time": "2021-12-02T11:27:17.979Z"
   },
   {
    "duration": 643,
    "start_time": "2021-12-02T11:27:19.440Z"
   },
   {
    "duration": 7,
    "start_time": "2021-12-02T11:27:20.091Z"
   },
   {
    "duration": 199,
    "start_time": "2021-12-02T11:27:20.101Z"
   },
   {
    "duration": 163,
    "start_time": "2021-12-02T11:27:20.303Z"
   },
   {
    "duration": 159,
    "start_time": "2021-12-02T11:27:20.470Z"
   },
   {
    "duration": 7,
    "start_time": "2021-12-02T11:27:20.632Z"
   },
   {
    "duration": 80,
    "start_time": "2021-12-02T11:27:20.642Z"
   },
   {
    "duration": 195,
    "start_time": "2021-12-02T11:27:20.726Z"
   },
   {
    "duration": 258,
    "start_time": "2021-12-02T11:27:20.924Z"
   },
   {
    "duration": 6,
    "start_time": "2021-12-02T11:27:21.186Z"
   },
   {
    "duration": 21,
    "start_time": "2021-12-02T11:27:21.198Z"
   },
   {
    "duration": 27,
    "start_time": "2021-12-02T11:27:21.282Z"
   },
   {
    "duration": 1469,
    "start_time": "2021-12-02T11:32:03.457Z"
   },
   {
    "duration": 529,
    "start_time": "2021-12-02T11:32:04.929Z"
   },
   {
    "duration": 4,
    "start_time": "2021-12-02T11:32:05.462Z"
   },
   {
    "duration": 145,
    "start_time": "2021-12-02T11:32:05.469Z"
   },
   {
    "duration": 115,
    "start_time": "2021-12-02T11:32:05.616Z"
   },
   {
    "duration": 120,
    "start_time": "2021-12-02T11:32:05.734Z"
   },
   {
    "duration": 6,
    "start_time": "2021-12-02T11:32:05.857Z"
   },
   {
    "duration": 549,
    "start_time": "2021-12-02T11:32:05.884Z"
   },
   {
    "duration": 631,
    "start_time": "2021-12-02T11:32:05.807Z"
   },
   {
    "duration": 628,
    "start_time": "2021-12-02T11:32:05.812Z"
   },
   {
    "duration": 627,
    "start_time": "2021-12-02T11:32:05.815Z"
   },
   {
    "duration": 615,
    "start_time": "2021-12-02T11:32:05.828Z"
   },
   {
    "duration": 615,
    "start_time": "2021-12-02T11:32:05.830Z"
   },
   {
    "duration": 610,
    "start_time": "2021-12-02T11:32:05.836Z"
   },
   {
    "duration": 501,
    "start_time": "2021-12-02T11:35:35.257Z"
   },
   {
    "duration": 400,
    "start_time": "2021-12-02T11:35:59.590Z"
   },
   {
    "duration": 37,
    "start_time": "2021-12-02T11:36:10.143Z"
   },
   {
    "duration": 185,
    "start_time": "2021-12-02T11:36:10.796Z"
   },
   {
    "duration": 38,
    "start_time": "2021-12-02T11:36:11.537Z"
   },
   {
    "duration": 7,
    "start_time": "2021-12-02T11:38:09.544Z"
   },
   {
    "duration": 5,
    "start_time": "2021-12-02T11:38:19.530Z"
   },
   {
    "duration": 1776,
    "start_time": "2021-12-02T11:38:26.077Z"
   },
   {
    "duration": 578,
    "start_time": "2021-12-02T11:38:27.857Z"
   },
   {
    "duration": 4,
    "start_time": "2021-12-02T11:38:28.438Z"
   },
   {
    "duration": 125,
    "start_time": "2021-12-02T11:38:28.446Z"
   },
   {
    "duration": 123,
    "start_time": "2021-12-02T11:38:28.574Z"
   },
   {
    "duration": 126,
    "start_time": "2021-12-02T11:38:28.701Z"
   },
   {
    "duration": 7,
    "start_time": "2021-12-02T11:38:28.830Z"
   },
   {
    "duration": 581,
    "start_time": "2021-12-02T11:38:28.840Z"
   },
   {
    "duration": 649,
    "start_time": "2021-12-02T11:38:28.774Z"
   },
   {
    "duration": 640,
    "start_time": "2021-12-02T11:38:28.784Z"
   },
   {
    "duration": 638,
    "start_time": "2021-12-02T11:38:28.788Z"
   },
   {
    "duration": 636,
    "start_time": "2021-12-02T11:38:28.791Z"
   },
   {
    "duration": 632,
    "start_time": "2021-12-02T11:38:28.797Z"
   },
   {
    "duration": 631,
    "start_time": "2021-12-02T11:38:28.799Z"
   },
   {
    "duration": 630,
    "start_time": "2021-12-02T11:38:28.801Z"
   },
   {
    "duration": 1547,
    "start_time": "2021-12-02T11:38:48.627Z"
   },
   {
    "duration": 538,
    "start_time": "2021-12-02T11:38:50.178Z"
   },
   {
    "duration": 5,
    "start_time": "2021-12-02T11:38:50.720Z"
   },
   {
    "duration": 140,
    "start_time": "2021-12-02T11:38:50.729Z"
   },
   {
    "duration": 138,
    "start_time": "2021-12-02T11:38:50.872Z"
   },
   {
    "duration": 125,
    "start_time": "2021-12-02T11:38:51.012Z"
   },
   {
    "duration": 5,
    "start_time": "2021-12-02T11:38:51.141Z"
   },
   {
    "duration": 31,
    "start_time": "2021-12-02T11:38:51.151Z"
   },
   {
    "duration": 35,
    "start_time": "2021-12-02T11:38:51.193Z"
   },
   {
    "duration": 61,
    "start_time": "2021-12-02T11:38:51.231Z"
   },
   {
    "duration": 35,
    "start_time": "2021-12-02T11:38:51.294Z"
   },
   {
    "duration": 4,
    "start_time": "2021-12-02T11:38:51.332Z"
   },
   {
    "duration": 10,
    "start_time": "2021-12-02T11:38:51.339Z"
   },
   {
    "duration": 10,
    "start_time": "2021-12-02T11:38:51.382Z"
   },
   {
    "duration": 5,
    "start_time": "2021-12-02T11:39:17.964Z"
   },
   {
    "duration": 11,
    "start_time": "2021-12-02T11:39:18.409Z"
   },
   {
    "duration": 33,
    "start_time": "2021-12-02T11:39:22.188Z"
   },
   {
    "duration": 29,
    "start_time": "2021-12-02T11:39:29.655Z"
   },
   {
    "duration": 907,
    "start_time": "2021-12-02T11:41:02.839Z"
   },
   {
    "duration": 1575,
    "start_time": "2021-12-02T11:41:34.166Z"
   },
   {
    "duration": 654,
    "start_time": "2021-12-02T11:41:35.744Z"
   },
   {
    "duration": 5,
    "start_time": "2021-12-02T11:41:36.401Z"
   },
   {
    "duration": 135,
    "start_time": "2021-12-02T11:41:36.410Z"
   },
   {
    "duration": 114,
    "start_time": "2021-12-02T11:41:36.548Z"
   },
   {
    "duration": 146,
    "start_time": "2021-12-02T11:41:36.664Z"
   },
   {
    "duration": 6,
    "start_time": "2021-12-02T11:41:36.814Z"
   },
   {
    "duration": 75,
    "start_time": "2021-12-02T11:41:36.824Z"
   },
   {
    "duration": 45,
    "start_time": "2021-12-02T11:41:36.904Z"
   },
   {
    "duration": 62,
    "start_time": "2021-12-02T11:41:36.952Z"
   },
   {
    "duration": 5,
    "start_time": "2021-12-02T11:41:37.016Z"
   },
   {
    "duration": 923,
    "start_time": "2021-12-02T11:41:37.024Z"
   },
   {
    "duration": 668,
    "start_time": "2021-12-02T11:41:37.282Z"
   },
   {
    "duration": 660,
    "start_time": "2021-12-02T11:41:37.291Z"
   },
   {
    "duration": 1513,
    "start_time": "2021-12-02T11:44:08.839Z"
   },
   {
    "duration": 575,
    "start_time": "2021-12-02T11:44:10.355Z"
   },
   {
    "duration": 5,
    "start_time": "2021-12-02T11:44:10.934Z"
   },
   {
    "duration": 155,
    "start_time": "2021-12-02T11:44:10.943Z"
   },
   {
    "duration": 140,
    "start_time": "2021-12-02T11:44:11.103Z"
   },
   {
    "duration": 147,
    "start_time": "2021-12-02T11:44:11.246Z"
   },
   {
    "duration": 13,
    "start_time": "2021-12-02T11:44:11.396Z"
   },
   {
    "duration": 1112,
    "start_time": "2021-12-02T11:44:11.412Z"
   },
   {
    "duration": 665,
    "start_time": "2021-12-02T11:44:11.863Z"
   },
   {
    "duration": 661,
    "start_time": "2021-12-02T11:44:11.868Z"
   },
   {
    "duration": 658,
    "start_time": "2021-12-02T11:44:11.874Z"
   },
   {
    "duration": 658,
    "start_time": "2021-12-02T11:44:11.876Z"
   },
   {
    "duration": 659,
    "start_time": "2021-12-02T11:44:11.877Z"
   },
   {
    "duration": 659,
    "start_time": "2021-12-02T11:44:11.879Z"
   },
   {
    "duration": 6,
    "start_time": "2021-12-02T11:46:46.721Z"
   },
   {
    "duration": 81,
    "start_time": "2021-12-02T11:46:47.906Z"
   },
   {
    "duration": 1481,
    "start_time": "2021-12-02T11:47:29.643Z"
   },
   {
    "duration": 545,
    "start_time": "2021-12-02T11:47:31.127Z"
   },
   {
    "duration": 11,
    "start_time": "2021-12-02T11:47:31.679Z"
   },
   {
    "duration": 145,
    "start_time": "2021-12-02T11:47:31.700Z"
   },
   {
    "duration": 153,
    "start_time": "2021-12-02T11:47:31.848Z"
   },
   {
    "duration": 132,
    "start_time": "2021-12-02T11:47:32.003Z"
   },
   {
    "duration": 7,
    "start_time": "2021-12-02T11:47:32.139Z"
   },
   {
    "duration": 244,
    "start_time": "2021-12-02T11:47:32.149Z"
   },
   {
    "duration": 114,
    "start_time": "2021-12-02T11:47:32.397Z"
   },
   {
    "duration": 203,
    "start_time": "2021-12-02T11:47:32.516Z"
   },
   {
    "duration": 71,
    "start_time": "2021-12-02T11:47:32.728Z"
   },
   {
    "duration": 1144,
    "start_time": "2021-12-02T11:47:32.803Z"
   },
   {
    "duration": 663,
    "start_time": "2021-12-02T11:47:33.287Z"
   },
   {
    "duration": 664,
    "start_time": "2021-12-02T11:47:33.288Z"
   },
   {
    "duration": 1473,
    "start_time": "2021-12-02T11:48:16.819Z"
   },
   {
    "duration": 555,
    "start_time": "2021-12-02T11:48:18.295Z"
   },
   {
    "duration": 5,
    "start_time": "2021-12-02T11:48:18.855Z"
   },
   {
    "duration": 165,
    "start_time": "2021-12-02T11:48:18.864Z"
   },
   {
    "duration": 135,
    "start_time": "2021-12-02T11:48:19.031Z"
   },
   {
    "duration": 144,
    "start_time": "2021-12-02T11:48:19.183Z"
   },
   {
    "duration": 10,
    "start_time": "2021-12-02T11:48:19.330Z"
   },
   {
    "duration": 165,
    "start_time": "2021-12-02T11:48:19.344Z"
   },
   {
    "duration": 182,
    "start_time": "2021-12-02T11:48:19.512Z"
   },
   {
    "duration": 194,
    "start_time": "2021-12-02T11:48:19.714Z"
   },
   {
    "duration": 474,
    "start_time": "2021-12-02T11:48:19.985Z"
   },
   {
    "duration": 551,
    "start_time": "2021-12-02T11:48:19.910Z"
   },
   {
    "duration": 552,
    "start_time": "2021-12-02T11:48:19.911Z"
   },
   {
    "duration": 1637,
    "start_time": "2021-12-02T11:48:51.303Z"
   },
   {
    "duration": 2478,
    "start_time": "2021-12-02T11:48:52.943Z"
   },
   {
    "duration": 5,
    "start_time": "2021-12-02T11:48:55.425Z"
   },
   {
    "duration": 157,
    "start_time": "2021-12-02T11:48:55.433Z"
   },
   {
    "duration": 121,
    "start_time": "2021-12-02T11:48:55.593Z"
   },
   {
    "duration": 128,
    "start_time": "2021-12-02T11:48:55.717Z"
   },
   {
    "duration": 6,
    "start_time": "2021-12-02T11:48:55.848Z"
   },
   {
    "duration": 233,
    "start_time": "2021-12-02T11:48:55.858Z"
   },
   {
    "duration": 94,
    "start_time": "2021-12-02T11:48:56.110Z"
   },
   {
    "duration": 181,
    "start_time": "2021-12-02T11:48:56.214Z"
   },
   {
    "duration": 183,
    "start_time": "2021-12-02T11:48:56.407Z"
   },
   {
    "duration": 28,
    "start_time": "2021-12-02T11:48:56.602Z"
   },
   {
    "duration": 23,
    "start_time": "2021-12-02T11:48:56.696Z"
   },
   {
    "duration": 1715,
    "start_time": "2021-12-02T11:51:55.063Z"
   },
   {
    "duration": 628,
    "start_time": "2021-12-02T11:51:56.783Z"
   },
   {
    "duration": 6,
    "start_time": "2021-12-02T11:51:57.415Z"
   },
   {
    "duration": 142,
    "start_time": "2021-12-02T11:51:57.424Z"
   },
   {
    "duration": 125,
    "start_time": "2021-12-02T11:51:57.569Z"
   },
   {
    "duration": 122,
    "start_time": "2021-12-02T11:51:57.698Z"
   },
   {
    "duration": 7,
    "start_time": "2021-12-02T11:51:57.822Z"
   },
   {
    "duration": 72,
    "start_time": "2021-12-02T11:51:57.831Z"
   },
   {
    "duration": 297,
    "start_time": "2021-12-02T11:51:57.996Z"
   },
   {
    "duration": 98,
    "start_time": "2021-12-02T11:51:58.301Z"
   },
   {
    "duration": 187,
    "start_time": "2021-12-02T11:51:58.402Z"
   },
   {
    "duration": 89,
    "start_time": "2021-12-02T11:51:58.592Z"
   },
   {
    "duration": 15,
    "start_time": "2021-12-02T11:51:58.685Z"
   },
   {
    "duration": 5,
    "start_time": "2021-12-02T12:16:17.846Z"
   },
   {
    "duration": 1934,
    "start_time": "2021-12-02T12:18:01.367Z"
   },
   {
    "duration": 678,
    "start_time": "2021-12-02T12:18:03.304Z"
   },
   {
    "duration": 5,
    "start_time": "2021-12-02T12:18:03.986Z"
   },
   {
    "duration": 180,
    "start_time": "2021-12-02T12:18:03.995Z"
   },
   {
    "duration": 130,
    "start_time": "2021-12-02T12:18:04.178Z"
   },
   {
    "duration": 132,
    "start_time": "2021-12-02T12:18:04.312Z"
   },
   {
    "duration": 7,
    "start_time": "2021-12-02T12:18:04.447Z"
   },
   {
    "duration": 248,
    "start_time": "2021-12-02T12:18:04.458Z"
   },
   {
    "duration": 213,
    "start_time": "2021-12-02T12:18:04.712Z"
   },
   {
    "duration": 108,
    "start_time": "2021-12-02T12:18:04.928Z"
   },
   {
    "duration": 194,
    "start_time": "2021-12-02T12:18:05.095Z"
   },
   {
    "duration": 21,
    "start_time": "2021-12-02T12:18:05.292Z"
   },
   {
    "duration": 78,
    "start_time": "2021-12-02T12:18:05.320Z"
   },
   {
    "duration": 38,
    "start_time": "2021-12-02T12:18:05.402Z"
   },
   {
    "duration": 465,
    "start_time": "2021-12-02T12:19:49.829Z"
   },
   {
    "duration": 4,
    "start_time": "2021-12-02T21:13:41.931Z"
   },
   {
    "duration": 1103,
    "start_time": "2021-12-02T21:13:48.474Z"
   },
   {
    "duration": 902,
    "start_time": "2021-12-02T21:13:49.580Z"
   },
   {
    "duration": 5,
    "start_time": "2021-12-02T21:13:50.484Z"
   },
   {
    "duration": 87,
    "start_time": "2021-12-02T21:13:50.492Z"
   },
   {
    "duration": 64,
    "start_time": "2021-12-02T21:13:50.581Z"
   },
   {
    "duration": 72,
    "start_time": "2021-12-02T21:13:50.647Z"
   },
   {
    "duration": 4,
    "start_time": "2021-12-02T21:13:50.721Z"
   },
   {
    "duration": 109,
    "start_time": "2021-12-02T21:13:50.744Z"
   },
   {
    "duration": 194,
    "start_time": "2021-12-02T21:13:50.856Z"
   },
   {
    "duration": 114,
    "start_time": "2021-12-02T21:13:51.053Z"
   },
   {
    "duration": 199,
    "start_time": "2021-12-02T21:13:51.171Z"
   },
   {
    "duration": 76,
    "start_time": "2021-12-02T21:13:51.373Z"
   },
   {
    "duration": 93,
    "start_time": "2021-12-02T21:13:51.454Z"
   },
   {
    "duration": 27,
    "start_time": "2021-12-02T21:13:51.549Z"
   },
   {
    "duration": 419,
    "start_time": "2021-12-02T21:13:51.578Z"
   },
   {
    "duration": 975,
    "start_time": "2021-12-02T21:16:37.090Z"
   },
   {
    "duration": 360,
    "start_time": "2021-12-02T21:16:38.067Z"
   },
   {
    "duration": 3,
    "start_time": "2021-12-02T21:16:38.430Z"
   },
   {
    "duration": 62,
    "start_time": "2021-12-02T21:16:38.435Z"
   },
   {
    "duration": 69,
    "start_time": "2021-12-02T21:16:38.498Z"
   },
   {
    "duration": 47,
    "start_time": "2021-12-02T21:16:38.568Z"
   },
   {
    "duration": 3,
    "start_time": "2021-12-02T21:16:38.617Z"
   },
   {
    "duration": 433,
    "start_time": "2021-12-02T21:16:38.622Z"
   },
   {
    "duration": 288,
    "start_time": "2021-12-02T21:16:39.058Z"
   },
   {
    "duration": 207,
    "start_time": "2021-12-02T21:16:39.348Z"
   },
   {
    "duration": 185,
    "start_time": "2021-12-02T21:16:39.560Z"
   },
   {
    "duration": 119,
    "start_time": "2021-12-02T21:16:39.748Z"
   },
   {
    "duration": 77,
    "start_time": "2021-12-02T21:16:39.869Z"
   },
   {
    "duration": 95,
    "start_time": "2021-12-02T21:16:39.948Z"
   },
   {
    "duration": 3,
    "start_time": "2021-12-02T21:16:40.045Z"
   },
   {
    "duration": 410,
    "start_time": "2021-12-02T21:16:40.051Z"
   },
   {
    "duration": 997,
    "start_time": "2021-12-02T21:22:17.660Z"
   },
   {
    "duration": 373,
    "start_time": "2021-12-02T21:22:18.659Z"
   },
   {
    "duration": 4,
    "start_time": "2021-12-02T21:22:19.034Z"
   },
   {
    "duration": 79,
    "start_time": "2021-12-02T21:22:19.039Z"
   },
   {
    "duration": 50,
    "start_time": "2021-12-02T21:22:19.120Z"
   },
   {
    "duration": 52,
    "start_time": "2021-12-02T21:22:19.171Z"
   },
   {
    "duration": 20,
    "start_time": "2021-12-02T21:22:19.225Z"
   },
   {
    "duration": 453,
    "start_time": "2021-12-02T21:22:19.247Z"
   },
   {
    "duration": 53,
    "start_time": "2021-12-02T21:22:19.649Z"
   },
   {
    "duration": 48,
    "start_time": "2021-12-02T21:22:19.655Z"
   },
   {
    "duration": 48,
    "start_time": "2021-12-02T21:22:19.657Z"
   },
   {
    "duration": 49,
    "start_time": "2021-12-02T21:22:19.658Z"
   },
   {
    "duration": 48,
    "start_time": "2021-12-02T21:22:19.660Z"
   },
   {
    "duration": 48,
    "start_time": "2021-12-02T21:22:19.662Z"
   },
   {
    "duration": 47,
    "start_time": "2021-12-02T21:22:19.664Z"
   },
   {
    "duration": 48,
    "start_time": "2021-12-02T21:22:19.665Z"
   },
   {
    "duration": 3,
    "start_time": "2021-12-02T21:22:57.917Z"
   },
   {
    "duration": 334,
    "start_time": "2021-12-02T21:22:58.532Z"
   },
   {
    "duration": 961,
    "start_time": "2021-12-02T21:24:27.495Z"
   },
   {
    "duration": 364,
    "start_time": "2021-12-02T21:24:28.458Z"
   },
   {
    "duration": 3,
    "start_time": "2021-12-02T21:24:28.827Z"
   },
   {
    "duration": 60,
    "start_time": "2021-12-02T21:24:28.832Z"
   },
   {
    "duration": 68,
    "start_time": "2021-12-02T21:24:28.894Z"
   },
   {
    "duration": 52,
    "start_time": "2021-12-02T21:24:28.963Z"
   },
   {
    "duration": 4,
    "start_time": "2021-12-02T21:24:29.017Z"
   },
   {
    "duration": 427,
    "start_time": "2021-12-02T21:24:29.023Z"
   },
   {
    "duration": 207,
    "start_time": "2021-12-02T21:24:29.452Z"
   },
   {
    "duration": 193,
    "start_time": "2021-12-02T21:24:29.662Z"
   },
   {
    "duration": 204,
    "start_time": "2021-12-02T21:24:29.857Z"
   },
   {
    "duration": 736,
    "start_time": "2021-12-02T21:24:30.064Z"
   },
   {
    "duration": 74,
    "start_time": "2021-12-02T21:24:30.728Z"
   },
   {
    "duration": 72,
    "start_time": "2021-12-02T21:24:30.731Z"
   },
   {
    "duration": 67,
    "start_time": "2021-12-02T21:24:30.737Z"
   },
   {
    "duration": 61,
    "start_time": "2021-12-02T21:24:30.744Z"
   },
   {
    "duration": 4,
    "start_time": "2021-12-02T21:27:46.753Z"
   },
   {
    "duration": 3,
    "start_time": "2021-12-02T21:28:07.655Z"
   },
   {
    "duration": 5,
    "start_time": "2021-12-02T21:29:16.651Z"
   },
   {
    "duration": 350,
    "start_time": "2021-12-02T21:31:49.341Z"
   },
   {
    "duration": 267,
    "start_time": "2021-12-02T21:31:57.031Z"
   },
   {
    "duration": 1002,
    "start_time": "2021-12-02T21:34:09.258Z"
   },
   {
    "duration": 361,
    "start_time": "2021-12-02T21:34:10.262Z"
   },
   {
    "duration": 3,
    "start_time": "2021-12-02T21:34:10.625Z"
   },
   {
    "duration": 62,
    "start_time": "2021-12-02T21:34:10.630Z"
   },
   {
    "duration": 59,
    "start_time": "2021-12-02T21:34:10.693Z"
   },
   {
    "duration": 49,
    "start_time": "2021-12-02T21:34:10.753Z"
   },
   {
    "duration": 3,
    "start_time": "2021-12-02T21:34:10.804Z"
   },
   {
    "duration": 437,
    "start_time": "2021-12-02T21:34:10.809Z"
   },
   {
    "duration": 209,
    "start_time": "2021-12-02T21:34:11.250Z"
   },
   {
    "duration": 202,
    "start_time": "2021-12-02T21:34:11.545Z"
   },
   {
    "duration": 117,
    "start_time": "2021-12-02T21:34:11.750Z"
   },
   {
    "duration": 4,
    "start_time": "2021-12-02T21:34:11.945Z"
   },
   {
    "duration": 95,
    "start_time": "2021-12-02T21:34:11.952Z"
   },
   {
    "duration": 14,
    "start_time": "2021-12-02T21:34:12.049Z"
   },
   {
    "duration": 17,
    "start_time": "2021-12-02T21:34:12.065Z"
   },
   {
    "duration": 18,
    "start_time": "2021-12-02T21:34:12.083Z"
   },
   {
    "duration": 8,
    "start_time": "2021-12-02T21:34:12.103Z"
   },
   {
    "duration": 13,
    "start_time": "2021-12-02T21:34:12.113Z"
   },
   {
    "duration": 358,
    "start_time": "2021-12-02T21:34:12.127Z"
   },
   {
    "duration": 984,
    "start_time": "2021-12-02T21:35:47.081Z"
   },
   {
    "duration": 371,
    "start_time": "2021-12-02T21:35:48.067Z"
   },
   {
    "duration": 5,
    "start_time": "2021-12-02T21:35:48.440Z"
   },
   {
    "duration": 62,
    "start_time": "2021-12-02T21:35:48.447Z"
   },
   {
    "duration": 70,
    "start_time": "2021-12-02T21:35:48.510Z"
   },
   {
    "duration": 64,
    "start_time": "2021-12-02T21:35:48.582Z"
   },
   {
    "duration": 3,
    "start_time": "2021-12-02T21:35:48.648Z"
   },
   {
    "duration": 394,
    "start_time": "2021-12-02T21:35:48.652Z"
   },
   {
    "duration": 199,
    "start_time": "2021-12-02T21:35:49.049Z"
   },
   {
    "duration": 31,
    "start_time": "2021-12-02T21:35:49.343Z"
   },
   {
    "duration": 118,
    "start_time": "2021-12-02T21:35:49.445Z"
   },
   {
    "duration": 80,
    "start_time": "2021-12-02T21:35:49.565Z"
   },
   {
    "duration": 97,
    "start_time": "2021-12-02T21:35:49.648Z"
   },
   {
    "duration": 5,
    "start_time": "2021-12-02T21:35:49.747Z"
   },
   {
    "duration": 4,
    "start_time": "2021-12-02T21:35:49.753Z"
   },
   {
    "duration": 4,
    "start_time": "2021-12-02T21:35:49.759Z"
   },
   {
    "duration": 9,
    "start_time": "2021-12-02T21:35:49.764Z"
   },
   {
    "duration": 3,
    "start_time": "2021-12-02T21:35:49.774Z"
   },
   {
    "duration": 473,
    "start_time": "2021-12-02T21:35:49.778Z"
   },
   {
    "duration": 5,
    "start_time": "2021-12-02T21:37:30.259Z"
   },
   {
    "duration": 1118,
    "start_time": "2021-12-02T21:37:56.961Z"
   },
   {
    "duration": 376,
    "start_time": "2021-12-02T21:37:58.081Z"
   },
   {
    "duration": 3,
    "start_time": "2021-12-02T21:37:58.459Z"
   },
   {
    "duration": 68,
    "start_time": "2021-12-02T21:37:58.464Z"
   },
   {
    "duration": 51,
    "start_time": "2021-12-02T21:37:58.534Z"
   },
   {
    "duration": 73,
    "start_time": "2021-12-02T21:37:58.587Z"
   },
   {
    "duration": 3,
    "start_time": "2021-12-02T21:37:58.663Z"
   },
   {
    "duration": 378,
    "start_time": "2021-12-02T21:37:58.668Z"
   },
   {
    "duration": 214,
    "start_time": "2021-12-02T21:37:59.050Z"
   },
   {
    "duration": 212,
    "start_time": "2021-12-02T21:37:59.267Z"
   },
   {
    "duration": 115,
    "start_time": "2021-12-02T21:37:59.545Z"
   },
   {
    "duration": 84,
    "start_time": "2021-12-02T21:37:59.663Z"
   },
   {
    "duration": 102,
    "start_time": "2021-12-02T21:37:59.751Z"
   },
   {
    "duration": 4,
    "start_time": "2021-12-02T21:37:59.855Z"
   },
   {
    "duration": 4,
    "start_time": "2021-12-02T21:37:59.861Z"
   },
   {
    "duration": 3,
    "start_time": "2021-12-02T21:37:59.867Z"
   },
   {
    "duration": 10,
    "start_time": "2021-12-02T21:37:59.872Z"
   },
   {
    "duration": 5,
    "start_time": "2021-12-02T21:37:59.884Z"
   },
   {
    "duration": 414,
    "start_time": "2021-12-02T21:37:59.891Z"
   },
   {
    "duration": 14,
    "start_time": "2021-12-02T21:40:44.464Z"
   },
   {
    "duration": 1068,
    "start_time": "2021-12-02T21:41:29.305Z"
   },
   {
    "duration": 382,
    "start_time": "2021-12-02T21:41:30.375Z"
   },
   {
    "duration": 4,
    "start_time": "2021-12-02T21:41:30.759Z"
   },
   {
    "duration": 70,
    "start_time": "2021-12-02T21:41:30.765Z"
   },
   {
    "duration": 56,
    "start_time": "2021-12-02T21:41:30.848Z"
   },
   {
    "duration": 78,
    "start_time": "2021-12-02T21:41:30.906Z"
   },
   {
    "duration": 4,
    "start_time": "2021-12-02T21:41:30.986Z"
   },
   {
    "duration": 366,
    "start_time": "2021-12-02T21:41:30.991Z"
   },
   {
    "duration": 287,
    "start_time": "2021-12-02T21:41:31.360Z"
   },
   {
    "duration": 116,
    "start_time": "2021-12-02T21:41:31.649Z"
   },
   {
    "duration": 179,
    "start_time": "2021-12-02T21:41:31.767Z"
   },
   {
    "duration": 7,
    "start_time": "2021-12-02T21:41:31.948Z"
   },
   {
    "duration": 104,
    "start_time": "2021-12-02T21:41:31.957Z"
   },
   {
    "duration": 7,
    "start_time": "2021-12-02T21:41:32.066Z"
   },
   {
    "duration": 5,
    "start_time": "2021-12-02T21:41:32.075Z"
   },
   {
    "duration": 4,
    "start_time": "2021-12-02T21:41:32.082Z"
   },
   {
    "duration": 9,
    "start_time": "2021-12-02T21:41:32.088Z"
   },
   {
    "duration": 3,
    "start_time": "2021-12-02T21:41:32.099Z"
   },
   {
    "duration": 14,
    "start_time": "2021-12-02T21:41:32.103Z"
   },
   {
    "duration": 340,
    "start_time": "2021-12-02T21:47:07.600Z"
   },
   {
    "duration": 3,
    "start_time": "2021-12-02T21:47:55.414Z"
   },
   {
    "duration": 268,
    "start_time": "2021-12-02T21:47:56.158Z"
   },
   {
    "duration": 4,
    "start_time": "2021-12-02T21:49:25.508Z"
   },
   {
    "duration": 542,
    "start_time": "2021-12-02T21:49:25.923Z"
   },
   {
    "duration": 85,
    "start_time": "2021-12-02T21:49:26.382Z"
   },
   {
    "duration": 529,
    "start_time": "2021-12-02T21:49:26.789Z"
   },
   {
    "duration": 4,
    "start_time": "2021-12-02T21:50:24.092Z"
   },
   {
    "duration": 1138,
    "start_time": "2021-12-02T21:50:29.419Z"
   },
   {
    "duration": 375,
    "start_time": "2021-12-02T21:50:30.559Z"
   },
   {
    "duration": 3,
    "start_time": "2021-12-02T21:50:30.936Z"
   },
   {
    "duration": 65,
    "start_time": "2021-12-02T21:50:30.941Z"
   },
   {
    "duration": 72,
    "start_time": "2021-12-02T21:50:31.008Z"
   },
   {
    "duration": 67,
    "start_time": "2021-12-02T21:50:31.081Z"
   },
   {
    "duration": 4,
    "start_time": "2021-12-02T21:50:31.150Z"
   },
   {
    "duration": 695,
    "start_time": "2021-12-02T21:50:31.156Z"
   },
   {
    "duration": 99,
    "start_time": "2021-12-02T21:50:31.754Z"
   },
   {
    "duration": 98,
    "start_time": "2021-12-02T21:50:31.756Z"
   },
   {
    "duration": 84,
    "start_time": "2021-12-02T21:50:31.771Z"
   },
   {
    "duration": 83,
    "start_time": "2021-12-02T21:50:31.773Z"
   },
   {
    "duration": 76,
    "start_time": "2021-12-02T21:50:31.781Z"
   },
   {
    "duration": 69,
    "start_time": "2021-12-02T21:50:31.789Z"
   },
   {
    "duration": 65,
    "start_time": "2021-12-02T21:50:31.794Z"
   },
   {
    "duration": 52,
    "start_time": "2021-12-02T21:50:31.808Z"
   },
   {
    "duration": 37,
    "start_time": "2021-12-02T21:50:31.824Z"
   },
   {
    "duration": 36,
    "start_time": "2021-12-02T21:50:31.825Z"
   },
   {
    "duration": 30,
    "start_time": "2021-12-02T21:50:31.832Z"
   },
   {
    "duration": 29,
    "start_time": "2021-12-02T21:50:31.834Z"
   },
   {
    "duration": 983,
    "start_time": "2021-12-02T21:51:27.877Z"
   },
   {
    "duration": 362,
    "start_time": "2021-12-02T21:51:28.861Z"
   },
   {
    "duration": 3,
    "start_time": "2021-12-02T21:51:29.225Z"
   },
   {
    "duration": 60,
    "start_time": "2021-12-02T21:51:29.229Z"
   },
   {
    "duration": 66,
    "start_time": "2021-12-02T21:51:29.291Z"
   },
   {
    "duration": 55,
    "start_time": "2021-12-02T21:51:29.359Z"
   },
   {
    "duration": 4,
    "start_time": "2021-12-02T21:51:29.416Z"
   },
   {
    "duration": 750,
    "start_time": "2021-12-02T21:51:29.422Z"
   },
   {
    "duration": 101,
    "start_time": "2021-12-02T21:51:30.074Z"
   },
   {
    "duration": 92,
    "start_time": "2021-12-02T21:51:30.085Z"
   },
   {
    "duration": 90,
    "start_time": "2021-12-02T21:51:30.088Z"
   },
   {
    "duration": 88,
    "start_time": "2021-12-02T21:51:30.091Z"
   },
   {
    "duration": 78,
    "start_time": "2021-12-02T21:51:30.102Z"
   },
   {
    "duration": 78,
    "start_time": "2021-12-02T21:51:30.103Z"
   },
   {
    "duration": 77,
    "start_time": "2021-12-02T21:51:30.105Z"
   },
   {
    "duration": 77,
    "start_time": "2021-12-02T21:51:30.106Z"
   },
   {
    "duration": 68,
    "start_time": "2021-12-02T21:51:30.116Z"
   },
   {
    "duration": 68,
    "start_time": "2021-12-02T21:51:30.118Z"
   },
   {
    "duration": 68,
    "start_time": "2021-12-02T21:51:30.120Z"
   },
   {
    "duration": 66,
    "start_time": "2021-12-02T21:51:30.123Z"
   },
   {
    "duration": 3,
    "start_time": "2021-12-02T21:51:47.448Z"
   },
   {
    "duration": 289,
    "start_time": "2021-12-02T21:51:47.844Z"
   },
   {
    "duration": 1024,
    "start_time": "2021-12-02T21:51:56.034Z"
   },
   {
    "duration": 370,
    "start_time": "2021-12-02T21:51:57.059Z"
   },
   {
    "duration": 4,
    "start_time": "2021-12-02T21:51:57.430Z"
   },
   {
    "duration": 65,
    "start_time": "2021-12-02T21:51:57.436Z"
   },
   {
    "duration": 63,
    "start_time": "2021-12-02T21:51:57.502Z"
   },
   {
    "duration": 50,
    "start_time": "2021-12-02T21:51:57.567Z"
   },
   {
    "duration": 3,
    "start_time": "2021-12-02T21:51:57.619Z"
   },
   {
    "duration": 463,
    "start_time": "2021-12-02T21:51:57.624Z"
   },
   {
    "duration": 88,
    "start_time": "2021-12-02T21:51:58.001Z"
   },
   {
    "duration": 82,
    "start_time": "2021-12-02T21:51:58.008Z"
   },
   {
    "duration": 81,
    "start_time": "2021-12-02T21:51:58.010Z"
   },
   {
    "duration": 80,
    "start_time": "2021-12-02T21:51:58.012Z"
   },
   {
    "duration": 46,
    "start_time": "2021-12-02T21:51:58.048Z"
   },
   {
    "duration": 44,
    "start_time": "2021-12-02T21:51:58.050Z"
   },
   {
    "duration": 44,
    "start_time": "2021-12-02T21:51:58.051Z"
   },
   {
    "duration": 43,
    "start_time": "2021-12-02T21:51:58.053Z"
   },
   {
    "duration": 42,
    "start_time": "2021-12-02T21:51:58.055Z"
   },
   {
    "duration": 41,
    "start_time": "2021-12-02T21:51:58.057Z"
   },
   {
    "duration": 41,
    "start_time": "2021-12-02T21:51:58.058Z"
   },
   {
    "duration": 40,
    "start_time": "2021-12-02T21:51:58.060Z"
   },
   {
    "duration": 4,
    "start_time": "2021-12-02T21:54:10.246Z"
   },
   {
    "duration": 1422,
    "start_time": "2021-12-02T21:54:10.729Z"
   },
   {
    "duration": 1111,
    "start_time": "2021-12-02T21:54:37.847Z"
   },
   {
    "duration": 364,
    "start_time": "2021-12-02T21:54:38.960Z"
   },
   {
    "duration": 4,
    "start_time": "2021-12-02T21:54:39.326Z"
   },
   {
    "duration": 68,
    "start_time": "2021-12-02T21:54:39.332Z"
   },
   {
    "duration": 64,
    "start_time": "2021-12-02T21:54:39.402Z"
   },
   {
    "duration": 52,
    "start_time": "2021-12-02T21:54:39.468Z"
   },
   {
    "duration": 22,
    "start_time": "2021-12-02T21:54:39.522Z"
   },
   {
    "duration": 561,
    "start_time": "2021-12-02T21:54:39.546Z"
   },
   {
    "duration": 98,
    "start_time": "2021-12-02T21:54:40.011Z"
   },
   {
    "duration": 97,
    "start_time": "2021-12-02T21:54:40.013Z"
   },
   {
    "duration": 58,
    "start_time": "2021-12-02T21:54:40.053Z"
   },
   {
    "duration": 55,
    "start_time": "2021-12-02T21:54:40.057Z"
   },
   {
    "duration": 54,
    "start_time": "2021-12-02T21:54:40.059Z"
   },
   {
    "duration": 54,
    "start_time": "2021-12-02T21:54:40.061Z"
   },
   {
    "duration": 54,
    "start_time": "2021-12-02T21:54:40.062Z"
   },
   {
    "duration": 55,
    "start_time": "2021-12-02T21:54:40.063Z"
   },
   {
    "duration": 54,
    "start_time": "2021-12-02T21:54:40.065Z"
   },
   {
    "duration": 51,
    "start_time": "2021-12-02T21:54:40.070Z"
   },
   {
    "duration": 51,
    "start_time": "2021-12-02T21:54:40.071Z"
   },
   {
    "duration": 4,
    "start_time": "2021-12-02T21:55:39.569Z"
   },
   {
    "duration": 395,
    "start_time": "2021-12-02T21:55:40.159Z"
   },
   {
    "duration": 30,
    "start_time": "2021-12-02T21:55:44.337Z"
   },
   {
    "duration": 28,
    "start_time": "2021-12-02T21:55:45.078Z"
   },
   {
    "duration": 28,
    "start_time": "2021-12-02T21:55:45.524Z"
   },
   {
    "duration": 3,
    "start_time": "2021-12-02T21:55:46.226Z"
   },
   {
    "duration": 346,
    "start_time": "2021-12-02T21:55:52.691Z"
   },
   {
    "duration": 4,
    "start_time": "2021-12-02T21:56:05.053Z"
   },
   {
    "duration": 805,
    "start_time": "2021-12-02T21:56:05.786Z"
   },
   {
    "duration": 103,
    "start_time": "2021-12-02T21:56:06.490Z"
   },
   {
    "duration": 1269,
    "start_time": "2021-12-02T21:56:06.902Z"
   },
   {
    "duration": 6,
    "start_time": "2021-12-02T21:56:37.093Z"
   },
   {
    "duration": 245,
    "start_time": "2021-12-02T21:56:37.511Z"
   },
   {
    "duration": 26,
    "start_time": "2021-12-02T21:56:38.509Z"
   },
   {
    "duration": 27,
    "start_time": "2021-12-02T21:56:39.065Z"
   },
   {
    "duration": 27,
    "start_time": "2021-12-02T21:56:39.531Z"
   },
   {
    "duration": 4,
    "start_time": "2021-12-02T21:56:40.047Z"
   },
   {
    "duration": 268,
    "start_time": "2021-12-02T21:56:40.800Z"
   },
   {
    "duration": 5,
    "start_time": "2021-12-02T21:56:46.129Z"
   },
   {
    "duration": 333,
    "start_time": "2021-12-02T21:57:05.521Z"
   },
   {
    "duration": 260,
    "start_time": "2021-12-02T21:57:16.138Z"
   },
   {
    "duration": 956,
    "start_time": "2021-12-02T21:59:16.004Z"
   },
   {
    "duration": 404,
    "start_time": "2021-12-02T21:59:16.962Z"
   },
   {
    "duration": 3,
    "start_time": "2021-12-02T21:59:17.369Z"
   },
   {
    "duration": 71,
    "start_time": "2021-12-02T21:59:17.374Z"
   },
   {
    "duration": 49,
    "start_time": "2021-12-02T21:59:17.447Z"
   },
   {
    "duration": 75,
    "start_time": "2021-12-02T21:59:17.498Z"
   },
   {
    "duration": 3,
    "start_time": "2021-12-02T21:59:17.575Z"
   },
   {
    "duration": 366,
    "start_time": "2021-12-02T21:59:17.581Z"
   },
   {
    "duration": 205,
    "start_time": "2021-12-02T21:59:17.949Z"
   },
   {
    "duration": 202,
    "start_time": "2021-12-02T21:59:18.156Z"
   },
   {
    "duration": 197,
    "start_time": "2021-12-02T21:59:18.361Z"
   },
   {
    "duration": 85,
    "start_time": "2021-12-02T21:59:18.560Z"
   },
   {
    "duration": 98,
    "start_time": "2021-12-02T21:59:18.647Z"
   },
   {
    "duration": 6,
    "start_time": "2021-12-02T21:59:18.747Z"
   },
   {
    "duration": 6,
    "start_time": "2021-12-02T21:59:18.754Z"
   },
   {
    "duration": 5,
    "start_time": "2021-12-02T21:59:18.762Z"
   },
   {
    "duration": 7,
    "start_time": "2021-12-02T21:59:18.769Z"
   },
   {
    "duration": 2,
    "start_time": "2021-12-02T21:59:18.777Z"
   },
   {
    "duration": 13,
    "start_time": "2021-12-02T21:59:18.781Z"
   },
   {
    "duration": 3,
    "start_time": "2021-12-02T22:00:30.688Z"
   },
   {
    "duration": 16,
    "start_time": "2021-12-02T22:00:31.512Z"
   },
   {
    "duration": 966,
    "start_time": "2021-12-02T22:05:12.892Z"
   },
   {
    "duration": 366,
    "start_time": "2021-12-02T22:05:13.860Z"
   },
   {
    "duration": 4,
    "start_time": "2021-12-02T22:05:14.228Z"
   },
   {
    "duration": 61,
    "start_time": "2021-12-02T22:05:14.233Z"
   },
   {
    "duration": 66,
    "start_time": "2021-12-02T22:05:14.295Z"
   },
   {
    "duration": 53,
    "start_time": "2021-12-02T22:05:14.363Z"
   },
   {
    "duration": 3,
    "start_time": "2021-12-02T22:05:14.418Z"
   },
   {
    "duration": 409,
    "start_time": "2021-12-02T22:05:14.444Z"
   },
   {
    "duration": 206,
    "start_time": "2021-12-02T22:05:14.856Z"
   },
   {
    "duration": 197,
    "start_time": "2021-12-02T22:05:15.064Z"
   },
   {
    "duration": 197,
    "start_time": "2021-12-02T22:05:15.263Z"
   },
   {
    "duration": 87,
    "start_time": "2021-12-02T22:05:15.463Z"
   },
   {
    "duration": 95,
    "start_time": "2021-12-02T22:05:15.554Z"
   },
   {
    "duration": 5,
    "start_time": "2021-12-02T22:05:15.650Z"
   },
   {
    "duration": 5,
    "start_time": "2021-12-02T22:05:15.657Z"
   },
   {
    "duration": 4,
    "start_time": "2021-12-02T22:05:15.664Z"
   },
   {
    "duration": 8,
    "start_time": "2021-12-02T22:05:15.670Z"
   },
   {
    "duration": 3,
    "start_time": "2021-12-02T22:05:15.680Z"
   },
   {
    "duration": 68,
    "start_time": "2021-12-02T22:05:15.685Z"
   },
   {
    "duration": 348,
    "start_time": "2021-12-02T22:05:15.755Z"
   },
   {
    "duration": 265,
    "start_time": "2021-12-02T22:06:46.003Z"
   },
   {
    "duration": 285,
    "start_time": "2021-12-02T22:08:52.495Z"
   },
   {
    "duration": 11,
    "start_time": "2021-12-02T22:09:44.777Z"
   },
   {
    "duration": 13,
    "start_time": "2021-12-02T22:09:55.760Z"
   },
   {
    "duration": 22,
    "start_time": "2021-12-02T22:10:16.872Z"
   },
   {
    "duration": 12,
    "start_time": "2021-12-02T22:12:41.725Z"
   },
   {
    "duration": 12,
    "start_time": "2021-12-02T22:14:33.169Z"
   },
   {
    "duration": 108,
    "start_time": "2021-12-02T22:16:15.527Z"
   },
   {
    "duration": 13,
    "start_time": "2021-12-02T22:16:29.854Z"
   },
   {
    "duration": 4,
    "start_time": "2021-12-02T22:21:25.092Z"
   },
   {
    "duration": 298,
    "start_time": "2021-12-02T22:21:54.975Z"
   },
   {
    "duration": 256,
    "start_time": "2021-12-02T22:22:32.651Z"
   },
   {
    "duration": 525,
    "start_time": "2021-12-02T22:22:52.365Z"
   },
   {
    "duration": 3,
    "start_time": "2021-12-02T22:25:58.234Z"
   },
   {
    "duration": 502,
    "start_time": "2021-12-02T22:25:59.389Z"
   },
   {
    "duration": 3,
    "start_time": "2021-12-02T22:26:19.770Z"
   },
   {
    "duration": 522,
    "start_time": "2021-12-02T22:26:20.197Z"
   },
   {
    "duration": 3,
    "start_time": "2021-12-02T22:26:30.656Z"
   },
   {
    "duration": 530,
    "start_time": "2021-12-02T22:26:31.052Z"
   },
   {
    "duration": 4,
    "start_time": "2021-12-02T22:26:39.757Z"
   },
   {
    "duration": 10,
    "start_time": "2021-12-02T22:26:40.347Z"
   },
   {
    "duration": 1048,
    "start_time": "2021-12-02T22:29:12.012Z"
   },
   {
    "duration": 546,
    "start_time": "2021-12-02T22:29:13.062Z"
   },
   {
    "duration": 4,
    "start_time": "2021-12-02T22:29:13.611Z"
   },
   {
    "duration": 100,
    "start_time": "2021-12-02T22:29:13.618Z"
   },
   {
    "duration": 84,
    "start_time": "2021-12-02T22:29:13.721Z"
   },
   {
    "duration": 96,
    "start_time": "2021-12-02T22:29:13.807Z"
   },
   {
    "duration": 5,
    "start_time": "2021-12-02T22:29:13.905Z"
   },
   {
    "duration": 536,
    "start_time": "2021-12-02T22:29:13.914Z"
   },
   {
    "duration": 192,
    "start_time": "2021-12-02T22:29:14.454Z"
   },
   {
    "duration": 117,
    "start_time": "2021-12-02T22:29:14.649Z"
   },
   {
    "duration": 187,
    "start_time": "2021-12-02T22:29:14.768Z"
   },
   {
    "duration": 88,
    "start_time": "2021-12-02T22:29:14.957Z"
   },
   {
    "duration": 9,
    "start_time": "2021-12-02T22:29:15.048Z"
   },
   {
    "duration": 5,
    "start_time": "2021-12-02T22:29:15.145Z"
   },
   {
    "duration": 12,
    "start_time": "2021-12-02T22:29:15.152Z"
   },
   {
    "duration": 7,
    "start_time": "2021-12-02T22:29:15.166Z"
   },
   {
    "duration": 8,
    "start_time": "2021-12-02T22:29:15.175Z"
   },
   {
    "duration": 3,
    "start_time": "2021-12-02T22:29:15.185Z"
   },
   {
    "duration": 11,
    "start_time": "2021-12-02T22:29:15.189Z"
   },
   {
    "duration": 10,
    "start_time": "2021-12-02T22:29:15.202Z"
   },
   {
    "duration": 9,
    "start_time": "2021-12-02T22:29:15.245Z"
   },
   {
    "duration": 89,
    "start_time": "2021-12-02T22:29:58.170Z"
   },
   {
    "duration": 3,
    "start_time": "2021-12-02T22:30:06.480Z"
   },
   {
    "duration": 10,
    "start_time": "2021-12-02T22:30:07.264Z"
   },
   {
    "duration": 9,
    "start_time": "2021-12-02T22:30:09.138Z"
   },
   {
    "duration": 10,
    "start_time": "2021-12-02T22:30:09.630Z"
   },
   {
    "duration": 90,
    "start_time": "2021-12-02T22:30:36.756Z"
   },
   {
    "duration": 110,
    "start_time": "2021-12-02T22:30:53.972Z"
   },
   {
    "duration": 94,
    "start_time": "2021-12-02T22:31:17.617Z"
   },
   {
    "duration": 4,
    "start_time": "2021-12-02T22:31:48.335Z"
   },
   {
    "duration": 9,
    "start_time": "2021-12-02T22:31:49.110Z"
   },
   {
    "duration": 9,
    "start_time": "2021-12-02T22:31:50.036Z"
   },
   {
    "duration": 9,
    "start_time": "2021-12-02T22:31:50.435Z"
   },
   {
    "duration": 4,
    "start_time": "2021-12-02T22:33:08.782Z"
   },
   {
    "duration": 8,
    "start_time": "2021-12-02T22:33:09.652Z"
   },
   {
    "duration": 3,
    "start_time": "2021-12-02T22:33:35.312Z"
   },
   {
    "duration": 9,
    "start_time": "2021-12-02T22:33:35.746Z"
   },
   {
    "duration": 1044,
    "start_time": "2021-12-02T22:40:29.322Z"
   },
   {
    "duration": 389,
    "start_time": "2021-12-02T22:40:30.368Z"
   },
   {
    "duration": 3,
    "start_time": "2021-12-02T22:40:30.759Z"
   },
   {
    "duration": 67,
    "start_time": "2021-12-02T22:40:30.764Z"
   },
   {
    "duration": 74,
    "start_time": "2021-12-02T22:40:30.832Z"
   },
   {
    "duration": 64,
    "start_time": "2021-12-02T22:40:30.908Z"
   },
   {
    "duration": 3,
    "start_time": "2021-12-02T22:40:30.974Z"
   },
   {
    "duration": 379,
    "start_time": "2021-12-02T22:40:30.978Z"
   },
   {
    "duration": 213,
    "start_time": "2021-12-02T22:40:31.361Z"
   },
   {
    "duration": 190,
    "start_time": "2021-12-02T22:40:31.576Z"
   },
   {
    "duration": 206,
    "start_time": "2021-12-02T22:40:31.769Z"
   },
   {
    "duration": 16,
    "start_time": "2021-12-02T22:40:32.044Z"
   },
   {
    "duration": 90,
    "start_time": "2021-12-02T22:40:32.063Z"
   },
   {
    "duration": 7,
    "start_time": "2021-12-02T22:40:32.155Z"
   },
   {
    "duration": 8,
    "start_time": "2021-12-02T22:40:32.164Z"
   },
   {
    "duration": 11,
    "start_time": "2021-12-02T22:40:32.174Z"
   },
   {
    "duration": 17,
    "start_time": "2021-12-02T22:40:32.186Z"
   },
   {
    "duration": 12,
    "start_time": "2021-12-02T22:40:32.205Z"
   },
   {
    "duration": 34,
    "start_time": "2021-12-02T22:40:32.218Z"
   },
   {
    "duration": 17,
    "start_time": "2021-12-02T22:40:32.255Z"
   },
   {
    "duration": 18,
    "start_time": "2021-12-02T22:40:32.274Z"
   },
   {
    "duration": 1030,
    "start_time": "2021-12-03T10:19:05.334Z"
   },
   {
    "duration": 369,
    "start_time": "2021-12-03T10:19:06.365Z"
   },
   {
    "duration": 3,
    "start_time": "2021-12-03T10:19:06.736Z"
   },
   {
    "duration": 59,
    "start_time": "2021-12-03T10:19:06.741Z"
   },
   {
    "duration": 67,
    "start_time": "2021-12-03T10:19:06.801Z"
   },
   {
    "duration": 50,
    "start_time": "2021-12-03T10:19:06.870Z"
   },
   {
    "duration": 3,
    "start_time": "2021-12-03T10:19:06.922Z"
   },
   {
    "duration": 421,
    "start_time": "2021-12-03T10:19:06.928Z"
   },
   {
    "duration": 210,
    "start_time": "2021-12-03T10:19:07.352Z"
   },
   {
    "duration": 202,
    "start_time": "2021-12-03T10:19:07.564Z"
   },
   {
    "duration": 202,
    "start_time": "2021-12-03T10:19:07.845Z"
   },
   {
    "duration": 93,
    "start_time": "2021-12-03T10:19:08.050Z"
   },
   {
    "duration": 6,
    "start_time": "2021-12-03T10:19:08.145Z"
   },
   {
    "duration": 6,
    "start_time": "2021-12-03T10:19:08.152Z"
   },
   {
    "duration": 11,
    "start_time": "2021-12-03T10:19:08.160Z"
   },
   {
    "duration": 7,
    "start_time": "2021-12-03T10:19:08.172Z"
   },
   {
    "duration": 13,
    "start_time": "2021-12-03T10:19:08.180Z"
   },
   {
    "duration": 5,
    "start_time": "2021-12-03T10:19:08.195Z"
   },
   {
    "duration": 14,
    "start_time": "2021-12-03T10:19:08.201Z"
   },
   {
    "duration": 29,
    "start_time": "2021-12-03T10:19:08.217Z"
   },
   {
    "duration": 9,
    "start_time": "2021-12-03T10:19:08.248Z"
   },
   {
    "duration": 3,
    "start_time": "2021-12-03T10:19:08.259Z"
   },
   {
    "duration": 94,
    "start_time": "2021-12-03T10:19:08.265Z"
   },
   {
    "duration": 1046,
    "start_time": "2021-12-03T10:19:41.507Z"
   },
   {
    "duration": 353,
    "start_time": "2021-12-03T10:19:42.554Z"
   },
   {
    "duration": 3,
    "start_time": "2021-12-03T10:19:42.909Z"
   },
   {
    "duration": 61,
    "start_time": "2021-12-03T10:19:42.914Z"
   },
   {
    "duration": 47,
    "start_time": "2021-12-03T10:19:42.977Z"
   },
   {
    "duration": 62,
    "start_time": "2021-12-03T10:19:43.026Z"
   },
   {
    "duration": 4,
    "start_time": "2021-12-03T10:19:43.090Z"
   },
   {
    "duration": 455,
    "start_time": "2021-12-03T10:19:43.095Z"
   },
   {
    "duration": 206,
    "start_time": "2021-12-03T10:19:43.556Z"
   },
   {
    "duration": 120,
    "start_time": "2021-12-03T10:19:43.844Z"
   },
   {
    "duration": 201,
    "start_time": "2021-12-03T10:19:44.046Z"
   },
   {
    "duration": 4,
    "start_time": "2021-12-03T10:19:44.250Z"
   },
   {
    "duration": 6,
    "start_time": "2021-12-03T10:19:44.345Z"
   },
   {
    "duration": 10,
    "start_time": "2021-12-03T10:19:44.353Z"
   },
   {
    "duration": 28,
    "start_time": "2021-12-03T10:19:44.365Z"
   },
   {
    "duration": 21,
    "start_time": "2021-12-03T10:19:44.395Z"
   },
   {
    "duration": 40,
    "start_time": "2021-12-03T10:19:44.418Z"
   },
   {
    "duration": 22,
    "start_time": "2021-12-03T10:19:44.461Z"
   },
   {
    "duration": 43,
    "start_time": "2021-12-03T10:19:44.485Z"
   },
   {
    "duration": 29,
    "start_time": "2021-12-03T10:19:44.530Z"
   },
   {
    "duration": 17,
    "start_time": "2021-12-03T10:19:44.561Z"
   },
   {
    "duration": 26,
    "start_time": "2021-12-03T10:19:44.580Z"
   },
   {
    "duration": 92,
    "start_time": "2021-12-03T10:19:44.607Z"
   },
   {
    "duration": 342,
    "start_time": "2021-12-03T10:28:28.098Z"
   },
   {
    "duration": 285,
    "start_time": "2021-12-03T10:28:47.085Z"
   },
   {
    "duration": 4,
    "start_time": "2021-12-03T10:36:06.316Z"
   },
   {
    "duration": 973,
    "start_time": "2021-12-03T10:36:22.983Z"
   },
   {
    "duration": 346,
    "start_time": "2021-12-03T10:36:23.958Z"
   },
   {
    "duration": 3,
    "start_time": "2021-12-03T10:36:24.308Z"
   },
   {
    "duration": 64,
    "start_time": "2021-12-03T10:36:24.312Z"
   },
   {
    "duration": 66,
    "start_time": "2021-12-03T10:36:24.378Z"
   },
   {
    "duration": 62,
    "start_time": "2021-12-03T10:36:24.446Z"
   },
   {
    "duration": 4,
    "start_time": "2021-12-03T10:36:24.512Z"
   },
   {
    "duration": 335,
    "start_time": "2021-12-03T10:36:24.519Z"
   },
   {
    "duration": 202,
    "start_time": "2021-12-03T10:36:24.857Z"
   },
   {
    "duration": 203,
    "start_time": "2021-12-03T10:36:25.061Z"
   },
   {
    "duration": 190,
    "start_time": "2021-12-03T10:36:25.266Z"
   },
   {
    "duration": 87,
    "start_time": "2021-12-03T10:36:25.458Z"
   },
   {
    "duration": 6,
    "start_time": "2021-12-03T10:36:25.643Z"
   },
   {
    "duration": 13,
    "start_time": "2021-12-03T10:36:25.650Z"
   },
   {
    "duration": 7,
    "start_time": "2021-12-03T10:36:25.665Z"
   },
   {
    "duration": 8,
    "start_time": "2021-12-03T10:36:25.674Z"
   },
   {
    "duration": 15,
    "start_time": "2021-12-03T10:36:25.684Z"
   },
   {
    "duration": 11,
    "start_time": "2021-12-03T10:36:25.700Z"
   },
   {
    "duration": 12,
    "start_time": "2021-12-03T10:36:25.712Z"
   },
   {
    "duration": 22,
    "start_time": "2021-12-03T10:36:25.725Z"
   },
   {
    "duration": 9,
    "start_time": "2021-12-03T10:36:25.748Z"
   },
   {
    "duration": 3,
    "start_time": "2021-12-03T10:36:25.760Z"
   },
   {
    "duration": 346,
    "start_time": "2021-12-03T10:36:25.765Z"
   },
   {
    "duration": 1635,
    "start_time": "2021-12-03T10:36:24.478Z"
   },
   {
    "duration": 6,
    "start_time": "2021-12-03T10:36:32.169Z"
   },
   {
    "duration": 279,
    "start_time": "2021-12-03T10:36:45.584Z"
   },
   {
    "duration": 4541,
    "start_time": "2021-12-03T10:37:14.224Z"
   },
   {
    "duration": 4,
    "start_time": "2021-12-03T10:39:16.175Z"
   },
   {
    "duration": 10,
    "start_time": "2021-12-03T10:39:16.555Z"
   },
   {
    "duration": 10,
    "start_time": "2021-12-03T10:39:17.108Z"
   },
   {
    "duration": 9,
    "start_time": "2021-12-03T10:39:17.523Z"
   },
   {
    "duration": 4,
    "start_time": "2021-12-03T10:39:17.956Z"
   },
   {
    "duration": 4,
    "start_time": "2021-12-03T10:39:49.585Z"
   },
   {
    "duration": 11,
    "start_time": "2021-12-03T10:39:50.224Z"
   },
   {
    "duration": 9,
    "start_time": "2021-12-03T10:39:50.797Z"
   },
   {
    "duration": 10,
    "start_time": "2021-12-03T10:39:51.123Z"
   },
   {
    "duration": 3,
    "start_time": "2021-12-03T10:39:51.519Z"
   },
   {
    "duration": 1007,
    "start_time": "2021-12-03T10:40:00.658Z"
   },
   {
    "duration": 365,
    "start_time": "2021-12-03T10:40:01.667Z"
   },
   {
    "duration": 3,
    "start_time": "2021-12-03T10:40:02.034Z"
   },
   {
    "duration": 118,
    "start_time": "2021-12-03T10:40:02.039Z"
   },
   {
    "duration": 49,
    "start_time": "2021-12-03T10:40:02.159Z"
   },
   {
    "duration": 81,
    "start_time": "2021-12-03T10:40:02.221Z"
   },
   {
    "duration": 5,
    "start_time": "2021-12-03T10:40:02.304Z"
   },
   {
    "duration": 434,
    "start_time": "2021-12-03T10:40:02.312Z"
   },
   {
    "duration": 206,
    "start_time": "2021-12-03T10:40:02.749Z"
   },
   {
    "duration": 203,
    "start_time": "2021-12-03T10:40:02.957Z"
   },
   {
    "duration": 197,
    "start_time": "2021-12-03T10:40:03.162Z"
   },
   {
    "duration": 84,
    "start_time": "2021-12-03T10:40:03.361Z"
   },
   {
    "duration": 106,
    "start_time": "2021-12-03T10:40:03.448Z"
   },
   {
    "duration": 25,
    "start_time": "2021-12-03T10:40:03.556Z"
   },
   {
    "duration": 7,
    "start_time": "2021-12-03T10:40:03.582Z"
   },
   {
    "duration": 4,
    "start_time": "2021-12-03T10:40:03.591Z"
   },
   {
    "duration": 9,
    "start_time": "2021-12-03T10:40:03.597Z"
   },
   {
    "duration": 5,
    "start_time": "2021-12-03T10:40:03.608Z"
   },
   {
    "duration": 19,
    "start_time": "2021-12-03T10:40:03.614Z"
   },
   {
    "duration": 11,
    "start_time": "2021-12-03T10:40:03.634Z"
   },
   {
    "duration": 9,
    "start_time": "2021-12-03T10:40:03.646Z"
   },
   {
    "duration": 7,
    "start_time": "2021-12-03T10:40:03.657Z"
   },
   {
    "duration": 7,
    "start_time": "2021-12-03T10:40:03.667Z"
   },
   {
    "duration": 5203,
    "start_time": "2021-12-03T10:40:03.676Z"
   },
   {
    "duration": 5,
    "start_time": "2021-12-03T10:43:32.980Z"
   },
   {
    "duration": 4490,
    "start_time": "2021-12-03T10:43:33.466Z"
   },
   {
    "duration": 983,
    "start_time": "2021-12-03T10:43:48.687Z"
   },
   {
    "duration": 358,
    "start_time": "2021-12-03T10:43:49.672Z"
   },
   {
    "duration": 3,
    "start_time": "2021-12-03T10:43:50.032Z"
   },
   {
    "duration": 80,
    "start_time": "2021-12-03T10:43:50.037Z"
   },
   {
    "duration": 51,
    "start_time": "2021-12-03T10:43:50.119Z"
   },
   {
    "duration": 54,
    "start_time": "2021-12-03T10:43:50.172Z"
   },
   {
    "duration": 18,
    "start_time": "2021-12-03T10:43:50.227Z"
   },
   {
    "duration": 304,
    "start_time": "2021-12-03T10:43:50.248Z"
   },
   {
    "duration": 206,
    "start_time": "2021-12-03T10:43:50.554Z"
   },
   {
    "duration": 199,
    "start_time": "2021-12-03T10:43:50.763Z"
   },
   {
    "duration": 187,
    "start_time": "2021-12-03T10:43:50.964Z"
   },
   {
    "duration": 93,
    "start_time": "2021-12-03T10:43:51.153Z"
   },
   {
    "duration": 100,
    "start_time": "2021-12-03T10:43:51.248Z"
   },
   {
    "duration": 9,
    "start_time": "2021-12-03T10:43:51.349Z"
   },
   {
    "duration": 5,
    "start_time": "2021-12-03T10:43:51.359Z"
   },
   {
    "duration": 5,
    "start_time": "2021-12-03T10:43:51.366Z"
   },
   {
    "duration": 7,
    "start_time": "2021-12-03T10:43:51.372Z"
   },
   {
    "duration": 5,
    "start_time": "2021-12-03T10:43:51.381Z"
   },
   {
    "duration": 14,
    "start_time": "2021-12-03T10:43:51.388Z"
   },
   {
    "duration": 49,
    "start_time": "2021-12-03T10:43:51.403Z"
   },
   {
    "duration": 9,
    "start_time": "2021-12-03T10:43:51.454Z"
   },
   {
    "duration": 3,
    "start_time": "2021-12-03T10:43:51.464Z"
   },
   {
    "duration": 5,
    "start_time": "2021-12-03T10:43:51.469Z"
   },
   {
    "duration": 984,
    "start_time": "2021-12-03T10:47:36.768Z"
   },
   {
    "duration": 350,
    "start_time": "2021-12-03T10:47:37.754Z"
   },
   {
    "duration": 3,
    "start_time": "2021-12-03T10:47:38.106Z"
   },
   {
    "duration": 62,
    "start_time": "2021-12-03T10:47:38.111Z"
   },
   {
    "duration": 45,
    "start_time": "2021-12-03T10:47:38.175Z"
   },
   {
    "duration": 68,
    "start_time": "2021-12-03T10:47:38.222Z"
   },
   {
    "duration": 4,
    "start_time": "2021-12-03T10:47:38.292Z"
   },
   {
    "duration": 362,
    "start_time": "2021-12-03T10:47:38.298Z"
   },
   {
    "duration": 191,
    "start_time": "2021-12-03T10:47:38.663Z"
   },
   {
    "duration": 121,
    "start_time": "2021-12-03T10:47:38.945Z"
   },
   {
    "duration": 188,
    "start_time": "2021-12-03T10:47:39.068Z"
   },
   {
    "duration": 86,
    "start_time": "2021-12-03T10:47:39.259Z"
   },
   {
    "duration": 97,
    "start_time": "2021-12-03T10:47:39.347Z"
   },
   {
    "duration": 6,
    "start_time": "2021-12-03T10:47:39.446Z"
   },
   {
    "duration": 5,
    "start_time": "2021-12-03T10:47:39.454Z"
   },
   {
    "duration": 4,
    "start_time": "2021-12-03T10:47:39.460Z"
   },
   {
    "duration": 12,
    "start_time": "2021-12-03T10:47:39.466Z"
   },
   {
    "duration": 16,
    "start_time": "2021-12-03T10:47:39.479Z"
   },
   {
    "duration": 3,
    "start_time": "2021-12-03T10:47:39.497Z"
   },
   {
    "duration": 22,
    "start_time": "2021-12-03T10:47:39.502Z"
   },
   {
    "duration": 25,
    "start_time": "2021-12-03T10:47:39.526Z"
   },
   {
    "duration": 9,
    "start_time": "2021-12-03T10:47:39.552Z"
   },
   {
    "duration": 3,
    "start_time": "2021-12-03T10:47:39.564Z"
   },
   {
    "duration": 6,
    "start_time": "2021-12-03T10:47:39.569Z"
   },
   {
    "duration": 3,
    "start_time": "2021-12-03T10:48:03.940Z"
   },
   {
    "duration": 4,
    "start_time": "2021-12-03T10:48:04.455Z"
   },
   {
    "duration": 1032,
    "start_time": "2021-12-03T10:48:22.125Z"
   },
   {
    "duration": 365,
    "start_time": "2021-12-03T10:48:23.159Z"
   },
   {
    "duration": 3,
    "start_time": "2021-12-03T10:48:23.526Z"
   },
   {
    "duration": 71,
    "start_time": "2021-12-03T10:48:23.532Z"
   },
   {
    "duration": 61,
    "start_time": "2021-12-03T10:48:23.605Z"
   },
   {
    "duration": 48,
    "start_time": "2021-12-03T10:48:23.667Z"
   },
   {
    "duration": 4,
    "start_time": "2021-12-03T10:48:23.717Z"
   },
   {
    "duration": 406,
    "start_time": "2021-12-03T10:48:23.744Z"
   },
   {
    "duration": 207,
    "start_time": "2021-12-03T10:48:24.154Z"
   },
   {
    "duration": 195,
    "start_time": "2021-12-03T10:48:24.364Z"
   },
   {
    "duration": 286,
    "start_time": "2021-12-03T10:48:24.562Z"
   },
   {
    "duration": 94,
    "start_time": "2021-12-03T10:48:24.851Z"
   },
   {
    "duration": 8,
    "start_time": "2021-12-03T10:48:24.947Z"
   },
   {
    "duration": 4,
    "start_time": "2021-12-03T10:48:24.957Z"
   },
   {
    "duration": 6,
    "start_time": "2021-12-03T10:48:24.963Z"
   },
   {
    "duration": 6,
    "start_time": "2021-12-03T10:48:24.970Z"
   },
   {
    "duration": 6,
    "start_time": "2021-12-03T10:48:24.978Z"
   },
   {
    "duration": 11,
    "start_time": "2021-12-03T10:48:24.985Z"
   },
   {
    "duration": 3,
    "start_time": "2021-12-03T10:48:24.998Z"
   },
   {
    "duration": 43,
    "start_time": "2021-12-03T10:48:25.003Z"
   },
   {
    "duration": 9,
    "start_time": "2021-12-03T10:48:25.048Z"
   },
   {
    "duration": 8,
    "start_time": "2021-12-03T10:48:25.059Z"
   },
   {
    "duration": 3,
    "start_time": "2021-12-03T10:48:25.069Z"
   },
   {
    "duration": 5,
    "start_time": "2021-12-03T10:48:25.074Z"
   },
   {
    "duration": 4,
    "start_time": "2021-12-03T10:49:14.811Z"
   },
   {
    "duration": 4003,
    "start_time": "2021-12-03T10:49:20.209Z"
   },
   {
    "duration": 22,
    "start_time": "2021-12-03T10:52:04.565Z"
   },
   {
    "duration": 361,
    "start_time": "2021-12-03T10:52:04.589Z"
   },
   {
    "duration": 2,
    "start_time": "2021-12-03T10:52:04.952Z"
   },
   {
    "duration": 63,
    "start_time": "2021-12-03T10:52:04.956Z"
   },
   {
    "duration": 49,
    "start_time": "2021-12-03T10:52:05.021Z"
   },
   {
    "duration": 44,
    "start_time": "2021-12-03T10:52:05.071Z"
   },
   {
    "duration": 3,
    "start_time": "2021-12-03T10:52:05.117Z"
   },
   {
    "duration": 331,
    "start_time": "2021-12-03T10:52:05.121Z"
   },
   {
    "duration": 204,
    "start_time": "2021-12-03T10:52:05.454Z"
   },
   {
    "duration": 205,
    "start_time": "2021-12-03T10:52:05.661Z"
   },
   {
    "duration": 114,
    "start_time": "2021-12-03T10:52:05.951Z"
   },
   {
    "duration": 6,
    "start_time": "2021-12-03T10:52:06.146Z"
   },
   {
    "duration": 165,
    "start_time": "2021-12-03T10:52:06.154Z"
   },
   {
    "duration": 22,
    "start_time": "2021-12-03T10:52:06.320Z"
   },
   {
    "duration": 48,
    "start_time": "2021-12-03T10:52:06.344Z"
   },
   {
    "duration": 28,
    "start_time": "2021-12-03T10:52:06.394Z"
   },
   {
    "duration": 40,
    "start_time": "2021-12-03T10:52:06.423Z"
   },
   {
    "duration": 28,
    "start_time": "2021-12-03T10:52:06.464Z"
   },
   {
    "duration": 67,
    "start_time": "2021-12-03T10:52:06.493Z"
   },
   {
    "duration": 50,
    "start_time": "2021-12-03T10:52:06.562Z"
   },
   {
    "duration": 38,
    "start_time": "2021-12-03T10:52:06.613Z"
   },
   {
    "duration": 32,
    "start_time": "2021-12-03T10:52:06.653Z"
   },
   {
    "duration": 30,
    "start_time": "2021-12-03T10:52:06.687Z"
   },
   {
    "duration": 27,
    "start_time": "2021-12-03T10:52:06.719Z"
   },
   {
    "duration": 4,
    "start_time": "2021-12-03T10:52:44.384Z"
   },
   {
    "duration": 636,
    "start_time": "2021-12-03T10:52:55.776Z"
   },
   {
    "duration": 4,
    "start_time": "2021-12-03T10:53:17.114Z"
   },
   {
    "duration": 547,
    "start_time": "2021-12-03T10:53:18.123Z"
   },
   {
    "duration": 5,
    "start_time": "2021-12-03T10:53:38.852Z"
   },
   {
    "duration": 4437,
    "start_time": "2021-12-03T10:53:39.813Z"
   },
   {
    "duration": 5,
    "start_time": "2021-12-03T10:54:41.999Z"
   },
   {
    "duration": 4363,
    "start_time": "2021-12-03T10:54:42.706Z"
   },
   {
    "duration": 1104,
    "start_time": "2021-12-04T20:10:23.950Z"
   },
   {
    "duration": 395,
    "start_time": "2021-12-04T20:10:25.056Z"
   },
   {
    "duration": 3,
    "start_time": "2021-12-04T20:10:25.453Z"
   },
   {
    "duration": 78,
    "start_time": "2021-12-04T20:10:25.458Z"
   },
   {
    "duration": 54,
    "start_time": "2021-12-04T20:10:25.538Z"
   },
   {
    "duration": 63,
    "start_time": "2021-12-04T20:10:25.606Z"
   },
   {
    "duration": 4,
    "start_time": "2021-12-04T20:10:25.671Z"
   },
   {
    "duration": 343,
    "start_time": "2021-12-04T20:10:25.677Z"
   },
   {
    "duration": 195,
    "start_time": "2021-12-04T20:10:26.024Z"
   },
   {
    "duration": 192,
    "start_time": "2021-12-04T20:10:26.224Z"
   },
   {
    "duration": 197,
    "start_time": "2021-12-04T20:10:26.418Z"
   },
   {
    "duration": 89,
    "start_time": "2021-12-04T20:10:26.618Z"
   },
   {
    "duration": 17,
    "start_time": "2021-12-04T20:10:26.710Z"
   },
   {
    "duration": 77,
    "start_time": "2021-12-04T20:10:26.732Z"
   },
   {
    "duration": 8,
    "start_time": "2021-12-04T20:10:26.810Z"
   },
   {
    "duration": 3,
    "start_time": "2021-12-04T20:10:26.820Z"
   },
   {
    "duration": 5,
    "start_time": "2021-12-04T20:10:26.825Z"
   },
   {
    "duration": 9,
    "start_time": "2021-12-04T20:10:26.831Z"
   },
   {
    "duration": 4,
    "start_time": "2021-12-04T20:10:26.841Z"
   },
   {
    "duration": 12,
    "start_time": "2021-12-04T20:10:26.847Z"
   },
   {
    "duration": 53,
    "start_time": "2021-12-04T20:10:26.861Z"
   },
   {
    "duration": 13,
    "start_time": "2021-12-04T20:10:26.916Z"
   },
   {
    "duration": 3,
    "start_time": "2021-12-04T20:10:26.930Z"
   },
   {
    "duration": 5,
    "start_time": "2021-12-04T20:10:26.935Z"
   },
   {
    "duration": 5907,
    "start_time": "2021-12-04T20:10:26.942Z"
   },
   {
    "duration": 1099,
    "start_time": "2021-12-04T20:13:16.241Z"
   },
   {
    "duration": 398,
    "start_time": "2021-12-04T20:13:17.342Z"
   },
   {
    "duration": 4,
    "start_time": "2021-12-04T20:13:17.742Z"
   },
   {
    "duration": 82,
    "start_time": "2021-12-04T20:13:17.749Z"
   },
   {
    "duration": 52,
    "start_time": "2021-12-04T20:13:17.833Z"
   },
   {
    "duration": 76,
    "start_time": "2021-12-04T20:13:17.886Z"
   },
   {
    "duration": 3,
    "start_time": "2021-12-04T20:13:17.964Z"
   },
   {
    "duration": 345,
    "start_time": "2021-12-04T20:13:17.968Z"
   },
   {
    "duration": 209,
    "start_time": "2021-12-04T20:13:18.317Z"
   },
   {
    "duration": 193,
    "start_time": "2021-12-04T20:13:18.529Z"
   },
   {
    "duration": 191,
    "start_time": "2021-12-04T20:13:18.728Z"
   },
   {
    "duration": 5,
    "start_time": "2021-12-04T20:13:18.921Z"
   },
   {
    "duration": 79,
    "start_time": "2021-12-04T20:13:18.931Z"
   },
   {
    "duration": 11,
    "start_time": "2021-12-04T20:13:19.014Z"
   },
   {
    "duration": 85,
    "start_time": "2021-12-04T20:13:19.028Z"
   },
   {
    "duration": 4,
    "start_time": "2021-12-04T20:13:19.117Z"
   },
   {
    "duration": 6,
    "start_time": "2021-12-04T20:13:19.123Z"
   },
   {
    "duration": 9,
    "start_time": "2021-12-04T20:13:19.130Z"
   },
   {
    "duration": 4,
    "start_time": "2021-12-04T20:13:19.141Z"
   },
   {
    "duration": 12,
    "start_time": "2021-12-04T20:13:19.147Z"
   },
   {
    "duration": 55,
    "start_time": "2021-12-04T20:13:19.160Z"
   },
   {
    "duration": 10,
    "start_time": "2021-12-04T20:13:19.218Z"
   },
   {
    "duration": 2,
    "start_time": "2021-12-04T20:13:19.230Z"
   },
   {
    "duration": 5,
    "start_time": "2021-12-04T20:13:19.234Z"
   },
   {
    "duration": 5592,
    "start_time": "2021-12-04T20:13:19.241Z"
   },
   {
    "duration": 4,
    "start_time": "2021-12-04T20:17:13.543Z"
   },
   {
    "duration": 2073,
    "start_time": "2021-12-04T20:17:15.295Z"
   },
   {
    "duration": 1136,
    "start_time": "2021-12-04T20:22:33.297Z"
   },
   {
    "duration": 379,
    "start_time": "2021-12-04T20:22:34.435Z"
   },
   {
    "duration": 5,
    "start_time": "2021-12-04T20:22:34.817Z"
   },
   {
    "duration": 59,
    "start_time": "2021-12-04T20:22:34.824Z"
   },
   {
    "duration": 78,
    "start_time": "2021-12-04T20:22:34.885Z"
   },
   {
    "duration": 76,
    "start_time": "2021-12-04T20:22:34.965Z"
   },
   {
    "duration": 4,
    "start_time": "2021-12-04T20:22:35.043Z"
   },
   {
    "duration": 274,
    "start_time": "2021-12-04T20:22:35.050Z"
   },
   {
    "duration": 196,
    "start_time": "2021-12-04T20:22:35.326Z"
   },
   {
    "duration": 198,
    "start_time": "2021-12-04T20:22:35.526Z"
   },
   {
    "duration": 182,
    "start_time": "2021-12-04T20:22:35.726Z"
   },
   {
    "duration": 4,
    "start_time": "2021-12-04T20:22:35.910Z"
   },
   {
    "duration": 99,
    "start_time": "2021-12-04T20:22:35.916Z"
   },
   {
    "duration": 6,
    "start_time": "2021-12-04T20:22:36.019Z"
   },
   {
    "duration": 5,
    "start_time": "2021-12-04T20:22:36.027Z"
   },
   {
    "duration": 3,
    "start_time": "2021-12-04T20:22:36.033Z"
   },
   {
    "duration": 7,
    "start_time": "2021-12-04T20:22:36.038Z"
   },
   {
    "duration": 12,
    "start_time": "2021-12-04T20:22:36.047Z"
   },
   {
    "duration": 4,
    "start_time": "2021-12-04T20:22:36.060Z"
   },
   {
    "duration": 50,
    "start_time": "2021-12-04T20:22:36.066Z"
   },
   {
    "duration": 12,
    "start_time": "2021-12-04T20:22:36.120Z"
   },
   {
    "duration": 9,
    "start_time": "2021-12-04T20:22:36.135Z"
   },
   {
    "duration": 3,
    "start_time": "2021-12-04T20:22:36.147Z"
   },
   {
    "duration": 5,
    "start_time": "2021-12-04T20:22:36.152Z"
   },
   {
    "duration": 2051,
    "start_time": "2021-12-04T20:22:36.159Z"
   },
   {
    "duration": 1131,
    "start_time": "2021-12-04T20:24:48.405Z"
   },
   {
    "duration": 390,
    "start_time": "2021-12-04T20:24:49.538Z"
   },
   {
    "duration": 4,
    "start_time": "2021-12-04T20:24:49.930Z"
   },
   {
    "duration": 58,
    "start_time": "2021-12-04T20:24:49.935Z"
   },
   {
    "duration": 59,
    "start_time": "2021-12-04T20:24:50.007Z"
   },
   {
    "duration": 83,
    "start_time": "2021-12-04T20:24:50.068Z"
   },
   {
    "duration": 3,
    "start_time": "2021-12-04T20:24:50.153Z"
   },
   {
    "duration": 272,
    "start_time": "2021-12-04T20:24:50.159Z"
   },
   {
    "duration": 277,
    "start_time": "2021-12-04T20:24:50.434Z"
   },
   {
    "duration": 111,
    "start_time": "2021-12-04T20:24:50.716Z"
   },
   {
    "duration": 187,
    "start_time": "2021-12-04T20:24:50.829Z"
   },
   {
    "duration": 9,
    "start_time": "2021-12-04T20:24:51.105Z"
   },
   {
    "duration": 83,
    "start_time": "2021-12-04T20:24:51.129Z"
   },
   {
    "duration": 6,
    "start_time": "2021-12-04T20:24:51.223Z"
   },
   {
    "duration": 7,
    "start_time": "2021-12-04T20:24:51.231Z"
   },
   {
    "duration": 5,
    "start_time": "2021-12-04T20:24:51.240Z"
   },
   {
    "duration": 10,
    "start_time": "2021-12-04T20:24:51.247Z"
   },
   {
    "duration": 10,
    "start_time": "2021-12-04T20:24:51.258Z"
   },
   {
    "duration": 8,
    "start_time": "2021-12-04T20:24:51.270Z"
   },
   {
    "duration": 35,
    "start_time": "2021-12-04T20:24:51.280Z"
   },
   {
    "duration": 10,
    "start_time": "2021-12-04T20:24:51.319Z"
   },
   {
    "duration": 11,
    "start_time": "2021-12-04T20:24:51.332Z"
   },
   {
    "duration": 4,
    "start_time": "2021-12-04T20:24:51.346Z"
   },
   {
    "duration": 6,
    "start_time": "2021-12-04T20:24:51.352Z"
   },
   {
    "duration": 2127,
    "start_time": "2021-12-04T20:24:51.360Z"
   },
   {
    "duration": 4,
    "start_time": "2021-12-04T20:29:54.131Z"
   },
   {
    "duration": 1917,
    "start_time": "2021-12-04T20:29:54.584Z"
   },
   {
    "duration": 5,
    "start_time": "2021-12-04T20:31:06.769Z"
   },
   {
    "duration": 10,
    "start_time": "2021-12-04T20:31:07.182Z"
   },
   {
    "duration": 4,
    "start_time": "2021-12-04T20:31:09.104Z"
   },
   {
    "duration": 4,
    "start_time": "2021-12-04T20:31:09.584Z"
   },
   {
    "duration": 1983,
    "start_time": "2021-12-04T20:31:13.176Z"
   },
   {
    "duration": 10,
    "start_time": "2021-12-04T20:31:28.619Z"
   },
   {
    "duration": 1966,
    "start_time": "2021-12-04T20:31:29.175Z"
   },
   {
    "duration": 1077,
    "start_time": "2021-12-04T20:31:37.749Z"
   },
   {
    "duration": 390,
    "start_time": "2021-12-04T20:31:38.829Z"
   },
   {
    "duration": 4,
    "start_time": "2021-12-04T20:31:39.221Z"
   },
   {
    "duration": 82,
    "start_time": "2021-12-04T20:31:39.227Z"
   },
   {
    "duration": 55,
    "start_time": "2021-12-04T20:31:39.312Z"
   },
   {
    "duration": 84,
    "start_time": "2021-12-04T20:31:39.369Z"
   },
   {
    "duration": 5,
    "start_time": "2021-12-04T20:31:39.455Z"
   },
   {
    "duration": 461,
    "start_time": "2021-12-04T20:31:39.463Z"
   },
   {
    "duration": 202,
    "start_time": "2021-12-04T20:31:39.928Z"
   },
   {
    "duration": 185,
    "start_time": "2021-12-04T20:31:40.133Z"
   },
   {
    "duration": 202,
    "start_time": "2021-12-04T20:31:40.321Z"
   },
   {
    "duration": 80,
    "start_time": "2021-12-04T20:31:40.526Z"
   },
   {
    "duration": 12,
    "start_time": "2021-12-04T20:31:40.613Z"
   },
   {
    "duration": 83,
    "start_time": "2021-12-04T20:31:40.628Z"
   },
   {
    "duration": 8,
    "start_time": "2021-12-04T20:31:40.716Z"
   },
   {
    "duration": 3,
    "start_time": "2021-12-04T20:31:40.727Z"
   },
   {
    "duration": 5,
    "start_time": "2021-12-04T20:31:40.732Z"
   },
   {
    "duration": 9,
    "start_time": "2021-12-04T20:31:40.739Z"
   },
   {
    "duration": 4,
    "start_time": "2021-12-04T20:31:40.750Z"
   },
   {
    "duration": 11,
    "start_time": "2021-12-04T20:31:40.756Z"
   },
   {
    "duration": 44,
    "start_time": "2021-12-04T20:31:40.769Z"
   },
   {
    "duration": 7,
    "start_time": "2021-12-04T20:31:40.816Z"
   },
   {
    "duration": 2066,
    "start_time": "2021-12-04T20:31:40.827Z"
   },
   {
    "duration": 5,
    "start_time": "2021-12-04T20:32:48.410Z"
   },
   {
    "duration": 13,
    "start_time": "2021-12-04T20:32:48.806Z"
   },
   {
    "duration": 4,
    "start_time": "2021-12-04T20:33:00.167Z"
   },
   {
    "duration": 11,
    "start_time": "2021-12-04T20:33:00.571Z"
   },
   {
    "duration": 6,
    "start_time": "2021-12-04T20:33:15.629Z"
   },
   {
    "duration": 2039,
    "start_time": "2021-12-04T20:33:16.178Z"
   },
   {
    "duration": 5,
    "start_time": "2021-12-04T20:34:40.094Z"
   },
   {
    "duration": 1207,
    "start_time": "2021-12-04T20:34:42.247Z"
   },
   {
    "duration": 1559,
    "start_time": "2021-12-04T20:34:51.994Z"
   },
   {
    "duration": 414,
    "start_time": "2021-12-04T20:34:53.555Z"
   },
   {
    "duration": 3,
    "start_time": "2021-12-04T20:34:53.971Z"
   },
   {
    "duration": 77,
    "start_time": "2021-12-04T20:34:53.975Z"
   },
   {
    "duration": 66,
    "start_time": "2021-12-04T20:34:54.054Z"
   },
   {
    "duration": 53,
    "start_time": "2021-12-04T20:34:54.121Z"
   },
   {
    "duration": 8,
    "start_time": "2021-12-04T20:34:54.176Z"
   },
   {
    "duration": 428,
    "start_time": "2021-12-04T20:34:54.187Z"
   },
   {
    "duration": 289,
    "start_time": "2021-12-04T20:34:54.618Z"
   },
   {
    "duration": 185,
    "start_time": "2021-12-04T20:34:54.924Z"
   },
   {
    "duration": 125,
    "start_time": "2021-12-04T20:34:55.112Z"
   },
   {
    "duration": 5,
    "start_time": "2021-12-04T20:34:55.307Z"
   },
   {
    "duration": 93,
    "start_time": "2021-12-04T20:34:55.314Z"
   },
   {
    "duration": 4,
    "start_time": "2021-12-04T20:34:55.409Z"
   },
   {
    "duration": 8,
    "start_time": "2021-12-04T20:34:55.415Z"
   },
   {
    "duration": 4,
    "start_time": "2021-12-04T20:34:55.425Z"
   },
   {
    "duration": 8,
    "start_time": "2021-12-04T20:34:55.431Z"
   },
   {
    "duration": 16,
    "start_time": "2021-12-04T20:34:55.441Z"
   },
   {
    "duration": 5,
    "start_time": "2021-12-04T20:34:55.459Z"
   },
   {
    "duration": 11,
    "start_time": "2021-12-04T20:34:55.465Z"
   },
   {
    "duration": 5,
    "start_time": "2021-12-04T20:34:55.508Z"
   },
   {
    "duration": 6,
    "start_time": "2021-12-04T20:34:55.515Z"
   },
   {
    "duration": 1342,
    "start_time": "2021-12-04T20:34:55.523Z"
   },
   {
    "duration": 5,
    "start_time": "2021-12-04T20:37:07.937Z"
   },
   {
    "duration": 776,
    "start_time": "2021-12-04T20:37:17.183Z"
   },
   {
    "duration": 4,
    "start_time": "2021-12-04T20:37:32.850Z"
   },
   {
    "duration": 2663,
    "start_time": "2021-12-04T20:37:33.264Z"
   },
   {
    "duration": 5,
    "start_time": "2021-12-04T20:37:42.484Z"
   },
   {
    "duration": 4310,
    "start_time": "2021-12-04T20:37:42.950Z"
   },
   {
    "duration": 5,
    "start_time": "2021-12-04T20:38:15.446Z"
   },
   {
    "duration": 6,
    "start_time": "2021-12-04T20:38:20.578Z"
   },
   {
    "duration": 6787,
    "start_time": "2021-12-04T20:38:20.585Z"
   },
   {
    "duration": 5,
    "start_time": "2021-12-04T20:38:44.668Z"
   },
   {
    "duration": 4625,
    "start_time": "2021-12-04T20:38:47.202Z"
   },
   {
    "duration": 1088,
    "start_time": "2021-12-04T20:39:17.047Z"
   },
   {
    "duration": 458,
    "start_time": "2021-12-04T20:39:18.138Z"
   },
   {
    "duration": 3,
    "start_time": "2021-12-04T20:39:18.599Z"
   },
   {
    "duration": 70,
    "start_time": "2021-12-04T20:39:18.605Z"
   },
   {
    "duration": 71,
    "start_time": "2021-12-04T20:39:18.677Z"
   },
   {
    "duration": 74,
    "start_time": "2021-12-04T20:39:18.751Z"
   },
   {
    "duration": 4,
    "start_time": "2021-12-04T20:39:18.827Z"
   },
   {
    "duration": 377,
    "start_time": "2021-12-04T20:39:18.832Z"
   },
   {
    "duration": 217,
    "start_time": "2021-12-04T20:39:19.212Z"
   },
   {
    "duration": 276,
    "start_time": "2021-12-04T20:39:19.432Z"
   },
   {
    "duration": 114,
    "start_time": "2021-12-04T20:39:19.713Z"
   },
   {
    "duration": 80,
    "start_time": "2021-12-04T20:39:19.829Z"
   },
   {
    "duration": 14,
    "start_time": "2021-12-04T20:39:19.914Z"
   },
   {
    "duration": 10,
    "start_time": "2021-12-04T20:39:20.012Z"
   },
   {
    "duration": 5,
    "start_time": "2021-12-04T20:39:20.024Z"
   },
   {
    "duration": 6,
    "start_time": "2021-12-04T20:39:20.031Z"
   },
   {
    "duration": 7,
    "start_time": "2021-12-04T20:39:20.038Z"
   },
   {
    "duration": 6,
    "start_time": "2021-12-04T20:39:20.047Z"
   },
   {
    "duration": 4,
    "start_time": "2021-12-04T20:39:20.055Z"
   },
   {
    "duration": 13,
    "start_time": "2021-12-04T20:39:20.060Z"
   },
   {
    "duration": 2,
    "start_time": "2021-12-04T20:39:20.075Z"
   },
   {
    "duration": 9,
    "start_time": "2021-12-04T20:39:20.107Z"
   },
   {
    "duration": 1231,
    "start_time": "2021-12-04T20:39:20.119Z"
   },
   {
    "duration": 4,
    "start_time": "2021-12-04T20:40:00.763Z"
   },
   {
    "duration": 1977,
    "start_time": "2021-12-04T20:40:01.285Z"
   },
   {
    "duration": 5,
    "start_time": "2021-12-04T20:43:19.882Z"
   },
   {
    "duration": 2005,
    "start_time": "2021-12-04T20:43:20.901Z"
   },
   {
    "duration": 1092,
    "start_time": "2021-12-04T20:54:19.575Z"
   },
   {
    "duration": 380,
    "start_time": "2021-12-04T20:54:20.669Z"
   },
   {
    "duration": 4,
    "start_time": "2021-12-04T20:54:21.051Z"
   },
   {
    "duration": 66,
    "start_time": "2021-12-04T20:54:21.056Z"
   },
   {
    "duration": 50,
    "start_time": "2021-12-04T20:54:21.124Z"
   },
   {
    "duration": 86,
    "start_time": "2021-12-04T20:54:21.176Z"
   },
   {
    "duration": 4,
    "start_time": "2021-12-04T20:54:21.264Z"
   },
   {
    "duration": 438,
    "start_time": "2021-12-04T20:54:21.272Z"
   },
   {
    "duration": 204,
    "start_time": "2021-12-04T20:54:21.713Z"
   },
   {
    "duration": 201,
    "start_time": "2021-12-04T20:54:21.919Z"
   },
   {
    "duration": 197,
    "start_time": "2021-12-04T20:54:22.122Z"
   },
   {
    "duration": 87,
    "start_time": "2021-12-04T20:54:22.321Z"
   },
   {
    "duration": 94,
    "start_time": "2021-12-04T20:54:22.415Z"
   },
   {
    "duration": 5,
    "start_time": "2021-12-04T20:54:22.512Z"
   },
   {
    "duration": 5,
    "start_time": "2021-12-04T20:54:22.519Z"
   },
   {
    "duration": 3,
    "start_time": "2021-12-04T20:54:22.526Z"
   },
   {
    "duration": 7,
    "start_time": "2021-12-04T20:54:22.531Z"
   },
   {
    "duration": 13,
    "start_time": "2021-12-04T20:54:22.540Z"
   },
   {
    "duration": 4,
    "start_time": "2021-12-04T20:54:22.555Z"
   },
   {
    "duration": 48,
    "start_time": "2021-12-04T20:54:22.560Z"
   },
   {
    "duration": 2,
    "start_time": "2021-12-04T20:54:22.610Z"
   },
   {
    "duration": 11,
    "start_time": "2021-12-04T20:54:22.614Z"
   },
   {
    "duration": 1979,
    "start_time": "2021-12-04T20:54:22.627Z"
   },
   {
    "duration": 1961,
    "start_time": "2021-12-04T20:57:41.052Z"
   },
   {
    "duration": 4,
    "start_time": "2021-12-04T20:58:25.016Z"
   },
   {
    "duration": 717,
    "start_time": "2021-12-04T20:58:25.703Z"
   },
   {
    "duration": 4,
    "start_time": "2021-12-04T21:04:57.504Z"
   },
   {
    "duration": 1201,
    "start_time": "2021-12-04T21:04:57.938Z"
   },
   {
    "duration": 6,
    "start_time": "2021-12-04T21:06:21.163Z"
   },
   {
    "duration": 1195,
    "start_time": "2021-12-04T21:06:30.426Z"
   },
   {
    "duration": 384,
    "start_time": "2021-12-04T21:06:31.623Z"
   },
   {
    "duration": 3,
    "start_time": "2021-12-04T21:06:32.009Z"
   },
   {
    "duration": 59,
    "start_time": "2021-12-04T21:06:32.014Z"
   },
   {
    "duration": 68,
    "start_time": "2021-12-04T21:06:32.074Z"
   },
   {
    "duration": 62,
    "start_time": "2021-12-04T21:06:32.144Z"
   },
   {
    "duration": 4,
    "start_time": "2021-12-04T21:06:32.208Z"
   },
   {
    "duration": 398,
    "start_time": "2021-12-04T21:06:32.213Z"
   },
   {
    "duration": 213,
    "start_time": "2021-12-04T21:06:32.615Z"
   },
   {
    "duration": 196,
    "start_time": "2021-12-04T21:06:32.909Z"
   },
   {
    "duration": 117,
    "start_time": "2021-12-04T21:06:33.109Z"
   },
   {
    "duration": 5,
    "start_time": "2021-12-04T21:06:33.308Z"
   },
   {
    "duration": 97,
    "start_time": "2021-12-04T21:06:33.315Z"
   },
   {
    "duration": 6,
    "start_time": "2021-12-04T21:06:33.414Z"
   },
   {
    "duration": 5,
    "start_time": "2021-12-04T21:06:33.422Z"
   },
   {
    "duration": 3,
    "start_time": "2021-12-04T21:06:33.430Z"
   },
   {
    "duration": 4,
    "start_time": "2021-12-04T21:06:33.436Z"
   },
   {
    "duration": 8,
    "start_time": "2021-12-04T21:06:33.442Z"
   },
   {
    "duration": 55,
    "start_time": "2021-12-04T21:06:33.452Z"
   },
   {
    "duration": 13,
    "start_time": "2021-12-04T21:06:33.508Z"
   },
   {
    "duration": 3,
    "start_time": "2021-12-04T21:06:33.523Z"
   },
   {
    "duration": 6,
    "start_time": "2021-12-04T21:06:33.528Z"
   },
   {
    "duration": 1244,
    "start_time": "2021-12-04T21:06:33.535Z"
   },
   {
    "duration": 5,
    "start_time": "2021-12-04T21:06:45.594Z"
   },
   {
    "duration": 1139,
    "start_time": "2021-12-04T21:06:45.991Z"
   },
   {
    "duration": 4,
    "start_time": "2021-12-04T21:13:13.203Z"
   },
   {
    "duration": 10,
    "start_time": "2021-12-04T21:13:14.665Z"
   },
   {
    "duration": 1094,
    "start_time": "2021-12-04T21:13:54.143Z"
   },
   {
    "duration": 366,
    "start_time": "2021-12-04T21:13:55.239Z"
   },
   {
    "duration": 3,
    "start_time": "2021-12-04T21:13:55.607Z"
   },
   {
    "duration": 62,
    "start_time": "2021-12-04T21:13:55.612Z"
   },
   {
    "duration": 62,
    "start_time": "2021-12-04T21:13:55.676Z"
   },
   {
    "duration": 51,
    "start_time": "2021-12-04T21:13:55.740Z"
   },
   {
    "duration": 17,
    "start_time": "2021-12-04T21:13:55.792Z"
   },
   {
    "duration": 404,
    "start_time": "2021-12-04T21:13:55.811Z"
   },
   {
    "duration": 201,
    "start_time": "2021-12-04T21:13:56.218Z"
   },
   {
    "duration": 286,
    "start_time": "2021-12-04T21:13:56.421Z"
   },
   {
    "duration": 126,
    "start_time": "2021-12-04T21:13:56.709Z"
   },
   {
    "duration": 72,
    "start_time": "2021-12-04T21:13:56.837Z"
   },
   {
    "duration": 96,
    "start_time": "2021-12-04T21:13:56.911Z"
   },
   {
    "duration": 6,
    "start_time": "2021-12-04T21:13:57.009Z"
   },
   {
    "duration": 5,
    "start_time": "2021-12-04T21:13:57.017Z"
   },
   {
    "duration": 2,
    "start_time": "2021-12-04T21:13:57.024Z"
   },
   {
    "duration": 5,
    "start_time": "2021-12-04T21:13:57.028Z"
   },
   {
    "duration": 8,
    "start_time": "2021-12-04T21:13:57.035Z"
   },
   {
    "duration": 4,
    "start_time": "2021-12-04T21:13:57.045Z"
   },
   {
    "duration": 58,
    "start_time": "2021-12-04T21:13:57.050Z"
   },
   {
    "duration": 2,
    "start_time": "2021-12-04T21:13:57.110Z"
   },
   {
    "duration": 5,
    "start_time": "2021-12-04T21:13:57.114Z"
   },
   {
    "duration": 4442,
    "start_time": "2021-12-04T21:13:57.122Z"
   },
   {
    "duration": 1056,
    "start_time": "2021-12-04T21:16:08.871Z"
   },
   {
    "duration": 372,
    "start_time": "2021-12-04T21:16:09.929Z"
   },
   {
    "duration": 4,
    "start_time": "2021-12-04T21:16:10.303Z"
   },
   {
    "duration": 61,
    "start_time": "2021-12-04T21:16:10.308Z"
   },
   {
    "duration": 68,
    "start_time": "2021-12-04T21:16:10.371Z"
   },
   {
    "duration": 71,
    "start_time": "2021-12-04T21:16:10.440Z"
   },
   {
    "duration": 3,
    "start_time": "2021-12-04T21:16:10.513Z"
   },
   {
    "duration": 390,
    "start_time": "2021-12-04T21:16:10.519Z"
   },
   {
    "duration": 217,
    "start_time": "2021-12-04T21:16:10.911Z"
   },
   {
    "duration": 195,
    "start_time": "2021-12-04T21:16:11.130Z"
   },
   {
    "duration": 192,
    "start_time": "2021-12-04T21:16:11.327Z"
   },
   {
    "duration": 85,
    "start_time": "2021-12-04T21:16:11.522Z"
   },
   {
    "duration": 98,
    "start_time": "2021-12-04T21:16:11.610Z"
   },
   {
    "duration": 6,
    "start_time": "2021-12-04T21:16:11.710Z"
   },
   {
    "duration": 4,
    "start_time": "2021-12-04T21:16:11.718Z"
   },
   {
    "duration": 3,
    "start_time": "2021-12-04T21:16:11.723Z"
   },
   {
    "duration": 5,
    "start_time": "2021-12-04T21:16:11.728Z"
   },
   {
    "duration": 10,
    "start_time": "2021-12-04T21:16:11.734Z"
   },
   {
    "duration": 4,
    "start_time": "2021-12-04T21:16:11.746Z"
   },
   {
    "duration": 420,
    "start_time": "2021-12-04T21:16:11.752Z"
   },
   {
    "duration": 800,
    "start_time": "2021-12-04T21:16:11.374Z"
   },
   {
    "duration": 795,
    "start_time": "2021-12-04T21:16:11.380Z"
   },
   {
    "duration": 794,
    "start_time": "2021-12-04T21:16:11.382Z"
   },
   {
    "duration": 1496,
    "start_time": "2021-12-04T21:16:37.032Z"
   },
   {
    "duration": 378,
    "start_time": "2021-12-04T21:16:38.530Z"
   },
   {
    "duration": 4,
    "start_time": "2021-12-04T21:16:38.910Z"
   },
   {
    "duration": 65,
    "start_time": "2021-12-04T21:16:38.915Z"
   },
   {
    "duration": 73,
    "start_time": "2021-12-04T21:16:38.982Z"
   },
   {
    "duration": 71,
    "start_time": "2021-12-04T21:16:39.058Z"
   },
   {
    "duration": 4,
    "start_time": "2021-12-04T21:16:39.131Z"
   },
   {
    "duration": 378,
    "start_time": "2021-12-04T21:16:39.138Z"
   },
   {
    "duration": 201,
    "start_time": "2021-12-04T21:16:39.519Z"
   },
   {
    "duration": 202,
    "start_time": "2021-12-04T21:16:39.722Z"
   },
   {
    "duration": 196,
    "start_time": "2021-12-04T21:16:39.926Z"
   },
   {
    "duration": 85,
    "start_time": "2021-12-04T21:16:40.124Z"
   },
   {
    "duration": 96,
    "start_time": "2021-12-04T21:16:40.212Z"
   },
   {
    "duration": 6,
    "start_time": "2021-12-04T21:16:40.310Z"
   },
   {
    "duration": 5,
    "start_time": "2021-12-04T21:16:40.318Z"
   },
   {
    "duration": 4,
    "start_time": "2021-12-04T21:16:40.324Z"
   },
   {
    "duration": 5,
    "start_time": "2021-12-04T21:16:40.330Z"
   },
   {
    "duration": 9,
    "start_time": "2021-12-04T21:16:40.336Z"
   },
   {
    "duration": 6,
    "start_time": "2021-12-04T21:16:40.347Z"
   },
   {
    "duration": 830,
    "start_time": "2021-12-04T21:16:40.355Z"
   },
   {
    "duration": 831,
    "start_time": "2021-12-04T21:16:40.357Z"
   },
   {
    "duration": 635,
    "start_time": "2021-12-04T21:16:40.554Z"
   },
   {
    "duration": 632,
    "start_time": "2021-12-04T21:16:40.558Z"
   },
   {
    "duration": 7,
    "start_time": "2021-12-04T21:17:19.430Z"
   },
   {
    "duration": 1099,
    "start_time": "2021-12-04T21:18:54.925Z"
   },
   {
    "duration": 375,
    "start_time": "2021-12-04T21:18:56.026Z"
   },
   {
    "duration": 3,
    "start_time": "2021-12-04T21:18:56.403Z"
   },
   {
    "duration": 61,
    "start_time": "2021-12-04T21:18:56.408Z"
   },
   {
    "duration": 67,
    "start_time": "2021-12-04T21:18:56.471Z"
   },
   {
    "duration": 52,
    "start_time": "2021-12-04T21:18:56.539Z"
   },
   {
    "duration": 16,
    "start_time": "2021-12-04T21:18:56.592Z"
   },
   {
    "duration": 404,
    "start_time": "2021-12-04T21:18:56.611Z"
   },
   {
    "duration": 207,
    "start_time": "2021-12-04T21:18:57.018Z"
   },
   {
    "duration": 121,
    "start_time": "2021-12-04T21:18:57.307Z"
   },
   {
    "duration": 198,
    "start_time": "2021-12-04T21:18:57.512Z"
   },
   {
    "duration": 93,
    "start_time": "2021-12-04T21:18:57.712Z"
   },
   {
    "duration": 7,
    "start_time": "2021-12-04T21:18:57.807Z"
   },
   {
    "duration": 7,
    "start_time": "2021-12-04T21:18:57.815Z"
   },
   {
    "duration": 4,
    "start_time": "2021-12-04T21:18:57.824Z"
   },
   {
    "duration": 3,
    "start_time": "2021-12-04T21:18:57.830Z"
   },
   {
    "duration": 3,
    "start_time": "2021-12-04T21:18:57.835Z"
   },
   {
    "duration": 10,
    "start_time": "2021-12-04T21:18:57.840Z"
   },
   {
    "duration": 8,
    "start_time": "2021-12-04T21:18:57.852Z"
   },
   {
    "duration": 1074,
    "start_time": "2021-12-04T21:20:32.550Z"
   },
   {
    "duration": 373,
    "start_time": "2021-12-04T21:20:33.627Z"
   },
   {
    "duration": 4,
    "start_time": "2021-12-04T21:20:34.003Z"
   },
   {
    "duration": 59,
    "start_time": "2021-12-04T21:20:34.009Z"
   },
   {
    "duration": 69,
    "start_time": "2021-12-04T21:20:34.070Z"
   },
   {
    "duration": 66,
    "start_time": "2021-12-04T21:20:34.141Z"
   },
   {
    "duration": 3,
    "start_time": "2021-12-04T21:20:34.209Z"
   },
   {
    "duration": 399,
    "start_time": "2021-12-04T21:20:34.215Z"
   },
   {
    "duration": 206,
    "start_time": "2021-12-04T21:20:34.617Z"
   },
   {
    "duration": 195,
    "start_time": "2021-12-04T21:20:34.825Z"
   },
   {
    "duration": 197,
    "start_time": "2021-12-04T21:20:35.022Z"
   },
   {
    "duration": 87,
    "start_time": "2021-12-04T21:20:35.221Z"
   },
   {
    "duration": 96,
    "start_time": "2021-12-04T21:20:35.310Z"
   },
   {
    "duration": 6,
    "start_time": "2021-12-04T21:20:35.409Z"
   },
   {
    "duration": 5,
    "start_time": "2021-12-04T21:20:35.417Z"
   },
   {
    "duration": 4,
    "start_time": "2021-12-04T21:20:35.424Z"
   },
   {
    "duration": 6,
    "start_time": "2021-12-04T21:20:35.429Z"
   },
   {
    "duration": 14,
    "start_time": "2021-12-04T21:20:35.437Z"
   },
   {
    "duration": 8,
    "start_time": "2021-12-04T21:20:35.453Z"
   },
   {
    "duration": 1123,
    "start_time": "2021-12-04T21:22:41.690Z"
   },
   {
    "duration": 375,
    "start_time": "2021-12-04T21:22:42.815Z"
   },
   {
    "duration": 3,
    "start_time": "2021-12-04T21:22:43.192Z"
   },
   {
    "duration": 66,
    "start_time": "2021-12-04T21:22:43.197Z"
   },
   {
    "duration": 70,
    "start_time": "2021-12-04T21:22:43.265Z"
   },
   {
    "duration": 52,
    "start_time": "2021-12-04T21:22:43.336Z"
   },
   {
    "duration": 17,
    "start_time": "2021-12-04T21:22:43.390Z"
   },
   {
    "duration": 404,
    "start_time": "2021-12-04T21:22:43.410Z"
   },
   {
    "duration": 201,
    "start_time": "2021-12-04T21:22:43.818Z"
   },
   {
    "duration": 202,
    "start_time": "2021-12-04T21:22:44.021Z"
   },
   {
    "duration": 196,
    "start_time": "2021-12-04T21:22:44.225Z"
   },
   {
    "duration": 84,
    "start_time": "2021-12-04T21:22:44.424Z"
   },
   {
    "duration": 96,
    "start_time": "2021-12-04T21:22:44.510Z"
   },
   {
    "duration": 5,
    "start_time": "2021-12-04T21:22:44.608Z"
   },
   {
    "duration": 5,
    "start_time": "2021-12-04T21:22:44.615Z"
   },
   {
    "duration": 3,
    "start_time": "2021-12-04T21:22:44.621Z"
   },
   {
    "duration": 5,
    "start_time": "2021-12-04T21:22:44.626Z"
   },
   {
    "duration": 9,
    "start_time": "2021-12-04T21:22:44.632Z"
   },
   {
    "duration": 3,
    "start_time": "2021-12-04T21:22:44.643Z"
   },
   {
    "duration": 11,
    "start_time": "2021-12-04T21:22:44.648Z"
   },
   {
    "duration": 1157,
    "start_time": "2021-12-04T21:30:42.874Z"
   },
   {
    "duration": 383,
    "start_time": "2021-12-04T21:30:44.034Z"
   },
   {
    "duration": 4,
    "start_time": "2021-12-04T21:30:44.419Z"
   },
   {
    "duration": 61,
    "start_time": "2021-12-04T21:30:44.425Z"
   },
   {
    "duration": 64,
    "start_time": "2021-12-04T21:30:44.488Z"
   },
   {
    "duration": 73,
    "start_time": "2021-12-04T21:30:44.554Z"
   },
   {
    "duration": 3,
    "start_time": "2021-12-04T21:30:44.629Z"
   },
   {
    "duration": 381,
    "start_time": "2021-12-04T21:30:44.634Z"
   },
   {
    "duration": 202,
    "start_time": "2021-12-04T21:30:45.019Z"
   },
   {
    "duration": 201,
    "start_time": "2021-12-04T21:30:45.223Z"
   },
   {
    "duration": 192,
    "start_time": "2021-12-04T21:30:45.426Z"
   },
   {
    "duration": 86,
    "start_time": "2021-12-04T21:30:45.621Z"
   },
   {
    "duration": 5,
    "start_time": "2021-12-04T21:30:45.806Z"
   },
   {
    "duration": 4,
    "start_time": "2021-12-04T21:30:45.813Z"
   },
   {
    "duration": 4,
    "start_time": "2021-12-04T21:30:45.819Z"
   },
   {
    "duration": 3,
    "start_time": "2021-12-04T21:30:45.824Z"
   },
   {
    "duration": 5,
    "start_time": "2021-12-04T21:30:45.829Z"
   },
   {
    "duration": 8,
    "start_time": "2021-12-04T21:30:45.836Z"
   },
   {
    "duration": 2,
    "start_time": "2021-12-04T21:30:45.846Z"
   },
   {
    "duration": 5,
    "start_time": "2021-12-04T21:30:45.850Z"
   },
   {
    "duration": 51,
    "start_time": "2021-12-04T21:30:45.857Z"
   },
   {
    "duration": 19,
    "start_time": "2021-12-04T21:30:45.910Z"
   },
   {
    "duration": 3,
    "start_time": "2021-12-04T21:30:45.931Z"
   },
   {
    "duration": 9,
    "start_time": "2021-12-04T21:30:45.935Z"
   },
   {
    "duration": 437,
    "start_time": "2021-12-04T21:30:45.946Z"
   },
   {
    "duration": 4901,
    "start_time": "2021-12-04T21:31:19.953Z"
   },
   {
    "duration": 1161,
    "start_time": "2021-12-04T21:31:45.938Z"
   },
   {
    "duration": 417,
    "start_time": "2021-12-04T21:31:47.101Z"
   },
   {
    "duration": 3,
    "start_time": "2021-12-04T21:31:47.520Z"
   },
   {
    "duration": 61,
    "start_time": "2021-12-04T21:31:47.525Z"
   },
   {
    "duration": 55,
    "start_time": "2021-12-04T21:31:47.607Z"
   },
   {
    "duration": 76,
    "start_time": "2021-12-04T21:31:47.664Z"
   },
   {
    "duration": 3,
    "start_time": "2021-12-04T21:31:47.742Z"
   },
   {
    "duration": 366,
    "start_time": "2021-12-04T21:31:47.747Z"
   },
   {
    "duration": 205,
    "start_time": "2021-12-04T21:31:48.117Z"
   },
   {
    "duration": 208,
    "start_time": "2021-12-04T21:31:48.324Z"
   },
   {
    "duration": 115,
    "start_time": "2021-12-04T21:31:48.616Z"
   },
   {
    "duration": 78,
    "start_time": "2021-12-04T21:31:48.734Z"
   },
   {
    "duration": 6,
    "start_time": "2021-12-04T21:31:48.905Z"
   },
   {
    "duration": 5,
    "start_time": "2021-12-04T21:31:48.912Z"
   },
   {
    "duration": 5,
    "start_time": "2021-12-04T21:31:48.919Z"
   },
   {
    "duration": 4,
    "start_time": "2021-12-04T21:31:48.925Z"
   },
   {
    "duration": 5,
    "start_time": "2021-12-04T21:31:48.930Z"
   },
   {
    "duration": 9,
    "start_time": "2021-12-04T21:31:48.937Z"
   },
   {
    "duration": 2,
    "start_time": "2021-12-04T21:31:48.948Z"
   },
   {
    "duration": 6,
    "start_time": "2021-12-04T21:31:48.952Z"
   },
   {
    "duration": 50,
    "start_time": "2021-12-04T21:31:48.959Z"
   },
   {
    "duration": 14,
    "start_time": "2021-12-04T21:31:49.011Z"
   },
   {
    "duration": 7,
    "start_time": "2021-12-04T21:31:49.026Z"
   },
   {
    "duration": 4737,
    "start_time": "2021-12-04T21:31:49.035Z"
   },
   {
    "duration": 5,
    "start_time": "2021-12-04T21:33:34.918Z"
   },
   {
    "duration": 10,
    "start_time": "2021-12-04T21:33:36.612Z"
   },
   {
    "duration": 3,
    "start_time": "2021-12-04T21:33:36.667Z"
   },
   {
    "duration": 1175,
    "start_time": "2021-12-04T21:33:57.146Z"
   },
   {
    "duration": 375,
    "start_time": "2021-12-04T21:33:58.323Z"
   },
   {
    "duration": 8,
    "start_time": "2021-12-04T21:33:58.700Z"
   },
   {
    "duration": 63,
    "start_time": "2021-12-04T21:33:58.710Z"
   },
   {
    "duration": 64,
    "start_time": "2021-12-04T21:33:58.775Z"
   },
   {
    "duration": 71,
    "start_time": "2021-12-04T21:33:58.841Z"
   },
   {
    "duration": 4,
    "start_time": "2021-12-04T21:33:58.914Z"
   },
   {
    "duration": 397,
    "start_time": "2021-12-04T21:33:58.919Z"
   },
   {
    "duration": 287,
    "start_time": "2021-12-04T21:33:59.323Z"
   },
   {
    "duration": 196,
    "start_time": "2021-12-04T21:33:59.613Z"
   },
   {
    "duration": 118,
    "start_time": "2021-12-04T21:33:59.811Z"
   },
   {
    "duration": 6,
    "start_time": "2021-12-04T21:34:00.008Z"
   },
   {
    "duration": 110,
    "start_time": "2021-12-04T21:34:00.016Z"
   },
   {
    "duration": 15,
    "start_time": "2021-12-04T21:34:00.128Z"
   },
   {
    "duration": 10,
    "start_time": "2021-12-04T21:34:00.145Z"
   },
   {
    "duration": 6,
    "start_time": "2021-12-04T21:34:00.156Z"
   },
   {
    "duration": 12,
    "start_time": "2021-12-04T21:34:00.164Z"
   },
   {
    "duration": 11,
    "start_time": "2021-12-04T21:34:00.178Z"
   },
   {
    "duration": 18,
    "start_time": "2021-12-04T21:34:00.190Z"
   },
   {
    "duration": 9,
    "start_time": "2021-12-04T21:34:00.210Z"
   },
   {
    "duration": 12,
    "start_time": "2021-12-04T21:34:00.220Z"
   },
   {
    "duration": 17,
    "start_time": "2021-12-04T21:34:00.234Z"
   },
   {
    "duration": 4684,
    "start_time": "2021-12-04T21:34:00.253Z"
   },
   {
    "duration": 4,
    "start_time": "2021-12-04T21:37:05.218Z"
   },
   {
    "duration": 9,
    "start_time": "2021-12-04T21:37:05.783Z"
   },
   {
    "duration": 4294,
    "start_time": "2021-12-04T21:37:06.349Z"
   },
   {
    "duration": 1081,
    "start_time": "2021-12-04T21:38:16.208Z"
   },
   {
    "duration": 369,
    "start_time": "2021-12-04T21:38:17.291Z"
   },
   {
    "duration": 3,
    "start_time": "2021-12-04T21:38:17.663Z"
   },
   {
    "duration": 76,
    "start_time": "2021-12-04T21:38:17.668Z"
   },
   {
    "duration": 68,
    "start_time": "2021-12-04T21:38:17.746Z"
   },
   {
    "duration": 55,
    "start_time": "2021-12-04T21:38:17.816Z"
   },
   {
    "duration": 5,
    "start_time": "2021-12-04T21:38:17.873Z"
   },
   {
    "duration": 410,
    "start_time": "2021-12-04T21:38:17.906Z"
   },
   {
    "duration": 204,
    "start_time": "2021-12-04T21:38:18.319Z"
   },
   {
    "duration": 191,
    "start_time": "2021-12-04T21:38:18.525Z"
   },
   {
    "duration": 202,
    "start_time": "2021-12-04T21:38:18.718Z"
   },
   {
    "duration": 85,
    "start_time": "2021-12-04T21:38:18.922Z"
   },
   {
    "duration": 96,
    "start_time": "2021-12-04T21:38:19.011Z"
   },
   {
    "duration": 5,
    "start_time": "2021-12-04T21:38:19.109Z"
   },
   {
    "duration": 9,
    "start_time": "2021-12-04T21:38:19.116Z"
   },
   {
    "duration": 16,
    "start_time": "2021-12-04T21:38:19.127Z"
   },
   {
    "duration": 6,
    "start_time": "2021-12-04T21:38:19.145Z"
   },
   {
    "duration": 8,
    "start_time": "2021-12-04T21:38:19.153Z"
   },
   {
    "duration": 3,
    "start_time": "2021-12-04T21:38:19.162Z"
   },
   {
    "duration": 6,
    "start_time": "2021-12-04T21:38:19.166Z"
   },
   {
    "duration": 8,
    "start_time": "2021-12-04T21:38:19.173Z"
   },
   {
    "duration": 32,
    "start_time": "2021-12-04T21:38:19.182Z"
   },
   {
    "duration": 4597,
    "start_time": "2021-12-04T21:38:19.217Z"
   },
   {
    "duration": 1125,
    "start_time": "2021-12-04T21:40:51.613Z"
   },
   {
    "duration": 387,
    "start_time": "2021-12-04T21:40:52.740Z"
   },
   {
    "duration": 3,
    "start_time": "2021-12-04T21:40:53.129Z"
   },
   {
    "duration": 63,
    "start_time": "2021-12-04T21:40:53.133Z"
   },
   {
    "duration": 49,
    "start_time": "2021-12-04T21:40:53.206Z"
   },
   {
    "duration": 73,
    "start_time": "2021-12-04T21:40:53.257Z"
   },
   {
    "duration": 4,
    "start_time": "2021-12-04T21:40:53.332Z"
   },
   {
    "duration": 372,
    "start_time": "2021-12-04T21:40:53.339Z"
   },
   {
    "duration": 292,
    "start_time": "2021-12-04T21:40:53.714Z"
   },
   {
    "duration": 192,
    "start_time": "2021-12-04T21:40:54.015Z"
   },
   {
    "duration": 193,
    "start_time": "2021-12-04T21:40:54.214Z"
   },
   {
    "duration": 91,
    "start_time": "2021-12-04T21:40:54.416Z"
   },
   {
    "duration": 6,
    "start_time": "2021-12-04T21:40:54.509Z"
   },
   {
    "duration": 5,
    "start_time": "2021-12-04T21:40:54.517Z"
   },
   {
    "duration": 5,
    "start_time": "2021-12-04T21:40:54.524Z"
   },
   {
    "duration": 3,
    "start_time": "2021-12-04T21:40:54.530Z"
   },
   {
    "duration": 5,
    "start_time": "2021-12-04T21:40:54.535Z"
   },
   {
    "duration": 8,
    "start_time": "2021-12-04T21:40:54.541Z"
   },
   {
    "duration": 3,
    "start_time": "2021-12-04T21:40:54.551Z"
   },
   {
    "duration": 4,
    "start_time": "2021-12-04T21:40:54.555Z"
   },
   {
    "duration": 6,
    "start_time": "2021-12-04T21:40:54.608Z"
   },
   {
    "duration": 13,
    "start_time": "2021-12-04T21:40:54.616Z"
   },
   {
    "duration": 421,
    "start_time": "2021-12-04T21:40:54.632Z"
   },
   {
    "duration": 4371,
    "start_time": "2021-12-04T21:43:00.145Z"
   },
   {
    "duration": 1081,
    "start_time": "2021-12-04T21:46:20.942Z"
   },
   {
    "duration": 377,
    "start_time": "2021-12-04T21:46:22.025Z"
   },
   {
    "duration": 3,
    "start_time": "2021-12-04T21:46:22.404Z"
   },
   {
    "duration": 77,
    "start_time": "2021-12-04T21:46:22.409Z"
   },
   {
    "duration": 49,
    "start_time": "2021-12-04T21:46:22.488Z"
   },
   {
    "duration": 67,
    "start_time": "2021-12-04T21:46:22.539Z"
   },
   {
    "duration": 4,
    "start_time": "2021-12-04T21:46:22.608Z"
   },
   {
    "duration": 400,
    "start_time": "2021-12-04T21:46:22.614Z"
   },
   {
    "duration": 204,
    "start_time": "2021-12-04T21:46:23.017Z"
   },
   {
    "duration": 199,
    "start_time": "2021-12-04T21:46:23.223Z"
   },
   {
    "duration": 195,
    "start_time": "2021-12-04T21:46:23.425Z"
   },
   {
    "duration": 85,
    "start_time": "2021-12-04T21:46:23.622Z"
   },
   {
    "duration": 8,
    "start_time": "2021-12-04T21:46:23.710Z"
   },
   {
    "duration": 6,
    "start_time": "2021-12-04T21:46:23.807Z"
   },
   {
    "duration": 5,
    "start_time": "2021-12-04T21:46:23.814Z"
   },
   {
    "duration": 3,
    "start_time": "2021-12-04T21:46:23.821Z"
   },
   {
    "duration": 5,
    "start_time": "2021-12-04T21:46:23.826Z"
   },
   {
    "duration": 8,
    "start_time": "2021-12-04T21:46:23.832Z"
   },
   {
    "duration": 2,
    "start_time": "2021-12-04T21:46:23.842Z"
   },
   {
    "duration": 4,
    "start_time": "2021-12-04T21:46:23.846Z"
   },
   {
    "duration": 4,
    "start_time": "2021-12-04T21:46:23.852Z"
   },
   {
    "duration": 56,
    "start_time": "2021-12-04T21:46:23.858Z"
   },
   {
    "duration": 4205,
    "start_time": "2021-12-04T21:46:23.917Z"
   },
   {
    "duration": 1132,
    "start_time": "2021-12-04T21:54:50.658Z"
   },
   {
    "duration": 394,
    "start_time": "2021-12-04T21:54:51.792Z"
   },
   {
    "duration": 4,
    "start_time": "2021-12-04T21:54:52.188Z"
   },
   {
    "duration": 74,
    "start_time": "2021-12-04T21:54:52.193Z"
   },
   {
    "duration": 66,
    "start_time": "2021-12-04T21:54:52.269Z"
   },
   {
    "duration": 52,
    "start_time": "2021-12-04T21:54:52.336Z"
   },
   {
    "duration": 17,
    "start_time": "2021-12-04T21:54:52.390Z"
   },
   {
    "duration": 407,
    "start_time": "2021-12-04T21:54:52.409Z"
   },
   {
    "duration": 202,
    "start_time": "2021-12-04T21:54:52.819Z"
   },
   {
    "duration": 200,
    "start_time": "2021-12-04T21:54:53.023Z"
   },
   {
    "duration": 193,
    "start_time": "2021-12-04T21:54:53.225Z"
   },
   {
    "duration": 87,
    "start_time": "2021-12-04T21:54:53.420Z"
   },
   {
    "duration": 97,
    "start_time": "2021-12-04T21:54:53.509Z"
   },
   {
    "duration": 6,
    "start_time": "2021-12-04T21:54:53.609Z"
   },
   {
    "duration": 6,
    "start_time": "2021-12-04T21:54:53.617Z"
   },
   {
    "duration": 3,
    "start_time": "2021-12-04T21:54:53.625Z"
   },
   {
    "duration": 5,
    "start_time": "2021-12-04T21:54:53.629Z"
   },
   {
    "duration": 8,
    "start_time": "2021-12-04T21:54:53.635Z"
   },
   {
    "duration": 3,
    "start_time": "2021-12-04T21:54:53.645Z"
   },
   {
    "duration": 5,
    "start_time": "2021-12-04T21:54:53.650Z"
   },
   {
    "duration": 49,
    "start_time": "2021-12-04T21:54:53.657Z"
   },
   {
    "duration": 10,
    "start_time": "2021-12-04T21:54:53.708Z"
   },
   {
    "duration": 4213,
    "start_time": "2021-12-04T21:54:53.720Z"
   },
   {
    "duration": 1016,
    "start_time": "2021-12-04T21:58:59.527Z"
   },
   {
    "duration": 379,
    "start_time": "2021-12-04T21:59:00.545Z"
   },
   {
    "duration": 3,
    "start_time": "2021-12-04T21:59:00.926Z"
   },
   {
    "duration": 64,
    "start_time": "2021-12-04T21:59:00.931Z"
   },
   {
    "duration": 60,
    "start_time": "2021-12-04T21:59:00.996Z"
   },
   {
    "duration": 73,
    "start_time": "2021-12-04T21:59:01.058Z"
   },
   {
    "duration": 4,
    "start_time": "2021-12-04T21:59:01.133Z"
   },
   {
    "duration": 372,
    "start_time": "2021-12-04T21:59:01.140Z"
   },
   {
    "duration": 211,
    "start_time": "2021-12-04T21:59:01.516Z"
   },
   {
    "duration": 120,
    "start_time": "2021-12-04T21:59:01.808Z"
   },
   {
    "duration": 192,
    "start_time": "2021-12-04T21:59:01.930Z"
   },
   {
    "duration": 84,
    "start_time": "2021-12-04T21:59:02.124Z"
   },
   {
    "duration": 94,
    "start_time": "2021-12-04T21:59:02.214Z"
   },
   {
    "duration": 7,
    "start_time": "2021-12-04T21:59:02.310Z"
   },
   {
    "duration": 4,
    "start_time": "2021-12-04T21:59:02.319Z"
   },
   {
    "duration": 4,
    "start_time": "2021-12-04T21:59:02.325Z"
   },
   {
    "duration": 5,
    "start_time": "2021-12-04T21:59:02.330Z"
   },
   {
    "duration": 8,
    "start_time": "2021-12-04T21:59:02.337Z"
   },
   {
    "duration": 6,
    "start_time": "2021-12-04T21:59:02.346Z"
   },
   {
    "duration": 8,
    "start_time": "2021-12-04T21:59:02.354Z"
   },
   {
    "duration": 6,
    "start_time": "2021-12-04T21:59:02.364Z"
   },
   {
    "duration": 422,
    "start_time": "2021-12-04T21:59:02.407Z"
   },
   {
    "duration": 822,
    "start_time": "2021-12-04T21:59:02.009Z"
   },
   {
    "duration": 10,
    "start_time": "2021-12-04T21:59:08.129Z"
   },
   {
    "duration": 656,
    "start_time": "2021-12-04T21:59:08.899Z"
   },
   {
    "duration": 1232,
    "start_time": "2021-12-04T22:00:29.667Z"
   },
   {
    "duration": 413,
    "start_time": "2021-12-04T22:00:30.901Z"
   },
   {
    "duration": 3,
    "start_time": "2021-12-04T22:00:31.316Z"
   },
   {
    "duration": 69,
    "start_time": "2021-12-04T22:00:31.321Z"
   },
   {
    "duration": 69,
    "start_time": "2021-12-04T22:00:31.391Z"
   },
   {
    "duration": 85,
    "start_time": "2021-12-04T22:00:31.463Z"
   },
   {
    "duration": 5,
    "start_time": "2021-12-04T22:00:31.550Z"
   },
   {
    "duration": 458,
    "start_time": "2021-12-04T22:00:31.559Z"
   },
   {
    "duration": 204,
    "start_time": "2021-12-04T22:00:32.020Z"
   },
   {
    "duration": 202,
    "start_time": "2021-12-04T22:00:32.226Z"
   },
   {
    "duration": 125,
    "start_time": "2021-12-04T22:00:32.508Z"
   },
   {
    "duration": 5,
    "start_time": "2021-12-04T22:00:32.708Z"
   },
   {
    "duration": 98,
    "start_time": "2021-12-04T22:00:32.716Z"
   },
   {
    "duration": 8,
    "start_time": "2021-12-04T22:00:32.816Z"
   },
   {
    "duration": 5,
    "start_time": "2021-12-04T22:00:32.826Z"
   },
   {
    "duration": 3,
    "start_time": "2021-12-04T22:00:32.833Z"
   },
   {
    "duration": 6,
    "start_time": "2021-12-04T22:00:32.838Z"
   },
   {
    "duration": 10,
    "start_time": "2021-12-04T22:00:32.845Z"
   },
   {
    "duration": 2,
    "start_time": "2021-12-04T22:00:32.857Z"
   },
   {
    "duration": 7,
    "start_time": "2021-12-04T22:00:32.861Z"
   },
   {
    "duration": 42,
    "start_time": "2021-12-04T22:00:32.869Z"
   },
   {
    "duration": 13,
    "start_time": "2021-12-04T22:00:32.913Z"
   },
   {
    "duration": 4399,
    "start_time": "2021-12-04T22:00:32.929Z"
   },
   {
    "duration": 3,
    "start_time": "2021-12-04T22:01:20.066Z"
   },
   {
    "duration": 5,
    "start_time": "2021-12-04T22:01:20.617Z"
   },
   {
    "duration": 9,
    "start_time": "2021-12-04T22:01:21.456Z"
   },
   {
    "duration": 2932,
    "start_time": "2021-12-04T22:01:22.476Z"
   },
   {
    "duration": 4,
    "start_time": "2021-12-04T22:03:55.580Z"
   },
   {
    "duration": 8,
    "start_time": "2021-12-04T22:03:56.108Z"
   },
   {
    "duration": 2718,
    "start_time": "2021-12-04T22:03:56.768Z"
   },
   {
    "duration": 5,
    "start_time": "2021-12-04T22:04:34.268Z"
   },
   {
    "duration": 8,
    "start_time": "2021-12-04T22:04:34.869Z"
   },
   {
    "duration": 2796,
    "start_time": "2021-12-04T22:04:35.329Z"
   },
   {
    "duration": 4,
    "start_time": "2021-12-04T22:07:15.060Z"
   },
   {
    "duration": 5,
    "start_time": "2021-12-04T22:07:27.750Z"
   },
   {
    "duration": 10,
    "start_time": "2021-12-04T22:07:28.818Z"
   },
   {
    "duration": 3004,
    "start_time": "2021-12-04T22:07:30.618Z"
   },
   {
    "duration": 5,
    "start_time": "2021-12-04T22:08:51.539Z"
   },
   {
    "duration": 11,
    "start_time": "2021-12-04T22:08:52.213Z"
   },
   {
    "duration": 3004,
    "start_time": "2021-12-04T22:08:52.786Z"
   },
   {
    "duration": 1149,
    "start_time": "2021-12-04T22:11:43.874Z"
   },
   {
    "duration": 368,
    "start_time": "2021-12-04T22:11:45.026Z"
   },
   {
    "duration": 3,
    "start_time": "2021-12-04T22:11:45.396Z"
   },
   {
    "duration": 61,
    "start_time": "2021-12-04T22:11:45.401Z"
   },
   {
    "duration": 68,
    "start_time": "2021-12-04T22:11:45.464Z"
   },
   {
    "duration": 54,
    "start_time": "2021-12-04T22:11:45.533Z"
   },
   {
    "duration": 18,
    "start_time": "2021-12-04T22:11:45.589Z"
   },
   {
    "duration": 404,
    "start_time": "2021-12-04T22:11:45.610Z"
   },
   {
    "duration": 293,
    "start_time": "2021-12-04T22:11:46.017Z"
   },
   {
    "duration": 120,
    "start_time": "2021-12-04T22:11:46.312Z"
   },
   {
    "duration": 185,
    "start_time": "2021-12-04T22:11:46.434Z"
   },
   {
    "duration": 86,
    "start_time": "2021-12-04T22:11:46.621Z"
   },
   {
    "duration": 96,
    "start_time": "2021-12-04T22:11:46.713Z"
   },
   {
    "duration": 5,
    "start_time": "2021-12-04T22:11:46.812Z"
   },
   {
    "duration": 6,
    "start_time": "2021-12-04T22:11:46.819Z"
   },
   {
    "duration": 3,
    "start_time": "2021-12-04T22:11:46.827Z"
   },
   {
    "duration": 5,
    "start_time": "2021-12-04T22:11:46.832Z"
   },
   {
    "duration": 12,
    "start_time": "2021-12-04T22:11:46.839Z"
   },
   {
    "duration": 4,
    "start_time": "2021-12-04T22:11:46.853Z"
   },
   {
    "duration": 3,
    "start_time": "2021-12-04T22:11:46.906Z"
   },
   {
    "duration": 11,
    "start_time": "2021-12-04T22:11:46.911Z"
   },
   {
    "duration": 8,
    "start_time": "2021-12-04T22:11:46.924Z"
   },
   {
    "duration": 9,
    "start_time": "2021-12-04T22:11:46.935Z"
   },
   {
    "duration": 6,
    "start_time": "2021-12-04T22:11:46.945Z"
   },
   {
    "duration": 3051,
    "start_time": "2021-12-04T22:11:46.952Z"
   },
   {
    "duration": 3074,
    "start_time": "2021-12-04T22:11:58.632Z"
   },
   {
    "duration": 3163,
    "start_time": "2021-12-04T22:12:02.698Z"
   },
   {
    "duration": 5,
    "start_time": "2021-12-04T22:14:31.986Z"
   },
   {
    "duration": 2933,
    "start_time": "2021-12-04T22:14:32.465Z"
   },
   {
    "duration": 5,
    "start_time": "2021-12-04T22:14:57.782Z"
   },
   {
    "duration": 3112,
    "start_time": "2021-12-04T22:15:03.572Z"
   },
   {
    "duration": 3016,
    "start_time": "2021-12-04T22:15:08.070Z"
   },
   {
    "duration": 3002,
    "start_time": "2021-12-04T22:15:13.505Z"
   },
   {
    "duration": 1035,
    "start_time": "2021-12-05T21:06:42.683Z"
   },
   {
    "duration": 411,
    "start_time": "2021-12-05T21:06:43.720Z"
   },
   {
    "duration": 3,
    "start_time": "2021-12-05T21:06:44.133Z"
   },
   {
    "duration": 68,
    "start_time": "2021-12-05T21:06:44.138Z"
   },
   {
    "duration": 50,
    "start_time": "2021-12-05T21:06:44.208Z"
   },
   {
    "duration": 71,
    "start_time": "2021-12-05T21:06:44.260Z"
   },
   {
    "duration": 3,
    "start_time": "2021-12-05T21:06:44.333Z"
   },
   {
    "duration": 355,
    "start_time": "2021-12-05T21:06:44.339Z"
   },
   {
    "duration": 209,
    "start_time": "2021-12-05T21:06:44.701Z"
   },
   {
    "duration": 198,
    "start_time": "2021-12-05T21:06:44.912Z"
   },
   {
    "duration": 198,
    "start_time": "2021-12-05T21:06:45.113Z"
   },
   {
    "duration": 4,
    "start_time": "2021-12-05T21:06:45.392Z"
   },
   {
    "duration": 98,
    "start_time": "2021-12-05T21:06:45.398Z"
   },
   {
    "duration": 5,
    "start_time": "2021-12-05T21:06:45.498Z"
   },
   {
    "duration": 7,
    "start_time": "2021-12-05T21:06:45.504Z"
   },
   {
    "duration": 4,
    "start_time": "2021-12-05T21:06:45.512Z"
   },
   {
    "duration": 6,
    "start_time": "2021-12-05T21:06:45.517Z"
   },
   {
    "duration": 12,
    "start_time": "2021-12-05T21:06:45.525Z"
   },
   {
    "duration": 2,
    "start_time": "2021-12-05T21:06:45.539Z"
   },
   {
    "duration": 6,
    "start_time": "2021-12-05T21:06:45.543Z"
   },
   {
    "duration": 42,
    "start_time": "2021-12-05T21:06:45.550Z"
   },
   {
    "duration": 9,
    "start_time": "2021-12-05T21:06:45.594Z"
   },
   {
    "duration": 9,
    "start_time": "2021-12-05T21:06:45.606Z"
   },
   {
    "duration": 5,
    "start_time": "2021-12-05T21:06:45.617Z"
   },
   {
    "duration": 2939,
    "start_time": "2021-12-05T21:06:45.623Z"
   },
   {
    "duration": 2970,
    "start_time": "2021-12-05T21:06:48.564Z"
   },
   {
    "duration": 2897,
    "start_time": "2021-12-05T21:06:51.536Z"
   },
   {
    "duration": 3,
    "start_time": "2021-12-05T21:06:59.252Z"
   },
   {
    "duration": 56,
    "start_time": "2021-12-05T21:07:00.141Z"
   },
   {
    "duration": 47,
    "start_time": "2021-12-05T21:07:01.863Z"
   },
   {
    "duration": 3,
    "start_time": "2021-12-05T21:07:08.609Z"
   },
   {
    "duration": 50,
    "start_time": "2021-12-05T21:07:09.482Z"
   },
   {
    "duration": 1030,
    "start_time": "2021-12-05T21:07:22.179Z"
   },
   {
    "duration": 379,
    "start_time": "2021-12-05T21:07:23.211Z"
   },
   {
    "duration": 4,
    "start_time": "2021-12-05T21:07:23.592Z"
   },
   {
    "duration": 61,
    "start_time": "2021-12-05T21:07:23.597Z"
   },
   {
    "duration": 69,
    "start_time": "2021-12-05T21:07:23.660Z"
   },
   {
    "duration": 67,
    "start_time": "2021-12-05T21:07:23.731Z"
   },
   {
    "duration": 4,
    "start_time": "2021-12-05T21:07:23.800Z"
   },
   {
    "duration": 391,
    "start_time": "2021-12-05T21:07:23.806Z"
   },
   {
    "duration": 206,
    "start_time": "2021-12-05T21:07:24.202Z"
   },
   {
    "duration": 199,
    "start_time": "2021-12-05T21:07:24.411Z"
   },
   {
    "duration": 282,
    "start_time": "2021-12-05T21:07:24.612Z"
   },
   {
    "duration": 3,
    "start_time": "2021-12-05T21:07:24.896Z"
   },
   {
    "duration": 98,
    "start_time": "2021-12-05T21:07:24.902Z"
   },
   {
    "duration": 5,
    "start_time": "2021-12-05T21:07:25.002Z"
   },
   {
    "duration": 4,
    "start_time": "2021-12-05T21:07:25.009Z"
   },
   {
    "duration": 3,
    "start_time": "2021-12-05T21:07:25.015Z"
   },
   {
    "duration": 6,
    "start_time": "2021-12-05T21:07:25.020Z"
   },
   {
    "duration": 12,
    "start_time": "2021-12-05T21:07:25.027Z"
   },
   {
    "duration": 3,
    "start_time": "2021-12-05T21:07:25.040Z"
   },
   {
    "duration": 6,
    "start_time": "2021-12-05T21:07:25.044Z"
   },
   {
    "duration": 48,
    "start_time": "2021-12-05T21:07:25.052Z"
   },
   {
    "duration": 9,
    "start_time": "2021-12-05T21:07:25.102Z"
   },
   {
    "duration": 11,
    "start_time": "2021-12-05T21:07:25.113Z"
   },
   {
    "duration": 8,
    "start_time": "2021-12-05T21:07:25.126Z"
   },
   {
    "duration": 2993,
    "start_time": "2021-12-05T21:07:25.136Z"
   },
   {
    "duration": 2869,
    "start_time": "2021-12-05T21:07:28.131Z"
   },
   {
    "duration": 2896,
    "start_time": "2021-12-05T21:07:31.003Z"
   },
   {
    "duration": 975,
    "start_time": "2021-12-05T21:08:25.441Z"
   },
   {
    "duration": 374,
    "start_time": "2021-12-05T21:08:26.418Z"
   },
   {
    "duration": 3,
    "start_time": "2021-12-05T21:08:26.794Z"
   },
   {
    "duration": 63,
    "start_time": "2021-12-05T21:08:26.798Z"
   },
   {
    "duration": 68,
    "start_time": "2021-12-05T21:08:26.863Z"
   },
   {
    "duration": 66,
    "start_time": "2021-12-05T21:08:26.933Z"
   },
   {
    "duration": 4,
    "start_time": "2021-12-05T21:08:27.001Z"
   },
   {
    "duration": 396,
    "start_time": "2021-12-05T21:08:27.006Z"
   },
   {
    "duration": 288,
    "start_time": "2021-12-05T21:08:27.407Z"
   },
   {
    "duration": 191,
    "start_time": "2021-12-05T21:08:27.701Z"
   },
   {
    "duration": 192,
    "start_time": "2021-12-05T21:08:27.900Z"
   },
   {
    "duration": 5,
    "start_time": "2021-12-05T21:08:28.094Z"
   },
   {
    "duration": 96,
    "start_time": "2021-12-05T21:08:28.101Z"
   },
   {
    "duration": 9,
    "start_time": "2021-12-05T21:08:28.198Z"
   },
   {
    "duration": 8,
    "start_time": "2021-12-05T21:08:28.208Z"
   },
   {
    "duration": 3,
    "start_time": "2021-12-05T21:08:28.217Z"
   },
   {
    "duration": 7,
    "start_time": "2021-12-05T21:08:28.222Z"
   },
   {
    "duration": 8,
    "start_time": "2021-12-05T21:08:28.231Z"
   },
   {
    "duration": 3,
    "start_time": "2021-12-05T21:08:28.240Z"
   },
   {
    "duration": 5,
    "start_time": "2021-12-05T21:08:28.244Z"
   },
   {
    "duration": 48,
    "start_time": "2021-12-05T21:08:28.250Z"
   },
   {
    "duration": 9,
    "start_time": "2021-12-05T21:08:28.299Z"
   },
   {
    "duration": 9,
    "start_time": "2021-12-05T21:08:28.310Z"
   },
   {
    "duration": 5,
    "start_time": "2021-12-05T21:08:28.320Z"
   },
   {
    "duration": 2922,
    "start_time": "2021-12-05T21:08:28.327Z"
   },
   {
    "duration": 2868,
    "start_time": "2021-12-05T21:08:31.250Z"
   },
   {
    "duration": 2850,
    "start_time": "2021-12-05T21:08:34.121Z"
   },
   {
    "duration": 1018,
    "start_time": "2021-12-05T21:09:22.993Z"
   },
   {
    "duration": 386,
    "start_time": "2021-12-05T21:09:24.013Z"
   },
   {
    "duration": 4,
    "start_time": "2021-12-05T21:09:24.401Z"
   },
   {
    "duration": 67,
    "start_time": "2021-12-05T21:09:24.406Z"
   },
   {
    "duration": 62,
    "start_time": "2021-12-05T21:09:24.475Z"
   },
   {
    "duration": 71,
    "start_time": "2021-12-05T21:09:24.539Z"
   },
   {
    "duration": 4,
    "start_time": "2021-12-05T21:09:24.611Z"
   },
   {
    "duration": 380,
    "start_time": "2021-12-05T21:09:24.617Z"
   },
   {
    "duration": 211,
    "start_time": "2021-12-05T21:09:25.000Z"
   },
   {
    "duration": 117,
    "start_time": "2021-12-05T21:09:25.293Z"
   },
   {
    "duration": 121,
    "start_time": "2021-12-05T21:09:25.493Z"
   },
   {
    "duration": 8,
    "start_time": "2021-12-05T21:09:25.691Z"
   },
   {
    "duration": 93,
    "start_time": "2021-12-05T21:09:25.702Z"
   },
   {
    "duration": 6,
    "start_time": "2021-12-05T21:09:25.797Z"
   },
   {
    "duration": 6,
    "start_time": "2021-12-05T21:09:25.804Z"
   },
   {
    "duration": 4,
    "start_time": "2021-12-05T21:09:25.811Z"
   },
   {
    "duration": 8,
    "start_time": "2021-12-05T21:09:25.817Z"
   },
   {
    "duration": 11,
    "start_time": "2021-12-05T21:09:25.826Z"
   },
   {
    "duration": 3,
    "start_time": "2021-12-05T21:09:25.839Z"
   },
   {
    "duration": 49,
    "start_time": "2021-12-05T21:09:25.844Z"
   },
   {
    "duration": 13,
    "start_time": "2021-12-05T21:09:25.896Z"
   },
   {
    "duration": 13,
    "start_time": "2021-12-05T21:09:25.911Z"
   },
   {
    "duration": 10,
    "start_time": "2021-12-05T21:09:25.928Z"
   },
   {
    "duration": 6,
    "start_time": "2021-12-05T21:09:25.940Z"
   },
   {
    "duration": 2974,
    "start_time": "2021-12-05T21:09:25.948Z"
   },
   {
    "duration": 2900,
    "start_time": "2021-12-05T21:09:28.924Z"
   },
   {
    "duration": 2863,
    "start_time": "2021-12-05T21:09:31.826Z"
   },
   {
    "duration": 7,
    "start_time": "2021-12-05T21:26:29.123Z"
   },
   {
    "duration": 8,
    "start_time": "2021-12-05T21:26:38.298Z"
   },
   {
    "duration": 950,
    "start_time": "2021-12-05T21:26:58.054Z"
   },
   {
    "duration": 364,
    "start_time": "2021-12-05T21:26:59.006Z"
   },
   {
    "duration": 3,
    "start_time": "2021-12-05T21:26:59.372Z"
   },
   {
    "duration": 63,
    "start_time": "2021-12-05T21:26:59.377Z"
   },
   {
    "duration": 70,
    "start_time": "2021-12-05T21:26:59.442Z"
   },
   {
    "duration": 51,
    "start_time": "2021-12-05T21:26:59.514Z"
   },
   {
    "duration": 4,
    "start_time": "2021-12-05T21:26:59.567Z"
   },
   {
    "duration": 422,
    "start_time": "2021-12-05T21:26:59.572Z"
   },
   {
    "duration": 218,
    "start_time": "2021-12-05T21:26:59.996Z"
   },
   {
    "duration": 191,
    "start_time": "2021-12-05T21:27:00.216Z"
   },
   {
    "duration": 195,
    "start_time": "2021-12-05T21:27:00.409Z"
   },
   {
    "duration": 86,
    "start_time": "2021-12-05T21:27:00.606Z"
   },
   {
    "duration": 105,
    "start_time": "2021-12-05T21:27:00.695Z"
   },
   {
    "duration": 6,
    "start_time": "2021-12-05T21:27:00.802Z"
   },
   {
    "duration": 10,
    "start_time": "2021-12-05T21:27:00.810Z"
   },
   {
    "duration": 9,
    "start_time": "2021-12-05T21:27:00.822Z"
   },
   {
    "duration": 8,
    "start_time": "2021-12-05T21:27:00.833Z"
   },
   {
    "duration": 8,
    "start_time": "2021-12-05T21:27:00.843Z"
   },
   {
    "duration": 20,
    "start_time": "2021-12-05T21:27:00.852Z"
   },
   {
    "duration": 11,
    "start_time": "2021-12-05T21:27:00.874Z"
   },
   {
    "duration": 13,
    "start_time": "2021-12-05T21:27:00.886Z"
   },
   {
    "duration": 5,
    "start_time": "2021-12-05T21:27:00.900Z"
   },
   {
    "duration": 2986,
    "start_time": "2021-12-05T21:27:00.907Z"
   },
   {
    "duration": 2881,
    "start_time": "2021-12-05T21:27:03.894Z"
   },
   {
    "duration": 2904,
    "start_time": "2021-12-05T21:27:06.777Z"
   },
   {
    "duration": 1018,
    "start_time": "2021-12-05T21:28:52.586Z"
   },
   {
    "duration": 366,
    "start_time": "2021-12-05T21:28:53.606Z"
   },
   {
    "duration": 3,
    "start_time": "2021-12-05T21:28:53.974Z"
   },
   {
    "duration": 62,
    "start_time": "2021-12-05T21:28:53.979Z"
   },
   {
    "duration": 63,
    "start_time": "2021-12-05T21:28:54.043Z"
   },
   {
    "duration": 48,
    "start_time": "2021-12-05T21:28:54.108Z"
   },
   {
    "duration": 3,
    "start_time": "2021-12-05T21:28:54.158Z"
   },
   {
    "duration": 432,
    "start_time": "2021-12-05T21:28:54.164Z"
   },
   {
    "duration": 211,
    "start_time": "2021-12-05T21:28:54.599Z"
   },
   {
    "duration": 121,
    "start_time": "2021-12-05T21:28:54.891Z"
   },
   {
    "duration": 199,
    "start_time": "2021-12-05T21:28:55.093Z"
   },
   {
    "duration": 4,
    "start_time": "2021-12-05T21:28:55.294Z"
   },
   {
    "duration": 13,
    "start_time": "2021-12-05T21:28:55.391Z"
   },
   {
    "duration": 3,
    "start_time": "2021-12-05T21:28:55.405Z"
   },
   {
    "duration": 5,
    "start_time": "2021-12-05T21:28:55.409Z"
   },
   {
    "duration": 5,
    "start_time": "2021-12-05T21:28:55.416Z"
   },
   {
    "duration": 4,
    "start_time": "2021-12-05T21:28:55.422Z"
   },
   {
    "duration": 15,
    "start_time": "2021-12-05T21:28:55.428Z"
   },
   {
    "duration": 9,
    "start_time": "2021-12-05T21:28:55.444Z"
   },
   {
    "duration": 42,
    "start_time": "2021-12-05T21:28:55.454Z"
   },
   {
    "duration": 5,
    "start_time": "2021-12-05T21:28:55.497Z"
   },
   {
    "duration": 2947,
    "start_time": "2021-12-05T21:28:55.504Z"
   },
   {
    "duration": 2915,
    "start_time": "2021-12-05T21:28:58.454Z"
   },
   {
    "duration": 2933,
    "start_time": "2021-12-05T21:29:01.370Z"
   },
   {
    "duration": 8,
    "start_time": "2021-12-05T21:31:42.088Z"
   },
   {
    "duration": 992,
    "start_time": "2021-12-05T21:49:32.014Z"
   },
   {
    "duration": 376,
    "start_time": "2021-12-05T21:49:33.008Z"
   },
   {
    "duration": 6,
    "start_time": "2021-12-05T21:49:33.386Z"
   },
   {
    "duration": 71,
    "start_time": "2021-12-05T21:49:33.393Z"
   },
   {
    "duration": 62,
    "start_time": "2021-12-05T21:49:33.466Z"
   },
   {
    "duration": 65,
    "start_time": "2021-12-05T21:49:33.530Z"
   },
   {
    "duration": 4,
    "start_time": "2021-12-05T21:49:33.597Z"
   },
   {
    "duration": 297,
    "start_time": "2021-12-05T21:49:33.603Z"
   },
   {
    "duration": 193,
    "start_time": "2021-12-05T21:49:33.903Z"
   },
   {
    "duration": 208,
    "start_time": "2021-12-05T21:49:34.098Z"
   },
   {
    "duration": 198,
    "start_time": "2021-12-05T21:49:34.308Z"
   },
   {
    "duration": 93,
    "start_time": "2021-12-05T21:49:34.599Z"
   },
   {
    "duration": 17,
    "start_time": "2021-12-05T21:49:34.694Z"
   },
   {
    "duration": 2,
    "start_time": "2021-12-05T21:49:34.713Z"
   },
   {
    "duration": 7,
    "start_time": "2021-12-05T21:49:34.717Z"
   },
   {
    "duration": 22,
    "start_time": "2021-12-05T21:49:34.725Z"
   },
   {
    "duration": 7,
    "start_time": "2021-12-05T21:49:34.748Z"
   },
   {
    "duration": 17,
    "start_time": "2021-12-05T21:49:34.756Z"
   },
   {
    "duration": 9,
    "start_time": "2021-12-05T21:49:34.774Z"
   },
   {
    "duration": 13,
    "start_time": "2021-12-05T21:49:34.784Z"
   },
   {
    "duration": 4,
    "start_time": "2021-12-05T21:49:34.799Z"
   },
   {
    "duration": 2906,
    "start_time": "2021-12-05T21:49:34.805Z"
   },
   {
    "duration": 2900,
    "start_time": "2021-12-05T21:49:37.712Z"
   },
   {
    "duration": 2914,
    "start_time": "2021-12-05T21:49:40.614Z"
   },
   {
    "duration": 1389,
    "start_time": "2021-12-06T04:35:44.719Z"
   },
   {
    "duration": 472,
    "start_time": "2021-12-06T04:35:46.110Z"
   },
   {
    "duration": 5,
    "start_time": "2021-12-06T04:35:46.584Z"
   },
   {
    "duration": 107,
    "start_time": "2021-12-06T04:36:36.359Z"
   },
   {
    "duration": 86,
    "start_time": "2021-12-06T04:36:37.792Z"
   },
   {
    "duration": 92,
    "start_time": "2021-12-06T04:36:39.037Z"
   },
   {
    "duration": 5,
    "start_time": "2021-12-06T04:38:37.540Z"
   },
   {
    "duration": 374,
    "start_time": "2021-12-06T04:38:38.109Z"
   },
   {
    "duration": 103,
    "start_time": "2021-12-06T04:38:38.667Z"
   },
   {
    "duration": 104,
    "start_time": "2021-12-06T04:38:39.165Z"
   },
   {
    "duration": 62,
    "start_time": "2021-12-06T04:38:39.907Z"
   },
   {
    "duration": 5,
    "start_time": "2021-12-06T04:38:40.531Z"
   },
   {
    "duration": 12,
    "start_time": "2021-12-06T04:38:41.460Z"
   },
   {
    "duration": 4,
    "start_time": "2021-12-06T04:41:23.420Z"
   },
   {
    "duration": 5,
    "start_time": "2021-12-06T04:41:23.689Z"
   },
   {
    "duration": 5,
    "start_time": "2021-12-06T04:42:15.912Z"
   },
   {
    "duration": 6,
    "start_time": "2021-12-06T04:42:18.290Z"
   },
   {
    "duration": 13,
    "start_time": "2021-12-06T04:42:27.406Z"
   },
   {
    "duration": 54,
    "start_time": "2021-12-06T04:42:27.422Z"
   },
   {
    "duration": 7,
    "start_time": "2021-12-06T04:42:47.365Z"
   },
   {
    "duration": 5195,
    "start_time": "2021-12-06T04:42:49.376Z"
   },
   {
    "duration": 5186,
    "start_time": "2021-12-06T04:42:55.651Z"
   },
   {
    "duration": 5188,
    "start_time": "2021-12-06T04:43:00.839Z"
   },
   {
    "duration": 1523,
    "start_time": "2021-12-06T12:25:38.487Z"
   },
   {
    "duration": 533,
    "start_time": "2021-12-06T12:25:40.012Z"
   },
   {
    "duration": 4,
    "start_time": "2021-12-06T12:25:40.548Z"
   },
   {
    "duration": 136,
    "start_time": "2021-12-06T12:25:40.555Z"
   },
   {
    "duration": 107,
    "start_time": "2021-12-06T12:25:40.694Z"
   },
   {
    "duration": 136,
    "start_time": "2021-12-06T12:25:40.819Z"
   },
   {
    "duration": 5,
    "start_time": "2021-12-06T12:25:40.958Z"
   },
   {
    "duration": 461,
    "start_time": "2021-12-06T12:25:40.967Z"
   },
   {
    "duration": 214,
    "start_time": "2021-12-06T12:25:41.433Z"
   },
   {
    "duration": 198,
    "start_time": "2021-12-06T12:25:41.718Z"
   },
   {
    "duration": 127,
    "start_time": "2021-12-06T12:25:41.920Z"
   },
   {
    "duration": 7,
    "start_time": "2021-12-06T12:25:42.120Z"
   },
   {
    "duration": 109,
    "start_time": "2021-12-06T12:25:42.130Z"
   },
   {
    "duration": 4,
    "start_time": "2021-12-06T12:25:42.243Z"
   },
   {
    "duration": 14,
    "start_time": "2021-12-06T12:25:42.249Z"
   },
   {
    "duration": 7,
    "start_time": "2021-12-06T12:25:42.266Z"
   },
   {
    "duration": 10,
    "start_time": "2021-12-06T12:25:42.275Z"
   },
   {
    "duration": 44,
    "start_time": "2021-12-06T12:25:42.287Z"
   },
   {
    "duration": 15,
    "start_time": "2021-12-06T12:25:42.335Z"
   },
   {
    "duration": 15,
    "start_time": "2021-12-06T12:25:42.353Z"
   },
   {
    "duration": 47,
    "start_time": "2021-12-06T12:25:42.370Z"
   },
   {
    "duration": 6339,
    "start_time": "2021-12-06T12:25:42.420Z"
   },
   {
    "duration": 957,
    "start_time": "2021-12-06T12:25:47.804Z"
   },
   {
    "duration": 957,
    "start_time": "2021-12-06T12:25:47.806Z"
   },
   {
    "duration": 11,
    "start_time": "2021-12-06T12:27:20.526Z"
   },
   {
    "duration": 5532,
    "start_time": "2021-12-06T12:27:26.107Z"
   },
   {
    "duration": 5623,
    "start_time": "2021-12-06T12:29:49.797Z"
   },
   {
    "duration": 5956,
    "start_time": "2021-12-06T12:29:55.424Z"
   },
   {
    "duration": 8,
    "start_time": "2021-12-06T12:44:52.570Z"
   },
   {
    "duration": 5508,
    "start_time": "2021-12-06T12:44:52.973Z"
   },
   {
    "duration": 5719,
    "start_time": "2021-12-06T12:44:58.483Z"
   },
   {
    "duration": 5593,
    "start_time": "2021-12-06T12:45:04.206Z"
   },
   {
    "duration": 8,
    "start_time": "2021-12-06T12:49:38.468Z"
   },
   {
    "duration": 5659,
    "start_time": "2021-12-06T12:49:38.480Z"
   },
   {
    "duration": 8,
    "start_time": "2021-12-06T12:50:10.619Z"
   },
   {
    "duration": 1429,
    "start_time": "2021-12-06T12:51:51.808Z"
   },
   {
    "duration": 475,
    "start_time": "2021-12-06T12:51:53.239Z"
   },
   {
    "duration": 4,
    "start_time": "2021-12-06T12:51:53.717Z"
   },
   {
    "duration": 131,
    "start_time": "2021-12-06T12:51:53.725Z"
   },
   {
    "duration": 124,
    "start_time": "2021-12-06T12:51:53.859Z"
   },
   {
    "duration": 113,
    "start_time": "2021-12-06T12:51:53.985Z"
   },
   {
    "duration": 18,
    "start_time": "2021-12-06T12:51:54.101Z"
   },
   {
    "duration": 495,
    "start_time": "2021-12-06T12:51:54.122Z"
   },
   {
    "duration": 197,
    "start_time": "2021-12-06T12:51:54.623Z"
   },
   {
    "duration": 199,
    "start_time": "2021-12-06T12:51:54.825Z"
   },
   {
    "duration": 100,
    "start_time": "2021-12-06T12:51:55.117Z"
   },
   {
    "duration": 5,
    "start_time": "2021-12-06T12:51:55.221Z"
   },
   {
    "duration": 19,
    "start_time": "2021-12-06T12:51:55.318Z"
   },
   {
    "duration": 21,
    "start_time": "2021-12-06T12:51:55.339Z"
   },
   {
    "duration": 16,
    "start_time": "2021-12-06T12:51:55.362Z"
   },
   {
    "duration": 18,
    "start_time": "2021-12-06T12:51:55.380Z"
   },
   {
    "duration": 18,
    "start_time": "2021-12-06T12:51:55.400Z"
   },
   {
    "duration": 21,
    "start_time": "2021-12-06T12:51:55.421Z"
   },
   {
    "duration": 14,
    "start_time": "2021-12-06T12:51:55.444Z"
   },
   {
    "duration": 15,
    "start_time": "2021-12-06T12:51:55.460Z"
   },
   {
    "duration": 9,
    "start_time": "2021-12-06T12:51:55.477Z"
   },
   {
    "duration": 5238,
    "start_time": "2021-12-06T12:51:55.517Z"
   },
   {
    "duration": 5198,
    "start_time": "2021-12-06T12:52:00.758Z"
   },
   {
    "duration": 5204,
    "start_time": "2021-12-06T12:52:05.959Z"
   },
   {
    "duration": 1411,
    "start_time": "2021-12-06T13:52:13.133Z"
   },
   {
    "duration": 517,
    "start_time": "2021-12-06T13:52:14.547Z"
   },
   {
    "duration": 6,
    "start_time": "2021-12-06T13:52:15.067Z"
   },
   {
    "duration": 162,
    "start_time": "2021-12-06T13:52:15.076Z"
   },
   {
    "duration": 122,
    "start_time": "2021-12-06T13:52:15.241Z"
   },
   {
    "duration": 130,
    "start_time": "2021-12-06T13:52:15.365Z"
   },
   {
    "duration": 22,
    "start_time": "2021-12-06T13:52:15.497Z"
   },
   {
    "duration": 495,
    "start_time": "2021-12-06T13:52:15.522Z"
   },
   {
    "duration": 195,
    "start_time": "2021-12-06T13:52:16.025Z"
   },
   {
    "duration": 127,
    "start_time": "2021-12-06T13:52:16.225Z"
   },
   {
    "duration": 127,
    "start_time": "2021-12-06T13:52:16.418Z"
   },
   {
    "duration": 6,
    "start_time": "2021-12-06T13:52:16.620Z"
   },
   {
    "duration": 117,
    "start_time": "2021-12-06T13:52:16.630Z"
   },
   {
    "duration": 12,
    "start_time": "2021-12-06T13:52:16.749Z"
   },
   {
    "duration": 24,
    "start_time": "2021-12-06T13:52:16.763Z"
   },
   {
    "duration": 14,
    "start_time": "2021-12-06T13:52:16.790Z"
   },
   {
    "duration": 23,
    "start_time": "2021-12-06T13:52:16.807Z"
   },
   {
    "duration": 18,
    "start_time": "2021-12-06T13:52:16.833Z"
   },
   {
    "duration": 15,
    "start_time": "2021-12-06T13:52:16.854Z"
   },
   {
    "duration": 14,
    "start_time": "2021-12-06T13:52:16.871Z"
   },
   {
    "duration": 31,
    "start_time": "2021-12-06T13:52:16.888Z"
   },
   {
    "duration": 5360,
    "start_time": "2021-12-06T13:52:16.922Z"
   },
   {
    "duration": 5369,
    "start_time": "2021-12-06T13:52:22.285Z"
   },
   {
    "duration": 5405,
    "start_time": "2021-12-06T13:52:27.657Z"
   },
   {
    "duration": 1929,
    "start_time": "2021-12-06T15:26:27.254Z"
   },
   {
    "duration": 722,
    "start_time": "2021-12-06T15:26:29.187Z"
   },
   {
    "duration": 17,
    "start_time": "2021-12-06T15:26:29.913Z"
   },
   {
    "duration": 213,
    "start_time": "2021-12-06T15:26:29.936Z"
   },
   {
    "duration": 184,
    "start_time": "2021-12-06T15:26:30.154Z"
   },
   {
    "duration": 164,
    "start_time": "2021-12-06T15:26:30.342Z"
   },
   {
    "duration": 13,
    "start_time": "2021-12-06T15:26:30.509Z"
   },
   {
    "duration": 538,
    "start_time": "2021-12-06T15:26:30.525Z"
   },
   {
    "duration": 205,
    "start_time": "2021-12-06T15:26:31.138Z"
   },
   {
    "duration": 204,
    "start_time": "2021-12-06T15:26:31.416Z"
   },
   {
    "duration": 224,
    "start_time": "2021-12-06T15:26:31.624Z"
   },
   {
    "duration": 10,
    "start_time": "2021-12-06T15:26:31.916Z"
   },
   {
    "duration": 32,
    "start_time": "2021-12-06T15:26:31.929Z"
   },
   {
    "duration": 7,
    "start_time": "2021-12-06T15:26:31.966Z"
   },
   {
    "duration": 32,
    "start_time": "2021-12-06T15:26:31.976Z"
   },
   {
    "duration": 11,
    "start_time": "2021-12-06T15:26:32.023Z"
   },
   {
    "duration": 7,
    "start_time": "2021-12-06T15:26:32.044Z"
   },
   {
    "duration": 25,
    "start_time": "2021-12-06T15:26:32.055Z"
   },
   {
    "duration": 43,
    "start_time": "2021-12-06T15:26:32.083Z"
   },
   {
    "duration": 25,
    "start_time": "2021-12-06T15:26:32.129Z"
   },
   {
    "duration": 13,
    "start_time": "2021-12-06T15:26:32.157Z"
   },
   {
    "duration": 8884,
    "start_time": "2021-12-06T15:26:32.173Z"
   },
   {
    "duration": 8733,
    "start_time": "2021-12-06T15:26:41.062Z"
   },
   {
    "duration": 7152,
    "start_time": "2021-12-06T15:26:49.798Z"
   },
   {
    "duration": 156,
    "start_time": "2021-12-06T20:32:44.743Z"
   },
   {
    "duration": 2087,
    "start_time": "2021-12-06T20:34:33.415Z"
   },
   {
    "duration": 788,
    "start_time": "2021-12-06T20:34:35.506Z"
   },
   {
    "duration": 7,
    "start_time": "2021-12-06T20:34:36.298Z"
   },
   {
    "duration": 179,
    "start_time": "2021-12-06T20:34:36.321Z"
   },
   {
    "duration": 167,
    "start_time": "2021-12-06T20:34:36.502Z"
   },
   {
    "duration": 166,
    "start_time": "2021-12-06T20:34:36.672Z"
   },
   {
    "duration": 7,
    "start_time": "2021-12-06T20:34:36.842Z"
   },
   {
    "duration": 565,
    "start_time": "2021-12-06T20:34:36.856Z"
   },
   {
    "duration": 201,
    "start_time": "2021-12-06T20:34:37.432Z"
   },
   {
    "duration": 211,
    "start_time": "2021-12-06T20:34:37.637Z"
   },
   {
    "duration": 138,
    "start_time": "2021-12-06T20:34:37.918Z"
   },
   {
    "duration": 68,
    "start_time": "2021-12-06T20:34:38.059Z"
   },
   {
    "duration": 100,
    "start_time": "2021-12-06T20:34:38.132Z"
   },
   {
    "duration": 5,
    "start_time": "2021-12-06T20:34:38.235Z"
   },
   {
    "duration": 17,
    "start_time": "2021-12-06T20:34:38.244Z"
   },
   {
    "duration": 5,
    "start_time": "2021-12-06T20:34:38.264Z"
   },
   {
    "duration": 7,
    "start_time": "2021-12-06T20:34:38.272Z"
   },
   {
    "duration": 54,
    "start_time": "2021-12-06T20:34:38.282Z"
   },
   {
    "duration": 15,
    "start_time": "2021-12-06T20:34:38.340Z"
   },
   {
    "duration": 14,
    "start_time": "2021-12-06T20:34:38.357Z"
   },
   {
    "duration": 47,
    "start_time": "2021-12-06T20:34:38.373Z"
   },
   {
    "duration": 6117,
    "start_time": "2021-12-06T20:34:38.423Z"
   },
   {
    "duration": 6803,
    "start_time": "2021-12-06T20:34:44.543Z"
   },
   {
    "duration": 7771,
    "start_time": "2021-12-06T20:34:51.349Z"
   },
   {
    "duration": 17,
    "start_time": "2021-12-06T20:46:43.552Z"
   },
   {
    "duration": 659,
    "start_time": "2021-12-06T21:04:30.538Z"
   },
   {
    "duration": 414,
    "start_time": "2021-12-06T21:05:42.436Z"
   },
   {
    "duration": 633,
    "start_time": "2021-12-06T21:05:51.492Z"
   },
   {
    "duration": 508,
    "start_time": "2021-12-06T21:06:11.874Z"
   },
   {
    "duration": 737,
    "start_time": "2021-12-06T21:07:36.163Z"
   },
   {
    "duration": 923,
    "start_time": "2021-12-06T21:13:48.463Z"
   },
   {
    "duration": 1449,
    "start_time": "2021-12-06T21:14:06.788Z"
   },
   {
    "duration": 495,
    "start_time": "2021-12-06T21:14:08.239Z"
   },
   {
    "duration": 4,
    "start_time": "2021-12-06T21:14:08.737Z"
   },
   {
    "duration": 132,
    "start_time": "2021-12-06T21:14:08.745Z"
   },
   {
    "duration": 102,
    "start_time": "2021-12-06T21:14:08.880Z"
   },
   {
    "duration": 112,
    "start_time": "2021-12-06T21:14:08.984Z"
   },
   {
    "duration": 836,
    "start_time": "2021-12-06T21:14:09.098Z"
   },
   {
    "duration": 432,
    "start_time": "2021-12-06T21:14:09.937Z"
   },
   {
    "duration": 5,
    "start_time": "2021-12-06T21:14:10.375Z"
   },
   {
    "duration": 8717,
    "start_time": "2021-12-06T21:14:10.383Z"
   },
   {
    "duration": 108,
    "start_time": "2021-12-06T21:14:18.996Z"
   },
   {
    "duration": 106,
    "start_time": "2021-12-06T21:14:19.000Z"
   },
   {
    "duration": 105,
    "start_time": "2021-12-06T21:14:19.003Z"
   },
   {
    "duration": 107,
    "start_time": "2021-12-06T21:14:19.004Z"
   },
   {
    "duration": 106,
    "start_time": "2021-12-06T21:14:19.007Z"
   },
   {
    "duration": 102,
    "start_time": "2021-12-06T21:14:19.013Z"
   },
   {
    "duration": 102,
    "start_time": "2021-12-06T21:14:19.015Z"
   },
   {
    "duration": 100,
    "start_time": "2021-12-06T21:14:19.019Z"
   },
   {
    "duration": 101,
    "start_time": "2021-12-06T21:14:19.020Z"
   },
   {
    "duration": 102,
    "start_time": "2021-12-06T21:14:19.021Z"
   },
   {
    "duration": 101,
    "start_time": "2021-12-06T21:14:19.024Z"
   },
   {
    "duration": 102,
    "start_time": "2021-12-06T21:14:19.026Z"
   },
   {
    "duration": 103,
    "start_time": "2021-12-06T21:14:19.027Z"
   },
   {
    "duration": 104,
    "start_time": "2021-12-06T21:14:19.028Z"
   },
   {
    "duration": 105,
    "start_time": "2021-12-06T21:14:19.029Z"
   },
   {
    "duration": 106,
    "start_time": "2021-12-06T21:14:19.030Z"
   },
   {
    "duration": 1046,
    "start_time": "2021-12-06T21:16:02.151Z"
   },
   {
    "duration": 7644,
    "start_time": "2021-12-06T21:17:30.393Z"
   },
   {
    "duration": 31,
    "start_time": "2021-12-06T21:18:05.009Z"
   },
   {
    "duration": 9333,
    "start_time": "2021-12-06T21:18:53.008Z"
   },
   {
    "duration": 1379,
    "start_time": "2021-12-06T21:20:52.303Z"
   },
   {
    "duration": 478,
    "start_time": "2021-12-06T21:20:53.686Z"
   },
   {
    "duration": 4,
    "start_time": "2021-12-06T21:20:54.170Z"
   },
   {
    "duration": 141,
    "start_time": "2021-12-06T21:20:54.177Z"
   },
   {
    "duration": 107,
    "start_time": "2021-12-06T21:20:54.321Z"
   },
   {
    "duration": 124,
    "start_time": "2021-12-06T21:20:54.430Z"
   },
   {
    "duration": 918,
    "start_time": "2021-12-06T21:20:54.557Z"
   },
   {
    "duration": 667,
    "start_time": "2021-12-06T21:20:55.479Z"
   },
   {
    "duration": 311,
    "start_time": "2021-12-06T21:20:56.149Z"
   },
   {
    "duration": 5,
    "start_time": "2021-12-06T21:20:56.462Z"
   },
   {
    "duration": 468,
    "start_time": "2021-12-06T21:20:56.470Z"
   },
   {
    "duration": 204,
    "start_time": "2021-12-06T21:20:56.941Z"
   },
   {
    "duration": 133,
    "start_time": "2021-12-06T21:20:57.217Z"
   },
   {
    "duration": 200,
    "start_time": "2021-12-06T21:20:57.419Z"
   },
   {
    "duration": 6,
    "start_time": "2021-12-06T21:20:57.623Z"
   },
   {
    "duration": 101,
    "start_time": "2021-12-06T21:20:57.632Z"
   },
   {
    "duration": 5,
    "start_time": "2021-12-06T21:20:57.736Z"
   },
   {
    "duration": 7,
    "start_time": "2021-12-06T21:20:57.743Z"
   },
   {
    "duration": 6,
    "start_time": "2021-12-06T21:20:57.752Z"
   },
   {
    "duration": 5,
    "start_time": "2021-12-06T21:20:57.761Z"
   },
   {
    "duration": 17,
    "start_time": "2021-12-06T21:20:57.817Z"
   },
   {
    "duration": 13,
    "start_time": "2021-12-06T21:20:57.837Z"
   },
   {
    "duration": 14,
    "start_time": "2021-12-06T21:20:57.853Z"
   },
   {
    "duration": 56,
    "start_time": "2021-12-06T21:20:57.869Z"
   },
   {
    "duration": 5323,
    "start_time": "2021-12-06T21:20:57.929Z"
   },
   {
    "duration": 5196,
    "start_time": "2021-12-06T21:21:03.258Z"
   },
   {
    "duration": 5330,
    "start_time": "2021-12-06T21:21:08.457Z"
   },
   {
    "duration": 494,
    "start_time": "2021-12-06T21:23:34.374Z"
   },
   {
    "duration": 30,
    "start_time": "2021-12-06T21:24:21.741Z"
   },
   {
    "duration": 370,
    "start_time": "2021-12-06T21:24:22.390Z"
   },
   {
    "duration": 1349,
    "start_time": "2021-12-06T21:25:49.088Z"
   },
   {
    "duration": 581,
    "start_time": "2021-12-06T21:25:50.440Z"
   },
   {
    "duration": 4,
    "start_time": "2021-12-06T21:25:51.027Z"
   },
   {
    "duration": 132,
    "start_time": "2021-12-06T21:25:51.034Z"
   },
   {
    "duration": 111,
    "start_time": "2021-12-06T21:25:51.168Z"
   },
   {
    "duration": 136,
    "start_time": "2021-12-06T21:25:51.281Z"
   },
   {
    "duration": 948,
    "start_time": "2021-12-06T21:25:51.421Z"
   },
   {
    "duration": 584,
    "start_time": "2021-12-06T21:25:52.375Z"
   },
   {
    "duration": 133,
    "start_time": "2021-12-06T21:25:52.830Z"
   },
   {
    "duration": 134,
    "start_time": "2021-12-06T21:25:52.832Z"
   },
   {
    "duration": 134,
    "start_time": "2021-12-06T21:25:52.834Z"
   },
   {
    "duration": 136,
    "start_time": "2021-12-06T21:25:52.835Z"
   },
   {
    "duration": 137,
    "start_time": "2021-12-06T21:25:52.836Z"
   },
   {
    "duration": 138,
    "start_time": "2021-12-06T21:25:52.837Z"
   },
   {
    "duration": 138,
    "start_time": "2021-12-06T21:25:52.839Z"
   },
   {
    "duration": 138,
    "start_time": "2021-12-06T21:25:52.842Z"
   },
   {
    "duration": 139,
    "start_time": "2021-12-06T21:25:52.843Z"
   },
   {
    "duration": 136,
    "start_time": "2021-12-06T21:25:52.848Z"
   },
   {
    "duration": 136,
    "start_time": "2021-12-06T21:25:52.850Z"
   },
   {
    "duration": 138,
    "start_time": "2021-12-06T21:25:52.851Z"
   },
   {
    "duration": 138,
    "start_time": "2021-12-06T21:25:52.853Z"
   },
   {
    "duration": 139,
    "start_time": "2021-12-06T21:25:52.854Z"
   },
   {
    "duration": 138,
    "start_time": "2021-12-06T21:25:52.857Z"
   },
   {
    "duration": 128,
    "start_time": "2021-12-06T21:25:52.870Z"
   },
   {
    "duration": 123,
    "start_time": "2021-12-06T21:25:52.877Z"
   },
   {
    "duration": 138,
    "start_time": "2021-12-06T21:25:52.879Z"
   },
   {
    "duration": 138,
    "start_time": "2021-12-06T21:25:52.882Z"
   },
   {
    "duration": 139,
    "start_time": "2021-12-06T21:25:52.884Z"
   },
   {
    "duration": 131,
    "start_time": "2021-12-06T21:25:52.894Z"
   },
   {
    "duration": 132,
    "start_time": "2021-12-06T21:25:52.895Z"
   },
   {
    "duration": 505,
    "start_time": "2021-12-06T21:27:23.062Z"
   },
   {
    "duration": 2071,
    "start_time": "2021-12-06T21:28:09.687Z"
   },
   {
    "duration": 727,
    "start_time": "2021-12-06T21:28:11.762Z"
   },
   {
    "duration": 5,
    "start_time": "2021-12-06T21:28:12.494Z"
   },
   {
    "duration": 135,
    "start_time": "2021-12-06T21:28:12.502Z"
   },
   {
    "duration": 115,
    "start_time": "2021-12-06T21:28:12.640Z"
   },
   {
    "duration": 124,
    "start_time": "2021-12-06T21:28:12.758Z"
   },
   {
    "duration": 877,
    "start_time": "2021-12-06T21:28:12.885Z"
   },
   {
    "duration": 339,
    "start_time": "2021-12-06T21:28:13.766Z"
   },
   {
    "duration": 35,
    "start_time": "2021-12-06T21:28:14.108Z"
   },
   {
    "duration": 401,
    "start_time": "2021-12-06T21:28:14.146Z"
   },
   {
    "duration": 47,
    "start_time": "2021-12-06T21:28:14.550Z"
   },
   {
    "duration": 484,
    "start_time": "2021-12-06T21:28:14.617Z"
   },
   {
    "duration": 14,
    "start_time": "2021-12-06T21:28:15.104Z"
   },
   {
    "duration": 507,
    "start_time": "2021-12-06T21:28:15.121Z"
   },
   {
    "duration": 202,
    "start_time": "2021-12-06T21:28:15.631Z"
   },
   {
    "duration": 207,
    "start_time": "2021-12-06T21:28:15.836Z"
   },
   {
    "duration": 211,
    "start_time": "2021-12-06T21:28:16.119Z"
   },
   {
    "duration": 6,
    "start_time": "2021-12-06T21:28:16.418Z"
   },
   {
    "duration": 20,
    "start_time": "2021-12-06T21:28:16.428Z"
   },
   {
    "duration": 4,
    "start_time": "2021-12-06T21:28:16.451Z"
   },
   {
    "duration": 7,
    "start_time": "2021-12-06T21:28:16.458Z"
   },
   {
    "duration": 50,
    "start_time": "2021-12-06T21:28:16.467Z"
   },
   {
    "duration": 7,
    "start_time": "2021-12-06T21:28:16.521Z"
   },
   {
    "duration": 23,
    "start_time": "2021-12-06T21:28:16.530Z"
   },
   {
    "duration": 13,
    "start_time": "2021-12-06T21:28:16.556Z"
   },
   {
    "duration": 50,
    "start_time": "2021-12-06T21:28:16.571Z"
   },
   {
    "duration": 9,
    "start_time": "2021-12-06T21:28:16.624Z"
   },
   {
    "duration": 5191,
    "start_time": "2021-12-06T21:28:16.636Z"
   },
   {
    "duration": 5600,
    "start_time": "2021-12-06T21:28:21.830Z"
   },
   {
    "duration": 5188,
    "start_time": "2021-12-06T21:28:27.433Z"
   },
   {
    "duration": 1446,
    "start_time": "2021-12-06T21:30:52.526Z"
   },
   {
    "duration": 493,
    "start_time": "2021-12-06T21:30:53.975Z"
   },
   {
    "duration": 5,
    "start_time": "2021-12-06T21:30:54.471Z"
   },
   {
    "duration": 158,
    "start_time": "2021-12-06T21:30:54.479Z"
   },
   {
    "duration": 117,
    "start_time": "2021-12-06T21:30:54.639Z"
   },
   {
    "duration": 120,
    "start_time": "2021-12-06T21:30:54.759Z"
   },
   {
    "duration": 770,
    "start_time": "2021-12-06T21:30:54.881Z"
   },
   {
    "duration": 348,
    "start_time": "2021-12-06T21:30:55.654Z"
   },
   {
    "duration": 37,
    "start_time": "2021-12-06T21:30:56.006Z"
   },
   {
    "duration": 291,
    "start_time": "2021-12-06T21:30:56.047Z"
   },
   {
    "duration": 29,
    "start_time": "2021-12-06T21:30:56.341Z"
   },
   {
    "duration": 416,
    "start_time": "2021-12-06T21:30:56.373Z"
   },
   {
    "duration": 7,
    "start_time": "2021-12-06T21:30:56.792Z"
   },
   {
    "duration": 527,
    "start_time": "2021-12-06T21:30:56.801Z"
   },
   {
    "duration": 207,
    "start_time": "2021-12-06T21:30:57.332Z"
   },
   {
    "duration": 127,
    "start_time": "2021-12-06T21:30:57.619Z"
   },
   {
    "duration": 198,
    "start_time": "2021-12-06T21:30:57.825Z"
   },
   {
    "duration": 89,
    "start_time": "2021-12-06T21:30:58.029Z"
   },
   {
    "duration": 20,
    "start_time": "2021-12-06T21:30:58.121Z"
   },
   {
    "duration": 5,
    "start_time": "2021-12-06T21:30:58.143Z"
   },
   {
    "duration": 7,
    "start_time": "2021-12-06T21:30:58.150Z"
   },
   {
    "duration": 6,
    "start_time": "2021-12-06T21:30:58.160Z"
   },
   {
    "duration": 48,
    "start_time": "2021-12-06T21:30:58.169Z"
   },
   {
    "duration": 20,
    "start_time": "2021-12-06T21:30:58.220Z"
   },
   {
    "duration": 14,
    "start_time": "2021-12-06T21:30:58.242Z"
   },
   {
    "duration": 14,
    "start_time": "2021-12-06T21:30:58.258Z"
   },
   {
    "duration": 43,
    "start_time": "2021-12-06T21:30:58.276Z"
   },
   {
    "duration": 5273,
    "start_time": "2021-12-06T21:30:58.321Z"
   },
   {
    "duration": 5112,
    "start_time": "2021-12-06T21:31:03.597Z"
   },
   {
    "duration": 5067,
    "start_time": "2021-12-06T21:31:08.717Z"
   },
   {
    "duration": 135,
    "start_time": "2021-12-06T22:06:48.809Z"
   },
   {
    "duration": 1595,
    "start_time": "2022-02-01T18:55:58.500Z"
   },
   {
    "duration": 493,
    "start_time": "2022-02-01T18:56:00.099Z"
   },
   {
    "duration": 5,
    "start_time": "2022-02-01T18:56:00.595Z"
   },
   {
    "duration": 132,
    "start_time": "2022-02-01T18:56:00.602Z"
   },
   {
    "duration": 114,
    "start_time": "2022-02-01T18:56:00.738Z"
   },
   {
    "duration": 114,
    "start_time": "2022-02-01T18:56:00.856Z"
   },
   {
    "duration": 596,
    "start_time": "2022-02-01T18:56:00.972Z"
   },
   {
    "duration": 363,
    "start_time": "2022-02-01T18:56:01.571Z"
   },
   {
    "duration": 34,
    "start_time": "2022-02-01T18:56:01.939Z"
   },
   {
    "duration": 324,
    "start_time": "2022-02-01T18:56:01.977Z"
   },
   {
    "duration": 46,
    "start_time": "2022-02-01T18:56:02.304Z"
   },
   {
    "duration": 313,
    "start_time": "2022-02-01T18:56:02.353Z"
   },
   {
    "duration": 5,
    "start_time": "2022-02-01T18:56:02.669Z"
   },
   {
    "duration": 472,
    "start_time": "2022-02-01T18:56:02.677Z"
   },
   {
    "duration": 128,
    "start_time": "2022-02-01T18:56:03.234Z"
   },
   {
    "duration": 126,
    "start_time": "2022-02-01T18:56:03.432Z"
   },
   {
    "duration": 193,
    "start_time": "2022-02-01T18:56:03.561Z"
   },
   {
    "duration": 77,
    "start_time": "2022-02-01T18:56:03.757Z"
   },
   {
    "duration": 107,
    "start_time": "2022-02-01T18:56:03.837Z"
   },
   {
    "duration": 4,
    "start_time": "2022-02-01T18:56:03.946Z"
   },
   {
    "duration": 16,
    "start_time": "2022-02-01T18:56:03.952Z"
   },
   {
    "duration": 8,
    "start_time": "2022-02-01T18:56:03.971Z"
   },
   {
    "duration": 6,
    "start_time": "2022-02-01T18:56:03.983Z"
   },
   {
    "duration": 49,
    "start_time": "2022-02-01T18:56:03.992Z"
   },
   {
    "duration": 14,
    "start_time": "2022-02-01T18:56:04.044Z"
   },
   {
    "duration": 13,
    "start_time": "2022-02-01T18:56:04.060Z"
   },
   {
    "duration": 8,
    "start_time": "2022-02-01T18:56:04.080Z"
   },
   {
    "duration": 5482,
    "start_time": "2022-02-01T18:56:04.091Z"
   },
   {
    "duration": 5223,
    "start_time": "2022-02-01T18:56:09.576Z"
   },
   {
    "duration": 5213,
    "start_time": "2022-02-01T18:56:14.801Z"
   },
   {
    "duration": 1544,
    "start_time": "2022-02-01T19:02:43.926Z"
   },
   {
    "duration": 510,
    "start_time": "2022-02-01T19:02:45.472Z"
   },
   {
    "duration": 4,
    "start_time": "2022-02-01T19:02:45.985Z"
   },
   {
    "duration": 111,
    "start_time": "2022-02-01T19:02:45.991Z"
   },
   {
    "duration": 104,
    "start_time": "2022-02-01T19:02:46.104Z"
   },
   {
    "duration": 107,
    "start_time": "2022-02-01T19:02:46.211Z"
   },
   {
    "duration": 583,
    "start_time": "2022-02-01T19:02:46.333Z"
   },
   {
    "duration": 373,
    "start_time": "2022-02-01T19:02:46.920Z"
   },
   {
    "duration": 42,
    "start_time": "2022-02-01T19:02:47.296Z"
   },
   {
    "duration": 303,
    "start_time": "2022-02-01T19:02:47.340Z"
   },
   {
    "duration": 31,
    "start_time": "2022-02-01T19:02:47.647Z"
   },
   {
    "duration": 326,
    "start_time": "2022-02-01T19:02:47.680Z"
   },
   {
    "duration": 5,
    "start_time": "2022-02-01T19:02:48.009Z"
   },
   {
    "duration": 518,
    "start_time": "2022-02-01T19:02:48.016Z"
   },
   {
    "duration": 197,
    "start_time": "2022-02-01T19:02:48.538Z"
   },
   {
    "duration": 200,
    "start_time": "2022-02-01T19:02:48.739Z"
   },
   {
    "duration": 192,
    "start_time": "2022-02-01T19:02:48.944Z"
   },
   {
    "duration": 9,
    "start_time": "2022-02-01T19:02:49.141Z"
   },
   {
    "duration": 98,
    "start_time": "2022-02-01T19:02:49.153Z"
   },
   {
    "duration": 6,
    "start_time": "2022-02-01T19:02:49.255Z"
   },
   {
    "duration": 9,
    "start_time": "2022-02-01T19:02:49.263Z"
   },
   {
    "duration": 12,
    "start_time": "2022-02-01T19:02:49.275Z"
   },
   {
    "duration": 7,
    "start_time": "2022-02-01T19:02:49.293Z"
   },
   {
    "duration": 14,
    "start_time": "2022-02-01T19:02:49.333Z"
   },
   {
    "duration": 14,
    "start_time": "2022-02-01T19:02:49.349Z"
   },
   {
    "duration": 15,
    "start_time": "2022-02-01T19:02:49.365Z"
   },
   {
    "duration": 11,
    "start_time": "2022-02-01T19:02:49.384Z"
   },
   {
    "duration": 5625,
    "start_time": "2022-02-01T19:02:49.433Z"
   },
   {
    "duration": 5915,
    "start_time": "2022-02-01T19:02:55.061Z"
   },
   {
    "duration": 5407,
    "start_time": "2022-02-01T19:03:00.979Z"
   }
  ],
  "kernelspec": {
   "display_name": "Python 3",
   "language": "python",
   "name": "python3"
  },
  "language_info": {
   "codemirror_mode": {
    "name": "ipython",
    "version": 3
   },
   "file_extension": ".py",
   "mimetype": "text/x-python",
   "name": "python",
   "nbconvert_exporter": "python",
   "pygments_lexer": "ipython3",
   "version": "3.7.8"
  },
  "toc": {
   "base_numbering": 1,
   "nav_menu": {},
   "number_sections": true,
   "sideBar": true,
   "skip_h1_title": true,
   "title_cell": "Table of Contents",
   "title_sidebar": "Contents",
   "toc_cell": false,
   "toc_position": {},
   "toc_section_display": true,
   "toc_window_display": true
  }
 },
 "nbformat": 4,
 "nbformat_minor": 2
}
