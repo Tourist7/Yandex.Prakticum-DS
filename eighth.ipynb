{
 "cells": [
  {
   "cell_type": "markdown",
   "metadata": {
    "toc": true
   },
   "source": [
    "<h1>Содержание<span class=\"tocSkip\"></span></h1>\n",
    "<div class=\"toc\"><ul class=\"toc-item\"><li><span><a href=\"#Подготовка-данных\" data-toc-modified-id=\"Подготовка-данных-1\"><span class=\"toc-item-num\">1&nbsp;&nbsp;</span>Подготовка данных</a></span><ul class=\"toc-item\"><li><span><a href=\"#Чтение-файлов-и-проверка,-что-эффективность-обогащения-'rougher.output.recovery'-рассчитана-правильно.\" data-toc-modified-id=\"Чтение-файлов-и-проверка,-что-эффективность-обогащения-'rougher.output.recovery'-рассчитана-правильно.-1.1\"><span class=\"toc-item-num\">1.1&nbsp;&nbsp;</span>Чтение файлов и проверка, что эффективность обогащения 'rougher.output.recovery' рассчитана правильно.</a></span></li><li><span><a href=\"#Анализ-признаков,-недоступных-в-тестовой-выборке.\" data-toc-modified-id=\"Анализ-признаков,-недоступных-в-тестовой-выборке.-1.2\"><span class=\"toc-item-num\">1.2&nbsp;&nbsp;</span>Анализ признаков, недоступных в тестовой выборке.</a></span></li><li><span><a href=\"#Предобработка-данных\" data-toc-modified-id=\"Предобработка-данных-1.3\"><span class=\"toc-item-num\">1.3&nbsp;&nbsp;</span>Предобработка данных</a></span></li></ul></li><li><span><a href=\"#Анализ-данных\" data-toc-modified-id=\"Анализ-данных-2\"><span class=\"toc-item-num\">2&nbsp;&nbsp;</span>Анализ данных</a></span><ul class=\"toc-item\"><li><span><a href=\"#Как-меняется-концентрация-металлов-(Au---золота,-Ag---серебро,-Pb---палладий)-на-различных-этапах-очистки\" data-toc-modified-id=\"Как-меняется-концентрация-металлов-(Au---золота,-Ag---серебро,-Pb---палладий)-на-различных-этапах-очистки-2.1\"><span class=\"toc-item-num\">2.1&nbsp;&nbsp;</span>Как меняется концентрация металлов (Au - золота, Ag - серебро, Pb - палладий) на различных этапах очистки</a></span></li><li><span><a href=\"#Сравните-распределения-размеров-гранул-сырья-на-обучающей-и-тестовой-выборках.\" data-toc-modified-id=\"Сравните-распределения-размеров-гранул-сырья-на-обучающей-и-тестовой-выборках.-2.2\"><span class=\"toc-item-num\">2.2&nbsp;&nbsp;</span>Сравните распределения размеров гранул сырья на обучающей и тестовой выборках.</a></span></li><li><span><a href=\"#Исследование-суммарных-концентраций\" data-toc-modified-id=\"Исследование-суммарных-концентраций-2.3\"><span class=\"toc-item-num\">2.3&nbsp;&nbsp;</span>Исследование суммарных концентраций</a></span></li></ul></li><li><span><a href=\"#Модель\" data-toc-modified-id=\"Модель-3\"><span class=\"toc-item-num\">3&nbsp;&nbsp;</span>Модель</a></span><ul class=\"toc-item\"><li><span><a href=\"#Напишите-функцию-для-вычисления-итоговой-sMAPE\" data-toc-modified-id=\"Напишите-функцию-для-вычисления-итоговой-sMAPE-3.1\"><span class=\"toc-item-num\">3.1&nbsp;&nbsp;</span>Напишите функцию для вычисления итоговой sMAPE</a></span></li><li><span><a href=\"#Обучите-разные-модели-и-оцените-их-качество-кросс-валидацией.-Выберите-лучшую-модель-и-проверьте-её-на-тестовой-выборке.-Опишите-выводы.\" data-toc-modified-id=\"Обучите-разные-модели-и-оцените-их-качество-кросс-валидацией.-Выберите-лучшую-модель-и-проверьте-её-на-тестовой-выборке.-Опишите-выводы.-3.2\"><span class=\"toc-item-num\">3.2&nbsp;&nbsp;</span>Обучите разные модели и оцените их качество кросс-валидацией. Выберите лучшую модель и проверьте её на тестовой выборке. Опишите выводы.</a></span></li></ul></li><li><span><a href=\"#Чек-лист-готовности-проекта\" data-toc-modified-id=\"Чек-лист-готовности-проекта-4\"><span class=\"toc-item-num\">4&nbsp;&nbsp;</span>Чек-лист готовности проекта</a></span></li></ul></div>"
   ]
  },
  {
   "cell_type": "markdown",
   "metadata": {},
   "source": [
    "# Восстановление золота из руды"
   ]
  },
  {
   "cell_type": "markdown",
   "metadata": {},
   "source": [
    "Подготовьте прототип модели машинного обучения для «Цифры». Компания разрабатывает решения для эффективной работы промышленных предприятий.\n",
    "\n",
    "Модель должна предсказать коэффициент восстановления золота из золотосодержащей руды. Используйте данные с параметрами добычи и очистки. \n",
    "\n",
    "Модель поможет оптимизировать производство, чтобы не запускать предприятие с убыточными характеристиками.\n",
    "\n",
    "Вам нужно:\n",
    "\n",
    "1. Подготовить данные;\n",
    "2. Провести исследовательский анализ данных;\n",
    "3. Построить и обучить модель.\n",
    "\n",
    "Чтобы выполнить проект, обращайтесь к библиотекам *pandas*, *matplotlib* и *sklearn.* Вам поможет их документация."
   ]
  },
  {
   "cell_type": "markdown",
   "metadata": {},
   "source": [
    "## Подготовка данных"
   ]
  },
  {
   "cell_type": "code",
   "execution_count": 1,
   "metadata": {},
   "outputs": [],
   "source": [
    "import pandas as pd\n",
    "import matplotlib.pyplot as plt\n",
    "from sklearn.metrics import mean_absolute_error\n",
    "from sklearn.model_selection import cross_val_score\n",
    "import numpy as np\n",
    "from sklearn.model_selection import GridSearchCV\n",
    "from sklearn.ensemble import RandomForestRegressor\n",
    "from sklearn.tree import DecisionTreeRegressor\n",
    "from sklearn.linear_model import LinearRegression\n",
    "from matplotlib import cm\n",
    "import seaborn as sns\n",
    "from sklearn.metrics import make_scorer\n",
    "from sklearn.preprocessing import StandardScaler\n",
    "from sklearn.dummy import DummyRegressor\n",
    "from sklearn.model_selection import KFold"
   ]
  },
  {
   "cell_type": "markdown",
   "metadata": {},
   "source": [
    "### Чтение файлов и проверка, что эффективность обогащения 'rougher.output.recovery' рассчитана правильно. "
   ]
  },
  {
   "cell_type": "markdown",
   "metadata": {},
   "source": [
    "Прочитаем файлы."
   ]
  },
  {
   "cell_type": "code",
   "execution_count": 2,
   "metadata": {},
   "outputs": [],
   "source": [
    "start_train = pd.read_csv('/datasets/gold_recovery_train_new.csv')                  \n",
    "start_test = pd.read_csv('/datasets/gold_recovery_test_new.csv')                    \n",
    "start_full = pd.read_csv('/datasets/gold_recovery_full_new.csv')                    "
   ]
  },
  {
   "cell_type": "markdown",
   "metadata": {},
   "source": [
    "Посмотрим есть ли пропущенные значения."
   ]
  },
  {
   "cell_type": "code",
   "execution_count": 3,
   "metadata": {},
   "outputs": [
    {
     "data": {
      "text/plain": [
       "0"
      ]
     },
     "execution_count": 3,
     "metadata": {},
     "output_type": "execute_result"
    }
   ],
   "source": [
    "start_train['rougher.output.recovery'].isnull().sum()                               "
   ]
  },
  {
   "cell_type": "markdown",
   "metadata": {},
   "source": [
    "По условиям задания recovery вычисляется по формуле:\n",
    "    recovery = ((С*(F-T)) / (F*(C-T))) * 100 %\n",
    "    \n",
    "где:\n",
    "- C — доля золота в концентрате после флотации/очистки;\n",
    "- F — доля золота в сырье/концентрате до флотации/очистки;\n",
    "- T — доля золота в отвальных хвостах после флотации/очистки.\n",
    "\n",
    "Aurum на латинском языке золото.\n",
    "\n",
    "В нешей таблице им соответствуют следующие столбцы:\n",
    "- C - rougher.output.concentrate_au;                  \n",
    "- F - rougher.input.feed_au;\n",
    "- T - rougher.output.tail_au.\n"
   ]
  },
  {
   "cell_type": "code",
   "execution_count": 4,
   "metadata": {},
   "outputs": [],
   "source": [
    "C = start_train['rougher.output.concentrate_au']\n",
    "F = start_train['rougher.input.feed_au']\n",
    "T = start_train['rougher.output.tail_au']"
   ]
  },
  {
   "cell_type": "code",
   "execution_count": 5,
   "metadata": {},
   "outputs": [],
   "source": [
    "recovery = ((C * (F-T)) / (F * (C-T))) * 100"
   ]
  },
  {
   "cell_type": "markdown",
   "metadata": {},
   "source": [
    "Посмотрим полученные значения."
   ]
  },
  {
   "cell_type": "code",
   "execution_count": 6,
   "metadata": {},
   "outputs": [
    {
     "name": "stdout",
     "output_type": "stream",
     "text": [
      "0    87.107763\n",
      "1    86.843261\n",
      "2    86.842308\n",
      "3    87.226430\n",
      "4    86.688794\n",
      "dtype: float64\n"
     ]
    },
    {
     "data": {
      "image/png": "[encoded data removed]",
      "text/plain": [
       "<Figure size 432x288 with 1 Axes>"
      ]
     },
     "metadata": {
      "needs_background": "light"
     },
     "output_type": "display_data"
    }
   ],
   "source": [
    "print(recovery.head(5))                                \n",
    "plt.figure()\n",
    "recovery.hist();"
   ]
  },
  {
   "cell_type": "markdown",
   "metadata": {},
   "source": [
    "Посмотрим значения которые уже были в файле."
   ]
  },
  {
   "cell_type": "code",
   "execution_count": 7,
   "metadata": {},
   "outputs": [
    {
     "name": "stdout",
     "output_type": "stream",
     "text": [
      "0    87.107763\n",
      "1    86.843261\n",
      "2    86.842308\n",
      "3    87.226430\n",
      "4    86.688794\n",
      "Name: rougher.output.recovery, dtype: float64\n"
     ]
    },
    {
     "data": {
      "image/png": "[encoded data removed]",
      "text/plain": [
       "<Figure size 432x288 with 1 Axes>"
      ]
     },
     "metadata": {
      "needs_background": "light"
     },
     "output_type": "display_data"
    }
   ],
   "source": [
    "print(start_train['rougher.output.recovery'].head(5))  \n",
    "plt.figure()\n",
    "start_train['rougher.output.recovery'].hist();"
   ]
  },
  {
   "cell_type": "code",
   "execution_count": 8,
   "metadata": {},
   "outputs": [
    {
     "name": "stdout",
     "output_type": "stream",
     "text": [
      "Средняя абсолютная ошибка (MAE): 9.682896147825551e-15\n"
     ]
    }
   ],
   "source": [
    "print(\"Средняя абсолютная ошибка (MAE):\", mean_absolute_error(recovery, start_train['rougher.output.recovery']))"
   ]
  },
  {
   "cell_type": "markdown",
   "metadata": {},
   "source": [
    "Проведенный расчет средней абсолютной ошибки (MAE) показал, что значения recovery и  start_train['rougher.output.recovery'] очень близки."
   ]
  },
  {
   "cell_type": "markdown",
   "metadata": {},
   "source": [
    "### Анализ признаков, недоступных в тестовой выборке."
   ]
  },
  {
   "cell_type": "markdown",
   "metadata": {},
   "source": [
    "Посмотрим размеры выборок"
   ]
  },
  {
   "cell_type": "code",
   "execution_count": 9,
   "metadata": {},
   "outputs": [
    {
     "name": "stdout",
     "output_type": "stream",
     "text": [
      "(14149, 87)\n",
      "(5290, 53)\n"
     ]
    }
   ],
   "source": [
    "print(start_train.shape)\n",
    "print(start_test.shape)"
   ]
  },
  {
   "cell_type": "markdown",
   "metadata": {},
   "source": [
    "Видим, что они сильно, на 34 столбца, отличаются. Посмотрим, что это за столбцы."
   ]
  },
  {
   "cell_type": "code",
   "execution_count": 10,
   "metadata": {},
   "outputs": [
    {
     "data": {
      "text/html": [
       "<div>\n",
       "<style scoped>\n",
       "    .dataframe tbody tr th:only-of-type {\n",
       "        vertical-align: middle;\n",
       "    }\n",
       "\n",
       "    .dataframe tbody tr th {\n",
       "        vertical-align: top;\n",
       "    }\n",
       "\n",
       "    .dataframe thead th {\n",
       "        text-align: right;\n",
       "    }\n",
       "</style>\n",
       "<table border=\"1\" class=\"dataframe\">\n",
       "  <thead>\n",
       "    <tr style=\"text-align: right;\">\n",
       "      <th></th>\n",
       "      <th>final.output.concentrate_ag</th>\n",
       "      <th>final.output.concentrate_pb</th>\n",
       "      <th>final.output.concentrate_sol</th>\n",
       "      <th>final.output.concentrate_au</th>\n",
       "      <th>final.output.recovery</th>\n",
       "      <th>final.output.tail_ag</th>\n",
       "      <th>final.output.tail_pb</th>\n",
       "      <th>final.output.tail_sol</th>\n",
       "      <th>final.output.tail_au</th>\n",
       "      <th>primary_cleaner.output.concentrate_ag</th>\n",
       "      <th>...</th>\n",
       "      <th>rougher.output.concentrate_au</th>\n",
       "      <th>rougher.output.recovery</th>\n",
       "      <th>rougher.output.tail_ag</th>\n",
       "      <th>rougher.output.tail_pb</th>\n",
       "      <th>rougher.output.tail_sol</th>\n",
       "      <th>rougher.output.tail_au</th>\n",
       "      <th>secondary_cleaner.output.tail_ag</th>\n",
       "      <th>secondary_cleaner.output.tail_pb</th>\n",
       "      <th>secondary_cleaner.output.tail_sol</th>\n",
       "      <th>secondary_cleaner.output.tail_au</th>\n",
       "    </tr>\n",
       "  </thead>\n",
       "  <tbody>\n",
       "    <tr>\n",
       "      <td>0</td>\n",
       "      <td>6.055403</td>\n",
       "      <td>9.889648</td>\n",
       "      <td>5.507324</td>\n",
       "      <td>42.192020</td>\n",
       "      <td>70.541216</td>\n",
       "      <td>10.411962</td>\n",
       "      <td>0.895447</td>\n",
       "      <td>16.904297</td>\n",
       "      <td>2.143149</td>\n",
       "      <td>8.547551</td>\n",
       "      <td>...</td>\n",
       "      <td>19.793808</td>\n",
       "      <td>87.107763</td>\n",
       "      <td>5.008018</td>\n",
       "      <td>0.508728</td>\n",
       "      <td>19.154297</td>\n",
       "      <td>1.170244</td>\n",
       "      <td>14.500184</td>\n",
       "      <td>4.694824</td>\n",
       "      <td>8.764648</td>\n",
       "      <td>2.606185</td>\n",
       "    </tr>\n",
       "    <tr>\n",
       "      <td>1</td>\n",
       "      <td>6.029369</td>\n",
       "      <td>9.968944</td>\n",
       "      <td>5.257781</td>\n",
       "      <td>42.701629</td>\n",
       "      <td>69.266198</td>\n",
       "      <td>10.462676</td>\n",
       "      <td>0.927452</td>\n",
       "      <td>16.634514</td>\n",
       "      <td>2.224930</td>\n",
       "      <td>8.558743</td>\n",
       "      <td>...</td>\n",
       "      <td>20.050975</td>\n",
       "      <td>86.843261</td>\n",
       "      <td>4.955378</td>\n",
       "      <td>0.536689</td>\n",
       "      <td>18.965234</td>\n",
       "      <td>1.184827</td>\n",
       "      <td>14.265474</td>\n",
       "      <td>4.592547</td>\n",
       "      <td>9.001494</td>\n",
       "      <td>2.488248</td>\n",
       "    </tr>\n",
       "    <tr>\n",
       "      <td>2</td>\n",
       "      <td>6.055926</td>\n",
       "      <td>10.213995</td>\n",
       "      <td>5.383759</td>\n",
       "      <td>42.657501</td>\n",
       "      <td>68.116445</td>\n",
       "      <td>10.507046</td>\n",
       "      <td>0.953716</td>\n",
       "      <td>16.208849</td>\n",
       "      <td>2.257889</td>\n",
       "      <td>8.603505</td>\n",
       "      <td>...</td>\n",
       "      <td>19.737170</td>\n",
       "      <td>86.842308</td>\n",
       "      <td>4.843460</td>\n",
       "      <td>0.546416</td>\n",
       "      <td>18.808533</td>\n",
       "      <td>1.162562</td>\n",
       "      <td>14.115662</td>\n",
       "      <td>4.624775</td>\n",
       "      <td>8.842896</td>\n",
       "      <td>2.458187</td>\n",
       "    </tr>\n",
       "    <tr>\n",
       "      <td>3</td>\n",
       "      <td>6.047977</td>\n",
       "      <td>9.977019</td>\n",
       "      <td>4.858634</td>\n",
       "      <td>42.689819</td>\n",
       "      <td>68.347543</td>\n",
       "      <td>10.422762</td>\n",
       "      <td>0.883763</td>\n",
       "      <td>16.532835</td>\n",
       "      <td>2.146849</td>\n",
       "      <td>7.221879</td>\n",
       "      <td>...</td>\n",
       "      <td>19.320810</td>\n",
       "      <td>87.226430</td>\n",
       "      <td>4.655288</td>\n",
       "      <td>0.542525</td>\n",
       "      <td>19.330200</td>\n",
       "      <td>1.079755</td>\n",
       "      <td>13.732071</td>\n",
       "      <td>4.482453</td>\n",
       "      <td>9.122857</td>\n",
       "      <td>2.322062</td>\n",
       "    </tr>\n",
       "    <tr>\n",
       "      <td>4</td>\n",
       "      <td>6.148599</td>\n",
       "      <td>10.142511</td>\n",
       "      <td>4.939416</td>\n",
       "      <td>42.774141</td>\n",
       "      <td>66.927016</td>\n",
       "      <td>10.360302</td>\n",
       "      <td>0.792826</td>\n",
       "      <td>16.525686</td>\n",
       "      <td>2.055292</td>\n",
       "      <td>9.089428</td>\n",
       "      <td>...</td>\n",
       "      <td>19.216101</td>\n",
       "      <td>86.688794</td>\n",
       "      <td>4.552800</td>\n",
       "      <td>0.515438</td>\n",
       "      <td>19.267422</td>\n",
       "      <td>1.012642</td>\n",
       "      <td>14.079996</td>\n",
       "      <td>4.470737</td>\n",
       "      <td>8.871028</td>\n",
       "      <td>2.330448</td>\n",
       "    </tr>\n",
       "  </tbody>\n",
       "</table>\n",
       "<p>5 rows × 34 columns</p>\n",
       "</div>"
      ],
      "text/plain": [
       "   final.output.concentrate_ag  final.output.concentrate_pb  \\\n",
       "0                     6.055403                     9.889648   \n",
       "1                     6.029369                     9.968944   \n",
       "2                     6.055926                    10.213995   \n",
       "3                     6.047977                     9.977019   \n",
       "4                     6.148599                    10.142511   \n",
       "\n",
       "   final.output.concentrate_sol  final.output.concentrate_au  \\\n",
       "0                      5.507324                    42.192020   \n",
       "1                      5.257781                    42.701629   \n",
       "2                      5.383759                    42.657501   \n",
       "3                      4.858634                    42.689819   \n",
       "4                      4.939416                    42.774141   \n",
       "\n",
       "   final.output.recovery  final.output.tail_ag  final.output.tail_pb  \\\n",
       "0              70.541216             10.411962              0.895447   \n",
       "1              69.266198             10.462676              0.927452   \n",
       "2              68.116445             10.507046              0.953716   \n",
       "3              68.347543             10.422762              0.883763   \n",
       "4              66.927016             10.360302              0.792826   \n",
       "\n",
       "   final.output.tail_sol  final.output.tail_au  \\\n",
       "0              16.904297              2.143149   \n",
       "1              16.634514              2.224930   \n",
       "2              16.208849              2.257889   \n",
       "3              16.532835              2.146849   \n",
       "4              16.525686              2.055292   \n",
       "\n",
       "   primary_cleaner.output.concentrate_ag  ...  rougher.output.concentrate_au  \\\n",
       "0                               8.547551  ...                      19.793808   \n",
       "1                               8.558743  ...                      20.050975   \n",
       "2                               8.603505  ...                      19.737170   \n",
       "3                               7.221879  ...                      19.320810   \n",
       "4                               9.089428  ...                      19.216101   \n",
       "\n",
       "   rougher.output.recovery  rougher.output.tail_ag  rougher.output.tail_pb  \\\n",
       "0                87.107763                5.008018                0.508728   \n",
       "1                86.843261                4.955378                0.536689   \n",
       "2                86.842308                4.843460                0.546416   \n",
       "3                87.226430                4.655288                0.542525   \n",
       "4                86.688794                4.552800                0.515438   \n",
       "\n",
       "   rougher.output.tail_sol  rougher.output.tail_au  \\\n",
       "0                19.154297                1.170244   \n",
       "1                18.965234                1.184827   \n",
       "2                18.808533                1.162562   \n",
       "3                19.330200                1.079755   \n",
       "4                19.267422                1.012642   \n",
       "\n",
       "   secondary_cleaner.output.tail_ag  secondary_cleaner.output.tail_pb  \\\n",
       "0                         14.500184                          4.694824   \n",
       "1                         14.265474                          4.592547   \n",
       "2                         14.115662                          4.624775   \n",
       "3                         13.732071                          4.482453   \n",
       "4                         14.079996                          4.470737   \n",
       "\n",
       "   secondary_cleaner.output.tail_sol  secondary_cleaner.output.tail_au  \n",
       "0                           8.764648                          2.606185  \n",
       "1                           9.001494                          2.488248  \n",
       "2                           8.842896                          2.458187  \n",
       "3                           9.122857                          2.322062  \n",
       "4                           8.871028                          2.330448  \n",
       "\n",
       "[5 rows x 34 columns]"
      ]
     },
     "execution_count": 10,
     "metadata": {},
     "output_type": "execute_result"
    }
   ],
   "source": [
    "diff_columns = start_train.columns.drop(start_test.columns)\n",
    "start_train[diff_columns].head()                                        # столбцы, отсутствующие в тестовой выборке"
   ]
  },
  {
   "cell_type": "markdown",
   "metadata": {},
   "source": [
    "Видим, что отсутствующие столбцы это показатели содержания металлов после процессов. Удалим их и проверим, что бы в обоих выборках были необходимые нам эффективность обогащения чернового концентрата \"rougher.output.recovery\" и эффективность обогащения финального концентрата \"final.output.recovery\""
   ]
  },
  {
   "cell_type": "code",
   "execution_count": 11,
   "metadata": {},
   "outputs": [],
   "source": [
    "drop_to_columns = diff_columns.drop(['final.output.recovery', 'rougher.output.recovery'])\n",
    "columns = start_train.columns.drop(drop_to_columns)\n",
    "start_train = start_train[columns]"
   ]
  },
  {
   "cell_type": "markdown",
   "metadata": {},
   "source": [
    "Проверим как готовы столбцы, нет ли 'final.output.recovery' и 'rougher.output.recovery'."
   ]
  },
  {
   "cell_type": "code",
   "execution_count": 12,
   "metadata": {},
   "outputs": [
    {
     "data": {
      "text/plain": [
       "Index(['final.output.concentrate_ag', 'final.output.concentrate_pb',\n",
       "       'final.output.concentrate_sol', 'final.output.concentrate_au',\n",
       "       'final.output.tail_ag', 'final.output.tail_pb', 'final.output.tail_sol',\n",
       "       'final.output.tail_au', 'primary_cleaner.output.concentrate_ag',\n",
       "       'primary_cleaner.output.concentrate_pb',\n",
       "       'primary_cleaner.output.concentrate_sol',\n",
       "       'primary_cleaner.output.concentrate_au',\n",
       "       'primary_cleaner.output.tail_ag', 'primary_cleaner.output.tail_pb',\n",
       "       'primary_cleaner.output.tail_sol', 'primary_cleaner.output.tail_au',\n",
       "       'rougher.calculation.sulfate_to_au_concentrate',\n",
       "       'rougher.calculation.floatbank10_sulfate_to_au_feed',\n",
       "       'rougher.calculation.floatbank11_sulfate_to_au_feed',\n",
       "       'rougher.calculation.au_pb_ratio', 'rougher.output.concentrate_ag',\n",
       "       'rougher.output.concentrate_pb', 'rougher.output.concentrate_sol',\n",
       "       'rougher.output.concentrate_au', 'rougher.output.tail_ag',\n",
       "       'rougher.output.tail_pb', 'rougher.output.tail_sol',\n",
       "       'rougher.output.tail_au', 'secondary_cleaner.output.tail_ag',\n",
       "       'secondary_cleaner.output.tail_pb', 'secondary_cleaner.output.tail_sol',\n",
       "       'secondary_cleaner.output.tail_au'],\n",
       "      dtype='object')"
      ]
     },
     "metadata": {},
     "output_type": "display_data"
    }
   ],
   "source": [
    "display(drop_to_columns)"
   ]
  },
  {
   "cell_type": "markdown",
   "metadata": {},
   "source": [
    "Объединим start_test с start_full (полной выборкой) по целевым столбцам."
   ]
  },
  {
   "cell_type": "code",
   "execution_count": 13,
   "metadata": {},
   "outputs": [],
   "source": [
    "targets_to_join = start_full[['date', 'final.output.recovery', 'rougher.output.recovery']].copy()\n",
    "start_test_full = start_test.join(targets_to_join.set_index('date'), on='date')"
   ]
  },
  {
   "cell_type": "markdown",
   "metadata": {},
   "source": [
    "Проверяем есть ли столбцы 'final.output.recovery' и 'rougher.output.recovery'. Столбцы есть, последние в списке."
   ]
  },
  {
   "cell_type": "code",
   "execution_count": 14,
   "metadata": {},
   "outputs": [
    {
     "data": {
      "text/plain": [
       "Index(['date', 'primary_cleaner.input.sulfate',\n",
       "       'primary_cleaner.input.depressant', 'primary_cleaner.input.feed_size',\n",
       "       'primary_cleaner.input.xanthate',\n",
       "       'primary_cleaner.state.floatbank8_a_air',\n",
       "       'primary_cleaner.state.floatbank8_a_level',\n",
       "       'primary_cleaner.state.floatbank8_b_air',\n",
       "       'primary_cleaner.state.floatbank8_b_level',\n",
       "       'primary_cleaner.state.floatbank8_c_air',\n",
       "       'primary_cleaner.state.floatbank8_c_level',\n",
       "       'primary_cleaner.state.floatbank8_d_air',\n",
       "       'primary_cleaner.state.floatbank8_d_level', 'rougher.input.feed_ag',\n",
       "       'rougher.input.feed_pb', 'rougher.input.feed_rate',\n",
       "       'rougher.input.feed_size', 'rougher.input.feed_sol',\n",
       "       'rougher.input.feed_au', 'rougher.input.floatbank10_sulfate',\n",
       "       'rougher.input.floatbank10_xanthate',\n",
       "       'rougher.input.floatbank11_sulfate',\n",
       "       'rougher.input.floatbank11_xanthate', 'rougher.state.floatbank10_a_air',\n",
       "       'rougher.state.floatbank10_a_level', 'rougher.state.floatbank10_b_air',\n",
       "       'rougher.state.floatbank10_b_level', 'rougher.state.floatbank10_c_air',\n",
       "       'rougher.state.floatbank10_c_level', 'rougher.state.floatbank10_d_air',\n",
       "       'rougher.state.floatbank10_d_level', 'rougher.state.floatbank10_e_air',\n",
       "       'rougher.state.floatbank10_e_level', 'rougher.state.floatbank10_f_air',\n",
       "       'rougher.state.floatbank10_f_level',\n",
       "       'secondary_cleaner.state.floatbank2_a_air',\n",
       "       'secondary_cleaner.state.floatbank2_a_level',\n",
       "       'secondary_cleaner.state.floatbank2_b_air',\n",
       "       'secondary_cleaner.state.floatbank2_b_level',\n",
       "       'secondary_cleaner.state.floatbank3_a_air',\n",
       "       'secondary_cleaner.state.floatbank3_a_level',\n",
       "       'secondary_cleaner.state.floatbank3_b_air',\n",
       "       'secondary_cleaner.state.floatbank3_b_level',\n",
       "       'secondary_cleaner.state.floatbank4_a_air',\n",
       "       'secondary_cleaner.state.floatbank4_a_level',\n",
       "       'secondary_cleaner.state.floatbank4_b_air',\n",
       "       'secondary_cleaner.state.floatbank4_b_level',\n",
       "       'secondary_cleaner.state.floatbank5_a_air',\n",
       "       'secondary_cleaner.state.floatbank5_a_level',\n",
       "       'secondary_cleaner.state.floatbank5_b_air',\n",
       "       'secondary_cleaner.state.floatbank5_b_level',\n",
       "       'secondary_cleaner.state.floatbank6_a_air',\n",
       "       'secondary_cleaner.state.floatbank6_a_level', 'final.output.recovery',\n",
       "       'rougher.output.recovery'],\n",
       "      dtype='object')"
      ]
     },
     "execution_count": 14,
     "metadata": {},
     "output_type": "execute_result"
    }
   ],
   "source": [
    "start_test_full.columns"
   ]
  },
  {
   "cell_type": "markdown",
   "metadata": {},
   "source": [
    "Проверем есть ли столбцы 'final.output.recovery' и 'rougher.output.recovery'. Столбцы есть."
   ]
  },
  {
   "cell_type": "code",
   "execution_count": 15,
   "metadata": {},
   "outputs": [
    {
     "data": {
      "text/plain": [
       "Index(['date', 'final.output.recovery', 'primary_cleaner.input.sulfate',\n",
       "       'primary_cleaner.input.depressant', 'primary_cleaner.input.feed_size',\n",
       "       'primary_cleaner.input.xanthate',\n",
       "       'primary_cleaner.state.floatbank8_a_air',\n",
       "       'primary_cleaner.state.floatbank8_a_level',\n",
       "       'primary_cleaner.state.floatbank8_b_air',\n",
       "       'primary_cleaner.state.floatbank8_b_level',\n",
       "       'primary_cleaner.state.floatbank8_c_air',\n",
       "       'primary_cleaner.state.floatbank8_c_level',\n",
       "       'primary_cleaner.state.floatbank8_d_air',\n",
       "       'primary_cleaner.state.floatbank8_d_level', 'rougher.input.feed_ag',\n",
       "       'rougher.input.feed_pb', 'rougher.input.feed_rate',\n",
       "       'rougher.input.feed_size', 'rougher.input.feed_sol',\n",
       "       'rougher.input.feed_au', 'rougher.input.floatbank10_sulfate',\n",
       "       'rougher.input.floatbank10_xanthate',\n",
       "       'rougher.input.floatbank11_sulfate',\n",
       "       'rougher.input.floatbank11_xanthate', 'rougher.output.recovery',\n",
       "       'rougher.state.floatbank10_a_air', 'rougher.state.floatbank10_a_level',\n",
       "       'rougher.state.floatbank10_b_air', 'rougher.state.floatbank10_b_level',\n",
       "       'rougher.state.floatbank10_c_air', 'rougher.state.floatbank10_c_level',\n",
       "       'rougher.state.floatbank10_d_air', 'rougher.state.floatbank10_d_level',\n",
       "       'rougher.state.floatbank10_e_air', 'rougher.state.floatbank10_e_level',\n",
       "       'rougher.state.floatbank10_f_air', 'rougher.state.floatbank10_f_level',\n",
       "       'secondary_cleaner.state.floatbank2_a_air',\n",
       "       'secondary_cleaner.state.floatbank2_a_level',\n",
       "       'secondary_cleaner.state.floatbank2_b_air',\n",
       "       'secondary_cleaner.state.floatbank2_b_level',\n",
       "       'secondary_cleaner.state.floatbank3_a_air',\n",
       "       'secondary_cleaner.state.floatbank3_a_level',\n",
       "       'secondary_cleaner.state.floatbank3_b_air',\n",
       "       'secondary_cleaner.state.floatbank3_b_level',\n",
       "       'secondary_cleaner.state.floatbank4_a_air',\n",
       "       'secondary_cleaner.state.floatbank4_a_level',\n",
       "       'secondary_cleaner.state.floatbank4_b_air',\n",
       "       'secondary_cleaner.state.floatbank4_b_level',\n",
       "       'secondary_cleaner.state.floatbank5_a_air',\n",
       "       'secondary_cleaner.state.floatbank5_a_level',\n",
       "       'secondary_cleaner.state.floatbank5_b_air',\n",
       "       'secondary_cleaner.state.floatbank5_b_level',\n",
       "       'secondary_cleaner.state.floatbank6_a_air',\n",
       "       'secondary_cleaner.state.floatbank6_a_level'],\n",
       "      dtype='object')"
      ]
     },
     "execution_count": 15,
     "metadata": {},
     "output_type": "execute_result"
    }
   ],
   "source": [
    "start_train.columns"
   ]
  },
  {
   "cell_type": "code",
   "execution_count": 16,
   "metadata": {},
   "outputs": [
    {
     "name": "stdout",
     "output_type": "stream",
     "text": [
      "(14149, 55)\n",
      "(5290, 55)\n"
     ]
    }
   ],
   "source": [
    "print(start_train.shape)\n",
    "print(start_test_full.shape)"
   ]
  },
  {
   "cell_type": "code",
   "execution_count": 17,
   "metadata": {},
   "outputs": [],
   "source": [
    "start_train.dropna(subset = ['final.output.recovery', 'rougher.output.recovery'], inplace = True)\n",
    "start_test_full.dropna(subset = ['final.output.recovery', 'rougher.output.recovery'], inplace = True) \n",
    "start_test = start_test_full.copy()"
   ]
  },
  {
   "cell_type": "code",
   "execution_count": 18,
   "metadata": {},
   "outputs": [
    {
     "name": "stdout",
     "output_type": "stream",
     "text": [
      "(14149, 55)\n",
      "(5290, 55)\n"
     ]
    }
   ],
   "source": [
    "print(start_train.shape)\n",
    "print(start_test.shape)"
   ]
  },
  {
   "cell_type": "code",
   "execution_count": 19,
   "metadata": {},
   "outputs": [
    {
     "data": {
      "text/html": [
       "<div>\n",
       "<style scoped>\n",
       "    .dataframe tbody tr th:only-of-type {\n",
       "        vertical-align: middle;\n",
       "    }\n",
       "\n",
       "    .dataframe tbody tr th {\n",
       "        vertical-align: top;\n",
       "    }\n",
       "\n",
       "    .dataframe thead th {\n",
       "        text-align: right;\n",
       "    }\n",
       "</style>\n",
       "<table border=\"1\" class=\"dataframe\">\n",
       "  <thead>\n",
       "    <tr style=\"text-align: right;\">\n",
       "      <th></th>\n",
       "      <th>date</th>\n",
       "      <th>primary_cleaner.input.sulfate</th>\n",
       "      <th>primary_cleaner.input.depressant</th>\n",
       "      <th>primary_cleaner.input.feed_size</th>\n",
       "      <th>primary_cleaner.input.xanthate</th>\n",
       "      <th>primary_cleaner.state.floatbank8_a_air</th>\n",
       "      <th>primary_cleaner.state.floatbank8_a_level</th>\n",
       "      <th>primary_cleaner.state.floatbank8_b_air</th>\n",
       "      <th>primary_cleaner.state.floatbank8_b_level</th>\n",
       "      <th>primary_cleaner.state.floatbank8_c_air</th>\n",
       "      <th>...</th>\n",
       "      <th>secondary_cleaner.state.floatbank4_b_air</th>\n",
       "      <th>secondary_cleaner.state.floatbank4_b_level</th>\n",
       "      <th>secondary_cleaner.state.floatbank5_a_air</th>\n",
       "      <th>secondary_cleaner.state.floatbank5_a_level</th>\n",
       "      <th>secondary_cleaner.state.floatbank5_b_air</th>\n",
       "      <th>secondary_cleaner.state.floatbank5_b_level</th>\n",
       "      <th>secondary_cleaner.state.floatbank6_a_air</th>\n",
       "      <th>secondary_cleaner.state.floatbank6_a_level</th>\n",
       "      <th>final.output.recovery</th>\n",
       "      <th>rougher.output.recovery</th>\n",
       "    </tr>\n",
       "  </thead>\n",
       "  <tbody>\n",
       "    <tr>\n",
       "      <td>0</td>\n",
       "      <td>2016-09-01 00:59:59</td>\n",
       "      <td>210.800909</td>\n",
       "      <td>14.993118</td>\n",
       "      <td>8.080000</td>\n",
       "      <td>1.005021</td>\n",
       "      <td>1398.981301</td>\n",
       "      <td>-500.225577</td>\n",
       "      <td>1399.144926</td>\n",
       "      <td>-499.919735</td>\n",
       "      <td>1400.102998</td>\n",
       "      <td>...</td>\n",
       "      <td>8.016656</td>\n",
       "      <td>-501.289139</td>\n",
       "      <td>7.946562</td>\n",
       "      <td>-432.317850</td>\n",
       "      <td>4.872511</td>\n",
       "      <td>-500.037437</td>\n",
       "      <td>26.705889</td>\n",
       "      <td>-499.709414</td>\n",
       "      <td>70.273583</td>\n",
       "      <td>89.993421</td>\n",
       "    </tr>\n",
       "    <tr>\n",
       "      <td>1</td>\n",
       "      <td>2016-09-01 01:59:59</td>\n",
       "      <td>215.392455</td>\n",
       "      <td>14.987471</td>\n",
       "      <td>8.080000</td>\n",
       "      <td>0.990469</td>\n",
       "      <td>1398.777912</td>\n",
       "      <td>-500.057435</td>\n",
       "      <td>1398.055362</td>\n",
       "      <td>-499.778182</td>\n",
       "      <td>1396.151033</td>\n",
       "      <td>...</td>\n",
       "      <td>8.130979</td>\n",
       "      <td>-499.634209</td>\n",
       "      <td>7.958270</td>\n",
       "      <td>-525.839648</td>\n",
       "      <td>4.878850</td>\n",
       "      <td>-500.162375</td>\n",
       "      <td>25.019940</td>\n",
       "      <td>-499.819438</td>\n",
       "      <td>68.910432</td>\n",
       "      <td>88.089657</td>\n",
       "    </tr>\n",
       "    <tr>\n",
       "      <td>2</td>\n",
       "      <td>2016-09-01 02:59:59</td>\n",
       "      <td>215.259946</td>\n",
       "      <td>12.884934</td>\n",
       "      <td>7.786667</td>\n",
       "      <td>0.996043</td>\n",
       "      <td>1398.493666</td>\n",
       "      <td>-500.868360</td>\n",
       "      <td>1398.860436</td>\n",
       "      <td>-499.764529</td>\n",
       "      <td>1398.075709</td>\n",
       "      <td>...</td>\n",
       "      <td>8.096893</td>\n",
       "      <td>-500.827423</td>\n",
       "      <td>8.071056</td>\n",
       "      <td>-500.801673</td>\n",
       "      <td>4.905125</td>\n",
       "      <td>-499.828510</td>\n",
       "      <td>24.994862</td>\n",
       "      <td>-500.622559</td>\n",
       "      <td>68.143213</td>\n",
       "      <td>88.412756</td>\n",
       "    </tr>\n",
       "    <tr>\n",
       "      <td>3</td>\n",
       "      <td>2016-09-01 03:59:59</td>\n",
       "      <td>215.336236</td>\n",
       "      <td>12.006805</td>\n",
       "      <td>7.640000</td>\n",
       "      <td>0.863514</td>\n",
       "      <td>1399.618111</td>\n",
       "      <td>-498.863574</td>\n",
       "      <td>1397.440120</td>\n",
       "      <td>-499.211024</td>\n",
       "      <td>1400.129303</td>\n",
       "      <td>...</td>\n",
       "      <td>8.074946</td>\n",
       "      <td>-499.474407</td>\n",
       "      <td>7.897085</td>\n",
       "      <td>-500.868509</td>\n",
       "      <td>4.931400</td>\n",
       "      <td>-499.963623</td>\n",
       "      <td>24.948919</td>\n",
       "      <td>-498.709987</td>\n",
       "      <td>67.776393</td>\n",
       "      <td>87.360133</td>\n",
       "    </tr>\n",
       "    <tr>\n",
       "      <td>4</td>\n",
       "      <td>2016-09-01 04:59:59</td>\n",
       "      <td>199.099327</td>\n",
       "      <td>10.682530</td>\n",
       "      <td>7.530000</td>\n",
       "      <td>0.805575</td>\n",
       "      <td>1401.268123</td>\n",
       "      <td>-500.808305</td>\n",
       "      <td>1398.128818</td>\n",
       "      <td>-499.504543</td>\n",
       "      <td>1402.172226</td>\n",
       "      <td>...</td>\n",
       "      <td>8.054678</td>\n",
       "      <td>-500.397500</td>\n",
       "      <td>8.107890</td>\n",
       "      <td>-509.526725</td>\n",
       "      <td>4.957674</td>\n",
       "      <td>-500.360026</td>\n",
       "      <td>25.003331</td>\n",
       "      <td>-500.856333</td>\n",
       "      <td>61.467078</td>\n",
       "      <td>83.236367</td>\n",
       "    </tr>\n",
       "    <tr>\n",
       "      <td>...</td>\n",
       "      <td>...</td>\n",
       "      <td>...</td>\n",
       "      <td>...</td>\n",
       "      <td>...</td>\n",
       "      <td>...</td>\n",
       "      <td>...</td>\n",
       "      <td>...</td>\n",
       "      <td>...</td>\n",
       "      <td>...</td>\n",
       "      <td>...</td>\n",
       "      <td>...</td>\n",
       "      <td>...</td>\n",
       "      <td>...</td>\n",
       "      <td>...</td>\n",
       "      <td>...</td>\n",
       "      <td>...</td>\n",
       "      <td>...</td>\n",
       "      <td>...</td>\n",
       "      <td>...</td>\n",
       "      <td>...</td>\n",
       "      <td>...</td>\n",
       "    </tr>\n",
       "    <tr>\n",
       "      <td>5285</td>\n",
       "      <td>2017-12-31 19:59:59</td>\n",
       "      <td>173.957757</td>\n",
       "      <td>15.963399</td>\n",
       "      <td>8.070000</td>\n",
       "      <td>0.896701</td>\n",
       "      <td>1401.930554</td>\n",
       "      <td>-499.728848</td>\n",
       "      <td>1401.441445</td>\n",
       "      <td>-499.193423</td>\n",
       "      <td>1399.810313</td>\n",
       "      <td>...</td>\n",
       "      <td>12.069155</td>\n",
       "      <td>-499.673279</td>\n",
       "      <td>7.977259</td>\n",
       "      <td>-499.516126</td>\n",
       "      <td>5.933319</td>\n",
       "      <td>-499.965973</td>\n",
       "      <td>8.987171</td>\n",
       "      <td>-499.755909</td>\n",
       "      <td>68.919891</td>\n",
       "      <td>95.172585</td>\n",
       "    </tr>\n",
       "    <tr>\n",
       "      <td>5286</td>\n",
       "      <td>2017-12-31 20:59:59</td>\n",
       "      <td>172.910270</td>\n",
       "      <td>16.002605</td>\n",
       "      <td>8.070000</td>\n",
       "      <td>0.896519</td>\n",
       "      <td>1447.075722</td>\n",
       "      <td>-494.716823</td>\n",
       "      <td>1448.851892</td>\n",
       "      <td>-465.963026</td>\n",
       "      <td>1443.890424</td>\n",
       "      <td>...</td>\n",
       "      <td>13.365371</td>\n",
       "      <td>-499.122723</td>\n",
       "      <td>9.288553</td>\n",
       "      <td>-496.892967</td>\n",
       "      <td>7.372897</td>\n",
       "      <td>-499.942956</td>\n",
       "      <td>8.986832</td>\n",
       "      <td>-499.903761</td>\n",
       "      <td>68.440582</td>\n",
       "      <td>94.575036</td>\n",
       "    </tr>\n",
       "    <tr>\n",
       "      <td>5287</td>\n",
       "      <td>2017-12-31 21:59:59</td>\n",
       "      <td>171.135718</td>\n",
       "      <td>15.993669</td>\n",
       "      <td>8.070000</td>\n",
       "      <td>1.165996</td>\n",
       "      <td>1498.836182</td>\n",
       "      <td>-501.770403</td>\n",
       "      <td>1499.572353</td>\n",
       "      <td>-495.516347</td>\n",
       "      <td>1502.749213</td>\n",
       "      <td>...</td>\n",
       "      <td>15.101425</td>\n",
       "      <td>-499.936252</td>\n",
       "      <td>10.989181</td>\n",
       "      <td>-498.347898</td>\n",
       "      <td>9.020944</td>\n",
       "      <td>-500.040448</td>\n",
       "      <td>8.982038</td>\n",
       "      <td>-497.789882</td>\n",
       "      <td>67.092759</td>\n",
       "      <td>93.018138</td>\n",
       "    </tr>\n",
       "    <tr>\n",
       "      <td>5288</td>\n",
       "      <td>2017-12-31 22:59:59</td>\n",
       "      <td>179.697158</td>\n",
       "      <td>15.438979</td>\n",
       "      <td>8.070000</td>\n",
       "      <td>1.501068</td>\n",
       "      <td>1498.466243</td>\n",
       "      <td>-500.483984</td>\n",
       "      <td>1497.986986</td>\n",
       "      <td>-519.200340</td>\n",
       "      <td>1496.569047</td>\n",
       "      <td>...</td>\n",
       "      <td>15.026853</td>\n",
       "      <td>-499.723143</td>\n",
       "      <td>11.011607</td>\n",
       "      <td>-499.985046</td>\n",
       "      <td>9.009783</td>\n",
       "      <td>-499.937902</td>\n",
       "      <td>9.012660</td>\n",
       "      <td>-500.154284</td>\n",
       "      <td>68.061186</td>\n",
       "      <td>92.599042</td>\n",
       "    </tr>\n",
       "    <tr>\n",
       "      <td>5289</td>\n",
       "      <td>2017-12-31 23:59:59</td>\n",
       "      <td>181.556856</td>\n",
       "      <td>14.995850</td>\n",
       "      <td>8.070000</td>\n",
       "      <td>1.623454</td>\n",
       "      <td>1498.096303</td>\n",
       "      <td>-499.796922</td>\n",
       "      <td>1501.743791</td>\n",
       "      <td>-505.146931</td>\n",
       "      <td>1499.535978</td>\n",
       "      <td>...</td>\n",
       "      <td>14.914199</td>\n",
       "      <td>-499.948518</td>\n",
       "      <td>10.986607</td>\n",
       "      <td>-500.658027</td>\n",
       "      <td>8.989497</td>\n",
       "      <td>-500.337588</td>\n",
       "      <td>8.988632</td>\n",
       "      <td>-500.764937</td>\n",
       "      <td>71.699976</td>\n",
       "      <td>91.177695</td>\n",
       "    </tr>\n",
       "  </tbody>\n",
       "</table>\n",
       "<p>5290 rows × 55 columns</p>\n",
       "</div>"
      ],
      "text/plain": [
       "                     date  primary_cleaner.input.sulfate  \\\n",
       "0     2016-09-01 00:59:59                     210.800909   \n",
       "1     2016-09-01 01:59:59                     215.392455   \n",
       "2     2016-09-01 02:59:59                     215.259946   \n",
       "3     2016-09-01 03:59:59                     215.336236   \n",
       "4     2016-09-01 04:59:59                     199.099327   \n",
       "...                   ...                            ...   \n",
       "5285  2017-12-31 19:59:59                     173.957757   \n",
       "5286  2017-12-31 20:59:59                     172.910270   \n",
       "5287  2017-12-31 21:59:59                     171.135718   \n",
       "5288  2017-12-31 22:59:59                     179.697158   \n",
       "5289  2017-12-31 23:59:59                     181.556856   \n",
       "\n",
       "      primary_cleaner.input.depressant  primary_cleaner.input.feed_size  \\\n",
       "0                            14.993118                         8.080000   \n",
       "1                            14.987471                         8.080000   \n",
       "2                            12.884934                         7.786667   \n",
       "3                            12.006805                         7.640000   \n",
       "4                            10.682530                         7.530000   \n",
       "...                                ...                              ...   \n",
       "5285                         15.963399                         8.070000   \n",
       "5286                         16.002605                         8.070000   \n",
       "5287                         15.993669                         8.070000   \n",
       "5288                         15.438979                         8.070000   \n",
       "5289                         14.995850                         8.070000   \n",
       "\n",
       "      primary_cleaner.input.xanthate  primary_cleaner.state.floatbank8_a_air  \\\n",
       "0                           1.005021                             1398.981301   \n",
       "1                           0.990469                             1398.777912   \n",
       "2                           0.996043                             1398.493666   \n",
       "3                           0.863514                             1399.618111   \n",
       "4                           0.805575                             1401.268123   \n",
       "...                              ...                                     ...   \n",
       "5285                        0.896701                             1401.930554   \n",
       "5286                        0.896519                             1447.075722   \n",
       "5287                        1.165996                             1498.836182   \n",
       "5288                        1.501068                             1498.466243   \n",
       "5289                        1.623454                             1498.096303   \n",
       "\n",
       "      primary_cleaner.state.floatbank8_a_level  \\\n",
       "0                                  -500.225577   \n",
       "1                                  -500.057435   \n",
       "2                                  -500.868360   \n",
       "3                                  -498.863574   \n",
       "4                                  -500.808305   \n",
       "...                                        ...   \n",
       "5285                               -499.728848   \n",
       "5286                               -494.716823   \n",
       "5287                               -501.770403   \n",
       "5288                               -500.483984   \n",
       "5289                               -499.796922   \n",
       "\n",
       "      primary_cleaner.state.floatbank8_b_air  \\\n",
       "0                                1399.144926   \n",
       "1                                1398.055362   \n",
       "2                                1398.860436   \n",
       "3                                1397.440120   \n",
       "4                                1398.128818   \n",
       "...                                      ...   \n",
       "5285                             1401.441445   \n",
       "5286                             1448.851892   \n",
       "5287                             1499.572353   \n",
       "5288                             1497.986986   \n",
       "5289                             1501.743791   \n",
       "\n",
       "      primary_cleaner.state.floatbank8_b_level  \\\n",
       "0                                  -499.919735   \n",
       "1                                  -499.778182   \n",
       "2                                  -499.764529   \n",
       "3                                  -499.211024   \n",
       "4                                  -499.504543   \n",
       "...                                        ...   \n",
       "5285                               -499.193423   \n",
       "5286                               -465.963026   \n",
       "5287                               -495.516347   \n",
       "5288                               -519.200340   \n",
       "5289                               -505.146931   \n",
       "\n",
       "      primary_cleaner.state.floatbank8_c_air  ...  \\\n",
       "0                                1400.102998  ...   \n",
       "1                                1396.151033  ...   \n",
       "2                                1398.075709  ...   \n",
       "3                                1400.129303  ...   \n",
       "4                                1402.172226  ...   \n",
       "...                                      ...  ...   \n",
       "5285                             1399.810313  ...   \n",
       "5286                             1443.890424  ...   \n",
       "5287                             1502.749213  ...   \n",
       "5288                             1496.569047  ...   \n",
       "5289                             1499.535978  ...   \n",
       "\n",
       "      secondary_cleaner.state.floatbank4_b_air  \\\n",
       "0                                     8.016656   \n",
       "1                                     8.130979   \n",
       "2                                     8.096893   \n",
       "3                                     8.074946   \n",
       "4                                     8.054678   \n",
       "...                                        ...   \n",
       "5285                                 12.069155   \n",
       "5286                                 13.365371   \n",
       "5287                                 15.101425   \n",
       "5288                                 15.026853   \n",
       "5289                                 14.914199   \n",
       "\n",
       "      secondary_cleaner.state.floatbank4_b_level  \\\n",
       "0                                    -501.289139   \n",
       "1                                    -499.634209   \n",
       "2                                    -500.827423   \n",
       "3                                    -499.474407   \n",
       "4                                    -500.397500   \n",
       "...                                          ...   \n",
       "5285                                 -499.673279   \n",
       "5286                                 -499.122723   \n",
       "5287                                 -499.936252   \n",
       "5288                                 -499.723143   \n",
       "5289                                 -499.948518   \n",
       "\n",
       "      secondary_cleaner.state.floatbank5_a_air  \\\n",
       "0                                     7.946562   \n",
       "1                                     7.958270   \n",
       "2                                     8.071056   \n",
       "3                                     7.897085   \n",
       "4                                     8.107890   \n",
       "...                                        ...   \n",
       "5285                                  7.977259   \n",
       "5286                                  9.288553   \n",
       "5287                                 10.989181   \n",
       "5288                                 11.011607   \n",
       "5289                                 10.986607   \n",
       "\n",
       "      secondary_cleaner.state.floatbank5_a_level  \\\n",
       "0                                    -432.317850   \n",
       "1                                    -525.839648   \n",
       "2                                    -500.801673   \n",
       "3                                    -500.868509   \n",
       "4                                    -509.526725   \n",
       "...                                          ...   \n",
       "5285                                 -499.516126   \n",
       "5286                                 -496.892967   \n",
       "5287                                 -498.347898   \n",
       "5288                                 -499.985046   \n",
       "5289                                 -500.658027   \n",
       "\n",
       "      secondary_cleaner.state.floatbank5_b_air  \\\n",
       "0                                     4.872511   \n",
       "1                                     4.878850   \n",
       "2                                     4.905125   \n",
       "3                                     4.931400   \n",
       "4                                     4.957674   \n",
       "...                                        ...   \n",
       "5285                                  5.933319   \n",
       "5286                                  7.372897   \n",
       "5287                                  9.020944   \n",
       "5288                                  9.009783   \n",
       "5289                                  8.989497   \n",
       "\n",
       "      secondary_cleaner.state.floatbank5_b_level  \\\n",
       "0                                    -500.037437   \n",
       "1                                    -500.162375   \n",
       "2                                    -499.828510   \n",
       "3                                    -499.963623   \n",
       "4                                    -500.360026   \n",
       "...                                          ...   \n",
       "5285                                 -499.965973   \n",
       "5286                                 -499.942956   \n",
       "5287                                 -500.040448   \n",
       "5288                                 -499.937902   \n",
       "5289                                 -500.337588   \n",
       "\n",
       "      secondary_cleaner.state.floatbank6_a_air  \\\n",
       "0                                    26.705889   \n",
       "1                                    25.019940   \n",
       "2                                    24.994862   \n",
       "3                                    24.948919   \n",
       "4                                    25.003331   \n",
       "...                                        ...   \n",
       "5285                                  8.987171   \n",
       "5286                                  8.986832   \n",
       "5287                                  8.982038   \n",
       "5288                                  9.012660   \n",
       "5289                                  8.988632   \n",
       "\n",
       "      secondary_cleaner.state.floatbank6_a_level  final.output.recovery  \\\n",
       "0                                    -499.709414              70.273583   \n",
       "1                                    -499.819438              68.910432   \n",
       "2                                    -500.622559              68.143213   \n",
       "3                                    -498.709987              67.776393   \n",
       "4                                    -500.856333              61.467078   \n",
       "...                                          ...                    ...   \n",
       "5285                                 -499.755909              68.919891   \n",
       "5286                                 -499.903761              68.440582   \n",
       "5287                                 -497.789882              67.092759   \n",
       "5288                                 -500.154284              68.061186   \n",
       "5289                                 -500.764937              71.699976   \n",
       "\n",
       "      rougher.output.recovery  \n",
       "0                   89.993421  \n",
       "1                   88.089657  \n",
       "2                   88.412756  \n",
       "3                   87.360133  \n",
       "4                   83.236367  \n",
       "...                       ...  \n",
       "5285                95.172585  \n",
       "5286                94.575036  \n",
       "5287                93.018138  \n",
       "5288                92.599042  \n",
       "5289                91.177695  \n",
       "\n",
       "[5290 rows x 55 columns]"
      ]
     },
     "execution_count": 19,
     "metadata": {},
     "output_type": "execute_result"
    }
   ],
   "source": [
    "start_test "
   ]
  },
  {
   "cell_type": "markdown",
   "metadata": {},
   "source": [
    "### Предобработка данных"
   ]
  },
  {
   "cell_type": "markdown",
   "metadata": {},
   "source": [
    "Подготовим функцию для:\n",
    "- получения информации про файл,\n",
    "- отображения содержимого файла,\n",
    "- отображения наименования столбцов,\n",
    "- отображения наличия дубликатов."
   ]
  },
  {
   "cell_type": "code",
   "execution_count": 20,
   "metadata": {},
   "outputs": [],
   "source": [
    "def inform (start_x):                                                # введем функцию для получения информации из файла\n",
    "    start_x.info()                                                   # общая информация про файл\n",
    "    display(start_x.head(5))                                         # смотрим содержание файла\n",
    "    print(\"Наименование столбцов:\", start_x.columns)                 # смотрим наименование столбцов\n",
    "    print()\n",
    "    print(\"Количество дубликатов: \", start_x.duplicated().sum())     # смотрим, есть ли дубликаты "
   ]
  },
  {
   "cell_type": "code",
   "execution_count": 21,
   "metadata": {},
   "outputs": [
    {
     "name": "stdout",
     "output_type": "stream",
     "text": [
      "<class 'pandas.core.frame.DataFrame'>\n",
      "Int64Index: 14149 entries, 0 to 14148\n",
      "Data columns (total 55 columns):\n",
      "date                                          14149 non-null object\n",
      "final.output.recovery                         14149 non-null float64\n",
      "primary_cleaner.input.sulfate                 14129 non-null float64\n",
      "primary_cleaner.input.depressant              14117 non-null float64\n",
      "primary_cleaner.input.feed_size               14149 non-null float64\n",
      "primary_cleaner.input.xanthate                14049 non-null float64\n",
      "primary_cleaner.state.floatbank8_a_air        14145 non-null float64\n",
      "primary_cleaner.state.floatbank8_a_level      14148 non-null float64\n",
      "primary_cleaner.state.floatbank8_b_air        14145 non-null float64\n",
      "primary_cleaner.state.floatbank8_b_level      14148 non-null float64\n",
      "primary_cleaner.state.floatbank8_c_air        14147 non-null float64\n",
      "primary_cleaner.state.floatbank8_c_level      14148 non-null float64\n",
      "primary_cleaner.state.floatbank8_d_air        14146 non-null float64\n",
      "primary_cleaner.state.floatbank8_d_level      14148 non-null float64\n",
      "rougher.input.feed_ag                         14149 non-null float64\n",
      "rougher.input.feed_pb                         14049 non-null float64\n",
      "rougher.input.feed_rate                       14141 non-null float64\n",
      "rougher.input.feed_size                       14005 non-null float64\n",
      "rougher.input.feed_sol                        14071 non-null float64\n",
      "rougher.input.feed_au                         14149 non-null float64\n",
      "rougher.input.floatbank10_sulfate             14120 non-null float64\n",
      "rougher.input.floatbank10_xanthate            14141 non-null float64\n",
      "rougher.input.floatbank11_sulfate             14113 non-null float64\n",
      "rougher.input.floatbank11_xanthate            13721 non-null float64\n",
      "rougher.output.recovery                       14149 non-null float64\n",
      "rougher.state.floatbank10_a_air               14148 non-null float64\n",
      "rougher.state.floatbank10_a_level             14148 non-null float64\n",
      "rougher.state.floatbank10_b_air               14148 non-null float64\n",
      "rougher.state.floatbank10_b_level             14148 non-null float64\n",
      "rougher.state.floatbank10_c_air               14148 non-null float64\n",
      "rougher.state.floatbank10_c_level             14148 non-null float64\n",
      "rougher.state.floatbank10_d_air               14149 non-null float64\n",
      "rougher.state.floatbank10_d_level             14149 non-null float64\n",
      "rougher.state.floatbank10_e_air               13713 non-null float64\n",
      "rougher.state.floatbank10_e_level             14149 non-null float64\n",
      "rougher.state.floatbank10_f_air               14149 non-null float64\n",
      "rougher.state.floatbank10_f_level             14149 non-null float64\n",
      "secondary_cleaner.state.floatbank2_a_air      13932 non-null float64\n",
      "secondary_cleaner.state.floatbank2_a_level    14148 non-null float64\n",
      "secondary_cleaner.state.floatbank2_b_air      14128 non-null float64\n",
      "secondary_cleaner.state.floatbank2_b_level    14148 non-null float64\n",
      "secondary_cleaner.state.floatbank3_a_air      14145 non-null float64\n",
      "secondary_cleaner.state.floatbank3_a_level    14148 non-null float64\n",
      "secondary_cleaner.state.floatbank3_b_air      14148 non-null float64\n",
      "secondary_cleaner.state.floatbank3_b_level    14148 non-null float64\n",
      "secondary_cleaner.state.floatbank4_a_air      14143 non-null float64\n",
      "secondary_cleaner.state.floatbank4_a_level    14148 non-null float64\n",
      "secondary_cleaner.state.floatbank4_b_air      14148 non-null float64\n",
      "secondary_cleaner.state.floatbank4_b_level    14148 non-null float64\n",
      "secondary_cleaner.state.floatbank5_a_air      14148 non-null float64\n",
      "secondary_cleaner.state.floatbank5_a_level    14148 non-null float64\n",
      "secondary_cleaner.state.floatbank5_b_air      14148 non-null float64\n",
      "secondary_cleaner.state.floatbank5_b_level    14148 non-null float64\n",
      "secondary_cleaner.state.floatbank6_a_air      14147 non-null float64\n",
      "secondary_cleaner.state.floatbank6_a_level    14148 non-null float64\n",
      "dtypes: float64(54), object(1)\n",
      "memory usage: 6.0+ MB\n"
     ]
    },
    {
     "data": {
      "text/html": [
       "<div>\n",
       "<style scoped>\n",
       "    .dataframe tbody tr th:only-of-type {\n",
       "        vertical-align: middle;\n",
       "    }\n",
       "\n",
       "    .dataframe tbody tr th {\n",
       "        vertical-align: top;\n",
       "    }\n",
       "\n",
       "    .dataframe thead th {\n",
       "        text-align: right;\n",
       "    }\n",
       "</style>\n",
       "<table border=\"1\" class=\"dataframe\">\n",
       "  <thead>\n",
       "    <tr style=\"text-align: right;\">\n",
       "      <th></th>\n",
       "      <th>date</th>\n",
       "      <th>final.output.recovery</th>\n",
       "      <th>primary_cleaner.input.sulfate</th>\n",
       "      <th>primary_cleaner.input.depressant</th>\n",
       "      <th>primary_cleaner.input.feed_size</th>\n",
       "      <th>primary_cleaner.input.xanthate</th>\n",
       "      <th>primary_cleaner.state.floatbank8_a_air</th>\n",
       "      <th>primary_cleaner.state.floatbank8_a_level</th>\n",
       "      <th>primary_cleaner.state.floatbank8_b_air</th>\n",
       "      <th>primary_cleaner.state.floatbank8_b_level</th>\n",
       "      <th>...</th>\n",
       "      <th>secondary_cleaner.state.floatbank4_a_air</th>\n",
       "      <th>secondary_cleaner.state.floatbank4_a_level</th>\n",
       "      <th>secondary_cleaner.state.floatbank4_b_air</th>\n",
       "      <th>secondary_cleaner.state.floatbank4_b_level</th>\n",
       "      <th>secondary_cleaner.state.floatbank5_a_air</th>\n",
       "      <th>secondary_cleaner.state.floatbank5_a_level</th>\n",
       "      <th>secondary_cleaner.state.floatbank5_b_air</th>\n",
       "      <th>secondary_cleaner.state.floatbank5_b_level</th>\n",
       "      <th>secondary_cleaner.state.floatbank6_a_air</th>\n",
       "      <th>secondary_cleaner.state.floatbank6_a_level</th>\n",
       "    </tr>\n",
       "  </thead>\n",
       "  <tbody>\n",
       "    <tr>\n",
       "      <td>0</td>\n",
       "      <td>2016-01-15 00:00:00</td>\n",
       "      <td>70.541216</td>\n",
       "      <td>127.092003</td>\n",
       "      <td>10.128295</td>\n",
       "      <td>7.25</td>\n",
       "      <td>0.988759</td>\n",
       "      <td>1549.775757</td>\n",
       "      <td>-498.912140</td>\n",
       "      <td>1551.434204</td>\n",
       "      <td>-516.403442</td>\n",
       "      <td>...</td>\n",
       "      <td>14.016835</td>\n",
       "      <td>-502.488007</td>\n",
       "      <td>12.099931</td>\n",
       "      <td>-504.715942</td>\n",
       "      <td>9.925633</td>\n",
       "      <td>-498.310211</td>\n",
       "      <td>8.079666</td>\n",
       "      <td>-500.470978</td>\n",
       "      <td>14.151341</td>\n",
       "      <td>-605.841980</td>\n",
       "    </tr>\n",
       "    <tr>\n",
       "      <td>1</td>\n",
       "      <td>2016-01-15 01:00:00</td>\n",
       "      <td>69.266198</td>\n",
       "      <td>125.629232</td>\n",
       "      <td>10.296251</td>\n",
       "      <td>7.25</td>\n",
       "      <td>1.002663</td>\n",
       "      <td>1576.166671</td>\n",
       "      <td>-500.904965</td>\n",
       "      <td>1575.950626</td>\n",
       "      <td>-499.865889</td>\n",
       "      <td>...</td>\n",
       "      <td>13.992281</td>\n",
       "      <td>-505.503262</td>\n",
       "      <td>11.950531</td>\n",
       "      <td>-501.331529</td>\n",
       "      <td>10.039245</td>\n",
       "      <td>-500.169983</td>\n",
       "      <td>7.984757</td>\n",
       "      <td>-500.582168</td>\n",
       "      <td>13.998353</td>\n",
       "      <td>-599.787184</td>\n",
       "    </tr>\n",
       "    <tr>\n",
       "      <td>2</td>\n",
       "      <td>2016-01-15 02:00:00</td>\n",
       "      <td>68.116445</td>\n",
       "      <td>123.819808</td>\n",
       "      <td>11.316280</td>\n",
       "      <td>7.25</td>\n",
       "      <td>0.991265</td>\n",
       "      <td>1601.556163</td>\n",
       "      <td>-499.997791</td>\n",
       "      <td>1600.386685</td>\n",
       "      <td>-500.607762</td>\n",
       "      <td>...</td>\n",
       "      <td>14.015015</td>\n",
       "      <td>-502.520901</td>\n",
       "      <td>11.912783</td>\n",
       "      <td>-501.133383</td>\n",
       "      <td>10.070913</td>\n",
       "      <td>-500.129135</td>\n",
       "      <td>8.013877</td>\n",
       "      <td>-500.517572</td>\n",
       "      <td>14.028663</td>\n",
       "      <td>-601.427363</td>\n",
       "    </tr>\n",
       "    <tr>\n",
       "      <td>3</td>\n",
       "      <td>2016-01-15 03:00:00</td>\n",
       "      <td>68.347543</td>\n",
       "      <td>122.270188</td>\n",
       "      <td>11.322140</td>\n",
       "      <td>7.25</td>\n",
       "      <td>0.996739</td>\n",
       "      <td>1599.968720</td>\n",
       "      <td>-500.951778</td>\n",
       "      <td>1600.659236</td>\n",
       "      <td>-499.677094</td>\n",
       "      <td>...</td>\n",
       "      <td>14.036510</td>\n",
       "      <td>-500.857308</td>\n",
       "      <td>11.999550</td>\n",
       "      <td>-501.193686</td>\n",
       "      <td>9.970366</td>\n",
       "      <td>-499.201640</td>\n",
       "      <td>7.977324</td>\n",
       "      <td>-500.255908</td>\n",
       "      <td>14.005551</td>\n",
       "      <td>-599.996129</td>\n",
       "    </tr>\n",
       "    <tr>\n",
       "      <td>4</td>\n",
       "      <td>2016-01-15 04:00:00</td>\n",
       "      <td>66.927016</td>\n",
       "      <td>117.988169</td>\n",
       "      <td>11.913613</td>\n",
       "      <td>7.25</td>\n",
       "      <td>1.009869</td>\n",
       "      <td>1601.339707</td>\n",
       "      <td>-498.975456</td>\n",
       "      <td>1601.437854</td>\n",
       "      <td>-500.323246</td>\n",
       "      <td>...</td>\n",
       "      <td>14.027298</td>\n",
       "      <td>-499.838632</td>\n",
       "      <td>11.953070</td>\n",
       "      <td>-501.053894</td>\n",
       "      <td>9.925709</td>\n",
       "      <td>-501.686727</td>\n",
       "      <td>7.894242</td>\n",
       "      <td>-500.356035</td>\n",
       "      <td>13.996647</td>\n",
       "      <td>-601.496691</td>\n",
       "    </tr>\n",
       "  </tbody>\n",
       "</table>\n",
       "<p>5 rows × 55 columns</p>\n",
       "</div>"
      ],
      "text/plain": [
       "                  date  final.output.recovery  primary_cleaner.input.sulfate  \\\n",
       "0  2016-01-15 00:00:00              70.541216                     127.092003   \n",
       "1  2016-01-15 01:00:00              69.266198                     125.629232   \n",
       "2  2016-01-15 02:00:00              68.116445                     123.819808   \n",
       "3  2016-01-15 03:00:00              68.347543                     122.270188   \n",
       "4  2016-01-15 04:00:00              66.927016                     117.988169   \n",
       "\n",
       "   primary_cleaner.input.depressant  primary_cleaner.input.feed_size  \\\n",
       "0                         10.128295                             7.25   \n",
       "1                         10.296251                             7.25   \n",
       "2                         11.316280                             7.25   \n",
       "3                         11.322140                             7.25   \n",
       "4                         11.913613                             7.25   \n",
       "\n",
       "   primary_cleaner.input.xanthate  primary_cleaner.state.floatbank8_a_air  \\\n",
       "0                        0.988759                             1549.775757   \n",
       "1                        1.002663                             1576.166671   \n",
       "2                        0.991265                             1601.556163   \n",
       "3                        0.996739                             1599.968720   \n",
       "4                        1.009869                             1601.339707   \n",
       "\n",
       "   primary_cleaner.state.floatbank8_a_level  \\\n",
       "0                               -498.912140   \n",
       "1                               -500.904965   \n",
       "2                               -499.997791   \n",
       "3                               -500.951778   \n",
       "4                               -498.975456   \n",
       "\n",
       "   primary_cleaner.state.floatbank8_b_air  \\\n",
       "0                             1551.434204   \n",
       "1                             1575.950626   \n",
       "2                             1600.386685   \n",
       "3                             1600.659236   \n",
       "4                             1601.437854   \n",
       "\n",
       "   primary_cleaner.state.floatbank8_b_level  ...  \\\n",
       "0                               -516.403442  ...   \n",
       "1                               -499.865889  ...   \n",
       "2                               -500.607762  ...   \n",
       "3                               -499.677094  ...   \n",
       "4                               -500.323246  ...   \n",
       "\n",
       "   secondary_cleaner.state.floatbank4_a_air  \\\n",
       "0                                 14.016835   \n",
       "1                                 13.992281   \n",
       "2                                 14.015015   \n",
       "3                                 14.036510   \n",
       "4                                 14.027298   \n",
       "\n",
       "   secondary_cleaner.state.floatbank4_a_level  \\\n",
       "0                                 -502.488007   \n",
       "1                                 -505.503262   \n",
       "2                                 -502.520901   \n",
       "3                                 -500.857308   \n",
       "4                                 -499.838632   \n",
       "\n",
       "   secondary_cleaner.state.floatbank4_b_air  \\\n",
       "0                                 12.099931   \n",
       "1                                 11.950531   \n",
       "2                                 11.912783   \n",
       "3                                 11.999550   \n",
       "4                                 11.953070   \n",
       "\n",
       "   secondary_cleaner.state.floatbank4_b_level  \\\n",
       "0                                 -504.715942   \n",
       "1                                 -501.331529   \n",
       "2                                 -501.133383   \n",
       "3                                 -501.193686   \n",
       "4                                 -501.053894   \n",
       "\n",
       "   secondary_cleaner.state.floatbank5_a_air  \\\n",
       "0                                  9.925633   \n",
       "1                                 10.039245   \n",
       "2                                 10.070913   \n",
       "3                                  9.970366   \n",
       "4                                  9.925709   \n",
       "\n",
       "   secondary_cleaner.state.floatbank5_a_level  \\\n",
       "0                                 -498.310211   \n",
       "1                                 -500.169983   \n",
       "2                                 -500.129135   \n",
       "3                                 -499.201640   \n",
       "4                                 -501.686727   \n",
       "\n",
       "   secondary_cleaner.state.floatbank5_b_air  \\\n",
       "0                                  8.079666   \n",
       "1                                  7.984757   \n",
       "2                                  8.013877   \n",
       "3                                  7.977324   \n",
       "4                                  7.894242   \n",
       "\n",
       "   secondary_cleaner.state.floatbank5_b_level  \\\n",
       "0                                 -500.470978   \n",
       "1                                 -500.582168   \n",
       "2                                 -500.517572   \n",
       "3                                 -500.255908   \n",
       "4                                 -500.356035   \n",
       "\n",
       "   secondary_cleaner.state.floatbank6_a_air  \\\n",
       "0                                 14.151341   \n",
       "1                                 13.998353   \n",
       "2                                 14.028663   \n",
       "3                                 14.005551   \n",
       "4                                 13.996647   \n",
       "\n",
       "   secondary_cleaner.state.floatbank6_a_level  \n",
       "0                                 -605.841980  \n",
       "1                                 -599.787184  \n",
       "2                                 -601.427363  \n",
       "3                                 -599.996129  \n",
       "4                                 -601.496691  \n",
       "\n",
       "[5 rows x 55 columns]"
      ]
     },
     "metadata": {},
     "output_type": "display_data"
    },
    {
     "name": "stdout",
     "output_type": "stream",
     "text": [
      "Наименование столбцов: Index(['date', 'final.output.recovery', 'primary_cleaner.input.sulfate',\n",
      "       'primary_cleaner.input.depressant', 'primary_cleaner.input.feed_size',\n",
      "       'primary_cleaner.input.xanthate',\n",
      "       'primary_cleaner.state.floatbank8_a_air',\n",
      "       'primary_cleaner.state.floatbank8_a_level',\n",
      "       'primary_cleaner.state.floatbank8_b_air',\n",
      "       'primary_cleaner.state.floatbank8_b_level',\n",
      "       'primary_cleaner.state.floatbank8_c_air',\n",
      "       'primary_cleaner.state.floatbank8_c_level',\n",
      "       'primary_cleaner.state.floatbank8_d_air',\n",
      "       'primary_cleaner.state.floatbank8_d_level', 'rougher.input.feed_ag',\n",
      "       'rougher.input.feed_pb', 'rougher.input.feed_rate',\n",
      "       'rougher.input.feed_size', 'rougher.input.feed_sol',\n",
      "       'rougher.input.feed_au', 'rougher.input.floatbank10_sulfate',\n",
      "       'rougher.input.floatbank10_xanthate',\n",
      "       'rougher.input.floatbank11_sulfate',\n",
      "       'rougher.input.floatbank11_xanthate', 'rougher.output.recovery',\n",
      "       'rougher.state.floatbank10_a_air', 'rougher.state.floatbank10_a_level',\n",
      "       'rougher.state.floatbank10_b_air', 'rougher.state.floatbank10_b_level',\n",
      "       'rougher.state.floatbank10_c_air', 'rougher.state.floatbank10_c_level',\n",
      "       'rougher.state.floatbank10_d_air', 'rougher.state.floatbank10_d_level',\n",
      "       'rougher.state.floatbank10_e_air', 'rougher.state.floatbank10_e_level',\n",
      "       'rougher.state.floatbank10_f_air', 'rougher.state.floatbank10_f_level',\n",
      "       'secondary_cleaner.state.floatbank2_a_air',\n",
      "       'secondary_cleaner.state.floatbank2_a_level',\n",
      "       'secondary_cleaner.state.floatbank2_b_air',\n",
      "       'secondary_cleaner.state.floatbank2_b_level',\n",
      "       'secondary_cleaner.state.floatbank3_a_air',\n",
      "       'secondary_cleaner.state.floatbank3_a_level',\n",
      "       'secondary_cleaner.state.floatbank3_b_air',\n",
      "       'secondary_cleaner.state.floatbank3_b_level',\n",
      "       'secondary_cleaner.state.floatbank4_a_air',\n",
      "       'secondary_cleaner.state.floatbank4_a_level',\n",
      "       'secondary_cleaner.state.floatbank4_b_air',\n",
      "       'secondary_cleaner.state.floatbank4_b_level',\n",
      "       'secondary_cleaner.state.floatbank5_a_air',\n",
      "       'secondary_cleaner.state.floatbank5_a_level',\n",
      "       'secondary_cleaner.state.floatbank5_b_air',\n",
      "       'secondary_cleaner.state.floatbank5_b_level',\n",
      "       'secondary_cleaner.state.floatbank6_a_air',\n",
      "       'secondary_cleaner.state.floatbank6_a_level'],\n",
      "      dtype='object')\n",
      "\n",
      "Количество дубликатов:  0\n"
     ]
    }
   ],
   "source": [
    "inform (start_train)"
   ]
  },
  {
   "cell_type": "markdown",
   "metadata": {},
   "source": [
    "Посмотрим процентное соотношение пропущенных значений"
   ]
  },
  {
   "cell_type": "code",
   "execution_count": 22,
   "metadata": {},
   "outputs": [
    {
     "data": {
      "text/html": [
       "<style  type=\"text/css\" >\n",
       "    #T_187b1f06_8399_11ec_8c4e_02420a391b26row0_col0 {\n",
       "            background-color:  #b40426;\n",
       "            color:  #f1f1f1;\n",
       "        }    #T_187b1f06_8399_11ec_8c4e_02420a391b26row1_col0 {\n",
       "            background-color:  #ba162b;\n",
       "            color:  #f1f1f1;\n",
       "        }    #T_187b1f06_8399_11ec_8c4e_02420a391b26row2_col0 {\n",
       "            background-color:  #dcdddd;\n",
       "            color:  #000000;\n",
       "        }    #T_187b1f06_8399_11ec_8c4e_02420a391b26row3_col0 {\n",
       "            background-color:  #a9c6fd;\n",
       "            color:  #000000;\n",
       "        }    #T_187b1f06_8399_11ec_8c4e_02420a391b26row4_col0 {\n",
       "            background-color:  #86a9fc;\n",
       "            color:  #000000;\n",
       "        }    #T_187b1f06_8399_11ec_8c4e_02420a391b26row5_col0 {\n",
       "            background-color:  #86a9fc;\n",
       "            color:  #000000;\n",
       "        }    #T_187b1f06_8399_11ec_8c4e_02420a391b26row6_col0 {\n",
       "            background-color:  #7396f5;\n",
       "            color:  #000000;\n",
       "        }    #T_187b1f06_8399_11ec_8c4e_02420a391b26row7_col0 {\n",
       "            background-color:  #536edd;\n",
       "            color:  #000000;\n",
       "        }    #T_187b1f06_8399_11ec_8c4e_02420a391b26row8_col0 {\n",
       "            background-color:  #516ddb;\n",
       "            color:  #000000;\n",
       "        }    #T_187b1f06_8399_11ec_8c4e_02420a391b26row9_col0 {\n",
       "            background-color:  #4e68d8;\n",
       "            color:  #000000;\n",
       "        }    #T_187b1f06_8399_11ec_8c4e_02420a391b26row10_col0 {\n",
       "            background-color:  #4961d2;\n",
       "            color:  #f1f1f1;\n",
       "        }    #T_187b1f06_8399_11ec_8c4e_02420a391b26row11_col0 {\n",
       "            background-color:  #485fd1;\n",
       "            color:  #f1f1f1;\n",
       "        }    #T_187b1f06_8399_11ec_8c4e_02420a391b26row12_col0 {\n",
       "            background-color:  #3f53c6;\n",
       "            color:  #f1f1f1;\n",
       "        }    #T_187b1f06_8399_11ec_8c4e_02420a391b26row13_col0 {\n",
       "            background-color:  #3f53c6;\n",
       "            color:  #f1f1f1;\n",
       "        }    #T_187b1f06_8399_11ec_8c4e_02420a391b26row14_col0 {\n",
       "            background-color:  #3e51c5;\n",
       "            color:  #f1f1f1;\n",
       "        }    #T_187b1f06_8399_11ec_8c4e_02420a391b26row15_col0 {\n",
       "            background-color:  #3d50c3;\n",
       "            color:  #f1f1f1;\n",
       "        }    #T_187b1f06_8399_11ec_8c4e_02420a391b26row16_col0 {\n",
       "            background-color:  #3d50c3;\n",
       "            color:  #f1f1f1;\n",
       "        }    #T_187b1f06_8399_11ec_8c4e_02420a391b26row17_col0 {\n",
       "            background-color:  #3d50c3;\n",
       "            color:  #f1f1f1;\n",
       "        }    #T_187b1f06_8399_11ec_8c4e_02420a391b26row18_col0 {\n",
       "            background-color:  #3c4ec2;\n",
       "            color:  #f1f1f1;\n",
       "        }    #T_187b1f06_8399_11ec_8c4e_02420a391b26row19_col0 {\n",
       "            background-color:  #3b4cc0;\n",
       "            color:  #f1f1f1;\n",
       "        }    #T_187b1f06_8399_11ec_8c4e_02420a391b26row20_col0 {\n",
       "            background-color:  #3b4cc0;\n",
       "            color:  #f1f1f1;\n",
       "        }    #T_187b1f06_8399_11ec_8c4e_02420a391b26row21_col0 {\n",
       "            background-color:  #3b4cc0;\n",
       "            color:  #f1f1f1;\n",
       "        }    #T_187b1f06_8399_11ec_8c4e_02420a391b26row22_col0 {\n",
       "            background-color:  #3b4cc0;\n",
       "            color:  #f1f1f1;\n",
       "        }    #T_187b1f06_8399_11ec_8c4e_02420a391b26row23_col0 {\n",
       "            background-color:  #3b4cc0;\n",
       "            color:  #f1f1f1;\n",
       "        }    #T_187b1f06_8399_11ec_8c4e_02420a391b26row24_col0 {\n",
       "            background-color:  #3b4cc0;\n",
       "            color:  #f1f1f1;\n",
       "        }    #T_187b1f06_8399_11ec_8c4e_02420a391b26row25_col0 {\n",
       "            background-color:  #3b4cc0;\n",
       "            color:  #f1f1f1;\n",
       "        }    #T_187b1f06_8399_11ec_8c4e_02420a391b26row26_col0 {\n",
       "            background-color:  #3b4cc0;\n",
       "            color:  #f1f1f1;\n",
       "        }    #T_187b1f06_8399_11ec_8c4e_02420a391b26row27_col0 {\n",
       "            background-color:  #3b4cc0;\n",
       "            color:  #f1f1f1;\n",
       "        }    #T_187b1f06_8399_11ec_8c4e_02420a391b26row28_col0 {\n",
       "            background-color:  #3b4cc0;\n",
       "            color:  #f1f1f1;\n",
       "        }    #T_187b1f06_8399_11ec_8c4e_02420a391b26row29_col0 {\n",
       "            background-color:  #3b4cc0;\n",
       "            color:  #f1f1f1;\n",
       "        }    #T_187b1f06_8399_11ec_8c4e_02420a391b26row30_col0 {\n",
       "            background-color:  #3b4cc0;\n",
       "            color:  #f1f1f1;\n",
       "        }    #T_187b1f06_8399_11ec_8c4e_02420a391b26row31_col0 {\n",
       "            background-color:  #3b4cc0;\n",
       "            color:  #f1f1f1;\n",
       "        }    #T_187b1f06_8399_11ec_8c4e_02420a391b26row32_col0 {\n",
       "            background-color:  #3b4cc0;\n",
       "            color:  #f1f1f1;\n",
       "        }    #T_187b1f06_8399_11ec_8c4e_02420a391b26row33_col0 {\n",
       "            background-color:  #3b4cc0;\n",
       "            color:  #f1f1f1;\n",
       "        }    #T_187b1f06_8399_11ec_8c4e_02420a391b26row34_col0 {\n",
       "            background-color:  #3b4cc0;\n",
       "            color:  #f1f1f1;\n",
       "        }    #T_187b1f06_8399_11ec_8c4e_02420a391b26row35_col0 {\n",
       "            background-color:  #3b4cc0;\n",
       "            color:  #f1f1f1;\n",
       "        }    #T_187b1f06_8399_11ec_8c4e_02420a391b26row36_col0 {\n",
       "            background-color:  #3b4cc0;\n",
       "            color:  #f1f1f1;\n",
       "        }    #T_187b1f06_8399_11ec_8c4e_02420a391b26row37_col0 {\n",
       "            background-color:  #3b4cc0;\n",
       "            color:  #f1f1f1;\n",
       "        }    #T_187b1f06_8399_11ec_8c4e_02420a391b26row38_col0 {\n",
       "            background-color:  #3b4cc0;\n",
       "            color:  #f1f1f1;\n",
       "        }    #T_187b1f06_8399_11ec_8c4e_02420a391b26row39_col0 {\n",
       "            background-color:  #3b4cc0;\n",
       "            color:  #f1f1f1;\n",
       "        }    #T_187b1f06_8399_11ec_8c4e_02420a391b26row40_col0 {\n",
       "            background-color:  #3b4cc0;\n",
       "            color:  #f1f1f1;\n",
       "        }    #T_187b1f06_8399_11ec_8c4e_02420a391b26row41_col0 {\n",
       "            background-color:  #3b4cc0;\n",
       "            color:  #f1f1f1;\n",
       "        }    #T_187b1f06_8399_11ec_8c4e_02420a391b26row42_col0 {\n",
       "            background-color:  #3b4cc0;\n",
       "            color:  #f1f1f1;\n",
       "        }    #T_187b1f06_8399_11ec_8c4e_02420a391b26row43_col0 {\n",
       "            background-color:  #3b4cc0;\n",
       "            color:  #f1f1f1;\n",
       "        }    #T_187b1f06_8399_11ec_8c4e_02420a391b26row44_col0 {\n",
       "            background-color:  #3b4cc0;\n",
       "            color:  #f1f1f1;\n",
       "        }    #T_187b1f06_8399_11ec_8c4e_02420a391b26row45_col0 {\n",
       "            background-color:  #3b4cc0;\n",
       "            color:  #f1f1f1;\n",
       "        }    #T_187b1f06_8399_11ec_8c4e_02420a391b26row46_col0 {\n",
       "            background-color:  #3b4cc0;\n",
       "            color:  #f1f1f1;\n",
       "        }    #T_187b1f06_8399_11ec_8c4e_02420a391b26row47_col0 {\n",
       "            background-color:  #3b4cc0;\n",
       "            color:  #f1f1f1;\n",
       "        }    #T_187b1f06_8399_11ec_8c4e_02420a391b26row48_col0 {\n",
       "            background-color:  #3b4cc0;\n",
       "            color:  #f1f1f1;\n",
       "        }    #T_187b1f06_8399_11ec_8c4e_02420a391b26row49_col0 {\n",
       "            background-color:  #3b4cc0;\n",
       "            color:  #f1f1f1;\n",
       "        }    #T_187b1f06_8399_11ec_8c4e_02420a391b26row50_col0 {\n",
       "            background-color:  #3b4cc0;\n",
       "            color:  #f1f1f1;\n",
       "        }    #T_187b1f06_8399_11ec_8c4e_02420a391b26row51_col0 {\n",
       "            background-color:  #3b4cc0;\n",
       "            color:  #f1f1f1;\n",
       "        }    #T_187b1f06_8399_11ec_8c4e_02420a391b26row52_col0 {\n",
       "            background-color:  #3b4cc0;\n",
       "            color:  #f1f1f1;\n",
       "        }    #T_187b1f06_8399_11ec_8c4e_02420a391b26row53_col0 {\n",
       "            background-color:  #3b4cc0;\n",
       "            color:  #f1f1f1;\n",
       "        }    #T_187b1f06_8399_11ec_8c4e_02420a391b26row54_col0 {\n",
       "            background-color:  #3b4cc0;\n",
       "            color:  #f1f1f1;\n",
       "        }</style><table id=\"T_187b1f06_8399_11ec_8c4e_02420a391b26\" ><thead>    <tr>        <th class=\"blank level0\" ></th>        <th class=\"col_heading level0 col0\" >0</th>    </tr></thead><tbody>\n",
       "                <tr>\n",
       "                        <th id=\"T_187b1f06_8399_11ec_8c4e_02420a391b26level0_row0\" class=\"row_heading level0 row0\" >rougher.state.floatbank10_e_air</th>\n",
       "                        <td id=\"T_187b1f06_8399_11ec_8c4e_02420a391b26row0_col0\" class=\"data row0 col0\" >3.08</td>\n",
       "            </tr>\n",
       "            <tr>\n",
       "                        <th id=\"T_187b1f06_8399_11ec_8c4e_02420a391b26level0_row1\" class=\"row_heading level0 row1\" >rougher.input.floatbank11_xanthate</th>\n",
       "                        <td id=\"T_187b1f06_8399_11ec_8c4e_02420a391b26row1_col0\" class=\"data row1 col0\" >3.02</td>\n",
       "            </tr>\n",
       "            <tr>\n",
       "                        <th id=\"T_187b1f06_8399_11ec_8c4e_02420a391b26level0_row2\" class=\"row_heading level0 row2\" >secondary_cleaner.state.floatbank2_a_air</th>\n",
       "                        <td id=\"T_187b1f06_8399_11ec_8c4e_02420a391b26row2_col0\" class=\"data row2 col0\" >1.53</td>\n",
       "            </tr>\n",
       "            <tr>\n",
       "                        <th id=\"T_187b1f06_8399_11ec_8c4e_02420a391b26level0_row3\" class=\"row_heading level0 row3\" >rougher.input.feed_size</th>\n",
       "                        <td id=\"T_187b1f06_8399_11ec_8c4e_02420a391b26row3_col0\" class=\"data row3 col0\" >1.02</td>\n",
       "            </tr>\n",
       "            <tr>\n",
       "                        <th id=\"T_187b1f06_8399_11ec_8c4e_02420a391b26level0_row4\" class=\"row_heading level0 row4\" >primary_cleaner.input.xanthate</th>\n",
       "                        <td id=\"T_187b1f06_8399_11ec_8c4e_02420a391b26row4_col0\" class=\"data row4 col0\" >0.71</td>\n",
       "            </tr>\n",
       "            <tr>\n",
       "                        <th id=\"T_187b1f06_8399_11ec_8c4e_02420a391b26level0_row5\" class=\"row_heading level0 row5\" >rougher.input.feed_pb</th>\n",
       "                        <td id=\"T_187b1f06_8399_11ec_8c4e_02420a391b26row5_col0\" class=\"data row5 col0\" >0.71</td>\n",
       "            </tr>\n",
       "            <tr>\n",
       "                        <th id=\"T_187b1f06_8399_11ec_8c4e_02420a391b26level0_row6\" class=\"row_heading level0 row6\" >rougher.input.feed_sol</th>\n",
       "                        <td id=\"T_187b1f06_8399_11ec_8c4e_02420a391b26row6_col0\" class=\"data row6 col0\" >0.55</td>\n",
       "            </tr>\n",
       "            <tr>\n",
       "                        <th id=\"T_187b1f06_8399_11ec_8c4e_02420a391b26level0_row7\" class=\"row_heading level0 row7\" >rougher.input.floatbank11_sulfate</th>\n",
       "                        <td id=\"T_187b1f06_8399_11ec_8c4e_02420a391b26row7_col0\" class=\"data row7 col0\" >0.25</td>\n",
       "            </tr>\n",
       "            <tr>\n",
       "                        <th id=\"T_187b1f06_8399_11ec_8c4e_02420a391b26level0_row8\" class=\"row_heading level0 row8\" >primary_cleaner.input.depressant</th>\n",
       "                        <td id=\"T_187b1f06_8399_11ec_8c4e_02420a391b26row8_col0\" class=\"data row8 col0\" >0.23</td>\n",
       "            </tr>\n",
       "            <tr>\n",
       "                        <th id=\"T_187b1f06_8399_11ec_8c4e_02420a391b26level0_row9\" class=\"row_heading level0 row9\" >rougher.input.floatbank10_sulfate</th>\n",
       "                        <td id=\"T_187b1f06_8399_11ec_8c4e_02420a391b26row9_col0\" class=\"data row9 col0\" >0.2</td>\n",
       "            </tr>\n",
       "            <tr>\n",
       "                        <th id=\"T_187b1f06_8399_11ec_8c4e_02420a391b26level0_row10\" class=\"row_heading level0 row10\" >secondary_cleaner.state.floatbank2_b_air</th>\n",
       "                        <td id=\"T_187b1f06_8399_11ec_8c4e_02420a391b26row10_col0\" class=\"data row10 col0\" >0.15</td>\n",
       "            </tr>\n",
       "            <tr>\n",
       "                        <th id=\"T_187b1f06_8399_11ec_8c4e_02420a391b26level0_row11\" class=\"row_heading level0 row11\" >primary_cleaner.input.sulfate</th>\n",
       "                        <td id=\"T_187b1f06_8399_11ec_8c4e_02420a391b26row11_col0\" class=\"data row11 col0\" >0.14</td>\n",
       "            </tr>\n",
       "            <tr>\n",
       "                        <th id=\"T_187b1f06_8399_11ec_8c4e_02420a391b26level0_row12\" class=\"row_heading level0 row12\" >rougher.input.feed_rate</th>\n",
       "                        <td id=\"T_187b1f06_8399_11ec_8c4e_02420a391b26row12_col0\" class=\"data row12 col0\" >0.06</td>\n",
       "            </tr>\n",
       "            <tr>\n",
       "                        <th id=\"T_187b1f06_8399_11ec_8c4e_02420a391b26level0_row13\" class=\"row_heading level0 row13\" >rougher.input.floatbank10_xanthate</th>\n",
       "                        <td id=\"T_187b1f06_8399_11ec_8c4e_02420a391b26row13_col0\" class=\"data row13 col0\" >0.06</td>\n",
       "            </tr>\n",
       "            <tr>\n",
       "                        <th id=\"T_187b1f06_8399_11ec_8c4e_02420a391b26level0_row14\" class=\"row_heading level0 row14\" >secondary_cleaner.state.floatbank4_a_air</th>\n",
       "                        <td id=\"T_187b1f06_8399_11ec_8c4e_02420a391b26row14_col0\" class=\"data row14 col0\" >0.04</td>\n",
       "            </tr>\n",
       "            <tr>\n",
       "                        <th id=\"T_187b1f06_8399_11ec_8c4e_02420a391b26level0_row15\" class=\"row_heading level0 row15\" >primary_cleaner.state.floatbank8_b_air</th>\n",
       "                        <td id=\"T_187b1f06_8399_11ec_8c4e_02420a391b26row15_col0\" class=\"data row15 col0\" >0.03</td>\n",
       "            </tr>\n",
       "            <tr>\n",
       "                        <th id=\"T_187b1f06_8399_11ec_8c4e_02420a391b26level0_row16\" class=\"row_heading level0 row16\" >primary_cleaner.state.floatbank8_a_air</th>\n",
       "                        <td id=\"T_187b1f06_8399_11ec_8c4e_02420a391b26row16_col0\" class=\"data row16 col0\" >0.03</td>\n",
       "            </tr>\n",
       "            <tr>\n",
       "                        <th id=\"T_187b1f06_8399_11ec_8c4e_02420a391b26level0_row17\" class=\"row_heading level0 row17\" >secondary_cleaner.state.floatbank3_a_air</th>\n",
       "                        <td id=\"T_187b1f06_8399_11ec_8c4e_02420a391b26row17_col0\" class=\"data row17 col0\" >0.03</td>\n",
       "            </tr>\n",
       "            <tr>\n",
       "                        <th id=\"T_187b1f06_8399_11ec_8c4e_02420a391b26level0_row18\" class=\"row_heading level0 row18\" >primary_cleaner.state.floatbank8_d_air</th>\n",
       "                        <td id=\"T_187b1f06_8399_11ec_8c4e_02420a391b26row18_col0\" class=\"data row18 col0\" >0.02</td>\n",
       "            </tr>\n",
       "            <tr>\n",
       "                        <th id=\"T_187b1f06_8399_11ec_8c4e_02420a391b26level0_row19\" class=\"row_heading level0 row19\" >secondary_cleaner.state.floatbank6_a_level</th>\n",
       "                        <td id=\"T_187b1f06_8399_11ec_8c4e_02420a391b26row19_col0\" class=\"data row19 col0\" >0.01</td>\n",
       "            </tr>\n",
       "            <tr>\n",
       "                        <th id=\"T_187b1f06_8399_11ec_8c4e_02420a391b26level0_row20\" class=\"row_heading level0 row20\" >primary_cleaner.state.floatbank8_d_level</th>\n",
       "                        <td id=\"T_187b1f06_8399_11ec_8c4e_02420a391b26row20_col0\" class=\"data row20 col0\" >0.01</td>\n",
       "            </tr>\n",
       "            <tr>\n",
       "                        <th id=\"T_187b1f06_8399_11ec_8c4e_02420a391b26level0_row21\" class=\"row_heading level0 row21\" >rougher.state.floatbank10_a_level</th>\n",
       "                        <td id=\"T_187b1f06_8399_11ec_8c4e_02420a391b26row21_col0\" class=\"data row21 col0\" >0.01</td>\n",
       "            </tr>\n",
       "            <tr>\n",
       "                        <th id=\"T_187b1f06_8399_11ec_8c4e_02420a391b26level0_row22\" class=\"row_heading level0 row22\" >primary_cleaner.state.floatbank8_c_level</th>\n",
       "                        <td id=\"T_187b1f06_8399_11ec_8c4e_02420a391b26row22_col0\" class=\"data row22 col0\" >0.01</td>\n",
       "            </tr>\n",
       "            <tr>\n",
       "                        <th id=\"T_187b1f06_8399_11ec_8c4e_02420a391b26level0_row23\" class=\"row_heading level0 row23\" >primary_cleaner.state.floatbank8_c_air</th>\n",
       "                        <td id=\"T_187b1f06_8399_11ec_8c4e_02420a391b26row23_col0\" class=\"data row23 col0\" >0.01</td>\n",
       "            </tr>\n",
       "            <tr>\n",
       "                        <th id=\"T_187b1f06_8399_11ec_8c4e_02420a391b26level0_row24\" class=\"row_heading level0 row24\" >primary_cleaner.state.floatbank8_b_level</th>\n",
       "                        <td id=\"T_187b1f06_8399_11ec_8c4e_02420a391b26row24_col0\" class=\"data row24 col0\" >0.01</td>\n",
       "            </tr>\n",
       "            <tr>\n",
       "                        <th id=\"T_187b1f06_8399_11ec_8c4e_02420a391b26level0_row25\" class=\"row_heading level0 row25\" >primary_cleaner.state.floatbank8_a_level</th>\n",
       "                        <td id=\"T_187b1f06_8399_11ec_8c4e_02420a391b26row25_col0\" class=\"data row25 col0\" >0.01</td>\n",
       "            </tr>\n",
       "            <tr>\n",
       "                        <th id=\"T_187b1f06_8399_11ec_8c4e_02420a391b26level0_row26\" class=\"row_heading level0 row26\" >rougher.state.floatbank10_a_air</th>\n",
       "                        <td id=\"T_187b1f06_8399_11ec_8c4e_02420a391b26row26_col0\" class=\"data row26 col0\" >0.01</td>\n",
       "            </tr>\n",
       "            <tr>\n",
       "                        <th id=\"T_187b1f06_8399_11ec_8c4e_02420a391b26level0_row27\" class=\"row_heading level0 row27\" >rougher.state.floatbank10_b_air</th>\n",
       "                        <td id=\"T_187b1f06_8399_11ec_8c4e_02420a391b26row27_col0\" class=\"data row27 col0\" >0.01</td>\n",
       "            </tr>\n",
       "            <tr>\n",
       "                        <th id=\"T_187b1f06_8399_11ec_8c4e_02420a391b26level0_row28\" class=\"row_heading level0 row28\" >secondary_cleaner.state.floatbank6_a_air</th>\n",
       "                        <td id=\"T_187b1f06_8399_11ec_8c4e_02420a391b26row28_col0\" class=\"data row28 col0\" >0.01</td>\n",
       "            </tr>\n",
       "            <tr>\n",
       "                        <th id=\"T_187b1f06_8399_11ec_8c4e_02420a391b26level0_row29\" class=\"row_heading level0 row29\" >rougher.state.floatbank10_b_level</th>\n",
       "                        <td id=\"T_187b1f06_8399_11ec_8c4e_02420a391b26row29_col0\" class=\"data row29 col0\" >0.01</td>\n",
       "            </tr>\n",
       "            <tr>\n",
       "                        <th id=\"T_187b1f06_8399_11ec_8c4e_02420a391b26level0_row30\" class=\"row_heading level0 row30\" >secondary_cleaner.state.floatbank5_b_level</th>\n",
       "                        <td id=\"T_187b1f06_8399_11ec_8c4e_02420a391b26row30_col0\" class=\"data row30 col0\" >0.01</td>\n",
       "            </tr>\n",
       "            <tr>\n",
       "                        <th id=\"T_187b1f06_8399_11ec_8c4e_02420a391b26level0_row31\" class=\"row_heading level0 row31\" >secondary_cleaner.state.floatbank5_b_air</th>\n",
       "                        <td id=\"T_187b1f06_8399_11ec_8c4e_02420a391b26row31_col0\" class=\"data row31 col0\" >0.01</td>\n",
       "            </tr>\n",
       "            <tr>\n",
       "                        <th id=\"T_187b1f06_8399_11ec_8c4e_02420a391b26level0_row32\" class=\"row_heading level0 row32\" >secondary_cleaner.state.floatbank5_a_level</th>\n",
       "                        <td id=\"T_187b1f06_8399_11ec_8c4e_02420a391b26row32_col0\" class=\"data row32 col0\" >0.01</td>\n",
       "            </tr>\n",
       "            <tr>\n",
       "                        <th id=\"T_187b1f06_8399_11ec_8c4e_02420a391b26level0_row33\" class=\"row_heading level0 row33\" >secondary_cleaner.state.floatbank5_a_air</th>\n",
       "                        <td id=\"T_187b1f06_8399_11ec_8c4e_02420a391b26row33_col0\" class=\"data row33 col0\" >0.01</td>\n",
       "            </tr>\n",
       "            <tr>\n",
       "                        <th id=\"T_187b1f06_8399_11ec_8c4e_02420a391b26level0_row34\" class=\"row_heading level0 row34\" >secondary_cleaner.state.floatbank4_b_level</th>\n",
       "                        <td id=\"T_187b1f06_8399_11ec_8c4e_02420a391b26row34_col0\" class=\"data row34 col0\" >0.01</td>\n",
       "            </tr>\n",
       "            <tr>\n",
       "                        <th id=\"T_187b1f06_8399_11ec_8c4e_02420a391b26level0_row35\" class=\"row_heading level0 row35\" >secondary_cleaner.state.floatbank4_b_air</th>\n",
       "                        <td id=\"T_187b1f06_8399_11ec_8c4e_02420a391b26row35_col0\" class=\"data row35 col0\" >0.01</td>\n",
       "            </tr>\n",
       "            <tr>\n",
       "                        <th id=\"T_187b1f06_8399_11ec_8c4e_02420a391b26level0_row36\" class=\"row_heading level0 row36\" >secondary_cleaner.state.floatbank4_a_level</th>\n",
       "                        <td id=\"T_187b1f06_8399_11ec_8c4e_02420a391b26row36_col0\" class=\"data row36 col0\" >0.01</td>\n",
       "            </tr>\n",
       "            <tr>\n",
       "                        <th id=\"T_187b1f06_8399_11ec_8c4e_02420a391b26level0_row37\" class=\"row_heading level0 row37\" >secondary_cleaner.state.floatbank3_b_level</th>\n",
       "                        <td id=\"T_187b1f06_8399_11ec_8c4e_02420a391b26row37_col0\" class=\"data row37 col0\" >0.01</td>\n",
       "            </tr>\n",
       "            <tr>\n",
       "                        <th id=\"T_187b1f06_8399_11ec_8c4e_02420a391b26level0_row38\" class=\"row_heading level0 row38\" >secondary_cleaner.state.floatbank3_b_air</th>\n",
       "                        <td id=\"T_187b1f06_8399_11ec_8c4e_02420a391b26row38_col0\" class=\"data row38 col0\" >0.01</td>\n",
       "            </tr>\n",
       "            <tr>\n",
       "                        <th id=\"T_187b1f06_8399_11ec_8c4e_02420a391b26level0_row39\" class=\"row_heading level0 row39\" >secondary_cleaner.state.floatbank3_a_level</th>\n",
       "                        <td id=\"T_187b1f06_8399_11ec_8c4e_02420a391b26row39_col0\" class=\"data row39 col0\" >0.01</td>\n",
       "            </tr>\n",
       "            <tr>\n",
       "                        <th id=\"T_187b1f06_8399_11ec_8c4e_02420a391b26level0_row40\" class=\"row_heading level0 row40\" >secondary_cleaner.state.floatbank2_b_level</th>\n",
       "                        <td id=\"T_187b1f06_8399_11ec_8c4e_02420a391b26row40_col0\" class=\"data row40 col0\" >0.01</td>\n",
       "            </tr>\n",
       "            <tr>\n",
       "                        <th id=\"T_187b1f06_8399_11ec_8c4e_02420a391b26level0_row41\" class=\"row_heading level0 row41\" >secondary_cleaner.state.floatbank2_a_level</th>\n",
       "                        <td id=\"T_187b1f06_8399_11ec_8c4e_02420a391b26row41_col0\" class=\"data row41 col0\" >0.01</td>\n",
       "            </tr>\n",
       "            <tr>\n",
       "                        <th id=\"T_187b1f06_8399_11ec_8c4e_02420a391b26level0_row42\" class=\"row_heading level0 row42\" >rougher.state.floatbank10_c_level</th>\n",
       "                        <td id=\"T_187b1f06_8399_11ec_8c4e_02420a391b26row42_col0\" class=\"data row42 col0\" >0.01</td>\n",
       "            </tr>\n",
       "            <tr>\n",
       "                        <th id=\"T_187b1f06_8399_11ec_8c4e_02420a391b26level0_row43\" class=\"row_heading level0 row43\" >rougher.state.floatbank10_c_air</th>\n",
       "                        <td id=\"T_187b1f06_8399_11ec_8c4e_02420a391b26row43_col0\" class=\"data row43 col0\" >0.01</td>\n",
       "            </tr>\n",
       "            <tr>\n",
       "                        <th id=\"T_187b1f06_8399_11ec_8c4e_02420a391b26level0_row44\" class=\"row_heading level0 row44\" >rougher.input.feed_ag</th>\n",
       "                        <td id=\"T_187b1f06_8399_11ec_8c4e_02420a391b26row44_col0\" class=\"data row44 col0\" >0</td>\n",
       "            </tr>\n",
       "            <tr>\n",
       "                        <th id=\"T_187b1f06_8399_11ec_8c4e_02420a391b26level0_row45\" class=\"row_heading level0 row45\" >rougher.state.floatbank10_f_level</th>\n",
       "                        <td id=\"T_187b1f06_8399_11ec_8c4e_02420a391b26row45_col0\" class=\"data row45 col0\" >0</td>\n",
       "            </tr>\n",
       "            <tr>\n",
       "                        <th id=\"T_187b1f06_8399_11ec_8c4e_02420a391b26level0_row46\" class=\"row_heading level0 row46\" >rougher.state.floatbank10_f_air</th>\n",
       "                        <td id=\"T_187b1f06_8399_11ec_8c4e_02420a391b26row46_col0\" class=\"data row46 col0\" >0</td>\n",
       "            </tr>\n",
       "            <tr>\n",
       "                        <th id=\"T_187b1f06_8399_11ec_8c4e_02420a391b26level0_row47\" class=\"row_heading level0 row47\" >rougher.state.floatbank10_e_level</th>\n",
       "                        <td id=\"T_187b1f06_8399_11ec_8c4e_02420a391b26row47_col0\" class=\"data row47 col0\" >0</td>\n",
       "            </tr>\n",
       "            <tr>\n",
       "                        <th id=\"T_187b1f06_8399_11ec_8c4e_02420a391b26level0_row48\" class=\"row_heading level0 row48\" >rougher.input.feed_au</th>\n",
       "                        <td id=\"T_187b1f06_8399_11ec_8c4e_02420a391b26row48_col0\" class=\"data row48 col0\" >0</td>\n",
       "            </tr>\n",
       "            <tr>\n",
       "                        <th id=\"T_187b1f06_8399_11ec_8c4e_02420a391b26level0_row49\" class=\"row_heading level0 row49\" >rougher.state.floatbank10_d_level</th>\n",
       "                        <td id=\"T_187b1f06_8399_11ec_8c4e_02420a391b26row49_col0\" class=\"data row49 col0\" >0</td>\n",
       "            </tr>\n",
       "            <tr>\n",
       "                        <th id=\"T_187b1f06_8399_11ec_8c4e_02420a391b26level0_row50\" class=\"row_heading level0 row50\" >rougher.state.floatbank10_d_air</th>\n",
       "                        <td id=\"T_187b1f06_8399_11ec_8c4e_02420a391b26row50_col0\" class=\"data row50 col0\" >0</td>\n",
       "            </tr>\n",
       "            <tr>\n",
       "                        <th id=\"T_187b1f06_8399_11ec_8c4e_02420a391b26level0_row51\" class=\"row_heading level0 row51\" >primary_cleaner.input.feed_size</th>\n",
       "                        <td id=\"T_187b1f06_8399_11ec_8c4e_02420a391b26row51_col0\" class=\"data row51 col0\" >0</td>\n",
       "            </tr>\n",
       "            <tr>\n",
       "                        <th id=\"T_187b1f06_8399_11ec_8c4e_02420a391b26level0_row52\" class=\"row_heading level0 row52\" >rougher.output.recovery</th>\n",
       "                        <td id=\"T_187b1f06_8399_11ec_8c4e_02420a391b26row52_col0\" class=\"data row52 col0\" >0</td>\n",
       "            </tr>\n",
       "            <tr>\n",
       "                        <th id=\"T_187b1f06_8399_11ec_8c4e_02420a391b26level0_row53\" class=\"row_heading level0 row53\" >final.output.recovery</th>\n",
       "                        <td id=\"T_187b1f06_8399_11ec_8c4e_02420a391b26row53_col0\" class=\"data row53 col0\" >0</td>\n",
       "            </tr>\n",
       "            <tr>\n",
       "                        <th id=\"T_187b1f06_8399_11ec_8c4e_02420a391b26level0_row54\" class=\"row_heading level0 row54\" >date</th>\n",
       "                        <td id=\"T_187b1f06_8399_11ec_8c4e_02420a391b26row54_col0\" class=\"data row54 col0\" >0</td>\n",
       "            </tr>\n",
       "    </tbody></table>"
      ],
      "text/plain": [
       "<pandas.io.formats.style.Styler at 0x7f40b83f1150>"
      ]
     },
     "execution_count": 22,
     "metadata": {},
     "output_type": "execute_result"
    }
   ],
   "source": [
    "pd.DataFrame(start_train.isna().mean().round(4)*100).sort_values(by=0)[::-1].style.background_gradient('coolwarm') "
   ]
  },
  {
   "cell_type": "code",
   "execution_count": 23,
   "metadata": {},
   "outputs": [
    {
     "name": "stdout",
     "output_type": "stream",
     "text": [
      "<class 'pandas.core.frame.DataFrame'>\n",
      "Int64Index: 5290 entries, 0 to 5289\n",
      "Data columns (total 55 columns):\n",
      "date                                          5290 non-null object\n",
      "primary_cleaner.input.sulfate                 5286 non-null float64\n",
      "primary_cleaner.input.depressant              5285 non-null float64\n",
      "primary_cleaner.input.feed_size               5290 non-null float64\n",
      "primary_cleaner.input.xanthate                5286 non-null float64\n",
      "primary_cleaner.state.floatbank8_a_air        5290 non-null float64\n",
      "primary_cleaner.state.floatbank8_a_level      5290 non-null float64\n",
      "primary_cleaner.state.floatbank8_b_air        5290 non-null float64\n",
      "primary_cleaner.state.floatbank8_b_level      5290 non-null float64\n",
      "primary_cleaner.state.floatbank8_c_air        5290 non-null float64\n",
      "primary_cleaner.state.floatbank8_c_level      5290 non-null float64\n",
      "primary_cleaner.state.floatbank8_d_air        5290 non-null float64\n",
      "primary_cleaner.state.floatbank8_d_level      5290 non-null float64\n",
      "rougher.input.feed_ag                         5290 non-null float64\n",
      "rougher.input.feed_pb                         5290 non-null float64\n",
      "rougher.input.feed_rate                       5287 non-null float64\n",
      "rougher.input.feed_size                       5289 non-null float64\n",
      "rougher.input.feed_sol                        5269 non-null float64\n",
      "rougher.input.feed_au                         5290 non-null float64\n",
      "rougher.input.floatbank10_sulfate             5285 non-null float64\n",
      "rougher.input.floatbank10_xanthate            5290 non-null float64\n",
      "rougher.input.floatbank11_sulfate             5282 non-null float64\n",
      "rougher.input.floatbank11_xanthate            5265 non-null float64\n",
      "rougher.state.floatbank10_a_air               5290 non-null float64\n",
      "rougher.state.floatbank10_a_level             5290 non-null float64\n",
      "rougher.state.floatbank10_b_air               5290 non-null float64\n",
      "rougher.state.floatbank10_b_level             5290 non-null float64\n",
      "rougher.state.floatbank10_c_air               5290 non-null float64\n",
      "rougher.state.floatbank10_c_level             5290 non-null float64\n",
      "rougher.state.floatbank10_d_air               5290 non-null float64\n",
      "rougher.state.floatbank10_d_level             5290 non-null float64\n",
      "rougher.state.floatbank10_e_air               5290 non-null float64\n",
      "rougher.state.floatbank10_e_level             5290 non-null float64\n",
      "rougher.state.floatbank10_f_air               5290 non-null float64\n",
      "rougher.state.floatbank10_f_level             5290 non-null float64\n",
      "secondary_cleaner.state.floatbank2_a_air      5287 non-null float64\n",
      "secondary_cleaner.state.floatbank2_a_level    5290 non-null float64\n",
      "secondary_cleaner.state.floatbank2_b_air      5288 non-null float64\n",
      "secondary_cleaner.state.floatbank2_b_level    5290 non-null float64\n",
      "secondary_cleaner.state.floatbank3_a_air      5281 non-null float64\n",
      "secondary_cleaner.state.floatbank3_a_level    5290 non-null float64\n",
      "secondary_cleaner.state.floatbank3_b_air      5290 non-null float64\n",
      "secondary_cleaner.state.floatbank3_b_level    5290 non-null float64\n",
      "secondary_cleaner.state.floatbank4_a_air      5290 non-null float64\n",
      "secondary_cleaner.state.floatbank4_a_level    5290 non-null float64\n",
      "secondary_cleaner.state.floatbank4_b_air      5290 non-null float64\n",
      "secondary_cleaner.state.floatbank4_b_level    5290 non-null float64\n",
      "secondary_cleaner.state.floatbank5_a_air      5290 non-null float64\n",
      "secondary_cleaner.state.floatbank5_a_level    5290 non-null float64\n",
      "secondary_cleaner.state.floatbank5_b_air      5290 non-null float64\n",
      "secondary_cleaner.state.floatbank5_b_level    5290 non-null float64\n",
      "secondary_cleaner.state.floatbank6_a_air      5290 non-null float64\n",
      "secondary_cleaner.state.floatbank6_a_level    5290 non-null float64\n",
      "final.output.recovery                         5290 non-null float64\n",
      "rougher.output.recovery                       5290 non-null float64\n",
      "dtypes: float64(54), object(1)\n",
      "memory usage: 2.3+ MB\n"
     ]
    },
    {
     "data": {
      "text/html": [
       "<div>\n",
       "<style scoped>\n",
       "    .dataframe tbody tr th:only-of-type {\n",
       "        vertical-align: middle;\n",
       "    }\n",
       "\n",
       "    .dataframe tbody tr th {\n",
       "        vertical-align: top;\n",
       "    }\n",
       "\n",
       "    .dataframe thead th {\n",
       "        text-align: right;\n",
       "    }\n",
       "</style>\n",
       "<table border=\"1\" class=\"dataframe\">\n",
       "  <thead>\n",
       "    <tr style=\"text-align: right;\">\n",
       "      <th></th>\n",
       "      <th>date</th>\n",
       "      <th>primary_cleaner.input.sulfate</th>\n",
       "      <th>primary_cleaner.input.depressant</th>\n",
       "      <th>primary_cleaner.input.feed_size</th>\n",
       "      <th>primary_cleaner.input.xanthate</th>\n",
       "      <th>primary_cleaner.state.floatbank8_a_air</th>\n",
       "      <th>primary_cleaner.state.floatbank8_a_level</th>\n",
       "      <th>primary_cleaner.state.floatbank8_b_air</th>\n",
       "      <th>primary_cleaner.state.floatbank8_b_level</th>\n",
       "      <th>primary_cleaner.state.floatbank8_c_air</th>\n",
       "      <th>...</th>\n",
       "      <th>secondary_cleaner.state.floatbank4_b_air</th>\n",
       "      <th>secondary_cleaner.state.floatbank4_b_level</th>\n",
       "      <th>secondary_cleaner.state.floatbank5_a_air</th>\n",
       "      <th>secondary_cleaner.state.floatbank5_a_level</th>\n",
       "      <th>secondary_cleaner.state.floatbank5_b_air</th>\n",
       "      <th>secondary_cleaner.state.floatbank5_b_level</th>\n",
       "      <th>secondary_cleaner.state.floatbank6_a_air</th>\n",
       "      <th>secondary_cleaner.state.floatbank6_a_level</th>\n",
       "      <th>final.output.recovery</th>\n",
       "      <th>rougher.output.recovery</th>\n",
       "    </tr>\n",
       "  </thead>\n",
       "  <tbody>\n",
       "    <tr>\n",
       "      <td>0</td>\n",
       "      <td>2016-09-01 00:59:59</td>\n",
       "      <td>210.800909</td>\n",
       "      <td>14.993118</td>\n",
       "      <td>8.080000</td>\n",
       "      <td>1.005021</td>\n",
       "      <td>1398.981301</td>\n",
       "      <td>-500.225577</td>\n",
       "      <td>1399.144926</td>\n",
       "      <td>-499.919735</td>\n",
       "      <td>1400.102998</td>\n",
       "      <td>...</td>\n",
       "      <td>8.016656</td>\n",
       "      <td>-501.289139</td>\n",
       "      <td>7.946562</td>\n",
       "      <td>-432.317850</td>\n",
       "      <td>4.872511</td>\n",
       "      <td>-500.037437</td>\n",
       "      <td>26.705889</td>\n",
       "      <td>-499.709414</td>\n",
       "      <td>70.273583</td>\n",
       "      <td>89.993421</td>\n",
       "    </tr>\n",
       "    <tr>\n",
       "      <td>1</td>\n",
       "      <td>2016-09-01 01:59:59</td>\n",
       "      <td>215.392455</td>\n",
       "      <td>14.987471</td>\n",
       "      <td>8.080000</td>\n",
       "      <td>0.990469</td>\n",
       "      <td>1398.777912</td>\n",
       "      <td>-500.057435</td>\n",
       "      <td>1398.055362</td>\n",
       "      <td>-499.778182</td>\n",
       "      <td>1396.151033</td>\n",
       "      <td>...</td>\n",
       "      <td>8.130979</td>\n",
       "      <td>-499.634209</td>\n",
       "      <td>7.958270</td>\n",
       "      <td>-525.839648</td>\n",
       "      <td>4.878850</td>\n",
       "      <td>-500.162375</td>\n",
       "      <td>25.019940</td>\n",
       "      <td>-499.819438</td>\n",
       "      <td>68.910432</td>\n",
       "      <td>88.089657</td>\n",
       "    </tr>\n",
       "    <tr>\n",
       "      <td>2</td>\n",
       "      <td>2016-09-01 02:59:59</td>\n",
       "      <td>215.259946</td>\n",
       "      <td>12.884934</td>\n",
       "      <td>7.786667</td>\n",
       "      <td>0.996043</td>\n",
       "      <td>1398.493666</td>\n",
       "      <td>-500.868360</td>\n",
       "      <td>1398.860436</td>\n",
       "      <td>-499.764529</td>\n",
       "      <td>1398.075709</td>\n",
       "      <td>...</td>\n",
       "      <td>8.096893</td>\n",
       "      <td>-500.827423</td>\n",
       "      <td>8.071056</td>\n",
       "      <td>-500.801673</td>\n",
       "      <td>4.905125</td>\n",
       "      <td>-499.828510</td>\n",
       "      <td>24.994862</td>\n",
       "      <td>-500.622559</td>\n",
       "      <td>68.143213</td>\n",
       "      <td>88.412756</td>\n",
       "    </tr>\n",
       "    <tr>\n",
       "      <td>3</td>\n",
       "      <td>2016-09-01 03:59:59</td>\n",
       "      <td>215.336236</td>\n",
       "      <td>12.006805</td>\n",
       "      <td>7.640000</td>\n",
       "      <td>0.863514</td>\n",
       "      <td>1399.618111</td>\n",
       "      <td>-498.863574</td>\n",
       "      <td>1397.440120</td>\n",
       "      <td>-499.211024</td>\n",
       "      <td>1400.129303</td>\n",
       "      <td>...</td>\n",
       "      <td>8.074946</td>\n",
       "      <td>-499.474407</td>\n",
       "      <td>7.897085</td>\n",
       "      <td>-500.868509</td>\n",
       "      <td>4.931400</td>\n",
       "      <td>-499.963623</td>\n",
       "      <td>24.948919</td>\n",
       "      <td>-498.709987</td>\n",
       "      <td>67.776393</td>\n",
       "      <td>87.360133</td>\n",
       "    </tr>\n",
       "    <tr>\n",
       "      <td>4</td>\n",
       "      <td>2016-09-01 04:59:59</td>\n",
       "      <td>199.099327</td>\n",
       "      <td>10.682530</td>\n",
       "      <td>7.530000</td>\n",
       "      <td>0.805575</td>\n",
       "      <td>1401.268123</td>\n",
       "      <td>-500.808305</td>\n",
       "      <td>1398.128818</td>\n",
       "      <td>-499.504543</td>\n",
       "      <td>1402.172226</td>\n",
       "      <td>...</td>\n",
       "      <td>8.054678</td>\n",
       "      <td>-500.397500</td>\n",
       "      <td>8.107890</td>\n",
       "      <td>-509.526725</td>\n",
       "      <td>4.957674</td>\n",
       "      <td>-500.360026</td>\n",
       "      <td>25.003331</td>\n",
       "      <td>-500.856333</td>\n",
       "      <td>61.467078</td>\n",
       "      <td>83.236367</td>\n",
       "    </tr>\n",
       "  </tbody>\n",
       "</table>\n",
       "<p>5 rows × 55 columns</p>\n",
       "</div>"
      ],
      "text/plain": [
       "                  date  primary_cleaner.input.sulfate  \\\n",
       "0  2016-09-01 00:59:59                     210.800909   \n",
       "1  2016-09-01 01:59:59                     215.392455   \n",
       "2  2016-09-01 02:59:59                     215.259946   \n",
       "3  2016-09-01 03:59:59                     215.336236   \n",
       "4  2016-09-01 04:59:59                     199.099327   \n",
       "\n",
       "   primary_cleaner.input.depressant  primary_cleaner.input.feed_size  \\\n",
       "0                         14.993118                         8.080000   \n",
       "1                         14.987471                         8.080000   \n",
       "2                         12.884934                         7.786667   \n",
       "3                         12.006805                         7.640000   \n",
       "4                         10.682530                         7.530000   \n",
       "\n",
       "   primary_cleaner.input.xanthate  primary_cleaner.state.floatbank8_a_air  \\\n",
       "0                        1.005021                             1398.981301   \n",
       "1                        0.990469                             1398.777912   \n",
       "2                        0.996043                             1398.493666   \n",
       "3                        0.863514                             1399.618111   \n",
       "4                        0.805575                             1401.268123   \n",
       "\n",
       "   primary_cleaner.state.floatbank8_a_level  \\\n",
       "0                               -500.225577   \n",
       "1                               -500.057435   \n",
       "2                               -500.868360   \n",
       "3                               -498.863574   \n",
       "4                               -500.808305   \n",
       "\n",
       "   primary_cleaner.state.floatbank8_b_air  \\\n",
       "0                             1399.144926   \n",
       "1                             1398.055362   \n",
       "2                             1398.860436   \n",
       "3                             1397.440120   \n",
       "4                             1398.128818   \n",
       "\n",
       "   primary_cleaner.state.floatbank8_b_level  \\\n",
       "0                               -499.919735   \n",
       "1                               -499.778182   \n",
       "2                               -499.764529   \n",
       "3                               -499.211024   \n",
       "4                               -499.504543   \n",
       "\n",
       "   primary_cleaner.state.floatbank8_c_air  ...  \\\n",
       "0                             1400.102998  ...   \n",
       "1                             1396.151033  ...   \n",
       "2                             1398.075709  ...   \n",
       "3                             1400.129303  ...   \n",
       "4                             1402.172226  ...   \n",
       "\n",
       "   secondary_cleaner.state.floatbank4_b_air  \\\n",
       "0                                  8.016656   \n",
       "1                                  8.130979   \n",
       "2                                  8.096893   \n",
       "3                                  8.074946   \n",
       "4                                  8.054678   \n",
       "\n",
       "   secondary_cleaner.state.floatbank4_b_level  \\\n",
       "0                                 -501.289139   \n",
       "1                                 -499.634209   \n",
       "2                                 -500.827423   \n",
       "3                                 -499.474407   \n",
       "4                                 -500.397500   \n",
       "\n",
       "   secondary_cleaner.state.floatbank5_a_air  \\\n",
       "0                                  7.946562   \n",
       "1                                  7.958270   \n",
       "2                                  8.071056   \n",
       "3                                  7.897085   \n",
       "4                                  8.107890   \n",
       "\n",
       "   secondary_cleaner.state.floatbank5_a_level  \\\n",
       "0                                 -432.317850   \n",
       "1                                 -525.839648   \n",
       "2                                 -500.801673   \n",
       "3                                 -500.868509   \n",
       "4                                 -509.526725   \n",
       "\n",
       "   secondary_cleaner.state.floatbank5_b_air  \\\n",
       "0                                  4.872511   \n",
       "1                                  4.878850   \n",
       "2                                  4.905125   \n",
       "3                                  4.931400   \n",
       "4                                  4.957674   \n",
       "\n",
       "   secondary_cleaner.state.floatbank5_b_level  \\\n",
       "0                                 -500.037437   \n",
       "1                                 -500.162375   \n",
       "2                                 -499.828510   \n",
       "3                                 -499.963623   \n",
       "4                                 -500.360026   \n",
       "\n",
       "   secondary_cleaner.state.floatbank6_a_air  \\\n",
       "0                                 26.705889   \n",
       "1                                 25.019940   \n",
       "2                                 24.994862   \n",
       "3                                 24.948919   \n",
       "4                                 25.003331   \n",
       "\n",
       "   secondary_cleaner.state.floatbank6_a_level  final.output.recovery  \\\n",
       "0                                 -499.709414              70.273583   \n",
       "1                                 -499.819438              68.910432   \n",
       "2                                 -500.622559              68.143213   \n",
       "3                                 -498.709987              67.776393   \n",
       "4                                 -500.856333              61.467078   \n",
       "\n",
       "   rougher.output.recovery  \n",
       "0                89.993421  \n",
       "1                88.089657  \n",
       "2                88.412756  \n",
       "3                87.360133  \n",
       "4                83.236367  \n",
       "\n",
       "[5 rows x 55 columns]"
      ]
     },
     "metadata": {},
     "output_type": "display_data"
    },
    {
     "name": "stdout",
     "output_type": "stream",
     "text": [
      "Наименование столбцов: Index(['date', 'primary_cleaner.input.sulfate',\n",
      "       'primary_cleaner.input.depressant', 'primary_cleaner.input.feed_size',\n",
      "       'primary_cleaner.input.xanthate',\n",
      "       'primary_cleaner.state.floatbank8_a_air',\n",
      "       'primary_cleaner.state.floatbank8_a_level',\n",
      "       'primary_cleaner.state.floatbank8_b_air',\n",
      "       'primary_cleaner.state.floatbank8_b_level',\n",
      "       'primary_cleaner.state.floatbank8_c_air',\n",
      "       'primary_cleaner.state.floatbank8_c_level',\n",
      "       'primary_cleaner.state.floatbank8_d_air',\n",
      "       'primary_cleaner.state.floatbank8_d_level', 'rougher.input.feed_ag',\n",
      "       'rougher.input.feed_pb', 'rougher.input.feed_rate',\n",
      "       'rougher.input.feed_size', 'rougher.input.feed_sol',\n",
      "       'rougher.input.feed_au', 'rougher.input.floatbank10_sulfate',\n",
      "       'rougher.input.floatbank10_xanthate',\n",
      "       'rougher.input.floatbank11_sulfate',\n",
      "       'rougher.input.floatbank11_xanthate', 'rougher.state.floatbank10_a_air',\n",
      "       'rougher.state.floatbank10_a_level', 'rougher.state.floatbank10_b_air',\n",
      "       'rougher.state.floatbank10_b_level', 'rougher.state.floatbank10_c_air',\n",
      "       'rougher.state.floatbank10_c_level', 'rougher.state.floatbank10_d_air',\n",
      "       'rougher.state.floatbank10_d_level', 'rougher.state.floatbank10_e_air',\n",
      "       'rougher.state.floatbank10_e_level', 'rougher.state.floatbank10_f_air',\n",
      "       'rougher.state.floatbank10_f_level',\n",
      "       'secondary_cleaner.state.floatbank2_a_air',\n",
      "       'secondary_cleaner.state.floatbank2_a_level',\n",
      "       'secondary_cleaner.state.floatbank2_b_air',\n",
      "       'secondary_cleaner.state.floatbank2_b_level',\n",
      "       'secondary_cleaner.state.floatbank3_a_air',\n",
      "       'secondary_cleaner.state.floatbank3_a_level',\n",
      "       'secondary_cleaner.state.floatbank3_b_air',\n",
      "       'secondary_cleaner.state.floatbank3_b_level',\n",
      "       'secondary_cleaner.state.floatbank4_a_air',\n",
      "       'secondary_cleaner.state.floatbank4_a_level',\n",
      "       'secondary_cleaner.state.floatbank4_b_air',\n",
      "       'secondary_cleaner.state.floatbank4_b_level',\n",
      "       'secondary_cleaner.state.floatbank5_a_air',\n",
      "       'secondary_cleaner.state.floatbank5_a_level',\n",
      "       'secondary_cleaner.state.floatbank5_b_air',\n",
      "       'secondary_cleaner.state.floatbank5_b_level',\n",
      "       'secondary_cleaner.state.floatbank6_a_air',\n",
      "       'secondary_cleaner.state.floatbank6_a_level', 'final.output.recovery',\n",
      "       'rougher.output.recovery'],\n",
      "      dtype='object')\n",
      "\n",
      "Количество дубликатов:  0\n"
     ]
    }
   ],
   "source": [
    "inform (start_test)"
   ]
  },
  {
   "cell_type": "markdown",
   "metadata": {},
   "source": [
    "Посмотрим процентное соотношение пропущенных значений"
   ]
  },
  {
   "cell_type": "code",
   "execution_count": 24,
   "metadata": {},
   "outputs": [
    {
     "data": {
      "text/html": [
       "<style  type=\"text/css\" >\n",
       "    #T_1899bef2_8399_11ec_8c4e_02420a391b26row0_col0 {\n",
       "            background-color:  #b40426;\n",
       "            color:  #f1f1f1;\n",
       "        }    #T_1899bef2_8399_11ec_8c4e_02420a391b26row1_col0 {\n",
       "            background-color:  #e36c55;\n",
       "            color:  #000000;\n",
       "        }    #T_1899bef2_8399_11ec_8c4e_02420a391b26row2_col0 {\n",
       "            background-color:  #b3cdfb;\n",
       "            color:  #000000;\n",
       "        }    #T_1899bef2_8399_11ec_8c4e_02420a391b26row3_col0 {\n",
       "            background-color:  #a5c3fe;\n",
       "            color:  #000000;\n",
       "        }    #T_1899bef2_8399_11ec_8c4e_02420a391b26row4_col0 {\n",
       "            background-color:  #799cf8;\n",
       "            color:  #000000;\n",
       "        }    #T_1899bef2_8399_11ec_8c4e_02420a391b26row5_col0 {\n",
       "            background-color:  #799cf8;\n",
       "            color:  #000000;\n",
       "        }    #T_1899bef2_8399_11ec_8c4e_02420a391b26row6_col0 {\n",
       "            background-color:  #7093f3;\n",
       "            color:  #000000;\n",
       "        }    #T_1899bef2_8399_11ec_8c4e_02420a391b26row7_col0 {\n",
       "            background-color:  #7093f3;\n",
       "            color:  #000000;\n",
       "        }    #T_1899bef2_8399_11ec_8c4e_02420a391b26row8_col0 {\n",
       "            background-color:  #6282ea;\n",
       "            color:  #000000;\n",
       "        }    #T_1899bef2_8399_11ec_8c4e_02420a391b26row9_col0 {\n",
       "            background-color:  #6282ea;\n",
       "            color:  #000000;\n",
       "        }    #T_1899bef2_8399_11ec_8c4e_02420a391b26row10_col0 {\n",
       "            background-color:  #5470de;\n",
       "            color:  #000000;\n",
       "        }    #T_1899bef2_8399_11ec_8c4e_02420a391b26row11_col0 {\n",
       "            background-color:  #465ecf;\n",
       "            color:  #f1f1f1;\n",
       "        }    #T_1899bef2_8399_11ec_8c4e_02420a391b26row12_col0 {\n",
       "            background-color:  #3b4cc0;\n",
       "            color:  #f1f1f1;\n",
       "        }    #T_1899bef2_8399_11ec_8c4e_02420a391b26row13_col0 {\n",
       "            background-color:  #3b4cc0;\n",
       "            color:  #f1f1f1;\n",
       "        }    #T_1899bef2_8399_11ec_8c4e_02420a391b26row14_col0 {\n",
       "            background-color:  #3b4cc0;\n",
       "            color:  #f1f1f1;\n",
       "        }    #T_1899bef2_8399_11ec_8c4e_02420a391b26row15_col0 {\n",
       "            background-color:  #3b4cc0;\n",
       "            color:  #f1f1f1;\n",
       "        }    #T_1899bef2_8399_11ec_8c4e_02420a391b26row16_col0 {\n",
       "            background-color:  #3b4cc0;\n",
       "            color:  #f1f1f1;\n",
       "        }    #T_1899bef2_8399_11ec_8c4e_02420a391b26row17_col0 {\n",
       "            background-color:  #3b4cc0;\n",
       "            color:  #f1f1f1;\n",
       "        }    #T_1899bef2_8399_11ec_8c4e_02420a391b26row18_col0 {\n",
       "            background-color:  #3b4cc0;\n",
       "            color:  #f1f1f1;\n",
       "        }    #T_1899bef2_8399_11ec_8c4e_02420a391b26row19_col0 {\n",
       "            background-color:  #3b4cc0;\n",
       "            color:  #f1f1f1;\n",
       "        }    #T_1899bef2_8399_11ec_8c4e_02420a391b26row20_col0 {\n",
       "            background-color:  #3b4cc0;\n",
       "            color:  #f1f1f1;\n",
       "        }    #T_1899bef2_8399_11ec_8c4e_02420a391b26row21_col0 {\n",
       "            background-color:  #3b4cc0;\n",
       "            color:  #f1f1f1;\n",
       "        }    #T_1899bef2_8399_11ec_8c4e_02420a391b26row22_col0 {\n",
       "            background-color:  #3b4cc0;\n",
       "            color:  #f1f1f1;\n",
       "        }    #T_1899bef2_8399_11ec_8c4e_02420a391b26row23_col0 {\n",
       "            background-color:  #3b4cc0;\n",
       "            color:  #f1f1f1;\n",
       "        }    #T_1899bef2_8399_11ec_8c4e_02420a391b26row24_col0 {\n",
       "            background-color:  #3b4cc0;\n",
       "            color:  #f1f1f1;\n",
       "        }    #T_1899bef2_8399_11ec_8c4e_02420a391b26row25_col0 {\n",
       "            background-color:  #3b4cc0;\n",
       "            color:  #f1f1f1;\n",
       "        }    #T_1899bef2_8399_11ec_8c4e_02420a391b26row26_col0 {\n",
       "            background-color:  #3b4cc0;\n",
       "            color:  #f1f1f1;\n",
       "        }    #T_1899bef2_8399_11ec_8c4e_02420a391b26row27_col0 {\n",
       "            background-color:  #3b4cc0;\n",
       "            color:  #f1f1f1;\n",
       "        }    #T_1899bef2_8399_11ec_8c4e_02420a391b26row28_col0 {\n",
       "            background-color:  #3b4cc0;\n",
       "            color:  #f1f1f1;\n",
       "        }    #T_1899bef2_8399_11ec_8c4e_02420a391b26row29_col0 {\n",
       "            background-color:  #3b4cc0;\n",
       "            color:  #f1f1f1;\n",
       "        }    #T_1899bef2_8399_11ec_8c4e_02420a391b26row30_col0 {\n",
       "            background-color:  #3b4cc0;\n",
       "            color:  #f1f1f1;\n",
       "        }    #T_1899bef2_8399_11ec_8c4e_02420a391b26row31_col0 {\n",
       "            background-color:  #3b4cc0;\n",
       "            color:  #f1f1f1;\n",
       "        }    #T_1899bef2_8399_11ec_8c4e_02420a391b26row32_col0 {\n",
       "            background-color:  #3b4cc0;\n",
       "            color:  #f1f1f1;\n",
       "        }    #T_1899bef2_8399_11ec_8c4e_02420a391b26row33_col0 {\n",
       "            background-color:  #3b4cc0;\n",
       "            color:  #f1f1f1;\n",
       "        }    #T_1899bef2_8399_11ec_8c4e_02420a391b26row34_col0 {\n",
       "            background-color:  #3b4cc0;\n",
       "            color:  #f1f1f1;\n",
       "        }    #T_1899bef2_8399_11ec_8c4e_02420a391b26row35_col0 {\n",
       "            background-color:  #3b4cc0;\n",
       "            color:  #f1f1f1;\n",
       "        }    #T_1899bef2_8399_11ec_8c4e_02420a391b26row36_col0 {\n",
       "            background-color:  #3b4cc0;\n",
       "            color:  #f1f1f1;\n",
       "        }    #T_1899bef2_8399_11ec_8c4e_02420a391b26row37_col0 {\n",
       "            background-color:  #3b4cc0;\n",
       "            color:  #f1f1f1;\n",
       "        }    #T_1899bef2_8399_11ec_8c4e_02420a391b26row38_col0 {\n",
       "            background-color:  #3b4cc0;\n",
       "            color:  #f1f1f1;\n",
       "        }    #T_1899bef2_8399_11ec_8c4e_02420a391b26row39_col0 {\n",
       "            background-color:  #3b4cc0;\n",
       "            color:  #f1f1f1;\n",
       "        }    #T_1899bef2_8399_11ec_8c4e_02420a391b26row40_col0 {\n",
       "            background-color:  #3b4cc0;\n",
       "            color:  #f1f1f1;\n",
       "        }    #T_1899bef2_8399_11ec_8c4e_02420a391b26row41_col0 {\n",
       "            background-color:  #3b4cc0;\n",
       "            color:  #f1f1f1;\n",
       "        }    #T_1899bef2_8399_11ec_8c4e_02420a391b26row42_col0 {\n",
       "            background-color:  #3b4cc0;\n",
       "            color:  #f1f1f1;\n",
       "        }    #T_1899bef2_8399_11ec_8c4e_02420a391b26row43_col0 {\n",
       "            background-color:  #3b4cc0;\n",
       "            color:  #f1f1f1;\n",
       "        }    #T_1899bef2_8399_11ec_8c4e_02420a391b26row44_col0 {\n",
       "            background-color:  #3b4cc0;\n",
       "            color:  #f1f1f1;\n",
       "        }    #T_1899bef2_8399_11ec_8c4e_02420a391b26row45_col0 {\n",
       "            background-color:  #3b4cc0;\n",
       "            color:  #f1f1f1;\n",
       "        }    #T_1899bef2_8399_11ec_8c4e_02420a391b26row46_col0 {\n",
       "            background-color:  #3b4cc0;\n",
       "            color:  #f1f1f1;\n",
       "        }    #T_1899bef2_8399_11ec_8c4e_02420a391b26row47_col0 {\n",
       "            background-color:  #3b4cc0;\n",
       "            color:  #f1f1f1;\n",
       "        }    #T_1899bef2_8399_11ec_8c4e_02420a391b26row48_col0 {\n",
       "            background-color:  #3b4cc0;\n",
       "            color:  #f1f1f1;\n",
       "        }    #T_1899bef2_8399_11ec_8c4e_02420a391b26row49_col0 {\n",
       "            background-color:  #3b4cc0;\n",
       "            color:  #f1f1f1;\n",
       "        }    #T_1899bef2_8399_11ec_8c4e_02420a391b26row50_col0 {\n",
       "            background-color:  #3b4cc0;\n",
       "            color:  #f1f1f1;\n",
       "        }    #T_1899bef2_8399_11ec_8c4e_02420a391b26row51_col0 {\n",
       "            background-color:  #3b4cc0;\n",
       "            color:  #f1f1f1;\n",
       "        }    #T_1899bef2_8399_11ec_8c4e_02420a391b26row52_col0 {\n",
       "            background-color:  #3b4cc0;\n",
       "            color:  #f1f1f1;\n",
       "        }    #T_1899bef2_8399_11ec_8c4e_02420a391b26row53_col0 {\n",
       "            background-color:  #3b4cc0;\n",
       "            color:  #f1f1f1;\n",
       "        }    #T_1899bef2_8399_11ec_8c4e_02420a391b26row54_col0 {\n",
       "            background-color:  #3b4cc0;\n",
       "            color:  #f1f1f1;\n",
       "        }</style><table id=\"T_1899bef2_8399_11ec_8c4e_02420a391b26\" ><thead>    <tr>        <th class=\"blank level0\" ></th>        <th class=\"col_heading level0 col0\" >0</th>    </tr></thead><tbody>\n",
       "                <tr>\n",
       "                        <th id=\"T_1899bef2_8399_11ec_8c4e_02420a391b26level0_row0\" class=\"row_heading level0 row0\" >rougher.input.floatbank11_xanthate</th>\n",
       "                        <td id=\"T_1899bef2_8399_11ec_8c4e_02420a391b26row0_col0\" class=\"data row0 col0\" >0.47</td>\n",
       "            </tr>\n",
       "            <tr>\n",
       "                        <th id=\"T_1899bef2_8399_11ec_8c4e_02420a391b26level0_row1\" class=\"row_heading level0 row1\" >rougher.input.feed_sol</th>\n",
       "                        <td id=\"T_1899bef2_8399_11ec_8c4e_02420a391b26row1_col0\" class=\"data row1 col0\" >0.4</td>\n",
       "            </tr>\n",
       "            <tr>\n",
       "                        <th id=\"T_1899bef2_8399_11ec_8c4e_02420a391b26level0_row2\" class=\"row_heading level0 row2\" >secondary_cleaner.state.floatbank3_a_air</th>\n",
       "                        <td id=\"T_1899bef2_8399_11ec_8c4e_02420a391b26row2_col0\" class=\"data row2 col0\" >0.17</td>\n",
       "            </tr>\n",
       "            <tr>\n",
       "                        <th id=\"T_1899bef2_8399_11ec_8c4e_02420a391b26level0_row3\" class=\"row_heading level0 row3\" >rougher.input.floatbank11_sulfate</th>\n",
       "                        <td id=\"T_1899bef2_8399_11ec_8c4e_02420a391b26row3_col0\" class=\"data row3 col0\" >0.15</td>\n",
       "            </tr>\n",
       "            <tr>\n",
       "                        <th id=\"T_1899bef2_8399_11ec_8c4e_02420a391b26level0_row4\" class=\"row_heading level0 row4\" >primary_cleaner.input.depressant</th>\n",
       "                        <td id=\"T_1899bef2_8399_11ec_8c4e_02420a391b26row4_col0\" class=\"data row4 col0\" >0.09</td>\n",
       "            </tr>\n",
       "            <tr>\n",
       "                        <th id=\"T_1899bef2_8399_11ec_8c4e_02420a391b26level0_row5\" class=\"row_heading level0 row5\" >rougher.input.floatbank10_sulfate</th>\n",
       "                        <td id=\"T_1899bef2_8399_11ec_8c4e_02420a391b26row5_col0\" class=\"data row5 col0\" >0.09</td>\n",
       "            </tr>\n",
       "            <tr>\n",
       "                        <th id=\"T_1899bef2_8399_11ec_8c4e_02420a391b26level0_row6\" class=\"row_heading level0 row6\" >primary_cleaner.input.sulfate</th>\n",
       "                        <td id=\"T_1899bef2_8399_11ec_8c4e_02420a391b26row6_col0\" class=\"data row6 col0\" >0.08</td>\n",
       "            </tr>\n",
       "            <tr>\n",
       "                        <th id=\"T_1899bef2_8399_11ec_8c4e_02420a391b26level0_row7\" class=\"row_heading level0 row7\" >primary_cleaner.input.xanthate</th>\n",
       "                        <td id=\"T_1899bef2_8399_11ec_8c4e_02420a391b26row7_col0\" class=\"data row7 col0\" >0.08</td>\n",
       "            </tr>\n",
       "            <tr>\n",
       "                        <th id=\"T_1899bef2_8399_11ec_8c4e_02420a391b26level0_row8\" class=\"row_heading level0 row8\" >secondary_cleaner.state.floatbank2_a_air</th>\n",
       "                        <td id=\"T_1899bef2_8399_11ec_8c4e_02420a391b26row8_col0\" class=\"data row8 col0\" >0.06</td>\n",
       "            </tr>\n",
       "            <tr>\n",
       "                        <th id=\"T_1899bef2_8399_11ec_8c4e_02420a391b26level0_row9\" class=\"row_heading level0 row9\" >rougher.input.feed_rate</th>\n",
       "                        <td id=\"T_1899bef2_8399_11ec_8c4e_02420a391b26row9_col0\" class=\"data row9 col0\" >0.06</td>\n",
       "            </tr>\n",
       "            <tr>\n",
       "                        <th id=\"T_1899bef2_8399_11ec_8c4e_02420a391b26level0_row10\" class=\"row_heading level0 row10\" >secondary_cleaner.state.floatbank2_b_air</th>\n",
       "                        <td id=\"T_1899bef2_8399_11ec_8c4e_02420a391b26row10_col0\" class=\"data row10 col0\" >0.04</td>\n",
       "            </tr>\n",
       "            <tr>\n",
       "                        <th id=\"T_1899bef2_8399_11ec_8c4e_02420a391b26level0_row11\" class=\"row_heading level0 row11\" >rougher.input.feed_size</th>\n",
       "                        <td id=\"T_1899bef2_8399_11ec_8c4e_02420a391b26row11_col0\" class=\"data row11 col0\" >0.02</td>\n",
       "            </tr>\n",
       "            <tr>\n",
       "                        <th id=\"T_1899bef2_8399_11ec_8c4e_02420a391b26level0_row12\" class=\"row_heading level0 row12\" >rougher.output.recovery</th>\n",
       "                        <td id=\"T_1899bef2_8399_11ec_8c4e_02420a391b26row12_col0\" class=\"data row12 col0\" >0</td>\n",
       "            </tr>\n",
       "            <tr>\n",
       "                        <th id=\"T_1899bef2_8399_11ec_8c4e_02420a391b26level0_row13\" class=\"row_heading level0 row13\" >rougher.state.floatbank10_a_air</th>\n",
       "                        <td id=\"T_1899bef2_8399_11ec_8c4e_02420a391b26row13_col0\" class=\"data row13 col0\" >0</td>\n",
       "            </tr>\n",
       "            <tr>\n",
       "                        <th id=\"T_1899bef2_8399_11ec_8c4e_02420a391b26level0_row14\" class=\"row_heading level0 row14\" >rougher.input.floatbank10_xanthate</th>\n",
       "                        <td id=\"T_1899bef2_8399_11ec_8c4e_02420a391b26row14_col0\" class=\"data row14 col0\" >0</td>\n",
       "            </tr>\n",
       "            <tr>\n",
       "                        <th id=\"T_1899bef2_8399_11ec_8c4e_02420a391b26level0_row15\" class=\"row_heading level0 row15\" >rougher.input.feed_au</th>\n",
       "                        <td id=\"T_1899bef2_8399_11ec_8c4e_02420a391b26row15_col0\" class=\"data row15 col0\" >0</td>\n",
       "            </tr>\n",
       "            <tr>\n",
       "                        <th id=\"T_1899bef2_8399_11ec_8c4e_02420a391b26level0_row16\" class=\"row_heading level0 row16\" >rougher.input.feed_ag</th>\n",
       "                        <td id=\"T_1899bef2_8399_11ec_8c4e_02420a391b26row16_col0\" class=\"data row16 col0\" >0</td>\n",
       "            </tr>\n",
       "            <tr>\n",
       "                        <th id=\"T_1899bef2_8399_11ec_8c4e_02420a391b26level0_row17\" class=\"row_heading level0 row17\" >rougher.input.feed_pb</th>\n",
       "                        <td id=\"T_1899bef2_8399_11ec_8c4e_02420a391b26row17_col0\" class=\"data row17 col0\" >0</td>\n",
       "            </tr>\n",
       "            <tr>\n",
       "                        <th id=\"T_1899bef2_8399_11ec_8c4e_02420a391b26level0_row18\" class=\"row_heading level0 row18\" >rougher.state.floatbank10_b_air</th>\n",
       "                        <td id=\"T_1899bef2_8399_11ec_8c4e_02420a391b26row18_col0\" class=\"data row18 col0\" >0</td>\n",
       "            </tr>\n",
       "            <tr>\n",
       "                        <th id=\"T_1899bef2_8399_11ec_8c4e_02420a391b26level0_row19\" class=\"row_heading level0 row19\" >primary_cleaner.state.floatbank8_d_level</th>\n",
       "                        <td id=\"T_1899bef2_8399_11ec_8c4e_02420a391b26row19_col0\" class=\"data row19 col0\" >0</td>\n",
       "            </tr>\n",
       "            <tr>\n",
       "                        <th id=\"T_1899bef2_8399_11ec_8c4e_02420a391b26level0_row20\" class=\"row_heading level0 row20\" >primary_cleaner.state.floatbank8_d_air</th>\n",
       "                        <td id=\"T_1899bef2_8399_11ec_8c4e_02420a391b26row20_col0\" class=\"data row20 col0\" >0</td>\n",
       "            </tr>\n",
       "            <tr>\n",
       "                        <th id=\"T_1899bef2_8399_11ec_8c4e_02420a391b26level0_row21\" class=\"row_heading level0 row21\" >primary_cleaner.state.floatbank8_c_level</th>\n",
       "                        <td id=\"T_1899bef2_8399_11ec_8c4e_02420a391b26row21_col0\" class=\"data row21 col0\" >0</td>\n",
       "            </tr>\n",
       "            <tr>\n",
       "                        <th id=\"T_1899bef2_8399_11ec_8c4e_02420a391b26level0_row22\" class=\"row_heading level0 row22\" >primary_cleaner.state.floatbank8_c_air</th>\n",
       "                        <td id=\"T_1899bef2_8399_11ec_8c4e_02420a391b26row22_col0\" class=\"data row22 col0\" >0</td>\n",
       "            </tr>\n",
       "            <tr>\n",
       "                        <th id=\"T_1899bef2_8399_11ec_8c4e_02420a391b26level0_row23\" class=\"row_heading level0 row23\" >primary_cleaner.state.floatbank8_b_level</th>\n",
       "                        <td id=\"T_1899bef2_8399_11ec_8c4e_02420a391b26row23_col0\" class=\"data row23 col0\" >0</td>\n",
       "            </tr>\n",
       "            <tr>\n",
       "                        <th id=\"T_1899bef2_8399_11ec_8c4e_02420a391b26level0_row24\" class=\"row_heading level0 row24\" >primary_cleaner.state.floatbank8_b_air</th>\n",
       "                        <td id=\"T_1899bef2_8399_11ec_8c4e_02420a391b26row24_col0\" class=\"data row24 col0\" >0</td>\n",
       "            </tr>\n",
       "            <tr>\n",
       "                        <th id=\"T_1899bef2_8399_11ec_8c4e_02420a391b26level0_row25\" class=\"row_heading level0 row25\" >primary_cleaner.state.floatbank8_a_level</th>\n",
       "                        <td id=\"T_1899bef2_8399_11ec_8c4e_02420a391b26row25_col0\" class=\"data row25 col0\" >0</td>\n",
       "            </tr>\n",
       "            <tr>\n",
       "                        <th id=\"T_1899bef2_8399_11ec_8c4e_02420a391b26level0_row26\" class=\"row_heading level0 row26\" >primary_cleaner.state.floatbank8_a_air</th>\n",
       "                        <td id=\"T_1899bef2_8399_11ec_8c4e_02420a391b26row26_col0\" class=\"data row26 col0\" >0</td>\n",
       "            </tr>\n",
       "            <tr>\n",
       "                        <th id=\"T_1899bef2_8399_11ec_8c4e_02420a391b26level0_row27\" class=\"row_heading level0 row27\" >primary_cleaner.input.feed_size</th>\n",
       "                        <td id=\"T_1899bef2_8399_11ec_8c4e_02420a391b26row27_col0\" class=\"data row27 col0\" >0</td>\n",
       "            </tr>\n",
       "            <tr>\n",
       "                        <th id=\"T_1899bef2_8399_11ec_8c4e_02420a391b26level0_row28\" class=\"row_heading level0 row28\" >rougher.state.floatbank10_a_level</th>\n",
       "                        <td id=\"T_1899bef2_8399_11ec_8c4e_02420a391b26row28_col0\" class=\"data row28 col0\" >0</td>\n",
       "            </tr>\n",
       "            <tr>\n",
       "                        <th id=\"T_1899bef2_8399_11ec_8c4e_02420a391b26level0_row29\" class=\"row_heading level0 row29\" >rougher.state.floatbank10_c_air</th>\n",
       "                        <td id=\"T_1899bef2_8399_11ec_8c4e_02420a391b26row29_col0\" class=\"data row29 col0\" >0</td>\n",
       "            </tr>\n",
       "            <tr>\n",
       "                        <th id=\"T_1899bef2_8399_11ec_8c4e_02420a391b26level0_row30\" class=\"row_heading level0 row30\" >rougher.state.floatbank10_b_level</th>\n",
       "                        <td id=\"T_1899bef2_8399_11ec_8c4e_02420a391b26row30_col0\" class=\"data row30 col0\" >0</td>\n",
       "            </tr>\n",
       "            <tr>\n",
       "                        <th id=\"T_1899bef2_8399_11ec_8c4e_02420a391b26level0_row31\" class=\"row_heading level0 row31\" >secondary_cleaner.state.floatbank3_b_level</th>\n",
       "                        <td id=\"T_1899bef2_8399_11ec_8c4e_02420a391b26row31_col0\" class=\"data row31 col0\" >0</td>\n",
       "            </tr>\n",
       "            <tr>\n",
       "                        <th id=\"T_1899bef2_8399_11ec_8c4e_02420a391b26level0_row32\" class=\"row_heading level0 row32\" >secondary_cleaner.state.floatbank6_a_level</th>\n",
       "                        <td id=\"T_1899bef2_8399_11ec_8c4e_02420a391b26row32_col0\" class=\"data row32 col0\" >0</td>\n",
       "            </tr>\n",
       "            <tr>\n",
       "                        <th id=\"T_1899bef2_8399_11ec_8c4e_02420a391b26level0_row33\" class=\"row_heading level0 row33\" >secondary_cleaner.state.floatbank6_a_air</th>\n",
       "                        <td id=\"T_1899bef2_8399_11ec_8c4e_02420a391b26row33_col0\" class=\"data row33 col0\" >0</td>\n",
       "            </tr>\n",
       "            <tr>\n",
       "                        <th id=\"T_1899bef2_8399_11ec_8c4e_02420a391b26level0_row34\" class=\"row_heading level0 row34\" >secondary_cleaner.state.floatbank5_b_level</th>\n",
       "                        <td id=\"T_1899bef2_8399_11ec_8c4e_02420a391b26row34_col0\" class=\"data row34 col0\" >0</td>\n",
       "            </tr>\n",
       "            <tr>\n",
       "                        <th id=\"T_1899bef2_8399_11ec_8c4e_02420a391b26level0_row35\" class=\"row_heading level0 row35\" >secondary_cleaner.state.floatbank5_b_air</th>\n",
       "                        <td id=\"T_1899bef2_8399_11ec_8c4e_02420a391b26row35_col0\" class=\"data row35 col0\" >0</td>\n",
       "            </tr>\n",
       "            <tr>\n",
       "                        <th id=\"T_1899bef2_8399_11ec_8c4e_02420a391b26level0_row36\" class=\"row_heading level0 row36\" >secondary_cleaner.state.floatbank5_a_level</th>\n",
       "                        <td id=\"T_1899bef2_8399_11ec_8c4e_02420a391b26row36_col0\" class=\"data row36 col0\" >0</td>\n",
       "            </tr>\n",
       "            <tr>\n",
       "                        <th id=\"T_1899bef2_8399_11ec_8c4e_02420a391b26level0_row37\" class=\"row_heading level0 row37\" >secondary_cleaner.state.floatbank5_a_air</th>\n",
       "                        <td id=\"T_1899bef2_8399_11ec_8c4e_02420a391b26row37_col0\" class=\"data row37 col0\" >0</td>\n",
       "            </tr>\n",
       "            <tr>\n",
       "                        <th id=\"T_1899bef2_8399_11ec_8c4e_02420a391b26level0_row38\" class=\"row_heading level0 row38\" >secondary_cleaner.state.floatbank4_b_level</th>\n",
       "                        <td id=\"T_1899bef2_8399_11ec_8c4e_02420a391b26row38_col0\" class=\"data row38 col0\" >0</td>\n",
       "            </tr>\n",
       "            <tr>\n",
       "                        <th id=\"T_1899bef2_8399_11ec_8c4e_02420a391b26level0_row39\" class=\"row_heading level0 row39\" >secondary_cleaner.state.floatbank4_b_air</th>\n",
       "                        <td id=\"T_1899bef2_8399_11ec_8c4e_02420a391b26row39_col0\" class=\"data row39 col0\" >0</td>\n",
       "            </tr>\n",
       "            <tr>\n",
       "                        <th id=\"T_1899bef2_8399_11ec_8c4e_02420a391b26level0_row40\" class=\"row_heading level0 row40\" >secondary_cleaner.state.floatbank4_a_level</th>\n",
       "                        <td id=\"T_1899bef2_8399_11ec_8c4e_02420a391b26row40_col0\" class=\"data row40 col0\" >0</td>\n",
       "            </tr>\n",
       "            <tr>\n",
       "                        <th id=\"T_1899bef2_8399_11ec_8c4e_02420a391b26level0_row41\" class=\"row_heading level0 row41\" >secondary_cleaner.state.floatbank4_a_air</th>\n",
       "                        <td id=\"T_1899bef2_8399_11ec_8c4e_02420a391b26row41_col0\" class=\"data row41 col0\" >0</td>\n",
       "            </tr>\n",
       "            <tr>\n",
       "                        <th id=\"T_1899bef2_8399_11ec_8c4e_02420a391b26level0_row42\" class=\"row_heading level0 row42\" >secondary_cleaner.state.floatbank3_b_air</th>\n",
       "                        <td id=\"T_1899bef2_8399_11ec_8c4e_02420a391b26row42_col0\" class=\"data row42 col0\" >0</td>\n",
       "            </tr>\n",
       "            <tr>\n",
       "                        <th id=\"T_1899bef2_8399_11ec_8c4e_02420a391b26level0_row43\" class=\"row_heading level0 row43\" >final.output.recovery</th>\n",
       "                        <td id=\"T_1899bef2_8399_11ec_8c4e_02420a391b26row43_col0\" class=\"data row43 col0\" >0</td>\n",
       "            </tr>\n",
       "            <tr>\n",
       "                        <th id=\"T_1899bef2_8399_11ec_8c4e_02420a391b26level0_row44\" class=\"row_heading level0 row44\" >secondary_cleaner.state.floatbank3_a_level</th>\n",
       "                        <td id=\"T_1899bef2_8399_11ec_8c4e_02420a391b26row44_col0\" class=\"data row44 col0\" >0</td>\n",
       "            </tr>\n",
       "            <tr>\n",
       "                        <th id=\"T_1899bef2_8399_11ec_8c4e_02420a391b26level0_row45\" class=\"row_heading level0 row45\" >secondary_cleaner.state.floatbank2_b_level</th>\n",
       "                        <td id=\"T_1899bef2_8399_11ec_8c4e_02420a391b26row45_col0\" class=\"data row45 col0\" >0</td>\n",
       "            </tr>\n",
       "            <tr>\n",
       "                        <th id=\"T_1899bef2_8399_11ec_8c4e_02420a391b26level0_row46\" class=\"row_heading level0 row46\" >secondary_cleaner.state.floatbank2_a_level</th>\n",
       "                        <td id=\"T_1899bef2_8399_11ec_8c4e_02420a391b26row46_col0\" class=\"data row46 col0\" >0</td>\n",
       "            </tr>\n",
       "            <tr>\n",
       "                        <th id=\"T_1899bef2_8399_11ec_8c4e_02420a391b26level0_row47\" class=\"row_heading level0 row47\" >rougher.state.floatbank10_f_level</th>\n",
       "                        <td id=\"T_1899bef2_8399_11ec_8c4e_02420a391b26row47_col0\" class=\"data row47 col0\" >0</td>\n",
       "            </tr>\n",
       "            <tr>\n",
       "                        <th id=\"T_1899bef2_8399_11ec_8c4e_02420a391b26level0_row48\" class=\"row_heading level0 row48\" >rougher.state.floatbank10_f_air</th>\n",
       "                        <td id=\"T_1899bef2_8399_11ec_8c4e_02420a391b26row48_col0\" class=\"data row48 col0\" >0</td>\n",
       "            </tr>\n",
       "            <tr>\n",
       "                        <th id=\"T_1899bef2_8399_11ec_8c4e_02420a391b26level0_row49\" class=\"row_heading level0 row49\" >rougher.state.floatbank10_e_level</th>\n",
       "                        <td id=\"T_1899bef2_8399_11ec_8c4e_02420a391b26row49_col0\" class=\"data row49 col0\" >0</td>\n",
       "            </tr>\n",
       "            <tr>\n",
       "                        <th id=\"T_1899bef2_8399_11ec_8c4e_02420a391b26level0_row50\" class=\"row_heading level0 row50\" >rougher.state.floatbank10_e_air</th>\n",
       "                        <td id=\"T_1899bef2_8399_11ec_8c4e_02420a391b26row50_col0\" class=\"data row50 col0\" >0</td>\n",
       "            </tr>\n",
       "            <tr>\n",
       "                        <th id=\"T_1899bef2_8399_11ec_8c4e_02420a391b26level0_row51\" class=\"row_heading level0 row51\" >rougher.state.floatbank10_d_level</th>\n",
       "                        <td id=\"T_1899bef2_8399_11ec_8c4e_02420a391b26row51_col0\" class=\"data row51 col0\" >0</td>\n",
       "            </tr>\n",
       "            <tr>\n",
       "                        <th id=\"T_1899bef2_8399_11ec_8c4e_02420a391b26level0_row52\" class=\"row_heading level0 row52\" >rougher.state.floatbank10_d_air</th>\n",
       "                        <td id=\"T_1899bef2_8399_11ec_8c4e_02420a391b26row52_col0\" class=\"data row52 col0\" >0</td>\n",
       "            </tr>\n",
       "            <tr>\n",
       "                        <th id=\"T_1899bef2_8399_11ec_8c4e_02420a391b26level0_row53\" class=\"row_heading level0 row53\" >rougher.state.floatbank10_c_level</th>\n",
       "                        <td id=\"T_1899bef2_8399_11ec_8c4e_02420a391b26row53_col0\" class=\"data row53 col0\" >0</td>\n",
       "            </tr>\n",
       "            <tr>\n",
       "                        <th id=\"T_1899bef2_8399_11ec_8c4e_02420a391b26level0_row54\" class=\"row_heading level0 row54\" >date</th>\n",
       "                        <td id=\"T_1899bef2_8399_11ec_8c4e_02420a391b26row54_col0\" class=\"data row54 col0\" >0</td>\n",
       "            </tr>\n",
       "    </tbody></table>"
      ],
      "text/plain": [
       "<pandas.io.formats.style.Styler at 0x7f40b8771450>"
      ]
     },
     "execution_count": 24,
     "metadata": {},
     "output_type": "execute_result"
    }
   ],
   "source": [
    "pd.DataFrame(start_test.isna().mean().round(4)*100).sort_values(by=0)[::-1].style.background_gradient('coolwarm')"
   ]
  },
  {
   "cell_type": "code",
   "execution_count": 25,
   "metadata": {},
   "outputs": [
    {
     "name": "stdout",
     "output_type": "stream",
     "text": [
      "(14149, 55)\n",
      "(5290, 55)\n"
     ]
    }
   ],
   "source": [
    "print(start_train.shape)\n",
    "print(start_test.shape)"
   ]
  },
  {
   "cell_type": "markdown",
   "metadata": {},
   "source": [
    "Чтобы не удалять пропущенные значения и зная, что соседние значения близки, применим функцию Pandas dataframe.ffill() для заполнения отсутствующего значения. «ffill» означает «прямое заполнение» и будет распространять последнее действительное наблюдение вперед."
   ]
  },
  {
   "cell_type": "code",
   "execution_count": 26,
   "metadata": {},
   "outputs": [],
   "source": [
    "start_train = start_train.fillna(method='ffill')\n",
    "start_test = start_test.fillna(method='ffill')"
   ]
  },
  {
   "cell_type": "markdown",
   "metadata": {},
   "source": [
    "Вывод: прочитали файлы, проверили правильно ли расчитано rougher.output.recovery, привели выборки к одинаковому размеру - 55 столбцов, заполнили пропуски применив dataframe.ffill()."
   ]
  },
  {
   "cell_type": "markdown",
   "metadata": {},
   "source": [
    "## Анализ данных"
   ]
  },
  {
   "cell_type": "markdown",
   "metadata": {},
   "source": [
    "### Как меняется концентрация металлов (Au - золота, Ag - серебро, Pb - палладий) на различных этапах очистки  "
   ]
  },
  {
   "cell_type": "markdown",
   "metadata": {},
   "source": [
    "По описанию технологического процесса знаем, что есть три этапа очистки: флотация, первичный и второй этап очистки, также посмотрим концентрацию на выходе."
   ]
  },
  {
   "cell_type": "markdown",
   "metadata": {},
   "source": [
    "- rougher.input.feed_X                    флотация/параметры сырья/\n",
    "- rougher.output.concentrate_X            флотация/параметры продукта/\n",
    "- primary_cleaner.output.concentrate_X    \n",
    "- final.output.concentrate_X"
   ]
  },
  {
   "cell_type": "code",
   "execution_count": 27,
   "metadata": {},
   "outputs": [],
   "source": [
    "au_data = (start_full[['rougher.input.feed_au', 'rougher.output.concentrate_au',\n",
    "                       'primary_cleaner.output.concentrate_au', 'final.output.concentrate_au']])"
   ]
  },
  {
   "cell_type": "code",
   "execution_count": 28,
   "metadata": {},
   "outputs": [
    {
     "data": {
      "text/plain": [
       "Text(0.5, 1.0, 'Концентрация золота после этапов')"
      ]
     },
     "execution_count": 28,
     "metadata": {},
     "output_type": "execute_result"
    },
    {
     "data": {
      "image/png": "[encoded data removed]",
      "text/plain": [
       "<Figure size 936x360 with 1 Axes>"
      ]
     },
     "metadata": {
      "needs_background": "light"
     },
     "output_type": "display_data"
    }
   ],
   "source": [
    "plt.figure(figsize=(13,5))\n",
    "sns.boxplot(data = au_data, orient = 'h').set_title('Концентрация золота после этапов')"
   ]
  },
  {
   "cell_type": "code",
   "execution_count": 29,
   "metadata": {},
   "outputs": [
    {
     "data": {
      "text/plain": [
       "Text(0.5, 1.0, 'Концентрация серебра после этапов')"
      ]
     },
     "execution_count": 29,
     "metadata": {},
     "output_type": "execute_result"
    },
    {
     "data": {
      "image/png": "[encoded data removed]",
      "text/plain": [
       "<Figure size 936x360 with 1 Axes>"
      ]
     },
     "metadata": {
      "needs_background": "light"
     },
     "output_type": "display_data"
    }
   ],
   "source": [
    "ag_data = (start_full[['rougher.input.feed_ag', 'rougher.output.concentrate_ag',\n",
    "                       'primary_cleaner.output.concentrate_ag', 'final.output.concentrate_ag']])\n",
    "plt.figure(figsize=(13,5))\n",
    "sns.boxplot(data = ag_data, orient = 'h').set_title('Концентрация серебра после этапов')"
   ]
  },
  {
   "cell_type": "code",
   "execution_count": 30,
   "metadata": {},
   "outputs": [
    {
     "data": {
      "image/png": "[encoded data removed]",
      "text/plain": [
       "<Figure size 936x360 with 1 Axes>"
      ]
     },
     "metadata": {
      "needs_background": "light"
     },
     "output_type": "display_data"
    }
   ],
   "source": [
    "pb_data = (start_full[['rougher.input.feed_pb', 'rougher.output.concentrate_pb',\n",
    "                       'primary_cleaner.output.concentrate_pb', 'final.output.concentrate_pb']])\n",
    "plt.figure(figsize=(13,5))\n",
    "sns.boxplot(data = pb_data, orient = 'h').set_title('Концентрация палладия после этапов');"
   ]
  },
  {
   "cell_type": "markdown",
   "metadata": {},
   "source": [
    "Вывод: по графикам четко видим, что концентрация золото от этапа к этапу увеличивается. Концентрация серебра уменьшается после втого этапа и финальная концентрация меньше начальной. Концентрация палладия растет на трех этапах, на финальном этапе концентрация не меняется."
   ]
  },
  {
   "cell_type": "markdown",
   "metadata": {},
   "source": [
    "### Сравните распределения размеров гранул сырья на обучающей и тестовой выборках."
   ]
  },
  {
   "cell_type": "markdown",
   "metadata": {},
   "source": [
    "feed_size - размер гранул сырья. Этот параметр есть в rougher.input.feed_size и primary_cleaner.input.feed_size."
   ]
  },
  {
   "cell_type": "code",
   "execution_count": 31,
   "metadata": {},
   "outputs": [
    {
     "name": "stdout",
     "output_type": "stream",
     "text": [
      "Распределения размеров гранул сырья на обучающей выборке: 60.23985599255732\n",
      "Распределения размеров гранул сырья на тестовой выборке 55.95275402889513\n"
     ]
    },
    {
     "data": {
      "image/png": "[encoded data removed]",
      "text/plain": [
       "<Figure size 432x288 with 1 Axes>"
      ]
     },
     "metadata": {
      "needs_background": "light"
     },
     "output_type": "display_data"
    }
   ],
   "source": [
    "print(\"Распределения размеров гранул сырья на обучающей выборке:\", start_train['rougher.input.feed_size'].mean())\n",
    "print('Распределения размеров гранул сырья на тестовой выборке', start_test['rougher.input.feed_size'].mean())\n",
    "start_train['rougher.input.feed_size'].hist(alpha=.3)\n",
    "start_test_full['rougher.input.feed_size'].hist(alpha=.3);\n",
    "\n",
    "plt.title('График суммарных концентраций по этапам', size=16);\n",
    "plt.xlabel('Концентрация')\n",
    "plt.ylabel('Количесвто наблюдений');"
   ]
  },
  {
   "cell_type": "code",
   "execution_count": 32,
   "metadata": {},
   "outputs": [
    {
     "name": "stdout",
     "output_type": "stream",
     "text": [
      "Распределения размеров гранул сырья на обучающей выборке: 7.322309906901314\n",
      "Распределения размеров гранул сырья на тестовой выборке 7.266339191270906\n"
     ]
    },
    {
     "data": {
      "image/png": "[encoded data removed]",
      "text/plain": [
       "<Figure size 432x288 with 1 Axes>"
      ]
     },
     "metadata": {
      "needs_background": "light"
     },
     "output_type": "display_data"
    }
   ],
   "source": [
    "print(\"Распределения размеров гранул сырья на обучающей выборке:\", start_train['primary_cleaner.input.feed_size'].mean())\n",
    "print('Распределения размеров гранул сырья на тестовой выборке', start_test['primary_cleaner.input.feed_size'].mean())\n",
    "start_train['primary_cleaner.input.feed_size'].hist(alpha=.3)\n",
    "start_test_full['primary_cleaner.input.feed_size'].hist(alpha=.3);\n",
    "\n",
    "plt.title('График суммарных концентраций по этапам', size=16);\n",
    "plt.xlabel('Концентрация')\n",
    "plt.ylabel('Количесвто наблюдений');"
   ]
  },
  {
   "cell_type": "markdown",
   "metadata": {},
   "source": [
    "Вывод: концентрация на rougher.input.feed_size\n",
    "- 60.24 распределения размеров гранул сырья на обучающей выборке \n",
    "- 55.95 распределения размеров гранул сырья на тестовой выборке, \n",
    "\n",
    "в то время как после primary_cleaner.input.feed_size размеры практически сравнялись\n",
    "- 7.32 распределения размеров гранул сырья на обучающей выборке\n",
    "- 7.26 распределения размеров гранул сырья на тестовой выборке. "
   ]
  },
  {
   "cell_type": "markdown",
   "metadata": {},
   "source": [
    "### Исследование суммарных концентраций"
   ]
  },
  {
   "cell_type": "markdown",
   "metadata": {},
   "source": [
    "Исследуйте суммарную концентрацию всех веществ на разных стадиях: в сырье, в черновом и финальном концентратах."
   ]
  },
  {
   "cell_type": "code",
   "execution_count": 33,
   "metadata": {},
   "outputs": [],
   "source": [
    "start_full['rougher_feed_sum'] = start_full[['rougher.input.feed_ag',\n",
    "                                             'rougher.input.feed_au','rougher.input.feed_pb',\n",
    "                                             'rougher.input.feed_sol']].sum(axis = 1)"
   ]
  },
  {
   "cell_type": "code",
   "execution_count": 34,
   "metadata": {},
   "outputs": [],
   "source": [
    "start_full['rougher_output_sum'] = start_full[['rougher.output.concentrate_ag',\n",
    "                                               'rougher.output.concentrate_au', 'rougher.output.concentrate_pb',\n",
    "                                               'rougher.output.concentrate_sol']].sum(axis = 1)"
   ]
  },
  {
   "cell_type": "code",
   "execution_count": 35,
   "metadata": {},
   "outputs": [],
   "source": [
    "start_full['primary_sum'] = start_full[['primary_cleaner.output.concentrate_ag',\n",
    "                                        'primary_cleaner.output.concentrate_pb', 'primary_cleaner.output.concentrate_au',\n",
    "                                        'primary_cleaner.output.concentrate_sol']].sum(axis = 1)"
   ]
  },
  {
   "cell_type": "code",
   "execution_count": 36,
   "metadata": {},
   "outputs": [],
   "source": [
    "start_full['final_sum'] = start_full[['final.output.concentrate_ag', 'final.output.concentrate_pb',\n",
    "                                      'final.output.concentrate_au', 'final.output.concentrate_sol']].sum(axis = 1)"
   ]
  },
  {
   "cell_type": "code",
   "execution_count": 37,
   "metadata": {},
   "outputs": [
    {
     "data": {
      "image/png": "[encoded data removed]",
      "text/plain": [
       "<Figure size 432x288 with 1 Axes>"
      ]
     },
     "metadata": {
      "needs_background": "light"
     },
     "output_type": "display_data"
    }
   ],
   "source": [
    "start_full['rougher_feed_sum'].hist(alpha=.4)               # синий цвет\n",
    "start_full['rougher_output_sum'].hist(alpha=.4)             # оранжевый цвет\n",
    "start_full['primary_sum'].hist(alpha=.4)                    # зеленый цвет\n",
    "start_full['final_sum'].hist(alpha=.4)                      # красный цвет\n",
    "\n",
    "plt.title('График суммарных концентраций по этапам', size=16);\n",
    "plt.xlabel('Концентрация')\n",
    "plt.ylabel('Количесвто наблюдений');"
   ]
  },
  {
   "cell_type": "markdown",
   "metadata": {},
   "source": [
    "По грифику видим, что есть аномальные значения от 0 до 20. Удалим их."
   ]
  },
  {
   "cell_type": "code",
   "execution_count": 38,
   "metadata": {},
   "outputs": [],
   "source": [
    "start_full=start_full.loc[(start_full['rougher_feed_sum']>20) & (start_full['rougher_output_sum']>20) & (start_full['primary_sum']>20) & (start_full['final_sum']>20)] "
   ]
  },
  {
   "cell_type": "code",
   "execution_count": 39,
   "metadata": {},
   "outputs": [
    {
     "data": {
      "image/png": "[encoded data removed]",
      "text/plain": [
       "<Figure size 432x288 with 1 Axes>"
      ]
     },
     "metadata": {
      "needs_background": "light"
     },
     "output_type": "display_data"
    }
   ],
   "source": [
    "start_full['rougher_feed_sum'].hist(alpha=.4)               # синий цвет\n",
    "start_full['rougher_output_sum'].hist(alpha=.4)             # оранжевый цвет\n",
    "start_full['primary_sum'].hist(alpha=.4)                    # зеленый цвет\n",
    "start_full['final_sum'].hist(alpha=.4)                      # красный цвет\n",
    "\n",
    "plt.title('График суммарных концентраций по этапам', size=16);\n",
    "plt.xlabel('Концентрация')\n",
    "plt.ylabel('Количесвто наблюдений');"
   ]
  },
  {
   "cell_type": "markdown",
   "metadata": {},
   "source": [
    "Вывод: по графикам видим, что от этапа к этапу концентрация увеличивается."
   ]
  },
  {
   "cell_type": "markdown",
   "metadata": {},
   "source": [
    "## Модель"
   ]
  },
  {
   "cell_type": "markdown",
   "metadata": {},
   "source": [
    "### Напишите функцию для вычисления итоговой sMAPE"
   ]
  },
  {
   "cell_type": "markdown",
   "metadata": {},
   "source": [
    "Симметричная средняя абсолютная процентная ошибка (SMAPE) используется для измерения интеллектуальной точности моделей."
   ]
  },
  {
   "cell_type": "code",
   "execution_count": 40,
   "metadata": {},
   "outputs": [],
   "source": [
    "def to_smape (target, predictions):\n",
    "    return 100/len(target) * np.sum(2 * np.abs(predictions - target) / (np.abs(target) + np.abs(predictions)))"
   ]
  },
  {
   "cell_type": "code",
   "execution_count": 41,
   "metadata": {},
   "outputs": [],
   "source": [
    "def to_itog_smape (rougher, final):\n",
    "    return 0.25 * rougher + 0.75 * final"
   ]
  },
  {
   "cell_type": "markdown",
   "metadata": {},
   "source": [
    "### Обучите разные модели и оцените их качество кросс-валидацией. Выберите лучшую модель и проверьте её на тестовой выборке. Опишите выводы."
   ]
  },
  {
   "cell_type": "markdown",
   "metadata": {},
   "source": [
    "Подготовим признаки"
   ]
  },
  {
   "cell_type": "code",
   "execution_count": 42,
   "metadata": {},
   "outputs": [],
   "source": [
    "target_rougher = start_train['rougher.output.recovery']\n",
    "target_final = start_train['final.output.recovery']\n",
    "\n",
    "features_train = start_train.drop(['date', 'final.output.recovery', 'rougher.output.recovery'], axis='columns')"
   ]
  },
  {
   "cell_type": "code",
   "execution_count": 43,
   "metadata": {},
   "outputs": [],
   "source": [
    "target_rougher_test = start_test['rougher.output.recovery']\n",
    "target_final_test = start_test['final.output.recovery']\n",
    "\n",
    "features_test = start_test.drop(['date', 'final.output.recovery', 'rougher.output.recovery'], axis='columns')"
   ]
  },
  {
   "cell_type": "markdown",
   "metadata": {},
   "source": [
    "Масштабируем признаки"
   ]
  },
  {
   "cell_type": "code",
   "execution_count": 44,
   "metadata": {},
   "outputs": [],
   "source": [
    "scaler = StandardScaler()\n",
    "scaler.fit(features_train)\n",
    "features_train = scaler.transform(features_train)"
   ]
  },
  {
   "cell_type": "code",
   "execution_count": 45,
   "metadata": {},
   "outputs": [],
   "source": [
    "scaler = StandardScaler()\n",
    "scaler.fit(features_test)\n",
    "features_test = scaler.transform(features_test)"
   ]
  },
  {
   "cell_type": "markdown",
   "metadata": {},
   "source": [
    "Рассмотрим DecisionTreeRegressor"
   ]
  },
  {
   "cell_type": "code",
   "execution_count": 46,
   "metadata": {},
   "outputs": [],
   "source": [
    "my_scorer = make_scorer(to_smape, greater_is_better=False)"
   ]
  },
  {
   "cell_type": "code",
   "execution_count": 47,
   "metadata": {},
   "outputs": [
    {
     "name": "stdout",
     "output_type": "stream",
     "text": [
      "Results: -25.896898844536985\n"
     ]
    }
   ],
   "source": [
    "model_dtr = DecisionTreeRegressor(random_state=12345)\n",
    "results = cross_val_score(model_dtr, features_train, target_rougher, scoring=my_scorer, cv=5).mean()\n",
    "print(\"Results:\", results)"
   ]
  },
  {
   "cell_type": "markdown",
   "metadata": {},
   "source": [
    "Рассмотрим LinearRegression"
   ]
  },
  {
   "cell_type": "code",
   "execution_count": 48,
   "metadata": {},
   "outputs": [
    {
     "name": "stdout",
     "output_type": "stream",
     "text": [
      "Results: -12.80248345848199\n"
     ]
    }
   ],
   "source": [
    "model_lr = LinearRegression()\n",
    "results = cross_val_score(model_lr, features_train, target_rougher, scoring=my_scorer, cv=5).mean()\n",
    "print(\"Results:\", results)"
   ]
  },
  {
   "cell_type": "markdown",
   "metadata": {},
   "source": [
    "Рассотрим RandomForestRegressor"
   ]
  },
  {
   "cell_type": "code",
   "execution_count": 49,
   "metadata": {},
   "outputs": [
    {
     "name": "stdout",
     "output_type": "stream",
     "text": [
      "Results: -11.404657476055112\n"
     ]
    }
   ],
   "source": [
    "model_rf = RandomForestRegressor(max_depth = 3, n_estimators = 17, random_state = 12345)\n",
    "model_dtr = DecisionTreeRegressor(random_state=12345)\n",
    "results = cross_val_score(model_rf, features_train, target_rougher, scoring=my_scorer, cv=5).mean()\n",
    "print(\"Results:\", results)"
   ]
  },
  {
   "cell_type": "markdown",
   "metadata": {},
   "source": [
    "Лучшее значение у RandomForestRegressor. Проверим ее на тестовой выборке."
   ]
  },
  {
   "cell_type": "code",
   "execution_count": 50,
   "metadata": {},
   "outputs": [],
   "source": [
    "model_rfr_n1 = RandomForestRegressor(max_depth = 3, n_estimators = 17, random_state = 12345)\n",
    "model_rfr_n2 = RandomForestRegressor(max_depth = 3, n_estimators = 17, random_state = 12345)\n",
    "\n",
    "rfr_rougher = model_rfr_n1.fit(features_train, target_rougher)\n",
    "rfr_final = model_rfr_n2.fit(features_train, target_final)\n",
    "\n",
    "rfr_predictions_rougher = rfr_rougher.predict(features_test)\n",
    "rfr_predictions_final = rfr_final.predict(features_test)"
   ]
  },
  {
   "cell_type": "markdown",
   "metadata": {},
   "source": [
    "Посчитаем sMAPE для обоих признаков и итоговый"
   ]
  },
  {
   "cell_type": "code",
   "execution_count": 51,
   "metadata": {},
   "outputs": [
    {
     "data": {
      "text/plain": [
       "9.92951165273915"
      ]
     },
     "execution_count": 51,
     "metadata": {},
     "output_type": "execute_result"
    }
   ],
   "source": [
    "smape_rougher = to_smape(target_rougher_test, rfr_predictions_rougher)\n",
    "smape_final = to_smape(target_final_test, rfr_predictions_final)\n",
    "to_itog_smape(smape_rougher, smape_final)"
   ]
  },
  {
   "cell_type": "markdown",
   "metadata": {},
   "source": [
    "Сравним с DummyRegressor."
   ]
  },
  {
   "cell_type": "code",
   "execution_count": 52,
   "metadata": {},
   "outputs": [
    {
     "data": {
      "text/plain": [
       "9.479919198122861"
      ]
     },
     "execution_count": 52,
     "metadata": {},
     "output_type": "execute_result"
    }
   ],
   "source": [
    "dummy = DummyRegressor(strategy = 'median')\n",
    "dummy_1 = DummyRegressor(strategy = 'median')\n",
    "\n",
    "dummy_rougher = dummy.fit(features_train, target_rougher)\n",
    "dummy_predictions_rougher = dummy_rougher.predict(features_test)\n",
    "\n",
    "dummy_final = dummy_1.fit(features_train, target_final)\n",
    "dummy_predictions_final = dummy_final.predict(features_test)\n",
    "smape_rougher_dummy = to_smape(target_rougher_test, dummy_predictions_rougher)\n",
    "smape_final_dummy = to_smape(target_final_test, dummy_predictions_final)\n",
    "to_itog_smape(smape_rougher_dummy, smape_final_dummy)"
   ]
  },
  {
   "cell_type": "markdown",
   "metadata": {},
   "source": [
    "Вывод: написали функцию для вычисления итоговой sMAPE. \n",
    "Рассмотрели три модели:\n",
    "- DecisionTreeRegressor\n",
    "- LinearRegression\n",
    "- RandomForestRegressor.\n",
    "\n",
    "Выяснили, что лучше всего показатели у RandomForestRegressor. \n",
    "\n",
    "Посчитали его итоговый sMAPE 9.92951165273915 (12.366776543870039 до правок), итоговый sMAPE на DummyRegressor получился 9.479919198122861 (11.350420514472075 до правок)."
   ]
  },
  {
   "cell_type": "markdown",
   "metadata": {},
   "source": [
    "## Чек-лист готовности проекта"
   ]
  },
  {
   "cell_type": "markdown",
   "metadata": {},
   "source": [
    "- [x]  Jupyter Notebook открыт\n",
    "- [x]  Весь код выполняется без ошибок\n",
    "- [x]  Ячейки с кодом расположены в порядке выполнения\n",
    "- [x]  Выполнен шаг 1: данные подготовлены\n",
    "    - [x]  Проверена формула вычисления эффективности обогащения\n",
    "    - [x]  Проанализированы признаки, недоступные в тестовой выборке\n",
    "    - [x]  Проведена предобработка данных\n",
    "- [x]  Выполнен шаг 2: данные проанализированы\n",
    "    - [x]  Исследовано изменение концентрации элементов на каждом этапе\n",
    "    - [x]  Проанализированы распределения размеров гранул на обучающей и тестовой выборках\n",
    "    - [x]  Исследованы суммарные концентрации\n",
    "- [x]  Выполнен шаг 3: построена модель прогнозирования\n",
    "    - [x]  Написана функция для вычисления итогового *sMAPE*\n",
    "    - [x]  Обучено и проверено несколько моделей\n",
    "    - [x]  Выбрана лучшая модель, её качество проверено на тестовой выборке"
   ]
  }
 ],
 "metadata": {
  "ExecuteTimeLog": [
   {
    "duration": 576,
    "start_time": "2021-12-07T08:48:12.676Z"
   },
   {
    "duration": 680,
    "start_time": "2021-12-07T08:48:13.254Z"
   },
   {
    "duration": 526,
    "start_time": "2021-12-07T08:49:43.722Z"
   },
   {
    "duration": 678,
    "start_time": "2021-12-07T08:49:44.250Z"
   },
   {
    "duration": 3,
    "start_time": "2021-12-07T08:49:44.929Z"
   },
   {
    "duration": 139,
    "start_time": "2021-12-07T08:50:10.646Z"
   },
   {
    "duration": 43,
    "start_time": "2021-12-07T09:16:37.809Z"
   },
   {
    "duration": 113,
    "start_time": "2021-12-07T09:16:40.732Z"
   },
   {
    "duration": 576,
    "start_time": "2021-12-07T09:30:45.395Z"
   },
   {
    "duration": 572,
    "start_time": "2021-12-07T09:31:32.072Z"
   },
   {
    "duration": 690,
    "start_time": "2021-12-07T09:31:32.646Z"
   },
   {
    "duration": 3,
    "start_time": "2021-12-07T09:31:33.338Z"
   },
   {
    "duration": 536,
    "start_time": "2021-12-07T09:31:33.343Z"
   },
   {
    "duration": 52,
    "start_time": "2021-12-07T09:31:33.881Z"
   },
   {
    "duration": 137,
    "start_time": "2021-12-07T09:31:33.934Z"
   },
   {
    "duration": 63,
    "start_time": "2021-12-07T09:31:34.073Z"
   },
   {
    "duration": 713,
    "start_time": "2021-12-07T10:40:42.545Z"
   },
   {
    "duration": 540,
    "start_time": "2021-12-10T09:16:11.905Z"
   },
   {
    "duration": 659,
    "start_time": "2021-12-10T09:16:12.447Z"
   },
   {
    "duration": 3,
    "start_time": "2021-12-10T09:16:13.108Z"
   },
   {
    "duration": 157,
    "start_time": "2021-12-10T09:16:13.113Z"
   },
   {
    "duration": 49,
    "start_time": "2021-12-10T09:16:13.271Z"
   },
   {
    "duration": 129,
    "start_time": "2021-12-10T09:16:13.322Z"
   },
   {
    "duration": 432,
    "start_time": "2021-12-10T09:16:13.452Z"
   },
   {
    "duration": 510,
    "start_time": "2021-12-10T09:18:44.441Z"
   },
   {
    "duration": 685,
    "start_time": "2021-12-10T09:18:44.953Z"
   },
   {
    "duration": 4,
    "start_time": "2021-12-10T09:18:45.640Z"
   },
   {
    "duration": 164,
    "start_time": "2021-12-10T09:18:45.646Z"
   },
   {
    "duration": 390,
    "start_time": "2021-12-10T09:18:45.812Z"
   },
   {
    "duration": 49,
    "start_time": "2021-12-10T09:18:46.205Z"
   },
   {
    "duration": 52,
    "start_time": "2021-12-10T09:18:46.257Z"
   },
   {
    "duration": 137,
    "start_time": "2021-12-10T09:18:46.312Z"
   },
   {
    "duration": 57,
    "start_time": "2021-12-10T09:18:46.451Z"
   },
   {
    "duration": 67,
    "start_time": "2021-12-10T09:30:05.721Z"
   },
   {
    "duration": 271,
    "start_time": "2021-12-10T09:30:13.735Z"
   },
   {
    "duration": 186,
    "start_time": "2021-12-10T09:30:30.533Z"
   },
   {
    "duration": 180,
    "start_time": "2021-12-10T09:30:39.758Z"
   },
   {
    "duration": 41,
    "start_time": "2021-12-10T09:33:22.880Z"
   },
   {
    "duration": 62,
    "start_time": "2021-12-10T09:34:29.129Z"
   },
   {
    "duration": 4,
    "start_time": "2021-12-10T09:37:28.034Z"
   },
   {
    "duration": 527,
    "start_time": "2021-12-10T09:40:28.824Z"
   },
   {
    "duration": 696,
    "start_time": "2021-12-10T09:40:29.353Z"
   },
   {
    "duration": 4,
    "start_time": "2021-12-10T09:40:30.050Z"
   },
   {
    "duration": 162,
    "start_time": "2021-12-10T09:40:30.056Z"
   },
   {
    "duration": 467,
    "start_time": "2021-12-10T09:40:30.220Z"
   },
   {
    "duration": 46,
    "start_time": "2021-12-10T09:40:30.689Z"
   },
   {
    "duration": 29,
    "start_time": "2021-12-10T09:40:30.738Z"
   },
   {
    "duration": 145,
    "start_time": "2021-12-10T09:40:30.769Z"
   },
   {
    "duration": 40,
    "start_time": "2021-12-10T09:40:30.916Z"
   },
   {
    "duration": 4,
    "start_time": "2021-12-10T09:40:30.957Z"
   },
   {
    "duration": 3,
    "start_time": "2021-12-10T10:06:36.752Z"
   },
   {
    "duration": 62,
    "start_time": "2021-12-10T10:07:45.088Z"
   },
   {
    "duration": 2063,
    "start_time": "2021-12-10T10:07:56.785Z"
   },
   {
    "duration": 204,
    "start_time": "2021-12-10T10:08:17.799Z"
   },
   {
    "duration": 6,
    "start_time": "2021-12-10T10:08:29.825Z"
   },
   {
    "duration": 594,
    "start_time": "2021-12-10T10:08:39.793Z"
   },
   {
    "duration": 712,
    "start_time": "2021-12-10T10:08:40.389Z"
   },
   {
    "duration": 4,
    "start_time": "2021-12-10T10:08:41.103Z"
   },
   {
    "duration": 158,
    "start_time": "2021-12-10T10:08:41.108Z"
   },
   {
    "duration": 405,
    "start_time": "2021-12-10T10:08:41.268Z"
   },
   {
    "duration": 67,
    "start_time": "2021-12-10T10:08:41.675Z"
   },
   {
    "duration": 27,
    "start_time": "2021-12-10T10:08:41.744Z"
   },
   {
    "duration": 147,
    "start_time": "2021-12-10T10:08:41.773Z"
   },
   {
    "duration": 46,
    "start_time": "2021-12-10T10:08:41.922Z"
   },
   {
    "duration": 22,
    "start_time": "2021-12-10T10:08:41.970Z"
   },
   {
    "duration": 4,
    "start_time": "2021-12-10T10:08:41.994Z"
   },
   {
    "duration": 6,
    "start_time": "2021-12-10T10:08:41.999Z"
   },
   {
    "duration": 838,
    "start_time": "2021-12-12T08:16:32.198Z"
   },
   {
    "duration": 867,
    "start_time": "2021-12-12T08:16:33.039Z"
   },
   {
    "duration": 8,
    "start_time": "2021-12-12T08:16:33.909Z"
   },
   {
    "duration": 297,
    "start_time": "2021-12-12T08:16:33.920Z"
   },
   {
    "duration": 827,
    "start_time": "2021-12-12T08:16:34.220Z"
   },
   {
    "duration": 101,
    "start_time": "2021-12-12T08:16:35.050Z"
   },
   {
    "duration": 68,
    "start_time": "2021-12-12T08:16:35.153Z"
   },
   {
    "duration": 253,
    "start_time": "2021-12-12T08:16:35.226Z"
   },
   {
    "duration": 85,
    "start_time": "2021-12-12T08:16:35.482Z"
   },
   {
    "duration": 8,
    "start_time": "2021-12-12T08:16:35.570Z"
   },
   {
    "duration": 5,
    "start_time": "2021-12-12T08:16:35.581Z"
   },
   {
    "duration": 32,
    "start_time": "2021-12-12T08:16:35.589Z"
   },
   {
    "duration": 13,
    "start_time": "2021-12-12T08:16:35.624Z"
   },
   {
    "duration": 6,
    "start_time": "2021-12-12T08:18:51.095Z"
   },
   {
    "duration": 449,
    "start_time": "2021-12-12T08:23:20.490Z"
   },
   {
    "duration": 1787,
    "start_time": "2021-12-12T08:23:50.488Z"
   },
   {
    "duration": 850,
    "start_time": "2021-12-12T08:23:52.277Z"
   },
   {
    "duration": 5,
    "start_time": "2021-12-12T08:23:53.130Z"
   },
   {
    "duration": 249,
    "start_time": "2021-12-12T08:23:53.137Z"
   },
   {
    "duration": 919,
    "start_time": "2021-12-12T08:23:53.389Z"
   },
   {
    "duration": 83,
    "start_time": "2021-12-12T08:23:54.310Z"
   },
   {
    "duration": 55,
    "start_time": "2021-12-12T08:23:54.416Z"
   },
   {
    "duration": 253,
    "start_time": "2021-12-12T08:23:54.475Z"
   },
   {
    "duration": 90,
    "start_time": "2021-12-12T08:23:54.731Z"
   },
   {
    "duration": 6,
    "start_time": "2021-12-12T08:23:54.823Z"
   },
   {
    "duration": 8,
    "start_time": "2021-12-12T08:23:54.831Z"
   },
   {
    "duration": 6,
    "start_time": "2021-12-12T08:23:54.841Z"
   },
   {
    "duration": 6,
    "start_time": "2021-12-12T08:23:54.849Z"
   },
   {
    "duration": 6,
    "start_time": "2021-12-12T08:23:54.858Z"
   },
   {
    "duration": 388,
    "start_time": "2021-12-12T08:23:54.867Z"
   },
   {
    "duration": 320,
    "start_time": "2021-12-12T08:25:35.886Z"
   },
   {
    "duration": 238,
    "start_time": "2021-12-12T08:26:00.371Z"
   },
   {
    "duration": 449,
    "start_time": "2021-12-12T08:28:10.429Z"
   },
   {
    "duration": 846,
    "start_time": "2021-12-12T08:29:22.825Z"
   },
   {
    "duration": 866,
    "start_time": "2021-12-12T08:29:23.674Z"
   },
   {
    "duration": 5,
    "start_time": "2021-12-12T08:29:24.543Z"
   },
   {
    "duration": 259,
    "start_time": "2021-12-12T08:29:24.551Z"
   },
   {
    "duration": 736,
    "start_time": "2021-12-12T08:29:24.817Z"
   },
   {
    "duration": 91,
    "start_time": "2021-12-12T08:29:25.556Z"
   },
   {
    "duration": 47,
    "start_time": "2021-12-12T08:29:25.650Z"
   },
   {
    "duration": 314,
    "start_time": "2021-12-12T08:29:25.718Z"
   },
   {
    "duration": 114,
    "start_time": "2021-12-12T08:29:26.037Z"
   },
   {
    "duration": 8,
    "start_time": "2021-12-12T08:29:26.154Z"
   },
   {
    "duration": 5,
    "start_time": "2021-12-12T08:29:26.164Z"
   },
   {
    "duration": 7,
    "start_time": "2021-12-12T08:29:26.171Z"
   },
   {
    "duration": 38,
    "start_time": "2021-12-12T08:29:26.180Z"
   },
   {
    "duration": 6,
    "start_time": "2021-12-12T08:29:26.220Z"
   },
   {
    "duration": 707,
    "start_time": "2021-12-12T08:29:26.229Z"
   },
   {
    "duration": 841,
    "start_time": "2021-12-12T08:29:43.677Z"
   },
   {
    "duration": 870,
    "start_time": "2021-12-12T08:29:44.521Z"
   },
   {
    "duration": 4,
    "start_time": "2021-12-12T08:29:45.394Z"
   },
   {
    "duration": 254,
    "start_time": "2021-12-12T08:29:45.401Z"
   },
   {
    "duration": 970,
    "start_time": "2021-12-12T08:29:45.657Z"
   },
   {
    "duration": 101,
    "start_time": "2021-12-12T08:29:46.630Z"
   },
   {
    "duration": 46,
    "start_time": "2021-12-12T08:29:46.734Z"
   },
   {
    "duration": 355,
    "start_time": "2021-12-12T08:29:46.783Z"
   },
   {
    "duration": 85,
    "start_time": "2021-12-12T08:29:47.143Z"
   },
   {
    "duration": 7,
    "start_time": "2021-12-12T08:29:47.231Z"
   },
   {
    "duration": 5,
    "start_time": "2021-12-12T08:29:47.240Z"
   },
   {
    "duration": 6,
    "start_time": "2021-12-12T08:29:47.248Z"
   },
   {
    "duration": 6,
    "start_time": "2021-12-12T08:29:47.257Z"
   },
   {
    "duration": 52,
    "start_time": "2021-12-12T08:29:47.265Z"
   },
   {
    "duration": 261,
    "start_time": "2021-12-12T08:29:47.319Z"
   },
   {
    "duration": 464,
    "start_time": "2021-12-12T08:35:52.948Z"
   },
   {
    "duration": 1445,
    "start_time": "2021-12-12T08:36:00.559Z"
   },
   {
    "duration": 894,
    "start_time": "2021-12-12T08:36:02.007Z"
   },
   {
    "duration": 5,
    "start_time": "2021-12-12T08:36:02.904Z"
   },
   {
    "duration": 254,
    "start_time": "2021-12-12T08:36:02.918Z"
   },
   {
    "duration": 793,
    "start_time": "2021-12-12T08:36:03.175Z"
   },
   {
    "duration": 97,
    "start_time": "2021-12-12T08:36:03.972Z"
   },
   {
    "duration": 62,
    "start_time": "2021-12-12T08:36:04.072Z"
   },
   {
    "duration": 225,
    "start_time": "2021-12-12T08:36:04.136Z"
   },
   {
    "duration": 85,
    "start_time": "2021-12-12T08:36:04.365Z"
   },
   {
    "duration": 7,
    "start_time": "2021-12-12T08:36:04.453Z"
   },
   {
    "duration": 11,
    "start_time": "2021-12-12T08:36:04.462Z"
   },
   {
    "duration": 8,
    "start_time": "2021-12-12T08:36:04.475Z"
   },
   {
    "duration": 35,
    "start_time": "2021-12-12T08:36:04.485Z"
   },
   {
    "duration": 8,
    "start_time": "2021-12-12T08:36:04.523Z"
   },
   {
    "duration": 284,
    "start_time": "2021-12-12T08:36:04.533Z"
   },
   {
    "duration": 7,
    "start_time": "2021-12-12T08:36:04.819Z"
   },
   {
    "duration": 4,
    "start_time": "2021-12-12T09:07:27.136Z"
   },
   {
    "duration": 5,
    "start_time": "2021-12-12T09:08:01.451Z"
   },
   {
    "duration": 1413,
    "start_time": "2021-12-12T09:12:43.645Z"
   },
   {
    "duration": 869,
    "start_time": "2021-12-12T09:12:45.061Z"
   },
   {
    "duration": 5,
    "start_time": "2021-12-12T09:12:45.934Z"
   },
   {
    "duration": 282,
    "start_time": "2021-12-12T09:12:45.943Z"
   },
   {
    "duration": 744,
    "start_time": "2021-12-12T09:12:46.228Z"
   },
   {
    "duration": 98,
    "start_time": "2021-12-12T09:12:46.976Z"
   },
   {
    "duration": 70,
    "start_time": "2021-12-12T09:12:47.077Z"
   },
   {
    "duration": 252,
    "start_time": "2021-12-12T09:12:47.150Z"
   },
   {
    "duration": 73,
    "start_time": "2021-12-12T09:12:47.406Z"
   },
   {
    "duration": 7,
    "start_time": "2021-12-12T09:12:47.482Z"
   },
   {
    "duration": 4,
    "start_time": "2021-12-12T09:12:47.518Z"
   },
   {
    "duration": 7,
    "start_time": "2021-12-12T09:12:47.525Z"
   },
   {
    "duration": 8,
    "start_time": "2021-12-12T09:12:47.534Z"
   },
   {
    "duration": 7,
    "start_time": "2021-12-12T09:12:47.544Z"
   },
   {
    "duration": 290,
    "start_time": "2021-12-12T09:12:47.554Z"
   },
   {
    "duration": 5,
    "start_time": "2021-12-12T09:12:47.847Z"
   },
   {
    "duration": 6,
    "start_time": "2021-12-12T09:12:47.855Z"
   },
   {
    "duration": 470,
    "start_time": "2021-12-12T09:12:47.863Z"
   },
   {
    "duration": 299,
    "start_time": "2021-12-12T09:13:37.191Z"
   },
   {
    "duration": 35,
    "start_time": "2021-12-12T09:13:46.863Z"
   },
   {
    "duration": 52,
    "start_time": "2021-12-12T09:15:38.765Z"
   },
   {
    "duration": 34,
    "start_time": "2021-12-12T09:17:30.998Z"
   },
   {
    "duration": 4,
    "start_time": "2021-12-12T09:17:35.365Z"
   },
   {
    "duration": 33,
    "start_time": "2021-12-12T09:17:37.474Z"
   },
   {
    "duration": 1601,
    "start_time": "2021-12-12T09:17:45.222Z"
   },
   {
    "duration": 1327,
    "start_time": "2021-12-12T09:17:46.826Z"
   },
   {
    "duration": 6,
    "start_time": "2021-12-12T09:17:48.157Z"
   },
   {
    "duration": 275,
    "start_time": "2021-12-12T09:17:48.165Z"
   },
   {
    "duration": 988,
    "start_time": "2021-12-12T09:17:48.442Z"
   },
   {
    "duration": 96,
    "start_time": "2021-12-12T09:17:49.433Z"
   },
   {
    "duration": 46,
    "start_time": "2021-12-12T09:17:49.531Z"
   },
   {
    "duration": 268,
    "start_time": "2021-12-12T09:17:49.581Z"
   },
   {
    "duration": 85,
    "start_time": "2021-12-12T09:17:49.852Z"
   },
   {
    "duration": 7,
    "start_time": "2021-12-12T09:17:49.939Z"
   },
   {
    "duration": 11,
    "start_time": "2021-12-12T09:17:49.948Z"
   },
   {
    "duration": 8,
    "start_time": "2021-12-12T09:17:49.961Z"
   },
   {
    "duration": 12,
    "start_time": "2021-12-12T09:17:49.972Z"
   },
   {
    "duration": 6,
    "start_time": "2021-12-12T09:17:50.018Z"
   },
   {
    "duration": 291,
    "start_time": "2021-12-12T09:17:50.027Z"
   },
   {
    "duration": 6,
    "start_time": "2021-12-12T09:17:50.322Z"
   },
   {
    "duration": 9,
    "start_time": "2021-12-12T09:17:50.331Z"
   },
   {
    "duration": 34,
    "start_time": "2021-12-12T09:17:50.342Z"
   },
   {
    "duration": 13,
    "start_time": "2021-12-12T09:20:25.386Z"
   },
   {
    "duration": 1457,
    "start_time": "2021-12-12T13:25:54.512Z"
   },
   {
    "duration": 1030,
    "start_time": "2021-12-12T13:25:55.971Z"
   },
   {
    "duration": 9,
    "start_time": "2021-12-12T13:25:57.007Z"
   },
   {
    "duration": 7,
    "start_time": "2021-12-12T13:25:57.018Z"
   },
   {
    "duration": 13,
    "start_time": "2021-12-12T13:25:57.027Z"
   },
   {
    "duration": 27,
    "start_time": "2021-12-12T13:25:57.042Z"
   },
   {
    "duration": 10,
    "start_time": "2021-12-12T13:25:57.072Z"
   },
   {
    "duration": 296,
    "start_time": "2021-12-12T13:25:57.086Z"
   },
   {
    "duration": 7,
    "start_time": "2021-12-12T13:25:57.384Z"
   },
   {
    "duration": 6,
    "start_time": "2021-12-12T13:25:57.394Z"
   },
   {
    "duration": 69,
    "start_time": "2021-12-12T13:25:57.402Z"
   },
   {
    "duration": 12,
    "start_time": "2021-12-12T13:25:57.474Z"
   },
   {
    "duration": 5,
    "start_time": "2021-12-12T13:25:57.489Z"
   },
   {
    "duration": 279,
    "start_time": "2021-12-12T13:25:57.496Z"
   },
   {
    "duration": 945,
    "start_time": "2021-12-12T13:25:57.778Z"
   },
   {
    "duration": 99,
    "start_time": "2021-12-12T13:25:58.727Z"
   },
   {
    "duration": 70,
    "start_time": "2021-12-12T13:25:58.828Z"
   },
   {
    "duration": 261,
    "start_time": "2021-12-12T13:25:58.900Z"
   },
   {
    "duration": 105,
    "start_time": "2021-12-12T13:25:59.164Z"
   },
   {
    "duration": 355,
    "start_time": "2021-12-12T13:27:10.948Z"
   },
   {
    "duration": 1599,
    "start_time": "2021-12-12T13:27:43.471Z"
   },
   {
    "duration": 940,
    "start_time": "2021-12-12T13:27:45.073Z"
   },
   {
    "duration": 10,
    "start_time": "2021-12-12T13:27:46.019Z"
   },
   {
    "duration": 40,
    "start_time": "2021-12-12T13:27:46.031Z"
   },
   {
    "duration": 32,
    "start_time": "2021-12-12T13:27:46.074Z"
   },
   {
    "duration": 20,
    "start_time": "2021-12-12T13:27:46.109Z"
   },
   {
    "duration": 25,
    "start_time": "2021-12-12T13:27:46.133Z"
   },
   {
    "duration": 417,
    "start_time": "2021-12-12T13:27:46.161Z"
   },
   {
    "duration": 9,
    "start_time": "2021-12-12T13:27:46.580Z"
   },
   {
    "duration": 52,
    "start_time": "2021-12-12T13:27:46.593Z"
   },
   {
    "duration": 59,
    "start_time": "2021-12-12T13:27:46.648Z"
   },
   {
    "duration": 12,
    "start_time": "2021-12-12T13:27:46.709Z"
   },
   {
    "duration": 34,
    "start_time": "2021-12-12T13:27:46.724Z"
   },
   {
    "duration": 277,
    "start_time": "2021-12-12T13:27:46.760Z"
   },
   {
    "duration": 718,
    "start_time": "2021-12-12T13:27:47.040Z"
   },
   {
    "duration": 100,
    "start_time": "2021-12-12T13:27:47.767Z"
   },
   {
    "duration": 50,
    "start_time": "2021-12-12T13:27:47.870Z"
   },
   {
    "duration": 321,
    "start_time": "2021-12-12T13:27:47.922Z"
   },
   {
    "duration": 131,
    "start_time": "2021-12-12T13:27:48.247Z"
   },
   {
    "duration": 539,
    "start_time": "2021-12-13T08:55:08.502Z"
   },
   {
    "duration": 337,
    "start_time": "2021-12-13T08:55:58.525Z"
   },
   {
    "duration": 1582,
    "start_time": "2021-12-13T08:56:12.744Z"
   },
   {
    "duration": 953,
    "start_time": "2021-12-13T08:56:14.330Z"
   },
   {
    "duration": 10,
    "start_time": "2021-12-13T08:56:15.287Z"
   },
   {
    "duration": 22,
    "start_time": "2021-12-13T08:56:15.300Z"
   },
   {
    "duration": 15,
    "start_time": "2021-12-13T08:56:15.330Z"
   },
   {
    "duration": 7,
    "start_time": "2021-12-13T08:56:15.348Z"
   },
   {
    "duration": 9,
    "start_time": "2021-12-13T08:56:15.357Z"
   },
   {
    "duration": 404,
    "start_time": "2021-12-13T08:56:15.369Z"
   },
   {
    "duration": 7,
    "start_time": "2021-12-13T08:56:15.777Z"
   },
   {
    "duration": 35,
    "start_time": "2021-12-13T08:56:15.788Z"
   },
   {
    "duration": 53,
    "start_time": "2021-12-13T08:56:15.829Z"
   },
   {
    "duration": 34,
    "start_time": "2021-12-13T08:56:15.886Z"
   },
   {
    "duration": 6,
    "start_time": "2021-12-13T08:56:15.927Z"
   },
   {
    "duration": 253,
    "start_time": "2021-12-13T08:56:15.936Z"
   },
   {
    "duration": 774,
    "start_time": "2021-12-13T08:56:16.191Z"
   },
   {
    "duration": 110,
    "start_time": "2021-12-13T08:56:16.968Z"
   },
   {
    "duration": 71,
    "start_time": "2021-12-13T08:56:17.081Z"
   },
   {
    "duration": 492,
    "start_time": "2021-12-13T08:56:17.155Z"
   },
   {
    "duration": 299,
    "start_time": "2021-12-13T08:58:08.179Z"
   },
   {
    "duration": 341,
    "start_time": "2021-12-13T08:59:38.943Z"
   },
   {
    "duration": 8904,
    "start_time": "2021-12-13T09:00:12.532Z"
   },
   {
    "duration": 9466,
    "start_time": "2021-12-13T09:00:38.116Z"
   },
   {
    "duration": 1469,
    "start_time": "2021-12-13T10:11:03.848Z"
   },
   {
    "duration": 924,
    "start_time": "2021-12-13T10:11:05.320Z"
   },
   {
    "duration": 8,
    "start_time": "2021-12-13T10:11:06.247Z"
   },
   {
    "duration": 10,
    "start_time": "2021-12-13T10:11:06.258Z"
   },
   {
    "duration": 29,
    "start_time": "2021-12-13T10:11:06.270Z"
   },
   {
    "duration": 6,
    "start_time": "2021-12-13T10:11:06.302Z"
   },
   {
    "duration": 15,
    "start_time": "2021-12-13T10:11:06.310Z"
   },
   {
    "duration": 400,
    "start_time": "2021-12-13T10:11:06.333Z"
   },
   {
    "duration": 5,
    "start_time": "2021-12-13T10:11:06.736Z"
   },
   {
    "duration": 10,
    "start_time": "2021-12-13T10:11:06.744Z"
   },
   {
    "duration": 37,
    "start_time": "2021-12-13T10:11:06.756Z"
   },
   {
    "duration": 16,
    "start_time": "2021-12-13T10:11:06.816Z"
   },
   {
    "duration": 4,
    "start_time": "2021-12-13T10:11:06.835Z"
   },
   {
    "duration": 263,
    "start_time": "2021-12-13T10:11:06.842Z"
   },
   {
    "duration": 773,
    "start_time": "2021-12-13T10:11:07.107Z"
   },
   {
    "duration": 89,
    "start_time": "2021-12-13T10:11:07.882Z"
   },
   {
    "duration": 66,
    "start_time": "2021-12-13T10:11:07.974Z"
   },
   {
    "duration": 8005,
    "start_time": "2021-12-13T10:11:08.042Z"
   },
   {
    "duration": 420,
    "start_time": "2021-12-13T10:11:36.220Z"
   },
   {
    "duration": 414,
    "start_time": "2021-12-13T10:11:47.444Z"
   },
   {
    "duration": 339,
    "start_time": "2021-12-13T10:11:59.231Z"
   },
   {
    "duration": 93,
    "start_time": "2021-12-13T10:15:32.885Z"
   },
   {
    "duration": 105,
    "start_time": "2021-12-13T10:15:44.830Z"
   },
   {
    "duration": 348,
    "start_time": "2021-12-13T10:16:04.315Z"
   },
   {
    "duration": 406,
    "start_time": "2021-12-13T10:21:06.245Z"
   },
   {
    "duration": 9,
    "start_time": "2021-12-13T10:21:21.926Z"
   },
   {
    "duration": 29,
    "start_time": "2021-12-13T10:21:38.714Z"
   },
   {
    "duration": 30,
    "start_time": "2021-12-13T10:21:52.212Z"
   },
   {
    "duration": 101,
    "start_time": "2021-12-13T10:22:08.487Z"
   },
   {
    "duration": 39,
    "start_time": "2021-12-13T10:22:19.477Z"
   },
   {
    "duration": 1504,
    "start_time": "2021-12-13T10:22:54.109Z"
   },
   {
    "duration": 944,
    "start_time": "2021-12-13T10:22:55.617Z"
   },
   {
    "duration": 10,
    "start_time": "2021-12-13T10:22:56.564Z"
   },
   {
    "duration": 14,
    "start_time": "2021-12-13T10:22:56.577Z"
   },
   {
    "duration": 27,
    "start_time": "2021-12-13T10:22:56.593Z"
   },
   {
    "duration": 7,
    "start_time": "2021-12-13T10:22:56.624Z"
   },
   {
    "duration": 14,
    "start_time": "2021-12-13T10:22:56.634Z"
   },
   {
    "duration": 397,
    "start_time": "2021-12-13T10:22:56.652Z"
   },
   {
    "duration": 6,
    "start_time": "2021-12-13T10:22:57.051Z"
   },
   {
    "duration": 6,
    "start_time": "2021-12-13T10:22:57.060Z"
   },
   {
    "duration": 77,
    "start_time": "2021-12-13T10:22:57.069Z"
   },
   {
    "duration": 10,
    "start_time": "2021-12-13T10:22:57.148Z"
   },
   {
    "duration": 9,
    "start_time": "2021-12-13T10:22:57.162Z"
   },
   {
    "duration": 278,
    "start_time": "2021-12-13T10:22:57.173Z"
   },
   {
    "duration": 1105,
    "start_time": "2021-12-13T10:22:57.454Z"
   },
   {
    "duration": 107,
    "start_time": "2021-12-13T10:22:58.562Z"
   },
   {
    "duration": 85,
    "start_time": "2021-12-13T10:22:58.672Z"
   },
   {
    "duration": 8,
    "start_time": "2021-12-13T10:22:58.759Z"
   },
   {
    "duration": 58,
    "start_time": "2021-12-13T10:22:58.770Z"
   },
   {
    "duration": 443,
    "start_time": "2021-12-13T10:28:32.232Z"
   },
   {
    "duration": 1369,
    "start_time": "2021-12-13T10:28:44.860Z"
   },
   {
    "duration": 941,
    "start_time": "2021-12-13T10:28:46.232Z"
   },
   {
    "duration": 10,
    "start_time": "2021-12-13T10:28:47.176Z"
   },
   {
    "duration": 9,
    "start_time": "2021-12-13T10:28:47.189Z"
   },
   {
    "duration": 26,
    "start_time": "2021-12-13T10:28:47.201Z"
   },
   {
    "duration": 9,
    "start_time": "2021-12-13T10:28:47.229Z"
   },
   {
    "duration": 11,
    "start_time": "2021-12-13T10:28:47.240Z"
   },
   {
    "duration": 400,
    "start_time": "2021-12-13T10:28:47.256Z"
   },
   {
    "duration": 6,
    "start_time": "2021-12-13T10:28:47.659Z"
   },
   {
    "duration": 6,
    "start_time": "2021-12-13T10:28:47.667Z"
   },
   {
    "duration": 71,
    "start_time": "2021-12-13T10:28:47.675Z"
   },
   {
    "duration": 12,
    "start_time": "2021-12-13T10:28:47.748Z"
   },
   {
    "duration": 5,
    "start_time": "2021-12-13T10:28:47.762Z"
   },
   {
    "duration": 278,
    "start_time": "2021-12-13T10:28:47.769Z"
   },
   {
    "duration": 749,
    "start_time": "2021-12-13T10:28:48.049Z"
   },
   {
    "duration": 94,
    "start_time": "2021-12-13T10:28:48.801Z"
   },
   {
    "duration": 66,
    "start_time": "2021-12-13T10:28:48.898Z"
   },
   {
    "duration": 8,
    "start_time": "2021-12-13T10:28:48.968Z"
   },
   {
    "duration": 71,
    "start_time": "2021-12-13T10:28:48.979Z"
   },
   {
    "duration": 458,
    "start_time": "2021-12-13T10:28:49.053Z"
   },
   {
    "duration": 544,
    "start_time": "2021-12-13T10:31:18.514Z"
   },
   {
    "duration": 329,
    "start_time": "2021-12-13T10:31:40.520Z"
   },
   {
    "duration": 313,
    "start_time": "2021-12-13T10:32:03.398Z"
   },
   {
    "duration": 336,
    "start_time": "2021-12-13T10:36:00.373Z"
   },
   {
    "duration": 346,
    "start_time": "2021-12-13T10:36:11.940Z"
   },
   {
    "duration": 437,
    "start_time": "2021-12-13T10:36:19.576Z"
   },
   {
    "duration": 47,
    "start_time": "2021-12-13T10:37:27.763Z"
   },
   {
    "duration": 1092,
    "start_time": "2021-12-13T19:47:58.891Z"
   },
   {
    "duration": 703,
    "start_time": "2021-12-13T19:47:59.985Z"
   },
   {
    "duration": 6,
    "start_time": "2021-12-13T19:48:00.690Z"
   },
   {
    "duration": 12,
    "start_time": "2021-12-13T19:48:00.698Z"
   },
   {
    "duration": 29,
    "start_time": "2021-12-13T19:48:00.712Z"
   },
   {
    "duration": 14,
    "start_time": "2021-12-13T19:48:00.743Z"
   },
   {
    "duration": 185,
    "start_time": "2021-12-13T19:48:00.759Z"
   },
   {
    "duration": 5,
    "start_time": "2021-12-13T19:48:00.945Z"
   },
   {
    "duration": 198,
    "start_time": "2021-12-13T19:48:00.952Z"
   },
   {
    "duration": 5,
    "start_time": "2021-12-13T19:48:01.152Z"
   },
   {
    "duration": 15,
    "start_time": "2021-12-13T19:48:01.162Z"
   },
   {
    "duration": 68,
    "start_time": "2021-12-13T19:48:01.179Z"
   },
   {
    "duration": 19,
    "start_time": "2021-12-13T19:48:01.249Z"
   },
   {
    "duration": 28,
    "start_time": "2021-12-13T19:48:01.270Z"
   },
   {
    "duration": 186,
    "start_time": "2021-12-13T19:48:01.300Z"
   },
   {
    "duration": 512,
    "start_time": "2021-12-13T19:48:01.488Z"
   },
   {
    "duration": 46,
    "start_time": "2021-12-13T19:48:02.002Z"
   },
   {
    "duration": 28,
    "start_time": "2021-12-13T19:48:02.064Z"
   },
   {
    "duration": 350,
    "start_time": "2021-12-13T19:48:02.094Z"
   },
   {
    "duration": 773,
    "start_time": "2021-12-13T19:48:01.673Z"
   },
   {
    "duration": 771,
    "start_time": "2021-12-13T19:48:01.677Z"
   },
   {
    "duration": 6,
    "start_time": "2021-12-13T19:48:21.651Z"
   },
   {
    "duration": 27,
    "start_time": "2021-12-13T19:48:22.713Z"
   },
   {
    "duration": 17,
    "start_time": "2021-12-13T19:50:15.431Z"
   },
   {
    "duration": 1057,
    "start_time": "2021-12-13T19:50:22.403Z"
   },
   {
    "duration": 653,
    "start_time": "2021-12-13T19:50:23.461Z"
   },
   {
    "duration": 6,
    "start_time": "2021-12-13T19:50:24.116Z"
   },
   {
    "duration": 22,
    "start_time": "2021-12-13T19:50:24.124Z"
   },
   {
    "duration": 39,
    "start_time": "2021-12-13T19:50:24.147Z"
   },
   {
    "duration": 19,
    "start_time": "2021-12-13T19:50:24.187Z"
   },
   {
    "duration": 196,
    "start_time": "2021-12-13T19:50:24.207Z"
   },
   {
    "duration": 4,
    "start_time": "2021-12-13T19:50:24.405Z"
   },
   {
    "duration": 196,
    "start_time": "2021-12-13T19:50:24.411Z"
   },
   {
    "duration": 4,
    "start_time": "2021-12-13T19:50:24.608Z"
   },
   {
    "duration": 15,
    "start_time": "2021-12-13T19:50:24.614Z"
   },
   {
    "duration": 50,
    "start_time": "2021-12-13T19:50:24.630Z"
   },
   {
    "duration": 17,
    "start_time": "2021-12-13T19:50:24.682Z"
   },
   {
    "duration": 26,
    "start_time": "2021-12-13T19:50:24.700Z"
   },
   {
    "duration": 163,
    "start_time": "2021-12-13T19:50:24.728Z"
   },
   {
    "duration": 460,
    "start_time": "2021-12-13T19:50:24.893Z"
   },
   {
    "duration": 43,
    "start_time": "2021-12-13T19:50:25.355Z"
   },
   {
    "duration": 25,
    "start_time": "2021-12-13T19:50:25.399Z"
   },
   {
    "duration": 5,
    "start_time": "2021-12-13T19:50:25.426Z"
   },
   {
    "duration": 51,
    "start_time": "2021-12-13T19:50:25.432Z"
   },
   {
    "duration": 27,
    "start_time": "2021-12-13T19:50:25.484Z"
   },
   {
    "duration": 14,
    "start_time": "2021-12-13T19:50:25.513Z"
   },
   {
    "duration": 27,
    "start_time": "2021-12-13T19:51:50.806Z"
   },
   {
    "duration": 327,
    "start_time": "2021-12-13T19:54:02.335Z"
   },
   {
    "duration": 13,
    "start_time": "2021-12-13T19:54:14.631Z"
   },
   {
    "duration": 29,
    "start_time": "2021-12-13T19:54:15.982Z"
   },
   {
    "duration": 19,
    "start_time": "2021-12-13T20:02:23.031Z"
   },
   {
    "duration": 19,
    "start_time": "2021-12-13T20:02:30.130Z"
   },
   {
    "duration": 43,
    "start_time": "2021-12-13T20:08:39.326Z"
   },
   {
    "duration": 4,
    "start_time": "2021-12-13T20:09:35.470Z"
   },
   {
    "duration": 1122,
    "start_time": "2021-12-13T20:09:46.154Z"
   },
   {
    "duration": 684,
    "start_time": "2021-12-13T20:09:47.278Z"
   },
   {
    "duration": 6,
    "start_time": "2021-12-13T20:09:47.964Z"
   },
   {
    "duration": 8,
    "start_time": "2021-12-13T20:09:47.972Z"
   },
   {
    "duration": 7,
    "start_time": "2021-12-13T20:09:47.982Z"
   },
   {
    "duration": 4,
    "start_time": "2021-12-13T20:09:47.991Z"
   },
   {
    "duration": 199,
    "start_time": "2021-12-13T20:09:47.997Z"
   },
   {
    "duration": 5,
    "start_time": "2021-12-13T20:09:48.197Z"
   },
   {
    "duration": 190,
    "start_time": "2021-12-13T20:09:48.204Z"
   },
   {
    "duration": 4,
    "start_time": "2021-12-13T20:09:48.396Z"
   },
   {
    "duration": 5,
    "start_time": "2021-12-13T20:09:48.402Z"
   },
   {
    "duration": 26,
    "start_time": "2021-12-13T20:09:48.409Z"
   },
   {
    "duration": 34,
    "start_time": "2021-12-13T20:09:48.437Z"
   },
   {
    "duration": 7,
    "start_time": "2021-12-13T20:09:48.473Z"
   },
   {
    "duration": 155,
    "start_time": "2021-12-13T20:09:48.482Z"
   },
   {
    "duration": 475,
    "start_time": "2021-12-13T20:09:48.639Z"
   },
   {
    "duration": 58,
    "start_time": "2021-12-13T20:09:49.116Z"
   },
   {
    "duration": 30,
    "start_time": "2021-12-13T20:09:49.176Z"
   },
   {
    "duration": 6,
    "start_time": "2021-12-13T20:09:49.208Z"
   },
   {
    "duration": 21,
    "start_time": "2021-12-13T20:09:49.216Z"
   },
   {
    "duration": 42,
    "start_time": "2021-12-13T20:09:49.239Z"
   },
   {
    "duration": 3,
    "start_time": "2021-12-13T20:09:49.283Z"
   },
   {
    "duration": 20,
    "start_time": "2021-12-13T20:09:49.288Z"
   },
   {
    "duration": 29,
    "start_time": "2021-12-13T20:09:49.309Z"
   },
   {
    "duration": 59,
    "start_time": "2021-12-13T20:09:49.339Z"
   },
   {
    "duration": 321,
    "start_time": "2021-12-13T20:13:02.686Z"
   },
   {
    "duration": 22,
    "start_time": "2021-12-13T20:14:49.900Z"
   },
   {
    "duration": 114,
    "start_time": "2021-12-13T21:45:54.799Z"
   },
   {
    "duration": 1403,
    "start_time": "2021-12-13T21:46:02.797Z"
   },
   {
    "duration": 821,
    "start_time": "2021-12-13T21:46:04.203Z"
   },
   {
    "duration": 10,
    "start_time": "2021-12-13T21:46:05.027Z"
   },
   {
    "duration": 5,
    "start_time": "2021-12-13T21:46:05.041Z"
   },
   {
    "duration": 15,
    "start_time": "2021-12-13T21:46:05.049Z"
   },
   {
    "duration": 7,
    "start_time": "2021-12-13T21:46:05.066Z"
   },
   {
    "duration": 379,
    "start_time": "2021-12-13T21:46:05.076Z"
   },
   {
    "duration": 7,
    "start_time": "2021-12-13T21:46:05.458Z"
   },
   {
    "duration": 305,
    "start_time": "2021-12-13T21:46:05.471Z"
   },
   {
    "duration": 5,
    "start_time": "2021-12-13T21:46:05.779Z"
   },
   {
    "duration": 16,
    "start_time": "2021-12-13T21:46:05.786Z"
   },
   {
    "duration": 47,
    "start_time": "2021-12-13T21:46:05.804Z"
   },
   {
    "duration": 10,
    "start_time": "2021-12-13T21:46:05.853Z"
   },
   {
    "duration": 8,
    "start_time": "2021-12-13T21:46:05.865Z"
   },
   {
    "duration": 242,
    "start_time": "2021-12-13T21:46:05.875Z"
   },
   {
    "duration": 646,
    "start_time": "2021-12-13T21:46:06.120Z"
   },
   {
    "duration": 82,
    "start_time": "2021-12-13T21:46:06.769Z"
   },
   {
    "duration": 45,
    "start_time": "2021-12-13T21:46:06.854Z"
   },
   {
    "duration": 25,
    "start_time": "2021-12-13T21:46:06.901Z"
   },
   {
    "duration": 48,
    "start_time": "2021-12-13T21:46:06.928Z"
   },
   {
    "duration": 23,
    "start_time": "2021-12-13T21:46:06.978Z"
   },
   {
    "duration": 5,
    "start_time": "2021-12-13T21:46:07.003Z"
   },
   {
    "duration": 14,
    "start_time": "2021-12-13T21:46:07.023Z"
   },
   {
    "duration": 47,
    "start_time": "2021-12-13T21:46:07.039Z"
   },
   {
    "duration": 92,
    "start_time": "2021-12-13T21:46:07.088Z"
   },
   {
    "duration": 87,
    "start_time": "2021-12-13T21:46:07.183Z"
   },
   {
    "duration": 6,
    "start_time": "2021-12-13T21:47:11.492Z"
   },
   {
    "duration": 815,
    "start_time": "2021-12-13T21:48:19.511Z"
   },
   {
    "duration": 585,
    "start_time": "2021-12-13T21:54:47.432Z"
   },
   {
    "duration": 464,
    "start_time": "2021-12-13T21:59:31.604Z"
   },
   {
    "duration": 651,
    "start_time": "2021-12-13T21:59:58.498Z"
   },
   {
    "duration": 8972,
    "start_time": "2021-12-13T22:00:09.726Z"
   },
   {
    "duration": 9283,
    "start_time": "2021-12-13T22:08:47.147Z"
   },
   {
    "duration": 1317,
    "start_time": "2021-12-13T22:09:44.732Z"
   },
   {
    "duration": 845,
    "start_time": "2021-12-13T22:09:46.052Z"
   },
   {
    "duration": 9,
    "start_time": "2021-12-13T22:09:46.900Z"
   },
   {
    "duration": 4,
    "start_time": "2021-12-13T22:09:46.923Z"
   },
   {
    "duration": 31,
    "start_time": "2021-12-13T22:09:46.929Z"
   },
   {
    "duration": 22,
    "start_time": "2021-12-13T22:09:46.962Z"
   },
   {
    "duration": 305,
    "start_time": "2021-12-13T22:09:46.986Z"
   },
   {
    "duration": 6,
    "start_time": "2021-12-13T22:09:47.293Z"
   },
   {
    "duration": 297,
    "start_time": "2021-12-13T22:09:47.303Z"
   },
   {
    "duration": 6,
    "start_time": "2021-12-13T22:09:47.604Z"
   },
   {
    "duration": 3,
    "start_time": "2021-12-13T22:09:47.624Z"
   },
   {
    "duration": 36,
    "start_time": "2021-12-13T22:09:47.629Z"
   },
   {
    "duration": 9,
    "start_time": "2021-12-13T22:09:47.667Z"
   },
   {
    "duration": 4,
    "start_time": "2021-12-13T22:09:47.679Z"
   },
   {
    "duration": 258,
    "start_time": "2021-12-13T22:09:47.685Z"
   },
   {
    "duration": 642,
    "start_time": "2021-12-13T22:09:47.945Z"
   },
   {
    "duration": 89,
    "start_time": "2021-12-13T22:09:48.589Z"
   },
   {
    "duration": 62,
    "start_time": "2021-12-13T22:09:48.680Z"
   },
   {
    "duration": 6,
    "start_time": "2021-12-13T22:09:48.745Z"
   },
   {
    "duration": 28,
    "start_time": "2021-12-13T22:09:48.754Z"
   },
   {
    "duration": 50,
    "start_time": "2021-12-13T22:09:48.785Z"
   },
   {
    "duration": 4,
    "start_time": "2021-12-13T22:09:48.838Z"
   },
   {
    "duration": 16,
    "start_time": "2021-12-13T22:09:48.845Z"
   },
   {
    "duration": 77,
    "start_time": "2021-12-13T22:09:48.863Z"
   },
   {
    "duration": 81,
    "start_time": "2021-12-13T22:09:48.942Z"
   },
   {
    "duration": 5,
    "start_time": "2021-12-13T22:09:49.026Z"
   },
   {
    "duration": 866,
    "start_time": "2021-12-13T22:09:49.036Z"
   },
   {
    "duration": 11123,
    "start_time": "2021-12-13T22:09:49.905Z"
   },
   {
    "duration": 844,
    "start_time": "2021-12-13T22:10:00.187Z"
   },
   {
    "duration": 10945,
    "start_time": "2021-12-13T22:10:59.668Z"
   },
   {
    "duration": 11274,
    "start_time": "2021-12-13T22:12:30.692Z"
   },
   {
    "duration": 573,
    "start_time": "2021-12-13T22:13:17.269Z"
   },
   {
    "duration": 472,
    "start_time": "2021-12-13T22:14:39.495Z"
   },
   {
    "duration": 312,
    "start_time": "2021-12-13T22:18:35.185Z"
   },
   {
    "duration": 391,
    "start_time": "2021-12-13T22:22:01.812Z"
   },
   {
    "duration": 346,
    "start_time": "2021-12-13T22:22:32.541Z"
   },
   {
    "duration": 286,
    "start_time": "2021-12-13T22:22:44.319Z"
   },
   {
    "duration": 469,
    "start_time": "2021-12-13T22:24:02.822Z"
   },
   {
    "duration": 416,
    "start_time": "2021-12-13T22:26:12.896Z"
   },
   {
    "duration": 338,
    "start_time": "2021-12-13T22:31:00.100Z"
   },
   {
    "duration": 104,
    "start_time": "2021-12-13T22:31:14.890Z"
   },
   {
    "duration": 328,
    "start_time": "2021-12-13T22:32:06.250Z"
   },
   {
    "duration": 286,
    "start_time": "2021-12-13T22:33:24.934Z"
   },
   {
    "duration": 266,
    "start_time": "2021-12-13T22:33:33.622Z"
   },
   {
    "duration": 355,
    "start_time": "2021-12-13T22:33:54.444Z"
   },
   {
    "duration": 573,
    "start_time": "2021-12-13T22:34:09.120Z"
   },
   {
    "duration": 384,
    "start_time": "2021-12-13T22:34:18.005Z"
   },
   {
    "duration": 396,
    "start_time": "2021-12-13T22:34:34.444Z"
   },
   {
    "duration": 415,
    "start_time": "2021-12-14T10:37:13.199Z"
   },
   {
    "duration": 1219,
    "start_time": "2021-12-14T10:37:19.516Z"
   },
   {
    "duration": 4567,
    "start_time": "2021-12-14T10:37:20.737Z"
   },
   {
    "duration": 7,
    "start_time": "2021-12-14T10:37:25.306Z"
   },
   {
    "duration": 4,
    "start_time": "2021-12-14T10:37:25.315Z"
   },
   {
    "duration": 9,
    "start_time": "2021-12-14T10:37:25.321Z"
   },
   {
    "duration": 4,
    "start_time": "2021-12-14T10:37:25.332Z"
   },
   {
    "duration": 207,
    "start_time": "2021-12-14T10:37:25.338Z"
   },
   {
    "duration": 5,
    "start_time": "2021-12-14T10:37:25.548Z"
   },
   {
    "duration": 199,
    "start_time": "2021-12-14T10:37:25.555Z"
   },
   {
    "duration": 5,
    "start_time": "2021-12-14T10:37:25.756Z"
   },
   {
    "duration": 4,
    "start_time": "2021-12-14T10:37:25.763Z"
   },
   {
    "duration": 42,
    "start_time": "2021-12-14T10:37:25.769Z"
   },
   {
    "duration": 9,
    "start_time": "2021-12-14T10:37:25.813Z"
   },
   {
    "duration": 5,
    "start_time": "2021-12-14T10:37:25.824Z"
   },
   {
    "duration": 168,
    "start_time": "2021-12-14T10:37:25.830Z"
   },
   {
    "duration": 615,
    "start_time": "2021-12-14T10:37:26.007Z"
   },
   {
    "duration": 50,
    "start_time": "2021-12-14T10:37:26.624Z"
   },
   {
    "duration": 54,
    "start_time": "2021-12-14T10:37:26.676Z"
   },
   {
    "duration": 6,
    "start_time": "2021-12-14T10:37:26.732Z"
   },
   {
    "duration": 18,
    "start_time": "2021-12-14T10:37:26.740Z"
   },
   {
    "duration": 17,
    "start_time": "2021-12-14T10:37:26.760Z"
   },
   {
    "duration": 27,
    "start_time": "2021-12-14T10:37:26.779Z"
   },
   {
    "duration": 15,
    "start_time": "2021-12-14T10:37:26.808Z"
   },
   {
    "duration": 30,
    "start_time": "2021-12-14T10:37:26.824Z"
   },
   {
    "duration": 65,
    "start_time": "2021-12-14T10:37:26.856Z"
   },
   {
    "duration": 4,
    "start_time": "2021-12-14T10:37:26.924Z"
   },
   {
    "duration": 280,
    "start_time": "2021-12-14T10:37:26.929Z"
   },
   {
    "duration": 4,
    "start_time": "2021-12-14T10:37:27.210Z"
   },
   {
    "duration": 318,
    "start_time": "2021-12-14T10:55:37.364Z"
   },
   {
    "duration": 265,
    "start_time": "2021-12-14T10:56:29.099Z"
   },
   {
    "duration": 2,
    "start_time": "2021-12-14T12:21:18.954Z"
   },
   {
    "duration": 1189,
    "start_time": "2021-12-14T12:50:02.036Z"
   },
   {
    "duration": 780,
    "start_time": "2021-12-14T12:50:03.227Z"
   },
   {
    "duration": 7,
    "start_time": "2021-12-14T12:50:04.009Z"
   },
   {
    "duration": 8,
    "start_time": "2021-12-14T12:50:04.018Z"
   },
   {
    "duration": 12,
    "start_time": "2021-12-14T12:50:04.027Z"
   },
   {
    "duration": 6,
    "start_time": "2021-12-14T12:50:04.041Z"
   },
   {
    "duration": 339,
    "start_time": "2021-12-14T12:50:04.049Z"
   },
   {
    "duration": 6,
    "start_time": "2021-12-14T12:50:04.392Z"
   },
   {
    "duration": 331,
    "start_time": "2021-12-14T12:50:04.407Z"
   },
   {
    "duration": 6,
    "start_time": "2021-12-14T12:50:04.740Z"
   },
   {
    "duration": 4,
    "start_time": "2021-12-14T12:50:04.749Z"
   },
   {
    "duration": 63,
    "start_time": "2021-12-14T12:50:04.756Z"
   },
   {
    "duration": 10,
    "start_time": "2021-12-14T12:50:04.821Z"
   },
   {
    "duration": 6,
    "start_time": "2021-12-14T12:50:04.833Z"
   },
   {
    "duration": 214,
    "start_time": "2021-12-14T12:50:04.841Z"
   },
   {
    "duration": 674,
    "start_time": "2021-12-14T12:50:05.057Z"
   },
   {
    "duration": 51,
    "start_time": "2021-12-14T12:50:05.734Z"
   },
   {
    "duration": 46,
    "start_time": "2021-12-14T12:50:05.787Z"
   },
   {
    "duration": 6,
    "start_time": "2021-12-14T12:50:05.835Z"
   },
   {
    "duration": 39,
    "start_time": "2021-12-14T12:50:05.843Z"
   },
   {
    "duration": 30,
    "start_time": "2021-12-14T12:50:05.884Z"
   },
   {
    "duration": 5,
    "start_time": "2021-12-14T12:50:05.917Z"
   },
   {
    "duration": 18,
    "start_time": "2021-12-14T12:50:05.927Z"
   },
   {
    "duration": 35,
    "start_time": "2021-12-14T12:50:05.947Z"
   },
   {
    "duration": 65,
    "start_time": "2021-12-14T12:50:05.983Z"
   },
   {
    "duration": 5,
    "start_time": "2021-12-14T12:50:06.050Z"
   },
   {
    "duration": 321,
    "start_time": "2021-12-14T12:50:06.058Z"
   },
   {
    "duration": 363,
    "start_time": "2021-12-14T12:50:06.381Z"
   },
   {
    "duration": 300,
    "start_time": "2021-12-14T12:50:06.746Z"
   },
   {
    "duration": 5,
    "start_time": "2021-12-14T13:10:07.806Z"
   },
   {
    "duration": 451,
    "start_time": "2021-12-14T13:11:09.315Z"
   },
   {
    "duration": 109,
    "start_time": "2021-12-14T13:12:44.778Z"
   },
   {
    "duration": 4,
    "start_time": "2021-12-14T13:12:51.402Z"
   },
   {
    "duration": 469,
    "start_time": "2021-12-14T13:12:56.778Z"
   },
   {
    "duration": 126,
    "start_time": "2021-12-14T13:13:45.838Z"
   },
   {
    "duration": 458,
    "start_time": "2021-12-14T13:13:45.508Z"
   },
   {
    "duration": 456,
    "start_time": "2021-12-14T13:13:45.511Z"
   },
   {
    "duration": 453,
    "start_time": "2021-12-14T13:13:45.515Z"
   },
   {
    "duration": 450,
    "start_time": "2021-12-14T13:13:45.519Z"
   },
   {
    "duration": 448,
    "start_time": "2021-12-14T13:13:45.522Z"
   },
   {
    "duration": 446,
    "start_time": "2021-12-14T13:13:45.526Z"
   },
   {
    "duration": 443,
    "start_time": "2021-12-14T13:13:45.529Z"
   },
   {
    "duration": 440,
    "start_time": "2021-12-14T13:13:45.533Z"
   },
   {
    "duration": 438,
    "start_time": "2021-12-14T13:13:45.536Z"
   },
   {
    "duration": 436,
    "start_time": "2021-12-14T13:13:45.539Z"
   },
   {
    "duration": 435,
    "start_time": "2021-12-14T13:13:45.541Z"
   },
   {
    "duration": 433,
    "start_time": "2021-12-14T13:13:45.544Z"
   },
   {
    "duration": 432,
    "start_time": "2021-12-14T13:13:45.546Z"
   },
   {
    "duration": 430,
    "start_time": "2021-12-14T13:13:45.549Z"
   },
   {
    "duration": 428,
    "start_time": "2021-12-14T13:13:45.552Z"
   },
   {
    "duration": 427,
    "start_time": "2021-12-14T13:13:45.555Z"
   },
   {
    "duration": 427,
    "start_time": "2021-12-14T13:13:45.556Z"
   },
   {
    "duration": 425,
    "start_time": "2021-12-14T13:13:45.559Z"
   },
   {
    "duration": 420,
    "start_time": "2021-12-14T13:13:45.565Z"
   },
   {
    "duration": 417,
    "start_time": "2021-12-14T13:13:45.569Z"
   },
   {
    "duration": 416,
    "start_time": "2021-12-14T13:13:45.570Z"
   },
   {
    "duration": 403,
    "start_time": "2021-12-14T13:13:45.584Z"
   },
   {
    "duration": 401,
    "start_time": "2021-12-14T13:13:45.587Z"
   },
   {
    "duration": 396,
    "start_time": "2021-12-14T13:13:45.593Z"
   },
   {
    "duration": 395,
    "start_time": "2021-12-14T13:13:45.595Z"
   },
   {
    "duration": 391,
    "start_time": "2021-12-14T13:13:45.600Z"
   },
   {
    "duration": 390,
    "start_time": "2021-12-14T13:13:45.602Z"
   },
   {
    "duration": 389,
    "start_time": "2021-12-14T13:13:45.604Z"
   },
   {
    "duration": 429,
    "start_time": "2021-12-14T13:13:46.022Z"
   },
   {
    "duration": 535,
    "start_time": "2021-12-14T13:13:45.918Z"
   },
   {
    "duration": 531,
    "start_time": "2021-12-14T13:13:45.923Z"
   },
   {
    "duration": 1103,
    "start_time": "2021-12-14T14:05:24.952Z"
   },
   {
    "duration": 696,
    "start_time": "2021-12-14T14:05:26.057Z"
   },
   {
    "duration": 6,
    "start_time": "2021-12-14T14:05:26.758Z"
   },
   {
    "duration": 6,
    "start_time": "2021-12-14T14:05:26.766Z"
   },
   {
    "duration": 6,
    "start_time": "2021-12-14T14:05:26.774Z"
   },
   {
    "duration": 5,
    "start_time": "2021-12-14T14:05:26.782Z"
   },
   {
    "duration": 197,
    "start_time": "2021-12-14T14:05:26.807Z"
   },
   {
    "duration": 4,
    "start_time": "2021-12-14T14:05:27.007Z"
   },
   {
    "duration": 189,
    "start_time": "2021-12-14T14:05:27.013Z"
   },
   {
    "duration": 5,
    "start_time": "2021-12-14T14:05:27.207Z"
   },
   {
    "duration": 10,
    "start_time": "2021-12-14T14:05:27.214Z"
   },
   {
    "duration": 26,
    "start_time": "2021-12-14T14:05:27.226Z"
   },
   {
    "duration": 14,
    "start_time": "2021-12-14T14:05:27.255Z"
   },
   {
    "duration": 34,
    "start_time": "2021-12-14T14:05:27.271Z"
   },
   {
    "duration": 151,
    "start_time": "2021-12-14T14:05:27.307Z"
   },
   {
    "duration": 575,
    "start_time": "2021-12-14T14:05:27.460Z"
   },
   {
    "duration": 49,
    "start_time": "2021-12-14T14:05:28.037Z"
   },
   {
    "duration": 61,
    "start_time": "2021-12-14T14:05:28.088Z"
   },
   {
    "duration": 7,
    "start_time": "2021-12-14T14:05:28.151Z"
   },
   {
    "duration": 29,
    "start_time": "2021-12-14T14:05:28.160Z"
   },
   {
    "duration": 35,
    "start_time": "2021-12-14T14:05:28.191Z"
   },
   {
    "duration": 4,
    "start_time": "2021-12-14T14:05:28.228Z"
   },
   {
    "duration": 18,
    "start_time": "2021-12-14T14:05:28.234Z"
   },
   {
    "duration": 73,
    "start_time": "2021-12-14T14:05:28.254Z"
   },
   {
    "duration": 43,
    "start_time": "2021-12-14T14:05:28.330Z"
   },
   {
    "duration": 4,
    "start_time": "2021-12-14T14:05:28.376Z"
   },
   {
    "duration": 281,
    "start_time": "2021-12-14T14:05:28.382Z"
   },
   {
    "duration": 321,
    "start_time": "2021-12-14T14:05:28.665Z"
   },
   {
    "duration": 268,
    "start_time": "2021-12-14T14:05:28.989Z"
   },
   {
    "duration": 7,
    "start_time": "2021-12-14T14:05:29.259Z"
   },
   {
    "duration": 433,
    "start_time": "2021-12-14T14:05:29.267Z"
   },
   {
    "duration": 540,
    "start_time": "2021-12-14T14:05:29.162Z"
   },
   {
    "duration": 181,
    "start_time": "2021-12-14T14:09:46.932Z"
   },
   {
    "duration": 386,
    "start_time": "2021-12-14T14:09:57.407Z"
   },
   {
    "duration": 165,
    "start_time": "2021-12-14T14:10:57.184Z"
   },
   {
    "duration": 387,
    "start_time": "2021-12-14T14:13:18.784Z"
   },
   {
    "duration": 198,
    "start_time": "2021-12-14T14:14:55.926Z"
   },
   {
    "duration": 1097,
    "start_time": "2021-12-14T14:17:57.851Z"
   },
   {
    "duration": 695,
    "start_time": "2021-12-14T14:17:58.950Z"
   },
   {
    "duration": 8,
    "start_time": "2021-12-14T14:17:59.647Z"
   },
   {
    "duration": 5,
    "start_time": "2021-12-14T14:17:59.657Z"
   },
   {
    "duration": 7,
    "start_time": "2021-12-14T14:17:59.664Z"
   },
   {
    "duration": 8,
    "start_time": "2021-12-14T14:17:59.673Z"
   },
   {
    "duration": 221,
    "start_time": "2021-12-14T14:17:59.683Z"
   },
   {
    "duration": 5,
    "start_time": "2021-12-14T14:17:59.908Z"
   },
   {
    "duration": 215,
    "start_time": "2021-12-14T14:17:59.915Z"
   },
   {
    "duration": 5,
    "start_time": "2021-12-14T14:18:00.132Z"
   },
   {
    "duration": 12,
    "start_time": "2021-12-14T14:18:00.139Z"
   },
   {
    "duration": 30,
    "start_time": "2021-12-14T14:18:00.153Z"
   },
   {
    "duration": 21,
    "start_time": "2021-12-14T14:18:00.185Z"
   },
   {
    "duration": 3,
    "start_time": "2021-12-14T14:18:00.208Z"
   },
   {
    "duration": 154,
    "start_time": "2021-12-14T14:18:00.213Z"
   },
   {
    "duration": 1080,
    "start_time": "2021-12-14T14:18:00.369Z"
   },
   {
    "duration": 71,
    "start_time": "2021-12-14T14:18:01.451Z"
   },
   {
    "duration": 30,
    "start_time": "2021-12-14T14:18:01.524Z"
   },
   {
    "duration": 7,
    "start_time": "2021-12-14T14:18:01.557Z"
   },
   {
    "duration": 48,
    "start_time": "2021-12-14T14:18:01.566Z"
   },
   {
    "duration": 25,
    "start_time": "2021-12-14T14:18:01.616Z"
   },
   {
    "duration": 4,
    "start_time": "2021-12-14T14:18:01.643Z"
   },
   {
    "duration": 18,
    "start_time": "2021-12-14T14:18:01.651Z"
   },
   {
    "duration": 48,
    "start_time": "2021-12-14T14:18:01.671Z"
   },
   {
    "duration": 39,
    "start_time": "2021-12-14T14:18:01.722Z"
   },
   {
    "duration": 4,
    "start_time": "2021-12-14T14:18:01.763Z"
   },
   {
    "duration": 277,
    "start_time": "2021-12-14T14:18:01.769Z"
   },
   {
    "duration": 336,
    "start_time": "2021-12-14T14:18:02.048Z"
   },
   {
    "duration": 271,
    "start_time": "2021-12-14T14:18:02.386Z"
   },
   {
    "duration": 5,
    "start_time": "2021-12-14T14:18:02.659Z"
   },
   {
    "duration": 192,
    "start_time": "2021-12-14T14:18:02.665Z"
   },
   {
    "duration": 4,
    "start_time": "2021-12-14T14:18:02.859Z"
   },
   {
    "duration": 1188,
    "start_time": "2021-12-14T14:19:36.670Z"
   },
   {
    "duration": 703,
    "start_time": "2021-12-14T14:19:37.860Z"
   },
   {
    "duration": 7,
    "start_time": "2021-12-14T14:19:38.565Z"
   },
   {
    "duration": 34,
    "start_time": "2021-12-14T14:19:38.574Z"
   },
   {
    "duration": 11,
    "start_time": "2021-12-14T14:19:38.610Z"
   },
   {
    "duration": 4,
    "start_time": "2021-12-14T14:19:38.623Z"
   },
   {
    "duration": 191,
    "start_time": "2021-12-14T14:19:38.628Z"
   },
   {
    "duration": 4,
    "start_time": "2021-12-14T14:19:38.821Z"
   },
   {
    "duration": 187,
    "start_time": "2021-12-14T14:19:38.827Z"
   },
   {
    "duration": 4,
    "start_time": "2021-12-14T14:19:39.016Z"
   },
   {
    "duration": 5,
    "start_time": "2021-12-14T14:19:39.021Z"
   },
   {
    "duration": 23,
    "start_time": "2021-12-14T14:19:39.028Z"
   },
   {
    "duration": 8,
    "start_time": "2021-12-14T14:19:39.053Z"
   },
   {
    "duration": 7,
    "start_time": "2021-12-14T14:19:39.062Z"
   },
   {
    "duration": 177,
    "start_time": "2021-12-14T14:19:39.071Z"
   },
   {
    "duration": 585,
    "start_time": "2021-12-14T14:19:39.250Z"
   },
   {
    "duration": 48,
    "start_time": "2021-12-14T14:19:39.837Z"
   },
   {
    "duration": 29,
    "start_time": "2021-12-14T14:19:39.906Z"
   },
   {
    "duration": 5,
    "start_time": "2021-12-14T14:19:39.937Z"
   },
   {
    "duration": 24,
    "start_time": "2021-12-14T14:19:39.943Z"
   },
   {
    "duration": 17,
    "start_time": "2021-12-14T14:19:39.969Z"
   },
   {
    "duration": 4,
    "start_time": "2021-12-14T14:19:40.007Z"
   },
   {
    "duration": 15,
    "start_time": "2021-12-14T14:19:40.014Z"
   },
   {
    "duration": 29,
    "start_time": "2021-12-14T14:19:40.031Z"
   },
   {
    "duration": 65,
    "start_time": "2021-12-14T14:19:40.061Z"
   },
   {
    "duration": 4,
    "start_time": "2021-12-14T14:19:40.128Z"
   },
   {
    "duration": 263,
    "start_time": "2021-12-14T14:19:40.133Z"
   },
   {
    "duration": 324,
    "start_time": "2021-12-14T14:19:40.398Z"
   },
   {
    "duration": 270,
    "start_time": "2021-12-14T14:19:40.724Z"
   },
   {
    "duration": 11,
    "start_time": "2021-12-14T14:19:40.996Z"
   },
   {
    "duration": 201,
    "start_time": "2021-12-14T14:19:41.009Z"
   },
   {
    "duration": 4,
    "start_time": "2021-12-14T14:19:41.212Z"
   },
   {
    "duration": 5,
    "start_time": "2021-12-14T14:20:19.673Z"
   },
   {
    "duration": 178,
    "start_time": "2021-12-14T14:21:02.774Z"
   },
   {
    "duration": 1219,
    "start_time": "2021-12-14T14:23:17.149Z"
   },
   {
    "duration": 781,
    "start_time": "2021-12-14T14:23:18.371Z"
   },
   {
    "duration": 6,
    "start_time": "2021-12-14T14:23:19.154Z"
   },
   {
    "duration": 4,
    "start_time": "2021-12-14T14:23:19.162Z"
   },
   {
    "duration": 9,
    "start_time": "2021-12-14T14:23:19.168Z"
   },
   {
    "duration": 4,
    "start_time": "2021-12-14T14:23:19.179Z"
   },
   {
    "duration": 223,
    "start_time": "2021-12-14T14:23:19.185Z"
   },
   {
    "duration": 4,
    "start_time": "2021-12-14T14:23:19.410Z"
   },
   {
    "duration": 205,
    "start_time": "2021-12-14T14:23:19.417Z"
   },
   {
    "duration": 5,
    "start_time": "2021-12-14T14:23:19.625Z"
   },
   {
    "duration": 6,
    "start_time": "2021-12-14T14:23:19.631Z"
   },
   {
    "duration": 24,
    "start_time": "2021-12-14T14:23:19.639Z"
   },
   {
    "duration": 10,
    "start_time": "2021-12-14T14:23:19.666Z"
   },
   {
    "duration": 4,
    "start_time": "2021-12-14T14:23:19.678Z"
   },
   {
    "duration": 154,
    "start_time": "2021-12-14T14:23:19.707Z"
   },
   {
    "duration": 625,
    "start_time": "2021-12-14T14:23:19.863Z"
   },
   {
    "duration": 56,
    "start_time": "2021-12-14T14:23:20.490Z"
   },
   {
    "duration": 34,
    "start_time": "2021-12-14T14:23:20.548Z"
   },
   {
    "duration": 27,
    "start_time": "2021-12-14T14:23:20.583Z"
   },
   {
    "duration": 20,
    "start_time": "2021-12-14T14:23:20.612Z"
   },
   {
    "duration": 20,
    "start_time": "2021-12-14T14:23:20.633Z"
   },
   {
    "duration": 3,
    "start_time": "2021-12-14T14:23:20.655Z"
   },
   {
    "duration": 16,
    "start_time": "2021-12-14T14:23:20.659Z"
   },
   {
    "duration": 60,
    "start_time": "2021-12-14T14:23:20.677Z"
   },
   {
    "duration": 43,
    "start_time": "2021-12-14T14:23:20.739Z"
   },
   {
    "duration": 26,
    "start_time": "2021-12-14T14:23:20.784Z"
   },
   {
    "duration": 280,
    "start_time": "2021-12-14T14:23:20.813Z"
   },
   {
    "duration": 339,
    "start_time": "2021-12-14T14:23:21.096Z"
   },
   {
    "duration": 280,
    "start_time": "2021-12-14T14:23:21.437Z"
   },
   {
    "duration": 5,
    "start_time": "2021-12-14T14:23:21.718Z"
   },
   {
    "duration": 185,
    "start_time": "2021-12-14T14:23:21.725Z"
   },
   {
    "duration": 5,
    "start_time": "2021-12-14T14:23:21.912Z"
   },
   {
    "duration": 196,
    "start_time": "2021-12-14T14:23:21.919Z"
   },
   {
    "duration": 3,
    "start_time": "2021-12-14T14:24:17.567Z"
   },
   {
    "duration": 1277,
    "start_time": "2021-12-14T14:24:29.402Z"
   },
   {
    "duration": 793,
    "start_time": "2021-12-14T14:24:30.681Z"
   },
   {
    "duration": 8,
    "start_time": "2021-12-14T14:24:31.479Z"
   },
   {
    "duration": 4,
    "start_time": "2021-12-14T14:24:31.506Z"
   },
   {
    "duration": 11,
    "start_time": "2021-12-14T14:24:31.512Z"
   },
   {
    "duration": 5,
    "start_time": "2021-12-14T14:24:31.525Z"
   },
   {
    "duration": 215,
    "start_time": "2021-12-14T14:24:31.533Z"
   },
   {
    "duration": 5,
    "start_time": "2021-12-14T14:24:31.750Z"
   },
   {
    "duration": 215,
    "start_time": "2021-12-14T14:24:31.756Z"
   },
   {
    "duration": 5,
    "start_time": "2021-12-14T14:24:31.972Z"
   },
   {
    "duration": 5,
    "start_time": "2021-12-14T14:24:31.979Z"
   },
   {
    "duration": 40,
    "start_time": "2021-12-14T14:24:31.985Z"
   },
   {
    "duration": 8,
    "start_time": "2021-12-14T14:24:32.027Z"
   },
   {
    "duration": 3,
    "start_time": "2021-12-14T14:24:32.037Z"
   },
   {
    "duration": 173,
    "start_time": "2021-12-14T14:24:32.042Z"
   },
   {
    "duration": 607,
    "start_time": "2021-12-14T14:24:32.217Z"
   },
   {
    "duration": 51,
    "start_time": "2021-12-14T14:24:32.826Z"
   },
   {
    "duration": 50,
    "start_time": "2021-12-14T14:24:32.879Z"
   },
   {
    "duration": 6,
    "start_time": "2021-12-14T14:24:32.931Z"
   },
   {
    "duration": 20,
    "start_time": "2021-12-14T14:24:32.939Z"
   },
   {
    "duration": 19,
    "start_time": "2021-12-14T14:24:32.961Z"
   },
   {
    "duration": 23,
    "start_time": "2021-12-14T14:24:32.984Z"
   },
   {
    "duration": 14,
    "start_time": "2021-12-14T14:24:33.009Z"
   },
   {
    "duration": 29,
    "start_time": "2021-12-14T14:24:33.024Z"
   },
   {
    "duration": 66,
    "start_time": "2021-12-14T14:24:33.054Z"
   },
   {
    "duration": 4,
    "start_time": "2021-12-14T14:24:33.122Z"
   },
   {
    "duration": 273,
    "start_time": "2021-12-14T14:24:33.127Z"
   },
   {
    "duration": 352,
    "start_time": "2021-12-14T14:24:33.406Z"
   },
   {
    "duration": 286,
    "start_time": "2021-12-14T14:24:33.760Z"
   },
   {
    "duration": 6,
    "start_time": "2021-12-14T14:24:34.049Z"
   },
   {
    "duration": 192,
    "start_time": "2021-12-14T14:24:34.056Z"
   },
   {
    "duration": 5,
    "start_time": "2021-12-14T14:24:34.249Z"
   },
   {
    "duration": 198,
    "start_time": "2021-12-14T14:24:34.256Z"
   },
   {
    "duration": 165,
    "start_time": "2021-12-14T14:30:01.594Z"
   },
   {
    "duration": 274,
    "start_time": "2021-12-14T14:32:30.298Z"
   },
   {
    "duration": 175,
    "start_time": "2021-12-14T14:32:43.270Z"
   },
   {
    "duration": 3,
    "start_time": "2021-12-14T14:32:46.635Z"
   },
   {
    "duration": 186,
    "start_time": "2021-12-14T14:32:49.645Z"
   },
   {
    "duration": 206,
    "start_time": "2021-12-14T14:32:58.583Z"
   },
   {
    "duration": 1185,
    "start_time": "2021-12-14T14:33:23.570Z"
   },
   {
    "duration": 733,
    "start_time": "2021-12-14T14:33:24.757Z"
   },
   {
    "duration": 16,
    "start_time": "2021-12-14T14:33:25.492Z"
   },
   {
    "duration": 4,
    "start_time": "2021-12-14T14:33:25.510Z"
   },
   {
    "duration": 6,
    "start_time": "2021-12-14T14:33:25.515Z"
   },
   {
    "duration": 5,
    "start_time": "2021-12-14T14:33:25.523Z"
   },
   {
    "duration": 5,
    "start_time": "2021-12-14T14:33:25.530Z"
   },
   {
    "duration": 236,
    "start_time": "2021-12-14T14:33:25.538Z"
   },
   {
    "duration": 5,
    "start_time": "2021-12-14T14:33:25.776Z"
   },
   {
    "duration": 5,
    "start_time": "2021-12-14T14:33:25.783Z"
   },
   {
    "duration": 25,
    "start_time": "2021-12-14T14:33:25.806Z"
   },
   {
    "duration": 8,
    "start_time": "2021-12-14T14:33:25.832Z"
   },
   {
    "duration": 21,
    "start_time": "2021-12-14T14:33:25.841Z"
   },
   {
    "duration": 156,
    "start_time": "2021-12-14T14:33:25.863Z"
   },
   {
    "duration": 610,
    "start_time": "2021-12-14T14:33:26.020Z"
   },
   {
    "duration": 48,
    "start_time": "2021-12-14T14:33:26.632Z"
   },
   {
    "duration": 40,
    "start_time": "2021-12-14T14:33:26.682Z"
   },
   {
    "duration": 5,
    "start_time": "2021-12-14T14:33:26.724Z"
   },
   {
    "duration": 19,
    "start_time": "2021-12-14T14:33:26.731Z"
   },
   {
    "duration": 20,
    "start_time": "2021-12-14T14:33:26.752Z"
   },
   {
    "duration": 3,
    "start_time": "2021-12-14T14:33:26.774Z"
   },
   {
    "duration": 12,
    "start_time": "2021-12-14T14:33:26.807Z"
   },
   {
    "duration": 28,
    "start_time": "2021-12-14T14:33:26.822Z"
   },
   {
    "duration": 57,
    "start_time": "2021-12-14T14:33:26.852Z"
   },
   {
    "duration": 4,
    "start_time": "2021-12-14T14:33:26.911Z"
   },
   {
    "duration": 261,
    "start_time": "2021-12-14T14:33:26.916Z"
   },
   {
    "duration": 256,
    "start_time": "2021-12-14T14:33:27.179Z"
   },
   {
    "duration": 340,
    "start_time": "2021-12-14T14:33:27.437Z"
   },
   {
    "duration": 5,
    "start_time": "2021-12-14T14:33:27.779Z"
   },
   {
    "duration": 192,
    "start_time": "2021-12-14T14:33:27.786Z"
   },
   {
    "duration": 5,
    "start_time": "2021-12-14T14:33:27.979Z"
   },
   {
    "duration": 183,
    "start_time": "2021-12-14T14:33:27.986Z"
   },
   {
    "duration": 112,
    "start_time": "2021-12-14T14:33:28.170Z"
   },
   {
    "duration": 1127,
    "start_time": "2021-12-14T18:10:24.198Z"
   },
   {
    "duration": 723,
    "start_time": "2021-12-14T18:10:25.327Z"
   },
   {
    "duration": 12,
    "start_time": "2021-12-14T18:10:26.052Z"
   },
   {
    "duration": 3,
    "start_time": "2021-12-14T18:10:26.066Z"
   },
   {
    "duration": 10,
    "start_time": "2021-12-14T18:10:26.070Z"
   },
   {
    "duration": 5,
    "start_time": "2021-12-14T18:10:26.082Z"
   },
   {
    "duration": 6,
    "start_time": "2021-12-14T18:10:26.089Z"
   },
   {
    "duration": 214,
    "start_time": "2021-12-14T18:10:26.099Z"
   },
   {
    "duration": 5,
    "start_time": "2021-12-14T18:10:26.315Z"
   },
   {
    "duration": 6,
    "start_time": "2021-12-14T18:10:26.321Z"
   },
   {
    "duration": 36,
    "start_time": "2021-12-14T18:10:26.328Z"
   },
   {
    "duration": 9,
    "start_time": "2021-12-14T18:10:26.366Z"
   },
   {
    "duration": 5,
    "start_time": "2021-12-14T18:10:26.377Z"
   },
   {
    "duration": 155,
    "start_time": "2021-12-14T18:10:26.384Z"
   },
   {
    "duration": 495,
    "start_time": "2021-12-14T18:10:26.540Z"
   },
   {
    "duration": 47,
    "start_time": "2021-12-14T18:10:27.038Z"
   },
   {
    "duration": 28,
    "start_time": "2021-12-14T18:10:27.087Z"
   },
   {
    "duration": 6,
    "start_time": "2021-12-14T18:10:27.117Z"
   },
   {
    "duration": 49,
    "start_time": "2021-12-14T18:10:27.125Z"
   },
   {
    "duration": 19,
    "start_time": "2021-12-14T18:10:27.176Z"
   },
   {
    "duration": 3,
    "start_time": "2021-12-14T18:10:27.197Z"
   },
   {
    "duration": 18,
    "start_time": "2021-12-14T18:10:27.202Z"
   },
   {
    "duration": 48,
    "start_time": "2021-12-14T18:10:27.223Z"
   },
   {
    "duration": 40,
    "start_time": "2021-12-14T18:10:27.273Z"
   },
   {
    "duration": 4,
    "start_time": "2021-12-14T18:10:27.315Z"
   },
   {
    "duration": 270,
    "start_time": "2021-12-14T18:10:27.321Z"
   },
   {
    "duration": 246,
    "start_time": "2021-12-14T18:10:27.592Z"
   },
   {
    "duration": 348,
    "start_time": "2021-12-14T18:10:27.839Z"
   },
   {
    "duration": 5,
    "start_time": "2021-12-14T18:10:28.188Z"
   },
   {
    "duration": 277,
    "start_time": "2021-12-14T18:10:28.195Z"
   },
   {
    "duration": 5,
    "start_time": "2021-12-14T18:10:28.474Z"
   },
   {
    "duration": 178,
    "start_time": "2021-12-14T18:10:28.481Z"
   },
   {
    "duration": 85,
    "start_time": "2021-12-14T18:10:28.663Z"
   },
   {
    "duration": 650,
    "start_time": "2021-12-14T18:10:28.100Z"
   },
   {
    "duration": 647,
    "start_time": "2021-12-14T18:10:28.105Z"
   },
   {
    "duration": 202,
    "start_time": "2021-12-14T18:13:34.061Z"
   },
   {
    "duration": 195,
    "start_time": "2021-12-14T18:14:59.092Z"
   },
   {
    "duration": 1126,
    "start_time": "2021-12-14T18:15:06.800Z"
   },
   {
    "duration": 771,
    "start_time": "2021-12-14T18:15:07.927Z"
   },
   {
    "duration": 6,
    "start_time": "2021-12-14T18:15:08.700Z"
   },
   {
    "duration": 6,
    "start_time": "2021-12-14T18:15:08.708Z"
   },
   {
    "duration": 10,
    "start_time": "2021-12-14T18:15:08.715Z"
   },
   {
    "duration": 4,
    "start_time": "2021-12-14T18:15:08.726Z"
   },
   {
    "duration": 6,
    "start_time": "2021-12-14T18:15:08.732Z"
   },
   {
    "duration": 205,
    "start_time": "2021-12-14T18:15:08.740Z"
   },
   {
    "duration": 4,
    "start_time": "2021-12-14T18:15:08.947Z"
   },
   {
    "duration": 3,
    "start_time": "2021-12-14T18:15:08.964Z"
   },
   {
    "duration": 24,
    "start_time": "2021-12-14T18:15:08.969Z"
   },
   {
    "duration": 11,
    "start_time": "2021-12-14T18:15:08.995Z"
   },
   {
    "duration": 4,
    "start_time": "2021-12-14T18:15:09.007Z"
   },
   {
    "duration": 170,
    "start_time": "2021-12-14T18:15:09.013Z"
   },
   {
    "duration": 509,
    "start_time": "2021-12-14T18:15:09.184Z"
   },
   {
    "duration": 47,
    "start_time": "2021-12-14T18:15:09.695Z"
   },
   {
    "duration": 50,
    "start_time": "2021-12-14T18:15:09.744Z"
   },
   {
    "duration": 6,
    "start_time": "2021-12-14T18:15:09.796Z"
   },
   {
    "duration": 21,
    "start_time": "2021-12-14T18:15:09.804Z"
   },
   {
    "duration": 45,
    "start_time": "2021-12-14T18:15:09.827Z"
   },
   {
    "duration": 3,
    "start_time": "2021-12-14T18:15:09.874Z"
   },
   {
    "duration": 17,
    "start_time": "2021-12-14T18:15:09.879Z"
   },
   {
    "duration": 28,
    "start_time": "2021-12-14T18:15:09.899Z"
   },
   {
    "duration": 64,
    "start_time": "2021-12-14T18:15:09.929Z"
   },
   {
    "duration": 4,
    "start_time": "2021-12-14T18:15:09.995Z"
   },
   {
    "duration": 267,
    "start_time": "2021-12-14T18:15:10.001Z"
   },
   {
    "duration": 242,
    "start_time": "2021-12-14T18:15:10.269Z"
   },
   {
    "duration": 335,
    "start_time": "2021-12-14T18:15:10.512Z"
   },
   {
    "duration": 4,
    "start_time": "2021-12-14T18:15:10.849Z"
   },
   {
    "duration": 200,
    "start_time": "2021-12-14T18:15:10.863Z"
   },
   {
    "duration": 5,
    "start_time": "2021-12-14T18:15:11.065Z"
   },
   {
    "duration": 211,
    "start_time": "2021-12-14T18:15:11.072Z"
   },
   {
    "duration": 80,
    "start_time": "2021-12-14T18:15:11.285Z"
   },
   {
    "duration": 649,
    "start_time": "2021-12-14T18:15:10.718Z"
   },
   {
    "duration": 649,
    "start_time": "2021-12-14T18:15:10.719Z"
   },
   {
    "duration": 183,
    "start_time": "2021-12-14T18:24:05.965Z"
   },
   {
    "duration": 1166,
    "start_time": "2021-12-14T18:24:38.151Z"
   },
   {
    "duration": 719,
    "start_time": "2021-12-14T18:24:39.319Z"
   },
   {
    "duration": 6,
    "start_time": "2021-12-14T18:24:40.041Z"
   },
   {
    "duration": 24,
    "start_time": "2021-12-14T18:24:40.048Z"
   },
   {
    "duration": 13,
    "start_time": "2021-12-14T18:24:40.073Z"
   },
   {
    "duration": 6,
    "start_time": "2021-12-14T18:24:40.088Z"
   },
   {
    "duration": 7,
    "start_time": "2021-12-14T18:24:40.095Z"
   },
   {
    "duration": 183,
    "start_time": "2021-12-14T18:24:40.104Z"
   },
   {
    "duration": 5,
    "start_time": "2021-12-14T18:24:40.289Z"
   },
   {
    "duration": 8,
    "start_time": "2021-12-14T18:24:40.296Z"
   },
   {
    "duration": 33,
    "start_time": "2021-12-14T18:24:40.305Z"
   },
   {
    "duration": 19,
    "start_time": "2021-12-14T18:24:40.340Z"
   },
   {
    "duration": 17,
    "start_time": "2021-12-14T18:24:40.361Z"
   },
   {
    "duration": 168,
    "start_time": "2021-12-14T18:24:40.379Z"
   },
   {
    "duration": 499,
    "start_time": "2021-12-14T18:24:40.549Z"
   },
   {
    "duration": 52,
    "start_time": "2021-12-14T18:24:41.051Z"
   },
   {
    "duration": 28,
    "start_time": "2021-12-14T18:24:41.104Z"
   },
   {
    "duration": 5,
    "start_time": "2021-12-14T18:24:41.134Z"
   },
   {
    "duration": 19,
    "start_time": "2021-12-14T18:24:41.163Z"
   },
   {
    "duration": 20,
    "start_time": "2021-12-14T18:24:41.184Z"
   },
   {
    "duration": 3,
    "start_time": "2021-12-14T18:24:41.206Z"
   },
   {
    "duration": 20,
    "start_time": "2021-12-14T18:24:41.210Z"
   },
   {
    "duration": 49,
    "start_time": "2021-12-14T18:24:41.232Z"
   },
   {
    "duration": 39,
    "start_time": "2021-12-14T18:24:41.283Z"
   },
   {
    "duration": 4,
    "start_time": "2021-12-14T18:24:41.324Z"
   },
   {
    "duration": 417,
    "start_time": "2021-12-14T18:24:41.330Z"
   },
   {
    "duration": 302,
    "start_time": "2021-12-14T18:24:41.751Z"
   },
   {
    "duration": 349,
    "start_time": "2021-12-14T18:24:42.063Z"
   },
   {
    "duration": 5,
    "start_time": "2021-12-14T18:24:42.414Z"
   },
   {
    "duration": 218,
    "start_time": "2021-12-14T18:24:42.421Z"
   },
   {
    "duration": 6,
    "start_time": "2021-12-14T18:24:42.640Z"
   },
   {
    "duration": 231,
    "start_time": "2021-12-14T18:24:42.648Z"
   },
   {
    "duration": 356,
    "start_time": "2021-12-14T18:24:42.881Z"
   },
   {
    "duration": 654,
    "start_time": "2021-12-14T18:24:42.585Z"
   },
   {
    "duration": 647,
    "start_time": "2021-12-14T18:24:42.593Z"
   },
   {
    "duration": 1109,
    "start_time": "2021-12-14T18:33:40.221Z"
   },
   {
    "duration": 738,
    "start_time": "2021-12-14T18:33:41.333Z"
   },
   {
    "duration": 8,
    "start_time": "2021-12-14T18:33:42.073Z"
   },
   {
    "duration": 20,
    "start_time": "2021-12-14T18:33:42.083Z"
   },
   {
    "duration": 23,
    "start_time": "2021-12-14T18:33:42.104Z"
   },
   {
    "duration": 22,
    "start_time": "2021-12-14T18:33:42.129Z"
   },
   {
    "duration": 13,
    "start_time": "2021-12-14T18:33:42.152Z"
   },
   {
    "duration": 203,
    "start_time": "2021-12-14T18:33:42.167Z"
   },
   {
    "duration": 4,
    "start_time": "2021-12-14T18:33:42.372Z"
   },
   {
    "duration": 7,
    "start_time": "2021-12-14T18:33:42.378Z"
   },
   {
    "duration": 23,
    "start_time": "2021-12-14T18:33:42.386Z"
   },
   {
    "duration": 10,
    "start_time": "2021-12-14T18:33:42.411Z"
   },
   {
    "duration": 12,
    "start_time": "2021-12-14T18:33:42.423Z"
   },
   {
    "duration": 164,
    "start_time": "2021-12-14T18:33:42.437Z"
   },
   {
    "duration": 506,
    "start_time": "2021-12-14T18:33:42.602Z"
   },
   {
    "duration": 64,
    "start_time": "2021-12-14T18:33:43.110Z"
   },
   {
    "duration": 30,
    "start_time": "2021-12-14T18:33:43.176Z"
   },
   {
    "duration": 6,
    "start_time": "2021-12-14T18:33:43.208Z"
   },
   {
    "duration": 23,
    "start_time": "2021-12-14T18:33:43.215Z"
   },
   {
    "duration": 41,
    "start_time": "2021-12-14T18:33:43.239Z"
   },
   {
    "duration": 3,
    "start_time": "2021-12-14T18:33:43.282Z"
   },
   {
    "duration": 17,
    "start_time": "2021-12-14T18:33:43.286Z"
   },
   {
    "duration": 30,
    "start_time": "2021-12-14T18:33:43.306Z"
   },
   {
    "duration": 61,
    "start_time": "2021-12-14T18:33:43.337Z"
   },
   {
    "duration": 3,
    "start_time": "2021-12-14T18:33:43.400Z"
   },
   {
    "duration": 317,
    "start_time": "2021-12-14T18:33:43.405Z"
   },
   {
    "duration": 277,
    "start_time": "2021-12-14T18:33:43.724Z"
   },
   {
    "duration": 352,
    "start_time": "2021-12-14T18:33:44.003Z"
   },
   {
    "duration": 9,
    "start_time": "2021-12-14T18:33:44.357Z"
   },
   {
    "duration": 203,
    "start_time": "2021-12-14T18:33:44.367Z"
   },
   {
    "duration": 5,
    "start_time": "2021-12-14T18:33:44.572Z"
   },
   {
    "duration": 213,
    "start_time": "2021-12-14T18:33:44.579Z"
   },
   {
    "duration": 360,
    "start_time": "2021-12-14T18:33:44.794Z"
   },
   {
    "duration": 650,
    "start_time": "2021-12-14T18:33:44.505Z"
   },
   {
    "duration": 649,
    "start_time": "2021-12-14T18:33:44.507Z"
   },
   {
    "duration": 649,
    "start_time": "2021-12-14T18:33:44.508Z"
   },
   {
    "duration": 273,
    "start_time": "2021-12-14T18:39:59.695Z"
   },
   {
    "duration": 275,
    "start_time": "2021-12-14T18:40:36.300Z"
   },
   {
    "duration": 6,
    "start_time": "2021-12-14T18:41:24.354Z"
   },
   {
    "duration": 4,
    "start_time": "2021-12-14T18:41:41.698Z"
   },
   {
    "duration": 187,
    "start_time": "2021-12-14T18:42:37.031Z"
   },
   {
    "duration": 283,
    "start_time": "2021-12-14T18:48:29.307Z"
   },
   {
    "duration": 4,
    "start_time": "2021-12-14T18:49:46.728Z"
   },
   {
    "duration": 5,
    "start_time": "2021-12-14T18:49:50.342Z"
   },
   {
    "duration": 6,
    "start_time": "2021-12-14T18:51:24.751Z"
   },
   {
    "duration": 5,
    "start_time": "2021-12-14T18:51:26.983Z"
   },
   {
    "duration": 4,
    "start_time": "2021-12-14T18:51:38.116Z"
   },
   {
    "duration": 5,
    "start_time": "2021-12-14T18:51:38.750Z"
   },
   {
    "duration": 174,
    "start_time": "2021-12-14T18:51:45.897Z"
   },
   {
    "duration": 7,
    "start_time": "2021-12-14T18:52:10.264Z"
   },
   {
    "duration": 6524,
    "start_time": "2021-12-14T18:53:21.805Z"
   },
   {
    "duration": 6,
    "start_time": "2021-12-14T18:57:08.733Z"
   },
   {
    "duration": 6,
    "start_time": "2021-12-14T18:57:35.773Z"
   },
   {
    "duration": 6,
    "start_time": "2021-12-14T18:57:45.110Z"
   },
   {
    "duration": 6,
    "start_time": "2021-12-14T19:01:23.242Z"
   },
   {
    "duration": 6,
    "start_time": "2021-12-14T19:02:19.843Z"
   },
   {
    "duration": 239,
    "start_time": "2021-12-14T19:05:39.805Z"
   },
   {
    "duration": 1272,
    "start_time": "2021-12-14T19:05:51.180Z"
   },
   {
    "duration": 766,
    "start_time": "2021-12-14T19:05:52.454Z"
   },
   {
    "duration": 7,
    "start_time": "2021-12-14T19:05:53.222Z"
   },
   {
    "duration": 10,
    "start_time": "2021-12-14T19:05:53.231Z"
   },
   {
    "duration": 37,
    "start_time": "2021-12-14T19:05:53.243Z"
   },
   {
    "duration": 5,
    "start_time": "2021-12-14T19:05:53.282Z"
   },
   {
    "duration": 8,
    "start_time": "2021-12-14T19:05:53.289Z"
   },
   {
    "duration": 213,
    "start_time": "2021-12-14T19:05:53.299Z"
   },
   {
    "duration": 5,
    "start_time": "2021-12-14T19:05:53.515Z"
   },
   {
    "duration": 10,
    "start_time": "2021-12-14T19:05:53.522Z"
   },
   {
    "duration": 39,
    "start_time": "2021-12-14T19:05:53.534Z"
   },
   {
    "duration": 10,
    "start_time": "2021-12-14T19:05:53.575Z"
   },
   {
    "duration": 6,
    "start_time": "2021-12-14T19:05:53.587Z"
   },
   {
    "duration": 164,
    "start_time": "2021-12-14T19:05:53.595Z"
   },
   {
    "duration": 500,
    "start_time": "2021-12-14T19:05:53.763Z"
   },
   {
    "duration": 46,
    "start_time": "2021-12-14T19:05:54.265Z"
   },
   {
    "duration": 51,
    "start_time": "2021-12-14T19:05:54.313Z"
   },
   {
    "duration": 6,
    "start_time": "2021-12-14T19:05:54.366Z"
   },
   {
    "duration": 21,
    "start_time": "2021-12-14T19:05:54.373Z"
   },
   {
    "duration": 21,
    "start_time": "2021-12-14T19:05:54.396Z"
   },
   {
    "duration": 3,
    "start_time": "2021-12-14T19:05:54.419Z"
   },
   {
    "duration": 39,
    "start_time": "2021-12-14T19:05:54.424Z"
   },
   {
    "duration": 29,
    "start_time": "2021-12-14T19:05:54.466Z"
   },
   {
    "duration": 39,
    "start_time": "2021-12-14T19:05:54.497Z"
   },
   {
    "duration": 4,
    "start_time": "2021-12-14T19:05:54.537Z"
   },
   {
    "duration": 282,
    "start_time": "2021-12-14T19:05:54.543Z"
   },
   {
    "duration": 247,
    "start_time": "2021-12-14T19:05:54.827Z"
   },
   {
    "duration": 347,
    "start_time": "2021-12-14T19:05:55.076Z"
   },
   {
    "duration": 5,
    "start_time": "2021-12-14T19:05:55.425Z"
   },
   {
    "duration": 207,
    "start_time": "2021-12-14T19:05:55.432Z"
   },
   {
    "duration": 5,
    "start_time": "2021-12-14T19:05:55.640Z"
   },
   {
    "duration": 208,
    "start_time": "2021-12-14T19:05:55.646Z"
   },
   {
    "duration": 11,
    "start_time": "2021-12-14T19:05:55.856Z"
   },
   {
    "duration": 6,
    "start_time": "2021-12-14T19:05:55.869Z"
   },
   {
    "duration": 5,
    "start_time": "2021-12-14T19:05:55.877Z"
   },
   {
    "duration": 6,
    "start_time": "2021-12-14T19:05:55.883Z"
   },
   {
    "duration": 252,
    "start_time": "2021-12-14T19:05:55.890Z"
   },
   {
    "duration": 602,
    "start_time": "2021-12-14T19:07:38.940Z"
   },
   {
    "duration": 261,
    "start_time": "2021-12-14T19:07:49.857Z"
   },
   {
    "duration": 209,
    "start_time": "2021-12-14T19:09:46.771Z"
   },
   {
    "duration": 311,
    "start_time": "2021-12-14T19:09:52.161Z"
   },
   {
    "duration": 182,
    "start_time": "2021-12-14T19:09:56.961Z"
   },
   {
    "duration": 180,
    "start_time": "2021-12-14T19:10:31.699Z"
   },
   {
    "duration": 198,
    "start_time": "2021-12-14T19:10:45.184Z"
   },
   {
    "duration": 338,
    "start_time": "2021-12-14T19:10:54.243Z"
   },
   {
    "duration": 6,
    "start_time": "2021-12-14T19:17:03.301Z"
   },
   {
    "duration": 6,
    "start_time": "2021-12-14T19:17:04.270Z"
   },
   {
    "duration": 1134,
    "start_time": "2021-12-14T19:17:36.294Z"
   },
   {
    "duration": 741,
    "start_time": "2021-12-14T19:17:37.430Z"
   },
   {
    "duration": 6,
    "start_time": "2021-12-14T19:17:38.173Z"
   },
   {
    "duration": 5,
    "start_time": "2021-12-14T19:17:38.181Z"
   },
   {
    "duration": 12,
    "start_time": "2021-12-14T19:17:38.187Z"
   },
   {
    "duration": 6,
    "start_time": "2021-12-14T19:17:38.200Z"
   },
   {
    "duration": 7,
    "start_time": "2021-12-14T19:17:38.208Z"
   },
   {
    "duration": 222,
    "start_time": "2021-12-14T19:17:38.217Z"
   },
   {
    "duration": 4,
    "start_time": "2021-12-14T19:17:38.441Z"
   },
   {
    "duration": 17,
    "start_time": "2021-12-14T19:17:38.447Z"
   },
   {
    "duration": 23,
    "start_time": "2021-12-14T19:17:38.466Z"
   },
   {
    "duration": 7,
    "start_time": "2021-12-14T19:17:38.490Z"
   },
   {
    "duration": 5,
    "start_time": "2021-12-14T19:17:38.498Z"
   },
   {
    "duration": 174,
    "start_time": "2021-12-14T19:17:38.504Z"
   },
   {
    "duration": 493,
    "start_time": "2021-12-14T19:17:38.680Z"
   },
   {
    "duration": 47,
    "start_time": "2021-12-14T19:17:39.175Z"
   },
   {
    "duration": 49,
    "start_time": "2021-12-14T19:17:39.223Z"
   },
   {
    "duration": 6,
    "start_time": "2021-12-14T19:17:39.273Z"
   },
   {
    "duration": 59,
    "start_time": "2021-12-14T19:17:39.281Z"
   },
   {
    "duration": 21,
    "start_time": "2021-12-14T19:17:39.342Z"
   },
   {
    "duration": 4,
    "start_time": "2021-12-14T19:17:39.365Z"
   },
   {
    "duration": 17,
    "start_time": "2021-12-14T19:17:39.371Z"
   },
   {
    "duration": 31,
    "start_time": "2021-12-14T19:17:39.390Z"
   },
   {
    "duration": 60,
    "start_time": "2021-12-14T19:17:39.422Z"
   },
   {
    "duration": 4,
    "start_time": "2021-12-14T19:17:39.483Z"
   },
   {
    "duration": 261,
    "start_time": "2021-12-14T19:17:39.491Z"
   },
   {
    "duration": 251,
    "start_time": "2021-12-14T19:17:39.754Z"
   },
   {
    "duration": 365,
    "start_time": "2021-12-14T19:17:40.007Z"
   },
   {
    "duration": 6,
    "start_time": "2021-12-14T19:17:40.374Z"
   },
   {
    "duration": 211,
    "start_time": "2021-12-14T19:17:40.381Z"
   },
   {
    "duration": 6,
    "start_time": "2021-12-14T19:17:40.593Z"
   },
   {
    "duration": 215,
    "start_time": "2021-12-14T19:17:40.600Z"
   },
   {
    "duration": 6,
    "start_time": "2021-12-14T19:17:40.817Z"
   },
   {
    "duration": 9,
    "start_time": "2021-12-14T19:17:40.825Z"
   },
   {
    "duration": 6,
    "start_time": "2021-12-14T19:17:40.836Z"
   },
   {
    "duration": 6,
    "start_time": "2021-12-14T19:17:40.863Z"
   },
   {
    "duration": 240,
    "start_time": "2021-12-14T19:17:40.871Z"
   },
   {
    "duration": 227,
    "start_time": "2021-12-14T19:19:52.436Z"
   },
   {
    "duration": 260,
    "start_time": "2021-12-14T19:20:10.494Z"
   },
   {
    "duration": 6,
    "start_time": "2021-12-14T19:26:14.929Z"
   },
   {
    "duration": 8,
    "start_time": "2021-12-14T19:26:30.349Z"
   },
   {
    "duration": 1274,
    "start_time": "2021-12-14T19:26:59.335Z"
   },
   {
    "duration": 750,
    "start_time": "2021-12-14T19:27:00.611Z"
   },
   {
    "duration": 6,
    "start_time": "2021-12-14T19:27:01.363Z"
   },
   {
    "duration": 24,
    "start_time": "2021-12-14T19:27:01.371Z"
   },
   {
    "duration": 27,
    "start_time": "2021-12-14T19:27:01.397Z"
   },
   {
    "duration": 17,
    "start_time": "2021-12-14T19:27:01.426Z"
   },
   {
    "duration": 18,
    "start_time": "2021-12-14T19:27:01.446Z"
   },
   {
    "duration": 207,
    "start_time": "2021-12-14T19:27:01.466Z"
   },
   {
    "duration": 5,
    "start_time": "2021-12-14T19:27:01.675Z"
   },
   {
    "duration": 29,
    "start_time": "2021-12-14T19:27:01.682Z"
   },
   {
    "duration": 41,
    "start_time": "2021-12-14T19:27:01.713Z"
   },
   {
    "duration": 28,
    "start_time": "2021-12-14T19:27:01.755Z"
   },
   {
    "duration": 13,
    "start_time": "2021-12-14T19:27:01.785Z"
   },
   {
    "duration": 185,
    "start_time": "2021-12-14T19:27:01.800Z"
   },
   {
    "duration": 609,
    "start_time": "2021-12-14T19:27:01.987Z"
   },
   {
    "duration": 47,
    "start_time": "2021-12-14T19:27:02.598Z"
   },
   {
    "duration": 39,
    "start_time": "2021-12-14T19:27:02.647Z"
   },
   {
    "duration": 5,
    "start_time": "2021-12-14T19:27:02.688Z"
   },
   {
    "duration": 20,
    "start_time": "2021-12-14T19:27:02.695Z"
   },
   {
    "duration": 21,
    "start_time": "2021-12-14T19:27:02.716Z"
   },
   {
    "duration": 4,
    "start_time": "2021-12-14T19:27:02.738Z"
   },
   {
    "duration": 30,
    "start_time": "2021-12-14T19:27:02.743Z"
   },
   {
    "duration": 33,
    "start_time": "2021-12-14T19:27:02.774Z"
   },
   {
    "duration": 70,
    "start_time": "2021-12-14T19:27:02.809Z"
   },
   {
    "duration": 4,
    "start_time": "2021-12-14T19:27:02.881Z"
   },
   {
    "duration": 268,
    "start_time": "2021-12-14T19:27:02.887Z"
   },
   {
    "duration": 262,
    "start_time": "2021-12-14T19:27:03.159Z"
   },
   {
    "duration": 372,
    "start_time": "2021-12-14T19:27:03.424Z"
   },
   {
    "duration": 6,
    "start_time": "2021-12-14T19:27:03.797Z"
   },
   {
    "duration": 236,
    "start_time": "2021-12-14T19:27:03.804Z"
   },
   {
    "duration": 5,
    "start_time": "2021-12-14T19:27:04.041Z"
   },
   {
    "duration": 225,
    "start_time": "2021-12-14T19:27:04.048Z"
   },
   {
    "duration": 7,
    "start_time": "2021-12-14T19:27:04.275Z"
   },
   {
    "duration": 5,
    "start_time": "2021-12-14T19:27:04.284Z"
   },
   {
    "duration": 7,
    "start_time": "2021-12-14T19:27:04.291Z"
   },
   {
    "duration": 4,
    "start_time": "2021-12-14T19:27:04.300Z"
   },
   {
    "duration": 262,
    "start_time": "2021-12-14T19:27:04.306Z"
   },
   {
    "duration": 216,
    "start_time": "2021-12-14T19:32:51.508Z"
   },
   {
    "duration": 227,
    "start_time": "2021-12-14T19:33:09.162Z"
   },
   {
    "duration": 226,
    "start_time": "2021-12-14T19:42:02.967Z"
   },
   {
    "duration": 209,
    "start_time": "2021-12-14T19:42:06.123Z"
   },
   {
    "duration": 231,
    "start_time": "2021-12-14T19:42:58.981Z"
   },
   {
    "duration": 1228,
    "start_time": "2021-12-14T19:43:34.826Z"
   },
   {
    "duration": 763,
    "start_time": "2021-12-14T19:43:36.056Z"
   },
   {
    "duration": 6,
    "start_time": "2021-12-14T19:43:36.821Z"
   },
   {
    "duration": 25,
    "start_time": "2021-12-14T19:43:36.828Z"
   },
   {
    "duration": 27,
    "start_time": "2021-12-14T19:43:36.855Z"
   },
   {
    "duration": 11,
    "start_time": "2021-12-14T19:43:36.884Z"
   },
   {
    "duration": 23,
    "start_time": "2021-12-14T19:43:36.897Z"
   },
   {
    "duration": 216,
    "start_time": "2021-12-14T19:43:36.923Z"
   },
   {
    "duration": 5,
    "start_time": "2021-12-14T19:43:37.141Z"
   },
   {
    "duration": 24,
    "start_time": "2021-12-14T19:43:37.147Z"
   },
   {
    "duration": 51,
    "start_time": "2021-12-14T19:43:37.173Z"
   },
   {
    "duration": 29,
    "start_time": "2021-12-14T19:43:37.226Z"
   },
   {
    "duration": 32,
    "start_time": "2021-12-14T19:43:37.257Z"
   },
   {
    "duration": 187,
    "start_time": "2021-12-14T19:43:37.291Z"
   },
   {
    "duration": 530,
    "start_time": "2021-12-14T19:43:37.480Z"
   },
   {
    "duration": 61,
    "start_time": "2021-12-14T19:43:38.012Z"
   },
   {
    "duration": 28,
    "start_time": "2021-12-14T19:43:38.075Z"
   },
   {
    "duration": 8,
    "start_time": "2021-12-14T19:43:38.105Z"
   },
   {
    "duration": 24,
    "start_time": "2021-12-14T19:43:38.115Z"
   },
   {
    "duration": 37,
    "start_time": "2021-12-14T19:43:38.141Z"
   },
   {
    "duration": 3,
    "start_time": "2021-12-14T19:43:38.180Z"
   },
   {
    "duration": 25,
    "start_time": "2021-12-14T19:43:38.185Z"
   },
   {
    "duration": 35,
    "start_time": "2021-12-14T19:43:38.212Z"
   },
   {
    "duration": 52,
    "start_time": "2021-12-14T19:43:38.248Z"
   },
   {
    "duration": 4,
    "start_time": "2021-12-14T19:43:38.302Z"
   },
   {
    "duration": 285,
    "start_time": "2021-12-14T19:43:38.309Z"
   },
   {
    "duration": 262,
    "start_time": "2021-12-14T19:43:38.595Z"
   },
   {
    "duration": 349,
    "start_time": "2021-12-14T19:43:38.859Z"
   },
   {
    "duration": 5,
    "start_time": "2021-12-14T19:43:39.210Z"
   },
   {
    "duration": 205,
    "start_time": "2021-12-14T19:43:39.216Z"
   },
   {
    "duration": 5,
    "start_time": "2021-12-14T19:43:39.423Z"
   },
   {
    "duration": 236,
    "start_time": "2021-12-14T19:43:39.429Z"
   },
   {
    "duration": 7,
    "start_time": "2021-12-14T19:43:39.667Z"
   },
   {
    "duration": 17,
    "start_time": "2021-12-14T19:43:39.676Z"
   },
   {
    "duration": 22,
    "start_time": "2021-12-14T19:43:39.695Z"
   },
   {
    "duration": 10,
    "start_time": "2021-12-14T19:43:39.720Z"
   },
   {
    "duration": 271,
    "start_time": "2021-12-14T19:43:39.731Z"
   },
   {
    "duration": 358,
    "start_time": "2021-12-14T19:43:40.004Z"
   },
   {
    "duration": 8,
    "start_time": "2021-12-14T19:45:01.515Z"
   },
   {
    "duration": 1170,
    "start_time": "2021-12-14T19:45:59.775Z"
   },
   {
    "duration": 754,
    "start_time": "2021-12-14T19:46:00.948Z"
   },
   {
    "duration": 7,
    "start_time": "2021-12-14T19:46:01.707Z"
   },
   {
    "duration": 18,
    "start_time": "2021-12-14T19:46:01.715Z"
   },
   {
    "duration": 34,
    "start_time": "2021-12-14T19:46:01.736Z"
   },
   {
    "duration": 13,
    "start_time": "2021-12-14T19:46:01.772Z"
   },
   {
    "duration": 29,
    "start_time": "2021-12-14T19:46:01.788Z"
   },
   {
    "duration": 207,
    "start_time": "2021-12-14T19:46:01.819Z"
   },
   {
    "duration": 4,
    "start_time": "2021-12-14T19:46:02.028Z"
   },
   {
    "duration": 25,
    "start_time": "2021-12-14T19:46:02.033Z"
   },
   {
    "duration": 48,
    "start_time": "2021-12-14T19:46:02.059Z"
   },
   {
    "duration": 17,
    "start_time": "2021-12-14T19:46:02.108Z"
   },
   {
    "duration": 7,
    "start_time": "2021-12-14T19:46:02.127Z"
   },
   {
    "duration": 183,
    "start_time": "2021-12-14T19:46:02.136Z"
   },
   {
    "duration": 511,
    "start_time": "2021-12-14T19:46:02.321Z"
   },
   {
    "duration": 53,
    "start_time": "2021-12-14T19:46:02.834Z"
   },
   {
    "duration": 29,
    "start_time": "2021-12-14T19:46:02.889Z"
   },
   {
    "duration": 6,
    "start_time": "2021-12-14T19:46:02.920Z"
   },
   {
    "duration": 45,
    "start_time": "2021-12-14T19:46:02.928Z"
   },
   {
    "duration": 20,
    "start_time": "2021-12-14T19:46:02.975Z"
   },
   {
    "duration": 3,
    "start_time": "2021-12-14T19:46:02.997Z"
   },
   {
    "duration": 15,
    "start_time": "2021-12-14T19:46:03.004Z"
   },
   {
    "duration": 55,
    "start_time": "2021-12-14T19:46:03.021Z"
   },
   {
    "duration": 42,
    "start_time": "2021-12-14T19:46:03.077Z"
   },
   {
    "duration": 4,
    "start_time": "2021-12-14T19:46:03.120Z"
   },
   {
    "duration": 270,
    "start_time": "2021-12-14T19:46:03.126Z"
   },
   {
    "duration": 361,
    "start_time": "2021-12-14T19:46:03.398Z"
   },
   {
    "duration": 356,
    "start_time": "2021-12-14T19:46:03.763Z"
   },
   {
    "duration": 5,
    "start_time": "2021-12-14T19:46:04.121Z"
   },
   {
    "duration": 206,
    "start_time": "2021-12-14T19:46:04.128Z"
   },
   {
    "duration": 5,
    "start_time": "2021-12-14T19:46:04.336Z"
   },
   {
    "duration": 220,
    "start_time": "2021-12-14T19:46:04.343Z"
   },
   {
    "duration": 353,
    "start_time": "2021-12-14T19:46:04.564Z"
   },
   {
    "duration": 684,
    "start_time": "2021-12-14T19:46:04.235Z"
   },
   {
    "duration": 678,
    "start_time": "2021-12-14T19:46:04.242Z"
   },
   {
    "duration": 674,
    "start_time": "2021-12-14T19:46:04.247Z"
   },
   {
    "duration": 673,
    "start_time": "2021-12-14T19:46:04.249Z"
   },
   {
    "duration": 673,
    "start_time": "2021-12-14T19:46:04.250Z"
   },
   {
    "duration": 17,
    "start_time": "2021-12-14T19:47:55.998Z"
   },
   {
    "duration": 1180,
    "start_time": "2021-12-14T19:48:14.746Z"
   },
   {
    "duration": 735,
    "start_time": "2021-12-14T19:48:15.928Z"
   },
   {
    "duration": 6,
    "start_time": "2021-12-14T19:48:16.666Z"
   },
   {
    "duration": 10,
    "start_time": "2021-12-14T19:48:16.673Z"
   },
   {
    "duration": 12,
    "start_time": "2021-12-14T19:48:16.684Z"
   },
   {
    "duration": 5,
    "start_time": "2021-12-14T19:48:16.697Z"
   },
   {
    "duration": 8,
    "start_time": "2021-12-14T19:48:16.703Z"
   },
   {
    "duration": 209,
    "start_time": "2021-12-14T19:48:16.712Z"
   },
   {
    "duration": 4,
    "start_time": "2021-12-14T19:48:16.924Z"
   },
   {
    "duration": 7,
    "start_time": "2021-12-14T19:48:16.930Z"
   },
   {
    "duration": 39,
    "start_time": "2021-12-14T19:48:16.938Z"
   },
   {
    "duration": 8,
    "start_time": "2021-12-14T19:48:16.978Z"
   },
   {
    "duration": 10,
    "start_time": "2021-12-14T19:48:16.987Z"
   },
   {
    "duration": 153,
    "start_time": "2021-12-14T19:48:16.999Z"
   },
   {
    "duration": 510,
    "start_time": "2021-12-14T19:48:17.154Z"
   },
   {
    "duration": 45,
    "start_time": "2021-12-14T19:48:17.666Z"
   },
   {
    "duration": 29,
    "start_time": "2021-12-14T19:48:17.712Z"
   },
   {
    "duration": 23,
    "start_time": "2021-12-14T19:48:17.743Z"
   },
   {
    "duration": 19,
    "start_time": "2021-12-14T19:48:17.768Z"
   },
   {
    "duration": 20,
    "start_time": "2021-12-14T19:48:17.789Z"
   },
   {
    "duration": 3,
    "start_time": "2021-12-14T19:48:17.810Z"
   },
   {
    "duration": 17,
    "start_time": "2021-12-14T19:48:17.815Z"
   },
   {
    "duration": 58,
    "start_time": "2021-12-14T19:48:17.834Z"
   },
   {
    "duration": 40,
    "start_time": "2021-12-14T19:48:17.894Z"
   },
   {
    "duration": 4,
    "start_time": "2021-12-14T19:48:17.936Z"
   },
   {
    "duration": 248,
    "start_time": "2021-12-14T19:48:17.964Z"
   },
   {
    "duration": 253,
    "start_time": "2021-12-14T19:48:18.215Z"
   },
   {
    "duration": 352,
    "start_time": "2021-12-14T19:48:18.470Z"
   },
   {
    "duration": 6,
    "start_time": "2021-12-14T19:48:18.825Z"
   },
   {
    "duration": 209,
    "start_time": "2021-12-14T19:48:18.832Z"
   },
   {
    "duration": 5,
    "start_time": "2021-12-14T19:48:19.042Z"
   },
   {
    "duration": 218,
    "start_time": "2021-12-14T19:48:19.048Z"
   },
   {
    "duration": 7,
    "start_time": "2021-12-14T19:48:19.268Z"
   },
   {
    "duration": 5,
    "start_time": "2021-12-14T19:48:19.277Z"
   },
   {
    "duration": 12,
    "start_time": "2021-12-14T19:48:19.284Z"
   },
   {
    "duration": 11,
    "start_time": "2021-12-14T19:48:19.298Z"
   },
   {
    "duration": 340,
    "start_time": "2021-12-14T19:48:19.310Z"
   },
   {
    "duration": 685,
    "start_time": "2021-12-14T19:48:18.967Z"
   },
   {
    "duration": 17,
    "start_time": "2021-12-14T19:48:49.358Z"
   },
   {
    "duration": 4,
    "start_time": "2021-12-14T19:48:55.184Z"
   },
   {
    "duration": 4,
    "start_time": "2021-12-14T19:48:58.027Z"
   },
   {
    "duration": 5,
    "start_time": "2021-12-14T19:49:01.029Z"
   },
   {
    "duration": 239,
    "start_time": "2021-12-14T19:49:28.452Z"
   },
   {
    "duration": 116,
    "start_time": "2021-12-14T19:51:36.255Z"
   },
   {
    "duration": 81,
    "start_time": "2021-12-14T19:52:07.956Z"
   },
   {
    "duration": 14,
    "start_time": "2021-12-14T19:53:33.423Z"
   },
   {
    "duration": 11,
    "start_time": "2021-12-14T20:00:11.400Z"
   },
   {
    "duration": 248,
    "start_time": "2021-12-14T20:00:20.168Z"
   },
   {
    "duration": 246,
    "start_time": "2021-12-14T20:02:55.775Z"
   },
   {
    "duration": 6,
    "start_time": "2021-12-14T20:03:02.302Z"
   },
   {
    "duration": 4,
    "start_time": "2021-12-14T20:03:02.755Z"
   },
   {
    "duration": 5,
    "start_time": "2021-12-14T20:03:03.153Z"
   },
   {
    "duration": 4,
    "start_time": "2021-12-14T20:03:03.550Z"
   },
   {
    "duration": 246,
    "start_time": "2021-12-14T20:03:04.100Z"
   },
   {
    "duration": 240,
    "start_time": "2021-12-14T20:03:17.073Z"
   },
   {
    "duration": 1238,
    "start_time": "2021-12-14T20:03:27.338Z"
   },
   {
    "duration": 773,
    "start_time": "2021-12-14T20:03:28.578Z"
   },
   {
    "duration": 10,
    "start_time": "2021-12-14T20:03:29.353Z"
   },
   {
    "duration": 11,
    "start_time": "2021-12-14T20:03:29.365Z"
   },
   {
    "duration": 9,
    "start_time": "2021-12-14T20:03:29.377Z"
   },
   {
    "duration": 6,
    "start_time": "2021-12-14T20:03:29.388Z"
   },
   {
    "duration": 9,
    "start_time": "2021-12-14T20:03:29.396Z"
   },
   {
    "duration": 206,
    "start_time": "2021-12-14T20:03:29.408Z"
   },
   {
    "duration": 5,
    "start_time": "2021-12-14T20:03:29.616Z"
   },
   {
    "duration": 9,
    "start_time": "2021-12-14T20:03:29.623Z"
   },
   {
    "duration": 44,
    "start_time": "2021-12-14T20:03:29.634Z"
   },
   {
    "duration": 9,
    "start_time": "2021-12-14T20:03:29.680Z"
   },
   {
    "duration": 4,
    "start_time": "2021-12-14T20:03:29.691Z"
   },
   {
    "duration": 167,
    "start_time": "2021-12-14T20:03:29.697Z"
   },
   {
    "duration": 541,
    "start_time": "2021-12-14T20:03:29.865Z"
   },
   {
    "duration": 64,
    "start_time": "2021-12-14T20:03:30.408Z"
   },
   {
    "duration": 31,
    "start_time": "2021-12-14T20:03:30.474Z"
   },
   {
    "duration": 7,
    "start_time": "2021-12-14T20:03:30.507Z"
   },
   {
    "duration": 31,
    "start_time": "2021-12-14T20:03:30.516Z"
   },
   {
    "duration": 20,
    "start_time": "2021-12-14T20:03:30.563Z"
   },
   {
    "duration": 3,
    "start_time": "2021-12-14T20:03:30.585Z"
   },
   {
    "duration": 23,
    "start_time": "2021-12-14T20:03:30.590Z"
   },
   {
    "duration": 51,
    "start_time": "2021-12-14T20:03:30.617Z"
   },
   {
    "duration": 43,
    "start_time": "2021-12-14T20:03:30.671Z"
   },
   {
    "duration": 5,
    "start_time": "2021-12-14T20:03:30.716Z"
   },
   {
    "duration": 279,
    "start_time": "2021-12-14T20:03:30.723Z"
   },
   {
    "duration": 267,
    "start_time": "2021-12-14T20:03:31.005Z"
   },
   {
    "duration": 363,
    "start_time": "2021-12-14T20:03:31.274Z"
   },
   {
    "duration": 5,
    "start_time": "2021-12-14T20:03:31.639Z"
   },
   {
    "duration": 225,
    "start_time": "2021-12-14T20:03:31.645Z"
   },
   {
    "duration": 4,
    "start_time": "2021-12-14T20:03:31.872Z"
   },
   {
    "duration": 209,
    "start_time": "2021-12-14T20:03:31.878Z"
   },
   {
    "duration": 6,
    "start_time": "2021-12-14T20:03:32.089Z"
   },
   {
    "duration": 7,
    "start_time": "2021-12-14T20:03:32.097Z"
   },
   {
    "duration": 6,
    "start_time": "2021-12-14T20:03:32.106Z"
   },
   {
    "duration": 6,
    "start_time": "2021-12-14T20:03:32.113Z"
   },
   {
    "duration": 258,
    "start_time": "2021-12-14T20:03:32.121Z"
   },
   {
    "duration": 27,
    "start_time": "2021-12-14T20:03:32.381Z"
   },
   {
    "duration": 238,
    "start_time": "2021-12-14T20:03:32.410Z"
   },
   {
    "duration": 11,
    "start_time": "2021-12-14T20:12:06.793Z"
   },
   {
    "duration": 251,
    "start_time": "2021-12-14T20:12:07.546Z"
   },
   {
    "duration": 1243,
    "start_time": "2021-12-14T20:12:46.046Z"
   },
   {
    "duration": 763,
    "start_time": "2021-12-14T20:12:47.291Z"
   },
   {
    "duration": 11,
    "start_time": "2021-12-14T20:12:48.056Z"
   },
   {
    "duration": 6,
    "start_time": "2021-12-14T20:12:48.069Z"
   },
   {
    "duration": 10,
    "start_time": "2021-12-14T20:12:48.077Z"
   },
   {
    "duration": 4,
    "start_time": "2021-12-14T20:12:48.089Z"
   },
   {
    "duration": 6,
    "start_time": "2021-12-14T20:12:48.095Z"
   },
   {
    "duration": 219,
    "start_time": "2021-12-14T20:12:48.104Z"
   },
   {
    "duration": 5,
    "start_time": "2021-12-14T20:12:48.325Z"
   },
   {
    "duration": 4,
    "start_time": "2021-12-14T20:12:48.332Z"
   },
   {
    "duration": 42,
    "start_time": "2021-12-14T20:12:48.338Z"
   },
   {
    "duration": 9,
    "start_time": "2021-12-14T20:12:48.382Z"
   },
   {
    "duration": 7,
    "start_time": "2021-12-14T20:12:48.393Z"
   },
   {
    "duration": 185,
    "start_time": "2021-12-14T20:12:48.401Z"
   },
   {
    "duration": 504,
    "start_time": "2021-12-14T20:12:48.588Z"
   },
   {
    "duration": 50,
    "start_time": "2021-12-14T20:12:49.095Z"
   },
   {
    "duration": 29,
    "start_time": "2021-12-14T20:12:49.164Z"
   },
   {
    "duration": 6,
    "start_time": "2021-12-14T20:12:49.196Z"
   },
   {
    "duration": 21,
    "start_time": "2021-12-14T20:12:49.204Z"
   },
   {
    "duration": 44,
    "start_time": "2021-12-14T20:12:49.226Z"
   },
   {
    "duration": 3,
    "start_time": "2021-12-14T20:12:49.272Z"
   },
   {
    "duration": 18,
    "start_time": "2021-12-14T20:12:49.276Z"
   },
   {
    "duration": 32,
    "start_time": "2021-12-14T20:12:49.297Z"
   },
   {
    "duration": 70,
    "start_time": "2021-12-14T20:12:49.331Z"
   },
   {
    "duration": 5,
    "start_time": "2021-12-14T20:12:49.403Z"
   },
   {
    "duration": 270,
    "start_time": "2021-12-14T20:12:49.409Z"
   },
   {
    "duration": 267,
    "start_time": "2021-12-14T20:12:49.682Z"
   },
   {
    "duration": 376,
    "start_time": "2021-12-14T20:12:49.951Z"
   },
   {
    "duration": 6,
    "start_time": "2021-12-14T20:12:50.329Z"
   },
   {
    "duration": 266,
    "start_time": "2021-12-14T20:12:50.337Z"
   },
   {
    "duration": 5,
    "start_time": "2021-12-14T20:12:50.605Z"
   },
   {
    "duration": 220,
    "start_time": "2021-12-14T20:12:50.612Z"
   },
   {
    "duration": 6,
    "start_time": "2021-12-14T20:12:50.834Z"
   },
   {
    "duration": 5,
    "start_time": "2021-12-14T20:12:50.842Z"
   },
   {
    "duration": 18,
    "start_time": "2021-12-14T20:12:50.849Z"
   },
   {
    "duration": 6,
    "start_time": "2021-12-14T20:12:50.869Z"
   },
   {
    "duration": 262,
    "start_time": "2021-12-14T20:12:50.876Z"
   },
   {
    "duration": 42,
    "start_time": "2021-12-14T20:12:51.139Z"
   },
   {
    "duration": 271,
    "start_time": "2021-12-14T20:12:51.183Z"
   },
   {
    "duration": 23,
    "start_time": "2021-12-14T20:13:50.227Z"
   },
   {
    "duration": 230,
    "start_time": "2021-12-14T20:13:51.032Z"
   },
   {
    "duration": 1483,
    "start_time": "2021-12-14T20:28:14.849Z"
   },
   {
    "duration": 739,
    "start_time": "2021-12-14T20:28:16.334Z"
   },
   {
    "duration": 8,
    "start_time": "2021-12-14T20:28:17.076Z"
   },
   {
    "duration": 14,
    "start_time": "2021-12-14T20:28:17.085Z"
   },
   {
    "duration": 14,
    "start_time": "2021-12-14T20:28:17.101Z"
   },
   {
    "duration": 5,
    "start_time": "2021-12-14T20:28:17.117Z"
   },
   {
    "duration": 9,
    "start_time": "2021-12-14T20:28:17.124Z"
   },
   {
    "duration": 233,
    "start_time": "2021-12-14T20:28:17.136Z"
   },
   {
    "duration": 5,
    "start_time": "2021-12-14T20:28:17.372Z"
   },
   {
    "duration": 5,
    "start_time": "2021-12-14T20:28:17.379Z"
   },
   {
    "duration": 24,
    "start_time": "2021-12-14T20:28:17.386Z"
   },
   {
    "duration": 6,
    "start_time": "2021-12-14T20:28:17.412Z"
   },
   {
    "duration": 81,
    "start_time": "2021-12-14T20:28:17.420Z"
   },
   {
    "duration": 692,
    "start_time": "2021-12-14T20:28:16.811Z"
   },
   {
    "duration": 689,
    "start_time": "2021-12-14T20:28:16.815Z"
   },
   {
    "duration": 686,
    "start_time": "2021-12-14T20:28:16.819Z"
   },
   {
    "duration": 681,
    "start_time": "2021-12-14T20:28:16.825Z"
   },
   {
    "duration": 676,
    "start_time": "2021-12-14T20:28:16.831Z"
   },
   {
    "duration": 672,
    "start_time": "2021-12-14T20:28:16.836Z"
   },
   {
    "duration": 670,
    "start_time": "2021-12-14T20:28:16.839Z"
   },
   {
    "duration": 669,
    "start_time": "2021-12-14T20:28:16.841Z"
   },
   {
    "duration": 667,
    "start_time": "2021-12-14T20:28:16.844Z"
   },
   {
    "duration": 666,
    "start_time": "2021-12-14T20:28:16.846Z"
   },
   {
    "duration": 663,
    "start_time": "2021-12-14T20:28:16.850Z"
   },
   {
    "duration": 661,
    "start_time": "2021-12-14T20:28:16.852Z"
   },
   {
    "duration": 659,
    "start_time": "2021-12-14T20:28:16.855Z"
   },
   {
    "duration": 642,
    "start_time": "2021-12-14T20:28:16.873Z"
   },
   {
    "duration": 642,
    "start_time": "2021-12-14T20:28:16.875Z"
   },
   {
    "duration": 641,
    "start_time": "2021-12-14T20:28:16.877Z"
   },
   {
    "duration": 640,
    "start_time": "2021-12-14T20:28:16.879Z"
   },
   {
    "duration": 640,
    "start_time": "2021-12-14T20:28:16.880Z"
   },
   {
    "duration": 639,
    "start_time": "2021-12-14T20:28:16.882Z"
   },
   {
    "duration": 637,
    "start_time": "2021-12-14T20:28:16.885Z"
   },
   {
    "duration": 636,
    "start_time": "2021-12-14T20:28:16.886Z"
   },
   {
    "duration": 635,
    "start_time": "2021-12-14T20:28:16.888Z"
   },
   {
    "duration": 634,
    "start_time": "2021-12-14T20:28:16.890Z"
   },
   {
    "duration": 631,
    "start_time": "2021-12-14T20:28:16.895Z"
   },
   {
    "duration": 631,
    "start_time": "2021-12-14T20:28:16.896Z"
   },
   {
    "duration": 630,
    "start_time": "2021-12-14T20:28:16.898Z"
   },
   {
    "duration": 630,
    "start_time": "2021-12-14T20:28:16.899Z"
   },
   {
    "duration": 1246,
    "start_time": "2021-12-14T20:30:21.071Z"
   },
   {
    "duration": 705,
    "start_time": "2021-12-14T20:30:22.319Z"
   },
   {
    "duration": 6,
    "start_time": "2021-12-14T20:30:23.027Z"
   },
   {
    "duration": 10,
    "start_time": "2021-12-14T20:30:23.035Z"
   },
   {
    "duration": 19,
    "start_time": "2021-12-14T20:30:23.047Z"
   },
   {
    "duration": 17,
    "start_time": "2021-12-14T20:30:23.068Z"
   },
   {
    "duration": 8,
    "start_time": "2021-12-14T20:30:23.087Z"
   },
   {
    "duration": 201,
    "start_time": "2021-12-14T20:30:23.098Z"
   },
   {
    "duration": 6,
    "start_time": "2021-12-14T20:30:23.302Z"
   },
   {
    "duration": 9,
    "start_time": "2021-12-14T20:30:23.310Z"
   },
   {
    "duration": 43,
    "start_time": "2021-12-14T20:30:23.321Z"
   },
   {
    "duration": 14,
    "start_time": "2021-12-14T20:30:23.366Z"
   },
   {
    "duration": 40,
    "start_time": "2021-12-14T20:30:23.381Z"
   },
   {
    "duration": 27,
    "start_time": "2021-12-14T20:30:23.422Z"
   },
   {
    "duration": 117,
    "start_time": "2021-12-14T20:30:23.451Z"
   },
   {
    "duration": 489,
    "start_time": "2021-12-14T20:30:23.570Z"
   },
   {
    "duration": 47,
    "start_time": "2021-12-14T20:30:24.062Z"
   },
   {
    "duration": 26,
    "start_time": "2021-12-14T20:30:24.111Z"
   },
   {
    "duration": 7,
    "start_time": "2021-12-14T20:30:24.139Z"
   },
   {
    "duration": 19,
    "start_time": "2021-12-14T20:30:24.170Z"
   },
   {
    "duration": 402,
    "start_time": "2021-12-14T20:30:24.191Z"
   },
   {
    "duration": 703,
    "start_time": "2021-12-14T20:30:23.893Z"
   },
   {
    "duration": 701,
    "start_time": "2021-12-14T20:30:23.896Z"
   },
   {
    "duration": 696,
    "start_time": "2021-12-14T20:30:23.903Z"
   },
   {
    "duration": 692,
    "start_time": "2021-12-14T20:30:23.908Z"
   },
   {
    "duration": 692,
    "start_time": "2021-12-14T20:30:23.910Z"
   },
   {
    "duration": 692,
    "start_time": "2021-12-14T20:30:23.911Z"
   },
   {
    "duration": 692,
    "start_time": "2021-12-14T20:30:23.913Z"
   },
   {
    "duration": 692,
    "start_time": "2021-12-14T20:30:23.914Z"
   },
   {
    "duration": 691,
    "start_time": "2021-12-14T20:30:23.916Z"
   },
   {
    "duration": 692,
    "start_time": "2021-12-14T20:30:23.917Z"
   },
   {
    "duration": 692,
    "start_time": "2021-12-14T20:30:23.918Z"
   },
   {
    "duration": 691,
    "start_time": "2021-12-14T20:30:23.920Z"
   },
   {
    "duration": 692,
    "start_time": "2021-12-14T20:30:23.921Z"
   },
   {
    "duration": 692,
    "start_time": "2021-12-14T20:30:23.922Z"
   },
   {
    "duration": 691,
    "start_time": "2021-12-14T20:30:23.924Z"
   },
   {
    "duration": 691,
    "start_time": "2021-12-14T20:30:23.925Z"
   },
   {
    "duration": 690,
    "start_time": "2021-12-14T20:30:23.927Z"
   },
   {
    "duration": 684,
    "start_time": "2021-12-14T20:30:23.934Z"
   },
   {
    "duration": 10,
    "start_time": "2021-12-14T20:31:41.992Z"
   },
   {
    "duration": 1190,
    "start_time": "2021-12-14T20:31:49.042Z"
   },
   {
    "duration": 696,
    "start_time": "2021-12-14T20:31:50.234Z"
   },
   {
    "duration": 6,
    "start_time": "2021-12-14T20:31:50.932Z"
   },
   {
    "duration": 6,
    "start_time": "2021-12-14T20:31:50.940Z"
   },
   {
    "duration": 20,
    "start_time": "2021-12-14T20:31:50.948Z"
   },
   {
    "duration": 9,
    "start_time": "2021-12-14T20:31:50.970Z"
   },
   {
    "duration": 6,
    "start_time": "2021-12-14T20:31:50.981Z"
   },
   {
    "duration": 204,
    "start_time": "2021-12-14T20:31:50.989Z"
   },
   {
    "duration": 5,
    "start_time": "2021-12-14T20:31:51.195Z"
   },
   {
    "duration": 5,
    "start_time": "2021-12-14T20:31:51.201Z"
   },
   {
    "duration": 24,
    "start_time": "2021-12-14T20:31:51.208Z"
   },
   {
    "duration": 7,
    "start_time": "2021-12-14T20:31:51.234Z"
   },
   {
    "duration": 8,
    "start_time": "2021-12-14T20:31:51.263Z"
   },
   {
    "duration": 6,
    "start_time": "2021-12-14T20:31:51.273Z"
   },
   {
    "duration": 109,
    "start_time": "2021-12-14T20:31:51.281Z"
   },
   {
    "duration": 496,
    "start_time": "2021-12-14T20:31:51.392Z"
   },
   {
    "duration": 46,
    "start_time": "2021-12-14T20:31:51.890Z"
   },
   {
    "duration": 48,
    "start_time": "2021-12-14T20:31:51.937Z"
   },
   {
    "duration": 6,
    "start_time": "2021-12-14T20:31:51.987Z"
   },
   {
    "duration": 21,
    "start_time": "2021-12-14T20:31:51.994Z"
   },
   {
    "duration": 10,
    "start_time": "2021-12-14T20:31:52.017Z"
   },
   {
    "duration": 3,
    "start_time": "2021-12-14T20:31:52.029Z"
   },
   {
    "duration": 34,
    "start_time": "2021-12-14T20:31:52.035Z"
   },
   {
    "duration": 29,
    "start_time": "2021-12-14T20:31:52.071Z"
   },
   {
    "duration": 29,
    "start_time": "2021-12-14T20:31:52.102Z"
   },
   {
    "duration": 31,
    "start_time": "2021-12-14T20:31:52.133Z"
   },
   {
    "duration": 248,
    "start_time": "2021-12-14T20:31:52.166Z"
   },
   {
    "duration": 249,
    "start_time": "2021-12-14T20:31:52.416Z"
   },
   {
    "duration": 345,
    "start_time": "2021-12-14T20:31:52.667Z"
   },
   {
    "duration": 5,
    "start_time": "2021-12-14T20:31:53.014Z"
   },
   {
    "duration": 210,
    "start_time": "2021-12-14T20:31:53.021Z"
   },
   {
    "duration": 4,
    "start_time": "2021-12-14T20:31:53.233Z"
   },
   {
    "duration": 224,
    "start_time": "2021-12-14T20:31:53.239Z"
   },
   {
    "duration": 6,
    "start_time": "2021-12-14T20:31:53.464Z"
   },
   {
    "duration": 6126,
    "start_time": "2021-12-14T20:31:53.472Z"
   },
   {
    "duration": 677,
    "start_time": "2021-12-14T20:31:58.924Z"
   },
   {
    "duration": 676,
    "start_time": "2021-12-14T20:31:58.926Z"
   },
   {
    "duration": 677,
    "start_time": "2021-12-14T20:31:58.927Z"
   },
   {
    "duration": 674,
    "start_time": "2021-12-14T20:31:58.931Z"
   },
   {
    "duration": 9,
    "start_time": "2021-12-14T20:36:42.320Z"
   },
   {
    "duration": 1219,
    "start_time": "2021-12-14T20:36:48.312Z"
   },
   {
    "duration": 730,
    "start_time": "2021-12-14T20:36:49.533Z"
   },
   {
    "duration": 7,
    "start_time": "2021-12-14T20:36:50.267Z"
   },
   {
    "duration": 9,
    "start_time": "2021-12-14T20:36:50.275Z"
   },
   {
    "duration": 14,
    "start_time": "2021-12-14T20:36:50.286Z"
   },
   {
    "duration": 8,
    "start_time": "2021-12-14T20:36:50.302Z"
   },
   {
    "duration": 7,
    "start_time": "2021-12-14T20:36:50.314Z"
   },
   {
    "duration": 221,
    "start_time": "2021-12-14T20:36:50.324Z"
   },
   {
    "duration": 5,
    "start_time": "2021-12-14T20:36:50.547Z"
   },
   {
    "duration": 3,
    "start_time": "2021-12-14T20:36:50.563Z"
   },
   {
    "duration": 27,
    "start_time": "2021-12-14T20:36:50.568Z"
   },
   {
    "duration": 9,
    "start_time": "2021-12-14T20:36:50.597Z"
   },
   {
    "duration": 13,
    "start_time": "2021-12-14T20:36:50.608Z"
   },
   {
    "duration": 162,
    "start_time": "2021-12-14T20:36:50.623Z"
   },
   {
    "duration": 507,
    "start_time": "2021-12-14T20:36:50.787Z"
   },
   {
    "duration": 48,
    "start_time": "2021-12-14T20:36:51.296Z"
   },
   {
    "duration": 44,
    "start_time": "2021-12-14T20:36:51.346Z"
   },
   {
    "duration": 7,
    "start_time": "2021-12-14T20:36:51.392Z"
   },
   {
    "duration": 23,
    "start_time": "2021-12-14T20:36:51.401Z"
   },
   {
    "duration": 44,
    "start_time": "2021-12-14T20:36:51.426Z"
   },
   {
    "duration": 3,
    "start_time": "2021-12-14T20:36:51.472Z"
   },
   {
    "duration": 19,
    "start_time": "2021-12-14T20:36:51.478Z"
   },
   {
    "duration": 31,
    "start_time": "2021-12-14T20:36:51.499Z"
   },
   {
    "duration": 63,
    "start_time": "2021-12-14T20:36:51.531Z"
   },
   {
    "duration": 3,
    "start_time": "2021-12-14T20:36:51.596Z"
   },
   {
    "duration": 281,
    "start_time": "2021-12-14T20:36:51.601Z"
   },
   {
    "duration": 260,
    "start_time": "2021-12-14T20:36:51.885Z"
   },
   {
    "duration": 350,
    "start_time": "2021-12-14T20:36:52.148Z"
   },
   {
    "duration": 5,
    "start_time": "2021-12-14T20:36:52.499Z"
   },
   {
    "duration": 212,
    "start_time": "2021-12-14T20:36:52.506Z"
   },
   {
    "duration": 4,
    "start_time": "2021-12-14T20:36:52.720Z"
   },
   {
    "duration": 217,
    "start_time": "2021-12-14T20:36:52.726Z"
   },
   {
    "duration": 5,
    "start_time": "2021-12-14T20:36:52.945Z"
   },
   {
    "duration": 12,
    "start_time": "2021-12-14T20:36:52.952Z"
   },
   {
    "duration": 9,
    "start_time": "2021-12-14T20:36:52.966Z"
   },
   {
    "duration": 11,
    "start_time": "2021-12-14T20:36:52.976Z"
   },
   {
    "duration": 250,
    "start_time": "2021-12-14T20:36:52.989Z"
   },
   {
    "duration": 280,
    "start_time": "2021-12-14T20:36:53.240Z"
   },
   {
    "duration": 44,
    "start_time": "2021-12-14T21:46:09.088Z"
   },
   {
    "duration": 342,
    "start_time": "2021-12-14T21:46:19.476Z"
   },
   {
    "duration": 186,
    "start_time": "2021-12-14T21:46:47.951Z"
   },
   {
    "duration": 1135,
    "start_time": "2021-12-14T21:47:24.678Z"
   },
   {
    "duration": 725,
    "start_time": "2021-12-14T21:47:25.815Z"
   },
   {
    "duration": 6,
    "start_time": "2021-12-14T21:47:26.544Z"
   },
   {
    "duration": 14,
    "start_time": "2021-12-14T21:47:26.551Z"
   },
   {
    "duration": 20,
    "start_time": "2021-12-14T21:47:26.566Z"
   },
   {
    "duration": 5,
    "start_time": "2021-12-14T21:47:26.588Z"
   },
   {
    "duration": 14,
    "start_time": "2021-12-14T21:47:26.595Z"
   },
   {
    "duration": 201,
    "start_time": "2021-12-14T21:47:26.611Z"
   },
   {
    "duration": 4,
    "start_time": "2021-12-14T21:47:26.814Z"
   },
   {
    "duration": 10,
    "start_time": "2021-12-14T21:47:26.820Z"
   },
   {
    "duration": 37,
    "start_time": "2021-12-14T21:47:26.832Z"
   },
   {
    "duration": 8,
    "start_time": "2021-12-14T21:47:26.871Z"
   },
   {
    "duration": 4,
    "start_time": "2021-12-14T21:47:26.881Z"
   },
   {
    "duration": 159,
    "start_time": "2021-12-14T21:47:26.887Z"
   },
   {
    "duration": 520,
    "start_time": "2021-12-14T21:47:27.048Z"
   },
   {
    "duration": 43,
    "start_time": "2021-12-14T21:47:27.570Z"
   },
   {
    "duration": 48,
    "start_time": "2021-12-14T21:47:27.615Z"
   },
   {
    "duration": 6,
    "start_time": "2021-12-14T21:47:27.665Z"
   },
   {
    "duration": 19,
    "start_time": "2021-12-14T21:47:27.672Z"
   },
   {
    "duration": 19,
    "start_time": "2021-12-14T21:47:27.693Z"
   },
   {
    "duration": 3,
    "start_time": "2021-12-14T21:47:27.714Z"
   },
   {
    "duration": 17,
    "start_time": "2021-12-14T21:47:27.720Z"
   },
   {
    "duration": 51,
    "start_time": "2021-12-14T21:47:27.739Z"
   },
   {
    "duration": 40,
    "start_time": "2021-12-14T21:47:27.791Z"
   },
   {
    "duration": 4,
    "start_time": "2021-12-14T21:47:27.833Z"
   },
   {
    "duration": 250,
    "start_time": "2021-12-14T21:47:27.863Z"
   },
   {
    "duration": 248,
    "start_time": "2021-12-14T21:47:28.115Z"
   },
   {
    "duration": 352,
    "start_time": "2021-12-14T21:47:28.364Z"
   },
   {
    "duration": 11,
    "start_time": "2021-12-14T21:47:28.718Z"
   },
   {
    "duration": 208,
    "start_time": "2021-12-14T21:47:28.731Z"
   },
   {
    "duration": 5,
    "start_time": "2021-12-14T21:47:28.941Z"
   },
   {
    "duration": 209,
    "start_time": "2021-12-14T21:47:28.948Z"
   },
   {
    "duration": 7,
    "start_time": "2021-12-14T21:47:29.159Z"
   },
   {
    "duration": 5,
    "start_time": "2021-12-14T21:47:29.168Z"
   },
   {
    "duration": 5,
    "start_time": "2021-12-14T21:47:29.175Z"
   },
   {
    "duration": 5,
    "start_time": "2021-12-14T21:47:29.182Z"
   },
   {
    "duration": 251,
    "start_time": "2021-12-14T21:47:29.189Z"
   },
   {
    "duration": 64,
    "start_time": "2021-12-14T21:47:29.441Z"
   },
   {
    "duration": 191,
    "start_time": "2021-12-14T21:47:29.507Z"
   },
   {
    "duration": 223,
    "start_time": "2021-12-14T21:47:47.992Z"
   },
   {
    "duration": 47,
    "start_time": "2021-12-14T21:48:06.359Z"
   },
   {
    "duration": 224,
    "start_time": "2021-12-14T21:48:11.881Z"
   },
   {
    "duration": 227,
    "start_time": "2021-12-14T21:48:19.374Z"
   },
   {
    "duration": 195,
    "start_time": "2021-12-14T21:48:22.812Z"
   },
   {
    "duration": 188,
    "start_time": "2021-12-14T21:48:25.955Z"
   },
   {
    "duration": 50,
    "start_time": "2021-12-14T21:50:00.386Z"
   },
   {
    "duration": 181,
    "start_time": "2021-12-14T21:50:06.185Z"
   },
   {
    "duration": 332,
    "start_time": "2021-12-14T21:50:11.519Z"
   },
   {
    "duration": 461,
    "start_time": "2021-12-14T21:58:05.280Z"
   },
   {
    "duration": 12,
    "start_time": "2021-12-14T22:04:17.588Z"
   },
   {
    "duration": 254,
    "start_time": "2021-12-14T22:04:22.028Z"
   },
   {
    "duration": 1149,
    "start_time": "2021-12-14T22:04:48.079Z"
   },
   {
    "duration": 750,
    "start_time": "2021-12-14T22:04:49.231Z"
   },
   {
    "duration": 6,
    "start_time": "2021-12-14T22:04:49.983Z"
   },
   {
    "duration": 14,
    "start_time": "2021-12-14T22:04:49.991Z"
   },
   {
    "duration": 17,
    "start_time": "2021-12-14T22:04:50.006Z"
   },
   {
    "duration": 13,
    "start_time": "2021-12-14T22:04:50.025Z"
   },
   {
    "duration": 13,
    "start_time": "2021-12-14T22:04:50.041Z"
   },
   {
    "duration": 207,
    "start_time": "2021-12-14T22:04:50.056Z"
   },
   {
    "duration": 5,
    "start_time": "2021-12-14T22:04:50.265Z"
   },
   {
    "duration": 11,
    "start_time": "2021-12-14T22:04:50.271Z"
   },
   {
    "duration": 35,
    "start_time": "2021-12-14T22:04:50.283Z"
   },
   {
    "duration": 18,
    "start_time": "2021-12-14T22:04:50.321Z"
   },
   {
    "duration": 7,
    "start_time": "2021-12-14T22:04:50.341Z"
   },
   {
    "duration": 184,
    "start_time": "2021-12-14T22:04:50.351Z"
   },
   {
    "duration": 571,
    "start_time": "2021-12-14T22:04:50.536Z"
   },
   {
    "duration": 66,
    "start_time": "2021-12-14T22:04:51.109Z"
   },
   {
    "duration": 28,
    "start_time": "2021-12-14T22:04:51.177Z"
   },
   {
    "duration": 6,
    "start_time": "2021-12-14T22:04:51.207Z"
   },
   {
    "duration": 24,
    "start_time": "2021-12-14T22:04:51.214Z"
   },
   {
    "duration": 38,
    "start_time": "2021-12-14T22:04:51.239Z"
   },
   {
    "duration": 7,
    "start_time": "2021-12-14T22:04:51.278Z"
   },
   {
    "duration": 28,
    "start_time": "2021-12-14T22:04:51.289Z"
   },
   {
    "duration": 40,
    "start_time": "2021-12-14T22:04:51.319Z"
   },
   {
    "duration": 39,
    "start_time": "2021-12-14T22:04:51.360Z"
   },
   {
    "duration": 3,
    "start_time": "2021-12-14T22:04:51.401Z"
   },
   {
    "duration": 273,
    "start_time": "2021-12-14T22:04:51.406Z"
   },
   {
    "duration": 245,
    "start_time": "2021-12-14T22:04:51.681Z"
   },
   {
    "duration": 352,
    "start_time": "2021-12-14T22:04:51.927Z"
   },
   {
    "duration": 5,
    "start_time": "2021-12-14T22:04:52.281Z"
   },
   {
    "duration": 211,
    "start_time": "2021-12-14T22:04:52.288Z"
   },
   {
    "duration": 5,
    "start_time": "2021-12-14T22:04:52.501Z"
   },
   {
    "duration": 221,
    "start_time": "2021-12-14T22:04:52.508Z"
   },
   {
    "duration": 6,
    "start_time": "2021-12-14T22:04:52.731Z"
   },
   {
    "duration": 9,
    "start_time": "2021-12-14T22:04:52.738Z"
   },
   {
    "duration": 15,
    "start_time": "2021-12-14T22:04:52.748Z"
   },
   {
    "duration": 16,
    "start_time": "2021-12-14T22:04:52.765Z"
   },
   {
    "duration": 240,
    "start_time": "2021-12-14T22:04:52.782Z"
   },
   {
    "duration": 22,
    "start_time": "2021-12-14T22:04:53.024Z"
   },
   {
    "duration": 262,
    "start_time": "2021-12-14T22:04:53.048Z"
   },
   {
    "duration": 3,
    "start_time": "2021-12-14T22:14:30.642Z"
   },
   {
    "duration": 332,
    "start_time": "2021-12-14T22:15:42.365Z"
   },
   {
    "duration": 28,
    "start_time": "2021-12-14T22:15:53.947Z"
   },
   {
    "duration": 1168,
    "start_time": "2021-12-14T22:16:00.058Z"
   },
   {
    "duration": 738,
    "start_time": "2021-12-14T22:16:01.228Z"
   },
   {
    "duration": 7,
    "start_time": "2021-12-14T22:16:01.968Z"
   },
   {
    "duration": 10,
    "start_time": "2021-12-14T22:16:01.977Z"
   },
   {
    "duration": 17,
    "start_time": "2021-12-14T22:16:01.989Z"
   },
   {
    "duration": 12,
    "start_time": "2021-12-14T22:16:02.008Z"
   },
   {
    "duration": 19,
    "start_time": "2021-12-14T22:16:02.022Z"
   },
   {
    "duration": 196,
    "start_time": "2021-12-14T22:16:02.043Z"
   },
   {
    "duration": 4,
    "start_time": "2021-12-14T22:16:02.241Z"
   },
   {
    "duration": 16,
    "start_time": "2021-12-14T22:16:02.248Z"
   },
   {
    "duration": 33,
    "start_time": "2021-12-14T22:16:02.266Z"
   },
   {
    "duration": 32,
    "start_time": "2021-12-14T22:16:02.301Z"
   },
   {
    "duration": 12,
    "start_time": "2021-12-14T22:16:02.335Z"
   },
   {
    "duration": 164,
    "start_time": "2021-12-14T22:16:02.348Z"
   },
   {
    "duration": 653,
    "start_time": "2021-12-14T22:16:02.514Z"
   },
   {
    "duration": 48,
    "start_time": "2021-12-14T22:16:03.169Z"
   },
   {
    "duration": 52,
    "start_time": "2021-12-14T22:16:03.218Z"
   },
   {
    "duration": 7,
    "start_time": "2021-12-14T22:16:03.272Z"
   },
   {
    "duration": 19,
    "start_time": "2021-12-14T22:16:03.281Z"
   },
   {
    "duration": 19,
    "start_time": "2021-12-14T22:16:03.302Z"
   },
   {
    "duration": 4,
    "start_time": "2021-12-14T22:16:03.323Z"
   },
   {
    "duration": 49,
    "start_time": "2021-12-14T22:16:03.328Z"
   },
   {
    "duration": 3,
    "start_time": "2021-12-14T22:16:03.378Z"
   },
   {
    "duration": 9,
    "start_time": "2021-12-14T22:16:03.382Z"
   },
   {
    "duration": 270,
    "start_time": "2021-12-14T22:16:03.393Z"
   },
   {
    "duration": 246,
    "start_time": "2021-12-14T22:16:03.665Z"
   },
   {
    "duration": 351,
    "start_time": "2021-12-14T22:16:03.914Z"
   },
   {
    "duration": 5,
    "start_time": "2021-12-14T22:16:04.267Z"
   },
   {
    "duration": 207,
    "start_time": "2021-12-14T22:16:04.274Z"
   },
   {
    "duration": 5,
    "start_time": "2021-12-14T22:16:04.483Z"
   },
   {
    "duration": 200,
    "start_time": "2021-12-14T22:16:04.490Z"
   },
   {
    "duration": 6,
    "start_time": "2021-12-14T22:16:04.692Z"
   },
   {
    "duration": 5,
    "start_time": "2021-12-14T22:16:04.699Z"
   },
   {
    "duration": 9,
    "start_time": "2021-12-14T22:16:04.706Z"
   },
   {
    "duration": 6,
    "start_time": "2021-12-14T22:16:04.716Z"
   },
   {
    "duration": 245,
    "start_time": "2021-12-14T22:16:04.724Z"
   },
   {
    "duration": 21,
    "start_time": "2021-12-14T22:16:04.970Z"
   },
   {
    "duration": 261,
    "start_time": "2021-12-14T22:16:04.993Z"
   },
   {
    "duration": 5,
    "start_time": "2021-12-14T22:16:26.060Z"
   },
   {
    "duration": 1136,
    "start_time": "2021-12-14T22:17:09.277Z"
   },
   {
    "duration": 719,
    "start_time": "2021-12-14T22:17:10.416Z"
   },
   {
    "duration": 6,
    "start_time": "2021-12-14T22:17:11.137Z"
   },
   {
    "duration": 10,
    "start_time": "2021-12-14T22:17:11.145Z"
   },
   {
    "duration": 13,
    "start_time": "2021-12-14T22:17:11.157Z"
   },
   {
    "duration": 4,
    "start_time": "2021-12-14T22:17:11.172Z"
   },
   {
    "duration": 10,
    "start_time": "2021-12-14T22:17:11.177Z"
   },
   {
    "duration": 206,
    "start_time": "2021-12-14T22:17:11.189Z"
   },
   {
    "duration": 5,
    "start_time": "2021-12-14T22:17:11.397Z"
   },
   {
    "duration": 8,
    "start_time": "2021-12-14T22:17:11.403Z"
   },
   {
    "duration": 29,
    "start_time": "2021-12-14T22:17:11.413Z"
   },
   {
    "duration": 20,
    "start_time": "2021-12-14T22:17:11.444Z"
   },
   {
    "duration": 4,
    "start_time": "2021-12-14T22:17:11.466Z"
   },
   {
    "duration": 149,
    "start_time": "2021-12-14T22:17:11.472Z"
   },
   {
    "duration": 495,
    "start_time": "2021-12-14T22:17:11.623Z"
   },
   {
    "duration": 58,
    "start_time": "2021-12-14T22:17:12.120Z"
   },
   {
    "duration": 28,
    "start_time": "2021-12-14T22:17:12.179Z"
   },
   {
    "duration": 5,
    "start_time": "2021-12-14T22:17:12.209Z"
   },
   {
    "duration": 22,
    "start_time": "2021-12-14T22:17:12.216Z"
   },
   {
    "duration": 39,
    "start_time": "2021-12-14T22:17:12.239Z"
   },
   {
    "duration": 3,
    "start_time": "2021-12-14T22:17:12.280Z"
   },
   {
    "duration": 16,
    "start_time": "2021-12-14T22:17:12.285Z"
   },
   {
    "duration": 2,
    "start_time": "2021-12-14T22:17:12.305Z"
   },
   {
    "duration": 6,
    "start_time": "2021-12-14T22:17:12.308Z"
   },
   {
    "duration": 271,
    "start_time": "2021-12-14T22:17:12.316Z"
   },
   {
    "duration": 240,
    "start_time": "2021-12-14T22:17:12.589Z"
   },
   {
    "duration": 335,
    "start_time": "2021-12-14T22:17:12.831Z"
   },
   {
    "duration": 5,
    "start_time": "2021-12-14T22:17:13.168Z"
   },
   {
    "duration": 200,
    "start_time": "2021-12-14T22:17:13.175Z"
   },
   {
    "duration": 5,
    "start_time": "2021-12-14T22:17:13.376Z"
   },
   {
    "duration": 204,
    "start_time": "2021-12-14T22:17:13.382Z"
   },
   {
    "duration": 6,
    "start_time": "2021-12-14T22:17:13.588Z"
   },
   {
    "duration": 7,
    "start_time": "2021-12-14T22:17:13.596Z"
   },
   {
    "duration": 12,
    "start_time": "2021-12-14T22:17:13.604Z"
   },
   {
    "duration": 9,
    "start_time": "2021-12-14T22:17:13.618Z"
   },
   {
    "duration": 279,
    "start_time": "2021-12-14T22:17:13.628Z"
   },
   {
    "duration": 22,
    "start_time": "2021-12-14T22:17:13.909Z"
   },
   {
    "duration": 254,
    "start_time": "2021-12-14T22:17:13.933Z"
   },
   {
    "duration": 188,
    "start_time": "2021-12-14T22:18:13.900Z"
   },
   {
    "duration": 190,
    "start_time": "2021-12-14T22:18:23.365Z"
   },
   {
    "duration": 199,
    "start_time": "2021-12-14T22:18:39.998Z"
   },
   {
    "duration": 242,
    "start_time": "2021-12-14T22:19:09.700Z"
   },
   {
    "duration": 5,
    "start_time": "2021-12-14T22:20:11.323Z"
   },
   {
    "duration": 99,
    "start_time": "2021-12-14T22:20:52.504Z"
   },
   {
    "duration": 8,
    "start_time": "2021-12-14T22:21:03.470Z"
   },
   {
    "duration": 6,
    "start_time": "2021-12-14T22:21:38.559Z"
   },
   {
    "duration": 1178,
    "start_time": "2021-12-14T22:21:45.040Z"
   },
   {
    "duration": 726,
    "start_time": "2021-12-14T22:21:46.220Z"
   },
   {
    "duration": 13,
    "start_time": "2021-12-14T22:21:46.951Z"
   },
   {
    "duration": 3,
    "start_time": "2021-12-14T22:21:46.965Z"
   },
   {
    "duration": 10,
    "start_time": "2021-12-14T22:21:46.970Z"
   },
   {
    "duration": 4,
    "start_time": "2021-12-14T22:21:46.982Z"
   },
   {
    "duration": 6,
    "start_time": "2021-12-14T22:21:46.988Z"
   },
   {
    "duration": 204,
    "start_time": "2021-12-14T22:21:46.996Z"
   },
   {
    "duration": 4,
    "start_time": "2021-12-14T22:21:47.202Z"
   },
   {
    "duration": 4,
    "start_time": "2021-12-14T22:21:47.210Z"
   },
   {
    "duration": 24,
    "start_time": "2021-12-14T22:21:47.216Z"
   },
   {
    "duration": 24,
    "start_time": "2021-12-14T22:21:47.242Z"
   },
   {
    "duration": 4,
    "start_time": "2021-12-14T22:21:47.268Z"
   },
   {
    "duration": 160,
    "start_time": "2021-12-14T22:21:47.273Z"
   },
   {
    "duration": 501,
    "start_time": "2021-12-14T22:21:47.435Z"
   },
   {
    "duration": 53,
    "start_time": "2021-12-14T22:21:47.938Z"
   },
   {
    "duration": 27,
    "start_time": "2021-12-14T22:21:47.993Z"
   },
   {
    "duration": 5,
    "start_time": "2021-12-14T22:21:48.022Z"
   },
   {
    "duration": 41,
    "start_time": "2021-12-14T22:21:48.029Z"
   },
   {
    "duration": 20,
    "start_time": "2021-12-14T22:21:48.072Z"
   },
   {
    "duration": 3,
    "start_time": "2021-12-14T22:21:48.094Z"
   },
   {
    "duration": 15,
    "start_time": "2021-12-14T22:21:48.100Z"
   },
   {
    "duration": 3,
    "start_time": "2021-12-14T22:21:48.117Z"
   },
   {
    "duration": 9,
    "start_time": "2021-12-14T22:21:48.121Z"
   },
   {
    "duration": 263,
    "start_time": "2021-12-14T22:21:48.132Z"
   },
   {
    "duration": 249,
    "start_time": "2021-12-14T22:21:48.397Z"
   },
   {
    "duration": 331,
    "start_time": "2021-12-14T22:21:48.648Z"
   },
   {
    "duration": 194,
    "start_time": "2021-12-14T22:21:48.981Z"
   },
   {
    "duration": 202,
    "start_time": "2021-12-14T22:21:49.177Z"
   },
   {
    "duration": 7,
    "start_time": "2021-12-14T22:21:49.381Z"
   },
   {
    "duration": 16,
    "start_time": "2021-12-14T22:21:49.390Z"
   },
   {
    "duration": 16,
    "start_time": "2021-12-14T22:21:49.407Z"
   },
   {
    "duration": 44,
    "start_time": "2021-12-14T22:21:49.425Z"
   },
   {
    "duration": 231,
    "start_time": "2021-12-14T22:21:49.470Z"
   },
   {
    "duration": 22,
    "start_time": "2021-12-14T22:21:49.703Z"
   },
   {
    "duration": 264,
    "start_time": "2021-12-14T22:21:49.727Z"
   },
   {
    "duration": 175,
    "start_time": "2021-12-14T22:22:17.232Z"
   },
   {
    "duration": 167,
    "start_time": "2021-12-14T22:22:23.166Z"
   },
   {
    "duration": 174,
    "start_time": "2021-12-14T22:22:30.289Z"
   },
   {
    "duration": 5,
    "start_time": "2021-12-14T22:22:32.169Z"
   },
   {
    "duration": 163,
    "start_time": "2021-12-14T22:22:32.656Z"
   },
   {
    "duration": 182,
    "start_time": "2021-12-14T22:22:43.894Z"
   },
   {
    "duration": 1098,
    "start_time": "2021-12-14T22:23:07.211Z"
   },
   {
    "duration": 731,
    "start_time": "2021-12-14T22:23:08.311Z"
   },
   {
    "duration": 6,
    "start_time": "2021-12-14T22:23:09.044Z"
   },
   {
    "duration": 14,
    "start_time": "2021-12-14T22:23:09.051Z"
   },
   {
    "duration": 16,
    "start_time": "2021-12-14T22:23:09.066Z"
   },
   {
    "duration": 4,
    "start_time": "2021-12-14T22:23:09.083Z"
   },
   {
    "duration": 178,
    "start_time": "2021-12-14T22:23:09.089Z"
   },
   {
    "duration": 4,
    "start_time": "2021-12-14T22:23:09.268Z"
   },
   {
    "duration": 173,
    "start_time": "2021-12-14T22:23:09.275Z"
   },
   {
    "duration": 181,
    "start_time": "2021-12-14T22:23:09.450Z"
   },
   {
    "duration": 5,
    "start_time": "2021-12-14T22:23:09.632Z"
   },
   {
    "duration": 8,
    "start_time": "2021-12-14T22:23:09.638Z"
   },
   {
    "duration": 32,
    "start_time": "2021-12-14T22:23:09.648Z"
   },
   {
    "duration": 9,
    "start_time": "2021-12-14T22:23:09.681Z"
   },
   {
    "duration": 6,
    "start_time": "2021-12-14T22:23:09.692Z"
   },
   {
    "duration": 158,
    "start_time": "2021-12-14T22:23:09.700Z"
   },
   {
    "duration": 471,
    "start_time": "2021-12-14T22:23:09.863Z"
   },
   {
    "duration": 52,
    "start_time": "2021-12-14T22:23:10.336Z"
   },
   {
    "duration": 26,
    "start_time": "2021-12-14T22:23:10.389Z"
   },
   {
    "duration": 5,
    "start_time": "2021-12-14T22:23:10.417Z"
   },
   {
    "duration": 40,
    "start_time": "2021-12-14T22:23:10.424Z"
   },
   {
    "duration": 35,
    "start_time": "2021-12-14T22:23:10.465Z"
   },
   {
    "duration": 2,
    "start_time": "2021-12-14T22:23:10.502Z"
   },
   {
    "duration": 29,
    "start_time": "2021-12-14T22:23:10.506Z"
   },
   {
    "duration": 17,
    "start_time": "2021-12-14T22:23:10.537Z"
   },
   {
    "duration": 19,
    "start_time": "2021-12-14T22:23:10.556Z"
   },
   {
    "duration": 338,
    "start_time": "2021-12-14T22:23:10.579Z"
   },
   {
    "duration": 255,
    "start_time": "2021-12-14T22:23:10.919Z"
   },
   {
    "duration": 248,
    "start_time": "2021-12-14T22:23:11.176Z"
   },
   {
    "duration": 190,
    "start_time": "2021-12-14T22:23:11.426Z"
   },
   {
    "duration": 199,
    "start_time": "2021-12-14T22:23:11.618Z"
   },
   {
    "duration": 5,
    "start_time": "2021-12-14T22:23:11.819Z"
   },
   {
    "duration": 32,
    "start_time": "2021-12-14T22:23:11.826Z"
   },
   {
    "duration": 17,
    "start_time": "2021-12-14T22:23:11.860Z"
   },
   {
    "duration": 22,
    "start_time": "2021-12-14T22:23:11.879Z"
   },
   {
    "duration": 242,
    "start_time": "2021-12-14T22:23:11.902Z"
   },
   {
    "duration": 30,
    "start_time": "2021-12-14T22:23:12.145Z"
   },
   {
    "duration": 250,
    "start_time": "2021-12-14T22:23:12.177Z"
   },
   {
    "duration": 180,
    "start_time": "2021-12-14T22:23:37.558Z"
   },
   {
    "duration": 1191,
    "start_time": "2021-12-14T22:24:06.737Z"
   },
   {
    "duration": 728,
    "start_time": "2021-12-14T22:24:07.930Z"
   },
   {
    "duration": 6,
    "start_time": "2021-12-14T22:24:08.663Z"
   },
   {
    "duration": 10,
    "start_time": "2021-12-14T22:24:08.671Z"
   },
   {
    "duration": 13,
    "start_time": "2021-12-14T22:24:08.683Z"
   },
   {
    "duration": 181,
    "start_time": "2021-12-14T22:24:08.697Z"
   },
   {
    "duration": 191,
    "start_time": "2021-12-14T22:24:08.881Z"
   },
   {
    "duration": 190,
    "start_time": "2021-12-14T22:24:09.075Z"
   },
   {
    "duration": 4,
    "start_time": "2021-12-14T22:24:09.266Z"
   },
   {
    "duration": 8,
    "start_time": "2021-12-14T22:24:09.272Z"
   },
   {
    "duration": 26,
    "start_time": "2021-12-14T22:24:09.281Z"
   },
   {
    "duration": 7,
    "start_time": "2021-12-14T22:24:09.309Z"
   },
   {
    "duration": 6,
    "start_time": "2021-12-14T22:24:09.317Z"
   },
   {
    "duration": 159,
    "start_time": "2021-12-14T22:24:09.324Z"
   },
   {
    "duration": 474,
    "start_time": "2021-12-14T22:24:09.485Z"
   },
   {
    "duration": 46,
    "start_time": "2021-12-14T22:24:09.961Z"
   },
   {
    "duration": 29,
    "start_time": "2021-12-14T22:24:10.009Z"
   },
   {
    "duration": 27,
    "start_time": "2021-12-14T22:24:10.039Z"
   },
   {
    "duration": 18,
    "start_time": "2021-12-14T22:24:10.068Z"
   },
   {
    "duration": 19,
    "start_time": "2021-12-14T22:24:10.088Z"
   },
   {
    "duration": 3,
    "start_time": "2021-12-14T22:24:10.109Z"
   },
   {
    "duration": 20,
    "start_time": "2021-12-14T22:24:10.116Z"
   },
   {
    "duration": 25,
    "start_time": "2021-12-14T22:24:10.138Z"
   },
   {
    "duration": 4,
    "start_time": "2021-12-14T22:24:10.165Z"
   },
   {
    "duration": 346,
    "start_time": "2021-12-14T22:24:10.171Z"
   },
   {
    "duration": 247,
    "start_time": "2021-12-14T22:24:10.518Z"
   },
   {
    "duration": 244,
    "start_time": "2021-12-14T22:24:10.767Z"
   },
   {
    "duration": 205,
    "start_time": "2021-12-14T22:24:11.013Z"
   },
   {
    "duration": 203,
    "start_time": "2021-12-14T22:24:11.220Z"
   },
   {
    "duration": 5,
    "start_time": "2021-12-14T22:24:11.425Z"
   },
   {
    "duration": 52,
    "start_time": "2021-12-14T22:24:11.432Z"
   },
   {
    "duration": 42,
    "start_time": "2021-12-14T22:24:11.486Z"
   },
   {
    "duration": 28,
    "start_time": "2021-12-14T22:24:11.529Z"
   },
   {
    "duration": 258,
    "start_time": "2021-12-14T22:24:11.559Z"
   },
   {
    "duration": 22,
    "start_time": "2021-12-14T22:24:11.819Z"
   },
   {
    "duration": 264,
    "start_time": "2021-12-14T22:24:11.843Z"
   },
   {
    "duration": 167,
    "start_time": "2021-12-14T22:26:54.743Z"
   },
   {
    "duration": 160,
    "start_time": "2021-12-14T22:27:06.153Z"
   },
   {
    "duration": 1550,
    "start_time": "2021-12-15T09:07:41.903Z"
   },
   {
    "duration": 873,
    "start_time": "2021-12-15T09:07:43.456Z"
   },
   {
    "duration": 9,
    "start_time": "2021-12-15T09:07:44.332Z"
   },
   {
    "duration": 6,
    "start_time": "2021-12-15T09:07:44.343Z"
   },
   {
    "duration": 13,
    "start_time": "2021-12-15T09:07:44.352Z"
   },
   {
    "duration": 310,
    "start_time": "2021-12-15T09:07:44.367Z"
   },
   {
    "duration": 305,
    "start_time": "2021-12-15T09:07:44.681Z"
   },
   {
    "duration": 6,
    "start_time": "2021-12-15T09:07:44.990Z"
   },
   {
    "duration": 25,
    "start_time": "2021-12-15T09:07:44.998Z"
   },
   {
    "duration": 55,
    "start_time": "2021-12-15T09:07:45.025Z"
   },
   {
    "duration": 11,
    "start_time": "2021-12-15T09:07:45.083Z"
   },
   {
    "duration": 18,
    "start_time": "2021-12-15T09:07:45.097Z"
   },
   {
    "duration": 246,
    "start_time": "2021-12-15T09:07:45.118Z"
   },
   {
    "duration": 812,
    "start_time": "2021-12-15T09:07:45.367Z"
   },
   {
    "duration": 146,
    "start_time": "2021-12-15T09:07:46.182Z"
   },
   {
    "duration": 94,
    "start_time": "2021-12-15T09:07:46.331Z"
   },
   {
    "duration": 10,
    "start_time": "2021-12-15T09:07:46.429Z"
   },
   {
    "duration": 64,
    "start_time": "2021-12-15T09:07:46.442Z"
   },
   {
    "duration": 39,
    "start_time": "2021-12-15T09:07:46.509Z"
   },
   {
    "duration": 5,
    "start_time": "2021-12-15T09:07:46.551Z"
   },
   {
    "duration": 38,
    "start_time": "2021-12-15T09:07:46.559Z"
   },
   {
    "duration": 21,
    "start_time": "2021-12-15T09:07:46.602Z"
   },
   {
    "duration": 24,
    "start_time": "2021-12-15T09:07:46.629Z"
   },
   {
    "duration": 469,
    "start_time": "2021-12-15T09:07:46.657Z"
   },
   {
    "duration": 500,
    "start_time": "2021-12-15T09:07:47.129Z"
   },
   {
    "duration": 420,
    "start_time": "2021-12-15T09:07:47.631Z"
   },
   {
    "duration": 331,
    "start_time": "2021-12-15T09:07:48.053Z"
   },
   {
    "duration": 369,
    "start_time": "2021-12-15T09:07:48.386Z"
   },
   {
    "duration": 8,
    "start_time": "2021-12-15T09:07:48.758Z"
   },
   {
    "duration": 30,
    "start_time": "2021-12-15T09:07:48.768Z"
   },
   {
    "duration": 31,
    "start_time": "2021-12-15T09:07:48.800Z"
   },
   {
    "duration": 17,
    "start_time": "2021-12-15T09:07:48.833Z"
   },
   {
    "duration": 416,
    "start_time": "2021-12-15T09:07:48.852Z"
   },
   {
    "duration": 25,
    "start_time": "2021-12-15T09:07:49.270Z"
   },
   {
    "duration": 449,
    "start_time": "2021-12-15T09:07:49.297Z"
   },
   {
    "duration": 1420,
    "start_time": "2021-12-15T11:01:53.541Z"
   },
   {
    "duration": 808,
    "start_time": "2021-12-15T11:01:54.963Z"
   },
   {
    "duration": 9,
    "start_time": "2021-12-15T11:01:55.774Z"
   },
   {
    "duration": 5,
    "start_time": "2021-12-15T11:01:55.786Z"
   },
   {
    "duration": 30,
    "start_time": "2021-12-15T11:01:55.793Z"
   },
   {
    "duration": 284,
    "start_time": "2021-12-15T11:01:55.825Z"
   },
   {
    "duration": 294,
    "start_time": "2021-12-15T11:01:56.111Z"
   },
   {
    "duration": 19,
    "start_time": "2021-12-15T11:01:56.409Z"
   },
   {
    "duration": 21,
    "start_time": "2021-12-15T11:01:56.431Z"
   },
   {
    "duration": 52,
    "start_time": "2021-12-15T11:01:56.455Z"
   },
   {
    "duration": 10,
    "start_time": "2021-12-15T11:01:56.510Z"
   },
   {
    "duration": 25,
    "start_time": "2021-12-15T11:01:56.523Z"
   },
   {
    "duration": 255,
    "start_time": "2021-12-15T11:01:56.551Z"
   },
   {
    "duration": 651,
    "start_time": "2021-12-15T11:01:56.809Z"
   },
   {
    "duration": 93,
    "start_time": "2021-12-15T11:01:57.463Z"
   },
   {
    "duration": 64,
    "start_time": "2021-12-15T11:01:57.559Z"
   },
   {
    "duration": 8,
    "start_time": "2021-12-15T11:01:57.626Z"
   },
   {
    "duration": 34,
    "start_time": "2021-12-15T11:01:57.636Z"
   },
   {
    "duration": 25,
    "start_time": "2021-12-15T11:01:57.672Z"
   },
   {
    "duration": 25,
    "start_time": "2021-12-15T11:01:57.699Z"
   },
   {
    "duration": 27,
    "start_time": "2021-12-15T11:01:57.726Z"
   },
   {
    "duration": 12,
    "start_time": "2021-12-15T11:01:57.755Z"
   },
   {
    "duration": 12,
    "start_time": "2021-12-15T11:01:57.772Z"
   },
   {
    "duration": 422,
    "start_time": "2021-12-15T11:01:57.787Z"
   },
   {
    "duration": 480,
    "start_time": "2021-12-15T11:01:58.222Z"
   },
   {
    "duration": 410,
    "start_time": "2021-12-15T11:01:58.704Z"
   },
   {
    "duration": 355,
    "start_time": "2021-12-15T11:01:59.116Z"
   },
   {
    "duration": 352,
    "start_time": "2021-12-15T11:01:59.474Z"
   },
   {
    "duration": 8,
    "start_time": "2021-12-15T11:01:59.828Z"
   },
   {
    "duration": 36,
    "start_time": "2021-12-15T11:01:59.838Z"
   },
   {
    "duration": 35,
    "start_time": "2021-12-15T11:01:59.877Z"
   },
   {
    "duration": 17,
    "start_time": "2021-12-15T11:01:59.914Z"
   },
   {
    "duration": 387,
    "start_time": "2021-12-15T11:01:59.934Z"
   },
   {
    "duration": 27,
    "start_time": "2021-12-15T11:02:00.324Z"
   },
   {
    "duration": 414,
    "start_time": "2021-12-15T11:02:00.353Z"
   },
   {
    "duration": 4,
    "start_time": "2021-12-15T11:02:00.770Z"
   },
   {
    "duration": 29,
    "start_time": "2021-12-15T11:02:00.777Z"
   },
   {
    "duration": 5,
    "start_time": "2021-12-15T11:06:19.943Z"
   },
   {
    "duration": 1673,
    "start_time": "2021-12-15T11:08:32.161Z"
   },
   {
    "duration": 1006,
    "start_time": "2021-12-15T11:08:33.838Z"
   },
   {
    "duration": 9,
    "start_time": "2021-12-15T11:08:34.847Z"
   },
   {
    "duration": 10,
    "start_time": "2021-12-15T11:08:34.858Z"
   },
   {
    "duration": 20,
    "start_time": "2021-12-15T11:08:34.870Z"
   },
   {
    "duration": 316,
    "start_time": "2021-12-15T11:08:34.893Z"
   },
   {
    "duration": 302,
    "start_time": "2021-12-15T11:08:35.212Z"
   },
   {
    "duration": 7,
    "start_time": "2021-12-15T11:08:35.527Z"
   },
   {
    "duration": 13,
    "start_time": "2021-12-15T11:08:35.538Z"
   },
   {
    "duration": 50,
    "start_time": "2021-12-15T11:08:35.553Z"
   },
   {
    "duration": 26,
    "start_time": "2021-12-15T11:08:35.606Z"
   },
   {
    "duration": 18,
    "start_time": "2021-12-15T11:08:35.635Z"
   },
   {
    "duration": 28,
    "start_time": "2021-12-15T11:08:35.656Z"
   },
   {
    "duration": 231,
    "start_time": "2021-12-15T11:08:35.686Z"
   },
   {
    "duration": 649,
    "start_time": "2021-12-15T11:08:35.924Z"
   },
   {
    "duration": 91,
    "start_time": "2021-12-15T11:08:36.576Z"
   },
   {
    "duration": 69,
    "start_time": "2021-12-15T11:08:36.669Z"
   },
   {
    "duration": 8,
    "start_time": "2021-12-15T11:08:36.740Z"
   },
   {
    "duration": 28,
    "start_time": "2021-12-15T11:08:36.750Z"
   },
   {
    "duration": 51,
    "start_time": "2021-12-15T11:08:36.780Z"
   },
   {
    "duration": 3,
    "start_time": "2021-12-15T11:08:36.834Z"
   },
   {
    "duration": 17,
    "start_time": "2021-12-15T11:08:36.840Z"
   },
   {
    "duration": 3,
    "start_time": "2021-12-15T11:08:36.861Z"
   },
   {
    "duration": 10,
    "start_time": "2021-12-15T11:08:36.867Z"
   },
   {
    "duration": 417,
    "start_time": "2021-12-15T11:08:36.880Z"
   },
   {
    "duration": 463,
    "start_time": "2021-12-15T11:08:37.300Z"
   },
   {
    "duration": 415,
    "start_time": "2021-12-15T11:08:37.765Z"
   },
   {
    "duration": 353,
    "start_time": "2021-12-15T11:08:38.183Z"
   },
   {
    "duration": 353,
    "start_time": "2021-12-15T11:08:38.539Z"
   },
   {
    "duration": 8,
    "start_time": "2021-12-15T11:08:38.895Z"
   },
   {
    "duration": 32,
    "start_time": "2021-12-15T11:08:38.906Z"
   },
   {
    "duration": 17,
    "start_time": "2021-12-15T11:08:38.940Z"
   },
   {
    "duration": 18,
    "start_time": "2021-12-15T11:08:38.960Z"
   },
   {
    "duration": 404,
    "start_time": "2021-12-15T11:08:38.981Z"
   },
   {
    "duration": 39,
    "start_time": "2021-12-15T11:08:39.387Z"
   },
   {
    "duration": 423,
    "start_time": "2021-12-15T11:08:39.429Z"
   },
   {
    "duration": 5,
    "start_time": "2021-12-15T11:08:39.854Z"
   },
   {
    "duration": 6,
    "start_time": "2021-12-15T11:08:39.861Z"
   },
   {
    "duration": 7,
    "start_time": "2021-12-15T11:08:39.870Z"
   },
   {
    "duration": 1511,
    "start_time": "2021-12-15T11:09:58.202Z"
   },
   {
    "duration": 872,
    "start_time": "2021-12-15T11:09:59.716Z"
   },
   {
    "duration": 9,
    "start_time": "2021-12-15T11:10:00.592Z"
   },
   {
    "duration": 22,
    "start_time": "2021-12-15T11:10:00.603Z"
   },
   {
    "duration": 20,
    "start_time": "2021-12-15T11:10:00.627Z"
   },
   {
    "duration": 304,
    "start_time": "2021-12-15T11:10:00.649Z"
   },
   {
    "duration": 311,
    "start_time": "2021-12-15T11:10:00.956Z"
   },
   {
    "duration": 7,
    "start_time": "2021-12-15T11:10:01.271Z"
   },
   {
    "duration": 26,
    "start_time": "2021-12-15T11:10:01.281Z"
   },
   {
    "duration": 54,
    "start_time": "2021-12-15T11:10:01.310Z"
   },
   {
    "duration": 11,
    "start_time": "2021-12-15T11:10:01.367Z"
   },
   {
    "duration": 27,
    "start_time": "2021-12-15T11:10:01.381Z"
   },
   {
    "duration": 18,
    "start_time": "2021-12-15T11:10:01.411Z"
   },
   {
    "duration": 250,
    "start_time": "2021-12-15T11:10:01.432Z"
   },
   {
    "duration": 715,
    "start_time": "2021-12-15T11:10:01.686Z"
   },
   {
    "duration": 88,
    "start_time": "2021-12-15T11:10:02.404Z"
   },
   {
    "duration": 74,
    "start_time": "2021-12-15T11:10:02.494Z"
   },
   {
    "duration": 7,
    "start_time": "2021-12-15T11:10:02.571Z"
   },
   {
    "duration": 61,
    "start_time": "2021-12-15T11:10:02.580Z"
   },
   {
    "duration": 83,
    "start_time": "2021-12-15T11:10:02.645Z"
   },
   {
    "duration": 28,
    "start_time": "2021-12-15T11:10:02.732Z"
   },
   {
    "duration": 5,
    "start_time": "2021-12-15T11:10:02.763Z"
   },
   {
    "duration": 50,
    "start_time": "2021-12-15T11:10:02.773Z"
   },
   {
    "duration": 3,
    "start_time": "2021-12-15T11:10:02.826Z"
   },
   {
    "duration": 11,
    "start_time": "2021-12-15T11:10:02.831Z"
   },
   {
    "duration": 469,
    "start_time": "2021-12-15T11:10:02.844Z"
   },
   {
    "duration": 502,
    "start_time": "2021-12-15T11:10:03.324Z"
   },
   {
    "duration": 415,
    "start_time": "2021-12-15T11:10:03.828Z"
   },
   {
    "duration": 345,
    "start_time": "2021-12-15T11:10:04.245Z"
   },
   {
    "duration": 366,
    "start_time": "2021-12-15T11:10:04.592Z"
   },
   {
    "duration": 8,
    "start_time": "2021-12-15T11:10:04.960Z"
   },
   {
    "duration": 21,
    "start_time": "2021-12-15T11:10:04.971Z"
   },
   {
    "duration": 39,
    "start_time": "2021-12-15T11:10:04.995Z"
   },
   {
    "duration": 18,
    "start_time": "2021-12-15T11:10:05.037Z"
   },
   {
    "duration": 408,
    "start_time": "2021-12-15T11:10:05.057Z"
   },
   {
    "duration": 28,
    "start_time": "2021-12-15T11:10:05.468Z"
   },
   {
    "duration": 445,
    "start_time": "2021-12-15T11:10:05.498Z"
   },
   {
    "duration": 5,
    "start_time": "2021-12-15T11:10:05.946Z"
   },
   {
    "duration": 13,
    "start_time": "2021-12-15T11:10:05.953Z"
   },
   {
    "duration": 18,
    "start_time": "2021-12-15T11:10:05.968Z"
   },
   {
    "duration": 10,
    "start_time": "2021-12-15T11:11:39.722Z"
   },
   {
    "duration": 1517,
    "start_time": "2021-12-15T11:11:47.851Z"
   },
   {
    "duration": 838,
    "start_time": "2021-12-15T11:11:49.371Z"
   },
   {
    "duration": 17,
    "start_time": "2021-12-15T11:11:50.213Z"
   },
   {
    "duration": 11,
    "start_time": "2021-12-15T11:11:50.233Z"
   },
   {
    "duration": 13,
    "start_time": "2021-12-15T11:11:50.247Z"
   },
   {
    "duration": 302,
    "start_time": "2021-12-15T11:11:50.262Z"
   },
   {
    "duration": 305,
    "start_time": "2021-12-15T11:11:50.566Z"
   },
   {
    "duration": 6,
    "start_time": "2021-12-15T11:11:50.875Z"
   },
   {
    "duration": 13,
    "start_time": "2021-12-15T11:11:50.884Z"
   },
   {
    "duration": 56,
    "start_time": "2021-12-15T11:11:50.899Z"
   },
   {
    "duration": 9,
    "start_time": "2021-12-15T11:11:50.957Z"
   },
   {
    "duration": 412,
    "start_time": "2021-12-15T11:11:50.969Z"
   },
   {
    "duration": 924,
    "start_time": "2021-12-15T11:11:50.460Z"
   },
   {
    "duration": 910,
    "start_time": "2021-12-15T11:11:50.476Z"
   },
   {
    "duration": 898,
    "start_time": "2021-12-15T11:11:50.489Z"
   },
   {
    "duration": 883,
    "start_time": "2021-12-15T11:11:50.505Z"
   },
   {
    "duration": 876,
    "start_time": "2021-12-15T11:11:50.513Z"
   },
   {
    "duration": 869,
    "start_time": "2021-12-15T11:11:50.522Z"
   },
   {
    "duration": 859,
    "start_time": "2021-12-15T11:11:50.534Z"
   },
   {
    "duration": 860,
    "start_time": "2021-12-15T11:11:50.536Z"
   },
   {
    "duration": 860,
    "start_time": "2021-12-15T11:11:50.538Z"
   },
   {
    "duration": 858,
    "start_time": "2021-12-15T11:11:50.543Z"
   },
   {
    "duration": 856,
    "start_time": "2021-12-15T11:11:50.547Z"
   },
   {
    "duration": 855,
    "start_time": "2021-12-15T11:11:50.549Z"
   },
   {
    "duration": 854,
    "start_time": "2021-12-15T11:11:50.552Z"
   },
   {
    "duration": 854,
    "start_time": "2021-12-15T11:11:50.554Z"
   },
   {
    "duration": 854,
    "start_time": "2021-12-15T11:11:50.555Z"
   },
   {
    "duration": 850,
    "start_time": "2021-12-15T11:11:50.561Z"
   },
   {
    "duration": 850,
    "start_time": "2021-12-15T11:11:50.563Z"
   },
   {
    "duration": 851,
    "start_time": "2021-12-15T11:11:50.564Z"
   },
   {
    "duration": 851,
    "start_time": "2021-12-15T11:11:50.566Z"
   },
   {
    "duration": 852,
    "start_time": "2021-12-15T11:11:50.567Z"
   },
   {
    "duration": 852,
    "start_time": "2021-12-15T11:11:50.569Z"
   },
   {
    "duration": 853,
    "start_time": "2021-12-15T11:11:50.570Z"
   },
   {
    "duration": 853,
    "start_time": "2021-12-15T11:11:50.572Z"
   },
   {
    "duration": 853,
    "start_time": "2021-12-15T11:11:50.574Z"
   },
   {
    "duration": 853,
    "start_time": "2021-12-15T11:11:50.576Z"
   },
   {
    "duration": 854,
    "start_time": "2021-12-15T11:11:50.578Z"
   },
   {
    "duration": 855,
    "start_time": "2021-12-15T11:11:50.579Z"
   },
   {
    "duration": 855,
    "start_time": "2021-12-15T11:11:50.581Z"
   },
   {
    "duration": 1471,
    "start_time": "2021-12-15T11:12:22.231Z"
   },
   {
    "duration": 1492,
    "start_time": "2021-12-15T11:12:23.705Z"
   },
   {
    "duration": 8,
    "start_time": "2021-12-15T11:12:25.200Z"
   },
   {
    "duration": 25,
    "start_time": "2021-12-15T11:12:25.210Z"
   },
   {
    "duration": 29,
    "start_time": "2021-12-15T11:12:25.237Z"
   },
   {
    "duration": 293,
    "start_time": "2021-12-15T11:12:25.268Z"
   },
   {
    "duration": 306,
    "start_time": "2021-12-15T11:12:25.564Z"
   },
   {
    "duration": 6,
    "start_time": "2021-12-15T11:12:25.875Z"
   },
   {
    "duration": 8,
    "start_time": "2021-12-15T11:12:25.886Z"
   },
   {
    "duration": 60,
    "start_time": "2021-12-15T11:12:25.897Z"
   },
   {
    "duration": 12,
    "start_time": "2021-12-15T11:12:25.960Z"
   },
   {
    "duration": 22,
    "start_time": "2021-12-15T11:12:25.974Z"
   },
   {
    "duration": 25,
    "start_time": "2021-12-15T11:12:25.998Z"
   },
   {
    "duration": 183,
    "start_time": "2021-12-15T11:12:26.027Z"
   },
   {
    "duration": 660,
    "start_time": "2021-12-15T11:12:26.213Z"
   },
   {
    "duration": 100,
    "start_time": "2021-12-15T11:12:26.876Z"
   },
   {
    "duration": 65,
    "start_time": "2021-12-15T11:12:26.979Z"
   },
   {
    "duration": 8,
    "start_time": "2021-12-15T11:12:27.047Z"
   },
   {
    "duration": 55,
    "start_time": "2021-12-15T11:12:27.057Z"
   },
   {
    "duration": 43,
    "start_time": "2021-12-15T11:12:27.115Z"
   },
   {
    "duration": 453,
    "start_time": "2021-12-15T11:12:27.160Z"
   },
   {
    "duration": 905,
    "start_time": "2021-12-15T11:12:26.713Z"
   },
   {
    "duration": 897,
    "start_time": "2021-12-15T11:12:26.722Z"
   },
   {
    "duration": 894,
    "start_time": "2021-12-15T11:12:26.727Z"
   },
   {
    "duration": 891,
    "start_time": "2021-12-15T11:12:26.731Z"
   },
   {
    "duration": 889,
    "start_time": "2021-12-15T11:12:26.735Z"
   },
   {
    "duration": 887,
    "start_time": "2021-12-15T11:12:26.738Z"
   },
   {
    "duration": 887,
    "start_time": "2021-12-15T11:12:26.740Z"
   },
   {
    "duration": 886,
    "start_time": "2021-12-15T11:12:26.742Z"
   },
   {
    "duration": 886,
    "start_time": "2021-12-15T11:12:26.744Z"
   },
   {
    "duration": 885,
    "start_time": "2021-12-15T11:12:26.746Z"
   },
   {
    "duration": 885,
    "start_time": "2021-12-15T11:12:26.748Z"
   },
   {
    "duration": 884,
    "start_time": "2021-12-15T11:12:26.750Z"
   },
   {
    "duration": 885,
    "start_time": "2021-12-15T11:12:26.751Z"
   },
   {
    "duration": 884,
    "start_time": "2021-12-15T11:12:26.753Z"
   },
   {
    "duration": 883,
    "start_time": "2021-12-15T11:12:26.755Z"
   },
   {
    "duration": 883,
    "start_time": "2021-12-15T11:12:26.757Z"
   },
   {
    "duration": 882,
    "start_time": "2021-12-15T11:12:26.759Z"
   },
   {
    "duration": 883,
    "start_time": "2021-12-15T11:12:26.760Z"
   },
   {
    "duration": 882,
    "start_time": "2021-12-15T11:12:26.762Z"
   },
   {
    "duration": 4,
    "start_time": "2021-12-15T11:13:00.623Z"
   },
   {
    "duration": 1125,
    "start_time": "2021-12-16T11:31:30.693Z"
   },
   {
    "duration": 726,
    "start_time": "2021-12-16T11:31:31.821Z"
   },
   {
    "duration": 9,
    "start_time": "2021-12-16T11:31:32.549Z"
   },
   {
    "duration": 21,
    "start_time": "2021-12-16T11:31:32.560Z"
   },
   {
    "duration": 28,
    "start_time": "2021-12-16T11:31:32.583Z"
   },
   {
    "duration": 202,
    "start_time": "2021-12-16T11:31:32.613Z"
   },
   {
    "duration": 189,
    "start_time": "2021-12-16T11:31:32.817Z"
   },
   {
    "duration": 5,
    "start_time": "2021-12-16T11:31:33.008Z"
   },
   {
    "duration": 20,
    "start_time": "2021-12-16T11:31:33.015Z"
   },
   {
    "duration": 413,
    "start_time": "2021-12-16T11:31:33.037Z"
   },
   {
    "duration": 479,
    "start_time": "2021-12-16T11:31:32.974Z"
   },
   {
    "duration": 476,
    "start_time": "2021-12-16T11:31:32.978Z"
   },
   {
    "duration": 473,
    "start_time": "2021-12-16T11:31:32.982Z"
   },
   {
    "duration": 467,
    "start_time": "2021-12-16T11:31:32.990Z"
   },
   {
    "duration": 450,
    "start_time": "2021-12-16T11:31:33.009Z"
   },
   {
    "duration": 446,
    "start_time": "2021-12-16T11:31:33.014Z"
   },
   {
    "duration": 440,
    "start_time": "2021-12-16T11:31:33.022Z"
   },
   {
    "duration": 437,
    "start_time": "2021-12-16T11:31:33.026Z"
   },
   {
    "duration": 427,
    "start_time": "2021-12-16T11:31:33.037Z"
   },
   {
    "duration": 422,
    "start_time": "2021-12-16T11:31:33.044Z"
   },
   {
    "duration": 418,
    "start_time": "2021-12-16T11:31:33.049Z"
   },
   {
    "duration": 417,
    "start_time": "2021-12-16T11:31:33.052Z"
   },
   {
    "duration": 415,
    "start_time": "2021-12-16T11:31:33.055Z"
   },
   {
    "duration": 414,
    "start_time": "2021-12-16T11:31:33.058Z"
   },
   {
    "duration": 413,
    "start_time": "2021-12-16T11:31:33.061Z"
   },
   {
    "duration": 412,
    "start_time": "2021-12-16T11:31:33.063Z"
   },
   {
    "duration": 411,
    "start_time": "2021-12-16T11:31:33.066Z"
   },
   {
    "duration": 408,
    "start_time": "2021-12-16T11:31:33.070Z"
   },
   {
    "duration": 407,
    "start_time": "2021-12-16T11:31:33.073Z"
   },
   {
    "duration": 395,
    "start_time": "2021-12-16T11:31:33.087Z"
   },
   {
    "duration": 382,
    "start_time": "2021-12-16T11:31:33.101Z"
   },
   {
    "duration": 378,
    "start_time": "2021-12-16T11:31:33.107Z"
   },
   {
    "duration": 368,
    "start_time": "2021-12-16T11:31:33.118Z"
   },
   {
    "duration": 359,
    "start_time": "2021-12-16T11:31:33.129Z"
   },
   {
    "duration": 349,
    "start_time": "2021-12-16T11:31:33.140Z"
   },
   {
    "duration": 345,
    "start_time": "2021-12-16T11:31:33.146Z"
   },
   {
    "duration": 318,
    "start_time": "2021-12-16T11:31:33.174Z"
   },
   {
    "duration": 24,
    "start_time": "2021-12-16T11:32:33.088Z"
   },
   {
    "duration": 8,
    "start_time": "2021-12-16T11:32:39.998Z"
   },
   {
    "duration": 21,
    "start_time": "2021-12-16T11:34:06.756Z"
   },
   {
    "duration": 1202,
    "start_time": "2021-12-16T11:34:57.289Z"
   },
   {
    "duration": 688,
    "start_time": "2021-12-16T11:34:58.493Z"
   },
   {
    "duration": 7,
    "start_time": "2021-12-16T11:34:59.184Z"
   },
   {
    "duration": 13,
    "start_time": "2021-12-16T11:34:59.193Z"
   },
   {
    "duration": 17,
    "start_time": "2021-12-16T11:34:59.208Z"
   },
   {
    "duration": 182,
    "start_time": "2021-12-16T11:34:59.227Z"
   },
   {
    "duration": 185,
    "start_time": "2021-12-16T11:34:59.411Z"
   },
   {
    "duration": 5,
    "start_time": "2021-12-16T11:34:59.598Z"
   },
   {
    "duration": 16,
    "start_time": "2021-12-16T11:34:59.606Z"
   },
   {
    "duration": 54,
    "start_time": "2021-12-16T11:34:59.625Z"
   },
   {
    "duration": 3,
    "start_time": "2021-12-16T11:34:59.681Z"
   },
   {
    "duration": 156,
    "start_time": "2021-12-16T11:34:59.685Z"
   },
   {
    "duration": 887,
    "start_time": "2021-12-16T11:34:59.843Z"
   },
   {
    "duration": 55,
    "start_time": "2021-12-16T11:35:00.732Z"
   },
   {
    "duration": 27,
    "start_time": "2021-12-16T11:35:00.789Z"
   },
   {
    "duration": 30,
    "start_time": "2021-12-16T11:35:00.817Z"
   },
   {
    "duration": 20,
    "start_time": "2021-12-16T11:35:00.849Z"
   },
   {
    "duration": 52,
    "start_time": "2021-12-16T11:35:00.871Z"
   },
   {
    "duration": 19,
    "start_time": "2021-12-16T11:35:00.925Z"
   },
   {
    "duration": 59,
    "start_time": "2021-12-16T11:35:00.946Z"
   },
   {
    "duration": 10,
    "start_time": "2021-12-16T11:35:01.007Z"
   },
   {
    "duration": 38,
    "start_time": "2021-12-16T11:35:01.019Z"
   },
   {
    "duration": 298,
    "start_time": "2021-12-16T11:35:01.059Z"
   },
   {
    "duration": 321,
    "start_time": "2021-12-16T11:35:01.359Z"
   },
   {
    "duration": 252,
    "start_time": "2021-12-16T11:35:01.682Z"
   },
   {
    "duration": 203,
    "start_time": "2021-12-16T11:35:01.936Z"
   },
   {
    "duration": 211,
    "start_time": "2021-12-16T11:35:02.142Z"
   },
   {
    "duration": 6,
    "start_time": "2021-12-16T11:35:02.355Z"
   },
   {
    "duration": 26,
    "start_time": "2021-12-16T11:35:02.362Z"
   },
   {
    "duration": 25,
    "start_time": "2021-12-16T11:35:02.390Z"
   },
   {
    "duration": 14,
    "start_time": "2021-12-16T11:35:02.417Z"
   },
   {
    "duration": 255,
    "start_time": "2021-12-16T11:35:02.433Z"
   },
   {
    "duration": 20,
    "start_time": "2021-12-16T11:35:02.690Z"
   },
   {
    "duration": 283,
    "start_time": "2021-12-16T11:35:02.711Z"
   },
   {
    "duration": 4,
    "start_time": "2021-12-16T11:35:02.996Z"
   },
   {
    "duration": 33,
    "start_time": "2021-12-16T11:35:03.002Z"
   },
   {
    "duration": 649,
    "start_time": "2021-12-16T13:42:20.088Z"
   },
   {
    "duration": 1526,
    "start_time": "2021-12-16T13:42:32.212Z"
   },
   {
    "duration": 932,
    "start_time": "2021-12-16T13:42:33.740Z"
   },
   {
    "duration": 10,
    "start_time": "2021-12-16T13:42:34.676Z"
   },
   {
    "duration": 6,
    "start_time": "2021-12-16T13:42:34.690Z"
   },
   {
    "duration": 19,
    "start_time": "2021-12-16T13:42:34.698Z"
   },
   {
    "duration": 357,
    "start_time": "2021-12-16T13:42:34.720Z"
   },
   {
    "duration": 315,
    "start_time": "2021-12-16T13:42:35.081Z"
   },
   {
    "duration": 6,
    "start_time": "2021-12-16T13:42:35.402Z"
   },
   {
    "duration": 6,
    "start_time": "2021-12-16T13:42:35.412Z"
   },
   {
    "duration": 71,
    "start_time": "2021-12-16T13:42:35.421Z"
   },
   {
    "duration": 4,
    "start_time": "2021-12-16T13:42:35.494Z"
   },
   {
    "duration": 262,
    "start_time": "2021-12-16T13:42:35.500Z"
   },
   {
    "duration": 1073,
    "start_time": "2021-12-16T13:42:35.765Z"
   },
   {
    "duration": 90,
    "start_time": "2021-12-16T13:42:36.840Z"
   },
   {
    "duration": 68,
    "start_time": "2021-12-16T13:42:36.933Z"
   },
   {
    "duration": 8,
    "start_time": "2021-12-16T13:42:37.003Z"
   },
   {
    "duration": 50,
    "start_time": "2021-12-16T13:42:37.013Z"
   },
   {
    "duration": 24,
    "start_time": "2021-12-16T13:42:37.066Z"
   },
   {
    "duration": 4,
    "start_time": "2021-12-16T13:42:37.093Z"
   },
   {
    "duration": 17,
    "start_time": "2021-12-16T13:42:37.099Z"
   },
   {
    "duration": 3,
    "start_time": "2021-12-16T13:42:37.119Z"
   },
   {
    "duration": 5,
    "start_time": "2021-12-16T13:42:37.160Z"
   },
   {
    "duration": 435,
    "start_time": "2021-12-16T13:42:37.170Z"
   },
   {
    "duration": 501,
    "start_time": "2021-12-16T13:42:37.608Z"
   },
   {
    "duration": 438,
    "start_time": "2021-12-16T13:42:38.113Z"
   },
   {
    "duration": 340,
    "start_time": "2021-12-16T13:42:38.559Z"
   },
   {
    "duration": 361,
    "start_time": "2021-12-16T13:42:38.901Z"
   },
   {
    "duration": 8,
    "start_time": "2021-12-16T13:42:39.264Z"
   },
   {
    "duration": 23,
    "start_time": "2021-12-16T13:42:39.274Z"
   },
   {
    "duration": 17,
    "start_time": "2021-12-16T13:42:39.299Z"
   },
   {
    "duration": 52,
    "start_time": "2021-12-16T13:42:39.318Z"
   },
   {
    "duration": 398,
    "start_time": "2021-12-16T13:42:39.372Z"
   },
   {
    "duration": 27,
    "start_time": "2021-12-16T13:42:39.773Z"
   },
   {
    "duration": 458,
    "start_time": "2021-12-16T13:42:39.803Z"
   },
   {
    "duration": 4,
    "start_time": "2021-12-16T13:42:40.264Z"
   },
   {
    "duration": 7,
    "start_time": "2021-12-16T13:42:40.271Z"
   },
   {
    "duration": 520,
    "start_time": "2021-12-16T13:48:10.446Z"
   },
   {
    "duration": 12,
    "start_time": "2021-12-16T13:48:23.837Z"
   },
   {
    "duration": 5,
    "start_time": "2021-12-16T13:48:55.767Z"
   },
   {
    "duration": 1604,
    "start_time": "2021-12-16T13:49:04.927Z"
   },
   {
    "duration": 927,
    "start_time": "2021-12-16T13:49:06.533Z"
   },
   {
    "duration": 9,
    "start_time": "2021-12-16T13:49:07.463Z"
   },
   {
    "duration": 4,
    "start_time": "2021-12-16T13:49:07.475Z"
   },
   {
    "duration": 13,
    "start_time": "2021-12-16T13:49:07.482Z"
   },
   {
    "duration": 313,
    "start_time": "2021-12-16T13:49:07.497Z"
   },
   {
    "duration": 299,
    "start_time": "2021-12-16T13:49:07.813Z"
   },
   {
    "duration": 6,
    "start_time": "2021-12-16T13:49:08.117Z"
   },
   {
    "duration": 7,
    "start_time": "2021-12-16T13:49:08.127Z"
   },
   {
    "duration": 37,
    "start_time": "2021-12-16T13:49:08.160Z"
   },
   {
    "duration": 12,
    "start_time": "2021-12-16T13:49:08.200Z"
   },
   {
    "duration": 6,
    "start_time": "2021-12-16T13:49:08.215Z"
   },
   {
    "duration": 38,
    "start_time": "2021-12-16T13:49:08.223Z"
   },
   {
    "duration": 197,
    "start_time": "2021-12-16T13:49:08.264Z"
   },
   {
    "duration": 758,
    "start_time": "2021-12-16T13:49:08.464Z"
   },
   {
    "duration": 94,
    "start_time": "2021-12-16T13:49:09.225Z"
   },
   {
    "duration": 64,
    "start_time": "2021-12-16T13:49:09.322Z"
   },
   {
    "duration": 8,
    "start_time": "2021-12-16T13:49:09.388Z"
   },
   {
    "duration": 29,
    "start_time": "2021-12-16T13:49:09.398Z"
   },
   {
    "duration": 47,
    "start_time": "2021-12-16T13:49:09.429Z"
   },
   {
    "duration": 5,
    "start_time": "2021-12-16T13:49:09.479Z"
   },
   {
    "duration": 19,
    "start_time": "2021-12-16T13:49:09.487Z"
   },
   {
    "duration": 3,
    "start_time": "2021-12-16T13:49:09.510Z"
   },
   {
    "duration": 8,
    "start_time": "2021-12-16T13:49:09.516Z"
   },
   {
    "duration": 475,
    "start_time": "2021-12-16T13:49:09.526Z"
   },
   {
    "duration": 501,
    "start_time": "2021-12-16T13:49:10.003Z"
   },
   {
    "duration": 432,
    "start_time": "2021-12-16T13:49:10.506Z"
   },
   {
    "duration": 449,
    "start_time": "2021-12-16T13:49:10.941Z"
   },
   {
    "duration": 363,
    "start_time": "2021-12-16T13:49:11.393Z"
   },
   {
    "duration": 7,
    "start_time": "2021-12-16T13:49:11.760Z"
   },
   {
    "duration": 572,
    "start_time": "2021-12-16T13:49:11.769Z"
   },
   {
    "duration": 501,
    "start_time": "2021-12-16T13:49:11.843Z"
   },
   {
    "duration": 499,
    "start_time": "2021-12-16T13:49:11.846Z"
   },
   {
    "duration": 499,
    "start_time": "2021-12-16T13:49:11.848Z"
   },
   {
    "duration": 500,
    "start_time": "2021-12-16T13:49:11.849Z"
   },
   {
    "duration": 498,
    "start_time": "2021-12-16T13:49:11.852Z"
   },
   {
    "duration": 497,
    "start_time": "2021-12-16T13:49:11.855Z"
   },
   {
    "duration": 497,
    "start_time": "2021-12-16T13:49:11.856Z"
   },
   {
    "duration": 391,
    "start_time": "2021-12-16T13:54:22.722Z"
   },
   {
    "duration": 405,
    "start_time": "2021-12-16T13:54:26.545Z"
   },
   {
    "duration": 1563,
    "start_time": "2021-12-16T13:56:25.970Z"
   },
   {
    "duration": 943,
    "start_time": "2021-12-16T13:56:27.536Z"
   },
   {
    "duration": 9,
    "start_time": "2021-12-16T13:56:28.483Z"
   },
   {
    "duration": 5,
    "start_time": "2021-12-16T13:56:28.496Z"
   },
   {
    "duration": 17,
    "start_time": "2021-12-16T13:56:28.503Z"
   },
   {
    "duration": 337,
    "start_time": "2021-12-16T13:56:28.522Z"
   },
   {
    "duration": 325,
    "start_time": "2021-12-16T13:56:28.862Z"
   },
   {
    "duration": 7,
    "start_time": "2021-12-16T13:56:29.189Z"
   },
   {
    "duration": 5,
    "start_time": "2021-12-16T13:56:29.201Z"
   },
   {
    "duration": 68,
    "start_time": "2021-12-16T13:56:29.210Z"
   },
   {
    "duration": 12,
    "start_time": "2021-12-16T13:56:29.280Z"
   },
   {
    "duration": 14,
    "start_time": "2021-12-16T13:56:29.294Z"
   },
   {
    "duration": 7,
    "start_time": "2021-12-16T13:56:29.310Z"
   },
   {
    "duration": 40,
    "start_time": "2021-12-16T13:56:29.320Z"
   },
   {
    "duration": 183,
    "start_time": "2021-12-16T13:56:29.363Z"
   },
   {
    "duration": 781,
    "start_time": "2021-12-16T13:56:29.549Z"
   },
   {
    "duration": 101,
    "start_time": "2021-12-16T13:56:30.333Z"
   },
   {
    "duration": 57,
    "start_time": "2021-12-16T13:56:30.437Z"
   },
   {
    "duration": 29,
    "start_time": "2021-12-16T13:56:30.497Z"
   },
   {
    "duration": 49,
    "start_time": "2021-12-16T13:56:30.529Z"
   },
   {
    "duration": 5,
    "start_time": "2021-12-16T13:56:30.581Z"
   },
   {
    "duration": 23,
    "start_time": "2021-12-16T13:56:30.588Z"
   },
   {
    "duration": 3,
    "start_time": "2021-12-16T13:56:30.613Z"
   },
   {
    "duration": 42,
    "start_time": "2021-12-16T13:56:30.618Z"
   },
   {
    "duration": 442,
    "start_time": "2021-12-16T13:56:30.662Z"
   },
   {
    "duration": 515,
    "start_time": "2021-12-16T13:56:31.107Z"
   },
   {
    "duration": 434,
    "start_time": "2021-12-16T13:56:31.629Z"
   },
   {
    "duration": 370,
    "start_time": "2021-12-16T13:56:32.067Z"
   },
   {
    "duration": 365,
    "start_time": "2021-12-16T13:56:32.439Z"
   },
   {
    "duration": 7,
    "start_time": "2021-12-16T13:56:32.807Z"
   },
   {
    "duration": 686,
    "start_time": "2021-12-16T13:56:32.817Z"
   },
   {
    "duration": 512,
    "start_time": "2021-12-16T13:56:32.994Z"
   },
   {
    "duration": 509,
    "start_time": "2021-12-16T13:56:32.999Z"
   },
   {
    "duration": 508,
    "start_time": "2021-12-16T13:56:33.001Z"
   },
   {
    "duration": 508,
    "start_time": "2021-12-16T13:56:33.003Z"
   },
   {
    "duration": 508,
    "start_time": "2021-12-16T13:56:33.005Z"
   },
   {
    "duration": 508,
    "start_time": "2021-12-16T13:56:33.007Z"
   },
   {
    "duration": 508,
    "start_time": "2021-12-16T13:56:33.008Z"
   },
   {
    "duration": 1947,
    "start_time": "2021-12-16T13:57:56.618Z"
   },
   {
    "duration": 1435,
    "start_time": "2021-12-16T13:57:58.568Z"
   },
   {
    "duration": 12,
    "start_time": "2021-12-16T13:58:00.007Z"
   },
   {
    "duration": 35,
    "start_time": "2021-12-16T13:58:00.023Z"
   },
   {
    "duration": 43,
    "start_time": "2021-12-16T13:58:00.062Z"
   },
   {
    "duration": 371,
    "start_time": "2021-12-16T13:58:00.108Z"
   },
   {
    "duration": 332,
    "start_time": "2021-12-16T13:58:00.482Z"
   },
   {
    "duration": 7,
    "start_time": "2021-12-16T13:58:00.818Z"
   },
   {
    "duration": 20,
    "start_time": "2021-12-16T13:58:00.828Z"
   },
   {
    "duration": 36,
    "start_time": "2021-12-16T13:58:00.859Z"
   },
   {
    "duration": 20,
    "start_time": "2021-12-16T13:58:00.898Z"
   },
   {
    "duration": 26,
    "start_time": "2021-12-16T13:58:00.920Z"
   },
   {
    "duration": 31,
    "start_time": "2021-12-16T13:58:00.948Z"
   },
   {
    "duration": 6,
    "start_time": "2021-12-16T13:58:00.983Z"
   },
   {
    "duration": 14,
    "start_time": "2021-12-16T13:58:00.991Z"
   },
   {
    "duration": 202,
    "start_time": "2021-12-16T13:58:01.008Z"
   },
   {
    "duration": 894,
    "start_time": "2021-12-16T13:58:01.213Z"
   },
   {
    "duration": 95,
    "start_time": "2021-12-16T13:58:02.110Z"
   },
   {
    "duration": 69,
    "start_time": "2021-12-16T13:58:02.208Z"
   },
   {
    "duration": 30,
    "start_time": "2021-12-16T13:58:02.279Z"
   },
   {
    "duration": 8,
    "start_time": "2021-12-16T13:58:02.311Z"
   },
   {
    "duration": 48,
    "start_time": "2021-12-16T13:58:02.322Z"
   },
   {
    "duration": 3,
    "start_time": "2021-12-16T13:58:02.377Z"
   },
   {
    "duration": 15,
    "start_time": "2021-12-16T13:58:02.384Z"
   },
   {
    "duration": 432,
    "start_time": "2021-12-16T13:58:02.402Z"
   },
   {
    "duration": 506,
    "start_time": "2021-12-16T13:58:02.836Z"
   },
   {
    "duration": 435,
    "start_time": "2021-12-16T13:58:03.344Z"
   },
   {
    "duration": 354,
    "start_time": "2021-12-16T13:58:03.782Z"
   },
   {
    "duration": 370,
    "start_time": "2021-12-16T13:58:04.139Z"
   },
   {
    "duration": 8,
    "start_time": "2021-12-16T13:58:04.512Z"
   },
   {
    "duration": 562,
    "start_time": "2021-12-16T13:58:04.522Z"
   },
   {
    "duration": 520,
    "start_time": "2021-12-16T13:58:04.567Z"
   },
   {
    "duration": 517,
    "start_time": "2021-12-16T13:58:04.572Z"
   },
   {
    "duration": 514,
    "start_time": "2021-12-16T13:58:04.577Z"
   },
   {
    "duration": 513,
    "start_time": "2021-12-16T13:58:04.579Z"
   },
   {
    "duration": 510,
    "start_time": "2021-12-16T13:58:04.584Z"
   },
   {
    "duration": 509,
    "start_time": "2021-12-16T13:58:04.586Z"
   },
   {
    "duration": 510,
    "start_time": "2021-12-16T13:58:04.587Z"
   },
   {
    "duration": 4,
    "start_time": "2021-12-16T13:58:12.771Z"
   },
   {
    "duration": 1421,
    "start_time": "2021-12-16T13:58:27.597Z"
   },
   {
    "duration": 929,
    "start_time": "2021-12-16T13:58:30.253Z"
   },
   {
    "duration": 9,
    "start_time": "2021-12-16T13:58:31.185Z"
   },
   {
    "duration": 4,
    "start_time": "2021-12-16T13:58:32.626Z"
   },
   {
    "duration": 12,
    "start_time": "2021-12-16T13:58:33.254Z"
   },
   {
    "duration": 293,
    "start_time": "2021-12-16T13:58:33.712Z"
   },
   {
    "duration": 301,
    "start_time": "2021-12-16T13:58:34.978Z"
   },
   {
    "duration": 6,
    "start_time": "2021-12-16T13:58:35.439Z"
   },
   {
    "duration": 5,
    "start_time": "2021-12-16T13:58:38.350Z"
   },
   {
    "duration": 37,
    "start_time": "2021-12-16T13:58:40.310Z"
   },
   {
    "duration": 12,
    "start_time": "2021-12-16T13:58:44.248Z"
   },
   {
    "duration": 7,
    "start_time": "2021-12-16T13:58:50.909Z"
   },
   {
    "duration": 22,
    "start_time": "2021-12-16T13:58:52.592Z"
   },
   {
    "duration": 5,
    "start_time": "2021-12-16T13:58:53.827Z"
   },
   {
    "duration": 19,
    "start_time": "2021-12-16T13:59:23.555Z"
   },
   {
    "duration": 5,
    "start_time": "2021-12-16T13:59:25.175Z"
   },
   {
    "duration": 5,
    "start_time": "2021-12-16T13:59:29.476Z"
   },
   {
    "duration": 1552,
    "start_time": "2021-12-16T13:59:50.559Z"
   },
   {
    "duration": 900,
    "start_time": "2021-12-16T13:59:52.113Z"
   },
   {
    "duration": 9,
    "start_time": "2021-12-16T13:59:53.016Z"
   },
   {
    "duration": 5,
    "start_time": "2021-12-16T13:59:53.027Z"
   },
   {
    "duration": 25,
    "start_time": "2021-12-16T13:59:53.034Z"
   },
   {
    "duration": 315,
    "start_time": "2021-12-16T13:59:53.061Z"
   },
   {
    "duration": 318,
    "start_time": "2021-12-16T13:59:53.378Z"
   },
   {
    "duration": 7,
    "start_time": "2021-12-16T13:59:53.699Z"
   },
   {
    "duration": 5,
    "start_time": "2021-12-16T13:59:53.712Z"
   },
   {
    "duration": 68,
    "start_time": "2021-12-16T13:59:53.720Z"
   },
   {
    "duration": 12,
    "start_time": "2021-12-16T13:59:53.791Z"
   },
   {
    "duration": 11,
    "start_time": "2021-12-16T13:59:53.806Z"
   },
   {
    "duration": 48,
    "start_time": "2021-12-16T13:59:53.819Z"
   },
   {
    "duration": 5,
    "start_time": "2021-12-16T13:59:53.869Z"
   },
   {
    "duration": 8,
    "start_time": "2021-12-16T13:59:53.876Z"
   },
   {
    "duration": 187,
    "start_time": "2021-12-16T13:59:53.886Z"
   },
   {
    "duration": 827,
    "start_time": "2021-12-16T13:59:54.075Z"
   },
   {
    "duration": 91,
    "start_time": "2021-12-16T13:59:54.905Z"
   },
   {
    "duration": 77,
    "start_time": "2021-12-16T13:59:54.999Z"
   },
   {
    "duration": 32,
    "start_time": "2021-12-16T13:59:55.078Z"
   },
   {
    "duration": 7,
    "start_time": "2021-12-16T13:59:55.113Z"
   },
   {
    "duration": 53,
    "start_time": "2021-12-16T13:59:55.123Z"
   },
   {
    "duration": 4,
    "start_time": "2021-12-16T13:59:55.179Z"
   },
   {
    "duration": 8,
    "start_time": "2021-12-16T13:59:55.185Z"
   },
   {
    "duration": 464,
    "start_time": "2021-12-16T13:59:55.195Z"
   },
   {
    "duration": 529,
    "start_time": "2021-12-16T13:59:55.661Z"
   },
   {
    "duration": 438,
    "start_time": "2021-12-16T13:59:56.196Z"
   },
   {
    "duration": 362,
    "start_time": "2021-12-16T13:59:56.638Z"
   },
   {
    "duration": 361,
    "start_time": "2021-12-16T13:59:57.004Z"
   },
   {
    "duration": 7,
    "start_time": "2021-12-16T13:59:57.368Z"
   },
   {
    "duration": 529,
    "start_time": "2021-12-16T13:59:57.378Z"
   },
   {
    "duration": 510,
    "start_time": "2021-12-16T13:59:57.400Z"
   },
   {
    "duration": 507,
    "start_time": "2021-12-16T13:59:57.405Z"
   },
   {
    "duration": 507,
    "start_time": "2021-12-16T13:59:57.407Z"
   },
   {
    "duration": 507,
    "start_time": "2021-12-16T13:59:57.409Z"
   },
   {
    "duration": 506,
    "start_time": "2021-12-16T13:59:57.411Z"
   },
   {
    "duration": 507,
    "start_time": "2021-12-16T13:59:57.412Z"
   },
   {
    "duration": 507,
    "start_time": "2021-12-16T13:59:57.414Z"
   },
   {
    "duration": 1705,
    "start_time": "2021-12-16T14:01:24.732Z"
   },
   {
    "duration": 915,
    "start_time": "2021-12-16T14:01:26.439Z"
   },
   {
    "duration": 9,
    "start_time": "2021-12-16T14:01:27.360Z"
   },
   {
    "duration": 5,
    "start_time": "2021-12-16T14:01:27.372Z"
   },
   {
    "duration": 13,
    "start_time": "2021-12-16T14:01:27.380Z"
   },
   {
    "duration": 316,
    "start_time": "2021-12-16T14:01:27.396Z"
   },
   {
    "duration": 312,
    "start_time": "2021-12-16T14:01:27.715Z"
   },
   {
    "duration": 7,
    "start_time": "2021-12-16T14:01:28.030Z"
   },
   {
    "duration": 5,
    "start_time": "2021-12-16T14:01:28.060Z"
   },
   {
    "duration": 36,
    "start_time": "2021-12-16T14:01:28.068Z"
   },
   {
    "duration": 10,
    "start_time": "2021-12-16T14:01:28.107Z"
   },
   {
    "duration": 43,
    "start_time": "2021-12-16T14:01:28.120Z"
   },
   {
    "duration": 26,
    "start_time": "2021-12-16T14:01:28.166Z"
   },
   {
    "duration": 4,
    "start_time": "2021-12-16T14:01:28.195Z"
   },
   {
    "duration": 5,
    "start_time": "2021-12-16T14:01:28.202Z"
   },
   {
    "duration": 207,
    "start_time": "2021-12-16T14:01:28.210Z"
   },
   {
    "duration": 1046,
    "start_time": "2021-12-16T14:01:28.419Z"
   },
   {
    "duration": 102,
    "start_time": "2021-12-16T14:01:29.467Z"
   },
   {
    "duration": 52,
    "start_time": "2021-12-16T14:01:29.571Z"
   },
   {
    "duration": 53,
    "start_time": "2021-12-16T14:01:29.625Z"
   },
   {
    "duration": 6,
    "start_time": "2021-12-16T14:01:29.680Z"
   },
   {
    "duration": 16,
    "start_time": "2021-12-16T14:01:29.689Z"
   },
   {
    "duration": 3,
    "start_time": "2021-12-16T14:01:29.707Z"
   },
   {
    "duration": 46,
    "start_time": "2021-12-16T14:01:29.713Z"
   },
   {
    "duration": 453,
    "start_time": "2021-12-16T14:01:29.762Z"
   },
   {
    "duration": 512,
    "start_time": "2021-12-16T14:01:30.218Z"
   },
   {
    "duration": 431,
    "start_time": "2021-12-16T14:01:30.735Z"
   },
   {
    "duration": 352,
    "start_time": "2021-12-16T14:01:31.169Z"
   },
   {
    "duration": 353,
    "start_time": "2021-12-16T14:01:31.523Z"
   },
   {
    "duration": 8,
    "start_time": "2021-12-16T14:01:31.879Z"
   },
   {
    "duration": 584,
    "start_time": "2021-12-16T14:01:31.889Z"
   },
   {
    "duration": 512,
    "start_time": "2021-12-16T14:01:31.964Z"
   },
   {
    "duration": 505,
    "start_time": "2021-12-16T14:01:31.972Z"
   },
   {
    "duration": 505,
    "start_time": "2021-12-16T14:01:31.974Z"
   },
   {
    "duration": 501,
    "start_time": "2021-12-16T14:01:31.979Z"
   },
   {
    "duration": 501,
    "start_time": "2021-12-16T14:01:31.980Z"
   },
   {
    "duration": 500,
    "start_time": "2021-12-16T14:01:31.983Z"
   },
   {
    "duration": 499,
    "start_time": "2021-12-16T14:01:31.985Z"
   },
   {
    "duration": 385,
    "start_time": "2021-12-16T14:05:27.066Z"
   },
   {
    "duration": 45,
    "start_time": "2021-12-16T14:05:39.457Z"
   },
   {
    "duration": 31,
    "start_time": "2021-12-16T14:05:53.038Z"
   },
   {
    "duration": 80,
    "start_time": "2021-12-16T14:34:51.320Z"
   },
   {
    "duration": 1551,
    "start_time": "2021-12-16T14:35:17.875Z"
   },
   {
    "duration": 928,
    "start_time": "2021-12-16T14:35:21.617Z"
   },
   {
    "duration": 17,
    "start_time": "2021-12-16T14:35:22.548Z"
   },
   {
    "duration": 4,
    "start_time": "2021-12-16T14:35:23.813Z"
   },
   {
    "duration": 79,
    "start_time": "2021-12-16T14:35:25.152Z"
   },
   {
    "duration": 1580,
    "start_time": "2021-12-16T14:39:33.243Z"
   },
   {
    "duration": 1060,
    "start_time": "2021-12-16T14:39:34.826Z"
   },
   {
    "duration": 9,
    "start_time": "2021-12-16T14:39:35.890Z"
   },
   {
    "duration": 7,
    "start_time": "2021-12-16T14:39:35.903Z"
   },
   {
    "duration": 16,
    "start_time": "2021-12-16T14:39:35.913Z"
   },
   {
    "duration": 480,
    "start_time": "2021-12-16T14:39:35.932Z"
   },
   {
    "duration": 362,
    "start_time": "2021-12-16T14:39:36.415Z"
   },
   {
    "duration": 8,
    "start_time": "2021-12-16T14:39:36.780Z"
   },
   {
    "duration": 6,
    "start_time": "2021-12-16T14:39:36.795Z"
   },
   {
    "duration": 70,
    "start_time": "2021-12-16T14:39:36.805Z"
   },
   {
    "duration": 15,
    "start_time": "2021-12-16T14:39:36.879Z"
   },
   {
    "duration": 10,
    "start_time": "2021-12-16T14:39:36.898Z"
   },
   {
    "duration": 64,
    "start_time": "2021-12-16T14:39:36.911Z"
   },
   {
    "duration": 6,
    "start_time": "2021-12-16T14:39:36.978Z"
   },
   {
    "duration": 7,
    "start_time": "2021-12-16T14:39:36.987Z"
   },
   {
    "duration": 211,
    "start_time": "2021-12-16T14:39:36.997Z"
   },
   {
    "duration": 1662,
    "start_time": "2021-12-16T14:39:37.211Z"
   },
   {
    "duration": 116,
    "start_time": "2021-12-16T14:39:38.876Z"
   },
   {
    "duration": 79,
    "start_time": "2021-12-16T14:39:38.995Z"
   },
   {
    "duration": 40,
    "start_time": "2021-12-16T14:39:39.078Z"
   },
   {
    "duration": 6,
    "start_time": "2021-12-16T14:39:39.122Z"
   },
   {
    "duration": 21,
    "start_time": "2021-12-16T14:39:39.165Z"
   },
   {
    "duration": 3,
    "start_time": "2021-12-16T14:39:39.189Z"
   },
   {
    "duration": 14,
    "start_time": "2021-12-16T14:39:39.195Z"
   },
   {
    "duration": 608,
    "start_time": "2021-12-16T14:39:39.212Z"
   },
   {
    "duration": 540,
    "start_time": "2021-12-16T14:39:39.823Z"
   },
   {
    "duration": 496,
    "start_time": "2021-12-16T14:39:40.369Z"
   },
   {
    "duration": 494,
    "start_time": "2021-12-16T14:39:40.869Z"
   },
   {
    "duration": 429,
    "start_time": "2021-12-16T14:39:41.367Z"
   },
   {
    "duration": 13,
    "start_time": "2021-12-16T14:39:41.800Z"
   },
   {
    "duration": 43,
    "start_time": "2021-12-16T14:39:41.816Z"
   },
   {
    "duration": 34,
    "start_time": "2021-12-16T14:39:41.861Z"
   },
   {
    "duration": 31,
    "start_time": "2021-12-16T14:39:41.899Z"
   },
   {
    "duration": 13129,
    "start_time": "2021-12-16T14:39:41.933Z"
   },
   {
    "duration": -966,
    "start_time": "2021-12-16T14:39:56.031Z"
   },
   {
    "duration": -966,
    "start_time": "2021-12-16T14:39:56.032Z"
   },
   {
    "duration": -965,
    "start_time": "2021-12-16T14:39:56.033Z"
   },
   {
    "duration": -966,
    "start_time": "2021-12-16T14:39:56.035Z"
   },
   {
    "duration": 397,
    "start_time": "2021-12-16T14:40:09.182Z"
   },
   {
    "duration": 1619,
    "start_time": "2021-12-16T14:40:46.548Z"
   },
   {
    "duration": 1055,
    "start_time": "2021-12-16T14:40:48.170Z"
   },
   {
    "duration": 11,
    "start_time": "2021-12-16T14:40:49.229Z"
   },
   {
    "duration": 20,
    "start_time": "2021-12-16T14:40:49.244Z"
   },
   {
    "duration": 18,
    "start_time": "2021-12-16T14:40:49.267Z"
   },
   {
    "duration": 333,
    "start_time": "2021-12-16T14:40:49.288Z"
   },
   {
    "duration": 314,
    "start_time": "2021-12-16T14:40:49.624Z"
   },
   {
    "duration": 6,
    "start_time": "2021-12-16T14:40:49.941Z"
   },
   {
    "duration": 5,
    "start_time": "2021-12-16T14:40:49.964Z"
   },
   {
    "duration": 49,
    "start_time": "2021-12-16T14:40:49.973Z"
   },
   {
    "duration": 17,
    "start_time": "2021-12-16T14:40:50.064Z"
   },
   {
    "duration": 16,
    "start_time": "2021-12-16T14:40:50.084Z"
   },
   {
    "duration": 26,
    "start_time": "2021-12-16T14:40:50.103Z"
   },
   {
    "duration": 6,
    "start_time": "2021-12-16T14:40:50.132Z"
   },
   {
    "duration": 8,
    "start_time": "2021-12-16T14:40:50.159Z"
   },
   {
    "duration": 257,
    "start_time": "2021-12-16T14:40:50.171Z"
   },
   {
    "duration": 1045,
    "start_time": "2021-12-16T14:40:50.431Z"
   },
   {
    "duration": 127,
    "start_time": "2021-12-16T14:40:51.480Z"
   },
   {
    "duration": 71,
    "start_time": "2021-12-16T14:40:51.610Z"
   },
   {
    "duration": 33,
    "start_time": "2021-12-16T14:40:51.683Z"
   },
   {
    "duration": 8,
    "start_time": "2021-12-16T14:40:51.719Z"
   },
   {
    "duration": 38,
    "start_time": "2021-12-16T14:40:51.729Z"
   },
   {
    "duration": 3,
    "start_time": "2021-12-16T14:40:51.769Z"
   },
   {
    "duration": 8,
    "start_time": "2021-12-16T14:40:51.775Z"
   },
   {
    "duration": 501,
    "start_time": "2021-12-16T14:40:51.786Z"
   },
   {
    "duration": 528,
    "start_time": "2021-12-16T14:40:52.290Z"
   },
   {
    "duration": 543,
    "start_time": "2021-12-16T14:40:52.824Z"
   },
   {
    "duration": 399,
    "start_time": "2021-12-16T14:40:53.370Z"
   },
   {
    "duration": 376,
    "start_time": "2021-12-16T14:40:53.772Z"
   },
   {
    "duration": 13,
    "start_time": "2021-12-16T14:40:54.152Z"
   },
   {
    "duration": 23,
    "start_time": "2021-12-16T14:40:54.168Z"
   },
   {
    "duration": 21,
    "start_time": "2021-12-16T14:40:54.194Z"
   },
   {
    "duration": 54,
    "start_time": "2021-12-16T14:40:54.218Z"
   },
   {
    "duration": 429,
    "start_time": "2021-12-16T14:40:54.274Z"
   },
   {
    "duration": 19,
    "start_time": "2021-12-16T14:40:54.706Z"
   },
   {
    "duration": 10993,
    "start_time": "2021-12-16T14:40:54.728Z"
   },
   {
    "duration": 525,
    "start_time": "2021-12-16T14:41:05.199Z"
   },
   {
    "duration": 525,
    "start_time": "2021-12-16T14:41:05.201Z"
   },
   {
    "duration": 10910,
    "start_time": "2021-12-16T14:42:06.842Z"
   },
   {
    "duration": 521,
    "start_time": "2021-12-16T14:42:17.233Z"
   },
   {
    "duration": 11171,
    "start_time": "2021-12-16T14:42:56.225Z"
   },
   {
    "duration": 11312,
    "start_time": "2021-12-16T14:44:08.585Z"
   },
   {
    "duration": 1557,
    "start_time": "2021-12-16T14:44:35.542Z"
   },
   {
    "duration": 903,
    "start_time": "2021-12-16T14:44:37.103Z"
   },
   {
    "duration": 9,
    "start_time": "2021-12-16T14:44:38.010Z"
   },
   {
    "duration": 5,
    "start_time": "2021-12-16T14:44:38.023Z"
   },
   {
    "duration": 31,
    "start_time": "2021-12-16T14:44:38.031Z"
   },
   {
    "duration": 319,
    "start_time": "2021-12-16T14:44:38.064Z"
   },
   {
    "duration": 308,
    "start_time": "2021-12-16T14:44:38.386Z"
   },
   {
    "duration": 6,
    "start_time": "2021-12-16T14:44:38.700Z"
   },
   {
    "duration": 6,
    "start_time": "2021-12-16T14:44:38.710Z"
   },
   {
    "duration": 68,
    "start_time": "2021-12-16T14:44:38.719Z"
   },
   {
    "duration": 11,
    "start_time": "2021-12-16T14:44:38.789Z"
   },
   {
    "duration": 10,
    "start_time": "2021-12-16T14:44:38.802Z"
   },
   {
    "duration": 51,
    "start_time": "2021-12-16T14:44:38.815Z"
   },
   {
    "duration": 4,
    "start_time": "2021-12-16T14:44:38.868Z"
   },
   {
    "duration": 5,
    "start_time": "2021-12-16T14:44:38.875Z"
   },
   {
    "duration": 185,
    "start_time": "2021-12-16T14:44:38.882Z"
   },
   {
    "duration": 782,
    "start_time": "2021-12-16T14:44:39.069Z"
   },
   {
    "duration": 107,
    "start_time": "2021-12-16T14:44:39.859Z"
   },
   {
    "duration": 53,
    "start_time": "2021-12-16T14:44:39.970Z"
   },
   {
    "duration": 62,
    "start_time": "2021-12-16T14:44:40.026Z"
   },
   {
    "duration": 5,
    "start_time": "2021-12-16T14:44:40.091Z"
   },
   {
    "duration": 18,
    "start_time": "2021-12-16T14:44:40.100Z"
   },
   {
    "duration": 4,
    "start_time": "2021-12-16T14:44:40.160Z"
   },
   {
    "duration": 9,
    "start_time": "2021-12-16T14:44:40.167Z"
   },
   {
    "duration": 457,
    "start_time": "2021-12-16T14:44:40.179Z"
   },
   {
    "duration": 540,
    "start_time": "2021-12-16T14:44:40.639Z"
   },
   {
    "duration": 438,
    "start_time": "2021-12-16T14:44:41.181Z"
   },
   {
    "duration": 354,
    "start_time": "2021-12-16T14:44:41.621Z"
   },
   {
    "duration": 360,
    "start_time": "2021-12-16T14:44:41.977Z"
   },
   {
    "duration": 22,
    "start_time": "2021-12-16T14:44:42.339Z"
   },
   {
    "duration": 23,
    "start_time": "2021-12-16T14:44:42.364Z"
   },
   {
    "duration": 22,
    "start_time": "2021-12-16T14:44:42.390Z"
   },
   {
    "duration": 48,
    "start_time": "2021-12-16T14:44:42.415Z"
   },
   {
    "duration": 416,
    "start_time": "2021-12-16T14:44:42.465Z"
   },
   {
    "duration": 34,
    "start_time": "2021-12-16T14:44:42.884Z"
   },
   {
    "duration": 452,
    "start_time": "2021-12-16T14:44:42.921Z"
   },
   {
    "duration": 5,
    "start_time": "2021-12-16T14:44:43.375Z"
   },
   {
    "duration": 5,
    "start_time": "2021-12-16T14:44:43.382Z"
   },
   {
    "duration": 536,
    "start_time": "2021-12-16T14:56:36.873Z"
   },
   {
    "duration": 9,
    "start_time": "2021-12-16T14:57:09.680Z"
   },
   {
    "duration": 1830,
    "start_time": "2021-12-16T14:58:00.465Z"
   },
   {
    "duration": 916,
    "start_time": "2021-12-16T14:58:02.298Z"
   },
   {
    "duration": 10,
    "start_time": "2021-12-16T14:58:03.217Z"
   },
   {
    "duration": 5,
    "start_time": "2021-12-16T14:58:03.230Z"
   },
   {
    "duration": 32,
    "start_time": "2021-12-16T14:58:03.237Z"
   },
   {
    "duration": 326,
    "start_time": "2021-12-16T14:58:03.271Z"
   },
   {
    "duration": 321,
    "start_time": "2021-12-16T14:58:03.601Z"
   },
   {
    "duration": 6,
    "start_time": "2021-12-16T14:58:03.928Z"
   },
   {
    "duration": 4,
    "start_time": "2021-12-16T14:58:03.959Z"
   },
   {
    "duration": 38,
    "start_time": "2021-12-16T14:58:03.966Z"
   },
   {
    "duration": 10,
    "start_time": "2021-12-16T14:58:04.007Z"
   },
   {
    "duration": 43,
    "start_time": "2021-12-16T14:58:04.020Z"
   },
   {
    "duration": 21,
    "start_time": "2021-12-16T14:58:04.065Z"
   },
   {
    "duration": 4,
    "start_time": "2021-12-16T14:58:04.089Z"
   },
   {
    "duration": 9,
    "start_time": "2021-12-16T14:58:04.096Z"
   },
   {
    "duration": 201,
    "start_time": "2021-12-16T14:58:04.108Z"
   },
   {
    "duration": 810,
    "start_time": "2021-12-16T14:58:04.312Z"
   },
   {
    "duration": 123,
    "start_time": "2021-12-16T14:58:05.125Z"
   },
   {
    "duration": 50,
    "start_time": "2021-12-16T14:58:05.260Z"
   },
   {
    "duration": 55,
    "start_time": "2021-12-16T14:58:05.313Z"
   },
   {
    "duration": 5,
    "start_time": "2021-12-16T14:58:05.372Z"
   },
   {
    "duration": 20,
    "start_time": "2021-12-16T14:58:05.380Z"
   },
   {
    "duration": 3,
    "start_time": "2021-12-16T14:58:05.405Z"
   },
   {
    "duration": 9,
    "start_time": "2021-12-16T14:58:05.411Z"
   },
   {
    "duration": 465,
    "start_time": "2021-12-16T14:58:05.422Z"
   },
   {
    "duration": 520,
    "start_time": "2021-12-16T14:58:05.890Z"
   },
   {
    "duration": 426,
    "start_time": "2021-12-16T14:58:06.413Z"
   },
   {
    "duration": 337,
    "start_time": "2021-12-16T14:58:06.842Z"
   },
   {
    "duration": 362,
    "start_time": "2021-12-16T14:58:07.182Z"
   },
   {
    "duration": 17,
    "start_time": "2021-12-16T14:58:07.546Z"
   },
   {
    "duration": 24,
    "start_time": "2021-12-16T14:58:07.565Z"
   },
   {
    "duration": 24,
    "start_time": "2021-12-16T14:58:07.591Z"
   },
   {
    "duration": 51,
    "start_time": "2021-12-16T14:58:07.617Z"
   },
   {
    "duration": 405,
    "start_time": "2021-12-16T14:58:07.671Z"
   },
   {
    "duration": 33,
    "start_time": "2021-12-16T14:58:08.079Z"
   },
   {
    "duration": 437,
    "start_time": "2021-12-16T14:58:08.114Z"
   },
   {
    "duration": 4,
    "start_time": "2021-12-16T14:58:08.560Z"
   },
   {
    "duration": 6,
    "start_time": "2021-12-16T14:58:08.566Z"
   },
   {
    "duration": 10,
    "start_time": "2021-12-16T14:58:08.574Z"
   },
   {
    "duration": 14,
    "start_time": "2021-12-16T16:44:17.978Z"
   },
   {
    "duration": 1515,
    "start_time": "2021-12-16T16:44:25.314Z"
   },
   {
    "duration": 928,
    "start_time": "2021-12-16T16:44:26.832Z"
   },
   {
    "duration": 9,
    "start_time": "2021-12-16T16:44:27.766Z"
   },
   {
    "duration": 6,
    "start_time": "2021-12-16T16:44:27.777Z"
   },
   {
    "duration": 15,
    "start_time": "2021-12-16T16:44:27.786Z"
   },
   {
    "duration": 317,
    "start_time": "2021-12-16T16:44:27.804Z"
   },
   {
    "duration": 300,
    "start_time": "2021-12-16T16:44:28.123Z"
   },
   {
    "duration": 6,
    "start_time": "2021-12-16T16:44:28.428Z"
   },
   {
    "duration": 18,
    "start_time": "2021-12-16T16:44:28.443Z"
   },
   {
    "duration": 36,
    "start_time": "2021-12-16T16:44:28.464Z"
   },
   {
    "duration": 11,
    "start_time": "2021-12-16T16:44:28.504Z"
   },
   {
    "duration": 44,
    "start_time": "2021-12-16T16:44:28.518Z"
   },
   {
    "duration": 20,
    "start_time": "2021-12-16T16:44:28.564Z"
   },
   {
    "duration": 4,
    "start_time": "2021-12-16T16:44:28.586Z"
   },
   {
    "duration": 6,
    "start_time": "2021-12-16T16:44:28.593Z"
   },
   {
    "duration": 214,
    "start_time": "2021-12-16T16:44:28.601Z"
   },
   {
    "duration": 995,
    "start_time": "2021-12-16T16:44:28.817Z"
   },
   {
    "duration": 122,
    "start_time": "2021-12-16T16:44:29.815Z"
   },
   {
    "duration": 68,
    "start_time": "2021-12-16T16:44:29.940Z"
   },
   {
    "duration": 55,
    "start_time": "2021-12-16T16:44:30.011Z"
   },
   {
    "duration": 5,
    "start_time": "2021-12-16T16:44:30.069Z"
   },
   {
    "duration": 23,
    "start_time": "2021-12-16T16:44:30.077Z"
   },
   {
    "duration": 4,
    "start_time": "2021-12-16T16:44:30.103Z"
   },
   {
    "duration": 12,
    "start_time": "2021-12-16T16:44:30.109Z"
   },
   {
    "duration": 459,
    "start_time": "2021-12-16T16:44:30.123Z"
   },
   {
    "duration": 565,
    "start_time": "2021-12-16T16:44:30.588Z"
   },
   {
    "duration": 445,
    "start_time": "2021-12-16T16:44:31.161Z"
   },
   {
    "duration": 350,
    "start_time": "2021-12-16T16:44:31.609Z"
   },
   {
    "duration": 359,
    "start_time": "2021-12-16T16:44:31.961Z"
   },
   {
    "duration": 9,
    "start_time": "2021-12-16T16:44:32.322Z"
   },
   {
    "duration": 41,
    "start_time": "2021-12-16T16:44:32.333Z"
   },
   {
    "duration": 21,
    "start_time": "2021-12-16T16:44:32.376Z"
   },
   {
    "duration": 21,
    "start_time": "2021-12-16T16:44:32.400Z"
   },
   {
    "duration": 433,
    "start_time": "2021-12-16T16:44:32.423Z"
   },
   {
    "duration": 33,
    "start_time": "2021-12-16T16:44:32.858Z"
   },
   {
    "duration": 450,
    "start_time": "2021-12-16T16:44:32.893Z"
   },
   {
    "duration": 4,
    "start_time": "2021-12-16T16:44:33.345Z"
   },
   {
    "duration": 3,
    "start_time": "2021-12-16T16:44:33.359Z"
   },
   {
    "duration": 15,
    "start_time": "2021-12-16T16:44:33.364Z"
   },
   {
    "duration": 12,
    "start_time": "2021-12-16T16:44:52.031Z"
   },
   {
    "duration": 15,
    "start_time": "2021-12-16T16:46:41.945Z"
   },
   {
    "duration": 1494,
    "start_time": "2021-12-16T16:46:48.242Z"
   },
   {
    "duration": 923,
    "start_time": "2021-12-16T16:46:49.739Z"
   },
   {
    "duration": 10,
    "start_time": "2021-12-16T16:46:50.671Z"
   },
   {
    "duration": 11,
    "start_time": "2021-12-16T16:46:50.683Z"
   },
   {
    "duration": 18,
    "start_time": "2021-12-16T16:46:50.696Z"
   },
   {
    "duration": 313,
    "start_time": "2021-12-16T16:46:50.716Z"
   },
   {
    "duration": 311,
    "start_time": "2021-12-16T16:46:51.033Z"
   },
   {
    "duration": 15,
    "start_time": "2021-12-16T16:46:51.349Z"
   },
   {
    "duration": 7,
    "start_time": "2021-12-16T16:46:51.367Z"
   },
   {
    "duration": 37,
    "start_time": "2021-12-16T16:46:51.377Z"
   },
   {
    "duration": 13,
    "start_time": "2021-12-16T16:46:51.460Z"
   },
   {
    "duration": 10,
    "start_time": "2021-12-16T16:46:51.476Z"
   },
   {
    "duration": 22,
    "start_time": "2021-12-16T16:46:51.488Z"
   },
   {
    "duration": 6,
    "start_time": "2021-12-16T16:46:51.513Z"
   },
   {
    "duration": 6,
    "start_time": "2021-12-16T16:46:51.560Z"
   },
   {
    "duration": 185,
    "start_time": "2021-12-16T16:46:51.569Z"
   },
   {
    "duration": 744,
    "start_time": "2021-12-16T16:46:51.759Z"
   },
   {
    "duration": 96,
    "start_time": "2021-12-16T16:46:52.506Z"
   },
   {
    "duration": 70,
    "start_time": "2021-12-16T16:46:52.605Z"
   },
   {
    "duration": 27,
    "start_time": "2021-12-16T16:46:52.677Z"
   },
   {
    "duration": 5,
    "start_time": "2021-12-16T16:46:52.707Z"
   },
   {
    "duration": 45,
    "start_time": "2021-12-16T16:46:52.719Z"
   },
   {
    "duration": 4,
    "start_time": "2021-12-16T16:46:52.767Z"
   },
   {
    "duration": 7,
    "start_time": "2021-12-16T16:46:52.774Z"
   },
   {
    "duration": 445,
    "start_time": "2021-12-16T16:46:52.783Z"
   },
   {
    "duration": 504,
    "start_time": "2021-12-16T16:46:53.231Z"
   },
   {
    "duration": 421,
    "start_time": "2021-12-16T16:46:53.738Z"
   },
   {
    "duration": 352,
    "start_time": "2021-12-16T16:46:54.162Z"
   },
   {
    "duration": 363,
    "start_time": "2021-12-16T16:46:54.517Z"
   },
   {
    "duration": 9,
    "start_time": "2021-12-16T16:46:54.882Z"
   },
   {
    "duration": 25,
    "start_time": "2021-12-16T16:46:54.893Z"
   },
   {
    "duration": 53,
    "start_time": "2021-12-16T16:46:54.920Z"
   },
   {
    "duration": 24,
    "start_time": "2021-12-16T16:46:54.975Z"
   },
   {
    "duration": 448,
    "start_time": "2021-12-16T16:46:55.001Z"
   },
   {
    "duration": 37,
    "start_time": "2021-12-16T16:46:55.460Z"
   },
   {
    "duration": 467,
    "start_time": "2021-12-16T16:46:55.499Z"
   },
   {
    "duration": 4,
    "start_time": "2021-12-16T16:46:55.968Z"
   },
   {
    "duration": 13,
    "start_time": "2021-12-16T16:46:55.975Z"
   },
   {
    "duration": 17,
    "start_time": "2021-12-16T16:46:55.991Z"
   },
   {
    "duration": 759,
    "start_time": "2021-12-16T18:22:44.828Z"
   },
   {
    "duration": 1583,
    "start_time": "2021-12-16T18:23:27.178Z"
   },
   {
    "duration": 4884,
    "start_time": "2021-12-16T18:23:28.764Z"
   },
   {
    "duration": 9,
    "start_time": "2021-12-16T18:23:33.651Z"
   },
   {
    "duration": 6,
    "start_time": "2021-12-16T18:23:33.662Z"
   },
   {
    "duration": 13,
    "start_time": "2021-12-16T18:23:33.671Z"
   },
   {
    "duration": 311,
    "start_time": "2021-12-16T18:23:33.686Z"
   },
   {
    "duration": 316,
    "start_time": "2021-12-16T18:23:33.999Z"
   },
   {
    "duration": 7,
    "start_time": "2021-12-16T18:23:34.317Z"
   },
   {
    "duration": 4,
    "start_time": "2021-12-16T18:23:34.328Z"
   },
   {
    "duration": 60,
    "start_time": "2021-12-16T18:23:34.335Z"
   },
   {
    "duration": 11,
    "start_time": "2021-12-16T18:23:34.397Z"
   },
   {
    "duration": 9,
    "start_time": "2021-12-16T18:23:34.411Z"
   },
   {
    "duration": 57,
    "start_time": "2021-12-16T18:23:34.423Z"
   },
   {
    "duration": 5,
    "start_time": "2021-12-16T18:23:34.482Z"
   },
   {
    "duration": 6,
    "start_time": "2021-12-16T18:23:34.490Z"
   },
   {
    "duration": 217,
    "start_time": "2021-12-16T18:23:34.499Z"
   },
   {
    "duration": 843,
    "start_time": "2021-12-16T18:23:34.719Z"
   },
   {
    "duration": 103,
    "start_time": "2021-12-16T18:23:35.564Z"
   },
   {
    "duration": 55,
    "start_time": "2021-12-16T18:23:35.669Z"
   },
   {
    "duration": 50,
    "start_time": "2021-12-16T18:23:35.727Z"
   },
   {
    "duration": 4,
    "start_time": "2021-12-16T18:23:35.780Z"
   },
   {
    "duration": 22,
    "start_time": "2021-12-16T18:23:35.787Z"
   },
   {
    "duration": 3,
    "start_time": "2021-12-16T18:23:35.812Z"
   },
   {
    "duration": 41,
    "start_time": "2021-12-16T18:23:35.818Z"
   },
   {
    "duration": 707,
    "start_time": "2021-12-16T18:23:35.862Z"
   },
   {
    "duration": 430,
    "start_time": "2021-12-16T18:23:36.572Z"
   },
   {
    "duration": 439,
    "start_time": "2021-12-16T18:23:37.008Z"
   },
   {
    "duration": 359,
    "start_time": "2021-12-16T18:23:37.449Z"
   },
   {
    "duration": 353,
    "start_time": "2021-12-16T18:23:37.811Z"
   },
   {
    "duration": 9,
    "start_time": "2021-12-16T18:23:38.166Z"
   },
   {
    "duration": 23,
    "start_time": "2021-12-16T18:23:38.178Z"
   },
   {
    "duration": 57,
    "start_time": "2021-12-16T18:23:38.204Z"
   },
   {
    "duration": 22,
    "start_time": "2021-12-16T18:23:38.264Z"
   },
   {
    "duration": 421,
    "start_time": "2021-12-16T18:23:38.289Z"
   },
   {
    "duration": 50,
    "start_time": "2021-12-16T18:23:38.713Z"
   },
   {
    "duration": 442,
    "start_time": "2021-12-16T18:23:38.765Z"
   },
   {
    "duration": 5,
    "start_time": "2021-12-16T18:23:39.210Z"
   },
   {
    "duration": 5,
    "start_time": "2021-12-16T18:23:39.218Z"
   },
   {
    "duration": 38,
    "start_time": "2021-12-16T18:23:39.225Z"
   },
   {
    "duration": 612,
    "start_time": "2021-12-16T18:23:39.265Z"
   },
   {
    "duration": 13,
    "start_time": "2021-12-16T18:25:19.805Z"
   },
   {
    "duration": 415,
    "start_time": "2021-12-16T18:25:20.750Z"
   },
   {
    "duration": 442,
    "start_time": "2021-12-16T18:25:45.577Z"
   },
   {
    "duration": 667,
    "start_time": "2021-12-16T18:26:08.818Z"
   },
   {
    "duration": 1755,
    "start_time": "2021-12-16T18:26:49.899Z"
   },
   {
    "duration": 1172,
    "start_time": "2021-12-16T18:26:51.658Z"
   },
   {
    "duration": 23,
    "start_time": "2021-12-16T18:26:52.838Z"
   },
   {
    "duration": 5,
    "start_time": "2021-12-16T18:26:52.864Z"
   },
   {
    "duration": 13,
    "start_time": "2021-12-16T18:26:52.872Z"
   },
   {
    "duration": 324,
    "start_time": "2021-12-16T18:26:52.887Z"
   },
   {
    "duration": 311,
    "start_time": "2021-12-16T18:26:53.213Z"
   },
   {
    "duration": 5,
    "start_time": "2021-12-16T18:26:53.528Z"
   },
   {
    "duration": 4,
    "start_time": "2021-12-16T18:26:53.537Z"
   },
   {
    "duration": 38,
    "start_time": "2021-12-16T18:26:53.559Z"
   },
   {
    "duration": 10,
    "start_time": "2021-12-16T18:26:53.600Z"
   },
   {
    "duration": 8,
    "start_time": "2021-12-16T18:26:53.612Z"
   },
   {
    "duration": 53,
    "start_time": "2021-12-16T18:26:53.622Z"
   },
   {
    "duration": 4,
    "start_time": "2021-12-16T18:26:53.677Z"
   },
   {
    "duration": 5,
    "start_time": "2021-12-16T18:26:53.683Z"
   },
   {
    "duration": 186,
    "start_time": "2021-12-16T18:26:53.690Z"
   },
   {
    "duration": 816,
    "start_time": "2021-12-16T18:26:53.879Z"
   },
   {
    "duration": 96,
    "start_time": "2021-12-16T18:26:54.698Z"
   },
   {
    "duration": 76,
    "start_time": "2021-12-16T18:26:54.796Z"
   },
   {
    "duration": 30,
    "start_time": "2021-12-16T18:26:54.875Z"
   },
   {
    "duration": 4,
    "start_time": "2021-12-16T18:26:54.908Z"
   },
   {
    "duration": 46,
    "start_time": "2021-12-16T18:26:54.915Z"
   },
   {
    "duration": 3,
    "start_time": "2021-12-16T18:26:54.964Z"
   },
   {
    "duration": 7,
    "start_time": "2021-12-16T18:26:54.969Z"
   },
   {
    "duration": 596,
    "start_time": "2021-12-16T18:26:54.979Z"
   },
   {
    "duration": 423,
    "start_time": "2021-12-16T18:26:55.580Z"
   },
   {
    "duration": 438,
    "start_time": "2021-12-16T18:26:56.006Z"
   },
   {
    "duration": 348,
    "start_time": "2021-12-16T18:26:56.447Z"
   },
   {
    "duration": 351,
    "start_time": "2021-12-16T18:26:56.798Z"
   },
   {
    "duration": 8,
    "start_time": "2021-12-16T18:26:57.159Z"
   },
   {
    "duration": 22,
    "start_time": "2021-12-16T18:26:57.169Z"
   },
   {
    "duration": 21,
    "start_time": "2021-12-16T18:26:57.194Z"
   },
   {
    "duration": 50,
    "start_time": "2021-12-16T18:26:57.218Z"
   },
   {
    "duration": 415,
    "start_time": "2021-12-16T18:26:57.270Z"
   },
   {
    "duration": 35,
    "start_time": "2021-12-16T18:26:57.687Z"
   },
   {
    "duration": 449,
    "start_time": "2021-12-16T18:26:57.725Z"
   },
   {
    "duration": 5,
    "start_time": "2021-12-16T18:26:58.176Z"
   },
   {
    "duration": 5,
    "start_time": "2021-12-16T18:26:58.183Z"
   },
   {
    "duration": 16,
    "start_time": "2021-12-16T18:26:58.190Z"
   },
   {
    "duration": 574,
    "start_time": "2021-12-16T18:26:58.209Z"
   },
   {
    "duration": 3168,
    "start_time": "2021-12-16T18:27:14.970Z"
   },
   {
    "duration": 3131,
    "start_time": "2021-12-16T18:29:44.658Z"
   },
   {
    "duration": 5586,
    "start_time": "2021-12-16T18:39:49.366Z"
   },
   {
    "duration": 3111,
    "start_time": "2021-12-16T18:40:07.640Z"
   },
   {
    "duration": 476,
    "start_time": "2021-12-16T18:41:22.600Z"
   },
   {
    "duration": 1793,
    "start_time": "2021-12-16T18:42:16.029Z"
   },
   {
    "duration": 961,
    "start_time": "2021-12-16T18:42:17.825Z"
   },
   {
    "duration": 9,
    "start_time": "2021-12-16T18:42:18.790Z"
   },
   {
    "duration": 5,
    "start_time": "2021-12-16T18:42:18.803Z"
   },
   {
    "duration": 13,
    "start_time": "2021-12-16T18:42:18.811Z"
   },
   {
    "duration": 341,
    "start_time": "2021-12-16T18:42:18.827Z"
   },
   {
    "duration": 340,
    "start_time": "2021-12-16T18:42:19.171Z"
   },
   {
    "duration": 7,
    "start_time": "2021-12-16T18:42:19.514Z"
   },
   {
    "duration": 5,
    "start_time": "2021-12-16T18:42:19.526Z"
   },
   {
    "duration": 36,
    "start_time": "2021-12-16T18:42:19.561Z"
   },
   {
    "duration": 11,
    "start_time": "2021-12-16T18:42:19.599Z"
   },
   {
    "duration": 11,
    "start_time": "2021-12-16T18:42:19.612Z"
   },
   {
    "duration": 50,
    "start_time": "2021-12-16T18:42:19.625Z"
   },
   {
    "duration": 5,
    "start_time": "2021-12-16T18:42:19.678Z"
   },
   {
    "duration": 8,
    "start_time": "2021-12-16T18:42:19.685Z"
   },
   {
    "duration": 198,
    "start_time": "2021-12-16T18:42:19.696Z"
   },
   {
    "duration": 988,
    "start_time": "2021-12-16T18:42:19.897Z"
   },
   {
    "duration": 111,
    "start_time": "2021-12-16T18:42:20.889Z"
   },
   {
    "duration": 92,
    "start_time": "2021-12-16T18:42:21.003Z"
   },
   {
    "duration": 33,
    "start_time": "2021-12-16T18:42:21.098Z"
   },
   {
    "duration": 28,
    "start_time": "2021-12-16T18:42:21.135Z"
   },
   {
    "duration": 46,
    "start_time": "2021-12-16T18:42:21.166Z"
   },
   {
    "duration": 4,
    "start_time": "2021-12-16T18:42:21.215Z"
   },
   {
    "duration": 16,
    "start_time": "2021-12-16T18:42:21.222Z"
   },
   {
    "duration": 651,
    "start_time": "2021-12-16T18:42:21.241Z"
   },
   {
    "duration": 625,
    "start_time": "2021-12-16T18:42:21.270Z"
   },
   {
    "duration": 620,
    "start_time": "2021-12-16T18:42:21.277Z"
   },
   {
    "duration": 617,
    "start_time": "2021-12-16T18:42:21.282Z"
   },
   {
    "duration": 615,
    "start_time": "2021-12-16T18:42:21.286Z"
   },
   {
    "duration": 615,
    "start_time": "2021-12-16T18:42:21.288Z"
   },
   {
    "duration": 615,
    "start_time": "2021-12-16T18:42:21.289Z"
   },
   {
    "duration": 615,
    "start_time": "2021-12-16T18:42:21.291Z"
   },
   {
    "duration": 613,
    "start_time": "2021-12-16T18:42:21.295Z"
   },
   {
    "duration": 610,
    "start_time": "2021-12-16T18:42:21.300Z"
   },
   {
    "duration": 610,
    "start_time": "2021-12-16T18:42:21.302Z"
   },
   {
    "duration": 611,
    "start_time": "2021-12-16T18:42:21.304Z"
   },
   {
    "duration": 612,
    "start_time": "2021-12-16T18:42:21.305Z"
   },
   {
    "duration": 613,
    "start_time": "2021-12-16T18:42:21.306Z"
   },
   {
    "duration": 599,
    "start_time": "2021-12-16T18:42:21.322Z"
   },
   {
    "duration": 595,
    "start_time": "2021-12-16T18:42:21.328Z"
   },
   {
    "duration": 595,
    "start_time": "2021-12-16T18:42:21.330Z"
   },
   {
    "duration": 1610,
    "start_time": "2021-12-16T18:42:43.861Z"
   },
   {
    "duration": 916,
    "start_time": "2021-12-16T18:42:45.474Z"
   },
   {
    "duration": 11,
    "start_time": "2021-12-16T18:42:46.394Z"
   },
   {
    "duration": 5,
    "start_time": "2021-12-16T18:42:46.408Z"
   },
   {
    "duration": 12,
    "start_time": "2021-12-16T18:42:46.415Z"
   },
   {
    "duration": 364,
    "start_time": "2021-12-16T18:42:46.430Z"
   },
   {
    "duration": 317,
    "start_time": "2021-12-16T18:42:46.797Z"
   },
   {
    "duration": 6,
    "start_time": "2021-12-16T18:42:47.118Z"
   },
   {
    "duration": 5,
    "start_time": "2021-12-16T18:42:47.127Z"
   },
   {
    "duration": 59,
    "start_time": "2021-12-16T18:42:47.134Z"
   },
   {
    "duration": 10,
    "start_time": "2021-12-16T18:42:47.196Z"
   },
   {
    "duration": 8,
    "start_time": "2021-12-16T18:42:47.209Z"
   },
   {
    "duration": 56,
    "start_time": "2021-12-16T18:42:47.220Z"
   },
   {
    "duration": 5,
    "start_time": "2021-12-16T18:42:47.279Z"
   },
   {
    "duration": 9,
    "start_time": "2021-12-16T18:42:47.287Z"
   },
   {
    "duration": 195,
    "start_time": "2021-12-16T18:42:47.298Z"
   },
   {
    "duration": 769,
    "start_time": "2021-12-16T18:42:47.496Z"
   },
   {
    "duration": 110,
    "start_time": "2021-12-16T18:42:48.267Z"
   },
   {
    "duration": 52,
    "start_time": "2021-12-16T18:42:48.380Z"
   },
   {
    "duration": 29,
    "start_time": "2021-12-16T18:42:48.460Z"
   },
   {
    "duration": 7,
    "start_time": "2021-12-16T18:42:48.492Z"
   },
   {
    "duration": 17,
    "start_time": "2021-12-16T18:42:48.502Z"
   },
   {
    "duration": 4,
    "start_time": "2021-12-16T18:42:48.524Z"
   },
   {
    "duration": 9,
    "start_time": "2021-12-16T18:42:48.559Z"
   },
   {
    "duration": 531,
    "start_time": "2021-12-16T18:42:48.570Z"
   },
   {
    "duration": 436,
    "start_time": "2021-12-16T18:42:49.104Z"
   },
   {
    "duration": 449,
    "start_time": "2021-12-16T18:42:49.542Z"
   },
   {
    "duration": 384,
    "start_time": "2021-12-16T18:42:49.993Z"
   },
   {
    "duration": 487,
    "start_time": "2021-12-16T18:42:50.380Z"
   },
   {
    "duration": 10,
    "start_time": "2021-12-16T18:42:50.869Z"
   },
   {
    "duration": 25,
    "start_time": "2021-12-16T18:42:50.881Z"
   },
   {
    "duration": 23,
    "start_time": "2021-12-16T18:42:50.908Z"
   },
   {
    "duration": 44,
    "start_time": "2021-12-16T18:42:50.933Z"
   },
   {
    "duration": 448,
    "start_time": "2021-12-16T18:42:50.980Z"
   },
   {
    "duration": 49,
    "start_time": "2021-12-16T18:42:51.432Z"
   },
   {
    "duration": 463,
    "start_time": "2021-12-16T18:42:51.483Z"
   },
   {
    "duration": 4,
    "start_time": "2021-12-16T18:42:51.949Z"
   },
   {
    "duration": 4,
    "start_time": "2021-12-16T18:42:51.960Z"
   },
   {
    "duration": 19,
    "start_time": "2021-12-16T18:42:51.967Z"
   },
   {
    "duration": 3049,
    "start_time": "2021-12-16T18:42:51.989Z"
   },
   {
    "duration": 631,
    "start_time": "2021-12-16T18:42:55.041Z"
   },
   {
    "duration": 1817,
    "start_time": "2021-12-16T18:47:58.054Z"
   },
   {
    "duration": 1187,
    "start_time": "2021-12-16T18:50:33.220Z"
   },
   {
    "duration": 1821,
    "start_time": "2021-12-16T18:51:27.748Z"
   },
   {
    "duration": 915,
    "start_time": "2021-12-16T18:51:29.573Z"
   },
   {
    "duration": 8,
    "start_time": "2021-12-16T18:51:30.491Z"
   },
   {
    "duration": 7,
    "start_time": "2021-12-16T18:51:30.503Z"
   },
   {
    "duration": 13,
    "start_time": "2021-12-16T18:51:30.513Z"
   },
   {
    "duration": 458,
    "start_time": "2021-12-16T18:51:30.529Z"
   },
   {
    "duration": 327,
    "start_time": "2021-12-16T18:51:30.990Z"
   },
   {
    "duration": 9,
    "start_time": "2021-12-16T18:51:31.322Z"
   },
   {
    "duration": 25,
    "start_time": "2021-12-16T18:51:31.335Z"
   },
   {
    "duration": 37,
    "start_time": "2021-12-16T18:51:31.362Z"
   },
   {
    "duration": 10,
    "start_time": "2021-12-16T18:51:31.402Z"
   },
   {
    "duration": 23,
    "start_time": "2021-12-16T18:51:31.415Z"
   },
   {
    "duration": 45,
    "start_time": "2021-12-16T18:51:31.441Z"
   },
   {
    "duration": 6,
    "start_time": "2021-12-16T18:51:31.489Z"
   },
   {
    "duration": 6,
    "start_time": "2021-12-16T18:51:31.499Z"
   },
   {
    "duration": 195,
    "start_time": "2021-12-16T18:51:31.507Z"
   },
   {
    "duration": 1240,
    "start_time": "2021-12-16T18:51:31.705Z"
   },
   {
    "duration": 124,
    "start_time": "2021-12-16T18:51:32.959Z"
   },
   {
    "duration": 78,
    "start_time": "2021-12-16T18:51:33.085Z"
   },
   {
    "duration": 40,
    "start_time": "2021-12-16T18:51:33.166Z"
   },
   {
    "duration": 5,
    "start_time": "2021-12-16T18:51:33.209Z"
   },
   {
    "duration": 47,
    "start_time": "2021-12-16T18:51:33.217Z"
   },
   {
    "duration": 4,
    "start_time": "2021-12-16T18:51:33.271Z"
   },
   {
    "duration": 16,
    "start_time": "2021-12-16T18:51:33.278Z"
   },
   {
    "duration": 537,
    "start_time": "2021-12-16T18:51:33.296Z"
   },
   {
    "duration": 518,
    "start_time": "2021-12-16T18:51:33.836Z"
   },
   {
    "duration": 447,
    "start_time": "2021-12-16T18:51:34.360Z"
   },
   {
    "duration": 421,
    "start_time": "2021-12-16T18:51:34.811Z"
   },
   {
    "duration": 366,
    "start_time": "2021-12-16T18:51:35.235Z"
   },
   {
    "duration": 10,
    "start_time": "2021-12-16T18:51:35.603Z"
   },
   {
    "duration": 47,
    "start_time": "2021-12-16T18:51:35.615Z"
   },
   {
    "duration": 23,
    "start_time": "2021-12-16T18:51:35.665Z"
   },
   {
    "duration": 22,
    "start_time": "2021-12-16T18:51:35.691Z"
   },
   {
    "duration": 465,
    "start_time": "2021-12-16T18:51:35.716Z"
   },
   {
    "duration": 34,
    "start_time": "2021-12-16T18:51:36.183Z"
   },
   {
    "duration": 474,
    "start_time": "2021-12-16T18:51:36.220Z"
   },
   {
    "duration": 4,
    "start_time": "2021-12-16T18:51:36.697Z"
   },
   {
    "duration": 6,
    "start_time": "2021-12-16T18:51:36.703Z"
   },
   {
    "duration": 17,
    "start_time": "2021-12-16T18:51:36.711Z"
   },
   {
    "duration": 561,
    "start_time": "2021-12-16T18:51:36.759Z"
   },
   {
    "duration": 626,
    "start_time": "2021-12-16T18:51:36.697Z"
   },
   {
    "duration": 625,
    "start_time": "2021-12-16T18:51:36.699Z"
   },
   {
    "duration": 3,
    "start_time": "2021-12-16T18:52:18.727Z"
   },
   {
    "duration": 3210,
    "start_time": "2021-12-16T18:52:19.776Z"
   },
   {
    "duration": 1675,
    "start_time": "2021-12-16T18:58:49.297Z"
   },
   {
    "duration": 1102,
    "start_time": "2021-12-16T18:58:50.975Z"
   },
   {
    "duration": 9,
    "start_time": "2021-12-16T18:58:52.080Z"
   },
   {
    "duration": 6,
    "start_time": "2021-12-16T18:58:52.092Z"
   },
   {
    "duration": 15,
    "start_time": "2021-12-16T18:58:52.101Z"
   },
   {
    "duration": 345,
    "start_time": "2021-12-16T18:58:52.118Z"
   },
   {
    "duration": 318,
    "start_time": "2021-12-16T18:58:52.465Z"
   },
   {
    "duration": 7,
    "start_time": "2021-12-16T18:58:52.785Z"
   },
   {
    "duration": 5,
    "start_time": "2021-12-16T18:58:52.798Z"
   },
   {
    "duration": 70,
    "start_time": "2021-12-16T18:58:52.807Z"
   },
   {
    "duration": 11,
    "start_time": "2021-12-16T18:58:52.880Z"
   },
   {
    "duration": 18,
    "start_time": "2021-12-16T18:58:52.893Z"
   },
   {
    "duration": 31,
    "start_time": "2021-12-16T18:58:52.914Z"
   },
   {
    "duration": 4,
    "start_time": "2021-12-16T18:58:52.960Z"
   },
   {
    "duration": 5,
    "start_time": "2021-12-16T18:58:52.967Z"
   },
   {
    "duration": 188,
    "start_time": "2021-12-16T18:58:52.974Z"
   },
   {
    "duration": 824,
    "start_time": "2021-12-16T18:58:53.164Z"
   },
   {
    "duration": 99,
    "start_time": "2021-12-16T18:58:53.992Z"
   },
   {
    "duration": 84,
    "start_time": "2021-12-16T18:58:54.094Z"
   },
   {
    "duration": 41,
    "start_time": "2021-12-16T18:58:54.181Z"
   },
   {
    "duration": 4,
    "start_time": "2021-12-16T18:58:54.225Z"
   },
   {
    "duration": 43,
    "start_time": "2021-12-16T18:58:54.232Z"
   },
   {
    "duration": 3,
    "start_time": "2021-12-16T18:58:54.278Z"
   },
   {
    "duration": 10,
    "start_time": "2021-12-16T18:58:54.284Z"
   },
   {
    "duration": 545,
    "start_time": "2021-12-16T18:58:54.297Z"
   },
   {
    "duration": 427,
    "start_time": "2021-12-16T18:58:54.846Z"
   },
   {
    "duration": 496,
    "start_time": "2021-12-16T18:58:55.278Z"
   },
   {
    "duration": 498,
    "start_time": "2021-12-16T18:58:55.778Z"
   },
   {
    "duration": 411,
    "start_time": "2021-12-16T18:58:56.279Z"
   },
   {
    "duration": 10,
    "start_time": "2021-12-16T18:58:56.693Z"
   },
   {
    "duration": 30,
    "start_time": "2021-12-16T18:58:56.706Z"
   },
   {
    "duration": 41,
    "start_time": "2021-12-16T18:58:56.739Z"
   },
   {
    "duration": 25,
    "start_time": "2021-12-16T18:58:56.782Z"
   },
   {
    "duration": 467,
    "start_time": "2021-12-16T18:58:56.810Z"
   },
   {
    "duration": 35,
    "start_time": "2021-12-16T18:58:57.279Z"
   },
   {
    "duration": 460,
    "start_time": "2021-12-16T18:58:57.317Z"
   },
   {
    "duration": 5,
    "start_time": "2021-12-16T18:58:57.780Z"
   },
   {
    "duration": 8,
    "start_time": "2021-12-16T18:58:57.788Z"
   },
   {
    "duration": 20,
    "start_time": "2021-12-16T18:58:57.798Z"
   },
   {
    "duration": 839,
    "start_time": "2021-12-16T18:58:57.820Z"
   },
   {
    "duration": 629,
    "start_time": "2021-12-16T18:58:58.032Z"
   },
   {
    "duration": 629,
    "start_time": "2021-12-16T18:58:58.034Z"
   },
   {
    "duration": 629,
    "start_time": "2021-12-16T18:58:58.035Z"
   },
   {
    "duration": 1981,
    "start_time": "2021-12-16T19:02:18.539Z"
   },
   {
    "duration": 1299,
    "start_time": "2021-12-16T19:02:20.523Z"
   },
   {
    "duration": 12,
    "start_time": "2021-12-16T19:02:21.826Z"
   },
   {
    "duration": 21,
    "start_time": "2021-12-16T19:02:21.841Z"
   },
   {
    "duration": 17,
    "start_time": "2021-12-16T19:02:21.865Z"
   },
   {
    "duration": 438,
    "start_time": "2021-12-16T19:02:21.885Z"
   },
   {
    "duration": 319,
    "start_time": "2021-12-16T19:02:22.326Z"
   },
   {
    "duration": 14,
    "start_time": "2021-12-16T19:02:22.649Z"
   },
   {
    "duration": 8,
    "start_time": "2021-12-16T19:02:22.667Z"
   },
   {
    "duration": 41,
    "start_time": "2021-12-16T19:02:22.677Z"
   },
   {
    "duration": 40,
    "start_time": "2021-12-16T19:02:22.721Z"
   },
   {
    "duration": 13,
    "start_time": "2021-12-16T19:02:22.764Z"
   },
   {
    "duration": 28,
    "start_time": "2021-12-16T19:02:22.780Z"
   },
   {
    "duration": 5,
    "start_time": "2021-12-16T19:02:22.811Z"
   },
   {
    "duration": 42,
    "start_time": "2021-12-16T19:02:22.819Z"
   },
   {
    "duration": 188,
    "start_time": "2021-12-16T19:02:22.864Z"
   },
   {
    "duration": 1263,
    "start_time": "2021-12-16T19:02:23.060Z"
   },
   {
    "duration": 97,
    "start_time": "2021-12-16T19:02:24.327Z"
   },
   {
    "duration": 71,
    "start_time": "2021-12-16T19:02:24.427Z"
   },
   {
    "duration": 61,
    "start_time": "2021-12-16T19:02:24.501Z"
   },
   {
    "duration": 8,
    "start_time": "2021-12-16T19:02:24.565Z"
   },
   {
    "duration": 23,
    "start_time": "2021-12-16T19:02:24.576Z"
   },
   {
    "duration": 4,
    "start_time": "2021-12-16T19:02:24.607Z"
   },
   {
    "duration": 7,
    "start_time": "2021-12-16T19:02:24.616Z"
   },
   {
    "duration": 701,
    "start_time": "2021-12-16T19:02:24.662Z"
   },
   {
    "duration": 469,
    "start_time": "2021-12-16T19:02:25.366Z"
   },
   {
    "duration": 561,
    "start_time": "2021-12-16T19:02:25.838Z"
   },
   {
    "duration": 382,
    "start_time": "2021-12-16T19:02:26.402Z"
   },
   {
    "duration": 360,
    "start_time": "2021-12-16T19:02:26.786Z"
   },
   {
    "duration": 12,
    "start_time": "2021-12-16T19:02:27.149Z"
   },
   {
    "duration": 22,
    "start_time": "2021-12-16T19:02:27.163Z"
   },
   {
    "duration": 21,
    "start_time": "2021-12-16T19:02:27.188Z"
   },
   {
    "duration": 50,
    "start_time": "2021-12-16T19:02:27.211Z"
   },
   {
    "duration": 482,
    "start_time": "2021-12-16T19:02:27.263Z"
   },
   {
    "duration": 42,
    "start_time": "2021-12-16T19:02:27.748Z"
   },
   {
    "duration": 450,
    "start_time": "2021-12-16T19:02:27.793Z"
   },
   {
    "duration": 14,
    "start_time": "2021-12-16T19:02:28.246Z"
   },
   {
    "duration": 4,
    "start_time": "2021-12-16T19:02:28.262Z"
   },
   {
    "duration": 15,
    "start_time": "2021-12-16T19:02:28.268Z"
   },
   {
    "duration": 618,
    "start_time": "2021-12-16T19:02:28.286Z"
   },
   {
    "duration": 632,
    "start_time": "2021-12-16T19:02:28.275Z"
   },
   {
    "duration": 631,
    "start_time": "2021-12-16T19:02:28.278Z"
   },
   {
    "duration": 632,
    "start_time": "2021-12-16T19:02:28.279Z"
   },
   {
    "duration": 632,
    "start_time": "2021-12-16T19:02:28.281Z"
   },
   {
    "duration": 1914,
    "start_time": "2021-12-16T19:03:34.614Z"
   },
   {
    "duration": 1279,
    "start_time": "2021-12-16T19:03:36.531Z"
   },
   {
    "duration": 11,
    "start_time": "2021-12-16T19:03:37.815Z"
   },
   {
    "duration": 9,
    "start_time": "2021-12-16T19:03:37.829Z"
   },
   {
    "duration": 31,
    "start_time": "2021-12-16T19:03:37.840Z"
   },
   {
    "duration": 414,
    "start_time": "2021-12-16T19:03:37.874Z"
   },
   {
    "duration": 416,
    "start_time": "2021-12-16T19:03:38.291Z"
   },
   {
    "duration": 7,
    "start_time": "2021-12-16T19:03:38.710Z"
   },
   {
    "duration": 5,
    "start_time": "2021-12-16T19:03:38.723Z"
   },
   {
    "duration": 66,
    "start_time": "2021-12-16T19:03:38.731Z"
   },
   {
    "duration": 13,
    "start_time": "2021-12-16T19:03:38.800Z"
   },
   {
    "duration": 46,
    "start_time": "2021-12-16T19:03:38.816Z"
   },
   {
    "duration": 23,
    "start_time": "2021-12-16T19:03:38.865Z"
   },
   {
    "duration": 6,
    "start_time": "2021-12-16T19:03:38.890Z"
   },
   {
    "duration": 6,
    "start_time": "2021-12-16T19:03:38.899Z"
   },
   {
    "duration": 212,
    "start_time": "2021-12-16T19:03:38.908Z"
   },
   {
    "duration": 760,
    "start_time": "2021-12-16T19:03:39.123Z"
   },
   {
    "duration": 96,
    "start_time": "2021-12-16T19:03:39.886Z"
   },
   {
    "duration": 50,
    "start_time": "2021-12-16T19:03:39.984Z"
   },
   {
    "duration": 32,
    "start_time": "2021-12-16T19:03:40.059Z"
   },
   {
    "duration": 9,
    "start_time": "2021-12-16T19:03:40.094Z"
   },
   {
    "duration": 25,
    "start_time": "2021-12-16T19:03:40.106Z"
   },
   {
    "duration": 27,
    "start_time": "2021-12-16T19:03:40.133Z"
   },
   {
    "duration": 18,
    "start_time": "2021-12-16T19:03:40.162Z"
   },
   {
    "duration": 507,
    "start_time": "2021-12-16T19:03:40.183Z"
   },
   {
    "duration": 487,
    "start_time": "2021-12-16T19:03:40.693Z"
   },
   {
    "duration": 440,
    "start_time": "2021-12-16T19:03:41.185Z"
   },
   {
    "duration": 352,
    "start_time": "2021-12-16T19:03:41.628Z"
   },
   {
    "duration": 360,
    "start_time": "2021-12-16T19:03:41.982Z"
   },
   {
    "duration": 14,
    "start_time": "2021-12-16T19:03:42.345Z"
   },
   {
    "duration": 21,
    "start_time": "2021-12-16T19:03:42.361Z"
   },
   {
    "duration": 21,
    "start_time": "2021-12-16T19:03:42.385Z"
   },
   {
    "duration": 22,
    "start_time": "2021-12-16T19:03:42.408Z"
   },
   {
    "duration": 423,
    "start_time": "2021-12-16T19:03:42.459Z"
   },
   {
    "duration": 33,
    "start_time": "2021-12-16T19:03:42.884Z"
   },
   {
    "duration": 432,
    "start_time": "2021-12-16T19:03:42.919Z"
   },
   {
    "duration": 8,
    "start_time": "2021-12-16T19:03:43.354Z"
   },
   {
    "duration": 6,
    "start_time": "2021-12-16T19:03:43.364Z"
   },
   {
    "duration": 21,
    "start_time": "2021-12-16T19:03:43.372Z"
   },
   {
    "duration": 27,
    "start_time": "2021-12-16T19:03:43.395Z"
   },
   {
    "duration": 3,
    "start_time": "2021-12-16T19:03:43.425Z"
   },
   {
    "duration": 3,
    "start_time": "2021-12-16T19:03:43.459Z"
   },
   {
    "duration": 4533,
    "start_time": "2021-12-16T19:03:43.465Z"
   },
   {
    "duration": 664,
    "start_time": "2021-12-16T19:03:48.001Z"
   },
   {
    "duration": 3060,
    "start_time": "2021-12-16T19:06:35.520Z"
   },
   {
    "duration": 496,
    "start_time": "2021-12-16T19:09:15.937Z"
   },
   {
    "duration": 4,
    "start_time": "2021-12-16T19:09:19.919Z"
   },
   {
    "duration": 4494,
    "start_time": "2021-12-16T19:09:20.791Z"
   },
   {
    "duration": 870,
    "start_time": "2021-12-16T19:09:25.288Z"
   },
   {
    "duration": 1674,
    "start_time": "2021-12-16T19:11:57.428Z"
   },
   {
    "duration": 1080,
    "start_time": "2021-12-16T19:11:59.105Z"
   },
   {
    "duration": 10,
    "start_time": "2021-12-16T19:12:00.188Z"
   },
   {
    "duration": 14,
    "start_time": "2021-12-16T19:12:00.200Z"
   },
   {
    "duration": 18,
    "start_time": "2021-12-16T19:12:00.217Z"
   },
   {
    "duration": 321,
    "start_time": "2021-12-16T19:12:00.238Z"
   },
   {
    "duration": 313,
    "start_time": "2021-12-16T19:12:00.562Z"
   },
   {
    "duration": 6,
    "start_time": "2021-12-16T19:12:00.877Z"
   },
   {
    "duration": 6,
    "start_time": "2021-12-16T19:12:00.888Z"
   },
   {
    "duration": 64,
    "start_time": "2021-12-16T19:12:00.898Z"
   },
   {
    "duration": 12,
    "start_time": "2021-12-16T19:12:00.965Z"
   },
   {
    "duration": 13,
    "start_time": "2021-12-16T19:12:00.980Z"
   },
   {
    "duration": 25,
    "start_time": "2021-12-16T19:12:00.995Z"
   },
   {
    "duration": 38,
    "start_time": "2021-12-16T19:12:01.022Z"
   },
   {
    "duration": 10,
    "start_time": "2021-12-16T19:12:01.063Z"
   },
   {
    "duration": 193,
    "start_time": "2021-12-16T19:12:01.075Z"
   },
   {
    "duration": 783,
    "start_time": "2021-12-16T19:12:01.271Z"
   },
   {
    "duration": 99,
    "start_time": "2021-12-16T19:12:02.060Z"
   },
   {
    "duration": 48,
    "start_time": "2021-12-16T19:12:02.162Z"
   },
   {
    "duration": 50,
    "start_time": "2021-12-16T19:12:02.212Z"
   },
   {
    "duration": 6,
    "start_time": "2021-12-16T19:12:02.265Z"
   },
   {
    "duration": 16,
    "start_time": "2021-12-16T19:12:02.274Z"
   },
   {
    "duration": 4,
    "start_time": "2021-12-16T19:12:02.292Z"
   },
   {
    "duration": 9,
    "start_time": "2021-12-16T19:12:02.299Z"
   },
   {
    "duration": 564,
    "start_time": "2021-12-16T19:12:02.310Z"
   },
   {
    "duration": 595,
    "start_time": "2021-12-16T19:12:02.877Z"
   },
   {
    "duration": 568,
    "start_time": "2021-12-16T19:12:03.477Z"
   },
   {
    "duration": 476,
    "start_time": "2021-12-16T19:12:04.049Z"
   },
   {
    "duration": 467,
    "start_time": "2021-12-16T19:12:04.528Z"
   },
   {
    "duration": 9,
    "start_time": "2021-12-16T19:12:04.999Z"
   },
   {
    "duration": 33,
    "start_time": "2021-12-16T19:12:05.011Z"
   },
   {
    "duration": 24,
    "start_time": "2021-12-16T19:12:05.065Z"
   },
   {
    "duration": 22,
    "start_time": "2021-12-16T19:12:05.091Z"
   },
   {
    "duration": 608,
    "start_time": "2021-12-16T19:12:05.115Z"
   },
   {
    "duration": 43,
    "start_time": "2021-12-16T19:12:05.725Z"
   },
   {
    "duration": 432,
    "start_time": "2021-12-16T19:12:05.771Z"
   },
   {
    "duration": 4,
    "start_time": "2021-12-16T19:12:06.206Z"
   },
   {
    "duration": 11,
    "start_time": "2021-12-16T19:12:06.212Z"
   },
   {
    "duration": 33,
    "start_time": "2021-12-16T19:12:06.226Z"
   },
   {
    "duration": 28,
    "start_time": "2021-12-16T19:12:06.262Z"
   },
   {
    "duration": 5,
    "start_time": "2021-12-16T19:12:06.293Z"
   },
   {
    "duration": 3061,
    "start_time": "2021-12-16T19:12:06.301Z"
   },
   {
    "duration": 1248,
    "start_time": "2021-12-16T19:12:09.364Z"
   },
   {
    "duration": 1395,
    "start_time": "2021-12-16T19:13:06.778Z"
   },
   {
    "duration": 53,
    "start_time": "2021-12-16T19:15:44.932Z"
   },
   {
    "duration": 3,
    "start_time": "2021-12-16T19:15:50.804Z"
   },
   {
    "duration": 4,
    "start_time": "2021-12-16T19:24:56.101Z"
   },
   {
    "duration": 19,
    "start_time": "2021-12-16T19:24:58.991Z"
   },
   {
    "duration": 4,
    "start_time": "2021-12-16T19:24:59.491Z"
   },
   {
    "duration": 4,
    "start_time": "2021-12-16T19:25:15.333Z"
   },
   {
    "duration": 21,
    "start_time": "2021-12-16T19:25:15.763Z"
   },
   {
    "duration": 3,
    "start_time": "2021-12-16T19:25:16.182Z"
   },
   {
    "duration": 3243,
    "start_time": "2021-12-16T19:25:17.835Z"
   },
   {
    "duration": 859,
    "start_time": "2021-12-16T19:25:35.692Z"
   },
   {
    "duration": 1577,
    "start_time": "2021-12-16T19:26:46.582Z"
   },
   {
    "duration": 898,
    "start_time": "2021-12-16T19:26:48.162Z"
   },
   {
    "duration": 8,
    "start_time": "2021-12-16T19:26:49.063Z"
   },
   {
    "duration": 5,
    "start_time": "2021-12-16T19:26:49.074Z"
   },
   {
    "duration": 15,
    "start_time": "2021-12-16T19:26:49.081Z"
   },
   {
    "duration": 330,
    "start_time": "2021-12-16T19:26:49.098Z"
   },
   {
    "duration": 292,
    "start_time": "2021-12-16T19:26:49.431Z"
   },
   {
    "duration": 6,
    "start_time": "2021-12-16T19:26:49.727Z"
   },
   {
    "duration": 23,
    "start_time": "2021-12-16T19:26:49.736Z"
   },
   {
    "duration": 38,
    "start_time": "2021-12-16T19:26:49.761Z"
   },
   {
    "duration": 11,
    "start_time": "2021-12-16T19:26:49.802Z"
   },
   {
    "duration": 12,
    "start_time": "2021-12-16T19:26:49.815Z"
   },
   {
    "duration": 52,
    "start_time": "2021-12-16T19:26:49.829Z"
   },
   {
    "duration": 5,
    "start_time": "2021-12-16T19:26:49.883Z"
   },
   {
    "duration": 6,
    "start_time": "2021-12-16T19:26:49.890Z"
   },
   {
    "duration": 217,
    "start_time": "2021-12-16T19:26:49.898Z"
   },
   {
    "duration": 762,
    "start_time": "2021-12-16T19:26:50.118Z"
   },
   {
    "duration": 102,
    "start_time": "2021-12-16T19:26:50.883Z"
   },
   {
    "duration": 85,
    "start_time": "2021-12-16T19:26:50.988Z"
   },
   {
    "duration": 36,
    "start_time": "2021-12-16T19:26:51.076Z"
   },
   {
    "duration": 6,
    "start_time": "2021-12-16T19:26:51.115Z"
   },
   {
    "duration": 46,
    "start_time": "2021-12-16T19:26:51.123Z"
   },
   {
    "duration": 3,
    "start_time": "2021-12-16T19:26:51.175Z"
   },
   {
    "duration": 7,
    "start_time": "2021-12-16T19:26:51.181Z"
   },
   {
    "duration": 508,
    "start_time": "2021-12-16T19:26:51.191Z"
   },
   {
    "duration": 536,
    "start_time": "2021-12-16T19:26:51.702Z"
   },
   {
    "duration": 425,
    "start_time": "2021-12-16T19:26:52.240Z"
   },
   {
    "duration": 361,
    "start_time": "2021-12-16T19:26:52.668Z"
   },
   {
    "duration": 483,
    "start_time": "2021-12-16T19:26:53.032Z"
   },
   {
    "duration": 9,
    "start_time": "2021-12-16T19:26:53.517Z"
   },
   {
    "duration": 43,
    "start_time": "2021-12-16T19:26:53.528Z"
   },
   {
    "duration": 27,
    "start_time": "2021-12-16T19:26:53.575Z"
   },
   {
    "duration": 27,
    "start_time": "2021-12-16T19:26:53.606Z"
   },
   {
    "duration": 439,
    "start_time": "2021-12-16T19:26:53.637Z"
   },
   {
    "duration": 33,
    "start_time": "2021-12-16T19:26:54.079Z"
   },
   {
    "duration": 446,
    "start_time": "2021-12-16T19:26:54.114Z"
   },
   {
    "duration": 4,
    "start_time": "2021-12-16T19:26:54.563Z"
   },
   {
    "duration": 5,
    "start_time": "2021-12-16T19:26:54.570Z"
   },
   {
    "duration": 20,
    "start_time": "2021-12-16T19:26:54.578Z"
   },
   {
    "duration": 5,
    "start_time": "2021-12-16T19:26:54.600Z"
   },
   {
    "duration": 67,
    "start_time": "2021-12-16T19:26:54.608Z"
   },
   {
    "duration": 4,
    "start_time": "2021-12-16T19:26:54.678Z"
   },
   {
    "duration": 3164,
    "start_time": "2021-12-16T19:26:54.685Z"
   },
   {
    "duration": 1126,
    "start_time": "2021-12-16T19:26:57.859Z"
   },
   {
    "duration": 386,
    "start_time": "2021-12-16T19:29:53.662Z"
   },
   {
    "duration": 1649,
    "start_time": "2021-12-16T19:30:01.128Z"
   },
   {
    "duration": 939,
    "start_time": "2021-12-16T19:30:02.780Z"
   },
   {
    "duration": 9,
    "start_time": "2021-12-16T19:30:03.722Z"
   },
   {
    "duration": 5,
    "start_time": "2021-12-16T19:30:03.733Z"
   },
   {
    "duration": 27,
    "start_time": "2021-12-16T19:30:03.740Z"
   },
   {
    "duration": 314,
    "start_time": "2021-12-16T19:30:03.769Z"
   },
   {
    "duration": 300,
    "start_time": "2021-12-16T19:30:04.085Z"
   },
   {
    "duration": 6,
    "start_time": "2021-12-16T19:30:04.387Z"
   },
   {
    "duration": 5,
    "start_time": "2021-12-16T19:30:04.396Z"
   },
   {
    "duration": 70,
    "start_time": "2021-12-16T19:30:04.404Z"
   },
   {
    "duration": 11,
    "start_time": "2021-12-16T19:30:04.476Z"
   },
   {
    "duration": 11,
    "start_time": "2021-12-16T19:30:04.489Z"
   },
   {
    "duration": 23,
    "start_time": "2021-12-16T19:30:04.502Z"
   },
   {
    "duration": 33,
    "start_time": "2021-12-16T19:30:04.527Z"
   },
   {
    "duration": 6,
    "start_time": "2021-12-16T19:30:04.563Z"
   },
   {
    "duration": 198,
    "start_time": "2021-12-16T19:30:04.572Z"
   },
   {
    "duration": 937,
    "start_time": "2021-12-16T19:30:04.773Z"
   },
   {
    "duration": 101,
    "start_time": "2021-12-16T19:30:05.713Z"
   },
   {
    "duration": 66,
    "start_time": "2021-12-16T19:30:05.816Z"
   },
   {
    "duration": 29,
    "start_time": "2021-12-16T19:30:05.885Z"
   },
   {
    "duration": 5,
    "start_time": "2021-12-16T19:30:05.917Z"
   },
   {
    "duration": 45,
    "start_time": "2021-12-16T19:30:05.924Z"
   },
   {
    "duration": 3,
    "start_time": "2021-12-16T19:30:05.971Z"
   },
   {
    "duration": 9,
    "start_time": "2021-12-16T19:30:05.977Z"
   },
   {
    "duration": 737,
    "start_time": "2021-12-16T19:30:05.989Z"
   },
   {
    "duration": 432,
    "start_time": "2021-12-16T19:30:06.728Z"
   },
   {
    "duration": 423,
    "start_time": "2021-12-16T19:30:07.165Z"
   },
   {
    "duration": 342,
    "start_time": "2021-12-16T19:30:07.592Z"
   },
   {
    "duration": 355,
    "start_time": "2021-12-16T19:30:07.936Z"
   },
   {
    "duration": 9,
    "start_time": "2021-12-16T19:30:08.293Z"
   },
   {
    "duration": 26,
    "start_time": "2021-12-16T19:30:08.304Z"
   },
   {
    "duration": 44,
    "start_time": "2021-12-16T19:30:08.333Z"
   },
   {
    "duration": 22,
    "start_time": "2021-12-16T19:30:08.379Z"
   },
   {
    "duration": 425,
    "start_time": "2021-12-16T19:30:08.404Z"
   },
   {
    "duration": 44,
    "start_time": "2021-12-16T19:30:08.831Z"
   },
   {
    "duration": 435,
    "start_time": "2021-12-16T19:30:08.877Z"
   },
   {
    "duration": 5,
    "start_time": "2021-12-16T19:30:09.314Z"
   },
   {
    "duration": 5,
    "start_time": "2021-12-16T19:30:09.322Z"
   },
   {
    "duration": 42,
    "start_time": "2021-12-16T19:30:09.329Z"
   },
   {
    "duration": 7,
    "start_time": "2021-12-16T19:30:09.373Z"
   },
   {
    "duration": 26,
    "start_time": "2021-12-16T19:30:09.382Z"
   },
   {
    "duration": 3,
    "start_time": "2021-12-16T19:30:09.410Z"
   },
   {
    "duration": 3103,
    "start_time": "2021-12-16T19:30:09.416Z"
   },
   {
    "duration": 524,
    "start_time": "2021-12-16T19:30:12.522Z"
   },
   {
    "duration": 643,
    "start_time": "2021-12-16T19:30:12.405Z"
   },
   {
    "duration": 7046,
    "start_time": "2021-12-16T19:32:45.553Z"
   },
   {
    "duration": 1616,
    "start_time": "2021-12-16T19:45:57.064Z"
   },
   {
    "duration": 904,
    "start_time": "2021-12-16T19:45:58.683Z"
   },
   {
    "duration": 8,
    "start_time": "2021-12-16T19:45:59.590Z"
   },
   {
    "duration": 9,
    "start_time": "2021-12-16T19:45:59.601Z"
   },
   {
    "duration": 12,
    "start_time": "2021-12-16T19:45:59.612Z"
   },
   {
    "duration": 317,
    "start_time": "2021-12-16T19:45:59.627Z"
   },
   {
    "duration": 317,
    "start_time": "2021-12-16T19:45:59.947Z"
   },
   {
    "duration": 6,
    "start_time": "2021-12-16T19:46:00.268Z"
   },
   {
    "duration": 7,
    "start_time": "2021-12-16T19:46:00.277Z"
   },
   {
    "duration": 39,
    "start_time": "2021-12-16T19:46:00.286Z"
   },
   {
    "duration": 11,
    "start_time": "2021-12-16T19:46:00.359Z"
   },
   {
    "duration": 12,
    "start_time": "2021-12-16T19:46:00.373Z"
   },
   {
    "duration": 25,
    "start_time": "2021-12-16T19:46:00.388Z"
   },
   {
    "duration": 4,
    "start_time": "2021-12-16T19:46:00.416Z"
   },
   {
    "duration": 11,
    "start_time": "2021-12-16T19:46:00.422Z"
   },
   {
    "duration": 172,
    "start_time": "2021-12-16T19:46:00.460Z"
   },
   {
    "duration": 772,
    "start_time": "2021-12-16T19:46:00.634Z"
   },
   {
    "duration": 98,
    "start_time": "2021-12-16T19:46:01.409Z"
   },
   {
    "duration": 68,
    "start_time": "2021-12-16T19:46:01.509Z"
   },
   {
    "duration": 30,
    "start_time": "2021-12-16T19:46:01.579Z"
   },
   {
    "duration": 13,
    "start_time": "2021-12-16T19:46:01.613Z"
   },
   {
    "duration": 40,
    "start_time": "2021-12-16T19:46:01.629Z"
   },
   {
    "duration": 3,
    "start_time": "2021-12-16T19:46:01.675Z"
   },
   {
    "duration": 13,
    "start_time": "2021-12-16T19:46:01.681Z"
   },
   {
    "duration": 522,
    "start_time": "2021-12-16T19:46:01.697Z"
   },
   {
    "duration": 424,
    "start_time": "2021-12-16T19:46:02.222Z"
   },
   {
    "duration": 425,
    "start_time": "2021-12-16T19:46:02.648Z"
   },
   {
    "duration": 343,
    "start_time": "2021-12-16T19:46:03.075Z"
   },
   {
    "duration": 359,
    "start_time": "2021-12-16T19:46:03.420Z"
   },
   {
    "duration": 8,
    "start_time": "2021-12-16T19:46:03.782Z"
   },
   {
    "duration": 24,
    "start_time": "2021-12-16T19:46:03.792Z"
   },
   {
    "duration": 46,
    "start_time": "2021-12-16T19:46:03.818Z"
   },
   {
    "duration": 22,
    "start_time": "2021-12-16T19:46:03.867Z"
   },
   {
    "duration": 526,
    "start_time": "2021-12-16T19:46:03.892Z"
   },
   {
    "duration": 46,
    "start_time": "2021-12-16T19:46:04.420Z"
   },
   {
    "duration": 541,
    "start_time": "2021-12-16T19:46:04.469Z"
   },
   {
    "duration": 5,
    "start_time": "2021-12-16T19:46:05.013Z"
   },
   {
    "duration": 37,
    "start_time": "2021-12-16T19:46:05.020Z"
   },
   {
    "duration": 23,
    "start_time": "2021-12-16T19:46:05.060Z"
   },
   {
    "duration": 29,
    "start_time": "2021-12-16T19:46:05.086Z"
   },
   {
    "duration": 46,
    "start_time": "2021-12-16T19:46:05.118Z"
   },
   {
    "duration": 4,
    "start_time": "2021-12-16T19:46:05.166Z"
   },
   {
    "duration": 7065,
    "start_time": "2021-12-16T19:46:05.172Z"
   },
   {
    "duration": 630,
    "start_time": "2021-12-16T19:46:11.609Z"
   },
   {
    "duration": 627,
    "start_time": "2021-12-16T19:46:11.614Z"
   },
   {
    "duration": 684,
    "start_time": "2021-12-16T19:47:37.042Z"
   },
   {
    "duration": 384,
    "start_time": "2021-12-16T19:53:44.097Z"
   },
   {
    "duration": 3127,
    "start_time": "2021-12-16T19:53:56.102Z"
   },
   {
    "duration": 1536,
    "start_time": "2021-12-16T19:55:42.128Z"
   },
   {
    "duration": 909,
    "start_time": "2021-12-16T19:55:43.667Z"
   },
   {
    "duration": 9,
    "start_time": "2021-12-16T19:55:44.579Z"
   },
   {
    "duration": 12,
    "start_time": "2021-12-16T19:55:44.591Z"
   },
   {
    "duration": 12,
    "start_time": "2021-12-16T19:55:44.606Z"
   },
   {
    "duration": 316,
    "start_time": "2021-12-16T19:55:44.621Z"
   },
   {
    "duration": 301,
    "start_time": "2021-12-16T19:55:44.940Z"
   },
   {
    "duration": 17,
    "start_time": "2021-12-16T19:55:45.244Z"
   },
   {
    "duration": 4,
    "start_time": "2021-12-16T19:55:45.267Z"
   },
   {
    "duration": 40,
    "start_time": "2021-12-16T19:55:45.275Z"
   },
   {
    "duration": 48,
    "start_time": "2021-12-16T19:55:45.318Z"
   },
   {
    "duration": 9,
    "start_time": "2021-12-16T19:55:45.369Z"
   },
   {
    "duration": 30,
    "start_time": "2021-12-16T19:55:45.380Z"
   },
   {
    "duration": 4,
    "start_time": "2021-12-16T19:55:45.413Z"
   },
   {
    "duration": 8,
    "start_time": "2021-12-16T19:55:45.419Z"
   },
   {
    "duration": 174,
    "start_time": "2021-12-16T19:55:45.459Z"
   },
   {
    "duration": 1044,
    "start_time": "2021-12-16T19:55:45.636Z"
   },
   {
    "duration": 102,
    "start_time": "2021-12-16T19:55:46.684Z"
   },
   {
    "duration": 50,
    "start_time": "2021-12-16T19:55:46.788Z"
   },
   {
    "duration": 30,
    "start_time": "2021-12-16T19:55:46.859Z"
   },
   {
    "duration": 6,
    "start_time": "2021-12-16T19:55:46.891Z"
   },
   {
    "duration": 16,
    "start_time": "2021-12-16T19:55:46.900Z"
   },
   {
    "duration": 4,
    "start_time": "2021-12-16T19:55:46.918Z"
   },
   {
    "duration": 5,
    "start_time": "2021-12-16T19:55:46.960Z"
   },
   {
    "duration": 543,
    "start_time": "2021-12-16T19:55:46.968Z"
   },
   {
    "duration": 464,
    "start_time": "2021-12-16T19:55:47.513Z"
   },
   {
    "duration": 454,
    "start_time": "2021-12-16T19:55:47.983Z"
   },
   {
    "duration": 349,
    "start_time": "2021-12-16T19:55:48.441Z"
   },
   {
    "duration": 359,
    "start_time": "2021-12-16T19:55:48.792Z"
   },
   {
    "duration": 13,
    "start_time": "2021-12-16T19:55:49.153Z"
   },
   {
    "duration": 22,
    "start_time": "2021-12-16T19:55:49.169Z"
   },
   {
    "duration": 22,
    "start_time": "2021-12-16T19:55:49.193Z"
   },
   {
    "duration": 53,
    "start_time": "2021-12-16T19:55:49.218Z"
   },
   {
    "duration": 432,
    "start_time": "2021-12-16T19:55:49.274Z"
   },
   {
    "duration": 32,
    "start_time": "2021-12-16T19:55:49.708Z"
   },
   {
    "duration": 479,
    "start_time": "2021-12-16T19:55:49.759Z"
   },
   {
    "duration": 5,
    "start_time": "2021-12-16T19:55:50.241Z"
   },
   {
    "duration": 15,
    "start_time": "2021-12-16T19:55:50.249Z"
   },
   {
    "duration": 20,
    "start_time": "2021-12-16T19:55:50.267Z"
   },
   {
    "duration": 6,
    "start_time": "2021-12-16T19:55:50.290Z"
   },
   {
    "duration": 70,
    "start_time": "2021-12-16T19:55:50.299Z"
   },
   {
    "duration": 3118,
    "start_time": "2021-12-16T19:55:50.371Z"
   },
   {
    "duration": 520,
    "start_time": "2021-12-16T19:55:53.492Z"
   },
   {
    "duration": 497,
    "start_time": "2021-12-16T20:06:13.828Z"
   },
   {
    "duration": 456,
    "start_time": "2021-12-16T20:06:25.712Z"
   },
   {
    "duration": 1631,
    "start_time": "2021-12-16T20:50:06.400Z"
   },
   {
    "duration": 936,
    "start_time": "2021-12-16T20:50:08.034Z"
   },
   {
    "duration": 10,
    "start_time": "2021-12-16T20:50:08.973Z"
   },
   {
    "duration": 6,
    "start_time": "2021-12-16T20:50:08.987Z"
   },
   {
    "duration": 14,
    "start_time": "2021-12-16T20:50:08.996Z"
   },
   {
    "duration": 360,
    "start_time": "2021-12-16T20:50:09.014Z"
   },
   {
    "duration": 322,
    "start_time": "2021-12-16T20:50:09.377Z"
   },
   {
    "duration": 6,
    "start_time": "2021-12-16T20:50:09.703Z"
   },
   {
    "duration": 5,
    "start_time": "2021-12-16T20:50:09.713Z"
   },
   {
    "duration": 67,
    "start_time": "2021-12-16T20:50:09.721Z"
   },
   {
    "duration": 14,
    "start_time": "2021-12-16T20:50:09.791Z"
   },
   {
    "duration": 9,
    "start_time": "2021-12-16T20:50:09.808Z"
   },
   {
    "duration": 54,
    "start_time": "2021-12-16T20:50:09.819Z"
   },
   {
    "duration": 5,
    "start_time": "2021-12-16T20:50:09.875Z"
   },
   {
    "duration": 5,
    "start_time": "2021-12-16T20:50:09.882Z"
   },
   {
    "duration": 208,
    "start_time": "2021-12-16T20:50:09.890Z"
   },
   {
    "duration": 830,
    "start_time": "2021-12-16T20:50:10.101Z"
   },
   {
    "duration": 103,
    "start_time": "2021-12-16T20:50:10.934Z"
   },
   {
    "duration": 80,
    "start_time": "2021-12-16T20:50:11.041Z"
   },
   {
    "duration": 62,
    "start_time": "2021-12-16T20:50:11.125Z"
   },
   {
    "duration": 7,
    "start_time": "2021-12-16T20:50:11.190Z"
   },
   {
    "duration": 25,
    "start_time": "2021-12-16T20:50:11.201Z"
   },
   {
    "duration": 28,
    "start_time": "2021-12-16T20:50:11.233Z"
   },
   {
    "duration": 7,
    "start_time": "2021-12-16T20:50:11.264Z"
   },
   {
    "duration": 531,
    "start_time": "2021-12-16T20:50:11.274Z"
   },
   {
    "duration": 424,
    "start_time": "2021-12-16T20:50:11.808Z"
   },
   {
    "duration": 450,
    "start_time": "2021-12-16T20:50:12.235Z"
   },
   {
    "duration": 487,
    "start_time": "2021-12-16T20:50:12.688Z"
   },
   {
    "duration": 400,
    "start_time": "2021-12-16T20:50:13.178Z"
   },
   {
    "duration": 9,
    "start_time": "2021-12-16T20:50:13.581Z"
   },
   {
    "duration": 26,
    "start_time": "2021-12-16T20:50:13.593Z"
   },
   {
    "duration": 49,
    "start_time": "2021-12-16T20:50:13.621Z"
   },
   {
    "duration": 30,
    "start_time": "2021-12-16T20:50:13.673Z"
   },
   {
    "duration": 434,
    "start_time": "2021-12-16T20:50:13.705Z"
   },
   {
    "duration": 48,
    "start_time": "2021-12-16T20:50:14.142Z"
   },
   {
    "duration": 443,
    "start_time": "2021-12-16T20:50:14.193Z"
   },
   {
    "duration": 5,
    "start_time": "2021-12-16T20:50:14.639Z"
   },
   {
    "duration": 16,
    "start_time": "2021-12-16T20:50:14.647Z"
   },
   {
    "duration": 20,
    "start_time": "2021-12-16T20:50:14.666Z"
   },
   {
    "duration": 8,
    "start_time": "2021-12-16T20:50:14.689Z"
   },
   {
    "duration": 71,
    "start_time": "2021-12-16T20:50:14.700Z"
   },
   {
    "duration": 3310,
    "start_time": "2021-12-16T20:50:14.775Z"
   },
   {
    "duration": 144,
    "start_time": "2021-12-16T20:50:18.088Z"
   },
   {
    "duration": 683,
    "start_time": "2021-12-16T20:50:17.552Z"
   },
   {
    "duration": 681,
    "start_time": "2021-12-16T20:50:17.556Z"
   },
   {
    "duration": 681,
    "start_time": "2021-12-16T20:50:17.558Z"
   },
   {
    "duration": 2023,
    "start_time": "2021-12-16T20:51:33.408Z"
   },
   {
    "duration": 1230,
    "start_time": "2021-12-16T20:51:35.433Z"
   },
   {
    "duration": 10,
    "start_time": "2021-12-16T20:51:36.666Z"
   },
   {
    "duration": 4,
    "start_time": "2021-12-16T20:51:36.679Z"
   },
   {
    "duration": 8,
    "start_time": "2021-12-16T20:51:36.685Z"
   },
   {
    "duration": 322,
    "start_time": "2021-12-16T20:51:36.695Z"
   },
   {
    "duration": 304,
    "start_time": "2021-12-16T20:51:37.019Z"
   },
   {
    "duration": 6,
    "start_time": "2021-12-16T20:51:37.325Z"
   },
   {
    "duration": 4,
    "start_time": "2021-12-16T20:51:37.336Z"
   },
   {
    "duration": 42,
    "start_time": "2021-12-16T20:51:37.344Z"
   },
   {
    "duration": 12,
    "start_time": "2021-12-16T20:51:37.388Z"
   },
   {
    "duration": 9,
    "start_time": "2021-12-16T20:51:37.403Z"
   },
   {
    "duration": 26,
    "start_time": "2021-12-16T20:51:37.415Z"
   },
   {
    "duration": 16,
    "start_time": "2021-12-16T20:51:37.444Z"
   },
   {
    "duration": 8,
    "start_time": "2021-12-16T20:51:37.463Z"
   },
   {
    "duration": 169,
    "start_time": "2021-12-16T20:51:37.474Z"
   },
   {
    "duration": 1429,
    "start_time": "2021-12-16T20:51:37.645Z"
   },
   {
    "duration": 188,
    "start_time": "2021-12-16T20:51:39.077Z"
   },
   {
    "duration": 110,
    "start_time": "2021-12-16T20:51:39.268Z"
   },
   {
    "duration": 30,
    "start_time": "2021-12-16T20:51:39.380Z"
   },
   {
    "duration": 4,
    "start_time": "2021-12-16T20:51:39.413Z"
   },
   {
    "duration": 27,
    "start_time": "2021-12-16T20:51:39.420Z"
   },
   {
    "duration": 3,
    "start_time": "2021-12-16T20:51:39.470Z"
   },
   {
    "duration": 7,
    "start_time": "2021-12-16T20:51:39.476Z"
   },
   {
    "duration": 626,
    "start_time": "2021-12-16T20:51:39.486Z"
   },
   {
    "duration": 464,
    "start_time": "2021-12-16T20:51:40.115Z"
   },
   {
    "duration": 442,
    "start_time": "2021-12-16T20:51:40.584Z"
   },
   {
    "duration": 480,
    "start_time": "2021-12-16T20:51:41.028Z"
   },
   {
    "duration": 680,
    "start_time": "2021-12-16T20:51:41.510Z"
   },
   {
    "duration": 9,
    "start_time": "2021-12-16T20:51:42.192Z"
   },
   {
    "duration": 76,
    "start_time": "2021-12-16T20:51:42.204Z"
   },
   {
    "duration": 26,
    "start_time": "2021-12-16T20:51:42.283Z"
   },
   {
    "duration": 27,
    "start_time": "2021-12-16T20:51:42.312Z"
   },
   {
    "duration": 719,
    "start_time": "2021-12-16T20:51:42.342Z"
   },
   {
    "duration": 32,
    "start_time": "2021-12-16T20:51:43.063Z"
   },
   {
    "duration": 477,
    "start_time": "2021-12-16T20:51:43.097Z"
   },
   {
    "duration": 4,
    "start_time": "2021-12-16T20:51:43.576Z"
   },
   {
    "duration": 6,
    "start_time": "2021-12-16T20:51:43.583Z"
   },
   {
    "duration": 18,
    "start_time": "2021-12-16T20:51:43.591Z"
   },
   {
    "duration": 7,
    "start_time": "2021-12-16T20:51:43.611Z"
   },
   {
    "duration": 34,
    "start_time": "2021-12-16T20:51:43.620Z"
   },
   {
    "duration": 4159,
    "start_time": "2021-12-16T20:51:43.656Z"
   },
   {
    "duration": 814,
    "start_time": "2021-12-16T20:51:47.817Z"
   },
   {
    "duration": -13131,
    "start_time": "2021-12-16T20:52:01.764Z"
   },
   {
    "duration": 442,
    "start_time": "2021-12-16T20:53:05.450Z"
   },
   {
    "duration": 1620,
    "start_time": "2021-12-16T20:53:27.848Z"
   },
   {
    "duration": 923,
    "start_time": "2021-12-16T20:53:29.473Z"
   },
   {
    "duration": 10,
    "start_time": "2021-12-16T20:53:30.402Z"
   },
   {
    "duration": 9,
    "start_time": "2021-12-16T20:53:30.415Z"
   },
   {
    "duration": 36,
    "start_time": "2021-12-16T20:53:30.427Z"
   },
   {
    "duration": 319,
    "start_time": "2021-12-16T20:53:30.465Z"
   },
   {
    "duration": 331,
    "start_time": "2021-12-16T20:53:30.788Z"
   },
   {
    "duration": 7,
    "start_time": "2021-12-16T20:53:31.122Z"
   },
   {
    "duration": 30,
    "start_time": "2021-12-16T20:53:31.131Z"
   },
   {
    "duration": 49,
    "start_time": "2021-12-16T20:53:31.163Z"
   },
   {
    "duration": 22,
    "start_time": "2021-12-16T20:53:31.215Z"
   },
   {
    "duration": 23,
    "start_time": "2021-12-16T20:53:31.239Z"
   },
   {
    "duration": 27,
    "start_time": "2021-12-16T20:53:31.265Z"
   },
   {
    "duration": 6,
    "start_time": "2021-12-16T20:53:31.295Z"
   },
   {
    "duration": 7,
    "start_time": "2021-12-16T20:53:31.303Z"
   },
   {
    "duration": 205,
    "start_time": "2021-12-16T20:53:31.312Z"
   },
   {
    "duration": 1299,
    "start_time": "2021-12-16T20:53:31.520Z"
   },
   {
    "duration": 104,
    "start_time": "2021-12-16T20:53:32.822Z"
   },
   {
    "duration": 71,
    "start_time": "2021-12-16T20:53:32.929Z"
   },
   {
    "duration": 31,
    "start_time": "2021-12-16T20:53:33.003Z"
   },
   {
    "duration": 4,
    "start_time": "2021-12-16T20:53:33.060Z"
   },
   {
    "duration": 23,
    "start_time": "2021-12-16T20:53:33.070Z"
   },
   {
    "duration": 3,
    "start_time": "2021-12-16T20:53:33.096Z"
   },
   {
    "duration": 15,
    "start_time": "2021-12-16T20:53:33.102Z"
   },
   {
    "duration": 534,
    "start_time": "2021-12-16T20:53:33.120Z"
   },
   {
    "duration": 428,
    "start_time": "2021-12-16T20:53:33.659Z"
   },
   {
    "duration": 427,
    "start_time": "2021-12-16T20:53:34.090Z"
   },
   {
    "duration": 352,
    "start_time": "2021-12-16T20:53:34.520Z"
   },
   {
    "duration": 405,
    "start_time": "2021-12-16T20:53:34.875Z"
   },
   {
    "duration": 9,
    "start_time": "2021-12-16T20:53:35.282Z"
   },
   {
    "duration": 23,
    "start_time": "2021-12-16T20:53:35.294Z"
   },
   {
    "duration": 49,
    "start_time": "2021-12-16T20:53:35.319Z"
   },
   {
    "duration": 24,
    "start_time": "2021-12-16T20:53:35.370Z"
   },
   {
    "duration": 426,
    "start_time": "2021-12-16T20:53:35.397Z"
   },
   {
    "duration": 46,
    "start_time": "2021-12-16T20:53:35.826Z"
   },
   {
    "duration": 558,
    "start_time": "2021-12-16T20:53:35.875Z"
   },
   {
    "duration": 4,
    "start_time": "2021-12-16T20:53:36.435Z"
   },
   {
    "duration": 17,
    "start_time": "2021-12-16T20:53:36.442Z"
   },
   {
    "duration": 15,
    "start_time": "2021-12-16T20:53:36.462Z"
   },
   {
    "duration": 6,
    "start_time": "2021-12-16T20:53:36.480Z"
   },
   {
    "duration": 31,
    "start_time": "2021-12-16T20:53:36.489Z"
   },
   {
    "duration": 634,
    "start_time": "2021-12-16T20:53:36.522Z"
   },
   {
    "duration": 682,
    "start_time": "2021-12-16T20:53:36.476Z"
   },
   {
    "duration": 676,
    "start_time": "2021-12-16T20:53:36.484Z"
   },
   {
    "duration": 3033,
    "start_time": "2021-12-16T20:54:58.070Z"
   },
   {
    "duration": 1488,
    "start_time": "2021-12-16T20:55:02.575Z"
   },
   {
    "duration": 395,
    "start_time": "2021-12-16T20:55:17.780Z"
   },
   {
    "duration": 40798,
    "start_time": "2021-12-16T20:55:33.461Z"
   },
   {
    "duration": 1705,
    "start_time": "2021-12-16T20:56:14.262Z"
   },
   {
    "duration": 2104,
    "start_time": "2021-12-16T20:57:52.455Z"
   },
   {
    "duration": 42100,
    "start_time": "2021-12-16T20:58:16.203Z"
   },
   {
    "duration": 46898,
    "start_time": "2021-12-16T21:00:46.376Z"
   },
   {
    "duration": 380,
    "start_time": "2021-12-16T21:04:35.830Z"
   },
   {
    "duration": 1208,
    "start_time": "2021-12-16T21:04:46.542Z"
   },
   {
    "duration": 1799,
    "start_time": "2021-12-16T21:06:04.061Z"
   },
   {
    "duration": 3106,
    "start_time": "2021-12-16T21:06:13.891Z"
   },
   {
    "duration": 386,
    "start_time": "2021-12-16T21:06:56.953Z"
   },
   {
    "duration": 419,
    "start_time": "2021-12-16T21:07:36.595Z"
   },
   {
    "duration": 3212,
    "start_time": "2021-12-16T21:07:55.315Z"
   },
   {
    "duration": 393,
    "start_time": "2021-12-16T21:11:00.947Z"
   },
   {
    "duration": 2000,
    "start_time": "2021-12-16T21:11:54.541Z"
   },
   {
    "duration": 1192,
    "start_time": "2021-12-16T21:11:56.544Z"
   },
   {
    "duration": 9,
    "start_time": "2021-12-16T21:11:57.739Z"
   },
   {
    "duration": 11,
    "start_time": "2021-12-16T21:11:57.750Z"
   },
   {
    "duration": 14,
    "start_time": "2021-12-16T21:11:57.763Z"
   },
   {
    "duration": 387,
    "start_time": "2021-12-16T21:11:57.779Z"
   },
   {
    "duration": 321,
    "start_time": "2021-12-16T21:11:58.168Z"
   },
   {
    "duration": 7,
    "start_time": "2021-12-16T21:11:58.493Z"
   },
   {
    "duration": 9,
    "start_time": "2021-12-16T21:11:58.503Z"
   },
   {
    "duration": 69,
    "start_time": "2021-12-16T21:11:58.516Z"
   },
   {
    "duration": 13,
    "start_time": "2021-12-16T21:11:58.588Z"
   },
   {
    "duration": 11,
    "start_time": "2021-12-16T21:11:58.603Z"
   },
   {
    "duration": 57,
    "start_time": "2021-12-16T21:11:58.617Z"
   },
   {
    "duration": 4,
    "start_time": "2021-12-16T21:11:58.676Z"
   },
   {
    "duration": 10,
    "start_time": "2021-12-16T21:11:58.684Z"
   },
   {
    "duration": 198,
    "start_time": "2021-12-16T21:11:58.697Z"
   },
   {
    "duration": 1068,
    "start_time": "2021-12-16T21:11:58.897Z"
   },
   {
    "duration": 114,
    "start_time": "2021-12-16T21:11:59.968Z"
   },
   {
    "duration": 75,
    "start_time": "2021-12-16T21:12:00.085Z"
   },
   {
    "duration": 36,
    "start_time": "2021-12-16T21:12:00.163Z"
   },
   {
    "duration": 25,
    "start_time": "2021-12-16T21:12:00.202Z"
   },
   {
    "duration": 36,
    "start_time": "2021-12-16T21:12:00.230Z"
   },
   {
    "duration": 3,
    "start_time": "2021-12-16T21:12:00.274Z"
   },
   {
    "duration": 19,
    "start_time": "2021-12-16T21:12:00.281Z"
   },
   {
    "duration": 574,
    "start_time": "2021-12-16T21:12:00.303Z"
   },
   {
    "duration": 557,
    "start_time": "2021-12-16T21:12:00.879Z"
   },
   {
    "duration": 436,
    "start_time": "2021-12-16T21:12:01.439Z"
   },
   {
    "duration": 526,
    "start_time": "2021-12-16T21:12:01.878Z"
   },
   {
    "duration": 395,
    "start_time": "2021-12-16T21:12:02.407Z"
   },
   {
    "duration": 11,
    "start_time": "2021-12-16T21:12:02.806Z"
   },
   {
    "duration": 46,
    "start_time": "2021-12-16T21:12:02.820Z"
   },
   {
    "duration": 21,
    "start_time": "2021-12-16T21:12:02.869Z"
   },
   {
    "duration": 23,
    "start_time": "2021-12-16T21:12:02.892Z"
   },
   {
    "duration": 668,
    "start_time": "2021-12-16T21:12:02.917Z"
   },
   {
    "duration": 35,
    "start_time": "2021-12-16T21:12:03.589Z"
   },
   {
    "duration": 485,
    "start_time": "2021-12-16T21:12:03.627Z"
   },
   {
    "duration": 5,
    "start_time": "2021-12-16T21:12:04.114Z"
   },
   {
    "duration": 6,
    "start_time": "2021-12-16T21:12:04.121Z"
   },
   {
    "duration": 37,
    "start_time": "2021-12-16T21:12:04.129Z"
   },
   {
    "duration": 5,
    "start_time": "2021-12-16T21:12:04.168Z"
   },
   {
    "duration": 40,
    "start_time": "2021-12-16T21:12:04.176Z"
   },
   {
    "duration": 656,
    "start_time": "2021-12-16T21:12:04.218Z"
   },
   {
    "duration": 683,
    "start_time": "2021-12-16T21:12:04.195Z"
   },
   {
    "duration": 683,
    "start_time": "2021-12-16T21:12:04.197Z"
   },
   {
    "duration": 376,
    "start_time": "2021-12-16T21:12:28.483Z"
   },
   {
    "duration": 760,
    "start_time": "2021-12-16T21:12:34.457Z"
   },
   {
    "duration": 4,
    "start_time": "2021-12-16T21:13:07.896Z"
   },
   {
    "duration": 824,
    "start_time": "2021-12-16T21:13:09.113Z"
   },
   {
    "duration": 1656,
    "start_time": "2021-12-16T21:15:58.276Z"
   },
   {
    "duration": 1735,
    "start_time": "2021-12-16T21:18:04.149Z"
   },
   {
    "duration": 973,
    "start_time": "2021-12-16T21:18:05.887Z"
   },
   {
    "duration": 8,
    "start_time": "2021-12-16T21:18:06.867Z"
   },
   {
    "duration": 6,
    "start_time": "2021-12-16T21:18:06.878Z"
   },
   {
    "duration": 17,
    "start_time": "2021-12-16T21:18:06.886Z"
   },
   {
    "duration": 339,
    "start_time": "2021-12-16T21:18:06.906Z"
   },
   {
    "duration": 301,
    "start_time": "2021-12-16T21:18:07.247Z"
   },
   {
    "duration": 6,
    "start_time": "2021-12-16T21:18:07.560Z"
   },
   {
    "duration": 14,
    "start_time": "2021-12-16T21:18:07.570Z"
   },
   {
    "duration": 76,
    "start_time": "2021-12-16T21:18:07.587Z"
   },
   {
    "duration": 13,
    "start_time": "2021-12-16T21:18:07.666Z"
   },
   {
    "duration": 11,
    "start_time": "2021-12-16T21:18:07.682Z"
   },
   {
    "duration": 26,
    "start_time": "2021-12-16T21:18:07.696Z"
   },
   {
    "duration": 37,
    "start_time": "2021-12-16T21:18:07.725Z"
   },
   {
    "duration": 6,
    "start_time": "2021-12-16T21:18:07.766Z"
   },
   {
    "duration": 198,
    "start_time": "2021-12-16T21:18:07.774Z"
   },
   {
    "duration": 973,
    "start_time": "2021-12-16T21:18:07.974Z"
   },
   {
    "duration": 110,
    "start_time": "2021-12-16T21:18:08.950Z"
   },
   {
    "duration": 55,
    "start_time": "2021-12-16T21:18:09.062Z"
   },
   {
    "duration": 53,
    "start_time": "2021-12-16T21:18:09.120Z"
   },
   {
    "duration": 5,
    "start_time": "2021-12-16T21:18:09.176Z"
   },
   {
    "duration": 24,
    "start_time": "2021-12-16T21:18:09.183Z"
   },
   {
    "duration": 4,
    "start_time": "2021-12-16T21:18:09.210Z"
   },
   {
    "duration": 7,
    "start_time": "2021-12-16T21:18:09.217Z"
   },
   {
    "duration": 518,
    "start_time": "2021-12-16T21:18:09.260Z"
   },
   {
    "duration": 441,
    "start_time": "2021-12-16T21:18:09.784Z"
   },
   {
    "duration": 437,
    "start_time": "2021-12-16T21:18:10.228Z"
   },
   {
    "duration": 357,
    "start_time": "2021-12-16T21:18:10.668Z"
   },
   {
    "duration": 542,
    "start_time": "2021-12-16T21:18:11.028Z"
   },
   {
    "duration": 9,
    "start_time": "2021-12-16T21:18:11.573Z"
   },
   {
    "duration": 23,
    "start_time": "2021-12-16T21:18:11.584Z"
   },
   {
    "duration": 53,
    "start_time": "2021-12-16T21:18:11.610Z"
   },
   {
    "duration": 23,
    "start_time": "2021-12-16T21:18:11.666Z"
   },
   {
    "duration": 527,
    "start_time": "2021-12-16T21:18:11.692Z"
   },
   {
    "duration": 47,
    "start_time": "2021-12-16T21:18:12.221Z"
   },
   {
    "duration": 436,
    "start_time": "2021-12-16T21:18:12.270Z"
   },
   {
    "duration": 4,
    "start_time": "2021-12-16T21:18:12.708Z"
   },
   {
    "duration": 8,
    "start_time": "2021-12-16T21:18:12.715Z"
   },
   {
    "duration": 39,
    "start_time": "2021-12-16T21:18:12.725Z"
   },
   {
    "duration": 35,
    "start_time": "2021-12-16T21:18:12.767Z"
   },
   {
    "duration": 4,
    "start_time": "2021-12-16T21:18:12.804Z"
   },
   {
    "duration": 1880,
    "start_time": "2021-12-16T21:18:12.810Z"
   },
   {
    "duration": 675,
    "start_time": "2021-12-16T21:18:14.019Z"
   },
   {
    "duration": 676,
    "start_time": "2021-12-16T21:18:14.021Z"
   },
   {
    "duration": 1826,
    "start_time": "2021-12-16T21:21:18.683Z"
   },
   {
    "duration": 929,
    "start_time": "2021-12-16T21:21:20.512Z"
   },
   {
    "duration": 16,
    "start_time": "2021-12-16T21:21:21.444Z"
   },
   {
    "duration": 4,
    "start_time": "2021-12-16T21:21:21.463Z"
   },
   {
    "duration": 14,
    "start_time": "2021-12-16T21:21:21.470Z"
   },
   {
    "duration": 328,
    "start_time": "2021-12-16T21:21:21.487Z"
   },
   {
    "duration": 338,
    "start_time": "2021-12-16T21:21:21.818Z"
   },
   {
    "duration": 8,
    "start_time": "2021-12-16T21:21:22.161Z"
   },
   {
    "duration": 7,
    "start_time": "2021-12-16T21:21:22.172Z"
   },
   {
    "duration": 50,
    "start_time": "2021-12-16T21:21:22.181Z"
   },
   {
    "duration": 11,
    "start_time": "2021-12-16T21:21:22.261Z"
   },
   {
    "duration": 15,
    "start_time": "2021-12-16T21:21:22.275Z"
   },
   {
    "duration": 34,
    "start_time": "2021-12-16T21:21:22.292Z"
   },
   {
    "duration": 5,
    "start_time": "2021-12-16T21:21:22.329Z"
   },
   {
    "duration": 26,
    "start_time": "2021-12-16T21:21:22.336Z"
   },
   {
    "duration": 195,
    "start_time": "2021-12-16T21:21:22.365Z"
   },
   {
    "duration": 1607,
    "start_time": "2021-12-16T21:21:22.563Z"
   },
   {
    "duration": 102,
    "start_time": "2021-12-16T21:21:24.173Z"
   },
   {
    "duration": 49,
    "start_time": "2021-12-16T21:21:24.278Z"
   },
   {
    "duration": 31,
    "start_time": "2021-12-16T21:21:24.358Z"
   },
   {
    "duration": 6,
    "start_time": "2021-12-16T21:21:24.392Z"
   },
   {
    "duration": 24,
    "start_time": "2021-12-16T21:21:24.401Z"
   },
   {
    "duration": 3,
    "start_time": "2021-12-16T21:21:24.430Z"
   },
   {
    "duration": 10,
    "start_time": "2021-12-16T21:21:24.460Z"
   },
   {
    "duration": 535,
    "start_time": "2021-12-16T21:21:24.473Z"
   },
   {
    "duration": 438,
    "start_time": "2021-12-16T21:21:25.011Z"
   },
   {
    "duration": 430,
    "start_time": "2021-12-16T21:21:25.452Z"
   },
   {
    "duration": 352,
    "start_time": "2021-12-16T21:21:25.884Z"
   },
   {
    "duration": 545,
    "start_time": "2021-12-16T21:21:26.240Z"
   },
   {
    "duration": 12,
    "start_time": "2021-12-16T21:21:26.788Z"
   },
   {
    "duration": 23,
    "start_time": "2021-12-16T21:21:26.802Z"
   },
   {
    "duration": 51,
    "start_time": "2021-12-16T21:21:26.827Z"
   },
   {
    "duration": 21,
    "start_time": "2021-12-16T21:21:26.881Z"
   },
   {
    "duration": 438,
    "start_time": "2021-12-16T21:21:26.904Z"
   },
   {
    "duration": 42,
    "start_time": "2021-12-16T21:21:27.344Z"
   },
   {
    "duration": 446,
    "start_time": "2021-12-16T21:21:27.388Z"
   },
   {
    "duration": 4,
    "start_time": "2021-12-16T21:21:27.837Z"
   },
   {
    "duration": 19,
    "start_time": "2021-12-16T21:21:27.843Z"
   },
   {
    "duration": 20,
    "start_time": "2021-12-16T21:21:27.865Z"
   },
   {
    "duration": 43,
    "start_time": "2021-12-16T21:21:27.888Z"
   },
   {
    "duration": 30,
    "start_time": "2021-12-16T21:21:27.933Z"
   },
   {
    "duration": 2133,
    "start_time": "2021-12-16T21:21:27.965Z"
   },
   {
    "duration": 677,
    "start_time": "2021-12-16T21:21:29.425Z"
   },
   {
    "duration": 677,
    "start_time": "2021-12-16T21:21:29.428Z"
   },
   {
    "duration": 2119,
    "start_time": "2021-12-16T21:21:39.444Z"
   },
   {
    "duration": 1556,
    "start_time": "2021-12-16T21:22:25.731Z"
   },
   {
    "duration": 680,
    "start_time": "2021-12-16T21:22:26.610Z"
   },
   {
    "duration": 677,
    "start_time": "2021-12-16T21:22:26.614Z"
   },
   {
    "duration": 4347,
    "start_time": "2021-12-16T21:22:53.813Z"
   },
   {
    "duration": 39854,
    "start_time": "2021-12-16T21:22:58.163Z"
   },
   {
    "duration": 3123,
    "start_time": "2021-12-16T21:24:10.295Z"
   },
   {
    "duration": 2246,
    "start_time": "2021-12-16T21:29:00.120Z"
   },
   {
    "duration": 919,
    "start_time": "2021-12-16T21:29:02.369Z"
   },
   {
    "duration": 11,
    "start_time": "2021-12-16T21:29:03.291Z"
   },
   {
    "duration": 6,
    "start_time": "2021-12-16T21:29:03.305Z"
   },
   {
    "duration": 13,
    "start_time": "2021-12-16T21:29:03.314Z"
   },
   {
    "duration": 499,
    "start_time": "2021-12-16T21:29:03.329Z"
   },
   {
    "duration": 306,
    "start_time": "2021-12-16T21:29:03.832Z"
   },
   {
    "duration": 19,
    "start_time": "2021-12-16T21:29:04.142Z"
   },
   {
    "duration": 9,
    "start_time": "2021-12-16T21:29:04.164Z"
   },
   {
    "duration": 39,
    "start_time": "2021-12-16T21:29:04.175Z"
   },
   {
    "duration": 43,
    "start_time": "2021-12-16T21:29:04.216Z"
   },
   {
    "duration": 8,
    "start_time": "2021-12-16T21:29:04.262Z"
   },
   {
    "duration": 21,
    "start_time": "2021-12-16T21:29:04.272Z"
   },
   {
    "duration": 5,
    "start_time": "2021-12-16T21:29:04.295Z"
   },
   {
    "duration": 5,
    "start_time": "2021-12-16T21:29:04.302Z"
   },
   {
    "duration": 262,
    "start_time": "2021-12-16T21:29:04.310Z"
   },
   {
    "duration": 832,
    "start_time": "2021-12-16T21:29:04.575Z"
   },
   {
    "duration": 106,
    "start_time": "2021-12-16T21:29:05.410Z"
   },
   {
    "duration": 80,
    "start_time": "2021-12-16T21:29:05.519Z"
   },
   {
    "duration": 31,
    "start_time": "2021-12-16T21:29:05.603Z"
   },
   {
    "duration": 23,
    "start_time": "2021-12-16T21:29:05.637Z"
   },
   {
    "duration": 22,
    "start_time": "2021-12-16T21:29:05.663Z"
   },
   {
    "duration": 3,
    "start_time": "2021-12-16T21:29:05.691Z"
   },
   {
    "duration": 8,
    "start_time": "2021-12-16T21:29:05.697Z"
   },
   {
    "duration": 639,
    "start_time": "2021-12-16T21:29:05.707Z"
   },
   {
    "duration": 647,
    "start_time": "2021-12-16T21:29:06.350Z"
   },
   {
    "duration": 535,
    "start_time": "2021-12-16T21:29:07.000Z"
   },
   {
    "duration": 349,
    "start_time": "2021-12-16T21:29:07.538Z"
   },
   {
    "duration": 502,
    "start_time": "2021-12-16T21:29:07.890Z"
   },
   {
    "duration": 10,
    "start_time": "2021-12-16T21:29:08.395Z"
   },
   {
    "duration": 27,
    "start_time": "2021-12-16T21:29:08.408Z"
   },
   {
    "duration": 45,
    "start_time": "2021-12-16T21:29:08.438Z"
   },
   {
    "duration": 25,
    "start_time": "2021-12-16T21:29:08.486Z"
   },
   {
    "duration": 551,
    "start_time": "2021-12-16T21:29:08.514Z"
   },
   {
    "duration": 34,
    "start_time": "2021-12-16T21:29:09.067Z"
   },
   {
    "duration": 460,
    "start_time": "2021-12-16T21:29:09.103Z"
   },
   {
    "duration": 5,
    "start_time": "2021-12-16T21:29:09.565Z"
   },
   {
    "duration": 8,
    "start_time": "2021-12-16T21:29:09.572Z"
   },
   {
    "duration": 20,
    "start_time": "2021-12-16T21:29:09.582Z"
   },
   {
    "duration": 55,
    "start_time": "2021-12-16T21:29:09.604Z"
   },
   {
    "duration": 3,
    "start_time": "2021-12-16T21:29:09.662Z"
   },
   {
    "duration": 3185,
    "start_time": "2021-12-16T21:29:09.668Z"
   },
   {
    "duration": 1619,
    "start_time": "2021-12-16T21:29:12.855Z"
   },
   {
    "duration": 39884,
    "start_time": "2021-12-16T21:29:14.477Z"
   },
   {
    "duration": 714,
    "start_time": "2021-12-16T21:32:43.163Z"
   },
   {
    "duration": 828,
    "start_time": "2021-12-16T21:35:41.983Z"
   },
   {
    "duration": 1291,
    "start_time": "2021-12-16T21:36:11.316Z"
   },
   {
    "duration": 923,
    "start_time": "2021-12-16T21:37:33.484Z"
   },
   {
    "duration": 762,
    "start_time": "2021-12-16T21:38:26.840Z"
   },
   {
    "duration": 438,
    "start_time": "2021-12-16T21:38:33.717Z"
   },
   {
    "duration": 432,
    "start_time": "2021-12-16T21:39:00.805Z"
   },
   {
    "duration": 1638,
    "start_time": "2021-12-16T21:40:29.467Z"
   },
   {
    "duration": 952,
    "start_time": "2021-12-16T21:40:31.108Z"
   },
   {
    "duration": 10,
    "start_time": "2021-12-16T21:40:32.067Z"
   },
   {
    "duration": 10,
    "start_time": "2021-12-16T21:40:32.080Z"
   },
   {
    "duration": 14,
    "start_time": "2021-12-16T21:40:32.092Z"
   },
   {
    "duration": 338,
    "start_time": "2021-12-16T21:40:32.108Z"
   },
   {
    "duration": 348,
    "start_time": "2021-12-16T21:40:32.460Z"
   },
   {
    "duration": 8,
    "start_time": "2021-12-16T21:40:32.813Z"
   },
   {
    "duration": 6,
    "start_time": "2021-12-16T21:40:32.825Z"
   },
   {
    "duration": 37,
    "start_time": "2021-12-16T21:40:32.859Z"
   },
   {
    "duration": 11,
    "start_time": "2021-12-16T21:40:32.899Z"
   },
   {
    "duration": 17,
    "start_time": "2021-12-16T21:40:32.913Z"
   },
   {
    "duration": 41,
    "start_time": "2021-12-16T21:40:32.933Z"
   },
   {
    "duration": 5,
    "start_time": "2021-12-16T21:40:32.976Z"
   },
   {
    "duration": 17,
    "start_time": "2021-12-16T21:40:32.983Z"
   },
   {
    "duration": 192,
    "start_time": "2021-12-16T21:40:33.003Z"
   },
   {
    "duration": 786,
    "start_time": "2021-12-16T21:40:33.197Z"
   },
   {
    "duration": 100,
    "start_time": "2021-12-16T21:40:33.985Z"
   },
   {
    "duration": 73,
    "start_time": "2021-12-16T21:40:34.088Z"
   },
   {
    "duration": 29,
    "start_time": "2021-12-16T21:40:34.164Z"
   },
   {
    "duration": 8,
    "start_time": "2021-12-16T21:40:34.196Z"
   },
   {
    "duration": 20,
    "start_time": "2021-12-16T21:40:34.207Z"
   },
   {
    "duration": 4,
    "start_time": "2021-12-16T21:40:34.260Z"
   },
   {
    "duration": 8,
    "start_time": "2021-12-16T21:40:34.268Z"
   },
   {
    "duration": 542,
    "start_time": "2021-12-16T21:40:34.279Z"
   },
   {
    "duration": 516,
    "start_time": "2021-12-16T21:40:34.827Z"
   },
   {
    "duration": 443,
    "start_time": "2021-12-16T21:40:35.346Z"
   },
   {
    "duration": 358,
    "start_time": "2021-12-16T21:40:35.792Z"
   },
   {
    "duration": 365,
    "start_time": "2021-12-16T21:40:36.153Z"
   },
   {
    "duration": 10,
    "start_time": "2021-12-16T21:40:36.522Z"
   },
   {
    "duration": 43,
    "start_time": "2021-12-16T21:40:36.535Z"
   },
   {
    "duration": 24,
    "start_time": "2021-12-16T21:40:36.581Z"
   },
   {
    "duration": 23,
    "start_time": "2021-12-16T21:40:36.607Z"
   },
   {
    "duration": 430,
    "start_time": "2021-12-16T21:40:36.661Z"
   },
   {
    "duration": 35,
    "start_time": "2021-12-16T21:40:37.093Z"
   },
   {
    "duration": 468,
    "start_time": "2021-12-16T21:40:37.130Z"
   },
   {
    "duration": 5,
    "start_time": "2021-12-16T21:40:37.601Z"
   },
   {
    "duration": 5,
    "start_time": "2021-12-16T21:40:37.610Z"
   },
   {
    "duration": 51,
    "start_time": "2021-12-16T21:40:37.618Z"
   },
   {
    "duration": 35,
    "start_time": "2021-12-16T21:40:37.671Z"
   },
   {
    "duration": 4,
    "start_time": "2021-12-16T21:40:37.709Z"
   },
   {
    "duration": 3083,
    "start_time": "2021-12-16T21:40:37.716Z"
   },
   {
    "duration": 2065,
    "start_time": "2021-12-16T21:40:40.803Z"
   },
   {
    "duration": 39537,
    "start_time": "2021-12-16T21:40:42.872Z"
   },
   {
    "duration": 76447,
    "start_time": "2021-12-16T21:42:40.730Z"
   },
   {
    "duration": 1631,
    "start_time": "2021-12-16T21:47:08.944Z"
   },
   {
    "duration": 912,
    "start_time": "2021-12-16T21:47:10.578Z"
   },
   {
    "duration": 9,
    "start_time": "2021-12-16T21:47:11.493Z"
   },
   {
    "duration": 8,
    "start_time": "2021-12-16T21:47:11.505Z"
   },
   {
    "duration": 19,
    "start_time": "2021-12-16T21:47:11.516Z"
   },
   {
    "duration": 308,
    "start_time": "2021-12-16T21:47:11.537Z"
   },
   {
    "duration": 310,
    "start_time": "2021-12-16T21:47:11.859Z"
   },
   {
    "duration": 6,
    "start_time": "2021-12-16T21:47:12.173Z"
   },
   {
    "duration": 5,
    "start_time": "2021-12-16T21:47:12.183Z"
   },
   {
    "duration": 71,
    "start_time": "2021-12-16T21:47:12.190Z"
   },
   {
    "duration": 12,
    "start_time": "2021-12-16T21:47:12.264Z"
   },
   {
    "duration": 10,
    "start_time": "2021-12-16T21:47:12.278Z"
   },
   {
    "duration": 20,
    "start_time": "2021-12-16T21:47:12.290Z"
   },
   {
    "duration": 4,
    "start_time": "2021-12-16T21:47:12.313Z"
   },
   {
    "duration": 4,
    "start_time": "2021-12-16T21:47:12.361Z"
   },
   {
    "duration": 244,
    "start_time": "2021-12-16T21:47:12.368Z"
   },
   {
    "duration": 873,
    "start_time": "2021-12-16T21:47:12.616Z"
   },
   {
    "duration": 99,
    "start_time": "2021-12-16T21:47:13.492Z"
   },
   {
    "duration": 47,
    "start_time": "2021-12-16T21:47:13.594Z"
   },
   {
    "duration": 54,
    "start_time": "2021-12-16T21:47:13.644Z"
   },
   {
    "duration": 6,
    "start_time": "2021-12-16T21:47:13.701Z"
   },
   {
    "duration": 49,
    "start_time": "2021-12-16T21:47:13.710Z"
   },
   {
    "duration": 4,
    "start_time": "2021-12-16T21:47:13.764Z"
   },
   {
    "duration": 6,
    "start_time": "2021-12-16T21:47:13.771Z"
   },
   {
    "duration": 533,
    "start_time": "2021-12-16T21:47:13.779Z"
   },
   {
    "duration": 425,
    "start_time": "2021-12-16T21:47:14.315Z"
   },
   {
    "duration": 440,
    "start_time": "2021-12-16T21:47:14.742Z"
   },
   {
    "duration": 345,
    "start_time": "2021-12-16T21:47:15.184Z"
   },
   {
    "duration": 364,
    "start_time": "2021-12-16T21:47:15.532Z"
   },
   {
    "duration": 9,
    "start_time": "2021-12-16T21:47:15.899Z"
   },
   {
    "duration": 23,
    "start_time": "2021-12-16T21:47:15.910Z"
   },
   {
    "duration": 43,
    "start_time": "2021-12-16T21:47:15.936Z"
   },
   {
    "duration": 22,
    "start_time": "2021-12-16T21:47:15.982Z"
   },
   {
    "duration": 538,
    "start_time": "2021-12-16T21:47:16.007Z"
   },
   {
    "duration": 43,
    "start_time": "2021-12-16T21:47:16.548Z"
   },
   {
    "duration": 454,
    "start_time": "2021-12-16T21:47:16.594Z"
   },
   {
    "duration": 8,
    "start_time": "2021-12-16T21:47:17.051Z"
   },
   {
    "duration": 4,
    "start_time": "2021-12-16T21:47:17.062Z"
   },
   {
    "duration": 16,
    "start_time": "2021-12-16T21:47:17.069Z"
   },
   {
    "duration": 36,
    "start_time": "2021-12-16T21:47:17.087Z"
   },
   {
    "duration": 37,
    "start_time": "2021-12-16T21:47:17.125Z"
   },
   {
    "duration": 812,
    "start_time": "2021-12-16T21:47:17.165Z"
   },
   {
    "duration": 1782,
    "start_time": "2021-12-16T21:47:17.980Z"
   },
   {
    "duration": 12519,
    "start_time": "2021-12-16T21:47:19.765Z"
   },
   {
    "duration": 13089,
    "start_time": "2021-12-16T21:48:31.000Z"
   },
   {
    "duration": 1032,
    "start_time": "2021-12-16T21:56:53.690Z"
   },
   {
    "duration": 164935,
    "start_time": "2021-12-16T21:57:50.953Z"
   },
   {
    "duration": 400,
    "start_time": "2021-12-16T22:13:46.000Z"
   },
   {
    "duration": 3079,
    "start_time": "2021-12-16T22:13:54.436Z"
   },
   {
    "duration": 18,
    "start_time": "2021-12-16T22:16:17.447Z"
   },
   {
    "duration": 302,
    "start_time": "2021-12-17T10:30:46.754Z"
   },
   {
    "duration": 1612,
    "start_time": "2021-12-17T10:30:57.234Z"
   },
   {
    "duration": 1103,
    "start_time": "2021-12-17T10:30:58.849Z"
   },
   {
    "duration": 10,
    "start_time": "2021-12-17T10:30:59.956Z"
   },
   {
    "duration": 8,
    "start_time": "2021-12-17T10:30:59.969Z"
   },
   {
    "duration": 14,
    "start_time": "2021-12-17T10:30:59.980Z"
   },
   {
    "duration": 337,
    "start_time": "2021-12-17T10:30:59.997Z"
   },
   {
    "duration": 334,
    "start_time": "2021-12-17T10:31:00.336Z"
   },
   {
    "duration": 6,
    "start_time": "2021-12-17T10:31:00.672Z"
   },
   {
    "duration": 9,
    "start_time": "2021-12-17T10:31:00.682Z"
   },
   {
    "duration": 59,
    "start_time": "2021-12-17T10:31:00.694Z"
   },
   {
    "duration": 14,
    "start_time": "2021-12-17T10:31:00.756Z"
   },
   {
    "duration": 11,
    "start_time": "2021-12-17T10:31:00.773Z"
   },
   {
    "duration": 46,
    "start_time": "2021-12-17T10:31:00.786Z"
   },
   {
    "duration": 5,
    "start_time": "2021-12-17T10:31:00.834Z"
   },
   {
    "duration": 30,
    "start_time": "2021-12-17T10:31:00.841Z"
   },
   {
    "duration": 229,
    "start_time": "2021-12-17T10:31:00.874Z"
   },
   {
    "duration": 1252,
    "start_time": "2021-12-17T10:31:01.105Z"
   },
   {
    "duration": 105,
    "start_time": "2021-12-17T10:31:02.360Z"
   },
   {
    "duration": 77,
    "start_time": "2021-12-17T10:31:02.468Z"
   },
   {
    "duration": 30,
    "start_time": "2021-12-17T10:31:02.547Z"
   },
   {
    "duration": 6,
    "start_time": "2021-12-17T10:31:02.580Z"
   },
   {
    "duration": 38,
    "start_time": "2021-12-17T10:31:02.589Z"
   },
   {
    "duration": 2,
    "start_time": "2021-12-17T10:31:02.630Z"
   },
   {
    "duration": 8,
    "start_time": "2021-12-17T10:31:02.635Z"
   },
   {
    "duration": 571,
    "start_time": "2021-12-17T10:31:02.646Z"
   },
   {
    "duration": 445,
    "start_time": "2021-12-17T10:31:03.220Z"
   },
   {
    "duration": 473,
    "start_time": "2021-12-17T10:31:03.670Z"
   },
   {
    "duration": 379,
    "start_time": "2021-12-17T10:31:04.145Z"
   },
   {
    "duration": 374,
    "start_time": "2021-12-17T10:31:04.527Z"
   },
   {
    "duration": 20,
    "start_time": "2021-12-17T10:31:04.904Z"
   },
   {
    "duration": 24,
    "start_time": "2021-12-17T10:31:04.928Z"
   },
   {
    "duration": 23,
    "start_time": "2021-12-17T10:31:04.955Z"
   },
   {
    "duration": 57,
    "start_time": "2021-12-17T10:31:04.981Z"
   },
   {
    "duration": 442,
    "start_time": "2021-12-17T10:31:05.041Z"
   },
   {
    "duration": 54,
    "start_time": "2021-12-17T10:31:05.486Z"
   },
   {
    "duration": 474,
    "start_time": "2021-12-17T10:31:05.543Z"
   },
   {
    "duration": 5,
    "start_time": "2021-12-17T10:31:06.020Z"
   },
   {
    "duration": 16,
    "start_time": "2021-12-17T10:31:06.028Z"
   },
   {
    "duration": 20,
    "start_time": "2021-12-17T10:31:06.046Z"
   },
   {
    "duration": 33,
    "start_time": "2021-12-17T10:31:06.068Z"
   },
   {
    "duration": 15,
    "start_time": "2021-12-17T10:31:06.103Z"
   },
   {
    "duration": 851,
    "start_time": "2021-12-17T10:31:06.121Z"
   },
   {
    "duration": 1962,
    "start_time": "2021-12-17T10:31:06.975Z"
   },
   {
    "duration": 13198,
    "start_time": "2021-12-17T10:31:08.940Z"
   },
   {
    "duration": 3381,
    "start_time": "2021-12-17T10:31:22.140Z"
   },
   {
    "duration": 17,
    "start_time": "2021-12-17T10:31:25.523Z"
   },
   {
    "duration": 101,
    "start_time": "2021-12-17T10:31:25.543Z"
   },
   {
    "duration": 876,
    "start_time": "2021-12-17T10:31:24.770Z"
   },
   {
    "duration": 790,
    "start_time": "2021-12-17T10:33:58.010Z"
   },
   {
    "duration": 272,
    "start_time": "2021-12-17T10:35:48.820Z"
   },
   {
    "duration": 1583,
    "start_time": "2021-12-17T11:04:05.745Z"
   },
   {
    "duration": 871,
    "start_time": "2021-12-17T11:04:07.333Z"
   },
   {
    "duration": 8,
    "start_time": "2021-12-17T11:04:08.206Z"
   },
   {
    "duration": 10,
    "start_time": "2021-12-17T11:04:08.218Z"
   },
   {
    "duration": 22,
    "start_time": "2021-12-17T11:04:08.232Z"
   },
   {
    "duration": 326,
    "start_time": "2021-12-17T11:04:08.257Z"
   },
   {
    "duration": 320,
    "start_time": "2021-12-17T11:04:08.587Z"
   },
   {
    "duration": 11,
    "start_time": "2021-12-17T11:04:08.910Z"
   },
   {
    "duration": 32,
    "start_time": "2021-12-17T11:04:08.924Z"
   },
   {
    "duration": 50,
    "start_time": "2021-12-17T11:04:08.958Z"
   },
   {
    "duration": 35,
    "start_time": "2021-12-17T11:04:09.010Z"
   },
   {
    "duration": 19,
    "start_time": "2021-12-17T11:04:09.048Z"
   },
   {
    "duration": 22,
    "start_time": "2021-12-17T11:04:09.070Z"
   },
   {
    "duration": 6,
    "start_time": "2021-12-17T11:04:09.095Z"
   },
   {
    "duration": 41,
    "start_time": "2021-12-17T11:04:09.104Z"
   },
   {
    "duration": 180,
    "start_time": "2021-12-17T11:04:09.149Z"
   },
   {
    "duration": 665,
    "start_time": "2021-12-17T11:04:09.331Z"
   },
   {
    "duration": 94,
    "start_time": "2021-12-17T11:04:09.999Z"
   },
   {
    "duration": 65,
    "start_time": "2021-12-17T11:04:10.096Z"
   },
   {
    "duration": 54,
    "start_time": "2021-12-17T11:04:10.163Z"
   },
   {
    "duration": 7,
    "start_time": "2021-12-17T11:04:10.221Z"
   },
   {
    "duration": 18,
    "start_time": "2021-12-17T11:04:10.237Z"
   },
   {
    "duration": 3,
    "start_time": "2021-12-17T11:04:10.258Z"
   },
   {
    "duration": 8,
    "start_time": "2021-12-17T11:04:10.264Z"
   },
   {
    "duration": 583,
    "start_time": "2021-12-17T11:04:10.274Z"
   },
   {
    "duration": 448,
    "start_time": "2021-12-17T11:04:10.861Z"
   },
   {
    "duration": 448,
    "start_time": "2021-12-17T11:04:11.311Z"
   },
   {
    "duration": 367,
    "start_time": "2021-12-17T11:04:11.762Z"
   },
   {
    "duration": 390,
    "start_time": "2021-12-17T11:04:12.133Z"
   },
   {
    "duration": 11,
    "start_time": "2021-12-17T11:04:12.527Z"
   },
   {
    "duration": 24,
    "start_time": "2021-12-17T11:04:12.541Z"
   },
   {
    "duration": 62,
    "start_time": "2021-12-17T11:04:12.568Z"
   },
   {
    "duration": 24,
    "start_time": "2021-12-17T11:04:12.632Z"
   },
   {
    "duration": 459,
    "start_time": "2021-12-17T11:04:12.658Z"
   },
   {
    "duration": 36,
    "start_time": "2021-12-17T11:04:13.121Z"
   },
   {
    "duration": 461,
    "start_time": "2021-12-17T11:04:13.160Z"
   },
   {
    "duration": 6,
    "start_time": "2021-12-17T11:04:13.625Z"
   },
   {
    "duration": 9,
    "start_time": "2021-12-17T11:04:13.634Z"
   },
   {
    "duration": 428,
    "start_time": "2021-12-17T11:04:13.645Z"
   },
   {
    "duration": 899,
    "start_time": "2021-12-17T11:04:13.177Z"
   },
   {
    "duration": 893,
    "start_time": "2021-12-17T11:04:13.184Z"
   },
   {
    "duration": 8,
    "start_time": "2021-12-17T11:07:08.634Z"
   },
   {
    "duration": 25,
    "start_time": "2021-12-17T11:07:13.846Z"
   },
   {
    "duration": 3565,
    "start_time": "2021-12-17T11:07:18.900Z"
   },
   {
    "duration": 1115,
    "start_time": "2021-12-17T11:12:04.520Z"
   },
   {
    "duration": 261,
    "start_time": "2021-12-17T11:12:17.208Z"
   },
   {
    "duration": 20731,
    "start_time": "2021-12-17T11:12:39.125Z"
   },
   {
    "duration": 6,
    "start_time": "2021-12-17T11:15:24.012Z"
   },
   {
    "duration": 11,
    "start_time": "2021-12-17T11:15:43.505Z"
   },
   {
    "duration": 27989,
    "start_time": "2021-12-17T11:26:19.418Z"
   },
   {
    "duration": 3141,
    "start_time": "2021-12-17T11:28:20.189Z"
   },
   {
    "duration": 1640,
    "start_time": "2021-12-17T11:33:50.995Z"
   },
   {
    "duration": 1019,
    "start_time": "2021-12-17T11:33:52.638Z"
   },
   {
    "duration": 13,
    "start_time": "2021-12-17T11:33:53.662Z"
   },
   {
    "duration": 18,
    "start_time": "2021-12-17T11:33:53.678Z"
   },
   {
    "duration": 25,
    "start_time": "2021-12-17T11:33:53.699Z"
   },
   {
    "duration": 362,
    "start_time": "2021-12-17T11:33:53.729Z"
   },
   {
    "duration": 336,
    "start_time": "2021-12-17T11:33:54.096Z"
   },
   {
    "duration": 8,
    "start_time": "2021-12-17T11:33:54.435Z"
   },
   {
    "duration": 5,
    "start_time": "2021-12-17T11:33:54.451Z"
   },
   {
    "duration": 74,
    "start_time": "2021-12-17T11:33:54.459Z"
   },
   {
    "duration": 12,
    "start_time": "2021-12-17T11:33:54.536Z"
   },
   {
    "duration": 7,
    "start_time": "2021-12-17T11:33:54.550Z"
   },
   {
    "duration": 19,
    "start_time": "2021-12-17T11:33:54.560Z"
   },
   {
    "duration": 38,
    "start_time": "2021-12-17T11:33:54.582Z"
   },
   {
    "duration": 7,
    "start_time": "2021-12-17T11:33:54.623Z"
   },
   {
    "duration": 209,
    "start_time": "2021-12-17T11:33:54.633Z"
   },
   {
    "duration": 616,
    "start_time": "2021-12-17T11:33:54.844Z"
   },
   {
    "duration": 95,
    "start_time": "2021-12-17T11:33:55.464Z"
   },
   {
    "duration": 71,
    "start_time": "2021-12-17T11:33:55.561Z"
   },
   {
    "duration": 31,
    "start_time": "2021-12-17T11:33:55.636Z"
   },
   {
    "duration": 22,
    "start_time": "2021-12-17T11:33:55.670Z"
   },
   {
    "duration": 33,
    "start_time": "2021-12-17T11:33:55.694Z"
   },
   {
    "duration": 3,
    "start_time": "2021-12-17T11:33:55.730Z"
   },
   {
    "duration": 7,
    "start_time": "2021-12-17T11:33:55.736Z"
   },
   {
    "duration": 552,
    "start_time": "2021-12-17T11:33:55.746Z"
   },
   {
    "duration": 446,
    "start_time": "2021-12-17T11:33:56.300Z"
   },
   {
    "duration": 452,
    "start_time": "2021-12-17T11:33:56.751Z"
   },
   {
    "duration": 365,
    "start_time": "2021-12-17T11:33:57.206Z"
   },
   {
    "duration": 387,
    "start_time": "2021-12-17T11:33:57.574Z"
   },
   {
    "duration": 8,
    "start_time": "2021-12-17T11:33:57.963Z"
   },
   {
    "duration": 22,
    "start_time": "2021-12-17T11:33:57.973Z"
   },
   {
    "duration": 22,
    "start_time": "2021-12-17T11:33:58.017Z"
   },
   {
    "duration": 22,
    "start_time": "2021-12-17T11:33:58.042Z"
   },
   {
    "duration": 465,
    "start_time": "2021-12-17T11:33:58.067Z"
   },
   {
    "duration": 33,
    "start_time": "2021-12-17T11:33:58.536Z"
   },
   {
    "duration": 464,
    "start_time": "2021-12-17T11:33:58.571Z"
   },
   {
    "duration": 5,
    "start_time": "2021-12-17T11:33:59.037Z"
   },
   {
    "duration": 10,
    "start_time": "2021-12-17T11:33:59.044Z"
   },
   {
    "duration": 13,
    "start_time": "2021-12-17T11:33:59.056Z"
   },
   {
    "duration": 52,
    "start_time": "2021-12-17T11:33:59.071Z"
   },
   {
    "duration": 3963,
    "start_time": "2021-12-17T11:33:59.126Z"
   },
   {
    "duration": 1228,
    "start_time": "2021-12-17T11:34:03.091Z"
   },
   {
    "duration": 30546,
    "start_time": "2021-12-17T11:34:04.322Z"
   },
   {
    "duration": 6,
    "start_time": "2021-12-17T11:34:34.871Z"
   },
   {
    "duration": 15,
    "start_time": "2021-12-17T11:34:34.879Z"
   },
   {
    "duration": 423,
    "start_time": "2021-12-17T11:35:44.320Z"
   },
   {
    "duration": 284,
    "start_time": "2021-12-17T11:37:19.804Z"
   },
   {
    "duration": 305,
    "start_time": "2021-12-17T11:41:34.964Z"
   },
   {
    "duration": 3897,
    "start_time": "2021-12-17T11:42:41.100Z"
   },
   {
    "duration": 3506,
    "start_time": "2021-12-17T11:43:18.442Z"
   },
   {
    "duration": 6,
    "start_time": "2021-12-17T11:49:53.858Z"
   },
   {
    "duration": 10,
    "start_time": "2021-12-17T11:50:19.278Z"
   },
   {
    "duration": 1596,
    "start_time": "2021-12-17T11:51:32.676Z"
   },
   {
    "duration": 951,
    "start_time": "2021-12-17T11:51:34.275Z"
   },
   {
    "duration": 13,
    "start_time": "2021-12-17T11:51:35.229Z"
   },
   {
    "duration": 7,
    "start_time": "2021-12-17T11:51:35.245Z"
   },
   {
    "duration": 11,
    "start_time": "2021-12-17T11:51:35.254Z"
   },
   {
    "duration": 360,
    "start_time": "2021-12-17T11:51:35.267Z"
   },
   {
    "duration": 327,
    "start_time": "2021-12-17T11:51:35.632Z"
   },
   {
    "duration": 6,
    "start_time": "2021-12-17T11:51:35.964Z"
   },
   {
    "duration": 42,
    "start_time": "2021-12-17T11:51:35.973Z"
   },
   {
    "duration": 66,
    "start_time": "2021-12-17T11:51:36.018Z"
   },
   {
    "duration": 18,
    "start_time": "2021-12-17T11:51:36.087Z"
   },
   {
    "duration": 23,
    "start_time": "2021-12-17T11:51:36.108Z"
   },
   {
    "duration": 24,
    "start_time": "2021-12-17T11:51:36.133Z"
   },
   {
    "duration": 4,
    "start_time": "2021-12-17T11:51:36.159Z"
   },
   {
    "duration": 7,
    "start_time": "2021-12-17T11:51:36.166Z"
   },
   {
    "duration": 206,
    "start_time": "2021-12-17T11:51:36.175Z"
   },
   {
    "duration": 624,
    "start_time": "2021-12-17T11:51:36.383Z"
   },
   {
    "duration": 107,
    "start_time": "2021-12-17T11:51:37.010Z"
   },
   {
    "duration": 57,
    "start_time": "2021-12-17T11:51:37.122Z"
   },
   {
    "duration": 63,
    "start_time": "2021-12-17T11:51:37.181Z"
   },
   {
    "duration": 8,
    "start_time": "2021-12-17T11:51:37.246Z"
   },
   {
    "duration": 24,
    "start_time": "2021-12-17T11:51:37.256Z"
   },
   {
    "duration": 18,
    "start_time": "2021-12-17T11:51:37.282Z"
   },
   {
    "duration": 18,
    "start_time": "2021-12-17T11:51:37.323Z"
   },
   {
    "duration": 544,
    "start_time": "2021-12-17T11:51:37.344Z"
   },
   {
    "duration": 454,
    "start_time": "2021-12-17T11:51:37.893Z"
   },
   {
    "duration": 456,
    "start_time": "2021-12-17T11:51:38.350Z"
   },
   {
    "duration": 388,
    "start_time": "2021-12-17T11:51:38.809Z"
   },
   {
    "duration": 406,
    "start_time": "2021-12-17T11:51:39.202Z"
   },
   {
    "duration": 12,
    "start_time": "2021-12-17T11:51:39.617Z"
   },
   {
    "duration": 22,
    "start_time": "2021-12-17T11:51:39.636Z"
   },
   {
    "duration": 21,
    "start_time": "2021-12-17T11:51:39.661Z"
   },
   {
    "duration": 55,
    "start_time": "2021-12-17T11:51:39.684Z"
   },
   {
    "duration": 461,
    "start_time": "2021-12-17T11:51:39.742Z"
   },
   {
    "duration": 49,
    "start_time": "2021-12-17T11:51:40.205Z"
   },
   {
    "duration": 466,
    "start_time": "2021-12-17T11:51:40.256Z"
   },
   {
    "duration": 6,
    "start_time": "2021-12-17T11:51:40.725Z"
   },
   {
    "duration": 5,
    "start_time": "2021-12-17T11:51:40.734Z"
   },
   {
    "duration": 11,
    "start_time": "2021-12-17T11:51:40.742Z"
   },
   {
    "duration": 28,
    "start_time": "2021-12-17T11:51:40.756Z"
   },
   {
    "duration": 3362,
    "start_time": "2021-12-17T11:51:40.786Z"
   },
   {
    "duration": 977,
    "start_time": "2021-12-17T11:51:44.150Z"
   },
   {
    "duration": 35643,
    "start_time": "2021-12-17T11:51:45.131Z"
   },
   {
    "duration": 5,
    "start_time": "2021-12-17T11:52:20.776Z"
   },
   {
    "duration": 14,
    "start_time": "2021-12-17T11:52:20.784Z"
   },
   {
    "duration": 3253,
    "start_time": "2021-12-17T11:52:20.816Z"
   },
   {
    "duration": 6,
    "start_time": "2021-12-17T11:52:24.072Z"
   },
   {
    "duration": 36,
    "start_time": "2021-12-17T11:52:24.080Z"
   },
   {
    "duration": 420,
    "start_time": "2021-12-17T11:52:24.122Z"
   },
   {
    "duration": 1603,
    "start_time": "2021-12-17T11:52:51.673Z"
   },
   {
    "duration": 979,
    "start_time": "2021-12-17T11:52:53.279Z"
   },
   {
    "duration": 10,
    "start_time": "2021-12-17T11:52:54.260Z"
   },
   {
    "duration": 21,
    "start_time": "2021-12-17T11:52:54.273Z"
   },
   {
    "duration": 31,
    "start_time": "2021-12-17T11:52:54.297Z"
   },
   {
    "duration": 378,
    "start_time": "2021-12-17T11:52:54.331Z"
   },
   {
    "duration": 326,
    "start_time": "2021-12-17T11:52:54.716Z"
   },
   {
    "duration": 6,
    "start_time": "2021-12-17T11:52:55.046Z"
   },
   {
    "duration": 21,
    "start_time": "2021-12-17T11:52:55.054Z"
   },
   {
    "duration": 59,
    "start_time": "2021-12-17T11:52:55.078Z"
   },
   {
    "duration": 15,
    "start_time": "2021-12-17T11:52:55.140Z"
   },
   {
    "duration": 15,
    "start_time": "2021-12-17T11:52:55.157Z"
   },
   {
    "duration": 51,
    "start_time": "2021-12-17T11:52:55.175Z"
   },
   {
    "duration": 5,
    "start_time": "2021-12-17T11:52:55.229Z"
   },
   {
    "duration": 8,
    "start_time": "2021-12-17T11:52:55.237Z"
   },
   {
    "duration": 209,
    "start_time": "2021-12-17T11:52:55.248Z"
   },
   {
    "duration": 618,
    "start_time": "2021-12-17T11:52:55.460Z"
   },
   {
    "duration": 97,
    "start_time": "2021-12-17T11:52:56.081Z"
   },
   {
    "duration": 78,
    "start_time": "2021-12-17T11:52:56.181Z"
   },
   {
    "duration": 29,
    "start_time": "2021-12-17T11:52:56.261Z"
   },
   {
    "duration": 25,
    "start_time": "2021-12-17T11:52:56.293Z"
   },
   {
    "duration": 20,
    "start_time": "2021-12-17T11:52:56.323Z"
   },
   {
    "duration": 3,
    "start_time": "2021-12-17T11:52:56.349Z"
   },
   {
    "duration": 8,
    "start_time": "2021-12-17T11:52:56.355Z"
   },
   {
    "duration": 589,
    "start_time": "2021-12-17T11:52:56.365Z"
   },
   {
    "duration": 450,
    "start_time": "2021-12-17T11:52:56.956Z"
   },
   {
    "duration": 457,
    "start_time": "2021-12-17T11:52:57.409Z"
   },
   {
    "duration": 389,
    "start_time": "2021-12-17T11:52:57.869Z"
   },
   {
    "duration": 425,
    "start_time": "2021-12-17T11:52:58.260Z"
   },
   {
    "duration": 8,
    "start_time": "2021-12-17T11:52:58.687Z"
   },
   {
    "duration": 34,
    "start_time": "2021-12-17T11:52:58.697Z"
   },
   {
    "duration": 27,
    "start_time": "2021-12-17T11:52:58.734Z"
   },
   {
    "duration": 24,
    "start_time": "2021-12-17T11:52:58.763Z"
   },
   {
    "duration": 544,
    "start_time": "2021-12-17T11:52:58.818Z"
   },
   {
    "duration": 31,
    "start_time": "2021-12-17T11:52:59.364Z"
   },
   {
    "duration": 477,
    "start_time": "2021-12-17T11:52:59.398Z"
   },
   {
    "duration": 4,
    "start_time": "2021-12-17T11:52:59.877Z"
   },
   {
    "duration": 9,
    "start_time": "2021-12-17T11:52:59.883Z"
   },
   {
    "duration": 23,
    "start_time": "2021-12-17T11:52:59.894Z"
   },
   {
    "duration": 35,
    "start_time": "2021-12-17T11:52:59.920Z"
   },
   {
    "duration": 3346,
    "start_time": "2021-12-17T11:52:59.957Z"
   },
   {
    "duration": 926,
    "start_time": "2021-12-17T11:53:03.305Z"
   },
   {
    "duration": 29704,
    "start_time": "2021-12-17T11:53:04.316Z"
   },
   {
    "duration": 6,
    "start_time": "2021-12-17T11:53:34.023Z"
   },
   {
    "duration": 25,
    "start_time": "2021-12-17T11:53:34.031Z"
   },
   {
    "duration": 3198,
    "start_time": "2021-12-17T11:53:34.058Z"
   },
   {
    "duration": 7,
    "start_time": "2021-12-17T11:53:37.260Z"
   },
   {
    "duration": 20,
    "start_time": "2021-12-17T11:53:37.270Z"
   },
   {
    "duration": 429,
    "start_time": "2021-12-17T12:00:12.674Z"
   },
   {
    "duration": 286,
    "start_time": "2021-12-17T12:00:47.260Z"
   },
   {
    "duration": 1671,
    "start_time": "2021-12-17T12:08:52.180Z"
   },
   {
    "duration": 992,
    "start_time": "2021-12-17T12:08:53.853Z"
   },
   {
    "duration": 9,
    "start_time": "2021-12-17T12:08:54.848Z"
   },
   {
    "duration": 7,
    "start_time": "2021-12-17T12:08:54.860Z"
   },
   {
    "duration": 19,
    "start_time": "2021-12-17T12:08:54.869Z"
   },
   {
    "duration": 466,
    "start_time": "2021-12-17T12:08:54.892Z"
   },
   {
    "duration": 436,
    "start_time": "2021-12-17T12:08:55.361Z"
   },
   {
    "duration": 15,
    "start_time": "2021-12-17T12:08:55.802Z"
   },
   {
    "duration": 6,
    "start_time": "2021-12-17T12:08:55.821Z"
   },
   {
    "duration": 48,
    "start_time": "2021-12-17T12:08:55.829Z"
   },
   {
    "duration": 46,
    "start_time": "2021-12-17T12:08:55.880Z"
   },
   {
    "duration": 12,
    "start_time": "2021-12-17T12:08:55.929Z"
   },
   {
    "duration": 25,
    "start_time": "2021-12-17T12:08:55.945Z"
   },
   {
    "duration": 5,
    "start_time": "2021-12-17T12:08:55.973Z"
   },
   {
    "duration": 46,
    "start_time": "2021-12-17T12:08:55.981Z"
   },
   {
    "duration": 214,
    "start_time": "2021-12-17T12:08:56.030Z"
   },
   {
    "duration": 623,
    "start_time": "2021-12-17T12:08:56.246Z"
   },
   {
    "duration": 96,
    "start_time": "2021-12-17T12:08:56.871Z"
   },
   {
    "duration": 65,
    "start_time": "2021-12-17T12:08:56.969Z"
   },
   {
    "duration": 40,
    "start_time": "2021-12-17T12:08:57.037Z"
   },
   {
    "duration": 10,
    "start_time": "2021-12-17T12:08:57.080Z"
   },
   {
    "duration": 24,
    "start_time": "2021-12-17T12:08:57.117Z"
   },
   {
    "duration": 4,
    "start_time": "2021-12-17T12:08:57.150Z"
   },
   {
    "duration": 20,
    "start_time": "2021-12-17T12:08:57.158Z"
   },
   {
    "duration": 540,
    "start_time": "2021-12-17T12:08:57.181Z"
   },
   {
    "duration": 470,
    "start_time": "2021-12-17T12:08:57.725Z"
   },
   {
    "duration": 473,
    "start_time": "2021-12-17T12:08:58.197Z"
   },
   {
    "duration": 408,
    "start_time": "2021-12-17T12:08:58.672Z"
   },
   {
    "duration": 421,
    "start_time": "2021-12-17T12:08:59.083Z"
   },
   {
    "duration": 15,
    "start_time": "2021-12-17T12:08:59.507Z"
   },
   {
    "duration": 25,
    "start_time": "2021-12-17T12:08:59.526Z"
   },
   {
    "duration": 21,
    "start_time": "2021-12-17T12:08:59.553Z"
   },
   {
    "duration": 62,
    "start_time": "2021-12-17T12:08:59.576Z"
   },
   {
    "duration": 465,
    "start_time": "2021-12-17T12:08:59.642Z"
   },
   {
    "duration": 46,
    "start_time": "2021-12-17T12:09:00.110Z"
   },
   {
    "duration": 504,
    "start_time": "2021-12-17T12:09:00.160Z"
   },
   {
    "duration": 5,
    "start_time": "2021-12-17T12:09:00.666Z"
   },
   {
    "duration": 13,
    "start_time": "2021-12-17T12:09:00.673Z"
   },
   {
    "duration": 18,
    "start_time": "2021-12-17T12:09:00.689Z"
   },
   {
    "duration": 35,
    "start_time": "2021-12-17T12:09:00.718Z"
   },
   {
    "duration": 3248,
    "start_time": "2021-12-17T12:09:00.755Z"
   },
   {
    "duration": 925,
    "start_time": "2021-12-17T12:09:04.005Z"
   },
   {
    "duration": 31356,
    "start_time": "2021-12-17T12:09:05.026Z"
   },
   {
    "duration": 8,
    "start_time": "2021-12-17T12:09:36.385Z"
   },
   {
    "duration": 39,
    "start_time": "2021-12-17T12:09:36.396Z"
   },
   {
    "duration": 3724,
    "start_time": "2021-12-17T12:09:36.438Z"
   },
   {
    "duration": 7,
    "start_time": "2021-12-17T12:09:40.165Z"
   },
   {
    "duration": 24,
    "start_time": "2021-12-17T12:09:40.174Z"
   },
   {
    "duration": 457,
    "start_time": "2021-12-17T12:09:40.201Z"
   },
   {
    "duration": 944,
    "start_time": "2021-12-17T12:09:39.717Z"
   },
   {
    "duration": 936,
    "start_time": "2021-12-17T12:09:39.726Z"
   },
   {
    "duration": 924,
    "start_time": "2021-12-17T12:09:39.742Z"
   },
   {
    "duration": 917,
    "start_time": "2021-12-17T12:09:39.751Z"
   },
   {
    "duration": 911,
    "start_time": "2021-12-17T12:09:39.759Z"
   },
   {
    "duration": 905,
    "start_time": "2021-12-17T12:09:39.767Z"
   },
   {
    "duration": 898,
    "start_time": "2021-12-17T12:09:39.776Z"
   },
   {
    "duration": 892,
    "start_time": "2021-12-17T12:09:39.784Z"
   },
   {
    "duration": 885,
    "start_time": "2021-12-17T12:09:39.793Z"
   },
   {
    "duration": 878,
    "start_time": "2021-12-17T12:09:39.802Z"
   },
   {
    "duration": 872,
    "start_time": "2021-12-17T12:09:39.810Z"
   },
   {
    "duration": 865,
    "start_time": "2021-12-17T12:09:39.818Z"
   },
   {
    "duration": 8,
    "start_time": "2021-12-17T12:10:03.108Z"
   },
   {
    "duration": 301,
    "start_time": "2021-12-17T12:10:03.972Z"
   },
   {
    "duration": 5,
    "start_time": "2021-12-17T12:10:27.005Z"
   },
   {
    "duration": 13,
    "start_time": "2021-12-17T12:11:05.881Z"
   },
   {
    "duration": 4,
    "start_time": "2021-12-17T12:11:06.634Z"
   },
   {
    "duration": 328,
    "start_time": "2021-12-17T12:11:07.383Z"
   },
   {
    "duration": 338,
    "start_time": "2021-12-17T12:12:15.957Z"
   },
   {
    "duration": 247,
    "start_time": "2021-12-17T12:13:34.033Z"
   },
   {
    "duration": 262,
    "start_time": "2021-12-17T12:13:40.323Z"
   },
   {
    "duration": 443,
    "start_time": "2021-12-17T12:13:43.141Z"
   },
   {
    "duration": 315,
    "start_time": "2021-12-17T12:13:49.294Z"
   },
   {
    "duration": 1409,
    "start_time": "2021-12-17T12:13:53.343Z"
   },
   {
    "duration": 1912,
    "start_time": "2021-12-17T12:17:12.069Z"
   },
   {
    "duration": 1151,
    "start_time": "2021-12-17T12:17:13.984Z"
   },
   {
    "duration": 9,
    "start_time": "2021-12-17T12:17:15.138Z"
   },
   {
    "duration": 25,
    "start_time": "2021-12-17T12:17:15.150Z"
   },
   {
    "duration": 36,
    "start_time": "2021-12-17T12:17:15.178Z"
   },
   {
    "duration": 328,
    "start_time": "2021-12-17T12:17:15.216Z"
   },
   {
    "duration": 304,
    "start_time": "2021-12-17T12:17:15.549Z"
   },
   {
    "duration": 5,
    "start_time": "2021-12-17T12:17:15.857Z"
   },
   {
    "duration": 17,
    "start_time": "2021-12-17T12:17:15.865Z"
   },
   {
    "duration": 65,
    "start_time": "2021-12-17T12:17:15.885Z"
   },
   {
    "duration": 22,
    "start_time": "2021-12-17T12:17:15.952Z"
   },
   {
    "duration": 21,
    "start_time": "2021-12-17T12:17:15.977Z"
   },
   {
    "duration": 42,
    "start_time": "2021-12-17T12:17:16.001Z"
   },
   {
    "duration": 8,
    "start_time": "2021-12-17T12:17:16.047Z"
   },
   {
    "duration": 18,
    "start_time": "2021-12-17T12:17:16.058Z"
   },
   {
    "duration": 195,
    "start_time": "2021-12-17T12:17:16.078Z"
   },
   {
    "duration": 808,
    "start_time": "2021-12-17T12:17:16.277Z"
   },
   {
    "duration": 99,
    "start_time": "2021-12-17T12:17:17.088Z"
   },
   {
    "duration": 79,
    "start_time": "2021-12-17T12:17:17.190Z"
   },
   {
    "duration": 48,
    "start_time": "2021-12-17T12:17:17.272Z"
   },
   {
    "duration": 16,
    "start_time": "2021-12-17T12:17:17.327Z"
   },
   {
    "duration": 20,
    "start_time": "2021-12-17T12:17:17.345Z"
   },
   {
    "duration": 4,
    "start_time": "2021-12-17T12:17:17.371Z"
   },
   {
    "duration": 28,
    "start_time": "2021-12-17T12:17:17.378Z"
   },
   {
    "duration": 661,
    "start_time": "2021-12-17T12:17:17.408Z"
   },
   {
    "duration": 480,
    "start_time": "2021-12-17T12:17:18.071Z"
   },
   {
    "duration": 568,
    "start_time": "2021-12-17T12:17:18.553Z"
   },
   {
    "duration": 420,
    "start_time": "2021-12-17T12:17:19.124Z"
   },
   {
    "duration": 513,
    "start_time": "2021-12-17T12:17:19.547Z"
   },
   {
    "duration": 9,
    "start_time": "2021-12-17T12:17:20.062Z"
   },
   {
    "duration": 22,
    "start_time": "2021-12-17T12:17:20.073Z"
   },
   {
    "duration": 41,
    "start_time": "2021-12-17T12:17:20.097Z"
   },
   {
    "duration": 22,
    "start_time": "2021-12-17T12:17:20.142Z"
   },
   {
    "duration": 481,
    "start_time": "2021-12-17T12:17:20.167Z"
   },
   {
    "duration": 34,
    "start_time": "2021-12-17T12:17:20.651Z"
   },
   {
    "duration": 482,
    "start_time": "2021-12-17T12:17:20.688Z"
   },
   {
    "duration": 4,
    "start_time": "2021-12-17T12:17:21.172Z"
   },
   {
    "duration": 7,
    "start_time": "2021-12-17T12:17:21.178Z"
   },
   {
    "duration": 31,
    "start_time": "2021-12-17T12:17:21.187Z"
   },
   {
    "duration": 32,
    "start_time": "2021-12-17T12:17:21.222Z"
   },
   {
    "duration": 3352,
    "start_time": "2021-12-17T12:17:21.256Z"
   },
   {
    "duration": 1010,
    "start_time": "2021-12-17T12:17:24.610Z"
   },
   {
    "duration": 30787,
    "start_time": "2021-12-17T12:17:25.627Z"
   },
   {
    "duration": 517,
    "start_time": "2021-12-17T12:17:56.419Z"
   },
   {
    "duration": 940,
    "start_time": "2021-12-17T12:17:55.999Z"
   },
   {
    "duration": 935,
    "start_time": "2021-12-17T12:17:56.006Z"
   },
   {
    "duration": 914,
    "start_time": "2021-12-17T12:17:56.029Z"
   },
   {
    "duration": 892,
    "start_time": "2021-12-17T12:17:56.053Z"
   },
   {
    "duration": 885,
    "start_time": "2021-12-17T12:17:56.062Z"
   },
   {
    "duration": 879,
    "start_time": "2021-12-17T12:17:56.071Z"
   },
   {
    "duration": 872,
    "start_time": "2021-12-17T12:17:56.080Z"
   },
   {
    "duration": 2204,
    "start_time": "2021-12-17T12:19:07.878Z"
   },
   {
    "duration": 1388,
    "start_time": "2021-12-17T12:19:10.085Z"
   },
   {
    "duration": 14,
    "start_time": "2021-12-17T12:19:11.477Z"
   },
   {
    "duration": 22,
    "start_time": "2021-12-17T12:19:11.496Z"
   },
   {
    "duration": 18,
    "start_time": "2021-12-17T12:19:11.522Z"
   },
   {
    "duration": 501,
    "start_time": "2021-12-17T12:19:11.545Z"
   },
   {
    "duration": 371,
    "start_time": "2021-12-17T12:19:12.049Z"
   },
   {
    "duration": 10,
    "start_time": "2021-12-17T12:19:12.426Z"
   },
   {
    "duration": 7,
    "start_time": "2021-12-17T12:19:12.440Z"
   },
   {
    "duration": 86,
    "start_time": "2021-12-17T12:19:12.450Z"
   },
   {
    "duration": 13,
    "start_time": "2021-12-17T12:19:12.540Z"
   },
   {
    "duration": 12,
    "start_time": "2021-12-17T12:19:12.556Z"
   },
   {
    "duration": 47,
    "start_time": "2021-12-17T12:19:12.571Z"
   },
   {
    "duration": 7,
    "start_time": "2021-12-17T12:19:12.621Z"
   },
   {
    "duration": 8,
    "start_time": "2021-12-17T12:19:12.632Z"
   },
   {
    "duration": 255,
    "start_time": "2021-12-17T12:19:12.643Z"
   },
   {
    "duration": 1254,
    "start_time": "2021-12-17T12:19:12.901Z"
   },
   {
    "duration": 110,
    "start_time": "2021-12-17T12:19:14.158Z"
   },
   {
    "duration": 92,
    "start_time": "2021-12-17T12:19:14.270Z"
   },
   {
    "duration": 54,
    "start_time": "2021-12-17T12:19:14.365Z"
   },
   {
    "duration": 15,
    "start_time": "2021-12-17T12:19:14.423Z"
   },
   {
    "duration": 23,
    "start_time": "2021-12-17T12:19:14.442Z"
   },
   {
    "duration": 4,
    "start_time": "2021-12-17T12:19:14.473Z"
   },
   {
    "duration": 36,
    "start_time": "2021-12-17T12:19:14.482Z"
   },
   {
    "duration": 745,
    "start_time": "2021-12-17T12:19:14.522Z"
   },
   {
    "duration": 594,
    "start_time": "2021-12-17T12:19:15.270Z"
   },
   {
    "duration": 609,
    "start_time": "2021-12-17T12:19:15.867Z"
   },
   {
    "duration": 465,
    "start_time": "2021-12-17T12:19:16.478Z"
   },
   {
    "duration": 451,
    "start_time": "2021-12-17T12:19:16.945Z"
   },
   {
    "duration": 36,
    "start_time": "2021-12-17T12:19:17.399Z"
   },
   {
    "duration": 24,
    "start_time": "2021-12-17T12:19:17.449Z"
   },
   {
    "duration": 24,
    "start_time": "2021-12-17T12:19:17.476Z"
   },
   {
    "duration": 42,
    "start_time": "2021-12-17T12:19:17.503Z"
   },
   {
    "duration": 549,
    "start_time": "2021-12-17T12:19:17.555Z"
   },
   {
    "duration": 49,
    "start_time": "2021-12-17T12:19:18.108Z"
   },
   {
    "duration": 598,
    "start_time": "2021-12-17T12:19:18.160Z"
   },
   {
    "duration": 5,
    "start_time": "2021-12-17T12:19:18.760Z"
   },
   {
    "duration": 6,
    "start_time": "2021-12-17T12:19:18.769Z"
   },
   {
    "duration": 43,
    "start_time": "2021-12-17T12:19:18.779Z"
   },
   {
    "duration": 35,
    "start_time": "2021-12-17T12:19:18.825Z"
   },
   {
    "duration": 4513,
    "start_time": "2021-12-17T12:19:18.863Z"
   },
   {
    "duration": 1239,
    "start_time": "2021-12-17T12:19:23.380Z"
   },
   {
    "duration": 31355,
    "start_time": "2021-12-17T12:19:24.626Z"
   },
   {
    "duration": 6631,
    "start_time": "2021-12-17T12:19:55.983Z"
   },
   {
    "duration": 3177,
    "start_time": "2021-12-17T12:20:02.618Z"
   },
   {
    "duration": 942,
    "start_time": "2021-12-17T12:20:04.856Z"
   },
   {
    "duration": 934,
    "start_time": "2021-12-17T12:20:04.865Z"
   },
   {
    "duration": 927,
    "start_time": "2021-12-17T12:20:04.874Z"
   },
   {
    "duration": 922,
    "start_time": "2021-12-17T12:20:04.881Z"
   },
   {
    "duration": 917,
    "start_time": "2021-12-17T12:20:04.887Z"
   },
   {
    "duration": 911,
    "start_time": "2021-12-17T12:20:04.894Z"
   },
   {
    "duration": 286,
    "start_time": "2021-12-17T12:25:56.382Z"
   },
   {
    "duration": 6,
    "start_time": "2021-12-17T12:26:15.473Z"
   },
   {
    "duration": 2785,
    "start_time": "2021-12-17T12:26:16.617Z"
   },
   {
    "duration": 11,
    "start_time": "2021-12-17T12:26:24.982Z"
   },
   {
    "duration": 10,
    "start_time": "2021-12-17T12:26:56.122Z"
   },
   {
    "duration": 15,
    "start_time": "2021-12-17T12:26:58.904Z"
   },
   {
    "duration": 3214,
    "start_time": "2021-12-17T12:26:59.590Z"
   },
   {
    "duration": 6,
    "start_time": "2021-12-17T12:27:06.056Z"
   },
   {
    "duration": 11,
    "start_time": "2021-12-17T12:27:09.044Z"
   },
   {
    "duration": 183,
    "start_time": "2021-12-17T12:28:02.720Z"
   },
   {
    "duration": 176,
    "start_time": "2021-12-17T12:28:51.849Z"
   },
   {
    "duration": 3197331,
    "start_time": "2021-12-17T12:28:59.433Z"
   },
   {
    "duration": 251,
    "start_time": "2021-12-17T13:24:28.868Z"
   },
   {
    "duration": 258,
    "start_time": "2021-12-17T13:24:44.123Z"
   },
   {
    "duration": 263,
    "start_time": "2021-12-17T13:24:51.138Z"
   },
   {
    "duration": 253,
    "start_time": "2021-12-17T13:25:45.575Z"
   },
   {
    "duration": 246,
    "start_time": "2021-12-17T13:26:01.595Z"
   },
   {
    "duration": 3945,
    "start_time": "2021-12-17T13:26:36.827Z"
   },
   {
    "duration": 8078,
    "start_time": "2021-12-17T13:27:03.318Z"
   },
   {
    "duration": 8181,
    "start_time": "2021-12-17T13:27:52.233Z"
   },
   {
    "duration": 6,
    "start_time": "2021-12-17T13:34:51.110Z"
   },
   {
    "duration": 3191,
    "start_time": "2021-12-17T13:35:44.673Z"
   },
   {
    "duration": 1903,
    "start_time": "2021-12-17T14:38:45.385Z"
   },
   {
    "duration": 1106,
    "start_time": "2021-12-17T14:38:47.291Z"
   },
   {
    "duration": 23,
    "start_time": "2021-12-17T14:38:48.401Z"
   },
   {
    "duration": 5,
    "start_time": "2021-12-17T14:38:48.428Z"
   },
   {
    "duration": 14,
    "start_time": "2021-12-17T14:38:48.436Z"
   },
   {
    "duration": 394,
    "start_time": "2021-12-17T14:38:48.452Z"
   },
   {
    "duration": 367,
    "start_time": "2021-12-17T14:38:48.850Z"
   },
   {
    "duration": 9,
    "start_time": "2021-12-17T14:38:49.223Z"
   },
   {
    "duration": 18,
    "start_time": "2021-12-17T14:38:49.237Z"
   },
   {
    "duration": 61,
    "start_time": "2021-12-17T14:38:49.258Z"
   },
   {
    "duration": 16,
    "start_time": "2021-12-17T14:38:49.323Z"
   },
   {
    "duration": 27,
    "start_time": "2021-12-17T14:38:49.342Z"
   },
   {
    "duration": 40,
    "start_time": "2021-12-17T14:38:49.371Z"
   },
   {
    "duration": 6,
    "start_time": "2021-12-17T14:38:49.414Z"
   },
   {
    "duration": 20,
    "start_time": "2021-12-17T14:38:49.424Z"
   },
   {
    "duration": 212,
    "start_time": "2021-12-17T14:38:49.447Z"
   },
   {
    "duration": 690,
    "start_time": "2021-12-17T14:38:49.661Z"
   },
   {
    "duration": 108,
    "start_time": "2021-12-17T14:38:50.355Z"
   },
   {
    "duration": 83,
    "start_time": "2021-12-17T14:38:50.466Z"
   },
   {
    "duration": 31,
    "start_time": "2021-12-17T14:38:50.551Z"
   },
   {
    "duration": 33,
    "start_time": "2021-12-17T14:38:50.585Z"
   },
   {
    "duration": 22,
    "start_time": "2021-12-17T14:38:50.620Z"
   },
   {
    "duration": 21,
    "start_time": "2021-12-17T14:38:50.647Z"
   },
   {
    "duration": 23,
    "start_time": "2021-12-17T14:38:50.673Z"
   },
   {
    "duration": 798,
    "start_time": "2021-12-17T14:38:50.700Z"
   },
   {
    "duration": 583,
    "start_time": "2021-12-17T14:38:51.501Z"
   },
   {
    "duration": 524,
    "start_time": "2021-12-17T14:38:52.087Z"
   },
   {
    "duration": 424,
    "start_time": "2021-12-17T14:38:52.619Z"
   },
   {
    "duration": 572,
    "start_time": "2021-12-17T14:38:53.046Z"
   },
   {
    "duration": 9,
    "start_time": "2021-12-17T14:38:53.620Z"
   },
   {
    "duration": 25,
    "start_time": "2021-12-17T14:38:53.631Z"
   },
   {
    "duration": 60,
    "start_time": "2021-12-17T14:38:53.659Z"
   },
   {
    "duration": 28,
    "start_time": "2021-12-17T14:38:53.723Z"
   },
   {
    "duration": 667,
    "start_time": "2021-12-17T14:38:53.754Z"
   },
   {
    "duration": 38,
    "start_time": "2021-12-17T14:38:54.424Z"
   },
   {
    "duration": 517,
    "start_time": "2021-12-17T14:38:54.466Z"
   },
   {
    "duration": 5,
    "start_time": "2021-12-17T14:38:54.985Z"
   },
   {
    "duration": 35,
    "start_time": "2021-12-17T14:38:54.993Z"
   },
   {
    "duration": 25,
    "start_time": "2021-12-17T14:38:55.032Z"
   },
   {
    "duration": 41,
    "start_time": "2021-12-17T14:38:55.060Z"
   },
   {
    "duration": 3353,
    "start_time": "2021-12-17T14:38:55.105Z"
   },
   {
    "duration": 1273,
    "start_time": "2021-12-17T14:38:58.461Z"
   },
   {
    "duration": 33424,
    "start_time": "2021-12-17T14:38:59.737Z"
   },
   {
    "duration": 8,
    "start_time": "2021-12-17T14:39:33.166Z"
   },
   {
    "duration": 27,
    "start_time": "2021-12-17T14:39:33.176Z"
   },
   {
    "duration": 3246,
    "start_time": "2021-12-17T14:39:33.206Z"
   },
   {
    "duration": 447,
    "start_time": "2021-12-17T14:39:36.456Z"
   },
   {
    "duration": 981,
    "start_time": "2021-12-17T14:39:35.925Z"
   },
   {
    "duration": 977,
    "start_time": "2021-12-17T14:39:35.931Z"
   },
   {
    "duration": 975,
    "start_time": "2021-12-17T14:39:35.935Z"
   },
   {
    "duration": 9,
    "start_time": "2021-12-17T14:39:43.741Z"
   },
   {
    "duration": 11,
    "start_time": "2021-12-17T14:39:44.592Z"
   },
   {
    "duration": 6393,
    "start_time": "2021-12-17T14:40:37.285Z"
   },
   {
    "duration": 6,
    "start_time": "2021-12-17T14:40:48.778Z"
   },
   {
    "duration": 11,
    "start_time": "2021-12-17T14:40:49.675Z"
   },
   {
    "duration": 3177,
    "start_time": "2021-12-17T14:40:50.540Z"
   },
   {
    "duration": 3262,
    "start_time": "2021-12-17T14:40:55.556Z"
   },
   {
    "duration": 9,
    "start_time": "2021-12-17T14:40:58.822Z"
   },
   {
    "duration": 10,
    "start_time": "2021-12-17T14:40:58.854Z"
   },
   {
    "duration": 396,
    "start_time": "2021-12-17T14:41:41.645Z"
   },
   {
    "duration": 285,
    "start_time": "2021-12-17T14:43:49.164Z"
   },
   {
    "duration": 260,
    "start_time": "2021-12-17T14:44:08.952Z"
   },
   {
    "duration": 278,
    "start_time": "2021-12-17T14:52:09.248Z"
   },
   {
    "duration": 243,
    "start_time": "2021-12-17T14:56:35.074Z"
   },
   {
    "duration": 7,
    "start_time": "2021-12-17T14:59:21.017Z"
   },
   {
    "duration": 241,
    "start_time": "2021-12-17T14:59:22.391Z"
   },
   {
    "duration": 13,
    "start_time": "2021-12-17T14:59:46.395Z"
   },
   {
    "duration": 6,
    "start_time": "2021-12-17T14:59:47.418Z"
   },
   {
    "duration": 347,
    "start_time": "2021-12-17T14:59:48.419Z"
   },
   {
    "duration": 8,
    "start_time": "2021-12-17T15:01:59.950Z"
   },
   {
    "duration": 6,
    "start_time": "2021-12-17T15:02:05.148Z"
   },
   {
    "duration": 15,
    "start_time": "2021-12-17T15:02:06.031Z"
   },
   {
    "duration": 4,
    "start_time": "2021-12-17T15:02:07.022Z"
   },
   {
    "duration": 308,
    "start_time": "2021-12-17T15:02:07.868Z"
   },
   {
    "duration": 303,
    "start_time": "2021-12-17T15:03:33.999Z"
   },
   {
    "duration": 1004,
    "start_time": "2021-12-17T15:07:23.067Z"
   },
   {
    "duration": 973,
    "start_time": "2021-12-17T15:07:23.100Z"
   },
   {
    "duration": 972,
    "start_time": "2021-12-17T15:07:23.102Z"
   },
   {
    "duration": 973,
    "start_time": "2021-12-17T15:07:23.103Z"
   },
   {
    "duration": 972,
    "start_time": "2021-12-17T15:07:23.105Z"
   },
   {
    "duration": 971,
    "start_time": "2021-12-17T15:07:23.107Z"
   },
   {
    "duration": 971,
    "start_time": "2021-12-17T15:07:23.109Z"
   },
   {
    "duration": 964,
    "start_time": "2021-12-17T15:07:23.117Z"
   },
   {
    "duration": 964,
    "start_time": "2021-12-17T15:07:23.119Z"
   },
   {
    "duration": 963,
    "start_time": "2021-12-17T15:07:23.121Z"
   },
   {
    "duration": 961,
    "start_time": "2021-12-17T15:07:23.124Z"
   },
   {
    "duration": 955,
    "start_time": "2021-12-17T15:07:23.132Z"
   },
   {
    "duration": 955,
    "start_time": "2021-12-17T15:07:23.134Z"
   },
   {
    "duration": 896,
    "start_time": "2021-12-17T15:07:23.195Z"
   },
   {
    "duration": 885,
    "start_time": "2021-12-17T15:07:23.207Z"
   },
   {
    "duration": 888,
    "start_time": "2021-12-17T15:07:23.229Z"
   },
   {
    "duration": 887,
    "start_time": "2021-12-17T15:07:23.231Z"
   },
   {
    "duration": 886,
    "start_time": "2021-12-17T15:07:23.233Z"
   },
   {
    "duration": 844,
    "start_time": "2021-12-17T15:07:23.277Z"
   },
   {
    "duration": 844,
    "start_time": "2021-12-17T15:07:23.279Z"
   },
   {
    "duration": 844,
    "start_time": "2021-12-17T15:07:23.280Z"
   },
   {
    "duration": 843,
    "start_time": "2021-12-17T15:07:23.282Z"
   },
   {
    "duration": 844,
    "start_time": "2021-12-17T15:07:23.283Z"
   },
   {
    "duration": 843,
    "start_time": "2021-12-17T15:07:23.285Z"
   },
   {
    "duration": 843,
    "start_time": "2021-12-17T15:07:23.287Z"
   },
   {
    "duration": 837,
    "start_time": "2021-12-17T15:07:23.294Z"
   },
   {
    "duration": 829,
    "start_time": "2021-12-17T15:07:23.304Z"
   },
   {
    "duration": 825,
    "start_time": "2021-12-17T15:07:23.309Z"
   },
   {
    "duration": 825,
    "start_time": "2021-12-17T15:07:23.310Z"
   },
   {
    "duration": 825,
    "start_time": "2021-12-17T15:07:23.312Z"
   },
   {
    "duration": 825,
    "start_time": "2021-12-17T15:07:23.313Z"
   },
   {
    "duration": 824,
    "start_time": "2021-12-17T15:07:23.315Z"
   },
   {
    "duration": 825,
    "start_time": "2021-12-17T15:07:23.316Z"
   },
   {
    "duration": 825,
    "start_time": "2021-12-17T15:07:23.317Z"
   },
   {
    "duration": 826,
    "start_time": "2021-12-17T15:07:23.318Z"
   },
   {
    "duration": 822,
    "start_time": "2021-12-17T15:07:23.323Z"
   },
   {
    "duration": 801,
    "start_time": "2021-12-17T15:07:23.346Z"
   },
   {
    "duration": 797,
    "start_time": "2021-12-17T15:07:23.351Z"
   },
   {
    "duration": 796,
    "start_time": "2021-12-17T15:07:23.353Z"
   },
   {
    "duration": 796,
    "start_time": "2021-12-17T15:07:23.355Z"
   },
   {
    "duration": 794,
    "start_time": "2021-12-17T15:07:23.358Z"
   },
   {
    "duration": 856,
    "start_time": "2021-12-17T15:07:23.361Z"
   },
   {
    "duration": 855,
    "start_time": "2021-12-17T15:07:23.363Z"
   },
   {
    "duration": 856,
    "start_time": "2021-12-17T15:07:23.364Z"
   },
   {
    "duration": 855,
    "start_time": "2021-12-17T15:07:23.366Z"
   },
   {
    "duration": 855,
    "start_time": "2021-12-17T15:07:23.368Z"
   },
   {
    "duration": 854,
    "start_time": "2021-12-17T15:07:23.371Z"
   },
   {
    "duration": 853,
    "start_time": "2021-12-17T15:07:23.373Z"
   },
   {
    "duration": 853,
    "start_time": "2021-12-17T15:07:23.375Z"
   },
   {
    "duration": 1534,
    "start_time": "2021-12-17T15:07:52.816Z"
   },
   {
    "duration": 887,
    "start_time": "2021-12-17T15:07:54.352Z"
   },
   {
    "duration": 11,
    "start_time": "2021-12-17T15:07:55.242Z"
   },
   {
    "duration": 6,
    "start_time": "2021-12-17T15:07:55.256Z"
   },
   {
    "duration": 10,
    "start_time": "2021-12-17T15:07:55.264Z"
   },
   {
    "duration": 490,
    "start_time": "2021-12-17T15:07:55.277Z"
   },
   {
    "duration": 450,
    "start_time": "2021-12-17T15:07:55.770Z"
   },
   {
    "duration": 7,
    "start_time": "2021-12-17T15:07:56.223Z"
   },
   {
    "duration": 5,
    "start_time": "2021-12-17T15:07:56.236Z"
   },
   {
    "duration": 75,
    "start_time": "2021-12-17T15:07:56.245Z"
   },
   {
    "duration": 10,
    "start_time": "2021-12-17T15:07:56.323Z"
   },
   {
    "duration": 10,
    "start_time": "2021-12-17T15:07:56.336Z"
   },
   {
    "duration": 22,
    "start_time": "2021-12-17T15:07:56.349Z"
   },
   {
    "duration": 46,
    "start_time": "2021-12-17T15:07:56.374Z"
   },
   {
    "duration": 6,
    "start_time": "2021-12-17T15:07:56.423Z"
   },
   {
    "duration": 220,
    "start_time": "2021-12-17T15:07:56.432Z"
   },
   {
    "duration": 586,
    "start_time": "2021-12-17T15:07:56.655Z"
   },
   {
    "duration": 94,
    "start_time": "2021-12-17T15:07:57.244Z"
   },
   {
    "duration": 49,
    "start_time": "2021-12-17T15:07:57.340Z"
   },
   {
    "duration": 50,
    "start_time": "2021-12-17T15:07:57.392Z"
   },
   {
    "duration": 5,
    "start_time": "2021-12-17T15:07:57.445Z"
   },
   {
    "duration": 17,
    "start_time": "2021-12-17T15:07:57.453Z"
   },
   {
    "duration": 4,
    "start_time": "2021-12-17T15:07:57.472Z"
   },
   {
    "duration": 5,
    "start_time": "2021-12-17T15:07:57.517Z"
   },
   {
    "duration": 747,
    "start_time": "2021-12-17T15:07:57.525Z"
   },
   {
    "duration": 431,
    "start_time": "2021-12-17T15:07:58.276Z"
   },
   {
    "duration": 423,
    "start_time": "2021-12-17T15:07:58.716Z"
   },
   {
    "duration": 475,
    "start_time": "2021-12-17T15:07:59.143Z"
   },
   {
    "duration": 383,
    "start_time": "2021-12-17T15:07:59.621Z"
   },
   {
    "duration": 12,
    "start_time": "2021-12-17T15:08:00.007Z"
   },
   {
    "duration": 24,
    "start_time": "2021-12-17T15:08:00.022Z"
   },
   {
    "duration": 21,
    "start_time": "2021-12-17T15:08:00.049Z"
   },
   {
    "duration": 52,
    "start_time": "2021-12-17T15:08:00.072Z"
   },
   {
    "duration": 474,
    "start_time": "2021-12-17T15:08:00.126Z"
   },
   {
    "duration": 38,
    "start_time": "2021-12-17T15:08:00.603Z"
   },
   {
    "duration": 533,
    "start_time": "2021-12-17T15:08:00.644Z"
   },
   {
    "duration": 5,
    "start_time": "2021-12-17T15:08:01.179Z"
   },
   {
    "duration": 25,
    "start_time": "2021-12-17T15:08:01.186Z"
   },
   {
    "duration": 28,
    "start_time": "2021-12-17T15:08:01.213Z"
   },
   {
    "duration": 503,
    "start_time": "2021-12-17T15:08:01.244Z"
   },
   {
    "duration": 1005,
    "start_time": "2021-12-17T15:08:00.746Z"
   },
   {
    "duration": 1005,
    "start_time": "2021-12-17T15:08:00.747Z"
   },
   {
    "duration": 1004,
    "start_time": "2021-12-17T15:08:00.750Z"
   },
   {
    "duration": 1002,
    "start_time": "2021-12-17T15:08:00.753Z"
   },
   {
    "duration": 1003,
    "start_time": "2021-12-17T15:08:00.754Z"
   },
   {
    "duration": 1002,
    "start_time": "2021-12-17T15:08:00.756Z"
   },
   {
    "duration": 1002,
    "start_time": "2021-12-17T15:08:00.758Z"
   },
   {
    "duration": 1002,
    "start_time": "2021-12-17T15:08:00.759Z"
   },
   {
    "duration": 1002,
    "start_time": "2021-12-17T15:08:00.761Z"
   },
   {
    "duration": 7,
    "start_time": "2021-12-17T15:08:26.949Z"
   },
   {
    "duration": 23,
    "start_time": "2021-12-17T15:08:28.645Z"
   },
   {
    "duration": 3717,
    "start_time": "2021-12-17T15:08:30.119Z"
   },
   {
    "duration": 1008,
    "start_time": "2021-12-17T15:08:35.011Z"
   },
   {
    "duration": 5861,
    "start_time": "2021-12-17T15:08:36.021Z"
   },
   {
    "duration": 7,
    "start_time": "2021-12-17T15:08:41.886Z"
   },
   {
    "duration": 11,
    "start_time": "2021-12-17T15:08:44.584Z"
   },
   {
    "duration": 2956,
    "start_time": "2021-12-17T15:08:45.520Z"
   },
   {
    "duration": 6,
    "start_time": "2021-12-17T15:08:51.954Z"
   },
   {
    "duration": 14,
    "start_time": "2021-12-17T15:08:52.525Z"
   },
   {
    "duration": 260,
    "start_time": "2021-12-17T15:08:56.862Z"
   },
   {
    "duration": 6716,
    "start_time": "2021-12-17T15:12:25.872Z"
   },
   {
    "duration": 6767,
    "start_time": "2021-12-17T15:13:38.696Z"
   },
   {
    "duration": 7,
    "start_time": "2021-12-17T15:13:45.466Z"
   },
   {
    "duration": 16,
    "start_time": "2021-12-17T15:13:45.475Z"
   },
   {
    "duration": 7,
    "start_time": "2021-12-17T15:17:52.372Z"
   },
   {
    "duration": 10,
    "start_time": "2021-12-17T15:17:53.009Z"
   },
   {
    "duration": 267,
    "start_time": "2021-12-17T15:19:13.239Z"
   },
   {
    "duration": 4155,
    "start_time": "2021-12-17T15:19:45.136Z"
   },
   {
    "duration": 2755,
    "start_time": "2021-12-17T15:20:27.509Z"
   },
   {
    "duration": 3039,
    "start_time": "2021-12-17T15:27:35.833Z"
   },
   {
    "duration": 882,
    "start_time": "2021-12-17T15:27:42.035Z"
   },
   {
    "duration": 3316,
    "start_time": "2021-12-17T15:27:50.212Z"
   },
   {
    "duration": 6,
    "start_time": "2021-12-17T15:32:12.624Z"
   },
   {
    "duration": 1490,
    "start_time": "2021-12-17T15:42:09.056Z"
   },
   {
    "duration": 903,
    "start_time": "2021-12-17T15:42:10.549Z"
   },
   {
    "duration": 9,
    "start_time": "2021-12-17T15:42:11.455Z"
   },
   {
    "duration": 8,
    "start_time": "2021-12-17T15:42:11.466Z"
   },
   {
    "duration": 20,
    "start_time": "2021-12-17T15:42:11.476Z"
   },
   {
    "duration": 301,
    "start_time": "2021-12-17T15:42:11.499Z"
   },
   {
    "duration": 319,
    "start_time": "2021-12-17T15:42:11.802Z"
   },
   {
    "duration": 5,
    "start_time": "2021-12-17T15:42:12.123Z"
   },
   {
    "duration": 18,
    "start_time": "2021-12-17T15:42:12.133Z"
   },
   {
    "duration": 46,
    "start_time": "2021-12-17T15:42:12.154Z"
   },
   {
    "duration": 22,
    "start_time": "2021-12-17T15:42:12.203Z"
   },
   {
    "duration": 12,
    "start_time": "2021-12-17T15:42:12.227Z"
   },
   {
    "duration": 29,
    "start_time": "2021-12-17T15:42:12.241Z"
   },
   {
    "duration": 4,
    "start_time": "2021-12-17T15:42:12.272Z"
   },
   {
    "duration": 12,
    "start_time": "2021-12-17T15:42:12.278Z"
   },
   {
    "duration": 188,
    "start_time": "2021-12-17T15:42:12.293Z"
   },
   {
    "duration": 947,
    "start_time": "2021-12-17T15:42:12.484Z"
   },
   {
    "duration": 99,
    "start_time": "2021-12-17T15:42:13.433Z"
   },
   {
    "duration": 46,
    "start_time": "2021-12-17T15:42:13.534Z"
   },
   {
    "duration": 40,
    "start_time": "2021-12-17T15:42:13.582Z"
   },
   {
    "duration": 5,
    "start_time": "2021-12-17T15:42:13.625Z"
   },
   {
    "duration": 17,
    "start_time": "2021-12-17T15:42:13.632Z"
   },
   {
    "duration": 3,
    "start_time": "2021-12-17T15:42:13.651Z"
   },
   {
    "duration": 7,
    "start_time": "2021-12-17T15:42:13.657Z"
   },
   {
    "duration": 556,
    "start_time": "2021-12-17T15:42:13.667Z"
   },
   {
    "duration": 436,
    "start_time": "2021-12-17T15:42:14.225Z"
   },
   {
    "duration": 447,
    "start_time": "2021-12-17T15:42:14.669Z"
   },
   {
    "duration": 354,
    "start_time": "2021-12-17T15:42:15.120Z"
   },
   {
    "duration": 373,
    "start_time": "2021-12-17T15:42:15.477Z"
   },
   {
    "duration": 8,
    "start_time": "2021-12-17T15:42:15.853Z"
   },
   {
    "duration": 23,
    "start_time": "2021-12-17T15:42:15.863Z"
   },
   {
    "duration": 42,
    "start_time": "2021-12-17T15:42:15.889Z"
   },
   {
    "duration": 23,
    "start_time": "2021-12-17T15:42:15.933Z"
   },
   {
    "duration": 428,
    "start_time": "2021-12-17T15:42:15.958Z"
   },
   {
    "duration": 45,
    "start_time": "2021-12-17T15:42:16.389Z"
   },
   {
    "duration": 429,
    "start_time": "2021-12-17T15:42:16.436Z"
   },
   {
    "duration": 6312,
    "start_time": "2021-12-17T15:42:16.867Z"
   },
   {
    "duration": 1021,
    "start_time": "2021-12-17T15:42:22.161Z"
   },
   {
    "duration": 1013,
    "start_time": "2021-12-17T15:42:22.170Z"
   },
   {
    "duration": 1012,
    "start_time": "2021-12-17T15:42:22.172Z"
   },
   {
    "duration": 1012,
    "start_time": "2021-12-17T15:42:22.174Z"
   },
   {
    "duration": 1009,
    "start_time": "2021-12-17T15:42:22.178Z"
   },
   {
    "duration": 1008,
    "start_time": "2021-12-17T15:42:22.181Z"
   },
   {
    "duration": 1008,
    "start_time": "2021-12-17T15:42:22.182Z"
   },
   {
    "duration": 1007,
    "start_time": "2021-12-17T15:42:22.184Z"
   },
   {
    "duration": 1008,
    "start_time": "2021-12-17T15:42:22.185Z"
   },
   {
    "duration": 1007,
    "start_time": "2021-12-17T15:42:22.187Z"
   },
   {
    "duration": 1007,
    "start_time": "2021-12-17T15:42:22.188Z"
   },
   {
    "duration": 1008,
    "start_time": "2021-12-17T15:42:22.189Z"
   },
   {
    "duration": 4,
    "start_time": "2021-12-17T15:42:37.475Z"
   },
   {
    "duration": 21,
    "start_time": "2021-12-17T15:42:38.172Z"
   },
   {
    "duration": 5,
    "start_time": "2021-12-17T15:42:38.936Z"
   },
   {
    "duration": 1491,
    "start_time": "2021-12-17T15:43:02.033Z"
   },
   {
    "duration": 904,
    "start_time": "2021-12-17T15:43:03.527Z"
   },
   {
    "duration": 11,
    "start_time": "2021-12-17T15:43:04.434Z"
   },
   {
    "duration": 5,
    "start_time": "2021-12-17T15:43:04.447Z"
   },
   {
    "duration": 11,
    "start_time": "2021-12-17T15:43:04.454Z"
   },
   {
    "duration": 320,
    "start_time": "2021-12-17T15:43:04.467Z"
   },
   {
    "duration": 296,
    "start_time": "2021-12-17T15:43:04.789Z"
   },
   {
    "duration": 5,
    "start_time": "2021-12-17T15:43:05.087Z"
   },
   {
    "duration": 22,
    "start_time": "2021-12-17T15:43:05.096Z"
   },
   {
    "duration": 33,
    "start_time": "2021-12-17T15:43:05.121Z"
   },
   {
    "duration": 10,
    "start_time": "2021-12-17T15:43:05.156Z"
   },
   {
    "duration": 12,
    "start_time": "2021-12-17T15:43:05.169Z"
   },
   {
    "duration": 52,
    "start_time": "2021-12-17T15:43:05.183Z"
   },
   {
    "duration": 4,
    "start_time": "2021-12-17T15:43:05.237Z"
   },
   {
    "duration": 4,
    "start_time": "2021-12-17T15:43:05.244Z"
   },
   {
    "duration": 191,
    "start_time": "2021-12-17T15:43:05.251Z"
   },
   {
    "duration": 575,
    "start_time": "2021-12-17T15:43:05.444Z"
   },
   {
    "duration": 95,
    "start_time": "2021-12-17T15:43:06.022Z"
   },
   {
    "duration": 49,
    "start_time": "2021-12-17T15:43:06.119Z"
   },
   {
    "duration": 56,
    "start_time": "2021-12-17T15:43:06.170Z"
   },
   {
    "duration": 7,
    "start_time": "2021-12-17T15:43:06.228Z"
   },
   {
    "duration": 16,
    "start_time": "2021-12-17T15:43:06.237Z"
   },
   {
    "duration": 3,
    "start_time": "2021-12-17T15:43:06.256Z"
   },
   {
    "duration": 7,
    "start_time": "2021-12-17T15:43:06.261Z"
   },
   {
    "duration": 532,
    "start_time": "2021-12-17T15:43:06.270Z"
   },
   {
    "duration": 421,
    "start_time": "2021-12-17T15:43:06.805Z"
   },
   {
    "duration": 427,
    "start_time": "2021-12-17T15:43:07.232Z"
   },
   {
    "duration": 375,
    "start_time": "2021-12-17T15:43:07.663Z"
   },
   {
    "duration": 387,
    "start_time": "2021-12-17T15:43:08.041Z"
   },
   {
    "duration": 8,
    "start_time": "2021-12-17T15:43:08.431Z"
   },
   {
    "duration": 24,
    "start_time": "2021-12-17T15:43:08.441Z"
   },
   {
    "duration": 52,
    "start_time": "2021-12-17T15:43:08.467Z"
   },
   {
    "duration": 22,
    "start_time": "2021-12-17T15:43:08.522Z"
   },
   {
    "duration": 408,
    "start_time": "2021-12-17T15:43:08.547Z"
   },
   {
    "duration": 36,
    "start_time": "2021-12-17T15:43:08.957Z"
   },
   {
    "duration": 440,
    "start_time": "2021-12-17T15:43:08.995Z"
   },
   {
    "duration": 3,
    "start_time": "2021-12-17T15:43:09.438Z"
   },
   {
    "duration": 21,
    "start_time": "2021-12-17T15:43:09.443Z"
   },
   {
    "duration": 4,
    "start_time": "2021-12-17T15:43:09.467Z"
   },
   {
    "duration": 5,
    "start_time": "2021-12-17T15:43:09.473Z"
   },
   {
    "duration": 37,
    "start_time": "2021-12-17T15:43:09.481Z"
   },
   {
    "duration": 9,
    "start_time": "2021-12-17T15:43:09.521Z"
   },
   {
    "duration": 26,
    "start_time": "2021-12-17T15:43:09.533Z"
   },
   {
    "duration": 3244,
    "start_time": "2021-12-17T15:43:09.561Z"
   },
   {
    "duration": 916,
    "start_time": "2021-12-17T15:43:12.807Z"
   },
   {
    "duration": 6212,
    "start_time": "2021-12-17T15:43:13.726Z"
   },
   {
    "duration": 6,
    "start_time": "2021-12-17T15:43:19.941Z"
   },
   {
    "duration": 22,
    "start_time": "2021-12-17T15:43:19.950Z"
   },
   {
    "duration": 6024,
    "start_time": "2021-12-17T15:43:19.975Z"
   },
   {
    "duration": 13,
    "start_time": "2021-12-17T15:44:13.201Z"
   },
   {
    "duration": 423,
    "start_time": "2021-12-17T15:44:38.181Z"
   },
   {
    "duration": 1729,
    "start_time": "2021-12-17T15:45:09.372Z"
   },
   {
    "duration": 1003,
    "start_time": "2021-12-17T15:45:11.103Z"
   },
   {
    "duration": 10,
    "start_time": "2021-12-17T15:45:12.109Z"
   },
   {
    "duration": 5,
    "start_time": "2021-12-17T15:45:12.122Z"
   },
   {
    "duration": 13,
    "start_time": "2021-12-17T15:45:12.129Z"
   },
   {
    "duration": 323,
    "start_time": "2021-12-17T15:45:12.145Z"
   },
   {
    "duration": 305,
    "start_time": "2021-12-17T15:45:12.471Z"
   },
   {
    "duration": 7,
    "start_time": "2021-12-17T15:45:12.778Z"
   },
   {
    "duration": 4,
    "start_time": "2021-12-17T15:45:12.789Z"
   },
   {
    "duration": 56,
    "start_time": "2021-12-17T15:45:12.796Z"
   },
   {
    "duration": 12,
    "start_time": "2021-12-17T15:45:12.854Z"
   },
   {
    "duration": 14,
    "start_time": "2021-12-17T15:45:12.868Z"
   },
   {
    "duration": 25,
    "start_time": "2021-12-17T15:45:12.916Z"
   },
   {
    "duration": 4,
    "start_time": "2021-12-17T15:45:12.944Z"
   },
   {
    "duration": 10,
    "start_time": "2021-12-17T15:45:12.950Z"
   },
   {
    "duration": 193,
    "start_time": "2021-12-17T15:45:12.963Z"
   },
   {
    "duration": 661,
    "start_time": "2021-12-17T15:45:13.159Z"
   },
   {
    "duration": 105,
    "start_time": "2021-12-17T15:45:13.823Z"
   },
   {
    "duration": 57,
    "start_time": "2021-12-17T15:45:13.930Z"
   },
   {
    "duration": 46,
    "start_time": "2021-12-17T15:45:13.989Z"
   },
   {
    "duration": 5,
    "start_time": "2021-12-17T15:45:14.039Z"
   },
   {
    "duration": 19,
    "start_time": "2021-12-17T15:45:14.046Z"
   },
   {
    "duration": 4,
    "start_time": "2021-12-17T15:45:14.068Z"
   },
   {
    "duration": 6,
    "start_time": "2021-12-17T15:45:14.075Z"
   },
   {
    "duration": 519,
    "start_time": "2021-12-17T15:45:14.118Z"
   },
   {
    "duration": 439,
    "start_time": "2021-12-17T15:45:14.640Z"
   },
   {
    "duration": 525,
    "start_time": "2021-12-17T15:45:15.088Z"
   },
   {
    "duration": 396,
    "start_time": "2021-12-17T15:45:15.616Z"
   },
   {
    "duration": 390,
    "start_time": "2021-12-17T15:45:16.016Z"
   },
   {
    "duration": 13,
    "start_time": "2021-12-17T15:45:16.408Z"
   },
   {
    "duration": 22,
    "start_time": "2021-12-17T15:45:16.424Z"
   },
   {
    "duration": 23,
    "start_time": "2021-12-17T15:45:16.449Z"
   },
   {
    "duration": 56,
    "start_time": "2021-12-17T15:45:16.475Z"
   },
   {
    "duration": 433,
    "start_time": "2021-12-17T15:45:16.534Z"
   },
   {
    "duration": 52,
    "start_time": "2021-12-17T15:45:16.969Z"
   },
   {
    "duration": 421,
    "start_time": "2021-12-17T15:45:17.024Z"
   },
   {
    "duration": 5,
    "start_time": "2021-12-17T15:45:17.447Z"
   },
   {
    "duration": 22,
    "start_time": "2021-12-17T15:45:17.454Z"
   },
   {
    "duration": 5,
    "start_time": "2021-12-17T15:45:17.478Z"
   },
   {
    "duration": 33,
    "start_time": "2021-12-17T15:45:17.485Z"
   },
   {
    "duration": 7,
    "start_time": "2021-12-17T15:45:17.521Z"
   },
   {
    "duration": 10,
    "start_time": "2021-12-17T15:45:17.530Z"
   },
   {
    "duration": 30,
    "start_time": "2021-12-17T15:45:17.543Z"
   },
   {
    "duration": 3410,
    "start_time": "2021-12-17T15:45:17.576Z"
   },
   {
    "duration": 939,
    "start_time": "2021-12-17T15:45:20.989Z"
   },
   {
    "duration": 7102,
    "start_time": "2021-12-17T15:45:21.932Z"
   },
   {
    "duration": 8,
    "start_time": "2021-12-17T15:45:29.037Z"
   },
   {
    "duration": 30,
    "start_time": "2021-12-17T15:45:29.047Z"
   },
   {
    "duration": 6604,
    "start_time": "2021-12-17T15:45:29.079Z"
   },
   {
    "duration": 15,
    "start_time": "2021-12-17T15:45:35.687Z"
   },
   {
    "duration": 2831,
    "start_time": "2021-12-17T15:45:35.718Z"
   },
   {
    "duration": 42,
    "start_time": "2021-12-17T15:46:16.698Z"
   },
   {
    "duration": 29,
    "start_time": "2021-12-17T15:46:24.472Z"
   },
   {
    "duration": 30,
    "start_time": "2021-12-17T15:46:56.676Z"
   },
   {
    "duration": 30,
    "start_time": "2021-12-17T15:47:09.884Z"
   },
   {
    "duration": 30,
    "start_time": "2021-12-17T16:32:02.759Z"
   },
   {
    "duration": 1567,
    "start_time": "2021-12-17T16:50:12.476Z"
   },
   {
    "duration": 906,
    "start_time": "2021-12-17T16:50:14.045Z"
   },
   {
    "duration": 10,
    "start_time": "2021-12-17T16:50:14.954Z"
   },
   {
    "duration": 5,
    "start_time": "2021-12-17T16:50:14.967Z"
   },
   {
    "duration": 10,
    "start_time": "2021-12-17T16:50:14.974Z"
   },
   {
    "duration": 341,
    "start_time": "2021-12-17T16:50:14.987Z"
   },
   {
    "duration": 309,
    "start_time": "2021-12-17T16:50:15.330Z"
   },
   {
    "duration": 6,
    "start_time": "2021-12-17T16:50:15.641Z"
   },
   {
    "duration": 4,
    "start_time": "2021-12-17T16:50:15.654Z"
   },
   {
    "duration": 71,
    "start_time": "2021-12-17T16:50:15.662Z"
   },
   {
    "duration": 14,
    "start_time": "2021-12-17T16:50:15.736Z"
   },
   {
    "duration": 14,
    "start_time": "2021-12-17T16:50:15.752Z"
   },
   {
    "duration": 50,
    "start_time": "2021-12-17T16:50:15.769Z"
   },
   {
    "duration": 6,
    "start_time": "2021-12-17T16:50:15.821Z"
   },
   {
    "duration": 15,
    "start_time": "2021-12-17T16:50:15.830Z"
   },
   {
    "duration": 180,
    "start_time": "2021-12-17T16:50:15.847Z"
   },
   {
    "duration": 581,
    "start_time": "2021-12-17T16:50:16.030Z"
   },
   {
    "duration": 80,
    "start_time": "2021-12-17T16:50:16.617Z"
   },
   {
    "duration": 66,
    "start_time": "2021-12-17T16:50:16.699Z"
   },
   {
    "duration": 50,
    "start_time": "2021-12-17T16:50:16.767Z"
   },
   {
    "duration": 5,
    "start_time": "2021-12-17T16:50:16.819Z"
   },
   {
    "duration": 19,
    "start_time": "2021-12-17T16:50:16.826Z"
   },
   {
    "duration": 3,
    "start_time": "2021-12-17T16:50:16.847Z"
   },
   {
    "duration": 8,
    "start_time": "2021-12-17T16:50:16.852Z"
   },
   {
    "duration": 541,
    "start_time": "2021-12-17T16:50:16.862Z"
   },
   {
    "duration": 437,
    "start_time": "2021-12-17T16:50:17.406Z"
   },
   {
    "duration": 427,
    "start_time": "2021-12-17T16:50:17.849Z"
   },
   {
    "duration": 367,
    "start_time": "2021-12-17T16:50:18.279Z"
   },
   {
    "duration": 390,
    "start_time": "2021-12-17T16:50:18.649Z"
   },
   {
    "duration": 10,
    "start_time": "2021-12-17T16:50:19.042Z"
   },
   {
    "duration": 22,
    "start_time": "2021-12-17T16:50:19.055Z"
   },
   {
    "duration": 49,
    "start_time": "2021-12-17T16:50:19.079Z"
   },
   {
    "duration": 21,
    "start_time": "2021-12-17T16:50:19.131Z"
   },
   {
    "duration": 426,
    "start_time": "2021-12-17T16:50:19.155Z"
   },
   {
    "duration": 49,
    "start_time": "2021-12-17T16:50:19.583Z"
   },
   {
    "duration": 413,
    "start_time": "2021-12-17T16:50:19.634Z"
   },
   {
    "duration": 34,
    "start_time": "2021-12-17T16:50:20.050Z"
   },
   {
    "duration": 55,
    "start_time": "2021-12-17T16:50:20.088Z"
   },
   {
    "duration": 4,
    "start_time": "2021-12-17T16:50:20.147Z"
   },
   {
    "duration": 22,
    "start_time": "2021-12-17T16:50:20.154Z"
   },
   {
    "duration": 4,
    "start_time": "2021-12-17T16:50:20.179Z"
   },
   {
    "duration": 5,
    "start_time": "2021-12-17T16:50:20.218Z"
   },
   {
    "duration": 7,
    "start_time": "2021-12-17T16:50:20.225Z"
   },
   {
    "duration": 8,
    "start_time": "2021-12-17T16:50:20.234Z"
   },
   {
    "duration": 26,
    "start_time": "2021-12-17T16:50:20.245Z"
   },
   {
    "duration": 3208,
    "start_time": "2021-12-17T16:50:20.273Z"
   },
   {
    "duration": 1052,
    "start_time": "2021-12-17T16:50:23.484Z"
   },
   {
    "duration": 6552,
    "start_time": "2021-12-17T16:50:24.540Z"
   },
   {
    "duration": 6,
    "start_time": "2021-12-17T16:50:31.095Z"
   },
   {
    "duration": 26,
    "start_time": "2021-12-17T16:50:31.103Z"
   },
   {
    "duration": 6885,
    "start_time": "2021-12-17T16:50:31.132Z"
   },
   {
    "duration": 13,
    "start_time": "2021-12-17T16:50:38.019Z"
   },
   {
    "duration": 960,
    "start_time": "2021-12-17T17:03:27.670Z"
   },
   {
    "duration": 958,
    "start_time": "2021-12-17T17:03:27.673Z"
   },
   {
    "duration": 954,
    "start_time": "2021-12-17T17:03:27.679Z"
   },
   {
    "duration": 952,
    "start_time": "2021-12-17T17:03:27.682Z"
   },
   {
    "duration": 895,
    "start_time": "2021-12-17T17:03:27.740Z"
   },
   {
    "duration": 891,
    "start_time": "2021-12-17T17:03:27.746Z"
   },
   {
    "duration": 890,
    "start_time": "2021-12-17T17:03:27.748Z"
   },
   {
    "duration": 889,
    "start_time": "2021-12-17T17:03:27.750Z"
   },
   {
    "duration": 890,
    "start_time": "2021-12-17T17:03:27.751Z"
   },
   {
    "duration": 889,
    "start_time": "2021-12-17T17:03:27.753Z"
   },
   {
    "duration": 888,
    "start_time": "2021-12-17T17:03:27.755Z"
   },
   {
    "duration": 887,
    "start_time": "2021-12-17T17:03:27.757Z"
   },
   {
    "duration": 882,
    "start_time": "2021-12-17T17:03:27.764Z"
   },
   {
    "duration": 881,
    "start_time": "2021-12-17T17:03:27.766Z"
   },
   {
    "duration": 881,
    "start_time": "2021-12-17T17:03:27.767Z"
   },
   {
    "duration": 880,
    "start_time": "2021-12-17T17:03:27.769Z"
   },
   {
    "duration": 880,
    "start_time": "2021-12-17T17:03:27.770Z"
   },
   {
    "duration": 880,
    "start_time": "2021-12-17T17:03:27.772Z"
   },
   {
    "duration": 935,
    "start_time": "2021-12-17T17:03:27.782Z"
   },
   {
    "duration": 935,
    "start_time": "2021-12-17T17:03:27.783Z"
   },
   {
    "duration": 928,
    "start_time": "2021-12-17T17:03:27.791Z"
   },
   {
    "duration": 916,
    "start_time": "2021-12-17T17:03:27.805Z"
   },
   {
    "duration": 915,
    "start_time": "2021-12-17T17:03:27.807Z"
   },
   {
    "duration": 915,
    "start_time": "2021-12-17T17:03:27.808Z"
   },
   {
    "duration": 910,
    "start_time": "2021-12-17T17:03:27.815Z"
   },
   {
    "duration": 909,
    "start_time": "2021-12-17T17:03:27.817Z"
   },
   {
    "duration": 909,
    "start_time": "2021-12-17T17:03:27.818Z"
   },
   {
    "duration": 908,
    "start_time": "2021-12-17T17:03:27.820Z"
   },
   {
    "duration": 904,
    "start_time": "2021-12-17T17:03:27.826Z"
   },
   {
    "duration": 903,
    "start_time": "2021-12-17T17:03:27.828Z"
   },
   {
    "duration": 903,
    "start_time": "2021-12-17T17:03:27.829Z"
   },
   {
    "duration": 899,
    "start_time": "2021-12-17T17:03:27.834Z"
   },
   {
    "duration": 897,
    "start_time": "2021-12-17T17:03:27.837Z"
   },
   {
    "duration": 897,
    "start_time": "2021-12-17T17:03:27.839Z"
   },
   {
    "duration": 883,
    "start_time": "2021-12-17T17:03:27.854Z"
   },
   {
    "duration": 881,
    "start_time": "2021-12-17T17:03:27.857Z"
   },
   {
    "duration": 881,
    "start_time": "2021-12-17T17:03:27.859Z"
   },
   {
    "duration": 881,
    "start_time": "2021-12-17T17:03:27.860Z"
   },
   {
    "duration": 863,
    "start_time": "2021-12-17T17:03:27.879Z"
   },
   {
    "duration": 863,
    "start_time": "2021-12-17T17:03:27.881Z"
   },
   {
    "duration": 862,
    "start_time": "2021-12-17T17:03:27.883Z"
   },
   {
    "duration": 862,
    "start_time": "2021-12-17T17:03:27.884Z"
   },
   {
    "duration": 858,
    "start_time": "2021-12-17T17:03:27.889Z"
   },
   {
    "duration": 855,
    "start_time": "2021-12-17T17:03:27.893Z"
   },
   {
    "duration": 844,
    "start_time": "2021-12-17T17:03:27.906Z"
   },
   {
    "duration": 844,
    "start_time": "2021-12-17T17:03:27.908Z"
   },
   {
    "duration": 844,
    "start_time": "2021-12-17T17:03:27.910Z"
   },
   {
    "duration": 905,
    "start_time": "2021-12-17T17:03:27.911Z"
   },
   {
    "duration": 905,
    "start_time": "2021-12-17T17:03:27.913Z"
   },
   {
    "duration": 905,
    "start_time": "2021-12-17T17:03:27.914Z"
   },
   {
    "duration": 904,
    "start_time": "2021-12-17T17:03:27.916Z"
   },
   {
    "duration": 905,
    "start_time": "2021-12-17T17:03:27.917Z"
   },
   {
    "duration": 1551,
    "start_time": "2021-12-17T17:03:52.386Z"
   },
   {
    "duration": 899,
    "start_time": "2021-12-17T17:03:53.939Z"
   },
   {
    "duration": 8,
    "start_time": "2021-12-17T17:03:54.841Z"
   },
   {
    "duration": 26,
    "start_time": "2021-12-17T17:03:54.852Z"
   },
   {
    "duration": 15,
    "start_time": "2021-12-17T17:03:54.880Z"
   },
   {
    "duration": 301,
    "start_time": "2021-12-17T17:03:54.897Z"
   },
   {
    "duration": 329,
    "start_time": "2021-12-17T17:03:55.201Z"
   },
   {
    "duration": 5,
    "start_time": "2021-12-17T17:03:55.534Z"
   },
   {
    "duration": 7,
    "start_time": "2021-12-17T17:03:55.542Z"
   },
   {
    "duration": 36,
    "start_time": "2021-12-17T17:03:55.552Z"
   },
   {
    "duration": 35,
    "start_time": "2021-12-17T17:03:55.590Z"
   },
   {
    "duration": 9,
    "start_time": "2021-12-17T17:03:55.628Z"
   },
   {
    "duration": 21,
    "start_time": "2021-12-17T17:03:55.640Z"
   },
   {
    "duration": 5,
    "start_time": "2021-12-17T17:03:55.663Z"
   },
   {
    "duration": 46,
    "start_time": "2021-12-17T17:03:55.671Z"
   },
   {
    "duration": 181,
    "start_time": "2021-12-17T17:03:55.720Z"
   },
   {
    "duration": 564,
    "start_time": "2021-12-17T17:03:55.904Z"
   },
   {
    "duration": 100,
    "start_time": "2021-12-17T17:03:56.472Z"
   },
   {
    "duration": 74,
    "start_time": "2021-12-17T17:03:56.575Z"
   },
   {
    "duration": 28,
    "start_time": "2021-12-17T17:03:56.652Z"
   },
   {
    "duration": 4,
    "start_time": "2021-12-17T17:03:56.683Z"
   },
   {
    "duration": 15,
    "start_time": "2021-12-17T17:03:56.717Z"
   },
   {
    "duration": 3,
    "start_time": "2021-12-17T17:03:56.738Z"
   },
   {
    "duration": 6,
    "start_time": "2021-12-17T17:03:56.744Z"
   },
   {
    "duration": 536,
    "start_time": "2021-12-17T17:03:56.752Z"
   },
   {
    "duration": 416,
    "start_time": "2021-12-17T17:03:57.291Z"
   },
   {
    "duration": 437,
    "start_time": "2021-12-17T17:03:57.710Z"
   },
   {
    "duration": 382,
    "start_time": "2021-12-17T17:03:58.150Z"
   },
   {
    "duration": 370,
    "start_time": "2021-12-17T17:03:58.535Z"
   },
   {
    "duration": 12,
    "start_time": "2021-12-17T17:03:58.908Z"
   },
   {
    "duration": 24,
    "start_time": "2021-12-17T17:03:58.922Z"
   },
   {
    "duration": 22,
    "start_time": "2021-12-17T17:03:58.949Z"
   },
   {
    "duration": 50,
    "start_time": "2021-12-17T17:03:58.974Z"
   },
   {
    "duration": 412,
    "start_time": "2021-12-17T17:03:59.027Z"
   },
   {
    "duration": 32,
    "start_time": "2021-12-17T17:03:59.442Z"
   },
   {
    "duration": 440,
    "start_time": "2021-12-17T17:03:59.477Z"
   },
   {
    "duration": 29,
    "start_time": "2021-12-17T17:03:59.919Z"
   },
   {
    "duration": 50,
    "start_time": "2021-12-17T17:03:59.950Z"
   },
   {
    "duration": 9,
    "start_time": "2021-12-17T17:04:00.002Z"
   },
   {
    "duration": 35,
    "start_time": "2021-12-17T17:04:00.018Z"
   },
   {
    "duration": 4,
    "start_time": "2021-12-17T17:04:00.056Z"
   },
   {
    "duration": 14,
    "start_time": "2021-12-17T17:04:00.062Z"
   },
   {
    "duration": 42,
    "start_time": "2021-12-17T17:04:00.078Z"
   },
   {
    "duration": 1989,
    "start_time": "2021-12-17T17:04:00.123Z"
   },
   {
    "duration": 1052,
    "start_time": "2021-12-17T17:04:01.062Z"
   },
   {
    "duration": 1051,
    "start_time": "2021-12-17T17:04:01.064Z"
   },
   {
    "duration": 1051,
    "start_time": "2021-12-17T17:04:01.066Z"
   },
   {
    "duration": 1051,
    "start_time": "2021-12-17T17:04:01.067Z"
   },
   {
    "duration": 1051,
    "start_time": "2021-12-17T17:04:01.069Z"
   },
   {
    "duration": 1051,
    "start_time": "2021-12-17T17:04:01.070Z"
   },
   {
    "duration": 1052,
    "start_time": "2021-12-17T17:04:01.071Z"
   },
   {
    "duration": 1051,
    "start_time": "2021-12-17T17:04:01.073Z"
   },
   {
    "duration": 236,
    "start_time": "2021-12-17T17:04:40.593Z"
   },
   {
    "duration": 1516,
    "start_time": "2021-12-17T17:20:06.626Z"
   },
   {
    "duration": 915,
    "start_time": "2021-12-17T17:20:08.145Z"
   },
   {
    "duration": 8,
    "start_time": "2021-12-17T17:20:09.063Z"
   },
   {
    "duration": 5,
    "start_time": "2021-12-17T17:20:09.073Z"
   },
   {
    "duration": 12,
    "start_time": "2021-12-17T17:20:09.080Z"
   },
   {
    "duration": 312,
    "start_time": "2021-12-17T17:20:09.094Z"
   },
   {
    "duration": 305,
    "start_time": "2021-12-17T17:20:09.417Z"
   },
   {
    "duration": 6,
    "start_time": "2021-12-17T17:20:09.726Z"
   },
   {
    "duration": 4,
    "start_time": "2021-12-17T17:20:09.736Z"
   },
   {
    "duration": 39,
    "start_time": "2021-12-17T17:20:09.743Z"
   },
   {
    "duration": 11,
    "start_time": "2021-12-17T17:20:09.817Z"
   },
   {
    "duration": 87,
    "start_time": "2021-12-17T17:20:09.831Z"
   },
   {
    "duration": 1053,
    "start_time": "2021-12-17T17:20:08.868Z"
   },
   {
    "duration": 1053,
    "start_time": "2021-12-17T17:20:08.870Z"
   },
   {
    "duration": 1052,
    "start_time": "2021-12-17T17:20:08.872Z"
   },
   {
    "duration": 1052,
    "start_time": "2021-12-17T17:20:08.874Z"
   },
   {
    "duration": 1052,
    "start_time": "2021-12-17T17:20:08.876Z"
   },
   {
    "duration": 1029,
    "start_time": "2021-12-17T17:20:08.900Z"
   },
   {
    "duration": 1028,
    "start_time": "2021-12-17T17:20:08.903Z"
   },
   {
    "duration": 1027,
    "start_time": "2021-12-17T17:20:08.906Z"
   },
   {
    "duration": 1025,
    "start_time": "2021-12-17T17:20:08.909Z"
   },
   {
    "duration": 1024,
    "start_time": "2021-12-17T17:20:08.912Z"
   },
   {
    "duration": 1022,
    "start_time": "2021-12-17T17:20:08.915Z"
   },
   {
    "duration": 1022,
    "start_time": "2021-12-17T17:20:08.917Z"
   },
   {
    "duration": 1021,
    "start_time": "2021-12-17T17:20:08.919Z"
   },
   {
    "duration": 1020,
    "start_time": "2021-12-17T17:20:08.921Z"
   },
   {
    "duration": 1021,
    "start_time": "2021-12-17T17:20:08.922Z"
   },
   {
    "duration": 1020,
    "start_time": "2021-12-17T17:20:08.924Z"
   },
   {
    "duration": 1019,
    "start_time": "2021-12-17T17:20:08.927Z"
   },
   {
    "duration": 1020,
    "start_time": "2021-12-17T17:20:08.928Z"
   },
   {
    "duration": 1019,
    "start_time": "2021-12-17T17:20:08.930Z"
   },
   {
    "duration": 1005,
    "start_time": "2021-12-17T17:20:08.946Z"
   },
   {
    "duration": 1003,
    "start_time": "2021-12-17T17:20:08.949Z"
   },
   {
    "duration": 1004,
    "start_time": "2021-12-17T17:20:08.950Z"
   },
   {
    "duration": 1003,
    "start_time": "2021-12-17T17:20:08.952Z"
   },
   {
    "duration": 1003,
    "start_time": "2021-12-17T17:20:08.954Z"
   },
   {
    "duration": 997,
    "start_time": "2021-12-17T17:20:08.961Z"
   },
   {
    "duration": 996,
    "start_time": "2021-12-17T17:20:08.964Z"
   },
   {
    "duration": 996,
    "start_time": "2021-12-17T17:20:08.965Z"
   },
   {
    "duration": 995,
    "start_time": "2021-12-17T17:20:08.967Z"
   },
   {
    "duration": 990,
    "start_time": "2021-12-17T17:20:08.973Z"
   },
   {
    "duration": 1042,
    "start_time": "2021-12-17T17:20:08.975Z"
   },
   {
    "duration": 1043,
    "start_time": "2021-12-17T17:20:08.976Z"
   },
   {
    "duration": 1042,
    "start_time": "2021-12-17T17:20:08.978Z"
   },
   {
    "duration": 1042,
    "start_time": "2021-12-17T17:20:08.980Z"
   },
   {
    "duration": 1035,
    "start_time": "2021-12-17T17:20:08.988Z"
   },
   {
    "duration": 1035,
    "start_time": "2021-12-17T17:20:08.990Z"
   },
   {
    "duration": 1036,
    "start_time": "2021-12-17T17:20:08.991Z"
   },
   {
    "duration": 1034,
    "start_time": "2021-12-17T17:20:08.994Z"
   },
   {
    "duration": 1032,
    "start_time": "2021-12-17T17:20:08.998Z"
   },
   {
    "duration": 1032,
    "start_time": "2021-12-17T17:20:08.999Z"
   },
   {
    "duration": 1031,
    "start_time": "2021-12-17T17:20:09.002Z"
   },
   {
    "duration": 1031,
    "start_time": "2021-12-17T17:20:09.003Z"
   },
   {
    "duration": 1549,
    "start_time": "2021-12-17T17:20:41.188Z"
   },
   {
    "duration": 997,
    "start_time": "2021-12-17T17:20:42.739Z"
   },
   {
    "duration": 8,
    "start_time": "2021-12-17T17:20:43.739Z"
   },
   {
    "duration": 5,
    "start_time": "2021-12-17T17:20:43.750Z"
   },
   {
    "duration": 14,
    "start_time": "2021-12-17T17:20:43.758Z"
   },
   {
    "duration": 307,
    "start_time": "2021-12-17T17:20:43.774Z"
   },
   {
    "duration": 295,
    "start_time": "2021-12-17T17:20:44.083Z"
   },
   {
    "duration": 6,
    "start_time": "2021-12-17T17:20:44.380Z"
   },
   {
    "duration": 27,
    "start_time": "2021-12-17T17:20:44.390Z"
   },
   {
    "duration": 38,
    "start_time": "2021-12-17T17:20:44.420Z"
   },
   {
    "duration": 14,
    "start_time": "2021-12-17T17:20:44.461Z"
   },
   {
    "duration": 11,
    "start_time": "2021-12-17T17:20:44.477Z"
   },
   {
    "duration": 28,
    "start_time": "2021-12-17T17:20:44.490Z"
   },
   {
    "duration": 6,
    "start_time": "2021-12-17T17:20:44.520Z"
   },
   {
    "duration": 6,
    "start_time": "2021-12-17T17:20:44.528Z"
   },
   {
    "duration": 194,
    "start_time": "2021-12-17T17:20:44.536Z"
   },
   {
    "duration": 570,
    "start_time": "2021-12-17T17:20:44.732Z"
   },
   {
    "duration": 92,
    "start_time": "2021-12-17T17:20:45.305Z"
   },
   {
    "duration": 61,
    "start_time": "2021-12-17T17:20:45.400Z"
   },
   {
    "duration": 27,
    "start_time": "2021-12-17T17:20:45.464Z"
   },
   {
    "duration": 4,
    "start_time": "2021-12-17T17:20:45.518Z"
   },
   {
    "duration": 29,
    "start_time": "2021-12-17T17:20:45.524Z"
   },
   {
    "duration": 16,
    "start_time": "2021-12-17T17:20:45.556Z"
   },
   {
    "duration": 21,
    "start_time": "2021-12-17T17:20:45.574Z"
   },
   {
    "duration": 514,
    "start_time": "2021-12-17T17:20:45.597Z"
   },
   {
    "duration": 420,
    "start_time": "2021-12-17T17:20:46.113Z"
   },
   {
    "duration": 425,
    "start_time": "2021-12-17T17:20:46.539Z"
   },
   {
    "duration": 374,
    "start_time": "2021-12-17T17:20:46.967Z"
   },
   {
    "duration": 390,
    "start_time": "2021-12-17T17:20:47.344Z"
   },
   {
    "duration": 8,
    "start_time": "2021-12-17T17:20:47.737Z"
   },
   {
    "duration": 23,
    "start_time": "2021-12-17T17:20:47.747Z"
   },
   {
    "duration": 45,
    "start_time": "2021-12-17T17:20:47.773Z"
   },
   {
    "duration": 21,
    "start_time": "2021-12-17T17:20:47.820Z"
   },
   {
    "duration": 437,
    "start_time": "2021-12-17T17:20:47.844Z"
   },
   {
    "duration": 44,
    "start_time": "2021-12-17T17:20:48.284Z"
   },
   {
    "duration": 425,
    "start_time": "2021-12-17T17:20:48.331Z"
   },
   {
    "duration": 28,
    "start_time": "2021-12-17T17:20:48.759Z"
   },
   {
    "duration": 51,
    "start_time": "2021-12-17T17:20:48.790Z"
   },
   {
    "duration": 4,
    "start_time": "2021-12-17T17:20:48.844Z"
   },
   {
    "duration": 25,
    "start_time": "2021-12-17T17:20:48.850Z"
   },
   {
    "duration": 4,
    "start_time": "2021-12-17T17:20:48.878Z"
   },
   {
    "duration": 33,
    "start_time": "2021-12-17T17:20:48.884Z"
   },
   {
    "duration": 19,
    "start_time": "2021-12-17T17:20:48.919Z"
   },
   {
    "duration": 26,
    "start_time": "2021-12-17T17:20:48.940Z"
   },
   {
    "duration": 44,
    "start_time": "2021-12-17T17:20:48.969Z"
   },
   {
    "duration": 3246,
    "start_time": "2021-12-17T17:20:49.015Z"
   },
   {
    "duration": 861,
    "start_time": "2021-12-17T17:20:52.264Z"
   },
   {
    "duration": 5912,
    "start_time": "2021-12-17T17:20:53.218Z"
   },
   {
    "duration": 5,
    "start_time": "2021-12-17T17:20:59.133Z"
   },
   {
    "duration": 12,
    "start_time": "2021-12-17T17:20:59.141Z"
   },
   {
    "duration": 6337,
    "start_time": "2021-12-17T17:20:59.155Z"
   },
   {
    "duration": 24,
    "start_time": "2021-12-17T17:21:05.494Z"
   },
   {
    "duration": 1527,
    "start_time": "2021-12-17T17:23:13.301Z"
   },
   {
    "duration": 1005,
    "start_time": "2021-12-17T17:23:14.831Z"
   },
   {
    "duration": 8,
    "start_time": "2021-12-17T17:23:15.839Z"
   },
   {
    "duration": 5,
    "start_time": "2021-12-17T17:23:15.850Z"
   },
   {
    "duration": 18,
    "start_time": "2021-12-17T17:23:15.858Z"
   },
   {
    "duration": 319,
    "start_time": "2021-12-17T17:23:15.879Z"
   },
   {
    "duration": 294,
    "start_time": "2021-12-17T17:23:16.201Z"
   },
   {
    "duration": 20,
    "start_time": "2021-12-17T17:23:16.497Z"
   },
   {
    "duration": 5,
    "start_time": "2021-12-17T17:23:16.522Z"
   },
   {
    "duration": 38,
    "start_time": "2021-12-17T17:23:16.530Z"
   },
   {
    "duration": 11,
    "start_time": "2021-12-17T17:23:16.570Z"
   },
   {
    "duration": 39,
    "start_time": "2021-12-17T17:23:16.583Z"
   },
   {
    "duration": 5,
    "start_time": "2021-12-17T17:23:16.624Z"
   },
   {
    "duration": 29,
    "start_time": "2021-12-17T17:23:16.631Z"
   },
   {
    "duration": 58,
    "start_time": "2021-12-17T17:23:16.662Z"
   },
   {
    "duration": 4,
    "start_time": "2021-12-17T17:23:16.723Z"
   },
   {
    "duration": 9,
    "start_time": "2021-12-17T17:23:16.729Z"
   },
   {
    "duration": 28,
    "start_time": "2021-12-17T17:23:16.740Z"
   },
   {
    "duration": 64,
    "start_time": "2021-12-17T17:23:16.771Z"
   },
   {
    "duration": 4,
    "start_time": "2021-12-17T17:23:16.838Z"
   },
   {
    "duration": 184,
    "start_time": "2021-12-17T17:23:16.845Z"
   },
   {
    "duration": 594,
    "start_time": "2021-12-17T17:23:17.031Z"
   },
   {
    "duration": 106,
    "start_time": "2021-12-17T17:23:17.628Z"
   },
   {
    "duration": 48,
    "start_time": "2021-12-17T17:23:17.737Z"
   },
   {
    "duration": 46,
    "start_time": "2021-12-17T17:23:17.787Z"
   },
   {
    "duration": 6,
    "start_time": "2021-12-17T17:23:17.835Z"
   },
   {
    "duration": 13,
    "start_time": "2021-12-17T17:23:17.848Z"
   },
   {
    "duration": 3,
    "start_time": "2021-12-17T17:23:17.865Z"
   },
   {
    "duration": 6,
    "start_time": "2021-12-17T17:23:17.870Z"
   },
   {
    "duration": 607,
    "start_time": "2021-12-17T17:23:17.918Z"
   },
   {
    "duration": 517,
    "start_time": "2021-12-17T17:23:18.528Z"
   },
   {
    "duration": 420,
    "start_time": "2021-12-17T17:23:19.048Z"
   },
   {
    "duration": 372,
    "start_time": "2021-12-17T17:23:19.471Z"
   },
   {
    "duration": 398,
    "start_time": "2021-12-17T17:23:19.846Z"
   },
   {
    "duration": 10,
    "start_time": "2021-12-17T17:23:20.248Z"
   },
   {
    "duration": 23,
    "start_time": "2021-12-17T17:23:20.260Z"
   },
   {
    "duration": 52,
    "start_time": "2021-12-17T17:23:20.286Z"
   },
   {
    "duration": 22,
    "start_time": "2021-12-17T17:23:20.341Z"
   },
   {
    "duration": 430,
    "start_time": "2021-12-17T17:23:20.365Z"
   },
   {
    "duration": 40,
    "start_time": "2021-12-17T17:23:20.798Z"
   },
   {
    "duration": 427,
    "start_time": "2021-12-17T17:23:20.840Z"
   },
   {
    "duration": 48,
    "start_time": "2021-12-17T17:23:21.269Z"
   },
   {
    "duration": 29,
    "start_time": "2021-12-17T17:23:21.320Z"
   },
   {
    "duration": 4,
    "start_time": "2021-12-17T17:23:21.352Z"
   },
   {
    "duration": 26,
    "start_time": "2021-12-17T17:23:21.358Z"
   },
   {
    "duration": 5,
    "start_time": "2021-12-17T17:23:21.386Z"
   },
   {
    "duration": 5,
    "start_time": "2021-12-17T17:23:21.418Z"
   },
   {
    "duration": 8,
    "start_time": "2021-12-17T17:23:21.425Z"
   },
   {
    "duration": 10,
    "start_time": "2021-12-17T17:23:21.435Z"
   },
   {
    "duration": 25,
    "start_time": "2021-12-17T17:23:21.447Z"
   },
   {
    "duration": 3155,
    "start_time": "2021-12-17T17:23:21.475Z"
   },
   {
    "duration": 1285,
    "start_time": "2021-12-17T17:23:24.632Z"
   },
   {
    "duration": 6364,
    "start_time": "2021-12-17T17:23:25.921Z"
   },
   {
    "duration": 5,
    "start_time": "2021-12-17T17:23:32.287Z"
   },
   {
    "duration": 29,
    "start_time": "2021-12-17T17:23:32.295Z"
   },
   {
    "duration": 6116,
    "start_time": "2021-12-17T17:23:32.327Z"
   },
   {
    "duration": 12,
    "start_time": "2021-12-17T17:23:38.445Z"
   },
   {
    "duration": 1521,
    "start_time": "2021-12-17T17:24:10.401Z"
   },
   {
    "duration": 934,
    "start_time": "2021-12-17T17:24:11.925Z"
   },
   {
    "duration": 10,
    "start_time": "2021-12-17T17:24:12.862Z"
   },
   {
    "duration": 6,
    "start_time": "2021-12-17T17:24:12.877Z"
   },
   {
    "duration": 33,
    "start_time": "2021-12-17T17:24:12.886Z"
   },
   {
    "duration": 444,
    "start_time": "2021-12-17T17:24:12.922Z"
   },
   {
    "duration": 533,
    "start_time": "2021-12-17T17:24:13.369Z"
   },
   {
    "duration": 14,
    "start_time": "2021-12-17T17:24:13.906Z"
   },
   {
    "duration": 7,
    "start_time": "2021-12-17T17:24:13.925Z"
   },
   {
    "duration": 37,
    "start_time": "2021-12-17T17:24:13.935Z"
   },
   {
    "duration": 47,
    "start_time": "2021-12-17T17:24:13.975Z"
   },
   {
    "duration": 18,
    "start_time": "2021-12-17T17:24:14.025Z"
   },
   {
    "duration": 5,
    "start_time": "2021-12-17T17:24:14.045Z"
   },
   {
    "duration": 31,
    "start_time": "2021-12-17T17:24:14.053Z"
   },
   {
    "duration": 59,
    "start_time": "2021-12-17T17:24:14.087Z"
   },
   {
    "duration": 22,
    "start_time": "2021-12-17T17:24:14.149Z"
   },
   {
    "duration": 5,
    "start_time": "2021-12-17T17:24:14.174Z"
   },
   {
    "duration": 61,
    "start_time": "2021-12-17T17:24:14.181Z"
   },
   {
    "duration": 30,
    "start_time": "2021-12-17T17:24:14.244Z"
   },
   {
    "duration": 5,
    "start_time": "2021-12-17T17:24:14.277Z"
   },
   {
    "duration": 208,
    "start_time": "2021-12-17T17:24:14.284Z"
   },
   {
    "duration": 604,
    "start_time": "2021-12-17T17:24:14.495Z"
   },
   {
    "duration": 87,
    "start_time": "2021-12-17T17:24:15.108Z"
   },
   {
    "duration": 67,
    "start_time": "2021-12-17T17:24:15.199Z"
   },
   {
    "duration": 49,
    "start_time": "2021-12-17T17:24:15.269Z"
   },
   {
    "duration": 4,
    "start_time": "2021-12-17T17:24:15.321Z"
   },
   {
    "duration": 18,
    "start_time": "2021-12-17T17:24:15.328Z"
   },
   {
    "duration": 3,
    "start_time": "2021-12-17T17:24:15.349Z"
   },
   {
    "duration": 6,
    "start_time": "2021-12-17T17:24:15.354Z"
   },
   {
    "duration": 547,
    "start_time": "2021-12-17T17:24:15.363Z"
   },
   {
    "duration": 416,
    "start_time": "2021-12-17T17:24:15.918Z"
   },
   {
    "duration": 420,
    "start_time": "2021-12-17T17:24:16.336Z"
   },
   {
    "duration": 382,
    "start_time": "2021-12-17T17:24:16.759Z"
   },
   {
    "duration": 377,
    "start_time": "2021-12-17T17:24:17.143Z"
   },
   {
    "duration": 9,
    "start_time": "2021-12-17T17:24:17.522Z"
   },
   {
    "duration": 23,
    "start_time": "2021-12-17T17:24:17.534Z"
   },
   {
    "duration": 21,
    "start_time": "2021-12-17T17:24:17.559Z"
   },
   {
    "duration": 54,
    "start_time": "2021-12-17T17:24:17.583Z"
   },
   {
    "duration": 418,
    "start_time": "2021-12-17T17:24:17.639Z"
   },
   {
    "duration": 33,
    "start_time": "2021-12-17T17:24:18.059Z"
   },
   {
    "duration": 453,
    "start_time": "2021-12-17T17:24:18.094Z"
   },
   {
    "duration": 31,
    "start_time": "2021-12-17T17:24:18.549Z"
   },
   {
    "duration": 54,
    "start_time": "2021-12-17T17:24:18.583Z"
   },
   {
    "duration": 3,
    "start_time": "2021-12-17T17:24:18.640Z"
   },
   {
    "duration": 23,
    "start_time": "2021-12-17T17:24:18.645Z"
   },
   {
    "duration": 6,
    "start_time": "2021-12-17T17:24:18.670Z"
   },
   {
    "duration": 38,
    "start_time": "2021-12-17T17:24:18.680Z"
   },
   {
    "duration": 10,
    "start_time": "2021-12-17T17:24:18.721Z"
   },
   {
    "duration": 14,
    "start_time": "2021-12-17T17:24:18.733Z"
   },
   {
    "duration": 38,
    "start_time": "2021-12-17T17:24:18.750Z"
   },
   {
    "duration": 3022,
    "start_time": "2021-12-17T17:24:18.790Z"
   },
   {
    "duration": 1007,
    "start_time": "2021-12-17T17:24:21.817Z"
   },
   {
    "duration": 6413,
    "start_time": "2021-12-17T17:24:22.827Z"
   },
   {
    "duration": 7,
    "start_time": "2021-12-17T17:24:29.243Z"
   },
   {
    "duration": 20,
    "start_time": "2021-12-17T17:24:29.253Z"
   },
   {
    "duration": 6283,
    "start_time": "2021-12-17T17:24:29.276Z"
   },
   {
    "duration": 12,
    "start_time": "2021-12-17T17:24:35.562Z"
   },
   {
    "duration": 1484,
    "start_time": "2021-12-17T18:11:55.339Z"
   },
   {
    "duration": 883,
    "start_time": "2021-12-17T18:11:56.826Z"
   },
   {
    "duration": 9,
    "start_time": "2021-12-17T18:11:57.712Z"
   },
   {
    "duration": 4,
    "start_time": "2021-12-17T18:11:57.724Z"
   },
   {
    "duration": 11,
    "start_time": "2021-12-17T18:11:57.730Z"
   },
   {
    "duration": 323,
    "start_time": "2021-12-17T18:11:57.743Z"
   },
   {
    "duration": 311,
    "start_time": "2021-12-17T18:11:58.069Z"
   },
   {
    "duration": 8,
    "start_time": "2021-12-17T18:11:58.383Z"
   },
   {
    "duration": 5,
    "start_time": "2021-12-17T18:11:58.421Z"
   },
   {
    "duration": 37,
    "start_time": "2021-12-17T18:11:58.430Z"
   },
   {
    "duration": 47,
    "start_time": "2021-12-17T18:11:58.470Z"
   },
   {
    "duration": 9,
    "start_time": "2021-12-17T18:11:58.519Z"
   },
   {
    "duration": 5,
    "start_time": "2021-12-17T18:11:58.531Z"
   },
   {
    "duration": 22,
    "start_time": "2021-12-17T18:11:58.539Z"
   },
   {
    "duration": 4,
    "start_time": "2021-12-17T18:11:58.563Z"
   },
   {
    "duration": 6,
    "start_time": "2021-12-17T18:11:58.569Z"
   },
   {
    "duration": 169,
    "start_time": "2021-12-17T18:11:58.617Z"
   },
   {
    "duration": 592,
    "start_time": "2021-12-17T18:11:58.789Z"
   },
   {
    "duration": 93,
    "start_time": "2021-12-17T18:11:59.383Z"
   },
   {
    "duration": 65,
    "start_time": "2021-12-17T18:11:59.478Z"
   },
   {
    "duration": 4,
    "start_time": "2021-12-17T18:11:59.545Z"
   },
   {
    "duration": 17,
    "start_time": "2021-12-17T18:11:59.552Z"
   },
   {
    "duration": 3,
    "start_time": "2021-12-17T18:11:59.572Z"
   },
   {
    "duration": 39,
    "start_time": "2021-12-17T18:11:59.578Z"
   },
   {
    "duration": 518,
    "start_time": "2021-12-17T18:11:59.620Z"
   },
   {
    "duration": 446,
    "start_time": "2021-12-17T18:12:00.141Z"
   },
   {
    "duration": 555,
    "start_time": "2021-12-17T18:12:00.593Z"
   },
   {
    "duration": 391,
    "start_time": "2021-12-17T18:12:01.153Z"
   },
   {
    "duration": 407,
    "start_time": "2021-12-17T18:12:01.546Z"
   },
   {
    "duration": 8,
    "start_time": "2021-12-17T18:12:01.955Z"
   },
   {
    "duration": 25,
    "start_time": "2021-12-17T18:12:01.966Z"
   },
   {
    "duration": 43,
    "start_time": "2021-12-17T18:12:01.993Z"
   },
   {
    "duration": 22,
    "start_time": "2021-12-17T18:12:02.039Z"
   },
   {
    "duration": 420,
    "start_time": "2021-12-17T18:12:02.063Z"
   },
   {
    "duration": 44,
    "start_time": "2021-12-17T18:12:02.486Z"
   },
   {
    "duration": 428,
    "start_time": "2021-12-17T18:12:02.532Z"
   },
   {
    "duration": 32,
    "start_time": "2021-12-17T18:12:02.962Z"
   },
   {
    "duration": 42,
    "start_time": "2021-12-17T18:12:02.997Z"
   },
   {
    "duration": 3,
    "start_time": "2021-12-17T18:12:03.042Z"
   },
   {
    "duration": 22,
    "start_time": "2021-12-17T18:12:03.047Z"
   },
   {
    "duration": 4,
    "start_time": "2021-12-17T18:12:03.071Z"
   },
   {
    "duration": 40,
    "start_time": "2021-12-17T18:12:03.077Z"
   },
   {
    "duration": 4,
    "start_time": "2021-12-17T18:12:03.120Z"
   },
   {
    "duration": 9,
    "start_time": "2021-12-17T18:12:03.126Z"
   },
   {
    "duration": 28,
    "start_time": "2021-12-17T18:12:03.138Z"
   },
   {
    "duration": 3203,
    "start_time": "2021-12-17T18:12:03.169Z"
   },
   {
    "duration": 944,
    "start_time": "2021-12-17T18:12:06.374Z"
   },
   {
    "duration": 6199,
    "start_time": "2021-12-17T18:12:07.323Z"
   },
   {
    "duration": 7,
    "start_time": "2021-12-17T18:12:13.525Z"
   },
   {
    "duration": 15,
    "start_time": "2021-12-17T18:12:13.535Z"
   },
   {
    "duration": 6181,
    "start_time": "2021-12-17T18:12:13.553Z"
   },
   {
    "duration": 12,
    "start_time": "2021-12-17T18:12:19.737Z"
   },
   {
    "duration": 2058,
    "start_time": "2021-12-17T18:44:08.479Z"
   },
   {
    "duration": 1002,
    "start_time": "2021-12-17T18:44:10.539Z"
   },
   {
    "duration": 9,
    "start_time": "2021-12-17T18:44:11.544Z"
   },
   {
    "duration": 5,
    "start_time": "2021-12-17T18:44:11.555Z"
   },
   {
    "duration": 19,
    "start_time": "2021-12-17T18:44:11.562Z"
   },
   {
    "duration": 541,
    "start_time": "2021-12-17T18:44:11.584Z"
   },
   {
    "duration": 390,
    "start_time": "2021-12-17T18:44:12.127Z"
   },
   {
    "duration": 6,
    "start_time": "2021-12-17T18:44:12.519Z"
   },
   {
    "duration": 5,
    "start_time": "2021-12-17T18:44:12.529Z"
   },
   {
    "duration": 37,
    "start_time": "2021-12-17T18:44:12.536Z"
   },
   {
    "duration": 12,
    "start_time": "2021-12-17T18:44:12.616Z"
   },
   {
    "duration": 15,
    "start_time": "2021-12-17T18:44:12.630Z"
   },
   {
    "duration": 5,
    "start_time": "2021-12-17T18:44:12.648Z"
   },
   {
    "duration": 22,
    "start_time": "2021-12-17T18:44:12.655Z"
   },
   {
    "duration": 4,
    "start_time": "2021-12-17T18:44:12.680Z"
   },
   {
    "duration": 7,
    "start_time": "2021-12-17T18:44:12.687Z"
   },
   {
    "duration": 172,
    "start_time": "2021-12-17T18:44:12.697Z"
   },
   {
    "duration": 736,
    "start_time": "2021-12-17T18:44:12.871Z"
   },
   {
    "duration": 81,
    "start_time": "2021-12-17T18:44:13.610Z"
   },
   {
    "duration": 51,
    "start_time": "2021-12-17T18:44:13.694Z"
   },
   {
    "duration": 4,
    "start_time": "2021-12-17T18:44:13.748Z"
   },
   {
    "duration": 68,
    "start_time": "2021-12-17T18:44:13.755Z"
   },
   {
    "duration": 4,
    "start_time": "2021-12-17T18:44:13.826Z"
   },
   {
    "duration": 10,
    "start_time": "2021-12-17T18:44:13.833Z"
   },
   {
    "duration": 911,
    "start_time": "2021-12-17T18:44:13.846Z"
   },
   {
    "duration": 460,
    "start_time": "2021-12-17T18:44:14.759Z"
   },
   {
    "duration": 425,
    "start_time": "2021-12-17T18:44:15.224Z"
   },
   {
    "duration": 596,
    "start_time": "2021-12-17T18:44:15.652Z"
   },
   {
    "duration": 543,
    "start_time": "2021-12-17T18:44:16.250Z"
   },
   {
    "duration": 9,
    "start_time": "2021-12-17T18:44:16.795Z"
   },
   {
    "duration": 28,
    "start_time": "2021-12-17T18:44:16.806Z"
   },
   {
    "duration": 21,
    "start_time": "2021-12-17T18:44:16.836Z"
   },
   {
    "duration": 22,
    "start_time": "2021-12-17T18:44:16.860Z"
   },
   {
    "duration": 544,
    "start_time": "2021-12-17T18:44:16.884Z"
   },
   {
    "duration": 33,
    "start_time": "2021-12-17T18:44:17.430Z"
   },
   {
    "duration": 659,
    "start_time": "2021-12-17T18:44:17.466Z"
   },
   {
    "duration": 3,
    "start_time": "2021-12-17T18:44:18.128Z"
   },
   {
    "duration": 6,
    "start_time": "2021-12-17T18:44:18.133Z"
   },
   {
    "duration": 5,
    "start_time": "2021-12-17T18:44:18.141Z"
   },
   {
    "duration": 11,
    "start_time": "2021-12-17T18:44:18.148Z"
   },
   {
    "duration": 10,
    "start_time": "2021-12-17T18:44:18.161Z"
   },
   {
    "duration": 28,
    "start_time": "2021-12-17T18:44:18.173Z"
   },
   {
    "duration": 3759,
    "start_time": "2021-12-17T18:44:18.204Z"
   },
   {
    "duration": 806,
    "start_time": "2021-12-17T18:44:22.019Z"
   },
   {
    "duration": 7343,
    "start_time": "2021-12-17T18:44:22.919Z"
   },
   {
    "duration": 6,
    "start_time": "2021-12-17T18:44:30.265Z"
   },
   {
    "duration": 25,
    "start_time": "2021-12-17T18:44:30.273Z"
   },
   {
    "duration": 7966,
    "start_time": "2021-12-17T18:44:30.300Z"
   },
   {
    "duration": 12,
    "start_time": "2021-12-17T18:44:38.269Z"
   },
   {
    "duration": 1595,
    "start_time": "2021-12-17T18:47:10.952Z"
   },
   {
    "duration": 952,
    "start_time": "2021-12-17T18:47:12.549Z"
   },
   {
    "duration": 19,
    "start_time": "2021-12-17T18:47:13.505Z"
   },
   {
    "duration": 4,
    "start_time": "2021-12-17T18:47:13.527Z"
   },
   {
    "duration": 12,
    "start_time": "2021-12-17T18:47:13.533Z"
   },
   {
    "duration": 321,
    "start_time": "2021-12-17T18:47:13.548Z"
   },
   {
    "duration": 314,
    "start_time": "2021-12-17T18:47:13.872Z"
   },
   {
    "duration": 6,
    "start_time": "2021-12-17T18:47:14.190Z"
   },
   {
    "duration": 9,
    "start_time": "2021-12-17T18:47:14.218Z"
   },
   {
    "duration": 39,
    "start_time": "2021-12-17T18:47:14.232Z"
   },
   {
    "duration": 11,
    "start_time": "2021-12-17T18:47:14.273Z"
   },
   {
    "duration": 37,
    "start_time": "2021-12-17T18:47:14.286Z"
   },
   {
    "duration": 5,
    "start_time": "2021-12-17T18:47:14.326Z"
   },
   {
    "duration": 21,
    "start_time": "2021-12-17T18:47:14.333Z"
   },
   {
    "duration": 5,
    "start_time": "2021-12-17T18:47:14.356Z"
   },
   {
    "duration": 6,
    "start_time": "2021-12-17T18:47:14.363Z"
   },
   {
    "duration": 208,
    "start_time": "2021-12-17T18:47:14.372Z"
   },
   {
    "duration": 606,
    "start_time": "2021-12-17T18:47:14.583Z"
   },
   {
    "duration": 97,
    "start_time": "2021-12-17T18:47:15.191Z"
   },
   {
    "duration": 68,
    "start_time": "2021-12-17T18:47:15.290Z"
   },
   {
    "duration": 4,
    "start_time": "2021-12-17T18:47:15.361Z"
   },
   {
    "duration": 31,
    "start_time": "2021-12-17T18:47:15.368Z"
   },
   {
    "duration": 14,
    "start_time": "2021-12-17T18:47:15.405Z"
   },
   {
    "duration": 14,
    "start_time": "2021-12-17T18:47:15.423Z"
   },
   {
    "duration": 531,
    "start_time": "2021-12-17T18:47:15.440Z"
   },
   {
    "duration": 451,
    "start_time": "2021-12-17T18:47:15.974Z"
   },
   {
    "duration": 436,
    "start_time": "2021-12-17T18:47:16.434Z"
   },
   {
    "duration": 396,
    "start_time": "2021-12-17T18:47:16.873Z"
   },
   {
    "duration": 394,
    "start_time": "2021-12-17T18:47:17.272Z"
   },
   {
    "duration": 9,
    "start_time": "2021-12-17T18:47:17.668Z"
   },
   {
    "duration": 52,
    "start_time": "2021-12-17T18:47:17.679Z"
   },
   {
    "duration": 24,
    "start_time": "2021-12-17T18:47:17.733Z"
   },
   {
    "duration": 24,
    "start_time": "2021-12-17T18:47:17.760Z"
   },
   {
    "duration": 449,
    "start_time": "2021-12-17T18:47:17.787Z"
   },
   {
    "duration": 34,
    "start_time": "2021-12-17T18:47:18.238Z"
   },
   {
    "duration": 458,
    "start_time": "2021-12-17T18:47:18.274Z"
   },
   {
    "duration": 6568,
    "start_time": "2021-12-17T18:47:18.735Z"
   },
   {
    "duration": -15,
    "start_time": "2021-12-17T18:47:25.320Z"
   },
   {
    "duration": -19,
    "start_time": "2021-12-17T18:47:25.326Z"
   },
   {
    "duration": -21,
    "start_time": "2021-12-17T18:47:25.329Z"
   },
   {
    "duration": -20,
    "start_time": "2021-12-17T18:47:25.330Z"
   },
   {
    "duration": -25,
    "start_time": "2021-12-17T18:47:25.336Z"
   },
   {
    "duration": -25,
    "start_time": "2021-12-17T18:47:25.337Z"
   },
   {
    "duration": -26,
    "start_time": "2021-12-17T18:47:25.339Z"
   },
   {
    "duration": -26,
    "start_time": "2021-12-17T18:47:25.340Z"
   },
   {
    "duration": -27,
    "start_time": "2021-12-17T18:47:25.342Z"
   },
   {
    "duration": -26,
    "start_time": "2021-12-17T18:47:25.343Z"
   },
   {
    "duration": -27,
    "start_time": "2021-12-17T18:47:25.345Z"
   },
   {
    "duration": -33,
    "start_time": "2021-12-17T18:47:25.353Z"
   },
   {
    "duration": 1586,
    "start_time": "2021-12-17T18:48:42.679Z"
   },
   {
    "duration": 945,
    "start_time": "2021-12-17T18:48:44.268Z"
   },
   {
    "duration": 11,
    "start_time": "2021-12-17T18:48:45.215Z"
   },
   {
    "duration": 6,
    "start_time": "2021-12-17T18:48:45.229Z"
   },
   {
    "duration": 14,
    "start_time": "2021-12-17T18:48:45.238Z"
   },
   {
    "duration": 348,
    "start_time": "2021-12-17T18:48:45.254Z"
   },
   {
    "duration": 303,
    "start_time": "2021-12-17T18:48:45.604Z"
   },
   {
    "duration": 8,
    "start_time": "2021-12-17T18:48:45.918Z"
   },
   {
    "duration": 9,
    "start_time": "2021-12-17T18:48:45.932Z"
   },
   {
    "duration": 75,
    "start_time": "2021-12-17T18:48:45.945Z"
   },
   {
    "duration": 12,
    "start_time": "2021-12-17T18:48:46.023Z"
   },
   {
    "duration": 10,
    "start_time": "2021-12-17T18:48:46.038Z"
   },
   {
    "duration": 5,
    "start_time": "2021-12-17T18:48:46.050Z"
   },
   {
    "duration": 23,
    "start_time": "2021-12-17T18:48:46.057Z"
   },
   {
    "duration": 40,
    "start_time": "2021-12-17T18:48:46.082Z"
   },
   {
    "duration": 6,
    "start_time": "2021-12-17T18:48:46.125Z"
   },
   {
    "duration": 195,
    "start_time": "2021-12-17T18:48:46.134Z"
   },
   {
    "duration": 678,
    "start_time": "2021-12-17T18:48:46.331Z"
   },
   {
    "duration": 109,
    "start_time": "2021-12-17T18:48:47.012Z"
   },
   {
    "duration": 52,
    "start_time": "2021-12-17T18:48:47.126Z"
   },
   {
    "duration": 5,
    "start_time": "2021-12-17T18:48:47.181Z"
   },
   {
    "duration": 48,
    "start_time": "2021-12-17T18:48:47.189Z"
   },
   {
    "duration": 3,
    "start_time": "2021-12-17T18:48:47.239Z"
   },
   {
    "duration": 7,
    "start_time": "2021-12-17T18:48:47.245Z"
   },
   {
    "duration": 551,
    "start_time": "2021-12-17T18:48:47.255Z"
   },
   {
    "duration": 431,
    "start_time": "2021-12-17T18:48:47.809Z"
   },
   {
    "duration": 495,
    "start_time": "2021-12-17T18:48:48.249Z"
   },
   {
    "duration": 552,
    "start_time": "2021-12-17T18:48:48.747Z"
   },
   {
    "duration": 618,
    "start_time": "2021-12-17T18:48:49.302Z"
   },
   {
    "duration": 13,
    "start_time": "2021-12-17T18:48:49.923Z"
   },
   {
    "duration": 22,
    "start_time": "2021-12-17T18:48:49.939Z"
   },
   {
    "duration": 26,
    "start_time": "2021-12-17T18:48:49.964Z"
   },
   {
    "duration": 49,
    "start_time": "2021-12-17T18:48:49.994Z"
   },
   {
    "duration": 655,
    "start_time": "2021-12-17T18:48:50.046Z"
   },
   {
    "duration": 43,
    "start_time": "2021-12-17T18:48:50.704Z"
   },
   {
    "duration": 448,
    "start_time": "2021-12-17T18:48:50.749Z"
   },
   {
    "duration": 5,
    "start_time": "2021-12-17T18:48:51.199Z"
   },
   {
    "duration": 7,
    "start_time": "2021-12-17T18:48:51.217Z"
   },
   {
    "duration": 6,
    "start_time": "2021-12-17T18:48:51.227Z"
   },
   {
    "duration": 10,
    "start_time": "2021-12-17T18:48:51.239Z"
   },
   {
    "duration": 26,
    "start_time": "2021-12-17T18:48:51.252Z"
   },
   {
    "duration": 3171,
    "start_time": "2021-12-17T18:48:51.280Z"
   },
   {
    "duration": 1577,
    "start_time": "2021-12-17T18:48:54.453Z"
   },
   {
    "duration": 6756,
    "start_time": "2021-12-17T18:48:56.034Z"
   },
   {
    "duration": 6,
    "start_time": "2021-12-17T18:49:02.792Z"
   },
   {
    "duration": 27,
    "start_time": "2021-12-17T18:49:02.801Z"
   },
   {
    "duration": 7127,
    "start_time": "2021-12-17T18:49:02.833Z"
   },
   {
    "duration": 11,
    "start_time": "2021-12-17T18:49:09.962Z"
   },
   {
    "duration": 1660,
    "start_time": "2021-12-17T18:51:01.825Z"
   },
   {
    "duration": 943,
    "start_time": "2021-12-17T18:51:03.487Z"
   },
   {
    "duration": 8,
    "start_time": "2021-12-17T18:51:04.433Z"
   },
   {
    "duration": 17,
    "start_time": "2021-12-17T18:51:04.444Z"
   },
   {
    "duration": 14,
    "start_time": "2021-12-17T18:51:04.463Z"
   },
   {
    "duration": 304,
    "start_time": "2021-12-17T18:51:04.479Z"
   },
   {
    "duration": 317,
    "start_time": "2021-12-17T18:51:04.785Z"
   },
   {
    "duration": 19,
    "start_time": "2021-12-17T18:51:05.105Z"
   },
   {
    "duration": 14,
    "start_time": "2021-12-17T18:51:05.128Z"
   },
   {
    "duration": 43,
    "start_time": "2021-12-17T18:51:05.145Z"
   },
   {
    "duration": 37,
    "start_time": "2021-12-17T18:51:05.191Z"
   },
   {
    "duration": 7,
    "start_time": "2021-12-17T18:51:05.231Z"
   },
   {
    "duration": 11,
    "start_time": "2021-12-17T18:51:05.241Z"
   },
   {
    "duration": 35,
    "start_time": "2021-12-17T18:51:05.254Z"
   },
   {
    "duration": 9,
    "start_time": "2021-12-17T18:51:05.292Z"
   },
   {
    "duration": 24,
    "start_time": "2021-12-17T18:51:05.304Z"
   },
   {
    "duration": 168,
    "start_time": "2021-12-17T18:51:05.331Z"
   },
   {
    "duration": 604,
    "start_time": "2021-12-17T18:51:05.502Z"
   },
   {
    "duration": 112,
    "start_time": "2021-12-17T18:51:06.109Z"
   },
   {
    "duration": 50,
    "start_time": "2021-12-17T18:51:06.223Z"
   },
   {
    "duration": 4,
    "start_time": "2021-12-17T18:51:06.275Z"
   },
   {
    "duration": 45,
    "start_time": "2021-12-17T18:51:06.282Z"
   },
   {
    "duration": 7,
    "start_time": "2021-12-17T18:51:06.330Z"
   },
   {
    "duration": 8,
    "start_time": "2021-12-17T18:51:06.340Z"
   },
   {
    "duration": 545,
    "start_time": "2021-12-17T18:51:06.351Z"
   },
   {
    "duration": 438,
    "start_time": "2021-12-17T18:51:06.898Z"
   },
   {
    "duration": 544,
    "start_time": "2021-12-17T18:51:07.342Z"
   },
   {
    "duration": 383,
    "start_time": "2021-12-17T18:51:07.890Z"
   },
   {
    "duration": 413,
    "start_time": "2021-12-17T18:51:08.276Z"
   },
   {
    "duration": 8,
    "start_time": "2021-12-17T18:51:08.692Z"
   },
   {
    "duration": 33,
    "start_time": "2021-12-17T18:51:08.703Z"
   },
   {
    "duration": 23,
    "start_time": "2021-12-17T18:51:08.738Z"
   },
   {
    "duration": 23,
    "start_time": "2021-12-17T18:51:08.764Z"
   },
   {
    "duration": 447,
    "start_time": "2021-12-17T18:51:08.790Z"
   },
   {
    "duration": 34,
    "start_time": "2021-12-17T18:51:09.240Z"
   },
   {
    "duration": 458,
    "start_time": "2021-12-17T18:51:09.276Z"
   },
   {
    "duration": 4,
    "start_time": "2021-12-17T18:51:09.736Z"
   },
   {
    "duration": 5,
    "start_time": "2021-12-17T18:51:09.742Z"
   },
   {
    "duration": 6,
    "start_time": "2021-12-17T18:51:09.749Z"
   },
   {
    "duration": 11,
    "start_time": "2021-12-17T18:51:09.757Z"
   },
   {
    "duration": 59,
    "start_time": "2021-12-17T18:51:09.771Z"
   },
   {
    "duration": 3129,
    "start_time": "2021-12-17T18:51:09.832Z"
   },
   {
    "duration": 970,
    "start_time": "2021-12-17T18:51:12.963Z"
   },
   {
    "duration": 6175,
    "start_time": "2021-12-17T18:51:13.936Z"
   },
   {
    "duration": 8,
    "start_time": "2021-12-17T18:51:20.113Z"
   },
   {
    "duration": 16,
    "start_time": "2021-12-17T18:51:20.124Z"
   },
   {
    "duration": 6295,
    "start_time": "2021-12-17T18:51:20.142Z"
   },
   {
    "duration": 12,
    "start_time": "2021-12-17T18:51:26.439Z"
   },
   {
    "duration": 1643,
    "start_time": "2021-12-17T19:03:56.284Z"
   },
   {
    "duration": 838,
    "start_time": "2021-12-17T19:03:57.929Z"
   },
   {
    "duration": 9,
    "start_time": "2021-12-17T19:03:58.770Z"
   },
   {
    "duration": 14,
    "start_time": "2021-12-17T19:03:58.781Z"
   },
   {
    "duration": 24,
    "start_time": "2021-12-17T19:03:58.797Z"
   },
   {
    "duration": 317,
    "start_time": "2021-12-17T19:03:58.823Z"
   },
   {
    "duration": 309,
    "start_time": "2021-12-17T19:03:59.143Z"
   },
   {
    "duration": 6,
    "start_time": "2021-12-17T19:03:59.454Z"
   },
   {
    "duration": 6,
    "start_time": "2021-12-17T19:03:59.464Z"
   },
   {
    "duration": 66,
    "start_time": "2021-12-17T19:03:59.473Z"
   },
   {
    "duration": 14,
    "start_time": "2021-12-17T19:03:59.542Z"
   },
   {
    "duration": 21,
    "start_time": "2021-12-17T19:03:59.560Z"
   },
   {
    "duration": 13,
    "start_time": "2021-12-17T19:03:59.585Z"
   },
   {
    "duration": 33,
    "start_time": "2021-12-17T19:03:59.600Z"
   },
   {
    "duration": 5,
    "start_time": "2021-12-17T19:03:59.636Z"
   },
   {
    "duration": 11,
    "start_time": "2021-12-17T19:03:59.643Z"
   },
   {
    "duration": 196,
    "start_time": "2021-12-17T19:03:59.656Z"
   },
   {
    "duration": 811,
    "start_time": "2021-12-17T19:03:59.855Z"
   },
   {
    "duration": 106,
    "start_time": "2021-12-17T19:04:00.669Z"
   },
   {
    "duration": 70,
    "start_time": "2021-12-17T19:04:00.778Z"
   },
   {
    "duration": 5,
    "start_time": "2021-12-17T19:04:00.852Z"
   },
   {
    "duration": 48,
    "start_time": "2021-12-17T19:04:00.860Z"
   },
   {
    "duration": 35,
    "start_time": "2021-12-17T19:04:00.911Z"
   },
   {
    "duration": 50,
    "start_time": "2021-12-17T19:04:00.948Z"
   },
   {
    "duration": 541,
    "start_time": "2021-12-17T19:04:01.000Z"
   },
   {
    "duration": 435,
    "start_time": "2021-12-17T19:04:01.544Z"
   },
   {
    "duration": 432,
    "start_time": "2021-12-17T19:04:01.984Z"
   },
   {
    "duration": 374,
    "start_time": "2021-12-17T19:04:02.420Z"
   },
   {
    "duration": 387,
    "start_time": "2021-12-17T19:04:02.797Z"
   },
   {
    "duration": 8,
    "start_time": "2021-12-17T19:04:03.187Z"
   },
   {
    "duration": 38,
    "start_time": "2021-12-17T19:04:03.197Z"
   },
   {
    "duration": 22,
    "start_time": "2021-12-17T19:04:03.237Z"
   },
   {
    "duration": 30,
    "start_time": "2021-12-17T19:04:03.261Z"
   },
   {
    "duration": 424,
    "start_time": "2021-12-17T19:04:03.293Z"
   },
   {
    "duration": 34,
    "start_time": "2021-12-17T19:04:03.719Z"
   },
   {
    "duration": 443,
    "start_time": "2021-12-17T19:04:03.755Z"
   },
   {
    "duration": 4,
    "start_time": "2021-12-17T19:04:04.200Z"
   },
   {
    "duration": 28,
    "start_time": "2021-12-17T19:04:04.207Z"
   },
   {
    "duration": 29,
    "start_time": "2021-12-17T19:04:04.238Z"
   },
   {
    "duration": 58,
    "start_time": "2021-12-17T19:04:04.270Z"
   },
   {
    "duration": 4509,
    "start_time": "2021-12-17T19:04:04.331Z"
   },
   {
    "duration": 974,
    "start_time": "2021-12-17T19:04:08.843Z"
   },
   {
    "duration": 8405,
    "start_time": "2021-12-17T19:04:09.820Z"
   },
   {
    "duration": 8,
    "start_time": "2021-12-17T19:04:18.228Z"
   },
   {
    "duration": 17,
    "start_time": "2021-12-17T19:04:18.239Z"
   },
   {
    "duration": 8549,
    "start_time": "2021-12-17T19:04:18.259Z"
   },
   {
    "duration": 18,
    "start_time": "2021-12-17T19:04:26.818Z"
   },
   {
    "duration": 1559,
    "start_time": "2021-12-17T19:09:05.979Z"
   },
   {
    "duration": 862,
    "start_time": "2021-12-17T19:09:07.540Z"
   },
   {
    "duration": 20,
    "start_time": "2021-12-17T19:09:08.405Z"
   },
   {
    "duration": 4,
    "start_time": "2021-12-17T19:09:08.428Z"
   },
   {
    "duration": 11,
    "start_time": "2021-12-17T19:09:08.434Z"
   },
   {
    "duration": 334,
    "start_time": "2021-12-17T19:09:08.447Z"
   },
   {
    "duration": 315,
    "start_time": "2021-12-17T19:09:08.784Z"
   },
   {
    "duration": 14,
    "start_time": "2021-12-17T19:09:09.102Z"
   },
   {
    "duration": 6,
    "start_time": "2021-12-17T19:09:09.123Z"
   },
   {
    "duration": 37,
    "start_time": "2021-12-17T19:09:09.134Z"
   },
   {
    "duration": 43,
    "start_time": "2021-12-17T19:09:09.174Z"
   },
   {
    "duration": 21,
    "start_time": "2021-12-17T19:09:09.222Z"
   },
   {
    "duration": 9,
    "start_time": "2021-12-17T19:09:09.245Z"
   },
   {
    "duration": 23,
    "start_time": "2021-12-17T19:09:09.257Z"
   },
   {
    "duration": 5,
    "start_time": "2021-12-17T19:09:09.282Z"
   },
   {
    "duration": 5,
    "start_time": "2021-12-17T19:09:09.289Z"
   },
   {
    "duration": 179,
    "start_time": "2021-12-17T19:09:09.317Z"
   },
   {
    "duration": 594,
    "start_time": "2021-12-17T19:09:09.499Z"
   },
   {
    "duration": 100,
    "start_time": "2021-12-17T19:09:10.096Z"
   },
   {
    "duration": 70,
    "start_time": "2021-12-17T19:09:10.199Z"
   },
   {
    "duration": 4,
    "start_time": "2021-12-17T19:09:10.271Z"
   },
   {
    "duration": 52,
    "start_time": "2021-12-17T19:09:10.277Z"
   },
   {
    "duration": 3,
    "start_time": "2021-12-17T19:09:10.331Z"
   },
   {
    "duration": 8,
    "start_time": "2021-12-17T19:09:10.337Z"
   },
   {
    "duration": 600,
    "start_time": "2021-12-17T19:09:10.347Z"
   },
   {
    "duration": 425,
    "start_time": "2021-12-17T19:09:10.950Z"
   },
   {
    "duration": 441,
    "start_time": "2021-12-17T19:09:11.381Z"
   },
   {
    "duration": 396,
    "start_time": "2021-12-17T19:09:11.826Z"
   },
   {
    "duration": 391,
    "start_time": "2021-12-17T19:09:12.225Z"
   },
   {
    "duration": 10,
    "start_time": "2021-12-17T19:09:12.619Z"
   },
   {
    "duration": 23,
    "start_time": "2021-12-17T19:09:12.632Z"
   },
   {
    "duration": 21,
    "start_time": "2021-12-17T19:09:12.657Z"
   },
   {
    "duration": 57,
    "start_time": "2021-12-17T19:09:12.681Z"
   },
   {
    "duration": 419,
    "start_time": "2021-12-17T19:09:12.741Z"
   },
   {
    "duration": 33,
    "start_time": "2021-12-17T19:09:13.162Z"
   },
   {
    "duration": 463,
    "start_time": "2021-12-17T19:09:13.197Z"
   },
   {
    "duration": 4,
    "start_time": "2021-12-17T19:09:13.662Z"
   },
   {
    "duration": 17,
    "start_time": "2021-12-17T19:09:13.668Z"
   },
   {
    "duration": 16,
    "start_time": "2021-12-17T19:09:13.688Z"
   },
   {
    "duration": 38,
    "start_time": "2021-12-17T19:09:13.706Z"
   },
   {
    "duration": 3148,
    "start_time": "2021-12-17T19:09:13.747Z"
   },
   {
    "duration": 1041,
    "start_time": "2021-12-17T19:09:16.897Z"
   },
   {
    "duration": 6194,
    "start_time": "2021-12-17T19:09:17.942Z"
   },
   {
    "duration": 7,
    "start_time": "2021-12-17T19:09:24.139Z"
   },
   {
    "duration": 16,
    "start_time": "2021-12-17T19:09:24.148Z"
   },
   {
    "duration": 6369,
    "start_time": "2021-12-17T19:09:24.167Z"
   },
   {
    "duration": 565,
    "start_time": "2021-12-17T19:09:30.538Z"
   },
   {
    "duration": 23,
    "start_time": "2021-12-17T19:10:17.021Z"
   },
   {
    "duration": 6382,
    "start_time": "2021-12-17T19:11:56.565Z"
   },
   {
    "duration": 9,
    "start_time": "2021-12-17T19:12:02.950Z"
   },
   {
    "duration": 247,
    "start_time": "2021-12-17T19:15:47.104Z"
   },
   {
    "duration": 1478,
    "start_time": "2021-12-17T19:16:43.254Z"
   },
   {
    "duration": 893,
    "start_time": "2021-12-17T19:16:44.734Z"
   },
   {
    "duration": 9,
    "start_time": "2021-12-17T19:16:45.630Z"
   },
   {
    "duration": 5,
    "start_time": "2021-12-17T19:16:45.641Z"
   },
   {
    "duration": 16,
    "start_time": "2021-12-17T19:16:45.648Z"
   },
   {
    "duration": 319,
    "start_time": "2021-12-17T19:16:45.667Z"
   },
   {
    "duration": 302,
    "start_time": "2021-12-17T19:16:45.989Z"
   },
   {
    "duration": 22,
    "start_time": "2021-12-17T19:16:46.295Z"
   },
   {
    "duration": 5,
    "start_time": "2021-12-17T19:16:46.321Z"
   },
   {
    "duration": 36,
    "start_time": "2021-12-17T19:16:46.328Z"
   },
   {
    "duration": 11,
    "start_time": "2021-12-17T19:16:46.366Z"
   },
   {
    "duration": 41,
    "start_time": "2021-12-17T19:16:46.380Z"
   },
   {
    "duration": 5,
    "start_time": "2021-12-17T19:16:46.424Z"
   },
   {
    "duration": 20,
    "start_time": "2021-12-17T19:16:46.432Z"
   },
   {
    "duration": 5,
    "start_time": "2021-12-17T19:16:46.454Z"
   },
   {
    "duration": 5,
    "start_time": "2021-12-17T19:16:46.461Z"
   },
   {
    "duration": 203,
    "start_time": "2021-12-17T19:16:46.468Z"
   },
   {
    "duration": 588,
    "start_time": "2021-12-17T19:16:46.674Z"
   },
   {
    "duration": 94,
    "start_time": "2021-12-17T19:16:47.265Z"
   },
   {
    "duration": 68,
    "start_time": "2021-12-17T19:16:47.362Z"
   },
   {
    "duration": 4,
    "start_time": "2021-12-17T19:16:47.433Z"
   },
   {
    "duration": 23,
    "start_time": "2021-12-17T19:16:47.440Z"
   },
   {
    "duration": 3,
    "start_time": "2021-12-17T19:16:47.469Z"
   },
   {
    "duration": 14,
    "start_time": "2021-12-17T19:16:47.475Z"
   },
   {
    "duration": 526,
    "start_time": "2021-12-17T19:16:47.491Z"
   },
   {
    "duration": 419,
    "start_time": "2021-12-17T19:16:48.020Z"
   },
   {
    "duration": 435,
    "start_time": "2021-12-17T19:16:48.442Z"
   },
   {
    "duration": 367,
    "start_time": "2021-12-17T19:16:48.880Z"
   },
   {
    "duration": 398,
    "start_time": "2021-12-17T19:16:49.249Z"
   },
   {
    "duration": 8,
    "start_time": "2021-12-17T19:16:49.650Z"
   },
   {
    "duration": 48,
    "start_time": "2021-12-17T19:16:49.660Z"
   },
   {
    "duration": 23,
    "start_time": "2021-12-17T19:16:49.710Z"
   },
   {
    "duration": 34,
    "start_time": "2021-12-17T19:16:49.736Z"
   },
   {
    "duration": 402,
    "start_time": "2021-12-17T19:16:49.772Z"
   },
   {
    "duration": 49,
    "start_time": "2021-12-17T19:16:50.176Z"
   },
   {
    "duration": 430,
    "start_time": "2021-12-17T19:16:50.227Z"
   },
   {
    "duration": 6,
    "start_time": "2021-12-17T19:16:50.660Z"
   },
   {
    "duration": 33,
    "start_time": "2021-12-17T19:16:50.669Z"
   },
   {
    "duration": 20,
    "start_time": "2021-12-17T19:16:50.704Z"
   },
   {
    "duration": 40,
    "start_time": "2021-12-17T19:16:50.727Z"
   },
   {
    "duration": 393,
    "start_time": "2021-12-17T19:16:50.769Z"
   },
   {
    "duration": 13,
    "start_time": "2021-12-17T19:16:51.153Z"
   },
   {
    "duration": 7,
    "start_time": "2021-12-17T19:16:51.160Z"
   },
   {
    "duration": 6,
    "start_time": "2021-12-17T19:16:51.163Z"
   },
   {
    "duration": 0,
    "start_time": "2021-12-17T19:16:51.170Z"
   },
   {
    "duration": -1,
    "start_time": "2021-12-17T19:16:51.173Z"
   },
   {
    "duration": -1,
    "start_time": "2021-12-17T19:16:51.174Z"
   },
   {
    "duration": -2,
    "start_time": "2021-12-17T19:16:51.176Z"
   },
   {
    "duration": -1,
    "start_time": "2021-12-17T19:16:51.177Z"
   },
   {
    "duration": 7,
    "start_time": "2021-12-17T19:17:42.032Z"
   },
   {
    "duration": 6,
    "start_time": "2021-12-17T19:17:42.525Z"
   },
   {
    "duration": 21,
    "start_time": "2021-12-17T19:17:43.622Z"
   },
   {
    "duration": 12,
    "start_time": "2021-12-17T19:17:44.148Z"
   },
   {
    "duration": 2987,
    "start_time": "2021-12-17T19:17:45.334Z"
   },
   {
    "duration": 933,
    "start_time": "2021-12-17T19:17:51.195Z"
   },
   {
    "duration": 272,
    "start_time": "2021-12-17T19:18:00.230Z"
   },
   {
    "duration": 3391,
    "start_time": "2021-12-17T19:18:54.432Z"
   },
   {
    "duration": 5868,
    "start_time": "2021-12-17T19:19:35.481Z"
   },
   {
    "duration": 26903,
    "start_time": "2021-12-17T19:19:42.994Z"
   },
   {
    "duration": 15127,
    "start_time": "2021-12-17T19:21:06.729Z"
   },
   {
    "duration": 1528,
    "start_time": "2021-12-17T19:23:56.500Z"
   },
   {
    "duration": 929,
    "start_time": "2021-12-17T19:23:58.030Z"
   },
   {
    "duration": 8,
    "start_time": "2021-12-17T19:23:58.962Z"
   },
   {
    "duration": 17,
    "start_time": "2021-12-17T19:23:58.973Z"
   },
   {
    "duration": 10,
    "start_time": "2021-12-17T19:23:58.993Z"
   },
   {
    "duration": 304,
    "start_time": "2021-12-17T19:23:59.005Z"
   },
   {
    "duration": 319,
    "start_time": "2021-12-17T19:23:59.319Z"
   },
   {
    "duration": 6,
    "start_time": "2021-12-17T19:23:59.641Z"
   },
   {
    "duration": 5,
    "start_time": "2021-12-17T19:23:59.651Z"
   },
   {
    "duration": 68,
    "start_time": "2021-12-17T19:23:59.659Z"
   },
   {
    "duration": 11,
    "start_time": "2021-12-17T19:23:59.729Z"
   },
   {
    "duration": 10,
    "start_time": "2021-12-17T19:23:59.742Z"
   },
   {
    "duration": 5,
    "start_time": "2021-12-17T19:23:59.754Z"
   },
   {
    "duration": 67,
    "start_time": "2021-12-17T19:23:59.761Z"
   },
   {
    "duration": 5,
    "start_time": "2021-12-17T19:23:59.831Z"
   },
   {
    "duration": 6,
    "start_time": "2021-12-17T19:23:59.839Z"
   },
   {
    "duration": 191,
    "start_time": "2021-12-17T19:23:59.848Z"
   },
   {
    "duration": 650,
    "start_time": "2021-12-17T19:24:00.042Z"
   },
   {
    "duration": 92,
    "start_time": "2021-12-17T19:24:00.695Z"
   },
   {
    "duration": 71,
    "start_time": "2021-12-17T19:24:00.789Z"
   },
   {
    "duration": 4,
    "start_time": "2021-12-17T19:24:00.862Z"
   },
   {
    "duration": 29,
    "start_time": "2021-12-17T19:24:00.868Z"
   },
   {
    "duration": 19,
    "start_time": "2021-12-17T19:24:00.899Z"
   },
   {
    "duration": 14,
    "start_time": "2021-12-17T19:24:00.920Z"
   },
   {
    "duration": 539,
    "start_time": "2021-12-17T19:24:00.936Z"
   },
   {
    "duration": 454,
    "start_time": "2021-12-17T19:24:01.477Z"
   },
   {
    "duration": 447,
    "start_time": "2021-12-17T19:24:01.938Z"
   },
   {
    "duration": 377,
    "start_time": "2021-12-17T19:24:02.388Z"
   },
   {
    "duration": 416,
    "start_time": "2021-12-17T19:24:02.768Z"
   },
   {
    "duration": 8,
    "start_time": "2021-12-17T19:24:03.187Z"
   },
   {
    "duration": 36,
    "start_time": "2021-12-17T19:24:03.198Z"
   },
   {
    "duration": 22,
    "start_time": "2021-12-17T19:24:03.237Z"
   },
   {
    "duration": 23,
    "start_time": "2021-12-17T19:24:03.261Z"
   },
   {
    "duration": 451,
    "start_time": "2021-12-17T19:24:03.286Z"
   },
   {
    "duration": 33,
    "start_time": "2021-12-17T19:24:03.739Z"
   },
   {
    "duration": 460,
    "start_time": "2021-12-17T19:24:03.774Z"
   },
   {
    "duration": 4,
    "start_time": "2021-12-17T19:24:04.237Z"
   },
   {
    "duration": 7,
    "start_time": "2021-12-17T19:24:04.244Z"
   },
   {
    "duration": 10,
    "start_time": "2021-12-17T19:24:04.254Z"
   },
   {
    "duration": 10,
    "start_time": "2021-12-17T19:24:04.266Z"
   },
   {
    "duration": 48,
    "start_time": "2021-12-17T19:24:04.278Z"
   },
   {
    "duration": 11,
    "start_time": "2021-12-17T19:24:04.328Z"
   },
   {
    "duration": 14071,
    "start_time": "2021-12-17T19:24:04.342Z"
   },
   {
    "duration": 5619,
    "start_time": "2021-12-17T19:24:18.418Z"
   },
   {
    "duration": 28865,
    "start_time": "2021-12-17T19:24:24.040Z"
   },
   {
    "duration": 6506,
    "start_time": "2021-12-17T19:24:52.908Z"
   },
   {
    "duration": 10,
    "start_time": "2021-12-17T19:24:59.418Z"
   },
   {
    "duration": 16,
    "start_time": "2021-12-17T19:24:59.433Z"
   },
   {
    "duration": 510,
    "start_time": "2021-12-17T19:26:07.739Z"
   },
   {
    "duration": 13,
    "start_time": "2021-12-17T19:29:48.744Z"
   },
   {
    "duration": 12,
    "start_time": "2021-12-17T19:29:59.966Z"
   },
   {
    "duration": 1678,
    "start_time": "2021-12-17T19:34:12.976Z"
   },
   {
    "duration": 913,
    "start_time": "2021-12-17T19:34:14.657Z"
   },
   {
    "duration": 10,
    "start_time": "2021-12-17T19:34:15.573Z"
   },
   {
    "duration": 17,
    "start_time": "2021-12-17T19:34:15.586Z"
   },
   {
    "duration": 17,
    "start_time": "2021-12-17T19:34:15.605Z"
   },
   {
    "duration": 308,
    "start_time": "2021-12-17T19:34:15.624Z"
   },
   {
    "duration": 310,
    "start_time": "2021-12-17T19:34:15.934Z"
   },
   {
    "duration": 6,
    "start_time": "2021-12-17T19:34:16.248Z"
   },
   {
    "duration": 19,
    "start_time": "2021-12-17T19:34:16.257Z"
   },
   {
    "duration": 47,
    "start_time": "2021-12-17T19:34:16.279Z"
   },
   {
    "duration": 26,
    "start_time": "2021-12-17T19:34:16.329Z"
   },
   {
    "duration": 22,
    "start_time": "2021-12-17T19:34:16.357Z"
   },
   {
    "duration": 21,
    "start_time": "2021-12-17T19:34:16.382Z"
   },
   {
    "duration": 38,
    "start_time": "2021-12-17T19:34:16.406Z"
   },
   {
    "duration": 4,
    "start_time": "2021-12-17T19:34:16.447Z"
   },
   {
    "duration": 14,
    "start_time": "2021-12-17T19:34:16.454Z"
   },
   {
    "duration": 166,
    "start_time": "2021-12-17T19:34:16.471Z"
   },
   {
    "duration": 579,
    "start_time": "2021-12-17T19:34:16.640Z"
   },
   {
    "duration": 101,
    "start_time": "2021-12-17T19:34:17.221Z"
   },
   {
    "duration": 48,
    "start_time": "2021-12-17T19:34:17.325Z"
   },
   {
    "duration": 5,
    "start_time": "2021-12-17T19:34:17.375Z"
   },
   {
    "duration": 46,
    "start_time": "2021-12-17T19:34:17.382Z"
   },
   {
    "duration": 3,
    "start_time": "2021-12-17T19:34:17.433Z"
   },
   {
    "duration": 8,
    "start_time": "2021-12-17T19:34:17.439Z"
   },
   {
    "duration": 507,
    "start_time": "2021-12-17T19:34:17.450Z"
   },
   {
    "duration": 415,
    "start_time": "2021-12-17T19:34:17.959Z"
   },
   {
    "duration": 422,
    "start_time": "2021-12-17T19:34:18.377Z"
   },
   {
    "duration": 369,
    "start_time": "2021-12-17T19:34:18.802Z"
   },
   {
    "duration": 388,
    "start_time": "2021-12-17T19:34:19.173Z"
   },
   {
    "duration": 9,
    "start_time": "2021-12-17T19:34:19.563Z"
   },
   {
    "duration": 26,
    "start_time": "2021-12-17T19:34:19.574Z"
   },
   {
    "duration": 22,
    "start_time": "2021-12-17T19:34:19.617Z"
   },
   {
    "duration": 21,
    "start_time": "2021-12-17T19:34:19.641Z"
   },
   {
    "duration": 416,
    "start_time": "2021-12-17T19:34:19.664Z"
   },
   {
    "duration": 45,
    "start_time": "2021-12-17T19:34:20.082Z"
   },
   {
    "duration": 424,
    "start_time": "2021-12-17T19:34:20.130Z"
   },
   {
    "duration": 4,
    "start_time": "2021-12-17T19:34:20.557Z"
   },
   {
    "duration": 8,
    "start_time": "2021-12-17T19:34:20.563Z"
   },
   {
    "duration": 11,
    "start_time": "2021-12-17T19:34:20.573Z"
   },
   {
    "duration": 34,
    "start_time": "2021-12-17T19:34:20.587Z"
   },
   {
    "duration": 40,
    "start_time": "2021-12-17T19:34:20.623Z"
   },
   {
    "duration": 11,
    "start_time": "2021-12-17T19:34:20.666Z"
   },
   {
    "duration": 13551,
    "start_time": "2021-12-17T19:34:20.679Z"
   },
   {
    "duration": 3586,
    "start_time": "2021-12-17T19:34:34.232Z"
   },
   {
    "duration": 27098,
    "start_time": "2021-12-17T19:34:37.824Z"
   },
   {
    "duration": 5860,
    "start_time": "2021-12-17T19:35:04.924Z"
   },
   {
    "duration": 10,
    "start_time": "2021-12-17T19:35:10.787Z"
   },
   {
    "duration": 25,
    "start_time": "2021-12-17T19:35:10.799Z"
   },
   {
    "duration": 1225,
    "start_time": "2021-12-17T19:53:31.493Z"
   },
   {
    "duration": 761,
    "start_time": "2021-12-17T19:53:32.720Z"
   },
   {
    "duration": 7,
    "start_time": "2021-12-17T19:53:58.305Z"
   },
   {
    "duration": 3,
    "start_time": "2021-12-17T19:53:58.843Z"
   },
   {
    "duration": 9,
    "start_time": "2021-12-17T19:53:59.241Z"
   },
   {
    "duration": 170,
    "start_time": "2021-12-17T19:54:00.275Z"
   },
   {
    "duration": 169,
    "start_time": "2021-12-17T19:54:00.858Z"
   },
   {
    "duration": 6,
    "start_time": "2021-12-17T19:54:01.400Z"
   },
   {
    "duration": 3,
    "start_time": "2021-12-17T19:54:18.849Z"
   },
   {
    "duration": 24,
    "start_time": "2021-12-17T19:54:21.802Z"
   },
   {
    "duration": 10,
    "start_time": "2021-12-17T19:54:58.388Z"
   },
   {
    "duration": 8,
    "start_time": "2021-12-17T19:55:00.112Z"
   },
   {
    "duration": 4,
    "start_time": "2021-12-17T19:55:00.561Z"
   },
   {
    "duration": 22,
    "start_time": "2021-12-17T19:55:03.670Z"
   },
   {
    "duration": 4,
    "start_time": "2021-12-17T19:55:03.936Z"
   },
   {
    "duration": 36,
    "start_time": "2021-12-17T19:56:01.078Z"
   },
   {
    "duration": 10,
    "start_time": "2021-12-17T19:57:26.117Z"
   },
   {
    "duration": 4,
    "start_time": "2021-12-17T20:00:02.904Z"
   },
   {
    "duration": 102,
    "start_time": "2021-12-17T20:00:03.535Z"
   },
   {
    "duration": 88436,
    "start_time": "2021-12-17T20:00:04.451Z"
   },
   {
    "duration": 47,
    "start_time": "2021-12-17T20:01:32.889Z"
   },
   {
    "duration": 41,
    "start_time": "2021-12-17T20:01:32.937Z"
   },
   {
    "duration": 3,
    "start_time": "2021-12-17T20:01:32.980Z"
   },
   {
    "duration": 29,
    "start_time": "2021-12-17T20:01:32.985Z"
   },
   {
    "duration": 3,
    "start_time": "2021-12-17T20:01:33.015Z"
   },
   {
    "duration": 7,
    "start_time": "2021-12-17T20:01:33.020Z"
   },
   {
    "duration": 344,
    "start_time": "2021-12-17T20:01:33.029Z"
   },
   {
    "duration": 419,
    "start_time": "2021-12-17T20:01:33.375Z"
   },
   {
    "duration": 1121,
    "start_time": "2021-12-18T11:11:53.294Z"
   },
   {
    "duration": 699,
    "start_time": "2021-12-18T11:11:54.417Z"
   },
   {
    "duration": 6,
    "start_time": "2021-12-18T11:11:55.118Z"
   },
   {
    "duration": 14,
    "start_time": "2021-12-18T11:11:55.126Z"
   },
   {
    "duration": 12,
    "start_time": "2021-12-18T11:11:55.142Z"
   },
   {
    "duration": 158,
    "start_time": "2021-12-18T11:11:55.155Z"
   },
   {
    "duration": 175,
    "start_time": "2021-12-18T11:11:55.315Z"
   },
   {
    "duration": 3,
    "start_time": "2021-12-18T11:11:55.492Z"
   },
   {
    "duration": 12,
    "start_time": "2021-12-18T11:11:55.497Z"
   },
   {
    "duration": 31,
    "start_time": "2021-12-18T11:11:55.511Z"
   },
   {
    "duration": 15,
    "start_time": "2021-12-18T11:11:55.544Z"
   },
   {
    "duration": 11,
    "start_time": "2021-12-18T11:11:55.561Z"
   },
   {
    "duration": 10,
    "start_time": "2021-12-18T11:11:55.573Z"
   },
   {
    "duration": 21,
    "start_time": "2021-12-18T11:11:55.585Z"
   },
   {
    "duration": 3,
    "start_time": "2021-12-18T11:11:55.607Z"
   },
   {
    "duration": 7,
    "start_time": "2021-12-18T11:11:55.611Z"
   },
   {
    "duration": 95,
    "start_time": "2021-12-18T11:11:55.620Z"
   },
   {
    "duration": 638,
    "start_time": "2021-12-18T11:11:55.716Z"
   },
   {
    "duration": 46,
    "start_time": "2021-12-18T11:11:56.356Z"
   },
   {
    "duration": 26,
    "start_time": "2021-12-18T11:11:56.404Z"
   },
   {
    "duration": 3,
    "start_time": "2021-12-18T11:11:56.432Z"
   },
   {
    "duration": 16,
    "start_time": "2021-12-18T11:11:56.436Z"
   },
   {
    "duration": 1,
    "start_time": "2021-12-18T11:11:56.454Z"
   },
   {
    "duration": 31,
    "start_time": "2021-12-18T11:11:56.457Z"
   },
   {
    "duration": 313,
    "start_time": "2021-12-18T11:11:56.490Z"
   },
   {
    "duration": 233,
    "start_time": "2021-12-18T11:11:56.805Z"
   },
   {
    "duration": 236,
    "start_time": "2021-12-18T11:11:57.043Z"
   },
   {
    "duration": 202,
    "start_time": "2021-12-18T11:11:57.281Z"
   },
   {
    "duration": 205,
    "start_time": "2021-12-18T11:11:57.484Z"
   },
   {
    "duration": 7,
    "start_time": "2021-12-18T11:11:57.691Z"
   },
   {
    "duration": 17,
    "start_time": "2021-12-18T11:11:57.700Z"
   },
   {
    "duration": 17,
    "start_time": "2021-12-18T11:11:57.718Z"
   },
   {
    "duration": 16,
    "start_time": "2021-12-18T11:11:57.736Z"
   },
   {
    "duration": 252,
    "start_time": "2021-12-18T11:11:57.754Z"
   },
   {
    "duration": 25,
    "start_time": "2021-12-18T11:11:58.008Z"
   },
   {
    "duration": 245,
    "start_time": "2021-12-18T11:11:58.035Z"
   },
   {
    "duration": 7,
    "start_time": "2021-12-18T11:11:58.282Z"
   },
   {
    "duration": 5,
    "start_time": "2021-12-18T11:11:58.290Z"
   },
   {
    "duration": 12,
    "start_time": "2021-12-18T11:11:58.296Z"
   },
   {
    "duration": 6,
    "start_time": "2021-12-18T11:11:58.309Z"
   },
   {
    "duration": 20,
    "start_time": "2021-12-18T11:11:58.316Z"
   },
   {
    "duration": 8,
    "start_time": "2021-12-18T11:11:58.338Z"
   },
   {
    "duration": 10282,
    "start_time": "2021-12-18T11:11:58.347Z"
   },
   {
    "duration": 3058,
    "start_time": "2021-12-18T11:12:08.631Z"
   },
   {
    "duration": 1086,
    "start_time": "2021-12-18T11:12:21.562Z"
   },
   {
    "duration": 634,
    "start_time": "2021-12-18T11:12:22.650Z"
   },
   {
    "duration": 6,
    "start_time": "2021-12-18T11:12:23.285Z"
   },
   {
    "duration": 8,
    "start_time": "2021-12-18T11:12:23.292Z"
   },
   {
    "duration": 15,
    "start_time": "2021-12-18T11:12:23.301Z"
   },
   {
    "duration": 163,
    "start_time": "2021-12-18T11:12:23.318Z"
   },
   {
    "duration": 162,
    "start_time": "2021-12-18T11:12:23.483Z"
   },
   {
    "duration": 3,
    "start_time": "2021-12-18T11:12:23.647Z"
   },
   {
    "duration": 22,
    "start_time": "2021-12-18T11:12:23.652Z"
   },
   {
    "duration": 29,
    "start_time": "2021-12-18T11:12:23.676Z"
   },
   {
    "duration": 9,
    "start_time": "2021-12-18T11:12:23.706Z"
   },
   {
    "duration": 17,
    "start_time": "2021-12-18T11:12:23.717Z"
   },
   {
    "duration": 5,
    "start_time": "2021-12-18T11:12:23.735Z"
   },
   {
    "duration": 16,
    "start_time": "2021-12-18T11:12:23.742Z"
   },
   {
    "duration": 3,
    "start_time": "2021-12-18T11:12:23.759Z"
   },
   {
    "duration": 19,
    "start_time": "2021-12-18T11:12:23.763Z"
   },
   {
    "duration": 87,
    "start_time": "2021-12-18T11:12:23.784Z"
   },
   {
    "duration": 479,
    "start_time": "2021-12-18T11:12:23.873Z"
   },
   {
    "duration": 51,
    "start_time": "2021-12-18T11:12:24.354Z"
   },
   {
    "duration": 30,
    "start_time": "2021-12-18T11:12:24.407Z"
   },
   {
    "duration": 3,
    "start_time": "2021-12-18T11:12:24.439Z"
   },
   {
    "duration": 15,
    "start_time": "2021-12-18T11:12:24.444Z"
   },
   {
    "duration": 2,
    "start_time": "2021-12-18T11:12:24.461Z"
   },
   {
    "duration": 26,
    "start_time": "2021-12-18T11:12:24.465Z"
   },
   {
    "duration": 360,
    "start_time": "2021-12-18T11:12:24.493Z"
   },
   {
    "duration": 247,
    "start_time": "2021-12-18T11:12:24.854Z"
   },
   {
    "duration": 240,
    "start_time": "2021-12-18T11:12:25.104Z"
   },
   {
    "duration": 199,
    "start_time": "2021-12-18T11:12:25.346Z"
   },
   {
    "duration": 210,
    "start_time": "2021-12-18T11:12:25.546Z"
   },
   {
    "duration": 5,
    "start_time": "2021-12-18T11:12:25.758Z"
   },
   {
    "duration": 29,
    "start_time": "2021-12-18T11:12:25.765Z"
   },
   {
    "duration": 15,
    "start_time": "2021-12-18T11:12:25.796Z"
   },
   {
    "duration": 15,
    "start_time": "2021-12-18T11:12:25.813Z"
   },
   {
    "duration": 226,
    "start_time": "2021-12-18T11:12:25.829Z"
   },
   {
    "duration": 32,
    "start_time": "2021-12-18T11:12:26.056Z"
   },
   {
    "duration": 237,
    "start_time": "2021-12-18T11:12:26.090Z"
   },
   {
    "duration": 3,
    "start_time": "2021-12-18T11:12:26.328Z"
   },
   {
    "duration": 6,
    "start_time": "2021-12-18T11:12:26.332Z"
   },
   {
    "duration": 10,
    "start_time": "2021-12-18T11:12:26.339Z"
   },
   {
    "duration": 7,
    "start_time": "2021-12-18T11:12:26.350Z"
   },
   {
    "duration": 30,
    "start_time": "2021-12-18T11:12:26.359Z"
   },
   {
    "duration": 9,
    "start_time": "2021-12-18T11:12:26.390Z"
   },
   {
    "duration": 9921,
    "start_time": "2021-12-18T11:12:26.400Z"
   },
   {
    "duration": 2871,
    "start_time": "2021-12-18T11:12:36.322Z"
   },
   {
    "duration": 21051,
    "start_time": "2021-12-18T11:12:39.195Z"
   },
   {
    "duration": 4749,
    "start_time": "2021-12-18T11:13:00.248Z"
   },
   {
    "duration": 5,
    "start_time": "2021-12-18T11:13:04.999Z"
   },
   {
    "duration": 10,
    "start_time": "2021-12-18T11:13:05.006Z"
   },
   {
    "duration": 1106,
    "start_time": "2021-12-18T11:14:42.527Z"
   },
   {
    "duration": 641,
    "start_time": "2021-12-18T11:14:43.635Z"
   },
   {
    "duration": 5,
    "start_time": "2021-12-18T11:14:44.278Z"
   },
   {
    "duration": 5,
    "start_time": "2021-12-18T11:14:44.285Z"
   },
   {
    "duration": 9,
    "start_time": "2021-12-18T11:14:44.292Z"
   },
   {
    "duration": 167,
    "start_time": "2021-12-18T11:14:44.302Z"
   },
   {
    "duration": 226,
    "start_time": "2021-12-18T11:14:44.471Z"
   },
   {
    "duration": 4,
    "start_time": "2021-12-18T11:14:44.699Z"
   },
   {
    "duration": 4,
    "start_time": "2021-12-18T11:14:44.705Z"
   },
   {
    "duration": 20,
    "start_time": "2021-12-18T11:14:44.711Z"
   },
   {
    "duration": 7,
    "start_time": "2021-12-18T11:14:44.732Z"
   },
   {
    "duration": 8,
    "start_time": "2021-12-18T11:14:44.740Z"
   },
   {
    "duration": 3,
    "start_time": "2021-12-18T11:14:44.750Z"
   },
   {
    "duration": 42,
    "start_time": "2021-12-18T11:14:44.755Z"
   },
   {
    "duration": 3,
    "start_time": "2021-12-18T11:14:44.799Z"
   },
   {
    "duration": 7,
    "start_time": "2021-12-18T11:14:44.803Z"
   },
   {
    "duration": 103,
    "start_time": "2021-12-18T11:14:44.811Z"
   },
   {
    "duration": 478,
    "start_time": "2021-12-18T11:14:44.916Z"
   },
   {
    "duration": 43,
    "start_time": "2021-12-18T11:14:45.396Z"
   },
   {
    "duration": 27,
    "start_time": "2021-12-18T11:14:45.440Z"
   },
   {
    "duration": 20,
    "start_time": "2021-12-18T11:14:45.469Z"
   },
   {
    "duration": 13,
    "start_time": "2021-12-18T11:14:45.491Z"
   },
   {
    "duration": 3,
    "start_time": "2021-12-18T11:14:45.507Z"
   },
   {
    "duration": 5,
    "start_time": "2021-12-18T11:14:45.512Z"
   },
   {
    "duration": 316,
    "start_time": "2021-12-18T11:14:45.519Z"
   },
   {
    "duration": 243,
    "start_time": "2021-12-18T11:14:45.836Z"
   },
   {
    "duration": 237,
    "start_time": "2021-12-18T11:14:46.081Z"
   },
   {
    "duration": 201,
    "start_time": "2021-12-18T11:14:46.320Z"
   },
   {
    "duration": 209,
    "start_time": "2021-12-18T11:14:46.523Z"
   },
   {
    "duration": 6,
    "start_time": "2021-12-18T11:14:46.733Z"
   },
   {
    "duration": 19,
    "start_time": "2021-12-18T11:14:46.740Z"
   },
   {
    "duration": 29,
    "start_time": "2021-12-18T11:14:46.761Z"
   },
   {
    "duration": 16,
    "start_time": "2021-12-18T11:14:46.791Z"
   },
   {
    "duration": 229,
    "start_time": "2021-12-18T11:14:46.809Z"
   },
   {
    "duration": 22,
    "start_time": "2021-12-18T11:14:47.039Z"
   },
   {
    "duration": 237,
    "start_time": "2021-12-18T11:14:47.063Z"
   },
   {
    "duration": 3,
    "start_time": "2021-12-18T11:14:47.301Z"
   },
   {
    "duration": 8,
    "start_time": "2021-12-18T11:14:47.305Z"
   },
   {
    "duration": 9,
    "start_time": "2021-12-18T11:14:47.314Z"
   },
   {
    "duration": 7,
    "start_time": "2021-12-18T11:14:47.325Z"
   },
   {
    "duration": 24,
    "start_time": "2021-12-18T11:14:47.333Z"
   },
   {
    "duration": 8,
    "start_time": "2021-12-18T11:14:47.359Z"
   },
   {
    "duration": 10168,
    "start_time": "2021-12-18T11:14:47.369Z"
   },
   {
    "duration": 336,
    "start_time": "2021-12-18T11:14:57.539Z"
   },
   {
    "duration": 782,
    "start_time": "2021-12-18T11:14:57.095Z"
   },
   {
    "duration": 781,
    "start_time": "2021-12-18T11:14:57.097Z"
   },
   {
    "duration": 780,
    "start_time": "2021-12-18T11:14:57.099Z"
   },
   {
    "duration": 765,
    "start_time": "2021-12-18T11:14:57.115Z"
   },
   {
    "duration": 761,
    "start_time": "2021-12-18T11:14:57.120Z"
   },
   {
    "duration": 753,
    "start_time": "2021-12-18T11:14:57.129Z"
   },
   {
    "duration": 3,
    "start_time": "2021-12-18T11:15:33.160Z"
   },
   {
    "duration": 4495,
    "start_time": "2021-12-18T11:15:34.303Z"
   },
   {
    "duration": 97,
    "start_time": "2021-12-18T11:15:53.631Z"
   },
   {
    "duration": 89,
    "start_time": "2021-12-18T11:15:59.395Z"
   },
   {
    "duration": 4405,
    "start_time": "2021-12-18T11:16:23.497Z"
   },
   {
    "duration": 4493,
    "start_time": "2021-12-18T11:16:44.079Z"
   },
   {
    "duration": 3471,
    "start_time": "2021-12-18T11:17:51.918Z"
   },
   {
    "duration": 1598,
    "start_time": "2021-12-18T11:17:55.391Z"
   },
   {
    "duration": 20278,
    "start_time": "2021-12-18T11:18:29.586Z"
   },
   {
    "duration": 8840,
    "start_time": "2021-12-18T11:18:49.865Z"
   },
   {
    "duration": 1291,
    "start_time": "2021-12-18T11:23:52.392Z"
   },
   {
    "duration": 645,
    "start_time": "2021-12-18T11:23:53.685Z"
   },
   {
    "duration": 6,
    "start_time": "2021-12-18T11:23:54.334Z"
   },
   {
    "duration": 4,
    "start_time": "2021-12-18T11:23:54.342Z"
   },
   {
    "duration": 6,
    "start_time": "2021-12-18T11:23:54.348Z"
   },
   {
    "duration": 190,
    "start_time": "2021-12-18T11:23:54.356Z"
   },
   {
    "duration": 171,
    "start_time": "2021-12-18T11:23:54.548Z"
   },
   {
    "duration": 4,
    "start_time": "2021-12-18T11:23:54.721Z"
   },
   {
    "duration": 12,
    "start_time": "2021-12-18T11:23:54.726Z"
   },
   {
    "duration": 21,
    "start_time": "2021-12-18T11:23:54.740Z"
   },
   {
    "duration": 7,
    "start_time": "2021-12-18T11:23:54.763Z"
   },
   {
    "duration": 20,
    "start_time": "2021-12-18T11:23:54.771Z"
   },
   {
    "duration": 4,
    "start_time": "2021-12-18T11:23:54.793Z"
   },
   {
    "duration": 16,
    "start_time": "2021-12-18T11:23:54.799Z"
   },
   {
    "duration": 3,
    "start_time": "2021-12-18T11:23:54.817Z"
   },
   {
    "duration": 8,
    "start_time": "2021-12-18T11:23:54.821Z"
   },
   {
    "duration": 113,
    "start_time": "2021-12-18T11:23:54.831Z"
   },
   {
    "duration": 509,
    "start_time": "2021-12-18T11:23:54.945Z"
   },
   {
    "duration": 50,
    "start_time": "2021-12-18T11:23:55.456Z"
   },
   {
    "duration": 28,
    "start_time": "2021-12-18T11:23:55.507Z"
   },
   {
    "duration": 3,
    "start_time": "2021-12-18T11:23:55.536Z"
   },
   {
    "duration": 14,
    "start_time": "2021-12-18T11:23:55.542Z"
   },
   {
    "duration": 2,
    "start_time": "2021-12-18T11:23:55.558Z"
   },
   {
    "duration": 30,
    "start_time": "2021-12-18T11:23:55.562Z"
   },
   {
    "duration": 299,
    "start_time": "2021-12-18T11:23:55.594Z"
   },
   {
    "duration": 239,
    "start_time": "2021-12-18T11:23:55.895Z"
   },
   {
    "duration": 359,
    "start_time": "2021-12-18T11:23:56.136Z"
   },
   {
    "duration": 209,
    "start_time": "2021-12-18T11:23:56.497Z"
   },
   {
    "duration": 203,
    "start_time": "2021-12-18T11:23:56.708Z"
   },
   {
    "duration": 5,
    "start_time": "2021-12-18T11:23:56.913Z"
   },
   {
    "duration": 23,
    "start_time": "2021-12-18T11:23:56.920Z"
   },
   {
    "duration": 16,
    "start_time": "2021-12-18T11:23:56.944Z"
   },
   {
    "duration": 32,
    "start_time": "2021-12-18T11:23:56.962Z"
   },
   {
    "duration": 223,
    "start_time": "2021-12-18T11:23:56.996Z"
   },
   {
    "duration": 23,
    "start_time": "2021-12-18T11:23:57.220Z"
   },
   {
    "duration": 246,
    "start_time": "2021-12-18T11:23:57.244Z"
   },
   {
    "duration": 3,
    "start_time": "2021-12-18T11:23:57.491Z"
   },
   {
    "duration": 8,
    "start_time": "2021-12-18T11:23:57.495Z"
   },
   {
    "duration": 9,
    "start_time": "2021-12-18T11:23:57.504Z"
   },
   {
    "duration": 7,
    "start_time": "2021-12-18T11:23:57.514Z"
   },
   {
    "duration": 20,
    "start_time": "2021-12-18T11:23:57.523Z"
   },
   {
    "duration": 7,
    "start_time": "2021-12-18T11:23:57.544Z"
   },
   {
    "duration": 2,
    "start_time": "2021-12-18T11:23:57.553Z"
   },
   {
    "duration": 4531,
    "start_time": "2021-12-18T11:23:57.556Z"
   },
   {
    "duration": 1609,
    "start_time": "2021-12-18T11:24:02.089Z"
   },
   {
    "duration": 9120,
    "start_time": "2021-12-18T11:24:03.787Z"
   },
   {
    "duration": 4459,
    "start_time": "2021-12-18T11:24:12.908Z"
   },
   {
    "duration": 6,
    "start_time": "2021-12-18T11:24:17.369Z"
   },
   {
    "duration": 19,
    "start_time": "2021-12-18T11:24:17.376Z"
   },
   {
    "duration": 533,
    "start_time": "2021-12-18T11:43:55.547Z"
   },
   {
    "duration": 1116,
    "start_time": "2021-12-18T11:44:15.328Z"
   },
   {
    "duration": 638,
    "start_time": "2021-12-18T11:44:16.446Z"
   },
   {
    "duration": 6,
    "start_time": "2021-12-18T11:44:17.090Z"
   },
   {
    "duration": 5,
    "start_time": "2021-12-18T11:44:17.097Z"
   },
   {
    "duration": 10,
    "start_time": "2021-12-18T11:44:17.103Z"
   },
   {
    "duration": 175,
    "start_time": "2021-12-18T11:44:17.114Z"
   },
   {
    "duration": 175,
    "start_time": "2021-12-18T11:44:17.290Z"
   },
   {
    "duration": 4,
    "start_time": "2021-12-18T11:44:17.468Z"
   },
   {
    "duration": 14,
    "start_time": "2021-12-18T11:44:17.474Z"
   },
   {
    "duration": 25,
    "start_time": "2021-12-18T11:44:17.490Z"
   },
   {
    "duration": 7,
    "start_time": "2021-12-18T11:44:17.517Z"
   },
   {
    "duration": 4,
    "start_time": "2021-12-18T11:44:17.525Z"
   },
   {
    "duration": 334,
    "start_time": "2021-12-18T11:44:17.531Z"
   },
   {
    "duration": 807,
    "start_time": "2021-12-18T11:44:17.061Z"
   },
   {
    "duration": 798,
    "start_time": "2021-12-18T11:44:17.072Z"
   },
   {
    "duration": 795,
    "start_time": "2021-12-18T11:44:17.076Z"
   },
   {
    "duration": 794,
    "start_time": "2021-12-18T11:44:17.079Z"
   },
   {
    "duration": 789,
    "start_time": "2021-12-18T11:44:17.085Z"
   },
   {
    "duration": 786,
    "start_time": "2021-12-18T11:44:17.089Z"
   },
   {
    "duration": 786,
    "start_time": "2021-12-18T11:44:17.091Z"
   },
   {
    "duration": 785,
    "start_time": "2021-12-18T11:44:17.093Z"
   },
   {
    "duration": 784,
    "start_time": "2021-12-18T11:44:17.096Z"
   },
   {
    "duration": 778,
    "start_time": "2021-12-18T11:44:17.103Z"
   },
   {
    "duration": 775,
    "start_time": "2021-12-18T11:44:17.107Z"
   },
   {
    "duration": 772,
    "start_time": "2021-12-18T11:44:17.112Z"
   },
   {
    "duration": 766,
    "start_time": "2021-12-18T11:44:17.119Z"
   },
   {
    "duration": 763,
    "start_time": "2021-12-18T11:44:17.123Z"
   },
   {
    "duration": 761,
    "start_time": "2021-12-18T11:44:17.127Z"
   },
   {
    "duration": 758,
    "start_time": "2021-12-18T11:44:17.131Z"
   },
   {
    "duration": 753,
    "start_time": "2021-12-18T11:44:17.138Z"
   },
   {
    "duration": 751,
    "start_time": "2021-12-18T11:44:17.141Z"
   },
   {
    "duration": 750,
    "start_time": "2021-12-18T11:44:17.143Z"
   },
   {
    "duration": 749,
    "start_time": "2021-12-18T11:44:17.146Z"
   },
   {
    "duration": 748,
    "start_time": "2021-12-18T11:44:17.148Z"
   },
   {
    "duration": 741,
    "start_time": "2021-12-18T11:44:17.156Z"
   },
   {
    "duration": 737,
    "start_time": "2021-12-18T11:44:17.162Z"
   },
   {
    "duration": 731,
    "start_time": "2021-12-18T11:44:17.169Z"
   },
   {
    "duration": 729,
    "start_time": "2021-12-18T11:44:17.172Z"
   },
   {
    "duration": 728,
    "start_time": "2021-12-18T11:44:17.175Z"
   },
   {
    "duration": 727,
    "start_time": "2021-12-18T11:44:17.177Z"
   },
   {
    "duration": 726,
    "start_time": "2021-12-18T11:44:17.180Z"
   },
   {
    "duration": 721,
    "start_time": "2021-12-18T11:44:17.186Z"
   },
   {
    "duration": 718,
    "start_time": "2021-12-18T11:44:17.190Z"
   },
   {
    "duration": 715,
    "start_time": "2021-12-18T11:44:17.194Z"
   },
   {
    "duration": 713,
    "start_time": "2021-12-18T11:44:17.198Z"
   },
   {
    "duration": 706,
    "start_time": "2021-12-18T11:44:17.206Z"
   },
   {
    "duration": 703,
    "start_time": "2021-12-18T11:44:17.210Z"
   },
   {
    "duration": 699,
    "start_time": "2021-12-18T11:44:17.216Z"
   },
   {
    "duration": 692,
    "start_time": "2021-12-18T11:44:17.224Z"
   },
   {
    "duration": 691,
    "start_time": "2021-12-18T11:44:17.226Z"
   },
   {
    "duration": 17,
    "start_time": "2021-12-18T11:48:12.858Z"
   },
   {
    "duration": 22,
    "start_time": "2021-12-18T11:48:14.107Z"
   },
   {
    "duration": 1338,
    "start_time": "2021-12-18T11:50:22.416Z"
   },
   {
    "duration": 637,
    "start_time": "2021-12-18T11:50:23.756Z"
   },
   {
    "duration": 6,
    "start_time": "2021-12-18T11:50:24.395Z"
   },
   {
    "duration": 5,
    "start_time": "2021-12-18T11:50:24.402Z"
   },
   {
    "duration": 7,
    "start_time": "2021-12-18T11:50:24.408Z"
   },
   {
    "duration": 178,
    "start_time": "2021-12-18T11:50:24.416Z"
   },
   {
    "duration": 182,
    "start_time": "2021-12-18T11:50:24.596Z"
   },
   {
    "duration": 8,
    "start_time": "2021-12-18T11:50:24.780Z"
   },
   {
    "duration": 7,
    "start_time": "2021-12-18T11:50:24.790Z"
   },
   {
    "duration": 23,
    "start_time": "2021-12-18T11:50:24.798Z"
   },
   {
    "duration": 7,
    "start_time": "2021-12-18T11:50:24.822Z"
   },
   {
    "duration": 18,
    "start_time": "2021-12-18T11:50:24.831Z"
   },
   {
    "duration": 17,
    "start_time": "2021-12-18T11:50:24.850Z"
   },
   {
    "duration": 82,
    "start_time": "2021-12-18T11:50:24.887Z"
   },
   {
    "duration": 807,
    "start_time": "2021-12-18T11:50:24.164Z"
   },
   {
    "duration": 805,
    "start_time": "2021-12-18T11:50:24.167Z"
   },
   {
    "duration": 804,
    "start_time": "2021-12-18T11:50:24.169Z"
   },
   {
    "duration": 795,
    "start_time": "2021-12-18T11:50:24.179Z"
   },
   {
    "duration": 790,
    "start_time": "2021-12-18T11:50:24.185Z"
   },
   {
    "duration": 788,
    "start_time": "2021-12-18T11:50:24.188Z"
   },
   {
    "duration": 787,
    "start_time": "2021-12-18T11:50:24.190Z"
   },
   {
    "duration": 786,
    "start_time": "2021-12-18T11:50:24.192Z"
   },
   {
    "duration": 784,
    "start_time": "2021-12-18T11:50:24.195Z"
   },
   {
    "duration": 783,
    "start_time": "2021-12-18T11:50:24.197Z"
   },
   {
    "duration": 781,
    "start_time": "2021-12-18T11:50:24.200Z"
   },
   {
    "duration": 780,
    "start_time": "2021-12-18T11:50:24.202Z"
   },
   {
    "duration": 772,
    "start_time": "2021-12-18T11:50:24.211Z"
   },
   {
    "duration": 771,
    "start_time": "2021-12-18T11:50:24.213Z"
   },
   {
    "duration": 770,
    "start_time": "2021-12-18T11:50:24.215Z"
   },
   {
    "duration": 769,
    "start_time": "2021-12-18T11:50:24.217Z"
   },
   {
    "duration": 767,
    "start_time": "2021-12-18T11:50:24.220Z"
   },
   {
    "duration": 766,
    "start_time": "2021-12-18T11:50:24.222Z"
   },
   {
    "duration": 765,
    "start_time": "2021-12-18T11:50:24.224Z"
   },
   {
    "duration": 764,
    "start_time": "2021-12-18T11:50:24.226Z"
   },
   {
    "duration": 763,
    "start_time": "2021-12-18T11:50:24.228Z"
   },
   {
    "duration": 756,
    "start_time": "2021-12-18T11:50:24.236Z"
   },
   {
    "duration": 753,
    "start_time": "2021-12-18T11:50:24.239Z"
   },
   {
    "duration": 752,
    "start_time": "2021-12-18T11:50:24.241Z"
   },
   {
    "duration": 751,
    "start_time": "2021-12-18T11:50:24.243Z"
   },
   {
    "duration": 750,
    "start_time": "2021-12-18T11:50:24.245Z"
   },
   {
    "duration": 750,
    "start_time": "2021-12-18T11:50:24.246Z"
   },
   {
    "duration": 749,
    "start_time": "2021-12-18T11:50:24.248Z"
   },
   {
    "duration": 748,
    "start_time": "2021-12-18T11:50:24.250Z"
   },
   {
    "duration": 748,
    "start_time": "2021-12-18T11:50:24.251Z"
   },
   {
    "duration": 747,
    "start_time": "2021-12-18T11:50:24.253Z"
   },
   {
    "duration": 746,
    "start_time": "2021-12-18T11:50:24.255Z"
   },
   {
    "duration": 744,
    "start_time": "2021-12-18T11:50:24.258Z"
   },
   {
    "duration": 744,
    "start_time": "2021-12-18T11:50:24.259Z"
   },
   {
    "duration": 743,
    "start_time": "2021-12-18T11:50:24.261Z"
   },
   {
    "duration": 743,
    "start_time": "2021-12-18T11:50:24.262Z"
   },
   {
    "duration": 742,
    "start_time": "2021-12-18T11:50:24.264Z"
   },
   {
    "duration": 376,
    "start_time": "2021-12-18T11:51:40.535Z"
   },
   {
    "duration": 275,
    "start_time": "2021-12-18T11:52:04.636Z"
   },
   {
    "duration": 258,
    "start_time": "2021-12-18T11:55:23.091Z"
   },
   {
    "duration": 265,
    "start_time": "2021-12-18T11:57:14.666Z"
   },
   {
    "duration": 386,
    "start_time": "2021-12-18T11:57:28.103Z"
   },
   {
    "duration": 7,
    "start_time": "2021-12-18T11:57:37.392Z"
   },
   {
    "duration": 245,
    "start_time": "2021-12-18T11:57:43.146Z"
   },
   {
    "duration": 246,
    "start_time": "2021-12-18T11:58:02.847Z"
   },
   {
    "duration": 303,
    "start_time": "2021-12-18T12:01:53.469Z"
   },
   {
    "duration": 2,
    "start_time": "2021-12-18T12:06:23.072Z"
   },
   {
    "duration": 256,
    "start_time": "2021-12-18T12:06:27.614Z"
   },
   {
    "duration": 1185,
    "start_time": "2021-12-18T12:09:37.069Z"
   },
   {
    "duration": 576,
    "start_time": "2021-12-18T12:09:38.256Z"
   },
   {
    "duration": 7697,
    "start_time": "2021-12-18T12:09:38.834Z"
   },
   {
    "duration": 805,
    "start_time": "2021-12-18T12:09:45.729Z"
   },
   {
    "duration": 801,
    "start_time": "2021-12-18T12:09:45.734Z"
   },
   {
    "duration": 798,
    "start_time": "2021-12-18T12:09:45.737Z"
   },
   {
    "duration": 796,
    "start_time": "2021-12-18T12:09:45.740Z"
   },
   {
    "duration": 795,
    "start_time": "2021-12-18T12:09:45.743Z"
   },
   {
    "duration": 793,
    "start_time": "2021-12-18T12:09:45.745Z"
   },
   {
    "duration": 792,
    "start_time": "2021-12-18T12:09:45.747Z"
   },
   {
    "duration": 791,
    "start_time": "2021-12-18T12:09:45.749Z"
   },
   {
    "duration": 790,
    "start_time": "2021-12-18T12:09:45.751Z"
   },
   {
    "duration": 789,
    "start_time": "2021-12-18T12:09:45.753Z"
   },
   {
    "duration": 788,
    "start_time": "2021-12-18T12:09:45.755Z"
   },
   {
    "duration": 787,
    "start_time": "2021-12-18T12:09:45.757Z"
   },
   {
    "duration": 786,
    "start_time": "2021-12-18T12:09:45.759Z"
   },
   {
    "duration": 786,
    "start_time": "2021-12-18T12:09:45.760Z"
   },
   {
    "duration": 785,
    "start_time": "2021-12-18T12:09:45.762Z"
   },
   {
    "duration": 783,
    "start_time": "2021-12-18T12:09:45.764Z"
   },
   {
    "duration": 782,
    "start_time": "2021-12-18T12:09:45.766Z"
   },
   {
    "duration": 781,
    "start_time": "2021-12-18T12:09:45.768Z"
   },
   {
    "duration": 780,
    "start_time": "2021-12-18T12:09:45.770Z"
   },
   {
    "duration": 778,
    "start_time": "2021-12-18T12:09:45.773Z"
   },
   {
    "duration": 777,
    "start_time": "2021-12-18T12:09:45.775Z"
   },
   {
    "duration": 769,
    "start_time": "2021-12-18T12:09:45.783Z"
   },
   {
    "duration": 764,
    "start_time": "2021-12-18T12:09:45.789Z"
   },
   {
    "duration": 763,
    "start_time": "2021-12-18T12:09:45.791Z"
   },
   {
    "duration": 761,
    "start_time": "2021-12-18T12:09:45.794Z"
   },
   {
    "duration": 761,
    "start_time": "2021-12-18T12:09:45.795Z"
   },
   {
    "duration": 758,
    "start_time": "2021-12-18T12:09:45.798Z"
   },
   {
    "duration": 757,
    "start_time": "2021-12-18T12:09:45.800Z"
   },
   {
    "duration": 756,
    "start_time": "2021-12-18T12:09:45.802Z"
   },
   {
    "duration": 755,
    "start_time": "2021-12-18T12:09:45.804Z"
   },
   {
    "duration": 753,
    "start_time": "2021-12-18T12:09:45.807Z"
   },
   {
    "duration": 753,
    "start_time": "2021-12-18T12:09:45.808Z"
   },
   {
    "duration": 752,
    "start_time": "2021-12-18T12:09:45.810Z"
   },
   {
    "duration": 750,
    "start_time": "2021-12-18T12:09:45.812Z"
   },
   {
    "duration": 749,
    "start_time": "2021-12-18T12:09:45.814Z"
   },
   {
    "duration": 749,
    "start_time": "2021-12-18T12:09:45.815Z"
   },
   {
    "duration": 747,
    "start_time": "2021-12-18T12:09:45.818Z"
   },
   {
    "duration": 746,
    "start_time": "2021-12-18T12:09:45.820Z"
   },
   {
    "duration": 745,
    "start_time": "2021-12-18T12:09:45.822Z"
   },
   {
    "duration": 744,
    "start_time": "2021-12-18T12:09:45.824Z"
   },
   {
    "duration": 742,
    "start_time": "2021-12-18T12:09:45.826Z"
   },
   {
    "duration": 734,
    "start_time": "2021-12-18T12:09:45.835Z"
   },
   {
    "duration": 733,
    "start_time": "2021-12-18T12:09:45.837Z"
   },
   {
    "duration": 732,
    "start_time": "2021-12-18T12:09:45.839Z"
   },
   {
    "duration": 731,
    "start_time": "2021-12-18T12:09:45.841Z"
   },
   {
    "duration": 744,
    "start_time": "2021-12-18T12:09:45.843Z"
   },
   {
    "duration": 743,
    "start_time": "2021-12-18T12:09:45.845Z"
   },
   {
    "duration": 743,
    "start_time": "2021-12-18T12:09:45.846Z"
   },
   {
    "duration": 556,
    "start_time": "2021-12-18T12:10:11.660Z"
   },
   {
    "duration": 1108,
    "start_time": "2021-12-18T12:10:41.344Z"
   },
   {
    "duration": 571,
    "start_time": "2021-12-18T12:10:42.453Z"
   },
   {
    "duration": 6,
    "start_time": "2021-12-18T12:10:43.026Z"
   },
   {
    "duration": 6,
    "start_time": "2021-12-18T12:10:43.033Z"
   },
   {
    "duration": 8,
    "start_time": "2021-12-18T12:10:43.040Z"
   },
   {
    "duration": 168,
    "start_time": "2021-12-18T12:10:43.049Z"
   },
   {
    "duration": 166,
    "start_time": "2021-12-18T12:10:43.219Z"
   },
   {
    "duration": 3,
    "start_time": "2021-12-18T12:10:43.387Z"
   },
   {
    "duration": 4,
    "start_time": "2021-12-18T12:10:43.393Z"
   },
   {
    "duration": 330,
    "start_time": "2021-12-18T12:10:43.399Z"
   },
   {
    "duration": 801,
    "start_time": "2021-12-18T12:10:42.931Z"
   },
   {
    "duration": 798,
    "start_time": "2021-12-18T12:10:42.935Z"
   },
   {
    "duration": 797,
    "start_time": "2021-12-18T12:10:42.937Z"
   },
   {
    "duration": 796,
    "start_time": "2021-12-18T12:10:42.939Z"
   },
   {
    "duration": 795,
    "start_time": "2021-12-18T12:10:42.941Z"
   },
   {
    "duration": 795,
    "start_time": "2021-12-18T12:10:42.942Z"
   },
   {
    "duration": 794,
    "start_time": "2021-12-18T12:10:42.944Z"
   },
   {
    "duration": 793,
    "start_time": "2021-12-18T12:10:42.946Z"
   },
   {
    "duration": 792,
    "start_time": "2021-12-18T12:10:42.948Z"
   },
   {
    "duration": 790,
    "start_time": "2021-12-18T12:10:42.950Z"
   },
   {
    "duration": 789,
    "start_time": "2021-12-18T12:10:42.952Z"
   },
   {
    "duration": 789,
    "start_time": "2021-12-18T12:10:42.953Z"
   },
   {
    "duration": 788,
    "start_time": "2021-12-18T12:10:42.955Z"
   },
   {
    "duration": 786,
    "start_time": "2021-12-18T12:10:42.957Z"
   },
   {
    "duration": 785,
    "start_time": "2021-12-18T12:10:42.959Z"
   },
   {
    "duration": 785,
    "start_time": "2021-12-18T12:10:42.960Z"
   },
   {
    "duration": 784,
    "start_time": "2021-12-18T12:10:42.962Z"
   },
   {
    "duration": 778,
    "start_time": "2021-12-18T12:10:42.969Z"
   },
   {
    "duration": 774,
    "start_time": "2021-12-18T12:10:42.974Z"
   },
   {
    "duration": 772,
    "start_time": "2021-12-18T12:10:42.976Z"
   },
   {
    "duration": 771,
    "start_time": "2021-12-18T12:10:42.978Z"
   },
   {
    "duration": 770,
    "start_time": "2021-12-18T12:10:42.980Z"
   },
   {
    "duration": 769,
    "start_time": "2021-12-18T12:10:42.982Z"
   },
   {
    "duration": 768,
    "start_time": "2021-12-18T12:10:42.984Z"
   },
   {
    "duration": 767,
    "start_time": "2021-12-18T12:10:42.986Z"
   },
   {
    "duration": 766,
    "start_time": "2021-12-18T12:10:42.988Z"
   },
   {
    "duration": 765,
    "start_time": "2021-12-18T12:10:42.990Z"
   },
   {
    "duration": 764,
    "start_time": "2021-12-18T12:10:42.992Z"
   },
   {
    "duration": 763,
    "start_time": "2021-12-18T12:10:42.993Z"
   },
   {
    "duration": 762,
    "start_time": "2021-12-18T12:10:42.995Z"
   },
   {
    "duration": 761,
    "start_time": "2021-12-18T12:10:42.997Z"
   },
   {
    "duration": 760,
    "start_time": "2021-12-18T12:10:42.999Z"
   },
   {
    "duration": 759,
    "start_time": "2021-12-18T12:10:43.001Z"
   },
   {
    "duration": 758,
    "start_time": "2021-12-18T12:10:43.002Z"
   },
   {
    "duration": 757,
    "start_time": "2021-12-18T12:10:43.004Z"
   },
   {
    "duration": 750,
    "start_time": "2021-12-18T12:10:43.012Z"
   },
   {
    "duration": 749,
    "start_time": "2021-12-18T12:10:43.014Z"
   },
   {
    "duration": 748,
    "start_time": "2021-12-18T12:10:43.016Z"
   },
   {
    "duration": 746,
    "start_time": "2021-12-18T12:10:43.018Z"
   },
   {
    "duration": 745,
    "start_time": "2021-12-18T12:10:43.020Z"
   },
   {
    "duration": 744,
    "start_time": "2021-12-18T12:10:43.022Z"
   },
   {
    "duration": 1149,
    "start_time": "2021-12-18T12:11:22.098Z"
   },
   {
    "duration": 831,
    "start_time": "2021-12-18T12:11:23.249Z"
   },
   {
    "duration": 6,
    "start_time": "2021-12-18T12:11:24.087Z"
   },
   {
    "duration": 413,
    "start_time": "2021-12-18T12:11:24.095Z"
   },
   {
    "duration": 14,
    "start_time": "2021-12-18T12:11:24.510Z"
   },
   {
    "duration": 172,
    "start_time": "2021-12-18T12:11:24.526Z"
   },
   {
    "duration": 188,
    "start_time": "2021-12-18T12:11:24.700Z"
   },
   {
    "duration": 4,
    "start_time": "2021-12-18T12:11:24.889Z"
   },
   {
    "duration": 7,
    "start_time": "2021-12-18T12:11:24.895Z"
   },
   {
    "duration": 24,
    "start_time": "2021-12-18T12:11:24.904Z"
   },
   {
    "duration": 7,
    "start_time": "2021-12-18T12:11:24.929Z"
   },
   {
    "duration": 19,
    "start_time": "2021-12-18T12:11:24.938Z"
   },
   {
    "duration": 38,
    "start_time": "2021-12-18T12:11:24.959Z"
   },
   {
    "duration": 422,
    "start_time": "2021-12-18T12:11:24.999Z"
   },
   {
    "duration": 803,
    "start_time": "2021-12-18T12:11:24.620Z"
   },
   {
    "duration": 802,
    "start_time": "2021-12-18T12:11:24.623Z"
   },
   {
    "duration": 801,
    "start_time": "2021-12-18T12:11:24.624Z"
   },
   {
    "duration": 800,
    "start_time": "2021-12-18T12:11:24.626Z"
   },
   {
    "duration": 799,
    "start_time": "2021-12-18T12:11:24.628Z"
   },
   {
    "duration": 797,
    "start_time": "2021-12-18T12:11:24.631Z"
   },
   {
    "duration": 796,
    "start_time": "2021-12-18T12:11:24.633Z"
   },
   {
    "duration": 794,
    "start_time": "2021-12-18T12:11:24.636Z"
   },
   {
    "duration": 787,
    "start_time": "2021-12-18T12:11:24.644Z"
   },
   {
    "duration": 785,
    "start_time": "2021-12-18T12:11:24.647Z"
   },
   {
    "duration": 784,
    "start_time": "2021-12-18T12:11:24.649Z"
   },
   {
    "duration": 783,
    "start_time": "2021-12-18T12:11:24.651Z"
   },
   {
    "duration": 783,
    "start_time": "2021-12-18T12:11:24.652Z"
   },
   {
    "duration": 781,
    "start_time": "2021-12-18T12:11:24.654Z"
   },
   {
    "duration": 780,
    "start_time": "2021-12-18T12:11:24.656Z"
   },
   {
    "duration": 779,
    "start_time": "2021-12-18T12:11:24.658Z"
   },
   {
    "duration": 779,
    "start_time": "2021-12-18T12:11:24.659Z"
   },
   {
    "duration": 779,
    "start_time": "2021-12-18T12:11:24.661Z"
   },
   {
    "duration": 778,
    "start_time": "2021-12-18T12:11:24.663Z"
   },
   {
    "duration": 776,
    "start_time": "2021-12-18T12:11:24.665Z"
   },
   {
    "duration": 775,
    "start_time": "2021-12-18T12:11:24.667Z"
   },
   {
    "duration": 775,
    "start_time": "2021-12-18T12:11:24.669Z"
   },
   {
    "duration": 774,
    "start_time": "2021-12-18T12:11:24.671Z"
   },
   {
    "duration": 773,
    "start_time": "2021-12-18T12:11:24.673Z"
   },
   {
    "duration": 772,
    "start_time": "2021-12-18T12:11:24.675Z"
   },
   {
    "duration": 771,
    "start_time": "2021-12-18T12:11:24.677Z"
   },
   {
    "duration": 764,
    "start_time": "2021-12-18T12:11:24.685Z"
   },
   {
    "duration": 762,
    "start_time": "2021-12-18T12:11:24.688Z"
   },
   {
    "duration": 761,
    "start_time": "2021-12-18T12:11:24.690Z"
   },
   {
    "duration": 760,
    "start_time": "2021-12-18T12:11:24.692Z"
   },
   {
    "duration": 759,
    "start_time": "2021-12-18T12:11:24.694Z"
   },
   {
    "duration": 757,
    "start_time": "2021-12-18T12:11:24.697Z"
   },
   {
    "duration": 756,
    "start_time": "2021-12-18T12:11:24.699Z"
   },
   {
    "duration": 755,
    "start_time": "2021-12-18T12:11:24.701Z"
   },
   {
    "duration": 754,
    "start_time": "2021-12-18T12:11:24.703Z"
   },
   {
    "duration": 753,
    "start_time": "2021-12-18T12:11:24.705Z"
   },
   {
    "duration": 753,
    "start_time": "2021-12-18T12:11:24.706Z"
   },
   {
    "duration": 305,
    "start_time": "2021-12-18T12:11:54.259Z"
   },
   {
    "duration": 279,
    "start_time": "2021-12-18T12:12:07.562Z"
   },
   {
    "duration": 251,
    "start_time": "2021-12-18T12:15:52.947Z"
   },
   {
    "duration": 256,
    "start_time": "2021-12-18T12:16:08.175Z"
   },
   {
    "duration": 17,
    "start_time": "2021-12-18T12:24:12.215Z"
   },
   {
    "duration": 1246,
    "start_time": "2021-12-18T12:25:45.079Z"
   },
   {
    "duration": 4,
    "start_time": "2021-12-18T12:25:55.100Z"
   },
   {
    "duration": 17,
    "start_time": "2021-12-18T12:27:42.434Z"
   },
   {
    "duration": 242,
    "start_time": "2021-12-18T12:29:19.775Z"
   },
   {
    "duration": 1135,
    "start_time": "2021-12-18T12:29:44.716Z"
   },
   {
    "duration": 711,
    "start_time": "2021-12-18T12:29:45.853Z"
   },
   {
    "duration": 6,
    "start_time": "2021-12-18T12:29:46.566Z"
   },
   {
    "duration": 5,
    "start_time": "2021-12-18T12:29:46.574Z"
   },
   {
    "duration": 14,
    "start_time": "2021-12-18T12:29:46.580Z"
   },
   {
    "duration": 166,
    "start_time": "2021-12-18T12:29:46.595Z"
   },
   {
    "duration": 165,
    "start_time": "2021-12-18T12:29:46.762Z"
   },
   {
    "duration": 3,
    "start_time": "2021-12-18T12:29:46.930Z"
   },
   {
    "duration": 6,
    "start_time": "2021-12-18T12:29:46.935Z"
   },
   {
    "duration": 20,
    "start_time": "2021-12-18T12:29:46.942Z"
   },
   {
    "duration": 24,
    "start_time": "2021-12-18T12:29:46.964Z"
   },
   {
    "duration": 16,
    "start_time": "2021-12-18T12:29:46.989Z"
   },
   {
    "duration": 8,
    "start_time": "2021-12-18T12:29:47.006Z"
   },
   {
    "duration": 16,
    "start_time": "2021-12-18T12:29:47.015Z"
   },
   {
    "duration": 327,
    "start_time": "2021-12-18T12:29:47.033Z"
   },
   {
    "duration": 822,
    "start_time": "2021-12-18T12:29:46.541Z"
   },
   {
    "duration": 818,
    "start_time": "2021-12-18T12:29:46.546Z"
   },
   {
    "duration": 809,
    "start_time": "2021-12-18T12:29:46.556Z"
   },
   {
    "duration": 802,
    "start_time": "2021-12-18T12:29:46.564Z"
   },
   {
    "duration": 800,
    "start_time": "2021-12-18T12:29:46.566Z"
   },
   {
    "duration": 799,
    "start_time": "2021-12-18T12:29:46.568Z"
   },
   {
    "duration": 799,
    "start_time": "2021-12-18T12:29:46.569Z"
   },
   {
    "duration": 798,
    "start_time": "2021-12-18T12:29:46.571Z"
   },
   {
    "duration": 796,
    "start_time": "2021-12-18T12:29:46.574Z"
   },
   {
    "duration": 795,
    "start_time": "2021-12-18T12:29:46.576Z"
   },
   {
    "duration": 794,
    "start_time": "2021-12-18T12:29:46.578Z"
   },
   {
    "duration": 793,
    "start_time": "2021-12-18T12:29:46.580Z"
   },
   {
    "duration": 791,
    "start_time": "2021-12-18T12:29:46.582Z"
   },
   {
    "duration": 782,
    "start_time": "2021-12-18T12:29:46.592Z"
   },
   {
    "duration": 781,
    "start_time": "2021-12-18T12:29:46.594Z"
   },
   {
    "duration": 779,
    "start_time": "2021-12-18T12:29:46.597Z"
   },
   {
    "duration": 778,
    "start_time": "2021-12-18T12:29:46.599Z"
   },
   {
    "duration": 777,
    "start_time": "2021-12-18T12:29:46.601Z"
   },
   {
    "duration": 775,
    "start_time": "2021-12-18T12:29:46.603Z"
   },
   {
    "duration": 774,
    "start_time": "2021-12-18T12:29:46.605Z"
   },
   {
    "duration": 773,
    "start_time": "2021-12-18T12:29:46.607Z"
   },
   {
    "duration": 772,
    "start_time": "2021-12-18T12:29:46.609Z"
   },
   {
    "duration": 772,
    "start_time": "2021-12-18T12:29:46.611Z"
   },
   {
    "duration": 770,
    "start_time": "2021-12-18T12:29:46.614Z"
   },
   {
    "duration": 769,
    "start_time": "2021-12-18T12:29:46.616Z"
   },
   {
    "duration": 768,
    "start_time": "2021-12-18T12:29:46.618Z"
   },
   {
    "duration": 767,
    "start_time": "2021-12-18T12:29:46.620Z"
   },
   {
    "duration": 766,
    "start_time": "2021-12-18T12:29:46.622Z"
   },
   {
    "duration": 765,
    "start_time": "2021-12-18T12:29:46.624Z"
   },
   {
    "duration": 764,
    "start_time": "2021-12-18T12:29:46.626Z"
   },
   {
    "duration": 762,
    "start_time": "2021-12-18T12:29:46.628Z"
   },
   {
    "duration": 761,
    "start_time": "2021-12-18T12:29:46.630Z"
   },
   {
    "duration": 760,
    "start_time": "2021-12-18T12:29:46.632Z"
   },
   {
    "duration": 759,
    "start_time": "2021-12-18T12:29:46.634Z"
   },
   {
    "duration": 758,
    "start_time": "2021-12-18T12:29:46.636Z"
   },
   {
    "duration": 756,
    "start_time": "2021-12-18T12:29:46.638Z"
   },
   {
    "duration": 756,
    "start_time": "2021-12-18T12:29:46.639Z"
   },
   {
    "duration": 251,
    "start_time": "2021-12-18T12:31:05.311Z"
   },
   {
    "duration": 280,
    "start_time": "2021-12-18T12:31:21.501Z"
   },
   {
    "duration": 288,
    "start_time": "2021-12-18T12:32:19.540Z"
   },
   {
    "duration": 253,
    "start_time": "2021-12-18T12:32:41.855Z"
   },
   {
    "duration": 8,
    "start_time": "2021-12-18T12:32:51.001Z"
   },
   {
    "duration": 10,
    "start_time": "2021-12-18T12:32:53.742Z"
   },
   {
    "duration": 25,
    "start_time": "2021-12-18T12:32:57.565Z"
   },
   {
    "duration": 7,
    "start_time": "2021-12-18T12:33:44.343Z"
   },
   {
    "duration": 8,
    "start_time": "2021-12-18T12:33:46.764Z"
   },
   {
    "duration": 7,
    "start_time": "2021-12-18T12:34:11.079Z"
   },
   {
    "duration": 7,
    "start_time": "2021-12-18T12:34:12.875Z"
   },
   {
    "duration": 7,
    "start_time": "2021-12-18T12:34:17.366Z"
   },
   {
    "duration": 8,
    "start_time": "2021-12-18T12:34:19.570Z"
   },
   {
    "duration": 268,
    "start_time": "2021-12-18T12:34:48.710Z"
   },
   {
    "duration": 4,
    "start_time": "2021-12-18T12:34:56.229Z"
   },
   {
    "duration": 8,
    "start_time": "2021-12-18T12:34:57.285Z"
   },
   {
    "duration": 1290,
    "start_time": "2021-12-18T12:35:05.467Z"
   },
   {
    "duration": 696,
    "start_time": "2021-12-18T12:35:06.759Z"
   },
   {
    "duration": 8,
    "start_time": "2021-12-18T12:35:07.460Z"
   },
   {
    "duration": 5,
    "start_time": "2021-12-18T12:35:07.469Z"
   },
   {
    "duration": 5,
    "start_time": "2021-12-18T12:35:07.488Z"
   },
   {
    "duration": 174,
    "start_time": "2021-12-18T12:35:07.495Z"
   },
   {
    "duration": 248,
    "start_time": "2021-12-18T12:35:07.670Z"
   },
   {
    "duration": 5,
    "start_time": "2021-12-18T12:35:07.921Z"
   },
   {
    "duration": 8,
    "start_time": "2021-12-18T12:35:07.927Z"
   },
   {
    "duration": 22,
    "start_time": "2021-12-18T12:35:07.936Z"
   },
   {
    "duration": 6,
    "start_time": "2021-12-18T12:35:07.960Z"
   },
   {
    "duration": 35,
    "start_time": "2021-12-18T12:35:07.968Z"
   },
   {
    "duration": 6,
    "start_time": "2021-12-18T12:35:08.005Z"
   },
   {
    "duration": 18,
    "start_time": "2021-12-18T12:35:08.013Z"
   },
   {
    "duration": 435,
    "start_time": "2021-12-18T12:35:08.033Z"
   },
   {
    "duration": 812,
    "start_time": "2021-12-18T12:35:07.659Z"
   },
   {
    "duration": 812,
    "start_time": "2021-12-18T12:35:07.661Z"
   },
   {
    "duration": 807,
    "start_time": "2021-12-18T12:35:07.668Z"
   },
   {
    "duration": 798,
    "start_time": "2021-12-18T12:35:07.678Z"
   },
   {
    "duration": 796,
    "start_time": "2021-12-18T12:35:07.681Z"
   },
   {
    "duration": 794,
    "start_time": "2021-12-18T12:35:07.684Z"
   },
   {
    "duration": 794,
    "start_time": "2021-12-18T12:35:07.686Z"
   },
   {
    "duration": 793,
    "start_time": "2021-12-18T12:35:07.688Z"
   },
   {
    "duration": 791,
    "start_time": "2021-12-18T12:35:07.691Z"
   },
   {
    "duration": 791,
    "start_time": "2021-12-18T12:35:07.693Z"
   },
   {
    "duration": 790,
    "start_time": "2021-12-18T12:35:07.695Z"
   },
   {
    "duration": 789,
    "start_time": "2021-12-18T12:35:07.697Z"
   },
   {
    "duration": 788,
    "start_time": "2021-12-18T12:35:07.699Z"
   },
   {
    "duration": 786,
    "start_time": "2021-12-18T12:35:07.702Z"
   },
   {
    "duration": 785,
    "start_time": "2021-12-18T12:35:07.704Z"
   },
   {
    "duration": 784,
    "start_time": "2021-12-18T12:35:07.706Z"
   },
   {
    "duration": 783,
    "start_time": "2021-12-18T12:35:07.708Z"
   },
   {
    "duration": 782,
    "start_time": "2021-12-18T12:35:07.710Z"
   },
   {
    "duration": 781,
    "start_time": "2021-12-18T12:35:07.712Z"
   },
   {
    "duration": 780,
    "start_time": "2021-12-18T12:35:07.714Z"
   },
   {
    "duration": 779,
    "start_time": "2021-12-18T12:35:07.716Z"
   },
   {
    "duration": 778,
    "start_time": "2021-12-18T12:35:07.718Z"
   },
   {
    "duration": 778,
    "start_time": "2021-12-18T12:35:07.720Z"
   },
   {
    "duration": 776,
    "start_time": "2021-12-18T12:35:07.723Z"
   },
   {
    "duration": 776,
    "start_time": "2021-12-18T12:35:07.724Z"
   },
   {
    "duration": 775,
    "start_time": "2021-12-18T12:35:07.726Z"
   },
   {
    "duration": 767,
    "start_time": "2021-12-18T12:35:07.735Z"
   },
   {
    "duration": 765,
    "start_time": "2021-12-18T12:35:07.738Z"
   },
   {
    "duration": 764,
    "start_time": "2021-12-18T12:35:07.740Z"
   },
   {
    "duration": 764,
    "start_time": "2021-12-18T12:35:07.742Z"
   },
   {
    "duration": 763,
    "start_time": "2021-12-18T12:35:07.744Z"
   },
   {
    "duration": 763,
    "start_time": "2021-12-18T12:35:07.745Z"
   },
   {
    "duration": 761,
    "start_time": "2021-12-18T12:35:07.748Z"
   },
   {
    "duration": 760,
    "start_time": "2021-12-18T12:35:07.750Z"
   },
   {
    "duration": 759,
    "start_time": "2021-12-18T12:35:07.752Z"
   },
   {
    "duration": 758,
    "start_time": "2021-12-18T12:35:07.754Z"
   },
   {
    "duration": 757,
    "start_time": "2021-12-18T12:35:07.756Z"
   },
   {
    "duration": 262,
    "start_time": "2021-12-18T12:35:33.309Z"
   },
   {
    "duration": 1155,
    "start_time": "2021-12-18T12:35:51.756Z"
   },
   {
    "duration": 657,
    "start_time": "2021-12-18T12:35:55.283Z"
   },
   {
    "duration": 8,
    "start_time": "2021-12-18T12:35:56.220Z"
   },
   {
    "duration": 3,
    "start_time": "2021-12-18T12:35:58.336Z"
   },
   {
    "duration": 9,
    "start_time": "2021-12-18T12:35:58.818Z"
   },
   {
    "duration": 164,
    "start_time": "2021-12-18T12:35:59.443Z"
   },
   {
    "duration": 161,
    "start_time": "2021-12-18T12:35:59.895Z"
   },
   {
    "duration": 5,
    "start_time": "2021-12-18T12:36:00.715Z"
   },
   {
    "duration": 3,
    "start_time": "2021-12-18T12:36:05.733Z"
   },
   {
    "duration": 23,
    "start_time": "2021-12-18T12:36:06.851Z"
   },
   {
    "duration": 8,
    "start_time": "2021-12-18T12:36:10.947Z"
   },
   {
    "duration": 1033,
    "start_time": "2021-12-18T12:36:11.861Z"
   },
   {
    "duration": 8,
    "start_time": "2021-12-18T12:36:38.181Z"
   },
   {
    "duration": 1163,
    "start_time": "2021-12-18T12:37:10.053Z"
   },
   {
    "duration": 631,
    "start_time": "2021-12-18T12:37:11.218Z"
   },
   {
    "duration": 6,
    "start_time": "2021-12-18T12:37:11.851Z"
   },
   {
    "duration": 5,
    "start_time": "2021-12-18T12:37:11.858Z"
   },
   {
    "duration": 29,
    "start_time": "2021-12-18T12:37:11.864Z"
   },
   {
    "duration": 164,
    "start_time": "2021-12-18T12:37:11.894Z"
   },
   {
    "duration": 171,
    "start_time": "2021-12-18T12:37:12.060Z"
   },
   {
    "duration": 5,
    "start_time": "2021-12-18T12:37:12.232Z"
   },
   {
    "duration": 16,
    "start_time": "2021-12-18T12:37:12.239Z"
   },
   {
    "duration": 40,
    "start_time": "2021-12-18T12:37:12.257Z"
   },
   {
    "duration": 25,
    "start_time": "2021-12-18T12:37:12.299Z"
   },
   {
    "duration": 24,
    "start_time": "2021-12-18T12:37:12.326Z"
   },
   {
    "duration": 4,
    "start_time": "2021-12-18T12:37:12.351Z"
   },
   {
    "duration": 17,
    "start_time": "2021-12-18T12:37:12.357Z"
   },
   {
    "duration": 461,
    "start_time": "2021-12-18T12:37:12.376Z"
   },
   {
    "duration": 819,
    "start_time": "2021-12-18T12:37:12.020Z"
   },
   {
    "duration": 817,
    "start_time": "2021-12-18T12:37:12.023Z"
   },
   {
    "duration": 817,
    "start_time": "2021-12-18T12:37:12.024Z"
   },
   {
    "duration": 815,
    "start_time": "2021-12-18T12:37:12.027Z"
   },
   {
    "duration": 814,
    "start_time": "2021-12-18T12:37:12.029Z"
   },
   {
    "duration": 812,
    "start_time": "2021-12-18T12:37:12.032Z"
   },
   {
    "duration": 811,
    "start_time": "2021-12-18T12:37:12.034Z"
   },
   {
    "duration": 807,
    "start_time": "2021-12-18T12:37:12.039Z"
   },
   {
    "duration": 806,
    "start_time": "2021-12-18T12:37:12.041Z"
   },
   {
    "duration": 797,
    "start_time": "2021-12-18T12:37:12.051Z"
   },
   {
    "duration": 793,
    "start_time": "2021-12-18T12:37:12.056Z"
   },
   {
    "duration": 791,
    "start_time": "2021-12-18T12:37:12.059Z"
   },
   {
    "duration": 790,
    "start_time": "2021-12-18T12:37:12.061Z"
   },
   {
    "duration": 789,
    "start_time": "2021-12-18T12:37:12.063Z"
   },
   {
    "duration": 788,
    "start_time": "2021-12-18T12:37:12.065Z"
   },
   {
    "duration": 787,
    "start_time": "2021-12-18T12:37:12.067Z"
   },
   {
    "duration": 787,
    "start_time": "2021-12-18T12:37:12.069Z"
   },
   {
    "duration": 784,
    "start_time": "2021-12-18T12:37:12.072Z"
   },
   {
    "duration": 783,
    "start_time": "2021-12-18T12:37:12.074Z"
   },
   {
    "duration": 782,
    "start_time": "2021-12-18T12:37:12.076Z"
   },
   {
    "duration": 781,
    "start_time": "2021-12-18T12:37:12.078Z"
   },
   {
    "duration": 778,
    "start_time": "2021-12-18T12:37:12.081Z"
   },
   {
    "duration": 777,
    "start_time": "2021-12-18T12:37:12.083Z"
   },
   {
    "duration": 776,
    "start_time": "2021-12-18T12:37:12.085Z"
   },
   {
    "duration": 769,
    "start_time": "2021-12-18T12:37:12.093Z"
   },
   {
    "duration": 766,
    "start_time": "2021-12-18T12:37:12.096Z"
   },
   {
    "duration": 765,
    "start_time": "2021-12-18T12:37:12.098Z"
   },
   {
    "duration": 764,
    "start_time": "2021-12-18T12:37:12.100Z"
   },
   {
    "duration": 764,
    "start_time": "2021-12-18T12:37:12.101Z"
   },
   {
    "duration": 761,
    "start_time": "2021-12-18T12:37:12.104Z"
   },
   {
    "duration": 760,
    "start_time": "2021-12-18T12:37:12.106Z"
   },
   {
    "duration": 759,
    "start_time": "2021-12-18T12:37:12.108Z"
   },
   {
    "duration": 757,
    "start_time": "2021-12-18T12:37:12.110Z"
   },
   {
    "duration": 756,
    "start_time": "2021-12-18T12:37:12.112Z"
   },
   {
    "duration": 755,
    "start_time": "2021-12-18T12:37:12.114Z"
   },
   {
    "duration": 753,
    "start_time": "2021-12-18T12:37:12.116Z"
   },
   {
    "duration": 753,
    "start_time": "2021-12-18T12:37:12.117Z"
   },
   {
    "duration": 4,
    "start_time": "2021-12-18T12:39:01.124Z"
   },
   {
    "duration": 2370,
    "start_time": "2021-12-18T12:39:32.708Z"
   },
   {
    "duration": 992,
    "start_time": "2021-12-18T12:39:35.080Z"
   },
   {
    "duration": 14,
    "start_time": "2021-12-18T12:39:36.075Z"
   },
   {
    "duration": 7,
    "start_time": "2021-12-18T12:39:36.091Z"
   },
   {
    "duration": 9,
    "start_time": "2021-12-18T12:39:36.100Z"
   },
   {
    "duration": 184,
    "start_time": "2021-12-18T12:39:36.111Z"
   },
   {
    "duration": 185,
    "start_time": "2021-12-18T12:39:36.297Z"
   },
   {
    "duration": 6,
    "start_time": "2021-12-18T12:39:36.483Z"
   },
   {
    "duration": 16,
    "start_time": "2021-12-18T12:39:36.493Z"
   },
   {
    "duration": 43,
    "start_time": "2021-12-18T12:39:36.511Z"
   },
   {
    "duration": 9,
    "start_time": "2021-12-18T12:39:36.556Z"
   },
   {
    "duration": 17,
    "start_time": "2021-12-18T12:39:36.568Z"
   },
   {
    "duration": 38,
    "start_time": "2021-12-18T12:39:36.587Z"
   },
   {
    "duration": 49,
    "start_time": "2021-12-18T12:39:36.627Z"
   },
   {
    "duration": 368,
    "start_time": "2021-12-18T12:39:36.678Z"
   },
   {
    "duration": 821,
    "start_time": "2021-12-18T12:39:36.227Z"
   },
   {
    "duration": 817,
    "start_time": "2021-12-18T12:39:36.232Z"
   },
   {
    "duration": 801,
    "start_time": "2021-12-18T12:39:36.249Z"
   },
   {
    "duration": 794,
    "start_time": "2021-12-18T12:39:36.257Z"
   },
   {
    "duration": 793,
    "start_time": "2021-12-18T12:39:36.259Z"
   },
   {
    "duration": 790,
    "start_time": "2021-12-18T12:39:36.263Z"
   },
   {
    "duration": 783,
    "start_time": "2021-12-18T12:39:36.270Z"
   },
   {
    "duration": 781,
    "start_time": "2021-12-18T12:39:36.273Z"
   },
   {
    "duration": 779,
    "start_time": "2021-12-18T12:39:36.276Z"
   },
   {
    "duration": 777,
    "start_time": "2021-12-18T12:39:36.279Z"
   },
   {
    "duration": 771,
    "start_time": "2021-12-18T12:39:36.286Z"
   },
   {
    "duration": 769,
    "start_time": "2021-12-18T12:39:36.289Z"
   },
   {
    "duration": 766,
    "start_time": "2021-12-18T12:39:36.293Z"
   },
   {
    "duration": 752,
    "start_time": "2021-12-18T12:39:36.308Z"
   },
   {
    "duration": 750,
    "start_time": "2021-12-18T12:39:36.310Z"
   },
   {
    "duration": 748,
    "start_time": "2021-12-18T12:39:36.313Z"
   },
   {
    "duration": 739,
    "start_time": "2021-12-18T12:39:36.323Z"
   },
   {
    "duration": 737,
    "start_time": "2021-12-18T12:39:36.326Z"
   },
   {
    "duration": 736,
    "start_time": "2021-12-18T12:39:36.328Z"
   },
   {
    "duration": 726,
    "start_time": "2021-12-18T12:39:36.340Z"
   },
   {
    "duration": 726,
    "start_time": "2021-12-18T12:39:36.342Z"
   },
   {
    "duration": 724,
    "start_time": "2021-12-18T12:39:36.345Z"
   },
   {
    "duration": 714,
    "start_time": "2021-12-18T12:39:36.356Z"
   },
   {
    "duration": 714,
    "start_time": "2021-12-18T12:39:36.358Z"
   },
   {
    "duration": 712,
    "start_time": "2021-12-18T12:39:36.361Z"
   },
   {
    "duration": 701,
    "start_time": "2021-12-18T12:39:36.374Z"
   },
   {
    "duration": 701,
    "start_time": "2021-12-18T12:39:36.376Z"
   },
   {
    "duration": 699,
    "start_time": "2021-12-18T12:39:36.379Z"
   },
   {
    "duration": 698,
    "start_time": "2021-12-18T12:39:36.382Z"
   },
   {
    "duration": 689,
    "start_time": "2021-12-18T12:39:36.392Z"
   },
   {
    "duration": 688,
    "start_time": "2021-12-18T12:39:36.394Z"
   },
   {
    "duration": 685,
    "start_time": "2021-12-18T12:39:36.398Z"
   },
   {
    "duration": 676,
    "start_time": "2021-12-18T12:39:36.408Z"
   },
   {
    "duration": 675,
    "start_time": "2021-12-18T12:39:36.410Z"
   },
   {
    "duration": 675,
    "start_time": "2021-12-18T12:39:36.412Z"
   },
   {
    "duration": 669,
    "start_time": "2021-12-18T12:39:36.424Z"
   },
   {
    "duration": 668,
    "start_time": "2021-12-18T12:39:36.426Z"
   },
   {
    "duration": 4,
    "start_time": "2021-12-18T12:41:25.260Z"
   },
   {
    "duration": 4,
    "start_time": "2021-12-18T12:44:09.246Z"
   },
   {
    "duration": 6,
    "start_time": "2021-12-18T12:44:40.730Z"
   },
   {
    "duration": 4,
    "start_time": "2021-12-18T12:44:43.398Z"
   },
   {
    "duration": 3,
    "start_time": "2021-12-18T12:46:51.797Z"
   },
   {
    "duration": 4,
    "start_time": "2021-12-18T12:47:27.613Z"
   },
   {
    "duration": 1119,
    "start_time": "2021-12-18T12:47:48.818Z"
   },
   {
    "duration": 689,
    "start_time": "2021-12-18T12:47:49.939Z"
   },
   {
    "duration": 6,
    "start_time": "2021-12-18T12:47:50.630Z"
   },
   {
    "duration": 9,
    "start_time": "2021-12-18T12:47:50.638Z"
   },
   {
    "duration": 10,
    "start_time": "2021-12-18T12:47:50.649Z"
   },
   {
    "duration": 167,
    "start_time": "2021-12-18T12:47:50.661Z"
   },
   {
    "duration": 172,
    "start_time": "2021-12-18T12:47:50.830Z"
   },
   {
    "duration": 4,
    "start_time": "2021-12-18T12:47:51.004Z"
   },
   {
    "duration": 11,
    "start_time": "2021-12-18T12:47:51.010Z"
   },
   {
    "duration": 26,
    "start_time": "2021-12-18T12:47:51.023Z"
   },
   {
    "duration": 16,
    "start_time": "2021-12-18T12:47:51.050Z"
   },
   {
    "duration": 21,
    "start_time": "2021-12-18T12:47:51.068Z"
   },
   {
    "duration": 6,
    "start_time": "2021-12-18T12:47:51.091Z"
   },
   {
    "duration": 5,
    "start_time": "2021-12-18T12:47:51.099Z"
   },
   {
    "duration": 8,
    "start_time": "2021-12-18T12:47:51.106Z"
   },
   {
    "duration": 4,
    "start_time": "2021-12-18T12:47:51.116Z"
   },
   {
    "duration": 14,
    "start_time": "2021-12-18T12:47:51.122Z"
   },
   {
    "duration": 3,
    "start_time": "2021-12-18T12:47:51.138Z"
   },
   {
    "duration": 5,
    "start_time": "2021-12-18T12:47:51.142Z"
   },
   {
    "duration": 123,
    "start_time": "2021-12-18T12:47:51.148Z"
   },
   {
    "duration": 606,
    "start_time": "2021-12-18T12:47:51.273Z"
   },
   {
    "duration": 45,
    "start_time": "2021-12-18T12:47:51.882Z"
   },
   {
    "duration": 28,
    "start_time": "2021-12-18T12:47:51.928Z"
   },
   {
    "duration": 3,
    "start_time": "2021-12-18T12:47:51.958Z"
   },
   {
    "duration": 36,
    "start_time": "2021-12-18T12:47:51.963Z"
   },
   {
    "duration": 3,
    "start_time": "2021-12-18T12:47:52.000Z"
   },
   {
    "duration": 4,
    "start_time": "2021-12-18T12:47:52.006Z"
   },
   {
    "duration": 344,
    "start_time": "2021-12-18T12:47:52.012Z"
   },
   {
    "duration": 256,
    "start_time": "2021-12-18T12:47:52.359Z"
   },
   {
    "duration": 263,
    "start_time": "2021-12-18T12:47:52.617Z"
   },
   {
    "duration": 212,
    "start_time": "2021-12-18T12:47:52.882Z"
   },
   {
    "duration": 209,
    "start_time": "2021-12-18T12:47:53.096Z"
   },
   {
    "duration": 6,
    "start_time": "2021-12-18T12:47:53.306Z"
   },
   {
    "duration": 19,
    "start_time": "2021-12-18T12:47:53.314Z"
   },
   {
    "duration": 17,
    "start_time": "2021-12-18T12:47:53.335Z"
   },
   {
    "duration": 37,
    "start_time": "2021-12-18T12:47:53.354Z"
   },
   {
    "duration": 235,
    "start_time": "2021-12-18T12:47:53.393Z"
   },
   {
    "duration": 25,
    "start_time": "2021-12-18T12:47:53.630Z"
   },
   {
    "duration": 247,
    "start_time": "2021-12-18T12:47:53.656Z"
   },
   {
    "duration": 4,
    "start_time": "2021-12-18T12:47:53.904Z"
   },
   {
    "duration": 9,
    "start_time": "2021-12-18T12:47:53.910Z"
   },
   {
    "duration": 11,
    "start_time": "2021-12-18T12:47:53.921Z"
   },
   {
    "duration": 5,
    "start_time": "2021-12-18T12:47:53.937Z"
   },
   {
    "duration": 23,
    "start_time": "2021-12-18T12:47:53.944Z"
   },
   {
    "duration": 21,
    "start_time": "2021-12-18T12:47:53.968Z"
   },
   {
    "duration": 2,
    "start_time": "2021-12-18T12:47:53.991Z"
   },
   {
    "duration": 5025,
    "start_time": "2021-12-18T12:47:53.995Z"
   },
   {
    "duration": 1674,
    "start_time": "2021-12-18T12:47:59.022Z"
   },
   {
    "duration": 9096,
    "start_time": "2021-12-18T12:48:00.699Z"
   },
   {
    "duration": 4455,
    "start_time": "2021-12-18T12:48:09.797Z"
   },
   {
    "duration": 6,
    "start_time": "2021-12-18T12:48:14.254Z"
   },
   {
    "duration": 10,
    "start_time": "2021-12-18T12:48:14.261Z"
   },
   {
    "duration": 4,
    "start_time": "2021-12-18T12:49:10.640Z"
   },
   {
    "duration": 351,
    "start_time": "2021-12-18T12:49:15.922Z"
   },
   {
    "duration": 1138,
    "start_time": "2021-12-18T12:49:21.817Z"
   },
   {
    "duration": 701,
    "start_time": "2021-12-18T12:49:22.957Z"
   },
   {
    "duration": 5,
    "start_time": "2021-12-18T12:49:23.660Z"
   },
   {
    "duration": 4,
    "start_time": "2021-12-18T12:49:23.667Z"
   },
   {
    "duration": 21,
    "start_time": "2021-12-18T12:49:23.673Z"
   },
   {
    "duration": 162,
    "start_time": "2021-12-18T12:49:23.695Z"
   },
   {
    "duration": 165,
    "start_time": "2021-12-18T12:49:23.858Z"
   },
   {
    "duration": 4,
    "start_time": "2021-12-18T12:49:24.025Z"
   },
   {
    "duration": 22,
    "start_time": "2021-12-18T12:49:24.031Z"
   },
   {
    "duration": 31,
    "start_time": "2021-12-18T12:49:24.055Z"
   },
   {
    "duration": 20,
    "start_time": "2021-12-18T12:49:24.088Z"
   },
   {
    "duration": 19,
    "start_time": "2021-12-18T12:49:24.110Z"
   },
   {
    "duration": 13,
    "start_time": "2021-12-18T12:49:24.132Z"
   },
   {
    "duration": 12,
    "start_time": "2021-12-18T12:49:24.147Z"
   },
   {
    "duration": 20,
    "start_time": "2021-12-18T12:49:24.160Z"
   },
   {
    "duration": 13,
    "start_time": "2021-12-18T12:49:24.182Z"
   },
   {
    "duration": 33,
    "start_time": "2021-12-18T12:49:24.197Z"
   },
   {
    "duration": 4,
    "start_time": "2021-12-18T12:49:24.231Z"
   },
   {
    "duration": 6,
    "start_time": "2021-12-18T12:49:24.236Z"
   },
   {
    "duration": 105,
    "start_time": "2021-12-18T12:49:24.244Z"
   },
   {
    "duration": 530,
    "start_time": "2021-12-18T12:49:24.351Z"
   },
   {
    "duration": 44,
    "start_time": "2021-12-18T12:49:24.884Z"
   },
   {
    "duration": 26,
    "start_time": "2021-12-18T12:49:24.930Z"
   },
   {
    "duration": 3,
    "start_time": "2021-12-18T12:49:24.957Z"
   },
   {
    "duration": 27,
    "start_time": "2021-12-18T12:49:24.962Z"
   },
   {
    "duration": 2,
    "start_time": "2021-12-18T12:49:24.990Z"
   },
   {
    "duration": 7,
    "start_time": "2021-12-18T12:49:24.996Z"
   },
   {
    "duration": 319,
    "start_time": "2021-12-18T12:49:25.005Z"
   },
   {
    "duration": 233,
    "start_time": "2021-12-18T12:49:25.326Z"
   },
   {
    "duration": 250,
    "start_time": "2021-12-18T12:49:25.561Z"
   },
   {
    "duration": 205,
    "start_time": "2021-12-18T12:49:25.813Z"
   },
   {
    "duration": 215,
    "start_time": "2021-12-18T12:49:26.020Z"
   },
   {
    "duration": 6,
    "start_time": "2021-12-18T12:49:26.237Z"
   },
   {
    "duration": 18,
    "start_time": "2021-12-18T12:49:26.244Z"
   },
   {
    "duration": 29,
    "start_time": "2021-12-18T12:49:26.264Z"
   },
   {
    "duration": 17,
    "start_time": "2021-12-18T12:49:26.294Z"
   },
   {
    "duration": 239,
    "start_time": "2021-12-18T12:49:26.313Z"
   },
   {
    "duration": 34,
    "start_time": "2021-12-18T12:49:26.554Z"
   },
   {
    "duration": 239,
    "start_time": "2021-12-18T12:49:26.589Z"
   },
   {
    "duration": 4,
    "start_time": "2021-12-18T12:49:26.830Z"
   },
   {
    "duration": 5,
    "start_time": "2021-12-18T12:49:26.836Z"
   },
   {
    "duration": 9,
    "start_time": "2021-12-18T12:49:26.842Z"
   },
   {
    "duration": 7,
    "start_time": "2021-12-18T12:49:26.852Z"
   },
   {
    "duration": 40,
    "start_time": "2021-12-18T12:49:26.861Z"
   },
   {
    "duration": 9,
    "start_time": "2021-12-18T12:49:26.903Z"
   },
   {
    "duration": 3,
    "start_time": "2021-12-18T12:49:26.914Z"
   },
   {
    "duration": 4713,
    "start_time": "2021-12-18T12:49:26.919Z"
   },
   {
    "duration": 1555,
    "start_time": "2021-12-18T12:49:31.634Z"
   },
   {
    "duration": 8941,
    "start_time": "2021-12-18T12:49:33.191Z"
   },
   {
    "duration": 5027,
    "start_time": "2021-12-18T12:49:42.134Z"
   },
   {
    "duration": 6,
    "start_time": "2021-12-18T12:49:47.162Z"
   },
   {
    "duration": 19,
    "start_time": "2021-12-18T12:49:47.170Z"
   },
   {
    "duration": 338,
    "start_time": "2021-12-18T12:51:49.109Z"
   },
   {
    "duration": 3,
    "start_time": "2021-12-18T13:11:07.156Z"
   },
   {
    "duration": 1141,
    "start_time": "2021-12-18T13:11:23.407Z"
   },
   {
    "duration": 703,
    "start_time": "2021-12-18T13:11:24.550Z"
   },
   {
    "duration": 5,
    "start_time": "2021-12-18T13:11:25.255Z"
   },
   {
    "duration": 11,
    "start_time": "2021-12-18T13:11:25.262Z"
   },
   {
    "duration": 14,
    "start_time": "2021-12-18T13:11:25.274Z"
   },
   {
    "duration": 163,
    "start_time": "2021-12-18T13:11:25.290Z"
   },
   {
    "duration": 169,
    "start_time": "2021-12-18T13:11:25.454Z"
   },
   {
    "duration": 4,
    "start_time": "2021-12-18T13:11:25.626Z"
   },
   {
    "duration": 4,
    "start_time": "2021-12-18T13:11:25.632Z"
   },
   {
    "duration": 23,
    "start_time": "2021-12-18T13:11:25.637Z"
   },
   {
    "duration": 27,
    "start_time": "2021-12-18T13:11:25.662Z"
   },
   {
    "duration": 9,
    "start_time": "2021-12-18T13:11:25.691Z"
   },
   {
    "duration": 15,
    "start_time": "2021-12-18T13:11:25.702Z"
   },
   {
    "duration": 5,
    "start_time": "2021-12-18T13:11:25.718Z"
   },
   {
    "duration": 5,
    "start_time": "2021-12-18T13:11:25.725Z"
   },
   {
    "duration": 4,
    "start_time": "2021-12-18T13:11:25.732Z"
   },
   {
    "duration": 17,
    "start_time": "2021-12-18T13:11:25.738Z"
   },
   {
    "duration": 3,
    "start_time": "2021-12-18T13:11:25.757Z"
   },
   {
    "duration": 4,
    "start_time": "2021-12-18T13:11:25.762Z"
   },
   {
    "duration": 100,
    "start_time": "2021-12-18T13:11:25.788Z"
   },
   {
    "duration": 481,
    "start_time": "2021-12-18T13:11:25.890Z"
   },
   {
    "duration": 44,
    "start_time": "2021-12-18T13:11:26.373Z"
   },
   {
    "duration": 28,
    "start_time": "2021-12-18T13:11:26.420Z"
   },
   {
    "duration": 3,
    "start_time": "2021-12-18T13:11:26.450Z"
   },
   {
    "duration": 34,
    "start_time": "2021-12-18T13:11:26.454Z"
   },
   {
    "duration": 2,
    "start_time": "2021-12-18T13:11:26.489Z"
   },
   {
    "duration": 6,
    "start_time": "2021-12-18T13:11:26.493Z"
   },
   {
    "duration": 315,
    "start_time": "2021-12-18T13:11:26.501Z"
   },
   {
    "duration": 235,
    "start_time": "2021-12-18T13:11:26.817Z"
   },
   {
    "duration": 238,
    "start_time": "2021-12-18T13:11:27.053Z"
   },
   {
    "duration": 205,
    "start_time": "2021-12-18T13:11:27.293Z"
   },
   {
    "duration": 214,
    "start_time": "2021-12-18T13:11:27.499Z"
   },
   {
    "duration": 6,
    "start_time": "2021-12-18T13:11:27.715Z"
   },
   {
    "duration": 18,
    "start_time": "2021-12-18T13:11:27.722Z"
   },
   {
    "duration": 18,
    "start_time": "2021-12-18T13:11:27.742Z"
   },
   {
    "duration": 37,
    "start_time": "2021-12-18T13:11:27.761Z"
   },
   {
    "duration": 234,
    "start_time": "2021-12-18T13:11:27.799Z"
   },
   {
    "duration": 24,
    "start_time": "2021-12-18T13:11:28.035Z"
   },
   {
    "duration": 238,
    "start_time": "2021-12-18T13:11:28.060Z"
   },
   {
    "duration": 3,
    "start_time": "2021-12-18T13:11:28.299Z"
   },
   {
    "duration": 6,
    "start_time": "2021-12-18T13:11:28.303Z"
   },
   {
    "duration": 8,
    "start_time": "2021-12-18T13:11:28.311Z"
   },
   {
    "duration": 13,
    "start_time": "2021-12-18T13:11:28.320Z"
   },
   {
    "duration": 22,
    "start_time": "2021-12-18T13:11:28.335Z"
   },
   {
    "duration": 7,
    "start_time": "2021-12-18T13:11:28.358Z"
   },
   {
    "duration": 2,
    "start_time": "2021-12-18T13:11:28.367Z"
   },
   {
    "duration": 4643,
    "start_time": "2021-12-18T13:11:28.371Z"
   },
   {
    "duration": 1372,
    "start_time": "2021-12-18T13:11:33.016Z"
   },
   {
    "duration": 8890,
    "start_time": "2021-12-18T13:11:34.391Z"
   },
   {
    "duration": 4477,
    "start_time": "2021-12-18T13:11:43.287Z"
   },
   {
    "duration": 6,
    "start_time": "2021-12-18T13:11:47.766Z"
   },
   {
    "duration": 20,
    "start_time": "2021-12-18T13:11:47.773Z"
   },
   {
    "duration": 1835,
    "start_time": "2021-12-18T17:04:39.864Z"
   },
   {
    "duration": 1349,
    "start_time": "2021-12-18T17:04:41.758Z"
   },
   {
    "duration": 12,
    "start_time": "2021-12-18T17:04:43.110Z"
   },
   {
    "duration": 4,
    "start_time": "2021-12-18T17:04:43.299Z"
   },
   {
    "duration": 25,
    "start_time": "2021-12-18T17:04:43.915Z"
   },
   {
    "duration": 301,
    "start_time": "2021-12-18T17:04:44.137Z"
   },
   {
    "duration": 323,
    "start_time": "2021-12-18T17:04:44.441Z"
   },
   {
    "duration": 6,
    "start_time": "2021-12-18T17:04:44.766Z"
   },
   {
    "duration": 4,
    "start_time": "2021-12-18T17:04:45.665Z"
   },
   {
    "duration": 35,
    "start_time": "2021-12-18T17:04:46.037Z"
   },
   {
    "duration": 11,
    "start_time": "2021-12-18T17:04:46.540Z"
   },
   {
    "duration": 7,
    "start_time": "2021-12-18T17:04:46.896Z"
   },
   {
    "duration": 7,
    "start_time": "2021-12-18T17:04:47.214Z"
   },
   {
    "duration": 6,
    "start_time": "2021-12-18T17:04:47.698Z"
   },
   {
    "duration": 6,
    "start_time": "2021-12-18T17:04:48.155Z"
   },
   {
    "duration": 104,
    "start_time": "2021-12-18T17:06:44.631Z"
   },
   {
    "duration": 6,
    "start_time": "2021-12-18T17:08:47.650Z"
   },
   {
    "duration": 21,
    "start_time": "2021-12-18T17:08:48.374Z"
   },
   {
    "duration": 5,
    "start_time": "2021-12-18T17:08:48.917Z"
   },
   {
    "duration": 41,
    "start_time": "2021-12-18T17:09:50.293Z"
   },
   {
    "duration": 345,
    "start_time": "2021-12-18T19:25:43.250Z"
   },
   {
    "duration": 1754,
    "start_time": "2021-12-18T19:25:53.630Z"
   },
   {
    "duration": 1061,
    "start_time": "2021-12-18T19:25:55.387Z"
   },
   {
    "duration": 10,
    "start_time": "2021-12-18T19:25:56.453Z"
   },
   {
    "duration": 5,
    "start_time": "2021-12-18T19:25:56.467Z"
   },
   {
    "duration": 45,
    "start_time": "2021-12-18T19:25:56.475Z"
   },
   {
    "duration": 393,
    "start_time": "2021-12-18T19:25:56.523Z"
   },
   {
    "duration": 321,
    "start_time": "2021-12-18T19:25:56.918Z"
   },
   {
    "duration": 7,
    "start_time": "2021-12-18T19:25:57.245Z"
   },
   {
    "duration": 5,
    "start_time": "2021-12-18T19:25:57.255Z"
   },
   {
    "duration": 78,
    "start_time": "2021-12-18T19:25:57.263Z"
   },
   {
    "duration": 14,
    "start_time": "2021-12-18T19:25:57.345Z"
   },
   {
    "duration": 8,
    "start_time": "2021-12-18T19:25:57.362Z"
   },
   {
    "duration": 60,
    "start_time": "2021-12-18T19:25:57.373Z"
   },
   {
    "duration": 7,
    "start_time": "2021-12-18T19:25:57.436Z"
   },
   {
    "duration": 8,
    "start_time": "2021-12-18T19:25:57.447Z"
   },
   {
    "duration": 7,
    "start_time": "2021-12-18T19:25:57.458Z"
   },
   {
    "duration": 73,
    "start_time": "2021-12-18T19:25:57.467Z"
   },
   {
    "duration": 6,
    "start_time": "2021-12-18T19:25:57.544Z"
   },
   {
    "duration": 78,
    "start_time": "2021-12-18T19:25:57.553Z"
   },
   {
    "duration": 6,
    "start_time": "2021-12-18T19:25:57.634Z"
   },
   {
    "duration": 225,
    "start_time": "2021-12-18T19:25:57.644Z"
   },
   {
    "duration": 622,
    "start_time": "2021-12-18T19:25:57.871Z"
   },
   {
    "duration": 91,
    "start_time": "2021-12-18T19:25:58.499Z"
   },
   {
    "duration": 72,
    "start_time": "2021-12-18T19:25:58.593Z"
   },
   {
    "duration": 4,
    "start_time": "2021-12-18T19:25:58.668Z"
   },
   {
    "duration": 45,
    "start_time": "2021-12-18T19:25:58.678Z"
   },
   {
    "duration": 4,
    "start_time": "2021-12-18T19:25:58.726Z"
   },
   {
    "duration": 7,
    "start_time": "2021-12-18T19:25:58.732Z"
   },
   {
    "duration": 524,
    "start_time": "2021-12-18T19:25:58.742Z"
   },
   {
    "duration": 541,
    "start_time": "2021-12-18T19:25:59.269Z"
   },
   {
    "duration": 428,
    "start_time": "2021-12-18T19:25:59.813Z"
   },
   {
    "duration": 385,
    "start_time": "2021-12-18T19:26:00.245Z"
   },
   {
    "duration": 415,
    "start_time": "2021-12-18T19:26:00.632Z"
   },
   {
    "duration": 10,
    "start_time": "2021-12-18T19:26:01.050Z"
   },
   {
    "duration": 54,
    "start_time": "2021-12-18T19:26:01.063Z"
   },
   {
    "duration": 23,
    "start_time": "2021-12-18T19:26:01.120Z"
   },
   {
    "duration": 25,
    "start_time": "2021-12-18T19:26:01.147Z"
   },
   {
    "duration": 516,
    "start_time": "2021-12-18T19:26:01.175Z"
   },
   {
    "duration": 55,
    "start_time": "2021-12-18T19:26:01.694Z"
   },
   {
    "duration": 517,
    "start_time": "2021-12-18T19:26:01.752Z"
   },
   {
    "duration": 5,
    "start_time": "2021-12-18T19:26:02.271Z"
   },
   {
    "duration": 21,
    "start_time": "2021-12-18T19:26:02.278Z"
   },
   {
    "duration": 29,
    "start_time": "2021-12-18T19:26:02.301Z"
   },
   {
    "duration": 14,
    "start_time": "2021-12-18T19:26:02.333Z"
   },
   {
    "duration": 30,
    "start_time": "2021-12-18T19:26:02.350Z"
   },
   {
    "duration": 44,
    "start_time": "2021-12-18T19:26:02.383Z"
   },
   {
    "duration": 4,
    "start_time": "2021-12-18T19:26:02.430Z"
   },
   {
    "duration": 6811,
    "start_time": "2021-12-18T19:26:02.436Z"
   },
   {
    "duration": 2069,
    "start_time": "2021-12-18T19:26:09.250Z"
   },
   {
    "duration": 14115,
    "start_time": "2021-12-18T19:26:11.323Z"
   },
   {
    "duration": 6395,
    "start_time": "2021-12-18T19:26:25.441Z"
   },
   {
    "duration": 12,
    "start_time": "2021-12-18T19:26:31.839Z"
   },
   {
    "duration": 28,
    "start_time": "2021-12-18T19:26:31.854Z"
   },
   {
    "duration": 1568,
    "start_time": "2021-12-18T19:39:31.885Z"
   },
   {
    "duration": 1008,
    "start_time": "2021-12-18T19:39:33.456Z"
   },
   {
    "duration": 9,
    "start_time": "2021-12-18T19:39:34.467Z"
   },
   {
    "duration": 9,
    "start_time": "2021-12-18T19:39:34.479Z"
   },
   {
    "duration": 33,
    "start_time": "2021-12-18T19:39:34.490Z"
   },
   {
    "duration": 358,
    "start_time": "2021-12-18T19:39:34.526Z"
   },
   {
    "duration": 533,
    "start_time": "2021-12-18T19:39:34.887Z"
   },
   {
    "duration": 7,
    "start_time": "2021-12-18T19:39:35.423Z"
   },
   {
    "duration": 9,
    "start_time": "2021-12-18T19:39:35.436Z"
   },
   {
    "duration": 78,
    "start_time": "2021-12-18T19:39:35.448Z"
   },
   {
    "duration": 12,
    "start_time": "2021-12-18T19:39:35.529Z"
   },
   {
    "duration": 8,
    "start_time": "2021-12-18T19:39:35.543Z"
   },
   {
    "duration": 21,
    "start_time": "2021-12-18T19:39:35.554Z"
   },
   {
    "duration": 42,
    "start_time": "2021-12-18T19:39:35.577Z"
   },
   {
    "duration": 8,
    "start_time": "2021-12-18T19:39:35.622Z"
   },
   {
    "duration": 6,
    "start_time": "2021-12-18T19:39:35.632Z"
   },
   {
    "duration": 80,
    "start_time": "2021-12-18T19:39:35.640Z"
   },
   {
    "duration": 4,
    "start_time": "2021-12-18T19:39:35.723Z"
   },
   {
    "duration": 45,
    "start_time": "2021-12-18T19:39:35.730Z"
   },
   {
    "duration": 5,
    "start_time": "2021-12-18T19:39:35.777Z"
   },
   {
    "duration": 211,
    "start_time": "2021-12-18T19:39:35.784Z"
   },
   {
    "duration": 581,
    "start_time": "2021-12-18T19:39:35.997Z"
   },
   {
    "duration": 96,
    "start_time": "2021-12-18T19:39:36.581Z"
   },
   {
    "duration": 75,
    "start_time": "2021-12-18T19:39:36.679Z"
   },
   {
    "duration": 5,
    "start_time": "2021-12-18T19:39:36.756Z"
   },
   {
    "duration": 17,
    "start_time": "2021-12-18T19:39:36.764Z"
   },
   {
    "duration": 30,
    "start_time": "2021-12-18T19:39:36.787Z"
   },
   {
    "duration": 6,
    "start_time": "2021-12-18T19:39:36.820Z"
   },
   {
    "duration": 657,
    "start_time": "2021-12-18T19:39:36.829Z"
   },
   {
    "duration": 547,
    "start_time": "2021-12-18T19:39:37.488Z"
   },
   {
    "duration": 479,
    "start_time": "2021-12-18T19:39:38.038Z"
   },
   {
    "duration": 403,
    "start_time": "2021-12-18T19:39:38.519Z"
   },
   {
    "duration": 408,
    "start_time": "2021-12-18T19:39:38.925Z"
   },
   {
    "duration": 8,
    "start_time": "2021-12-18T19:39:39.335Z"
   },
   {
    "duration": 25,
    "start_time": "2021-12-18T19:39:39.346Z"
   },
   {
    "duration": 54,
    "start_time": "2021-12-18T19:39:39.373Z"
   },
   {
    "duration": 23,
    "start_time": "2021-12-18T19:39:39.429Z"
   },
   {
    "duration": 468,
    "start_time": "2021-12-18T19:39:39.455Z"
   },
   {
    "duration": 36,
    "start_time": "2021-12-18T19:39:39.927Z"
   },
   {
    "duration": 487,
    "start_time": "2021-12-18T19:39:39.965Z"
   },
   {
    "duration": 4,
    "start_time": "2021-12-18T19:39:40.455Z"
   },
   {
    "duration": 8,
    "start_time": "2021-12-18T19:39:40.462Z"
   },
   {
    "duration": 45,
    "start_time": "2021-12-18T19:39:40.474Z"
   },
   {
    "duration": 11,
    "start_time": "2021-12-18T19:39:40.522Z"
   },
   {
    "duration": 31,
    "start_time": "2021-12-18T19:39:40.536Z"
   },
   {
    "duration": 48,
    "start_time": "2021-12-18T19:39:40.569Z"
   },
   {
    "duration": 4,
    "start_time": "2021-12-18T19:39:40.619Z"
   },
   {
    "duration": 6807,
    "start_time": "2021-12-18T19:39:40.625Z"
   },
   {
    "duration": 2187,
    "start_time": "2021-12-18T19:39:47.436Z"
   },
   {
    "duration": 13873,
    "start_time": "2021-12-18T19:39:49.626Z"
   },
   {
    "duration": 6958,
    "start_time": "2021-12-18T19:40:03.502Z"
   },
   {
    "duration": 10,
    "start_time": "2021-12-18T19:40:10.462Z"
   },
   {
    "duration": 41,
    "start_time": "2021-12-18T19:40:10.476Z"
   },
   {
    "duration": 1968,
    "start_time": "2021-12-18T19:50:04.816Z"
   },
   {
    "duration": 1032,
    "start_time": "2021-12-18T19:50:06.786Z"
   },
   {
    "duration": 9,
    "start_time": "2021-12-18T19:50:07.824Z"
   },
   {
    "duration": 5,
    "start_time": "2021-12-18T19:50:07.836Z"
   },
   {
    "duration": 11,
    "start_time": "2021-12-18T19:50:07.844Z"
   },
   {
    "duration": 342,
    "start_time": "2021-12-18T19:50:07.858Z"
   },
   {
    "duration": 305,
    "start_time": "2021-12-18T19:50:08.218Z"
   },
   {
    "duration": 6,
    "start_time": "2021-12-18T19:50:08.526Z"
   },
   {
    "duration": 7,
    "start_time": "2021-12-18T19:50:08.535Z"
   },
   {
    "duration": 79,
    "start_time": "2021-12-18T19:50:08.544Z"
   },
   {
    "duration": 11,
    "start_time": "2021-12-18T19:50:08.626Z"
   },
   {
    "duration": 19,
    "start_time": "2021-12-18T19:50:08.639Z"
   },
   {
    "duration": 38,
    "start_time": "2021-12-18T19:50:08.661Z"
   },
   {
    "duration": 29,
    "start_time": "2021-12-18T19:50:08.701Z"
   },
   {
    "duration": 29,
    "start_time": "2021-12-18T19:50:08.733Z"
   },
   {
    "duration": 14,
    "start_time": "2021-12-18T19:50:08.765Z"
   },
   {
    "duration": 37,
    "start_time": "2021-12-18T19:50:08.782Z"
   },
   {
    "duration": 6,
    "start_time": "2021-12-18T19:50:08.822Z"
   },
   {
    "duration": 45,
    "start_time": "2021-12-18T19:50:08.830Z"
   },
   {
    "duration": 4,
    "start_time": "2021-12-18T19:50:08.878Z"
   },
   {
    "duration": 221,
    "start_time": "2021-12-18T19:50:08.886Z"
   },
   {
    "duration": 567,
    "start_time": "2021-12-18T19:50:09.119Z"
   },
   {
    "duration": 93,
    "start_time": "2021-12-18T19:50:09.690Z"
   },
   {
    "duration": 72,
    "start_time": "2021-12-18T19:50:09.786Z"
   },
   {
    "duration": 5,
    "start_time": "2021-12-18T19:50:09.860Z"
   },
   {
    "duration": 28,
    "start_time": "2021-12-18T19:50:09.867Z"
   },
   {
    "duration": 20,
    "start_time": "2021-12-18T19:50:09.897Z"
   },
   {
    "duration": 11,
    "start_time": "2021-12-18T19:50:09.920Z"
   },
   {
    "duration": 547,
    "start_time": "2021-12-18T19:50:09.933Z"
   },
   {
    "duration": 474,
    "start_time": "2021-12-18T19:50:10.484Z"
   },
   {
    "duration": 471,
    "start_time": "2021-12-18T19:50:10.961Z"
   },
   {
    "duration": 383,
    "start_time": "2021-12-18T19:50:11.436Z"
   },
   {
    "duration": 418,
    "start_time": "2021-12-18T19:50:11.822Z"
   },
   {
    "duration": 11,
    "start_time": "2021-12-18T19:50:12.244Z"
   },
   {
    "duration": 27,
    "start_time": "2021-12-18T19:50:12.259Z"
   },
   {
    "duration": 44,
    "start_time": "2021-12-18T19:50:12.290Z"
   },
   {
    "duration": 24,
    "start_time": "2021-12-18T19:50:12.337Z"
   },
   {
    "duration": 495,
    "start_time": "2021-12-18T19:50:12.364Z"
   },
   {
    "duration": 33,
    "start_time": "2021-12-18T19:50:12.861Z"
   },
   {
    "duration": 457,
    "start_time": "2021-12-18T19:50:12.897Z"
   },
   {
    "duration": 4,
    "start_time": "2021-12-18T19:50:13.356Z"
   },
   {
    "duration": 6,
    "start_time": "2021-12-18T19:50:13.363Z"
   },
   {
    "duration": 11,
    "start_time": "2021-12-18T19:50:13.371Z"
   },
   {
    "duration": 37,
    "start_time": "2021-12-18T19:50:13.384Z"
   },
   {
    "duration": 27,
    "start_time": "2021-12-18T19:50:13.424Z"
   },
   {
    "duration": 11,
    "start_time": "2021-12-18T19:50:13.454Z"
   },
   {
    "duration": 3,
    "start_time": "2021-12-18T19:50:13.467Z"
   },
   {
    "duration": 6175,
    "start_time": "2021-12-18T19:50:13.473Z"
   },
   {
    "duration": 1568,
    "start_time": "2021-12-18T19:50:19.651Z"
   },
   {
    "duration": 11996,
    "start_time": "2021-12-18T19:50:21.221Z"
   },
   {
    "duration": 5981,
    "start_time": "2021-12-18T19:50:33.220Z"
   },
   {
    "duration": 15,
    "start_time": "2021-12-18T19:50:39.203Z"
   },
   {
    "duration": 11,
    "start_time": "2021-12-18T19:50:39.220Z"
   },
   {
    "duration": 1904,
    "start_time": "2021-12-18T20:02:29.487Z"
   },
   {
    "duration": 1024,
    "start_time": "2021-12-18T20:02:31.394Z"
   },
   {
    "duration": 12,
    "start_time": "2021-12-18T20:02:32.421Z"
   },
   {
    "duration": 7,
    "start_time": "2021-12-18T20:02:32.437Z"
   },
   {
    "duration": 12,
    "start_time": "2021-12-18T20:02:32.447Z"
   },
   {
    "duration": 462,
    "start_time": "2021-12-18T20:02:32.462Z"
   },
   {
    "duration": 398,
    "start_time": "2021-12-18T20:02:32.927Z"
   },
   {
    "duration": 7,
    "start_time": "2021-12-18T20:02:33.328Z"
   },
   {
    "duration": 5,
    "start_time": "2021-12-18T20:02:33.340Z"
   },
   {
    "duration": 90,
    "start_time": "2021-12-18T20:02:33.349Z"
   },
   {
    "duration": 13,
    "start_time": "2021-12-18T20:02:33.442Z"
   },
   {
    "duration": 10,
    "start_time": "2021-12-18T20:02:33.458Z"
   },
   {
    "duration": 54,
    "start_time": "2021-12-18T20:02:33.471Z"
   },
   {
    "duration": 6,
    "start_time": "2021-12-18T20:02:33.527Z"
   },
   {
    "duration": 7,
    "start_time": "2021-12-18T20:02:33.535Z"
   },
   {
    "duration": 6,
    "start_time": "2021-12-18T20:02:33.545Z"
   },
   {
    "duration": 77,
    "start_time": "2021-12-18T20:02:33.553Z"
   },
   {
    "duration": 5,
    "start_time": "2021-12-18T20:02:33.632Z"
   },
   {
    "duration": 43,
    "start_time": "2021-12-18T20:02:33.639Z"
   },
   {
    "duration": 4,
    "start_time": "2021-12-18T20:02:33.684Z"
   },
   {
    "duration": 187,
    "start_time": "2021-12-18T20:02:33.718Z"
   },
   {
    "duration": 589,
    "start_time": "2021-12-18T20:02:33.908Z"
   },
   {
    "duration": 93,
    "start_time": "2021-12-18T20:02:34.500Z"
   },
   {
    "duration": 71,
    "start_time": "2021-12-18T20:02:34.595Z"
   },
   {
    "duration": 5,
    "start_time": "2021-12-18T20:02:34.668Z"
   },
   {
    "duration": 46,
    "start_time": "2021-12-18T20:02:34.675Z"
   },
   {
    "duration": 4,
    "start_time": "2021-12-18T20:02:34.726Z"
   },
   {
    "duration": 9,
    "start_time": "2021-12-18T20:02:34.733Z"
   },
   {
    "duration": 540,
    "start_time": "2021-12-18T20:02:34.744Z"
   },
   {
    "duration": 442,
    "start_time": "2021-12-18T20:02:35.287Z"
   },
   {
    "duration": 427,
    "start_time": "2021-12-18T20:02:35.731Z"
   },
   {
    "duration": 388,
    "start_time": "2021-12-18T20:02:36.161Z"
   },
   {
    "duration": 397,
    "start_time": "2021-12-18T20:02:36.552Z"
   },
   {
    "duration": 10,
    "start_time": "2021-12-18T20:02:36.951Z"
   },
   {
    "duration": 22,
    "start_time": "2021-12-18T20:02:36.964Z"
   },
   {
    "duration": 22,
    "start_time": "2021-12-18T20:02:37.018Z"
   },
   {
    "duration": 22,
    "start_time": "2021-12-18T20:02:37.042Z"
   },
   {
    "duration": 450,
    "start_time": "2021-12-18T20:02:37.067Z"
   },
   {
    "duration": 36,
    "start_time": "2021-12-18T20:02:37.519Z"
   },
   {
    "duration": 451,
    "start_time": "2021-12-18T20:02:37.557Z"
   },
   {
    "duration": 6,
    "start_time": "2021-12-18T20:02:38.011Z"
   },
   {
    "duration": 6,
    "start_time": "2021-12-18T20:02:38.019Z"
   },
   {
    "duration": 13,
    "start_time": "2021-12-18T20:02:38.027Z"
   },
   {
    "duration": 9,
    "start_time": "2021-12-18T20:02:38.042Z"
   },
   {
    "duration": 76,
    "start_time": "2021-12-18T20:02:38.053Z"
   },
   {
    "duration": 11,
    "start_time": "2021-12-18T20:02:38.132Z"
   },
   {
    "duration": 3,
    "start_time": "2021-12-18T20:02:38.145Z"
   },
   {
    "duration": 6923,
    "start_time": "2021-12-18T20:02:38.150Z"
   },
   {
    "duration": 1851,
    "start_time": "2021-12-18T20:02:45.075Z"
   },
   {
    "duration": 13413,
    "start_time": "2021-12-18T20:02:46.930Z"
   },
   {
    "duration": 6136,
    "start_time": "2021-12-18T20:03:00.346Z"
   },
   {
    "duration": 10,
    "start_time": "2021-12-18T20:03:06.485Z"
   },
   {
    "duration": 33,
    "start_time": "2021-12-18T20:03:06.498Z"
   },
   {
    "duration": 1565,
    "start_time": "2022-02-01T19:53:49.091Z"
   },
   {
    "duration": 883,
    "start_time": "2022-02-01T19:53:50.659Z"
   },
   {
    "duration": 9,
    "start_time": "2022-02-01T19:53:51.546Z"
   },
   {
    "duration": 7,
    "start_time": "2022-02-01T19:53:51.558Z"
   },
   {
    "duration": 18,
    "start_time": "2022-02-01T19:53:51.567Z"
   },
   {
    "duration": 329,
    "start_time": "2022-02-01T19:53:51.588Z"
   },
   {
    "duration": 318,
    "start_time": "2022-02-01T19:53:51.919Z"
   },
   {
    "duration": 6,
    "start_time": "2022-02-01T19:53:52.242Z"
   },
   {
    "duration": 9,
    "start_time": "2022-02-01T19:53:52.251Z"
   },
   {
    "duration": 44,
    "start_time": "2022-02-01T19:53:52.262Z"
   },
   {
    "duration": 12,
    "start_time": "2022-02-01T19:53:52.332Z"
   },
   {
    "duration": 9,
    "start_time": "2022-02-01T19:53:52.346Z"
   },
   {
    "duration": 30,
    "start_time": "2022-02-01T19:53:52.358Z"
   },
   {
    "duration": 5,
    "start_time": "2022-02-01T19:53:52.392Z"
   },
   {
    "duration": 35,
    "start_time": "2022-02-01T19:53:52.400Z"
   },
   {
    "duration": 12,
    "start_time": "2022-02-01T19:53:52.437Z"
   },
   {
    "duration": 26,
    "start_time": "2022-02-01T19:53:52.452Z"
   },
   {
    "duration": 4,
    "start_time": "2022-02-01T19:53:52.481Z"
   },
   {
    "duration": 76,
    "start_time": "2022-02-01T19:53:52.487Z"
   },
   {
    "duration": 4,
    "start_time": "2022-02-01T19:53:52.566Z"
   },
   {
    "duration": 192,
    "start_time": "2022-02-01T19:53:52.572Z"
   },
   {
    "duration": 638,
    "start_time": "2022-02-01T19:53:52.767Z"
   },
   {
    "duration": 100,
    "start_time": "2022-02-01T19:53:53.411Z"
   },
   {
    "duration": 73,
    "start_time": "2022-02-01T19:53:53.514Z"
   },
   {
    "duration": 6,
    "start_time": "2022-02-01T19:53:53.589Z"
   },
   {
    "duration": 49,
    "start_time": "2022-02-01T19:53:53.598Z"
   },
   {
    "duration": 5,
    "start_time": "2022-02-01T19:53:53.650Z"
   },
   {
    "duration": 556,
    "start_time": "2022-02-01T19:53:53.657Z"
   },
   {
    "duration": 565,
    "start_time": "2022-02-01T19:53:54.216Z"
   },
   {
    "duration": 500,
    "start_time": "2022-02-01T19:53:54.788Z"
   },
   {
    "duration": 499,
    "start_time": "2022-02-01T19:53:55.291Z"
   },
   {
    "duration": 471,
    "start_time": "2022-02-01T19:53:55.794Z"
   },
   {
    "duration": 11,
    "start_time": "2022-02-01T19:53:56.269Z"
   },
   {
    "duration": 28,
    "start_time": "2022-02-01T19:53:56.284Z"
   },
   {
    "duration": 49,
    "start_time": "2022-02-01T19:53:56.314Z"
   },
   {
    "duration": 27,
    "start_time": "2022-02-01T19:53:56.366Z"
   },
   {
    "duration": 535,
    "start_time": "2022-02-01T19:53:56.397Z"
   },
   {
    "duration": 89,
    "start_time": "2022-02-01T19:53:56.934Z"
   },
   {
    "duration": 1352,
    "start_time": "2022-02-01T19:53:55.674Z"
   },
   {
    "duration": 1351,
    "start_time": "2022-02-01T19:53:55.676Z"
   },
   {
    "duration": 1348,
    "start_time": "2022-02-01T19:53:55.681Z"
   },
   {
    "duration": 1347,
    "start_time": "2022-02-01T19:53:55.683Z"
   },
   {
    "duration": 1347,
    "start_time": "2022-02-01T19:53:55.685Z"
   },
   {
    "duration": 1350,
    "start_time": "2022-02-01T19:53:55.687Z"
   },
   {
    "duration": 1342,
    "start_time": "2022-02-01T19:53:55.697Z"
   },
   {
    "duration": 1341,
    "start_time": "2022-02-01T19:53:55.700Z"
   },
   {
    "duration": 1335,
    "start_time": "2022-02-01T19:53:55.708Z"
   },
   {
    "duration": 1335,
    "start_time": "2022-02-01T19:53:55.710Z"
   },
   {
    "duration": 1333,
    "start_time": "2022-02-01T19:53:55.715Z"
   },
   {
    "duration": 1334,
    "start_time": "2022-02-01T19:53:55.717Z"
   },
   {
    "duration": 1335,
    "start_time": "2022-02-01T19:53:55.719Z"
   },
   {
    "duration": 1336,
    "start_time": "2022-02-01T19:53:55.721Z"
   },
   {
    "duration": 2140,
    "start_time": "2022-02-01T19:56:23.582Z"
   },
   {
    "duration": 956,
    "start_time": "2022-02-01T19:56:25.726Z"
   },
   {
    "duration": 11,
    "start_time": "2022-02-01T19:56:26.685Z"
   },
   {
    "duration": 5,
    "start_time": "2022-02-01T19:56:26.698Z"
   },
   {
    "duration": 30,
    "start_time": "2022-02-01T19:56:26.705Z"
   },
   {
    "duration": 461,
    "start_time": "2022-02-01T19:56:26.737Z"
   },
   {
    "duration": 331,
    "start_time": "2022-02-01T19:56:27.201Z"
   },
   {
    "duration": 6,
    "start_time": "2022-02-01T19:56:27.535Z"
   },
   {
    "duration": 6,
    "start_time": "2022-02-01T19:56:27.545Z"
   },
   {
    "duration": 46,
    "start_time": "2022-02-01T19:56:27.554Z"
   },
   {
    "duration": 15,
    "start_time": "2022-02-01T19:56:27.632Z"
   },
   {
    "duration": 17,
    "start_time": "2022-02-01T19:56:27.650Z"
   },
   {
    "duration": 28,
    "start_time": "2022-02-01T19:56:27.670Z"
   },
   {
    "duration": 6,
    "start_time": "2022-02-01T19:56:27.700Z"
   },
   {
    "duration": 34,
    "start_time": "2022-02-01T19:56:27.708Z"
   },
   {
    "duration": 5,
    "start_time": "2022-02-01T19:56:27.745Z"
   },
   {
    "duration": 23,
    "start_time": "2022-02-01T19:56:27.752Z"
   },
   {
    "duration": 6,
    "start_time": "2022-02-01T19:56:27.778Z"
   },
   {
    "duration": 103,
    "start_time": "2022-02-01T19:56:27.786Z"
   },
   {
    "duration": 5,
    "start_time": "2022-02-01T19:56:27.891Z"
   },
   {
    "duration": 215,
    "start_time": "2022-02-01T19:56:27.898Z"
   },
   {
    "duration": 760,
    "start_time": "2022-02-01T19:56:28.116Z"
   },
   {
    "duration": 98,
    "start_time": "2022-02-01T19:56:28.880Z"
   },
   {
    "duration": 81,
    "start_time": "2022-02-01T19:56:28.981Z"
   },
   {
    "duration": 5,
    "start_time": "2022-02-01T19:56:29.064Z"
   },
   {
    "duration": 23,
    "start_time": "2022-02-01T19:56:29.071Z"
   },
   {
    "duration": 32,
    "start_time": "2022-02-01T19:56:29.101Z"
   },
   {
    "duration": 539,
    "start_time": "2022-02-01T19:56:29.137Z"
   },
   {
    "duration": 460,
    "start_time": "2022-02-01T19:56:29.679Z"
   },
   {
    "duration": 475,
    "start_time": "2022-02-01T19:56:30.142Z"
   },
   {
    "duration": 418,
    "start_time": "2022-02-01T19:56:30.620Z"
   },
   {
    "duration": 424,
    "start_time": "2022-02-01T19:56:31.040Z"
   },
   {
    "duration": 9,
    "start_time": "2022-02-01T19:56:31.467Z"
   },
   {
    "duration": 28,
    "start_time": "2022-02-01T19:56:31.479Z"
   },
   {
    "duration": 42,
    "start_time": "2022-02-01T19:56:31.509Z"
   },
   {
    "duration": 26,
    "start_time": "2022-02-01T19:56:31.554Z"
   },
   {
    "duration": 472,
    "start_time": "2022-02-01T19:56:31.582Z"
   },
   {
    "duration": 35,
    "start_time": "2022-02-01T19:56:32.057Z"
   },
   {
    "duration": 469,
    "start_time": "2022-02-01T19:56:32.094Z"
   },
   {
    "duration": 4,
    "start_time": "2022-02-01T19:56:32.565Z"
   },
   {
    "duration": 8,
    "start_time": "2022-02-01T19:56:32.571Z"
   },
   {
    "duration": 12,
    "start_time": "2022-02-01T19:56:32.582Z"
   },
   {
    "duration": 37,
    "start_time": "2022-02-01T19:56:32.596Z"
   },
   {
    "duration": 48,
    "start_time": "2022-02-01T19:56:32.637Z"
   },
   {
    "duration": 16,
    "start_time": "2022-02-01T19:56:32.688Z"
   },
   {
    "duration": 27,
    "start_time": "2022-02-01T19:56:32.706Z"
   },
   {
    "duration": 1718,
    "start_time": "2022-02-01T19:56:45.814Z"
   },
   {
    "duration": 912,
    "start_time": "2022-02-01T19:56:47.536Z"
   },
   {
    "duration": 12,
    "start_time": "2022-02-01T19:56:48.452Z"
   },
   {
    "duration": 6,
    "start_time": "2022-02-01T19:56:48.468Z"
   },
   {
    "duration": 13,
    "start_time": "2022-02-01T19:56:48.477Z"
   },
   {
    "duration": 375,
    "start_time": "2022-02-01T19:56:48.493Z"
   },
   {
    "duration": 329,
    "start_time": "2022-02-01T19:56:48.871Z"
   },
   {
    "duration": 6,
    "start_time": "2022-02-01T19:56:49.203Z"
   },
   {
    "duration": 22,
    "start_time": "2022-02-01T19:56:49.213Z"
   },
   {
    "duration": 48,
    "start_time": "2022-02-01T19:56:49.238Z"
   },
   {
    "duration": 11,
    "start_time": "2022-02-01T19:56:49.288Z"
   },
   {
    "duration": 33,
    "start_time": "2022-02-01T19:56:49.301Z"
   },
   {
    "duration": 27,
    "start_time": "2022-02-01T19:56:49.336Z"
   },
   {
    "duration": 7,
    "start_time": "2022-02-01T19:56:49.366Z"
   },
   {
    "duration": 8,
    "start_time": "2022-02-01T19:56:49.375Z"
   },
   {
    "duration": 7,
    "start_time": "2022-02-01T19:56:49.385Z"
   },
   {
    "duration": 31,
    "start_time": "2022-02-01T19:56:49.446Z"
   },
   {
    "duration": 5,
    "start_time": "2022-02-01T19:56:49.479Z"
   },
   {
    "duration": 77,
    "start_time": "2022-02-01T19:56:49.486Z"
   },
   {
    "duration": 5,
    "start_time": "2022-02-01T19:56:49.565Z"
   },
   {
    "duration": 213,
    "start_time": "2022-02-01T19:56:49.572Z"
   },
   {
    "duration": 786,
    "start_time": "2022-02-01T19:56:49.788Z"
   },
   {
    "duration": 109,
    "start_time": "2022-02-01T19:56:50.581Z"
   },
   {
    "duration": 78,
    "start_time": "2022-02-01T19:56:50.694Z"
   },
   {
    "duration": 5,
    "start_time": "2022-02-01T19:56:50.775Z"
   },
   {
    "duration": 20,
    "start_time": "2022-02-01T19:56:50.783Z"
   },
   {
    "duration": 5,
    "start_time": "2022-02-01T19:56:50.806Z"
   },
   {
    "duration": 735,
    "start_time": "2022-02-01T19:56:50.834Z"
   },
   {
    "duration": 675,
    "start_time": "2022-02-01T19:56:51.573Z"
   },
   {
    "duration": 520,
    "start_time": "2022-02-01T19:56:52.251Z"
   },
   {
    "duration": 413,
    "start_time": "2022-02-01T19:56:52.774Z"
   },
   {
    "duration": 438,
    "start_time": "2022-02-01T19:56:53.190Z"
   },
   {
    "duration": 12,
    "start_time": "2022-02-01T19:56:53.633Z"
   },
   {
    "duration": 27,
    "start_time": "2022-02-01T19:56:53.648Z"
   },
   {
    "duration": 26,
    "start_time": "2022-02-01T19:56:53.677Z"
   },
   {
    "duration": 29,
    "start_time": "2022-02-01T19:56:53.733Z"
   },
   {
    "duration": 802,
    "start_time": "2022-02-01T19:56:53.764Z"
   },
   {
    "duration": 34,
    "start_time": "2022-02-01T19:56:54.569Z"
   },
   {
    "duration": 493,
    "start_time": "2022-02-01T19:56:54.605Z"
   },
   {
    "duration": 4,
    "start_time": "2022-02-01T19:56:55.100Z"
   },
   {
    "duration": 11,
    "start_time": "2022-02-01T19:56:55.107Z"
   },
   {
    "duration": 22,
    "start_time": "2022-02-01T19:56:55.121Z"
   },
   {
    "duration": 18,
    "start_time": "2022-02-01T19:56:55.145Z"
   },
   {
    "duration": 30,
    "start_time": "2022-02-01T19:56:55.166Z"
   },
   {
    "duration": 34,
    "start_time": "2022-02-01T19:56:55.198Z"
   },
   {
    "duration": 4,
    "start_time": "2022-02-01T19:56:55.236Z"
   },
   {
    "duration": 6668,
    "start_time": "2022-02-01T19:56:55.243Z"
   },
   {
    "duration": 2219,
    "start_time": "2022-02-01T19:57:01.914Z"
   },
   {
    "duration": 14191,
    "start_time": "2022-02-01T19:57:04.137Z"
   },
   {
    "duration": 6399,
    "start_time": "2022-02-01T19:57:18.334Z"
   },
   {
    "duration": 14,
    "start_time": "2022-02-01T19:57:24.736Z"
   },
   {
    "duration": 15,
    "start_time": "2022-02-01T19:57:24.753Z"
   }
  ],
  "kernelspec": {
   "display_name": "Python 3",
   "language": "python",
   "name": "python3"
  },
  "language_info": {
   "codemirror_mode": {
    "name": "ipython",
    "version": 3
   },
   "file_extension": ".py",
   "mimetype": "text/x-python",
   "name": "python",
   "nbconvert_exporter": "python",
   "pygments_lexer": "ipython3",
   "version": "3.7.8"
  },
  "toc": {
   "base_numbering": 1,
   "nav_menu": {},
   "number_sections": true,
   "sideBar": true,
   "skip_h1_title": true,
   "title_cell": "Содержание",
   "title_sidebar": "Contents",
   "toc_cell": true,
   "toc_position": {
    "height": "calc(100% - 180px)",
    "left": "10px",
    "top": "150px",
    "width": "366.594px"
   },
   "toc_section_display": true,
   "toc_window_display": false
  }
 },
 "nbformat": 4,
 "nbformat_minor": 2
}
